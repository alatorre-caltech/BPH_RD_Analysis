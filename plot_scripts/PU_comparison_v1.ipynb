{
 "cells": [
  {
   "cell_type": "markdown",
   "metadata": {},
   "source": [
    "PU comparison"
   ]
  },
  {
   "cell_type": "code",
   "execution_count": 2,
   "metadata": {
    "ExecuteTime": {
     "end_time": "2019-10-12T00:36:58.273565Z",
     "start_time": "2019-10-12T00:36:56.615219Z"
    }
   },
   "outputs": [
    {
     "name": "stdout",
     "output_type": "stream",
     "text": [
      "Welcome to JupyROOT 6.12/07\n"
     ]
    }
   ],
   "source": [
    "import numpy as np\n",
    "import scipy.stats as sps\n",
    "from glob import glob\n",
    "import matplotlib.pyplot as plt\n",
    "from scipy.special import factorial\n",
    "from scipy.optimize import minimize\n",
    "import uproot as ur\n",
    "import ROOT as rt\n",
    "import root_numpy as rtnp\n",
    "import ROOT.RooFit as rf\n",
    "from scipy.special import erf\n",
    "import sys, os, yaml\n",
    "sys.path.append('../lib')\n",
    "sys.path.append('../analysis')\n",
    "from histo_utilities import create_TH1D, create_TH2D, std_color_list, SetMaxToMaxHist, make_ratio_plot\n",
    "from cebefo_style import Set_2D_colz_graphics\n",
    "from progressBar import ProgressBar\n",
    "from array import array\n",
    "from categoriesDef import categories\n",
    "\n",
    "from analysis_utilities import drawOnCMSCanvas, getEff, DSetLoader\n",
    "from lumi_utilities import getLumiReport\n",
    "\n",
    "import CMS_lumi, tdrstyle\n",
    "tdrstyle.setTDRStyle()\n",
    "CMS_lumi.writeExtraText = 1\n",
    "CMS_lumi.extraText = \"     Internal\"\n",
    "\n",
    "donotdelete = []"
   ]
  },
  {
   "cell_type": "code",
   "execution_count": 3,
   "metadata": {},
   "outputs": [],
   "source": [
    "# load FWLite C++ libraries\n",
    "rt.gSystem.Load(\"libFWCoreFWLite.so\");\n",
    "rt.gSystem.Load(\"libDataFormatsFWLite.so\");\n",
    "rt.FWLiteEnabler.enable()\n",
    "\n",
    "# load FWlite python libraries\n",
    "from DataFormats.FWLite import Events\n",
    "from DataFormats.FWLite import Handle"
   ]
  },
  {
   "cell_type": "code",
   "execution_count": 4,
   "metadata": {},
   "outputs": [],
   "source": [
    "from prettytable import PrettyTable"
   ]
  },
  {
   "cell_type": "code",
   "execution_count": 5,
   "metadata": {
    "ExecuteTime": {
     "end_time": "2019-10-12T00:36:58.304521Z",
     "start_time": "2019-10-12T00:36:58.277534Z"
    }
   },
   "outputs": [],
   "source": [
    "rt.gErrorIgnoreLevel = rt.kError\n",
    "rt.RooMsgService.instance().setGlobalKillBelow(rt.RooFit.ERROR)"
   ]
  },
  {
   "cell_type": "code",
   "execution_count": 6,
   "metadata": {
    "ExecuteTime": {
     "end_time": "2019-10-12T00:36:58.323931Z",
     "start_time": "2019-10-12T00:36:58.308518Z"
    }
   },
   "outputs": [
    {
     "name": "stdout",
     "output_type": "stream",
     "text": [
      "1.86483\n",
      "2.01026\n",
      "5.27963\n",
      "mD* - mD0 = 0.14543\n"
     ]
    }
   ],
   "source": [
    "m_D0 = 1.86483 #1e-3*Particle.from_string('D0').mass\n",
    "print m_D0\n",
    "m_Dst = 2.01026 #1e-3*Particle.from_string('D*+').mass\n",
    "print m_Dst\n",
    "m_B0 = 5.27963 #1e-3*Particle.from_string('B0').mass\n",
    "print m_B0\n",
    "m_pi = 0.13957018 #1e-3*Particle.from_string('pi+').mass\n",
    "print 'mD* - mD0 =', m_Dst - m_D0"
   ]
  },
  {
   "cell_type": "code",
   "execution_count": 7,
   "metadata": {},
   "outputs": [],
   "source": [
    "colors = [rt.kBlack, rt.kAzure+1, rt.kRed-4, rt.kGreen+1, rt.kViolet-7]"
   ]
  },
  {
   "cell_type": "code",
   "execution_count": 8,
   "metadata": {
    "ExecuteTime": {
     "end_time": "2019-10-12T00:36:58.543204Z",
     "start_time": "2019-10-12T00:36:58.523898Z"
    }
   },
   "outputs": [],
   "source": [
    "cl = rt.TLine()\n",
    "cl.SetLineColor(6)\n",
    "cl.SetLineStyle(9)\n",
    "cl.SetLineWidth(2)"
   ]
  },
  {
   "cell_type": "code",
   "execution_count": 9,
   "metadata": {},
   "outputs": [],
   "source": [
    "def extractEff(fn):\n",
    "    with open(fn) as f:\n",
    "        for l in f.readlines():\n",
    "            if not l.startswith('Eff'): continue\n",
    "            return [float(l.split(' ')[1]), float(l.split(' ')[3])]\n",
    "    return [None, None]"
   ]
  },
  {
   "cell_type": "code",
   "execution_count": 10,
   "metadata": {},
   "outputs": [],
   "source": [
    "def extractNacc(fn):\n",
    "    with open(fn) as f:\n",
    "        for l in f.readlines():\n",
    "            if not l.startswith('N_accepted'): continue\n",
    "            return int(l.split(' ')[1])\n",
    "    return None"
   ]
  },
  {
   "cell_type": "markdown",
   "metadata": {},
   "source": [
    "# B2DstMu"
   ]
  },
  {
   "cell_type": "markdown",
   "metadata": {},
   "source": [
    "## Data"
   ]
  },
  {
   "cell_type": "code",
   "execution_count": 15,
   "metadata": {},
   "outputs": [
    {
     "name": "stdout",
     "output_type": "stream",
     "text": [
      "Event fraction low: 0.489 +/ 0.000\n",
      "Event fraction low: 0.492 +/ 0.000\n",
      "Event fraction low: 0.484 +/ 0.000\n",
      "Event fraction low: 0.492 +/ 0.000\n",
      "Event fraction low: 0.491 +/ 0.000\n"
     ]
    }
   ],
   "source": [
    "loc = '../data/cmsRD/ParkingBPH{}/Run2018D-05May2019promptD-v1_RDntuplizer_PrescaleVertices_200417_CAND.root'\n",
    "hlistLow = []\n",
    "hlistMid = []\n",
    "hlistHigh = []\n",
    "fAux = []\n",
    "\n",
    "for i in range(1, 6):\n",
    "    fAux.append(rt.TFile.Open(loc.format(i), 'READ'))\n",
    "    hlistLow.append(fAux[-1].Get('nVtx/hNvtxMu7_IP4').Clone())\n",
    "    hlistMid.append(fAux[-1].Get('nVtx/hNvtxMu9_IP6').Clone())\n",
    "    hlistHigh.append(fAux[-1].Get('nVtx/hNvtxMu12_IP6').Clone())\n",
    "    \n",
    "    print 'Event fraction low: {:.3f} +/ {:.3f}'.format(*getEff(hlistLow[-1].GetEntries(), hlistHigh[-1].GetEntries()))"
   ]
  },
  {
   "cell_type": "code",
   "execution_count": 16,
   "metadata": {},
   "outputs": [
    {
     "name": "stdout",
     "output_type": "stream",
     "text": [
      "Event fraction low: 0.087 +/ 0.000\n",
      "Event fraction low: 0.087 +/ 0.000\n",
      "Event fraction low: 0.086 +/ 0.000\n",
      "Event fraction low: 0.087 +/ 0.000\n",
      "Event fraction low: 0.086 +/ 0.000\n"
     ]
    }
   ],
   "source": [
    "loc = '../data/cmsRD/ParkingBPH{}/Run2018C-05May2019-v1_RDntuplizer_PrescaleVertices_200417_CAND.root'\n",
    "hlistLowC = []\n",
    "# hlistMid = []\n",
    "hlistHighC = []\n",
    "fAuxC = []\n",
    "\n",
    "for i in range(1, 6):\n",
    "    fAuxC.append(rt.TFile.Open(loc.format(i), 'READ'))\n",
    "    hlistLowC.append(fAuxC[-1].Get('nVtx/hNvtxMu7_IP4').Clone())\n",
    "#     hlistMid.append(fAux[-1].Get('nVtx/hNvtxMu9_IP6').Clone())\n",
    "    hlistHighC.append(fAuxC[-1].Get('nVtx/hNvtxMu12_IP6').Clone())\n",
    "    \n",
    "    print 'Event fraction low: {:.3f} +/ {:.3f}'.format(*getEff(hlistLowC[-1].GetEntries(), hlistHighC[-1].GetEntries()))"
   ]
  },
  {
   "cell_type": "code",
   "execution_count": 18,
   "metadata": {},
   "outputs": [
    {
     "data": {
      "image/png": "[encoded data removed]",
      "text/plain": [
       "<IPython.core.display.Image object>"
      ]
     },
     "metadata": {},
     "output_type": "display_data"
    }
   ],
   "source": [
    "for i in range(0, 5):\n",
    "    hlistLow[i].SetLineColor(colors[i])\n",
    "    hlistLow[i].SetLineWidth(2)\n",
    "    hlistLow[i].Scale(1./hlistLow[i].Integral())\n",
    "    hlistLow[i].GetXaxis().SetRange(1, 40)\n",
    "    \n",
    "for i in range(0, 5):\n",
    "    hlistLowC[i].SetLineColor(colors[i])\n",
    "    hlistLowC[i].SetLineWidth(2)\n",
    "    hlistLowC[i].Scale(1./hlistLowC[i].Integral())\n",
    "    hlistLowC[i].GetXaxis().SetRange(1, 40)\n",
    "    \n",
    "m = SetMaxToMaxHist(hlistLow+hlistLowC)\n",
    "c = drawOnCMSCanvas(CMS_lumi, hlistLow+hlistLowC, 'same')"
   ]
  },
  {
   "cell_type": "code",
   "execution_count": null,
   "metadata": {},
   "outputs": [],
   "source": [
    "RDloc = '../data/cmsRD/skimmed/B2DstMu_200410_{}_corr.root'\n",
    "lumiFiles = glob('../data/cmsRD/lumiReport/ParkingBPH*_Run2018*_B2DstMu_200410_brilcalcPerTrigger.yaml')\n",
    "\n",
    "# Get the lumi\n",
    "lumis = []\n",
    "for ic, cat in enumerate(['low', 'mid', 'high']):\n",
    "    trg = categories[cat].trg\n",
    "    k = categories[cat].name\n",
    "    lumiInt = 0\n",
    "    for fn in lumiFiles:\n",
    "        d = yaml.load(open(fn, 'r'))\n",
    "        for n, v in d.iteritems():\n",
    "            if trg in n:\n",
    "                lumiInt += v\n",
    "    lumis.append('{:.1f} fb^{{-1}} ({})'.format(lumiInt, k))\n",
    "CMS_lumi.integrated_lumi_string = ' + '.join(lumis)\n",
    "                \n",
    "\n",
    "# Fill the histo\n",
    "leg = rt.TLegend(0.7, 0.7, 0.95, 0.9)\n",
    "leg.SetBorderSize(0)\n",
    "leg.SetTextFont(42)\n",
    "\n",
    "hlist = []\n",
    "stack = False\n",
    "for ic, cat in enumerate(['Low', 'Mid', 'High']):\n",
    "    t = ur.open(RDloc.format(cat))['Tevts']\n",
    "    x = np.array(t.array('N_vtx'))\n",
    "    h = create_TH1D(x, binning=[61, -0.5, 60.5], axis_title=['Number of PV reco', 'Events'])\n",
    "    leg.AddEntry(h, cat, 'f')\n",
    "    if stack:\n",
    "        h.SetFillColor(colors[ic])\n",
    "        h.SetFillStyle(3001)\n",
    "        h.SetLineWidth(0)\n",
    "        if ic > 0:\n",
    "            h.Add(hlist[0])\n",
    "    else:\n",
    "        h.SetLineColor(colors[ic])\n",
    "    hlist = [h] + hlist\n",
    "\n",
    "c = drawOnCMSCanvas(CMS_lumi, hlist, 'same')\n",
    "leg.Draw()\n",
    "hRD_PU_catList = hlist"
   ]
  },
  {
   "cell_type": "markdown",
   "metadata": {},
   "source": [
    "## MC comparison"
   ]
  },
  {
   "cell_type": "code",
   "execution_count": null,
   "metadata": {},
   "outputs": [],
   "source": [
    "CMS_lumi.integrated_lumi_string = ''"
   ]
  },
  {
   "cell_type": "code",
   "execution_count": null,
   "metadata": {},
   "outputs": [],
   "source": [
    "PU_list = ['0', '20', '35', 'c0']\n",
    "MCsample = {}\n",
    "dSetSall = {}\n",
    "dSetS17 = {'Low':{}, 'Mid':{}, 'High':{}}\n",
    "for n in PU_list:\n",
    "    print n\n",
    "    MCsample[n] = DSetLoader('B0_MuNuDmst_PU'+n)\n",
    "    dSetSall[n] = rtnp.root2array(MCsample[n].skimmed_dir + '/None_skipall_corr.root')\n",
    "    for cat in dSetS17.keys():\n",
    "        dSetS17[cat][n] =  rtnp.root2array(MCsample[n].skimmed_dir + '/{}_skip17_corr.root'.format(cat))"
   ]
  },
  {
   "cell_type": "markdown",
   "metadata": {},
   "source": [
    "### Bare spectrum comparison"
   ]
  },
  {
   "cell_type": "code",
   "execution_count": null,
   "metadata": {},
   "outputs": [],
   "source": [
    "leg = rt.TLegend(0.7, 0.7, 0.95, 0.9)\n",
    "leg.SetBorderSize(0)\n",
    "leg.SetTextFont(42)\n",
    "hlist = [hRD_PU_catList[2].Clone()]\n",
    "hlist[0].SetLineColor(1)\n",
    "hlist[0].Scale(1./hlist[0].Integral())\n",
    "leg.AddEntry(hlist[0], 'Data Low', 'lep')\n",
    "\n",
    "for i, (n, ds) in enumerate(dSetSall.iteritems()):\n",
    "    h = create_TH1D(ds['N_vtx'], binning=[61, -0.5, 60.5], \n",
    "                    axis_title=['Number of PV reco', 'Events'], \n",
    "                    scale_histo='norm')\n",
    "    leg.AddEntry(h, n, 'lep')\n",
    "    h.SetLineColor(colors[i+1])\n",
    "    hlist.append(h)\n",
    "\n",
    "m = SetMaxToMaxHist(hlist)\n",
    "c = drawOnCMSCanvas(CMS_lumi, hlist, 'same')\n",
    "hlist[0].GetYaxis().SetRangeUser(1e-5, m)\n",
    "leg.Draw()\n",
    "c.SetLogy()"
   ]
  },
  {
   "cell_type": "code",
   "execution_count": null,
   "metadata": {},
   "outputs": [],
   "source": [
    "cat = 'Low'\n",
    "plt.figure(figsize=(18,7))\n",
    "for n in ['0', '20', '35', 'c0']:\n",
    "    ds = dSetS17[cat][n]\n",
    "#     ds = dSetSall[n]\n",
    "    fAux = rt.TFile.Open(MCsample[n].skimmed_dir + '/None_skipall_corr.root', 'READ')\n",
    "    hMINI = fAux.Get('hAllNvtx')\n",
    "    hMINI.Scale(1./hMINI.Integral())\n",
    "    \n",
    "    hS17 = create_TH1D(ds['N_vtx'], 'hS17', h2clone=hMINI, scale_histo='norm')\n",
    "\n",
    "    sel = ds['N_goodAddTks'] == 0\n",
    "    hSig = create_TH1D(ds['N_vtx'][sel], 'hSig', h2clone=hMINI, scale_histo='norm')\n",
    "\n",
    "    sel = ds['N_goodAddTks'] == 1\n",
    "    hSide = create_TH1D(ds['N_vtx'][sel], 'hSide', h2clone=hMINI, scale_histo='norm')\n",
    "\n",
    "    x = []\n",
    "    rSig = []\n",
    "    rSide = []\n",
    "    rS17 = []\n",
    "    for i in range(1, hMINI.GetNbinsX()+1):\n",
    "        x.append(hMINI.GetBinCenter(i))\n",
    "        y = hMINI.GetBinContent(i)\n",
    "        yerr = hMINI.GetBinError(i)\n",
    "\n",
    "        if y == 0:\n",
    "            rSig.append([0,0])\n",
    "            rSide.append([0,0])\n",
    "            rS17.append([0,0])\n",
    "        else:\n",
    "            ySig = hSig.GetBinContent(i)\n",
    "            ySigerr = hSig.GetBinError(i)\n",
    "            if ySig == 0:\n",
    "                rErr = 0\n",
    "            else:\n",
    "                rErr = ySig/y*np.hypot(yerr/y, ySigerr/ySig)\n",
    "            rSig.append([ySig/y, rErr])\n",
    "\n",
    "            ySide = hSide.GetBinContent(i)\n",
    "            ySideerr = hSide.GetBinError(i)\n",
    "            if ySide == 0:\n",
    "                rErr = 0\n",
    "            else:\n",
    "                rErr = ySide/y*np.hypot(yerr/y, ySideerr/ySide)\n",
    "            rSide.append([ySide/y, rErr])\n",
    "            \n",
    "            yS17 = hS17.GetBinContent(i)\n",
    "            yS17err = hS17.GetBinError(i)\n",
    "            if yS17 == 0:\n",
    "                rErr = 0\n",
    "            else:\n",
    "                rErr = yS17/y*np.hypot(yerr/y, yS17err/yS17)\n",
    "            rS17.append([yS17/y, rErr])\n",
    "\n",
    "    rSig = np.array(rSig)\n",
    "    rSide = np.array(rSide)\n",
    "    rS17 = np.array(rS17)\n",
    "    \n",
    "    plt.subplot(1,3,1)\n",
    "    plt.errorbar(x, rSig[:,0], yerr=rSig[:,1], fmt='.', label=n)\n",
    "    \n",
    "    plt.subplot(1,3,2)\n",
    "    plt.errorbar(x, rSide[:,0], yerr=rSide[:,1], fmt='.', label=n)\n",
    "    \n",
    "    plt.subplot(1,3,3)\n",
    "    plt.errorbar(x, rS17[:,0], yerr=rS17[:,1], fmt='.', label=n)\n",
    "\n",
    "plt.subplot(1,3,3)\n",
    "plt.ylim(0.3, 1.5)\n",
    "plt.title('Skip  additional tracks cut')\n",
    "plt.subplot(1,3,2)\n",
    "plt.ylim(0.3, 1.5)\n",
    "plt.title('N_goodAddTks == 1')\n",
    "plt.subplot(1,3,1)\n",
    "plt.ylim(0.3, 1.5)\n",
    "plt.title('N_goodAddTks == 0')\n",
    "plt.legend(loc='best');"
   ]
  },
  {
   "cell_type": "markdown",
   "metadata": {},
   "source": [
    "### Compare xsec and MC efficiency"
   ]
  },
  {
   "cell_type": "code",
   "execution_count": null,
   "metadata": {},
   "outputs": [],
   "source": [
    "#c0 -> 20\n",
    "fc0 = rt.TFile.Open(MCsample['c0'].skimmed_dir + '/None_skipall_corr.root', 'READ')\n",
    "hMINI_c0 = fc0.Get('hAllNvtx').Clone()\n",
    "hMINI_c0.Scale(1./hMINI_c0.Integral())\n",
    "hMINI_c0.SetLineColor(colors[0])\n",
    "\n",
    "f20 = rt.TFile.Open(MCsample['20'].skimmed_dir + '/None_skipall_corr.root', 'READ')\n",
    "hMINI_20 = f20.Get('hAllNvtx').Clone()\n",
    "hMINI_20.Scale(1./hMINI_20.Integral())\n",
    "hMINI_20.SetLineColor(colors[1])\n",
    "\n",
    "f35 = rt.TFile.Open(MCsample['35'].skimmed_dir + '/None_skipall_corr.root', 'READ')\n",
    "hMINI_35 = f35.Get('hAllNvtx').Clone()\n",
    "hMINI_35.Scale(1./hMINI_35.Integral())\n",
    "hMINI_35.SetLineColor(colors[2])"
   ]
  },
  {
   "cell_type": "code",
   "execution_count": null,
   "metadata": {},
   "outputs": [],
   "source": [
    "def getWeightsPU(hGen, hTarget):\n",
    "    weights = np.ones(hGen.GetNbinsX())\n",
    "    s = 0\n",
    "    for i in range(weights.shape[0]):\n",
    "        if hGen.GetBinContent(i+1) == 0:\n",
    "            continue\n",
    "        weights[i] = hTarget.GetBinContent(i+1)/hGen.GetBinContent(i+1)\n",
    "        s += hGen.GetBinContent(i+1) * weights[i]\n",
    "\n",
    "    return weights/s"
   ]
  },
  {
   "cell_type": "code",
   "execution_count": 1,
   "metadata": {},
   "outputs": [
    {
     "ename": "NameError",
     "evalue": "name 'getWeightsPU' is not defined",
     "output_type": "error",
     "traceback": [
      "\u001b[0;31m---------------------------------------------------------------------------\u001b[0m",
      "\u001b[0;31mNameError\u001b[0m                                 Traceback (most recent call last)",
      "\u001b[0;32m<ipython-input-1-05bbe42933b9>\u001b[0m in \u001b[0;36m<module>\u001b[0;34m()\u001b[0m\n\u001b[0;32m----> 1\u001b[0;31m \u001b[0mweights_20\u001b[0m \u001b[0;34m=\u001b[0m \u001b[0mgetWeightsPU\u001b[0m\u001b[0;34m(\u001b[0m\u001b[0mhMINI_c0\u001b[0m\u001b[0;34m,\u001b[0m \u001b[0mhMINI_20\u001b[0m\u001b[0;34m)\u001b[0m\u001b[0;34m\u001b[0m\u001b[0m\n\u001b[0m\u001b[1;32m      2\u001b[0m \u001b[0mweights_35\u001b[0m \u001b[0;34m=\u001b[0m \u001b[0mgetWeightsPU\u001b[0m\u001b[0;34m(\u001b[0m\u001b[0mhMINI_c0\u001b[0m\u001b[0;34m,\u001b[0m \u001b[0mhMINI_35\u001b[0m\u001b[0;34m)\u001b[0m\u001b[0;34m\u001b[0m\u001b[0m\n\u001b[1;32m      3\u001b[0m \u001b[0;34m\u001b[0m\u001b[0m\n\u001b[1;32m      4\u001b[0m \u001b[0;31m# hMINI_c0to20 = hMINI_c0.Clone('hMINI_c0to20')\u001b[0m\u001b[0;34m\u001b[0m\u001b[0;34m\u001b[0m\u001b[0m\n\u001b[1;32m      5\u001b[0m \u001b[0;31m# hMINI_c0to20.Reset()\u001b[0m\u001b[0;34m\u001b[0m\u001b[0;34m\u001b[0m\u001b[0m\n",
      "\u001b[0;31mNameError\u001b[0m: name 'getWeightsPU' is not defined"
     ]
    }
   ],
   "source": [
    "weights_20 = getWeightsPU(hMINI_c0, hMINI_20)\n",
    "weights_35 = getWeightsPU(hMINI_c0, hMINI_35)\n",
    "\n",
    "# hMINI_c0to20 = hMINI_c0.Clone('hMINI_c0to20')\n",
    "# hMINI_c0to20.Reset()\n",
    "# for i in range(weights_20.shape[0]):\n",
    "#     c = hMINI_c0.GetBinContent(i+1)*weights_20[i]\n",
    "#     hMINI_c0to20.SetBinContent(i+1, c)\n",
    "# hMINI_c0to20.Scale(1.1)\n",
    "# hMINI_c0to20.SetMarkerColor(colors[2])\n",
    "# hMINI_c0to20.SetMarkerStyle(20)\n",
    "# hMINI_c0to20.SetLineWidth(0)\n",
    "# hMINI_c0to20.SetLineColor(4)"
   ]
  },
  {
   "cell_type": "code",
   "execution_count": null,
   "metadata": {},
   "outputs": [],
   "source": [
    "# hlist = [hMINI_c0, hMINI_20, hMINI_c0to20]\n",
    "# SetMaxToMaxHist(hlist)\n",
    "# c = drawOnCMSCanvas(CMS_lumi, hlist, 'same')"
   ]
  },
  {
   "cell_type": "code",
   "execution_count": null,
   "metadata": {},
   "outputs": [],
   "source": [
    "def getWeights(nVtx, w):\n",
    "    return w[nVtx.astype(np.int)]"
   ]
  },
  {
   "cell_type": "code",
   "execution_count": null,
   "metadata": {},
   "outputs": [],
   "source": [
    "cat = 'Low'\n",
    "leg = rt.TLegend(0.7, 0.7, 0.95, 0.9)\n",
    "leg.SetBorderSize(0)\n",
    "leg.SetTextFont(42)\n",
    "hlist = []\n",
    "for i, (n, ds) in enumerate(dSetS17[cat].iteritems()):\n",
    "    if n == '0': continue\n",
    "    sel = ds['N_goodAddTks'] == 0\n",
    "    h = create_TH1D(ds['N_vtx'][sel], binning=[61, -0.5, 60.5], \n",
    "                    axis_title=['Number of PV reco', 'Events'], \n",
    "                    scale_histo='norm')\n",
    "    leg.AddEntry(h, n + ' sig', 'lep')\n",
    "    h.SetLineColor(colors[i+1])\n",
    "    hlist.append(h)\n",
    "    \n",
    "ds = dSetS17[cat]['c0']\n",
    "sel = ds['N_goodAddTks'] == 0\n",
    "w = getWeights(ds['N_vtx'][sel], weights_20)\n",
    "h = create_TH1D(ds['N_vtx'][sel], binning=[61, -0.5, 60.5], weights=w, scale_histo='norm')\n",
    "leg.AddEntry(h, 'c0->20 sig', 'lep')\n",
    "h.SetLineColor(1)\n",
    "hlist.append(h)\n",
    "\n",
    "w = getWeights(ds['N_vtx'][sel], weights_35)\n",
    "h = create_TH1D(ds['N_vtx'][sel], binning=[61, -0.5, 60.5], weights=w, scale_histo='norm')\n",
    "leg.AddEntry(h, 'c0->35 sig', 'lep')\n",
    "h.SetLineColor(1)\n",
    "hlist.append(h)\n",
    "\n",
    "m = SetMaxToMaxHist(hlist)\n",
    "c = drawOnCMSCanvas(CMS_lumi, hlist, 'same')\n",
    "hlist[0].GetYaxis().SetRangeUser(1e-5, m)\n",
    "leg.Draw()"
   ]
  },
  {
   "cell_type": "code",
   "execution_count": null,
   "metadata": {},
   "outputs": [],
   "source": [
    "t = PrettyTable()\n",
    "for n, sMC in MCsample.iteritems():\n",
    "    e = sMC.effCand['effCAND'][0] * sMC.effMCgen['effGEN'][0]\n",
    "    de = e * np.hypot(sMC.effCand['effCAND'][1]/sMC.effCand['effCAND'][0], sMC.effMCgen['effGEN'][1]/sMC.effMCgen['effGEN'][0])\n",
    "    \n",
    "    t.add_row([n, \n",
    "               '{:1.2e} +/- {:1.2e}'.format(*sMC.effMCgen['xsec']),\n",
    "               '{:.3f} +/- {:.3f}'.format(100*sMC.effMCgen['effGEN'][0], 100*sMC.effMCgen['effGEN'][1]),\n",
    "               '{:.3f} +/- {:.3f}'.format(100*sMC.effCand['effCAND'][0], 100*sMC.effCand['effCAND'][1]),\n",
    "               '{:.3f} +/- {:.3f}'.format(1e4*e, 1e4*de)\n",
    "              ])\n",
    "\n",
    "\n",
    "w = getWeights(dSetSall['c0']['N_vtx'], weights_20)\n",
    "newEffCand = np.sum(w)/MCsample['c0'].effCand['nTotMINIAOD']\n",
    "e = newEffCand * MCsample['c0'].effMCgen['effGEN'][0]\n",
    "t.add_row(['c0->20', '', '', '{:.3f}'.format(100*newEffCand), '{:.3f}'.format(1e4*e)])\n",
    "\n",
    "w = getWeights(dSetSall['c0']['N_vtx'], weights_35)\n",
    "newEffCand = np.sum(w)/MCsample['c0'].effCand['nTotMINIAOD']\n",
    "e = newEffCand * MCsample['c0'].effMCgen['effGEN'][0]\n",
    "t.add_row(['c0->35', '', '', '{:.3f}'.format(100*newEffCand), '{:.3f}'.format(1e4*e)])\n",
    "\n",
    "# t.add_row([n, '', ''\n",
    "t.field_names = ['Sample', 'xsec [pb]', 'eff MC [%]', 'eff CAND [%]', 'Tot [10^-4]']\n",
    "print t"
   ]
  },
  {
   "cell_type": "code",
   "execution_count": null,
   "metadata": {},
   "outputs": [],
   "source": [
    "t = PrettyTable()\n",
    "t.field_names = ['PU', 'Low', 'Mid', 'High']\n",
    "for PU in ['0', '20', '35', 'c0']:\n",
    "    nMINIAOD = MCsample[PU].effCand['nTotMINIAOD']\n",
    "    leff = []\n",
    "    for cat in ['Low', 'Mid', 'High']:\n",
    "        fn = MCsample[PU].skimmed_dir + '/' + cat\n",
    "        n = extractNacc(fn +'_corr.log')\n",
    "        leff.append(getEff(n, nMINIAOD))\n",
    "    t.add_row([PU] + ['{:.3f}+/-{:.3f}%'.format(100*float(e), 100*float(de)) for e, de in leff])\n",
    "print 'MINIAOD -> Accepted selection efficiency'\n",
    "print t"
   ]
  },
  {
   "cell_type": "code",
   "execution_count": null,
   "metadata": {},
   "outputs": [],
   "source": [
    "t = PrettyTable()\n",
    "t.field_names = ['PU', 'Low', 'Mid', 'High']\n",
    "dMC = {}\n",
    "for PU in ['0', '20', '35', 'c0']:\n",
    "    leff = []\n",
    "    for cat in ['Low', 'Mid', 'High']:\n",
    "        fn = MCsample[PU].skimmed_dir + '/' + cat\n",
    "        leff.append(extractEff(fn + '_corr.log'))\n",
    "\n",
    "        dMC[cat+PU] = rtnp.root2array(fn+'_corr.root')\n",
    "    t.add_row([PU] + ['{:.2f}+/-{:.2f}%'.format(float(e), float(de)) for e, de in leff])\n",
    "print 'Skimming selection efficiency'\n",
    "print t"
   ]
  },
  {
   "cell_type": "code",
   "execution_count": null,
   "metadata": {},
   "outputs": [],
   "source": [
    "# Compare with data\n",
    "\n",
    "RDloc = '../data/cmsRD/skimmed/B2DstMu_200410_{}_corr.root'\n",
    "\n",
    "# Fill the histo\n",
    "leg = rt.TLegend(0.7, 0.6, 0.97, 0.9)\n",
    "leg.SetBorderSize(0)\n",
    "leg.SetTextFont(42)\n",
    "\n",
    "colors = [rt.kAzure+1, rt.kRed-4, rt.kGreen+1, rt.kViolet-7]\n",
    "hlist = []\n",
    "for ic, cat in enumerate(['Low', 'Mid', 'High']):\n",
    "    t = ur.open(RDloc.format(cat))['Tevts']\n",
    "    x = np.array(t.array('N_vtx'))\n",
    "    h = create_TH1D(x, binning=[61, -0.5, 60.5], \n",
    "                    axis_title=['Number of PV reco', 'Normalized entries'], \n",
    "                    scale_histo=1./x.shape[0])\n",
    "    h.SetLineColor(colors[ic])\n",
    "    leg.AddEntry(h, 'Data '+cat, 'lep')\n",
    "    hlist = [h] + hlist\n",
    "\n",
    "x = dMC['Low20']['N_vtx']\n",
    "h = create_TH1D(x, binning=[61, -0.5, 60.5], \n",
    "                scale_histo=1./x.shape[0])\n",
    "h.SetLineColor(1)\n",
    "leg.AddEntry(h, 'MC Low PU20', 'lep')\n",
    "hlist.append(h)\n",
    "\n",
    "x = dMC['High35']['N_vtx']\n",
    "h = create_TH1D(x, binning=[61, -0.5, 60.5], \n",
    "                scale_histo=1./x.shape[0])\n",
    "h.SetLineColor(6)\n",
    "leg.AddEntry(h, 'MC High PU35', 'lep')\n",
    "hlist.append(h)\n",
    "\n",
    "x = dMC['Highc0']['N_vtx']\n",
    "h = create_TH1D(x, binning=[61, -0.5, 60.5], \n",
    "                scale_histo=1./x.shape[0])\n",
    "h.SetLineColor(5)\n",
    "leg.AddEntry(h, 'MC High PU35', 'lep')\n",
    "hlist.append(h)\n",
    "\n",
    "m = SetMaxToMaxHist(hlist)\n",
    "c = drawOnCMSCanvas(CMS_lumi, hlist, 'same')\n",
    "leg.Draw()"
   ]
  },
  {
   "cell_type": "code",
   "execution_count": null,
   "metadata": {},
   "outputs": [],
   "source": [
    "tMC20_ntuples = rt.TChain('outA/Tevts')\n",
    "for f in glob(d.format(20).replace('skimmed/', 'out_*.root')):\n",
    "    tMC20_ntuples.Add(f)"
   ]
  },
  {
   "cell_type": "code",
   "execution_count": null,
   "metadata": {},
   "outputs": [],
   "source": [
    "handle = {}\n",
    "handle['vtx'] = [Handle('vector<reco::Vertex>'), 'offlineSlimmedPrimaryVertices']\n",
    "NN = 50000\n",
    "N_vtx_MINIAOD = []\n",
    "pathMC_MINIAOD = '/mnt/hadoop/store/user/ocerri/cmsMC_private_PU20_10-2-3/BPH_Tag-B0_MuNuDmst-pD0bar-kp_13TeV-pythia8_Hardbbbar_PTFilter5_0p0-evtgen_ISGW2_200113/200113_224052/*/out_MINIAODSIM_*.root'\n",
    "pb = ProgressBar(NN)\n",
    "for fn in glob(pathMC_MINIAOD):\n",
    "    for event in Events(fn):\n",
    "        prods = {}\n",
    "        for k,v in handle.iteritems():\n",
    "            event.getByLabel(v[1], v[0])\n",
    "            prods[k] = v[0].product()\n",
    "        N_vtx_MINIAOD.append(prods['vtx'].size())\n",
    "        pb.show(len(N_vtx_MINIAOD)-1)\n",
    "        if len(N_vtx_MINIAOD) >= NN: break\n",
    "    if len(N_vtx_MINIAOD) >= NN: break\n",
    "N_vtx_MINIAOD = np.array(N_vtx_MINIAOD)"
   ]
  },
  {
   "cell_type": "code",
   "execution_count": null,
   "metadata": {},
   "outputs": [],
   "source": [
    "donotdelete = []\n",
    "CMS_lumi.extraText = 6*' '+'Simulation Internal'\n",
    "for cat in ['Low', 'Mid', 'High']:\n",
    "    h0q2 =  create_TH1D(dMC[cat+'0']['q2'], name='h0q2'+cat, title='', \n",
    "                        axis_title=['q^{2} [GeV^{2}]', 'Normalized entries'],\n",
    "                        binning=array('d', [-2.5] + list(np.arange(-1.8, 11, 0.5)) + [12] ),\n",
    "                        scale_histo=1./len(dMC[cat+'0']['q2']),\n",
    "                        opt='overflow+underflow'\n",
    "                       )\n",
    "    h20q2 =  create_TH1D(dMC[cat+'20']['q2'], name='h20q2'+cat, title='', \n",
    "                        binning=h0q2.binning,\n",
    "                        scale_histo=1./len(dMC[cat+'20']['q2']),\n",
    "                         opt='overflow+underflow'\n",
    "                       )\n",
    "    h20q2.SetLineColor(2)\n",
    "    \n",
    "    h35q2 =  create_TH1D(dMC[cat+'35']['q2'], name='h35q2'+cat, title='', \n",
    "                        binning=h0q2.binning,\n",
    "                        scale_histo=1./len(dMC[cat+'35']['q2']),\n",
    "                         opt='overflow+underflow'\n",
    "                       )\n",
    "    h35q2.SetLineColor(rt.kAzure+7)\n",
    "    \n",
    "    h0M =  create_TH1D(dMC[cat+'0']['M2_miss'], name='h0M'+cat, title='', \n",
    "                        axis_title=['M^{2}_{miss} [GeV^{2}]', 'Normalized entries'],\n",
    "                        binning=array('d', [-2.5] + list(np.arange(-1.9, 5.5, 0.3)) + [6.5] ),\n",
    "                        scale_histo=1./len(dMC[cat+'0']['q2']),\n",
    "                       opt='overflow+underflow'\n",
    "                       )\n",
    "    h20M =  create_TH1D(dMC[cat+'20']['M2_miss'], name='h20M'+cat, title='', \n",
    "                        binning=h0M.binning,\n",
    "                        scale_histo=1./len(dMC[cat+'20']['q2']),\n",
    "                        opt='overflow+underflow'\n",
    "                       )\n",
    "    h20M.SetLineColor(2)\n",
    "    \n",
    "    h35M =  create_TH1D(dMC[cat+'35']['M2_miss'], name='h35M'+cat, title='', \n",
    "                        binning=h0M.binning,\n",
    "                        scale_histo=1./len(dMC[cat+'35']['q2']),\n",
    "                        opt='overflow+underflow'\n",
    "                       )\n",
    "    h35M.SetLineColor(rt.kAzure+7)\n",
    "    \n",
    "    h0E =  create_TH1D(dMC[cat+'0']['Est_mu'], name='h0E'+cat, title='', \n",
    "                        axis_title=['E*_{#mu} [GeV]', 'Normalized entries'],\n",
    "                        binning=[20, 0.50, 2.500],\n",
    "                        scale_histo=1./len(dMC[cat+'0']['q2']),\n",
    "                       opt='overflow+underflow'\n",
    "                       )\n",
    "    h20E =  create_TH1D(dMC[cat+'20']['Est_mu'], name='h20E'+cat, title='', \n",
    "                        binning=h0E.binning,\n",
    "                        scale_histo=1./len(dMC[cat+'20']['q2']),\n",
    "                        opt='overflow+underflow'\n",
    "                       )\n",
    "    h20E.SetLineColor(2)\n",
    "    \n",
    "    h35E =  create_TH1D(dMC[cat+'35']['Est_mu'], name='h35E'+cat, title='', \n",
    "                        binning=h0E.binning,\n",
    "                        scale_histo=1./len(dMC[cat+'35']['q2']),\n",
    "                        opt='overflow+underflow'\n",
    "                       )\n",
    "    h35E.SetLineColor(rt.kAzure+7)\n",
    "    \n",
    "    c = rt.TCanvas('c'+cat, 'c'+cat, 50, 50, 1800, 600)\n",
    "    c.SetTickx(0)\n",
    "    c.SetTicky(0)\n",
    "    c.Divide(3)\n",
    "    \n",
    "    pad = c.cd(1)\n",
    "    SetMaxToMaxHist([h0q2, h20q2, h35q2])\n",
    "    h0q2.Draw()\n",
    "    h20q2.Draw('SAME')\n",
    "    h35q2.Draw('SAME')\n",
    "    CMS_lumi.CMS_lumi(pad, -1, 0)\n",
    "    text = rt.TText(0.9, 0.9, 'Cat: '+cat)\n",
    "    text.SetTextAlign(33)\n",
    "    text.SetNDC()\n",
    "    text.Draw()\n",
    "    \n",
    "    pad = c.cd(2)\n",
    "    SetMaxToMaxHist([h0M, h20M, h35M])\n",
    "    h0M.Draw()\n",
    "    h20M.Draw('SAME')\n",
    "    h35M.Draw('SAME')\n",
    "    CMS_lumi.CMS_lumi(pad, -1, 0)\n",
    "    leg = rt.TLegend(0.62, 0.7, 0.97, 0.92)\n",
    "    leg.AddEntry(h0M, 'PU 0', 'lep')\n",
    "    leg.AddEntry(h20M, 'PU 20', 'lep')\n",
    "    leg.AddEntry(h35M, 'PU 35', 'lep')\n",
    "    leg.SetBorderSize(0)\n",
    "    leg.Draw()\n",
    "    \n",
    "    pad = c.cd(3)\n",
    "    SetMaxToMaxHist([h0E, h20E, h35E])\n",
    "    h0E.Draw()\n",
    "    h20E.Draw('SAME')\n",
    "    h35E.Draw('SAME')\n",
    "    CMS_lumi.CMS_lumi(pad, -1, 0)\n",
    "    \n",
    "    donotdelete.append([c, leg, text, h0q2, h20q2, h35q2, h0M, h20M, h35M, h0E, h20E, h35E])\n",
    "    \n",
    "    c.Draw()"
   ]
  },
  {
   "cell_type": "code",
   "execution_count": null,
   "metadata": {},
   "outputs": [],
   "source": [
    "from scipy.stats import poisson\n",
    "leg = rt.TLegend(0.7, 0.7, 0.9, 0.9)\n",
    "leg.SetBorderSize(0)\n",
    "\n",
    "h20N =  create_TH1D(dMC[cat+'20']['N_vtx'], name='h20N', title='', \n",
    "                    axis_title=['Number of vertexes', 'Normalized entries'],\n",
    "                    binning=[41, -0.5, 40.5],\n",
    "                    scale_histo=1./len(dMC[cat+'20']['q2'])\n",
    "                   )\n",
    "h20N.SetMarkerStyle(4)\n",
    "h20N.SetMarkerColor(1)\n",
    "leg.AddEntry(h20N, 'PU 20, skim', 'lep')\n",
    "\n",
    "h20Nn = h20N.Clone('h20Nn')\n",
    "tMC20_ntuples.Project('h20Nn', 'N_vertexes', '')\n",
    "h20Nn.Scale(1./h20Nn.Integral())\n",
    "h20Nn.SetLineColor(rt.kAzure+7)\n",
    "h20Nn.SetMarkerStyle(1)\n",
    "leg.AddEntry(h20Nn, 'PU 20, CAND', 'lep')\n",
    "\n",
    "h20NM =  create_TH1D(N_vtx_MINIAOD, name='h20NM', title='', \n",
    "                    binning=h20N.binning,\n",
    "                    scale_histo=1./len(N_vtx_MINIAOD)\n",
    "                   )\n",
    "h20NM.SetLineColor(8)\n",
    "leg.AddEntry(h20NM, 'PU 20, MINIAOD', 'lep')\n",
    "\n",
    "h20N_id = h20N.Clone()\n",
    "for i in range(1, h20N_id.GetNbinsX()+1):\n",
    "    h20N_id.SetBinContent(i, poisson.pmf(i-1, 20))\n",
    "h20N_id.SetLineWidth(0)\n",
    "h20N_id.SetMarkerStyle(4)\n",
    "h20N_id.SetMarkerColor(2)\n",
    "leg.AddEntry(h20N_id, 'Poisson 20', 'lep')\n",
    "\n",
    "hl = [h20N, h20Nn, h20NM, h20N_id]\n",
    "SetMaxToMaxHist(hl)\n",
    "c = drawOnCMSCanvas(CMS_lumi, hl, 'same')\n",
    "leg.Draw()"
   ]
  }
 ],
 "metadata": {
  "kernelspec": {
   "display_name": "Python 2",
   "language": "python",
   "name": "python2"
  },
  "language_info": {
   "codemirror_mode": {
    "name": "ipython",
    "version": 2
   },
   "file_extension": ".py",
   "mimetype": "text/x-python",
   "name": "python",
   "nbconvert_exporter": "python",
   "pygments_lexer": "ipython2",
   "version": "2.7.14+"
  }
 },
 "nbformat": 4,
 "nbformat_minor": 2
}
