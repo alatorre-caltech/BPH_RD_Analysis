{
 "cells": [
  {
   "cell_type": "code",
   "execution_count": 1,
   "metadata": {
    "ExecuteTime": {
     "end_time": "2020-06-26T03:41:29.255357Z",
     "start_time": "2020-06-26T03:41:29.248020Z"
    }
   },
   "outputs": [],
   "source": [
    "catName = 'low'"
   ]
  },
  {
   "cell_type": "code",
   "execution_count": 2,
   "metadata": {
    "ExecuteTime": {
     "end_time": "2020-06-26T03:41:29.395213Z",
     "start_time": "2020-06-26T03:41:29.386342Z"
    }
   },
   "outputs": [],
   "source": [
    "import sys, os, pickle, time, re\n",
    "from glob import glob\n",
    "sys.path.append('../lib')\n",
    "sys.path.append('../analysis')"
   ]
  },
  {
   "cell_type": "code",
   "execution_count": 3,
   "metadata": {
    "ExecuteTime": {
     "end_time": "2020-06-26T03:41:36.629170Z",
     "start_time": "2020-06-26T03:41:29.517420Z"
    }
   },
   "outputs": [
    {
     "name": "stdout",
     "output_type": "stream",
     "text": [
      "Welcome to JupyROOT 6.12/07\n"
     ]
    }
   ],
   "source": [
    "import numpy as np\n",
    "import pandas as pd\n",
    "import matplotlib.pyplot as plt\n",
    "from array import array\n",
    "\n",
    "import ROOT as rt\n",
    "rt.TGaxis.SetMaxDigits(4)\n",
    "rt.gErrorIgnoreLevel = rt.kError\n",
    "rt.RooMsgService.instance().setGlobalKillBelow(rt.RooFit.ERROR)\n",
    "import ROOT.RooFit as rf\n",
    "import root_numpy as rtnp\n",
    "\n",
    "from analysis_utilities import drawOnCMSCanvas, getEff, DSetLoader\n",
    "from histo_utilities import create_TH1D, create_TH2D, SetMaxToMaxHist\n",
    "from gridVarQ2Plot import col_dic, label_dic\n",
    "from progressBar import ProgressBar\n",
    "from categoriesDef import categories\n",
    "cat = categories[catName]\n",
    "\n",
    "from lumi_utilities import getLumiByTrigger\n",
    "\n",
    "import CMS_lumi, tdrstyle\n",
    "tdrstyle.setTDRStyle()\n",
    "CMS_lumi.writeExtraText = 1\n",
    "\n",
    "\n",
    "CMS_lumi.extraText = 7*' ' + 'Internal'\n",
    "\n",
    "donotdelete = []"
   ]
  },
  {
   "cell_type": "code",
   "execution_count": 4,
   "metadata": {
    "ExecuteTime": {
     "end_time": "2020-06-26T03:41:36.767749Z",
     "start_time": "2020-06-26T03:41:36.752378Z"
    }
   },
   "outputs": [],
   "source": [
    "m_mu = 0.1056583755\n",
    "m_Dst = 2.01026\n",
    "m_B0 = 5.2796"
   ]
  },
  {
   "cell_type": "code",
   "execution_count": 5,
   "metadata": {
    "ExecuteTime": {
     "end_time": "2020-06-26T03:41:36.903818Z",
     "start_time": "2020-06-26T03:41:36.884994Z"
    }
   },
   "outputs": [],
   "source": [
    "catText = rt.TLatex()\n",
    "catText.SetTextAlign(31)\n",
    "catText.SetTextSize(0.06)\n",
    "catText.SetTextFont(42)\n",
    "catText.SetTextSize(0.05)"
   ]
  },
  {
   "cell_type": "code",
   "execution_count": 6,
   "metadata": {
    "ExecuteTime": {
     "end_time": "2020-06-26T03:41:37.039750Z",
     "start_time": "2020-06-26T03:41:37.025658Z"
    }
   },
   "outputs": [],
   "source": [
    "cl = rt.TLine()\n",
    "cl.SetLineColor(6)\n",
    "cl.SetLineStyle(9)\n",
    "cl.SetLineWidth(2)"
   ]
  },
  {
   "cell_type": "code",
   "execution_count": 7,
   "metadata": {
    "ExecuteTime": {
     "end_time": "2020-06-26T03:41:38.723097Z",
     "start_time": "2020-06-26T03:41:37.162752Z"
    }
   },
   "outputs": [],
   "source": [
    "dfSig = pd.DataFrame(rtnp.root2array('../data/cmsRD/skimmed/B2DstMu_200515_{}_skip16_corr.root'.format(cat.name)))\n",
    "dfWrong = pd.DataFrame(rtnp.root2array('../data/cmsRD/skimmed/B2DstMu_combDstmMum_200611_{}_skip16_corr.root'.format(cat.name)))"
   ]
  },
  {
   "cell_type": "code",
   "execution_count": 8,
   "metadata": {
    "ExecuteTime": {
     "end_time": "2020-06-26T03:41:39.971947Z",
     "start_time": "2020-06-26T03:41:39.945016Z"
    }
   },
   "outputs": [
    {
     "name": "stdout",
     "output_type": "stream",
     "text": [
      "Run2018D-05May2019promptD-v1_RDntuplizer_B2DstMu_200515\n",
      "HLT_Mu7_IP4_part2_v2 1.28\n",
      "Run2018D-05May2019promptD-v1_RDntuplizer_B2DstMu_200515\n",
      "HLT_Mu7_IP4_part1_v2 1.28\n",
      "Run2018D-05May2019promptD-v1_RDntuplizer_B2DstMu_200515\n",
      "HLT_Mu7_IP4_part4_v2 1.28\n",
      "Run2018D-05May2019promptD-v1_RDntuplizer_B2DstMu_200515\n",
      "HLT_Mu7_IP4_part3_v2 1.28\n",
      "Run2018D-05May2019promptD-v1_RDntuplizer_B2DstMu_200515\n",
      "HLT_Mu7_IP4_part0_v2 1.27\n",
      "Total lumi: 6.39 fb^-1\n"
     ]
    }
   ],
   "source": [
    "dataDir = '../data/cmsRD'\n",
    "datasets_loc = glob(dataDir + '/ParkingBPH*/*2018*B2DstMu_200515*')\n",
    "lumi_tot = getLumiByTrigger(datasets_loc, cat.trg, verbose=True)\n",
    "CMS_lumi.integrated_lumi = lumi_tot"
   ]
  },
  {
   "cell_type": "code",
   "execution_count": 9,
   "metadata": {
    "ExecuteTime": {
     "end_time": "2020-06-26T03:41:41.047836Z",
     "start_time": "2020-06-26T03:41:41.031642Z"
    }
   },
   "outputs": [
    {
     "data": {
      "text/plain": [
       "'B_eta B_phi B_pt D0_eta D0_phi D0_pt Dst_eta Dst_phi Dst_pt Est_mu K_eta K_phi K_pt M2_miss N_goodAddTks N_vtx U_miss cat_high cat_low cat_mid cosT_D0pismu_PV cos_D0pismu_PV index localVertexDensity mass_D0pis mass_D0pismu mass_piK muPass_Mu12_IP6 muPass_Mu7_IP4 muPass_Mu9_IP6 mu_eta mu_phi mu_pt mu_sigdxy pi_eta pi_phi pi_pt pis_eta pis_phi pis_pt pval_D0pis pval_D0pismu pval_piK q2 sigdxy_vtxD0_PV tkCharge_0 tkCharge_1 tkEta_0 tkEta_1 tkMassHad12 tkMassHad_0 tkMassHad_1 tkMassMiss2_0 tkMassMiss2_1 tkMassMuTk_0 tkMassMuTk_1 tkMassVis12 tkMassVis_0 tkMassVis_1 tkPhi_0 tkPhi_1 tkPtError_0 tkPtError_1 tkPt_0 tkPt_1 tkUmiss12 tkUmiss_0 tkUmiss_1'"
      ]
     },
     "execution_count": 9,
     "metadata": {},
     "output_type": "execute_result"
    }
   ],
   "source": [
    "' '.join(np.sort(dfSig.columns))"
   ]
  },
  {
   "cell_type": "markdown",
   "metadata": {},
   "source": [
    "## Remove splitted tracks from wring sign sample"
   ]
  },
  {
   "cell_type": "code",
   "execution_count": 10,
   "metadata": {
    "ExecuteTime": {
     "end_time": "2020-06-26T03:41:42.171292Z",
     "start_time": "2020-06-26T03:41:42.153891Z"
    }
   },
   "outputs": [],
   "source": [
    "def computeDeltaR(dset, sp1='pi', sp2='K'):\n",
    "    deta = dset[sp1+'_eta'] - dset[sp2+'_eta']\n",
    "    dphi = dset[sp1+'_phi'] - dset[sp2+'_phi']\n",
    "    dphi = np.where(np.abs(dphi) > np.pi, dphi - np.sign(dphi)*2*np.pi, dphi)\n",
    "    return np.hypot(deta, dphi)"
   ]
  },
  {
   "cell_type": "code",
   "execution_count": 13,
   "metadata": {
    "ExecuteTime": {
     "end_time": "2020-06-26T03:42:03.972520Z",
     "start_time": "2020-06-26T03:42:03.919944Z"
    }
   },
   "outputs": [
    {
     "data": {
      "image/png": "[encoded data removed]",
      "text/plain": [
       "<IPython.core.display.Image object>"
      ]
     },
     "metadata": {},
     "output_type": "display_data"
    }
   ],
   "source": [
    "dfWrong['dR_pimu'] = computeDeltaR(dfWrong, sp1='pi', sp2='mu')\n",
    "\n",
    "h2 = create_TH2D(dfWrong[['mass_D0pismu', 'dR_pimu']], binning=[np.linspace(0,7, 30), np.logspace(-5,np.log10(3), 30)],\n",
    "                 axis_title=['Mass(#piK#pi#mu) [GeV]', '#DeltaR(#mu, #pi)', '']\n",
    "                )\n",
    "c = drawOnCMSCanvas(CMS_lumi, [h2], ['colz'])\n",
    "c.SetLogy()\n",
    "\n",
    "selWrong = dfWrong['dR_pimu'] > 1e-3"
   ]
  },
  {
   "cell_type": "markdown",
   "metadata": {},
   "source": [
    "# Visible system mass"
   ]
  },
  {
   "cell_type": "code",
   "execution_count": 14,
   "metadata": {
    "ExecuteTime": {
     "end_time": "2020-06-26T03:42:36.500979Z",
     "start_time": "2020-06-26T03:42:36.470055Z"
    }
   },
   "outputs": [
    {
     "name": "stdout",
     "output_type": "stream",
     "text": [
      "3 9\n",
      "Ratio: 0.33 +/- 0.12 (35 %)\n"
     ]
    }
   ],
   "source": [
    "Nsig = np.sum(dfSig['mass_D0pismu'] > m_B0+0.1)\n",
    "Nwrong = np.sum(dfWrong['mass_D0pismu'][selWrong] > m_B0+0.1)\n",
    "print Nsig, Nwrong\n",
    "\n",
    "r = Nsig/float(Nwrong)\n",
    "dr = r*np.hypot(1./Nsig, 1./Nwrong)\n",
    "print 'Ratio: {:.2f} +/- {:.2f} ({:.0f} %)'.format(r, dr, 100*dr/r)"
   ]
  },
  {
   "cell_type": "code",
   "execution_count": 15,
   "metadata": {
    "ExecuteTime": {
     "end_time": "2020-06-26T03:42:39.013615Z",
     "start_time": "2020-06-26T03:42:38.854692Z"
    }
   },
   "outputs": [
    {
     "data": {
      "text/plain": [
       "<ROOT.TLine object (\"TLine\") at 0xad42ab0>"
      ]
     },
     "execution_count": 15,
     "metadata": {},
     "output_type": "execute_result"
    },
    {
     "data": {
      "image/png": "[encoded data removed]",
      "text/plain": [
       "<IPython.core.display.Image object>"
      ]
     },
     "metadata": {},
     "output_type": "display_data"
    }
   ],
   "source": [
    "h1 = create_TH1D(dfSig['mass_D0pismu'], \n",
    "                 binning=[100, 2, 8],\n",
    "                 opt='overflow',\n",
    "                 axis_title=['Mass(#piK#pi#mu) [GeV]', 'Events'],\n",
    "                )\n",
    "h1.SetMarkerStyle(8)\n",
    "h2 = create_TH1D(dfWrong['mass_D0pismu'][selWrong], binning=h1.binning,\n",
    "                 opt='overflow',\n",
    "                 color=1\n",
    "                )\n",
    "h2.SetMarkerStyle(8)\n",
    "\n",
    "leg = rt.TLegend(0.7, 0.6, 0.95, 0.8)\n",
    "leg.SetBorderSize(0)\n",
    "leg.SetFillStyle(0)\n",
    "leg.AddEntry(h1, 'D*^{-}#mu^{+} candidates', 'lep')\n",
    "leg.AddEntry(h2, 'D*^{-}#mu^{-} candidates', 'lep')\n",
    "leg.AddEntry(cl, 'Selection cut', 'l')\n",
    "    \n",
    "c = drawOnCMSCanvas(CMS_lumi, [h1, h2], 'same')\n",
    "c.SetLogy()\n",
    "catText.DrawLatexNDC(0.9, 0.85, 'Category: {}'.format(cat.name))\n",
    "leg.Draw()\n",
    "cl.DrawLine(5.4, 0.5, 5.4, 1e4)"
   ]
  },
  {
   "cell_type": "code",
   "execution_count": 16,
   "metadata": {
    "ExecuteTime": {
     "end_time": "2020-06-26T03:42:42.069684Z",
     "start_time": "2020-06-26T03:42:41.975016Z"
    }
   },
   "outputs": [
    {
     "data": {
      "image/png": "[encoded data removed]",
      "text/plain": [
       "<IPython.core.display.Image object>"
      ]
     },
     "metadata": {},
     "output_type": "display_data"
    }
   ],
   "source": [
    "h1 = create_TH1D(dfSig['M2_miss'], \n",
    "                 binning=[100, -6, 10],\n",
    "                 opt='overflow+underflow',\n",
    "                 axis_title=['M^{2}_{miss} [GeV]', 'Events'],\n",
    "                )\n",
    "h1.SetMarkerStyle(8)\n",
    "h2 = create_TH1D(dfWrong['M2_miss'][selWrong], binning=h1.binning,\n",
    "                 opt='overflow+underflow',\n",
    "                 color=1\n",
    "                )\n",
    "h2.SetMarkerStyle(8)\n",
    "\n",
    "leg = rt.TLegend(0.7, 0.6, 0.95, 0.8)\n",
    "leg.SetBorderSize(0)\n",
    "leg.SetFillStyle(0)\n",
    "leg.AddEntry(h1, 'D*^{-}#mu^{+} candidates', 'lep')\n",
    "leg.AddEntry(h2, 'D*^{-}#mu^{-} candidates', 'lep')\n",
    "    \n",
    "c = drawOnCMSCanvas(CMS_lumi, [h1, h2], 'same')\n",
    "c.SetLogy()\n",
    "catText.DrawLatexNDC(0.9, 0.85, 'Category: {}'.format(cat.name))\n",
    "leg.Draw()"
   ]
  },
  {
   "cell_type": "code",
   "execution_count": null,
   "metadata": {},
   "outputs": [],
   "source": []
  }
 ],
 "metadata": {
  "kernelspec": {
   "display_name": "Python 2",
   "language": "python",
   "name": "python2"
  },
  "language_info": {
   "codemirror_mode": {
    "name": "ipython",
    "version": 2
   },
   "file_extension": ".py",
   "mimetype": "text/x-python",
   "name": "python",
   "nbconvert_exporter": "python",
   "pygments_lexer": "ipython2",
   "version": "2.7.14+"
  },
  "varInspector": {
   "cols": {
    "lenName": 16,
    "lenType": 16,
    "lenVar": 40
   },
   "kernels_config": {
    "python": {
     "delete_cmd_postfix": "",
     "delete_cmd_prefix": "del ",
     "library": "var_list.py",
     "varRefreshCmd": "print(var_dic_list())"
    },
    "r": {
     "delete_cmd_postfix": ") ",
     "delete_cmd_prefix": "rm(",
     "library": "var_list.r",
     "varRefreshCmd": "cat(var_dic_list()) "
    }
   },
   "types_to_exclude": [
    "module",
    "function",
    "builtin_function_or_method",
    "instance",
    "_Feature"
   ],
   "window_display": false
  }
 },
 "nbformat": 4,
 "nbformat_minor": 2
}
