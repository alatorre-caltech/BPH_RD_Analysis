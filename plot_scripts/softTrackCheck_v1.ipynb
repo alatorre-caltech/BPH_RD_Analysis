{
 "cells": [
  {
   "cell_type": "code",
   "execution_count": 1,
   "metadata": {
    "ExecuteTime": {
     "end_time": "2020-09-16T00:58:36.748071Z",
     "start_time": "2020-09-16T00:58:36.740390Z"
    }
   },
   "outputs": [],
   "source": [
    "catName = 'high'"
   ]
  },
  {
   "cell_type": "code",
   "execution_count": 2,
   "metadata": {
    "ExecuteTime": {
     "end_time": "2020-09-16T00:58:36.911520Z",
     "start_time": "2020-09-16T00:58:36.902203Z"
    }
   },
   "outputs": [],
   "source": [
    "import sys, os, pickle, time, re\n",
    "from glob import glob\n",
    "sys.path.append('../lib')\n",
    "sys.path.append('../analysis')"
   ]
  },
  {
   "cell_type": "code",
   "execution_count": 3,
   "metadata": {
    "ExecuteTime": {
     "end_time": "2020-09-16T00:58:46.858759Z",
     "start_time": "2020-09-16T00:58:37.064940Z"
    }
   },
   "outputs": [
    {
     "name": "stdout",
     "output_type": "stream",
     "text": [
      "Welcome to JupyROOT 6.12/07\n"
     ]
    }
   ],
   "source": [
    "import numpy as np\n",
    "import pandas as pd\n",
    "import matplotlib.pyplot as plt\n",
    "from array import array\n",
    "\n",
    "import ROOT as rt\n",
    "rt.TGaxis.SetMaxDigits(4)\n",
    "rt.gErrorIgnoreLevel = rt.kError\n",
    "rt.RooMsgService.instance().setGlobalKillBelow(rt.RooFit.ERROR)\n",
    "import ROOT.RooFit as rf\n",
    "import root_numpy as rtnp\n",
    "\n",
    "from analysis_utilities import drawOnCMSCanvas, getEff\n",
    "from histo_utilities import create_TH1D, create_TH2D, SetMaxToMaxHist\n",
    "from gridVarQ2Plot import col_dic, label_dic\n",
    "from progressBar import ProgressBar\n",
    "from categoriesDef import categories\n",
    "cat = categories[catName]\n",
    "\n",
    "from lumi_utilities import getLumiByTrigger\n",
    "\n",
    "import CMS_lumi, tdrstyle\n",
    "tdrstyle.setTDRStyle()\n",
    "CMS_lumi.writeExtraText = 1\n",
    "\n",
    "\n",
    "CMS_lumi.extraText = 7*' ' + 'Internal'\n",
    "\n",
    "donotdelete = []"
   ]
  },
  {
   "cell_type": "code",
   "execution_count": 4,
   "metadata": {
    "ExecuteTime": {
     "end_time": "2020-09-16T00:58:46.939964Z",
     "start_time": "2020-09-16T00:58:46.930525Z"
    }
   },
   "outputs": [],
   "source": [
    "m_mu = 0.1056583755\n",
    "m_pi = 0.13957062\n",
    "m_K = 0.493677\n",
    "m_D0 = 1.86483\n",
    "m_Dst = 2.01026\n",
    "m_jpsi = 3.096916\n",
    "dm = m_Dst - m_D0"
   ]
  },
  {
   "cell_type": "code",
   "execution_count": 5,
   "metadata": {
    "ExecuteTime": {
     "end_time": "2020-09-16T00:58:47.032309Z",
     "start_time": "2020-09-16T00:58:47.012610Z"
    }
   },
   "outputs": [
    {
     "data": {
      "text/plain": [
       "0.9243163029587738"
      ]
     },
     "execution_count": 5,
     "metadata": {},
     "output_type": "execute_result"
    }
   ],
   "source": [
    "(m_D0**2-m_K**2-m_pi**2)/m_D0**2"
   ]
  },
  {
   "cell_type": "code",
   "execution_count": 6,
   "metadata": {
    "ExecuteTime": {
     "end_time": "2020-09-16T00:58:47.114375Z",
     "start_time": "2020-09-16T00:58:47.099509Z"
    }
   },
   "outputs": [
    {
     "data": {
      "text/plain": [
       "0.13463371017492218"
      ]
     },
     "execution_count": 6,
     "metadata": {},
     "output_type": "execute_result"
    }
   ],
   "source": [
    "(m_Dst**2-m_D0**2-m_pi**2)/m_Dst**2"
   ]
  },
  {
   "cell_type": "code",
   "execution_count": 7,
   "metadata": {
    "ExecuteTime": {
     "end_time": "2020-09-16T00:58:47.190776Z",
     "start_time": "2020-09-16T00:58:47.170217Z"
    }
   },
   "outputs": [],
   "source": [
    "catText = rt.TLatex()\n",
    "catText.SetTextAlign(31)\n",
    "catText.SetTextSize(0.06)\n",
    "catText.SetTextFont(42)\n",
    "catText.SetTextSize(0.05)"
   ]
  },
  {
   "cell_type": "code",
   "execution_count": 8,
   "metadata": {
    "ExecuteTime": {
     "end_time": "2020-09-16T00:58:47.266425Z",
     "start_time": "2020-09-16T00:58:47.250561Z"
    }
   },
   "outputs": [],
   "source": [
    "cl = rt.TLine()\n",
    "cl.SetLineColor(6)\n",
    "cl.SetLineStyle(9)\n",
    "cl.SetLineWidth(2)"
   ]
  },
  {
   "cell_type": "code",
   "execution_count": 9,
   "metadata": {
    "ExecuteTime": {
     "end_time": "2020-09-16T00:58:59.585120Z",
     "start_time": "2020-09-16T00:58:47.319764Z"
    }
   },
   "outputs": [],
   "source": [
    "dfRD_bare = pd.DataFrame(rtnp.root2array('../data/cmsRD/skimmed/B2DstMu_B0_200515_{}_bare.root'.format(cat.name)))\n",
    "dfRD_corr = pd.DataFrame(rtnp.root2array('../data/cmsRD/skimmed/B2DstMu_B0_200515_{}_corr.root'.format(cat.name)))"
   ]
  },
  {
   "cell_type": "code",
   "execution_count": 10,
   "metadata": {
    "ExecuteTime": {
     "end_time": "2020-09-16T00:59:01.502569Z",
     "start_time": "2020-09-16T00:59:01.476874Z"
    }
   },
   "outputs": [
    {
     "name": "stdout",
     "output_type": "stream",
     "text": [
      "Run2018D-05May2019promptD-v1_RDntuplizer_B2DstMu_200515\n",
      "HLT_Mu12_IP6_part2_v2 5.29\n",
      "Run2018D-05May2019promptD-v1_RDntuplizer_B2DstMu_200515\n",
      "HLT_Mu12_IP6_part1_v2 5.3\n",
      "Run2018D-05May2019promptD-v1_RDntuplizer_B2DstMu_200515\n",
      "HLT_Mu12_IP6_part4_v2 5.29\n",
      "Run2018D-05May2019promptD-v1_RDntuplizer_B2DstMu_200515\n",
      "HLT_Mu12_IP6_part3_v2 5.29\n",
      "Run2018D-05May2019promptD-v1_RDntuplizer_B2DstMu_200515\n",
      "HLT_Mu12_IP6_part0_v2 5.24\n",
      "Total lumi: 26.41 fb^-1\n"
     ]
    }
   ],
   "source": [
    "dataDir = '../data/cmsRD'\n",
    "datasets_loc = glob(dataDir + '/ParkingBPH*/*2018*B2DstMu_200515*')\n",
    "lumi_tot = getLumiByTrigger(datasets_loc, cat.trg, verbose=True)\n",
    "CMS_lumi.integrated_lumi = lumi_tot"
   ]
  },
  {
   "cell_type": "code",
   "execution_count": 11,
   "metadata": {
    "ExecuteTime": {
     "end_time": "2020-09-16T00:59:21.511086Z",
     "start_time": "2020-09-16T00:59:03.194539Z"
    }
   },
   "outputs": [],
   "source": [
    "loc = '../data/cmsMC_private/'\n",
    "loc += 'BP_Tag_B0_MuNuDmst_Hardbbbar_evtgen_ISGW2_PUc0_10-2-3/'\n",
    "loc += 'ntuples_B2DstMu/skimmed/{}'.format(cat.name)\n",
    "dfMC_bare = pd.DataFrame(rtnp.root2array(loc+'_bare.root'))\n",
    "dfMC_corr = pd.DataFrame(rtnp.root2array(loc+'_corr.root'))"
   ]
  },
  {
   "cell_type": "code",
   "execution_count": 12,
   "metadata": {
    "ExecuteTime": {
     "end_time": "2020-09-16T00:59:24.598237Z",
     "start_time": "2020-09-16T00:59:24.581944Z"
    }
   },
   "outputs": [
    {
     "data": {
      "text/plain": [
       "'index  q2  Est_mu  M2_miss  U_miss  mu_pt  mu_eta  mu_phi  mu_sigdxy  B_pt  B_eta  B_phi  Dst_pt  Dst_eta  Dst_phi  D0_pt  D0_eta  D0_phi  pi_pt  pi_eta  pi_phi  K_pt  K_eta  K_phi  pval_piK  sigdxy_vtxD0_PV  pis_pt  pis_eta  pis_phi  pval_D0pis  mass_piK  mass_D0pis  mass_D0pismu  pval_D0pismu  cos_D0pismu_PV  cosT_D0pismu_PV  N_goodAddTks  tkCharge_0  tkCharge_1  tkPt_0  tkPt_1  tkPtError_0  tkPtError_1  tkEta_0  tkEta_1  tkPhi_0  tkPhi_1  tkMassVis_0  tkMassVis_1  tkMassHad_0  tkMassHad_1  tkMassMuTk_0  tkMassMuTk_1  tkMassMiss2_0  tkMassMiss2_1  tkUmiss_0  tkUmiss_1  tkMassVis12  tkMassHad12  tkUmiss12  cat_low  cat_mid  cat_high  muPass_Mu12_IP6  muPass_Mu9_IP6  muPass_Mu7_IP4  N_vtx  localVertexDensity  MC_q2  MC_Est_mu  MC_M2_miss  MC_B_pt  MC_B_eta  MC_B_phi  MC_Dst_pt  MC_Dst_eta  MC_Dst_phi  MC_mu_pt  MC_mu_eta  MC_mu_phi  MC_mu_IP  MC_pi_pt  MC_pi_eta  MC_pi_phi  MC_K_pt  MC_K_eta  MC_K_phi  MC_pis_pt  MC_pis_eta  MC_pis_phi  MC_idxMatch  MC_muMotherPdgId  MC_munuSisterPdgId  MC_DstMotherPdgId  MC_DstSisterPdgId_heavy  MC_DstSisterPdgId_light  MC_tkFlag_0  MC_tkFlag_1  MC_tk_dpt_0  MC_tk_dpt_1  MC_tk_deta_0  MC_tk_deta_1  MC_tk_dphi_0  MC_tk_dphi_1  MC_tkPdgId_0  MC_tkPdgId_1  MC_tkMotherPdgId_0  MC_tkMotherPdgId_1  MC_tkMotherMotherPdgId_0  MC_tkMotherMotherPdgId_1  wh_CLNCentral  wh_CLNR0Down  wh_CLNR0Up  wh_CLNeig1Down  wh_CLNeig1Up  wh_CLNeig2Down  wh_CLNeig2Up  wh_CLNeig3Down  wh_CLNeig3Up'"
      ]
     },
     "execution_count": 12,
     "metadata": {},
     "output_type": "execute_result"
    }
   ],
   "source": [
    "'  '.join(dfMC_bare.columns)"
   ]
  },
  {
   "cell_type": "code",
   "execution_count": 13,
   "metadata": {
    "ExecuteTime": {
     "end_time": "2020-09-16T00:59:28.041832Z",
     "start_time": "2020-09-16T00:59:27.630761Z"
    }
   },
   "outputs": [
    {
     "data": {
      "image/png": "[encoded data removed]",
      "text/plain": [
       "<IPython.core.display.Image object>"
      ]
     },
     "metadata": {},
     "output_type": "display_data"
    }
   ],
   "source": [
    "fBfield = rt.TFile.Open('../data/calibration/bFieldMap_2Dover3D.root', 'r')\n",
    "hBfield = fBfield.Get('bfieldMap')\n",
    "def get_bFieldCorr3D(phi, eta, verbose=False):\n",
    "    if not verbose:\n",
    "        idx = hBfield.GetBin(hBfield.GetXaxis().FindBin(phi), hBfield.GetYaxis().FindBin(eta))\n",
    "        return 1./hBfield.GetBinContent(idx)\n",
    "hBfield.SetXTitle('#phi [rad]')\n",
    "hBfield.SetYTitle('#eta')\n",
    "c = rt.TCanvas('c', 'c', 800, 600)\n",
    "c.SetRightMargin(0.16)\n",
    "hBfield.Draw('colz')\n",
    "c.Draw() \n",
    "c.SaveAs('../data/calibration/trackCorrections/fig/magneticFieldRatioMap.png')"
   ]
  },
  {
   "cell_type": "code",
   "execution_count": 14,
   "metadata": {
    "ExecuteTime": {
     "end_time": "2020-09-16T00:59:31.402712Z",
     "start_time": "2020-09-16T00:59:31.386095Z"
    }
   },
   "outputs": [],
   "source": [
    "def compute_mR(dset, sp1='pi', sp2='K', m1=m_pi, m2=m_K, M=m_D0, scalePt=1., shiftE=[0,0], relSmear=0):\n",
    "    if relSmear:\n",
    "        sm1 = relSmear*np.random.randn(dset[sp1+'_pt'].shape[0]) + 1.\n",
    "        sm2 = relSmear*np.random.randn(dset[sp2+'_pt'].shape[0]) + 1.\n",
    "    else:\n",
    "        sm1 = 1.\n",
    "        sm2 = 1.\n",
    "    E1 = np.hypot(m1, scalePt * dset[sp1+'_pt'] * sm1 * np.cosh(dset[sp1+'_eta'])) + shiftE[0]\n",
    "    E2 = np.hypot(m2, scalePt * dset[sp2+'_pt'] * sm2 * np.cosh(dset[sp2+'_eta'])) + shiftE[1]\n",
    "    mR = np.square(m1)*E2/E1\n",
    "    mR += np.square(m2)*E1/E2\n",
    "    mR /= M\n",
    "    return mR"
   ]
  },
  {
   "cell_type": "code",
   "execution_count": 15,
   "metadata": {
    "ExecuteTime": {
     "end_time": "2020-09-16T00:59:34.658045Z",
     "start_time": "2020-09-16T00:59:34.635912Z"
    }
   },
   "outputs": [],
   "source": [
    "def compute_rC(dset, sp1='pi', sp2='K', m1=m_pi, m2=m_K, M=m_D0, scalePt=1., shiftE=[0,0], relSmear=0):\n",
    "    if relSmear:\n",
    "        sm1 = relSmear*np.random.randn(dset[sp1+'_pt'].shape[0]) + 1.\n",
    "        sm2 = relSmear*np.random.randn(dset[sp2+'_pt'].shape[0]) + 1.\n",
    "    else:\n",
    "        sm1 = 1.\n",
    "        sm2 = 1.\n",
    "    \n",
    "    q2 = np.square(M) - np.square(m1) - np.square(m2)\n",
    "    E1 = np.hypot(m1, scalePt * dset[sp1+'_pt'] * sm1 * np.cosh(dset[sp1+'_eta'])) + shiftE[0]\n",
    "    P1 = np.sqrt(np.square(E1) - np.square(m1))\n",
    "    E2 = np.hypot(m2, scalePt * dset[sp2+'_pt'] * sm2 * np.cosh(dset[sp2+'_eta'])) + shiftE[1]\n",
    "    P2 = np.sqrt(np.square(E2) - np.square(m2))\n",
    "    \n",
    "    rC_1 = E1*(E2/E1 + 0.5*(q2-2*E1*E2)/np.square(P1))/M\n",
    "    rC_2 = E2*(E1/E2 + 0.5*(q2-2*E1*E2)/np.square(P2))/M\n",
    "    return np.column_stack((rC_1, rC_2))"
   ]
  },
  {
   "cell_type": "code",
   "execution_count": 16,
   "metadata": {
    "ExecuteTime": {
     "end_time": "2020-09-16T00:59:37.852898Z",
     "start_time": "2020-09-16T00:59:37.837579Z"
    }
   },
   "outputs": [],
   "source": [
    "def getAvg(mass):\n",
    "    m = np.mean(mass)\n",
    "    s = np.std(mass)\n",
    "    return [m, s/np.sqrt(mass.shape[0])]"
   ]
  },
  {
   "cell_type": "markdown",
   "metadata": {},
   "source": [
    "# General plots"
   ]
  },
  {
   "cell_type": "code",
   "execution_count": 17,
   "metadata": {
    "ExecuteTime": {
     "end_time": "2020-09-16T00:59:40.982996Z",
     "start_time": "2020-09-16T00:59:40.892353Z"
    }
   },
   "outputs": [],
   "source": [
    "def drawVar(varRD, varMC,\n",
    "            varRDcorr=None, varMCcorr=None,\n",
    "            binning=None, xtitle='', legLoc=[0.18, 0.7, 0.4, 0.93], opt='overflow+underflow',\n",
    "            meanInLeg=False, widthInLeg=False, cTag=''\n",
    "           ):\n",
    "    leg = rt.TLegend(legLoc[0], legLoc[1], legLoc[2], legLoc[3])\n",
    "    leg.SetBorderSize(0)\n",
    "    leg.SetFillStyle(0)\n",
    "    \n",
    "    hRD = create_TH1D(varRD, 'RDbare',\n",
    "                      binning=binning, \n",
    "                      axis_title=[xtitle, 'Normalized candidates'],\n",
    "                      scale_histo='norm',\n",
    "                      opt=opt\n",
    "                     )\n",
    "    s = 'data'\n",
    "    if not (varRDcorr is None):\n",
    "        s = 'bare ' + s\n",
    "    if meanInLeg: s += ', Avg: {:.2f}'.format(np.mean(varRD))\n",
    "    if widthInLeg: \n",
    "        s = '#splitline{'+s+'}{'\n",
    "        bin1 = hRD.FindFirstBinAbove(hRD.GetMaximum()/2)\n",
    "        bin2 = hRD.FindLastBinAbove(hRD.GetMaximum()/2)\n",
    "        fwhm = hRD.GetBinCenter(bin2) - hRD.GetBinCenter(bin1)\n",
    "        s += 'FWHM: {:.3f}'.format(fwhm)+'}'\n",
    "    leg.AddEntry(hRD, s, 'lep')\n",
    "\n",
    "    hMC = create_TH1D(varMC, 'MCbare', binning=hRD.binning, opt=opt, scale_histo='norm')\n",
    "    hMC.SetLineColor(col_dic['mu'])\n",
    "    s = label_dic['mu']\n",
    "    if meanInLeg: s += ', Avg: {:.2f}'.format(np.mean(varMC))\n",
    "    if widthInLeg: \n",
    "        s = '#splitline{'+s+'}{'\n",
    "        bin1 = hMC.FindFirstBinAbove(hMC.GetMaximum()/2)\n",
    "        bin2 = hMC.FindLastBinAbove(hMC.GetMaximum()/2)\n",
    "        fwhm = hMC.GetBinCenter(bin2) - hMC.GetBinCenter(bin1)\n",
    "        s += 'FWHM: {:.3f}'.format(fwhm)+'}'\n",
    "    leg.AddEntry(hMC, s, 'lep')\n",
    "    h_list = [hRD, hMC]\n",
    "    \n",
    "    if not varRDcorr is None:\n",
    "        hRDc = create_TH1D(varRDcorr, 'RDcorr', binning=hRD.binning, scale_histo='norm', opt=opt)\n",
    "        hRDc.SetLineColor(1)\n",
    "        hRD.SetLineColor(rt.kGray)\n",
    "        h_list.append(hRDc)\n",
    "        leg.AddEntry(hRDc, 'data corr', 'lep')\n",
    "        \n",
    "    if not varMCcorr is None:\n",
    "        hMCc = create_TH1D(varMCcorr, 'MCcorr', binning=hRD.binning, scale_histo='norm', opt=opt)\n",
    "        hMCc.SetLineColor(col_dic['mu'])\n",
    "        hMC.SetLineColor(col_dic['mu']-10)\n",
    "        h_list.append(hMCc)\n",
    "        leg.AddEntry(hMCc, label_dic['mu']+' corr', 'lep')\n",
    "        \n",
    "    \n",
    "    SetMaxToMaxHist(h_list)\n",
    "    c = drawOnCMSCanvas(CMS_lumi, h_list, 'same', mB=0.15, tag=cTag)\n",
    "    leg.Draw()\n",
    "    catText.DrawLatexNDC(0.95, 0.85, 'Category: {}'.format(cat.name))\n",
    "    c.dnd = h_list + [leg]\n",
    "    return c"
   ]
  },
  {
   "cell_type": "code",
   "execution_count": 18,
   "metadata": {
    "ExecuteTime": {
     "end_time": "2020-09-16T00:59:44.219499Z",
     "start_time": "2020-09-16T00:59:44.177713Z"
    }
   },
   "outputs": [],
   "source": [
    "def draw_dM_vs_x(m_piK_RD, m_piK_MC, m_piK_RDcorr, xRD, xMC, xRDcorr, bins=None, xlabel=''):\n",
    "    avgRD = []\n",
    "    avgRDcorr = []\n",
    "    avgMC = []\n",
    "\n",
    "    for i in range(len(bins)-1):\n",
    "        m = bins[i]\n",
    "        M = bins[i+1]   \n",
    "        selRD = np.logical_and(xRD>m, xRD<M)\n",
    "        avgRD.append(getAvg(m_piK_RD[selRD]))\n",
    "        \n",
    "        if not m_piK_RDcorr is None:\n",
    "            selRD = np.logical_and(xRDcorr>m, xRDcorr<M)\n",
    "            avgRDcorr.append(getAvg(m_piK_RDcorr[selRD]))\n",
    "\n",
    "        selMC = np.logical_and(xMC>m, xMC<M)\n",
    "        avgMC.append(getAvg(m_piK_MC[selMC]))\n",
    "\n",
    "    avgRD = 1e3*np.array(avgRD)\n",
    "    if not m_piK_RDcorr is None:\n",
    "        avgRDcorr = 1e3*np.array(avgRDcorr)\n",
    "    avgMC = 1e3*np.array(avgMC)\n",
    "\n",
    "    x = (bins[1:] + bins[:-1])/2.\n",
    "    dx = (bins[1:] - bins[:-1])/2.\n",
    "\n",
    "    plt.rcParams.update({'font.size': 18})\n",
    "    f = plt.figure(figsize=(8,6))\n",
    "    c = 'black' if m_piK_RDcorr is None else 'gray'\n",
    "    plt.errorbar(x, avgRD[:,0]-1e3*m_D0, yerr=avgRD[:,1], xerr=dx, fmt='.', label='RD', color=c)\n",
    "    if not m_piK_RDcorr is None:\n",
    "        plt.errorbar(x, avgRDcorr[:,0]-1e3*m_D0, yerr=avgRDcorr[:,1], xerr=dx, fmt='.', label='RD corr', color='black')\n",
    "    plt.errorbar(x, avgMC[:,0]-1e3*m_D0, yerr=avgMC[:,1], xerr=dx, fmt='.', label='MC', color='deepskyblue')\n",
    "    plt.xlabel(xlabel)\n",
    "    plt.ylabel('<m($\\pi$K) - m$_{D_0}$> [MeV]')\n",
    "    plt.legend(loc='best', numpoints=1)\n",
    "    plt.grid()"
   ]
  },
  {
   "cell_type": "markdown",
   "metadata": {},
   "source": [
    "# Pre-correction plots"
   ]
  },
  {
   "cell_type": "code",
   "execution_count": 19,
   "metadata": {
    "ExecuteTime": {
     "end_time": "2020-09-16T00:59:47.648074Z",
     "start_time": "2020-09-16T00:59:47.156121Z"
    }
   },
   "outputs": [
    {
     "data": {
      "image/png": "[encoded data removed]",
      "text/plain": [
       "<IPython.core.display.Image object>"
      ]
     },
     "metadata": {},
     "output_type": "display_data"
    }
   ],
   "source": [
    "C = drawVar(varRD=1e3*(dfRD_bare['mass_piK'] - m_D0), \n",
    "            varMC=1e3*(dfMC_bare['mass_piK'] - m_D0),\n",
    "            binning=[100, -32, 32], \n",
    "            xtitle='M(#piK) - m_{D_{0}}^{pdg} [MeV]',\n",
    "            legLoc=[0.18, 0.7, 0.45, 0.93],\n",
    "            meanInLeg=True, widthInLeg=True\n",
    "           )\n",
    "C.SetGridx()\n",
    "C.SaveAs('../data/calibration/trackCorrections/fig/mD0_pre_{}.png'.format(cat.name))"
   ]
  },
  {
   "cell_type": "code",
   "execution_count": 20,
   "metadata": {
    "ExecuteTime": {
     "end_time": "2020-09-16T00:59:50.942181Z",
     "start_time": "2020-09-16T00:59:50.818889Z"
    }
   },
   "outputs": [
    {
     "data": {
      "image/png": "[encoded data removed]",
      "text/plain": [
       "<IPython.core.display.Image object>"
      ]
     },
     "metadata": {},
     "output_type": "display_data"
    }
   ],
   "source": [
    "C = drawVar(varRD=1e3*(dfRD_bare['mass_D0pis']-m_Dst),\n",
    "            varMC=1e3*(dfMC_bare['mass_D0pis']-m_Dst),\n",
    "            binning=[100, -32, 32], \n",
    "            xtitle='M(#piK#pi) - m_{D*}^{pdg} [MeV]',\n",
    "            legLoc=[0.18, 0.7, 0.45, 0.93],\n",
    "            meanInLeg=True, widthInLeg=True\n",
    "           )\n",
    "C.SetGridx()\n",
    "C.SaveAs('../data/calibration/trackCorrections/fig/mDst_pre_{}.png'.format(cat.name))"
   ]
  },
  {
   "cell_type": "code",
   "execution_count": 21,
   "metadata": {
    "ExecuteTime": {
     "end_time": "2020-09-16T00:59:54.251385Z",
     "start_time": "2020-09-16T00:59:54.120558Z"
    }
   },
   "outputs": [
    {
     "data": {
      "image/png": "[encoded data removed]",
      "text/plain": [
       "<IPython.core.display.Image object>"
      ]
     },
     "metadata": {},
     "output_type": "display_data"
    }
   ],
   "source": [
    "C = drawVar(varRD=1e3*(dfRD_bare['mass_D0pis'] - dfRD_bare['mass_piK'] - m_Dst + m_D0),\n",
    "            varMC=1e3*(dfMC_bare['mass_D0pis'] - dfMC_bare['mass_piK'] - m_Dst + m_D0),\n",
    "            binning=[200, -2., 2], \n",
    "            xtitle='M(#piK#pi) - M(#piK) - #Deltam^{pdg} [MeV]',\n",
    "            legLoc=[0.18, 0.7, 0.45, 0.93],\n",
    "            meanInLeg=True, widthInLeg=True\n",
    "           )\n",
    "C.SetGridx()\n",
    "C.SaveAs('../data/calibration/trackCorrections/fig/dm_pre_{}.png'.format(cat.name))"
   ]
  },
  {
   "cell_type": "markdown",
   "metadata": {},
   "source": [
    "# Corrections"
   ]
  },
  {
   "cell_type": "markdown",
   "metadata": {},
   "source": [
    "Corrections are pre-applyied"
   ]
  },
  {
   "cell_type": "markdown",
   "metadata": {},
   "source": [
    "# Observables Masses"
   ]
  },
  {
   "cell_type": "code",
   "execution_count": 22,
   "metadata": {
    "ExecuteTime": {
     "end_time": "2020-09-16T00:59:57.440402Z",
     "start_time": "2020-09-16T00:59:57.425291Z"
    }
   },
   "outputs": [],
   "source": [
    "m_piK_RDcorr = dfRD_corr['mass_piK']"
   ]
  },
  {
   "cell_type": "code",
   "execution_count": 23,
   "metadata": {
    "ExecuteTime": {
     "end_time": "2020-09-16T01:00:00.694181Z",
     "start_time": "2020-09-16T01:00:00.688625Z"
    }
   },
   "outputs": [],
   "source": [
    "m_piK_MCcorr = dfMC_corr['mass_piK']"
   ]
  },
  {
   "cell_type": "code",
   "execution_count": 27,
   "metadata": {
    "ExecuteTime": {
     "end_time": "2020-09-16T01:13:19.063850Z",
     "start_time": "2020-09-16T01:13:18.949038Z"
    }
   },
   "outputs": [
    {
     "data": {
      "image/png": "[encoded data removed]",
      "text/plain": [
       "<IPython.core.display.Image object>"
      ]
     },
     "metadata": {},
     "output_type": "display_data"
    }
   ],
   "source": [
    "C = drawVar(varRD=dfRD_corr['mass_D0pis'],\n",
    "            varMC=dfMC_corr['mass_D0pis'],\n",
    "            binning=[100, m_Dst-0.03, m_Dst+0.03], \n",
    "            xtitle='M(#piK#pi) [GeV]')"
   ]
  },
  {
   "cell_type": "code",
   "execution_count": 25,
   "metadata": {
    "ExecuteTime": {
     "end_time": "2020-09-16T01:00:09.127848Z",
     "start_time": "2020-09-16T01:00:09.030228Z"
    }
   },
   "outputs": [
    {
     "data": {
      "image/png": "[encoded data removed]",
      "text/plain": [
       "<IPython.core.display.Image object>"
      ]
     },
     "metadata": {},
     "output_type": "display_data"
    }
   ],
   "source": [
    "C = drawVar(varRD=m_piK_RDcorr, \n",
    "            varMC=m_piK_MCcorr,\n",
    "            binning=[100, m_D0-0.031, m_D0+0.031], \n",
    "            xtitle='M(#piK) [GeV]')"
   ]
  },
  {
   "cell_type": "code",
   "execution_count": 26,
   "metadata": {
    "ExecuteTime": {
     "end_time": "2020-09-16T01:12:24.030265Z",
     "start_time": "2020-09-16T01:12:23.895698Z"
    }
   },
   "outputs": [
    {
     "data": {
      "image/png": "[encoded data removed]",
      "text/plain": [
       "<IPython.core.display.Image object>"
      ]
     },
     "metadata": {},
     "output_type": "display_data"
    }
   ],
   "source": [
    "C = drawVar(varRD=1e3*(dfRD_corr['mass_D0pis'] - dfRD_corr['mass_piK']),\n",
    "            varMC=1e3*(dfMC_corr['mass_D0pis'] - dfMC_corr['mass_piK']),\n",
    "            binning=[100, 1e3*dm - 2, 1e3*dm + 2], \n",
    "            xtitle='M(#piK#pi) - M(#piK) [MeV]')"
   ]
  },
  {
   "cell_type": "code",
   "execution_count": null,
   "metadata": {
    "ExecuteTime": {
     "end_time": "2020-08-11T05:05:07.714801Z",
     "start_time": "2020-08-11T05:05:07.544178Z"
    }
   },
   "outputs": [],
   "source": [
    "C = drawVar(varRD=dfRD_bare['mass_piK'], \n",
    "            varMC=dfMC_bare['mass_piK'],\n",
    "            varRDcorr=m_piK_RDcorr,\n",
    "            varMCcorr=m_piK_MCcorr,\n",
    "            binning=[100, m_D0-0.031, m_D0+0.031], \n",
    "            xtitle='M(#piK) [GeV]')\n",
    "C.SaveAs('../data/calibration/trackCorrections/fig/mD0_post_{}.png'.format(cat.name))"
   ]
  },
  {
   "cell_type": "code",
   "execution_count": null,
   "metadata": {
    "ExecuteTime": {
     "end_time": "2020-08-11T05:05:07.960994Z",
     "start_time": "2020-08-11T05:05:07.719334Z"
    },
    "scrolled": true
   },
   "outputs": [],
   "source": [
    "for p in [['K', 'K'], ['pi','#pi'], ['pis', '#pi_{soft}']]:\n",
    "    C = drawVar(varRD=dfRD_bare[p[0]+'_eta'], \n",
    "                varMC=dfMC_bare[p[0]+'_eta'],\n",
    "                binning=[50, -2.2, 2.2], \n",
    "                xtitle=p[1]+' #eta')\n",
    "    C.SaveAs('../data/calibration/trackCorrections/fig/eta_'+p[0]+'_pre_{}.png'.format(cat.name))"
   ]
  },
  {
   "cell_type": "code",
   "execution_count": null,
   "metadata": {
    "ExecuteTime": {
     "end_time": "2020-08-11T05:05:08.084319Z",
     "start_time": "2020-08-11T05:05:07.965842Z"
    }
   },
   "outputs": [],
   "source": [
    "C = drawVar(varRD=dfRD_bare['pi_pt'], \n",
    "            varMC=dfMC_bare['pi_pt'],\n",
    "#             varRDcorr=dfRD_corr['pi_pt'],\n",
    "#             varMCcorr=dfMC_corr['pi_pt'],\n",
    "#             opt='',\n",
    "            binning=[100, 0, 25], \n",
    "            xtitle='#pi p_{T} [GeV]', \n",
    "            legLoc=[0.7, 0.6, 0.9, 0.8])\n",
    "C.SaveAs('../data/calibration/trackCorrections/fig/pt_pi_pre_{}.png'.format(cat.name))"
   ]
  },
  {
   "cell_type": "code",
   "execution_count": null,
   "metadata": {
    "ExecuteTime": {
     "end_time": "2020-08-11T05:05:08.199959Z",
     "start_time": "2020-08-11T05:05:08.089070Z"
    }
   },
   "outputs": [],
   "source": [
    "C = drawVar(varRD=dfRD_bare['K_pt'], \n",
    "            varMC=dfMC_bare['K_pt'],\n",
    "#             varRDcorr=dfRD_corr['pi_pt'],\n",
    "#             varMCcorr=dfMC_corr['pi_pt'],\n",
    "#             opt='',\n",
    "            binning=[100, 0, 25], \n",
    "            xtitle='K p_{T} [GeV]', \n",
    "            legLoc=[0.7, 0.6, 0.9, 0.8])\n",
    "C.SaveAs('../data/calibration/trackCorrections/fig/pt_K_pre_{}.png'.format(cat.name))"
   ]
  },
  {
   "cell_type": "code",
   "execution_count": null,
   "metadata": {
    "ExecuteTime": {
     "end_time": "2020-08-11T05:05:08.314815Z",
     "start_time": "2020-08-11T05:05:08.204459Z"
    }
   },
   "outputs": [],
   "source": [
    "C = drawVar(varRD=dfRD_bare['pis_pt'], \n",
    "            varMC=dfMC_bare['pis_pt'],\n",
    "#             varRDcorr=dfRD_corr['pi_pt'],\n",
    "#             varMCcorr=dfMC_corr['pi_pt'],\n",
    "#             opt='',\n",
    "            binning=[100, 0.3, 2.5], \n",
    "            xtitle='Soft #pi p_{T} [GeV]', \n",
    "            legLoc=[0.7, 0.6, 0.9, 0.8])\n",
    "C.SaveAs('../data/calibration/trackCorrections/fig/pt_pis_pre_{}.png'.format(cat.name))"
   ]
  },
  {
   "cell_type": "code",
   "execution_count": null,
   "metadata": {
    "ExecuteTime": {
     "end_time": "2020-08-11T05:05:08.333973Z",
     "start_time": "2020-08-11T05:05:08.319596Z"
    }
   },
   "outputs": [],
   "source": [
    "# dsetRDJpsi_loc = '../data/cmsRD/skimmed/B2JpsiKst_200124_{}.root'.format(cat.name)\n",
    "# df_RDjpsi = pd.DataFrame(rtnp.root2array(dsetRDJpsi_loc))\n",
    "# dsetMC_loc = '../data/cmsMC_private/BPH_Tag-Probe_B0_JpsiKst-mumuKpi-kp_13TeV-pythia8_Hardbbbar_PTFilter5_0p0-evtgen_SVV_PU20_10-2-3/'\n",
    "# dsetMC_loc += 'ntuples_B2JpsiKst/skimmed/{}.root'.format(cat.name)\n",
    "# df_MCjpsi= pd.DataFrame(rtnp.root2array(dsetMC_loc))"
   ]
  },
  {
   "cell_type": "code",
   "execution_count": null,
   "metadata": {
    "ExecuteTime": {
     "end_time": "2020-08-11T05:05:08.361999Z",
     "start_time": "2020-08-11T05:05:08.337428Z"
    }
   },
   "outputs": [],
   "source": [
    "# C = drawVar(varRD=varMass(df_RDjpsi, sp1='mum', sp2='mup', m1=m_mu, m2=m_mu), \n",
    "#             varMC=varMass(df_MCjpsi, sp1='mum', sp2='mup', m1=m_mu, m2=m_mu),\n",
    "#             varRDcorr=varMass(df_RDjpsi, sp1='mum', sp2='mup', m1=m_mu, m2=m_mu, scalePt=scalePt, shiftE=shiftE, applyBmap=True),\n",
    "#             varMCcorr=varMass(df_MCjpsi, sp1='mum', sp2='mup', m1=m_mu, m2=m_mu, relSmear=relSmear),\n",
    "#             binning=[50, m_jpsi-0.1, m_jpsi+0.1], \n",
    "#             xtitle='M(#mu#mu) [GeV]')"
   ]
  },
  {
   "cell_type": "code",
   "execution_count": null,
   "metadata": {
    "ExecuteTime": {
     "end_time": "2020-08-11T05:05:08.558432Z",
     "start_time": "2020-08-11T05:05:08.365603Z"
    }
   },
   "outputs": [],
   "source": [
    "C = drawVar(varRD=dfRD_bare['mass_D0pis'],\n",
    "            varMC=dfMC_bare['mass_D0pis'],\n",
    "            varRDcorr=dfRD_corr['mass_D0pis'],\n",
    "            varMCcorr=dfMC_corr['mass_D0pis'],\n",
    "            binning=[100, m_Dst-0.03, m_Dst+0.03], \n",
    "            xtitle='M(#piK#pi) [GeV]')\n",
    "C.SaveAs('../data/calibration/trackCorrections/fig/mDst_post_{}.png'.format(cat.name))"
   ]
  },
  {
   "cell_type": "code",
   "execution_count": null,
   "metadata": {
    "ExecuteTime": {
     "end_time": "2020-08-11T05:05:08.724113Z",
     "start_time": "2020-08-11T05:05:08.563212Z"
    }
   },
   "outputs": [],
   "source": [
    "C = drawVar(varRD=1e3*(dfRD_bare['mass_D0pis'] - dfRD_bare['mass_piK']),\n",
    "            varMC=1e3*(dfMC_bare['mass_D0pis'] - dfMC_bare['mass_piK']),\n",
    "            varRDcorr=1e3*(dfRD_corr['mass_D0pis'] - dfRD_corr['mass_piK']),\n",
    "            varMCcorr=1e3*(dfMC_corr['mass_D0pis'] - dfMC_corr['mass_piK']),\n",
    "            binning=[100, 1e3*dm - 2, 1e3*dm + 2], \n",
    "            xtitle='M(#piK#pi) - M(#piK) [MeV]')\n",
    "C.SaveAs('../data/calibration/trackCorrections/fig/dm_post_{}.png'.format(cat.name))"
   ]
  },
  {
   "cell_type": "markdown",
   "metadata": {},
   "source": [
    "### Mass in different regions"
   ]
  },
  {
   "cell_type": "code",
   "execution_count": null,
   "metadata": {
    "ExecuteTime": {
     "end_time": "2020-08-11T05:05:10.033559Z",
     "start_time": "2020-08-11T05:05:08.728689Z"
    }
   },
   "outputs": [],
   "source": [
    "bins = np.concatenate((np.linspace(0.07, 0.4, 10), np.linspace(0.5, 1.8, 5)))\n",
    "\n",
    "draw_dM_vs_x(dfRD_bare['mass_piK'], dfMC_corr['mass_piK'], None, \n",
    "             compute_mR(dfRD_bare), compute_mR(dfMC_corr), None,\n",
    "             bins, r'$m_R(D_0\\to \\pi K)$ [GeV]')\n",
    "plt.title('Category: ' + cat.name)\n",
    "plt.savefig('../data/calibration/trackCorrections/fig/dm_vs_mR_pre_{}.png'.format(cat.name), bbox_inches='tight')"
   ]
  },
  {
   "cell_type": "code",
   "execution_count": null,
   "metadata": {
    "ExecuteTime": {
     "end_time": "2020-08-11T05:05:10.933694Z",
     "start_time": "2020-08-11T05:05:10.037200Z"
    }
   },
   "outputs": [],
   "source": [
    "binsPt = np.array([0, 3.2, 5, 8, 12, 20])\n",
    "avgRD = []\n",
    "avgRDcorr = []\n",
    "avgMC = []\n",
    "\n",
    "for i in range(len(binsPt)-1):\n",
    "    mpt = binsPt[i]\n",
    "    Mpt = binsPt[i+1]\n",
    "    selm = np.logical_and(dfRD_bare['pi_pt']>mpt, dfRD_bare['K_pt']>mpt)\n",
    "    selM = np.logical_and(dfRD_bare['pi_pt']<Mpt, dfRD_bare['K_pt']<Mpt)    \n",
    "    selRD = np.logical_and(selm, selM)\n",
    "    avgRD.append(getAvg(dfRD_bare['mass_piK'][selRD]))\n",
    "    \n",
    "    selm = np.logical_and(dfRD_corr['pi_pt']>mpt, dfRD_corr['K_pt']>mpt)\n",
    "    selM = np.logical_and(dfRD_corr['pi_pt']<Mpt, dfRD_corr['K_pt']<Mpt)    \n",
    "    selRD = np.logical_and(selm, selM)\n",
    "    avgRDcorr.append(getAvg(dfRD_corr['mass_piK'][selRD]))\n",
    "    \n",
    "    selm = np.logical_and(dfMC_bare['pi_pt']>mpt, dfMC_bare['K_pt']>mpt)\n",
    "    selM = np.logical_and(dfMC_bare['pi_pt']<Mpt, dfMC_bare['K_pt']<Mpt)    \n",
    "    selMC = np.logical_and(selm, selM)\n",
    "    avgMC.append(getAvg(dfMC_bare['mass_piK'][selMC]))\n",
    "\n",
    "avgRD = 1e3*np.array(avgRD)\n",
    "avgRDcorr = 1e3*np.array(avgRDcorr)\n",
    "avgMC = 1e3*np.array(avgMC)\n",
    "\n",
    "x = (binsPt[1:] + binsPt[:-1])/2.\n",
    "dx = (binsPt[1:] - binsPt[:-1])/2.\n",
    "plt.rcParams.update({'font.size': 20})\n",
    "f = plt.figure(figsize=(8,6))\n",
    "plt.plot(binsPt, [0]*len(binsPt), 'm--', lw=2)\n",
    "plt.errorbar(x, avgRD[:,0]-1e3*m_D0, yerr=avgRD[:,1], xerr=dx, fmt='.', label='RD', color='black')\n",
    "# plt.errorbar(x, avgRDcorr[:,0]-1e3*m_D0, yerr=avgRDcorr[:,1], xerr=dx, fmt='.', color='black', label='RD corr')\n",
    "plt.errorbar(x, avgMC[:,0]-1e3*m_D0, yerr=avgMC[:,1], xerr=dx, fmt='.', label='MC', color='deepskyblue')\n",
    "plt.legend(loc='best', numpoints=1)\n",
    "plt.xlabel('Tracks pT [GeV]')\n",
    "plt.ylabel('<m($\\pi$K) - m$_{D_0}$> [MeV]')\n",
    "plt.title('Category: ' + cat.name)\n",
    "plt.savefig('../data/calibration/trackCorrections/fig/dm_vs_pt_pre_{}.png'.format(cat.name), bbox_inches='tight')"
   ]
  },
  {
   "cell_type": "code",
   "execution_count": null,
   "metadata": {
    "ExecuteTime": {
     "end_time": "2020-08-11T05:05:11.790710Z",
     "start_time": "2020-08-11T05:05:10.938345Z"
    }
   },
   "outputs": [],
   "source": [
    "f = plt.figure(figsize=(8,6))\n",
    "plt.plot(binsPt, [0]*len(binsPt), 'm--', lw=2)\n",
    "plt.errorbar(x, avgRD[:,0]-1e3*m_D0, yerr=avgRD[:,1], xerr=dx, fmt='.', label='RD', color='gray')\n",
    "plt.errorbar(x, avgRDcorr[:,0]-1e3*m_D0, yerr=avgRDcorr[:,1], xerr=dx, fmt='.', color='black', label='RD corr')\n",
    "plt.errorbar(x, avgMC[:,0]-1e3*m_D0, yerr=avgMC[:,1], xerr=dx, fmt='.', label='MC', color='deepskyblue')\n",
    "plt.legend(loc='best', numpoints=1)\n",
    "plt.xlabel('Tracks pT [GeV]')\n",
    "plt.ylabel('<m($\\pi$K) - m$_{D_0}$> [MeV]')\n",
    "plt.title('Category: ' + cat.name)\n",
    "plt.savefig('../data/calibration/trackCorrections/fig/dm_vs_pt_post_{}.png'.format(cat.name), bbox_inches='tight')"
   ]
  },
  {
   "cell_type": "code",
   "execution_count": null,
   "metadata": {
    "ExecuteTime": {
     "end_time": "2020-08-11T05:05:12.463792Z",
     "start_time": "2020-08-11T05:05:11.795443Z"
    }
   },
   "outputs": [],
   "source": [
    "draw_dM_vs_x(dfRD_bare['mass_piK'], dfMC_corr['mass_piK'], dfRD_corr['mass_piK'], \n",
    "             dfRD_bare['pi_pt'], dfMC_corr['pi_pt'], dfRD_corr['pi_pt'],\n",
    "             binsPt, r'$\\pi\\ p_T$ [GeV]')"
   ]
  },
  {
   "cell_type": "code",
   "execution_count": null,
   "metadata": {
    "ExecuteTime": {
     "end_time": "2020-08-11T05:05:13.318138Z",
     "start_time": "2020-08-11T05:05:12.468619Z"
    }
   },
   "outputs": [],
   "source": [
    "selRD = np.abs(dfRD_bare['pi_eta']) > 0.5\n",
    "selMC = np.abs(dfMC_corr['pi_eta']) > 0.5\n",
    "selRDcorr = np.abs(dfRD_corr['pi_eta']) > 0.5\n",
    "draw_dM_vs_x(dfRD_bare['mass_piK'][selRD], dfMC_corr['mass_piK'][selMC], dfRD_corr['mass_piK'][selRDcorr], \n",
    "             dfRD_bare['pi_pt'][selRD], dfMC_corr['pi_pt'][selMC], dfRD_corr['pi_pt'][selRDcorr],\n",
    "             binsPt, r'$\\pi\\ p_T$ [GeV]')\n",
    "\n",
    "plt.text(15, -0.5, r'$|\\eta_\\pi| > 0.5$')"
   ]
  },
  {
   "cell_type": "code",
   "execution_count": null,
   "metadata": {
    "ExecuteTime": {
     "end_time": "2020-08-11T05:05:14.015774Z",
     "start_time": "2020-08-11T05:05:13.323204Z"
    }
   },
   "outputs": [],
   "source": [
    "draw_dM_vs_x(dfRD_bare['mass_piK'], dfMC_corr['mass_piK'], dfRD_corr['mass_piK'], \n",
    "             dfRD_bare['K_pt'], dfMC_corr['K_pt'], dfRD_corr['K_pt'],\n",
    "             binsPt, r'$K\\ p_T$ [GeV]')"
   ]
  },
  {
   "cell_type": "code",
   "execution_count": null,
   "metadata": {
    "ExecuteTime": {
     "end_time": "2020-08-11T05:05:14.759463Z",
     "start_time": "2020-08-11T05:05:14.019787Z"
    }
   },
   "outputs": [],
   "source": [
    "draw_dM_vs_x(dfRD_bare['mass_piK'], dfMC_corr['mass_piK'], dfRD_corr['mass_piK'], \n",
    "             dfRD_bare['pi_eta'], dfMC_corr['pi_eta'], dfRD_corr['pi_eta'],\n",
    "             np.linspace(-2, 2, 8), r'$\\eta_\\pi$')"
   ]
  },
  {
   "cell_type": "code",
   "execution_count": null,
   "metadata": {
    "ExecuteTime": {
     "end_time": "2020-08-11T05:05:14.770159Z",
     "start_time": "2020-08-11T05:05:14.764167Z"
    }
   },
   "outputs": [],
   "source": [
    "# draw_dM_vs_x(df['mass_piK'], df_MC['mass_piK'], m_piK_RDcorr, df['K_eta'], df_MC['K_eta'], np.linspace(-2, 2, 8), r'$\\eta_K$')"
   ]
  },
  {
   "cell_type": "code",
   "execution_count": null,
   "metadata": {
    "ExecuteTime": {
     "end_time": "2020-08-11T05:05:16.053256Z",
     "start_time": "2020-08-11T05:05:14.774769Z"
    }
   },
   "outputs": [],
   "source": [
    "draw_dM_vs_x(dfRD_bare['mass_piK'], dfMC_corr['mass_piK'], dfRD_corr['mass_piK'], \n",
    "             dfRD_bare['D0_eta'], dfMC_corr['D0_eta'], dfRD_corr['D0_eta'],\n",
    "             np.linspace(-2, 2, 8), r'$\\eta_{D_0}$')\n",
    "plt.title('Category: ' + cat.name)\n",
    "plt.savefig('../data/calibration/trackCorrections/fig/dm_vs_eta_post_{}.png'.format(cat.name), bbox_inches='tight')"
   ]
  },
  {
   "cell_type": "code",
   "execution_count": null,
   "metadata": {
    "ExecuteTime": {
     "end_time": "2020-08-11T05:05:16.072790Z",
     "start_time": "2020-08-11T05:05:16.057282Z"
    }
   },
   "outputs": [],
   "source": [
    "# draw_dM_vs_x(df['mass_piK'], df_MC['mass_piK'], m_piK_RDcorr, df['D0_phi'], df_MC['D0_phi'], np.linspace(-4, 4, 8), r'$D_0\\ \\phi$ [rad]')"
   ]
  },
  {
   "cell_type": "code",
   "execution_count": null,
   "metadata": {
    "ExecuteTime": {
     "end_time": "2020-08-11T05:05:18.285509Z",
     "start_time": "2020-08-11T05:05:16.076240Z"
    }
   },
   "outputs": [],
   "source": [
    "etaBins = [-2.2, -1, 1., 2.2]\n",
    "for ie, (em, eM) in enumerate(zip(etaBins[:-1], etaBins[1:])):\n",
    "    selEtaRDcorr = np.logical_and(dfRD_corr['D0_eta'] > em, dfRD_corr['D0_eta'] < eM)\n",
    "    selEtaRDbare = np.logical_and(dfRD_bare['D0_eta'] > em, dfRD_bare['D0_eta'] < eM)\n",
    "    selEtaMCcorr = np.logical_and(dfMC_corr['D0_eta'] > em, dfMC_corr['D0_eta'] < eM)\n",
    "    selEtaMCbare = np.logical_and(dfMC_bare['D0_eta'] > em, dfMC_bare['D0_eta'] < eM)\n",
    "    draw_dM_vs_x(dfRD_bare['mass_piK'][selEtaRDbare],\n",
    "                 dfMC_corr['mass_piK'][selEtaMCcorr],\n",
    "                 dfRD_corr['mass_piK'][selEtaRDcorr],\n",
    "                 dfRD_bare['D0_phi'][selEtaRDbare], \n",
    "                 dfMC_corr['D0_phi'][selEtaMCcorr],\n",
    "                 dfRD_corr['D0_phi'][selEtaRDcorr], \n",
    "                 bins=np.linspace(-np.pi, np.pi, 8), \n",
    "                 xlabel=r'$D_0\\ \\phi$ [rad]')\n",
    "    plt.ylim(plt.ylim()[0], 1.2)\n",
    "    plt.text(-3.1, 1.0, '{:.1f} < $\\eta$ < {:.1f}'.format(em, eM))"
   ]
  },
  {
   "cell_type": "code",
   "execution_count": null,
   "metadata": {
    "ExecuteTime": {
     "end_time": "2020-08-11T05:05:19.677848Z",
     "start_time": "2020-08-11T05:05:18.290339Z"
    }
   },
   "outputs": [],
   "source": [
    "bins = np.concatenate((np.linspace(0.07, 0.4, 10), np.linspace(0.5, 1.8, 5)))\n",
    "\n",
    "draw_dM_vs_x(dfRD_bare['mass_piK'], dfMC_corr['mass_piK'], dfRD_corr['mass_piK'], \n",
    "             compute_mR(dfRD_bare), compute_mR(dfMC_corr), compute_mR(dfRD_corr),\n",
    "             bins, r'$m_R(D_0\\to \\pi K)$ [GeV]')\n",
    "plt.title('Category: ' + cat.name)\n",
    "plt.savefig('../data/calibration/trackCorrections/fig/dm_vs_mR_post_{}.png'.format(cat.name), bbox_inches='tight')"
   ]
  },
  {
   "cell_type": "code",
   "execution_count": null,
   "metadata": {
    "ExecuteTime": {
     "end_time": "2020-08-11T05:05:20.847928Z",
     "start_time": "2020-08-11T05:05:19.681796Z"
    }
   },
   "outputs": [],
   "source": [
    "selRD = np.logical_and(np.abs(dfRD_bare['pi_eta']) < 0.5, np.abs(dfRD_bare['K_eta']) < 0.5)\n",
    "selMC = np.logical_and(np.abs(dfMC_corr['pi_eta']) < 0.5, np.abs(dfMC_corr['K_eta']) < 0.5)\n",
    "selRDcorr = np.logical_and(np.abs(dfRD_corr['pi_eta']) < 0.5, np.abs(dfRD_corr['K_eta']) < 0.5)\n",
    "draw_dM_vs_x(dfRD_bare['mass_piK'][selRD], dfMC_corr['mass_piK'][selMC], dfRD_corr['mass_piK'][selRDcorr], \n",
    "             compute_mR(dfRD_bare)[selRD], compute_mR(dfMC_corr)[selMC], compute_mR(dfRD_corr)[selRDcorr],\n",
    "             bins, r'$m_R(D_0\\to \\pi K)$ [GeV]')\n",
    "\n",
    "plt.text(0.25, 0.3, r'$|\\eta_\\pi| < 0.5$ and $|\\eta_K| < 0.5$')"
   ]
  },
  {
   "cell_type": "code",
   "execution_count": null,
   "metadata": {
    "ExecuteTime": {
     "end_time": "2020-08-11T05:05:20.941474Z",
     "start_time": "2020-08-11T05:05:20.853345Z"
    }
   },
   "outputs": [],
   "source": [
    "C = drawVar(varRD=1./dfRD_bare['pi_pt'],\n",
    "            varMC=1./dfMC_bare['pi_pt'],\n",
    "            binning=[100, 0, 1.3], \n",
    "            xtitle='1/p_{T}^{#pi} [GeV^{-1}]')"
   ]
  },
  {
   "cell_type": "code",
   "execution_count": null,
   "metadata": {
    "ExecuteTime": {
     "end_time": "2020-08-11T05:05:21.980743Z",
     "start_time": "2020-08-11T05:05:20.944955Z"
    },
    "scrolled": true
   },
   "outputs": [],
   "source": [
    "selRD = np.logical_and(np.abs(dfRD_bare['pi_pt']) > 10, np.abs(dfRD_bare['K_pt']) > 10)\n",
    "selMC = np.logical_and(np.abs(dfMC_corr['pi_pt']) > 10, np.abs(dfMC_corr['K_pt']) > 10)\n",
    "selRDcorr = np.logical_and(np.abs(dfRD_corr['pi_pt']) > 10, np.abs(dfRD_corr['K_pt']) > 10)\n",
    "draw_dM_vs_x(dfRD_bare['mass_piK'][selRD], dfMC_corr['mass_piK'][selMC], dfRD_corr['mass_piK'][selRDcorr], \n",
    "             compute_mR(dfRD_bare)[selRD], compute_mR(dfMC_corr)[selMC], compute_mR(dfRD_corr)[selRDcorr],\n",
    "             bins, r'$m_R(D_0\\to \\pi K)$ [GeV]')\n",
    "\n",
    "plt.text(0.07, -1.7, r'$k_\\pi < 0.1 $ and $k_K < 0.1$')"
   ]
  },
  {
   "cell_type": "code",
   "execution_count": null,
   "metadata": {
    "ExecuteTime": {
     "end_time": "2020-08-11T05:05:23.234421Z",
     "start_time": "2020-08-11T05:05:21.984645Z"
    }
   },
   "outputs": [],
   "source": [
    "bins = np.concatenate((np.linspace(0.07, 0.3, 10), np.linspace(0.35, 0.8, 5)))\n",
    "\n",
    "draw_dM_vs_x(dfRD_bare['mass_piK'], dfMC_corr['mass_piK'], dfRD_corr['mass_piK'], \n",
    "             compute_rC(dfRD_bare)[:,0], compute_rC(dfMC_corr)[:,0], compute_rC(dfRD_corr)[:,0],\n",
    "             bins, r'$r_C^\\pi(D_0\\to \\pi K)$')"
   ]
  },
  {
   "cell_type": "code",
   "execution_count": null,
   "metadata": {
    "ExecuteTime": {
     "end_time": "2020-08-11T05:05:24.463521Z",
     "start_time": "2020-08-11T05:05:23.240078Z"
    }
   },
   "outputs": [],
   "source": [
    "bins = np.concatenate((np.linspace(0.07, 0.15, 10), np.linspace(0.2, 0.4, 5)))\n",
    "\n",
    "draw_dM_vs_x(dfRD_bare['mass_piK'], dfMC_corr['mass_piK'], dfRD_corr['mass_piK'], \n",
    "             compute_rC(dfRD_bare)[:,1], compute_rC(dfMC_corr)[:,1], compute_rC(dfRD_corr)[:,1],\n",
    "             bins, r'$r_C^K(D_0\\to \\pi K)$')"
   ]
  },
  {
   "cell_type": "code",
   "execution_count": null,
   "metadata": {
    "ExecuteTime": {
     "end_time": "2020-08-11T05:10:32.602074Z",
     "start_time": "2020-08-11T05:10:31.624997Z"
    },
    "hide_input": true
   },
   "outputs": [],
   "source": [
    "binsBG = np.array([0, 10, 15, 20, 30, 50, 70])\n",
    "bgMC = np.column_stack((dfMC_bare['pi_pt']*np.cosh(dfMC_bare['pi_eta'])/m_pi, dfMC_bare['K_pt']*np.cosh(dfMC_bare['K_eta'])/m_K))\n",
    "bgRD = np.column_stack((dfRD_bare['pi_pt']*np.cosh(dfRD_bare['pi_eta'])/m_pi, dfRD_bare['K_pt']*np.cosh(dfRD_bare['K_eta'])/m_K))\n",
    "bgRD_corr = np.column_stack((dfRD_corr['pi_pt']*np.cosh(dfRD_corr['pi_eta'])/m_pi, dfRD_corr['K_pt']*np.cosh(dfRD_corr['K_eta'])/m_K))\n",
    "\n",
    "avgRD = []\n",
    "avgRDcorr = []\n",
    "avgMC = []\n",
    "\n",
    "for i in range(len(binsBG)-1):\n",
    "    m = binsBG[i]\n",
    "    M = binsBG[i+1]\n",
    "    selm = np.logical_and(bgRD[:,0]>m, bgRD[:,1]>m)\n",
    "    selM = np.logical_and(bgRD[:,0]<M, bgRD[:,1]<M)    \n",
    "    selRD = np.logical_and(selm, selM)\n",
    "    avgRD.append(getAvg(dfRD_bare['mass_piK'][selRD]))\n",
    "    selm = np.logical_and(bgRD_corr[:,0]>m, bgRD_corr[:,1]>m)\n",
    "    selM = np.logical_and(bgRD_corr[:,0]<M, bgRD_corr[:,1]<M)    \n",
    "    selRD = np.logical_and(selm, selM)\n",
    "    avgRDcorr.append(getAvg(dfRD_corr['mass_piK'][selRD]))\n",
    "    \n",
    "    selm = np.logical_and(bgMC[:,0]>m, bgMC[:,1]>m)\n",
    "    selM = np.logical_and(bgMC[:,0]<M, bgMC[:,1]<M)    \n",
    "    selMC = np.logical_and(selm, selM)\n",
    "    avgMC.append(getAvg(dfMC_bare['mass_piK'][selMC]))\n",
    "\n",
    "avgRD = 1e3*np.array(avgRD)\n",
    "avgRDcorr = 1e3*np.array(avgRDcorr)\n",
    "avgMC = 1e3*np.array(avgMC)\n",
    "\n",
    "x = (binsBG[1:] + binsBG[:-1])/2.\n",
    "dx = (binsBG[1:] - binsBG[:-1])/2.\n",
    "plt.rcParams.update({'font.size': 20})\n",
    "f = plt.figure(figsize=(8,6))\n",
    "plt.errorbar(x, avgRD[:,0]-1e3*m_D0, yerr=avgRD[:,1], xerr=dx, fmt='.', label='RD', color='gray')\n",
    "plt.errorbar(x, avgRDcorr[:,0]-1e3*m_D0, yerr=avgRDcorr[:,1], xerr=dx, fmt='.', label='RD corr', color='black')\n",
    "plt.errorbar(x, avgMC[:,0]-1e3*m_D0, yerr=avgMC[:,1], xerr=dx, fmt='.', label='MC', color='deepskyblue')\n",
    "plt.legend(loc='best', numpoints=1)\n",
    "plt.xlabel(r'Tracks $\\beta \\gamma$')\n",
    "plt.ylabel('<m($\\pi$K) - m$_{D_0}$> [MeV]')"
   ]
  },
  {
   "cell_type": "code",
   "execution_count": null,
   "metadata": {
    "ExecuteTime": {
     "end_time": "2020-08-11T05:12:01.172480Z",
     "start_time": "2020-08-11T05:12:00.499624Z"
    }
   },
   "outputs": [],
   "source": [
    "draw_dM_vs_x(dfRD_bare['mass_piK'], dfMC_bare['mass_piK'], dfRD_corr['mass_piK'], \n",
    "             bgRD[:,0], bgMC[:,0], bgRD_corr[:,0],\n",
    "             binsBG, r'$\\pi\\ \\beta \\gamma$')"
   ]
  },
  {
   "cell_type": "code",
   "execution_count": null,
   "metadata": {
    "ExecuteTime": {
     "end_time": "2020-08-11T05:12:40.913277Z",
     "start_time": "2020-08-11T05:12:39.927337Z"
    }
   },
   "outputs": [],
   "source": [
    "draw_dM_vs_x(dfRD_bare['mass_piK'], dfMC_bare['mass_piK'], dfRD_corr['mass_piK'], \n",
    "             bgRD[:,1], bgMC[:,1], bgRD_corr[:,1],\n",
    "             binsBG, r'K $\\beta \\gamma$')"
   ]
  },
  {
   "cell_type": "markdown",
   "metadata": {
    "heading_collapsed": true
   },
   "source": [
    "# Fit variables distributions"
   ]
  },
  {
   "cell_type": "code",
   "execution_count": null,
   "metadata": {
    "ExecuteTime": {
     "end_time": "2020-08-11T05:23:05.013843Z",
     "start_time": "2020-08-11T05:23:04.679357Z"
    },
    "hidden": true
   },
   "outputs": [],
   "source": [
    "variables = ['q2', 'Est_mu', 'M2_miss']\n",
    "axis_title = ['q^{2} [GeV^{2}]', 'E*_{#mu} [GeV]', 'M^{2}_{miss} [GeV^{2}]']\n",
    "binnings = [[100, -2, 11.], [100, 0.3, 2.5], [100, -2.5, 5]]\n",
    "dnd = []\n",
    "for var, a, b in zip(variables, axis_title, binnings):\n",
    "    C = drawVar(varRD=dfRD_bare[var],\n",
    "                varMC=dfMC_bare[var],\n",
    "                varRDcorr=dfRD_corr[var],\n",
    "                varMCcorr=dfMC_corr[var],\n",
    "                binning=b, \n",
    "                xtitle=a, cTag='c_'+var)\n",
    "    dnd.append(C)"
   ]
  },
  {
   "cell_type": "code",
   "execution_count": null,
   "metadata": {
    "hidden": true
   },
   "outputs": [],
   "source": []
  }
 ],
 "metadata": {
  "kernelspec": {
   "display_name": "Python 2",
   "language": "python",
   "name": "python2"
  },
  "language_info": {
   "codemirror_mode": {
    "name": "ipython",
    "version": 2
   },
   "file_extension": ".py",
   "mimetype": "text/x-python",
   "name": "python",
   "nbconvert_exporter": "python",
   "pygments_lexer": "ipython2",
   "version": "2.7.14+"
  },
  "varInspector": {
   "cols": {
    "lenName": 16,
    "lenType": 16,
    "lenVar": 40
   },
   "kernels_config": {
    "python": {
     "delete_cmd_postfix": "",
     "delete_cmd_prefix": "del ",
     "library": "var_list.py",
     "varRefreshCmd": "print(var_dic_list())"
    },
    "r": {
     "delete_cmd_postfix": ") ",
     "delete_cmd_prefix": "rm(",
     "library": "var_list.r",
     "varRefreshCmd": "cat(var_dic_list()) "
    }
   },
   "types_to_exclude": [
    "module",
    "function",
    "builtin_function_or_method",
    "instance",
    "_Feature"
   ],
   "window_display": false
  }
 },
 "nbformat": 4,
 "nbformat_minor": 2
}
