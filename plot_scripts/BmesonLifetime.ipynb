{
 "cells": [
  {
   "cell_type": "code",
   "execution_count": 1,
   "metadata": {
    "ExecuteTime": {
     "end_time": "2020-11-03T01:30:34.462195Z",
     "start_time": "2020-11-03T01:30:34.452365Z"
    }
   },
   "outputs": [],
   "source": [
    "import sys, os, pickle, time, re\n",
    "from glob import glob\n",
    "sys.path.append('../lib')\n",
    "sys.path.append('../analysis')"
   ]
  },
  {
   "cell_type": "code",
   "execution_count": 2,
   "metadata": {
    "ExecuteTime": {
     "end_time": "2020-11-03T01:30:45.476500Z",
     "start_time": "2020-11-03T01:30:34.669045Z"
    }
   },
   "outputs": [
    {
     "name": "stdout",
     "output_type": "stream",
     "text": [
      "Welcome to JupyROOT 6.12/07\n"
     ]
    }
   ],
   "source": [
    "import numpy as np\n",
    "from scipy import stats\n",
    "import pandas as pd\n",
    "import matplotlib.pyplot as plt\n",
    "from array import array\n",
    "\n",
    "import ROOT as rt\n",
    "rt.TGaxis.SetMaxDigits(4)\n",
    "rt.gErrorIgnoreLevel = rt.kError\n",
    "rt.RooMsgService.instance().setGlobalKillBelow(rt.RooFit.ERROR)\n",
    "import ROOT.RooFit as rf\n",
    "import root_numpy as rtnp\n",
    "\n",
    "from analysis_utilities import drawOnCMSCanvas, getEff, DSetLoader\n",
    "from histo_utilities import create_TH1D, create_TH2D, SetMaxToMaxHist, std_color_list\n",
    "from gridVarQ2Plot import col_dic, label_dic\n",
    "from progressBar import ProgressBar\n",
    "from categoriesDef import categories\n",
    "from pT_calibration_reader import pTCalReader\n",
    "\n",
    "from lumi_utilities import getLumiByTrigger\n",
    "\n",
    "import CMS_lumi, tdrstyle\n",
    "tdrstyle.setTDRStyle()\n",
    "CMS_lumi.writeExtraText = 1\n",
    "CMS_lumi.extraText = 6*' ' + 'Simulation Internal'\n",
    "\n",
    "donotdelete = []"
   ]
  },
  {
   "cell_type": "code",
   "execution_count": 3,
   "metadata": {
    "ExecuteTime": {
     "end_time": "2020-11-03T01:30:45.647794Z",
     "start_time": "2020-11-03T01:30:45.633207Z"
    }
   },
   "outputs": [],
   "source": [
    "cl = rt.TLine()\n",
    "cl.SetLineColor(6)\n",
    "cl.SetLineStyle(9)\n",
    "cl.SetLineWidth(2)"
   ]
  },
  {
   "cell_type": "code",
   "execution_count": 4,
   "metadata": {
    "ExecuteTime": {
     "end_time": "2020-11-03T01:30:45.813966Z",
     "start_time": "2020-11-03T01:30:45.798768Z"
    }
   },
   "outputs": [],
   "source": [
    "def computeB0pTweights(ds, cal_pT):\n",
    "    # The denominator (sum of weights) for this weights is not known but it cancel out in the ratio\n",
    "    w = cal_pT.f['C'](ds['MC_B_pt'])\n",
    "    if np.sum(w==0):\n",
    "        print np.sum(w==0)\n",
    "        raise\n",
    "    up = cal_pT.f['Up'](ds['MC_B_pt'])\n",
    "    down = cal_pT.f['Down'](ds['MC_B_pt'])\n",
    "    return w, up, down"
   ]
  },
  {
   "cell_type": "code",
   "execution_count": 5,
   "metadata": {
    "ExecuteTime": {
     "end_time": "2020-11-03T01:31:04.682039Z",
     "start_time": "2020-11-03T01:30:45.953684Z"
    }
   },
   "outputs": [],
   "source": [
    "df = {}\n",
    "ptCal = {}\n",
    "dsMu = DSetLoader('B0_MuNuDmst_PUc0')\n",
    "wPt = {}\n",
    "for cat in ['high']:\n",
    "# for cat in ['low', 'mid', 'high']:\n",
    "    ptCal[cat] = pTCalReader(calibration_file='../data/calibration/B0pTspectrum/pwWeights_{}.txt'.format(cat.capitalize()))\n",
    "    \n",
    "    fn = '/'+cat.capitalize()+'_corr.root'\n",
    "    df['MC'+cat] = pd.DataFrame(rtnp.root2array(dsMu.skimmed_dir+fn))\n",
    "    wPt['MC'+cat] = computeB0pTweights(df['MC'+cat], ptCal[cat])\n",
    "    \n",
    "    df['RD'+cat] = pd.DataFrame(rtnp.root2array('../data/cmsRD/skimmed/B2DstMu_B0_200515_'+cat.capitalize()+'_corr.root'))\n",
    "\n",
    "    dsTau = DSetLoader('B0_TauNuDmst_PUc0')\n",
    "    df['MCtau'+cat] = pd.DataFrame(rtnp.root2array(dsTau.skimmed_dir+'/High_corr.root'))\n",
    "    wPt['MCtau'+cat] = computeB0pTweights(df['MCtau'+cat], ptCal[cat])"
   ]
  },
  {
   "cell_type": "code",
   "execution_count": 6,
   "metadata": {
    "ExecuteTime": {
     "end_time": "2020-11-03T01:31:09.361174Z",
     "start_time": "2020-11-03T01:31:09.346719Z"
    }
   },
   "outputs": [
    {
     "name": "stdout",
     "output_type": "stream",
     "text": [
      "q2\n",
      "Est_mu\n",
      "M2_miss\n",
      "U_miss\n",
      "mu_pt\n",
      "mu_eta\n",
      "mu_phi\n",
      "mu_sigdxy\n",
      "B_pt\n",
      "B_eta\n",
      "B_phi\n",
      "Dst_pt\n",
      "Dst_eta\n",
      "Dst_phi\n",
      "D0_pt\n",
      "D0_eta\n",
      "D0_phi\n",
      "pi_pt\n",
      "pi_eta\n",
      "pi_phi\n",
      "K_pt\n",
      "K_eta\n",
      "K_phi\n",
      "pval_piK\n",
      "sigdxy_vtxD0_PV\n",
      "pis_pt\n",
      "pis_eta\n",
      "pis_phi\n",
      "pval_D0pis\n",
      "mass_piK\n",
      "mass_D0pis\n",
      "mass_D0pismu\n",
      "pval_D0pismu\n",
      "chi2_D0pismu\n",
      "d_vtxD0pismu_PV\n",
      "dxy_vtxD0pismu_PV\n",
      "cos_D0pismu_PV\n",
      "cosT_D0pismu_PV\n",
      "N_goodAddTks\n",
      "tkCharge_0\n",
      "tkCharge_1\n",
      "tkPt_0\n",
      "tkPt_1\n",
      "tkPtError_0\n",
      "tkPtError_1\n",
      "tkEta_0\n",
      "tkEta_1\n",
      "tkPhi_0\n",
      "tkPhi_1\n",
      "tkMassVis_0\n",
      "tkMassVis_1\n",
      "tkMassHad_0\n",
      "tkMassHad_1\n",
      "tkMassMuTk_0\n",
      "tkMassMuTk_1\n",
      "tkMassMiss2_0\n",
      "tkMassMiss2_1\n",
      "tkUmiss_0\n",
      "tkUmiss_1\n",
      "tkMassVis12\n",
      "tkMassHad12\n",
      "tkUmiss12\n",
      "cat_low\n",
      "cat_mid\n",
      "cat_high\n",
      "muPass_Mu12_IP6\n",
      "muPass_Mu9_IP6\n",
      "muPass_Mu7_IP4\n",
      "N_vtx\n",
      "localVertexDensity\n",
      "MC_q2\n",
      "MC_Est_mu\n",
      "MC_M2_miss\n",
      "MC_B_pt\n",
      "MC_B_eta\n",
      "MC_B_phi\n",
      "MC_B_ctau\n",
      "MC_Dst_pt\n",
      "MC_Dst_eta\n",
      "MC_Dst_phi\n",
      "MC_mu_pt\n",
      "MC_mu_eta\n",
      "MC_mu_phi\n",
      "MC_mu_TransvIP_PV\n",
      "MC_mu_TransvIP_vtxDst\n",
      "MC_mu_IP_vtxDst\n",
      "MC_pi_pt\n",
      "MC_pi_eta\n",
      "MC_pi_phi\n",
      "MC_K_pt\n",
      "MC_K_eta\n",
      "MC_K_phi\n",
      "MC_pis_pt\n",
      "MC_pis_eta\n",
      "MC_pis_phi\n",
      "MC_idxMatch\n",
      "MC_muMotherPdgId\n",
      "MC_munuSisterPdgId\n",
      "MC_DstMotherPdgId\n",
      "MC_DstSisterPdgId_heavy\n",
      "MC_DstSisterPdgId_light\n",
      "MC_tkFlag_0\n",
      "MC_tkFlag_1\n",
      "MC_tk_dpt_0\n",
      "MC_tk_dpt_1\n",
      "MC_tk_deta_0\n",
      "MC_tk_deta_1\n",
      "MC_tk_dphi_0\n",
      "MC_tk_dphi_1\n",
      "MC_tkPdgId_0\n",
      "MC_tkPdgId_1\n",
      "MC_tkMotherPdgId_0\n",
      "MC_tkMotherPdgId_1\n",
      "MC_tkMotherMotherPdgId_0\n",
      "MC_tkMotherMotherPdgId_1\n",
      "wh_CLNCentral\n",
      "wh_CLNR0Down\n",
      "wh_CLNR0Up\n",
      "wh_CLNeig1Down\n",
      "wh_CLNeig1Up\n",
      "wh_CLNeig2Down\n",
      "wh_CLNeig2Up\n",
      "wh_CLNeig3Down\n",
      "wh_CLNeig3Up\n"
     ]
    }
   ],
   "source": [
    "s = '\\n'.join([k for k in df['MChigh'].columns[1:]])\n",
    "print(s)"
   ]
  },
  {
   "cell_type": "code",
   "execution_count": 7,
   "metadata": {
    "ExecuteTime": {
     "end_time": "2020-11-03T01:31:13.917821Z",
     "start_time": "2020-11-03T01:31:13.859821Z"
    },
    "code_folding": [
     0
    ]
   },
   "outputs": [],
   "source": [
    "def make_comp_plot_1D(inputs, #[x, label, color=-1 (auto), weights (None)]\n",
    "                      transformX = None,\n",
    "                      binning=[None, None, None],\n",
    "                      setLog = '',\n",
    "                      axis_title = ['', ''],\n",
    "                      scale_histo = 'norm',\n",
    "                      opt='overflow+underflow',\n",
    "                      leg_loc=[0.6, 0.7, 0.9, 0.93] # x0, y0, w, h\n",
    "                     ): \n",
    "    \n",
    "    if not leg_loc is None:\n",
    "        leg = rt.TLegend(leg_loc[0], leg_loc[1], leg_loc[0] + leg_loc[2], leg_loc[1] + leg_loc[3])\n",
    "        leg.SetBorderSize(0)\n",
    "        leg.SetFillStyle(0)\n",
    "        \n",
    "    colors = []\n",
    "    for p in inputs:\n",
    "        if len(p) > 2:\n",
    "            colors.append(p[2])\n",
    "        else:\n",
    "            colors.append(-1)\n",
    "    jStd = 0\n",
    "    for i,c in enumerate(colors):\n",
    "        if c == -1:\n",
    "            colors[i] = std_color_list[jStd]\n",
    "            jStd += 1\n",
    "    \n",
    "    hList = []\n",
    "    for i, p in enumerate(inputs):\n",
    "        if transformX is None:\n",
    "            x = p[0]\n",
    "        else:\n",
    "            x = transformX(p[0])\n",
    "        label = p[1]\n",
    "        w = p[3] if len(p) > 3 else None\n",
    "        h = create_TH1D(x, weights=w,\n",
    "                        binning=binning if i==0 else hList[0].binning, \n",
    "                        axis_title=axis_title,\n",
    "                        scale_histo=scale_histo, opt=opt,\n",
    "                       )\n",
    "        h.SetLineColor(colors[i])\n",
    "        if not leg_loc is None:\n",
    "            leg.AddEntry(h, label, 'lp')\n",
    "        hList.append(h)\n",
    "            \n",
    "    m = SetMaxToMaxHist(hList)\n",
    "    c = drawOnCMSCanvas(CMS_lumi, hList, 'same')\n",
    "    leg.Draw()\n",
    "    \n",
    "    if 'x' in setLog: c.SetLogx()\n",
    "    if 'y' in setLog: c.SetLogy()\n",
    "    \n",
    "    c.dnd = [hList, leg]\n",
    "    return c"
   ]
  },
  {
   "cell_type": "markdown",
   "metadata": {},
   "source": [
    "# General plots"
   ]
  },
  {
   "cell_type": "code",
   "execution_count": 8,
   "metadata": {
    "ExecuteTime": {
     "end_time": "2020-11-03T01:31:18.586643Z",
     "start_time": "2020-11-03T01:31:18.563215Z"
    }
   },
   "outputs": [],
   "source": [
    "txt = rt.TLatex()\n",
    "txt.SetTextSize(0.04)\n",
    "txt.SetTextFont(42)"
   ]
  },
  {
   "cell_type": "code",
   "execution_count": 27,
   "metadata": {
    "ExecuteTime": {
     "end_time": "2020-11-03T01:47:40.211364Z",
     "start_time": "2020-11-03T01:47:40.164603Z"
    }
   },
   "outputs": [],
   "source": [
    "ctau = df['MChigh']['MC_B_ctau']\n",
    "t0 = 0.457\n",
    "t1 = 0.455 + 3*0.008\n",
    "wCtau = t0/t1 * np.exp(ctau * (1/t0 - 1/t1))"
   ]
  },
  {
   "cell_type": "code",
   "execution_count": 32,
   "metadata": {
    "ExecuteTime": {
     "end_time": "2020-11-03T01:54:29.809133Z",
     "start_time": "2020-11-03T01:54:29.670982Z"
    }
   },
   "outputs": [
    {
     "data": {
      "text/plain": [
       "<ROOT.TLatex object at 0xfc23d70>"
      ]
     },
     "execution_count": 32,
     "metadata": {},
     "output_type": "execute_result"
    },
    {
     "data": {
      "image/png": "[encoded data removed]",
      "text/plain": [
       "<IPython.core.display.Image object>"
      ]
     },
     "metadata": {},
     "output_type": "display_data"
    }
   ],
   "source": [
    "make_comp_plot_1D(\n",
    "    [\n",
    "        [df['MCtauhigh']['MC_B_ctau'], label_dic['tau']],\n",
    "        [df['MChigh']['MC_B_ctau'], label_dic['mu']], \n",
    "        [df['MChigh']['MC_B_ctau'], label_dic['mu'] + '(+3#sigma)', -1, wCtau],\n",
    "    ],\n",
    "#     transformX = lambda x: 10*np.abs(x),\n",
    "#     binning=np.logspace(-6, 1, 70), setLog='x',\n",
    "    binning=[50, 0, 0.4],\n",
    "    axis_title = ['B c#tau (gen truth) [cm]', 'Normalized events'],\n",
    "    leg_loc=[0.6, 0.75, 0.28, 0.15]\n",
    ")\n",
    "\n",
    "txt.SetTextAlign(33)\n",
    "txt.DrawLatexNDC(0.97, 0.94, 'High cat.')"
   ]
  },
  {
   "cell_type": "code",
   "execution_count": 31,
   "metadata": {
    "ExecuteTime": {
     "end_time": "2020-11-03T01:49:03.995028Z",
     "start_time": "2020-11-03T01:49:03.821459Z"
    }
   },
   "outputs": [
    {
     "data": {
      "text/plain": [
       "<ROOT.TLatex object at 0xfc2fbf0>"
      ]
     },
     "execution_count": 31,
     "metadata": {},
     "output_type": "execute_result"
    },
    {
     "data": {
      "image/png": "[encoded data removed]",
      "text/plain": [
       "<IPython.core.display.Image object>"
      ]
     },
     "metadata": {},
     "output_type": "display_data"
    }
   ],
   "source": [
    "make_comp_plot_1D(\n",
    "    [\n",
    "        [df['MCtauhigh']['d_vtxD0pismu_PV'], label_dic['tau'] + '(pt w.)', -1, wPt['MCtauhigh'][0]],\n",
    "        [df['MChigh']['d_vtxD0pismu_PV'], label_dic['mu'] + '(bare)'],\n",
    "        [df['MChigh']['d_vtxD0pismu_PV'], label_dic['mu'] + '(pt w.)', -1, wPt['MChigh'][0]],\n",
    "        [df['MChigh']['d_vtxD0pismu_PV'], label_dic['mu'] + '(pt w. & c#tau+3#sigma)', -1, wPt['MChigh'][0]*wCtau],\n",
    "        [df['RDhigh']['d_vtxD0pismu_PV'], label_dic['data'], 1],\n",
    "        \n",
    "    ],\n",
    "#     transformX = lambda x: 10*np.abs(x),\n",
    "#     binning=np.logspace(-6, 1, 70), setLog='x',\n",
    "    binning=[50, 0, 4],\n",
    "    axis_title = ['|PV-SV| [cm]', 'Normalized events'],\n",
    "    leg_loc=[0.6, 0.7, 0.35, 0.2]\n",
    ")\n",
    "\n",
    "txt.SetTextAlign(33)\n",
    "txt.DrawLatexNDC(0.97, 0.94, 'High cat.')"
   ]
  }
 ],
 "metadata": {
  "kernelspec": {
   "display_name": "Python 2",
   "language": "python",
   "name": "python2"
  },
  "language_info": {
   "codemirror_mode": {
    "name": "ipython",
    "version": 2
   },
   "file_extension": ".py",
   "mimetype": "text/x-python",
   "name": "python",
   "nbconvert_exporter": "python",
   "pygments_lexer": "ipython2",
   "version": "2.7.14+"
  },
  "varInspector": {
   "cols": {
    "lenName": 16,
    "lenType": 16,
    "lenVar": 40
   },
   "kernels_config": {
    "python": {
     "delete_cmd_postfix": "",
     "delete_cmd_prefix": "del ",
     "library": "var_list.py",
     "varRefreshCmd": "print(var_dic_list())"
    },
    "r": {
     "delete_cmd_postfix": ") ",
     "delete_cmd_prefix": "rm(",
     "library": "var_list.r",
     "varRefreshCmd": "cat(var_dic_list()) "
    }
   },
   "types_to_exclude": [
    "module",
    "function",
    "builtin_function_or_method",
    "instance",
    "_Feature"
   ],
   "window_display": false
  }
 },
 "nbformat": 4,
 "nbformat_minor": 2
}
