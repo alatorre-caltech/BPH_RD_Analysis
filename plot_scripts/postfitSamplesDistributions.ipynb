{
 "cells": [
  {
   "cell_type": "code",
   "execution_count": 1,
   "metadata": {
    "ExecuteTime": {
     "end_time": "2021-03-04T07:47:44.712598Z",
     "start_time": "2021-03-04T07:47:44.702518Z"
    }
   },
   "outputs": [],
   "source": [
    "class Pars:\n",
    "    pass\n",
    "\n",
    "pars = Pars()\n",
    "pars.cardTag = 'v16'\n",
    "pars.category = 'comb'\n",
    "pars.schemeFF = 'CLN'\n",
    "pars.useMVA = False\n",
    "pars.dataType = 0\n",
    "pars.asimov = False\n",
    "pars.unblinded = True\n",
    "pars.noMCstats = False"
   ]
  },
  {
   "cell_type": "markdown",
   "metadata": {},
   "source": [
    "# Imports"
   ]
  },
  {
   "cell_type": "code",
   "execution_count": 2,
   "metadata": {
    "ExecuteTime": {
     "end_time": "2021-03-04T07:47:46.774682Z",
     "start_time": "2021-03-04T07:47:44.724550Z"
    }
   },
   "outputs": [],
   "source": [
    "import sys, os, pickle, commands, re\n",
    "from glob import glob\n",
    "sys.path.append('../lib')\n",
    "sys.path.append('../analysis')\n",
    "sys.path.append('../Combine')\n",
    "import numpy as np\n",
    "import pandas as pd\n",
    "import matplotlib.pyplot as plt"
   ]
  },
  {
   "cell_type": "code",
   "execution_count": 3,
   "metadata": {
    "ExecuteTime": {
     "end_time": "2021-03-04T07:47:53.701473Z",
     "start_time": "2021-03-04T07:47:46.779849Z"
    }
   },
   "outputs": [
    {
     "name": "stdout",
     "output_type": "stream",
     "text": [
      "Welcome to JupyROOT 6.12/07\n"
     ]
    }
   ],
   "source": [
    "from analysis_utilities import drawOnCMSCanvas\n",
    "from histo_utilities import create_TH1D, create_TH2D, std_color_list\n",
    "from combine_utilities import loadHisto4CombineFromRoot"
   ]
  },
  {
   "cell_type": "code",
   "execution_count": 4,
   "metadata": {
    "ExecuteTime": {
     "end_time": "2021-03-04T07:47:53.722415Z",
     "start_time": "2021-03-04T07:47:53.708436Z"
    }
   },
   "outputs": [],
   "source": [
    "import ROOT as rt\n",
    "rt.gErrorIgnoreLevel = rt.kError\n",
    "rt.RooMsgService.instance().setGlobalKillBelow(rt.RooFit.ERROR)\n",
    "import root_numpy as rtnp"
   ]
  },
  {
   "cell_type": "code",
   "execution_count": 5,
   "metadata": {
    "ExecuteTime": {
     "end_time": "2021-03-04T07:47:54.187029Z",
     "start_time": "2021-03-04T07:47:53.727046Z"
    }
   },
   "outputs": [],
   "source": [
    "import CMS_lumi, tdrstyle\n",
    "tdrstyle.setTDRStyle()\n",
    "CMS_lumi.writeExtraText = 1\n",
    "CMS_lumi.extraText = \"     Preliminary\"\n",
    "donotdelete = []"
   ]
  },
  {
   "cell_type": "code",
   "execution_count": 6,
   "metadata": {
    "ExecuteTime": {
     "end_time": "2021-03-04T07:47:54.222834Z",
     "start_time": "2021-03-04T07:47:54.191879Z"
    },
    "code_folding": [
     0
    ]
   },
   "outputs": [],
   "source": [
    "def createCardName(a):\n",
    "    c = a.cardTag + a.category + '_' + a.schemeFF\n",
    "    if a.useMVA:\n",
    "        c += '_MVA'+useMVA\n",
    "    if a.asimov:\n",
    "        c += '_Asimov'\n",
    "    elif a.dataType:\n",
    "        c += '_onlyB0'\n",
    "        if a.dataType == 2:\n",
    "            c += 'bar'\n",
    "    if not a.unblinded:\n",
    "        c += '_blinded'\n",
    "    if a.noMCstats:\n",
    "        c += '_NoMCstats'\n",
    "    return c"
   ]
  },
  {
   "cell_type": "code",
   "execution_count": 7,
   "metadata": {
    "ExecuteTime": {
     "end_time": "2021-03-04T07:47:54.370349Z",
     "start_time": "2021-03-04T07:47:54.227819Z"
    },
    "code_folding": []
   },
   "outputs": [],
   "source": [
    "def getPostfitHistos(tag, out, histo_prefit, category, forceRDst=False):\n",
    "    runName = tag + ('_RDstFixed' if forceRDst else '')\n",
    "\n",
    "    # Get post-fit shapes\n",
    "    if not out[-1] == '/': out += '/'\n",
    "    n = out + 'fitDiagnostics{}.root'.format(runName)\n",
    "    print 'Loading post-fit from:', n\n",
    "    fFitDiagnostics = rt.TFile(n, 'READ')\n",
    "    donotdelete.append(fFitDiagnostics)\n",
    "    if forceRDst:\n",
    "        fd = fFitDiagnostics.shapes_fit_b\n",
    "    else:\n",
    "        fd = fFitDiagnostics.shapes_fit_s\n",
    "\n",
    "    histo_postfit = {}\n",
    "    if category == 'comb':\n",
    "        for catregName in [k.GetTitle() for k in fd.GetListOfKeys()]:\n",
    "            c = catregName.split('_')[0]\n",
    "            if not c in histo_postfit.keys():\n",
    "                histo_postfit[c] = {}\n",
    "            regName = catregName[len(c)+1:]\n",
    "            histo_postfit[c][regName] = {}\n",
    "\n",
    "            for n, h in histo_prefit[c][regName].iteritems():\n",
    "                if '__' in n:\n",
    "                    continue\n",
    "                if 'data' in n:\n",
    "                    histo_postfit[c][regName]['data'] = h.Clone(h.GetName() + '_data')\n",
    "                else:\n",
    "                    h_post = h.Clone(h.GetName() + '_postfit')\n",
    "                    h_fit = fd.Get(catregName+'/'+n)\n",
    "                    if not h_fit:\n",
    "                        print n+' missing from '+c+' '+regName\n",
    "                        continue\n",
    "                    for i in range(1, h_post.GetNbinsX()+1):\n",
    "                        h_post.SetBinContent(i, h_fit.GetBinContent(i))\n",
    "                        h_post.SetBinError(i, h_fit.GetBinError(i))\n",
    "\n",
    "                    histo_postfit[c][regName][n] = h_post\n",
    "\n",
    "            for k in histo_prefit[c].keys():\n",
    "                if not k.startswith('h2D_q2bin'):\n",
    "                    continue\n",
    "                if k in histo_postfit[c].keys():\n",
    "                    break\n",
    "                histo_postfit[c][k] = {}\n",
    "                for n in histo_prefit[c][k].keys():\n",
    "                    histo_postfit[c][k][n] = histo_prefit[c][k][n].Clone()\n",
    "                    histo_postfit[c][k][n].Reset()\n",
    "    else:\n",
    "        for regName in [k.GetTitle() for k in fd.GetListOfKeys()]:\n",
    "            histo_postfit[regName] = {}\n",
    "\n",
    "            for n, h in histo_prefit[regName].iteritems():\n",
    "                if '__' in n:\n",
    "                    continue\n",
    "                if 'data' in n:\n",
    "                    histo_postfit[regName]['data'] = h.Clone(h.GetName() + '_data')\n",
    "                else:\n",
    "                    h_post = h.Clone(h.GetName() + '_postfit')\n",
    "                    h_fit = fd.Get(regName+'/'+n)\n",
    "                    if not h_fit:\n",
    "                        print n+' missing from '+regName\n",
    "                        continue\n",
    "                    for i in range(1, h_post.GetNbinsX()+1):\n",
    "                        h_post.SetBinContent(i, h_fit.GetBinContent(i))\n",
    "                        h_post.SetBinError(i, h_fit.GetBinError(i))\n",
    "\n",
    "                    histo_postfit[regName][n] = h_post\n",
    "\n",
    "        for k in histo_prefit.keys():\n",
    "            if not k.startswith('h2D_q2bin'): continue\n",
    "            histo_postfit[k] = {}\n",
    "            for n in histo_prefit[k].keys():\n",
    "                histo_postfit[k][n] = histo_prefit[k][n].Clone()\n",
    "                histo_postfit[k][n].Reset()\n",
    "\n",
    "    return histo_postfit"
   ]
  },
  {
   "cell_type": "code",
   "execution_count": 8,
   "metadata": {
    "ExecuteTime": {
     "end_time": "2021-03-04T07:47:54.412379Z",
     "start_time": "2021-03-04T07:47:54.376130Z"
    }
   },
   "outputs": [],
   "source": [
    "histo_file_dir = '/storage/user/ocerri/BPhysics/data/_root/histos4combine/'"
   ]
  },
  {
   "cell_type": "code",
   "execution_count": 9,
   "metadata": {
    "ExecuteTime": {
     "end_time": "2021-03-04T07:47:54.456068Z",
     "start_time": "2021-03-04T07:47:54.416847Z"
    }
   },
   "outputs": [],
   "source": [
    "label_dic = {'data'     : 'Data',\n",
    "             'mu'       : 'B^{0}#rightarrow D*#mu^{+}#nu',\n",
    "             'tau'      : 'B^{0}#rightarrow D*#tau^{+}#nu',\n",
    "             \n",
    "             'DstmD0'   : 'B^{0}#rightarrow D*D^{0}X',\n",
    "             'DstmDp'   : 'B^{0}#rightarrow D*D^{+}X',\n",
    "             'DstmDsp'   : 'B^{0}#rightarrow D*D_{s}^{+}X',\n",
    "             'BmDstmHc' : 'B^{-}#rightarrow D*H_{c}(#muX)',\n",
    "             'BpDstmHc' : 'B^{+}#rightarrow D*H_{c}(#muX)',\n",
    "             'antiB0DstmHc' : '#bar{B}^{0}#rightarrow D*H_{c}(#muX)',\n",
    "             \n",
    "             'DstPi0': 'B^{0}#rightarrow D**(D*#pi^{0})#mu#nu',\n",
    "             'DstPip': 'B^{+}#rightarrow D**(D*#pi^{+})#mu#nu',\n",
    "             'DstPipPim': 'B^{0}#rightarrow D**(D*#pi^{+}#pi^{-})#mu#nu',\n",
    "             'DstPi0Pi0': 'B^{0}#rightarrow D**(D*#pi^{0}#pi^{0})#mu#nu',\n",
    "             'DstPipPi0': 'B^{+}#rightarrow D**(D*#pi^{+}#pi^{0})#mu#nu',\n",
    "             \n",
    "             'TauDstPi0' : 'B^{0}#rightarrow D**(D*#pi^{0})#tau#nu',\n",
    "             'TauDstPip' : 'B^{+}#rightarrow D**(D*#pi^{+})#tau#nu',\n",
    "            }"
   ]
  },
  {
   "cell_type": "markdown",
   "metadata": {},
   "source": [
    "# Load histograms"
   ]
  },
  {
   "cell_type": "code",
   "execution_count": 10,
   "metadata": {
    "ExecuteTime": {
     "end_time": "2021-03-04T07:47:54.485938Z",
     "start_time": "2021-03-04T07:47:54.460935Z"
    }
   },
   "outputs": [],
   "source": [
    "card_name = createCardName(pars)\n",
    "outdir = '/storage/user/ocerri/BPhysics/Combine/results/' + card_name"
   ]
  },
  {
   "cell_type": "code",
   "execution_count": 11,
   "metadata": {
    "ExecuteTime": {
     "end_time": "2021-03-04T07:47:56.251922Z",
     "start_time": "2021-03-04T07:47:54.490195Z"
    }
   },
   "outputs": [
    {
     "name": "stdout",
     "output_type": "stream",
     "text": [
      "---- Loading low\n",
      "---- Loading mid\n",
      "---- Loading high\n"
     ]
    }
   ],
   "source": [
    "histo = None\n",
    "if pars.category == 'comb':\n",
    "    histo = {}\n",
    "    for c in ['low', 'mid', 'high']:\n",
    "        print '---- Loading', c\n",
    "        present = False\n",
    "        while not present:\n",
    "            n = len(glob(os.path.join(histo_file_dir, card_name.replace('comb', c)) + '_*.root'))\n",
    "            if n>2:\n",
    "                present = True\n",
    "            else:\n",
    "                print 'Waiting for ' + c\n",
    "                time.sleep(10)\n",
    "        histo[c] = loadHisto4CombineFromRoot(histo_file_dir, card_name.replace('comb', c))\n",
    "else:\n",
    "    loadShapeVar = 'card' in args.step\n",
    "    histo = loadHisto4CombineFromRoot(histo_file_dir, card_name, loadShapeVar=loadShapeVar, verbose=False)"
   ]
  },
  {
   "cell_type": "code",
   "execution_count": 12,
   "metadata": {
    "ExecuteTime": {
     "end_time": "2021-03-04T07:47:56.955786Z",
     "start_time": "2021-03-04T07:47:56.256587Z"
    }
   },
   "outputs": [
    {
     "name": "stdout",
     "output_type": "stream",
     "text": [
      "Loading post-fit from: /storage/user/ocerri/BPhysics/Combine/results/v16comb_CLN/fitDiagnosticsv16.root\n",
      "BpDstmHc missing from high AddTk_mm_mHad\n",
      "DstmD0 missing from high Dst_pt_q2bin0\n",
      "DstmD0 missing from high Est_mu_q2bin0\n",
      "DstmD0 missing from high M2_miss_q2bin0\n",
      "DstmD0 missing from high Unrolled_q2bin0\n",
      "DstmD0 missing from high mu_pt_q2bin0\n",
      "BmDstmHc missing from low AddTk_pp_mHad\n",
      "BmDstmHc missing from mid AddTk_pp_mHad\n",
      "DstmD0 missing from mid Dst_pt_q2bin0\n",
      "BmDstmHc missing from mid Dst_pt_q2bin0\n",
      "DstmD0 missing from mid Est_mu_q2bin0\n",
      "BmDstmHc missing from mid Est_mu_q2bin0\n",
      "DstmD0 missing from mid M2_miss_q2bin0\n",
      "BmDstmHc missing from mid M2_miss_q2bin0\n",
      "DstmD0 missing from mid Unrolled_q2bin0\n",
      "BmDstmHc missing from mid Unrolled_q2bin0\n",
      "DstmD0 missing from mid mu_pt_q2bin0\n",
      "BmDstmHc missing from mid mu_pt_q2bin0\n"
     ]
    }
   ],
   "source": [
    "histo_post = getPostfitHistos(pars.cardTag, outdir, histo_prefit=histo, category=pars.category)"
   ]
  },
  {
   "cell_type": "markdown",
   "metadata": {},
   "source": [
    "# Draw plots"
   ]
  },
  {
   "cell_type": "code",
   "execution_count": 13,
   "metadata": {
    "ExecuteTime": {
     "end_time": "2021-03-04T07:47:56.978585Z",
     "start_time": "2021-03-04T07:47:56.960862Z"
    }
   },
   "outputs": [],
   "source": [
    "groups = [\n",
    "    ['DstmD0', 'DstmDp', 'DstmDsp',\n",
    "     'BmDstmHc', 'BpDstmHc', 'antiB0DstmHc',\n",
    "    ],\n",
    "    \n",
    "    ['DstPi0', 'DstPip', 'DstPipPim', 'DstPi0Pi0', 'DstPipPi0'],\n",
    "    \n",
    "    ['TauDstPi0', 'TauDstPip']\n",
    "]"
   ]
  },
  {
   "cell_type": "code",
   "execution_count": 28,
   "metadata": {
    "ExecuteTime": {
     "end_time": "2021-03-04T08:20:35.973049Z",
     "start_time": "2021-03-04T08:20:35.964766Z"
    }
   },
   "outputs": [],
   "source": [
    "category = 'low'\n",
    "region = 'M2_miss_q2bin3'\n",
    "xTitle = 'M_{miss}^{2} [GeV]'\n",
    "\n",
    "hDic = histo_post[category][region]"
   ]
  },
  {
   "cell_type": "code",
   "execution_count": 29,
   "metadata": {
    "ExecuteTime": {
     "end_time": "2021-03-04T08:20:36.939390Z",
     "start_time": "2021-03-04T08:20:36.924954Z"
    }
   },
   "outputs": [],
   "source": [
    "hDic['tau'].GetXaxis().SetTitle(xTitle)\n",
    "hDic['tau'].GetYaxis().SetTitle('Events / bin')"
   ]
  },
  {
   "cell_type": "code",
   "execution_count": 30,
   "metadata": {
    "ExecuteTime": {
     "end_time": "2021-03-04T08:20:37.875938Z",
     "start_time": "2021-03-04T08:20:37.810250Z"
    }
   },
   "outputs": [
    {
     "data": {
      "image/png": "[encoded data removed]",
      "text/plain": [
       "<IPython.core.display.Image object>"
      ]
     },
     "metadata": {},
     "output_type": "display_data"
    }
   ],
   "source": [
    "processes = groups[0]\n",
    "\n",
    "leg = rt.TLegend(0.78, 0.7, 0.98, 0.94)\n",
    "leg.SetTextFont(42)\n",
    "leg.SetTextAlign(12)\n",
    "leg.SetLineWidth(0)\n",
    "leg.SetBorderSize(0)\n",
    "leg.SetFillStyle(0)\n",
    "        \n",
    "hList = []\n",
    "for ip, p in enumerate(['tau'] + processes):\n",
    "    hDic[p].SetLineColor(std_color_list[ip])\n",
    "    hList.append(hDic[p])\n",
    "    leg.AddEntry(hDic[p], label_dic[p], 'lep')\n",
    "    \n",
    "c = drawOnCMSCanvas(CMS_lumi, hList, 'same')\n",
    "\n",
    "leg.Draw()"
   ]
  },
  {
   "cell_type": "code",
   "execution_count": null,
   "metadata": {},
   "outputs": [],
   "source": []
  }
 ],
 "metadata": {
  "kernelspec": {
   "display_name": "Python 2",
   "language": "python",
   "name": "python2"
  },
  "language_info": {
   "codemirror_mode": {
    "name": "ipython",
    "version": 2
   },
   "file_extension": ".py",
   "mimetype": "text/x-python",
   "name": "python",
   "nbconvert_exporter": "python",
   "pygments_lexer": "ipython2",
   "version": "2.7.14+"
  },
  "varInspector": {
   "cols": {
    "lenName": 16,
    "lenType": 16,
    "lenVar": 40
   },
   "kernels_config": {
    "python": {
     "delete_cmd_postfix": "",
     "delete_cmd_prefix": "del ",
     "library": "var_list.py",
     "varRefreshCmd": "print(var_dic_list())"
    },
    "r": {
     "delete_cmd_postfix": ") ",
     "delete_cmd_prefix": "rm(",
     "library": "var_list.r",
     "varRefreshCmd": "cat(var_dic_list()) "
    }
   },
   "types_to_exclude": [
    "module",
    "function",
    "builtin_function_or_method",
    "instance",
    "_Feature"
   ],
   "window_display": false
  }
 },
 "nbformat": 4,
 "nbformat_minor": 2
}
