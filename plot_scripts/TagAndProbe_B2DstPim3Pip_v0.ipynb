{
 "cells": [
  {
   "cell_type": "code",
   "execution_count": 1,
   "metadata": {
    "ExecuteTime": {
     "end_time": "2019-11-04T20:29:09.095999Z",
     "start_time": "2019-11-04T20:29:07.395503Z"
    }
   },
   "outputs": [
    {
     "name": "stdout",
     "output_type": "stream",
     "text": [
      "Welcome to JupyROOT 6.12/07\n"
     ]
    }
   ],
   "source": [
    "import numpy as np\n",
    "import pandas as pd\n",
    "import scipy.stats as sps\n",
    "from glob import glob\n",
    "import matplotlib.pyplot as plt\n",
    "import uproot as ur\n",
    "import root_numpy as rtnp\n",
    "import ROOT as rt\n",
    "import ROOT.RooFit as rf\n",
    "from array import array\n",
    "from scipy.special import erf\n",
    "import sys, os\n",
    "sys.path.append('../lib')\n",
    "from histo_utilities import create_TH1D, create_TH2D, std_color_list, SetMaxToMaxHist, make_ratio_plot\n",
    "from cebefo_style import Set_2D_colz_graphics\n",
    "from progressBar import ProgressBar\n",
    "from gridVarQ2Plot import col_dic\n",
    "from analysis_utilities import drawOnCMSCanvas\n",
    "from lumi_utilities import getLumiReport\n",
    "\n",
    "import CMS_lumi, tdrstyle\n",
    "tdrstyle.setTDRStyle()\n",
    "CMS_lumi.writeExtraText = 1\n",
    "CMS_lumi.extraText = \"     Internal\"\n",
    "\n",
    "donotdelete = []"
   ]
  },
  {
   "cell_type": "code",
   "execution_count": 2,
   "metadata": {
    "ExecuteTime": {
     "end_time": "2019-11-04T20:29:09.132152Z",
     "start_time": "2019-11-04T20:29:09.100094Z"
    }
   },
   "outputs": [],
   "source": [
    "rt.gErrorIgnoreLevel = rt.kError\n",
    "rt.RooMsgService.instance().setGlobalKillBelow(rt.RooFit.ERROR)"
   ]
  },
  {
   "cell_type": "code",
   "execution_count": 3,
   "metadata": {
    "ExecuteTime": {
     "end_time": "2019-11-04T20:29:09.153564Z",
     "start_time": "2019-11-04T20:29:09.136898Z"
    }
   },
   "outputs": [
    {
     "name": "stdout",
     "output_type": "stream",
     "text": [
      "mD* - mD0 = 0.14543\n"
     ]
    }
   ],
   "source": [
    "m_pi = 0.13957\n",
    "m_K = 0.49368\n",
    "m_D0 = 1.86483 #1e-3*Particle.from_string('D0').mass\n",
    "m_Dst = 2.01026 #1e-3*Particle.from_string('D*+').mass\n",
    "m_B0 = 5.27963 #1e-3*Particle.from_string('B0').mass\n",
    "m_pi = 0.13957018 #1e-3*Particle.from_string('pi+').mass\n",
    "print 'mD* - mD0 =', m_Dst - m_D0"
   ]
  },
  {
   "cell_type": "code",
   "execution_count": 4,
   "metadata": {
    "ExecuteTime": {
     "end_time": "2019-11-04T20:29:09.179242Z",
     "start_time": "2019-11-04T20:29:09.157774Z"
    }
   },
   "outputs": [],
   "source": [
    "cl = rt.TLine()\n",
    "cl.SetLineColor(6)\n",
    "cl.SetLineStyle(9)\n",
    "cl.SetLineWidth(2)"
   ]
  },
  {
   "cell_type": "code",
   "execution_count": 5,
   "metadata": {
    "ExecuteTime": {
     "end_time": "2019-11-04T20:29:09.200548Z",
     "start_time": "2019-11-04T20:29:09.183256Z"
    }
   },
   "outputs": [],
   "source": [
    "import operator\n",
    "ops = {'>': operator.gt, '<': operator.lt, }"
   ]
  },
  {
   "cell_type": "markdown",
   "metadata": {},
   "source": [
    "# Load data"
   ]
  },
  {
   "cell_type": "code",
   "execution_count": 6,
   "metadata": {},
   "outputs": [
    {
     "name": "stdout",
     "output_type": "stream",
     "text": [
      "N evts: 190596\n"
     ]
    }
   ],
   "source": [
    "loc = '../data/cmsRD/'\n",
    "loc += 'ParkingBPH*/'\n",
    "loc += 'Run2018D-05May2019promptD-v1_RDntuplizer_TagAndProbe_Bp2DmstPim3Pip_200428_CAND.root'\n",
    "\n",
    "tData = rt.TChain('outA/Tevts')\n",
    "for floc in glob(loc):\n",
    "    tData.Add(floc)\n",
    "\n",
    "print 'N evts: {:.0f}'.format(tData.GetEntries())"
   ]
  },
  {
   "cell_type": "code",
   "execution_count": 7,
   "metadata": {
    "ExecuteTime": {
     "end_time": "2019-11-04T20:29:09.563862Z",
     "start_time": "2019-11-04T20:29:09.298406Z"
    }
   },
   "outputs": [],
   "source": [
    "# loc = '../data/cmsMC_private/'\n",
    "# loc += 'BPH_Tag-B0_MuNuDmst-pD0bar-kp_13TeV-pythia8_Hardbbbar_PTFilter5_0p0-evtgen_ISGW2_PU20_10-2-3'\n",
    "# loc += '/ntuples_B2DstMu/out_CAND_*.root'\n",
    "\n",
    "# tMu = rt.TChain('outA/Tevts')\n",
    "# for floc in glob(loc):\n",
    "#     tMu.Add(floc)\n",
    "\n",
    "# print 'N evts: {:.0f}'.format(tMu.GetEntries())"
   ]
  },
  {
   "cell_type": "code",
   "execution_count": 8,
   "metadata": {},
   "outputs": [],
   "source": [
    "def addOverflow(hh):\n",
    "    Nbins = hh.GetNbinsX()\n",
    "    hh.SetBinContent(Nbins, hh.GetBinContent(Nbins) + hh.GetBinContent(Nbins+1))\n",
    "    hh.SetBinContent(Nbins+1, 0)\n",
    "    return"
   ]
  },
  {
   "cell_type": "code",
   "execution_count": 9,
   "metadata": {},
   "outputs": [],
   "source": [
    "def appendNewHisto(var, h_list, cuts, addCuts, leg=None, overflow=True):\n",
    "    lastName = h_list[-1].GetName()\n",
    "    if lastName == 'h':\n",
    "        N =1\n",
    "    else:\n",
    "        N = 1 + int(lastName[1:])\n",
    "        \n",
    "    hAux = create_TH1D(np.zeros(0), name='h'+str(N), binning=h_list[0].binning)\n",
    "    tData.Project('h'+str(N), var, cuts + ' && ' + addCuts)\n",
    "    hAux.SetLineColor(col_dic.values()[N-1])\n",
    "    hAux.Sumw2()\n",
    "    if overflow:\n",
    "        addOverflow(hAux)\n",
    "    hAux.SetLineWidth(2)\n",
    "    h_list.append(hAux)\n",
    "    \n",
    "    if not leg is None:\n",
    "        leg.AddEntry(hAux, addCuts, 'lep')\n",
    "    \n",
    "    return h_list"
   ]
  },
  {
   "cell_type": "markdown",
   "metadata": {},
   "source": [
    "# Cuts declaration"
   ]
  },
  {
   "cell_type": "code",
   "execution_count": 10,
   "metadata": {
    "ExecuteTime": {
     "end_time": "2019-11-04T20:29:10.817312Z",
     "start_time": "2019-11-04T20:29:10.802256Z"
    }
   },
   "outputs": [],
   "source": [
    "cut_general = [\n",
    "    'n_B == 1',\n",
    "#     'trgMu_pt > 12.1',\n",
    "#     'trgMu_sigdxy > 7',\n",
    "#     'abs(trgMu_eta) < 1.5',\n",
    "]"
   ]
  },
  {
   "cell_type": "markdown",
   "metadata": {},
   "source": [
    "$D_0$ reconstruction"
   ]
  },
  {
   "cell_type": "code",
   "execution_count": 11,
   "metadata": {
    "ExecuteTime": {
     "end_time": "2019-11-04T20:29:12.034435Z",
     "start_time": "2019-11-04T20:29:12.018653Z"
    }
   },
   "outputs": [],
   "source": [
    "cut_piK = [\n",
    "'K_pt > 0.8',\n",
    "'pi_pt > 0.8',\n",
    "'pval_piK > 0.1',\n",
    "'abs(K_eta) < 2.4',\n",
    "'abs(pi_eta) < 2.4',\n",
    "'abs(mass_piK - 1.864) < 0.05',\n",
    "]"
   ]
  },
  {
   "cell_type": "code",
   "execution_count": 12,
   "metadata": {},
   "outputs": [
    {
     "data": {
      "image/png": "[encoded data removed]",
      "text/plain": [
       "<IPython.core.display.Image object>"
      ]
     },
     "metadata": {},
     "output_type": "display_data"
    }
   ],
   "source": [
    "cuts = ' && '.join(cut_general+cut_piK)\n",
    "h = create_TH1D(np.zeros(0), name='h',\n",
    "                title='', axis_title=['mass_piK', 'Candidates'],\n",
    "                binning=[50, 1.8, 1.92] )\n",
    "tData.Project('h', 'mass_piK', cuts)\n",
    "h.Sumw2()\n",
    "addOverflow(h)\n",
    "# h.Scale(1./h.Integral())\n",
    "h.SetLineWidth(3)\n",
    "h_list=[h]\n",
    "\n",
    "c = drawOnCMSCanvas(CMS_lumi, h_list, 'same')"
   ]
  },
  {
   "cell_type": "code",
   "execution_count": 13,
   "metadata": {},
   "outputs": [
    {
     "data": {
      "image/png": "[encoded data removed]",
      "text/plain": [
       "<IPython.core.display.Image object>"
      ]
     },
     "metadata": {},
     "output_type": "display_data"
    }
   ],
   "source": [
    "cuts = ' && '.join(cut_general+cut_piK)\n",
    "h = create_TH2D(np.zeros((0,2)), name='h',\n",
    "                title='', axis_title=['mass_piK', 'D0 p_{T}', 'Candidates'],\n",
    "                binning=[50, 1.81, 1.91, 50, 0., 30.] )\n",
    "tData.Project('h', 'D0_pt:mass_piK', cuts)\n",
    "# h.Sumw2()\n",
    "# h.Scale(1./h.Integral())\n",
    "\n",
    "c = drawOnCMSCanvas(CMS_lumi, [h], ['colz'], mR=0.16)"
   ]
  },
  {
   "cell_type": "code",
   "execution_count": 14,
   "metadata": {},
   "outputs": [
    {
     "data": {
      "image/png": "[encoded data removed]",
      "text/plain": [
       "<IPython.core.display.Image object>"
      ]
     },
     "metadata": {},
     "output_type": "display_data"
    }
   ],
   "source": [
    "cuts = ' && '.join(cut_general+cut_piK)\n",
    "h = create_TH2D(np.zeros((0,2)), name='h',\n",
    "                title='', axis_title=['mass_piK', '1-cosT_D0_PV', 'Candidates'],\n",
    "                binning=[np.linspace(1.81, 1.91, 50), np.logspace(-5, -1, 50)] )\n",
    "tData.Project('h', '1 - cosT_D0_PV:mass_piK', cuts)\n",
    "# h.Sumw2()\n",
    "# h.Scale(1./h.Integral())\n",
    "\n",
    "c = drawOnCMSCanvas(CMS_lumi, [h], ['colz'], mR=0.16)\n",
    "c.SetLogy()"
   ]
  },
  {
   "cell_type": "code",
   "execution_count": 15,
   "metadata": {},
   "outputs": [
    {
     "data": {
      "text/plain": [
       "<ROOT.TLine object (\"TLine\") at 0xba67ca0>"
      ]
     },
     "execution_count": 15,
     "metadata": {},
     "output_type": "execute_result"
    },
    {
     "data": {
      "image/png": "[encoded data removed]",
      "text/plain": [
       "<IPython.core.display.Image object>"
      ]
     },
     "metadata": {},
     "output_type": "display_data"
    }
   ],
   "source": [
    "cuts = ' && '.join(cut_general+cut_piK)\n",
    "h = create_TH2D(np.zeros((0,2)), name='h',\n",
    "                title='', axis_title=['mass_piK', 'sigdxy_vtxD0_PV', 'Candidates'],\n",
    "                binning=[np.linspace(1.81, 1.91, 50), np.logspace(np.log10(2), np.log10(70), 50)] )\n",
    "tData.Project('h', 'sigdxy_vtxD0_PV:mass_piK', cuts)\n",
    "# h.Sumw2()\n",
    "# h.Scale(1./h.Integral())\n",
    "\n",
    "c = drawOnCMSCanvas(CMS_lumi, [h], ['colz'], mR=0.16)\n",
    "c.SetLogy()\n",
    "cl.DrawLine(1.81, 6, 1.91, 6)"
   ]
  },
  {
   "cell_type": "code",
   "execution_count": 16,
   "metadata": {},
   "outputs": [
    {
     "data": {
      "image/png": "[encoded data removed]",
      "text/plain": [
       "<IPython.core.display.Image object>"
      ]
     },
     "metadata": {},
     "output_type": "display_data"
    }
   ],
   "source": [
    "cuts = ' && '.join(cut_general+cut_piK)\n",
    "h = create_TH1D(np.zeros(0), name='h',\n",
    "                title='', axis_title=['mass_piK', 'Candidates'],\n",
    "                binning=[50, 1.8, 1.92] )\n",
    "tData.Project('h', 'mass_piK', cuts)\n",
    "h.Sumw2()\n",
    "addOverflow(h)\n",
    "h.SetLineWidth(2)\n",
    "h_list=[h]\n",
    "\n",
    "leg = rt.TLegend(0.7, 0.65, 0.98, 0.97)\n",
    "leg.AddEntry(h, 'Base', 'l')\n",
    "leg.SetTextFont(42)\n",
    "leg.SetFillStyle(0)\n",
    "leg.SetLineWidth(0)\n",
    "leg.SetBorderSize(0)\n",
    "\n",
    "appendNewHisto('mass_piK', h_list, cuts, 'sigdxy_vtxD0_PV > 6', leg=leg)\n",
    "appendNewHisto('mass_piK', h_list, cuts, 'cosT_D0_PV > 0.99', leg=leg)\n",
    "appendNewHisto('mass_piK', h_list, cuts, 'sigdxy_vtxD0_PV > 6 && cosT_D0_PV > 0.99', leg=leg)\n",
    "\n",
    "SetMaxToMaxHist(h_list)\n",
    "c = drawOnCMSCanvas(CMS_lumi, h_list, 'same')\n",
    "leg.Draw()"
   ]
  },
  {
   "cell_type": "code",
   "execution_count": 17,
   "metadata": {},
   "outputs": [],
   "source": [
    "cut_piK_rev = [\n",
    "'K_pt > 0.8',\n",
    "'pi_pt > 0.8',\n",
    "'pval_piK > 0.1',\n",
    "'abs(K_eta) < 2.4',\n",
    "'abs(pi_eta) < 2.4',\n",
    "'abs(mass_piK - {}) < 0.035'.format(m_D0),\n",
    "'sigdxy_vtxD0_PV > 6',\n",
    "'cosT_D0_PV > 0.99'\n",
    "]"
   ]
  },
  {
   "cell_type": "code",
   "execution_count": 18,
   "metadata": {},
   "outputs": [
    {
     "data": {
      "image/png": "[encoded data removed]",
      "text/plain": [
       "<IPython.core.display.Image object>"
      ]
     },
     "metadata": {},
     "output_type": "display_data"
    }
   ],
   "source": [
    "cuts = ' && '.join(cut_general+cut_piK_rev)\n",
    "h = create_TH1D(np.zeros(0), name='h',\n",
    "                title='', axis_title=['mass_piK', 'Candidates'],\n",
    "                binning=[50, 1.8, 1.92] )\n",
    "tData.Project('h', 'mass_piK', cuts)\n",
    "h.Sumw2()\n",
    "h.SetLineWidth(3)\n",
    "c = drawOnCMSCanvas(CMS_lumi, [h], 'same')"
   ]
  },
  {
   "cell_type": "code",
   "execution_count": 19,
   "metadata": {},
   "outputs": [
    {
     "data": {
      "text/plain": [
       "60689L"
      ]
     },
     "execution_count": 19,
     "metadata": {},
     "output_type": "execute_result"
    }
   ],
   "source": [
    "tData.GetEntries(' && '.join(cut_general+cut_piK))"
   ]
  },
  {
   "cell_type": "markdown",
   "metadata": {},
   "source": [
    "# $D^*$ Recostruction"
   ]
  },
  {
   "cell_type": "code",
   "execution_count": null,
   "metadata": {
    "ExecuteTime": {
     "end_time": "2019-11-04T22:54:39.128847Z",
     "start_time": "2019-11-04T22:54:39.123401Z"
    }
   },
   "outputs": [],
   "source": [
    "cut_D0pipi = [\n",
    "'abs(pi1_eta) < 2.4',\n",
    "'abs(pi2_eta) < 2.4',\n",
    "'abs(pi3_eta) < 2.4',\n",
    "'abs(pi4_eta) < 2.4',\n",
    "'pval_D0pions > 0.1',\n",
    "]"
   ]
  },
  {
   "cell_type": "code",
   "execution_count": null,
   "metadata": {},
   "outputs": [],
   "source": [
    "tData.GetEntries(' && '.join(cut_general+cut_piK+cut_D0pipi))"
   ]
  },
  {
   "cell_type": "code",
   "execution_count": null,
   "metadata": {},
   "outputs": [],
   "source": [
    "cuts = ' && '.join(cut_general+cut_piK_rev+cut_D0pipi)\n",
    "h = create_TH1D(np.zeros(0), name='h',\n",
    "                title='', axis_title=['mass(D_{0}#pi^{+}#pi^{+}) [GeV]', 'Candidates'],\n",
    "                binning=[50, 4.5, 6] )\n",
    "tData.Project('h', 'mass_D0pipi', cuts)\n",
    "h.Sumw2()\n",
    "c = drawOnCMSCanvas(CMS_lumi, [h], 'same')"
   ]
  },
  {
   "cell_type": "code",
   "execution_count": null,
   "metadata": {},
   "outputs": [],
   "source": [
    "h = create_TH1D(np.zeros(0), name='h',\n",
    "                title='', axis_title=['mass(D_{0}^{mod*}#pi^{+}#pi^{+}) [GeV]', 'Candidates'],\n",
    "                binning=[50, 4.5, 6] )\n",
    "tData.Project('h', 'mass_D0pipi_scaledDst', cuts)\n",
    "h.Sumw2()\n",
    "c = drawOnCMSCanvas(CMS_lumi, [h], 'same')"
   ]
  },
  {
   "cell_type": "code",
   "execution_count": null,
   "metadata": {},
   "outputs": [],
   "source": [
    "h = create_TH2D(np.zeros((0,2)), name='h',\n",
    "                title='', axis_title=['mass(D_{0}^{mod*}#pi^{+}#pi^{+}) [GeV]', '#pi^{+} p_{T} [GeV]', 'Candidates'],\n",
    "                binning=[np.linspace(4.8, 6, 50), np.logspace(np.log10(2), np.log10(70), 50)] )\n",
    "tData.Project('h', 'pi1_pt:mass_D0pipi_scaledDst', cuts)\n",
    "# h.Sumw2()\n",
    "# h.Scale(1./h.Integral())\n",
    "\n",
    "c = drawOnCMSCanvas(CMS_lumi, [h], ['colz'], mR=0.16)\n",
    "c.SetLogy()"
   ]
  },
  {
   "cell_type": "code",
   "execution_count": null,
   "metadata": {},
   "outputs": [],
   "source": [
    "h = create_TH2D(np.zeros((0,2)), name='h',\n",
    "                title='', axis_title=['mass(D_{0}^{mod*}#pi^{+}#pi^{+}) [GeV]', 'sigd_vtxD0pipi_PV', 'Candidates'],\n",
    "                binning=[np.linspace(4.8, 6, 50), np.logspace(-1, np.log10(70), 50)] )\n",
    "tData.Project('h', 'sigd_vtxD0pipi_PV:mass_D0pipi_scaledDst', cuts)\n",
    "# h.Sumw2()\n",
    "# h.Scale(1./h.Integral())\n",
    "\n",
    "c = drawOnCMSCanvas(CMS_lumi, [h], ['colz'], mR=0.16)\n",
    "c.SetLogy()"
   ]
  },
  {
   "cell_type": "code",
   "execution_count": null,
   "metadata": {},
   "outputs": [],
   "source": [
    "h = create_TH2D(np.zeros((0,2)), name='h',\n",
    "                title='', axis_title=['mass(D_{0}^{mod*}#pi^{+}#pi^{+}) [GeV]', '1-cos_D0pipi_PV', 'Candidates'],\n",
    "                binning=[np.linspace(4.8, 6, 50), np.logspace(-7, -1, 50)] )\n",
    "tData.Project('h', '1-cos_D0pipi_PV:mass_D0pipi_scaledDst', cuts)\n",
    "# h.Sumw2()\n",
    "# h.Scale(1./h.Integral())\n",
    "\n",
    "c = drawOnCMSCanvas(CMS_lumi, [h], ['colz'], mR=0.16)\n",
    "c.SetLogy()"
   ]
  },
  {
   "cell_type": "code",
   "execution_count": null,
   "metadata": {},
   "outputs": [],
   "source": [
    "cuts = ' && '.join(cut_general+cut_piK_rev+cut_D0pipi)\n",
    "h = create_TH1D(np.zeros(0), name='h',\n",
    "                title='', axis_title=['mass(D_{0}^{mod*} #pi^{+}) [GeV]', 'Candidates'],\n",
    "                binning=[50, 4.8, 6] )\n",
    "tData.Project('h', 'mass_D0pipi_scaledDst', cuts)\n",
    "h.Sumw2()\n",
    "h.SetLineWidth(2)\n",
    "h_list=[h]\n",
    "\n",
    "leg = rt.TLegend(0.7, 0.65, 0.98, 0.97)\n",
    "leg.AddEntry(h, 'Base', 'l')\n",
    "leg.SetTextFont(42)\n",
    "leg.SetFillStyle(0)\n",
    "leg.SetLineWidth(0)\n",
    "leg.SetBorderSize(0)\n",
    "\n",
    "appendNewHisto('mass_D0pipi_scaledDst', h_list, cuts, 'cos_D0pipi_PV > 0.999', leg=leg, overflow=False)\n",
    "appendNewHisto('mass_D0pipi_scaledDst', h_list, cuts, 'sigd_vtxD0pipi_PV > 5', leg=leg, overflow=False)\n",
    "appendNewHisto('mass_D0pipi_scaledDst', h_list, cuts, 'sigd_vtxD0pipi_PV > 5 && cos_D0pipi_PV > 0.999', leg=leg, overflow=False)\n",
    "appendNewHisto('mass_D0pipi_scaledDst', h_list, cuts, 'sigd_vtxD0pipi_PV > 5 && cos_D0pipi_PV > 0.999', leg=leg, overflow=False)\n",
    "\n",
    "m = SetMaxToMaxHist(h_list)\n",
    "h_list[0].GetYaxis().SetRangeUser(0, m)\n",
    "c = drawOnCMSCanvas(CMS_lumi, h_list, 'same')\n",
    "leg.Draw()"
   ]
  },
  {
   "cell_type": "code",
   "execution_count": null,
   "metadata": {},
   "outputs": [],
   "source": [
    "cut_D0pipi_rev = [\n",
    "'pi1_pt > 1.',\n",
    "'abs(pi1_eta) < 2.4',\n",
    "'pi2_pt > 1.',\n",
    "'abs(pi2_eta) < 2.4',\n",
    "'pval_D0pipi > 0.1',\n",
    "'cos_D0pipi_PV > 0.999',\n",
    "'sigd_vtxD0pipi_PV > 5'\n",
    "]"
   ]
  },
  {
   "cell_type": "code",
   "execution_count": null,
   "metadata": {},
   "outputs": [],
   "source": [
    "cuts = ' && '.join(cut_general+cut_piK_rev+cut_D0pipi_rev)\n",
    "h = create_TH1D(np.zeros(0), name='h',\n",
    "                title='', axis_title=['mass(D_{0}^{mod*}#pi^{+}#pi^{+}) [GeV]', 'Candidates'],\n",
    "                binning=[50, 4.8, 5.8] )\n",
    "tData.Project('h', 'mass_D0pipi_scaledDst', cuts)\n",
    "h.Sumw2()"
   ]
  },
  {
   "cell_type": "code",
   "execution_count": null,
   "metadata": {},
   "outputs": [],
   "source": [
    "fBkg = rt.TF1('fBkg', 'pol3', 4.8, 5.8)\n",
    "gBkg = rt.TGraphErrors()\n",
    "for i in range(1,51):\n",
    "    x = h.GetBinCenter(i)\n",
    "    if x < 5.1 or x > 5.4:\n",
    "        y = h.GetBinContent(i)\n",
    "        gBkg.SetPoint(i-1, x, y)\n",
    "        gBkg.SetPointError(i-1, 0, h.GetBinError(i))\n",
    "\n",
    "gBkg.Fit(fBkg, 's')"
   ]
  },
  {
   "cell_type": "code",
   "execution_count": null,
   "metadata": {
    "scrolled": false
   },
   "outputs": [],
   "source": [
    "c = drawOnCMSCanvas(CMS_lumi, [h], 'same')\n",
    "c.SetGrid()\n",
    "# fBkg.Draw('same')"
   ]
  },
  {
   "cell_type": "code",
   "execution_count": null,
   "metadata": {},
   "outputs": [],
   "source": [
    "raise"
   ]
  },
  {
   "cell_type": "markdown",
   "metadata": {},
   "source": [
    "# Try to extract infos"
   ]
  },
  {
   "cell_type": "code",
   "execution_count": null,
   "metadata": {},
   "outputs": [],
   "source": [
    "def getTLVfromField(ev, n, idx, mass):\n",
    "    v = rt.TLorentzVector()\n",
    "    v.SetPtEtaPhiM(getattr(ev, n+'_pt')[idx], \n",
    "                   getattr(ev, n+'_eta')[idx], \n",
    "                   getattr(ev, n+'_phi')[idx], \n",
    "                   mass)\n",
    "    return v"
   ]
  },
  {
   "cell_type": "code",
   "execution_count": null,
   "metadata": {},
   "outputs": [],
   "source": [
    "leafs_names = [\n",
    "    'mass_pipi', 'mass_D0pi1', 'mass_D0pi2',\n",
    "    'mass_D0pipi', 'mass_D0pipi_scaledDst', 'mass_D0pipi_scaledDstst',\n",
    "    'cosThetaSt_pi1', 'cosThetaSt_pi2'\n",
    "]\n",
    "output = np.zeros((tData.GetEntries(), len(leafs_names)))\n",
    "N_accepted_tot = 0\n",
    "N_accepted_cand = []\n",
    "\n",
    "pb = ProgressBar(maxEntry=tData.GetEntries())\n",
    "for i_ev, ev in enumerate(tData):\n",
    "        pb.show(i_ev)\n",
    "        N_acc = 0\n",
    "\n",
    "        ev_output = []\n",
    "        for j in range(ev.pval_piK.size()):            \n",
    "            if not ev.K_pt[j] > 0.8: continue\n",
    "            if not ev.pi_pt[j] > 0.8: continue\n",
    "            if not ev.pval_piK[j] > 0.1: continue\n",
    "            if not np.abs(ev.K_eta[j]) < 2.4: continue\n",
    "            if not np.abs(ev.pi_eta[j]) < 2.4: continue\n",
    "            if not np.abs(ev.mass_piK[j] - 1.86483) < 0.035: continue\n",
    "            if not ev.sigdxy_vtxD0_PV[j] > 6: continue\n",
    "            if not ev.cosT_D0_PV[j] > 0.99: continue\n",
    "            if not ev.pi1_pt[j] > 1.: continue\n",
    "            if not np.abs(ev.pi1_eta[j]) < 2.4: continue\n",
    "            if not ev.pi2_pt[j] > 1.: continue\n",
    "            if not np.abs(ev.pi2_eta[j]) < 2.4: continue\n",
    "            if not ev.pval_D0pipi[j] > 0.1: continue\n",
    "            if not ev.cos_D0pipi_PV[j] > 0.999: continue\n",
    "            if not ev.sigd_vtxD0pipi_PV[j] > 5: continue\n",
    "            if ev.mass_D0pipi_scaledDst[j] < 4.8 or ev.mass_D0pipi_scaledDst[j] > 5.8: continue\n",
    "\n",
    "            N_acc += 1\n",
    "            \n",
    "            p4_pi1 = getTLVfromField(ev, 'pi1', j, m_pi)\n",
    "            p4_pi2 = getTLVfromField(ev, 'pi2', j, m_pi)\n",
    "            \n",
    "            p4_D0pipi = getTLVfromField(ev, 'D0pipi', j, ev.mass_D0pipi[j])\n",
    "            p4_Bs = getTLVfromField(ev, 'D0pipi_sDst', j, ev.mass_D0pipi_scaledDst[j])\n",
    "            \n",
    "            p4_aux = p4_Bs - p4_D0pipi\n",
    "            p4_D0 = rt.TLorentzVector()\n",
    "            p4_D0.SetPtEtaPhiM(p4_aux.Pt()/(m_Dst/m_D0 - 1), p4_aux.Eta(), p4_aux.Phi(), ev.mass_piK[j])\n",
    "            \n",
    "            p4_pipi = p4_D0pipi - p4_D0\n",
    "            \n",
    "            p4_aux = rt.TLorentzVector()\n",
    "            r = 2.5/m_D0\n",
    "            p4_aux.SetPtEtaPhiM(r*p4_D0.Pt(), p4_D0.Eta(), p4_D0.Phi(), r*ev.mass_piK[j])\n",
    "            p4_D0pipi_scDstst = p4_aux + p4_pipi\n",
    "            \n",
    "            p4st_pi1 = rt.TLorentzVector(p4_pi1)\n",
    "            p4st_pi1.Boost(-1*p4_Bs.BoostVector())\n",
    "            cosThetaSt_pi1 = np.cos(p4st_pi1.Angle(p4_Bs.BoostVector()))\n",
    "            \n",
    "            p4st_pi2 = rt.TLorentzVector(p4_pi2)\n",
    "            p4st_pi2.Boost(-1*p4_Bs.BoostVector())\n",
    "            cosThetaSt_pi2 = np.cos(p4st_pi2.Angle(p4_Bs.BoostVector()))\n",
    "            \n",
    "            aux = (p4_pipi.M(), (p4_D0+p4_pi1).M(), (p4_D0+p4_pi2).M(),\n",
    "                   ev.mass_D0pipi[j], ev.mass_D0pipi_scaledDst[j], p4_D0pipi_scDstst.M(),\n",
    "                   cosThetaSt_pi1, cosThetaSt_pi2\n",
    "                  )\n",
    "            ev_output.append(aux)\n",
    "            \n",
    "        N_acc = len(ev_output)\n",
    "        idx = 0\n",
    "        if N_acc > 1:\n",
    "            idx = np.random.randint(len(ev_output))\n",
    "        if N_acc > 0:\n",
    "            output[N_accepted_tot] = ev_output[idx]\n",
    "            N_accepted_tot += 1\n",
    "            N_accepted_cand.append(N_acc)\n",
    "\n",
    "output = output[:N_accepted_tot]"
   ]
  },
  {
   "cell_type": "code",
   "execution_count": null,
   "metadata": {},
   "outputs": [],
   "source": [
    "dset = pd.DataFrame(output, columns=leafs_names)\n",
    "rtnp.array2root(dset.to_records(), 'tmp/TnP_B2DststPipi.root', treename='Tevts', mode='RECREATE')"
   ]
  },
  {
   "cell_type": "code",
   "execution_count": null,
   "metadata": {},
   "outputs": [],
   "source": [
    "h = create_TH1D(dset['mass_D0pipi_scaledDst'], name='h',\n",
    "                title='', axis_title=['mass(D_{0}^{mod**}#pi^{+}#pi^{+}) [GeV]', 'Candidates'],\n",
    "                binning=[50, 4.8, 5.8] )\n",
    "h.Sumw2()\n",
    "c = drawOnCMSCanvas(CMS_lumi, [h], 'same')\n",
    "c.SetGrid()"
   ]
  },
  {
   "cell_type": "code",
   "execution_count": null,
   "metadata": {},
   "outputs": [],
   "source": [
    "h = create_TH1D(dset['mass_D0pipi_scaledDstst'], name='h',\n",
    "                title='', axis_title=['mass(D_{0}^{mod**}#pi^{+}#pi^{+}) [GeV]', 'Candidates'],\n",
    "                binning=[50, 4.8, 7] )\n",
    "h.Sumw2()\n",
    "c = drawOnCMSCanvas(CMS_lumi, [h], 'same')\n",
    "c.SetGrid()"
   ]
  },
  {
   "cell_type": "code",
   "execution_count": null,
   "metadata": {},
   "outputs": [],
   "source": [
    "h = create_TH2D(np.column_stack((dset['mass_D0pipi_scaledDst'], dset['cosThetaSt_pi1'])), name='h',\n",
    "                title='', axis_title=['mass(D_{0}^{mod*}#pi^{+}#pi^{+}) [GeV]', 'cos #theta*_{#pi_1}', 'Candidates'],\n",
    "                binning=[np.linspace(4.8, 5.8, 50), np.linspace(-1, 1, 50)] )\n",
    "\n",
    "c = drawOnCMSCanvas(CMS_lumi, [h], ['colz'], mR=0.16)"
   ]
  },
  {
   "cell_type": "code",
   "execution_count": null,
   "metadata": {},
   "outputs": [],
   "source": [
    "h = create_TH2D(np.column_stack((dset['cosThetaSt_pi1'], dset['cosThetaSt_pi2'])), name='h',\n",
    "                title='', axis_title=['cos #theta*_{#pi_1}', 'cos #theta*_{#pi_2}', 'Candidates'],\n",
    "                binning=[np.linspace(-1, 1, 50), np.linspace(-1, 1, 50)] )\n",
    "\n",
    "c = drawOnCMSCanvas(CMS_lumi, [h], ['colz'], mR=0.16)"
   ]
  },
  {
   "cell_type": "code",
   "execution_count": null,
   "metadata": {},
   "outputs": [],
   "source": [
    "h = create_TH2D(np.column_stack((dset['mass_D0pi1'], dset['mass_D0pi2'])), name='h',\n",
    "                title='', axis_title=['mass(D_{0}#pi_{1})', 'mass(D_{0}#pi_{2})', 'Candidates'],\n",
    "                binning=[np.linspace(1.8, 6, 50), np.linspace(1.8, 6, 50)] )\n",
    "\n",
    "c = drawOnCMSCanvas(CMS_lumi, [h], ['colz'], mR=0.16)"
   ]
  },
  {
   "cell_type": "code",
   "execution_count": null,
   "metadata": {},
   "outputs": [],
   "source": [
    "sel = np.logical_or(dset['mass_D0pi1']<2.5, dset['mass_D0pi2']<2.5)\n",
    "h = create_TH1D(dset['mass_D0pipi_scaledDst'][sel], name='h',\n",
    "                title='', axis_title=['mass(D_{0}^{mod*}#pi^{+}#pi^{+}) [GeV]', 'Candidates'],\n",
    "                binning=[50, 4.8, 5.8] )\n",
    "h.Sumw2()\n",
    "c = drawOnCMSCanvas(CMS_lumi, [h], 'same')\n",
    "c.SetGrid()"
   ]
  },
  {
   "cell_type": "markdown",
   "metadata": {},
   "source": [
    "Quanti di questi hanno il pione moscio dal D* ricostruito e selezionato?"
   ]
  },
  {
   "cell_type": "code",
   "execution_count": null,
   "metadata": {},
   "outputs": [],
   "source": []
  }
 ],
 "metadata": {
  "kernelspec": {
   "display_name": "Python 2",
   "language": "python",
   "name": "python2"
  },
  "language_info": {
   "codemirror_mode": {
    "name": "ipython",
    "version": 2
   },
   "file_extension": ".py",
   "mimetype": "text/x-python",
   "name": "python",
   "nbconvert_exporter": "python",
   "pygments_lexer": "ipython2",
   "version": "2.7.14+"
  }
 },
 "nbformat": 4,
 "nbformat_minor": 2
}
