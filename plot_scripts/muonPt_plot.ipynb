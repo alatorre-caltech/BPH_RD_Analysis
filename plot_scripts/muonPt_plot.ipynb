{
 "cells": [
  {
   "cell_type": "code",
   "execution_count": 1,
   "metadata": {},
   "outputs": [],
   "source": [
    "import sys, os, pickle, time, re\n",
    "from glob import glob\n",
    "sys.path.append('../lib')\n",
    "sys.path.append('../analysis')"
   ]
  },
  {
   "cell_type": "code",
   "execution_count": 12,
   "metadata": {},
   "outputs": [],
   "source": [
    "import numpy as np\n",
    "import pandas as pd\n",
    "import matplotlib.pyplot as plt\n",
    "from array import array\n",
    "\n",
    "import ROOT as rt\n",
    "rt.TGaxis.SetMaxDigits(4)\n",
    "rt.gErrorIgnoreLevel = rt.kError\n",
    "rt.RooMsgService.instance().setGlobalKillBelow(rt.RooFit.ERROR)\n",
    "import ROOT.RooFit as rf\n",
    "import root_numpy as rtnp\n",
    "\n",
    "from analysis_utilities import drawOnCMSCanvas, getEff, DSetLoader\n",
    "from histo_utilities import create_TH1D, create_TH2D, SetMaxToMaxHist\n",
    "from gridVarQ2Plot import col_dic, label_dic\n",
    "from progressBar import ProgressBar\n",
    "from categoriesDef import categories\n",
    "\n",
    "from lumi_utilities import getLumiByTrigger\n",
    "\n",
    "import CMS_lumi, tdrstyle\n",
    "tdrstyle.setTDRStyle()\n",
    "CMS_lumi.writeExtraText = 1\n",
    "\n",
    "\n",
    "CMS_lumi.extraText = 6*' ' + 'Simulation Internal'\n",
    "\n",
    "donotdelete = []"
   ]
  },
  {
   "cell_type": "code",
   "execution_count": 3,
   "metadata": {},
   "outputs": [],
   "source": [
    "cl = rt.TLine()\n",
    "cl.SetLineColor(6)\n",
    "cl.SetLineStyle(9)\n",
    "cl.SetLineWidth(2)"
   ]
  },
  {
   "cell_type": "code",
   "execution_count": 7,
   "metadata": {},
   "outputs": [],
   "source": [
    "dsMu = DSetLoader('B0_MuNuDmst_PU20')\n",
    "dfMu = pd.DataFrame(rtnp.root2array(dsMu.skimmed_dir+'/None.root'))"
   ]
  },
  {
   "cell_type": "code",
   "execution_count": 8,
   "metadata": {},
   "outputs": [],
   "source": [
    "dsTau = DSetLoader('B0_TauNuDmst_PU20')\n",
    "dfTau = pd.DataFrame(rtnp.root2array(dsTau.skimmed_dir+'/None.root'))"
   ]
  },
  {
   "cell_type": "code",
   "execution_count": 11,
   "metadata": {},
   "outputs": [
    {
     "data": {
      "text/plain": [
       "'q2 Est_mu M2_miss mu_pt mu_eta mu_phi mu_sigdxy B_pt B_eta B_phi Dst_pt Dst_eta Dst_phi D0_pt D0_eta D0_phi pi_pt pi_eta pi_phi pi_IP K_pt K_eta K_phi K_IP pval_piK sigdxy_vtxD0_PV pis_pt pis_eta pis_phi pis_IP pval_D0pis mass_piK mass_D0pis mass_D0pismu pval_D0pismu cos_D0pismu_PV cosT_D0pismu_PV N_lowMassAddTks tkMassHad_0 tkMassHad_1 tkMassMuTk_0 tkMassMuTk_1 tkPt_0 tkPt_1 cat_low cat_mid cat_high N_vtx MC_q2 MC_Est_mu MC_M2_miss MC_B_pt MC_B_eta MC_B_phi MC_Dst_pt MC_Dst_eta MC_Dst_phi MC_mu_pt MC_mu_eta MC_mu_phi MC_mu_IP MC_idxMatch wh_CLNCentral wh_CLNR0Down wh_CLNR0Up wh_CLNR1Down wh_CLNR1Up wh_CLNR2Down wh_CLNR2Up wh_CLNRhoSqDown wh_CLNRhoSqUp'"
      ]
     },
     "execution_count": 11,
     "metadata": {},
     "output_type": "execute_result"
    }
   ],
   "source": [
    "' '.join(dfMu.columns[1:])"
   ]
  },
  {
   "cell_type": "markdown",
   "metadata": {},
   "source": [
    "# General plots"
   ]
  },
  {
   "cell_type": "code",
   "execution_count": 25,
   "metadata": {},
   "outputs": [
    {
     "data": {
      "image/png": "[encoded data removed]",
      "text/plain": [
       "<IPython.core.display.Image object>"
      ]
     },
     "metadata": {},
     "output_type": "display_data"
    }
   ],
   "source": [
    "leg = rt.TLegend(0.6, 0.7, 0.9, 0.93)\n",
    "leg.SetBorderSize(0)\n",
    "leg.SetFillStyle(0)\n",
    "\n",
    "sel = np.abs(dfMu['mu_eta']) < 1.5\n",
    "hMu = create_TH1D(dfMu['mu_pt'][sel], \n",
    "                  binning=[50,6,20], \n",
    "                  axis_title=['Muon p_{T} [GeV]', 'Normalized candidates'],\n",
    "                  scale_histo='norm',\n",
    "                  opt='overflow+underflow'\n",
    "                 )\n",
    "hMu.SetLineColor(col_dic['mu'])\n",
    "leg.AddEntry(hMu, label_dic['mu'], 'lep')\n",
    "\n",
    "sel = np.abs(dfTau['mu_eta']) < 1.5\n",
    "hTau = create_TH1D(dfTau['mu_pt'][sel], 'tau', binning=hMu.binning,\n",
    "                   opt='overflow+underflow',\n",
    "                   scale_histo='norm')\n",
    "hTau.SetLineColor(col_dic['tau'])\n",
    "leg.AddEntry(hTau, label_dic['tau'], 'lep')\n",
    "\n",
    "h_list = [hMu, hTau]\n",
    "\n",
    "m = SetMaxToMaxHist(h_list)\n",
    "c = drawOnCMSCanvas(CMS_lumi, h_list, 'same')\n",
    "\n",
    "cl.DrawLine(7, 0, 7, m)\n",
    "cl.DrawLine(9, 0, 9, m)\n",
    "cl.DrawLine(12, 0, 12, m)\n",
    "leg.AddEntry(cl, 'Cat. boundaries', 'l')\n",
    "\n",
    "leg.Draw()"
   ]
  },
  {
   "cell_type": "code",
   "execution_count": null,
   "metadata": {},
   "outputs": [],
   "source": []
  }
 ],
 "metadata": {
  "kernelspec": {
   "display_name": "Python 2",
   "language": "python",
   "name": "python2"
  },
  "language_info": {
   "codemirror_mode": {
    "name": "ipython",
    "version": 2
   },
   "file_extension": ".py",
   "mimetype": "text/x-python",
   "name": "python",
   "nbconvert_exporter": "python",
   "pygments_lexer": "ipython2",
   "version": "2.7.14+"
  }
 },
 "nbformat": 4,
 "nbformat_minor": 2
}
