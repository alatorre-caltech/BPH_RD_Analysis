{
 "cells": [
  {
   "cell_type": "markdown",
   "metadata": {
    "ExecuteTime": {
     "end_time": "2020-10-30T00:10:27.353499Z",
     "start_time": "2020-10-30T00:10:27.347648Z"
    }
   },
   "source": [
    "# Import"
   ]
  },
  {
   "cell_type": "code",
   "execution_count": 1,
   "metadata": {
    "ExecuteTime": {
     "end_time": "2020-11-11T19:34:49.997644Z",
     "start_time": "2020-11-11T19:34:49.794182Z"
    }
   },
   "outputs": [],
   "source": [
    "import sys, os, re, yaml, pickle\n",
    "import commands\n",
    "from glob import glob\n",
    "from prettytable import PrettyTable\n",
    "sys.path.append('../lib')\n",
    "\n",
    "import time, datetime\n",
    "from multiprocessing import Pool"
   ]
  },
  {
   "cell_type": "code",
   "execution_count": 2,
   "metadata": {
    "ExecuteTime": {
     "end_time": "2020-11-11T19:34:51.343771Z",
     "start_time": "2020-11-11T19:34:50.002673Z"
    }
   },
   "outputs": [],
   "source": [
    "import numpy as np\n",
    "from scipy.stats import mode\n",
    "import matplotlib.pyplot as plt\n",
    "from progressBar import ProgressBar"
   ]
  },
  {
   "cell_type": "code",
   "execution_count": 3,
   "metadata": {
    "ExecuteTime": {
     "end_time": "2020-11-11T19:34:58.232473Z",
     "start_time": "2020-11-11T19:34:51.348285Z"
    }
   },
   "outputs": [
    {
     "name": "stdout",
     "output_type": "stream",
     "text": [
      "Welcome to JupyROOT 6.12/07\n"
     ]
    }
   ],
   "source": [
    "import uproot as ur\n",
    "import ROOT as rt\n",
    "import CMS_lumi, tdrstyle\n",
    "tdrstyle.setTDRStyle()\n",
    "CMS_lumi.writeExtraText = 1\n",
    "CMS_lumi.extraText = 6*' ' + 'Simulation Internal'\n",
    "from analysis_utilities import drawOnCMSCanvas, getEff\n",
    "from histo_utilities import create_TH2D, create_TH1D, std_color_list, SetMaxToMaxHist\n",
    "from gridVarQ2Plot import col_dic, label_dic\n",
    "\n",
    "rt.gErrorIgnoreLevel = rt.kError\n",
    "rt.RooMsgService.instance().setGlobalKillBelow(rt.RooFit.ERROR)\n",
    "\n",
    "# load FWLite C++ libraries\n",
    "rt.gSystem.Load(\"libFWCoreFWLite.so\");\n",
    "rt.gSystem.Load(\"libDataFormatsFWLite.so\");\n",
    "rt.FWLiteEnabler.enable()\n",
    "\n",
    "# load FWlite python libraries\n",
    "from DataFormats.FWLite import Lumis, Handle, Events"
   ]
  },
  {
   "cell_type": "code",
   "execution_count": 4,
   "metadata": {
    "ExecuteTime": {
     "end_time": "2020-11-11T19:34:58.294959Z",
     "start_time": "2020-11-11T19:34:58.238350Z"
    }
   },
   "outputs": [],
   "source": [
    "def make_comp_plot_1D(inputs, #[x, label, color=-1 (auto), ]\n",
    "                      transformX = None,\n",
    "                      binning=[None, None, None],\n",
    "                      setLog = '',\n",
    "                      miny = 0,\n",
    "                      axis_title = ['', ''],\n",
    "                      scale_histo = 'norm',\n",
    "                      opt='overflow+underflow',\n",
    "                      leg_loc=[0.6, 0.7, 0.9, 0.93] # x0, y0, w, h\n",
    "                     ): \n",
    "    \n",
    "    if not leg_loc is None:\n",
    "        leg = rt.TLegend(leg_loc[0], leg_loc[1], leg_loc[0] + leg_loc[2], leg_loc[1] + leg_loc[3])\n",
    "        leg.SetBorderSize(0)\n",
    "        leg.SetFillStyle(0)\n",
    "        \n",
    "    colors = []\n",
    "    for p in inputs:\n",
    "        if len(p) > 2:\n",
    "            colors.append(p[2])\n",
    "        else:\n",
    "            colors.append(-1)\n",
    "    jStd = 0\n",
    "    for i,c in enumerate(colors):\n",
    "        if c == -1:\n",
    "            colors[i] = std_color_list[jStd]\n",
    "            jStd += 1\n",
    "    \n",
    "    hList = []\n",
    "    for i, p in enumerate(inputs):\n",
    "        if transformX is None:\n",
    "            x = p[0]\n",
    "        else:\n",
    "            x = transformX(p[0])\n",
    "        label = p[1]\n",
    "        h = create_TH1D(x, \n",
    "                        binning=binning if i==0 else hList[0].binning, \n",
    "                        axis_title=axis_title,\n",
    "                        scale_histo=scale_histo, opt=opt,\n",
    "                       )\n",
    "        h.SetLineColor(colors[i])\n",
    "        if not leg_loc is None:\n",
    "            leg.AddEntry(h, label, 'lp')\n",
    "        hList.append(h)\n",
    "            \n",
    "    m = SetMaxToMaxHist(hList)\n",
    "    hList[0].GetYaxis().SetRangeUser(miny, m)\n",
    "    c = drawOnCMSCanvas(CMS_lumi, hList, 'same')\n",
    "    leg.Draw()\n",
    "    \n",
    "    if 'x' in setLog: c.SetLogx()\n",
    "    if 'y' in setLog: c.SetLogy()\n",
    "    \n",
    "    c.dnd = [hList, leg]\n",
    "    return c"
   ]
  },
  {
   "cell_type": "markdown",
   "metadata": {
    "heading_collapsed": true
   },
   "source": [
    "# Inputs"
   ]
  },
  {
   "cell_type": "code",
   "execution_count": 5,
   "metadata": {
    "ExecuteTime": {
     "end_time": "2020-11-11T19:34:58.359986Z",
     "start_time": "2020-11-11T19:34:58.299693Z"
    },
    "hidden": true
   },
   "outputs": [],
   "source": [
    "base = '/storage/user/ocerri/BPhysics/data/cmsMC_private/'\n",
    "loc = {}\n",
    "# loc['tau'] = base + 'Unbiased_B0_TauNuDmst_Hardbbbar_evtgen_ISGW2_PUGENonly_10-2-3/test_GEN-SIM.root'\n",
    "loc['tau'] = base + 'Unbiased_B0_TauNuDmst_Hardbbbar_evtgen_ISGW2_PUGENonly_10-2-3/jobs_out/out_GEN-SIM_*.root'\n",
    "# loc['mu'] = base + 'Unbiased_B0_MuNuDmst_Hardbbbar_evtgen_ISGW2_PUGENonly_10-2-3/test_GEN-SIM.root'\n",
    "loc['mu'] = base + 'Unbiased_B0_MuNuDmst_Hardbbbar_evtgen_ISGW2_PUGENonly_10-2-3/jobs_out/out_GEN-SIM_*.root'\n",
    "loc['cuts_mu_SoftQCD'] = base + 'BP_Tag_B0_MuNuDmst_SoftQCDall_evtgen_ISGW2_PUGENonly_10-2-3/jobs_out/out_GEN-SIM_*.root'\n",
    "loc['cuts_tau_MINIAOD'] = base + 'BP_Tag_B0_TauNuDmst_Hardbbbar_evtgen_ISGW2_PUGENonly_10-2-3/jobs_out/out_GEN-SIM_*.root'\n",
    "loc['cuts_mu_MINIAOD'] = base + 'BP_Tag_B0_MuNuDmst_Hardbbbar_evtgen_ISGW2_PUGENonly_10-2-3/jobs_out/out_GEN-SIM_*.root'"
   ]
  },
  {
   "cell_type": "code",
   "execution_count": 6,
   "metadata": {
    "ExecuteTime": {
     "end_time": "2020-11-11T19:35:01.186359Z",
     "start_time": "2020-11-11T19:34:58.365506Z"
    },
    "hidden": true
   },
   "outputs": [],
   "source": [
    "handle = {}\n",
    "handle['genFilter'] = [Handle('GenFilterInfo'), ('genFilterEfficiencyProducer', '', 'GEN')]\n",
    "handle['genProduct'] = [Handle('GenLumiInfoProduct'), ('generator', '', 'GEN')]"
   ]
  },
  {
   "cell_type": "code",
   "execution_count": 7,
   "metadata": {
    "ExecuteTime": {
     "end_time": "2020-11-11T19:35:46.850088Z",
     "start_time": "2020-11-11T19:35:01.190702Z"
    },
    "hidden": true
   },
   "outputs": [
    {
     "name": "stdout",
     "output_type": "stream",
     "text": [
      "Mu\n",
      "eff generator: 4.01e-01 +/- 6.33e-04 (1.6e-03)\n",
      "\n",
      "\n",
      "Tau\n",
      "eff generator: 4.00e-01 +/- 6.33e-04 (1.6e-03)\n",
      "\n",
      "\n",
      "Cuts_tau_miniaod\n",
      "eff generator: 8.87e-04 +/- 2.43e-05 (2.7e-02)\n",
      "\n",
      "\n",
      "Cuts_mu_softqcd\n",
      "eff generator: 3.98e-05 +/- 4.99e-07 (1.3e-02)\n",
      "\n",
      "\n",
      "Cuts_mu_miniaod\n",
      "eff generator: 4.48e-03 +/- 5.45e-05 (1.2e-02)\n",
      "\n",
      "\n"
     ]
    }
   ],
   "source": [
    "eff = {}\n",
    "for n, ftempl in loc.iteritems():\n",
    "    print n.capitalize()\n",
    "    N_cuts = 0\n",
    "    N_gen = 0\n",
    "    for fn in glob(ftempl):\n",
    "        for lumi in Lumis(fn):\n",
    "            prods = {}\n",
    "            for k,v in handle.iteritems():\n",
    "                lumi.getByLabel(v[1], v[0])\n",
    "                prods[k] = v[0].product()\n",
    "            N_cuts += prods['genFilter'].numEventsPassed()\n",
    "            N_gen += prods['genFilter'].numEventsTotal()\n",
    "           \n",
    "    e, de = getEff(N_cuts, N_gen)\n",
    "    eff[n] = [e, de]\n",
    "    print 'eff generator: {:1.2e} +/- {:1.2e} ({:1.1e})'.format(e, de, de/e)\n",
    "    print '\\n'"
   ]
  },
  {
   "cell_type": "markdown",
   "metadata": {},
   "source": [
    "# Extract informations from edm"
   ]
  },
  {
   "cell_type": "code",
   "execution_count": 8,
   "metadata": {
    "ExecuteTime": {
     "end_time": "2020-11-11T19:35:46.918017Z",
     "start_time": "2020-11-11T19:35:46.853951Z"
    },
    "code_folding": [
     20,
     34
    ]
   },
   "outputs": [],
   "source": [
    "def extractFromFile(inputs):\n",
    "    iJob = inputs[0]\n",
    "    fn = inputs[1]\n",
    "    nMax = inputs[2]\n",
    "    \n",
    "    events = Events(fn)\n",
    "    nTot = events.size()\n",
    "    nOut = float(min(nTot, nMax))\n",
    "    outDs = np.zeros((int(nOut), 4))\n",
    "    for iEv, event in enumerate(events):\n",
    "        if iEv ==0 or (iEv+1) % int(nOut/2.0) == 0:\n",
    "            print '{}: {:.0f} %'.format(iJob, 100.*(iEv+1)/nOut)\n",
    "\n",
    "        handle = Handle('vector<reco::GenParticle>')\n",
    "        event.getByLabel(('genParticles', '', 'GEN'), handle)\n",
    "\n",
    "        ptB = []\n",
    "        etaB = []\n",
    "        pt = []\n",
    "        eta = []\n",
    "        for p in handle.product():\n",
    "            if not p.pdgId() == 511:\n",
    "                continue\n",
    "            ptB.append(p.pt())\n",
    "            etaB.append(p.eta())\n",
    "            for d in p.daughterRefVector():\n",
    "                if d.pdgId() == -13:\n",
    "                    pt.append(d.pt())\n",
    "                    eta.append(d.eta())\n",
    "                elif d.pdgId() == -15:\n",
    "                    for dd in d.daughterRefVector():\n",
    "                        if dd.pdgId() == -13:\n",
    "                            pt.append(dd.pt())\n",
    "                            eta.append(dd.eta())\n",
    "        if len(pt) < 2:\n",
    "            idx = 0\n",
    "        else:\n",
    "            pt = np.array(pt)\n",
    "            eta = np.array(eta)\n",
    "            sel = np.logical_and(pt > 6.7, np.abs(eta) < 1.6)\n",
    "\n",
    "            if np.sum(sel) > 0:\n",
    "                idx = np.random.choice(np.nonzero(sel)[0])\n",
    "            else:\n",
    "                idx = np.random.choice(pt.shape[0])\n",
    "        outDs[iEv, 0] = pt[idx]\n",
    "        outDs[iEv, 1] = eta[idx]\n",
    "        outDs[iEv, 2] = ptB[idx]\n",
    "        outDs[iEv, 3] = etaB[idx]\n",
    "\n",
    "        if iEv == nMax - 1:\n",
    "            break\n",
    "    return [outDs, iEv+1]"
   ]
  },
  {
   "cell_type": "code",
   "execution_count": 28,
   "metadata": {
    "ExecuteTime": {
     "end_time": "2020-11-11T19:43:19.076660Z",
     "start_time": "2020-11-11T19:39:11.201064Z"
    },
    "code_folding": [],
    "scrolled": true
   },
   "outputs": [
    {
     "name": "stdout",
     "output_type": "stream",
     "text": [
      "Mu\n",
      "1: 0 %\n",
      "19: 0 %\n",
      "16: 0 %\n",
      "3: 0 %\n",
      "15: 0 %\n",
      "7: 0 %\n",
      "4: 0 %\n",
      "14: 0 %\n",
      "8: 0 %\n",
      "18: 0 %\n",
      "0: 0 %\n",
      "10: 0 %\n",
      "5: 0 %\n",
      "6: 0 %\n",
      "11: 0 %\n",
      "9: 0 %\n",
      "12: 0 %\n",
      "17: 0 %\n",
      "2: 0 %\n",
      "13: 0 %\n",
      "14: 50 %\n",
      "13: 50 %\n",
      "19: 50 %\n",
      "10: 50 %\n",
      "11: 50 %\n",
      "5: 50 %\n",
      "1: 50 %\n",
      "16: 50 %\n",
      "3: 50 %\n",
      "4: 50 %\n",
      "18: 50 %\n",
      "2: 50 %\n",
      "8: 50 %\n",
      "15: 50 %\n",
      "12: 50 %\n",
      "6: 50 %\n",
      "17: 50 %\n",
      "7: 50 %\n",
      "9: 50 %\n",
      "0: 50 %\n",
      "11: 100 %\n",
      "5: 100 %\n",
      "2: 100 %\n",
      "10: 100 %\n",
      "4: 100 %\n",
      "3: 100 %\n",
      "15: 100 %\n",
      "6: 100 %\n",
      "14: 100 %\n",
      "0: 100 %\n",
      "19: 100 %\n",
      "1: 100 %\n",
      "16: 100 %\n",
      "13: 100 %\n",
      "12: 100 %\n",
      "8: 100 %\n",
      "17: 100 %\n",
      "18: 100 %\n",
      "9: 100 %\n",
      "7: 100 %\n",
      "Tau\n",
      "Loading file\n",
      "Cuts_mu_softqcd\n",
      "6: 6 %\n",
      "18: 10 %\n",
      "10: 8 %\n",
      "4: 9 %\n",
      "38: 14 %\n",
      "36: 11 %\n",
      "26: 10 %\n",
      "8: 7 %\n",
      "32: 8 %\n",
      "20: 8 %\n",
      "24: 6 %\n",
      "34: 9 %\n",
      "16: 5 %\n",
      "30: 14 %\n",
      "12: 7 %\n",
      "2: 8 %\n",
      "14: 14 %\n",
      "28: 10 %\n",
      "0: 10 %\n",
      "22: 7 %\n",
      "38: 43 %\n",
      "38: 86 %\n",
      "36: 44 %\n",
      "4: 45 %\n",
      "8: 50 %\n",
      "39: 11 %\n",
      "36: 89 %\n",
      "26: 50 %\n",
      "34: 45 %\n",
      "37: 4 %\n",
      "32: 50 %\n",
      "18: 50 %\n",
      "39: 44 %\n",
      "30: 43 %\n",
      "4: 91 %\n",
      "20: 46 %\n",
      "24: 50 %\n",
      "8: 100 %\n",
      "30: 86 %\n",
      "39: 89 %\n",
      "10: 46 %\n",
      "34: 91 %\n",
      "32: 100 %\n",
      "26: 100 %\n",
      "5: 7 %\n",
      "2: 50 %\n",
      "9: 5 %\n",
      "33: 7 %\n",
      "31: 6 %\n",
      "27: 8 %\n",
      "0: 50 %\n",
      "37: 50 %\n",
      "18: 100 %\n",
      "28: 50 %\n",
      "20: 92 %\n",
      "22: 50 %\n",
      "10: 92 %\n",
      "2: 100 %\n",
      "35: 9 %\n",
      "40: 11 %\n",
      "19: 100 %\n",
      "6: 47 %\n",
      "3: 7 %\n",
      "0: 100 %\n",
      "5: 50 %\n",
      "21: 12 %\n",
      "33: 47 %\n",
      "27: 50 %\n",
      "40: 44 %\n",
      "16: 50 %\n",
      "11: 8 %\n",
      "42: 8 %\n",
      "22: 100 %\n",
      "9: 47 %\n",
      "1: 11 %\n",
      "21: 50 %\n",
      "24: 100 %\n",
      "31: 47 %\n",
      "14: 43 %\n",
      "23: 5 %\n",
      "40: 89 %\n",
      "35: 45 %\n",
      "28: 100 %\n",
      "25: 8 %\n",
      "5: 100 %\n",
      "1: 44 %\n",
      "29: 11 %\n",
      "44: 9 %\n",
      "21: 100 %\n",
      "3: 50 %\n",
      "42: 50 %\n",
      "14: 86 %\n",
      "6: 94 %\n",
      "41: 8 %\n",
      "27: 100 %\n",
      "12: 50 %\n",
      "46: 10 %\n",
      "7: 8 %\n",
      "44: 45 %\n",
      "37: 100 %\n",
      "29: 44 %\n",
      "33: 93 %\n",
      "25: 50 %\n",
      "11: 50 %\n",
      "15: 8 %\n",
      "48: 14 %\n",
      "1: 89 %\n",
      "35: 91 %\n",
      "50: 5 %\n",
      "48: 43 %\n",
      "42: 100 %\n",
      "31: 94 %\n",
      "7: 46 %\n",
      "52: 6 %\n",
      "23: 48 %\n",
      "16: 100 %\n",
      "54: 8 %\n",
      "56: 8 %\n",
      "17: 10 %\n",
      "43: 12 %\n",
      "41: 50 %\n",
      "46: 50 %\n",
      "29: 89 %\n",
      "9: 95 %\n",
      "11: 100 %\n",
      "48: 86 %\n",
      "25: 100 %\n",
      "3: 100 %\n",
      "60: 11 %\n",
      "58: 11 %\n",
      "44: 91 %\n",
      "15: 46 %\n",
      "17: 50 %\n",
      "54: 50 %\n",
      "43: 50 %\n",
      "7: 92 %\n",
      "64: 6 %\n",
      "52: 47 %\n",
      "62: 33 %\n",
      "66: 6 %\n",
      "68: 8 %\n",
      "60: 44 %\n",
      "12: 100 %\n",
      "56: 46 %\n",
      "41: 100 %\n",
      "62: 67 %\n",
      "46: 100 %\n",
      "50: 47 %\n",
      "49: 5 %\n",
      "70: 10 %\n",
      "13: 12 %\n",
      "72: 9 %\n",
      "47: 12 %\n",
      "45: 6 %\n",
      "62: 100 %\n",
      "17: 100 %\n",
      "54: 100 %\n",
      "58: 44 %\n",
      "74: 10 %\n",
      "47: 50 %\n",
      "63: 10 %\n",
      "23: 95 %\n",
      "68: 50 %\n",
      "55: 9 %\n",
      "70: 50 %\n",
      "72: 45 %\n",
      "15: 92 %\n",
      "43: 100 %\n",
      "58: 89 %\n",
      "60: 89 %\n",
      "13: 50 %\n",
      "56: 92 %\n",
      "76: 8 %\n",
      "66: 50 %\n",
      "74: 50 %\n",
      "64: 50 %\n",
      "52: 94 %\n",
      "78: 14 %\n",
      "47: 100 %\n",
      "80: 7 %\n",
      "57: 10 %\n",
      "61: 6 %\n",
      "59: 10 %\n",
      "82: 20 %\n",
      "50: 95 %\n",
      "63: 50 %\n",
      "78: 43 %\n",
      "13: 100 %\n",
      "55: 45 %\n",
      "82: 40 %\n",
      "72: 91 %\n",
      "53: 7 %\n",
      "45: 50 %\n",
      "74: 100 %\n",
      "70: 100 %\n",
      "49: 50 %\n",
      "57: 50 %\n",
      "68: 100 %\n",
      "51: 6 %\n",
      "84: 7 %\n",
      "75: 7 %\n",
      "71: 8 %\n",
      "82: 80 %\n",
      "73: 7 %\n",
      "76: 50 %\n",
      "63: 100 %\n",
      "78: 86 %\n",
      "66: 100 %\n",
      "69: 6 %\n",
      "83: 8 %\n",
      "80: 50 %\n",
      "55: 91 %\n",
      "67: 7 %\n",
      "86: 10 %\n",
      "59: 50 %\n",
      "75: 50 %\n",
      "71: 46 %\n",
      "64: 100 %\n",
      "61: 47 %\n",
      "53: 50 %\n",
      "79: 6 %\n",
      "57: 100 %\n",
      "83: 50 %\n",
      "88: 6 %\n",
      "45: 100 %\n",
      "65: 8 %\n",
      "90: 17 %\n",
      "76: 100 %\n",
      "49: 100 %\n",
      "86: 50 %\n",
      "84: 50 %\n",
      "90: 50 %\n",
      "73: 47 %\n",
      "80: 100 %\n",
      "59: 100 %\n",
      "67: 50 %\n",
      "92: 6 %\n",
      "81: 8 %\n",
      "77: 6 %\n",
      "94: 8 %\n",
      "71: 92 %\n",
      "90: 100 %\n",
      "96: 12 %\n",
      "51: 50 %\n",
      "88: 50 %\n",
      "83: 100 %\n",
      "61: 94 %\n",
      "98: 7 %\n",
      "91: 11 %\n",
      "86: 100 %\n",
      "69: 47 %\n",
      "75: 100 %\n",
      "53: 100 %\n",
      "96: 50 %\n",
      "87: 8 %\n",
      "65: 50 %\n",
      "81: 50 %\n",
      "94: 46 %\n",
      "92: 47 %\n",
      "79: 50 %\n",
      "67: 100 %\n",
      "91: 44 %\n",
      "84: 100 %\n",
      "96: 100 %\n",
      "73: 93 %\n",
      "87: 46 %\n",
      "85: 11 %\n",
      "97: 7 %\n",
      "98: 47 %\n",
      "77: 50 %\n",
      "69: 94 %\n",
      "88: 100 %\n",
      "81: 100 %\n",
      "65: 100 %\n",
      "91: 89 %\n",
      "85: 44 %\n",
      "94: 92 %\n",
      "89: 7 %\n",
      "51: 100 %\n",
      "79: 100 %\n",
      "87: 92 %\n",
      "97: 50 %\n",
      "95: 8 %\n",
      "92: 94 %\n",
      "85: 89 %\n",
      "77: 100 %\n",
      "98: 93 %\n",
      "89: 47 %\n",
      "93: 12 %\n",
      "99: 12 %\n",
      "93: 50 %\n",
      "95: 50 %\n",
      "97: 100 %\n",
      "99: 50 %\n",
      "93: 100 %\n",
      "89: 93 %\n",
      "95: 100 %\n",
      "99: 100 %\n"
     ]
    }
   ],
   "source": [
    "nMax = 1e9\n",
    "nFileMax = 100\n",
    "dset = {}\n",
    "nTot = {}\n",
    "recreate = ['cuts_mu_SoftQCD', 'mu']\n",
    "\n",
    "for n, ftmpl in loc.iteritems():\n",
    "    if 'MINIAOD' in n: continue\n",
    "    print n.capitalize()\n",
    "    \n",
    "    idx = ftmpl.find('10-2-3') + len('10-2-3')\n",
    "    outname = ftmpl[:idx]+'/muonGenInfo.pkl'\n",
    "    if os.path.exists(outname) and not n in recreate:\n",
    "        print 'Loading file'\n",
    "        nTot[n], outDs = pickle.load( open(outname, 'rb') )\n",
    "    else:\n",
    "        inputs = []\n",
    "        for i, fn in enumerate(glob(ftmpl)):\n",
    "            inputs.append([str(i), fn, nMax])\n",
    "            if i == nFileMax-1:\n",
    "                break\n",
    "            \n",
    "        p = Pool(min(20,len(inputs)))\n",
    "        outputs = p.map(extractFromFile, inputs)\n",
    "        outDs = np.concatenate(tuple([o[0] for o in outputs]))\n",
    "        nTot[n] = np.sum([o[1] for o in outputs])\n",
    "        \n",
    "        pickle.dump( [nTot[n], outDs], open( outname, 'wb' ) )\n",
    "    dset[n] = outDs"
   ]
  },
  {
   "cell_type": "code",
   "execution_count": 29,
   "metadata": {
    "ExecuteTime": {
     "end_time": "2020-11-11T19:47:01.955423Z",
     "start_time": "2020-11-11T19:47:01.928768Z"
    }
   },
   "outputs": [
    {
     "name": "stdout",
     "output_type": "stream",
     "text": [
      "{'mu': 240853, 'tau': 240282, 'cuts_mu_SoftQCD': 1216}\n"
     ]
    }
   ],
   "source": [
    "print nTot"
   ]
  },
  {
   "cell_type": "markdown",
   "metadata": {},
   "source": [
    "# Analyze data"
   ]
  },
  {
   "cell_type": "code",
   "execution_count": 20,
   "metadata": {
    "ExecuteTime": {
     "end_time": "2020-11-11T19:37:33.124996Z",
     "start_time": "2020-11-11T19:37:33.093801Z"
    }
   },
   "outputs": [],
   "source": [
    "txt = rt.TLatex()\n",
    "txt.SetTextAlign(12)\n",
    "txt.SetTextSize(0.04)\n",
    "txt.SetTextFont(42)"
   ]
  },
  {
   "cell_type": "code",
   "execution_count": 21,
   "metadata": {
    "ExecuteTime": {
     "end_time": "2020-11-11T19:37:34.157098Z",
     "start_time": "2020-11-11T19:37:34.143050Z"
    }
   },
   "outputs": [],
   "source": [
    "cl = rt.TLine()\n",
    "cl.SetLineColor(6)\n",
    "cl.SetLineStyle(9)\n",
    "cl.SetLineWidth(2)"
   ]
  },
  {
   "cell_type": "code",
   "execution_count": 22,
   "metadata": {
    "ExecuteTime": {
     "end_time": "2020-11-11T19:37:35.395613Z",
     "start_time": "2020-11-11T19:37:35.180072Z"
    }
   },
   "outputs": [
    {
     "name": "stdout",
     "output_type": "stream",
     "text": [
      "Mu\n",
      "Total Gen Eff: 4.47e-03 +/- 8.61e-05\n",
      "Tau\n",
      "Total Gen Eff: 8.70e-04 +/- 3.81e-05\n"
     ]
    },
    {
     "data": {
      "image/png": "[encoded data removed]",
      "text/plain": [
       "<IPython.core.display.Image object>"
      ]
     },
     "metadata": {},
     "output_type": "display_data"
    },
    {
     "data": {
      "image/png": "[encoded data removed]",
      "text/plain": [
       "<IPython.core.display.Image object>"
      ]
     },
     "metadata": {},
     "output_type": "display_data"
    }
   ],
   "source": [
    "sel = {}\n",
    "canvas = {}\n",
    "\n",
    "for n in loc.keys():\n",
    "    if 'cuts' in n: continue\n",
    "    print n.capitalize()\n",
    "\n",
    "    h2 = create_TH2D(np.column_stack((dset[n][:,0], np.abs(dset[n][:,1]))),\n",
    "                     binning=[np.logspace(-1, 2, 20), np.linspace(0, 4, 20)],\n",
    "                     scale_histo='norm',\n",
    "                     axis_title=['Muon p_{T} [GeV]', 'Muon |#eta|', 'Normalized events']\n",
    "                    )\n",
    "    canvas[n] = drawOnCMSCanvas(CMS_lumi, [h2], ['colz'], tag=n, mR=0.16)\n",
    "    canvas[n].SetLogx()\n",
    "    canvas[n].SetLogz()\n",
    "\n",
    "    cl.DrawLine(h2.binning[0][0], 1.6, h2.binning[0][-1], 1.6)\n",
    "    cl.DrawLine(6.7, h2.binning[1][0], 6.7, h2.binning[1][-1])\n",
    "\n",
    "    sel[n] = [dset[n][:,0] > 6.7, np.abs(dset[n][:,1]) < 1.6]\n",
    "    sel[n].append(np.logical_and(sel[n][0], sel[n][1]))\n",
    "    nSel = [np.sum(x) for x in sel[n]]\n",
    "\n",
    "    txt.SetTextColor(2)\n",
    "    e, de = getEff(nSel[2], nTot[n])\n",
    "    txt.DrawLatex(10, 0.7, '{:.2f} +/- {:.2f} %'.format(100*e, 100*de))\n",
    "    e, de = getEff(nSel[0] - nSel[2], nTot[n])\n",
    "    txt.DrawLatex(10, 3, '{:.2f} +/- {:.2f} %'.format(100*e, 100*de))\n",
    "    e, de = getEff(nSel[1] - nSel[2], nTot[n])\n",
    "    txt.DrawLatex(0.5, 0.7, '{:.2f} +/- {:.2f} %'.format(100*e, 100*de))\n",
    "    e, de = getEff(nTot[n] - nSel[0] - nSel[1] + nSel[2], nTot[n])\n",
    "    txt.DrawLatex(0.5, 3, '{:.2f} +/- {:.2f} %'.format(100*e, 100*de))\n",
    "\n",
    "    txt.SetTextColor(1)\n",
    "    txt.DrawLatex(30, 3.85, label_dic[n])\n",
    "\n",
    "    e, de = getEff(nSel[2], nTot[n]/eff[n][0])\n",
    "    print 'Total Gen Eff: {:1.2e} +/- {:1.2e}'.format(e, de)"
   ]
  },
  {
   "cell_type": "code",
   "execution_count": 23,
   "metadata": {
    "ExecuteTime": {
     "end_time": "2020-11-11T19:37:36.510594Z",
     "start_time": "2020-11-11T19:37:36.416160Z"
    }
   },
   "outputs": [
    {
     "data": {
      "text/plain": [
       "<ROOT.TCanvas object (\"c\") at 0x7a5a20e0>"
      ]
     },
     "execution_count": 23,
     "metadata": {},
     "output_type": "execute_result"
    },
    {
     "data": {
      "image/png": "[encoded data removed]",
      "text/plain": [
       "<IPython.core.display.Image object>"
      ]
     },
     "metadata": {},
     "output_type": "display_data"
    }
   ],
   "source": [
    "make_comp_plot_1D(\n",
    "    [\n",
    "        [dset['mu'][:,0], label_dic['mu']],\n",
    "        [dset['tau'][:,0], label_dic['tau']],\n",
    "    ],\n",
    "    binning=np.logspace(-2, 2, 70), setLog='xy', miny=1e-5,\n",
    "    axis_title = ['Muon p_{T} [GeV]', 'Normalized events'],\n",
    "    leg_loc=[0.2, 0.75, 0.2, 0.15]\n",
    ")\n"
   ]
  },
  {
   "cell_type": "code",
   "execution_count": 26,
   "metadata": {
    "ExecuteTime": {
     "end_time": "2020-11-11T19:38:21.971247Z",
     "start_time": "2020-11-11T19:38:21.875350Z"
    }
   },
   "outputs": [
    {
     "data": {
      "text/plain": [
       "<ROOT.TCanvas object (\"c\") at 0x7a608b30>"
      ]
     },
     "execution_count": 26,
     "metadata": {},
     "output_type": "execute_result"
    },
    {
     "data": {
      "image/png": "[encoded data removed]",
      "text/plain": [
       "<IPython.core.display.Image object>"
      ]
     },
     "metadata": {},
     "output_type": "display_data"
    }
   ],
   "source": [
    "sel = np.logical_and(dset['mu'][:,0]>6.7, np.abs(dset['mu'][:,1])<1.6)\n",
    "make_comp_plot_1D(\n",
    "    [\n",
    "        [dset['mu'][:,0][sel], 'HardQCD'],\n",
    "        [dset['cuts_mu_SoftQCD'][:,0], 'SoftQCD'],\n",
    "    ],\n",
    "    binning=np.linspace(6.5, 20, 70), setLog='', miny=1e-5,\n",
    "    axis_title = ['Muon p_{T} [GeV]', 'Normalized events'],\n",
    "    leg_loc=[0.2, 0.75, 0.2, 0.15]\n",
    ")"
   ]
  },
  {
   "cell_type": "code",
   "execution_count": 25,
   "metadata": {
    "ExecuteTime": {
     "end_time": "2020-11-11T19:37:38.905438Z",
     "start_time": "2020-11-11T19:37:38.598676Z"
    }
   },
   "outputs": [
    {
     "data": {
      "text/plain": [
       "<ROOT.TCanvas object (\"c\") at 0x7a609fa0>"
      ]
     },
     "execution_count": 25,
     "metadata": {},
     "output_type": "execute_result"
    },
    {
     "data": {
      "image/png": "[encoded data removed]",
      "text/plain": [
       "<IPython.core.display.Image object>"
      ]
     },
     "metadata": {},
     "output_type": "display_data"
    }
   ],
   "source": [
    "sel = np.logical_and(dset['mu'][:,0]>6.7, np.abs(dset['mu'][:,1])<1.6)\n",
    "make_comp_plot_1D(\n",
    "    [\n",
    "        [np.abs(dset['mu'][:,1][sel]), 'HardQCD'],\n",
    "        [np.abs(dset['cuts_mu_SoftQCD'][:,1]), 'SoftQCD'],\n",
    "    ],\n",
    "    binning=np.linspace(0, 1.6, 70), setLog='y', miny=1e-5,\n",
    "    axis_title = ['Muon #eta', 'Normalized events'],\n",
    "    leg_loc=[0.2, 0.75, 0.2, 0.15]\n",
    ")"
   ]
  },
  {
   "cell_type": "code",
   "execution_count": 33,
   "metadata": {
    "ExecuteTime": {
     "end_time": "2020-11-11T19:47:56.710844Z",
     "start_time": "2020-11-11T19:47:56.614774Z"
    }
   },
   "outputs": [
    {
     "data": {
      "text/plain": [
       "<ROOT.TCanvas object (\"c\") at 0x7a3079a0>"
      ]
     },
     "execution_count": 33,
     "metadata": {},
     "output_type": "execute_result"
    },
    {
     "data": {
      "image/png": "[encoded data removed]",
      "text/plain": [
       "<IPython.core.display.Image object>"
      ]
     },
     "metadata": {},
     "output_type": "display_data"
    }
   ],
   "source": [
    "sel = np.logical_and(dset['mu'][:,0]>6.7, np.abs(dset['mu'][:,1])<1.6)\n",
    "make_comp_plot_1D(\n",
    "    [\n",
    "        [dset['mu'][:,2][sel], 'HardQCD'],\n",
    "        [dset['cuts_mu_SoftQCD'][:,2], 'SoftQCD'],\n",
    "    ],\n",
    "    binning=np.linspace(6.5, 50, 50), setLog='', miny=1e-5,\n",
    "    axis_title = ['B p_{T} [GeV]', 'Normalized events'],\n",
    "    leg_loc=[0.6, 0.75, 0.2, 0.15]\n",
    ")"
   ]
  },
  {
   "cell_type": "code",
   "execution_count": 36,
   "metadata": {
    "ExecuteTime": {
     "end_time": "2020-11-11T19:48:54.677013Z",
     "start_time": "2020-11-11T19:48:54.548250Z"
    }
   },
   "outputs": [
    {
     "data": {
      "text/plain": [
       "<ROOT.TCanvas object (\"c\") at 0x7a5e05d0>"
      ]
     },
     "execution_count": 36,
     "metadata": {},
     "output_type": "execute_result"
    },
    {
     "data": {
      "image/png": "[encoded data removed]",
      "text/plain": [
       "<IPython.core.display.Image object>"
      ]
     },
     "metadata": {},
     "output_type": "display_data"
    }
   ],
   "source": [
    "make_comp_plot_1D(\n",
    "    [\n",
    "        [dset['mu'][:,3][sel], 'HardQCD'],\n",
    "        [dset['cuts_mu_SoftQCD'][:,3], 'SoftQCD'],\n",
    "    ],\n",
    "    binning=np.linspace(-2, 2, 50), setLog='', miny=1e-5,\n",
    "    axis_title = ['B #eta', 'Normalized events'],\n",
    "    leg_loc=[0.8, 0.8, 0.2, 0.15]\n",
    ")"
   ]
  },
  {
   "cell_type": "code",
   "execution_count": null,
   "metadata": {},
   "outputs": [],
   "source": []
  }
 ],
 "metadata": {
  "kernelspec": {
   "display_name": "Python 2",
   "language": "python",
   "name": "python2"
  },
  "language_info": {
   "codemirror_mode": {
    "name": "ipython",
    "version": 2
   },
   "file_extension": ".py",
   "mimetype": "text/x-python",
   "name": "python",
   "nbconvert_exporter": "python",
   "pygments_lexer": "ipython2",
   "version": "2.7.14+"
  },
  "varInspector": {
   "cols": {
    "lenName": 16,
    "lenType": 16,
    "lenVar": 40
   },
   "kernels_config": {
    "python": {
     "delete_cmd_postfix": "",
     "delete_cmd_prefix": "del ",
     "library": "var_list.py",
     "varRefreshCmd": "print(var_dic_list())"
    },
    "r": {
     "delete_cmd_postfix": ") ",
     "delete_cmd_prefix": "rm(",
     "library": "var_list.r",
     "varRefreshCmd": "cat(var_dic_list()) "
    }
   },
   "types_to_exclude": [
    "module",
    "function",
    "builtin_function_or_method",
    "instance",
    "_Feature"
   ],
   "window_display": false
  }
 },
 "nbformat": 4,
 "nbformat_minor": 2
}
