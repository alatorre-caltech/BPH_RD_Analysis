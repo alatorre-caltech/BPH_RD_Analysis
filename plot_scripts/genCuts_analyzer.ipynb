{
 "cells": [
  {
   "cell_type": "markdown",
   "metadata": {
    "ExecuteTime": {
     "end_time": "2020-10-30T00:10:27.353499Z",
     "start_time": "2020-10-30T00:10:27.347648Z"
    }
   },
   "source": [
    "# Import"
   ]
  },
  {
   "cell_type": "code",
   "execution_count": 1,
   "metadata": {
    "ExecuteTime": {
     "end_time": "2020-12-08T16:42:59.627926Z",
     "start_time": "2020-12-08T16:42:59.223837Z"
    }
   },
   "outputs": [],
   "source": [
    "import sys, os, re, yaml, pickle\n",
    "import commands\n",
    "from glob import glob\n",
    "from prettytable import PrettyTable\n",
    "sys.path.append('../lib')\n",
    "\n",
    "import time, datetime\n",
    "from multiprocessing import Pool"
   ]
  },
  {
   "cell_type": "code",
   "execution_count": 2,
   "metadata": {
    "ExecuteTime": {
     "end_time": "2020-12-08T16:43:01.373782Z",
     "start_time": "2020-12-08T16:42:59.634196Z"
    }
   },
   "outputs": [],
   "source": [
    "import numpy as np\n",
    "from scipy.stats import mode\n",
    "import matplotlib.pyplot as plt\n",
    "from progressBar import ProgressBar"
   ]
  },
  {
   "cell_type": "code",
   "execution_count": 3,
   "metadata": {
    "ExecuteTime": {
     "end_time": "2020-12-08T16:43:11.819779Z",
     "start_time": "2020-12-08T16:43:01.377488Z"
    }
   },
   "outputs": [
    {
     "name": "stdout",
     "output_type": "stream",
     "text": [
      "Welcome to JupyROOT 6.12/07\n"
     ]
    }
   ],
   "source": [
    "import uproot as ur\n",
    "import ROOT as rt\n",
    "import CMS_lumi, tdrstyle\n",
    "tdrstyle.setTDRStyle()\n",
    "CMS_lumi.writeExtraText = 1\n",
    "CMS_lumi.extraText = 6*' ' + 'Simulation Internal'\n",
    "from analysis_utilities import drawOnCMSCanvas, getEff\n",
    "from histo_utilities import create_TH2D, create_TH1D, std_color_list, SetMaxToMaxHist\n",
    "from gridVarQ2Plot import col_dic, label_dic\n",
    "\n",
    "rt.gErrorIgnoreLevel = rt.kError\n",
    "rt.RooMsgService.instance().setGlobalKillBelow(rt.RooFit.ERROR)\n",
    "\n",
    "# load FWLite C++ libraries\n",
    "rt.gSystem.Load(\"libFWCoreFWLite.so\");\n",
    "rt.gSystem.Load(\"libDataFormatsFWLite.so\");\n",
    "rt.FWLiteEnabler.enable()\n",
    "\n",
    "# load FWlite python libraries\n",
    "from DataFormats.FWLite import Lumis, Handle, Events"
   ]
  },
  {
   "cell_type": "code",
   "execution_count": 4,
   "metadata": {
    "ExecuteTime": {
     "end_time": "2020-12-08T16:43:11.891003Z",
     "start_time": "2020-12-08T16:43:11.826359Z"
    }
   },
   "outputs": [],
   "source": [
    "def make_comp_plot_1D(inputs, #[x, label, color=-1 (auto), ]\n",
    "                      transformX = None,\n",
    "                      binning=[None, None, None],\n",
    "                      setLog = '',\n",
    "                      miny = 0,\n",
    "                      axis_title = ['', ''],\n",
    "                      scale_histo = 'norm',\n",
    "                      opt='overflow+underflow',\n",
    "                      leg_loc=[0.6, 0.7, 0.9, 0.93] # x0, y0, w, h\n",
    "                     ): \n",
    "    \n",
    "    if not leg_loc is None:\n",
    "        leg = rt.TLegend(leg_loc[0], leg_loc[1], leg_loc[0] + leg_loc[2], leg_loc[1] + leg_loc[3])\n",
    "        leg.SetBorderSize(0)\n",
    "        leg.SetFillStyle(0)\n",
    "        \n",
    "    colors = []\n",
    "    for p in inputs:\n",
    "        if len(p) > 2:\n",
    "            colors.append(p[2])\n",
    "        else:\n",
    "            colors.append(-1)\n",
    "    jStd = 0\n",
    "    for i,c in enumerate(colors):\n",
    "        if c == -1:\n",
    "            colors[i] = std_color_list[jStd]\n",
    "            jStd += 1\n",
    "    \n",
    "    hList = []\n",
    "    for i, p in enumerate(inputs):\n",
    "        if transformX is None:\n",
    "            x = p[0]\n",
    "        else:\n",
    "            x = transformX(p[0])\n",
    "        label = p[1]\n",
    "        h = create_TH1D(x, \n",
    "                        binning=binning if i==0 else hList[0].binning, \n",
    "                        axis_title=axis_title,\n",
    "                        scale_histo=scale_histo, opt=opt,\n",
    "                       )\n",
    "        h.SetLineColor(colors[i])\n",
    "        if not leg_loc is None:\n",
    "            leg.AddEntry(h, label, 'lp')\n",
    "        hList.append(h)\n",
    "            \n",
    "    m = SetMaxToMaxHist(hList)\n",
    "    hList[0].GetYaxis().SetRangeUser(miny, m)\n",
    "    c = drawOnCMSCanvas(CMS_lumi, hList, 'same')\n",
    "    leg.Draw()\n",
    "    \n",
    "    if 'x' in setLog: c.SetLogx()\n",
    "    if 'y' in setLog: c.SetLogy()\n",
    "    \n",
    "    c.dnd = [hList, leg]\n",
    "    return c"
   ]
  },
  {
   "cell_type": "markdown",
   "metadata": {},
   "source": [
    "# Inputs"
   ]
  },
  {
   "cell_type": "code",
   "execution_count": 5,
   "metadata": {
    "ExecuteTime": {
     "end_time": "2020-12-08T16:43:11.932371Z",
     "start_time": "2020-12-08T16:43:11.895836Z"
    }
   },
   "outputs": [],
   "source": [
    "base = '/storage/user/ocerri/BPhysics/data/cmsMC_private/'\n",
    "loc = {}\n",
    "# loc['tau'] = base + 'Unbiased_B0_TauNuDmst_Hardbbbar_evtgen_ISGW2_PUGENonly_10-2-3/test_GEN-SIM.root'\n",
    "loc['tau'] = base + 'Unbiased_B0_TauNuDmst_Hardbbbar_evtgen_ISGW2_PUGENonly_10-2-3/jobs_out/out_GEN-SIM_*.root'\n",
    "# loc['mu'] = base + 'Unbiased_B0_MuNuDmst_Hardbbbar_evtgen_ISGW2_PUGENonly_10-2-3/test_GEN-SIM.root'\n",
    "loc['mu'] = base + 'Unbiased_B0_MuNuDmst_Hardbbbar_evtgen_ISGW2_PUGENonly_10-2-3/jobs_out/out_GEN-SIM_*.root'\n",
    "loc['cuts_mu_SoftQCD'] = base + 'BP_Tag_B0_MuNuDmst_SoftQCDall_evtgen_ISGW2_PUGENonly_10-2-3/jobs_out/out_GEN-SIM_*.root'\n",
    "loc['cuts_tau_MINIAOD'] = base + 'BP_Tag_B0_TauNuDmst_Hardbbbar_evtgen_ISGW2_PUGENonly_10-2-3/jobs_out/out_GEN-SIM_*.root'\n",
    "loc['cuts_mu_MINIAOD'] = base + 'BP_Tag_B0_MuNuDmst_Hardbbbar_evtgen_ISGW2_PUGENonly_10-2-3/jobs_out/out_GEN-SIM_*.root'"
   ]
  },
  {
   "cell_type": "code",
   "execution_count": 6,
   "metadata": {
    "ExecuteTime": {
     "end_time": "2020-12-08T16:43:15.620894Z",
     "start_time": "2020-12-08T16:43:11.936995Z"
    }
   },
   "outputs": [],
   "source": [
    "handle = {}\n",
    "handle['genFilter'] = [Handle('GenFilterInfo'), ('genFilterEfficiencyProducer', '', 'GEN')]\n",
    "handle['genProduct'] = [Handle('GenLumiInfoProduct'), ('generator', '', 'GEN')]"
   ]
  },
  {
   "cell_type": "code",
   "execution_count": 7,
   "metadata": {
    "ExecuteTime": {
     "end_time": "2020-12-08T16:44:47.795621Z",
     "start_time": "2020-12-08T16:43:15.625851Z"
    }
   },
   "outputs": [
    {
     "name": "stdout",
     "output_type": "stream",
     "text": [
      "Mu\n",
      "eff generator: 4.01e-01 +/- 6.33e-04 (1.6e-03)\n",
      "\n",
      "\n",
      "Tau\n",
      "eff generator: 4.00e-01 +/- 6.33e-04 (1.6e-03)\n",
      "\n",
      "\n",
      "Cuts_tau_miniaod\n",
      "eff generator: 8.87e-04 +/- 2.43e-05 (2.7e-02)\n",
      "\n",
      "\n",
      "Cuts_mu_softqcd\n",
      "eff generator: 3.91e-05 +/- 2.63e-07 (6.7e-03)\n",
      "\n",
      "\n",
      "Cuts_mu_miniaod\n",
      "eff generator: 4.48e-03 +/- 5.45e-05 (1.2e-02)\n",
      "\n",
      "\n"
     ]
    }
   ],
   "source": [
    "eff = {}\n",
    "for n, ftempl in loc.iteritems():\n",
    "    print n.capitalize()\n",
    "    N_cuts = 0\n",
    "    N_gen = 0\n",
    "    for fn in glob(ftempl):\n",
    "        for lumi in Lumis(fn):\n",
    "            prods = {}\n",
    "            for k,v in handle.iteritems():\n",
    "                lumi.getByLabel(v[1], v[0])\n",
    "                prods[k] = v[0].product()\n",
    "            N_cuts += prods['genFilter'].numEventsPassed()\n",
    "            N_gen += prods['genFilter'].numEventsTotal()\n",
    "           \n",
    "    e, de = getEff(N_cuts, N_gen)\n",
    "    eff[n] = [e, de]\n",
    "    print 'eff generator: {:1.2e} +/- {:1.2e} ({:1.1e})'.format(e, de, de/e)\n",
    "    print '\\n'"
   ]
  },
  {
   "cell_type": "markdown",
   "metadata": {},
   "source": [
    "# Extract informations from edm"
   ]
  },
  {
   "cell_type": "code",
   "execution_count": 8,
   "metadata": {
    "ExecuteTime": {
     "end_time": "2020-12-08T16:44:47.866577Z",
     "start_time": "2020-12-08T16:44:47.800779Z"
    },
    "code_folding": [
     20,
     34
    ]
   },
   "outputs": [],
   "source": [
    "def extractFromFile(inputs):\n",
    "    iJob = inputs[0]\n",
    "    fn = inputs[1]\n",
    "    nMax = inputs[2]\n",
    "    \n",
    "    events = Events(fn)\n",
    "    nTot = events.size()\n",
    "    nOut = float(min(nTot, nMax))\n",
    "    outDs = np.zeros((int(nOut), 4))\n",
    "    for iEv, event in enumerate(events):\n",
    "        if iEv ==0 or (iEv+1) % int(nOut/2.0) == 0:\n",
    "            print '{}: {:.0f} %'.format(iJob, 100.*(iEv+1)/nOut)\n",
    "\n",
    "        handle = Handle('vector<reco::GenParticle>')\n",
    "        event.getByLabel(('genParticles', '', 'GEN'), handle)\n",
    "\n",
    "        ptB = []\n",
    "        etaB = []\n",
    "        pt = []\n",
    "        eta = []\n",
    "        for p in handle.product():\n",
    "            if not p.pdgId() == 511:\n",
    "                continue\n",
    "            ptB.append(p.pt())\n",
    "            etaB.append(p.eta())\n",
    "            for d in p.daughterRefVector():\n",
    "                if d.pdgId() == -13:\n",
    "                    pt.append(d.pt())\n",
    "                    eta.append(d.eta())\n",
    "                elif d.pdgId() == -15:\n",
    "                    for dd in d.daughterRefVector():\n",
    "                        if dd.pdgId() == -13:\n",
    "                            pt.append(dd.pt())\n",
    "                            eta.append(dd.eta())\n",
    "        if len(pt) < 2:\n",
    "            idx = 0\n",
    "        else:\n",
    "            pt = np.array(pt)\n",
    "            eta = np.array(eta)\n",
    "            sel = np.logical_and(pt > 6.7, np.abs(eta) < 1.6)\n",
    "\n",
    "            if np.sum(sel) > 0:\n",
    "                idx = np.random.choice(np.nonzero(sel)[0])\n",
    "            else:\n",
    "                idx = np.random.choice(pt.shape[0])\n",
    "        outDs[iEv, 0] = pt[idx]\n",
    "        outDs[iEv, 1] = eta[idx]\n",
    "        outDs[iEv, 2] = ptB[idx]\n",
    "        outDs[iEv, 3] = etaB[idx]\n",
    "\n",
    "        if iEv == nMax - 1:\n",
    "            break\n",
    "    return [outDs, iEv+1]"
   ]
  },
  {
   "cell_type": "code",
   "execution_count": 9,
   "metadata": {
    "ExecuteTime": {
     "end_time": "2020-12-08T16:49:06.527842Z",
     "start_time": "2020-12-08T16:44:47.870600Z"
    },
    "code_folding": [],
    "scrolled": true
   },
   "outputs": [
    {
     "name": "stdout",
     "output_type": "stream",
     "text": [
      "Mu\n",
      "5: 0 %\n",
      "6: 0 %\n",
      "19: 0 %\n",
      "11: 0 %\n",
      "8: 0 %\n",
      "1: 0 %\n",
      "4: 0 %\n",
      "15: 0 %\n",
      "17: 0 %\n",
      "14: 0 %\n",
      "3: 0 %\n",
      "18: 0 %\n",
      "12: 0 %\n",
      "13: 0 %\n",
      "10: 0 %\n",
      "9: 0 %\n",
      "16: 0 %\n",
      "2: 0 %\n",
      "0: 0 %\n",
      "7: 0 %\n",
      "2: 50 %\n",
      "1: 50 %\n",
      "3: 50 %\n",
      "7: 50 %\n",
      "12: 50 %\n",
      "15: 50 %\n",
      "9: 50 %\n",
      "6: 50 %\n",
      "8: 50 %\n",
      "0: 50 %\n",
      "10: 50 %\n",
      "17: 50 %\n",
      "14: 50 %\n",
      "5: 50 %\n",
      "16: 50 %\n",
      "19: 50 %\n",
      "13: 50 %\n",
      "4: 50 %\n",
      "11: 50 %\n",
      "18: 50 %\n",
      "2: 100 %\n",
      "1: 100 %\n",
      "3: 100 %\n",
      "12: 100 %\n",
      "7: 100 %\n",
      "15: 100 %\n",
      "9: 100 %\n",
      "6: 100 %\n",
      "14: 100 %\n",
      "0: 100 %\n",
      "10: 100 %\n",
      "8: 100 %\n",
      "16: 100 %\n",
      "13: 100 %\n",
      "17: 100 %\n",
      "19: 100 %\n",
      "4: 100 %\n",
      "11: 100 %\n",
      "5: 100 %\n",
      "18: 100 %\n",
      "Tau\n",
      "Loading file\n",
      "Cuts_mu_softqcd\n",
      "36: 12 %\n",
      "38: 5 %\n",
      "20: 7 %\n",
      "28: 8 %\n",
      "26: 5 %\n",
      "6: 7 %\n",
      "18: 4 %\n",
      "16: 7 %\n",
      "4: 8 %\n",
      "14: 6 %\n",
      "0: 10 %\n",
      "10: 7 %\n",
      "30: 8 %\n",
      "32: 9 %\n",
      "24: 7 %\n",
      "22: 6 %\n",
      "8: 8 %\n",
      "34: 6 %\n",
      "12: 6 %\n",
      "2: 11 %\n",
      "32: 45 %\n",
      "28: 50 %\n",
      "8: 50 %\n",
      "30: 50 %\n",
      "36: 50 %\n",
      "32: 91 %\n",
      "28: 100 %\n",
      "2: 44 %\n",
      "24: 50 %\n",
      "10: 47 %\n",
      "4: 50 %\n",
      "33: 5 %\n",
      "29: 4 %\n",
      "6: 47 %\n",
      "20: 50 %\n",
      "36: 100 %\n",
      "4: 100 %\n",
      "2: 89 %\n",
      "30: 100 %\n",
      "5: 7 %\n",
      "37: 7 %\n",
      "24: 100 %\n",
      "14: 50 %\n",
      "8: 100 %\n",
      "0: 50 %\n",
      "31: 7 %\n",
      "26: 47 %\n",
      "10: 93 %\n",
      "20: 100 %\n",
      "3: 4 %\n",
      "25: 6 %\n",
      "38: 47 %\n",
      "34: 50 %\n",
      "22: 47 %\n",
      "9: 12 %\n",
      "16: 47 %\n",
      "31: 50 %\n",
      "6: 93 %\n",
      "12: 50 %\n",
      "21: 6 %\n",
      "0: 100 %\n",
      "33: 47 %\n",
      "37: 47 %\n",
      "11: 5 %\n",
      "7: 7 %\n",
      "14: 100 %\n",
      "1: 8 %\n",
      "5: 50 %\n",
      "18: 48 %\n",
      "9: 50 %\n",
      "38: 95 %\n",
      "29: 48 %\n",
      "16: 93 %\n",
      "22: 94 %\n",
      "15: 5 %\n",
      "26: 95 %\n",
      "37: 93 %\n",
      "12: 100 %\n",
      "3: 48 %\n",
      "21: 50 %\n",
      "9: 100 %\n",
      "31: 100 %\n",
      "34: 100 %\n",
      "23: 8 %\n",
      "17: 9 %\n",
      "39: 10 %\n",
      "17: 45 %\n",
      "13: 5 %\n",
      "40: 14 %\n",
      "42: 8 %\n",
      "44: 6 %\n",
      "35: 6 %\n",
      "25: 47 %\n",
      "27: 8 %\n",
      "7: 50 %\n",
      "40: 43 %\n",
      "23: 46 %\n",
      "5: 100 %\n",
      "40: 86 %\n",
      "46: 5 %\n",
      "39: 50 %\n",
      "42: 46 %\n",
      "18: 96 %\n",
      "1: 50 %\n",
      "21: 100 %\n",
      "33: 95 %\n",
      "41: 6 %\n",
      "11: 47 %\n",
      "27: 46 %\n",
      "48: 10 %\n",
      "23: 92 %\n",
      "15: 47 %\n",
      "17: 91 %\n",
      "50: 100 %\n",
      "25: 94 %\n",
      "29: 96 %\n",
      "19: 9 %\n",
      "44: 47 %\n",
      "52: 6 %\n",
      "3: 96 %\n",
      "48: 50 %\n",
      "54: 8 %\n",
      "56: 7 %\n",
      "51: 8 %\n",
      "7: 100 %\n",
      "42: 92 %\n",
      "1: 100 %\n",
      "58: 6 %\n",
      "60: 8 %\n",
      "39: 100 %\n",
      "27: 92 %\n",
      "62: 10 %\n",
      "64: 5 %\n",
      "66: 10 %\n",
      "48: 100 %\n",
      "54: 50 %\n",
      "46: 50 %\n",
      "35: 50 %\n",
      "43: 5 %\n",
      "68: 14 %\n",
      "15: 95 %\n",
      "56: 50 %\n",
      "49: 10 %\n",
      "13: 50 %\n",
      "60: 50 %\n",
      "62: 50 %\n",
      "19: 45 %\n",
      "68: 43 %\n",
      "44: 94 %\n",
      "70: 7 %\n",
      "11: 95 %\n",
      "52: 50 %\n",
      "56: 100 %\n",
      "54: 100 %\n",
      "51: 46 %\n",
      "49: 50 %\n",
      "68: 86 %\n",
      "66: 50 %\n",
      "57: 5 %\n",
      "55: 12 %\n",
      "19: 91 %\n",
      "41: 50 %\n",
      "60: 100 %\n",
      "55: 50 %\n",
      "45: 5 %\n",
      "58: 50 %\n",
      "72: 5 %\n",
      "62: 100 %\n",
      "61: 9 %\n",
      "49: 100 %\n",
      "63: 8 %\n",
      "69: 6 %\n",
      "55: 100 %\n",
      "74: 5 %\n",
      "52: 100 %\n",
      "51: 92 %\n",
      "13: 100 %\n",
      "43: 47 %\n",
      "46: 100 %\n",
      "76: 5 %\n",
      "64: 47 %\n",
      "53: 8 %\n",
      "35: 100 %\n",
      "47: 6 %\n",
      "57: 48 %\n",
      "82: 8 %\n",
      "80: 7 %\n",
      "78: 8 %\n",
      "66: 100 %\n",
      "84: 7 %\n",
      "70: 50 %\n",
      "63: 50 %\n",
      "67: 11 %\n",
      "61: 45 %\n",
      "69: 47 %\n",
      "53: 46 %\n",
      "58: 100 %\n",
      "82: 50 %\n",
      "72: 50 %\n",
      "80: 50 %\n",
      "76: 50 %\n",
      "45: 50 %\n",
      "57: 95 %\n",
      "70: 100 %\n",
      "67: 44 %\n",
      "59: 10 %\n",
      "41: 100 %\n",
      "78: 50 %\n",
      "84: 50 %\n",
      "64: 95 %\n",
      "71: 8 %\n",
      "86: 6 %\n",
      "43: 95 %\n",
      "61: 91 %\n",
      "47: 47 %\n",
      "88: 6 %\n",
      "82: 100 %\n",
      "63: 100 %\n",
      "74: 48 %\n",
      "69: 94 %\n",
      "83: 5 %\n",
      "90: 12 %\n",
      "59: 50 %\n",
      "80: 100 %\n",
      "65: 12 %\n",
      "94: 8 %\n",
      "92: 7 %\n",
      "53: 92 %\n",
      "81: 7 %\n",
      "67: 89 %\n",
      "71: 50 %\n",
      "72: 100 %\n",
      "96: 8 %\n",
      "45: 100 %\n",
      "78: 100 %\n",
      "90: 50 %\n",
      "73: 7 %\n",
      "65: 50 %\n",
      "76: 100 %\n",
      "79: 6 %\n",
      "92: 47 %\n",
      "98: 11 %\n",
      "59: 100 %\n",
      "77: 8 %\n",
      "86: 50 %\n",
      "88: 50 %\n",
      "47: 94 %\n",
      "94: 50 %\n",
      "84: 100 %\n",
      "74: 95 %\n",
      "65: 100 %\n",
      "71: 100 %\n",
      "96: 50 %\n",
      "90: 100 %\n",
      "98: 44 %\n",
      "85: 6 %\n",
      "81: 50 %\n",
      "77: 46 %\n",
      "75: 8 %\n",
      "91: 9 %\n",
      "73: 50 %\n",
      "83: 50 %\n",
      "79: 50 %\n",
      "92: 93 %\n",
      "98: 89 %\n",
      "94: 100 %\n",
      "77: 92 %\n",
      "93: 9 %\n",
      "95: 9 %\n",
      "96: 100 %\n",
      "81: 100 %\n",
      "86: 100 %\n",
      "75: 50 %\n",
      "99: 9 %\n",
      "91: 45 %\n",
      "87: 5 %\n",
      "97: 4 %\n",
      "88: 100 %\n",
      "73: 100 %\n",
      "95: 45 %\n",
      "79: 100 %\n",
      "89: 9 %\n",
      "93: 45 %\n",
      "85: 47 %\n",
      "83: 100 %\n",
      "75: 100 %\n",
      "93: 91 %\n",
      "95: 91 %\n",
      "91: 91 %\n",
      "89: 45 %\n",
      "99: 45 %\n",
      "85: 94 %\n",
      "89: 91 %\n",
      "97: 48 %\n",
      "87: 48 %\n",
      "99: 91 %\n",
      "97: 96 %\n",
      "87: 95 %\n"
     ]
    }
   ],
   "source": [
    "nMax = 1e9\n",
    "nFileMax = 100\n",
    "dset = {}\n",
    "nTot = {}\n",
    "recreate = ['cuts_mu_SoftQCD', 'mu']\n",
    "\n",
    "for n, ftmpl in loc.iteritems():\n",
    "    if 'MINIAOD' in n: continue\n",
    "    print n.capitalize()\n",
    "    \n",
    "    idx = ftmpl.find('10-2-3') + len('10-2-3')\n",
    "    outname = ftmpl[:idx]+'/muonGenInfo.pkl'\n",
    "    if os.path.exists(outname) and not n in recreate:\n",
    "        print 'Loading file'\n",
    "        nTot[n], outDs = pickle.load( open(outname, 'rb') )\n",
    "    else:\n",
    "        inputs = []\n",
    "        for i, fn in enumerate(glob(ftmpl)):\n",
    "            inputs.append([str(i), fn, nMax])\n",
    "            if i == nFileMax-1:\n",
    "                break\n",
    "            \n",
    "        p = Pool(min(20,len(inputs)))\n",
    "        outputs = p.map(extractFromFile, inputs)\n",
    "        outDs = np.concatenate(tuple([o[0] for o in outputs]))\n",
    "        nTot[n] = np.sum([o[1] for o in outputs])\n",
    "        \n",
    "        pickle.dump( [nTot[n], outDs], open( outname, 'wb' ) )\n",
    "    dset[n] = outDs"
   ]
  },
  {
   "cell_type": "code",
   "execution_count": 10,
   "metadata": {
    "ExecuteTime": {
     "end_time": "2020-12-08T16:49:06.550768Z",
     "start_time": "2020-12-08T16:49:06.534348Z"
    }
   },
   "outputs": [
    {
     "name": "stdout",
     "output_type": "stream",
     "text": [
      "{'mu': 240853, 'tau': 240282, 'cuts_mu_SoftQCD': 1436}\n"
     ]
    }
   ],
   "source": [
    "print nTot"
   ]
  },
  {
   "cell_type": "markdown",
   "metadata": {},
   "source": [
    "# Analyze data"
   ]
  },
  {
   "cell_type": "code",
   "execution_count": 11,
   "metadata": {
    "ExecuteTime": {
     "end_time": "2020-12-08T16:49:06.622899Z",
     "start_time": "2020-12-08T16:49:06.555359Z"
    }
   },
   "outputs": [],
   "source": [
    "txt = rt.TLatex()\n",
    "txt.SetTextAlign(12)\n",
    "txt.SetTextSize(0.04)\n",
    "txt.SetTextFont(42)"
   ]
  },
  {
   "cell_type": "code",
   "execution_count": 12,
   "metadata": {
    "ExecuteTime": {
     "end_time": "2020-12-08T16:49:06.689736Z",
     "start_time": "2020-12-08T16:49:06.627785Z"
    }
   },
   "outputs": [],
   "source": [
    "cl = rt.TLine()\n",
    "cl.SetLineColor(6)\n",
    "cl.SetLineStyle(9)\n",
    "cl.SetLineWidth(2)"
   ]
  },
  {
   "cell_type": "code",
   "execution_count": 13,
   "metadata": {
    "ExecuteTime": {
     "end_time": "2020-12-08T16:49:07.281200Z",
     "start_time": "2020-12-08T16:49:06.695564Z"
    }
   },
   "outputs": [
    {
     "name": "stdout",
     "output_type": "stream",
     "text": [
      "Mu\n",
      "Total Gen Eff: 4.47e-03 +/- 8.61e-05\n",
      "Tau\n",
      "Total Gen Eff: 8.70e-04 +/- 3.81e-05\n"
     ]
    },
    {
     "data": {
      "image/png": "[encoded data removed]",
      "text/plain": [
       "<IPython.core.display.Image object>"
      ]
     },
     "metadata": {},
     "output_type": "display_data"
    },
    {
     "data": {
      "image/png": "[encoded data removed]",
      "text/plain": [
       "<IPython.core.display.Image object>"
      ]
     },
     "metadata": {},
     "output_type": "display_data"
    }
   ],
   "source": [
    "sel = {}\n",
    "canvas = {}\n",
    "\n",
    "for n in loc.keys():\n",
    "    if 'cuts' in n: continue\n",
    "    print n.capitalize()\n",
    "\n",
    "    h2 = create_TH2D(np.column_stack((dset[n][:,0], np.abs(dset[n][:,1]))),\n",
    "                     binning=[np.logspace(-1, 2, 20), np.linspace(0, 4, 20)],\n",
    "                     scale_histo='norm',\n",
    "                     axis_title=['Muon p_{T} [GeV]', 'Muon |#eta|', 'Normalized events']\n",
    "                    )\n",
    "    canvas[n] = drawOnCMSCanvas(CMS_lumi, [h2], ['colz'], tag=n, mR=0.16)\n",
    "    canvas[n].SetLogx()\n",
    "    canvas[n].SetLogz()\n",
    "\n",
    "    cl.DrawLine(h2.binning[0][0], 1.6, h2.binning[0][-1], 1.6)\n",
    "    cl.DrawLine(6.7, h2.binning[1][0], 6.7, h2.binning[1][-1])\n",
    "\n",
    "    sel[n] = [dset[n][:,0] > 6.7, np.abs(dset[n][:,1]) < 1.6]\n",
    "    sel[n].append(np.logical_and(sel[n][0], sel[n][1]))\n",
    "    nSel = [np.sum(x) for x in sel[n]]\n",
    "\n",
    "    txt.SetTextColor(2)\n",
    "    e, de = getEff(nSel[2], nTot[n])\n",
    "    txt.DrawLatex(10, 0.7, '{:.2f} +/- {:.2f} %'.format(100*e, 100*de))\n",
    "    e, de = getEff(nSel[0] - nSel[2], nTot[n])\n",
    "    txt.DrawLatex(10, 3, '{:.2f} +/- {:.2f} %'.format(100*e, 100*de))\n",
    "    e, de = getEff(nSel[1] - nSel[2], nTot[n])\n",
    "    txt.DrawLatex(0.5, 0.7, '{:.2f} +/- {:.2f} %'.format(100*e, 100*de))\n",
    "    e, de = getEff(nTot[n] - nSel[0] - nSel[1] + nSel[2], nTot[n])\n",
    "    txt.DrawLatex(0.5, 3, '{:.2f} +/- {:.2f} %'.format(100*e, 100*de))\n",
    "\n",
    "    txt.SetTextColor(1)\n",
    "    txt.DrawLatex(30, 3.85, label_dic[n])\n",
    "\n",
    "    e, de = getEff(nSel[2], nTot[n]/eff[n][0])\n",
    "    print 'Total Gen Eff: {:1.2e} +/- {:1.2e}'.format(e, de)"
   ]
  },
  {
   "cell_type": "code",
   "execution_count": 14,
   "metadata": {
    "ExecuteTime": {
     "end_time": "2020-12-08T16:49:07.441894Z",
     "start_time": "2020-12-08T16:49:07.285823Z"
    }
   },
   "outputs": [
    {
     "data": {
      "text/plain": [
       "<ROOT.TCanvas object (\"c\") at 0x108ca15b0>"
      ]
     },
     "execution_count": 14,
     "metadata": {},
     "output_type": "execute_result"
    },
    {
     "data": {
      "image/png": "[encoded data removed]",
      "text/plain": [
       "<IPython.core.display.Image object>"
      ]
     },
     "metadata": {},
     "output_type": "display_data"
    }
   ],
   "source": [
    "make_comp_plot_1D(\n",
    "    [\n",
    "        [dset['mu'][:,0], label_dic['mu']],\n",
    "        [dset['tau'][:,0], label_dic['tau']],\n",
    "    ],\n",
    "    binning=np.logspace(-2, 2, 70), setLog='xy', miny=1e-5,\n",
    "    axis_title = ['Muon p_{T} [GeV]', 'Normalized events'],\n",
    "    leg_loc=[0.2, 0.75, 0.2, 0.15]\n",
    ")\n"
   ]
  },
  {
   "cell_type": "code",
   "execution_count": 15,
   "metadata": {
    "ExecuteTime": {
     "end_time": "2020-12-08T16:49:07.534810Z",
     "start_time": "2020-12-08T16:49:07.446434Z"
    }
   },
   "outputs": [
    {
     "data": {
      "text/plain": [
       "<ROOT.TCanvas object (\"c\") at 0xf2e096a0>"
      ]
     },
     "execution_count": 15,
     "metadata": {},
     "output_type": "execute_result"
    },
    {
     "data": {
      "image/png": "[encoded data removed]",
      "text/plain": [
       "<IPython.core.display.Image object>"
      ]
     },
     "metadata": {},
     "output_type": "display_data"
    }
   ],
   "source": [
    "sel = np.logical_and(dset['mu'][:,0]>6.7, np.abs(dset['mu'][:,1])<1.6)\n",
    "make_comp_plot_1D(\n",
    "    [\n",
    "        [dset['mu'][:,0][sel], 'HardQCD'],\n",
    "        [dset['cuts_mu_SoftQCD'][:,0], 'SoftQCD'],\n",
    "    ],\n",
    "    binning=np.linspace(6.5, 20, 70), setLog='', miny=1e-5,\n",
    "    axis_title = ['Muon p_{T} [GeV]', 'Normalized events'],\n",
    "    leg_loc=[0.2, 0.75, 0.2, 0.15]\n",
    ")"
   ]
  },
  {
   "cell_type": "code",
   "execution_count": 16,
   "metadata": {
    "ExecuteTime": {
     "end_time": "2020-12-08T16:49:07.625884Z",
     "start_time": "2020-12-08T16:49:07.539296Z"
    }
   },
   "outputs": [
    {
     "data": {
      "text/plain": [
       "<ROOT.TCanvas object (\"c\") at 0xe034ed40>"
      ]
     },
     "execution_count": 16,
     "metadata": {},
     "output_type": "execute_result"
    },
    {
     "data": {
      "image/png": "[encoded data removed]",
      "text/plain": [
       "<IPython.core.display.Image object>"
      ]
     },
     "metadata": {},
     "output_type": "display_data"
    }
   ],
   "source": [
    "sel = np.logical_and(dset['mu'][:,0]>6.7, np.abs(dset['mu'][:,1])<1.6)\n",
    "make_comp_plot_1D(\n",
    "    [\n",
    "        [np.abs(dset['mu'][:,1][sel]), 'HardQCD'],\n",
    "        [np.abs(dset['cuts_mu_SoftQCD'][:,1]), 'SoftQCD'],\n",
    "    ],\n",
    "    binning=np.linspace(0, 1.6, 70), setLog='y', miny=1e-5,\n",
    "    axis_title = ['Muon #eta', 'Normalized events'],\n",
    "    leg_loc=[0.2, 0.75, 0.2, 0.15]\n",
    ")"
   ]
  },
  {
   "cell_type": "code",
   "execution_count": 17,
   "metadata": {
    "ExecuteTime": {
     "end_time": "2020-12-08T16:49:07.731868Z",
     "start_time": "2020-12-08T16:49:07.630427Z"
    }
   },
   "outputs": [
    {
     "data": {
      "text/plain": [
       "<ROOT.TCanvas object (\"c\") at 0x108ca15b0>"
      ]
     },
     "execution_count": 17,
     "metadata": {},
     "output_type": "execute_result"
    },
    {
     "data": {
      "image/png": "[encoded data removed]",
      "text/plain": [
       "<IPython.core.display.Image object>"
      ]
     },
     "metadata": {},
     "output_type": "display_data"
    }
   ],
   "source": [
    "sel = np.logical_and(dset['mu'][:,0]>6.7, np.abs(dset['mu'][:,1])<1.6)\n",
    "make_comp_plot_1D(\n",
    "    [\n",
    "        [dset['mu'][:,2][sel], 'HardQCD'],\n",
    "        [dset['cuts_mu_SoftQCD'][:,2], 'SoftQCD'],\n",
    "    ],\n",
    "    binning=np.linspace(6.5, 50, 50), setLog='', miny=1e-5,\n",
    "    axis_title = ['B p_{T} [GeV]', 'Normalized events'],\n",
    "    leg_loc=[0.6, 0.75, 0.2, 0.15]\n",
    ")"
   ]
  },
  {
   "cell_type": "code",
   "execution_count": 18,
   "metadata": {
    "ExecuteTime": {
     "end_time": "2020-12-08T16:49:07.830300Z",
     "start_time": "2020-12-08T16:49:07.737423Z"
    }
   },
   "outputs": [
    {
     "data": {
      "text/plain": [
       "<ROOT.TCanvas object (\"c\") at 0xe034ed40>"
      ]
     },
     "execution_count": 18,
     "metadata": {},
     "output_type": "execute_result"
    },
    {
     "data": {
      "image/png": "[encoded data removed]",
      "text/plain": [
       "<IPython.core.display.Image object>"
      ]
     },
     "metadata": {},
     "output_type": "display_data"
    }
   ],
   "source": [
    "make_comp_plot_1D(\n",
    "    [\n",
    "        [dset['mu'][:,3][sel], 'HardQCD'],\n",
    "        [dset['cuts_mu_SoftQCD'][:,3], 'SoftQCD'],\n",
    "    ],\n",
    "    binning=np.linspace(-2, 2, 50), setLog='', miny=1e-5,\n",
    "    axis_title = ['B #eta', 'Normalized events'],\n",
    "    leg_loc=[0.8, 0.8, 0.2, 0.15]\n",
    ")"
   ]
  },
  {
   "cell_type": "code",
   "execution_count": null,
   "metadata": {},
   "outputs": [],
   "source": []
  }
 ],
 "metadata": {
  "kernelspec": {
   "display_name": "Python 2",
   "language": "python",
   "name": "python2"
  },
  "language_info": {
   "codemirror_mode": {
    "name": "ipython",
    "version": 2
   },
   "file_extension": ".py",
   "mimetype": "text/x-python",
   "name": "python",
   "nbconvert_exporter": "python",
   "pygments_lexer": "ipython2",
   "version": "2.7.14+"
  },
  "varInspector": {
   "cols": {
    "lenName": 16,
    "lenType": 16,
    "lenVar": 40
   },
   "kernels_config": {
    "python": {
     "delete_cmd_postfix": "",
     "delete_cmd_prefix": "del ",
     "library": "var_list.py",
     "varRefreshCmd": "print(var_dic_list())"
    },
    "r": {
     "delete_cmd_postfix": ") ",
     "delete_cmd_prefix": "rm(",
     "library": "var_list.r",
     "varRefreshCmd": "cat(var_dic_list()) "
    }
   },
   "types_to_exclude": [
    "module",
    "function",
    "builtin_function_or_method",
    "instance",
    "_Feature"
   ],
   "window_display": false
  }
 },
 "nbformat": 4,
 "nbformat_minor": 2
}
