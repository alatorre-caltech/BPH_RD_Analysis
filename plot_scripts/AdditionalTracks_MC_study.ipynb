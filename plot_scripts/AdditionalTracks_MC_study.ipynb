{
 "cells": [
  {
   "cell_type": "code",
   "execution_count": 1,
   "metadata": {
    "ExecuteTime": {
     "end_time": "2019-11-04T20:29:09.095999Z",
     "start_time": "2019-11-04T20:29:07.395503Z"
    }
   },
   "outputs": [
    {
     "name": "stdout",
     "output_type": "stream",
     "text": [
      "Welcome to JupyROOT 6.12/07\n"
     ]
    }
   ],
   "source": [
    "import numpy as np\n",
    "import scipy.stats as sps\n",
    "from glob import glob\n",
    "import matplotlib.pyplot as plt\n",
    "import uproot as ur\n",
    "import ROOT as rt\n",
    "import ROOT.RooFit as rf\n",
    "from scipy.special import erf\n",
    "import sys, os\n",
    "sys.path.append('../lib')\n",
    "from histo_utilities import create_TH1D, create_TH2D, std_color_list, SetMaxToMaxHist, make_ratio_plot\n",
    "from cebefo_style import Set_2D_colz_graphics\n",
    "from progressBar import ProgressBar\n",
    "\n",
    "from analysis_utilities import drawOnCMSCanvas, extarct, extarct_multiple, createSel\n",
    "from lumi_utilities import getLumiReport\n",
    "\n",
    "import CMS_lumi, tdrstyle\n",
    "tdrstyle.setTDRStyle()\n",
    "CMS_lumi.writeExtraText = 1\n",
    "CMS_lumi.extraText = \"     Simulation Preliminary\"\n",
    "\n",
    "donotdelete = []"
   ]
  },
  {
   "cell_type": "code",
   "execution_count": 2,
   "metadata": {
    "ExecuteTime": {
     "end_time": "2019-11-04T20:29:09.132152Z",
     "start_time": "2019-11-04T20:29:09.100094Z"
    }
   },
   "outputs": [],
   "source": [
    "rt.gErrorIgnoreLevel = rt.kError\n",
    "rt.RooMsgService.instance().setGlobalKillBelow(rt.RooFit.ERROR)"
   ]
  },
  {
   "cell_type": "code",
   "execution_count": 3,
   "metadata": {
    "ExecuteTime": {
     "end_time": "2019-11-04T20:29:09.153564Z",
     "start_time": "2019-11-04T20:29:09.136898Z"
    }
   },
   "outputs": [
    {
     "name": "stdout",
     "output_type": "stream",
     "text": [
      "mD* - mD0 = 0.14543\n"
     ]
    }
   ],
   "source": [
    "m_pi = 0.13957\n",
    "m_K = 0.49368\n",
    "m_D0 = 1.86483 #1e-3*Particle.from_string('D0').mass\n",
    "m_Dst = 2.01026 #1e-3*Particle.from_string('D*+').mass\n",
    "m_B0 = 5.27963 #1e-3*Particle.from_string('B0').mass\n",
    "m_pi = 0.13957018 #1e-3*Particle.from_string('pi+').mass\n",
    "print 'mD* - mD0 =', m_Dst - m_D0"
   ]
  },
  {
   "cell_type": "code",
   "execution_count": 25,
   "metadata": {},
   "outputs": [],
   "source": [
    "label_dic = {'Data' : 'Data',\n",
    "             'mu'   : 'B#rightarrow D*#mu#nu',\n",
    "             'tau'  : 'B#rightarrow D*#tau#nu',\n",
    "             'Hc'   : 'B#rightarrow D*H_{c}',\n",
    "             'Dstst': 'B#rightarrow D**#mu#nu'\n",
    "            }"
   ]
  },
  {
   "cell_type": "code",
   "execution_count": 5,
   "metadata": {
    "ExecuteTime": {
     "end_time": "2019-11-04T20:29:09.179242Z",
     "start_time": "2019-11-04T20:29:09.157774Z"
    }
   },
   "outputs": [],
   "source": [
    "cl = rt.TLine()\n",
    "cl.SetLineColor(6)\n",
    "cl.SetLineStyle(9)\n",
    "cl.SetLineWidth(2)"
   ]
  },
  {
   "cell_type": "code",
   "execution_count": 6,
   "metadata": {
    "ExecuteTime": {
     "end_time": "2019-11-04T20:29:09.200548Z",
     "start_time": "2019-11-04T20:29:09.183256Z"
    }
   },
   "outputs": [],
   "source": [
    "import operator\n",
    "ops = {'>': operator.gt, '<': operator.lt, }"
   ]
  },
  {
   "cell_type": "markdown",
   "metadata": {},
   "source": [
    "# Load data"
   ]
  },
  {
   "cell_type": "code",
   "execution_count": 22,
   "metadata": {},
   "outputs": [
    {
     "name": "stdout",
     "output_type": "stream",
     "text": [
      "N evts: 533512\n"
     ]
    }
   ],
   "source": [
    "loc = '../data/cmsRD/'\n",
    "loc += 'ParkingBPH1/'\n",
    "loc += 'Run2018D-05May2019promptD-v1_RDntuplizer_B2DstMu_191126_CAND.root'\n",
    "\n",
    "tData = rt.TChain('outA/Tevts')\n",
    "for floc in glob(loc):\n",
    "    tData.Add(floc)\n",
    "\n",
    "print 'N evts: {:.0f}'.format(tData.GetEntries())"
   ]
  },
  {
   "cell_type": "code",
   "execution_count": 7,
   "metadata": {
    "ExecuteTime": {
     "end_time": "2019-11-04T20:29:09.563862Z",
     "start_time": "2019-11-04T20:29:09.298406Z"
    }
   },
   "outputs": [
    {
     "name": "stdout",
     "output_type": "stream",
     "text": [
      "N evts: 218709\n"
     ]
    },
    {
     "name": "stderr",
     "output_type": "stream",
     "text": [
      "Error in <TChain::LoadTree>: Cannot find tree with name outA/Tevts in file ../data/cmsMC_private/BPH_Tag-B0_MuNuDmst-pD0bar-kp_13TeV-pythia8_Hardbbbar_PTFilter5_0p0-evtgen_ISGW2_PU20_10-2-3/ntuples_B2DstMu/out_CAND_26.root\n",
      "Error in <TChain::LoadTree>: Cannot find tree with name outA/Tevts in file ../data/cmsMC_private/BPH_Tag-B0_MuNuDmst-pD0bar-kp_13TeV-pythia8_Hardbbbar_PTFilter5_0p0-evtgen_ISGW2_PU20_10-2-3/ntuples_B2DstMu/out_CAND_51.root\n"
     ]
    }
   ],
   "source": [
    "loc = '../data/cmsMC_private/'\n",
    "loc += 'BPH_Tag-B0_MuNuDmst-pD0bar-kp_13TeV-pythia8_Hardbbbar_PTFilter5_0p0-evtgen_ISGW2_PU20_10-2-3'\n",
    "loc += '/ntuples_B2DstMu/out_CAND_*.root'\n",
    "\n",
    "tMu = rt.TChain('outA/Tevts')\n",
    "for floc in glob(loc):\n",
    "    tMu.Add(floc)\n",
    "\n",
    "print 'N evts: {:.0f}'.format(tMu.GetEntries())"
   ]
  },
  {
   "cell_type": "code",
   "execution_count": 8,
   "metadata": {
    "ExecuteTime": {
     "end_time": "2019-11-04T20:29:09.563862Z",
     "start_time": "2019-11-04T20:29:09.298406Z"
    }
   },
   "outputs": [
    {
     "name": "stdout",
     "output_type": "stream",
     "text": [
      "N evts: 48330\n"
     ]
    }
   ],
   "source": [
    "loc = '../data/cmsMC_private/'\n",
    "loc += 'BPH_Tag-B0_TauNuDmst-pD0bar-kp-t2mnn_pythia8_Hardbbbar_PTFilter5_0p0-evtgen_ISGW2_PU20_10-2-3'\n",
    "loc += '/ntuples_B2DstMu/out_CAND_*.root'\n",
    "\n",
    "tTau = rt.TChain('outA/Tevts')\n",
    "for floc in glob(loc):\n",
    "    tTau.Add(floc)\n",
    "\n",
    "print 'N evts: {:.0f}'.format(tTau.GetEntries())"
   ]
  },
  {
   "cell_type": "code",
   "execution_count": 9,
   "metadata": {
    "ExecuteTime": {
     "end_time": "2019-11-04T20:29:09.563862Z",
     "start_time": "2019-11-04T20:29:09.298406Z"
    }
   },
   "outputs": [
    {
     "name": "stdout",
     "output_type": "stream",
     "text": [
      "N evts: 85378\n"
     ]
    }
   ],
   "source": [
    "loc = '../data/cmsMC_private/'\n",
    "loc += 'BPH_Tag-Bp_MuNuDstst_DmstPi_13TeV-pythia8_Hardbbbar_PTFilter5_0p0-evtgen_ISGW2_PU20_10-2-3'\n",
    "loc += '/ntuples_B2DstMu/out_CAND_*.root'\n",
    "\n",
    "tDstst = rt.TChain('outA/Tevts')\n",
    "for floc in glob(loc):\n",
    "    tDstst.Add(floc)\n",
    "\n",
    "print 'N evts: {:.0f}'.format(tDstst.GetEntries())"
   ]
  },
  {
   "cell_type": "markdown",
   "metadata": {},
   "source": [
    "# Cuts declaration"
   ]
  },
  {
   "cell_type": "code",
   "execution_count": 10,
   "metadata": {
    "ExecuteTime": {
     "end_time": "2019-11-04T20:29:10.817312Z",
     "start_time": "2019-11-04T20:29:10.802256Z"
    }
   },
   "outputs": [],
   "source": [
    "cut_general = [\n",
    "    'n_B == 1',\n",
    "    'trgMu_pt > 12.1',\n",
    "    'trgMu_sigdxy > 7'\n",
    "]"
   ]
  },
  {
   "cell_type": "markdown",
   "metadata": {},
   "source": [
    "# $D_0$ reconstruction"
   ]
  },
  {
   "cell_type": "code",
   "execution_count": 11,
   "metadata": {
    "ExecuteTime": {
     "end_time": "2019-11-04T20:29:12.034435Z",
     "start_time": "2019-11-04T20:29:12.018653Z"
    }
   },
   "outputs": [],
   "source": [
    "cut_piK = [\n",
    "####----- Trigger-like cuts -----#\n",
    "'K_pt > 0.8',\n",
    "'pi_pt > 0.8',\n",
    "'pval_piK > 0.1',\n",
    "'K_eta > -2.5',\n",
    "'pi_eta > -2.5',\n",
    "'K_eta < 2.5',\n",
    "'pi_eta < 2.5',\n",
    "    \n",
    "# 'cosT_Jpsi_PV > 0.95',\n",
    "# 'sigdxy_K_PV > 2',\n",
    "# 'mup_dxy < 2',\n",
    "]"
   ]
  },
  {
   "cell_type": "code",
   "execution_count": 12,
   "metadata": {
    "ExecuteTime": {
     "end_time": "2019-11-04T22:54:15.371864Z",
     "start_time": "2019-11-04T22:54:15.354552Z"
    }
   },
   "outputs": [
    {
     "data": {
      "text/plain": [
       "['pval_piK > 0.1',\n",
       " 'K_pt > 0.8',\n",
       " 'pi_eta < 2.5',\n",
       " 'K_eta < 2.5',\n",
       " 'abs(mass_piK - 1.86) < 0.04',\n",
       " 'pi_eta > -2.5',\n",
       " 'K_eta > -2.5',\n",
       " 'mass_D0pis < mass_piK + 0.16',\n",
       " 'pi_pt > 0.8']"
      ]
     },
     "execution_count": 12,
     "metadata": {},
     "output_type": "execute_result"
    }
   ],
   "source": [
    "cut_piK += ['mass_D0pis < mass_piK + 0.16', 'abs(mass_piK - 1.86) < 0.04']\n",
    "cut_piK = list(dict.fromkeys(cut_piK))\n",
    "cut_piK"
   ]
  },
  {
   "cell_type": "markdown",
   "metadata": {},
   "source": [
    "# $D^*$ Recostruction"
   ]
  },
  {
   "cell_type": "code",
   "execution_count": 13,
   "metadata": {
    "ExecuteTime": {
     "end_time": "2019-11-04T22:54:39.128847Z",
     "start_time": "2019-11-04T22:54:39.123401Z"
    }
   },
   "outputs": [],
   "source": [
    "cut_D0pis = [\n",
    "'pis_pt > 0.5'\n",
    "'pis_refitD0pismu_pt > 0.5',\n",
    "'sigdxy_pis_PV > 2',\n",
    "'pval_D0pis > 0.1',\n",
    "'cos_D0pismu_PV > 0.99'\n",
    "]"
   ]
  },
  {
   "cell_type": "code",
   "execution_count": 14,
   "metadata": {
    "ExecuteTime": {
     "end_time": "2019-11-04T22:54:39.483246Z",
     "start_time": "2019-11-04T22:54:39.477539Z"
    }
   },
   "outputs": [
    {
     "name": "stdout",
     "output_type": "stream",
     "text": [
      "n_B == 1 && trgMu_pt > 13 && trgMu_sigdxy > 6.5 && pval_piK > 0.1 && K_pt > 0.8 && pi_eta < 2.5 && K_eta < 2.5 && abs(mass_piK - 1.86) < 0.04 && pi_eta > -2.5 && K_eta > -2.5 && mass_D0pis < mass_piK + 0.16 && pi_pt > 0.8 && pis_refitD0pismu_pt > 0.5 && sigdxy_pis_PV > 2 && pval_D0pis > 0.1\n"
     ]
    }
   ],
   "source": [
    "cut_str = ' && '.join(cut_general + cut_piK + cut_D0pis)\n",
    "print cut_str"
   ]
  },
  {
   "cell_type": "code",
   "execution_count": 15,
   "metadata": {
    "ExecuteTime": {
     "end_time": "2019-11-04T22:55:19.562806Z",
     "start_time": "2019-11-04T22:55:19.545982Z"
    }
   },
   "outputs": [
    {
     "name": "stdout",
     "output_type": "stream",
     "text": [
      "['pis_refitD0pismu_pt > 0.5', 'pval_D0pis > 0.1', 'abs(mass_D0pis - 2.01) < 0.03', 'sigdxy_pis_PV > 2']\n"
     ]
    }
   ],
   "source": [
    "cut_D0pis += ['abs(mass_D0pis - 2.01) < 0.03']\n",
    "cut_D0pis = list(dict.fromkeys(cut_D0pis))\n",
    "print cut_D0pis"
   ]
  },
  {
   "cell_type": "markdown",
   "metadata": {},
   "source": [
    "# Full analysis"
   ]
  },
  {
   "cell_type": "code",
   "execution_count": 29,
   "metadata": {
    "ExecuteTime": {
     "end_time": "2019-11-04T22:55:43.621715Z",
     "start_time": "2019-11-04T22:55:43.614572Z"
    }
   },
   "outputs": [
    {
     "name": "stdout",
     "output_type": "stream",
     "text": [
      "['pval_D0pismu > 0.1', 'mass_D0pismu < 7.0']\n"
     ]
    }
   ],
   "source": [
    "cut_B = [\n",
    "    'pval_D0pismu > 0.1',\n",
    "    'mass_D0pismu < 7.0'\n",
    "]\n",
    "print cut_B\n",
    "\n",
    "cut_str = ' && '.join(cut_general + cut_piK + cut_D0pis + cut_B)"
   ]
  },
  {
   "cell_type": "markdown",
   "metadata": {},
   "source": [
    "# Study on the additional tracks"
   ]
  },
  {
   "cell_type": "code",
   "execution_count": 17,
   "metadata": {
    "ExecuteTime": {
     "end_time": "2019-11-04T22:55:51.132779Z",
     "start_time": "2019-11-04T22:55:50.742388Z"
    }
   },
   "outputs": [
    {
     "name": "stdout",
     "output_type": "stream",
     "text": [
      "Mu: 4040/40783 = 9.9 %\n",
      "Tau: 514/6249 = 8.2 %\n",
      "Dstst: 11319/13938 = 81.2 %\n"
     ]
    },
    {
     "data": {
      "image/png": "[encoded data removed]",
      "text/plain": [
       "<IPython.core.display.Image object>"
      ]
     },
     "metadata": {},
     "output_type": "display_data"
    }
   ],
   "source": [
    "h = create_TH1D(np.zeros(0), name='h',\n",
    "                title='',\n",
    "                axis_title=['Number of additional tracks', 'Events'],\n",
    "                binning=[12, -0.5, 11.5]\n",
    "               )\n",
    "tMu.Project('h', 'nTksAdd', cut_str)\n",
    "h.Sumw2()\n",
    "h.Scale(1./h.Integral())\n",
    "N = tMu.GetEntries(cut_str)\n",
    "n = tMu.GetEntries(cut_str + ' && nTksAdd >= 1')\n",
    "print 'Mu: {}/{} = {:.1f} %'.format(n, N, 100*float(n)/N)\n",
    "\n",
    "h3 = create_TH1D(np.zeros(0), name='h3', binning=h.binning)\n",
    "tTau.Project('h3', 'nTksAdd', cut_str)\n",
    "h3.Sumw2()\n",
    "h3.Scale(1./h3.Integral())\n",
    "h3.SetLineColor(rt.kBlue)\n",
    "N = tTau.GetEntries(cut_str)\n",
    "n = tTau.GetEntries(cut_str + ' && nTksAdd >= 1')\n",
    "print 'Tau: {}/{} = {:.1f} %'.format(n, N, 100*float(n)/N)\n",
    "\n",
    "h2 = create_TH1D(np.zeros(0), name='h2', binning=h.binning)\n",
    "tDstst.Project('h2', 'nTksAdd', cut_str)\n",
    "h2.Sumw2()\n",
    "h2.Scale(1./h2.Integral())\n",
    "h2.SetLineColor(rt.kRed)\n",
    "N = tDstst.GetEntries(cut_str)\n",
    "n = tDstst.GetEntries(cut_str + ' && nTksAdd >= 1')\n",
    "print 'Dstst: {}/{} = {:.1f} %'.format(n, N, 100*float(n)/N)\n",
    "\n",
    "leg = rt.TLegend(0.6, 0.5, 0.9, 0.9)\n",
    "leg.AddEntry(h, label_dic['mu'], 'lep')\n",
    "leg.AddEntry(h3, label_dic['tau'], 'lep')\n",
    "leg.AddEntry(h2, label_dic['Dstst'], 'lep')\n",
    "leg.SetTextFont(42)\n",
    "leg.SetTextAlign(12)\n",
    "leg.SetLineWidth(0)\n",
    "leg.SetBorderSize(0)\n",
    "c = drawOnCMSCanvas(CMS_lumi, [h, h2, h3], 'same')\n",
    "c.SetLogy()\n",
    "leg.Draw()\n",
    "c.Draw()"
   ]
  },
  {
   "cell_type": "code",
   "execution_count": 18,
   "metadata": {},
   "outputs": [
    {
     "name": "stdout",
     "output_type": "stream",
     "text": [
      "Dstst: 8414/13938 = 60.4 %\n",
      "Tau: 67/6249 = 1.1 %\n"
     ]
    },
    {
     "data": {
      "image/png": "[encoded data removed]",
      "text/plain": [
       "<IPython.core.display.Image object>"
      ]
     },
     "metadata": {},
     "output_type": "display_data"
    }
   ],
   "source": [
    "h = create_TH1D(np.zeros(0), name='h',\n",
    "                title='',\n",
    "                axis_title=['Hadronic mass [GeV]', 'Events'],\n",
    "                binning=[50, 2, 3.5]\n",
    "               )\n",
    "tMu.Project('h', 'tksAdd_massHad', cut_str)\n",
    "h.Sumw2()\n",
    "h.Scale(1./h.Integral())\n",
    "\n",
    "h2 = create_TH1D(np.zeros(0), name='h2', binning=h.binning)\n",
    "tDstst.Project('h2', 'tksAdd_massHad', cut_str)\n",
    "h2.Sumw2()\n",
    "h2.Scale(1./h2.Integral())\n",
    "h2.SetLineColor(rt.kRed)\n",
    "N = tDstst.GetEntries(cut_str)\n",
    "n = tDstst.GetEntries(cut_str + ' && tksAdd_massHad > 2.35 && tksAdd_massHad < 2.6')\n",
    "print 'Dstst: {}/{} = {:.1f} %'.format(n, N, 100*float(n)/N)  \n",
    "\n",
    "h3 = create_TH1D(np.zeros(0), name='h3', binning=h.binning)\n",
    "tTau.Project('h3', 'tksAdd_massHad', cut_str)\n",
    "h3.Sumw2()\n",
    "h3.Scale(1./h3.Integral())\n",
    "h3.SetLineColor(rt.kBlue)\n",
    "N = tTau.GetEntries(cut_str)\n",
    "n = tTau.GetEntries(cut_str + ' && tksAdd_massHad > 2.35 && tksAdd_massHad < 2.6')\n",
    "print 'Tau: {}/{} = {:.1f} %'.format(n, N, 100*float(n)/N)  \n",
    "\n",
    "c = drawOnCMSCanvas(CMS_lumi, [h, h2, h3], 'same')\n",
    "c.SetLogy()\n",
    "cl.DrawLine(2.35, 1e-3, 2.35, 0.2)\n",
    "cl.DrawLine(2.6, 1e-3, 2.6, 0.2)\n",
    "c.Draw()"
   ]
  },
  {
   "cell_type": "code",
   "execution_count": 23,
   "metadata": {},
   "outputs": [
    {
     "data": {
      "image/png": "[encoded data removed]",
      "text/plain": [
       "<IPython.core.display.Image object>"
      ]
     },
     "metadata": {},
     "output_type": "display_data"
    }
   ],
   "source": [
    "h = create_TH1D(np.zeros(0), name='h',\n",
    "                title='',\n",
    "                axis_title=['Visible mass [GeV]', 'Events'],\n",
    "                binning=[100, 2.5, 15]\n",
    "               )\n",
    "tMu.Project('h', 'tksAdd_massVis', cut_str)\n",
    "h.Sumw2()\n",
    "h.Scale(1./h.Integral())\n",
    "\n",
    "h2 = create_TH1D(np.zeros(0), name='h2', binning=h.binning)\n",
    "tDstst.Project('h2', 'tksAdd_massVis', cut_str)\n",
    "h2.Sumw2()\n",
    "h2.Scale(1./h2.Integral())\n",
    "h2.SetLineColor(rt.kRed)\n",
    "\n",
    "h3 = create_TH1D(np.zeros(0), name='h3', binning=h.binning)\n",
    "tTau.Project('h3', 'tksAdd_massVis', cut_str)\n",
    "h3.Sumw2()\n",
    "h3.Scale(1./h3.Integral())\n",
    "h3.SetLineColor(rt.kBlue)\n",
    "   \n",
    "c = drawOnCMSCanvas(CMS_lumi, [h, h2, h3], 'same')\n",
    "c.SetLogy()\n",
    "cl.DrawLine(m_B0, 1e-4, m_B0, 1e-1)\n",
    "c.Draw()"
   ]
  },
  {
   "cell_type": "code",
   "execution_count": 20,
   "metadata": {
    "ExecuteTime": {
     "end_time": "2019-11-04T22:56:35.387603Z",
     "start_time": "2019-11-04T22:56:34.970763Z"
    }
   },
   "outputs": [
    {
     "data": {
      "image/png": "[encoded data removed]",
      "text/plain": [
       "<IPython.core.display.Image object>"
      ]
     },
     "metadata": {},
     "output_type": "display_data"
    }
   ],
   "source": [
    "h = create_TH2D(np.zeros((2,2)), name='h',\n",
    "                title='',\n",
    "                axis_title=['Hadronic mass [GeV]', 'Visible mass [GeV]', 'Events'],\n",
    "                binning=[np.linspace(2, 3.5, 30), np.linspace(2.5, 6.5, 30)]\n",
    "               )\n",
    "tMu.Project('h', 'tksAdd_massVis:tksAdd_massHad', cut_str)\n",
    "h.Sumw2()\n",
    "\n",
    "h2 = create_TH2D(np.zeros((2,2)), name='h2', binning=h.binning)\n",
    "tDstst.Project('h2', 'tksAdd_massVis:tksAdd_massHad', cut_str)\n",
    "h2.Sumw2()\n",
    "h2.SetMarkerColor(rt.kRed)\n",
    "\n",
    "h3 = create_TH2D(np.zeros((2,2)), name='h3', binning=h.binning)\n",
    "tTau.Project('h3', 'tksAdd_massVis:tksAdd_massHad', cut_str)\n",
    "h3.Sumw2()\n",
    "h3.SetMarkerColor(rt.kBlue)\n",
    "                         \n",
    "c = drawOnCMSCanvas(CMS_lumi, [h, h2, h3], 'same')\n",
    "# cl.DrawLine(1.76, 1.76+0.16, 1.91, 1.91+0.16)\n",
    "# c.SetLogy()\n",
    "c.Draw()"
   ]
  },
  {
   "cell_type": "code",
   "execution_count": 28,
   "metadata": {},
   "outputs": [
    {
     "name": "stdout",
     "output_type": "stream",
     "text": [
      "Mu: 2964/40783 = 7.3 %\n",
      "Tau: 409/6249 = 6.5 %\n",
      "Dstst: 11258/13938 = 80.8 %\n",
      "Data: 19390/119866 = 16.2 %\n"
     ]
    },
    {
     "data": {
      "image/png": "[encoded data removed]",
      "text/plain": [
       "<IPython.core.display.Image object>"
      ]
     },
     "metadata": {},
     "output_type": "display_data"
    }
   ],
   "source": [
    "var = 'Sum$(tksAdd_massVis < {})'.format(m_B0)\n",
    "# var = 'Sum$(tksAdd_massVis < {})'.format(6.5)\n",
    "# var = 'Sum$(tksAdd_massVis < {} && tksAdd_massHad > 2.35 && tksAdd_massHad < 2.6)'.format(m_B0)\n",
    "\n",
    "h = create_TH1D(np.zeros(0), name='h',\n",
    "                title='',\n",
    "                axis_title=['Number of additional tracks', 'Events'],\n",
    "                binning=[12, -0.5, 11.5]\n",
    "               )\n",
    "tMu.Project('h', var, cut_str)\n",
    "h.Sumw2()\n",
    "h.Scale(1./h.Integral())\n",
    "N = tMu.GetEntries(cut_str)\n",
    "n = tMu.GetEntries(cut_str + ' && {} >= 1'.format(var))\n",
    "print 'Mu: {}/{} = {:.1f} %'.format(n, N, 100*float(n)/N)\n",
    "\n",
    "h3 = create_TH1D(np.zeros(0), name='h3', binning=h.binning)\n",
    "tTau.Project('h3', var, cut_str)\n",
    "h3.Sumw2()\n",
    "h3.Scale(1./h3.Integral())\n",
    "h3.SetLineColor(rt.kBlue)\n",
    "N = tTau.GetEntries(cut_str)\n",
    "n = tTau.GetEntries(cut_str + ' && {} >= 1'.format(var))\n",
    "print 'Tau: {}/{} = {:.1f} %'.format(n, N, 100*float(n)/N)\n",
    "\n",
    "h2 = create_TH1D(np.zeros(0), name='h2', binning=h.binning)\n",
    "tDstst.Project('h2', var, cut_str)\n",
    "h2.Sumw2()\n",
    "h2.Scale(1./h2.Integral())\n",
    "h2.SetLineColor(rt.kRed)\n",
    "N = tDstst.GetEntries(cut_str)\n",
    "n = tDstst.GetEntries(cut_str + ' && {} >= 1'.format(var))\n",
    "print 'Dstst: {}/{} = {:.1f} %'.format(n, N, 100*float(n)/N)\n",
    "\n",
    "\n",
    "h4 = create_TH1D(np.zeros(0), name='h4', binning=h.binning)\n",
    "tData.Project('h4', var, cut_str)\n",
    "h4.Sumw2()\n",
    "h4.Scale(1./h4.Integral())\n",
    "h4.SetLineColor(rt.kAzure)\n",
    "N = tData.GetEntries(cut_str)\n",
    "n = tData.GetEntries(cut_str + ' && {} >= 1'.format(var))\n",
    "print 'Data: {}/{} = {:.1f} %'.format(n, N, 100*float(n)/N)\n",
    "\n",
    "leg = rt.TLegend(0.6, 0.5, 0.9, 0.9)\n",
    "leg.AddEntry(h, label_dic['mu'], 'lep')\n",
    "leg.AddEntry(h3, label_dic['tau'], 'lep')\n",
    "leg.AddEntry(h2, label_dic['Dstst'], 'lep')\n",
    "leg.AddEntry(h4, label_dic['Data'], 'lep')\n",
    "leg.SetTextFont(42)\n",
    "leg.SetTextAlign(12)\n",
    "leg.SetLineWidth(0)\n",
    "leg.SetBorderSize(0)\n",
    "c = drawOnCMSCanvas(CMS_lumi, [h, h2, h3, h4], 'same')\n",
    "c.SetLogy()\n",
    "leg.Draw()\n",
    "c.Draw()"
   ]
  },
  {
   "cell_type": "code",
   "execution_count": null,
   "metadata": {},
   "outputs": [],
   "source": []
  }
 ],
 "metadata": {
  "kernelspec": {
   "display_name": "Python 2",
   "language": "python",
   "name": "python2"
  },
  "language_info": {
   "codemirror_mode": {
    "name": "ipython",
    "version": 2
   },
   "file_extension": ".py",
   "mimetype": "text/x-python",
   "name": "python",
   "nbconvert_exporter": "python",
   "pygments_lexer": "ipython2",
   "version": "2.7.14+"
  }
 },
 "nbformat": 4,
 "nbformat_minor": 2
}
