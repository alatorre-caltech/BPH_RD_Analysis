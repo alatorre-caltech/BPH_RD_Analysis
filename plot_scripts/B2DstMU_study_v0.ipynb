{
 "cells": [
  {
   "cell_type": "code",
   "execution_count": 1,
   "metadata": {
    "ExecuteTime": {
     "end_time": "2019-10-30T19:31:55.815292Z",
     "start_time": "2019-10-30T19:31:48.421288Z"
    }
   },
   "outputs": [
    {
     "name": "stdout",
     "output_type": "stream",
     "text": [
      "Welcome to JupyROOT 6.10/08\n"
     ]
    }
   ],
   "source": [
    "import numpy as np\n",
    "import scipy.stats as sps\n",
    "from glob import glob\n",
    "import matplotlib.pyplot as plt\n",
    "import uproot as ur\n",
    "import ROOT as rt\n",
    "import ROOT.RooFit as rf\n",
    "from scipy.special import erf\n",
    "import sys, os\n",
    "sys.path.append('../lib')\n",
    "from histo_utilities import create_TH1D, create_TH2D, std_color_list, SetMaxToMaxHist, make_ratio_plot\n",
    "from cebefo_style import Set_2D_colz_graphics\n",
    "from progressBar import ProgressBar\n",
    "\n",
    "from analysis_utilities import drawOnCMSCanvas, extarct, extarct_multiple, createSel\n",
    "from lumi_utilities import getLumiReport\n",
    "\n",
    "import CMS_lumi, tdrstyle\n",
    "tdrstyle.setTDRStyle()\n",
    "CMS_lumi.writeExtraText = 1\n",
    "CMS_lumi.extraText = \"     Preliminary\"\n",
    "\n",
    "donotdelete = []"
   ]
  },
  {
   "cell_type": "code",
   "execution_count": 2,
   "metadata": {
    "ExecuteTime": {
     "end_time": "2019-10-30T19:31:55.851865Z",
     "start_time": "2019-10-30T19:31:55.819422Z"
    }
   },
   "outputs": [],
   "source": [
    "rt.gErrorIgnoreLevel = rt.kError\n",
    "rt.RooMsgService.instance().setGlobalKillBelow(rt.RooFit.ERROR)"
   ]
  },
  {
   "cell_type": "code",
   "execution_count": 3,
   "metadata": {
    "ExecuteTime": {
     "end_time": "2019-10-30T19:31:55.871353Z",
     "start_time": "2019-10-30T19:31:55.856150Z"
    }
   },
   "outputs": [
    {
     "name": "stdout",
     "output_type": "stream",
     "text": [
      "mD* - mD0 = 0.14543\n"
     ]
    }
   ],
   "source": [
    "m_pi = 0.13957\n",
    "m_K = 0.49368\n",
    "m_D0 = 1.86483 #1e-3*Particle.from_string('D0').mass\n",
    "m_Dst = 2.01026 #1e-3*Particle.from_string('D*+').mass\n",
    "m_B0 = 5.27963 #1e-3*Particle.from_string('B0').mass\n",
    "m_pi = 0.13957018 #1e-3*Particle.from_string('pi+').mass\n",
    "print 'mD* - mD0 =', m_Dst - m_D0"
   ]
  },
  {
   "cell_type": "code",
   "execution_count": 4,
   "metadata": {
    "ExecuteTime": {
     "end_time": "2019-10-30T19:31:55.896473Z",
     "start_time": "2019-10-30T19:31:55.875409Z"
    }
   },
   "outputs": [],
   "source": [
    "cl = rt.TLine()\n",
    "cl.SetLineColor(6)\n",
    "cl.SetLineStyle(9)\n",
    "cl.SetLineWidth(2)"
   ]
  },
  {
   "cell_type": "code",
   "execution_count": 5,
   "metadata": {
    "ExecuteTime": {
     "end_time": "2019-10-30T19:31:55.915839Z",
     "start_time": "2019-10-30T19:31:55.899292Z"
    }
   },
   "outputs": [],
   "source": [
    "import operator\n",
    "ops = {'>': operator.gt, '<': operator.lt, }"
   ]
  },
  {
   "cell_type": "markdown",
   "metadata": {},
   "source": [
    "# Load data"
   ]
  },
  {
   "cell_type": "code",
   "execution_count": 6,
   "metadata": {
    "ExecuteTime": {
     "end_time": "2019-10-30T19:31:55.936582Z",
     "start_time": "2019-10-30T19:31:55.919897Z"
    }
   },
   "outputs": [],
   "source": [
    "dataDir = '../data/cmsRD'\n",
    "datasets_loc = []\n",
    "\n",
    "datasets_loc += glob(dataDir + '/ParkingBPH1/*2018D-*B2DstMu_191025*')"
   ]
  },
  {
   "cell_type": "code",
   "execution_count": 7,
   "metadata": {
    "ExecuteTime": {
     "end_time": "2019-10-30T19:31:55.967171Z",
     "start_time": "2019-10-30T19:31:55.940472Z"
    }
   },
   "outputs": [
    {
     "name": "stdout",
     "output_type": "stream",
     "text": [
      "Lumi tot: 5.1 fb^-1\n",
      "Lumi analyzed: 12.6%\n"
     ]
    }
   ],
   "source": [
    "lumi_tot, lumi_dic = getLumiReport(datasets_loc)\n",
    "CMS_lumi.integrated_lumi = lumi_tot"
   ]
  },
  {
   "cell_type": "code",
   "execution_count": 8,
   "metadata": {
    "ExecuteTime": {
     "end_time": "2019-10-30T19:31:56.436429Z",
     "start_time": "2019-10-30T19:31:55.971324Z"
    }
   },
   "outputs": [
    {
     "name": "stdout",
     "output_type": "stream",
     "text": [
      "N evts: 521699\n"
     ]
    }
   ],
   "source": [
    "tree = rt.TChain('outA/Tevts')\n",
    "\n",
    "for floc in datasets_loc:\n",
    "   tree.Add(floc)\n",
    "\n",
    "print 'N evts: {:.0f}'.format(tree.GetEntries())"
   ]
  },
  {
   "cell_type": "markdown",
   "metadata": {},
   "source": [
    "# Cuts declaration"
   ]
  },
  {
   "cell_type": "code",
   "execution_count": 9,
   "metadata": {
    "ExecuteTime": {
     "end_time": "2019-10-30T19:31:56.446182Z",
     "start_time": "2019-10-30T19:31:56.440588Z"
    }
   },
   "outputs": [],
   "source": [
    "cut_general = [\n",
    "    'n_B == 1',\n",
    "    'trgMu_pt > 13',\n",
    "    'trgMu_sigdxy > 6.5'\n",
    "]"
   ]
  },
  {
   "cell_type": "markdown",
   "metadata": {},
   "source": [
    "# $D_0$ reconstruction"
   ]
  },
  {
   "cell_type": "code",
   "execution_count": 10,
   "metadata": {
    "ExecuteTime": {
     "end_time": "2019-10-30T19:31:56.467057Z",
     "start_time": "2019-10-30T19:31:56.450850Z"
    }
   },
   "outputs": [],
   "source": [
    "cut_piK = [\n",
    "####----- Trigger-like cuts -----#\n",
    "'K_pt > 0.8',\n",
    "'pi_pt > 0.8',\n",
    "'pval_piK > 0.1',\n",
    "'K_eta > -2.5',\n",
    "'pi_eta > -2.5',\n",
    "'K_eta < 2.5',\n",
    "'pi_eta < 2.5',\n",
    "    \n",
    "# 'cosT_Jpsi_PV > 0.95',\n",
    "# 'sigdxy_K_PV > 2',\n",
    "# 'mup_dxy < 2',\n",
    "]"
   ]
  },
  {
   "cell_type": "code",
   "execution_count": 11,
   "metadata": {
    "ExecuteTime": {
     "end_time": "2019-10-30T19:31:56.487981Z",
     "start_time": "2019-10-30T19:31:56.471129Z"
    }
   },
   "outputs": [
    {
     "name": "stdout",
     "output_type": "stream",
     "text": [
      "n_B == 1 && trgMu_pt > 13 && trgMu_sigdxy > 6.5 && K_pt > 0.8 && pi_pt > 0.8 && pval_piK > 0.1 && K_eta > -2.5 && pi_eta > -2.5 && K_eta < 2.5 && pi_eta < 2.5\n"
     ]
    }
   ],
   "source": [
    "cut_str = ' && '.join(cut_general + cut_piK)\n",
    "print cut_str"
   ]
  },
  {
   "cell_type": "code",
   "execution_count": 12,
   "metadata": {
    "ExecuteTime": {
     "end_time": "2019-10-30T19:32:00.245863Z",
     "start_time": "2019-10-30T19:31:56.492296Z"
    }
   },
   "outputs": [
    {
     "data": {
      "image/png": "[encoded data removed]",
      "text/plain": [
       "<IPython.core.display.Image object>"
      ]
     },
     "metadata": {},
     "output_type": "display_data"
    }
   ],
   "source": [
    "h = create_TH1D(np.zeros(0), name='h',\n",
    "                title='',\n",
    "                axis_title=['m(#piK) [GeV]', 'Events'],\n",
    "                binning=[70, 1.75, 1.93]\n",
    "               )\n",
    "tree.Project('h', 'mass_piK', cut_str)\n",
    "h.Sumw2()\n",
    "\n",
    "h2 = create_TH1D(np.zeros(0), name='h2', binning=h.binning)\n",
    "tree.Project('h2', 'mass_piK', cut_str + ' && D0_refitD0pismu_pt > 5')\n",
    "h2.Sumw2()\n",
    "h2.SetLineColor(rt.kRed)\n",
    "\n",
    "h3 = create_TH1D(np.zeros(0), name='h3', binning=h.binning)\n",
    "tree.Project('h3', 'mass_piK', cut_str + ' && pi_N_valid_hits > 12')\n",
    "h3.Sumw2()\n",
    "h3.SetLineColor(rt.kGreen)\n",
    "\n",
    "c = drawOnCMSCanvas(CMS_lumi, [h, h2, h3], 'same')\n",
    "c.Draw()\n",
    "h.GetYaxis().SetRangeUser(0.9, 1.2*h.GetMaximum())"
   ]
  },
  {
   "cell_type": "code",
   "execution_count": 45,
   "metadata": {
    "ExecuteTime": {
     "end_time": "2019-11-04T22:16:02.914203Z",
     "start_time": "2019-11-04T22:16:01.644376Z"
    }
   },
   "outputs": [
    {
     "name": "stdout",
     "output_type": "stream",
     "text": [
      "168581.0\n"
     ]
    },
    {
     "data": {
      "image/png": "[encoded data removed]",
      "text/plain": [
       "<IPython.core.display.Image object>"
      ]
     },
     "metadata": {},
     "output_type": "display_data"
    }
   ],
   "source": [
    "h = create_TH2D(np.zeros((2,2)), name='h',\n",
    "                title='',\n",
    "                axis_title=['m(#pi^{-}K^{+}) [GeV]', 'm(D_{0}#pi_{s}) [GeV]', 'Events'],\n",
    "                binning=[50, 1.76, 1.92, 50, 1.95, 2.065]\n",
    "               )\n",
    "tree.Project('h', 'mass_D0pis:mass_piK', cut_str)\n",
    "h.Sumw2()\n",
    "print h.GetEntries()\n",
    "                         \n",
    "c = drawOnCMSCanvas(CMS_lumi, [h], ['colz'])\n",
    "c.SetLogz()\n",
    "cl.DrawLine(1.76, 1.76+0.16, 1.91, 1.91+0.16)\n",
    "c.Draw()"
   ]
  },
  {
   "cell_type": "code",
   "execution_count": 44,
   "metadata": {
    "ExecuteTime": {
     "end_time": "2019-11-04T22:15:56.507449Z",
     "start_time": "2019-11-04T22:15:54.115795Z"
    }
   },
   "outputs": [
    {
     "data": {
      "image/png": "[encoded data removed]",
      "text/plain": [
       "<IPython.core.display.Image object>"
      ]
     },
     "metadata": {},
     "output_type": "display_data"
    }
   ],
   "source": [
    "h = create_TH1D(np.zeros(0), name='h',\n",
    "                title='',\n",
    "                axis_title=['m(#piK) [GeV]', 'Events'],\n",
    "                binning=[70, 1.75, 1.93]\n",
    "               )\n",
    "tree.Project('h', 'mass_piK', cut_str)\n",
    "h.Sumw2()\n",
    "\n",
    "h2 = create_TH1D(np.zeros(0), name='h2', binning=h.binning)\n",
    "tree.Project('h2', 'mass_piK', cut_str + ' && mass_D0pis < mass_piK + 0.16')\n",
    "h2.Sumw2()\n",
    "h2.SetLineColor(rt.kRed)\n",
    "\n",
    "c = drawOnCMSCanvas(CMS_lumi, [h, h2], 'same')\n",
    "c.Draw()\n",
    "h.GetYaxis().SetRangeUser(0.9, 1.2*h.GetMaximum())"
   ]
  },
  {
   "cell_type": "code",
   "execution_count": 53,
   "metadata": {
    "ExecuteTime": {
     "end_time": "2019-11-04T22:28:03.918745Z",
     "start_time": "2019-11-04T22:28:03.901348Z"
    }
   },
   "outputs": [
    {
     "data": {
      "text/plain": [
       "['pval_piK > 0.1',\n",
       " 'K_pt > 0.8',\n",
       " 'pi_eta < 2.5',\n",
       " 'K_eta < 2.5',\n",
       " 'abs(mass_piK - 1.86) < 0.04',\n",
       " 'pi_eta > -2.5',\n",
       " 'K_eta > -2.5',\n",
       " 'mass_D0pis < mass_piK + 0.16',\n",
       " 'pi_pt > 0.8']"
      ]
     },
     "execution_count": 53,
     "metadata": {},
     "output_type": "execute_result"
    }
   ],
   "source": [
    "cut_piK += ['mass_D0pis < mass_piK + 0.16', 'abs(mass_piK - 1.86) < 0.04']\n",
    "cut_piK = list(dict.fromkeys(cut_piK))\n",
    "cut_piK"
   ]
  },
  {
   "cell_type": "markdown",
   "metadata": {},
   "source": [
    "# $D^*$ Recostruction"
   ]
  },
  {
   "cell_type": "code",
   "execution_count": 60,
   "metadata": {
    "ExecuteTime": {
     "end_time": "2019-11-04T22:29:53.914823Z",
     "start_time": "2019-11-04T22:29:53.898491Z"
    }
   },
   "outputs": [],
   "source": [
    "cut_D0pis = [\n",
    "'pis_refitD0pismu_pt > 0.5',\n",
    "'sigdxy_pis_PV > 2',\n",
    "'pval_D0pis > 0.1'\n",
    "]"
   ]
  },
  {
   "cell_type": "code",
   "execution_count": 61,
   "metadata": {
    "ExecuteTime": {
     "end_time": "2019-11-04T22:29:54.159134Z",
     "start_time": "2019-11-04T22:29:54.143307Z"
    }
   },
   "outputs": [
    {
     "name": "stdout",
     "output_type": "stream",
     "text": [
      "n_B == 1 && trgMu_pt > 13 && trgMu_sigdxy > 6.5 && pval_piK > 0.1 && K_pt > 0.8 && pi_eta < 2.5 && K_eta < 2.5 && abs(mass_piK - 1.86) < 0.04 && pi_eta > -2.5 && K_eta > -2.5 && mass_D0pis < mass_piK + 0.16 && pi_pt > 0.8 && pis_refitD0pismu_pt > 0.5 && sigdxy_pis_PV > 2 && pval_D0pis > 0.1\n"
     ]
    }
   ],
   "source": [
    "cut_str = ' && '.join(cut_general + cut_piK + cut_D0pis)\n",
    "print cut_str"
   ]
  },
  {
   "cell_type": "code",
   "execution_count": 62,
   "metadata": {
    "ExecuteTime": {
     "end_time": "2019-11-04T22:29:58.026483Z",
     "start_time": "2019-11-04T22:29:54.410887Z"
    }
   },
   "outputs": [
    {
     "data": {
      "image/png": "[encoded data removed]",
      "text/plain": [
       "<IPython.core.display.Image object>"
      ]
     },
     "metadata": {},
     "output_type": "display_data"
    }
   ],
   "source": [
    "h = create_TH1D(np.zeros(0), name='h',\n",
    "                title='',\n",
    "                axis_title=['m(D_{0}#pi_{s}) [GeV]', 'Events'],\n",
    "                binning=[100, 1.95, 2.07]\n",
    "               )\n",
    "tree.Project('h', 'mass_D0pis', cut_str)\n",
    "h.Sumw2()\n",
    "\n",
    "h2 = create_TH1D(np.zeros(0), name='h2', binning=h.binning)\n",
    "tree.Project('h2', 'mass_D0pis', cut_str + '&& sigdxy_vtxD0pismu_PV > 3')\n",
    "h2.Sumw2()\n",
    "h2.SetLineColor(rt.kBlue)\n",
    "\n",
    "c = drawOnCMSCanvas(CMS_lumi, [h, h2], 'same')\n",
    "c.Draw()\n",
    "# c.SetLogy()\n",
    "h.GetYaxis().SetRangeUser(0.9, 1.2*h.GetMaximum())"
   ]
  },
  {
   "cell_type": "code",
   "execution_count": 63,
   "metadata": {
    "ExecuteTime": {
     "end_time": "2019-11-04T22:33:06.142784Z",
     "start_time": "2019-11-04T22:33:06.126412Z"
    }
   },
   "outputs": [
    {
     "name": "stdout",
     "output_type": "stream",
     "text": [
      "['pis_refitD0pismu_pt > 0.5', 'pval_D0pis > 0.1', 'abs(mass_D0pis - 2.01) < 0.03', 'sigdxy_pis_PV > 2']\n"
     ]
    }
   ],
   "source": [
    "cut_D0pis += ['abs(mass_D0pis - 2.01) < 0.03']\n",
    "cut_D0pis = list(dict.fromkeys(cut_D0pis))\n",
    "print cut_D0pis"
   ]
  },
  {
   "cell_type": "markdown",
   "metadata": {},
   "source": [
    "# Full analysis"
   ]
  },
  {
   "cell_type": "code",
   "execution_count": 98,
   "metadata": {
    "ExecuteTime": {
     "end_time": "2019-11-04T23:52:02.255956Z",
     "start_time": "2019-11-04T23:52:02.238917Z"
    }
   },
   "outputs": [
    {
     "name": "stdout",
     "output_type": "stream",
     "text": [
      "['pval_D0pismu > 0.1']\n"
     ]
    }
   ],
   "source": [
    "cut_B = [\n",
    "    'pval_D0pismu > 0.1'\n",
    "]\n",
    "print cut_B\n",
    "\n",
    "cut_str = ' && '.join(cut_general + cut_piK + cut_D0pis + cut_B)"
   ]
  },
  {
   "cell_type": "code",
   "execution_count": 99,
   "metadata": {
    "ExecuteTime": {
     "end_time": "2019-11-04T23:52:04.433504Z",
     "start_time": "2019-11-04T23:52:02.463711Z"
    }
   },
   "outputs": [
    {
     "data": {
      "image/png": "[encoded data removed]",
      "text/plain": [
       "<IPython.core.display.Image object>"
      ]
     },
     "metadata": {},
     "output_type": "display_data"
    }
   ],
   "source": [
    "h = create_TH1D(np.zeros(0), name='h',\n",
    "                title='',\n",
    "                axis_title=['m(#muD_{0}#pi_{s}) [GeV]', 'Events'],\n",
    "                binning=[100, 2, 6]\n",
    "               )\n",
    "tree.Project('h', 'mass_D0pismu', cut_str)\n",
    "h.Sumw2()\n",
    "   \n",
    "c = drawOnCMSCanvas(CMS_lumi, [h], 'same')\n",
    "c.Draw()"
   ]
  },
  {
   "cell_type": "code",
   "execution_count": 100,
   "metadata": {
    "ExecuteTime": {
     "end_time": "2019-11-04T23:52:06.603171Z",
     "start_time": "2019-11-04T23:52:04.437535Z"
    }
   },
   "outputs": [
    {
     "name": "stdout",
     "output_type": "stream",
     "text": [
      "116915.0\n"
     ]
    },
    {
     "data": {
      "image/png": "[encoded data removed]",
      "text/plain": [
       "<IPython.core.display.Image object>"
      ]
     },
     "metadata": {},
     "output_type": "display_data"
    }
   ],
   "source": [
    "h = create_TH2D(np.zeros((2,2)), name='h',\n",
    "                title='',\n",
    "                axis_title=['m(#pi^{-}K^{+}) [GeV]', 'm(D_{0}#pi_{s}) [GeV]', 'Events'],\n",
    "                binning=[np.linspace(2, 5.5, 50), np.logspace(-6, 0.5, 50)]\n",
    "               )\n",
    "tree.Project('h', '1-cos_D0pismu_PV:mass_D0pismu', cut_str)\n",
    "h.Sumw2()\n",
    "print h.GetEntries()\n",
    "                         \n",
    "c = drawOnCMSCanvas(CMS_lumi, [h], ['colz'])\n",
    "# cl.DrawLine(1.76, 1.76+0.16, 1.91, 1.91+0.16)\n",
    "c.SetLogy()\n",
    "c.Draw()"
   ]
  },
  {
   "cell_type": "code",
   "execution_count": 101,
   "metadata": {
    "ExecuteTime": {
     "end_time": "2019-11-04T23:52:08.763691Z",
     "start_time": "2019-11-04T23:52:06.607352Z"
    }
   },
   "outputs": [
    {
     "name": "stdout",
     "output_type": "stream",
     "text": [
      "116915.0\n"
     ]
    },
    {
     "data": {
      "image/png": "[encoded data removed]",
      "text/plain": [
       "<IPython.core.display.Image object>"
      ]
     },
     "metadata": {},
     "output_type": "display_data"
    }
   ],
   "source": [
    "h = create_TH2D(np.zeros((2,2)), name='h',\n",
    "                title='',\n",
    "                axis_title=['m(#pi^{-}K^{+}) [GeV]', 'm(D_{0}#pi_{s}) [GeV]', 'Events'],\n",
    "                binning=[np.linspace(2, 5.5, 50), np.logspace(-8, 0.5, 50)]\n",
    "               )\n",
    "tree.Project('h', '1-cosT_D0pismu_PV:mass_D0pismu', cut_str)\n",
    "h.Sumw2()\n",
    "print h.GetEntries()\n",
    "                         \n",
    "c = drawOnCMSCanvas(CMS_lumi, [h], ['colz'])\n",
    "# cl.DrawLine(1.76, 1.76+0.16, 1.91, 1.91+0.16)\n",
    "c.SetLogy()\n",
    "c.Draw()"
   ]
  },
  {
   "cell_type": "code",
   "execution_count": 102,
   "metadata": {
    "ExecuteTime": {
     "end_time": "2019-11-04T23:52:08.782304Z",
     "start_time": "2019-11-04T23:52:08.767798Z"
    }
   },
   "outputs": [
    {
     "name": "stdout",
     "output_type": "stream",
     "text": [
      "['pval_D0pismu > 0.1', 'cos_D0pismu_PV > 0.99']\n"
     ]
    }
   ],
   "source": [
    "cut_B += ['cos_D0pismu_PV > 0.99']\n",
    "cut_B = list(dict.fromkeys(cut_B))\n",
    "print cut_B"
   ]
  },
  {
   "cell_type": "code",
   "execution_count": 103,
   "metadata": {
    "ExecuteTime": {
     "end_time": "2019-11-04T23:52:08.802239Z",
     "start_time": "2019-11-04T23:52:08.786323Z"
    }
   },
   "outputs": [
    {
     "name": "stdout",
     "output_type": "stream",
     "text": [
      "n_B == 1\n",
      "trgMu_pt > 13\n",
      "trgMu_sigdxy > 6.5\n",
      "pval_piK > 0.1\n",
      "K_pt > 0.8\n",
      "pi_eta < 2.5\n",
      "K_eta < 2.5\n",
      "abs(mass_piK - 1.86) < 0.04\n",
      "pi_eta > -2.5\n",
      "K_eta > -2.5\n",
      "mass_D0pis < mass_piK + 0.16\n",
      "pi_pt > 0.8\n",
      "pis_refitD0pismu_pt > 0.5\n",
      "pval_D0pis > 0.1\n",
      "abs(mass_D0pis - 2.01) < 0.03\n",
      "sigdxy_pis_PV > 2\n",
      "pval_D0pismu > 0.1\n",
      "cos_D0pismu_PV > 0.99\n",
      "n_B == 1 && trgMu_pt > 13 && trgMu_sigdxy > 6.5 && pval_piK > 0.1 && K_pt > 0.8 && pi_eta < 2.5 && K_eta < 2.5 && abs(mass_piK - 1.86) < 0.04 && pi_eta > -2.5 && K_eta > -2.5 && mass_D0pis < mass_piK + 0.16 && pi_pt > 0.8 && pis_refitD0pismu_pt > 0.5 && pval_D0pis > 0.1 && abs(mass_D0pis - 2.01) < 0.03 && sigdxy_pis_PV > 2 && pval_D0pismu > 0.1 && cos_D0pismu_PV > 0.99\n"
     ]
    }
   ],
   "source": [
    "final_cuts = cut_general + cut_piK + cut_D0pis + cut_B\n",
    "cut_str = ' && '.join(final_cuts)\n",
    "print '\\n'.join(final_cuts)\n",
    "\n",
    "print cut_str"
   ]
  },
  {
   "cell_type": "code",
   "execution_count": 104,
   "metadata": {
    "ExecuteTime": {
     "end_time": "2019-11-05T02:02:38.530505Z",
     "start_time": "2019-11-05T02:02:36.583562Z"
    }
   },
   "outputs": [
    {
     "data": {
      "text/plain": [
       "104817L"
      ]
     },
     "execution_count": 104,
     "metadata": {},
     "output_type": "execute_result"
    }
   ],
   "source": [
    "tree.GetEntries(cut_str)"
   ]
  },
  {
   "cell_type": "code",
   "execution_count": null,
   "metadata": {},
   "outputs": [],
   "source": []
  }
 ],
 "metadata": {
  "kernelspec": {
   "display_name": "Python 2",
   "language": "python",
   "name": "python2"
  },
  "language_info": {
   "codemirror_mode": {
    "name": "ipython",
    "version": 2
   },
   "file_extension": ".py",
   "mimetype": "text/x-python",
   "name": "python",
   "nbconvert_exporter": "python",
   "pygments_lexer": "ipython2",
   "version": "2.7.14+"
  }
 },
 "nbformat": 4,
 "nbformat_minor": 2
}
