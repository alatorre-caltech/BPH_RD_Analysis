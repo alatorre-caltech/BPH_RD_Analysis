{
 "cells": [
  {
   "cell_type": "code",
   "execution_count": 1,
   "metadata": {
    "ExecuteTime": {
     "end_time": "2019-10-29T23:42:06.156175Z",
     "start_time": "2019-10-29T23:42:03.977572Z"
    }
   },
   "outputs": [
    {
     "name": "stdout",
     "output_type": "stream",
     "text": [
      "Welcome to JupyROOT 6.10/08\n"
     ]
    }
   ],
   "source": [
    "import numpy as np\n",
    "import scipy.stats as sps\n",
    "from glob import glob\n",
    "import matplotlib.pyplot as plt\n",
    "import uproot as ur\n",
    "import ROOT as rt\n",
    "import ROOT.RooFit as rf\n",
    "from scipy.special import erf\n",
    "import sys, os\n",
    "sys.path.append('../lib')\n",
    "from histo_utilities import create_TH1D, create_TH2D, std_color_list, SetMaxToMaxHist, make_ratio_plot\n",
    "from cebefo_style import Set_2D_colz_graphics\n",
    "from progressBar import ProgressBar\n",
    "\n",
    "from analysis_utilities import drawOnCMSCanvas, extarct, extarct_multiple, createSel\n",
    "from lumi_utilities import getLumiReport\n",
    "\n",
    "import CMS_lumi, tdrstyle\n",
    "tdrstyle.setTDRStyle()\n",
    "CMS_lumi.writeExtraText = 1\n",
    "CMS_lumi.extraText = \"     Preliminary\"\n",
    "\n",
    "donotdelete = []"
   ]
  },
  {
   "cell_type": "code",
   "execution_count": 2,
   "metadata": {
    "ExecuteTime": {
     "end_time": "2019-10-29T23:42:06.198339Z",
     "start_time": "2019-10-29T23:42:06.160227Z"
    }
   },
   "outputs": [],
   "source": [
    "rt.gErrorIgnoreLevel = rt.kError\n",
    "rt.RooMsgService.instance().setGlobalKillBelow(rt.RooFit.ERROR)"
   ]
  },
  {
   "cell_type": "code",
   "execution_count": 3,
   "metadata": {
    "ExecuteTime": {
     "end_time": "2019-10-29T23:42:06.217558Z",
     "start_time": "2019-10-29T23:42:06.202939Z"
    }
   },
   "outputs": [
    {
     "name": "stdout",
     "output_type": "stream",
     "text": [
      "mD* - mD0 = 0.14543\n"
     ]
    }
   ],
   "source": [
    "m_pi = 0.13957\n",
    "m_K = 0.49368\n",
    "m_D0 = 1.86483 #1e-3*Particle.from_string('D0').mass\n",
    "m_Dst = 2.01026 #1e-3*Particle.from_string('D*+').mass\n",
    "m_B0 = 5.27963 #1e-3*Particle.from_string('B0').mass\n",
    "m_pi = 0.13957018 #1e-3*Particle.from_string('pi+').mass\n",
    "print 'mD* - mD0 =', m_Dst - m_D0"
   ]
  },
  {
   "cell_type": "code",
   "execution_count": 4,
   "metadata": {
    "ExecuteTime": {
     "end_time": "2019-10-29T23:42:06.255264Z",
     "start_time": "2019-10-29T23:42:06.222483Z"
    }
   },
   "outputs": [],
   "source": [
    "cl = rt.TLine()\n",
    "cl.SetLineColor(6)\n",
    "cl.SetLineStyle(9)\n",
    "cl.SetLineWidth(2)"
   ]
  },
  {
   "cell_type": "code",
   "execution_count": 5,
   "metadata": {
    "ExecuteTime": {
     "end_time": "2019-10-29T23:42:06.275816Z",
     "start_time": "2019-10-29T23:42:06.259191Z"
    }
   },
   "outputs": [],
   "source": [
    "import operator\n",
    "ops = {'>': operator.gt, '<': operator.lt, }"
   ]
  },
  {
   "cell_type": "markdown",
   "metadata": {},
   "source": [
    "# Load data"
   ]
  },
  {
   "cell_type": "code",
   "execution_count": 6,
   "metadata": {
    "ExecuteTime": {
     "end_time": "2019-10-29T23:42:06.296980Z",
     "start_time": "2019-10-29T23:42:06.280184Z"
    }
   },
   "outputs": [],
   "source": [
    "dataDir = '../data/cmsRD'\n",
    "datasets_loc = []\n",
    "\n",
    "datasets_loc += glob(dataDir + '/ParkingBPH1/*2018D-*B2DstMu_191025*')"
   ]
  },
  {
   "cell_type": "code",
   "execution_count": 7,
   "metadata": {
    "ExecuteTime": {
     "end_time": "2019-10-29T23:42:13.165714Z",
     "start_time": "2019-10-29T23:42:13.137687Z"
    }
   },
   "outputs": [
    {
     "name": "stdout",
     "output_type": "stream",
     "text": [
      "Lumi tot: 5.1 fb^-1\n",
      "Lumi analyzed: 12.6%\n"
     ]
    }
   ],
   "source": [
    "lumi_tot, lumi_dic = getLumiReport(datasets_loc)\n",
    "CMS_lumi.integrated_lumi = lumi_tot"
   ]
  },
  {
   "cell_type": "code",
   "execution_count": 8,
   "metadata": {
    "ExecuteTime": {
     "end_time": "2019-10-29T23:42:20.371172Z",
     "start_time": "2019-10-29T23:42:19.925708Z"
    }
   },
   "outputs": [
    {
     "name": "stdout",
     "output_type": "stream",
     "text": [
      "N evts: 521699\n"
     ]
    }
   ],
   "source": [
    "tree = rt.TChain('outA/Tevts')\n",
    "\n",
    "for floc in datasets_loc:\n",
    "   tree.Add(floc)\n",
    "\n",
    "print 'N evts: {:.0f}'.format(tree.GetEntries())"
   ]
  },
  {
   "cell_type": "markdown",
   "metadata": {},
   "source": [
    "# Cuts declaration"
   ]
  },
  {
   "cell_type": "code",
   "execution_count": 9,
   "metadata": {
    "ExecuteTime": {
     "end_time": "2019-10-29T23:43:02.704343Z",
     "start_time": "2019-10-29T23:43:02.688475Z"
    }
   },
   "outputs": [],
   "source": [
    "cut_general = [\n",
    "    'n_B == 1',\n",
    "    'trgMu_pt > 13',\n",
    "    'trgMu_sigdxy > 6.5'\n",
    "]"
   ]
  },
  {
   "cell_type": "markdown",
   "metadata": {},
   "source": [
    "# $D_0$ reconstruction"
   ]
  },
  {
   "cell_type": "code",
   "execution_count": 10,
   "metadata": {
    "ExecuteTime": {
     "end_time": "2019-10-29T23:43:06.448921Z",
     "start_time": "2019-10-29T23:43:06.442669Z"
    }
   },
   "outputs": [],
   "source": [
    "cut_piK = [\n",
    "####----- Trigger-like cuts -----#\n",
    "'K_pt > 0.8',\n",
    "'pi_pt > 0.8',\n",
    "'pval_piK > 0.1',\n",
    "'K_eta > -2.5',\n",
    "'pi_eta > -2.5',\n",
    "'K_eta < 2.5',\n",
    "'pi_eta < 2.5',\n",
    "    \n",
    "# 'cosT_Jpsi_PV > 0.95',\n",
    "# 'sigdxy_K_PV > 2',\n",
    "# 'mup_dxy < 2',\n",
    "]"
   ]
  },
  {
   "cell_type": "code",
   "execution_count": 11,
   "metadata": {
    "ExecuteTime": {
     "end_time": "2019-10-29T23:43:08.235169Z",
     "start_time": "2019-10-29T23:43:08.218147Z"
    }
   },
   "outputs": [
    {
     "name": "stdout",
     "output_type": "stream",
     "text": [
      "n_B == 1 && trgMu_pt > 13 && trgMu_sigdxy > 6.5 && K_pt > 0.8 && pi_pt > 0.8 && pval_piK > 0.1 && K_eta > -2.5 && pi_eta > -2.5 && K_eta < 2.5 && pi_eta < 2.5\n"
     ]
    }
   ],
   "source": [
    "cut_str = ' && '.join(cut_general + cut_piK)\n",
    "print cut_str"
   ]
  },
  {
   "cell_type": "code",
   "execution_count": 12,
   "metadata": {
    "ExecuteTime": {
     "end_time": "2019-10-29T23:43:16.998449Z",
     "start_time": "2019-10-29T23:43:10.702497Z"
    }
   },
   "outputs": [
    {
     "data": {
      "image/png": "[encoded data removed]",
      "text/plain": [
       "<IPython.core.display.Image object>"
      ]
     },
     "metadata": {},
     "output_type": "display_data"
    }
   ],
   "source": [
    "h = create_TH1D(np.zeros(0), name='h',\n",
    "                title='',\n",
    "                axis_title=['m(#piK) [GeV]', 'Events'],\n",
    "                binning=[70, 1.75, 1.93]\n",
    "               )\n",
    "tree.Project('h', 'mass_piK', cut_str)\n",
    "h.Sumw2()\n",
    "\n",
    "h2 = create_TH1D(np.zeros(0), name='h2', binning=h.binning)\n",
    "tree.Project('h2', 'mass_piK', cut_str + ' && D0_refitD0pismu_pt > 5')\n",
    "h2.Sumw2()\n",
    "h2.SetLineColor(rt.kRed)\n",
    "\n",
    "h3 = create_TH1D(np.zeros(0), name='h3', binning=h.binning)\n",
    "tree.Project('h3', 'mass_piK', cut_str + ' && pi_N_valid_hits > 12')\n",
    "h3.Sumw2()\n",
    "h3.SetLineColor(rt.kGreen)\n",
    "\n",
    "c = drawOnCMSCanvas(CMS_lumi, [h, h2, h3], 'same')\n",
    "c.Draw()\n",
    "h.GetYaxis().SetRangeUser(0.9, 1.2*h.GetMaximum())"
   ]
  },
  {
   "cell_type": "code",
   "execution_count": 13,
   "metadata": {
    "ExecuteTime": {
     "end_time": "2019-10-29T23:47:49.389501Z",
     "start_time": "2019-10-29T23:47:16.373152Z"
    }
   },
   "outputs": [],
   "source": [
    "m_piK = []\n",
    "m_KK = []\n",
    "m_pipi = []\n",
    "m_Kpi = []\n",
    "\n",
    "\n",
    "for i_ev, ev in enumerate(tree):\n",
    "    if i_ev == 200000: break\n",
    "    if ev.n_B > 1: continue\n",
    "    for i in range(len(ev.pval_piK)):\n",
    "        accept = True\n",
    "        for c_str in cut_piK:\n",
    "            aux = c_str.split(' ')\n",
    "            if len(aux) != 3:\n",
    "                raise\n",
    "            x = getattr(ev, aux[0])[i]\n",
    "            accept = ops[aux[1]](x, float(aux[2]))\n",
    "            if not accept: break\n",
    "        if not accept: continue\n",
    "        \n",
    "        p1 = rt.TVector3(ev.pi_pt[i]*np.cos(ev.pi_phi[i]), ev.pi_pt[i]*np.sin(ev.pi_phi[i]), ev.pi_pz[i])\n",
    "        p2 = rt.TVector3(ev.K_pt[i]*np.cos(ev.K_phi[i]), ev.K_pt[i]*np.sin(ev.K_phi[i]), ev.K_pz[i])\n",
    "        \n",
    "        v1 = rt.TLorentzVector()\n",
    "        v2 = rt.TLorentzVector()\n",
    "        \n",
    "        v1.SetVectM(p1, m_pi)\n",
    "        v2.SetVectM(p2, m_K)\n",
    "        m_piK.append((v1 + v2).M())\n",
    "        \n",
    "        v1.SetVectM(p1, m_K)\n",
    "        v2.SetVectM(p2, m_K)\n",
    "        m_KK.append((v1 + v2).M())\n",
    "        \n",
    "        v1.SetVectM(p1, m_pi)\n",
    "        v2.SetVectM(p2, m_pi)\n",
    "        m_pipi.append((v1 + v2).M())\n",
    "        \n",
    "        v1.SetVectM(p1, m_K)\n",
    "        v2.SetVectM(p2, m_pi)\n",
    "        m_Kpi.append((v1 + v2).M())\n",
    "        \n",
    "m_piK = np.array(m_piK)\n",
    "m_KK = np.array(m_KK)\n",
    "m_pipi = np.array(m_pipi)\n",
    "m_Kpi = np.array(m_Kpi)"
   ]
  },
  {
   "cell_type": "code",
   "execution_count": 14,
   "metadata": {
    "ExecuteTime": {
     "end_time": "2019-10-29T23:47:49.444644Z",
     "start_time": "2019-10-29T23:47:49.393483Z"
    }
   },
   "outputs": [
    {
     "data": {
      "image/png": "[encoded data removed]",
      "text/plain": [
       "<IPython.core.display.Image object>"
      ]
     },
     "metadata": {},
     "output_type": "display_data"
    }
   ],
   "source": [
    "h = create_TH1D(m_piK, name='h',\n",
    "                title='',\n",
    "                axis_title=['m(#piK) [GeV]', 'Events'],\n",
    "                binning=[70, 1.76, 1.92]\n",
    "               )\n",
    "h.Sumw2()\n",
    "\n",
    "h2 = create_TH1D(m_piK[m_KK > 1.91], name='h2', binning=h.binning)\n",
    "h2.Sumw2()\n",
    "h2.SetLineColor(2)\n",
    "\n",
    "c = drawOnCMSCanvas(CMS_lumi, [h, h2], 'same')\n",
    "c.Draw()"
   ]
  },
  {
   "cell_type": "code",
   "execution_count": 15,
   "metadata": {
    "ExecuteTime": {
     "end_time": "2019-10-29T23:47:49.502544Z",
     "start_time": "2019-10-29T23:47:49.447378Z"
    }
   },
   "outputs": [
    {
     "data": {
      "image/png": "[encoded data removed]",
      "text/plain": [
       "<IPython.core.display.Image object>"
      ]
     },
     "metadata": {},
     "output_type": "display_data"
    }
   ],
   "source": [
    "h = create_TH2D(np.column_stack((m_piK, m_KK)), name='h',\n",
    "                title='',\n",
    "                axis_title=['m(#piK) [GeV]', 'm(KK) [GeV]', 'Events'],\n",
    "                binning=[70, 1.76, 1.92, 70, 1.8, 2.6]\n",
    "               )\n",
    "h.Sumw2()\n",
    "c = drawOnCMSCanvas(CMS_lumi, [h], ['colz'])\n",
    "c.Draw()"
   ]
  },
  {
   "cell_type": "code",
   "execution_count": 26,
   "metadata": {
    "ExecuteTime": {
     "end_time": "2019-10-29T23:49:00.372337Z",
     "start_time": "2019-10-29T23:49:00.324555Z"
    }
   },
   "outputs": [
    {
     "data": {
      "image/png": "[encoded data removed]",
      "text/plain": [
       "<IPython.core.display.Image object>"
      ]
     },
     "metadata": {},
     "output_type": "display_data"
    }
   ],
   "source": [
    "h = create_TH2D(np.column_stack((m_piK, m_pipi)), name='h',\n",
    "                title='',\n",
    "                axis_title=['m(#piK) [GeV]', 'm(#pi#pi) [GeV]', 'Events'],\n",
    "                binning=[70, 1.76, 1.92, 70, 0.5, 2.]\n",
    "               )\n",
    "h.Sumw2()\n",
    "c = drawOnCMSCanvas(CMS_lumi, [h], ['colz'])\n",
    "c.Draw()"
   ]
  },
  {
   "cell_type": "code",
   "execution_count": 29,
   "metadata": {
    "ExecuteTime": {
     "end_time": "2019-10-29T23:50:06.319948Z",
     "start_time": "2019-10-29T23:50:06.270638Z"
    }
   },
   "outputs": [
    {
     "data": {
      "image/png": "[encoded data removed]",
      "text/plain": [
       "<IPython.core.display.Image object>"
      ]
     },
     "metadata": {},
     "output_type": "display_data"
    }
   ],
   "source": [
    "h = create_TH2D(np.column_stack((m_piK, m_Kpi)), name='h',\n",
    "                title='',\n",
    "                axis_title=['m(#piK) [GeV]', 'm(K#pi) [GeV]', 'Events'],\n",
    "                binning=[70, 1.76, 1.92, 70, 0.5, 2.4]\n",
    "               )\n",
    "h.Sumw2()\n",
    "c = drawOnCMSCanvas(CMS_lumi, [h], ['colz'])\n",
    "c.Draw()"
   ]
  },
  {
   "cell_type": "code",
   "execution_count": 16,
   "metadata": {
    "ExecuteTime": {
     "end_time": "2019-10-29T23:47:49.543404Z",
     "start_time": "2019-10-29T23:47:49.506572Z"
    }
   },
   "outputs": [
    {
     "data": {
      "image/png": "[encoded data removed]",
      "text/plain": [
       "<IPython.core.display.Image object>"
      ]
     },
     "metadata": {},
     "output_type": "display_data"
    }
   ],
   "source": [
    "h = create_TH1D(m_Kpi, name='h',\n",
    "                title='',\n",
    "                axis_title=['m(K#pi) [GeV]', 'Events'],\n",
    "                binning=[70, 0.7, 2.6]\n",
    "               )\n",
    "h.Sumw2()\n",
    "c = drawOnCMSCanvas(CMS_lumi, [h], 'same')\n",
    "c.Draw()"
   ]
  },
  {
   "cell_type": "code",
   "execution_count": 17,
   "metadata": {
    "ExecuteTime": {
     "end_time": "2019-10-29T23:47:49.591973Z",
     "start_time": "2019-10-29T23:47:49.547660Z"
    }
   },
   "outputs": [
    {
     "data": {
      "image/png": "[encoded data removed]",
      "text/plain": [
       "<IPython.core.display.Image object>"
      ]
     },
     "metadata": {},
     "output_type": "display_data"
    }
   ],
   "source": [
    "h = create_TH1D(m_KK, name='h',\n",
    "                title='',\n",
    "                axis_title=['m(KK) [GeV]', 'Events'],\n",
    "                binning=[70, 1.8, 2.6]\n",
    "               )\n",
    "h.Sumw2()\n",
    "c = drawOnCMSCanvas(CMS_lumi, [h], 'same')\n",
    "c.Draw()"
   ]
  },
  {
   "cell_type": "code",
   "execution_count": 18,
   "metadata": {
    "ExecuteTime": {
     "end_time": "2019-10-29T23:47:49.633729Z",
     "start_time": "2019-10-29T23:47:49.595975Z"
    }
   },
   "outputs": [
    {
     "data": {
      "image/png": "[encoded data removed]",
      "text/plain": [
       "<IPython.core.display.Image object>"
      ]
     },
     "metadata": {},
     "output_type": "display_data"
    }
   ],
   "source": [
    "h = create_TH1D(m_pipi, name='h',\n",
    "                title='',\n",
    "                axis_title=['m(#pi#pi) [GeV]', 'Events'],\n",
    "                binning=[70, 0.5, 1.85]\n",
    "               )\n",
    "h.Sumw2()\n",
    "c = drawOnCMSCanvas(CMS_lumi, [h], 'same')\n",
    "c.Draw()"
   ]
  },
  {
   "cell_type": "code",
   "execution_count": 19,
   "metadata": {
    "ExecuteTime": {
     "end_time": "2019-10-29T23:47:52.432372Z",
     "start_time": "2019-10-29T23:47:49.637979Z"
    }
   },
   "outputs": [
    {
     "data": {
      "image/png": "[encoded data removed]",
      "text/plain": [
       "<IPython.core.display.Image object>"
      ]
     },
     "metadata": {},
     "output_type": "display_data"
    }
   ],
   "source": [
    "h = create_TH1D(np.zeros(0), name='h',\n",
    "                title='',\n",
    "                axis_title=['m(#piK) [GeV]', 'Events'],\n",
    "                binning=[100, 1.75, 1.93]\n",
    "               )\n",
    "tree.Project('h', 'mass_piK', cut_str + ' && pval_D0pismu > 0.1')\n",
    "h.Sumw2()\n",
    "f_fit = rt.TF1('f_fit', '[0] + x*[1] + gaus(2)', 1.78, 1.9)\n",
    "f_fit.SetParameter(0, h.GetBinContent(1))\n",
    "f_fit.SetParameter(1, (h.GetBinContent(100) - h.GetBinContent(1))/(h.binning[2] - h.binning[1]))\n",
    "f_fit.SetParameter(2, h.GetMaximum())\n",
    "f_fit.SetParameter(3, m_D0)\n",
    "f_fit.SetParameter(4, 0.05)\n",
    "h.Fit(f_fit, 'LSRQ')\n",
    "\n",
    "m_mumu_min = f_fit.GetParameter(3) - 3*f_fit.GetParameter(4)\n",
    "m_mumu_max = f_fit.GetParameter(3) + 3*f_fit.GetParameter(4)\n",
    "\n",
    "c = drawOnCMSCanvas(CMS_lumi, [h], 'same')\n",
    "cl.DrawLine(m_mumu_min, 0, m_mumu_min, 1.1*h.GetMaximum())\n",
    "cl.DrawLine(m_mumu_max, 0, m_mumu_max, 1.1*h.GetMaximum())\n",
    "c.Draw()"
   ]
  },
  {
   "cell_type": "markdown",
   "metadata": {
    "heading_collapsed": true
   },
   "source": [
    "# $D^*$ Recostruction"
   ]
  },
  {
   "cell_type": "code",
   "execution_count": null,
   "metadata": {
    "ExecuteTime": {
     "end_time": "2019-10-29T02:16:20.539799Z",
     "start_time": "2019-10-29T02:16:20.523002Z"
    },
    "hidden": true
   },
   "outputs": [],
   "source": [
    "cut_pis = [\n",
    "'pis_refitD0pismu_pt > 0.5',\n",
    "'sigdxy_pis_PV > 2',\n",
    "'pval_D0pis > 0.1'\n",
    "]"
   ]
  },
  {
   "cell_type": "code",
   "execution_count": null,
   "metadata": {
    "ExecuteTime": {
     "end_time": "2019-10-29T02:16:20.983054Z",
     "start_time": "2019-10-29T02:16:20.967358Z"
    },
    "hidden": true
   },
   "outputs": [],
   "source": [
    "cut_str = ' && '.join(cut_general + cut_piK + cut_pis)\n",
    "print cut_str"
   ]
  },
  {
   "cell_type": "code",
   "execution_count": null,
   "metadata": {
    "ExecuteTime": {
     "end_time": "2019-10-29T02:25:32.917367Z",
     "start_time": "2019-10-29T02:25:27.425642Z"
    },
    "hidden": true
   },
   "outputs": [],
   "source": [
    "h = create_TH1D(np.zeros(0), name='h',\n",
    "                title='',\n",
    "                axis_title=['m(D_{0}#pi_{s}) [GeV]', 'Events'],\n",
    "                binning=[100, 1.95, 2.07]\n",
    "               )\n",
    "tree.Project('h', 'mass_D0pis', cut_str)\n",
    "h.Sumw2()\n",
    "\n",
    "h2 = create_TH1D(np.zeros(0), name='h2', binning=h.binning)\n",
    "tree.Project('h2', 'mass_D0pis', cut_str + '&& sigdxy_vtxD0pismu_PV > 3')\n",
    "h2.Sumw2()\n",
    "h2.SetLineColor(rt.kBlue)\n",
    "\n",
    "h3 = create_TH1D(np.zeros(0), name='h3', binning=h.binning)\n",
    "tree.Project('h3', 'mass_D0pis', cut_str + '&& abs(mass_piK - 1.86) < 0.04')\n",
    "h3.Sumw2()\n",
    "h3.SetLineColor(rt.kRed)\n",
    "\n",
    "\n",
    "c = drawOnCMSCanvas(CMS_lumi, [h, h2, h3], 'same')\n",
    "c.Draw()\n",
    "# c.SetLogy()\n",
    "h.GetYaxis().SetRangeUser(0.9, 1.2*h.GetMaximum())"
   ]
  },
  {
   "cell_type": "code",
   "execution_count": null,
   "metadata": {
    "ExecuteTime": {
     "end_time": "2019-10-18T21:30:20.219070Z",
     "start_time": "2019-10-18T21:30:20.204563Z"
    },
    "hidden": true
   },
   "outputs": [],
   "source": [
    "cut_piK += [\n",
    "    'sigdxy_vtxKst_PV > 5',\n",
    "    'pval_mumupiK > 0.1'\n",
    "]\n",
    "cut_piK = list(dict.fromkeys(cut_piK))\n",
    "\n",
    "cut_str = ' && '.join(cut_general + cut_piK)\n",
    "print cut_str"
   ]
  },
  {
   "cell_type": "code",
   "execution_count": null,
   "metadata": {
    "ExecuteTime": {
     "end_time": "2019-10-18T21:30:36.572737Z",
     "start_time": "2019-10-18T21:30:20.222949Z"
    },
    "hidden": true,
    "scrolled": false
   },
   "outputs": [],
   "source": [
    "h = create_TH1D(np.zeros(0), name='h',\n",
    "                title='',\n",
    "                axis_title=['m(K^{-}#pi^{+}) [GeV]', 'Events'],\n",
    "                binning=[100, 0.6, 1.5]\n",
    "               )\n",
    "tree.Project('h', 'mass_piK_CPconj', cut_str)\n",
    "h.Sumw2()\n",
    "\n",
    "wrongCP_cut = 'fabs(mass_piK - 0.892) > fabs(mass_piK_CPconj - 0.892)'\n",
    "h2 = create_TH1D(np.zeros(0), name='h2', binning=h.binning)\n",
    "tree.Project('h2', 'mass_piK_CPconj', cut_str + ' && ' + wrongCP_cut)\n",
    "h2.Sumw2()\n",
    "h2.SetLineColor(rt.kRed)\n",
    "\n",
    "\n",
    "                                   \n",
    "c = drawOnCMSCanvas(CMS_lumi, [h, h2], 'same')\n",
    "c.SetRightMargin(0.15)\n",
    "c.Draw()"
   ]
  },
  {
   "cell_type": "code",
   "execution_count": null,
   "metadata": {
    "ExecuteTime": {
     "end_time": "2019-10-18T21:30:44.954411Z",
     "start_time": "2019-10-18T21:30:36.575560Z"
    },
    "hidden": true
   },
   "outputs": [],
   "source": [
    "h = create_TH2D(np.zeros((2,2)), name='h',\n",
    "                title='',\n",
    "                axis_title=['m(#pi^{-}K^{+}) [GeV]', 'm(K^{-}#pi^{+}) [GeV]', 'Events'],\n",
    "                binning=[50, 0.6, 1.5, 50, 0.6, 1.5]\n",
    "               )\n",
    "tree.Project('h', 'mass_piK_CPconj:mass_piK', cut_str)\n",
    "h.Sumw2()\n",
    "\n",
    "\n",
    "                                   \n",
    "c = drawOnCMSCanvas(CMS_lumi, [h], ['colz'])\n",
    "c.SetRightMargin(0.15)\n",
    "c.Draw()"
   ]
  },
  {
   "cell_type": "code",
   "execution_count": null,
   "metadata": {
    "ExecuteTime": {
     "end_time": "2019-10-18T21:31:01.362474Z",
     "start_time": "2019-10-18T21:30:44.958638Z"
    },
    "hidden": true
   },
   "outputs": [],
   "source": [
    "h = create_TH1D(np.zeros(0), name='h',\n",
    "                title='',\n",
    "                axis_title=['m(#pi^{-}K^{+}) [GeV]', 'Events'],\n",
    "                binning=[100, 0.6, 1.5]\n",
    "               )\n",
    "tree.Project('h', 'mass_piK', cut_str)\n",
    "h.Sumw2()\n",
    "\n",
    "correctCP_cut = 'fabs(mass_piK - 0.892) < fabs(mass_piK_CPconj - 0.892)'\n",
    "h2 = create_TH1D(np.zeros(0), name='h2', binning=h.binning)\n",
    "tree.Project('h2', 'mass_piK', cut_str + ' && ' + correctCP_cut)\n",
    "h2.Sumw2()\n",
    "h2.SetLineColor(rt.kRed)\n",
    "\n",
    "\n",
    "                                   \n",
    "c = drawOnCMSCanvas(CMS_lumi, [h, h2], 'same')\n",
    "c.SetRightMargin(0.15)\n",
    "c.Draw()"
   ]
  },
  {
   "cell_type": "code",
   "execution_count": null,
   "metadata": {
    "ExecuteTime": {
     "end_time": "2019-10-18T21:31:01.382413Z",
     "start_time": "2019-10-18T21:31:01.366745Z"
    },
    "hidden": true
   },
   "outputs": [],
   "source": [
    "cut_piK += ['fabs(mass_piK - 0.892) < fabs(mass_piK_CPconj - 0.892)']\n",
    "cut_piK = list(dict.fromkeys(cut_piK))\n",
    "\n",
    "cut_str = ' && '.join(cut_general + cut_piK)\n",
    "print cut_str"
   ]
  },
  {
   "cell_type": "code",
   "execution_count": null,
   "metadata": {
    "ExecuteTime": {
     "end_time": "2019-10-18T21:31:10.786693Z",
     "start_time": "2019-10-18T21:31:01.386639Z"
    },
    "hidden": true
   },
   "outputs": [],
   "source": [
    "h = create_TH1D(np.zeros(0), name='h',\n",
    "                title='',\n",
    "                axis_title=['m(K^{-}K^{+}) [GeV]', 'Events'],\n",
    "                binning=[100, 0.95, 1.8]\n",
    "               )\n",
    "tree.Project('h', 'mass_KK', cut_str)\n",
    "h.Sumw2()\n",
    "                                   \n",
    "c = drawOnCMSCanvas(CMS_lumi, [h], 'same')\n",
    "cl.DrawLine(1.035, 0, 1.035, 1.1*h.GetMaximum())\n",
    "c.Draw()"
   ]
  },
  {
   "cell_type": "code",
   "execution_count": null,
   "metadata": {
    "ExecuteTime": {
     "end_time": "2019-10-18T21:31:29.320680Z",
     "start_time": "2019-10-18T21:31:10.790829Z"
    },
    "hidden": true
   },
   "outputs": [],
   "source": [
    "h = create_TH1D(np.zeros(0), name='h',\n",
    "                title='',\n",
    "                axis_title=['m(#pi^{-}K^{+}) [GeV]', 'Events'],\n",
    "                binning=[100, 0.6, 1.5]\n",
    "               )\n",
    "tree.Project('h', 'mass_piK', cut_str)\n",
    "h.Sumw2()\n",
    "\n",
    "h2 = create_TH1D(np.zeros(0), name='h2', binning=h.binning)\n",
    "tree.Project('h2', 'mass_piK', cut_str + ' && mass_KK > 1.035')\n",
    "h2.Sumw2()\n",
    "h2.SetLineColor(rt.kRed)\n",
    "                                   \n",
    "c = drawOnCMSCanvas(CMS_lumi, [h, h2], 'same')\n",
    "c.Draw()"
   ]
  },
  {
   "cell_type": "code",
   "execution_count": null,
   "metadata": {
    "ExecuteTime": {
     "end_time": "2019-10-18T21:31:29.340274Z",
     "start_time": "2019-10-18T21:31:29.325190Z"
    },
    "hidden": true
   },
   "outputs": [],
   "source": [
    "cut_piK += ['mass_KK > 1.035']\n",
    "cut_piK = list(dict.fromkeys(cut_piK))\n",
    "print cut_piK"
   ]
  },
  {
   "cell_type": "markdown",
   "metadata": {
    "heading_collapsed": true
   },
   "source": [
    "# Full analysis"
   ]
  },
  {
   "cell_type": "code",
   "execution_count": null,
   "metadata": {
    "ExecuteTime": {
     "end_time": "2019-10-18T21:31:29.362092Z",
     "start_time": "2019-10-18T21:31:29.344803Z"
    },
    "hidden": true
   },
   "outputs": [],
   "source": [
    "cut_B = [\n",
    "    'mass_mumu < {:.3f}'.format(m_mumu_max),\n",
    "    'mass_mumu > {:.3f}'.format(m_mumu_min),\n",
    "    'mass_piK > 0.82',\n",
    "    'mass_piK < 0.96'\n",
    "        ]\n",
    "cut_B += cut_mumu + cut_piK\n",
    "print cut_B\n",
    "\n",
    "cut_str = ' && '.join(cut_general + cut_B)"
   ]
  },
  {
   "cell_type": "code",
   "execution_count": null,
   "metadata": {
    "ExecuteTime": {
     "end_time": "2019-10-18T21:31:47.728183Z",
     "start_time": "2019-10-18T21:31:29.363675Z"
    },
    "hidden": true
   },
   "outputs": [],
   "source": [
    "h = create_TH1D(np.zeros(0), name='h',\n",
    "                title='',\n",
    "                axis_title=['m(#mu#mu#pi^{-}K^{+}) [GeV]', 'Events'],\n",
    "                binning=[100, 4.3, 6]\n",
    "               )\n",
    "tree.Project('h', 'mass_mumupiK', cut_str)\n",
    "h.Sumw2()\n",
    "   \n",
    "c = drawOnCMSCanvas(CMS_lumi, [h], 'same')\n",
    "c.Draw()"
   ]
  },
  {
   "cell_type": "code",
   "execution_count": null,
   "metadata": {
    "ExecuteTime": {
     "end_time": "2019-10-18T21:32:06.869875Z",
     "start_time": "2019-10-18T21:31:47.732441Z"
    },
    "hidden": true
   },
   "outputs": [],
   "source": [
    "h = create_TH1D(np.zeros(0), name='h',\n",
    "                title='',\n",
    "                axis_title=['m(#mu#mu) [GeV]', 'Events'],\n",
    "                binning=[50, 3, 3.2]\n",
    "               )\n",
    "tree.Project('h', 'mass_mumu', cut_str + ' && mass_mumupiK < 5.45 && mass_mumupiK > 5.15')\n",
    "h.Sumw2()\n",
    "   \n",
    "c = drawOnCMSCanvas(CMS_lumi, [h], 'same')\n",
    "c.Draw()"
   ]
  },
  {
   "cell_type": "code",
   "execution_count": null,
   "metadata": {
    "ExecuteTime": {
     "end_time": "2019-10-18T21:32:25.954679Z",
     "start_time": "2019-10-18T21:32:06.874327Z"
    },
    "hidden": true
   },
   "outputs": [],
   "source": [
    "h = create_TH1D(np.zeros(0), name='h',\n",
    "                title='',\n",
    "                axis_title=['m(#pi^{-}K^{+}) [GeV]', 'Events'],\n",
    "                binning=[50, 0.82, 0.96]\n",
    "               )\n",
    "tree.Project('h', 'mass_piK', cut_str + ' && mass_mumupiK < 5.45 && mass_mumupiK > 5.15')\n",
    "h.Sumw2()\n",
    "   \n",
    "c = drawOnCMSCanvas(CMS_lumi, [h], 'same')\n",
    "c.Draw()"
   ]
  },
  {
   "cell_type": "code",
   "execution_count": null,
   "metadata": {
    "ExecuteTime": {
     "end_time": "2019-10-18T21:32:45.479659Z",
     "start_time": "2019-10-18T21:32:25.958931Z"
    },
    "hidden": true
   },
   "outputs": [],
   "source": [
    "h = create_TH2D(np.zeros((2,2)), name='h',\n",
    "                title='',\n",
    "                axis_title=['m(#mu#mu#pi^{-}K^{+}) [GeV]', 'vtx displacement significance', 'Events'],\n",
    "                binning=[100, 4.3, 6, 50, 0, 100]\n",
    "               )\n",
    "tree.Project('h', 'sigd_vtxB_PV_mumupiK:mass_mumupiK', cut_str)\n",
    "h.Sumw2()\n",
    "                                   \n",
    "c = drawOnCMSCanvas(CMS_lumi, [h], ['colz'])\n",
    "c.SetRightMargin(0.15)\n",
    "c.Draw()"
   ]
  },
  {
   "cell_type": "code",
   "execution_count": null,
   "metadata": {
    "ExecuteTime": {
     "end_time": "2019-10-18T21:33:05.169525Z",
     "start_time": "2019-10-18T21:32:45.483797Z"
    },
    "hidden": true
   },
   "outputs": [],
   "source": [
    "h = create_TH2D(np.zeros((2,2)), name='h',\n",
    "                title='',\n",
    "                axis_title=['m(#mu#mu#pi^{-}K^{+}) [GeV]', 'pointing to PV', 'Events'],\n",
    "                binning=[100, 4.3, 6, 50, -1, 1]\n",
    "               )\n",
    "tree.Project('h', 'cos_B_PV_mumupiK:mass_mumupiK', cut_str)\n",
    "h.Sumw2()\n",
    "                                   \n",
    "c = drawOnCMSCanvas(CMS_lumi, [h], ['colz'])\n",
    "c.SetRightMargin(0.15)\n",
    "c.Draw()"
   ]
  },
  {
   "cell_type": "code",
   "execution_count": null,
   "metadata": {
    "ExecuteTime": {
     "end_time": "2019-10-18T21:33:24.238396Z",
     "start_time": "2019-10-18T21:33:05.173751Z"
    },
    "hidden": true
   },
   "outputs": [],
   "source": [
    "h = create_TH2D(np.zeros((2,2)), name='h',\n",
    "                title='',\n",
    "                axis_title=['m(#mu#mu#pi^{-}K^{+}) [GeV]', 'p-value', 'Events'],\n",
    "                binning=[100, 4.3, 6, 50, 0, 1]\n",
    "               )\n",
    "tree.Project('h', 'pval_mumupiK:mass_mumupiK', cut_str)\n",
    "h.Sumw2()\n",
    "                                   \n",
    "c = drawOnCMSCanvas(CMS_lumi, [h], ['colz'])\n",
    "c.SetRightMargin(0.15)\n",
    "c.Draw()"
   ]
  },
  {
   "cell_type": "code",
   "execution_count": null,
   "metadata": {
    "ExecuteTime": {
     "end_time": "2019-10-18T21:33:43.489922Z",
     "start_time": "2019-10-18T21:33:24.242605Z"
    },
    "hidden": true
   },
   "outputs": [],
   "source": [
    "h = create_TH2D(np.zeros((2,2)), name='h',\n",
    "                title='',\n",
    "                axis_title=['m(#mu#mu#pi^{-}K^{+}) [GeV]', 'p-value', 'Events'],\n",
    "                binning=[100, 4.3, 6, 50, 0, 1]\n",
    "               )\n",
    "tree.Project('h', 'pval_mumupiKrefit:mass_mumupiK', cut_str)\n",
    "h.Sumw2()\n",
    "                                   \n",
    "c = drawOnCMSCanvas(CMS_lumi, [h], ['colz'])\n",
    "c.SetRightMargin(0.15)\n",
    "c.Draw()"
   ]
  },
  {
   "cell_type": "code",
   "execution_count": null,
   "metadata": {
    "ExecuteTime": {
     "end_time": "2019-10-18T21:34:03.315088Z",
     "start_time": "2019-10-18T21:33:43.493810Z"
    },
    "hidden": true
   },
   "outputs": [],
   "source": [
    "h = create_TH2D(np.zeros((2,2)), name='h',\n",
    "                title='',\n",
    "                axis_title=['m(#mu#mu#pi^{-}K^{+}) [GeV]', 'pT_{B}', 'Events'],\n",
    "                binning=[100, 4.3, 6, 50, 0, 50]\n",
    "               )\n",
    "tree.Project('h', 'B_mumupiK_pt:mass_mumupiK', cut_str)\n",
    "h.Sumw2()\n",
    "                                   \n",
    "c = drawOnCMSCanvas(CMS_lumi, [h], ['colz'])\n",
    "c.SetRightMargin(0.15)\n",
    "c.Draw()"
   ]
  },
  {
   "cell_type": "markdown",
   "metadata": {},
   "source": [
    "# Signal isolation"
   ]
  },
  {
   "cell_type": "code",
   "execution_count": null,
   "metadata": {
    "ExecuteTime": {
     "end_time": "2019-10-18T21:34:03.336634Z",
     "start_time": "2019-10-18T21:34:03.319524Z"
    }
   },
   "outputs": [],
   "source": [
    "cut_str = ' && '.join(cut_B)\n",
    "# cut_str = ' && '.join(cut_general + cut_B)"
   ]
  },
  {
   "cell_type": "code",
   "execution_count": null,
   "metadata": {
    "ExecuteTime": {
     "end_time": "2019-10-18T21:34:23.293327Z",
     "start_time": "2019-10-18T21:34:03.340804Z"
    }
   },
   "outputs": [],
   "source": [
    "h = create_TH1D(np.zeros(0), name='h',\n",
    "                title='',\n",
    "                axis_title=['m(#mu#mu#pi^{-}K^{+}) [GeV]', 'Events'],\n",
    "                binning=[30, 5, 5.6]\n",
    "               )\n",
    "tree.Project('h', 'mass_mumupiK', cut_str)\n",
    "h.Sumw2()"
   ]
  },
  {
   "cell_type": "code",
   "execution_count": null,
   "metadata": {
    "ExecuteTime": {
     "end_time": "2019-10-18T21:34:23.312692Z",
     "start_time": "2019-10-18T21:34:23.297212Z"
    }
   },
   "outputs": [],
   "source": [
    "# tf = rt.TFile('../data/cmsRD/skimmed/B2JpsiKst.root', 'r')\n",
    "# skimmed_tree = tf.Get('Tevts')\n",
    "# h = create_TH1D(np.zeros(0), name='h',\n",
    "#                 title='',\n",
    "#                 axis_title=['m(#mu#mu#pi^{-}K^{+}) [GeV]', 'Events'],\n",
    "#                 binning=[30, 5, 5.6]\n",
    "#                )\n",
    "# skimmed_tree.Project('h', 'mass_mumupiK')\n",
    "# h.Sumw2()"
   ]
  },
  {
   "cell_type": "code",
   "execution_count": null,
   "metadata": {
    "ExecuteTime": {
     "end_time": "2019-10-18T21:34:23.331383Z",
     "start_time": "2019-10-18T21:34:23.316930Z"
    }
   },
   "outputs": [],
   "source": [
    "N_tot = h.Integral(1, h.binning[0])\n",
    "print N_tot\n",
    "print h.Integral()"
   ]
  },
  {
   "cell_type": "code",
   "execution_count": null,
   "metadata": {
    "ExecuteTime": {
     "end_time": "2019-10-18T21:34:23.757013Z",
     "start_time": "2019-10-18T21:34:23.336249Z"
    },
    "scrolled": false
   },
   "outputs": [],
   "source": [
    "mass = rt.RooRealVar('mass_mumupiK', 'm_{#mu#mu#piK}', h.binning[1], h.binning[2], 'GeV')\n",
    "frame = mass.frame(rf.Title(\"\"))\n",
    "\n",
    "mean = rt.RooRealVar('mean', 'm_{B}', m_B0, 3, 7, 'GeV')\n",
    "sigma = rt.RooRealVar('sigma', '#sigma', 0.02, 0.00005, 0.1, 'GeV') \n",
    "pdf_sig = rt.RooGaussian('gaus','sig pdf', mass, mean, sigma)\n",
    "\n",
    "# sigma_wide = rt.RooRealVar('sigma', '#sigma', 0.2, 0.00005, 0.1, 'GeV') \n",
    "# pdf_sig_wide = rt.RooGaussian('gausWide','sig pdf', m, mean, sigma_wide)\n",
    "\n",
    "# fraction = rt.RooRealVar('fraction', 'f', 0.5, 0, 1, '')\n",
    "# pdf_sig_2 = rt.RooAddPdf('doubleGauss', 'pdf_sig_2', mass, pdf_sig_wide, fraction)\n",
    "\n",
    "nsig = rt.RooRealVar('nsig', 'N_{S}', 0.9*N_tot, 0, 100*N_tot)\n",
    "pdf_sig_ext = rt.RooExtendPdf('esig', 'esig', pdf_sig, nsig)\n",
    "\n",
    "\n",
    "lam = rt.RooRealVar('lam', '#lambda', -2.1, -100, -0.1, 'GeV^{-1}')\n",
    "pdf_bkg = rt.RooExponential('expo', 'bkg pdf', mass, lam)\n",
    "# a0 = rt.RooRealVar('a0', 'a0', 10, 0, 100)\n",
    "# a1 = rt.RooRealVar('a1', 'a1', 0.1, -10, 1000)\n",
    "# a2 = rt.RooRealVar('a2', 'a2', 0.1, -100, 1000)\n",
    "# pdf_bkg = rt.RooPolynomial('poly', 'bkg pdf', m, rt.RooArgList(a0, a1, a2), 0)\n",
    "\n",
    "nbkg = rt.RooRealVar('nbkg', 'N_{B}', 0.1*N_tot, 0, 100*N_tot)\n",
    "pdf_bkg_ext = rt.RooExtendPdf('ebkg', 'ebkg', pdf_bkg, nbkg)\n",
    "\n",
    "data = rt.RooDataHist('d', 'data', rt.RooArgList(mass), h)\n",
    "\n",
    "pdf_tot = rt.RooAddPdf('pdftot', 'pdftot', rt.RooArgList(pdf_sig_ext, pdf_bkg_ext))\n",
    "pdf_tot.fitTo(data, rt.RooFit.PrintLevel(-1))\n",
    "\n",
    "chi2 = rt.RooChi2Var(\"chi2\", 'chi2', pdf_tot, data)\n",
    "if chi2.getVal() > rt.TMath.ChisquareQuantile(0.95, h.binning[0]-1-5):\n",
    "    print '[WARNING] Chi2:', chi2.getVal(), '/', h.binning[0]-1-5\n",
    "\n",
    "print 'Total: Nsig = {:.0f}, Nbkg = {:.0f}'.format(nsig.getVal(), nbkg.getVal())\n",
    "\n",
    "data.plotOn(frame, rf.MarkerStyle(1), rf.DrawOption('E1'), rf.MarkerColor(h.GetLineColor()), rf.LineColor(h.GetLineColor()))\n",
    "pdf_tot.plotOn(frame, rf.LineColor(h.GetLineColor()), rf.LineWidth(2))\n",
    "pdf_tot.plotOn(frame, rf.Components('ebkg'), rf.LineColor(rt.kRed), rf.LineWidth(2), rf.LineStyle(7))\n",
    "pdf_tot.plotOn(frame, rf.Components('esig'), rf.LineColor(rt.kBlue), rf.LineWidth(2), rf.LineStyle(7))\n",
    "\n",
    "lb = mean.getVal()-3*sigma.getVal()\n",
    "hb = mean.getVal()+3*sigma.getVal()\n",
    "print 'Sig region histo entries: {:.0f}'.format(h.Integral(h.FindBin(lb), h.FindBin(hb)))\n",
    "\n",
    "\n",
    "Nsig = erf(3/np.sqrt(2)) * nsig.getVal()\n",
    "Nbkg = h.Integral(h.FindBin(lb), h.FindBin(hb)) - Nsig\n",
    "print 'Sig region: Nsig = {:.0f}, Nbkg = {:.0f}\\n'.format(Nsig, Nbkg)\n",
    "\n",
    "purity = Nsig/float(Nbkg+Nsig)\n",
    "\n",
    "leg = rt.TLegend(0.6,0.75,0.98,0.95)\n",
    "leg.SetLineWidth(0)\n",
    "leg.SetBorderSize(0)\n",
    "leg.SetFillStyle(0)\n",
    "leg.AddEntry(h, 'Purity={:.1f}% - #sigma_{{M}}= {:.1f} MeV'.format(purity*100, 1e3*sigma.getVal()), 'l')\n",
    "\n",
    "c = drawOnCMSCanvas(CMS_lumi, frame)\n",
    "m = mean.getVal()\n",
    "res = sigma.getVal()\n",
    "cl.SetLineColor(rt.kMagenta)\n",
    "cl.DrawLine(m-3*res, 0, m-3*res, h.GetMaximum())\n",
    "cl.DrawLine(m+3*res, 0, m+3*res, h.GetMaximum())\n",
    "\n",
    "cl.SetLineColor(rt.kYellow+1)\n",
    "cl.DrawLine(m_B0, 0, m_B0, h.GetMaximum())\n",
    "\n",
    "leg.Draw()"
   ]
  },
  {
   "cell_type": "code",
   "execution_count": null,
   "metadata": {
    "ExecuteTime": {
     "end_time": "2019-10-18T21:34:23.778615Z",
     "start_time": "2019-10-18T21:34:23.761515Z"
    }
   },
   "outputs": [],
   "source": [
    "Bmass_cuts = ['mass_mumupiK > 5', 'mass_mumupiK < 5.6']\n",
    "cut_B + Bmass_cuts"
   ]
  },
  {
   "cell_type": "code",
   "execution_count": null,
   "metadata": {
    "ExecuteTime": {
     "end_time": "2019-10-18T21:39:54.103766Z",
     "start_time": "2019-10-18T21:34:23.782734Z"
    },
    "code_folding": []
   },
   "outputs": [],
   "source": [
    "output = []\n",
    "N_accepted_cand = []\n",
    "\n",
    "import operator\n",
    "ops = {'>': operator.gt, '<': operator.lt, }\n",
    "\n",
    "pb = ProgressBar(maxEntry=tree.GetEntries())\n",
    "for i_ev, ev in enumerate(tree):\n",
    "    pb.show(i_ev)\n",
    "    N_acc = 0\n",
    "    for j in range(ev.pval_mumupiK.size()):\n",
    "        accept = abs(ev.mass_piK[j] - 0.892) < abs(ev.mass_piK_CPconj[j] - 0.892)\n",
    "        for c_str in cut_B + Bmass_cuts:\n",
    "            if c_str == 'fabs(mass_piK - 0.892) < fabs(mass_piK_CPconj - 0.892)': continue\n",
    "            if not accept:\n",
    "                break\n",
    "            aux = c_str.split(' ')\n",
    "            if len(aux) != 3:\n",
    "                raise\n",
    "            x = getattr(ev, aux[0])[j]\n",
    "            accept = ops[aux[1]](x, float(aux[2]))\n",
    "        if accept:\n",
    "            N_acc += 1\n",
    "            output.append((ev.mass_mumupiK[j], ev.B_mumupiK_pt[j], ev.B_mumupiK_eta[j]))\n",
    "    if N_acc > 0:\n",
    "        N_accepted_cand.append(N_acc)\n",
    "\n",
    "print len(output)\n",
    "dic = {i:N_accepted_cand.count(i) for i in range(1, np.max(N_accepted_cand)+1)}\n",
    "print dic"
   ]
  },
  {
   "cell_type": "code",
   "execution_count": null,
   "metadata": {
    "ExecuteTime": {
     "end_time": "2019-10-18T21:39:54.136220Z",
     "start_time": "2019-10-18T21:39:54.107800Z"
    }
   },
   "outputs": [],
   "source": [
    "import root_numpy as rtnp\n",
    "dtypes = [('mass_mumupiK', np.float32), ('B_pt', np.float32), ('B_eta', np.float32)]\n",
    "a = np.array(output, dtype=dtypes)\n",
    "skimmed_tree = rtnp.array2tree(a)\n",
    "rtnp.array2root(a, '../data/cmsRD/skimmed/B2JpsiKst.root', treename='Tevts', mode='RECREATE')"
   ]
  },
  {
   "cell_type": "code",
   "execution_count": null,
   "metadata": {
    "ExecuteTime": {
     "end_time": "2019-10-18T21:39:54.196812Z",
     "start_time": "2019-10-18T21:39:54.140582Z"
    }
   },
   "outputs": [],
   "source": [
    "v_B_pt = rt.RooRealVar('B_pt', 'p_{T}^{(B)}', 0, 500, 'GeV')\n",
    "v_B_eta = rt.RooRealVar('B_eta', '#eta^{(B)}', -3, 3, 'GeV')\n",
    "\n",
    "rt.RooAbsData.setDefaultStorageType(rt.RooAbsData.Tree)\n",
    "ds = rt.RooDataSet('ds', 'ds', skimmed_tree, rt.RooArgSet(mass, v_B_eta, v_B_pt))#, v_B_eta))"
   ]
  },
  {
   "cell_type": "code",
   "execution_count": null,
   "metadata": {
    "ExecuteTime": {
     "end_time": "2019-10-18T21:39:54.216493Z",
     "start_time": "2019-10-18T21:39:54.200971Z"
    }
   },
   "outputs": [],
   "source": [
    "# fr = mass.frame(rf.Title(\"\"))\n",
    "# # fr = v_B_pt.frame(rf.Title(\"\"))\n",
    "# # fr = v_B_eta.frame(rf.Title(\"\"))\n",
    "\n",
    "# ds.plotOn(fr)\n",
    "# c = drawOnCMSCanvas(CMS_lumi, fr)"
   ]
  },
  {
   "cell_type": "code",
   "execution_count": null,
   "metadata": {
    "ExecuteTime": {
     "end_time": "2019-10-18T21:39:54.559304Z",
     "start_time": "2019-10-18T21:39:54.220520Z"
    }
   },
   "outputs": [],
   "source": [
    "sData = rt.RooStats.SPlot('sData', 'sData', ds, pdf_tot, rt.RooArgList(nsig, nbkg))"
   ]
  },
  {
   "cell_type": "code",
   "execution_count": null,
   "metadata": {
    "ExecuteTime": {
     "end_time": "2019-10-18T21:39:54.635918Z",
     "start_time": "2019-10-18T21:39:54.563319Z"
    }
   },
   "outputs": [],
   "source": [
    "t = ds.tree()\n",
    "f_sw = rt.TFile('../data/cmsRD/skimmed/B2JpsiKst.root', 'RECREATE')\n",
    "t.Write()\n",
    "f_sw.Close()"
   ]
  }
 ],
 "metadata": {
  "kernelspec": {
   "display_name": "Python 2",
   "language": "python",
   "name": "python2"
  },
  "language_info": {
   "codemirror_mode": {
    "name": "ipython",
    "version": 2
   },
   "file_extension": ".py",
   "mimetype": "text/x-python",
   "name": "python",
   "nbconvert_exporter": "python",
   "pygments_lexer": "ipython2",
   "version": "2.7.14"
  }
 },
 "nbformat": 4,
 "nbformat_minor": 2
}
