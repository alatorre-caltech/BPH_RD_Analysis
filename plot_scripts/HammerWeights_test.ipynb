{
 "cells": [
  {
   "cell_type": "code",
   "execution_count": 1,
   "metadata": {
    "ExecuteTime": {
     "end_time": "2019-10-18T16:33:22.688261Z",
     "start_time": "2019-10-18T16:33:21.054937Z"
    }
   },
   "outputs": [
    {
     "name": "stdout",
     "output_type": "stream",
     "text": [
      "Welcome to JupyROOT 6.10/08\n"
     ]
    }
   ],
   "source": [
    "import numpy as np\n",
    "import scipy.stats as sps\n",
    "from glob import glob\n",
    "import matplotlib.pyplot as plt\n",
    "import uproot as ur\n",
    "import ROOT as rt\n",
    "import ROOT.RooFit as rf\n",
    "from scipy.special import erf\n",
    "import sys\n",
    "sys.path.append('../lib')\n",
    "from histo_utilities import create_TH1D, create_TH2D, std_color_list, SetMaxToMaxHist, make_ratio_plot\n",
    "from cebefo_style import Set_2D_colz_graphics\n",
    "from progressBar import ProgressBar\n",
    "\n",
    "from analysis_utilities import drawOnCMSCanvas, extarct, extarct_multiple, createSel\n",
    "\n",
    "import CMS_lumi, tdrstyle\n",
    "tdrstyle.setTDRStyle()\n",
    "CMS_lumi.writeExtraText = 1\n",
    "CMS_lumi.extraText = \"     Simulation Preliminary\"\n",
    "\n",
    "donotdelete = []"
   ]
  },
  {
   "cell_type": "code",
   "execution_count": 2,
   "metadata": {
    "ExecuteTime": {
     "end_time": "2019-10-18T16:33:22.707708Z",
     "start_time": "2019-10-18T16:33:22.692126Z"
    }
   },
   "outputs": [],
   "source": [
    "import operator\n",
    "ops = {'>': operator.gt, '<': operator.lt, }"
   ]
  },
  {
   "cell_type": "code",
   "execution_count": 3,
   "metadata": {
    "ExecuteTime": {
     "end_time": "2019-10-18T16:33:22.740230Z",
     "start_time": "2019-10-18T16:33:22.710661Z"
    }
   },
   "outputs": [],
   "source": [
    "rt.gErrorIgnoreLevel = rt.kError\n",
    "rt.RooMsgService.instance().setGlobalKillBelow(rt.RooFit.ERROR)"
   ]
  },
  {
   "cell_type": "code",
   "execution_count": 4,
   "metadata": {
    "ExecuteTime": {
     "end_time": "2019-10-18T16:33:22.762033Z",
     "start_time": "2019-10-18T16:33:22.744243Z"
    }
   },
   "outputs": [
    {
     "name": "stdout",
     "output_type": "stream",
     "text": [
      "1.86483\n",
      "2.01026\n",
      "5.27963\n",
      "mD* - mD0 = 0.14543\n"
     ]
    }
   ],
   "source": [
    "m_D0 = 1.86483 #1e-3*Particle.from_string('D0').mass\n",
    "print m_D0\n",
    "m_Dst = 2.01026 #1e-3*Particle.from_string('D*+').mass\n",
    "print m_Dst\n",
    "m_B0 = 5.27963 #1e-3*Particle.from_string('B0').mass\n",
    "print m_B0\n",
    "m_pi = 0.13957018 #1e-3*Particle.from_string('pi+').mass\n",
    "print 'mD* - mD0 =', m_Dst - m_D0"
   ]
  },
  {
   "cell_type": "code",
   "execution_count": 5,
   "metadata": {
    "ExecuteTime": {
     "end_time": "2019-10-18T16:33:22.786981Z",
     "start_time": "2019-10-18T16:33:22.765925Z"
    }
   },
   "outputs": [],
   "source": [
    "cl = rt.TLine()\n",
    "cl.SetLineColor(6)\n",
    "cl.SetLineStyle(9)\n",
    "cl.SetLineWidth(2)"
   ]
  },
  {
   "cell_type": "code",
   "execution_count": 6,
   "metadata": {
    "ExecuteTime": {
     "end_time": "2019-10-18T16:33:23.309875Z",
     "start_time": "2019-10-18T16:33:22.791213Z"
    },
    "code_folding": [
     8
    ],
    "scrolled": true
   },
   "outputs": [
    {
     "name": "stdout",
     "output_type": "stream",
     "text": [
      "B_E\n",
      "B_P\n",
      "B_eta\n",
      "B_phi\n",
      "B_pt\n",
      "B_pz\n",
      "D0_E\n",
      "D0_P\n",
      "D0_eta\n",
      "D0_phi\n",
      "D0_pt\n",
      "D0_pz\n",
      "Dst_E\n",
      "Dst_P\n",
      "Dst_eta\n",
      "Dst_phi\n",
      "Dst_pt\n",
      "Dst_pz\n",
      "Est_mu\n",
      "K_E\n",
      "K_N_valid_hits\n",
      "K_P\n",
      "K_eta\n",
      "K_norm_chi2\n",
      "K_phi\n",
      "K_pt\n",
      "K_pz\n",
      "LumiBlock\n",
      "M2_miss\n",
      "MC_B_P\n",
      "MC_B_eta\n",
      "MC_B_phi\n",
      "MC_B_pt\n",
      "MC_D0_P\n",
      "MC_D0_eta\n",
      "MC_D0_phi\n",
      "MC_D0_pt\n",
      "MC_Dst_P\n",
      "MC_Dst_eta\n",
      "MC_Dst_phi\n",
      "MC_Dst_pt\n",
      "MC_Est_mu\n",
      "MC_K_P\n",
      "MC_K_eta\n",
      "MC_K_phi\n",
      "MC_K_pt\n",
      "MC_M2_miss\n",
      "MC_mu_P\n",
      "MC_mu_eta\n",
      "MC_mu_phi\n",
      "MC_mu_pt\n",
      "MC_pi_P\n",
      "MC_pi_eta\n",
      "MC_pi_phi\n",
      "MC_pi_pt\n",
      "MC_pis_P\n",
      "MC_pis_eta\n",
      "MC_pis_phi\n",
      "MC_pis_pt\n",
      "MC_q2\n",
      "N_vertexes\n",
      "Run\n",
      "chi2_D0pis\n",
      "chi2_Kpi\n",
      "chi2_MuDst\n",
      "cos_D0_PV\n",
      "cos_Dst_PV\n",
      "cos_MuDst_PV\n",
      "d_vtxB_PV\n",
      "d_vtxD0_PV\n",
      "d_vtxDst_PV\n",
      "eventNumber\n",
      "mass_D0pis\n",
      "mass_Kpi\n",
      "mass_MuDst\n",
      "mu_E\n",
      "mu_P\n",
      "mu_eta\n",
      "mu_phi\n",
      "mu_pt\n",
      "mu_pz\n",
      "n_B\n",
      "n_D0\n",
      "n_Dst\n",
      "n_K\n",
      "n_pi\n",
      "n_pis\n",
      "pi_E\n",
      "pi_N_valid_hits\n",
      "pi_P\n",
      "pi_eta\n",
      "pi_norm_chi2\n",
      "pi_phi\n",
      "pi_pt\n",
      "pi_pz\n",
      "pis_E\n",
      "pis_N_valid_hits\n",
      "pis_P\n",
      "pis_eta\n",
      "pis_norm_chi2\n",
      "pis_phi\n",
      "pis_pt\n",
      "pis_pz\n",
      "q2\n",
      "sigd_vtxB_PV\n",
      "sigd_vtxD0_PV\n",
      "sigd_vtxDst_PV\n",
      "sigdxy_K_PV\n",
      "sigdxy_pi_PV\n",
      "sigdxy_pis_PV\n",
      "trgMu_charge\n",
      "trgMu_dxy\n",
      "trgMu_dz\n",
      "trgMu_eta\n",
      "trgMu_phi\n",
      "trgMu_pt\n",
      "trgMu_sigdxy\n",
      "trgMuon_match_BMuon\n",
      "wh_CLNCentral\n",
      "wh_CLNR0Down\n",
      "wh_CLNR0Up\n",
      "wh_CLNR1Down\n",
      "wh_CLNR1Up\n",
      "wh_CLNR2Down\n",
      "wh_CLNR2Up\n",
      "wh_CLNRhoSqDown\n",
      "wh_CLNRhoSqUp\n"
     ]
    },
    {
     "data": {
      "text/plain": [
       "\"\\n    # branches = [\\n    # #             'LumiBlock', \\n    # #             'MC_B_P', \\n    # #             'MC_B_eta', \\n    # #             'MC_B_phi',\\n    # #             'MC_B_pt', \\n    # #             'MC_D0_P', \\n    # #             'MC_D0_eta', \\n    # #             'MC_D0_phi', \\n    # #             'MC_D0_pt',\\n    # #             'MC_Dst_P', \\n    # #             'MC_Dst_eta',\\n    # #             'MC_Dst_phi',\\n    # #             'MC_Dst_pt',\\n    #             'MC_Ks_P',\\n    #             'MC_Ks_eta',\\n    #             'MC_Ks_phi',\\n    #             'MC_Ks_pt',\\n    # #             'MC_pis_P',\\n    # #             'MC_pis_eta',\\n    # #             'MC_pis_phi',\\n    # #             'MC_pis_pt',\\n    # #             'Run',\\n    # #             'eventNumber',\\n    #             'n_B',\\n    # #             'n_D0',\\n    #             'n_Dst',\\n    # #             'n_K',\\n    #             'n_Ks',\\n    # #             'n_pi',\\n    # #             'n_pis',\\n    #             'trgMu_charge',\\n    #             'trgMu_eta',\\n    #             'trgMu_phi',\\n    #             'trgMu_pt',\\n    #             'B_E',\\n    #             'B_P',\\n    #             'B_eta',\\n    #             'B_phi',\\n    #             'B_pt',\\n    #             'B_pz',\\n    # #             'D0_E',\\n    # #             'D0_P',\\n    # #             'D0_eta',\\n    # #             'D0_phi',\\n    # #             'D0_pt',\\n    # #             'D0_pz',\\n    #             'Dst_E',\\n    #             'Dst_P',\\n    #             'Dst_eta',\\n    #             'Dst_phi',\\n    #             'Dst_pt',\\n    #             'Dst_pz',\\n    # #             'K_E',\\n    # #             'K_P',\\n    # #             'K_eta',\\n    # #             'K_phi',\\n    # #             'K_pt',\\n    # #             'K_pz',\\n    #             'Ks_E',\\n    #             'Ks_P',\\n    #             'Ks_eta',\\n    #             'Ks_phi',\\n    #             'Ks_pt',\\n    #             'Ks_pz',\\n    # #             'chi2_D0pis',\\n    #             'chi2_DstK',\\n    # #             'chi2_kpi',\\n    # #             'cos_D0pis_vtxMu',\\n    #             'cos_DstK_vtxBest',\\n    # #             'cos_kpi_vtxMu',\\n    # #             'd_vtxD0pis_vtxMu',\\n    # #             'd_vtxkpi_vtxMu',\\n    # #             'dca_D0pis_vtxMu',\\n    # #             'dca_kpi_vtxMu',\\n    #             'mass_D0pis',\\n    #             'mass_DstK',\\n    # #             'mass_kpi',\\n    # #             'pi_E',\\n    # #             'pi_P',\\n    # #             'pi_eta',\\n    # #             'pi_phi',\\n    # #             'pi_pt',\\n    # #             'pi_pz',\\n    # #             'pis_E',\\n    # #             'pis_P',\\n    # #             'pis_eta',\\n    # #             'pis_phi',\\n    # #             'pis_pt',\\n    # #             'pis_pz',\\n    # #             'sigd_vtxD0pis_vtxMu',\\n    # #             'sigd_vtxkpi_vtxMu',\\n    # #             'sigdca_D0pis_vtxMu',\\n    # #             'sigdca_kpi_vtxMu'\\n    # ]\\n\""
      ]
     },
     "execution_count": 6,
     "metadata": {},
     "output_type": "execute_result"
    }
   ],
   "source": [
    "directory = '../data/cmsMC_private/BPH_Tag-B0_MuNuDmst-pD0bar-kp_13TeV-pythia8_Hardbbbar_PTFilter5_0p0-evtgen_ISGW2_PU20_10-2-3/job_B02DstMu'\n",
    "tMC = ur.open(directory + '/out_CAND_0.root')['outA']['Tevts']\n",
    "# print tMC.keys(), '\\n\\n'\n",
    "branches = tMC.keys()\n",
    "for b in np.sort(branches):\n",
    "#     pass\n",
    "    print b\n",
    "    \n",
    "\"\"\"\n",
    "    # branches = [\n",
    "    # #             'LumiBlock', \n",
    "    # #             'MC_B_P', \n",
    "    # #             'MC_B_eta', \n",
    "    # #             'MC_B_phi',\n",
    "    # #             'MC_B_pt', \n",
    "    # #             'MC_D0_P', \n",
    "    # #             'MC_D0_eta', \n",
    "    # #             'MC_D0_phi', \n",
    "    # #             'MC_D0_pt',\n",
    "    # #             'MC_Dst_P', \n",
    "    # #             'MC_Dst_eta',\n",
    "    # #             'MC_Dst_phi',\n",
    "    # #             'MC_Dst_pt',\n",
    "    #             'MC_Ks_P',\n",
    "    #             'MC_Ks_eta',\n",
    "    #             'MC_Ks_phi',\n",
    "    #             'MC_Ks_pt',\n",
    "    # #             'MC_pis_P',\n",
    "    # #             'MC_pis_eta',\n",
    "    # #             'MC_pis_phi',\n",
    "    # #             'MC_pis_pt',\n",
    "    # #             'Run',\n",
    "    # #             'eventNumber',\n",
    "    #             'n_B',\n",
    "    # #             'n_D0',\n",
    "    #             'n_Dst',\n",
    "    # #             'n_K',\n",
    "    #             'n_Ks',\n",
    "    # #             'n_pi',\n",
    "    # #             'n_pis',\n",
    "    #             'trgMu_charge',\n",
    "    #             'trgMu_eta',\n",
    "    #             'trgMu_phi',\n",
    "    #             'trgMu_pt',\n",
    "    #             'B_E',\n",
    "    #             'B_P',\n",
    "    #             'B_eta',\n",
    "    #             'B_phi',\n",
    "    #             'B_pt',\n",
    "    #             'B_pz',\n",
    "    # #             'D0_E',\n",
    "    # #             'D0_P',\n",
    "    # #             'D0_eta',\n",
    "    # #             'D0_phi',\n",
    "    # #             'D0_pt',\n",
    "    # #             'D0_pz',\n",
    "    #             'Dst_E',\n",
    "    #             'Dst_P',\n",
    "    #             'Dst_eta',\n",
    "    #             'Dst_phi',\n",
    "    #             'Dst_pt',\n",
    "    #             'Dst_pz',\n",
    "    # #             'K_E',\n",
    "    # #             'K_P',\n",
    "    # #             'K_eta',\n",
    "    # #             'K_phi',\n",
    "    # #             'K_pt',\n",
    "    # #             'K_pz',\n",
    "    #             'Ks_E',\n",
    "    #             'Ks_P',\n",
    "    #             'Ks_eta',\n",
    "    #             'Ks_phi',\n",
    "    #             'Ks_pt',\n",
    "    #             'Ks_pz',\n",
    "    # #             'chi2_D0pis',\n",
    "    #             'chi2_DstK',\n",
    "    # #             'chi2_kpi',\n",
    "    # #             'cos_D0pis_vtxMu',\n",
    "    #             'cos_DstK_vtxBest',\n",
    "    # #             'cos_kpi_vtxMu',\n",
    "    # #             'd_vtxD0pis_vtxMu',\n",
    "    # #             'd_vtxkpi_vtxMu',\n",
    "    # #             'dca_D0pis_vtxMu',\n",
    "    # #             'dca_kpi_vtxMu',\n",
    "    #             'mass_D0pis',\n",
    "    #             'mass_DstK',\n",
    "    # #             'mass_kpi',\n",
    "    # #             'pi_E',\n",
    "    # #             'pi_P',\n",
    "    # #             'pi_eta',\n",
    "    # #             'pi_phi',\n",
    "    # #             'pi_pt',\n",
    "    # #             'pi_pz',\n",
    "    # #             'pis_E',\n",
    "    # #             'pis_P',\n",
    "    # #             'pis_eta',\n",
    "    # #             'pis_phi',\n",
    "    # #             'pis_pt',\n",
    "    # #             'pis_pz',\n",
    "    # #             'sigd_vtxD0pis_vtxMu',\n",
    "    # #             'sigd_vtxkpi_vtxMu',\n",
    "    # #             'sigdca_D0pis_vtxMu',\n",
    "    # #             'sigdca_kpi_vtxMu'\n",
    "    # ]\n",
    "\"\"\""
   ]
  },
  {
   "cell_type": "markdown",
   "metadata": {},
   "source": [
    "# Preliminary study"
   ]
  },
  {
   "cell_type": "code",
   "execution_count": 7,
   "metadata": {
    "ExecuteTime": {
     "end_time": "2019-10-18T16:33:25.821297Z",
     "start_time": "2019-10-18T16:33:25.573669Z"
    }
   },
   "outputs": [
    {
     "name": "stdout",
     "output_type": "stream",
     "text": [
      "N files: 16\n",
      "N events: 6787\n"
     ]
    }
   ],
   "source": [
    "tChain = rt.TChain('outA/Tevts')\n",
    "for fname in glob(directory + '/out_CAND_*[0-9].root'):\n",
    "    tChain.Add(fname)\n",
    "print 'N files:', tChain.GetNtrees()\n",
    "print 'N events:', tChain.GetEntries()"
   ]
  },
  {
   "cell_type": "code",
   "execution_count": 8,
   "metadata": {
    "ExecuteTime": {
     "end_time": "2019-10-18T16:33:26.711694Z",
     "start_time": "2019-10-18T16:33:26.497722Z"
    }
   },
   "outputs": [
    {
     "data": {
      "image/png": "[encoded data removed]",
      "text/plain": [
       "<IPython.core.display.Image object>"
      ]
     },
     "metadata": {},
     "output_type": "display_data"
    }
   ],
   "source": [
    "c = rt.TCanvas()\n",
    "tChain.Draw('wh_CLNCentral')\n",
    "tChain.Draw('wh_CLNR2Up', '', 'same')\n",
    "c.Draw()"
   ]
  },
  {
   "cell_type": "markdown",
   "metadata": {},
   "source": [
    "# Load data"
   ]
  },
  {
   "cell_type": "code",
   "execution_count": 9,
   "metadata": {
    "ExecuteTime": {
     "end_time": "2019-10-18T16:33:31.205723Z",
     "start_time": "2019-10-18T16:33:28.089797Z"
    }
   },
   "outputs": [
    {
     "name": "stdout",
     "output_type": "stream",
     "text": [
      "Number of events: 6787\n",
      "Number of candidates: 6789\n"
     ]
    }
   ],
   "source": [
    "fn = directory + '/out*.root'\n",
    "dMC = extarct_multiple(fn, branches=branches)\n",
    "print 'Number of events:', dMC['n_B'].shape[0]\n",
    "print 'Number of candidates:', dMC['mass_Kpi'].shape[0]"
   ]
  },
  {
   "cell_type": "markdown",
   "metadata": {},
   "source": [
    "# Cuts declaration"
   ]
  },
  {
   "cell_type": "code",
   "execution_count": 14,
   "metadata": {
    "ExecuteTime": {
     "end_time": "2019-10-18T16:34:05.748955Z",
     "start_time": "2019-10-18T16:34:05.734389Z"
    }
   },
   "outputs": [],
   "source": [
    "analysis_selection = {\n",
    "'mass_MuDst'      : ['<', 5.280],\n",
    "'cos_MuDst_PV' : ['>', 0.98]\n",
    "}"
   ]
  },
  {
   "cell_type": "code",
   "execution_count": 15,
   "metadata": {
    "ExecuteTime": {
     "end_time": "2019-10-18T16:34:06.293979Z",
     "start_time": "2019-10-18T16:34:06.278261Z"
    }
   },
   "outputs": [],
   "source": [
    "def createSel(d, cut):\n",
    "    sel = np.ones_like(d[cut.keys()[0]], dtype=bool)\n",
    "    for k, v in cut.iteritems():\n",
    "        sel = np.logical_and(sel, ops[v[0]](d[k], v[1]) )\n",
    "    return sel"
   ]
  },
  {
   "cell_type": "markdown",
   "metadata": {},
   "source": [
    "# Studing the effect of Hammer reweights"
   ]
  },
  {
   "cell_type": "code",
   "execution_count": 16,
   "metadata": {
    "ExecuteTime": {
     "end_time": "2019-10-18T16:34:07.407767Z",
     "start_time": "2019-10-18T16:34:07.390552Z"
    }
   },
   "outputs": [],
   "source": [
    "an_sel = createSel(dMC, analysis_selection)\n",
    "\n",
    "binning = {\n",
    "    'q2'      : [20, -2, 10.7],\n",
    "    'M2_miss' : [40/2, -5, 10],\n",
    "    'Est_mu'  : [30/2, 0.10, 2.500]\n",
    "}\n",
    "\n",
    "varTitle = {\n",
    "    'q2'      : 'q^{2}',\n",
    "    'M2_miss' : 'm^{2}_{miss}',\n",
    "    'Est_mu'  : 'E_{#mu}*'\n",
    "}"
   ]
  },
  {
   "cell_type": "code",
   "execution_count": 21,
   "metadata": {
    "ExecuteTime": {
     "end_time": "2019-10-18T16:41:35.611287Z",
     "start_time": "2019-10-18T16:41:35.502830Z"
    },
    "scrolled": false
   },
   "outputs": [
    {
     "data": {
      "image/png": "[encoded data removed]",
      "text/plain": [
       "<IPython.core.display.Image object>"
      ]
     },
     "metadata": {},
     "output_type": "display_data"
    },
    {
     "data": {
      "image/png": "[encoded data removed]",
      "text/plain": [
       "<IPython.core.display.Image object>"
      ]
     },
     "metadata": {},
     "output_type": "display_data"
    }
   ],
   "source": [
    "# for par_name in ['R0', 'R1', 'R2', 'RhoSq']:\n",
    "par_name = 'R2'\n",
    "for var in ['Est_mu', 'q2']:\n",
    "\n",
    "    h = create_TH1D(dMC[var][an_sel], \n",
    "                    axis_title=[varTitle[var]+' [GeV]', '1/#sigma d#sigma/d'+varTitle[var]],\n",
    "                    binning=binning[var],\n",
    "                    opt='overflow+undeflow',\n",
    "                    weights=np.repeat(dMC['wh_CLNCentral'], dMC['n_B'].astype(np.int))[an_sel]\n",
    "                   )\n",
    "    h.Scale(1./h.Integral())\n",
    "#     h.Sumw2(0)\n",
    "\n",
    "    hUp = create_TH1D(dMC[var][an_sel],\n",
    "                    binning=binning[var],\n",
    "                    opt='overflow+undeflow',\n",
    "                    weights=np.repeat(dMC['wh_CLN'+par_name+'Up'], dMC['n_B'].astype(np.int))[an_sel]\n",
    "                   )\n",
    "    hUp.Scale(1./hUp.Integral())\n",
    "    hUp.Sumw2(0)\n",
    "    hUp.SetLineColor(2)\n",
    "\n",
    "\n",
    "    hDown = create_TH1D(dMC[var][an_sel],\n",
    "                    binning=binning[var],\n",
    "                    opt='overflow+undeflow',\n",
    "                    weights=np.repeat(dMC['wh_CLN'+par_name+'Down'], dMC['n_B'].astype(np.int))[an_sel]\n",
    "                   )\n",
    "    hDown.Scale(1./hDown.Integral())\n",
    "    hDown.Sumw2(0)\n",
    "    hDown.SetLineColor(4)\n",
    "\n",
    "    N = binning[var][0]\n",
    "    gr_central = rt.TGraph(N)\n",
    "    gr_central.SetLineColor(1)\n",
    "\n",
    "    gr_err = rt.TGraphAsymmErrors(N)\n",
    "    gr_err.SetLineWidth(3)\n",
    "    gr_err.SetLineColor(8)\n",
    "    gr_err.SetFillStyle(1)\n",
    "    gr_err.SetFillColor(8)\n",
    "    for i in range(1, N+1):\n",
    "        x = h.GetBinCenter(i)\n",
    "        dx = 0.5*h.GetBinWidth(i)\n",
    "        y = h.GetBinContent(i)\n",
    "        dymax = np.max([hUp.GetBinContent(i), y, hDown.GetBinContent(i)]) - y\n",
    "        dymin = y - np.min([hUp.GetBinContent(i), y, hDown.GetBinContent(i)])\n",
    "\n",
    "        gr_central.SetPoint(i-1, x, y)\n",
    "        gr_err.SetPoint(i-1, x, y)\n",
    "        gr_err.SetPointError(i-1, dx, dx, dymin, dymax)\n",
    "\n",
    "    leg = rt.TLegend(0.19, 0.7, 0.44, 0.9)\n",
    "    leg.SetLineWidth(0)\n",
    "    leg.SetBorderSize(0)\n",
    "    leg.AddEntry(gr_err, par_name + ' +/- 1#sigma x10', 'f')\n",
    "    leg.AddEntry(h, 'Central', 'l')\n",
    "\n",
    "\n",
    "    # c = drawOnCMSCanvas(CMS_lumi, [h, hUp, hDown], ['same']*3)\n",
    "    c = drawOnCMSCanvas(CMS_lumi, [h, gr_err, h], ['','2', 'same'], 'c_'+var+par_name)\n",
    "    leg.Draw()\n",
    "    c.Draw()"
   ]
  },
  {
   "cell_type": "code",
   "execution_count": null,
   "metadata": {},
   "outputs": [],
   "source": []
  },
  {
   "cell_type": "code",
   "execution_count": null,
   "metadata": {},
   "outputs": [],
   "source": []
  }
 ],
 "metadata": {
  "kernelspec": {
   "display_name": "Python 2",
   "language": "python",
   "name": "python2"
  },
  "language_info": {
   "codemirror_mode": {
    "name": "ipython",
    "version": 2
   },
   "file_extension": ".py",
   "mimetype": "text/x-python",
   "name": "python",
   "nbconvert_exporter": "python",
   "pygments_lexer": "ipython2",
   "version": "2.7.14"
  }
 },
 "nbformat": 4,
 "nbformat_minor": 2
}
