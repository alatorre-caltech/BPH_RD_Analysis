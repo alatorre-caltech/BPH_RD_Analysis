{
 "cells": [
  {
   "cell_type": "code",
   "execution_count": 2,
   "metadata": {
    "ExecuteTime": {
     "end_time": "2019-05-21T01:45:18.591371Z",
     "start_time": "2019-05-21T01:45:15.152734Z"
    }
   },
   "outputs": [
    {
     "name": "stdout",
     "output_type": "stream",
     "text": [
      "Welcome to JupyROOT 6.10/08\n"
     ]
    }
   ],
   "source": [
    "import numpy as np\n",
    "import scipy.stats as sps\n",
    "from glob import glob\n",
    "import uproot as ur\n",
    "import ROOT as rt\n",
    "import ROOT.RooFit as rf\n",
    "from scipy.special import erf\n",
    "from histo_utilities import create_TH1D, create_TH2D, std_color_list\n",
    "from cebefo_style import Set_2D_colz_graphics\n",
    "from particle import Particle\n",
    "\n",
    "import CMS_lumi, tdrstyle\n",
    "tdrstyle.setTDRStyle()\n",
    "CMS_lumi.writeExtraText = 1\n",
    "CMS_lumi.extraText = \"     Simulation Preliminary\"\n",
    "\n",
    "donotdelete = []"
   ]
  },
  {
   "cell_type": "code",
   "execution_count": 3,
   "metadata": {
    "ExecuteTime": {
     "end_time": "2019-05-21T01:45:18.609949Z",
     "start_time": "2019-05-21T01:45:18.594162Z"
    }
   },
   "outputs": [],
   "source": [
    "import operator\n",
    "ops = {'>': operator.gt, '<': operator.lt, }"
   ]
  },
  {
   "cell_type": "code",
   "execution_count": 4,
   "metadata": {
    "ExecuteTime": {
     "end_time": "2019-05-21T01:45:18.642055Z",
     "start_time": "2019-05-21T01:45:18.614063Z"
    }
   },
   "outputs": [],
   "source": [
    "rt.gErrorIgnoreLevel = rt.kError\n",
    "rt.RooMsgService.instance().setGlobalKillBelow(rt.RooFit.ERROR)"
   ]
  },
  {
   "cell_type": "code",
   "execution_count": 5,
   "metadata": {
    "ExecuteTime": {
     "end_time": "2019-05-21T01:45:18.931906Z",
     "start_time": "2019-05-21T01:45:18.644850Z"
    }
   },
   "outputs": [
    {
     "name": "stdout",
     "output_type": "stream",
     "text": [
      "1.86483\n",
      "2.01026\n",
      "mD* - mD0 = 0.14543\n"
     ]
    }
   ],
   "source": [
    "m_D0 = 1e-3*Particle.from_string('D0').mass\n",
    "print m_D0\n",
    "m_Dst = 1e-3*Particle.from_string('D*+').mass\n",
    "print m_Dst\n",
    "m_pi = 1e-3*Particle.from_string('pi+').mass\n",
    "print 'mD* - mD0 =', m_Dst - m_D0"
   ]
  },
  {
   "cell_type": "code",
   "execution_count": 6,
   "metadata": {
    "ExecuteTime": {
     "end_time": "2019-05-21T01:45:18.954627Z",
     "start_time": "2019-05-21T01:45:18.936016Z"
    }
   },
   "outputs": [],
   "source": [
    "def drawOnCMSCanvas(dobj, opt = None, tag=''):\n",
    "    c = rt.TCanvas('c'+tag, 'c'+tag, 50, 50, 800, 600)\n",
    "    c.SetTickx(0)\n",
    "    c.SetTicky(0)\n",
    "    \n",
    "    if dobj.__class__ == rt.RooPlot:\n",
    "        dobj.Draw()\n",
    "    elif dobj[0].__class__ in [rt.TH1D, rt.TH2D]:\n",
    "        for i, o in enumerate(dobj):\n",
    "            do = ''\n",
    "            if not (opt is None):\n",
    "                if opt == 'same':\n",
    "                    if i>0:\n",
    "                        do = 'SAME'\n",
    "                else:\n",
    "                    do = opt[i]\n",
    "            o.Draw(do)\n",
    "    else:\n",
    "        print 'Class not recognized'\n",
    "        raise\n",
    "        \n",
    "    \n",
    "    CMS_lumi.CMS_lumi(c, -1, 0)\n",
    "    c.obj = dobj\n",
    "    c.Draw()\n",
    "    return c"
   ]
  },
  {
   "cell_type": "code",
   "execution_count": 7,
   "metadata": {
    "ExecuteTime": {
     "end_time": "2019-05-21T01:45:18.974519Z",
     "start_time": "2019-05-21T01:45:18.958849Z"
    }
   },
   "outputs": [],
   "source": [
    "def extarct(t, branches = []):\n",
    "    if len(branches) == 0:\n",
    "        branches = t.keys()\n",
    "    l = {}\n",
    "    for k in branches:\n",
    "        print 'Loading branch', k\n",
    "        m = []\n",
    "        for i, e in enumerate(t.array(k)):\n",
    "            m += list(e)\n",
    "        l[k] = np.array(m)\n",
    "    \n",
    "    return l"
   ]
  },
  {
   "cell_type": "code",
   "execution_count": 8,
   "metadata": {
    "ExecuteTime": {
     "end_time": "2019-05-21T01:45:18.994524Z",
     "start_time": "2019-05-21T01:45:18.977338Z"
    }
   },
   "outputs": [],
   "source": [
    "def extarct_multiple(fname, branches = []):\n",
    "    if len(branches) == 0:\n",
    "        print 'Must give a branches list'\n",
    "    l = {}\n",
    "    for b in branches:\n",
    "        l[b] = []\n",
    "    \n",
    "    flist = glob(fname)\n",
    "    \n",
    "    for i,f in enumerate(flist):\n",
    "        t = ur.open(f)\n",
    "        if 'outA;1' in t.keys():\n",
    "            t=t['outA']['Tevts']\n",
    "            for k in branches:\n",
    "                \n",
    "                for i, e in enumerate(t.array(k)):\n",
    "                    l[k] += list(e)\n",
    "    \n",
    "    for b in branches:\n",
    "        l[b] = np.array(l[b])\n",
    "    return l"
   ]
  },
  {
   "cell_type": "code",
   "execution_count": 9,
   "metadata": {
    "ExecuteTime": {
     "end_time": "2019-05-21T01:45:19.019761Z",
     "start_time": "2019-05-21T01:45:18.998911Z"
    }
   },
   "outputs": [],
   "source": [
    "cl = rt.TLine()\n",
    "cl.SetLineColor(6)\n",
    "cl.SetLineStyle(9)\n",
    "cl.SetLineWidth(2)"
   ]
  },
  {
   "cell_type": "code",
   "execution_count": 10,
   "metadata": {
    "ExecuteTime": {
     "end_time": "2019-05-21T01:45:19.823493Z",
     "start_time": "2019-05-21T01:45:19.807926Z"
    }
   },
   "outputs": [
    {
     "data": {
      "text/plain": [
       "True"
      ]
     },
     "execution_count": 10,
     "metadata": {},
     "output_type": "execute_result"
    }
   ],
   "source": [
    "isinstance(4.3, float)"
   ]
  },
  {
   "cell_type": "code",
   "execution_count": 11,
   "metadata": {
    "ExecuteTime": {
     "end_time": "2019-05-21T01:45:21.131348Z",
     "start_time": "2019-05-21T01:45:20.672158Z"
    }
   },
   "outputs": [
    {
     "name": "stdout",
     "output_type": "stream",
     "text": [
      "['n_D0', 'n_Dst', 'n_K', 'n_pi', 'n_pis', 'trgMu_charge', 'trgMu_eta', 'trgMu_phi', 'trgMu_pt', 'chi2_D0pis', 'chi2_kpi', 'cos_D0pis_vtxMu', 'cos_kpi_vtxMu', 'd_vtxD0pis_vtxMu', 'd_vtxkpi_vtxMu', 'dca_D0pis_vtxMu', 'dca_kpi_vtxMu', 'mass_D0pis', 'mass_kpi', 'sigd_vtxD0pis_vtxMu', 'sigd_vtxkpi_vtxMu', 'sigdca_D0pis_vtxMu', 'sigdca_kpi_vtxMu'] \n",
      "\n",
      "\n",
      "chi2_D0pis\n",
      "chi2_kpi\n",
      "cos_D0pis_vtxMu\n",
      "cos_kpi_vtxMu\n",
      "d_vtxD0pis_vtxMu\n",
      "d_vtxkpi_vtxMu\n",
      "dca_D0pis_vtxMu\n",
      "dca_kpi_vtxMu\n",
      "mass_D0pis\n",
      "mass_kpi\n",
      "sigd_vtxD0pis_vtxMu\n",
      "sigd_vtxkpi_vtxMu\n",
      "sigdca_D0pis_vtxMu\n",
      "sigdca_kpi_vtxMu\n"
     ]
    }
   ],
   "source": [
    "tMC = ur.open('../data/cmsMC_private/BPH_Tag-B0_MuNuDmst-pD0bar-kp_13TeV-pythia8_SoftQCD_PTFilter5_0p0-evtgen_HQET2_central_PU35_10-2-3_v0/MuDst_candidates.root')['outA']['Tevts']\n",
    "print tMC.keys(), '\\n\\n'\n",
    "branches = tMC.keys()[9:]\n",
    "for b in np.sort(branches):\n",
    "    print b"
   ]
  },
  {
   "cell_type": "code",
   "execution_count": 12,
   "metadata": {
    "ExecuteTime": {
     "end_time": "2019-05-21T01:45:25.501003Z",
     "start_time": "2019-05-21T01:45:21.799998Z"
    }
   },
   "outputs": [
    {
     "name": "stdout",
     "output_type": "stream",
     "text": [
      "Number of candidates: 26408\n"
     ]
    }
   ],
   "source": [
    "fn = '../data/cmsMC_private/BPH_Tag-B0_MuNuDmst-pD0bar-kp_13TeV-pythia8_SoftQCD_PTFilter5_0p0-evtgen_HQET2_central_PU35_10-2-3_v0'\n",
    "fn += '/MuDst_candidates/out*.root'\n",
    "dMC = extarct_multiple(fn, branches=branches)\n",
    "print 'Number of candidates:', dMC['mass_kpi'].shape[0]"
   ]
  },
  {
   "cell_type": "code",
   "execution_count": 13,
   "metadata": {
    "ExecuteTime": {
     "end_time": "2019-05-21T01:45:30.812654Z",
     "start_time": "2019-05-21T01:45:25.505168Z"
    },
    "scrolled": true
   },
   "outputs": [
    {
     "name": "stdout",
     "output_type": "stream",
     "text": [
      "Number of candidates: 243974\n"
     ]
    }
   ],
   "source": [
    "fn = '../data/cmsRD/Run2018D/MuDst_candidates/out*.root'\n",
    "dRD = extarct_multiple(fn, branches)\n",
    "print 'Number of candidates:', dRD['mass_kpi'].shape[0]"
   ]
  },
  {
   "cell_type": "markdown",
   "metadata": {},
   "source": [
    "# Cuts declaration"
   ]
  },
  {
   "cell_type": "code",
   "execution_count": 14,
   "metadata": {
    "ExecuteTime": {
     "end_time": "2019-05-21T01:45:30.821199Z",
     "start_time": "2019-05-21T01:45:30.816667Z"
    }
   },
   "outputs": [],
   "source": [
    "cut = {}\n",
    "cut['cos_D0pis_vtxMu'] = ['>', 0.95]\n",
    "cut['chi2_D0pis'] = ['<', 3.84]\n",
    "# cut['d_vtxkpi_vtxMu'] = ['>', 0.03]\n",
    "# cut['sigdca_kpi_vtxMu'] = ['>', 2.]"
   ]
  },
  {
   "cell_type": "code",
   "execution_count": 15,
   "metadata": {
    "ExecuteTime": {
     "end_time": "2019-05-21T01:45:30.840526Z",
     "start_time": "2019-05-21T01:45:30.824111Z"
    }
   },
   "outputs": [
    {
     "data": {
      "text/plain": [
       "6.63449"
      ]
     },
     "execution_count": 15,
     "metadata": {},
     "output_type": "execute_result"
    }
   ],
   "source": [
    "np.max(dRD['chi2_D0pis'])"
   ]
  },
  {
   "cell_type": "code",
   "execution_count": 16,
   "metadata": {
    "ExecuteTime": {
     "end_time": "2019-05-21T01:45:30.860946Z",
     "start_time": "2019-05-21T01:45:30.844678Z"
    }
   },
   "outputs": [
    {
     "data": {
      "text/plain": [
       "0.9499564787512949"
      ]
     },
     "execution_count": 16,
     "metadata": {},
     "output_type": "execute_result"
    }
   ],
   "source": [
    "sps.chi2.cdf(3.84, 1)"
   ]
  },
  {
   "cell_type": "code",
   "execution_count": 17,
   "metadata": {
    "ExecuteTime": {
     "end_time": "2019-05-21T01:45:30.880154Z",
     "start_time": "2019-05-21T01:45:30.864845Z"
    }
   },
   "outputs": [],
   "source": [
    "def createSel(d, cut):\n",
    "    sel = np.ones_like(d[cut.keys[0]], dtype=bool)\n",
    "    for k, v in cut.iteritems():\n",
    "        sel = np.logical_and(sel, ops[v[0]](d[k], v[1]) )\n",
    "    return sel"
   ]
  },
  {
   "cell_type": "markdown",
   "metadata": {},
   "source": [
    "## MC only"
   ]
  },
  {
   "cell_type": "code",
   "execution_count": 18,
   "metadata": {
    "ExecuteTime": {
     "end_time": "2019-05-21T01:45:30.901231Z",
     "start_time": "2019-05-21T01:45:30.884294Z"
    }
   },
   "outputs": [
    {
     "data": {
      "text/plain": [
       "array([3.4751408, 2.1315246, 2.320639 , ..., 2.1600392, 2.0108001,\n",
       "       2.1057537], dtype=float32)"
      ]
     },
     "execution_count": 18,
     "metadata": {},
     "output_type": "execute_result"
    }
   ],
   "source": [
    "dMC['mass_D0pis']"
   ]
  },
  {
   "cell_type": "code",
   "execution_count": 19,
   "metadata": {
    "ExecuteTime": {
     "end_time": "2019-05-21T01:45:31.461854Z",
     "start_time": "2019-05-21T01:45:30.905312Z"
    },
    "scrolled": false
   },
   "outputs": [
    {
     "data": {
      "text/plain": [
       "<ROOT.TLine object (\"TLine\") at 0x7fefbb159a40>"
      ]
     },
     "execution_count": 19,
     "metadata": {},
     "output_type": "execute_result"
    },
    {
     "name": "stdout",
     "output_type": "stream",
     "text": [
      " FCN=6.94837 FROM MIGRAD    STATUS=CONVERGED     277 CALLS         278 TOTAL\n",
      "                     EDM=1.37362e-07    STRATEGY= 1      ERROR MATRIX ACCURATE \n",
      "  EXT PARAMETER                                   STEP         FIRST   \n",
      "  NO.   NAME      VALUE            ERROR          SIZE      DERIVATIVE \n",
      "   1  p0           1.43700e+02   1.54587e+01   1.00704e-02  -5.23939e-05\n",
      "   2  p1           6.89066e+02   1.84119e+01   2.44778e-02  -1.45725e-05\n",
      "   3  p2           2.01034e+00   1.02105e-05   9.58602e-07  -1.24184e+01\n",
      "   4  p3           4.58179e-04   1.87756e-05   1.36319e-08  -4.60438e+01\n",
      "                               ERR DEF= 0.5\n"
     ]
    },
    {
     "data": {
      "image/png": "[encoded data removed]",
      "text/plain": [
       "<IPython.core.display.Image object>"
      ]
     },
     "metadata": {},
     "output_type": "display_data"
    }
   ],
   "source": [
    "h = create_TH1D(dMC['mass_D0pis'], axis_title=['m_{D0#pi} [GeV]', 'Events'], binning=[100,m_D0+m_pi-0.005,2.02])\n",
    "ffit = rt.TF1('ffit', '[0]+[1]*TMath::Gaus(x,[2],[3])', 2.009, 2.0115)\n",
    "ffit.SetParameters(1,100,2.01,0.001)\n",
    "r = h.Fit(ffit, 'LSR')\n",
    "CMS_lumi.extraText = \"     Simulation Preliminary\"\n",
    "c = drawOnCMSCanvas([h])\n",
    "cl.DrawLine(m_Dst, 0, m_Dst, 1800)"
   ]
  },
  {
   "cell_type": "code",
   "execution_count": 35,
   "metadata": {
    "ExecuteTime": {
     "end_time": "2019-05-21T01:50:14.381502Z",
     "start_time": "2019-05-21T01:50:14.265687Z"
    }
   },
   "outputs": [
    {
     "name": "stdout",
     "output_type": "stream",
     "text": [
      "Tot histo entries: 6463\n",
      "[WARNING] Chi2: 403.438409756 / 94\n",
      "Total: Nsig = 5857, Nbkg = 589\n",
      "Sig region histo entries: 6133\n",
      "Sig region: Nsig = 5841, Nbkg = 292\n",
      "\n"
     ]
    },
    {
     "data": {
      "image/png": "[encoded data removed]",
      "text/plain": [
       "<IPython.core.display.Image object>"
      ]
     },
     "metadata": {},
     "output_type": "display_data"
    }
   ],
   "source": [
    "binning = [50,2.007,2.02]\n",
    "m = rt.RooRealVar('m', 'm_{D0#pi}', binning[1], binning[2], 'GeV')\n",
    "frame = m.frame(rf.Title(\"\"))\n",
    "\n",
    "h.Sumw2()\n",
    "\n",
    "print 'Tot histo entries: {:.0f}'.format(h.Integral(1, h.binning[0]))\n",
    "\n",
    "mean = rt.RooRealVar('mean', 'm_{D0}', m_Dst, 0, 5, 'GeV')\n",
    "sigma = rt.RooRealVar('sigma', '#sigma', 0.0007, 0.00005, 0.05, 'GeV') \n",
    "pdf_sig = rt.RooGaussian('gaus','sig pdf', m, mean, sigma)\n",
    "\n",
    "nsig = rt.RooRealVar('nsig', 'N_{S}', 3000, 0, 1e6)\n",
    "pdf_sig_ext = rt.RooExtendPdf('esig', 'esig', pdf_sig, nsig)\n",
    "\n",
    "#         lam = rt.RooRealVar('lam', '#lambda', -2.1, -100, -0.1, 'GeV^{-1}')\n",
    "#         pdf_bkg = rt.RooExponential('expo', 'bkg pdf', m, lam)\n",
    "a0 = rt.RooRealVar('a0', 'a0', 10, 0, 100)\n",
    "a1 = rt.RooRealVar('a1', 'a1', 0.1, -10, 1000)\n",
    "# a2 = rt.RooRealVar('a2', 'a2', -0.1, -100, 1000)\n",
    "pdf_bkg = rt.RooPolynomial('poly', 'bkg pdf', m, rt.RooArgList(a0, a1), 0)\n",
    "\n",
    "nbkg = rt.RooRealVar('nbkg', 'N_{B}', 0, 1e6)\n",
    "pdf_bkg_ext = rt.RooExtendPdf('ebkg', 'ebkg', pdf_bkg, nbkg)\n",
    "\n",
    "data = rt.RooDataHist('d', 'd', rt.RooArgList(m), h)\n",
    "\n",
    "pdf_tot = rt.RooAddPdf('pdftot', 'pdftot', rt.RooArgList(pdf_sig_ext, pdf_bkg_ext))\n",
    "pdf_tot.fitTo(data, rt.RooFit.PrintLevel(-1))\n",
    "\n",
    "chi2 = rt.RooChi2Var(\"chi2\", 'chi2', pdf_tot, data)\n",
    "if chi2.getVal() > rt.TMath.ChisquareQuantile(0.95, h.binning[0]-1-5):\n",
    "    print '[WARNING] Chi2:', chi2.getVal(), '/', h.binning[0]-1-5\n",
    "\n",
    "print 'Total: Nsig = {:.0f}, Nbkg = {:.0f}'.format(nsig.getVal(), nbkg.getVal())\n",
    "\n",
    "data.plotOn(frame, rf.MarkerStyle(1), rf.DrawOption('E1'), rf.MarkerColor(1), rf.LineColor(1))\n",
    "pdf_tot.plotOn(frame, rf.LineColor(1), rf.LineWidth(2))\n",
    "pdf_tot.plotOn(frame, rf.Components('ebkg'), rf.LineColor(1), rf.LineWidth(2), rf.LineStyle(7))\n",
    "\n",
    "lb = mean.getVal()-3*sigma.getVal()\n",
    "hb = mean.getVal()+3*sigma.getVal()\n",
    "print 'Sig region histo entries: {:.0f}'.format(h.Integral(h.FindBin(lb), h.FindBin(hb)))\n",
    "\n",
    "\n",
    "Nsig = erf(3/np.sqrt(2)) * nsig.getVal()\n",
    "Nbkg = h.Integral(h.FindBin(lb), h.FindBin(hb)) - Nsig\n",
    "print 'Sig region: Nsig = {:.0f}, Nbkg = {:.0f}\\n'.format(Nsig, Nbkg)\n",
    "\n",
    "\n",
    "purity = Nsig/float(Nbkg+Nsig)\n",
    "\n",
    "CMS_lumi.extraText = \"     Data Preliminary\"\n",
    "c = drawOnCMSCanvas(frame)\n",
    "# mD0_avg = np.mean(sig_mean)\n",
    "# resD0_avg = np.mean(sig_sigma)\n",
    "# cl.DrawLine(mD0_avg-3*resD0_avg, 0, mD0_avg-3*resD0_avg, h.GetMaximum())\n",
    "# cl.DrawLine(mD0_avg+3*resD0_avg, 0, mD0_avg+3*resD0_avg, h.GetMaximum())\n",
    "\n",
    "leg = rt.TLegend(0.6,0.75,0.98,0.95)\n",
    "leg.SetLineWidth(0)\n",
    "leg.SetBorderSize(0)\n",
    "leg.SetFillStyle(0)\n",
    "leg.AddEntry(h, 'Purity={:.1f}% - #sigma_{{M}}= {:.1f} MeV'.format(purity*100, 1e3*sigma.getVal()), 'l')\n",
    "leg.Draw()\n",
    "# c.SetLogy()"
   ]
  },
  {
   "cell_type": "code",
   "execution_count": 19,
   "metadata": {
    "ExecuteTime": {
     "end_time": "2019-05-06T19:23:01.577879Z",
     "start_time": "2019-05-06T19:23:01.534515Z"
    }
   },
   "outputs": [
    {
     "data": {
      "image/png": "[encoded data removed]",
      "text/plain": [
       "<IPython.core.display.Image object>"
      ]
     },
     "metadata": {},
     "output_type": "display_data"
    }
   ],
   "source": [
    "h = create_TH1D(dMC['mass_D0pis']-dMC['mass_kpi'], axis_title=['m_{D0#pi} - m_{K#pi} [GeV]', 'Events'], binning=[100,0.,.5])\n",
    "CMS_lumi.extraText = \"     Simulation Preliminary\"\n",
    "c = drawOnCMSCanvas([h])"
   ]
  },
  {
   "cell_type": "code",
   "execution_count": 20,
   "metadata": {
    "ExecuteTime": {
     "end_time": "2019-05-06T19:23:01.641635Z",
     "start_time": "2019-05-06T19:23:01.582201Z"
    }
   },
   "outputs": [
    {
     "data": {
      "text/plain": [
       "<ROOT.TLine object (\"TLine\") at 0x7f8b1a0593f0>"
      ]
     },
     "execution_count": 20,
     "metadata": {},
     "output_type": "execute_result"
    },
    {
     "data": {
      "image/png": "[encoded data removed]",
      "text/plain": [
       "<IPython.core.display.Image object>"
      ]
     },
     "metadata": {},
     "output_type": "display_data"
    }
   ],
   "source": [
    "h = create_TH2D(np.column_stack((dMC['mass_D0pis'], dMC['cos_D0pis_vtxMu'])), \n",
    "                axis_title=['D0-#pi invarian mass [GeV]', 'D0-#pi PV pointing', ''],\n",
    "                binning=[100,m_D0+m_pi-0.005,3.02, 100, 0.7, 1]\n",
    "               )\n",
    "c = drawOnCMSCanvas([h], ['colz'])\n",
    "cl.DrawLine(h.binning[1], cut['cos_D0pis_vtxMu'][1], h.binning[2], cut['cos_D0pis_vtxMu'][1])\n",
    "# c.SetLogy()\n",
    "# c.SaveAs('../fig/1904_1/MC_kpi_MvsChi2.png')"
   ]
  },
  {
   "cell_type": "code",
   "execution_count": 21,
   "metadata": {
    "ExecuteTime": {
     "end_time": "2019-05-06T19:23:01.710122Z",
     "start_time": "2019-05-06T19:23:01.645707Z"
    }
   },
   "outputs": [
    {
     "data": {
      "image/png": "[encoded data removed]",
      "text/plain": [
       "<IPython.core.display.Image object>"
      ]
     },
     "metadata": {},
     "output_type": "display_data"
    }
   ],
   "source": [
    "h = create_TH2D(np.column_stack((dMC['mass_kpi'], dMC['d_vtxkpi_vtxMu'])), \n",
    "                axis_title=['K-#pi invarian mass [GeV]', '#left|#vec{V}_{K#pi} - #vec{V}_{#mu}#right| [mm]', ''],\n",
    "                binning=[np.linspace(0.6,3, num=100), np.logspace(-4, 2, num=50)]\n",
    "               )\n",
    "c = drawOnCMSCanvas([h], ['colz'])\n",
    "c.SetLogy()\n",
    "\n",
    "h = create_TH2D(np.column_stack((dMC['mass_D0pis'], dMC['d_vtxkpi_vtxMu'])), \n",
    "                axis_title=['D0-#pi invarian mass [GeV]', '#left|#vec{V}_{D0#pi} - #vec{V}_{#mu}#right| [mm]', ''],\n",
    "                binning=[np.linspace(m_D0+m_pi-0.005,3.02, num=100), np.logspace(-4, 2, num=50)]\n",
    "               )\n",
    "c = drawOnCMSCanvas([h], ['colz'])\n",
    "c.SetLogy()\n",
    "# cl.DrawLine(h.binning[0][0], cut['d_vtxkpi_vtxMu'], h.binning[0][-1], cut['d_vtxkpi_vtxMu'])"
   ]
  },
  {
   "cell_type": "markdown",
   "metadata": {},
   "source": [
    "## RD only"
   ]
  },
  {
   "cell_type": "code",
   "execution_count": 26,
   "metadata": {
    "ExecuteTime": {
     "end_time": "2019-05-06T19:25:30.909013Z",
     "start_time": "2019-05-06T19:25:30.856680Z"
    }
   },
   "outputs": [
    {
     "name": "stdout",
     "output_type": "stream",
     "text": [
      "Chi2 cut eff: 0.8819751284972989\n"
     ]
    },
    {
     "data": {
      "image/png": "[encoded data removed]",
      "text/plain": [
       "<IPython.core.display.Image object>"
      ]
     },
     "metadata": {},
     "output_type": "display_data"
    }
   ],
   "source": [
    "leg = rt.TLegend(0.7,0.7,0.95,0.95)\n",
    "leg.SetLineWidth(0)\n",
    "leg.SetBorderSize(0)\n",
    "leg.SetFillStyle(0)\n",
    "\n",
    "hl = []\n",
    "lsel = []\n",
    "\n",
    "# sel = np.ones_like(dRD['mass_D0pis'], dtype=bool)\n",
    "sel = dRD['chi2_D0pis'] < cut['chi2_D0pis'][1]\n",
    "print 'Chi2 cut eff:', np.sum(sel)/float(sel.shape[0])\n",
    "h = create_TH1D(dRD['mass_D0pis'][sel], axis_title=['m_{D0#pi} [GeV]', 'Events'], binning=[100,m_D0+m_pi-0.005,2.02])\n",
    "leg.AddEntry(h, 'D0 selection', 'l')\n",
    "hl.append(h)\n",
    "lsel.append(sel)\n",
    "\n",
    "# sel = np.logical_and(sel, dRD['cos_D0pis_vtxMu'] > cut['cos_D0pis_vtxMu'][1])\n",
    "# hcut = create_TH1D(dRD['mass_D0pis'][sel], binning=h.binning)\n",
    "# leg.AddEntry(hcut, '& vtx pointing > {:.2f}'.format(cut['cos_D0pis_vtxMu'][1]), 'l')\n",
    "# hcut.SetLineColor(2)\n",
    "# hl.append(hcut)\n",
    "# lsel.append(sel)\n",
    "\n",
    "CMS_lumi.extraText = \"     Data Preliminary\"\n",
    "c = drawOnCMSCanvas(hl, 'same')\n",
    "hl[0].GetYaxis().SetRangeUser(0, hl[0].GetMaximum()*1.1)\n",
    "leg.Draw()"
   ]
  },
  {
   "cell_type": "code",
   "execution_count": 32,
   "metadata": {
    "ExecuteTime": {
     "end_time": "2019-05-06T19:30:37.513154Z",
     "start_time": "2019-05-06T19:30:37.263473Z"
    },
    "scrolled": false
   },
   "outputs": [
    {
     "name": "stdout",
     "output_type": "stream",
     "text": [
      "Tot histo entries: 4638\n",
      "[WARNING] Chi2: 174.695863464 / 94\n",
      "Total: Nsig = 3115, Nbkg = 1525\n",
      "Sig region histo entries: 3625\n",
      "Sig region: Nsig = 3106, Nbkg = 519\n",
      "\n"
     ]
    },
    {
     "data": {
      "image/png": "[encoded data removed]",
      "text/plain": [
       "<IPython.core.display.Image object>"
      ]
     },
     "metadata": {},
     "output_type": "display_data"
    }
   ],
   "source": [
    "pk_width = 0.04\n",
    "fit_stop = 0.06\n",
    "\n",
    "leg = rt.TLegend(0.6,0.75,0.98,0.95)\n",
    "leg.SetLineWidth(0)\n",
    "leg.SetBorderSize(0)\n",
    "leg.SetFillStyle(0)\n",
    "\n",
    "useRooFit = True\n",
    "\n",
    "dobj = []\n",
    "N_sig = []\n",
    "purity = []\n",
    "\n",
    "sig_mean = []\n",
    "sig_sigma = []\n",
    "\n",
    "binning = [100,2.007,2.02]\n",
    "m = rt.RooRealVar('m', 'm_{D0#pi}', binning[1], binning[2], 'GeV')\n",
    "frame = m.frame(rf.Title(\"\"))\n",
    "\n",
    "for i, h in enumerate(hl):\n",
    "    h = create_TH1D(dRD['mass_D0pis'][lsel[i]], binning=binning)\n",
    "    h.SetLineColor(hl[i].GetLineColor())\n",
    "    h.Sumw2()\n",
    "    dobj.append(h)\n",
    "    \n",
    "    print 'Tot histo entries: {:.0f}'.format(h.Integral(1, h.binning[0]))\n",
    "    \n",
    "    if(useRooFit):\n",
    "        mean = rt.RooRealVar('mean', 'm_{D0}', m_Dst, 0, 5, 'GeV')\n",
    "        sigma = rt.RooRealVar('sigma', '#sigma', 0.001, 0.00005, 0.05, 'GeV') \n",
    "        pdf_sig = rt.RooGaussian('gaus','sig pdf', m, mean, sigma)\n",
    "        \n",
    "        nsig = rt.RooRealVar('nsig', 'N_{S}', 3000, 0, 1e6)\n",
    "        pdf_sig_ext = rt.RooExtendPdf('esig', 'esig', pdf_sig, nsig)\n",
    "        \n",
    "#         lam = rt.RooRealVar('lam', '#lambda', -2.1, -100, -0.1, 'GeV^{-1}')\n",
    "#         pdf_bkg = rt.RooExponential('expo', 'bkg pdf', m, lam)\n",
    "        a0 = rt.RooRealVar('a0', 'a0', 10, 0, 100)\n",
    "        a1 = rt.RooRealVar('a1', 'a1', 0.1, -10, 1000)\n",
    "        a2 = rt.RooRealVar('a2', 'a2', -0.1, -100, 1000)\n",
    "        pdf_bkg = rt.RooPolynomial('poly', 'bkg pdf', m, rt.RooArgList(a0, a1, a2), 0)\n",
    "        \n",
    "        nbkg = rt.RooRealVar('nbkg', 'N_{B}', 0, 1e6)\n",
    "        pdf_bkg_ext = rt.RooExtendPdf('ebkg', 'ebkg', pdf_bkg, nbkg)\n",
    "        \n",
    "        data = rt.RooDataHist('d', 'd', rt.RooArgList(m), h)\n",
    "\n",
    "        pdf_tot = rt.RooAddPdf('pdftot', 'pdftot', rt.RooArgList(pdf_sig_ext, pdf_bkg_ext))\n",
    "        pdf_tot.fitTo(data, rt.RooFit.PrintLevel(-1))\n",
    "        \n",
    "        chi2 = rt.RooChi2Var(\"chi2\", 'chi2', pdf_tot, data)\n",
    "        if chi2.getVal() > rt.TMath.ChisquareQuantile(0.95, h.binning[0]-1-5):\n",
    "            print '[WARNING] Chi2:', chi2.getVal(), '/', h.binning[0]-1-5\n",
    "            \n",
    "        print 'Total: Nsig = {:.0f}, Nbkg = {:.0f}'.format(nsig.getVal(), nbkg.getVal())\n",
    "\n",
    "        data.plotOn(frame, rf.MarkerStyle(1), rf.DrawOption('E1'), rf.MarkerColor(hl[i].GetLineColor()), rf.LineColor(hl[i].GetLineColor()))\n",
    "        pdf_tot.plotOn(frame, rf.LineColor(hl[i].GetLineColor()), rf.LineWidth(2))\n",
    "        pdf_tot.plotOn(frame, rf.Components('ebkg'), rf.LineColor(hl[i].GetLineColor()), rf.LineWidth(2), rf.LineStyle(7))\n",
    "        \n",
    "        lb = mean.getVal()-3*sigma.getVal()\n",
    "        hb = mean.getVal()+3*sigma.getVal()\n",
    "        print 'Sig region histo entries: {:.0f}'.format(h.Integral(h.FindBin(lb), h.FindBin(hb)))\n",
    "\n",
    "        \n",
    "        Nsig = erf(3/np.sqrt(2)) * nsig.getVal()\n",
    "        Nbkg = h.Integral(h.FindBin(lb), h.FindBin(hb)) - Nsig\n",
    "        print 'Sig region: Nsig = {:.0f}, Nbkg = {:.0f}\\n'.format(Nsig, Nbkg)\n",
    "        \n",
    "        N_sig.append(Nsig)\n",
    "        purity.append(Nsig/float(Nbkg+Nsig))\n",
    "        \n",
    "        sig_mean.append(mean.getVal())\n",
    "        sig_sigma.append(sigma.getVal())\n",
    "        \n",
    "        leg.AddEntry(h, 'Purity={:.1f}% - #sigma_{{M}}= {:.1f} MeV'.format(purity[-1]*100, 1e3*sigma.getVal()), 'l')\n",
    "\n",
    "    else:\n",
    "        if i == 0:\n",
    "            fun = 'expo'\n",
    "        else:\n",
    "            fun = 'expo'\n",
    "\n",
    "        f = rt.TF1('bkg', fun, h.binning[1], h.binning[2])\n",
    "        f.SetLineColor(hl[i].GetLineColor())\n",
    "        f.SetLineStyle(9)\n",
    "        r = h.Fit(f, 'LSNQ', '', h.binning[1], m_D0-fit_stop).Get()\n",
    "        if r.Prob() < 0.05:\n",
    "            print '[WARNING]: Bad fit fot histo N', i\n",
    "        dobj.append(f)\n",
    "\n",
    "        n_start = h.FindBin(m_D0-pk_width)\n",
    "        n_stop = h.FindBin(m_D0+pk_width)\n",
    "\n",
    "        Nsig = 0\n",
    "        Ntot = 0\n",
    "        for n in range(n_start, n_stop+1):\n",
    "            Nsig += h.GetBinContent(n) - f.Eval(h.GetBinCenter(n))\n",
    "            Ntot += h.GetBinContent(n)\n",
    "        N_sig.append(Nsig)\n",
    "        purity.append(Nsig/Ntot)\n",
    "        leg.AddEntry(h, '#varepsilon={:.1f}% - Purity={:.1f}%'.format(100*Nsig/N_sig[0], purity[-1]*100), 'l')\n",
    "\n",
    "\n",
    "if useRooFit:\n",
    "    CMS_lumi.extraText = \"     Data Preliminary\"\n",
    "    c = drawOnCMSCanvas(frame)\n",
    "    mD0_avg = np.mean(sig_mean)\n",
    "    resD0_avg = np.mean(sig_sigma)\n",
    "    cl.DrawLine(mD0_avg-3*resD0_avg, 0, mD0_avg-3*resD0_avg, dobj[0].GetMaximum())\n",
    "    cl.DrawLine(mD0_avg+3*resD0_avg, 0, mD0_avg+3*resD0_avg, dobj[0].GetMaximum())\n",
    "else:\n",
    "    hmax = np.max([h.GetMaximum() if i%2 == 0 else 0 for i,h in enumerate(dobj)])\n",
    "    hmin = np.min([h.GetMinimum() if i%2 == 0 else 1e10 for i,h in enumerate(dobj)])\n",
    "    dobj[0].GetYaxis().SetRangeUser(hmin, 1.*hmax)\n",
    "    c = drawOnCMSCanvas(dobj, ['SAME']*len(dobj))\n",
    "    cl.DrawLine(m_D0-pk_width, hmin, m_D0-pk_width, hmax)\n",
    "    cl.DrawLine(m_D0+pk_width, hmin, m_D0+pk_width, hmax)\n",
    "    cl.SetLineColor(5)\n",
    "    cl.DrawLine(m_D0-fit_stop, hmin, m_D0-fit_stop, hmax)\n",
    "    cl.DrawLine(m_D0+fit_stop, hmin, m_D0+fit_stop, hmax)\n",
    "    cl.SetLineColor(6)\n",
    "leg.Draw()\n",
    "# c.SetLogy()"
   ]
  },
  {
   "cell_type": "code",
   "execution_count": null,
   "metadata": {
    "ExecuteTime": {
     "end_time": "2019-05-06T19:23:02.439533Z",
     "start_time": "2019-05-06T19:22:52.750Z"
    }
   },
   "outputs": [],
   "source": [
    "h = create_TH1D(dRD['mass_D0pis']-dRD['mass_kpi'], axis_title=['m_{D0#pi} - m_{K#pi} [GeV]', 'Events'], binning=[100,0.,.5])\n",
    "CMS_lumi.extraText = \"     Data Preliminary\"\n",
    "c = drawOnCMSCanvas([h])"
   ]
  }
 ],
 "metadata": {
  "kernelspec": {
   "display_name": "Python 2",
   "language": "python",
   "name": "python2"
  },
  "language_info": {
   "codemirror_mode": {
    "name": "ipython",
    "version": 2
   },
   "file_extension": ".py",
   "mimetype": "text/x-python",
   "name": "python",
   "nbconvert_exporter": "python",
   "pygments_lexer": "ipython2",
   "version": "2.7.14"
  }
 },
 "nbformat": 4,
 "nbformat_minor": 2
}
