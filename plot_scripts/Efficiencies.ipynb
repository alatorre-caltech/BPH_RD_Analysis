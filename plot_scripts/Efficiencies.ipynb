{
 "cells": [
  {
   "cell_type": "code",
   "execution_count": 1,
   "metadata": {
    "ExecuteTime": {
     "end_time": "2019-06-06T22:16:55.512153Z",
     "start_time": "2019-06-06T22:16:53.405427Z"
    }
   },
   "outputs": [
    {
     "name": "stdout",
     "output_type": "stream",
     "text": [
      "Welcome to JupyROOT 6.10/08\n"
     ]
    }
   ],
   "source": [
    "import numpy as np\n",
    "import scipy.stats as sps\n",
    "from glob import glob\n",
    "import uproot as ur\n",
    "import ROOT as rt\n",
    "import ROOT.RooFit as rf\n",
    "from scipy.special import erf\n",
    "from histo_utilities import create_TH1D, create_TH2D, std_color_list, SetMaxToMaxHist\n",
    "from cebefo_style import Set_2D_colz_graphics\n",
    "from particle import Particle\n",
    "\n",
    "from analysis_utilities import drawOnCMSCanvas, extarct, extarct_multiple, createSel\n",
    "\n",
    "import CMS_lumi, tdrstyle\n",
    "tdrstyle.setTDRStyle()\n",
    "CMS_lumi.writeExtraText = 1\n",
    "CMS_lumi.extraText = \"     Simulation Preliminary\"\n",
    "\n",
    "donotdelete = []"
   ]
  },
  {
   "cell_type": "code",
   "execution_count": 2,
   "metadata": {
    "ExecuteTime": {
     "end_time": "2019-06-06T22:16:55.532525Z",
     "start_time": "2019-06-06T22:16:55.516263Z"
    }
   },
   "outputs": [],
   "source": [
    "import operator\n",
    "ops = {'>': operator.gt, '<': operator.lt, }"
   ]
  },
  {
   "cell_type": "code",
   "execution_count": 3,
   "metadata": {
    "ExecuteTime": {
     "end_time": "2019-06-06T22:16:55.564862Z",
     "start_time": "2019-06-06T22:16:55.535348Z"
    }
   },
   "outputs": [],
   "source": [
    "rt.gErrorIgnoreLevel = rt.kError\n",
    "rt.RooMsgService.instance().setGlobalKillBelow(rt.RooFit.ERROR)"
   ]
  },
  {
   "cell_type": "code",
   "execution_count": 4,
   "metadata": {
    "ExecuteTime": {
     "end_time": "2019-06-06T22:16:55.871306Z",
     "start_time": "2019-06-06T22:16:55.568913Z"
    }
   },
   "outputs": [
    {
     "name": "stdout",
     "output_type": "stream",
     "text": [
      "1.86483\n",
      "2.01026\n",
      "5.27963\n",
      "mD* - mD0 = 0.14543\n"
     ]
    }
   ],
   "source": [
    "m_D0 = 1e-3*Particle.from_string('D0').mass\n",
    "print m_D0\n",
    "m_Dst = 1e-3*Particle.from_string('D*+').mass\n",
    "print m_Dst\n",
    "m_B0 = 1e-3*Particle.from_string('B0').mass\n",
    "print m_B0\n",
    "m_pi = 1e-3*Particle.from_string('pi+').mass\n",
    "print 'mD* - mD0 =', m_Dst - m_D0"
   ]
  },
  {
   "cell_type": "code",
   "execution_count": 5,
   "metadata": {
    "ExecuteTime": {
     "end_time": "2019-06-06T22:16:55.892322Z",
     "start_time": "2019-06-06T22:16:55.875538Z"
    }
   },
   "outputs": [],
   "source": [
    "def efficiency(k,N):\n",
    "    e = float(k)/N\n",
    "    de = np.sqrt(e*(1-e)/N)\n",
    "    return e, de"
   ]
  },
  {
   "cell_type": "code",
   "execution_count": 6,
   "metadata": {
    "ExecuteTime": {
     "end_time": "2019-06-06T22:16:55.918340Z",
     "start_time": "2019-06-06T22:16:55.895277Z"
    }
   },
   "outputs": [],
   "source": [
    "cl = rt.TLine()\n",
    "cl.SetLineColor(6)\n",
    "cl.SetLineStyle(9)\n",
    "cl.SetLineWidth(2)"
   ]
  },
  {
   "cell_type": "code",
   "execution_count": 7,
   "metadata": {
    "ExecuteTime": {
     "end_time": "2019-06-06T22:16:59.047613Z",
     "start_time": "2019-06-06T22:16:55.922671Z"
    }
   },
   "outputs": [
    {
     "data": {
      "text/plain": [
       "172774L"
      ]
     },
     "execution_count": 7,
     "metadata": {},
     "output_type": "execute_result"
    }
   ],
   "source": [
    "t_NoCuts_Mu_Mini = rt.TChain('Events')\n",
    "\n",
    "for fn in glob('../data/cmsMC_private/BPH_NoCuts_Tag-B0_MuNuDmst-pD0bar-kp_13TeV-pythia8_SoftQCD_PTFilter5_0p0-evtgen_HQET2_central_PU35_10-2-3_v0/jobs_out/*.root'):\n",
    "    t_NoCuts_Mu_Mini.Add(fn)\n",
    "    \n",
    "t_NoCuts_Mu_Mini.GetEntries()"
   ]
  },
  {
   "cell_type": "code",
   "execution_count": 8,
   "metadata": {
    "ExecuteTime": {
     "end_time": "2019-06-06T22:16:59.111001Z",
     "start_time": "2019-06-06T22:16:59.052035Z"
    }
   },
   "outputs": [
    {
     "data": {
      "text/plain": [
       "223L"
      ]
     },
     "execution_count": 8,
     "metadata": {},
     "output_type": "execute_result"
    }
   ],
   "source": [
    "f = rt.TFile('../data/cmsMC_private/BPH_NoCuts_Tag-B0_MuNuDmst-pD0bar-kp_13TeV-pythia8_SoftQCD_PTFilter5_0p0-evtgen_HQET2_central_PU35_10-2-3_v0/B02DstMu_candidates.root')\n",
    "t_NoCuts_Mu_Cand = f.Get('outA').Get('Tevts')\n",
    "\n",
    "t_NoCuts_Mu_Cand.GetEntries()"
   ]
  },
  {
   "cell_type": "code",
   "execution_count": 9,
   "metadata": {
    "ExecuteTime": {
     "end_time": "2019-06-06T22:17:00.536337Z",
     "start_time": "2019-06-06T22:16:59.311652Z"
    }
   },
   "outputs": [
    {
     "data": {
      "text/plain": [
       "68204L"
      ]
     },
     "execution_count": 9,
     "metadata": {},
     "output_type": "execute_result"
    }
   ],
   "source": [
    "t_NoCuts_Tau_Mini = rt.TChain('Events')\n",
    "\n",
    "for fn in glob('../data/cmsMC_private/BPH_NoCuts_Tag-B0_TauNuDmst-pD0bar-kp-t2mnn_pythia8_SoftQCD_PTFilter5_0p0-evtgen_HQET2_central_PU35_10-2-3_v0/jobs_out/*.root'):\n",
    "    t_NoCuts_Tau_Mini.Add(fn)\n",
    "    \n",
    "t_NoCuts_Tau_Mini.GetEntries()"
   ]
  },
  {
   "cell_type": "code",
   "execution_count": 11,
   "metadata": {
    "ExecuteTime": {
     "end_time": "2019-06-06T22:17:34.977438Z",
     "start_time": "2019-06-06T22:17:34.958763Z"
    }
   },
   "outputs": [
    {
     "data": {
      "text/plain": [
       "18L"
      ]
     },
     "execution_count": 11,
     "metadata": {},
     "output_type": "execute_result"
    }
   ],
   "source": [
    "f = rt.TFile('../data/cmsMC_private/BPH_NoCuts_Tag-B0_TauNuDmst-pD0bar-kp-t2mnn_pythia8_SoftQCD_PTFilter5_0p0-evtgen_HQET2_central_PU35_10-2-3_v0/B02DstMu_candidates.root')\n",
    "t_NoCuts_Tau_Cand = f.Get('outA').Get('Tevts')\n",
    "\n",
    "t_NoCuts_Tau_Cand.GetEntries()"
   ]
  },
  {
   "cell_type": "code",
   "execution_count": 10,
   "metadata": {
    "ExecuteTime": {
     "end_time": "2019-06-06T22:17:03.029005Z",
     "start_time": "2019-06-06T22:17:03.012618Z"
    }
   },
   "outputs": [
    {
     "name": "stdout",
     "output_type": "stream",
     "text": [
      "Eff mu: 0.129 +/- 0.009%\n"
     ]
    }
   ],
   "source": [
    "eff_mu, d_eff_mu = efficiency(t_NoCuts_Mu_Cand.GetEntries(), t_NoCuts_Mu_Mini.GetEntries())\n",
    "print 'Eff mu: {:.3f} +/- {:.3f}%'.format(eff_mu*100, d_eff_mu*100)"
   ]
  },
  {
   "cell_type": "code",
   "execution_count": 13,
   "metadata": {
    "ExecuteTime": {
     "end_time": "2019-06-06T22:17:59.466981Z",
     "start_time": "2019-06-06T22:17:59.449988Z"
    }
   },
   "outputs": [
    {
     "name": "stdout",
     "output_type": "stream",
     "text": [
      "Eff tau: 0.026 +/- 0.006%\n"
     ]
    }
   ],
   "source": [
    "eff_tau, d_eff_tau = efficiency(t_NoCuts_Tau_Cand.GetEntries(), t_NoCuts_Tau_Mini.GetEntries())\n",
    "print 'Eff tau: {:.3f} +/- {:.3f}%'.format(eff_tau*100, d_eff_tau*100)"
   ]
  },
  {
   "cell_type": "code",
   "execution_count": 14,
   "metadata": {
    "ExecuteTime": {
     "end_time": "2019-06-06T22:20:01.488860Z",
     "start_time": "2019-06-06T22:20:01.472300Z"
    }
   },
   "outputs": [
    {
     "name": "stdout",
     "output_type": "stream",
     "text": [
      "Eff ratio: 4.89 +/ 1.20\n"
     ]
    }
   ],
   "source": [
    "E = eff_mu/eff_tau\n",
    "dE = E*np.hypot(d_eff_mu/eff_mu, d_eff_tau/eff_tau)\n",
    "\n",
    "print 'Eff ratio: {:.2f} +/ {:.2f}'.format(E, dE)"
   ]
  },
  {
   "cell_type": "code",
   "execution_count": null,
   "metadata": {},
   "outputs": [],
   "source": []
  }
 ],
 "metadata": {
  "kernelspec": {
   "display_name": "Python 2",
   "language": "python",
   "name": "python2"
  },
  "language_info": {
   "codemirror_mode": {
    "name": "ipython",
    "version": 2
   },
   "file_extension": ".py",
   "mimetype": "text/x-python",
   "name": "python",
   "nbconvert_exporter": "python",
   "pygments_lexer": "ipython2",
   "version": "2.7.15"
  }
 },
 "nbformat": 4,
 "nbformat_minor": 2
}
