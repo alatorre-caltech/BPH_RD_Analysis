{
 "cells": [
  {
   "cell_type": "markdown",
   "metadata": {},
   "source": [
    "PU comparison"
   ]
  },
  {
   "cell_type": "code",
   "execution_count": 1,
   "metadata": {
    "ExecuteTime": {
     "end_time": "2019-10-12T00:36:58.273565Z",
     "start_time": "2019-10-12T00:36:56.615219Z"
    }
   },
   "outputs": [
    {
     "name": "stdout",
     "output_type": "stream",
     "text": [
      "Welcome to JupyROOT 6.12/07\n"
     ]
    }
   ],
   "source": [
    "import numpy as np\n",
    "import scipy.stats as sps\n",
    "from glob import glob\n",
    "import matplotlib.pyplot as plt\n",
    "from scipy.special import factorial\n",
    "from scipy.optimize import minimize\n",
    "import uproot as ur\n",
    "import ROOT as rt\n",
    "import root_numpy as rtnp\n",
    "import ROOT.RooFit as rf\n",
    "from scipy.special import erf\n",
    "import sys, os, yaml\n",
    "sys.path.append('../lib')\n",
    "sys.path.append('../analysis')\n",
    "from histo_utilities import create_TH1D, create_TH2D, std_color_list, SetMaxToMaxHist, make_ratio_plot\n",
    "from cebefo_style import Set_2D_colz_graphics\n",
    "from progressBar import ProgressBar\n",
    "from array import array\n",
    "from categoriesDef import categories\n",
    "\n",
    "from analysis_utilities import drawOnCMSCanvas, getEff\n",
    "from lumi_utilities import getLumiReport\n",
    "\n",
    "import CMS_lumi, tdrstyle\n",
    "tdrstyle.setTDRStyle()\n",
    "CMS_lumi.writeExtraText = 1\n",
    "CMS_lumi.extraText = \"     Internal\"\n",
    "\n",
    "donotdelete = []"
   ]
  },
  {
   "cell_type": "code",
   "execution_count": 2,
   "metadata": {},
   "outputs": [],
   "source": [
    "# load FWLite C++ libraries\n",
    "rt.gSystem.Load(\"libFWCoreFWLite.so\");\n",
    "rt.gSystem.Load(\"libDataFormatsFWLite.so\");\n",
    "rt.FWLiteEnabler.enable()\n",
    "\n",
    "# load FWlite python libraries\n",
    "from DataFormats.FWLite import Events\n",
    "from DataFormats.FWLite import Handle"
   ]
  },
  {
   "cell_type": "code",
   "execution_count": 3,
   "metadata": {},
   "outputs": [],
   "source": [
    "from prettytable import PrettyTable"
   ]
  },
  {
   "cell_type": "code",
   "execution_count": 4,
   "metadata": {
    "ExecuteTime": {
     "end_time": "2019-10-12T00:36:58.304521Z",
     "start_time": "2019-10-12T00:36:58.277534Z"
    }
   },
   "outputs": [],
   "source": [
    "rt.gErrorIgnoreLevel = rt.kError\n",
    "rt.RooMsgService.instance().setGlobalKillBelow(rt.RooFit.ERROR)"
   ]
  },
  {
   "cell_type": "code",
   "execution_count": 5,
   "metadata": {
    "ExecuteTime": {
     "end_time": "2019-10-12T00:36:58.323931Z",
     "start_time": "2019-10-12T00:36:58.308518Z"
    }
   },
   "outputs": [
    {
     "name": "stdout",
     "output_type": "stream",
     "text": [
      "1.86483\n",
      "2.01026\n",
      "5.27963\n",
      "mD* - mD0 = 0.14543\n"
     ]
    }
   ],
   "source": [
    "m_D0 = 1.86483 #1e-3*Particle.from_string('D0').mass\n",
    "print m_D0\n",
    "m_Dst = 2.01026 #1e-3*Particle.from_string('D*+').mass\n",
    "print m_Dst\n",
    "m_B0 = 5.27963 #1e-3*Particle.from_string('B0').mass\n",
    "print m_B0\n",
    "m_pi = 0.13957018 #1e-3*Particle.from_string('pi+').mass\n",
    "print 'mD* - mD0 =', m_Dst - m_D0"
   ]
  },
  {
   "cell_type": "code",
   "execution_count": 6,
   "metadata": {
    "ExecuteTime": {
     "end_time": "2019-10-12T00:36:58.543204Z",
     "start_time": "2019-10-12T00:36:58.523898Z"
    }
   },
   "outputs": [],
   "source": [
    "cl = rt.TLine()\n",
    "cl.SetLineColor(6)\n",
    "cl.SetLineStyle(9)\n",
    "cl.SetLineWidth(2)"
   ]
  },
  {
   "cell_type": "code",
   "execution_count": 7,
   "metadata": {},
   "outputs": [],
   "source": [
    "def extractEff(fn):\n",
    "    with open(fn) as f:\n",
    "        for l in f.readlines():\n",
    "            if not l.startswith('Eff'): continue\n",
    "            return [float(l.split(' ')[1]), float(l.split(' ')[3])]\n",
    "    return [None, None]"
   ]
  },
  {
   "cell_type": "code",
   "execution_count": 8,
   "metadata": {},
   "outputs": [],
   "source": [
    "def extractNacc(fn):\n",
    "    with open(fn) as f:\n",
    "        for l in f.readlines():\n",
    "            if not l.startswith('N_accepted'): continue\n",
    "            return int(l.split(' ')[1])\n",
    "    return None"
   ]
  },
  {
   "cell_type": "markdown",
   "metadata": {},
   "source": [
    "# B2DstMu"
   ]
  },
  {
   "cell_type": "markdown",
   "metadata": {},
   "source": [
    "## Data"
   ]
  },
  {
   "cell_type": "code",
   "execution_count": 9,
   "metadata": {},
   "outputs": [
    {
     "data": {
      "image/png": "[encoded data removed]",
      "text/plain": [
       "<IPython.core.display.Image object>"
      ]
     },
     "metadata": {},
     "output_type": "display_data"
    }
   ],
   "source": [
    "RDloc = '../data/cmsRD/skimmed/B2DstMu_200304_{}.root'\n",
    "lumiFiles = glob('../data/cmsRD/lumiReport/ParkingBPH*_Run2018D*_B2DstMu_200304_brilcalcPerTrigger.yaml')\n",
    "\n",
    "# Get the lumi\n",
    "lumis = []\n",
    "for ic, cat in enumerate(['low', 'mid', 'high']):\n",
    "    trg = categories[cat].trg\n",
    "    k = categories[cat].name\n",
    "    lumiInt = 0\n",
    "    for fn in lumiFiles:\n",
    "        d = yaml.load(open(fn, 'r'))\n",
    "        for n, v in d.iteritems():\n",
    "            if trg in n:\n",
    "                lumiInt += v\n",
    "    lumis.append('{:.1f} fb^{{-1}} ({})'.format(lumiInt, k))\n",
    "CMS_lumi.integrated_lumi_string = ' + '.join(lumis)\n",
    "                \n",
    "\n",
    "# Fill the histo\n",
    "leg = rt.TLegend(0.7, 0.7, 0.95, 0.9)\n",
    "leg.SetBorderSize(0)\n",
    "leg.SetTextFont(42)\n",
    "\n",
    "colors = [rt.kAzure+1, rt.kRed-4, rt.kGreen+1, rt.kViolet-7]\n",
    "hlist = []\n",
    "stack = True\n",
    "for ic, cat in enumerate(['Low', 'Mid', 'High']):\n",
    "    t = ur.open(RDloc.format(cat))['Tevts']\n",
    "    x = np.array(t.array('N_vtx'))\n",
    "    h = create_TH1D(x, binning=[61, -0.5, 60.5], axis_title=['Number of PV reco', 'Events'])\n",
    "    leg.AddEntry(h, cat, 'f')\n",
    "    if stack:\n",
    "        h.SetFillColor(colors[ic])\n",
    "        h.SetFillStyle(3001)\n",
    "        h.SetLineWidth(0)\n",
    "        if ic > 0:\n",
    "            h.Add(hlist[0])\n",
    "    else:\n",
    "        h.SetLineColor(colors[ic])\n",
    "    hlist = [h] + hlist\n",
    "\n",
    "c = drawOnCMSCanvas(CMS_lumi, hlist, 'same')\n",
    "leg.Draw()"
   ]
  },
  {
   "cell_type": "code",
   "execution_count": 10,
   "metadata": {},
   "outputs": [],
   "source": [
    "h = hlist[0].Clone('h0')\n",
    "dataNorm = h.Integral()\n",
    "h.Scale(1./h.Integral())\n",
    "h.SetLineWidth(2)\n",
    "h.SetLineColor(1)"
   ]
  },
  {
   "cell_type": "code",
   "execution_count": 11,
   "metadata": {},
   "outputs": [],
   "source": [
    "#Value got from down in the NB\n",
    "pCoeffFromMC = [-0.00268836, 0.93244846]\n",
    "\n",
    "def probLinMulti(n, pCoeff=pCoeffFromMC, lamVal=[20, 35], lamFrac=[0.5,0.5]):\n",
    "    out = 0\n",
    "    for lam, frac in zip(lamVal, lamFrac):\n",
    "        x = np.exp(-lam)/factorial(n)\n",
    "        s = 0\n",
    "        lastV = 1\n",
    "        N = float(n)\n",
    "        while lastV > 1e-2*s or N < 15:\n",
    "            p = np.polyval(pCoeff, N)\n",
    "            lastV = np.power(p, n)*np.power(1-p,N-n)*np.power(lam, N)/factorial(N-n)\n",
    "            s += lastV\n",
    "            N += 1\n",
    "        out += frac*x*s \n",
    "\n",
    "    return out"
   ]
  },
  {
   "cell_type": "code",
   "execution_count": 12,
   "metadata": {},
   "outputs": [],
   "source": [
    "def chi2LinMulti(inputs, npCoeff, nComp):\n",
    "#     pCoeff = inputs[:npCoeff]\n",
    "    lamVal = inputs[npCoeff:npCoeff+nComp]\n",
    "    lamFrac = inputs[npCoeff+nComp:]\n",
    "    chi2 = 0\n",
    "    for i in range(1, h.GetNbinsX()+1):\n",
    "        if h.GetBinContent(i) < 5e-3: continue\n",
    "        aux = h.GetBinContent(i) - probLinMulti(i-1, lamVal=lamVal, lamFrac=lamFrac) #, pCoeff=pCoeff)\n",
    "        aux /= h.GetBinError(i)\n",
    "        chi2 += aux**2\n",
    "    return chi2"
   ]
  },
  {
   "cell_type": "code",
   "execution_count": 25,
   "metadata": {},
   "outputs": [
    {
     "name": "stdout",
     "output_type": "stream",
     "text": [
      "Start chi2: 4581.7\n",
      "End chi2: 70.3 (1.2)\n"
     ]
    }
   ],
   "source": [
    "# pCoeff = [-2.0e-04,  1.0e-03,  9.3e-01]\n",
    "# pCoeff = [-4e-3, 0.96]\n",
    "pCoeff = []\n",
    "\n",
    "\n",
    "lamVal = [14., 21., 30., 42., 50.]\n",
    "lamFrac = [0.10, 0.35, 0.37, 0.13, 0.03]\n",
    "npCoeff, nComp = len(pCoeff), len(lamVal)\n",
    "x0 = pCoeff+lamVal+lamFrac\n",
    "print 'Start chi2: {:.1f}'.format(chi2LinMulti(x0, len(pCoeff), len(lamVal)))\n",
    "res = minimize(chi2LinMulti, x0, args=(len(pCoeff), len(lamVal)), tol=1e-5)\n",
    "print 'End chi2: {:.1f} ({:.1f})'.format(res.fun, res.fun/h.GetNbinsX())"
   ]
  },
  {
   "cell_type": "code",
   "execution_count": 29,
   "metadata": {},
   "outputs": [
    {
     "name": "stdout",
     "output_type": "stream",
     "text": [
      "Coeff: []\n",
      "lam=13.68, frac=0.101\n",
      "lam=21.14, frac=0.355\n",
      "lam=29.74, frac=0.361\n",
      "lam=38.40, frac=0.131\n",
      "lam=46.60, frac=0.046\n",
      "Norm: 0.995\n"
     ]
    }
   ],
   "source": [
    "print 'Coeff:', res.x[:len(pCoeff)]\n",
    "outPois = res.x[npCoeff:]\n",
    "for i in range(nComp):\n",
    "    print 'lam={:.2f}, frac={:.3f}'.format(outPois[i], outPois[i+nComp])\n",
    "print 'Norm: {:.3f}'.format(np.sum(outPois[nComp:]))"
   ]
  },
  {
   "cell_type": "code",
   "execution_count": 57,
   "metadata": {},
   "outputs": [
    {
     "name": "stdout",
     "output_type": "stream",
     "text": [
      "[####################]  100% - Tot. time: 37.1 s\n"
     ]
    }
   ],
   "source": [
    "ftest_list = glob('../data/cmsMC_private/BPH_Tag-B0_MuNuDmst-pD0bar-kp_13TeV-pythia8_Hardbbbar_PTFilter5_0p0-evtgen_ISGW2_PUc0_10-2-3/jobs_out/out_MINIAODSIM_*.root')\n",
    "handle = {}\n",
    "handle['vtx'] = [Handle('vector<reco::Vertex>'), 'offlineSlimmedPrimaryVertices']\n",
    "N_vtx_MINIAOD = []\n",
    "pb = ProgressBar(len(ftest_list))\n",
    "for i_f, fn in enumerate(ftest_list):\n",
    "    pb.show(i_f)\n",
    "    for event in Events(fn):\n",
    "        prods = {}\n",
    "        for k,v in handle.iteritems():\n",
    "            event.getByLabel(v[1], v[0])\n",
    "            prods[k] = v[0].product()\n",
    "        N_vtx_MINIAOD.append(prods['vtx'].size())\n",
    "N_vtx_MINIAOD = np.array(N_vtx_MINIAOD)"
   ]
  },
  {
   "cell_type": "code",
   "execution_count": 75,
   "metadata": {},
   "outputs": [
    {
     "data": {
      "image/png": "[encoded data removed]",
      "text/plain": [
       "<IPython.core.display.Image object>"
      ]
     },
     "metadata": {},
     "output_type": "display_data"
    }
   ],
   "source": [
    "hFit = h.Clone('hFit')\n",
    "hFit.Reset()\n",
    "hFit.SetFillStyle(0)\n",
    "hFit.SetLineColor(6)\n",
    "hFit.SetLineStyle(1)\n",
    "for i in range(1, hFit.GetNbinsX()+1):\n",
    "    n = hFit.GetBinCenter(i)\n",
    "    if npCoeff:\n",
    "        pCoeff = res.x[:npCoeff]\n",
    "    else: pCoeff = pCoeffFromMC\n",
    "    lamVal = res.x[npCoeff:npCoeff+nComp]\n",
    "    lamFrac = res.x[npCoeff+nComp:]\n",
    "    hFit.SetBinContent(i, probLinMulti(n, pCoeff, lamVal, lamFrac))\n",
    "\n",
    "hFit.Scale(dataNorm)\n",
    "hSim = create_TH1D(N_vtx_MINIAOD, h2clone=hFit, scale_histo=dataNorm/float(N_vtx_MINIAOD.shape[0]))\n",
    "hSim.SetLineColor(2)\n",
    "# m = SetMaxToMaxHist(hlist+[hFit, hSim], 0.8)\n",
    "c = drawOnCMSCanvas(CMS_lumi, hlist+[hFit, hSim], 'same')\n",
    "leg1 = leg.Clone()\n",
    "leg1.AddEntry(hFit, 'Multi Pois fit', 'l')\n",
    "leg1.AddEntry(hSim, 'MINIAODSIM', 'l')\n",
    "leg1.Draw()"
   ]
  },
  {
   "cell_type": "code",
   "execution_count": 48,
   "metadata": {
    "scrolled": true
   },
   "outputs": [
    {
     "name": "stdout",
     "output_type": "stream",
     "text": [
      "[0, 1, 2, 3, 4, 5, 6, 7, 8, 9, 10, 11, 12, 13, 14, 15, 16, 17, 18, 19, 20, 21, 22, 23, 24, 25, 26, 27, 28, 29, 30, 31, 32, 33, 34, 35, 36, 37, 38, 39, 40, 41, 42, 43, 44, 45, 46, 47, 48, 49, 50, 51, 52, 53, 54, 55, 56, 57, 58, 59, 60, 61, 62, 63, 64, 65, 66, 67, 68, 69, 70, 71, 72, 73, 74, 75, 76, 77, 78, 79]\n",
      "0.00000, 0.00000, 0.00001, 0.00005, 0.00016, 0.00139, 0.00197, 0.00297, 0.00449, 0.00652, 0.00895, 0.01165, 0.01446, 0.01733, 0.02025, 0.02325, 0.02634, 0.02945, 0.03242, 0.03505, 0.03717, 0.03865, 0.03948, 0.03974, 0.03956, 0.03906, 0.03836, 0.03749, 0.03646, 0.03525, 0.03382, 0.03216, 0.03030, 0.02826, 0.02613, 0.02397, 0.02184, 0.01981, 0.01791, 0.01616, 0.01456, 0.01310, 0.01178, 0.01057, 0.00947, 0.00846, 0.00754, 0.00669, 0.00592, 0.00523, 0.00460, 0.00403, 0.00353, 0.00309, 0.00271, 0.00238, 0.00209, 0.00185, 0.00166, 0.00149, 0.00136, 0.00126, 0.00118, 0.00112, 0.00107, 0.00103, 0.00101, 0.00099, 0.00097, 0.00096, 0.00001, 0.00001, 0.00001, 0.00000, 0.00000, 0.00000, 0.00000, 0.00000, 0.00000, 0.00000\n"
     ]
    },
    {
     "data": {
      "image/png": "[encoded data removed]",
      "text/plain": [
       "<matplotlib.figure.Figure at 0x7f89c9d20e50>"
      ]
     },
     "metadata": {},
     "output_type": "display_data"
    }
   ],
   "source": [
    "from scipy.stats import poisson\n",
    "nVtx = []\n",
    "prob = []\n",
    "for n in range(80):\n",
    "    if npCoeff:\n",
    "        pCoeff = res.x[:npCoeff]\n",
    "    else: pCoeff = pCoeffFromMC\n",
    "    lamVal = res.x[npCoeff:npCoeff+nComp]\n",
    "    lamFrac = res.x[npCoeff+nComp:]\n",
    "    p = 0\n",
    "    for lam, f in zip(lamVal, lamFrac):\n",
    "        p += f*poisson.pmf(n, lam)\n",
    "    prob.append(p)\n",
    "    nVtx.append(n)\n",
    "\n",
    "#Add some sort of flat pedestall to save the tails\n",
    "prob = np.array(prob)\n",
    "prob[5:70] += 1e-3\n",
    "prob /= np.sum(prob)\n",
    "\n",
    "plt.plot(nVtx, prob, 'o')\n",
    "print nVtx\n",
    "print ', '.join(['{:.5f}'.format(p) for p in prob])"
   ]
  },
  {
   "cell_type": "code",
   "execution_count": 50,
   "metadata": {},
   "outputs": [
    {
     "data": {
      "text/plain": [
       "0"
      ]
     },
     "execution_count": 50,
     "metadata": {},
     "output_type": "execute_result"
    }
   ],
   "source": [
    "npCoeff"
   ]
  },
  {
   "cell_type": "markdown",
   "metadata": {},
   "source": [
    "## MC comparison"
   ]
  },
  {
   "cell_type": "code",
   "execution_count": null,
   "metadata": {},
   "outputs": [],
   "source": [
    "CMS_lumi.integrated_lumi_string = ''"
   ]
  },
  {
   "cell_type": "code",
   "execution_count": null,
   "metadata": {},
   "outputs": [],
   "source": [
    "d = '../data/cmsMC_private/BPH_Tag-B0_MuNuDmst-pD0bar-kp_13TeV-pythia8_Hardbbbar_PTFilter5_0p0-evtgen_ISGW2_PU{}_10-2-3/'\n",
    "skimFolder_template = d + 'ntuples_B2DstMu/skimmed/'\n",
    "\n",
    "effCAND_template = d + 'ntuples_B2DstMu/effCAND.yaml'\n",
    "\n",
    "t = PrettyTable()\n",
    "t.field_names = ['PU', 'Low', 'Mid', 'High']\n",
    "dMC = {}\n",
    "for PU in ['0', '20', '35']:\n",
    "    eC_dic = yaml.load(open(effCAND_template.format(PU), 'r'))\n",
    "    nMINIAOD = int(eC_dic['nTotMINIAOD'])\n",
    "    leff = []\n",
    "    for cat in ['Low', 'Mid', 'High']:\n",
    "        fn = skimFolder_template.format(PU) + cat\n",
    "        n = extractNacc(fn +'.log')\n",
    "        leff.append(getEff(n, nMINIAOD))\n",
    "    t.add_row([PU] + ['{:.2f}+/-{:.2f}%'.format(100*float(e), 100*float(de)) for e, de in leff])\n",
    "print 'MINIAOD -> Accepted selection efficiency'\n",
    "print t"
   ]
  },
  {
   "cell_type": "code",
   "execution_count": null,
   "metadata": {},
   "outputs": [],
   "source": [
    "d = '../data/cmsMC_private/BPH_Tag-B0_MuNuDmst-pD0bar-kp_13TeV-pythia8_Hardbbbar_PTFilter5_0p0-evtgen_ISGW2_PU{}_10-2-3/'\n",
    "d += 'ntuples_B2DstMu/skimmed/'\n",
    "\n",
    "t = PrettyTable()\n",
    "t.field_names = ['PU', 'Low', 'Mid', 'High']\n",
    "dMC = {}\n",
    "for PU in ['0', '20', '35']:\n",
    "    leff = []\n",
    "    for cat in ['Low', 'Mid', 'High']:\n",
    "        fn = d.format(PU) + cat\n",
    "        leff.append(extractEff(fn + '.log'))\n",
    "\n",
    "        dMC[cat+PU] = rtnp.root2array(fn+'.root')\n",
    "    t.add_row([PU] + ['{:.2f}+/-{:.2f}%'.format(float(e), float(de)) for e, de in leff])\n",
    "print 'Skimming selection efficiency'\n",
    "print t"
   ]
  },
  {
   "cell_type": "code",
   "execution_count": null,
   "metadata": {},
   "outputs": [],
   "source": [
    "tMC20_ntuples = rt.TChain('outA/Tevts')\n",
    "for f in glob(d.format(20).replace('skimmed/', 'out_*.root')):\n",
    "    tMC20_ntuples.Add(f)"
   ]
  },
  {
   "cell_type": "code",
   "execution_count": null,
   "metadata": {},
   "outputs": [],
   "source": [
    "handle = {}\n",
    "handle['vtx'] = [Handle('vector<reco::Vertex>'), 'offlineSlimmedPrimaryVertices']\n",
    "NN = 50000\n",
    "N_vtx_MINIAOD = []\n",
    "pathMC_MINIAOD = '/mnt/hadoop/store/user/ocerri/cmsMC_private_PU20_10-2-3/BPH_Tag-B0_MuNuDmst-pD0bar-kp_13TeV-pythia8_Hardbbbar_PTFilter5_0p0-evtgen_ISGW2_200113/200113_224052/*/out_MINIAODSIM_*.root'\n",
    "pb = ProgressBar(NN)\n",
    "for fn in glob(pathMC_MINIAOD):\n",
    "    for event in Events(fn):\n",
    "        prods = {}\n",
    "        for k,v in handle.iteritems():\n",
    "            event.getByLabel(v[1], v[0])\n",
    "            prods[k] = v[0].product()\n",
    "        N_vtx_MINIAOD.append(prods['vtx'].size())\n",
    "        pb.show(len(N_vtx_MINIAOD)-1)\n",
    "        if len(N_vtx_MINIAOD) >= NN: break\n",
    "    if len(N_vtx_MINIAOD) >= NN: break\n",
    "N_vtx_MINIAOD = np.array(N_vtx_MINIAOD)"
   ]
  },
  {
   "cell_type": "code",
   "execution_count": null,
   "metadata": {},
   "outputs": [],
   "source": [
    "donotdelete = []\n",
    "CMS_lumi.extraText = 6*' '+'Simulation Internal'\n",
    "for cat in ['Low', 'Mid', 'High']:\n",
    "    h0q2 =  create_TH1D(dMC[cat+'0']['q2'], name='h0q2'+cat, title='', \n",
    "                        axis_title=['q^{2} [GeV^{2}]', 'Normalized entries'],\n",
    "                        binning=array('d', [-2.5] + list(np.arange(-1.8, 11, 0.5)) + [12] ),\n",
    "                        scale_histo=1./len(dMC[cat+'0']['q2']),\n",
    "                        opt='overflow+underflow'\n",
    "                       )\n",
    "    h20q2 =  create_TH1D(dMC[cat+'20']['q2'], name='h20q2'+cat, title='', \n",
    "                        binning=h0q2.binning,\n",
    "                        scale_histo=1./len(dMC[cat+'20']['q2']),\n",
    "                         opt='overflow+underflow'\n",
    "                       )\n",
    "    h20q2.SetLineColor(2)\n",
    "    \n",
    "    h35q2 =  create_TH1D(dMC[cat+'35']['q2'], name='h35q2'+cat, title='', \n",
    "                        binning=h0q2.binning,\n",
    "                        scale_histo=1./len(dMC[cat+'35']['q2']),\n",
    "                         opt='overflow+underflow'\n",
    "                       )\n",
    "    h35q2.SetLineColor(rt.kAzure+7)\n",
    "    \n",
    "    h0M =  create_TH1D(dMC[cat+'0']['M2_miss'], name='h0M'+cat, title='', \n",
    "                        axis_title=['M^{2}_{miss} [GeV^{2}]', 'Normalized entries'],\n",
    "                        binning=array('d', [-2.5] + list(np.arange(-1.9, 5.5, 0.3)) + [6.5] ),\n",
    "                        scale_histo=1./len(dMC[cat+'0']['q2']),\n",
    "                       opt='overflow+underflow'\n",
    "                       )\n",
    "    h20M =  create_TH1D(dMC[cat+'20']['M2_miss'], name='h20M'+cat, title='', \n",
    "                        binning=h0M.binning,\n",
    "                        scale_histo=1./len(dMC[cat+'20']['q2']),\n",
    "                        opt='overflow+underflow'\n",
    "                       )\n",
    "    h20M.SetLineColor(2)\n",
    "    \n",
    "    h35M =  create_TH1D(dMC[cat+'35']['M2_miss'], name='h35M'+cat, title='', \n",
    "                        binning=h0M.binning,\n",
    "                        scale_histo=1./len(dMC[cat+'35']['q2']),\n",
    "                        opt='overflow+underflow'\n",
    "                       )\n",
    "    h35M.SetLineColor(rt.kAzure+7)\n",
    "    \n",
    "    h0E =  create_TH1D(dMC[cat+'0']['Est_mu'], name='h0E'+cat, title='', \n",
    "                        axis_title=['E*_{#mu} [GeV]', 'Normalized entries'],\n",
    "                        binning=[20, 0.50, 2.500],\n",
    "                        scale_histo=1./len(dMC[cat+'0']['q2']),\n",
    "                       opt='overflow+underflow'\n",
    "                       )\n",
    "    h20E =  create_TH1D(dMC[cat+'20']['Est_mu'], name='h20E'+cat, title='', \n",
    "                        binning=h0E.binning,\n",
    "                        scale_histo=1./len(dMC[cat+'20']['q2']),\n",
    "                        opt='overflow+underflow'\n",
    "                       )\n",
    "    h20E.SetLineColor(2)\n",
    "    \n",
    "    h35E =  create_TH1D(dMC[cat+'35']['Est_mu'], name='h35E'+cat, title='', \n",
    "                        binning=h0E.binning,\n",
    "                        scale_histo=1./len(dMC[cat+'35']['q2']),\n",
    "                        opt='overflow+underflow'\n",
    "                       )\n",
    "    h35E.SetLineColor(rt.kAzure+7)\n",
    "    \n",
    "    c = rt.TCanvas('c'+cat, 'c'+cat, 50, 50, 1800, 600)\n",
    "    c.SetTickx(0)\n",
    "    c.SetTicky(0)\n",
    "    c.Divide(3)\n",
    "    \n",
    "    pad = c.cd(1)\n",
    "    SetMaxToMaxHist([h0q2, h20q2, h35q2])\n",
    "    h0q2.Draw()\n",
    "    h20q2.Draw('SAME')\n",
    "    h35q2.Draw('SAME')\n",
    "    CMS_lumi.CMS_lumi(pad, -1, 0)\n",
    "    text = rt.TText(0.9, 0.9, 'Cat: '+cat)\n",
    "    text.SetTextAlign(33)\n",
    "    text.SetNDC()\n",
    "    text.Draw()\n",
    "    \n",
    "    pad = c.cd(2)\n",
    "    SetMaxToMaxHist([h0M, h20M, h35M])\n",
    "    h0M.Draw()\n",
    "    h20M.Draw('SAME')\n",
    "    h35M.Draw('SAME')\n",
    "    CMS_lumi.CMS_lumi(pad, -1, 0)\n",
    "    leg = rt.TLegend(0.62, 0.7, 0.97, 0.92)\n",
    "    leg.AddEntry(h0M, 'PU 0', 'lep')\n",
    "    leg.AddEntry(h20M, 'PU 20', 'lep')\n",
    "    leg.AddEntry(h35M, 'PU 35', 'lep')\n",
    "    leg.SetBorderSize(0)\n",
    "    leg.Draw()\n",
    "    \n",
    "    pad = c.cd(3)\n",
    "    SetMaxToMaxHist([h0E, h20E, h35E])\n",
    "    h0E.Draw()\n",
    "    h20E.Draw('SAME')\n",
    "    h35E.Draw('SAME')\n",
    "    CMS_lumi.CMS_lumi(pad, -1, 0)\n",
    "    \n",
    "    donotdelete.append([c, leg, text, h0q2, h20q2, h35q2, h0M, h20M, h35M, h0E, h20E, h35E])\n",
    "    \n",
    "    c.Draw()"
   ]
  },
  {
   "cell_type": "code",
   "execution_count": null,
   "metadata": {},
   "outputs": [],
   "source": [
    "from scipy.stats import poisson\n",
    "leg = rt.TLegend(0.7, 0.7, 0.9, 0.9)\n",
    "leg.SetBorderSize(0)\n",
    "\n",
    "h20N =  create_TH1D(dMC[cat+'20']['N_vtx'], name='h20N', title='', \n",
    "                    axis_title=['Number of vertexes', 'Normalized entries'],\n",
    "                    binning=[41, -0.5, 40.5],\n",
    "                    scale_histo=1./len(dMC[cat+'20']['q2'])\n",
    "                   )\n",
    "h20N.SetMarkerStyle(4)\n",
    "h20N.SetMarkerColor(1)\n",
    "leg.AddEntry(h20N, 'PU 20, skim', 'lep')\n",
    "\n",
    "h20Nn = h20N.Clone('h20Nn')\n",
    "tMC20_ntuples.Project('h20Nn', 'N_vertexes', '')\n",
    "h20Nn.Scale(1./h20Nn.Integral())\n",
    "h20Nn.SetLineColor(rt.kAzure+7)\n",
    "h20Nn.SetMarkerStyle(1)\n",
    "leg.AddEntry(h20Nn, 'PU 20, CAND', 'lep')\n",
    "\n",
    "h20NM =  create_TH1D(N_vtx_MINIAOD, name='h20NM', title='', \n",
    "                    binning=h20N.binning,\n",
    "                    scale_histo=1./len(N_vtx_MINIAOD)\n",
    "                   )\n",
    "h20NM.SetLineColor(8)\n",
    "leg.AddEntry(h20NM, 'PU 20, MINIAOD', 'lep')\n",
    "\n",
    "h20N_id = h20N.Clone()\n",
    "for i in range(1, h20N_id.GetNbinsX()+1):\n",
    "    h20N_id.SetBinContent(i, poisson.pmf(i-1, 20))\n",
    "h20N_id.SetLineWidth(0)\n",
    "h20N_id.SetMarkerStyle(4)\n",
    "h20N_id.SetMarkerColor(2)\n",
    "leg.AddEntry(h20N_id, 'Poisson 20', 'lep')\n",
    "\n",
    "hl = [h20N, h20Nn, h20NM, h20N_id]\n",
    "SetMaxToMaxHist(hl)\n",
    "c = drawOnCMSCanvas(CMS_lumi, hl, 'same')\n",
    "leg.Draw()"
   ]
  },
  {
   "cell_type": "markdown",
   "metadata": {},
   "source": [
    "### Try to understand the distribution"
   ]
  },
  {
   "cell_type": "code",
   "execution_count": null,
   "metadata": {},
   "outputs": [],
   "source": [
    "def probLin(n, pCoeff=[-4e-3, 0.96], lam=20):\n",
    "    x = np.exp(-lam)/factorial(n)\n",
    "    \n",
    "    s = 0\n",
    "    lastV = 1\n",
    "    N = float(n)\n",
    "    while lastV > 1e-2*s or N < 15:\n",
    "        p = np.polyval(pCoeff, N)\n",
    "        lastV = np.power(p, n)*np.power(1-p,N-n)*np.power(lam, N)/factorial(N-n)\n",
    "        s += lastV\n",
    "        N += 1\n",
    "    return x*s  "
   ]
  },
  {
   "cell_type": "code",
   "execution_count": null,
   "metadata": {},
   "outputs": [],
   "source": [
    "def chi2Lin(p):\n",
    "    chi2 = 0\n",
    "    for i in range(1, h20NM.GetNbinsX()+1):\n",
    "        if h20NM.GetBinContent(i) < 5e-3: continue\n",
    "        aux = h20NM.GetBinContent(i) - probLin(i-1, p)\n",
    "        aux /= h20NM.GetBinError(i)\n",
    "        chi2 += aux**2\n",
    "    return chi2"
   ]
  },
  {
   "cell_type": "code",
   "execution_count": null,
   "metadata": {},
   "outputs": [],
   "source": [
    "# x0 = [-2.0e-04,  1.0e-03,  9.3e-01]\n",
    "x0 = [-4e-3, 0.96]\n",
    "print 'Start:',chi2Lin(x0)\n",
    "res = minimize(chi2Lin, x0, tol=1e-5)\n",
    "print 'End:', res.fun\n",
    "print res.x"
   ]
  },
  {
   "cell_type": "code",
   "execution_count": null,
   "metadata": {},
   "outputs": [],
   "source": [
    "hFit = h20NM.Clone('hFit')\n",
    "hFit.Reset()\n",
    "hFit.SetLineColor(2)\n",
    "for i in range(1, hFit.GetNbinsX()+1):\n",
    "    n = hFit.GetBinCenter(i)\n",
    "    hFit.SetBinContent(i, probLin(n, res.x))\n",
    "\n",
    "c =  drawOnCMSCanvas(CMS_lumi, [h20NM, hFit], 'same')"
   ]
  },
  {
   "cell_type": "markdown",
   "metadata": {},
   "source": [
    "# B2JspiKst"
   ]
  },
  {
   "cell_type": "markdown",
   "metadata": {},
   "source": [
    "# Load data"
   ]
  },
  {
   "cell_type": "code",
   "execution_count": null,
   "metadata": {},
   "outputs": [],
   "source": [
    "dataDir = '../data/cmsMC_private/'\n",
    "dataDir += 'BPH_Tag-Probe_B0_JpsiKst-mumuKpi-kp_13TeV-pythia8_Hardbbbar_PTFilter5_0p0-evtgen_SVV_PU20_10-2-3'\n",
    "datasets_loc = glob(dataDir + '/ntuples_B2JpsiKst/out_CAND_*.root')\n",
    "\n",
    "Tmc20 = rt.TChain('outA/Tevts')\n",
    "for floc in datasets_loc:\n",
    "    Tmc20.Add(floc)\n",
    "\n",
    "print 'N evts: {:.0f}'.format(Tmc20.GetEntries())"
   ]
  },
  {
   "cell_type": "code",
   "execution_count": null,
   "metadata": {},
   "outputs": [],
   "source": [
    "dataDir = '../data/cmsMC_private/'\n",
    "dataDir += 'BPH_Tag-Probe_B0_JpsiKst-mumuKpi-kp_13TeV-pythia8_Hardbbbar_PTFilter5_0p0-evtgen_SVV_PU0_10-2-3'\n",
    "datasets_loc = glob(dataDir + '/ntuples_B2JpsiKst/out_CAND_*.root')\n",
    "\n",
    "Tmc0 = rt.TChain('outA/Tevts')\n",
    "for floc in datasets_loc:\n",
    "    Tmc0.Add(floc)\n",
    "\n",
    "print 'N evts: {:.0f}'.format(Tmc0.GetEntries())"
   ]
  },
  {
   "cell_type": "code",
   "execution_count": null,
   "metadata": {},
   "outputs": [],
   "source": [
    "datasets_loc = glob('../data/cmsRD/ParkingBPH1/*2018C-*B2JpsiKst_200124_CAND.root')\n",
    "TrdC = rt.TChain('outA/Tevts')\n",
    "for floc in datasets_loc:\n",
    "    TrdC.Add(floc)\n",
    "\n",
    "print 'N evts: {:.0f}'.format(TrdC.GetEntries())"
   ]
  },
  {
   "cell_type": "markdown",
   "metadata": {},
   "source": [
    "# Plots"
   ]
  },
  {
   "cell_type": "code",
   "execution_count": null,
   "metadata": {},
   "outputs": [],
   "source": [
    "def plot(var, binning, cut_str='', axis_title=['', ''], leg_loc=[0.7, 0.7, 0.8, 0.9]):\n",
    "    h1 = create_TH1D(np.zeros(0), name='h1', title='RD', axis_title=axis_title, binning=binning)\n",
    "    TrdC.Project('h1', var, cut_str)\n",
    "\n",
    "    h2 = create_TH1D(np.zeros(0), name='h2', title='MC 0', binning=binning)\n",
    "    Tmc0.Project('h2', var, cut_str)\n",
    "    \n",
    "    h3 = create_TH1D(np.zeros(0), name='h3', title='MC 20', binning=binning)\n",
    "    Tmc20.Project('h3', var, cut_str)\n",
    "    \n",
    "    leg = rt.TLegend(leg_loc[0], leg_loc[1], leg_loc[2], leg_loc[3])\n",
    "    leg.SetBorderSize(0)\n",
    "    h_list = [h1, h2, h3]\n",
    "    colors = [rt.kBlack, rt.kRed, rt.kBlue]\n",
    "    \n",
    "    for i, h in enumerate(h_list):\n",
    "        h.Sumw2()\n",
    "        h.Scale(1./h.Integral())\n",
    "        h.SetLineColor(colors[i])\n",
    "        leg.AddEntry(h, h.GetTitle(), 'lep')\n",
    "\n",
    "    SetMaxToMaxHist(h_list)\n",
    "    c = drawOnCMSCanvas(CMS_lumi, h_list, 'same')\n",
    "    c.SetRightMargin(0.15)\n",
    "    c.dnd = [h_list, leg]\n",
    "    leg.Draw()\n",
    "    c.Draw()\n",
    "\n",
    "    return c"
   ]
  },
  {
   "cell_type": "code",
   "execution_count": null,
   "metadata": {},
   "outputs": [],
   "source": [
    "c = plot('N_vertexes', [50, 0.5, 50.5], '', axis_title=['N_{vtx}', 'Norm.'])"
   ]
  },
  {
   "cell_type": "code",
   "execution_count": null,
   "metadata": {},
   "outputs": [],
   "source": [
    "c = plot('N_vertexes', [50, 0.5, 50.5], 'Sum$(trgMu_HLT_Mu12_IP6)>0', axis_title=['N_{vtx}', 'Norm.'])"
   ]
  },
  {
   "cell_type": "code",
   "execution_count": null,
   "metadata": {},
   "outputs": [],
   "source": [
    "c = plot('N_vertexes', [50, 0.5, 50.5], 'Sum$(trgMu_HLT_Mu9_IP6)>0', axis_title=['N_{vtx}', 'Norm.'])"
   ]
  },
  {
   "cell_type": "code",
   "execution_count": null,
   "metadata": {},
   "outputs": [],
   "source": [
    "c = plot('N_vertexes', [50, 0.5, 50.5], 'Sum$(trgMu_HLT_Mu7_IP4)>0', axis_title=['N_{vtx}', 'Norm.'])"
   ]
  },
  {
   "cell_type": "code",
   "execution_count": null,
   "metadata": {},
   "outputs": [],
   "source": [
    "c = plot('n_B', [20, 0.5, 20.5], 'Sum$(trgMu_HLT_Mu12_IP6)>0', axis_title=['n_{B}', 'Norm.'])\n",
    "c.SetLogy()"
   ]
  },
  {
   "cell_type": "code",
   "execution_count": null,
   "metadata": {},
   "outputs": [],
   "source": [
    "c = plot('n_B', [20, 0.5, 20.5], 'Sum$(trgMu_HLT_Mu7_IP4)>0', axis_title=['n_{B}', 'Norm.'])\n",
    "c.SetLogy()"
   ]
  },
  {
   "cell_type": "code",
   "execution_count": null,
   "metadata": {},
   "outputs": [],
   "source": [
    "analysis_sel = ['n_B == 1',\n",
    "                'mass_mumu < 3.176',\n",
    "                'mass_mumu > 3.012',\n",
    "                'mass_piK > 0.82',\n",
    "                'mass_piK < 0.96',\n",
    "                'mum_pt > 3.5',\n",
    "                'mup_pt > 3.5',\n",
    "                'Jpsi_pt > 6.9',\n",
    "                'pval_mumu > 0.1',\n",
    "                'mum_eta > -2.2',\n",
    "                'mup_eta > -2.2',\n",
    "                'mum_eta < 2.2',\n",
    "                'mup_eta < 2.2',\n",
    "                'cosT_Jpsi_PV > 0.95',\n",
    "                'mum_dxy < 3',\n",
    "                'mup_dxy < 3',\n",
    "                'pval_piK > 0.1',\n",
    "                'K_pt > 0.8',\n",
    "                'mass_KK > 1.035', \n",
    "                'K_sigdxy_PV > 2',\n",
    "                'pi_sigdxy_PV > 2', \n",
    "                'sigdxy_vtxKst_PV > 5',\n",
    "                'fabs(mass_piK - 0.895) < fabs(mass_piK_CPconj - 0.895)', \n",
    "                'pval_mumupiK > 0.1', 'pi_pt > 0.8']"
   ]
  },
  {
   "cell_type": "code",
   "execution_count": null,
   "metadata": {},
   "outputs": [],
   "source": [
    "c = plot('mass_mumupiK', [40, 5.05, 5.5], ' && '.join(analysis_sel), axis_title=['mass #mu#mu#piK [GeV]', 'Norm.'])"
   ]
  },
  {
   "cell_type": "code",
   "execution_count": null,
   "metadata": {},
   "outputs": [],
   "source": [
    "c = plot('mass_piK', [150, 0.6, 1.4], ' && '.join(analysis_sel), axis_title=['mass #piK [GeV]', 'Norm.'])"
   ]
  },
  {
   "cell_type": "code",
   "execution_count": null,
   "metadata": {},
   "outputs": [],
   "source": []
  }
 ],
 "metadata": {
  "kernelspec": {
   "display_name": "Python 2",
   "language": "python",
   "name": "python2"
  },
  "language_info": {
   "codemirror_mode": {
    "name": "ipython",
    "version": 2
   },
   "file_extension": ".py",
   "mimetype": "text/x-python",
   "name": "python",
   "nbconvert_exporter": "python",
   "pygments_lexer": "ipython2",
   "version": "2.7.14+"
  }
 },
 "nbformat": 4,
 "nbformat_minor": 2
}
