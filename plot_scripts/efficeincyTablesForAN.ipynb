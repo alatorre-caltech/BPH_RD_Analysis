{
 "cells": [
  {
   "cell_type": "code",
   "execution_count": 1,
   "metadata": {
    "ExecuteTime": {
     "end_time": "2021-03-05T02:46:46.320247Z",
     "start_time": "2021-03-05T02:46:46.306168Z"
    }
   },
   "outputs": [],
   "source": [
    "import sys, os, pickle, commands, re\n",
    "from glob import glob\n",
    "sys.path.append('../lib')"
   ]
  },
  {
   "cell_type": "code",
   "execution_count": 2,
   "metadata": {
    "ExecuteTime": {
     "end_time": "2021-03-05T02:46:52.830054Z",
     "start_time": "2021-03-05T02:46:46.325769Z"
    }
   },
   "outputs": [
    {
     "name": "stdout",
     "output_type": "stream",
     "text": [
      "Welcome to JupyROOT 6.12/07\n"
     ]
    }
   ],
   "source": [
    "from analysis_utilities import drawOnCMSCanvas, DSetLoader"
   ]
  },
  {
   "cell_type": "code",
   "execution_count": 3,
   "metadata": {
    "ExecuteTime": {
     "end_time": "2021-03-05T02:46:52.853827Z",
     "start_time": "2021-03-05T02:46:52.836265Z"
    }
   },
   "outputs": [],
   "source": [
    "procOrder = [\n",
    "    'mu', 'tau',\n",
    "    'DstPip', 'DstPi0', 'DstPipPim', 'DstPipPi0', 'DstPi0Pi0',\n",
    "    'TauDstPip', 'TauDstPi0',\n",
    "    'DstmD0', 'DstmDp', 'DstmDsp', 'BmDstmHc', 'BpDstmHc', 'antiB0DstmHc', \n",
    "]"
   ]
  },
  {
   "cell_type": "code",
   "execution_count": 4,
   "metadata": {
    "ExecuteTime": {
     "end_time": "2021-03-05T02:46:52.883522Z",
     "start_time": "2021-03-05T02:46:52.858721Z"
    }
   },
   "outputs": [],
   "source": [
    "separationLine = [1,6,8,14]"
   ]
  },
  {
   "cell_type": "code",
   "execution_count": 5,
   "metadata": {
    "ExecuteTime": {
     "end_time": "2021-03-05T02:46:56.361208Z",
     "start_time": "2021-03-05T02:46:52.888264Z"
    }
   },
   "outputs": [],
   "source": [
    "MCsample = {\n",
    "'tau' : DSetLoader('B0_TauNuDmst_PUc0'),\n",
    "'mu' : DSetLoader('B0_MuNuDmst_PUc0'),\n",
    "# 'mu' : DSetLoader('B0_MuNuDmst_SoftQCDall_PUc0'),\n",
    "'DstmD0' : DSetLoader('B0_DstmD0_PUc0'),\n",
    "'DstmDp' : DSetLoader('B0_DstmDp_PUc0'),\n",
    "'DstmDsp' : DSetLoader('B0_DstmDsp_PUc0'),\n",
    "'BpDstmHc' : DSetLoader('Bp_DstmHc_PUc0'),\n",
    "'BmDstmHc' : DSetLoader('Bm_DstmHc_PUc0'),\n",
    "'antiB0DstmHc' : DSetLoader('antiB0_DstmHc_PUc0'),\n",
    "'DstPip' : DSetLoader('Bp_MuNuDstst_Pip_PUc0'),\n",
    "'DstPi0' : DSetLoader('B0_MuNuDstst_Pi0_PUc0'),\n",
    "'DstPipPi0' : DSetLoader('Bp_MuNuDstst_PipPi0_PUc0'),\n",
    "'DstPipPim' : DSetLoader('B0_MuNuDstst_PipPim_PUc0'),\n",
    "# 'DstPipPi0' : DSetLoader('Bp_MuNuDstPipPi0_PUc0'),\n",
    "# 'DstPipPim' : DSetLoader('B0_MuNuDstPipPim_PUc0'),\n",
    "'DstPi0Pi0' : DSetLoader('B0_MuNuDstst_Pi0Pi0_PUc0'),\n",
    "'TauDstPi0' : DSetLoader('B0_TauNuDstst_Pi0_PUc0'),\n",
    "'TauDstPip' : DSetLoader('Bp_TauNuDstst_Pip_PUc0')\n",
    "}"
   ]
  },
  {
   "cell_type": "code",
   "execution_count": 6,
   "metadata": {
    "ExecuteTime": {
     "end_time": "2021-03-05T02:46:56.381247Z",
     "start_time": "2021-03-05T02:46:56.366436Z"
    }
   },
   "outputs": [],
   "source": [
    "labelTLatex = {\n",
    "             'data'     : 'Data',\n",
    "             'mu'       : 'B^{0}#rightarrow D*#mu^{+}#nu',\n",
    "             'tau'      : 'B^{0}#rightarrow D*#tau^{+}#nu',\n",
    "             \n",
    "             'DstPi0': 'B^{0}#rightarrow D**(D*#pi^{0})#mu#nu',\n",
    "             'DstPip': 'B^{+}#rightarrow D**(D*#pi^{+})#mu#nu',\n",
    "             'DstPipPim': 'B^{0}#rightarrow D**(D*#pi^{+}#pi^{-})#mu#nu',\n",
    "             'DstPi0Pi0': 'B^{0}#rightarrow D**(D*#pi^{0}#pi^{0})#mu#nu',\n",
    "             'DstPipPi0': 'B^{+}#rightarrow D**(D*#pi^{+}#pi^{0})#mu#nu',\n",
    "             \n",
    "             'TauDstPi0' : 'B^{0}#rightarrow D**(D*#pi^{0})#tau#nu',\n",
    "             'TauDstPip' : 'B^{+}#rightarrow D**(D*#pi^{+})#tau#nu',\n",
    "             \n",
    "             'DstmD0'   : 'B^{0}#rightarrow D*D^{0}X',\n",
    "             'DstmDp'   : 'B^{0}#rightarrow D*D^{+}X',\n",
    "             'DstmDsp'   : 'B^{0}#rightarrow D*D_{s}^{+}X',\n",
    "             'BmDstmHc' : 'B^{-}#rightarrow D*H_{c}(#muX)',\n",
    "             'BpDstmHc' : 'B^{+}#rightarrow D*H_{c}(#muX)',\n",
    "             'antiB0DstmHc' : '#bar{B}^{0}#rightarrow D*H_{c}(#muX)',\n",
    "            }"
   ]
  },
  {
   "cell_type": "code",
   "execution_count": 12,
   "metadata": {
    "ExecuteTime": {
     "end_time": "2021-03-05T03:06:15.548858Z",
     "start_time": "2021-03-05T03:06:15.523779Z"
    }
   },
   "outputs": [],
   "source": [
    "labelLatex = {\n",
    "             'data'         : 'Data',\n",
    "             'mu'           : r'$B^0 \\to D^{*-}\\mu\\nu$',\n",
    "             'tau'          : r'$B^0 \\to D^{*-}\\tau\\nu$',\n",
    "             \n",
    "             'DstPi0'       : r'$B^+ \\to D^{*-}\\pi^{+}\\mu\\nu$',\n",
    "             'DstPip'       : r'$B^0 \\to D^{*-}\\pi^0\\mu\\nu$',\n",
    "             'DstPipPim'    : r'$B^0 \\to D^{*-}\\pi^{+}\\pi^{-}\\mu\\nu$',\n",
    "             'DstPi0Pi0'    : r'$B^+ \\to D^{*-}\\pi^{+}\\pi^{0}\\mu\\nu$',\n",
    "             'DstPipPi0'    : r'$B^0 \\to D^{*-}\\pi^{0}\\pi^{0}\\mu\\nu$',\n",
    "             \n",
    "             'TauDstPi0'    : r'$B^+ \\to D^{*-}\\pi^{+}\\tau\\nu$',\n",
    "             'TauDstPip'    : r'$B^0 \\to D^{*-}\\pi^0\\tau\\nu$',\n",
    "             \n",
    "             'DstmDsp'      : r'$B^0\\to D^{*-}D_s$',\n",
    "             'DstmD0'       : r'$B^0\\to D^{*-}D^0X$',\n",
    "             'DstmDp'       : r'$B^0\\to D^{*-}D^+X$',\n",
    "             'BpDstmHc'     : r'$B^+\\to D^{*-}H_c$',\n",
    "             'BmDstmHc'     : r'$B^-\\to D^{*-}H_c$',\n",
    "             'antiB0DstmHc' : r'$\\overline{B}^0\\to D^{*-}H_c$'\n",
    "            }"
   ]
  },
  {
   "cell_type": "markdown",
   "metadata": {},
   "source": [
    "# N-tuplizer table"
   ]
  },
  {
   "cell_type": "code",
   "execution_count": 13,
   "metadata": {
    "ExecuteTime": {
     "end_time": "2021-03-05T03:06:16.168179Z",
     "start_time": "2021-03-05T03:06:16.131205Z"
    }
   },
   "outputs": [
    {
     "name": "stdout",
     "output_type": "stream",
     "text": [
      "\n",
      "\\begin{tabular}{|c|c|c|c|}\n",
      " \\hline\n",
      " Process & $\\varepsilon_\\text{trg}$ [\\%]& $\\varepsilon_\\text{cand}$ [\\%]& $\\varepsilon_\\text{ntp}$ [\\%] \\\\\n",
      " \\hline\n",
      " \\hline\n",
      " $B^0 \\to D^{*-}\\mu\\nu$ & $36.54 \\pm 0.00$ & $10.14 \\pm 0.00$ & $3.70 \\pm 0.00$ \\\\\n",
      " $B^0 \\to D^{*-}\\tau\\nu$ & $40.44 \\pm 0.02$ & $12.90 \\pm 0.02$ & $5.22 \\pm 0.01$ \\\\\n",
      " \\hline\n",
      " $B^0 \\to D^{*-}\\pi^0\\mu\\nu$ & $40.90 \\pm 0.02$ & $16.94 \\pm 0.02$ & $6.93 \\pm 0.01$ \\\\\n",
      " $B^+ \\to D^{*-}\\pi^{+}\\mu\\nu$ & $40.86 \\pm 0.03$ & $15.85 \\pm 0.03$ & $6.48 \\pm 0.01$ \\\\\n",
      " $B^0 \\to D^{*-}\\pi^{+}\\pi^{-}\\mu\\nu$ & $39.65 \\pm 0.01$ & $21.84 \\pm 0.02$ & $8.66 \\pm 0.01$ \\\\\n",
      " $B^0 \\to D^{*-}\\pi^{0}\\pi^{0}\\mu\\nu$ & $39.78 \\pm 0.02$ & $15.41 \\pm 0.02$ & $6.13 \\pm 0.01$ \\\\\n",
      " $B^+ \\to D^{*-}\\pi^{+}\\pi^{0}\\mu\\nu$ & $39.68 \\pm 0.02$ & $14.64 \\pm 0.02$ & $5.81 \\pm 0.01$ \\\\\n",
      " \\hline\n",
      " $B^0 \\to D^{*-}\\pi^0\\tau\\nu$ & $43.62 \\pm 0.04$ & $16.30 \\pm 0.05$ & $7.11 \\pm 0.02$ \\\\\n",
      " $B^+ \\to D^{*-}\\pi^{+}\\tau\\nu$ & $42.77 \\pm 0.04$ & $15.49 \\pm 0.04$ & $6.62 \\pm 0.02$ \\\\\n",
      " \\hline\n",
      " $B^0\\to D^{*-}D^0X$ & $41.75 \\pm 0.05$ & $19.86 \\pm 0.07$ & $8.29 \\pm 0.03$ \\\\\n",
      " $B^0\\to D^{*-}D^+X$ & $48.41 \\pm 0.04$ & $14.92 \\pm 0.04$ & $7.22 \\pm 0.02$ \\\\\n",
      " $B^0\\to D^{*-}D_s$ & $33.95 \\pm 0.03$ & $14.31 \\pm 0.04$ & $4.86 \\pm 0.01$ \\\\\n",
      " $B^-\\to D^{*-}H_c$ & $37.15 \\pm 0.08$ & $10.14 \\pm 0.08$ & $3.77 \\pm 0.03$ \\\\\n",
      " $B^+\\to D^{*-}H_c$ & $22.40 \\pm 0.03$ & $12.89 \\pm 0.05$ & $2.89 \\pm 0.01$ \\\\\n",
      " $\\overline{B}^0\\to D^{*-}H_c$ & $37.74 \\pm 0.04$ & $8.23 \\pm 0.03$ & $3.11 \\pm 0.01$ \\\\\n",
      " \\hline\n",
      "\\end{tabular}\n",
      "\n"
     ]
    }
   ],
   "source": [
    "latexTable = r'''\n",
    "\\begin{tabular}{|c|c|c|c|}\n",
    " \\hline\n",
    " Process & $\\varepsilon_\\text{trg}$ [\\%]& $\\varepsilon_\\text{cand}$ [\\%]& $\\varepsilon_\\text{ntp}$ [\\%] \\\\\n",
    " \\hline\n",
    " \\hline\n",
    "'''\n",
    "for i, p in enumerate(procOrder):      \n",
    "    eff = MCsample[p].effCand\n",
    "    \n",
    "    latexTable += ' ' + labelLatex[p]\n",
    "    latexTable += r' & '\n",
    "    latexTable += r'${:2.2f} \\pm {:2.2f}$'.format(100*eff['effCAND_trg'][0], 100*eff['effCAND_trg'][1])\n",
    "    latexTable += r' & '\n",
    "    latexTable += r'${:2.2f} \\pm {:2.2f}$'.format(100*eff['effCAND_cand'][0], 100*eff['effCAND_cand'][1])\n",
    "    latexTable += r' & '\n",
    "    latexTable += r'${:2.2f} \\pm {:2.2f}$'.format(100*eff['effCAND'][0], 100*eff['effCAND'][1])\n",
    "    latexTable += r' \\\\'\n",
    "    latexTable += '\\n'\n",
    "    \n",
    "    if i in separationLine:\n",
    "        latexTable += ' \\\\hline\\n'\n",
    "        \n",
    "latexTable += r'\\end{tabular}' + '\\n'\n",
    "print latexTable"
   ]
  },
  {
   "cell_type": "markdown",
   "metadata": {},
   "source": [
    "# Category effieincy"
   ]
  },
  {
   "cell_type": "code",
   "execution_count": 17,
   "metadata": {
    "ExecuteTime": {
     "end_time": "2021-03-05T03:08:34.506383Z",
     "start_time": "2021-03-05T03:08:34.490308Z"
    }
   },
   "outputs": [
    {
     "data": {
      "text/plain": [
       "<analysis_utilities.DSetLoader at 0x7f235bf9b590>"
      ]
     },
     "execution_count": 17,
     "metadata": {},
     "output_type": "execute_result"
    }
   ],
   "source": [
    "MCsample['mu'].eff\n",
    "\n",
    "sMC.getSkimEff(category.name+'_'+mcType)"
   ]
  },
  {
   "cell_type": "code",
   "execution_count": 19,
   "metadata": {
    "ExecuteTime": {
     "end_time": "2021-03-05T03:11:57.121673Z",
     "start_time": "2021-03-05T03:11:57.086670Z"
    }
   },
   "outputs": [
    {
     "name": "stdout",
     "output_type": "stream",
     "text": [
      "\n",
      "\\begin{tabular}{|c|c|c|c|}\n",
      " \\hline\n",
      " & Low & Mid & High \\\\\n",
      " \\hline\n",
      " \\hline\n",
      " $B^0 \\to D^{*-}\\mu\\nu$ & $15.71 \\pm 0.02$ & $12.10 \\pm 0.02$ & $13.50 \\pm 0.02$ \\\\\n",
      " $B^0 \\to D^{*-}\\tau\\nu$ & $21.94 \\pm 0.08$ & $13.48 \\pm 0.07$ & $11.04 \\pm 0.06$ \\\\\n",
      " \\hline\n",
      " $B^0 \\to D^{*-}\\pi^0\\mu\\nu$ & $8.11 \\pm 0.04$ & $5.23 \\pm 0.03$ & $4.09 \\pm 0.03$ \\\\\n",
      " $B^+ \\to D^{*-}\\pi^{+}\\mu\\nu$ & $21.52 \\pm 0.09$ & $15.48 \\pm 0.08$ & $15.47 \\pm 0.08$ \\\\\n",
      " $B^0 \\to D^{*-}\\pi^{+}\\pi^{-}\\mu\\nu$ & $2.02 \\pm 0.01$ & $1.17 \\pm 0.01$ & $0.72 \\pm 0.01$ \\\\\n",
      " $B^0 \\to D^{*-}\\pi^{0}\\pi^{0}\\mu\\nu$ & $7.75 \\pm 0.04$ & $4.99 \\pm 0.04$ & $3.78 \\pm 0.03$ \\\\\n",
      " $B^+ \\to D^{*-}\\pi^{+}\\pi^{0}\\mu\\nu$ & $22.21 \\pm 0.07$ & $16.05 \\pm 0.06$ & $15.59 \\pm 0.06$ \\\\\n",
      " \\hline\n",
      " $B^0 \\to D^{*-}\\pi^0\\tau\\nu$ & $8.15 \\pm 0.09$ & $4.22 \\pm 0.06$ & $2.58 \\pm 0.05$ \\\\\n",
      " $B^+ \\to D^{*-}\\pi^{+}\\tau\\nu$ & $22.83 \\pm 0.13$ & $13.63 \\pm 0.11$ & $10.13 \\pm 0.09$ \\\\\n",
      " \\hline\n",
      " $B^0\\to D^{*-}D^0X$ & $1.85 \\pm 0.05$ & $1.01 \\pm 0.04$ & $0.61 \\pm 0.03$ \\\\\n",
      " $B^0\\to D^{*-}D^+X$ & $10.60 \\pm 0.10$ & $4.94 \\pm 0.07$ & $2.98 \\pm 0.05$ \\\\\n",
      " $B^0\\to D^{*-}D_s$ & $13.61 \\pm 0.10$ & $8.30 \\pm 0.08$ & $6.88 \\pm 0.07$ \\\\\n",
      " $B^-\\to D^{*-}H_c$ & $7.02 \\pm 0.21$ & $3.33 \\pm 0.15$ & $2.31 \\pm 0.12$ \\\\\n",
      " $B^+\\to D^{*-}H_c$ & $3.62 \\pm 0.08$ & $1.87 \\pm 0.06$ & $1.12 \\pm 0.05$ \\\\\n",
      " $\\overline{B}^0\\to D^{*-}H_c$ & $10.76 \\pm 0.14$ & $5.36 \\pm 0.10$ & $3.49 \\pm 0.08$ \\\\\n",
      " \\hline\n",
      "\\end{tabular}\n",
      "\n"
     ]
    }
   ],
   "source": [
    "latexTable = r'''\n",
    "\\begin{tabular}{|c|c|c|c|}\n",
    " \\hline\n",
    " & Low & Mid & High \\\\\n",
    " \\hline\n",
    " \\hline\n",
    "'''\n",
    "for i, p in enumerate(procOrder):    \n",
    "    latexTable += ' ' + labelLatex[p]\n",
    "    \n",
    "    for category in ['Low', 'Mid', 'High']:\n",
    "        eff = MCsample[p].getSkimEff(category+'_bare')\n",
    "        latexTable += r' & '\n",
    "        latexTable += r'${:2.2f} \\pm {:2.2f}$'.format(100*eff[0], 100*eff[1])\n",
    "    latexTable += r' \\\\'\n",
    "    latexTable += '\\n'\n",
    "    \n",
    "    if i in separationLine:\n",
    "        latexTable += ' \\\\hline\\n'\n",
    "        \n",
    "latexTable += r'\\end{tabular}' + '\\n'\n",
    "print latexTable"
   ]
  },
  {
   "cell_type": "code",
   "execution_count": null,
   "metadata": {},
   "outputs": [],
   "source": []
  }
 ],
 "metadata": {
  "kernelspec": {
   "display_name": "Python 2",
   "language": "python",
   "name": "python2"
  },
  "language_info": {
   "codemirror_mode": {
    "name": "ipython",
    "version": 2
   },
   "file_extension": ".py",
   "mimetype": "text/x-python",
   "name": "python",
   "nbconvert_exporter": "python",
   "pygments_lexer": "ipython2",
   "version": "2.7.14+"
  },
  "varInspector": {
   "cols": {
    "lenName": 16,
    "lenType": 16,
    "lenVar": 40
   },
   "kernels_config": {
    "python": {
     "delete_cmd_postfix": "",
     "delete_cmd_prefix": "del ",
     "library": "var_list.py",
     "varRefreshCmd": "print(var_dic_list())"
    },
    "r": {
     "delete_cmd_postfix": ") ",
     "delete_cmd_prefix": "rm(",
     "library": "var_list.r",
     "varRefreshCmd": "cat(var_dic_list()) "
    }
   },
   "types_to_exclude": [
    "module",
    "function",
    "builtin_function_or_method",
    "instance",
    "_Feature"
   ],
   "window_display": false
  }
 },
 "nbformat": 4,
 "nbformat_minor": 2
}
