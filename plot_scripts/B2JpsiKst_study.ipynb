{
 "cells": [
  {
   "cell_type": "code",
   "execution_count": 34,
   "metadata": {
    "ExecuteTime": {
     "end_time": "2019-10-01T19:50:10.923284Z",
     "start_time": "2019-10-01T19:50:10.910933Z"
    }
   },
   "outputs": [],
   "source": [
    "import numpy as np\n",
    "import scipy.stats as sps\n",
    "from glob import glob\n",
    "import matplotlib.pyplot as plt\n",
    "import uproot as ur\n",
    "import ROOT as rt\n",
    "import ROOT.RooFit as rf\n",
    "from scipy.special import erf\n",
    "import sys\n",
    "sys.path.append('../lib')\n",
    "from histo_utilities import create_TH1D, create_TH2D, std_color_list, SetMaxToMaxHist, make_ratio_plot\n",
    "from cebefo_style import Set_2D_colz_graphics\n",
    "from progressBar import ProgressBar\n",
    "\n",
    "from analysis_utilities import drawOnCMSCanvas, extarct, extarct_multiple, createSel\n",
    "\n",
    "import CMS_lumi, tdrstyle\n",
    "tdrstyle.setTDRStyle()\n",
    "CMS_lumi.writeExtraText = 1\n",
    "CMS_lumi.extraText = \"     Preliminary\"\n",
    "\n",
    "donotdelete = []"
   ]
  },
  {
   "cell_type": "code",
   "execution_count": 3,
   "metadata": {
    "ExecuteTime": {
     "end_time": "2019-10-01T19:18:38.595523Z",
     "start_time": "2019-10-01T19:18:38.547634Z"
    }
   },
   "outputs": [],
   "source": [
    "rt.gErrorIgnoreLevel = rt.kError\n",
    "rt.RooMsgService.instance().setGlobalKillBelow(rt.RooFit.ERROR)"
   ]
  },
  {
   "cell_type": "code",
   "execution_count": 4,
   "metadata": {
    "ExecuteTime": {
     "end_time": "2019-10-01T19:18:38.617210Z",
     "start_time": "2019-10-01T19:18:38.598624Z"
    }
   },
   "outputs": [
    {
     "name": "stdout",
     "output_type": "stream",
     "text": [
      "1.86483\n",
      "2.01026\n",
      "5.27963\n",
      "mD* - mD0 = 0.14543\n"
     ]
    }
   ],
   "source": [
    "m_D0 = 1.86483 #1e-3*Particle.from_string('D0').mass\n",
    "print m_D0\n",
    "m_Dst = 2.01026 #1e-3*Particle.from_string('D*+').mass\n",
    "print m_Dst\n",
    "m_B0 = 5.27963 #1e-3*Particle.from_string('B0').mass\n",
    "print m_B0\n",
    "m_pi = 0.13957018 #1e-3*Particle.from_string('pi+').mass\n",
    "print 'mD* - mD0 =', m_Dst - m_D0"
   ]
  },
  {
   "cell_type": "code",
   "execution_count": 5,
   "metadata": {
    "ExecuteTime": {
     "end_time": "2019-10-01T19:18:38.654755Z",
     "start_time": "2019-10-01T19:18:38.621500Z"
    }
   },
   "outputs": [],
   "source": [
    "cl = rt.TLine()\n",
    "cl.SetLineColor(6)\n",
    "cl.SetLineStyle(9)\n",
    "cl.SetLineWidth(2)"
   ]
  },
  {
   "cell_type": "markdown",
   "metadata": {},
   "source": [
    "# Load data"
   ]
  },
  {
   "cell_type": "code",
   "execution_count": 6,
   "metadata": {
    "ExecuteTime": {
     "end_time": "2019-10-01T19:18:38.988437Z",
     "start_time": "2019-10-01T19:18:38.659020Z"
    },
    "code_folding": [],
    "scrolled": true
   },
   "outputs": [
    {
     "name": "stdout",
     "output_type": "stream",
     "text": [
      "B_E\n",
      "B_P\n",
      "B_eta\n",
      "B_phi\n",
      "B_pt\n",
      "B_pz\n",
      "Jpsi_E\n",
      "Jpsi_P\n",
      "Jpsi_eta\n",
      "Jpsi_phi\n",
      "Jpsi_pt\n",
      "Jpsi_pz\n",
      "K_E\n",
      "K_N_valid_hits\n",
      "K_P\n",
      "K_eta\n",
      "K_norm_chi2\n",
      "K_phi\n",
      "K_pt\n",
      "K_pz\n",
      "Kst_E\n",
      "Kst_P\n",
      "Kst_eta\n",
      "Kst_phi\n",
      "Kst_pt\n",
      "Kst_pz\n",
      "LumiBlock\n",
      "Run\n",
      "chi2_B\n",
      "chi2_Jpsi\n",
      "chi2_JpsiKst\n",
      "chi2_Kpi\n",
      "chi2_Kst\n",
      "chi2_mumu\n",
      "cos_B_PV\n",
      "cos_Jpsi_vtxMu\n",
      "cos_Kst_PV\n",
      "d_vtxB_PV\n",
      "d_vtxJpsi_PV\n",
      "d_vtxKst_PV\n",
      "eventNumber\n",
      "mass_JpsiKst\n",
      "mass_Kpi\n",
      "mass_mumu\n",
      "mum_E\n",
      "mum_P\n",
      "mum_dxy\n",
      "mum_eta\n",
      "mum_isTrg\n",
      "mum_phi\n",
      "mum_pt\n",
      "mum_pz\n",
      "mum_sigdxy\n",
      "mup_E\n",
      "mup_P\n",
      "mup_dxy\n",
      "mup_eta\n",
      "mup_isTrg\n",
      "mup_phi\n",
      "mup_pt\n",
      "mup_pz\n",
      "mup_sigdxy\n",
      "n_B\n",
      "n_Jpsi\n",
      "n_K\n",
      "n_Kst\n",
      "n_pi\n",
      "pi_E\n",
      "pi_N_valid_hits\n",
      "pi_P\n",
      "pi_eta\n",
      "pi_norm_chi2\n",
      "pi_phi\n",
      "pi_pt\n",
      "pi_pz\n",
      "sigd_K_PV\n",
      "sigd_pi_PV\n",
      "sigd_vtxB_PV\n",
      "sigd_vtxJpsi_PV\n",
      "sigd_vtxKst_PV\n",
      "trgMu_charge\n",
      "trgMu_dxy\n",
      "trgMu_dz\n",
      "trgMu_eta\n",
      "trgMu_phi\n",
      "trgMu_pt\n",
      "trgMu_sigdxy\n"
     ]
    }
   ],
   "source": [
    "f = '../data/cmsRD/ParkingBPH1/Run2018A-05May2019-v1_RDntuplizer_B2JpsiKst_191001_CAND.root'\n",
    "t = ur.open(f)['outA']['Tevts']\n",
    "# print tMC.keys(), '\\n\\n'\n",
    "branches = t.keys()\n",
    "for b in np.sort(branches):\n",
    "#     pass\n",
    "    print b"
   ]
  },
  {
   "cell_type": "code",
   "execution_count": 7,
   "metadata": {
    "ExecuteTime": {
     "end_time": "2019-10-01T19:18:56.493765Z",
     "start_time": "2019-10-01T19:18:38.994327Z"
    }
   },
   "outputs": [
    {
     "name": "stdout",
     "output_type": "stream",
     "text": [
      "Number of events: 11793\n",
      "Number of candidates: 12784\n"
     ]
    }
   ],
   "source": [
    "d = extarct(t, branches=branches)\n",
    "print 'Number of events:', d['n_B'].shape[0]\n",
    "print 'Number of candidates:', d['mass_JpsiKst'].shape[0]"
   ]
  },
  {
   "cell_type": "markdown",
   "metadata": {},
   "source": [
    "# Cuts declaration"
   ]
  },
  {
   "cell_type": "code",
   "execution_count": 13,
   "metadata": {
    "ExecuteTime": {
     "end_time": "2019-10-01T19:24:41.206663Z",
     "start_time": "2019-10-01T19:24:41.189363Z"
    }
   },
   "outputs": [
    {
     "name": "stdout",
     "output_type": "stream",
     "text": [
      "Vertex B\n",
      "Max chi2: 4132.6885\n",
      "Vertex Jpsi\n",
      "Max chi2: 2073.989\n",
      "Vertex JpsiKst\n",
      "Max chi2: 3.840481\n",
      "Vertex Kpi\n",
      "Max chi2: 3.8412197\n",
      "Vertex Kst\n",
      "Max chi2: 2018.7179\n",
      "Vertex mumu\n",
      "Max chi2: 3.8379116\n"
     ]
    },
    {
     "data": {
      "text/plain": [
       "0.9498941056477461"
      ]
     },
     "execution_count": 13,
     "metadata": {},
     "output_type": "execute_result"
    }
   ],
   "source": [
    "inj_chi2_pval_cut = 0.95\n",
    "for b in branches:\n",
    "    if b.startswith('chi2_'):\n",
    "        max_chi2 = np.max(d[b])\n",
    "        print 'Vertex', b[5:] \n",
    "        print 'Max chi2:', max_chi2\n",
    "        \n",
    "        \n",
    "\n",
    "sps.chi2.cdf(max_chi2, 1)"
   ]
  },
  {
   "cell_type": "markdown",
   "metadata": {},
   "source": [
    "# Muon system"
   ]
  },
  {
   "cell_type": "code",
   "execution_count": null,
   "metadata": {
    "ExecuteTime": {
     "end_time": "2019-09-18T01:47:27.732289Z",
     "start_time": "2019-09-18T01:47:27.716568Z"
    }
   },
   "outputs": [],
   "source": [
    "h = create_TH1D(dMC['mass_Kpi'], \n",
    "                axis_title=['Mass (K#pi) [GeV]', 'Candidates'],\n",
    "                binning=np.linspace(m_D0-0.08, m_D0+0.08, 100)\n",
    "               )"
   ]
  },
  {
   "cell_type": "markdown",
   "metadata": {},
   "source": [
    "# Hadron system"
   ]
  },
  {
   "cell_type": "code",
   "execution_count": null,
   "metadata": {
    "ExecuteTime": {
     "end_time": "2019-09-18T23:56:51.952639Z",
     "start_time": "2019-09-18T23:56:51.909962Z"
    }
   },
   "outputs": [],
   "source": []
  },
  {
   "cell_type": "markdown",
   "metadata": {},
   "source": [
    "# Full analysis"
   ]
  },
  {
   "cell_type": "code",
   "execution_count": 56,
   "metadata": {
    "ExecuteTime": {
     "end_time": "2019-10-01T20:01:57.748922Z",
     "start_time": "2019-10-01T20:01:57.731891Z"
    }
   },
   "outputs": [],
   "source": [
    "cut = {}\n",
    "\n",
    "####----- Trigger-like cuts -----#\n",
    "cut['mum_pt'] = ['>', 3.5]\n",
    "cut['mup_pt'] = ['>', 3.5]\n",
    "cut['Jpsi_pt'] = ['>', 6.9]\n",
    "# Missing: sigdxy_vtxJpsi_PV > 3\n",
    "cut['chi2_mumu'] = ['<', sps.chi2.ppf(0.90, 1)]\n",
    "cut['mum_eta'] = ['>', -2.2]\n",
    "cut['mup_eta'] = ['>', -2.2]\n",
    "cut['_mum_eta'] = ['<', 2.2]\n",
    "cut['_mup_eta'] = ['<', 2.2]\n",
    "# Missing: dca_mumu < 0.5 cm\n",
    "cut['cos_Jpsi_vtxMu'] = ['>', 0.9]\n",
    "\n",
    "####----- Muon systems cuts -----#\n",
    "cut['mum_dxy'] = ['<', 3]\n",
    "cut['mup_dxy'] = ['<', 3]\n",
    "\n",
    "####----- Hadron systems cuts -----#\n",
    "cut['K_pt'] = ['>', 0.8]\n",
    "cut['pi_pt'] = ['>', 0.8]\n",
    "cut['sigd_K_PV'] = ['>', 2]\n",
    "cut['sigd_pi_PV'] = ['>', 2]"
   ]
  },
  {
   "cell_type": "code",
   "execution_count": 57,
   "metadata": {
    "ExecuteTime": {
     "end_time": "2019-10-01T20:01:58.223511Z",
     "start_time": "2019-10-01T20:01:58.207712Z"
    }
   },
   "outputs": [],
   "source": [
    "import operator\n",
    "ops = {'>': operator.gt, '<': operator.lt, }\n",
    "\n",
    "def createSel(d, cut):\n",
    "    k_ref = cut.keys()[0]\n",
    "    if k_ref[0] == '_': \n",
    "            k_ref = k_ref[1:]\n",
    "    sel = np.ones_like(d[k_ref], dtype=bool)\n",
    "    for k, v in cut.iteritems():\n",
    "        if k[0] == '_': \n",
    "            k = k[1:]\n",
    "        sel = np.logical_and(sel, ops[v[0]](d[k], v[1]) )\n",
    "        \n",
    "    eff = np.sum(sel)/float(sel.shape[0])\n",
    "    return sel, eff"
   ]
  },
  {
   "cell_type": "code",
   "execution_count": 58,
   "metadata": {
    "ExecuteTime": {
     "end_time": "2019-10-01T20:01:58.724301Z",
     "start_time": "2019-10-01T20:01:58.708137Z"
    }
   },
   "outputs": [
    {
     "name": "stdout",
     "output_type": "stream",
     "text": [
      "0.22449937421777222\n"
     ]
    }
   ],
   "source": [
    "sel_prelim, eff = createSel(d, cut)\n",
    "print eff"
   ]
  },
  {
   "cell_type": "code",
   "execution_count": 59,
   "metadata": {
    "ExecuteTime": {
     "end_time": "2019-10-01T20:01:59.785937Z",
     "start_time": "2019-10-01T20:01:59.744005Z"
    }
   },
   "outputs": [
    {
     "data": {
      "image/png": "[encoded data removed]",
      "text/plain": [
       "<IPython.core.display.Image object>"
      ]
     },
     "metadata": {},
     "output_type": "display_data"
    }
   ],
   "source": [
    "h = create_TH1D(d['mass_mumu'][sel_prelim], \n",
    "                title='',\n",
    "                axis_title=['m(#mu#mu) [GeV]', 'Events'],\n",
    "                binning=[60, 2.5, 3.6]\n",
    "               )\n",
    "h.Sumw2()\n",
    "                                   \n",
    "c = drawOnCMSCanvas(CMS_lumi, [h], 'same')\n",
    "c.SetRightMargin(0.15)\n",
    "c.Draw()"
   ]
  },
  {
   "cell_type": "code",
   "execution_count": 60,
   "metadata": {
    "ExecuteTime": {
     "end_time": "2019-10-01T20:02:00.154549Z",
     "start_time": "2019-10-01T20:02:00.112157Z"
    }
   },
   "outputs": [
    {
     "data": {
      "image/png": "[encoded data removed]",
      "text/plain": [
       "<IPython.core.display.Image object>"
      ]
     },
     "metadata": {},
     "output_type": "display_data"
    }
   ],
   "source": [
    "h = create_TH1D(d['mass_Kpi'][sel_prelim], \n",
    "                title='',\n",
    "                axis_title=['m(K#pi) [GeV]', 'Events'],\n",
    "                binning=[60, 0.7, 1.1]\n",
    "               )\n",
    "h.Sumw2()\n",
    "                                   \n",
    "c = drawOnCMSCanvas(CMS_lumi, [h], 'same')\n",
    "c.SetRightMargin(0.15)\n",
    "c.Draw()"
   ]
  },
  {
   "cell_type": "code",
   "execution_count": 61,
   "metadata": {
    "ExecuteTime": {
     "end_time": "2019-10-01T20:02:00.737857Z",
     "start_time": "2019-10-01T20:02:00.720252Z"
    }
   },
   "outputs": [],
   "source": [
    "cut['mass_mumu'] = ['<',  3.2]\n",
    "cut['_mass_mumu'] = ['>',  3.0]\n",
    "cut['mass_Kpi'] = ['<',  0.96]\n",
    "cut['_mass_Kpi'] = ['>',  0.8]"
   ]
  },
  {
   "cell_type": "code",
   "execution_count": 62,
   "metadata": {
    "ExecuteTime": {
     "end_time": "2019-10-01T20:02:02.271682Z",
     "start_time": "2019-10-01T20:02:02.255711Z"
    }
   },
   "outputs": [
    {
     "name": "stdout",
     "output_type": "stream",
     "text": [
      "0.13266583229036297\n"
     ]
    }
   ],
   "source": [
    "sel_an, eff = createSel(d, cut)\n",
    "print eff"
   ]
  },
  {
   "cell_type": "code",
   "execution_count": 64,
   "metadata": {
    "ExecuteTime": {
     "end_time": "2019-10-01T20:03:56.233362Z",
     "start_time": "2019-10-01T20:03:56.190499Z"
    }
   },
   "outputs": [
    {
     "data": {
      "image/png": "[encoded data removed]",
      "text/plain": [
       "<IPython.core.display.Image object>"
      ]
     },
     "metadata": {},
     "output_type": "display_data"
    }
   ],
   "source": [
    "h = create_TH1D(d['mass_JpsiKst'][sel_an], \n",
    "                title='',\n",
    "                axis_title=['m(J/#psi K*) [GeV]', 'Events'],\n",
    "                binning=[60,4.5, 6]\n",
    "               )\n",
    "h.Sumw2()\n",
    "                                   \n",
    "c = drawOnCMSCanvas(CMS_lumi, [h], 'same')\n",
    "c.SetRightMargin(0.15)\n",
    "c.Draw()"
   ]
  },
  {
   "cell_type": "code",
   "execution_count": null,
   "metadata": {},
   "outputs": [],
   "source": []
  }
 ],
 "metadata": {
  "kernelspec": {
   "display_name": "Python 2",
   "language": "python",
   "name": "python2"
  },
  "language_info": {
   "codemirror_mode": {
    "name": "ipython",
    "version": 2
   },
   "file_extension": ".py",
   "mimetype": "text/x-python",
   "name": "python",
   "nbconvert_exporter": "python",
   "pygments_lexer": "ipython2",
   "version": "2.7.14"
  }
 },
 "nbformat": 4,
 "nbformat_minor": 2
}
