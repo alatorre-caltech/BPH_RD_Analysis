{
 "cells": [
  {
   "cell_type": "code",
   "execution_count": 1,
   "metadata": {
    "ExecuteTime": {
     "end_time": "2019-10-18T21:29:12.614523Z",
     "start_time": "2019-10-18T21:29:10.898811Z"
    }
   },
   "outputs": [
    {
     "name": "stdout",
     "output_type": "stream",
     "text": [
      "Welcome to JupyROOT 6.12/07\n"
     ]
    }
   ],
   "source": [
    "import numpy as np\n",
    "import scipy.stats as sps\n",
    "from glob import glob\n",
    "import matplotlib.pyplot as plt\n",
    "import uproot as ur\n",
    "import ROOT as rt\n",
    "import ROOT.RooFit as rf\n",
    "from scipy.special import erf\n",
    "import sys, os\n",
    "sys.path.append('../lib')\n",
    "from histo_utilities import create_TH1D, create_TH2D, std_color_list, SetMaxToMaxHist, make_ratio_plot\n",
    "from cebefo_style import Set_2D_colz_graphics\n",
    "from progressBar import ProgressBar\n",
    "\n",
    "from analysis_utilities import drawOnCMSCanvas, extarct, extarct_multiple, createSel\n",
    "from lumi_utilities import getLumiReport\n",
    "\n",
    "import CMS_lumi, tdrstyle\n",
    "tdrstyle.setTDRStyle()\n",
    "CMS_lumi.writeExtraText = 1\n",
    "CMS_lumi.extraText = \"     Preliminary\"\n",
    "\n",
    "donotdelete = []"
   ]
  },
  {
   "cell_type": "code",
   "execution_count": 2,
   "metadata": {
    "ExecuteTime": {
     "end_time": "2019-10-18T21:29:12.649829Z",
     "start_time": "2019-10-18T21:29:12.618770Z"
    }
   },
   "outputs": [],
   "source": [
    "rt.gErrorIgnoreLevel = rt.kError\n",
    "rt.RooMsgService.instance().setGlobalKillBelow(rt.RooFit.ERROR)"
   ]
  },
  {
   "cell_type": "code",
   "execution_count": 3,
   "metadata": {
    "ExecuteTime": {
     "end_time": "2019-10-18T21:29:12.679591Z",
     "start_time": "2019-10-18T21:29:12.654288Z"
    }
   },
   "outputs": [
    {
     "name": "stdout",
     "output_type": "stream",
     "text": [
      "1.86483\n",
      "2.01026\n",
      "5.27963\n",
      "mD* - mD0 = 0.14543\n"
     ]
    }
   ],
   "source": [
    "m_D0 = 1.86483 #1e-3*Particle.from_string('D0').mass\n",
    "print m_D0\n",
    "m_Dst = 2.01026 #1e-3*Particle.from_string('D*+').mass\n",
    "print m_Dst\n",
    "m_B0 = 5.27963 #1e-3*Particle.from_string('B0').mass\n",
    "print m_B0\n",
    "m_pi = 0.13957018 #1e-3*Particle.from_string('pi+').mass\n",
    "print 'mD* - mD0 =', m_Dst - m_D0"
   ]
  },
  {
   "cell_type": "code",
   "execution_count": 4,
   "metadata": {
    "ExecuteTime": {
     "end_time": "2019-10-18T21:29:12.705957Z",
     "start_time": "2019-10-18T21:29:12.683575Z"
    }
   },
   "outputs": [],
   "source": [
    "cl = rt.TLine()\n",
    "cl.SetLineColor(6)\n",
    "cl.SetLineStyle(9)\n",
    "cl.SetLineWidth(2)"
   ]
  },
  {
   "cell_type": "markdown",
   "metadata": {
    "heading_collapsed": true
   },
   "source": [
    "# Load data"
   ]
  },
  {
   "cell_type": "code",
   "execution_count": 5,
   "metadata": {
    "ExecuteTime": {
     "end_time": "2019-10-18T21:29:12.739319Z",
     "start_time": "2019-10-18T21:29:12.710087Z"
    },
    "hidden": true
   },
   "outputs": [],
   "source": [
    "dataDir = '../data/cmsMC_private/'\n",
    "dataDir += 'BPH_Tag-Probe_B0_JpsiKst-mumuKpi-kp_13TeV-pythia8_Hardbbbar_PTFilter5_0p0-evtgen_SVV_PU20_10-2-3'\n",
    "datasets_loc = []\n",
    "datasets_loc += glob(dataDir + '/ntuples_B2JpsiKst/out_CAND_*.root')"
   ]
  },
  {
   "cell_type": "code",
   "execution_count": 6,
   "metadata": {
    "ExecuteTime": {
     "end_time": "2019-10-18T21:29:13.124770Z",
     "start_time": "2019-10-18T21:29:12.762579Z"
    },
    "hidden": true
   },
   "outputs": [
    {
     "name": "stdout",
     "output_type": "stream",
     "text": [
      "N evts: 530076\n"
     ]
    }
   ],
   "source": [
    "tree = rt.TChain('outA/Tevts')\n",
    "\n",
    "for floc in datasets_loc:\n",
    "    tree.Add(floc)\n",
    "\n",
    "print 'N evts: {:.0f}'.format(tree.GetEntries())"
   ]
  },
  {
   "cell_type": "markdown",
   "metadata": {
    "heading_collapsed": true
   },
   "source": [
    "# Cuts declaration"
   ]
  },
  {
   "cell_type": "code",
   "execution_count": 7,
   "metadata": {
    "ExecuteTime": {
     "end_time": "2019-10-18T21:29:13.154279Z",
     "start_time": "2019-10-18T21:29:13.139070Z"
    },
    "hidden": true
   },
   "outputs": [],
   "source": [
    "cut_general = [\n",
    "    'n_B == 1'\n",
    "]"
   ]
  },
  {
   "cell_type": "markdown",
   "metadata": {
    "heading_collapsed": true
   },
   "source": [
    "# Muon system"
   ]
  },
  {
   "cell_type": "code",
   "execution_count": 27,
   "metadata": {
    "ExecuteTime": {
     "end_time": "2019-10-18T21:29:13.165680Z",
     "start_time": "2019-10-18T21:29:13.158475Z"
    },
    "hidden": true
   },
   "outputs": [],
   "source": [
    "cut_mumu = [\n",
    "####----- Trigger-like cuts -----#\n",
    "'mum_pt > 3.5',\n",
    "'mup_pt > 3.5',\n",
    "'Jpsi_pt > 4.5',\n",
    "# 'sigdxy_vtxJpsi_PV > 3', #useless\n",
    "'pval_mumu > 0.1',\n",
    "'mum_eta > -2.2',\n",
    "'mup_eta > -2.2',\n",
    "'mum_eta < 2.2',\n",
    "'mup_eta < 2.2',\n",
    "'cosT_Jpsi_PV > 0.95',\n",
    "####----- Muon systems cuts -----#\n",
    "'mum_dxy < 3',\n",
    "'mup_dxy < 3',\n",
    "]"
   ]
  },
  {
   "cell_type": "code",
   "execution_count": 28,
   "metadata": {
    "ExecuteTime": {
     "end_time": "2019-10-18T21:29:13.187125Z",
     "start_time": "2019-10-18T21:29:13.170054Z"
    },
    "hidden": true
   },
   "outputs": [
    {
     "name": "stdout",
     "output_type": "stream",
     "text": [
      "n_B == 1 && mum_pt > 3.5 && mup_pt > 3.5 && Jpsi_pt > 6.9 && pval_mumu > 0.1 && mum_eta > -2.2 && mup_eta > -2.2 && mum_eta < 2.2 && mup_eta < 2.2 && cosT_Jpsi_PV > 0.95 && mum_dxy < 3 && mup_dxy < 3\n"
     ]
    }
   ],
   "source": [
    "cut_str = ' && '.join(cut_general + cut_mumu)\n",
    "print cut_str"
   ]
  },
  {
   "cell_type": "code",
   "execution_count": 21,
   "metadata": {
    "ExecuteTime": {
     "end_time": "2019-10-18T21:29:34.841841Z",
     "start_time": "2019-10-18T21:29:13.191749Z"
    },
    "hidden": true
   },
   "outputs": [
    {
     "data": {
      "image/png": "[encoded data removed]",
      "text/plain": [
       "<IPython.core.display.Image object>"
      ]
     },
     "metadata": {},
     "output_type": "display_data"
    }
   ],
   "source": [
    "h = create_TH1D(np.zeros(0), name='h',\n",
    "                title='',\n",
    "                axis_title=['m(#mu#mu) [GeV]', 'Events'],\n",
    "                binning=[100, 2.5, 4.1]\n",
    "               )\n",
    "tree.Project('h', 'mass_mumu', cut_str)\n",
    "h.Sumw2()\n",
    "\n",
    "h2 = create_TH1D(np.zeros(0), name='h2', binning=h.binning)\n",
    "tree.Project('h2', 'mass_mumu', cut_str + ' && pval_mumupiK > 0.1')\n",
    "h2.Sumw2()\n",
    "h2.SetLineColor(rt.kRed)\n",
    "\n",
    "c = drawOnCMSCanvas(CMS_lumi, [h, h2], 'same')\n",
    "c.SetRightMargin(0.15)\n",
    "c.Draw()\n",
    "# c.SetLogy()\n",
    "h.GetYaxis().SetRangeUser(0.9, 1.2*h.GetMaximum())"
   ]
  },
  {
   "cell_type": "code",
   "execution_count": 22,
   "metadata": {
    "ExecuteTime": {
     "end_time": "2019-10-18T21:29:46.015482Z",
     "start_time": "2019-10-18T21:29:34.845990Z"
    },
    "hidden": true
   },
   "outputs": [
    {
     "data": {
      "image/png": "[encoded data removed]",
      "text/plain": [
       "<IPython.core.display.Image object>"
      ]
     },
     "metadata": {},
     "output_type": "display_data"
    }
   ],
   "source": [
    "h = create_TH1D(np.zeros(0), name='h',\n",
    "                title='',\n",
    "                axis_title=['m(#mu#mu) [GeV]', 'Events'],\n",
    "                binning=[100, 2.7, 3.4]\n",
    "               )\n",
    "tree.Project('h', 'mass_mumu', cut_str + ' && pval_mumupiK > 0.1')\n",
    "h.Sumw2()\n",
    "f_fit = rt.TF1('f_fit', '[0] + x*[1] + gaus(2)', 2.7,3.4)\n",
    "f_fit.SetParameter(0, h.GetBinContent(1))\n",
    "f_fit.SetParameter(1, (h.GetBinContent(100) - h.GetBinContent(1))/(h.binning[2] - h.binning[1]))\n",
    "f_fit.SetParameter(2, h.GetMaximum())\n",
    "f_fit.SetParameter(3, 3.1)\n",
    "f_fit.SetParameter(4, 0.05)\n",
    "h.Fit(f_fit, 'LSRQ')\n",
    "\n",
    "m_mumu_min = f_fit.GetParameter(3) - 3*f_fit.GetParameter(4)\n",
    "m_mumu_max = f_fit.GetParameter(3) + 3*f_fit.GetParameter(4)\n",
    "\n",
    "c = drawOnCMSCanvas(CMS_lumi, [h], 'same')\n",
    "c.SetRightMargin(0.15)\n",
    "cl.DrawLine(m_mumu_min, 0, m_mumu_min, 1.1*h.GetMaximum())\n",
    "cl.DrawLine(m_mumu_max, 0, m_mumu_max, 1.1*h.GetMaximum())\n",
    "c.Draw()"
   ]
  },
  {
   "cell_type": "code",
   "execution_count": 29,
   "metadata": {},
   "outputs": [
    {
     "data": {
      "image/png": "[encoded data removed]",
      "text/plain": [
       "<IPython.core.display.Image object>"
      ]
     },
     "metadata": {},
     "output_type": "display_data"
    }
   ],
   "source": [
    "h = create_TH2D(np.zeros((2,2)), name='h',\n",
    "                title='',\n",
    "                axis_title=['pT Jpsi [GeV]', 'min #mu pT [GeV]', 'Events'],\n",
    "                binning=[50, 0, 30, 50, 0., 20]\n",
    "               )\n",
    "tree.Project('h', 'min(mum_pt, mup_pt):Jpsi_pt', cut_str)\n",
    "h.Sumw2()\n",
    "\n",
    "\n",
    "                                   \n",
    "c = drawOnCMSCanvas(CMS_lumi, [h], ['colz'])\n",
    "c.SetRightMargin(0.15)\n",
    "c.Draw()"
   ]
  },
  {
   "cell_type": "markdown",
   "metadata": {
    "heading_collapsed": true
   },
   "source": [
    "# Hadron system"
   ]
  },
  {
   "cell_type": "code",
   "execution_count": 8,
   "metadata": {
    "ExecuteTime": {
     "end_time": "2019-10-18T21:29:46.035031Z",
     "start_time": "2019-10-18T21:29:46.019740Z"
    },
    "hidden": true
   },
   "outputs": [],
   "source": [
    "cut_piK = [\n",
    "####----- Hadron systems cuts -----#\n",
    "'K_pt > 0.8',\n",
    "'pi_pt > 0.8',\n",
    "'K_sigdxy_PV > 2',\n",
    "'pi_sigdxy_PV > 2',\n",
    "'pval_piK > 0.1'\n",
    "]"
   ]
  },
  {
   "cell_type": "code",
   "execution_count": 9,
   "metadata": {
    "ExecuteTime": {
     "end_time": "2019-10-18T21:29:46.056480Z",
     "start_time": "2019-10-18T21:29:46.038963Z"
    },
    "hidden": true
   },
   "outputs": [
    {
     "name": "stdout",
     "output_type": "stream",
     "text": [
      "n_B == 1 && K_pt > 0.8 && pi_pt > 0.8 && K_sigdxy_PV > 2 && pi_sigdxy_PV > 2 && pval_piK > 0.1\n"
     ]
    }
   ],
   "source": [
    "cut_str = ' && '.join(cut_general + cut_piK)\n",
    "print cut_str"
   ]
  },
  {
   "cell_type": "code",
   "execution_count": 10,
   "metadata": {
    "ExecuteTime": {
     "end_time": "2019-10-18T21:30:20.200320Z",
     "start_time": "2019-10-18T21:29:46.060679Z"
    },
    "hidden": true
   },
   "outputs": [
    {
     "data": {
      "image/png": "[encoded data removed]",
      "text/plain": [
       "<IPython.core.display.Image object>"
      ]
     },
     "metadata": {},
     "output_type": "display_data"
    }
   ],
   "source": [
    "h = create_TH1D(np.zeros(0), name='h',\n",
    "                title='',\n",
    "                axis_title=['m(#pi^{-}K^{+}) [GeV]', 'Events'],\n",
    "                binning=[150, 0.6, 1.4]\n",
    "               )\n",
    "tree.Project('h', 'mass_piK', cut_str)\n",
    "h.Sumw2()\n",
    "\n",
    "h2 = create_TH1D(np.zeros(0), name='h2', binning=h.binning)\n",
    "tree.Project('h2', 'mass_piK', cut_str + ' && sigd_vtxKst_PV > 5')\n",
    "h2.Sumw2()\n",
    "h2.SetLineColor(rt.kRed)\n",
    "\n",
    "h3 = create_TH1D(np.zeros(0), name='h3', binning=h.binning)\n",
    "tree.Project('h3', 'mass_piK', cut_str + ' && sigdxy_vtxKst_PV > 5')\n",
    "h3.Sumw2()\n",
    "h3.SetLineColor(rt.kBlue)\n",
    "\n",
    "h4 = create_TH1D(np.zeros(0), name='h4', binning=h.binning)\n",
    "tree.Project('h4', 'mass_piK', cut_str + ' && sigd_vtxKst_PV > 5 && sigdxy_vtxKst_PV > 5')\n",
    "h4.Sumw2()\n",
    "h4.SetLineColor(rt.kGreen)\n",
    "\n",
    "h5 = create_TH1D(np.zeros(0), name='h5', binning=h.binning)\n",
    "tree.Project('h5', 'mass_piK', cut_str + ' && sigd_vtxKst_PV > 5 && sigdxy_vtxKst_PV > 5 && pval_mumupiK > 0.1')\n",
    "h5.Sumw2()\n",
    "h5.SetLineColor(rt.kMagenta)\n",
    "\n",
    "c = drawOnCMSCanvas(CMS_lumi, [h, h2, h3, h4, h5], 'same')\n",
    "c.SetRightMargin(0.15)\n",
    "c.Draw()\n",
    "# c.SetLogy()\n",
    "h.GetYaxis().SetRangeUser(0.9, 1.2*h.GetMaximum())"
   ]
  },
  {
   "cell_type": "code",
   "execution_count": 11,
   "metadata": {
    "ExecuteTime": {
     "end_time": "2019-10-18T21:30:20.219070Z",
     "start_time": "2019-10-18T21:30:20.204563Z"
    },
    "hidden": true
   },
   "outputs": [
    {
     "name": "stdout",
     "output_type": "stream",
     "text": [
      "n_B == 1 && pval_piK > 0.1 && K_pt > 0.8 && K_sigdxy_PV > 2 && pi_sigdxy_PV > 2 && sigdxy_vtxKst_PV > 5 && pval_mumupiK > 0.1 && pi_pt > 0.8\n"
     ]
    }
   ],
   "source": [
    "cut_piK += [\n",
    "    'sigdxy_vtxKst_PV > 5',\n",
    "    'pval_mumupiK > 0.1'\n",
    "]\n",
    "cut_piK = list(dict.fromkeys(cut_piK))\n",
    "\n",
    "cut_str = ' && '.join(cut_general + cut_piK)\n",
    "print cut_str"
   ]
  },
  {
   "cell_type": "code",
   "execution_count": 12,
   "metadata": {
    "ExecuteTime": {
     "end_time": "2019-10-18T21:30:36.572737Z",
     "start_time": "2019-10-18T21:30:20.222949Z"
    },
    "hidden": true,
    "scrolled": false
   },
   "outputs": [
    {
     "data": {
      "image/png": "[encoded data removed]",
      "text/plain": [
       "<IPython.core.display.Image object>"
      ]
     },
     "metadata": {},
     "output_type": "display_data"
    }
   ],
   "source": [
    "h = create_TH1D(np.zeros(0), name='h',\n",
    "                title='',\n",
    "                axis_title=['m(K^{-}#pi^{+}) [GeV]', 'Events'],\n",
    "                binning=[100, 0.6, 1.5]\n",
    "               )\n",
    "tree.Project('h', 'mass_piK_CPconj', cut_str)\n",
    "h.Sumw2()\n",
    "\n",
    "wrongCP_cut = 'fabs(mass_piK - 0.895) > fabs(mass_piK_CPconj - 0.895)'\n",
    "h2 = create_TH1D(np.zeros(0), name='h2', binning=h.binning)\n",
    "tree.Project('h2', 'mass_piK_CPconj', cut_str + ' && ' + wrongCP_cut)\n",
    "h2.Sumw2()\n",
    "h2.SetLineColor(rt.kRed)\n",
    "\n",
    "\n",
    "                                   \n",
    "c = drawOnCMSCanvas(CMS_lumi, [h, h2], 'same')\n",
    "c.SetRightMargin(0.15)\n",
    "c.Draw()"
   ]
  },
  {
   "cell_type": "code",
   "execution_count": 13,
   "metadata": {
    "ExecuteTime": {
     "end_time": "2019-10-18T21:30:44.954411Z",
     "start_time": "2019-10-18T21:30:36.575560Z"
    },
    "hidden": true
   },
   "outputs": [
    {
     "data": {
      "image/png": "[encoded data removed]",
      "text/plain": [
       "<IPython.core.display.Image object>"
      ]
     },
     "metadata": {},
     "output_type": "display_data"
    }
   ],
   "source": [
    "h = create_TH2D(np.zeros((2,2)), name='h',\n",
    "                title='',\n",
    "                axis_title=['m(#pi^{-}K^{+}) [GeV]', 'm(K^{-}#pi^{+}) [GeV]', 'Events'],\n",
    "                binning=[50, 0.6, 1.5, 50, 0.6, 1.5]\n",
    "               )\n",
    "tree.Project('h', 'mass_piK_CPconj:mass_piK', cut_str)\n",
    "h.Sumw2()\n",
    "\n",
    "\n",
    "                                   \n",
    "c = drawOnCMSCanvas(CMS_lumi, [h], ['colz'])\n",
    "c.SetRightMargin(0.15)\n",
    "c.Draw()"
   ]
  },
  {
   "cell_type": "code",
   "execution_count": 14,
   "metadata": {
    "ExecuteTime": {
     "end_time": "2019-10-18T21:31:01.362474Z",
     "start_time": "2019-10-18T21:30:44.958638Z"
    },
    "hidden": true
   },
   "outputs": [
    {
     "data": {
      "image/png": "[encoded data removed]",
      "text/plain": [
       "<IPython.core.display.Image object>"
      ]
     },
     "metadata": {},
     "output_type": "display_data"
    }
   ],
   "source": [
    "h = create_TH1D(np.zeros(0), name='h',\n",
    "                title='',\n",
    "                axis_title=['m(#pi^{-}K^{+}) [GeV]', 'Events'],\n",
    "                binning=[100, 0.6, 1.5]\n",
    "               )\n",
    "tree.Project('h', 'mass_piK', cut_str)\n",
    "h.Sumw2()\n",
    "\n",
    "correctCP_cut = 'fabs(mass_piK - 0.895) < fabs(mass_piK_CPconj - 0.895)'\n",
    "h2 = create_TH1D(np.zeros(0), name='h2', binning=h.binning)\n",
    "tree.Project('h2', 'mass_piK', cut_str + ' && ' + correctCP_cut)\n",
    "h2.Sumw2()\n",
    "h2.SetLineColor(rt.kRed)\n",
    "\n",
    "\n",
    "                                   \n",
    "c = drawOnCMSCanvas(CMS_lumi, [h, h2], 'same')\n",
    "c.SetRightMargin(0.15)\n",
    "c.Draw()"
   ]
  },
  {
   "cell_type": "code",
   "execution_count": 15,
   "metadata": {
    "ExecuteTime": {
     "end_time": "2019-10-18T21:31:01.382413Z",
     "start_time": "2019-10-18T21:31:01.366745Z"
    },
    "hidden": true
   },
   "outputs": [
    {
     "name": "stdout",
     "output_type": "stream",
     "text": [
      "n_B == 1 && pval_piK > 0.1 && K_pt > 0.8 && K_sigdxy_PV > 2 && pi_sigdxy_PV > 2 && sigdxy_vtxKst_PV > 5 && fabs(mass_piK - 0.895) < fabs(mass_piK_CPconj - 0.895) && pval_mumupiK > 0.1 && pi_pt > 0.8\n"
     ]
    }
   ],
   "source": [
    "cut_piK += ['fabs(mass_piK - 0.895) < fabs(mass_piK_CPconj - 0.895)']\n",
    "cut_piK = list(dict.fromkeys(cut_piK))\n",
    "\n",
    "cut_str = ' && '.join(cut_general + cut_piK)\n",
    "print cut_str"
   ]
  },
  {
   "cell_type": "code",
   "execution_count": 18,
   "metadata": {
    "ExecuteTime": {
     "end_time": "2019-10-18T21:31:10.786693Z",
     "start_time": "2019-10-18T21:31:01.386639Z"
    },
    "hidden": true
   },
   "outputs": [
    {
     "data": {
      "image/png": "[encoded data removed]",
      "text/plain": [
       "<IPython.core.display.Image object>"
      ]
     },
     "metadata": {},
     "output_type": "display_data"
    }
   ],
   "source": [
    "h = create_TH1D(np.zeros(0), name='h',\n",
    "                title='',\n",
    "                axis_title=['m(K^{-}K^{+}) [GeV]', 'Events'],\n",
    "                binning=[100, 0.95, 1.8]\n",
    "               )\n",
    "tree.Project('h', 'mass_KK', cut_str)\n",
    "h.Sumw2()\n",
    "\n",
    "sel = 'abs(MC_K_pt - K_pt)/MC_K_pt < 0.1 && abs(MC_K_eta - K_eta) < 0.05'\n",
    "h2 = create_TH1D(np.zeros(0), name='h2', binning=h.binning)\n",
    "tree.Project('h2', 'mass_KK', cut_str + ' && ' + sel)\n",
    "h2.Sumw2()\n",
    "h2.SetLineColor(rt.kRed)\n",
    "                                   \n",
    "c = drawOnCMSCanvas(CMS_lumi, [h, h2], 'same')\n",
    "cl.DrawLine(1.035, 0, 1.035, 1.1*h.GetMaximum())\n",
    "c.Draw()"
   ]
  },
  {
   "cell_type": "code",
   "execution_count": null,
   "metadata": {
    "ExecuteTime": {
     "end_time": "2019-10-18T21:31:29.320680Z",
     "start_time": "2019-10-18T21:31:10.790829Z"
    },
    "hidden": true
   },
   "outputs": [],
   "source": [
    "h = create_TH1D(np.zeros(0), name='h',\n",
    "                title='',\n",
    "                axis_title=['m(#pi^{-}K^{+}) [GeV]', 'Events'],\n",
    "                binning=[100, 0.6, 1.5]\n",
    "               )\n",
    "tree.Project('h', 'mass_piK', cut_str)\n",
    "h.Sumw2()\n",
    "\n",
    "h2 = create_TH1D(np.zeros(0), name='h2', binning=h.binning)\n",
    "tree.Project('h2', 'mass_piK', cut_str + ' && mass_KK > 1.035')\n",
    "h2.Sumw2()\n",
    "h2.SetLineColor(rt.kRed)\n",
    "                                   \n",
    "c = drawOnCMSCanvas(CMS_lumi, [h, h2], 'same')\n",
    "c.Draw()"
   ]
  },
  {
   "cell_type": "code",
   "execution_count": null,
   "metadata": {
    "ExecuteTime": {
     "end_time": "2019-10-18T21:31:29.340274Z",
     "start_time": "2019-10-18T21:31:29.325190Z"
    },
    "hidden": true
   },
   "outputs": [],
   "source": [
    "cut_piK += ['mass_KK > 1.035']\n",
    "cut_piK = list(dict.fromkeys(cut_piK))\n",
    "print cut_piK"
   ]
  },
  {
   "cell_type": "markdown",
   "metadata": {
    "heading_collapsed": true
   },
   "source": [
    "# Full analysis"
   ]
  },
  {
   "cell_type": "code",
   "execution_count": null,
   "metadata": {
    "ExecuteTime": {
     "end_time": "2019-10-18T21:31:29.362092Z",
     "start_time": "2019-10-18T21:31:29.344803Z"
    },
    "hidden": true
   },
   "outputs": [],
   "source": [
    "cut_B = [\n",
    "    'mass_mumu < {:.3f}'.format(m_mumu_max),\n",
    "    'mass_mumu > {:.3f}'.format(m_mumu_min),\n",
    "    'mass_piK > 0.82',\n",
    "    'mass_piK < 0.96'\n",
    "        ]\n",
    "cut_B += cut_mumu + cut_piK\n",
    "print cut_B\n",
    "\n",
    "cut_str = ' && '.join(cut_general + cut_B)"
   ]
  },
  {
   "cell_type": "code",
   "execution_count": null,
   "metadata": {
    "ExecuteTime": {
     "end_time": "2019-10-18T21:31:47.728183Z",
     "start_time": "2019-10-18T21:31:29.363675Z"
    },
    "hidden": true
   },
   "outputs": [],
   "source": [
    "h = create_TH1D(np.zeros(0), name='h',\n",
    "                title='',\n",
    "                axis_title=['m(#mu#mu#pi^{-}K^{+}) [GeV]', 'Events'],\n",
    "                binning=[100, 4.3, 6]\n",
    "               )\n",
    "tree.Project('h', 'mass_mumupiK', cut_str)\n",
    "h.Sumw2()\n",
    "   \n",
    "c = drawOnCMSCanvas(CMS_lumi, [h], 'same')\n",
    "c.Draw()"
   ]
  },
  {
   "cell_type": "code",
   "execution_count": null,
   "metadata": {
    "ExecuteTime": {
     "end_time": "2019-10-18T21:32:06.869875Z",
     "start_time": "2019-10-18T21:31:47.732441Z"
    },
    "hidden": true
   },
   "outputs": [],
   "source": [
    "h = create_TH1D(np.zeros(0), name='h',\n",
    "                title='',\n",
    "                axis_title=['m(#mu#mu) [GeV]', 'Events'],\n",
    "                binning=[50, 3, 3.2]\n",
    "               )\n",
    "tree.Project('h', 'mass_mumu', cut_str + ' && mass_mumupiK < 5.45 && mass_mumupiK > 5.15')\n",
    "h.Sumw2()\n",
    "   \n",
    "c = drawOnCMSCanvas(CMS_lumi, [h], 'same')\n",
    "c.Draw()"
   ]
  },
  {
   "cell_type": "code",
   "execution_count": null,
   "metadata": {
    "ExecuteTime": {
     "end_time": "2019-10-18T21:32:25.954679Z",
     "start_time": "2019-10-18T21:32:06.874327Z"
    },
    "hidden": true
   },
   "outputs": [],
   "source": [
    "h = create_TH1D(np.zeros(0), name='h',\n",
    "                title='',\n",
    "                axis_title=['m(#pi^{-}K^{+}) [GeV]', 'Events'],\n",
    "                binning=[50, 0.82, 0.96]\n",
    "               )\n",
    "tree.Project('h', 'mass_piK', cut_str + ' && mass_mumupiK < 5.45 && mass_mumupiK > 5.15')\n",
    "h.Sumw2()\n",
    "   \n",
    "c = drawOnCMSCanvas(CMS_lumi, [h], 'same')\n",
    "c.Draw()"
   ]
  },
  {
   "cell_type": "code",
   "execution_count": null,
   "metadata": {
    "ExecuteTime": {
     "end_time": "2019-10-18T21:32:45.479659Z",
     "start_time": "2019-10-18T21:32:25.958931Z"
    },
    "hidden": true
   },
   "outputs": [],
   "source": [
    "h = create_TH2D(np.zeros((2,2)), name='h',\n",
    "                title='',\n",
    "                axis_title=['m(#mu#mu#pi^{-}K^{+}) [GeV]', 'vtx displacement significance', 'Events'],\n",
    "                binning=[100, 4.3, 6, 50, 0, 100]\n",
    "               )\n",
    "tree.Project('h', 'sigd_vtxB_PV_mumupiK:mass_mumupiK', cut_str)\n",
    "h.Sumw2()\n",
    "                                   \n",
    "c = drawOnCMSCanvas(CMS_lumi, [h], ['colz'])\n",
    "c.SetRightMargin(0.15)\n",
    "c.Draw()"
   ]
  },
  {
   "cell_type": "code",
   "execution_count": null,
   "metadata": {
    "ExecuteTime": {
     "end_time": "2019-10-18T21:33:05.169525Z",
     "start_time": "2019-10-18T21:32:45.483797Z"
    },
    "hidden": true
   },
   "outputs": [],
   "source": [
    "h = create_TH2D(np.zeros((2,2)), name='h',\n",
    "                title='',\n",
    "                axis_title=['m(#mu#mu#pi^{-}K^{+}) [GeV]', 'pointing to PV', 'Events'],\n",
    "                binning=[100, 4.3, 6, 50, -1, 1]\n",
    "               )\n",
    "tree.Project('h', 'cos_B_PV_mumupiK:mass_mumupiK', cut_str)\n",
    "h.Sumw2()\n",
    "                                   \n",
    "c = drawOnCMSCanvas(CMS_lumi, [h], ['colz'])\n",
    "c.SetRightMargin(0.15)\n",
    "c.Draw()"
   ]
  },
  {
   "cell_type": "code",
   "execution_count": null,
   "metadata": {
    "ExecuteTime": {
     "end_time": "2019-10-18T21:33:24.238396Z",
     "start_time": "2019-10-18T21:33:05.173751Z"
    },
    "hidden": true
   },
   "outputs": [],
   "source": [
    "h = create_TH2D(np.zeros((2,2)), name='h',\n",
    "                title='',\n",
    "                axis_title=['m(#mu#mu#pi^{-}K^{+}) [GeV]', 'p-value', 'Events'],\n",
    "                binning=[100, 4.3, 6, 50, 0, 1]\n",
    "               )\n",
    "tree.Project('h', 'pval_mumupiK:mass_mumupiK', cut_str)\n",
    "h.Sumw2()\n",
    "                                   \n",
    "c = drawOnCMSCanvas(CMS_lumi, [h], ['colz'])\n",
    "c.SetRightMargin(0.15)\n",
    "c.Draw()"
   ]
  },
  {
   "cell_type": "code",
   "execution_count": null,
   "metadata": {
    "ExecuteTime": {
     "end_time": "2019-10-18T21:33:43.489922Z",
     "start_time": "2019-10-18T21:33:24.242605Z"
    },
    "hidden": true
   },
   "outputs": [],
   "source": [
    "h = create_TH2D(np.zeros((2,2)), name='h',\n",
    "                title='',\n",
    "                axis_title=['m(#mu#mu#pi^{-}K^{+}) [GeV]', 'p-value', 'Events'],\n",
    "                binning=[100, 4.3, 6, 50, 0, 1]\n",
    "               )\n",
    "tree.Project('h', 'pval_mumupiKrefit:mass_mumupiK', cut_str)\n",
    "h.Sumw2()\n",
    "                                   \n",
    "c = drawOnCMSCanvas(CMS_lumi, [h], ['colz'])\n",
    "c.SetRightMargin(0.15)\n",
    "c.Draw()"
   ]
  },
  {
   "cell_type": "code",
   "execution_count": null,
   "metadata": {
    "ExecuteTime": {
     "end_time": "2019-10-18T21:34:03.315088Z",
     "start_time": "2019-10-18T21:33:43.493810Z"
    },
    "hidden": true
   },
   "outputs": [],
   "source": [
    "h = create_TH2D(np.zeros((2,2)), name='h',\n",
    "                title='',\n",
    "                axis_title=['m(#mu#mu#pi^{-}K^{+}) [GeV]', 'pT_{B}', 'Events'],\n",
    "                binning=[100, 4.3, 6, 50, 0, 50]\n",
    "               )\n",
    "tree.Project('h', 'B_mumupiK_pt:mass_mumupiK', cut_str)\n",
    "h.Sumw2()\n",
    "                                   \n",
    "c = drawOnCMSCanvas(CMS_lumi, [h], ['colz'])\n",
    "c.SetRightMargin(0.15)\n",
    "c.Draw()"
   ]
  },
  {
   "cell_type": "markdown",
   "metadata": {},
   "source": [
    "# Signal isolation"
   ]
  },
  {
   "cell_type": "code",
   "execution_count": null,
   "metadata": {
    "ExecuteTime": {
     "end_time": "2019-10-18T21:34:03.336634Z",
     "start_time": "2019-10-18T21:34:03.319524Z"
    }
   },
   "outputs": [],
   "source": [
    "cut_str = ' && '.join(cut_B)\n",
    "# cut_str = ' && '.join(cut_general + cut_B)"
   ]
  },
  {
   "cell_type": "code",
   "execution_count": null,
   "metadata": {
    "ExecuteTime": {
     "end_time": "2019-10-18T21:34:23.293327Z",
     "start_time": "2019-10-18T21:34:03.340804Z"
    }
   },
   "outputs": [],
   "source": [
    "h = create_TH1D(np.zeros(0), name='h',\n",
    "                title='',\n",
    "                axis_title=['m(#mu#mu#pi^{-}K^{+}) [GeV]', 'Events'],\n",
    "                binning=[100, 5.1, 5.4]\n",
    "               )\n",
    "tree.Project('h', 'mass_mumupiK', cut_str)\n",
    "h.Sumw2()"
   ]
  },
  {
   "cell_type": "code",
   "execution_count": null,
   "metadata": {
    "ExecuteTime": {
     "end_time": "2019-10-18T21:34:23.312692Z",
     "start_time": "2019-10-18T21:34:23.297212Z"
    }
   },
   "outputs": [],
   "source": [
    "# tf = rt.TFile('../data/cmsRD/skimmed/B2JpsiKst.root', 'r')\n",
    "# skimmed_tree = tf.Get('Tevts')\n",
    "# h = create_TH1D(np.zeros(0), name='h',\n",
    "#                 title='',\n",
    "#                 axis_title=['m(#mu#mu#pi^{-}K^{+}) [GeV]', 'Events'],\n",
    "#                 binning=[30, 5, 5.6]\n",
    "#                )\n",
    "# skimmed_tree.Project('h', 'mass_mumupiK')\n",
    "# h.Sumw2()"
   ]
  },
  {
   "cell_type": "code",
   "execution_count": null,
   "metadata": {
    "ExecuteTime": {
     "end_time": "2019-10-18T21:34:23.331383Z",
     "start_time": "2019-10-18T21:34:23.316930Z"
    }
   },
   "outputs": [],
   "source": [
    "N_tot = h.Integral(1, h.binning[0])\n",
    "print N_tot\n",
    "print h.Integral()"
   ]
  },
  {
   "cell_type": "code",
   "execution_count": null,
   "metadata": {
    "ExecuteTime": {
     "end_time": "2019-10-18T21:34:23.757013Z",
     "start_time": "2019-10-18T21:34:23.336249Z"
    },
    "scrolled": false
   },
   "outputs": [],
   "source": [
    "mass = rt.RooRealVar('mass_mumupiK', 'm_{#mu#mu#piK}', h.binning[1], h.binning[2], 'GeV')\n",
    "frame = mass.frame(rf.Title(\"\"))\n",
    "\n",
    "mean = rt.RooRealVar('mean', '#mu', m_B0, 3, 7, 'GeV')\n",
    "mean2 = rt.RooRealVar('mean', '#mu', m_B0-0.01, 3, 7, 'GeV')\n",
    "sigmaN = rt.RooRealVar('sigmaN', '#sigma_{W}', 0.02, 0.00005, 0.1, 'GeV') \n",
    "sigmaW = rt.RooRealVar('sigmaW', '#sigma_{N}', 0.2, 0.00005, 0.5, 'GeV') \n",
    "gausN = rt.RooGaussian('gausNarrow','gN', mass, mean, sigmaN)\n",
    "gausW = rt.RooGaussian('gausWide','gW', mass, mean2, sigmaW)\n",
    "\n",
    "fN = rt.RooRealVar('fraction', 'f', 0.5, 0, 1, '')\n",
    "pdf_sig = rt.RooAddPdf('pdf_sig', 'pdf_sig', rt.RooArgList(gausN, gausW), rt.RooArgList(fN))\n",
    "\n",
    "nsig = rt.RooRealVar('nsig', 'N_{S}', 0.9*N_tot, 0, 100*N_tot)\n",
    "pdf_sig_ext = rt.RooExtendPdf('esig', 'esig', pdf_sig, nsig)\n",
    "\n",
    "data = rt.RooDataHist('d', 'data', rt.RooArgList(mass), h)\n",
    "\n",
    "pdf_tot = pdf_sig_ext\n",
    "pdf_tot.fitTo(data, rt.RooFit.PrintLevel(-1))\n",
    "\n",
    "chi2 = rt.RooChi2Var(\"chi2\", 'chi2', pdf_tot, data)\n",
    "if chi2.getVal() > rt.TMath.ChisquareQuantile(0.95, h.binning[0]-1-5):\n",
    "    print '[WARNING] Chi2:', chi2.getVal(), '/', h.binning[0]-1-5\n",
    "\n",
    "\n",
    "data.plotOn(frame, rf.MarkerStyle(1), rf.DrawOption('E1'), rf.MarkerColor(h.GetLineColor()), rf.LineColor(h.GetLineColor()))\n",
    "pdf_tot.plotOn(frame, rf.LineColor(h.GetLineColor()), rf.LineWidth(1))\n",
    "\n",
    "\n",
    "c = drawOnCMSCanvas(CMS_lumi, frame)\n",
    "m = mean.getVal()\n",
    "res = sigma.getVal()\n",
    "cl.SetLineColor(rt.kMagenta)\n",
    "cl.DrawLine(m-3*res, 0, m-3*res, h.GetMaximum())\n",
    "cl.DrawLine(m+3*res, 0, m+3*res, h.GetMaximum())\n",
    "\n",
    "cl.SetLineColor(rt.kYellow+1)\n",
    "cl.DrawLine(m_B0, 0, m_B0, h.GetMaximum())\n",
    "\n",
    "# c.SetLogy()"
   ]
  },
  {
   "cell_type": "code",
   "execution_count": null,
   "metadata": {},
   "outputs": [],
   "source": []
  }
 ],
 "metadata": {
  "kernelspec": {
   "display_name": "Python 2",
   "language": "python",
   "name": "python2"
  },
  "language_info": {
   "codemirror_mode": {
    "name": "ipython",
    "version": 2
   },
   "file_extension": ".py",
   "mimetype": "text/x-python",
   "name": "python",
   "nbconvert_exporter": "python",
   "pygments_lexer": "ipython2",
   "version": "2.7.14+"
  }
 },
 "nbformat": 4,
 "nbformat_minor": 2
}
