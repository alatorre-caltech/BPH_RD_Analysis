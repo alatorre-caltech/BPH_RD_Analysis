{
 "cells": [
  {
   "cell_type": "markdown",
   "metadata": {},
   "source": [
    "Triggers turn on studies"
   ]
  },
  {
   "cell_type": "code",
   "execution_count": 1,
   "metadata": {
    "ExecuteTime": {
     "end_time": "2019-11-05T19:36:58.022206Z",
     "start_time": "2019-11-05T19:36:50.765108Z"
    }
   },
   "outputs": [
    {
     "name": "stdout",
     "output_type": "stream",
     "text": [
      "Welcome to JupyROOT 6.12/07\n"
     ]
    }
   ],
   "source": [
    "import numpy as np\n",
    "import scipy.stats as sps\n",
    "from glob import glob\n",
    "import pickle\n",
    "from multiprocessing import Pool\n",
    "import matplotlib.pyplot as plt\n",
    "from array import array\n",
    "import uproot as ur\n",
    "import ROOT as rt\n",
    "import ROOT.RooFit as rf\n",
    "from scipy.special import erf\n",
    "import sys, os\n",
    "sys.path.append('../lib')\n",
    "from histo_utilities import create_TH1D, create_TH2D, std_color_list, SetMaxToMaxHist, make_ratio_plot\n",
    "from cebefo_style import Set_2D_colz_graphics\n",
    "from progressBar import ProgressBar\n",
    "\n",
    "from analysis_utilities import drawOnCMSCanvas, extarct, extarct_multiple, createSel\n",
    "from lumi_utilities import getLumiReport\n",
    "\n",
    "import CMS_lumi, tdrstyle\n",
    "tdrstyle.setTDRStyle()\n",
    "CMS_lumi.writeExtraText = 1\n",
    "CMS_lumi.extraText = \"     Internal\"\n",
    "\n",
    "donotdelete = []"
   ]
  },
  {
   "cell_type": "code",
   "execution_count": 2,
   "metadata": {},
   "outputs": [],
   "source": [
    "if os.environ['CMSSW_VERSION'] != 'CMSSW_10_2_3':\n",
    "    raise"
   ]
  },
  {
   "cell_type": "code",
   "execution_count": 3,
   "metadata": {
    "ExecuteTime": {
     "end_time": "2019-11-05T19:36:58.060006Z",
     "start_time": "2019-11-05T19:36:58.026344Z"
    }
   },
   "outputs": [],
   "source": [
    "rt.gErrorIgnoreLevel = rt.kError\n",
    "rt.RooMsgService.instance().setGlobalKillBelow(rt.RooFit.ERROR)"
   ]
  },
  {
   "cell_type": "code",
   "execution_count": 4,
   "metadata": {},
   "outputs": [],
   "source": [
    "import operator\n",
    "ops = {'>': operator.gt, '<': operator.lt, '=': operator.eq}"
   ]
  },
  {
   "cell_type": "code",
   "execution_count": 5,
   "metadata": {
    "ExecuteTime": {
     "end_time": "2019-11-05T19:36:58.080638Z",
     "start_time": "2019-11-05T19:36:58.064353Z"
    }
   },
   "outputs": [
    {
     "name": "stdout",
     "output_type": "stream",
     "text": [
      "1.86483\n",
      "2.01026\n",
      "5.27963\n",
      "mD* - mD0 = 0.14543\n"
     ]
    }
   ],
   "source": [
    "m_D0 = 1.86483 #1e-3*Particle.from_string('D0').mass\n",
    "print m_D0\n",
    "m_Dst = 2.01026 #1e-3*Particle.from_string('D*+').mass\n",
    "print m_Dst\n",
    "m_B0 = 5.27963 #1e-3*Particle.from_string('B0').mass\n",
    "print m_B0\n",
    "m_pi = 0.13957018 #1e-3*Particle.from_string('pi+').mass\n",
    "print 'mD* - mD0 =', m_Dst - m_D0"
   ]
  },
  {
   "cell_type": "code",
   "execution_count": 6,
   "metadata": {
    "ExecuteTime": {
     "end_time": "2019-11-05T19:36:58.106332Z",
     "start_time": "2019-11-05T19:36:58.084732Z"
    }
   },
   "outputs": [],
   "source": [
    "cl = rt.TLine()\n",
    "cl.SetLineColor(16)\n",
    "cl.SetLineStyle(9)\n",
    "cl.SetLineWidth(2)"
   ]
  },
  {
   "cell_type": "code",
   "execution_count": 7,
   "metadata": {},
   "outputs": [],
   "source": [
    "colors = {'data':rt.kBlack,\n",
    "          'mu': rt.kAzure+1, \n",
    "          'tau': rt.kRed-4, \n",
    "          'Hc':rt.kGreen+1, \n",
    "          'Dstst': rt.kMagenta-7\n",
    "         }"
   ]
  },
  {
   "cell_type": "markdown",
   "metadata": {},
   "source": [
    "# Cuts declaration"
   ]
  },
  {
   "cell_type": "code",
   "execution_count": 8,
   "metadata": {
    "ExecuteTime": {
     "end_time": "2019-11-05T20:14:09.714739Z",
     "start_time": "2019-11-05T20:14:09.699731Z"
    }
   },
   "outputs": [],
   "source": [
    "# Needed to prevent different mixture in trigger path (in MC all of BPH are always ON but not in data)\n",
    "trigger_cuts = [\n",
    " 'trgMu_pt > 5',\n",
    " 'trgMu_sigdxy > 1'\n",
    "]\n",
    "\n",
    "offline_cuts = [\n",
    " 'mass_mumu < 3.174',\n",
    " 'mass_mumu > 3.013',\n",
    " 'mass_piK > 0.82',\n",
    " 'mass_piK < 0.96',\n",
    " 'mum_pt > 3.5',\n",
    " 'mup_pt > 3.5',\n",
    " 'Jpsi_pt > 7',\n",
    " 'pval_mumu > 0.1',\n",
    " 'mum_eta > -2.2',\n",
    " 'mup_eta > -2.2',\n",
    " 'mum_eta < 2.2',\n",
    " 'mup_eta < 2.2',\n",
    " 'cosT_Jpsi_PV > 0.95',\n",
    " 'mum_dxy < 3',\n",
    " 'mup_dxy < 3',\n",
    " 'pval_piK > 0.1',\n",
    " 'fabs(mass_piK - 0.892) < fabs(mass_piK_CPconj - 0.892)',\n",
    " 'mass_KK > 1.035',\n",
    " 'K_sigdxy_PV > 2',\n",
    " 'pi_sigdxy_PV > 2',\n",
    " 'sigdxy_vtxKst_PV > 5',\n",
    " 'K_pt > 0.8',\n",
    " 'pval_mumupiK > 0.1',\n",
    " 'pi_pt > 0.8',\n",
    " 'mass_mumupiK > 5.01',\n",
    " 'mass_mumupiK < 5.56'\n",
    "]\n",
    "\n",
    "analysis_cuts = trigger_cuts + offline_cuts\n",
    "analysis_cuts_str = ' && '.join(analysis_cuts)"
   ]
  },
  {
   "cell_type": "markdown",
   "metadata": {},
   "source": [
    "# Load data"
   ]
  },
  {
   "cell_type": "code",
   "execution_count": 9,
   "metadata": {
    "ExecuteTime": {
     "end_time": "2019-11-05T19:36:58.145357Z",
     "start_time": "2019-11-05T19:36:58.128286Z"
    }
   },
   "outputs": [
    {
     "name": "stdout",
     "output_type": "stream",
     "text": [
      "dataD\n",
      "../data/cmsRD/ParkingBPH3/Run2018D-05May2019promptD-v1_RDntuplizer_B2JpsiKst_191128_CAND.root\n",
      "../data/cmsRD/ParkingBPH2/Run2018D-05May2019promptD-v1_RDntuplizer_B2JpsiKst_191128_CAND.root\n",
      "../data/cmsRD/ParkingBPH5/Run2018D-05May2019promptD-v1_RDntuplizer_B2JpsiKst_191128_CAND.root\n",
      "../data/cmsRD/ParkingBPH4/Run2018D-05May2019promptD-v1_RDntuplizer_B2JpsiKst_191128_CAND.root\n",
      "../data/cmsRD/ParkingBPH1/Run2018D-05May2019promptD-v1_RDntuplizer_B2JpsiKst_191128_CAND.root\n",
      "\n",
      "MC\n",
      "../data/cmsMC_private/BPH_Tag-Probe_B0_JpsiKst-mumuKpi-kp_13TeV-pythia8_Hardbbbar_PTFilter5_0p0-evtgen_SVV_PU0_10-2-3/ntuples_B2JpsiKst/out_CAND_179.root\n",
      "../data/cmsMC_private/BPH_Tag-Probe_B0_JpsiKst-mumuKpi-kp_13TeV-pythia8_Hardbbbar_PTFilter5_0p0-evtgen_SVV_PU0_10-2-3/ntuples_B2JpsiKst/out_CAND_32.root\n",
      "../data/cmsMC_private/BPH_Tag-Probe_B0_JpsiKst-mumuKpi-kp_13TeV-pythia8_Hardbbbar_PTFilter5_0p0-evtgen_SVV_PU0_10-2-3/ntuples_B2JpsiKst/out_CAND_148.root\n",
      "../data/cmsMC_private/BPH_Tag-Probe_B0_JpsiKst-mumuKpi-kp_13TeV-pythia8_Hardbbbar_PTFilter5_0p0-evtgen_SVV_PU0_10-2-3/ntuples_B2JpsiKst/out_CAND_22.root\n",
      "../data/cmsMC_private/BPH_Tag-Probe_B0_JpsiKst-mumuKpi-kp_13TeV-pythia8_Hardbbbar_PTFilter5_0p0-evtgen_SVV_PU0_10-2-3/ntuples_B2JpsiKst/out_CAND_58.root\n",
      "../data/cmsMC_private/BPH_Tag-Probe_B0_JpsiKst-mumuKpi-kp_13TeV-pythia8_Hardbbbar_PTFilter5_0p0-evtgen_SVV_PU0_10-2-3/ntuples_B2JpsiKst/out_CAND_172.root\n",
      "...\n",
      "\n",
      "dataC\n",
      "../data/cmsRD/ParkingBPH3/Run2018C-05May2019-v1_RDntuplizer_B2JpsiKst_191128_CAND.root\n",
      "../data/cmsRD/ParkingBPH2/Run2018C-05May2019-v1_RDntuplizer_B2JpsiKst_191128_CAND.root\n",
      "../data/cmsRD/ParkingBPH5/Run2018C-05May2019-v1_RDntuplizer_B2JpsiKst_191128_CAND.root\n",
      "../data/cmsRD/ParkingBPH4/Run2018C-05May2019-v1_RDntuplizer_B2JpsiKst_191128_CAND.root\n",
      "../data/cmsRD/ParkingBPH1/Run2018C-05May2019-v1_RDntuplizer_B2JpsiKst_191128_CAND.root\n",
      "\n"
     ]
    }
   ],
   "source": [
    "dataDir = '../data/cmsRD'\n",
    "datasets_loc = {}\n",
    "datasets_loc['dataC'] = glob(dataDir + '/ParkingBPH*/*2018C*B2JpsiKst_191128*')\n",
    "datasets_loc['dataD'] = glob(dataDir + '/ParkingBPH*/*2018D*B2JpsiKst_191128*')\n",
    "datasets_loc['MC'] = glob('../data/cmsMC_private/BPH_Tag-Probe_B0_JpsiKst-mumuKpi-kp_13TeV-pythia8_Hardbbbar_PTFilter5_0p0-evtgen_SVV_PU0_10-2-3/ntuples_B2JpsiKst/out_CAND_*.root')\n",
    "\n",
    "color_keys = colors.keys()\n",
    "for i, (d, l) in enumerate(datasets_loc.iteritems()): \n",
    "    print d\n",
    "    colors[d] = colors[color_keys[i]]\n",
    "    for f in l[:6]:\n",
    "        print f\n",
    "    if len(l)>5:\n",
    "        print '...'\n",
    "    print"
   ]
  },
  {
   "cell_type": "code",
   "execution_count": 10,
   "metadata": {
    "ExecuteTime": {
     "end_time": "2019-11-05T19:36:58.258447Z",
     "start_time": "2019-11-05T19:36:58.149421Z"
    }
   },
   "outputs": [
    {
     "name": "stdout",
     "output_type": "stream",
     "text": [
      "Lumi tot: 31.9 fb^-1\n",
      "Lumi analyzed: 78.3%\n"
     ]
    }
   ],
   "source": [
    "lumi_tot, lumi_dic = getLumiReport(datasets_loc['dataC']+datasets_loc['dataD'])\n",
    "CMS_lumi.integrated_lumi = lumi_tot"
   ]
  },
  {
   "cell_type": "markdown",
   "metadata": {},
   "source": [
    "### Create a skimmed tree"
   ]
  },
  {
   "cell_type": "code",
   "execution_count": 11,
   "metadata": {},
   "outputs": [
    {
     "name": "stdout",
     "output_type": "stream",
     "text": [
      "['Mu12_IP6', 'Mu7_IP4', 'Mu9_IP4', 'Mu9_IP5', 'Mu9_IP6', 'Mu8_IP3', 'Mu8_IP5', 'Mu8_IP6']\n"
     ]
    }
   ],
   "source": [
    "trgPath = ['Mu12_IP6', 'Mu7_IP4']\n",
    "trgPath += ['Mu9_IP'+str(i) for i in [4,5,6]]\n",
    "trgPath += ['Mu8_IP'+str(i) for i in [3,5,6]]\n",
    "print trgPath"
   ]
  },
  {
   "cell_type": "code",
   "execution_count": 12,
   "metadata": {},
   "outputs": [],
   "source": [
    "def skim_dset(inputs):\n",
    "    dset_loc, tree = inputs\n",
    "    output = []\n",
    "    N_accepted_cand = []\n",
    "    nMax = 1e11\n",
    "    if dset_loc and tree is None:\n",
    "        idx = dset_loc.find('BPH')\n",
    "        part = dset_loc[idx+3]\n",
    "        idx = dset_loc.find('Run2018')\n",
    "        era = dset_loc[idx+7]\n",
    "        f = rt.TFile(dset_loc, 'READ')\n",
    "        aux_tree = f.Get('outA/Tevts')\n",
    "    elif tree and dset_loc is None:\n",
    "        aux_tree = tree\n",
    "        aux = str(tree.GetTitle())\n",
    "        era = aux.split('_')[0]\n",
    "        part = aux.split('_')[1]\n",
    "    else:\n",
    "        return\n",
    "    \n",
    "    maxEntry=float(min(nMax, aux_tree.GetEntries()))\n",
    "    for i_ev, ev in enumerate(aux_tree): \n",
    "        if i_ev >= nMax:\n",
    "            break\n",
    "        if i_ev % int(maxEntry*0.1) == 0:\n",
    "            print era+part, ': {:.0f} %'.format(100*i_ev/maxEntry)\n",
    "        N_acc = 0\n",
    "\n",
    "        accept = True\n",
    "        for c_str in trigger_cuts:\n",
    "            aux = c_str.split(' ')\n",
    "            if len(aux) != 3: raise\n",
    "            x = getattr(ev, aux[0])\n",
    "            if not ops[aux[1]](x, float(aux[2])):\n",
    "                accept = False\n",
    "        if not accept:\n",
    "            continue\n",
    "\n",
    "        for j in range(ev.pval_mumupiK.size()):\n",
    "            accept = abs(ev.mass_piK[j] - 0.892) < abs(ev.mass_piK_CPconj[j] - 0.892)\n",
    "            for c_str in offline_cuts:\n",
    "                if c_str == 'fabs(mass_piK - 0.892) < fabs(mass_piK_CPconj - 0.892)': continue\n",
    "                if not accept:\n",
    "                    break\n",
    "                aux = c_str.split(' ')\n",
    "                if len(aux) != 3:\n",
    "                    raise\n",
    "                x = getattr(ev, aux[0])[j]\n",
    "                accept = ops[aux[1]](x, float(aux[2]))\n",
    "            if accept:\n",
    "                N_acc += 1\n",
    "                \n",
    "                trg = [0]*len(trgPath)\n",
    "                for it, t in enumerate(trgPath):\n",
    "                    if hasattr(ev, 'trgMu_HLT_'+t):\n",
    "                        if getattr(ev, 'trgMu_HLT_'+t):\n",
    "                            trg[it] = 1\n",
    "\n",
    "                evtinfo = (ev.mass_mumupiK[j], ev.B_mumupiK_pt[j], ev.B_mumupiK_eta[j])\n",
    "                evtinfo += (ev.Jpsi_pt[j], ev.trgMu_pt, ev.trgMu_sigdxy)\n",
    "                evtinfo += (ev.mum_pt[j], ev.mum_eta[j], ev.mum_isTrg[j])\n",
    "                evtinfo += (ev.mup_pt[j], ev.mup_eta[j], ev.mup_isTrg[j])\n",
    "                evtinfo += (ev.Kst_pt[j], ev.Kst_eta[j])\n",
    "                evtinfo += tuple(trg)\n",
    "                output.append(evtinfo)\n",
    "        if N_acc > 0:\n",
    "            N_accepted_cand.append(N_acc)\n",
    "    print era+part, 'done'\n",
    "    return [output, N_accepted_cand]"
   ]
  },
  {
   "cell_type": "code",
   "execution_count": 13,
   "metadata": {
    "scrolled": true
   },
   "outputs": [
    {
     "name": "stdout",
     "output_type": "stream",
     "text": [
      "D4 : 0 %\n",
      "D3 : 0 %\n",
      "D1 : 0 %\n",
      "D2 : 0 %\n",
      "D5 : 0 %\n",
      "D3 : 10 %\n",
      "D5 : 10 %\n",
      "D1 : 10 %\n",
      "D2 : 10 %\n",
      "D4 : 10 %\n",
      "D3 : 20 %\n",
      "D5 : 20 %\n",
      "D1 : 20 %\n",
      "D2 : 20 %\n",
      "D4 : 20 %\n",
      "D3 : 30 %\n",
      "D5 : 30 %\n",
      "D1 : 30 %\n",
      "D2 : 30 %\n",
      "D4 : 30 %\n",
      "D3 : 40 %\n",
      "D5 : 40 %\n",
      "D2 : 40 %\n",
      "D1 : 40 %\n",
      "D4 : 40 %\n",
      "D3 : 50 %\n",
      "D5 : 50 %\n",
      "D2 : 50 %\n",
      "D4 : 50 %\n",
      "D1 : 50 %\n",
      "D3 : 60 %\n",
      "D5 : 60 %\n",
      "D2 : 60 %\n",
      "D1 : 60 %\n",
      "D4 : 60 %\n",
      "D3 : 70 %\n",
      "D5 : 70 %\n",
      "D2 : 70 %\n",
      "D1 : 70 %\n",
      "D4 : 70 %\n",
      "D3 : 80 %\n",
      "D5 : 80 %\n",
      "D2 : 80 %\n",
      "D1 : 80 %\n",
      "D4 : 80 %\n",
      "D3 : 90 %\n",
      "D5 : 90 %\n",
      "D2 : 90 %\n",
      "D1 : 90 %\n",
      "D4 : 90 %\n",
      "D3 : 100 %\n",
      "D3 done\n",
      "D5 : 100 %\n",
      "D5 done\n",
      "D2 : 100 %\n",
      "D2 done\n",
      "D1 : 100 %\n",
      "D1 done\n",
      "D4 : 100 %\n",
      "D4 done\n",
      "100273\n",
      "{1: 99836, 2: 217, 3: 1}\n",
      "MC3 : 0 %\n",
      "MC10 : 0 %\n",
      "MC8 : 0 %\n",
      "MC6 : 0 %\n",
      "MC4 : 0 %\n",
      "MC2 : 0 %\n",
      "MC7 : 0 %\n",
      "MC9 : 0 %\n",
      "MC5 : 0 %\n",
      "MC1 : 0 %\n",
      "MC3 : 10 %\n",
      "MC10 : 10 %\n",
      "MC5 : 10 %\n",
      "MC6 : 10 %\n",
      "MC9 : 10 %\n",
      "MC7 : 10 %\n",
      "MC4 : 10 %\n",
      "MC8 : 10 %\n",
      "MC2 : 10 %\n",
      "MC1 : 10 %\n",
      "MC3 : 20 %\n",
      "MC10 : 20 %\n",
      "MC5 : 20 %\n",
      "MC9 : 20 %\n",
      "MC4 : 20 %\n",
      "MC7 : 20 %\n",
      "MC6 : 20 %\n",
      "MC8 : 20 %\n",
      "MC2 : 20 %\n",
      "MC1 : 20 %\n",
      "MC3 : 30 %\n",
      "MC10 : 30 %\n",
      "MC5 : 30 %\n",
      "MC9 : 30 %\n",
      "MC4 : 30 %\n",
      "MC6 : 30 %\n",
      "MC7 : 30 %\n",
      "MC8 : 30 %\n",
      "MC1 : 30 %\n",
      "MC2 : 30 %\n",
      "MC3 : 40 %\n",
      "MC10 : 40 %\n",
      "MC5 : 40 %\n",
      "MC4 : 40 %\n",
      "MC9 : 40 %\n",
      "MC6 : 40 %\n",
      "MC7 : 40 %\n",
      "MC8 : 40 %\n",
      "MC2 : 40 %\n",
      "MC1 : 40 %\n",
      "MC3 : 50 %\n",
      "MC10 : 50 %\n",
      "MC5 : 50 %\n",
      "MC4 : 50 %\n",
      "MC9 : 50 %\n",
      "MC6 : 50 %\n",
      "MC7 : 50 %\n",
      "MC8 : 50 %\n",
      "MC3 : 60 %\n",
      "MC10 : 60 %\n",
      "MC2 : 50 %\n",
      "MC1 : 50 %\n",
      "MC5 : 60 %\n",
      "MC9 : 60 %\n",
      "MC4 : 60 %\n",
      "MC6 : 60 %\n",
      "MC7 : 60 %\n",
      "MC8 : 60 %\n",
      "MC3 : 70 %\n",
      "MC10 : 70 %\n",
      "MC5 : 70 %\n",
      "MC2 : 60 %\n",
      "MC1 : 60 %\n",
      "MC9 : 70 %\n",
      "MC4 : 70 %\n",
      "MC6 : 70 %\n",
      "MC7 : 70 %\n",
      "MC3 : 80 %\n",
      "MC10 : 80 %\n",
      "MC8 : 70 %\n",
      "MC5 : 80 %\n",
      "MC2 : 70 %\n",
      "MC1 : 70 %\n",
      "MC9 : 80 %\n",
      "MC4 : 80 %\n",
      "MC6 : 80 %\n",
      "MC7 : 80 %\n",
      "MC3 : 90 %\n",
      "MC10 : 90 %\n",
      "MC5 : 90 %\n",
      "MC8 : 80 %\n",
      "MC9 : 90 %\n",
      "MC4 : 90 %\n",
      "MC2 : 80 %\n",
      "MC1 : 80 %\n",
      "MC6 : 90 %\n",
      "MC7 : 90 %\n",
      "MC3 done\n",
      "MC10 : 100 %\n",
      "MC10 done\n",
      "MC5 : 100 %\n",
      "MC5 done\n",
      "MC8 : 90 %\n",
      "MC9 done\n",
      "MC4 : 100 %\n",
      "MC4 done\n",
      "MC2 : 90 %\n",
      "MC1 : 90 %\n",
      "MC6 : 100 %\n",
      "MC6 done\n",
      "MC7 : 100 %\n",
      "MC7 done\n",
      "MC8 : 100 %\n",
      "MC8 done\n",
      "MC2 : 100 %\n",
      "MC2 done\n",
      "MC1 : 100 %\n",
      "MC1 done\n",
      "166287\n",
      "{1: 164602, 2: 841, 3: 1}\n",
      "C4 : 0 %\n",
      "C5 : 0 %\n",
      "C1 : 0 %\n",
      "C2 : 0 %\n",
      "C3 : 0 %\n",
      "C5 : 10 %\n",
      "C3 : 10 %\n",
      "C1 : 10 %\n",
      "C4 : 10 %\n",
      "C2 : 10 %\n",
      "C1 : 20 %\n",
      "C5 : 20 %\n",
      "C3 : 20 %\n",
      "C4 : 20 %\n",
      "C2 : 20 %\n",
      "C1 : 30 %\n",
      "C3 : 30 %\n",
      "C4 : 30 %\n",
      "C5 : 30 %\n",
      "C2 : 30 %\n",
      "C1 : 40 %\n",
      "C4 : 40 %\n",
      "C3 : 40 %\n",
      "C5 : 40 %\n",
      "C2 : 40 %\n",
      "C1 : 50 %\n",
      "C4 : 50 %\n",
      "C3 : 50 %\n",
      "C5 : 50 %\n",
      "C2 : 50 %\n",
      "C1 : 60 %\n",
      "C4 : 60 %\n",
      "C3 : 60 %\n",
      "C5 : 60 %\n",
      "C2 : 60 %\n",
      "C1 : 70 %\n",
      "C4 : 70 %\n",
      "C3 : 70 %\n",
      "C2 : 70 %\n",
      "C5 : 70 %\n",
      "C1 : 80 %\n",
      "C4 : 80 %\n",
      "C3 : 80 %\n",
      "C5 : 80 %\n",
      "C2 : 80 %\n",
      "C1 : 90 %\n",
      "C4 : 90 %\n",
      "C5 : 90 %\n",
      "C2 : 90 %\n",
      "C3 : 90 %\n",
      "C1 : 100 %\n",
      "C1 done\n",
      "C4 : 100 %\n",
      "C4 done\n",
      "C2 : 100 %\n",
      "C2 done\n",
      "C5 : 100 %\n",
      "C5 done\n",
      "C3 : 100 %\n",
      "C3 done\n",
      "17658\n",
      "{1: 17598, 2: 30}\n"
     ]
    }
   ],
   "source": [
    "recreate = False\n",
    "for k, loc_list in datasets_loc.iteritems():\n",
    "    if recreate or not os.path.isfile('tmp/TriggerTurnOn_{}.root'.format(k)):\n",
    "        if 'data' in k:\n",
    "            inputs = [[l, None] for l in loc_list]\n",
    "        else:\n",
    "            inputs = []\n",
    "            counter = 0\n",
    "            for sublist in np.array_split(loc_list, 10):\n",
    "                counter += 1\n",
    "                t = rt.TChain('outA/Tevts', k + '_{}'.format(counter))\n",
    "                for fn in sublist:\n",
    "                    t.Add(fn)\n",
    "                inputs.append([None, t])\n",
    "                \n",
    "        p = Pool(len(inputs))\n",
    "        out = p.map(skim_dset, inputs)\n",
    "            \n",
    "        output = []\n",
    "        N_accepted_cand = []\n",
    "        for o, n in out:\n",
    "            output += o\n",
    "            N_accepted_cand += n\n",
    "\n",
    "        print len(output)\n",
    "        dic = {i:N_accepted_cand.count(i) for i in range(1, np.max(N_accepted_cand)+1)}\n",
    "        print dic\n",
    "\n",
    "        import root_numpy as rtnp\n",
    "        leafs_names = ['mass_mumupiK', 'B_pt', 'B_eta', \n",
    "                       'Jpsi_pt', \n",
    "                       'trgMu_pt', 'trgMu_sigdxy', \n",
    "                       'mum_pt', 'mum_eta', 'mum_isTrg', \n",
    "                       'mup_eta', 'mup_pt', 'mup_isTrg', \n",
    "                       'Kst_pt', 'Kst_eta'\n",
    "                      ]\n",
    "        leafs_names += trgPath\n",
    "\n",
    "        dtypes = []\n",
    "        for n in leafs_names:\n",
    "            dtypes.append((n, np.float32))\n",
    "\n",
    "        a = np.array(output, dtype=dtypes)\n",
    "        rtnp.array2root(a, 'tmp/TriggerTurnOn_{}.root'.format(k), treename='Tevts', mode='RECREATE')"
   ]
  },
  {
   "cell_type": "code",
   "execution_count": 14,
   "metadata": {},
   "outputs": [],
   "source": [
    "skimmed_tree = {}\n",
    "for k in datasets_loc.keys():\n",
    "    f = rt.TFile('tmp/TriggerTurnOn_{}.root'.format(k), 'READ')\n",
    "    skimmed_tree[k] = f.Get('Tevts')\n",
    "    donotdelete.append(f)"
   ]
  },
  {
   "cell_type": "markdown",
   "metadata": {},
   "source": [
    "# $p_{T}$ turn on"
   ]
  },
  {
   "cell_type": "code",
   "execution_count": 22,
   "metadata": {
    "ExecuteTime": {
     "end_time": "2019-11-05T20:35:31.925766Z",
     "start_time": "2019-11-05T20:35:30.766424Z"
    }
   },
   "outputs": [
    {
     "data": {
      "image/png": "[encoded data removed]",
      "text/plain": [
       "<IPython.core.display.Image object>"
      ]
     },
     "metadata": {},
     "output_type": "display_data"
    }
   ],
   "source": [
    "trg = trgPath[4]\n",
    "ptthr_nom = float(trg.split('_')[0][2:])\n",
    "# binning = array('d', [6.] + list(np.linspace(ptthr_nom*0.95, ptthr_nom*1.05, 20)) + list(np.linspace(ptthr_nom*1.05, 14, 30)) + [16] )\n",
    "binning = array('d', list(np.linspace(ptthr_nom*0.95, ptthr_nom*1.05, 20)))\n",
    "\n",
    "Teff = {}\n",
    "leg = rt.TLegend(0.17, 0.7, 0.27, 0.92, trg)\n",
    "leg.SetTextFont(42)\n",
    "leg.SetTextAlign(12)\n",
    "leg.SetLineWidth(0)\n",
    "leg.SetBorderSize(0)\n",
    "\n",
    "c = rt.TCanvas()\n",
    "for k, t in skimmed_tree.iteritems():\n",
    "    h_pass = create_TH1D(np.zeros(0), name='h_pass'+k+trg,\n",
    "                        title='',\n",
    "                        binning=binning\n",
    "                       )\n",
    "    t.Project('h_pass'+k+trg, 'trgMu_pt', trg)\n",
    "\n",
    "    h_all = create_TH1D(np.zeros(0), name='h_all'+k+trg, binning=h_pass.binning, axis_title=['Trigger muon p_{T} [GeV]', '#epsilon'])\n",
    "    t.Project('h_all'+k+trg, 'trgMu_pt', '')\n",
    "\n",
    "    teff = rt.TEfficiency(h_pass, h_all)\n",
    "    teff.SetLineColor(colors[k])\n",
    "    leg.AddEntry(teff, k, 'lep')\n",
    "    Teff[k] = teff\n",
    "\n",
    "hlist = Teff.values()\n",
    "c = drawOnCMSCanvas(CMS_lumi, hlist, 'same')\n",
    "hlist[0].GetPaintedGraph().GetYaxis().SetRangeUser(0,1)\n",
    "hlist[0].GetPaintedGraph().GetYaxis().SetTitle('#epsilon')\n",
    "leg.Draw()\n",
    "c.leg = leg\n",
    "c.Teff = Teff\n",
    "for i in [7,8,9,12]:\n",
    "    cl.DrawLine(i, 0, i, 1)\n",
    "c.Draw()\n",
    "c.SetTitle(trg)"
   ]
  },
  {
   "cell_type": "code",
   "execution_count": 24,
   "metadata": {},
   "outputs": [
    {
     "data": {
      "image/png": "[encoded data removed]",
      "text/plain": [
       "<IPython.core.display.Image object>"
      ]
     },
     "metadata": {},
     "output_type": "display_data"
    }
   ],
   "source": [
    "trg = trgPath[1]\n",
    "ptthr_nom = float(trg.split('_')[1][2:])\n",
    "binning = array('d', [0.1] + list(np.linspace(ptthr_nom*0.2, ptthr_nom*1.2, 20)) + list(np.linspace(ptthr_nom*1.2, 15, 30)) + [16] )\n",
    "\n",
    "Teff = {}\n",
    "leg = rt.TLegend(0.17, 0.7, 0.27, 0.92, trg)\n",
    "leg.SetTextFont(42)\n",
    "leg.SetTextAlign(12)\n",
    "leg.SetLineWidth(0)\n",
    "leg.SetBorderSize(0)\n",
    "\n",
    "c = rt.TCanvas()\n",
    "for k, t in skimmed_tree.iteritems():\n",
    "    h_pass = create_TH1D(np.zeros(0), name='h_pass'+k+trg,\n",
    "                        title='',\n",
    "                        axis_title=['Trigger muon IP', 'Events'],\n",
    "                        binning=binning\n",
    "                       )\n",
    "    t.Project('h_pass'+k+trg, 'trgMu_sigdxy', trg)\n",
    "\n",
    "    h_all = create_TH1D(np.zeros(0), name='h_all'+k+trg, binning=h_pass.binning, axis_title=['Trigger muon IP', '#epsilon'])\n",
    "    t.Project('h_all'+k+trg, 'trgMu_sigdxy', '')\n",
    "\n",
    "    teff = rt.TEfficiency(h_pass, h_all)\n",
    "    teff.SetLineColor(colors[k])\n",
    "    leg.AddEntry(teff, k, 'lep')\n",
    "    Teff[k] = teff\n",
    "\n",
    "hlist = Teff.values()\n",
    "c = drawOnCMSCanvas(CMS_lumi, hlist, 'same')\n",
    "hlist[0].GetPaintedGraph().GetYaxis().SetRangeUser(0,1)\n",
    "leg.Draw()\n",
    "c.leg = leg\n",
    "c.Teff = Teff\n",
    "for i in [4,5,6]:\n",
    "    cl.DrawLine(i, 0, i, 1)\n",
    "c.Draw()\n",
    "c.SetTitle(trg)"
   ]
  },
  {
   "cell_type": "code",
   "execution_count": 27,
   "metadata": {},
   "outputs": [
    {
     "data": {
      "image/png": "[encoded data removed]",
      "text/plain": [
       "<IPython.core.display.Image object>"
      ]
     },
     "metadata": {},
     "output_type": "display_data"
    }
   ],
   "source": [
    "h = create_TH1D(np.zeros(0), name='h',\n",
    "                        title='',\n",
    "                        axis_title=['Trigger muon IP', 'Events'],\n",
    "                        binning=binning\n",
    "                       )\n",
    "skimmed_tree['dataC'].Project('h', 'trgMu_sigdxy')\n",
    "c = drawOnCMSCanvas(CMS_lumi, [h], 'same')\n",
    "c.Draw()"
   ]
  },
  {
   "cell_type": "code",
   "execution_count": null,
   "metadata": {},
   "outputs": [],
   "source": []
  }
 ],
 "metadata": {
  "kernelspec": {
   "display_name": "Python 2",
   "language": "python",
   "name": "python2"
  },
  "language_info": {
   "codemirror_mode": {
    "name": "ipython",
    "version": 2
   },
   "file_extension": ".py",
   "mimetype": "text/x-python",
   "name": "python",
   "nbconvert_exporter": "python",
   "pygments_lexer": "ipython2",
   "version": "2.7.14+"
  }
 },
 "nbformat": 4,
 "nbformat_minor": 2
}
