{
 "cells": [
  {
   "cell_type": "markdown",
   "metadata": {},
   "source": [
    "PU comparison"
   ]
  },
  {
   "cell_type": "code",
   "execution_count": 1,
   "metadata": {
    "ExecuteTime": {
     "end_time": "2020-06-18T00:19:27.937041Z",
     "start_time": "2020-06-18T00:19:20.005541Z"
    }
   },
   "outputs": [
    {
     "name": "stdout",
     "output_type": "stream",
     "text": [
      "Welcome to JupyROOT 6.12/07\n"
     ]
    }
   ],
   "source": [
    "import numpy as np\n",
    "import scipy.stats as sps\n",
    "from glob import glob\n",
    "import matplotlib.pyplot as plt\n",
    "from scipy.special import factorial\n",
    "from scipy.optimize import minimize\n",
    "import uproot as ur\n",
    "import ROOT as rt\n",
    "import root_numpy as rtnp\n",
    "import ROOT.RooFit as rf\n",
    "from scipy.special import erf\n",
    "import sys, os, yaml\n",
    "sys.path.append('../lib')\n",
    "sys.path.append('../analysis')\n",
    "from histo_utilities import create_TH1D, create_TH2D, std_color_list, SetMaxToMaxHist, make_ratio_plot\n",
    "from cebefo_style import Set_2D_colz_graphics\n",
    "from progressBar import ProgressBar\n",
    "from array import array\n",
    "from categoriesDef import categories\n",
    "\n",
    "from analysis_utilities import drawOnCMSCanvas, getEff, DSetLoader\n",
    "from lumi_utilities import getLumiReport\n",
    "\n",
    "import CMS_lumi, tdrstyle\n",
    "tdrstyle.setTDRStyle()\n",
    "CMS_lumi.writeExtraText = 1\n",
    "CMS_lumi.extraText = \"     Internal\"\n",
    "\n",
    "donotdelete = []"
   ]
  },
  {
   "cell_type": "code",
   "execution_count": 2,
   "metadata": {
    "ExecuteTime": {
     "end_time": "2020-06-18T00:19:28.710572Z",
     "start_time": "2020-06-18T00:19:28.466018Z"
    }
   },
   "outputs": [],
   "source": [
    "# load FWLite C++ libraries\n",
    "rt.gSystem.Load(\"libFWCoreFWLite.so\");\n",
    "rt.gSystem.Load(\"libDataFormatsFWLite.so\");\n",
    "rt.FWLiteEnabler.enable()\n",
    "\n",
    "# load FWlite python libraries\n",
    "from DataFormats.FWLite import Events\n",
    "from DataFormats.FWLite import Handle"
   ]
  },
  {
   "cell_type": "code",
   "execution_count": 3,
   "metadata": {
    "ExecuteTime": {
     "end_time": "2020-06-18T00:19:29.281188Z",
     "start_time": "2020-06-18T00:19:29.232139Z"
    }
   },
   "outputs": [],
   "source": [
    "from prettytable import PrettyTable"
   ]
  },
  {
   "cell_type": "code",
   "execution_count": 4,
   "metadata": {
    "ExecuteTime": {
     "end_time": "2020-06-18T00:19:29.889318Z",
     "start_time": "2020-06-18T00:19:29.806446Z"
    }
   },
   "outputs": [],
   "source": [
    "rt.gErrorIgnoreLevel = rt.kError\n",
    "rt.RooMsgService.instance().setGlobalKillBelow(rt.RooFit.ERROR)"
   ]
  },
  {
   "cell_type": "code",
   "execution_count": 5,
   "metadata": {
    "ExecuteTime": {
     "end_time": "2020-06-18T00:19:30.440779Z",
     "start_time": "2020-06-18T00:19:30.422938Z"
    }
   },
   "outputs": [
    {
     "name": "stdout",
     "output_type": "stream",
     "text": [
      "1.86483\n",
      "2.01026\n",
      "5.27963\n",
      "mD* - mD0 = 0.14543\n"
     ]
    }
   ],
   "source": [
    "m_D0 = 1.86483 #1e-3*Particle.from_string('D0').mass\n",
    "print m_D0\n",
    "m_Dst = 2.01026 #1e-3*Particle.from_string('D*+').mass\n",
    "print m_Dst\n",
    "m_B0 = 5.27963 #1e-3*Particle.from_string('B0').mass\n",
    "print m_B0\n",
    "m_pi = 0.13957018 #1e-3*Particle.from_string('pi+').mass\n",
    "print 'mD* - mD0 =', m_Dst - m_D0"
   ]
  },
  {
   "cell_type": "code",
   "execution_count": 28,
   "metadata": {
    "ExecuteTime": {
     "end_time": "2020-06-18T01:18:13.142993Z",
     "start_time": "2020-06-18T01:18:13.132849Z"
    }
   },
   "outputs": [],
   "source": [
    "catText = rt.TLatex()\n",
    "catText.SetTextAlign(31)\n",
    "catText.SetTextSize(0.06)\n",
    "catText.SetTextFont(42)\n",
    "catText.SetTextSize(0.05)"
   ]
  },
  {
   "cell_type": "code",
   "execution_count": 6,
   "metadata": {
    "ExecuteTime": {
     "end_time": "2020-06-18T00:19:30.971295Z",
     "start_time": "2020-06-18T00:19:30.956809Z"
    }
   },
   "outputs": [],
   "source": [
    "colors = [rt.kBlack, rt.kAzure+1, rt.kRed-4, rt.kGreen+1, rt.kViolet-7]"
   ]
  },
  {
   "cell_type": "code",
   "execution_count": 7,
   "metadata": {
    "ExecuteTime": {
     "end_time": "2020-06-18T00:19:31.490040Z",
     "start_time": "2020-06-18T00:19:31.471673Z"
    }
   },
   "outputs": [],
   "source": [
    "cl = rt.TLine()\n",
    "cl.SetLineColor(6)\n",
    "cl.SetLineStyle(9)\n",
    "cl.SetLineWidth(2)"
   ]
  },
  {
   "cell_type": "code",
   "execution_count": 8,
   "metadata": {
    "ExecuteTime": {
     "end_time": "2020-06-18T00:19:32.009584Z",
     "start_time": "2020-06-18T00:19:31.995347Z"
    }
   },
   "outputs": [],
   "source": [
    "def extractEff(fn):\n",
    "    with open(fn) as f:\n",
    "        for l in f.readlines():\n",
    "            if not l.startswith('Eff'): continue\n",
    "            return [float(l.split(' ')[1]), float(l.split(' ')[3])]\n",
    "    return [None, None]"
   ]
  },
  {
   "cell_type": "code",
   "execution_count": 9,
   "metadata": {
    "ExecuteTime": {
     "end_time": "2020-06-18T00:19:32.488651Z",
     "start_time": "2020-06-18T00:19:32.474377Z"
    }
   },
   "outputs": [],
   "source": [
    "def extractNacc(fn):\n",
    "    with open(fn) as f:\n",
    "        for l in f.readlines():\n",
    "            if not l.startswith('N_accepted'): continue\n",
    "            return int(l.split(' ')[1])\n",
    "    return None"
   ]
  },
  {
   "cell_type": "code",
   "execution_count": 10,
   "metadata": {
    "ExecuteTime": {
     "end_time": "2020-06-18T00:19:33.031411Z",
     "start_time": "2020-06-18T00:19:33.017248Z"
    }
   },
   "outputs": [],
   "source": [
    "def getWeightsPU(hGen, hTarget):\n",
    "    weights = np.ones(hGen.GetNbinsX())\n",
    "    s = 0\n",
    "    for i in range(weights.shape[0]):\n",
    "        if hGen.GetBinContent(i+1) == 0:\n",
    "            continue\n",
    "        weights[i] = hTarget.GetBinContent(i+1)/hGen.GetBinContent(i+1)\n",
    "        s += hGen.GetBinContent(i+1) * weights[i]\n",
    "\n",
    "    return weights/s\n",
    "\n",
    "def getWeights(nVtx, w):\n",
    "    return w[nVtx.astype(np.int)]"
   ]
  },
  {
   "cell_type": "code",
   "execution_count": 11,
   "metadata": {
    "ExecuteTime": {
     "end_time": "2020-06-18T00:19:33.721489Z",
     "start_time": "2020-06-18T00:19:33.571550Z"
    }
   },
   "outputs": [
    {
     "name": "stdout",
     "output_type": "stream",
     "text": [
      "Lumi low (Mu7_IP4): 6.4 fb^-1\n",
      "Lumi mid (Mu9_IP6): 20.7 fb^-1\n",
      "Lumi high (Mu12_IP6): 26.4 fb^-1\n",
      "24.2% 78.4% 100.0% \n"
     ]
    }
   ],
   "source": [
    "RDloc = '../data/cmsRD/skimmed/B2DstMu_200515_{}_corr.root'\n",
    "lumiFiles = glob('../data/cmsRD/lumiReport/ParkingBPH*_Run2018*_B2DstMu_200515_brilcalcPerTrigger.yaml')\n",
    "\n",
    "# Get the lumi\n",
    "lumis = []\n",
    "a_lumiInt = np.zeros(3)\n",
    "for ic, cat in enumerate(['low', 'mid', 'high']):\n",
    "    trg = categories[cat].trg\n",
    "    k = categories[cat].name\n",
    "    lumiInt = 0\n",
    "    for fn in lumiFiles:\n",
    "        d = yaml.load(open(fn, 'r'))\n",
    "        for n, v in d.iteritems():\n",
    "            if trg in n:\n",
    "                lumiInt += v\n",
    "    a_lumiInt[ic] = lumiInt\n",
    "    print 'Lumi {} ({}): {:.1f} fb^-1'.format(cat, trg, lumiInt)\n",
    "    lumis.append('{:.1f} fb^{{-1}} ({})'.format(lumiInt, k))\n",
    "CMS_lumi.integrated_lumi_string = ' + '.join(lumis)\n",
    "print (3*'{:.1f}% ').format(*(100*a_lumiInt/a_lumiInt[2]))"
   ]
  },
  {
   "cell_type": "markdown",
   "metadata": {},
   "source": [
    "# Real data"
   ]
  },
  {
   "cell_type": "code",
   "execution_count": 12,
   "metadata": {
    "ExecuteTime": {
     "end_time": "2020-06-18T00:19:34.259440Z",
     "start_time": "2020-06-18T00:19:34.244494Z"
    }
   },
   "outputs": [
    {
     "data": {
      "text/plain": [
       "'Mu7_IP4'"
      ]
     },
     "execution_count": 12,
     "metadata": {},
     "output_type": "execute_result"
    }
   ],
   "source": [
    "categories['low'].trg"
   ]
  },
  {
   "cell_type": "code",
   "execution_count": 13,
   "metadata": {
    "ExecuteTime": {
     "end_time": "2020-06-18T00:19:35.052503Z",
     "start_time": "2020-06-18T00:19:34.801489Z"
    }
   },
   "outputs": [],
   "source": [
    "loc = '../data/cmsRD/ParkingBPH{}/Run2018D-05May2019promptD-v1_RDntuplizer_PrescaleVertices_200515_CAND.root'\n",
    "fAux = []\n",
    "\n",
    "hNvtxMiniRD = {}\n",
    "hNvtxPassRD = {}\n",
    "\n",
    "for i in range(1, 6):\n",
    "    fAux.append(rt.TFile.Open(loc.format(i), 'READ'))\n",
    "    if len(hNvtxMiniRD.keys()) == 0:\n",
    "        for cat in ['low', 'mid', 'high']:\n",
    "            hNvtxMiniRD[cat] = fAux[-1].Get('nVtx/hNvtx'+categories[cat].trg).Clone()\n",
    "            hNvtxPassRD[cat] = fAux[-1].Get('nVtx/hNvtxPassed'+categories[cat].trg).Clone()\n",
    "    else:\n",
    "        for cat in ['low', 'mid', 'high']:\n",
    "            hNvtxMiniRD[cat].Add(fAux[-1].Get('nVtx/hNvtx'+categories[cat].trg))\n",
    "            hNvtxPassRD[cat].Add(fAux[-1].Get('nVtx/hNvtxPassed'+categories[cat].trg))\n",
    "\n",
    "hNvtxPassNormRD = {}\n",
    "for ic, cat in enumerate(['low', 'mid', 'high']):\n",
    "    hNvtxPassNormRD[cat] = hNvtxPassRD[cat].Clone('hPassNormRD'+cat)\n",
    "    hNvtxPassNormRD[cat].Scale(1./hNvtxPassNormRD[cat].Integral())\n",
    "    hNvtxPassNormRD[cat].SetLineWidth(2)\n",
    "    hNvtxPassNormRD[cat].SetLineColor(colors[ic])"
   ]
  },
  {
   "cell_type": "code",
   "execution_count": 14,
   "metadata": {
    "ExecuteTime": {
     "end_time": "2020-06-18T00:19:36.003669Z",
     "start_time": "2020-06-18T00:19:35.629816Z"
    }
   },
   "outputs": [
    {
     "data": {
      "image/png": "[encoded data removed]",
      "text/plain": [
       "<IPython.core.display.Image object>"
      ]
     },
     "metadata": {},
     "output_type": "display_data"
    }
   ],
   "source": [
    "leg = rt.TLegend(0.6, 0.6, 0.97, 0.9)\n",
    "leg.SetBorderSize(0)\n",
    "leg.SetTextFont(42)\n",
    "\n",
    "h_list = []\n",
    "\n",
    "for ic, cat in enumerate(['low', 'mid', 'high']):\n",
    "    hNvtxMiniRD[cat].SetLineColor(colors[ic+1])\n",
    "    hNvtxMiniRD[cat].SetLineStyle(2)\n",
    "    hNvtxMiniRD[cat].SetLineWidth(2)\n",
    "    hNvtxPassRD[cat].SetLineColor(colors[ic+1])\n",
    "    hNvtxPassRD[cat].SetLineWidth(2)\n",
    "    leg.AddEntry(hNvtxPassRD[cat], 'RD {} ({})'.format(categories[cat].trg ,cat), 'l')\n",
    "    h_list += [hNvtxMiniRD[cat], hNvtxPassRD[cat]]\n",
    "\n",
    "h_list[0].SetAxisRange(-0.5, 59.5, 'X')\n",
    "h_list[0].SetXTitle('Number of reconstructed primary vertexes')\n",
    "h_list[0].SetYTitle('Number of events')\n",
    "h_list[0].GetXaxis().SetTitleSize(0.06)\n",
    "h_list[0].GetXaxis().SetLabelSize(0.06)\n",
    "h_list[0].GetYaxis().SetTitleOffset(1.16)\n",
    "h_list[0].GetXaxis().SetTitleOffset(1.)\n",
    "h_list[0].GetYaxis().SetTitleSize(0.06)\n",
    "h_list[0].GetYaxis().SetLabelSize(0.06)\n",
    "\n",
    "m = SetMaxToMaxHist(h_list)\n",
    "CMS_lumi.extraText = \"Internal\"\n",
    "drawOnCMSCanvas(CMS_lumi, h_list, 'same', mT=0.07, iPosCMS=10)\n",
    "leg.Draw()"
   ]
  },
  {
   "cell_type": "markdown",
   "metadata": {},
   "source": [
    "# Real data and MC"
   ]
  },
  {
   "cell_type": "code",
   "execution_count": 39,
   "metadata": {
    "ExecuteTime": {
     "end_time": "2020-06-18T01:28:11.580458Z",
     "start_time": "2020-06-18T01:28:11.565408Z"
    }
   },
   "outputs": [],
   "source": [
    "cat = 'high'"
   ]
  },
  {
   "cell_type": "code",
   "execution_count": 40,
   "metadata": {
    "ExecuteTime": {
     "end_time": "2020-06-18T01:28:21.118992Z",
     "start_time": "2020-06-18T01:28:13.102996Z"
    }
   },
   "outputs": [],
   "source": [
    "fMCloc = DSetLoader('B0_MuNuDmst_PUc0').skimmed_dir + '/{}_corr.root'.format(cat.capitalize())\n",
    "dsMC = rtnp.root2array(fMCloc)\n",
    "fMC = rt.TFile.Open(fMCloc, 'READ')\n",
    "hPileupGen = fMC.Get('hAllNvtx')\n",
    "hPileupGen.Scale(1./hPileupGen.Integral())"
   ]
  },
  {
   "cell_type": "code",
   "execution_count": 41,
   "metadata": {
    "ExecuteTime": {
     "end_time": "2020-06-18T01:28:22.647426Z",
     "start_time": "2020-06-18T01:28:22.630795Z"
    }
   },
   "outputs": [],
   "source": [
    "hPileupTarget = hNvtxPassRD[cat].Clone('hRDTarget')\n",
    "hPileupTarget.Scale(1./hPileupTarget.Integral())\n",
    "\n",
    "weights = np.ones(hPileupGen.GetNbinsX())\n",
    "s = 0\n",
    "for i in range(weights.shape[0]):\n",
    "    if hPileupGen.GetBinContent(i+1) == 0:\n",
    "        continue\n",
    "    weights[i] = hPileupTarget.GetBinContent(i+1)/hPileupGen.GetBinContent(i+1)\n",
    "    s += hPileupGen.GetBinContent(i+1) * weights[i]\n",
    "\n",
    "weightsPileupMC = weights/s\n",
    "\n",
    "def getPileupWeights(ds, selection=None):\n",
    "    x = ds['N_vtx']\n",
    "    if not selection is None:\n",
    "        x = x[selection]\n",
    "    return weightsPileupMC[x.astype(np.int)]"
   ]
  },
  {
   "cell_type": "code",
   "execution_count": 42,
   "metadata": {
    "ExecuteTime": {
     "end_time": "2020-06-18T01:28:29.166373Z",
     "start_time": "2020-06-18T01:28:24.135277Z"
    }
   },
   "outputs": [],
   "source": [
    "fRDloc = '../data/cmsRD/skimmed/B2DstMu_200515_{}_corr.root'.format(cat.capitalize())\n",
    "dsRD = rtnp.root2array(fRDloc)"
   ]
  },
  {
   "cell_type": "code",
   "execution_count": 43,
   "metadata": {
    "ExecuteTime": {
     "end_time": "2020-06-18T01:28:30.927881Z",
     "start_time": "2020-06-18T01:28:30.679606Z"
    }
   },
   "outputs": [
    {
     "data": {
      "image/png": "[encoded data removed]",
      "text/plain": [
       "<IPython.core.display.Image object>"
      ]
     },
     "metadata": {},
     "output_type": "display_data"
    }
   ],
   "source": [
    "leg = rt.TLegend(0.6, 0.7, 0.97, 0.9)\n",
    "leg.SetBorderSize(0)\n",
    "leg.SetTextFont(42)\n",
    "\n",
    "h1 = create_TH1D(dsMC['N_vtx'], 'hMC_sel' , binning=[60, -0.5, 59.5], \n",
    "                 axis_title=['Number of vertexes', 'Normalized entries'],\n",
    "                 scale_histo='norm')\n",
    "h1.SetLineColor(rt.kOrange-3)\n",
    "# h1.SetLineColor(rt.kOrange+1)\n",
    "leg.AddEntry(h1, 'MC PUc0, bare', 'l')\n",
    "\n",
    "h2 = create_TH1D(dsMC['N_vtx'], 'hMC_w' , binning=h1.binning, weights=getPileupWeights(dsMC), scale_histo='norm')\n",
    "h2.SetLineColor(rt.kRed-4)\n",
    "leg.AddEntry(h2, 'MC PUc0, weighted', 'l')\n",
    "\n",
    "\n",
    "hRD = create_TH1D(dsRD['N_vtx'], 'hMC_w' , binning=h1.binning, scale_histo='norm')\n",
    "leg.AddEntry(hRD, 'RD', 'l')\n",
    "\n",
    "\n",
    "# hPileupGen.SetLineColor(rt.kAzure+1)\n",
    "# leg.AddEntry(hPileupGen, 'MC PUc0, Trigger', 'l')\n",
    "\n",
    "\n",
    "# hPileupTarget.SetLineColor(rt.kViolet-7)\n",
    "# leg.AddEntry(hPileupTarget, 'RD Trigger', 'l')\n",
    "\n",
    "\n",
    "# h_list = [h1, hPileupGen, hPileupTarget, h2, hRD]\n",
    "h_list = [h1, h2, hRD]\n",
    "\n",
    "m = SetMaxToMaxHist(h_list)\n",
    "CMS_lumi.extraText = \"Internal\"\n",
    "CMS_lumi.integrated_lumi = a_lumiInt[{'low':0, 'mid':1, 'high':2}[cat]]\n",
    "CMS_lumi.integrated_lumi_string = ''\n",
    "drawOnCMSCanvas(CMS_lumi, h_list, 'same', mT=0.07, iPosCMS=10)\n",
    "catText.DrawLatexNDC(0.9, 0.6, 'Category: {}'.format(categories[cat].name))\n",
    "leg.Draw()"
   ]
  },
  {
   "cell_type": "code",
   "execution_count": null,
   "metadata": {
    "ExecuteTime": {
     "end_time": "2020-06-17T23:33:03.577311Z",
     "start_time": "2020-06-17T23:33:03.542155Z"
    }
   },
   "outputs": [],
   "source": [
    "raise"
   ]
  },
  {
   "cell_type": "markdown",
   "metadata": {},
   "source": [
    "# MC comparison"
   ]
  },
  {
   "cell_type": "code",
   "execution_count": null,
   "metadata": {
    "ExecuteTime": {
     "end_time": "2020-06-16T00:08:25.653301Z",
     "start_time": "2020-06-16T00:08:25.636362Z"
    }
   },
   "outputs": [],
   "source": [
    "CMS_lumi.integrated_lumi_string = ''"
   ]
  },
  {
   "cell_type": "code",
   "execution_count": null,
   "metadata": {
    "ExecuteTime": {
     "end_time": "2020-06-16T00:09:04.912547Z",
     "start_time": "2020-06-16T00:08:26.155908Z"
    }
   },
   "outputs": [],
   "source": [
    "PU_list = ['0', '20', '35', 'c0']\n",
    "MCsample = {}\n",
    "dSetSall = {}\n",
    "dSetS17 = {'Low':{}, 'Mid':{}, 'High':{}}\n",
    "for n in PU_list:\n",
    "    print n\n",
    "    MCsample[n] = DSetLoader('B0_MuNuDmst_PU'+n)\n",
    "    dSetSall[n] = rtnp.root2array(MCsample[n].skimmed_dir + '/None_skipall_corr.root')\n",
    "    for cat in dSetS17.keys():\n",
    "        dSetS17[cat][n] =  rtnp.root2array(MCsample[n].skimmed_dir + '/{}_skip17_corr.root'.format(cat))"
   ]
  },
  {
   "cell_type": "markdown",
   "metadata": {},
   "source": [
    "### Bare spectrum comparison"
   ]
  },
  {
   "cell_type": "code",
   "execution_count": null,
   "metadata": {},
   "outputs": [],
   "source": [
    "leg = rt.TLegend(0.7, 0.7, 0.95, 0.9)\n",
    "leg.SetBorderSize(0)\n",
    "leg.SetTextFont(42)\n",
    "hlist = [hNvtxPassNormRD['low']]\n",
    "hlist[0].SetLineColor(1)\n",
    "leg.AddEntry(hlist[0], 'Data Low', 'lep')\n",
    "\n",
    "for i, (n, ds) in enumerate(dSetSall.iteritems()):\n",
    "    h = create_TH1D(ds['N_vtx'], binning=[61, -0.5, 60.5], \n",
    "                    axis_title=['Number of PV reco', 'Events'], \n",
    "                    scale_histo='norm')\n",
    "    leg.AddEntry(h, n, 'lep')\n",
    "    h.SetLineColor(colors[i+1])\n",
    "    hlist.append(h)\n",
    "\n",
    "m = SetMaxToMaxHist(hlist)\n",
    "c = drawOnCMSCanvas(CMS_lumi, hlist, 'same')\n",
    "hlist[0].GetYaxis().SetRangeUser(1e-5, m)\n",
    "leg.Draw()\n",
    "c.SetLogy()"
   ]
  },
  {
   "cell_type": "code",
   "execution_count": null,
   "metadata": {},
   "outputs": [],
   "source": [
    "cat = 'Low'\n",
    "plt.figure(figsize=(18,7))\n",
    "for n in ['0', '20', '35', 'c0']:\n",
    "    ds = dSetS17[cat][n]\n",
    "#     ds = dSetSall[n]\n",
    "    fAux = rt.TFile.Open(MCsample[n].skimmed_dir + '/None_skipall_corr.root', 'READ')\n",
    "    hMINI = fAux.Get('hAllNvtx')\n",
    "    hMINI.Scale(1./hMINI.Integral())\n",
    "    \n",
    "    hS17 = create_TH1D(ds['N_vtx'], 'hS17', h2clone=hMINI, scale_histo='norm')\n",
    "\n",
    "    sel = ds['N_goodAddTks'] == 0\n",
    "    hSig = create_TH1D(ds['N_vtx'][sel], 'hSig', h2clone=hMINI, scale_histo='norm')\n",
    "\n",
    "    sel = ds['N_goodAddTks'] == 1\n",
    "    hSide = create_TH1D(ds['N_vtx'][sel], 'hSide', h2clone=hMINI, scale_histo='norm')\n",
    "\n",
    "    x = []\n",
    "    rSig = []\n",
    "    rSide = []\n",
    "    rS17 = []\n",
    "    for i in range(1, hMINI.GetNbinsX()+1):\n",
    "        x.append(hMINI.GetBinCenter(i))\n",
    "        y = hMINI.GetBinContent(i)\n",
    "        yerr = hMINI.GetBinError(i)\n",
    "\n",
    "        if y == 0:\n",
    "            rSig.append([0,0])\n",
    "            rSide.append([0,0])\n",
    "            rS17.append([0,0])\n",
    "        else:\n",
    "            ySig = hSig.GetBinContent(i)\n",
    "            ySigerr = hSig.GetBinError(i)\n",
    "            if ySig == 0:\n",
    "                rErr = 0\n",
    "            else:\n",
    "                rErr = ySig/y*np.hypot(yerr/y, ySigerr/ySig)\n",
    "            rSig.append([ySig/y, rErr])\n",
    "\n",
    "            ySide = hSide.GetBinContent(i)\n",
    "            ySideerr = hSide.GetBinError(i)\n",
    "            if ySide == 0:\n",
    "                rErr = 0\n",
    "            else:\n",
    "                rErr = ySide/y*np.hypot(yerr/y, ySideerr/ySide)\n",
    "            rSide.append([ySide/y, rErr])\n",
    "            \n",
    "            yS17 = hS17.GetBinContent(i)\n",
    "            yS17err = hS17.GetBinError(i)\n",
    "            if yS17 == 0:\n",
    "                rErr = 0\n",
    "            else:\n",
    "                rErr = yS17/y*np.hypot(yerr/y, yS17err/yS17)\n",
    "            rS17.append([yS17/y, rErr])\n",
    "\n",
    "    rSig = np.array(rSig)\n",
    "    rSide = np.array(rSide)\n",
    "    rS17 = np.array(rS17)\n",
    "    \n",
    "    plt.subplot(1,3,1)\n",
    "    plt.errorbar(x, rSig[:,0], yerr=rSig[:,1], fmt='.', label=n)\n",
    "    \n",
    "    plt.subplot(1,3,2)\n",
    "    plt.errorbar(x, rSide[:,0], yerr=rSide[:,1], fmt='.', label=n)\n",
    "    \n",
    "    plt.subplot(1,3,3)\n",
    "    plt.errorbar(x, rS17[:,0], yerr=rS17[:,1], fmt='.', label=n)\n",
    "\n",
    "plt.subplot(1,3,3)\n",
    "plt.ylim(0.3, 1.5)\n",
    "plt.title('Skip  additional tracks cut')\n",
    "plt.subplot(1,3,2)\n",
    "plt.ylim(0.3, 1.5)\n",
    "plt.title('N_goodAddTks == 1')\n",
    "plt.subplot(1,3,1)\n",
    "plt.ylim(0.3, 1.5)\n",
    "plt.title('N_goodAddTks == 0')\n",
    "plt.legend(loc='best');"
   ]
  },
  {
   "cell_type": "markdown",
   "metadata": {},
   "source": [
    "### Compare xsec and MC efficiency"
   ]
  },
  {
   "cell_type": "code",
   "execution_count": null,
   "metadata": {},
   "outputs": [],
   "source": [
    "fc0 = rt.TFile.Open(MCsample['c0'].skimmed_dir + '/None_skipall_corr.root', 'READ')\n",
    "hMINI_c0 = fc0.Get('hAllNvtx').Clone()\n",
    "hMINI_c0.Scale(1./hMINI_c0.Integral())\n",
    "hMINI_c0.SetLineColor(colors[0])\n",
    "\n",
    "f20 = rt.TFile.Open(MCsample['20'].skimmed_dir + '/None_skipall_corr.root', 'READ')\n",
    "hMINI_20 = f20.Get('hAllNvtx').Clone()\n",
    "hMINI_20.Scale(1./hMINI_20.Integral())\n",
    "hMINI_20.SetLineColor(colors[1])\n",
    "\n",
    "f35 = rt.TFile.Open(MCsample['35'].skimmed_dir + '/None_skipall_corr.root', 'READ')\n",
    "hMINI_35 = f35.Get('hAllNvtx').Clone()\n",
    "hMINI_35.Scale(1./hMINI_35.Integral())\n",
    "hMINI_35.SetLineColor(colors[2])"
   ]
  },
  {
   "cell_type": "code",
   "execution_count": null,
   "metadata": {},
   "outputs": [],
   "source": [
    "weights_20 = getWeightsPU(hMINI_c0, hMINI_20)\n",
    "weights_35 = getWeightsPU(hMINI_c0, hMINI_35)\n",
    "\n",
    "# hMINI_c0to20 = hMINI_c0.Clone('hMINI_c0to20')\n",
    "# hMINI_c0to20.Reset()\n",
    "# for i in range(weights_20.shape[0]):\n",
    "#     c = hMINI_c0.GetBinContent(i+1)*weights_20[i]\n",
    "#     hMINI_c0to20.SetBinContent(i+1, c)\n",
    "# hMINI_c0to20.Scale(1.1)\n",
    "# hMINI_c0to20.SetMarkerColor(colors[2])\n",
    "# hMINI_c0to20.SetMarkerStyle(20)\n",
    "# hMINI_c0to20.SetLineWidth(0)\n",
    "# hMINI_c0to20.SetLineColor(4)"
   ]
  },
  {
   "cell_type": "code",
   "execution_count": null,
   "metadata": {},
   "outputs": [],
   "source": [
    "# hlist = [hMINI_c0, hMINI_20, hMINI_c0to20]\n",
    "# SetMaxToMaxHist(hlist)\n",
    "# c = drawOnCMSCanvas(CMS_lumi, hlist, 'same')"
   ]
  },
  {
   "cell_type": "code",
   "execution_count": null,
   "metadata": {},
   "outputs": [],
   "source": [
    "cat = 'Low'\n",
    "leg = rt.TLegend(0.7, 0.7, 0.95, 0.9)\n",
    "leg.SetBorderSize(0)\n",
    "leg.SetTextFont(42)\n",
    "hlist = []\n",
    "for i, (n, ds) in enumerate(dSetS17[cat].iteritems()):\n",
    "    if n == '0': continue\n",
    "    sel = ds['N_goodAddTks'] == 0\n",
    "    h = create_TH1D(ds['N_vtx'][sel], binning=[61, -0.5, 60.5], \n",
    "                    axis_title=['Number of PV reco', 'Events'], \n",
    "                    scale_histo='norm')\n",
    "    leg.AddEntry(h, n + ' sig', 'lep')\n",
    "    h.SetLineColor(colors[i+1])\n",
    "    hlist.append(h)\n",
    "    \n",
    "ds = dSetS17[cat]['c0']\n",
    "sel = ds['N_goodAddTks'] == 0\n",
    "w = getWeights(ds['N_vtx'][sel], weights_20)\n",
    "h = create_TH1D(ds['N_vtx'][sel], binning=[61, -0.5, 60.5], weights=w, scale_histo='norm')\n",
    "leg.AddEntry(h, 'c0->20 sig', 'lep')\n",
    "h.SetLineColor(1)\n",
    "hlist.append(h)\n",
    "\n",
    "w = getWeights(ds['N_vtx'][sel], weights_35)\n",
    "h = create_TH1D(ds['N_vtx'][sel], binning=[61, -0.5, 60.5], weights=w, scale_histo='norm')\n",
    "leg.AddEntry(h, 'c0->35 sig', 'lep')\n",
    "h.SetLineColor(1)\n",
    "hlist.append(h)\n",
    "\n",
    "m = SetMaxToMaxHist(hlist)\n",
    "c = drawOnCMSCanvas(CMS_lumi, hlist, 'same')\n",
    "hlist[0].GetYaxis().SetRangeUser(1e-5, m)\n",
    "leg.Draw()"
   ]
  },
  {
   "cell_type": "code",
   "execution_count": null,
   "metadata": {},
   "outputs": [],
   "source": [
    "t = PrettyTable()\n",
    "for n, sMC in MCsample.iteritems():\n",
    "    e = sMC.effCand['effCAND'][0] * sMC.effMCgen['effGEN'][0]\n",
    "    de = e * np.hypot(sMC.effCand['effCAND'][1]/sMC.effCand['effCAND'][0], sMC.effMCgen['effGEN'][1]/sMC.effMCgen['effGEN'][0])\n",
    "    \n",
    "    t.add_row([n, \n",
    "               '{:1.2e} +/- {:1.2e}'.format(*sMC.effMCgen['xsec']),\n",
    "               '{:.3f} +/- {:.3f}'.format(100*sMC.effMCgen['effGEN'][0], 100*sMC.effMCgen['effGEN'][1]),\n",
    "               '{:.3f} +/- {:.3f}'.format(100*sMC.effCand['effCAND'][0], 100*sMC.effCand['effCAND'][1]),\n",
    "               '{:.3f} +/- {:.3f}'.format(1e4*e, 1e4*de)\n",
    "              ])\n",
    "\n",
    "\n",
    "w = getWeights(dSetSall['c0']['N_vtx'], weights_20)\n",
    "newEffCand = np.sum(w)/MCsample['c0'].effCand['nTotMINIAOD']\n",
    "e = newEffCand * MCsample['c0'].effMCgen['effGEN'][0]\n",
    "t.add_row(['c0->20', '', '', '{:.3f}'.format(100*newEffCand), '{:.3f}'.format(1e4*e)])\n",
    "\n",
    "w = getWeights(dSetSall['c0']['N_vtx'], weights_35)\n",
    "newEffCand = np.sum(w)/MCsample['c0'].effCand['nTotMINIAOD']\n",
    "e = newEffCand * MCsample['c0'].effMCgen['effGEN'][0]\n",
    "t.add_row(['c0->35', '', '', '{:.3f}'.format(100*newEffCand), '{:.3f}'.format(1e4*e)])\n",
    "\n",
    "# t.add_row([n, '', ''\n",
    "t.field_names = ['Sample', 'xsec [pb]', 'eff MC [%]', 'eff CAND [%]', 'Tot [10^-4]']\n",
    "print t"
   ]
  },
  {
   "cell_type": "code",
   "execution_count": null,
   "metadata": {},
   "outputs": [],
   "source": [
    "t = PrettyTable()\n",
    "t.field_names = ['PU', 'Low', 'Mid', 'High']\n",
    "for PU in ['0', '20', '35', 'c0']:\n",
    "    nMINIAOD = MCsample[PU].effCand['nTotMINIAOD']\n",
    "    leff = []\n",
    "    for cat in ['Low', 'Mid', 'High']:\n",
    "        fn = MCsample[PU].skimmed_dir + '/' + cat\n",
    "        n = extractNacc(fn +'_corr.log')\n",
    "        leff.append(getEff(n, nMINIAOD))\n",
    "    t.add_row([PU] + ['{:.3f}+/-{:.3f}%'.format(100*float(e), 100*float(de)) for e, de in leff])\n",
    "print 'MINIAOD -> Accepted selection efficiency'\n",
    "print t"
   ]
  },
  {
   "cell_type": "code",
   "execution_count": null,
   "metadata": {},
   "outputs": [],
   "source": [
    "t = PrettyTable()\n",
    "t.field_names = ['PU', 'Low', 'Mid', 'High']\n",
    "dMC = {}\n",
    "for PU in ['0', '20', '35', 'c0']:\n",
    "    leff = []\n",
    "    for cat in ['Low', 'Mid', 'High']:\n",
    "        fn = MCsample[PU].skimmed_dir + '/' + cat\n",
    "        leff.append(extractEff(fn + '_corr.log'))\n",
    "\n",
    "        dMC[cat+PU] = rtnp.root2array(fn+'_corr.root')\n",
    "    t.add_row([PU] + ['{:.2f}+/-{:.2f}%'.format(float(e), float(de)) for e, de in leff])\n",
    "print 'Skimming selection efficiency'\n",
    "print t"
   ]
  },
  {
   "cell_type": "markdown",
   "metadata": {},
   "source": [
    "# Compare with data and try reweight"
   ]
  },
  {
   "cell_type": "code",
   "execution_count": null,
   "metadata": {},
   "outputs": [],
   "source": [
    "# Compare with data\n",
    "\n",
    "RDloc = '../data/cmsRD/skimmed/B2DstMu_200515_{}_corr.root'\n",
    "\n",
    "# Fill the histo\n",
    "leg = rt.TLegend(0.7, 0.6, 0.97, 0.9)\n",
    "leg.SetBorderSize(0)\n",
    "leg.SetTextFont(42)\n",
    "\n",
    "colors = [rt.kAzure+1, rt.kRed-4, rt.kGreen+1, rt.kViolet-7]\n",
    "hlist = []\n",
    "for ic, cat in enumerate(['Low', 'Mid', 'High']):\n",
    "    t = ur.open(RDloc.format(cat))['Tevts']\n",
    "    x = np.array(t.array('N_vtx'))\n",
    "    h = create_TH1D(x, binning=[61, -0.5, 60.5], \n",
    "                    axis_title=['Number of PV reco', 'Normalized entries'], \n",
    "                    scale_histo=1./x.shape[0])\n",
    "    h.SetLineColor(colors[ic])\n",
    "    leg.AddEntry(h, 'Data '+cat, 'lep')\n",
    "    hlist = [h] + hlist\n",
    "\n",
    "x = dMC['Low20']['N_vtx']\n",
    "h = create_TH1D(x, binning=[61, -0.5, 60.5], \n",
    "                scale_histo=1./x.shape[0])\n",
    "h.SetLineColor(1)\n",
    "leg.AddEntry(h, 'MC Low PU20', 'lep')\n",
    "hlist.append(h)\n",
    "\n",
    "x = dMC['High35']['N_vtx']\n",
    "h = create_TH1D(x, binning=[61, -0.5, 60.5], \n",
    "                scale_histo=1./x.shape[0])\n",
    "h.SetLineColor(6)\n",
    "leg.AddEntry(h, 'MC High PU35', 'lep')\n",
    "hlist.append(h)\n",
    "\n",
    "x = dMC['Highc0']['N_vtx']\n",
    "h = create_TH1D(x, binning=[61, -0.5, 60.5], \n",
    "                scale_histo=1./x.shape[0])\n",
    "h.SetLineColor(5)\n",
    "leg.AddEntry(h, 'MC High PUc0', 'lep')\n",
    "hlist.append(h)\n",
    "\n",
    "m = SetMaxToMaxHist(hlist)\n",
    "c = drawOnCMSCanvas(CMS_lumi, hlist, 'same')\n",
    "leg.Draw()"
   ]
  },
  {
   "cell_type": "code",
   "execution_count": null,
   "metadata": {},
   "outputs": [],
   "source": [
    "fc0 = rt.TFile.Open(MCsample['c0'].skimmed_dir + '/None_skipall_corr.root', 'READ')\n",
    "hMC_c0 = fc0.Get('hAllNvtx').Clone()\n",
    "hMC_c0.Scale(1./hMC_c0.Integral())"
   ]
  },
  {
   "cell_type": "code",
   "execution_count": null,
   "metadata": {},
   "outputs": [],
   "source": [
    "leg = rt.TLegend(0.7, 0.6, 0.97, 0.9)\n",
    "leg.SetBorderSize(0)\n",
    "leg.SetTextFont(42)\n",
    "\n",
    "hMC_c0.SetLineColor(1)\n",
    "leg.AddEntry(hMC_c0, 'MC PUc0', 'lep')\n",
    "\n",
    "for cat in ['low', 'mid', 'high']:\n",
    "    leg.AddEntry(hNvtxPassNormRD[cat], 'RD '+cat, 'lep')\n",
    "h_list = [hMC_c0] + hNvtxPassNormRD.values()\n",
    "\n",
    "m = SetMaxToMaxHist(h_list)\n",
    "c = drawOnCMSCanvas(CMS_lumi, h_list, 'same')\n",
    "leg.Draw()"
   ]
  },
  {
   "cell_type": "code",
   "execution_count": null,
   "metadata": {},
   "outputs": [],
   "source": [
    "weights_c02RD = {}\n",
    "for cat in ['low', 'mid', 'high']:\n",
    "    weights_c02RD[cat] = getWeightsPU(hMC_c0, hNvtxPassNormRD[cat])"
   ]
  },
  {
   "cell_type": "code",
   "execution_count": null,
   "metadata": {},
   "outputs": [],
   "source": [
    "dMCc0_s17 = {}\n",
    "\n",
    "for cat in ['Low', 'Mid', 'High']:\n",
    "    fn = MCsample['c0'].skimmed_dir + '/' + cat\n",
    "    dMCc0_s17[cat] = rtnp.root2array(fn+'_skip17_corr.root')"
   ]
  },
  {
   "cell_type": "code",
   "execution_count": null,
   "metadata": {},
   "outputs": [],
   "source": [
    "N_goodTks = 1\n",
    "cat = 'Low'\n",
    "\n",
    "RDloc = '../data/cmsRD/skimmed/B2DstMu_200515_{}_corr.root'\n",
    "\n",
    "# Fill the histo\n",
    "leg = rt.TLegend(0.7, 0.6, 0.97, 0.9)\n",
    "leg.SetBorderSize(0)\n",
    "leg.SetTextFont(42)\n",
    "\n",
    "hlist = []\n",
    "\n",
    "# for ic, cat in enumerate(['Low', 'Mid', 'High']):\n",
    "ic = 0\n",
    "t = ur.open(RDloc.format(cat))['Tevts']\n",
    "x = np.array(t.array('N_vtx'))\n",
    "sel = np.array(t.array('N_goodAddTks')) == N_goodTks\n",
    "h = create_TH1D(x, binning=[61, -0.5, 60.5], \n",
    "                axis_title=['Number of PV reco', 'Normalized entries'], \n",
    "                scale_histo='norm')\n",
    "h.SetLineColor(colors[ic])\n",
    "leg.AddEntry(h, 'Data '+cat, 'lep')\n",
    "hlist.append(h)\n",
    "\n",
    "sel = dMCc0_s17[cat]['N_goodAddTks'] == N_goodTks\n",
    "x = dMCc0_s17[cat]['N_vtx'][sel]\n",
    "w = getWeights(x, weights_c02RD[cat.lower()])\n",
    "\n",
    "h = create_TH1D(x, binning=[61, -0.5, 60.5],\n",
    "                scale_histo='norm')\n",
    "h.SetLineColor(rt.kGray)\n",
    "if ic==0:\n",
    "    leg.AddEntry(h, 'MC c0 bare', 'lep')\n",
    "hlist.append(h)\n",
    "\n",
    "h = create_TH1D(x, binning=[61, -0.5, 60.5], weights=w,\n",
    "                scale_histo='norm')\n",
    "h.SetLineColor(1)\n",
    "if ic==0:\n",
    "    leg.AddEntry(h, 'MC c0 weighted', 'lep')\n",
    "hlist.append(h)\n",
    "\n",
    "m = SetMaxToMaxHist(hlist)\n",
    "c = drawOnCMSCanvas(CMS_lumi, hlist, 'same')\n",
    "leg.Draw()"
   ]
  },
  {
   "cell_type": "code",
   "execution_count": null,
   "metadata": {},
   "outputs": [],
   "source": []
  }
 ],
 "metadata": {
  "kernelspec": {
   "display_name": "Python 2",
   "language": "python",
   "name": "python2"
  },
  "language_info": {
   "codemirror_mode": {
    "name": "ipython",
    "version": 2
   },
   "file_extension": ".py",
   "mimetype": "text/x-python",
   "name": "python",
   "nbconvert_exporter": "python",
   "pygments_lexer": "ipython2",
   "version": "2.7.14+"
  },
  "varInspector": {
   "cols": {
    "lenName": 16,
    "lenType": 16,
    "lenVar": 40
   },
   "kernels_config": {
    "python": {
     "delete_cmd_postfix": "",
     "delete_cmd_prefix": "del ",
     "library": "var_list.py",
     "varRefreshCmd": "print(var_dic_list())"
    },
    "r": {
     "delete_cmd_postfix": ") ",
     "delete_cmd_prefix": "rm(",
     "library": "var_list.r",
     "varRefreshCmd": "cat(var_dic_list()) "
    }
   },
   "types_to_exclude": [
    "module",
    "function",
    "builtin_function_or_method",
    "instance",
    "_Feature"
   ],
   "window_display": false
  }
 },
 "nbformat": 4,
 "nbformat_minor": 2
}
