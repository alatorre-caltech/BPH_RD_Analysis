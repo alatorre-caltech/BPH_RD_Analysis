{
 "cells": [
  {
   "cell_type": "code",
   "execution_count": 1,
   "metadata": {},
   "outputs": [],
   "source": [
    "catName = 'low'"
   ]
  },
  {
   "cell_type": "code",
   "execution_count": 2,
   "metadata": {},
   "outputs": [],
   "source": [
    "import sys, os, pickle, time, re\n",
    "from glob import glob\n",
    "sys.path.append('../lib')\n",
    "sys.path.append('../analysis')"
   ]
  },
  {
   "cell_type": "code",
   "execution_count": 3,
   "metadata": {},
   "outputs": [
    {
     "name": "stdout",
     "output_type": "stream",
     "text": [
      "Welcome to JupyROOT 6.12/07\n"
     ]
    }
   ],
   "source": [
    "import numpy as np\n",
    "import pandas as pd\n",
    "import matplotlib.pyplot as plt\n",
    "from array import array\n",
    "\n",
    "import ROOT as rt\n",
    "rt.TGaxis.SetMaxDigits(4)\n",
    "rt.gErrorIgnoreLevel = rt.kError\n",
    "rt.RooMsgService.instance().setGlobalKillBelow(rt.RooFit.ERROR)\n",
    "import ROOT.RooFit as rf\n",
    "import root_numpy as rtnp\n",
    "\n",
    "from analysis_utilities import drawOnCMSCanvas, getEff\n",
    "from histo_utilities import create_TH1D, create_TH2D, SetMaxToMaxHist\n",
    "from gridVarQ2Plot import col_dic, label_dic\n",
    "from progressBar import ProgressBar\n",
    "from categoriesDef import categories\n",
    "cat = categories[catName]\n",
    "\n",
    "from lumi_utilities import getLumiByTrigger\n",
    "\n",
    "import CMS_lumi, tdrstyle\n",
    "tdrstyle.setTDRStyle()\n",
    "CMS_lumi.writeExtraText = 1\n",
    "\n",
    "\n",
    "CMS_lumi.extraText = 7*' ' + 'Internal'\n",
    "\n",
    "donotdelete = []"
   ]
  },
  {
   "cell_type": "code",
   "execution_count": 4,
   "metadata": {},
   "outputs": [],
   "source": [
    "m_mu = 0.1056583755\n",
    "m_pi = 0.13957062\n",
    "m_K = 0.493677\n",
    "m_D0 = 1.86483\n",
    "m_Dst = 2.01026\n",
    "m_jpsi = 3.096916\n",
    "dm = m_Dst - m_D0"
   ]
  },
  {
   "cell_type": "code",
   "execution_count": 5,
   "metadata": {},
   "outputs": [],
   "source": [
    "catText = rt.TLatex()\n",
    "catText.SetTextAlign(31)\n",
    "catText.SetTextSize(0.06)\n",
    "catText.SetTextFont(42)\n",
    "catText.SetTextSize(0.05)"
   ]
  },
  {
   "cell_type": "code",
   "execution_count": 6,
   "metadata": {},
   "outputs": [],
   "source": [
    "cl = rt.TLine()\n",
    "cl.SetLineColor(6)\n",
    "cl.SetLineStyle(9)\n",
    "cl.SetLineWidth(2)"
   ]
  },
  {
   "cell_type": "code",
   "execution_count": 8,
   "metadata": {},
   "outputs": [],
   "source": [
    "df = pd.DataFrame(rtnp.root2array('../data/cmsRD/skimmed/B2DstMu_200410_{}_corr.root'.format(cat.name)))"
   ]
  },
  {
   "cell_type": "code",
   "execution_count": null,
   "metadata": {},
   "outputs": [],
   "source": [
    "loc = '../data/cmsMC_private/'\n",
    "loc += 'BPH_Tag-B0_MuNuDmst-pD0bar-kp_13TeV-pythia8_Hardbbbar_PTFilter5_0p0-evtgen_ISGW2_PU20_10-2-3/'\n",
    "loc += 'ntuples_B2DstMu/skimmed/{}.root'.format(cat.name)\n",
    "df_MC = pd.DataFrame(rtnp.root2array(loc))"
   ]
  },
  {
   "cell_type": "code",
   "execution_count": null,
   "metadata": {},
   "outputs": [],
   "source": [
    "'  '.join(df.columns)"
   ]
  },
  {
   "cell_type": "code",
   "execution_count": null,
   "metadata": {},
   "outputs": [],
   "source": [
    "dataDir = '../data/cmsRD'\n",
    "datasets_loc = glob(dataDir + '/ParkingBPH*/*2018*B2DstMu_200327*')\n",
    "lumi_tot = getLumiByTrigger(datasets_loc, cat.trg, verbose=True)\n",
    "CMS_lumi.integrated_lumi = lumi_tot"
   ]
  },
  {
   "cell_type": "code",
   "execution_count": null,
   "metadata": {},
   "outputs": [],
   "source": [
    "fBfield = rt.TFile.Open('../data/calibration/bFieldMap_2Dover3D.root', 'r')\n",
    "hBfield = fBfield.Get('bfieldMap')\n",
    "def get_bFieldCorr3D(phi, eta, verbose=False):\n",
    "    if not verbose:\n",
    "        idx = hBfield.GetBin(hBfield.GetXaxis().FindBin(phi), hBfield.GetYaxis().FindBin(eta))\n",
    "        return 1./hBfield.GetBinContent(idx)\n",
    "hBfield.SetXTitle('#phi [rad]')\n",
    "hBfield.SetYTitle('#eta')\n",
    "c = rt.TCanvas('c', 'c', 800, 600)\n",
    "c.SetRightMargin(0.16)\n",
    "hBfield.Draw('colz')\n",
    "c.Draw()"
   ]
  },
  {
   "cell_type": "code",
   "execution_count": null,
   "metadata": {},
   "outputs": [],
   "source": [
    "def varMass(dset, sp1='pi', sp2='K', m1=m_pi, m2=m_K, scalePt=1., shiftE=[0,0], relSmear=0, applyBmap=False):\n",
    "    c1 = np.ones_like(dset[sp1+'_eta'])\n",
    "    c2 = np.ones_like(dset[sp2+'_eta'])\n",
    "    if applyBmap:\n",
    "        for i, (phi, eta) in enumerate(zip(dset[sp1+'_phi'], dset[sp1+'_eta'])):\n",
    "            c1[i] = get_bFieldCorr3D(phi, eta)\n",
    "        print 'Average magnetic field correction: {:1.1e}'.format(np.mean(c1)-1)\n",
    "        for i, (phi, eta) in enumerate(zip(dset[sp2+'_phi'], dset[sp2+'_eta'])):\n",
    "            c2[i] = get_bFieldCorr3D(phi, eta)\n",
    "        \n",
    "    if relSmear:\n",
    "        sm1 = relSmear[0]*np.random.randn(dset[sp1+'_pt'].shape[0]) + 1.\n",
    "        sm2 = relSmear[1]*np.random.randn(dset[sp2+'_pt'].shape[0]) + 1.\n",
    "    else:\n",
    "        sm1 = 1.\n",
    "        sm2 = 1.\n",
    "    E1 = np.hypot(m1, scalePt * c1 *dset[sp1+'_pt'] * sm1 * np.cosh(dset[sp1+'_eta'])) + shiftE[0]\n",
    "    E2 = np.hypot(m2, scalePt * c2 *dset[sp2+'_pt'] * sm2 * np.cosh(dset[sp2+'_eta'])) + shiftE[1]\n",
    "    pt1 = np.sqrt(np.square(E1) - np.square(m1))/np.cosh(dset[sp1+'_eta'])\n",
    "    pt2 = np.sqrt(np.square(E2) - np.square(m2))/np.cosh(dset[sp2+'_eta'])\n",
    "    p1p2 = pt1*pt2\n",
    "    p1p2 *= np.cos(dset[sp1+'_phi'] - dset[sp2+'_phi']) + np.sinh(dset[sp1+'_eta'])*np.sinh(dset[sp2+'_eta'])\n",
    "    \n",
    "    M = np.square(m1) + np.square(m2) + 2*(E1*E2 - p1p2)\n",
    "    return np.sqrt(M)"
   ]
  },
  {
   "cell_type": "code",
   "execution_count": null,
   "metadata": {},
   "outputs": [],
   "source": [
    "def varMass_3(dset, sp1='pi', sp2='K', sp3='pis',\n",
    "              m1=m_pi, m2=m_K, m3=m_pi,\n",
    "              scalePt=1., \n",
    "              shiftE=[0,0,0], \n",
    "              relSmear=0,\n",
    "              applyBmap=False,\n",
    "              returnM12=False\n",
    "             ):\n",
    "    \n",
    "    c1 = np.ones_like(dset[sp1+'_eta'])\n",
    "    c2 = np.ones_like(dset[sp2+'_eta'])\n",
    "    c3 = np.ones_like(dset[sp2+'_eta'])\n",
    "    if applyBmap:\n",
    "        for i, (phi, eta) in enumerate(zip(dset[sp1+'_phi'], dset[sp1+'_eta'])):\n",
    "            c1[i] = get_bFieldCorr3D(phi, eta)\n",
    "        print 'Average magnetic field correction: {:1.1e}'.format(np.mean(c1)-1)\n",
    "        for i, (phi, eta) in enumerate(zip(dset[sp2+'_phi'], dset[sp2+'_eta'])):\n",
    "            c2[i] = get_bFieldCorr3D(phi, eta)\n",
    "        for i, (phi, eta) in enumerate(zip(dset[sp3+'_phi'], dset[sp3+'_eta'])):\n",
    "            c3[i] = get_bFieldCorr3D(phi, eta)\n",
    "        \n",
    "    if relSmear:\n",
    "        sm1 = relSmear[0]*np.random.randn(dset[sp1+'_pt'].shape[0]) + 1.\n",
    "        sm2 = relSmear[1]*np.random.randn(dset[sp2+'_pt'].shape[0]) + 1.\n",
    "        sm3 = relSmear[2]*np.random.randn(dset[sp3+'_pt'].shape[0]) + 1.\n",
    "    else:\n",
    "        sm1 = 1.\n",
    "        sm2 = 1.\n",
    "        sm3 = 1.\n",
    "        \n",
    "    E1 = np.hypot(m1, scalePt * c1 * dset[sp1+'_pt'] * sm1 * np.cosh(dset[sp1+'_eta'])) + shiftE[0]\n",
    "    E2 = np.hypot(m2, scalePt * c2 * dset[sp2+'_pt'] * sm2 * np.cosh(dset[sp2+'_eta'])) + shiftE[1]\n",
    "    E3 = np.hypot(m3, scalePt * c3 * dset[sp3+'_pt'] * sm3 * np.cosh(dset[sp3+'_eta'])) + shiftE[2]\n",
    "    \n",
    "    pt1 = np.sqrt(np.square(E1) - m1**2)/np.cosh(dset[sp1+'_eta'])\n",
    "    pt2 = np.sqrt(np.square(E2) - m2**2)/np.cosh(dset[sp2+'_eta'])\n",
    "    pt3 = np.sqrt(np.square(E3) - m3**2)/np.cosh(dset[sp3+'_eta'])\n",
    "    \n",
    "    p1p2 = pt1*pt2\n",
    "    p1p2 *= np.cos(dset[sp1+'_phi'] - dset[sp2+'_phi']) + np.sinh(dset[sp1+'_eta'])*np.sinh(dset[sp2+'_eta'])\n",
    "    \n",
    "    p1p3 = pt1*pt3\n",
    "    p1p3 *= np.cos(dset[sp1+'_phi'] - dset[sp3+'_phi']) + np.sinh(dset[sp1+'_eta'])*np.sinh(dset[sp3+'_eta'])\n",
    "    \n",
    "    p2p3 = pt2*pt3\n",
    "    p2p3 *= np.cos(dset[sp2+'_phi'] - dset[sp3+'_phi']) + np.sinh(dset[sp2+'_eta'])*np.sinh(dset[sp3+'_eta'])\n",
    "    \n",
    "    M = np.square(m1) + np.square(m2) + np.square(m3) + 2*(E1*E2 - p1p2) + 2*(E1*E3 - p1p3) + 2*(E2*E3 - p2p3)\n",
    "    \n",
    "    if returnM12:\n",
    "        m12 = np.square(m1) + np.square(m2) + 2*(E1*E2 - p1p2)\n",
    "        return np.sqrt(M), np.sqrt(m12)\n",
    "    else:\n",
    "        return np.sqrt(M)"
   ]
  },
  {
   "cell_type": "code",
   "execution_count": null,
   "metadata": {},
   "outputs": [],
   "source": [
    "def compute_mR(dset, sp1='pi', sp2='K', m1=m_pi, m2=m_K, M=m_D0, scalePt=1., shiftE=[0,0], relSmear=0):\n",
    "    if relSmear:\n",
    "        sm1 = relSmear*np.random.randn(dset[sp1+'_pt'].shape[0]) + 1.\n",
    "        sm2 = relSmear*np.random.randn(dset[sp2+'_pt'].shape[0]) + 1.\n",
    "    else:\n",
    "        sm1 = 1.\n",
    "        sm2 = 1.\n",
    "    E1 = np.hypot(m1, scalePt * dset[sp1+'_pt'] * sm1 * np.cosh(dset[sp1+'_eta'])) + shiftE[0]\n",
    "    E2 = np.hypot(m2, scalePt * dset[sp2+'_pt'] * sm2 * np.cosh(dset[sp2+'_eta'])) + shiftE[1]\n",
    "    mR = np.square(m1)*E2/E1\n",
    "    mR += np.square(m2)*E1/E2\n",
    "    mR /= M\n",
    "    return mR"
   ]
  },
  {
   "cell_type": "code",
   "execution_count": null,
   "metadata": {},
   "outputs": [],
   "source": [
    "def compute_rC(dset, sp1='pi', sp2='K', m1=m_pi, m2=m_K, M=m_D0, scalePt=1., shiftE=[0,0], relSmear=0):\n",
    "    if relSmear:\n",
    "        sm1 = relSmear*np.random.randn(dset[sp1+'_pt'].shape[0]) + 1.\n",
    "        sm2 = relSmear*np.random.randn(dset[sp2+'_pt'].shape[0]) + 1.\n",
    "    else:\n",
    "        sm1 = 1.\n",
    "        sm2 = 1.\n",
    "    \n",
    "    q2 = np.square(M) - np.square(m1) - np.square(m2)\n",
    "    E1 = np.hypot(m1, scalePt * dset[sp1+'_pt'] * sm1 * np.cosh(dset[sp1+'_eta'])) + shiftE[0]\n",
    "    P1 = np.sqrt(np.square(E1) - np.square(m1))\n",
    "    E2 = np.hypot(m2, scalePt * dset[sp2+'_pt'] * sm2 * np.cosh(dset[sp2+'_eta'])) + shiftE[1]\n",
    "    P2 = np.sqrt(np.square(E2) - np.square(m2))\n",
    "    \n",
    "    rC_1 = E1*(E2/E1 + 0.5*(q2-2*E1*E2)/np.square(P1))/M\n",
    "    rC_2 = E2*(E1/E2 + 0.5*(q2-2*E1*E2)/np.square(P2))/M\n",
    "    return np.column_stack((rC_1, rC_2))"
   ]
  },
  {
   "cell_type": "code",
   "execution_count": null,
   "metadata": {},
   "outputs": [],
   "source": [
    "def getEnergy(dset, sp='pi', m=m_pi, scalePt=1., shiftE=0, relSmear=0):\n",
    "    if relSmear:\n",
    "        sm = relSmear*np.random.randn(dset[sp+'_pt'].shape[0]) + 1.\n",
    "    else:\n",
    "        sm = 1.\n",
    "    E = np.hypot(m, scalePt * dset[sp+'_pt'] * sm * np.cosh(dset[sp+'_eta'])) + shiftE\n",
    "    return E"
   ]
  },
  {
   "cell_type": "code",
   "execution_count": null,
   "metadata": {},
   "outputs": [],
   "source": [
    "def getAvg(mass):\n",
    "    m = np.mean(mass)\n",
    "    s = np.std(mass)\n",
    "    return [m, s/np.sqrt(mass.shape[0])]"
   ]
  },
  {
   "cell_type": "markdown",
   "metadata": {},
   "source": [
    "# General plots"
   ]
  },
  {
   "cell_type": "code",
   "execution_count": null,
   "metadata": {},
   "outputs": [],
   "source": [
    "def drawVar(varRD, varMC,\n",
    "            varRDcorr=None, varMCcorr=None,\n",
    "            binning=None, xtitle='', legLoc=[0.18, 0.7, 0.4, 0.93], opt='overflow+underflow'):\n",
    "    leg = rt.TLegend(legLoc[0], legLoc[1], legLoc[2], legLoc[3])\n",
    "    leg.SetBorderSize(0)\n",
    "    leg.SetFillStyle(0)\n",
    "    \n",
    "    hRD = create_TH1D(varRD, 'RDbare',\n",
    "                      binning=binning, \n",
    "                      axis_title=[xtitle, 'Normalized candidates'],\n",
    "                      scale_histo='norm',\n",
    "                      opt=opt\n",
    "                     )\n",
    "    leg.AddEntry(hRD, 'data', 'lep')\n",
    "\n",
    "    hMC = create_TH1D(varMC, 'MCbare', binning=hRD.binning, opt=opt, scale_histo='norm')\n",
    "    hMC.SetLineColor(col_dic['mu'])\n",
    "    leg.AddEntry(hMC, label_dic['mu'], 'lep')\n",
    "    h_list = [hRD, hMC]\n",
    "    \n",
    "    if not varRDcorr is None:\n",
    "        hRDc = create_TH1D(varRDcorr, 'RDcorr', binning=hRD.binning, scale_histo='norm', opt=opt)\n",
    "        hRDc.SetLineColor(1)\n",
    "        hRD.SetLineColor(rt.kGray)\n",
    "        h_list.append(hRDc)\n",
    "        leg.AddEntry(hRDc, 'data corr', 'lep')\n",
    "        \n",
    "    if not varMCcorr is None:\n",
    "        hMCc = create_TH1D(varMCcorr, 'MCcorr', binning=hRD.binning, scale_histo='norm', opt=opt)\n",
    "        hMCc.SetLineColor(col_dic['mu'])\n",
    "        hMC.SetLineColor(col_dic['mu']-10)\n",
    "        h_list.append(hMCc)\n",
    "        leg.AddEntry(hMCc, label_dic['mu']+' corr', 'lep')\n",
    "        \n",
    "    \n",
    "    SetMaxToMaxHist(h_list)\n",
    "    c = drawOnCMSCanvas(CMS_lumi, h_list, 'same')\n",
    "    leg.Draw()\n",
    "    catText.DrawLatexNDC(0.95, 0.85, 'Category: {}'.format(cat.name))\n",
    "    c.dnd = h_list + [leg]\n",
    "    return c"
   ]
  },
  {
   "cell_type": "code",
   "execution_count": null,
   "metadata": {},
   "outputs": [],
   "source": [
    "def draw_dM_vs_x(m_piK_RD, m_piK_MC, m_piK_RDcorr, xRD, xMC, bins=None, xlabel=''):\n",
    "    avgRD = []\n",
    "    avgRDcorr = []\n",
    "    avgMC = []\n",
    "\n",
    "    for i in range(len(bins)-1):\n",
    "        m = bins[i]\n",
    "        M = bins[i+1]   \n",
    "        selRD = np.logical_and(xRD>m, xRD<M)\n",
    "        avgRD.append(getAvg(m_piK_RD[selRD]))\n",
    "        avgRDcorr.append(getAvg(m_piK_RDcorr[selRD]))\n",
    "\n",
    "        selMC = np.logical_and(xMC>m, xMC<M)\n",
    "        avgMC.append(getAvg(m_piK_MC[selMC]))\n",
    "\n",
    "    avgRD = 1e3*np.array(avgRD)\n",
    "    avgRDcorr = 1e3*np.array(avgRDcorr)\n",
    "    avgMC = 1e3*np.array(avgMC)\n",
    "\n",
    "    x = (bins[1:] + bins[:-1])/2.\n",
    "    dx = (bins[1:] - bins[:-1])/2.\n",
    "\n",
    "    plt.rcParams.update({'font.size': 18})\n",
    "    f = plt.figure(figsize=(8,6))\n",
    "    plt.errorbar(x, avgRD[:,0]-1e3*m_D0, yerr=avgRD[:,1], xerr=dx, fmt='.', label='RD')\n",
    "    plt.errorbar(x, avgRDcorr[:,0]-1e3*m_D0, yerr=avgRDcorr[:,1], xerr=dx, fmt='.', label='RD corr')\n",
    "    plt.errorbar(x, avgMC[:,0]-1e3*m_D0, yerr=avgMC[:,1], xerr=dx, fmt='.', label='MC')\n",
    "    plt.xlabel(xlabel)\n",
    "    plt.ylabel('<m($\\pi$K) - m$_{D_0}$> [MeV]')\n",
    "    plt.legend(loc='best', numpoints=1)\n",
    "    plt.grid()"
   ]
  },
  {
   "cell_type": "markdown",
   "metadata": {},
   "source": [
    "# Corrections"
   ]
  },
  {
   "cell_type": "code",
   "execution_count": null,
   "metadata": {},
   "outputs": [],
   "source": [
    "scalePt=1\n",
    "shiftE=[0, 0, 0]\n",
    "# shiftE=[0.48e-3, 0, 0.48e-3]\n",
    "# shiftE=[0.48e-3, 1.44e-3, 0.48e-3]\n",
    "relSmear = [3e-3, 3e-3, 6e-3]"
   ]
  },
  {
   "cell_type": "markdown",
   "metadata": {},
   "source": [
    "# Observables Masses"
   ]
  },
  {
   "cell_type": "code",
   "execution_count": null,
   "metadata": {},
   "outputs": [],
   "source": [
    "m_piK_RDcorr = varMass(df, sp1='pi', sp2='K', m1=m_pi, m2=m_K, scalePt=scalePt, shiftE=shiftE, applyBmap=True)"
   ]
  },
  {
   "cell_type": "code",
   "execution_count": null,
   "metadata": {},
   "outputs": [],
   "source": [
    "m_piK_MCcorr = varMass(df_MC, sp1='pi', sp2='K', m1=m_pi, m2=m_K, relSmear=relSmear)"
   ]
  },
  {
   "cell_type": "code",
   "execution_count": null,
   "metadata": {},
   "outputs": [],
   "source": [
    "C = drawVar(varRD=df['mass_piK'], \n",
    "            varMC=df_MC['mass_piK'],\n",
    "            varRDcorr=m_piK_RDcorr,\n",
    "            varMCcorr=m_piK_MCcorr,\n",
    "            binning=[100, m_D0-0.04, m_D0+0.04], \n",
    "            xtitle='M(#piK) [GeV]')"
   ]
  },
  {
   "cell_type": "code",
   "execution_count": null,
   "metadata": {},
   "outputs": [],
   "source": [
    "C = drawVar(varRD=df['D0_eta'], \n",
    "            varMC=df_MC['D0_eta'],\n",
    "            binning=[50, -2.2, 2.2], \n",
    "            xtitle='D_{0} #eta')"
   ]
  },
  {
   "cell_type": "code",
   "execution_count": null,
   "metadata": {},
   "outputs": [],
   "source": [
    "E = getEnergy(df, 'pi', m_pi, scalePt=scalePt, shiftE=shiftE[0])\n",
    "ptRD = np.sqrt(np.square(E) - m_pi**2)/np.cosh(df['pi_eta'])\n",
    "E = getEnergy(df_MC, 'pi', m_pi, relSmear=0)\n",
    "ptMC = np.sqrt(np.square(E) - m_pi**2)/np.cosh(df_MC['pi_eta'])\n",
    "C = drawVar(varRD=df['pi_pt'], \n",
    "            varMC=df_MC['pi_pt'],\n",
    "            varRDcorr=ptRD,\n",
    "            varMCcorr=ptMC,\n",
    "#             opt='',\n",
    "            binning=[100, 0, 25], \n",
    "            xtitle='#pi p_{T} [GeV]', \n",
    "            legLoc=[0.7, 0.6, 0.9, 0.8])"
   ]
  },
  {
   "cell_type": "code",
   "execution_count": null,
   "metadata": {},
   "outputs": [],
   "source": [
    "dsetRDJpsi_loc = '../data/cmsRD/skimmed/B2JpsiKst_200124_{}.root'.format(cat.name)\n",
    "df_RDjpsi = pd.DataFrame(rtnp.root2array(dsetRDJpsi_loc))\n",
    "dsetMC_loc = '../data/cmsMC_private/BPH_Tag-Probe_B0_JpsiKst-mumuKpi-kp_13TeV-pythia8_Hardbbbar_PTFilter5_0p0-evtgen_SVV_PU20_10-2-3/'\n",
    "dsetMC_loc += 'ntuples_B2JpsiKst/skimmed/{}.root'.format(cat.name)\n",
    "df_MCjpsi= pd.DataFrame(rtnp.root2array(dsetMC_loc))"
   ]
  },
  {
   "cell_type": "code",
   "execution_count": null,
   "metadata": {},
   "outputs": [],
   "source": [
    "C = drawVar(varRD=varMass(df_RDjpsi, sp1='mum', sp2='mup', m1=m_mu, m2=m_mu), \n",
    "            varMC=varMass(df_MCjpsi, sp1='mum', sp2='mup', m1=m_mu, m2=m_mu),\n",
    "            varRDcorr=varMass(df_RDjpsi, sp1='mum', sp2='mup', m1=m_mu, m2=m_mu, scalePt=scalePt, shiftE=shiftE, applyBmap=True),\n",
    "            varMCcorr=varMass(df_MCjpsi, sp1='mum', sp2='mup', m1=m_mu, m2=m_mu, relSmear=relSmear),\n",
    "            binning=[50, m_jpsi-0.1, m_jpsi+0.1], \n",
    "            xtitle='M(#mu#mu) [GeV]')"
   ]
  },
  {
   "cell_type": "code",
   "execution_count": null,
   "metadata": {},
   "outputs": [],
   "source": [
    "mDst, mD0 = varMass_3(df, sp1='pi', sp2='K', sp3='pis', m1=m_pi, m2=m_K, m3=m_pi, returnM12=True)\n",
    "mDstMC, mD0MC = varMass_3(df_MC, sp1='pi', sp2='K', sp3='pis', m1=m_pi, m2=m_K, m3=m_pi, returnM12=True)\n",
    "mDstC, mD0C = varMass_3(df, sp1='pi', sp2='K', sp3='pis', m1=m_pi, m2=m_K, m3=m_pi, returnM12=True, applyBmap=True, scalePt=scalePt, shiftE=shiftE)\n",
    "mDstMCc, mD0MCc = varMass_3(df_MC, sp1='pi', sp2='K', sp3='pis', m1=m_pi, m2=m_K, m3=m_pi, returnM12=True, relSmear=relSmear)"
   ]
  },
  {
   "cell_type": "code",
   "execution_count": null,
   "metadata": {},
   "outputs": [],
   "source": [
    "mDstMCc, mD0MCc = varMass_3(df_MC, sp1='pi', sp2='K', sp3='pis', \n",
    "                            m1=m_pi, m2=m_K, m3=m_pi, returnM12=True, \n",
    "                            relSmear=relSmear)"
   ]
  },
  {
   "cell_type": "code",
   "execution_count": null,
   "metadata": {},
   "outputs": [],
   "source": [
    "C = drawVar(varRD=df['mass_D0pis'], \n",
    "            varMC=df_MC['mass_D0pis'],\n",
    "            varRDcorr=mDstC,\n",
    "            varMCcorr=mDstMCc,\n",
    "            binning=[100, m_Dst-0.03, m_Dst+0.03], \n",
    "            xtitle='M(#piK#pi) [GeV]')"
   ]
  },
  {
   "cell_type": "code",
   "execution_count": null,
   "metadata": {},
   "outputs": [],
   "source": [
    "C = drawVar(varRD=1e3*(mDst - mD0),\n",
    "            varMC=1e3*(mDstMC - mD0MC),\n",
    "            varRDcorr=1e3*(mDstC - mD0C),\n",
    "            varMCcorr=1e3*(mDstMCc - mD0MCc),\n",
    "            binning=[100, 1e3*dm - 2, 1e3*dm + 2], \n",
    "            xtitle='M(#piK#pi) - M(#piK) [MeV]')"
   ]
  },
  {
   "cell_type": "markdown",
   "metadata": {},
   "source": [
    "### Mass in different regions"
   ]
  },
  {
   "cell_type": "code",
   "execution_count": null,
   "metadata": {},
   "outputs": [],
   "source": [
    "binsPt = np.array([0, 3.2, 5, 8, 12, 20])\n",
    "avgRD = []\n",
    "avgRDcorr = []\n",
    "avgMC = []\n",
    "\n",
    "for i in range(len(binsPt)-1):\n",
    "    mpt = binsPt[i]\n",
    "    Mpt = binsPt[i+1]\n",
    "    selm = np.logical_and(df['pi_pt']>mpt, df['K_pt']>mpt)\n",
    "    selM = np.logical_and(df['pi_pt']<Mpt, df['K_pt']<Mpt)    \n",
    "    selRD = np.logical_and(selm, selM)\n",
    "    avgRD.append(getAvg(df['mass_piK'][selRD]))\n",
    "    avgRDcorr.append(getAvg(m_piK_RDcorr[selRD]))\n",
    "    \n",
    "    selm = np.logical_and(df_MC['pi_pt']>mpt, df_MC['K_pt']>mpt)\n",
    "    selM = np.logical_and(df_MC['pi_pt']<Mpt, df_MC['K_pt']<Mpt)    \n",
    "    selMC = np.logical_and(selm, selM)\n",
    "    avgMC.append(getAvg(df_MC['mass_piK'][selMC]))\n",
    "\n",
    "avgRD = 1e3*np.array(avgRD)\n",
    "avgRDcorr = 1e3*np.array(avgRDcorr)\n",
    "avgMC = 1e3*np.array(avgMC)\n",
    "\n",
    "x = (binsPt[1:] + binsPt[:-1])/2.\n",
    "dx = (binsPt[1:] - binsPt[:-1])/2.\n",
    "plt.rcParams.update({'font.size': 20})\n",
    "f = plt.figure(figsize=(8,6))\n",
    "plt.plot(binsPt, [0]*len(binsPt), 'm--', lw=2)\n",
    "plt.errorbar(x, avgRD[:,0]-1e3*m_D0, yerr=avgRD[:,1], xerr=dx, fmt='.', label='RD')\n",
    "plt.errorbar(x, avgRDcorr[:,0]-1e3*m_D0, yerr=avgRDcorr[:,1], xerr=dx, fmt='.', label='RD corr')\n",
    "plt.errorbar(x, avgMC[:,0]-1e3*m_D0, yerr=avgMC[:,1], xerr=dx, fmt='.', label='MC')\n",
    "plt.legend(loc='best', numpoints=1)\n",
    "plt.xlabel('Tracks pT [GeV]')\n",
    "plt.ylabel('<m($\\pi$K) - m$_{D_0}$> [MeV]')"
   ]
  },
  {
   "cell_type": "code",
   "execution_count": null,
   "metadata": {},
   "outputs": [],
   "source": [
    "draw_dM_vs_x(df['mass_piK'], df_MC['mass_piK'], m_piK_RDcorr, df['pi_eta'], df_MC['pi_eta'], \n",
    "             np.linspace(-2, 2, 8), r'$\\eta_\\pi$')"
   ]
  },
  {
   "cell_type": "code",
   "execution_count": null,
   "metadata": {},
   "outputs": [],
   "source": [
    "draw_dM_vs_x(df['mass_piK'], df_MC['mass_piK'], m_piK_RDcorr, df['K_eta'], df_MC['K_eta'], np.linspace(-2, 2, 8), r'$\\eta_K$')"
   ]
  },
  {
   "cell_type": "code",
   "execution_count": null,
   "metadata": {},
   "outputs": [],
   "source": [
    "df['D0_phi'].shape[0]"
   ]
  },
  {
   "cell_type": "code",
   "execution_count": null,
   "metadata": {},
   "outputs": [],
   "source": [
    "draw_dM_vs_x(df['mass_piK'], df_MC['mass_piK'], m_piK_RDcorr, df['D0_phi'], df_MC['D0_phi'], np.linspace(-4, 4, 8), r'$D_0\\ \\phi$ [rad]')"
   ]
  },
  {
   "cell_type": "code",
   "execution_count": null,
   "metadata": {},
   "outputs": [],
   "source": [
    "etaBins = [-2.2, -1, 1., 2.2]\n",
    "for ie, (em, eM) in enumerate(zip(etaBins[:-1], etaBins[1:])):\n",
    "    selEtaRD = np.logical_and(df['D0_eta'] > em, df['D0_eta'] < eM)\n",
    "    selEtaMC = np.logical_and(df_MC['D0_eta'] > em, df_MC['D0_eta'] < eM)\n",
    "    draw_dM_vs_x(df['mass_piK'][selEtaRD],\n",
    "                 df_MC['mass_piK'][selEtaMC],\n",
    "                 m_piK_RDcorr[selEtaRD],\n",
    "                 df['D0_phi'][selEtaRD], \n",
    "                 df_MC['D0_phi'][selEtaMC], \n",
    "                 bins=np.linspace(-np.pi, np.pi, 8), \n",
    "                 xlabel=r'$D_0\\ \\phi$ [rad]')\n",
    "    plt.ylim(plt.ylim()[0], 1.2)\n",
    "    plt.text(-3.1, 1.05, '{:.1f} < |$\\eta$| < {:.1f}'.format(em, eM))"
   ]
  },
  {
   "cell_type": "code",
   "execution_count": null,
   "metadata": {},
   "outputs": [],
   "source": [
    "xRD = compute_mR(df, scalePt=scalePt, shiftE=shiftE)\n",
    "xMC = compute_mR(df_MC, scalePt=scalePt, shiftE=shiftE)\n",
    "bins = np.concatenate((np.linspace(0.07, 0.4, 10), np.linspace(0.5, 1.8, 5)))\n",
    "\n",
    "draw_dM_vs_x(df['mass_piK'], df_MC['mass_piK'], m_piK_RDcorr, xRD, xMC, bins, r'$m_R(D_0\\to \\pi K)$ [GeV]')"
   ]
  },
  {
   "cell_type": "code",
   "execution_count": null,
   "metadata": {},
   "outputs": [],
   "source": [
    "xMC = compute_rC(df_MC, scalePt=1.+6.6e-4)\n",
    "xRD = compute_rC(df, scalePt=1.+6.6e-4)"
   ]
  },
  {
   "cell_type": "code",
   "execution_count": null,
   "metadata": {},
   "outputs": [],
   "source": [
    "bins = np.concatenate((np.linspace(0.07, 0.3, 10), np.linspace(0.35, 0.8, 5)))\n",
    "draw_dM_vs_x(df['mass_piK'], df_MC['mass_piK'], m_piK_RDcorr, xRD[:,0], xMC[:,0], bins, r'$r_C^\\pi(D_0\\to \\pi K)$')"
   ]
  },
  {
   "cell_type": "code",
   "execution_count": null,
   "metadata": {},
   "outputs": [],
   "source": [
    "bins = np.concatenate((np.linspace(0.07, 0.15, 10), np.linspace(0.2, 0.4, 5)))\n",
    "draw_dM_vs_x(df['mass_piK'], df_MC['mass_piK'], m_piK_RDcorr, xRD[:,0], xMC[:,0], bins, r'$r_C^K(D_0\\to \\pi K)$')"
   ]
  },
  {
   "cell_type": "code",
   "execution_count": null,
   "metadata": {},
   "outputs": [],
   "source": [
    "binsBG = np.array([0, 10, 15, 20, 30, 50, 70])\n",
    "bgMC = np.column_stack((df_MC['pi_pt']*np.cosh(df_MC['pi_eta'])/m_pi, df_MC['K_pt']*np.cosh(df_MC['K_eta'])/m_K))\n",
    "bgRD = np.column_stack((df['pi_pt']*np.cosh(df['pi_eta'])/m_pi, df['K_pt']*np.cosh(df['K_eta'])/m_K))\n",
    "\n",
    "avgRD = []\n",
    "avgRDcorr = []\n",
    "avgMC = []\n",
    "\n",
    "for i in range(len(binsBG)-1):\n",
    "    m = binsBG[i]\n",
    "    M = binsBG[i+1]\n",
    "    selm = np.logical_and(bgRD[:,0]>m, bgRD[:,1]>m)\n",
    "    selM = np.logical_and(bgRD[:,0]<M, bgRD[:,1]<M)    \n",
    "    selRD = np.logical_and(selm, selM)\n",
    "    avgRD.append(getAvg(df['mass_piK'][selRD]))\n",
    "    avgRDcorr.append(getAvg(m_piK_RDcorr[selRD]))\n",
    "    \n",
    "    selm = np.logical_and(bgMC[:,0]>m, bgMC[:,1]>m)\n",
    "    selM = np.logical_and(bgMC[:,0]<M, bgMC[:,1]<M)    \n",
    "    selMC = np.logical_and(selm, selM)\n",
    "    avgMC.append(getAvg(df_MC['mass_piK'][selMC]))\n",
    "\n",
    "avgRD = 1e3*np.array(avgRD)\n",
    "avgRDcorr = 1e3*np.array(avgRDcorr)\n",
    "avgMC = 1e3*np.array(avgMC)\n",
    "\n",
    "x = (binsBG[1:] + binsBG[:-1])/2.\n",
    "dx = (binsBG[1:] - binsBG[:-1])/2.\n",
    "plt.rcParams.update({'font.size': 20})\n",
    "f = plt.figure(figsize=(8,6))\n",
    "plt.errorbar(x, avgRD[:,0]-1e3*m_D0, yerr=avgRD[:,1], xerr=dx, fmt='.', label='RD')\n",
    "plt.errorbar(x, avgRDcorr[:,0]-1e3*m_D0, yerr=avgRDcorr[:,1], xerr=dx, fmt='.', label='RD corr')\n",
    "plt.errorbar(x, avgMC[:,0]-1e3*m_D0, yerr=avgMC[:,1], xerr=dx, fmt='.', label='MC')\n",
    "plt.legend(loc='best', numpoints=1)\n",
    "plt.xlabel(r'Tracks $\\beta \\gamma$')\n",
    "plt.ylabel('<m($\\pi$K) - m$_{D_0}$> [MeV]')"
   ]
  },
  {
   "cell_type": "code",
   "execution_count": null,
   "metadata": {},
   "outputs": [],
   "source": [
    "draw_dM_vs_x(df['mass_piK'], df_MC['mass_piK'], m_piK_RDcorr, bgRD[:,0], bgMC[:,0], binsBG, r'$\\pi\\ \\beta \\gamma$')"
   ]
  },
  {
   "cell_type": "code",
   "execution_count": null,
   "metadata": {},
   "outputs": [],
   "source": [
    "draw_dM_vs_x(df['mass_piK'], df_MC['mass_piK'], m_piK_RDcorr, bgRD[:,1], bgMC[:,1], binsBG, r'K $\\beta \\gamma$')"
   ]
  },
  {
   "cell_type": "code",
   "execution_count": null,
   "metadata": {},
   "outputs": [],
   "source": [
    "draw_dM_vs_x(df['mass_piK'], df_MC['mass_piK'], m_piK_RDcorr, df['pi_pt'], df_MC['pi_pt'], binsPt, r'$\\pi\\ p_T$ [GeV]')"
   ]
  },
  {
   "cell_type": "code",
   "execution_count": null,
   "metadata": {},
   "outputs": [],
   "source": [
    "draw_dM_vs_x(df['mass_piK'], df_MC['mass_piK'], m_piK_RDcorr, df['K_pt'], df_MC['K_pt'], binsPt, r'K $p_T$ [GeV]')"
   ]
  }
 ],
 "metadata": {
  "kernelspec": {
   "display_name": "Python 2",
   "language": "python",
   "name": "python2"
  },
  "language_info": {
   "codemirror_mode": {
    "name": "ipython",
    "version": 2
   },
   "file_extension": ".py",
   "mimetype": "text/x-python",
   "name": "python",
   "nbconvert_exporter": "python",
   "pygments_lexer": "ipython2",
   "version": "2.7.14+"
  }
 },
 "nbformat": 4,
 "nbformat_minor": 2
}
