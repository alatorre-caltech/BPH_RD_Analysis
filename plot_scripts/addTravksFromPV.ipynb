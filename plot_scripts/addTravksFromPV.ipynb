{
 "cells": [
  {
   "cell_type": "code",
   "execution_count": 81,
   "metadata": {
    "ExecuteTime": {
     "end_time": "2021-12-20T19:56:45.309543Z",
     "start_time": "2021-12-20T19:56:44.847705Z"
    }
   },
   "outputs": [],
   "source": [
    "import sys, os, pickle, time, json, yaml, re\n",
    "from glob import glob\n",
    "sys.path.append('../lib')\n",
    "sys.path.append('../analysis')\n",
    "import numpy as np\n",
    "import pandas as pd\n",
    "import root_numpy as rtnp\n",
    "from analysis_utilities import drawOnCMSCanvas, getEff, DSetLoader\n",
    "from collections import Counter\n",
    "from prettytable import PrettyTable\n",
    "import matplotlib.pyplot as plt"
   ]
  },
  {
   "cell_type": "code",
   "execution_count": 2,
   "metadata": {
    "ExecuteTime": {
     "end_time": "2021-12-20T19:08:48.783865Z",
     "start_time": "2021-12-20T19:08:45.961935Z"
    }
   },
   "outputs": [],
   "source": [
    "candDir='ntuples_B2DstMu_mediumId'\n",
    "skimmedTag=''\n",
    "MCsample = {\n",
    "######## Signals\n",
    "'tau': DSetLoader('Bd_TauNuDst', candDir=candDir, skimmedTag=skimmedTag),\n",
    "'mu': DSetLoader('Bd_MuNuDst', candDir=candDir, skimmedTag=skimmedTag),\n",
    "######## D** background\n",
    "'Bu_MuDstPi': DSetLoader('Bu_MuNuDstPi', candDir=candDir, skimmedTag=skimmedTag),\n",
    "'Bd_MuDstPi': DSetLoader('Bd_MuNuDstPi', candDir=candDir, skimmedTag=skimmedTag),\n",
    "# 'Bd_MuDstPiPi': DSetLoader('Bd_MuNuDstPiPi', candDir=candDir, skimmedTag=args.skimmedTag),\n",
    "'Bd_MuDstPiPi': DSetLoader('Bd_MuNuDstPiPi_v2', candDir=candDir, skimmedTag=skimmedTag),\n",
    "'Bu_MuDstPiPi': DSetLoader('Bu_MuNuDstPiPi', candDir=candDir, skimmedTag=skimmedTag),\n",
    "'Bu_TauDstPi': DSetLoader('Bu_TauNuDstPi', candDir=candDir, skimmedTag=skimmedTag),\n",
    "'Bd_TauDstPi': DSetLoader('Bd_TauNuDstPi', candDir=candDir, skimmedTag=skimmedTag),\n",
    "'Bd_TauDstPiPi': DSetLoader('Bd_TauNuDstPiPi', candDir=candDir, skimmedTag=skimmedTag),\n",
    "'Bu_TauDstPiPi': DSetLoader('Bu_TauNuDstPiPi', candDir=candDir, skimmedTag=skimmedTag),\n",
    "'Bs_MuDstK': DSetLoader('Bs_MuNuDstK', candDir=candDir, skimmedTag=skimmedTag),\n",
    "'Bs_TauDstK': DSetLoader('Bs_TauNuDstK', candDir=candDir, skimmedTag=skimmedTag),\n",
    "######## D*Hc background\n",
    "'Bd_DstDu': DSetLoader('Bd_DstDu', candDir=candDir, skimmedTag=skimmedTag),\n",
    "'Bu_DstDu': DSetLoader('Bu_DstDu', candDir=candDir, skimmedTag=skimmedTag),\n",
    "'Bd_DstDd': DSetLoader('Bd_DstDd', candDir=candDir, skimmedTag=skimmedTag),\n",
    "'Bu_DstDd': DSetLoader('Bu_DstDd', candDir=candDir, skimmedTag=skimmedTag),\n",
    "'Bd_DstDs': DSetLoader('Bd_DstDs', candDir=candDir, skimmedTag=skimmedTag),\n",
    "'Bs_DstDs': DSetLoader('Bs_DstDs', candDir=candDir, skimmedTag=skimmedTag),\n",
    "}"
   ]
  },
  {
   "cell_type": "code",
   "execution_count": 79,
   "metadata": {
    "ExecuteTime": {
     "end_time": "2021-12-20T19:56:22.842243Z",
     "start_time": "2021-12-20T19:56:21.402782Z"
    },
    "scrolled": false
   },
   "outputs": [
    {
     "name": "stdout",
     "output_type": "stream",
     "text": [
      "Bd_MuDstPiPi\n",
      "Tracks MC mother pdgId:\n",
      "[   1    2    3    4    5   21  333  431  521 2212]\n",
      "----------\n",
      "\n",
      "tau\n",
      "Tracks MC mother pdgId:\n",
      "[    1     2     3     4     5    21   113   213   223   313   323   331\n",
      "   333   413   421   511   521  2212  2214  4122  4124  5122 20213]\n",
      "----------\n",
      "\n",
      "Bs_DstDs\n",
      "Tracks MC mother pdgId:\n",
      "[   1    2    3    4    5  113  333  421 2212]\n",
      "----------\n",
      "\n",
      "Bd_TauDstPi\n",
      "Tracks MC mother pdgId:\n",
      "[   2    3    5  213  221 2212]\n",
      "----------\n",
      "\n",
      "Bu_MuDstPiPi\n",
      "Tracks MC mother pdgId:\n",
      "[   1    2    3    4    5   21  113  213  221  223  313  411  421  511\n",
      " 2212 5132]\n",
      "----------\n",
      "\n",
      "Bs_MuDstK\n",
      "Tracks MC mother pdgId:\n",
      "[   1    2    3    4    5   15   21  111  113  213  221  313  323  331\n",
      "  333  411  413  421  431  511  521  541 1114 2212 5132]\n",
      "----------\n",
      "\n",
      "Bd_MuDstPi\n",
      "Tracks MC mother pdgId:\n",
      "[   1    2    3    4    5   21  111  113  213  221  223  313  323  331\n",
      "  333  411  413  421  431  443  511  521  531  541 2212 2214]\n",
      "----------\n",
      "\n",
      "Bu_TauDstPi\n",
      "Tracks MC mother pdgId:\n",
      "[   1    5 2212]\n",
      "----------\n",
      "\n",
      "Bd_DstDd\n",
      "Tracks MC mother pdgId:\n",
      "[   1    2    3    4    5  313  421 2212 2214]\n",
      "----------\n",
      "\n",
      "Bu_DstDu\n",
      "Tracks MC mother pdgId:\n",
      "[   1    2    3    4    5   21  111  113  213  223  313  333  411  421\n",
      " 2212 5122]\n",
      "----------\n",
      "\n",
      "mu\n",
      "Tracks MC mother pdgId:\n",
      "[      1       2       3       4       5      15      21      43     111\n",
      "     113     213     221     223     313     323     325     331     333\n",
      "     411     413     421     425     431     441     443     511     521\n",
      "     531     541    1114    2101    2103    2114    2203    2212    2214\n",
      "    2224    3201    3224    4112    4114    4122    4124    4132    4232\n",
      "    5112    5114    5122    5132    5222    5224   10213   10313   10323\n",
      "   10421   10423   20213   20313   20443  100441  100443 9010221]\n",
      "----------\n",
      "\n",
      "Bd_DstDs\n",
      "Tracks MC mother pdgId:\n",
      "[    1     2     3     4     5    21   111   213   223   313   323   331\n",
      "   333   411   413   421   511   521   531  2212  2224  3101  4132 10413\n",
      " 20313]\n",
      "----------\n",
      "\n",
      "Bd_TauDstPiPi\n",
      "Tracks MC mother pdgId:\n",
      "[   2    3    4    5   21  213 2212]\n",
      "----------\n",
      "\n",
      "Bd_DstDu\n",
      "Tracks MC mother pdgId:\n",
      "[   1    2    3    4    5   21  111  113  213  333  421  431 2212]\n",
      "----------\n",
      "\n",
      "Bu_TauDstPiPi\n",
      "Tracks MC mother pdgId:\n",
      "[   1    2    5  221  223  323  421 2212]\n",
      "----------\n",
      "\n",
      "Bs_TauDstK\n",
      "Tracks MC mother pdgId:\n",
      "[   1    2    3    5  323  333 2212]\n",
      "----------\n",
      "\n",
      "Bu_MuDstPi\n",
      "Tracks MC mother pdgId:\n",
      "[    1     2     3     4     5    15    21   111   113   213   221   223\n",
      "   313   323   331   333   411   413   421   431   441   445   511   521\n",
      "   531  2114  2212  2214  2224  5122 10423 20423]\n",
      "----------\n",
      "\n",
      "Bu_DstDd\n",
      "Tracks MC mother pdgId:\n",
      "[   1    2    3    5   21  213  421  521 2212 4122]\n",
      "----------\n",
      "\n"
     ]
    }
   ],
   "source": [
    "branches = ['MC_tkFlag_0', 'MC_tkFlag_1',\n",
    "            'MC_tkFromMainB_0', 'MC_tkFromMainB_1',\n",
    "            'MC_tk_dpt_0', 'MC_tk_dpt_1',\n",
    "            'MC_tk_deta_0', 'MC_tk_deta_1',\n",
    "            'MC_tk_dphi_0', 'MC_tk_dphi_1',\n",
    "            'MC_tkPdgId_0', 'MC_tkPdgId_1',\n",
    "            'MC_tkMotherPdgId_0', 'MC_tkMotherPdgId_1']\n",
    "\n",
    "table = PrettyTable()\n",
    "table.field_names = ['Sample', '0', '1 [1e-3]', '2 [1e-6]']\n",
    "\n",
    "effData = []\n",
    "for k, s in MCsample.iteritems():\n",
    "    print k\n",
    "    nSigReg = 0\n",
    "    with open(s.skimmed_dir + '/High_bare.log', 'r') as f:\n",
    "        nSigReg += int( f.readlines()[-2][:-1].split(' ')[-1] )\n",
    "    df = pd.DataFrame(rtnp.root2array(s.skimmed_dir + '/High_trkCtrl_bare.root', branches=branches))\n",
    "    \n",
    "    sel_tk0 = np.array(np.logical_and(df['MC_tkFlag_0'] == 1, df['MC_tkFromMainB_0'] == 0).astype(np.int))\n",
    "    sel_tk1 = np.array(np.logical_and(df['MC_tkFlag_1'] == 1, df['MC_tkFromMainB_1'] == 0).astype(np.int))\n",
    "    trkCounts = Counter(sel_tk0 + sel_tk1)\n",
    "    trkCounts[0] += nSigReg\n",
    "    tot = np.sum([x for x in trkCounts.values()])\n",
    "    \n",
    "    table.add_row([k, \n",
    "                   '{:.5f} +/- {:.5f}'.format(*np.array(getEff(trkCounts[0], tot))),\n",
    "                   '{:.3f} +/- {:.3f}'.format(*(1e3*np.array(getEff(trkCounts[1], tot)))),\n",
    "                   '{:.3f} +/- {:.3f}'.format(*(1e6*np.array(getEff(trkCounts[2], tot))))\n",
    "                  ])\n",
    "    \n",
    "    effData.append([k] + list(1e3*np.array(getEff(trkCounts[1], tot))) )\n",
    "    \n",
    "    mothersId = np.concatenate((np.array(df['MC_tkMotherPdgId_0'][sel_tk0.astype(np.bool)]),\n",
    "                                np.array(df['MC_tkMotherPdgId_1'][sel_tk1.astype(np.bool)])\n",
    "                               ))\n",
    "    mothersId = np.abs(np.array(mothersId).astype(np.int))\n",
    "    print 'Tracks MC mother pdgId:'\n",
    "    print np.sort(np.unique(mothersId))\n",
    "    \n",
    "    print '----------\\n'"
   ]
  },
  {
   "cell_type": "code",
   "execution_count": 80,
   "metadata": {
    "ExecuteTime": {
     "end_time": "2021-12-20T19:56:26.660203Z",
     "start_time": "2021-12-20T19:56:26.630468Z"
    }
   },
   "outputs": [
    {
     "name": "stdout",
     "output_type": "stream",
     "text": [
      "+---------------+---------------------+-----------------+---------------------+\n",
      "|     Sample    |          0          |     1 [1e-3]    |       2 [1e-6]      |\n",
      "+---------------+---------------------+-----------------+---------------------+\n",
      "|  Bd_MuDstPiPi | 0.99411 +/- 0.00036 | 5.863 +/- 0.360 |  22.294 +/- 22.294  |\n",
      "|      tau      | 0.99447 +/- 0.00016 | 5.409 +/- 0.159 |  116.879 +/- 23.374 |\n",
      "|    Bs_DstDs   | 0.99473 +/- 0.00063 | 5.266 +/- 0.628 |   0.000 +/- 0.000   |\n",
      "|  Bd_TauDstPi  | 0.99434 +/- 0.00097 | 5.489 +/- 0.953 | 166.334 +/- 166.320 |\n",
      "|  Bu_MuDstPiPi | 0.99366 +/- 0.00036 | 6.339 +/- 0.359 |   0.000 +/- 0.000   |\n",
      "|   Bs_MuDstK   | 0.99258 +/- 0.00023 | 7.214 +/- 0.225 |  204.313 +/- 37.936 |\n",
      "|   Bd_MuDstPi  | 0.99314 +/- 0.00014 | 6.739 +/- 0.143 |  116.504 +/- 18.898 |\n",
      "|  Bu_TauDstPi  | 0.99405 +/- 0.00096 | 5.946 +/- 0.962 |   0.000 +/- 0.000   |\n",
      "|    Bd_DstDd   | 0.99530 +/- 0.00038 | 4.674 +/- 0.381 |  31.158 +/- 31.157  |\n",
      "|    Bu_DstDu   | 0.99541 +/- 0.00021 | 4.501 +/- 0.207 |  86.195 +/- 28.730  |\n",
      "|       mu      | 0.99286 +/- 0.00004 | 7.002 +/- 0.036 |  140.427 +/- 5.144  |\n",
      "|    Bd_DstDs   | 0.99349 +/- 0.00020 | 6.373 +/- 0.197 |  134.177 +/- 28.605 |\n",
      "| Bd_TauDstPiPi | 0.99747 +/- 0.00061 | 2.527 +/- 0.612 |   0.000 +/- 0.000   |\n",
      "|    Bd_DstDu   | 0.99624 +/- 0.00021 | 3.760 +/- 0.210 |   0.000 +/- 0.000   |\n",
      "| Bu_TauDstPiPi | 0.99532 +/- 0.00081 | 4.678 +/- 0.812 |   0.000 +/- 0.000   |\n",
      "|   Bs_TauDstK  | 0.99568 +/- 0.00094 | 4.318 +/- 0.940 |   0.000 +/- 0.000   |\n",
      "|   Bu_MuDstPi  | 0.99288 +/- 0.00011 | 7.077 +/- 0.108 |   46.145 +/- 8.720  |\n",
      "|    Bu_DstDd   | 0.99581 +/- 0.00039 | 4.195 +/- 0.389 |   0.000 +/- 0.000   |\n",
      "+---------------+---------------------+-----------------+---------------------+\n"
     ]
    }
   ],
   "source": [
    "print table"
   ]
  },
  {
   "cell_type": "code",
   "execution_count": 111,
   "metadata": {
    "ExecuteTime": {
     "end_time": "2021-12-20T20:07:22.695914Z",
     "start_time": "2021-12-20T20:07:22.466784Z"
    }
   },
   "outputs": [
    {
     "data": {
      "text/plain": [
       "<matplotlib.text.Text at 0x1491c7e758d0>"
      ]
     },
     "execution_count": 111,
     "metadata": {},
     "output_type": "execute_result"
    },
    {
     "data": {
      "image/png": "[encoded data removed]",
      "text/plain": [
       "<matplotlib.figure.Figure at 0x1491cc868050>"
      ]
     },
     "metadata": {},
     "output_type": "display_data"
    }
   ],
   "source": [
    "effData=np.array(effData)\n",
    "plt.errorbar(np.arange(len(effData)), effData[:,1].astype(np.float), yerr=effData[:,2].astype(np.float), fmt='.')\n",
    "\n",
    "plt.xlim(-1, len(effData))\n",
    "plt.gca().set_xticks(np.arange(-1,len(effData)))\n",
    "plt.gca().set_xticklabels([''] + list(effData[:,0]))\n",
    "plt.xticks(rotation=90)\n",
    "plt.grid()\n",
    "plt.ylabel('Probability of 1 tracks from PV (not from B) [1e-3]')"
   ]
  },
  {
   "cell_type": "code",
   "execution_count": null,
   "metadata": {},
   "outputs": [],
   "source": []
  }
 ],
 "metadata": {
  "kernelspec": {
   "display_name": "Python 2",
   "language": "python",
   "name": "python2"
  },
  "language_info": {
   "codemirror_mode": {
    "name": "ipython",
    "version": 2
   },
   "file_extension": ".py",
   "mimetype": "text/x-python",
   "name": "python",
   "nbconvert_exporter": "python",
   "pygments_lexer": "ipython2",
   "version": "2.7.14+"
  },
  "varInspector": {
   "cols": {
    "lenName": 16,
    "lenType": 16,
    "lenVar": 40
   },
   "kernels_config": {
    "python": {
     "delete_cmd_postfix": "",
     "delete_cmd_prefix": "del ",
     "library": "var_list.py",
     "varRefreshCmd": "print(var_dic_list())"
    },
    "r": {
     "delete_cmd_postfix": ") ",
     "delete_cmd_prefix": "rm(",
     "library": "var_list.r",
     "varRefreshCmd": "cat(var_dic_list()) "
    }
   },
   "types_to_exclude": [
    "module",
    "function",
    "builtin_function_or_method",
    "instance",
    "_Feature"
   ],
   "window_display": false
  }
 },
 "nbformat": 4,
 "nbformat_minor": 2
}
