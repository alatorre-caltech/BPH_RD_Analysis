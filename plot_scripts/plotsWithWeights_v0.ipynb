{
 "cells": [
  {
   "cell_type": "code",
   "execution_count": 36,
   "metadata": {
    "ExecuteTime": {
     "end_time": "2022-01-17T22:26:25.912510Z",
     "start_time": "2022-01-17T22:26:25.888200Z"
    }
   },
   "outputs": [],
   "source": [
    "import sys, os, pickle, time, json, yaml, re\n",
    "from glob import glob\n",
    "sys.path.append('../lib')\n",
    "sys.path.append('../analysis')\n",
    "import numpy as np\n",
    "import pandas as pd\n",
    "import root_numpy as rtnp\n",
    "from analysis_utilities import drawOnCMSCanvas, getEff, DSetLoader\n",
    "from collections import Counter\n",
    "from prettytable import PrettyTable\n",
    "import matplotlib.pyplot as plt\n",
    "from scipy.stats import chi2 as scipy_chi2\n",
    "from histo_utilities import create_TH1D, make_ratio_plot, create_TH2D, std_color_list"
   ]
  },
  {
   "cell_type": "code",
   "execution_count": 24,
   "metadata": {
    "ExecuteTime": {
     "end_time": "2022-01-17T22:11:12.042937Z",
     "start_time": "2022-01-17T22:11:11.539162Z"
    }
   },
   "outputs": [],
   "source": [
    "import CMS_lumi, tdrstyle\n",
    "tdrstyle.setTDRStyle()\n",
    "CMS_lumi.writeExtraText = 1\n",
    "\n",
    "\n",
    "CMS_lumi.extraText = 6*' ' + 'Simulation Internal'"
   ]
  },
  {
   "cell_type": "code",
   "execution_count": 3,
   "metadata": {
    "ExecuteTime": {
     "end_time": "2022-01-17T21:41:14.961440Z",
     "start_time": "2022-01-17T21:41:14.210186Z"
    }
   },
   "outputs": [],
   "source": [
    "candDir='ntuples_B2DstMu_220114'\n",
    "skimmedTag='_220117_lostInnerHits_fullM2miss'\n",
    "MCsample = {\n",
    "######## Signals\n",
    "'tau': DSetLoader('Bd_TauNuDst', candDir=candDir, skimmedTag=skimmedTag),\n",
    "'mu': DSetLoader('Bd_MuNuDst', candDir=candDir, skimmedTag=skimmedTag),\n",
    "######## D** background\n",
    "'Bu_MuDstPi': DSetLoader('Bu_MuNuDstPi', candDir=candDir, skimmedTag=skimmedTag),\n",
    "'Bd_MuDstPi': DSetLoader('Bd_MuNuDstPi', candDir=candDir, skimmedTag=skimmedTag),\n",
    "# 'Bd_MuDstPiPi': DSetLoader('Bd_MuNuDstPiPi', candDir=candDir, skimmedTag=args.skimmedTag),\n",
    "'Bd_MuDstPiPi': DSetLoader('Bd_MuNuDstPiPi_v2', candDir=candDir, skimmedTag=skimmedTag),\n",
    "'Bu_MuDstPiPi': DSetLoader('Bu_MuNuDstPiPi', candDir=candDir, skimmedTag=skimmedTag),\n",
    "'Bu_TauDstPi': DSetLoader('Bu_TauNuDstPi', candDir=candDir, skimmedTag=skimmedTag),\n",
    "'Bd_TauDstPi': DSetLoader('Bd_TauNuDstPi', candDir=candDir, skimmedTag=skimmedTag),\n",
    "'Bd_TauDstPiPi': DSetLoader('Bd_TauNuDstPiPi', candDir=candDir, skimmedTag=skimmedTag),\n",
    "'Bu_TauDstPiPi': DSetLoader('Bu_TauNuDstPiPi', candDir=candDir, skimmedTag=skimmedTag),\n",
    "'Bs_MuDstK': DSetLoader('Bs_MuNuDstK', candDir=candDir, skimmedTag=skimmedTag),\n",
    "'Bs_TauDstK': DSetLoader('Bs_TauNuDstK', candDir=candDir, skimmedTag=skimmedTag),\n",
    "######## D*Hc background\n",
    "'Bd_DstDu': DSetLoader('Bd_DstDu', candDir=candDir, skimmedTag=skimmedTag),\n",
    "'Bu_DstDu': DSetLoader('Bu_DstDu', candDir=candDir, skimmedTag=skimmedTag),\n",
    "'Bd_DstDd': DSetLoader('Bd_DstDd', candDir=candDir, skimmedTag=skimmedTag),\n",
    "'Bu_DstDd': DSetLoader('Bu_DstDd', candDir=candDir, skimmedTag=skimmedTag),\n",
    "'Bd_DstDs': DSetLoader('Bd_DstDs', candDir=candDir, skimmedTag=skimmedTag),\n",
    "'Bs_DstDs': DSetLoader('Bs_DstDs', candDir=candDir, skimmedTag=skimmedTag),\n",
    "}"
   ]
  },
  {
   "cell_type": "code",
   "execution_count": 9,
   "metadata": {
    "ExecuteTime": {
     "end_time": "2022-01-17T21:42:24.621586Z",
     "start_time": "2022-01-17T21:42:24.604454Z"
    }
   },
   "outputs": [
    {
     "data": {
      "text/plain": [
       "'/storage/af/group/rdst_analysis/BPhysics/data/cmsMC/CP_BdToDstarMuNu_SoftQCDnonD_TuneCP5_13TeV-pythia8-evtgen/ntuples_B2DstMu_220114/skimmed_220117_lostInnerHits_fullM2miss'"
      ]
     },
     "execution_count": 9,
     "metadata": {},
     "output_type": "execute_result"
    }
   ],
   "source": [
    "MCsample['mu'].skimmed_dir"
   ]
  },
  {
   "cell_type": "code",
   "execution_count": 10,
   "metadata": {
    "ExecuteTime": {
     "end_time": "2022-01-17T21:45:58.784060Z",
     "start_time": "2022-01-17T21:44:36.431255Z"
    }
   },
   "outputs": [],
   "source": [
    "df = {}\n",
    "df['mu'] = pd.DataFrame(rtnp.root2array(MCsample['mu'].skimmed_dir + '/High_bare.root'))"
   ]
  },
  {
   "cell_type": "code",
   "execution_count": 12,
   "metadata": {
    "ExecuteTime": {
     "end_time": "2022-01-17T21:50:19.146772Z",
     "start_time": "2022-01-17T21:49:54.736385Z"
    }
   },
   "outputs": [],
   "source": [
    "weights = pd.DataFrame(rtnp.root2array(\n",
    "    MCsample['mu'].skimmed_dir + '/weights/High_bare_test_high_CLN_blinded.root'\n",
    "))"
   ]
  },
  {
   "cell_type": "code",
   "execution_count": 14,
   "metadata": {
    "ExecuteTime": {
     "end_time": "2022-01-17T21:52:03.481182Z",
     "start_time": "2022-01-17T21:52:03.444082Z"
    }
   },
   "outputs": [],
   "source": [
    "df['mu']['w'] = weights['central']"
   ]
  },
  {
   "cell_type": "code",
   "execution_count": 73,
   "metadata": {
    "ExecuteTime": {
     "end_time": "2022-01-17T23:54:12.862295Z",
     "start_time": "2022-01-17T23:54:04.392647Z"
    }
   },
   "outputs": [],
   "source": [
    "dataLoc = '/storage/af/group/rdst_analysis/BPhysics/data/cmsRD/'\n",
    "df['data'] = pd.DataFrame(rtnp.root2array(\n",
    "    dataLoc+'skimmed_220117_lostInnerHits_fullM2miss/B2DstMu_220113_High_corr.root'))"
   ]
  },
  {
   "cell_type": "markdown",
   "metadata": {},
   "source": [
    "# Draw plots"
   ]
  },
  {
   "cell_type": "code",
   "execution_count": 17,
   "metadata": {
    "ExecuteTime": {
     "end_time": "2022-01-17T22:00:25.961271Z",
     "start_time": "2022-01-17T22:00:25.935823Z"
    }
   },
   "outputs": [],
   "source": [
    "binning = {}\n",
    "binning['q2'] = [0, 3.5, 6, 9.4, 12]\n",
    "\n",
    "negSide = [-2.5, -1.5, -1.0, -0.6, -0.4, -0.2]\n",
    "binning['M2_miss'] = [\n",
    "    negSide + [0., 0.1, 0.2, 0.3, 0.4, 0.5, 0.75, 1, 1.5, 4],\n",
    "    negSide + [0.0, 0.1, 0.2, 0.3] + list(np.arange(0.4, 3.5, 0.2)) + [8],\n",
    "    negSide + list(np.arange(0, 6, 0.2)) + [8],\n",
    "    negSide + list(np.arange(0, 7.8, 0.2)) + [8],\n",
    "]"
   ]
  },
  {
   "cell_type": "code",
   "execution_count": 77,
   "metadata": {
    "ExecuteTime": {
     "end_time": "2022-01-18T00:58:24.084108Z",
     "start_time": "2022-01-18T00:58:23.552047Z"
    }
   },
   "outputs": [
    {
     "name": "stdout",
     "output_type": "stream",
     "text": [
      "Innner lost reduction: 85.8%\n"
     ]
    },
    {
     "name": "stderr",
     "output_type": "stream",
     "text": [
      "Warning in <TROOT::Append>: Replacing existing TH1: h_base (Potential memory leak).\n",
      "Warning in <TROOT::Append>: Replacing existing TH1: h_eig2Up (Potential memory leak).\n",
      "Warning in <TROOT::Append>: Replacing existing TH1: h_noLostHits (Potential memory leak).\n",
      "Warning in <TCanvas::Constructor>: Deleting canvas with same name: c_out_ratio\n"
     ]
    },
    {
     "data": {
      "image/png": "[encoded data removed]",
      "text/plain": [
       "<IPython.core.display.Image object>"
      ]
     },
     "metadata": {},
     "output_type": "display_data"
    }
   ],
   "source": [
    "sel = df['mu']['q2'] < 3.5\n",
    "h_base = create_TH1D(df['mu']['M2_miss'][sel], 'h_base', weights=df['mu']['w'][sel], color=0,\n",
    "         binning=np.array(binning['M2_miss'][0]), widthNorm=True)\n",
    "\n",
    "h_eig2Up = create_TH1D(df['mu']['M2_miss'][sel], 'h_eig2Up', weights=weights['B2DstCLNeig2Up'][sel], color=1,\n",
    "                       binning=h_base.binning, widthNorm=True)\n",
    "\n",
    "nBefore = np.sum(sel)\n",
    "for p in ['pis', 'K', 'pi']:\n",
    "    sel = np.logical_and(sel, df['mu'][p+'_lostInnerHits'] <= 0)\n",
    "redF = np.sum(sel)/float(nBefore)\n",
    "print 'Innner lost reduction: {:.1f}%'.format(100*redF)\n",
    "\n",
    "h_noLostHits = create_TH1D(df['mu']['M2_miss'][sel], 'h_noLostHits', weights=df['mu']['w'][sel], color=2,\n",
    "                       binning=h_base.binning, widthNorm=True)\n",
    "\n",
    "h_noLostHits_rescaled = h_noLostHits.Clone('h_noLostHits_rescaled')\n",
    "h_noLostHits_rescaled.SetTitle(h_noLostHits_rescaled.GetName())\n",
    "h_noLostHits_rescaled.SetLineColor(std_color_list[3])\n",
    "h_noLostHits_rescaled.Scale(1./redF)\n",
    "\n",
    "h_base.SetXTitle('M^{2}_{miss} [GeV]')\n",
    "c = make_ratio_plot([h_base, h_eig2Up, h_noLostHits, h_noLostHits_rescaled], ratio_bounds=[0.9, 1.05], \n",
    "                    leg_pos=[0.6, 0.7, 0.92, 0.9])\n",
    "c.Draw()"
   ]
  },
  {
   "cell_type": "code",
   "execution_count": 80,
   "metadata": {
    "ExecuteTime": {
     "end_time": "2022-01-18T01:00:14.792598Z",
     "start_time": "2022-01-18T01:00:14.770180Z"
    }
   },
   "outputs": [
    {
     "name": "stdout",
     "output_type": "stream",
     "text": [
      "14273.871036\n"
     ]
    }
   ],
   "source": [
    "h_diff = h_eig2Up.Clone('h_diff')\n",
    "h_diff.Add(h_base, -1)\n",
    "\n",
    "s = 0\n",
    "for i in range(1, h_diff.GetNbinsX()+1):\n",
    "    s += h_diff.GetBinContent(i)\n",
    "\n",
    "print s"
   ]
  },
  {
   "cell_type": "code",
   "execution_count": 76,
   "metadata": {
    "ExecuteTime": {
     "end_time": "2022-01-17T23:55:45.232308Z",
     "start_time": "2022-01-17T23:55:45.108691Z"
    }
   },
   "outputs": [
    {
     "name": "stdout",
     "output_type": "stream",
     "text": [
      "Innner lost reduction: 81.8%\n"
     ]
    },
    {
     "name": "stderr",
     "output_type": "stream",
     "text": [
      "Warning in <TROOT::Append>: Replacing existing TH1: h_base (Potential memory leak).\n",
      "Warning in <TROOT::Append>: Replacing existing TH1: h_noLostHits (Potential memory leak).\n",
      "Warning in <TCanvas::Constructor>: Deleting canvas with same name: c_out_ratio\n"
     ]
    },
    {
     "data": {
      "image/png": "[encoded data removed]",
      "text/plain": [
       "<IPython.core.display.Image object>"
      ]
     },
     "metadata": {},
     "output_type": "display_data"
    }
   ],
   "source": [
    "sel = df['data']['q2'] < 3.5\n",
    "h_base = create_TH1D(df['data']['M2_miss'][sel], 'h_base', color=0,\n",
    "         binning=np.array(binning['M2_miss'][0]), widthNorm=True)\n",
    "\n",
    "nBefore = np.sum(sel)\n",
    "for p in ['pis', 'K', 'pi']:\n",
    "    sel = np.logical_and(sel, df['data'][p+'_lostInnerHits'] <= 0)\n",
    "redF = np.sum(sel)/float(nBefore)\n",
    "print 'Innner lost reduction: {:.1f}%'.format(100*redF)\n",
    "\n",
    "h_noLostHits = create_TH1D(df['data']['M2_miss'][sel], 'h_noLostHits', color=2,\n",
    "                       binning=h_base.binning, widthNorm=True)\n",
    "\n",
    "h_noLostHits_rescaled = h_noLostHits.Clone('h_noLostHits_rescaled')\n",
    "h_noLostHits_rescaled.SetTitle(h_noLostHits_rescaled.GetName())\n",
    "h_noLostHits_rescaled.SetLineColor(std_color_list[3])\n",
    "h_noLostHits_rescaled.Scale(1./redF)\n",
    "\n",
    "h_base.SetXTitle('M^{2}_{miss} [GeV]')\n",
    "c = make_ratio_plot([h_base, h_noLostHits, h_noLostHits_rescaled], ratio_bounds=[0.9, 1.05],\n",
    "                    leg_pos=[0.6, 0.7, 0.92, 0.9])\n",
    "c.Draw()"
   ]
  },
  {
   "cell_type": "code",
   "execution_count": 97,
   "metadata": {
    "ExecuteTime": {
     "end_time": "2022-01-18T01:29:34.252888Z",
     "start_time": "2022-01-18T01:29:33.145225Z"
    }
   },
   "outputs": [
    {
     "name": "stderr",
     "output_type": "stream",
     "text": [
      "Warning in <TROOT::Append>: Replacing existing TH1: h_base (Potential memory leak).\n",
      "Warning in <TCanvas::Constructor>: Deleting canvas with same name: c\n"
     ]
    },
    {
     "data": {
      "image/png": "[encoded data removed]",
      "text/plain": [
       "<IPython.core.display.Image object>"
      ]
     },
     "metadata": {},
     "output_type": "display_data"
    }
   ],
   "source": [
    "sel = df['mu']['q2'] < 3.5\n",
    "h_base = create_TH2D(np.array(df['mu'][sel][['M2_miss', 'B_pt']]), 'h_base', \n",
    "                     weights=df['mu']['w'][sel], axis_title=['M2_miss', 'B_pt', ''],\n",
    "                     binning=[np.array(binning['M2_miss'][0]),  np.logspace(1, 2.1, 50)])\n",
    "h_base.Scale(1., 'width')\n",
    "\n",
    "c = drawOnCMSCanvas(CMS_lumi, [h_base], ['colz'], mR=0.12)\n",
    "c.SetLogz()"
   ]
  },
  {
   "cell_type": "code",
   "execution_count": 98,
   "metadata": {
    "ExecuteTime": {
     "end_time": "2022-01-18T01:30:28.129377Z",
     "start_time": "2022-01-18T01:30:27.211234Z"
    }
   },
   "outputs": [
    {
     "data": {
      "text/html": [
       "<div>\n",
       "<style scoped>\n",
       "    .dataframe tbody tr th:only-of-type {\n",
       "        vertical-align: middle;\n",
       "    }\n",
       "\n",
       "    .dataframe tbody tr th {\n",
       "        vertical-align: top;\n",
       "    }\n",
       "\n",
       "    .dataframe thead th {\n",
       "        text-align: right;\n",
       "    }\n",
       "</style>\n",
       "<table border=\"1\" class=\"dataframe\">\n",
       "  <thead>\n",
       "    <tr style=\"text-align: right;\">\n",
       "      <th></th>\n",
       "      <th>M2_miss</th>\n",
       "      <th>B_pt</th>\n",
       "    </tr>\n",
       "  </thead>\n",
       "  <tbody>\n",
       "    <tr>\n",
       "      <th>M2_miss</th>\n",
       "      <td>1.000000</td>\n",
       "      <td>0.196757</td>\n",
       "    </tr>\n",
       "    <tr>\n",
       "      <th>B_pt</th>\n",
       "      <td>0.196757</td>\n",
       "      <td>1.000000</td>\n",
       "    </tr>\n",
       "  </tbody>\n",
       "</table>\n",
       "</div>"
      ],
      "text/plain": [
       "          M2_miss      B_pt\n",
       "M2_miss  1.000000  0.196757\n",
       "B_pt     0.196757  1.000000"
      ]
     },
     "execution_count": 98,
     "metadata": {},
     "output_type": "execute_result"
    }
   ],
   "source": [
    "sel = np.logical_and(df['mu']['q2'] < 3.5, df['mu']['M2_miss'] > 0.2)\n",
    "df['mu'][sel][['M2_miss', 'B_pt']].corr()"
   ]
  },
  {
   "cell_type": "code",
   "execution_count": null,
   "metadata": {},
   "outputs": [],
   "source": []
  }
 ],
 "metadata": {
  "kernelspec": {
   "display_name": "Python 2",
   "language": "python",
   "name": "python2"
  },
  "language_info": {
   "codemirror_mode": {
    "name": "ipython",
    "version": 2
   },
   "file_extension": ".py",
   "mimetype": "text/x-python",
   "name": "python",
   "nbconvert_exporter": "python",
   "pygments_lexer": "ipython2",
   "version": "2.7.14+"
  },
  "varInspector": {
   "cols": {
    "lenName": 16,
    "lenType": 16,
    "lenVar": 40
   },
   "kernels_config": {
    "python": {
     "delete_cmd_postfix": "",
     "delete_cmd_prefix": "del ",
     "library": "var_list.py",
     "varRefreshCmd": "print(var_dic_list())"
    },
    "r": {
     "delete_cmd_postfix": ") ",
     "delete_cmd_prefix": "rm(",
     "library": "var_list.r",
     "varRefreshCmd": "cat(var_dic_list()) "
    }
   },
   "types_to_exclude": [
    "module",
    "function",
    "builtin_function_or_method",
    "instance",
    "_Feature"
   ],
   "window_display": false
  }
 },
 "nbformat": 4,
 "nbformat_minor": 2
}
