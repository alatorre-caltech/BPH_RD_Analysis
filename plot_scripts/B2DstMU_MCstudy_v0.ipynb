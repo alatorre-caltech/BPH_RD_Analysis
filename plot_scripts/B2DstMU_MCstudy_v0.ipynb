{
 "cells": [
  {
   "cell_type": "code",
   "execution_count": 1,
   "metadata": {
    "ExecuteTime": {
     "end_time": "2019-11-04T20:29:09.095999Z",
     "start_time": "2019-11-04T20:29:07.395503Z"
    }
   },
   "outputs": [
    {
     "name": "stdout",
     "output_type": "stream",
     "text": [
      "Welcome to JupyROOT 6.12/07\n"
     ]
    }
   ],
   "source": [
    "import numpy as np\n",
    "import scipy.stats as sps\n",
    "from glob import glob\n",
    "import matplotlib.pyplot as plt\n",
    "import uproot as ur\n",
    "import ROOT as rt\n",
    "import ROOT.RooFit as rf\n",
    "from scipy.special import erf\n",
    "import sys, os\n",
    "sys.path.append('../lib')\n",
    "from histo_utilities import create_TH1D, create_TH2D, std_color_list, SetMaxToMaxHist, make_ratio_plot\n",
    "from cebefo_style import Set_2D_colz_graphics\n",
    "from progressBar import ProgressBar\n",
    "\n",
    "from analysis_utilities import drawOnCMSCanvas, extarct, extarct_multiple, createSel\n",
    "from lumi_utilities import getLumiReport\n",
    "\n",
    "import CMS_lumi, tdrstyle\n",
    "tdrstyle.setTDRStyle()\n",
    "CMS_lumi.writeExtraText = 1\n",
    "CMS_lumi.extraText = \"     Simulation Preliminary\"\n",
    "\n",
    "donotdelete = []"
   ]
  },
  {
   "cell_type": "code",
   "execution_count": 2,
   "metadata": {
    "ExecuteTime": {
     "end_time": "2019-11-04T20:29:09.132152Z",
     "start_time": "2019-11-04T20:29:09.100094Z"
    }
   },
   "outputs": [],
   "source": [
    "rt.gErrorIgnoreLevel = rt.kError\n",
    "rt.RooMsgService.instance().setGlobalKillBelow(rt.RooFit.ERROR)"
   ]
  },
  {
   "cell_type": "code",
   "execution_count": 3,
   "metadata": {
    "ExecuteTime": {
     "end_time": "2019-11-04T20:29:09.153564Z",
     "start_time": "2019-11-04T20:29:09.136898Z"
    }
   },
   "outputs": [
    {
     "name": "stdout",
     "output_type": "stream",
     "text": [
      "mD* - mD0 = 0.14543\n"
     ]
    }
   ],
   "source": [
    "m_pi = 0.13957\n",
    "m_K = 0.49368\n",
    "m_D0 = 1.86483 #1e-3*Particle.from_string('D0').mass\n",
    "m_Dst = 2.01026 #1e-3*Particle.from_string('D*+').mass\n",
    "m_B0 = 5.27963 #1e-3*Particle.from_string('B0').mass\n",
    "m_pi = 0.13957018 #1e-3*Particle.from_string('pi+').mass\n",
    "print 'mD* - mD0 =', m_Dst - m_D0"
   ]
  },
  {
   "cell_type": "code",
   "execution_count": 4,
   "metadata": {
    "ExecuteTime": {
     "end_time": "2019-11-04T20:29:09.179242Z",
     "start_time": "2019-11-04T20:29:09.157774Z"
    }
   },
   "outputs": [],
   "source": [
    "cl = rt.TLine()\n",
    "cl.SetLineColor(6)\n",
    "cl.SetLineStyle(9)\n",
    "cl.SetLineWidth(2)"
   ]
  },
  {
   "cell_type": "code",
   "execution_count": 5,
   "metadata": {
    "ExecuteTime": {
     "end_time": "2019-11-04T20:29:09.200548Z",
     "start_time": "2019-11-04T20:29:09.183256Z"
    }
   },
   "outputs": [],
   "source": [
    "import operator\n",
    "ops = {'>': operator.gt, '<': operator.lt, }"
   ]
  },
  {
   "cell_type": "markdown",
   "metadata": {},
   "source": [
    "# Load data"
   ]
  },
  {
   "cell_type": "code",
   "execution_count": 6,
   "metadata": {
    "ExecuteTime": {
     "end_time": "2019-11-04T20:29:09.221237Z",
     "start_time": "2019-11-04T20:29:09.205203Z"
    }
   },
   "outputs": [],
   "source": [
    "dataDir = '../data/cmsMC_private/'\n",
    "datasets_loc = []\n",
    "\n",
    "datasets_loc += glob(dataDir + 'BPH_Tag-B0_TauNuDmst-pD0bar-kp-t2mnn_pythia8_Hardbbbar_PTFilter5_0p0-evtgen_ISGW2_PU20_10-2-3/ntuples_B2DstMu/out_CAND_*.root')"
   ]
  },
  {
   "cell_type": "code",
   "execution_count": 7,
   "metadata": {
    "ExecuteTime": {
     "end_time": "2019-11-04T20:29:09.563862Z",
     "start_time": "2019-11-04T20:29:09.298406Z"
    }
   },
   "outputs": [
    {
     "name": "stdout",
     "output_type": "stream",
     "text": [
      "N evts: 81453\n"
     ]
    }
   ],
   "source": [
    "tree = rt.TChain('outA/Tevts')\n",
    "\n",
    "for floc in datasets_loc:\n",
    "    tree.Add(floc)\n",
    "\n",
    "print 'N evts: {:.0f}'.format(tree.GetEntries())"
   ]
  },
  {
   "cell_type": "markdown",
   "metadata": {},
   "source": [
    "# Cuts declaration"
   ]
  },
  {
   "cell_type": "code",
   "execution_count": 8,
   "metadata": {
    "ExecuteTime": {
     "end_time": "2019-11-04T20:29:10.817312Z",
     "start_time": "2019-11-04T20:29:10.802256Z"
    }
   },
   "outputs": [],
   "source": [
    "cut_general = [\n",
    "    'n_B == 1',\n",
    "    'trgMu_pt > 12.1',\n",
    "    'trgMu_sigdxy > 7',\n",
    "    'fabs(trgMu_eta) < 2.4'\n",
    "]"
   ]
  },
  {
   "cell_type": "markdown",
   "metadata": {},
   "source": [
    "# $D_0$ reconstruction"
   ]
  },
  {
   "cell_type": "code",
   "execution_count": 9,
   "metadata": {
    "ExecuteTime": {
     "end_time": "2019-11-04T20:29:12.034435Z",
     "start_time": "2019-11-04T20:29:12.018653Z"
    }
   },
   "outputs": [],
   "source": [
    "cut_piK = [\n",
    "####----- Trigger-like cuts -----#\n",
    "'K_pt > 0.8',\n",
    "'pi_pt > 0.8',\n",
    "'pval_piK > 0.1',\n",
    "'fabs(K_eta) < 2.4',\n",
    "'fabs(pi_eta) < 2.4'\n",
    "    \n",
    "# 'cosT_Jpsi_PV > 0.95',\n",
    "# 'sigdxy_K_PV > 2',\n",
    "# 'mup_dxy < 2',\n",
    "]"
   ]
  },
  {
   "cell_type": "code",
   "execution_count": 10,
   "metadata": {
    "ExecuteTime": {
     "end_time": "2019-11-04T20:29:14.659015Z",
     "start_time": "2019-11-04T20:29:14.642340Z"
    }
   },
   "outputs": [
    {
     "name": "stdout",
     "output_type": "stream",
     "text": [
      "n_B == 1 && trgMu_pt > 12.1 && trgMu_sigdxy > 7 && fabs(trgMu_eta) < 2.4 && K_pt > 0.8 && pi_pt > 0.8 && pval_piK > 0.1 && fabs(K_eta) < 2.4 && fabs(pi_eta) < 2.4\n"
     ]
    }
   ],
   "source": [
    "cut_str = ' && '.join(cut_general + cut_piK)\n",
    "print cut_str"
   ]
  },
  {
   "cell_type": "code",
   "execution_count": 15,
   "metadata": {
    "ExecuteTime": {
     "end_time": "2019-11-04T22:07:47.138944Z",
     "start_time": "2019-11-04T22:07:46.211793Z"
    }
   },
   "outputs": [
    {
     "data": {
      "image/png": "[encoded data removed]",
      "text/plain": [
       "<IPython.core.display.Image object>"
      ]
     },
     "metadata": {},
     "output_type": "display_data"
    }
   ],
   "source": [
    "h = create_TH1D(np.zeros(0), name='h',\n",
    "                title='',\n",
    "                axis_title=['m(#piK) [GeV]', 'Events'],\n",
    "                binning=[70, 1.75, 1.93]\n",
    "               )\n",
    "tree.Project('h', 'massb_piK', cut_str)\n",
    "h.Sumw2()\n",
    "\n",
    "h2 = create_TH1D(np.zeros(0), name='h2', binning=h.binning)\n",
    "tree.Project('h2', 'massb_piK', cut_str + ' && pi_N_valid_hits > 12 && K_N_valid_hits > 12')\n",
    "h2.Sumw2()\n",
    "h2.SetLineColor(rt.kRed)\n",
    "\n",
    "h3 = create_TH1D(np.zeros(0), name='h3', binning=h.binning)\n",
    "tree.Project('h3', 'massb_piK', cut_str + ' && hypot(abs(pi_phi - MC_pi_phi) > 3.14159? pi_phi - MC_pi_phi - 2*3.14159*TMath::Sign(1, pi_phi - MC_pi_phi): pi_phi - MC_pi_phi, pi_eta - MC_pi_eta) < 0.1')\n",
    "h3.Sumw2()\n",
    "h3.SetLineColor(rt.kGreen)\n",
    "\n",
    "c = drawOnCMSCanvas(CMS_lumi, [h, h2, h3], 'same')\n",
    "c.Draw()\n",
    "h.GetYaxis().SetRangeUser(0.9, 1.2*h.GetMaximum())"
   ]
  },
  {
   "cell_type": "code",
   "execution_count": 16,
   "metadata": {},
   "outputs": [
    {
     "name": "stdout",
     "output_type": "stream",
     "text": [
      "15278.0\n",
      "12513.0\n"
     ]
    }
   ],
   "source": [
    "print h.GetEntries()\n",
    "print h2.GetEntries()"
   ]
  },
  {
   "cell_type": "code",
   "execution_count": 12,
   "metadata": {
    "ExecuteTime": {
     "end_time": "2019-11-04T22:16:15.277682Z",
     "start_time": "2019-11-04T22:16:14.794514Z"
    }
   },
   "outputs": [
    {
     "name": "stdout",
     "output_type": "stream",
     "text": [
      "15278.0\n"
     ]
    },
    {
     "data": {
      "image/png": "[encoded data removed]",
      "text/plain": [
       "<IPython.core.display.Image object>"
      ]
     },
     "metadata": {},
     "output_type": "display_data"
    }
   ],
   "source": [
    "h = create_TH2D(np.zeros((2,2)), name='h',\n",
    "                title='',\n",
    "                axis_title=['m(#pi^{-}K^{+}) [GeV]', '#Delta R', 'Events'],\n",
    "                binning=[np.linspace(1.76, 1.92, 50), np.logspace(-5, 1, 50)]\n",
    "               )\n",
    "tree.Project('h', 'max(hypot(abs(pi_phi - MC_pi_phi) > 3.14159? pi_phi - MC_pi_phi - 2*3.14159*TMath::Sign(1, pi_phi - MC_pi_phi): pi_phi - MC_pi_phi, pi_eta - MC_pi_eta), hypot(abs(K_phi - MC_K_phi) > 3.14159? K_phi - MC_K_phi - 2*3.14159*TMath::Sign(1, K_phi - MC_K_phi): K_phi - MC_K_phi, K_eta - MC_K_eta)):mass_piK', cut_str)\n",
    "h.Sumw2()\n",
    "print h.GetEntries()\n",
    "\n",
    "\n",
    "                                   \n",
    "c = drawOnCMSCanvas(CMS_lumi, [h], ['colz'])\n",
    "c.SetLogy()\n",
    "c.Draw()"
   ]
  },
  {
   "cell_type": "code",
   "execution_count": 13,
   "metadata": {
    "ExecuteTime": {
     "end_time": "2019-11-04T22:16:35.308213Z",
     "start_time": "2019-11-04T22:16:34.985387Z"
    }
   },
   "outputs": [
    {
     "name": "stdout",
     "output_type": "stream",
     "text": [
      "15278.0\n"
     ]
    },
    {
     "data": {
      "image/png": "[encoded data removed]",
      "text/plain": [
       "<IPython.core.display.Image object>"
      ]
     },
     "metadata": {},
     "output_type": "display_data"
    }
   ],
   "source": [
    "h = create_TH2D(np.zeros((2,2)), name='h',\n",
    "                title='',\n",
    "                axis_title=['m(#pi^{-}K^{+}) [GeV]', 'm(D_{0}#pi_{s}) [GeV]', 'Events'],\n",
    "                binning=[50, 1.76, 1.92, 50, 1.95, 2.065]\n",
    "               )\n",
    "tree.Project('h', 'mass_D0pis:mass_piK', cut_str)\n",
    "h.Sumw2()\n",
    "print h.GetEntries()\n",
    "                         \n",
    "c = drawOnCMSCanvas(CMS_lumi, [h], ['colz'])\n",
    "c.SetLogz()\n",
    "cl.DrawLine(1.76, 1.76+0.16, 1.91, 1.91+0.16)\n",
    "c.Draw()"
   ]
  },
  {
   "cell_type": "code",
   "execution_count": 14,
   "metadata": {
    "ExecuteTime": {
     "end_time": "2019-11-04T22:16:54.832614Z",
     "start_time": "2019-11-04T22:16:54.290413Z"
    }
   },
   "outputs": [
    {
     "data": {
      "image/png": "[encoded data removed]",
      "text/plain": [
       "<IPython.core.display.Image object>"
      ]
     },
     "metadata": {},
     "output_type": "display_data"
    }
   ],
   "source": [
    "h = create_TH1D(np.zeros(0), name='h',\n",
    "                title='',\n",
    "                axis_title=['m(#piK) [GeV]', 'Events'],\n",
    "                binning=[70, 1.75, 1.93]\n",
    "               )\n",
    "tree.Project('h', 'mass_piK', cut_str)\n",
    "h.Sumw2()\n",
    "\n",
    "h2 = create_TH1D(np.zeros(0), name='h2', binning=h.binning)\n",
    "tree.Project('h2', 'mass_piK', cut_str + ' && mass_D0pis < mass_piK + 0.16')\n",
    "h2.Sumw2()\n",
    "h2.SetLineColor(rt.kRed)\n",
    "\n",
    "c = drawOnCMSCanvas(CMS_lumi, [h, h2], 'same')\n",
    "c.Draw()\n",
    "h.GetYaxis().SetRangeUser(0.9, 1.2*h.GetMaximum())"
   ]
  },
  {
   "cell_type": "code",
   "execution_count": 17,
   "metadata": {
    "ExecuteTime": {
     "end_time": "2019-11-04T22:54:15.371864Z",
     "start_time": "2019-11-04T22:54:15.354552Z"
    }
   },
   "outputs": [
    {
     "data": {
      "text/plain": [
       "['pval_piK > 0.1',\n",
       " 'K_pt > 0.8',\n",
       " 'abs(mass_piK - 1.86) < 0.04',\n",
       " 'mass_D0pis < mass_piK + 0.16',\n",
       " 'fabs(K_eta) < 2.4',\n",
       " 'fabs(pi_eta) < 2.4',\n",
       " 'pi_pt > 0.8']"
      ]
     },
     "execution_count": 17,
     "metadata": {},
     "output_type": "execute_result"
    }
   ],
   "source": [
    "cut_piK += ['mass_D0pis < mass_piK + 0.16', 'abs(mass_piK - 1.86) < 0.04']\n",
    "cut_piK = list(dict.fromkeys(cut_piK))\n",
    "cut_piK"
   ]
  },
  {
   "cell_type": "markdown",
   "metadata": {},
   "source": [
    "# $D^*$ Recostruction"
   ]
  },
  {
   "cell_type": "code",
   "execution_count": 18,
   "metadata": {
    "ExecuteTime": {
     "end_time": "2019-11-04T22:54:39.128847Z",
     "start_time": "2019-11-04T22:54:39.123401Z"
    }
   },
   "outputs": [],
   "source": [
    "cut_D0pis = [\n",
    "'pis_pt > 0.5',\n",
    "'fabs(pi_eta) < 2.4',\n",
    "'sigdxy_pis_PV > 2',\n",
    "'pval_D0pis > 0.1'\n",
    "]"
   ]
  },
  {
   "cell_type": "code",
   "execution_count": 19,
   "metadata": {
    "ExecuteTime": {
     "end_time": "2019-11-04T22:54:39.483246Z",
     "start_time": "2019-11-04T22:54:39.477539Z"
    }
   },
   "outputs": [
    {
     "name": "stdout",
     "output_type": "stream",
     "text": [
      "n_B == 1 && trgMu_pt > 12.1 && trgMu_sigdxy > 7 && fabs(trgMu_eta) < 2.4 && pval_piK > 0.1 && K_pt > 0.8 && abs(mass_piK - 1.86) < 0.04 && mass_D0pis < mass_piK + 0.16 && fabs(K_eta) < 2.4 && fabs(pi_eta) < 2.4 && pi_pt > 0.8 && pis_pt > 0.5 && fabs(pi_eta) < 2.4 && sigdxy_pis_PV > 2 && pval_D0pis > 0.1\n"
     ]
    }
   ],
   "source": [
    "cut_str = ' && '.join(cut_general + cut_piK + cut_D0pis)\n",
    "print cut_str"
   ]
  },
  {
   "cell_type": "code",
   "execution_count": 22,
   "metadata": {
    "ExecuteTime": {
     "end_time": "2019-11-04T22:54:52.838666Z",
     "start_time": "2019-11-04T22:54:52.086257Z"
    }
   },
   "outputs": [
    {
     "data": {
      "image/png": "[encoded data removed]",
      "text/plain": [
       "<IPython.core.display.Image object>"
      ]
     },
     "metadata": {},
     "output_type": "display_data"
    }
   ],
   "source": [
    "h = create_TH1D(np.zeros(0), name='h',\n",
    "                title='',\n",
    "                axis_title=['m(D_{0}#pi_{s}) [GeV]', 'Events'],\n",
    "                binning=[100, 1.95, 2.07]\n",
    "               )\n",
    "tree.Project('h', 'mass_D0pis', cut_str)\n",
    "h.Sumw2()\n",
    "\n",
    "h2 = create_TH1D(np.zeros(0), name='h2', binning=h.binning)\n",
    "tree.Project('h2', 'mass_D0pis', cut_str + '&& pi_N_valid_hits > 12 && K_N_valid_hits > 12 && pis_N_valid_hits > 9')\n",
    "h2.Sumw2()\n",
    "h2.SetLineColor(rt.kBlue)\n",
    "\n",
    "c = drawOnCMSCanvas(CMS_lumi, [h, h2], 'same')\n",
    "c.Draw()\n",
    "# c.SetLogy()\n",
    "h.GetYaxis().SetRangeUser(0.9, 1.2*h.GetMaximum())"
   ]
  },
  {
   "cell_type": "code",
   "execution_count": 23,
   "metadata": {},
   "outputs": [
    {
     "name": "stdout",
     "output_type": "stream",
     "text": [
      "14004.0\n",
      "10210.0\n"
     ]
    }
   ],
   "source": [
    "print h.GetEntries()\n",
    "print h2.GetEntries()"
   ]
  },
  {
   "cell_type": "code",
   "execution_count": null,
   "metadata": {
    "ExecuteTime": {
     "end_time": "2019-11-04T22:55:19.562806Z",
     "start_time": "2019-11-04T22:55:19.545982Z"
    }
   },
   "outputs": [],
   "source": [
    "cut_D0pis += ['abs(mass_D0pis - 2.01) < 0.03']\n",
    "cut_D0pis = list(dict.fromkeys(cut_D0pis))\n",
    "print cut_D0pis"
   ]
  },
  {
   "cell_type": "markdown",
   "metadata": {},
   "source": [
    "# Full analysis"
   ]
  },
  {
   "cell_type": "code",
   "execution_count": null,
   "metadata": {
    "ExecuteTime": {
     "end_time": "2019-11-04T22:55:43.621715Z",
     "start_time": "2019-11-04T22:55:43.614572Z"
    }
   },
   "outputs": [],
   "source": [
    "cut_B = [\n",
    "    'pval_D0pismu > 0.1'\n",
    "]\n",
    "print cut_B\n",
    "\n",
    "cut_str = ' && '.join(cut_general + cut_piK + cut_D0pis + cut_B)"
   ]
  },
  {
   "cell_type": "code",
   "execution_count": null,
   "metadata": {
    "ExecuteTime": {
     "end_time": "2019-11-04T22:55:51.132779Z",
     "start_time": "2019-11-04T22:55:50.742388Z"
    }
   },
   "outputs": [],
   "source": [
    "h = create_TH1D(np.zeros(0), name='h',\n",
    "                title='',\n",
    "                axis_title=['m(#muD_{0}pi_{s}) [GeV]', 'Events'],\n",
    "                binning=[100, 2, 6]\n",
    "               )\n",
    "tree.Project('h', 'mass_D0pismu', cut_str)\n",
    "h.Sumw2()\n",
    "   \n",
    "c = drawOnCMSCanvas(CMS_lumi, [h], 'same')\n",
    "c.Draw()"
   ]
  },
  {
   "cell_type": "code",
   "execution_count": null,
   "metadata": {
    "ExecuteTime": {
     "end_time": "2019-11-04T22:56:25.030055Z",
     "start_time": "2019-11-04T22:56:24.555621Z"
    }
   },
   "outputs": [],
   "source": [
    "h = create_TH2D(np.zeros((2,2)), name='h',\n",
    "                title='',\n",
    "                axis_title=['m(#pi^{-}K^{+}) [GeV]', 'm(D_{0}#pi_{s}) [GeV]', 'Events'],\n",
    "                binning=[np.linspace(2, 5.5, 50), np.logspace(-6, 0.5, 50)]\n",
    "               )\n",
    "tree.Project('h', '1-cos_D0pismu_PV:mass_D0pismu', cut_str)\n",
    "h.Sumw2()\n",
    "print h.GetEntries()\n",
    "                         \n",
    "c = drawOnCMSCanvas(CMS_lumi, [h], ['colz'])\n",
    "# cl.DrawLine(1.76, 1.76+0.16, 1.91, 1.91+0.16)\n",
    "c.SetLogy()\n",
    "c.Draw()"
   ]
  },
  {
   "cell_type": "code",
   "execution_count": null,
   "metadata": {
    "ExecuteTime": {
     "end_time": "2019-11-04T22:56:35.387603Z",
     "start_time": "2019-11-04T22:56:34.970763Z"
    }
   },
   "outputs": [],
   "source": [
    "h = create_TH2D(np.zeros((2,2)), name='h',\n",
    "                title='',\n",
    "                axis_title=['m(#pi^{-}K^{+}) [GeV]', 'm(D_{0}#pi_{s}) [GeV]', 'Events'],\n",
    "                binning=[np.linspace(2, 5.5, 50), np.logspace(-8, 0.5, 50)]\n",
    "               )\n",
    "tree.Project('h', '1-cosT_D0pismu_PV:mass_D0pismu', cut_str)\n",
    "h.Sumw2()\n",
    "print h.GetEntries()\n",
    "                         \n",
    "c = drawOnCMSCanvas(CMS_lumi, [h], ['colz'])\n",
    "# cl.DrawLine(1.76, 1.76+0.16, 1.91, 1.91+0.16)\n",
    "c.SetLogy()\n",
    "c.Draw()"
   ]
  },
  {
   "cell_type": "code",
   "execution_count": null,
   "metadata": {},
   "outputs": [],
   "source": []
  }
 ],
 "metadata": {
  "kernelspec": {
   "display_name": "Python 2",
   "language": "python",
   "name": "python2"
  },
  "language_info": {
   "codemirror_mode": {
    "name": "ipython",
    "version": 2
   },
   "file_extension": ".py",
   "mimetype": "text/x-python",
   "name": "python",
   "nbconvert_exporter": "python",
   "pygments_lexer": "ipython2",
   "version": "2.7.14+"
  },
  "varInspector": {
   "cols": {
    "lenName": 16,
    "lenType": 16,
    "lenVar": 40
   },
   "kernels_config": {
    "python": {
     "delete_cmd_postfix": "",
     "delete_cmd_prefix": "del ",
     "library": "var_list.py",
     "varRefreshCmd": "print(var_dic_list())"
    },
    "r": {
     "delete_cmd_postfix": ") ",
     "delete_cmd_prefix": "rm(",
     "library": "var_list.r",
     "varRefreshCmd": "cat(var_dic_list()) "
    }
   },
   "types_to_exclude": [
    "module",
    "function",
    "builtin_function_or_method",
    "instance",
    "_Feature"
   ],
   "window_display": false
  }
 },
 "nbformat": 4,
 "nbformat_minor": 2
}
