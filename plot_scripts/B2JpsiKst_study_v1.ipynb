{
 "cells": [
  {
   "cell_type": "code",
   "execution_count": 1,
   "metadata": {
    "ExecuteTime": {
     "end_time": "2019-10-09T00:41:05.619628Z",
     "start_time": "2019-10-09T00:41:03.879336Z"
    }
   },
   "outputs": [
    {
     "name": "stdout",
     "output_type": "stream",
     "text": [
      "Welcome to JupyROOT 6.10/08\n"
     ]
    }
   ],
   "source": [
    "import numpy as np\n",
    "import scipy.stats as sps\n",
    "from glob import glob\n",
    "import matplotlib.pyplot as plt\n",
    "import uproot as ur\n",
    "import ROOT as rt\n",
    "import ROOT.RooFit as rf\n",
    "from scipy.special import erf\n",
    "import sys, os\n",
    "sys.path.append('../lib')\n",
    "from histo_utilities import create_TH1D, create_TH2D, std_color_list, SetMaxToMaxHist, make_ratio_plot\n",
    "from cebefo_style import Set_2D_colz_graphics\n",
    "from progressBar import ProgressBar\n",
    "\n",
    "from analysis_utilities import drawOnCMSCanvas, extarct, extarct_multiple, createSel\n",
    "from lumi_utilities import getLumiReport\n",
    "\n",
    "import CMS_lumi, tdrstyle\n",
    "tdrstyle.setTDRStyle()\n",
    "CMS_lumi.writeExtraText = 1\n",
    "CMS_lumi.extraText = \"     Preliminary\"\n",
    "\n",
    "donotdelete = []"
   ]
  },
  {
   "cell_type": "code",
   "execution_count": 2,
   "metadata": {
    "ExecuteTime": {
     "end_time": "2019-10-09T00:41:05.659027Z",
     "start_time": "2019-10-09T00:41:05.624232Z"
    }
   },
   "outputs": [],
   "source": [
    "rt.gErrorIgnoreLevel = rt.kError\n",
    "rt.RooMsgService.instance().setGlobalKillBelow(rt.RooFit.ERROR)"
   ]
  },
  {
   "cell_type": "code",
   "execution_count": 3,
   "metadata": {
    "ExecuteTime": {
     "end_time": "2019-10-09T00:41:05.681913Z",
     "start_time": "2019-10-09T00:41:05.663073Z"
    }
   },
   "outputs": [
    {
     "name": "stdout",
     "output_type": "stream",
     "text": [
      "1.86483\n",
      "2.01026\n",
      "5.27963\n",
      "mD* - mD0 = 0.14543\n"
     ]
    }
   ],
   "source": [
    "m_D0 = 1.86483 #1e-3*Particle.from_string('D0').mass\n",
    "print m_D0\n",
    "m_Dst = 2.01026 #1e-3*Particle.from_string('D*+').mass\n",
    "print m_Dst\n",
    "m_B0 = 5.27963 #1e-3*Particle.from_string('B0').mass\n",
    "print m_B0\n",
    "m_pi = 0.13957018 #1e-3*Particle.from_string('pi+').mass\n",
    "print 'mD* - mD0 =', m_Dst - m_D0"
   ]
  },
  {
   "cell_type": "code",
   "execution_count": 4,
   "metadata": {
    "ExecuteTime": {
     "end_time": "2019-10-09T00:41:05.707892Z",
     "start_time": "2019-10-09T00:41:05.686690Z"
    }
   },
   "outputs": [],
   "source": [
    "cl = rt.TLine()\n",
    "cl.SetLineColor(6)\n",
    "cl.SetLineStyle(9)\n",
    "cl.SetLineWidth(2)"
   ]
  },
  {
   "cell_type": "markdown",
   "metadata": {},
   "source": [
    "# Load data"
   ]
  },
  {
   "cell_type": "code",
   "execution_count": 5,
   "metadata": {
    "ExecuteTime": {
     "end_time": "2019-10-09T00:41:05.730078Z",
     "start_time": "2019-10-09T00:41:05.712215Z"
    }
   },
   "outputs": [],
   "source": [
    "dataDir = '../data/cmsRD'\n",
    "datasets_loc = []\n",
    "datasets_loc += glob(dataDir + '/ParkingBPH[12]/*B2JpsiKst_191002*')\n",
    "datasets_loc += glob(dataDir + '/ParkingBPH3/*B2JpsiKst_191003*')"
   ]
  },
  {
   "cell_type": "code",
   "execution_count": 6,
   "metadata": {
    "ExecuteTime": {
     "end_time": "2019-10-09T00:41:05.750135Z",
     "start_time": "2019-10-09T00:41:05.734091Z"
    }
   },
   "outputs": [
    {
     "name": "stdout",
     "output_type": "stream",
     "text": [
      "Lumi tot: 33.5 fb^-1\n",
      "Lumi analyzed: 81.7%\n"
     ]
    }
   ],
   "source": [
    "lumi_tot, lumi_dic = getLumiReport(datasets_loc)\n",
    "CMS_lumi.integrated_lumi = lumi_tot"
   ]
  },
  {
   "cell_type": "code",
   "execution_count": 7,
   "metadata": {
    "ExecuteTime": {
     "end_time": "2019-10-09T00:41:05.914368Z",
     "start_time": "2019-10-09T00:41:05.754570Z"
    },
    "code_folding": [],
    "scrolled": true
   },
   "outputs": [
    {
     "name": "stdout",
     "output_type": "stream",
     "text": [
      "B_E\n",
      "B_P\n",
      "B_eta\n",
      "B_phi\n",
      "B_pt\n",
      "B_pz\n",
      "Jpsi_E\n",
      "Jpsi_P\n",
      "Jpsi_eta\n",
      "Jpsi_phi\n",
      "Jpsi_pt\n",
      "Jpsi_pz\n",
      "K_E\n",
      "K_N_valid_hits\n",
      "K_P\n",
      "K_eta\n",
      "K_norm_chi2\n",
      "K_phi\n",
      "K_pt\n",
      "K_pz\n",
      "K_sigdxy_PV\n",
      "Kst_E\n",
      "Kst_P\n",
      "Kst_eta\n",
      "Kst_phi\n",
      "Kst_pt\n",
      "Kst_pz\n",
      "LumiBlock\n",
      "N_vertexes\n",
      "Run\n",
      "chi2_B\n",
      "chi2_Jpsi\n",
      "chi2_JpsiKst\n",
      "chi2_Kpi\n",
      "chi2_Kst\n",
      "chi2_mumu\n",
      "cos_B_PV\n",
      "cos_Jpsi_PV\n",
      "cos_Kst_PV\n",
      "d_vtxB_PV\n",
      "d_vtxJpsi_PV\n",
      "d_vtxKst_PV\n",
      "eventNumber\n",
      "mass_JpsiKst\n",
      "mass_KK\n",
      "mass_Kpi\n",
      "mass_mumu\n",
      "mum_E\n",
      "mum_P\n",
      "mum_dxy\n",
      "mum_eta\n",
      "mum_isTrg\n",
      "mum_phi\n",
      "mum_pt\n",
      "mum_pz\n",
      "mum_sigdxy_PV\n",
      "mup_E\n",
      "mup_P\n",
      "mup_dxy\n",
      "mup_eta\n",
      "mup_isTrg\n",
      "mup_phi\n",
      "mup_pt\n",
      "mup_pz\n",
      "mup_sigdxy_PV\n",
      "n_B\n",
      "n_Jpsi\n",
      "n_K\n",
      "n_Kst\n",
      "n_pi\n",
      "pi_E\n",
      "pi_N_valid_hits\n",
      "pi_P\n",
      "pi_eta\n",
      "pi_norm_chi2\n",
      "pi_phi\n",
      "pi_pt\n",
      "pi_pz\n",
      "pi_sigdxy_PV\n",
      "sigd_vtxB_PV\n",
      "sigd_vtxJpsi_PV\n",
      "sigd_vtxKst_PV\n",
      "sigdxy_vtxJpsi_PV\n",
      "trgMu_charge\n",
      "trgMu_dxy\n",
      "trgMu_dz\n",
      "trgMu_eta\n",
      "trgMu_phi\n",
      "trgMu_pt\n",
      "trgMu_sigdxy\n"
     ]
    }
   ],
   "source": [
    "f = datasets_loc[0]\n",
    "t = ur.open(f)['outA']['Tevts']\n",
    "# print tMC.keys(), '\\n\\n'\n",
    "branches = t.keys()\n",
    "for b in np.sort(branches):\n",
    "#     pass\n",
    "    print b"
   ]
  },
  {
   "cell_type": "code",
   "execution_count": 8,
   "metadata": {
    "ExecuteTime": {
     "end_time": "2019-10-09T00:43:45.130473Z",
     "start_time": "2019-10-09T00:41:05.918655Z"
    }
   },
   "outputs": [
    {
     "name": "stdout",
     "output_type": "stream",
     "text": [
      "Number of events: 474155\n",
      "Number of candidates: 527375\n"
     ]
    }
   ],
   "source": [
    "d = extarct_multiple(datasets_loc, branches=branches, flag='data')\n",
    "print 'Number of events:', d['n_B'].shape[0]\n",
    "print 'Number of candidates:', d['mass_JpsiKst'].shape[0]"
   ]
  },
  {
   "cell_type": "markdown",
   "metadata": {},
   "source": [
    "# Cuts declaration"
   ]
  },
  {
   "cell_type": "code",
   "execution_count": 9,
   "metadata": {
    "ExecuteTime": {
     "end_time": "2019-10-09T00:43:45.151560Z",
     "start_time": "2019-10-09T00:43:45.134558Z"
    }
   },
   "outputs": [
    {
     "name": "stdout",
     "output_type": "stream",
     "text": [
      "Vertex B\n",
      "Max chi2: 4332596.5\n",
      "Vertex Jpsi\n",
      "Max chi2: 2883.307\n",
      "Vertex JpsiKst\n",
      "Max chi2: 3.8414247\n",
      "Vertex Kpi\n",
      "Max chi2: 3.8414524\n",
      "Vertex Kst\n",
      "Max chi2: 2058.5952\n",
      "Vertex mumu\n",
      "Max chi2: 3.8414462\n"
     ]
    },
    {
     "data": {
      "text/plain": [
       "0.9499996225012931"
      ]
     },
     "execution_count": 9,
     "metadata": {},
     "output_type": "execute_result"
    }
   ],
   "source": [
    "inj_chi2_pval_cut = 0.95\n",
    "for b in branches:\n",
    "    if b.startswith('chi2_'):\n",
    "        max_chi2 = np.max(d[b])\n",
    "        print 'Vertex', b[5:] \n",
    "        print 'Max chi2:', max_chi2\n",
    "        \n",
    "        \n",
    "\n",
    "sps.chi2.cdf(max_chi2, 1)"
   ]
  },
  {
   "cell_type": "code",
   "execution_count": 10,
   "metadata": {
    "ExecuteTime": {
     "end_time": "2019-10-09T00:43:45.172025Z",
     "start_time": "2019-10-09T00:43:45.155794Z"
    }
   },
   "outputs": [],
   "source": [
    "import operator\n",
    "ops = {'>': operator.gt, '<': operator.lt, }\n",
    "\n",
    "def createSel(d, cut):\n",
    "    k_ref = cut.keys()[0]\n",
    "    if k_ref[0] == '_': \n",
    "            k_ref = k_ref[1:]\n",
    "    sel = np.ones_like(d[k_ref], dtype=bool)\n",
    "    for k, v in cut.iteritems():\n",
    "        if k[0] == '_': \n",
    "            k = k[1:]\n",
    "        sel = np.logical_and(sel, ops[v[0]](d[k], v[1]) )\n",
    "        \n",
    "    eff = np.sum(sel)/float(sel.shape[0])\n",
    "    return sel, eff"
   ]
  },
  {
   "cell_type": "markdown",
   "metadata": {},
   "source": [
    "# Selection"
   ]
  },
  {
   "cell_type": "code",
   "execution_count": 11,
   "metadata": {
    "ExecuteTime": {
     "end_time": "2019-10-09T00:43:45.188846Z",
     "start_time": "2019-10-09T00:43:45.174915Z"
    }
   },
   "outputs": [],
   "source": [
    "cut = {}\n",
    "\n",
    "####----- Trigger-like cuts -----#\n",
    "cut['mum_pt'] = ['>', 3.5]\n",
    "cut['mup_pt'] = ['>', 3.5]\n",
    "cut['Jpsi_pt'] = ['>', 6.9]\n",
    "cut['sigdxy_vtxJpsi_PV'] = ['>', 3]\n",
    "cut['chi2_mumu'] = ['<', sps.chi2.ppf(0.90, 1)]\n",
    "cut['mum_eta'] = ['>', -2.2]\n",
    "cut['mup_eta'] = ['>', -2.2]\n",
    "cut['_mum_eta'] = ['<', 2.2]\n",
    "cut['_mup_eta'] = ['<', 2.2]\n",
    "# Missing: dca_mumu < 0.5 cm\n",
    "cut['cos_Jpsi_PV'] = ['>', 0.9]\n",
    "\n",
    "####----- Muon systems cuts -----#\n",
    "cut['mum_dxy'] = ['<', 3]\n",
    "cut['mup_dxy'] = ['<', 3]\n",
    "\n",
    "####----- Hadron systems cuts -----#\n",
    "cut['K_pt'] = ['>', 0.8]\n",
    "cut['pi_pt'] = ['>', 0.8]\n",
    "cut['K_sigdxy_PV'] = ['>', 2]\n",
    "cut['pi_sigdxy_PV'] = ['>', 2]"
   ]
  },
  {
   "cell_type": "code",
   "execution_count": 12,
   "metadata": {
    "ExecuteTime": {
     "end_time": "2019-10-09T00:43:45.209393Z",
     "start_time": "2019-10-09T00:43:45.192892Z"
    }
   },
   "outputs": [
    {
     "name": "stdout",
     "output_type": "stream",
     "text": [
      "0.189265702773169\n"
     ]
    },
    {
     "name": "stderr",
     "output_type": "stream",
     "text": [
      "/opt/local/Library/Frameworks/Python.framework/Versions/2.7/lib/python2.7/site-packages/ipykernel_launcher.py:12: RuntimeWarning: invalid value encountered in greater\n",
      "  if sys.path[0] == '':\n"
     ]
    }
   ],
   "source": [
    "sel_prelim, eff = createSel(d, cut)\n",
    "print eff"
   ]
  },
  {
   "cell_type": "markdown",
   "metadata": {},
   "source": [
    "# Muon system"
   ]
  },
  {
   "cell_type": "code",
   "execution_count": 13,
   "metadata": {
    "ExecuteTime": {
     "end_time": "2019-10-09T00:43:45.517436Z",
     "start_time": "2019-10-09T00:43:45.213336Z"
    }
   },
   "outputs": [
    {
     "name": "stdout",
     "output_type": "stream",
     "text": [
      "#scale[0.85]{33.5 fb^{-1} (13 TeV)}\n"
     ]
    },
    {
     "data": {
      "image/png": "[encoded data removed]",
      "text/plain": [
       "<IPython.core.display.Image object>"
      ]
     },
     "metadata": {},
     "output_type": "display_data"
    }
   ],
   "source": [
    "h = create_TH1D(d['mass_mumu'][sel_prelim], \n",
    "                title='',\n",
    "                axis_title=['m(#mu#mu) [GeV]', 'Events'],\n",
    "                binning=[60, 2.5, 3.6]\n",
    "               )\n",
    "h.Sumw2()\n",
    "                                   \n",
    "c = drawOnCMSCanvas(CMS_lumi, [h], 'same')\n",
    "c.SetRightMargin(0.15)\n",
    "c.Draw()"
   ]
  },
  {
   "cell_type": "markdown",
   "metadata": {},
   "source": [
    "# Hadron system"
   ]
  },
  {
   "cell_type": "code",
   "execution_count": 14,
   "metadata": {
    "ExecuteTime": {
     "end_time": "2019-10-09T00:43:45.565697Z",
     "start_time": "2019-10-09T00:43:45.521593Z"
    }
   },
   "outputs": [
    {
     "name": "stdout",
     "output_type": "stream",
     "text": [
      "#scale[0.85]{33.5 fb^{-1} (13 TeV)}\n"
     ]
    },
    {
     "data": {
      "image/png": "[encoded data removed]",
      "text/plain": [
       "<IPython.core.display.Image object>"
      ]
     },
     "metadata": {},
     "output_type": "display_data"
    }
   ],
   "source": [
    "h = create_TH1D(d['mass_Kpi'][sel_prelim], \n",
    "                title='',\n",
    "                axis_title=['m(K#pi) [GeV]', 'Events'],\n",
    "                binning=[60, 0.7, 1.1]\n",
    "               )\n",
    "h.Sumw2()\n",
    "                                   \n",
    "c = drawOnCMSCanvas(CMS_lumi, [h], 'same')\n",
    "c.SetRightMargin(0.15)\n",
    "c.Draw()"
   ]
  },
  {
   "cell_type": "code",
   "execution_count": 15,
   "metadata": {
    "ExecuteTime": {
     "end_time": "2019-10-09T00:43:45.613019Z",
     "start_time": "2019-10-09T00:43:45.569945Z"
    }
   },
   "outputs": [
    {
     "name": "stdout",
     "output_type": "stream",
     "text": [
      "#scale[0.85]{33.5 fb^{-1} (13 TeV)}\n"
     ]
    },
    {
     "data": {
      "image/png": "[encoded data removed]",
      "text/plain": [
       "<IPython.core.display.Image object>"
      ]
     },
     "metadata": {},
     "output_type": "display_data"
    }
   ],
   "source": [
    "h = create_TH1D(d['mass_KK'][sel_prelim], \n",
    "                title='',\n",
    "                axis_title=['m(KK) [GeV]', 'Events'],\n",
    "                binning=[60, 0.9, 1.4]\n",
    "               )\n",
    "h.Sumw2()\n",
    "                                   \n",
    "c = drawOnCMSCanvas(CMS_lumi, [h], 'same')\n",
    "c.SetRightMargin(0.15)\n",
    "c.Draw()"
   ]
  },
  {
   "cell_type": "markdown",
   "metadata": {},
   "source": [
    "# Full analysis"
   ]
  },
  {
   "cell_type": "code",
   "execution_count": 16,
   "metadata": {
    "ExecuteTime": {
     "end_time": "2019-10-09T00:43:45.634734Z",
     "start_time": "2019-10-09T00:43:45.617316Z"
    }
   },
   "outputs": [],
   "source": [
    "cut['mass_KK'] = ['>',  1.035] #reject the phi->KK\n",
    "cut['mass_mumu'] = ['<',  3.2]\n",
    "cut['_mass_mumu'] = ['>',  3.0]\n",
    "cut['mass_Kpi'] = ['<',  0.96]\n",
    "cut['_mass_Kpi'] = ['>',  0.8]"
   ]
  },
  {
   "cell_type": "code",
   "execution_count": 17,
   "metadata": {
    "ExecuteTime": {
     "end_time": "2019-10-09T00:43:45.656221Z",
     "start_time": "2019-10-09T00:43:45.639221Z"
    }
   },
   "outputs": [
    {
     "name": "stdout",
     "output_type": "stream",
     "text": [
      "0.10701872481630718\n"
     ]
    },
    {
     "name": "stderr",
     "output_type": "stream",
     "text": [
      "/opt/local/Library/Frameworks/Python.framework/Versions/2.7/lib/python2.7/site-packages/ipykernel_launcher.py:12: RuntimeWarning: invalid value encountered in greater\n",
      "  if sys.path[0] == '':\n"
     ]
    }
   ],
   "source": [
    "sel_an, eff = createSel(d, cut)\n",
    "print eff"
   ]
  },
  {
   "cell_type": "code",
   "execution_count": 18,
   "metadata": {
    "ExecuteTime": {
     "end_time": "2019-10-09T00:43:45.704377Z",
     "start_time": "2019-10-09T00:43:45.660432Z"
    }
   },
   "outputs": [
    {
     "name": "stdout",
     "output_type": "stream",
     "text": [
      "#scale[0.85]{33.5 fb^{-1} (13 TeV)}\n"
     ]
    },
    {
     "data": {
      "image/png": "[encoded data removed]",
      "text/plain": [
       "<IPython.core.display.Image object>"
      ]
     },
     "metadata": {},
     "output_type": "display_data"
    }
   ],
   "source": [
    "h = create_TH1D(d['mass_JpsiKst'][sel_an], \n",
    "                title='',\n",
    "                axis_title=['m(J/#psi K*) [GeV]', 'Events'],\n",
    "                binning=[60,4.5, 6]\n",
    "               )\n",
    "h.Sumw2()\n",
    "                                   \n",
    "c = drawOnCMSCanvas(CMS_lumi, [h], 'same')\n",
    "c.SetRightMargin(0.15)\n",
    "c.Draw()"
   ]
  },
  {
   "cell_type": "code",
   "execution_count": null,
   "metadata": {},
   "outputs": [],
   "source": []
  }
 ],
 "metadata": {
  "kernelspec": {
   "display_name": "Python 2",
   "language": "python",
   "name": "python2"
  },
  "language_info": {
   "codemirror_mode": {
    "name": "ipython",
    "version": 2
   },
   "file_extension": ".py",
   "mimetype": "text/x-python",
   "name": "python",
   "nbconvert_exporter": "python",
   "pygments_lexer": "ipython2",
   "version": "2.7.14"
  }
 },
 "nbformat": 4,
 "nbformat_minor": 2
}
