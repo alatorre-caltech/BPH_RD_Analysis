{
 "cells": [
  {
   "cell_type": "code",
   "execution_count": 1,
   "metadata": {
    "ExecuteTime": {
     "end_time": "2020-07-28T22:35:58.579023Z",
     "start_time": "2020-07-28T22:35:46.486933Z"
    }
   },
   "outputs": [
    {
     "name": "stdout",
     "output_type": "stream",
     "text": [
      "Welcome to JupyROOT 6.12/07\n"
     ]
    }
   ],
   "source": [
    "import numpy as np\n",
    "import pandas as pd\n",
    "import scipy.stats as sps\n",
    "from glob import glob\n",
    "import matplotlib.pyplot as plt\n",
    "import uproot as ur\n",
    "import root_numpy as rtnp\n",
    "import ROOT as rt\n",
    "import ROOT.RooFit as rf\n",
    "from array import array\n",
    "from scipy.special import erf\n",
    "import sys, os\n",
    "sys.path.append('../lib')\n",
    "from histo_utilities import create_TH1D, create_TH2D, std_color_list, SetMaxToMaxHist, make_ratio_plot\n",
    "from cebefo_style import Set_2D_colz_graphics\n",
    "from progressBar import ProgressBar\n",
    "from gridVarQ2Plot import col_dic\n",
    "from analysis_utilities import drawOnCMSCanvas\n",
    "from lumi_utilities import getLumiReport\n",
    "\n",
    "import CMS_lumi, tdrstyle\n",
    "tdrstyle.setTDRStyle()\n",
    "CMS_lumi.writeExtraText = 1\n",
    "CMS_lumi.extraText = \"     Internal\"\n",
    "\n",
    "donotdelete = []"
   ]
  },
  {
   "cell_type": "code",
   "execution_count": 2,
   "metadata": {
    "ExecuteTime": {
     "end_time": "2020-07-28T22:35:58.600777Z",
     "start_time": "2020-07-28T22:35:58.584778Z"
    }
   },
   "outputs": [],
   "source": [
    "rt.gErrorIgnoreLevel = rt.kError\n",
    "rt.RooMsgService.instance().setGlobalKillBelow(rt.RooFit.ERROR)"
   ]
  },
  {
   "cell_type": "code",
   "execution_count": 3,
   "metadata": {
    "ExecuteTime": {
     "end_time": "2020-07-28T22:35:58.702555Z",
     "start_time": "2020-07-28T22:35:58.606051Z"
    }
   },
   "outputs": [
    {
     "name": "stdout",
     "output_type": "stream",
     "text": [
      "mD* - mD0 = 0.14543\n"
     ]
    }
   ],
   "source": [
    "m_pi = 0.13957\n",
    "m_K = 0.49368\n",
    "m_D0 = 1.86483 #1e-3*Particle.from_string('D0').mass\n",
    "m_Dst = 2.01026 #1e-3*Particle.from_string('D*+').mass\n",
    "m_B0 = 5.27963 #1e-3*Particle.from_string('B0').mass\n",
    "m_pi = 0.13957018 #1e-3*Particle.from_string('pi+').mass\n",
    "print 'mD* - mD0 =', m_Dst - m_D0"
   ]
  },
  {
   "cell_type": "code",
   "execution_count": 4,
   "metadata": {
    "ExecuteTime": {
     "end_time": "2020-07-28T22:35:58.774723Z",
     "start_time": "2020-07-28T22:35:58.709503Z"
    }
   },
   "outputs": [],
   "source": [
    "cl = rt.TLine()\n",
    "cl.SetLineColor(6)\n",
    "cl.SetLineStyle(9)\n",
    "cl.SetLineWidth(2)"
   ]
  },
  {
   "cell_type": "code",
   "execution_count": 5,
   "metadata": {
    "ExecuteTime": {
     "end_time": "2020-07-28T22:35:58.838547Z",
     "start_time": "2020-07-28T22:35:58.781395Z"
    }
   },
   "outputs": [],
   "source": [
    "import operator\n",
    "ops = {'>': operator.gt, '<': operator.lt, }"
   ]
  },
  {
   "cell_type": "markdown",
   "metadata": {},
   "source": [
    "# Load data"
   ]
  },
  {
   "cell_type": "code",
   "execution_count": 6,
   "metadata": {
    "ExecuteTime": {
     "end_time": "2020-07-28T22:36:01.634502Z",
     "start_time": "2020-07-28T22:35:58.846014Z"
    }
   },
   "outputs": [
    {
     "name": "stdout",
     "output_type": "stream",
     "text": [
      "N evts: 6922735\n"
     ]
    }
   ],
   "source": [
    "loc = '../data/cmsRD/'\n",
    "loc += 'ParkingBPH*/'\n",
    "loc += 'Run2018D-05May2019promptD-v1_RDntuplizer_TagAndProbe_Bp2MuNuDstst_Pip_200708_CAND.root'\n",
    "\n",
    "tData = rt.TChain('outA/Tevts')\n",
    "for floc in glob(loc):\n",
    "    tData.Add(floc)\n",
    "\n",
    "print 'N evts: {:.0f}'.format(tData.GetEntries())\n",
    "CMS_lumi.integrated_lumi = 26.4#lumi_tot"
   ]
  },
  {
   "cell_type": "code",
   "execution_count": 7,
   "metadata": {
    "ExecuteTime": {
     "end_time": "2020-07-28T22:36:01.653164Z",
     "start_time": "2020-07-28T22:36:01.638398Z"
    }
   },
   "outputs": [],
   "source": [
    "def addOverflow(hh):\n",
    "    Nbins = hh.GetNbinsX()\n",
    "    hh.SetBinContent(Nbins, hh.GetBinContent(Nbins) + hh.GetBinContent(Nbins+1))\n",
    "    hh.SetBinContent(Nbins+1, 0)\n",
    "    return"
   ]
  },
  {
   "cell_type": "code",
   "execution_count": 8,
   "metadata": {
    "ExecuteTime": {
     "end_time": "2020-07-28T22:36:01.693549Z",
     "start_time": "2020-07-28T22:36:01.657661Z"
    }
   },
   "outputs": [],
   "source": [
    "def appendNewHisto(var, h_list, cuts, addCuts, leg=None, overflow=True):\n",
    "    lastName = h_list[-1].GetName()\n",
    "    if lastName == 'h':\n",
    "        N =1\n",
    "    else:\n",
    "        N = 1 + int(lastName[1:])\n",
    "        \n",
    "    hAux = create_TH1D(np.zeros(0), name='h'+str(N), binning=h_list[0].binning)\n",
    "    tData.Project('h'+str(N), var, cuts + ' && ' + addCuts)\n",
    "    hAux.SetLineColor(col_dic.values()[N-1])\n",
    "    hAux.Sumw2()\n",
    "    if overflow:\n",
    "        addOverflow(hAux)\n",
    "    hAux.SetLineWidth(2)\n",
    "    h_list.append(hAux)\n",
    "    \n",
    "    if not leg is None:\n",
    "        leg.AddEntry(hAux, addCuts, 'lep')\n",
    "    \n",
    "    return h_list"
   ]
  },
  {
   "cell_type": "markdown",
   "metadata": {},
   "source": [
    "# Cuts declaration"
   ]
  },
  {
   "cell_type": "code",
   "execution_count": 9,
   "metadata": {
    "ExecuteTime": {
     "end_time": "2020-07-28T22:36:01.713770Z",
     "start_time": "2020-07-28T22:36:01.698132Z"
    }
   },
   "outputs": [],
   "source": [
    "cut_general = [\n",
    "    'n_B == 1',\n",
    "    'trgMu_pt > 7',\n",
    "    'trgMu_sigdxy > 4',\n",
    "    'abs(trgMu_eta) < 1.5',\n",
    "]"
   ]
  },
  {
   "cell_type": "markdown",
   "metadata": {},
   "source": [
    "$D_0$ reconstruction"
   ]
  },
  {
   "cell_type": "code",
   "execution_count": 10,
   "metadata": {
    "ExecuteTime": {
     "end_time": "2020-07-28T22:36:01.798583Z",
     "start_time": "2020-07-28T22:36:01.719575Z"
    }
   },
   "outputs": [],
   "source": [
    "cut_piK = [\n",
    "'K_pt > 0.8',\n",
    "'pi_pt > 0.8',\n",
    "'pval_piK > 0.1',\n",
    "'abs(K_eta) < 2.4',\n",
    "'abs(pi_eta) < 2.4',\n",
    "'abs(mass_piK - 1.864) < 0.05',\n",
    "'sigdxy_vtxD0_PV > 2'\n",
    "]"
   ]
  },
  {
   "cell_type": "code",
   "execution_count": 11,
   "metadata": {
    "ExecuteTime": {
     "end_time": "2020-07-28T22:41:09.757653Z",
     "start_time": "2020-07-28T22:36:01.804060Z"
    }
   },
   "outputs": [
    {
     "data": {
      "image/png": "[encoded data removed]",
      "text/plain": [
       "<IPython.core.display.Image object>"
      ]
     },
     "metadata": {},
     "output_type": "display_data"
    }
   ],
   "source": [
    "cuts = ' && '.join(cut_general+cut_piK)\n",
    "h = create_TH1D(np.zeros(0), name='h',\n",
    "                title='', axis_title=['mass_piK', 'Candidates'],\n",
    "                binning=[50, 1.8, 1.92] )\n",
    "tData.Project('h', 'mass_piK', cuts)\n",
    "h.Sumw2()\n",
    "addOverflow(h)\n",
    "# h.Scale(1./h.Integral())\n",
    "h.SetLineWidth(3)\n",
    "h_list=[h]\n",
    "\n",
    "c = drawOnCMSCanvas(CMS_lumi, h_list, 'same')"
   ]
  },
  {
   "cell_type": "code",
   "execution_count": 12,
   "metadata": {
    "ExecuteTime": {
     "end_time": "2020-07-28T22:42:41.491184Z",
     "start_time": "2020-07-28T22:41:09.763023Z"
    }
   },
   "outputs": [
    {
     "data": {
      "text/plain": [
       "<ROOT.TLine object (\"TLine\") at 0xb0fb650>"
      ]
     },
     "execution_count": 12,
     "metadata": {},
     "output_type": "execute_result"
    },
    {
     "data": {
      "image/png": "[encoded data removed]",
      "text/plain": [
       "<IPython.core.display.Image object>"
      ]
     },
     "metadata": {},
     "output_type": "display_data"
    }
   ],
   "source": [
    "cuts = ' && '.join(cut_general+cut_piK)\n",
    "h = create_TH2D(np.zeros((0,2)), name='h',\n",
    "                title='', axis_title=['mass_piK', '1-cosT_D0_PV', 'Candidates'],\n",
    "                binning=[np.linspace(1.81, 1.91, 50), np.logspace(-5, np.log10(2), 50)] )\n",
    "tData.Project('h', '1 - cosT_D0_PV:mass_piK', cuts)\n",
    "# h.Sumw2()\n",
    "# h.Scale(1./h.Integral())\n",
    "\n",
    "c = drawOnCMSCanvas(CMS_lumi, [h], ['colz'], mR=0.16)\n",
    "c.SetLogy()\n",
    "cl.DrawLine(1.81, 0.1, 1.91, 0.1)"
   ]
  },
  {
   "cell_type": "code",
   "execution_count": 13,
   "metadata": {
    "ExecuteTime": {
     "end_time": "2020-07-28T22:43:19.692994Z",
     "start_time": "2020-07-28T22:42:41.496573Z"
    }
   },
   "outputs": [
    {
     "data": {
      "text/plain": [
       "<ROOT.TLine object (\"TLine\") at 0xb0fb650>"
      ]
     },
     "execution_count": 13,
     "metadata": {},
     "output_type": "execute_result"
    },
    {
     "data": {
      "image/png": "[encoded data removed]",
      "text/plain": [
       "<IPython.core.display.Image object>"
      ]
     },
     "metadata": {},
     "output_type": "display_data"
    }
   ],
   "source": [
    "cuts = ' && '.join(cut_general+cut_piK)\n",
    "h = create_TH2D(np.zeros((0,2)), name='h',\n",
    "                title='', axis_title=['mass_piK', 'sigdxy_vtxD0_PV', 'Candidates'],\n",
    "                binning=[np.linspace(1.81, 1.91, 50), np.logspace(np.log10(2), np.log10(70), 50)] )\n",
    "tData.Project('h', 'sigdxy_vtxD0_PV:mass_piK', cuts)\n",
    "# h.Sumw2()\n",
    "# h.Scale(1./h.Integral())\n",
    "\n",
    "c = drawOnCMSCanvas(CMS_lumi, [h], ['colz'], mR=0.16)\n",
    "c.SetLogy()\n",
    "cl.DrawLine(1.81, 7, 1.91, 7)"
   ]
  },
  {
   "cell_type": "code",
   "execution_count": 14,
   "metadata": {
    "ExecuteTime": {
     "end_time": "2020-07-28T22:45:55.309360Z",
     "start_time": "2020-07-28T22:43:19.698514Z"
    }
   },
   "outputs": [
    {
     "data": {
      "image/png": "[encoded data removed]",
      "text/plain": [
       "<IPython.core.display.Image object>"
      ]
     },
     "metadata": {},
     "output_type": "display_data"
    }
   ],
   "source": [
    "cuts = ' && '.join(cut_general+cut_piK)\n",
    "h = create_TH1D(np.zeros(0), name='h',\n",
    "                title='', axis_title=['mass_piK', 'Candidates'],\n",
    "                binning=[50, 1.8, 1.92] )\n",
    "tData.Project('h', 'mass_piK', cuts)\n",
    "h.Sumw2()\n",
    "addOverflow(h)\n",
    "h.SetLineWidth(2)\n",
    "h_list=[h]\n",
    "\n",
    "leg = rt.TLegend(0.7, 0.65, 0.98, 0.97)\n",
    "leg.AddEntry(h, 'Base', 'l')\n",
    "leg.SetTextFont(42)\n",
    "leg.SetFillStyle(0)\n",
    "leg.SetLineWidth(0)\n",
    "leg.SetBorderSize(0)\n",
    "\n",
    "appendNewHisto('mass_piK', h_list, cuts, 'sigdxy_vtxD0_PV > 7', leg=leg)\n",
    "appendNewHisto('mass_piK', h_list, cuts, 'cosT_D0_PV > 0.9', leg=leg)\n",
    "appendNewHisto('mass_piK', h_list, cuts, 'sigdxy_vtxD0_PV > 7 && cosT_D0_PV > 0.9', leg=leg)\n",
    "\n",
    "SetMaxToMaxHist(h_list)\n",
    "c = drawOnCMSCanvas(CMS_lumi, h_list, 'same')\n",
    "leg.Draw()"
   ]
  },
  {
   "cell_type": "code",
   "execution_count": 15,
   "metadata": {
    "ExecuteTime": {
     "end_time": "2020-07-28T22:45:55.362789Z",
     "start_time": "2020-07-28T22:45:55.314732Z"
    }
   },
   "outputs": [],
   "source": [
    "cut_piK_rev = [\n",
    "'K_pt > 0.8',\n",
    "'pi_pt > 0.8',\n",
    "'pval_piK > 0.1',\n",
    "'abs(K_eta) < 2.4',\n",
    "'abs(pi_eta) < 2.4',\n",
    "'abs(mass_piK - {}) < 0.035'.format(m_D0),\n",
    "'sigdxy_vtxD0_PV > 7',\n",
    "'cosT_D0_PV > 0.9'\n",
    "]"
   ]
  },
  {
   "cell_type": "code",
   "execution_count": 16,
   "metadata": {
    "ExecuteTime": {
     "end_time": "2020-07-28T22:46:34.966504Z",
     "start_time": "2020-07-28T22:45:55.370002Z"
    }
   },
   "outputs": [
    {
     "data": {
      "image/png": "[encoded data removed]",
      "text/plain": [
       "<IPython.core.display.Image object>"
      ]
     },
     "metadata": {},
     "output_type": "display_data"
    }
   ],
   "source": [
    "cuts = ' && '.join(cut_general+cut_piK_rev)\n",
    "h = create_TH1D(np.zeros(0), name='h',\n",
    "                title='', axis_title=['mass_piK', 'Candidates'],\n",
    "                binning=[50, 1.8, 1.92] )\n",
    "tData.Project('h', 'mass_piK', cuts)\n",
    "h.Sumw2()\n",
    "h.SetLineWidth(3)\n",
    "c = drawOnCMSCanvas(CMS_lumi, [h], 'same')"
   ]
  },
  {
   "cell_type": "code",
   "execution_count": 17,
   "metadata": {
    "ExecuteTime": {
     "end_time": "2020-07-28T22:47:09.097359Z",
     "start_time": "2020-07-28T22:46:34.971835Z"
    }
   },
   "outputs": [
    {
     "data": {
      "text/plain": [
       "1438713L"
      ]
     },
     "execution_count": 17,
     "metadata": {},
     "output_type": "execute_result"
    }
   ],
   "source": [
    "tData.GetEntries(' && '.join(cut_general+cut_piK))"
   ]
  },
  {
   "cell_type": "markdown",
   "metadata": {},
   "source": [
    "### $D^{**}$ Recostruction"
   ]
  },
  {
   "cell_type": "code",
   "execution_count": 18,
   "metadata": {
    "ExecuteTime": {
     "end_time": "2020-07-28T22:47:09.196943Z",
     "start_time": "2020-07-28T22:47:09.102519Z"
    }
   },
   "outputs": [
    {
     "ename": "SyntaxError",
     "evalue": "EOL while scanning string literal (<ipython-input-18-ecf78eebf888>, line 4)",
     "output_type": "error",
     "traceback": [
      "\u001b[0;36m  File \u001b[0;32m\"<ipython-input-18-ecf78eebf888>\"\u001b[0;36m, line \u001b[0;32m4\u001b[0m\n\u001b[0;31m    '\u001b[0m\n\u001b[0m    ^\u001b[0m\n\u001b[0;31mSyntaxError\u001b[0m\u001b[0;31m:\u001b[0m EOL while scanning string literal\n"
     ]
    }
   ],
   "source": [
    "cut_D0pipmu = [\n",
    "'pip_pt > 0.5',\n",
    "'abs(pip_eta) < 2.4',\n",
    "'\n",
    "    < {}'.format(m_B0),\n",
    "'pval_D0pipmu > 0.1',\n",
    "]"
   ]
  },
  {
   "cell_type": "code",
   "execution_count": null,
   "metadata": {
    "ExecuteTime": {
     "end_time": "2020-07-28T22:47:09.199706Z",
     "start_time": "2020-07-28T22:35:45.125Z"
    }
   },
   "outputs": [],
   "source": [
    "tData.GetEntries(' && '.join(cut_general+cut_piK+cut_D0pipmu))"
   ]
  },
  {
   "cell_type": "code",
   "execution_count": null,
   "metadata": {
    "ExecuteTime": {
     "end_time": "2020-07-28T22:47:09.203867Z",
     "start_time": "2020-07-28T22:35:45.129Z"
    }
   },
   "outputs": [],
   "source": [
    "cuts = ' && '.join(cut_general+cut_piK_rev+cut_D0pipmu)\n",
    "h = create_TH1D(np.zeros(0), name='h',\n",
    "                title='', axis_title=['mass(D_{0}#pi^{+}#mu^{+}) [GeV]', 'Candidates'],\n",
    "                binning=[50, 2.5, 5.3] )\n",
    "tData.Project('h', 'mass_D0pipmu', cuts)\n",
    "h.Sumw2()\n",
    "c = drawOnCMSCanvas(CMS_lumi, [h], 'same')"
   ]
  },
  {
   "cell_type": "code",
   "execution_count": null,
   "metadata": {
    "ExecuteTime": {
     "end_time": "2020-07-28T22:47:09.208756Z",
     "start_time": "2020-07-28T22:35:45.131Z"
    }
   },
   "outputs": [],
   "source": [
    "cuts = ' && '.join(cut_general+cut_piK_rev+cut_D0pipmu)\n",
    "h = create_TH1D(np.zeros(0), name='h',\n",
    "                title='', axis_title=['mass(D_{0}#pi^{+}) [GeV]', 'Candidates'],\n",
    "                binning=[50, 1.95, 3.] )\n",
    "tData.Project('h', 'mass_D0pip', cuts)\n",
    "h.Sumw2()\n",
    "c = drawOnCMSCanvas(CMS_lumi, [h], 'same')"
   ]
  },
  {
   "cell_type": "code",
   "execution_count": null,
   "metadata": {
    "ExecuteTime": {
     "end_time": "2020-07-28T22:47:09.213172Z",
     "start_time": "2020-07-28T22:35:45.133Z"
    }
   },
   "outputs": [],
   "source": [
    "cuts = ' && '.join(cut_general+cut_piK_rev+cut_D0pipmu)\n",
    "h = create_TH1D(np.zeros(0), name='h',\n",
    "                title='', axis_title=['mass(D_{0}#pi^{+}) - mass(#piK) [GeV]', 'Candidates'],\n",
    "                binning=[50, 0.2, 1] )\n",
    "tData.Project('h', 'mass_D0pip-mass_piK', cuts)\n",
    "h.Sumw2()\n",
    "c = drawOnCMSCanvas(CMS_lumi, [h], 'same')"
   ]
  },
  {
   "cell_type": "code",
   "execution_count": null,
   "metadata": {
    "ExecuteTime": {
     "end_time": "2020-07-28T22:47:09.216552Z",
     "start_time": "2020-07-28T22:35:45.140Z"
    }
   },
   "outputs": [],
   "source": [
    "cuts = ' && '.join(cut_general+cut_piK_rev+cut_D0pipmu)\n",
    "h = create_TH1D(np.zeros(0), name='h',\n",
    "                title='', axis_title=['mass(D_{0}^{(#diamond)}#pi^{+}) [GeV]', 'Candidates'],\n",
    "                binning=[50, 2.1, 3.] )\n",
    "tData.Project('h', 'mass_expDstpip', cuts)\n",
    "h.Sumw2()\n",
    "c = drawOnCMSCanvas(CMS_lumi, [h], 'same')"
   ]
  },
  {
   "cell_type": "code",
   "execution_count": null,
   "metadata": {
    "ExecuteTime": {
     "end_time": "2020-07-28T22:47:09.220177Z",
     "start_time": "2020-07-28T22:35:45.142Z"
    }
   },
   "outputs": [],
   "source": [
    "cuts = ' && '.join(cut_general+cut_piK_rev+cut_D0pipmu)\n",
    "h = create_TH1D(np.zeros(0), name='h',\n",
    "                title='', axis_title=['mass(D_{0}^{(#diamond)}#pi^{+}) - mass(#piK) [GeV]', 'Candidates'],\n",
    "                binning=[50, 0.3, 1] )\n",
    "tData.Project('h', 'dm_expDstpip_pik', cuts)\n",
    "h.Sumw2()\n",
    "c = drawOnCMSCanvas(CMS_lumi, [h], 'same')"
   ]
  },
  {
   "cell_type": "code",
   "execution_count": null,
   "metadata": {
    "ExecuteTime": {
     "end_time": "2020-07-28T22:47:09.223848Z",
     "start_time": "2020-07-28T22:35:45.144Z"
    }
   },
   "outputs": [],
   "source": [
    "h = create_TH2D(np.zeros((0,2)), name='h',\n",
    "                title='', axis_title=['mass(D_{0}^{(#diamond)}#pi^{+}) [GeV]', '1-cos_D0pipmu_PV', 'Candidates'],\n",
    "                binning=[np.linspace(2.1, 3, 50), np.logspace(-6, np.log10(2), 50)] )\n",
    "tData.Project('h', '1-cos_D0pipmu_PV:mass_expDstpip', cuts)\n",
    "\n",
    "c = drawOnCMSCanvas(CMS_lumi, [h], ['colz'], mR=0.16)\n",
    "c.SetLogy()\n",
    "cl.DrawLine(2.1, 0.01, 3, 0.01)"
   ]
  },
  {
   "cell_type": "code",
   "execution_count": null,
   "metadata": {
    "ExecuteTime": {
     "end_time": "2020-07-28T22:47:09.227388Z",
     "start_time": "2020-07-28T22:35:45.148Z"
    }
   },
   "outputs": [],
   "source": [
    "h = create_TH2D(np.zeros((0,2)), name='h',\n",
    "                title='', axis_title=['mass(D_{0}^{(#diamond)}#pi^{+}) [GeV]', 'sigd_vtxD0pipmu_PV', 'Candidates'],\n",
    "                binning=[np.linspace(2.1, 3, 50), np.logspace(0, np.log10(200), 50)] )\n",
    "tData.Project('h', 'sigd_vtxD0pipmu_PV:mass_expDstpip', cuts)\n",
    "\n",
    "c = drawOnCMSCanvas(CMS_lumi, [h], ['colz'], mR=0.16)\n",
    "c.SetLogy()"
   ]
  },
  {
   "cell_type": "code",
   "execution_count": null,
   "metadata": {
    "ExecuteTime": {
     "end_time": "2020-07-28T22:47:09.230944Z",
     "start_time": "2020-07-28T22:35:45.153Z"
    }
   },
   "outputs": [],
   "source": [
    "h = create_TH2D(np.zeros((0,2)), name='h',\n",
    "                title='', axis_title=['mass(D_{0}^{(#diamond)}#pi^{+}) [GeV]', 'cos(#theta*_{#pi^{+}})', 'Candidates'],\n",
    "                binning=[np.linspace(2.1, 3, 50), np.linspace(-1, 1, 50)] )\n",
    "tData.Project('h', 'CosThetaSt_pip:mass_expDstpip', cuts)\n",
    "\n",
    "c = drawOnCMSCanvas(CMS_lumi, [h], ['colz'], mR=0.16)"
   ]
  },
  {
   "cell_type": "code",
   "execution_count": null,
   "metadata": {
    "ExecuteTime": {
     "end_time": "2020-07-28T22:47:09.234556Z",
     "start_time": "2020-07-28T22:35:45.155Z"
    }
   },
   "outputs": [],
   "source": [
    "cuts = ' && '.join(cut_general+cut_piK_rev+cut_D0pipmu)\n",
    "h = create_TH2D(np.zeros((0,2)), name='h',\n",
    "                title='', axis_title=['mass(D_{0}^{(#diamond)}#pi^{+}) [GeV]', 'cos(#theta*_{#pi^{+}})', 'Candidates'],\n",
    "                binning=[np.linspace(2.1, 3, 50), np.logspace(-5, -1, 50)] )\n",
    "tData.Project('h', '1-CosThetaSt_pip:mass_expDstpip', cuts)\n",
    "\n",
    "c = drawOnCMSCanvas(CMS_lumi, [h], ['colz'], mR=0.16)"
   ]
  },
  {
   "cell_type": "code",
   "execution_count": null,
   "metadata": {
    "ExecuteTime": {
     "end_time": "2020-07-28T22:47:09.237699Z",
     "start_time": "2020-07-28T22:35:45.157Z"
    }
   },
   "outputs": [],
   "source": [
    "cuts = ' && '.join(cut_general+cut_piK_rev+cut_D0pipmu)\n",
    "h = create_TH1D(np.zeros(0), name='h',\n",
    "                title='', axis_title=['mass(D_{0}^{(#diamond)}#pi^{+}) - mass(#piK) [GeV]', 'Candidates'],\n",
    "                binning=[50, 0.3, 1] )\n",
    "tData.Project('h', 'mass_expDstpip-mass_piK', cuts)\n",
    "h.Sumw2()\n",
    "h.SetLineWidth(2)\n",
    "h_list=[h]\n",
    "\n",
    "leg = rt.TLegend(0.7, 0.65, 0.98, 0.97)\n",
    "leg.AddEntry(h, 'Base', 'l')\n",
    "leg.SetTextFont(42)\n",
    "leg.SetFillStyle(0)\n",
    "leg.SetLineWidth(0)\n",
    "leg.SetBorderSize(0)\n",
    "\n",
    "appendNewHisto('mass_expDstpip-mass_piK', h_list, cuts, 'cos_D0pipmu_PV > 0.99', leg=leg, overflow=False)\n",
    "\n",
    "m = SetMaxToMaxHist(h_list)\n",
    "h_list[0].GetYaxis().SetRangeUser(0, m)\n",
    "c = drawOnCMSCanvas(CMS_lumi, h_list, 'same')\n",
    "leg.Draw()"
   ]
  },
  {
   "cell_type": "code",
   "execution_count": null,
   "metadata": {
    "ExecuteTime": {
     "end_time": "2020-07-28T22:47:09.240838Z",
     "start_time": "2020-07-28T22:35:45.159Z"
    }
   },
   "outputs": [],
   "source": [
    "cut_D0pipmu_rev = [\n",
    "'pip_pt > 0.5',\n",
    "'abs(pip_eta) < 2.4',\n",
    "'mass_D0pipmu < {}'.format(m_B0),\n",
    "'pval_D0pipmu > 0.1',\n",
    "'cos_D0pipmu_PV > 0.99'\n",
    "]"
   ]
  },
  {
   "cell_type": "code",
   "execution_count": null,
   "metadata": {
    "ExecuteTime": {
     "end_time": "2020-07-28T22:47:09.243972Z",
     "start_time": "2020-07-28T22:35:45.160Z"
    }
   },
   "outputs": [],
   "source": [
    "cuts = ' && '.join(cut_general+cut_piK_rev+cut_D0pipmu_rev)\n",
    "h = create_TH1D(np.zeros(0), name='h',\n",
    "                title='', axis_title=['mass(D_{0}^{(#diamond)}#pi^{+}) - mass(#piK) [GeV]', 'Candidates'],\n",
    "                binning=[50, 0.3, 1] )\n",
    "tData.Project('h', 'dm_expDstpip_pik', cuts)\n",
    "h.Sumw2()"
   ]
  },
  {
   "cell_type": "code",
   "execution_count": null,
   "metadata": {
    "ExecuteTime": {
     "end_time": "2020-07-28T22:47:09.246695Z",
     "start_time": "2020-07-28T22:35:45.162Z"
    }
   },
   "outputs": [],
   "source": [
    "xMin = 0.44\n",
    "xMax = 0.9\n",
    "xSigLow = 0.48\n",
    "xSigHigh = 0.7\n",
    "\n",
    "fBkg = rt.TF1('fBkg', 'pol3', xMin, xMax)\n",
    "gBkg = rt.TGraphErrors()\n",
    "for i in range(1,h.binning[0]+1):\n",
    "    x = h.GetBinCenter(i)\n",
    "    if (x > xMin and x < xSigLow) or (x > xSigHigh and x < xMax):\n",
    "        y = h.GetBinContent(i)\n",
    "        gBkg.SetPoint(i-1, x, y)\n",
    "        gBkg.SetPointError(i-1, 0, h.GetBinError(i))\n",
    "gBkg.Fit(fBkg, 's')"
   ]
  },
  {
   "cell_type": "code",
   "execution_count": null,
   "metadata": {
    "ExecuteTime": {
     "end_time": "2020-07-28T22:47:09.249216Z",
     "start_time": "2020-07-28T22:35:45.164Z"
    },
    "scrolled": false
   },
   "outputs": [],
   "source": [
    "c = drawOnCMSCanvas(CMS_lumi, [h], 'same')\n",
    "c.SetGrid()\n",
    "fBkg.Draw('same')\n",
    "cl.DrawLine(xSigLow, 0., xSigLow, h.GetMaximum())\n",
    "cl.DrawLine(xSigHigh, 0., xSigHigh, h.GetMaximum())\n",
    "nTot = 0\n",
    "for i in range(1,h.binning[0]+1):\n",
    "    x = h.GetBinCenter(i)\n",
    "    if x > xSigLow and x < xSigHigh:\n",
    "        nTot += h.GetBinContent(i) - fBkg.Eval(x)\n",
    "print 'Number of signal events: {:.0f}'.format(nTot)"
   ]
  },
  {
   "cell_type": "markdown",
   "metadata": {},
   "source": [
    "# Look for the soft $\\pi$ from $D^*$"
   ]
  },
  {
   "cell_type": "code",
   "execution_count": null,
   "metadata": {
    "ExecuteTime": {
     "end_time": "2020-07-28T22:47:09.252150Z",
     "start_time": "2020-07-28T22:35:45.167Z"
    }
   },
   "outputs": [],
   "source": [
    "cuts = ' && '.join(cut_general+cut_piK_rev+cut_D0pipmu_rev)\n",
    "h = create_TH2D(np.zeros((0,2)), name='h',\n",
    "                title='', axis_title=['mass(D_{0}^{(#diamond)}#pi^{+}) - mass(#piK) [GeV]', 'Number of #pi_{s}', 'Candidates'],\n",
    "                binning=[50, 0.3, 0.9, 5, -0.5, 4.5] )\n",
    "tData.Project('h', 'Sum$(chi2_D0pis>0):dm_expDstpip_pik', cuts)\n",
    "\n",
    "c = drawOnCMSCanvas(CMS_lumi, [h], ['colz'], mR=0.16)"
   ]
  },
  {
   "cell_type": "code",
   "execution_count": null,
   "metadata": {
    "ExecuteTime": {
     "end_time": "2020-07-28T22:47:09.254887Z",
     "start_time": "2020-07-28T22:35:45.169Z"
    }
   },
   "outputs": [],
   "source": [
    "cut_D0pis = [\n",
    "'pis_pt > 0.4',\n",
    "'fabs(pis_eta) < 2.4',\n",
    "'pval_D0pis > 0.1'\n",
    "]"
   ]
  },
  {
   "cell_type": "code",
   "execution_count": null,
   "metadata": {
    "ExecuteTime": {
     "end_time": "2020-07-28T22:47:09.257535Z",
     "start_time": "2020-07-28T22:35:45.170Z"
    }
   },
   "outputs": [],
   "source": [
    "cuts = ' && '.join(cut_general+cut_piK_rev+cut_D0pipmu_rev+cut_D0pis)\n",
    "h = create_TH1D(np.zeros(0), name='h',\n",
    "                title='', axis_title=['mass(D_{0}#pi_{s}) - mass(#piK)  - #Deltam(pdg) [MeV]', 'Candidates'],\n",
    "                binning=[50, -6, 10] )\n",
    "tData.Project('h', '1e3*(dm_D0pis_piK - {})'.format(m_Dst-m_D0), cuts)\n",
    "h.Sumw2()\n",
    "c = drawOnCMSCanvas(CMS_lumi, [h], 'same')"
   ]
  },
  {
   "cell_type": "code",
   "execution_count": null,
   "metadata": {
    "ExecuteTime": {
     "end_time": "2020-07-28T22:47:09.260067Z",
     "start_time": "2020-07-28T22:35:45.173Z"
    }
   },
   "outputs": [],
   "source": [
    "nPass = tData.GetEntries('fabs(mass_D0pis-mass_piK - {}) < 2e-3'.format(m_Dst-m_D0) + ' && ' + cuts)\n",
    "print 'Total tracking efficiecny: {:.0f}/{:.0f} = {:.1f}%'.format(nPass, nTot, 1e2*nPass/nTot)"
   ]
  },
  {
   "cell_type": "code",
   "execution_count": null,
   "metadata": {
    "ExecuteTime": {
     "end_time": "2020-07-28T22:47:09.262594Z",
     "start_time": "2020-07-28T22:35:45.175Z"
    }
   },
   "outputs": [],
   "source": [
    "cuts = ' && '.join(cut_general+cut_piK_rev+cut_D0pipmu_rev+cut_D0pis)\n",
    "h = create_TH1D(np.zeros(0), name='h',\n",
    "                title='', axis_title=['mass(D_{0}^{(#diamond)}#pi^{+}) - mass(#piK) [GeV]', 'Candidates'],\n",
    "                binning=[50, 0.3, 1] )\n",
    "tData.Project('h', 'dm_expDstpip_pik', cuts + ' && fabs(mass_D0pis-mass_piK - {}) < 2e-3'.format(m_Dst-m_D0))\n",
    "h.Sumw2()\n",
    "c = drawOnCMSCanvas(CMS_lumi, [h], 'same')"
   ]
  },
  {
   "cell_type": "markdown",
   "metadata": {
    "ExecuteTime": {
     "end_time": "2020-05-20T00:28:30.617058Z",
     "start_time": "2020-05-20T00:28:30.604275Z"
    }
   },
   "source": [
    "In a more accurate test, try to use ``RooChebychev`` to fit the background"
   ]
  },
  {
   "cell_type": "markdown",
   "metadata": {},
   "source": [
    "# Study the MC"
   ]
  },
  {
   "cell_type": "markdown",
   "metadata": {},
   "source": [
    "## Load the samples"
   ]
  },
  {
   "cell_type": "code",
   "execution_count": null,
   "metadata": {
    "ExecuteTime": {
     "end_time": "2020-07-28T22:47:09.265094Z",
     "start_time": "2020-07-28T22:35:45.180Z"
    }
   },
   "outputs": [],
   "source": [
    "loc = '../data/cmsMC_private/'\n",
    "loc += 'BP_Tag_Bp_MuNuDstst_Hardbbbar_evtgen_ISGW2_PUc0_10-2-3/'\n",
    "loc += 'ntuples_TagAndProbe_Bp_MuNuDstst/out_CAND_*.root'\n",
    "\n",
    "tMC = rt.TChain('outA/Tevts')\n",
    "for floc in glob(loc):\n",
    "    tMC.Add(floc)\n",
    "\n",
    "print 'N evts: {:.0f}'.format(tMC.GetEntries())"
   ]
  },
  {
   "cell_type": "markdown",
   "metadata": {},
   "source": [
    "## Plots"
   ]
  },
  {
   "cell_type": "code",
   "execution_count": null,
   "metadata": {
    "ExecuteTime": {
     "end_time": "2020-07-28T22:47:09.267812Z",
     "start_time": "2020-07-28T22:35:45.183Z"
    }
   },
   "outputs": [],
   "source": [
    "cuts = ' && '.join(cut_general+cut_piK_rev+cut_D0pipmu_rev)\n",
    "h = create_TH1D(np.zeros(0), name='h',\n",
    "                title='', axis_title=['mass(D_{0}^{(#diamond)}#pi^{+}) [GeV]', 'Candidates'],\n",
    "                binning=[50, 2.1, 3.] )\n",
    "tMC.Project('h', 'mass_expDstpip', cuts)\n",
    "h.Sumw2()\n",
    "c = drawOnCMSCanvas(CMS_lumi, [h], 'same')"
   ]
  },
  {
   "cell_type": "code",
   "execution_count": null,
   "metadata": {
    "ExecuteTime": {
     "end_time": "2020-07-28T22:47:09.270441Z",
     "start_time": "2020-07-28T22:35:45.185Z"
    }
   },
   "outputs": [],
   "source": [
    "cuts = ' && '.join(cut_general+cut_piK_rev+cut_D0pipmu_rev)\n",
    "h = create_TH1D(np.zeros(0), name='h',\n",
    "                title='', axis_title=['mass(D_{0}^{(#diamond)}#pi^{+}) - mass(#piK) [GeV]', 'Candidates'],\n",
    "                binning=[50, 0.3, 1] )\n",
    "tMC.Project('h', 'dm_expDstpip_pik', cuts)\n",
    "h.Sumw2()\n",
    "c = drawOnCMSCanvas(CMS_lumi, [h], 'same')"
   ]
  },
  {
   "cell_type": "code",
   "execution_count": null,
   "metadata": {
    "ExecuteTime": {
     "end_time": "2020-07-28T22:47:09.273121Z",
     "start_time": "2020-07-28T22:35:45.187Z"
    }
   },
   "outputs": [],
   "source": [
    "h = create_TH2D(np.zeros((0,2)), name='h',\n",
    "                title='', axis_title=['mass(D_{0}^{(#diamond)}#pi^{+}) [GeV]', 'cos(#theta*_{#pi^{+}})', 'Candidates'],\n",
    "                binning=[np.linspace(2.1, 3, 50), np.linspace(-1, 1, 50)] )\n",
    "tMC.Project('h', 'CosThetaSt_pip:mass_expDstpip', cuts)\n",
    "\n",
    "c = drawOnCMSCanvas(CMS_lumi, [h], ['colz'], mR=0.16)"
   ]
  },
  {
   "cell_type": "code",
   "execution_count": null,
   "metadata": {
    "ExecuteTime": {
     "end_time": "2020-07-28T22:47:09.275513Z",
     "start_time": "2020-07-28T22:35:45.190Z"
    }
   },
   "outputs": [],
   "source": [
    "cuts = ' && '.join(cut_general+cut_piK_rev+cut_D0pipmu_rev+cut_D0pis)\n",
    "h = create_TH1D(np.zeros(0), name='h',\n",
    "                title='', axis_title=['Soft #pi (p_{T}^{(#diamond)} - p_{T})/p_{T} [GeV]', 'Candidates'],\n",
    "                binning=[50, -0.5, 0.5] )\n",
    "tMC.Project('h', '(pis_expD0pipmu_pt - pis_refitD0pismu_pt)/pis_refitD0pismu_pt', cuts)\n",
    "h.Sumw2()\n",
    "c = drawOnCMSCanvas(CMS_lumi, [h], 'same')"
   ]
  },
  {
   "cell_type": "code",
   "execution_count": null,
   "metadata": {
    "ExecuteTime": {
     "end_time": "2020-07-28T22:47:09.278009Z",
     "start_time": "2020-07-28T22:35:45.193Z"
    }
   },
   "outputs": [],
   "source": [
    "cuts = ' && '.join(cut_general+cut_piK_rev+cut_D0pipmu_rev+cut_D0pis)\n",
    "h = create_TH2D(np.zeros((0,2)), name='h',\n",
    "                title='', axis_title=['Soft #pi p_{T} [GeV]', 'Soft #pi p_{T}^{(#diamond)} [GeV]', 'Candidates'],\n",
    "                binning=[np.logspace(-1, np.log10(5), 50), np.logspace(-1, np.log10(5), 50)])\n",
    "tMC.Project('h', 'pis_expD0pipmu_pt:pis_refitD0pismu_pt', cuts)\n",
    "h.Sumw2()\n",
    "c = drawOnCMSCanvas(CMS_lumi, [h], ['colz'], mR=0.16)"
   ]
  },
  {
   "cell_type": "code",
   "execution_count": null,
   "metadata": {
    "ExecuteTime": {
     "end_time": "2020-07-28T22:47:09.280751Z",
     "start_time": "2020-07-28T22:35:45.194Z"
    }
   },
   "outputs": [],
   "source": [
    "cuts = ' && '.join(cut_general+cut_piK_rev+cut_D0pipmu_rev+cut_D0pis)\n",
    "h = create_TH2D(np.zeros((0,2)), name='h',\n",
    "                title='', axis_title=['Soft #pi p_{T} [GeV]', 'Soft #pi p_{T}^{(#diamond)} [GeV]', 'Candidates'],\n",
    "                binning=[np.logspace(-1, np.log10(5), 50), np.logspace(-1, np.log10(5), 50)])\n",
    "tMC.Project('h', '1./pis_expD0pipmu_pt:1./pis_refitD0pismu_pt', cuts)\n",
    "h.Sumw2()\n",
    "c = drawOnCMSCanvas(CMS_lumi, [h], ['colz'], mR=0.16)"
   ]
  },
  {
   "cell_type": "code",
   "execution_count": null,
   "metadata": {
    "ExecuteTime": {
     "end_time": "2020-07-28T22:47:09.283271Z",
     "start_time": "2020-07-28T22:35:45.196Z"
    }
   },
   "outputs": [],
   "source": [
    "cuts = ' && '.join(cut_general+cut_piK_rev+cut_D0pipmu_rev+cut_D0pis)\n",
    "h = create_TH2D(np.zeros((0,2)), name='h',\n",
    "                title='', axis_title=['Soft #pi #phi', 'Soft #pi #phi^{(#diamond)}', 'Candidates'],\n",
    "                binning=[50, -np.pi, np.pi, 50, -np.pi, np.pi]\n",
    "               )\n",
    "tMC.Project('h', 'pis_expD0pipmu_phi:pis_refitD0pismu_phi', cuts)\n",
    "h.Sumw2()\n",
    "c = drawOnCMSCanvas(CMS_lumi, [h], ['colz'], mR=0.16)"
   ]
  },
  {
   "cell_type": "code",
   "execution_count": null,
   "metadata": {
    "ExecuteTime": {
     "end_time": "2020-07-28T22:47:09.285866Z",
     "start_time": "2020-07-28T22:35:45.198Z"
    }
   },
   "outputs": [],
   "source": [
    "cuts = ' && '.join(cut_general+cut_piK_rev+cut_D0pipmu_rev+cut_D0pis)\n",
    "h = create_TH2D(np.zeros((0,2)), name='h',\n",
    "                title='', axis_title=['Soft #pi #eta', 'Soft #pi #eta^{(#diamond)}', 'Candidates'],\n",
    "                binning=[50, -2.4, 2.4, 50, -2.4, 2.4]\n",
    "               )\n",
    "tMC.Project('h', 'pis_expD0pipmu_eta:pis_refitD0pismu_eta', cuts)\n",
    "h.Sumw2()\n",
    "c = drawOnCMSCanvas(CMS_lumi, [h], ['colz'], mR=0.16)"
   ]
  },
  {
   "cell_type": "code",
   "execution_count": null,
   "metadata": {
    "ExecuteTime": {
     "end_time": "2020-07-28T22:47:09.288190Z",
     "start_time": "2020-07-28T22:35:45.200Z"
    }
   },
   "outputs": [],
   "source": [
    "cuts = ' && '.join(cut_general+cut_piK_rev+cut_D0pipmu_rev+cut_D0pis)\n",
    "h = create_TH2D(np.zeros((0,2)), name='h',\n",
    "                title='', axis_title=['Soft #pi p_{T} [GeV]', 'Soft #pi p_{T}^{(scaled)} [GeV]', 'Candidates'],\n",
    "                binning=[np.logspace(-1, np.log10(5), 50), np.logspace(-1, np.log10(5), 50)])\n",
    "tMC.Project('h', 'pis_expScale_pt:pis_refitD0pismu_pt', cuts)\n",
    "h.Sumw2()\n",
    "c = drawOnCMSCanvas(CMS_lumi, [h], ['colz'], mR=0.16)"
   ]
  },
  {
   "cell_type": "code",
   "execution_count": null,
   "metadata": {
    "ExecuteTime": {
     "end_time": "2020-07-28T22:47:09.290364Z",
     "start_time": "2020-07-28T22:35:45.202Z"
    }
   },
   "outputs": [],
   "source": [
    "cuts = ' && '.join(cut_general+cut_piK_rev+cut_D0pipmu_rev+cut_D0pis)\n",
    "h = create_TH2D(np.zeros((0,2)), name='h',\n",
    "                title='', axis_title=['Soft #pi E [GeV]', 'Soft #pi E^{(scaled)} [GeV]', 'Candidates'],\n",
    "                binning=[np.logspace(-1, np.log10(5), 50), np.logspace(-1, np.log10(5), 50)])\n",
    "tMC.Project('h', 'pis_expScale_E:pis_refitD0pismu_pt/cosh(pis_refitD0pismu_eta)', cuts)\n",
    "h.Sumw2()\n",
    "c = drawOnCMSCanvas(CMS_lumi, [h], ['colz'], mR=0.16)"
   ]
  },
  {
   "cell_type": "code",
   "execution_count": null,
   "metadata": {
    "ExecuteTime": {
     "end_time": "2020-07-28T22:47:09.292672Z",
     "start_time": "2020-07-28T22:35:45.203Z"
    }
   },
   "outputs": [],
   "source": [
    "cut_general+cut_piK_rev+cut_D0pipmu_rev+cut_D0pis"
   ]
  },
  {
   "cell_type": "code",
   "execution_count": null,
   "metadata": {
    "ExecuteTime": {
     "end_time": "2020-07-28T22:47:09.294957Z",
     "start_time": "2020-07-28T22:35:45.205Z"
    }
   },
   "outputs": [],
   "source": [
    "m_Dst-m_D0"
   ]
  },
  {
   "cell_type": "code",
   "execution_count": null,
   "metadata": {},
   "outputs": [],
   "source": []
  }
 ],
 "metadata": {
  "kernelspec": {
   "display_name": "Python 2",
   "language": "python",
   "name": "python2"
  },
  "language_info": {
   "codemirror_mode": {
    "name": "ipython",
    "version": 2
   },
   "file_extension": ".py",
   "mimetype": "text/x-python",
   "name": "python",
   "nbconvert_exporter": "python",
   "pygments_lexer": "ipython2",
   "version": "2.7.14+"
  },
  "varInspector": {
   "cols": {
    "lenName": 16,
    "lenType": 16,
    "lenVar": 40
   },
   "kernels_config": {
    "python": {
     "delete_cmd_postfix": "",
     "delete_cmd_prefix": "del ",
     "library": "var_list.py",
     "varRefreshCmd": "print(var_dic_list())"
    },
    "r": {
     "delete_cmd_postfix": ") ",
     "delete_cmd_prefix": "rm(",
     "library": "var_list.r",
     "varRefreshCmd": "cat(var_dic_list()) "
    }
   },
   "types_to_exclude": [
    "module",
    "function",
    "builtin_function_or_method",
    "instance",
    "_Feature"
   ],
   "window_display": false
  }
 },
 "nbformat": 4,
 "nbformat_minor": 2
}
