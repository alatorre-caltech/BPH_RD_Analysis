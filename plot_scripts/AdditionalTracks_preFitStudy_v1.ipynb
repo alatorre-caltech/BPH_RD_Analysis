{
 "cells": [
  {
   "cell_type": "markdown",
   "metadata": {},
   "source": [
    "# Import"
   ]
  },
  {
   "cell_type": "code",
   "execution_count": 1,
   "metadata": {
    "ExecuteTime": {
     "end_time": "2021-11-03T22:39:47.743647Z",
     "start_time": "2021-11-03T22:39:37.152334Z"
    }
   },
   "outputs": [
    {
     "name": "stdout",
     "output_type": "stream",
     "text": [
      "Welcome to JupyROOT 6.12/07\n"
     ]
    }
   ],
   "source": [
    "import numpy as np\n",
    "import pandas as pd\n",
    "import scipy.stats as sps\n",
    "from glob import glob\n",
    "import matplotlib.pyplot as plt\n",
    "from scipy.special import factorial\n",
    "from scipy.optimize import minimize\n",
    "import uproot as ur\n",
    "import ROOT as rt\n",
    "import root_numpy as rtnp\n",
    "import ROOT.RooFit as rf\n",
    "from scipy.special import erf\n",
    "import sys, os, yaml\n",
    "sys.path.append('../lib')\n",
    "sys.path.append('../analysis')\n",
    "from histo_utilities import create_TH1D, create_TH2D, std_color_list, SetMaxToMaxHist, make_ratio_plot\n",
    "from lumi_utilities import getLumiByTrigger\n",
    "from cebefo_style import Set_2D_colz_graphics\n",
    "from progressBar import ProgressBar\n",
    "from array import array\n",
    "from categoriesDef import categories\n",
    "\n",
    "from analysis_utilities import drawOnCMSCanvas, getEff, DSetLoader\n",
    "from pileup_utilities import pileupReweighter\n",
    "from pT_calibration_reader import pTCalReader\n",
    "from lumi_utilities import getLumiReport\n",
    "\n",
    "import CMS_lumi, tdrstyle\n",
    "tdrstyle.setTDRStyle()\n",
    "CMS_lumi.writeExtraText = 1\n",
    "CMS_lumi.extraText = \"     Internal\"\n",
    "\n",
    "donotdelete = []"
   ]
  },
  {
   "cell_type": "code",
   "execution_count": 2,
   "metadata": {
    "ExecuteTime": {
     "end_time": "2021-11-03T22:39:47.896432Z",
     "start_time": "2021-11-03T22:39:47.824723Z"
    }
   },
   "outputs": [],
   "source": [
    "from prettytable import PrettyTable"
   ]
  },
  {
   "cell_type": "code",
   "execution_count": 3,
   "metadata": {
    "ExecuteTime": {
     "end_time": "2021-11-03T22:39:48.119679Z",
     "start_time": "2021-11-03T22:39:48.005327Z"
    }
   },
   "outputs": [],
   "source": [
    "rt.gErrorIgnoreLevel = rt.kError\n",
    "rt.RooMsgService.instance().setGlobalKillBelow(rt.RooFit.ERROR)"
   ]
  },
  {
   "cell_type": "code",
   "execution_count": 4,
   "metadata": {
    "ExecuteTime": {
     "end_time": "2021-11-03T22:39:48.217344Z",
     "start_time": "2021-11-03T22:39:48.202271Z"
    }
   },
   "outputs": [
    {
     "name": "stdout",
     "output_type": "stream",
     "text": [
      "1.86483\n",
      "2.01026\n",
      "5.27963\n",
      "mD* - mD0 = 0.14543\n"
     ]
    }
   ],
   "source": [
    "m_D0 = 1.86483 #1e-3*Particle.from_string('D0').mass\n",
    "print m_D0\n",
    "m_Dst = 2.01026 #1e-3*Particle.from_string('D*+').mass\n",
    "print m_Dst\n",
    "m_B0 = 5.27963 #1e-3*Particle.from_string('B0').mass\n",
    "print m_B0\n",
    "m_pi = 0.13957018 #1e-3*Particle.from_string('pi+').mass\n",
    "print 'mD* - mD0 =', m_Dst - m_D0"
   ]
  },
  {
   "cell_type": "markdown",
   "metadata": {},
   "source": [
    "# Get MC"
   ]
  },
  {
   "cell_type": "code",
   "execution_count": 6,
   "metadata": {
    "ExecuteTime": {
     "end_time": "2021-11-03T22:39:52.359575Z",
     "start_time": "2021-11-03T22:39:52.350611Z"
    }
   },
   "outputs": [],
   "source": [
    "cat = categories['high']"
   ]
  },
  {
   "cell_type": "code",
   "execution_count": 8,
   "metadata": {
    "ExecuteTime": {
     "end_time": "2021-11-03T22:41:24.449592Z",
     "start_time": "2021-11-03T22:41:22.170404Z"
    }
   },
   "outputs": [],
   "source": [
    "#They all have to be produced with the same pileup\n",
    "MCsample = {\n",
    "'mu' : DSetLoader('Bd_MuNuDst', candDir='ntuples_B2DstMu_wOC'),\n",
    "    \n",
    "# 'old_mu' : DSetLoader('B0_MuNuDmst_PUc0'),\n",
    "# 'tau' : DSetLoader('B0_TauNuDmst_PUc0'),\n",
    "# 'Hc' : DSetLoader('B0_DmstHc_PUc0'),\n",
    "# 'DstPip' : DSetLoader('Bp_MuNuDstst_Pip_PUc0'),\n",
    "# 'DstPi0' : DSetLoader('B0_MuNuDstst_Pi0_PUc0'),\n",
    "# 'DstPi0' : DSetLoader('B0_DmstPi0MuNu_PUc0'),\n",
    "# 'DstPipPi0' : DSetLoader('Bp_MuNuDstst_PipPi0_PUc0'),\n",
    "# 'DstPipPim' : DSetLoader('B0_MuNuDstst_PipPim_PUc0'),\n",
    "# 'DstPi0Pi0' : DSetLoader('B0_MuNuDstst_Pi0Pi0_PUc0'),\n",
    "}\n",
    "df = {}\n",
    "for n, s in MCsample.iteritems():\n",
    "    df[n] = pd.DataFrame(rtnp.root2array(s.skimmed_dir + '/{}_trkCtrl_bare.root'.format(cat.name)))"
   ]
  },
  {
   "cell_type": "code",
   "execution_count": null,
   "metadata": {
    "ExecuteTime": {
     "end_time": "2021-06-08T16:18:02.728981Z",
     "start_time": "2021-06-08T16:18:02.691621Z"
    }
   },
   "outputs": [],
   "source": [
    "for dn in ['mu', 'DstPip']:\n",
    "    if not dn in MCsample.keys(): continue\n",
    "    print dn\n",
    "    d = df[dn]\n",
    "    sel = d['N_goodAddTks'] == 1\n",
    "    e, de = getEff(np.sum(d['MC_tkFlag_0'][sel] > 0), np.sum(sel))\n",
    "    print 'Tot: {:.1f} +/- {:.1f} %'.format( 100*e, 100*de )\n",
    "    \n",
    "    selp = np.logical_and(sel, d['tkCharge_0'] > 0)\n",
    "    e, de = getEff(np.sum(d['MC_tkFlag_0'][selp] > 0), np.sum(selp))\n",
    "    print 'Plus: {:.1f} +/- {:.1f} %'.format(100*e, 100*de)\n",
    "    selm = np.logical_and(sel, d['tkCharge_0'] < 0)\n",
    "    e, de = getEff(np.sum(d['MC_tkFlag_0'][selm] > 0), np.sum(selm))\n",
    "    print 'Minus: {:.1f} +/- {:.1f} %'.format(100*e, 100*de)\n",
    "    \n",
    "    \n",
    "    print '\\n'+30*'-'+ '\\n'"
   ]
  },
  {
   "cell_type": "markdown",
   "metadata": {
    "heading_collapsed": true
   },
   "source": [
    "### Some MC plots"
   ]
  },
  {
   "cell_type": "code",
   "execution_count": null,
   "metadata": {
    "ExecuteTime": {
     "end_time": "2020-07-07T03:19:25.524357Z",
     "start_time": "2020-07-07T03:19:25.510042Z"
    },
    "hidden": true
   },
   "outputs": [],
   "source": [
    "d = df['DstPip']"
   ]
  },
  {
   "cell_type": "code",
   "execution_count": null,
   "metadata": {
    "ExecuteTime": {
     "end_time": "2020-07-07T03:19:25.838442Z",
     "start_time": "2020-07-07T03:19:25.528532Z"
    },
    "hidden": true
   },
   "outputs": [],
   "source": [
    "sel = np.logical_and(d['N_goodAddTks'] == 1, d['tkCharge_0'] > 0)\n",
    "h = create_TH1D(d['tkMassHad_0'][sel], binning=[50, 2, 3.5], axis_title=['Hadronic Mass [GeV]', 'normalized entries'], scale_histo='norm')\n",
    "c = drawOnCMSCanvas(CMS_lumi, [h])"
   ]
  },
  {
   "cell_type": "code",
   "execution_count": null,
   "metadata": {
    "ExecuteTime": {
     "end_time": "2020-07-07T03:19:25.857765Z",
     "start_time": "2020-07-07T03:19:25.843005Z"
    },
    "hidden": true
   },
   "outputs": [],
   "source": [
    "np.sum(np.logical_and(d['MC_tkFlag_0'] == 1, sel))/float(np.sum(sel))"
   ]
  },
  {
   "cell_type": "code",
   "execution_count": null,
   "metadata": {
    "ExecuteTime": {
     "end_time": "2020-07-07T03:19:25.897108Z",
     "start_time": "2020-07-07T03:19:25.862021Z"
    },
    "hidden": true
   },
   "outputs": [],
   "source": [
    "selDstPi = np.logical_and(df['DstPip']['N_goodAddTks'] == 1, df['DstPip']['tkCharge_0'] > 0)\n",
    "selDstPi = np.logical_and(df['DstPip']['MC_tkFlag_0'] == 1, selDstPi)\n",
    "selMu = np.logical_and(df['mu']['N_goodAddTks'] == 1, df['mu']['tkCharge_0'] > 0)\n",
    "selMu = np.logical_and(df['mu']['MC_tkFlag_0'] == 1, selMu)"
   ]
  },
  {
   "cell_type": "code",
   "execution_count": null,
   "metadata": {
    "ExecuteTime": {
     "end_time": "2020-07-07T03:19:26.036733Z",
     "start_time": "2020-07-07T03:19:25.901715Z"
    },
    "hidden": true
   },
   "outputs": [],
   "source": [
    "h = create_TH2D(np.column_stack((df['DstPip']['tkMassHad_0'][selDstPi], df['DstPip']['MC_tk_dpt_0'][selDstPi])), 'DstPip', \n",
    "                binning=[np.linspace(2, 3.5, 50), np.logspace(-5, np.log10(0.03), 30)], \n",
    "                axis_title=['Hadronic Mass [GeV]', '#Delta p_{T} /p_{T}', '']\n",
    "               )\n",
    "c = drawOnCMSCanvas(CMS_lumi, [h], ['colz'], tag='DstPip')\n",
    "c.SetLogy()\n",
    "\n",
    "h1 = create_TH2D(np.column_stack((df['mu']['tkMassHad_0'][selMu], df['mu']['MC_tk_dpt_0'][selMu])), 'mu',\n",
    "                binning=[np.linspace(2, 3.5, 50), np.logspace(-5, np.log10(0.03), 30)], \n",
    "                axis_title=['Hadronic Mass [GeV]', '#Delta p_{T} /p_{T}', '']\n",
    "               )\n",
    "c1 = drawOnCMSCanvas(CMS_lumi, [h1], ['colz'], tag='mu')\n",
    "c1.SetLogy()"
   ]
  },
  {
   "cell_type": "code",
   "execution_count": null,
   "metadata": {
    "ExecuteTime": {
     "end_time": "2020-07-07T03:19:26.155573Z",
     "start_time": "2020-07-07T03:19:26.041170Z"
    },
    "hidden": true
   },
   "outputs": [],
   "source": [
    "h = create_TH2D(np.column_stack((df['DstPip']['tkMassHad_0'][selDstPi], df['DstPip']['MC_tk_dphi_0'][selDstPi])), 'DstPip', \n",
    "                binning=[np.linspace(2, 3.5, 50), np.logspace(-5, np.log10(0.002), 30)],\n",
    "                axis_title=['Hadronic Mass [GeV]', '#Delta #phi', '']\n",
    "               )\n",
    "c = drawOnCMSCanvas(CMS_lumi, [h], ['colz'], tag='DstPip')\n",
    "c.SetLogy()\n",
    "\n",
    "h1 = create_TH2D(np.column_stack((df['mu']['tkMassHad_0'][selMu], df['mu']['MC_tk_dphi_0'][selMu])), 'mu',\n",
    "                binning=[np.linspace(2, 3.5, 50), np.logspace(-5, np.log10(0.002), 30)],\n",
    "                axis_title=['Hadronic Mass [GeV]', '#Delta #phi', '']\n",
    "               )\n",
    "c1 = drawOnCMSCanvas(CMS_lumi, [h1], ['colz'], tag='mu')\n",
    "c1.SetLogy()"
   ]
  },
  {
   "cell_type": "code",
   "execution_count": null,
   "metadata": {
    "ExecuteTime": {
     "end_time": "2020-07-07T03:19:26.189399Z",
     "start_time": "2020-07-07T03:19:26.162957Z"
    },
    "hidden": true
   },
   "outputs": [],
   "source": [
    "print np.sum(np.logical_and(df['DstPip']['MC_tk_dphi_0'] < 0.001, selDstPi))/float(np.sum(selDstPi))\n",
    "print np.sum(np.logical_and(df['mu']['MC_tk_dphi_0'] < 0.001, selMu))/float(np.sum(selMu))"
   ]
  },
  {
   "cell_type": "code",
   "execution_count": null,
   "metadata": {
    "ExecuteTime": {
     "end_time": "2020-07-07T03:19:26.326904Z",
     "start_time": "2020-07-07T03:19:26.195522Z"
    },
    "hidden": true
   },
   "outputs": [],
   "source": [
    "h = create_TH2D(np.column_stack((df['DstPip']['tkMassHad_0'][selDstPi], df['DstPip']['MC_tk_deta_0'][selDstPi])), 'DstPip', \n",
    "                binning=[np.linspace(2, 3.5, 50), np.logspace(-5, np.log10(0.002), 30)],\n",
    "                axis_title=['Hadronic Mass [GeV]', '#Delta #eta', '']\n",
    "               )\n",
    "c = drawOnCMSCanvas(CMS_lumi, [h], ['colz'], tag='DstPip')\n",
    "c.SetLogy()\n",
    "\n",
    "h1 = create_TH2D(np.column_stack((df['mu']['tkMassHad_0'][selMu], df['mu']['MC_tk_deta_0'][selMu])), 'mu',\n",
    "                binning=[np.linspace(2, 3.5, 50), np.logspace(-5, np.log10(0.002), 30)],\n",
    "                axis_title=['Hadronic Mass [GeV]', '#Delta #eta', '']\n",
    "               )\n",
    "c1 = drawOnCMSCanvas(CMS_lumi, [h1], ['colz'], tag='mu')\n",
    "c1.SetLogy()"
   ]
  },
  {
   "cell_type": "code",
   "execution_count": null,
   "metadata": {
    "ExecuteTime": {
     "end_time": "2020-07-07T03:19:26.443608Z",
     "start_time": "2020-07-07T03:19:26.331867Z"
    },
    "hidden": true
   },
   "outputs": [],
   "source": [
    "dRDstPi = np.hypot(df['DstPip']['MC_tk_deta_0'][selDstPi], df['DstPip']['MC_tk_dphi_0'][selDstPi])\n",
    "h = create_TH2D(np.column_stack((df['DstPip']['tkMassHad_0'][selDstPi], dRDstPi)), 'DstPip', \n",
    "                binning=[np.linspace(2, 3.5, 50), np.logspace(-5, np.log10(0.002*np.sqrt(2)), 30)],\n",
    "                axis_title=['Hadronic Mass [GeV]', '#DeltaR', '']\n",
    "               )\n",
    "c = drawOnCMSCanvas(CMS_lumi, [h], ['colz'], tag='DstPip')\n",
    "c.SetLogy()\n",
    "\n",
    "dRMu = np.hypot(df['mu']['MC_tk_deta_0'][selMu], df['mu']['MC_tk_dphi_0'][selMu])\n",
    "h1 = create_TH2D(np.column_stack((df['mu']['tkMassHad_0'][selMu], dRMu)), 'mu',\n",
    "                binning=[np.linspace(2, 3.5, 50), np.logspace(-5, np.log10(0.002*np.sqrt(2)), 30)],\n",
    "                axis_title=['Hadronic Mass [GeV]', '#DeltaR', '']\n",
    "               )\n",
    "c1 = drawOnCMSCanvas(CMS_lumi, [h1], ['colz'], tag='mu')\n",
    "c1.SetLogy()"
   ]
  },
  {
   "cell_type": "code",
   "execution_count": null,
   "metadata": {
    "ExecuteTime": {
     "end_time": "2020-07-07T03:19:26.464448Z",
     "start_time": "2020-07-07T03:19:26.448383Z"
    },
    "hidden": true
   },
   "outputs": [],
   "source": [
    "print np.sum(dRDstPi < 0.002)/float(np.sum(selDstPi))\n",
    "print np.sum(dRMu < 0.002)/float(np.sum(selMu))"
   ]
  },
  {
   "cell_type": "code",
   "execution_count": null,
   "metadata": {
    "ExecuteTime": {
     "end_time": "2020-07-07T03:19:26.818873Z",
     "start_time": "2020-07-07T03:19:26.469322Z"
    },
    "hidden": true
   },
   "outputs": [],
   "source": [
    "dRDstPi = (df['DstPip']['tkPt_0'][selDstPi] - df['DstPip']['mu_pt'][selDstPi])/df['DstPip']['mu_pt'][selDstPi]\n",
    "h = create_TH2D(np.column_stack((df['DstPip']['tkMassHad_0'][selDstPi], dRDstPi)), 'DstPip', \n",
    "                binning=[np.linspace(2, 3.5, 50), np.linspace(-1, 1, 30)],\n",
    "                axis_title=['Hadronic Mass [GeV]', '#Delta p_{T} w.t.r. #mu', '']\n",
    "               )\n",
    "c = drawOnCMSCanvas(CMS_lumi, [h], ['colz'], tag='DstPip')\n",
    "\n",
    "dRMu = (df['mu']['tkPt_0'][selMu] - df['mu']['mu_pt'][selMu])/df['mu']['mu_pt'][selMu]\n",
    "h1 = create_TH2D(np.column_stack((df['mu']['tkMassHad_0'][selMu], dRMu)), 'mu',\n",
    "                binning=[np.linspace(2, 3.5, 50), np.linspace(-1, 1, 50)],\n",
    "                axis_title=['Hadronic Mass [GeV]', '#Delta p_{T} w.t.r. #mu', '']\n",
    "               )\n",
    "c1 = drawOnCMSCanvas(CMS_lumi, [h1], ['colz'], tag='mu')"
   ]
  },
  {
   "cell_type": "code",
   "execution_count": null,
   "metadata": {
    "ExecuteTime": {
     "end_time": "2020-07-07T03:19:26.936762Z",
     "start_time": "2020-07-07T03:19:26.824316Z"
    },
    "hidden": true
   },
   "outputs": [],
   "source": [
    "dRDstPi = (df['DstPip']['tkPt_0'][selDstPi] - df['DstPip']['pi_pt'][selDstPi])/df['DstPip']['pi_pt'][selDstPi]\n",
    "h = create_TH2D(np.column_stack((df['DstPip']['tkMassHad_0'][selDstPi], dRDstPi)), 'DstPip', \n",
    "                binning=[np.linspace(2, 3.5, 50), np.linspace(-1, 1, 30)],\n",
    "                axis_title=['Hadronic Mass [GeV]', '#Delta p_{T} w.t.r. #pi', '']\n",
    "               )\n",
    "c = drawOnCMSCanvas(CMS_lumi, [h], ['colz'], tag='DstPip')\n",
    "\n",
    "dRMu = (df['mu']['tkPt_0'][selMu] - df['mu']['pi_pt'][selMu])/df['mu']['pi_pt'][selMu]\n",
    "h1 = create_TH2D(np.column_stack((df['mu']['tkMassHad_0'][selMu], dRMu)), 'mu',\n",
    "                binning=[np.linspace(2, 3.5, 50), np.linspace(-1, 1, 50)],\n",
    "                axis_title=['Hadronic Mass [GeV]', '#Delta p_{T} w.t.r. #pi', '']\n",
    "               )\n",
    "c1 = drawOnCMSCanvas(CMS_lumi, [h1], ['colz'], tag='mu')"
   ]
  },
  {
   "cell_type": "code",
   "execution_count": null,
   "metadata": {
    "ExecuteTime": {
     "end_time": "2020-07-07T03:19:27.050985Z",
     "start_time": "2020-07-07T03:19:26.941597Z"
    },
    "hidden": true
   },
   "outputs": [],
   "source": [
    "dRDstPi = (df['DstPip']['tkPt_0'][selDstPi] - df['DstPip']['pis_pt'][selDstPi])/df['DstPip']['pis_pt'][selDstPi]\n",
    "h = create_TH2D(np.column_stack((df['DstPip']['tkMassHad_0'][selDstPi], dRDstPi)), 'DstPip', \n",
    "                binning=[np.linspace(2, 3.5, 50), np.linspace(-5, 5, 30)],\n",
    "                axis_title=['Hadronic Mass [GeV]', '#Delta p_{T} w.t.r. #pi', '']\n",
    "               )\n",
    "c = drawOnCMSCanvas(CMS_lumi, [h], ['colz'], tag='DstPip')\n",
    "\n",
    "dRMu = (df['mu']['tkPt_0'][selMu] - df['mu']['pis_pt'][selMu])/df['mu']['pis_pt'][selMu]\n",
    "h1 = create_TH2D(np.column_stack((df['mu']['tkMassHad_0'][selMu], dRMu)), 'mu',\n",
    "                binning=[np.linspace(2, 3.5, 50), np.linspace(-5, 5, 50)],\n",
    "                axis_title=['Hadronic Mass [GeV]', '#Delta p_{T} w.t.r. #pi soft', '']\n",
    "               )\n",
    "c1 = drawOnCMSCanvas(CMS_lumi, [h1], ['colz'], tag='mu')"
   ]
  },
  {
   "cell_type": "code",
   "execution_count": null,
   "metadata": {
    "ExecuteTime": {
     "end_time": "2020-07-07T03:19:27.171892Z",
     "start_time": "2020-07-07T03:19:27.055960Z"
    },
    "hidden": true
   },
   "outputs": [],
   "source": [
    "aux = np.column_stack((df['DstPip']['tkMassHad_0'][selDstPi], df['DstPip']['tkPt_0'][selDstPi]))\n",
    "h = create_TH2D(aux, 'DstPip', \n",
    "                binning=[np.linspace(2, 3.5, 50), np.logspace(np.log10(0.2), np.log10(5.0), 40)],\n",
    "                axis_title=['Hadronic Mass [GeV]', 'Track p_{T} [GeV]', '']\n",
    "               )\n",
    "c = drawOnCMSCanvas(CMS_lumi, [h], ['colz'], tag='DstPip')\n",
    "\n",
    "aux = np.column_stack((df['mu']['tkMassHad_0'][selMu], df['mu']['tkPt_0'][selMu]))\n",
    "h1 = create_TH2D(aux, 'mu',\n",
    "                binning=h.binning,\n",
    "                axis_title=['Hadronic Mass [GeV]', 'Track p_{T} [GeV]', '']\n",
    "               )\n",
    "c1 = drawOnCMSCanvas(CMS_lumi, [h1], ['colz'], tag='mu')"
   ]
  },
  {
   "cell_type": "markdown",
   "metadata": {
    "heading_collapsed": true
   },
   "source": [
    "## PdgId Plots"
   ]
  },
  {
   "cell_type": "code",
   "execution_count": null,
   "metadata": {
    "ExecuteTime": {
     "end_time": "2020-07-07T03:19:27.343595Z",
     "start_time": "2020-07-07T03:19:27.177236Z"
    },
    "hidden": true,
    "hide_input": true
   },
   "outputs": [],
   "source": [
    "pdgid2LatexName = {\n",
    "0: 'N/A',\n",
    "1: 'd',\n",
    "-1: '\\\\bar{d}',\n",
    "2: 'u',\n",
    "-2: '\\\\bar{u}',\n",
    "3: 's',\n",
    "-3: '\\\\bar{s}',\n",
    "4: 'c',\n",
    "-4: '\\\\bar{c}',\n",
    "5: 'b',\n",
    "-5: '\\\\bar{b}',\n",
    "11: 'e^{-}',\n",
    "-11: 'e^{-}',\n",
    "13: '\\mu^{-}',\n",
    "-13: '\\mu^{+}',\n",
    "15: '\\\\tau^{-}',\n",
    "-15: '\\\\tau^{+}',\n",
    "21: 'g',\n",
    "22: '\\gamma',  \n",
    "111: '\\pi_{0}',\n",
    "113: '\\\\rho_{0}',\n",
    "-113: '\\\\bar{\\\\rho}_{0}',\n",
    "211: '\\pi^{+}',\n",
    "-211: '\\pi^{-}',\n",
    "213: '\\\\rho^{+}',\n",
    "-213: '\\\\rho^{-}',\n",
    "221: '\\eta',\n",
    "-221: '\\\\bar{eta}',\n",
    "223: '\\omega',\n",
    "-223: '\\\\bar{omega}',\n",
    "313: 'K^{*}_{0}',\n",
    "-313: '\\\\bar{K}^{*}_{0}',\n",
    "315: 'K_{2}^{*0}',\n",
    "-315: '\\\\bar{K}_{2}^{*0}',\n",
    "321: 'K^{+}',\n",
    "-321: 'K^{-}',\n",
    "323: 'K^{*+}',\n",
    "-323: 'K^{*-}',\n",
    "331: '\\eta^{\\prime}',\n",
    "-331: '\\\\bar{eta}^{\\prime}',\n",
    "333: '\\phi',\n",
    "-333: '\\\\bar{phi}',\n",
    "411: 'D^{+}',\n",
    "-411: 'D^{-}',\n",
    "413: 'D^{*+}',\n",
    "-413: 'D^{*-}',\n",
    "415: 'D_{2}^{*+}',\n",
    "-415: 'D_{2}^{*-}',\n",
    "421: 'D_{0}',\n",
    "-421: '\\\\bar{D}_{0}',\n",
    "423: 'D_{0}^{*}',\n",
    "-423: '\\\\bar{D}_{0}^{*}',\n",
    "425: 'D_{2}^{*0}',\n",
    "-425: '\\\\bar{D}_{2}^{*0}',\n",
    "431: 'D_{s}^{+}',\n",
    "-431: 'D_{s}^{-}',\n",
    "511: 'B_{0}',\n",
    "-511: '\\\\bar{B}_{0}',\n",
    "513: 'B_{0}^{*}',\n",
    "-513: '\\\\bar{B}_{0}^{*}',\n",
    "521: 'B^{+}',\n",
    "-521: 'B^{-}',\n",
    "523: 'B^{*+}',\n",
    "-523: 'B^{*-}',\n",
    "541: 'B_{c}^{+}',\n",
    "-541: 'B_{c}^{-}',\n",
    "543: 'B_{c}^{*+}',\n",
    "-543: 'B_{c}^{*-}',\n",
    "2212: 'p',\n",
    "-2212: '\\\\bar{p}',\n",
    "3112: '\\Sigma^{-}',\n",
    "-3112: '\\Sigma^{+}',\n",
    "3312: '\\Xi^{-}',\n",
    "-3312: '\\Xi^{+}',\n",
    "4122: '\\Lambda_{c}^{+}',\n",
    "-4122: '\\Lambda_{c}^{-}',\n",
    "4222: '\\Lambda_{c}^{++}',\n",
    "-4222: '\\Lambda_{c}^{--}',\n",
    "4224: '\\Lambda_{c}^{*++}',\n",
    "-4224: '\\Lambda_{c}^{*--}',\n",
    "10313: 'K_{1}^{0}',\n",
    "-10313: '\\\\bar{K}_{1}^{0}',\n",
    "10423: 'D_{1}^{0}',\n",
    "-10423: '\\\\bar{D}_{1}^{0}',\n",
    "20213: 'a_{1}^{+}',\n",
    "-20213: 'a_{1}^{-}',\n",
    "20423: 'D_{1}^{*}',\n",
    "-20423: '\\\\bar{D}_{1}^{*0}'\n",
    "}\n",
    "# pdgid2LatexName"
   ]
  },
  {
   "cell_type": "code",
   "execution_count": null,
   "metadata": {
    "ExecuteTime": {
     "end_time": "2020-07-07T03:19:27.392765Z",
     "start_time": "2020-07-07T03:19:27.348188Z"
    },
    "hidden": true
   },
   "outputs": [],
   "source": [
    "def plotPdgId(dname, varPdgId, sel=None, logy=False, size=(8,6), \n",
    "              threshold=1e-4, ylim=None, ylabel='Events fraction',\n",
    "              verbose=False\n",
    "             ):\n",
    "    if sel is None:\n",
    "        sel = np.ones_like(df[dname][varPdgId]).astype(np.bool)\n",
    "\n",
    "    pdgId = {}\n",
    "    auxList = list(df[dname][varPdgId][sel])\n",
    "    nTot = 0\n",
    "    for n in set(auxList):\n",
    "        pdgId[n] = auxList.count(n)\n",
    "        nTot += pdgId[n]\n",
    "    print pdgId\n",
    "    \n",
    "    for k in pdgId.keys():\n",
    "        pdgId[k] = pdgId[k]/float(nTot)\n",
    "        if pdgId[k] < threshold:\n",
    "            pdgId.pop(k)\n",
    "            if verbose: print k, 'removed'\n",
    "\n",
    "    weights = []\n",
    "    sortedPdgId = np.sort(pdgId.keys())\n",
    "    for k in sortedPdgId:\n",
    "        weights.append(pdgId[k])\n",
    "\n",
    "\n",
    "    n = len(weights)\n",
    "    fig = plt.figure(figsize=size)\n",
    "    plt.hist(np.arange(0, n), weights=np.array(weights), range=(-0.5, n-0.5), bins=n);\n",
    "    plt.xticks(np.arange(0, n), [r'$'+pdgid2LatexName[x]+'$' for x in sortedPdgId])\n",
    "    plt.ylabel(ylabel)\n",
    "    if ylim is None:\n",
    "        plt.ylim(threshold, 1)\n",
    "    else:\n",
    "        plt.ylim(ylim[0], ylim[1])\n",
    "    if logy: plt.yscale('log')\n",
    "    return fig"
   ]
  },
  {
   "cell_type": "code",
   "execution_count": null,
   "metadata": {
    "ExecuteTime": {
     "end_time": "2020-07-07T03:19:27.462984Z",
     "start_time": "2020-07-07T03:19:27.396394Z"
    },
    "hidden": true
   },
   "outputs": [],
   "source": [
    "plt.rcParams.update({'font.size': 20})\n",
    "plt.rcParams.update({'font.sans-serif': ['Verdana', 'Arial']})"
   ]
  },
  {
   "cell_type": "markdown",
   "metadata": {
    "ExecuteTime": {
     "end_time": "2020-07-07T01:12:27.810460Z",
     "start_time": "2020-07-07T01:12:27.792833Z"
    },
    "hidden": true
   },
   "source": [
    "### Study plots"
   ]
  },
  {
   "cell_type": "code",
   "execution_count": null,
   "metadata": {
    "ExecuteTime": {
     "end_time": "2020-07-07T03:19:29.038931Z",
     "start_time": "2020-07-07T03:19:27.467579Z"
    },
    "hidden": true
   },
   "outputs": [],
   "source": [
    "sel = np.logical_and(df['DstPip']['N_goodAddTks'] == 1, df['DstPip']['MC_tkFlag_0'] == 1)\n",
    "plotPdgId('DstPip', 'MC_tkPdgId_0', sel=sel, logy=True);"
   ]
  },
  {
   "cell_type": "code",
   "execution_count": null,
   "metadata": {
    "ExecuteTime": {
     "end_time": "2020-07-07T03:19:30.443004Z",
     "start_time": "2020-07-07T03:19:29.043532Z"
    },
    "hidden": true
   },
   "outputs": [],
   "source": [
    "sel = np.logical_and(df['DstPip']['N_goodAddTks'] == 1, df['DstPip']['MC_tkFlag_0'] == 1)\n",
    "fig = plotPdgId('DstPip', 'MC_tkMotherPdgId_0', sel=sel, size=(12,4), logy=True)"
   ]
  },
  {
   "cell_type": "code",
   "execution_count": null,
   "metadata": {
    "ExecuteTime": {
     "end_time": "2020-07-07T03:19:31.453687Z",
     "start_time": "2020-07-07T03:19:30.447867Z"
    },
    "hidden": true
   },
   "outputs": [],
   "source": [
    "sel = np.logical_and(df['mu']['N_goodAddTks'] == 1, df['mu']['MC_tkFlag_0'] == 1)\n",
    "plotPdgId('mu', 'MC_tkPdgId_0', sel=sel);"
   ]
  },
  {
   "cell_type": "code",
   "execution_count": null,
   "metadata": {
    "ExecuteTime": {
     "end_time": "2020-07-07T03:19:32.773012Z",
     "start_time": "2020-07-07T03:19:31.459814Z"
    },
    "hidden": true
   },
   "outputs": [],
   "source": [
    "sel = np.logical_and(df['mu']['N_goodAddTks'] == 1, df['mu']['MC_tkFlag_0'] == 1)\n",
    "fig = plotPdgId('mu', 'MC_tkMotherPdgId_0', sel=sel, size=(12,4), threshold=1e-3, logy=True)"
   ]
  },
  {
   "cell_type": "code",
   "execution_count": null,
   "metadata": {
    "ExecuteTime": {
     "end_time": "2020-07-07T03:19:34.902114Z",
     "start_time": "2020-07-07T03:19:32.777758Z"
    },
    "hidden": true
   },
   "outputs": [],
   "source": [
    "sel = np.logical_and(df['mu']['N_goodAddTks'] == 1, df['mu']['MC_tkFlag_0'] == 1)\n",
    "fig = plotPdgId('mu', 'MC_tkMotherMotherPdgId_0', sel=sel, size=(12,4))"
   ]
  },
  {
   "cell_type": "code",
   "execution_count": null,
   "metadata": {
    "ExecuteTime": {
     "end_time": "2020-07-07T03:19:35.861045Z",
     "start_time": "2020-07-07T03:19:34.907870Z"
    },
    "hidden": true
   },
   "outputs": [],
   "source": [
    "sel = np.logical_and(df['mu']['N_goodAddTks'] == 2, df['mu']['MC_tkFlag_0'] == 1)\n",
    "fig = plotPdgId('mu', 'MC_tkMotherPdgId_0', sel=sel, size=(12,4))"
   ]
  },
  {
   "cell_type": "code",
   "execution_count": null,
   "metadata": {
    "ExecuteTime": {
     "end_time": "2020-07-07T03:19:36.903366Z",
     "start_time": "2020-07-07T03:19:35.868835Z"
    },
    "hidden": true
   },
   "outputs": [],
   "source": [
    "sel = np.logical_and(df['mu']['N_goodAddTks'] == 2, df['mu']['MC_tkFlag_1'] == 1)\n",
    "fig = plotPdgId('mu', 'MC_tkMotherPdgId_1', sel=sel, size=(12,4))"
   ]
  },
  {
   "cell_type": "code",
   "execution_count": null,
   "metadata": {
    "ExecuteTime": {
     "end_time": "2020-07-07T03:19:38.030033Z",
     "start_time": "2020-07-07T03:19:36.908048Z"
    },
    "hidden": true
   },
   "outputs": [],
   "source": [
    "sel = np.logical_and(df['mu']['N_goodAddTks'] == 2, df['mu']['MC_tkFlag_0'] == 1)\n",
    "fig = plotPdgId('mu', 'MC_tkMotherMotherPdgId_0', sel=sel, size=(12,4))"
   ]
  },
  {
   "cell_type": "code",
   "execution_count": null,
   "metadata": {
    "ExecuteTime": {
     "end_time": "2020-07-07T03:19:38.679191Z",
     "start_time": "2020-07-07T03:19:38.034926Z"
    },
    "hidden": true
   },
   "outputs": [],
   "source": [
    "sel = np.logical_and(df['DstPip']['N_goodAddTks'] == 2, df['DstPip']['tkCharge_0']+df['DstPip']['tkCharge_1'] == 0)\n",
    "sel = np.logical_and(sel, df['DstPip']['tkCharge_1'] < 0)\n",
    "sel = np.logical_and(sel, df['DstPip']['MC_tkFlag_1'] == 1)\n",
    "fig = plotPdgId('DstPip', 'MC_tkMotherPdgId_1', sel=sel, size=(12,4))"
   ]
  },
  {
   "cell_type": "code",
   "execution_count": null,
   "metadata": {
    "ExecuteTime": {
     "end_time": "2020-07-07T03:19:38.699139Z",
     "start_time": "2020-07-07T03:19:38.684155Z"
    },
    "hidden": true
   },
   "outputs": [],
   "source": [
    "# sel = np.logical_and(df['Hc']['N_goodAddTks'] == 2, df['Hc']['tkCharge_0']+df['Hc']['tkCharge_1'] == 0)\n",
    "# sel = np.logical_and(sel, df['Hc']['MC_tkFlag_1'] == 1)\n",
    "# fig = plotPdgId('Hc', 'MC_tkMotherPdgId_1', sel=sel, size=(12,4))"
   ]
  },
  {
   "cell_type": "markdown",
   "metadata": {
    "heading_collapsed": true,
    "hidden": true
   },
   "source": [
    "### AN plots"
   ]
  },
  {
   "cell_type": "code",
   "execution_count": null,
   "metadata": {
    "ExecuteTime": {
     "end_time": "2020-07-07T03:19:43.297833Z",
     "start_time": "2020-07-07T03:19:38.704114Z"
    },
    "hidden": true
   },
   "outputs": [],
   "source": [
    "for dn in ['mu', 'DstPip']:\n",
    "    d = df[dn]\n",
    "    sel = np.logical_and(d['N_goodAddTks'] == 1, d['MC_tkFlag_0'] == 1)\n",
    "    fig = plotPdgId(dn, 'MC_tkMotherPdgId_0', sel=np.logical_and(sel, d['tkCharge_0'] > 0),\n",
    "                    size=(12,4), threshold=1e-3, logy=True)\n",
    "    xmin, xmax = plt.xlim()\n",
    "    plt.text(xmin + 0.05*(xmax - xmin) , 0.5, 'Q = +1')\n",
    "    \n",
    "    fig = plotPdgId(dn, 'MC_tkMotherPdgId_0', sel=np.logical_and(sel, d['tkCharge_0'] < 0),\n",
    "                    size=(12,4), threshold=1e-3, logy=True)\n",
    "    xmin, xmax = plt.xlim()\n",
    "    plt.text(xmin + 0.05*(xmax - xmin) , 0.5, 'Q = -1')"
   ]
  },
  {
   "cell_type": "markdown",
   "metadata": {},
   "source": [
    "## All data"
   ]
  },
  {
   "cell_type": "code",
   "execution_count": null,
   "metadata": {
    "ExecuteTime": {
     "end_time": "2021-06-08T16:38:10.342901Z",
     "start_time": "2021-06-08T16:38:09.787301Z"
    }
   },
   "outputs": [],
   "source": [
    "date = '201101'\n",
    "RDloc = '../data/cmsRD/skimmed/B2DstMu_B0_{}_{}_trkCtrl_corr.root'.format(date, cat.name)\n",
    "df['data'] = pd.DataFrame(rtnp.root2array(RDloc))\n",
    "datasets_loc = glob('../data/cmsRD/ParkingBPH*/*2018*B2DstMu_{}*'.format(date))\n",
    "lumi_tot = getLumiByTrigger(datasets_loc, cat.trg, verbose=True)\n",
    "CMS_lumi.integrated_lumi = lumi_tot"
   ]
  },
  {
   "cell_type": "markdown",
   "metadata": {},
   "source": [
    "## MC comparison"
   ]
  },
  {
   "cell_type": "code",
   "execution_count": null,
   "metadata": {
    "ExecuteTime": {
     "end_time": "2021-06-08T16:34:43.957876Z",
     "start_time": "2021-06-08T16:34:43.908186Z"
    }
   },
   "outputs": [],
   "source": [
    "puRew = pileupReweighter(MCsample['mu'].skimmed_dir + '/{}_trkCtrl_bare.root'.format(cat.name), \n",
    "                         'hAllNTrueIntMC', \n",
    "                         trg=cat.trg)\n",
    "df['mu']['wPU'] = puRew.getPileupWeights(df['mu']['MC_nInteractions'])"
   ]
  },
  {
   "cell_type": "code",
   "execution_count": null,
   "metadata": {
    "ExecuteTime": {
     "end_time": "2021-06-08T16:36:55.321072Z",
     "start_time": "2021-06-08T16:36:55.264343Z"
    }
   },
   "outputs": [],
   "source": [
    "cal_pT = pTCalReader(\n",
    "    calibration_file='../data/calibration/B0pTspectrum/polyCoeffWeights_{}_v20.pkl'.format(cat.name)\n",
    ")\n",
    "df['mu']['wBpt'] = cal_pT.getWeights(df['mu']['MC_B_pt'], 0)"
   ]
  },
  {
   "cell_type": "code",
   "execution_count": null,
   "metadata": {
    "ExecuteTime": {
     "end_time": "2021-06-08T16:37:27.866669Z",
     "start_time": "2021-06-08T16:37:25.740386Z"
    }
   },
   "outputs": [],
   "source": [
    "df['mu']['w'] = df['mu']['wBpt']*df['mu']['wPU']"
   ]
  },
  {
   "cell_type": "code",
   "execution_count": null,
   "metadata": {
    "ExecuteTime": {
     "end_time": "2021-06-08T16:38:14.357494Z",
     "start_time": "2021-06-08T16:38:14.340793Z"
    }
   },
   "outputs": [],
   "source": [
    "baseSelMC = np.logical_and(df['mu']['N_goodAddTks'] == 1, df['mu']['tkCharge_0'] == -1)\n",
    "baseSelRD = np.logical_and(df['data']['N_goodAddTks'] == 1, df['data']['tkCharge_0'] == -1)"
   ]
  },
  {
   "cell_type": "code",
   "execution_count": null,
   "metadata": {
    "ExecuteTime": {
     "end_time": "2021-06-08T16:38:18.365385Z",
     "start_time": "2021-06-08T16:38:18.298201Z"
    },
    "code_folding": [],
    "hide_input": false
   },
   "outputs": [],
   "source": [
    "def plotComp(var, binning, xtitle, logy=False):\n",
    "    leg = rt.TLegend(0.6, 0.6, 0.95, 0.9)\n",
    "    leg.SetBorderSize(0)\n",
    "    leg.SetTextFont(42)\n",
    "\n",
    "    hlist = []\n",
    "\n",
    "    h = create_TH1D(df['data'][var][baseSelRD], binning=binning, \n",
    "                    opt='underflow+overflow',\n",
    "                    axis_title=[xtitle, 'Normalized entries'], scale_histo='norm')\n",
    "    leg.AddEntry(h, 'data', 'lep')\n",
    "    hlist.append(h)\n",
    "\n",
    "    sel = np.logical_and(baseSelMC, df['mu']['MC_tkFlag_0'] == -1)\n",
    "    h = create_TH1D(df['mu'][var][sel], binning=h.binning,\n",
    "                    weights=df['mu']['w'][sel],\n",
    "                    opt='underflow+overflow',\n",
    "                    scale_histo='norm', color=0)\n",
    "    leg.AddEntry(h, 'B #rightarrow D*#mu#nu (PU only)', 'lep')\n",
    "    hlist.append(h)\n",
    "\n",
    "    sel = np.logical_and(baseSelMC, df['mu']['MC_tkFlag_0'] == 1)\n",
    "    h = create_TH1D(df['mu'][var][sel], binning=h.binning,\n",
    "                    weights=puWeights[sel],\n",
    "                    opt='underflow+overflow',\n",
    "                    scale_histo='norm', color=1)\n",
    "    leg.AddEntry(h, 'B #rightarrow D*#mu#nu (PV only)', 'lep')\n",
    "    hlist.append(h)\n",
    "\n",
    "    h = create_TH1D(df['mu'][var][baseSelMC],\n",
    "                    weights=puWeights[baseSelMC],\n",
    "                    opt='underflow+overflow',\n",
    "                    binning=h.binning, scale_histo='norm', color=2)\n",
    "    leg.AddEntry(h, 'B #rightarrow D*#mu#nu', 'lep')\n",
    "    hlist.append(h)\n",
    "\n",
    "    m = SetMaxToMaxHist(hlist)\n",
    "    c = drawOnCMSCanvas(CMS_lumi, hlist, 'same')\n",
    "    if logy:\n",
    "        hlist[0].GetYaxis().SetRangeUser(logy, m)\n",
    "        c.SetLogy()\n",
    "    leg.Draw()\n",
    "    c.dnd = [leg, hlist]\n",
    "    return c"
   ]
  },
  {
   "cell_type": "code",
   "execution_count": null,
   "metadata": {
    "ExecuteTime": {
     "end_time": "2021-06-08T16:38:22.914950Z",
     "start_time": "2021-06-08T16:38:22.685925Z"
    }
   },
   "outputs": [],
   "source": [
    "plotComp('tkMassHad_0', [61, 2.1, 3.2], 'Hadronic Mass [GeV]')"
   ]
  },
  {
   "cell_type": "code",
   "execution_count": null,
   "metadata": {
    "ExecuteTime": {
     "end_time": "2021-06-08T16:38:22.941222Z",
     "start_time": "2021-06-08T16:38:21.889Z"
    }
   },
   "outputs": [],
   "source": [
    "c = plotComp('tkPt_0', [61, 0.5, 5.0], 'Additional track p_{T} [GeV]', logy=1e-3)"
   ]
  },
  {
   "cell_type": "code",
   "execution_count": null,
   "metadata": {
    "ExecuteTime": {
     "end_time": "2021-06-08T16:38:22.967652Z",
     "start_time": "2021-06-08T16:38:22.199Z"
    }
   },
   "outputs": [],
   "source": [
    "c = plotComp('tkEta_0', [61, -2.5, 2.5], 'Additional track #eta')"
   ]
  },
  {
   "cell_type": "code",
   "execution_count": null,
   "metadata": {
    "ExecuteTime": {
     "end_time": "2020-07-07T03:19:44.902418Z",
     "start_time": "2020-07-07T03:19:44.386169Z"
    }
   },
   "outputs": [],
   "source": [
    "var = 'tkPt_0'\n",
    "\n",
    "binning = np.logspace(np.log10(0.5), np.log10(5.0), 40)\n",
    "binning = [61, 0.3, 5.0]\n",
    "binning = array('d', list(np.arange(0.5, 3.02, 0.07)) + list(np.logspace(np.log10(3.02), np.log10(5.0), 10)))\n",
    "hRD = create_TH1D(df['data'][var][baseSelRD], binning=binning)\n",
    "hRD.Sumw2()\n",
    "\n",
    "puWeights = puRew.getPileupWeights(df['mu']['N_vtx'])\n",
    "\n",
    "sel = np.logical_and(baseSelMC, df['mu']['MC_tkFlag_0'] == -1)\n",
    "hMC_PU = create_TH1D(df['mu'][var][sel], binning=hRD.binning, color=0, weights=puWeights[sel])\n",
    "\n",
    "\n",
    "sel = np.logical_and(baseSelMC, df['mu']['MC_tkFlag_0'] == 1)\n",
    "hMC_PV = create_TH1D(df['mu'][var][sel], binning=hRD.binning, color=1, weights=puWeights[sel],\n",
    "                     axis_title=['Additional track p_{T} [GeV]', 'Events']\n",
    "                    )\n",
    "\n",
    "r_pre = hMC_PV.Integral()/(hMC_PV.Integral() + hMC_PU.Integral())\n",
    "print 'fPV (pre-fit): {:.3f}'.format(r_pre)\n",
    "hMC_PU.Scale(1./hMC_PU.Integral())\n",
    "hMC_PV.Scale(1./hMC_PV.Integral())\n",
    "\n",
    "pt = rt.RooRealVar('pt', 'p_{T}', 0.5, 5.0, 'GeV')\n",
    "\n",
    "data = rt.RooDataHist('Data', 'Data', rt.RooArgList(pt), hRD)\n",
    "N_data = hRD.Integral()\n",
    "\n",
    "dh_PU = rt.RooDataHist('dh_PU', 'hPU', rt.RooArgList(pt), hMC_PU)\n",
    "pdf_PU = rt.RooHistPdf('pdf_PU', 'pdf_PU', rt.RooArgSet(pt), dh_PU)\n",
    "n_PU = rt.RooRealVar('n_PU', 'N_{PU}', N_data*0.5, 0, N_data)\n",
    "\n",
    "dh_PV = rt.RooDataHist('dh_PV', 'hPV', rt.RooArgList(pt), hMC_PV)\n",
    "pdf_PV = rt.RooHistPdf('pdf_PV', 'pdf_PV', rt.RooArgSet(pt), dh_PV)\n",
    "n_PV = rt.RooRealVar('n_PV', 'N_{PV}', N_data*0.5, 0, N_data)\n",
    "\n",
    "pdf_tot = rt.RooAddPdf('pdftot', 'pdftot', rt.RooArgList(pdf_PU, pdf_PV), rt.RooArgList(n_PU, n_PV))\n",
    "fr = pdf_tot.fitTo(data, rf.PrintLevel(-1), rf.Save())\n",
    "\n",
    "dof = hRD.GetNbinsX()-fr.floatParsFinal().getSize()\n",
    "chi2 = rt.RooChi2Var(\"chi2\", 'chi2', pdf_tot, data)\n",
    "pval = rt.ROOT.Math.chisquared_cdf_c(chi2.getVal(), dof)\n",
    "print 'chi2: {:.1f}/{:.0f} {:.3f}'.format(chi2.getVal(), dof, pval)\n",
    "\n",
    "r = n_PV.getVal()/(n_PV.getVal() + n_PU.getVal())\n",
    "\n",
    "dr = np.hypot(n_PV.getVal()*n_PU.getError(), n_PU.getVal()*n_PV.getError())/((n_PV.getVal() + n_PU.getVal())**2)\n",
    "print 'fPV = {:.3f} +/- {:.3f} [{:.1f}%]'.format(r, dr, 100*dr/r)\n",
    "print 'PV weight: {:.1f} +/- {:.1f}'.format(r/r_pre, dr/r_pre)\n",
    "\n",
    "hMC_PU.Scale(n_PU.getVal())\n",
    "hMC_PV.Scale(n_PV.getVal())\n",
    "hMC_PV.Add(hMC_PU)\n",
    "hMC_PU.Sumw2(0)\n",
    "hMC_PU.SetFillStyle(1)\n",
    "hMC_PV.Sumw2(0)\n",
    "hMC_PV.SetFillStyle(1)\n",
    "c = drawOnCMSCanvas(CMS_lumi, [hMC_PV, hMC_PU, hRD], 'same')\n",
    "\n",
    "leg = rt.TLegend(0.6, 0.6, 0.95, 0.9)\n",
    "leg.SetBorderSize(0)\n",
    "leg.SetTextFont(42)\n",
    "leg.AddEntry(hRD, 'data', 'lep')\n",
    "leg.AddEntry(hMC_PU, 'B #rightarrow D*#mu#nu (PU only)', 'f')\n",
    "leg.AddEntry(hMC_PV, 'B #rightarrow D*#mu#nu (PV only)', 'f')\n",
    "leg.Draw()\n",
    "c.SetLogy()"
   ]
  },
  {
   "cell_type": "code",
   "execution_count": null,
   "metadata": {},
   "outputs": [],
   "source": []
  }
 ],
 "metadata": {
  "kernelspec": {
   "display_name": "Python 2",
   "language": "python",
   "name": "python2"
  },
  "language_info": {
   "codemirror_mode": {
    "name": "ipython",
    "version": 2
   },
   "file_extension": ".py",
   "mimetype": "text/x-python",
   "name": "python",
   "nbconvert_exporter": "python",
   "pygments_lexer": "ipython2",
   "version": "2.7.14+"
  },
  "varInspector": {
   "cols": {
    "lenName": 16,
    "lenType": 16,
    "lenVar": 40
   },
   "kernels_config": {
    "python": {
     "delete_cmd_postfix": "",
     "delete_cmd_prefix": "del ",
     "library": "var_list.py",
     "varRefreshCmd": "print(var_dic_list())"
    },
    "r": {
     "delete_cmd_postfix": ") ",
     "delete_cmd_prefix": "rm(",
     "library": "var_list.r",
     "varRefreshCmd": "cat(var_dic_list()) "
    }
   },
   "types_to_exclude": [
    "module",
    "function",
    "builtin_function_or_method",
    "instance",
    "_Feature"
   ],
   "window_display": false
  }
 },
 "nbformat": 4,
 "nbformat_minor": 2
}
