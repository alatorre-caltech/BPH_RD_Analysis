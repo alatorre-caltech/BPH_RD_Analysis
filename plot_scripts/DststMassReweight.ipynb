{
 "cells": [
  {
   "cell_type": "code",
   "execution_count": 1,
   "metadata": {
    "ExecuteTime": {
     "end_time": "2021-02-14T21:35:55.880423Z",
     "start_time": "2021-02-14T21:35:47.399600Z"
    }
   },
   "outputs": [
    {
     "name": "stdout",
     "output_type": "stream",
     "text": [
      "Welcome to JupyROOT 6.12/07\n"
     ]
    }
   ],
   "source": [
    "import numpy as np\n",
    "import scipy.stats as sps\n",
    "from glob import glob\n",
    "import pickle, yaml\n",
    "import time\n",
    "from array import array\n",
    "import pandas as pd\n",
    "import matplotlib.pyplot as plt\n",
    "import uproot as ur\n",
    "import ROOT as rt\n",
    "import root_numpy as rtnp\n",
    "import ROOT.RooFit as rf\n",
    "from scipy.special import erf\n",
    "import sys, os\n",
    "sys.path.append('../lib')\n",
    "if os.environ['CMSSW_VERSION'] != 'CMSSW_10_2_3':\n",
    "    raise\n",
    "from histo_utilities import create_TH1D, create_TH2D, std_color_list, SetMaxToMaxHist, make_ratio_plot\n",
    "from cebefo_style import Set_2D_colz_graphics\n",
    "from progressBar import ProgressBar\n",
    "\n",
    "from analysis_utilities import drawOnCMSCanvas, DSetLoader\n",
    "\n",
    "import CMS_lumi, tdrstyle\n",
    "tdrstyle.setTDRStyle()\n",
    "CMS_lumi.writeExtraText = 1\n",
    "CMS_lumi.extraText = \"     Simulation Internal\"\n",
    "\n",
    "donotdelete = []"
   ]
  },
  {
   "cell_type": "code",
   "execution_count": 11,
   "metadata": {
    "ExecuteTime": {
     "end_time": "2021-02-14T22:03:14.905928Z",
     "start_time": "2021-02-14T22:03:14.889219Z"
    }
   },
   "outputs": [],
   "source": [
    "catText = rt.TLatex()\n",
    "catText.SetTextAlign(31)\n",
    "catText.SetTextSize(0.06)\n",
    "catText.SetTextFont(42)\n",
    "catText.SetTextSize(0.05)"
   ]
  },
  {
   "cell_type": "code",
   "execution_count": 7,
   "metadata": {
    "ExecuteTime": {
     "end_time": "2021-02-14T21:58:56.738214Z",
     "start_time": "2021-02-14T21:58:56.721285Z"
    }
   },
   "outputs": [],
   "source": [
    "catName = 'High'\n",
    "expectedLumi = {'Low':6.4, 'Mid':20., 'High':26.} #fb^-1\n",
    "lumi_tot = expectedLumi[catName]\n",
    "CMS_lumi.integrated_lumi = lumi_tot"
   ]
  },
  {
   "cell_type": "code",
   "execution_count": 2,
   "metadata": {
    "ExecuteTime": {
     "end_time": "2021-02-14T21:36:32.174085Z",
     "start_time": "2021-02-14T21:36:31.991021Z"
    }
   },
   "outputs": [],
   "source": [
    "ds_pm = DSetLoader('B0_MuNuDstst_PipPim_PUc0')"
   ]
  },
  {
   "cell_type": "code",
   "execution_count": 3,
   "metadata": {
    "ExecuteTime": {
     "end_time": "2021-02-14T21:38:02.659368Z",
     "start_time": "2021-02-14T21:38:00.253763Z"
    }
   },
   "outputs": [],
   "source": [
    "dTkSide_pm = rtnp.root2array(ds_pm.skimmed_dir + '/{}_trkCtrl_{}.root'.format(catName, 'bare'))"
   ]
  },
  {
   "cell_type": "code",
   "execution_count": 69,
   "metadata": {
    "ExecuteTime": {
     "end_time": "2021-02-15T00:14:33.705594Z",
     "start_time": "2021-02-15T00:14:33.643533Z"
    }
   },
   "outputs": [],
   "source": [
    "def computeWidthVarWeights(ds, selItems=[], newGamma=None, relScale=0.1, keepNorm=False): #Gamma modification factor\n",
    "    # selItems=[ [pdgId, mass, Gamma] ]\n",
    "    w = np.ones_like(ds['mu_pt'])\n",
    "    up = np.ones_like(ds['mu_pt'])\n",
    "    down = np.ones_like(ds['mu_pt'])\n",
    "    for i, (pdgId, mass, gamma) in enumerate(selItems):\n",
    "        # print pdgId, mass, gamma\n",
    "        dx2 = np.clip(np.square(ds['MC_MassCharmedBDaughter'] - mass), 0, 9*(gamma**2))\n",
    "        \n",
    "        if not (newGamma is None) and not (newGamma[i] is None):\n",
    "                gNew = newGamma[i]\n",
    "                wCentral = ((dx2 + gamma**2)*gNew)/(gamma*(dx2 + gNew**2))\n",
    "                gUp = gNew*(1+relScale)\n",
    "                gDown = gNew*(1-relScale)\n",
    "        else:\n",
    "            wCentral = np.ones_like(dx2)\n",
    "            gUp = gamma*(1+relScale)\n",
    "            gDown = gamma*(1-relScale)\n",
    "\n",
    "        wUp = ((dx2 + gamma**2)*gUp)/(gamma*(dx2 + gUp**2))\n",
    "        wDown = ((dx2 + gamma**2)*gDown)/(gamma*(dx2 + gDown**2))\n",
    "\n",
    "        sel = np.abs(ds['MC_DstMotherPdgId'].astype(np.int)) == np.abs(pdgId)\n",
    "        w = np.where(sel, wCentral, w)\n",
    "        up = np.where(sel, wUp, up)\n",
    "        down = np.where(sel, wDown, down)\n",
    "\n",
    "    if keepNorm:\n",
    "        w = w * (w.shape[0]/np.sum(w))\n",
    "        up = up * (w.shape[0]/np.sum(up))\n",
    "        down = down * (w.shape[0]/np.sum(down))\n",
    "    return w, up/w, down/w"
   ]
  },
  {
   "cell_type": "code",
   "execution_count": 73,
   "metadata": {
    "ExecuteTime": {
     "end_time": "2021-02-15T00:14:46.198251Z",
     "start_time": "2021-02-15T00:14:46.170939Z"
    }
   },
   "outputs": [],
   "source": [
    "widthMods = [[100413, 2.640, 0.200]]\n",
    "wC, wVarUp, wVarDw = computeWidthVarWeights(dTkSide_pm, \n",
    "                                            selItems=widthMods, \n",
    "                                            newGamma=[0.35],\n",
    "                                            relScale=0.2,\n",
    "                                            keepNorm=True\n",
    "                                           )"
   ]
  },
  {
   "cell_type": "code",
   "execution_count": 74,
   "metadata": {
    "ExecuteTime": {
     "end_time": "2021-02-15T00:14:46.342170Z",
     "start_time": "2021-02-15T00:14:46.325243Z"
    }
   },
   "outputs": [
    {
     "name": "stdout",
     "output_type": "stream",
     "text": [
      "1.04e+05\n",
      "1.04e+05\n",
      "1.04e+05\n"
     ]
    }
   ],
   "source": [
    "print '{:2.2e}'.format(np.sum(wC))\n",
    "print '{:2.2e}'.format(np.sum(wC*wVarUp))\n",
    "print '{:2.2e}'.format(np.sum(wC*wVarDw))"
   ]
  },
  {
   "cell_type": "code",
   "execution_count": 68,
   "metadata": {
    "ExecuteTime": {
     "end_time": "2021-02-15T00:13:37.716444Z",
     "start_time": "2021-02-15T00:13:37.588954Z"
    }
   },
   "outputs": [
    {
     "name": "stderr",
     "output_type": "stream",
     "text": [
      "Warning in <TROOT::Append>: Replacing existing TH1: hNom (Potential memory leak).\n",
      "Warning in <TROOT::Append>: Replacing existing TH1: hCentral (Potential memory leak).\n",
      "Warning in <TROOT::Append>: Replacing existing TH1: hUp (Potential memory leak).\n",
      "Warning in <TROOT::Append>: Replacing existing TH1: hDw (Potential memory leak).\n",
      "Warning in <TCanvas::Constructor>: Deleting canvas with same name: c\n"
     ]
    },
    {
     "data": {
      "image/png": "[encoded data removed]",
      "text/plain": [
       "<IPython.core.display.Image object>"
      ]
     },
     "metadata": {},
     "output_type": "display_data"
    }
   ],
   "source": [
    "var = 'massHadTks'\n",
    "# var = 'massVisTks'\n",
    "# var = 'MC_MassCharmedBDaughter'\n",
    "h = create_TH1D(dTkSide_pm[var], name='hNom',\n",
    "                title='',\n",
    "                axis_title=[var+' [GeV]', 'Events'],\n",
    "                binning=[80, 2.2, 3.75],\n",
    "#                 binning=[80, 2.8, 5.3],\n",
    "                color=0\n",
    "               )\n",
    "\n",
    "hCt = create_TH1D(dTkSide_pm[var], name='hCentral',\n",
    "                binning=h.binning,\n",
    "                color=1,\n",
    "                weights=wC\n",
    "               )\n",
    "\n",
    "hUp = create_TH1D(dTkSide_pm[var], name='hUp',\n",
    "                binning=h.binning,\n",
    "                color=2,\n",
    "                weights=wC*wVarUp\n",
    "               )\n",
    "\n",
    "hDw = create_TH1D(dTkSide_pm[var], name='hDw',\n",
    "                binning=h.binning,\n",
    "                color=3,\n",
    "                weights=wC*wVarDw\n",
    "               )\n",
    "\n",
    "h_list = [h, hCt, hUp, hDw]\n",
    "m = SetMaxToMaxHist(h_list)\n",
    "\n",
    "c = drawOnCMSCanvas(CMS_lumi, h_list, 'same')\n",
    "# leg.Draw()\n",
    "catText.DrawLatexNDC(0.95, 0.85, 'Category: {}'.format(catName));"
   ]
  },
  {
   "cell_type": "code",
   "execution_count": null,
   "metadata": {},
   "outputs": [],
   "source": []
  }
 ],
 "metadata": {
  "kernelspec": {
   "display_name": "Python 2",
   "language": "python",
   "name": "python2"
  },
  "language_info": {
   "codemirror_mode": {
    "name": "ipython",
    "version": 2
   },
   "file_extension": ".py",
   "mimetype": "text/x-python",
   "name": "python",
   "nbconvert_exporter": "python",
   "pygments_lexer": "ipython2",
   "version": "2.7.14+"
  },
  "varInspector": {
   "cols": {
    "lenName": 16,
    "lenType": 16,
    "lenVar": 40
   },
   "kernels_config": {
    "python": {
     "delete_cmd_postfix": "",
     "delete_cmd_prefix": "del ",
     "library": "var_list.py",
     "varRefreshCmd": "print(var_dic_list())"
    },
    "r": {
     "delete_cmd_postfix": ") ",
     "delete_cmd_prefix": "rm(",
     "library": "var_list.r",
     "varRefreshCmd": "cat(var_dic_list()) "
    }
   },
   "types_to_exclude": [
    "module",
    "function",
    "builtin_function_or_method",
    "instance",
    "_Feature"
   ],
   "window_display": false
  }
 },
 "nbformat": 4,
 "nbformat_minor": 2
}
