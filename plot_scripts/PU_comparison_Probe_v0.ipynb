{
 "cells": [
  {
   "cell_type": "markdown",
   "metadata": {},
   "source": [
    "PU comparison"
   ]
  },
  {
   "cell_type": "code",
   "execution_count": 1,
   "metadata": {
    "ExecuteTime": {
     "end_time": "2019-10-12T00:36:58.273565Z",
     "start_time": "2019-10-12T00:36:56.615219Z"
    }
   },
   "outputs": [
    {
     "name": "stdout",
     "output_type": "stream",
     "text": [
      "Welcome to JupyROOT 6.12/07\n"
     ]
    }
   ],
   "source": [
    "import numpy as np\n",
    "import scipy.stats as sps\n",
    "from glob import glob\n",
    "import matplotlib.pyplot as plt\n",
    "from scipy.special import factorial\n",
    "from scipy.optimize import minimize\n",
    "import uproot as ur\n",
    "import ROOT as rt\n",
    "import root_numpy as rtnp\n",
    "import ROOT.RooFit as rf\n",
    "from scipy.special import erf\n",
    "import sys, os, yaml\n",
    "sys.path.append('../lib')\n",
    "sys.path.append('../analysis')\n",
    "from histo_utilities import create_TH1D, create_TH2D, std_color_list, SetMaxToMaxHist, make_ratio_plot\n",
    "from cebefo_style import Set_2D_colz_graphics\n",
    "from progressBar import ProgressBar\n",
    "from array import array\n",
    "\n",
    "from analysis_utilities import drawOnCMSCanvas, getEff\n",
    "from lumi_utilities import getLumiReport\n",
    "\n",
    "import CMS_lumi, tdrstyle\n",
    "tdrstyle.setTDRStyle()\n",
    "CMS_lumi.writeExtraText = 1\n",
    "CMS_lumi.extraText = \"     Internal\"\n",
    "\n",
    "donotdelete = []"
   ]
  },
  {
   "cell_type": "code",
   "execution_count": 2,
   "metadata": {},
   "outputs": [],
   "source": [
    "# load FWLite C++ libraries\n",
    "rt.gSystem.Load(\"libFWCoreFWLite.so\");\n",
    "rt.gSystem.Load(\"libDataFormatsFWLite.so\");\n",
    "rt.FWLiteEnabler.enable()\n",
    "\n",
    "# load FWlite python libraries\n",
    "from DataFormats.FWLite import Events\n",
    "from DataFormats.FWLite import Handle"
   ]
  },
  {
   "cell_type": "code",
   "execution_count": 3,
   "metadata": {},
   "outputs": [],
   "source": [
    "from prettytable import PrettyTable"
   ]
  },
  {
   "cell_type": "code",
   "execution_count": 4,
   "metadata": {
    "ExecuteTime": {
     "end_time": "2019-10-12T00:36:58.304521Z",
     "start_time": "2019-10-12T00:36:58.277534Z"
    }
   },
   "outputs": [],
   "source": [
    "rt.gErrorIgnoreLevel = rt.kError\n",
    "rt.RooMsgService.instance().setGlobalKillBelow(rt.RooFit.ERROR)"
   ]
  },
  {
   "cell_type": "code",
   "execution_count": 5,
   "metadata": {
    "ExecuteTime": {
     "end_time": "2019-10-12T00:36:58.323931Z",
     "start_time": "2019-10-12T00:36:58.308518Z"
    }
   },
   "outputs": [
    {
     "name": "stdout",
     "output_type": "stream",
     "text": [
      "1.86483\n",
      "2.01026\n",
      "5.27963\n",
      "mD* - mD0 = 0.14543\n"
     ]
    }
   ],
   "source": [
    "m_D0 = 1.86483 #1e-3*Particle.from_string('D0').mass\n",
    "print m_D0\n",
    "m_Dst = 2.01026 #1e-3*Particle.from_string('D*+').mass\n",
    "print m_Dst\n",
    "m_B0 = 5.27963 #1e-3*Particle.from_string('B0').mass\n",
    "print m_B0\n",
    "m_pi = 0.13957018 #1e-3*Particle.from_string('pi+').mass\n",
    "print 'mD* - mD0 =', m_Dst - m_D0"
   ]
  },
  {
   "cell_type": "code",
   "execution_count": 6,
   "metadata": {
    "ExecuteTime": {
     "end_time": "2019-10-12T00:36:58.543204Z",
     "start_time": "2019-10-12T00:36:58.523898Z"
    }
   },
   "outputs": [],
   "source": [
    "cl = rt.TLine()\n",
    "cl.SetLineColor(6)\n",
    "cl.SetLineStyle(9)\n",
    "cl.SetLineWidth(2)"
   ]
  },
  {
   "cell_type": "code",
   "execution_count": 7,
   "metadata": {},
   "outputs": [],
   "source": [
    "def extractEff(fn):\n",
    "    with open(fn) as f:\n",
    "        for l in f.readlines():\n",
    "            if not l.startswith('Eff'): continue\n",
    "            return [float(l.split(' ')[1]), float(l.split(' ')[3])]\n",
    "    return [None, None]"
   ]
  },
  {
   "cell_type": "code",
   "execution_count": 8,
   "metadata": {},
   "outputs": [],
   "source": [
    "def extractNacc(fn):\n",
    "    with open(fn) as f:\n",
    "        for l in f.readlines():\n",
    "            if not l.startswith('N_accepted'): continue\n",
    "            return int(l.split(' ')[1])\n",
    "    return None"
   ]
  },
  {
   "cell_type": "markdown",
   "metadata": {},
   "source": [
    "# B2DstMu"
   ]
  },
  {
   "cell_type": "markdown",
   "metadata": {},
   "source": [
    "## Data"
   ]
  },
  {
   "cell_type": "code",
   "execution_count": 9,
   "metadata": {},
   "outputs": [],
   "source": [
    "RDloc = '../data/cmsRD/skimmed/probeB2DstMu_200315.root'\n",
    "lumiFile = '../data/cmsRD/lumiReport/ParkingBPH5_Run2018D-05May2019promptD-v1_RDntuplizer_probeB2DstMu_200315_bricalc.csv'\n",
    "\n",
    "# Get the lumi\n",
    "lines = open(lumiFile,'r').readlines()\n",
    "l = lines[-3][:-1].split(',')[-1]\n",
    "CMS_lumi.integrated_lumi = float(l)"
   ]
  },
  {
   "cell_type": "code",
   "execution_count": 10,
   "metadata": {},
   "outputs": [
    {
     "data": {
      "image/png": "[encoded data removed]",
      "text/plain": [
       "<IPython.core.display.Image object>"
      ]
     },
     "metadata": {},
     "output_type": "display_data"
    }
   ],
   "source": [
    "# Fill the histo\n",
    "# colors = [rt.kAzure+1, rt.kRed-4, rt.kGreen+1, rt.kViolet-7]\n",
    "t = ur.open(RDloc)['Tevts']\n",
    "x = np.array(t.array('N_vtx'))\n",
    "hO = create_TH1D(x, binning=[61, -0.5, 60.5], axis_title=['Number of PV reco', 'Events'])\n",
    "\n",
    "c = drawOnCMSCanvas(CMS_lumi, [hO])"
   ]
  },
  {
   "cell_type": "code",
   "execution_count": 11,
   "metadata": {},
   "outputs": [],
   "source": [
    "h = hO.Clone('h0')\n",
    "dataNorm = h.Integral()\n",
    "h.Scale(1./h.Integral())\n",
    "h.SetLineWidth(2)\n",
    "h.SetLineColor(1)"
   ]
  },
  {
   "cell_type": "code",
   "execution_count": 12,
   "metadata": {},
   "outputs": [],
   "source": [
    "#Value got from down in the NB\n",
    "pCoeffFromMC = [-0.00268836, 0.93244846]\n",
    "\n",
    "def probLinMulti(n, pCoeff=pCoeffFromMC, lamVal=[20, 35], lamFrac=[0.5,0.5]):\n",
    "    out = 0\n",
    "    for lam, frac in zip(lamVal, lamFrac):\n",
    "        x = np.exp(-lam)/factorial(n)\n",
    "        s = 0\n",
    "        lastV = 1\n",
    "        N = float(n)\n",
    "        while lastV > 1e-2*s or N < 15:\n",
    "            p = np.polyval(pCoeff, N)\n",
    "            lastV = np.power(p, n)*np.power(1-p,N-n)*np.power(lam, N)/factorial(N-n)\n",
    "            s += lastV\n",
    "            N += 1\n",
    "        out += frac*x*s \n",
    "\n",
    "    return out"
   ]
  },
  {
   "cell_type": "code",
   "execution_count": 13,
   "metadata": {},
   "outputs": [],
   "source": [
    "def chi2LinMulti(inputs, npCoeff, nComp):\n",
    "#     pCoeff = inputs[:npCoeff]\n",
    "    lamVal = inputs[npCoeff:npCoeff+nComp]\n",
    "    lamFrac = inputs[npCoeff+nComp:]\n",
    "    chi2 = 0\n",
    "    for i in range(1, h.GetNbinsX()+1):\n",
    "        if h.GetBinContent(i) < 5e-3: continue\n",
    "        aux = h.GetBinContent(i) - probLinMulti(i-1, lamVal=lamVal, lamFrac=lamFrac) #, pCoeff=pCoeff)\n",
    "        aux /= h.GetBinError(i)\n",
    "        chi2 += aux**2\n",
    "    return chi2"
   ]
  },
  {
   "cell_type": "code",
   "execution_count": 14,
   "metadata": {},
   "outputs": [
    {
     "name": "stdout",
     "output_type": "stream",
     "text": [
      "Start chi2: 1575.1\n",
      "End chi2: 26.7 (0.4)\n"
     ]
    }
   ],
   "source": [
    "# pCoeff = [-2.0e-04,  1.0e-03,  9.3e-01]\n",
    "# pCoeff = [-4e-3, 0.96]\n",
    "pCoeff = []\n",
    "\n",
    "\n",
    "lamVal = [14., 21., 30., 42., 50.]\n",
    "lamFrac = [0.10, 0.35, 0.37, 0.13, 0.03]\n",
    "npCoeff, nComp = len(pCoeff), len(lamVal)\n",
    "x0 = pCoeff+lamVal+lamFrac\n",
    "print 'Start chi2: {:.1f}'.format(chi2LinMulti(x0, len(pCoeff), len(lamVal)))\n",
    "res = minimize(chi2LinMulti, x0, args=(len(pCoeff), len(lamVal)), tol=1e-5)\n",
    "print 'End chi2: {:.1f} ({:.1f})'.format(res.fun, res.fun/h.GetNbinsX())"
   ]
  },
  {
   "cell_type": "code",
   "execution_count": 15,
   "metadata": {},
   "outputs": [
    {
     "name": "stdout",
     "output_type": "stream",
     "text": [
      "Coeff: []\n",
      "lam=14.67, frac=0.059\n",
      "lam=22.06, frac=0.309\n",
      "lam=32.06, frac=0.431\n",
      "lam=42.47, frac=0.149\n",
      "lam=51.09, frac=0.045\n",
      "Norm: 0.992\n"
     ]
    }
   ],
   "source": [
    "print 'Coeff:', res.x[:len(pCoeff)]\n",
    "outPois = res.x[npCoeff:]\n",
    "for i in range(nComp):\n",
    "    print 'lam={:.2f}, frac={:.3f}'.format(outPois[i], outPois[i+nComp])\n",
    "print 'Norm: {:.3f}'.format(np.sum(outPois[nComp:]))"
   ]
  },
  {
   "cell_type": "code",
   "execution_count": 16,
   "metadata": {},
   "outputs": [
    {
     "name": "stdout",
     "output_type": "stream",
     "text": [
      "[####################]  100% - Tot. time: 26.6 s\n"
     ]
    }
   ],
   "source": [
    "ftest_list = glob('../data/cmsMC_private/BP_Probe_B0_MuNuDmst_Tag-B_MuNuDst_Hardbbbar_evtgen_ISGW2_PUc1_10-2-3/jobs_out/out_MINIAODSIM_*.root')\n",
    "handle = {}\n",
    "handle['vtx'] = [Handle('vector<reco::Vertex>'), 'offlineSlimmedPrimaryVertices']\n",
    "N_vtx_MINIAOD = []\n",
    "pb = ProgressBar(len(ftest_list))\n",
    "for i_f, fn in enumerate(ftest_list):\n",
    "    pb.show(i_f)\n",
    "    for event in Events(fn):\n",
    "        prods = {}\n",
    "        for k,v in handle.iteritems():\n",
    "            event.getByLabel(v[1], v[0])\n",
    "            prods[k] = v[0].product()\n",
    "        N_vtx_MINIAOD.append(prods['vtx'].size())\n",
    "N_vtx_MINIAOD = np.array(N_vtx_MINIAOD)"
   ]
  },
  {
   "cell_type": "code",
   "execution_count": 17,
   "metadata": {},
   "outputs": [
    {
     "data": {
      "image/png": "[encoded data removed]",
      "text/plain": [
       "<IPython.core.display.Image object>"
      ]
     },
     "metadata": {},
     "output_type": "display_data"
    }
   ],
   "source": [
    "hFit = h.Clone('hFit')\n",
    "hFit.Reset()\n",
    "hFit.SetFillStyle(0)\n",
    "hFit.SetLineColor(6)\n",
    "hFit.SetLineStyle(1)\n",
    "for i in range(1, hFit.GetNbinsX()+1):\n",
    "    n = hFit.GetBinCenter(i)\n",
    "    if npCoeff:\n",
    "        pCoeff = res.x[:npCoeff]\n",
    "    else: pCoeff = pCoeffFromMC\n",
    "    lamVal = res.x[npCoeff:npCoeff+nComp]\n",
    "    lamFrac = res.x[npCoeff+nComp:]\n",
    "    hFit.SetBinContent(i, probLinMulti(n, pCoeff, lamVal, lamFrac))\n",
    "\n",
    "hFit.Scale(dataNorm)\n",
    "hSim = create_TH1D(N_vtx_MINIAOD, h2clone=hFit, scale_histo=dataNorm/float(N_vtx_MINIAOD.shape[0]))\n",
    "hSim.SetLineColor(2)\n",
    "# m = SetMaxToMaxHist(hlist+[hFit, hSim], 0.8)\n",
    "c = drawOnCMSCanvas(CMS_lumi, [hO, hFit, hSim], 'same')\n",
    "leg1 = rt.TLegend(0.7, 0.7, 0.9, 0.9)\n",
    "leg1.AddEntry(hFit, 'Multi Pois fit', 'l')\n",
    "leg1.AddEntry(hSim, 'MINIAODSIM c1', 'l')\n",
    "leg1.Draw()"
   ]
  },
  {
   "cell_type": "code",
   "execution_count": 18,
   "metadata": {
    "scrolled": true
   },
   "outputs": [
    {
     "name": "stdout",
     "output_type": "stream",
     "text": [
      "[0, 1, 2, 3, 4, 5, 6, 7, 8, 9, 10, 11, 12, 13, 14, 15, 16, 17, 18, 19, 20, 21, 22, 23, 24, 25, 26, 27, 28, 29, 30, 31, 32, 33, 34, 35, 36, 37, 38, 39, 40, 41, 42, 43, 44, 45, 46, 47, 48, 49, 50, 51, 52, 53, 54, 55, 56, 57, 58, 59, 60, 61, 62, 63, 64, 65, 66, 67, 68, 69, 70, 71, 72, 73, 74, 75, 76, 77, 78, 79]\n",
      "0.00000, 0.00000, 0.00000, 0.00001, 0.00005, 0.00108, 0.00128, 0.00167, 0.00230, 0.00325, 0.00452, 0.00610, 0.00797, 0.01010, 0.01248, 0.01511, 0.01795, 0.02093, 0.02391, 0.02670, 0.02914, 0.03109, 0.03253, 0.03350, 0.03413, 0.03455, 0.03491, 0.03525, 0.03558, 0.03582, 0.03587, 0.03563, 0.03499, 0.03394, 0.03248, 0.03069, 0.02866, 0.02652, 0.02435, 0.02226, 0.02029, 0.01849, 0.01686, 0.01538, 0.01405, 0.01282, 0.01169, 0.01064, 0.00965, 0.00872, 0.00784, 0.00702, 0.00626, 0.00556, 0.00491, 0.00433, 0.00381, 0.00335, 0.00294, 0.00259, 0.00228, 0.00202, 0.00181, 0.00162, 0.00147, 0.00135, 0.00126, 0.00118, 0.00112, 0.00107, 0.00009, 0.00007, 0.00005, 0.00003, 0.00002, 0.00001, 0.00001, 0.00001, 0.00000, 0.00000\n"
     ]
    },
    {
     "data": {
      "image/png": "[encoded data removed]",
      "text/plain": [
       "<matplotlib.figure.Figure at 0x7f2faa75cc50>"
      ]
     },
     "metadata": {},
     "output_type": "display_data"
    }
   ],
   "source": [
    "from scipy.stats import poisson\n",
    "nVtx = []\n",
    "prob = []\n",
    "for n in range(80):\n",
    "    if npCoeff:\n",
    "        pCoeff = res.x[:npCoeff]\n",
    "    else: pCoeff = pCoeffFromMC\n",
    "    lamVal = res.x[npCoeff:npCoeff+nComp]\n",
    "    lamFrac = res.x[npCoeff+nComp:]\n",
    "    p = 0\n",
    "    for lam, f in zip(lamVal, lamFrac):\n",
    "        p += f*poisson.pmf(n, lam)\n",
    "    prob.append(p)\n",
    "    nVtx.append(n)\n",
    "\n",
    "#Add some sort of flat pedestall to save the tails\n",
    "prob = np.array(prob)\n",
    "prob[5:70] += 1e-3\n",
    "prob /= np.sum(prob)\n",
    "\n",
    "plt.plot(nVtx, prob, 'o')\n",
    "print nVtx\n",
    "print ', '.join(['{:.5f}'.format(p) for p in prob])"
   ]
  },
  {
   "cell_type": "code",
   "execution_count": 19,
   "metadata": {},
   "outputs": [
    {
     "data": {
      "text/plain": [
       "0"
      ]
     },
     "execution_count": 19,
     "metadata": {},
     "output_type": "execute_result"
    }
   ],
   "source": [
    "npCoeff"
   ]
  }
 ],
 "metadata": {
  "kernelspec": {
   "display_name": "Python 2",
   "language": "python",
   "name": "python2"
  },
  "language_info": {
   "codemirror_mode": {
    "name": "ipython",
    "version": 2
   },
   "file_extension": ".py",
   "mimetype": "text/x-python",
   "name": "python",
   "nbconvert_exporter": "python",
   "pygments_lexer": "ipython2",
   "version": "2.7.14+"
  }
 },
 "nbformat": 4,
 "nbformat_minor": 2
}
