{
 "cells": [
  {
   "cell_type": "code",
   "execution_count": 1,
   "metadata": {},
   "outputs": [
    {
     "name": "stdout",
     "output_type": "stream",
     "text": [
      "Welcome to JupyROOT 6.12/07\n"
     ]
    }
   ],
   "source": [
    "import numpy as np\n",
    "import scipy.stats as sps\n",
    "from glob import glob\n",
    "import matplotlib.pyplot as plt\n",
    "import ROOT as rt\n",
    "import root_numpy as rtnp\n",
    "import sys, os, yaml\n",
    "sys.path.append('../lib')\n",
    "sys.path.append('../analysis')\n",
    "from histo_utilities import create_TH1D, create_TH2D, std_color_list, SetMaxToMaxHist, make_ratio_plot\n",
    "from cebefo_style import Set_2D_colz_graphics\n",
    "from progressBar import ProgressBar\n",
    "from categoriesDef import categories\n",
    "\n",
    "from analysis_utilities import drawOnCMSCanvas, getEff\n",
    "\n",
    "import CMS_lumi, tdrstyle\n",
    "tdrstyle.setTDRStyle()\n",
    "CMS_lumi.writeExtraText = 1\n",
    "CMS_lumi.extraText = \"     Internal\"\n",
    "\n",
    "donotdelete = []"
   ]
  },
  {
   "cell_type": "code",
   "execution_count": 2,
   "metadata": {},
   "outputs": [],
   "source": [
    "# load FWLite C++ libraries\n",
    "rt.gSystem.Load(\"libFWCoreFWLite.so\");\n",
    "rt.gSystem.Load(\"libDataFormatsFWLite.so\");\n",
    "rt.FWLiteEnabler.enable()\n",
    "\n",
    "# load FWlite python libraries\n",
    "from DataFormats.FWLite import Events\n",
    "from DataFormats.FWLite import Handle"
   ]
  },
  {
   "cell_type": "code",
   "execution_count": 16,
   "metadata": {},
   "outputs": [],
   "source": [
    "fileNamesFile = '../../work/CMSSW_10_2_3/src/ntuplizer/BPH_RDntuplizer/production/inputFiles_BPH_Tag-B0_MuNuDmst-pD0bar-kp_13TeV-pythia8_Hardbbbar_PTFilter5_0p0-evtgen_ISGW2_PU0_10-2-3.txt'\n",
    "fileNames = ['/mnt/hadoop' + f[:-1] for f in open(fileNamesFile, 'r').readlines()]\n"
   ]
  },
  {
   "cell_type": "code",
   "execution_count": 29,
   "metadata": {},
   "outputs": [
    {
     "name": "stdout",
     "output_type": "stream",
     "text": [
      "File 0\n",
      "File 1\n",
      "File 2\n",
      "File 3\n",
      "File 4\n",
      "File 5\n",
      "File 6\n",
      "File 7\n",
      "File 8\n",
      "File 9\n"
     ]
    }
   ],
   "source": [
    "handle = {}\n",
    "handle['genP'] = [Handle('std::vector<reco::GenParticle>'), 'prunedGenParticles']\n",
    "N_vtx_MINIAOD = []\n",
    "\n",
    "ftest_list = np.random.choice(fileNames, 10)\n",
    "\n",
    "outNB0 = []\n",
    "outMuPt = []\n",
    "for i_f, fn in enumerate(ftest_list):\n",
    "    print 'File', i_f\n",
    "    for ie, event in enumerate(Events(fn)):\n",
    "        prods = {}\n",
    "        for k,v in handle.iteritems():\n",
    "            event.getByLabel(v[1], v[0])\n",
    "            prods[k] = v[0].product()\n",
    "        nB0 = 0\n",
    "        mu_pt = []\n",
    "        for p in prods['genP']:\n",
    "            if p.pdgId() != 511 or p.numberOfDaughters()<=1:\n",
    "                continue\n",
    "            nB0 += 1\n",
    "            for d in p.daughterRefVector():\n",
    "                if d.pdgId() == -13:\n",
    "                    mu_pt.append(d.pt())\n",
    "        outNB0.append(nB0)\n",
    "        if nB0 == 2:\n",
    "            outMuPt.append(mu_pt)\n",
    "outMuPt = np.array(outMuPt)\n",
    "outNB0 = np.array(outNB0)"
   ]
  },
  {
   "cell_type": "code",
   "execution_count": 30,
   "metadata": {},
   "outputs": [
    {
     "data": {
      "text/plain": [
       "(array([1.7972e+04, 0.0000e+00, 2.7770e+03, 0.0000e+00, 0.0000e+00,\n",
       "        4.0000e+01, 0.0000e+00, 5.0000e+00, 0.0000e+00, 1.0000e+00]),\n",
       " array([1. , 1.4, 1.8, 2.2, 2.6, 3. , 3.4, 3.8, 4.2, 4.6, 5. ]),\n",
       " <a list of 10 Patch objects>)"
      ]
     },
     "execution_count": 30,
     "metadata": {},
     "output_type": "execute_result"
    },
    {
     "data": {
      "image/png": "[encoded data removed]",
      "text/plain": [
       "<matplotlib.figure.Figure at 0x7f1426b77b10>"
      ]
     },
     "metadata": {},
     "output_type": "display_data"
    }
   ],
   "source": [
    "plt.hist(outNB0)"
   ]
  },
  {
   "cell_type": "code",
   "execution_count": 31,
   "metadata": {},
   "outputs": [
    {
     "name": "stderr",
     "output_type": "stream",
     "text": [
      "Warning in <TCanvas::Constructor>: Deleting canvas with same name: c\n"
     ]
    },
    {
     "data": {
      "image/png": "[encoded data removed]",
      "text/plain": [
       "<IPython.core.display.Image object>"
      ]
     },
     "metadata": {},
     "output_type": "display_data"
    }
   ],
   "source": [
    "x = np.min(outMuPt, axis=1)\n",
    "y = np.max(outMuPt, axis=1)\n",
    "h2 = create_TH2D(np.column_stack((x,y)), binning=[50, 0, 30, 50, 0, 30])\n",
    "\n",
    "c = rt.TCanvas('c', 'c', 800, 600)\n",
    "h2.Draw('colz')\n",
    "c.Draw()"
   ]
  },
  {
   "cell_type": "code",
   "execution_count": 38,
   "metadata": {},
   "outputs": [
    {
     "data": {
      "text/plain": [
       "0.08966510622974433"
      ]
     },
     "execution_count": 38,
     "metadata": {},
     "output_type": "execute_result"
    }
   ],
   "source": [
    "np.sum(x > 7)/float(x.shape[0])"
   ]
  },
  {
   "cell_type": "code",
   "execution_count": 34,
   "metadata": {},
   "outputs": [
    {
     "data": {
      "text/plain": [
       "0.1357537869680212"
      ]
     },
     "execution_count": 34,
     "metadata": {},
     "output_type": "execute_result"
    }
   ],
   "source": [
    "1 - np.sum(outNB0 == 1)/float(outNB0.shape[0])"
   ]
  },
  {
   "cell_type": "code",
   "execution_count": 39,
   "metadata": {},
   "outputs": [
    {
     "data": {
      "text/plain": [
       "0.012015"
      ]
     },
     "execution_count": 39,
     "metadata": {},
     "output_type": "execute_result"
    }
   ],
   "source": [
    "0.089*0.135"
   ]
  },
  {
   "cell_type": "code",
   "execution_count": null,
   "metadata": {},
   "outputs": [],
   "source": []
  }
 ],
 "metadata": {
  "kernelspec": {
   "display_name": "Python 2",
   "language": "python",
   "name": "python2"
  },
  "language_info": {
   "codemirror_mode": {
    "name": "ipython",
    "version": 2
   },
   "file_extension": ".py",
   "mimetype": "text/x-python",
   "name": "python",
   "nbconvert_exporter": "python",
   "pygments_lexer": "ipython2",
   "version": "2.7.14+"
  }
 },
 "nbformat": 4,
 "nbformat_minor": 2
}
