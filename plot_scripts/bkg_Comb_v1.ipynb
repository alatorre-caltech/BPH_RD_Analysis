{
 "cells": [
  {
   "cell_type": "code",
   "execution_count": 1,
   "metadata": {
    "ExecuteTime": {
     "end_time": "2020-12-28T17:59:28.145420Z",
     "start_time": "2020-12-28T17:59:28.134378Z"
    }
   },
   "outputs": [],
   "source": [
    "catName = 'high'"
   ]
  },
  {
   "cell_type": "code",
   "execution_count": 2,
   "metadata": {
    "ExecuteTime": {
     "end_time": "2020-12-28T17:59:28.218202Z",
     "start_time": "2020-12-28T17:59:28.151660Z"
    }
   },
   "outputs": [],
   "source": [
    "import sys, os, pickle, time, re\n",
    "from glob import glob\n",
    "sys.path.append('../lib')\n",
    "sys.path.append('../analysis')"
   ]
  },
  {
   "cell_type": "code",
   "execution_count": 3,
   "metadata": {
    "ExecuteTime": {
     "end_time": "2020-12-28T17:59:33.455026Z",
     "start_time": "2020-12-28T17:59:28.222144Z"
    }
   },
   "outputs": [
    {
     "name": "stdout",
     "output_type": "stream",
     "text": [
      "Welcome to JupyROOT 6.12/07\n"
     ]
    }
   ],
   "source": [
    "import numpy as np\n",
    "import pandas as pd\n",
    "import matplotlib.pyplot as plt\n",
    "from array import array\n",
    "\n",
    "import ROOT as rt\n",
    "rt.TGaxis.SetMaxDigits(4)\n",
    "rt.gErrorIgnoreLevel = rt.kError\n",
    "rt.RooMsgService.instance().setGlobalKillBelow(rt.RooFit.ERROR)\n",
    "import ROOT.RooFit as rf\n",
    "import root_numpy as rtnp\n",
    "\n",
    "from analysis_utilities import drawOnCMSCanvas, getEff, DSetLoader\n",
    "from histo_utilities import create_TH1D, create_TH2D, SetMaxToMaxHist\n",
    "from gridVarQ2Plot import col_dic, label_dic\n",
    "from progressBar import ProgressBar\n",
    "from categoriesDef import categories\n",
    "cat = categories[catName]\n",
    "\n",
    "from lumi_utilities import getLumiByTrigger\n",
    "\n",
    "import CMS_lumi, tdrstyle\n",
    "tdrstyle.setTDRStyle()\n",
    "CMS_lumi.writeExtraText = 1\n",
    "\n",
    "\n",
    "CMS_lumi.extraText = 7*' ' + 'Internal'\n",
    "\n",
    "donotdelete = []"
   ]
  },
  {
   "cell_type": "code",
   "execution_count": 4,
   "metadata": {
    "ExecuteTime": {
     "end_time": "2020-12-28T17:59:33.477896Z",
     "start_time": "2020-12-28T17:59:33.460584Z"
    }
   },
   "outputs": [],
   "source": [
    "m_mu = 0.1056583755\n",
    "m_Dst = 2.01026\n",
    "m_B0 = 5.2796"
   ]
  },
  {
   "cell_type": "code",
   "execution_count": 5,
   "metadata": {
    "ExecuteTime": {
     "end_time": "2020-12-28T17:59:33.558840Z",
     "start_time": "2020-12-28T17:59:33.482750Z"
    }
   },
   "outputs": [],
   "source": [
    "catText = rt.TLatex()\n",
    "catText.SetTextAlign(31)\n",
    "catText.SetTextSize(0.06)\n",
    "catText.SetTextFont(42)\n",
    "catText.SetTextSize(0.05)"
   ]
  },
  {
   "cell_type": "code",
   "execution_count": 6,
   "metadata": {
    "ExecuteTime": {
     "end_time": "2020-12-28T17:59:33.595233Z",
     "start_time": "2020-12-28T17:59:33.563546Z"
    }
   },
   "outputs": [],
   "source": [
    "cl = rt.TLine()\n",
    "cl.SetLineColor(6)\n",
    "cl.SetLineStyle(9)\n",
    "cl.SetLineWidth(2)"
   ]
  },
  {
   "cell_type": "code",
   "execution_count": 7,
   "metadata": {
    "ExecuteTime": {
     "end_time": "2020-12-28T17:59:51.243246Z",
     "start_time": "2020-12-28T17:59:33.599841Z"
    }
   },
   "outputs": [],
   "source": [
    "d0 = pd.DataFrame(rtnp.root2array('../data/cmsRD/skimmed/B2DstMu_B0_201101_{}_corr.root'.format(cat.name)))\n",
    "d1 = pd.DataFrame(rtnp.root2array('../data/cmsRD/skimmed/B2DstMu_antiB0_201122_{}_corr.root'.format(cat.name)))\n",
    "dfSig = pd.concat([d0, d1])\n",
    "\n",
    "d0 = pd.DataFrame(rtnp.root2array('../data/cmsRD/skimmed/B2DstMu_combDstmMum_201125_{}_corr.root'.format(cat.name)))\n",
    "d1 = pd.DataFrame(rtnp.root2array('../data/cmsRD/skimmed/B2DstMu_combDstpMup_201125_{}_corr.root'.format(cat.name)))\n",
    "dfBkg = pd.concat([d0, d1])\n",
    "del d0, d1"
   ]
  },
  {
   "cell_type": "code",
   "execution_count": 8,
   "metadata": {
    "ExecuteTime": {
     "end_time": "2020-12-28T17:59:51.261233Z",
     "start_time": "2020-12-28T17:59:51.251729Z"
    }
   },
   "outputs": [],
   "source": [
    "expectedLumi = {'Low':6.4, 'Mid':20.7, 'High':26.4, 'Single':20.7} #fb^-1\n",
    "CMS_lumi.integrated_lumi = expectedLumi[cat.name]"
   ]
  },
  {
   "cell_type": "code",
   "execution_count": 9,
   "metadata": {
    "ExecuteTime": {
     "end_time": "2020-12-28T17:59:51.352853Z",
     "start_time": "2020-12-28T17:59:51.266231Z"
    }
   },
   "outputs": [
    {
     "data": {
      "text/plain": [
       "'B_eta B_phi B_pt D0_eta D0_phi D0_pt D0pismu_eta D0pismu_phi Dst_eta Dst_phi Dst_pt Est_mu Est_mu_coll K_eta K_phi K_pt M2_miss M2_miss_coll N_goodAddTks N_vtx U_miss UmissTks cat_high cat_low cat_mid chi2_D0pismu cosT_D0pismu_PV cos_D0pismu_PV d_vtxD0pismu_PV dxy_vtxD0pismu_PV index localVertexDensity massHadTks massHadTks_DstMassConstraint massVisTks mass_D0pis mass_D0pismu mass_D0pismu_muASK mass_D0pismu_muASpi mass_piK muPass_Mu12_IP6 muPass_Mu7_IP4 muPass_Mu9_IP6 mu_dcaT_vtxDst mu_dcaT_vtxDstMu mu_dca_vtxDst mu_dca_vtxDstMu mu_eta mu_phi mu_pt mu_sigdcaT_vtxDst mu_sigdcaT_vtxDstMu mu_sigdca_vtxDst mu_sigdca_vtxDstMu mu_sigdxy pi_eta pi_phi pi_pt pis_eta pis_phi pis_pt pval_D0pis pval_D0pismu pval_piK q2 q2_coll sigdxy_vtxD0_PV tkCharge_0 tkCharge_1 tkCharge_2 tkEta_0 tkEta_1 tkEta_2 tkMassHad_0 tkMassHad_1 tkMassHad_2 tkMassMiss2_0 tkMassMiss2_1 tkMassMiss2_2 tkMassMuTk_0 tkMassMuTk_1 tkMassMuTk_2 tkMassVis_0 tkMassVis_1 tkMassVis_2 tkPhi_0 tkPhi_1 tkPhi_2 tkPtError_0 tkPtError_1 tkPtError_2 tkPt_0 tkPt_1 tkPt_2 tkUmiss_0 tkUmiss_1 tkUmiss_2'"
      ]
     },
     "execution_count": 9,
     "metadata": {},
     "output_type": "execute_result"
    }
   ],
   "source": [
    "' '.join(np.sort(dfSig.columns))"
   ]
  },
  {
   "cell_type": "markdown",
   "metadata": {},
   "source": [
    "# Visible system mass"
   ]
  },
  {
   "cell_type": "code",
   "execution_count": 10,
   "metadata": {
    "ExecuteTime": {
     "end_time": "2020-12-28T17:59:51.370938Z",
     "start_time": "2020-12-28T17:59:51.357164Z"
    }
   },
   "outputs": [
    {
     "name": "stdout",
     "output_type": "stream",
     "text": [
      "98256053 61595\n",
      "Ratio: 6.27e-04 +/- 1.02e-08 (0 %)\n"
     ]
    }
   ],
   "source": [
    "Nsig = dfSig.size\n",
    "Nbkg = dfBkg.size\n",
    "print Nsig, Nbkg\n",
    "\n",
    "r = Nbkg/float(Nsig)\n",
    "dr = r*np.hypot(1./Nsig, 1./Nbkg)\n",
    "print 'Ratio: {:1.2e} +/- {:1.2e} ({:.0f} %)'.format(r, dr, 100*dr/r)"
   ]
  },
  {
   "cell_type": "code",
   "execution_count": 11,
   "metadata": {
    "ExecuteTime": {
     "end_time": "2020-12-28T17:59:51.839103Z",
     "start_time": "2020-12-28T17:59:51.375240Z"
    }
   },
   "outputs": [
    {
     "data": {
      "image/png": "[encoded data removed]",
      "text/plain": [
       "<IPython.core.display.Image object>"
      ]
     },
     "metadata": {},
     "output_type": "display_data"
    }
   ],
   "source": [
    "h1 = create_TH1D(dfSig['mass_D0pismu'], \n",
    "                 binning=[100, 2, 5.4],\n",
    "                 opt='overflow',\n",
    "                 axis_title=['Mass(#piK#pi#mu) [GeV]', 'Events'],\n",
    "                )\n",
    "h1.SetMarkerStyle(8)\n",
    "h2 = create_TH1D(dfBkg['mass_D0pismu'], binning=h1.binning,\n",
    "                 opt='overflow',\n",
    "                 color=1\n",
    "                )\n",
    "h2.SetMarkerStyle(8)\n",
    "\n",
    "leg = rt.TLegend(0.5, 0.6, 0.75, 0.8)\n",
    "leg.SetBorderSize(0)\n",
    "leg.SetFillStyle(0)\n",
    "leg.AddEntry(h1, 'Opposite sign (sig)', 'lep')\n",
    "leg.AddEntry(h2, 'Same sign (bkg)', 'lep')\n",
    "# leg.AddEntry(cl, 'Selection cut', 'l')\n",
    "    \n",
    "c = drawOnCMSCanvas(CMS_lumi, [h1, h2], 'same')\n",
    "c.SetLogy()\n",
    "catText.DrawLatexNDC(0.93, 0.9, 'Category: {}'.format(cat.name))\n",
    "leg.Draw()\n",
    "# cl.DrawLine(5.4, 0.5, 5.4, 1e4)\n",
    "c.SaveAs('../data/fig/massB_RD_combBkg_{}.png'.format(cat.name))"
   ]
  },
  {
   "cell_type": "code",
   "execution_count": 12,
   "metadata": {
    "ExecuteTime": {
     "end_time": "2020-12-28T17:59:51.861100Z",
     "start_time": "2020-12-28T17:59:51.843706Z"
    }
   },
   "outputs": [],
   "source": [
    "# h1 = create_TH1D(dfSig['M2_miss'], \n",
    "#                  binning=[100, -6, 10],\n",
    "#                  opt='overflow+underflow',\n",
    "#                  axis_title=['M^{2}_{miss} [GeV]', 'Events'],\n",
    "#                 )\n",
    "# h1.SetMarkerStyle(8)\n",
    "# h2 = create_TH1D(dfWrong['M2_miss'][selWrong], binning=h1.binning,\n",
    "#                  opt='overflow+underflow',\n",
    "#                  color=1\n",
    "#                 )\n",
    "# h2.SetMarkerStyle(8)\n",
    "\n",
    "# leg = rt.TLegend(0.7, 0.6, 0.95, 0.8)\n",
    "# leg.SetBorderSize(0)\n",
    "# leg.SetFillStyle(0)\n",
    "# leg.AddEntry(h1, 'D*^{-}#mu^{+} candidates', 'lep')\n",
    "# leg.AddEntry(h2, 'D*^{-}#mu^{-} candidates', 'lep')\n",
    "    \n",
    "# c = drawOnCMSCanvas(CMS_lumi, [h1, h2], 'same')\n",
    "# c.SetLogy()\n",
    "# catText.DrawLatexNDC(0.9, 0.85, 'Category: {}'.format(cat.name))\n",
    "# leg.Draw()"
   ]
  },
  {
   "cell_type": "code",
   "execution_count": null,
   "metadata": {},
   "outputs": [],
   "source": []
  }
 ],
 "metadata": {
  "kernelspec": {
   "display_name": "Python 2",
   "language": "python",
   "name": "python2"
  },
  "language_info": {
   "codemirror_mode": {
    "name": "ipython",
    "version": 2
   },
   "file_extension": ".py",
   "mimetype": "text/x-python",
   "name": "python",
   "nbconvert_exporter": "python",
   "pygments_lexer": "ipython2",
   "version": "2.7.14+"
  },
  "varInspector": {
   "cols": {
    "lenName": 16,
    "lenType": 16,
    "lenVar": 40
   },
   "kernels_config": {
    "python": {
     "delete_cmd_postfix": "",
     "delete_cmd_prefix": "del ",
     "library": "var_list.py",
     "varRefreshCmd": "print(var_dic_list())"
    },
    "r": {
     "delete_cmd_postfix": ") ",
     "delete_cmd_prefix": "rm(",
     "library": "var_list.r",
     "varRefreshCmd": "cat(var_dic_list()) "
    }
   },
   "types_to_exclude": [
    "module",
    "function",
    "builtin_function_or_method",
    "instance",
    "_Feature"
   ],
   "window_display": false
  }
 },
 "nbformat": 4,
 "nbformat_minor": 2
}
