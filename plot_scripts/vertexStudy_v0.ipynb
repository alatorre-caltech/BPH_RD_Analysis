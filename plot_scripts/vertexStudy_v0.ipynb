{
 "cells": [
  {
   "cell_type": "markdown",
   "metadata": {},
   "source": [
    "Check vertices quality distribution"
   ]
  },
  {
   "cell_type": "markdown",
   "metadata": {},
   "source": [
    "# Import"
   ]
  },
  {
   "cell_type": "code",
   "execution_count": 1,
   "metadata": {},
   "outputs": [],
   "source": [
    "import sys, os, yaml\n",
    "from glob import glob\n",
    "sys.path.append('../lib')"
   ]
  },
  {
   "cell_type": "code",
   "execution_count": 17,
   "metadata": {},
   "outputs": [],
   "source": [
    "import numpy as np\n",
    "import matplotlib.pyplot as plt\n",
    "\n",
    "import ROOT as rt\n",
    "rt.gErrorIgnoreLevel = rt.kError\n",
    "rt.RooMsgService.instance().setGlobalKillBelow(rt.RooFit.ERROR)\n",
    "from progressBar import ProgressBar\n",
    "from histo_utilities import create_TH1D, create_TH2D, SetMaxToMaxHist\n",
    "from analysis_utilities import drawOnCMSCanvas\n",
    "\n",
    "import CMS_lumi, tdrstyle\n",
    "tdrstyle.setTDRStyle()\n",
    "CMS_lumi.writeExtraText = 1\n",
    "CMS_lumi.extraText = \"     Internal\""
   ]
  },
  {
   "cell_type": "code",
   "execution_count": 3,
   "metadata": {},
   "outputs": [],
   "source": [
    "import signal\n",
    "\n",
    "class TimeoutError(Exception):\n",
    "    pass\n",
    "\n",
    "class timeout:\n",
    "    def __init__(self, seconds=1, error_message='Timeout'):\n",
    "        self.seconds = seconds\n",
    "        self.error_message = error_message\n",
    "    def handle_timeout(self, signum, frame):\n",
    "        raise TimeoutError(self.error_message)\n",
    "    def __enter__(self):\n",
    "        signal.signal(signal.SIGALRM, self.handle_timeout)\n",
    "        signal.alarm(self.seconds)\n",
    "    def __exit__(self, type, value, traceback):\n",
    "        signal.alarm(0)"
   ]
  },
  {
   "cell_type": "code",
   "execution_count": 4,
   "metadata": {},
   "outputs": [],
   "source": [
    "# load FWLite C++ libraries\n",
    "rt.gSystem.Load(\"libFWCoreFWLite.so\");\n",
    "rt.gSystem.Load(\"libDataFormatsFWLite.so\");\n",
    "rt.FWLiteEnabler.enable()\n",
    "\n",
    "# load FWlite python libraries\n",
    "from DataFormats.FWLite import Events\n",
    "from DataFormats.FWLite import Handle"
   ]
  },
  {
   "cell_type": "code",
   "execution_count": 5,
   "metadata": {},
   "outputs": [],
   "source": [
    "site_loc_conf = '/mnt/hadoop/store/user/ocerri'\n",
    "sampleFile = '/storage/user/ocerri/work/CMSSW_10_2_3/src/ntuplizer/BPH_RDntuplizer/production/samples.yml'\n",
    "samples = yaml.load(open(sampleFile))['samples']"
   ]
  },
  {
   "cell_type": "code",
   "execution_count": 7,
   "metadata": {},
   "outputs": [],
   "source": [
    "handle = {}\n",
    "handle['vertexes'] = [Handle('std::vector<reco::Vertex>'), 'offlineSlimmedPrimaryVertices']"
   ]
  },
  {
   "cell_type": "markdown",
   "metadata": {},
   "source": [
    "Fetch information"
   ]
  },
  {
   "cell_type": "code",
   "execution_count": 11,
   "metadata": {},
   "outputs": [
    {
     "name": "stdout",
     "output_type": "stream",
     "text": [
      "6\n",
      "Analizing 50 MINIAOD\n",
      "[####################]  100% - Tot. time: 50.7 s\n",
      "Skipped 0 files\n"
     ]
    }
   ],
   "source": [
    "sample = 'B0_MuNuDmst_PU0'\n",
    "MINIAOD_dirs = []\n",
    "for part in samples[sample]['parts']:\n",
    "        aux = glob(part)\n",
    "        if len(aux) > 0:\n",
    "            aux = os.path.dirname(part)\n",
    "        else:\n",
    "            aux = glob(site_loc_conf + part[:-38].replace('ocerri-','') + '/*/*')\n",
    "        MINIAOD_dirs += aux\n",
    "print len(MINIAOD_dirs)\n",
    "\n",
    "N_max = 50\n",
    "fileList = []\n",
    "for directory in MINIAOD_dirs:\n",
    "    fileList += glob(directory + '/out_MINIAODSIM_*.root')\n",
    "if N_max > 0 and N_max < len(fileList):\n",
    "    fileList = np.random.choice(fileList, N_max)\n",
    "    \n",
    "pv = []\n",
    "allv = []\n",
    "\n",
    "print 'Analizing', len(fileList), 'MINIAOD'\n",
    "pb = ProgressBar(maxEntry=len(fileList))\n",
    "skippedFiles = []\n",
    "for i_j, fileName in enumerate(fileList):\n",
    "    pb.show(i_j)\n",
    "\n",
    "    with timeout(seconds=3):\n",
    "        try:\n",
    "            for event in Events(fileName):\n",
    "                prods = {}\n",
    "                for k,v in handle.iteritems():\n",
    "                    event.getByLabel(v[1], v[0])\n",
    "                    prods[k] = v[0].product()\n",
    "                for i, v in enumerate(prods['vertexes']):\n",
    "                    if i == 0:\n",
    "                        pv.append([v.normalizedChi2(), v.nTracks()])\n",
    "                    else:\n",
    "                        allv.append([v.normalizedChi2(), v.nTracks()])\n",
    "                \n",
    "        except:\n",
    "            skippedFiles.append(fileName)\n",
    "print 'Skipped {} files'.format(len(skippedFiles))\n",
    "\n",
    "pvMC0 = np.array(pv)\n",
    "allvMC0 = np.array(allv)"
   ]
  },
  {
   "cell_type": "code",
   "execution_count": 8,
   "metadata": {},
   "outputs": [
    {
     "name": "stdout",
     "output_type": "stream",
     "text": [
      "Analizing 50 MINIAOD\n",
      "[####################]  100% - Tot. time: 67.0 s\n",
      "Skipped 4 files\n"
     ]
    }
   ],
   "source": [
    "sample = 'B0_MuNuDmst_PU20'\n",
    "MINIAOD_dirs = []\n",
    "for part in samples[sample]['parts']:\n",
    "        aux = glob(part)\n",
    "        if len(aux) > 0:\n",
    "            aux = os.path.dirname(part)\n",
    "        else:\n",
    "            aux = glob(site_loc_conf + part[:-38].replace('ocerri-','') + '/*/*')\n",
    "        MINIAOD_dirs += aux\n",
    "print len(MINIAOD_dirs)\n",
    "\n",
    "N_max = 50\n",
    "fileList = []\n",
    "for directory in MINIAOD_dirs:\n",
    "    fileList += glob(directory + '/out_MINIAODSIM_*.root')\n",
    "if N_max > 0 and N_max < len(fileList):\n",
    "    fileList = np.random.choice(fileList, N_max)\n",
    "    \n",
    "pv = []\n",
    "allv = []\n",
    "\n",
    "print 'Analizing', len(fileList), 'MINIAOD'\n",
    "pb = ProgressBar(maxEntry=len(fileList))\n",
    "skippedFiles = []\n",
    "for i_j, fileName in enumerate(fileList):\n",
    "    pb.show(i_j)\n",
    "\n",
    "    with timeout(seconds=3):\n",
    "        try:\n",
    "            for event in Events(fileName):\n",
    "                prods = {}\n",
    "                for k,v in handle.iteritems():\n",
    "                    event.getByLabel(v[1], v[0])\n",
    "                    prods[k] = v[0].product()\n",
    "                for i, v in enumerate(prods['vertexes']):\n",
    "                    if i == 0:\n",
    "                        pv.append([v.normalizedChi2(), v.nTracks()])\n",
    "                    else:\n",
    "                        allv.append([v.normalizedChi2(), v.nTracks()])\n",
    "                \n",
    "        except:\n",
    "            skippedFiles.append(fileName)\n",
    "print 'Skipped {} files'.format(len(skippedFiles))\n",
    "\n",
    "pvMC = np.array(pv)\n",
    "allvMC = np.array(allv)"
   ]
  },
  {
   "cell_type": "markdown",
   "metadata": {},
   "source": [
    "# Data"
   ]
  },
  {
   "cell_type": "code",
   "execution_count": 9,
   "metadata": {},
   "outputs": [
    {
     "name": "stdout",
     "output_type": "stream",
     "text": [
      "['/store/data/Run2018D/ParkingBPH1/MINIAOD/05May2019promptD-v1/270000/4682963C-2EFF-FF4D-B234-8ED5973F70E4.root']\n",
      "Analizing 1 MINIAOD\n",
      "[####################]  100% - Tot. time: 8.2 s\n"
     ]
    }
   ],
   "source": [
    "sample = '/storage/user/ocerri/work/CMSSW_10_2_3/src/ntuplizer/BPH_RDntuplizer/production/inputFiles_ParkingBPH1_Run2018D-05May2019promptD-v1_MINIAOD.txt'\n",
    "f = open(sample, 'r')\n",
    "N_max = 1\n",
    "fileList = []\n",
    "for l in f.readlines():\n",
    "    fileList.append(l[:-1])\n",
    "    if N_max > 0 and N_max == len(fileList):\n",
    "        break\n",
    "\n",
    "print fileList\n",
    "    \n",
    "pv = []\n",
    "allv = []\n",
    "\n",
    "print 'Analizing', len(fileList), 'MINIAOD'\n",
    "for i_j, fileName in enumerate(fileList):\n",
    "    pb = ProgressBar(maxEntry=10000)\n",
    "    for ie, event in enumerate(Events('root://cmsxrootd.fnal.gov/'+fileName)):\n",
    "        pb.show(ie)\n",
    "        prods = {}\n",
    "        for k,v in handle.iteritems():\n",
    "            event.getByLabel(v[1], v[0])\n",
    "            prods[k] = v[0].product()\n",
    "        for i, v in enumerate(prods['vertexes']):\n",
    "            if i == 0:\n",
    "                pv.append([v.normalizedChi2(), v.nTracks()])\n",
    "            else:\n",
    "                allv.append([v.normalizedChi2(), v.nTracks()])\n",
    "        if ie == 9999:\n",
    "            break\n",
    "\n",
    "\n",
    "pvRD = np.array(pv)\n",
    "allvRD = np.array(allv)"
   ]
  },
  {
   "cell_type": "code",
   "execution_count": 12,
   "metadata": {},
   "outputs": [],
   "source": [
    "def setHistoColorMarker(h, color, marker=None):\n",
    "    h.SetLineColor(color)\n",
    "    h.SetMarkerColor(color)\n",
    "    if not marker is None:\n",
    "        h.SetMarkerStyle(marker)"
   ]
  },
  {
   "cell_type": "code",
   "execution_count": 24,
   "metadata": {},
   "outputs": [
    {
     "data": {
      "text/plain": [
       "<ROOT.TLine object (\"TLine\") at 0x12acd4c0>"
      ]
     },
     "execution_count": 24,
     "metadata": {},
     "output_type": "execute_result"
    },
    {
     "data": {
      "image/png": "[encoded data removed]",
      "text/plain": [
       "<IPython.core.display.Image object>"
      ]
     },
     "metadata": {},
     "output_type": "display_data"
    }
   ],
   "source": [
    "hPVMC = create_TH1D(pvMC[:,0], title='hPVRD',\n",
    "                 binning=[50, 0, 2.5],\n",
    "                 axis_title=['#chi^{2}/dof', 'Normalized entries'],\n",
    "                 scale_histo=1./pvMC.shape[0],\n",
    "                 opt='overflow'\n",
    "                )\n",
    "setHistoColorMarker(hPVMC, rt.kAzure+1, 8)\n",
    "\n",
    "hPVRD = create_TH1D(pvRD[:,0], title='hPVRD', binning=hPVMC.binning, scale_histo=1./pvRD.shape[0], opt='overflow')\n",
    "setHistoColorMarker(hPVRD, 1, 8)\n",
    "\n",
    "hPVMC0 = create_TH1D(pvMC0[:,0], title='hPVMC0', binning=hPVMC.binning, scale_histo=1./pvMC0.shape[0], opt='overflow')\n",
    "setHistoColorMarker(hPVMC0, rt.kRed-4, 8)\n",
    "\n",
    "hallMC = create_TH1D(allvMC[:,0], title='hallvtxMC', binning=hPVMC.binning, scale_histo=1./allvMC.shape[0], opt='overflow')\n",
    "setHistoColorMarker(hallMC, rt.kAzure+1, 4)\n",
    "\n",
    "hallMC0 = create_TH1D(allvMC0[:,0], title='hallvtxMC', binning=hPVMC.binning, scale_histo=1./allvMC0.shape[0], opt='overflow')\n",
    "setHistoColorMarker(hallMC0, rt.kRed-4, 4)\n",
    "\n",
    "hallRD = create_TH1D(allvRD[:,0], title='hallvtxMC', binning=hPVMC.binning, scale_histo=1./allvRD.shape[0], opt='overflow')\n",
    "setHistoColorMarker(hallRD, 1, 4)\n",
    "\n",
    "hl = [hPVMC, hPVRD, hPVMC0, hallMC, hallMC0, hallRD]\n",
    "m = SetMaxToMaxHist(hl)\n",
    "c = drawOnCMSCanvas(CMS_lumi, hl, 'same')\n",
    "l = rt.TLine()\n",
    "l.SetLineColor(6)\n",
    "l.SetLineStyle(9)\n",
    "# l.DrawLine(0., 0, 0, m)\n",
    "l.DrawLine(1.5, 0, 1.5, m)"
   ]
  },
  {
   "cell_type": "code",
   "execution_count": 22,
   "metadata": {},
   "outputs": [
    {
     "data": {
      "text/plain": [
       "<ROOT.TLine object (\"TLine\") at 0x142a8f40>"
      ]
     },
     "execution_count": 22,
     "metadata": {},
     "output_type": "execute_result"
    },
    {
     "data": {
      "image/png": "[encoded data removed]",
      "text/plain": [
       "<IPython.core.display.Image object>"
      ]
     },
     "metadata": {},
     "output_type": "display_data"
    }
   ],
   "source": [
    "hPVMC = create_TH1D(pvMC[:,1], title='hPVRD',\n",
    "                 binning=[50, -0.5, 49.5],\n",
    "                 axis_title=['Number of tracks', 'Normalized entries'],\n",
    "                 scale_histo=1./pvMC.shape[0],\n",
    "                 opt='overflow'\n",
    "                )\n",
    "setHistoColorMarker(hPVMC, rt.kAzure+1, 8)\n",
    "\n",
    "hPVRD = create_TH1D(pvRD[:,1], title='hPVRD', binning=hPVMC.binning, scale_histo=1./pvRD.shape[0], opt='overflow')\n",
    "setHistoColorMarker(hPVRD, 1, 8)\n",
    "\n",
    "hPVMC0 = create_TH1D(pvMC0[:,1], title='hPVMC0', binning=hPVMC.binning, scale_histo=1./pvMC0.shape[0], opt='overflow')\n",
    "setHistoColorMarker(hPVMC0, rt.kRed-4, 8)\n",
    "\n",
    "hallMC = create_TH1D(allvMC[:,1], title='hallvtxMC', binning=hPVMC.binning, scale_histo=1./allvMC.shape[0], opt='overflow')\n",
    "setHistoColorMarker(hallMC, rt.kAzure+1, 4)\n",
    "\n",
    "hallMC0 = create_TH1D(allvMC0[:,1], title='hallvtxMC', binning=hPVMC.binning, scale_histo=1./allvMC0.shape[0], opt='overflow')\n",
    "setHistoColorMarker(hallMC0, rt.kRed-4, 4)\n",
    "\n",
    "hallRD = create_TH1D(allvRD[:,1], title='hallvtxMC', binning=hPVMC.binning, scale_histo=1./allvRD.shape[0], opt='overflow')\n",
    "setHistoColorMarker(hallRD, 1, 4)\n",
    "\n",
    "hl = [hPVMC, hPVRD, hPVMC0, hallMC, hallMC0, hallRD]\n",
    "m = SetMaxToMaxHist(hl)\n",
    "c = drawOnCMSCanvas(CMS_lumi, hl, 'same')\n",
    "l = rt.TLine()\n",
    "l.SetLineColor(6)\n",
    "l.SetLineStyle(9)\n",
    "l.DrawLine(0.3, 0, 0.3, m)\n",
    "l.DrawLine(1.3, 0, 1.3, m)"
   ]
  },
  {
   "cell_type": "code",
   "execution_count": null,
   "metadata": {},
   "outputs": [],
   "source": []
  }
 ],
 "metadata": {
  "kernelspec": {
   "display_name": "Python 2",
   "language": "python",
   "name": "python2"
  },
  "language_info": {
   "codemirror_mode": {
    "name": "ipython",
    "version": 2
   },
   "file_extension": ".py",
   "mimetype": "text/x-python",
   "name": "python",
   "nbconvert_exporter": "python",
   "pygments_lexer": "ipython2",
   "version": "2.7.14+"
  }
 },
 "nbformat": 4,
 "nbformat_minor": 2
}
