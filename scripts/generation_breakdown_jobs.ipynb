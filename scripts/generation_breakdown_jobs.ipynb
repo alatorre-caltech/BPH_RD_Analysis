{
 "cells": [
  {
   "cell_type": "markdown",
   "metadata": {},
   "source": [
    "Notebook to collect the information of the generation"
   ]
  },
  {
   "cell_type": "markdown",
   "metadata": {},
   "source": [
    "### Import"
   ]
  },
  {
   "cell_type": "code",
   "execution_count": 1,
   "metadata": {
    "ExecuteTime": {
     "end_time": "2019-11-04T23:00:57.326302Z",
     "start_time": "2019-11-04T23:00:57.319852Z"
    }
   },
   "outputs": [],
   "source": [
    "import sys, os, re\n",
    "from glob import glob\n",
    "sys.path.append('../lib')\n",
    "\n",
    "import time, datetime"
   ]
  },
  {
   "cell_type": "code",
   "execution_count": 2,
   "metadata": {
    "ExecuteTime": {
     "end_time": "2019-11-04T23:00:57.880990Z",
     "start_time": "2019-11-04T23:00:57.535016Z"
    }
   },
   "outputs": [],
   "source": [
    "import numpy as np\n",
    "import matplotlib.pyplot as plt\n",
    "from prettytable import PrettyTable\n",
    "import humanfriendly\n",
    "from progressBar import ProgressBar"
   ]
  },
  {
   "cell_type": "code",
   "execution_count": 3,
   "metadata": {
    "ExecuteTime": {
     "end_time": "2019-11-04T23:00:59.175644Z",
     "start_time": "2019-11-04T23:00:57.885084Z"
    }
   },
   "outputs": [
    {
     "name": "stdout",
     "output_type": "stream",
     "text": [
      "Welcome to JupyROOT 6.12/07\n"
     ]
    }
   ],
   "source": [
    "import uproot as ur\n",
    "import ROOT as rt\n",
    "rt.gErrorIgnoreLevel = rt.kError\n",
    "rt.RooMsgService.instance().setGlobalKillBelow(rt.RooFit.ERROR)\n",
    "import root_numpy as rtnp"
   ]
  },
  {
   "cell_type": "markdown",
   "metadata": {},
   "source": [
    "# Inputs"
   ]
  },
  {
   "cell_type": "code",
   "execution_count": 4,
   "metadata": {
    "ExecuteTime": {
     "end_time": "2019-11-04T23:00:59.195419Z",
     "start_time": "2019-11-04T23:00:59.179871Z"
    }
   },
   "outputs": [],
   "source": [
    "class Bauble: pass"
   ]
  },
  {
   "cell_type": "code",
   "execution_count": 5,
   "metadata": {
    "ExecuteTime": {
     "end_time": "2019-11-04T23:00:59.217226Z",
     "start_time": "2019-11-04T23:00:59.199958Z"
    }
   },
   "outputs": [],
   "source": [
    "# data_dir = '../data/cmsMC_private/'\n",
    "# generation_tag = 'BPH_Tag-B0_*pythia8_Hardbbbar_PTFilter5_0p0-evtgen_ISGW2_PU35_10-2-3'\n",
    "# aux = glob(data_dir+generation_tag)\n",
    "# print aux\n",
    "# if 'TauNu' in aux[1]:\n",
    "#     muDir = aux[0]\n",
    "#     tauDir = aux [1]\n",
    "# else:\n",
    "#     muDir = aux[1]\n",
    "#     tauDir = aux [0]\n",
    "    \n",
    "# outDic = {}\n",
    "# outDic['mu'] = Bauble()\n",
    "# outDic['mu'].dir = muDir\n",
    "# outDic['tau'] = Bauble()\n",
    "# outDic['tau'].dir = tauDir"
   ]
  },
  {
   "cell_type": "code",
   "execution_count": 6,
   "metadata": {
    "ExecuteTime": {
     "end_time": "2019-11-04T23:01:19.700694Z",
     "start_time": "2019-11-04T23:01:19.684231Z"
    }
   },
   "outputs": [],
   "source": [
    "outDic = {}\n",
    "# outDic['B2DstTau'] = Bauble()\n",
    "# outDic['B2DstTau'].dir = '../data/cmsMC_private/BPH_Tag-B0_TauNuDmst-pD0bar-kp-t2mnn_pythia8_Hardbbbar_PTFilter5_0p0-evtgen_ISGW2_PU20_10-2-3/'\n",
    "outDic['B2DstMu'] = Bauble()\n",
    "outDic['B2DstMu'].dir = '../data/cmsMC_private/BPH_Tag-B0_MuNuDmst-pD0bar-kp_13TeV-pythia8_Hardbbbar_PTFilter5_0p0-evtgen_ISGW2_PU20_10-2-3/'"
   ]
  },
  {
   "cell_type": "markdown",
   "metadata": {},
   "source": [
    "# Efficiency"
   ]
  },
  {
   "cell_type": "code",
   "execution_count": 7,
   "metadata": {
    "ExecuteTime": {
     "end_time": "2019-11-04T23:01:20.322756Z",
     "start_time": "2019-11-04T23:01:20.307921Z"
    }
   },
   "outputs": [],
   "source": [
    "def getEff(k,N):\n",
    "    e = k/float(N)\n",
    "    de = np.sqrt(e*(1-e)/N)\n",
    "    return [e, de]"
   ]
  },
  {
   "cell_type": "code",
   "execution_count": 8,
   "metadata": {
    "ExecuteTime": {
     "end_time": "2019-11-04T23:02:17.419301Z",
     "start_time": "2019-11-04T23:02:09.765091Z"
    },
    "code_folding": []
   },
   "outputs": [
    {
     "name": "stdout",
     "output_type": "stream",
     "text": [
      "\n",
      "--> B2DstMu\n",
      "[####################]  100% - Tot. time: 48.1 s\n",
      "Avg gen: 1078343\n",
      "Avg gen_cuts: 100050\n",
      "Avg acc: 700\n",
      "Avg N_trg: 167\n",
      "Avg N_cand: 17\n"
     ]
    }
   ],
   "source": [
    "for name in outDic.keys():\n",
    "    print '\\n--> ' + name\n",
    "    master_dir = outDic[name].dir + '/'\n",
    "    N_gen = {}\n",
    "    N_gen_cuts = {}\n",
    "    N_acc = {}\n",
    "    \n",
    "    job_dir_list = glob(master_dir + 'jobs_out/out_*[0-9]')\n",
    "    pb = ProgressBar(maxEntry=len(job_dir_list))\n",
    "    for i_j, job_dir in enumerate(job_dir_list):\n",
    "        pb.show(i_j)\n",
    "        aux = os.path.basename(job_dir)\n",
    "        n_job = int(aux[4:])\n",
    "        if not os.path.isfile(job_dir + '/step1.log'): continue\n",
    "        fname_MINI = master_dir + 'jobs_out/out_MINIAODSIM_{}.root'.format(n_job)\n",
    "        if not os.path.isfile(fname_MINI): continue\n",
    "        try:\n",
    "            f = rt.TFile(fname_MINI, 'READ')\n",
    "            t = f.Get('Events')\n",
    "            N_acc[n_job] = int(t.GetEntries())\n",
    "        except:\n",
    "            continue\n",
    "\n",
    "        step1_log_lines = open(job_dir + '/step1.log').readlines()\n",
    "\n",
    "        for line in reversed(step1_log_lines):\n",
    "            if 'Pythia::next():' in line:\n",
    "                break\n",
    "        N_gen[n_job] = int(line[17:-29])\n",
    "\n",
    "        for line in reversed(step1_log_lines):\n",
    "            if 'Begin processing the ' in line:\n",
    "                break\n",
    "        aux = re.search(r', Event [0-9]+,', line).group(0)\n",
    "        N_gen_cuts[n_job] = int(aux[8:-1]) + 99\n",
    "    \n",
    "    outDic[name].N_gen = np.array(N_gen.values())\n",
    "    print 'Avg gen:', np.mean(N_gen.values()).astype(np.int)\n",
    "    \n",
    "    outDic[name].N_gen_cuts = np.array(N_gen_cuts.values())\n",
    "    print 'Avg gen_cuts:', np.mean(N_gen_cuts.values()).astype(np.int)\n",
    "    \n",
    "    outDic[name].N_acc = np.array(N_acc.values())\n",
    "    print 'Avg acc:', np.mean(N_acc.values()).astype(np.int)\n",
    "    \n",
    "    cand_out_list = glob(master_dir + 'jo*_B*/out/job*.out')\n",
    "    N_trg = []\n",
    "    N_cand = []\n",
    "    for cand_out in cand_out_list:\n",
    "        step5_log_lines = open(cand_out).readlines()\n",
    "        eff_ln = []\n",
    "        for line in reversed(step5_log_lines):\n",
    "            if 'efficiency:' in line:\n",
    "                eff_ln.append(line)\n",
    "\n",
    "        aux = re.search(': [0-9]+/', eff_ln[1]).group(0)\n",
    "        N_trg.append(int(aux[2:-1]))\n",
    "\n",
    "        aux = re.search(': [0-9]+/', eff_ln[0]).group(0)\n",
    "        N_cand.append(int(aux[2:-1]))\n",
    "    outDic[name].N_trg = np.array(N_trg)\n",
    "    print 'Avg N_trg:', np.sum(N_trg) / outDic[name].N_acc.shape[0]\n",
    "    outDic[name].N_cand = np.array(N_cand)\n",
    "    print 'Avg N_cand:', np.sum(N_cand) / outDic[name].N_acc.shape[0]"
   ]
  },
  {
   "cell_type": "code",
   "execution_count": null,
   "metadata": {},
   "outputs": [],
   "source": [
    "for name, d in outDic.iteritems():\n",
    "    "
   ]
  },
  {
   "cell_type": "markdown",
   "metadata": {},
   "source": [
    "# Time"
   ]
  },
  {
   "cell_type": "code",
   "execution_count": 9,
   "metadata": {
    "ExecuteTime": {
     "end_time": "2019-11-04T23:02:19.878043Z",
     "start_time": "2019-11-04T23:02:19.872946Z"
    }
   },
   "outputs": [],
   "source": [
    "def bashDate2Unix(ln):\n",
    "    ln = ln.replace('CEST ', '')\n",
    "    ln = ln.replace('UTC ', '')\n",
    "    t = time.mktime(datetime.datetime.strptime(ln, template).timetuple())\n",
    "    return float(t)"
   ]
  },
  {
   "cell_type": "code",
   "execution_count": 10,
   "metadata": {
    "ExecuteTime": {
     "end_time": "2019-11-04T23:02:37.880908Z",
     "start_time": "2019-11-04T23:02:20.380651Z"
    }
   },
   "outputs": [
    {
     "name": "stdout",
     "output_type": "stream",
     "text": [
      "\n",
      "--> B2DstMu\n",
      "[####################]  100% - Tot. time: 20.0 s\n"
     ]
    }
   ],
   "source": [
    "for name in outDic.keys():\n",
    "    print '\\n--> ' + name\n",
    "    master_dir = outDic[name].dir + '/'\n",
    "    d = outDic[name]\n",
    "    d.driver_time = []\n",
    "    d.run_time =[]\n",
    "    d.tot_time =[]\n",
    "    \n",
    "    job_dir_list = glob(master_dir + 'jobs_out/out_*[0-9]')\n",
    "    pb = ProgressBar(maxEntry=len(job_dir_list))\n",
    "    for i_j, job_dir in enumerate(job_dir_list):\n",
    "        pb.show(i_j)\n",
    "        aux = os.path.basename(job_dir)\n",
    "        n_job = int(aux[4:])\n",
    "        \n",
    "        fn = glob(master_dir + 'jobs_out/out/job_{}_*.out'.format(n_job-1))[0]\n",
    "        if not os.path.isfile(fn): continue\n",
    "        test_log_lines = open(fn).readlines()\n",
    "        \n",
    "        try:\n",
    "            crono = [[],[],[],[],[]]\n",
    "            template = '%c'\n",
    "            for i, ln in enumerate(test_log_lines):\n",
    "                for j in range(1,5):\n",
    "                    if 'Step '+str(j) in ln or 'Running step '+str(j) in ln:\n",
    "                        crono[j-1].append(bashDate2Unix(test_log_lines[i+1][:-1]))\n",
    "            crono[4].append(bashDate2Unix(test_log_lines[-1][:-1]))\n",
    "\n",
    "            driver_time = []\n",
    "            run_time = []\n",
    "            for i in range(4):\n",
    "                driver_time.append(crono[i][1] - crono[i][0])\n",
    "                run_time.append(crono[i+1][0] - crono[i][1])\n",
    "            tot_time = crono[4][0] - crono[0][0]\n",
    "\n",
    "            d.driver_time.append(driver_time)\n",
    "            d.run_time.append(run_time)\n",
    "            d.tot_time.append(tot_time)\n",
    "        except:\n",
    "            pass\n",
    "        \n",
    "    d.driver_time = np.array(d.driver_time)\n",
    "    d.run_time = np.array(d.run_time)\n",
    "    d.tot_time = np.array(d.tot_time)"
   ]
  },
  {
   "cell_type": "code",
   "execution_count": 11,
   "metadata": {
    "ExecuteTime": {
     "end_time": "2019-11-04T23:02:38.054400Z",
     "start_time": "2019-11-04T23:02:37.885162Z"
    }
   },
   "outputs": [
    {
     "data": {
      "image/png": "[encoded data removed]",
      "text/plain": [
       "<matplotlib.figure.Figure at 0x7fc8c2472790>"
      ]
     },
     "metadata": {},
     "output_type": "display_data"
    }
   ],
   "source": [
    "bins = plt.hist(d.tot_time/3600)\n",
    "plt.xlabel('Total time [h]')\n",
    "x = np.percentile(d.tot_time, 90)/3600\n",
    "plt.plot([x,x], [0,np.max(bins[0])], 'm--', lw=3);"
   ]
  },
  {
   "cell_type": "markdown",
   "metadata": {},
   "source": [
    "# Disk"
   ]
  },
  {
   "cell_type": "code",
   "execution_count": 12,
   "metadata": {
    "ExecuteTime": {
     "end_time": "2019-11-04T23:02:38.109083Z",
     "start_time": "2019-11-04T23:02:38.057315Z"
    }
   },
   "outputs": [
    {
     "name": "stdout",
     "output_type": "stream",
     "text": [
      "\n",
      "--> B2DstMu\n",
      "[####################]  100% - Tot. time: 0.0 s\n",
      "Avg MINIAOD size: 12.86 MiB\n"
     ]
    }
   ],
   "source": [
    "for name in outDic.keys():\n",
    "    print '\\n--> ' + name\n",
    "    master_dir = outDic[name].dir + '/'\n",
    "    d = outDic[name]\n",
    "    d.MINIAOD_size = []\n",
    "    \n",
    "    job_dir_list = glob(master_dir + 'jobs_out/out_*[0-9]')\n",
    "    pb = ProgressBar(maxEntry=len(job_dir_list))\n",
    "    for i_j, job_dir in enumerate(job_dir_list):\n",
    "        pb.show(i_j)\n",
    "        aux = os.path.basename(job_dir)\n",
    "        n_job = int(aux[4:])\n",
    "        if not os.path.isfile(job_dir + '/step1.log'): continue\n",
    "        fname_MINI = master_dir + 'jobs_out/out_MINIAODSIM_{}.root'.format(n_job)\n",
    "        if not os.path.isfile(fname_MINI): continue\n",
    "        d.MINIAOD_size.append(os.path.getsize(fname_MINI))\n",
    "    \n",
    "    d.MINIAOD_size = np.array(d.MINIAOD_size)\n",
    "    print 'Avg MINIAOD size:', humanfriendly.format_size(np.mean(d.MINIAOD_size), binary=True)"
   ]
  },
  {
   "cell_type": "markdown",
   "metadata": {},
   "source": [
    "# Print"
   ]
  },
  {
   "cell_type": "code",
   "execution_count": 13,
   "metadata": {
    "ExecuteTime": {
     "end_time": "2019-11-04T23:02:38.200211Z",
     "start_time": "2019-11-04T23:02:38.113666Z"
    }
   },
   "outputs": [
    {
     "ename": "ValueError",
     "evalue": "operands could not be broadcast together with shapes (297,) (300,) ",
     "output_type": "error",
     "traceback": [
      "\u001b[0;31m\u001b[0m",
      "\u001b[0;31mValueError\u001b[0mTraceback (most recent call last)",
      "\u001b[0;32m<ipython-input-13-6305963cc76e>\u001b[0m in \u001b[0;36m<module>\u001b[0;34m()\u001b[0m\n\u001b[1;32m      5\u001b[0m     \u001b[0me\u001b[0m\u001b[0;34m,\u001b[0m \u001b[0mde\u001b[0m \u001b[0;34m=\u001b[0m \u001b[0mgetEff\u001b[0m\u001b[0;34m(\u001b[0m\u001b[0mnp\u001b[0m\u001b[0;34m.\u001b[0m\u001b[0msum\u001b[0m\u001b[0;34m(\u001b[0m\u001b[0md\u001b[0m\u001b[0;34m.\u001b[0m\u001b[0mN_acc\u001b[0m\u001b[0;34m)\u001b[0m\u001b[0;34m,\u001b[0m \u001b[0mnp\u001b[0m\u001b[0;34m.\u001b[0m\u001b[0msum\u001b[0m\u001b[0;34m(\u001b[0m\u001b[0md\u001b[0m\u001b[0;34m.\u001b[0m\u001b[0mN_gen_cuts\u001b[0m\u001b[0;34m)\u001b[0m\u001b[0;34m)\u001b[0m\u001b[0;34m\u001b[0m\u001b[0m\n\u001b[1;32m      6\u001b[0m     \u001b[0mdt\u001b[0m \u001b[0;34m=\u001b[0m \u001b[0mnp\u001b[0m\u001b[0;34m.\u001b[0m\u001b[0mmean\u001b[0m\u001b[0;34m(\u001b[0m\u001b[0md\u001b[0m\u001b[0;34m.\u001b[0m\u001b[0mdriver_time\u001b[0m\u001b[0;34m[\u001b[0m\u001b[0;34m:\u001b[0m\u001b[0;34m,\u001b[0m \u001b[0;36m0\u001b[0m\u001b[0;34m]\u001b[0m\u001b[0;34m)\u001b[0m\u001b[0;34m\u001b[0m\u001b[0m\n\u001b[0;32m----> 7\u001b[0;31m     \u001b[0mdr_ev\u001b[0m \u001b[0;34m=\u001b[0m \u001b[0mnp\u001b[0m\u001b[0;34m.\u001b[0m\u001b[0mmean\u001b[0m\u001b[0;34m(\u001b[0m\u001b[0md\u001b[0m\u001b[0;34m.\u001b[0m\u001b[0mrun_time\u001b[0m\u001b[0;34m[\u001b[0m\u001b[0;34m:\u001b[0m\u001b[0;34m,\u001b[0m \u001b[0;36m0\u001b[0m\u001b[0;34m]\u001b[0m\u001b[0;34m/\u001b[0m\u001b[0md\u001b[0m\u001b[0;34m.\u001b[0m\u001b[0mN_acc\u001b[0m\u001b[0;34m)\u001b[0m\u001b[0;34m\u001b[0m\u001b[0m\n\u001b[0m\u001b[1;32m      8\u001b[0m     \u001b[0mtable\u001b[0m\u001b[0;34m.\u001b[0m\u001b[0madd_row\u001b[0m\u001b[0;34m(\u001b[0m\u001b[0;34m[\u001b[0m\u001b[0;34m'GEN-SIM'\u001b[0m\u001b[0;34m,\u001b[0m \u001b[0;34m'-'\u001b[0m\u001b[0;34m,\u001b[0m \u001b[0;34m'{:.2f} +/- {:.2f}'\u001b[0m\u001b[0;34m.\u001b[0m\u001b[0mformat\u001b[0m\u001b[0;34m(\u001b[0m\u001b[0;36m100\u001b[0m\u001b[0;34m*\u001b[0m\u001b[0me\u001b[0m\u001b[0;34m,\u001b[0m \u001b[0;36m100\u001b[0m\u001b[0;34m*\u001b[0m\u001b[0mde\u001b[0m\u001b[0;34m)\u001b[0m\u001b[0;34m,\u001b[0m \u001b[0;34m'{:.1f}'\u001b[0m\u001b[0;34m.\u001b[0m\u001b[0mformat\u001b[0m\u001b[0;34m(\u001b[0m\u001b[0mdt\u001b[0m\u001b[0;34m)\u001b[0m\u001b[0;34m,\u001b[0m \u001b[0;34m'{:.1f}'\u001b[0m\u001b[0;34m.\u001b[0m\u001b[0mformat\u001b[0m\u001b[0;34m(\u001b[0m\u001b[0mdr_ev\u001b[0m\u001b[0;34m)\u001b[0m\u001b[0;34m]\u001b[0m\u001b[0;34m)\u001b[0m\u001b[0;34m\u001b[0m\u001b[0m\n\u001b[1;32m      9\u001b[0m \u001b[0;34m\u001b[0m\u001b[0m\n",
      "\u001b[0;31mValueError\u001b[0m: operands could not be broadcast together with shapes (297,) (300,) "
     ]
    }
   ],
   "source": [
    "for n, d in outDic.iteritems():\n",
    "    table = PrettyTable()\n",
    "    table.field_names = ['Step', 'Sub', 'Eff [%]', 'Driver time [s]', 'Running time/evt [s]']\n",
    "    \n",
    "    e, de = getEff(np.sum(d.N_acc), np.sum(d.N_gen_cuts))\n",
    "    dt = np.mean(d.driver_time[:, 0])\n",
    "    dr_ev = np.mean(d.run_time[:, 0]/d.N_acc)\n",
    "    table.add_row(['GEN-SIM', '-', '{:.2f} +/- {:.2f}'.format(100*e, 100*de), '{:.1f}'.format(dt), '{:.1f}'.format(dr_ev)])\n",
    "    \n",
    "    e, de = getEff(np.sum(d.N_gen_cuts), np.sum(d.N_gen))\n",
    "    table.add_row(['', 'Pythia Gen', 'x {:.1f}'.format(1./e), '-', '-'])\n",
    "    table.add_row(['', 'Gen Filter', '100.0', '-', '-'])\n",
    "    e, de = getEff(np.sum(d.N_acc), np.sum(d.N_gen_cuts))\n",
    "    table.add_row(['', 'CMSSW Filter', '{:.2f} +/- {:.2f}'.format(100*e, 100*de), '-', '-'])\n",
    "\n",
    "    table.add_row(['RAW', '-', '100.0', '{:.1f}'.format(np.mean(d.driver_time[:,1])), '{:.1f}'.format(np.mean(d.run_time[:,1]/d.N_acc))])\n",
    "    table.add_row(['AOD', '-', '100.0', '{:.1f}'.format(np.mean(d.driver_time[:,2])), '{:.1f}'.format(np.mean(d.run_time[:,2]/d.N_acc))])\n",
    "    table.add_row(['MINIAOD', '-', '100.0', '{:.1f}'.format(np.mean(d.driver_time[:,3])), '{:.1f}'.format(np.mean(d.run_time[:,3]/d.N_acc))])\n",
    "    \n",
    "    e, de = getEff(np.sum(d.N_cand), np.sum(d.N_acc))\n",
    "    table.add_row(['CAND', '-', '{:.2f} +/- {:.2f}'.format(100*e, 100*de), '-', '-'])\n",
    "    e, de = getEff(np.sum(d.N_trg), np.sum(d.N_acc))\n",
    "    table.add_row(['', 'BPH Trg', '{:.2f} +/- {:.2f}'.format(100*e, 100*de), '-', '-'])\n",
    "    e, de = getEff(np.sum(d.N_cand), np.sum(d.N_trg))\n",
    "    table.add_row(['', 'Cand. sel.', '{:.2f} +/- {:.2f}'.format(100*e, 100*de), '-', '-'])\n",
    "    \n",
    "    table.add_row(len(table.field_names)*[''])\n",
    "    \n",
    "    e, de = getEff(np.sum(d.N_cand), np.sum(d.N_gen_cuts))\n",
    "    table.add_row(['Tot', '', '{:.3f} +/- {:.3f}'.format(100*e, 100*de), '{:.1f}'.format(np.mean(np.sum(d.driver_time, axis=1))), '{:.1f}(*)'.format(np.mean(np.sum(d.run_time, axis=1)/d.N_acc))])\n",
    "\n",
    "    print n\n",
    "    print table.get_string()\n",
    "    \n",
    "    tabsum = PrettyTable()\n",
    "    tabsum.field_names = ['Evts req.', '# MINIAOD Evts', '# Cand.', 'Tot. Time [h]']\n",
    "    \n",
    "    MINIAOD_size = humanfriendly.format_size(np.mean(d.MINIAOD_size), binary=True)\n",
    "    tabsum.add_row(['{:.0f}k'.format(1e-3*np.mean(d.N_gen_cuts)), '{:.0f} ({})'.format(np.mean(d.N_acc), MINIAOD_size), '{:.0f}'.format(np.sum(d.N_cand) / d.N_acc.shape[0]), '{:.1f}'.format(np.mean(d.tot_time)/3600.)])\n",
    "    print tabsum.get_string()\n",
    "    "
   ]
  },
  {
   "cell_type": "code",
   "execution_count": null,
   "metadata": {},
   "outputs": [],
   "source": []
  }
 ],
 "metadata": {
  "kernelspec": {
   "display_name": "Python 2",
   "language": "python",
   "name": "python2"
  },
  "language_info": {
   "codemirror_mode": {
    "name": "ipython",
    "version": 2
   },
   "file_extension": ".py",
   "mimetype": "text/x-python",
   "name": "python",
   "nbconvert_exporter": "python",
   "pygments_lexer": "ipython2",
   "version": "2.7.14+"
  }
 },
 "nbformat": 4,
 "nbformat_minor": 2
}
