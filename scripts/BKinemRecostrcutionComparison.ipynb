{
 "cells": [
  {
   "cell_type": "markdown",
   "metadata": {},
   "source": [
    "Run locally on Vrael"
   ]
  },
  {
   "cell_type": "code",
   "execution_count": 1,
   "metadata": {
    "ExecuteTime": {
     "end_time": "2020-02-22T02:50:47.035846Z",
     "start_time": "2020-02-22T02:50:34.706842Z"
    }
   },
   "outputs": [
    {
     "name": "stdout",
     "output_type": "stream",
     "text": [
      "Welcome to JupyROOT 6.10/08\n"
     ]
    }
   ],
   "source": [
    "import numpy as np\n",
    "import sys, os\n",
    "sys.path.append('../lib')\n",
    "import scipy.stats as sps\n",
    "from glob import glob\n",
    "import uproot as ur\n",
    "import ROOT as rt\n",
    "import ROOT.RooFit as rf\n",
    "from scipy.special import erf\n",
    "from scipy.optimize import fsolve\n",
    "from histo_utilities import create_TH1D, create_TH2D, std_color_list, SetMaxToMaxHist\n",
    "from cebefo_style import Set_2D_colz_graphics\n",
    "from particle import Particle\n",
    "\n",
    "from analysis_utilities import drawOnCMSCanvas, extarct, extarct_multiple, createSel\n",
    "from progressBar import ProgressBar\n",
    "\n",
    "from matplotlib import pyplot as plt"
   ]
  },
  {
   "cell_type": "code",
   "execution_count": 2,
   "metadata": {
    "ExecuteTime": {
     "end_time": "2020-02-22T02:50:47.250860Z",
     "start_time": "2020-02-22T02:50:47.040222Z"
    }
   },
   "outputs": [],
   "source": [
    "import CMS_lumi, tdrstyle\n",
    "tdrstyle.setTDRStyle()\n",
    "CMS_lumi.writeExtraText = 1\n",
    "CMS_lumi.extraText = \"     Simulation Internal\""
   ]
  },
  {
   "cell_type": "code",
   "execution_count": 3,
   "metadata": {
    "ExecuteTime": {
     "end_time": "2020-02-22T02:50:47.272244Z",
     "start_time": "2020-02-22T02:50:47.255036Z"
    }
   },
   "outputs": [],
   "source": [
    "from uproot_methods.classes import TLorentzVector as urTLV"
   ]
  },
  {
   "cell_type": "code",
   "execution_count": 4,
   "metadata": {
    "ExecuteTime": {
     "end_time": "2020-02-22T02:51:17.321925Z",
     "start_time": "2020-02-22T02:50:47.276096Z"
    }
   },
   "outputs": [
    {
     "name": "stdout",
     "output_type": "stream",
     "text": [
      "['LumiBlock', 'MC_B_P', 'MC_B_eta', 'MC_B_phi', 'MC_B_pt', 'MC_D0_P', 'MC_D0_eta', 'MC_D0_phi', 'MC_D0_pt', 'MC_Dst_P', 'MC_Dst_eta', 'MC_Dst_phi', 'MC_Dst_pt', 'MC_Est_mu', 'MC_K_P', 'MC_K_eta', 'MC_K_phi', 'MC_K_pt', 'MC_M2_miss', 'MC_M_vis', 'MC_idxCand', 'MC_mu_IP', 'MC_mu_P', 'MC_mu_eta', 'MC_mu_phi', 'MC_mu_pt', 'MC_nB02DstMuX', 'MC_pi_P', 'MC_pi_eta', 'MC_pi_phi', 'MC_pi_pt', 'MC_pis_P', 'MC_pis_eta', 'MC_pis_phi', 'MC_pis_pt', 'MC_prodVtx_B_dxy', 'MC_prodVtx_B_phi', 'MC_prodVtx_B_z', 'MC_prodVtx_D0_dxy', 'MC_prodVtx_D0_phi', 'MC_prodVtx_D0_z', 'MC_prodVtx_Dst_dxy', 'MC_prodVtx_Dst_phi', 'MC_prodVtx_Dst_z', 'MC_prodVtx_K_dxy', 'MC_prodVtx_K_phi', 'MC_prodVtx_K_z', 'MC_q2', 'N_trgMu', 'N_vertexes', 'Run', 'eventNumber', 'n_B', 'n_D0', 'n_Dst', 'n_K', 'n_mu', 'n_pi', 'n_pis', 'primaryVtx_sig_xx', 'primaryVtx_sig_xy', 'primaryVtx_sig_xz', 'primaryVtx_sig_yy', 'primaryVtx_sig_yz', 'primaryVtx_sig_zz', 'primaryVtx_x', 'primaryVtx_y', 'primaryVtx_z', 'recoMuon_match_BMuon', 'wh_CLNCentral', 'wh_CLNR0Down', 'wh_CLNR0Up', 'wh_CLNR1Down', 'wh_CLNR1Up', 'wh_CLNR2Down', 'wh_CLNR2Up', 'wh_CLNRhoSqDown', 'wh_CLNRhoSqUp', 'B_D0pismu_eta', 'B_D0pismu_phi', 'B_D0pismu_pt', 'B_D0pismu_pz', 'D0_eta', 'D0_phi', 'D0_pt', 'D0_pz', 'D0_refitD0pis_eta', 'D0_refitD0pis_phi', 'D0_refitD0pis_pt', 'D0_refitD0pis_pz', 'D0_refitD0pismu_eta', 'D0_refitD0pismu_phi', 'D0_refitD0pismu_pt', 'D0_refitD0pismu_pz', 'Dst_refitD0pismu_eta', 'Dst_refitD0pismu_phi', 'Dst_refitD0pismu_pt', 'Dst_refitD0pismu_pz', 'Est_mu_D0pismu', 'K_N_valid_hits', 'K_eta', 'K_norm_chi2', 'K_phi', 'K_pt', 'K_pz', 'K_refitpiK_eta', 'K_refitpiK_phi', 'K_refitpiK_pt', 'K_refitpiK_pz', 'M2_miss_D0pismu', 'MC_decay', 'chi2_D0pis', 'chi2_D0pismu', 'chi2_piK', 'cosT_D0_PV', 'cosT_D0pismu_PV', 'cosT_Dst_PV', 'cos_D0_PV', 'cos_D0pismu_PV', 'cos_Dst_PV', 'd_vtxD0_PV', 'd_vtxD0pismu_PV', 'd_vtxDst_PV', 'dof_D0pis', 'dof_D0pismu', 'dof_piK', 'dxy_vtxD0_PV', 'dxy_vtxD0pismu_PV', 'dxy_vtxDst_PV', 'mass_D0pis', 'mass_D0pis_refitD0pismu', 'mass_D0pismu', 'mass_piK', 'massb_KK', 'massb_Kpi_conj', 'massb_piK', 'mu_eta', 'mu_phi', 'mu_pt', 'mu_pz', 'mu_refitD0pismu_eta', 'mu_refitD0pismu_phi', 'mu_refitD0pismu_pt', 'mu_refitD0pismu_pz', 'mu_trgMu_idx', 'nTksAdd', 'pi_N_valid_hits', 'pi_eta', 'pi_norm_chi2', 'pi_phi', 'pi_pt', 'pi_pz', 'pi_refitpiK_eta', 'pi_refitpiK_phi', 'pi_refitpiK_pt', 'pi_refitpiK_pz', 'pis_N_valid_hits', 'pis_eta', 'pis_norm_chi2', 'pis_phi', 'pis_pt', 'pis_pz', 'pis_refitD0pis_eta', 'pis_refitD0pis_phi', 'pis_refitD0pis_pt', 'pis_refitD0pis_pz', 'pis_refitD0pismu_eta', 'pis_refitD0pismu_phi', 'pis_refitD0pismu_pt', 'pis_refitD0pismu_pz', 'pval_D0pis', 'pval_D0pismu', 'pval_piK', 'q2_D0pismu', 'sigd_vtxD0_PV', 'sigd_vtxD0pismu_PV', 'sigd_vtxDst_PV', 'sigdxy_K_PV', 'sigdxy_pi_PV', 'sigdxy_pis_PV', 'sigdxy_vtxD0_PV', 'sigdxy_vtxD0pismu_PV', 'sigdxy_vtxDst_PV', 'tksAdd_massHad', 'tksAdd_massVis', 'tksAdd_pt', 'tksAdd_pval', 'tksAdd_sigdca_vtxB', 'trgMu_HLT_Mu12_IP6', 'trgMu_HLT_Mu7_IP4', 'trgMu_HLT_Mu8_IP3', 'trgMu_HLT_Mu8_IP5', 'trgMu_HLT_Mu8_IP6', 'trgMu_HLT_Mu9_IP4', 'trgMu_HLT_Mu9_IP5', 'trgMu_HLT_Mu9_IP6', 'trgMu_charge', 'trgMu_dxy', 'trgMu_dz', 'trgMu_eta', 'trgMu_phi', 'trgMu_pt', 'trgMu_sigdxy'] \n",
      "\n",
      "\n",
      "MC_B_P\n",
      "MC_B_eta\n",
      "MC_B_phi\n",
      "MC_B_pt\n",
      "MC_D0_P\n",
      "MC_D0_eta\n",
      "MC_D0_phi\n",
      "MC_D0_pt\n",
      "MC_Dst_P\n",
      "MC_Dst_eta\n",
      "MC_Dst_phi\n",
      "MC_Dst_pt\n",
      "MC_Est_mu\n",
      "MC_K_P\n",
      "MC_K_eta\n",
      "MC_K_phi\n",
      "MC_K_pt\n",
      "MC_M2_miss\n",
      "MC_M_vis\n",
      "MC_decay\n",
      "MC_idxCand\n",
      "MC_mu_IP\n",
      "MC_mu_P\n",
      "MC_mu_eta\n",
      "MC_mu_phi\n",
      "MC_mu_pt\n",
      "MC_nB02DstMuX\n",
      "MC_pi_P\n",
      "MC_pi_eta\n",
      "MC_pi_phi\n",
      "MC_pi_pt\n",
      "MC_pis_P\n",
      "MC_pis_eta\n",
      "MC_pis_phi\n",
      "MC_pis_pt\n",
      "MC_prodVtx_B_dxy\n",
      "MC_prodVtx_B_phi\n",
      "MC_prodVtx_B_z\n",
      "MC_prodVtx_D0_dxy\n",
      "MC_prodVtx_D0_phi\n",
      "MC_prodVtx_D0_z\n",
      "MC_prodVtx_Dst_dxy\n",
      "MC_prodVtx_Dst_phi\n",
      "MC_prodVtx_Dst_z\n",
      "MC_prodVtx_K_dxy\n",
      "MC_prodVtx_K_phi\n",
      "MC_prodVtx_K_z\n",
      "MC_q2\n"
     ]
    }
   ],
   "source": [
    "tmu = ur.open('../data/cmsMC_private/BPH_Tag-B0_MuNuDmst-pD0bar-kp_13TeV-pythia8_Hardbbbar_PTFilter5_0p0-evtgen_ISGW2_PU20_10-2-3/ntuples_B2DstMu/merged/out_CAND.root')['outA']['Tevts']\n",
    "print tmu.keys(), '\\n\\n'\n",
    "branches = [b for b in tmu.keys() if b[:2] == 'MC']\n",
    "for b in np.sort(branches):\n",
    "    print b\n",
    "    \n",
    "dmu = {}\n",
    "for b in branches:\n",
    "    dmu[b] = tmu.array(b)"
   ]
  },
  {
   "cell_type": "code",
   "execution_count": 5,
   "metadata": {
    "ExecuteTime": {
     "end_time": "2020-02-22T02:51:17.333496Z",
     "start_time": "2020-02-22T02:51:17.325995Z"
    }
   },
   "outputs": [],
   "source": [
    "def create_urTLV(d, k, m):\n",
    "    px = d[k+'_pt'] * np.cos(d[k+'_phi'])\n",
    "    py = d[k+'_pt'] * np.sin(d[k+'_phi'])\n",
    "    pz = d[k+'_pt'] * np.sinh(d[k+'_eta']).astype(np.float64)\n",
    "    \n",
    "    e = np.hypot(m, d[k+'_P'])\n",
    "    return urTLV.TLorentzVectorArray(px, py, pz, e)"
   ]
  },
  {
   "cell_type": "code",
   "execution_count": 6,
   "metadata": {
    "ExecuteTime": {
     "end_time": "2020-02-22T02:51:17.783320Z",
     "start_time": "2020-02-22T02:51:17.337823Z"
    }
   },
   "outputs": [],
   "source": [
    "PB = create_urTLV(dmu, 'MC_B', 1e-3*Particle.from_string('B0').mass)\n",
    "Pmu = create_urTLV(dmu, 'MC_mu', 1e-3*Particle.from_string('mu').mass)\n",
    "PDst = create_urTLV(dmu, 'MC_Dst', 1e-3*Particle.from_string('D*-').mass)\n",
    "\n",
    "Pv = Pmu + PDst"
   ]
  },
  {
   "cell_type": "code",
   "execution_count": 7,
   "metadata": {
    "ExecuteTime": {
     "end_time": "2020-02-22T02:51:18.109040Z",
     "start_time": "2020-02-22T02:51:17.786186Z"
    }
   },
   "outputs": [
    {
     "name": "stdout",
     "output_type": "stream",
     "text": [
      "1.9465706913024405e-07 3.1635499060734054e-05\n"
     ]
    },
    {
     "data": {
      "image/png": "[encoded data removed]",
      "text/plain": [
       "<matplotlib.figure.Figure at 0x1206bbe90>"
      ]
     },
     "metadata": {
      "needs_background": "light"
     },
     "output_type": "display_data"
    }
   ],
   "source": [
    "plt.hist(PB.mass)\n",
    "print np.mean(PB.mass)-1e-3*Particle.from_string('B0').mass, np.std(PB.mass)"
   ]
  },
  {
   "cell_type": "markdown",
   "metadata": {},
   "source": [
    "Now get the B momentum form different approximations"
   ]
  },
  {
   "cell_type": "markdown",
   "metadata": {},
   "source": [
    "## MC truth"
   ]
  },
  {
   "cell_type": "code",
   "execution_count": 43,
   "metadata": {
    "ExecuteTime": {
     "end_time": "2020-02-22T03:38:27.685023Z",
     "start_time": "2020-02-22T03:38:27.667683Z"
    }
   },
   "outputs": [],
   "source": [
    "MCtruth = {}\n",
    "MCtruth['B_pz'] = PB.z\n",
    "MCtruth['B_pt'] = PB.pt\n",
    "MCtruth['B_p3'] = PB.p3\n",
    "\n",
    "MCtruth['PB'] = PB\n",
    "\n",
    "MCtruth['M2_miss'] = dmu['MC_M2_miss']\n",
    "MCtruth['q2'] = dmu['MC_q2']"
   ]
  },
  {
   "cell_type": "markdown",
   "metadata": {},
   "source": [
    "## Longitudinal Approx (a-la-LHCb)"
   ]
  },
  {
   "cell_type": "code",
   "execution_count": 45,
   "metadata": {
    "ExecuteTime": {
     "end_time": "2020-02-22T03:40:17.340680Z",
     "start_time": "2020-02-22T03:40:17.233865Z"
    }
   },
   "outputs": [],
   "source": [
    "LongApp = {}\n",
    "LongApp['B_pz'] = Pv.z * 1e-3*Particle.from_string('B0').mass / Pv.mass\n",
    "LongApp['B_p3'] = PB.p3 * LongApp['B_pz'] / PB.z\n",
    "LongApp['B_pt'] = np.hypot(LongApp['B_p3'].x, LongApp['B_p3'].y)\n",
    "\n",
    "e = np.sqrt(LongApp['B_p3'].mag2 + (1e-3*Particle.from_string('B0').mass)**2)\n",
    "LongApp['PB'] = urTLV.TLorentzVectorArray(LongApp['B_p3'].x, LongApp['B_p3'].y, LongApp['B_p3'].z, e)\n",
    "\n",
    "LongApp['M2_miss'] = (LongApp['PB'] - Pv).mass2\n",
    "LongApp['q2'] = (LongApp['PB'] - PDst).mass2"
   ]
  },
  {
   "cell_type": "code",
   "execution_count": 10,
   "metadata": {
    "ExecuteTime": {
     "end_time": "2020-02-22T02:51:18.885553Z",
     "start_time": "2020-02-22T02:51:18.252256Z"
    }
   },
   "outputs": [
    {
     "data": {
      "image/png": "[encoded data removed]",
      "text/plain": [
       "<IPython.core.display.Image object>"
      ]
     },
     "metadata": {},
     "output_type": "display_data"
    }
   ],
   "source": [
    "h = create_TH2D(\n",
    "            np.column_stack((np.abs(PB.eta), (PB.z-LongApp['B_pz'])/PB.z)),\n",
    "            binning = [np.logspace(-2, np.log10(4), 15), np.linspace(-3, 3, 50)],\n",
    "            axis_title = ['|#eta_{B}|', '|#DeltaP_{z}^{B}/P_{z}^{B}|', '']\n",
    "           )\n",
    "\n",
    "hpfy = h.ProfileX('hpfy', 1, -1, 's')\n",
    "hpfy.SetLineColor(2)\n",
    "c = drawOnCMSCanvas(CMS_lumi, [h, hpfy], ['colz', 'sameE1'])\n",
    "c.SetLogx()"
   ]
  },
  {
   "cell_type": "markdown",
   "metadata": {},
   "source": [
    "## Transverse Approx"
   ]
  },
  {
   "cell_type": "code",
   "execution_count": 11,
   "metadata": {
    "ExecuteTime": {
     "end_time": "2020-02-22T02:51:18.995505Z",
     "start_time": "2020-02-22T02:51:18.889650Z"
    }
   },
   "outputs": [],
   "source": [
    "TranApp = {}\n",
    "TranApp['B_pt'] = Pv.pt * 1e-3*Particle.from_string('B0').mass / Pv.mass\n",
    "TranApp['B_p3'] = PB.p3 * TranApp['B_pt'] / PB.pt\n",
    "TranApp['B_pz'] = TranApp['B_p3'].z\n",
    "\n",
    "e = np.sqrt(TranApp['B_p3'].mag2 + (1e-3*Particle.from_string('B0').mass)**2)\n",
    "TranApp['PB'] = urTLV.TLorentzVectorArray(TranApp['B_p3'].x, TranApp['B_p3'].y, TranApp['B_p3'].z, e)\n",
    "\n",
    "TranApp['M2_miss'] = (TranApp['PB'] - Pv).mass2\n",
    "TranApp['q2'] = (TranApp['PB'] - PDst).mass2"
   ]
  },
  {
   "cell_type": "code",
   "execution_count": 12,
   "metadata": {
    "ExecuteTime": {
     "end_time": "2020-02-22T02:51:22.262075Z",
     "start_time": "2020-02-22T02:51:22.173426Z"
    }
   },
   "outputs": [
    {
     "name": "stderr",
     "output_type": "stream",
     "text": [
      "Warning in <TROOT::Append>: Replacing existing TH1: h (Potential memory leak).\n",
      "Warning in <TCanvas::Constructor>: Deleting canvas with same name: c\n"
     ]
    },
    {
     "data": {
      "image/png": "[encoded data removed]",
      "text/plain": [
       "<IPython.core.display.Image object>"
      ]
     },
     "metadata": {},
     "output_type": "display_data"
    }
   ],
   "source": [
    "h = create_TH2D(\n",
    "            np.column_stack((np.abs(PB.eta), (PB.z-TranApp['B_pz'])/PB.z)),\n",
    "            binning = [np.logspace(-2, np.log10(4), 15), np.linspace(-3, 3, 50)],\n",
    "            axis_title = ['|#eta_{B}|', '|#DeltaP_{z}^{B}/P_{z}^{B}|', '']\n",
    "           )\n",
    "\n",
    "hpfy = h.ProfileX('hpfy', 1, -1, 's')\n",
    "hpfy.SetLineColor(2)\n",
    "c = drawOnCMSCanvas(CMS_lumi, [h, hpfy], ['colz', 'sameE1'])\n",
    "c.SetLogx()"
   ]
  },
  {
   "cell_type": "code",
   "execution_count": 13,
   "metadata": {
    "ExecuteTime": {
     "end_time": "2020-02-22T02:51:25.723189Z",
     "start_time": "2020-02-22T02:51:25.707578Z"
    }
   },
   "outputs": [
    {
     "data": {
      "text/plain": [
       "-0.590082660866301"
      ]
     },
     "execution_count": 13,
     "metadata": {},
     "output_type": "execute_result"
    }
   ],
   "source": [
    "np.min(TranApp['q2'])"
   ]
  },
  {
   "cell_type": "markdown",
   "metadata": {},
   "source": [
    "## Corrected Transverse App"
   ]
  },
  {
   "cell_type": "code",
   "execution_count": 18,
   "metadata": {
    "ExecuteTime": {
     "end_time": "2020-02-22T03:29:19.659578Z",
     "start_time": "2020-02-22T03:29:19.562016Z"
    }
   },
   "outputs": [
    {
     "name": "stderr",
     "output_type": "stream",
     "text": [
      "Warning in <TROOT::Append>: Replacing existing TH1: h (Potential memory leak).\n",
      "Warning in <TCanvas::Constructor>: Deleting canvas with same name: c\n"
     ]
    },
    {
     "data": {
      "image/png": "[encoded data removed]",
      "text/plain": [
       "<IPython.core.display.Image object>"
      ]
     },
     "metadata": {},
     "output_type": "display_data"
    }
   ],
   "source": [
    "dphi = Pv.phi - PB.phi\n",
    "dphi = np.where(np.abs(dphi) > np.pi, dphi - np.sign(dphi)*2*np.pi, dphi)\n",
    "deta = Pv.eta - PB.eta\n",
    "h = create_TH2D(\n",
    "            np.column_stack((dphi, deta)),\n",
    "            binning = [np.linspace(-0.3, 0.3, 50), np.linspace(-0.3, 0.3, 50)],\n",
    "            axis_title = ['dphi', 'deta', '']\n",
    "           )\n",
    "\n",
    "c = drawOnCMSCanvas(CMS_lumi, [h], ['colz'])"
   ]
  },
  {
   "cell_type": "code",
   "execution_count": 55,
   "metadata": {
    "ExecuteTime": {
     "end_time": "2020-02-22T03:43:11.862610Z",
     "start_time": "2020-02-22T03:43:11.764581Z"
    }
   },
   "outputs": [],
   "source": [
    "CTranApp = {}\n",
    "CTranApp['B_pt'] = (Pv.x*PB.x + Pv.y*PB.y)/PB.pt * 1e-3*Particle.from_string('B0').mass / Pv.mass\n",
    "# CTranApp['B_pt'] = (1+0.5*0.25**2)*(Pv.x*PB.x + Pv.y*PB.y)/PB.pt * 1e-3*Particle.from_string('B0').mass / Pv.mass\n",
    "CTranApp['B_p3'] = PB.p3 * TranApp['B_pt'] / PB.pt\n",
    "CTranApp['B_pz'] = TranApp['B_p3'].z\n",
    "\n",
    "e = np.sqrt(TranApp['B_p3'].mag2 + (1e-3*Particle.from_string('B0').mass)**2)\n",
    "CTranApp['PB'] = urTLV.TLorentzVectorArray(TranApp['B_p3'].x, TranApp['B_p3'].y, TranApp['B_p3'].z, e)\n",
    "\n",
    "CTranApp['M2_miss'] = (TranApp['PB'] - Pv).mass2\n",
    "CTranApp['q2'] = (TranApp['PB'] - PDst).mass2"
   ]
  },
  {
   "cell_type": "code",
   "execution_count": 56,
   "metadata": {
    "ExecuteTime": {
     "end_time": "2020-02-22T03:43:12.411746Z",
     "start_time": "2020-02-22T03:43:12.244703Z"
    }
   },
   "outputs": [
    {
     "data": {
      "text/plain": [
       "(array([1.00000e+00, 2.50000e+01, 2.79000e+02, 1.09500e+03, 2.82200e+03,\n",
       "        5.82000e+03, 1.21690e+04, 2.79480e+04, 8.33180e+04, 7.27356e+05]),\n",
       " array([-2.65220575e-01, -2.38695829e-01, -2.12171082e-01, -1.85646336e-01,\n",
       "        -1.59121589e-01, -1.32596843e-01, -1.06072097e-01, -7.95473503e-02,\n",
       "        -5.30226039e-02, -2.64978575e-02,  2.68888289e-05]),\n",
       " <a list of 10 Patch objects>)"
      ]
     },
     "execution_count": 56,
     "metadata": {},
     "output_type": "execute_result"
    },
    {
     "data": {
      "image/png": "[encoded data removed]",
      "text/plain": [
       "<matplotlib.figure.Figure at 0x163288610>"
      ]
     },
     "metadata": {
      "needs_background": "light"
     },
     "output_type": "display_data"
    }
   ],
   "source": [
    "plt.hist(CTranApp['B_pt'] - TranApp['B_pt'])"
   ]
  },
  {
   "cell_type": "markdown",
   "metadata": {},
   "source": [
    "## BoostBCM"
   ]
  },
  {
   "cell_type": "code",
   "execution_count": null,
   "metadata": {
    "ExecuteTime": {
     "end_time": "2020-02-11T19:32:18.446438Z",
     "start_time": "2020-02-11T19:32:18.429012Z"
    }
   },
   "outputs": [],
   "source": [
    "def equations(x, *a):\n",
    "    g, pxst, pyst, pzst = x\n",
    "    nx, ny, nz, e, px, py, pz, mv = a\n",
    "    \n",
    "    gb = np.sqrt(g*g-1)\n",
    "    \n",
    "    eqE = g*e - gb*nx*px - gb*ny*py - gb*nz*pz\n",
    "    eqE -= np.sqrt(mv*mv + pxst*pxst + pyst*pyst + pzst*pzst)\n",
    "    \n",
    "    eqPx = -gb*nx*e \n",
    "    eqPx += px*( 1. + (g-1)*nx*nx )\n",
    "    eqPx += py*(g-1)*nx*ny\n",
    "    eqPx += pz*(g-1)*nx*nz\n",
    "    eqPx -= pxst\n",
    "    \n",
    "    eqPy = -gb*ny*e\n",
    "    eqPy += px*(g-1)*ny*nx\n",
    "    eqPy += py*( 1. + (g-1)*ny*ny )\n",
    "    eqPy += pz*(g-1)*ny*nz\n",
    "    eqPy -= pyst\n",
    "    \n",
    "    eqPz = -gb*nz*e\n",
    "    eqPz += px*(g-1)*nz*nx\n",
    "    eqPz += py*(g-1)*nz*ny\n",
    "    eqPz += pz*( 1. + (g-1)*nz*nz )\n",
    "    eqPz -= pzst\n",
    "    \n",
    "    return (eqE, eqPx, eqPy, eqPz)"
   ]
  },
  {
   "cell_type": "code",
   "execution_count": null,
   "metadata": {
    "ExecuteTime": {
     "end_time": "2020-02-11T03:05:33.928985Z",
     "start_time": "2020-02-11T03:05:33.914208Z"
    }
   },
   "outputs": [],
   "source": [
    "pxst = 1\n",
    "pyst = 20\n",
    "pzst = 0\n",
    "m = 1\n",
    "est = np.sqrt(m**2 + pxst**2 + pyst**2 + pzst**2)\n",
    "pCM = rt.TLorentzVector(pxst, pyst, pzst, est)\n",
    "pCM.Print()"
   ]
  },
  {
   "cell_type": "code",
   "execution_count": null,
   "metadata": {
    "ExecuteTime": {
     "end_time": "2020-02-11T19:26:42.489901Z",
     "start_time": "2020-02-11T19:26:42.470825Z"
    }
   },
   "outputs": [],
   "source": [
    "pxt = 10\n",
    "pyt = 10\n",
    "pzt = 0\n",
    "mt = 5\n",
    "et = np.sqrt(mt**2 + pxt**2 + pyt**2 + pzt**2)\n",
    "p = rt.TLorentzVector(pxt, pyt, pzt, et)\n",
    "p.BoostVector().Print()\n",
    "print p.Gamma()\n",
    "print p.Beta()"
   ]
  },
  {
   "cell_type": "code",
   "execution_count": null,
   "metadata": {
    "ExecuteTime": {
     "end_time": "2020-02-11T19:26:43.677027Z",
     "start_time": "2020-02-11T19:26:43.614818Z"
    }
   },
   "outputs": [],
   "source": [
    "pLab = rt.TLorentzVector(pxst, pyst, pzst, est)\n",
    "pLab.Boost(p.BoostVector())\n",
    "pLab.Print()\n",
    "pLab.M()"
   ]
  },
  {
   "cell_type": "code",
   "execution_count": null,
   "metadata": {
    "ExecuteTime": {
     "end_time": "2020-02-11T19:42:13.998067Z",
     "start_time": "2020-02-11T19:42:13.980037Z"
    }
   },
   "outputs": [],
   "source": [
    "p = rt.TLorentzVector(23.635, -3.8753, -7.6531, 25.692)\n",
    "p.BoostVector().Print()\n",
    "print p.M()\n",
    "pLab = rt.TLorentzVector(19.621, -2.2307, -6.6636, 21.242)\n",
    "print pLab.M()\n",
    "pCM = pLab.Clone()\n",
    "pCM.Boost(-p.BoostVector())"
   ]
  },
  {
   "cell_type": "code",
   "execution_count": null,
   "metadata": {
    "ExecuteTime": {
     "end_time": "2020-02-11T19:48:12.908169Z",
     "start_time": "2020-02-11T19:48:12.893419Z"
    }
   },
   "outputs": [],
   "source": [
    "nx = p.Px()/p.P()\n",
    "print nx\n",
    "ny = p.Py()/p.P()\n",
    "print ny\n",
    "nz = p.Pz()/p.P()\n",
    "print nz\n",
    "\n",
    "# equations([p.Gamma(), 1e3*pCM.Px(), 1e3*pCM.Py(), 1e3*pCM.Pz()], \n",
    "#           nx, ny, nz, \n",
    "#           1e3*pLab.E(), 1e3*pLab.Px(), 1e3*pLab.Py(), 1e3*pLab.Pz(), 1e3*m)\n",
    "\n",
    "out = equations([p.Gamma(), pCM.Px(), pCM.Py(), pCM.Pz()], \n",
    "          nx, ny, nz, \n",
    "          pLab.E(), pLab.Px(), pLab.Py(), pLab.Pz(), pCM.M())\n",
    "\n",
    "print 'Var:' + (4*' {:.3f}').format(p.Gamma(), pCM.Px(), pCM.Py(), pCM.Pz())\n",
    "print 'Pars:' + (8*' {:.3f}').format(nx, ny, nz, pLab.E(), pLab.Px(), pLab.Py(), pLab.Pz(), pCM.M())\n",
    "print 'Red:' + (4*' {:1.3e}').format(*out)"
   ]
  },
  {
   "cell_type": "markdown",
   "metadata": {},
   "source": [
    "### Test"
   ]
  },
  {
   "cell_type": "markdown",
   "metadata": {},
   "source": [
    "Get the arguments"
   ]
  },
  {
   "cell_type": "code",
   "execution_count": null,
   "metadata": {
    "ExecuteTime": {
     "end_time": "2020-02-11T03:02:15.956636Z",
     "start_time": "2020-02-11T03:02:15.939398Z"
    }
   },
   "outputs": [],
   "source": [
    "choice = np.random.randint(low=0, high=len(PB)-1, size=1)"
   ]
  },
  {
   "cell_type": "code",
   "execution_count": null,
   "metadata": {
    "ExecuteTime": {
     "end_time": "2020-02-11T19:50:42.024004Z",
     "start_time": "2020-02-11T19:50:41.933801Z"
    },
    "code_folding": [],
    "scrolled": false
   },
   "outputs": [],
   "source": [
    "for i_evt in [372182]: #choice:\n",
    "    print '------- Event', i_evt, '--------'\n",
    "    nx = PB[i_evt].x/PB[i_evt].p\n",
    "    ny = PB[i_evt].y/PB[i_evt].p\n",
    "    nz = PB[i_evt].z/PB[i_evt].p\n",
    "    e = Pv[i_evt].E\n",
    "    px = Pv[i_evt].x\n",
    "    py = Pv[i_evt].y\n",
    "    pz = Pv[i_evt].z\n",
    "    mv = Pv[i_evt].mass\n",
    "    print Pv[i_evt]\n",
    "    \n",
    "    # Get the starting estimation from transverse approx\n",
    "    g_init = TranApp['PB'][i_evt].gamma\n",
    "    P_vis_lv = rt.TLorentzVector()\n",
    "    P_vis_lv.SetPxPyPzE(px, py, pz, e)\n",
    "    P_vis_lv.Boost(-TranApp['PB'][i_evt].boostp3.x, \n",
    "                   -TranApp['PB'][i_evt].boostp3.y, \n",
    "                   -TranApp['PB'][i_evt].boostp3.z\n",
    "                  )\n",
    "    \n",
    "    pxst_init = P_vis_lv.Px()\n",
    "    pyst_init = P_vis_lv.Py()\n",
    "    pzst_init = P_vis_lv.Pz()\n",
    "    \n",
    "    print 'Initial status'\n",
    "    print 'Init: {:.2f} {:.2f} {:.2f} {:.2f}'.format(g_init, pxst_init, pyst_init, pzst_init)\n",
    "    r0, r1, r2, r3 =  equations((g_init, pxst_init, pyst_init, pzst_init), nx, ny, nz, e, px, py, pz, mv)\n",
    "    print 'Loss val: {:.2e} {:.2e} {:.2e} {:.2e}'.format(r0, r1, r2, r3)\n",
    "    print\n",
    "    \n",
    "    # Mimization step\n",
    "    out = fsolve(\n",
    "               equations, \n",
    "               x0=(g_init, pxst_init, pyst_init, pzst_init), \n",
    "               args = (nx, ny, nz, e, px, py, pz, mv)\n",
    "              )\n",
    "    g_opt, pxst_opt, pyst_opt, pzst_opt = out\n",
    "    print 'Final status'\n",
    "    print 'Init: {:.2f} {:.2f} {:.2f} {:.2f}'.format(g_opt, pxst_opt, pyst_opt, pzst_opt)\n",
    "    r0, r1, r2, r3 =  equations((g_opt, pxst_opt, pyst_opt, pzst_opt), nx, ny, nz, e, px, py, pz, mv)\n",
    "    print 'Loss val: {:.2e} {:.2e} {:.2e} {:.2e}'.format(r0, r1, r2, r3)\n",
    "    print\n",
    "    \n",
    "    # Get the exact solution\n",
    "    g_true = PB.gamma[i_evt]\n",
    "\n",
    "    P_vis_lv = rt.TLorentzVector()\n",
    "    P_vis_lv.SetPxPyPzE(px, py, pz, e)\n",
    "    P_vis_lv.Boost(-PB[i_evt].boostp3.x, -PB[i_evt].boostp3.y, -PB[i_evt].boostp3.z)\n",
    "    \n",
    "    pxst_true = P_vis_lv.Px()\n",
    "    pyst_true = P_vis_lv.Py()\n",
    "    pzst_true = P_vis_lv.Pz()\n",
    "\n",
    "    print 'True status'\n",
    "    print PB[i_evt]\n",
    "    print 'Var:' + (4*' {:.3f}').format(g_true, pxst_true, pyst_true, pzst_true)\n",
    "    print 'Pars:' + (8*' {:.3f}').format(nx, ny, nz, e, px, py, pz, mv)\n",
    "    r0, r1, r2, r3 =  equations((g_true, pxst_true, pyst_true, pzst_true), nx, ny, nz, e, px, py, pz, mv)\n",
    "    print 'Res:' + (4*' {:1.3e}').format(r0, r1, r2, r3)\n",
    "    print '\\n'"
   ]
  },
  {
   "cell_type": "code",
   "execution_count": null,
   "metadata": {},
   "outputs": [],
   "source": []
  },
  {
   "cell_type": "code",
   "execution_count": null,
   "metadata": {},
   "outputs": [],
   "source": [
    "Var: 4.866 0.179 0.957 -0.368\n",
    "Pars: 0.940 -0.154 -0.304 21.242 19.621 -2.231 -6.664 4.106\n",
    "Red: -3.197e-14 -1.066e-14 1.554e-15 1.776e-15"
   ]
  },
  {
   "cell_type": "markdown",
   "metadata": {},
   "source": [
    "### For all events"
   ]
  },
  {
   "cell_type": "code",
   "execution_count": null,
   "metadata": {
    "ExecuteTime": {
     "start_time": "2020-02-11T01:42:09.461Z"
    }
   },
   "outputs": [],
   "source": [
    "gamma = []\n",
    "maxEntry = min(5000, PB.z.shape[0])\n",
    "progBar = ProgressBar(maxEntry=maxEntry)\n",
    "gamma = np.zeros(maxEntry)\n",
    "for i_evt in range(maxEntry):\n",
    "    progBar.show(i_evt)\n",
    "    nx = PB.x[i_evt]/PB.p[i_evt]\n",
    "    ny = PB.y[i_evt]/PB.p[i_evt]\n",
    "    nz = PB.z[i_evt]/PB.p[i_evt]\n",
    "    e = Pv.E[i_evt]\n",
    "    px = Pv.x[i_evt]\n",
    "    py = Pv.y[i_evt]\n",
    "    pz = Pv.z[i_evt]\n",
    "    mv = Pv.mass[i_evt]\n",
    "    \n",
    "    # Get the starting estimation from transverse approx\n",
    "    g_init = TranApp['PB'].gamma[i_evt]\n",
    "    P_vis_lv = rt.TLorentzVector()\n",
    "    P_vis_lv.SetPxPyPzE(Pv.x[i_evt], Pv.y[i_evt], pz, e)\n",
    "    P_vis_lv.Boost(-TranApp['PB'].boostp3[i_evt].x, -TranApp['PB'].boostp3[i_evt].y, -TranApp['PB'].boostp3[i_evt].z)\n",
    "    \n",
    "    pxst_init = P_vis_lv.Px()\n",
    "    pyst_init = P_vis_lv.Py()\n",
    "    pzst_init = P_vis_lv.Pz()\n",
    "    \n",
    "    # Mimization step\n",
    "    out = fsolve(\n",
    "               equations, \n",
    "               x0=(g_init, pxst_init, pyst_init, pzst_init), \n",
    "               args = (nx, ny, nz, e, px, py, pz, mv)\n",
    "              )\n",
    "    g_opt, pxst_opt, pyst_opt, pzst_opt = out\n",
    "    gamma[i_evt] = g_opt"
   ]
  },
  {
   "cell_type": "code",
   "execution_count": null,
   "metadata": {
    "ExecuteTime": {
     "end_time": "2019-05-17T01:44:36.576233Z",
     "start_time": "2019-05-17T01:44:36.542637Z"
    }
   },
   "outputs": [],
   "source": [
    "gamma = np.array(gamma)\n",
    "\n",
    "BoostBCM = {}\n",
    "\n",
    "BoostBCM['gamma'] = gamma\n",
    "BoostBCM['B_P'] = np.sqrt(np.square(gamma) - 1) * 1e-3*Particle.from_string('B0').mass\n",
    "\n",
    "BoostBCM['B_p3'] = PB.p3 * BoostBCM['B_P'] / PB.p\n",
    "BoostBCM['B_pt'] = np.hypot(BoostBCM['B_p3'].x, BoostBCM['B_p3'].y)\n",
    "BoostBCM['B_pz'] = BoostBCM['B_p3'].z\n",
    "\n",
    "e = np.sqrt(BoostBCM['B_p3'].mag2 + (1e-3*Particle.from_string('B0').mass)**2)\n",
    "BoostBCM['PB'] = urTLV.TLorentzVectorArray(BoostBCM['B_p3'].x, BoostBCM['B_p3'].y, BoostBCM['B_p3'].z, e)\n",
    "\n",
    "BoostBCM['M2_miss'] = (BoostBCM['PB'] - Pv).mass2\n",
    "BoostBCM['q2'] = (BoostBCM['PB'] - PDst).mass2"
   ]
  },
  {
   "cell_type": "markdown",
   "metadata": {},
   "source": [
    "# Variable comparison"
   ]
  },
  {
   "cell_type": "code",
   "execution_count": 57,
   "metadata": {
    "ExecuteTime": {
     "end_time": "2020-02-22T03:43:20.313577Z",
     "start_time": "2020-02-22T03:43:20.296988Z"
    }
   },
   "outputs": [],
   "source": [
    "dic_list = {'MC Truth': MCtruth,\n",
    "            'Long. approx': LongApp,\n",
    "            'Trans. approx': TranApp,\n",
    "            'Correct Trans. approx': CTranApp,\n",
    "#             'Boost B cm': BoostBCM\n",
    "           }"
   ]
  },
  {
   "cell_type": "code",
   "execution_count": 58,
   "metadata": {
    "ExecuteTime": {
     "end_time": "2020-02-22T03:43:20.479170Z",
     "start_time": "2020-02-22T03:43:20.464378Z"
    }
   },
   "outputs": [],
   "source": [
    "def draw_var(vname, xtitle, binning, opt, leg_loc):\n",
    "    h_l = []\n",
    "\n",
    "    leg = rt.TLegend(leg_loc[0],leg_loc[1],leg_loc[2],leg_loc[3])\n",
    "    leg.SetBorderSize(0)\n",
    "    leg.SetFillStyle(0)\n",
    "    for n, d in dic_list.iteritems():\n",
    "        h_aux = create_TH1D(\n",
    "            d[vname], \n",
    "            axis_title=[xtitle, 'Events'], \n",
    "            binning=binning, opt=opt\n",
    "        )\n",
    "        h_aux.SetLineColor(std_color_list[len(h_l)])\n",
    "        h_aux.Sumw2()\n",
    "        leg.AddEntry(h_aux, n, 'l')\n",
    "        h_l.append(h_aux)\n",
    "    SetMaxToMaxHist(h_l)\n",
    "\n",
    "\n",
    "    CMS_lumi.extraText = \"     Simulation Preliminary\"\n",
    "    c = drawOnCMSCanvas(CMS_lumi, h_l, 'same')\n",
    "    c.h_l = h_l\n",
    "    c.leg = leg\n",
    "    leg.Draw()\n",
    "    return c"
   ]
  },
  {
   "cell_type": "code",
   "execution_count": 59,
   "metadata": {
    "ExecuteTime": {
     "end_time": "2020-02-22T03:43:20.714518Z",
     "start_time": "2020-02-22T03:43:20.632372Z"
    }
   },
   "outputs": [
    {
     "name": "stderr",
     "output_type": "stream",
     "text": [
      "Warning in <TROOT::Append>: Replacing existing TH1: h (Potential memory leak).\n",
      "Warning in <TROOT::Append>: Replacing existing TH1: h (Potential memory leak).\n",
      "Warning in <TROOT::Append>: Replacing existing TH1: h (Potential memory leak).\n",
      "Warning in <TROOT::Append>: Replacing existing TH1: h (Potential memory leak).\n",
      "Warning in <TCanvas::Constructor>: Deleting canvas with same name: c\n"
     ]
    },
    {
     "data": {
      "image/png": "[encoded data removed]",
      "text/plain": [
       "<IPython.core.display.Image object>"
      ]
     },
     "metadata": {},
     "output_type": "display_data"
    }
   ],
   "source": [
    "c = draw_var('B_pz', 'p_{z}^{B} [GeV]', binning=[50, -150, 150], opt='underflowoverflow', leg_loc=[0.2,0.6,0.5,0.8])"
   ]
  },
  {
   "cell_type": "code",
   "execution_count": 60,
   "metadata": {
    "ExecuteTime": {
     "end_time": "2020-02-22T03:43:22.421125Z",
     "start_time": "2020-02-22T03:43:22.336664Z"
    }
   },
   "outputs": [
    {
     "name": "stderr",
     "output_type": "stream",
     "text": [
      "Warning in <TROOT::Append>: Replacing existing TH1: h (Potential memory leak).\n",
      "Warning in <TROOT::Append>: Replacing existing TH1: h (Potential memory leak).\n",
      "Warning in <TROOT::Append>: Replacing existing TH1: h (Potential memory leak).\n",
      "Warning in <TROOT::Append>: Replacing existing TH1: h (Potential memory leak).\n",
      "Warning in <TCanvas::Constructor>: Deleting canvas with same name: c\n"
     ]
    },
    {
     "data": {
      "image/png": "[encoded data removed]",
      "text/plain": [
       "<IPython.core.display.Image object>"
      ]
     },
     "metadata": {},
     "output_type": "display_data"
    }
   ],
   "source": [
    "c = draw_var('B_pt', 'p_{T}^{B} [GeV]', binning=[50, 0, 150], opt='underflowoverflow', leg_loc=[0.5,0.6,0.8,0.8])"
   ]
  },
  {
   "cell_type": "code",
   "execution_count": 40,
   "metadata": {
    "ExecuteTime": {
     "end_time": "2020-02-22T03:35:39.907560Z",
     "start_time": "2020-02-22T03:35:39.843877Z"
    }
   },
   "outputs": [
    {
     "name": "stderr",
     "output_type": "stream",
     "text": [
      "Warning in <TROOT::Append>: Replacing existing TH1: h (Potential memory leak).\n",
      "Warning in <TROOT::Append>: Replacing existing TH1: h (Potential memory leak).\n",
      "Warning in <TROOT::Append>: Replacing existing TH1: h (Potential memory leak).\n",
      "Warning in <TCanvas::Constructor>: Deleting canvas with same name: c\n"
     ]
    },
    {
     "data": {
      "image/png": "[encoded data removed]",
      "text/plain": [
       "<IPython.core.display.Image object>"
      ]
     },
     "metadata": {},
     "output_type": "display_data"
    }
   ],
   "source": [
    "c = draw_var('q2', 'q^{2} [GeV^{2}]', binning=[30, -10, 12], opt='underflow', leg_loc=[0.2,0.6,0.5,0.8])"
   ]
  },
  {
   "cell_type": "code",
   "execution_count": 41,
   "metadata": {
    "ExecuteTime": {
     "end_time": "2020-02-22T03:35:44.138535Z",
     "start_time": "2020-02-22T03:35:44.062313Z"
    }
   },
   "outputs": [
    {
     "name": "stderr",
     "output_type": "stream",
     "text": [
      "Warning in <TROOT::Append>: Replacing existing TH1: h (Potential memory leak).\n",
      "Warning in <TROOT::Append>: Replacing existing TH1: h (Potential memory leak).\n",
      "Warning in <TROOT::Append>: Replacing existing TH1: h (Potential memory leak).\n",
      "Warning in <TCanvas::Constructor>: Deleting canvas with same name: c\n"
     ]
    },
    {
     "data": {
      "image/png": "[encoded data removed]",
      "text/plain": [
       "<IPython.core.display.Image object>"
      ]
     },
     "metadata": {},
     "output_type": "display_data"
    }
   ],
   "source": [
    "c = draw_var('M2_miss', 'M^{2}_{miss} [GeV^{2}]', binning=[30, -3, 4], opt='underflowoverflow', leg_loc=[0.2,0.6,0.5,0.8])\n",
    "c.SetLogy()"
   ]
  },
  {
   "cell_type": "code",
   "execution_count": null,
   "metadata": {},
   "outputs": [],
   "source": []
  }
 ],
 "metadata": {
  "kernelspec": {
   "display_name": "Python 2",
   "language": "python",
   "name": "python2"
  },
  "language_info": {
   "codemirror_mode": {
    "name": "ipython",
    "version": 2
   },
   "file_extension": ".py",
   "mimetype": "text/x-python",
   "name": "python",
   "nbconvert_exporter": "python",
   "pygments_lexer": "ipython2",
   "version": "2.7.14"
  }
 },
 "nbformat": 4,
 "nbformat_minor": 2
}
