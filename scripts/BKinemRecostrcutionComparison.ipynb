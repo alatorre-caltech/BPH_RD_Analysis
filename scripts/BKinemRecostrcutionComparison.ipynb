{
 "cells": [
  {
   "cell_type": "code",
   "execution_count": 1,
   "metadata": {
    "ExecuteTime": {
     "end_time": "2019-05-17T01:27:16.632814Z",
     "start_time": "2019-05-17T01:27:11.582776Z"
    }
   },
   "outputs": [
    {
     "name": "stdout",
     "output_type": "stream",
     "text": [
      "Welcome to JupyROOT 6.10/08\n"
     ]
    }
   ],
   "source": [
    "import numpy as np\n",
    "import scipy.stats as sps\n",
    "from glob import glob\n",
    "import uproot as ur\n",
    "import ROOT as rt\n",
    "import ROOT.RooFit as rf\n",
    "from scipy.special import erf\n",
    "from scipy.optimize import fsolve\n",
    "from histo_utilities import create_TH1D, create_TH2D, std_color_list, SetMaxToMaxHist\n",
    "from cebefo_style import Set_2D_colz_graphics\n",
    "from particle import Particle\n",
    "\n",
    "from analysis_utilities import drawOnCMSCanvas, extarct, extarct_multiple, createSel\n",
    "\n",
    "from matplotlib import pyplot as plt"
   ]
  },
  {
   "cell_type": "code",
   "execution_count": 2,
   "metadata": {
    "ExecuteTime": {
     "end_time": "2019-05-17T01:27:16.852279Z",
     "start_time": "2019-05-17T01:27:16.636973Z"
    }
   },
   "outputs": [],
   "source": [
    "import CMS_lumi, tdrstyle\n",
    "tdrstyle.setTDRStyle()\n",
    "CMS_lumi.writeExtraText = 1\n",
    "CMS_lumi.extraText = \"     Simulation Preliminary\""
   ]
  },
  {
   "cell_type": "code",
   "execution_count": 3,
   "metadata": {
    "ExecuteTime": {
     "end_time": "2019-05-17T01:27:16.861434Z",
     "start_time": "2019-05-17T01:27:16.856420Z"
    }
   },
   "outputs": [],
   "source": [
    "from uproot_methods.classes import TLorentzVector as urTLV"
   ]
  },
  {
   "cell_type": "code",
   "execution_count": 4,
   "metadata": {
    "ExecuteTime": {
     "end_time": "2019-05-17T01:27:17.090709Z",
     "start_time": "2019-05-17T01:27:16.865628Z"
    }
   },
   "outputs": [
    {
     "name": "stdout",
     "output_type": "stream",
     "text": [
      "['LumiBlock', 'MC_B_P', 'MC_B_eta', 'MC_B_phi', 'MC_B_pt', 'MC_D0_P', 'MC_D0_eta', 'MC_D0_phi', 'MC_D0_pt', 'MC_Dst_P', 'MC_Dst_eta', 'MC_Dst_phi', 'MC_Dst_pt', 'MC_Est_mu', 'MC_M2_miss', 'MC_mu_P', 'MC_mu_eta', 'MC_mu_phi', 'MC_mu_pt', 'MC_pis_P', 'MC_pis_eta', 'MC_pis_phi', 'MC_pis_pt', 'MC_q2', 'Run', 'eventNumber', 'n_B', 'n_D0', 'n_Dst', 'n_K', 'n_pi', 'n_pis', 'trgMu_charge', 'trgMu_eta', 'trgMu_phi', 'trgMu_pt', 'B_E', 'B_P', 'B_eta', 'B_phi', 'B_pt', 'B_pz', 'D0_E', 'D0_P', 'D0_eta', 'D0_phi', 'D0_pt', 'D0_pz', 'Dst_E', 'Dst_P', 'Dst_eta', 'Dst_phi', 'Dst_pt', 'Dst_pz', 'Est_mu', 'K_E', 'K_P', 'K_eta', 'K_phi', 'K_pt', 'K_pz', 'M2_miss', 'chi2_D0pis', 'chi2_MuDst', 'chi2_kpi', 'cos_D0pis_vtxMu', 'cos_MuDst_vtxMu', 'cos_kpi_vtxMu', 'd_vtxD0pis_vtxMu', 'd_vtxkpi_vtxMu', 'dca_D0pis_vtxMu', 'dca_kpi_vtxMu', 'mass_D0pis', 'mass_MuDst', 'mass_kpi', 'mu_E', 'mu_P', 'mu_eta', 'mu_phi', 'mu_pt', 'mu_pz', 'pi_E', 'pi_P', 'pi_eta', 'pi_phi', 'pi_pt', 'pi_pz', 'pis_E', 'pis_P', 'pis_eta', 'pis_phi', 'pis_pt', 'pis_pz', 'q2', 'sigd_vtxD0pis_vtxMu', 'sigd_vtxkpi_vtxMu', 'sigdca_D0pis_vtxMu', 'sigdca_kpi_vtxMu'] \n",
      "\n",
      "\n",
      "MC_B_P\n",
      "MC_B_eta\n",
      "MC_B_phi\n",
      "MC_B_pt\n",
      "MC_D0_P\n",
      "MC_D0_eta\n",
      "MC_D0_phi\n",
      "MC_D0_pt\n",
      "MC_Dst_P\n",
      "MC_Dst_eta\n",
      "MC_Dst_phi\n",
      "MC_Dst_pt\n",
      "MC_Est_mu\n",
      "MC_M2_miss\n",
      "MC_mu_P\n",
      "MC_mu_eta\n",
      "MC_mu_phi\n",
      "MC_mu_pt\n",
      "MC_pis_P\n",
      "MC_pis_eta\n",
      "MC_pis_phi\n",
      "MC_pis_pt\n",
      "MC_q2\n"
     ]
    }
   ],
   "source": [
    "tmu = ur.open('../data/cmsMC_private/BPH_Tag-B0_MuNuDmst-pD0bar-kp_13TeV-pythia8_SoftQCD_PTFilter5_0p0-evtgen_HQET2_central_PU35_10-2-3_v0/B02DstMu_candidates.root')['outA']['Tevts']\n",
    "print tmu.keys(), '\\n\\n'\n",
    "branches = [b for b in tmu.keys() if b[:2] == 'MC']\n",
    "for b in np.sort(branches):\n",
    "    print b\n",
    "    \n",
    "dmu = {}\n",
    "for b in branches:\n",
    "    dmu[b] = tmu.array(b)"
   ]
  },
  {
   "cell_type": "code",
   "execution_count": 25,
   "metadata": {
    "ExecuteTime": {
     "end_time": "2019-05-17T01:32:37.656972Z",
     "start_time": "2019-05-17T01:32:37.649412Z"
    }
   },
   "outputs": [],
   "source": [
    "def create_urTLV(d, k, m):\n",
    "    px = d[k+'_pt'] * np.cos(d[k+'_phi'])\n",
    "    py = d[k+'_pt'] * np.sin(d[k+'_phi'])\n",
    "    pz = d[k+'_pt'] * np.sinh(d[k+'_eta']).astype(np.float64)\n",
    "    \n",
    "    e = np.sqrt(m**2 + np.square(d[k+'_P']))\n",
    "    return urTLV.TLorentzVectorArray(px, py, pz, e)"
   ]
  },
  {
   "cell_type": "code",
   "execution_count": 26,
   "metadata": {
    "ExecuteTime": {
     "end_time": "2019-05-17T01:32:37.858372Z",
     "start_time": "2019-05-17T01:32:37.827357Z"
    }
   },
   "outputs": [],
   "source": [
    "PB = create_urTLV(dmu, 'MC_B', 1e-3*Particle.from_string('B0').mass)\n",
    "Pmu = create_urTLV(dmu, 'MC_mu', 1e-3*Particle.from_string('mu').mass)\n",
    "PDst = create_urTLV(dmu, 'MC_Dst', 1e-3*Particle.from_string('D*-').mass)\n",
    "\n",
    "Pv = Pmu + PDst"
   ]
  },
  {
   "cell_type": "code",
   "execution_count": 27,
   "metadata": {
    "ExecuteTime": {
     "end_time": "2019-05-17T01:32:38.158077Z",
     "start_time": "2019-05-17T01:32:37.994260Z"
    }
   },
   "outputs": [
    {
     "name": "stdout",
     "output_type": "stream",
     "text": [
      "1.122912006046306e-06 5.9167549216153396e-05\n"
     ]
    },
    {
     "data": {
      "image/png": "[encoded data removed]",
      "text/plain": [
       "<matplotlib.figure.Figure at 0x120263bd0>"
      ]
     },
     "metadata": {
      "needs_background": "light"
     },
     "output_type": "display_data"
    }
   ],
   "source": [
    "plt.hist(PB.mass)\n",
    "print np.mean(PB.mass)-1e-3*Particle.from_string('B0').mass, np.std(PB.mass)"
   ]
  },
  {
   "cell_type": "markdown",
   "metadata": {},
   "source": [
    "Now get the B momentum form different approximations"
   ]
  },
  {
   "cell_type": "markdown",
   "metadata": {},
   "source": [
    "## MC truth"
   ]
  },
  {
   "cell_type": "code",
   "execution_count": 28,
   "metadata": {
    "ExecuteTime": {
     "end_time": "2019-05-17T01:32:38.487755Z",
     "start_time": "2019-05-17T01:32:38.481149Z"
    }
   },
   "outputs": [],
   "source": [
    "MCtruth = {}\n",
    "MCtruth['B_pz'] = PB.z\n",
    "MCtruth['B_p3'] = PB.p3\n",
    "\n",
    "MCtruth['PB'] = PB\n",
    "\n",
    "MCtruth['M2_miss'] = dmu['MC_M2_miss']\n",
    "MCtruth['q2'] = dmu['MC_q2']"
   ]
  },
  {
   "cell_type": "markdown",
   "metadata": {},
   "source": [
    "## Longitudinal Approx (a-la-LHCb)"
   ]
  },
  {
   "cell_type": "code",
   "execution_count": 29,
   "metadata": {
    "ExecuteTime": {
     "end_time": "2019-05-17T01:32:38.855639Z",
     "start_time": "2019-05-17T01:32:38.827361Z"
    }
   },
   "outputs": [],
   "source": [
    "LongApp = {}\n",
    "LongApp['B_pz'] = Pv.z * 1e-3*Particle.from_string('B0').mass / Pv.mass\n",
    "LongApp['B_p3'] = PB.p3 * LongApp['B_pz'] / PB.p3.z\n",
    "\n",
    "e = np.sqrt(LongApp['B_p3'].mag2 + (1e-3*Particle.from_string('B0').mass)**2)\n",
    "LongApp['PB'] = urTLV.TLorentzVectorArray(LongApp['B_p3'].x, LongApp['B_p3'].y, LongApp['B_p3'].z, e)\n",
    "\n",
    "LongApp['M2_miss'] = (LongApp['PB'] - Pv).mass2\n",
    "LongApp['q2'] = (LongApp['PB'] - PDst).mass2"
   ]
  },
  {
   "cell_type": "code",
   "execution_count": 30,
   "metadata": {
    "ExecuteTime": {
     "end_time": "2019-05-17T01:32:39.053667Z",
     "start_time": "2019-05-17T01:32:39.009795Z"
    }
   },
   "outputs": [
    {
     "name": "stderr",
     "output_type": "stream",
     "text": [
      "Warning in <TROOT::Append>: Replacing existing TH1: h (Potential memory leak).\n",
      "Warning in <TCanvas::Constructor>: Deleting canvas with same name: c\n"
     ]
    },
    {
     "data": {
      "image/png": "[encoded data removed]",
      "text/plain": [
       "<IPython.core.display.Image object>"
      ]
     },
     "metadata": {},
     "output_type": "display_data"
    }
   ],
   "source": [
    "h = create_TH2D(\n",
    "            np.column_stack((np.abs(PB.eta), (PB.z-LongApp['B_pz'])/PB.z)),\n",
    "            binning = [np.logspace(-2, np.log10(4), 15), np.linspace(-3, 3, 50)],\n",
    "            axis_title = ['|#eta_{B}|', '|#DeltaP_{z}^{B}/P_{z}^{B}|', '']\n",
    "           )\n",
    "\n",
    "hpfy = h.ProfileX('hpfy', 1, -1, 's')\n",
    "hpfy.SetLineColor(2)\n",
    "c = drawOnCMSCanvas(CMS_lumi, [h, hpfy], ['colz', 'sameE1'])\n",
    "c.SetLogx()"
   ]
  },
  {
   "cell_type": "markdown",
   "metadata": {},
   "source": [
    "## Transverse Approx"
   ]
  },
  {
   "cell_type": "code",
   "execution_count": 31,
   "metadata": {
    "ExecuteTime": {
     "end_time": "2019-05-17T01:32:39.520218Z",
     "start_time": "2019-05-17T01:32:39.493242Z"
    }
   },
   "outputs": [],
   "source": [
    "TranApp = {}\n",
    "TranApp['B_pt'] = Pv.pt * 1e-3*Particle.from_string('B0').mass / Pv.mass\n",
    "TranApp['B_p3'] = PB.p3 * TranApp['B_pt'] / PB.pt\n",
    "TranApp['B_pz'] = TranApp['B_p3'].z\n",
    "\n",
    "e = np.sqrt(TranApp['B_p3'].mag2 + (1e-3*Particle.from_string('B0').mass)**2)\n",
    "TranApp['PB'] = urTLV.TLorentzVectorArray(TranApp['B_p3'].x, TranApp['B_p3'].y, TranApp['B_p3'].z, e)\n",
    "\n",
    "TranApp['M2_miss'] = (TranApp['PB'] - Pv).mass2\n",
    "TranApp['q2'] = (TranApp['PB'] - PDst).mass2"
   ]
  },
  {
   "cell_type": "code",
   "execution_count": 32,
   "metadata": {
    "ExecuteTime": {
     "end_time": "2019-05-17T01:32:39.826884Z",
     "start_time": "2019-05-17T01:32:39.781229Z"
    }
   },
   "outputs": [
    {
     "name": "stderr",
     "output_type": "stream",
     "text": [
      "Warning in <TROOT::Append>: Replacing existing TH1: h (Potential memory leak).\n",
      "Warning in <TCanvas::Constructor>: Deleting canvas with same name: c\n"
     ]
    },
    {
     "data": {
      "image/png": "[encoded data removed]",
      "text/plain": [
       "<IPython.core.display.Image object>"
      ]
     },
     "metadata": {},
     "output_type": "display_data"
    }
   ],
   "source": [
    "h = create_TH2D(\n",
    "            np.column_stack((np.abs(PB.eta), (PB.z-TranApp['B_pz'])/PB.z)),\n",
    "            binning = [np.logspace(-2, np.log10(4), 15), np.linspace(-3, 3, 50)],\n",
    "            axis_title = ['|#eta_{B}|', '|#DeltaP_{z}^{B}/P_{z}^{B}|', '']\n",
    "           )\n",
    "\n",
    "hpfy = h.ProfileX('hpfy', 1, -1, 's')\n",
    "hpfy.SetLineColor(2)\n",
    "c = drawOnCMSCanvas(CMS_lumi, [h, hpfy], ['colz', 'sameE1'])\n",
    "c.SetLogx()"
   ]
  },
  {
   "cell_type": "markdown",
   "metadata": {},
   "source": [
    "## BoostBCM"
   ]
  },
  {
   "cell_type": "code",
   "execution_count": 33,
   "metadata": {
    "ExecuteTime": {
     "end_time": "2019-05-17T01:32:40.507789Z",
     "start_time": "2019-05-17T01:32:40.494926Z"
    }
   },
   "outputs": [],
   "source": [
    "def equations(x, *a):\n",
    "    g, pzst, ptst = x\n",
    "    nz, nt, e, pz, pt, mv = a\n",
    "    \n",
    "    gb = np.sqrt(g*g-1)\n",
    "    \n",
    "    eq1 = g*e - gb*nz*pz - gb*nt*pt\n",
    "    eq1 -= np.sqrt(mv*mv + pzst*pzst + ptst*ptst)\n",
    "    \n",
    "    eq2 = -gb*nz*e \n",
    "    eq2 += pz*( 1. + (g-1)*nz*nz )\n",
    "    eq2 += pt*(g-1)*nz*nt\n",
    "    eq2 -= pzst\n",
    "    \n",
    "    eq3 = -gb*nt*e\n",
    "    eq3 += pz*(g-1)*nz*nt\n",
    "    eq3 += pt*( 1. + (g-1)*nt*nt )\n",
    "    eq3 -= ptst\n",
    "    \n",
    "    return (eq1, eq2, eq3)"
   ]
  },
  {
   "cell_type": "markdown",
   "metadata": {},
   "source": [
    "### Test"
   ]
  },
  {
   "cell_type": "markdown",
   "metadata": {},
   "source": [
    "Get the arguments"
   ]
  },
  {
   "cell_type": "code",
   "execution_count": 35,
   "metadata": {
    "ExecuteTime": {
     "end_time": "2019-05-17T01:34:17.000655Z",
     "start_time": "2019-05-17T01:34:16.927841Z"
    },
    "scrolled": true
   },
   "outputs": [
    {
     "name": "stdout",
     "output_type": "stream",
     "text": [
      "------- Event 0 --------\n",
      "Initial status\n",
      "Init: 4.72 0.45 0.48\n",
      "Loss val: 0.01 0.25 -0.48\n",
      "\n",
      "Final status\n",
      "Init: 4.41 0.67 0.30\n",
      "Loss val: -0.00 0.00 0.00\n",
      "\n",
      "True status\n",
      "Init: 4.20 0.62 0.69\n",
      "Loss val: -0.02 0.02 -0.17\n",
      "\n",
      "\n",
      "------- Event 1 --------\n",
      "Initial status\n",
      "Init: 9.54 0.23 1.30\n",
      "Loss val: -0.23 -0.18 -1.26\n",
      "\n",
      "Final status\n",
      "Init: 6.95 -0.76 0.94\n",
      "Loss val: -0.00 -0.00 0.00\n",
      "\n",
      "True status\n",
      "Init: 8.27 -0.19 1.32\n",
      "Loss val: -0.19 -0.12 -0.88\n",
      "\n",
      "\n",
      "------- Event 2 --------\n",
      "Initial status\n",
      "Init: 17.36 -0.34 0.64\n",
      "Loss val: 0.27 -1.13 -0.15\n",
      "\n",
      "Final status\n",
      "Init: 13.16 -0.91 1.33\n",
      "Loss val: 0.00 0.00 -0.00\n",
      "\n",
      "True status\n",
      "Init: 13.56 -1.06 1.29\n",
      "Loss val: -0.04 0.08 -0.06\n",
      "\n",
      "\n",
      "------- Event 3 --------\n",
      "Initial status\n",
      "Init: 7.84 -0.44 0.54\n",
      "Loss val: -0.06 0.28 -0.49\n",
      "\n",
      "Final status\n",
      "Init: 6.82 0.03 0.51\n",
      "Loss val: -0.00 0.00 0.00\n",
      "\n",
      "True status\n",
      "Init: 5.33 -1.24 1.43\n",
      "Loss val: -0.21 1.60 -0.08\n",
      "\n",
      "\n",
      "------- Event 4 --------\n",
      "Initial status\n",
      "Init: 9.94 -0.71 0.76\n",
      "Loss val: 0.08 -0.32 -1.47\n",
      "\n",
      "Final status\n",
      "Init: 7.11 -1.51 0.29\n",
      "Loss val: -0.00 -0.00 0.00\n",
      "\n",
      "True status\n",
      "Init: 6.38 0.33 0.66\n",
      "Loss val: 0.40 -2.00 -0.04\n",
      "\n",
      "\n"
     ]
    }
   ],
   "source": [
    "for i_evt in range(5):\n",
    "    print '------- Event', i_evt, '--------'\n",
    "    nz = PB.z[i_evt]/PB.p[i_evt]\n",
    "    nt = PB.pt[i_evt]/PB.p[i_evt]\n",
    "    e = Pv.E[i_evt]\n",
    "    pz = Pv.z[i_evt]\n",
    "    pt = Pv.pt[i_evt]\n",
    "    mv = Pv.mass[i_evt]\n",
    "    \n",
    "    # Get the starting estimation from transverse approx\n",
    "    g_init = TranApp['PB'].gamma[i_evt]\n",
    "    P_vis_lv = rt.TLorentzVector()\n",
    "    P_vis_lv.SetPxPyPzE(Pv.x[i_evt], Pv.y[i_evt], pz, e)\n",
    "    P_vis_lv.Boost(-TranApp['PB'].boostp3[i_evt].x, -TranApp['PB'].boostp3[i_evt].y, -TranApp['PB'].boostp3[i_evt].z)\n",
    "    \n",
    "    pzst_init = P_vis_lv.Px()\n",
    "    ptst_init = P_vis_lv.Pt()\n",
    "    \n",
    "    print 'Initial status'\n",
    "    print 'Init: {:.2f} {:.2f} {:.2f}'.format(g_init, pzst_init, ptst_init)\n",
    "    r1, r2, r3 =  equations((g_init, pzst_init, ptst_init), nz, nt, e, pz, pt, mv)\n",
    "    print 'Loss val: {:.2f} {:.2f} {:.2f}'.format(r1, r2, r3)\n",
    "    print\n",
    "    \n",
    "    # Mimization step\n",
    "    out = fsolve(\n",
    "               equations, \n",
    "               x0=(g_init, pzst_init, ptst_init), \n",
    "               args = (nz, nt, e, pz, pt, mv)\n",
    "              )\n",
    "    g_opt, pzst_opt, ptst_opt = out\n",
    "    print 'Final status'\n",
    "    print 'Init: {:.2f} {:.2f} {:.2f}'.format(g_opt, pzst_opt, ptst_opt)\n",
    "    r1, r2, r3 =  equations((g_opt, pzst_opt, ptst_opt), nz, nt, e, pz, pt, mv)\n",
    "    print 'Loss val: {:.2f} {:.2f} {:.2f}'.format(r1, r2, r3)\n",
    "    print\n",
    "    \n",
    "    # Get the exact solution\n",
    "    g_true = PB.gamma[i_evt]\n",
    "\n",
    "    P_vis_lv = rt.TLorentzVector()\n",
    "    P_vis_lv.SetPxPyPzE(Pv.x[i_evt], Pv.y[i_evt], pz, e)\n",
    "    P_vis_lv.Boost(-PB.boostp3[i_evt].x, -PB.boostp3[i_evt].y, -PB.boostp3[i_evt].z)\n",
    "    \n",
    "    pzst_true = P_vis_lv.Px()\n",
    "    ptst_true = P_vis_lv.Pt()\n",
    "\n",
    "    print 'True status'\n",
    "    print 'Init: {:.2f} {:.2f} {:.2f}'.format(g_true, pzst_true, ptst_true)\n",
    "    r1, r2, r3 =  equations((g_true, pzst_true, ptst_true), nz, nt, e, pz, pt, mv)\n",
    "    print 'Loss val: {:.2f} {:.2f} {:.2f}'.format(r1, r2, r3)\n",
    "    print '\\n'"
   ]
  },
  {
   "cell_type": "markdown",
   "metadata": {},
   "source": [
    "### For all events"
   ]
  },
  {
   "cell_type": "code",
   "execution_count": 36,
   "metadata": {
    "ExecuteTime": {
     "end_time": "2019-05-17T01:37:04.513893Z",
     "start_time": "2019-05-17T01:36:41.334011Z"
    }
   },
   "outputs": [
    {
     "name": "stderr",
     "output_type": "stream",
     "text": [
      "/opt/local/Library/Frameworks/Python.framework/Versions/2.7/lib/python2.7/site-packages/ipykernel_launcher.py:5: RuntimeWarning: invalid value encountered in sqrt\n",
      "  \"\"\"\n",
      "/opt/local/Library/Frameworks/Python.framework/Versions/2.7/lib/python2.7/site-packages/scipy/optimize/minpack.py:161: RuntimeWarning: The number of calls to function has reached maxfev = 800.\n",
      "  warnings.warn(msg, RuntimeWarning)\n",
      "/opt/local/Library/Frameworks/Python.framework/Versions/2.7/lib/python2.7/site-packages/scipy/optimize/minpack.py:161: RuntimeWarning: The iteration is not making good progress, as measured by the \n",
      "  improvement from the last five Jacobian evaluations.\n",
      "  warnings.warn(msg, RuntimeWarning)\n"
     ]
    }
   ],
   "source": [
    "gamma = []\n",
    "for i_evt in range(PB.z.shape[0]):\n",
    "    nz = PB.z[i_evt]/PB.p[i_evt]\n",
    "    nt = PB.pt[i_evt]/PB.p[i_evt]\n",
    "    e = Pv.E[i_evt]\n",
    "    pz = Pv.z[i_evt]\n",
    "    pt = Pv.pt[i_evt]\n",
    "    mv = Pv.mass[i_evt]\n",
    "    \n",
    "    # Get the starting estimation from transverse approx\n",
    "    g_init = TranApp['PB'].gamma[i_evt]\n",
    "    P_vis_lv = rt.TLorentzVector()\n",
    "    P_vis_lv.SetPxPyPzE(Pv.x[i_evt], Pv.y[i_evt], pz, e)\n",
    "    P_vis_lv.Boost(-TranApp['PB'].boostp3[i_evt].x, -TranApp['PB'].boostp3[i_evt].y, -TranApp['PB'].boostp3[i_evt].z)\n",
    "    \n",
    "    pzst_init = P_vis_lv.Px()\n",
    "    ptst_init = P_vis_lv.Pt()\n",
    "    \n",
    "    # Mimization step\n",
    "    out = fsolve(\n",
    "               equations, \n",
    "               x0=(g_init, pzst_init, ptst_init), \n",
    "               args = (nz, nt, e, pz, pt, mv)\n",
    "              )\n",
    "    g_opt, pzst_opt, ptst_opt = out\n",
    "    gamma.append(g_opt)"
   ]
  },
  {
   "cell_type": "code",
   "execution_count": 45,
   "metadata": {
    "ExecuteTime": {
     "end_time": "2019-05-17T01:44:36.576233Z",
     "start_time": "2019-05-17T01:44:36.542637Z"
    }
   },
   "outputs": [],
   "source": [
    "gamma = np.array(gamma)\n",
    "\n",
    "BoostBCM = {}\n",
    "\n",
    "BoostBCM['gamma'] = gamma\n",
    "BoostBCM['B_P'] = np.sqrt(np.square(gamma) - 1) * 1e-3*Particle.from_string('B0').mass\n",
    "\n",
    "BoostBCM['B_p3'] = PB.p3 * BoostBCM['B_P'] / PB.p\n",
    "BoostBCM['B_pt'] = np.hypot(BoostBCM['B_p3'].x, BoostBCM['B_p3'].y)\n",
    "BoostBCM['B_pz'] = BoostBCM['B_p3'].z\n",
    "\n",
    "e = np.sqrt(BoostBCM['B_p3'].mag2 + (1e-3*Particle.from_string('B0').mass)**2)\n",
    "BoostBCM['PB'] = urTLV.TLorentzVectorArray(BoostBCM['B_p3'].x, BoostBCM['B_p3'].y, BoostBCM['B_p3'].z, e)\n",
    "\n",
    "BoostBCM['M2_miss'] = (BoostBCM['PB'] - Pv).mass2\n",
    "BoostBCM['q2'] = (BoostBCM['PB'] - PDst).mass2"
   ]
  },
  {
   "cell_type": "markdown",
   "metadata": {},
   "source": [
    "# Variable comparison"
   ]
  },
  {
   "cell_type": "code",
   "execution_count": 46,
   "metadata": {
    "ExecuteTime": {
     "end_time": "2019-05-17T01:44:55.732168Z",
     "start_time": "2019-05-17T01:44:55.715374Z"
    }
   },
   "outputs": [],
   "source": [
    "dic_list = {'MC Truth': MCtruth,\n",
    "            'Long. approx': LongApp,\n",
    "            'Trans. approx': TranApp,\n",
    "            'Boost B cm': BoostBCM\n",
    "           }"
   ]
  },
  {
   "cell_type": "code",
   "execution_count": 47,
   "metadata": {
    "ExecuteTime": {
     "end_time": "2019-05-17T01:44:56.817738Z",
     "start_time": "2019-05-17T01:44:56.802736Z"
    }
   },
   "outputs": [],
   "source": [
    "def draw_var(vname, xtitle, binning, opt, leg_loc):\n",
    "    h_l = []\n",
    "\n",
    "    leg = rt.TLegend(leg_loc[0],leg_loc[1],leg_loc[2],leg_loc[3])\n",
    "    leg.SetBorderSize(0)\n",
    "    leg.SetFillStyle(0)\n",
    "    for n, d in dic_list.iteritems():\n",
    "        h_aux = create_TH1D(\n",
    "            d[vname], \n",
    "            axis_title=[xtitle, 'Events'], \n",
    "            binning=binning, opt=opt\n",
    "        )\n",
    "        h_aux.SetLineColor(std_color_list[len(h_l)])\n",
    "        h_aux.Sumw2()\n",
    "        leg.AddEntry(h_aux, n, 'l')\n",
    "        h_l.append(h_aux)\n",
    "    SetMaxToMaxHist(h_l)\n",
    "\n",
    "\n",
    "    CMS_lumi.extraText = \"     Simulation Preliminary\"\n",
    "    c = drawOnCMSCanvas(CMS_lumi, h_l, 'same')\n",
    "    c.h_l = h_l\n",
    "    c.leg = leg\n",
    "    leg.Draw()\n",
    "    return c"
   ]
  },
  {
   "cell_type": "code",
   "execution_count": 48,
   "metadata": {
    "ExecuteTime": {
     "end_time": "2019-05-17T01:44:58.425313Z",
     "start_time": "2019-05-17T01:44:58.379413Z"
    }
   },
   "outputs": [
    {
     "name": "stderr",
     "output_type": "stream",
     "text": [
      "Warning in <TROOT::Append>: Replacing existing TH1: h (Potential memory leak).\n",
      "Warning in <TROOT::Append>: Replacing existing TH1: h (Potential memory leak).\n",
      "Warning in <TROOT::Append>: Replacing existing TH1: h (Potential memory leak).\n",
      "Warning in <TROOT::Append>: Replacing existing TH1: h (Potential memory leak).\n",
      "Warning in <TCanvas::Constructor>: Deleting canvas with same name: c\n"
     ]
    },
    {
     "data": {
      "image/png": "[encoded data removed]",
      "text/plain": [
       "<IPython.core.display.Image object>"
      ]
     },
     "metadata": {},
     "output_type": "display_data"
    }
   ],
   "source": [
    "c = draw_var('B_pz', 'p_{z}^{B} [GeV]', binning=[50, -150, 150], opt='underflowoverflow', leg_loc=[0.2,0.6,0.5,0.8])"
   ]
  },
  {
   "cell_type": "code",
   "execution_count": 49,
   "metadata": {
    "ExecuteTime": {
     "end_time": "2019-05-17T01:45:06.961715Z",
     "start_time": "2019-05-17T01:45:06.915469Z"
    }
   },
   "outputs": [
    {
     "name": "stderr",
     "output_type": "stream",
     "text": [
      "Warning in <TROOT::Append>: Replacing existing TH1: h (Potential memory leak).\n",
      "Warning in <TROOT::Append>: Replacing existing TH1: h (Potential memory leak).\n",
      "Warning in <TROOT::Append>: Replacing existing TH1: h (Potential memory leak).\n",
      "Warning in <TROOT::Append>: Replacing existing TH1: h (Potential memory leak).\n",
      "Warning in <TCanvas::Constructor>: Deleting canvas with same name: c\n"
     ]
    },
    {
     "data": {
      "image/png": "[encoded data removed]",
      "text/plain": [
       "<IPython.core.display.Image object>"
      ]
     },
     "metadata": {},
     "output_type": "display_data"
    }
   ],
   "source": [
    "c = draw_var('q2', 'q^{2} [GeV^{2}]', binning=[30, -10, 12], opt='underflow', leg_loc=[0.2,0.6,0.5,0.8])"
   ]
  },
  {
   "cell_type": "code",
   "execution_count": 50,
   "metadata": {
    "ExecuteTime": {
     "end_time": "2019-05-17T01:45:13.345578Z",
     "start_time": "2019-05-17T01:45:13.299196Z"
    }
   },
   "outputs": [
    {
     "name": "stderr",
     "output_type": "stream",
     "text": [
      "Warning in <TROOT::Append>: Replacing existing TH1: h (Potential memory leak).\n",
      "Warning in <TROOT::Append>: Replacing existing TH1: h (Potential memory leak).\n",
      "Warning in <TROOT::Append>: Replacing existing TH1: h (Potential memory leak).\n",
      "Warning in <TROOT::Append>: Replacing existing TH1: h (Potential memory leak).\n",
      "Warning in <TCanvas::Constructor>: Deleting canvas with same name: c\n"
     ]
    },
    {
     "data": {
      "image/png": "[encoded data removed]",
      "text/plain": [
       "<IPython.core.display.Image object>"
      ]
     },
     "metadata": {},
     "output_type": "display_data"
    }
   ],
   "source": [
    "c = draw_var('M2_miss', 'M^{2}_{miss} [GeV^{2}]', binning=[30, -3, 4], opt='underflowoverflow', leg_loc=[0.2,0.6,0.5,0.8])\n",
    "c.SetLogy()"
   ]
  },
  {
   "cell_type": "code",
   "execution_count": null,
   "metadata": {},
   "outputs": [],
   "source": []
  }
 ],
 "metadata": {
  "kernelspec": {
   "display_name": "Python 2",
   "language": "python",
   "name": "python2"
  },
  "language_info": {
   "codemirror_mode": {
    "name": "ipython",
    "version": 2
   },
   "file_extension": ".py",
   "mimetype": "text/x-python",
   "name": "python",
   "nbconvert_exporter": "python",
   "pygments_lexer": "ipython2",
   "version": "2.7.14"
  }
 },
 "nbformat": 4,
 "nbformat_minor": 2
}
