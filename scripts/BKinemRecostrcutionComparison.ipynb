{
 "cells": [
  {
   "cell_type": "code",
   "execution_count": 29,
   "metadata": {
    "ExecuteTime": {
     "end_time": "2019-05-16T01:08:34.474036Z",
     "start_time": "2019-05-16T01:08:34.454342Z"
    }
   },
   "outputs": [],
   "source": [
    "import numpy as np\n",
    "import scipy.stats as sps\n",
    "from glob import glob\n",
    "import uproot as ur\n",
    "import ROOT as rt\n",
    "import ROOT.RooFit as rf\n",
    "from scipy.special import erf\n",
    "from histo_utilities import create_TH1D, create_TH2D, std_color_list\n",
    "from cebefo_style import Set_2D_colz_graphics\n",
    "from particle import Particle\n",
    "\n",
    "from analysis_utilities import drawOnCMSCanvas, extarct, extarct_multiple, createSel\n",
    "\n",
    "from matplotlib import pyplot as plt"
   ]
  },
  {
   "cell_type": "code",
   "execution_count": 65,
   "metadata": {
    "ExecuteTime": {
     "end_time": "2019-05-16T01:35:20.872947Z",
     "start_time": "2019-05-16T01:35:20.647285Z"
    }
   },
   "outputs": [],
   "source": [
    "import CMS_lumi, tdrstyle\n",
    "tdrstyle.setTDRStyle()\n",
    "CMS_lumi.writeExtraText = 1\n",
    "CMS_lumi.extraText = \"     Simulation Preliminary\""
   ]
  },
  {
   "cell_type": "code",
   "execution_count": 6,
   "metadata": {
    "ExecuteTime": {
     "end_time": "2019-05-16T00:54:12.592557Z",
     "start_time": "2019-05-16T00:54:12.576059Z"
    }
   },
   "outputs": [],
   "source": [
    "from uproot_methods.classes import TLorentzVector as urTLV"
   ]
  },
  {
   "cell_type": "code",
   "execution_count": 8,
   "metadata": {
    "ExecuteTime": {
     "end_time": "2019-05-16T00:56:34.175592Z",
     "start_time": "2019-05-16T00:56:33.985346Z"
    }
   },
   "outputs": [
    {
     "name": "stdout",
     "output_type": "stream",
     "text": [
      "['LumiBlock', 'MC_B_P', 'MC_B_eta', 'MC_B_phi', 'MC_B_pt', 'MC_D0_P', 'MC_D0_eta', 'MC_D0_phi', 'MC_D0_pt', 'MC_Dst_P', 'MC_Dst_eta', 'MC_Dst_phi', 'MC_Dst_pt', 'MC_Est_mu', 'MC_M2_miss', 'MC_mu_P', 'MC_mu_eta', 'MC_mu_phi', 'MC_mu_pt', 'MC_pis_P', 'MC_pis_eta', 'MC_pis_phi', 'MC_pis_pt', 'MC_q2', 'Run', 'eventNumber', 'n_B', 'n_D0', 'n_Dst', 'n_K', 'n_pi', 'n_pis', 'trgMu_charge', 'trgMu_eta', 'trgMu_phi', 'trgMu_pt', 'B_E', 'B_P', 'B_eta', 'B_phi', 'B_pt', 'B_pz', 'D0_E', 'D0_P', 'D0_eta', 'D0_phi', 'D0_pt', 'D0_pz', 'Dst_E', 'Dst_P', 'Dst_eta', 'Dst_phi', 'Dst_pt', 'Dst_pz', 'Est_mu', 'K_E', 'K_P', 'K_eta', 'K_phi', 'K_pt', 'K_pz', 'M2_miss', 'chi2_D0pis', 'chi2_MuDst', 'chi2_kpi', 'cos_D0pis_vtxMu', 'cos_MuDst_vtxMu', 'cos_kpi_vtxMu', 'd_vtxD0pis_vtxMu', 'd_vtxkpi_vtxMu', 'dca_D0pis_vtxMu', 'dca_kpi_vtxMu', 'mass_D0pis', 'mass_MuDst', 'mass_kpi', 'mu_E', 'mu_P', 'mu_eta', 'mu_phi', 'mu_pt', 'mu_pz', 'pi_E', 'pi_P', 'pi_eta', 'pi_phi', 'pi_pt', 'pi_pz', 'pis_E', 'pis_P', 'pis_eta', 'pis_phi', 'pis_pt', 'pis_pz', 'q2', 'sigd_vtxD0pis_vtxMu', 'sigd_vtxkpi_vtxMu', 'sigdca_D0pis_vtxMu', 'sigdca_kpi_vtxMu'] \n",
      "\n",
      "\n",
      "MC_B_P\n",
      "MC_B_eta\n",
      "MC_B_phi\n",
      "MC_B_pt\n",
      "MC_D0_P\n",
      "MC_D0_eta\n",
      "MC_D0_phi\n",
      "MC_D0_pt\n",
      "MC_Dst_P\n",
      "MC_Dst_eta\n",
      "MC_Dst_phi\n",
      "MC_Dst_pt\n",
      "MC_Est_mu\n",
      "MC_M2_miss\n",
      "MC_mu_P\n",
      "MC_mu_eta\n",
      "MC_mu_phi\n",
      "MC_mu_pt\n",
      "MC_pis_P\n",
      "MC_pis_eta\n",
      "MC_pis_phi\n",
      "MC_pis_pt\n",
      "MC_q2\n"
     ]
    }
   ],
   "source": [
    "tmu = ur.open('../data/cmsMC_private/BPH_Tag-B0_MuNuDmst-pD0bar-kp_13TeV-pythia8_SoftQCD_PTFilter5_0p0-evtgen_HQET2_central_PU35_10-2-3_v0/B02DstMu_candidates.root')['outA']['Tevts']\n",
    "print tmu.keys(), '\\n\\n'\n",
    "branches = [b for b in tmu.keys() if b[:2] == 'MC']\n",
    "for b in np.sort(branches):\n",
    "    print b\n",
    "    \n",
    "dmu = {}\n",
    "for b in branches:\n",
    "    dmu[b] = tmu.array(b)"
   ]
  },
  {
   "cell_type": "code",
   "execution_count": 25,
   "metadata": {
    "ExecuteTime": {
     "end_time": "2019-05-16T01:07:46.529869Z",
     "start_time": "2019-05-16T01:07:46.513142Z"
    }
   },
   "outputs": [],
   "source": [
    "def create_urTLV(d, k, m):\n",
    "    px = d[k+'_pt'] * np.cos(d[k+'_phi'])\n",
    "    py = d[k+'_pt'] * np.sin(d[k+'_phi'])\n",
    "    pz = d[k+'_pt'] * np.sinh(d[k+'_eta'])\n",
    "    \n",
    "    e = np.sqrt(m**2 + np.square(px) + np.square(py) + np.square(pz))\n",
    "    return urTLV.TLorentzVectorArray(px, py, pz, e)"
   ]
  },
  {
   "cell_type": "code",
   "execution_count": 40,
   "metadata": {
    "ExecuteTime": {
     "end_time": "2019-05-16T01:12:13.291332Z",
     "start_time": "2019-05-16T01:12:13.261779Z"
    }
   },
   "outputs": [],
   "source": [
    "PB = create_urTLV(dmu, 'MC_B', 1e-3*Particle.from_string('B0').mass)\n",
    "Pmu = create_urTLV(dmu, 'MC_mu', 1e-3*Particle.from_string('mu').mass)\n",
    "PDst = create_urTLV(dmu, 'MC_Dst', 1e-3*Particle.from_string('D*-').mass)\n",
    "\n",
    "Pv = Pmu + PDst"
   ]
  },
  {
   "cell_type": "code",
   "execution_count": 42,
   "metadata": {
    "ExecuteTime": {
     "end_time": "2019-05-16T01:12:53.372734Z",
     "start_time": "2019-05-16T01:12:53.356497Z"
    }
   },
   "outputs": [
    {
     "data": {
      "text/plain": [
       "array([ 21.528555,  43.353436,  71.411064, ...,  53.63075 ,  79.28544 ,\n",
       "       103.50118 ], dtype=float32)"
      ]
     },
     "execution_count": 42,
     "metadata": {},
     "output_type": "execute_result"
    }
   ],
   "source": [
    "PB.p"
   ]
  },
  {
   "cell_type": "code",
   "execution_count": 34,
   "metadata": {
    "ExecuteTime": {
     "end_time": "2019-05-16T01:09:46.326520Z",
     "start_time": "2019-05-16T01:09:46.183452Z"
    }
   },
   "outputs": [
    {
     "name": "stdout",
     "output_type": "stream",
     "text": [
      "1.8417358393918448e-07 4.3538992e-05\n"
     ]
    },
    {
     "data": {
      "image/png": "[encoded data removed]",
      "text/plain": [
       "<matplotlib.figure.Figure at 0x122fe5e50>"
      ]
     },
     "metadata": {
      "needs_background": "light"
     },
     "output_type": "display_data"
    }
   ],
   "source": [
    "plt.hist(PB.mass)\n",
    "print np.mean(PB.mass)-1e-3*Particle.from_string('B0').mass, np.std(PB.mass)"
   ]
  },
  {
   "cell_type": "markdown",
   "metadata": {},
   "source": [
    "Now get the B momentum form different approximations"
   ]
  },
  {
   "cell_type": "markdown",
   "metadata": {},
   "source": [
    "## Longitudinal Approx (a-la-LHCb)"
   ]
  },
  {
   "cell_type": "code",
   "execution_count": 43,
   "metadata": {
    "ExecuteTime": {
     "end_time": "2019-05-16T01:18:04.742565Z",
     "start_time": "2019-05-16T01:18:04.726108Z"
    }
   },
   "outputs": [],
   "source": [
    "LongApp = {}"
   ]
  },
  {
   "cell_type": "code",
   "execution_count": 62,
   "metadata": {
    "ExecuteTime": {
     "end_time": "2019-05-16T01:32:08.940201Z",
     "start_time": "2019-05-16T01:32:08.911921Z"
    }
   },
   "outputs": [],
   "source": [
    "LongApp['B_pz'] = Pv.z * 1e-3*Particle.from_string('B0').mass / Pv.mass\n",
    "LongApp['B_p3'] = PB.p3 * LongApp['B_pz'] / PB.p3.z\n",
    "\n",
    "e = np.sqrt(LongApp['B_p3'].mag + (1e-3*Particle.from_string('B0').mass)**2)\n",
    "LongApp['PB'] = urTLV.TLorentzVectorArray(LongApp['B_p3'].x, LongApp['B_p3'].y, LongApp['B_p3'].z, e)\n",
    "\n",
    "LongApp['M2_miss'] = (LongApp['PB'] - Pv).mass2\n",
    "LongApp['q2'] = (LongApp['PB'] - PDst).mass2"
   ]
  },
  {
   "cell_type": "code",
   "execution_count": 90,
   "metadata": {
    "ExecuteTime": {
     "end_time": "2019-05-16T01:49:34.219450Z",
     "start_time": "2019-05-16T01:49:34.170679Z"
    }
   },
   "outputs": [
    {
     "name": "stderr",
     "output_type": "stream",
     "text": [
      "Warning in <TROOT::Append>: Replacing existing TH1: h (Potential memory leak).\n",
      "Warning in <TCanvas::Constructor>: Deleting canvas with same name: c\n"
     ]
    },
    {
     "data": {
      "image/png": "[encoded data removed]",
      "text/plain": [
       "<IPython.core.display.Image object>"
      ]
     },
     "metadata": {},
     "output_type": "display_data"
    }
   ],
   "source": [
    "h = create_TH2D(\n",
    "            np.column_stack((np.abs(PB.eta), (PB.z-LongApp['B_pz'])/PB.z)),\n",
    "            binning = [np.logspace(-2, np.log10(4), 15), np.linspace(-3, 3, 50)],\n",
    "            axis_title = ['|#eta_{B}|', '|#DeltaP_{z}^{B}/P_{z}^{B}|', '']\n",
    "           )\n",
    "\n",
    "hpfy = h.ProfileX('hpfy', 1, -1, 's')\n",
    "hpfy.SetLineColor(2)\n",
    "c = drawOnCMSCanvas(CMS_lumi, [h, hpfy], ['colz', 'sameE1'])\n",
    "c.SetLogx()"
   ]
  },
  {
   "cell_type": "code",
   "execution_count": null,
   "metadata": {},
   "outputs": [],
   "source": []
  }
 ],
 "metadata": {
  "kernelspec": {
   "display_name": "Python 2",
   "language": "python",
   "name": "python2"
  },
  "language_info": {
   "codemirror_mode": {
    "name": "ipython",
    "version": 2
   },
   "file_extension": ".py",
   "mimetype": "text/x-python",
   "name": "python",
   "nbconvert_exporter": "python",
   "pygments_lexer": "ipython2",
   "version": "2.7.14"
  }
 },
 "nbformat": 4,
 "nbformat_minor": 2
}
