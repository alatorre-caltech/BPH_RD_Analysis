{
 "cells": [
  {
   "cell_type": "markdown",
   "metadata": {},
   "source": [
    "Run locally on Vrael"
   ]
  },
  {
   "cell_type": "code",
   "execution_count": 1,
   "metadata": {
    "ExecuteTime": {
     "end_time": "2019-05-17T01:27:16.632814Z",
     "start_time": "2019-05-17T01:27:11.582776Z"
    }
   },
   "outputs": [
    {
     "name": "stdout",
     "output_type": "stream",
     "text": [
      "Welcome to JupyROOT 6.12/07\n"
     ]
    },
    {
     "ename": "ImportError",
     "evalue": "No module named histo_utilities",
     "output_type": "error",
     "traceback": [
      "\u001b[0;31m---------------------------------------------------------------------------\u001b[0m",
      "\u001b[0;31mImportError\u001b[0m                               Traceback (most recent call last)",
      "\u001b[0;32m<ipython-input-1-b669287cfd68>\u001b[0m in \u001b[0;36m<module>\u001b[0;34m()\u001b[0m\n\u001b[1;32m      7\u001b[0m \u001b[0;32mfrom\u001b[0m \u001b[0mscipy\u001b[0m\u001b[0;34m.\u001b[0m\u001b[0mspecial\u001b[0m \u001b[0;32mimport\u001b[0m \u001b[0merf\u001b[0m\u001b[0;34m\u001b[0m\u001b[0m\n\u001b[1;32m      8\u001b[0m \u001b[0;32mfrom\u001b[0m \u001b[0mscipy\u001b[0m\u001b[0;34m.\u001b[0m\u001b[0moptimize\u001b[0m \u001b[0;32mimport\u001b[0m \u001b[0mfsolve\u001b[0m\u001b[0;34m\u001b[0m\u001b[0m\n\u001b[0;32m----> 9\u001b[0;31m \u001b[0;32mfrom\u001b[0m \u001b[0mhisto_utilities\u001b[0m \u001b[0;32mimport\u001b[0m \u001b[0mcreate_TH1D\u001b[0m\u001b[0;34m,\u001b[0m \u001b[0mcreate_TH2D\u001b[0m\u001b[0;34m,\u001b[0m \u001b[0mstd_color_list\u001b[0m\u001b[0;34m,\u001b[0m \u001b[0mSetMaxToMaxHist\u001b[0m\u001b[0;34m\u001b[0m\u001b[0m\n\u001b[0m\u001b[1;32m     10\u001b[0m \u001b[0;32mfrom\u001b[0m \u001b[0mcebefo_style\u001b[0m \u001b[0;32mimport\u001b[0m \u001b[0mSet_2D_colz_graphics\u001b[0m\u001b[0;34m\u001b[0m\u001b[0m\n\u001b[1;32m     11\u001b[0m \u001b[0;32mfrom\u001b[0m \u001b[0mparticle\u001b[0m \u001b[0;32mimport\u001b[0m \u001b[0mParticle\u001b[0m\u001b[0;34m\u001b[0m\u001b[0m\n",
      "\u001b[0;32m/cvmfs/cms.cern.ch/slc7_amd64_gcc700/lcg/root/6.12.07-gnimlf5/lib/ROOT.pyc\u001b[0m in \u001b[0;36m_importhook\u001b[0;34m(name, *args, **kwds)\u001b[0m\n\u001b[1;32m    316\u001b[0m       \u001b[0;32mexcept\u001b[0m \u001b[0mException\u001b[0m\u001b[0;34m:\u001b[0m\u001b[0;34m\u001b[0m\u001b[0m\n\u001b[1;32m    317\u001b[0m          \u001b[0;32mpass\u001b[0m\u001b[0;34m\u001b[0m\u001b[0m\n\u001b[0;32m--> 318\u001b[0;31m    \u001b[0;32mreturn\u001b[0m \u001b[0m_orig_ihook\u001b[0m\u001b[0;34m(\u001b[0m \u001b[0mname\u001b[0m\u001b[0;34m,\u001b[0m \u001b[0;34m*\u001b[0m\u001b[0margs\u001b[0m\u001b[0;34m,\u001b[0m \u001b[0;34m**\u001b[0m\u001b[0mkwds\u001b[0m \u001b[0;34m)\u001b[0m\u001b[0;34m\u001b[0m\u001b[0m\n\u001b[0m\u001b[1;32m    319\u001b[0m \u001b[0;34m\u001b[0m\u001b[0m\n\u001b[1;32m    320\u001b[0m \u001b[0m__builtin__\u001b[0m\u001b[0;34m.\u001b[0m\u001b[0m__import__\u001b[0m \u001b[0;34m=\u001b[0m \u001b[0m_importhook\u001b[0m\u001b[0;34m\u001b[0m\u001b[0m\n",
      "\u001b[0;31mImportError\u001b[0m: No module named histo_utilities"
     ]
    }
   ],
   "source": [
    "import numpy as np\n",
    "import scipy.stats as sps\n",
    "from glob import glob\n",
    "import uproot as ur\n",
    "import ROOT as rt\n",
    "import ROOT.RooFit as rf\n",
    "from scipy.special import erf\n",
    "from scipy.optimize import fsolve\n",
    "from histo_utilities import create_TH1D, create_TH2D, std_color_list, SetMaxToMaxHist\n",
    "from cebefo_style import Set_2D_colz_graphics\n",
    "from particle import Particle\n",
    "\n",
    "from analysis_utilities import drawOnCMSCanvas, extarct, extarct_multiple, createSel\n",
    "\n",
    "from matplotlib import pyplot as plt"
   ]
  },
  {
   "cell_type": "code",
   "execution_count": null,
   "metadata": {
    "ExecuteTime": {
     "end_time": "2019-05-17T01:27:16.852279Z",
     "start_time": "2019-05-17T01:27:16.636973Z"
    }
   },
   "outputs": [],
   "source": [
    "import CMS_lumi, tdrstyle\n",
    "tdrstyle.setTDRStyle()\n",
    "CMS_lumi.writeExtraText = 1\n",
    "CMS_lumi.extraText = \"     Simulation Preliminary\""
   ]
  },
  {
   "cell_type": "code",
   "execution_count": null,
   "metadata": {
    "ExecuteTime": {
     "end_time": "2019-05-17T01:27:16.861434Z",
     "start_time": "2019-05-17T01:27:16.856420Z"
    }
   },
   "outputs": [],
   "source": [
    "from uproot_methods.classes import TLorentzVector as urTLV"
   ]
  },
  {
   "cell_type": "code",
   "execution_count": null,
   "metadata": {
    "ExecuteTime": {
     "end_time": "2019-05-17T01:27:17.090709Z",
     "start_time": "2019-05-17T01:27:16.865628Z"
    }
   },
   "outputs": [],
   "source": [
    "# tmu = ur.open('../data/cmsMC_private/BPH_Tag-B0_MuNuDmst-pD0bar-kp_13TeV-pythia8_SoftQCD_PTFilter5_0p0-evtgen_HQET2_central_PU35_10-2-3_v0/B02DstMu_candidates.root')['outA']['Tevts']\n",
    "tmu = ur.open('../data/cmsMC_private/BPH_Tag-B0_MuNuDmst-pD0bar-kp_13TeV-pythia8_SoftQCD_PTFilter5_0p0-evtgen_HQET2_central_PU35_10-2-3_v0/B02DstMu_candidates.root')['outA']['Tevts']\n",
    "print tmu.keys(), '\\n\\n'\n",
    "branches = [b for b in tmu.keys() if b[:2] == 'MC']\n",
    "for b in np.sort(branches):\n",
    "    print b\n",
    "    \n",
    "dmu = {}\n",
    "for b in branches:\n",
    "    dmu[b] = tmu.array(b)"
   ]
  },
  {
   "cell_type": "code",
   "execution_count": null,
   "metadata": {
    "ExecuteTime": {
     "end_time": "2019-05-17T01:32:37.656972Z",
     "start_time": "2019-05-17T01:32:37.649412Z"
    }
   },
   "outputs": [],
   "source": [
    "def create_urTLV(d, k, m):\n",
    "    px = d[k+'_pt'] * np.cos(d[k+'_phi'])\n",
    "    py = d[k+'_pt'] * np.sin(d[k+'_phi'])\n",
    "    pz = d[k+'_pt'] * np.sinh(d[k+'_eta']).astype(np.float64)\n",
    "    \n",
    "    e = np.sqrt(m**2 + np.square(d[k+'_P']))\n",
    "    return urTLV.TLorentzVectorArray(px, py, pz, e)"
   ]
  },
  {
   "cell_type": "code",
   "execution_count": null,
   "metadata": {
    "ExecuteTime": {
     "end_time": "2019-05-17T01:32:37.858372Z",
     "start_time": "2019-05-17T01:32:37.827357Z"
    }
   },
   "outputs": [],
   "source": [
    "PB = create_urTLV(dmu, 'MC_B', 1e-3*Particle.from_string('B0').mass)\n",
    "Pmu = create_urTLV(dmu, 'MC_mu', 1e-3*Particle.from_string('mu').mass)\n",
    "PDst = create_urTLV(dmu, 'MC_Dst', 1e-3*Particle.from_string('D*-').mass)\n",
    "\n",
    "Pv = Pmu + PDst"
   ]
  },
  {
   "cell_type": "code",
   "execution_count": null,
   "metadata": {
    "ExecuteTime": {
     "end_time": "2019-05-17T01:32:38.158077Z",
     "start_time": "2019-05-17T01:32:37.994260Z"
    }
   },
   "outputs": [],
   "source": [
    "plt.hist(PB.mass)\n",
    "print np.mean(PB.mass)-1e-3*Particle.from_string('B0').mass, np.std(PB.mass)"
   ]
  },
  {
   "cell_type": "markdown",
   "metadata": {},
   "source": [
    "Now get the B momentum form different approximations"
   ]
  },
  {
   "cell_type": "markdown",
   "metadata": {},
   "source": [
    "## MC truth"
   ]
  },
  {
   "cell_type": "code",
   "execution_count": null,
   "metadata": {
    "ExecuteTime": {
     "end_time": "2019-05-17T01:32:38.487755Z",
     "start_time": "2019-05-17T01:32:38.481149Z"
    }
   },
   "outputs": [],
   "source": [
    "MCtruth = {}\n",
    "MCtruth['B_pz'] = PB.z\n",
    "MCtruth['B_p3'] = PB.p3\n",
    "\n",
    "MCtruth['PB'] = PB\n",
    "\n",
    "MCtruth['M2_miss'] = dmu['MC_M2_miss']\n",
    "MCtruth['q2'] = dmu['MC_q2']"
   ]
  },
  {
   "cell_type": "markdown",
   "metadata": {},
   "source": [
    "## Longitudinal Approx (a-la-LHCb)"
   ]
  },
  {
   "cell_type": "code",
   "execution_count": null,
   "metadata": {
    "ExecuteTime": {
     "end_time": "2019-05-17T01:32:38.855639Z",
     "start_time": "2019-05-17T01:32:38.827361Z"
    }
   },
   "outputs": [],
   "source": [
    "LongApp = {}\n",
    "LongApp['B_pz'] = Pv.z * 1e-3*Particle.from_string('B0').mass / Pv.mass\n",
    "LongApp['B_p3'] = PB.p3 * LongApp['B_pz'] / PB.p3.z\n",
    "\n",
    "e = np.sqrt(LongApp['B_p3'].mag2 + (1e-3*Particle.from_string('B0').mass)**2)\n",
    "LongApp['PB'] = urTLV.TLorentzVectorArray(LongApp['B_p3'].x, LongApp['B_p3'].y, LongApp['B_p3'].z, e)\n",
    "\n",
    "LongApp['M2_miss'] = (LongApp['PB'] - Pv).mass2\n",
    "LongApp['q2'] = (LongApp['PB'] - PDst).mass2"
   ]
  },
  {
   "cell_type": "code",
   "execution_count": null,
   "metadata": {
    "ExecuteTime": {
     "end_time": "2019-05-17T01:32:39.053667Z",
     "start_time": "2019-05-17T01:32:39.009795Z"
    }
   },
   "outputs": [],
   "source": [
    "h = create_TH2D(\n",
    "            np.column_stack((np.abs(PB.eta), (PB.z-LongApp['B_pz'])/PB.z)),\n",
    "            binning = [np.logspace(-2, np.log10(4), 15), np.linspace(-3, 3, 50)],\n",
    "            axis_title = ['|#eta_{B}|', '|#DeltaP_{z}^{B}/P_{z}^{B}|', '']\n",
    "           )\n",
    "\n",
    "hpfy = h.ProfileX('hpfy', 1, -1, 's')\n",
    "hpfy.SetLineColor(2)\n",
    "c = drawOnCMSCanvas(CMS_lumi, [h, hpfy], ['colz', 'sameE1'])\n",
    "c.SetLogx()"
   ]
  },
  {
   "cell_type": "markdown",
   "metadata": {},
   "source": [
    "## Transverse Approx"
   ]
  },
  {
   "cell_type": "code",
   "execution_count": null,
   "metadata": {
    "ExecuteTime": {
     "end_time": "2019-05-17T01:32:39.520218Z",
     "start_time": "2019-05-17T01:32:39.493242Z"
    }
   },
   "outputs": [],
   "source": [
    "TranApp = {}\n",
    "TranApp['B_pt'] = Pv.pt * 1e-3*Particle.from_string('B0').mass / Pv.mass\n",
    "TranApp['B_p3'] = PB.p3 * TranApp['B_pt'] / PB.pt\n",
    "TranApp['B_pz'] = TranApp['B_p3'].z\n",
    "\n",
    "e = np.sqrt(TranApp['B_p3'].mag2 + (1e-3*Particle.from_string('B0').mass)**2)\n",
    "TranApp['PB'] = urTLV.TLorentzVectorArray(TranApp['B_p3'].x, TranApp['B_p3'].y, TranApp['B_p3'].z, e)\n",
    "\n",
    "TranApp['M2_miss'] = (TranApp['PB'] - Pv).mass2\n",
    "TranApp['q2'] = (TranApp['PB'] - PDst).mass2"
   ]
  },
  {
   "cell_type": "code",
   "execution_count": null,
   "metadata": {
    "ExecuteTime": {
     "end_time": "2019-05-17T01:32:39.826884Z",
     "start_time": "2019-05-17T01:32:39.781229Z"
    }
   },
   "outputs": [],
   "source": [
    "h = create_TH2D(\n",
    "            np.column_stack((np.abs(PB.eta), (PB.z-TranApp['B_pz'])/PB.z)),\n",
    "            binning = [np.logspace(-2, np.log10(4), 15), np.linspace(-3, 3, 50)],\n",
    "            axis_title = ['|#eta_{B}|', '|#DeltaP_{z}^{B}/P_{z}^{B}|', '']\n",
    "           )\n",
    "\n",
    "hpfy = h.ProfileX('hpfy', 1, -1, 's')\n",
    "hpfy.SetLineColor(2)\n",
    "c = drawOnCMSCanvas(CMS_lumi, [h, hpfy], ['colz', 'sameE1'])\n",
    "c.SetLogx()"
   ]
  },
  {
   "cell_type": "code",
   "execution_count": null,
   "metadata": {
    "ExecuteTime": {
     "end_time": "2019-05-17T18:10:06.806451Z",
     "start_time": "2019-05-17T18:10:06.791767Z"
    }
   },
   "outputs": [],
   "source": [
    "np.min(TranApp['q2'])"
   ]
  },
  {
   "cell_type": "markdown",
   "metadata": {},
   "source": [
    "## BoostBCM"
   ]
  },
  {
   "cell_type": "code",
   "execution_count": null,
   "metadata": {
    "ExecuteTime": {
     "end_time": "2019-05-17T22:09:28.445717Z",
     "start_time": "2019-05-17T22:09:28.429230Z"
    }
   },
   "outputs": [],
   "source": [
    "def equations(x, *a):\n",
    "    g, pxst, pyst, pzst = x\n",
    "    nx, ny, nz, e, px, py, pz, mv = a\n",
    "    \n",
    "    gb = np.sqrt(g*g-1)\n",
    "    \n",
    "    eqE = g*e - gb*nx*px - gb*ny*py - gb*nz*pz\n",
    "    eqE -= np.sqrt(mv*mv + pxst*pxst + pyst*pyst + pzst*pzst)\n",
    "    \n",
    "    eqPx = -gb*nx*e \n",
    "    eqPx += px*( 1. + (g-1)*nx*nx )\n",
    "    eqPx += py*(g-1)*nx*ny\n",
    "    eqPx += pz*(g-1)*nx*nz\n",
    "    eqPx -= pxst\n",
    "    \n",
    "    eqPy = -gb*ny*e\n",
    "    eqPy += px*(g-1)*ny*nx\n",
    "    eqPy += py*( 1. + (g-1)*ny*ny )\n",
    "    eqPy += pz*(g-1)*ny*nz\n",
    "    eqPy -= pyst\n",
    "    \n",
    "    eqPz = -gb*nz*e\n",
    "    eqPz += px*(g-1)*nz*nx\n",
    "    eqPz += py*(g-1)*nz*ny\n",
    "    eqPz += pz*( 1. + (g-1)*nz*nz )\n",
    "    eqPz -= pzst\n",
    "    \n",
    "    return (eqE, eqPx, eqPy, eqPz)"
   ]
  },
  {
   "cell_type": "markdown",
   "metadata": {},
   "source": [
    "### Test"
   ]
  },
  {
   "cell_type": "markdown",
   "metadata": {},
   "source": [
    "Get the arguments"
   ]
  },
  {
   "cell_type": "code",
   "execution_count": null,
   "metadata": {
    "ExecuteTime": {
     "end_time": "2019-05-17T22:23:07.765115Z",
     "start_time": "2019-05-17T22:23:07.707844Z"
    },
    "scrolled": true
   },
   "outputs": [],
   "source": [
    "for i_evt in range(1):\n",
    "    print '------- Event', i_evt, '--------'\n",
    "    nx = PB.x[i_evt]/PB.p[i_evt]\n",
    "    ny = PB.y[i_evt]/PB.p[i_evt]\n",
    "    nz = PB.z[i_evt]/PB.p[i_evt]\n",
    "    e = Pv.E[i_evt]\n",
    "    px = Pv.x[i_evt]\n",
    "    py = Pv.y[i_evt]\n",
    "    pz = Pv.z[i_evt]\n",
    "    mv = Pv.mass[i_evt]\n",
    "    \n",
    "    # Get the starting estimation from transverse approx\n",
    "    g_init = TranApp['PB'].gamma[i_evt]\n",
    "    P_vis_lv = rt.TLorentzVector()\n",
    "    P_vis_lv.SetPxPyPzE(px, py, pz, e)\n",
    "    P_vis_lv.Boost(-TranApp['PB'].boostp3[i_evt].x, -TranApp['PB'].boostp3[i_evt].y, -TranApp['PB'].boostp3[i_evt].z)\n",
    "    \n",
    "    pxst_init = P_vis_lv.Px()\n",
    "    pyst_init = P_vis_lv.Py()\n",
    "    pzst_init = P_vis_lv.Pz()\n",
    "    \n",
    "    print 'Initial status'\n",
    "    print 'Init: {:.2f} {:.2f} {:.2f} {:.2f}'.format(g_init, pxst_init, pyst_init, pzst_init)\n",
    "    r0, r1, r2, r3 =  equations((g_init, pxst_init, pyst_init, pzst_init), nx, ny, nz, e, px, py, pz, mv)\n",
    "    print 'Loss val: {:.2e} {:.2e} {:.2e} {:.2e}'.format(r0, r1, r2, r3)\n",
    "    print\n",
    "    \n",
    "    # Mimization step\n",
    "    out = fsolve(\n",
    "               equations, \n",
    "               x0=(g_init, pxst_init, pyst_init, pzst_init), \n",
    "               args = (nx, ny, nz, e, px, py, pz, mv)\n",
    "              )\n",
    "    g_opt, pxst_opt, pyst_opt, pzst_opt = out\n",
    "    print 'Final status'\n",
    "    print 'Init: {:.2f} {:.2f} {:.2f} {:.2f}'.format(g_opt, pxst_opt, pyst_opt, pzst_opt)\n",
    "    r0, r1, r2, r3 =  equations((g_opt, pxst_opt, pyst_opt, pzst_opt), nx, ny, nz, e, px, py, pz, mv)\n",
    "    print 'Loss val: {:.2e} {:.2e} {:.2e} {:.2e}'.format(r0, r1, r2, r3)\n",
    "    print\n",
    "    \n",
    "    # Get the exact solution\n",
    "    g_true = PB.gamma[i_evt]\n",
    "\n",
    "    P_vis_lv = rt.TLorentzVector()\n",
    "    P_vis_lv.SetPxPyPzE(Pv.x[i_evt], Pv.y[i_evt], pz, e)\n",
    "    P_vis_lv.Boost(-PB.boostp3[i_evt].x, -PB.boostp3[i_evt].y, -PB.boostp3[i_evt].z)\n",
    "    \n",
    "    pxst_true = P_vis_lv.Px()\n",
    "    pyst_true = P_vis_lv.Py()\n",
    "    pzst_true = P_vis_lv.Pz()\n",
    "\n",
    "    print 'True status'\n",
    "    print 'Init: {:.2f} {:.2f} {:.2f} {:.2f}'.format(g_true, pxst_true, pyst_true, pzst_true)\n",
    "    r0, r1, r2, r3 =  equations((g_true, pxst_true, pyst_true, pzst_true), nx, ny, nz, e, px, py, pz, mv)\n",
    "    print 'Loss val: {:.2e} {:.2e} {:.2e} {:.2e}'.format(r0, r1, r2, r3)\n",
    "    print '\\n'"
   ]
  },
  {
   "cell_type": "markdown",
   "metadata": {},
   "source": [
    "### For all events"
   ]
  },
  {
   "cell_type": "code",
   "execution_count": null,
   "metadata": {
    "ExecuteTime": {
     "end_time": "2019-05-17T01:37:04.513893Z",
     "start_time": "2019-05-17T01:36:41.334011Z"
    }
   },
   "outputs": [],
   "source": [
    "gamma = []\n",
    "for i_evt in range(PB.z.shape[0]):\n",
    "    nz = PB.z[i_evt]/PB.p[i_evt]\n",
    "    nt = PB.pt[i_evt]/PB.p[i_evt]\n",
    "    e = Pv.E[i_evt]\n",
    "    pz = Pv.z[i_evt]\n",
    "    pt = Pv.pt[i_evt]\n",
    "    mv = Pv.mass[i_evt]\n",
    "    \n",
    "    # Get the starting estimation from transverse approx\n",
    "    g_init = TranApp['PB'].gamma[i_evt]\n",
    "    P_vis_lv = rt.TLorentzVector()\n",
    "    P_vis_lv.SetPxPyPzE(Pv.x[i_evt], Pv.y[i_evt], pz, e)\n",
    "    P_vis_lv.Boost(-TranApp['PB'].boostp3[i_evt].x, -TranApp['PB'].boostp3[i_evt].y, -TranApp['PB'].boostp3[i_evt].z)\n",
    "    \n",
    "    pzst_init = P_vis_lv.Px()\n",
    "    ptst_init = P_vis_lv.Pt()\n",
    "    \n",
    "    # Mimization step\n",
    "    out = fsolve(\n",
    "               equations, \n",
    "               x0=(g_init, pzst_init, ptst_init), \n",
    "               args = (nz, nt, e, pz, pt, mv)\n",
    "              )\n",
    "    g_opt, pzst_opt, ptst_opt = out\n",
    "    gamma.append(g_opt)"
   ]
  },
  {
   "cell_type": "code",
   "execution_count": null,
   "metadata": {
    "ExecuteTime": {
     "end_time": "2019-05-17T01:44:36.576233Z",
     "start_time": "2019-05-17T01:44:36.542637Z"
    }
   },
   "outputs": [],
   "source": [
    "gamma = np.array(gamma)\n",
    "\n",
    "BoostBCM = {}\n",
    "\n",
    "BoostBCM['gamma'] = gamma\n",
    "BoostBCM['B_P'] = np.sqrt(np.square(gamma) - 1) * 1e-3*Particle.from_string('B0').mass\n",
    "\n",
    "BoostBCM['B_p3'] = PB.p3 * BoostBCM['B_P'] / PB.p\n",
    "BoostBCM['B_pt'] = np.hypot(BoostBCM['B_p3'].x, BoostBCM['B_p3'].y)\n",
    "BoostBCM['B_pz'] = BoostBCM['B_p3'].z\n",
    "\n",
    "e = np.sqrt(BoostBCM['B_p3'].mag2 + (1e-3*Particle.from_string('B0').mass)**2)\n",
    "BoostBCM['PB'] = urTLV.TLorentzVectorArray(BoostBCM['B_p3'].x, BoostBCM['B_p3'].y, BoostBCM['B_p3'].z, e)\n",
    "\n",
    "BoostBCM['M2_miss'] = (BoostBCM['PB'] - Pv).mass2\n",
    "BoostBCM['q2'] = (BoostBCM['PB'] - PDst).mass2"
   ]
  },
  {
   "cell_type": "markdown",
   "metadata": {},
   "source": [
    "# Variable comparison"
   ]
  },
  {
   "cell_type": "code",
   "execution_count": null,
   "metadata": {
    "ExecuteTime": {
     "end_time": "2019-05-17T01:44:55.732168Z",
     "start_time": "2019-05-17T01:44:55.715374Z"
    }
   },
   "outputs": [],
   "source": [
    "dic_list = {'MC Truth': MCtruth,\n",
    "            'Long. approx': LongApp,\n",
    "            'Trans. approx': TranApp,\n",
    "            'Boost B cm': BoostBCM\n",
    "           }"
   ]
  },
  {
   "cell_type": "code",
   "execution_count": null,
   "metadata": {
    "ExecuteTime": {
     "end_time": "2019-05-17T01:44:56.817738Z",
     "start_time": "2019-05-17T01:44:56.802736Z"
    }
   },
   "outputs": [],
   "source": [
    "def draw_var(vname, xtitle, binning, opt, leg_loc):\n",
    "    h_l = []\n",
    "\n",
    "    leg = rt.TLegend(leg_loc[0],leg_loc[1],leg_loc[2],leg_loc[3])\n",
    "    leg.SetBorderSize(0)\n",
    "    leg.SetFillStyle(0)\n",
    "    for n, d in dic_list.iteritems():\n",
    "        h_aux = create_TH1D(\n",
    "            d[vname], \n",
    "            axis_title=[xtitle, 'Events'], \n",
    "            binning=binning, opt=opt\n",
    "        )\n",
    "        h_aux.SetLineColor(std_color_list[len(h_l)])\n",
    "        h_aux.Sumw2()\n",
    "        leg.AddEntry(h_aux, n, 'l')\n",
    "        h_l.append(h_aux)\n",
    "    SetMaxToMaxHist(h_l)\n",
    "\n",
    "\n",
    "    CMS_lumi.extraText = \"     Simulation Preliminary\"\n",
    "    c = drawOnCMSCanvas(CMS_lumi, h_l, 'same')\n",
    "    c.h_l = h_l\n",
    "    c.leg = leg\n",
    "    leg.Draw()\n",
    "    return c"
   ]
  },
  {
   "cell_type": "code",
   "execution_count": null,
   "metadata": {
    "ExecuteTime": {
     "end_time": "2019-05-17T01:44:58.425313Z",
     "start_time": "2019-05-17T01:44:58.379413Z"
    }
   },
   "outputs": [],
   "source": [
    "c = draw_var('B_pz', 'p_{z}^{B} [GeV]', binning=[50, -150, 150], opt='underflowoverflow', leg_loc=[0.2,0.6,0.5,0.8])"
   ]
  },
  {
   "cell_type": "code",
   "execution_count": null,
   "metadata": {
    "ExecuteTime": {
     "end_time": "2019-05-17T01:45:06.961715Z",
     "start_time": "2019-05-17T01:45:06.915469Z"
    }
   },
   "outputs": [],
   "source": [
    "c = draw_var('q2', 'q^{2} [GeV^{2}]', binning=[30, -10, 12], opt='underflow', leg_loc=[0.2,0.6,0.5,0.8])"
   ]
  },
  {
   "cell_type": "code",
   "execution_count": null,
   "metadata": {
    "ExecuteTime": {
     "end_time": "2019-05-17T01:45:13.345578Z",
     "start_time": "2019-05-17T01:45:13.299196Z"
    }
   },
   "outputs": [],
   "source": [
    "c = draw_var('M2_miss', 'M^{2}_{miss} [GeV^{2}]', binning=[30, -3, 4], opt='underflowoverflow', leg_loc=[0.2,0.6,0.5,0.8])\n",
    "c.SetLogy()"
   ]
  },
  {
   "cell_type": "code",
   "execution_count": null,
   "metadata": {},
   "outputs": [],
   "source": []
  }
 ],
 "metadata": {
  "kernelspec": {
   "display_name": "Python 2",
   "language": "python",
   "name": "python2"
  },
  "language_info": {
   "codemirror_mode": {
    "name": "ipython",
    "version": 2
   },
   "file_extension": ".py",
   "mimetype": "text/x-python",
   "name": "python",
   "nbconvert_exporter": "python",
   "pygments_lexer": "ipython2",
   "version": "2.7.14+"
  }
 },
 "nbformat": 4,
 "nbformat_minor": 2
}
