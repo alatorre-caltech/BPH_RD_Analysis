{
 "cells": [
  {
   "cell_type": "code",
   "execution_count": 3,
   "metadata": {},
   "outputs": [
    {
     "name": "stdout",
     "output_type": "stream",
     "text": [
      "Welcome to JupyROOT 6.12/07\n"
     ]
    }
   ],
   "source": [
    "import numpy as np\n",
    "\n",
    "import ROOT as rt\n",
    "import uproot as ur"
   ]
  },
  {
   "cell_type": "code",
   "execution_count": 4,
   "metadata": {},
   "outputs": [],
   "source": [
    "f = open('/afs/cern.ch/work/o/ocerri/CMSSW_10_2_3/src/ntuplizer/BPH_RDntuplizer/production/inputFiles_ParkingBPH1_Run2018A-05May2019-v1_MINIAOD.txt')\n",
    "flist = f.readlines()"
   ]
  },
  {
   "cell_type": "code",
   "execution_count": 6,
   "metadata": {},
   "outputs": [],
   "source": [
    "fname = 'root://xrootd-cms.infn.it/'+flist[0]\n",
    "t = ur.open(fname)"
   ]
  },
  {
   "cell_type": "code",
   "execution_count": 7,
   "metadata": {},
   "outputs": [
    {
     "data": {
      "text/plain": [
       "['MetaData;1',\n",
       " 'ParameterSets;1',\n",
       " 'Parentage;1',\n",
       " 'Events;1',\n",
       " 'LuminosityBlocks;1',\n",
       " 'Runs;1']"
      ]
     },
     "execution_count": 7,
     "metadata": {},
     "output_type": "execute_result"
    }
   ],
   "source": [
    "t.keys()"
   ]
  },
  {
   "cell_type": "code",
   "execution_count": 14,
   "metadata": {
    "scrolled": true
   },
   "outputs": [
    {
     "data": {
      "text/plain": [
       "['EventAuxiliary',\n",
       " 'EventProductProvenance',\n",
       " 'EventSelections',\n",
       " 'BranchListIndexes',\n",
       " 'edmTriggerResults_TriggerResults__HLT.',\n",
       " 'GlobalAlgBlkBXVector_gtStage2Digis__RECO.',\n",
       " 'GlobalExtBlkBXVector_gtStage2Digis__RECO.',\n",
       " 'l1tEGammaBXVector_caloStage2Digis_EGamma_RECO.',\n",
       " 'l1tEtSumBXVector_caloStage2Digis_EtSum_RECO.',\n",
       " 'l1tJetBXVector_caloStage2Digis_Jet_RECO.',\n",
       " 'l1tMuonBXVector_gmtStage2Digis_Muon_RECO.',\n",
       " 'l1tTauBXVector_caloStage2Digis_Tau_RECO.',\n",
       " 'HcalNoiseSummary_hcalnoise__RECO.',\n",
       " 'L1GlobalTriggerReadoutRecord_gtDigis__RECO.',\n",
       " 'double_fixedGridRhoAll__RECO.',\n",
       " 'double_fixedGridRhoFastjetAll__RECO.',\n",
       " 'double_fixedGridRhoFastjetAllCalo__RECO.',\n",
       " 'double_fixedGridRhoFastjetCentral__RECO.',\n",
       " 'double_fixedGridRhoFastjetCentralCalo__RECO.',\n",
       " 'double_fixedGridRhoFastjetCentralChargedPileUp__RECO.',\n",
       " 'double_fixedGridRhoFastjetCentralNeutral__RECO.',\n",
       " 'patPackedCandidatesedmAssociation_lowPtGsfLinks_lostTracks_RECO.',\n",
       " 'patPackedCandidatesedmAssociation_lowPtGsfLinks_packedCandidates_RECO.',\n",
       " 'recoDeDxHitInfosedmAssociation_isolatedTracks__RECO.',\n",
       " 'recoBaseTagInfosOwned_slimmedJetsPuppi_tagInfos_RECO.',\n",
       " 'CSCDetIdCSCSegmentsOwnedRangeMap_slimmedMuons__RECO.',\n",
       " 'DTChamberIdDTRecSegment4DsOwnedRangeMap_slimmedMuons__RECO.',\n",
       " 'EcalRecHitsSorted_reducedEgamma_reducedEBRecHits_RECO.',\n",
       " 'EcalRecHitsSorted_reducedEgamma_reducedEERecHits_RECO.',\n",
       " 'EcalRecHitsSorted_reducedEgamma_reducedESRecHits_RECO.',\n",
       " 'HBHERecHitsSorted_reducedEgamma_reducedHBHEHits_RECO.',\n",
       " 'edmTriggerResults_TriggerResults__RECO.',\n",
       " 'floatedmValueMap_lowPtGsfElectronID__RECO.',\n",
       " 'floatedmValueMap_offlineSlimmedPrimaryVertices__RECO.',\n",
       " 'floatedmValueMap_lowPtGsfElectronSeedValueMaps_ptbiased_RECO.',\n",
       " 'floatedmValueMap_lowPtGsfElectronSeedValueMaps_unbiased_RECO.',\n",
       " 'patPackedTriggerPrescales_patTrigger__RECO.',\n",
       " 'patPackedTriggerPrescales_patTrigger_l1max_RECO.',\n",
       " 'patPackedTriggerPrescales_patTrigger_l1min_RECO.',\n",
       " 'recoBeamHaloSummary_BeamHaloSummary__RECO.',\n",
       " 'recoBeamSpot_offlineBeamSpot__RECO.',\n",
       " 'recoCSCHaloData_CSCHaloData__RECO.',\n",
       " 'CTPPSLocalTrackLites_ctppsLocalTrackLiteProducer__RECO.',\n",
       " 'LumiScalerss_scalersRawToDigi__RECO.',\n",
       " 'l1extraL1EmParticles_l1extraParticles_Isolated_RECO.',\n",
       " 'l1extraL1EmParticles_l1extraParticles_NonIsolated_RECO.',\n",
       " 'l1extraL1EtMissParticles_l1extraParticles_MET_RECO.',\n",
       " 'l1extraL1EtMissParticles_l1extraParticles_MHT_RECO.',\n",
       " 'l1extraL1HFRingss_l1extraParticles__RECO.',\n",
       " 'l1extraL1JetParticles_l1extraParticles_Central_RECO.',\n",
       " 'l1extraL1JetParticles_l1extraParticles_Forward_RECO.',\n",
       " 'l1extraL1JetParticles_l1extraParticles_IsoTau_RECO.',\n",
       " 'l1extraL1JetParticles_l1extraParticles_Tau_RECO.',\n",
       " 'l1extraL1MuonParticles_l1extraParticles__RECO.',\n",
       " 'patCompositeCandidates_oniaPhotonCandidates_conversions_RECO.',\n",
       " 'patElectrons_slimmedElectrons__RECO.',\n",
       " 'patElectrons_slimmedLowPtElectrons__RECO.',\n",
       " 'patIsolatedTracks_isolatedTracks__RECO.',\n",
       " 'patJets_slimmedJets__RECO.',\n",
       " 'patJets_slimmedJetsAK8__RECO.',\n",
       " 'patJets_slimmedJetsPuppi__RECO.',\n",
       " 'patJets_slimmedJetsAK8PFPuppiSoftDropPacked_SubJets_RECO.',\n",
       " 'patMETs_slimmedMETs__RECO.',\n",
       " 'patMETs_slimmedMETsNoHF__RECO.',\n",
       " 'patMETs_slimmedMETsPuppi__RECO.',\n",
       " 'patMuons_slimmedMuons__RECO.',\n",
       " 'patPackedCandidates_lostTracks__RECO.',\n",
       " 'patPackedCandidates_packedPFCandidates__RECO.',\n",
       " 'patPackedCandidates_lostTracks_eleTracks_RECO.',\n",
       " 'patPhotons_slimmedOOTPhotons__RECO.',\n",
       " 'patPhotons_slimmedPhotons__RECO.',\n",
       " 'patTaus_slimmedTaus__RECO.',\n",
       " 'patTaus_slimmedTausBoosted__RECO.',\n",
       " 'patTriggerObjectStandAlones_slimmedPatTrigger__RECO.',\n",
       " 'recoCaloClusters_lowPtGsfElectronSuperClusters__RECO.',\n",
       " 'recoCaloClusters_reducedEgamma_reducedEBEEClusters_RECO.',\n",
       " 'recoCaloClusters_reducedEgamma_reducedESClusters_RECO.',\n",
       " 'recoCaloClusters_reducedEgamma_reducedOOTEBEEClusters_RECO.',\n",
       " 'recoCaloClusters_reducedEgamma_reducedOOTESClusters_RECO.',\n",
       " 'recoCaloJets_slimmedCaloJets__RECO.',\n",
       " 'recoConversions_gsfTracksOpenConversions_gsfTracksOpenConversions_RECO.',\n",
       " 'recoConversions_reducedEgamma_reducedConversions_RECO.',\n",
       " 'recoConversions_reducedEgamma_reducedSingleLegConversions_RECO.',\n",
       " 'recoDeDxHitInfos_isolatedTracks__RECO.',\n",
       " 'recoGsfElectronCores_lowPtGsfElectronCores__RECO.',\n",
       " 'recoGsfElectronCores_reducedEgamma_reducedGedGsfElectronCores_RECO.',\n",
       " 'recoGsfTracks_lowPtGsfEleGsfTracks__RECO.',\n",
       " 'recoGsfTracks_reducedEgamma_reducedGsfTracks_RECO.',\n",
       " 'recoPhotonCores_reducedEgamma_reducedGedPhotonCores_RECO.',\n",
       " 'recoPhotonCores_reducedEgamma_reducedOOTPhotonCores_RECO.',\n",
       " 'recoSuperClusters_lowPtGsfElectronSuperClusters__RECO.',\n",
       " 'recoSuperClusters_reducedEgamma_reducedOOTSuperClusters_RECO.',\n",
       " 'recoSuperClusters_reducedEgamma_reducedSuperClusters_RECO.',\n",
       " 'recoTracks_displacedStandAloneMuons__RECO.',\n",
       " 'recoVertexs_offlineSlimmedPrimaryVertices__RECO.',\n",
       " 'recoVertexCompositePtrCandidates_slimmedKshortVertices__RECO.',\n",
       " 'recoVertexCompositePtrCandidates_slimmedLambdaVertices__RECO.',\n",
       " 'recoVertexCompositePtrCandidates_slimmedSecondaryVertices__RECO.',\n",
       " 'Strings_slimmedPatTrigger_filterLabels_RECO.',\n",
       " 'uint_bunchSpacingProducer__RECO.']"
      ]
     },
     "execution_count": 14,
     "metadata": {},
     "output_type": "execute_result"
    }
   ],
   "source": [
    "t['Events'].keys()"
   ]
  },
  {
   "cell_type": "code",
   "execution_count": 16,
   "metadata": {},
   "outputs": [],
   "source": [
    "tf = rt.TFile.Open(fname)"
   ]
  },
  {
   "cell_type": "code",
   "execution_count": 18,
   "metadata": {},
   "outputs": [],
   "source": [
    "ttr = tf.Get('Runs')"
   ]
  },
  {
   "cell_type": "code",
   "execution_count": 21,
   "metadata": {},
   "outputs": [
    {
     "name": "stdout",
     "output_type": "stream",
     "text": [
      "******************************************************************************\n",
      "*Tree    :Runs      :                                                        *\n",
      "*Entries :        2 : Total =            1241 bytes  File  Size =        686 *\n",
      "*        :          : Tree compression factor =   1.00                       *\n",
      "******************************************************************************\n",
      "*Br    0 :RunAuxiliary : edm::RunAuxiliary                                   *\n",
      "*Entries :        2 : Total  Size=        841 bytes  File Size  =        316 *\n",
      "*Baskets :        2 : Basket Size=   10485760 bytes  Compression=   1.00     *\n",
      "*............................................................................*\n"
     ]
    }
   ],
   "source": [
    "ttr.Print()"
   ]
  },
  {
   "cell_type": "code",
   "execution_count": 22,
   "metadata": {},
   "outputs": [
    {
     "name": "stdout",
     "output_type": "stream",
     "text": [
      "<ROOT.edm::RunAuxiliary object at 0xa6939d0>\n",
      "<ROOT.edm::RunAuxiliary object at 0xa6939d0>\n"
     ]
    }
   ],
   "source": [
    "for e in ttr:\n",
    "    print e.RunAuxiliary"
   ]
  },
  {
   "cell_type": "code",
   "execution_count": null,
   "metadata": {},
   "outputs": [],
   "source": []
  }
 ],
 "metadata": {
  "kernelspec": {
   "display_name": "Python 2",
   "language": "python",
   "name": "python2"
  },
  "language_info": {
   "codemirror_mode": {
    "name": "ipython",
    "version": 2
   },
   "file_extension": ".py",
   "mimetype": "text/x-python",
   "name": "python",
   "nbconvert_exporter": "python",
   "pygments_lexer": "ipython2",
   "version": "2.7.14+"
  }
 },
 "nbformat": 4,
 "nbformat_minor": 2
}
