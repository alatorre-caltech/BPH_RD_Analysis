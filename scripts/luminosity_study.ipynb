{
 "cells": [
  {
   "cell_type": "code",
   "execution_count": 8,
   "metadata": {
    "ExecuteTime": {
     "end_time": "2019-10-07T19:50:25.376418Z",
     "start_time": "2019-10-07T19:50:25.372171Z"
    }
   },
   "outputs": [],
   "source": [
    "from glob import glob"
   ]
  },
  {
   "cell_type": "code",
   "execution_count": 1,
   "metadata": {
    "ExecuteTime": {
     "end_time": "2019-10-07T19:48:00.791718Z",
     "start_time": "2019-10-07T19:48:00.786088Z"
    }
   },
   "outputs": [],
   "source": [
    "fname = '../data/cmsRD/lumiReport/ParkingBPH1_Run2018A-05May2019-v1_RDntuplizer_B2JpsiKst_191002_bricalc.csv'"
   ]
  },
  {
   "cell_type": "code",
   "execution_count": 2,
   "metadata": {
    "ExecuteTime": {
     "end_time": "2019-10-07T19:48:33.398153Z",
     "start_time": "2019-10-07T19:48:33.393316Z"
    }
   },
   "outputs": [],
   "source": [
    "lines = open(fname, 'r').readlines()"
   ]
  },
  {
   "cell_type": "code",
   "execution_count": 6,
   "metadata": {
    "ExecuteTime": {
     "end_time": "2019-10-07T19:49:14.706592Z",
     "start_time": "2019-10-07T19:49:14.698324Z"
    }
   },
   "outputs": [
    {
     "data": {
      "text/plain": [
       "'4.615945408'"
      ]
     },
     "execution_count": 6,
     "metadata": {},
     "output_type": "execute_result"
    }
   ],
   "source": [
    "lines[-3][:-1].split(',')[-1]"
   ]
  },
  {
   "cell_type": "code",
   "execution_count": 9,
   "metadata": {
    "ExecuteTime": {
     "end_time": "2019-10-07T19:52:28.112337Z",
     "start_time": "2019-10-07T19:52:28.029580Z"
    }
   },
   "outputs": [
    {
     "name": "stdout",
     "output_type": "stream",
     "text": [
      "ParkingBPH1 Run2018A 4.6 fb^-1\n",
      "ParkingBPH1 Run2018B 4.9 fb^-1\n",
      "ParkingBPH1 Run2018C 5.5 fb^-1\n",
      "ParkingBPH1 Run2018D 26.0 fb^-1\n",
      "ParkingBPH2 Run2018A 4.6 fb^-1\n",
      "ParkingBPH2 Run2018B 4.9 fb^-1\n",
      "ParkingBPH2 Run2018C 5.5 fb^-1\n",
      "ParkingBPH2 Run2018D 26.2 fb^-1\n",
      "ParkingBPH3 Run2018A 4.6 fb^-1\n",
      "ParkingBPH3 Run2018B 4.9 fb^-1\n",
      "ParkingBPH3 Run2018C 5.5 fb^-1\n",
      "ParkingBPH3 Run2018D 25.7 fb^-1\n"
     ]
    }
   ],
   "source": [
    "for fname in glob('../data/cmsRD/lumiReport/*.csv'):\n",
    "    lines = open(fname, 'r').readlines()\n",
    "    lumi = float(lines[-3][:-1].split(',')[-1])\n",
    "    \n",
    "    aux = fname.split('/')[-1]\n",
    "    ds = aux.split('_')[0]\n",
    "    era = aux.split('_')[1][:8]\n",
    "    print ds, era, '{:.1f} fb^-1'.format(lumi)"
   ]
  },
  {
   "cell_type": "code",
   "execution_count": null,
   "metadata": {},
   "outputs": [],
   "source": []
  }
 ],
 "metadata": {
  "kernelspec": {
   "display_name": "Python 2",
   "language": "python",
   "name": "python2"
  },
  "language_info": {
   "codemirror_mode": {
    "name": "ipython",
    "version": 2
   },
   "file_extension": ".py",
   "mimetype": "text/x-python",
   "name": "python",
   "nbconvert_exporter": "python",
   "pygments_lexer": "ipython2",
   "version": "2.7.14"
  }
 },
 "nbformat": 4,
 "nbformat_minor": 2
}
