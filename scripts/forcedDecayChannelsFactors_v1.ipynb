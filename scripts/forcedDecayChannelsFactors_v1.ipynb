{
 "cells": [
  {
   "cell_type": "code",
   "execution_count": 1,
   "metadata": {
    "ExecuteTime": {
     "end_time": "2020-11-11T06:22:04.364427Z",
     "start_time": "2020-11-11T06:22:04.170939Z"
    }
   },
   "outputs": [],
   "source": [
    "import os, pickle\n",
    "from math import sqrt\n",
    "import numpy as np"
   ]
  },
  {
   "cell_type": "code",
   "execution_count": 2,
   "metadata": {
    "ExecuteTime": {
     "end_time": "2020-11-11T06:22:04.377456Z",
     "start_time": "2020-11-11T06:22:04.369348Z"
    }
   },
   "outputs": [],
   "source": [
    "def sumWithUnc(nList):\n",
    "    x = 0\n",
    "    dx = 0\n",
    "    for b in nList:\n",
    "        x += b[0]\n",
    "        dx += b[1]**2\n",
    "    dx = sqrt(dx)\n",
    "    print '{:1.2e} +/- {:1.2e} ({:.2f}%)'.format(x, dx, 100*dx/x)\n",
    "    return np.array([x, dx])"
   ]
  },
  {
   "cell_type": "code",
   "execution_count": 3,
   "metadata": {
    "ExecuteTime": {
     "end_time": "2020-11-11T06:22:04.410119Z",
     "start_time": "2020-11-11T06:22:04.382267Z"
    }
   },
   "outputs": [],
   "source": [
    "# Create the output dictionary\n",
    "dout = {}"
   ]
  },
  {
   "cell_type": "code",
   "execution_count": 4,
   "metadata": {
    "ExecuteTime": {
     "end_time": "2020-11-11T06:22:04.433523Z",
     "start_time": "2020-11-11T06:22:04.414825Z"
    }
   },
   "outputs": [],
   "source": [
    "# https://pdglive.lbl.gov/BranchingRatio.action?desig=1&parCode=S035\n",
    "tau_to_MuNuNu = [0.1739, 0.0004]"
   ]
  },
  {
   "cell_type": "code",
   "execution_count": 5,
   "metadata": {
    "ExecuteTime": {
     "end_time": "2020-11-11T06:22:04.464843Z",
     "start_time": "2020-11-11T06:22:04.438005Z"
    }
   },
   "outputs": [],
   "source": [
    "# https://pdglive.lbl.gov/Particle.action?init=0&node=M018&home=MXXX020\n",
    "Kst_to_KPi = [1., 1e-4]"
   ]
  },
  {
   "cell_type": "code",
   "execution_count": 6,
   "metadata": {
    "ExecuteTime": {
     "end_time": "2020-11-11T06:22:04.496350Z",
     "start_time": "2020-11-11T06:22:04.469238Z"
    }
   },
   "outputs": [],
   "source": [
    "# https://pdglive.lbl.gov/Particle.action?init=0&node=S032&home=MXXX035#decayclump_C (Gamma 35)\n",
    "antiD0_to_KpPim = [0.03950, 0.00031]\n",
    "dout['antiD0_K+pi-'] = antiD0_to_KpPim\n",
    "\n",
    "# https://pdglive.lbl.gov/Particle.action?init=0&node=M062&home=MXXX035 (Gamma 1)\n",
    "Dstm_to_antiD0Pim = [0.677, 0.005]\n",
    "dout['D*-_antiD0pi-'] = Dstm_to_antiD0Pim\n",
    "\n",
    "# antiD10_to_DstmPip = [0.6667, 0.3]"
   ]
  },
  {
   "cell_type": "code",
   "execution_count": 7,
   "metadata": {
    "ExecuteTime": {
     "end_time": "2020-11-11T06:22:04.523486Z",
     "start_time": "2020-11-11T06:22:04.501096Z"
    }
   },
   "outputs": [],
   "source": [
    "# https://pdglive.lbl.gov/Particle.action?init=0&node=M070&home=MXXX025 (Gamma 7)\n",
    "JPsi_to_MuMu = [5.961e-2, 0.033e-2]"
   ]
  },
  {
   "cell_type": "code",
   "execution_count": 8,
   "metadata": {
    "ExecuteTime": {
     "end_time": "2020-11-11T06:22:04.541231Z",
     "start_time": "2020-11-11T06:22:04.527015Z"
    }
   },
   "outputs": [],
   "source": [
    "# Not sure\n",
    "Dsp_to_MuX = [6.33e-2, 1e-2]"
   ]
  },
  {
   "cell_type": "code",
   "execution_count": 9,
   "metadata": {
    "ExecuteTime": {
     "end_time": "2020-11-11T06:22:04.579263Z",
     "start_time": "2020-11-11T06:22:04.545980Z"
    }
   },
   "outputs": [],
   "source": [
    "# https://pdglive.lbl.gov/Particle.action?init=0&node=S032&home=MXXX035#decayclump_A (Gamma 6)\n",
    "D0_to_Mu = [6.8e-2, 0.6e-2]\n",
    "\n",
    "# https://pdglive.lbl.gov/Particle.action?init=0&node=S031&home=MXXX035#decayclump_A (Gamma 2)\n",
    "Dp_to_Mu = [17.6e-2, 3.2e-2]\n",
    "\n",
    "# https://pdglive.lbl.gov/Particle.action?init=0&node=S034&home=MXXX040#decayclump_C\n",
    "# Gamma 20,21,25,29,30\n",
    "Dsp_to_Mu = [7.2e-2, 0.8e-2]"
   ]
  },
  {
   "cell_type": "code",
   "execution_count": 10,
   "metadata": {
    "ExecuteTime": {
     "end_time": "2020-11-11T06:22:04.605740Z",
     "start_time": "2020-11-11T06:22:04.583619Z"
    }
   },
   "outputs": [],
   "source": [
    "#this uncertainties will be treated a posteriori in the datacard\n",
    "B0_to_DstmD0 = [3.23e-2, 1e-6]\n",
    "B0_to_DstmDp = [1.24e-2, 1e-6]\n",
    "B0_to_DstmDsp = [2.67e-2, 1e-6]"
   ]
  },
  {
   "cell_type": "code",
   "execution_count": 11,
   "metadata": {
    "ExecuteTime": {
     "end_time": "2020-11-11T06:22:04.637507Z",
     "start_time": "2020-11-11T06:22:04.610470Z"
    }
   },
   "outputs": [],
   "source": [
    "# https://pdglive.lbl.gov/Particle.action?init=0&node=S042&home=MXXX045 (Gamma 6)\n",
    "B0_to_DstmEllNu = np.array([5.05e-2, 0.14e-2])\n",
    "B0_to_DstmMuNu = 0.5*B0_to_DstmEllNu"
   ]
  },
  {
   "cell_type": "code",
   "execution_count": 12,
   "metadata": {
    "ExecuteTime": {
     "end_time": "2020-11-11T06:22:04.662981Z",
     "start_time": "2020-11-11T06:22:04.642007Z"
    }
   },
   "outputs": [],
   "source": [
    "# Not sure\n",
    "B0_to_DstHc = [10.2e-2 , 2e-2]"
   ]
  },
  {
   "cell_type": "code",
   "execution_count": 13,
   "metadata": {
    "ExecuteTime": {
     "end_time": "2020-11-11T06:22:04.697549Z",
     "start_time": "2020-11-11T06:22:04.667350Z"
    }
   },
   "outputs": [
    {
     "name": "stdout",
     "output_type": "stream",
     "text": [
      "1.39e-03 +/- 1.70e-04 (12.25%)\n"
     ]
    }
   ],
   "source": [
    "# Sum of Gamma 202 and 203\n",
    "Bp_to_DmstHc = sumWithUnc([[6.0e-4, 1.3e-4], [7.9e-4, 1.1e-4]])"
   ]
  },
  {
   "cell_type": "code",
   "execution_count": 14,
   "metadata": {
    "ExecuteTime": {
     "end_time": "2020-11-11T06:22:04.729220Z",
     "start_time": "2020-11-11T06:22:04.701939Z"
    }
   },
   "outputs": [
    {
     "name": "stdout",
     "output_type": "stream",
     "text": [
      "6.41e-03 +/- 5.13e-04 (8.00%)\n"
     ]
    }
   ],
   "source": [
    "# Scaled sum of PDG gamma: 194, 195, 202 and 203\n",
    "Bm_to_DmstHc = sumWithUnc([[1.47e-3, 0.15e-3], \n",
    "                           [3.55e-3, 0.46e-3],\n",
    "                           [6.0e-4, 1.3e-4], \n",
    "                           [7.9e-4, 1.1e-4]\n",
    "                          ])"
   ]
  },
  {
   "cell_type": "code",
   "execution_count": 15,
   "metadata": {
    "ExecuteTime": {
     "end_time": "2020-11-11T06:22:04.764421Z",
     "start_time": "2020-11-11T06:22:04.733853Z"
    }
   },
   "outputs": [
    {
     "name": "stdout",
     "output_type": "stream",
     "text": [
      "8.02e-03 +/- 4.80e-04 (5.99%)\n"
     ]
    }
   ],
   "source": [
    "# Sum of Gamma 172 and 173\n",
    "antiB0_to_DmstHc = sumWithUnc([[3.2e-3, 0.25e-3], [4.82e-3, 0.41e-3]])"
   ]
  },
  {
   "cell_type": "code",
   "execution_count": 16,
   "metadata": {
    "ExecuteTime": {
     "end_time": "2020-11-11T06:22:04.793818Z",
     "start_time": "2020-11-11T06:22:04.768993Z"
    }
   },
   "outputs": [],
   "source": [
    "# https://pdglive.lbl.gov/Particle.action?init=0&node=S042&home=MXXX045#decayclump_C (Gamma 200)\n",
    "B0_to_JPsiKst = [1.27e-3, 0.05e-3]"
   ]
  },
  {
   "cell_type": "code",
   "execution_count": 17,
   "metadata": {
    "ExecuteTime": {
     "end_time": "2020-11-11T06:22:04.828923Z",
     "start_time": "2020-11-11T06:22:04.798699Z"
    }
   },
   "outputs": [],
   "source": [
    "# Bp_to_D10MuNu_to_DstmPip = [3.03e-3 , 0.20e-3]\n",
    "# Bp_to_D1primeMuNu_to_DstmPip = [2.70e-3 , 0.6e-3]\n",
    "# Bp_to_D2stMuNu_to_DstmPip = [1.01e-3, 0.24e-3]\n",
    "\n",
    "# https://pdglive.lbl.gov/Particle.action?init=0&node=S041&home=MXXX045#decayclump_A (Gamma 12)\n",
    "Bp_to_DstPiEllNu = np.array([6e-3, 0.4e-3])\n",
    "Bp_to_DststMuNu_To_DstmPip = 0.5*Bp_to_DstPiEllNu\n",
    "\n",
    "# Assuming isospin and compativle with Gamma(B0) 12/2\n",
    "B0_to_DstPi0MuNu = 0.5*Bp_to_DststMuNu_To_DstmPip"
   ]
  },
  {
   "cell_type": "code",
   "execution_count": 18,
   "metadata": {
    "ExecuteTime": {
     "end_time": "2020-11-11T06:22:04.856367Z",
     "start_time": "2020-11-11T06:22:04.833602Z"
    }
   },
   "outputs": [],
   "source": [
    "# https://inspirehep.net/literature/1385752\n",
    "RstPipPim = np.array([0.019, np.hypot(0.005, 0.004)])\n",
    "\n",
    "B0_to_DstPipPimMuNu = B0_to_DstmMuNu * RstPipPim\n",
    "Bp_to_DstPipPi0MuNu = B0_to_DstPipPimMuNu/2 # isospin symm\n",
    "B0_to_DstPi0Pi0MuNu = B0_to_DstPipPimMuNu/4 # isospin symm"
   ]
  },
  {
   "cell_type": "code",
   "execution_count": 19,
   "metadata": {
    "ExecuteTime": {
     "end_time": "2020-11-11T06:22:04.894100Z",
     "start_time": "2020-11-11T06:22:04.862316Z"
    }
   },
   "outputs": [
    {
     "name": "stdout",
     "output_type": "stream",
     "text": [
      "4.65e-03 +/- 5.27e-03 (113.36%)\n",
      "1.16e-03 +/- 1.32e-03 (113.36%)\n"
     ]
    }
   ],
   "source": [
    "# https://pdglive.lbl.gov/Particle.action?init=0&node=S042&home=MXXX045#decayclump_C (Gamma 11)\n",
    "B0_to_DnPiEllNu = np.array([0.023, 0.005])\n",
    "\n",
    "B0_to_D0PimEllNu = np.array([4.1e-3, 0.5e-3]) # (Gamma 8)\n",
    "B0_to_DPiEllNu = 1.5*B0_to_D0PimEllNu\n",
    "\n",
    "B0_to_Dst0PimEllNu = np.array([5.8e-3, 0.8e-3]) # (Gamma 12)\n",
    "B0_to_DstPiEllNu = 1.5*B0_to_Dst0PimEllNu\n",
    "\n",
    "B0_to_DstPipPimEllNu = np.array([1.4e-3, 0.5e-3]) # (Gamma 17)\n",
    "B0_to_DstPiPiEllNu = (5./4.)*B0_to_DstPipPimEllNu\n",
    "B0_to_DPiPiEllNu = B0_to_DstPiPiEllNu\n",
    "\n",
    "missingGamma = sumWithUnc([B0_to_DnPiEllNu, -B0_to_DPiEllNu, -B0_to_DstPiEllNu, \n",
    "                           -B0_to_DstPiPiEllNu, -B0_to_DPiPiEllNu])\n",
    "\n",
    "B0_to_DstPiPiPiMuNu = sumWithUnc([missingGamma / (2*2)]) # half are D and not Dst; half are electrons and not muon"
   ]
  },
  {
   "cell_type": "code",
   "execution_count": 20,
   "metadata": {
    "ExecuteTime": {
     "end_time": "2020-11-11T06:22:04.919870Z",
     "start_time": "2020-11-11T06:22:04.900401Z"
    }
   },
   "outputs": [],
   "source": [
    "def computeBr(dl):\n",
    "    r = 1\n",
    "    e2_dr_r = 0\n",
    "    for c in dl:\n",
    "        r *= c[0]\n",
    "        e2_dr_r += (c[1]/c[0])**2\n",
    "    dr = sqrt(e2_dr_r)*r\n",
    "    print '{:1.2e} +/- {:1.2e} ({:.2f}%)'.format(r, dr, 100*dr/r)\n",
    "    return [r, dr]"
   ]
  },
  {
   "cell_type": "markdown",
   "metadata": {
    "heading_collapsed": true
   },
   "source": [
    "# Compute intemerdiate results"
   ]
  },
  {
   "cell_type": "markdown",
   "metadata": {
    "hidden": true
   },
   "source": [
    "## $D_{s}$"
   ]
  },
  {
   "cell_type": "code",
   "execution_count": 21,
   "metadata": {
    "ExecuteTime": {
     "end_time": "2020-11-11T06:22:04.938293Z",
     "start_time": "2020-11-11T06:22:04.925952Z"
    },
    "hidden": true
   },
   "outputs": [
    {
     "name": "stdout",
     "output_type": "stream",
     "text": [
      "9.57e-03 +/- 3.49e-04 (3.64%)\n",
      "7.21e-02 +/- 8.73e-03 (12.11%)\n"
     ]
    }
   ],
   "source": [
    "Dsp_to_MuNuX_dic = {\n",
    "'eta'        : [2.4e-2, 0.5e-2],\n",
    "'eta_prime'  : [1.1e-2, 0.5e-2],\n",
    "'phi'        : [1.9e-2, 0.5e-2],\n",
    "''           : [0.55e-2, 0.02e-2],\n",
    "'doubleNutau': computeBr([[0.055, 0.002], [0.1740, 0.0004]]),\n",
    "'K0'         : [0.3e-2, 0.1e-2]\n",
    "}\n",
    "\n",
    "Dsp_to_MuNuX_sum = sumWithUnc(Dsp_to_MuNuX_dic.values())"
   ]
  },
  {
   "cell_type": "code",
   "execution_count": 22,
   "metadata": {
    "ExecuteTime": {
     "end_time": "2020-11-11T06:22:04.966596Z",
     "start_time": "2020-11-11T06:22:04.944505Z"
    },
    "hidden": true
   },
   "outputs": [],
   "source": [
    "Dsp_to_MuNuX_0tks = {\n",
    "'eta'        : 0.72,\n",
    "'eta_prime'  : 0.23,\n",
    "'phi'        : 0.12,\n",
    "''           : 1.,\n",
    "'doubleNutau': 1.,\n",
    "'K0'         : 0.5\n",
    "}"
   ]
  },
  {
   "cell_type": "code",
   "execution_count": 23,
   "metadata": {
    "ExecuteTime": {
     "end_time": "2020-11-11T06:22:04.992632Z",
     "start_time": "2020-11-11T06:22:04.972782Z"
    },
    "hidden": true
   },
   "outputs": [],
   "source": [
    "r0Tks = np.sum([Dsp_to_MuNuX_0tks[n]*Dsp_to_MuNuX_dic[n][0] for n in Dsp_to_MuNuX_0tks.keys()])/Dsp_to_MuNuX_sum[0]"
   ]
  },
  {
   "cell_type": "code",
   "execution_count": 24,
   "metadata": {
    "ExecuteTime": {
     "end_time": "2020-11-11T06:22:05.048344Z",
     "start_time": "2020-11-11T06:22:04.998503Z"
    },
    "hidden": true
   },
   "outputs": [],
   "source": [
    "def dR_dBn(n, R):\n",
    "    return (Dsp_to_MuNuX_0tks[n] - R)/Dsp_to_MuNuX_sum[0]"
   ]
  },
  {
   "cell_type": "code",
   "execution_count": 25,
   "metadata": {
    "ExecuteTime": {
     "end_time": "2020-11-11T06:22:05.112345Z",
     "start_time": "2020-11-11T06:22:05.053707Z"
    },
    "hidden": true
   },
   "outputs": [
    {
     "name": "stdout",
     "output_type": "stream",
     "text": [
      "5.36e-01 +/- 3.82e-02 (7.11%)\n"
     ]
    }
   ],
   "source": [
    "s2_r0Tks = 0\n",
    "for n in Dsp_to_MuNuX_0tks.keys():\n",
    "    s2_r0Tks += dR_dBn(n, r0Tks)**2 * Dsp_to_MuNuX_dic[n][1]**2\n",
    "s_r0Tks = sqrt(s2_r0Tks)\n",
    "\n",
    "print '{:1.2e} +/- {:1.2e} ({:.2f}%)'.format(r0Tks, s_r0Tks, 100*s_r0Tks/r0Tks)\n",
    "Dsp_r0Tks = [r0Tks, s_r0Tks]"
   ]
  },
  {
   "cell_type": "markdown",
   "metadata": {
    "hidden": true
   },
   "source": [
    "## $D_0$"
   ]
  },
  {
   "cell_type": "code",
   "execution_count": 26,
   "metadata": {
    "ExecuteTime": {
     "end_time": "2020-11-11T06:22:05.146814Z",
     "start_time": "2020-11-11T06:22:05.118042Z"
    },
    "hidden": true
   },
   "outputs": [
    {
     "name": "stdout",
     "output_type": "stream",
     "text": [
      "5.56e-02 +/- 2.44e-03 (4.38%)\n"
     ]
    }
   ],
   "source": [
    "D0_to_MuNuX_dic = {\n",
    "'K-'         : [3.41e-2, 0.04e-2],\n",
    "'Kst-'       : [1.89e-2, 0.24e-2],\n",
    "'pi-'        : [0.26e-2, 0.01e-2],\n",
    "# 'rho-'       : [0.5e-2, 0.3e-2],\n",
    "# 'antiK0_pi-' : [0.5e-2, 0.3e-2],\n",
    "}\n",
    "\n",
    "D0_to_MuNuX_sum = sumWithUnc(D0_to_MuNuX_dic.values())"
   ]
  },
  {
   "cell_type": "markdown",
   "metadata": {
    "hidden": true
   },
   "source": [
    "They all essentially do 1 tracks in the final state"
   ]
  },
  {
   "cell_type": "markdown",
   "metadata": {
    "hidden": true
   },
   "source": [
    "## $D^+$"
   ]
  },
  {
   "cell_type": "code",
   "execution_count": 27,
   "metadata": {
    "ExecuteTime": {
     "end_time": "2020-11-11T06:22:05.166160Z",
     "start_time": "2020-11-11T06:22:05.151593Z"
    },
    "hidden": true
   },
   "outputs": [
    {
     "name": "stdout",
     "output_type": "stream",
     "text": [
      "1.77e-01 +/- 4.17e-03 (2.36%)\n"
     ]
    }
   ],
   "source": [
    "Dp_to_MuNuX_dic = {\n",
    "'antiK0'    : [8.76e-2, 0.19e-2],\n",
    "'K-pi+'     : [3.65e-2, 0.34e-2],\n",
    "'antiK*0'   : [5.27e-2, 0.15e-2],\n",
    "}\n",
    "\n",
    "Dp_to_MuNuX_sum = sumWithUnc(Dp_to_MuNuX_dic.values())"
   ]
  },
  {
   "cell_type": "code",
   "execution_count": 28,
   "metadata": {
    "ExecuteTime": {
     "end_time": "2020-11-11T06:22:05.183857Z",
     "start_time": "2020-11-11T06:22:05.171399Z"
    },
    "hidden": true
   },
   "outputs": [],
   "source": [
    "Dp_to_MuNuX_0tks = {\n",
    "'antiK0'    : 1-0.7*0.5,\n",
    "'K-pi+'     : 0,\n",
    "'antiK*0'   : 0.33\n",
    "}"
   ]
  },
  {
   "cell_type": "code",
   "execution_count": 29,
   "metadata": {
    "ExecuteTime": {
     "end_time": "2020-11-11T06:22:05.209865Z",
     "start_time": "2020-11-11T06:22:05.189104Z"
    },
    "hidden": true
   },
   "outputs": [
    {
     "name": "stdout",
     "output_type": "stream",
     "text": [
      "4.20e-01 +/- 8.49e-03 (2.02%)\n"
     ]
    }
   ],
   "source": [
    "r0Tks = np.sum([Dp_to_MuNuX_0tks[n]*Dp_to_MuNuX_dic[n][0] for n in Dp_to_MuNuX_0tks.keys()])/Dp_to_MuNuX_sum[0]\n",
    "s2_r0Tks = 0\n",
    "for n in Dp_to_MuNuX_0tks.keys():\n",
    "    s2_r0Tks += ((Dp_to_MuNuX_0tks[n] - r0Tks)/Dp_to_MuNuX_sum[0])**2 * Dp_to_MuNuX_dic[n][1]**2\n",
    "s_r0Tks = sqrt(s2_r0Tks)\n",
    "\n",
    "print '{:1.2e} +/- {:1.2e} ({:.2f}%)'.format(r0Tks, s_r0Tks, 100*s_r0Tks/r0Tks)\n",
    "Dp_r0Tks = [r0Tks, s_r0Tks]"
   ]
  },
  {
   "cell_type": "markdown",
   "metadata": {
    "hidden": true
   },
   "source": [
    "## $B_0 \\to D^*H_c$"
   ]
  },
  {
   "cell_type": "code",
   "execution_count": 30,
   "metadata": {
    "ExecuteTime": {
     "end_time": "2020-11-11T06:22:05.262124Z",
     "start_time": "2020-11-11T06:22:05.213593Z"
    },
    "hidden": true
   },
   "outputs": [
    {
     "name": "stdout",
     "output_type": "stream",
     "text": [
      "5.01e-02 +/- 2.15e-03 (4.29%)\n"
     ]
    }
   ],
   "source": [
    "B0_to_DstHc_dic = {\n",
    "'D*-Ds+'   : [0.80e-2, 0.10e-2],\n",
    "'D*-Ds*+'  : [1.77e-2, 0.15e-2],\n",
    "'D*-D0K+'  : [0.25e-2, 0.02e-2],\n",
    "'D*-D*0K+' : [1.06e-2, 0.09e-2],\n",
    "'D*-D+K0'  : [0.32e-2, 0.02e-2],\n",
    "'D*-D*+K0' : [0.81e-2, 0.07e-2],\n",
    "}\n",
    "B0_to_DstHc_sum = sumWithUnc(B0_to_DstHc_dic.values())"
   ]
  },
  {
   "cell_type": "markdown",
   "metadata": {},
   "source": [
    "# Define the actual factors"
   ]
  },
  {
   "cell_type": "code",
   "execution_count": 31,
   "metadata": {
    "ExecuteTime": {
     "end_time": "2020-11-11T06:22:05.282014Z",
     "start_time": "2020-11-11T06:22:05.265836Z"
    }
   },
   "outputs": [
    {
     "name": "stdout",
     "output_type": "stream",
     "text": [
      "6.75e-04 +/- 2.01e-05 (2.97%)\n"
     ]
    }
   ],
   "source": [
    "dout['mu'] = computeBr([B0_to_DstmMuNu, Dstm_to_antiD0Pim, antiD0_to_KpPim])"
   ]
  },
  {
   "cell_type": "code",
   "execution_count": 32,
   "metadata": {
    "ExecuteTime": {
     "end_time": "2020-11-11T06:22:05.319367Z",
     "start_time": "2020-11-11T06:22:05.286748Z"
    }
   },
   "outputs": [
    {
     "name": "stdout",
     "output_type": "stream",
     "text": [
      "2.35e-04 +/- 7.01e-06 (2.98%)\n"
     ]
    }
   ],
   "source": [
    "# Tau gets everything but R(D*)\n",
    "dout['tau'] = computeBr([B0_to_DstmEllNu, Dstm_to_antiD0Pim, antiD0_to_KpPim, tau_to_MuNuNu])"
   ]
  },
  {
   "cell_type": "code",
   "execution_count": 33,
   "metadata": {
    "ExecuteTime": {
     "end_time": "2020-11-11T06:22:05.373538Z",
     "start_time": "2020-11-11T06:22:05.323518Z"
    }
   },
   "outputs": [
    {
     "name": "stdout",
     "output_type": "stream",
     "text": [
      "8.02e-05 +/- 5.42e-06 (6.75%)\n"
     ]
    }
   ],
   "source": [
    "dout['DstPip'] = computeBr([Bp_to_DststMuNu_To_DstmPip, Dstm_to_antiD0Pim, antiD0_to_KpPim])"
   ]
  },
  {
   "cell_type": "code",
   "execution_count": 34,
   "metadata": {
    "ExecuteTime": {
     "end_time": "2020-11-11T06:22:05.406957Z",
     "start_time": "2020-11-11T06:22:05.378145Z"
    }
   },
   "outputs": [
    {
     "name": "stdout",
     "output_type": "stream",
     "text": [
      "4.01e-05 +/- 2.71e-06 (6.75%)\n"
     ]
    }
   ],
   "source": [
    "dout['DstPi0'] = computeBr([B0_to_DstPi0MuNu, Dstm_to_antiD0Pim, antiD0_to_KpPim])"
   ]
  },
  {
   "cell_type": "code",
   "execution_count": 35,
   "metadata": {
    "ExecuteTime": {
     "end_time": "2020-11-11T06:22:05.448434Z",
     "start_time": "2020-11-11T06:22:05.411488Z"
    }
   },
   "outputs": [
    {
     "name": "stdout",
     "output_type": "stream",
     "text": [
      "6.41e-06 +/- 9.15e-08 (1.43%)\n"
     ]
    }
   ],
   "source": [
    "dout['DstPipPi0'] = computeBr([Bp_to_DstPipPi0MuNu, Dstm_to_antiD0Pim, antiD0_to_KpPim])"
   ]
  },
  {
   "cell_type": "code",
   "execution_count": 36,
   "metadata": {
    "ExecuteTime": {
     "end_time": "2020-11-11T06:22:05.512475Z",
     "start_time": "2020-11-11T06:22:05.452886Z"
    }
   },
   "outputs": [
    {
     "name": "stdout",
     "output_type": "stream",
     "text": [
      "1.28e-05 +/- 1.83e-07 (1.43%)\n"
     ]
    }
   ],
   "source": [
    "dout['DstPipPim'] = computeBr([B0_to_DstPipPimMuNu, Dstm_to_antiD0Pim, antiD0_to_KpPim])"
   ]
  },
  {
   "cell_type": "code",
   "execution_count": 37,
   "metadata": {
    "ExecuteTime": {
     "end_time": "2020-11-11T06:22:05.571349Z",
     "start_time": "2020-11-11T06:22:05.517387Z"
    }
   },
   "outputs": [
    {
     "name": "stdout",
     "output_type": "stream",
     "text": [
      "3.21e-06 +/- 4.57e-08 (1.43%)\n"
     ]
    }
   ],
   "source": [
    "dout['DstPi0Pi0'] = computeBr([B0_to_DstPi0Pi0MuNu, Dstm_to_antiD0Pim, antiD0_to_KpPim])"
   ]
  },
  {
   "cell_type": "code",
   "execution_count": 38,
   "metadata": {
    "ExecuteTime": {
     "end_time": "2020-11-11T06:22:05.618969Z",
     "start_time": "2020-11-11T06:22:05.575929Z"
    }
   },
   "outputs": [
    {
     "name": "stdout",
     "output_type": "stream",
     "text": [
      "3.11e-05 +/- 3.52e-05 (113.36%)\n"
     ]
    }
   ],
   "source": [
    "dout['DstPiPiPi'] = computeBr([B0_to_DstPiPiPiMuNu, Dstm_to_antiD0Pim, antiD0_to_KpPim])"
   ]
  },
  {
   "cell_type": "code",
   "execution_count": 39,
   "metadata": {
    "ExecuteTime": {
     "end_time": "2020-11-11T06:22:05.672823Z",
     "start_time": "2020-11-11T06:22:05.623407Z"
    }
   },
   "outputs": [
    {
     "name": "stdout",
     "output_type": "stream",
     "text": [
      "1.74e-06 +/- 3.68e-07 (21.11%)\n",
      "3.49e-06 +/- 7.36e-07 (21.11%)\n"
     ]
    }
   ],
   "source": [
    "RDst = [0.25, 0.05]\n",
    "dout['TauDstPi0'] = computeBr([RDst, B0_to_DstPi0MuNu, Dstm_to_antiD0Pim, antiD0_to_KpPim, tau_to_MuNuNu])\n",
    "dout['TauDstPip'] = computeBr([RDst, Bp_to_DststMuNu_To_DstmPip, Dstm_to_antiD0Pim, antiD0_to_KpPim, tau_to_MuNuNu])"
   ]
  },
  {
   "cell_type": "code",
   "execution_count": 40,
   "metadata": {
    "ExecuteTime": {
     "end_time": "2020-11-11T06:22:05.708604Z",
     "start_time": "2020-11-11T06:22:05.677203Z"
    }
   },
   "outputs": [
    {
     "name": "stdout",
     "output_type": "stream",
     "text": [
      "1.73e-04 +/- 4.35e-05 (25.20%)\n"
     ]
    }
   ],
   "source": [
    "dout['Hc'] = computeBr([B0_to_DstHc, Dsp_to_MuX, Dstm_to_antiD0Pim, antiD0_to_KpPim])"
   ]
  },
  {
   "cell_type": "code",
   "execution_count": 41,
   "metadata": {
    "ExecuteTime": {
     "end_time": "2020-11-11T06:22:05.741411Z",
     "start_time": "2020-11-11T06:22:05.712120Z"
    }
   },
   "outputs": [
    {
     "name": "stdout",
     "output_type": "stream",
     "text": [
      "5.87e-05 +/- 5.22e-06 (8.89%)\n",
      "5.84e-05 +/- 1.06e-05 (18.21%)\n",
      "5.14e-05 +/- 5.74e-06 (11.16%)\n"
     ]
    }
   ],
   "source": [
    "dout['DstmD0'] = computeBr([B0_to_DstmD0, D0_to_Mu, Dstm_to_antiD0Pim, antiD0_to_KpPim])\n",
    "dout['DstmDp'] = computeBr([B0_to_DstmDp, Dp_to_Mu, Dstm_to_antiD0Pim, antiD0_to_KpPim])\n",
    "dout['DstmDsp'] = computeBr([B0_to_DstmDsp, Dsp_to_Mu, Dstm_to_antiD0Pim, antiD0_to_KpPim])"
   ]
  },
  {
   "cell_type": "code",
   "execution_count": 42,
   "metadata": {
    "ExecuteTime": {
     "end_time": "2020-11-11T06:22:05.762621Z",
     "start_time": "2020-11-11T06:22:05.744861Z"
    }
   },
   "outputs": [
    {
     "name": "stdout",
     "output_type": "stream",
     "text": [
      "6.54e-06 +/- 1.44e-06 (21.95%)\n",
      "3.02e-05 +/- 6.00e-06 (19.89%)\n",
      "3.77e-05 +/- 7.24e-06 (19.17%)\n"
     ]
    }
   ],
   "source": [
    "dout['BpDstmHc'] = computeBr([Bp_to_DmstHc, Dp_to_Mu, Dstm_to_antiD0Pim, antiD0_to_KpPim])\n",
    "dout['BmDstmHc'] = computeBr([Bm_to_DmstHc, Dp_to_Mu, Dstm_to_antiD0Pim, antiD0_to_KpPim])\n",
    "dout['antiB0DstmHc'] = computeBr([antiB0_to_DmstHc, Dp_to_Mu, Dstm_to_antiD0Pim, antiD0_to_KpPim])"
   ]
  },
  {
   "cell_type": "code",
   "execution_count": 43,
   "metadata": {
    "ExecuteTime": {
     "end_time": "2020-11-11T06:22:05.851730Z",
     "start_time": "2020-11-11T06:22:05.767254Z"
    }
   },
   "outputs": [
    {
     "name": "stdout",
     "output_type": "stream",
     "text": [
      "7.57e-05 +/- 3.01e-06 (3.98%)\n"
     ]
    }
   ],
   "source": [
    "dout['JPsiKst'] = computeBr([B0_to_JPsiKst, JPsi_to_MuMu, Kst_to_KPi])"
   ]
  },
  {
   "cell_type": "markdown",
   "metadata": {},
   "source": [
    "Dump the output dictionary"
   ]
  },
  {
   "cell_type": "code",
   "execution_count": 44,
   "metadata": {
    "ExecuteTime": {
     "end_time": "2020-11-11T06:22:05.921310Z",
     "start_time": "2020-11-11T06:22:05.856369Z"
    }
   },
   "outputs": [],
   "source": [
    "pickle.dump(dout, open('../data/forcedDecayChannelsFactors.pickle', 'wb'))"
   ]
  }
 ],
 "metadata": {
  "kernelspec": {
   "display_name": "Python 2",
   "language": "python",
   "name": "python2"
  },
  "language_info": {
   "codemirror_mode": {
    "name": "ipython",
    "version": 2
   },
   "file_extension": ".py",
   "mimetype": "text/x-python",
   "name": "python",
   "nbconvert_exporter": "python",
   "pygments_lexer": "ipython2",
   "version": "2.7.14+"
  },
  "varInspector": {
   "cols": {
    "lenName": 16,
    "lenType": 16,
    "lenVar": 40
   },
   "kernels_config": {
    "python": {
     "delete_cmd_postfix": "",
     "delete_cmd_prefix": "del ",
     "library": "var_list.py",
     "varRefreshCmd": "print(var_dic_list())"
    },
    "r": {
     "delete_cmd_postfix": ") ",
     "delete_cmd_prefix": "rm(",
     "library": "var_list.r",
     "varRefreshCmd": "cat(var_dic_list()) "
    }
   },
   "types_to_exclude": [
    "module",
    "function",
    "builtin_function_or_method",
    "instance",
    "_Feature"
   ],
   "window_display": false
  }
 },
 "nbformat": 4,
 "nbformat_minor": 2
}
