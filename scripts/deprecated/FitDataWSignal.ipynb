{
 "cells": [
  {
   "cell_type": "code",
   "execution_count": 3,
   "metadata": {
    "ExecuteTime": {
     "end_time": "2019-05-09T23:21:41.715565Z",
     "start_time": "2019-05-09T23:21:33.404825Z"
    }
   },
   "outputs": [],
   "source": [
    "import numpy as np\n",
    "import uproot as ur\n",
    "import ROOT as rt\n",
    "import root_numpy as rtnp\n",
    "import ROOT.RooFit as rf\n",
    "from scipy.special import erf\n",
    "import sys\n",
    "sys.path.append('../lib')\n",
    "from histo_utilities import create_TH1D, create_TH2D, std_color_list\n",
    "from cebefo_style import Set_2D_colz_graphics\n",
    "\n",
    "import CMS_lumi, tdrstyle\n",
    "tdrstyle.setTDRStyle()\n",
    "CMS_lumi.writeExtraText = 1\n",
    "CMS_lumi.extraText = \"     Preliminary\"\n",
    "\n",
    "donotdelete = []"
   ]
  },
  {
   "cell_type": "code",
   "execution_count": 4,
   "metadata": {
    "ExecuteTime": {
     "end_time": "2019-05-09T23:21:41.736070Z",
     "start_time": "2019-05-09T23:21:41.719687Z"
    }
   },
   "outputs": [],
   "source": [
    "# %jsroot on"
   ]
  },
  {
   "cell_type": "code",
   "execution_count": 5,
   "metadata": {
    "ExecuteTime": {
     "end_time": "2019-05-09T23:21:41.760760Z",
     "start_time": "2019-05-09T23:21:41.740164Z"
    }
   },
   "outputs": [],
   "source": [
    "from analysis_utilities import drawOnCMSCanvas, extarct, extarct_multiple, createSel"
   ]
  },
  {
   "cell_type": "code",
   "execution_count": 6,
   "metadata": {
    "ExecuteTime": {
     "end_time": "2019-05-09T23:21:41.814817Z",
     "start_time": "2019-05-09T23:21:41.763583Z"
    }
   },
   "outputs": [],
   "source": [
    "rt.gErrorIgnoreLevel = rt.kError\n",
    "rt.RooMsgService.instance().setGlobalKillBelow(rt.RooFit.ERROR)"
   ]
  },
  {
   "cell_type": "markdown",
   "metadata": {},
   "source": [
    "# Data loading"
   ]
  },
  {
   "cell_type": "code",
   "execution_count": 10,
   "metadata": {
    "ExecuteTime": {
     "end_time": "2019-05-09T23:21:42.105699Z",
     "start_time": "2019-05-09T23:21:41.818871Z"
    },
    "scrolled": true
   },
   "outputs": [
    {
     "name": "stdout",
     "output_type": "stream",
     "text": [
      "['LumiBlock', 'MC_B_P', 'MC_B_eta', 'MC_B_phi', 'MC_B_pt', 'MC_D0_P', 'MC_D0_eta', 'MC_D0_phi', 'MC_D0_pt', 'MC_Dst_P', 'MC_Dst_eta', 'MC_Dst_phi', 'MC_Dst_pt', 'MC_Est_mu', 'MC_M2_miss', 'MC_mu_P', 'MC_mu_eta', 'MC_mu_phi', 'MC_mu_pt', 'MC_pis_P', 'MC_pis_eta', 'MC_pis_phi', 'MC_pis_pt', 'MC_q2', 'Run', 'eventNumber', 'n_B', 'n_D0', 'n_Dst', 'n_K', 'n_pi', 'n_pis', 'trgMu_charge', 'trgMu_eta', 'trgMu_phi', 'trgMu_pt', 'B_E', 'B_P', 'B_eta', 'B_phi', 'B_pt', 'B_pz', 'D0_E', 'D0_P', 'D0_eta', 'D0_phi', 'D0_pt', 'D0_pz', 'Dst_E', 'Dst_P', 'Dst_eta', 'Dst_phi', 'Dst_pt', 'Dst_pz', 'Est_mu', 'K_E', 'K_P', 'K_eta', 'K_phi', 'K_pt', 'K_pz', 'M2_miss', 'chi2_D0pis', 'chi2_MuDst', 'chi2_kpi', 'cos_D0pis_vtxMu', 'cos_MuDst_vtxBest', 'cos_kpi_vtxMu', 'd_vtxD0pis_vtxMu', 'd_vtxkpi_vtxMu', 'dca_D0pis_vtxMu', 'dca_kpi_vtxMu', 'mass_D0pis', 'mass_MuDst', 'mass_kpi', 'mu_E', 'mu_P', 'mu_eta', 'mu_phi', 'mu_pt', 'mu_pz', 'pi_E', 'pi_P', 'pi_eta', 'pi_phi', 'pi_pt', 'pi_pz', 'pis_E', 'pis_P', 'pis_eta', 'pis_phi', 'pis_pt', 'pis_pz', 'q2', 'sigd_vtxD0pis_vtxMu', 'sigd_vtxkpi_vtxMu', 'sigdca_D0pis_vtxMu', 'sigdca_kpi_vtxMu'] \n",
      "\n",
      "\n",
      "B_E\n",
      "B_P\n",
      "B_eta\n",
      "B_phi\n",
      "B_pt\n",
      "B_pz\n",
      "D0_E\n",
      "D0_P\n",
      "D0_eta\n",
      "D0_phi\n",
      "D0_pt\n",
      "D0_pz\n",
      "Dst_E\n",
      "Dst_P\n",
      "Dst_eta\n",
      "Dst_phi\n",
      "Dst_pt\n",
      "Dst_pz\n",
      "Est_mu\n",
      "K_E\n",
      "K_P\n",
      "K_eta\n",
      "K_phi\n",
      "K_pt\n",
      "K_pz\n",
      "LumiBlock\n",
      "M2_miss\n",
      "MC_B_P\n",
      "MC_B_eta\n",
      "MC_B_phi\n",
      "MC_B_pt\n",
      "MC_D0_P\n",
      "MC_D0_eta\n",
      "MC_D0_phi\n",
      "MC_D0_pt\n",
      "MC_Dst_P\n",
      "MC_Dst_eta\n",
      "MC_Dst_phi\n",
      "MC_Dst_pt\n",
      "MC_Est_mu\n",
      "MC_M2_miss\n",
      "MC_mu_P\n",
      "MC_mu_eta\n",
      "MC_mu_phi\n",
      "MC_mu_pt\n",
      "MC_pis_P\n",
      "MC_pis_eta\n",
      "MC_pis_phi\n",
      "MC_pis_pt\n",
      "MC_q2\n",
      "Run\n",
      "chi2_D0pis\n",
      "chi2_MuDst\n",
      "chi2_kpi\n",
      "cos_D0pis_vtxMu\n",
      "cos_MuDst_vtxBest\n",
      "cos_kpi_vtxMu\n",
      "d_vtxD0pis_vtxMu\n",
      "d_vtxkpi_vtxMu\n",
      "dca_D0pis_vtxMu\n",
      "dca_kpi_vtxMu\n",
      "eventNumber\n",
      "mass_D0pis\n",
      "mass_MuDst\n",
      "mass_kpi\n",
      "mu_E\n",
      "mu_P\n",
      "mu_eta\n",
      "mu_phi\n",
      "mu_pt\n",
      "mu_pz\n",
      "n_B\n",
      "n_D0\n",
      "n_Dst\n",
      "n_K\n",
      "n_pi\n",
      "n_pis\n",
      "pi_E\n",
      "pi_P\n",
      "pi_eta\n",
      "pi_phi\n",
      "pi_pt\n",
      "pi_pz\n",
      "pis_E\n",
      "pis_P\n",
      "pis_eta\n",
      "pis_phi\n",
      "pis_pt\n",
      "pis_pz\n",
      "q2\n",
      "sigd_vtxD0pis_vtxMu\n",
      "sigd_vtxkpi_vtxMu\n",
      "sigdca_D0pis_vtxMu\n",
      "sigdca_kpi_vtxMu\n",
      "trgMu_charge\n",
      "trgMu_eta\n",
      "trgMu_phi\n",
      "trgMu_pt\n"
     ]
    }
   ],
   "source": [
    "tMC = ur.open('../data/cmsMC_private/BPH_Tag-B0_MuNuDmst-pD0bar-kp_13TeV-pythia8_SoftQCD_PTFilter5_0p0-evtgen_HQET2_central_PU35_10-2-3_v0/B02DstMu_candidates/out_0.root')['outA']['Tevts']\n",
    "print tMC.keys(), '\\n\\n'\n",
    "branches = tMC.keys()\n",
    "for b in np.sort(branches):\n",
    "    print b"
   ]
  },
  {
   "cell_type": "code",
   "execution_count": 13,
   "metadata": {
    "ExecuteTime": {
     "end_time": "2019-05-09T23:21:42.115451Z",
     "start_time": "2019-05-09T23:21:42.109495Z"
    }
   },
   "outputs": [],
   "source": [
    "file_loc = {}\n",
    "file_loc['data'] = '../data/cmsRD/Run2018D/B02DstMu_19*_BPH*.root'\n",
    "file_loc['mu'] = '../data/cmsMC_private/BPH_Tag-B0_MuNuDmst-pD0bar-kp_13TeV-pythia8_SoftQCD_PTFilter5_0p0-evtgen_HQET2_central_PU35_10-2-3_v0/B02DstMu_candidates/out*.root'\n",
    "file_loc['tau'] = '../data/cmsMC_private/BPH_Tag-B0_TauNuDmst-pD0bar-kp-t2mnn_pythia8_SoftQCD_PTFilter5_0p0-evtgen_HQET2_central_PU35_10-2-3_v0/B02DstMu_candidates/out*.root'"
   ]
  },
  {
   "cell_type": "code",
   "execution_count": 14,
   "metadata": {
    "ExecuteTime": {
     "end_time": "2019-05-09T23:22:51.513081Z",
     "start_time": "2019-05-09T23:21:42.118152Z"
    }
   },
   "outputs": [
    {
     "name": "stdout",
     "output_type": "stream",
     "text": [
      "mu : 15963 candidates\n",
      "tau : 7222 candidates\n",
      "data : 323091 candidates\n"
     ]
    }
   ],
   "source": [
    "dSet = {}\n",
    "for k, fn in file_loc.iteritems():\n",
    "    dSet[k] = extarct_multiple(fn, branches=branches, flag=k)\n",
    "    print k, ':', dSet[k]['Est_mu'].shape[0], 'candidates'"
   ]
  },
  {
   "cell_type": "markdown",
   "metadata": {},
   "source": [
    "# Analysis parameters"
   ]
  },
  {
   "cell_type": "markdown",
   "metadata": {},
   "source": [
    "Selection declaration"
   ]
  },
  {
   "cell_type": "code",
   "execution_count": null,
   "metadata": {
    "ExecuteTime": {
     "end_time": "2019-05-09T23:22:51.532432Z",
     "start_time": "2019-05-09T23:22:51.517339Z"
    }
   },
   "outputs": [],
   "source": [
    "analysis_selection = {}\n",
    "analysis_selection['mass_MuDst'] = ['<', 5.280]\n",
    "analysis_selection['cos_MuDst_vtxMu'] = ['>', 0.98]\n",
    "# analysis_selection['M2_miss'] = ['>', -2]"
   ]
  },
  {
   "cell_type": "markdown",
   "metadata": {},
   "source": [
    "Binning declaration"
   ]
  },
  {
   "cell_type": "code",
   "execution_count": null,
   "metadata": {
    "ExecuteTime": {
     "end_time": "2019-05-09T23:23:14.181772Z",
     "start_time": "2019-05-09T23:23:14.165153Z"
    }
   },
   "outputs": [],
   "source": [
    "binning = {}\n",
    "binning['q2'] = [4, -2, 10.7]\n",
    "binning['M2_miss'] = [40/2, -5, 10]\n",
    "binning['Est_mu'] = [30/2, 0.10, 2.500]"
   ]
  },
  {
   "cell_type": "markdown",
   "metadata": {},
   "source": [
    "# Create histograms"
   ]
  },
  {
   "cell_type": "code",
   "execution_count": null,
   "metadata": {
    "ExecuteTime": {
     "end_time": "2019-05-09T23:23:18.577019Z",
     "start_time": "2019-05-09T23:23:18.481351Z"
    }
   },
   "outputs": [],
   "source": [
    "histo= {}\n",
    "for k in file_loc.keys():\n",
    "    histo[k] = rt.TH3F('h_'+k, k, \n",
    "                     binning['q2'][0], binning['q2'][1], binning['q2'][2],\n",
    "                     binning['M2_miss'][0], binning['M2_miss'][1], binning['M2_miss'][2],      \n",
    "                     binning['Est_mu'][0], binning['Est_mu'][1], binning['Est_mu'][2]\n",
    "                    )\n",
    "\n",
    "    d = dSet[k]\n",
    "    sel = createSel(d, analysis_selection)\n",
    "    rtnp.fill_hist(histo[k], np.column_stack((d['q2'][sel], d['M2_miss'][sel], d['Est_mu'][sel])))"
   ]
  },
  {
   "cell_type": "code",
   "execution_count": null,
   "metadata": {
    "ExecuteTime": {
     "end_time": "2019-05-09T23:25:57.347889Z",
     "start_time": "2019-05-09T23:25:57.302588Z"
    }
   },
   "outputs": [],
   "source": [
    "# tf = rt.TFile('../data/_root/histos_3D.root', 'recreate')\n",
    "# for k,v in histo.iteritems():\n",
    "#     v.Write()\n",
    "# tf.Close()"
   ]
  },
  {
   "cell_type": "markdown",
   "metadata": {},
   "source": [
    "# Fit just $q^2$"
   ]
  },
  {
   "cell_type": "code",
   "execution_count": null,
   "metadata": {
    "ExecuteTime": {
     "end_time": "2019-05-09T23:26:53.215033Z",
     "start_time": "2019-05-09T23:26:53.197397Z"
    }
   },
   "outputs": [],
   "source": [
    "h_q2 = {}\n",
    "bin_q2_only = [50, -5, 12]\n",
    "leg = rt.TLegend(0.5,0.6,0.9,0.9)\n",
    "for k in file_loc.keys():\n",
    "    d = dSet[k]\n",
    "    sel = createSel(d, analysis_selection)\n",
    "    \n",
    "    h_q2[k] = create_TH1D(d['q2'][sel], name='h_q2_'+k, binning=bin_q2_only)\n",
    "    h_q2[k].Sumw2()"
   ]
  },
  {
   "cell_type": "code",
   "execution_count": null,
   "metadata": {
    "ExecuteTime": {
     "end_time": "2019-05-14T01:32:18.019942Z",
     "start_time": "2019-05-14T01:32:18.003016Z"
    }
   },
   "outputs": [],
   "source": [
    "if True:\n",
    "    tf = rt.TFile('../data/_root/histos_1Dq2.root', 'recreate')\n",
    "    for k,v in h_q2.iteritems():\n",
    "        if k == 'mu':\n",
    "            v.Scale(h_q2['data'].GetEntries()*0.99/v.GetEntries())\n",
    "        if k == 'tau':\n",
    "            v.Scale(h_q2['data'].GetEntries()*0.01/v.GetEntries())\n",
    "        v.Write()\n",
    "    tf.Close()"
   ]
  },
  {
   "cell_type": "code",
   "execution_count": null,
   "metadata": {
    "ExecuteTime": {
     "end_time": "2019-05-09T23:23:24.449533Z",
     "start_time": "2019-05-09T23:23:24.161248Z"
    },
    "scrolled": false
   },
   "outputs": [],
   "source": [
    "q2 = rt.RooRealVar('q2', 'q^{2}', bin_q2_only[1], bin_q2_only[2], 'GeV^{2}')\n",
    "\n",
    "data = rt.RooDataHist('data', 'Data', rt.RooArgList(q2), h_q2['data'])\n",
    "\n",
    "dh_mu = rt.RooDataHist('dh_mu', 'mu', rt.RooArgList(q2), h_q2['mu'])\n",
    "pdf_mu = rt.RooHistPdf('pdf_mu', 'pdf_mu', rt.RooArgSet(q2), dh_mu)\n",
    "n_mu = rt.RooRealVar('n_mu', 'N_{#mu}', 0.99*h_q2['data'].GetEntries(), 100, 1.1*h_q2['data'].GetEntries())\n",
    "pdf_mu_ext = rt.RooExtendPdf('e_mu', 'e_mu', pdf_mu, n_mu)\n",
    "\n",
    "\n",
    "dh_tau = rt.RooDataHist('dh_tau', 'tau', rt.RooArgList(q2), h_q2['tau'])\n",
    "pdf_tau = rt.RooHistPdf('pdf_tau', 'pdf_tau', rt.RooArgSet(q2), dh_tau)\n",
    "n_tau = rt.RooRealVar('n_tau', 'N_{#tau}', 0.1*h_q2['data'].GetEntries(), 100, 1.1*h_q2['data'].GetEntries())\n",
    "pdf_tau_ext = rt.RooExtendPdf('e_tau', 'e_tau', pdf_tau, n_tau)\n",
    "\n",
    "pdf_tot = rt.RooAddPdf('pdftot', 'pdftot', rt.RooArgList(pdf_mu_ext, pdf_tau_ext))\n",
    "pdf_tot.fitTo(data)"
   ]
  },
  {
   "cell_type": "code",
   "execution_count": null,
   "metadata": {
    "ExecuteTime": {
     "end_time": "2019-05-09T23:23:25.497631Z",
     "start_time": "2019-05-09T23:23:25.141428Z"
    }
   },
   "outputs": [],
   "source": [
    "frame = q2.frame(rf.Title(\"\"))\n",
    "data.plotOn(frame, rf.MarkerStyle(1))\n",
    "\n",
    "pdf_tot.plotOn(frame, rf.Components('e_mu, e_tau'), rf.LineColor(4), rf.LineWidth(2), rf.Name('Mu'))\n",
    "pdf_tot.plotOn(frame, rf.Components('e_tau'), rf.LineColor(2), rf.LineWidth(2), rf.Name('Tau'))\n",
    "        \n",
    "# i_pad = i_q2*N_cols + i_v + 1\n",
    "# pad = canvas.cd(i_pad)\n",
    "# pad.SetTopMargin(0.05)\n",
    "# pad.SetBottomMargin(0.13)\n",
    "# pad.SetRightMargin(0.03)\n",
    "# pad.SetLeftMargin(0.22)\n",
    "    \n",
    "CMS_lumi.extraText = \"     Preliminary\"\n",
    "c = drawOnCMSCanvas(CMS_lumi, frame)\n",
    "# c.SetLogy()"
   ]
  },
  {
   "cell_type": "markdown",
   "metadata": {},
   "source": [
    "# Create RooFit workspace"
   ]
  },
  {
   "cell_type": "code",
   "execution_count": null,
   "metadata": {
    "ExecuteTime": {
     "end_time": "2019-05-07T22:43:23.311695Z",
     "start_time": "2019-05-07T22:43:23.293945Z"
    }
   },
   "outputs": [],
   "source": [
    "q2 = rt.RooRealVar('q2', 'q^{2}', binning['q2'][1], binning['q2'][2], 'GeV^{2}')\n",
    "M2_miss = rt.RooRealVar('M2_miss', 'M^{2}_{miss}', binning['M2_miss'][1], binning['M2_miss'][2], 'GeV^{2}')\n",
    "Est_mu = rt.RooRealVar('Est_mu', 'E_{#mu}*', binning['Est_mu'][1], binning['Est_mu'][2], 'GeV')"
   ]
  },
  {
   "cell_type": "code",
   "execution_count": null,
   "metadata": {
    "ExecuteTime": {
     "end_time": "2019-05-07T22:43:23.542486Z",
     "start_time": "2019-05-07T22:43:23.536159Z"
    }
   },
   "outputs": [],
   "source": [
    "data = rt.RooDataHist('data', 'Data', rt.RooArgList(q2, M2_miss, Est_mu), histo['data'])"
   ]
  },
  {
   "cell_type": "code",
   "execution_count": null,
   "metadata": {
    "ExecuteTime": {
     "end_time": "2019-05-07T22:43:23.760333Z",
     "start_time": "2019-05-07T22:43:23.741878Z"
    }
   },
   "outputs": [],
   "source": [
    "dh_mu = rt.RooDataHist('dh_mu', 'mu', rt.RooArgList(q2, M2_miss, Est_mu), histo['mu'])\n",
    "pdf_mu = rt.RooHistPdf('pdf_mu', 'pdf_mu', rt.RooArgSet(q2, M2_miss, Est_mu), dh_mu)\n",
    "\n",
    "n_mu = rt.RooRealVar('n_mu', 'N_{#mu}', 0.99*histo['data'].GetEntries(), 0, 1.05*histo['data'].GetEntries())\n",
    "pdf_mu_ext = rt.RooExtendPdf('e_mu', 'e_mu', pdf_mu, n_mu)"
   ]
  },
  {
   "cell_type": "code",
   "execution_count": null,
   "metadata": {
    "ExecuteTime": {
     "end_time": "2019-05-07T22:43:23.953118Z",
     "start_time": "2019-05-07T22:43:23.937136Z"
    }
   },
   "outputs": [],
   "source": [
    "dh_tau = rt.RooDataHist('dh_tau', 'tau', rt.RooArgList(q2, M2_miss, Est_mu), histo['tau'])\n",
    "pdf_tau = rt.RooHistPdf('pdf_tau', 'pdf_tau', rt.RooArgSet(q2, M2_miss, Est_mu), dh_tau)\n",
    "\n",
    "n_tau = rt.RooRealVar('n_tau', 'N_{#tau}', 0.1*histo['data'].GetEntries(), 0, histo['data'].GetEntries())\n",
    "pdf_tau_ext = rt.RooExtendPdf('e_tau', 'e_tau', pdf_tau, n_tau)"
   ]
  },
  {
   "cell_type": "code",
   "execution_count": null,
   "metadata": {
    "ExecuteTime": {
     "end_time": "2019-05-07T22:43:24.173585Z",
     "start_time": "2019-05-07T22:43:24.136797Z"
    },
    "scrolled": true
   },
   "outputs": [],
   "source": [
    "pdf_tot = rt.RooAddPdf('pdftot', 'pdftot', rt.RooArgList(pdf_mu_ext, pdf_tau_ext))\n",
    "pdf_tot.fitTo(data)"
   ]
  },
  {
   "cell_type": "code",
   "execution_count": null,
   "metadata": {
    "ExecuteTime": {
     "end_time": "2019-05-07T22:43:24.691388Z",
     "start_time": "2019-05-07T22:43:24.673565Z"
    }
   },
   "outputs": [],
   "source": [
    "print 'N data =', histo['data'].GetEntries()\n",
    "print 'N mu = {:.0f} +/- {:.0f}'.format(n_mu.getVal(), n_mu.getError())\n",
    "print 'N tau = {:.0f} +/- {:.0f}'.format(n_tau.getVal(), n_tau.getError())"
   ]
  },
  {
   "cell_type": "markdown",
   "metadata": {},
   "source": [
    "# Plot the results"
   ]
  },
  {
   "cell_type": "code",
   "execution_count": null,
   "metadata": {
    "ExecuteTime": {
     "end_time": "2019-05-03T01:39:18.977762Z",
     "start_time": "2019-05-03T01:39:18.934988Z"
    }
   },
   "outputs": [],
   "source": [
    "N_cols = len(binning.keys())-1\n",
    "N_rows = binning['q2'][0]\n",
    "canvas = rt.TCanvas('c_out', 'c_out', 50, 50, N_cols*400, 400*N_rows)\n",
    "canvas.SetTickx(0)\n",
    "canvas.SetTicky(0)\n",
    "canvas.Divide(N_cols, N_rows)\n",
    "\n",
    "CMS_lumi.extraText = \"        Preliminary\""
   ]
  },
  {
   "cell_type": "code",
   "execution_count": null,
   "metadata": {
    "ExecuteTime": {
     "end_time": "2019-05-03T01:39:19.647255Z",
     "start_time": "2019-05-03T01:39:18.981852Z"
    },
    "scrolled": false
   },
   "outputs": [],
   "source": [
    "q2_edges = np.linspace(binning['q2'][1], binning['q2'][2], 1+binning['q2'][0], True)\n",
    "\n",
    "for i_q2 in range(binning['q2'][0]):\n",
    "    q2_l = q2_edges[i_q2]\n",
    "    q2_h = q2_edges[i_q2+1]\n",
    "\n",
    "    q2_txt = '{:.2f} <  q^{{2}}  < {:.2f} GeV^{{2}}'.format(q2_l, q2_h)\n",
    "    q2_cut = 'q2 > {:.2f} &&  q2 < {:.2f}'.format(q2_l, q2_h)\n",
    "\n",
    "    for i_v, var in enumerate([M2_miss, Est_mu]):\n",
    "        frame = var.frame(rf.Title(\"\"))\n",
    "        aux_data = data.reduce(q2_cut)\n",
    "        aux_data.plotOn(frame, rf.MarkerStyle(1), rf.Name('Data'))\n",
    "#         data.plotOn(frame, rf.Cut(q2_cut), rf.MarkerStyle(1))s\n",
    "        \n",
    "#         pdf_tot.plotOn(frame, rf.LineColor(15), rf.LineWidth(2), rf.LineStyle(9))\n",
    "        pdf_tot.plotOn(frame, rf.Components('e_mu, e_tau'), rf.Cut(q2_cut), rf.LineColor(4), rf.LineWidth(2), rf.Name('Mu'))\n",
    "        pdf_tot.plotOn(frame, rf.Components('e_tau'), rf.Cut(q2_cut), rf.LineColor(2), rf.LineWidth(2), rf.Name('Tau'))\n",
    "        \n",
    "        i_pad = i_q2*N_cols + i_v + 1\n",
    "        pad = canvas.cd(i_pad)\n",
    "        pad.SetTopMargin(0.05)\n",
    "        pad.SetBottomMargin(0.13)\n",
    "        pad.SetRightMargin(0.03)\n",
    "        pad.SetLeftMargin(0.22)\n",
    "        \n",
    "        frame.Draw()\n",
    "        CMS_lumi.CMS_lumi(pad, -1, 0, 0.75*1.3, 0.6*1.3)\n",
    "        \n",
    "        frame.SetMaximum(1.2*frame.GetMaximum())\n",
    "        frame.GetYaxis().SetTitleOffset(1.7)\n",
    "        \n",
    "        l = rt.TLatex()\n",
    "        l.SetTextAlign(11)\n",
    "        l.SetTextSize(0.055)\n",
    "        l.SetTextFont(42)\n",
    "        l.DrawLatexNDC(0.26, 0.87, q2_txt)\n",
    "\n",
    "        if i_pad == 1:\n",
    "            leg = rt.TLegend(0.6, 0.6, 0.93, 0.82)\n",
    "            leg.SetTextFont(42)\n",
    "            leg.SetTextAlign(12)\n",
    "            leg.SetLineWidth(1)\n",
    "            leg.SetBorderSize(1)\n",
    "            leg.AddEntry('Data', 'Data', 'lep')\n",
    "            leg.AddEntry('Mu', 'B#rightarrowD*#mu#nu', 'l')\n",
    "            leg.AddEntry('Tau', 'B#rightarrowD*#tau#nu', 'l')\n",
    "            leg.Draw()\n",
    "\n",
    "canvas.Draw()"
   ]
  },
  {
   "cell_type": "code",
   "execution_count": null,
   "metadata": {
    "ExecuteTime": {
     "end_time": "2019-05-03T01:39:19.735193Z",
     "start_time": "2019-05-03T01:39:19.651686Z"
    }
   },
   "outputs": [],
   "source": [
    "canvas.SaveAs('/Users/olmo/Desktop/RDst_fit.png')"
   ]
  }
 ],
 "metadata": {
  "kernelspec": {
   "display_name": "Python 2",
   "language": "python",
   "name": "python2"
  },
  "language_info": {
   "codemirror_mode": {
    "name": "ipython",
    "version": 2
   },
   "file_extension": ".py",
   "mimetype": "text/x-python",
   "name": "python",
   "nbconvert_exporter": "python",
   "pygments_lexer": "ipython2",
   "version": "2.7.14+"
  }
 },
 "nbformat": 4,
 "nbformat_minor": 2
}
