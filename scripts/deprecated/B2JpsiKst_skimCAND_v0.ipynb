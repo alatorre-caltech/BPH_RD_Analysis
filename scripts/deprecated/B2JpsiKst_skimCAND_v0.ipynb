{
 "cells": [
  {
   "cell_type": "markdown",
   "metadata": {},
   "source": [
    "Utility notebook to skim candidates"
   ]
  },
  {
   "cell_type": "markdown",
   "metadata": {},
   "source": [
    "# Import"
   ]
  },
  {
   "cell_type": "code",
   "execution_count": 1,
   "metadata": {},
   "outputs": [],
   "source": [
    "import sys, os, pickle, time\n",
    "from glob import glob\n",
    "sys.path.append('../lib')\n",
    "sys.path.append('../analysis')\n",
    "from multiprocessing import Pool"
   ]
  },
  {
   "cell_type": "code",
   "execution_count": 2,
   "metadata": {
    "ExecuteTime": {
     "end_time": "2019-05-14T01:36:12.149848Z",
     "start_time": "2019-05-14T01:36:11.232339Z"
    }
   },
   "outputs": [
    {
     "name": "stdout",
     "output_type": "stream",
     "text": [
      "Welcome to JupyROOT 6.12/07\n"
     ]
    }
   ],
   "source": [
    "import numpy as np\n",
    "import pandas as pd\n",
    "import matplotlib.pyplot as plt\n",
    "\n",
    "import ROOT as rt\n",
    "rt.gErrorIgnoreLevel = rt.kError\n",
    "rt.RooMsgService.instance().setGlobalKillBelow(rt.RooFit.ERROR)\n",
    "import root_numpy as rtnp\n",
    "\n",
    "from analysis_utilities import drawOnCMSCanvas, getEff, DSetLoader\n",
    "from histo_utilities import create_TH1D, create_TH2D, std_color_list, SetMaxToMaxHist\n",
    "\n",
    "from progressBar import ProgressBar\n",
    "from categoriesDef import categories\n",
    "from B02JpsiKst_selection import candidate_selection, trigger_selection, candidateSelection_stringList, candidateSelection_nameList\n",
    "\n",
    "import CMS_lumi, tdrstyle\n",
    "tdrstyle.setTDRStyle()\n",
    "CMS_lumi.writeExtraText = 1\n",
    "\n",
    "\n",
    "CMS_lumi.extraText = \"     Simulation Internal\"\n",
    "\n",
    "donotdelete = []"
   ]
  },
  {
   "cell_type": "markdown",
   "metadata": {},
   "source": [
    "# Create histograms file"
   ]
  },
  {
   "cell_type": "code",
   "execution_count": 3,
   "metadata": {},
   "outputs": [],
   "source": [
    "file_loc = {}"
   ]
  },
  {
   "cell_type": "code",
   "execution_count": 4,
   "metadata": {},
   "outputs": [],
   "source": [
    "MCdataSet = {\n",
    "'n_PU20' : DSetLoader('B0_JpsiKst_PU20', candDir='ntuples_B2JpsiKst'),\n",
    "# 'FSR_PU20' : DSetLoader('B0_JpsiKstFSR_PU20', candDir='ntuples_B2JpsiKst'),\n",
    "}\n",
    "for n, d in MCdataSet.iteritems():\n",
    "    file_loc[n] = os.path.join(d.ntuples_dir, 'out_CAND_*.root')"
   ]
  },
  {
   "cell_type": "code",
   "execution_count": 5,
   "metadata": {},
   "outputs": [],
   "source": [
    "RDloc = '../data/cmsRD/ParkingBPH*/'\n",
    "file_loc['dataB2DstMu'] = RDloc+'*2018*B2JpsiKst_200124_CAND.root'"
   ]
  },
  {
   "cell_type": "code",
   "execution_count": 6,
   "metadata": {},
   "outputs": [],
   "source": [
    "def makeSelection(inputs):\n",
    "    tag, filepath, leafs_names, cat, idxInt, skipCut, serial = inputs\n",
    "    N_accepted_cand = []\n",
    "    N_accepted_tot = 0\n",
    "    \n",
    "    tree = rt.TChain('outA/Tevts')\n",
    "    lastIdxDisc = -1\n",
    "    for fn in glob(filepath):\n",
    "        tree.Add(fn)\n",
    "        if tree.GetEntries() + lastIdxDisc < idxInt[0]:\n",
    "            lastIdxDisc += tree.GetEntries()\n",
    "            tree = rt.TChain('outA/Tevts')\n",
    "        elif tree.GetEntries() + lastIdxDisc > idxInt[1]:\n",
    "            break\n",
    "    \n",
    "    nDiscEvts = lastIdxDisc + 1\n",
    "            \n",
    "        \n",
    "    if serial:\n",
    "#         print 'Tot evts:', idxInt[1]+1\n",
    "        pb = ProgressBar(maxEntry=idxInt[1]+1)\n",
    "    else:\n",
    "        perc = int((idxInt[1]-idxInt[0])*0.3)\n",
    "    \n",
    "    output = np.zeros((int(1.5*(idxInt[1]-idxInt[0]+1)), len(leafs_names)))\n",
    "    for i_ev, ev in enumerate(tree):\n",
    "        i_ev += nDiscEvts\n",
    "        if i_ev < idxInt[0]:\n",
    "            continue\n",
    "        if i_ev > idxInt[1]:\n",
    "            break\n",
    "            \n",
    "        if serial:\n",
    "#             print 'ev:', i_ev\n",
    "            pb.show(i_ev-idxInt[0])\n",
    "        elif (i_ev-idxInt[0]) % perc == 0:\n",
    "            print tag, ': {:.0f}%'.format(100*(i_ev+1-idxInt[0])/(idxInt[1]-idxInt[0]))\n",
    "        N_acc = 0\n",
    "        \n",
    "        idxTrg = -1\n",
    "        trgMu_pt = -1\n",
    "        N_trgMu = 0\n",
    "        for j in range(ev.trgMu_pt.size()):\n",
    "            if trigger_selection(j, ev, cat):\n",
    "                N_trgMu += 1\n",
    "                if ev.trgMu_pt[j] > trgMu_pt:\n",
    "                    trgMu_pt = ev.trgMu_pt[j]\n",
    "                    idxTrg = j\n",
    "        if N_trgMu == 0:\n",
    "            continue\n",
    "\n",
    "        for j in range(ev.pval_piK.size()):\n",
    "            if not skipCut == 'all':\n",
    "                if not candidate_selection(j, ev, skipCut):\n",
    "                    continue\n",
    "\n",
    "            N_acc += 1\n",
    "\n",
    "            aux = (ev.trgMu_pt[idxTrg], ev.trgMu_eta[idxTrg], ev.trgMu_sigdxy[idxTrg],\n",
    "                   ev.mumRefit_pt[j], ev.mumRefit_eta[j], ev.mumRefit_phi[j], ev.mum_dxy[j],\n",
    "                   ev.mupRefit_pt[j], ev.mupRefit_eta[j], ev.mupRefit_phi[j], ev.mup_dxy[j],\n",
    "                   ev.pval_mumu[j], ev.mass_mumu[j],\n",
    "                   ev.Jpsi_pt[j], ev.cosT_Jpsi_PV[j],\n",
    "                   ev.KRefit_pt[j], ev.KRefit_eta[j], ev.KRefit_phi[j], ev.K_sigdxy_PV[j],\n",
    "                   ev.piRefit_pt[j], ev.piRefit_eta[j], ev.piRefit_phi[j], ev.pi_sigdxy_PV[j],\n",
    "                   ev.pval_piK[j], ev.mass_piK[j], ev.mass_piK_CPconj[j], ev.mass_KK[j],\n",
    "                   ev.sigdxy_vtxKst_PV[j],\n",
    "                   ev.pval_mumupiK[j], ev.mass_mumupiK[j],\n",
    "                   ev.B_mumupiK_pt[j], ev.B_mumupiK_eta[j],\n",
    "                   trigger_selection(idxTrg, ev, categories['low']),\n",
    "                   trigger_selection(idxTrg, ev, categories['mid']),\n",
    "                   trigger_selection(idxTrg, ev, categories['high']),\n",
    "                   ev.N_vertexes\n",
    "                  )\n",
    "            if not 'data' in n:\n",
    "                aux += (ev.MC_B_pt, ev.MC_B_eta,\n",
    "                        ev.MC_idxCand == j,\n",
    "                        ev.MC_mup_pt, ev.MC_mup_eta,\n",
    "                        ev.MC_mum_pt, ev.MC_mum_eta\n",
    "                        )\n",
    "        \n",
    "            output[N_accepted_tot] = aux\n",
    "            N_accepted_tot += 1\n",
    "\n",
    "        if N_acc > 0:\n",
    "            N_accepted_cand.append(N_acc)\n",
    "\n",
    "    output = output[:N_accepted_tot]\n",
    "    if not serial:\n",
    "        print tag, ': done'\n",
    "    return [output, N_accepted_cand]"
   ]
  },
  {
   "cell_type": "code",
   "execution_count": 7,
   "metadata": {},
   "outputs": [],
   "source": [
    "def create_dSet(n, filepath, cat, skipCut=None, maxEntries=1e15):  \n",
    "    catName = cat.name\n",
    "    print n, catName\n",
    "    if 'data' in n:\n",
    "        loc = '../data/cmsRD/skimmed/B2JpsiKst_' + filepath[-16:-10]\n",
    "        fskimmed_name = loc + '_' + catName \n",
    "        if not skipCut is None:\n",
    "            fskimmed_name += '_skip'+str(skipCut)\n",
    "        fskimmed_name += '.root'\n",
    "        N_evts_per_job = 1000000\n",
    "    else:\n",
    "        d = os.path.dirname(filepath) + '/skimmed/'\n",
    "        if not os.path.isdir(d):\n",
    "            os.makedirs(d)\n",
    "        fskimmed_name = d + catName \n",
    "        if not skipCut is None:\n",
    "            fskimmed_name += '_skip'+str(skipCut)\n",
    "        fskimmed_name += '.root'\n",
    "        N_evts_per_job = 50000\n",
    "    logfile = fskimmed_name.replace('.root', '.log')\n",
    "    if os.path.isfile(fskimmed_name) and not n in recreate:\n",
    "        print 'Already present'\n",
    "    else:\n",
    "        tree = rt.TChain('outA/Tevts')\n",
    "        for fn in glob(filepath):\n",
    "            tree.Add(fn)\n",
    "        N_cand_in = min(maxEntries, tree.GetEntries())\n",
    "        print n, ': Total number of candidate events =', N_cand_in\n",
    "            \n",
    "        leafs_names = [ 'trgMu_pt', 'trgMu_eta', 'trgMu_sigdxy',\n",
    "                        'mum_pt', 'mum_eta', 'mum_phi', 'mum_dxy',\n",
    "                        'mup_pt', 'mup_eta', 'mup_phi', 'mup_dxy',\n",
    "                        'pval_mumu', 'mass_mumu',\n",
    "                        'Jpsi_pt', 'cosT_Jpsi_PV',\n",
    "                        'K_pt','K_eta','K_phi', 'K_sigdxy_PV',\n",
    "                        'pi_pt','pi_eta','pi_phi', 'pi_sigdxy_PV',\n",
    "                        'pval_piK', 'mass_piK', 'mass_piK_CPconj', 'mass_KK',\n",
    "                        'sigdxy_vtxKst_PV',\n",
    "                        'pval_mumupiK', 'mass_mumupiK',\n",
    "                        'B_pt', 'B_eta',\n",
    "                        'cat_low', 'cat_mid', 'cat_high',\n",
    "                        'N_vtx'\n",
    "                      ]\n",
    "        if not 'data' in n:\n",
    "            leafs_names += ['MC_B_pt', 'MC_B_eta',\n",
    "                            'MCidxCandMatch',\n",
    "                            'MC_mup_pt', 'MC_mup_eta',\n",
    "                            'MC_mum_pt', 'MC_mum_eta'\n",
    "                           ]\n",
    "            \n",
    "        if N_cand_in < 2*N_evts_per_job:\n",
    "            output, N_accepted_cand = makeSelection(['', filepath, leafs_names, cat, \n",
    "                                                     [0, N_cand_in-1], skipCut, True])\n",
    "        else:\n",
    "            pdiv = list(np.arange(0, N_cand_in, N_evts_per_job))\n",
    "            if not pdiv[-1] == N_cand_in: \n",
    "                pdiv.append(N_cand_in)\n",
    "            print 'Will be divided into ' + str(len(pdiv)-1) + ' jobs'\n",
    "            inputs = []\n",
    "            for i in range(1, len(pdiv)):\n",
    "                corr = 0\n",
    "                if i == 1:\n",
    "                    corr = -1\n",
    "                inputs.append([str(i), filepath, leafs_names, cat, [pdiv[i-1]+1+corr, pdiv[i]], skipCut, False])\n",
    "            print ' '\n",
    "            \n",
    "            start = time.time()\n",
    "            p = Pool(min(20,len(inputs)))\n",
    "            outputs = p.map(makeSelection, inputs)\n",
    "            output = np.concatenate(tuple([o[0] for o in outputs]))\n",
    "            N_accepted_cand = []\n",
    "            for o in outputs: N_accepted_cand += o[1]\n",
    "            print 'Total time: {:.1f} min'.format((time.time()-start)/60.)\n",
    "                \n",
    "        \n",
    "        dset = pd.DataFrame(output, columns=leafs_names)\n",
    "        if not os.path.isdir(os.path.dirname(fskimmed_name)):\n",
    "            os.makedirs(os.path.dirname(fskimmed_name))\n",
    "        rtnp.array2root(dset.to_records(), fskimmed_name, treename='Tevts', mode='RECREATE')\n",
    "        \n",
    "        with open(logfile, 'w') as f:\n",
    "            ln = 'Number of candidates per events\\n{'\n",
    "            ln += ', '.join(['{}:{}'.format(i, N_accepted_cand.count(i)) for i in range(1, np.max(N_accepted_cand)+1)])\n",
    "            ln += '}\\n'\n",
    "            f.write(ln)\n",
    "            f.write('N_analyzed: '+str(N_cand_in)+'\\n')\n",
    "            f.write('N_accepted: '+str(dset.shape[0])+'\\n')\n",
    "            e = getEff(dset.shape[0], N_cand_in)\n",
    "            f.write('Eff: {:.3f} +/- {:.3f} %'.format(1e2*e[0], 1e2*e[1])+'\\n')\n",
    "         \n",
    "    os.system('echo '+logfile+';cat '+logfile + ';echo ')"
   ]
  },
  {
   "cell_type": "code",
   "execution_count": 8,
   "metadata": {},
   "outputs": [
    {
     "name": "stdout",
     "output_type": "stream",
     "text": [
      "n_PU20 High\n",
      "Already present\n",
      "dataB2DstMu High\n",
      "Already present\n",
      "/storage/user/ocerri/BPhysics/data/cmsMC_private/BPH_Tag-Probe_B0_JpsiKst-mumuKpi-kp_13TeV-pythia8_Hardbbbar_PTFilter5_0p0-evtgen_SVV_PU20_10-2-3/ntuples_B2JpsiKst/skimmed/High.log\n",
      "Number of candidates per events\n",
      "{1:58261, 2:488}\n",
      "N_analyzed: 861137\n",
      "N_accepted: 59237\n",
      "Eff: 6.879 +/- 0.027 %\n",
      "\n",
      "../data/cmsRD/skimmed/B2JpsiKst_200124_High.log\n",
      "Number of candidates per events\n",
      "{1:63435, 2:168, 3:1}\n",
      "N_analyzed: 85379270\n",
      "N_accepted: 63774\n",
      "Eff: 0.075 +/- 0.000 %\n",
      "\n"
     ]
    }
   ],
   "source": [
    "from categoriesDef import categories\n",
    "\n",
    "recreate = []#file_loc.keys()\n",
    "\n",
    "# for n, fp in file_loc.iteritems():\n",
    "#     create_dSet(n, fp, categories['high'], 'all')\n",
    "\n",
    "# for n, fp in file_loc.iteritems():\n",
    "#         create_dSet(n, fp, categories['high'])\n",
    "\n",
    "# for cn in ['low', 'mid', 'high']:\n",
    "#     for n, fp in file_loc.iteritems():\n",
    "#         create_dSet(n, fp, categories[cn])"
   ]
  },
  {
   "cell_type": "markdown",
   "metadata": {},
   "source": [
    "# Analyze selection efficiencies"
   ]
  },
  {
   "cell_type": "code",
   "execution_count": 9,
   "metadata": {},
   "outputs": [],
   "source": [
    "def getTree(n, filepath, cat, skipCut=None, maxEntries=1e15):  \n",
    "    catName = cat.name\n",
    "    print n, catName, skipCut\n",
    "    if 'data' in n:\n",
    "        pass\n",
    "    else:\n",
    "        d = os.path.dirname(filepath) + '/skimmed/'\n",
    "        fskimmed_name = d + catName \n",
    "        if not skipCut is None:\n",
    "            fskimmed_name += '_skip'+str(skipCut)\n",
    "        fskimmed_name += '.root'\n",
    "    if os.path.isfile(fskimmed_name):\n",
    "        t = rt.TChain('Tevts')\n",
    "        t.Add(fskimmed_name)\n",
    "        return t\n",
    "    else: return None"
   ]
  },
  {
   "cell_type": "markdown",
   "metadata": {},
   "source": [
    "## Get efficiency per cut"
   ]
  },
  {
   "cell_type": "code",
   "execution_count": 10,
   "metadata": {},
   "outputs": [
    {
     "name": "stdout",
     "output_type": "stream",
     "text": [
      "n_PU20 High all\n",
      "dataB2DstMu High all\n"
     ]
    },
    {
     "ename": "UnboundLocalError",
     "evalue": "local variable 'fskimmed_name' referenced before assignment",
     "output_type": "error",
     "traceback": [
      "\u001b[0;31m\u001b[0m",
      "\u001b[0;31mUnboundLocalError\u001b[0mTraceback (most recent call last)",
      "\u001b[0;32m<ipython-input-10-e586344884c2>\u001b[0m in \u001b[0;36m<module>\u001b[0;34m()\u001b[0m\n\u001b[1;32m      1\u001b[0m \u001b[0mT\u001b[0m \u001b[0;34m=\u001b[0m \u001b[0;34m{\u001b[0m\u001b[0;34m}\u001b[0m\u001b[0;34m\u001b[0m\u001b[0m\n\u001b[1;32m      2\u001b[0m \u001b[0;32mfor\u001b[0m \u001b[0mn\u001b[0m\u001b[0;34m,\u001b[0m \u001b[0mfp\u001b[0m \u001b[0;32min\u001b[0m \u001b[0mfile_loc\u001b[0m\u001b[0;34m.\u001b[0m\u001b[0miteritems\u001b[0m\u001b[0;34m(\u001b[0m\u001b[0;34m)\u001b[0m\u001b[0;34m:\u001b[0m\u001b[0;34m\u001b[0m\u001b[0m\n\u001b[0;32m----> 3\u001b[0;31m     \u001b[0maux\u001b[0m \u001b[0;34m=\u001b[0m \u001b[0mgetTree\u001b[0m\u001b[0;34m(\u001b[0m\u001b[0mn\u001b[0m\u001b[0;34m,\u001b[0m \u001b[0mfp\u001b[0m\u001b[0;34m,\u001b[0m \u001b[0mcategories\u001b[0m\u001b[0;34m[\u001b[0m\u001b[0;34m'high'\u001b[0m\u001b[0;34m]\u001b[0m\u001b[0;34m,\u001b[0m \u001b[0;34m'all'\u001b[0m\u001b[0;34m,\u001b[0m \u001b[0mmaxEntries\u001b[0m\u001b[0;34m=\u001b[0m\u001b[0;36m1e9\u001b[0m\u001b[0;34m)\u001b[0m\u001b[0;34m\u001b[0m\u001b[0m\n\u001b[0m\u001b[1;32m      4\u001b[0m     \u001b[0;32mif\u001b[0m \u001b[0;32mnot\u001b[0m \u001b[0maux\u001b[0m \u001b[0;32mis\u001b[0m \u001b[0mNone\u001b[0m\u001b[0;34m:\u001b[0m\u001b[0;34m\u001b[0m\u001b[0m\n\u001b[1;32m      5\u001b[0m         \u001b[0mT\u001b[0m\u001b[0;34m[\u001b[0m\u001b[0mn\u001b[0m\u001b[0;34m]\u001b[0m \u001b[0;34m=\u001b[0m \u001b[0maux\u001b[0m\u001b[0;34m\u001b[0m\u001b[0m\n",
      "\u001b[0;32m<ipython-input-9-b29d8a9b43cb>\u001b[0m in \u001b[0;36mgetTree\u001b[0;34m(n, filepath, cat, skipCut, maxEntries)\u001b[0m\n\u001b[1;32m     10\u001b[0m             \u001b[0mfskimmed_name\u001b[0m \u001b[0;34m+=\u001b[0m \u001b[0;34m'_skip'\u001b[0m\u001b[0;34m+\u001b[0m\u001b[0mstr\u001b[0m\u001b[0;34m(\u001b[0m\u001b[0mskipCut\u001b[0m\u001b[0;34m)\u001b[0m\u001b[0;34m\u001b[0m\u001b[0m\n\u001b[1;32m     11\u001b[0m         \u001b[0mfskimmed_name\u001b[0m \u001b[0;34m+=\u001b[0m \u001b[0;34m'.root'\u001b[0m\u001b[0;34m\u001b[0m\u001b[0m\n\u001b[0;32m---> 12\u001b[0;31m     \u001b[0;32mif\u001b[0m \u001b[0mos\u001b[0m\u001b[0;34m.\u001b[0m\u001b[0mpath\u001b[0m\u001b[0;34m.\u001b[0m\u001b[0misfile\u001b[0m\u001b[0;34m(\u001b[0m\u001b[0mfskimmed_name\u001b[0m\u001b[0;34m)\u001b[0m\u001b[0;34m:\u001b[0m\u001b[0;34m\u001b[0m\u001b[0m\n\u001b[0m\u001b[1;32m     13\u001b[0m         \u001b[0mt\u001b[0m \u001b[0;34m=\u001b[0m \u001b[0mrt\u001b[0m\u001b[0;34m.\u001b[0m\u001b[0mTChain\u001b[0m\u001b[0;34m(\u001b[0m\u001b[0;34m'Tevts'\u001b[0m\u001b[0;34m)\u001b[0m\u001b[0;34m\u001b[0m\u001b[0m\n\u001b[1;32m     14\u001b[0m         \u001b[0mt\u001b[0m\u001b[0;34m.\u001b[0m\u001b[0mAdd\u001b[0m\u001b[0;34m(\u001b[0m\u001b[0mfskimmed_name\u001b[0m\u001b[0;34m)\u001b[0m\u001b[0;34m\u001b[0m\u001b[0m\n",
      "\u001b[0;31mUnboundLocalError\u001b[0m: local variable 'fskimmed_name' referenced before assignment"
     ]
    }
   ],
   "source": [
    "T = {}\n",
    "for n, fp in file_loc.iteritems():\n",
    "    aux = getTree(n, fp, categories['high'], 'all', maxEntries=1e9)\n",
    "    if not aux is None:\n",
    "        T[n] = aux\n",
    "    else:\n",
    "        raise"
   ]
  },
  {
   "cell_type": "code",
   "execution_count": null,
   "metadata": {},
   "outputs": [],
   "source": [
    "allCuts = ' && '.join(candidateSelection_stringList)\n",
    "eff = {}\n",
    "for n, t in T.iteritems():\n",
    "    print n\n",
    "    eff[n] = np.zeros((len(candidateSelection_stringList)+1,2))\n",
    "    Ntot = float(t.GetEntries())\n",
    "    Nsel = t.GetEntries(allCuts)\n",
    "    eff[n][0] = getEff(Nsel, Ntot)\n",
    "    pb = ProgressBar(maxEntry=len(candidateSelection_stringList))\n",
    "    for ic, c in enumerate(candidateSelection_stringList):\n",
    "        pb.show(ic)\n",
    "        eff[n][ic+1] = getEff(t.GetEntries(c), Ntot)\n",
    "\n",
    "for n in T.keys():\n",
    "    y = np.array(eff[n])\n",
    "    x = np.arange(y.shape[0])\n",
    "    plt.errorbar(x, y[:, 0], y[:,1], lw=0, elinewidth=5, label=n)\n",
    "\n",
    "plt.rcParams.update({'font.size': 20})\n",
    "plt.xlabel('Cut')\n",
    "plt.ylabel('Efficiency')\n",
    "plt.legend(loc='best', numpoints=1)\n",
    "plt.xticks(range(len(candidateSelection_nameList)+1), ['all']+candidateSelection_nameList, rotation=80)\n",
    "plt.ylim(0\n",
    "         ,1.05)\n",
    "plt.xlim(-1, len(candidateSelection_nameList)+1)\n",
    "plt.grid()\n",
    "plt.gcf().set_size_inches(10, 6)"
   ]
  },
  {
   "cell_type": "code",
   "execution_count": null,
   "metadata": {},
   "outputs": [],
   "source": [
    "allCuts = ' && '.join(candidateSelection_stringList)\n",
    "cat = ['cat_low', 'cat_mid', 'cat_high']\n",
    "eff = {}\n",
    "for n, t in T.iteritems():\n",
    "    print n\n",
    "    eff[n] = np.zeros((2*len(cat), 2))\n",
    "    Ntot = float(t.GetEntries())\n",
    "    Nsel = t.GetEntries(allCuts)\n",
    "    eff[n][0] = getEff(Nsel, Ntot)\n",
    "    for ic, c in enumerate(cat):\n",
    "        eff[n][ic] = getEff(t.GetEntries(c), Ntot)\n",
    "    for ic, c in enumerate(cat):\n",
    "        eff[n][ic+len(cat)] = getEff(t.GetEntries(c + ' && ' + allCuts), Ntot)\n",
    "        print n, '{:.2f} +/- {:.2f} %'.format(*(100*eff[n][ic+len(cat)]))\n",
    "\n",
    "for n in T.keys():\n",
    "    y = np.array(eff[n])\n",
    "    x = np.arange(y.shape[0])\n",
    "    plt.errorbar(x, y[:, 0], y[:,1], lw=0, elinewidth=3, label=n)\n",
    "\n",
    "plt.rcParams.update({'font.size': 20})\n",
    "plt.xlabel('Cut')\n",
    "plt.ylabel('Efficiency')\n",
    "plt.legend(loc='best', numpoints=1)\n",
    "plt.xticks(range(2*len(cat)+1), cat+['all & '+c.replace('cat_', '') for c in cat], rotation=45)\n",
    "plt.ylim(0.7*np.min([np.min(e[:,0]) for e in eff.values()]), plt.ylim()[1])\n",
    "plt.xlim(-1,plt.xlim()[1]+1)\n",
    "# plt.yscale('log')\n",
    "plt.grid()\n",
    "plt.gcf().set_size_inches(10, 6)"
   ]
  },
  {
   "cell_type": "code",
   "execution_count": null,
   "metadata": {},
   "outputs": [],
   "source": []
  }
 ],
 "metadata": {
  "kernelspec": {
   "display_name": "Python 2",
   "language": "python",
   "name": "python2"
  },
  "language_info": {
   "codemirror_mode": {
    "name": "ipython",
    "version": 2
   },
   "file_extension": ".py",
   "mimetype": "text/x-python",
   "name": "python",
   "nbconvert_exporter": "python",
   "pygments_lexer": "ipython2",
   "version": "2.7.14+"
  },
  "varInspector": {
   "cols": {
    "lenName": 16,
    "lenType": 16,
    "lenVar": 40
   },
   "kernels_config": {
    "python": {
     "delete_cmd_postfix": "",
     "delete_cmd_prefix": "del ",
     "library": "var_list.py",
     "varRefreshCmd": "print(var_dic_list())"
    },
    "r": {
     "delete_cmd_postfix": ") ",
     "delete_cmd_prefix": "rm(",
     "library": "var_list.r",
     "varRefreshCmd": "cat(var_dic_list()) "
    }
   },
   "types_to_exclude": [
    "module",
    "function",
    "builtin_function_or_method",
    "instance",
    "_Feature"
   ],
   "window_display": false
  }
 },
 "nbformat": 4,
 "nbformat_minor": 2
}
