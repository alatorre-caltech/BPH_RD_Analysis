{
 "cells": [
  {
   "cell_type": "code",
   "execution_count": 1,
   "metadata": {
    "ExecuteTime": {
     "end_time": "2021-06-04T04:56:09.213128Z",
     "start_time": "2021-06-04T04:56:09.204370Z"
    }
   },
   "outputs": [],
   "source": [
    "import os, pickle\n",
    "from math import sqrt\n",
    "import numpy as np"
   ]
  },
  {
   "cell_type": "code",
   "execution_count": 20,
   "metadata": {
    "ExecuteTime": {
     "end_time": "2021-06-10T01:06:00.783775Z",
     "start_time": "2021-06-10T01:06:00.773680Z"
    }
   },
   "outputs": [],
   "source": [
    "def sumWithUnc(nList, scale=1.):\n",
    "    x = 0\n",
    "    dx = 0\n",
    "    for b in nList:\n",
    "        x += b[0]\n",
    "        dx += b[1]**2\n",
    "    dx = sqrt(dx)\n",
    "    \n",
    "    x *= scale\n",
    "    dx *= scale\n",
    "    print '{:1.2e} +/- {:1.2e} ({:.2f}%)'.format(x, dx, 100*np.abs(dx)/x)\n",
    "    return np.array([x, dx])"
   ]
  },
  {
   "cell_type": "code",
   "execution_count": 3,
   "metadata": {
    "ExecuteTime": {
     "end_time": "2021-06-04T04:56:12.020144Z",
     "start_time": "2021-06-04T04:56:12.008077Z"
    }
   },
   "outputs": [],
   "source": [
    "def multWithUnc(nList):\n",
    "    x = 1\n",
    "    auxD = 0\n",
    "    for b, db in nList:\n",
    "        x *= b\n",
    "        auxD += (db/b)**2\n",
    "    dx = x*np.sqrt(auxD)\n",
    "    return np.array([x, dx])"
   ]
  },
  {
   "cell_type": "code",
   "execution_count": 4,
   "metadata": {
    "ExecuteTime": {
     "end_time": "2021-06-04T04:56:12.270782Z",
     "start_time": "2021-06-04T04:56:12.262729Z"
    }
   },
   "outputs": [],
   "source": [
    "def divideWithUnc(n, d):\n",
    "    x = n[0]/d[0]\n",
    "    dx = x*np.hypot(n[1]/n[0], d[1]/d[0])\n",
    "    return np.array([x, dx])"
   ]
  },
  {
   "cell_type": "code",
   "execution_count": null,
   "metadata": {
    "ExecuteTime": {
     "end_time": "2021-05-20T03:00:57.924264Z",
     "start_time": "2021-05-20T03:00:57.915478Z"
    }
   },
   "outputs": [],
   "source": [
    "(176 - 158.8)/np.hypot(32, 2.73)"
   ]
  },
  {
   "cell_type": "code",
   "execution_count": 12,
   "metadata": {
    "ExecuteTime": {
     "end_time": "2021-06-09T19:19:59.159087Z",
     "start_time": "2021-06-09T19:19:59.138996Z"
    }
   },
   "outputs": [
    {
     "data": {
      "text/plain": [
       "array([3.08072   , 0.16721574])"
      ]
     },
     "execution_count": 12,
     "metadata": {},
     "output_type": "execute_result"
    }
   ],
   "source": [
    "multWithUnc([[19.4, 1.], [1e-3*158.8, 1e-3*2.7]])"
   ]
  },
  {
   "cell_type": "code",
   "execution_count": 11,
   "metadata": {
    "ExecuteTime": {
     "end_time": "2021-06-09T05:28:28.567874Z",
     "start_time": "2021-06-09T05:28:28.550944Z"
    }
   },
   "outputs": [
    {
     "data": {
      "text/plain": [
       "array([0.04397906, 0.01296099])"
      ]
     },
     "execution_count": 11,
     "metadata": {},
     "output_type": "execute_result"
    }
   ],
   "source": [
    "divideWithUnc([0.42, 0.12], [9.55, 0.69])"
   ]
  },
  {
   "cell_type": "code",
   "execution_count": null,
   "metadata": {
    "ExecuteTime": {
     "end_time": "2021-05-06T00:10:48.366661Z",
     "start_time": "2021-05-06T00:10:48.317169Z"
    }
   },
   "outputs": [],
   "source": [
    "# Create the output dictionary\n",
    "dout = {}"
   ]
  },
  {
   "cell_type": "code",
   "execution_count": null,
   "metadata": {
    "ExecuteTime": {
     "end_time": "2021-05-06T00:10:48.454709Z",
     "start_time": "2021-05-06T00:10:48.372406Z"
    }
   },
   "outputs": [],
   "source": [
    "# https://pdglive.lbl.gov/BranchingRatio.action?desig=1&parCode=S035\n",
    "tau_to_MuNuNu = [0.1739, 0.0004]"
   ]
  },
  {
   "cell_type": "code",
   "execution_count": null,
   "metadata": {
    "ExecuteTime": {
     "end_time": "2021-05-06T00:10:48.586531Z",
     "start_time": "2021-05-06T00:10:48.459963Z"
    }
   },
   "outputs": [],
   "source": [
    "# https://pdglive.lbl.gov/Particle.action?init=0&node=M018&home=MXXX020\n",
    "Kst_to_KPi = [1., 1e-4]"
   ]
  },
  {
   "cell_type": "code",
   "execution_count": null,
   "metadata": {
    "ExecuteTime": {
     "end_time": "2021-05-06T00:10:48.700860Z",
     "start_time": "2021-05-06T00:10:48.589775Z"
    }
   },
   "outputs": [],
   "source": [
    "# https://pdglive.lbl.gov/Particle.action?init=0&node=S032&home=MXXX035#decayclump_C (Gamma 35)\n",
    "antiD0_to_KpPim = [0.03950, 0.00031]\n",
    "dout['antiD0_K+pi-'] = antiD0_to_KpPim\n",
    "\n",
    "# https://pdglive.lbl.gov/Particle.action?init=0&node=M062&home=MXXX035 (Gamma 1)\n",
    "Dstm_to_antiD0Pim = [0.677, 0.005]\n",
    "dout['D*-_antiD0pi-'] = Dstm_to_antiD0Pim\n",
    "\n",
    "# antiD10_to_DstmPip = [0.6667, 0.3]"
   ]
  },
  {
   "cell_type": "code",
   "execution_count": null,
   "metadata": {
    "ExecuteTime": {
     "end_time": "2021-05-06T00:10:48.797644Z",
     "start_time": "2021-05-06T00:10:48.707164Z"
    }
   },
   "outputs": [],
   "source": [
    "# https://pdglive.lbl.gov/Particle.action?init=0&node=M070&home=MXXX025 (Gamma 7)\n",
    "JPsi_to_MuMu = [5.961e-2, 0.033e-2]"
   ]
  },
  {
   "cell_type": "code",
   "execution_count": null,
   "metadata": {
    "ExecuteTime": {
     "end_time": "2021-05-06T00:10:48.848176Z",
     "start_time": "2021-05-06T00:10:48.803173Z"
    }
   },
   "outputs": [],
   "source": [
    "# Not sure\n",
    "Dsp_to_MuX = [6.33e-2, 1e-2]"
   ]
  },
  {
   "cell_type": "code",
   "execution_count": null,
   "metadata": {
    "ExecuteTime": {
     "end_time": "2021-05-06T00:10:48.947714Z",
     "start_time": "2021-05-06T00:10:48.853239Z"
    }
   },
   "outputs": [],
   "source": [
    "# https://pdglive.lbl.gov/Particle.action?init=0&node=S032&home=MXXX035#decayclump_A (Gamma 6)\n",
    "D0_to_Mu = [6.8e-2, 0.6e-2]\n",
    "\n",
    "# https://pdglive.lbl.gov/Particle.action?init=0&node=S031&home=MXXX035#decayclump_A (Gamma 2)\n",
    "Dp_to_Mu = [17.6e-2, 3.2e-2]\n",
    "\n",
    "# https://pdglive.lbl.gov/Particle.action?init=0&node=S034&home=MXXX040#decayclump_C\n",
    "# Gamma 20,21,25,29,30\n",
    "Dsp_to_Mu = [7.44e-2, 0.8e-2]"
   ]
  },
  {
   "cell_type": "code",
   "execution_count": null,
   "metadata": {
    "ExecuteTime": {
     "end_time": "2021-05-20T05:44:33.202908Z",
     "start_time": "2021-05-20T05:44:33.192931Z"
    }
   },
   "outputs": [],
   "source": [
    "aux1 = 1.5*sumWithUnc([\n",
    "    [2.47, 0.21],\n",
    "    [10.6, 0.9],\n",
    "])\n",
    "aux2 = 2*sumWithUnc([[1.5*5.43, 1.5*0.47], \n",
    "                     [0.54, 0.04]])\n",
    "B0_to_DstmD0X = 1e-3*sumWithUnc([aux1, aux2])\n",
    "\n",
    "print B0_to_DstmD0X*D0_to_Mu[0]"
   ]
  },
  {
   "cell_type": "code",
   "execution_count": null,
   "metadata": {
    "ExecuteTime": {
     "end_time": "2021-05-20T06:23:42.065410Z",
     "start_time": "2021-05-20T06:23:42.055946Z"
    }
   },
   "outputs": [],
   "source": [
    "aux1 = [3*3.2, 3*0.25]\n",
    "aux2 = 2*sumWithUnc([[1.5*2.67, 1.5*0.23], \n",
    "                     [0.26, 0.02],\n",
    "                     [0.61, 0.15]\n",
    "                    ])\n",
    "B0_to_DstmDpX = 1e-3*sumWithUnc([aux1, aux2])\n",
    "\n",
    "print B0_to_DstmDpX*Dp_to_Mu[0]"
   ]
  },
  {
   "cell_type": "code",
   "execution_count": null,
   "metadata": {
    "ExecuteTime": {
     "end_time": "2021-05-20T06:26:00.673423Z",
     "start_time": "2021-05-20T06:26:00.667248Z"
    }
   },
   "outputs": [],
   "source": [
    "B0_to_DstmDsX = 1e-3*sumWithUnc([\n",
    "    [8.0, 1.1],\n",
    "    [17.7, 0.14],\n",
    "    [1.5, 1.0]\n",
    "])\n",
    "\n",
    "print B0_to_DstmDsX*Dsp_to_Mu[0]"
   ]
  },
  {
   "cell_type": "code",
   "execution_count": null,
   "metadata": {
    "ExecuteTime": {
     "end_time": "2021-05-20T07:31:36.745102Z",
     "start_time": "2021-05-20T07:31:36.736360Z"
    }
   },
   "outputs": [],
   "source": [
    "aux1 = 1.5*sumWithUnc([\n",
    "    [3.8, 0.4],\n",
    "    [9.2, 1.2],\n",
    "    [2*0.88, 2*0.12]\n",
    "])\n",
    "aux2 = sumWithUnc([[0.39, 0.5], [0.81, 0.17]])\n",
    "Bu_to_DstD0X = 1e-3*sumWithUnc([aux1, aux2])\n",
    "print Bu_to_DstD0X*D0_to_Mu[0]"
   ]
  },
  {
   "cell_type": "code",
   "execution_count": null,
   "metadata": {
    "ExecuteTime": {
     "end_time": "2021-05-20T07:40:02.819745Z",
     "start_time": "2021-05-20T07:40:02.812566Z"
    }
   },
   "outputs": [],
   "source": [
    "Bu_to_DstDpX = 1e-3*1.5*sumWithUnc([\n",
    "    [0.6, 0.12],\n",
    "    [0.63, 0.11],\n",
    "    [2*0.44, 2*0.06]\n",
    "])\n",
    "print Bu_to_DstDpX*Dp_to_Mu[0]"
   ]
  },
  {
   "cell_type": "code",
   "execution_count": null,
   "metadata": {
    "ExecuteTime": {
     "end_time": "2021-05-06T00:10:49.048266Z",
     "start_time": "2021-05-06T00:10:48.954286Z"
    }
   },
   "outputs": [],
   "source": [
    "# #this uncertainties will be treated a posteriori in the datacard\n",
    "# B0_to_DstmD0 = [3.23e-2, 1e-6]\n",
    "# B0_to_DstmDp = [1.24e-2, 1e-6]\n",
    "# B0_to_DstmDsp = [2.67e-2, 1e-6]"
   ]
  },
  {
   "cell_type": "code",
   "execution_count": null,
   "metadata": {
    "ExecuteTime": {
     "end_time": "2021-05-06T00:10:49.127663Z",
     "start_time": "2021-05-06T00:10:49.053523Z"
    }
   },
   "outputs": [],
   "source": [
    "# https://pdglive.lbl.gov/Particle.action?init=0&node=S042&home=MXXX045 (Gamma 6)\n",
    "B0_to_DstmMuNu = np.array([5.05e-2, 0.14e-2])"
   ]
  },
  {
   "cell_type": "code",
   "execution_count": null,
   "metadata": {
    "ExecuteTime": {
     "end_time": "2021-05-06T00:10:49.200245Z",
     "start_time": "2021-05-06T00:10:49.133516Z"
    }
   },
   "outputs": [],
   "source": [
    "# Not sure\n",
    "B0_to_DstHc = [10.2e-2 , 2e-2]"
   ]
  },
  {
   "cell_type": "code",
   "execution_count": null,
   "metadata": {
    "ExecuteTime": {
     "end_time": "2021-05-06T00:10:49.315371Z",
     "start_time": "2021-05-06T00:10:49.206192Z"
    }
   },
   "outputs": [],
   "source": [
    "# Sum of Gamma 202 and 203\n",
    "Bp_to_DmstHc = sumWithUnc([[6.0e-4, 1.3e-4], [7.9e-4, 1.1e-4]])"
   ]
  },
  {
   "cell_type": "code",
   "execution_count": null,
   "metadata": {
    "ExecuteTime": {
     "end_time": "2021-05-06T00:10:49.383048Z",
     "start_time": "2021-05-06T00:10:49.321174Z"
    }
   },
   "outputs": [],
   "source": [
    "# Scaled sum of PDG gamma: 194, 195, 202 and 203\n",
    "Bm_to_DmstHc = sumWithUnc([[1.47e-3, 0.15e-3], \n",
    "                           [3.55e-3, 0.46e-3],\n",
    "                           [6.0e-4, 1.3e-4], \n",
    "                           [7.9e-4, 1.1e-4],\n",
    "                           [6e-4, 1e-3] #Rough correction for the K* decays not included in the card\n",
    "                          ])"
   ]
  },
  {
   "cell_type": "code",
   "execution_count": null,
   "metadata": {
    "ExecuteTime": {
     "end_time": "2021-05-06T00:10:49.463156Z",
     "start_time": "2021-05-06T00:10:49.389106Z"
    }
   },
   "outputs": [],
   "source": [
    "# Sum of Gamma 172 and 173\n",
    "antiB0_to_DmstHc = sumWithUnc([[3.2e-3, 0.25e-3], [4.82e-3, 0.41e-3]])"
   ]
  },
  {
   "cell_type": "code",
   "execution_count": null,
   "metadata": {
    "ExecuteTime": {
     "end_time": "2021-05-06T00:10:49.568224Z",
     "start_time": "2021-05-06T00:10:49.468400Z"
    }
   },
   "outputs": [],
   "source": [
    "# https://pdglive.lbl.gov/BranchingRatio.action?desig=22&parCode=S042&home=MXXX045\n",
    "B0_to_JPsiKst = [1.27e-3, 0.05e-3]"
   ]
  },
  {
   "cell_type": "code",
   "execution_count": null,
   "metadata": {
    "ExecuteTime": {
     "end_time": "2021-05-06T00:10:49.652308Z",
     "start_time": "2021-05-06T00:10:49.574811Z"
    }
   },
   "outputs": [],
   "source": [
    "# https://pdglive.lbl.gov/BranchingRatio.action?desig=3&parCode=S041\n",
    "Bp_to_JPsiK = [1.00e-3, 0.05e-3]"
   ]
  },
  {
   "cell_type": "code",
   "execution_count": null,
   "metadata": {
    "ExecuteTime": {
     "end_time": "2021-05-06T00:10:49.767352Z",
     "start_time": "2021-05-06T00:10:49.657302Z"
    }
   },
   "outputs": [],
   "source": [
    "# Bp_to_D10MuNu_to_DstmPip = [3.03e-3 , 0.20e-3]\n",
    "# Bp_to_D1primeMuNu_to_DstmPip = [2.70e-3 , 0.6e-3]\n",
    "# Bp_to_D2stMuNu_to_DstmPip = [1.01e-3, 0.24e-3]\n",
    "\n",
    "# https://pdglive.lbl.gov/Particle.action?init=0&node=S041&home=MXXX045#decayclump_A (Gamma 12)\n",
    "Bp_to_DstPipMuNu = np.array([6e-3, 0.4e-3])\n",
    "\n",
    "# Assuming isospin and compativle with Gamma(B0) 12/2\n",
    "B0_to_DstPi0MuNu = 0.5*Bp_to_DstPipMuNu"
   ]
  },
  {
   "cell_type": "code",
   "execution_count": null,
   "metadata": {
    "ExecuteTime": {
     "end_time": "2021-05-06T00:10:49.817385Z",
     "start_time": "2021-05-06T00:10:49.773437Z"
    }
   },
   "outputs": [],
   "source": [
    "# https://inspirehep.net/literature/1385752\n",
    "RstPipPim = np.array([0.019, np.hypot(0.005, 0.004)])\n",
    "\n",
    "B0_to_DstPipPimMuNu = multWithUnc([B0_to_DstmMuNu, RstPipPim])\n",
    "Bp_to_DstPipPi0MuNu = B0_to_DstPipPimMuNu/2 # isospin symm\n",
    "B0_to_DstPi0Pi0MuNu = B0_to_DstPipPimMuNu/4 # isospin symm"
   ]
  },
  {
   "cell_type": "code",
   "execution_count": null,
   "metadata": {
    "ExecuteTime": {
     "end_time": "2021-05-06T00:10:50.042616Z",
     "start_time": "2021-05-06T00:10:49.823413Z"
    }
   },
   "outputs": [],
   "source": [
    "# https://pdglive.lbl.gov/Particle.action?init=0&node=S042&home=MXXX045#decayclump_C (Gamma 11)\n",
    "# B0_to_DnPiEllNu = np.array([0.023, 0.005])\n",
    "\n",
    "# B0_to_D0PimEllNu = np.array([4.1e-3, 0.5e-3]) # (Gamma 8)\n",
    "# B0_to_DPiEllNu = 1.5*B0_to_D0PimEllNu\n",
    "\n",
    "# B0_to_Dst0PimEllNu = np.array([5.8e-3, 0.8e-3]) # (Gamma 12)\n",
    "# B0_to_DstPiEllNu = 1.5*B0_to_Dst0PimEllNu\n",
    "\n",
    "# B0_to_DstPipPimEllNu = np.array([1.4e-3, 0.5e-3]) # (Gamma 17)\n",
    "# B0_to_DstPiPiEllNu = (5./4.)*B0_to_DstPipPimEllNu\n",
    "# B0_to_DPiPiEllNu = B0_to_DstPiPiEllNu\n",
    "\n",
    "# missingGamma = sumWithUnc([B0_to_DnPiEllNu, -B0_to_DPiEllNu, -B0_to_DstPiEllNu, \n",
    "#                            -B0_to_DstPiPiEllNu, -B0_to_DPiPiEllNu])\n",
    "\n",
    "# # half are D and not Dst; half are electrons and not muon\n",
    "# # Only 1/3 are D*-\n",
    "# B0_to_DstmPiPiPiMuNu = sumWithUnc([missingGamma / (2*2*3)])"
   ]
  },
  {
   "cell_type": "code",
   "execution_count": null,
   "metadata": {
    "ExecuteTime": {
     "end_time": "2021-05-06T00:10:50.105824Z",
     "start_time": "2021-05-06T00:10:50.047759Z"
    }
   },
   "outputs": [],
   "source": [
    "# https://pdglive.lbl.gov/Particle.action?init=0&node=S041&home=MXXX045#decayclump_A (Gamma 11)\n",
    "# Bp_to_DnPiEllNu = np.array([0.0188, 0.00025])\n",
    "\n",
    "# Bp_to_DmPimEllNu = np.array([4.4e-3, 0.4e-3]) # (Gamma 8)\n",
    "# Bp_to_DPiEllNu = 1.5*Bp_to_DmPimEllNu\n",
    "\n",
    "# Bp_to_DstmPipEllNu = np.array([6.0e-3, 0.4e-3]) # (Gamma 12)\n",
    "# Bp_to_DstPiEllNu = (3./2.)*Bp_to_DstmPipEllNu\n",
    "\n",
    "# Bp_to_Dst0PipPimEllNu = np.array([8e-4, 5e-4]) # (Gamma 17)\n",
    "# Bp_to_DstPiPiEllNu = (3./2.)*B0_to_DstPipPimEllNu\n",
    "\n",
    "# Bp_to_D0PipPimEllNu = np.array([1.7e-3, 0.4e-3]) # (Gamma 16)\n",
    "# Bp_to_DPiPiEllNu = (3./2.)*Bp_to_D0PipPimEllNu\n",
    "\n",
    "# missingGamma = sumWithUnc([Bp_to_DnPiEllNu, -Bp_to_DPiEllNu, -Bp_to_DstPiEllNu, \n",
    "#                            -Bp_to_DstPiPiEllNu, -Bp_to_DPiPiEllNu])\n",
    "# # half are D and not Dst; half are electrons and not muon;\n",
    "# # Only 2/3 are D*-\n",
    "# Bp_to_DstmPiPiPiMuNu = sumWithUnc([2*missingGamma / (2*2*3)])"
   ]
  },
  {
   "cell_type": "code",
   "execution_count": null,
   "metadata": {
    "ExecuteTime": {
     "end_time": "2021-05-06T00:10:50.194585Z",
     "start_time": "2021-05-06T00:10:50.109637Z"
    }
   },
   "outputs": [],
   "source": [
    "def computeBr(dl):\n",
    "    r = 1\n",
    "    e2_dr_r = 0\n",
    "    for c in dl:\n",
    "        r *= c[0]\n",
    "        e2_dr_r += (c[1]/c[0])**2\n",
    "    dr = sqrt(e2_dr_r)*r\n",
    "    print '{:1.2e} +/- {:1.2e} ({:.2f}%)'.format(r, dr, 100*dr/r)\n",
    "    return [r, dr]"
   ]
  },
  {
   "cell_type": "markdown",
   "metadata": {},
   "source": [
    "# Compute double charm intemerdiate results"
   ]
  },
  {
   "cell_type": "markdown",
   "metadata": {},
   "source": [
    "## $D_{s}$"
   ]
  },
  {
   "cell_type": "code",
   "execution_count": 21,
   "metadata": {
    "ExecuteTime": {
     "end_time": "2021-06-10T01:06:23.612554Z",
     "start_time": "2021-06-10T01:06:23.603285Z"
    },
    "code_folding": [
     0
    ]
   },
   "outputs": [
    {
     "name": "stdout",
     "output_type": "stream",
     "text": [
      "Total processes: 7\n",
      "7.54e-02 +/- 2.06e-03 (2.73%)\n"
     ]
    }
   ],
   "source": [
    "Ds_to_MuX_list = [ # [10^-3]\n",
    "    [23.9, 1.6],\n",
    "    [23.2, 0.8],\n",
    "    [8.0, 0.7],\n",
    "    [3.4, 0.4],\n",
    "    [2.15, 0.28],\n",
    "    [9.31, 0.39],\n",
    "    [5.49, 0.39]\n",
    "]\n",
    "\n",
    "print 'Total processes:', len(Ds_to_MuX_list)\n",
    "\n",
    "Ds_to_MuX = sumWithUnc(Ds_to_MuX_list, scale=1e-3)"
   ]
  },
  {
   "cell_type": "code",
   "execution_count": null,
   "metadata": {
    "ExecuteTime": {
     "end_time": "2021-05-06T00:10:50.254463Z",
     "start_time": "2021-05-06T00:10:50.200919Z"
    },
    "hide_input": true
   },
   "outputs": [],
   "source": [
    "# Dsp_to_MuNuX_dic = {\n",
    "# 'eta'        : [2.4e-2, 0.5e-2],\n",
    "# 'eta_prime'  : [1.1e-2, 0.5e-2],\n",
    "# 'phi'        : [1.9e-2, 0.5e-2],\n",
    "# ''           : [0.55e-2, 0.02e-2],\n",
    "# 'doubleNutau': computeBr([[0.055, 0.002], [0.1740, 0.0004]]),\n",
    "# 'K0'         : [0.3e-2, 0.1e-2]\n",
    "# }\n",
    "\n",
    "# Dsp_to_MuNuX_sum = sumWithUnc(Dsp_to_MuNuX_dic.values())"
   ]
  },
  {
   "cell_type": "code",
   "execution_count": null,
   "metadata": {
    "ExecuteTime": {
     "end_time": "2021-05-06T00:10:50.304361Z",
     "start_time": "2021-05-06T00:10:50.258458Z"
    },
    "hide_input": true
   },
   "outputs": [],
   "source": [
    "# Dsp_to_MuNuX_0tks = {\n",
    "# 'eta'        : 0.72,\n",
    "# 'eta_prime'  : 0.23,\n",
    "# 'phi'        : 0.12,\n",
    "# ''           : 1.,\n",
    "# 'doubleNutau': 1.,\n",
    "# 'K0'         : 0.5\n",
    "# }"
   ]
  },
  {
   "cell_type": "code",
   "execution_count": null,
   "metadata": {
    "ExecuteTime": {
     "end_time": "2021-05-06T00:10:50.406030Z",
     "start_time": "2021-05-06T00:10:50.310875Z"
    },
    "hide_input": true
   },
   "outputs": [],
   "source": [
    "# r0Tks = np.sum([Dsp_to_MuNuX_0tks[n]*Dsp_to_MuNuX_dic[n][0] for n in Dsp_to_MuNuX_0tks.keys()])/Dsp_to_MuNuX_sum[0]"
   ]
  },
  {
   "cell_type": "code",
   "execution_count": null,
   "metadata": {
    "ExecuteTime": {
     "end_time": "2021-05-06T00:10:50.470224Z",
     "start_time": "2021-05-06T00:10:50.411763Z"
    },
    "hide_input": true
   },
   "outputs": [],
   "source": [
    "# def dR_dBn(n, R):\n",
    "#     return (Dsp_to_MuNuX_0tks[n] - R)/Dsp_to_MuNuX_sum[0]"
   ]
  },
  {
   "cell_type": "code",
   "execution_count": null,
   "metadata": {
    "ExecuteTime": {
     "end_time": "2021-05-06T00:10:50.631475Z",
     "start_time": "2021-05-06T00:10:50.476679Z"
    },
    "hide_input": true
   },
   "outputs": [],
   "source": [
    "# s2_r0Tks = 0\n",
    "# for n in Dsp_to_MuNuX_0tks.keys():\n",
    "#     s2_r0Tks += dR_dBn(n, r0Tks)**2 * Dsp_to_MuNuX_dic[n][1]**2\n",
    "# s_r0Tks = sqrt(s2_r0Tks)\n",
    "\n",
    "# print '{:1.2e} +/- {:1.2e} ({:.2f}%)'.format(r0Tks, s_r0Tks, 100*s_r0Tks/r0Tks)\n",
    "# Dsp_r0Tks = [r0Tks, s_r0Tks]"
   ]
  },
  {
   "cell_type": "markdown",
   "metadata": {},
   "source": [
    "## $D_0$"
   ]
  },
  {
   "cell_type": "code",
   "execution_count": 22,
   "metadata": {
    "ExecuteTime": {
     "end_time": "2021-06-10T01:11:59.181010Z",
     "start_time": "2021-06-10T01:11:59.170773Z"
    },
    "code_folding": [
     0
    ]
   },
   "outputs": [
    {
     "name": "stdout",
     "output_type": "stream",
     "text": [
      "Total processes: 9\n",
      "6.08e-02 +/- 2.48e-03 (4.08%)\n"
     ]
    }
   ],
   "source": [
    "Du_to_MuX_list = [ # [10^-3]\n",
    "    [34.1, 0.4],\n",
    "    [18.9, 2.4],\n",
    "    [2.67, 0.12],\n",
    "    [1.50, 0.12],\n",
    "    [0.76, 0.30],\n",
    "    [0.77, 0.16],\n",
    "    [0.39, 0.01],\n",
    "    [0.30, 0.30],\n",
    "    [1.45, 0.07]\n",
    "]\n",
    "\n",
    "print 'Total processes:', len(Du_to_MuX_list)\n",
    "\n",
    "Du_to_MuX = sumWithUnc(Du_to_MuX_list, scale=1e-3)"
   ]
  },
  {
   "cell_type": "code",
   "execution_count": null,
   "metadata": {
    "ExecuteTime": {
     "end_time": "2021-05-06T00:10:50.674410Z",
     "start_time": "2021-05-06T00:10:50.636205Z"
    },
    "hide_input": true
   },
   "outputs": [],
   "source": [
    "# D0_to_MuNuX_dic = {\n",
    "# 'K-'         : [3.41e-2, 0.04e-2],\n",
    "# 'Kst-'       : [1.89e-2, 0.24e-2],\n",
    "# 'pi-'        : [0.26e-2, 0.01e-2],\n",
    "# # 'rho-'       : [0.5e-2, 0.3e-2],\n",
    "# # 'antiK0_pi-' : [0.5e-2, 0.3e-2],\n",
    "# }\n",
    "\n",
    "# D0_to_MuNuX_sum = sumWithUnc(D0_to_MuNuX_dic.values())"
   ]
  },
  {
   "cell_type": "markdown",
   "metadata": {
    "hide_input": false
   },
   "source": [
    "They all essentially do 1 tracks in the final state"
   ]
  },
  {
   "cell_type": "markdown",
   "metadata": {},
   "source": [
    "## $D^+$"
   ]
  },
  {
   "cell_type": "code",
   "execution_count": null,
   "metadata": {},
   "outputs": [],
   "source": [
    "Du_to_MuX_list = [ # [10^-3]\n",
    "    [34.1, 0.4],\n",
    "    [18.9, 2.4],\n",
    "    [2.67, 0.12],\n",
    "    [1.50, 0.12],\n",
    "    [0.76, 0.30],\n",
    "    [0.77, 0.16],\n",
    "    [0.39, 0.01],\n",
    "    [0.30, 0.30],\n",
    "    [1.45, 0.07]\n",
    "]\n",
    "\n",
    "print 'Total processes:', len(Du_to_MuX_list)\n",
    "\n",
    "Du_to_MuX = sumWithUnc(Du_to_MuX_list, scale=1e-3)"
   ]
  },
  {
   "cell_type": "code",
   "execution_count": null,
   "metadata": {
    "ExecuteTime": {
     "end_time": "2021-05-06T00:10:50.735876Z",
     "start_time": "2021-05-06T00:10:50.680107Z"
    },
    "hide_input": true
   },
   "outputs": [],
   "source": [
    "# Dp_to_MuNuX_dic = {\n",
    "# 'antiK0'    : [8.76e-2, 0.19e-2],\n",
    "# 'K-pi+'     : [3.65e-2, 0.34e-2],\n",
    "# 'antiK*0'   : [5.27e-2, 0.15e-2],\n",
    "# }\n",
    "\n",
    "# Dp_to_MuNuX_sum = sumWithUnc(Dp_to_MuNuX_dic.values())"
   ]
  },
  {
   "cell_type": "code",
   "execution_count": null,
   "metadata": {
    "ExecuteTime": {
     "end_time": "2021-05-06T00:10:50.829253Z",
     "start_time": "2021-05-06T00:10:50.741920Z"
    },
    "hide_input": true
   },
   "outputs": [],
   "source": [
    "# Dp_to_MuNuX_0tks = {\n",
    "# 'antiK0'    : 1-0.7*0.5,\n",
    "# 'K-pi+'     : 0,\n",
    "# 'antiK*0'   : 0.33\n",
    "# }"
   ]
  },
  {
   "cell_type": "code",
   "execution_count": null,
   "metadata": {
    "ExecuteTime": {
     "end_time": "2021-05-06T00:10:50.929369Z",
     "start_time": "2021-05-06T00:10:50.835840Z"
    },
    "hide_input": true
   },
   "outputs": [],
   "source": [
    "# r0Tks = np.sum([Dp_to_MuNuX_0tks[n]*Dp_to_MuNuX_dic[n][0] for n in Dp_to_MuNuX_0tks.keys()])/Dp_to_MuNuX_sum[0]\n",
    "# s2_r0Tks = 0\n",
    "# for n in Dp_to_MuNuX_0tks.keys():\n",
    "#     s2_r0Tks += ((Dp_to_MuNuX_0tks[n] - r0Tks)/Dp_to_MuNuX_sum[0])**2 * Dp_to_MuNuX_dic[n][1]**2\n",
    "# s_r0Tks = sqrt(s2_r0Tks)\n",
    "\n",
    "# print '{:1.2e} +/- {:1.2e} ({:.2f}%)'.format(r0Tks, s_r0Tks, 100*s_r0Tks/r0Tks)\n",
    "# Dp_r0Tks = [r0Tks, s_r0Tks]"
   ]
  },
  {
   "cell_type": "markdown",
   "metadata": {},
   "source": [
    "## $B_0 \\to D^*H_c$"
   ]
  },
  {
   "cell_type": "code",
   "execution_count": null,
   "metadata": {
    "ExecuteTime": {
     "end_time": "2021-05-06T00:10:51.045149Z",
     "start_time": "2021-05-06T00:10:50.935643Z"
    }
   },
   "outputs": [],
   "source": [
    "B0_to_DstHc_dic = {\n",
    "'D*-Ds+'   : [0.80e-2, 0.10e-2],\n",
    "'D*-Ds*+'  : [1.77e-2, 0.15e-2],\n",
    "'D*-D0K+'  : [0.25e-2, 0.02e-2],\n",
    "'D*-D*0K+' : [1.06e-2, 0.09e-2],\n",
    "'D*-D+K0'  : [0.32e-2, 0.02e-2],\n",
    "'D*-D*+K0' : [0.81e-2, 0.07e-2],\n",
    "}\n",
    "B0_to_DstHc_sum = sumWithUnc(B0_to_DstHc_dic.values())"
   ]
  },
  {
   "cell_type": "markdown",
   "metadata": {},
   "source": [
    "# Define the actual factors"
   ]
  },
  {
   "cell_type": "code",
   "execution_count": null,
   "metadata": {
    "ExecuteTime": {
     "end_time": "2021-05-06T00:10:51.094665Z",
     "start_time": "2021-05-06T00:10:51.050074Z"
    }
   },
   "outputs": [],
   "source": [
    "dout['mu'] = computeBr([B0_to_DstmMuNu, Dstm_to_antiD0Pim, antiD0_to_KpPim])"
   ]
  },
  {
   "cell_type": "code",
   "execution_count": null,
   "metadata": {
    "ExecuteTime": {
     "end_time": "2021-05-06T00:10:51.202419Z",
     "start_time": "2021-05-06T00:10:51.100499Z"
    }
   },
   "outputs": [],
   "source": [
    "# Tau gets everything but R(D*)\n",
    "dout['tau'] = computeBr([B0_to_DstmMuNu, Dstm_to_antiD0Pim, antiD0_to_KpPim, tau_to_MuNuNu])"
   ]
  },
  {
   "cell_type": "code",
   "execution_count": null,
   "metadata": {
    "ExecuteTime": {
     "end_time": "2021-05-06T00:10:51.350144Z",
     "start_time": "2021-05-06T00:10:51.208598Z"
    }
   },
   "outputs": [],
   "source": [
    "dout['DstPip'] = computeBr([Bp_to_DstPipMuNu, Dstm_to_antiD0Pim, antiD0_to_KpPim])"
   ]
  },
  {
   "cell_type": "code",
   "execution_count": null,
   "metadata": {
    "ExecuteTime": {
     "end_time": "2021-05-06T00:10:51.433647Z",
     "start_time": "2021-05-06T00:10:51.356397Z"
    }
   },
   "outputs": [],
   "source": [
    "dout['DstPi0'] = computeBr([B0_to_DstPi0MuNu, Dstm_to_antiD0Pim, antiD0_to_KpPim])"
   ]
  },
  {
   "cell_type": "code",
   "execution_count": null,
   "metadata": {
    "ExecuteTime": {
     "end_time": "2021-05-06T00:10:51.505264Z",
     "start_time": "2021-05-06T00:10:51.439291Z"
    }
   },
   "outputs": [],
   "source": [
    "dout['DstPipPi0'] = computeBr([Bp_to_DstPipPi0MuNu, Dstm_to_antiD0Pim, antiD0_to_KpPim])"
   ]
  },
  {
   "cell_type": "code",
   "execution_count": null,
   "metadata": {
    "ExecuteTime": {
     "end_time": "2021-05-06T00:10:51.596138Z",
     "start_time": "2021-05-06T00:10:51.511442Z"
    }
   },
   "outputs": [],
   "source": [
    "dout['DstPipPim'] = computeBr([B0_to_DstPipPimMuNu, Dstm_to_antiD0Pim, antiD0_to_KpPim])"
   ]
  },
  {
   "cell_type": "code",
   "execution_count": null,
   "metadata": {
    "ExecuteTime": {
     "end_time": "2021-05-06T00:10:51.700025Z",
     "start_time": "2021-05-06T00:10:51.602401Z"
    }
   },
   "outputs": [],
   "source": [
    "dout['DstPi0Pi0'] = computeBr([B0_to_DstPi0Pi0MuNu, Dstm_to_antiD0Pim, antiD0_to_KpPim])"
   ]
  },
  {
   "cell_type": "code",
   "execution_count": null,
   "metadata": {
    "ExecuteTime": {
     "end_time": "2021-05-06T00:11:45.313390Z",
     "start_time": "2021-05-06T00:11:45.303944Z"
    }
   },
   "outputs": [],
   "source": [
    "# dout['B0DstPiPiPi'] = computeBr([B0_to_DstmPiPiPiMuNu, Dstm_to_antiD0Pim, antiD0_to_KpPim])\n",
    "# dout['BpDstPiPiPi'] = computeBr([Bp_to_DstmPiPiPiMuNu, Dstm_to_antiD0Pim, antiD0_to_KpPim])"
   ]
  },
  {
   "cell_type": "code",
   "execution_count": null,
   "metadata": {
    "ExecuteTime": {
     "end_time": "2021-05-06T00:12:04.082186Z",
     "start_time": "2021-05-06T00:12:04.069562Z"
    }
   },
   "outputs": [],
   "source": [
    "RDst = [0.25, 0.05]\n",
    "dout['TauDstPi0'] = computeBr([RDst, B0_to_DstPi0MuNu, Dstm_to_antiD0Pim, antiD0_to_KpPim, tau_to_MuNuNu])\n",
    "dout['TauDstPip'] = computeBr([RDst, Bp_to_DstPipMuNu, Dstm_to_antiD0Pim, antiD0_to_KpPim, tau_to_MuNuNu])"
   ]
  },
  {
   "cell_type": "code",
   "execution_count": null,
   "metadata": {
    "ExecuteTime": {
     "end_time": "2021-05-06T00:12:05.002614Z",
     "start_time": "2021-05-06T00:12:04.993186Z"
    }
   },
   "outputs": [],
   "source": [
    "dout['Hc'] = computeBr([B0_to_DstHc, Dsp_to_MuX, Dstm_to_antiD0Pim, antiD0_to_KpPim])"
   ]
  },
  {
   "cell_type": "code",
   "execution_count": null,
   "metadata": {
    "ExecuteTime": {
     "end_time": "2021-05-06T00:12:05.700594Z",
     "start_time": "2021-05-06T00:12:05.693944Z"
    }
   },
   "outputs": [],
   "source": [
    "dout['DstmD0'] = computeBr([B0_to_DstmD0, D0_to_Mu, Dstm_to_antiD0Pim, antiD0_to_KpPim])\n",
    "dout['DstmDp'] = computeBr([B0_to_DstmDp, Dp_to_Mu, Dstm_to_antiD0Pim, antiD0_to_KpPim])\n",
    "dout['DstmDsp'] = computeBr([B0_to_DstmDsp, Dsp_to_Mu, Dstm_to_antiD0Pim, antiD0_to_KpPim])"
   ]
  },
  {
   "cell_type": "code",
   "execution_count": null,
   "metadata": {
    "ExecuteTime": {
     "end_time": "2021-05-06T00:12:06.304795Z",
     "start_time": "2021-05-06T00:12:06.291766Z"
    }
   },
   "outputs": [],
   "source": [
    "dout['BpDstmHc'] = computeBr([Bp_to_DmstHc, Dp_to_Mu, Dstm_to_antiD0Pim, antiD0_to_KpPim])\n",
    "dout['BmDstmHc'] = computeBr([Bm_to_DmstHc, Dp_to_Mu, Dstm_to_antiD0Pim, antiD0_to_KpPim])\n",
    "dout['antiB0DstmHc'] = computeBr([antiB0_to_DmstHc, Dp_to_Mu, Dstm_to_antiD0Pim, antiD0_to_KpPim])"
   ]
  },
  {
   "cell_type": "code",
   "execution_count": null,
   "metadata": {
    "ExecuteTime": {
     "end_time": "2021-05-06T00:12:07.332101Z",
     "start_time": "2021-05-06T00:12:07.322402Z"
    }
   },
   "outputs": [],
   "source": [
    "dout['JPsiKst'] = computeBr([B0_to_JPsiKst, JPsi_to_MuMu, Kst_to_KPi])"
   ]
  },
  {
   "cell_type": "code",
   "execution_count": null,
   "metadata": {
    "ExecuteTime": {
     "end_time": "2021-05-06T00:12:14.047452Z",
     "start_time": "2021-05-06T00:12:14.037635Z"
    }
   },
   "outputs": [],
   "source": [
    "dout['JPsiK'] = computeBr([Bp_to_JPsiK, JPsi_to_MuMu, Kst_to_KPi])"
   ]
  },
  {
   "cell_type": "markdown",
   "metadata": {},
   "source": [
    "Dump the output dictionary"
   ]
  },
  {
   "cell_type": "code",
   "execution_count": null,
   "metadata": {
    "ExecuteTime": {
     "end_time": "2021-05-06T00:12:15.284689Z",
     "start_time": "2021-05-06T00:12:15.269637Z"
    }
   },
   "outputs": [],
   "source": [
    "pickle.dump(dout, open('../data/forcedDecayChannelsFactors.pickle', 'wb'))"
   ]
  }
 ],
 "metadata": {
  "kernelspec": {
   "display_name": "Python 2",
   "language": "python",
   "name": "python2"
  },
  "language_info": {
   "codemirror_mode": {
    "name": "ipython",
    "version": 2
   },
   "file_extension": ".py",
   "mimetype": "text/x-python",
   "name": "python",
   "nbconvert_exporter": "python",
   "pygments_lexer": "ipython2",
   "version": "2.7.14+"
  },
  "varInspector": {
   "cols": {
    "lenName": 16,
    "lenType": 16,
    "lenVar": 40
   },
   "kernels_config": {
    "python": {
     "delete_cmd_postfix": "",
     "delete_cmd_prefix": "del ",
     "library": "var_list.py",
     "varRefreshCmd": "print(var_dic_list())"
    },
    "r": {
     "delete_cmd_postfix": ") ",
     "delete_cmd_prefix": "rm(",
     "library": "var_list.r",
     "varRefreshCmd": "cat(var_dic_list()) "
    }
   },
   "types_to_exclude": [
    "module",
    "function",
    "builtin_function_or_method",
    "instance",
    "_Feature"
   ],
   "window_display": false
  }
 },
 "nbformat": 4,
 "nbformat_minor": 2
}
