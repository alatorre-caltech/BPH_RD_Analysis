{
 "cells": [
  {
   "cell_type": "code",
   "execution_count": 1,
   "metadata": {
    "ExecuteTime": {
     "end_time": "2019-06-06T22:32:03.542562Z",
     "start_time": "2019-06-06T22:32:01.781670Z"
    }
   },
   "outputs": [
    {
     "name": "stdout",
     "output_type": "stream",
     "text": [
      "Welcome to JupyROOT 6.16/00\n"
     ]
    }
   ],
   "source": [
    "import numpy as np\n",
    "import uproot as ur\n",
    "import ROOT as rt\n",
    "import root_numpy as rtnp\n",
    "import ROOT.RooFit as rf\n",
    "from scipy.special import erf\n",
    "from histo_utilities import create_TH1D, create_TH2D, std_color_list\n",
    "from cebefo_style import Set_2D_colz_graphics\n",
    "\n",
    "import CMS_lumi, tdrstyle\n",
    "tdrstyle.setTDRStyle()\n",
    "CMS_lumi.writeExtraText = 1\n",
    "CMS_lumi.extraText = \"     Preliminary\"\n",
    "\n",
    "donotdelete = []"
   ]
  },
  {
   "cell_type": "code",
   "execution_count": 2,
   "metadata": {
    "ExecuteTime": {
     "end_time": "2019-06-06T22:32:03.562281Z",
     "start_time": "2019-06-06T22:32:03.546966Z"
    }
   },
   "outputs": [],
   "source": [
    "# %jsroot on"
   ]
  },
  {
   "cell_type": "code",
   "execution_count": 3,
   "metadata": {
    "ExecuteTime": {
     "end_time": "2019-06-06T22:32:03.572094Z",
     "start_time": "2019-06-06T22:32:03.566420Z"
    }
   },
   "outputs": [],
   "source": [
    "from analysis_utilities import drawOnCMSCanvas, extarct, extarct_multiple, createSel"
   ]
  },
  {
   "cell_type": "code",
   "execution_count": 4,
   "metadata": {
    "ExecuteTime": {
     "end_time": "2019-06-06T22:32:03.604388Z",
     "start_time": "2019-06-06T22:32:03.576345Z"
    }
   },
   "outputs": [],
   "source": [
    "rt.gErrorIgnoreLevel = rt.kError\n",
    "rt.RooMsgService.instance().setGlobalKillBelow(rt.RooFit.ERROR)"
   ]
  },
  {
   "cell_type": "markdown",
   "metadata": {},
   "source": [
    "# Data loading"
   ]
  },
  {
   "cell_type": "code",
   "execution_count": 5,
   "metadata": {
    "ExecuteTime": {
     "end_time": "2019-06-06T22:32:49.124481Z",
     "start_time": "2019-06-06T22:32:48.889973Z"
    },
    "scrolled": true
   },
   "outputs": [
    {
     "name": "stdout",
     "output_type": "stream",
     "text": [
      "['LumiBlock', 'MC_B_P', 'MC_B_eta', 'MC_B_phi', 'MC_B_pt', 'MC_D0_P', 'MC_D0_eta', 'MC_D0_phi', 'MC_D0_pt', 'MC_Dst_P', 'MC_Dst_eta', 'MC_Dst_phi', 'MC_Dst_pt', 'MC_Est_mu', 'MC_M2_miss', 'MC_mu_P', 'MC_mu_eta', 'MC_mu_phi', 'MC_mu_pt', 'MC_pis_P', 'MC_pis_eta', 'MC_pis_phi', 'MC_pis_pt', 'MC_q2', 'Run', 'eventNumber', 'n_B', 'n_D0', 'n_Dst', 'n_K', 'n_pi', 'n_pis', 'trgMu_charge', 'trgMu_eta', 'trgMu_phi', 'trgMu_pt', 'B_E', 'B_P', 'B_eta', 'B_phi', 'B_pt', 'B_pz', 'D0_E', 'D0_P', 'D0_eta', 'D0_phi', 'D0_pt', 'D0_pz', 'Dst_E', 'Dst_P', 'Dst_eta', 'Dst_phi', 'Dst_pt', 'Dst_pz', 'Est_mu', 'K_E', 'K_P', 'K_eta', 'K_phi', 'K_pt', 'K_pz', 'M2_miss', 'chi2_D0pis', 'chi2_MuDst', 'chi2_kpi', 'cos_D0pis_vtxMu', 'cos_MuDst_vtxBest', 'cos_kpi_vtxMu', 'd_vtxD0pis_vtxMu', 'd_vtxkpi_vtxMu', 'dca_D0pis_vtxMu', 'dca_kpi_vtxMu', 'mass_D0pis', 'mass_MuDst', 'mass_kpi', 'mu_E', 'mu_P', 'mu_eta', 'mu_phi', 'mu_pt', 'mu_pz', 'pi_E', 'pi_P', 'pi_eta', 'pi_phi', 'pi_pt', 'pi_pz', 'pis_E', 'pis_P', 'pis_eta', 'pis_phi', 'pis_pt', 'pis_pz', 'q2', 'sigd_vtxD0pis_vtxMu', 'sigd_vtxkpi_vtxMu', 'sigdca_D0pis_vtxMu', 'sigdca_kpi_vtxMu'] \n",
      "\n",
      "\n",
      "B_E\n",
      "B_P\n",
      "B_eta\n",
      "B_phi\n",
      "B_pt\n",
      "B_pz\n",
      "D0_E\n",
      "D0_P\n",
      "D0_eta\n",
      "D0_phi\n",
      "D0_pt\n",
      "D0_pz\n",
      "Dst_E\n",
      "Dst_P\n",
      "Dst_eta\n",
      "Dst_phi\n",
      "Dst_pt\n",
      "Dst_pz\n",
      "Est_mu\n",
      "K_E\n",
      "K_P\n",
      "K_eta\n",
      "K_phi\n",
      "K_pt\n",
      "K_pz\n",
      "LumiBlock\n",
      "M2_miss\n",
      "MC_B_P\n",
      "MC_B_eta\n",
      "MC_B_phi\n",
      "MC_B_pt\n",
      "MC_D0_P\n",
      "MC_D0_eta\n",
      "MC_D0_phi\n",
      "MC_D0_pt\n",
      "MC_Dst_P\n",
      "MC_Dst_eta\n",
      "MC_Dst_phi\n",
      "MC_Dst_pt\n",
      "MC_Est_mu\n",
      "MC_M2_miss\n",
      "MC_mu_P\n",
      "MC_mu_eta\n",
      "MC_mu_phi\n",
      "MC_mu_pt\n",
      "MC_pis_P\n",
      "MC_pis_eta\n",
      "MC_pis_phi\n",
      "MC_pis_pt\n",
      "MC_q2\n",
      "Run\n",
      "chi2_D0pis\n",
      "chi2_MuDst\n",
      "chi2_kpi\n",
      "cos_D0pis_vtxMu\n",
      "cos_MuDst_vtxBest\n",
      "cos_kpi_vtxMu\n",
      "d_vtxD0pis_vtxMu\n",
      "d_vtxkpi_vtxMu\n",
      "dca_D0pis_vtxMu\n",
      "dca_kpi_vtxMu\n",
      "eventNumber\n",
      "mass_D0pis\n",
      "mass_MuDst\n",
      "mass_kpi\n",
      "mu_E\n",
      "mu_P\n",
      "mu_eta\n",
      "mu_phi\n",
      "mu_pt\n",
      "mu_pz\n",
      "n_B\n",
      "n_D0\n",
      "n_Dst\n",
      "n_K\n",
      "n_pi\n",
      "n_pis\n",
      "pi_E\n",
      "pi_P\n",
      "pi_eta\n",
      "pi_phi\n",
      "pi_pt\n",
      "pi_pz\n",
      "pis_E\n",
      "pis_P\n",
      "pis_eta\n",
      "pis_phi\n",
      "pis_pt\n",
      "pis_pz\n",
      "q2\n",
      "sigd_vtxD0pis_vtxMu\n",
      "sigd_vtxkpi_vtxMu\n",
      "sigdca_D0pis_vtxMu\n",
      "sigdca_kpi_vtxMu\n",
      "trgMu_charge\n",
      "trgMu_eta\n",
      "trgMu_phi\n",
      "trgMu_pt\n"
     ]
    }
   ],
   "source": [
    "tMC = ur.open('../data/cmsMC_private/BPH_Tag-B0_MuNuDmst-pD0bar-kp_13TeV-pythia8_SoftQCD_PTFilter5_0p0-evtgen_HQET2_central_PU35_10-2-3_v0/B02DstMu_candidates/out_0.root')['outA']['Tevts']\n",
    "print tMC.keys(), '\\n\\n'\n",
    "branches = tMC.keys()\n",
    "for b in np.sort(branches):\n",
    "    print b"
   ]
  },
  {
   "cell_type": "code",
   "execution_count": 6,
   "metadata": {
    "ExecuteTime": {
     "end_time": "2019-06-06T22:32:50.339782Z",
     "start_time": "2019-06-06T22:32:50.321943Z"
    }
   },
   "outputs": [],
   "source": [
    "file_loc = {}\n",
    "file_loc['data'] = '../data/cmsRD/Run2018D/B02DstMu_190517_BPH*.root'\n",
    "file_loc['mu'] = '../data/cmsMC_private/BPH_Tag-B0_MuNuDmst-pD0bar-kp_13TeV-pythia8_SoftQCD_PTFilter5_0p0-evtgen_HQET2_central_PU35_10-2-3_v0/B02DstMu_candidates/out*.root'\n",
    "file_loc['tau'] = '../data/cmsMC_private/BPH_Tag-B0_TauNuDmst-pD0bar-kp-t2mnn_pythia8_SoftQCD_PTFilter5_0p0-evtgen_HQET2_central_PU35_10-2-3_v0/B02DstMu_candidates/out*.root'"
   ]
  },
  {
   "cell_type": "code",
   "execution_count": 7,
   "metadata": {
    "ExecuteTime": {
     "end_time": "2019-06-06T22:34:30.989851Z",
     "start_time": "2019-06-06T22:32:51.113798Z"
    }
   },
   "outputs": [
    {
     "name": "stdout",
     "output_type": "stream",
     "text": [
      "mu : 15963 candidates\n",
      "tau : 7222 candidates\n",
      "data : 323091 candidates\n"
     ]
    }
   ],
   "source": [
    "dSet = {}\n",
    "for k, fn in file_loc.iteritems():\n",
    "    dSet[k] = extarct_multiple(fn, branches=branches, flag=k)\n",
    "    print k, ':', dSet[k]['Est_mu'].shape[0], 'candidates'"
   ]
  },
  {
   "cell_type": "markdown",
   "metadata": {},
   "source": [
    "# Analysis parameters"
   ]
  },
  {
   "cell_type": "markdown",
   "metadata": {},
   "source": [
    "Selection declaration"
   ]
  },
  {
   "cell_type": "code",
   "execution_count": 8,
   "metadata": {
    "ExecuteTime": {
     "end_time": "2019-06-06T22:35:02.411117Z",
     "start_time": "2019-06-06T22:35:02.396072Z"
    }
   },
   "outputs": [],
   "source": [
    "analysis_selection = {}\n",
    "analysis_selection['mass_MuDst'] = ['<', 5.280]\n",
    "analysis_selection['cos_MuDst_vtxBest'] = ['>', 0.98]\n",
    "analysis_selection['q2'] = ['>', -2]\n",
    "# analysis_selection['M2_miss'] = ['>', -2]"
   ]
  },
  {
   "cell_type": "markdown",
   "metadata": {},
   "source": [
    "Binning declaration"
   ]
  },
  {
   "cell_type": "code",
   "execution_count": 9,
   "metadata": {
    "ExecuteTime": {
     "end_time": "2019-06-06T22:47:24.531229Z",
     "start_time": "2019-06-06T22:47:24.514862Z"
    }
   },
   "outputs": [],
   "source": [
    "binning = {}\n",
    "binning['q2'] = [4, -2, 10.7]\n",
    "binning['M2_miss'] = [40/2, -5, 8]\n",
    "binning['Est_mu'] = [30/2, 0.4, 2.500]"
   ]
  },
  {
   "cell_type": "markdown",
   "metadata": {},
   "source": [
    "# Create histograms"
   ]
  },
  {
   "cell_type": "code",
   "execution_count": 10,
   "metadata": {
    "ExecuteTime": {
     "end_time": "2019-06-06T22:35:04.145691Z",
     "start_time": "2019-06-06T22:35:04.056261Z"
    }
   },
   "outputs": [],
   "source": [
    "histo= {}\n",
    "for k in file_loc.keys():\n",
    "    histo[k] = rt.TH3F('h_'+k, k, \n",
    "                     binning['q2'][0], binning['q2'][1], binning['q2'][2],\n",
    "                     binning['M2_miss'][0], binning['M2_miss'][1], binning['M2_miss'][2],      \n",
    "                     binning['Est_mu'][0], binning['Est_mu'][1], binning['Est_mu'][2]\n",
    "                    )\n",
    "\n",
    "    d = dSet[k]\n",
    "    sel = createSel(d, analysis_selection)\n",
    "    \n",
    "    aux = {}\n",
    "    for kk in binning.keys():\n",
    "        aux[kk] = np.copy(d[kk][sel])\n",
    "        \n",
    "        low_v = binning[kk][1] + 0.5*float(binning[kk][2] - binning[kk][1])/binning[kk][0]\n",
    "        aux[kk][aux[kk] < binning[kk][1]] = low_v\n",
    "        \n",
    "        high_v = binning[kk][2] - 0.5*float(binning[kk][2] - binning[kk][1])/binning[kk][0]\n",
    "        aux[kk][aux[kk] > binning[kk][2]] = high_v\n",
    "    \n",
    "    rtnp.fill_hist(histo[k], np.column_stack((aux['q2'], aux['M2_miss'], aux['Est_mu'])))"
   ]
  },
  {
   "cell_type": "code",
   "execution_count": 11,
   "metadata": {
    "ExecuteTime": {
     "end_time": "2019-06-06T22:35:04.605781Z",
     "start_time": "2019-06-06T22:35:04.589224Z"
    }
   },
   "outputs": [
    {
     "name": "stdout",
     "output_type": "stream",
     "text": [
      "mu : 15696.0\n",
      "tau : 7128.0\n",
      "data : 316427.0\n"
     ]
    }
   ],
   "source": [
    "for k,h in histo.iteritems():\n",
    "    print k, ':', h.Integral()"
   ]
  },
  {
   "cell_type": "code",
   "execution_count": 15,
   "metadata": {
    "ExecuteTime": {
     "end_time": "2019-06-06T22:35:05.086314Z",
     "start_time": "2019-06-06T22:35:05.080374Z"
    }
   },
   "outputs": [],
   "source": [
    "if False:\n",
    "    tf = rt.TFile('../data/_root/histos_3D.root', 'recreate')\n",
    "    for k,v in histo.iteritems():\n",
    "        v.Write()\n",
    "    tf.Close()"
   ]
  },
  {
   "cell_type": "markdown",
   "metadata": {},
   "source": [
    "# Fit just $q^2$"
   ]
  },
  {
   "cell_type": "code",
   "execution_count": 16,
   "metadata": {
    "ExecuteTime": {
     "end_time": "2019-06-06T22:35:07.350834Z",
     "start_time": "2019-06-06T22:35:07.287879Z"
    }
   },
   "outputs": [],
   "source": [
    "h_q2 = {}\n",
    "bin_q2_only = [50, -5, 12]\n",
    "leg = rt.TLegend(0.5,0.6,0.9,0.9)\n",
    "for k in file_loc.keys():\n",
    "    d = dSet[k]\n",
    "    sel = createSel(d, analysis_selection)\n",
    "    \n",
    "    aux = np.copy(d['q2'][sel])\n",
    "        \n",
    "    low_v = bin_q2_only[1] + 0.5*float(bin_q2_only[2] - bin_q2_only[1])/bin_q2_only[0]\n",
    "    aux[aux < bin_q2_only[1]] = low_v\n",
    "\n",
    "    high_v = bin_q2_only[2] - 0.5*float(bin_q2_only[2] - bin_q2_only[1])/bin_q2_only[0]\n",
    "    aux[aux > bin_q2_only[2]] = high_v\n",
    "    \n",
    "    h_q2[k] = create_TH1D(aux, name='h_q2_'+k, binning=bin_q2_only)\n",
    "    h_q2[k].Sumw2()"
   ]
  },
  {
   "cell_type": "code",
   "execution_count": 17,
   "metadata": {
    "ExecuteTime": {
     "end_time": "2019-06-06T22:35:13.925510Z",
     "start_time": "2019-06-06T22:35:13.908285Z"
    }
   },
   "outputs": [],
   "source": [
    "# if True:\n",
    "#     tf = rt.TFile('../data/_root/histos_1Dq2.root', 'recreate')\n",
    "#     for k,v in h_q2.iteritems():\n",
    "#         if k == 'mu':\n",
    "#             v.Scale(h_q2['data'].GetEntries()*0.99/v.GetEntries())\n",
    "#         if k == 'tau':\n",
    "#             v.Scale(h_q2['data'].GetEntries()*0.01/v.GetEntries())\n",
    "#         v.Write()\n",
    "#     tf.Close()"
   ]
  },
  {
   "cell_type": "code",
   "execution_count": 18,
   "metadata": {
    "ExecuteTime": {
     "end_time": "2019-06-06T22:35:14.483876Z",
     "start_time": "2019-06-06T22:35:14.467894Z"
    }
   },
   "outputs": [],
   "source": [
    "N_data = h_q2['data'].Integral()\n",
    "test_raw_yeld = 0.1"
   ]
  },
  {
   "cell_type": "code",
   "execution_count": 19,
   "metadata": {
    "ExecuteTime": {
     "end_time": "2019-06-06T22:35:15.857802Z",
     "start_time": "2019-06-06T22:35:15.603887Z"
    }
   },
   "outputs": [
    {
     "data": {
      "image/png": "[encoded data removed]",
      "text/plain": [
       "<IPython.core.display.Image object>"
      ]
     },
     "metadata": {},
     "output_type": "display_data"
    }
   ],
   "source": [
    "c =  rt.TCanvas('c', 'c', 800,600)\n",
    "h_q2['data'].Draw()\n",
    "h_q2['mu'].Scale(N_data*(1-test_raw_yeld)/h_q2['mu'].Integral())\n",
    "h_q2['mu'].SetLineColor(2)\n",
    "# h_q2['mu'].Sumw2(0)\n",
    "h_q2['mu'].Draw('SAME')\n",
    "\n",
    "h_q2['tau'].Scale(N_data*test_raw_yeld/h_q2['tau'].Integral())\n",
    "h_q2['tau'].SetLineColor(4)\n",
    "# h_q2['tau'].Sumw2(0)\n",
    "h_q2['tau'].Draw('SAME')\n",
    "\n",
    "h_sum = h_q2['mu'].Clone('h_sum')\n",
    "h_sum.Add(h_q2['mu'], h_q2['tau'])\n",
    "h_sum.SetLineColor(16)\n",
    "h_sum.Draw('SAME')\n",
    "\n",
    "c.Draw()"
   ]
  },
  {
   "cell_type": "code",
   "execution_count": 20,
   "metadata": {
    "ExecuteTime": {
     "end_time": "2019-06-06T22:35:18.985138Z",
     "start_time": "2019-06-06T22:35:18.749619Z"
    },
    "scrolled": true
   },
   "outputs": [
    {
     "data": {
      "text/plain": [
       "<ROOT.RooFitResult object at 0x0>"
      ]
     },
     "execution_count": 20,
     "metadata": {},
     "output_type": "execute_result"
    },
    {
     "name": "stdout",
     "output_type": "stream",
     "text": [
      " **********\n",
      " **    1 **SET PRINT           1\n",
      " **********\n",
      " **********\n",
      " **    2 **SET NOGRAD\n",
      " **********\n",
      " PARAMETER DEFINITIONS:\n",
      "    NO.   NAME         VALUE      STEP SIZE      LIMITS\n",
      "     1 n_mu         2.84784e+05  3.16427e+04    1.00000e+00  3.48070e+05\n",
      "     2 n_tau        3.16427e+04  1.58209e+04    1.00000e+00  3.48070e+05\n",
      " **********\n",
      " **    3 **SET ERR         0.5\n",
      " **********\n",
      " **********\n",
      " **    4 **SET PRINT           1\n",
      " **********\n",
      " **********\n",
      " **    5 **SET STR           1\n",
      " **********\n",
      " NOW USING STRATEGY  1: TRY TO BALANCE SPEED AGAINST RELIABILITY\n",
      " **********\n",
      " **    6 **MIGRAD        1000           1\n",
      " **********\n",
      " FIRST CALL TO USER FUNCTION AT NEW START POINT, WITH IFLAG=4.\n",
      " START MIGRAD MINIMIZATION.  STRATEGY  1.  CONVERGENCE WHEN EDM .LT. 1.00e-03\n",
      " FCN=-2.94915e+06 FROM MIGRAD    STATUS=INITIATE       12 CALLS          13 TOTAL\n",
      "                     EDM= unknown      STRATEGY= 1      NO ERROR MATRIX       \n",
      "  EXT PARAMETER               CURRENT GUESS       STEP         FIRST   \n",
      "  NO.   NAME      VALUE            ERROR          SIZE      DERIVATIVE \n",
      "   1  n_mu         2.84784e+05   3.16427e+04   2.43190e-01   1.73077e+02\n",
      "   2  n_tau        3.16427e+04   1.58209e+04   1.63376e-01  -1.16547e+03\n",
      "                               ERR DEF= 0.5\n",
      " MIGRAD MINIMIZATION HAS CONVERGED.\n",
      " MIGRAD WILL VERIFY CONVERGENCE AND ERROR MATRIX.\n",
      " COVARIANCE MATRIX CALCULATED SUCCESSFULLY\n",
      " FCN=-2.9492e+06 FROM MIGRAD    STATUS=CONVERGED      52 CALLS          53 TOTAL\n",
      "                     EDM=2.35288e-07    STRATEGY= 1      ERROR MATRIX ACCURATE \n",
      "  EXT PARAMETER                                   STEP         FIRST   \n",
      "  NO.   NAME      VALUE            ERROR          SIZE      DERIVATIVE \n",
      "   1  n_mu         2.75771e+05   9.62420e+02   4.70653e-03  -1.16434e-01\n",
      "   2  n_tau        4.06555e+04   8.33022e+02   5.14530e-03  -1.06368e-01\n",
      "                               ERR DEF= 0.5\n",
      " EXTERNAL ERROR MATRIX.    NDIM=  25    NPAR=  2    ERR DEF=0.5\n",
      "  9.263e+05 -6.518e+05 \n",
      " -6.518e+05  6.939e+05 \n",
      " PARAMETER  CORRELATION COEFFICIENTS  \n",
      "       NO.  GLOBAL      1      2\n",
      "        1  0.81297   1.000 -0.813\n",
      "        2  0.81297  -0.813  1.000\n",
      " **********\n",
      " **    7 **SET ERR         0.5\n",
      " **********\n",
      " **********\n",
      " **    8 **SET PRINT           1\n",
      " **********\n",
      " **********\n",
      " **    9 **HESSE        1000\n",
      " **********\n",
      " COVARIANCE MATRIX CALCULATED SUCCESSFULLY\n",
      " FCN=-2.9492e+06 FROM HESSE     STATUS=OK             10 CALLS          63 TOTAL\n",
      "                     EDM=2.34878e-07    STRATEGY= 1      ERROR MATRIX ACCURATE \n",
      "  EXT PARAMETER                                INTERNAL      INTERNAL  \n",
      "  NO.   NAME      VALUE            ERROR       STEP SIZE       VALUE   \n",
      "   1  n_mu         2.75771e+05   9.67918e+02   1.88261e-04   6.24354e-01\n",
      "   2  n_tau        4.06555e+04   8.37774e+02   2.05812e-04  -8.73217e-01\n",
      "                               ERR DEF= 0.5\n",
      " EXTERNAL ERROR MATRIX.    NDIM=  25    NPAR=  2    ERR DEF=0.5\n",
      "  9.369e+05 -6.612e+05 \n",
      " -6.612e+05  7.019e+05 \n",
      " PARAMETER  CORRELATION COEFFICIENTS  \n",
      "       NO.  GLOBAL      1      2\n",
      "        1  0.81533   1.000 -0.815\n",
      "        2  0.81533  -0.815  1.000\n"
     ]
    }
   ],
   "source": [
    "q2 = rt.RooRealVar('q2', 'q^{2}', bin_q2_only[1], bin_q2_only[2], 'GeV^{2}')\n",
    "\n",
    "data = rt.RooDataHist('Data', 'Data', rt.RooArgList(q2), h_q2['data'])\n",
    "\n",
    "dh_mu = rt.RooDataHist('dh_mu', 'mu', rt.RooArgList(q2), h_q2['mu'])\n",
    "pdf_mu = rt.RooHistPdf('pdf_mu', 'pdf_mu', rt.RooArgSet(q2), dh_mu)\n",
    "n_mu = rt.RooRealVar('n_mu', 'N_{#mu}', 0.9*h_q2['data'].Integral(), 1, 1.1*h_q2['data'].Integral())\n",
    "\n",
    "\n",
    "dh_tau = rt.RooDataHist('dh_tau', 'tau', rt.RooArgList(q2), h_q2['tau'])\n",
    "pdf_tau = rt.RooHistPdf('pdf_tau', 'pdf_tau', rt.RooArgSet(q2), dh_tau)\n",
    "n_tau = rt.RooRealVar('n_tau', 'N_{#tau}', 0.1*h_q2['data'].Integral(), 1, 1.1*h_q2['data'].Integral())\n",
    "\n",
    "pdf_tot = rt.RooAddPdf('pdftot', 'pdftot', rt.RooArgList(pdf_mu, pdf_tau), rt.RooArgList(n_mu, n_tau))\n",
    "pdf_tot.fitTo(data)"
   ]
  },
  {
   "cell_type": "code",
   "execution_count": 21,
   "metadata": {
    "ExecuteTime": {
     "end_time": "2019-06-06T22:35:20.359951Z",
     "start_time": "2019-06-06T22:35:20.148325Z"
    }
   },
   "outputs": [
    {
     "name": "stdout",
     "output_type": "stream",
     "text": [
      "N data: 316427\n",
      "N mu: 275771 +/- 968\n",
      "N tau: 40656 +/- 838\n",
      "Raw yeld: 14.7 +/- 0.3 %\n"
     ]
    },
    {
     "data": {
      "image/png": "[encoded data removed]",
      "text/plain": [
       "<IPython.core.display.Image object>"
      ]
     },
     "metadata": {},
     "output_type": "display_data"
    }
   ],
   "source": [
    "frame = q2.frame(rf.Title(\"\"))\n",
    "data.plotOn(frame, rf.MarkerStyle(1))\n",
    "\n",
    "pdf_tot.plotOn(frame, rf.LineColor(16), rf.LineWidth(2), rf.Name('Sum'))\n",
    "pdf_tot.plotOn(frame, rf.Components('pdf_mu'), rf.LineColor(2), rf.LineWidth(2), rf.Name('Mu'))\n",
    "pdf_tot.plotOn(frame, rf.Components('pdf_tau'), rf.LineColor(4), rf.LineWidth(2), rf.Name('Tau'))\n",
    "        \n",
    "# i_pad = i_q2*N_cols + i_v + 1\n",
    "# pad = canvas.cd(i_pad)\n",
    "# pad.SetTopMargin(0.05)\n",
    "# pad.SetBottomMargin(0.13)\n",
    "# pad.SetRightMargin(0.03)\n",
    "# pad.SetLeftMargin(0.22)\n",
    "    \n",
    "CMS_lumi.extraText = \"     Preliminary\"\n",
    "c = drawOnCMSCanvas(CMS_lumi, frame)\n",
    "# c.SetLogy()\n",
    "\n",
    "print 'N data: {:.0f}'.format(h_q2['data'].Integral())\n",
    "print 'N mu: {:.0f} +/- {:.0f}'.format(n_mu.getVal(), n_mu.getError())\n",
    "print 'N tau: {:.0f} +/- {:.0f}'.format(n_tau.getVal(), n_tau.getError())\n",
    "r = n_tau.getVal()/n_mu.getVal()\n",
    "dr = r*np.hypot(n_mu.getError()/n_mu.getVal(), n_tau.getError()/n_tau.getVal())\n",
    "print 'Raw yeld: {:.1f} +/- {:.1f} %'.format(100*r, 100*dr)"
   ]
  },
  {
   "cell_type": "markdown",
   "metadata": {},
   "source": [
    "# Create RooFit workspace"
   ]
  },
  {
   "cell_type": "code",
   "execution_count": 12,
   "metadata": {
    "ExecuteTime": {
     "end_time": "2019-06-06T22:48:22.736344Z",
     "start_time": "2019-06-06T22:48:22.719370Z"
    }
   },
   "outputs": [],
   "source": [
    "q2 = rt.RooRealVar('q2', 'q^{2}', binning['q2'][1], binning['q2'][2], 'GeV^{2}')\n",
    "M2_miss = rt.RooRealVar('M2_miss', 'M^{2}_{miss}', binning['M2_miss'][1], binning['M2_miss'][2], 'GeV^{2}')\n",
    "Est_mu = rt.RooRealVar('Est_mu', 'E_{#mu}*', binning['Est_mu'][1], binning['Est_mu'][2], 'GeV')"
   ]
  },
  {
   "cell_type": "code",
   "execution_count": 13,
   "metadata": {
    "ExecuteTime": {
     "end_time": "2019-06-06T22:48:22.911616Z",
     "start_time": "2019-06-06T22:48:22.894295Z"
    }
   },
   "outputs": [],
   "source": [
    "data = rt.RooDataHist('data', 'Data', rt.RooArgList(q2, M2_miss, Est_mu), histo['data'])"
   ]
  },
  {
   "cell_type": "code",
   "execution_count": 14,
   "metadata": {
    "ExecuteTime": {
     "end_time": "2019-06-06T22:48:23.079807Z",
     "start_time": "2019-06-06T22:48:23.062783Z"
    }
   },
   "outputs": [],
   "source": [
    "dh_mu = rt.RooDataHist('dh_mu', 'mu', rt.RooArgList(q2, M2_miss, Est_mu), histo['mu'])\n",
    "pdf_mu = rt.RooHistPdf('pdf_mu', 'pdf_mu', rt.RooArgSet(q2, M2_miss, Est_mu), dh_mu)\n",
    "n_mu = rt.RooRealVar('n_mu', 'N_{#mu}', 275771, 0, 1.1*histo['data'].Integral())\n",
    "\n",
    "dh_tau = rt.RooDataHist('dh_tau', 'tau', rt.RooArgList(q2, M2_miss, Est_mu), histo['tau'])\n",
    "pdf_tau = rt.RooHistPdf('pdf_tau', 'pdf_tau', rt.RooArgSet(q2, M2_miss, Est_mu), dh_tau)\n",
    "n_tau = rt.RooRealVar('n_tau', 'N_{#tau}', 40656, 0, 1.1*histo['data'].Integral())"
   ]
  },
  {
   "cell_type": "code",
   "execution_count": 15,
   "metadata": {
    "ExecuteTime": {
     "end_time": "2019-06-06T22:48:23.240005Z",
     "start_time": "2019-06-06T22:48:23.223061Z"
    },
    "scrolled": true
   },
   "outputs": [],
   "source": [
    "pdf_tot = rt.RooAddPdf('pdftot', 'pdftot', rt.RooArgList(pdf_mu, pdf_tau), rt.RooArgList(n_mu, n_tau))\n",
    "# pdf_tot.fitTo(data)"
   ]
  },
  {
   "cell_type": "code",
   "execution_count": 16,
   "metadata": {
    "ExecuteTime": {
     "end_time": "2019-06-06T22:48:23.420470Z",
     "start_time": "2019-06-06T22:48:23.401202Z"
    }
   },
   "outputs": [
    {
     "name": "stdout",
     "output_type": "stream",
     "text": [
      "N data = 316427.0\n",
      "N mu = 275771 +/- 0\n",
      "N tau = 40656 +/- 0\n",
      "Raw yeld: 14.7 +/- 0.0 %\n"
     ]
    }
   ],
   "source": [
    "print 'N data =', histo['data'].GetEntries()\n",
    "print 'N mu = {:.0f} +/- {:.0f}'.format(n_mu.getVal(), n_mu.getError())\n",
    "print 'N tau = {:.0f} +/- {:.0f}'.format(n_tau.getVal(), n_tau.getError())\n",
    "r = n_tau.getVal()/n_mu.getVal()\n",
    "dr = r*np.hypot(n_mu.getError()/n_mu.getVal(), n_tau.getError()/n_tau.getVal())\n",
    "print 'Raw yeld: {:.1f} +/- {:.1f} %'.format(100*r, 100*dr)"
   ]
  },
  {
   "cell_type": "code",
   "execution_count": 17,
   "metadata": {
    "ExecuteTime": {
     "end_time": "2019-06-06T22:48:23.574223Z",
     "start_time": "2019-06-06T22:48:23.558550Z"
    },
    "scrolled": false
   },
   "outputs": [],
   "source": [
    "# pdf_tot.fitTo(data)"
   ]
  },
  {
   "cell_type": "markdown",
   "metadata": {},
   "source": [
    "# Plot the results by hand"
   ]
  },
  {
   "cell_type": "code",
   "execution_count": 28,
   "metadata": {
    "ExecuteTime": {
     "end_time": "2019-06-06T22:48:24.977766Z",
     "start_time": "2019-06-06T22:48:24.487060Z"
    },
    "scrolled": false
   },
   "outputs": [
    {
     "data": {
      "image/png": "[encoded data removed]",
      "text/plain": [
       "<IPython.core.display.Image object>"
      ]
     },
     "metadata": {},
     "output_type": "display_data"
    }
   ],
   "source": [
    "N_cols = len(binning.keys())-1\n",
    "N_rows = binning['q2'][0]\n",
    "canvas = rt.TCanvas('c_out', 'c_out', 50, 50, N_cols*600, 400*N_rows)\n",
    "canvas.SetTickx(0)\n",
    "canvas.SetTicky(0)\n",
    "canvas.Divide(N_cols, N_rows)\n",
    "canvas.dnd = []\n",
    "\n",
    "CMS_lumi.extraText = \"        Preliminary\"\n",
    "rt.TGaxis.SetMaxDigits(4)\n",
    "\n",
    "q2_edges = np.linspace(binning['q2'][1], binning['q2'][2], 1+binning['q2'][0], True)\n",
    "for i_q2 in range(binning['q2'][0]):\n",
    "    q2_l = q2_edges[i_q2]\n",
    "    q2_h = q2_edges[i_q2+1]\n",
    "\n",
    "    q2_txt = '{:.2f} <  q^{{2}}  < {:.2f} GeV^{{2}}'.format(q2_l, q2_h)\n",
    "    q2_cut = 'q2 > {:.2f} &&  q2 < {:.2f}'.format(q2_l, q2_h)\n",
    "\n",
    "    for i_v, var in enumerate(['M2_miss', 'Est_mu']):        \n",
    "        i_pad = i_q2*N_cols + i_v + 1\n",
    "        pad = canvas.cd(i_pad)\n",
    "        pad.SetTopMargin(0.05)\n",
    "        pad.SetBottomMargin(0.13)\n",
    "        pad.SetRightMargin(0.03)\n",
    "        pad.SetLeftMargin(0.22)\n",
    "        \n",
    "        if var == 'M2_miss':\n",
    "            axis_title = ['M^{2}_{miss} [GeV^{2}]', 'Events / {:.1f} GeV^{{2}}'.format(float(binning[var][2]-binning[var][1])/binning[var][0])]\n",
    "        elif var == 'Est_mu':\n",
    "            axis_title = ['E*_{#mu} [GeV]', 'Events / {:.1f} GeV'.format(float(binning[var][2]-binning[var][1])/binning[var][0])]\n",
    "        \n",
    "        \n",
    "        sel = createSel(dSet['data'], analysis_selection)\n",
    "        q2_sel = np.logical_and(dSet['data']['q2'] < q2_h, dSet['data']['q2'] > q2_l)\n",
    "        sel = np.logical_and(sel, q2_sel)\n",
    "        h_data = create_TH1D(dSet['data'][var][sel], name='hd'+str(i_q2)+var, title='',\n",
    "                             axis_title = axis_title,\n",
    "                             binning=binning[var], opt='overflow+underflow',\n",
    "                            )\n",
    "        h_data.Sumw2()\n",
    "        if var == 'M2_miss':\n",
    "            h_data.GetYaxis().SetRangeUser(5e-1,35000)\n",
    "        elif var == 'Est_mu':\n",
    "            h_data.GetYaxis().SetRangeUser(5e-1,25000)\n",
    "        h_data.SetMarkerStyle(8)\n",
    "        h_data.Draw()\n",
    "        \n",
    "        sel = createSel(dSet['mu'], analysis_selection)\n",
    "        q2_sel = np.logical_and(dSet['mu']['q2'] < q2_h, dSet['mu']['q2'] > q2_l)\n",
    "        sel = np.logical_and(sel, q2_sel)\n",
    "        h_mu = create_TH1D(dSet['mu'][var][sel], name='h_mu_'+str(i_q2)+var, title='',\n",
    "                             binning=binning[var], opt='overflow+underflow',\n",
    "                            )\n",
    "        h_mu.SetLineColor(4)\n",
    "        h_mu.Sumw2()\n",
    "        h_mu.Scale(n_mu.getVal()/histo['mu'].Integral())\n",
    "        h_mu.Draw('SAME')\n",
    "        \n",
    "        sel = createSel(dSet['tau'], analysis_selection)\n",
    "        q2_sel = np.logical_and(dSet['tau']['q2'] < q2_h, dSet['tau']['q2'] > q2_l)\n",
    "        sel = np.logical_and(sel, q2_sel)\n",
    "        h_tau = create_TH1D(dSet['tau'][var][sel], name='h_tau_'+str(i_q2)+var, title='',\n",
    "                             binning=binning[var], opt='overflow+underflow',\n",
    "                            )\n",
    "        h_tau.SetLineColor(2)\n",
    "        h_tau.Sumw2()\n",
    "        h_tau.Scale(n_tau.getVal()/histo['tau'].Integral())\n",
    "        h_tau.Draw('SAME')\n",
    "        \n",
    "        h_sum = h_tau.Clone('h_sum_'+str(i_q2)+var)\n",
    "        h_sum.Add(h_mu)\n",
    "        h_sum.SetLineWidth(3)\n",
    "        h_sum.SetLineColor(6)\n",
    "        h_sum.Draw(\"SAME\")\n",
    "        \n",
    "        CMS_lumi.CMS_lumi(pad, -1, 33, 0.75*1.3, 0.6*1.3)\n",
    "        \n",
    "#         pad.SetLogy()\n",
    "        \n",
    "        l = rt.TLatex()\n",
    "        l.SetTextAlign(11)\n",
    "        l.SetTextSize(0.07)\n",
    "        l.SetTextFont(42)\n",
    "        l.DrawLatexNDC(0.26, 0.87, q2_txt)\n",
    "\n",
    "        if i_pad == 1:\n",
    "            leg = rt.TLegend(0.6, 0.3, 0.99, 0.81)\n",
    "            leg.SetFillStyle(0)\n",
    "            leg.SetTextFont(42)\n",
    "            leg.SetTextAlign(12)\n",
    "            leg.SetLineWidth(1)\n",
    "            leg.SetBorderSize(0)\n",
    "            leg.AddEntry(h_data, 'Data', 'lep')\n",
    "            leg.AddEntry(h_mu, 'B#rightarrowD*#mu#nu', 'le')\n",
    "            leg.AddEntry(h_tau, 'B#rightarrowD*#tau#nu', 'le')\n",
    "            leg.AddEntry(h_sum, 'Sig', 'le')\n",
    "            leg.Draw()\n",
    "        \n",
    "        canvas.dnd.append([h_data, h_mu, h_tau, h_sum])\n",
    "\n",
    "canvas.Draw()\n",
    "canvas.SaveAs('/Users/olmo/Desktop/DataFitwSig.png')"
   ]
  },
  {
   "cell_type": "code",
   "execution_count": 42,
   "metadata": {
    "ExecuteTime": {
     "end_time": "2019-06-06T22:46:01.101167Z",
     "start_time": "2019-06-06T22:46:01.084081Z"
    }
   },
   "outputs": [
    {
     "data": {
      "text/plain": [
       "array([0.29897416, 0.29306898, 0.29960683, 0.23842788, 0.2714661 ,\n",
       "       0.29301536], dtype=float32)"
      ]
     },
     "execution_count": 42,
     "metadata": {},
     "output_type": "execute_result"
    }
   ],
   "source": [
    "sel = np.logical_and(dSet['data']['q2'] < 7.52, dSet['data']['q2'] > 4.35)\n",
    "sel = np.logical_and(sel, dSet['data']['Est_mu'] < 0.3)\n",
    "dSet['data']['Est_mu'][sel]"
   ]
  },
  {
   "cell_type": "markdown",
   "metadata": {},
   "source": [
    "# Plot the results w/ RooFit"
   ]
  },
  {
   "cell_type": "code",
   "execution_count": null,
   "metadata": {
    "ExecuteTime": {
     "end_time": "2019-05-21T00:14:07.925881Z",
     "start_time": "2019-05-21T00:14:07.905744Z"
    }
   },
   "outputs": [],
   "source": [
    "N_cols = len(binning.keys())-1\n",
    "N_rows = binning['q2'][0]\n",
    "canvas = rt.TCanvas('c_out', 'c_out', 50, 50, N_cols*400, 400*N_rows)\n",
    "canvas.SetTickx(0)\n",
    "canvas.SetTicky(0)\n",
    "canvas.Divide(N_cols, N_rows)\n",
    "\n",
    "CMS_lumi.extraText = \"        Preliminary\""
   ]
  },
  {
   "cell_type": "code",
   "execution_count": null,
   "metadata": {
    "ExecuteTime": {
     "end_time": "2019-05-21T00:15:41.022606Z",
     "start_time": "2019-05-21T00:15:40.822684Z"
    },
    "code_folding": [],
    "scrolled": false
   },
   "outputs": [],
   "source": [
    "q2_edges = np.linspace(binning['q2'][1], binning['q2'][2], 1+binning['q2'][0], True)\n",
    "\n",
    "for i_q2 in range(binning['q2'][0]):\n",
    "    q2_l = q2_edges[i_q2]\n",
    "    q2_h = q2_edges[i_q2+1]\n",
    "    q2.setRange('q2_bin'+str(i_q2),q2_l,q2_h)\n",
    "    M2_miss.setRange('q2_bin'+str(i_q2), binning['M2_miss'][1], binning['M2_miss'][2])\n",
    "    Est_mu.setRange('q2_bin'+str(i_q2), binning['Est_mu'][1], binning['Est_mu'][2])\n",
    "\n",
    "    q2_txt = '{:.2f} <  q^{{2}}  < {:.2f} GeV^{{2}}'.format(q2_l, q2_h)\n",
    "    q2_cut = 'q2 > {:.2f} &&  q2 < {:.2f}'.format(q2_l, q2_h)\n",
    "\n",
    "    for i_v, var in enumerate([M2_miss, Est_mu]):\n",
    "        frame = var.frame(rf.Title(\"\"))\n",
    "        \n",
    "        data.plotOn(frame, rf.CutRange('q2_bin'+str(i_q2)), rf.MarkerStyle(1), rf.Name('Data'))\n",
    "        pdf_tot.plotOn(frame, rf.ProjectionRange('q2_bin'+str(i_q2)), rf.LineColor(4), rf.LineWidth(2), rf.Name('Mu'))\n",
    "        pdf_tot.plotOn(frame, rf.Components('pdf_tau'), rf.ProjectionRange('q2_bin'+str(i_q2)), rf.LineColor(2), rf.LineWidth(2), rf.Name('Tau'))\n",
    "        \n",
    "        i_pad = i_q2*N_cols + i_v + 1\n",
    "        pad = canvas.cd(i_pad)\n",
    "        pad.SetTopMargin(0.05)\n",
    "        pad.SetBottomMargin(0.13)\n",
    "        pad.SetRightMargin(0.03)\n",
    "        pad.SetLeftMargin(0.22)\n",
    "        \n",
    "        frame.Draw()\n",
    "        CMS_lumi.CMS_lumi(pad, -1, 0, 0.75*1.3, 0.6*1.3)\n",
    "        \n",
    "        frame.SetMaximum(1.2*frame.GetMaximum())\n",
    "        frame.GetYaxis().SetTitleOffset(1.7)\n",
    "        \n",
    "        l = rt.TLatex()\n",
    "        l.SetTextAlign(11)\n",
    "        l.SetTextSize(0.055)\n",
    "        l.SetTextFont(42)\n",
    "        l.DrawLatexNDC(0.26, 0.87, q2_txt)\n",
    "\n",
    "        if i_pad == 1:\n",
    "            leg = rt.TLegend(0.6, 0.6, 0.93, 0.82)\n",
    "            leg.SetTextFont(42)\n",
    "            leg.SetTextAlign(12)\n",
    "            leg.SetLineWidth(1)\n",
    "            leg.SetBorderSize(1)\n",
    "            leg.AddEntry('Data', 'Data', 'lep')\n",
    "            leg.AddEntry('Mu', 'B#rightarrowD*#mu#nu', 'l')\n",
    "            leg.AddEntry('Tau', 'B#rightarrowD*#tau#nu', 'l')\n",
    "            leg.Draw()\n",
    "\n",
    "canvas.Draw()"
   ]
  },
  {
   "cell_type": "code",
   "execution_count": null,
   "metadata": {
    "ExecuteTime": {
     "end_time": "2019-05-21T00:14:08.205548Z",
     "start_time": "2019-05-21T00:14:08.190013Z"
    }
   },
   "outputs": [],
   "source": [
    "# canvas.SaveAs('/Users/olmo/Desktop/RDst_fit.png')"
   ]
  },
  {
   "cell_type": "code",
   "execution_count": null,
   "metadata": {},
   "outputs": [],
   "source": []
  }
 ],
 "metadata": {
  "kernelspec": {
   "display_name": "Python 2",
   "language": "python",
   "name": "python2"
  },
  "language_info": {
   "codemirror_mode": {
    "name": "ipython",
    "version": 2
   },
   "file_extension": ".py",
   "mimetype": "text/x-python",
   "name": "python",
   "nbconvert_exporter": "python",
   "pygments_lexer": "ipython2",
   "version": "2.7.14+"
  }
 },
 "nbformat": 4,
 "nbformat_minor": 2
}
