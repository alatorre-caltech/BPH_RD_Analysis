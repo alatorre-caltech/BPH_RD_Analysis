{
 "cells": [
  {
   "cell_type": "markdown",
   "metadata": {},
   "source": [
    "Notebook to collect the information of the generation"
   ]
  },
  {
   "cell_type": "markdown",
   "metadata": {},
   "source": [
    "### Import"
   ]
  },
  {
   "cell_type": "code",
   "execution_count": 1,
   "metadata": {
    "ExecuteTime": {
     "end_time": "2020-06-08T00:36:43.957205Z",
     "start_time": "2020-06-08T00:36:43.677321Z"
    }
   },
   "outputs": [],
   "source": [
    "import sys, os, re, yaml, pickle\n",
    "import commands\n",
    "from glob import glob\n",
    "from prettytable import PrettyTable\n",
    "sys.path.append('../lib')\n",
    "\n",
    "import time, datetime"
   ]
  },
  {
   "cell_type": "code",
   "execution_count": 2,
   "metadata": {
    "ExecuteTime": {
     "end_time": "2020-06-08T00:36:43.977010Z",
     "start_time": "2020-06-08T00:36:43.962123Z"
    }
   },
   "outputs": [],
   "source": [
    "import signal\n",
    "\n",
    "class TimeoutError(Exception):\n",
    "    pass\n",
    "\n",
    "class timeout:\n",
    "    def __init__(self, seconds=1, error_message='Timeout'):\n",
    "        self.seconds = seconds\n",
    "        self.error_message = error_message\n",
    "    def handle_timeout(self, signum, frame):\n",
    "        raise TimeoutError(self.error_message)\n",
    "    def __enter__(self):\n",
    "        signal.signal(signal.SIGALRM, self.handle_timeout)\n",
    "        signal.alarm(self.seconds)\n",
    "    def __exit__(self, type, value, traceback):\n",
    "        signal.alarm(0)\n",
    "\n",
    "# with timeout(seconds=1):\n",
    "#     try:\n",
    "#         time.sleep(2)\n",
    "#     except TimeoutError:\n",
    "#         print 'Got it'"
   ]
  },
  {
   "cell_type": "code",
   "execution_count": 3,
   "metadata": {
    "ExecuteTime": {
     "end_time": "2020-06-08T00:36:46.242151Z",
     "start_time": "2020-06-08T00:36:43.980785Z"
    }
   },
   "outputs": [],
   "source": [
    "import numpy as np\n",
    "from scipy.stats import mode\n",
    "import matplotlib.pyplot as plt\n",
    "from prettytable import PrettyTable\n",
    "from progressBar import ProgressBar"
   ]
  },
  {
   "cell_type": "code",
   "execution_count": 4,
   "metadata": {
    "ExecuteTime": {
     "end_time": "2020-06-08T00:36:53.579289Z",
     "start_time": "2020-06-08T00:36:46.248587Z"
    }
   },
   "outputs": [
    {
     "name": "stdout",
     "output_type": "stream",
     "text": [
      "Welcome to JupyROOT 6.12/07\n"
     ]
    }
   ],
   "source": [
    "import uproot as ur\n",
    "import ROOT as rt\n",
    "rt.gErrorIgnoreLevel = rt.kError\n",
    "rt.RooMsgService.instance().setGlobalKillBelow(rt.RooFit.ERROR)"
   ]
  },
  {
   "cell_type": "code",
   "execution_count": 5,
   "metadata": {
    "ExecuteTime": {
     "end_time": "2020-06-08T00:36:53.943515Z",
     "start_time": "2020-06-08T00:36:53.584956Z"
    }
   },
   "outputs": [],
   "source": [
    "# load FWLite C++ libraries\n",
    "rt.gSystem.Load(\"libFWCoreFWLite.so\");\n",
    "rt.gSystem.Load(\"libDataFormatsFWLite.so\");\n",
    "rt.FWLiteEnabler.enable()\n",
    "\n",
    "# load FWlite python libraries\n",
    "from DataFormats.FWLite import Lumis\n",
    "from DataFormats.FWLite import Handle\n",
    "# import commands"
   ]
  },
  {
   "cell_type": "code",
   "execution_count": 6,
   "metadata": {
    "ExecuteTime": {
     "end_time": "2020-06-08T00:36:54.126113Z",
     "start_time": "2020-06-08T00:36:53.949559Z"
    }
   },
   "outputs": [],
   "source": [
    "from analysis_utilities import DSetLoader"
   ]
  },
  {
   "cell_type": "markdown",
   "metadata": {},
   "source": [
    "# Inputs"
   ]
  },
  {
   "cell_type": "markdown",
   "metadata": {},
   "source": [
    "Max 3 dataset per time otherwise run out of memory"
   ]
  },
  {
   "cell_type": "code",
   "execution_count": 7,
   "metadata": {
    "ExecuteTime": {
     "end_time": "2020-06-08T00:36:54.166905Z",
     "start_time": "2020-06-08T00:36:54.131011Z"
    }
   },
   "outputs": [],
   "source": [
    "inDic = {}"
   ]
  },
  {
   "cell_type": "code",
   "execution_count": 8,
   "metadata": {
    "ExecuteTime": {
     "end_time": "2020-06-08T00:36:57.257859Z",
     "start_time": "2020-06-08T00:36:54.172171Z"
    }
   },
   "outputs": [],
   "source": [
    "# inDic['muHQET_0'] = DSetLoader('B0_MuNuDmst_HQETcentral_PU0')\n",
    "# inDic['mu_0'] = DSetLoader('B0_MuNuDmst_PU0')\n",
    "# inDic['mu_20'] = DSetLoader('B0_MuNuDmst_PU20')\n",
    "inDic['mu_c0'] = DSetLoader('B0_MuNuDmst_PUc0')\n",
    "# inDic['mu_35'] = DSetLoader('B0_MuNuDmst_PU35')\n",
    "\n",
    "# inDic['tau_0'] = DSetLoader('B0_TauNuDmst_PU0')\n",
    "# inDic['tau_20'] = DSetLoader('B0_TauNuDmst_PU20')\n",
    "inDic['tau_c0'] = DSetLoader('B0_TauNuDmst_PUc0')\n",
    "# inDic['tau_35'] = DSetLoader('B0_TauNuDmst_PU35')\n",
    "\n",
    "# inDic['Hc_20'] = DSetLoader('B0_DmstHc_PU20')\n",
    "# inDic['Hc_c0'] = DSetLoader('B0_DmstHc_PUc0')\n",
    "\n",
    "inDic['DstmDsp'] = DSetLoader('B0_DstmDsp_PUc0')\n",
    "\n",
    "inDic['DstmDp'] = DSetLoader('B0_DstmDp_PUc0')\n",
    "\n",
    "inDic['DstmD0'] = DSetLoader('B0_DstmD0_PUc0')\n",
    "\n",
    "inDic['BpHc'] = DSetLoader('Bp_DstmHc_PUc0')\n",
    "\n",
    "inDic['BmHc'] = DSetLoader('Bm_DstmHc_PUc0')\n",
    "\n",
    "inDic['antiB0Hc'] = DSetLoader('antiB0_DstmHc_PUc0')\n",
    "\n",
    "# inDic['DstPip_20'] = DSetLoader('Bp_MuNuDstst_PU20')\n",
    "inDic['DstPip_c0'] = DSetLoader('Bp_MuNuDstst_Pip_PUc0')\n",
    "\n",
    "inDic['DstPi0_c0'] = DSetLoader('B0_MuNuDstst_Pi0_PUc0')\n",
    "\n",
    "# inDic['DstPi0nR_c0'] = DSetLoader('B0_DmstPi0MuNu_PUc0')\n",
    "\n",
    "inDic['DststPipPi0_c0'] = DSetLoader('Bp_MuNuDstst_PipPi0_PUc0')\n",
    "\n",
    "inDic['DststPipPim_c0'] = DSetLoader('B0_MuNuDstst_PipPim_PUc0')\n",
    "\n",
    "inDic['DststPi0Pi0_c0'] = DSetLoader('B0_MuNuDstst_Pi0Pi0_PUc0')"
   ]
  },
  {
   "cell_type": "code",
   "execution_count": 9,
   "metadata": {
    "ExecuteTime": {
     "end_time": "2020-06-08T00:36:57.277538Z",
     "start_time": "2020-06-08T00:36:57.262758Z"
    }
   },
   "outputs": [],
   "source": [
    "# inDic['mu_0'] = DSetLoader('B0_MuNuDmst_PU0', candDir='ntuples_probeB2DstMu')\n",
    "# inDic['p_mu_c0'] = DSetLoader('p_B0_MuNuDst_PUc0', candDir='ntuples_probeB2DstMu')\n",
    "# inDic['p_tau_c0'] = DSetLoader('p_B0_TauNuDst_PUc0', candDir='ntuples_probeB2DstMu')"
   ]
  },
  {
   "cell_type": "code",
   "execution_count": 10,
   "metadata": {
    "ExecuteTime": {
     "end_time": "2020-06-08T00:36:57.398711Z",
     "start_time": "2020-06-08T00:36:57.282025Z"
    }
   },
   "outputs": [],
   "source": [
    "# inDic['JPsiKst_0'] = DSetLoader('B0_JpsiKst_PU0', candDir='ntuples_B2JpsiKst')\n",
    "# inDic['JPsiKst_20'] = DSetLoader('B0_JpsiKst_PU20', candDir='ntuples_B2JpsiKst')\n",
    "# inDic['JPsiKst_35'] = DSetLoader('B0_JpsiKst_PU35', candDir='ntuples_B2JpsiKst')\n",
    "\n",
    "# inDic['JPsiKstFSR_20'] = DSetLoader('B0_JpsiKstFSR_PU20', candDir='ntuples_B2JpsiKst')"
   ]
  },
  {
   "cell_type": "markdown",
   "metadata": {},
   "source": [
    "# Efficiency"
   ]
  },
  {
   "cell_type": "code",
   "execution_count": 11,
   "metadata": {
    "ExecuteTime": {
     "end_time": "2020-06-08T00:36:57.420984Z",
     "start_time": "2020-06-08T00:36:57.403902Z"
    }
   },
   "outputs": [],
   "source": [
    "def getEff(k,N):\n",
    "    e = k/float(N)\n",
    "    de = np.sqrt(e*(1-e)/N)\n",
    "    return [e, de]"
   ]
  },
  {
   "cell_type": "markdown",
   "metadata": {},
   "source": [
    "## Generator Efficiency"
   ]
  },
  {
   "cell_type": "code",
   "execution_count": 12,
   "metadata": {
    "ExecuteTime": {
     "end_time": "2020-06-08T00:37:00.828147Z",
     "start_time": "2020-06-08T00:36:57.434851Z"
    }
   },
   "outputs": [],
   "source": [
    "handle = {}\n",
    "handle['genFilter'] = [Handle('GenFilterInfo'), ('genFilterEfficiencyProducer', '', 'SIM')]\n",
    "handle['genProduct'] = [Handle('GenLumiInfoProduct'), ('generator', '', 'SIM')]"
   ]
  },
  {
   "cell_type": "code",
   "execution_count": 13,
   "metadata": {
    "ExecuteTime": {
     "end_time": "2020-06-08T00:37:00.867320Z",
     "start_time": "2020-06-08T00:37:00.833893Z"
    }
   },
   "outputs": [],
   "source": [
    "def analyzeMINIAODs(fileList):  \n",
    "    print 'Analizing', len(fileList), 'MINIAOD'\n",
    "    N_gen = 0\n",
    "    N_cuts = 0\n",
    "    xsec = []\n",
    "    xsec_err = []\n",
    "    pb = ProgressBar(maxEntry=len(fileList))\n",
    "    skippedFiles = []\n",
    "    for i_j, fileName in enumerate(fileList):\n",
    "        pb.show(i_j)\n",
    "        with timeout(seconds=1):\n",
    "            try:\n",
    "#                 cmd = 'python generatorEfficiency_MINIAODSIM.py ' + fileName\n",
    "#                 status, output = commands.getstatusoutput(cmd)\n",
    "#                 aux = output.split(' ')\n",
    "#                 N_gen += float(aux[0])\n",
    "#                 N_cuts += float(aux[1])\n",
    "#                 xsec.append(float(aux[2]))\n",
    "#                 xsec_err.append(float(aux[4]))\n",
    "                for lumi in Lumis(fileName):\n",
    "                    prods = {}\n",
    "                    for k,v in handle.iteritems():\n",
    "                        lumi.getByLabel(v[1], v[0])\n",
    "                        prods[k] = v[0].product()\n",
    "                    N_cuts += prods['genFilter'].numEventsPassed()\n",
    "                    N_gen += prods['genFilter'].numEventsTotal()\n",
    "                    xs = prods['genProduct'].getProcessInfos()[0].lheXSec()\n",
    "                    xsec.append(xs.value())\n",
    "                    xsec_err.append(xs.error())\n",
    "            except TimeoutError:\n",
    "                skippedFiles.append(fileName)\n",
    "    print 'Skipped {} files'.format(len(skippedFiles))\n",
    "    print 'Total events in analyzed MINIAODs', N_cuts\n",
    "    xsec = np.array(xsec)\n",
    "    xsec_err = np.array(xsec_err)\n",
    "    return N_gen, N_cuts, xsec, xsec_err"
   ]
  },
  {
   "cell_type": "code",
   "execution_count": 14,
   "metadata": {
    "ExecuteTime": {
     "end_time": "2020-06-08T00:37:00.938607Z",
     "start_time": "2020-06-08T00:37:00.871987Z"
    }
   },
   "outputs": [
    {
     "name": "stdout",
     "output_type": "stream",
     "text": [
      "\n",
      "\n",
      "--> B0_MuNuDstst_PipPim_PUc0\n",
      "Already present\n",
      "{'xsec': [148779456851.29504, 5161238.524451624], 'effGEN': [0.001646958549222798, 2.9188027895260013e-06]}\n",
      "\n",
      "\n",
      "--> B0_MuNuDstst_Pi0_PUc0\n",
      "Already present\n",
      "{'xsec': [148778890200.4004, 5089288.822047326], 'effGEN': [0.0016681752203398733, 2.8964634688699674e-06]}\n",
      "\n",
      "\n",
      "--> B0_DstmD0_PUc0\n",
      "Already present\n",
      "{'xsec': [148782095060.90125, 4207639.722533673], 'effGEN': [0.00015074035812672176, 7.204166309475689e-07]}\n",
      "\n",
      "\n",
      "--> antiB0_DstmHc_PUc0\n",
      "Already present\n",
      "{'xsec': [148780784093.19235, 4148141.249416787], 'effGEN': [0.00038782797858099064, 1.1390559044873927e-06]}\n",
      "\n",
      "\n",
      "--> B0_TauNuDmst_PUc0\n",
      "Already present\n",
      "{'xsec': [148775889413.01022, 5150860.645516099], 'effGEN': [0.0008566460268317854, 2.1015402779430175e-06]}\n",
      "\n",
      "\n",
      "--> B0_DstmDsp_PUc0\n",
      "Already present\n",
      "{'xsec': [148778853855.1674, 4245994.333013975], 'effGEN': [0.000774195879415551, 1.6470013670813845e-06]}\n",
      "\n",
      "\n",
      "--> B0_MuNuDstst_Pi0Pi0_PUc0\n",
      "Already present\n",
      "{'xsec': [148785666964.5657, 5207574.8540604785], 'effGEN': [0.0016761773154021237, 2.9706681019202975e-06]}\n",
      "\n",
      "\n",
      "--> Bp_DstmHc_PUc0\n",
      "Already present\n",
      "{'xsec': [148785495406.31586, 3264571.49406155], 'effGEN': [0.00043691952719524674, 9.513951962966641e-07]}\n",
      "\n",
      "\n",
      "--> B0_DstmDp_PUc0\n",
      "Already present\n",
      "{'xsec': [148779407066.47446, 3271266.5400225506], 'effGEN': [0.0001390426638917794, 5.378945562572566e-07]}\n",
      "\n",
      "\n",
      "--> Bp_MuNuDstst_Pip_PUc0\n",
      "Already present\n",
      "{'xsec': [148782981285.01956, 5108822.576785716], 'effGEN': [0.0016565986003406958, 2.897362371610159e-06]}\n",
      "\n",
      "\n",
      "--> Bm_DstmHc_PUc0\n",
      "Already present\n",
      "{'xsec': [148780200287.1863, 4156549.209298454], 'effGEN': [0.00039483870967741937, 1.1516158763154725e-06]}\n",
      "\n",
      "\n",
      "--> B0_MuNuDmst_PUc0\n",
      "Already present\n",
      "{'xsec': [148780551859.27094, 4859041.069082328], 'effGEN': [0.004454009303973196, 4.512108924850881e-06]}\n",
      "\n",
      "\n",
      "--> Bp_MuNuDstst_PipPi0_PUc0\n",
      "Already present\n",
      "{'xsec': [148782774162.62534, 5153785.486831116], 'effGEN': [0.0016824774639507675, 2.945651679515643e-06]}\n"
     ]
    }
   ],
   "source": [
    "N_max = 1000\n",
    "recreate = []#inDic.keys()\n",
    "for n, d in inDic.iteritems():\n",
    "    print '\\n\\n--> ' + d.sample\n",
    "    \n",
    "    outdir = os.path.join(d.candLoc, d.full_name)\n",
    "    outyamlFile = os.path.join(outdir,'effMCgenerator.yaml')\n",
    "    if os.path.isfile(outyamlFile) and not n in recreate:\n",
    "        print 'Already present'\n",
    "        dic = yaml.load(open(outyamlFile, 'r'))\n",
    "        print dic\n",
    "        continue\n",
    "        \n",
    "    fileList = []\n",
    "    for directory in d.MINIAOD_dirs:\n",
    "        fileList += glob(directory + '/out_MINIAODSIM_*.root')\n",
    "    if N_max > 0 and N_max < len(fileList):\n",
    "        fileList = np.random.choice(fileList, N_max)\n",
    "    \n",
    "    N_gen, N_cuts, xsec, xsec_err = analyzeMINIAODs(fileList)\n",
    "    s2 = np.square(xsec_err)\n",
    "    num = np.sum(xsec/s2)\n",
    "    den = np.sum(1./s2)\n",
    "    xsec = 1e3*num/den\n",
    "    xsec_err = 1e3*np.sqrt(1/den)\n",
    "    print 'Xsec: {:1.4e} +/- {:1.4e} fb ({:1.1e})'.format(xsec, xsec_err, xsec_err/xsec)\n",
    "    d.xsec = [xsec, xsec_err]\n",
    "    \n",
    "    e, de = getEff(N_cuts, N_gen)\n",
    "    print 'eff generator: {:1.3e} +/- {:1.3e} ({:1.1e})'.format(e,de, de/e)\n",
    "    d.effGEN = [e, de]\n",
    "\n",
    "    dump_dic = {}\n",
    "    for k in ['xsec', 'effGEN']:\n",
    "        aux = getattr(d, k)\n",
    "        dump_dic[k] = [float(aux[0]), float(aux[1])]\n",
    "    if not os.path.isdir(outdir):\n",
    "        os.makedirs(outdir)\n",
    "    with open(outyamlFile, 'w') as dumpF:\n",
    "        dumpF.write(yaml.dump(dump_dic, default_flow_style=False, default_style=''))"
   ]
  },
  {
   "cell_type": "markdown",
   "metadata": {},
   "source": [
    "## ntuplizer efficiency"
   ]
  },
  {
   "cell_type": "code",
   "execution_count": 18,
   "metadata": {
    "ExecuteTime": {
     "end_time": "2020-06-08T00:41:42.179444Z",
     "start_time": "2020-06-08T00:41:39.674201Z"
    },
    "code_folding": [],
    "scrolled": false
   },
   "outputs": [
    {
     "name": "stdout",
     "output_type": "stream",
     "text": [
      "\n",
      "\n",
      "--> B0_MuNuDstst_PipPim_PUc0\n",
      "Analyzing 70 ntuplizer job logs\n",
      "[####################]  100% - Tot. time: 0.1 s\n",
      "Total MINIAOD: 1130667\n",
      "Total candidates: 90550\n",
      "eff candidates (trigger): 3.974e-01 +/- 4.602e-04 (1.2e-03)\n",
      "eff candidates (cand): 2.015e-01 +/- 5.984e-04 (3.0e-03)\n",
      "eff candidates: 8.009e-02 +/- 2.553e-04 (3.2e-03)\n",
      "$39.74 \\pm 0.05$ & $20.15 \\pm 0.06$ & $8.01 \\pm 0.03$\\\n",
      "Getting the total rates (if existing)\n",
      "Not found\n",
      "\n",
      "\n",
      "--> B0_MuNuDstst_Pi0_PUc0\n",
      "Analyzing 99 ntuplizer job logs\n",
      "[####################]  100% - Tot. time: 0.0 s\n",
      "Total MINIAOD: 3284029\n",
      "Total candidates: 197715\n",
      "eff candidates (trigger): 4.086e-01 +/- 2.713e-04 (6.6e-04)\n",
      "eff candidates (cand): 1.473e-01 +/- 3.060e-04 (2.1e-03)\n",
      "eff candidates: 6.021e-02 +/- 1.313e-04 (2.2e-03)\n",
      "$40.86 \\pm 0.03$ & $14.73 \\pm 0.03$ & $6.02 \\pm 0.01$\\\n",
      "Getting the total rates (if existing)\n",
      "Not found\n",
      "\n",
      "\n",
      "--> B0_DstmD0_PUc0\n",
      "Analyzing 100 ntuplizer job logs\n",
      "[####################]  100% - Tot. time: 0.0 s\n",
      "Total MINIAOD: 453463\n",
      "Total candidates: 28998\n",
      "eff candidates (trigger): 4.185e-01 +/- 7.326e-04 (1.8e-03)\n",
      "eff candidates (cand): 1.528e-01 +/- 8.259e-04 (5.4e-03)\n",
      "eff candidates: 6.395e-02 +/- 3.633e-04 (5.7e-03)\n",
      "$41.85 \\pm 0.07$ & $15.28 \\pm 0.08$ & $6.39 \\pm 0.04$\\\n",
      "Getting the total rates (if existing)\n",
      "Not found\n",
      "\n",
      "\n",
      "--> antiB0_DstmHc_PUc0\n",
      "Analyzing 35 ntuplizer job logs\n",
      "[####################]  100% - Tot. time: 0.2 s\n",
      "Total MINIAOD: 401946\n",
      "Total candidates: 8397\n",
      "eff candidates (trigger): 3.787e-01 +/- 7.651e-04 (2.0e-03)\n",
      "eff candidates (cand): 5.517e-02 +/- 5.852e-04 (1.1e-02)\n",
      "eff candidates: 2.089e-02 +/- 2.256e-04 (1.1e-02)\n",
      "$37.87 \\pm 0.08$ & $5.52 \\pm 0.06$ & $2.09 \\pm 0.02$\\\n",
      "Getting the total rates (if existing)\n",
      "Done\n",
      "\n",
      "\n",
      "--> B0_TauNuDmst_PUc0\n",
      "Analyzing 299 ntuplizer job logs\n",
      "[####################]  100% - Tot. time: 0.1 s\n",
      "Total MINIAOD: 5066009\n",
      "Total candidates: 217530\n",
      "eff candidates (trigger): 4.044e-01 +/- 2.180e-04 (5.4e-04)\n",
      "eff candidates (cand): 1.062e-01 +/- 2.152e-04 (2.0e-03)\n",
      "eff candidates: 4.294e-02 +/- 9.007e-05 (2.1e-03)\n",
      "$40.44 \\pm 0.02$ & $10.62 \\pm 0.02$ & $4.29 \\pm 0.01$\\\n",
      "Getting the total rates (if existing)\n",
      "Done\n",
      "\n",
      "\n",
      "--> B0_DstmDsp_PUc0\n",
      "Analyzing 100 ntuplizer job logs\n",
      "[####################]  100% - Tot. time: 0.0 s\n",
      "Total MINIAOD: 2317818\n",
      "Total candidates: 82545\n",
      "eff candidates (trigger): 3.395e-01 +/- 3.110e-04 (9.2e-04)\n",
      "eff candidates (cand): 1.049e-01 +/- 3.454e-04 (3.3e-03)\n",
      "eff candidates: 3.561e-02 +/- 1.217e-04 (3.4e-03)\n",
      "$33.95 \\pm 0.03$ & $10.49 \\pm 0.03$ & $3.56 \\pm 0.01$\\\n",
      "Getting the total rates (if existing)\n",
      "Not found\n",
      "\n",
      "\n",
      "--> B0_MuNuDstst_Pi0Pi0_PUc0\n",
      "Analyzing 54 ntuplizer job logs\n",
      "[####################]  100% - Tot. time: 0.0 s\n",
      "Total MINIAOD: 1764943\n",
      "Total candidates: 93814\n",
      "eff candidates (trigger): 3.990e-01 +/- 3.686e-04 (9.2e-04)\n",
      "eff candidates (cand): 1.332e-01 +/- 4.050e-04 (3.0e-03)\n",
      "eff candidates: 5.315e-02 +/- 1.689e-04 (3.2e-03)\n",
      "$39.90 \\pm 0.04$ & $13.32 \\pm 0.04$ & $5.32 \\pm 0.02$\\\n",
      "Getting the total rates (if existing)\n",
      "Not found\n",
      "\n",
      "\n",
      "--> Bp_DstmHc_PUc0\n",
      "Analyzing 83 ntuplizer job logs\n",
      "[####################]  100% - Tot. time: 0.5 s\n",
      "Total MINIAOD: 1782657\n",
      "Total candidates: 34805\n",
      "eff candidates (trigger): 2.240e-01 +/- 3.122e-04 (1.4e-03)\n",
      "eff candidates (cand): 8.717e-02 +/- 4.464e-04 (5.1e-03)\n",
      "eff candidates: 1.952e-02 +/- 1.036e-04 (5.3e-03)\n",
      "$22.40 \\pm 0.03$ & $8.72 \\pm 0.04$ & $1.95 \\pm 0.01$\\\n",
      "Getting the total rates (if existing)\n",
      "Done\n",
      "\n",
      "\n",
      "--> B0_DstmDp_PUc0\n",
      "Analyzing 100 ntuplizer job logs\n",
      "[####################]  100% - Tot. time: 0.0 s\n",
      "Total MINIAOD: 693353\n",
      "Total candidates: 31723\n",
      "eff candidates (trigger): 4.840e-01 +/- 6.002e-04 (1.2e-03)\n",
      "eff candidates (cand): 9.453e-02 +/- 5.050e-04 (5.3e-03)\n",
      "eff candidates: 4.575e-02 +/- 2.509e-04 (5.5e-03)\n",
      "$48.40 \\pm 0.06$ & $9.45 \\pm 0.05$ & $4.58 \\pm 0.03$\\\n",
      "Getting the total rates (if existing)\n",
      "Not found\n",
      "\n",
      "\n",
      "--> Bp_MuNuDstst_Pip_PUc0\n",
      "Analyzing 186 ntuplizer job logs\n",
      "[####################]  100% - Tot. time: 0.1 s\n",
      "Total MINIAOD: 6066431\n",
      "Total candidates: 389718\n",
      "eff candidates (trigger): 4.090e-01 +/- 1.996e-04 (4.9e-04)\n",
      "eff candidates (cand): 1.571e-01 +/- 2.310e-04 (1.5e-03)\n",
      "eff candidates: 6.424e-02 +/- 9.955e-05 (1.5e-03)\n",
      "$40.90 \\pm 0.02$ & $15.71 \\pm 0.02$ & $6.42 \\pm 0.01$\\\n",
      "Getting the total rates (if existing)\n",
      "Done\n",
      "\n",
      "\n",
      "--> Bm_DstmHc_PUc0\n",
      "Analyzing 33 ntuplizer job logs\n",
      "[####################]  100% - Tot. time: 0.2 s\n",
      "Total MINIAOD: 386621\n",
      "Total candidates: 10884\n",
      "eff candidates (trigger): 3.715e-01 +/- 7.771e-04 (2.1e-03)\n",
      "eff candidates (cand): 7.578e-02 +/- 6.983e-04 (9.2e-03)\n",
      "eff candidates: 2.815e-02 +/- 2.660e-04 (9.4e-03)\n",
      "$37.15 \\pm 0.08$ & $7.58 \\pm 0.07$ & $2.82 \\pm 0.03$\\\n",
      "Getting the total rates (if existing)\n",
      "Done\n",
      "\n",
      "\n",
      "--> B0_MuNuDmst_PUc0\n",
      "Analyzing 875 ntuplizer job logs\n",
      "[####################]  100% - Tot. time: 0.1 s\n",
      "Total MINIAOD: 75078646\n",
      "Total candidates: 2574973\n",
      "eff candidates (trigger): 3.655e-01 +/- 5.558e-05 (1.5e-04)\n",
      "eff candidates (cand): 9.384e-02 +/- 5.567e-05 (5.9e-04)\n",
      "eff candidates: 3.430e-02 +/- 2.100e-05 (6.1e-04)\n",
      "$36.55 \\pm 0.01$ & $9.38 \\pm 0.01$ & $3.43 \\pm 0.00$\\\n",
      "Getting the total rates (if existing)\n",
      "Done\n",
      "\n",
      "\n",
      "--> Bp_MuNuDstst_PipPi0_PUc0\n",
      "Analyzing 21 ntuplizer job logs\n",
      "[####################]  100% - Tot. time: 0.0 s\n",
      "Total MINIAOD: 688690\n",
      "Total candidates: 38845\n",
      "eff candidates (trigger): 3.997e-01 +/- 5.903e-04 (1.5e-03)\n",
      "eff candidates (cand): 1.411e-01 +/- 6.635e-04 (4.7e-03)\n",
      "eff candidates: 5.640e-02 +/- 2.780e-04 (4.9e-03)\n",
      "$39.97 \\pm 0.06$ & $14.11 \\pm 0.07$ & $5.64 \\pm 0.03$\\\n",
      "Getting the total rates (if existing)\n",
      "Not found\n"
     ]
    }
   ],
   "source": [
    "for d in inDic.values():\n",
    "    print '\\n\\n--> ' + d.sample\n",
    "\n",
    "    if not os.path.isdir(d.ntuples_dir):\n",
    "        continue\n",
    "    cand_out_list = glob(os.path.join(d.ntuples_dir,'out/job*.out'))\n",
    "    N_analyzed = 0\n",
    "    N_trg = 0\n",
    "    N_cand = 0\n",
    "    print 'Analyzing {} ntuplizer job logs'.format(len(cand_out_list))\n",
    "    pb = ProgressBar(maxEntry=len(cand_out_list))\n",
    "    for ic, cand_out in enumerate(cand_out_list):\n",
    "        pb.show(ic)\n",
    "        eff_ln = []\n",
    "        counters = []\n",
    "        takingCounters = False\n",
    "        for line in open(cand_out).readlines():\n",
    "            if 'efficiency:' in line:\n",
    "                eff_ln.append(line)\n",
    "            elif 'counters:' in line:\n",
    "                    takingCounters = True\n",
    "            elif takingCounters and line[:-1].isdigit():\n",
    "                counters.append(int(line[:-1]))\n",
    "            elif takingCounters:\n",
    "                takingCounters = False\n",
    "\n",
    "        aux = re.search('[0-9]+/[0-9]+', eff_ln[0]).group(0)\n",
    "        aux = aux.split('/')\n",
    "        N_analyzed += int(aux[1])\n",
    "        N_trg += int(aux[0])\n",
    "        \n",
    "        aux = re.search(': [0-9]+/', eff_ln[1]).group(0)\n",
    "        N_cand += int(aux[2:-1])\n",
    "        \n",
    "        counters=np.array(counters)\n",
    "        if not hasattr(d, 'counters'):\n",
    "            d.counters = counters\n",
    "        else:\n",
    "            d.counters += counters\n",
    "        \n",
    "    d.nTotMINIAOD = N_analyzed\n",
    "    d.nTotCAND = N_cand\n",
    "    print 'Total MINIAOD:', N_analyzed\n",
    "    print 'Total candidates:', N_cand\n",
    "    \n",
    "    e, de = getEff(N_trg, N_analyzed)\n",
    "    d.effCAND_trg = e, de\n",
    "    print 'eff candidates (trigger): {:1.3e} +/- {:1.3e} ({:1.1e})'.format(e,de, de/e)\n",
    "    latexStr = '${:.2f} \\pm {:.2f}$'.format(100*e, 100*de)\n",
    "    \n",
    "    e, de = getEff(N_cand, N_trg)\n",
    "    d.effCAND_cand = e, de\n",
    "    print 'eff candidates (cand): {:1.3e} +/- {:1.3e} ({:1.1e})'.format(e,de, de/e)\n",
    "    latexStr += ' & ${:.2f} \\pm {:.2f}$'.format(100*e, 100*de)\n",
    "    \n",
    "    \n",
    "    e, de = getEff(N_cand, N_analyzed)\n",
    "    d.effCAND = e, de\n",
    "    print 'eff candidates: {:1.3e} +/- {:1.3e} ({:1.1e})'.format(e,de, de/e)\n",
    "    latexStr += ' & ${:.2f} \\pm {:.2f}$\\\\'.format(100*e, 100*de)\n",
    "    print latexStr\n",
    "    \n",
    "    print 'Getting the total rates (if existing)'\n",
    "    try:\n",
    "        fCandLoc = glob(os.path.join(d.ntuples_dir,'out_CAND_*.root'))[0]\n",
    "        fCand = ur.open(fCandLoc)\n",
    "        Trate = fCand['p']['Trate']\n",
    "        d.rate = {}\n",
    "        for k in Trate.keys():\n",
    "            r = Trate.array(k)[0]\n",
    "            r *= 1e12 #GeV -> meV\n",
    "            d.rate[str(k)] = r\n",
    "        print 'Done'\n",
    "    except:\n",
    "        print 'Not found'\n",
    "    \n",
    "    dump_dic = {'nTotMINIAOD': int(d.nTotMINIAOD), 'nTotCAND': int(d.nTotCAND)}\n",
    "    for k in ['effCAND', 'effCAND_trg', 'effCAND_cand']:\n",
    "        aux = getattr(d, k)\n",
    "        dump_dic[k] = [float(aux[0]), float(aux[1])]\n",
    "    if hasattr(d, 'rate'):\n",
    "        for k, v in d.rate.iteritems():\n",
    "            dump_dic['rate_'+k] = float(v)\n",
    "    with open(os.path.join(d.ntuples_dir,'effCAND.yaml'), 'w') as dumpF:\n",
    "        dumpF.write(yaml.dump(dump_dic, default_flow_style=False, default_style=''))"
   ]
  },
  {
   "cell_type": "code",
   "execution_count": 16,
   "metadata": {
    "ExecuteTime": {
     "end_time": "2020-06-08T00:37:37.216030Z",
     "start_time": "2020-06-08T00:37:35.668440Z"
    }
   },
   "outputs": [
    {
     "name": "stdout",
     "output_type": "stream",
     "text": [
      "+----------------+-------+-------+-------+-------+-------+-------+-------+-------+-------+-------+------+------+------+\n",
      "|     Sample     |   0   |   1   |   2   |   3   |   4   |   5   |   6   |   7   |   8   |   9   |  10  |  11  |  12  |\n",
      "+----------------+-------+-------+-------+-------+-------+-------+-------+-------+-------+-------+------+------+------+\n",
      "| DststPipPim_c0 | 39.74 | 39.16 | 38.79 | 37.98 | 37.29 | 34.51 | 24.68 | 24.60 | 23.02 | 17.05 | 8.74 | 8.01 | 8.01 |\n",
      "|   DstPi0_c0    | 40.86 | 40.26 | 39.88 | 38.47 | 37.34 | 32.49 | 24.57 | 24.50 | 21.66 | 12.33 | 6.62 | 6.02 | 6.02 |\n",
      "|     DstmD0     | 41.85 | 41.42 | 40.83 | 40.11 | 39.84 | 37.44 | 26.27 | 26.17 | 25.62 | 19.87 | 8.78 | 6.39 | 6.39 |\n",
      "|    antiB0Hc    | 37.87 | 37.35 | 36.92 | 35.25 | 33.99 | 28.97 | 14.89 | 14.79 | 13.99 |  8.69 | 3.66 | 2.09 | 2.09 |\n",
      "|     tau_c0     | 40.44 | 39.91 | 39.53 | 37.89 | 36.40 | 31.05 | 22.60 | 22.53 | 19.78 | 11.04 | 5.42 | 4.29 | 4.29 |\n",
      "|    DstmDsp     | 33.95 | 33.45 | 33.12 | 31.80 | 30.82 | 26.74 | 18.74 | 18.67 | 16.83 | 10.06 | 5.31 | 3.56 | 3.56 |\n",
      "| DststPi0Pi0_c0 | 39.90 | 39.31 | 38.93 | 37.58 | 36.47 | 31.77 | 24.13 | 24.07 | 21.22 | 11.86 | 5.92 | 5.32 | 5.32 |\n",
      "|      BpHc      | 22.40 | 22.11 | 21.79 | 21.10 | 20.61 | 18.49 | 11.54 | 11.48 | 10.78 |  7.06 | 3.38 | 1.95 | 1.95 |\n",
      "|     DstmDp     | 48.40 | 47.86 | 47.16 | 46.01 | 45.18 | 41.14 | 28.77 | 28.66 | 27.06 | 18.32 | 8.83 | 4.58 | 4.58 |\n",
      "|   DstPip_c0    | 40.90 | 40.30 | 39.91 | 39.23 | 38.14 | 34.73 | 25.49 | 25.41 | 22.53 | 13.06 | 7.09 | 6.42 | 6.42 |\n",
      "|      BmHc      | 37.15 | 36.65 | 36.25 | 34.49 | 33.40 | 28.47 | 14.71 | 14.60 | 14.21 | 10.28 | 4.12 | 2.82 | 2.82 |\n",
      "|     mu_c0      | 36.55 | 36.00 | 35.68 | 34.08 | 32.53 | 27.11 | 19.28 | 19.21 | 16.71 |  8.66 | 3.81 | 3.43 | 3.43 |\n",
      "| DststPipPi0_c0 | 39.97 | 39.38 | 39.00 | 38.23 | 37.17 | 33.63 | 24.89 | 24.81 | 21.94 | 12.43 | 6.30 | 5.64 | 5.64 |\n",
      "+----------------+-------+-------+-------+-------+-------+-------+-------+-------+-------+-------+------+------+------+\n"
     ]
    },
    {
     "data": {
      "image/png": "[encoded data removed]",
      "text/plain": [
       "<matplotlib.figure.Figure at 0x7f34fd0d23d0>"
      ]
     },
     "metadata": {},
     "output_type": "display_data"
    }
   ],
   "source": [
    "t = PrettyTable()\n",
    "t.field_names = ['Sample'] + [str(i) for i in range(d.counters.shape[0])]\n",
    "for n, d in inDic.iteritems():\n",
    "    eff = np.zeros((d.counters.shape[0], 2))\n",
    "    eff[0] = d.effCAND_trg\n",
    "    for i in range(d.counters[1:].shape[0]):\n",
    "        eff[i+1] = getEff(d.counters[i+1], d.nTotMINIAOD)\n",
    "    t.add_row([n] + ['{:.2f}'.format(100*e[0]) for e in eff])\n",
    "    x = np.arange(eff.shape[0])\n",
    "    p = plt.errorbar(x, eff[:, 0], eff[:,1], lw=0, elinewidth=5, label=n)\n",
    "    \n",
    "#     plt.plot(x[[0,-1]], 2*[d.effCAND[0]], '-', color=p[0].get_color())\n",
    "#     plt.fill_between(x[[0,-1]], 2*[d.effCAND[0]-d.effCAND[1]], 2*[d.effCAND[0]+d.effCAND[1]], color=p[0].get_color(), alpha=0.2)\n",
    "print t\n",
    "plt.rcParams.update({'font.size': 20})\n",
    "plt.xlabel('Counter')\n",
    "plt.ylabel('Efficiency')\n",
    "plt.legend(loc='best', numpoints=1)\n",
    "plt.ylim(0.01,1.05)\n",
    "plt.xlim(-1, eff.shape[0])\n",
    "plt.grid(True, which='both')\n",
    "plt.yscale('log')\n",
    "plt.gcf().set_size_inches(10, 6)"
   ]
  },
  {
   "cell_type": "code",
   "execution_count": 17,
   "metadata": {
    "ExecuteTime": {
     "end_time": "2020-06-08T00:37:38.354895Z",
     "start_time": "2020-06-08T00:37:37.221023Z"
    }
   },
   "outputs": [
    {
     "name": "stdout",
     "output_type": "stream",
     "text": [
      "+----------------+-------+-------+-------+-------+-------+-------+-------+-------+-------+-------+-------+-------+--------+\n",
      "|     Sample     |   0   |   1   |   2   |   3   |   4   |   5   |   6   |   7   |   8   |   9   |   10  |   11  |   12   |\n",
      "+----------------+-------+-------+-------+-------+-------+-------+-------+-------+-------+-------+-------+-------+--------+\n",
      "| DststPipPim_c0 | 39.74 | 98.53 | 99.06 | 97.92 | 98.18 | 92.54 | 71.53 | 99.66 | 93.58 | 74.07 | 51.27 | 91.61 | 100.00 |\n",
      "|   DstPi0_c0    | 40.86 | 98.51 | 99.07 | 96.46 | 97.06 | 87.03 | 75.61 | 99.70 | 88.42 | 56.93 | 53.72 | 90.89 | 100.00 |\n",
      "|     DstmD0     | 41.85 | 98.96 | 98.59 | 98.23 | 99.33 | 93.99 | 70.17 | 99.60 | 97.92 | 77.54 | 44.17 | 72.86 | 100.00 |\n",
      "|    antiB0Hc    | 37.87 | 98.63 | 98.86 | 95.46 | 96.44 | 85.22 | 51.39 | 99.35 | 94.59 | 62.10 | 42.16 | 57.04 | 100.00 |\n",
      "|     tau_c0     | 40.44 | 98.69 | 99.03 | 95.86 | 96.06 | 85.32 | 72.78 | 99.67 | 87.80 | 55.82 | 49.08 | 79.24 | 100.00 |\n",
      "|    DstmDsp     | 33.95 | 98.54 | 98.99 | 96.03 | 96.92 | 86.76 | 70.08 | 99.61 | 90.14 | 59.81 | 52.73 | 67.11 | 100.00 |\n",
      "| DststPi0Pi0_c0 | 39.90 | 98.52 | 99.04 | 96.54 | 97.04 | 87.12 | 75.97 | 99.73 | 88.16 | 55.87 | 49.93 | 89.80 | 100.00 |\n",
      "|      BpHc      | 22.40 | 98.73 | 98.54 | 96.81 | 97.70 | 89.74 | 62.40 | 99.47 | 93.90 | 65.54 | 47.80 | 57.81 | 100.00 |\n",
      "|     DstmDp     | 48.40 | 98.89 | 98.53 | 97.56 | 98.20 | 91.05 | 69.95 | 99.61 | 94.42 | 67.68 | 48.21 | 51.82 | 100.00 |\n",
      "|   DstPip_c0    | 40.90 | 98.51 | 99.05 | 98.29 | 97.23 | 91.06 | 73.38 | 99.70 | 88.69 | 57.95 | 54.32 | 90.58 | 100.00 |\n",
      "|      BmHc      | 37.15 | 98.66 | 98.91 | 95.15 | 96.82 | 85.24 | 51.67 | 99.28 | 97.32 | 72.31 | 40.10 | 68.32 | 100.00 |\n",
      "|     mu_c0      | 36.55 | 98.51 | 99.11 | 95.51 | 95.46 | 83.34 | 71.10 | 99.66 | 86.95 | 51.86 | 44.01 | 89.97 | 100.00 |\n",
      "| DststPipPi0_c0 | 39.97 | 98.53 | 99.02 | 98.02 | 97.24 | 90.48 | 74.00 | 99.70 | 88.41 | 56.67 | 50.66 | 89.57 | 100.00 |\n",
      "+----------------+-------+-------+-------+-------+-------+-------+-------+-------+-------+-------+-------+-------+--------+\n"
     ]
    },
    {
     "data": {
      "image/png": "[encoded data removed]",
      "text/plain": [
       "<matplotlib.figure.Figure at 0x7f34fd0d27d0>"
      ]
     },
     "metadata": {},
     "output_type": "display_data"
    }
   ],
   "source": [
    "t = PrettyTable()\n",
    "t.field_names = ['Sample'] + [str(i) for i in range(d.counters.shape[0])]\n",
    "for n, d in inDic.iteritems():\n",
    "    eff = np.zeros((d.counters.shape[0], 2))\n",
    "    eff[0] = d.effCAND_trg\n",
    "    for i in range(d.counters[1:].shape[0]):\n",
    "        eff[i+1] = getEff(d.counters[i+1], d.counters[i])\n",
    "    t.add_row([n] + ['{:.2f}'.format(100*e[0]) for e in eff])\n",
    "    x = np.arange(eff.shape[0])\n",
    "    p = plt.errorbar(x, eff[:, 0], eff[:,1], fmt='o', lw=0, elinewidth=5, label=n)\n",
    "print t\n",
    "plt.rcParams.update({'font.size': 20})\n",
    "plt.xlabel('Counter')\n",
    "plt.ylabel('Efficiency')\n",
    "plt.legend(loc='best', numpoints=1)\n",
    "plt.ylim(0.2,1.05)\n",
    "plt.xlim(-1, eff.shape[0])\n",
    "plt.grid(True, which='both')\n",
    "plt.yscale('log')\n",
    "plt.gcf().set_size_inches(10, 6)"
   ]
  },
  {
   "cell_type": "code",
   "execution_count": null,
   "metadata": {},
   "outputs": [],
   "source": []
  }
 ],
 "metadata": {
  "kernelspec": {
   "display_name": "Python 2",
   "language": "python",
   "name": "python2"
  },
  "language_info": {
   "codemirror_mode": {
    "name": "ipython",
    "version": 2
   },
   "file_extension": ".py",
   "mimetype": "text/x-python",
   "name": "python",
   "nbconvert_exporter": "python",
   "pygments_lexer": "ipython2",
   "version": "2.7.14+"
  },
  "varInspector": {
   "cols": {
    "lenName": 16,
    "lenType": 16,
    "lenVar": 40
   },
   "kernels_config": {
    "python": {
     "delete_cmd_postfix": "",
     "delete_cmd_prefix": "del ",
     "library": "var_list.py",
     "varRefreshCmd": "print(var_dic_list())"
    },
    "r": {
     "delete_cmd_postfix": ") ",
     "delete_cmd_prefix": "rm(",
     "library": "var_list.r",
     "varRefreshCmd": "cat(var_dic_list()) "
    }
   },
   "types_to_exclude": [
    "module",
    "function",
    "builtin_function_or_method",
    "instance",
    "_Feature"
   ],
   "window_display": false
  }
 },
 "nbformat": 4,
 "nbformat_minor": 2
}
