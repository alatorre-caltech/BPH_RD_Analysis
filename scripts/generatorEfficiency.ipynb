{
 "cells": [
  {
   "cell_type": "markdown",
   "metadata": {},
   "source": [
    "Notebook to collect the information of the generation"
   ]
  },
  {
   "cell_type": "markdown",
   "metadata": {},
   "source": [
    "### Import"
   ]
  },
  {
   "cell_type": "code",
   "execution_count": 1,
   "metadata": {
    "ExecuteTime": {
     "end_time": "2021-11-22T19:30:50.782022Z",
     "start_time": "2021-11-22T19:30:50.486814Z"
    }
   },
   "outputs": [],
   "source": [
    "import sys, os, re, yaml, pickle\n",
    "import commands\n",
    "from glob import glob\n",
    "from prettytable import PrettyTable\n",
    "sys.path.append('../lib')\n",
    "\n",
    "import time, datetime"
   ]
  },
  {
   "cell_type": "code",
   "execution_count": 2,
   "metadata": {
    "ExecuteTime": {
     "end_time": "2021-11-22T19:30:51.189038Z",
     "start_time": "2021-11-22T19:30:51.165993Z"
    }
   },
   "outputs": [],
   "source": [
    "import signal\n",
    "\n",
    "class TimeoutError(Exception):\n",
    "    pass\n",
    "\n",
    "class timeout:\n",
    "    def __init__(self, seconds=1, error_message='Timeout'):\n",
    "        self.seconds = seconds\n",
    "        self.error_message = error_message\n",
    "    def handle_timeout(self, signum, frame):\n",
    "        raise TimeoutError(self.error_message)\n",
    "    def __enter__(self):\n",
    "        signal.signal(signal.SIGALRM, self.handle_timeout)\n",
    "        signal.alarm(self.seconds)\n",
    "    def __exit__(self, type, value, traceback):\n",
    "        signal.alarm(0)\n",
    "\n",
    "# with timeout(seconds=1):\n",
    "#     try:\n",
    "#         time.sleep(2)\n",
    "#     except TimeoutError:\n",
    "#         print 'Got it'"
   ]
  },
  {
   "cell_type": "code",
   "execution_count": 3,
   "metadata": {
    "ExecuteTime": {
     "end_time": "2021-11-22T19:30:53.677701Z",
     "start_time": "2021-11-22T19:30:51.822091Z"
    }
   },
   "outputs": [],
   "source": [
    "import numpy as np\n",
    "from scipy.stats import mode\n",
    "import matplotlib.pyplot as plt\n",
    "from prettytable import PrettyTable\n",
    "from progressBar import ProgressBar"
   ]
  },
  {
   "cell_type": "code",
   "execution_count": 4,
   "metadata": {
    "ExecuteTime": {
     "end_time": "2021-11-22T19:31:00.923777Z",
     "start_time": "2021-11-22T19:30:53.719106Z"
    }
   },
   "outputs": [
    {
     "name": "stdout",
     "output_type": "stream",
     "text": [
      "Welcome to JupyROOT 6.12/07\n"
     ]
    }
   ],
   "source": [
    "import uproot as ur\n",
    "import ROOT as rt\n",
    "rt.gErrorIgnoreLevel = rt.kError\n",
    "rt.RooMsgService.instance().setGlobalKillBelow(rt.RooFit.ERROR)"
   ]
  },
  {
   "cell_type": "code",
   "execution_count": 5,
   "metadata": {
    "ExecuteTime": {
     "end_time": "2021-11-22T19:31:01.297525Z",
     "start_time": "2021-11-22T19:31:00.997431Z"
    }
   },
   "outputs": [],
   "source": [
    "# load FWLite C++ libraries\n",
    "rt.gSystem.Load(\"libFWCoreFWLite.so\");\n",
    "rt.gSystem.Load(\"libDataFormatsFWLite.so\");\n",
    "rt.FWLiteEnabler.enable()\n",
    "\n",
    "# load FWlite python libraries\n",
    "from DataFormats.FWLite import Lumis\n",
    "from DataFormats.FWLite import Handle\n",
    "# import commands"
   ]
  },
  {
   "cell_type": "code",
   "execution_count": 6,
   "metadata": {
    "ExecuteTime": {
     "end_time": "2021-11-22T19:31:01.822559Z",
     "start_time": "2021-11-22T19:31:01.387000Z"
    }
   },
   "outputs": [],
   "source": [
    "from analysis_utilities import DSetLoader"
   ]
  },
  {
   "cell_type": "markdown",
   "metadata": {},
   "source": [
    "# Inputs"
   ]
  },
  {
   "cell_type": "markdown",
   "metadata": {},
   "source": [
    "Max 3 dataset per time otherwise run out of memory"
   ]
  },
  {
   "cell_type": "code",
   "execution_count": 7,
   "metadata": {
    "ExecuteTime": {
     "end_time": "2021-11-22T19:31:01.969992Z",
     "start_time": "2021-11-22T19:31:01.913575Z"
    }
   },
   "outputs": [],
   "source": [
    "# order = ['mu_c0', 'tau_c0',\n",
    "#          'DstPip_c0', 'DstPi0_c0', 'DststPipPi0_c0', 'DststPipPim_c0', 'DststPi0Pi0_c0', \n",
    "#          'Bp_TauNuDstst_Pip_PUc0', 'B0_TauNuDstst_Pi0_PUc0',\n",
    "#          'DstmDsp','DstmD0','DstmDp','BpHc','BmHc','antiB0Hc',\n",
    "#         ]"
   ]
  },
  {
   "cell_type": "code",
   "execution_count": 8,
   "metadata": {
    "ExecuteTime": {
     "end_time": "2021-11-22T19:31:02.059742Z",
     "start_time": "2021-11-22T19:31:02.052338Z"
    }
   },
   "outputs": [],
   "source": [
    "inDic = {}"
   ]
  },
  {
   "cell_type": "code",
   "execution_count": 9,
   "metadata": {
    "ExecuteTime": {
     "end_time": "2021-11-22T19:31:04.368107Z",
     "start_time": "2021-11-22T19:31:02.151844Z"
    }
   },
   "outputs": [
    {
     "name": "stdout",
     "output_type": "stream",
     "text": [
      "CAND efficiency file missing for Bd_MuNuDst.\n",
      "CAND efficiency file missing for Bd_TauNuDst.\n",
      "CAND efficiency file missing for Bu_MuNuDstPi.\n",
      "CAND efficiency file missing for Bd_MuNuDstPi.\n",
      "CAND efficiency file missing for Bd_MuNuDstPiPi.\n",
      "CAND efficiency file missing for Bu_MuNuDstPiPi.\n",
      "CAND efficiency file missing for Bu_TauNuDstPi.\n",
      "CAND efficiency file missing for Bd_TauNuDstPi.\n",
      "CAND efficiency file missing for Bd_TauNuDstPiPi.\n",
      "CAND efficiency file missing for Bu_TauNuDstPiPi.\n",
      "CAND efficiency file missing for Bs_MuNuDstK.\n",
      "CAND efficiency file missing for Bs_TauNuDstK.\n",
      "CAND efficiency file missing for Bd_DstDu.\n",
      "CAND efficiency file missing for Bd_DstDd.\n",
      "CAND efficiency file missing for Bd_DstDs.\n",
      "CAND efficiency file missing for Bu_DstDu.\n",
      "CAND efficiency file missing for Bu_DstDd.\n",
      "CAND efficiency file missing for Bs_DstDs.\n"
     ]
    }
   ],
   "source": [
    "######## Signals\n",
    "inDic['Bd_MuNuDst'] = DSetLoader('Bd_MuNuDst', candDir='ntuples_B2DstMu_211118')\n",
    "inDic['Bd_TauNuDst'] = DSetLoader('Bd_TauNuDst', candDir='ntuples_B2DstMu_211118')\n",
    "######## D** background\n",
    "inDic['Bu_MuDstPi'] = DSetLoader('Bu_MuNuDstPi', candDir='ntuples_B2DstMu_211118')\n",
    "inDic['Bd_MuDstPi'] = DSetLoader('Bd_MuNuDstPi', candDir='ntuples_B2DstMu_211118')\n",
    "inDic['Bd_MuDstPiPi'] = DSetLoader('Bd_MuNuDstPiPi', candDir='ntuples_B2DstMu_211118')\n",
    "inDic['Bu_MuDstPiPi'] = DSetLoader('Bu_MuNuDstPiPi', candDir='ntuples_B2DstMu_211118')\n",
    "inDic['Bu_TauDstPi'] = DSetLoader('Bu_TauNuDstPi', candDir='ntuples_B2DstMu_211118')\n",
    "inDic['Bd_TauDstPi'] = DSetLoader('Bd_TauNuDstPi', candDir='ntuples_B2DstMu_211118')\n",
    "inDic['Bd_TauDstPiPi'] = DSetLoader('Bd_TauNuDstPiPi', candDir='ntuples_B2DstMu_211118')\n",
    "inDic['Bu_TauDstPiPi'] = DSetLoader('Bu_TauNuDstPiPi', candDir='ntuples_B2DstMu_211118')\n",
    "inDic['Bs_MuDstK'] = DSetLoader('Bs_MuNuDstK', candDir='ntuples_B2DstMu_211118')\n",
    "inDic['Bs_TauDstK'] = DSetLoader('Bs_TauNuDstK', candDir='ntuples_B2DstMu_211118')\n",
    "\n",
    "######## D*Hc background\n",
    "inDic['Bd_DstDu'] = DSetLoader('Bd_DstDu', candDir='ntuples_B2DstMu_211118')\n",
    "inDic['Bd_DstDd'] = DSetLoader('Bd_DstDd', candDir='ntuples_B2DstMu_211118')\n",
    "inDic['Bd_DstDs'] = DSetLoader('Bd_DstDs', candDir='ntuples_B2DstMu_211118')\n",
    "inDic['Bu_DstDu'] = DSetLoader('Bu_DstDu', candDir='ntuples_B2DstMu_211118')\n",
    "inDic['Bu_DstDd'] = DSetLoader('Bu_DstDd', candDir='ntuples_B2DstMu_211118')\n",
    "inDic['Bs_DstDs'] = DSetLoader('Bs_DstDs', candDir='ntuples_B2DstMu_211118')"
   ]
  },
  {
   "cell_type": "code",
   "execution_count": 10,
   "metadata": {
    "ExecuteTime": {
     "end_time": "2021-11-22T19:31:04.449799Z",
     "start_time": "2021-11-22T19:31:04.443001Z"
    }
   },
   "outputs": [],
   "source": [
    "# inDic['JPsiKst'] = DSetLoader('Bd_JpsiKst_General', candDir='ntuples_B2JpsiKst')"
   ]
  },
  {
   "cell_type": "code",
   "execution_count": 11,
   "metadata": {
    "ExecuteTime": {
     "end_time": "2021-11-22T19:31:05.611335Z",
     "start_time": "2021-11-22T19:31:05.591788Z"
    },
    "hide_input": true
   },
   "outputs": [],
   "source": [
    "# inDic['muHQET_0'] = DSetLoader('B0_MuNuDmst_HQETcentral_PU0')\n",
    "# inDic['mu_0'] = DSetLoader('B0_MuNuDmst_PU0')\n",
    "# inDic['mu_20'] = DSetLoader('B0_MuNuDmst_PU20')\n",
    "# inDic['mu_c0'] = DSetLoader('B0_MuNuDmst_PUc0')\n",
    "# inDic['muSoft_c0'] = DSetLoader('B0_MuNuDmst_SoftQCDall_PUc0')\n",
    "# inDic['mu_35'] = DSetLoader('B0_MuNuDmst_PU35')\n",
    "\n",
    "# inDic['tau_0'] = DSetLoader('B0_TauNuDmst_PU0')\n",
    "# inDic['tau_20'] = DSetLoader('B0_TauNuDmst_PU20')\n",
    "# inDic['tau_c0'] = DSetLoader('B0_TauNuDmst_PUc0')\n",
    "# inDic['tau_35'] = DSetLoader('B0_TauNuDmst_PU35')\n",
    "\n",
    "# inDic['Hc_20'] = DSetLoader('B0_DmstHc_PU20')\n",
    "# inDic['Hc_c0'] = DSetLoader('B0_DmstHc_PUc0')\n",
    "\n",
    "\n",
    "# inDic['DstmDsp'] = DSetLoader('B0_DstmDsp_PUc0')\n",
    "\n",
    "# inDic['DstmDp'] = DSetLoader('B0_DstmDp_PUc0')\n",
    "\n",
    "# inDic['DstmD0'] = DSetLoader('B0_DstmD0_PUc0')\n",
    "\n",
    "# inDic['BpHc'] = DSetLoader('Bp_DstmHc_PUc0')\n",
    "\n",
    "# inDic['BmHc'] = DSetLoader('Bm_DstmHc_PUc0')\n",
    "\n",
    "# inDic['antiB0Hc'] = DSetLoader('antiB0_DstmHc_PUc0')\n",
    "\n",
    "\n",
    "# inDic['DstPip_20'] = DSetLoader('Bp_MuNuDstst_PU20')\n",
    "# inDic['DstPip_c0'] = DSetLoader('Bp_MuNuDstst_Pip_PUc0')\n",
    "\n",
    "# inDic['DstPi0_c0'] = DSetLoader('B0_MuNuDstst_Pi0_PUc0')\n",
    "\n",
    "# inDic['DstPi0_nR_c0'] = DSetLoader('B0_DmstPi0MuNu_PUc0')\n",
    "\n",
    "# inDic['DststPipPi0_c0'] = DSetLoader('Bp_MuNuDstst_PipPi0_PUc0')\n",
    "# inDic['DststPipPi0_nR_c0'] = DSetLoader('Bp_MuNuDstPipPi0_PUc0')\n",
    "\n",
    "# inDic['DststPipPim_c0'] = DSetLoader('B0_MuNuDstst_PipPim_PUc0')\n",
    "# inDic['DststPipPim_nR_c0'] = DSetLoader('B0_MuNuDstPipPim_PUc0')\n",
    "\n",
    "# inDic['DststPi0Pi0_c0'] = DSetLoader('B0_MuNuDstst_Pi0Pi0_PUc0')\n",
    "\n",
    "# inDic['B0_DststPiPiPi_c0'] = DSetLoader('B0_MuNuDstPiPiPi_PUc0')\n",
    "\n",
    "# inDic['Bp_DststPiPiPi_c0'] = DSetLoader('Bp_MuNuDstPiPiPi_PUc0')\n",
    "\n",
    "# inDic['B0_TauNuDstst_Pi0_PUc0'] = DSetLoader('B0_TauNuDstst_Pi0_PUc0')\n",
    "\n",
    "# inDic['Bp_TauNuDstst_Pip_PUc0'] = DSetLoader('Bp_TauNuDstst_Pip_PUc0')"
   ]
  },
  {
   "cell_type": "code",
   "execution_count": 12,
   "metadata": {
    "ExecuteTime": {
     "end_time": "2021-11-22T19:31:06.231635Z",
     "start_time": "2021-11-22T19:31:06.214866Z"
    },
    "hide_input": true
   },
   "outputs": [],
   "source": [
    "# inDic['mu_0'] = DSetLoader('B0_MuNuDmst_PU0', candDir='ntuples_probeB2DstMu')\n",
    "# inDic['p_mu_c0'] = DSetLoader('p_B0_MuNuDst_PUc0', candDir='ntuples_probeB2DstMu')\n",
    "# inDic['p_tau_c0'] = DSetLoader('p_B0_TauNuDst_PUc0', candDir='ntuples_probeB2DstMu')"
   ]
  },
  {
   "cell_type": "code",
   "execution_count": 13,
   "metadata": {
    "ExecuteTime": {
     "end_time": "2021-11-22T19:31:06.976624Z",
     "start_time": "2021-11-22T19:31:06.966115Z"
    },
    "hide_input": true
   },
   "outputs": [],
   "source": [
    "# inDic['JPsiKst_0'] = DSetLoader('B0_JpsiKst_PU0', candDir='ntuples_B2JpsiKst')\n",
    "# inDic['JPsiKst_20'] = DSetLoader('B0_JpsiKst_PU20', candDir='ntuples_B2JpsiKst')\n",
    "# inDic['JPsiKst_35'] = DSetLoader('B0_JpsiKst_PU35', candDir='ntuples_B2JpsiKst')\n",
    "\n",
    "# inDic['JPsiKstFSR_20'] = DSetLoader('B0_JpsiKstFSR_PU20', candDir='ntuples_B2JpsiKst')\n",
    "# inDic['JPsiKst_c0'] = DSetLoader('B0_JpsiKst_PUc0', candDir='ntuples_B2JpsiKst')\n",
    "# inDic['JPsiKst_c0'] = DSetLoader('B0_JpsiX_SoftQCD_PU20', candDir='ntuples_B2JpsiKst')\n",
    "\n",
    "# inDic['JPsiK_c0'] = DSetLoader('Bp_JpsiK_PUc0', candDir='ntuples_B2JpsiK')"
   ]
  },
  {
   "cell_type": "markdown",
   "metadata": {},
   "source": [
    "# Efficiency"
   ]
  },
  {
   "cell_type": "code",
   "execution_count": 14,
   "metadata": {
    "ExecuteTime": {
     "end_time": "2021-11-22T19:31:09.040297Z",
     "start_time": "2021-11-22T19:31:09.023845Z"
    }
   },
   "outputs": [],
   "source": [
    "def getEff(k,N):\n",
    "    e = k/float(N)\n",
    "    de = np.sqrt(e*(1-e)/N)\n",
    "    return [e, de]"
   ]
  },
  {
   "cell_type": "markdown",
   "metadata": {},
   "source": [
    "## Generator Efficiency"
   ]
  },
  {
   "cell_type": "code",
   "execution_count": 15,
   "metadata": {
    "ExecuteTime": {
     "end_time": "2021-11-22T19:31:14.395168Z",
     "start_time": "2021-11-22T19:31:11.451083Z"
    }
   },
   "outputs": [],
   "source": [
    "handle = {}\n",
    "handle['genFilter'] = [Handle('GenFilterInfo'), ('genFilterEfficiencyProducer', '', 'SIM')]\n",
    "handle['genProduct'] = [Handle('GenLumiInfoProduct'), ('generator', '', 'SIM')]"
   ]
  },
  {
   "cell_type": "code",
   "execution_count": 16,
   "metadata": {
    "ExecuteTime": {
     "end_time": "2021-11-22T19:31:14.507790Z",
     "start_time": "2021-11-22T19:31:14.467006Z"
    },
    "code_folding": []
   },
   "outputs": [],
   "source": [
    "def analyzeMINIAODs(fileList):  \n",
    "    print 'Analizing', len(fileList), 'MINIAOD'\n",
    "    N_gen = 0\n",
    "    N_cuts = 0\n",
    "    xsec = []\n",
    "    xsec_err = []\n",
    "    pb = ProgressBar(maxEntry=len(fileList))\n",
    "    skippedFiles = []\n",
    "    for i_j, fileName in enumerate(fileList):\n",
    "        if not os.path.exists(fileName):\n",
    "            fileName = 'root://cmsxrootd.fnal.gov/' + fileName\n",
    "        pb.show(i_j)\n",
    "        with timeout(seconds=30):\n",
    "            try:\n",
    "#                 cmd = 'python generatorEfficiency_MINIAODSIM.py ' + fileName\n",
    "#                 status, output = commands.getstatusoutput(cmd)\n",
    "#                 aux = output.split(' ')\n",
    "#                 N_gen += float(aux[0])\n",
    "#                 N_cuts += float(aux[1])\n",
    "#                 xsec.append(float(aux[2]))\n",
    "#                 xsec_err.append(float(aux[4]))\n",
    "                for lumi in Lumis(fileName):\n",
    "                    prods = {}\n",
    "                    for k,v in handle.iteritems():\n",
    "                        lumi.getByLabel(v[1], v[0])\n",
    "                        prods[k] = v[0].product()\n",
    "                    N_cuts += prods['genFilter'].numEventsPassed()\n",
    "                    N_gen += prods['genFilter'].numEventsTotal()\n",
    "                    xs = prods['genProduct'].getProcessInfos()[0].lheXSec()\n",
    "                    xsec.append(xs.value())\n",
    "                    xsec_err.append(xs.error())\n",
    "            except TimeoutError:\n",
    "                skippedFiles.append(fileName)\n",
    "    print 'Skipped {} files'.format(len(skippedFiles))\n",
    "    print 'Total events in analyzed MINIAODs', N_cuts\n",
    "    xsec = np.array(xsec)\n",
    "    xsec_err = np.array(xsec_err)\n",
    "    return N_gen, N_cuts, xsec, xsec_err"
   ]
  },
  {
   "cell_type": "code",
   "execution_count": 17,
   "metadata": {
    "ExecuteTime": {
     "end_time": "2021-11-22T19:31:17.071328Z",
     "start_time": "2021-11-22T19:31:16.962319Z"
    }
   },
   "outputs": [
    {
     "name": "stdout",
     "output_type": "stream",
     "text": [
      "\n",
      "\n",
      "--> Bd_MuNuDstPiPi\n",
      "Already present\n",
      "{'xsec': [456519823117.69574, 143770126.80684236], 'effGEN': [0.0067797, 2.5949442514069545e-05]}\n",
      "\n",
      "\n",
      "--> Bs_TauNuDstK\n",
      "Already present\n",
      "{'xsec': [456677828218.53046, 36048904.2320488], 'effGEN': [0.0005487288964862666, 1.8562417474426523e-06]}\n",
      "\n",
      "\n",
      "--> Bs_DstDs\n",
      "Already present\n",
      "{'xsec': [456662294635.436, 17549797.316052377], 'effGEN': [0.0005269860252243413, 8.856350272401264e-07]}\n",
      "\n",
      "\n",
      "--> Bd_TauNuDstPi\n",
      "Already present\n",
      "{'xsec': [456627934865.00574, 33695681.406900726], 'effGEN': [0.0019594178212750325, 3.2767437737953146e-06]}\n",
      "\n",
      "\n",
      "--> Bu_MuNuDstPiPi\n",
      "Already present\n",
      "{'xsec': [456764703863.9451, 143935893.4645797], 'effGEN': [0.006834248497993219, 2.606902892286946e-05]}\n",
      "\n",
      "\n",
      "--> Bs_MuNuDstK\n",
      "Already present\n",
      "{'xsec': [456726488997.22565, 36573692.07147653], 'effGEN': [0.0023048419118000766, 3.855897991944063e-06]}\n",
      "\n",
      "\n",
      "--> Bd_MuNuDstPi\n",
      "Already present\n",
      "{'xsec': [456744006710.3446, 66325418.73642332], 'effGEN': [0.00757017976646805, 1.2638682968523077e-05]}\n",
      "\n",
      "\n",
      "--> Bu_TauNuDstPi\n",
      "Already present\n",
      "{'xsec': [456607782758.73895, 32462737.00095621], 'effGEN': [0.001951799420635564, 3.150851957285874e-06]}\n",
      "\n",
      "\n",
      "--> Bd_DstDd\n",
      "Already present\n",
      "{'xsec': [456655173314.66113, 30405401.275802836], 'effGEN': [0.0015570839557767558, 2.636168842865786e-06]}\n",
      "\n",
      "\n",
      "--> Bu_DstDu\n",
      "Already present\n",
      "{'xsec': [456727307649.88464, 31931298.133575417], 'effGEN': [0.0005769465910172354, 1.6857567348705974e-06]}\n",
      "\n",
      "\n",
      "--> Bd_TauNuDst\n",
      "Already present\n",
      "{'xsec': [456643781663.98676, 36611605.19230932], 'effGEN': [0.002664095112754531, 4.1498219745822606e-06]}\n",
      "\n",
      "\n",
      "--> Bd_DstDs\n",
      "Already present\n",
      "{'xsec': [456677939829.15814, 37006816.22500361], 'effGEN': [0.0027042410159473338, 4.2257094027381994e-06]}\n",
      "\n",
      "\n",
      "--> Bd_TauNuDstPiPi\n",
      "Already present\n",
      "{'xsec': [456639887083.5454, 117418280.7737454], 'effGEN': [0.0016533333333333333, 1.0489994668642504e-05]}\n",
      "\n",
      "\n",
      "--> Bd_DstDu\n",
      "Already present\n",
      "{'xsec': [456718497743.14484, 31880070.493025027], 'effGEN': [0.0005557675909602409, 1.6519213479207043e-06]}\n",
      "\n",
      "\n",
      "--> Bu_TauNuDstPiPi\n",
      "Already present\n",
      "{'xsec': [456617241730.59283, 117412430.43150687], 'effGEN': [0.0016679333333333333, 1.0536132534375502e-05]}\n",
      "\n",
      "\n",
      "--> Bu_MuNuDstPi\n",
      "Already present\n",
      "{'xsec': [456645908978.03937, 65832035.18805618], 'effGEN': [0.007610271070485912, 1.2580267074338246e-05]}\n",
      "\n",
      "\n",
      "--> Bu_DstDd\n",
      "Already present\n",
      "{'xsec': [456664470140.14484, 23230141.73791026], 'effGEN': [0.0014362809282369097, 1.9344367771244566e-06]}\n",
      "\n",
      "\n",
      "--> Bd_MuNuDst\n",
      "Already present\n",
      "{'xsec': [456573357247.07275, 83143629.37104729], 'effGEN': [0.013007340391580057, 2.0718530258658655e-05]}\n"
     ]
    }
   ],
   "source": [
    "N_max = 30\n",
    "recreate = []\n",
    "# recreate = inDic.keys()\n",
    "for n, d in inDic.iteritems():\n",
    "    print '\\n\\n--> ' + d.sample\n",
    "    \n",
    "    outdir = os.path.join(d.candLoc, d.full_name)\n",
    "    outyamlFile = os.path.join(outdir,'effMCgenerator.yaml')\n",
    "    if os.path.isfile(outyamlFile) and not n in recreate:\n",
    "        print 'Already present'\n",
    "        dic = yaml.load(open(outyamlFile, 'r'))\n",
    "        print dic\n",
    "        continue\n",
    "        \n",
    "    fileList = d.MINIAOD_filelist\n",
    "    if N_max > 0 and N_max < len(fileList):\n",
    "        fileList = np.random.choice(fileList, N_max)\n",
    "    elif len(fileList) == 0:\n",
    "        print 'No MiniAODs found, skipping'\n",
    "        continue\n",
    "    \n",
    "    N_gen, N_cuts, xsec, xsec_err = analyzeMINIAODs(fileList)\n",
    "    s2 = np.square(xsec_err)\n",
    "    num = np.sum(xsec/s2)\n",
    "    den = np.sum(1./s2)\n",
    "    xsecAvg = 1e3*num/den\n",
    "    xsecAvg_err = 1e3*np.sqrt(1/den)\n",
    "    chi2 = np.sum(np.square((xsec - xsecAvg*1e-3)/xsec_err))\n",
    "    pval = rt.ROOT.Math.chisquared_cdf_c(chi2, len(xsec)-1)\n",
    "    print 'Chi2: {:.1f}/{} ({:.1f}%)'.format(chi2, len(xsec)-1, pval*100)\n",
    "    print 'Xsec: {:1.4e} +/- {:1.4e} fb ({:1.1e})'.format(xsecAvg, xsecAvg_err, xsecAvg_err/xsecAvg)\n",
    "    d.xsec = [xsecAvg, xsecAvg_err]\n",
    "    \n",
    "    e, de = getEff(N_cuts, N_gen)\n",
    "    print 'eff generator: {:1.3e} +/- {:1.3e} ({:1.1e})'.format(e,de, de/e)\n",
    "    d.effGEN = [e, de]\n",
    "\n",
    "    dump_dic = {}\n",
    "    for k in ['xsec', 'effGEN']:\n",
    "        aux = getattr(d, k)\n",
    "        dump_dic[k] = [float(aux[0]), float(aux[1])]\n",
    "    if not os.path.isdir(outdir):\n",
    "        os.makedirs(outdir)\n",
    "    with open(outyamlFile, 'w') as dumpF:\n",
    "        dumpF.write(yaml.dump(dump_dic, default_flow_style=False, default_style=''))"
   ]
  },
  {
   "cell_type": "markdown",
   "metadata": {},
   "source": [
    "## ntuplizer efficiency"
   ]
  },
  {
   "cell_type": "code",
   "execution_count": 18,
   "metadata": {
    "ExecuteTime": {
     "end_time": "2021-11-22T19:34:42.587944Z",
     "start_time": "2021-11-22T19:31:21.053005Z"
    },
    "code_folding": [],
    "scrolled": false
   },
   "outputs": [
    {
     "name": "stdout",
     "output_type": "stream",
     "text": [
      "\n",
      "\n",
      "--> Bd_MuNuDstPiPi\n",
      "Analyzing 419 ntuplizer job logs\n",
      "[####################]  100% - Tot. time: 7.1 s\n",
      "Total MINIAOD: 11145506\n",
      "Total candidates: 440876\n",
      "eff candidates (trigger): 3.725e-01 +/- 1.448e-04 (3.9e-04)\n",
      "eff candidates (cand): 1.062e-01 +/- 1.512e-04 (1.4e-03)\n",
      "eff candidates: 3.956e-02 +/- 5.838e-05 (1.5e-03)\n",
      "$37.25 \\pm 0.01$ & $10.62 \\pm 0.02$ & $3.96 \\pm 0.01$\\\n",
      "Getting the total rates (if existing)\n",
      "Not found\n",
      "\n",
      "\n",
      "--> Bs_TauNuDstK\n",
      "Analyzing 9 ntuplizer job logs\n",
      "[#########]  100% - Tot. time: 0.1 s\n",
      "Total MINIAOD: 905667\n",
      "Total candidates: 37836\n",
      "eff candidates (trigger): 4.092e-01 +/- 5.167e-04 (1.3e-03)\n",
      "eff candidates (cand): 1.021e-01 +/- 4.973e-04 (4.9e-03)\n",
      "eff candidates: 4.178e-02 +/- 2.102e-04 (5.0e-03)\n",
      "$40.92 \\pm 0.05$ & $10.21 \\pm 0.05$ & $4.18 \\pm 0.02$\\\n",
      "Getting the total rates (if existing)\n",
      "Not found\n",
      "\n",
      "\n",
      "--> Bs_DstDs\n",
      "Analyzing 48 ntuplizer job logs\n",
      "[####################]  100% - Tot. time: 0.9 s\n",
      "Total MINIAOD: 5271920\n",
      "Total candidates: 133483\n",
      "eff candidates (trigger): 4.203e-01 +/- 2.150e-04 (5.1e-04)\n",
      "eff candidates (cand): 6.025e-02 +/- 1.599e-04 (2.7e-03)\n",
      "eff candidates: 2.532e-02 +/- 6.842e-05 (2.7e-03)\n",
      "$42.03 \\pm 0.02$ & $6.02 \\pm 0.02$ & $2.53 \\pm 0.01$\\\n",
      "Getting the total rates (if existing)\n",
      "Done\n",
      "\n",
      "\n",
      "--> Bd_TauNuDstPi\n",
      "Analyzing 10 ntuplizer job logs\n",
      "[##########]  100% - Tot. time: 0.2 s\n",
      "Total MINIAOD: 959226\n",
      "Total candidates: 48709\n",
      "eff candidates (trigger): 4.135e-01 +/- 5.028e-04 (1.2e-03)\n",
      "eff candidates (cand): 1.228e-01 +/- 5.212e-04 (4.2e-03)\n",
      "eff candidates: 5.078e-02 +/- 2.242e-04 (4.4e-03)\n",
      "$41.35 \\pm 0.05$ & $12.28 \\pm 0.05$ & $5.08 \\pm 0.02$\\\n",
      "Getting the total rates (if existing)\n",
      "Not found\n",
      "\n",
      "\n",
      "--> Bu_MuNuDstPiPi\n",
      "Analyzing 243 ntuplizer job logs\n",
      "[####################]  100% - Tot. time: 3.2 s\n",
      "Total MINIAOD: 6544720\n",
      "Total candidates: 271804\n",
      "eff candidates (trigger): 3.853e-01 +/- 1.902e-04 (4.9e-04)\n",
      "eff candidates (cand): 1.078e-01 +/- 1.953e-04 (1.8e-03)\n",
      "eff candidates: 4.153e-02 +/- 7.799e-05 (1.9e-03)\n",
      "$38.53 \\pm 0.02$ & $10.78 \\pm 0.02$ & $4.15 \\pm 0.01$\\\n",
      "Getting the total rates (if existing)\n",
      "Not found\n",
      "\n",
      "\n",
      "--> Bs_MuNuDstK\n",
      "Analyzing 158 ntuplizer job logs\n",
      "[####################]  100% - Tot. time: 2.7 s\n",
      "Total MINIAOD: 19036940\n",
      "Total candidates: 720099\n",
      "eff candidates (trigger): 3.699e-01 +/- 1.106e-04 (3.0e-04)\n",
      "eff candidates (cand): 1.023e-01 +/- 1.142e-04 (1.1e-03)\n",
      "eff candidates: 3.783e-02 +/- 4.372e-05 (1.2e-03)\n",
      "$36.99 \\pm 0.01$ & $10.23 \\pm 0.01$ & $3.78 \\pm 0.00$\\\n",
      "Getting the total rates (if existing)\n",
      "Not found\n",
      "\n",
      "\n",
      "--> Bd_MuNuDstPi\n",
      "Analyzing 384 ntuplizer job logs\n",
      "[####################]  100% - Tot. time: 6.6 s\n",
      "Total MINIAOD: 42613771\n",
      "Total candidates: 1766068\n",
      "eff candidates (trigger): 3.754e-01 +/- 7.418e-05 (2.0e-04)\n",
      "eff candidates (cand): 1.104e-01 +/- 7.835e-05 (7.1e-04)\n",
      "eff candidates: 4.144e-02 +/- 3.053e-05 (7.4e-04)\n",
      "$37.54 \\pm 0.01$ & $11.04 \\pm 0.01$ & $4.14 \\pm 0.00$\\\n",
      "Getting the total rates (if existing)\n",
      "Done\n",
      "\n",
      "\n",
      "--> Bu_TauNuDstPi\n",
      "Analyzing 9 ntuplizer job logs\n",
      "[#########]  100% - Tot. time: 0.1 s\n",
      "Total MINIAOD: 969189\n",
      "Total candidates: 52078\n",
      "eff candidates (trigger): 4.240e-01 +/- 5.020e-04 (1.2e-03)\n",
      "eff candidates (cand): 1.267e-01 +/- 5.189e-04 (4.1e-03)\n",
      "eff candidates: 5.373e-02 +/- 2.290e-04 (4.3e-03)\n",
      "$42.40 \\pm 0.05$ & $12.67 \\pm 0.05$ & $5.37 \\pm 0.02$\\\n",
      "Getting the total rates (if existing)\n",
      "Not found\n",
      "\n",
      "\n",
      "--> Bd_DstDd\n",
      "Analyzing 175 ntuplizer job logs\n",
      "[####################]  100% - Tot. time: 2.9 s\n",
      "Total MINIAOD: 20515014\n",
      "Total candidates: 402820\n",
      "eff candidates (trigger): 4.299e-01 +/- 1.093e-04 (2.5e-04)\n",
      "eff candidates (cand): 4.567e-02 +/- 7.030e-05 (1.5e-03)\n",
      "eff candidates: 1.964e-02 +/- 3.063e-05 (1.6e-03)\n",
      "$42.99 \\pm 0.01$ & $4.57 \\pm 0.01$ & $1.96 \\pm 0.00$\\\n",
      "Getting the total rates (if existing)\n",
      "Done\n",
      "\n",
      "\n",
      "--> Bu_DstDu\n",
      "Analyzing 174 ntuplizer job logs\n",
      "[####################]  100% - Tot. time: 2.9 s\n",
      "Total MINIAOD: 20265629\n",
      "Total candidates: 1248643\n",
      "eff candidates (trigger): 4.315e-01 +/- 1.100e-04 (2.5e-04)\n",
      "eff candidates (cand): 1.428e-01 +/- 1.183e-04 (8.3e-04)\n",
      "eff candidates: 6.161e-02 +/- 5.341e-05 (8.7e-04)\n",
      "$43.15 \\pm 0.01$ & $14.28 \\pm 0.01$ & $6.16 \\pm 0.01$\\\n",
      "Getting the total rates (if existing)\n",
      "Done\n",
      "\n",
      "\n",
      "--> Bd_TauNuDst\n",
      "Analyzing 273 ntuplizer job logs\n",
      "[####################]  100% - Tot. time: 5.3 s\n",
      "Total MINIAOD: 32674898\n",
      "Total candidates: 1584370\n",
      "eff candidates (trigger): 4.170e-01 +/- 8.626e-05 (2.1e-04)\n",
      "eff candidates (cand): 1.163e-01 +/- 8.684e-05 (7.5e-04)\n",
      "eff candidates: 4.849e-02 +/- 3.758e-05 (7.7e-04)\n",
      "$41.70 \\pm 0.01$ & $11.63 \\pm 0.01$ & $4.85 \\pm 0.00$\\\n",
      "Getting the total rates (if existing)\n",
      "Done\n",
      "\n",
      "\n",
      "--> Bd_DstDs\n",
      "Analyzing 323 ntuplizer job logs\n",
      "[####################]  100% - Tot. time: 6.5 s\n",
      "Total MINIAOD: 38958522\n",
      "Total candidates: 1391830\n",
      "eff candidates (trigger): 4.381e-01 +/- 7.949e-05 (1.8e-04)\n",
      "eff candidates (cand): 8.154e-02 +/- 6.624e-05 (8.1e-04)\n",
      "eff candidates: 3.573e-02 +/- 2.974e-05 (8.3e-04)\n",
      "$43.81 \\pm 0.01$ & $8.15 \\pm 0.01$ & $3.57 \\pm 0.00$\\\n",
      "Getting the total rates (if existing)\n",
      "Done\n",
      "\n",
      "\n",
      "--> Bd_TauNuDstPiPi\n",
      "Analyzing 122 ntuplizer job logs\n",
      "[####################]  100% - Tot. time: 1.8 s\n",
      "Total MINIAOD: 1208063\n",
      "Total candidates: 59271\n",
      "eff candidates (trigger): 4.125e-01 +/- 4.479e-04 (1.1e-03)\n",
      "eff candidates (cand): 1.190e-01 +/- 4.586e-04 (3.9e-03)\n",
      "eff candidates: 4.906e-02 +/- 1.965e-04 (4.0e-03)\n",
      "$41.25 \\pm 0.04$ & $11.90 \\pm 0.05$ & $4.91 \\pm 0.02$\\\n",
      "Getting the total rates (if existing)\n",
      "Not found\n",
      "\n",
      "\n",
      "--> Bd_DstDu\n",
      "Analyzing 161 ntuplizer job logs\n",
      "[####################]  100% - Tot. time: 3.1 s\n",
      "Total MINIAOD: 18869232\n",
      "Total candidates: 1074607\n",
      "eff candidates (trigger): 4.205e-01 +/- 1.136e-04 (2.7e-04)\n",
      "eff candidates (cand): 1.355e-01 +/- 1.215e-04 (9.0e-04)\n",
      "eff candidates: 5.695e-02 +/- 5.335e-05 (9.4e-04)\n",
      "$42.05 \\pm 0.01$ & $13.55 \\pm 0.01$ & $5.70 \\pm 0.01$\\\n",
      "Getting the total rates (if existing)\n",
      "Not found\n",
      "\n",
      "\n",
      "--> Bu_TauNuDstPiPi\n",
      "Analyzing 117 ntuplizer job logs\n",
      "[####################]  100% - Tot. time: 1.4 s\n",
      "Total MINIAOD: 1163393\n",
      "Total candidates: 61064\n",
      "eff candidates (trigger): 4.222e-01 +/- 4.579e-04 (1.1e-03)\n",
      "eff candidates (cand): 1.243e-01 +/- 4.708e-04 (3.8e-03)\n",
      "eff candidates: 5.249e-02 +/- 2.068e-04 (3.9e-03)\n",
      "$42.22 \\pm 0.05$ & $12.43 \\pm 0.05$ & $5.25 \\pm 0.02$\\\n",
      "Getting the total rates (if existing)\n",
      "Not found\n",
      "\n",
      "\n",
      "--> Bu_MuNuDstPi\n",
      "Analyzing 696 ntuplizer job logs\n",
      "[####################]  100% - Tot. time: 12.8 s\n",
      "Total MINIAOD: 75812268\n",
      "Total candidates: 3320003\n",
      "eff candidates (trigger): 3.880e-01 +/- 5.597e-05 (1.4e-04)\n",
      "eff candidates (cand): 1.129e-01 +/- 5.835e-05 (5.2e-04)\n",
      "eff candidates: 4.379e-02 +/- 2.350e-05 (5.4e-04)\n",
      "$38.80 \\pm 0.01$ & $11.29 \\pm 0.01$ & $4.38 \\pm 0.00$\\\n",
      "Getting the total rates (if existing)\n",
      "Not found\n",
      "\n",
      "\n",
      "--> Bu_DstDd\n",
      "Analyzing 264 ntuplizer job logs\n",
      "[####################]  100% - Tot. time: 4.4 s\n",
      "Total MINIAOD: 19308837\n",
      "Total candidates: 378325\n",
      "eff candidates (trigger): 4.276e-01 +/- 1.126e-04 (2.6e-04)\n",
      "eff candidates (cand): 4.582e-02 +/- 7.277e-05 (1.6e-03)\n",
      "eff candidates: 1.959e-02 +/- 3.154e-05 (1.6e-03)\n",
      "$42.76 \\pm 0.01$ & $4.58 \\pm 0.01$ & $1.96 \\pm 0.00$\\\n",
      "Getting the total rates (if existing)\n",
      "Done\n",
      "\n",
      "\n",
      "--> Bd_MuNuDst\n",
      "Analyzing 6371 ntuplizer job logs\n",
      "[####################]  100% - Tot. time: 135.1 s\n",
      "Total MINIAOD: 690287908\n",
      "Total candidates: 25917905\n",
      "eff candidates (trigger): 3.826e-01 +/- 1.850e-05 (4.8e-05)\n",
      "eff candidates (cand): 9.814e-02 +/- 1.831e-05 (1.9e-04)\n",
      "eff candidates: 3.755e-02 +/- 7.235e-06 (1.9e-04)\n",
      "$38.26 \\pm 0.00$ & $9.81 \\pm 0.00$ & $3.75 \\pm 0.00$\\\n",
      "Getting the total rates (if existing)\n",
      "Done\n"
     ]
    }
   ],
   "source": [
    "for d in inDic.values():\n",
    "    print '\\n\\n--> ' + d.sample\n",
    "\n",
    "    if not os.path.isdir(d.ntuples_dir):\n",
    "        continue\n",
    "    cand_out_list = glob(os.path.join(d.ntuples_dir,'out/job*.out'))\n",
    "#     if d.sample == 'Bd_MuNuDst':\n",
    "#         cand_out_list = glob(os.path.join(d.ntuples_dir,'out/job_???_*.out'))\n",
    "    N_analyzed = 0\n",
    "    N_trg = 0\n",
    "    N_cand = 0\n",
    "    print 'Analyzing {} ntuplizer job logs'.format(len(cand_out_list))\n",
    "    pb = ProgressBar(maxEntry=len(cand_out_list))\n",
    "    for ic, cand_out in enumerate(cand_out_list):\n",
    "        pb.show(ic)\n",
    "        eff_ln = []\n",
    "        counters = []\n",
    "        takingCounters = False\n",
    "        for line in open(cand_out).readlines():\n",
    "            if 'efficiency:' in line:\n",
    "                eff_ln.append(line)\n",
    "            elif 'counters:' in line:\n",
    "                    takingCounters = True\n",
    "            elif takingCounters and line[:-1].isdigit():\n",
    "                counters.append(int(line[:-1]))\n",
    "            elif takingCounters:\n",
    "                takingCounters = False\n",
    "#             print line\n",
    "        aux = re.search('[0-9]+/[0-9]+', eff_ln[0]).group(0)\n",
    "        aux = aux.split('/')\n",
    "        N_analyzed += int(aux[1])\n",
    "        N_trg += int(aux[0])\n",
    "        \n",
    "        aux = re.search(': [0-9]+/', eff_ln[1]).group(0)\n",
    "        N_cand += int(aux[2:-1])\n",
    "        \n",
    "        counters=np.array(counters)\n",
    "        if not hasattr(d, 'counters'):\n",
    "            d.counters = counters\n",
    "        else:\n",
    "            d.counters += counters\n",
    "        \n",
    "    d.nTotMINIAOD = N_analyzed\n",
    "    d.nTotCAND = N_cand\n",
    "    print 'Total MINIAOD:', N_analyzed\n",
    "    print 'Total candidates:', N_cand\n",
    "    \n",
    "    e, de = getEff(N_trg, N_analyzed)\n",
    "    d.effCAND_trg = e, de\n",
    "    print 'eff candidates (trigger): {:1.3e} +/- {:1.3e} ({:1.1e})'.format(e,de, de/e)\n",
    "    latexStr = '${:.2f} \\pm {:.2f}$'.format(100*e, 100*de)\n",
    "    \n",
    "    e, de = getEff(N_cand, N_trg)\n",
    "    d.effCAND_cand = e, de\n",
    "    print 'eff candidates (cand): {:1.3e} +/- {:1.3e} ({:1.1e})'.format(e,de, de/e)\n",
    "    latexStr += ' & ${:.2f} \\pm {:.2f}$'.format(100*e, 100*de)\n",
    "    \n",
    "    \n",
    "    e, de = getEff(N_cand, N_analyzed)\n",
    "    d.effCAND = e, de\n",
    "    print 'eff candidates: {:1.3e} +/- {:1.3e} ({:1.1e})'.format(e,de, de/e)\n",
    "    latexStr += ' & ${:.2f} \\pm {:.2f}$\\\\'.format(100*e, 100*de)\n",
    "    print latexStr\n",
    "    \n",
    "    print 'Getting the total rates (if existing)'\n",
    "    try:\n",
    "        fCandLoc = glob(os.path.join(d.ntuples_dir,'out_CAND_*.root'))[0]\n",
    "        fCand = ur.open(fCandLoc)\n",
    "        Trate = fCand['p']['Trate']\n",
    "        d.rate = {}\n",
    "        for k in Trate.keys():\n",
    "            r = Trate.array(k)[0]\n",
    "            r *= 1e12 #GeV -> meV\n",
    "            d.rate[str(k)] = r\n",
    "        print 'Done'\n",
    "    except:\n",
    "        print 'Not found'\n",
    "    \n",
    "    dump_dic = {'nTotMINIAOD': int(d.nTotMINIAOD), 'nTotCAND': int(d.nTotCAND)}\n",
    "    for k in ['effCAND', 'effCAND_trg', 'effCAND_cand']:\n",
    "        aux = getattr(d, k)\n",
    "        dump_dic[k] = [float(aux[0]), float(aux[1])]\n",
    "    if hasattr(d, 'rate'):\n",
    "        for k, v in d.rate.iteritems():\n",
    "            dump_dic['rate_'+k] = float(v)\n",
    "    with open(os.path.join(d.ntuples_dir,'effCAND.yaml'), 'w') as dumpF:\n",
    "        dumpF.write(yaml.dump(dump_dic, default_flow_style=False, default_style=''))"
   ]
  },
  {
   "cell_type": "code",
   "execution_count": 19,
   "metadata": {
    "ExecuteTime": {
     "end_time": "2021-11-22T19:35:07.109949Z",
     "start_time": "2021-11-22T19:35:05.095782Z"
    }
   },
   "outputs": [
    {
     "name": "stdout",
     "output_type": "stream",
     "text": [
      "+---------------+-------+-------+-------+-------+-------+-------+-------+-------+-------+-------+------+------+------+\n",
      "|     Sample    |   0   |   1   |   2   |   3   |   4   |   5   |   6   |   7   |   8   |   9   |  10  |  11  |  12  |\n",
      "+---------------+-------+-------+-------+-------+-------+-------+-------+-------+-------+-------+------+------+------+\n",
      "|  Bd_MuDstPiPi | 37.25 | 36.75 | 36.40 | 35.02 | 33.79 | 29.54 | 17.54 | 17.50 | 16.34 | 11.46 | 4.01 | 3.96 | 3.96 |\n",
      "|   Bs_TauDstK  | 40.92 | 40.41 | 39.99 | 38.01 | 36.40 | 30.56 | 18.96 | 18.93 | 17.27 |  9.82 | 4.49 | 4.18 | 4.18 |\n",
      "|    Bs_DstDs   | 42.03 | 41.48 | 41.04 | 38.60 | 36.85 | 30.41 | 13.30 | 13.26 | 12.38 |  7.65 | 3.09 | 2.54 | 2.53 |\n",
      "|  Bd_TauDstPi  | 41.35 | 40.84 | 40.40 | 38.59 | 37.03 | 31.46 | 20.91 | 20.87 | 18.90 | 11.00 | 5.45 | 5.08 | 5.08 |\n",
      "|  Bu_MuDstPiPi | 38.53 | 38.00 | 37.64 | 36.35 | 34.63 | 29.69 | 18.04 | 18.01 | 16.21 |  9.00 | 4.21 | 4.15 | 4.15 |\n",
      "|   Bs_MuDstK   | 36.99 | 36.47 | 36.13 | 34.37 | 32.77 | 27.00 | 17.14 | 17.11 | 15.45 |  8.38 | 3.83 | 3.78 | 3.78 |\n",
      "|   Bd_MuDstPi  | 37.54 | 37.01 | 36.67 | 34.72 | 33.02 | 27.17 | 17.15 | 17.12 | 15.35 |  8.52 | 4.19 | 4.14 | 4.14 |\n",
      "|  Bu_TauDstPi  | 42.40 | 41.89 | 41.43 | 40.45 | 38.81 | 34.45 | 21.72 | 21.68 | 19.64 | 11.60 | 5.78 | 5.37 | 5.37 |\n",
      "|    Bd_DstDd   | 42.99 | 42.43 | 41.97 | 39.41 | 37.58 | 30.81 | 12.12 | 12.07 | 11.38 |  7.12 | 2.90 | 1.97 | 1.96 |\n",
      "|    Bu_DstDu   | 43.15 | 42.66 | 42.09 | 40.66 | 40.33 | 36.69 | 22.63 | 22.58 | 22.22 | 17.90 | 7.01 | 6.16 | 6.16 |\n",
      "|  Bd_TauNuDst  | 41.70 | 41.17 | 40.76 | 38.75 | 37.03 | 31.13 | 20.49 | 20.45 | 18.40 | 10.53 | 5.21 | 4.85 | 4.85 |\n",
      "|    Bd_DstDs   | 43.81 | 43.22 | 42.80 | 40.30 | 38.45 | 31.74 | 15.90 | 15.85 | 14.60 |  8.82 | 4.38 | 3.58 | 3.57 |\n",
      "| Bd_TauDstPiPi | 41.25 | 40.77 | 40.32 | 39.10 | 38.06 | 34.27 | 21.42 | 21.38 | 20.19 | 14.81 | 5.26 | 4.91 | 4.91 |\n",
      "|    Bd_DstDu   | 42.05 | 41.59 | 41.00 | 39.98 | 39.62 | 36.76 | 21.91 | 21.85 | 21.48 | 17.08 | 6.48 | 5.70 | 5.70 |\n",
      "| Bu_TauDstPiPi | 42.22 | 41.73 | 41.27 | 40.18 | 38.69 | 34.25 | 22.04 | 22.00 | 20.03 | 11.77 | 5.61 | 5.25 | 5.25 |\n",
      "|   Bu_MuDstPi  | 38.80 | 38.26 | 37.90 | 36.78 | 34.96 | 30.17 | 17.92 | 17.88 | 16.06 |  8.98 | 4.43 | 4.38 | 4.38 |\n",
      "|    Bu_DstDd   | 42.76 | 42.22 | 41.73 | 39.12 | 37.51 | 31.12 | 12.05 | 12.00 | 11.48 |  8.11 | 2.90 | 1.97 | 1.96 |\n",
      "|   Bd_MuNuDst  | 38.26 | 37.70 | 37.36 | 35.27 | 33.38 | 27.20 | 17.26 | 17.23 | 15.31 |  8.19 | 3.80 | 3.75 | 3.75 |\n",
      "+---------------+-------+-------+-------+-------+-------+-------+-------+-------+-------+-------+------+------+------+\n"
     ]
    },
    {
     "data": {
      "image/png": "[encoded data removed]",
      "text/plain": [
       "<matplotlib.figure.Figure at 0x14bd279a5150>"
      ]
     },
     "metadata": {},
     "output_type": "display_data"
    }
   ],
   "source": [
    "t = PrettyTable()\n",
    "t.field_names = ['Sample'] + [str(i) for i in range(d.counters.shape[0])]\n",
    "for n, d in inDic.iteritems():\n",
    "    eff = np.zeros((d.counters.shape[0], 2))\n",
    "    eff[0] = d.effCAND_trg\n",
    "    for i in range(d.counters[1:].shape[0]):\n",
    "        eff[i+1] = getEff(d.counters[i+1], d.nTotMINIAOD)\n",
    "    t.add_row([n] + ['{:.2f}'.format(100*e[0]) for e in eff])\n",
    "    x = np.arange(eff.shape[0])\n",
    "    p = plt.errorbar(x, eff[:, 0], eff[:,1], lw=0, elinewidth=5, label=n)\n",
    "    \n",
    "#     plt.plot(x[[0,-1]], 2*[d.effCAND[0]], '-', color=p[0].get_color())\n",
    "#     plt.fill_between(x[[0,-1]], 2*[d.effCAND[0]-d.effCAND[1]], 2*[d.effCAND[0]+d.effCAND[1]], color=p[0].get_color(), alpha=0.2)\n",
    "print t\n",
    "plt.rcParams.update({'font.size': 20})\n",
    "plt.xlabel('Counter')\n",
    "plt.ylabel('Efficiency')\n",
    "plt.legend(loc='best', numpoints=1)\n",
    "plt.ylim(0.01,1.05)\n",
    "plt.xlim(-1, eff.shape[0])\n",
    "plt.grid(True, which='both')\n",
    "plt.yscale('log')\n",
    "plt.gcf().set_size_inches(10, 6)"
   ]
  },
  {
   "cell_type": "code",
   "execution_count": 20,
   "metadata": {
    "ExecuteTime": {
     "end_time": "2021-11-22T19:35:12.249376Z",
     "start_time": "2021-11-22T19:35:10.731861Z"
    }
   },
   "outputs": [
    {
     "name": "stdout",
     "output_type": "stream",
     "text": [
      "+---------------+-------+-------+-------+-------+-------+-------+-------+-------+-------+-------+-------+-------+--------+\n",
      "|     Sample    |   0   |   1   |   2   |   3   |   4   |   5   |   6   |   7   |   8   |   9   |   10  |   11  |   12   |\n",
      "+---------------+-------+-------+-------+-------+-------+-------+-------+-------+-------+-------+-------+-------+--------+\n",
      "|  Bd_MuDstPiPi | 37.25 | 98.64 | 99.07 | 96.19 | 96.49 | 87.44 | 59.36 | 99.79 | 93.37 | 70.16 | 34.96 | 98.71 | 99.98  |\n",
      "|   Bs_TauDstK  | 40.92 | 98.75 | 98.96 | 95.04 | 95.78 | 83.95 | 62.04 | 99.81 | 91.23 | 56.90 | 45.74 | 92.97 | 99.99  |\n",
      "|    Bs_DstDs   | 42.03 | 98.69 | 98.96 | 94.03 | 95.48 | 82.51 | 43.75 | 99.68 | 93.34 | 61.85 | 40.43 | 82.02 | 99.76  |\n",
      "|  Bd_TauDstPi  | 41.35 | 98.77 | 98.93 | 95.52 | 95.96 | 84.95 | 66.47 | 99.83 | 90.53 | 58.18 | 49.59 | 93.14 | 99.99  |\n",
      "|  Bu_MuDstPiPi | 38.53 | 98.61 | 99.05 | 96.59 | 95.27 | 85.72 | 60.78 | 99.81 | 90.02 | 55.50 | 46.75 | 98.75 | 100.00 |\n",
      "|   Bs_MuDstK   | 36.99 | 98.59 | 99.08 | 95.13 | 95.34 | 82.39 | 63.49 | 99.84 | 90.29 | 54.24 | 45.66 | 98.87 | 99.99  |\n",
      "|   Bd_MuDstPi  | 37.54 | 98.60 | 99.07 | 94.68 | 95.10 | 82.31 | 63.11 | 99.82 | 89.67 | 55.47 | 49.23 | 98.87 | 99.99  |\n",
      "|  Bu_TauDstPi  | 42.40 | 98.81 | 98.89 | 97.64 | 95.95 | 88.77 | 63.04 | 99.83 | 90.59 | 59.08 | 49.77 | 93.05 | 100.00 |\n",
      "|    Bd_DstDd   | 42.99 | 98.70 | 98.91 | 93.91 | 95.35 | 82.00 | 39.33 | 99.62 | 94.25 | 62.54 | 40.81 | 67.87 | 99.60  |\n",
      "|    Bu_DstDu   | 43.15 | 98.86 | 98.67 | 96.61 | 99.18 | 90.97 | 61.67 | 99.77 | 98.44 | 80.55 | 39.18 | 87.88 | 99.97  |\n",
      "|  Bd_TauNuDst  | 41.70 | 98.72 | 99.02 | 95.05 | 95.57 | 84.07 | 65.81 | 99.84 | 89.95 | 57.26 | 49.50 | 93.00 | 99.99  |\n",
      "|    Bd_DstDs   | 43.81 | 98.64 | 99.03 | 94.17 | 95.41 | 82.56 | 50.09 | 99.71 | 92.09 | 60.41 | 49.69 | 81.66 | 99.84  |\n",
      "| Bd_TauDstPiPi | 41.25 | 98.84 | 98.90 | 96.99 | 97.33 | 90.05 | 62.51 | 99.80 | 94.44 | 73.35 | 35.51 | 93.29 | 99.99  |\n",
      "|    Bd_DstDu   | 42.05 | 98.92 | 98.58 | 97.51 | 99.11 | 92.78 | 59.59 | 99.75 | 98.30 | 79.53 | 37.92 | 87.94 | 99.96  |\n",
      "| Bu_TauDstPiPi | 42.22 | 98.83 | 98.90 | 97.37 | 96.30 | 88.51 | 64.36 | 99.82 | 91.03 | 58.78 | 47.66 | 93.56 | 100.00 |\n",
      "|   Bu_MuDstPi  | 38.80 | 98.60 | 99.06 | 97.07 | 95.03 | 86.31 | 59.39 | 99.81 | 89.82 | 55.92 | 49.31 | 98.88 | 100.00 |\n",
      "|    Bu_DstDd   | 42.76 | 98.72 | 98.85 | 93.73 | 95.90 | 82.96 | 38.71 | 99.61 | 95.63 | 70.70 | 35.69 | 67.97 | 99.54  |\n",
      "|   Bd_MuNuDst  | 38.26 | 98.55 | 99.09 | 94.39 | 94.66 | 81.48 | 63.46 | 99.82 | 88.89 | 53.49 | 46.34 | 98.92 | 99.99  |\n",
      "+---------------+-------+-------+-------+-------+-------+-------+-------+-------+-------+-------+-------+-------+--------+\n"
     ]
    },
    {
     "data": {
      "image/png": "[encoded data removed]",
      "text/plain": [
       "<matplotlib.figure.Figure at 0x14bd279a50d0>"
      ]
     },
     "metadata": {},
     "output_type": "display_data"
    }
   ],
   "source": [
    "t = PrettyTable()\n",
    "t.field_names = ['Sample'] + [str(i) for i in range(d.counters.shape[0])]\n",
    "for n, d in inDic.iteritems():\n",
    "    eff = np.zeros((d.counters.shape[0], 2))\n",
    "    eff[0] = d.effCAND_trg\n",
    "    for i in range(d.counters[1:].shape[0]):\n",
    "        eff[i+1] = getEff(d.counters[i+1], d.counters[i])\n",
    "    t.add_row([n] + ['{:.2f}'.format(100*e[0]) for e in eff])\n",
    "    x = np.arange(eff.shape[0])\n",
    "    p = plt.errorbar(x, eff[:, 0], eff[:,1], fmt='o', lw=0, elinewidth=5, label=n)\n",
    "print t\n",
    "plt.rcParams.update({'font.size': 20})\n",
    "plt.xlabel('Counter')\n",
    "plt.ylabel('Efficiency')\n",
    "plt.legend(loc='best', numpoints=1)\n",
    "plt.ylim(0.2,1.05)\n",
    "plt.xlim(-1, eff.shape[0])\n",
    "plt.grid(True, which='both')\n",
    "plt.yscale('log')\n",
    "plt.gcf().set_size_inches(10, 6)"
   ]
  },
  {
   "cell_type": "markdown",
   "metadata": {},
   "source": [
    "## Skim Efficiency"
   ]
  },
  {
   "cell_type": "code",
   "execution_count": 21,
   "metadata": {
    "ExecuteTime": {
     "end_time": "2021-11-22T19:35:14.461599Z",
     "start_time": "2021-11-22T19:35:14.052590Z"
    }
   },
   "outputs": [
    {
     "ename": "NameError",
     "evalue": "name 'order' is not defined",
     "output_type": "error",
     "traceback": [
      "\u001b[0;31m\u001b[0m",
      "\u001b[0;31mNameError\u001b[0mTraceback (most recent call last)",
      "\u001b[0;32m<ipython-input-21-720562a67f9f>\u001b[0m in \u001b[0;36m<module>\u001b[0;34m()\u001b[0m\n\u001b[0;32m----> 1\u001b[0;31m \u001b[0;32mfor\u001b[0m \u001b[0mp\u001b[0m \u001b[0;32min\u001b[0m \u001b[0morder\u001b[0m\u001b[0;34m:\u001b[0m\u001b[0;34m\u001b[0m\u001b[0m\n\u001b[0m\u001b[1;32m      2\u001b[0m     \u001b[0;32mif\u001b[0m \u001b[0;32mnot\u001b[0m \u001b[0mp\u001b[0m \u001b[0;32min\u001b[0m \u001b[0minDic\u001b[0m\u001b[0;34m.\u001b[0m\u001b[0mkeys\u001b[0m\u001b[0;34m(\u001b[0m\u001b[0;34m)\u001b[0m\u001b[0;34m:\u001b[0m\u001b[0;34m\u001b[0m\u001b[0m\n\u001b[1;32m      3\u001b[0m         \u001b[0;32mcontinue\u001b[0m\u001b[0;34m\u001b[0m\u001b[0m\n\u001b[1;32m      4\u001b[0m \u001b[0;34m\u001b[0m\u001b[0m\n\u001b[1;32m      5\u001b[0m     \u001b[0ms\u001b[0m \u001b[0;34m=\u001b[0m \u001b[0;34m[\u001b[0m\u001b[0;34m]\u001b[0m\u001b[0;34m\u001b[0m\u001b[0m\n",
      "\u001b[0;31mNameError\u001b[0m: name 'order' is not defined"
     ]
    }
   ],
   "source": [
    "for p in order:\n",
    "    if not p in inDic.keys():\n",
    "        continue\n",
    "    \n",
    "    s = []\n",
    "    for c in ['Low', 'Mid', 'High']:\n",
    "        s.append(inDic[p].printSkimEffLatex(c+'_bare'))\n",
    "    s = ' & '.join(s)\n",
    "    s += '\\\\\\\\'\n",
    "#     print p, s\n",
    "    print s"
   ]
  },
  {
   "cell_type": "markdown",
   "metadata": {
    "hide_input": false
   },
   "source": [
    "# Comparison table"
   ]
  },
  {
   "cell_type": "code",
   "execution_count": 22,
   "metadata": {
    "ExecuteTime": {
     "end_time": "2021-11-22T19:35:19.175894Z",
     "start_time": "2021-11-22T19:35:19.119577Z"
    }
   },
   "outputs": [
    {
     "ename": "AttributeError",
     "evalue": "'DSetLoader' object has no attribute 'effCand'",
     "output_type": "error",
     "traceback": [
      "\u001b[0;31m\u001b[0m",
      "\u001b[0;31mAttributeError\u001b[0mTraceback (most recent call last)",
      "\u001b[0;32m<ipython-input-22-58c196e614f3>\u001b[0m in \u001b[0;36m<module>\u001b[0;34m()\u001b[0m\n\u001b[1;32m     28\u001b[0m     \u001b[0mfields\u001b[0m \u001b[0;34m+=\u001b[0m \u001b[0;34m[\u001b[0m\u001b[0mxsec\u001b[0m\u001b[0;34m,\u001b[0m \u001b[0meGen\u001b[0m\u001b[0;34m]\u001b[0m\u001b[0;34m\u001b[0m\u001b[0m\n\u001b[1;32m     29\u001b[0m     \u001b[0;32mfor\u001b[0m \u001b[0mk\u001b[0m \u001b[0;32min\u001b[0m \u001b[0;34m[\u001b[0m\u001b[0;34m'effCAND_trg'\u001b[0m\u001b[0;34m,\u001b[0m \u001b[0;34m'effCAND_cand'\u001b[0m\u001b[0;34m,\u001b[0m \u001b[0;34m'effCAND'\u001b[0m\u001b[0;34m]\u001b[0m\u001b[0;34m:\u001b[0m\u001b[0;34m\u001b[0m\u001b[0m\n\u001b[0;32m---> 30\u001b[0;31m         \u001b[0ms\u001b[0m \u001b[0;34m=\u001b[0m \u001b[0;34m'{:.2f}'\u001b[0m\u001b[0;34m.\u001b[0m\u001b[0mformat\u001b[0m\u001b[0;34m(\u001b[0m\u001b[0;36m100\u001b[0m\u001b[0;34m*\u001b[0m\u001b[0mds\u001b[0m\u001b[0;34m.\u001b[0m\u001b[0meffCand\u001b[0m\u001b[0;34m[\u001b[0m\u001b[0mk\u001b[0m\u001b[0;34m]\u001b[0m\u001b[0;34m[\u001b[0m\u001b[0;36m0\u001b[0m\u001b[0;34m]\u001b[0m\u001b[0;34m)\u001b[0m\u001b[0;34m\u001b[0m\u001b[0m\n\u001b[0m\u001b[1;32m     31\u001b[0m         \u001b[0mfields\u001b[0m\u001b[0;34m.\u001b[0m\u001b[0mappend\u001b[0m\u001b[0;34m(\u001b[0m\u001b[0ms\u001b[0m\u001b[0;34m)\u001b[0m\u001b[0;34m\u001b[0m\u001b[0m\n\u001b[1;32m     32\u001b[0m     \u001b[0;32mfor\u001b[0m \u001b[0mk\u001b[0m \u001b[0;32min\u001b[0m \u001b[0;34m[\u001b[0m\u001b[0;34m'Low'\u001b[0m\u001b[0;34m,\u001b[0m \u001b[0;34m'Mid'\u001b[0m\u001b[0;34m,\u001b[0m \u001b[0;34m'High'\u001b[0m\u001b[0;34m]\u001b[0m\u001b[0;34m:\u001b[0m\u001b[0;34m\u001b[0m\u001b[0m\n",
      "\u001b[0;31mAttributeError\u001b[0m: 'DSetLoader' object has no attribute 'effCand'"
     ]
    }
   ],
   "source": [
    "# Latex format\n",
    "\n",
    "latexTable = r'''\n",
    "\\begin{tabular}{|c||c|c||cc|c||cc|cc|cc|}\n",
    " \\hline\n",
    " Process & \n",
    " xsec [b] & $\\varepsilon_\\text{gen}$ & \n",
    " $\\varepsilon_\\text{trg}$ [\\%]& $\\varepsilon_\\text{cand}$ [\\%]& \n",
    " $\\varepsilon_\\text{ntp} = \\varepsilon_\\text{trg}\\varepsilon_\\text{cand}$ [\\%] &\n",
    " $\\varepsilon_\\text{skim}^{low}$ [\\%] & $\\varepsilon_\\text{ntp}\\varepsilon_\\text{skim}^{low}$ [\\%] &\n",
    " $\\varepsilon_\\text{skim}^{mid}$ [\\%] & $\\varepsilon_\\text{ntp}\\varepsilon_\\text{skim}^{mid}$ [\\%] &\n",
    " $\\varepsilon_\\text{skim}^{high}$ [\\%] & $\\varepsilon_\\text{ntp}\\varepsilon_\\text{skim}^{high}$ [\\%] &\n",
    " \\\\\n",
    " \\hline\n",
    " \\hline\n",
    "'''\n",
    "\n",
    "procTraslation = {\n",
    "    'mu_c0': r'$B\\to D^*\\mu\\nu$ (hard $b\\bar{b}$)',\n",
    "    'muSoft_c0': r'$B\\to D^*\\mu\\nu$ (soft QCD all)',\n",
    "}\n",
    "\n",
    "for n, ds in inDic.iteritems():\n",
    "    name = procTraslation[n] if n in procTraslation.keys() else n\n",
    "    fields = [name]\n",
    "    xsec = '{:.3f}'.format(1e-12*ds.effMCgen['xsec'][0])   \n",
    "    eGen = '{:1.2e}'.format(ds.effMCgen['effGEN'][0])\n",
    "    fields += [xsec, eGen]\n",
    "    for k in ['effCAND_trg', 'effCAND_cand', 'effCAND']:\n",
    "        s = '{:.2f}'.format(100*ds.effCand[k][0])\n",
    "        fields.append(s)\n",
    "    for k in ['Low', 'Mid', 'High']:\n",
    "        s = '{:.2f}'.format(100*ds.getSkimEff(k+'_bare')[0])\n",
    "        fields.append(s)\n",
    "    latexTable += ' ' + ' & '.join(fields) + ' \\\\\\\\\\n \\hline\\n'\n",
    "latexTable += r'\\end{tabular}' + '\\n'\n",
    "print latexTable"
   ]
  },
  {
   "cell_type": "code",
   "execution_count": 23,
   "metadata": {
    "ExecuteTime": {
     "end_time": "2021-11-22T19:35:19.739115Z",
     "start_time": "2021-11-22T19:35:19.667070Z"
    }
   },
   "outputs": [
    {
     "ename": "AttributeError",
     "evalue": "'DSetLoader' object has no attribute 'effCand'",
     "output_type": "error",
     "traceback": [
      "\u001b[0;31m\u001b[0m",
      "\u001b[0;31mAttributeError\u001b[0mTraceback (most recent call last)",
      "\u001b[0;32m<ipython-input-23-8bfeea883100>\u001b[0m in \u001b[0;36m<module>\u001b[0;34m()\u001b[0m\n\u001b[1;32m     43\u001b[0m     \u001b[0mlatexTable\u001b[0m \u001b[0;34m+=\u001b[0m \u001b[0;34m' '\u001b[0m\u001b[0;34m+\u001b[0m\u001b[0mfieldNames\u001b[0m\u001b[0;34m[\u001b[0m\u001b[0;36m3\u001b[0m\u001b[0;34m+\u001b[0m\u001b[0mi\u001b[0m\u001b[0;34m]\u001b[0m\u001b[0;34m\u001b[0m\u001b[0m\n\u001b[1;32m     44\u001b[0m     \u001b[0;32mfor\u001b[0m \u001b[0mn\u001b[0m\u001b[0;34m,\u001b[0m \u001b[0mds\u001b[0m \u001b[0;32min\u001b[0m \u001b[0minDic\u001b[0m\u001b[0;34m.\u001b[0m\u001b[0miteritems\u001b[0m\u001b[0;34m(\u001b[0m\u001b[0;34m)\u001b[0m\u001b[0;34m:\u001b[0m\u001b[0;34m\u001b[0m\u001b[0m\n\u001b[0;32m---> 45\u001b[0;31m         \u001b[0mlatexTable\u001b[0m \u001b[0;34m+=\u001b[0m \u001b[0;34m' & '\u001b[0m \u001b[0;34m+\u001b[0m \u001b[0;34m'{:.2f}'\u001b[0m\u001b[0;34m.\u001b[0m\u001b[0mformat\u001b[0m\u001b[0;34m(\u001b[0m\u001b[0;36m100\u001b[0m\u001b[0;34m*\u001b[0m\u001b[0mds\u001b[0m\u001b[0;34m.\u001b[0m\u001b[0meffCand\u001b[0m\u001b[0;34m[\u001b[0m\u001b[0mk\u001b[0m\u001b[0;34m]\u001b[0m\u001b[0;34m[\u001b[0m\u001b[0;36m0\u001b[0m\u001b[0;34m]\u001b[0m\u001b[0;34m)\u001b[0m\u001b[0;34m\u001b[0m\u001b[0m\n\u001b[0m\u001b[1;32m     46\u001b[0m     \u001b[0mlatexTable\u001b[0m \u001b[0;34m+=\u001b[0m \u001b[0;34m' \\\\\\\\\\n \\hline\\n'\u001b[0m\u001b[0;34m\u001b[0m\u001b[0m\n\u001b[1;32m     47\u001b[0m \u001b[0mlatexTable\u001b[0m \u001b[0;34m+=\u001b[0m \u001b[0;34m' \\hline\\n'\u001b[0m\u001b[0;34m\u001b[0m\u001b[0m\n",
      "\u001b[0;31mAttributeError\u001b[0m: 'DSetLoader' object has no attribute 'effCand'"
     ]
    }
   ],
   "source": [
    "# Latex format transposed\n",
    "\n",
    "latexTable = r'\\begin{tabular}{|'+len(inDic.keys() + ['a'])*r'c|'+r'}\\n\\hline\\n'\n",
    "\n",
    "fieldNames = [\n",
    "    r'Process',\n",
    "    r'xsec [b]',\n",
    "    r'$\\varepsilon_\\text{gen}$',\n",
    "    r'$\\varepsilon_\\text{trg}$ [\\%]',\n",
    "    r'$\\varepsilon_\\text{cand}$ [\\%]',\n",
    "    r'$\\varepsilon_\\text{ntp} = \\varepsilon_\\text{trg}\\varepsilon_\\text{cand}$ [\\%]',\n",
    "    r'$\\varepsilon_\\text{skim}^{low}$ [\\%]',\n",
    "    r'$\\varepsilon_\\text{ntp}\\varepsilon_\\text{skim}^{low}$ [\\%]',\n",
    "    r'$\\varepsilon_\\text{skim}^{mid}$ [\\%]',\n",
    "    r'$\\varepsilon_\\text{ntp}\\varepsilon_\\text{skim}^{mid}$ [\\%]',\n",
    "    r'$\\varepsilon_\\text{skim}^{high}$ [\\%]',\n",
    "    r'$\\varepsilon_\\text{ntp}\\varepsilon_\\text{skim}^{high}$ [\\%]'\n",
    "]\n",
    "\n",
    "procTraslation = {\n",
    "    'mu_c0': r'$B\\to D^*\\mu\\nu$ (hard $b\\bar{b}$)',\n",
    "    'muSoft_c0': r'$B\\to D^*\\mu\\nu$ (soft QCD all)',\n",
    "}\n",
    "\n",
    "latexTable += ' '+fieldNames[0]\n",
    "for n, ds in inDic.iteritems():\n",
    "    name = procTraslation[n] if n in procTraslation.keys() else n\n",
    "    latexTable += ' & ' + name\n",
    "latexTable += ' \\\\\\\\\\n \\hline\\n \\hline\\n'\n",
    "    \n",
    "latexTable += ' '+fieldNames[1]\n",
    "for n, ds in inDic.iteritems():\n",
    "    latexTable += ' & ' + '{:.3f}'.format(1e-12*ds.effMCgen['xsec'][0])\n",
    "latexTable += ' \\\\\\\\\\n \\hline\\n'\n",
    "\n",
    "latexTable += ' '+fieldNames[2]\n",
    "for n, ds in inDic.iteritems():\n",
    "    latexTable += ' & ' + '{:1.2e}'.format(ds.effMCgen['effGEN'][0])\n",
    "latexTable += ' \\\\\\\\\\n \\hline\\n \\hline\\n'\n",
    "\n",
    "\n",
    "for i, k in enumerate(['effCAND_trg', 'effCAND_cand', 'effCAND']):\n",
    "    latexTable += ' '+fieldNames[3+i]\n",
    "    for n, ds in inDic.iteritems():\n",
    "        latexTable += ' & ' + '{:.2f}'.format(100*ds.effCand[k][0])\n",
    "    latexTable += ' \\\\\\\\\\n \\hline\\n'\n",
    "latexTable += ' \\hline\\n'\n",
    "\n",
    "for i, k in enumerate(['Low', 'Mid', 'High']):\n",
    "    latexTable += ' '+fieldNames[6+2*i]\n",
    "    for n, ds in inDic.iteritems():\n",
    "        latexTable += ' & ' + '{:.2f}'.format(100*ds.getSkimEff(k+'_bare')[0])\n",
    "    latexTable += ' \\\\\\\\\\n \\hline\\n'\n",
    "    latexTable += ' '+fieldNames[6+2*i+1]\n",
    "    for n, ds in inDic.iteritems():\n",
    "        latexTable += ' & ' + '{:.2f}'.format(100*ds.getSkimEff(k+'_bare')[0]*ds.effCand['effCAND'][0])\n",
    "    latexTable += ' \\\\\\\\\\n \\hline\\n \\hline\\n'\n",
    "\n",
    "latexTable += r'\\end{tabular}' + '\\n'\n",
    "print latexTable"
   ]
  },
  {
   "cell_type": "code",
   "execution_count": null,
   "metadata": {},
   "outputs": [],
   "source": []
  }
 ],
 "metadata": {
  "kernelspec": {
   "display_name": "Python 2",
   "language": "python",
   "name": "python2"
  },
  "language_info": {
   "codemirror_mode": {
    "name": "ipython",
    "version": 2
   },
   "file_extension": ".py",
   "mimetype": "text/x-python",
   "name": "python",
   "nbconvert_exporter": "python",
   "pygments_lexer": "ipython2",
   "version": "2.7.14+"
  },
  "varInspector": {
   "cols": {
    "lenName": 16,
    "lenType": 16,
    "lenVar": 40
   },
   "kernels_config": {
    "python": {
     "delete_cmd_postfix": "",
     "delete_cmd_prefix": "del ",
     "library": "var_list.py",
     "varRefreshCmd": "print(var_dic_list())"
    },
    "r": {
     "delete_cmd_postfix": ") ",
     "delete_cmd_prefix": "rm(",
     "library": "var_list.r",
     "varRefreshCmd": "cat(var_dic_list()) "
    }
   },
   "types_to_exclude": [
    "module",
    "function",
    "builtin_function_or_method",
    "instance",
    "_Feature"
   ],
   "window_display": false
  }
 },
 "nbformat": 4,
 "nbformat_minor": 2
}
