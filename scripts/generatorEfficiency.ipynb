{
 "cells": [
  {
   "cell_type": "markdown",
   "metadata": {},
   "source": [
    "Notebook to collect the information of the generation"
   ]
  },
  {
   "cell_type": "markdown",
   "metadata": {},
   "source": [
    "### Import"
   ]
  },
  {
   "cell_type": "code",
   "execution_count": 1,
   "metadata": {
    "ExecuteTime": {
     "end_time": "2022-04-01T20:13:24.287478Z",
     "start_time": "2022-04-01T20:13:23.923345Z"
    }
   },
   "outputs": [],
   "source": [
    "import sys, os, re, yaml, pickle\n",
    "import commands\n",
    "from glob import glob\n",
    "from prettytable import PrettyTable\n",
    "sys.path.append('../lib')\n",
    "\n",
    "import time, datetime"
   ]
  },
  {
   "cell_type": "code",
   "execution_count": 2,
   "metadata": {
    "ExecuteTime": {
     "end_time": "2022-04-01T20:13:24.311700Z",
     "start_time": "2022-04-01T20:13:24.292078Z"
    }
   },
   "outputs": [],
   "source": [
    "import signal\n",
    "\n",
    "class TimeoutError(Exception):\n",
    "    pass\n",
    "\n",
    "class timeout:\n",
    "    def __init__(self, seconds=1, error_message='Timeout'):\n",
    "        self.seconds = seconds\n",
    "        self.error_message = error_message\n",
    "    def handle_timeout(self, signum, frame):\n",
    "        raise TimeoutError(self.error_message)\n",
    "    def __enter__(self):\n",
    "        signal.signal(signal.SIGALRM, self.handle_timeout)\n",
    "        signal.alarm(self.seconds)\n",
    "    def __exit__(self, type, value, traceback):\n",
    "        signal.alarm(0)\n",
    "\n",
    "# with timeout(seconds=1):\n",
    "#     try:\n",
    "#         time.sleep(2)\n",
    "#     except TimeoutError:\n",
    "#         print 'Got it'"
   ]
  },
  {
   "cell_type": "code",
   "execution_count": 3,
   "metadata": {
    "ExecuteTime": {
     "end_time": "2022-04-01T20:13:26.419664Z",
     "start_time": "2022-04-01T20:13:24.315681Z"
    }
   },
   "outputs": [],
   "source": [
    "import numpy as np\n",
    "from scipy.stats import mode\n",
    "import matplotlib.pyplot as plt\n",
    "from prettytable import PrettyTable\n",
    "from progressBar import ProgressBar"
   ]
  },
  {
   "cell_type": "code",
   "execution_count": 4,
   "metadata": {
    "ExecuteTime": {
     "end_time": "2022-04-01T20:13:33.406905Z",
     "start_time": "2022-04-01T20:13:26.426290Z"
    }
   },
   "outputs": [
    {
     "name": "stdout",
     "output_type": "stream",
     "text": [
      "Welcome to JupyROOT 6.12/07\n"
     ]
    }
   ],
   "source": [
    "import uproot as ur\n",
    "import ROOT as rt\n",
    "rt.gErrorIgnoreLevel = rt.kError\n",
    "rt.RooMsgService.instance().setGlobalKillBelow(rt.RooFit.ERROR)"
   ]
  },
  {
   "cell_type": "code",
   "execution_count": 5,
   "metadata": {
    "ExecuteTime": {
     "end_time": "2022-04-01T20:13:33.697685Z",
     "start_time": "2022-04-01T20:13:33.412203Z"
    }
   },
   "outputs": [],
   "source": [
    "# load FWLite C++ libraries\n",
    "rt.gSystem.Load(\"libFWCoreFWLite.so\");\n",
    "rt.gSystem.Load(\"libDataFormatsFWLite.so\");\n",
    "rt.FWLiteEnabler.enable()\n",
    "\n",
    "# load FWlite python libraries\n",
    "from DataFormats.FWLite import Lumis\n",
    "from DataFormats.FWLite import Handle\n",
    "# import commands"
   ]
  },
  {
   "cell_type": "code",
   "execution_count": 6,
   "metadata": {
    "ExecuteTime": {
     "end_time": "2022-04-01T20:13:34.126609Z",
     "start_time": "2022-04-01T20:13:33.705020Z"
    }
   },
   "outputs": [],
   "source": [
    "from analysis_utilities import DSetLoader"
   ]
  },
  {
   "cell_type": "markdown",
   "metadata": {},
   "source": [
    "# Inputs"
   ]
  },
  {
   "cell_type": "markdown",
   "metadata": {},
   "source": [
    "Max 3 dataset per time otherwise run out of memory"
   ]
  },
  {
   "cell_type": "code",
   "execution_count": 7,
   "metadata": {
    "ExecuteTime": {
     "end_time": "2022-04-01T20:13:34.167446Z",
     "start_time": "2022-04-01T20:13:34.131317Z"
    }
   },
   "outputs": [],
   "source": [
    "# order = ['mu_c0', 'tau_c0',\n",
    "#          'DstPip_c0', 'DstPi0_c0', 'DststPipPi0_c0', 'DststPipPim_c0', 'DststPi0Pi0_c0', \n",
    "#          'Bp_TauNuDstst_Pip_PUc0', 'B0_TauNuDstst_Pi0_PUc0',\n",
    "#          'DstmDsp','DstmD0','DstmDp','BpHc','BmHc','antiB0Hc',\n",
    "#         ]"
   ]
  },
  {
   "cell_type": "code",
   "execution_count": 8,
   "metadata": {
    "ExecuteTime": {
     "end_time": "2022-04-01T20:13:34.230453Z",
     "start_time": "2022-04-01T20:13:34.174185Z"
    }
   },
   "outputs": [],
   "source": [
    "inDic = {}"
   ]
  },
  {
   "cell_type": "code",
   "execution_count": 9,
   "metadata": {
    "ExecuteTime": {
     "end_time": "2022-04-01T20:13:34.325379Z",
     "start_time": "2022-04-01T20:13:34.236362Z"
    }
   },
   "outputs": [],
   "source": [
    "candDir = 'ntuples_B2DstMu_220311'\n",
    "######## Signals\n",
    "# inDic['Bd_MuNuDst'] = DSetLoader('Bd_MuNuDst', candDir=candDir)\n",
    "# inDic['Bd_TauNuDst'] = DSetLoader('Bd_TauNuDst', candDir=candDir)\n",
    "####### D** background\n",
    "# inDic['Bu_MuDstPi'] = DSetLoader('Bu_MuNuDstPi', candDir=candDir)\n",
    "# inDic['Bd_MuDstPi'] = DSetLoader('Bd_MuNuDstPi', candDir=candDir)\n",
    "# inDic['Bu_MuDstPiPi_v3'] = DSetLoader('Bu_MuNuDstPiPi_v3', candDir=candDir)\n",
    "# inDic['Bd_MuDstPiPi_v3'] = DSetLoader('Bd_MuNuDstPiPi_v3', candDir=candDir)\n",
    "# inDic['Bu_TauDstPi'] = DSetLoader('Bu_TauNuDstPi', candDir=candDir)\n",
    "# inDic['Bd_TauDstPi'] = DSetLoader('Bd_TauNuDstPi', candDir=candDir)\n",
    "# inDic['Bd_TauDstPiPi'] = DSetLoader('Bd_TauNuDstPiPi', candDir=candDir)\n",
    "# inDic['Bu_TauDstPiPi'] = DSetLoader('Bu_TauNuDstPiPi', candDir=candDir)\n",
    "# inDic['Bs_MuDstK'] = DSetLoader('Bs_MuNuDstK', candDir=candDir)\n",
    "# inDic['Bs_TauDstK'] = DSetLoader('Bs_TauNuDstK', candDir=candDir)\n",
    "\n",
    "####### D*Hc background\n",
    "# inDic['Bd_DstDu'] = DSetLoader('Bd_DstDu', candDir=candDir)\n",
    "# inDic['Bd_DstDd'] = DSetLoader('Bd_DstDd', candDir=candDir)\n",
    "# inDic['Bd_DstDs'] = DSetLoader('Bd_DstDs', candDir=candDir)\n",
    "# inDic['Bu_DstDu'] = DSetLoader('Bu_DstDu', candDir=candDir)\n",
    "# inDic['Bu_DstDd'] = DSetLoader('Bu_DstDd', candDir=candDir)\n",
    "# inDic['Bs_DstDs'] = DSetLoader('Bs_DstDs', candDir=candDir)\n",
    "# inDic['Bd_DDs1'] = DSetLoader('Bd_DDs1', candDir=candDir)\n",
    "# inDic['Bu_DDs1'] = DSetLoader('Bu_DDs1', candDir=candDir)\n",
    "# inDic['B_DstDXX'] = DSetLoader('B_DstDXX', candDir=candDir)\n",
    "\n",
    "######## Others background\n",
    "# inDic['DstKu_KuToMu'] = DSetLoader('DstKu_KuToMu', candDir='ntuples_B2DstMu_211118')"
   ]
  },
  {
   "cell_type": "code",
   "execution_count": 10,
   "metadata": {
    "ExecuteTime": {
     "end_time": "2022-04-01T20:13:34.706079Z",
     "start_time": "2022-04-01T20:13:34.332608Z"
    }
   },
   "outputs": [
    {
     "name": "stdout",
     "output_type": "stream",
     "text": [
      "CAND efficiency file missing for Bd_JpsiKst_General.\n"
     ]
    }
   ],
   "source": [
    "inDic['JPsiKst'] = DSetLoader('Bd_JpsiKst_General', candDir='ntuples_Bd2JpsiKst_220328')"
   ]
  },
  {
   "cell_type": "code",
   "execution_count": 11,
   "metadata": {
    "ExecuteTime": {
     "end_time": "2022-04-01T20:13:34.733254Z",
     "start_time": "2022-04-01T20:13:34.713159Z"
    },
    "hide_input": true
   },
   "outputs": [],
   "source": [
    "# inDic['muHQET_0'] = DSetLoader('B0_MuNuDmst_HQETcentral_PU0')\n",
    "# inDic['mu_0'] = DSetLoader('B0_MuNuDmst_PU0')\n",
    "# inDic['mu_20'] = DSetLoader('B0_MuNuDmst_PU20')\n",
    "# inDic['mu_c0'] = DSetLoader('B0_MuNuDmst_PUc0')\n",
    "# inDic['muSoft_c0'] = DSetLoader('B0_MuNuDmst_SoftQCDall_PUc0')\n",
    "# inDic['mu_35'] = DSetLoader('B0_MuNuDmst_PU35')\n",
    "\n",
    "# inDic['tau_0'] = DSetLoader('B0_TauNuDmst_PU0')\n",
    "# inDic['tau_20'] = DSetLoader('B0_TauNuDmst_PU20')\n",
    "# inDic['tau_c0'] = DSetLoader('B0_TauNuDmst_PUc0')\n",
    "# inDic['tau_35'] = DSetLoader('B0_TauNuDmst_PU35')\n",
    "\n",
    "# inDic['Hc_20'] = DSetLoader('B0_DmstHc_PU20')\n",
    "# inDic['Hc_c0'] = DSetLoader('B0_DmstHc_PUc0')\n",
    "\n",
    "\n",
    "# inDic['DstmDsp'] = DSetLoader('B0_DstmDsp_PUc0')\n",
    "\n",
    "# inDic['DstmDp'] = DSetLoader('B0_DstmDp_PUc0')\n",
    "\n",
    "# inDic['DstmD0'] = DSetLoader('B0_DstmD0_PUc0')\n",
    "\n",
    "# inDic['BpHc'] = DSetLoader('Bp_DstmHc_PUc0')\n",
    "\n",
    "# inDic['BmHc'] = DSetLoader('Bm_DstmHc_PUc0')\n",
    "\n",
    "# inDic['antiB0Hc'] = DSetLoader('antiB0_DstmHc_PUc0')\n",
    "\n",
    "\n",
    "# inDic['DstPip_20'] = DSetLoader('Bp_MuNuDstst_PU20')\n",
    "# inDic['DstPip_c0'] = DSetLoader('Bp_MuNuDstst_Pip_PUc0')\n",
    "\n",
    "# inDic['DstPi0_c0'] = DSetLoader('B0_MuNuDstst_Pi0_PUc0')\n",
    "\n",
    "# inDic['DstPi0_nR_c0'] = DSetLoader('B0_DmstPi0MuNu_PUc0')\n",
    "\n",
    "# inDic['DststPipPi0_c0'] = DSetLoader('Bp_MuNuDstst_PipPi0_PUc0')\n",
    "# inDic['DststPipPi0_nR_c0'] = DSetLoader('Bp_MuNuDstPipPi0_PUc0')\n",
    "\n",
    "# inDic['DststPipPim_c0'] = DSetLoader('B0_MuNuDstst_PipPim_PUc0')\n",
    "# inDic['DststPipPim_nR_c0'] = DSetLoader('B0_MuNuDstPipPim_PUc0')\n",
    "\n",
    "# inDic['DststPi0Pi0_c0'] = DSetLoader('B0_MuNuDstst_Pi0Pi0_PUc0')\n",
    "\n",
    "# inDic['B0_DststPiPiPi_c0'] = DSetLoader('B0_MuNuDstPiPiPi_PUc0')\n",
    "\n",
    "# inDic['Bp_DststPiPiPi_c0'] = DSetLoader('Bp_MuNuDstPiPiPi_PUc0')\n",
    "\n",
    "# inDic['B0_TauNuDstst_Pi0_PUc0'] = DSetLoader('B0_TauNuDstst_Pi0_PUc0')\n",
    "\n",
    "# inDic['Bp_TauNuDstst_Pip_PUc0'] = DSetLoader('Bp_TauNuDstst_Pip_PUc0')"
   ]
  },
  {
   "cell_type": "code",
   "execution_count": 12,
   "metadata": {
    "ExecuteTime": {
     "end_time": "2022-04-01T20:13:34.836701Z",
     "start_time": "2022-04-01T20:13:34.740168Z"
    },
    "hide_input": true
   },
   "outputs": [],
   "source": [
    "# inDic['mu_0'] = DSetLoader('B0_MuNuDmst_PU0', candDir='ntuples_probeB2DstMu')\n",
    "# inDic['p_mu_c0'] = DSetLoader('p_B0_MuNuDst_PUc0', candDir='ntuples_probeB2DstMu')\n",
    "# inDic['p_tau_c0'] = DSetLoader('p_B0_TauNuDst_PUc0', candDir='ntuples_probeB2DstMu')"
   ]
  },
  {
   "cell_type": "code",
   "execution_count": 13,
   "metadata": {
    "ExecuteTime": {
     "end_time": "2022-04-01T20:13:34.953865Z",
     "start_time": "2022-04-01T20:13:34.843761Z"
    },
    "hide_input": true
   },
   "outputs": [],
   "source": [
    "# inDic['JPsiKst_0'] = DSetLoader('B0_JpsiKst_PU0', candDir='ntuples_B2JpsiKst')\n",
    "# inDic['JPsiKst_20'] = DSetLoader('B0_JpsiKst_PU20', candDir='ntuples_B2JpsiKst')\n",
    "# inDic['JPsiKst_35'] = DSetLoader('B0_JpsiKst_PU35', candDir='ntuples_B2JpsiKst')\n",
    "\n",
    "# inDic['JPsiKstFSR_20'] = DSetLoader('B0_JpsiKstFSR_PU20', candDir='ntuples_B2JpsiKst')\n",
    "# inDic['JPsiKst_c0'] = DSetLoader('B0_JpsiKst_PUc0', candDir='ntuples_B2JpsiKst')\n",
    "# inDic['JPsiKst_c0'] = DSetLoader('B0_JpsiX_SoftQCD_PU20', candDir='ntuples_B2JpsiKst')\n",
    "\n",
    "# inDic['JPsiK_c0'] = DSetLoader('Bp_JpsiK_PUc0', candDir='ntuples_B2JpsiK')"
   ]
  },
  {
   "cell_type": "markdown",
   "metadata": {},
   "source": [
    "# Efficiency"
   ]
  },
  {
   "cell_type": "code",
   "execution_count": 14,
   "metadata": {
    "ExecuteTime": {
     "end_time": "2022-04-01T20:13:35.008040Z",
     "start_time": "2022-04-01T20:13:34.961055Z"
    }
   },
   "outputs": [],
   "source": [
    "def getEff(k,N):\n",
    "    e = k/float(N)\n",
    "    de = np.sqrt(e*(1-e)/N)\n",
    "    return [e, de]"
   ]
  },
  {
   "cell_type": "markdown",
   "metadata": {},
   "source": [
    "## Generator Efficiency"
   ]
  },
  {
   "cell_type": "code",
   "execution_count": 15,
   "metadata": {
    "ExecuteTime": {
     "end_time": "2022-04-01T20:13:37.475420Z",
     "start_time": "2022-04-01T20:13:35.014660Z"
    }
   },
   "outputs": [],
   "source": [
    "handle = {}\n",
    "handle['genFilter'] = [Handle('GenFilterInfo'), ('genFilterEfficiencyProducer', '', 'SIM')]\n",
    "handle['genProduct'] = [Handle('GenLumiInfoProduct'), ('generator', '', 'SIM')]"
   ]
  },
  {
   "cell_type": "code",
   "execution_count": 16,
   "metadata": {
    "ExecuteTime": {
     "end_time": "2022-04-01T20:13:37.534002Z",
     "start_time": "2022-04-01T20:13:37.479745Z"
    },
    "code_folding": []
   },
   "outputs": [],
   "source": [
    "def analyzeMINIAODs(fileList):  \n",
    "    print 'Analizing', len(fileList), 'MINIAOD'\n",
    "    N_gen = 0\n",
    "    N_cuts = 0\n",
    "    xsec = []\n",
    "    xsec_err = []\n",
    "    pb = ProgressBar(maxEntry=len(fileList))\n",
    "    skippedFiles = []\n",
    "    for i_j, fileName in enumerate(fileList):\n",
    "        if not os.path.exists(fileName):\n",
    "            fileName = 'root://cmsxrootd.fnal.gov/' + fileName\n",
    "        pb.show(i_j)\n",
    "        with timeout(seconds=30):\n",
    "            try:\n",
    "#                 cmd = 'python generatorEfficiency_MINIAODSIM.py ' + fileName\n",
    "#                 status, output = commands.getstatusoutput(cmd)\n",
    "#                 aux = output.split(' ')\n",
    "#                 N_gen += float(aux[0])\n",
    "#                 N_cuts += float(aux[1])\n",
    "#                 xsec.append(float(aux[2]))\n",
    "#                 xsec_err.append(float(aux[4]))\n",
    "                for lumi in Lumis(fileName):\n",
    "                    prods = {}\n",
    "                    for k,v in handle.iteritems():\n",
    "                        lumi.getByLabel(v[1], v[0])\n",
    "                        prods[k] = v[0].product()\n",
    "                    N_cuts += prods['genFilter'].numEventsPassed()\n",
    "                    N_gen += prods['genFilter'].numEventsTotal()\n",
    "                    xs = prods['genProduct'].getProcessInfos()[0].lheXSec()\n",
    "                    xsec.append(xs.value())\n",
    "                    xsec_err.append(xs.error())\n",
    "            except TimeoutError:\n",
    "                skippedFiles.append(fileName)\n",
    "    print 'Skipped {} files'.format(len(skippedFiles))\n",
    "    print 'Total events in analyzed MINIAODs', N_cuts\n",
    "    xsec = np.array(xsec)\n",
    "    xsec_err = np.array(xsec_err)\n",
    "    return N_gen, N_cuts, xsec, xsec_err"
   ]
  },
  {
   "cell_type": "code",
   "execution_count": 17,
   "metadata": {
    "ExecuteTime": {
     "end_time": "2022-04-01T20:13:37.600668Z",
     "start_time": "2022-04-01T20:13:37.541210Z"
    }
   },
   "outputs": [
    {
     "name": "stdout",
     "output_type": "stream",
     "text": [
      "\n",
      "\n",
      "--> Bd_JpsiKst_General\n",
      "Already present\n",
      "{'xsec': [549722760732.69165, 157674779.14129257], 'effGEN': [0.03014726318636373, 4.928890792821779e-05]}\n"
     ]
    }
   ],
   "source": [
    "N_max = 200\n",
    "recreate = []\n",
    "# recreate = inDic.keys()\n",
    "for n, d in inDic.iteritems():\n",
    "    print '\\n\\n--> ' + d.sample\n",
    "    \n",
    "    outdir = os.path.join(d.candLoc, d.full_name)\n",
    "    outyamlFile = os.path.join(outdir,'effMCgenerator.yaml')\n",
    "    if os.path.isfile(outyamlFile) and not n in recreate:\n",
    "        print 'Already present'\n",
    "        dic = yaml.load(open(outyamlFile, 'r'))\n",
    "        print dic\n",
    "        continue\n",
    "        \n",
    "    fileList = d.MINIAOD_filelist\n",
    "    if N_max > 0 and N_max < len(fileList):\n",
    "        fileList = np.random.choice(fileList, N_max)\n",
    "    elif len(fileList) == 0:\n",
    "        print 'No MiniAODs found, skipping'\n",
    "        continue\n",
    "    \n",
    "    N_gen, N_cuts, xsec, xsec_err = analyzeMINIAODs(fileList)\n",
    "    s2 = np.square(xsec_err)\n",
    "    num = np.sum(xsec/s2)\n",
    "    den = np.sum(1./s2)\n",
    "    xsecAvg = 1e3*num/den\n",
    "    xsecAvg_err = 1e3*np.sqrt(1/den)\n",
    "    chi2 = np.sum(np.square((xsec - xsecAvg*1e-3)/xsec_err))\n",
    "    pval = rt.ROOT.Math.chisquared_cdf_c(chi2, len(xsec)-1)\n",
    "    print 'Chi2: {:.1f}/{} ({:.1f}%)'.format(chi2, len(xsec)-1, pval*100)\n",
    "    print 'Xsec: {:1.4e} +/- {:1.4e} fb ({:1.1e})'.format(xsecAvg, xsecAvg_err, xsecAvg_err/xsecAvg)\n",
    "    d.xsec = [xsecAvg, xsecAvg_err]\n",
    "    \n",
    "    e, de = getEff(N_cuts, N_gen)\n",
    "    print 'eff generator: {:1.3e} +/- {:1.3e} ({:1.1e})'.format(e,de, de/e)\n",
    "    d.effGEN = [e, de]\n",
    "\n",
    "    dump_dic = {}\n",
    "    for k in ['xsec', 'effGEN']:\n",
    "        aux = getattr(d, k)\n",
    "        dump_dic[k] = [float(aux[0]), float(aux[1])]\n",
    "    if not os.path.isdir(outdir):\n",
    "        os.makedirs(outdir)\n",
    "    with open(outyamlFile, 'w') as dumpF:\n",
    "        dumpF.write(yaml.dump(dump_dic, default_flow_style=False, default_style=''))"
   ]
  },
  {
   "cell_type": "markdown",
   "metadata": {},
   "source": [
    "## ntuplizer efficiency"
   ]
  },
  {
   "cell_type": "code",
   "execution_count": 18,
   "metadata": {
    "ExecuteTime": {
     "end_time": "2022-04-01T20:13:42.800508Z",
     "start_time": "2022-04-01T20:13:37.605322Z"
    },
    "code_folding": [],
    "scrolled": true
   },
   "outputs": [
    {
     "name": "stdout",
     "output_type": "stream",
     "text": [
      "\n",
      "\n",
      "--> Bd_JpsiKst_General\n",
      "Analyzing 144 ntuplizer job logs\n",
      "[####################]  100% - Tot. time: 4.5 s\n",
      "Total MINIAOD: 54738085\n",
      "Total candidates: 2156101\n",
      "eff candidates (trigger): 1.535e-01 +/- 4.872e-05 (3.2e-04)\n",
      "eff candidates (cand): 2.567e-01 +/- 1.507e-04 (5.9e-04)\n",
      "eff candidates: 3.939e-02 +/- 2.629e-05 (6.7e-04)\n",
      "$15.35 \\pm 0.00$ & $25.67 \\pm 0.02$ & $3.94 \\pm 0.00$\\\n",
      "Getting the total rates (if existing)\n",
      "Not found\n"
     ]
    }
   ],
   "source": [
    "for d in inDic.values():\n",
    "    print '\\n\\n--> ' + d.sample\n",
    "\n",
    "    if not os.path.isdir(d.ntuples_dir):\n",
    "        continue\n",
    "    cand_out_list = glob(os.path.join(d.ntuples_dir,'out/job*.out'))\n",
    "#     if d.sample == 'Bd_MuNuDst':\n",
    "#         cand_out_list = glob(os.path.join(d.ntuples_dir,'out/job_???_*.out'))\n",
    "    N_analyzed = 0\n",
    "    N_trg = 0\n",
    "    N_cand = 0\n",
    "    print 'Analyzing {} ntuplizer job logs'.format(len(cand_out_list))\n",
    "    pb = ProgressBar(maxEntry=len(cand_out_list))\n",
    "    for ic, cand_out in enumerate(cand_out_list):\n",
    "        pb.show(ic)\n",
    "        eff_ln = []\n",
    "        counters = []\n",
    "        takingCounters = False\n",
    "        for line in open(cand_out).readlines():\n",
    "            if 'efficiency:' in line:\n",
    "                eff_ln.append(line)\n",
    "            elif 'counters:' in line:\n",
    "                    takingCounters = True\n",
    "            elif takingCounters and line[:-1].isdigit():\n",
    "                counters.append(int(line[:-1]))\n",
    "            elif takingCounters:\n",
    "                takingCounters = False\n",
    "#             print line\n",
    "        aux = re.search('[0-9]+/[0-9]+', eff_ln[0]).group(0)\n",
    "        aux = aux.split('/')\n",
    "        N_analyzed += int(aux[1])\n",
    "        N_trg += int(aux[0])\n",
    "        \n",
    "        aux = re.search(': [0-9]+/', eff_ln[1]).group(0)\n",
    "        N_cand += int(aux[2:-1])\n",
    "        \n",
    "        counters=np.array(counters)\n",
    "        if not hasattr(d, 'counters'):\n",
    "            d.counters = counters\n",
    "        else:\n",
    "            d.counters += counters\n",
    "        \n",
    "    d.nTotMINIAOD = N_analyzed\n",
    "    d.nTotCAND = N_cand\n",
    "    print 'Total MINIAOD:', N_analyzed\n",
    "    print 'Total candidates:', N_cand\n",
    "    \n",
    "    e, de = getEff(N_trg, N_analyzed)\n",
    "    d.effCAND_trg = e, de\n",
    "    print 'eff candidates (trigger): {:1.3e} +/- {:1.3e} ({:1.1e})'.format(e,de, de/e)\n",
    "    latexStr = '${:.2f} \\pm {:.2f}$'.format(100*e, 100*de)\n",
    "    \n",
    "    e, de = getEff(N_cand, N_trg)\n",
    "    d.effCAND_cand = e, de\n",
    "    print 'eff candidates (cand): {:1.3e} +/- {:1.3e} ({:1.1e})'.format(e,de, de/e)\n",
    "    latexStr += ' & ${:.2f} \\pm {:.2f}$'.format(100*e, 100*de)\n",
    "    \n",
    "    \n",
    "    e, de = getEff(N_cand, N_analyzed)\n",
    "    d.effCAND = e, de\n",
    "    print 'eff candidates: {:1.3e} +/- {:1.3e} ({:1.1e})'.format(e,de, de/e)\n",
    "    latexStr += ' & ${:.2f} \\pm {:.2f}$\\\\'.format(100*e, 100*de)\n",
    "    print latexStr\n",
    "    \n",
    "    print 'Getting the total rates (if existing)'\n",
    "    try:\n",
    "        fCandLoc = glob(os.path.join(d.ntuples_dir,'out_CAND_*.root'))[0]\n",
    "        fCand = ur.open(fCandLoc)\n",
    "        Trate = fCand['p']['Trate']\n",
    "        d.rate = {}\n",
    "        for k in Trate.keys():\n",
    "            r = Trate.array(k)[0]\n",
    "            r *= 1e12 #GeV -> meV\n",
    "            d.rate[str(k)] = r\n",
    "        print 'Done'\n",
    "    except:\n",
    "        print 'Not found'\n",
    "    \n",
    "    dump_dic = {'nTotMINIAOD': int(d.nTotMINIAOD), 'nTotCAND': int(d.nTotCAND)}\n",
    "    for k in ['effCAND', 'effCAND_trg', 'effCAND_cand']:\n",
    "        aux = getattr(d, k)\n",
    "        dump_dic[k] = [float(aux[0]), float(aux[1])]\n",
    "    if hasattr(d, 'rate'):\n",
    "        for k, v in d.rate.iteritems():\n",
    "            dump_dic['rate_'+k] = float(v)\n",
    "    with open(os.path.join(d.ntuples_dir,'effCAND.yaml'), 'w') as dumpF:\n",
    "        dumpF.write(yaml.dump(dump_dic, default_flow_style=False, default_style=''))"
   ]
  },
  {
   "cell_type": "code",
   "execution_count": 19,
   "metadata": {
    "ExecuteTime": {
     "end_time": "2022-04-01T20:13:42.971638Z",
     "start_time": "2022-04-01T20:13:42.805779Z"
    }
   },
   "outputs": [
    {
     "ename": "IndexError",
     "evalue": "index 0 is out of bounds for axis 0 with size 0",
     "output_type": "error",
     "traceback": [
      "\u001b[0;31m\u001b[0m",
      "\u001b[0;31mIndexError\u001b[0mTraceback (most recent call last)",
      "\u001b[0;32m<ipython-input-19-afe6f97ea49b>\u001b[0m in \u001b[0;36m<module>\u001b[0;34m()\u001b[0m\n\u001b[1;32m      3\u001b[0m \u001b[0;32mfor\u001b[0m \u001b[0mn\u001b[0m\u001b[0;34m,\u001b[0m \u001b[0md\u001b[0m \u001b[0;32min\u001b[0m \u001b[0minDic\u001b[0m\u001b[0;34m.\u001b[0m\u001b[0miteritems\u001b[0m\u001b[0;34m(\u001b[0m\u001b[0;34m)\u001b[0m\u001b[0;34m:\u001b[0m\u001b[0;34m\u001b[0m\u001b[0m\n\u001b[1;32m      4\u001b[0m     \u001b[0meff\u001b[0m \u001b[0;34m=\u001b[0m \u001b[0mnp\u001b[0m\u001b[0;34m.\u001b[0m\u001b[0mzeros\u001b[0m\u001b[0;34m(\u001b[0m\u001b[0;34m(\u001b[0m\u001b[0md\u001b[0m\u001b[0;34m.\u001b[0m\u001b[0mcounters\u001b[0m\u001b[0;34m.\u001b[0m\u001b[0mshape\u001b[0m\u001b[0;34m[\u001b[0m\u001b[0;36m0\u001b[0m\u001b[0;34m]\u001b[0m\u001b[0;34m,\u001b[0m \u001b[0;36m2\u001b[0m\u001b[0;34m)\u001b[0m\u001b[0;34m)\u001b[0m\u001b[0;34m\u001b[0m\u001b[0m\n\u001b[0;32m----> 5\u001b[0;31m     \u001b[0meff\u001b[0m\u001b[0;34m[\u001b[0m\u001b[0;36m0\u001b[0m\u001b[0;34m]\u001b[0m \u001b[0;34m=\u001b[0m \u001b[0md\u001b[0m\u001b[0;34m.\u001b[0m\u001b[0meffCAND_trg\u001b[0m\u001b[0;34m\u001b[0m\u001b[0m\n\u001b[0m\u001b[1;32m      6\u001b[0m     \u001b[0;32mfor\u001b[0m \u001b[0mi\u001b[0m \u001b[0;32min\u001b[0m \u001b[0mrange\u001b[0m\u001b[0;34m(\u001b[0m\u001b[0md\u001b[0m\u001b[0;34m.\u001b[0m\u001b[0mcounters\u001b[0m\u001b[0;34m[\u001b[0m\u001b[0;36m1\u001b[0m\u001b[0;34m:\u001b[0m\u001b[0;34m]\u001b[0m\u001b[0;34m.\u001b[0m\u001b[0mshape\u001b[0m\u001b[0;34m[\u001b[0m\u001b[0;36m0\u001b[0m\u001b[0;34m]\u001b[0m\u001b[0;34m)\u001b[0m\u001b[0;34m:\u001b[0m\u001b[0;34m\u001b[0m\u001b[0m\n\u001b[1;32m      7\u001b[0m         \u001b[0meff\u001b[0m\u001b[0;34m[\u001b[0m\u001b[0mi\u001b[0m\u001b[0;34m+\u001b[0m\u001b[0;36m1\u001b[0m\u001b[0;34m]\u001b[0m \u001b[0;34m=\u001b[0m \u001b[0mgetEff\u001b[0m\u001b[0;34m(\u001b[0m\u001b[0md\u001b[0m\u001b[0;34m.\u001b[0m\u001b[0mcounters\u001b[0m\u001b[0;34m[\u001b[0m\u001b[0mi\u001b[0m\u001b[0;34m+\u001b[0m\u001b[0;36m1\u001b[0m\u001b[0;34m]\u001b[0m\u001b[0;34m,\u001b[0m \u001b[0md\u001b[0m\u001b[0;34m.\u001b[0m\u001b[0mnTotMINIAOD\u001b[0m\u001b[0;34m)\u001b[0m\u001b[0;34m\u001b[0m\u001b[0m\n",
      "\u001b[0;31mIndexError\u001b[0m: index 0 is out of bounds for axis 0 with size 0"
     ]
    }
   ],
   "source": [
    "t = PrettyTable()\n",
    "t.field_names = ['Sample'] + [str(i) for i in range(d.counters.shape[0])]\n",
    "for n, d in inDic.iteritems():\n",
    "    eff = np.zeros((d.counters.shape[0], 2))\n",
    "    eff[0] = d.effCAND_trg\n",
    "    for i in range(d.counters[1:].shape[0]):\n",
    "        eff[i+1] = getEff(d.counters[i+1], d.nTotMINIAOD)\n",
    "    t.add_row([n] + ['{:.2f}'.format(100*e[0]) for e in eff])\n",
    "    x = np.arange(eff.shape[0])\n",
    "    p = plt.errorbar(x, eff[:, 0], eff[:,1], lw=0, elinewidth=5, label=n)\n",
    "    \n",
    "#     plt.plot(x[[0,-1]], 2*[d.effCAND[0]], '-', color=p[0].get_color())\n",
    "#     plt.fill_between(x[[0,-1]], 2*[d.effCAND[0]-d.effCAND[1]], 2*[d.effCAND[0]+d.effCAND[1]], color=p[0].get_color(), alpha=0.2)\n",
    "print t\n",
    "plt.rcParams.update({'font.size': 20})\n",
    "plt.xlabel('Counter')\n",
    "plt.ylabel('Efficiency')\n",
    "plt.legend(loc='best', numpoints=1)\n",
    "plt.ylim(0.01,1.05)\n",
    "plt.xlim(-1, eff.shape[0])\n",
    "plt.grid(True, which='both')\n",
    "plt.yscale('log')\n",
    "plt.gcf().set_size_inches(10, 6)"
   ]
  },
  {
   "cell_type": "code",
   "execution_count": null,
   "metadata": {
    "ExecuteTime": {
     "end_time": "2022-04-01T20:13:42.973234Z",
     "start_time": "2022-04-01T20:13:23.950Z"
    }
   },
   "outputs": [],
   "source": [
    "t = PrettyTable()\n",
    "t.field_names = ['Sample'] + [str(i) for i in range(d.counters.shape[0])]\n",
    "for n, d in inDic.iteritems():\n",
    "    eff = np.zeros((d.counters.shape[0], 2))\n",
    "    eff[0] = d.effCAND_trg\n",
    "    for i in range(d.counters[1:].shape[0]):\n",
    "        eff[i+1] = getEff(d.counters[i+1], d.counters[i])\n",
    "    t.add_row([n] + ['{:.2f}'.format(100*e[0]) for e in eff])\n",
    "    x = np.arange(eff.shape[0])\n",
    "    p = plt.errorbar(x, eff[:, 0], eff[:,1], fmt='o', lw=0, elinewidth=5, label=n)\n",
    "print t\n",
    "plt.rcParams.update({'font.size': 20})\n",
    "plt.xlabel('Counter')\n",
    "plt.ylabel('Efficiency')\n",
    "plt.legend(loc='best', numpoints=1)\n",
    "plt.ylim(0.2,1.05)\n",
    "plt.xlim(-1, eff.shape[0])\n",
    "plt.grid(True, which='both')\n",
    "plt.yscale('log')\n",
    "plt.gcf().set_size_inches(10, 6)"
   ]
  },
  {
   "cell_type": "markdown",
   "metadata": {},
   "source": [
    "## Skim Efficiency"
   ]
  },
  {
   "cell_type": "code",
   "execution_count": null,
   "metadata": {
    "ExecuteTime": {
     "end_time": "2022-04-01T20:13:42.975193Z",
     "start_time": "2022-04-01T20:13:23.951Z"
    }
   },
   "outputs": [],
   "source": [
    "for p in order:\n",
    "    if not p in inDic.keys():\n",
    "        continue\n",
    "    \n",
    "    s = []\n",
    "    for c in ['Low', 'Mid', 'High']:\n",
    "        s.append(inDic[p].printSkimEffLatex(c+'_bare'))\n",
    "    s = ' & '.join(s)\n",
    "    s += '\\\\\\\\'\n",
    "#     print p, s\n",
    "    print s"
   ]
  },
  {
   "cell_type": "markdown",
   "metadata": {
    "hide_input": false
   },
   "source": [
    "# Comparison table"
   ]
  },
  {
   "cell_type": "code",
   "execution_count": null,
   "metadata": {
    "ExecuteTime": {
     "end_time": "2022-04-01T20:13:42.976912Z",
     "start_time": "2022-04-01T20:13:23.953Z"
    }
   },
   "outputs": [],
   "source": [
    "# Latex format\n",
    "\n",
    "latexTable = r'''\n",
    "\\begin{tabular}{|c||c|c||cc|c||cc|cc|cc|}\n",
    " \\hline\n",
    " Process & \n",
    " xsec [b] & $\\varepsilon_\\text{gen}$ & \n",
    " $\\varepsilon_\\text{trg}$ [\\%]& $\\varepsilon_\\text{cand}$ [\\%]& \n",
    " $\\varepsilon_\\text{ntp} = \\varepsilon_\\text{trg}\\varepsilon_\\text{cand}$ [\\%] &\n",
    " $\\varepsilon_\\text{skim}^{low}$ [\\%] & $\\varepsilon_\\text{ntp}\\varepsilon_\\text{skim}^{low}$ [\\%] &\n",
    " $\\varepsilon_\\text{skim}^{mid}$ [\\%] & $\\varepsilon_\\text{ntp}\\varepsilon_\\text{skim}^{mid}$ [\\%] &\n",
    " $\\varepsilon_\\text{skim}^{high}$ [\\%] & $\\varepsilon_\\text{ntp}\\varepsilon_\\text{skim}^{high}$ [\\%] &\n",
    " \\\\\n",
    " \\hline\n",
    " \\hline\n",
    "'''\n",
    "\n",
    "procTraslation = {\n",
    "    'mu_c0': r'$B\\to D^*\\mu\\nu$ (hard $b\\bar{b}$)',\n",
    "    'muSoft_c0': r'$B\\to D^*\\mu\\nu$ (soft QCD all)',\n",
    "}\n",
    "\n",
    "for n, ds in inDic.iteritems():\n",
    "    name = procTraslation[n] if n in procTraslation.keys() else n\n",
    "    fields = [name]\n",
    "    xsec = '{:.3f}'.format(1e-12*ds.effMCgen['xsec'][0])   \n",
    "    eGen = '{:1.2e}'.format(ds.effMCgen['effGEN'][0])\n",
    "    fields += [xsec, eGen]\n",
    "    for k in ['effCAND_trg', 'effCAND_cand', 'effCAND']:\n",
    "        s = '{:.2f}'.format(100*ds.effCand[k][0])\n",
    "        fields.append(s)\n",
    "    for k in ['Low', 'Mid', 'High']:\n",
    "        s = '{:.2f}'.format(100*ds.getSkimEff(k+'_bare')[0])\n",
    "        fields.append(s)\n",
    "    latexTable += ' ' + ' & '.join(fields) + ' \\\\\\\\\\n \\hline\\n'\n",
    "latexTable += r'\\end{tabular}' + '\\n'\n",
    "print latexTable"
   ]
  },
  {
   "cell_type": "code",
   "execution_count": null,
   "metadata": {
    "ExecuteTime": {
     "end_time": "2022-04-01T20:13:42.979009Z",
     "start_time": "2022-04-01T20:13:23.954Z"
    }
   },
   "outputs": [],
   "source": [
    "# Latex format transposed\n",
    "\n",
    "latexTable = r'\\begin{tabular}{|'+len(inDic.keys() + ['a'])*r'c|'+r'}\\n\\hline\\n'\n",
    "\n",
    "fieldNames = [\n",
    "    r'Process',\n",
    "    r'xsec [b]',\n",
    "    r'$\\varepsilon_\\text{gen}$',\n",
    "    r'$\\varepsilon_\\text{trg}$ [\\%]',\n",
    "    r'$\\varepsilon_\\text{cand}$ [\\%]',\n",
    "    r'$\\varepsilon_\\text{ntp} = \\varepsilon_\\text{trg}\\varepsilon_\\text{cand}$ [\\%]',\n",
    "    r'$\\varepsilon_\\text{skim}^{low}$ [\\%]',\n",
    "    r'$\\varepsilon_\\text{ntp}\\varepsilon_\\text{skim}^{low}$ [\\%]',\n",
    "    r'$\\varepsilon_\\text{skim}^{mid}$ [\\%]',\n",
    "    r'$\\varepsilon_\\text{ntp}\\varepsilon_\\text{skim}^{mid}$ [\\%]',\n",
    "    r'$\\varepsilon_\\text{skim}^{high}$ [\\%]',\n",
    "    r'$\\varepsilon_\\text{ntp}\\varepsilon_\\text{skim}^{high}$ [\\%]'\n",
    "]\n",
    "\n",
    "procTraslation = {\n",
    "    'mu_c0': r'$B\\to D^*\\mu\\nu$ (hard $b\\bar{b}$)',\n",
    "    'muSoft_c0': r'$B\\to D^*\\mu\\nu$ (soft QCD all)',\n",
    "}\n",
    "\n",
    "latexTable += ' '+fieldNames[0]\n",
    "for n, ds in inDic.iteritems():\n",
    "    name = procTraslation[n] if n in procTraslation.keys() else n\n",
    "    latexTable += ' & ' + name\n",
    "latexTable += ' \\\\\\\\\\n \\hline\\n \\hline\\n'\n",
    "    \n",
    "latexTable += ' '+fieldNames[1]\n",
    "for n, ds in inDic.iteritems():\n",
    "    latexTable += ' & ' + '{:.3f}'.format(1e-12*ds.effMCgen['xsec'][0])\n",
    "latexTable += ' \\\\\\\\\\n \\hline\\n'\n",
    "\n",
    "latexTable += ' '+fieldNames[2]\n",
    "for n, ds in inDic.iteritems():\n",
    "    latexTable += ' & ' + '{:1.2e}'.format(ds.effMCgen['effGEN'][0])\n",
    "latexTable += ' \\\\\\\\\\n \\hline\\n \\hline\\n'\n",
    "\n",
    "\n",
    "for i, k in enumerate(['effCAND_trg', 'effCAND_cand', 'effCAND']):\n",
    "    latexTable += ' '+fieldNames[3+i]\n",
    "    for n, ds in inDic.iteritems():\n",
    "        latexTable += ' & ' + '{:.2f}'.format(100*ds.effCand[k][0])\n",
    "    latexTable += ' \\\\\\\\\\n \\hline\\n'\n",
    "latexTable += ' \\hline\\n'\n",
    "\n",
    "for i, k in enumerate(['Low', 'Mid', 'High']):\n",
    "    latexTable += ' '+fieldNames[6+2*i]\n",
    "    for n, ds in inDic.iteritems():\n",
    "        latexTable += ' & ' + '{:.2f}'.format(100*ds.getSkimEff(k+'_bare')[0])\n",
    "    latexTable += ' \\\\\\\\\\n \\hline\\n'\n",
    "    latexTable += ' '+fieldNames[6+2*i+1]\n",
    "    for n, ds in inDic.iteritems():\n",
    "        latexTable += ' & ' + '{:.2f}'.format(100*ds.getSkimEff(k+'_bare')[0]*ds.effCand['effCAND'][0])\n",
    "    latexTable += ' \\\\\\\\\\n \\hline\\n \\hline\\n'\n",
    "\n",
    "latexTable += r'\\end{tabular}' + '\\n'\n",
    "print latexTable"
   ]
  },
  {
   "cell_type": "code",
   "execution_count": null,
   "metadata": {},
   "outputs": [],
   "source": []
  }
 ],
 "metadata": {
  "kernelspec": {
   "display_name": "Python 2",
   "language": "python",
   "name": "python2"
  },
  "language_info": {
   "codemirror_mode": {
    "name": "ipython",
    "version": 2
   },
   "file_extension": ".py",
   "mimetype": "text/x-python",
   "name": "python",
   "nbconvert_exporter": "python",
   "pygments_lexer": "ipython2",
   "version": "2.7.14+"
  },
  "varInspector": {
   "cols": {
    "lenName": 16,
    "lenType": 16,
    "lenVar": 40
   },
   "kernels_config": {
    "python": {
     "delete_cmd_postfix": "",
     "delete_cmd_prefix": "del ",
     "library": "var_list.py",
     "varRefreshCmd": "print(var_dic_list())"
    },
    "r": {
     "delete_cmd_postfix": ") ",
     "delete_cmd_prefix": "rm(",
     "library": "var_list.r",
     "varRefreshCmd": "cat(var_dic_list()) "
    }
   },
   "types_to_exclude": [
    "module",
    "function",
    "builtin_function_or_method",
    "instance",
    "_Feature"
   ],
   "window_display": false
  }
 },
 "nbformat": 4,
 "nbformat_minor": 2
}
