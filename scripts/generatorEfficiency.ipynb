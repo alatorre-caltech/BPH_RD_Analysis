{
 "cells": [
  {
   "cell_type": "markdown",
   "metadata": {},
   "source": [
    "Notebook to collect the information of the generation"
   ]
  },
  {
   "cell_type": "markdown",
   "metadata": {},
   "source": [
    "### Import"
   ]
  },
  {
   "cell_type": "code",
   "execution_count": 1,
   "metadata": {
    "ExecuteTime": {
     "end_time": "2020-07-02T20:06:02.989459Z",
     "start_time": "2020-07-02T20:06:02.879914Z"
    }
   },
   "outputs": [],
   "source": [
    "import sys, os, re, yaml, pickle\n",
    "import commands\n",
    "from glob import glob\n",
    "from prettytable import PrettyTable\n",
    "sys.path.append('../lib')\n",
    "\n",
    "import time, datetime"
   ]
  },
  {
   "cell_type": "code",
   "execution_count": 2,
   "metadata": {
    "ExecuteTime": {
     "end_time": "2020-07-02T20:06:03.011076Z",
     "start_time": "2020-07-02T20:06:02.994142Z"
    }
   },
   "outputs": [],
   "source": [
    "import signal\n",
    "\n",
    "class TimeoutError(Exception):\n",
    "    pass\n",
    "\n",
    "class timeout:\n",
    "    def __init__(self, seconds=1, error_message='Timeout'):\n",
    "        self.seconds = seconds\n",
    "        self.error_message = error_message\n",
    "    def handle_timeout(self, signum, frame):\n",
    "        raise TimeoutError(self.error_message)\n",
    "    def __enter__(self):\n",
    "        signal.signal(signal.SIGALRM, self.handle_timeout)\n",
    "        signal.alarm(self.seconds)\n",
    "    def __exit__(self, type, value, traceback):\n",
    "        signal.alarm(0)\n",
    "\n",
    "# with timeout(seconds=1):\n",
    "#     try:\n",
    "#         time.sleep(2)\n",
    "#     except TimeoutError:\n",
    "#         print 'Got it'"
   ]
  },
  {
   "cell_type": "code",
   "execution_count": 3,
   "metadata": {
    "ExecuteTime": {
     "end_time": "2020-07-02T20:06:04.173156Z",
     "start_time": "2020-07-02T20:06:03.014795Z"
    }
   },
   "outputs": [],
   "source": [
    "import numpy as np\n",
    "from scipy.stats import mode\n",
    "import matplotlib.pyplot as plt\n",
    "from prettytable import PrettyTable\n",
    "from progressBar import ProgressBar"
   ]
  },
  {
   "cell_type": "code",
   "execution_count": 4,
   "metadata": {
    "ExecuteTime": {
     "end_time": "2020-07-02T20:06:08.556496Z",
     "start_time": "2020-07-02T20:06:04.178412Z"
    }
   },
   "outputs": [
    {
     "name": "stdout",
     "output_type": "stream",
     "text": [
      "Welcome to JupyROOT 6.12/07\n"
     ]
    }
   ],
   "source": [
    "import uproot as ur\n",
    "import ROOT as rt\n",
    "rt.gErrorIgnoreLevel = rt.kError\n",
    "rt.RooMsgService.instance().setGlobalKillBelow(rt.RooFit.ERROR)"
   ]
  },
  {
   "cell_type": "code",
   "execution_count": 5,
   "metadata": {
    "ExecuteTime": {
     "end_time": "2020-07-02T20:06:08.941084Z",
     "start_time": "2020-07-02T20:06:08.561938Z"
    }
   },
   "outputs": [],
   "source": [
    "# load FWLite C++ libraries\n",
    "rt.gSystem.Load(\"libFWCoreFWLite.so\");\n",
    "rt.gSystem.Load(\"libDataFormatsFWLite.so\");\n",
    "rt.FWLiteEnabler.enable()\n",
    "\n",
    "# load FWlite python libraries\n",
    "from DataFormats.FWLite import Lumis\n",
    "from DataFormats.FWLite import Handle\n",
    "# import commands"
   ]
  },
  {
   "cell_type": "code",
   "execution_count": 6,
   "metadata": {
    "ExecuteTime": {
     "end_time": "2020-07-02T20:06:09.135487Z",
     "start_time": "2020-07-02T20:06:08.947304Z"
    }
   },
   "outputs": [],
   "source": [
    "from analysis_utilities import DSetLoader"
   ]
  },
  {
   "cell_type": "markdown",
   "metadata": {},
   "source": [
    "# Inputs"
   ]
  },
  {
   "cell_type": "markdown",
   "metadata": {},
   "source": [
    "Max 3 dataset per time otherwise run out of memory"
   ]
  },
  {
   "cell_type": "code",
   "execution_count": 7,
   "metadata": {
    "ExecuteTime": {
     "end_time": "2020-07-02T20:06:09.163723Z",
     "start_time": "2020-07-02T20:06:09.138934Z"
    }
   },
   "outputs": [],
   "source": [
    "inDic = {}"
   ]
  },
  {
   "cell_type": "code",
   "execution_count": 8,
   "metadata": {
    "ExecuteTime": {
     "end_time": "2020-07-02T20:06:09.386295Z",
     "start_time": "2020-07-02T20:06:09.168538Z"
    }
   },
   "outputs": [
    {
     "name": "stdout",
     "output_type": "stream",
     "text": [
      "CAND efficiency file missing.\n",
      "CAND efficiency file missing.\n"
     ]
    }
   ],
   "source": [
    "inDic['muHQET_0'] = DSetLoader('B0_MuNuDmst_HQETcentral_PU0')\n",
    "inDic['mu_0'] = DSetLoader('B0_MuNuDmst_PU0')\n",
    "# inDic['mu_20'] = DSetLoader('B0_MuNuDmst_PU20')\n",
    "# inDic['mu_c0'] = DSetLoader('B0_MuNuDmst_PUc0')\n",
    "# inDic['mu_35'] = DSetLoader('B0_MuNuDmst_PU35')\n",
    "\n",
    "# inDic['tau_0'] = DSetLoader('B0_TauNuDmst_PU0')\n",
    "# inDic['tau_20'] = DSetLoader('B0_TauNuDmst_PU20')\n",
    "# inDic['tau_c0'] = DSetLoader('B0_TauNuDmst_PUc0')\n",
    "# inDic['tau_35'] = DSetLoader('B0_TauNuDmst_PU35')\n",
    "\n",
    "# inDic['Hc_20'] = DSetLoader('B0_DmstHc_PU20')\n",
    "# inDic['Hc_c0'] = DSetLoader('B0_DmstHc_PUc0')\n",
    "\n",
    "# inDic['DstmDsp'] = DSetLoader('B0_DstmDsp_PUc0')\n",
    "\n",
    "# inDic['DstmDp'] = DSetLoader('B0_DstmDp_PUc0')\n",
    "\n",
    "# inDic['DstmD0'] = DSetLoader('B0_DstmD0_PUc0')\n",
    "\n",
    "# inDic['BpHc'] = DSetLoader('Bp_DstmHc_PUc0')\n",
    "\n",
    "# inDic['BmHc'] = DSetLoader('Bm_DstmHc_PUc0')\n",
    "\n",
    "# inDic['antiB0Hc'] = DSetLoader('antiB0_DstmHc_PUc0')\n",
    "\n",
    "# inDic['DstPip_20'] = DSetLoader('Bp_MuNuDstst_PU20')\n",
    "# inDic['DstPip_c0'] = DSetLoader('Bp_MuNuDstst_Pip_PUc0')\n",
    "\n",
    "# inDic['DstPi0_c0'] = DSetLoader('B0_MuNuDstst_Pi0_PUc0')\n",
    "\n",
    "# inDic['DstPi0nR_c0'] = DSetLoader('B0_DmstPi0MuNu_PUc0')\n",
    "\n",
    "# inDic['DststPipPi0_c0'] = DSetLoader('Bp_MuNuDstst_PipPi0_PUc0')\n",
    "\n",
    "# inDic['DststPipPim_c0'] = DSetLoader('B0_MuNuDstst_PipPim_PUc0')\n",
    "\n",
    "# inDic['DststPi0Pi0_c0'] = DSetLoader('B0_MuNuDstst_Pi0Pi0_PUc0')"
   ]
  },
  {
   "cell_type": "code",
   "execution_count": 9,
   "metadata": {
    "ExecuteTime": {
     "end_time": "2020-07-02T20:06:09.404713Z",
     "start_time": "2020-07-02T20:06:09.390186Z"
    }
   },
   "outputs": [],
   "source": [
    "# inDic['mu_0'] = DSetLoader('B0_MuNuDmst_PU0', candDir='ntuples_probeB2DstMu')\n",
    "# inDic['p_mu_c0'] = DSetLoader('p_B0_MuNuDst_PUc0', candDir='ntuples_probeB2DstMu')\n",
    "# inDic['p_tau_c0'] = DSetLoader('p_B0_TauNuDst_PUc0', candDir='ntuples_probeB2DstMu')"
   ]
  },
  {
   "cell_type": "code",
   "execution_count": 10,
   "metadata": {
    "ExecuteTime": {
     "end_time": "2020-07-02T20:06:09.454251Z",
     "start_time": "2020-07-02T20:06:09.408752Z"
    }
   },
   "outputs": [],
   "source": [
    "# inDic['JPsiKst_0'] = DSetLoader('B0_JpsiKst_PU0', candDir='ntuples_B2JpsiKst')\n",
    "# inDic['JPsiKst_20'] = DSetLoader('B0_JpsiKst_PU20', candDir='ntuples_B2JpsiKst')\n",
    "# inDic['JPsiKst_35'] = DSetLoader('B0_JpsiKst_PU35', candDir='ntuples_B2JpsiKst')\n",
    "\n",
    "# inDic['JPsiKstFSR_20'] = DSetLoader('B0_JpsiKstFSR_PU20', candDir='ntuples_B2JpsiKst')\n",
    "# inDic['JPsiKst_c0'] = DSetLoader('B0_JpsiKst_PUc0', candDir='ntuples_B2JpsiKst')"
   ]
  },
  {
   "cell_type": "markdown",
   "metadata": {},
   "source": [
    "# Efficiency"
   ]
  },
  {
   "cell_type": "code",
   "execution_count": 11,
   "metadata": {
    "ExecuteTime": {
     "end_time": "2020-07-02T20:06:09.492951Z",
     "start_time": "2020-07-02T20:06:09.457945Z"
    }
   },
   "outputs": [],
   "source": [
    "def getEff(k,N):\n",
    "    e = k/float(N)\n",
    "    de = np.sqrt(e*(1-e)/N)\n",
    "    return [e, de]"
   ]
  },
  {
   "cell_type": "markdown",
   "metadata": {},
   "source": [
    "## Generator Efficiency"
   ]
  },
  {
   "cell_type": "code",
   "execution_count": 12,
   "metadata": {
    "ExecuteTime": {
     "end_time": "2020-07-02T20:06:12.431362Z",
     "start_time": "2020-07-02T20:06:09.497868Z"
    }
   },
   "outputs": [],
   "source": [
    "handle = {}\n",
    "handle['genFilter'] = [Handle('GenFilterInfo'), ('genFilterEfficiencyProducer', '', 'SIM')]\n",
    "handle['genProduct'] = [Handle('GenLumiInfoProduct'), ('generator', '', 'SIM')]"
   ]
  },
  {
   "cell_type": "code",
   "execution_count": 13,
   "metadata": {
    "ExecuteTime": {
     "end_time": "2020-07-02T20:06:12.474178Z",
     "start_time": "2020-07-02T20:06:12.436450Z"
    }
   },
   "outputs": [],
   "source": [
    "def analyzeMINIAODs(fileList):  \n",
    "    print 'Analizing', len(fileList), 'MINIAOD'\n",
    "    N_gen = 0\n",
    "    N_cuts = 0\n",
    "    xsec = []\n",
    "    xsec_err = []\n",
    "    pb = ProgressBar(maxEntry=len(fileList))\n",
    "    skippedFiles = []\n",
    "    for i_j, fileName in enumerate(fileList):\n",
    "        pb.show(i_j)\n",
    "        with timeout(seconds=1):\n",
    "            try:\n",
    "#                 cmd = 'python generatorEfficiency_MINIAODSIM.py ' + fileName\n",
    "#                 status, output = commands.getstatusoutput(cmd)\n",
    "#                 aux = output.split(' ')\n",
    "#                 N_gen += float(aux[0])\n",
    "#                 N_cuts += float(aux[1])\n",
    "#                 xsec.append(float(aux[2]))\n",
    "#                 xsec_err.append(float(aux[4]))\n",
    "                for lumi in Lumis(fileName):\n",
    "                    prods = {}\n",
    "                    for k,v in handle.iteritems():\n",
    "                        lumi.getByLabel(v[1], v[0])\n",
    "                        prods[k] = v[0].product()\n",
    "                    N_cuts += prods['genFilter'].numEventsPassed()\n",
    "                    N_gen += prods['genFilter'].numEventsTotal()\n",
    "                    xs = prods['genProduct'].getProcessInfos()[0].lheXSec()\n",
    "                    xsec.append(xs.value())\n",
    "                    xsec_err.append(xs.error())\n",
    "            except TimeoutError:\n",
    "                skippedFiles.append(fileName)\n",
    "    print 'Skipped {} files'.format(len(skippedFiles))\n",
    "    print 'Total events in analyzed MINIAODs', N_cuts\n",
    "    xsec = np.array(xsec)\n",
    "    xsec_err = np.array(xsec_err)\n",
    "    return N_gen, N_cuts, xsec, xsec_err"
   ]
  },
  {
   "cell_type": "code",
   "execution_count": 14,
   "metadata": {
    "ExecuteTime": {
     "end_time": "2020-07-02T20:06:12.536464Z",
     "start_time": "2020-07-02T20:06:12.478742Z"
    }
   },
   "outputs": [
    {
     "name": "stdout",
     "output_type": "stream",
     "text": [
      "\n",
      "\n",
      "--> B0_MuNuDmst_HQETcentral_PU0\n",
      "Already present\n",
      "{'xsec': [148790133104.50482, 8209110.338360588], 'effGEN': [0.007052577567607257, 9.579730090861283e-06]}\n",
      "\n",
      "\n",
      "--> B0_MuNuDmst_PU0\n",
      "Already present\n",
      "{'xsec': [148762449680.00394, 15103635.546542093], 'effGEN': [0.006992276630751819, 1.755171522730451e-05]}\n"
     ]
    }
   ],
   "source": [
    "N_max = 1000\n",
    "recreate = []#inDic.keys()\n",
    "for n, d in inDic.iteritems():\n",
    "    print '\\n\\n--> ' + d.sample\n",
    "    \n",
    "    outdir = os.path.join(d.candLoc, d.full_name)\n",
    "    outyamlFile = os.path.join(outdir,'effMCgenerator.yaml')\n",
    "    if os.path.isfile(outyamlFile) and not n in recreate:\n",
    "        print 'Already present'\n",
    "        dic = yaml.load(open(outyamlFile, 'r'))\n",
    "        print dic\n",
    "        continue\n",
    "        \n",
    "    fileList = []\n",
    "    for directory in d.MINIAOD_dirs:\n",
    "        fileList += glob(directory + '/out_MINIAODSIM_*.root')\n",
    "    if N_max > 0 and N_max < len(fileList):\n",
    "        fileList = np.random.choice(fileList, N_max)\n",
    "    \n",
    "    N_gen, N_cuts, xsec, xsec_err = analyzeMINIAODs(fileList)\n",
    "    s2 = np.square(xsec_err)\n",
    "    num = np.sum(xsec/s2)\n",
    "    den = np.sum(1./s2)\n",
    "    xsec = 1e3*num/den\n",
    "    xsec_err = 1e3*np.sqrt(1/den)\n",
    "    print 'Xsec: {:1.4e} +/- {:1.4e} fb ({:1.1e})'.format(xsec, xsec_err, xsec_err/xsec)\n",
    "    d.xsec = [xsec, xsec_err]\n",
    "    \n",
    "    e, de = getEff(N_cuts, N_gen)\n",
    "    print 'eff generator: {:1.3e} +/- {:1.3e} ({:1.1e})'.format(e,de, de/e)\n",
    "    d.effGEN = [e, de]\n",
    "\n",
    "    dump_dic = {}\n",
    "    for k in ['xsec', 'effGEN']:\n",
    "        aux = getattr(d, k)\n",
    "        dump_dic[k] = [float(aux[0]), float(aux[1])]\n",
    "    if not os.path.isdir(outdir):\n",
    "        os.makedirs(outdir)\n",
    "    with open(outyamlFile, 'w') as dumpF:\n",
    "        dumpF.write(yaml.dump(dump_dic, default_flow_style=False, default_style=''))"
   ]
  },
  {
   "cell_type": "markdown",
   "metadata": {},
   "source": [
    "## ntuplizer efficiency"
   ]
  },
  {
   "cell_type": "code",
   "execution_count": 15,
   "metadata": {
    "ExecuteTime": {
     "end_time": "2020-07-02T20:06:20.635529Z",
     "start_time": "2020-07-02T20:06:12.541023Z"
    },
    "code_folding": [],
    "scrolled": false
   },
   "outputs": [
    {
     "name": "stdout",
     "output_type": "stream",
     "text": [
      "\n",
      "\n",
      "--> B0_MuNuDmst_HQETcentral_PU0\n",
      "Analyzing 230 ntuplizer job logs\n",
      "[####################]  100% - Tot. time: 4.6 s\n",
      "Total MINIAOD: 13630106\n",
      "Total candidates: 360583\n",
      "eff candidates (trigger): 2.426e-01 +/- 1.161e-04 (4.8e-04)\n",
      "eff candidates (cand): 1.091e-01 +/- 1.714e-04 (1.6e-03)\n",
      "eff candidates: 2.645e-02 +/- 4.347e-05 (1.6e-03)\n",
      "$24.26 \\pm 0.01$ & $10.91 \\pm 0.02$ & $2.65 \\pm 0.00$\\\n",
      "Getting the total rates (if existing)\n",
      "Done\n",
      "\n",
      "\n",
      "--> B0_MuNuDmst_PU0\n",
      "Analyzing 98 ntuplizer job logs\n",
      "[####################]  100% - Tot. time: 3.1 s\n",
      "Total MINIAOD: 10192278\n",
      "Total candidates: 273207\n",
      "eff candidates (trigger): 2.427e-01 +/- 1.343e-04 (5.5e-04)\n",
      "eff candidates (cand): 1.104e-01 +/- 1.993e-04 (1.8e-03)\n",
      "eff candidates: 2.681e-02 +/- 5.059e-05 (1.9e-03)\n",
      "$24.27 \\pm 0.01$ & $11.04 \\pm 0.02$ & $2.68 \\pm 0.01$\\\n",
      "Getting the total rates (if existing)\n",
      "Done\n"
     ]
    }
   ],
   "source": [
    "for d in inDic.values():\n",
    "    print '\\n\\n--> ' + d.sample\n",
    "\n",
    "    if not os.path.isdir(d.ntuples_dir):\n",
    "        continue\n",
    "    cand_out_list = glob(os.path.join(d.ntuples_dir,'out/job*.out'))\n",
    "    N_analyzed = 0\n",
    "    N_trg = 0\n",
    "    N_cand = 0\n",
    "    print 'Analyzing {} ntuplizer job logs'.format(len(cand_out_list))\n",
    "    pb = ProgressBar(maxEntry=len(cand_out_list))\n",
    "    for ic, cand_out in enumerate(cand_out_list):\n",
    "        pb.show(ic)\n",
    "        eff_ln = []\n",
    "        counters = []\n",
    "        takingCounters = False\n",
    "        for line in open(cand_out).readlines():\n",
    "            if 'efficiency:' in line:\n",
    "                eff_ln.append(line)\n",
    "            elif 'counters:' in line:\n",
    "                    takingCounters = True\n",
    "            elif takingCounters and line[:-1].isdigit():\n",
    "                counters.append(int(line[:-1]))\n",
    "            elif takingCounters:\n",
    "                takingCounters = False\n",
    "\n",
    "        aux = re.search('[0-9]+/[0-9]+', eff_ln[0]).group(0)\n",
    "        aux = aux.split('/')\n",
    "        N_analyzed += int(aux[1])\n",
    "        N_trg += int(aux[0])\n",
    "        \n",
    "        aux = re.search(': [0-9]+/', eff_ln[1]).group(0)\n",
    "        N_cand += int(aux[2:-1])\n",
    "        \n",
    "        counters=np.array(counters)\n",
    "        if not hasattr(d, 'counters'):\n",
    "            d.counters = counters\n",
    "        else:\n",
    "            d.counters += counters\n",
    "        \n",
    "    d.nTotMINIAOD = N_analyzed\n",
    "    d.nTotCAND = N_cand\n",
    "    print 'Total MINIAOD:', N_analyzed\n",
    "    print 'Total candidates:', N_cand\n",
    "    \n",
    "    e, de = getEff(N_trg, N_analyzed)\n",
    "    d.effCAND_trg = e, de\n",
    "    print 'eff candidates (trigger): {:1.3e} +/- {:1.3e} ({:1.1e})'.format(e,de, de/e)\n",
    "    latexStr = '${:.2f} \\pm {:.2f}$'.format(100*e, 100*de)\n",
    "    \n",
    "    e, de = getEff(N_cand, N_trg)\n",
    "    d.effCAND_cand = e, de\n",
    "    print 'eff candidates (cand): {:1.3e} +/- {:1.3e} ({:1.1e})'.format(e,de, de/e)\n",
    "    latexStr += ' & ${:.2f} \\pm {:.2f}$'.format(100*e, 100*de)\n",
    "    \n",
    "    \n",
    "    e, de = getEff(N_cand, N_analyzed)\n",
    "    d.effCAND = e, de\n",
    "    print 'eff candidates: {:1.3e} +/- {:1.3e} ({:1.1e})'.format(e,de, de/e)\n",
    "    latexStr += ' & ${:.2f} \\pm {:.2f}$\\\\'.format(100*e, 100*de)\n",
    "    print latexStr\n",
    "    \n",
    "    print 'Getting the total rates (if existing)'\n",
    "    try:\n",
    "        fCandLoc = glob(os.path.join(d.ntuples_dir,'out_CAND_*.root'))[0]\n",
    "        fCand = ur.open(fCandLoc)\n",
    "        Trate = fCand['p']['Trate']\n",
    "        d.rate = {}\n",
    "        for k in Trate.keys():\n",
    "            r = Trate.array(k)[0]\n",
    "            r *= 1e12 #GeV -> meV\n",
    "            d.rate[str(k)] = r\n",
    "        print 'Done'\n",
    "    except:\n",
    "        print 'Not found'\n",
    "    \n",
    "    dump_dic = {'nTotMINIAOD': int(d.nTotMINIAOD), 'nTotCAND': int(d.nTotCAND)}\n",
    "    for k in ['effCAND', 'effCAND_trg', 'effCAND_cand']:\n",
    "        aux = getattr(d, k)\n",
    "        dump_dic[k] = [float(aux[0]), float(aux[1])]\n",
    "    if hasattr(d, 'rate'):\n",
    "        for k, v in d.rate.iteritems():\n",
    "            dump_dic['rate_'+k] = float(v)\n",
    "    with open(os.path.join(d.ntuples_dir,'effCAND.yaml'), 'w') as dumpF:\n",
    "        dumpF.write(yaml.dump(dump_dic, default_flow_style=False, default_style=''))"
   ]
  },
  {
   "cell_type": "code",
   "execution_count": 16,
   "metadata": {
    "ExecuteTime": {
     "end_time": "2020-07-02T20:06:21.781387Z",
     "start_time": "2020-07-02T20:06:20.639873Z"
    }
   },
   "outputs": [
    {
     "name": "stdout",
     "output_type": "stream",
     "text": [
      "+----------+-------+-------+-------+-------+-------+-------+-------+-------+------+------+------+------+------+\n",
      "|  Sample  |   0   |   1   |   2   |   3   |   4   |   5   |   6   |   7   |  8   |  9   |  10  |  11  |  12  |\n",
      "+----------+-------+-------+-------+-------+-------+-------+-------+-------+------+------+------+------+------+\n",
      "| muHQET_0 | 24.26 | 23.28 | 23.14 | 20.47 | 18.19 | 15.18 | 12.20 | 12.17 | 7.85 | 4.54 | 2.82 | 2.65 | 2.65 |\n",
      "|   mu_0   | 24.27 | 23.28 | 23.14 | 20.47 | 18.19 | 15.17 | 12.18 | 12.15 | 7.86 | 4.57 | 2.86 | 2.68 | 2.68 |\n",
      "+----------+-------+-------+-------+-------+-------+-------+-------+-------+------+------+------+------+------+\n"
     ]
    },
    {
     "data": {
      "image/png": "[encoded data removed]",
      "text/plain": [
       "<matplotlib.figure.Figure at 0x7fc66ff9efd0>"
      ]
     },
     "metadata": {},
     "output_type": "display_data"
    }
   ],
   "source": [
    "t = PrettyTable()\n",
    "t.field_names = ['Sample'] + [str(i) for i in range(d.counters.shape[0])]\n",
    "for n, d in inDic.iteritems():\n",
    "    eff = np.zeros((d.counters.shape[0], 2))\n",
    "    eff[0] = d.effCAND_trg\n",
    "    for i in range(d.counters[1:].shape[0]):\n",
    "        eff[i+1] = getEff(d.counters[i+1], d.nTotMINIAOD)\n",
    "    t.add_row([n] + ['{:.2f}'.format(100*e[0]) for e in eff])\n",
    "    x = np.arange(eff.shape[0])\n",
    "    p = plt.errorbar(x, eff[:, 0], eff[:,1], lw=0, elinewidth=5, label=n)\n",
    "    \n",
    "#     plt.plot(x[[0,-1]], 2*[d.effCAND[0]], '-', color=p[0].get_color())\n",
    "#     plt.fill_between(x[[0,-1]], 2*[d.effCAND[0]-d.effCAND[1]], 2*[d.effCAND[0]+d.effCAND[1]], color=p[0].get_color(), alpha=0.2)\n",
    "print t\n",
    "plt.rcParams.update({'font.size': 20})\n",
    "plt.xlabel('Counter')\n",
    "plt.ylabel('Efficiency')\n",
    "plt.legend(loc='best', numpoints=1)\n",
    "plt.ylim(0.01,1.05)\n",
    "plt.xlim(-1, eff.shape[0])\n",
    "plt.grid(True, which='both')\n",
    "plt.yscale('log')\n",
    "plt.gcf().set_size_inches(10, 6)"
   ]
  },
  {
   "cell_type": "code",
   "execution_count": 17,
   "metadata": {
    "ExecuteTime": {
     "end_time": "2020-07-02T20:06:22.321054Z",
     "start_time": "2020-07-02T20:06:21.787297Z"
    }
   },
   "outputs": [
    {
     "name": "stdout",
     "output_type": "stream",
     "text": [
      "+----------+-------+-------+-------+-------+-------+-------+-------+-------+-------+-------+-------+-------+--------+\n",
      "|  Sample  |   0   |   1   |   2   |   3   |   4   |   5   |   6   |   7   |   8   |   9   |   10  |   11  |   12   |\n",
      "+----------+-------+-------+-------+-------+-------+-------+-------+-------+-------+-------+-------+-------+--------+\n",
      "| muHQET_0 | 24.26 | 95.99 | 99.38 | 88.48 | 88.88 | 83.45 | 80.35 | 99.78 | 64.50 | 57.88 | 62.12 | 93.71 | 100.00 |\n",
      "|   mu_0   | 24.27 | 95.94 | 99.38 | 88.47 | 88.84 | 83.44 | 80.26 | 99.78 | 64.71 | 58.07 | 62.72 | 93.58 | 100.00 |\n",
      "+----------+-------+-------+-------+-------+-------+-------+-------+-------+-------+-------+-------+-------+--------+\n"
     ]
    },
    {
     "data": {
      "image/png": "[encoded data removed]",
      "text/plain": [
       "<matplotlib.figure.Figure at 0x7fc66ff9ed50>"
      ]
     },
     "metadata": {},
     "output_type": "display_data"
    }
   ],
   "source": [
    "t = PrettyTable()\n",
    "t.field_names = ['Sample'] + [str(i) for i in range(d.counters.shape[0])]\n",
    "for n, d in inDic.iteritems():\n",
    "    eff = np.zeros((d.counters.shape[0], 2))\n",
    "    eff[0] = d.effCAND_trg\n",
    "    for i in range(d.counters[1:].shape[0]):\n",
    "        eff[i+1] = getEff(d.counters[i+1], d.counters[i])\n",
    "    t.add_row([n] + ['{:.2f}'.format(100*e[0]) for e in eff])\n",
    "    x = np.arange(eff.shape[0])\n",
    "    p = plt.errorbar(x, eff[:, 0], eff[:,1], fmt='o', lw=0, elinewidth=5, label=n)\n",
    "print t\n",
    "plt.rcParams.update({'font.size': 20})\n",
    "plt.xlabel('Counter')\n",
    "plt.ylabel('Efficiency')\n",
    "plt.legend(loc='best', numpoints=1)\n",
    "plt.ylim(0.2,1.05)\n",
    "plt.xlim(-1, eff.shape[0])\n",
    "plt.grid(True, which='both')\n",
    "plt.yscale('log')\n",
    "plt.gcf().set_size_inches(10, 6)"
   ]
  },
  {
   "cell_type": "code",
   "execution_count": null,
   "metadata": {},
   "outputs": [],
   "source": []
  }
 ],
 "metadata": {
  "kernelspec": {
   "display_name": "Python 2",
   "language": "python",
   "name": "python2"
  },
  "language_info": {
   "codemirror_mode": {
    "name": "ipython",
    "version": 2
   },
   "file_extension": ".py",
   "mimetype": "text/x-python",
   "name": "python",
   "nbconvert_exporter": "python",
   "pygments_lexer": "ipython2",
   "version": "2.7.14+"
  },
  "varInspector": {
   "cols": {
    "lenName": 16,
    "lenType": 16,
    "lenVar": 40
   },
   "kernels_config": {
    "python": {
     "delete_cmd_postfix": "",
     "delete_cmd_prefix": "del ",
     "library": "var_list.py",
     "varRefreshCmd": "print(var_dic_list())"
    },
    "r": {
     "delete_cmd_postfix": ") ",
     "delete_cmd_prefix": "rm(",
     "library": "var_list.r",
     "varRefreshCmd": "cat(var_dic_list()) "
    }
   },
   "types_to_exclude": [
    "module",
    "function",
    "builtin_function_or_method",
    "instance",
    "_Feature"
   ],
   "window_display": false
  }
 },
 "nbformat": 4,
 "nbformat_minor": 2
}
