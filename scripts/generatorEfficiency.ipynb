{
 "cells": [
  {
   "cell_type": "markdown",
   "metadata": {},
   "source": [
    "Notebook to collect the information of the generation"
   ]
  },
  {
   "cell_type": "markdown",
   "metadata": {},
   "source": [
    "### Import"
   ]
  },
  {
   "cell_type": "code",
   "execution_count": 1,
   "metadata": {
    "ExecuteTime": {
     "end_time": "2020-05-10T06:20:30.264804Z",
     "start_time": "2020-05-10T06:20:30.061202Z"
    }
   },
   "outputs": [],
   "source": [
    "import sys, os, re, yaml, pickle\n",
    "import commands\n",
    "from glob import glob\n",
    "from prettytable import PrettyTable\n",
    "sys.path.append('../lib')\n",
    "\n",
    "import time, datetime"
   ]
  },
  {
   "cell_type": "code",
   "execution_count": 2,
   "metadata": {
    "ExecuteTime": {
     "end_time": "2020-05-10T06:20:30.284856Z",
     "start_time": "2020-05-10T06:20:30.269715Z"
    }
   },
   "outputs": [],
   "source": [
    "import signal\n",
    "\n",
    "class TimeoutError(Exception):\n",
    "    pass\n",
    "\n",
    "class timeout:\n",
    "    def __init__(self, seconds=1, error_message='Timeout'):\n",
    "        self.seconds = seconds\n",
    "        self.error_message = error_message\n",
    "    def handle_timeout(self, signum, frame):\n",
    "        raise TimeoutError(self.error_message)\n",
    "    def __enter__(self):\n",
    "        signal.signal(signal.SIGALRM, self.handle_timeout)\n",
    "        signal.alarm(self.seconds)\n",
    "    def __exit__(self, type, value, traceback):\n",
    "        signal.alarm(0)\n",
    "\n",
    "# with timeout(seconds=1):\n",
    "#     try:\n",
    "#         time.sleep(2)\n",
    "#     except TimeoutError:\n",
    "#         print 'Got it'"
   ]
  },
  {
   "cell_type": "code",
   "execution_count": 3,
   "metadata": {
    "ExecuteTime": {
     "end_time": "2020-05-10T06:20:31.910424Z",
     "start_time": "2020-05-10T06:20:30.288299Z"
    }
   },
   "outputs": [],
   "source": [
    "import numpy as np\n",
    "from scipy.stats import mode\n",
    "import matplotlib.pyplot as plt\n",
    "from prettytable import PrettyTable\n",
    "from progressBar import ProgressBar"
   ]
  },
  {
   "cell_type": "code",
   "execution_count": 4,
   "metadata": {
    "ExecuteTime": {
     "end_time": "2020-05-10T06:20:38.688046Z",
     "start_time": "2020-05-10T06:20:31.915410Z"
    }
   },
   "outputs": [
    {
     "name": "stdout",
     "output_type": "stream",
     "text": [
      "Welcome to JupyROOT 6.12/07\n"
     ]
    }
   ],
   "source": [
    "import uproot as ur\n",
    "import ROOT as rt\n",
    "rt.gErrorIgnoreLevel = rt.kError\n",
    "rt.RooMsgService.instance().setGlobalKillBelow(rt.RooFit.ERROR)"
   ]
  },
  {
   "cell_type": "code",
   "execution_count": 5,
   "metadata": {
    "ExecuteTime": {
     "end_time": "2020-05-10T06:20:38.983954Z",
     "start_time": "2020-05-10T06:20:38.693098Z"
    }
   },
   "outputs": [],
   "source": [
    "# load FWLite C++ libraries\n",
    "rt.gSystem.Load(\"libFWCoreFWLite.so\");\n",
    "rt.gSystem.Load(\"libDataFormatsFWLite.so\");\n",
    "rt.FWLiteEnabler.enable()\n",
    "\n",
    "# load FWlite python libraries\n",
    "from DataFormats.FWLite import Lumis\n",
    "from DataFormats.FWLite import Handle\n",
    "# import commands"
   ]
  },
  {
   "cell_type": "code",
   "execution_count": 6,
   "metadata": {
    "ExecuteTime": {
     "end_time": "2020-05-10T06:20:39.180606Z",
     "start_time": "2020-05-10T06:20:38.989414Z"
    }
   },
   "outputs": [],
   "source": [
    "from analysis_utilities import DSetLoader"
   ]
  },
  {
   "cell_type": "markdown",
   "metadata": {},
   "source": [
    "# Inputs"
   ]
  },
  {
   "cell_type": "markdown",
   "metadata": {},
   "source": [
    "Max 3 dataset per time otherwise run out of memory"
   ]
  },
  {
   "cell_type": "code",
   "execution_count": 7,
   "metadata": {
    "ExecuteTime": {
     "end_time": "2020-05-10T06:20:39.234122Z",
     "start_time": "2020-05-10T06:20:39.187717Z"
    }
   },
   "outputs": [],
   "source": [
    "inDic = {}"
   ]
  },
  {
   "cell_type": "code",
   "execution_count": 8,
   "metadata": {
    "ExecuteTime": {
     "end_time": "2020-05-10T06:20:42.801954Z",
     "start_time": "2020-05-10T06:20:39.240754Z"
    }
   },
   "outputs": [
    {
     "name": "stdout",
     "output_type": "stream",
     "text": [
      "CAND efficiency file missing.\n",
      "CAND efficiency file missing.\n",
      "CAND efficiency file missing.\n"
     ]
    }
   ],
   "source": [
    "# inDic['muHQET_0'] = DSetLoader('B0_MuNuDmst_HQETcentral_PU0')\n",
    "# inDic['mu_0'] = DSetLoader('B0_MuNuDmst_PU0')\n",
    "# inDic['mu_20'] = DSetLoader('B0_MuNuDmst_PU20')\n",
    "inDic['mu_c0'] = DSetLoader('B0_MuNuDmst_PUc0')\n",
    "# inDic['mu_35'] = DSetLoader('B0_MuNuDmst_PU35')\n",
    "\n",
    "# inDic['tau_0'] = DSetLoader('B0_TauNuDmst_PU0')\n",
    "# inDic['tau_20'] = DSetLoader('B0_TauNuDmst_PU20')\n",
    "inDic['tau_c0'] = DSetLoader('B0_TauNuDmst_PUc0')\n",
    "# inDic['tau_35'] = DSetLoader('B0_TauNuDmst_PU35')\n",
    "\n",
    "# inDic['Hc_20'] = DSetLoader('B0_DmstHc_PU20')\n",
    "inDic['Hc_c0'] = DSetLoader('B0_DmstHc_PUc0')\n",
    "\n",
    "inDic['DstmDsp'] = DSetLoader('B0_DstmDsp_PUc0')\n",
    "\n",
    "inDic['DstmDp'] = DSetLoader('B0_DstmDp_PUc0')\n",
    "\n",
    "inDic['DstmD0'] = DSetLoader('B0_DstmD0_PUc0')\n",
    "\n",
    "# inDic['DstPip_20'] = DSetLoader('Bp_MuNuDstst_PU20')\n",
    "inDic['DstPip_c0'] = DSetLoader('Bp_MuNuDstst_Pip_PUc0')\n",
    "\n",
    "inDic['DstPi0_c0'] = DSetLoader('B0_MuNuDstst_Pi0_PUc0')\n",
    "\n",
    "inDic['DstPi0nR_c0'] = DSetLoader('B0_DmstPi0MuNu_PUc0')\n",
    "\n",
    "inDic['DststPipPi0_c0'] = DSetLoader('Bp_MuNuDstst_PipPi0_PUc0')\n",
    "\n",
    "inDic['DststPipPim_c0'] = DSetLoader('B0_MuNuDstst_PipPim_PUc0')\n",
    "\n",
    "inDic['DststPi0Pi0_c0'] = DSetLoader('B0_MuNuDstst_Pi0Pi0_PUc0')"
   ]
  },
  {
   "cell_type": "code",
   "execution_count": 9,
   "metadata": {
    "ExecuteTime": {
     "end_time": "2020-05-10T06:20:42.821084Z",
     "start_time": "2020-05-10T06:20:42.807115Z"
    }
   },
   "outputs": [],
   "source": [
    "# inDic['mu_0'] = DSetLoader('B0_MuNuDmst_PU0', candDir='ntuples_probeB2DstMu')\n",
    "# inDic['p_mu_c0'] = DSetLoader('p_B0_MuNuDst_PUc0', candDir='ntuples_probeB2DstMu')\n",
    "# inDic['p_tau_c0'] = DSetLoader('p_B0_TauNuDst_PUc0', candDir='ntuples_probeB2DstMu')"
   ]
  },
  {
   "cell_type": "code",
   "execution_count": 10,
   "metadata": {
    "ExecuteTime": {
     "end_time": "2020-05-10T06:20:42.911742Z",
     "start_time": "2020-05-10T06:20:42.825809Z"
    }
   },
   "outputs": [],
   "source": [
    "# inDic['JPsiKst_0'] = DSetLoader('B0_JpsiKst_PU0', candDir='ntuples_B2JpsiKst')\n",
    "# inDic['JPsiKst_20'] = DSetLoader('B0_JpsiKst_PU20', candDir='ntuples_B2JpsiKst')\n",
    "# inDic['JPsiKst_35'] = DSetLoader('B0_JpsiKst_PU35', candDir='ntuples_B2JpsiKst')\n",
    "\n",
    "# inDic['JPsiKstFSR_20'] = DSetLoader('B0_JpsiKstFSR_PU20', candDir='ntuples_B2JpsiKst')"
   ]
  },
  {
   "cell_type": "markdown",
   "metadata": {},
   "source": [
    "# Efficiency"
   ]
  },
  {
   "cell_type": "code",
   "execution_count": 11,
   "metadata": {
    "ExecuteTime": {
     "end_time": "2020-05-10T06:20:43.031916Z",
     "start_time": "2020-05-10T06:20:42.916579Z"
    }
   },
   "outputs": [],
   "source": [
    "def getEff(k,N):\n",
    "    e = k/float(N)\n",
    "    de = np.sqrt(e*(1-e)/N)\n",
    "    return [e, de]"
   ]
  },
  {
   "cell_type": "markdown",
   "metadata": {},
   "source": [
    "## Generator Efficiency"
   ]
  },
  {
   "cell_type": "code",
   "execution_count": 12,
   "metadata": {
    "ExecuteTime": {
     "end_time": "2020-05-10T06:20:46.156874Z",
     "start_time": "2020-05-10T06:20:43.036733Z"
    }
   },
   "outputs": [],
   "source": [
    "handle = {}\n",
    "handle['genFilter'] = [Handle('GenFilterInfo'), ('genFilterEfficiencyProducer', '', 'SIM')]\n",
    "handle['genProduct'] = [Handle('GenLumiInfoProduct'), ('generator', '', 'SIM')]"
   ]
  },
  {
   "cell_type": "code",
   "execution_count": 13,
   "metadata": {
    "ExecuteTime": {
     "end_time": "2020-05-10T06:20:46.208586Z",
     "start_time": "2020-05-10T06:20:46.162344Z"
    }
   },
   "outputs": [],
   "source": [
    "def analyzeMINIAODs(fileList):  \n",
    "    print 'Analizing', len(fileList), 'MINIAOD'\n",
    "    N_gen = 0\n",
    "    N_cuts = 0\n",
    "    xsec = []\n",
    "    xsec_err = []\n",
    "    pb = ProgressBar(maxEntry=len(fileList))\n",
    "    skippedFiles = []\n",
    "    for i_j, fileName in enumerate(fileList):\n",
    "        pb.show(i_j)\n",
    "        with timeout(seconds=1):\n",
    "            try:\n",
    "#                 cmd = 'python generatorEfficiency_MINIAODSIM.py ' + fileName\n",
    "#                 status, output = commands.getstatusoutput(cmd)\n",
    "#                 aux = output.split(' ')\n",
    "#                 N_gen += float(aux[0])\n",
    "#                 N_cuts += float(aux[1])\n",
    "#                 xsec.append(float(aux[2]))\n",
    "#                 xsec_err.append(float(aux[4]))\n",
    "                for lumi in Lumis(fileName):\n",
    "                    prods = {}\n",
    "                    for k,v in handle.iteritems():\n",
    "                        lumi.getByLabel(v[1], v[0])\n",
    "                        prods[k] = v[0].product()\n",
    "                    N_cuts += prods['genFilter'].numEventsPassed()\n",
    "                    N_gen += prods['genFilter'].numEventsTotal()\n",
    "                    xs = prods['genProduct'].getProcessInfos()[0].lheXSec()\n",
    "                    xsec.append(xs.value())\n",
    "                    xsec_err.append(xs.error())\n",
    "            except TimeoutError:\n",
    "                skippedFiles.append(fileName)\n",
    "    print 'Skipped {} files'.format(len(skippedFiles))\n",
    "    print 'Total events in analyzed MINIAODs', N_cuts\n",
    "    xsec = np.array(xsec)\n",
    "    xsec_err = np.array(xsec_err)\n",
    "    return N_gen, N_cuts, xsec, xsec_err"
   ]
  },
  {
   "cell_type": "code",
   "execution_count": 14,
   "metadata": {
    "ExecuteTime": {
     "end_time": "2020-05-10T06:37:16.468483Z",
     "start_time": "2020-05-10T06:20:46.213334Z"
    }
   },
   "outputs": [
    {
     "name": "stdout",
     "output_type": "stream",
     "text": [
      "\n",
      "\n",
      "--> B0_MuNuDstst_Pi0_PUc0\n",
      "Already present\n",
      "{'xsec': [148778890200.4004, 5089288.822047326], 'effGEN': [0.0016681752203398733, 2.8964634688699674e-06]}\n",
      "\n",
      "\n",
      "--> B0_DstmDp_PUc0\n",
      "Analizing 1000 MINIAOD\n",
      "[####################]  100% - Tot. time: 254.2 s\n",
      "Skipped 39 files\n",
      "Total events in analyzed MINIAODs 66810\n",
      "Xsec: 1.4878e+11 +/- 3.2713e+06 fb (2.2e-05)\n",
      "eff generator: 1.390e-04 +/- 5.379e-07 (3.9e-03)\n",
      "\n",
      "\n",
      "--> B0_MuNuDstst_Pi0Pi0_PUc0\n",
      "Already present\n",
      "{'xsec': [148774360736.96924, 5161460.982964977], 'effGEN': [0.0016583937823834197, 2.928901465576616e-06]}\n",
      "\n",
      "\n",
      "--> B0_DmstHc_PUc0\n",
      "Already present\n",
      "{'xsec': [148788469794.0802, 4163810.500592461], 'effGEN': [0.0004763674093172517, 1.267036162113285e-06]}\n",
      "\n",
      "\n",
      "--> B0_DmstPi0MuNu_PUc0\n",
      "Already present\n",
      "{'xsec': [148780311350.5397, 5116770.189082066], 'effGEN': [0.001888940565589403, 3.098326708691149e-06]}\n",
      "\n",
      "\n",
      "--> B0_DstmDsp_PUc0\n",
      "Analizing 1000 MINIAOD\n",
      "[####################]  100% - Tot. time: 491.6 s\n",
      "Skipped 48 files\n",
      "Total events in analyzed MINIAODs 220789\n",
      "Xsec: 1.4878e+11 +/- 4.2460e+06 fb (2.9e-05)\n",
      "eff generator: 7.742e-04 +/- 1.647e-06 (2.1e-03)\n",
      "\n",
      "\n",
      "--> B0_TauNuDmst_PUc0\n",
      "Already present\n",
      "{'xsec': [148775889413.01022, 5150860.645516099], 'effGEN': [0.0008566460268317854, 2.1015402779430175e-06]}\n",
      "\n",
      "\n",
      "--> B0_MuNuDstst_PipPim_PUc0\n",
      "Already present\n",
      "{'xsec': [148785953669.81827, 5156584.266472042], 'effGEN': [0.0016565818506610963, 2.9242836912310112e-06]}\n",
      "\n",
      "\n",
      "--> B0_DstmD0_PUc0\n",
      "Analizing 1000 MINIAOD\n",
      "[####################]  100% - Tot. time: 241.7 s\n",
      "Skipped 32 files\n",
      "Total events in analyzed MINIAODs 43775\n",
      "Xsec: 1.4878e+11 +/- 4.2076e+06 fb (2.8e-05)\n",
      "eff generator: 1.507e-04 +/- 7.204e-07 (4.8e-03)\n",
      "\n",
      "\n",
      "--> Bp_MuNuDstst_Pip_PUc0\n",
      "Already present\n",
      "{'xsec': [148782981285.01956, 5108822.576785716], 'effGEN': [0.0016565986003406958, 2.897362371610159e-06]}\n",
      "\n",
      "\n",
      "--> B0_MuNuDmst_PUc0\n",
      "Already present\n",
      "{'xsec': [148780551859.27094, 4859041.069082328], 'effGEN': [0.004454009303973196, 4.512108924850881e-06]}\n",
      "\n",
      "\n",
      "--> Bp_MuNuDstst_PipPi0_PUc0\n",
      "Already present\n",
      "{'xsec': [148782645285.28226, 5148465.385973204], 'effGEN': [0.001652278350515464, 2.9159606353033243e-06]}\n"
     ]
    },
    {
     "name": "stderr",
     "output_type": "stream",
     "text": [
      "SysError in <TFile::ReadBuffer>: error reading from file /mnt/hadoop/store/user/ocerri/cmsMC_private_PUc0_10-2-3/BP_Tag_B0_DstmDsp_Hardbbbar_evtgen_ISGW2_200506/200506_202414/0002/out_MINIAODSIM_2635.root (Input/output error)\n",
      "Error in <TFile::Init>: /mnt/hadoop/store/user/ocerri/cmsMC_private_PUc0_10-2-3/BP_Tag_B0_DstmDsp_Hardbbbar_evtgen_ISGW2_200506/200506_202414/0002/out_MINIAODSIM_2635.root failed to read the file type data.\n",
      "SysError in <TFile::ReadBuffer>: error reading from file /mnt/hadoop/store/user/ocerri/cmsMC_private_PUc0_10-2-3/BP_Tag_B0_DstmDsp_Hardbbbar_evtgen_ISGW2_200506/200506_202414/0002/out_MINIAODSIM_2635.root (Input/output error)\n",
      "Error in <TFile::Init>: /mnt/hadoop/store/user/ocerri/cmsMC_private_PUc0_10-2-3/BP_Tag_B0_DstmDsp_Hardbbbar_evtgen_ISGW2_200506/200506_202414/0002/out_MINIAODSIM_2635.root failed to read the file type data.\n"
     ]
    }
   ],
   "source": [
    "N_max = 1000\n",
    "recreate = []#inDic.keys()\n",
    "for n, d in inDic.iteritems():\n",
    "    print '\\n\\n--> ' + d.sample\n",
    "    \n",
    "    outdir = os.path.join(d.candLoc, d.full_name)\n",
    "    outyamlFile = os.path.join(outdir,'effMCgenerator.yaml')\n",
    "    if os.path.isfile(outyamlFile) and not n in recreate:\n",
    "        print 'Already present'\n",
    "        dic = yaml.load(open(outyamlFile, 'r'))\n",
    "        print dic\n",
    "        continue\n",
    "        \n",
    "    fileList = []\n",
    "    for directory in d.MINIAOD_dirs:\n",
    "        fileList += glob(directory + '/out_MINIAODSIM_*.root')\n",
    "    if N_max > 0 and N_max < len(fileList):\n",
    "        fileList = np.random.choice(fileList, N_max)\n",
    "    \n",
    "    N_gen, N_cuts, xsec, xsec_err = analyzeMINIAODs(fileList)\n",
    "    s2 = np.square(xsec_err)\n",
    "    num = np.sum(xsec/s2)\n",
    "    den = np.sum(1./s2)\n",
    "    xsec = 1e3*num/den\n",
    "    xsec_err = 1e3*np.sqrt(1/den)\n",
    "    print 'Xsec: {:1.4e} +/- {:1.4e} fb ({:1.1e})'.format(xsec, xsec_err, xsec_err/xsec)\n",
    "    d.xsec = [xsec, xsec_err]\n",
    "    \n",
    "    e, de = getEff(N_cuts, N_gen)\n",
    "    print 'eff generator: {:1.3e} +/- {:1.3e} ({:1.1e})'.format(e,de, de/e)\n",
    "    d.effGEN = [e, de]\n",
    "\n",
    "    dump_dic = {}\n",
    "    for k in ['xsec', 'effGEN']:\n",
    "        aux = getattr(d, k)\n",
    "        dump_dic[k] = [float(aux[0]), float(aux[1])]\n",
    "    if not os.path.isdir(outdir):\n",
    "        os.makedirs(outdir)\n",
    "    with open(outyamlFile, 'w') as dumpF:\n",
    "        dumpF.write(yaml.dump(dump_dic, default_flow_style=False, default_style=''))"
   ]
  },
  {
   "cell_type": "markdown",
   "metadata": {},
   "source": [
    "## ntuplizer efficiency"
   ]
  },
  {
   "cell_type": "code",
   "execution_count": 15,
   "metadata": {
    "ExecuteTime": {
     "end_time": "2020-05-10T06:38:10.869375Z",
     "start_time": "2020-05-10T06:37:16.473527Z"
    },
    "code_folding": []
   },
   "outputs": [
    {
     "name": "stdout",
     "output_type": "stream",
     "text": [
      "\n",
      "\n",
      "--> B0_MuNuDstst_Pi0_PUc0\n",
      "Analyzing 124 ntuplizer job logs\n",
      "[####################]  100% - Tot. time: 2.1 s\n",
      "Total MINIAOD: 3284029\n",
      "Total candidates: 197715\n",
      "eff candidates (trigger): 4.086e-01 +/- 2.713e-04 (6.6e-04)\n",
      "eff candidates (cand): 1.473e-01 +/- 3.060e-04 (2.1e-03)\n",
      "eff candidates: 6.021e-02 +/- 1.313e-04 (2.2e-03)\n",
      "Getting the total rates (if existing)\n",
      "Not found\n",
      "\n",
      "\n",
      "--> B0_DstmDp_PUc0\n",
      "Analyzing 125 ntuplizer job logs\n",
      "[####################]  100% - Tot. time: 0.0 s\n",
      "Total MINIAOD: 693141\n",
      "Total candidates: 31718\n",
      "eff candidates (trigger): 4.840e-01 +/- 6.003e-04 (1.2e-03)\n",
      "eff candidates (cand): 9.454e-02 +/- 5.051e-04 (5.3e-03)\n",
      "eff candidates: 4.576e-02 +/- 2.510e-04 (5.5e-03)\n",
      "Getting the total rates (if existing)\n",
      "Not found\n",
      "\n",
      "\n",
      "--> B0_MuNuDstst_Pi0Pi0_PUc0\n",
      "Analyzing 195 ntuplizer job logs\n",
      "[####################]  100% - Tot. time: 3.0 s\n",
      "Total MINIAOD: 3220688\n",
      "Total candidates: 189887\n",
      "eff candidates (trigger): 4.134e-01 +/- 2.744e-04 (6.6e-04)\n",
      "eff candidates (cand): 1.426e-01 +/- 3.030e-04 (2.1e-03)\n",
      "eff candidates: 5.896e-02 +/- 1.313e-04 (2.2e-03)\n",
      "Getting the total rates (if existing)\n",
      "Not found\n",
      "\n",
      "\n",
      "--> B0_DmstHc_PUc0\n",
      "Analyzing 250 ntuplizer job logs\n",
      "[####################]  100% - Tot. time: 3.9 s\n",
      "Total MINIAOD: 2832049\n",
      "Total candidates: 89874\n",
      "eff candidates (trigger): 2.903e-01 +/- 2.697e-04 (9.3e-04)\n",
      "eff candidates (cand): 1.093e-01 +/- 3.441e-04 (3.1e-03)\n",
      "eff candidates: 3.173e-02 +/- 1.042e-04 (3.3e-03)\n",
      "Getting the total rates (if existing)\n",
      "Not found\n",
      "\n",
      "\n",
      "--> B0_DmstPi0MuNu_PUc0\n",
      "Analyzing 123 ntuplizer job logs\n",
      "[####################]  100% - Tot. time: 2.1 s\n",
      "Total MINIAOD: 3601836\n",
      "Total candidates: 142223\n",
      "eff candidates (trigger): 3.591e-01 +/- 2.528e-04 (7.0e-04)\n",
      "eff candidates (cand): 1.100e-01 +/- 2.751e-04 (2.5e-03)\n",
      "eff candidates: 3.949e-02 +/- 1.026e-04 (2.6e-03)\n",
      "Getting the total rates (if existing)\n",
      "Not found\n",
      "\n",
      "\n",
      "--> B0_DstmDsp_PUc0\n",
      "Analyzing 125 ntuplizer job logs\n",
      "[####################]  100% - Tot. time: 0.0 s\n",
      "Total MINIAOD: 2317609\n",
      "Total candidates: 82535\n",
      "eff candidates (trigger): 3.395e-01 +/- 3.111e-04 (9.2e-04)\n",
      "eff candidates (cand): 1.049e-01 +/- 3.455e-04 (3.3e-03)\n",
      "eff candidates: 3.561e-02 +/- 1.217e-04 (3.4e-03)\n",
      "Getting the total rates (if existing)\n",
      "Not found\n",
      "\n",
      "\n",
      "--> B0_TauNuDmst_PUc0\n",
      "Analyzing 373 ntuplizer job logs\n",
      "[####################]  100% - Tot. time: 6.1 s\n",
      "Total MINIAOD: 5066009\n",
      "Total candidates: 217531\n",
      "eff candidates (trigger): 4.044e-01 +/- 2.180e-04 (5.4e-04)\n",
      "eff candidates (cand): 1.062e-01 +/- 2.152e-04 (2.0e-03)\n",
      "eff candidates: 4.294e-02 +/- 9.007e-05 (2.1e-03)\n",
      "Getting the total rates (if existing)\n",
      "Done\n",
      "\n",
      "\n",
      "--> B0_MuNuDstst_PipPim_PUc0\n",
      "Analyzing 197 ntuplizer job logs\n",
      "[####################]  100% - Tot. time: 3.0 s\n",
      "Total MINIAOD: 3247174\n",
      "Total candidates: 313107\n",
      "eff candidates (trigger): 4.131e-01 +/- 2.732e-04 (6.6e-04)\n",
      "eff candidates (cand): 2.334e-01 +/- 3.652e-04 (1.6e-03)\n",
      "eff candidates: 9.642e-02 +/- 1.638e-04 (1.7e-03)\n",
      "Getting the total rates (if existing)\n",
      "Not found\n",
      "\n",
      "\n",
      "--> B0_DstmD0_PUc0\n",
      "Analyzing 125 ntuplizer job logs\n",
      "[####################]  100% - Tot. time: 0.0 s\n",
      "Total MINIAOD: 453373\n",
      "Total candidates: 28995\n",
      "eff candidates (trigger): 4.185e-01 +/- 7.327e-04 (1.8e-03)\n",
      "eff candidates (cand): 1.528e-01 +/- 8.260e-04 (5.4e-03)\n",
      "eff candidates: 6.395e-02 +/- 3.634e-04 (5.7e-03)\n",
      "Getting the total rates (if existing)\n",
      "Not found\n",
      "\n",
      "\n",
      "--> Bp_MuNuDstst_Pip_PUc0\n",
      "Analyzing 372 ntuplizer job logs\n",
      "[####################]  100% - Tot. time: 5.7 s\n",
      "Total MINIAOD: 6066096\n",
      "Total candidates: 389695\n",
      "eff candidates (trigger): 4.090e-01 +/- 1.996e-04 (4.9e-04)\n",
      "eff candidates (cand): 1.571e-01 +/- 2.310e-04 (1.5e-03)\n",
      "eff candidates: 6.424e-02 +/- 9.955e-05 (1.5e-03)\n",
      "Getting the total rates (if existing)\n",
      "Done\n",
      "\n",
      "\n",
      "--> B0_MuNuDmst_PUc0\n",
      "Analyzing 1488 ntuplizer job logs\n",
      "[####################]  100% - Tot. time: 23.5 s\n",
      "Total MINIAOD: 63648731\n",
      "Total candidates: 2183457\n",
      "eff candidates (trigger): 3.655e-01 +/- 6.036e-05 (1.7e-04)\n",
      "eff candidates (cand): 9.386e-02 +/- 6.047e-05 (6.4e-04)\n",
      "eff candidates: 3.430e-02 +/- 2.281e-05 (6.7e-04)\n",
      "Getting the total rates (if existing)\n",
      "Done\n",
      "\n",
      "\n",
      "--> Bp_MuNuDstst_PipPi0_PUc0\n",
      "Analyzing 183 ntuplizer job logs\n",
      "[####################]  100% - Tot. time: 2.9 s\n",
      "Total MINIAOD: 3014692\n",
      "Total candidates: 187125\n",
      "eff candidates (trigger): 4.135e-01 +/- 2.836e-04 (6.9e-04)\n",
      "eff candidates (cand): 1.501e-01 +/- 3.199e-04 (2.1e-03)\n",
      "eff candidates: 6.207e-02 +/- 1.390e-04 (2.2e-03)\n",
      "Getting the total rates (if existing)\n",
      "Done\n"
     ]
    }
   ],
   "source": [
    "for d in inDic.values():\n",
    "    print '\\n\\n--> ' + d.sample\n",
    "\n",
    "    if not os.path.isdir(d.ntuples_dir):\n",
    "        continue\n",
    "    cand_out_list = glob(os.path.join(d.ntuples_dir,'out/job*.out'))\n",
    "    N_analyzed = 0\n",
    "    N_trg = 0\n",
    "    N_cand = 0\n",
    "    print 'Analyzing {} ntuplizer job logs'.format(len(cand_out_list))\n",
    "    pb = ProgressBar(maxEntry=len(cand_out_list))\n",
    "    for ic, cand_out in enumerate(cand_out_list):\n",
    "        pb.show(ic)\n",
    "        eff_ln = []\n",
    "        counters = []\n",
    "        takingCounters = False\n",
    "        for line in open(cand_out).readlines():\n",
    "            if 'efficiency:' in line:\n",
    "                eff_ln.append(line)\n",
    "            elif 'counters:' in line:\n",
    "                    takingCounters = True\n",
    "            elif takingCounters and line[:-1].isdigit():\n",
    "                counters.append(int(line[:-1]))\n",
    "            elif takingCounters:\n",
    "                takingCounters = False\n",
    "\n",
    "        aux = re.search('[0-9]+/[0-9]+', eff_ln[0]).group(0)\n",
    "        aux = aux.split('/')\n",
    "        N_analyzed += int(aux[1])\n",
    "        N_trg += int(aux[0])\n",
    "        \n",
    "        aux = re.search(': [0-9]+/', eff_ln[1]).group(0)\n",
    "        N_cand += int(aux[2:-1])\n",
    "        \n",
    "        counters=np.array(counters)\n",
    "        if not hasattr(d, 'counters'):\n",
    "            d.counters = counters\n",
    "        else:\n",
    "            d.counters += counters\n",
    "        \n",
    "    d.nTotMINIAOD = N_analyzed\n",
    "    d.nTotCAND = N_cand\n",
    "    print 'Total MINIAOD:', N_analyzed\n",
    "    print 'Total candidates:', N_cand\n",
    "    \n",
    "    e, de = getEff(N_trg, N_analyzed)\n",
    "    d.effCAND_trg = e, de\n",
    "    print 'eff candidates (trigger): {:1.3e} +/- {:1.3e} ({:1.1e})'.format(e,de, de/e)\n",
    "    \n",
    "    e, de = getEff(N_cand, N_trg)\n",
    "    d.effCAND_cand = e, de\n",
    "    print 'eff candidates (cand): {:1.3e} +/- {:1.3e} ({:1.1e})'.format(e,de, de/e)\n",
    "    \n",
    "    e, de = getEff(N_cand, N_analyzed)\n",
    "    d.effCAND = e, de\n",
    "    print 'eff candidates: {:1.3e} +/- {:1.3e} ({:1.1e})'.format(e,de, de/e)\n",
    "    \n",
    "    print 'Getting the total rates (if existing)'\n",
    "    try:\n",
    "        fCandLoc = glob(os.path.join(d.ntuples_dir,'out_CAND_*.root'))[0]\n",
    "        fCand = ur.open(fCandLoc)\n",
    "        Trate = fCand['p']['Trate']\n",
    "        d.rate = {}\n",
    "        for k in Trate.keys():\n",
    "            r = Trate.array(k)[0]\n",
    "            r *= 1e12 #GeV -> meV\n",
    "            d.rate[str(k)] = r\n",
    "        print 'Done'\n",
    "    except:\n",
    "        print 'Not found'\n",
    "    \n",
    "    dump_dic = {'nTotMINIAOD': int(d.nTotMINIAOD), 'nTotCAND': int(d.nTotCAND)}\n",
    "    for k in ['effCAND', 'effCAND_trg', 'effCAND_cand']:\n",
    "        aux = getattr(d, k)\n",
    "        dump_dic[k] = [float(aux[0]), float(aux[1])]\n",
    "    if hasattr(d, 'rate'):\n",
    "        for k, v in d.rate.iteritems():\n",
    "            dump_dic['rate_'+k] = float(v)\n",
    "    with open(os.path.join(d.ntuples_dir,'effCAND.yaml'), 'w') as dumpF:\n",
    "        dumpF.write(yaml.dump(dump_dic, default_flow_style=False, default_style=''))"
   ]
  },
  {
   "cell_type": "code",
   "execution_count": 16,
   "metadata": {
    "ExecuteTime": {
     "end_time": "2020-05-10T06:38:12.354601Z",
     "start_time": "2020-05-10T06:38:10.874045Z"
    }
   },
   "outputs": [
    {
     "name": "stdout",
     "output_type": "stream",
     "text": [
      "+----------------+-------+-------+-------+-------+-------+-------+-------+-------+-------+-------+-------+------+------+\n",
      "|     Sample     |   0   |   1   |   2   |   3   |   4   |   5   |   6   |   7   |   8   |   9   |   10  |  11  |  12  |\n",
      "+----------------+-------+-------+-------+-------+-------+-------+-------+-------+-------+-------+-------+------+------+\n",
      "|   DstPi0_c0    | 40.86 | 40.26 | 39.88 | 38.47 | 37.34 | 32.49 | 24.57 | 24.50 | 21.66 | 12.33 |  6.62 | 6.02 | 6.02 |\n",
      "|     DstmDp     | 48.40 | 47.86 | 47.16 | 46.01 | 45.18 | 41.14 | 28.78 | 28.66 | 27.06 | 18.32 |  8.83 | 4.58 | 4.58 |\n",
      "| DststPi0Pi0_c0 | 41.34 | 40.71 | 40.33 | 38.89 | 37.71 | 32.78 | 24.79 | 24.72 | 21.81 | 12.33 |  6.51 | 5.90 | 5.90 |\n",
      "|     Hc_c0      | 29.03 | 28.63 | 28.29 | 27.28 | 26.58 | 23.43 | 15.59 | 15.52 | 14.42 |  9.39 |  4.78 | 3.17 | 3.17 |\n",
      "|  DstPi0nR_c0   | 35.91 | 35.41 | 35.08 | 33.66 | 32.32 | 27.42 | 19.86 | 19.80 | 17.38 |  9.42 |  4.40 | 3.95 | 3.95 |\n",
      "|    DstmDsp     | 33.95 | 33.45 | 33.12 | 31.80 | 30.82 | 26.74 | 18.74 | 18.67 | 16.83 | 10.06 |  5.31 | 3.56 | 3.56 |\n",
      "|     tau_c0     | 40.44 | 39.91 | 39.53 | 37.89 | 36.40 | 31.05 | 22.60 | 22.53 | 19.78 | 11.04 |  5.42 | 4.29 | 4.29 |\n",
      "| DststPipPim_c0 | 41.31 | 40.68 | 40.30 | 39.34 | 38.51 | 35.21 | 25.31 | 25.22 | 23.37 | 16.68 | 10.44 | 9.64 | 9.64 |\n",
      "|     DstmD0     | 41.85 | 41.42 | 40.83 | 40.11 | 39.84 | 37.44 | 26.27 | 26.17 | 25.62 | 19.87 |  8.78 | 6.40 | 6.40 |\n",
      "|   DstPip_c0    | 40.90 | 40.30 | 39.91 | 39.23 | 38.14 | 34.73 | 25.49 | 25.41 | 22.53 | 13.06 |  7.09 | 6.42 | 6.42 |\n",
      "|     mu_c0      | 36.55 | 36.00 | 35.68 | 34.08 | 32.53 | 27.11 | 19.28 | 19.21 | 16.70 |  8.66 |  3.81 | 3.43 | 3.43 |\n",
      "| DststPipPi0_c0 | 41.35 | 40.71 | 40.32 | 39.39 | 38.29 | 34.44 | 25.48 | 25.40 | 22.51 | 12.93 |  6.88 | 6.21 | 6.21 |\n",
      "+----------------+-------+-------+-------+-------+-------+-------+-------+-------+-------+-------+-------+------+------+\n"
     ]
    },
    {
     "data": {
      "image/png": "[encoded data removed]",
      "text/plain": [
       "<matplotlib.figure.Figure at 0x7fe3e60fa850>"
      ]
     },
     "metadata": {},
     "output_type": "display_data"
    }
   ],
   "source": [
    "t = PrettyTable()\n",
    "t.field_names = ['Sample'] + [str(i) for i in range(d.counters.shape[0])]\n",
    "for n, d in inDic.iteritems():\n",
    "    eff = np.zeros((d.counters.shape[0], 2))\n",
    "    eff[0] = d.effCAND_trg\n",
    "    for i in range(d.counters[1:].shape[0]):\n",
    "        eff[i+1] = getEff(d.counters[i+1], d.nTotMINIAOD)\n",
    "    t.add_row([n] + ['{:.2f}'.format(100*e[0]) for e in eff])\n",
    "    x = np.arange(eff.shape[0])\n",
    "    p = plt.errorbar(x, eff[:, 0], eff[:,1], lw=0, elinewidth=5, label=n)\n",
    "    \n",
    "#     plt.plot(x[[0,-1]], 2*[d.effCAND[0]], '-', color=p[0].get_color())\n",
    "#     plt.fill_between(x[[0,-1]], 2*[d.effCAND[0]-d.effCAND[1]], 2*[d.effCAND[0]+d.effCAND[1]], color=p[0].get_color(), alpha=0.2)\n",
    "print t\n",
    "plt.rcParams.update({'font.size': 20})\n",
    "plt.xlabel('Counter')\n",
    "plt.ylabel('Efficiency')\n",
    "plt.legend(loc='best', numpoints=1)\n",
    "plt.ylim(0.01,1.05)\n",
    "plt.xlim(-1, eff.shape[0])\n",
    "plt.grid(True, which='both')\n",
    "plt.yscale('log')\n",
    "plt.gcf().set_size_inches(10, 6)"
   ]
  },
  {
   "cell_type": "code",
   "execution_count": 17,
   "metadata": {
    "ExecuteTime": {
     "end_time": "2020-05-10T06:38:13.439961Z",
     "start_time": "2020-05-10T06:38:12.359103Z"
    }
   },
   "outputs": [
    {
     "name": "stdout",
     "output_type": "stream",
     "text": [
      "+----------------+-------+-------+-------+-------+-------+-------+-------+-------+-------+-------+-------+-------+--------+\n",
      "|     Sample     |   0   |   1   |   2   |   3   |   4   |   5   |   6   |   7   |   8   |   9   |   10  |   11  |   12   |\n",
      "+----------------+-------+-------+-------+-------+-------+-------+-------+-------+-------+-------+-------+-------+--------+\n",
      "|   DstPi0_c0    | 40.86 | 98.51 | 99.07 | 96.46 | 97.06 | 87.03 | 75.61 | 99.70 | 88.42 | 56.93 | 53.72 | 90.89 | 100.00 |\n",
      "|     DstmDp     | 48.40 | 98.89 | 98.53 | 97.56 | 98.20 | 91.05 | 69.95 | 99.61 | 94.42 | 67.68 | 48.21 | 51.82 | 100.00 |\n",
      "| DststPi0Pi0_c0 | 41.34 | 98.47 | 99.07 | 96.42 | 96.99 | 86.90 | 75.64 | 99.72 | 88.23 | 56.53 | 52.80 | 90.56 | 100.00 |\n",
      "|     Hc_c0      | 29.03 | 98.62 | 98.81 | 96.43 | 97.45 | 88.15 | 66.52 | 99.54 | 92.90 | 65.10 | 50.94 | 66.38 | 100.00 |\n",
      "|  DstPi0nR_c0   | 35.91 | 98.61 | 99.05 | 95.95 | 96.04 | 84.82 | 72.45 | 99.69 | 87.79 | 54.21 | 46.67 | 89.77 | 100.00 |\n",
      "|    DstmDsp     | 33.95 | 98.54 | 98.99 | 96.03 | 96.92 | 86.76 | 70.08 | 99.61 | 90.14 | 59.81 | 52.73 | 67.11 | 100.00 |\n",
      "|     tau_c0     | 40.44 | 98.69 | 99.03 | 95.86 | 96.06 | 85.32 | 72.78 | 99.67 | 87.80 | 55.82 | 49.08 | 79.24 | 100.00 |\n",
      "| DststPipPim_c0 | 41.31 | 98.48 | 99.06 | 97.63 | 97.87 | 91.43 | 71.90 | 99.63 | 92.65 | 71.38 | 62.60 | 92.34 | 100.00 |\n",
      "|     DstmD0     | 41.85 | 98.96 | 98.59 | 98.23 | 99.33 | 93.99 | 70.17 | 99.60 | 97.92 | 77.54 | 44.18 | 72.86 | 100.00 |\n",
      "|   DstPip_c0    | 40.90 | 98.51 | 99.05 | 98.29 | 97.23 | 91.06 | 73.38 | 99.70 | 88.69 | 57.94 | 54.32 | 90.58 | 100.00 |\n",
      "|     mu_c0      | 36.55 | 98.51 | 99.11 | 95.51 | 95.45 | 83.33 | 71.11 | 99.66 | 86.95 | 51.86 | 44.02 | 89.96 | 100.00 |\n",
      "| DststPipPi0_c0 | 41.35 | 98.45 | 99.04 | 97.70 | 97.20 | 89.95 | 73.98 | 99.68 | 88.63 | 57.44 | 53.19 | 90.27 | 100.00 |\n",
      "+----------------+-------+-------+-------+-------+-------+-------+-------+-------+-------+-------+-------+-------+--------+\n"
     ]
    },
    {
     "data": {
      "image/png": "[encoded data removed]",
      "text/plain": [
       "<matplotlib.figure.Figure at 0x7fe3e60fa210>"
      ]
     },
     "metadata": {},
     "output_type": "display_data"
    }
   ],
   "source": [
    "t = PrettyTable()\n",
    "t.field_names = ['Sample'] + [str(i) for i in range(d.counters.shape[0])]\n",
    "for n, d in inDic.iteritems():\n",
    "    eff = np.zeros((d.counters.shape[0], 2))\n",
    "    eff[0] = d.effCAND_trg\n",
    "    for i in range(d.counters[1:].shape[0]):\n",
    "        eff[i+1] = getEff(d.counters[i+1], d.counters[i])\n",
    "    t.add_row([n] + ['{:.2f}'.format(100*e[0]) for e in eff])\n",
    "    x = np.arange(eff.shape[0])\n",
    "    p = plt.errorbar(x, eff[:, 0], eff[:,1], fmt='o', lw=0, elinewidth=5, label=n)\n",
    "print t\n",
    "plt.rcParams.update({'font.size': 20})\n",
    "plt.xlabel('Counter')\n",
    "plt.ylabel('Efficiency')\n",
    "plt.legend(loc='best', numpoints=1)\n",
    "plt.ylim(0.2,1.05)\n",
    "plt.xlim(-1, eff.shape[0])\n",
    "plt.grid(True, which='both')\n",
    "plt.yscale('log')\n",
    "plt.gcf().set_size_inches(10, 6)"
   ]
  },
  {
   "cell_type": "code",
   "execution_count": null,
   "metadata": {},
   "outputs": [],
   "source": []
  }
 ],
 "metadata": {
  "kernelspec": {
   "display_name": "Python 2",
   "language": "python",
   "name": "python2"
  },
  "language_info": {
   "codemirror_mode": {
    "name": "ipython",
    "version": 2
   },
   "file_extension": ".py",
   "mimetype": "text/x-python",
   "name": "python",
   "nbconvert_exporter": "python",
   "pygments_lexer": "ipython2",
   "version": "2.7.14+"
  },
  "varInspector": {
   "cols": {
    "lenName": 16,
    "lenType": 16,
    "lenVar": 40
   },
   "kernels_config": {
    "python": {
     "delete_cmd_postfix": "",
     "delete_cmd_prefix": "del ",
     "library": "var_list.py",
     "varRefreshCmd": "print(var_dic_list())"
    },
    "r": {
     "delete_cmd_postfix": ") ",
     "delete_cmd_prefix": "rm(",
     "library": "var_list.r",
     "varRefreshCmd": "cat(var_dic_list()) "
    }
   },
   "types_to_exclude": [
    "module",
    "function",
    "builtin_function_or_method",
    "instance",
    "_Feature"
   ],
   "window_display": false
  }
 },
 "nbformat": 4,
 "nbformat_minor": 2
}
