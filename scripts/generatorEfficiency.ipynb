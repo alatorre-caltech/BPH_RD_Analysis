{
 "cells": [
  {
   "cell_type": "markdown",
   "metadata": {},
   "source": [
    "Notebook to collect the information of the generation"
   ]
  },
  {
   "cell_type": "markdown",
   "metadata": {},
   "source": [
    "### Import"
   ]
  },
  {
   "cell_type": "code",
   "execution_count": 1,
   "metadata": {
    "ExecuteTime": {
     "end_time": "2019-11-04T23:00:57.326302Z",
     "start_time": "2019-11-04T23:00:57.319852Z"
    }
   },
   "outputs": [],
   "source": [
    "import sys, os, re, yaml, pickle\n",
    "import commands\n",
    "from glob import glob\n",
    "from prettytable import PrettyTable\n",
    "sys.path.append('../lib')\n",
    "\n",
    "import time, datetime"
   ]
  },
  {
   "cell_type": "code",
   "execution_count": 2,
   "metadata": {},
   "outputs": [],
   "source": [
    "import signal\n",
    "\n",
    "class TimeoutError(Exception):\n",
    "    pass\n",
    "\n",
    "class timeout:\n",
    "    def __init__(self, seconds=1, error_message='Timeout'):\n",
    "        self.seconds = seconds\n",
    "        self.error_message = error_message\n",
    "    def handle_timeout(self, signum, frame):\n",
    "        raise TimeoutError(self.error_message)\n",
    "    def __enter__(self):\n",
    "        signal.signal(signal.SIGALRM, self.handle_timeout)\n",
    "        signal.alarm(self.seconds)\n",
    "    def __exit__(self, type, value, traceback):\n",
    "        signal.alarm(0)\n",
    "\n",
    "# with timeout(seconds=1):\n",
    "#     try:\n",
    "#         time.sleep(2)\n",
    "#     except TimeoutError:\n",
    "#         print 'Got it'"
   ]
  },
  {
   "cell_type": "code",
   "execution_count": 3,
   "metadata": {
    "ExecuteTime": {
     "end_time": "2019-11-04T23:00:57.880990Z",
     "start_time": "2019-11-04T23:00:57.535016Z"
    }
   },
   "outputs": [],
   "source": [
    "import numpy as np\n",
    "from scipy.stats import mode\n",
    "import matplotlib.pyplot as plt\n",
    "from prettytable import PrettyTable\n",
    "from progressBar import ProgressBar"
   ]
  },
  {
   "cell_type": "code",
   "execution_count": 4,
   "metadata": {
    "ExecuteTime": {
     "end_time": "2019-11-04T23:00:59.175644Z",
     "start_time": "2019-11-04T23:00:57.885084Z"
    }
   },
   "outputs": [
    {
     "name": "stdout",
     "output_type": "stream",
     "text": [
      "Welcome to JupyROOT 6.12/07\n"
     ]
    }
   ],
   "source": [
    "import uproot as ur\n",
    "import ROOT as rt\n",
    "rt.gErrorIgnoreLevel = rt.kError\n",
    "rt.RooMsgService.instance().setGlobalKillBelow(rt.RooFit.ERROR)"
   ]
  },
  {
   "cell_type": "code",
   "execution_count": 5,
   "metadata": {},
   "outputs": [],
   "source": [
    "# load FWLite C++ libraries\n",
    "rt.gSystem.Load(\"libFWCoreFWLite.so\");\n",
    "rt.gSystem.Load(\"libDataFormatsFWLite.so\");\n",
    "rt.FWLiteEnabler.enable()\n",
    "\n",
    "# load FWlite python libraries\n",
    "from DataFormats.FWLite import Lumis\n",
    "from DataFormats.FWLite import Handle\n",
    "# import commands"
   ]
  },
  {
   "cell_type": "code",
   "execution_count": 6,
   "metadata": {},
   "outputs": [],
   "source": [
    "from analysis_utilities import DSetLoader"
   ]
  },
  {
   "cell_type": "markdown",
   "metadata": {},
   "source": [
    "# Inputs"
   ]
  },
  {
   "cell_type": "markdown",
   "metadata": {},
   "source": [
    "Max 3 dataset per time otherwise run out of memory"
   ]
  },
  {
   "cell_type": "code",
   "execution_count": 7,
   "metadata": {
    "ExecuteTime": {
     "end_time": "2019-11-04T23:01:19.700694Z",
     "start_time": "2019-11-04T23:01:19.684231Z"
    }
   },
   "outputs": [],
   "source": [
    "inDic = {}"
   ]
  },
  {
   "cell_type": "code",
   "execution_count": 8,
   "metadata": {
    "ExecuteTime": {
     "end_time": "2019-11-04T23:01:19.700694Z",
     "start_time": "2019-11-04T23:01:19.684231Z"
    }
   },
   "outputs": [
    {
     "name": "stdout",
     "output_type": "stream",
     "text": [
      "CAND efficiency file missing.\n",
      "CAND efficiency file missing.\n",
      "CAND efficiency file missing.\n",
      "CAND efficiency file missing.\n",
      "CAND efficiency file missing.\n",
      "CAND efficiency file missing.\n",
      "CAND efficiency file missing.\n",
      "CAND efficiency file missing.\n",
      "CAND efficiency file missing.\n"
     ]
    }
   ],
   "source": [
    "# inDic['muHQET_0'] = DSetLoader('B0_MuNuDmst_HQETcentral_PU0')\n",
    "inDic['mu_0'] = DSetLoader('B0_MuNuDmst_PU0')\n",
    "inDic['mu_20'] = DSetLoader('B0_MuNuDmst_PU20')\n",
    "inDic['mu_c0'] = DSetLoader('B0_MuNuDmst_PUc0')\n",
    "inDic['mu_35'] = DSetLoader('B0_MuNuDmst_PU35')\n",
    "\n",
    "inDic['tau_0'] = DSetLoader('B0_TauNuDmst_PU0')\n",
    "inDic['tau_20'] = DSetLoader('B0_TauNuDmst_PU20')\n",
    "inDic['tau_c0'] = DSetLoader('B0_TauNuDmst_PUc0')\n",
    "inDic['tau_35'] = DSetLoader('B0_TauNuDmst_PU35')\n",
    "\n",
    "inDic['Hc_20'] = DSetLoader('B0_DmstHc_PU20')\n",
    "inDic['Hc_c0'] = DSetLoader('B0_DmstHc_PUc0')\n",
    "\n",
    "inDic['Dstst_20'] = DSetLoader('Bp_MuNuDstst_PU20')\n",
    "inDic['Dstst_c0'] = DSetLoader('Bp_MuNuDstst_PUc0')\n",
    "\n",
    "inDic['DstPi0_c0'] = DSetLoader('B0_DmstPi0MuNu')"
   ]
  },
  {
   "cell_type": "code",
   "execution_count": 9,
   "metadata": {},
   "outputs": [],
   "source": [
    "# inDic['mu_0'] = DSetLoader('B0_MuNuDmst_PU0', candDir='ntuples_probeB2DstMu')\n",
    "# inDic['p_mu_c0'] = DSetLoader('p_B0_MuNuDst_PUc0', candDir='ntuples_probeB2DstMu')\n",
    "# inDic['p_tau_c0'] = DSetLoader('p_B0_TauNuDst_PUc0', candDir='ntuples_probeB2DstMu')"
   ]
  },
  {
   "cell_type": "code",
   "execution_count": 10,
   "metadata": {
    "ExecuteTime": {
     "end_time": "2019-11-04T23:01:19.700694Z",
     "start_time": "2019-11-04T23:01:19.684231Z"
    }
   },
   "outputs": [],
   "source": [
    "# inDic['JPsiKst_0'] = DSetLoader('B0_JpsiKst_PU0', candDir='ntuples_B2JpsiKst')\n",
    "# inDic['JPsiKst_20'] = DSetLoader('B0_JpsiKst_PU20', candDir='ntuples_B2JpsiKst')\n",
    "# inDic['JPsiKst_35'] = DSetLoader('B0_JpsiKst_PU35', candDir='ntuples_B2JpsiKst')\n",
    "\n",
    "# inDic['JPsiKstFSR_20'] = DSetLoader('B0_JpsiKstFSR_PU20', candDir='ntuples_B2JpsiKst')"
   ]
  },
  {
   "cell_type": "markdown",
   "metadata": {},
   "source": [
    "# Efficiency"
   ]
  },
  {
   "cell_type": "code",
   "execution_count": 11,
   "metadata": {
    "ExecuteTime": {
     "end_time": "2019-11-04T23:01:20.322756Z",
     "start_time": "2019-11-04T23:01:20.307921Z"
    }
   },
   "outputs": [],
   "source": [
    "def getEff(k,N):\n",
    "    e = k/float(N)\n",
    "    de = np.sqrt(e*(1-e)/N)\n",
    "    return [e, de]"
   ]
  },
  {
   "cell_type": "markdown",
   "metadata": {},
   "source": [
    "## Generator Efficiency"
   ]
  },
  {
   "cell_type": "code",
   "execution_count": 12,
   "metadata": {},
   "outputs": [],
   "source": [
    "handle = {}\n",
    "handle['genFilter'] = [Handle('GenFilterInfo'), ('genFilterEfficiencyProducer', '', 'SIM')]\n",
    "handle['genProduct'] = [Handle('GenLumiInfoProduct'), ('generator', '', 'SIM')]"
   ]
  },
  {
   "cell_type": "code",
   "execution_count": 13,
   "metadata": {},
   "outputs": [],
   "source": [
    "def analyzeMINIAODs(fileList):  \n",
    "    print 'Analizing', len(fileList), 'MINIAOD'\n",
    "    N_gen = 0\n",
    "    N_cuts = 0\n",
    "    xsec = []\n",
    "    xsec_err = []\n",
    "    pb = ProgressBar(maxEntry=len(fileList))\n",
    "    skippedFiles = []\n",
    "    for i_j, fileName in enumerate(fileList):\n",
    "        pb.show(i_j)\n",
    "        with timeout(seconds=1):\n",
    "            try:\n",
    "#                 cmd = 'python generatorEfficiency_MINIAODSIM.py ' + fileName\n",
    "#                 status, output = commands.getstatusoutput(cmd)\n",
    "#                 aux = output.split(' ')\n",
    "#                 N_gen += float(aux[0])\n",
    "#                 N_cuts += float(aux[1])\n",
    "#                 xsec.append(float(aux[2]))\n",
    "#                 xsec_err.append(float(aux[4]))\n",
    "                for lumi in Lumis(fileName):\n",
    "                    prods = {}\n",
    "                    for k,v in handle.iteritems():\n",
    "                        lumi.getByLabel(v[1], v[0])\n",
    "                        prods[k] = v[0].product()\n",
    "                    N_cuts += prods['genFilter'].numEventsPassed()\n",
    "                    N_gen += prods['genFilter'].numEventsTotal()\n",
    "                    xs = prods['genProduct'].getProcessInfos()[0].lheXSec()\n",
    "                    xsec.append(xs.value())\n",
    "                    xsec_err.append(xs.error())\n",
    "            except TimeoutError:\n",
    "                skippedFiles.append(fileName)\n",
    "    print 'Skipped {} files'.format(len(skippedFiles))\n",
    "    print 'Total events in analyzed MINIAODs', N_cuts\n",
    "    xsec = np.array(xsec)\n",
    "    xsec_err = np.array(xsec_err)\n",
    "    return N_gen, N_cuts, xsec, xsec_err"
   ]
  },
  {
   "cell_type": "code",
   "execution_count": 14,
   "metadata": {},
   "outputs": [
    {
     "name": "stdout",
     "output_type": "stream",
     "text": [
      "\n",
      "\n",
      "--> B0_TauNuDmst_PU35\n",
      "Already present\n",
      "{'xsec': [148791935425.03693, 7315750.864287662], 'effGEN': [0.001336961498439126, 3.7274106759866265e-06]}\n",
      "\n",
      "\n",
      "--> B0_DmstHc_PU20\n",
      "Already present\n",
      "{'xsec': [148781818576.86035, 4146031.22008329], 'effGEN': [0.0005071146773654296, 1.3017714341741907e-06]}\n",
      "\n",
      "\n",
      "--> B0_MuNuDmst_PU35\n",
      "Already present\n",
      "{'xsec': [148774581642.2817, 7238308.442090425], 'effGEN': [0.007023906940766223, 8.430484065733087e-06]}\n",
      "\n",
      "\n",
      "--> B0_DmstPi0MuNu\n",
      "Analizing 1000 MINIAOD\n",
      "[####################]  100% - Tot. time: 181.6 s\n",
      "Skipped 17 files\n",
      "Total events in analyzed MINIAODs 370989\n",
      "Xsec: 1.4878e+11 +/- 5.1168e+06 fb (3.4e-05)\n",
      "eff generator: 1.889e-03 +/- 3.098e-06 (1.6e-03)\n",
      "\n",
      "\n",
      "--> B0_MuNuDmst_PU20\n",
      "Already present\n",
      "{'xsec': [148782163489.2487, 4064905.3487632805], 'effGEN': [0.007007189803588201, 4.72861991039584e-06]}\n",
      "\n",
      "\n",
      "--> B0_MuNuDmst_PUc0\n",
      "Already present\n",
      "{'xsec': [148780551859.27094, 4859041.069082328], 'effGEN': [0.004454009303973196, 4.512108924850881e-06]}\n",
      "\n",
      "\n",
      "--> Bp_MuNuDstst_PU20\n",
      "Already present\n",
      "{'xsec': [148772562432.68887, 7189916.856748202], 'effGEN': [0.004891204942234108, 6.995476600788558e-06]}\n",
      "\n",
      "\n",
      "--> B0_TauNuDmst_PUc0\n",
      "Already present\n",
      "{'xsec': [148775889413.01022, 5150860.645516099], 'effGEN': [0.0008566460268317854, 2.1015402779430175e-06]}\n",
      "\n",
      "\n",
      "--> Bp_MuNuDstst_PUc0\n",
      "Analizing 1000 MINIAOD\n",
      "[####################]  100% - Tot. time: 240.4 s\n",
      "Skipped 13 files\n",
      "Total events in analyzed MINIAODs 326369\n",
      "Xsec: 1.4878e+11 +/- 5.1088e+06 fb (3.4e-05)\n",
      "eff generator: 1.657e-03 +/- 2.897e-06 (1.7e-03)\n",
      "\n",
      "\n",
      "--> B0_DmstHc_PUc0\n",
      "Analizing 1000 MINIAOD\n",
      "[####################]  100% - Tot. time: 154.8 s\n",
      "Skipped 11 files\n",
      "Total events in analyzed MINIAODs 141286\n",
      "Xsec: 1.4879e+11 +/- 4.1638e+06 fb (2.8e-05)\n",
      "eff generator: 4.764e-04 +/- 1.267e-06 (2.7e-03)\n",
      "\n",
      "\n",
      "--> B0_MuNuDmst_PU0\n",
      "Already present\n",
      "{'xsec': [148762449680.00394, 15103635.546542093], 'effGEN': [0.006992276630751819, 1.755171522730451e-05]}\n",
      "\n",
      "\n",
      "--> B0_TauNuDmst_PU20\n",
      "Already present\n",
      "{'xsec': [148780358588.90646, 7172565.643644872], 'effGEN': [0.0013360287382761407, 3.6538362202769994e-06]}\n",
      "\n",
      "\n",
      "--> B0_TauNuDmst_PU0\n",
      "Already present\n",
      "{'xsec': [148780149402.1404, 5395529.765618659], 'effGEN': [0.0013380306473424158, 2.750491938256667e-06]}\n"
     ]
    }
   ],
   "source": [
    "N_max = 1000\n",
    "recreate = []#inDic.keys()\n",
    "for n, d in inDic.iteritems():\n",
    "    print '\\n\\n--> ' + d.sample\n",
    "    \n",
    "    outdir = os.path.join(d.candLoc, d.full_name)\n",
    "    outyamlFile = os.path.join(outdir,'effMCgenerator.yaml')\n",
    "    if os.path.isfile(outyamlFile) and not n in recreate:\n",
    "        print 'Already present'\n",
    "        dic = yaml.load(open(outyamlFile, 'r'))\n",
    "        print dic\n",
    "        continue\n",
    "        \n",
    "    fileList = []\n",
    "    for directory in d.MINIAOD_dirs:\n",
    "        fileList += glob(directory + '/out_MINIAODSIM_*.root')\n",
    "    if N_max > 0 and N_max < len(fileList):\n",
    "        fileList = np.random.choice(fileList, N_max)\n",
    "    \n",
    "    N_gen, N_cuts, xsec, xsec_err = analyzeMINIAODs(fileList)\n",
    "    s2 = np.square(xsec_err)\n",
    "    num = np.sum(xsec/s2)\n",
    "    den = np.sum(1./s2)\n",
    "    xsec = 1e3*num/den\n",
    "    xsec_err = 1e3*np.sqrt(1/den)\n",
    "    print 'Xsec: {:1.4e} +/- {:1.4e} fb ({:1.1e})'.format(xsec, xsec_err, xsec_err/xsec)\n",
    "    d.xsec = [xsec, xsec_err]\n",
    "    \n",
    "    e, de = getEff(N_cuts, N_gen)\n",
    "    print 'eff generator: {:1.3e} +/- {:1.3e} ({:1.1e})'.format(e,de, de/e)\n",
    "    d.effGEN = [e, de]\n",
    "\n",
    "    dump_dic = {}\n",
    "    for k in ['xsec', 'effGEN']:\n",
    "        aux = getattr(d, k)\n",
    "        dump_dic[k] = [float(aux[0]), float(aux[1])]\n",
    "    if not os.path.isdir(outdir):\n",
    "        os.makedirs(outdir)\n",
    "    with open(outyamlFile, 'w') as dumpF:\n",
    "        dumpF.write(yaml.dump(dump_dic, default_flow_style=False, default_style=''))"
   ]
  },
  {
   "cell_type": "markdown",
   "metadata": {},
   "source": [
    "## ntuplizer efficiency"
   ]
  },
  {
   "cell_type": "code",
   "execution_count": 15,
   "metadata": {
    "ExecuteTime": {
     "end_time": "2019-11-04T23:02:17.419301Z",
     "start_time": "2019-11-04T23:02:09.765091Z"
    },
    "code_folding": []
   },
   "outputs": [
    {
     "name": "stdout",
     "output_type": "stream",
     "text": [
      "\n",
      "\n",
      "--> B0_TauNuDmst_PU35\n",
      "Analyzing 333 ntuplizer job logs\n",
      "[####################]  100% - Tot. time: 0.1 s\n",
      "Total MINIAOD: 1286751\n",
      "Total candidates: 34392\n",
      "eff candidates (trigger): 2.656e-01 +/- 3.893e-04 (1.5e-03)\n",
      "eff candidates (cand): 1.006e-01 +/- 5.146e-04 (5.1e-03)\n",
      "eff candidates: 2.673e-02 +/- 1.422e-04 (5.3e-03)\n",
      "Getting the total rates (if existing)\n",
      "Done\n",
      "\n",
      "\n",
      "--> B0_DmstHc_PU20\n",
      "Analyzing 399 ntuplizer job logs\n",
      "[####################]  100% - Tot. time: 6.0 s\n",
      "Total MINIAOD: 2933773\n",
      "Total candidates: 86228\n",
      "eff candidates (trigger): 2.323e-01 +/- 2.466e-04 (1.1e-03)\n",
      "eff candidates (cand): 1.265e-01 +/- 4.027e-04 (3.2e-03)\n",
      "eff candidates: 2.939e-02 +/- 9.861e-05 (3.4e-03)\n",
      "Getting the total rates (if existing)\n",
      "Not found\n",
      "\n",
      "\n",
      "--> B0_MuNuDmst_PU35\n",
      "Analyzing 196 ntuplizer job logs\n",
      "[####################]  100% - Tot. time: 3.1 s\n",
      "Total MINIAOD: 3047013\n",
      "Total candidates: 63925\n",
      "eff candidates (trigger): 2.390e-01 +/- 2.443e-04 (1.0e-03)\n",
      "eff candidates (cand): 8.779e-02 +/- 3.316e-04 (3.8e-03)\n",
      "eff candidates: 2.098e-02 +/- 8.210e-05 (3.9e-03)\n",
      "Getting the total rates (if existing)\n",
      "Done\n",
      "\n",
      "\n",
      "--> B0_DmstPi0MuNu\n",
      "Analyzing 327 ntuplizer job logs\n",
      "[####################]  100% - Tot. time: 0.1 s\n",
      "Total MINIAOD: 3591162\n",
      "Total candidates: 141790\n",
      "eff candidates (trigger): 3.591e-01 +/- 2.532e-04 (7.0e-04)\n",
      "eff candidates (cand): 1.099e-01 +/- 2.755e-04 (2.5e-03)\n",
      "eff candidates: 3.948e-02 +/- 1.028e-04 (2.6e-03)\n",
      "Getting the total rates (if existing)\n",
      "Not found\n",
      "\n",
      "\n",
      "--> B0_MuNuDmst_PU20\n",
      "Analyzing 1339 ntuplizer job logs\n",
      "[####################]  100% - Tot. time: 20.0 s\n",
      "Total MINIAOD: 65047704\n",
      "Total candidates: 1484194\n",
      "eff candidates (trigger): 2.406e-01 +/- 5.300e-05 (2.2e-04)\n",
      "eff candidates (cand): 9.483e-02 +/- 7.406e-05 (7.8e-04)\n",
      "eff candidates: 2.282e-02 +/- 1.851e-05 (8.1e-04)\n",
      "Getting the total rates (if existing)\n",
      "Done\n",
      "\n",
      "\n",
      "--> B0_MuNuDmst_PUc0\n",
      "Analyzing 626 ntuplizer job logs\n",
      "[####################]  100% - Tot. time: 9.1 s\n",
      "Total MINIAOD: 29253916\n",
      "Total candidates: 1003910\n",
      "eff candidates (trigger): 3.655e-01 +/- 8.904e-05 (2.4e-04)\n",
      "eff candidates (cand): 9.389e-02 +/- 8.920e-05 (9.5e-04)\n",
      "eff candidates: 3.432e-02 +/- 3.366e-05 (9.8e-04)\n",
      "Getting the total rates (if existing)\n",
      "Done\n",
      "\n",
      "\n",
      "--> Bp_MuNuDstst_PU20\n",
      "Analyzing 386 ntuplizer job logs\n",
      "[####################]  100% - Tot. time: 6.1 s\n",
      "Total MINIAOD: 8700861\n",
      "Total candidates: 199562\n",
      "eff candidates (trigger): 2.010e-01 +/- 1.359e-04 (6.8e-04)\n",
      "eff candidates (cand): 1.141e-01 +/- 2.404e-04 (2.1e-03)\n",
      "eff candidates: 2.294e-02 +/- 5.075e-05 (2.2e-03)\n",
      "Getting the total rates (if existing)\n",
      "Done\n",
      "\n",
      "\n",
      "--> B0_TauNuDmst_PUc0\n",
      "Analyzing 467 ntuplizer job logs\n",
      "[####################]  100% - Tot. time: 0.1 s\n",
      "Total MINIAOD: 2375124\n",
      "Total candidates: 101805\n",
      "eff candidates (trigger): 4.045e-01 +/- 3.185e-04 (7.9e-04)\n",
      "eff candidates (cand): 1.060e-01 +/- 3.140e-04 (3.0e-03)\n",
      "eff candidates: 4.286e-02 +/- 1.314e-04 (3.1e-03)\n",
      "Getting the total rates (if existing)\n",
      "Done\n",
      "\n",
      "\n",
      "--> Bp_MuNuDstst_PUc0\n",
      "Analyzing 370 ntuplizer job logs\n",
      "[####################]  100% - Tot. time: 0.1 s\n",
      "Total MINIAOD: 3618858\n",
      "Total candidates: 232961\n",
      "eff candidates (trigger): 4.089e-01 +/- 2.584e-04 (6.3e-04)\n",
      "eff candidates (cand): 1.574e-01 +/- 2.994e-04 (1.9e-03)\n",
      "eff candidates: 6.437e-02 +/- 1.290e-04 (2.0e-03)\n",
      "Getting the total rates (if existing)\n",
      "Done\n",
      "\n",
      "\n",
      "--> B0_DmstHc_PUc0\n",
      "Analyzing 425 ntuplizer job logs\n",
      "[####################]  100% - Tot. time: 0.1 s\n",
      "Total MINIAOD: 1802917\n",
      "Total candidates: 57203\n",
      "eff candidates (trigger): 2.904e-01 +/- 3.381e-04 (1.2e-03)\n",
      "eff candidates (cand): 1.093e-01 +/- 4.312e-04 (3.9e-03)\n",
      "eff candidates: 3.173e-02 +/- 1.305e-04 (4.1e-03)\n",
      "Getting the total rates (if existing)\n",
      "Not found\n",
      "\n",
      "\n",
      "--> B0_MuNuDmst_PU0\n",
      "Analyzing 98 ntuplizer job logs\n",
      "[####################]  100% - Tot. time: 1.6 s\n",
      "Total MINIAOD: 10192278\n",
      "Total candidates: 273207\n",
      "eff candidates (trigger): 2.427e-01 +/- 1.343e-04 (5.5e-04)\n",
      "eff candidates (cand): 1.104e-01 +/- 1.993e-04 (1.8e-03)\n",
      "eff candidates: 2.681e-02 +/- 5.059e-05 (1.9e-03)\n",
      "Getting the total rates (if existing)\n",
      "Done\n",
      "\n",
      "\n",
      "--> B0_TauNuDmst_PU20\n",
      "Analyzing 894 ntuplizer job logs\n",
      "[####################]  100% - Tot. time: 13.0 s\n",
      "Total MINIAOD: 5825628\n",
      "Total candidates: 167394\n",
      "eff candidates (trigger): 2.670e-01 +/- 1.833e-04 (6.9e-04)\n",
      "eff candidates (cand): 1.076e-01 +/- 2.485e-04 (2.3e-03)\n",
      "eff candidates: 2.873e-02 +/- 6.921e-05 (2.4e-03)\n",
      "Getting the total rates (if existing)\n",
      "Done\n",
      "\n",
      "\n",
      "--> B0_TauNuDmst_PU0\n",
      "Analyzing 158 ntuplizer job logs\n",
      "[####################]  100% - Tot. time: 0.1 s\n",
      "Total MINIAOD: 1118590\n",
      "Total candidates: 36643\n",
      "eff candidates (trigger): 2.701e-01 +/- 4.198e-04 (1.6e-03)\n",
      "eff candidates (cand): 1.213e-01 +/- 5.939e-04 (4.9e-03)\n",
      "eff candidates: 3.276e-02 +/- 1.683e-04 (5.1e-03)\n",
      "Getting the total rates (if existing)\n",
      "Done\n"
     ]
    }
   ],
   "source": [
    "for d in inDic.values():\n",
    "    print '\\n\\n--> ' + d.sample\n",
    "\n",
    "    if not os.path.isdir(d.ntuples_dir):\n",
    "        continue\n",
    "    cand_out_list = glob(os.path.join(d.ntuples_dir,'out/job*.out'))\n",
    "    N_analyzed = 0\n",
    "    N_trg = 0\n",
    "    N_cand = 0\n",
    "    print 'Analyzing {} ntuplizer job logs'.format(len(cand_out_list))\n",
    "    pb = ProgressBar(maxEntry=len(cand_out_list))\n",
    "    for ic, cand_out in enumerate(cand_out_list):\n",
    "        pb.show(ic)\n",
    "        eff_ln = []\n",
    "        counters = []\n",
    "        takingCounters = False\n",
    "        for line in open(cand_out).readlines():\n",
    "            if 'efficiency:' in line:\n",
    "                eff_ln.append(line)\n",
    "            elif 'counters:' in line:\n",
    "                    takingCounters = True\n",
    "            elif takingCounters and line[:-1].isdigit():\n",
    "                counters.append(int(line[:-1]))\n",
    "            elif takingCounters:\n",
    "                takingCounters = False\n",
    "\n",
    "        aux = re.search('[0-9]+/[0-9]+', eff_ln[0]).group(0)\n",
    "        aux = aux.split('/')\n",
    "        N_analyzed += int(aux[1])\n",
    "        N_trg += int(aux[0])\n",
    "        \n",
    "        aux = re.search(': [0-9]+/', eff_ln[1]).group(0)\n",
    "        N_cand += int(aux[2:-1])\n",
    "        \n",
    "        counters=np.array(counters)\n",
    "        if not hasattr(d, 'counters'):\n",
    "            d.counters = counters\n",
    "        else:\n",
    "            d.counters += counters\n",
    "        \n",
    "    d.nTotMINIAOD = N_analyzed\n",
    "    d.nTotCAND = N_cand\n",
    "    print 'Total MINIAOD:', N_analyzed\n",
    "    print 'Total candidates:', N_cand\n",
    "    \n",
    "    e, de = getEff(N_trg, N_analyzed)\n",
    "    d.effCAND_trg = e, de\n",
    "    print 'eff candidates (trigger): {:1.3e} +/- {:1.3e} ({:1.1e})'.format(e,de, de/e)\n",
    "    \n",
    "    e, de = getEff(N_cand, N_trg)\n",
    "    d.effCAND_cand = e, de\n",
    "    print 'eff candidates (cand): {:1.3e} +/- {:1.3e} ({:1.1e})'.format(e,de, de/e)\n",
    "    \n",
    "    e, de = getEff(N_cand, N_analyzed)\n",
    "    d.effCAND = e, de\n",
    "    print 'eff candidates: {:1.3e} +/- {:1.3e} ({:1.1e})'.format(e,de, de/e)\n",
    "    \n",
    "    print 'Getting the total rates (if existing)'\n",
    "    try:\n",
    "        fCandLoc = glob(os.path.join(d.ntuples_dir,'out_CAND_*.root'))[0]\n",
    "        fCand = ur.open(fCandLoc)\n",
    "        Trate = fCand['p']['Trate']\n",
    "        d.rate = {}\n",
    "        for k in Trate.keys():\n",
    "            r = Trate.array(k)[0]\n",
    "            r *= 1e12 #GeV -> meV\n",
    "            d.rate[str(k)] = r\n",
    "        print 'Done'\n",
    "    except:\n",
    "        print 'Not found'\n",
    "    \n",
    "    dump_dic = {'nTotMINIAOD': int(d.nTotMINIAOD), 'nTotCAND': int(d.nTotCAND)}\n",
    "    for k in ['effCAND', 'effCAND_trg', 'effCAND_cand']:\n",
    "        aux = getattr(d, k)\n",
    "        dump_dic[k] = [float(aux[0]), float(aux[1])]\n",
    "    if hasattr(d, 'rate'):\n",
    "        for k, v in d.rate.iteritems():\n",
    "            dump_dic['rate_'+k] = float(v)\n",
    "    with open(os.path.join(d.ntuples_dir,'effCAND.yaml'), 'w') as dumpF:\n",
    "        dumpF.write(yaml.dump(dump_dic, default_flow_style=False, default_style=''))"
   ]
  },
  {
   "cell_type": "code",
   "execution_count": 16,
   "metadata": {},
   "outputs": [
    {
     "name": "stdout",
     "output_type": "stream",
     "text": [
      "+-----------+-------+-------+-------+-------+-------+-------+-------+-------+-------+-------+------+------+------+\n",
      "|   Sample  |   0   |   1   |   2   |   3   |   4   |   5   |   6   |   7   |   8   |   9   |  10  |  11  |  12  |\n",
      "+-----------+-------+-------+-------+-------+-------+-------+-------+-------+-------+-------+------+------+------+\n",
      "|   tau_35  | 26.56 | 25.53 | 25.25 | 24.49 | 23.77 | 20.50 | 14.60 | 14.54 | 13.29 |  7.43 | 3.39 | 2.67 | 2.67 |\n",
      "|   Hc_20   | 23.23 | 22.24 | 21.99 | 21.10 | 20.51 | 18.10 | 11.65 | 11.59 | 10.81 |  7.46 | 4.39 | 2.94 | 2.94 |\n",
      "|   mu_35   | 23.90 | 22.84 | 22.61 | 21.84 | 21.07 | 17.74 | 12.34 | 12.29 | 11.10 |  5.80 | 2.36 | 2.10 | 2.10 |\n",
      "| DstPi0_c0 | 35.91 | 35.41 | 35.08 | 33.66 | 32.32 | 27.42 | 19.86 | 19.80 | 17.38 |  9.42 | 4.40 | 3.95 | 3.95 |\n",
      "|   mu_20   | 24.06 | 23.04 | 22.87 | 21.61 | 20.41 | 16.74 | 12.16 | 12.13 | 10.14 |  5.17 | 2.51 | 2.28 | 2.28 |\n",
      "|   mu_c0   | 36.55 | 36.01 | 35.69 | 34.08 | 32.53 | 27.10 | 19.27 | 19.21 | 16.70 |  8.66 | 3.81 | 3.43 | 3.43 |\n",
      "|  Dstst_20 | 20.10 | 19.28 | 19.13 | 18.62 | 17.68 | 15.45 | 10.72 | 10.68 |  9.07 |  4.87 | 2.53 | 2.29 | 2.29 |\n",
      "|   tau_c0  | 40.45 | 39.92 | 39.53 | 37.88 | 36.40 | 31.05 | 22.59 | 22.51 | 19.77 | 11.04 | 5.42 | 4.29 | 4.29 |\n",
      "|  Dstst_c0 | 40.89 | 40.28 | 39.90 | 39.21 | 38.13 | 34.71 | 25.46 | 25.38 | 22.51 | 13.06 | 7.10 | 6.44 | 6.44 |\n",
      "|   Hc_c0   | 29.04 | 28.63 | 28.29 | 27.28 | 26.58 | 23.42 | 15.56 | 15.49 | 14.38 |  9.37 | 4.77 | 3.17 | 3.17 |\n",
      "|    mu_0   | 24.27 | 23.28 | 23.14 | 20.47 | 18.19 | 15.17 | 12.18 | 12.15 |  7.86 |  4.57 | 2.86 | 2.68 | 2.68 |\n",
      "|   tau_20  | 26.70 | 25.72 | 25.50 | 24.24 | 23.12 | 19.49 | 14.42 | 14.38 | 12.25 |  6.76 | 3.58 | 2.87 | 2.87 |\n",
      "|   tau_0   | 27.01 | 26.07 | 25.90 | 23.23 | 21.13 | 18.06 | 14.50 | 14.47 |  9.85 |  6.14 | 3.97 | 3.28 | 3.28 |\n",
      "+-----------+-------+-------+-------+-------+-------+-------+-------+-------+-------+-------+------+------+------+\n"
     ]
    },
    {
     "data": {
      "image/png": "[encoded data removed]",
      "text/plain": [
       "<matplotlib.figure.Figure at 0x7fc10853e290>"
      ]
     },
     "metadata": {},
     "output_type": "display_data"
    }
   ],
   "source": [
    "t = PrettyTable()\n",
    "t.field_names = ['Sample'] + [str(i) for i in range(d.counters.shape[0])]\n",
    "for n, d in inDic.iteritems():\n",
    "    eff = np.zeros((d.counters.shape[0], 2))\n",
    "    eff[0] = d.effCAND_trg\n",
    "    for i in range(d.counters[1:].shape[0]):\n",
    "        eff[i+1] = getEff(d.counters[i+1], d.nTotMINIAOD)\n",
    "    t.add_row([n] + ['{:.2f}'.format(100*e[0]) for e in eff])\n",
    "    x = np.arange(eff.shape[0])\n",
    "    p = plt.errorbar(x, eff[:, 0], eff[:,1], lw=0, elinewidth=5, label=n)\n",
    "    \n",
    "#     plt.plot(x[[0,-1]], 2*[d.effCAND[0]], '-', color=p[0].get_color())\n",
    "#     plt.fill_between(x[[0,-1]], 2*[d.effCAND[0]-d.effCAND[1]], 2*[d.effCAND[0]+d.effCAND[1]], color=p[0].get_color(), alpha=0.2)\n",
    "print t\n",
    "plt.rcParams.update({'font.size': 20})\n",
    "plt.xlabel('Counter')\n",
    "plt.ylabel('Efficiency')\n",
    "plt.legend(loc='best', numpoints=1)\n",
    "plt.ylim(0.01,1.05)\n",
    "plt.xlim(-1, eff.shape[0])\n",
    "plt.grid(True, which='both')\n",
    "plt.yscale('log')\n",
    "plt.gcf().set_size_inches(10, 6)"
   ]
  },
  {
   "cell_type": "code",
   "execution_count": 17,
   "metadata": {},
   "outputs": [
    {
     "name": "stdout",
     "output_type": "stream",
     "text": [
      "+-----------+-------+-------+-------+-------+-------+-------+-------+-------+-------+-------+-------+-------+--------+\n",
      "|   Sample  |   0   |   1   |   2   |   3   |   4   |   5   |   6   |   7   |   8   |   9   |   10  |   11  |   12   |\n",
      "+-----------+-------+-------+-------+-------+-------+-------+-------+-------+-------+-------+-------+-------+--------+\n",
      "|   tau_35  | 26.56 | 96.15 | 98.90 | 96.96 | 97.08 | 86.23 | 71.22 | 99.64 | 91.38 | 55.88 | 45.61 | 78.90 | 100.00 |\n",
      "|   Hc_20   | 23.23 | 95.71 | 98.90 | 95.96 | 97.20 | 88.24 | 64.37 | 99.51 | 93.20 | 69.05 | 58.86 | 66.93 | 100.00 |\n",
      "|   mu_35   | 23.90 | 95.58 | 99.00 | 96.57 | 96.47 | 84.21 | 69.56 | 99.64 | 90.25 | 52.23 | 40.66 | 89.03 | 100.00 |\n",
      "| DstPi0_c0 | 35.91 | 98.61 | 99.05 | 95.95 | 96.04 | 84.82 | 72.45 | 99.69 | 87.79 | 54.21 | 46.67 | 89.77 | 100.00 |\n",
      "|   mu_20   | 24.06 | 95.76 | 99.25 | 94.48 | 94.46 | 82.04 | 72.64 | 99.70 | 83.65 | 50.92 | 48.50 | 91.07 | 100.00 |\n",
      "|   mu_c0   | 36.55 | 98.51 | 99.11 | 95.49 | 95.45 | 83.31 | 71.12 | 99.66 | 86.94 | 51.86 | 44.03 | 90.01 | 100.00 |\n",
      "|  Dstst_20 | 20.10 | 95.91 | 99.21 | 97.36 | 94.94 | 87.40 | 69.34 | 99.69 | 84.87 | 53.66 | 51.92 | 90.79 | 100.00 |\n",
      "|   tau_c0  | 40.45 | 98.68 | 99.02 | 95.85 | 96.08 | 85.31 | 72.74 | 99.67 | 87.81 | 55.86 | 49.06 | 79.12 | 100.00 |\n",
      "|  Dstst_c0 | 40.89 | 98.51 | 99.05 | 98.28 | 97.23 | 91.04 | 73.34 | 99.70 | 88.68 | 58.01 | 54.39 | 90.64 | 100.00 |\n",
      "|   Hc_c0   | 29.04 | 98.61 | 98.81 | 96.44 | 97.42 | 88.13 | 66.42 | 99.53 | 92.86 | 65.18 | 50.94 | 66.46 | 100.00 |\n",
      "|    mu_0   | 24.27 | 95.94 | 99.38 | 88.47 | 88.84 | 83.44 | 80.26 | 99.78 | 64.71 | 58.07 | 62.72 | 93.58 | 100.00 |\n",
      "|   tau_20  | 26.70 | 96.33 | 99.17 | 95.05 | 95.36 | 84.33 | 73.97 | 99.70 | 85.20 | 55.20 | 52.98 | 80.23 | 100.00 |\n",
      "|   tau_0   | 27.01 | 96.51 | 99.34 | 89.72 | 90.94 | 85.47 | 80.31 | 99.76 | 68.11 | 62.29 | 64.73 | 82.46 | 100.00 |\n",
      "+-----------+-------+-------+-------+-------+-------+-------+-------+-------+-------+-------+-------+-------+--------+\n"
     ]
    },
    {
     "data": {
      "image/png": "[encoded data removed]",
      "text/plain": [
       "<matplotlib.figure.Figure at 0x7fc10853ea10>"
      ]
     },
     "metadata": {},
     "output_type": "display_data"
    }
   ],
   "source": [
    "t = PrettyTable()\n",
    "t.field_names = ['Sample'] + [str(i) for i in range(d.counters.shape[0])]\n",
    "for n, d in inDic.iteritems():\n",
    "    eff = np.zeros((d.counters.shape[0], 2))\n",
    "    eff[0] = d.effCAND_trg\n",
    "    for i in range(d.counters[1:].shape[0]):\n",
    "        eff[i+1] = getEff(d.counters[i+1], d.counters[i])\n",
    "    t.add_row([n] + ['{:.2f}'.format(100*e[0]) for e in eff])\n",
    "    x = np.arange(eff.shape[0])\n",
    "    p = plt.errorbar(x, eff[:, 0], eff[:,1], fmt='o', lw=0, elinewidth=5, label=n)\n",
    "print t\n",
    "plt.rcParams.update({'font.size': 20})\n",
    "plt.xlabel('Counter')\n",
    "plt.ylabel('Efficiency')\n",
    "plt.legend(loc='best', numpoints=1)\n",
    "plt.ylim(0.2,1.05)\n",
    "plt.xlim(-1, eff.shape[0])\n",
    "plt.grid(True, which='both')\n",
    "plt.yscale('log')\n",
    "plt.gcf().set_size_inches(10, 6)"
   ]
  },
  {
   "cell_type": "code",
   "execution_count": null,
   "metadata": {},
   "outputs": [],
   "source": []
  }
 ],
 "metadata": {
  "kernelspec": {
   "display_name": "Python 2",
   "language": "python",
   "name": "python2"
  },
  "language_info": {
   "codemirror_mode": {
    "name": "ipython",
    "version": 2
   },
   "file_extension": ".py",
   "mimetype": "text/x-python",
   "name": "python",
   "nbconvert_exporter": "python",
   "pygments_lexer": "ipython2",
   "version": "2.7.14+"
  }
 },
 "nbformat": 4,
 "nbformat_minor": 2
}
