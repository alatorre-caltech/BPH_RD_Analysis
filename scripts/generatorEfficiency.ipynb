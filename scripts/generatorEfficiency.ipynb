{
 "cells": [
  {
   "cell_type": "markdown",
   "metadata": {},
   "source": [
    "Notebook to collect the information of the generation"
   ]
  },
  {
   "cell_type": "markdown",
   "metadata": {},
   "source": [
    "### Import"
   ]
  },
  {
   "cell_type": "code",
   "execution_count": 1,
   "metadata": {
    "ExecuteTime": {
     "end_time": "2022-02-26T20:10:20.749774Z",
     "start_time": "2022-02-26T20:10:20.370442Z"
    }
   },
   "outputs": [],
   "source": [
    "import sys, os, re, yaml, pickle\n",
    "import commands\n",
    "from glob import glob\n",
    "from prettytable import PrettyTable\n",
    "sys.path.append('../lib')\n",
    "\n",
    "import time, datetime"
   ]
  },
  {
   "cell_type": "code",
   "execution_count": 2,
   "metadata": {
    "ExecuteTime": {
     "end_time": "2022-02-26T20:10:21.014472Z",
     "start_time": "2022-02-26T20:10:20.754540Z"
    }
   },
   "outputs": [],
   "source": [
    "import signal\n",
    "\n",
    "class TimeoutError(Exception):\n",
    "    pass\n",
    "\n",
    "class timeout:\n",
    "    def __init__(self, seconds=1, error_message='Timeout'):\n",
    "        self.seconds = seconds\n",
    "        self.error_message = error_message\n",
    "    def handle_timeout(self, signum, frame):\n",
    "        raise TimeoutError(self.error_message)\n",
    "    def __enter__(self):\n",
    "        signal.signal(signal.SIGALRM, self.handle_timeout)\n",
    "        signal.alarm(self.seconds)\n",
    "    def __exit__(self, type, value, traceback):\n",
    "        signal.alarm(0)\n",
    "\n",
    "# with timeout(seconds=1):\n",
    "#     try:\n",
    "#         time.sleep(2)\n",
    "#     except TimeoutError:\n",
    "#         print 'Got it'"
   ]
  },
  {
   "cell_type": "code",
   "execution_count": 3,
   "metadata": {
    "ExecuteTime": {
     "end_time": "2022-02-26T20:10:23.605135Z",
     "start_time": "2022-02-26T20:10:21.021284Z"
    }
   },
   "outputs": [],
   "source": [
    "import numpy as np\n",
    "from scipy.stats import mode\n",
    "import matplotlib.pyplot as plt\n",
    "from prettytable import PrettyTable\n",
    "from progressBar import ProgressBar"
   ]
  },
  {
   "cell_type": "code",
   "execution_count": 4,
   "metadata": {
    "ExecuteTime": {
     "end_time": "2022-02-26T20:10:30.779689Z",
     "start_time": "2022-02-26T20:10:23.612396Z"
    }
   },
   "outputs": [
    {
     "name": "stdout",
     "output_type": "stream",
     "text": [
      "Welcome to JupyROOT 6.12/07\n"
     ]
    }
   ],
   "source": [
    "import uproot as ur\n",
    "import ROOT as rt\n",
    "rt.gErrorIgnoreLevel = rt.kError\n",
    "rt.RooMsgService.instance().setGlobalKillBelow(rt.RooFit.ERROR)"
   ]
  },
  {
   "cell_type": "code",
   "execution_count": 5,
   "metadata": {
    "ExecuteTime": {
     "end_time": "2022-02-26T20:10:30.992140Z",
     "start_time": "2022-02-26T20:10:30.784730Z"
    }
   },
   "outputs": [],
   "source": [
    "# load FWLite C++ libraries\n",
    "rt.gSystem.Load(\"libFWCoreFWLite.so\");\n",
    "rt.gSystem.Load(\"libDataFormatsFWLite.so\");\n",
    "rt.FWLiteEnabler.enable()\n",
    "\n",
    "# load FWlite python libraries\n",
    "from DataFormats.FWLite import Lumis\n",
    "from DataFormats.FWLite import Handle\n",
    "# import commands"
   ]
  },
  {
   "cell_type": "code",
   "execution_count": 6,
   "metadata": {
    "ExecuteTime": {
     "end_time": "2022-02-26T20:10:31.430786Z",
     "start_time": "2022-02-26T20:10:31.000554Z"
    }
   },
   "outputs": [],
   "source": [
    "from analysis_utilities import DSetLoader"
   ]
  },
  {
   "cell_type": "markdown",
   "metadata": {},
   "source": [
    "# Inputs"
   ]
  },
  {
   "cell_type": "markdown",
   "metadata": {},
   "source": [
    "Max 3 dataset per time otherwise run out of memory"
   ]
  },
  {
   "cell_type": "code",
   "execution_count": 7,
   "metadata": {
    "ExecuteTime": {
     "end_time": "2022-02-26T20:10:31.509277Z",
     "start_time": "2022-02-26T20:10:31.437601Z"
    }
   },
   "outputs": [],
   "source": [
    "# order = ['mu_c0', 'tau_c0',\n",
    "#          'DstPip_c0', 'DstPi0_c0', 'DststPipPi0_c0', 'DststPipPim_c0', 'DststPi0Pi0_c0', \n",
    "#          'Bp_TauNuDstst_Pip_PUc0', 'B0_TauNuDstst_Pi0_PUc0',\n",
    "#          'DstmDsp','DstmD0','DstmDp','BpHc','BmHc','antiB0Hc',\n",
    "#         ]"
   ]
  },
  {
   "cell_type": "code",
   "execution_count": 8,
   "metadata": {
    "ExecuteTime": {
     "end_time": "2022-02-26T20:10:31.593871Z",
     "start_time": "2022-02-26T20:10:31.516739Z"
    }
   },
   "outputs": [],
   "source": [
    "inDic = {}"
   ]
  },
  {
   "cell_type": "code",
   "execution_count": 9,
   "metadata": {
    "ExecuteTime": {
     "end_time": "2022-02-26T20:10:34.294341Z",
     "start_time": "2022-02-26T20:10:31.601126Z"
    }
   },
   "outputs": [
    {
     "name": "stdout",
     "output_type": "stream",
     "text": [
      "CAND efficiency file missing for Bd_MuNuDst.\n",
      "CAND efficiency file missing for Bd_TauNuDst.\n",
      "CAND efficiency file missing for Bu_MuNuDstPi.\n",
      "CAND efficiency file missing for Bd_MuNuDstPi.\n",
      "CAND efficiency file missing for Bu_MuNuDstPiPi_v3.\n",
      "CAND efficiency file missing for Bd_MuNuDstPiPi_v3.\n",
      "CAND efficiency file missing for Bu_TauNuDstPi.\n",
      "CAND efficiency file missing for Bd_TauNuDstPi.\n",
      "CAND efficiency file missing for Bd_TauNuDstPiPi.\n",
      "CAND efficiency file missing for Bu_TauNuDstPiPi.\n",
      "CAND efficiency file missing for Bs_MuNuDstK.\n",
      "CAND efficiency file missing for Bs_TauNuDstK.\n",
      "CAND efficiency file missing for Bd_DstDu.\n",
      "CAND efficiency file missing for Bd_DstDd.\n",
      "CAND efficiency file missing for Bd_DstDs.\n",
      "CAND efficiency file missing for Bu_DstDu.\n",
      "CAND efficiency file missing for Bu_DstDd.\n",
      "CAND efficiency file missing for Bs_DstDs.\n"
     ]
    }
   ],
   "source": [
    "candDir = 'ntuples_B2DstMu_220225'\n",
    "######## Signals\n",
    "inDic['Bd_MuNuDst'] = DSetLoader('Bd_MuNuDst', candDir=candDir)\n",
    "inDic['Bd_TauNuDst'] = DSetLoader('Bd_TauNuDst', candDir=candDir)\n",
    "####### D** background\n",
    "inDic['Bu_MuDstPi'] = DSetLoader('Bu_MuNuDstPi', candDir=candDir)\n",
    "inDic['Bd_MuDstPi'] = DSetLoader('Bd_MuNuDstPi', candDir=candDir)\n",
    "inDic['Bu_MuDstPiPi_v3'] = DSetLoader('Bu_MuNuDstPiPi_v3', candDir=candDir)\n",
    "inDic['Bd_MuDstPiPi_v3'] = DSetLoader('Bd_MuNuDstPiPi_v3', candDir=candDir)\n",
    "inDic['Bu_TauDstPi'] = DSetLoader('Bu_TauNuDstPi', candDir=candDir)\n",
    "inDic['Bd_TauDstPi'] = DSetLoader('Bd_TauNuDstPi', candDir=candDir)\n",
    "inDic['Bd_TauDstPiPi'] = DSetLoader('Bd_TauNuDstPiPi', candDir=candDir)\n",
    "inDic['Bu_TauDstPiPi'] = DSetLoader('Bu_TauNuDstPiPi', candDir=candDir)\n",
    "inDic['Bs_MuDstK'] = DSetLoader('Bs_MuNuDstK', candDir=candDir)\n",
    "inDic['Bs_TauDstK'] = DSetLoader('Bs_TauNuDstK', candDir=candDir)\n",
    "\n",
    "####### D*Hc background\n",
    "inDic['Bd_DstDu'] = DSetLoader('Bd_DstDu', candDir=candDir)\n",
    "inDic['Bd_DstDd'] = DSetLoader('Bd_DstDd', candDir=candDir)\n",
    "inDic['Bd_DstDs'] = DSetLoader('Bd_DstDs', candDir=candDir)\n",
    "inDic['Bu_DstDu'] = DSetLoader('Bu_DstDu', candDir=candDir)\n",
    "inDic['Bu_DstDd'] = DSetLoader('Bu_DstDd', candDir=candDir)\n",
    "inDic['Bs_DstDs'] = DSetLoader('Bs_DstDs', candDir=candDir)\n",
    "\n",
    "######## Others background\n",
    "# inDic['DstKu_KuToMu'] = DSetLoader('DstKu_KuToMu', candDir='ntuples_B2DstMu_211118')"
   ]
  },
  {
   "cell_type": "code",
   "execution_count": 10,
   "metadata": {
    "ExecuteTime": {
     "end_time": "2022-02-26T20:10:34.319010Z",
     "start_time": "2022-02-26T20:10:34.301869Z"
    }
   },
   "outputs": [],
   "source": [
    "# inDic['JPsiKst'] = DSetLoader('Bd_JpsiKst_General', candDir='ntuples_Bd2JpsiKst_220217')"
   ]
  },
  {
   "cell_type": "code",
   "execution_count": 11,
   "metadata": {
    "ExecuteTime": {
     "end_time": "2022-02-26T20:10:34.499213Z",
     "start_time": "2022-02-26T20:10:34.326755Z"
    },
    "hide_input": true
   },
   "outputs": [],
   "source": [
    "# inDic['muHQET_0'] = DSetLoader('B0_MuNuDmst_HQETcentral_PU0')\n",
    "# inDic['mu_0'] = DSetLoader('B0_MuNuDmst_PU0')\n",
    "# inDic['mu_20'] = DSetLoader('B0_MuNuDmst_PU20')\n",
    "# inDic['mu_c0'] = DSetLoader('B0_MuNuDmst_PUc0')\n",
    "# inDic['muSoft_c0'] = DSetLoader('B0_MuNuDmst_SoftQCDall_PUc0')\n",
    "# inDic['mu_35'] = DSetLoader('B0_MuNuDmst_PU35')\n",
    "\n",
    "# inDic['tau_0'] = DSetLoader('B0_TauNuDmst_PU0')\n",
    "# inDic['tau_20'] = DSetLoader('B0_TauNuDmst_PU20')\n",
    "# inDic['tau_c0'] = DSetLoader('B0_TauNuDmst_PUc0')\n",
    "# inDic['tau_35'] = DSetLoader('B0_TauNuDmst_PU35')\n",
    "\n",
    "# inDic['Hc_20'] = DSetLoader('B0_DmstHc_PU20')\n",
    "# inDic['Hc_c0'] = DSetLoader('B0_DmstHc_PUc0')\n",
    "\n",
    "\n",
    "# inDic['DstmDsp'] = DSetLoader('B0_DstmDsp_PUc0')\n",
    "\n",
    "# inDic['DstmDp'] = DSetLoader('B0_DstmDp_PUc0')\n",
    "\n",
    "# inDic['DstmD0'] = DSetLoader('B0_DstmD0_PUc0')\n",
    "\n",
    "# inDic['BpHc'] = DSetLoader('Bp_DstmHc_PUc0')\n",
    "\n",
    "# inDic['BmHc'] = DSetLoader('Bm_DstmHc_PUc0')\n",
    "\n",
    "# inDic['antiB0Hc'] = DSetLoader('antiB0_DstmHc_PUc0')\n",
    "\n",
    "\n",
    "# inDic['DstPip_20'] = DSetLoader('Bp_MuNuDstst_PU20')\n",
    "# inDic['DstPip_c0'] = DSetLoader('Bp_MuNuDstst_Pip_PUc0')\n",
    "\n",
    "# inDic['DstPi0_c0'] = DSetLoader('B0_MuNuDstst_Pi0_PUc0')\n",
    "\n",
    "# inDic['DstPi0_nR_c0'] = DSetLoader('B0_DmstPi0MuNu_PUc0')\n",
    "\n",
    "# inDic['DststPipPi0_c0'] = DSetLoader('Bp_MuNuDstst_PipPi0_PUc0')\n",
    "# inDic['DststPipPi0_nR_c0'] = DSetLoader('Bp_MuNuDstPipPi0_PUc0')\n",
    "\n",
    "# inDic['DststPipPim_c0'] = DSetLoader('B0_MuNuDstst_PipPim_PUc0')\n",
    "# inDic['DststPipPim_nR_c0'] = DSetLoader('B0_MuNuDstPipPim_PUc0')\n",
    "\n",
    "# inDic['DststPi0Pi0_c0'] = DSetLoader('B0_MuNuDstst_Pi0Pi0_PUc0')\n",
    "\n",
    "# inDic['B0_DststPiPiPi_c0'] = DSetLoader('B0_MuNuDstPiPiPi_PUc0')\n",
    "\n",
    "# inDic['Bp_DststPiPiPi_c0'] = DSetLoader('Bp_MuNuDstPiPiPi_PUc0')\n",
    "\n",
    "# inDic['B0_TauNuDstst_Pi0_PUc0'] = DSetLoader('B0_TauNuDstst_Pi0_PUc0')\n",
    "\n",
    "# inDic['Bp_TauNuDstst_Pip_PUc0'] = DSetLoader('Bp_TauNuDstst_Pip_PUc0')"
   ]
  },
  {
   "cell_type": "code",
   "execution_count": 12,
   "metadata": {
    "ExecuteTime": {
     "end_time": "2022-02-26T20:10:34.585386Z",
     "start_time": "2022-02-26T20:10:34.506825Z"
    },
    "hide_input": true
   },
   "outputs": [],
   "source": [
    "# inDic['mu_0'] = DSetLoader('B0_MuNuDmst_PU0', candDir='ntuples_probeB2DstMu')\n",
    "# inDic['p_mu_c0'] = DSetLoader('p_B0_MuNuDst_PUc0', candDir='ntuples_probeB2DstMu')\n",
    "# inDic['p_tau_c0'] = DSetLoader('p_B0_TauNuDst_PUc0', candDir='ntuples_probeB2DstMu')"
   ]
  },
  {
   "cell_type": "code",
   "execution_count": 13,
   "metadata": {
    "ExecuteTime": {
     "end_time": "2022-02-26T20:10:34.633470Z",
     "start_time": "2022-02-26T20:10:34.592719Z"
    },
    "hide_input": true
   },
   "outputs": [],
   "source": [
    "# inDic['JPsiKst_0'] = DSetLoader('B0_JpsiKst_PU0', candDir='ntuples_B2JpsiKst')\n",
    "# inDic['JPsiKst_20'] = DSetLoader('B0_JpsiKst_PU20', candDir='ntuples_B2JpsiKst')\n",
    "# inDic['JPsiKst_35'] = DSetLoader('B0_JpsiKst_PU35', candDir='ntuples_B2JpsiKst')\n",
    "\n",
    "# inDic['JPsiKstFSR_20'] = DSetLoader('B0_JpsiKstFSR_PU20', candDir='ntuples_B2JpsiKst')\n",
    "# inDic['JPsiKst_c0'] = DSetLoader('B0_JpsiKst_PUc0', candDir='ntuples_B2JpsiKst')\n",
    "# inDic['JPsiKst_c0'] = DSetLoader('B0_JpsiX_SoftQCD_PU20', candDir='ntuples_B2JpsiKst')\n",
    "\n",
    "# inDic['JPsiK_c0'] = DSetLoader('Bp_JpsiK_PUc0', candDir='ntuples_B2JpsiK')"
   ]
  },
  {
   "cell_type": "markdown",
   "metadata": {},
   "source": [
    "# Efficiency"
   ]
  },
  {
   "cell_type": "code",
   "execution_count": 14,
   "metadata": {
    "ExecuteTime": {
     "end_time": "2022-02-26T20:10:34.744673Z",
     "start_time": "2022-02-26T20:10:34.642135Z"
    }
   },
   "outputs": [],
   "source": [
    "def getEff(k,N):\n",
    "    e = k/float(N)\n",
    "    de = np.sqrt(e*(1-e)/N)\n",
    "    return [e, de]"
   ]
  },
  {
   "cell_type": "markdown",
   "metadata": {},
   "source": [
    "## Generator Efficiency"
   ]
  },
  {
   "cell_type": "code",
   "execution_count": 15,
   "metadata": {
    "ExecuteTime": {
     "end_time": "2022-02-26T20:10:37.387289Z",
     "start_time": "2022-02-26T20:10:34.751104Z"
    }
   },
   "outputs": [],
   "source": [
    "handle = {}\n",
    "handle['genFilter'] = [Handle('GenFilterInfo'), ('genFilterEfficiencyProducer', '', 'SIM')]\n",
    "handle['genProduct'] = [Handle('GenLumiInfoProduct'), ('generator', '', 'SIM')]"
   ]
  },
  {
   "cell_type": "code",
   "execution_count": 16,
   "metadata": {
    "ExecuteTime": {
     "end_time": "2022-02-26T20:10:37.471282Z",
     "start_time": "2022-02-26T20:10:37.395004Z"
    },
    "code_folding": []
   },
   "outputs": [],
   "source": [
    "def analyzeMINIAODs(fileList):  \n",
    "    print 'Analizing', len(fileList), 'MINIAOD'\n",
    "    N_gen = 0\n",
    "    N_cuts = 0\n",
    "    xsec = []\n",
    "    xsec_err = []\n",
    "    pb = ProgressBar(maxEntry=len(fileList))\n",
    "    skippedFiles = []\n",
    "    for i_j, fileName in enumerate(fileList):\n",
    "        if not os.path.exists(fileName):\n",
    "            fileName = 'root://cmsxrootd.fnal.gov/' + fileName\n",
    "        pb.show(i_j)\n",
    "        with timeout(seconds=30):\n",
    "            try:\n",
    "#                 cmd = 'python generatorEfficiency_MINIAODSIM.py ' + fileName\n",
    "#                 status, output = commands.getstatusoutput(cmd)\n",
    "#                 aux = output.split(' ')\n",
    "#                 N_gen += float(aux[0])\n",
    "#                 N_cuts += float(aux[1])\n",
    "#                 xsec.append(float(aux[2]))\n",
    "#                 xsec_err.append(float(aux[4]))\n",
    "                for lumi in Lumis(fileName):\n",
    "                    prods = {}\n",
    "                    for k,v in handle.iteritems():\n",
    "                        lumi.getByLabel(v[1], v[0])\n",
    "                        prods[k] = v[0].product()\n",
    "                    N_cuts += prods['genFilter'].numEventsPassed()\n",
    "                    N_gen += prods['genFilter'].numEventsTotal()\n",
    "                    xs = prods['genProduct'].getProcessInfos()[0].lheXSec()\n",
    "                    xsec.append(xs.value())\n",
    "                    xsec_err.append(xs.error())\n",
    "            except TimeoutError:\n",
    "                skippedFiles.append(fileName)\n",
    "    print 'Skipped {} files'.format(len(skippedFiles))\n",
    "    print 'Total events in analyzed MINIAODs', N_cuts\n",
    "    xsec = np.array(xsec)\n",
    "    xsec_err = np.array(xsec_err)\n",
    "    return N_gen, N_cuts, xsec, xsec_err"
   ]
  },
  {
   "cell_type": "code",
   "execution_count": 17,
   "metadata": {
    "ExecuteTime": {
     "end_time": "2022-02-26T20:10:37.565719Z",
     "start_time": "2022-02-26T20:10:37.477293Z"
    }
   },
   "outputs": [
    {
     "name": "stdout",
     "output_type": "stream",
     "text": [
      "\n",
      "\n",
      "--> Bs_TauNuDstK\n",
      "Already present\n",
      "{'xsec': [456677828218.53046, 36048904.2320488], 'effGEN': [0.0005487288964862666, 1.8562417474426523e-06]}\n",
      "\n",
      "\n",
      "--> Bs_DstDs\n",
      "Already present\n",
      "{'xsec': [456662294635.436, 17549797.316052377], 'effGEN': [0.0005269860252243413, 8.856350272401264e-07]}\n",
      "\n",
      "\n",
      "--> Bd_TauNuDstPi\n",
      "Already present\n",
      "{'xsec': [456627934865.00574, 33695681.406900726], 'effGEN': [0.0019594178212750325, 3.2767437737953146e-06]}\n",
      "\n",
      "\n",
      "--> Bd_DstDd\n",
      "Already present\n",
      "{'xsec': [456655173314.66113, 30405401.275802836], 'effGEN': [0.0015570839557767558, 2.636168842865786e-06]}\n",
      "\n",
      "\n",
      "--> Bs_MuNuDstK\n",
      "Already present\n",
      "{'xsec': [456726488997.22565, 36573692.07147653], 'effGEN': [0.0023048419118000766, 3.855897991944063e-06]}\n",
      "\n",
      "\n",
      "--> Bd_MuNuDstPi\n",
      "Already present\n",
      "{'xsec': [456744006710.3446, 66325418.73642332], 'effGEN': [0.00757017976646805, 1.2638682968523077e-05]}\n",
      "\n",
      "\n",
      "--> Bd_MuNuDstPiPi_v3\n",
      "Already present\n",
      "{'xsec': [456575472892.70526, 83212782.27491288], 'effGEN': [0.005156072937918303, 1.3107102093328713e-05]}\n",
      "\n",
      "\n",
      "--> Bu_TauNuDstPi\n",
      "Already present\n",
      "{'xsec': [456607782758.73895, 32462737.00095621], 'effGEN': [0.001951799420635564, 3.150851957285874e-06]}\n",
      "\n",
      "\n",
      "--> Bu_DstDu\n",
      "Already present\n",
      "{'xsec': [456727307649.88464, 31931298.133575417], 'effGEN': [0.0005769465910172354, 1.6857567348705974e-06]}\n",
      "\n",
      "\n",
      "--> Bd_TauNuDst\n",
      "Already present\n",
      "{'xsec': [456643781663.98676, 36611605.19230932], 'effGEN': [0.002664095112754531, 4.1498219745822606e-06]}\n",
      "\n",
      "\n",
      "--> Bd_DstDs\n",
      "Already present\n",
      "{'xsec': [456677939829.15814, 37006816.22500361], 'effGEN': [0.0027042410159473338, 4.2257094027381994e-06]}\n",
      "\n",
      "\n",
      "--> Bu_MuNuDstPiPi_v3\n",
      "Already present\n",
      "{'xsec': [456737424451.70703, 83164469.16647147], 'effGEN': [0.005687733654326251, 1.3749752563212038e-05]}\n",
      "\n",
      "\n",
      "--> Bd_TauNuDstPiPi\n",
      "Already present\n",
      "{'xsec': [456639887083.5454, 117418280.7737454], 'effGEN': [0.0016533333333333333, 1.0489994668642504e-05]}\n",
      "\n",
      "\n",
      "--> Bd_DstDu\n",
      "Already present\n",
      "{'xsec': [456718497743.14484, 31880070.493025027], 'effGEN': [0.0005557675909602409, 1.6519213479207043e-06]}\n",
      "\n",
      "\n",
      "--> Bu_TauNuDstPiPi\n",
      "Already present\n",
      "{'xsec': [456617241730.59283, 117412430.43150687], 'effGEN': [0.0016679333333333333, 1.0536132534375502e-05]}\n",
      "\n",
      "\n",
      "--> Bu_MuNuDstPi\n",
      "Already present\n",
      "{'xsec': [456645908978.03937, 65832035.18805618], 'effGEN': [0.007610271070485912, 1.2580267074338246e-05]}\n",
      "\n",
      "\n",
      "--> Bu_DstDd\n",
      "Already present\n",
      "{'xsec': [456664470140.14484, 23230141.73791026], 'effGEN': [0.0014362809282369097, 1.9344367771244566e-06]}\n",
      "\n",
      "\n",
      "--> Bd_MuNuDst\n",
      "Already present\n",
      "{'xsec': [456573357247.07275, 83143629.37104729], 'effGEN': [0.013007340391580057, 2.0718530258658655e-05]}\n"
     ]
    }
   ],
   "source": [
    "N_max = 200\n",
    "recreate = []\n",
    "# recreate = inDic.keys()\n",
    "for n, d in inDic.iteritems():\n",
    "    print '\\n\\n--> ' + d.sample\n",
    "    \n",
    "    outdir = os.path.join(d.candLoc, d.full_name)\n",
    "    outyamlFile = os.path.join(outdir,'effMCgenerator.yaml')\n",
    "    if os.path.isfile(outyamlFile) and not n in recreate:\n",
    "        print 'Already present'\n",
    "        dic = yaml.load(open(outyamlFile, 'r'))\n",
    "        print dic\n",
    "        continue\n",
    "        \n",
    "    fileList = d.MINIAOD_filelist\n",
    "    if N_max > 0 and N_max < len(fileList):\n",
    "        fileList = np.random.choice(fileList, N_max)\n",
    "    elif len(fileList) == 0:\n",
    "        print 'No MiniAODs found, skipping'\n",
    "        continue\n",
    "    \n",
    "    N_gen, N_cuts, xsec, xsec_err = analyzeMINIAODs(fileList)\n",
    "    s2 = np.square(xsec_err)\n",
    "    num = np.sum(xsec/s2)\n",
    "    den = np.sum(1./s2)\n",
    "    xsecAvg = 1e3*num/den\n",
    "    xsecAvg_err = 1e3*np.sqrt(1/den)\n",
    "    chi2 = np.sum(np.square((xsec - xsecAvg*1e-3)/xsec_err))\n",
    "    pval = rt.ROOT.Math.chisquared_cdf_c(chi2, len(xsec)-1)\n",
    "    print 'Chi2: {:.1f}/{} ({:.1f}%)'.format(chi2, len(xsec)-1, pval*100)\n",
    "    print 'Xsec: {:1.4e} +/- {:1.4e} fb ({:1.1e})'.format(xsecAvg, xsecAvg_err, xsecAvg_err/xsecAvg)\n",
    "    d.xsec = [xsecAvg, xsecAvg_err]\n",
    "    \n",
    "    e, de = getEff(N_cuts, N_gen)\n",
    "    print 'eff generator: {:1.3e} +/- {:1.3e} ({:1.1e})'.format(e,de, de/e)\n",
    "    d.effGEN = [e, de]\n",
    "\n",
    "    dump_dic = {}\n",
    "    for k in ['xsec', 'effGEN']:\n",
    "        aux = getattr(d, k)\n",
    "        dump_dic[k] = [float(aux[0]), float(aux[1])]\n",
    "    if not os.path.isdir(outdir):\n",
    "        os.makedirs(outdir)\n",
    "    with open(outyamlFile, 'w') as dumpF:\n",
    "        dumpF.write(yaml.dump(dump_dic, default_flow_style=False, default_style=''))"
   ]
  },
  {
   "cell_type": "markdown",
   "metadata": {},
   "source": [
    "## ntuplizer efficiency"
   ]
  },
  {
   "cell_type": "code",
   "execution_count": 18,
   "metadata": {
    "ExecuteTime": {
     "end_time": "2022-02-26T20:14:00.640533Z",
     "start_time": "2022-02-26T20:10:37.570261Z"
    },
    "code_folding": [],
    "scrolled": true
   },
   "outputs": [
    {
     "name": "stdout",
     "output_type": "stream",
     "text": [
      "\n",
      "\n",
      "--> Bs_TauNuDstK\n",
      "Analyzing 9 ntuplizer job logs\n",
      "[#########]  100% - Tot. time: 0.2 s\n",
      "Total MINIAOD: 905667\n",
      "Total candidates: 37161\n",
      "eff candidates (trigger): 4.092e-01 +/- 5.167e-04 (1.3e-03)\n",
      "eff candidates (cand): 1.003e-01 +/- 4.934e-04 (4.9e-03)\n",
      "eff candidates: 4.103e-02 +/- 2.084e-04 (5.1e-03)\n",
      "$40.92 \\pm 0.05$ & $10.03 \\pm 0.05$ & $4.10 \\pm 0.02$\\\n",
      "Getting the total rates (if existing)\n",
      "Not found\n",
      "\n",
      "\n",
      "--> Bs_DstDs\n",
      "Analyzing 47 ntuplizer job logs\n",
      "[####################]  100% - Tot. time: 0.8 s\n",
      "Total MINIAOD: 5143039\n",
      "Total candidates: 126912\n",
      "eff candidates (trigger): 4.203e-01 +/- 2.177e-04 (5.2e-04)\n",
      "eff candidates (cand): 5.871e-02 +/- 1.599e-04 (2.7e-03)\n",
      "eff candidates: 2.468e-02 +/- 6.841e-05 (2.8e-03)\n",
      "$42.03 \\pm 0.02$ & $5.87 \\pm 0.02$ & $2.47 \\pm 0.01$\\\n",
      "Getting the total rates (if existing)\n",
      "Done\n",
      "\n",
      "\n",
      "--> Bd_TauNuDstPi\n",
      "Analyzing 10 ntuplizer job logs\n",
      "[##########]  100% - Tot. time: 0.2 s\n",
      "Total MINIAOD: 959226\n",
      "Total candidates: 47853\n",
      "eff candidates (trigger): 4.135e-01 +/- 5.028e-04 (1.2e-03)\n",
      "eff candidates (cand): 1.207e-01 +/- 5.172e-04 (4.3e-03)\n",
      "eff candidates: 4.989e-02 +/- 2.223e-04 (4.5e-03)\n",
      "$41.35 \\pm 0.05$ & $12.07 \\pm 0.05$ & $4.99 \\pm 0.02$\\\n",
      "Getting the total rates (if existing)\n",
      "Not found\n",
      "\n",
      "\n",
      "--> Bd_DstDd\n",
      "Analyzing 175 ntuplizer job logs\n",
      "[####################]  100% - Tot. time: 3.1 s\n",
      "Total MINIAOD: 20515014\n",
      "Total candidates: 390262\n",
      "eff candidates (trigger): 4.299e-01 +/- 1.093e-04 (2.5e-04)\n",
      "eff candidates (cand): 4.425e-02 +/- 6.925e-05 (1.6e-03)\n",
      "eff candidates: 1.902e-02 +/- 3.016e-05 (1.6e-03)\n",
      "$42.99 \\pm 0.01$ & $4.43 \\pm 0.01$ & $1.90 \\pm 0.00$\\\n",
      "Getting the total rates (if existing)\n",
      "Done\n",
      "\n",
      "\n",
      "--> Bs_MuNuDstK\n",
      "Analyzing 158 ntuplizer job logs\n",
      "[####################]  100% - Tot. time: 2.7 s\n",
      "Total MINIAOD: 19036940\n",
      "Total candidates: 711347\n",
      "eff candidates (trigger): 3.699e-01 +/- 1.106e-04 (3.0e-04)\n",
      "eff candidates (cand): 1.010e-01 +/- 1.136e-04 (1.1e-03)\n",
      "eff candidates: 3.737e-02 +/- 4.347e-05 (1.2e-03)\n",
      "$36.99 \\pm 0.01$ & $10.10 \\pm 0.01$ & $3.74 \\pm 0.00$\\\n",
      "Getting the total rates (if existing)\n",
      "Done\n",
      "\n",
      "\n",
      "--> Bd_MuNuDstPi\n",
      "Analyzing 384 ntuplizer job logs\n",
      "[####################]  100% - Tot. time: 6.6 s\n",
      "Total MINIAOD: 42613771\n",
      "Total candidates: 1744111\n",
      "eff candidates (trigger): 3.754e-01 +/- 7.418e-05 (2.0e-04)\n",
      "eff candidates (cand): 1.090e-01 +/- 7.792e-05 (7.1e-04)\n",
      "eff candidates: 4.093e-02 +/- 3.035e-05 (7.4e-04)\n",
      "$37.54 \\pm 0.01$ & $10.90 \\pm 0.01$ & $4.09 \\pm 0.00$\\\n",
      "Getting the total rates (if existing)\n",
      "Done\n",
      "\n",
      "\n",
      "--> Bd_MuNuDstPiPi_v3\n",
      "Analyzing 117 ntuplizer job logs\n",
      "[####################]  100% - Tot. time: 2.1 s\n",
      "Total MINIAOD: 7945784\n",
      "Total candidates: 321870\n",
      "eff candidates (trigger): 3.713e-01 +/- 1.714e-04 (4.6e-04)\n",
      "eff candidates (cand): 1.091e-01 +/- 1.815e-04 (1.7e-03)\n",
      "eff candidates: 4.051e-02 +/- 6.994e-05 (1.7e-03)\n",
      "$37.13 \\pm 0.02$ & $10.91 \\pm 0.02$ & $4.05 \\pm 0.01$\\\n",
      "Getting the total rates (if existing)\n",
      "Done\n",
      "\n",
      "\n",
      "--> Bu_TauNuDstPi\n",
      "Analyzing 9 ntuplizer job logs\n",
      "[#########]  100% - Tot. time: 0.1 s\n",
      "Total MINIAOD: 969189\n",
      "Total candidates: 51060\n",
      "eff candidates (trigger): 4.240e-01 +/- 5.020e-04 (1.2e-03)\n",
      "eff candidates (cand): 1.243e-01 +/- 5.146e-04 (4.1e-03)\n",
      "eff candidates: 5.268e-02 +/- 2.269e-04 (4.3e-03)\n",
      "$42.40 \\pm 0.05$ & $12.43 \\pm 0.05$ & $5.27 \\pm 0.02$\\\n",
      "Getting the total rates (if existing)\n",
      "Not found\n",
      "\n",
      "\n",
      "--> Bu_DstDu\n",
      "Analyzing 164 ntuplizer job logs\n",
      "[####################]  100% - Tot. time: 3.1 s\n",
      "Total MINIAOD: 19093673\n",
      "Total candidates: 1144203\n",
      "eff candidates (trigger): 4.315e-01 +/- 1.133e-04 (2.6e-04)\n",
      "eff candidates (cand): 1.389e-01 +/- 1.205e-04 (8.7e-04)\n",
      "eff candidates: 5.993e-02 +/- 5.432e-05 (9.1e-04)\n",
      "$43.15 \\pm 0.01$ & $13.89 \\pm 0.01$ & $5.99 \\pm 0.01$\\\n",
      "Getting the total rates (if existing)\n",
      "Done\n",
      "\n",
      "\n",
      "--> Bd_TauNuDst\n",
      "Analyzing 273 ntuplizer job logs\n",
      "[####################]  100% - Tot. time: 4.5 s\n",
      "Total MINIAOD: 32674898\n",
      "Total candidates: 1560682\n",
      "eff candidates (trigger): 4.170e-01 +/- 8.626e-05 (2.1e-04)\n",
      "eff candidates (cand): 1.145e-01 +/- 8.628e-05 (7.5e-04)\n",
      "eff candidates: 4.776e-02 +/- 3.731e-05 (7.8e-04)\n",
      "$41.70 \\pm 0.01$ & $11.45 \\pm 0.01$ & $4.78 \\pm 0.00$\\\n",
      "Getting the total rates (if existing)\n",
      "Done\n",
      "\n",
      "\n",
      "--> Bd_DstDs\n",
      "Analyzing 323 ntuplizer job logs\n",
      "[####################]  100% - Tot. time: 5.9 s\n",
      "Total MINIAOD: 38958522\n",
      "Total candidates: 1367523\n",
      "eff candidates (trigger): 4.381e-01 +/- 7.949e-05 (1.8e-04)\n",
      "eff candidates (cand): 8.012e-02 +/- 6.571e-05 (8.2e-04)\n",
      "eff candidates: 3.510e-02 +/- 2.949e-05 (8.4e-04)\n",
      "$43.81 \\pm 0.01$ & $8.01 \\pm 0.01$ & $3.51 \\pm 0.00$\\\n",
      "Getting the total rates (if existing)\n",
      "Done\n",
      "\n",
      "\n",
      "--> Bu_MuNuDstPiPi_v3\n",
      "Analyzing 87 ntuplizer job logs\n",
      "[####################]  100% - Tot. time: 1.7 s\n",
      "Total MINIAOD: 6302453\n",
      "Total candidates: 223366\n",
      "eff candidates (trigger): 3.855e-01 +/- 1.939e-04 (5.0e-04)\n",
      "eff candidates (cand): 9.193e-02 +/- 1.853e-04 (2.0e-03)\n",
      "eff candidates: 3.544e-02 +/- 7.365e-05 (2.1e-03)\n",
      "$38.55 \\pm 0.02$ & $9.19 \\pm 0.02$ & $3.54 \\pm 0.01$\\\n",
      "Getting the total rates (if existing)\n",
      "Done\n",
      "\n",
      "\n",
      "--> Bd_TauNuDstPiPi\n",
      "Analyzing 49 ntuplizer job logs\n",
      "[####################]  100% - Tot. time: 0.7 s\n",
      "Total MINIAOD: 1208063\n",
      "Total candidates: 58018\n",
      "eff candidates (trigger): 4.125e-01 +/- 4.479e-04 (1.1e-03)\n",
      "eff candidates (cand): 1.164e-01 +/- 4.544e-04 (3.9e-03)\n",
      "eff candidates: 4.803e-02 +/- 1.945e-04 (4.1e-03)\n",
      "$41.25 \\pm 0.04$ & $11.64 \\pm 0.05$ & $4.80 \\pm 0.02$\\\n",
      "Getting the total rates (if existing)\n",
      "Not found\n",
      "\n",
      "\n",
      "--> Bd_DstDu\n",
      "Analyzing 157 ntuplizer job logs\n",
      "[####################]  100% - Tot. time: 3.0 s\n",
      "Total MINIAOD: 18395819\n",
      "Total candidates: 1015596\n",
      "eff candidates (trigger): 4.205e-01 +/- 1.151e-04 (2.7e-04)\n",
      "eff candidates (cand): 1.313e-01 +/- 1.214e-04 (9.2e-04)\n",
      "eff candidates: 5.521e-02 +/- 5.325e-05 (9.6e-04)\n",
      "$42.05 \\pm 0.01$ & $13.13 \\pm 0.01$ & $5.52 \\pm 0.01$\\\n",
      "Getting the total rates (if existing)\n",
      "Done\n",
      "\n",
      "\n",
      "--> Bu_TauNuDstPiPi\n",
      "Analyzing 47 ntuplizer job logs\n",
      "[####################]  100% - Tot. time: 1.2 s\n",
      "Total MINIAOD: 1163393\n",
      "Total candidates: 59788\n",
      "eff candidates (trigger): 4.222e-01 +/- 4.579e-04 (1.1e-03)\n",
      "eff candidates (cand): 1.217e-01 +/- 4.665e-04 (3.8e-03)\n",
      "eff candidates: 5.139e-02 +/- 2.047e-04 (4.0e-03)\n",
      "$42.22 \\pm 0.05$ & $12.17 \\pm 0.05$ & $5.14 \\pm 0.02$\\\n",
      "Getting the total rates (if existing)\n",
      "Not found\n",
      "\n",
      "\n",
      "--> Bu_MuNuDstPi\n",
      "Analyzing 696 ntuplizer job logs\n",
      "[####################]  100% - Tot. time: 12.5 s\n",
      "Total MINIAOD: 75812268\n",
      "Total candidates: 3277608\n",
      "eff candidates (trigger): 3.880e-01 +/- 5.597e-05 (1.4e-04)\n",
      "eff candidates (cand): 1.114e-01 +/- 5.802e-05 (5.2e-04)\n",
      "eff candidates: 4.323e-02 +/- 2.336e-05 (5.4e-04)\n",
      "$38.80 \\pm 0.01$ & $11.14 \\pm 0.01$ & $4.32 \\pm 0.00$\\\n",
      "Getting the total rates (if existing)\n",
      "Done\n",
      "\n",
      "\n",
      "--> Bu_DstDd\n",
      "Analyzing 264 ntuplizer job logs\n",
      "[####################]  100% - Tot. time: 4.8 s\n",
      "Total MINIAOD: 19308837\n",
      "Total candidates: 364754\n",
      "eff candidates (trigger): 4.276e-01 +/- 1.126e-04 (2.6e-04)\n",
      "eff candidates (cand): 4.418e-02 +/- 7.151e-05 (1.6e-03)\n",
      "eff candidates: 1.889e-02 +/- 3.098e-05 (1.6e-03)\n",
      "$42.76 \\pm 0.01$ & $4.42 \\pm 0.01$ & $1.89 \\pm 0.00$\\\n",
      "Getting the total rates (if existing)\n",
      "Done\n",
      "\n",
      "\n",
      "--> Bd_MuNuDst\n",
      "Analyzing 6369 ntuplizer job logs\n",
      "[####################]  100% - Tot. time: 145.1 s\n",
      "Total MINIAOD: 690031135\n",
      "Total candidates: 25630206\n",
      "eff candidates (trigger): 3.826e-01 +/- 1.850e-05 (4.8e-05)\n",
      "eff candidates (cand): 9.708e-02 +/- 1.822e-05 (1.9e-04)\n",
      "eff candidates: 3.714e-02 +/- 7.199e-06 (1.9e-04)\n",
      "$38.26 \\pm 0.00$ & $9.71 \\pm 0.00$ & $3.71 \\pm 0.00$\\\n",
      "Getting the total rates (if existing)\n",
      "Done\n"
     ]
    }
   ],
   "source": [
    "for d in inDic.values():\n",
    "    print '\\n\\n--> ' + d.sample\n",
    "\n",
    "    if not os.path.isdir(d.ntuples_dir):\n",
    "        continue\n",
    "    cand_out_list = glob(os.path.join(d.ntuples_dir,'out/job*.out'))\n",
    "#     if d.sample == 'Bd_MuNuDst':\n",
    "#         cand_out_list = glob(os.path.join(d.ntuples_dir,'out/job_???_*.out'))\n",
    "    N_analyzed = 0\n",
    "    N_trg = 0\n",
    "    N_cand = 0\n",
    "    print 'Analyzing {} ntuplizer job logs'.format(len(cand_out_list))\n",
    "    pb = ProgressBar(maxEntry=len(cand_out_list))\n",
    "    for ic, cand_out in enumerate(cand_out_list):\n",
    "        pb.show(ic)\n",
    "        eff_ln = []\n",
    "        counters = []\n",
    "        takingCounters = False\n",
    "        for line in open(cand_out).readlines():\n",
    "            if 'efficiency:' in line:\n",
    "                eff_ln.append(line)\n",
    "            elif 'counters:' in line:\n",
    "                    takingCounters = True\n",
    "            elif takingCounters and line[:-1].isdigit():\n",
    "                counters.append(int(line[:-1]))\n",
    "            elif takingCounters:\n",
    "                takingCounters = False\n",
    "#             print line\n",
    "        aux = re.search('[0-9]+/[0-9]+', eff_ln[0]).group(0)\n",
    "        aux = aux.split('/')\n",
    "        N_analyzed += int(aux[1])\n",
    "        N_trg += int(aux[0])\n",
    "        \n",
    "        aux = re.search(': [0-9]+/', eff_ln[1]).group(0)\n",
    "        N_cand += int(aux[2:-1])\n",
    "        \n",
    "        counters=np.array(counters)\n",
    "        if not hasattr(d, 'counters'):\n",
    "            d.counters = counters\n",
    "        else:\n",
    "            d.counters += counters\n",
    "        \n",
    "    d.nTotMINIAOD = N_analyzed\n",
    "    d.nTotCAND = N_cand\n",
    "    print 'Total MINIAOD:', N_analyzed\n",
    "    print 'Total candidates:', N_cand\n",
    "    \n",
    "    e, de = getEff(N_trg, N_analyzed)\n",
    "    d.effCAND_trg = e, de\n",
    "    print 'eff candidates (trigger): {:1.3e} +/- {:1.3e} ({:1.1e})'.format(e,de, de/e)\n",
    "    latexStr = '${:.2f} \\pm {:.2f}$'.format(100*e, 100*de)\n",
    "    \n",
    "    e, de = getEff(N_cand, N_trg)\n",
    "    d.effCAND_cand = e, de\n",
    "    print 'eff candidates (cand): {:1.3e} +/- {:1.3e} ({:1.1e})'.format(e,de, de/e)\n",
    "    latexStr += ' & ${:.2f} \\pm {:.2f}$'.format(100*e, 100*de)\n",
    "    \n",
    "    \n",
    "    e, de = getEff(N_cand, N_analyzed)\n",
    "    d.effCAND = e, de\n",
    "    print 'eff candidates: {:1.3e} +/- {:1.3e} ({:1.1e})'.format(e,de, de/e)\n",
    "    latexStr += ' & ${:.2f} \\pm {:.2f}$\\\\'.format(100*e, 100*de)\n",
    "    print latexStr\n",
    "    \n",
    "    print 'Getting the total rates (if existing)'\n",
    "    try:\n",
    "        fCandLoc = glob(os.path.join(d.ntuples_dir,'out_CAND_*.root'))[0]\n",
    "        fCand = ur.open(fCandLoc)\n",
    "        Trate = fCand['p']['Trate']\n",
    "        d.rate = {}\n",
    "        for k in Trate.keys():\n",
    "            r = Trate.array(k)[0]\n",
    "            r *= 1e12 #GeV -> meV\n",
    "            d.rate[str(k)] = r\n",
    "        print 'Done'\n",
    "    except:\n",
    "        print 'Not found'\n",
    "    \n",
    "    dump_dic = {'nTotMINIAOD': int(d.nTotMINIAOD), 'nTotCAND': int(d.nTotCAND)}\n",
    "    for k in ['effCAND', 'effCAND_trg', 'effCAND_cand']:\n",
    "        aux = getattr(d, k)\n",
    "        dump_dic[k] = [float(aux[0]), float(aux[1])]\n",
    "    if hasattr(d, 'rate'):\n",
    "        for k, v in d.rate.iteritems():\n",
    "            dump_dic['rate_'+k] = float(v)\n",
    "    with open(os.path.join(d.ntuples_dir,'effCAND.yaml'), 'w') as dumpF:\n",
    "        dumpF.write(yaml.dump(dump_dic, default_flow_style=False, default_style=''))"
   ]
  },
  {
   "cell_type": "code",
   "execution_count": 19,
   "metadata": {
    "ExecuteTime": {
     "end_time": "2022-02-26T20:14:01.713163Z",
     "start_time": "2022-02-26T20:14:00.645460Z"
    }
   },
   "outputs": [
    {
     "name": "stdout",
     "output_type": "stream",
     "text": [
      "+-----------------+-------+-------+-------+-------+-------+-------+-------+-------+-------+-------+------+------+------+\n",
      "|      Sample     |   0   |   1   |   2   |   3   |   4   |   5   |   6   |   7   |   8   |   9   |  10  |  11  |  12  |\n",
      "+-----------------+-------+-------+-------+-------+-------+-------+-------+-------+-------+-------+------+------+------+\n",
      "|    Bs_TauDstK   | 40.92 | 40.41 | 39.67 | 37.68 | 36.08 | 30.26 | 18.79 | 18.75 | 17.10 |  9.73 | 4.41 | 4.10 | 4.10 |\n",
      "|     Bs_DstDs    | 42.03 | 41.48 | 40.70 | 38.24 | 36.50 | 30.08 | 13.14 | 13.09 | 12.22 |  7.54 | 3.02 | 2.47 | 2.47 |\n",
      "|   Bd_TauDstPi   | 41.35 | 40.84 | 40.07 | 38.24 | 36.69 | 31.15 | 20.71 | 20.68 | 18.72 | 10.89 | 5.35 | 4.99 | 4.99 |\n",
      "|     Bd_DstDd    | 42.99 | 42.43 | 41.57 | 39.00 | 37.18 | 30.45 | 11.93 | 11.89 | 11.20 |  6.99 | 2.82 | 1.91 | 1.90 |\n",
      "|    Bs_MuDstK    | 36.99 | 36.47 | 35.96 | 34.19 | 32.60 | 26.84 | 17.05 | 17.02 | 15.37 |  8.33 | 3.78 | 3.74 | 3.74 |\n",
      "|    Bd_MuDstPi   | 37.54 | 37.01 | 36.49 | 34.53 | 32.83 | 27.01 | 17.05 | 17.02 | 15.26 |  8.46 | 4.14 | 4.09 | 4.09 |\n",
      "| Bd_MuDstPiPi_v3 | 37.13 | 36.63 | 36.07 | 34.67 | 33.46 | 29.25 | 17.20 | 17.16 | 16.04 | 11.31 | 4.10 | 4.05 | 4.05 |\n",
      "|   Bu_TauDstPi   | 42.40 | 41.89 | 41.05 | 40.06 | 38.43 | 34.10 | 21.50 | 21.46 | 19.44 | 11.48 | 5.66 | 5.27 | 5.27 |\n",
      "|     Bu_DstDu    | 43.15 | 42.65 | 41.45 | 40.01 | 39.68 | 36.05 | 22.24 | 22.19 | 21.84 | 17.58 | 6.82 | 5.99 | 5.99 |\n",
      "|   Bd_TauNuDst   | 41.70 | 41.17 | 40.47 | 38.45 | 36.74 | 30.87 | 20.33 | 20.30 | 18.25 | 10.45 | 5.13 | 4.78 | 4.78 |\n",
      "|     Bd_DstDs    | 43.81 | 43.22 | 42.51 | 40.01 | 38.17 | 31.48 | 15.76 | 15.72 | 14.47 |  8.73 | 4.30 | 3.52 | 3.51 |\n",
      "| Bu_MuDstPiPi_v3 | 38.55 | 38.01 | 37.47 | 35.02 | 32.77 | 26.81 | 14.77 | 14.74 | 13.31 |  7.48 | 3.59 | 3.54 | 3.54 |\n",
      "|  Bd_TauDstPiPi  | 41.25 | 40.77 | 39.93 | 38.70 | 37.67 | 33.90 | 21.21 | 21.16 | 19.98 | 14.66 | 5.14 | 4.80 | 4.80 |\n",
      "|     Bd_DstDu    | 42.05 | 41.60 | 40.33 | 39.29 | 38.94 | 36.08 | 21.50 | 21.45 | 21.08 | 16.76 | 6.29 | 5.52 | 5.52 |\n",
      "|  Bu_TauDstPiPi  | 42.22 | 41.73 | 40.85 | 39.76 | 38.28 | 33.86 | 21.80 | 21.76 | 19.81 | 11.63 | 5.49 | 5.14 | 5.14 |\n",
      "|    Bu_MuDstPi   | 38.80 | 38.26 | 37.70 | 36.58 | 34.76 | 29.99 | 17.81 | 17.78 | 15.97 |  8.93 | 4.37 | 4.32 | 4.32 |\n",
      "|     Bu_DstDd    | 42.76 | 42.22 | 41.32 | 38.69 | 37.10 | 30.73 | 11.85 | 11.80 | 11.28 |  7.97 | 2.81 | 1.90 | 1.89 |\n",
      "|    Bd_MuNuDst   | 38.26 | 37.70 | 37.20 | 35.10 | 33.22 | 27.05 | 17.18 | 17.14 | 15.24 |  8.15 | 3.75 | 3.71 | 3.71 |\n",
      "+-----------------+-------+-------+-------+-------+-------+-------+-------+-------+-------+-------+------+------+------+\n"
     ]
    },
    {
     "data": {
      "image/png": "[encoded data removed]",
      "text/plain": [
       "<matplotlib.figure.Figure at 0x14634a39eb50>"
      ]
     },
     "metadata": {},
     "output_type": "display_data"
    }
   ],
   "source": [
    "t = PrettyTable()\n",
    "t.field_names = ['Sample'] + [str(i) for i in range(d.counters.shape[0])]\n",
    "for n, d in inDic.iteritems():\n",
    "    eff = np.zeros((d.counters.shape[0], 2))\n",
    "    eff[0] = d.effCAND_trg\n",
    "    for i in range(d.counters[1:].shape[0]):\n",
    "        eff[i+1] = getEff(d.counters[i+1], d.nTotMINIAOD)\n",
    "    t.add_row([n] + ['{:.2f}'.format(100*e[0]) for e in eff])\n",
    "    x = np.arange(eff.shape[0])\n",
    "    p = plt.errorbar(x, eff[:, 0], eff[:,1], lw=0, elinewidth=5, label=n)\n",
    "    \n",
    "#     plt.plot(x[[0,-1]], 2*[d.effCAND[0]], '-', color=p[0].get_color())\n",
    "#     plt.fill_between(x[[0,-1]], 2*[d.effCAND[0]-d.effCAND[1]], 2*[d.effCAND[0]+d.effCAND[1]], color=p[0].get_color(), alpha=0.2)\n",
    "print t\n",
    "plt.rcParams.update({'font.size': 20})\n",
    "plt.xlabel('Counter')\n",
    "plt.ylabel('Efficiency')\n",
    "plt.legend(loc='best', numpoints=1)\n",
    "plt.ylim(0.01,1.05)\n",
    "plt.xlim(-1, eff.shape[0])\n",
    "plt.grid(True, which='both')\n",
    "plt.yscale('log')\n",
    "plt.gcf().set_size_inches(10, 6)"
   ]
  },
  {
   "cell_type": "code",
   "execution_count": 20,
   "metadata": {
    "ExecuteTime": {
     "end_time": "2022-02-26T20:14:02.667809Z",
     "start_time": "2022-02-26T20:14:01.718215Z"
    }
   },
   "outputs": [
    {
     "name": "stdout",
     "output_type": "stream",
     "text": [
      "+-----------------+-------+-------+-------+-------+-------+-------+-------+-------+-------+-------+-------+-------+--------+\n",
      "|      Sample     |   0   |   1   |   2   |   3   |   4   |   5   |   6   |   7   |   8   |   9   |   10  |   11  |   12   |\n",
      "+-----------------+-------+-------+-------+-------+-------+-------+-------+-------+-------+-------+-------+-------+--------+\n",
      "|    Bs_TauDstK   | 40.92 | 98.75 | 98.16 | 94.98 | 95.77 | 83.88 | 62.08 | 99.81 | 91.22 | 56.87 | 45.33 | 93.06 | 99.99  |\n",
      "|     Bs_DstDs    | 42.03 | 98.69 | 98.11 | 93.96 | 95.46 | 82.40 | 43.67 | 99.68 | 93.31 | 61.75 | 39.99 | 81.99 | 99.77  |\n",
      "|   Bd_TauDstPi   | 41.35 | 98.77 | 98.11 | 95.45 | 95.95 | 84.88 | 66.50 | 99.83 | 90.51 | 58.16 | 49.18 | 93.20 | 99.99  |\n",
      "|     Bd_DstDd    | 42.99 | 98.70 | 97.97 | 93.82 | 95.32 | 81.89 | 39.19 | 99.62 | 94.23 | 62.46 | 40.37 | 67.65 | 99.60  |\n",
      "|    Bs_MuDstK    | 36.99 | 98.59 | 98.60 | 95.09 | 95.33 | 82.34 | 63.52 | 99.84 | 90.28 | 54.22 | 45.34 | 98.93 | 99.99  |\n",
      "|    Bd_MuDstPi   | 37.54 | 98.60 | 98.58 | 94.64 | 95.09 | 82.26 | 63.14 | 99.82 | 89.66 | 55.45 | 48.89 | 98.93 | 99.99  |\n",
      "| Bd_MuDstPiPi_v3 | 37.13 | 98.66 | 98.46 | 96.13 | 96.51 | 87.41 | 58.81 | 99.79 | 93.47 | 70.47 | 36.29 | 98.74 | 99.98  |\n",
      "|   Bu_TauDstPi   | 42.40 | 98.81 | 97.98 | 97.59 | 95.94 | 88.73 | 63.05 | 99.83 | 90.57 | 59.04 | 49.33 | 93.07 | 100.00 |\n",
      "|     Bu_DstDu    | 43.15 | 98.86 | 97.18 | 96.53 | 99.18 | 90.85 | 61.69 | 99.77 | 98.44 | 80.50 | 38.80 | 87.87 | 99.97  |\n",
      "|   Bd_TauNuDst   | 41.70 | 98.72 | 98.32 | 95.00 | 95.56 | 84.02 | 65.85 | 99.84 | 89.94 | 57.23 | 49.13 | 93.07 | 99.99  |\n",
      "|     Bd_DstDs    | 43.81 | 98.64 | 98.37 | 94.11 | 95.40 | 82.48 | 50.07 | 99.71 | 92.07 | 60.34 | 49.30 | 81.68 | 99.84  |\n",
      "| Bu_MuDstPiPi_v3 | 38.55 | 98.60 | 98.56 | 93.47 | 93.58 | 81.80 | 55.09 | 99.77 | 90.32 | 56.19 | 47.94 | 98.85 | 99.99  |\n",
      "|  Bd_TauDstPiPi  | 41.25 | 98.84 | 97.94 | 96.94 | 97.32 | 90.00 | 62.55 | 99.80 | 94.43 | 73.34 | 35.09 | 93.37 | 99.99  |\n",
      "|     Bd_DstDu    | 42.05 | 98.92 | 96.95 | 97.43 | 99.10 | 92.67 | 59.59 | 99.75 | 98.29 | 79.48 | 37.51 | 87.86 | 99.96  |\n",
      "|  Bu_TauDstPiPi  | 42.22 | 98.83 | 97.91 | 97.32 | 96.29 | 88.46 | 64.38 | 99.82 | 91.01 | 58.73 | 47.19 | 93.62 | 100.00 |\n",
      "|    Bu_MuDstPi   | 38.80 | 98.60 | 98.54 | 97.03 | 95.02 | 86.27 | 59.40 | 99.81 | 89.81 | 55.90 | 48.96 | 98.94 | 100.00 |\n",
      "|     Bu_DstDd    | 42.76 | 98.72 | 97.87 | 93.65 | 95.88 | 82.84 | 38.55 | 99.61 | 95.62 | 70.64 | 35.22 | 67.59 | 99.53  |\n",
      "|    Bd_MuNuDst   | 38.26 | 98.55 | 98.67 | 94.35 | 94.65 | 81.43 | 63.49 | 99.82 | 88.89 | 53.48 | 46.05 | 98.98 | 99.99  |\n",
      "+-----------------+-------+-------+-------+-------+-------+-------+-------+-------+-------+-------+-------+-------+--------+\n"
     ]
    },
    {
     "data": {
      "image/png": "[encoded data removed]",
      "text/plain": [
       "<matplotlib.figure.Figure at 0x14634a39ea50>"
      ]
     },
     "metadata": {},
     "output_type": "display_data"
    }
   ],
   "source": [
    "t = PrettyTable()\n",
    "t.field_names = ['Sample'] + [str(i) for i in range(d.counters.shape[0])]\n",
    "for n, d in inDic.iteritems():\n",
    "    eff = np.zeros((d.counters.shape[0], 2))\n",
    "    eff[0] = d.effCAND_trg\n",
    "    for i in range(d.counters[1:].shape[0]):\n",
    "        eff[i+1] = getEff(d.counters[i+1], d.counters[i])\n",
    "    t.add_row([n] + ['{:.2f}'.format(100*e[0]) for e in eff])\n",
    "    x = np.arange(eff.shape[0])\n",
    "    p = plt.errorbar(x, eff[:, 0], eff[:,1], fmt='o', lw=0, elinewidth=5, label=n)\n",
    "print t\n",
    "plt.rcParams.update({'font.size': 20})\n",
    "plt.xlabel('Counter')\n",
    "plt.ylabel('Efficiency')\n",
    "plt.legend(loc='best', numpoints=1)\n",
    "plt.ylim(0.2,1.05)\n",
    "plt.xlim(-1, eff.shape[0])\n",
    "plt.grid(True, which='both')\n",
    "plt.yscale('log')\n",
    "plt.gcf().set_size_inches(10, 6)"
   ]
  },
  {
   "cell_type": "markdown",
   "metadata": {},
   "source": [
    "## Skim Efficiency"
   ]
  },
  {
   "cell_type": "code",
   "execution_count": 21,
   "metadata": {
    "ExecuteTime": {
     "end_time": "2022-02-26T20:14:03.024835Z",
     "start_time": "2022-02-26T20:14:02.672400Z"
    }
   },
   "outputs": [
    {
     "ename": "NameError",
     "evalue": "name 'order' is not defined",
     "output_type": "error",
     "traceback": [
      "\u001b[0;31m\u001b[0m",
      "\u001b[0;31mNameError\u001b[0mTraceback (most recent call last)",
      "\u001b[0;32m<ipython-input-21-720562a67f9f>\u001b[0m in \u001b[0;36m<module>\u001b[0;34m()\u001b[0m\n\u001b[0;32m----> 1\u001b[0;31m \u001b[0;32mfor\u001b[0m \u001b[0mp\u001b[0m \u001b[0;32min\u001b[0m \u001b[0morder\u001b[0m\u001b[0;34m:\u001b[0m\u001b[0;34m\u001b[0m\u001b[0m\n\u001b[0m\u001b[1;32m      2\u001b[0m     \u001b[0;32mif\u001b[0m \u001b[0;32mnot\u001b[0m \u001b[0mp\u001b[0m \u001b[0;32min\u001b[0m \u001b[0minDic\u001b[0m\u001b[0;34m.\u001b[0m\u001b[0mkeys\u001b[0m\u001b[0;34m(\u001b[0m\u001b[0;34m)\u001b[0m\u001b[0;34m:\u001b[0m\u001b[0;34m\u001b[0m\u001b[0m\n\u001b[1;32m      3\u001b[0m         \u001b[0;32mcontinue\u001b[0m\u001b[0;34m\u001b[0m\u001b[0m\n\u001b[1;32m      4\u001b[0m \u001b[0;34m\u001b[0m\u001b[0m\n\u001b[1;32m      5\u001b[0m     \u001b[0ms\u001b[0m \u001b[0;34m=\u001b[0m \u001b[0;34m[\u001b[0m\u001b[0;34m]\u001b[0m\u001b[0;34m\u001b[0m\u001b[0m\n",
      "\u001b[0;31mNameError\u001b[0m: name 'order' is not defined"
     ]
    }
   ],
   "source": [
    "for p in order:\n",
    "    if not p in inDic.keys():\n",
    "        continue\n",
    "    \n",
    "    s = []\n",
    "    for c in ['Low', 'Mid', 'High']:\n",
    "        s.append(inDic[p].printSkimEffLatex(c+'_bare'))\n",
    "    s = ' & '.join(s)\n",
    "    s += '\\\\\\\\'\n",
    "#     print p, s\n",
    "    print s"
   ]
  },
  {
   "cell_type": "markdown",
   "metadata": {
    "hide_input": false
   },
   "source": [
    "# Comparison table"
   ]
  },
  {
   "cell_type": "code",
   "execution_count": null,
   "metadata": {
    "ExecuteTime": {
     "end_time": "2022-02-26T20:14:03.026025Z",
     "start_time": "2022-02-26T20:10:20.360Z"
    }
   },
   "outputs": [],
   "source": [
    "# Latex format\n",
    "\n",
    "latexTable = r'''\n",
    "\\begin{tabular}{|c||c|c||cc|c||cc|cc|cc|}\n",
    " \\hline\n",
    " Process & \n",
    " xsec [b] & $\\varepsilon_\\text{gen}$ & \n",
    " $\\varepsilon_\\text{trg}$ [\\%]& $\\varepsilon_\\text{cand}$ [\\%]& \n",
    " $\\varepsilon_\\text{ntp} = \\varepsilon_\\text{trg}\\varepsilon_\\text{cand}$ [\\%] &\n",
    " $\\varepsilon_\\text{skim}^{low}$ [\\%] & $\\varepsilon_\\text{ntp}\\varepsilon_\\text{skim}^{low}$ [\\%] &\n",
    " $\\varepsilon_\\text{skim}^{mid}$ [\\%] & $\\varepsilon_\\text{ntp}\\varepsilon_\\text{skim}^{mid}$ [\\%] &\n",
    " $\\varepsilon_\\text{skim}^{high}$ [\\%] & $\\varepsilon_\\text{ntp}\\varepsilon_\\text{skim}^{high}$ [\\%] &\n",
    " \\\\\n",
    " \\hline\n",
    " \\hline\n",
    "'''\n",
    "\n",
    "procTraslation = {\n",
    "    'mu_c0': r'$B\\to D^*\\mu\\nu$ (hard $b\\bar{b}$)',\n",
    "    'muSoft_c0': r'$B\\to D^*\\mu\\nu$ (soft QCD all)',\n",
    "}\n",
    "\n",
    "for n, ds in inDic.iteritems():\n",
    "    name = procTraslation[n] if n in procTraslation.keys() else n\n",
    "    fields = [name]\n",
    "    xsec = '{:.3f}'.format(1e-12*ds.effMCgen['xsec'][0])   \n",
    "    eGen = '{:1.2e}'.format(ds.effMCgen['effGEN'][0])\n",
    "    fields += [xsec, eGen]\n",
    "    for k in ['effCAND_trg', 'effCAND_cand', 'effCAND']:\n",
    "        s = '{:.2f}'.format(100*ds.effCand[k][0])\n",
    "        fields.append(s)\n",
    "    for k in ['Low', 'Mid', 'High']:\n",
    "        s = '{:.2f}'.format(100*ds.getSkimEff(k+'_bare')[0])\n",
    "        fields.append(s)\n",
    "    latexTable += ' ' + ' & '.join(fields) + ' \\\\\\\\\\n \\hline\\n'\n",
    "latexTable += r'\\end{tabular}' + '\\n'\n",
    "print latexTable"
   ]
  },
  {
   "cell_type": "code",
   "execution_count": null,
   "metadata": {
    "ExecuteTime": {
     "end_time": "2022-02-26T20:14:03.027694Z",
     "start_time": "2022-02-26T20:10:20.362Z"
    }
   },
   "outputs": [],
   "source": [
    "# Latex format transposed\n",
    "\n",
    "latexTable = r'\\begin{tabular}{|'+len(inDic.keys() + ['a'])*r'c|'+r'}\\n\\hline\\n'\n",
    "\n",
    "fieldNames = [\n",
    "    r'Process',\n",
    "    r'xsec [b]',\n",
    "    r'$\\varepsilon_\\text{gen}$',\n",
    "    r'$\\varepsilon_\\text{trg}$ [\\%]',\n",
    "    r'$\\varepsilon_\\text{cand}$ [\\%]',\n",
    "    r'$\\varepsilon_\\text{ntp} = \\varepsilon_\\text{trg}\\varepsilon_\\text{cand}$ [\\%]',\n",
    "    r'$\\varepsilon_\\text{skim}^{low}$ [\\%]',\n",
    "    r'$\\varepsilon_\\text{ntp}\\varepsilon_\\text{skim}^{low}$ [\\%]',\n",
    "    r'$\\varepsilon_\\text{skim}^{mid}$ [\\%]',\n",
    "    r'$\\varepsilon_\\text{ntp}\\varepsilon_\\text{skim}^{mid}$ [\\%]',\n",
    "    r'$\\varepsilon_\\text{skim}^{high}$ [\\%]',\n",
    "    r'$\\varepsilon_\\text{ntp}\\varepsilon_\\text{skim}^{high}$ [\\%]'\n",
    "]\n",
    "\n",
    "procTraslation = {\n",
    "    'mu_c0': r'$B\\to D^*\\mu\\nu$ (hard $b\\bar{b}$)',\n",
    "    'muSoft_c0': r'$B\\to D^*\\mu\\nu$ (soft QCD all)',\n",
    "}\n",
    "\n",
    "latexTable += ' '+fieldNames[0]\n",
    "for n, ds in inDic.iteritems():\n",
    "    name = procTraslation[n] if n in procTraslation.keys() else n\n",
    "    latexTable += ' & ' + name\n",
    "latexTable += ' \\\\\\\\\\n \\hline\\n \\hline\\n'\n",
    "    \n",
    "latexTable += ' '+fieldNames[1]\n",
    "for n, ds in inDic.iteritems():\n",
    "    latexTable += ' & ' + '{:.3f}'.format(1e-12*ds.effMCgen['xsec'][0])\n",
    "latexTable += ' \\\\\\\\\\n \\hline\\n'\n",
    "\n",
    "latexTable += ' '+fieldNames[2]\n",
    "for n, ds in inDic.iteritems():\n",
    "    latexTable += ' & ' + '{:1.2e}'.format(ds.effMCgen['effGEN'][0])\n",
    "latexTable += ' \\\\\\\\\\n \\hline\\n \\hline\\n'\n",
    "\n",
    "\n",
    "for i, k in enumerate(['effCAND_trg', 'effCAND_cand', 'effCAND']):\n",
    "    latexTable += ' '+fieldNames[3+i]\n",
    "    for n, ds in inDic.iteritems():\n",
    "        latexTable += ' & ' + '{:.2f}'.format(100*ds.effCand[k][0])\n",
    "    latexTable += ' \\\\\\\\\\n \\hline\\n'\n",
    "latexTable += ' \\hline\\n'\n",
    "\n",
    "for i, k in enumerate(['Low', 'Mid', 'High']):\n",
    "    latexTable += ' '+fieldNames[6+2*i]\n",
    "    for n, ds in inDic.iteritems():\n",
    "        latexTable += ' & ' + '{:.2f}'.format(100*ds.getSkimEff(k+'_bare')[0])\n",
    "    latexTable += ' \\\\\\\\\\n \\hline\\n'\n",
    "    latexTable += ' '+fieldNames[6+2*i+1]\n",
    "    for n, ds in inDic.iteritems():\n",
    "        latexTable += ' & ' + '{:.2f}'.format(100*ds.getSkimEff(k+'_bare')[0]*ds.effCand['effCAND'][0])\n",
    "    latexTable += ' \\\\\\\\\\n \\hline\\n \\hline\\n'\n",
    "\n",
    "latexTable += r'\\end{tabular}' + '\\n'\n",
    "print latexTable"
   ]
  },
  {
   "cell_type": "code",
   "execution_count": null,
   "metadata": {},
   "outputs": [],
   "source": []
  }
 ],
 "metadata": {
  "kernelspec": {
   "display_name": "Python 2",
   "language": "python",
   "name": "python2"
  },
  "language_info": {
   "codemirror_mode": {
    "name": "ipython",
    "version": 2
   },
   "file_extension": ".py",
   "mimetype": "text/x-python",
   "name": "python",
   "nbconvert_exporter": "python",
   "pygments_lexer": "ipython2",
   "version": "2.7.14+"
  },
  "varInspector": {
   "cols": {
    "lenName": 16,
    "lenType": 16,
    "lenVar": 40
   },
   "kernels_config": {
    "python": {
     "delete_cmd_postfix": "",
     "delete_cmd_prefix": "del ",
     "library": "var_list.py",
     "varRefreshCmd": "print(var_dic_list())"
    },
    "r": {
     "delete_cmd_postfix": ") ",
     "delete_cmd_prefix": "rm(",
     "library": "var_list.r",
     "varRefreshCmd": "cat(var_dic_list()) "
    }
   },
   "types_to_exclude": [
    "module",
    "function",
    "builtin_function_or_method",
    "instance",
    "_Feature"
   ],
   "window_display": false
  }
 },
 "nbformat": 4,
 "nbformat_minor": 2
}
