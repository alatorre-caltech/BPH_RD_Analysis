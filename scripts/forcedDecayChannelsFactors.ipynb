{
 "cells": [
  {
   "cell_type": "code",
   "execution_count": 1,
   "metadata": {},
   "outputs": [],
   "source": [
    "import os, pickle\n",
    "from math import sqrt"
   ]
  },
  {
   "cell_type": "code",
   "execution_count": 2,
   "metadata": {},
   "outputs": [],
   "source": [
    "tau_to_MuNuNu = 0.1739 # 0.0004"
   ]
  },
  {
   "cell_type": "code",
   "execution_count": 3,
   "metadata": {},
   "outputs": [],
   "source": [
    "Kst_to_KPi = [1., 1e-4]"
   ]
  },
  {
   "cell_type": "code",
   "execution_count": 4,
   "metadata": {},
   "outputs": [],
   "source": [
    "antiD0_to_KpPim = 0.03950 # 0.00031\n",
    "Dstm_to_antiD0Pim = 0.677 # 0.005\n",
    "antiD10_to_DstmPip = 0.6667 # 0.3"
   ]
  },
  {
   "cell_type": "code",
   "execution_count": 5,
   "metadata": {},
   "outputs": [],
   "source": [
    "JPsi_to_MuMu = [5.961e-2, 0.033e-2]"
   ]
  },
  {
   "cell_type": "code",
   "execution_count": 6,
   "metadata": {},
   "outputs": [],
   "source": [
    "Dsp_to_MuX = 6.33e-2 # ~ 1e-2"
   ]
  },
  {
   "cell_type": "code",
   "execution_count": 7,
   "metadata": {},
   "outputs": [],
   "source": [
    "B0_to_DstmMuNu = 5.05e-2 # 0.14e-2"
   ]
  },
  {
   "cell_type": "code",
   "execution_count": 8,
   "metadata": {},
   "outputs": [],
   "source": [
    "B0_to_DstHc = 10.2e-2 # ~ a lot 2e-2"
   ]
  },
  {
   "cell_type": "code",
   "execution_count": 9,
   "metadata": {},
   "outputs": [],
   "source": [
    "B0_to_JPsiKst = [1.27e-3, 0.05e-3]"
   ]
  },
  {
   "cell_type": "code",
   "execution_count": 10,
   "metadata": {},
   "outputs": [],
   "source": [
    "Bp_to_D10MuNu_to_DstmPip = 3.03e-3 # 0.20e-3\n",
    "Bp_to_D1primeMuNu_to_DstmPip = 2.70e-3 # 0.6e-3\n",
    "Bp_to_D2stMuNu_to_DstmPip = 1.01e-3 # 0.24e-3\n",
    "Bp_to_DststMuNu_To_DstmPip = Bp_to_D10MuNu_to_DstmPip + Bp_to_D1primeMuNu_to_DstmPip + Bp_to_D2stMuNu_to_DstmPip"
   ]
  },
  {
   "cell_type": "code",
   "execution_count": 11,
   "metadata": {},
   "outputs": [],
   "source": [
    "def computeBr(dl):\n",
    "    r = 1\n",
    "    e2_dr_r = 0\n",
    "    for c in dl:\n",
    "        r *= c[0]\n",
    "        e2_dr_r += (c[1]/c[0])**2\n",
    "    dr = sqrt(e2_dr_r)*r\n",
    "    return r, dr"
   ]
  },
  {
   "cell_type": "markdown",
   "metadata": {},
   "source": [
    "# Define the actual factors"
   ]
  },
  {
   "cell_type": "code",
   "execution_count": 12,
   "metadata": {},
   "outputs": [],
   "source": [
    "dout = {}"
   ]
  },
  {
   "cell_type": "code",
   "execution_count": 13,
   "metadata": {},
   "outputs": [],
   "source": [
    "dout['mu'] = B0_to_DstmMuNu\n",
    "dout['mu'] *= Dstm_to_antiD0Pim\n",
    "dout['mu'] *= antiD0_to_KpPim"
   ]
  },
  {
   "cell_type": "code",
   "execution_count": 14,
   "metadata": {},
   "outputs": [],
   "source": [
    "# Tau gets the same ad mu because will get r in the fit\n",
    "dout['tau'] = dout['mu']\n",
    "dout['tau'] *= tau_to_MuNuNu"
   ]
  },
  {
   "cell_type": "code",
   "execution_count": 15,
   "metadata": {},
   "outputs": [],
   "source": [
    "dout['Dstst'] = Bp_to_DststMuNu_To_DstmPip\n",
    "dout['Dstst'] *= Dstm_to_antiD0Pim\n",
    "dout['Dstst'] *= antiD0_to_KpPim"
   ]
  },
  {
   "cell_type": "code",
   "execution_count": 16,
   "metadata": {},
   "outputs": [],
   "source": [
    "dout['Hc'] = B0_to_DstHc\n",
    "dout['Hc'] *= Dsp_to_MuX\n",
    "dout['Hc'] *= Dstm_to_antiD0Pim\n",
    "dout['Hc'] *= antiD0_to_KpPim"
   ]
  },
  {
   "cell_type": "code",
   "execution_count": 17,
   "metadata": {},
   "outputs": [
    {
     "name": "stdout",
     "output_type": "stream",
     "text": [
      "7.57047e-05 3.00983095406e-06\n"
     ]
    }
   ],
   "source": [
    "r, dr = computeBr([B0_to_JPsiKst, JPsi_to_MuMu, Kst_to_KPi])\n",
    "print r, dr\n",
    "dout['JPsiKst'] = [r, dr]"
   ]
  },
  {
   "cell_type": "code",
   "execution_count": 18,
   "metadata": {},
   "outputs": [],
   "source": [
    "pickle.dump(dout, open('../data/forcedDecayChannelsFactors.pickle', 'wb'))"
   ]
  }
 ],
 "metadata": {
  "kernelspec": {
   "display_name": "Python 2",
   "language": "python",
   "name": "python2"
  },
  "language_info": {
   "codemirror_mode": {
    "name": "ipython",
    "version": 2
   },
   "file_extension": ".py",
   "mimetype": "text/x-python",
   "name": "python",
   "nbconvert_exporter": "python",
   "pygments_lexer": "ipython2",
   "version": "2.7.14+"
  }
 },
 "nbformat": 4,
 "nbformat_minor": 2
}
