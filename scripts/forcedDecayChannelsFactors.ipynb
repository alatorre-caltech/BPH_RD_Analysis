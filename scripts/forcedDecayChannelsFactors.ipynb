{
 "cells": [
  {
   "cell_type": "code",
   "execution_count": 1,
   "metadata": {
    "ExecuteTime": {
     "end_time": "2020-05-19T02:24:23.780193Z",
     "start_time": "2020-05-19T02:24:23.449882Z"
    }
   },
   "outputs": [],
   "source": [
    "import os, pickle\n",
    "from math import sqrt\n",
    "import numpy as np"
   ]
  },
  {
   "cell_type": "code",
   "execution_count": 2,
   "metadata": {
    "ExecuteTime": {
     "end_time": "2020-05-19T02:24:23.834402Z",
     "start_time": "2020-05-19T02:24:23.784014Z"
    }
   },
   "outputs": [],
   "source": [
    "# Create the output dictionary\n",
    "dout = {}"
   ]
  },
  {
   "cell_type": "code",
   "execution_count": 3,
   "metadata": {
    "ExecuteTime": {
     "end_time": "2020-05-19T02:24:23.868473Z",
     "start_time": "2020-05-19T02:24:23.838872Z"
    }
   },
   "outputs": [],
   "source": [
    "tau_to_MuNuNu = [0.1739, 0.0004]"
   ]
  },
  {
   "cell_type": "code",
   "execution_count": 4,
   "metadata": {
    "ExecuteTime": {
     "end_time": "2020-05-19T02:24:23.916135Z",
     "start_time": "2020-05-19T02:24:23.872871Z"
    }
   },
   "outputs": [],
   "source": [
    "Kst_to_KPi = [1., 1e-4]"
   ]
  },
  {
   "cell_type": "code",
   "execution_count": 5,
   "metadata": {
    "ExecuteTime": {
     "end_time": "2020-05-19T02:24:23.941895Z",
     "start_time": "2020-05-19T02:24:23.920565Z"
    }
   },
   "outputs": [],
   "source": [
    "antiD0_to_KpPim = [0.03950, 0.00031]\n",
    "dout['antiD0_K+pi-'] = antiD0_to_KpPim\n",
    "Dstm_to_antiD0Pim = [0.677, 0.005]\n",
    "dout['D*-_antiD0pi-'] = Dstm_to_antiD0Pim\n",
    "antiD10_to_DstmPip = [0.6667, 0.3]"
   ]
  },
  {
   "cell_type": "code",
   "execution_count": 6,
   "metadata": {
    "ExecuteTime": {
     "end_time": "2020-05-19T02:24:23.982584Z",
     "start_time": "2020-05-19T02:24:23.946158Z"
    }
   },
   "outputs": [],
   "source": [
    "JPsi_to_MuMu = [5.961e-2, 0.033e-2]"
   ]
  },
  {
   "cell_type": "code",
   "execution_count": 7,
   "metadata": {
    "ExecuteTime": {
     "end_time": "2020-05-19T02:24:24.030411Z",
     "start_time": "2020-05-19T02:24:23.986899Z"
    }
   },
   "outputs": [],
   "source": [
    "Dsp_to_MuX = [6.33e-2, 1e-2]"
   ]
  },
  {
   "cell_type": "code",
   "execution_count": 8,
   "metadata": {
    "ExecuteTime": {
     "end_time": "2020-05-19T02:24:24.086905Z",
     "start_time": "2020-05-19T02:24:24.034130Z"
    }
   },
   "outputs": [],
   "source": [
    "D0_to_Mu = [6.8e-2, 0.6e-2]\n",
    "Dp_to_Mu = [17.6e-2, 3.2e-2]\n",
    "Dsp_to_Mu = [7.2e-2, 0.8e-2]"
   ]
  },
  {
   "cell_type": "code",
   "execution_count": 9,
   "metadata": {
    "ExecuteTime": {
     "end_time": "2020-05-19T02:24:24.142626Z",
     "start_time": "2020-05-19T02:24:24.090364Z"
    }
   },
   "outputs": [],
   "source": [
    "#this uncertainties will be treated a posteriori in the datacard\n",
    "B0_to_DstmD0 = [3.23e-2, 1e-6]\n",
    "B0_to_DstmDp = [1.24e-2, 1e-6]\n",
    "B0_to_DstmDsp = [2.67e-2, 1e-6]"
   ]
  },
  {
   "cell_type": "code",
   "execution_count": 10,
   "metadata": {
    "ExecuteTime": {
     "end_time": "2020-05-19T02:24:24.181966Z",
     "start_time": "2020-05-19T02:24:24.147210Z"
    }
   },
   "outputs": [],
   "source": [
    "B0_to_DstmMuNu = [5.05e-2, 0.14e-2]"
   ]
  },
  {
   "cell_type": "code",
   "execution_count": 11,
   "metadata": {
    "ExecuteTime": {
     "end_time": "2020-05-19T02:24:24.207602Z",
     "start_time": "2020-05-19T02:24:24.186464Z"
    }
   },
   "outputs": [],
   "source": [
    "B0_to_DstHc = [10.2e-2 , 2e-2]"
   ]
  },
  {
   "cell_type": "code",
   "execution_count": 12,
   "metadata": {
    "ExecuteTime": {
     "end_time": "2020-05-19T02:24:24.283104Z",
     "start_time": "2020-05-19T02:24:24.211967Z"
    }
   },
   "outputs": [],
   "source": [
    "B0_to_JPsiKst = [1.27e-3, 0.05e-3]"
   ]
  },
  {
   "cell_type": "code",
   "execution_count": 13,
   "metadata": {
    "ExecuteTime": {
     "end_time": "2020-05-19T02:24:24.349680Z",
     "start_time": "2020-05-19T02:24:24.287135Z"
    }
   },
   "outputs": [],
   "source": [
    "def sumWithUnc(nList):\n",
    "    x = 0\n",
    "    dx = 0\n",
    "    for b in nList:\n",
    "        x += b[0]\n",
    "        dx += b[1]**2\n",
    "    dx = sqrt(dx)\n",
    "    print '{:1.2e} +/- {:1.2e} ({:.2f}%)'.format(x, dx, 100*dx/x)\n",
    "    return [x, dx]"
   ]
  },
  {
   "cell_type": "code",
   "execution_count": 14,
   "metadata": {
    "ExecuteTime": {
     "end_time": "2020-05-19T02:24:24.403696Z",
     "start_time": "2020-05-19T02:24:24.353610Z"
    }
   },
   "outputs": [],
   "source": [
    "Bp_to_D10MuNu_to_DstmPip = [3.03e-3 , 0.20e-3]\n",
    "Bp_to_D1primeMuNu_to_DstmPip = [2.70e-3 , 0.6e-3]\n",
    "Bp_to_D2stMuNu_to_DstmPip = [1.01e-3, 0.24e-3]\n",
    "Bp_to_DststMuNu_To_DstmPip = [6e-3, 0.4e-3] #PDG Gamma 12"
   ]
  },
  {
   "cell_type": "code",
   "execution_count": 15,
   "metadata": {
    "ExecuteTime": {
     "end_time": "2020-05-19T02:24:24.445974Z",
     "start_time": "2020-05-19T02:24:24.408813Z"
    }
   },
   "outputs": [],
   "source": [
    "Bp_to_DstPipPi0 = [7.0e-4, 2.5e-4] #B0_to_DstPipPimMuNu/2 but also compatible with\n",
    "# Rpipi from PhysRevLett.116.041801 (2%) * B->Dstmunu (5%)\n",
    "# and Gamma(B+) 17 /2"
   ]
  },
  {
   "cell_type": "code",
   "execution_count": 16,
   "metadata": {
    "ExecuteTime": {
     "end_time": "2020-05-19T02:24:24.480578Z",
     "start_time": "2020-05-19T02:24:24.449898Z"
    }
   },
   "outputs": [],
   "source": [
    "B0_to_DstPi0MuNu = [3.0e-3, 1.0e-3] # 1/2 of Bp_to_DststMuNu_To_DstmPip (assuming isospin) and compativle with Gamma(B0) 12/2\n",
    "B0_to_DstPipPimMuNu = [1.4e-3, 0.5e-3] #PDG Gamma 17\n",
    "B0_to_DstPi0Pi0MuNu = [0.35e-3, 0.13e-3] # Above / 4 (isospin symm)"
   ]
  },
  {
   "cell_type": "code",
   "execution_count": 17,
   "metadata": {
    "ExecuteTime": {
     "end_time": "2020-05-19T02:24:24.516920Z",
     "start_time": "2020-05-19T02:24:24.486461Z"
    }
   },
   "outputs": [],
   "source": [
    "def computeBr(dl):\n",
    "    r = 1\n",
    "    e2_dr_r = 0\n",
    "    for c in dl:\n",
    "        r *= c[0]\n",
    "        e2_dr_r += (c[1]/c[0])**2\n",
    "    dr = sqrt(e2_dr_r)*r\n",
    "    print '{:1.2e} +/- {:1.2e} ({:.2f}%)'.format(r, dr, 100*dr/r)\n",
    "    return [r, dr]"
   ]
  },
  {
   "cell_type": "code",
   "execution_count": 18,
   "metadata": {
    "ExecuteTime": {
     "end_time": "2020-05-19T02:24:24.607596Z",
     "start_time": "2020-05-19T02:24:24.523245Z"
    }
   },
   "outputs": [
    {
     "name": "stdout",
     "output_type": "stream",
     "text": [
      "1.13e+00 +/- 7.43e-02 (6.58%)\n"
     ]
    },
    {
     "data": {
      "text/plain": [
       "[1.1300000000000001, 0.07433034373659253]"
      ]
     },
     "execution_count": 18,
     "metadata": {},
     "output_type": "execute_result"
    }
   ],
   "source": [
    "sumWithUnc([[0.32, 0.025], [0.81, 0.07]])"
   ]
  },
  {
   "cell_type": "markdown",
   "metadata": {
    "heading_collapsed": true
   },
   "source": [
    "# Compute intemerdiate results"
   ]
  },
  {
   "cell_type": "markdown",
   "metadata": {
    "hidden": true
   },
   "source": [
    "## $D_{s}$"
   ]
  },
  {
   "cell_type": "code",
   "execution_count": 19,
   "metadata": {
    "ExecuteTime": {
     "end_time": "2020-05-19T02:24:24.635202Z",
     "start_time": "2020-05-19T02:24:24.613997Z"
    },
    "hidden": true
   },
   "outputs": [
    {
     "name": "stdout",
     "output_type": "stream",
     "text": [
      "9.57e-03 +/- 3.49e-04 (3.64%)\n",
      "7.21e-02 +/- 8.73e-03 (12.11%)\n"
     ]
    }
   ],
   "source": [
    "Dsp_to_MuNuX_dic = {\n",
    "'eta'        : [2.4e-2, 0.5e-2],\n",
    "'eta_prime'  : [1.1e-2, 0.5e-2],\n",
    "'phi'        : [1.9e-2, 0.5e-2],\n",
    "''           : [0.55e-2, 0.02e-2],\n",
    "'doubleNutau': computeBr([[0.055, 0.002], [0.1740, 0.0004]]),\n",
    "'K0'         : [0.3e-2, 0.1e-2]\n",
    "}\n",
    "\n",
    "Dsp_to_MuNuX_sum = sumWithUnc(Dsp_to_MuNuX_dic.values())"
   ]
  },
  {
   "cell_type": "code",
   "execution_count": 20,
   "metadata": {
    "ExecuteTime": {
     "end_time": "2020-05-19T02:24:24.699476Z",
     "start_time": "2020-05-19T02:24:24.641008Z"
    },
    "hidden": true
   },
   "outputs": [],
   "source": [
    "Dsp_to_MuNuX_0tks = {\n",
    "'eta'        : 0.72,\n",
    "'eta_prime'  : 0.23,\n",
    "'phi'        : 0.12,\n",
    "''           : 1.,\n",
    "'doubleNutau': 1.,\n",
    "'K0'         : 0.5\n",
    "}"
   ]
  },
  {
   "cell_type": "code",
   "execution_count": 21,
   "metadata": {
    "ExecuteTime": {
     "end_time": "2020-05-19T02:24:24.737351Z",
     "start_time": "2020-05-19T02:24:24.705896Z"
    },
    "hidden": true
   },
   "outputs": [],
   "source": [
    "r0Tks = np.sum([Dsp_to_MuNuX_0tks[n]*Dsp_to_MuNuX_dic[n][0] for n in Dsp_to_MuNuX_0tks.keys()])/Dsp_to_MuNuX_sum[0]"
   ]
  },
  {
   "cell_type": "code",
   "execution_count": 22,
   "metadata": {
    "ExecuteTime": {
     "end_time": "2020-05-19T02:24:24.769962Z",
     "start_time": "2020-05-19T02:24:24.743246Z"
    },
    "hidden": true
   },
   "outputs": [],
   "source": [
    "def dR_dBn(n, R):\n",
    "    return (Dsp_to_MuNuX_0tks[n] - R)/Dsp_to_MuNuX_sum[0]"
   ]
  },
  {
   "cell_type": "code",
   "execution_count": 23,
   "metadata": {
    "ExecuteTime": {
     "end_time": "2020-05-19T02:24:24.803326Z",
     "start_time": "2020-05-19T02:24:24.775540Z"
    },
    "hidden": true
   },
   "outputs": [
    {
     "name": "stdout",
     "output_type": "stream",
     "text": [
      "5.36e-01 +/- 3.82e-02 (7.11%)\n"
     ]
    }
   ],
   "source": [
    "s2_r0Tks = 0\n",
    "for n in Dsp_to_MuNuX_0tks.keys():\n",
    "    s2_r0Tks += dR_dBn(n, r0Tks)**2 * Dsp_to_MuNuX_dic[n][1]**2\n",
    "s_r0Tks = sqrt(s2_r0Tks)\n",
    "\n",
    "print '{:1.2e} +/- {:1.2e} ({:.2f}%)'.format(r0Tks, s_r0Tks, 100*s_r0Tks/r0Tks)\n",
    "Dsp_r0Tks = [r0Tks, s_r0Tks]"
   ]
  },
  {
   "cell_type": "markdown",
   "metadata": {
    "hidden": true
   },
   "source": [
    "## $D_0$"
   ]
  },
  {
   "cell_type": "code",
   "execution_count": 24,
   "metadata": {
    "ExecuteTime": {
     "end_time": "2020-05-19T02:24:24.897106Z",
     "start_time": "2020-05-19T02:24:24.808837Z"
    },
    "hidden": true
   },
   "outputs": [
    {
     "name": "stdout",
     "output_type": "stream",
     "text": [
      "5.56e-02 +/- 2.44e-03 (4.38%)\n"
     ]
    }
   ],
   "source": [
    "D0_to_MuNuX_dic = {\n",
    "'K-'         : [3.41e-2, 0.04e-2],\n",
    "'Kst-'       : [1.89e-2, 0.24e-2],\n",
    "'pi-'        : [0.26e-2, 0.01e-2],\n",
    "# 'rho-'       : [0.5e-2, 0.3e-2],\n",
    "# 'antiK0_pi-' : [0.5e-2, 0.3e-2],\n",
    "}\n",
    "\n",
    "D0_to_MuNuX_sum = sumWithUnc(D0_to_MuNuX_dic.values())"
   ]
  },
  {
   "cell_type": "markdown",
   "metadata": {
    "hidden": true
   },
   "source": [
    "They all essentially do 1 tracks in the final state"
   ]
  },
  {
   "cell_type": "markdown",
   "metadata": {
    "hidden": true
   },
   "source": [
    "## $D^+$"
   ]
  },
  {
   "cell_type": "code",
   "execution_count": 25,
   "metadata": {
    "ExecuteTime": {
     "end_time": "2020-05-19T02:24:24.949945Z",
     "start_time": "2020-05-19T02:24:24.903845Z"
    },
    "hidden": true
   },
   "outputs": [
    {
     "name": "stdout",
     "output_type": "stream",
     "text": [
      "1.77e-01 +/- 4.17e-03 (2.36%)\n"
     ]
    }
   ],
   "source": [
    "Dp_to_MuNuX_dic = {\n",
    "'antiK0'    : [8.76e-2, 0.19e-2],\n",
    "'K-pi+'     : [3.65e-2, 0.34e-2],\n",
    "'antiK*0'   : [5.27e-2, 0.15e-2],\n",
    "}\n",
    "\n",
    "Dp_to_MuNuX_sum = sumWithUnc(Dp_to_MuNuX_dic.values())"
   ]
  },
  {
   "cell_type": "code",
   "execution_count": 26,
   "metadata": {
    "ExecuteTime": {
     "end_time": "2020-05-19T02:24:24.998398Z",
     "start_time": "2020-05-19T02:24:24.956825Z"
    },
    "hidden": true
   },
   "outputs": [],
   "source": [
    "Dp_to_MuNuX_0tks = {\n",
    "'antiK0'    : 1-0.7*0.5,\n",
    "'K-pi+'     : 0,\n",
    "'antiK*0'   : 0.33\n",
    "}"
   ]
  },
  {
   "cell_type": "code",
   "execution_count": 27,
   "metadata": {
    "ExecuteTime": {
     "end_time": "2020-05-19T02:24:25.047967Z",
     "start_time": "2020-05-19T02:24:25.005454Z"
    },
    "hidden": true
   },
   "outputs": [
    {
     "name": "stdout",
     "output_type": "stream",
     "text": [
      "4.20e-01 +/- 8.49e-03 (2.02%)\n"
     ]
    }
   ],
   "source": [
    "r0Tks = np.sum([Dp_to_MuNuX_0tks[n]*Dp_to_MuNuX_dic[n][0] for n in Dp_to_MuNuX_0tks.keys()])/Dp_to_MuNuX_sum[0]\n",
    "s2_r0Tks = 0\n",
    "for n in Dp_to_MuNuX_0tks.keys():\n",
    "    s2_r0Tks += ((Dp_to_MuNuX_0tks[n] - r0Tks)/Dp_to_MuNuX_sum[0])**2 * Dp_to_MuNuX_dic[n][1]**2\n",
    "s_r0Tks = sqrt(s2_r0Tks)\n",
    "\n",
    "print '{:1.2e} +/- {:1.2e} ({:.2f}%)'.format(r0Tks, s_r0Tks, 100*s_r0Tks/r0Tks)\n",
    "Dp_r0Tks = [r0Tks, s_r0Tks]"
   ]
  },
  {
   "cell_type": "markdown",
   "metadata": {
    "hidden": true
   },
   "source": [
    "## $B_0 \\to D^*H_c$"
   ]
  },
  {
   "cell_type": "code",
   "execution_count": 28,
   "metadata": {
    "ExecuteTime": {
     "end_time": "2020-05-19T02:24:25.074932Z",
     "start_time": "2020-05-19T02:24:25.053925Z"
    },
    "hidden": true
   },
   "outputs": [
    {
     "name": "stdout",
     "output_type": "stream",
     "text": [
      "5.01e-02 +/- 2.15e-03 (4.29%)\n"
     ]
    }
   ],
   "source": [
    "B0_to_DstHc_dic = {\n",
    "'D*-Ds+'   : [0.80e-2, 0.10e-2],\n",
    "'D*-Ds*+'  : [1.77e-2, 0.15e-2],\n",
    "'D*-D0K+'  : [0.25e-2, 0.02e-2],\n",
    "'D*-D*0K+' : [1.06e-2, 0.09e-2],\n",
    "'D*-D+K0'  : [0.32e-2, 0.02e-2],\n",
    "'D*-D*+K0' : [0.81e-2, 0.07e-2],\n",
    "}\n",
    "B0_to_DstHc_sum = sumWithUnc(B0_to_DstHc_dic.values())"
   ]
  },
  {
   "cell_type": "markdown",
   "metadata": {},
   "source": [
    "# Define the actual factors"
   ]
  },
  {
   "cell_type": "code",
   "execution_count": 29,
   "metadata": {
    "ExecuteTime": {
     "end_time": "2020-05-19T02:24:25.139568Z",
     "start_time": "2020-05-19T02:24:25.080812Z"
    }
   },
   "outputs": [
    {
     "name": "stdout",
     "output_type": "stream",
     "text": [
      "1.35e-03 +/- 4.02e-05 (2.97%)\n"
     ]
    }
   ],
   "source": [
    "dout['mu'] = computeBr([B0_to_DstmMuNu, Dstm_to_antiD0Pim, antiD0_to_KpPim])"
   ]
  },
  {
   "cell_type": "code",
   "execution_count": 30,
   "metadata": {
    "ExecuteTime": {
     "end_time": "2020-05-19T02:24:25.193334Z",
     "start_time": "2020-05-19T02:24:25.145336Z"
    }
   },
   "outputs": [
    {
     "name": "stdout",
     "output_type": "stream",
     "text": [
      "2.35e-04 +/- 7.01e-06 (2.98%)\n"
     ]
    }
   ],
   "source": [
    "# Tau gets the same ad mu because will get r in the fit\n",
    "dout['tau'] = computeBr([dout['mu'], tau_to_MuNuNu])"
   ]
  },
  {
   "cell_type": "code",
   "execution_count": 31,
   "metadata": {
    "ExecuteTime": {
     "end_time": "2020-05-19T02:24:25.240616Z",
     "start_time": "2020-05-19T02:24:25.200050Z"
    }
   },
   "outputs": [
    {
     "name": "stdout",
     "output_type": "stream",
     "text": [
      "1.60e-04 +/- 1.08e-05 (6.75%)\n"
     ]
    }
   ],
   "source": [
    "dout['DstPip'] = computeBr([Bp_to_DststMuNu_To_DstmPip, Dstm_to_antiD0Pim, antiD0_to_KpPim])"
   ]
  },
  {
   "cell_type": "code",
   "execution_count": 32,
   "metadata": {
    "ExecuteTime": {
     "end_time": "2020-05-19T02:24:25.298743Z",
     "start_time": "2020-05-19T02:24:25.247156Z"
    }
   },
   "outputs": [
    {
     "name": "stdout",
     "output_type": "stream",
     "text": [
      "8.02e-05 +/- 2.68e-05 (33.35%)\n"
     ]
    }
   ],
   "source": [
    "dout['DstPi0'] = computeBr([B0_to_DstPi0MuNu, Dstm_to_antiD0Pim, antiD0_to_KpPim])"
   ]
  },
  {
   "cell_type": "code",
   "execution_count": 33,
   "metadata": {
    "ExecuteTime": {
     "end_time": "2020-05-19T02:24:25.349690Z",
     "start_time": "2020-05-19T02:24:25.305396Z"
    }
   },
   "outputs": [
    {
     "name": "stdout",
     "output_type": "stream",
     "text": [
      "1.87e-05 +/- 6.69e-06 (35.73%)\n"
     ]
    }
   ],
   "source": [
    "dout['DstPipPi0'] = computeBr([Bp_to_DstPipPi0, Dstm_to_antiD0Pim, antiD0_to_KpPim])"
   ]
  },
  {
   "cell_type": "code",
   "execution_count": 34,
   "metadata": {
    "ExecuteTime": {
     "end_time": "2020-05-19T02:24:25.386567Z",
     "start_time": "2020-05-19T02:24:25.356109Z"
    }
   },
   "outputs": [
    {
     "name": "stdout",
     "output_type": "stream",
     "text": [
      "3.74e-05 +/- 1.34e-05 (35.73%)\n"
     ]
    }
   ],
   "source": [
    "dout['DstPipPim'] = computeBr([B0_to_DstPipPimMuNu, Dstm_to_antiD0Pim, antiD0_to_KpPim])"
   ]
  },
  {
   "cell_type": "code",
   "execution_count": 35,
   "metadata": {
    "ExecuteTime": {
     "end_time": "2020-05-19T02:24:25.461879Z",
     "start_time": "2020-05-19T02:24:25.392784Z"
    }
   },
   "outputs": [
    {
     "name": "stdout",
     "output_type": "stream",
     "text": [
      "9.36e-06 +/- 3.48e-06 (37.16%)\n"
     ]
    }
   ],
   "source": [
    "dout['DstPi0Pi0'] = computeBr([B0_to_DstPi0Pi0MuNu, Dstm_to_antiD0Pim, antiD0_to_KpPim])"
   ]
  },
  {
   "cell_type": "code",
   "execution_count": 36,
   "metadata": {
    "ExecuteTime": {
     "end_time": "2020-05-19T02:24:25.512316Z",
     "start_time": "2020-05-19T02:24:25.468533Z"
    }
   },
   "outputs": [
    {
     "name": "stdout",
     "output_type": "stream",
     "text": [
      "1.73e-04 +/- 4.35e-05 (25.20%)\n"
     ]
    }
   ],
   "source": [
    "dout['Hc'] = computeBr([B0_to_DstHc, Dsp_to_MuX, Dstm_to_antiD0Pim, antiD0_to_KpPim])"
   ]
  },
  {
   "cell_type": "code",
   "execution_count": 37,
   "metadata": {
    "ExecuteTime": {
     "end_time": "2020-05-19T02:24:25.546652Z",
     "start_time": "2020-05-19T02:24:25.518507Z"
    }
   },
   "outputs": [
    {
     "name": "stdout",
     "output_type": "stream",
     "text": [
      "5.87e-05 +/- 5.22e-06 (8.89%)\n",
      "5.84e-05 +/- 1.06e-05 (18.21%)\n",
      "5.14e-05 +/- 5.74e-06 (11.16%)\n"
     ]
    }
   ],
   "source": [
    "dout['DstmD0'] = computeBr([B0_to_DstmD0, D0_to_Mu, Dstm_to_antiD0Pim, antiD0_to_KpPim])\n",
    "dout['DstmDp'] = computeBr([B0_to_DstmDp, Dp_to_Mu, Dstm_to_antiD0Pim, antiD0_to_KpPim])\n",
    "dout['DstmDsp'] = computeBr([B0_to_DstmDsp, Dsp_to_Mu, Dstm_to_antiD0Pim, antiD0_to_KpPim])"
   ]
  },
  {
   "cell_type": "code",
   "execution_count": 38,
   "metadata": {
    "ExecuteTime": {
     "end_time": "2020-05-19T02:24:25.578719Z",
     "start_time": "2020-05-19T02:24:25.552317Z"
    }
   },
   "outputs": [
    {
     "name": "stdout",
     "output_type": "stream",
     "text": [
      "7.57e-05 +/- 3.01e-06 (3.98%)\n"
     ]
    }
   ],
   "source": [
    "dout['JPsiKst'] = computeBr([B0_to_JPsiKst, JPsi_to_MuMu, Kst_to_KPi])"
   ]
  },
  {
   "cell_type": "markdown",
   "metadata": {},
   "source": [
    "Dump the output dictionary"
   ]
  },
  {
   "cell_type": "code",
   "execution_count": 39,
   "metadata": {
    "ExecuteTime": {
     "end_time": "2020-05-19T02:24:25.603092Z",
     "start_time": "2020-05-19T02:24:25.584140Z"
    }
   },
   "outputs": [],
   "source": [
    "pickle.dump(dout, open('../data/forcedDecayChannelsFactors.pickle', 'wb'))"
   ]
  }
 ],
 "metadata": {
  "kernelspec": {
   "display_name": "Python 2",
   "language": "python",
   "name": "python2"
  },
  "language_info": {
   "codemirror_mode": {
    "name": "ipython",
    "version": 2
   },
   "file_extension": ".py",
   "mimetype": "text/x-python",
   "name": "python",
   "nbconvert_exporter": "python",
   "pygments_lexer": "ipython2",
   "version": "2.7.14+"
  },
  "varInspector": {
   "cols": {
    "lenName": 16,
    "lenType": 16,
    "lenVar": 40
   },
   "kernels_config": {
    "python": {
     "delete_cmd_postfix": "",
     "delete_cmd_prefix": "del ",
     "library": "var_list.py",
     "varRefreshCmd": "print(var_dic_list())"
    },
    "r": {
     "delete_cmd_postfix": ") ",
     "delete_cmd_prefix": "rm(",
     "library": "var_list.r",
     "varRefreshCmd": "cat(var_dic_list()) "
    }
   },
   "types_to_exclude": [
    "module",
    "function",
    "builtin_function_or_method",
    "instance",
    "_Feature"
   ],
   "window_display": false
  }
 },
 "nbformat": 4,
 "nbformat_minor": 2
}
