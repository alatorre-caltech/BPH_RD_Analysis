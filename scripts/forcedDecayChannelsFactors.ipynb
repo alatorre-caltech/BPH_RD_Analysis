{
 "cells": [
  {
   "cell_type": "code",
   "execution_count": 2,
   "metadata": {
    "ExecuteTime": {
     "end_time": "2020-05-12T03:36:37.033752Z",
     "start_time": "2020-05-12T03:36:37.026597Z"
    }
   },
   "outputs": [],
   "source": [
    "import os, pickle\n",
    "from math import sqrt\n",
    "import numpy as np"
   ]
  },
  {
   "cell_type": "code",
   "execution_count": 3,
   "metadata": {
    "ExecuteTime": {
     "end_time": "2020-05-12T03:36:37.528877Z",
     "start_time": "2020-05-12T03:36:37.521530Z"
    }
   },
   "outputs": [],
   "source": [
    "# Create the output dictionary\n",
    "dout = {}"
   ]
  },
  {
   "cell_type": "code",
   "execution_count": 4,
   "metadata": {
    "ExecuteTime": {
     "end_time": "2020-05-12T03:36:37.805125Z",
     "start_time": "2020-05-12T03:36:37.798807Z"
    }
   },
   "outputs": [],
   "source": [
    "tau_to_MuNuNu = [0.1739, 0.0004]"
   ]
  },
  {
   "cell_type": "code",
   "execution_count": 5,
   "metadata": {
    "ExecuteTime": {
     "end_time": "2020-05-12T03:36:38.045420Z",
     "start_time": "2020-05-12T03:36:38.039073Z"
    }
   },
   "outputs": [],
   "source": [
    "Kst_to_KPi = [1., 1e-4]"
   ]
  },
  {
   "cell_type": "code",
   "execution_count": 6,
   "metadata": {
    "ExecuteTime": {
     "end_time": "2020-05-12T03:36:38.466832Z",
     "start_time": "2020-05-12T03:36:38.457435Z"
    }
   },
   "outputs": [],
   "source": [
    "antiD0_to_KpPim = [0.03950, 0.00031]\n",
    "dout['antiD0_K+pi-'] = antiD0_to_KpPim\n",
    "Dstm_to_antiD0Pim = [0.677, 0.005]\n",
    "dout['D*-_antiD0pi-'] = Dstm_to_antiD0Pim\n",
    "antiD10_to_DstmPip = [0.6667, 0.3]"
   ]
  },
  {
   "cell_type": "code",
   "execution_count": 7,
   "metadata": {
    "ExecuteTime": {
     "end_time": "2020-05-12T03:36:38.919114Z",
     "start_time": "2020-05-12T03:36:38.912628Z"
    }
   },
   "outputs": [],
   "source": [
    "JPsi_to_MuMu = [5.961e-2, 0.033e-2]"
   ]
  },
  {
   "cell_type": "code",
   "execution_count": 8,
   "metadata": {
    "ExecuteTime": {
     "end_time": "2020-05-12T03:36:39.341297Z",
     "start_time": "2020-05-12T03:36:39.335026Z"
    }
   },
   "outputs": [],
   "source": [
    "Dsp_to_MuX = [6.33e-2, 1e-2]"
   ]
  },
  {
   "cell_type": "code",
   "execution_count": 37,
   "metadata": {
    "ExecuteTime": {
     "end_time": "2020-05-12T03:38:48.227435Z",
     "start_time": "2020-05-12T03:38:48.221577Z"
    }
   },
   "outputs": [],
   "source": [
    "D0_to_Mu = [6.8e-2, 0.6e-2]\n",
    "Dp_to_Mu = [17.6e-2, 3.2e-2]\n",
    "Dsp_to_Mu = [7.2e-2, 0.8e-2]"
   ]
  },
  {
   "cell_type": "code",
   "execution_count": 10,
   "metadata": {
    "ExecuteTime": {
     "end_time": "2020-05-12T03:36:40.067498Z",
     "start_time": "2020-05-12T03:36:40.060250Z"
    }
   },
   "outputs": [],
   "source": [
    "#this uncertainties will be treated a posteriori in the datacard\n",
    "B0_to_DstmD0 = [3.23e-2, 1e-6]\n",
    "B0_to_DstmDp = [1.24e-2, 1e-6]\n",
    "B0_to_DstmDsp = [2.67e-2, 1e-6]"
   ]
  },
  {
   "cell_type": "code",
   "execution_count": 11,
   "metadata": {
    "ExecuteTime": {
     "end_time": "2020-05-12T03:36:40.405445Z",
     "start_time": "2020-05-12T03:36:40.401517Z"
    }
   },
   "outputs": [],
   "source": [
    "B0_to_DstmMuNu = [5.05e-2, 0.14e-2]"
   ]
  },
  {
   "cell_type": "code",
   "execution_count": 12,
   "metadata": {
    "ExecuteTime": {
     "end_time": "2020-05-12T03:36:40.699961Z",
     "start_time": "2020-05-12T03:36:40.695175Z"
    }
   },
   "outputs": [],
   "source": [
    "B0_to_DstHc = [10.2e-2 , 2e-2]"
   ]
  },
  {
   "cell_type": "code",
   "execution_count": 13,
   "metadata": {
    "ExecuteTime": {
     "end_time": "2020-05-12T03:36:40.936811Z",
     "start_time": "2020-05-12T03:36:40.931911Z"
    }
   },
   "outputs": [],
   "source": [
    "B0_to_JPsiKst = [1.27e-3, 0.05e-3]"
   ]
  },
  {
   "cell_type": "code",
   "execution_count": 14,
   "metadata": {
    "ExecuteTime": {
     "end_time": "2020-05-12T03:36:41.137812Z",
     "start_time": "2020-05-12T03:36:41.129927Z"
    }
   },
   "outputs": [],
   "source": [
    "def sumWithUnc(nList):\n",
    "    x = 0\n",
    "    dx = 0\n",
    "    for b in nList:\n",
    "        x += b[0]\n",
    "        dx += b[1]**2\n",
    "    dx = sqrt(dx)\n",
    "    print '{:1.2e} +/- {:1.2e} ({:.2f}%)'.format(x, dx, 100*dx/x)\n",
    "    return [x, dx]"
   ]
  },
  {
   "cell_type": "code",
   "execution_count": 15,
   "metadata": {
    "ExecuteTime": {
     "end_time": "2020-05-12T03:36:41.304456Z",
     "start_time": "2020-05-12T03:36:41.297611Z"
    }
   },
   "outputs": [
    {
     "name": "stdout",
     "output_type": "stream",
     "text": [
      "6.74e-03 +/- 6.76e-04 (10.04%)\n"
     ]
    }
   ],
   "source": [
    "Bp_to_D10MuNu_to_DstmPip = [3.03e-3 , 0.20e-3]\n",
    "Bp_to_D1primeMuNu_to_DstmPip = [2.70e-3 , 0.6e-3]\n",
    "Bp_to_D2stMuNu_to_DstmPip = [1.01e-3, 0.24e-3]\n",
    "Bp_to_DststMuNu_To_DstmPip = sumWithUnc([Bp_to_D10MuNu_to_DstmPip, \n",
    "                                         Bp_to_D1primeMuNu_to_DstmPip,\n",
    "                                         Bp_to_D2stMuNu_to_DstmPip])\n",
    "Bp_to_DstPipPi0 = [4.0e-4, 2.5e-4]"
   ]
  },
  {
   "cell_type": "code",
   "execution_count": 16,
   "metadata": {
    "ExecuteTime": {
     "end_time": "2020-05-12T03:36:41.478805Z",
     "start_time": "2020-05-12T03:36:41.473270Z"
    }
   },
   "outputs": [],
   "source": [
    "B0_to_DstPi0MuNu = [3.0e-3, 1.0e-3]\n",
    "B0_to_DstPipPimMuNu = [1.4e-3, 0.5e-3]\n",
    "B0_to_DstPi0Pi0MuNu = [0.35e-3, 0.13e-3]"
   ]
  },
  {
   "cell_type": "code",
   "execution_count": 17,
   "metadata": {
    "ExecuteTime": {
     "end_time": "2020-05-12T03:36:42.062243Z",
     "start_time": "2020-05-12T03:36:42.054026Z"
    }
   },
   "outputs": [],
   "source": [
    "def computeBr(dl):\n",
    "    r = 1\n",
    "    e2_dr_r = 0\n",
    "    for c in dl:\n",
    "        r *= c[0]\n",
    "        e2_dr_r += (c[1]/c[0])**2\n",
    "    dr = sqrt(e2_dr_r)*r\n",
    "    print '{:1.2e} +/- {:1.2e} ({:.2f}%)'.format(r, dr, 100*dr/r)\n",
    "    return [r, dr]"
   ]
  },
  {
   "cell_type": "code",
   "execution_count": 18,
   "metadata": {
    "ExecuteTime": {
     "end_time": "2020-05-12T03:36:42.306598Z",
     "start_time": "2020-05-12T03:36:42.286976Z"
    }
   },
   "outputs": [
    {
     "name": "stdout",
     "output_type": "stream",
     "text": [
      "1.13e+00 +/- 7.43e-02 (6.58%)\n"
     ]
    },
    {
     "data": {
      "text/plain": [
       "[1.1300000000000001, 0.07433034373659253]"
      ]
     },
     "execution_count": 18,
     "metadata": {},
     "output_type": "execute_result"
    }
   ],
   "source": [
    "sumWithUnc([[0.32, 0.025], [0.81, 0.07]])"
   ]
  },
  {
   "cell_type": "markdown",
   "metadata": {
    "heading_collapsed": true
   },
   "source": [
    "# Compute intemerdiate results"
   ]
  },
  {
   "cell_type": "markdown",
   "metadata": {
    "hidden": true
   },
   "source": [
    "## $D_{s}$"
   ]
  },
  {
   "cell_type": "code",
   "execution_count": 19,
   "metadata": {
    "ExecuteTime": {
     "end_time": "2020-05-12T03:36:43.170828Z",
     "start_time": "2020-05-12T03:36:43.163176Z"
    },
    "hidden": true
   },
   "outputs": [
    {
     "name": "stdout",
     "output_type": "stream",
     "text": [
      "9.57e-03 +/- 3.49e-04 (3.64%)\n",
      "7.21e-02 +/- 8.73e-03 (12.11%)\n"
     ]
    }
   ],
   "source": [
    "Dsp_to_MuNuX_dic = {\n",
    "'eta'        : [2.4e-2, 0.5e-2],\n",
    "'eta_prime'  : [1.1e-2, 0.5e-2],\n",
    "'phi'        : [1.9e-2, 0.5e-2],\n",
    "''           : [0.55e-2, 0.02e-2],\n",
    "'doubleNutau': computeBr([[0.055, 0.002], [0.1740, 0.0004]]),\n",
    "'K0'         : [0.3e-2, 0.1e-2]\n",
    "}\n",
    "\n",
    "Dsp_to_MuNuX_sum = sumWithUnc(Dsp_to_MuNuX_dic.values())"
   ]
  },
  {
   "cell_type": "code",
   "execution_count": 20,
   "metadata": {
    "ExecuteTime": {
     "end_time": "2020-05-12T03:36:43.350662Z",
     "start_time": "2020-05-12T03:36:43.344554Z"
    },
    "hidden": true
   },
   "outputs": [],
   "source": [
    "Dsp_to_MuNuX_0tks = {\n",
    "'eta'        : 0.72,\n",
    "'eta_prime'  : 0.23,\n",
    "'phi'        : 0.12,\n",
    "''           : 1.,\n",
    "'doubleNutau': 1.,\n",
    "'K0'         : 0.5\n",
    "}"
   ]
  },
  {
   "cell_type": "code",
   "execution_count": 21,
   "metadata": {
    "ExecuteTime": {
     "end_time": "2020-05-12T03:36:43.534365Z",
     "start_time": "2020-05-12T03:36:43.528564Z"
    },
    "hidden": true
   },
   "outputs": [],
   "source": [
    "r0Tks = np.sum([Dsp_to_MuNuX_0tks[n]*Dsp_to_MuNuX_dic[n][0] for n in Dsp_to_MuNuX_0tks.keys()])/Dsp_to_MuNuX_sum[0]"
   ]
  },
  {
   "cell_type": "code",
   "execution_count": 22,
   "metadata": {
    "ExecuteTime": {
     "end_time": "2020-05-12T03:36:43.741617Z",
     "start_time": "2020-05-12T03:36:43.736587Z"
    },
    "hidden": true
   },
   "outputs": [],
   "source": [
    "def dR_dBn(n, R):\n",
    "    return (Dsp_to_MuNuX_0tks[n] - R)/Dsp_to_MuNuX_sum[0]"
   ]
  },
  {
   "cell_type": "code",
   "execution_count": 23,
   "metadata": {
    "ExecuteTime": {
     "end_time": "2020-05-12T03:36:43.926021Z",
     "start_time": "2020-05-12T03:36:43.918519Z"
    },
    "hidden": true
   },
   "outputs": [
    {
     "name": "stdout",
     "output_type": "stream",
     "text": [
      "5.36e-01 +/- 3.82e-02 (7.11%)\n"
     ]
    }
   ],
   "source": [
    "s2_r0Tks = 0\n",
    "for n in Dsp_to_MuNuX_0tks.keys():\n",
    "    s2_r0Tks += dR_dBn(n, r0Tks)**2 * Dsp_to_MuNuX_dic[n][1]**2\n",
    "s_r0Tks = sqrt(s2_r0Tks)\n",
    "\n",
    "print '{:1.2e} +/- {:1.2e} ({:.2f}%)'.format(r0Tks, s_r0Tks, 100*s_r0Tks/r0Tks)\n",
    "Dsp_r0Tks = [r0Tks, s_r0Tks]"
   ]
  },
  {
   "cell_type": "markdown",
   "metadata": {
    "hidden": true
   },
   "source": [
    "## $D_0$"
   ]
  },
  {
   "cell_type": "code",
   "execution_count": 24,
   "metadata": {
    "ExecuteTime": {
     "end_time": "2020-05-12T03:36:44.317125Z",
     "start_time": "2020-05-12T03:36:44.305283Z"
    },
    "hidden": true
   },
   "outputs": [
    {
     "name": "stdout",
     "output_type": "stream",
     "text": [
      "5.56e-02 +/- 2.44e-03 (4.38%)\n"
     ]
    }
   ],
   "source": [
    "D0_to_MuNuX_dic = {\n",
    "'K-'         : [3.41e-2, 0.04e-2],\n",
    "'Kst-'       : [1.89e-2, 0.24e-2],\n",
    "'pi-'        : [0.26e-2, 0.01e-2],\n",
    "# 'rho-'       : [0.5e-2, 0.3e-2],\n",
    "# 'antiK0_pi-' : [0.5e-2, 0.3e-2],\n",
    "}\n",
    "\n",
    "D0_to_MuNuX_sum = sumWithUnc(D0_to_MuNuX_dic.values())"
   ]
  },
  {
   "cell_type": "markdown",
   "metadata": {
    "hidden": true
   },
   "source": [
    "They all essentially do 1 tracks in the final state"
   ]
  },
  {
   "cell_type": "markdown",
   "metadata": {
    "hidden": true
   },
   "source": [
    "## $D^+$"
   ]
  },
  {
   "cell_type": "code",
   "execution_count": 25,
   "metadata": {
    "ExecuteTime": {
     "end_time": "2020-05-12T03:36:45.195718Z",
     "start_time": "2020-05-12T03:36:45.189118Z"
    },
    "hidden": true
   },
   "outputs": [
    {
     "name": "stdout",
     "output_type": "stream",
     "text": [
      "1.77e-01 +/- 4.17e-03 (2.36%)\n"
     ]
    }
   ],
   "source": [
    "Dp_to_MuNuX_dic = {\n",
    "'antiK0'    : [8.76e-2, 0.19e-2],\n",
    "'K-pi+'     : [3.65e-2, 0.34e-2],\n",
    "'antiK*0'   : [5.27e-2, 0.15e-2],\n",
    "}\n",
    "\n",
    "Dp_to_MuNuX_sum = sumWithUnc(Dp_to_MuNuX_dic.values())"
   ]
  },
  {
   "cell_type": "code",
   "execution_count": 26,
   "metadata": {
    "ExecuteTime": {
     "end_time": "2020-05-12T03:36:45.826597Z",
     "start_time": "2020-05-12T03:36:45.820700Z"
    },
    "hidden": true
   },
   "outputs": [],
   "source": [
    "Dp_to_MuNuX_0tks = {\n",
    "'antiK0'    : 1-0.7*0.5,\n",
    "'K-pi+'     : 0,\n",
    "'antiK*0'   : 0.33\n",
    "}"
   ]
  },
  {
   "cell_type": "code",
   "execution_count": 27,
   "metadata": {
    "ExecuteTime": {
     "end_time": "2020-05-12T03:36:46.050188Z",
     "start_time": "2020-05-12T03:36:46.040720Z"
    },
    "hidden": true
   },
   "outputs": [
    {
     "name": "stdout",
     "output_type": "stream",
     "text": [
      "4.20e-01 +/- 8.49e-03 (2.02%)\n"
     ]
    }
   ],
   "source": [
    "r0Tks = np.sum([Dp_to_MuNuX_0tks[n]*Dp_to_MuNuX_dic[n][0] for n in Dp_to_MuNuX_0tks.keys()])/Dp_to_MuNuX_sum[0]\n",
    "s2_r0Tks = 0\n",
    "for n in Dp_to_MuNuX_0tks.keys():\n",
    "    s2_r0Tks += ((Dp_to_MuNuX_0tks[n] - r0Tks)/Dp_to_MuNuX_sum[0])**2 * Dp_to_MuNuX_dic[n][1]**2\n",
    "s_r0Tks = sqrt(s2_r0Tks)\n",
    "\n",
    "print '{:1.2e} +/- {:1.2e} ({:.2f}%)'.format(r0Tks, s_r0Tks, 100*s_r0Tks/r0Tks)\n",
    "Dp_r0Tks = [r0Tks, s_r0Tks]"
   ]
  },
  {
   "cell_type": "markdown",
   "metadata": {
    "hidden": true
   },
   "source": [
    "## $B_0 \\to D^*H_c$"
   ]
  },
  {
   "cell_type": "code",
   "execution_count": 28,
   "metadata": {
    "ExecuteTime": {
     "end_time": "2020-05-12T03:36:50.701837Z",
     "start_time": "2020-05-12T03:36:50.692844Z"
    },
    "hidden": true
   },
   "outputs": [
    {
     "name": "stdout",
     "output_type": "stream",
     "text": [
      "5.01e-02 +/- 2.15e-03 (4.29%)\n"
     ]
    }
   ],
   "source": [
    "B0_to_DstHc_dic = {\n",
    "'D*-Ds+'   : [0.80e-2, 0.10e-2],\n",
    "'D*-Ds*+'  : [1.77e-2, 0.15e-2],\n",
    "'D*-D0K+'  : [0.25e-2, 0.02e-2],\n",
    "'D*-D*0K+' : [1.06e-2, 0.09e-2],\n",
    "'D*-D+K0'  : [0.32e-2, 0.02e-2],\n",
    "'D*-D*+K0' : [0.81e-2, 0.07e-2],\n",
    "}\n",
    "B0_to_DstHc_sum = sumWithUnc(B0_to_DstHc_dic.values())"
   ]
  },
  {
   "cell_type": "markdown",
   "metadata": {},
   "source": [
    "# Define the actual factors"
   ]
  },
  {
   "cell_type": "code",
   "execution_count": 29,
   "metadata": {
    "ExecuteTime": {
     "end_time": "2020-05-12T03:36:58.732065Z",
     "start_time": "2020-05-12T03:36:58.726535Z"
    }
   },
   "outputs": [
    {
     "name": "stdout",
     "output_type": "stream",
     "text": [
      "1.35e-03 +/- 4.02e-05 (2.97%)\n"
     ]
    }
   ],
   "source": [
    "dout['mu'] = computeBr([B0_to_DstmMuNu, Dstm_to_antiD0Pim, antiD0_to_KpPim])"
   ]
  },
  {
   "cell_type": "code",
   "execution_count": 30,
   "metadata": {
    "ExecuteTime": {
     "end_time": "2020-05-12T03:36:59.234827Z",
     "start_time": "2020-05-12T03:36:59.224362Z"
    }
   },
   "outputs": [
    {
     "name": "stdout",
     "output_type": "stream",
     "text": [
      "2.35e-04 +/- 7.01e-06 (2.98%)\n"
     ]
    }
   ],
   "source": [
    "# Tau gets the same ad mu because will get r in the fit\n",
    "dout['tau'] = computeBr([dout['mu'], tau_to_MuNuNu])"
   ]
  },
  {
   "cell_type": "code",
   "execution_count": 31,
   "metadata": {
    "ExecuteTime": {
     "end_time": "2020-05-12T03:37:00.166202Z",
     "start_time": "2020-05-12T03:37:00.160402Z"
    }
   },
   "outputs": [
    {
     "name": "stdout",
     "output_type": "stream",
     "text": [
      "1.80e-04 +/- 1.82e-05 (10.09%)\n"
     ]
    }
   ],
   "source": [
    "dout['DstPip'] = computeBr([Bp_to_DststMuNu_To_DstmPip, Dstm_to_antiD0Pim, antiD0_to_KpPim])"
   ]
  },
  {
   "cell_type": "code",
   "execution_count": 32,
   "metadata": {
    "ExecuteTime": {
     "end_time": "2020-05-12T03:37:00.367701Z",
     "start_time": "2020-05-12T03:37:00.362105Z"
    }
   },
   "outputs": [
    {
     "name": "stdout",
     "output_type": "stream",
     "text": [
      "8.02e-05 +/- 2.68e-05 (33.35%)\n"
     ]
    }
   ],
   "source": [
    "dout['DstPi0'] = computeBr([B0_to_DstPi0MuNu, Dstm_to_antiD0Pim, antiD0_to_KpPim])"
   ]
  },
  {
   "cell_type": "code",
   "execution_count": 33,
   "metadata": {
    "ExecuteTime": {
     "end_time": "2020-05-12T03:37:00.568863Z",
     "start_time": "2020-05-12T03:37:00.562069Z"
    }
   },
   "outputs": [
    {
     "name": "stdout",
     "output_type": "stream",
     "text": [
      "1.07e-05 +/- 6.69e-06 (62.51%)\n"
     ]
    }
   ],
   "source": [
    "dout['DstPipPi0'] = computeBr([Bp_to_DstPipPi0, Dstm_to_antiD0Pim, antiD0_to_KpPim])"
   ]
  },
  {
   "cell_type": "code",
   "execution_count": 34,
   "metadata": {
    "ExecuteTime": {
     "end_time": "2020-05-12T03:37:06.061170Z",
     "start_time": "2020-05-12T03:37:06.055435Z"
    }
   },
   "outputs": [
    {
     "name": "stdout",
     "output_type": "stream",
     "text": [
      "3.74e-05 +/- 1.34e-05 (35.73%)\n"
     ]
    }
   ],
   "source": [
    "dout['DstPipPim'] = computeBr([B0_to_DstPipPimMuNu, Dstm_to_antiD0Pim, antiD0_to_KpPim])"
   ]
  },
  {
   "cell_type": "code",
   "execution_count": 35,
   "metadata": {
    "ExecuteTime": {
     "end_time": "2020-05-12T03:37:06.401503Z",
     "start_time": "2020-05-12T03:37:06.396969Z"
    }
   },
   "outputs": [
    {
     "name": "stdout",
     "output_type": "stream",
     "text": [
      "9.36e-06 +/- 3.48e-06 (37.16%)\n"
     ]
    }
   ],
   "source": [
    "dout['DstPi0Pi0'] = computeBr([B0_to_DstPi0Pi0MuNu, Dstm_to_antiD0Pim, antiD0_to_KpPim])"
   ]
  },
  {
   "cell_type": "code",
   "execution_count": 36,
   "metadata": {
    "ExecuteTime": {
     "end_time": "2020-05-12T03:37:08.031077Z",
     "start_time": "2020-05-12T03:37:08.025728Z"
    }
   },
   "outputs": [
    {
     "name": "stdout",
     "output_type": "stream",
     "text": [
      "1.73e-04 +/- 4.35e-05 (25.20%)\n"
     ]
    }
   ],
   "source": [
    "dout['Hc'] = computeBr([B0_to_DstHc, Dsp_to_MuX, Dstm_to_antiD0Pim, antiD0_to_KpPim])"
   ]
  },
  {
   "cell_type": "code",
   "execution_count": 38,
   "metadata": {
    "ExecuteTime": {
     "end_time": "2020-05-12T03:39:15.754691Z",
     "start_time": "2020-05-12T03:39:15.747811Z"
    }
   },
   "outputs": [
    {
     "name": "stdout",
     "output_type": "stream",
     "text": [
      "5.87e-05 +/- 5.22e-06 (8.89%)\n",
      "5.84e-05 +/- 1.06e-05 (18.21%)\n",
      "5.14e-05 +/- 5.74e-06 (11.16%)\n"
     ]
    }
   ],
   "source": [
    "dout['DstmD0'] = computeBr([B0_to_DstmD0, D0_to_Mu, Dstm_to_antiD0Pim, antiD0_to_KpPim])\n",
    "dout['DstmDp'] = computeBr([B0_to_DstmDp, Dp_to_Mu, Dstm_to_antiD0Pim, antiD0_to_KpPim])\n",
    "dout['DstmDsp'] = computeBr([B0_to_DstmDsp, Dsp_to_Mu, Dstm_to_antiD0Pim, antiD0_to_KpPim])"
   ]
  },
  {
   "cell_type": "code",
   "execution_count": 39,
   "metadata": {
    "ExecuteTime": {
     "end_time": "2020-05-12T03:39:16.597686Z",
     "start_time": "2020-05-12T03:39:16.592446Z"
    }
   },
   "outputs": [
    {
     "name": "stdout",
     "output_type": "stream",
     "text": [
      "7.57e-05 +/- 3.01e-06 (3.98%)\n"
     ]
    }
   ],
   "source": [
    "dout['JPsiKst'] = computeBr([B0_to_JPsiKst, JPsi_to_MuMu, Kst_to_KPi])"
   ]
  },
  {
   "cell_type": "markdown",
   "metadata": {},
   "source": [
    "Dump the output dictionary"
   ]
  },
  {
   "cell_type": "code",
   "execution_count": 40,
   "metadata": {
    "ExecuteTime": {
     "end_time": "2020-05-12T03:42:50.051069Z",
     "start_time": "2020-05-12T03:42:50.039289Z"
    }
   },
   "outputs": [],
   "source": [
    "pickle.dump(dout, open('../data/forcedDecayChannelsFactors.pickle', 'wb'))"
   ]
  }
 ],
 "metadata": {
  "kernelspec": {
   "display_name": "Python 2",
   "language": "python",
   "name": "python2"
  },
  "varInspector": {
   "cols": {
    "lenName": 16,
    "lenType": 16,
    "lenVar": 40
   },
   "kernels_config": {
    "python": {
     "delete_cmd_postfix": "",
     "delete_cmd_prefix": "del ",
     "library": "var_list.py",
     "varRefreshCmd": "print(var_dic_list())"
    },
    "r": {
     "delete_cmd_postfix": ") ",
     "delete_cmd_prefix": "rm(",
     "library": "var_list.r",
     "varRefreshCmd": "cat(var_dic_list()) "
    }
   },
   "types_to_exclude": [
    "module",
    "function",
    "builtin_function_or_method",
    "instance",
    "_Feature"
   ],
   "window_display": false
  }
 },
 "nbformat": 4,
 "nbformat_minor": 2
}
