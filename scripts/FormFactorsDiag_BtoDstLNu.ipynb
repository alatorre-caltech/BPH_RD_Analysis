{
 "cells": [
  {
   "cell_type": "code",
   "execution_count": 2,
   "metadata": {
    "ExecuteTime": {
     "end_time": "2022-03-30T06:02:03.955532Z",
     "start_time": "2022-03-30T06:02:03.950164Z"
    }
   },
   "outputs": [],
   "source": [
    "import numpy as np"
   ]
  },
  {
   "cell_type": "markdown",
   "metadata": {
    "heading_collapsed": true
   },
   "source": [
    "# CLN"
   ]
  },
  {
   "cell_type": "markdown",
   "metadata": {
    "hidden": true
   },
   "source": [
    "All number are taken from: https://arxiv.org/pdf/1909.12524.pdf"
   ]
  },
  {
   "cell_type": "code",
   "execution_count": 2,
   "metadata": {
    "ExecuteTime": {
     "end_time": "2022-03-08T18:27:36.402516Z",
     "start_time": "2022-03-08T18:27:36.393037Z"
    },
    "hidden": true
   },
   "outputs": [],
   "source": [
    "parName = ['rho2', 'R1', 'R2']\n",
    "parVal = np.array([1.122, 1.270, 0.852])\n",
    "parSig = np.array([0.024, 0.026, 0.018])"
   ]
  },
  {
   "cell_type": "code",
   "execution_count": 3,
   "metadata": {
    "ExecuteTime": {
     "end_time": "2022-03-08T18:27:36.514003Z",
     "start_time": "2022-03-08T18:27:36.408465Z"
    },
    "hidden": true
   },
   "outputs": [
    {
     "name": "stdout",
     "output_type": "stream",
     "text": [
      "[[ 1.     0.566 -0.824]\n",
      " [ 0.566  1.    -0.715]\n",
      " [-0.824 -0.715  1.   ]]\n"
     ]
    }
   ],
   "source": [
    "a = np.zeros((3,3))\n",
    "a[0, 1] = 0.566\n",
    "a[0, 2] = -0.824\n",
    "a[1, 2] = -0.715\n",
    "\n",
    "corrM = a + a.T + np.identity(3)\n",
    "print corrM"
   ]
  },
  {
   "cell_type": "code",
   "execution_count": 4,
   "metadata": {
    "ExecuteTime": {
     "end_time": "2022-03-08T18:27:36.699268Z",
     "start_time": "2022-03-08T18:27:36.521247Z"
    },
    "hidden": true
   },
   "outputs": [
    {
     "name": "stdout",
     "output_type": "stream",
     "text": [
      "[[ 0.000576    0.00035318 -0.00035597]\n",
      " [ 0.00035318  0.000676   -0.00033462]\n",
      " [-0.00035597 -0.00033462  0.000324  ]]\n"
     ]
    }
   ],
   "source": [
    "covM = np.atleast_2d(parSig).T * corrM * parSig\n",
    "print covM"
   ]
  },
  {
   "cell_type": "code",
   "execution_count": 5,
   "metadata": {
    "ExecuteTime": {
     "end_time": "2022-03-08T18:27:36.780165Z",
     "start_time": "2022-03-08T18:27:36.704898Z"
    },
    "hidden": true
   },
   "outputs": [],
   "source": [
    "eigVal, eigVec = np.linalg.eig(covM)"
   ]
  },
  {
   "cell_type": "markdown",
   "metadata": {
    "hidden": true
   },
   "source": [
    "The normalized (unit “length”) eigenvectors, such that the column v[:,i] is the eigenvector corresponding to the eigenvalue w[i]."
   ]
  },
  {
   "cell_type": "code",
   "execution_count": 6,
   "metadata": {
    "ExecuteTime": {
     "end_time": "2022-03-08T18:27:36.843872Z",
     "start_time": "2022-03-08T18:27:36.784669Z"
    },
    "hidden": true
   },
   "outputs": [],
   "source": [
    "eigSig = np.sqrt(eigVal)"
   ]
  },
  {
   "cell_type": "code",
   "execution_count": 7,
   "metadata": {
    "ExecuteTime": {
     "end_time": "2022-03-08T18:27:37.163665Z",
     "start_time": "2022-03-08T18:27:36.851334Z"
    },
    "hidden": true
   },
   "outputs": [
    {
     "name": "stdout",
     "output_type": "stream",
     "text": [
      "eigSigma: 0.035\n",
      "eigVect: -0.597, -0.651, 0.469\n",
      "{{-0.02102485  0.02102485}, {-0.02293032  0.02293032}, { 0.01652843 -0.01652843}}\n",
      "\n",
      "\n",
      "eigSigma: 0.017\n",
      "eigVect: -0.664, 0.729, 0.167\n",
      "{{-0.01105955  0.01105955}, { 0.01215074 -0.01215074}, { 0.00278883 -0.00278883}}\n",
      "\n",
      "\n",
      "eigSigma: 0.008\n",
      "eigVect: 0.451, 0.211, 0.867\n",
      "{{ 0.00341205 -0.00341205}, { 0.00159999 -0.00159999}, { 0.00655998 -0.00655998}}\n",
      "\n",
      "\n"
     ]
    }
   ],
   "source": [
    "for i in range(eigSig.shape[0]):\n",
    "    print 'eigSigma: {:.3f}'.format(eigSig[i])\n",
    "    print 'eigVect: {:.3f}, {:.3f}, {:.3f}'.format(*eigVec[:, i])\n",
    "    a = str(np.column_stack((eigSig[i]*eigVec[:, i], -eigSig[i]*eigVec[:, i])))\n",
    "    print a.replace('\\n', ',').replace('[', '{').replace(']', '}')\n",
    "    print '\\n'"
   ]
  },
  {
   "cell_type": "code",
   "execution_count": 8,
   "metadata": {
    "ExecuteTime": {
     "end_time": "2022-03-08T18:27:37.279850Z",
     "start_time": "2022-03-08T18:27:37.170541Z"
    },
    "hidden": true
   },
   "outputs": [
    {
     "name": "stdout",
     "output_type": "stream",
     "text": [
      "{{ -0.0210, 0.0210}, { -0.0229, 0.0229}, { 0.0165, -0.0165},  {0, 0}},\n",
      "{{ -0.0111, 0.0111}, { 0.0122, -0.0122}, { 0.0028, -0.0028},  {0, 0}},\n",
      "{{ 0.0034, -0.0034}, { 0.0016, -0.0016}, { 0.0066, -0.0066},  {0, 0}},\n"
     ]
    }
   ],
   "source": [
    "for i in range(eigSig.shape[0]):\n",
    "    a = np.column_stack((eigSig[i]*eigVec[:, i], -eigSig[i]*eigVec[:, i]))\n",
    "    s = '{'\n",
    "    for l, h in a:\n",
    "        s += '{{ {:.4f}, {:.4f}}}, '.format(l, h)\n",
    "    s += ' {0, 0}},'\n",
    "    print s"
   ]
  },
  {
   "cell_type": "code",
   "execution_count": 9,
   "metadata": {
    "ExecuteTime": {
     "end_time": "2022-03-08T18:27:37.445403Z",
     "start_time": "2022-03-08T18:27:37.286907Z"
    },
    "hidden": true
   },
   "outputs": [
    {
     "name": "stdout",
     "output_type": "stream",
     "text": [
      "{{ -0.0420, 0.0420}, { -0.0459, 0.0459}, { 0.0331, -0.0331},  {0, 0}},\n",
      "{{ -0.0221, 0.0221}, { 0.0243, -0.0243}, { 0.0056, -0.0056},  {0, 0}},\n",
      "{{ 0.0068, -0.0068}, { 0.0032, -0.0032}, { 0.0131, -0.0131},  {0, 0}},\n"
     ]
    }
   ],
   "source": [
    "for i in range(eigSig.shape[0]):\n",
    "    a = np.column_stack((2*eigSig[i]*eigVec[:, i], -2*eigSig[i]*eigVec[:, i]))\n",
    "    s = '{'\n",
    "    for l, h in a:\n",
    "        s += '{{ {:.4f}, {:.4f}}}, '.format(l, h)\n",
    "    s += ' {0, 0}},'\n",
    "    print s"
   ]
  },
  {
   "cell_type": "markdown",
   "metadata": {},
   "source": [
    "# BLPR"
   ]
  },
  {
   "cell_type": "markdown",
   "metadata": {
    "ExecuteTime": {
     "end_time": "2020-11-20T06:13:53.162797Z",
     "start_time": "2020-11-20T06:13:53.150099Z"
    }
   },
   "source": [
    "All references form: arXiv:1703.05330v4\n",
    "\n",
    "Using scheme NoL+SR (No Lattice QCD, Yes QCD sum rules)"
   ]
  },
  {
   "cell_type": "code",
   "execution_count": 10,
   "metadata": {
    "ExecuteTime": {
     "end_time": "2022-03-08T18:27:37.554189Z",
     "start_time": "2022-03-08T18:27:37.451312Z"
    }
   },
   "outputs": [],
   "source": [
    "# RhoSq, chi2(1), chi2(1)prime, chi3(1)prime, eta(1), eta(1)prime, V20\n",
    "parName = ['RhoSq','chi21','chi2p','chi3p','eta1','etap','dV20']\n",
    "parVal = np.array([1.19, -0.06, -0.00, 0.04, 0.35, -0.11, 0.])\n",
    "parSig = np.array([0.08, 0.02, 0.02, 0.02, 0.14, 0.18, 0.0001])"
   ]
  },
  {
   "cell_type": "code",
   "execution_count": 11,
   "metadata": {
    "ExecuteTime": {
     "end_time": "2022-03-08T18:27:37.811779Z",
     "start_time": "2022-03-08T18:27:37.561113Z"
    },
    "scrolled": true
   },
   "outputs": [
    {
     "name": "stdout",
     "output_type": "stream",
     "text": [
      "[[ 1.   -0.15 -0.07  0.57  0.44 -0.11  0.  ]\n",
      " [-0.15  1.   -0.02  0.07 -0.15 -0.09  0.  ]\n",
      " [-0.07 -0.02  1.    0.03 -0.07 -0.05  0.  ]\n",
      " [ 0.57  0.07  0.03  1.    0.17  0.16  0.  ]\n",
      " [ 0.44 -0.15 -0.07  0.17  1.   -0.4   0.  ]\n",
      " [-0.11 -0.09 -0.05  0.16 -0.4   1.    0.  ]\n",
      " [ 0.    0.    0.    0.    0.    0.    1.  ]]\n"
     ]
    }
   ],
   "source": [
    "a = np.zeros((len(parName),len(parName)))\n",
    "a[0, 1] = -0.15\n",
    "a[0, 2] = -0.07\n",
    "a[0, 3] = 0.57\n",
    "a[0, 4] = 0.44\n",
    "a[0, 5] = -0.11\n",
    "\n",
    "a[1, 2] = -0.02\n",
    "a[1, 3] = 0.07\n",
    "a[1, 4] = -0.15\n",
    "a[1, 5] = -0.09\n",
    "\n",
    "a[2, 3] = 0.03\n",
    "a[2, 4] = -0.07\n",
    "a[2, 5] = -0.05\n",
    "\n",
    "a[3, 4] = 0.17\n",
    "a[3, 5] = 0.16\n",
    "\n",
    "a[4, 5] = -0.40\n",
    "\n",
    "corrM = a + a.T + np.identity(len(parName))\n",
    "print corrM"
   ]
  },
  {
   "cell_type": "code",
   "execution_count": 12,
   "metadata": {
    "ExecuteTime": {
     "end_time": "2022-03-08T18:27:37.938572Z",
     "start_time": "2022-03-08T18:27:37.817698Z"
    },
    "scrolled": true
   },
   "outputs": [],
   "source": [
    "covM = np.atleast_2d(parSig).T * corrM * parSig\n",
    "# print covM"
   ]
  },
  {
   "cell_type": "code",
   "execution_count": 13,
   "metadata": {
    "ExecuteTime": {
     "end_time": "2022-03-08T18:27:38.053674Z",
     "start_time": "2022-03-08T18:27:37.946128Z"
    }
   },
   "outputs": [],
   "source": [
    "eigVal, eigVec = np.linalg.eig(covM)\n",
    "eigSig = np.sqrt(eigVal)"
   ]
  },
  {
   "cell_type": "code",
   "execution_count": 14,
   "metadata": {
    "ExecuteTime": {
     "end_time": "2022-03-08T18:27:38.293813Z",
     "start_time": "2022-03-08T18:27:38.058489Z"
    }
   },
   "outputs": [
    {
     "name": "stdout",
     "output_type": "stream",
     "text": [
      "eigSigma: 0.196\n",
      "eigVect: 0.119, 0.001, 0.001\n",
      "{{ 0.02322283, -0.02322283}, { 0.00022429, -0.00022429}, { 0.00023267, -0.00023267}, {-0.00079148,  0.00079148}, { 0.09664184, -0.09664184}, {-0.16885149,  0.16885149}, { 0.         -0.        }},\n",
      "\n",
      "\n",
      "eigSigma: 0.124\n",
      "eigVect: -0.349, 0.038, 0.019\n",
      "{{-0.04345272,  0.04345272}, { 0.00474643, -0.00474643}, { 0.00233232, -0.00233232}, {-0.00809314,  0.00809314}, {-0.09813503,  0.09813503}, {-0.06209618,  0.06209618}, { 0.         -0.        }},\n",
      "\n",
      "\n",
      "eigSigma: 0.069\n",
      "eigVect: 0.916, -0.008, -0.003\n",
      "{{ 0.06298508, -0.06298508}, {-0.00056467,  0.00056467}, {-0.00022681,  0.00022681}, { 0.00975046, -0.00975046}, {-0.02509061,  0.02509061}, {-0.00574474,  0.00574474}, { 0.         -0.        }},\n",
      "\n",
      "\n",
      "eigSigma: 0.014\n",
      "eigVect: 0.148, 0.395, 0.196\n",
      "{{ 0.002127,   -0.002127,  }, { 0.00565397, -0.00565397}, { 0.00281448, -0.00281448}, {-0.01267561,  0.01267561}, { 0.0001571,  -0.0001571, }, { 0.00045325, -0.00045325}, { 0.         -0.        }},\n",
      "\n",
      "\n",
      "eigSigma: 0.020\n",
      "eigVect: -0.037, 0.322, 0.885\n",
      "{{-0.00073498,  0.00073498}, { 0.00643962, -0.00643962}, { 0.01769979, -0.01769979}, { 0.00668928, -0.00668928}, { 0.00041761, -0.00041761}, { 0.00013952, -0.00013952}, { 0.         -0.        }},\n",
      "\n",
      "\n",
      "eigSigma: 0.020\n",
      "eigVect: 0.030, -0.860, 0.422\n",
      "{{ 0.0006135,  -0.0006135, }, {-0.01742602,  0.01742602}, { 0.00855866, -0.00855866}, {-0.00577802,  0.00577802}, {-0.00036553,  0.00036553}, {-0.0001091,   0.0001091, }, { 0.         -0.        }},\n",
      "\n",
      "\n",
      "eigSigma: 0.000\n",
      "eigVect: 0.000, 0.000, 0.000\n",
      "{{ 0.     -0.    }, { 0.     -0.    }, { 0.     -0.    }, { 0.     -0.    }, { 0.     -0.    }, { 0.     -0.    }, { 0.0001, -0.0001}},\n",
      "\n",
      "\n"
     ]
    }
   ],
   "source": [
    "for i in range(eigSig.shape[0]):\n",
    "    print 'eigSigma: {:.3f}'.format(eigSig[i])\n",
    "    print 'eigVect: {:.3f}, {:.3f}, {:.3f}'.format(*eigVec[:, i])\n",
    "    a = str(np.column_stack((eigSig[i]*eigVec[:, i], -eigSig[i]*eigVec[:, i])))\n",
    "    a = a.replace('\\n', ',').replace('[', '{').replace(']', '}')\n",
    "    i = 0\n",
    "    while i < len(a):\n",
    "        if a[i].isdigit():\n",
    "            if a[i+1] == ' ':\n",
    "                a = a[:i+1] + ',' + a[i+1:]\n",
    "                i += 2\n",
    "            else:\n",
    "                i += 1\n",
    "        else:\n",
    "            i += 1\n",
    "    print a+','\n",
    "    print '\\n'"
   ]
  },
  {
   "cell_type": "code",
   "execution_count": 15,
   "metadata": {
    "ExecuteTime": {
     "end_time": "2022-03-08T18:27:38.389348Z",
     "start_time": "2022-03-08T18:27:38.299949Z"
    }
   },
   "outputs": [
    {
     "name": "stdout",
     "output_type": "stream",
     "text": [
      "{{ 0.0464, -0.0464}, { 0.0004, -0.0004}, { 0.0005, -0.0005}, { -0.0016, 0.0016}, { 0.1933, -0.1933}, { -0.3377, 0.3377}, { 0.0000, -0.0000},  {0, 0}},\n",
      "{{ -0.0869, 0.0869}, { 0.0095, -0.0095}, { 0.0047, -0.0047}, { -0.0162, 0.0162}, { -0.1963, 0.1963}, { -0.1242, 0.1242}, { 0.0000, -0.0000},  {0, 0}},\n",
      "{{ 0.1260, -0.1260}, { -0.0011, 0.0011}, { -0.0005, 0.0005}, { 0.0195, -0.0195}, { -0.0502, 0.0502}, { -0.0115, 0.0115}, { 0.0000, -0.0000},  {0, 0}},\n",
      "{{ 0.0043, -0.0043}, { 0.0113, -0.0113}, { 0.0056, -0.0056}, { -0.0254, 0.0254}, { 0.0003, -0.0003}, { 0.0009, -0.0009}, { 0.0000, -0.0000},  {0, 0}},\n",
      "{{ -0.0015, 0.0015}, { 0.0129, -0.0129}, { 0.0354, -0.0354}, { 0.0134, -0.0134}, { 0.0008, -0.0008}, { 0.0003, -0.0003}, { 0.0000, -0.0000},  {0, 0}},\n",
      "{{ 0.0012, -0.0012}, { -0.0349, 0.0349}, { 0.0171, -0.0171}, { -0.0116, 0.0116}, { -0.0007, 0.0007}, { -0.0002, 0.0002}, { 0.0000, -0.0000},  {0, 0}},\n",
      "{{ 0.0000, -0.0000}, { 0.0000, -0.0000}, { 0.0000, -0.0000}, { 0.0000, -0.0000}, { 0.0000, -0.0000}, { 0.0000, -0.0000}, { 0.0002, -0.0002},  {0, 0}},\n"
     ]
    }
   ],
   "source": [
    "for i in range(eigSig.shape[0]):\n",
    "    a = np.column_stack((2*eigSig[i]*eigVec[:, i], -2*eigSig[i]*eigVec[:, i]))\n",
    "    s = '{'\n",
    "    for l, h in a:\n",
    "        s += '{{ {:.4f}, {:.4f}}}, '.format(l, h)\n",
    "    s += ' {0, 0}},'\n",
    "    print s"
   ]
  },
  {
   "cell_type": "markdown",
   "metadata": {},
   "source": [
    "# BGL"
   ]
  },
  {
   "cell_type": "code",
   "execution_count": 21,
   "metadata": {
    "ExecuteTime": {
     "end_time": "2022-03-30T06:30:01.533497Z",
     "start_time": "2022-03-30T06:30:01.520896Z"
    }
   },
   "outputs": [],
   "source": [
    "parName = ['a0', 'a1', 'a2', 'b0', 'b1', 'b2', 'c1', 'c2', 'd0', 'd1']\n",
    "parVal = np.array([0.0320, -0.148, -0.60, \n",
    "                   0.01246, 0.0038, 0.02, \n",
    "                   # 0.00008, #c0 does not exists in Hammer\n",
    "                   0.080, -1.11, \n",
    "                   0.0526, -0.194])\n",
    "parSig = np.array([0.0010,  0.031,  0.22, \n",
    "                   0.00022, 0.0046, 0.12, \n",
    "                   # 0.00094, \n",
    "                   0.036, 0.56, \n",
    "                   0.0014,  0.043])"
   ]
  },
  {
   "cell_type": "code",
   "execution_count": 51,
   "metadata": {
    "ExecuteTime": {
     "end_time": "2022-03-30T07:03:10.171289Z",
     "start_time": "2022-03-30T07:03:10.134210Z"
    }
   },
   "outputs": [
    {
     "name": "stdout",
     "output_type": "stream",
     "text": [
      "Correcting non-positve definite correlation matrix by -6.13e-04\n"
     ]
    }
   ],
   "source": [
    "corrM = np.array([[ 1.  , -0.75, -0.53,  0.27, -0.17,  0.32,  0.04,  0.14, -0.14,  0.41, -0.23],\n",
    "                  [-0.75,  1.  ,  0.58,  0.16,  0.21, -0.48,  0.17, -0.29,  0.24, -0.05,  0.28],\n",
    "                  [-0.53,  0.58,  1.  ,  0.1 , -0.01, -0.2 , -0.3 ,  0.47, -0.43, -0.12,  0.25],\n",
    "                  [ 0.27,  0.16,  0.1 ,  1.  , -0.05, -0.01,  0.04, -0.09,  0.08,  0.68, -0.01],\n",
    "                  [-0.17,  0.21, -0.01, -0.05,  1.  , -0.63,  0.35,  0.14, -0.31, -0.19,  0.4 ],\n",
    "                  [ 0.32, -0.48, -0.2 , -0.01, -0.63,  1.  ,  0.01, -0.25,  0.29,  0.18, -0.37],\n",
    "                  [ 0.04,  0.17, -0.3 ,  0.04,  0.35,  0.01,  1.  , -0.59,  0.15,  0.21,  0.13],\n",
    "                  [ 0.14, -0.29,  0.47, -0.09,  0.14, -0.25, -0.59,  1.  , -0.86, -0.21,  0.16],\n",
    "                  [-0.14,  0.24, -0.43,  0.08, -0.31,  0.29,  0.15, -0.86,  1.  ,  0.13, -0.25],\n",
    "                  [ 0.41, -0.05, -0.12,  0.68, -0.19,  0.18,  0.21, -0.21,  0.13,  1.  , -0.42],\n",
    "                  [-0.23,  0.28,  0.25, -0.01,  0.4 , -0.37,  0.13,  0.16, -0.25, -0.42,  1.  ]])\n",
    "# Remove c2\n",
    "corrM = corrM[[0,1,2,3,4,5,7,8,9,10]][:,[0,1,2,3,4,5,7,8,9,10]]\n",
    "eigVal, _ = np.linalg.eig(corrM)\n",
    "if np.min(eigVal) < 0:\n",
    "    print 'Correcting non-positve definite correlation matrix by {:1.2e}'.format(np.max(eigVal[eigVal < 0]))\n",
    "    epsilon = 1e-6\n",
    "    corrM += np.eye(corrM.shape[0])*(epsilon - np.max(eigVal[eigVal < 0]))\n",
    "covM = np.atleast_2d(parSig).T * corrM * parSig"
   ]
  },
  {
   "cell_type": "code",
   "execution_count": 52,
   "metadata": {
    "ExecuteTime": {
     "end_time": "2022-03-30T07:03:16.231541Z",
     "start_time": "2022-03-30T07:03:16.221753Z"
    }
   },
   "outputs": [
    {
     "name": "stdout",
     "output_type": "stream",
     "text": [
      "[3.26415463e-01 3.89891302e-02 1.34221049e-02 1.51633862e-03\n",
      " 4.06688041e-04 1.18090561e-05 1.69471857e-06 4.31701496e-07\n",
      " 6.58832381e-08 2.06350873e-10]\n"
     ]
    }
   ],
   "source": [
    "eigVal, eigVec = np.linalg.eig(covM)\n",
    "eigSig = np.sqrt(eigVal)"
   ]
  },
  {
   "cell_type": "code",
   "execution_count": 54,
   "metadata": {
    "ExecuteTime": {
     "end_time": "2022-03-30T07:04:40.791283Z",
     "start_time": "2022-03-30T07:04:40.774305Z"
    }
   },
   "outputs": [
    {
     "name": "stdout",
     "output_type": "stream",
     "text": [
      "{{ 0.0002, -0.0002}, { -0.0113, 0.0113}, { 0.2153, -0.2153}, { -0.0000, 0.0000}, { 0.0028, -0.0028}, { -0.0738, 0.0738}, { 0.0623, -0.0623}, { -1.1177, 1.1177}, { -0.0004, 0.0004}, { 0.0228, -0.0228} },\n",
      "{{ 0.0014, -0.0014}, { -0.0495, 0.0495}, { -0.3832, 0.3832}, { -0.0001, 0.0001}, { 0.0013, -0.0013}, { 0.0272, -0.0272}, { -0.0035, 0.0035}, { -0.0756, 0.0756}, { 0.0002, -0.0002}, { -0.0141, 0.0141} },\n",
      "{{ -0.0006, 0.0006}, { 0.0296, -0.0296}, { -0.0230, 0.0230}, { 0.0000, -0.0000}, { 0.0055, -0.0055}, { -0.2266, 0.2266}, { -0.0024, 0.0024}, { 0.0107, -0.0107}, { -0.0004, 0.0004}, { 0.0281, -0.0281} },\n",
      "{{ -0.0001, 0.0001}, { 0.0041, -0.0041}, { -0.0025, 0.0025}, { -0.0000, 0.0000}, { 0.0017, -0.0017}, { 0.0104, -0.0104}, { -0.0076, 0.0076}, { -0.0001, 0.0001}, { -0.0010, 0.0010}, { 0.0766, -0.0766} },\n",
      "{{ 0.0003, -0.0003}, { -0.0191, 0.0191}, { 0.0013, -0.0013}, { -0.0000, 0.0000}, { -0.0018, 0.0018}, { -0.0023, 0.0023}, { 0.0350, -0.0350}, { 0.0026, -0.0026}, { -0.0007, 0.0007}, { 0.0049, -0.0049} },\n",
      "{{ 0.0002, -0.0002}, { -0.0023, 0.0023}, { 0.0003, -0.0003}, { 0.0000, -0.0000}, { -0.0062, 0.0062}, { -0.0004, 0.0004}, { -0.0016, 0.0016}, { -0.0000, 0.0000}, { 0.0003, -0.0003}, { 0.0002, -0.0002} },\n",
      "{{ -0.0009, 0.0009}, { -0.0001, 0.0001}, { 0.0000, -0.0000}, { -0.0003, 0.0003}, { -0.0001, 0.0001}, { -0.0000, 0.0000}, { -0.0001, 0.0001}, { -0.0000, 0.0000}, { -0.0024, 0.0024}, { -0.0000, 0.0000} },\n",
      "{{ 0.0008, -0.0008}, { 0.0008, -0.0008}, { -0.0001, 0.0001}, { -0.0001, 0.0001}, { -0.0004, 0.0004}, { 0.0001, -0.0001}, { 0.0004, -0.0004}, { -0.0000, 0.0000}, { -0.0003, 0.0003}, { -0.0000, 0.0000} },\n",
      "{{ 0.0003, -0.0003}, { -0.0002, 0.0002}, { 0.0000, -0.0000}, { 0.0003, -0.0003}, { 0.0001, -0.0001}, { -0.0000, 0.0000}, { -0.0001, 0.0001}, { 0.0000, -0.0000}, { -0.0001, 0.0001}, { 0.0000, -0.0000} },\n",
      "{{ -0.0000, 0.0000}, { 0.0000, -0.0000}, { -0.0000, 0.0000}, { 0.0000, -0.0000}, { -0.0000, 0.0000}, { 0.0000, -0.0000}, { 0.0000, -0.0000}, { -0.0000, 0.0000}, { 0.0000, -0.0000}, { -0.0000, 0.0000} },\n"
     ]
    }
   ],
   "source": [
    "for i in range(eigSig.shape[0]):\n",
    "    a = np.column_stack((2*eigSig[i]*eigVec[:, i], -2*eigSig[i]*eigVec[:, i]))\n",
    "    s = '{'\n",
    "    for l, h in a:\n",
    "        s += '{{ {:.4f}, {:.4f}}}, '.format(l, h)\n",
    "    s = s[:-2] + ' },'\n",
    "    print s"
   ]
  },
  {
   "cell_type": "markdown",
   "metadata": {},
   "source": [
    "# B --> D** BLR"
   ]
  },
  {
   "cell_type": "markdown",
   "metadata": {
    "ExecuteTime": {
     "end_time": "2022-01-26T19:03:55.379403Z",
     "start_time": "2022-01-26T19:03:55.368006Z"
    }
   },
   "source": [
    "From https://arxiv.org/abs/1711.03110 table 5. Narrow states ($D_1$, $D_0^*$, $D_2^*$) are 3/2 isospin doublet and wide states ($D_1^*$) are the 1/2 isospin doublet."
   ]
  },
  {
   "cell_type": "code",
   "execution_count": 16,
   "metadata": {
    "ExecuteTime": {
     "end_time": "2022-03-08T18:27:38.492976Z",
     "start_time": "2022-03-08T18:27:38.394664Z"
    }
   },
   "outputs": [],
   "source": [
    "parName = ['t1', 'tp', 'tau1', 'tau2']\n",
    "parVal = np.array([0.7, -1.6, -0.5, 2.9])\n",
    "parSig = np.array([0.07, 0.2, 0.3, 1.4])"
   ]
  },
  {
   "cell_type": "code",
   "execution_count": 17,
   "metadata": {
    "ExecuteTime": {
     "end_time": "2022-03-08T18:27:38.730960Z",
     "start_time": "2022-03-08T18:27:38.500391Z"
    }
   },
   "outputs": [
    {
     "name": "stdout",
     "output_type": "stream",
     "text": [
      "[[ 1.    -0.85   0.53  -0.49 ]\n",
      " [-0.85   1.    -0.17   0.086]\n",
      " [ 0.53  -0.17   1.    -0.89 ]\n",
      " [-0.49   0.086 -0.89   1.   ]]\n"
     ]
    }
   ],
   "source": [
    "a = np.zeros((4,4))\n",
    "a[0, 1] = -0.85\n",
    "a[0, 2] = 0.53\n",
    "a[0, 3] = -0.49\n",
    "a[1, 2] = -0.17\n",
    "a[1, 3] = 0.086\n",
    "a[2, 3] = -0.89\n",
    "\n",
    "corrM = a + a.T + np.identity(a.shape[0])\n",
    "print corrM"
   ]
  },
  {
   "cell_type": "code",
   "execution_count": 18,
   "metadata": {
    "ExecuteTime": {
     "end_time": "2022-03-08T18:27:38.845003Z",
     "start_time": "2022-03-08T18:27:38.738287Z"
    }
   },
   "outputs": [],
   "source": [
    "covM = np.atleast_2d(parSig).T * corrM * parSig\n",
    "eigVal, eigVec = np.linalg.eig(covM)\n",
    "eigSig = np.sqrt(eigVal)"
   ]
  },
  {
   "cell_type": "code",
   "execution_count": 19,
   "metadata": {
    "ExecuteTime": {
     "end_time": "2022-03-08T18:27:39.040298Z",
     "start_time": "2022-03-08T18:27:38.851816Z"
    }
   },
   "outputs": [
    {
     "name": "stdout",
     "output_type": "stream",
     "text": [
      "{{ 0.0347, -0.0347}, { -0.0185, 0.0185}, { 0.2695, -0.2695}, { -1.3997, 1.3997},  {0, 0}, {0, 0}, {0, 0}},\n",
      "{{ -0.0569, 0.0569}, { 0.1972, -0.1972}, { -0.0437, 0.0437}, { -0.0124, 0.0124},  {0, 0}, {0, 0}, {0, 0}},\n",
      "{{ -0.0205, 0.0205}, { -0.0059, 0.0059}, { 0.0004, -0.0004}, { -0.0004, 0.0004},  {0, 0}, {0, 0}, {0, 0}},\n",
      "{{ -0.0057, 0.0057}, { 0.0274, -0.0274}, { 0.1243, -0.1243}, { 0.0234, -0.0234},  {0, 0}, {0, 0}, {0, 0}},\n"
     ]
    }
   ],
   "source": [
    "for i in range(eigSig.shape[0]):\n",
    "    a = np.column_stack((eigSig[i]*eigVec[:, i], -eigSig[i]*eigVec[:, i]))\n",
    "    s = '{'\n",
    "    for l, h in a:\n",
    "        s += '{{ {:.4f}, {:.4f}}}, '.format(l, h)\n",
    "    s += ' {0, 0}, {0, 0}, {0, 0}},'\n",
    "    print s"
   ]
  },
  {
   "cell_type": "code",
   "execution_count": 20,
   "metadata": {
    "ExecuteTime": {
     "end_time": "2022-03-08T18:27:39.177540Z",
     "start_time": "2022-03-08T18:27:39.045882Z"
    }
   },
   "outputs": [],
   "source": [
    "parName = ['zt1', 'ztp', 'zeta1']\n",
    "parVal = np.array([0.70, 0.2, 0.6])\n",
    "parSig = np.array([0.21, 1.4, 0.3])"
   ]
  },
  {
   "cell_type": "code",
   "execution_count": 21,
   "metadata": {
    "ExecuteTime": {
     "end_time": "2022-03-08T18:27:39.431303Z",
     "start_time": "2022-03-08T18:27:39.182715Z"
    }
   },
   "outputs": [
    {
     "name": "stdout",
     "output_type": "stream",
     "text": [
      "[[ 1.   -0.95 -0.44]\n",
      " [-0.95  1.    0.61]\n",
      " [-0.44  0.61  1.  ]]\n"
     ]
    }
   ],
   "source": [
    "a = np.zeros((3,3))\n",
    "a[0, 1] = -0.95\n",
    "a[0, 2] = -0.44\n",
    "a[1, 2] = 0.61\n",
    "\n",
    "corrM = a + a.T + np.identity(a.shape[0])\n",
    "print corrM"
   ]
  },
  {
   "cell_type": "code",
   "execution_count": 22,
   "metadata": {
    "ExecuteTime": {
     "end_time": "2022-03-08T18:27:39.678114Z",
     "start_time": "2022-03-08T18:27:39.437971Z"
    }
   },
   "outputs": [
    {
     "name": "stdout",
     "output_type": "stream",
     "text": [
      "{{ 0.1991, -0.1991}, { -1.3997, 1.3997}, { -0.1873, 0.1873},  {0, 0}, {0, 0}},\n",
      "{{ -0.0514, 0.0514}, { -0.0084, 0.0084}, { 0.0085, -0.0085},  {0, 0}, {0, 0}},\n",
      "{{ 0.0427, -0.0427}, { -0.0253, 0.0253}, { 0.2342, -0.2342},  {0, 0}, {0, 0}},\n"
     ]
    }
   ],
   "source": [
    "covM = np.atleast_2d(parSig).T * corrM * parSig\n",
    "eigVal, eigVec = np.linalg.eig(covM)\n",
    "eigSig = np.sqrt(eigVal)\n",
    "\n",
    "for i in range(eigSig.shape[0]):\n",
    "    a = np.column_stack((eigSig[i]*eigVec[:, i], -eigSig[i]*eigVec[:, i]))\n",
    "    s = '{'\n",
    "    for l, h in a:\n",
    "        s += '{{ {:.4f}, {:.4f}}}, '.format(l, h)\n",
    "    s += ' {0, 0}, {0, 0}},'\n",
    "    print s"
   ]
  },
  {
   "cell_type": "code",
   "execution_count": null,
   "metadata": {},
   "outputs": [],
   "source": []
  }
 ],
 "metadata": {
  "kernelspec": {
   "display_name": "Python 2",
   "language": "python",
   "name": "python2"
  },
  "language_info": {
   "codemirror_mode": {
    "name": "ipython",
    "version": 2
   },
   "file_extension": ".py",
   "mimetype": "text/x-python",
   "name": "python",
   "nbconvert_exporter": "python",
   "pygments_lexer": "ipython2",
   "version": "2.7.14+"
  },
  "varInspector": {
   "cols": {
    "lenName": 16,
    "lenType": 16,
    "lenVar": 40
   },
   "kernels_config": {
    "python": {
     "delete_cmd_postfix": "",
     "delete_cmd_prefix": "del ",
     "library": "var_list.py",
     "varRefreshCmd": "print(var_dic_list())"
    },
    "r": {
     "delete_cmd_postfix": ") ",
     "delete_cmd_prefix": "rm(",
     "library": "var_list.r",
     "varRefreshCmd": "cat(var_dic_list()) "
    }
   },
   "types_to_exclude": [
    "module",
    "function",
    "builtin_function_or_method",
    "instance",
    "_Feature"
   ],
   "window_display": false
  }
 },
 "nbformat": 4,
 "nbformat_minor": 2
}
