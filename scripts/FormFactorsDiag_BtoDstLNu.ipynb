{
 "cells": [
  {
   "cell_type": "code",
   "execution_count": 1,
   "metadata": {
    "ExecuteTime": {
     "end_time": "2022-01-13T20:52:20.562269Z",
     "start_time": "2022-01-13T20:52:20.155031Z"
    }
   },
   "outputs": [],
   "source": [
    "import numpy as np"
   ]
  },
  {
   "cell_type": "markdown",
   "metadata": {},
   "source": [
    "# CLN"
   ]
  },
  {
   "cell_type": "markdown",
   "metadata": {},
   "source": [
    "All number are taken from: https://arxiv.org/pdf/1909.12524.pdf"
   ]
  },
  {
   "cell_type": "code",
   "execution_count": 2,
   "metadata": {
    "ExecuteTime": {
     "end_time": "2022-01-13T20:52:20.572211Z",
     "start_time": "2022-01-13T20:52:20.566792Z"
    }
   },
   "outputs": [],
   "source": [
    "parName = ['rho2', 'R1', 'R2']\n",
    "parVal = np.array([1.122, 1.270, 0.852])\n",
    "parSig = np.array([0.024, 0.026, 0.018])"
   ]
  },
  {
   "cell_type": "code",
   "execution_count": 3,
   "metadata": {
    "ExecuteTime": {
     "end_time": "2022-01-13T20:52:20.619340Z",
     "start_time": "2022-01-13T20:52:20.576555Z"
    }
   },
   "outputs": [
    {
     "name": "stdout",
     "output_type": "stream",
     "text": [
      "[[ 1.     0.566 -0.824]\n",
      " [ 0.566  1.    -0.715]\n",
      " [-0.824 -0.715  1.   ]]\n"
     ]
    }
   ],
   "source": [
    "a = np.zeros((3,3))\n",
    "a[0, 1] = 0.566\n",
    "a[0, 2] = -0.824\n",
    "a[1, 2] = -0.715\n",
    "\n",
    "corrM = a + a.T + np.identity(3)\n",
    "print corrM"
   ]
  },
  {
   "cell_type": "code",
   "execution_count": 4,
   "metadata": {
    "ExecuteTime": {
     "end_time": "2022-01-13T20:52:20.663308Z",
     "start_time": "2022-01-13T20:52:20.624970Z"
    }
   },
   "outputs": [
    {
     "name": "stdout",
     "output_type": "stream",
     "text": [
      "[[ 0.000576    0.00035318 -0.00035597]\n",
      " [ 0.00035318  0.000676   -0.00033462]\n",
      " [-0.00035597 -0.00033462  0.000324  ]]\n"
     ]
    }
   ],
   "source": [
    "covM = np.atleast_2d(parSig).T * corrM * parSig\n",
    "print covM"
   ]
  },
  {
   "cell_type": "code",
   "execution_count": 5,
   "metadata": {
    "ExecuteTime": {
     "end_time": "2022-01-13T20:52:20.729474Z",
     "start_time": "2022-01-13T20:52:20.669892Z"
    }
   },
   "outputs": [],
   "source": [
    "eigVal, eigVec = np.linalg.eig(covM)"
   ]
  },
  {
   "cell_type": "markdown",
   "metadata": {},
   "source": [
    "The normalized (unit “length”) eigenvectors, such that the column v[:,i] is the eigenvector corresponding to the eigenvalue w[i]."
   ]
  },
  {
   "cell_type": "code",
   "execution_count": 6,
   "metadata": {
    "ExecuteTime": {
     "end_time": "2022-01-13T20:52:20.771502Z",
     "start_time": "2022-01-13T20:52:20.736570Z"
    }
   },
   "outputs": [],
   "source": [
    "eigSig = np.sqrt(eigVal)"
   ]
  },
  {
   "cell_type": "code",
   "execution_count": 7,
   "metadata": {
    "ExecuteTime": {
     "end_time": "2022-01-13T20:52:20.821307Z",
     "start_time": "2022-01-13T20:52:20.778774Z"
    }
   },
   "outputs": [
    {
     "name": "stdout",
     "output_type": "stream",
     "text": [
      "eigSigma: 0.035\n",
      "eigVect: -0.597, -0.651, 0.469\n",
      "{{-0.02102485  0.02102485}, {-0.02293032  0.02293032}, { 0.01652843 -0.01652843}}\n",
      "\n",
      "\n",
      "eigSigma: 0.017\n",
      "eigVect: -0.664, 0.729, 0.167\n",
      "{{-0.01105955  0.01105955}, { 0.01215074 -0.01215074}, { 0.00278883 -0.00278883}}\n",
      "\n",
      "\n",
      "eigSigma: 0.008\n",
      "eigVect: 0.451, 0.211, 0.867\n",
      "{{ 0.00341205 -0.00341205}, { 0.00159999 -0.00159999}, { 0.00655998 -0.00655998}}\n",
      "\n",
      "\n"
     ]
    }
   ],
   "source": [
    "for i in range(eigSig.shape[0]):\n",
    "    print 'eigSigma: {:.3f}'.format(eigSig[i])\n",
    "    print 'eigVect: {:.3f}, {:.3f}, {:.3f}'.format(*eigVec[:, i])\n",
    "    a = str(np.column_stack((eigSig[i]*eigVec[:, i], -eigSig[i]*eigVec[:, i])))\n",
    "    print a.replace('\\n', ',').replace('[', '{').replace(']', '}')\n",
    "    print '\\n'"
   ]
  },
  {
   "cell_type": "code",
   "execution_count": 8,
   "metadata": {
    "ExecuteTime": {
     "end_time": "2022-01-13T20:52:20.864508Z",
     "start_time": "2022-01-13T20:52:20.828291Z"
    }
   },
   "outputs": [
    {
     "name": "stdout",
     "output_type": "stream",
     "text": [
      "{{ -0.0210, 0.0210}, { -0.0229, 0.0229}, { 0.0165, -0.0165},  {0, 0}},\n",
      "{{ -0.0111, 0.0111}, { 0.0122, -0.0122}, { 0.0028, -0.0028},  {0, 0}},\n",
      "{{ 0.0034, -0.0034}, { 0.0016, -0.0016}, { 0.0066, -0.0066},  {0, 0}},\n"
     ]
    }
   ],
   "source": [
    "for i in range(eigSig.shape[0]):\n",
    "    a = np.column_stack((eigSig[i]*eigVec[:, i], -eigSig[i]*eigVec[:, i]))\n",
    "    s = '{'\n",
    "    for l, h in a:\n",
    "        s += '{{ {:.4f}, {:.4f}}}, '.format(l, h)\n",
    "    s += ' {0, 0}},'\n",
    "    print s"
   ]
  },
  {
   "cell_type": "code",
   "execution_count": 9,
   "metadata": {
    "ExecuteTime": {
     "end_time": "2022-01-13T20:52:20.908062Z",
     "start_time": "2022-01-13T20:52:20.871303Z"
    }
   },
   "outputs": [
    {
     "name": "stdout",
     "output_type": "stream",
     "text": [
      "{{ -0.0420, 0.0420}, { -0.0459, 0.0459}, { 0.0331, -0.0331},  {0, 0}},\n",
      "{{ -0.0221, 0.0221}, { 0.0243, -0.0243}, { 0.0056, -0.0056},  {0, 0}},\n",
      "{{ 0.0068, -0.0068}, { 0.0032, -0.0032}, { 0.0131, -0.0131},  {0, 0}},\n"
     ]
    }
   ],
   "source": [
    "for i in range(eigSig.shape[0]):\n",
    "    a = np.column_stack((2*eigSig[i]*eigVec[:, i], -2*eigSig[i]*eigVec[:, i]))\n",
    "    s = '{'\n",
    "    for l, h in a:\n",
    "        s += '{{ {:.4f}, {:.4f}}}, '.format(l, h)\n",
    "    s += ' {0, 0}},'\n",
    "    print s"
   ]
  },
  {
   "cell_type": "markdown",
   "metadata": {},
   "source": [
    "# BLPR"
   ]
  },
  {
   "cell_type": "markdown",
   "metadata": {
    "ExecuteTime": {
     "end_time": "2020-11-20T06:13:53.162797Z",
     "start_time": "2020-11-20T06:13:53.150099Z"
    }
   },
   "source": [
    "All references form: arXiv:1703.05330v4\n",
    "\n",
    "Using scheme NoL+SR (No Lattice QCD, Yes QCD sum rules)"
   ]
  },
  {
   "cell_type": "code",
   "execution_count": 10,
   "metadata": {
    "ExecuteTime": {
     "end_time": "2022-01-13T20:52:20.954142Z",
     "start_time": "2022-01-13T20:52:20.915172Z"
    }
   },
   "outputs": [],
   "source": [
    "# RhoSq, chi2(1), chi2(1)prime, chi3(1)prime, eta(1), eta(1)prime, V20\n",
    "parName = ['RhoSq','chi21','chi2p','chi3p','eta1','etap','dV20']\n",
    "parVal = np.array([1.19, -0.06, -0.00, 0.04, 0.35, -0.11, 0.])\n",
    "parSig = np.array([0.08, 0.02, 0.02, 0.02, 0.14, 0.18, 0.0001])"
   ]
  },
  {
   "cell_type": "code",
   "execution_count": 11,
   "metadata": {
    "ExecuteTime": {
     "end_time": "2022-01-13T20:52:21.048123Z",
     "start_time": "2022-01-13T20:52:20.964271Z"
    }
   },
   "outputs": [
    {
     "name": "stdout",
     "output_type": "stream",
     "text": [
      "[[ 1.   -0.15 -0.07  0.57  0.44 -0.11  0.  ]\n",
      " [-0.15  1.   -0.02  0.07 -0.15 -0.09  0.  ]\n",
      " [-0.07 -0.02  1.    0.03 -0.07 -0.05  0.  ]\n",
      " [ 0.57  0.07  0.03  1.    0.17  0.16  0.  ]\n",
      " [ 0.44 -0.15 -0.07  0.17  1.   -0.4   0.  ]\n",
      " [-0.11 -0.09 -0.05  0.16 -0.4   1.    0.  ]\n",
      " [ 0.    0.    0.    0.    0.    0.    1.  ]]\n"
     ]
    }
   ],
   "source": [
    "a = np.zeros((len(parName),len(parName)))\n",
    "a[0, 1] = -0.15\n",
    "a[0, 2] = -0.07\n",
    "a[0, 3] = 0.57\n",
    "a[0, 4] = 0.44\n",
    "a[0, 5] = -0.11\n",
    "\n",
    "a[1, 2] = -0.02\n",
    "a[1, 3] = 0.07\n",
    "a[1, 4] = -0.15\n",
    "a[1, 5] = -0.09\n",
    "\n",
    "a[2, 3] = 0.03\n",
    "a[2, 4] = -0.07\n",
    "a[2, 5] = -0.05\n",
    "\n",
    "a[3, 4] = 0.17\n",
    "a[3, 5] = 0.16\n",
    "\n",
    "a[4, 5] = -0.40\n",
    "\n",
    "corrM = a + a.T + np.identity(len(parName))\n",
    "print corrM"
   ]
  },
  {
   "cell_type": "code",
   "execution_count": 12,
   "metadata": {
    "ExecuteTime": {
     "end_time": "2022-01-13T20:52:21.134147Z",
     "start_time": "2022-01-13T20:52:21.054193Z"
    }
   },
   "outputs": [
    {
     "name": "stdout",
     "output_type": "stream",
     "text": [
      "[[ 6.400e-03 -2.400e-04 -1.120e-04  9.120e-04  4.928e-03 -1.584e-03\n",
      "   0.000e+00]\n",
      " [-2.400e-04  4.000e-04 -8.000e-06  2.800e-05 -4.200e-04 -3.240e-04\n",
      "   0.000e+00]\n",
      " [-1.120e-04 -8.000e-06  4.000e-04  1.200e-05 -1.960e-04 -1.800e-04\n",
      "   0.000e+00]\n",
      " [ 9.120e-04  2.800e-05  1.200e-05  4.000e-04  4.760e-04  5.760e-04\n",
      "   0.000e+00]\n",
      " [ 4.928e-03 -4.200e-04 -1.960e-04  4.760e-04  1.960e-02 -1.008e-02\n",
      "   0.000e+00]\n",
      " [-1.584e-03 -3.240e-04 -1.800e-04  5.760e-04 -1.008e-02  3.240e-02\n",
      "   0.000e+00]\n",
      " [ 0.000e+00  0.000e+00  0.000e+00  0.000e+00  0.000e+00  0.000e+00\n",
      "   1.000e-08]]\n"
     ]
    }
   ],
   "source": [
    "covM = np.atleast_2d(parSig).T * corrM * parSig\n",
    "print covM"
   ]
  },
  {
   "cell_type": "code",
   "execution_count": 13,
   "metadata": {
    "ExecuteTime": {
     "end_time": "2022-01-13T20:52:21.174278Z",
     "start_time": "2022-01-13T20:52:21.141920Z"
    }
   },
   "outputs": [],
   "source": [
    "eigVal, eigVec = np.linalg.eig(covM)\n",
    "eigSig = np.sqrt(eigVal)"
   ]
  },
  {
   "cell_type": "code",
   "execution_count": 14,
   "metadata": {
    "ExecuteTime": {
     "end_time": "2022-01-13T20:52:21.269364Z",
     "start_time": "2022-01-13T20:52:21.181271Z"
    }
   },
   "outputs": [
    {
     "name": "stdout",
     "output_type": "stream",
     "text": [
      "eigSigma: 0.196\n",
      "eigVect: 0.119, 0.001, 0.001\n",
      "{{ 0.02322283, -0.02322283}, { 0.00022429, -0.00022429}, { 0.00023267, -0.00023267}, {-0.00079148,  0.00079148}, { 0.09664184, -0.09664184}, {-0.16885149,  0.16885149}, { 0.         -0.        }},\n",
      "\n",
      "\n",
      "eigSigma: 0.124\n",
      "eigVect: -0.349, 0.038, 0.019\n",
      "{{-0.04345272,  0.04345272}, { 0.00474643, -0.00474643}, { 0.00233232, -0.00233232}, {-0.00809314,  0.00809314}, {-0.09813503,  0.09813503}, {-0.06209618,  0.06209618}, { 0.         -0.        }},\n",
      "\n",
      "\n",
      "eigSigma: 0.069\n",
      "eigVect: 0.916, -0.008, -0.003\n",
      "{{ 0.06298508, -0.06298508}, {-0.00056467,  0.00056467}, {-0.00022681,  0.00022681}, { 0.00975046, -0.00975046}, {-0.02509061,  0.02509061}, {-0.00574474,  0.00574474}, { 0.         -0.        }},\n",
      "\n",
      "\n",
      "eigSigma: 0.014\n",
      "eigVect: 0.148, 0.395, 0.196\n",
      "{{ 0.002127,   -0.002127,  }, { 0.00565397, -0.00565397}, { 0.00281448, -0.00281448}, {-0.01267561,  0.01267561}, { 0.0001571,  -0.0001571, }, { 0.00045325, -0.00045325}, { 0.         -0.        }},\n",
      "\n",
      "\n",
      "eigSigma: 0.020\n",
      "eigVect: -0.037, 0.322, 0.885\n",
      "{{-0.00073498,  0.00073498}, { 0.00643962, -0.00643962}, { 0.01769979, -0.01769979}, { 0.00668928, -0.00668928}, { 0.00041761, -0.00041761}, { 0.00013952, -0.00013952}, { 0.         -0.        }},\n",
      "\n",
      "\n",
      "eigSigma: 0.020\n",
      "eigVect: 0.030, -0.860, 0.422\n",
      "{{ 0.0006135,  -0.0006135, }, {-0.01742602,  0.01742602}, { 0.00855866, -0.00855866}, {-0.00577802,  0.00577802}, {-0.00036553,  0.00036553}, {-0.0001091,   0.0001091, }, { 0.         -0.        }},\n",
      "\n",
      "\n",
      "eigSigma: 0.000\n",
      "eigVect: 0.000, 0.000, 0.000\n",
      "{{ 0.     -0.    }, { 0.     -0.    }, { 0.     -0.    }, { 0.     -0.    }, { 0.     -0.    }, { 0.     -0.    }, { 0.0001, -0.0001}},\n",
      "\n",
      "\n"
     ]
    }
   ],
   "source": [
    "for i in range(eigSig.shape[0]):\n",
    "    print 'eigSigma: {:.3f}'.format(eigSig[i])\n",
    "    print 'eigVect: {:.3f}, {:.3f}, {:.3f}'.format(*eigVec[:, i])\n",
    "    a = str(np.column_stack((eigSig[i]*eigVec[:, i], -eigSig[i]*eigVec[:, i])))\n",
    "    a = a.replace('\\n', ',').replace('[', '{').replace(']', '}')\n",
    "    i = 0\n",
    "    while i < len(a):\n",
    "        if a[i].isdigit():\n",
    "            if a[i+1] == ' ':\n",
    "                a = a[:i+1] + ',' + a[i+1:]\n",
    "                i += 2\n",
    "            else:\n",
    "                i += 1\n",
    "        else:\n",
    "            i += 1\n",
    "    print a+','\n",
    "    print '\\n'"
   ]
  },
  {
   "cell_type": "code",
   "execution_count": null,
   "metadata": {},
   "outputs": [],
   "source": []
  }
 ],
 "metadata": {
  "kernelspec": {
   "display_name": "Python 2",
   "language": "python",
   "name": "python2"
  },
  "language_info": {
   "codemirror_mode": {
    "name": "ipython",
    "version": 2
   },
   "file_extension": ".py",
   "mimetype": "text/x-python",
   "name": "python",
   "nbconvert_exporter": "python",
   "pygments_lexer": "ipython2",
   "version": "2.7.14+"
  },
  "varInspector": {
   "cols": {
    "lenName": 16,
    "lenType": 16,
    "lenVar": 40
   },
   "kernels_config": {
    "python": {
     "delete_cmd_postfix": "",
     "delete_cmd_prefix": "del ",
     "library": "var_list.py",
     "varRefreshCmd": "print(var_dic_list())"
    },
    "r": {
     "delete_cmd_postfix": ") ",
     "delete_cmd_prefix": "rm(",
     "library": "var_list.r",
     "varRefreshCmd": "cat(var_dic_list()) "
    }
   },
   "types_to_exclude": [
    "module",
    "function",
    "builtin_function_or_method",
    "instance",
    "_Feature"
   ],
   "window_display": false
  }
 },
 "nbformat": 4,
 "nbformat_minor": 2
}
