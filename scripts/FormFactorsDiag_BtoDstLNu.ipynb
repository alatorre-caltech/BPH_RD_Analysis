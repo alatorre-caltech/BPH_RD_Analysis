{
 "cells": [
  {
   "cell_type": "code",
   "execution_count": 2,
   "metadata": {
    "ExecuteTime": {
     "end_time": "2020-08-11T00:32:37.314167Z",
     "start_time": "2020-08-11T00:32:36.888404Z"
    }
   },
   "outputs": [],
   "source": [
    "import numpy as np"
   ]
  },
  {
   "cell_type": "markdown",
   "metadata": {},
   "source": [
    "All number are taken from: https://arxiv.org/pdf/1909.12524.pdf"
   ]
  },
  {
   "cell_type": "code",
   "execution_count": 3,
   "metadata": {
    "ExecuteTime": {
     "end_time": "2020-08-11T00:32:37.328037Z",
     "start_time": "2020-08-11T00:32:37.320426Z"
    }
   },
   "outputs": [],
   "source": [
    "parName = ['rho2', 'R1', 'R2']\n",
    "parVal = np.array([1.122, 1.270, 0.852])\n",
    "parSig = np.array([0.024, 0.026, 0.018])"
   ]
  },
  {
   "cell_type": "code",
   "execution_count": 4,
   "metadata": {
    "ExecuteTime": {
     "end_time": "2020-08-11T00:32:37.367945Z",
     "start_time": "2020-08-11T00:32:37.333482Z"
    }
   },
   "outputs": [
    {
     "name": "stdout",
     "output_type": "stream",
     "text": [
      "[[ 1.     0.566 -0.824]\n",
      " [ 0.566  1.    -0.715]\n",
      " [-0.824 -0.715  1.   ]]\n"
     ]
    }
   ],
   "source": [
    "a = np.zeros((3,3))\n",
    "a[0, 1] = 0.566\n",
    "a[0, 2] = -0.824\n",
    "a[1, 2] = -0.715\n",
    "\n",
    "corrM = a + a.T + np.identity(3)\n",
    "print corrM"
   ]
  },
  {
   "cell_type": "code",
   "execution_count": 5,
   "metadata": {
    "ExecuteTime": {
     "end_time": "2020-08-11T00:32:37.405674Z",
     "start_time": "2020-08-11T00:32:37.373144Z"
    }
   },
   "outputs": [
    {
     "name": "stdout",
     "output_type": "stream",
     "text": [
      "[[ 0.000576    0.00035318 -0.00035597]\n",
      " [ 0.00035318  0.000676   -0.00033462]\n",
      " [-0.00035597 -0.00033462  0.000324  ]]\n"
     ]
    }
   ],
   "source": [
    "covM = np.atleast_2d(parSig).T * corrM * parSig\n",
    "print covM"
   ]
  },
  {
   "cell_type": "code",
   "execution_count": 6,
   "metadata": {
    "ExecuteTime": {
     "end_time": "2020-08-11T00:32:37.457378Z",
     "start_time": "2020-08-11T00:32:37.410462Z"
    }
   },
   "outputs": [],
   "source": [
    "eigVal, eigVec = np.linalg.eig(covM)"
   ]
  },
  {
   "cell_type": "markdown",
   "metadata": {},
   "source": [
    "The normalized (unit “length”) eigenvectors, such that the column v[:,i] is the eigenvector corresponding to the eigenvalue w[i]."
   ]
  },
  {
   "cell_type": "code",
   "execution_count": 7,
   "metadata": {
    "ExecuteTime": {
     "end_time": "2020-08-11T00:32:37.513887Z",
     "start_time": "2020-08-11T00:32:37.464317Z"
    }
   },
   "outputs": [],
   "source": [
    "eigSig = np.sqrt(eigVal)"
   ]
  },
  {
   "cell_type": "code",
   "execution_count": 12,
   "metadata": {
    "ExecuteTime": {
     "end_time": "2020-08-11T01:22:58.417237Z",
     "start_time": "2020-08-11T01:22:58.400600Z"
    }
   },
   "outputs": [
    {
     "name": "stdout",
     "output_type": "stream",
     "text": [
      "eigSigma: 0.035\n",
      "eigVect: -0.597, -0.651, 0.469\n",
      "{{-0.02102485  0.02102485}, {-0.02293032  0.02293032}, { 0.01652843 -0.01652843}}\n",
      "\n",
      "\n",
      "eigSigma: 0.017\n",
      "eigVect: -0.664, 0.729, 0.167\n",
      "{{-0.01105955  0.01105955}, { 0.01215074 -0.01215074}, { 0.00278883 -0.00278883}}\n",
      "\n",
      "\n",
      "eigSigma: 0.008\n",
      "eigVect: 0.451, 0.211, 0.867\n",
      "{{ 0.00341205 -0.00341205}, { 0.00159999 -0.00159999}, { 0.00655998 -0.00655998}}\n",
      "\n",
      "\n"
     ]
    }
   ],
   "source": [
    "for i in range(eigSig.shape[0]):\n",
    "    print 'eigSigma: {:.3f}'.format(eigSig[i])\n",
    "    print 'eigVect: {:.3f}, {:.3f}, {:.3f}'.format(*eigVec[:, i])\n",
    "    a = str(np.column_stack((eigSig[i]*eigVec[:, i], -eigSig[i]*eigVec[:, i])))\n",
    "    print a.replace('\\n', ',').replace('[', '{').replace(']', '}')\n",
    "    print '\\n'"
   ]
  }
 ],
 "metadata": {
  "kernelspec": {
   "display_name": "Python 2",
   "language": "python",
   "name": "python2"
  },
  "language_info": {
   "codemirror_mode": {
    "name": "ipython",
    "version": 2
   },
   "file_extension": ".py",
   "mimetype": "text/x-python",
   "name": "python",
   "nbconvert_exporter": "python",
   "pygments_lexer": "ipython2",
   "version": "2.7.14+"
  },
  "varInspector": {
   "cols": {
    "lenName": 16,
    "lenType": 16,
    "lenVar": 40
   },
   "kernels_config": {
    "python": {
     "delete_cmd_postfix": "",
     "delete_cmd_prefix": "del ",
     "library": "var_list.py",
     "varRefreshCmd": "print(var_dic_list())"
    },
    "r": {
     "delete_cmd_postfix": ") ",
     "delete_cmd_prefix": "rm(",
     "library": "var_list.r",
     "varRefreshCmd": "cat(var_dic_list()) "
    }
   },
   "types_to_exclude": [
    "module",
    "function",
    "builtin_function_or_method",
    "instance",
    "_Feature"
   ],
   "window_display": false
  }
 },
 "nbformat": 4,
 "nbformat_minor": 2
}
