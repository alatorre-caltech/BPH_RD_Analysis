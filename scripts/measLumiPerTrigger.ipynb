{
 "cells": [
  {
   "cell_type": "markdown",
   "metadata": {},
   "source": [
    "Works only with work/CMSSW_10_2_3/src"
   ]
  },
  {
   "cell_type": "code",
   "execution_count": 1,
   "metadata": {},
   "outputs": [],
   "source": [
    "import os, re, json\n",
    "import pickle\n",
    "import commands\n",
    "from glob import glob\n",
    "import numpy as np\n",
    "from prettytable import PrettyTable\n",
    "import yaml"
   ]
  },
  {
   "cell_type": "code",
   "execution_count": 2,
   "metadata": {},
   "outputs": [],
   "source": [
    "!export PATH=$HOME/.local/bin:/cvmfs/cms-bril.cern.ch/brilconda/bin:$PATH"
   ]
  },
  {
   "cell_type": "markdown",
   "metadata": {},
   "source": [
    "# Input data"
   ]
  },
  {
   "cell_type": "code",
   "execution_count": 3,
   "metadata": {},
   "outputs": [],
   "source": [
    "# loc = os.environ['HOME'] + '/work/CMSSW_10_2_3/src/ntuplizer/BPH_RDntuplizer/jobSubmission/tmp'\n",
    "# loc += '/crab_ParkingBPH1_Run2018D-05May2019promptD-v1_RDntuplizer_B2DstMu_191126'\n",
    "# print loc\n",
    "# loc = glob(loc)\n",
    "# print len(loc)\n",
    "# tag = 'B2DstMu_191126'"
   ]
  },
  {
   "cell_type": "code",
   "execution_count": 4,
   "metadata": {},
   "outputs": [],
   "source": [
    "# loc = os.environ['HOME'] + '/work/CMSSW_10_2_3/src/ntuplizer/BPH_RDntuplizer/jobSubmission/tmp'\n",
    "# loc += '/crab_ParkingBPH*_RDntuplizer_B2JpsiKst_200124'\n",
    "# print loc\n",
    "# loc = glob(loc)\n",
    "# print len(loc)"
   ]
  },
  {
   "cell_type": "code",
   "execution_count": 5,
   "metadata": {},
   "outputs": [
    {
     "name": "stdout",
     "output_type": "stream",
     "text": [
      "/storage/user/ocerri/work/CMSSW_10_2_3/src/ntuplizer/BPH_RDntuplizer/jobSubmission/tmp/crab_ParkingBPH*_RDntuplizer_B2DstMu_200327\n",
      "5\n"
     ]
    }
   ],
   "source": [
    "loc = os.environ['HOME'] + '/work/CMSSW_10_2_3/src/ntuplizer/BPH_RDntuplizer/jobSubmission/tmp'\n",
    "loc += '/crab_ParkingBPH*_RDntuplizer_B2DstMu_200327'\n",
    "print loc\n",
    "loc = glob(loc)\n",
    "print len(loc)"
   ]
  },
  {
   "cell_type": "code",
   "execution_count": 6,
   "metadata": {},
   "outputs": [
    {
     "name": "stdout",
     "output_type": "stream",
     "text": [
      "crab_ParkingBPH1_Run2018D-05May2019promptD-v1_RDntuplizer_B2DstMu_200327\n",
      "D 1\n",
      "HLT_Mu8_IP6_v2 1 1.65\n",
      "HLT_Mu7_IP4_v2 1 1.27\n",
      "HLT_Mu12_IP6_v2 1 5.25\n",
      "HLT_Mu8_IP5_v2 1 1.65\n",
      "HLT_Mu8_IP3_v3 1 0.08\n",
      "HLT_Mu9_IP6_v3 1 4.12\n",
      "HLT_Mu9_IP5_v2 1 3.33\n",
      "\n",
      "\n",
      "crab_ParkingBPH5_Run2018D-05May2019promptD-v1_RDntuplizer_B2DstMu_200327\n",
      "D 5\n",
      "HLT_Mu12_IP6_v2 5 5.29\n",
      "HLT_Mu8_IP5_v2 5 1.65\n",
      "HLT_Mu8_IP3_v3 5 0.08\n",
      "HLT_Mu9_IP6_v3 5 4.15\n",
      "HLT_Mu8_IP6_v2 5 1.65\n",
      "HLT_Mu9_IP5_v2 5 3.36\n",
      "HLT_Mu7_IP4_v2 5 1.28\n",
      "\n",
      "\n",
      "crab_ParkingBPH2_Run2018D-05May2019promptD-v1_RDntuplizer_B2DstMu_200327\n",
      "D 2\n",
      "HLT_Mu8_IP3_v3 2 0.08\n",
      "HLT_Mu8_IP6_v2 2 1.59\n",
      "HLT_Mu7_IP4_v2 2 1.24\n",
      "HLT_Mu8_IP5_v2 2 1.59\n",
      "HLT_Mu12_IP6_v2 2 5.13\n",
      "HLT_Mu9_IP5_v2 2 3.26\n",
      "HLT_Mu9_IP6_v3 2 4.02\n",
      "\n",
      "\n",
      "crab_ParkingBPH3_Run2018D-05May2019promptD-v1_RDntuplizer_B2DstMu_200327\n",
      "D 3\n",
      "HLT_Mu9_IP5_v2 3 3.36\n",
      "HLT_Mu7_IP4_v2 3 1.28\n",
      "HLT_Mu8_IP3_v3 3 0.08\n",
      "HLT_Mu12_IP6_v2 3 5.29\n",
      "HLT_Mu8_IP5_v2 3 1.65\n",
      "HLT_Mu9_IP6_v3 3 4.14\n",
      "HLT_Mu8_IP6_v2 3 1.65\n",
      "\n",
      "\n",
      "crab_ParkingBPH4_Run2018D-05May2019promptD-v1_RDntuplizer_B2DstMu_200327\n",
      "D 4\n",
      "HLT_Mu8_IP5_v2 4 1.64\n",
      "HLT_Mu12_IP6_v2 4 5.29\n",
      "HLT_Mu9_IP5_v2 4 3.35\n",
      "HLT_Mu9_IP6_v3 4 4.14\n",
      "HLT_Mu8_IP6_v2 4 1.64\n",
      "HLT_Mu7_IP4_v2 4 1.28\n",
      "HLT_Mu8_IP3_v3 4 0.08\n",
      "\n",
      "\n"
     ]
    }
   ],
   "source": [
    "nameTemplate = '../data/cmsRD/lumiReport/{}_brilcalcPerTrigger.yaml'\n",
    "recreate = True\n",
    "\n",
    "lumiInfo = {}\n",
    "for main_dir in loc:\n",
    "    print main_dir.split('/')[-1]\n",
    "    s = main_dir.split('/')[-1]\n",
    "    idx = s.find('Run2018')\n",
    "    era = s[idx+len('Run2018')]\n",
    "    idx = s.find('ParkingBPH')\n",
    "    part = int(s[idx+len('ParkingBPH')])\n",
    "    print era, part\n",
    "\n",
    "    if not era in lumiInfo.keys():\n",
    "        lumiInfo[era] = {}\n",
    "        \n",
    "    name = os.path.basename(main_dir)[5:]\n",
    "    fname = nameTemplate.format(name)\n",
    "    if os.path.isfile(fname) and not recreate:\n",
    "        lumiDic = yaml.load(open(fname, 'rb'))\n",
    "    else:\n",
    "        cmd = 'brilcalc lumi -u /fb --precision 2f'\n",
    "        cmd += ' --normtag /cvmfs/cms-bril.cern.ch/cms-lumi-pog/Normtags/normtag_PHYSICS.json'\n",
    "        cmd += ' --hltpath HLT_Mu\\*_IP?_part' + str(part-1) + '_v?'\n",
    "        cmd += ' -i {}/processedLumis.json'.format(main_dir + '/results')\n",
    "        if os.uname()[1] == 'login-1.hep.caltech.edu':\n",
    "            cmd += ' -c web'\n",
    "        \n",
    "        status, output = commands.getstatusoutput(cmd)\n",
    "        aux = output.split('#Summary:')[1]\n",
    "        aux = aux.split('\\n')\n",
    "        lumiDic = {}\n",
    "        for l in aux:\n",
    "            if not l.startswith('| HLT'):\n",
    "                continue\n",
    "            l = l[1:-1]\n",
    "            content = l.split(' | ')\n",
    "            trgPath = content[0].replace(' ', '')\n",
    "            lumi = float(content[-1].replace(' ', ''))\n",
    "            lumiDic[trgPath] = lumi\n",
    "            \n",
    "        lumi_str = yaml.dump(lumiDic, default_flow_style=False)\n",
    "        f = open(fname, 'w')\n",
    "        f.write(lumi_str)\n",
    "        f.close()\n",
    "            \n",
    "    for trgPath, lumi in lumiDic.iteritems():\n",
    "        if not '_part'+str(part-1) in trgPath:\n",
    "            continue\n",
    "        trgPath = trgPath.replace('_part' + str(part-1), '')          \n",
    "        if lumi < 0.02:\n",
    "            continue\n",
    "        if not trgPath in lumiInfo[era].keys():\n",
    "            lumiInfo[era][trgPath] = np.zeros(6)\n",
    "        lumiInfo[era][trgPath][part-1] = lumi\n",
    "        print trgPath, part, lumi\n",
    "    print '\\n'"
   ]
  },
  {
   "cell_type": "code",
   "execution_count": 7,
   "metadata": {},
   "outputs": [
    {
     "data": {
      "text/plain": [
       "{'D': {'HLT_Mu12_IP6_v2': array([5.25, 5.13, 5.29, 5.29, 5.29, 0.  ]),\n",
       "  'HLT_Mu7_IP4_v2': array([1.27, 1.24, 1.28, 1.28, 1.28, 0.  ]),\n",
       "  'HLT_Mu8_IP3_v3': array([0.08, 0.08, 0.08, 0.08, 0.08, 0.  ]),\n",
       "  'HLT_Mu8_IP5_v2': array([1.65, 1.59, 1.65, 1.64, 1.65, 0.  ]),\n",
       "  'HLT_Mu8_IP6_v2': array([1.65, 1.59, 1.65, 1.64, 1.65, 0.  ]),\n",
       "  'HLT_Mu9_IP5_v2': array([3.33, 3.26, 3.36, 3.35, 3.36, 0.  ]),\n",
       "  'HLT_Mu9_IP6_v3': array([4.12, 4.02, 4.14, 4.14, 4.15, 0.  ])}}"
      ]
     },
     "execution_count": 7,
     "metadata": {},
     "output_type": "execute_result"
    }
   ],
   "source": [
    "lumiInfo"
   ]
  },
  {
   "cell_type": "code",
   "execution_count": 8,
   "metadata": {},
   "outputs": [
    {
     "name": "stdout",
     "output_type": "stream",
     "text": [
      "+--------------+---------------------------------+\n",
      "|   HLT path   |                D                |\n",
      "+--------------+---------------------------------+\n",
      "| HLT_Mu8_IP3  | [0.08 0.08 0.08 0.08 0.08 0.  ] |\n",
      "| HLT_Mu9_IP5  | [3.33 3.26 3.36 3.35 3.36 0.  ] |\n",
      "| HLT_Mu8_IP6  | [1.65 1.59 1.65 1.64 1.65 0.  ] |\n",
      "| HLT_Mu7_IP4  | [1.27 1.24 1.28 1.28 1.28 0.  ] |\n",
      "| HLT_Mu12_IP6 | [5.25 5.13 5.29 5.29 5.29 0.  ] |\n",
      "| HLT_Mu8_IP5  | [1.65 1.59 1.65 1.64 1.65 0.  ] |\n",
      "| HLT_Mu9_IP6  | [4.12 4.02 4.14 4.14 4.15 0.  ] |\n",
      "+--------------+---------------------------------+\n"
     ]
    }
   ],
   "source": [
    "eras = list(np.sort(lumiInfo.keys()))\n",
    "table = PrettyTable()\n",
    "\n",
    "table.field_names = ['HLT path'] + eras\n",
    "\n",
    "printed_paths = []\n",
    "for e in eras:\n",
    "    for t in lumiInfo[e]:\n",
    "        t = t[:-3]\n",
    "        if t in printed_paths:\n",
    "            continue\n",
    "        printed_paths.append(t)\n",
    "        row = [t]\n",
    "        for e in eras:\n",
    "            if t in [path[:-3] for path in lumiInfo[e].keys()]:\n",
    "                for path in lumiInfo[e].keys():\n",
    "                    if t == path[:-3]:\n",
    "                        row.append(str(lumiInfo[e][path]))\n",
    "                        break\n",
    "            else:\n",
    "                row.append(' - ')\n",
    "        table.add_row(row)\n",
    "print table"
   ]
  },
  {
   "cell_type": "code",
   "execution_count": 9,
   "metadata": {},
   "outputs": [
    {
     "name": "stdout",
     "output_type": "stream",
     "text": [
      "+----+----+---------------------------------+-------+-------+\n",
      "| pT | IP |                D                | Tot D |  Tot  |\n",
      "+----+----+---------------------------------+-------+-------+\n",
      "| 8  | 3  | [0.08 0.08 0.08 0.08 0.08 0.  ] |  0.40 |  0.40 |\n",
      "| 9  | 5  | [3.33 3.26 3.36 3.35 3.36 0.  ] | 16.66 | 16.66 |\n",
      "| 8  | 6  | [1.65 1.59 1.65 1.64 1.65 0.  ] |  8.18 |  8.18 |\n",
      "| 7  | 4  | [1.27 1.24 1.28 1.28 1.28 0.  ] |  6.35 |  6.35 |\n",
      "| 12 | 6  | [5.25 5.13 5.29 5.29 5.29 0.  ] | 26.25 | 26.25 |\n",
      "| 8  | 5  | [1.65 1.59 1.65 1.64 1.65 0.  ] |  8.18 |  8.18 |\n",
      "| 9  | 6  | [4.12 4.02 4.14 4.14 4.15 0.  ] | 20.57 | 20.57 |\n",
      "+----+----+---------------------------------+-------+-------+\n"
     ]
    }
   ],
   "source": [
    "eras = list(np.sort(lumiInfo.keys()))\n",
    "table = PrettyTable()\n",
    "\n",
    "l = ['pT', 'IP']\n",
    "for e in eras:\n",
    "    l += [e, 'Tot ' + e]\n",
    "l += ['Tot']\n",
    "table.field_names = l\n",
    "\n",
    "printed_paths = []\n",
    "for e in eras:\n",
    "    for t in lumiInfo[e]:\n",
    "        tot_lumi = 0\n",
    "        t = t[:-3]\n",
    "        if t in printed_paths:\n",
    "            continue\n",
    "        printed_paths.append(t)\n",
    "        row = [t[6:-4], t[-1]]\n",
    "        for e in eras:\n",
    "            if t in [path[:-3] for path in lumiInfo[e].keys()]:\n",
    "                for path in lumiInfo[e].keys():\n",
    "                    if t == path[:-3]:\n",
    "                        row.append(str(lumiInfo[e][path]))\n",
    "                        \n",
    "                        s = np.sum(lumiInfo[e][path])\n",
    "                        tot_lumi += s\n",
    "                        row.append('{:.2f}'.format(s))\n",
    "                        break\n",
    "            else:\n",
    "                row.append(' - ')\n",
    "                row.append(' - ')\n",
    "        row.append('{:.2f}'.format(tot_lumi))\n",
    "        table.add_row(row)\n",
    "print table"
   ]
  }
 ],
 "metadata": {
  "kernelspec": {
   "display_name": "Python 2",
   "language": "python",
   "name": "python2"
  },
  "language_info": {
   "codemirror_mode": {
    "name": "ipython",
    "version": 2
   },
   "file_extension": ".py",
   "mimetype": "text/x-python",
   "name": "python",
   "nbconvert_exporter": "python",
   "pygments_lexer": "ipython2",
   "version": "2.7.14+"
  }
 },
 "nbformat": 4,
 "nbformat_minor": 2
}
