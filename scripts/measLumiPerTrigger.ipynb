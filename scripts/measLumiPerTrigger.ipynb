{
 "cells": [
  {
   "cell_type": "code",
   "execution_count": 1,
   "metadata": {},
   "outputs": [],
   "source": [
    "import os, re, json\n",
    "import commands\n",
    "from glob import glob\n",
    "import numpy as np\n",
    "from prettytable import PrettyTable"
   ]
  },
  {
   "cell_type": "code",
   "execution_count": 2,
   "metadata": {},
   "outputs": [],
   "source": [
    "!export PATH=$HOME/.local/bin:/cvmfs/cms-bril.cern.ch/brilconda/bin:$PATH"
   ]
  },
  {
   "cell_type": "markdown",
   "metadata": {},
   "source": [
    "# Input data"
   ]
  },
  {
   "cell_type": "code",
   "execution_count": 3,
   "metadata": {},
   "outputs": [
    {
     "name": "stdout",
     "output_type": "stream",
     "text": [
      "/afs/cern.ch/user/o/ocerri/work/CMSSW_10_2_3/src/ntuplizer/BPH_RDntuplizer/jobSubmission/tmp/crab_ParkingBPH*_Run2018*_RDntuplizer_B2JpsiKst_191019\n"
     ]
    }
   ],
   "source": [
    "loc = os.environ['HOME'] + '/work/CMSSW_10_2_3/src/ntuplizer/BPH_RDntuplizer/jobSubmission/tmp'\n",
    "loc += '/crab_ParkingBPH*_Run2018*_RDntuplizer_B2JpsiKst_191019'\n",
    "print loc\n",
    "loc = glob(loc)"
   ]
  },
  {
   "cell_type": "code",
   "execution_count": 5,
   "metadata": {},
   "outputs": [
    {
     "name": "stdout",
     "output_type": "stream",
     "text": [
      "crab_ParkingBPH1_Run2018D-05May2019promptD-v1_RDntuplizer_B2JpsiKst_191019\n",
      "HLT_Mu12_IP6_part0_v2 5.25\n",
      "HLT_Mu7_IP4_part0_v2 1.27\n",
      "HLT_Mu8_IP3_part0_v3 0.08\n",
      "HLT_Mu8_IP5_part0_v2 1.65\n",
      "HLT_Mu8_IP6_part0_v2 1.65\n",
      "HLT_Mu9_IP5_part0_v2 3.33\n",
      "HLT_Mu9_IP6_part0_v3 4.12\n",
      "crab_ParkingBPH2_Run2018D-05May2019promptD-v1_RDntuplizer_B2JpsiKst_191019\n",
      "HLT_Mu12_IP6_part0_v2 5.28\n",
      "HLT_Mu7_IP4_part0_v2 1.28\n",
      "HLT_Mu8_IP3_part0_v3 0.08\n",
      "HLT_Mu8_IP5_part0_v2 1.65\n",
      "HLT_Mu8_IP6_part0_v2 1.65\n",
      "HLT_Mu9_IP5_part0_v2 3.36\n",
      "HLT_Mu9_IP6_part0_v3 4.15\n",
      "crab_ParkingBPH3_Run2018D-05May2019promptD-v1_RDntuplizer_B2JpsiKst_191019\n",
      "HLT_Mu12_IP6_part0_v2 5.16\n",
      "HLT_Mu7_IP4_part0_v2 1.25\n",
      "HLT_Mu8_IP3_part0_v3 0.08\n",
      "HLT_Mu8_IP5_part0_v2 1.61\n",
      "HLT_Mu8_IP6_part0_v2 1.61\n",
      "HLT_Mu9_IP5_part0_v2 3.28\n",
      "HLT_Mu9_IP6_part0_v3 4.04\n",
      "crab_ParkingBPH1_Run2018A-05May2019-v1_RDntuplizer_B2JpsiKst_191019\n",
      "HLT_Mu8_IP3_part0_v1 0.04\n",
      "HLT_Mu8_IP3_part0_v2 0.03\n",
      "HLT_Mu9_IP6_part0_v1 0.29\n",
      "HLT_Mu9_IP6_part0_v2 0.48\n",
      "crab_ParkingBPH2_Run2018A-05May2019-v1_RDntuplizer_B2JpsiKst_191019\n",
      "HLT_Mu8_IP3_part0_v1 0.04\n",
      "HLT_Mu8_IP3_part0_v2 0.03\n",
      "HLT_Mu9_IP6_part0_v1 0.29\n",
      "HLT_Mu9_IP6_part0_v2 0.48\n",
      "crab_ParkingBPH3_Run2018A-05May2019-v1_RDntuplizer_B2JpsiKst_191019\n",
      "HLT_Mu8_IP3_part0_v1 0.04\n",
      "HLT_Mu8_IP3_part0_v2 0.03\n",
      "HLT_Mu9_IP6_part0_v1 0.29\n",
      "HLT_Mu9_IP6_part0_v2 0.48\n",
      "crab_ParkingBPH4_Run2018A-05May2019-v1_RDntuplizer_B2JpsiKst_191019\n",
      "HLT_Mu8_IP3_part0_v1 0.04\n",
      "HLT_Mu8_IP3_part0_v2 0.03\n",
      "HLT_Mu9_IP6_part0_v1 0.29\n",
      "HLT_Mu9_IP6_part0_v2 0.48\n",
      "crab_ParkingBPH5_Run2018A-05May2019-v1_RDntuplizer_B2JpsiKst_191019\n",
      "HLT_Mu8_IP3_part0_v1 0.04\n",
      "HLT_Mu8_IP3_part0_v2 0.03\n",
      "HLT_Mu9_IP6_part0_v1 0.29\n",
      "HLT_Mu9_IP6_part0_v2 0.48\n",
      "crab_ParkingBPH6_Run2018A-05May2019-v1_RDntuplizer_B2JpsiKst_191019\n",
      "HLT_Mu8_IP3_part0_v1 0.04\n",
      "HLT_Mu8_IP3_part0_v2 0.03\n",
      "HLT_Mu9_IP6_part0_v1 0.29\n",
      "HLT_Mu9_IP6_part0_v2 0.48\n",
      "crab_ParkingBPH1_Run2018B-05May2019-v2_RDntuplizer_B2JpsiKst_191019\n",
      "HLT_Mu12_IP6_part0_v2 0.53\n",
      "HLT_Mu7_IP4_part0_v2 0.07\n",
      "HLT_Mu8_IP3_part0_v2 0.06\n",
      "HLT_Mu8_IP3_part0_v3 0.07\n",
      "HLT_Mu9_IP5_part0_v2 0.27\n",
      "HLT_Mu9_IP6_part0_v2 0.38\n",
      "HLT_Mu9_IP6_part0_v3 0.41\n",
      "crab_ParkingBPH2_Run2018B-05May2019-v2_RDntuplizer_B2JpsiKst_191019\n",
      "HLT_Mu12_IP6_part0_v2 0.53\n",
      "HLT_Mu7_IP4_part0_v2 0.07\n",
      "HLT_Mu8_IP3_part0_v2 0.06\n",
      "HLT_Mu8_IP3_part0_v3 0.07\n",
      "HLT_Mu9_IP5_part0_v2 0.27\n",
      "HLT_Mu9_IP6_part0_v2 0.38\n",
      "HLT_Mu9_IP6_part0_v3 0.41\n",
      "crab_ParkingBPH3_Run2018B-05May2019-v2_RDntuplizer_B2JpsiKst_191019\n",
      "HLT_Mu12_IP6_part0_v2 0.53\n",
      "HLT_Mu7_IP4_part0_v2 0.07\n",
      "HLT_Mu8_IP3_part0_v2 0.06\n",
      "HLT_Mu8_IP3_part0_v3 0.07\n",
      "HLT_Mu9_IP5_part0_v2 0.27\n",
      "HLT_Mu9_IP6_part0_v2 0.37\n",
      "HLT_Mu9_IP6_part0_v3 0.41\n",
      "crab_ParkingBPH4_Run2018B-05May2019-v2_RDntuplizer_B2JpsiKst_191019\n",
      "HLT_Mu12_IP6_part0_v2 0.53\n",
      "HLT_Mu7_IP4_part0_v2 0.07\n",
      "HLT_Mu8_IP3_part0_v2 0.06\n",
      "HLT_Mu8_IP3_part0_v3 0.07\n",
      "HLT_Mu9_IP5_part0_v2 0.27\n",
      "HLT_Mu9_IP6_part0_v2 0.38\n",
      "HLT_Mu9_IP6_part0_v3 0.41\n",
      "crab_ParkingBPH5_Run2018B-05May2019-v2_RDntuplizer_B2JpsiKst_191019\n",
      "HLT_Mu12_IP6_part0_v2 0.53\n",
      "HLT_Mu7_IP4_part0_v2 0.07\n",
      "HLT_Mu8_IP3_part0_v2 0.06\n",
      "HLT_Mu8_IP3_part0_v3 0.07\n",
      "HLT_Mu9_IP5_part0_v2 0.27\n",
      "HLT_Mu9_IP6_part0_v2 0.38\n",
      "HLT_Mu9_IP6_part0_v3 0.41\n",
      "crab_ParkingBPH6_Run2018B-05May2019-v2_RDntuplizer_B2JpsiKst_191019\n",
      "HLT_Mu8_IP3_part0_v2 0.06\n",
      "HLT_Mu9_IP6_part0_v2 0.37\n",
      "crab_ParkingBPH1_Run2018C-05May2019-v1_RDntuplizer_B2JpsiKst_191019\n",
      "HLT_Mu12_IP6_part0_v2 1.1\n",
      "HLT_Mu7_IP4_part0_v2 0.03\n",
      "HLT_Mu9_IP5_part0_v2 0.54\n",
      "HLT_Mu9_IP6_part0_v3 0.77\n",
      "crab_ParkingBPH2_Run2018C-05May2019-v1_RDntuplizer_B2JpsiKst_191019\n",
      "HLT_Mu12_IP6_part0_v2 1.09\n",
      "HLT_Mu7_IP4_part0_v2 0.03\n",
      "HLT_Mu9_IP5_part0_v2 0.53\n",
      "HLT_Mu9_IP6_part0_v3 0.76\n",
      "crab_ParkingBPH3_Run2018C-05May2019-v1_RDntuplizer_B2JpsiKst_191019\n",
      "HLT_Mu12_IP6_part0_v2 1.1\n",
      "HLT_Mu7_IP4_part0_v2 0.03\n",
      "HLT_Mu9_IP5_part0_v2 0.54\n",
      "HLT_Mu9_IP6_part0_v3 0.76\n",
      "crab_ParkingBPH4_Run2018C-05May2019-v1_RDntuplizer_B2JpsiKst_191019\n",
      "HLT_Mu12_IP6_part0_v2 1.1\n",
      "HLT_Mu7_IP4_part0_v2 0.03\n",
      "HLT_Mu9_IP5_part0_v2 0.54\n",
      "HLT_Mu9_IP6_part0_v3 0.76\n",
      "crab_ParkingBPH5_Run2018C-05May2019-v1_RDntuplizer_B2JpsiKst_191019\n",
      "HLT_Mu12_IP6_part0_v2 1.09\n",
      "HLT_Mu7_IP4_part0_v2 0.03\n",
      "HLT_Mu9_IP5_part0_v2 0.53\n",
      "HLT_Mu9_IP6_part0_v3 0.76\n"
     ]
    }
   ],
   "source": [
    "lumiInfo = {}\n",
    "for main_dir in loc:\n",
    "    print main_dir.split('/')[-1]\n",
    "    s = main_dir.split('/')[-1]\n",
    "    idx = s.find('Run2018')\n",
    "    era = s[idx+len('Run2018')]\n",
    "    idx = s.find('ParkingBPH')\n",
    "    part = int(s[idx+len('ParkingBPH')])\n",
    "#     if part != 1:\n",
    "#         continue\n",
    "    lumiInfo[era] = {}\n",
    "\n",
    "    cmd = 'brilcalc lumi -u /fb --precision 2f'\n",
    "    cmd += ' --normtag /cvmfs/cms-bril.cern.ch/cms-lumi-pog/Normtags/normtag_PHYSICS.json'\n",
    "    cmd += ' --hltpath HLT_Mu\\*_IP?_part0_v?'\n",
    "    cmd += ' -i {}/processedLumis.json'.format(main_dir + '/results')\n",
    "\n",
    "    status, output = commands.getstatusoutput(cmd)\n",
    "    aux = output.split('#Summary:')[1]\n",
    "    aux = aux.split('\\n')\n",
    "    for l in aux:\n",
    "        if not l.startswith('| HLT'):\n",
    "            continue\n",
    "        l = l[1:-1]\n",
    "        content = l.split(' | ')\n",
    "        trgPath = content[0].replace(' ', '')\n",
    "        lumi = float(content[-1].replace(' ', ''))\n",
    "        if lumi < 0.02:\n",
    "            continue\n",
    "        lumiInfo[era][trgPath] = lumi\n",
    "        print trgPath, lumi"
   ]
  },
  {
   "cell_type": "code",
   "execution_count": 10,
   "metadata": {},
   "outputs": [
    {
     "name": "stdout",
     "output_type": "stream",
     "text": [
      "+--------------------+------+------+------+------+\n",
      "|      HLT path      |  A   |  B   |  C   |  D   |\n",
      "+--------------------+------+------+------+------+\n",
      "| HLT_Mu9_IP6_part0  | 0.29 | 0.37 | 0.76 | 4.04 |\n",
      "| HLT_Mu8_IP3_part0  | 0.04 | 0.06 |  -   | 0.08 |\n",
      "| HLT_Mu9_IP5_part0  |  -   |  -   | 0.53 | 3.28 |\n",
      "| HLT_Mu7_IP4_part0  |  -   |  -   | 0.03 | 1.25 |\n",
      "| HLT_Mu12_IP6_part0 |  -   |  -   | 1.09 | 5.16 |\n",
      "| HLT_Mu8_IP6_part0  |  -   |  -   |  -   | 1.61 |\n",
      "| HLT_Mu8_IP5_part0  |  -   |  -   |  -   | 1.61 |\n",
      "+--------------------+------+------+------+------+\n"
     ]
    }
   ],
   "source": [
    "eras = list(np.sort(lumiInfo.keys()))\n",
    "table = PrettyTable()\n",
    "\n",
    "table.field_names = ['HLT path'] + eras\n",
    "\n",
    "printed_paths = []\n",
    "for e in eras:\n",
    "    for t in lumiInfo[e]:\n",
    "        t = t[:-3]\n",
    "        if t in printed_paths:\n",
    "            continue\n",
    "        printed_paths.append(t)\n",
    "        row = [t]\n",
    "        for e in eras:\n",
    "            if t in [path[:-3] for path in lumiInfo[e].keys()]:\n",
    "                for path in lumiInfo[e].keys():\n",
    "                    if t == path[:-3]:\n",
    "                        row.append(str(lumiInfo[e][path]))\n",
    "                        break\n",
    "            else:\n",
    "                row.append(' - ')\n",
    "        table.add_row(row)\n",
    "print table"
   ]
  },
  {
   "cell_type": "code",
   "execution_count": 11,
   "metadata": {},
   "outputs": [
    {
     "data": {
      "text/plain": [
       "0.6972477064220183"
      ]
     },
     "execution_count": 11,
     "metadata": {},
     "output_type": "execute_result"
    }
   ],
   "source": [
    "0.76/1.09"
   ]
  },
  {
   "cell_type": "code",
   "execution_count": 12,
   "metadata": {},
   "outputs": [
    {
     "data": {
      "text/plain": [
       "0.7829457364341085"
      ]
     },
     "execution_count": 12,
     "metadata": {},
     "output_type": "execute_result"
    }
   ],
   "source": [
    "4.04/5.16"
   ]
  },
  {
   "cell_type": "code",
   "execution_count": null,
   "metadata": {},
   "outputs": [],
   "source": []
  }
 ],
 "metadata": {
  "kernelspec": {
   "display_name": "Python 2",
   "language": "python",
   "name": "python2"
  },
  "language_info": {
   "codemirror_mode": {
    "name": "ipython",
    "version": 2
   },
   "file_extension": ".py",
   "mimetype": "text/x-python",
   "name": "python",
   "nbconvert_exporter": "python",
   "pygments_lexer": "ipython2",
   "version": "2.7.14+"
  }
 },
 "nbformat": 4,
 "nbformat_minor": 2
}
