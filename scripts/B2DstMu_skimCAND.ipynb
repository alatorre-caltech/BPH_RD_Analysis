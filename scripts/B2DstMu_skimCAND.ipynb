{
 "cells": [
  {
   "cell_type": "markdown",
   "metadata": {},
   "source": [
    "Utility notebook to skim candidates"
   ]
  },
  {
   "cell_type": "markdown",
   "metadata": {},
   "source": [
    "# Import"
   ]
  },
  {
   "cell_type": "code",
   "execution_count": 1,
   "metadata": {},
   "outputs": [],
   "source": [
    "import sys, os, pickle, time\n",
    "from glob import glob\n",
    "sys.path.append('../lib')\n",
    "sys.path.append('../analysis')\n",
    "import itertools\n",
    "import json\n",
    "from IPython.display import IFrame, Image, display\n",
    "from multiprocessing import Pool"
   ]
  },
  {
   "cell_type": "code",
   "execution_count": 2,
   "metadata": {
    "ExecuteTime": {
     "end_time": "2019-05-14T01:36:12.149848Z",
     "start_time": "2019-05-14T01:36:11.232339Z"
    }
   },
   "outputs": [
    {
     "name": "stdout",
     "output_type": "stream",
     "text": [
      "Welcome to JupyROOT 6.12/07\n"
     ]
    }
   ],
   "source": [
    "import numpy as np\n",
    "import pandas as pd\n",
    "import matplotlib.pyplot as plt\n",
    "import matplotlib.image as mpimg\n",
    "from scipy.interpolate import interp1d\n",
    "from array import array\n",
    "\n",
    "import uproot as ur\n",
    "import ROOT as rt\n",
    "rt.gErrorIgnoreLevel = rt.kError\n",
    "rt.RooMsgService.instance().setGlobalKillBelow(rt.RooFit.ERROR)\n",
    "import root_numpy as rtnp\n",
    "\n",
    "from analysis_utilities import drawOnCMSCanvas, getEff\n",
    "from histo_utilities import create_TH1D, create_TH2D, std_color_list, SetMaxToMaxHist\n",
    "from cebefo_style import Set_2D_colz_graphics\n",
    "from gridVarQ2Plot import col_dic, plot_gridVarQ2\n",
    "from progressBar import ProgressBar\n",
    "from categoriesDef import categories\n",
    "from B02DstMu_selection import candidate_selection, trigger_selection, candidateSelection_stringList, candidateSelection_nameList\n",
    "\n",
    "import CMS_lumi, tdrstyle\n",
    "tdrstyle.setTDRStyle()\n",
    "CMS_lumi.writeExtraText = 1\n",
    "\n",
    "\n",
    "CMS_lumi.extraText = \"     Simulation Internal\"\n",
    "\n",
    "donotdelete = []"
   ]
  },
  {
   "cell_type": "markdown",
   "metadata": {},
   "source": [
    "# Create histograms file"
   ]
  },
  {
   "cell_type": "code",
   "execution_count": 3,
   "metadata": {},
   "outputs": [],
   "source": [
    "MCloc = '../data/cmsMC_private/BPH_Tag-'\n",
    "file_loc = {\n",
    "'mu'    : MCloc+'B0_MuNuDmst-pD0bar-kp_13TeV-pythia8_Hardbbbar_PTFilter5_0p0-evtgen_ISGW2_PU20_10-2-3/ntuples_B2DstMu/out_CAND_*.root',\n",
    "'mu_PU0': MCloc+'B0_MuNuDmst-pD0bar-kp_13TeV-pythia8_Hardbbbar_PTFilter5_0p0-evtgen_ISGW2_PU0_10-2-3/ntuples_B2DstMu/out_CAND_*.root',\n",
    "# 'mu_HQETPU0': MCloc+'B0_MuNuDmst-pD0bar-kp_13TeV-pythia8_Hardbbbar_PTFilter5_0p0-evtgen_HQET2_central_PU0_10-2-3/ntuples_B2DstMu/out_CAND_*.root',\n",
    "# 'tau'   : MCloc+'B0_TauNuDmst-pD0bar-kp-t2mnn_pythia8_Hardbbbar_PTFilter5_0p0-evtgen_ISGW2_PU20_10-2-3/ntuples_B2DstMu/out_CAND_*.root',\n",
    "# 'Hc'    : MCloc+'B0_DmstHc-pD0bar-kp-Hc2mu_13TeV-pythia8_Hardbbbar_PTFilter5_0p0-evtgen_PU20_10-2-3/ntuples_B2DstMu/out_CAND_*.root',\n",
    "# 'Dstst' : MCloc+'Bp_MuNuDstst_DmstPi_13TeV-pythia8_Hardbbbar_PTFilter5_0p0-evtgen_ISGW2_PU20_10-2-3/ntuples_B2DstMu/out_CAND_*.root',\n",
    "# 'data' : '../data/cmsRD/ParkingBPH1/Run2018D-05May2019promptD-v1_RDntuplizer_B2DstMu_200210_CAND.root'\n",
    "}"
   ]
  },
  {
   "cell_type": "code",
   "execution_count": 4,
   "metadata": {},
   "outputs": [],
   "source": [
    "def makeSelection(inputs):\n",
    "    tag, filepath, leafs_names, cat, idxInt, skipCut, serial = inputs\n",
    "    N_accepted_cand = []\n",
    "    N_accepted_tot = 0\n",
    "    \n",
    "    tree = rt.TChain('outA/Tevts')\n",
    "    lastIdxDisc = -1\n",
    "    for fn in glob(filepath):\n",
    "        tree.Add(fn)\n",
    "        if tree.GetEntries() + lastIdxDisc < idxInt[0]:\n",
    "            lastIdxDisc += tree.GetEntries()\n",
    "            tree = rt.TChain('outA/Tevts')\n",
    "        elif tree.GetEntries() + lastIdxDisc > idxInt[1]:\n",
    "            break\n",
    "    \n",
    "    nDiscEvts = lastIdxDisc + 1\n",
    "            \n",
    "        \n",
    "    if serial:\n",
    "        pb = ProgressBar(maxEntry=idxInt[1]+1)\n",
    "    else:\n",
    "        perc = int((idxInt[1]-idxInt[0])*0.3)\n",
    "    \n",
    "    output = np.zeros((int(1.5*(idxInt[1]-idxInt[0]+1)), len(leafs_names)))\n",
    "    for i_ev, ev in enumerate(tree):\n",
    "        i_ev += nDiscEvts\n",
    "        if i_ev < idxInt[0]:\n",
    "            continue\n",
    "        if i_ev > idxInt[1]:\n",
    "            break\n",
    "            \n",
    "        if serial:\n",
    "            pb.show(i_ev-idxInt[0])\n",
    "        elif (i_ev-idxInt[0]) % perc == 0:\n",
    "            print tag, ': {:.0f}%'.format(100*(i_ev+1-idxInt[0])/(idxInt[1]-idxInt[0]))\n",
    "        N_acc = 0\n",
    "\n",
    "        for j in range(ev.pval_piK.size()):\n",
    "            idxTrg = int(ev.mu_trgMu_idx[j])\n",
    "            if not skipCut == 'all':\n",
    "                if not candidate_selection(j, ev, skipCut):\n",
    "                    continue\n",
    "\n",
    "                if not trigger_selection(idxTrg, ev, cat): \n",
    "                    continue\n",
    "\n",
    "            N_acc += 1\n",
    "            \n",
    "            idx_st = 0\n",
    "            for jjj in range(j):\n",
    "                idx_st += int(ev.nTksAdd[jjj])\n",
    "\n",
    "            N_lowMassAddTks = 0\n",
    "            idx_stop = int(idx_st + ev.nTksAdd[j])\n",
    "            for jj in range(idx_st, idx_stop):\n",
    "                if ev.tksAdd_massVis[jj] < 5.28:\n",
    "                    N_lowMassAddTks += 1\n",
    "            \n",
    "\n",
    "            aux = (ev.q2_D0pismu[j], ev.Est_mu_D0pismu[j], ev.M2_miss_D0pismu[j],\n",
    "                   ev.trgMu_pt[idxTrg], ev.trgMu_eta[idxTrg], ev.trgMu_phi[idxTrg], ev.trgMu_sigdxy[idxTrg],\n",
    "                   ev.B_D0pismu_pt[j], ev.B_D0pismu_eta[j], ev.B_D0pismu_phi[j],\n",
    "                   ev.Dst_refitD0pismu_pt[j], ev.Dst_refitD0pismu_eta[j], ev.Dst_refitD0pismu_phi[j],\n",
    "                   ev.D0_refitD0pismu_pt[j], ev.D0_refitD0pismu_eta[j], ev.D0_refitD0pismu_phi[j],\n",
    "                   ev.pi_pt[j], ev.pi_eta[j], ev.pi_phi[j], ev.sigdxy_pi_PV[j],\n",
    "                   ev.K_pt[j], ev.K_eta[j], ev.K_phi[j], ev.sigdxy_K_PV[j],\n",
    "                   ev.pval_piK[j], ev.sigdxy_vtxD0_PV[j],\n",
    "                   ev.pis_pt[j], ev.pis_eta[j], ev.pis_phi[j], ev.sigdxy_pis_PV[j],\n",
    "                   ev.pval_D0pis[j],\n",
    "                   ev.mass_piK[j], ev.mass_D0pis[j], ev.mass_D0pismu[j],\n",
    "                   ev.pval_D0pismu[j], ev.cos_D0pismu_PV[j],\n",
    "                   N_lowMassAddTks,\n",
    "                   trigger_selection(idxTrg, ev, categories['low']),\n",
    "                   trigger_selection(idxTrg, ev, categories['mid']),\n",
    "                   trigger_selection(idxTrg, ev, categories['high']),\n",
    "                   ev.N_vertexes\n",
    "                  )\n",
    "            if not 'data' in n:\n",
    "                aux += (ev.MC_q2, ev.MC_Est_mu, ev.MC_M2_miss,\n",
    "                        ev.MC_B_pt, ev.MC_B_eta, ev.MC_B_phi,\n",
    "                        ev.MC_Dst_pt, ev.MC_Dst_eta, ev.MC_Dst_phi,\n",
    "                        ev.MC_mu_pt, ev.MC_mu_eta, ev.MC_mu_phi, ev.MC_mu_IP,\n",
    "                        ev.MC_idxCand == j\n",
    "                       )\n",
    "            if n in ['tau', 'mu']:\n",
    "                aux += (ev.wh_CLNCentral,\n",
    "                        ev.wh_CLNR0Down, ev.wh_CLNR0Up,\n",
    "                        ev.wh_CLNR1Down, ev.wh_CLNR1Up,\n",
    "                        ev.wh_CLNR2Down, ev.wh_CLNR2Up,\n",
    "                        ev.wh_CLNRhoSqDown, ev.wh_CLNRhoSqUp,\n",
    "                       )\n",
    "        \n",
    "            output[N_accepted_tot] = aux\n",
    "            N_accepted_tot += 1\n",
    "\n",
    "        if N_acc > 0:\n",
    "            N_accepted_cand.append(N_acc)\n",
    "\n",
    "    output = output[:N_accepted_tot]\n",
    "    if not serial:\n",
    "        print tag, ': done'\n",
    "    return [output, N_accepted_cand]"
   ]
  },
  {
   "cell_type": "code",
   "execution_count": 5,
   "metadata": {},
   "outputs": [],
   "source": [
    "def create_dSet(n, filepath, cat, skipCut=None, maxEntries=1e15):  \n",
    "    if skipCut=='all' and cat is None:\n",
    "        catName = 'All'\n",
    "    else:\n",
    "        catName = cat.name\n",
    "    print n, catName\n",
    "    if 'data' in n:\n",
    "        fskimmed_name = filepath.replace('CAND.root', 'skim{}.root'.format(catName))\n",
    "    else:\n",
    "        d = os.path.dirname(filepath) + '/skimmed/'\n",
    "        if not os.path.isdir(d):\n",
    "            os.makedirs(d)\n",
    "        fskimmed_name = d + catName \n",
    "        if not skipCut is None:\n",
    "            fskimmed_name += '_skip'+str(skipCut)\n",
    "        fskimmed_name += '.root'\n",
    "    logfile = fskimmed_name.replace('.root', '.log')\n",
    "    if os.path.isfile(fskimmed_name) and not n in recreate:\n",
    "        print 'Already present'\n",
    "    else:\n",
    "        tree = rt.TChain('outA/Tevts')\n",
    "        for fn in glob(filepath):\n",
    "            tree.Add(fn)\n",
    "        N_cand_in = min(maxEntries, tree.GetEntries())\n",
    "        print n, ': Total number of candidate events =', N_cand_in\n",
    "            \n",
    "        leafs_names = ['q2', 'Est_mu', 'M2_miss',\n",
    "                       'mu_pt', 'mu_eta', 'mu_phi', 'mu_sigdxy',\n",
    "                       'B_pt', 'B_eta', 'B_phi',\n",
    "                       'Dst_pt', 'Dst_eta', 'Dst_phi',\n",
    "                       'D0_pt', 'D0_eta', 'D0_phi',\n",
    "                       'pi_pt', 'pi_eta', 'pi_phi', 'pi_IP',\n",
    "                       'K_pt', 'K_eta', 'K_phi', 'K_IP',\n",
    "                       'pval_piK', 'sigdxy_vtxD0_PV',\n",
    "                       'pis_pt', 'pis_eta', 'pis_phi', 'pis_IP',\n",
    "                       'pval_D0pis',\n",
    "                       'mass_piK', 'mass_D0pis', 'mass_D0pismu',\n",
    "                       'pval_D0pismu', 'cos_D0pismu_PV',\n",
    "                       'N_lowMassAddTks',\n",
    "                       'cat_low', 'cat_mid', 'cat_high',\n",
    "                       'N_vtx'\n",
    "                      ]\n",
    "        if not 'data' in n:\n",
    "            leafs_names += ['MC_q2', 'MC_Est_mu', 'MC_M2_miss',\n",
    "                            'MC_B_pt', 'MC_B_eta', 'MC_B_phi',\n",
    "                            'MC_Dst_pt', 'MC_Dst_eta', 'MC_Dst_phi',\n",
    "                            'MC_mu_pt', 'MC_mu_eta', 'MC_mu_phi', 'MC_mu_IP',\n",
    "                            'MC_idxMatch'\n",
    "                           ]\n",
    "        if n in ['tau', 'mu']:\n",
    "            leafs_names += ['wh_CLNCentral', \n",
    "                            'wh_CLNR0Down', 'wh_CLNR0Up', \n",
    "                            'wh_CLNR1Down', 'wh_CLNR1Up', \n",
    "                            'wh_CLNR2Down', 'wh_CLNR2Up', \n",
    "                            'wh_CLNRhoSqDown', 'wh_CLNRhoSqUp']\n",
    "            \n",
    "        if N_cand_in < 60000:\n",
    "            output, N_accepted_cand = makeSelection(['', filepath, leafs_names, cat, \n",
    "                                                     [0, N_cand_in-1], skipCut, True])\n",
    "        else:\n",
    "            pdiv = list(np.arange(0, N_cand_in, 30000))\n",
    "            if not pdiv[-1] == N_cand_in: \n",
    "                pdiv.append(N_cand_in)\n",
    "            print 'Will be divided into ' + str(len(pdiv)-1) + ' jobs'\n",
    "            inputs = []\n",
    "            for i in range(1, len(pdiv)):\n",
    "                corr = 0\n",
    "                if i == 1:\n",
    "                    corr = -1\n",
    "                inputs.append([str(i), filepath, leafs_names, cat, [pdiv[i-1]+1+corr, pdiv[i]], skipCut, False])\n",
    "            print ' '\n",
    "            \n",
    "            start = time.time()\n",
    "            p = Pool(min(20,len(inputs)))\n",
    "            outputs = p.map(makeSelection, inputs)\n",
    "            output = np.concatenate(tuple([o[0] for o in outputs]))\n",
    "            N_accepted_cand = []\n",
    "            for o in outputs: N_accepted_cand += o[1]\n",
    "            print 'Total time: {:.1f} min'.format((time.time()-start)/60.)\n",
    "                \n",
    "        \n",
    "        dset = pd.DataFrame(output, columns=leafs_names)\n",
    "        if not os.path.isdir(os.path.dirname(fskimmed_name)):\n",
    "            os.makedirs(os.path.dirname(fskimmed_name))\n",
    "        rtnp.array2root(dset.to_records(), fskimmed_name, treename='Tevts', mode='RECREATE')\n",
    "        \n",
    "        with open(logfile, 'w') as f:\n",
    "            ln = 'Number of candidates per events\\n{'\n",
    "            ln += ', '.join(['{}:{}'.format(i, N_accepted_cand.count(i)) for i in range(1, np.max(N_accepted_cand)+1)])\n",
    "            ln += '}\\n'\n",
    "            f.write(ln)\n",
    "            f.write('N_analyzed: '+str(N_cand_in)+'\\n')\n",
    "            f.write('N_accepted: '+str(dset.shape[0])+'\\n')\n",
    "            e = getEff(dset.shape[0], N_cand_in)\n",
    "            f.write('Eff: {:.3f} +/- {:.3f} %'.format(1e2*e[0], 1e2*e[1])+'\\n')\n",
    "         \n",
    "    os.system('echo '+logfile+';cat '+logfile + ';echo ')"
   ]
  },
  {
   "cell_type": "code",
   "execution_count": 6,
   "metadata": {},
   "outputs": [
    {
     "name": "stdout",
     "output_type": "stream",
     "text": [
      "mu All\n",
      "Already present\n",
      "mu_PU0 All\n",
      "Already present\n",
      "../data/cmsMC_private/BPH_Tag-B0_MuNuDmst-pD0bar-kp_13TeV-pythia8_Hardbbbar_PTFilter5_0p0-evtgen_ISGW2_PU20_10-2-3/ntuples_B2DstMu/skimmed/All_skipall.log\n",
      "Number of candidates per events\n",
      "{1:856468, 2:4337, 3:20, 4:9}\n",
      "N_analyzed: 860834\n",
      "N_accepted: 865238\n",
      "Eff: 100.512 +/- nan %\n",
      "\n",
      "../data/cmsMC_private/BPH_Tag-B0_MuNuDmst-pD0bar-kp_13TeV-pythia8_Hardbbbar_PTFilter5_0p0-evtgen_ISGW2_PU0_10-2-3/ntuples_B2DstMu/skimmed/All_skipall.log\n",
      "Number of candidates per events\n",
      "{1:261794, 2:1208, 3:5}\n",
      "N_analyzed: 263007\n",
      "N_accepted: 264225\n",
      "Eff: 100.463 +/- nan %\n",
      "\n"
     ]
    }
   ],
   "source": [
    "from categoriesDef import categories\n",
    "\n",
    "recreate = [] #file_loc.keys()\n",
    "\n",
    "for n, fp in file_loc.iteritems():\n",
    "#     create_dSet(n, fp, categories[cn], None)\n",
    "    create_dSet(n, fp, None, 'all', maxEntries=1e9)\n",
    "            \n",
    "# skipping_list = [None] + list(range(1,22))\n",
    "# for sk in skipping_list:\n",
    "#     for cn in ['low']: #, 'mid', 'high']:\n",
    "#         for n, fp in file_loc.iteritems():\n",
    "#             create_dSet(n, fp, categories[cn], sk)"
   ]
  },
  {
   "cell_type": "markdown",
   "metadata": {},
   "source": [
    "# Analyze selection efficiencies"
   ]
  },
  {
   "cell_type": "code",
   "execution_count": 7,
   "metadata": {},
   "outputs": [],
   "source": [
    "def getTree(n, filepath, cat, skipCut=None, maxEntries=1e15):  \n",
    "    if skipCut=='all' and cat is None:\n",
    "        catName = 'All'\n",
    "    else:\n",
    "        catName = cat.name\n",
    "    print n, catName, skipCut\n",
    "    if 'data' in n:\n",
    "        fskimmed_name = filepath.replace('CAND.root', 'skim{}.root'.format(catName))\n",
    "    else:\n",
    "        d = os.path.dirname(filepath) + '/skimmed/'\n",
    "        fskimmed_name = d + catName \n",
    "        if not skipCut is None:\n",
    "            fskimmed_name += '_skip'+str(skipCut)\n",
    "        fskimmed_name += '.root'\n",
    "    if os.path.isfile(fskimmed_name):\n",
    "        t = rt.TChain('Tevts')\n",
    "        t.Add(fskimmed_name)\n",
    "        return t\n",
    "    else: return None"
   ]
  },
  {
   "cell_type": "markdown",
   "metadata": {},
   "source": [
    "## Get efficiency per cut"
   ]
  },
  {
   "cell_type": "code",
   "execution_count": 8,
   "metadata": {},
   "outputs": [
    {
     "name": "stdout",
     "output_type": "stream",
     "text": [
      "mu All all\n",
      "mu_PU0 All all\n"
     ]
    }
   ],
   "source": [
    "T = {}\n",
    "for n, fp in file_loc.iteritems():\n",
    "    aux = getTree(n, fp, None, 'all', maxEntries=1e9)\n",
    "    if not aux is None:\n",
    "        T[n] = aux"
   ]
  },
  {
   "cell_type": "code",
   "execution_count": 25,
   "metadata": {},
   "outputs": [
    {
     "name": "stdout",
     "output_type": "stream",
     "text": [
      "mu\n",
      "[####################]  100% - Tot. time: 2.1 s\n",
      "mu_PU0\n",
      "[####################]  100% - Tot. time: 0.7 s\n"
     ]
    },
    {
     "data": {
      "image/png": "[encoded data removed]",
      "text/plain": [
       "<matplotlib.figure.Figure at 0x7f16e52edad0>"
      ]
     },
     "metadata": {},
     "output_type": "display_data"
    }
   ],
   "source": [
    "allCuts = ' && '.join(candidateSelection_stringList)\n",
    "eff = {}\n",
    "for n, t in T.iteritems():\n",
    "    print n\n",
    "    eff[n] = np.zeros(len(candidateSelection_stringList)+1)\n",
    "    Ntot = float(t.GetEntries())\n",
    "    Nsel = t.GetEntries(allCuts)\n",
    "    eff[n][0] = Nsel/Ntot\n",
    "    pb = ProgressBar(maxEntry=len(candidateSelection_stringList))\n",
    "    for ic, c in enumerate(candidateSelection_stringList):\n",
    "        pb.show(ic)\n",
    "        eff[n][ic+1] = t.GetEntries(c)/Ntot \n",
    "\n",
    "for n in T.keys():\n",
    "    plt.plot(eff[n], 'o', label=n)\n",
    "\n",
    "plt.rcParams.update({'font.size': 20})\n",
    "plt.xlabel('Cut')\n",
    "plt.ylabel('Efficiency')\n",
    "plt.legend(loc='best', numpoints=1)\n",
    "plt.xticks(range(len(candidateSelection_nameList)+1), ['all']+candidateSelection_nameList, rotation=90)\n",
    "plt.ylim(0,1.2)\n",
    "plt.xlim(-1,plt.xlim()[1])\n",
    "plt.grid(axis='x')\n",
    "plt.gcf().set_size_inches(10, 6)"
   ]
  },
  {
   "cell_type": "code",
   "execution_count": 32,
   "metadata": {},
   "outputs": [
    {
     "name": "stdout",
     "output_type": "stream",
     "text": [
      "mu\n",
      "mu_PU0\n"
     ]
    },
    {
     "data": {
      "image/png": "[encoded data removed]",
      "text/plain": [
       "<matplotlib.figure.Figure at 0x7f16e58e21d0>"
      ]
     },
     "metadata": {},
     "output_type": "display_data"
    }
   ],
   "source": [
    "allCuts = ' && '.join(candidateSelection_stringList)\n",
    "cat = ['cat_low', 'cat_mid', 'cat_high']\n",
    "eff = {}\n",
    "for n, t in T.iteritems():\n",
    "    print n\n",
    "    eff[n] = np.zeros(2*len(cat)+1)\n",
    "    Ntot = float(t.GetEntries())\n",
    "    Nsel = t.GetEntries(allCuts)\n",
    "    eff[n][0] = Nsel/Ntot\n",
    "    for ic, c in enumerate(cat):\n",
    "        eff[n][ic+1] = t.GetEntries(c)/Ntot \n",
    "    for ic, c in enumerate(cat):\n",
    "        eff[n][ic+1+len(cat)] = t.GetEntries(c + ' && ' + allCuts)/Ntot \n",
    "\n",
    "for n in T.keys():\n",
    "    plt.plot(eff[n], 'o', label=n)\n",
    "\n",
    "plt.rcParams.update({'font.size': 20})\n",
    "plt.xlabel('Cut')\n",
    "plt.ylabel('Efficiency')\n",
    "plt.legend(loc='best', numpoints=1)\n",
    "plt.xticks(range(2*len(cat)+1), ['all']+cat+['all & '+c for c in cat], rotation=90)\n",
    "plt.ylim(0.5*np.min([np.min(e) for e in eff.values()]), plt.ylim()[1])\n",
    "plt.xlim(-1,plt.xlim()[1]+1)\n",
    "plt.yscale('log')\n",
    "plt.grid()\n",
    "plt.gcf().set_size_inches(10, 6)"
   ]
  },
  {
   "cell_type": "code",
   "execution_count": null,
   "metadata": {},
   "outputs": [],
   "source": []
  }
 ],
 "metadata": {
  "kernelspec": {
   "display_name": "Python 2",
   "language": "python",
   "name": "python2"
  },
  "language_info": {
   "codemirror_mode": {
    "name": "ipython",
    "version": 2
   },
   "file_extension": ".py",
   "mimetype": "text/x-python",
   "name": "python",
   "nbconvert_exporter": "python",
   "pygments_lexer": "ipython2",
   "version": "2.7.14+"
  }
 },
 "nbformat": 4,
 "nbformat_minor": 2
}
