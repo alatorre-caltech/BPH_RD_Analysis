{
 "cells": [
  {
   "cell_type": "markdown",
   "metadata": {},
   "source": [
    "Notebook to collect the information of the generation"
   ]
  },
  {
   "cell_type": "markdown",
   "metadata": {},
   "source": [
    "### Import"
   ]
  },
  {
   "cell_type": "code",
   "execution_count": 144,
   "metadata": {
    "ExecuteTime": {
     "end_time": "2019-09-05T21:15:31.943364Z",
     "start_time": "2019-09-05T21:15:31.926087Z"
    }
   },
   "outputs": [],
   "source": [
    "import sys, os, re\n",
    "from glob import glob\n",
    "sys.path.append('../lib')\n",
    "\n",
    "import time, datetime"
   ]
  },
  {
   "cell_type": "code",
   "execution_count": 227,
   "metadata": {
    "ExecuteTime": {
     "end_time": "2019-09-05T22:24:03.932699Z",
     "start_time": "2019-09-05T22:24:03.914085Z"
    }
   },
   "outputs": [],
   "source": [
    "import numpy as np\n",
    "import matplotlib.pyplot as plt\n",
    "from prettytable import PrettyTable\n",
    "import humanfriendly"
   ]
  },
  {
   "cell_type": "code",
   "execution_count": 3,
   "metadata": {
    "ExecuteTime": {
     "end_time": "2019-09-05T18:29:17.211015Z",
     "start_time": "2019-09-05T18:29:15.575103Z"
    }
   },
   "outputs": [
    {
     "name": "stdout",
     "output_type": "stream",
     "text": [
      "Welcome to JupyROOT 6.10/08\n"
     ]
    }
   ],
   "source": [
    "import uproot as ur\n",
    "import ROOT as rt\n",
    "rt.gErrorIgnoreLevel = rt.kError\n",
    "rt.RooMsgService.instance().setGlobalKillBelow(rt.RooFit.ERROR)\n",
    "import root_numpy as rtnp"
   ]
  },
  {
   "cell_type": "markdown",
   "metadata": {},
   "source": [
    "# Inputs"
   ]
  },
  {
   "cell_type": "code",
   "execution_count": 4,
   "metadata": {
    "ExecuteTime": {
     "end_time": "2019-09-05T18:29:17.230139Z",
     "start_time": "2019-09-05T18:29:17.215115Z"
    }
   },
   "outputs": [
    {
     "name": "stdout",
     "output_type": "stream",
     "text": [
      "['../data/cmsMC_private/BPH_Tag-B0_MuNuDmst-pD0bar-kp_13TeV-pythia8_Hardbbbar_PTFilter5_0p0-evtgen_ISGW2_PU35_10-2-3', '../data/cmsMC_private/BPH_Tag-B0_TauNuDmst-pD0bar-kp-t2mnn_pythia8_Hardbbbar_PTFilter5_0p0-evtgen_ISGW2_PU35_10-2-3']\n"
     ]
    }
   ],
   "source": [
    "data_dir = '../data/cmsMC_private/'\n",
    "generation_tag = 'BPH_Tag-B0_*pythia8_Hardbbbar_PTFilter5_0p0-evtgen_ISGW2_PU35_10-2-3'\n",
    "aux = glob(data_dir+generation_tag)\n",
    "print aux\n",
    "if 'TauNu' in aux[1]:\n",
    "    muDir = aux[0]\n",
    "    tauDir = aux [1]\n",
    "else:\n",
    "    muDir = aux[1]\n",
    "    tauDir = aux [0]"
   ]
  },
  {
   "cell_type": "code",
   "execution_count": 108,
   "metadata": {
    "ExecuteTime": {
     "end_time": "2019-09-05T20:22:08.341728Z",
     "start_time": "2019-09-05T20:22:08.326373Z"
    }
   },
   "outputs": [],
   "source": [
    "class Bauble: pass\n",
    "outDic = {}\n",
    "outDic['mu'] = Bauble()\n",
    "outDic['mu'].dir = muDir\n",
    "outDic['tau'] = Bauble()\n",
    "outDic['tau'].dir = tauDir"
   ]
  },
  {
   "cell_type": "markdown",
   "metadata": {},
   "source": [
    "# Efficiency"
   ]
  },
  {
   "cell_type": "code",
   "execution_count": 109,
   "metadata": {
    "ExecuteTime": {
     "end_time": "2019-09-05T20:22:08.878118Z",
     "start_time": "2019-09-05T20:22:08.862774Z"
    }
   },
   "outputs": [],
   "source": [
    "def getEff(k,N):\n",
    "    e = k/float(N)\n",
    "    de = np.sqrt(e*(1-e)/N)\n",
    "    return [e, de]"
   ]
  },
  {
   "cell_type": "code",
   "execution_count": 111,
   "metadata": {
    "ExecuteTime": {
     "end_time": "2019-09-05T20:22:18.204056Z",
     "start_time": "2019-09-05T20:22:18.114897Z"
    }
   },
   "outputs": [
    {
     "name": "stdout",
     "output_type": "stream",
     "text": [
      "\n",
      "--> mu\n",
      "1139000\n",
      "100000\n",
      "687\n",
      "125\n",
      "21\n",
      "\n",
      "--> tau\n",
      "1139000\n",
      "100000\n",
      "124\n",
      "30\n",
      "7\n"
     ]
    }
   ],
   "source": [
    "for name in outDic.keys():\n",
    "    print '\\n--> ' + name\n",
    "    indir = outDic[name].dir + '/'\n",
    "\n",
    "    step1_log_lines = open(indir + 'step1.log').readlines()\n",
    "\n",
    "    for line in reversed(step1_log_lines):\n",
    "        if 'Pythia::next():' in line:\n",
    "            break\n",
    "    outDic[name].N_gen = int(line[17:-29])\n",
    "    print outDic[name].N_gen\n",
    "\n",
    "    for line in reversed(step1_log_lines):\n",
    "        if 'Begin processing the ' in line:\n",
    "            break\n",
    "    aux = re.search(r', Event [0-9]+,', line).group(0)\n",
    "    outDic[name].N_gen_cuts = int(aux[8:-1]) + 99\n",
    "    print outDic[name].N_gen_cuts\n",
    "\n",
    "    f = rt.TFile(indir + 'test_MINIAODSIM.root')\n",
    "    t = f.Get('Events')\n",
    "    outDic[name].N_acc = int(t.GetEntries())\n",
    "    print outDic[name].N_acc\n",
    "\n",
    "    step1_log_lines = open(indir + 'step5.log').readlines()\n",
    "    eff_ln = []\n",
    "    for line in reversed(step1_log_lines):\n",
    "        if 'efficiency:' in line:\n",
    "            eff_ln.append(line)\n",
    "\n",
    "    aux = re.search(': [0-9]+/', eff_ln[1]).group(0)\n",
    "    outDic[name].N_trg = int(aux[2:-1])\n",
    "    print outDic[name].N_trg\n",
    "\n",
    "    aux = re.search(': [0-9]+/', eff_ln[0]).group(0)\n",
    "    outDic[name].N_cand = int(aux[2:-1])\n",
    "    print outDic[name].N_cand"
   ]
  },
  {
   "cell_type": "markdown",
   "metadata": {},
   "source": [
    "# Time"
   ]
  },
  {
   "cell_type": "code",
   "execution_count": 185,
   "metadata": {
    "ExecuteTime": {
     "end_time": "2019-09-05T21:41:36.453882Z",
     "start_time": "2019-09-05T21:41:36.447532Z"
    }
   },
   "outputs": [],
   "source": [
    "def bashDate2Unix(ln):\n",
    "    ln = ln.replace('CEST ', '')\n",
    "    t = time.mktime(datetime.datetime.strptime(ln, template).timetuple())\n",
    "    return float(t)"
   ]
  },
  {
   "cell_type": "code",
   "execution_count": 198,
   "metadata": {
    "ExecuteTime": {
     "end_time": "2019-09-05T21:55:02.925596Z",
     "start_time": "2019-09-05T21:55:02.886456Z"
    }
   },
   "outputs": [],
   "source": [
    "for d in outDic.values():\n",
    "    indir = d.dir + '/'\n",
    "    test_log_lines = open(indir + 'test.log').readlines()\n",
    "\n",
    "    d.crono = [[],[],[],[],[]]\n",
    "\n",
    "    template = '%c'\n",
    "    for i, ln in enumerate(test_log_lines):\n",
    "        for j in range(1,5):\n",
    "            if 'Step '+str(j) in ln or 'Running step '+str(j) in ln:\n",
    "#                 print ln[:-1]\n",
    "#                 print test_log_lines[i+1][:-1]\n",
    "                d.crono[j-1].append(bashDate2Unix(test_log_lines[i+1][:-1]))\n",
    "    d.crono[4].append(bashDate2Unix(test_log_lines[-1][:-1]))\n",
    "    \n",
    "    d.driver_time = []\n",
    "    d.run_time = []\n",
    "    for i in range(4):\n",
    "        d.driver_time.append(d.crono[i][1] - d.crono[i][0])\n",
    "        d.run_time.append(d.crono[i+1][0] - d.crono[i][1])"
   ]
  },
  {
   "cell_type": "markdown",
   "metadata": {},
   "source": [
    "# Print"
   ]
  },
  {
   "cell_type": "code",
   "execution_count": 187,
   "metadata": {
    "ExecuteTime": {
     "end_time": "2019-09-05T21:41:37.223791Z",
     "start_time": "2019-09-05T21:41:37.207059Z"
    }
   },
   "outputs": [],
   "source": [
    "d = outDic['mu']"
   ]
  },
  {
   "cell_type": "code",
   "execution_count": 232,
   "metadata": {
    "ExecuteTime": {
     "end_time": "2019-09-05T22:28:36.776924Z",
     "start_time": "2019-09-05T22:28:36.719679Z"
    }
   },
   "outputs": [
    {
     "name": "stdout",
     "output_type": "stream",
     "text": [
      "mu\n",
      "+--------------+--------------+-----------------+-----------------+-----------------------+\n",
      "|     Step     |     Sub      |     Eff [%]     | Driver time [s] | Running time/evt [ms] |\n",
      "+--------------+--------------+-----------------+-----------------+-----------------------+\n",
      "|   GEN-SIM    |      -       |  0.69 +/- 0.03  |       2.0       |          39.3         |\n",
      "|              |  Pythia Gen  |      x 11.4     |        -        |           -           |\n",
      "|              |  Gen Filter  |      100.0      |        -        |           -           |\n",
      "|              | CMSSW Filter |  0.69 +/- 0.03  |        -        |           -           |\n",
      "|     RAW      |      -       |      100.0      |       20.0      |         4879.2        |\n",
      "|     AOD      |      -       |      100.0      |       7.0       |         982.5         |\n",
      "|   MINIAOD    |      -       |      100.0      |       8.0       |         347.9         |\n",
      "| B02DstMuCAND |      -       |  3.06 +/- 0.66  |        -        |           -           |\n",
      "|              |   BPH Trg    |  18.20 +/- 1.47 |        -        |           -           |\n",
      "|              |  Cand. sel.  |  16.80 +/- 3.34 |        -        |           -           |\n",
      "|              |              |                 |                 |                       |\n",
      "|     Tot      |              | 0.021 +/- 0.005 |       37.0      |      390476.2(*)      |\n",
      "+--------------+--------------+-----------------+-----------------+-----------------------+\n",
      "+-----------+-----------------+----------------+-----------------+\n",
      "| Evts req. |  # MINIAOD Evts |    # Cand.     | Tot. Time [min] |\n",
      "+-----------+-----------------+----------------+-----------------+\n",
      "|    100k   | 687 (31.05 MiB) | 21 (35.91 KiB) |       137       |\n",
      "+-----------+-----------------+----------------+-----------------+\n",
      "\n",
      "tau\n",
      "+--------------+--------------+-----------------+-----------------+-----------------------+\n",
      "|     Step     |     Sub      |     Eff [%]     | Driver time [s] | Running time/evt [ms] |\n",
      "+--------------+--------------+-----------------+-----------------+-----------------------+\n",
      "|   GEN-SIM    |      -       |  0.12 +/- 0.01  |       5.0       |          39.2         |\n",
      "|              |  Pythia Gen  |      x 11.4     |        -        |           -           |\n",
      "|              |  Gen Filter  |      100.0      |        -        |           -           |\n",
      "|              | CMSSW Filter |  0.12 +/- 0.01  |        -        |           -           |\n",
      "|     RAW      |      -       |      100.0      |       24.0      |         7862.9        |\n",
      "|     AOD      |      -       |      100.0      |       11.0      |         1911.3        |\n",
      "|   MINIAOD    |      -       |      100.0      |       12.0      |         1387.1        |\n",
      "| B02DstMuCAND |      -       |  5.65 +/- 2.07  |        -        |           -           |\n",
      "|              |   BPH Trg    |  24.19 +/- 3.85 |        -        |           -           |\n",
      "|              |  Cand. sel.  |  23.33 +/- 7.72 |        -        |           -           |\n",
      "|              |              |                 |                 |                       |\n",
      "|     Tot      |              | 0.007 +/- 0.003 |       52.0      |      757142.9(*)      |\n",
      "+--------------+--------------+-----------------+-----------------+-----------------------+\n",
      "+-----------+----------------+---------------+-----------------+\n",
      "| Evts req. | # MINIAOD Evts |    # Cand.    | Tot. Time [min] |\n",
      "+-----------+----------------+---------------+-----------------+\n",
      "|    100k   | 124 (7.62 MiB) | 7 (26.78 KiB) |        89       |\n",
      "+-----------+----------------+---------------+-----------------+\n",
      "\n"
     ]
    }
   ],
   "source": [
    "for n, d in outDic.iteritems():\n",
    "    table = PrettyTable()\n",
    "    table.field_names = ['Step', 'Sub', 'Eff [%]', 'Driver time [s]', 'Running time/evt [ms]']\n",
    "    e, de = getEff(d.N_acc, d.N_gen_cuts)\n",
    "    table.add_row(['GEN-SIM', '-', '{:.2f} +/- {:.2f}'.format(100*e, 100*de), '{:.1f}'.format(d.driver_time[0]), '{:.1f}'.format(1e3*d.run_time[0]/d.N_gen_cuts)])\n",
    "    e, de = getEff(d.N_gen_cuts, d.N_gen)\n",
    "    table.add_row(['', 'Pythia Gen', 'x {:.1f}'.format(1./e), '-', '-'])\n",
    "    table.add_row(['', 'Gen Filter', '100.0', '-', '-'])\n",
    "    e, de = getEff(d.N_acc, d.N_gen_cuts)\n",
    "    table.add_row(['', 'CMSSW Filter', '{:.2f} +/- {:.2f}'.format(100*e, 100*de), '-', '-'])\n",
    "\n",
    "    table.add_row(['RAW', '-', '100.0', '{:.1f}'.format(d.driver_time[1]), '{:.1f}'.format(1e3*d.run_time[1]/d.N_acc)])\n",
    "    table.add_row(['AOD', '-', '100.0', '{:.1f}'.format(d.driver_time[2]), '{:.1f}'.format(1e3*d.run_time[2]/d.N_acc)])\n",
    "    table.add_row(['MINIAOD', '-', '100.0', '{:.1f}'.format(d.driver_time[3]), '{:.1f}'.format(1e3*d.run_time[3]/d.N_acc)])\n",
    "    \n",
    "    e, de = getEff(d.N_cand, d.N_acc)\n",
    "    table.add_row(['B02DstMuCAND', '-', '{:.2f} +/- {:.2f}'.format(100*e, 100*de), '-', '-'])\n",
    "    e, de = getEff(d.N_trg, d.N_acc)\n",
    "    table.add_row(['', 'BPH Trg', '{:.2f} +/- {:.2f}'.format(100*e, 100*de), '-', '-'])\n",
    "    e, de = getEff(d.N_cand, d.N_trg)\n",
    "    table.add_row(['', 'Cand. sel.', '{:.2f} +/- {:.2f}'.format(100*e, 100*de), '-', '-'])\n",
    "    \n",
    "    table.add_row(len(table.field_names)*[''])\n",
    "    \n",
    "    e, de = getEff(d.N_cand, d.N_gen_cuts)\n",
    "    table.add_row(['Tot', '', '{:.3f} +/- {:.3f}'.format(100*e, 100*de), '{:.1f}'.format(np.sum(d.driver_time)), '{:.1f}(*)'.format(1e3*np.sum(d.run_time)/d.N_cand)])\n",
    "\n",
    "    print n\n",
    "    print table.get_string()\n",
    "    \n",
    "    tabsum = PrettyTable()\n",
    "    tabsum.field_names = ['Evts req.', '# MINIAOD Evts', '# Cand.', 'Tot. Time [min]']\n",
    "    \n",
    "    num_bytes = os.path.getsize(d.dir + '/test_MINIAODSIM.root')\n",
    "    MINIAOD_size = humanfriendly.format_size(num_bytes, binary=True)\n",
    "    num_bytes = os.path.getsize(d.dir + '/test_B02DstMuCAND.root')\n",
    "    B02DstMuCAND_size = humanfriendly.format_size(num_bytes, binary=True)\n",
    "    \n",
    "    tabsum.add_row(['{:.0f}k'.format(1e-3*d.N_gen_cuts), '{:.0f} ({})'.format(d.N_acc, MINIAOD_size), '{:.0f} ({})'.format(d.N_cand, B02DstMuCAND_size), '{:.0f}'.format((d.crono[-1][-1]-d.crono[0][0])/60.)])\n",
    "    print tabsum.get_string()\n",
    "    \n",
    "    \n",
    "    print"
   ]
  }
 ],
 "metadata": {
  "kernelspec": {
   "display_name": "Python 2",
   "language": "python",
   "name": "python2"
  },
  "language_info": {
   "codemirror_mode": {
    "name": "ipython",
    "version": 2
   },
   "file_extension": ".py",
   "mimetype": "text/x-python",
   "name": "python",
   "nbconvert_exporter": "python",
   "pygments_lexer": "ipython2",
   "version": "2.7.14"
  }
 },
 "nbformat": 4,
 "nbformat_minor": 2
}
