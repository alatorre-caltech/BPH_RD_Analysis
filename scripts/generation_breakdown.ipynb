{
 "cells": [
  {
   "cell_type": "markdown",
   "metadata": {},
   "source": [
    "Notebook to collect the information of the generation"
   ]
  },
  {
   "cell_type": "markdown",
   "metadata": {},
   "source": [
    "### Import"
   ]
  },
  {
   "cell_type": "code",
   "execution_count": 1,
   "metadata": {
    "ExecuteTime": {
     "end_time": "2019-09-09T21:16:15.911322Z",
     "start_time": "2019-09-09T21:16:15.904319Z"
    }
   },
   "outputs": [],
   "source": [
    "import sys, os, re\n",
    "from glob import glob\n",
    "sys.path.append('../lib')\n",
    "\n",
    "import time, datetime"
   ]
  },
  {
   "cell_type": "code",
   "execution_count": 2,
   "metadata": {
    "ExecuteTime": {
     "end_time": "2019-09-09T21:16:17.815876Z",
     "start_time": "2019-09-09T21:16:16.272327Z"
    }
   },
   "outputs": [],
   "source": [
    "import numpy as np\n",
    "import matplotlib.pyplot as plt\n",
    "from prettytable import PrettyTable\n",
    "import humanfriendly"
   ]
  },
  {
   "cell_type": "code",
   "execution_count": 3,
   "metadata": {
    "ExecuteTime": {
     "end_time": "2019-09-09T21:16:20.360665Z",
     "start_time": "2019-09-09T21:16:17.820099Z"
    }
   },
   "outputs": [
    {
     "name": "stdout",
     "output_type": "stream",
     "text": [
      "Welcome to JupyROOT 6.10/08\n"
     ]
    }
   ],
   "source": [
    "import uproot as ur\n",
    "import ROOT as rt\n",
    "rt.gErrorIgnoreLevel = rt.kError\n",
    "rt.RooMsgService.instance().setGlobalKillBelow(rt.RooFit.ERROR)\n",
    "import root_numpy as rtnp"
   ]
  },
  {
   "cell_type": "markdown",
   "metadata": {},
   "source": [
    "# Inputs"
   ]
  },
  {
   "cell_type": "code",
   "execution_count": null,
   "metadata": {
    "ExecuteTime": {
     "end_time": "2019-09-07T01:32:52.778372Z",
     "start_time": "2019-09-07T01:32:52.762366Z"
    }
   },
   "outputs": [],
   "source": [
    "# data_dir = '../data/cmsMC_private/'\n",
    "# generation_tag = 'BPH_Tag-B0_*pythia8_Hardbbbar_PTFilter5_0p0-evtgen_ISGW2_PU35_10-2-3'\n",
    "# aux = glob(data_dir+generation_tag)\n",
    "# print aux\n",
    "# if 'TauNu' in aux[1]:\n",
    "#     muDir = aux[0]\n",
    "#     tauDir = aux [1]\n",
    "# else:\n",
    "#     muDir = aux[1]\n",
    "#     tauDir = aux [0]\n",
    "    \n",
    "# class Bauble: pass\n",
    "# outDic = {}\n",
    "# outDic['mu'] = Bauble()\n",
    "# outDic['mu'].dir = muDir\n",
    "# outDic['tau'] = Bauble()\n",
    "# outDic['tau'].dir = tauDir"
   ]
  },
  {
   "cell_type": "code",
   "execution_count": 4,
   "metadata": {
    "ExecuteTime": {
     "end_time": "2019-09-09T21:16:27.036897Z",
     "start_time": "2019-09-09T21:16:27.021050Z"
    }
   },
   "outputs": [],
   "source": [
    "class Bauble: pass\n",
    "outDic = {}\n",
    "outDic['B0'] = Bauble()\n",
    "outDic['B0'].dir = '../data/cmsMC_private/BPH_Tag-Mu_Probe-B0_KDmst-pD0bar-kp_13TeV-pythia8_Hardbbbar_PTFilter5_0p0-evtgen_SVS_PU0_10-2-3_v0'"
   ]
  },
  {
   "cell_type": "markdown",
   "metadata": {},
   "source": [
    "# Efficiency"
   ]
  },
  {
   "cell_type": "code",
   "execution_count": 5,
   "metadata": {
    "ExecuteTime": {
     "end_time": "2019-09-09T21:16:27.946640Z",
     "start_time": "2019-09-09T21:16:27.940576Z"
    }
   },
   "outputs": [],
   "source": [
    "def getEff(k,N):\n",
    "    e = k/float(N)\n",
    "    de = np.sqrt(e*(1-e)/N)\n",
    "    return [e, de]"
   ]
  },
  {
   "cell_type": "code",
   "execution_count": 6,
   "metadata": {
    "ExecuteTime": {
     "end_time": "2019-09-09T21:16:28.481846Z",
     "start_time": "2019-09-09T21:16:28.222860Z"
    }
   },
   "outputs": [
    {
     "name": "stdout",
     "output_type": "stream",
     "text": [
      "\n",
      "--> B0\n",
      "1113000\n",
      "100000\n",
      "530\n",
      "119\n",
      "28\n"
     ]
    }
   ],
   "source": [
    "for name in outDic.keys():\n",
    "    print '\\n--> ' + name\n",
    "    indir = outDic[name].dir + '/'\n",
    "\n",
    "    step1_log_lines = open(indir + 'step1.log').readlines()\n",
    "\n",
    "    for line in reversed(step1_log_lines):\n",
    "        if 'Pythia::next():' in line:\n",
    "            break\n",
    "    outDic[name].N_gen = int(line[17:-29])\n",
    "    print outDic[name].N_gen\n",
    "\n",
    "    for line in reversed(step1_log_lines):\n",
    "        if 'Begin processing the ' in line:\n",
    "            break\n",
    "    aux = re.search(r', Event [0-9]+,', line).group(0)\n",
    "    outDic[name].N_gen_cuts = int(aux[8:-1]) + 99\n",
    "    print outDic[name].N_gen_cuts\n",
    "\n",
    "    f = rt.TFile(indir + 'test_MINIAODSIM.root')\n",
    "    t = f.Get('Events')\n",
    "    outDic[name].N_acc = int(t.GetEntries())\n",
    "    print outDic[name].N_acc\n",
    "\n",
    "    step5_log_lines = open(indir + 'step5.log').readlines()\n",
    "    eff_ln = []\n",
    "    for line in reversed(step5_log_lines):\n",
    "        if 'efficiency:' in line:\n",
    "            eff_ln.append(line)\n",
    "\n",
    "    aux = re.search(': [0-9]+/', eff_ln[1]).group(0)\n",
    "    outDic[name].N_trg = int(aux[2:-1])\n",
    "    print outDic[name].N_trg\n",
    "\n",
    "    aux = re.search(': [0-9]+/', eff_ln[0]).group(0)\n",
    "    outDic[name].N_cand = int(aux[2:-1])\n",
    "    print outDic[name].N_cand"
   ]
  },
  {
   "cell_type": "markdown",
   "metadata": {},
   "source": [
    "# Time"
   ]
  },
  {
   "cell_type": "code",
   "execution_count": 7,
   "metadata": {
    "ExecuteTime": {
     "end_time": "2019-09-09T21:16:28.702727Z",
     "start_time": "2019-09-09T21:16:28.685435Z"
    }
   },
   "outputs": [],
   "source": [
    "def bashDate2Unix(ln):\n",
    "    ln = ln.replace('CEST ', '')\n",
    "    t = time.mktime(datetime.datetime.strptime(ln, template).timetuple())\n",
    "    return float(t)"
   ]
  },
  {
   "cell_type": "code",
   "execution_count": 8,
   "metadata": {
    "ExecuteTime": {
     "end_time": "2019-09-09T21:16:28.950168Z",
     "start_time": "2019-09-09T21:16:28.916571Z"
    }
   },
   "outputs": [],
   "source": [
    "for d in outDic.values():\n",
    "    indir = d.dir + '/'\n",
    "    test_log_lines = open(indir + 'test.log').readlines()\n",
    "\n",
    "    d.crono = [[],[],[],[],[]]\n",
    "\n",
    "    template = '%c'\n",
    "    for i, ln in enumerate(test_log_lines):\n",
    "        for j in range(1,5):\n",
    "            if 'Step '+str(j) in ln or 'Running step '+str(j) in ln:\n",
    "#                 print ln[:-1]\n",
    "#                 print test_log_lines[i+1][:-1]\n",
    "                d.crono[j-1].append(bashDate2Unix(test_log_lines[i+1][:-1]))\n",
    "    d.crono[4].append(bashDate2Unix(test_log_lines[-1][:-1]))\n",
    "    \n",
    "    d.driver_time = []\n",
    "    d.run_time = []\n",
    "    for i in range(4):\n",
    "        d.driver_time.append(d.crono[i][1] - d.crono[i][0])\n",
    "        d.run_time.append(d.crono[i+1][0] - d.crono[i][1])"
   ]
  },
  {
   "cell_type": "markdown",
   "metadata": {},
   "source": [
    "# Print"
   ]
  },
  {
   "cell_type": "code",
   "execution_count": 9,
   "metadata": {
    "ExecuteTime": {
     "end_time": "2019-09-09T21:16:29.848687Z",
     "start_time": "2019-09-09T21:16:29.789802Z"
    }
   },
   "outputs": [
    {
     "name": "stdout",
     "output_type": "stream",
     "text": [
      "B0\n",
      "+---------+--------------+-----------------+-----------------+-----------------------+\n",
      "|   Step  |     Sub      |     Eff [%]     | Driver time [s] | Running time/evt [ms] |\n",
      "+---------+--------------+-----------------+-----------------+-----------------------+\n",
      "| GEN-SIM |      -       |  0.53 +/- 0.02  |       2.0       |          39.1         |\n",
      "|         |  Pythia Gen  |      x 11.1     |        -        |           -           |\n",
      "|         |  Gen Filter  |      100.0      |        -        |           -           |\n",
      "|         | CMSSW Filter |  0.53 +/- 0.02  |        -        |           -           |\n",
      "|   RAW   |      -       |      100.0      |       9.0       |         686.8         |\n",
      "|   AOD   |      -       |      100.0      |       8.0       |         258.5         |\n",
      "| MINIAOD |      -       |      100.0      |       9.0       |         388.7         |\n",
      "|   CAND  |      -       |  5.28 +/- 0.97  |        -        |           -           |\n",
      "|         |   BPH Trg    |  22.45 +/- 1.81 |        -        |           -           |\n",
      "|         |  Cand. sel.  |  23.53 +/- 3.89 |        -        |           -           |\n",
      "|         |              |                 |                 |                       |\n",
      "|   Tot   |              | 0.028 +/- 0.005 |       28.0      |      164750.0(*)      |\n",
      "+---------+--------------+-----------------+-----------------+-----------------------+\n",
      "+-----------+-----------------+----------------+-----------------+\n",
      "| Evts req. |  # MINIAOD Evts |    # Cand.     | Tot. Time [min] |\n",
      "+-----------+-----------------+----------------+-----------------+\n",
      "|    100k   | 530 (10.41 MiB) | 28 (40.91 KiB) |        77       |\n",
      "+-----------+-----------------+----------------+-----------------+\n",
      "\n"
     ]
    }
   ],
   "source": [
    "for n, d in outDic.iteritems():\n",
    "    table = PrettyTable()\n",
    "    table.field_names = ['Step', 'Sub', 'Eff [%]', 'Driver time [s]', 'Running time/evt [ms]']\n",
    "    e, de = getEff(d.N_acc, d.N_gen_cuts)\n",
    "    table.add_row(['GEN-SIM', '-', '{:.2f} +/- {:.2f}'.format(100*e, 100*de), '{:.1f}'.format(d.driver_time[0]), '{:.1f}'.format(1e3*d.run_time[0]/d.N_gen_cuts)])\n",
    "    e, de = getEff(d.N_gen_cuts, d.N_gen)\n",
    "    table.add_row(['', 'Pythia Gen', 'x {:.1f}'.format(1./e), '-', '-'])\n",
    "    table.add_row(['', 'Gen Filter', '100.0', '-', '-'])\n",
    "    e, de = getEff(d.N_acc, d.N_gen_cuts)\n",
    "    table.add_row(['', 'CMSSW Filter', '{:.2f} +/- {:.2f}'.format(100*e, 100*de), '-', '-'])\n",
    "\n",
    "    table.add_row(['RAW', '-', '100.0', '{:.1f}'.format(d.driver_time[1]), '{:.1f}'.format(1e3*d.run_time[1]/d.N_acc)])\n",
    "    table.add_row(['AOD', '-', '100.0', '{:.1f}'.format(d.driver_time[2]), '{:.1f}'.format(1e3*d.run_time[2]/d.N_acc)])\n",
    "    table.add_row(['MINIAOD', '-', '100.0', '{:.1f}'.format(d.driver_time[3]), '{:.1f}'.format(1e3*d.run_time[3]/d.N_acc)])\n",
    "    \n",
    "    e, de = getEff(d.N_cand, d.N_acc)\n",
    "    table.add_row(['CAND', '-', '{:.2f} +/- {:.2f}'.format(100*e, 100*de), '-', '-'])\n",
    "    e, de = getEff(d.N_trg, d.N_acc)\n",
    "    table.add_row(['', 'BPH Trg', '{:.2f} +/- {:.2f}'.format(100*e, 100*de), '-', '-'])\n",
    "    e, de = getEff(d.N_cand, d.N_trg)\n",
    "    table.add_row(['', 'Cand. sel.', '{:.2f} +/- {:.2f}'.format(100*e, 100*de), '-', '-'])\n",
    "    \n",
    "    table.add_row(len(table.field_names)*[''])\n",
    "    \n",
    "    e, de = getEff(d.N_cand, d.N_gen_cuts)\n",
    "    table.add_row(['Tot', '', '{:.3f} +/- {:.3f}'.format(100*e, 100*de), '{:.1f}'.format(np.sum(d.driver_time)), '{:.1f}(*)'.format(1e3*np.sum(d.run_time)/d.N_cand)])\n",
    "\n",
    "    print n\n",
    "    print table.get_string()\n",
    "    \n",
    "    tabsum = PrettyTable()\n",
    "    tabsum.field_names = ['Evts req.', '# MINIAOD Evts', '# Cand.', 'Tot. Time [min]']\n",
    "    \n",
    "    num_bytes = os.path.getsize(d.dir + '/test_MINIAODSIM.root')\n",
    "    MINIAOD_size = humanfriendly.format_size(num_bytes, binary=True)\n",
    "    num_bytes = os.path.getsize(d.dir + '/test_CAND.root')\n",
    "    B02DstMuCAND_size = humanfriendly.format_size(num_bytes, binary=True)\n",
    "    \n",
    "    tabsum.add_row(['{:.0f}k'.format(1e-3*d.N_gen_cuts), '{:.0f} ({})'.format(d.N_acc, MINIAOD_size), '{:.0f} ({})'.format(d.N_cand, B02DstMuCAND_size), '{:.0f}'.format((d.crono[-1][-1]-d.crono[0][0])/60.)])\n",
    "    print tabsum.get_string()\n",
    "    \n",
    "    \n",
    "    print"
   ]
  },
  {
   "cell_type": "code",
   "execution_count": null,
   "metadata": {},
   "outputs": [],
   "source": []
  }
 ],
 "metadata": {
  "kernelspec": {
   "display_name": "Python 2",
   "language": "python",
   "name": "python2"
  },
  "language_info": {
   "codemirror_mode": {
    "name": "ipython",
    "version": 2
   },
   "file_extension": ".py",
   "mimetype": "text/x-python",
   "name": "python",
   "nbconvert_exporter": "python",
   "pygments_lexer": "ipython2",
   "version": "2.7.14"
  }
 },
 "nbformat": 4,
 "nbformat_minor": 2
}
