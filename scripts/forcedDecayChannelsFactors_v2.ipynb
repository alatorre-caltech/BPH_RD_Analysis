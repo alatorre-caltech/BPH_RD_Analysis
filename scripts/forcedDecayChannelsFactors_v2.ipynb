{
 "cells": [
  {
   "cell_type": "markdown",
   "metadata": {
    "ExecuteTime": {
     "end_time": "2021-06-10T01:45:22.348420Z",
     "start_time": "2021-06-10T01:45:22.343344Z"
    }
   },
   "source": [
    "# Import and Def"
   ]
  },
  {
   "cell_type": "code",
   "execution_count": 1,
   "metadata": {
    "ExecuteTime": {
     "end_time": "2021-06-10T02:51:41.544027Z",
     "start_time": "2021-06-10T02:51:41.535723Z"
    }
   },
   "outputs": [],
   "source": [
    "test = False\n",
    "\n",
    "# Create the output dictionary\n",
    "dout = {}"
   ]
  },
  {
   "cell_type": "code",
   "execution_count": 2,
   "metadata": {
    "ExecuteTime": {
     "end_time": "2021-06-10T02:51:41.783574Z",
     "start_time": "2021-06-10T02:51:41.559986Z"
    }
   },
   "outputs": [],
   "source": [
    "import os, pickle\n",
    "from math import sqrt\n",
    "import numpy as np"
   ]
  },
  {
   "cell_type": "code",
   "execution_count": 3,
   "metadata": {
    "ExecuteTime": {
     "end_time": "2021-06-10T02:51:41.798016Z",
     "start_time": "2021-06-10T02:51:41.788372Z"
    },
    "code_folding": [
     0
    ]
   },
   "outputs": [],
   "source": [
    "def sumWithUnc(nList, scale=1.):\n",
    "    x = 0\n",
    "    dx = 0\n",
    "    for b in nList:\n",
    "        x += b[0]\n",
    "        dx += b[1]**2\n",
    "    dx = sqrt(dx)\n",
    "    \n",
    "    x *= scale\n",
    "    dx *= scale\n",
    "    print '{:1.3e} +/- {:1.3e} ({:.2f}%)'.format(x, dx, 100*np.abs(dx)/x)\n",
    "    return np.array([x, dx])"
   ]
  },
  {
   "cell_type": "code",
   "execution_count": 4,
   "metadata": {
    "ExecuteTime": {
     "end_time": "2021-06-10T02:51:41.836445Z",
     "start_time": "2021-06-10T02:51:41.802341Z"
    },
    "code_folding": [
     0
    ]
   },
   "outputs": [],
   "source": [
    "def multWithUnc(nList):\n",
    "    x = 1\n",
    "    auxD = 0\n",
    "    for b, db in nList:\n",
    "        x *= b\n",
    "        auxD += (db/b)**2\n",
    "    dx = x*np.sqrt(auxD)\n",
    "    return np.array([x, dx])"
   ]
  },
  {
   "cell_type": "code",
   "execution_count": 5,
   "metadata": {
    "ExecuteTime": {
     "end_time": "2021-06-10T02:51:41.871513Z",
     "start_time": "2021-06-10T02:51:41.840072Z"
    },
    "code_folding": [
     0
    ]
   },
   "outputs": [],
   "source": [
    "def divideWithUnc(n, d):\n",
    "    x = n[0]/d[0]\n",
    "    dx = x*np.hypot(n[1]/n[0], d[1]/d[0])\n",
    "    return np.array([x, dx])"
   ]
  },
  {
   "cell_type": "code",
   "execution_count": 6,
   "metadata": {
    "ExecuteTime": {
     "end_time": "2021-06-10T02:51:41.912765Z",
     "start_time": "2021-06-10T02:51:41.874949Z"
    }
   },
   "outputs": [],
   "source": [
    "def computeBr(dl):\n",
    "    r = 1\n",
    "    e2_dr_r = 0\n",
    "    for c in dl:\n",
    "        if isinstance(c, float):\n",
    "            r *= c\n",
    "        else:\n",
    "            r *= c[0]\n",
    "            e2_dr_r += (c[1]/c[0])**2\n",
    "    dr = sqrt(e2_dr_r)*r\n",
    "    print '{:1.3e} +/- {:1.3e} ({:.2f}%)'.format(r, dr, 100*dr/r)\n",
    "    return [r, dr]"
   ]
  },
  {
   "cell_type": "markdown",
   "metadata": {},
   "source": [
    "Scratches"
   ]
  },
  {
   "cell_type": "code",
   "execution_count": 7,
   "metadata": {
    "ExecuteTime": {
     "end_time": "2021-06-10T02:51:41.966165Z",
     "start_time": "2021-06-10T02:51:41.917405Z"
    }
   },
   "outputs": [
    {
     "data": {
      "text/plain": [
       "array([0.04397906, 0.01296099])"
      ]
     },
     "execution_count": 7,
     "metadata": {},
     "output_type": "execute_result"
    }
   ],
   "source": [
    "divideWithUnc([0.42, 0.12], [9.55, 0.69])"
   ]
  },
  {
   "cell_type": "markdown",
   "metadata": {
    "heading_collapsed": true
   },
   "source": [
    "# Main signal"
   ]
  },
  {
   "cell_type": "code",
   "execution_count": 8,
   "metadata": {
    "ExecuteTime": {
     "end_time": "2021-06-10T02:51:41.995654Z",
     "start_time": "2021-06-10T02:51:41.970660Z"
    },
    "hidden": true
   },
   "outputs": [],
   "source": [
    "# https://pdglive.lbl.gov/BranchingRatio.action?desig=1&parCode=S035\n",
    "tau_to_MuNuNu = [0.1739, 0.0004]\n",
    "\n",
    "# https://pdglive.lbl.gov/Particle.action?init=0&node=S032&home=MXXX035#decayclump_C (Gamma 35)\n",
    "Du_to_piK = [0.03946, 0.00030] # D0 -> K- pi+, anti-D0 -> K+ pi-\n",
    "\n",
    "# https://pdglive.lbl.gov/Particle.action?init=0&node=M062&home=MXXX035 (Gamma 1)\n",
    "Dst_to_piDu = [0.677, 0.005]\n",
    "\n",
    "if test:\n",
    "    Du_to_piK = [1., 0.]\n",
    "    Dst_to_piDu = [1., 0]\n",
    "\n",
    "# https://pdglive.lbl.gov/Particle.action?init=0&node=S042&home=MXXX045 (Gamma 6)\n",
    "Bd_to_DstMuNu = np.array([5.06e-2, 0.12e-2])"
   ]
  },
  {
   "cell_type": "code",
   "execution_count": 9,
   "metadata": {
    "ExecuteTime": {
     "end_time": "2021-06-10T02:51:42.059092Z",
     "start_time": "2021-06-10T02:51:42.000197Z"
    },
    "hidden": true
   },
   "outputs": [
    {
     "name": "stdout",
     "output_type": "stream",
     "text": [
      "1.352e-03 +/- 3.206e-05 (2.37%)\n",
      "2.351e-04 +/- 5.575e-06 (2.37%)\n"
     ]
    }
   ],
   "source": [
    "dout['mu'] = computeBr([Bd_to_DstMuNu, Dst_to_piDu[0], Du_to_piK[0]])\n",
    "\n",
    "# Tau gets everything but R(D*)\n",
    "dout['tau'] = computeBr([dout['mu'], tau_to_MuNuNu[0]])"
   ]
  },
  {
   "cell_type": "markdown",
   "metadata": {
    "heading_collapsed": true
   },
   "source": [
    "# $D^{**}$ background"
   ]
  },
  {
   "cell_type": "code",
   "execution_count": 10,
   "metadata": {
    "ExecuteTime": {
     "end_time": "2021-06-10T02:51:42.107643Z",
     "start_time": "2021-06-10T02:51:42.063552Z"
    },
    "hidden": true
   },
   "outputs": [
    {
     "name": "stdout",
     "output_type": "stream",
     "text": [
      "1.603e-04 +/- 1.069e-05 (6.67%)\n",
      "8.014e-05 +/- 5.343e-06 (6.67%)\n"
     ]
    }
   ],
   "source": [
    "# https://pdglive.lbl.gov/Particle.action?init=0&node=S041&home=MXXX045#decayclump_A (Gamma 12)\n",
    "Bu_to_DstPiMuNu = np.array([6e-3, 0.4e-3])\n",
    "dout['BuMuDstPi'] = computeBr([Bu_to_DstPiMuNu, Dst_to_piDu[0], Du_to_piK[0]])\n",
    "\n",
    "# Assuming isospin and compativle with Gamma(B0) 12/2\n",
    "Bd_to_DstPiMuNu = 0.5*Bu_to_DstPiMuNu\n",
    "dout['BdMuDstPi'] = computeBr([Bd_to_DstPiMuNu, Dst_to_piDu[0], Du_to_piK[0]])"
   ]
  },
  {
   "cell_type": "code",
   "execution_count": 11,
   "metadata": {
    "ExecuteTime": {
     "end_time": "2021-06-10T02:51:42.144200Z",
     "start_time": "2021-06-10T02:51:42.112123Z"
    },
    "hidden": true
   },
   "outputs": [
    {
     "name": "stdout",
     "output_type": "stream",
     "text": [
      "3.210e-05 +/- 1.085e-05 (33.78%)\n",
      "1.284e-05 +/- 4.338e-06 (33.78%)\n"
     ]
    }
   ],
   "source": [
    "# https://inspirehep.net/literature/1385752\n",
    "RstPipPim = np.array([0.019, np.hypot(0.005, 0.004)])\n",
    "\n",
    "Bd_to_DstPipPimMuNu = multWithUnc([Bd_to_DstMuNu, RstPipPim])\n",
    "Bd_to_DstPi0Pi0MuNu = Bd_to_DstPipPimMuNu/4 # isospin symm\n",
    "dout['BdMuDstPiPi'] = computeBr([Bd_to_DstPipPimMuNu*5./4., Dst_to_piDu[0], Du_to_piK[0]])\n",
    "\n",
    "Bu_to_DstPiPiMuNu = Bd_to_DstPipPimMuNu/2 # isospin symm\n",
    "dout['BuMuDstPiPi'] = computeBr([Bu_to_DstPiPiMuNu, Dst_to_piDu[0], Du_to_piK[0]])"
   ]
  },
  {
   "cell_type": "code",
   "execution_count": 12,
   "metadata": {
    "ExecuteTime": {
     "end_time": "2021-06-10T02:51:42.186483Z",
     "start_time": "2021-06-10T02:51:42.148700Z"
    },
    "hidden": true
   },
   "outputs": [
    {
     "name": "stdout",
     "output_type": "stream",
     "text": [
      "5.575e-06 +/- 3.719e-07 (6.67%)\n",
      "2.787e-06 +/- 1.859e-07 (6.67%)\n",
      "1.117e-06 +/- 3.772e-07 (33.78%)\n",
      "4.466e-07 +/- 1.509e-07 (33.78%)\n"
     ]
    }
   ],
   "source": [
    "RDstst = 0.2\n",
    "\n",
    "dout['BuTauDstPi'] = computeBr([dout['BuMuDstPi'], RDstst, tau_to_MuNuNu])\n",
    "dout['BdTauDstPi'] = computeBr([dout['BdMuDstPi'], RDstst, tau_to_MuNuNu])\n",
    "dout['BdTauDstPiPi'] = computeBr([dout['BdMuDstPiPi'], RDstst, tau_to_MuNuNu])\n",
    "dout['BuTauDstPiPi'] = computeBr([dout['BuMuDstPiPi'], RDstst, tau_to_MuNuNu])"
   ]
  },
  {
   "cell_type": "code",
   "execution_count": 13,
   "metadata": {
    "ExecuteTime": {
     "end_time": "2021-06-10T02:51:42.240492Z",
     "start_time": "2021-06-10T02:51:42.191230Z"
    },
    "hidden": true
   },
   "outputs": [
    {
     "name": "stdout",
     "output_type": "stream",
     "text": [
      "1.576e-04 +/- 4.007e-05 (25.42%)\n",
      "5.482e-06 +/- 1.394e-06 (25.42%)\n"
     ]
    }
   ],
   "source": [
    "Bs_to_DstKMuNu = np.array([5.9e-3, 1.5e-3])\n",
    "dout['BsMuDstK'] = computeBr([Bs_to_DstKMuNu, Dst_to_piDu[0], Du_to_piK[0]])\n",
    "\n",
    "dout['BsTauDstK'] = computeBr([dout['BsMuDstK'], RDstst, tau_to_MuNuNu])"
   ]
  },
  {
   "cell_type": "markdown",
   "metadata": {},
   "source": [
    "# Double charm background"
   ]
  },
  {
   "cell_type": "markdown",
   "metadata": {},
   "source": [
    "## $D_{(s)} \\to \\mu X$"
   ]
  },
  {
   "cell_type": "code",
   "execution_count": 14,
   "metadata": {
    "ExecuteTime": {
     "end_time": "2021-06-10T02:51:42.273047Z",
     "start_time": "2021-06-10T02:51:42.245208Z"
    },
    "code_folding": [
     0
    ]
   },
   "outputs": [
    {
     "name": "stdout",
     "output_type": "stream",
     "text": [
      "Total processes: 9\n",
      "6.084e-02 +/- 2.482e-03 (4.08%)\n"
     ]
    }
   ],
   "source": [
    "Du_to_MuX_list = [ # [10^-3]\n",
    "    [34.1, 0.4],\n",
    "    [18.9, 2.4],\n",
    "    [2.67, 0.12],\n",
    "    [1.50, 0.12],\n",
    "    [0.76, 0.30],\n",
    "    [0.77, 0.16],\n",
    "    [0.39, 0.01],\n",
    "    [0.30, 0.30],\n",
    "    [1.45, 0.07]\n",
    "]\n",
    "\n",
    "print 'Total processes:', len(Du_to_MuX_list)\n",
    "\n",
    "Du_to_MuX = sumWithUnc(Du_to_MuX_list, scale=1e-3)"
   ]
  },
  {
   "cell_type": "code",
   "execution_count": 15,
   "metadata": {
    "ExecuteTime": {
     "end_time": "2021-06-10T02:51:42.317147Z",
     "start_time": "2021-06-10T02:51:42.277778Z"
    },
    "code_folding": [
     0
    ]
   },
   "outputs": [
    {
     "name": "stdout",
     "output_type": "stream",
     "text": [
      "Total processes: 14\n",
      "1.588e-01 +/- 2.736e-03 (1.72%)\n"
     ]
    }
   ],
   "source": [
    "Dd_to_MuX_list = [ # [10^-3]\n",
    "    [87.6, 1.9],\n",
    "    [52.7, 1.5],\n",
    "    [3.5, 0.15],\n",
    "    [2.77, 0.40],\n",
    "    [1.0, 1.0],\n",
    "    [2.4, 0.4],\n",
    "    [1.69, 0.11],\n",
    "    [1.11, 0.07],\n",
    "    [0.20, 0.04],\n",
    "    [2.45, 0.10],\n",
    "    [1.9, 0.5],\n",
    "    [0.95, 0.01],\n",
    "    [0.37, 0.02],\n",
    "    [0.20, 0.05]\n",
    "]\n",
    "\n",
    "print 'Total processes:', len(Dd_to_MuX_list)\n",
    "\n",
    "Dd_to_MuX = sumWithUnc(Dd_to_MuX_list, scale=1e-3)"
   ]
  },
  {
   "cell_type": "code",
   "execution_count": 16,
   "metadata": {
    "ExecuteTime": {
     "end_time": "2021-06-10T02:51:42.350260Z",
     "start_time": "2021-06-10T02:51:42.320701Z"
    },
    "code_folding": [
     0
    ]
   },
   "outputs": [
    {
     "name": "stdout",
     "output_type": "stream",
     "text": [
      "Total processes: 7\n",
      "7.545e-02 +/- 2.057e-03 (2.73%)\n"
     ]
    }
   ],
   "source": [
    "Ds_to_MuX_list = [ # [10^-3]\n",
    "    [23.9, 1.6],\n",
    "    [23.2, 0.8],\n",
    "    [8.0, 0.7],\n",
    "    [3.4, 0.4],\n",
    "    [2.15, 0.28],\n",
    "    [9.31, 0.39],\n",
    "    [5.49, 0.39]\n",
    "]\n",
    "\n",
    "print 'Total processes:', len(Ds_to_MuX_list)\n",
    "\n",
    "Ds_to_MuX = sumWithUnc(Ds_to_MuX_list, scale=1e-3)"
   ]
  },
  {
   "cell_type": "markdown",
   "metadata": {},
   "source": [
    "## $B^0 \\to D^*D_{(s)}X$"
   ]
  },
  {
   "cell_type": "code",
   "execution_count": 17,
   "metadata": {
    "ExecuteTime": {
     "end_time": "2021-06-10T02:51:42.378653Z",
     "start_time": "2021-06-10T02:51:42.353858Z"
    }
   },
   "outputs": [
    {
     "name": "stdout",
     "output_type": "stream",
     "text": [
      "Total processes: 10\n",
      "Sum of Br\n",
      "3.695e-02 +/- 1.321e-03 (3.57%)\n",
      "Sample norm\n",
      "6.006e-05 +/- 3.257e-06 (5.42%)\n"
     ]
    }
   ],
   "source": [
    "Bd_to_DstDuX_list = [ # [10^-3]\n",
    "    [2.47, 0.21],\n",
    "    [1.24, 0.0],\n",
    "    [10.6, 0.9],\n",
    "    [5.3, 0.0],\n",
    "    [2*5.43, 2*0.47],\n",
    "    [2*2.7, 0.0],\n",
    "    [2*0.54, 2*0.04],\n",
    "]\n",
    "print 'Total processes:', len(Bd_to_DstDuX_list)+3\n",
    "print 'Sum of Br'\n",
    "Bd_to_DstDuX = sumWithUnc(Bd_to_DstDuX_list, scale=1e-3)\n",
    "\n",
    "print 'Sample norm'\n",
    "dout['BdToDstDuX'] = computeBr([Bd_to_DstDuX, Du_to_MuX, Dst_to_piDu[0], Du_to_piK[0]])"
   ]
  },
  {
   "cell_type": "code",
   "execution_count": 18,
   "metadata": {
    "ExecuteTime": {
     "end_time": "2021-06-10T02:51:42.426447Z",
     "start_time": "2021-06-10T02:51:42.383802Z"
    }
   },
   "outputs": [
    {
     "name": "stdout",
     "output_type": "stream",
     "text": [
      "Total processes: 12\n",
      "Sum of Br\n",
      "1.934e-02 +/- 7.438e-04 (3.85%)\n",
      "Sample norm\n",
      "8.207e-05 +/- 3.458e-06 (4.21%)\n"
     ]
    }
   ],
   "source": [
    "Bd_to_DstDdX_list = [ # [10^-3]\n",
    "    [2*3.2, 2*0.25],\n",
    "    [2*1.6, 0.],\n",
    "    [2*2.67, 2*0.23],\n",
    "    [2*1.33, 0.],\n",
    "    [2*0.26, 2*0.02],\n",
    "    [2*0.61, 2*0.15]\n",
    "]\n",
    "print 'Total processes:', len(Bd_to_DstDdX_list)+6\n",
    "print 'Sum of Br'\n",
    "Bd_to_DstDdX = sumWithUnc(Bd_to_DstDdX_list, scale=1e-3)\n",
    "\n",
    "print 'Sample norm'\n",
    "dout['BdToDstDdX'] = computeBr([Bd_to_DstDdX, Dd_to_MuX, Dst_to_piDu[0], Du_to_piK[0]])"
   ]
  },
  {
   "cell_type": "code",
   "execution_count": 19,
   "metadata": {
    "ExecuteTime": {
     "end_time": "2021-06-10T02:51:42.468043Z",
     "start_time": "2021-06-10T02:51:42.431063Z"
    }
   },
   "outputs": [
    {
     "name": "stdout",
     "output_type": "stream",
     "text": [
      "Total processes: 3\n",
      "Sum of Br\n",
      "2.720e-02 +/- 1.493e-03 (5.49%)\n",
      "Sample norm\n",
      "5.482e-05 +/- 3.360e-06 (6.13%)\n"
     ]
    }
   ],
   "source": [
    "Bd_to_DstDsX_list = [ # [10^-3]\n",
    "    [8.0, 1.1],\n",
    "    [17.7, 0.14],\n",
    "    [1.5, 1.0]\n",
    "]\n",
    "print 'Total processes:', len(Bd_to_DstDsX_list)\n",
    "print 'Sum of Br'\n",
    "Bd_to_DstDsX = sumWithUnc(Bd_to_DstDsX_list, scale=1e-3)\n",
    "\n",
    "print 'Sample norm'\n",
    "dout['BdToDstDsX'] = computeBr([Bd_to_DstDsX, Ds_to_MuX, Dst_to_piDu[0], Du_to_piK[0]])"
   ]
  },
  {
   "cell_type": "markdown",
   "metadata": {},
   "source": [
    "## $B^+ \\to D^*DX$"
   ]
  },
  {
   "cell_type": "code",
   "execution_count": 20,
   "metadata": {
    "ExecuteTime": {
     "end_time": "2021-06-10T02:51:42.509943Z",
     "start_time": "2021-06-10T02:51:42.472582Z"
    }
   },
   "outputs": [
    {
     "name": "stdout",
     "output_type": "stream",
     "text": [
      "Sample norm\n",
      "3.787e-05 +/- 3.599e-06 (9.50%)\n"
     ]
    }
   ],
   "source": [
    "Bu_to_DstDuX = [23.3e-3, 2e-3]\n",
    "\n",
    "print 'Sample norm'\n",
    "dout['BuToDstDuX'] = computeBr([Bu_to_DstDuX, Du_to_MuX, Dst_to_piDu[0], Du_to_piK[0]])"
   ]
  },
  {
   "cell_type": "code",
   "execution_count": 21,
   "metadata": {
    "ExecuteTime": {
     "end_time": "2021-06-10T02:51:42.553673Z",
     "start_time": "2021-06-10T02:51:42.514510Z"
    }
   },
   "outputs": [
    {
     "name": "stdout",
     "output_type": "stream",
     "text": [
      "Sample norm\n",
      "8.953e-06 +/- 8.626e-07 (9.63%)\n"
     ]
    }
   ],
   "source": [
    "Bu_to_DstDdX = [2.11e-3, 0.2e-3]\n",
    "\n",
    "print 'Sample norm'\n",
    "dout['BuToDstDdX'] = computeBr([Bu_to_DstDdX, Dd_to_MuX, Dst_to_piDu[0], Du_to_piK[0]])"
   ]
  },
  {
   "cell_type": "markdown",
   "metadata": {
    "ExecuteTime": {
     "end_time": "2021-06-10T02:50:13.987729Z",
     "start_time": "2021-06-10T02:50:13.983049Z"
    }
   },
   "source": [
    "## Others"
   ]
  },
  {
   "cell_type": "code",
   "execution_count": 22,
   "metadata": {
    "ExecuteTime": {
     "end_time": "2021-06-10T02:51:42.579775Z",
     "start_time": "2021-06-10T02:51:42.557260Z"
    }
   },
   "outputs": [
    {
     "name": "stdout",
     "output_type": "stream",
     "text": [
      "Sample norm\n",
      "6.228e-05 +/- 1.698e-06 (2.73%)\n"
     ]
    }
   ],
   "source": [
    "Bs_to_DstDsX = [30.9e-3, 0.]\n",
    "\n",
    "print 'Sample norm'\n",
    "dout['BsToDstDsX'] = computeBr([Bs_to_DstDsX, Ds_to_MuX, Dst_to_piDu[0], Du_to_piK[0]])"
   ]
  },
  {
   "cell_type": "markdown",
   "metadata": {
    "ExecuteTime": {
     "end_time": "2021-06-10T02:01:17.722523Z",
     "start_time": "2021-06-10T02:01:17.718593Z"
    },
    "heading_collapsed": true
   },
   "source": [
    "# Ancillary"
   ]
  },
  {
   "cell_type": "code",
   "execution_count": 23,
   "metadata": {
    "ExecuteTime": {
     "end_time": "2021-06-10T02:51:42.608946Z",
     "start_time": "2021-06-10T02:51:42.584174Z"
    },
    "hidden": true
   },
   "outputs": [
    {
     "name": "stdout",
     "output_type": "stream",
     "text": [
      "7.570e-05 +/- 3.010e-06 (3.98%)\n",
      "5.961e-05 +/- 2.999e-06 (5.03%)\n"
     ]
    }
   ],
   "source": [
    "# https://pdglive.lbl.gov/Particle.action?init=0&node=M018&home=MXXX020\n",
    "Kst_to_KPi = [1., 0.]\n",
    "\n",
    "# https://pdglive.lbl.gov/Particle.action?init=0&node=M070&home=MXXX025 (Gamma 7)\n",
    "JPsi_to_MuMu = [5.961e-2, 0.033e-2]\n",
    "\n",
    "# https://pdglive.lbl.gov/BranchingRatio.action?desig=22&parCode=S042&home=MXXX045\n",
    "Bd_to_JPsiKst = [1.27e-3, 0.05e-3]\n",
    "dout['JPsiKst'] = computeBr([Bd_to_JPsiKst, JPsi_to_MuMu, Kst_to_KPi])\n",
    "\n",
    "# https://pdglive.lbl.gov/BranchingRatio.action?desig=3&parCode=S041\n",
    "Bu_to_JPsiK = [1.00e-3, 0.05e-3]\n",
    "dout['JPsiK'] = computeBr([Bu_to_JPsiK, JPsi_to_MuMu, Kst_to_KPi])"
   ]
  },
  {
   "cell_type": "markdown",
   "metadata": {},
   "source": [
    "# Dump the output dictionary"
   ]
  },
  {
   "cell_type": "code",
   "execution_count": 24,
   "metadata": {
    "ExecuteTime": {
     "end_time": "2021-06-10T02:51:42.663599Z",
     "start_time": "2021-06-10T02:51:42.613370Z"
    }
   },
   "outputs": [],
   "source": [
    "fileName = '../data/forcedDecayChannelsFactors_v2.pickle'\n",
    "if test:\n",
    "    fileName = fileName.replace('v2', 'test')\n",
    "pickle.dump(dout, open(fileName, 'wb'))"
   ]
  }
 ],
 "metadata": {
  "kernelspec": {
   "display_name": "Python 2",
   "language": "python",
   "name": "python2"
  },
  "language_info": {
   "codemirror_mode": {
    "name": "ipython",
    "version": 2
   },
   "file_extension": ".py",
   "mimetype": "text/x-python",
   "name": "python",
   "nbconvert_exporter": "python",
   "pygments_lexer": "ipython2",
   "version": "2.7.14+"
  },
  "varInspector": {
   "cols": {
    "lenName": 16,
    "lenType": 16,
    "lenVar": 40
   },
   "kernels_config": {
    "python": {
     "delete_cmd_postfix": "",
     "delete_cmd_prefix": "del ",
     "library": "var_list.py",
     "varRefreshCmd": "print(var_dic_list())"
    },
    "r": {
     "delete_cmd_postfix": ") ",
     "delete_cmd_prefix": "rm(",
     "library": "var_list.r",
     "varRefreshCmd": "cat(var_dic_list()) "
    }
   },
   "types_to_exclude": [
    "module",
    "function",
    "builtin_function_or_method",
    "instance",
    "_Feature"
   ],
   "window_display": false
  }
 },
 "nbformat": 4,
 "nbformat_minor": 2
}
