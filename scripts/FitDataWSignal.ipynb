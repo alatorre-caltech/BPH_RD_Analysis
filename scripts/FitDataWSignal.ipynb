{
 "cells": [
  {
   "cell_type": "code",
   "execution_count": 1,
   "metadata": {
    "ExecuteTime": {
     "end_time": "2019-05-09T23:21:41.715565Z",
     "start_time": "2019-05-09T23:21:33.404825Z"
    }
   },
   "outputs": [
    {
     "name": "stdout",
     "output_type": "stream",
     "text": [
      "Welcome to JupyROOT 6.10/08\n"
     ]
    }
   ],
   "source": [
    "import numpy as np\n",
    "import uproot as ur\n",
    "import ROOT as rt\n",
    "import root_numpy as rtnp\n",
    "import ROOT.RooFit as rf\n",
    "from scipy.special import erf\n",
    "from histo_utilities import create_TH1D, create_TH2D, std_color_list\n",
    "from cebefo_style import Set_2D_colz_graphics\n",
    "\n",
    "import CMS_lumi, tdrstyle\n",
    "tdrstyle.setTDRStyle()\n",
    "CMS_lumi.writeExtraText = 1\n",
    "CMS_lumi.extraText = \"     Preliminary\"\n",
    "\n",
    "donotdelete = []"
   ]
  },
  {
   "cell_type": "code",
   "execution_count": 2,
   "metadata": {
    "ExecuteTime": {
     "end_time": "2019-05-09T23:21:41.736070Z",
     "start_time": "2019-05-09T23:21:41.719687Z"
    }
   },
   "outputs": [],
   "source": [
    "# %jsroot on"
   ]
  },
  {
   "cell_type": "code",
   "execution_count": 3,
   "metadata": {
    "ExecuteTime": {
     "end_time": "2019-05-09T23:21:41.760760Z",
     "start_time": "2019-05-09T23:21:41.740164Z"
    }
   },
   "outputs": [],
   "source": [
    "from analysis_utilities import drawOnCMSCanvas, extarct, extarct_multiple, createSel"
   ]
  },
  {
   "cell_type": "code",
   "execution_count": 4,
   "metadata": {
    "ExecuteTime": {
     "end_time": "2019-05-09T23:21:41.814817Z",
     "start_time": "2019-05-09T23:21:41.763583Z"
    }
   },
   "outputs": [],
   "source": [
    "rt.gErrorIgnoreLevel = rt.kError\n",
    "rt.RooMsgService.instance().setGlobalKillBelow(rt.RooFit.ERROR)"
   ]
  },
  {
   "cell_type": "markdown",
   "metadata": {},
   "source": [
    "# Data loading"
   ]
  },
  {
   "cell_type": "code",
   "execution_count": 5,
   "metadata": {
    "ExecuteTime": {
     "end_time": "2019-05-09T23:21:42.105699Z",
     "start_time": "2019-05-09T23:21:41.818871Z"
    },
    "scrolled": true
   },
   "outputs": [
    {
     "name": "stdout",
     "output_type": "stream",
     "text": [
      "['MC_B_P', 'MC_B_eta', 'MC_B_phi', 'MC_B_pt', 'MC_D0_P', 'MC_D0_eta', 'MC_D0_phi', 'MC_D0_pt', 'MC_Dst_P', 'MC_Dst_eta', 'MC_Dst_phi', 'MC_Dst_pt', 'MC_Est_mu', 'MC_M2_miss', 'MC_mu_P', 'MC_mu_eta', 'MC_mu_phi', 'MC_mu_pt', 'MC_pis_P', 'MC_pis_eta', 'MC_pis_phi', 'MC_pis_pt', 'MC_q2', 'n_B', 'n_D0', 'n_Dst', 'n_K', 'n_pi', 'n_pis', 'trgMu_charge', 'trgMu_eta', 'trgMu_phi', 'trgMu_pt', 'B_E', 'B_P', 'B_eta', 'B_phi', 'B_pt', 'D0_E', 'D0_P', 'D0_eta', 'D0_phi', 'D0_pt', 'Dst_E', 'Dst_P', 'Dst_eta', 'Dst_phi', 'Dst_pt', 'Est_mu', 'K_E', 'K_P', 'K_eta', 'K_phi', 'K_pt', 'M2_miss', 'chi2_D0pis', 'chi2_MuDst', 'chi2_kpi', 'cos_D0pis_vtxMu', 'cos_MuDst_vtxMu', 'cos_kpi_vtxMu', 'd_vtxD0pis_vtxMu', 'd_vtxkpi_vtxMu', 'dca_D0pis_vtxMu', 'dca_kpi_vtxMu', 'mass_D0pis', 'mass_MuDst', 'mass_kpi', 'pi_E', 'pi_P', 'pi_eta', 'pi_phi', 'pi_pt', 'pis_E', 'pis_P', 'pis_eta', 'pis_phi', 'pis_pt', 'q2', 'sigd_vtxD0pis_vtxMu', 'sigd_vtxkpi_vtxMu', 'sigdca_D0pis_vtxMu', 'sigdca_kpi_vtxMu'] \n",
      "\n",
      "\n",
      "B_E\n",
      "B_P\n",
      "B_eta\n",
      "B_phi\n",
      "B_pt\n",
      "D0_E\n",
      "D0_P\n",
      "D0_eta\n",
      "D0_phi\n",
      "D0_pt\n",
      "Dst_E\n",
      "Dst_P\n",
      "Dst_eta\n",
      "Dst_phi\n",
      "Dst_pt\n",
      "Est_mu\n",
      "K_E\n",
      "K_P\n",
      "K_eta\n",
      "K_phi\n",
      "K_pt\n",
      "M2_miss\n",
      "MC_B_P\n",
      "MC_B_eta\n",
      "MC_B_phi\n",
      "MC_B_pt\n",
      "MC_D0_P\n",
      "MC_D0_eta\n",
      "MC_D0_phi\n",
      "MC_D0_pt\n",
      "MC_Dst_P\n",
      "MC_Dst_eta\n",
      "MC_Dst_phi\n",
      "MC_Dst_pt\n",
      "MC_Est_mu\n",
      "MC_M2_miss\n",
      "MC_mu_P\n",
      "MC_mu_eta\n",
      "MC_mu_phi\n",
      "MC_mu_pt\n",
      "MC_pis_P\n",
      "MC_pis_eta\n",
      "MC_pis_phi\n",
      "MC_pis_pt\n",
      "MC_q2\n",
      "chi2_D0pis\n",
      "chi2_MuDst\n",
      "chi2_kpi\n",
      "cos_D0pis_vtxMu\n",
      "cos_MuDst_vtxMu\n",
      "cos_kpi_vtxMu\n",
      "d_vtxD0pis_vtxMu\n",
      "d_vtxkpi_vtxMu\n",
      "dca_D0pis_vtxMu\n",
      "dca_kpi_vtxMu\n",
      "mass_D0pis\n",
      "mass_MuDst\n",
      "mass_kpi\n",
      "n_B\n",
      "n_D0\n",
      "n_Dst\n",
      "n_K\n",
      "n_pi\n",
      "n_pis\n",
      "pi_E\n",
      "pi_P\n",
      "pi_eta\n",
      "pi_phi\n",
      "pi_pt\n",
      "pis_E\n",
      "pis_P\n",
      "pis_eta\n",
      "pis_phi\n",
      "pis_pt\n",
      "q2\n",
      "sigd_vtxD0pis_vtxMu\n",
      "sigd_vtxkpi_vtxMu\n",
      "sigdca_D0pis_vtxMu\n",
      "sigdca_kpi_vtxMu\n",
      "trgMu_charge\n",
      "trgMu_eta\n",
      "trgMu_phi\n",
      "trgMu_pt\n"
     ]
    }
   ],
   "source": [
    "tMC = ur.open('../data/cmsMC_private/BPH_Tag-B0_MuNuDmst-pD0bar-kp_13TeV-pythia8_SoftQCD_PTFilter5_0p0-evtgen_HQET2_central_PU35_10-2-3_v0/B02DstMu_candidates.root')['outA']['Tevts']\n",
    "print tMC.keys(), '\\n\\n'\n",
    "branches = tMC.keys()\n",
    "for b in np.sort(branches):\n",
    "    print b"
   ]
  },
  {
   "cell_type": "code",
   "execution_count": 6,
   "metadata": {
    "ExecuteTime": {
     "end_time": "2019-05-09T23:21:42.115451Z",
     "start_time": "2019-05-09T23:21:42.109495Z"
    }
   },
   "outputs": [],
   "source": [
    "file_loc = {}\n",
    "file_loc['data'] = '../data/cmsRD/Run2018D/B02DstMu_190501_BPH*.root'\n",
    "file_loc['mu'] = '../data/cmsMC_private/BPH_Tag-B0_MuNuDmst-pD0bar-kp_13TeV-pythia8_SoftQCD_PTFilter5_0p0-evtgen_HQET2_central_PU35_10-2-3_v0/B02DstMu_candidates/out*.root'\n",
    "file_loc['tau'] = '../data/cmsMC_private/BPH_Tag-B0_TauNuDmst-pD0bar-kp-t2mnn_pythia8_SoftQCD_PTFilter5_0p0-evtgen_HQET2_central_PU35_10-2-3_v0/B02DstMu_candidates/out*.root'"
   ]
  },
  {
   "cell_type": "code",
   "execution_count": 7,
   "metadata": {
    "ExecuteTime": {
     "end_time": "2019-05-09T23:22:51.513081Z",
     "start_time": "2019-05-09T23:21:42.118152Z"
    }
   },
   "outputs": [
    {
     "name": "stdout",
     "output_type": "stream",
     "text": [
      "mu : 12436 candidates\n",
      "tau : 6549 candidates\n",
      "data : 255209 candidates\n"
     ]
    }
   ],
   "source": [
    "dSet = {}\n",
    "for k, fn in file_loc.iteritems():\n",
    "    dSet[k] = extarct_multiple(fn, branches=branches, flag=k)\n",
    "    print k, ':', dSet[k]['Est_mu'].shape[0], 'candidates'"
   ]
  },
  {
   "cell_type": "markdown",
   "metadata": {},
   "source": [
    "# Analysis parameters"
   ]
  },
  {
   "cell_type": "markdown",
   "metadata": {},
   "source": [
    "Selection declaration"
   ]
  },
  {
   "cell_type": "code",
   "execution_count": 8,
   "metadata": {
    "ExecuteTime": {
     "end_time": "2019-05-09T23:22:51.532432Z",
     "start_time": "2019-05-09T23:22:51.517339Z"
    }
   },
   "outputs": [],
   "source": [
    "analysis_selection = {}\n",
    "analysis_selection['mass_MuDst'] = ['<', 5.280]\n",
    "analysis_selection['cos_MuDst_vtxMu'] = ['>', 0.98]\n",
    "# analysis_selection['M2_miss'] = ['>', -2]"
   ]
  },
  {
   "cell_type": "markdown",
   "metadata": {},
   "source": [
    "Binning declaration"
   ]
  },
  {
   "cell_type": "code",
   "execution_count": 9,
   "metadata": {
    "ExecuteTime": {
     "end_time": "2019-05-09T23:23:14.181772Z",
     "start_time": "2019-05-09T23:23:14.165153Z"
    }
   },
   "outputs": [],
   "source": [
    "binning = {}\n",
    "binning['q2'] = [4, -2, 10.7]\n",
    "binning['M2_miss'] = [40/2, -5, 10]\n",
    "binning['Est_mu'] = [30/2, 0.10, 2.500]"
   ]
  },
  {
   "cell_type": "markdown",
   "metadata": {},
   "source": [
    "# Create histograms"
   ]
  },
  {
   "cell_type": "code",
   "execution_count": 10,
   "metadata": {
    "ExecuteTime": {
     "end_time": "2019-05-09T23:23:18.577019Z",
     "start_time": "2019-05-09T23:23:18.481351Z"
    }
   },
   "outputs": [],
   "source": [
    "histo= {}\n",
    "for k in file_loc.keys():\n",
    "    histo[k] = rt.TH3F('h_'+k, k, \n",
    "                     binning['q2'][0], binning['q2'][1], binning['q2'][2],\n",
    "                     binning['M2_miss'][0], binning['M2_miss'][1], binning['M2_miss'][2],      \n",
    "                     binning['Est_mu'][0], binning['Est_mu'][1], binning['Est_mu'][2]\n",
    "                    )\n",
    "\n",
    "    d = dSet[k]\n",
    "    sel = createSel(d, analysis_selection)\n",
    "    rtnp.fill_hist(histo[k], np.column_stack((d['q2'][sel], d['M2_miss'][sel], d['Est_mu'][sel])))"
   ]
  },
  {
   "cell_type": "code",
   "execution_count": 14,
   "metadata": {
    "ExecuteTime": {
     "end_time": "2019-05-09T23:25:57.347889Z",
     "start_time": "2019-05-09T23:25:57.302588Z"
    }
   },
   "outputs": [],
   "source": [
    "if False:\n",
    "    tf = rt.TFile('../data/_root/histos_3D.root', 'recreate')\n",
    "    for k,v in histo.iteritems():\n",
    "        v.Write()\n",
    "    tf.Close()"
   ]
  },
  {
   "cell_type": "markdown",
   "metadata": {},
   "source": [
    "# Fit just $q^2$"
   ]
  },
  {
   "cell_type": "code",
   "execution_count": 15,
   "metadata": {
    "ExecuteTime": {
     "end_time": "2019-05-09T23:26:53.215033Z",
     "start_time": "2019-05-09T23:26:53.197397Z"
    }
   },
   "outputs": [],
   "source": [
    "h_q2 = {}\n",
    "bin_q2_only = [50, -5, 12]\n",
    "leg = rt.TLegend(0.5,0.6,0.9,0.9)\n",
    "for k in file_loc.keys():\n",
    "    d = dSet[k]\n",
    "    sel = createSel(d, analysis_selection)\n",
    "    \n",
    "    h_q2[k] = create_TH1D(d['q2'][sel], name='h_q2_'+k, binning=bin_q2_only)\n",
    "    h_q2[k].Sumw2()"
   ]
  },
  {
   "cell_type": "code",
   "execution_count": 19,
   "metadata": {
    "ExecuteTime": {
     "end_time": "2019-05-14T01:32:18.019942Z",
     "start_time": "2019-05-14T01:32:18.003016Z"
    }
   },
   "outputs": [],
   "source": [
    "if True:\n",
    "    tf = rt.TFile('../data/_root/histos_1Dq2.root', 'recreate')\n",
    "    for k,v in h_q2.iteritems():\n",
    "        if k == 'mu':\n",
    "            v.Scale(h_q2['data'].GetEntries()*0.99/v.GetEntries())\n",
    "        if k == 'tau':\n",
    "            v.Scale(h_q2['data'].GetEntries()*0.01/v.GetEntries())\n",
    "        v.Write()\n",
    "    tf.Close()"
   ]
  },
  {
   "cell_type": "code",
   "execution_count": 12,
   "metadata": {
    "ExecuteTime": {
     "end_time": "2019-05-09T23:23:24.449533Z",
     "start_time": "2019-05-09T23:23:24.161248Z"
    },
    "scrolled": false
   },
   "outputs": [
    {
     "data": {
      "text/plain": [
       "<ROOT.RooFitResult object at 0x0>"
      ]
     },
     "execution_count": 12,
     "metadata": {},
     "output_type": "execute_result"
    },
    {
     "name": "stdout",
     "output_type": "stream",
     "text": [
      " **********\n",
      " **    1 **SET PRINT           1\n",
      " **********\n",
      " **********\n",
      " **    2 **SET NOGRAD\n",
      " **********\n",
      " PARAMETER DEFINITIONS:\n",
      "    NO.   NAME         VALUE      STEP SIZE      LIMITS\n",
      "     1 n_mu         2.48597e+05  1.38109e+04    1.00000e+02  2.76219e+05\n",
      "     2 n_tau        2.51108e+04  1.25054e+04    1.00000e+02  2.76219e+05\n",
      " **********\n",
      " **    3 **SET ERR         0.5\n",
      " **********\n",
      " **********\n",
      " **    4 **SET PRINT           1\n",
      " **********\n",
      " **********\n",
      " **    5 **SET STR           1\n",
      " **********\n",
      " NOW USING STRATEGY  1: TRY TO BALANCE SPEED AGAINST RELIABILITY\n",
      " **********\n",
      " **    6 **MIGRAD        1000           1\n",
      " **********\n",
      " FIRST CALL TO USER FUNCTION AT NEW START POINT, WITH IFLAG=4.\n",
      " START MIGRAD MINIMIZATION.  STRATEGY  1.  CONVERGENCE WHEN EDM .LT. 1.00e-03\n",
      " FCN=-2.03098e+06 FROM MIGRAD    STATUS=INITIATE        8 CALLS           9 TOTAL\n",
      "                     EDM= unknown      STRATEGY= 1      NO ERROR MATRIX       \n",
      "  EXT PARAMETER               CURRENT GUESS       STEP         FIRST   \n",
      "  NO.   NAME      VALUE            ERROR          SIZE      DERIVATIVE \n",
      "   1  n_mu         2.48597e+05   1.38109e+04   1.72221e-01   1.34791e+04\n",
      "   2  n_tau        2.51108e+04   1.25054e+04   1.63054e-01   1.16912e+04\n",
      "                               ERR DEF= 0.5\n",
      " MIGRAD MINIMIZATION HAS CONVERGED.\n",
      " MIGRAD WILL VERIFY CONVERGENCE AND ERROR MATRIX.\n",
      " COVARIANCE MATRIX CALCULATED SUCCESSFULLY\n",
      " FCN=-2.03485e+06 FROM MIGRAD    STATUS=CONVERGED      65 CALLS          66 TOTAL\n",
      "                     EDM=2.69553e-05    STRATEGY= 1      ERROR MATRIX ACCURATE \n",
      "  EXT PARAMETER                                   STEP         FIRST   \n",
      "  NO.   NAME      VALUE            ERROR          SIZE      DERIVATIVE \n",
      "   1  n_mu         1.98101e+05   8.61107e+02   3.78368e-03  -6.62422e-01\n",
      "   2  n_tau        3.14399e+04   7.59313e+02   4.73522e-03  -9.62484e-01\n",
      "                               ERR DEF= 0.5\n",
      " EXTERNAL ERROR MATRIX.    NDIM=  25    NPAR=  2    ERR DEF=0.5\n",
      "  7.415e+05 -5.442e+05 \n",
      " -5.442e+05  5.766e+05 \n",
      " PARAMETER  CORRELATION COEFFICIENTS  \n",
      "       NO.  GLOBAL      1      2\n",
      "        1  0.83231   1.000 -0.832\n",
      "        2  0.83231  -0.832  1.000\n",
      " **********\n",
      " **    7 **SET ERR         0.5\n",
      " **********\n",
      " **********\n",
      " **    8 **SET PRINT           1\n",
      " **********\n",
      " **********\n",
      " **    9 **HESSE        1000\n",
      " **********\n",
      " COVARIANCE MATRIX CALCULATED SUCCESSFULLY\n",
      " FCN=-2.03485e+06 FROM HESSE     STATUS=OK             10 CALLS          76 TOTAL\n",
      "                     EDM=2.71527e-05    STRATEGY= 1      ERROR MATRIX ACCURATE \n",
      "  EXT PARAMETER                                INTERNAL      INTERNAL  \n",
      "  NO.   NAME      VALUE            ERROR       STEP SIZE       VALUE   \n",
      "   1  n_mu         1.98101e+05   8.65357e+02   1.51347e-04   4.49117e-01\n",
      "   2  n_tau        3.14399e+04   7.63056e+02   1.89409e-04  -8.83552e-01\n",
      "                               ERR DEF= 0.5\n",
      " EXTERNAL ERROR MATRIX.    NDIM=  25    NPAR=  2    ERR DEF=0.5\n",
      "  7.489e+05 -5.508e+05 \n",
      " -5.508e+05  5.823e+05 \n",
      " PARAMETER  CORRELATION COEFFICIENTS  \n",
      "       NO.  GLOBAL      1      2\n",
      "        1  0.83411   1.000 -0.834\n",
      "        2  0.83411  -0.834  1.000\n"
     ]
    }
   ],
   "source": [
    "q2 = rt.RooRealVar('q2', 'q^{2}', bin_q2_only[1], bin_q2_only[2], 'GeV^{2}')\n",
    "\n",
    "data = rt.RooDataHist('data', 'Data', rt.RooArgList(q2), h_q2['data'])\n",
    "\n",
    "dh_mu = rt.RooDataHist('dh_mu', 'mu', rt.RooArgList(q2), h_q2['mu'])\n",
    "pdf_mu = rt.RooHistPdf('pdf_mu', 'pdf_mu', rt.RooArgSet(q2), dh_mu)\n",
    "n_mu = rt.RooRealVar('n_mu', 'N_{#mu}', 0.99*h_q2['data'].GetEntries(), 100, 1.1*h_q2['data'].GetEntries())\n",
    "pdf_mu_ext = rt.RooExtendPdf('e_mu', 'e_mu', pdf_mu, n_mu)\n",
    "\n",
    "\n",
    "dh_tau = rt.RooDataHist('dh_tau', 'tau', rt.RooArgList(q2), h_q2['tau'])\n",
    "pdf_tau = rt.RooHistPdf('pdf_tau', 'pdf_tau', rt.RooArgSet(q2), dh_tau)\n",
    "n_tau = rt.RooRealVar('n_tau', 'N_{#tau}', 0.1*h_q2['data'].GetEntries(), 100, 1.1*h_q2['data'].GetEntries())\n",
    "pdf_tau_ext = rt.RooExtendPdf('e_tau', 'e_tau', pdf_tau, n_tau)\n",
    "\n",
    "pdf_tot = rt.RooAddPdf('pdftot', 'pdftot', rt.RooArgList(pdf_mu_ext, pdf_tau_ext))\n",
    "pdf_tot.fitTo(data)"
   ]
  },
  {
   "cell_type": "code",
   "execution_count": 13,
   "metadata": {
    "ExecuteTime": {
     "end_time": "2019-05-09T23:23:25.497631Z",
     "start_time": "2019-05-09T23:23:25.141428Z"
    }
   },
   "outputs": [
    {
     "data": {
      "image/png": "[encoded data removed]",
      "text/plain": [
       "<IPython.core.display.Image object>"
      ]
     },
     "metadata": {},
     "output_type": "display_data"
    }
   ],
   "source": [
    "frame = q2.frame(rf.Title(\"\"))\n",
    "data.plotOn(frame, rf.MarkerStyle(1))\n",
    "\n",
    "pdf_tot.plotOn(frame, rf.Components('e_mu, e_tau'), rf.LineColor(4), rf.LineWidth(2), rf.Name('Mu'))\n",
    "pdf_tot.plotOn(frame, rf.Components('e_tau'), rf.LineColor(2), rf.LineWidth(2), rf.Name('Tau'))\n",
    "        \n",
    "# i_pad = i_q2*N_cols + i_v + 1\n",
    "# pad = canvas.cd(i_pad)\n",
    "# pad.SetTopMargin(0.05)\n",
    "# pad.SetBottomMargin(0.13)\n",
    "# pad.SetRightMargin(0.03)\n",
    "# pad.SetLeftMargin(0.22)\n",
    "    \n",
    "CMS_lumi.extraText = \"     Preliminary\"\n",
    "c = drawOnCMSCanvas(CMS_lumi, frame)\n",
    "# c.SetLogy()"
   ]
  },
  {
   "cell_type": "markdown",
   "metadata": {},
   "source": [
    "# Create RooFit workspace"
   ]
  },
  {
   "cell_type": "code",
   "execution_count": 44,
   "metadata": {
    "ExecuteTime": {
     "end_time": "2019-05-07T22:43:23.311695Z",
     "start_time": "2019-05-07T22:43:23.293945Z"
    }
   },
   "outputs": [],
   "source": [
    "q2 = rt.RooRealVar('q2', 'q^{2}', binning['q2'][1], binning['q2'][2], 'GeV^{2}')\n",
    "M2_miss = rt.RooRealVar('M2_miss', 'M^{2}_{miss}', binning['M2_miss'][1], binning['M2_miss'][2], 'GeV^{2}')\n",
    "Est_mu = rt.RooRealVar('Est_mu', 'E_{#mu}*', binning['Est_mu'][1], binning['Est_mu'][2], 'GeV')"
   ]
  },
  {
   "cell_type": "code",
   "execution_count": 45,
   "metadata": {
    "ExecuteTime": {
     "end_time": "2019-05-07T22:43:23.542486Z",
     "start_time": "2019-05-07T22:43:23.536159Z"
    }
   },
   "outputs": [],
   "source": [
    "data = rt.RooDataHist('data', 'Data', rt.RooArgList(q2, M2_miss, Est_mu), histo['data'])"
   ]
  },
  {
   "cell_type": "code",
   "execution_count": 46,
   "metadata": {
    "ExecuteTime": {
     "end_time": "2019-05-07T22:43:23.760333Z",
     "start_time": "2019-05-07T22:43:23.741878Z"
    }
   },
   "outputs": [],
   "source": [
    "dh_mu = rt.RooDataHist('dh_mu', 'mu', rt.RooArgList(q2, M2_miss, Est_mu), histo['mu'])\n",
    "pdf_mu = rt.RooHistPdf('pdf_mu', 'pdf_mu', rt.RooArgSet(q2, M2_miss, Est_mu), dh_mu)\n",
    "\n",
    "n_mu = rt.RooRealVar('n_mu', 'N_{#mu}', 0.99*histo['data'].GetEntries(), 0, 1.05*histo['data'].GetEntries())\n",
    "pdf_mu_ext = rt.RooExtendPdf('e_mu', 'e_mu', pdf_mu, n_mu)"
   ]
  },
  {
   "cell_type": "code",
   "execution_count": 47,
   "metadata": {
    "ExecuteTime": {
     "end_time": "2019-05-07T22:43:23.953118Z",
     "start_time": "2019-05-07T22:43:23.937136Z"
    }
   },
   "outputs": [],
   "source": [
    "dh_tau = rt.RooDataHist('dh_tau', 'tau', rt.RooArgList(q2, M2_miss, Est_mu), histo['tau'])\n",
    "pdf_tau = rt.RooHistPdf('pdf_tau', 'pdf_tau', rt.RooArgSet(q2, M2_miss, Est_mu), dh_tau)\n",
    "\n",
    "n_tau = rt.RooRealVar('n_tau', 'N_{#tau}', 0.1*histo['data'].GetEntries(), 0, histo['data'].GetEntries())\n",
    "pdf_tau_ext = rt.RooExtendPdf('e_tau', 'e_tau', pdf_tau, n_tau)"
   ]
  },
  {
   "cell_type": "code",
   "execution_count": 48,
   "metadata": {
    "ExecuteTime": {
     "end_time": "2019-05-07T22:43:24.173585Z",
     "start_time": "2019-05-07T22:43:24.136797Z"
    },
    "scrolled": true
   },
   "outputs": [
    {
     "data": {
      "text/plain": [
       "<ROOT.RooFitResult object at 0x0>"
      ]
     },
     "execution_count": 48,
     "metadata": {},
     "output_type": "execute_result"
    },
    {
     "name": "stdout",
     "output_type": "stream",
     "text": [
      " **********\n",
      " **   21 **SET PRINT           1\n",
      " **********\n",
      " **********\n",
      " **   22 **SET NOGRAD\n",
      " **********\n",
      " PARAMETER DEFINITIONS:\n",
      "    NO.   NAME         VALUE      STEP SIZE      LIMITS\n",
      "     1 n_mu         2.48597e+05  7.53324e+03    0.00000e+00  2.63663e+05\n",
      "     2 n_tau        2.51108e+04  1.25554e+04    0.00000e+00  2.51108e+05\n",
      " **********\n",
      " **   23 **SET ERR         0.5\n",
      " **********\n",
      " **********\n",
      " **   24 **SET PRINT           1\n",
      " **********\n",
      " **********\n",
      " **   25 **SET STR           1\n",
      " **********\n",
      " NOW USING STRATEGY  1: TRY TO BALANCE SPEED AGAINST RELIABILITY\n",
      " **********\n",
      " **   26 **MIGRAD        1000           1\n",
      " **********\n",
      " FIRST CALL TO USER FUNCTION AT NEW START POINT, WITH IFLAG=4.\n",
      " START MIGRAD MINIMIZATION.  STRATEGY  1.  CONVERGENCE WHEN EDM .LT. 1.00e-03\n",
      " FCN=-1e+30 FROM MIGRAD    STATUS=INITIATE       49 CALLS          50 TOTAL\n",
      "                     EDM= unknown      STRATEGY= 1      NO ERROR MATRIX       \n",
      "  EXT PARAMETER               CURRENT GUESS       STEP         FIRST   \n",
      "  NO.   NAME      VALUE            ERROR          SIZE      DERIVATIVE \n",
      "   1  n_mu         2.48597e+05   7.53324e+03   0.00000e+00   0.00000e+00\n",
      "   2  n_tau        2.51108e+04   1.25554e+04   0.00000e+00   0.00000e+00\n",
      "                               ERR DEF= 0.5\n",
      " MIGRAD MINIMIZATION HAS CONVERGED.\n",
      " MIGRAD WILL VERIFY CONVERGENCE AND ERROR MATRIX.\n",
      " MINUIT WARNING IN HESSE\n",
      " ============== Second derivative zero for parameter1\n",
      "  MNHESS FAILS AND WILL RETURN DIAGONAL MATRIX. \n",
      " FCN=-1e+30 FROM HESSE     STATUS=FAILED          3 CALLS          53 TOTAL\n",
      "                     EDM=0    STRATEGY= 1  ERROR MATRIX UNCERTAINTY 100.0 per cent\n",
      "  EXT PARAMETER                APPROXIMATE        STEP         FIRST   \n",
      "  NO.   NAME      VALUE            ERROR          SIZE      DERIVATIVE \n",
      "   1  n_mu         2.48597e+05   5.36767e+04   0.00000e+00   0.00000e+00\n",
      "   2  n_tau        2.51108e+04   6.33900e+04   0.00000e+00   0.00000e+00\n",
      "                               ERR DEF= 0.5\n",
      " MIGRAD MINIMIZATION HAS CONVERGED.\n",
      " MIGRAD WILL VERIFY CONVERGENCE AND ERROR MATRIX.\n",
      " MINUIT WARNING IN HESSE\n",
      " ============== Second derivative zero for parameter1\n",
      "  MNHESS FAILS AND WILL RETURN DIAGONAL MATRIX. \n",
      " FCN=-1e+30 FROM MIGRAD    STATUS=CONVERGED      55 CALLS          56 TOTAL\n",
      "                     EDM=0    STRATEGY= 1  ERROR MATRIX UNCERTAINTY 100.0 per cent\n",
      "  EXT PARAMETER                APPROXIMATE        STEP         FIRST   \n",
      "  NO.   NAME      VALUE            ERROR          SIZE      DERIVATIVE \n",
      "   1  n_mu         2.48597e+05   5.36767e+04   0.00000e+00   0.00000e+00\n",
      "   2  n_tau        2.51108e+04   6.33900e+04   0.00000e+00   0.00000e+00\n",
      "                               ERR DEF= 0.5\n",
      " EXTERNAL ERROR MATRIX.    NDIM=  25    NPAR=  2    ERR DEF=0.5\n",
      "  3.745e+09  0.000e+00 \n",
      "  0.000e+00  5.675e+09 \n",
      "ERR MATRIX APPROXIMATE\n",
      " PARAMETER  CORRELATION COEFFICIENTS  \n",
      "       NO.  GLOBAL      1      2\n",
      "        1  0.00000   1.000  0.000\n",
      "        2  0.00000   0.000  1.000\n",
      " ERR MATRIX APPROXIMATE\n",
      " **********\n",
      " **   27 **HESSE        1000\n",
      " **********\n",
      " MINUIT WARNING IN HESSE\n",
      " ============== Second derivative zero for parameter1\n",
      "  MNHESS FAILS AND WILL RETURN DIAGONAL MATRIX. \n",
      " FCN=-1e+30 FROM HESSE     STATUS=FAILED          3 CALLS          59 TOTAL\n",
      "                     EDM=0    STRATEGY= 1  ERROR MATRIX UNCERTAINTY 100.0 per cent\n",
      "  EXT PARAMETER                APPROXIMATE     INTERNAL      INTERNAL  \n",
      "  NO.   NAME      VALUE            ERROR       STEP SIZE       VALUE   \n",
      "   1  n_mu         2.04962e+05   5.14983e+04   0.00000e+00   1.08803e+00\n",
      "   2  n_tau        2.51108e+04   6.33900e+04   0.00000e+00  -9.27295e-01\n",
      "                               ERR DEF= 0.5\n",
      " EXTERNAL ERROR MATRIX.    NDIM=  25    NPAR=  2    ERR DEF=0.5\n",
      "  3.745e+09  0.000e+00 \n",
      "  0.000e+00  5.675e+09 \n",
      "ERR MATRIX APPROXIMATE\n",
      " PARAMETER  CORRELATION COEFFICIENTS  \n",
      "       NO.  GLOBAL      1      2\n",
      "        1  0.00000   1.000  0.000\n",
      "        2  0.00000   0.000  1.000\n",
      " ERR MATRIX APPROXIMATE\n",
      " **********\n",
      " **   28 **SET ERR         0.5\n",
      " **********\n",
      " **********\n",
      " **   29 **SET PRINT           1\n",
      " **********\n",
      " **********\n",
      " **   30 **HESSE        1000\n",
      " **********\n",
      " MINUIT WARNING IN HESSE\n",
      " ============== Second derivative zero for parameter1\n",
      "  MNHESS FAILS AND WILL RETURN DIAGONAL MATRIX. \n",
      " FCN=-1e+30 FROM HESSE     STATUS=FAILED          3 CALLS          62 TOTAL\n",
      "                     EDM=0    STRATEGY= 1  ERROR MATRIX UNCERTAINTY 100.0 per cent\n",
      "  EXT PARAMETER                APPROXIMATE     INTERNAL      INTERNAL  \n",
      "  NO.   NAME      VALUE            ERROR       STEP SIZE       VALUE   \n",
      "   1  n_mu         2.04962e+05   5.14983e+04   0.00000e+00   1.08803e+00\n",
      "   2  n_tau        2.51108e+04   6.33900e+04   0.00000e+00  -9.27295e-01\n",
      "                               ERR DEF= 0.5\n",
      " EXTERNAL ERROR MATRIX.    NDIM=  25    NPAR=  2    ERR DEF=0.5\n",
      "  3.745e+09  0.000e+00 \n",
      "  0.000e+00  5.675e+09 \n",
      "ERR MATRIX APPROXIMATE\n",
      " PARAMETER  CORRELATION COEFFICIENTS  \n",
      "       NO.  GLOBAL      1      2\n",
      "        1  0.00000   1.000  0.000\n",
      "        2  0.00000   0.000  1.000\n",
      " ERR MATRIX APPROXIMATE\n"
     ]
    }
   ],
   "source": [
    "pdf_tot = rt.RooAddPdf('pdftot', 'pdftot', rt.RooArgList(pdf_mu_ext, pdf_tau_ext))\n",
    "pdf_tot.fitTo(data)"
   ]
  },
  {
   "cell_type": "code",
   "execution_count": 49,
   "metadata": {
    "ExecuteTime": {
     "end_time": "2019-05-07T22:43:24.691388Z",
     "start_time": "2019-05-07T22:43:24.673565Z"
    }
   },
   "outputs": [
    {
     "name": "stdout",
     "output_type": "stream",
     "text": [
      "N data = 251108.0\n",
      "N mu = 204962 +/- 51498\n",
      "N tau = 25111 +/- 63390\n"
     ]
    }
   ],
   "source": [
    "print 'N data =', histo['data'].GetEntries()\n",
    "print 'N mu = {:.0f} +/- {:.0f}'.format(n_mu.getVal(), n_mu.getError())\n",
    "print 'N tau = {:.0f} +/- {:.0f}'.format(n_tau.getVal(), n_tau.getError())"
   ]
  },
  {
   "cell_type": "markdown",
   "metadata": {},
   "source": [
    "# Plot the results"
   ]
  },
  {
   "cell_type": "code",
   "execution_count": null,
   "metadata": {
    "ExecuteTime": {
     "end_time": "2019-05-03T01:39:18.977762Z",
     "start_time": "2019-05-03T01:39:18.934988Z"
    }
   },
   "outputs": [],
   "source": [
    "N_cols = len(binning.keys())-1\n",
    "N_rows = binning['q2'][0]\n",
    "canvas = rt.TCanvas('c_out', 'c_out', 50, 50, N_cols*400, 400*N_rows)\n",
    "canvas.SetTickx(0)\n",
    "canvas.SetTicky(0)\n",
    "canvas.Divide(N_cols, N_rows)\n",
    "\n",
    "CMS_lumi.extraText = \"        Preliminary\""
   ]
  },
  {
   "cell_type": "code",
   "execution_count": null,
   "metadata": {
    "ExecuteTime": {
     "end_time": "2019-05-03T01:39:19.647255Z",
     "start_time": "2019-05-03T01:39:18.981852Z"
    },
    "scrolled": false
   },
   "outputs": [],
   "source": [
    "q2_edges = np.linspace(binning['q2'][1], binning['q2'][2], 1+binning['q2'][0], True)\n",
    "\n",
    "for i_q2 in range(binning['q2'][0]):\n",
    "    q2_l = q2_edges[i_q2]\n",
    "    q2_h = q2_edges[i_q2+1]\n",
    "\n",
    "    q2_txt = '{:.2f} <  q^{{2}}  < {:.2f} GeV^{{2}}'.format(q2_l, q2_h)\n",
    "    q2_cut = 'q2 > {:.2f} &&  q2 < {:.2f}'.format(q2_l, q2_h)\n",
    "\n",
    "    for i_v, var in enumerate([M2_miss, Est_mu]):\n",
    "        frame = var.frame(rf.Title(\"\"))\n",
    "        aux_data = data.reduce(q2_cut)\n",
    "        aux_data.plotOn(frame, rf.MarkerStyle(1), rf.Name('Data'))\n",
    "#         data.plotOn(frame, rf.Cut(q2_cut), rf.MarkerStyle(1))s\n",
    "        \n",
    "#         pdf_tot.plotOn(frame, rf.LineColor(15), rf.LineWidth(2), rf.LineStyle(9))\n",
    "        pdf_tot.plotOn(frame, rf.Components('e_mu, e_tau'), rf.Cut(q2_cut), rf.LineColor(4), rf.LineWidth(2), rf.Name('Mu'))\n",
    "        pdf_tot.plotOn(frame, rf.Components('e_tau'), rf.Cut(q2_cut), rf.LineColor(2), rf.LineWidth(2), rf.Name('Tau'))\n",
    "        \n",
    "        i_pad = i_q2*N_cols + i_v + 1\n",
    "        pad = canvas.cd(i_pad)\n",
    "        pad.SetTopMargin(0.05)\n",
    "        pad.SetBottomMargin(0.13)\n",
    "        pad.SetRightMargin(0.03)\n",
    "        pad.SetLeftMargin(0.22)\n",
    "        \n",
    "        frame.Draw()\n",
    "        CMS_lumi.CMS_lumi(pad, -1, 0, 0.75*1.3, 0.6*1.3)\n",
    "        \n",
    "        frame.SetMaximum(1.2*frame.GetMaximum())\n",
    "        frame.GetYaxis().SetTitleOffset(1.7)\n",
    "        \n",
    "        l = rt.TLatex()\n",
    "        l.SetTextAlign(11)\n",
    "        l.SetTextSize(0.055)\n",
    "        l.SetTextFont(42)\n",
    "        l.DrawLatexNDC(0.26, 0.87, q2_txt)\n",
    "\n",
    "        if i_pad == 1:\n",
    "            leg = rt.TLegend(0.6, 0.6, 0.93, 0.82)\n",
    "            leg.SetTextFont(42)\n",
    "            leg.SetTextAlign(12)\n",
    "            leg.SetLineWidth(1)\n",
    "            leg.SetBorderSize(1)\n",
    "            leg.AddEntry('Data', 'Data', 'lep')\n",
    "            leg.AddEntry('Mu', 'B#rightarrowD*#mu#nu', 'l')\n",
    "            leg.AddEntry('Tau', 'B#rightarrowD*#tau#nu', 'l')\n",
    "            leg.Draw()\n",
    "\n",
    "canvas.Draw()"
   ]
  },
  {
   "cell_type": "code",
   "execution_count": null,
   "metadata": {
    "ExecuteTime": {
     "end_time": "2019-05-03T01:39:19.735193Z",
     "start_time": "2019-05-03T01:39:19.651686Z"
    }
   },
   "outputs": [],
   "source": [
    "canvas.SaveAs('/Users/olmo/Desktop/RDst_fit.png')"
   ]
  }
 ],
 "metadata": {
  "kernelspec": {
   "display_name": "Python 2",
   "language": "python",
   "name": "python2"
  },
  "language_info": {
   "codemirror_mode": {
    "name": "ipython",
    "version": 2
   },
   "file_extension": ".py",
   "mimetype": "text/x-python",
   "name": "python",
   "nbconvert_exporter": "python",
   "pygments_lexer": "ipython2",
   "version": "2.7.14"
  }
 },
 "nbformat": 4,
 "nbformat_minor": 2
}
