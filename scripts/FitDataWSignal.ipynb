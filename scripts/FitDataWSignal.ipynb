{
 "cells": [
  {
   "cell_type": "code",
   "execution_count": 1,
   "metadata": {
    "ExecuteTime": {
     "end_time": "2019-05-03T01:00:08.256125Z",
     "start_time": "2019-05-03T01:00:05.474285Z"
    }
   },
   "outputs": [
    {
     "name": "stdout",
     "output_type": "stream",
     "text": [
      "Welcome to JupyROOT 6.10/08\n"
     ]
    }
   ],
   "source": [
    "import numpy as np\n",
    "import uproot as ur\n",
    "import ROOT as rt\n",
    "import root_numpy as rtnp\n",
    "import ROOT.RooFit as rf\n",
    "from scipy.special import erf\n",
    "from histo_utilities import create_TH1D, create_TH2D, std_color_list\n",
    "from cebefo_style import Set_2D_colz_graphics\n",
    "\n",
    "import CMS_lumi, tdrstyle\n",
    "tdrstyle.setTDRStyle()\n",
    "CMS_lumi.writeExtraText = 1\n",
    "CMS_lumi.extraText = \"     Preliminary\"\n",
    "\n",
    "donotdelete = []"
   ]
  },
  {
   "cell_type": "code",
   "execution_count": 2,
   "metadata": {
    "ExecuteTime": {
     "end_time": "2019-05-03T01:00:08.276036Z",
     "start_time": "2019-05-03T01:00:08.260286Z"
    }
   },
   "outputs": [],
   "source": [
    "from analysis_utilities import drawOnCMSCanvas, extarct, extarct_multiple, createSel"
   ]
  },
  {
   "cell_type": "code",
   "execution_count": 3,
   "metadata": {
    "ExecuteTime": {
     "end_time": "2019-05-03T01:00:08.307726Z",
     "start_time": "2019-05-03T01:00:08.279682Z"
    }
   },
   "outputs": [],
   "source": [
    "rt.gErrorIgnoreLevel = rt.kError\n",
    "rt.RooMsgService.instance().setGlobalKillBelow(rt.RooFit.ERROR)"
   ]
  },
  {
   "cell_type": "markdown",
   "metadata": {},
   "source": [
    "# Data loading"
   ]
  },
  {
   "cell_type": "code",
   "execution_count": 4,
   "metadata": {
    "ExecuteTime": {
     "end_time": "2019-05-03T01:00:08.403589Z",
     "start_time": "2019-05-03T01:00:08.311987Z"
    },
    "scrolled": true
   },
   "outputs": [
    {
     "name": "stdout",
     "output_type": "stream",
     "text": [
      "['n_B', 'n_D0', 'n_Dst', 'n_K', 'n_pi', 'n_pis', 'trgMu_charge', 'trgMu_eta', 'trgMu_phi', 'trgMu_pt', 'B_E', 'B_P', 'B_eta', 'B_phi', 'B_pt', 'D0_E', 'D0_P', 'D0_eta', 'D0_phi', 'D0_pt', 'Dst_E', 'Dst_P', 'Dst_eta', 'Dst_phi', 'Dst_pt', 'Est_mu', 'K_E', 'K_P', 'K_eta', 'K_phi', 'K_pt', 'M2_miss', 'chi2_D0pis', 'chi2_MuDst', 'chi2_kpi', 'cos_D0pis_vtxMu', 'cos_MuDst_vtxMu', 'cos_kpi_vtxMu', 'd_vtxD0pis_vtxMu', 'd_vtxkpi_vtxMu', 'dca_D0pis_vtxMu', 'dca_kpi_vtxMu', 'mass_D0pis', 'mass_MuDst', 'mass_kpi', 'pi_E', 'pi_P', 'pi_eta', 'pi_phi', 'pi_pt', 'pis_E', 'pis_P', 'pis_eta', 'pis_phi', 'pis_pt', 'q2', 'sigd_vtxD0pis_vtxMu', 'sigd_vtxkpi_vtxMu', 'sigdca_D0pis_vtxMu', 'sigdca_kpi_vtxMu'] \n",
      "\n",
      "\n",
      "B_E\n",
      "B_P\n",
      "B_eta\n",
      "B_phi\n",
      "B_pt\n",
      "D0_E\n",
      "D0_P\n",
      "D0_eta\n",
      "D0_phi\n",
      "D0_pt\n",
      "Dst_E\n",
      "Dst_P\n",
      "Dst_eta\n",
      "Dst_phi\n",
      "Dst_pt\n",
      "Est_mu\n",
      "K_E\n",
      "K_P\n",
      "K_eta\n",
      "K_phi\n",
      "K_pt\n",
      "M2_miss\n",
      "chi2_D0pis\n",
      "chi2_MuDst\n",
      "chi2_kpi\n",
      "cos_D0pis_vtxMu\n",
      "cos_MuDst_vtxMu\n",
      "cos_kpi_vtxMu\n",
      "d_vtxD0pis_vtxMu\n",
      "d_vtxkpi_vtxMu\n",
      "dca_D0pis_vtxMu\n",
      "dca_kpi_vtxMu\n",
      "mass_D0pis\n",
      "mass_MuDst\n",
      "mass_kpi\n",
      "pi_E\n",
      "pi_P\n",
      "pi_eta\n",
      "pi_phi\n",
      "pi_pt\n",
      "pis_E\n",
      "pis_P\n",
      "pis_eta\n",
      "pis_phi\n",
      "pis_pt\n",
      "q2\n",
      "sigd_vtxD0pis_vtxMu\n",
      "sigd_vtxkpi_vtxMu\n",
      "sigdca_D0pis_vtxMu\n",
      "sigdca_kpi_vtxMu\n"
     ]
    }
   ],
   "source": [
    "tMC = ur.open('../data/cmsMC_private/BPH_Tag-B0_MuNuDmst-pD0bar-kp_13TeV-pythia8_SoftQCD_PTFilter5_0p0-evtgen_HQET2_central_PU35_10-2-3_v0/B02DstMu_candidates.root')['outA']['Tevts']\n",
    "print tMC.keys(), '\\n\\n'\n",
    "branches = tMC.keys()[10:]\n",
    "for b in np.sort(branches):\n",
    "    print b"
   ]
  },
  {
   "cell_type": "code",
   "execution_count": 5,
   "metadata": {
    "ExecuteTime": {
     "end_time": "2019-05-03T01:00:08.424501Z",
     "start_time": "2019-05-03T01:00:08.407469Z"
    }
   },
   "outputs": [],
   "source": [
    "file_loc = {}\n",
    "file_loc['data'] = '../data/cmsRD/Run2018D/B02DstMu_190501_BPH*.root'\n",
    "file_loc['mu'] = '../data/cmsMC_private/BPH_Tag-B0_MuNuDmst-pD0bar-kp_13TeV-pythia8_SoftQCD_PTFilter5_0p0-evtgen_HQET2_central_PU35_10-2-3_v0/B02DstMu_candidates/out*.root'\n",
    "file_loc['tau'] = '../data/cmsMC_private/BPH_Tag-B0_TauNuDmst-pD0bar-kp-t2mnn_pythia8_SoftQCD_PTFilter5_0p0-evtgen_HQET2_central_PU35_10-2-3_v0/B02DstMu_candidates/out*.root'"
   ]
  },
  {
   "cell_type": "code",
   "execution_count": 6,
   "metadata": {
    "ExecuteTime": {
     "end_time": "2019-05-03T01:01:08.308506Z",
     "start_time": "2019-05-03T01:00:08.428694Z"
    }
   },
   "outputs": [
    {
     "name": "stdout",
     "output_type": "stream",
     "text": [
      "mu : 5401 candidates\n",
      "tau : 4245 candidates\n",
      "data : 255209 candidates\n"
     ]
    }
   ],
   "source": [
    "dSet = {}\n",
    "for k, fn in file_loc.iteritems():\n",
    "    dSet[k] = extarct_multiple(fn, branches=branches)\n",
    "    print k, ':', dSet[k][branches[0]].shape[0], 'candidates'"
   ]
  },
  {
   "cell_type": "markdown",
   "metadata": {},
   "source": [
    "# Analysis parameters"
   ]
  },
  {
   "cell_type": "markdown",
   "metadata": {},
   "source": [
    "Selection declaration"
   ]
  },
  {
   "cell_type": "code",
   "execution_count": 7,
   "metadata": {
    "ExecuteTime": {
     "end_time": "2019-05-03T01:01:08.328969Z",
     "start_time": "2019-05-03T01:01:08.312744Z"
    }
   },
   "outputs": [],
   "source": [
    "analysis_selection = {}\n",
    "analysis_selection['mass_MuDst'] = ['<', 5.280]\n",
    "analysis_selection['cos_MuDst_vtxMu'] = ['>', 0.98]\n",
    "# analysis_selection['M2_miss'] = ['>', -2]"
   ]
  },
  {
   "cell_type": "markdown",
   "metadata": {},
   "source": [
    "Binning declaration"
   ]
  },
  {
   "cell_type": "code",
   "execution_count": 8,
   "metadata": {
    "ExecuteTime": {
     "end_time": "2019-05-03T01:01:08.348972Z",
     "start_time": "2019-05-03T01:01:08.332995Z"
    }
   },
   "outputs": [],
   "source": [
    "binning = {}\n",
    "binning['q2'] = [4, -0.4, 12.6]\n",
    "binning['M2_miss'] = [40/2, -5, 10]\n",
    "binning['Est_mu'] = [30/2, 0.10, 2.500]"
   ]
  },
  {
   "cell_type": "markdown",
   "metadata": {},
   "source": [
    "# Create histograms"
   ]
  },
  {
   "cell_type": "code",
   "execution_count": 9,
   "metadata": {
    "ExecuteTime": {
     "end_time": "2019-05-03T01:01:08.404531Z",
     "start_time": "2019-05-03T01:01:08.352951Z"
    }
   },
   "outputs": [],
   "source": [
    "histo= {}\n",
    "for k in file_loc.keys():\n",
    "    histo[k] = rt.TH3F('h_'+k, k, \n",
    "                     binning['q2'][0], binning['q2'][1], binning['q2'][2],\n",
    "                     binning['M2_miss'][0], binning['M2_miss'][1], binning['M2_miss'][2],      \n",
    "                     binning['Est_mu'][0], binning['Est_mu'][1], binning['Est_mu'][2],\n",
    "                    )\n",
    "\n",
    "    d = dSet[k]\n",
    "    sel = createSel(d, analysis_selection)\n",
    "    rtnp.fill_hist(histo[k], np.column_stack((d['q2'][sel], d['M2_miss'][sel], d['Est_mu'][sel])))"
   ]
  },
  {
   "cell_type": "markdown",
   "metadata": {},
   "source": [
    "# Create RooFit workspace"
   ]
  },
  {
   "cell_type": "code",
   "execution_count": 10,
   "metadata": {
    "ExecuteTime": {
     "end_time": "2019-05-03T01:01:08.448972Z",
     "start_time": "2019-05-03T01:01:08.408699Z"
    }
   },
   "outputs": [],
   "source": [
    "q2 = rt.RooRealVar('q2', 'q^{2}', binning['q2'][1], binning['q2'][2], 'GeV^{2}')\n",
    "M2_miss = rt.RooRealVar('M2_miss', 'M^{2}_{miss}', binning['M2_miss'][1], binning['M2_miss'][2], 'GeV^{2}')\n",
    "Est_mu = rt.RooRealVar('Est_mu', 'E_{#mu}*', binning['Est_mu'][1], binning['Est_mu'][2], 'GeV')"
   ]
  },
  {
   "cell_type": "code",
   "execution_count": 11,
   "metadata": {
    "ExecuteTime": {
     "end_time": "2019-05-03T01:01:08.490833Z",
     "start_time": "2019-05-03T01:01:08.453102Z"
    }
   },
   "outputs": [],
   "source": [
    "data = rt.RooDataHist('data', 'Data', rt.RooArgList(q2, M2_miss, Est_mu), histo['data'])"
   ]
  },
  {
   "cell_type": "code",
   "execution_count": 12,
   "metadata": {
    "ExecuteTime": {
     "end_time": "2019-05-03T01:01:08.543279Z",
     "start_time": "2019-05-03T01:01:08.493917Z"
    }
   },
   "outputs": [],
   "source": [
    "dh_mu = rt.RooDataHist('dh_mu', 'mu', rt.RooArgList(q2, M2_miss, Est_mu), histo['mu'])\n",
    "pdf_mu = rt.RooHistPdf('pdf_mu', 'pdf_mu', rt.RooArgSet(q2, M2_miss, Est_mu), dh_mu)\n",
    "\n",
    "n_mu = rt.RooRealVar('n_mu', 'N_{#mu}', 0.7*histo['data'].GetEntries(), 0, 1.05*histo['data'].GetEntries())\n",
    "pdf_mu_ext = rt.RooExtendPdf('e_mu', 'e_mu', pdf_mu, n_mu)"
   ]
  },
  {
   "cell_type": "code",
   "execution_count": 13,
   "metadata": {
    "ExecuteTime": {
     "end_time": "2019-05-03T01:01:08.564292Z",
     "start_time": "2019-05-03T01:01:08.547375Z"
    }
   },
   "outputs": [],
   "source": [
    "dh_tau = rt.RooDataHist('dh_tau', 'tau', rt.RooArgList(q2, M2_miss, Est_mu), histo['tau'])\n",
    "pdf_tau = rt.RooHistPdf('pdf_tau', 'pdf_tau', rt.RooArgSet(q2, M2_miss, Est_mu), dh_tau)\n",
    "\n",
    "n_tau = rt.RooRealVar('n_tau', 'N_{#tau}', 0.01*histo['data'].GetEntries(), 0, histo['data'].GetEntries())\n",
    "pdf_tau_ext = rt.RooExtendPdf('e_tau', 'e_tau', pdf_tau, n_tau)"
   ]
  },
  {
   "cell_type": "code",
   "execution_count": 14,
   "metadata": {
    "ExecuteTime": {
     "end_time": "2019-05-03T01:01:08.692395Z",
     "start_time": "2019-05-03T01:01:08.568420Z"
    },
    "scrolled": true
   },
   "outputs": [
    {
     "data": {
      "text/plain": [
       "<ROOT.RooFitResult object at 0x0>"
      ]
     },
     "execution_count": 14,
     "metadata": {},
     "output_type": "execute_result"
    },
    {
     "name": "stdout",
     "output_type": "stream",
     "text": [
      " **********\n",
      " **    1 **SET PRINT           1\n",
      " **********\n",
      " **********\n",
      " **    2 **SET NOGRAD\n",
      " **********\n",
      " PARAMETER DEFINITIONS:\n",
      "    NO.   NAME         VALUE      STEP SIZE      LIMITS\n",
      "     1 n_mu         1.75776e+05  2.63663e+04    0.00000e+00  2.63663e+05\n",
      "     2 n_tau        2.51108e+03  1.25554e+03    0.00000e+00  2.51108e+05\n",
      " **********\n",
      " **    3 **SET ERR         0.5\n",
      " **********\n",
      " **********\n",
      " **    4 **SET PRINT           1\n",
      " **********\n",
      " **********\n",
      " **    5 **SET STR           1\n",
      " **********\n",
      " NOW USING STRATEGY  1: TRY TO BALANCE SPEED AGAINST RELIABILITY\n",
      " **********\n",
      " **    6 **MIGRAD        1000           1\n",
      " **********\n",
      " FIRST CALL TO USER FUNCTION AT NEW START POINT, WITH IFLAG=4.\n",
      " START MIGRAD MINIMIZATION.  STRATEGY  1.  CONVERGENCE WHEN EDM .LT. 1.00e-03\n",
      " FCN=-1e+30 FROM MIGRAD    STATUS=INITIATE       49 CALLS          50 TOTAL\n",
      "                     EDM= unknown      STRATEGY= 1      NO ERROR MATRIX       \n",
      "  EXT PARAMETER               CURRENT GUESS       STEP         FIRST   \n",
      "  NO.   NAME      VALUE            ERROR          SIZE      DERIVATIVE \n",
      "   1  n_mu         1.75776e+05   2.63663e+04   0.00000e+00   0.00000e+00\n",
      "   2  n_tau        2.51108e+03   1.25554e+03   0.00000e+00   0.00000e+00\n",
      "                               ERR DEF= 0.5\n",
      " MIGRAD MINIMIZATION HAS CONVERGED.\n",
      " MIGRAD WILL VERIFY CONVERGENCE AND ERROR MATRIX.\n",
      " MINUIT WARNING IN HESSE\n",
      " ============== Second derivative zero for parameter1\n",
      "  MNHESS FAILS AND WILL RETURN DIAGONAL MATRIX. \n",
      " FCN=-1e+30 FROM HESSE     STATUS=FAILED          3 CALLS          53 TOTAL\n",
      "                     EDM=0    STRATEGY= 1  ERROR MATRIX UNCERTAINTY 100.0 per cent\n",
      "  EXT PARAMETER                APPROXIMATE        STEP         FIRST   \n",
      "  NO.   NAME      VALUE            ERROR          SIZE      DERIVATIVE \n",
      "   1  n_mu         1.75776e+05   1.04588e+05   0.00000e+00   0.00000e+00\n",
      "   2  n_tau        2.51108e+03   5.65625e+04   0.00000e+00   0.00000e+00\n",
      "                               ERR DEF= 0.5\n",
      " MIGRAD MINIMIZATION HAS CONVERGED.\n",
      " MIGRAD WILL VERIFY CONVERGENCE AND ERROR MATRIX.\n",
      " MINUIT WARNING IN HESSE\n",
      " ============== Second derivative zero for parameter1\n",
      "  MNHESS FAILS AND WILL RETURN DIAGONAL MATRIX. \n",
      " FCN=-1e+30 FROM MIGRAD    STATUS=CONVERGED      55 CALLS          56 TOTAL\n",
      "                     EDM=0    STRATEGY= 1  ERROR MATRIX UNCERTAINTY 100.0 per cent\n",
      "  EXT PARAMETER                APPROXIMATE        STEP         FIRST   \n",
      "  NO.   NAME      VALUE            ERROR          SIZE      DERIVATIVE \n",
      "   1  n_mu         1.75776e+05   1.04588e+05   0.00000e+00   0.00000e+00\n",
      "   2  n_tau        2.51108e+03   5.65625e+04   0.00000e+00   0.00000e+00\n",
      "                               ERR DEF= 0.5\n",
      " EXTERNAL ERROR MATRIX.    NDIM=  25    NPAR=  2    ERR DEF=0.5\n",
      "  1.545e+10  0.000e+00 \n",
      "  0.000e+00  6.242e+08 \n",
      "ERR MATRIX APPROXIMATE\n",
      " PARAMETER  CORRELATION COEFFICIENTS  \n",
      "       NO.  GLOBAL      1      2\n",
      "        1  0.00000   1.000  0.000\n",
      "        2  0.00000   0.000  1.000\n",
      " ERR MATRIX APPROXIMATE\n",
      " **********\n",
      " **    7 **HESSE        1000\n",
      " **********\n",
      " MINUIT WARNING IN HESSE\n",
      " ============== Second derivative zero for parameter1\n",
      "  MNHESS FAILS AND WILL RETURN DIAGONAL MATRIX. \n",
      " FCN=-1e+30 FROM HESSE     STATUS=FAILED          3 CALLS          59 TOTAL\n",
      "                     EDM=0    STRATEGY= 1  ERROR MATRIX UNCERTAINTY 100.0 per cent\n",
      "  EXT PARAMETER                APPROXIMATE     INTERNAL      INTERNAL  \n",
      "  NO.   NAME      VALUE            ERROR       STEP SIZE       VALUE   \n",
      "   1  n_mu         1.10807e+05   1.04588e+05   0.00000e+00   3.39837e-01\n",
      "   2  n_tau        2.51108e+03   5.65625e+04   0.00000e+00  -1.37046e+00\n",
      "                               ERR DEF= 0.5\n",
      " EXTERNAL ERROR MATRIX.    NDIM=  25    NPAR=  2    ERR DEF=0.5\n",
      "  1.545e+10  0.000e+00 \n",
      "  0.000e+00  6.242e+08 \n",
      "ERR MATRIX APPROXIMATE\n",
      " PARAMETER  CORRELATION COEFFICIENTS  \n",
      "       NO.  GLOBAL      1      2\n",
      "        1  0.00000   1.000  0.000\n",
      "        2  0.00000   0.000  1.000\n",
      " ERR MATRIX APPROXIMATE\n",
      " **********\n",
      " **    8 **SET ERR         0.5\n",
      " **********\n",
      " **********\n",
      " **    9 **SET PRINT           1\n",
      " **********\n",
      " **********\n",
      " **   10 **HESSE        1000\n",
      " **********\n",
      " MINUIT WARNING IN HESSE\n",
      " ============== Second derivative zero for parameter1\n",
      "  MNHESS FAILS AND WILL RETURN DIAGONAL MATRIX. \n",
      " FCN=-1e+30 FROM HESSE     STATUS=FAILED          3 CALLS          62 TOTAL\n",
      "                     EDM=0    STRATEGY= 1  ERROR MATRIX UNCERTAINTY 100.0 per cent\n",
      "  EXT PARAMETER                APPROXIMATE     INTERNAL      INTERNAL  \n",
      "  NO.   NAME      VALUE            ERROR       STEP SIZE       VALUE   \n",
      "   1  n_mu         1.10807e+05   1.04588e+05   0.00000e+00   3.39837e-01\n",
      "   2  n_tau        2.51108e+03   5.65625e+04   0.00000e+00  -1.37046e+00\n",
      "                               ERR DEF= 0.5\n",
      " EXTERNAL ERROR MATRIX.    NDIM=  25    NPAR=  2    ERR DEF=0.5\n",
      "  1.545e+10  0.000e+00 \n",
      "  0.000e+00  6.242e+08 \n",
      "ERR MATRIX APPROXIMATE\n",
      " PARAMETER  CORRELATION COEFFICIENTS  \n",
      "       NO.  GLOBAL      1      2\n",
      "        1  0.00000   1.000  0.000\n",
      "        2  0.00000   0.000  1.000\n",
      " ERR MATRIX APPROXIMATE\n"
     ]
    }
   ],
   "source": [
    "pdf_tot = rt.RooAddPdf('pdftot', 'pdftot', rt.RooArgList(pdf_mu_ext, pdf_tau_ext))\n",
    "pdf_tot.fitTo(data)"
   ]
  },
  {
   "cell_type": "markdown",
   "metadata": {},
   "source": [
    "# Plot the results"
   ]
  },
  {
   "cell_type": "code",
   "execution_count": 15,
   "metadata": {
    "ExecuteTime": {
     "end_time": "2019-05-03T01:01:08.743917Z",
     "start_time": "2019-05-03T01:01:08.696447Z"
    }
   },
   "outputs": [],
   "source": [
    "N_cols = len(binning.keys())-1\n",
    "N_rows = binning['q2'][0]\n",
    "canvas = rt.TCanvas('c_out', 'c_out', 50, 50, N_cols*400, 400*N_rows)\n",
    "canvas.SetTickx(0)\n",
    "canvas.SetTicky(0)\n",
    "canvas.Divide(N_cols, N_rows)\n",
    "\n",
    "CMS_lumi.extraText = \"        Preliminary\""
   ]
  },
  {
   "cell_type": "code",
   "execution_count": 24,
   "metadata": {
    "ExecuteTime": {
     "end_time": "2019-05-03T01:02:54.968418Z",
     "start_time": "2019-05-03T01:02:54.553790Z"
    },
    "scrolled": false
   },
   "outputs": [
    {
     "data": {
      "image/png": "[encoded data removed]",
      "text/plain": [
       "<IPython.core.display.Image object>"
      ]
     },
     "metadata": {},
     "output_type": "display_data"
    }
   ],
   "source": [
    "q2_edges = np.linspace(binning['q2'][1], binning['q2'][2], 1+binning['q2'][0], True)\n",
    "\n",
    "for i_q2 in range(binning['q2'][0]):\n",
    "    q2_l = q2_edges[i_q2]\n",
    "    q2_h = q2_edges[i_q2+1]\n",
    "\n",
    "    q2_txt = '{:.2f} <  q^{{2}}  < {:.2f} GeV^{{2}}'.format(q2_l, q2_h)\n",
    "    q2_cut = 'q2 > {:.2f} &&  q2 < {:.2f}'.format(q2_l, q2_h)\n",
    "\n",
    "    for i_v, var in enumerate([M2_miss, Est_mu]):\n",
    "        frame = var.frame(rf.Title(\"\"))\n",
    "        aux_data = data.reduce(q2_cut)\n",
    "        aux_data.plotOn(frame, rf.MarkerStyle(1), rf.Name('Data'))\n",
    "#         data.plotOn(frame, rf.Cut(q2_cut), rf.MarkerStyle(1))\n",
    "        \n",
    "#         pdf_tot.plotOn(frame, rf.LineColor(15), rf.LineWidth(2), rf.LineStyle(9))\n",
    "        pdf_tot.plotOn(frame, rf.Components('e_mu, e_tau'), rf.ProjWData(rt.RooArgSet(var), data), rf.LineColor(4), rf.LineWidth(2), rf.Name('Mu'))\n",
    "        pdf_tot.plotOn(frame, rf.Components('e_tau'), rf.ProjWData(rt.RooArgSet(var), data), rf.LineColor(2), rf.LineWidth(2), rf.Name('Tau'))\n",
    "        \n",
    "        i_pad = i_q2*N_cols + i_v + 1\n",
    "        pad = canvas.cd(i_pad)\n",
    "        pad.SetTopMargin(0.05)\n",
    "        pad.SetBottomMargin(0.13)\n",
    "        pad.SetRightMargin(0.03)\n",
    "        pad.SetLeftMargin(0.22)\n",
    "        \n",
    "        frame.Draw()\n",
    "        CMS_lumi.CMS_lumi(pad, -1, 0, 0.75*1.3, 0.6*1.3)\n",
    "        \n",
    "        frame.SetMaximum(1.2*frame.GetMaximum())\n",
    "        frame.GetYaxis().SetTitleOffset(1.7)\n",
    "        \n",
    "        l = rt.TLatex()\n",
    "        l.SetTextAlign(11)\n",
    "        l.SetTextSize(0.055)\n",
    "        l.SetTextFont(42)\n",
    "        l.DrawLatexNDC(0.26, 0.87, q2_txt)\n",
    "\n",
    "        if i_pad == 1:\n",
    "            leg = rt.TLegend(0.6, 0.6, 0.93, 0.82)\n",
    "            leg.SetTextFont(42)\n",
    "            leg.SetTextAlign(12)\n",
    "            leg.SetLineWidth(1)\n",
    "            leg.SetBorderSize(1)\n",
    "            leg.AddEntry('Data', 'Data', 'lep')\n",
    "            leg.AddEntry('Mu', 'B#rightarrowD*#mu#nu', 'l')\n",
    "            leg.AddEntry('Tau', 'B#rightarrowD*#tau#nu', 'l')\n",
    "            leg.Draw()\n",
    "\n",
    "canvas.Draw()"
   ]
  },
  {
   "cell_type": "code",
   "execution_count": 25,
   "metadata": {
    "ExecuteTime": {
     "end_time": "2019-05-03T01:04:07.783698Z",
     "start_time": "2019-05-03T01:04:07.699047Z"
    }
   },
   "outputs": [],
   "source": [
    "canvas.SaveAs('/Users/olmo/Desktop/RDst_fit.png')"
   ]
  }
 ],
 "metadata": {
  "kernelspec": {
   "display_name": "Python 2",
   "language": "python",
   "name": "python2"
  },
  "language_info": {
   "codemirror_mode": {
    "name": "ipython",
    "version": 2
   },
   "file_extension": ".py",
   "mimetype": "text/x-python",
   "name": "python",
   "nbconvert_exporter": "python",
   "pygments_lexer": "ipython2",
   "version": "2.7.14"
  }
 },
 "nbformat": 4,
 "nbformat_minor": 2
}
