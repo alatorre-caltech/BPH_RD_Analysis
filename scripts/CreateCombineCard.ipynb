{
 "cells": [
  {
   "cell_type": "code",
   "execution_count": 1,
   "metadata": {
    "ExecuteTime": {
     "end_time": "2019-05-14T01:36:12.149848Z",
     "start_time": "2019-05-14T01:36:11.232339Z"
    }
   },
   "outputs": [
    {
     "name": "stdout",
     "output_type": "stream",
     "text": [
      "Welcome to JupyROOT 6.10/08\n"
     ]
    }
   ],
   "source": [
    "import ROOT as rt\n",
    "import numpy as np"
   ]
  },
  {
   "cell_type": "code",
   "execution_count": 2,
   "metadata": {
    "ExecuteTime": {
     "end_time": "2019-05-14T01:36:12.171097Z",
     "start_time": "2019-05-14T01:36:12.153835Z"
    }
   },
   "outputs": [],
   "source": [
    "histo_file_loc = '../data/_root/histos_1Dq2.root'"
   ]
  },
  {
   "cell_type": "code",
   "execution_count": 3,
   "metadata": {
    "ExecuteTime": {
     "end_time": "2019-05-14T01:36:12.229355Z",
     "start_time": "2019-05-14T01:36:12.175103Z"
    }
   },
   "outputs": [],
   "source": [
    "tf = rt.TFile(histo_file_loc, 'READ')"
   ]
  },
  {
   "cell_type": "code",
   "execution_count": 4,
   "metadata": {
    "ExecuteTime": {
     "end_time": "2019-05-14T01:36:12.249295Z",
     "start_time": "2019-05-14T01:36:12.233400Z"
    }
   },
   "outputs": [],
   "source": [
    "expected = {}\n",
    "expected['mu'] = 0.99\n",
    "expected['tau'] = 0.01"
   ]
  },
  {
   "cell_type": "code",
   "execution_count": 5,
   "metadata": {
    "ExecuteTime": {
     "end_time": "2019-05-14T01:36:12.257900Z",
     "start_time": "2019-05-14T01:36:12.252071Z"
    }
   },
   "outputs": [],
   "source": [
    "if np.sum(expected.values()) != 1:\n",
    "    raise"
   ]
  },
  {
   "cell_type": "code",
   "execution_count": 6,
   "metadata": {
    "ExecuteTime": {
     "end_time": "2019-05-14T01:36:12.285024Z",
     "start_time": "2019-05-14T01:36:12.261856Z"
    }
   },
   "outputs": [],
   "source": [
    "name = {}\n",
    "n_keys = 0\n",
    "for k in tf.GetListOfKeys():\n",
    "    if 'data' in k.GetName():\n",
    "        name['data'] = k.GetName()\n",
    "    else:\n",
    "        for ke in expected.keys():\n",
    "            if ke in k.GetName():\n",
    "                name[ke] = k.GetName()\n",
    "    \n",
    "    n_keys += 1"
   ]
  },
  {
   "cell_type": "code",
   "execution_count": 7,
   "metadata": {
    "ExecuteTime": {
     "end_time": "2019-05-14T01:36:12.305787Z",
     "start_time": "2019-05-14T01:36:12.288864Z"
    }
   },
   "outputs": [],
   "source": [
    "histo = {}\n",
    "for k,n in name.iteritems():\n",
    "    histo[k] = tf.Get(n)"
   ]
  },
  {
   "cell_type": "code",
   "execution_count": 8,
   "metadata": {
    "ExecuteTime": {
     "end_time": "2019-05-14T01:36:12.348727Z",
     "start_time": "2019-05-14T01:36:12.309838Z"
    }
   },
   "outputs": [
    {
     "name": "stdout",
     "output_type": "stream",
     "text": [
      "mu\n",
      "tau\n",
      "data\n"
     ]
    }
   ],
   "source": [
    "combine_histo_file_loc =  histo_file_loc.replace('.root', '_forCombine.root')\n",
    "tfc = rt.TFile(combine_histo_file_loc, 'RECREATE')\n",
    "for k, h in histo.iteritems():\n",
    "    print k\n",
    "    new_name = k\n",
    "    if k == 'data':\n",
    "        new_name += '_obs'\n",
    "    h_aux = h.Clone(new_name)\n",
    "    if k != 'data':\n",
    "        h_aux.Scale(histo['data'].Integral()*expected[k]/h.Integral())\n",
    "        \n",
    "    h_aux.Write()\n",
    "tfc.Close()"
   ]
  },
  {
   "cell_type": "markdown",
   "metadata": {},
   "source": [
    "# Write the card"
   ]
  },
  {
   "cell_type": "code",
   "execution_count": 9,
   "metadata": {
    "ExecuteTime": {
     "end_time": "2019-05-14T01:36:12.367638Z",
     "start_time": "2019-05-14T01:36:12.352769Z"
    }
   },
   "outputs": [],
   "source": [
    "fc = open('../CombineCards/q2_MuTau.txt', 'w')"
   ]
  },
  {
   "cell_type": "code",
   "execution_count": 10,
   "metadata": {
    "ExecuteTime": {
     "end_time": "2019-05-14T01:36:12.392125Z",
     "start_time": "2019-05-14T01:36:12.371738Z"
    }
   },
   "outputs": [],
   "source": [
    "card = 'imax 1\\n'\n",
    "card += 'jmax {}\\n'.format(len(expected.keys())-1)\n",
    "card += 'kmax 0\\n'\n",
    "card += '---------------\\n'\n",
    "card += 'shapes * * ' + combine_histo_file_loc + ' $PROCESS\\n'\n",
    "card += '---------------\\n'\n",
    "card += 'bin bin1\\n'\n",
    "card += 'observation {:.0f}\\n'.format(histo['data'].Integral())\n",
    "card += '---------------\\n'\n",
    "card += 'bin ' + ' '.join(['bin1']*len(expected.keys())) + '\\n'\n",
    "card += 'process ' + ' '.join(expected.keys()) + '\\n'\n",
    "card += 'process ' + ' '.join([str(i) for i in range(len(expected.keys()))]) + '\\n'\n",
    "card += 'rate ' + ' '.join([str(histo['data'].Integral()*expected[k]) for k in expected.keys()]) + '\\n'"
   ]
  },
  {
   "cell_type": "code",
   "execution_count": 11,
   "metadata": {
    "ExecuteTime": {
     "end_time": "2019-05-14T01:36:12.412621Z",
     "start_time": "2019-05-14T01:36:12.396482Z"
    }
   },
   "outputs": [
    {
     "name": "stdout",
     "output_type": "stream",
     "text": [
      "imax 1\n",
      "jmax 1\n",
      "kmax 0\n",
      "---------------\n",
      "shapes * * ../data/_root/histos_1Dq2_forCombine.root $PROCESS\n",
      "---------------\n",
      "bin bin1\n",
      "observation 229542\n",
      "---------------\n",
      "bin bin1 bin1\n",
      "process mu tau\n",
      "process 0 1\n",
      "rate 227246.58 2295.42\n",
      "\n"
     ]
    }
   ],
   "source": [
    "print card"
   ]
  },
  {
   "cell_type": "code",
   "execution_count": 12,
   "metadata": {
    "ExecuteTime": {
     "end_time": "2019-05-14T01:36:12.432835Z",
     "start_time": "2019-05-14T01:36:12.416805Z"
    }
   },
   "outputs": [],
   "source": [
    "fc.write(card)\n",
    "fc.close()"
   ]
  },
  {
   "cell_type": "code",
   "execution_count": null,
   "metadata": {},
   "outputs": [],
   "source": []
  }
 ],
 "metadata": {
  "kernelspec": {
   "display_name": "Python 2",
   "language": "python",
   "name": "python2"
  },
  "language_info": {
   "codemirror_mode": {
    "name": "ipython",
    "version": 2
   },
   "file_extension": ".py",
   "mimetype": "text/x-python",
   "name": "python",
   "nbconvert_exporter": "python",
   "pygments_lexer": "ipython2",
   "version": "2.7.14"
  }
 },
 "nbformat": 4,
 "nbformat_minor": 2
}
