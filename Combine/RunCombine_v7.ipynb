{
 "cells": [
  {
   "cell_type": "markdown",
   "metadata": {},
   "source": [
    "New:\n",
    " - Additional D* with multiple pions sample\n",
    " - Parallel toys for goodness of fit\n",
    " - Hc shape variation very very approximate"
   ]
  },
  {
   "cell_type": "code",
   "execution_count": 1,
   "metadata": {
    "ExecuteTime": {
     "end_time": "2020-05-06T07:29:43.233513Z",
     "start_time": "2020-05-06T07:29:43.221715Z"
    }
   },
   "outputs": [],
   "source": [
    "card_name = 'v7'"
   ]
  },
  {
   "cell_type": "code",
   "execution_count": 2,
   "metadata": {
    "ExecuteTime": {
     "end_time": "2020-05-06T07:29:43.269995Z",
     "start_time": "2020-05-06T07:29:43.240351Z"
    }
   },
   "outputs": [],
   "source": [
    "fit_real_data = True\n",
    "category = 'low'\n",
    "SM_RDst = 0.26\n",
    "fastRun = True"
   ]
  },
  {
   "cell_type": "markdown",
   "metadata": {
    "heading_collapsed": true,
    "hide_input": true
   },
   "source": [
    "# Import"
   ]
  },
  {
   "cell_type": "code",
   "execution_count": 3,
   "metadata": {
    "ExecuteTime": {
     "end_time": "2020-05-06T07:29:43.623932Z",
     "start_time": "2020-05-06T07:29:43.276216Z"
    },
    "hidden": true
   },
   "outputs": [],
   "source": [
    "import sys, os, pickle\n",
    "from glob import glob\n",
    "sys.path.append('../lib')\n",
    "sys.path.append('../analysis')\n",
    "from categoriesDef import categories\n",
    "import itertools\n",
    "import commands\n",
    "from prettytable import PrettyTable\n",
    "import json, yaml\n",
    "from IPython.display import IFrame, Image, display"
   ]
  },
  {
   "cell_type": "code",
   "execution_count": 4,
   "metadata": {
    "ExecuteTime": {
     "end_time": "2020-05-06T07:29:52.608190Z",
     "start_time": "2020-05-06T07:29:43.629925Z"
    },
    "hidden": true
   },
   "outputs": [
    {
     "name": "stdout",
     "output_type": "stream",
     "text": [
      "Welcome to JupyROOT 6.12/07\n"
     ]
    }
   ],
   "source": [
    "import numpy as np\n",
    "import matplotlib.pyplot as plt\n",
    "from array import array\n",
    "\n",
    "import uproot as ur\n",
    "import ROOT as rt\n",
    "rt.gErrorIgnoreLevel = rt.kError\n",
    "rt.RooMsgService.instance().setGlobalKillBelow(rt.RooFit.ERROR)\n",
    "import root_numpy as rtnp\n",
    "\n",
    "from analysis_utilities import drawOnCMSCanvas, getEff, DSetLoader\n",
    "from pT_calibration_reader import pTCalReader\n",
    "from histo_utilities import create_TH1D, create_TH2D, std_color_list\n",
    "from gridVarQ2Plot import plot_gridVarQ2, plot_SingleCategory\n",
    "from progressBar import ProgressBar\n",
    "from lumi_utilities import getLumiByTrigger\n",
    "from combine_utilities import getUncertaintyFromLimitTree, dumpDiffNuisances\n",
    "\n",
    "import CMS_lumi, tdrstyle\n",
    "tdrstyle.setTDRStyle()\n",
    "CMS_lumi.writeExtraText = 1\n",
    "\n",
    "if fit_real_data:\n",
    "    CMS_lumi.extraText = \"     Preliminary\"\n",
    "else:\n",
    "    CMS_lumi.extraText = \"     Simulation Preliminary\"\n",
    "\n",
    "donotdelete = []"
   ]
  },
  {
   "cell_type": "code",
   "execution_count": 5,
   "metadata": {
    "ExecuteTime": {
     "end_time": "2020-05-06T07:29:52.629828Z",
     "start_time": "2020-05-06T07:29:52.614220Z"
    },
    "hidden": true
   },
   "outputs": [],
   "source": [
    "cat = categories[category]"
   ]
  },
  {
   "cell_type": "markdown",
   "metadata": {
    "heading_collapsed": true
   },
   "source": [
    "# Load the datasets"
   ]
  },
  {
   "cell_type": "code",
   "execution_count": 6,
   "metadata": {
    "ExecuteTime": {
     "end_time": "2020-05-06T07:30:08.337453Z",
     "start_time": "2020-05-06T07:29:52.634733Z"
    },
    "hidden": true
   },
   "outputs": [],
   "source": [
    "#They all have to be produced with the same pileup\n",
    "MCsample = {\n",
    "'mu' : DSetLoader('B0_MuNuDmst_PUc0'),\n",
    "'tau' : DSetLoader('B0_TauNuDmst_PUc0'),\n",
    "'Hc' : DSetLoader('B0_DmstHc_PUc0'),\n",
    "'DstPip' : DSetLoader('Bp_MuNuDstst_Pip_PUc0'),\n",
    "'DstPi0' : DSetLoader('B0_MuNuDstst_Pi0_PUc0'),\n",
    "'DstPipPi0' : DSetLoader('Bp_MuNuDstst_PipPi0_PUc0'),\n",
    "'DstPipPim' : DSetLoader('B0_MuNuDstst_PipPim_PUc0'),\n",
    "'DstPi0Pi0' : DSetLoader('B0_MuNuDstst_Pi0Pi0_PUc0'),\n",
    "}\n",
    "dSet = {}\n",
    "dSetTkSide = {}\n",
    "for n, s in MCsample.iteritems():\n",
    "    dSet[n] = rtnp.root2array(s.skimmed_dir + '/{}_corr.root'.format(cat.name))\n",
    "    dSetTkSide[n] = rtnp.root2array(s.skimmed_dir + '/{}_skip17_corr.root'.format(cat.name))"
   ]
  },
  {
   "cell_type": "code",
   "execution_count": 7,
   "metadata": {
    "ExecuteTime": {
     "end_time": "2020-05-06T07:30:10.627774Z",
     "start_time": "2020-05-06T07:30:08.343559Z"
    },
    "hidden": true
   },
   "outputs": [
    {
     "name": "stdout",
     "output_type": "stream",
     "text": [
      "Run2018D-05May2019promptD-v1_RDntuplizer_B2DstMu_200416\n",
      "HLT_Mu7_IP4_part2_v2 1.28\n",
      "Run2018D-05May2019promptD-v1_RDntuplizer_B2DstMu_200416\n",
      "HLT_Mu7_IP4_part1_v2 1.28\n",
      "Run2018D-05May2019promptD-v1_RDntuplizer_B2DstMu_200416\n",
      "HLT_Mu7_IP4_part4_v2 1.28\n",
      "Run2018D-05May2019promptD-v1_RDntuplizer_B2DstMu_200416\n",
      "HLT_Mu7_IP4_part3_v2 1.28\n",
      "Run2018D-05May2019promptD-v1_RDntuplizer_B2DstMu_200416\n",
      "HLT_Mu7_IP4_part0_v2 1.27\n",
      "Total lumi: 6.39 fb^-1\n"
     ]
    }
   ],
   "source": [
    "if fit_real_data:\n",
    "    creation_date = '200416'\n",
    "    locRD = '../data/cmsRD/skimmed/B2DstMu_{}_{}'.format(creation_date, cat.name)\n",
    "    dSet['data'] = rtnp.root2array(locRD + '_corr.root')\n",
    "    dSetTkSide['data'] = rtnp.root2array(locRD + '_skip17_corr.root')\n",
    "    dataDir = '../data/cmsRD'\n",
    "    datasets_loc = glob(dataDir + '/ParkingBPH*/*RDntuplizer_B2DstMu_{}_CAND.root'.format(creation_date))\n",
    "    lumi_tot = getLumiByTrigger(datasets_loc, cat.trg, verbose=True)\n",
    "    CMS_lumi.integrated_lumi = lumi_tot\n",
    "else:\n",
    "    expectedLumi = {'low':6., 'mid':20., 'high':26., 'single':6.} #fb^-1\n",
    "    lumi_tot = expectedLumi[category]"
   ]
  },
  {
   "cell_type": "markdown",
   "metadata": {
    "heading_collapsed": true
   },
   "source": [
    "# Load all the calibrations"
   ]
  },
  {
   "cell_type": "markdown",
   "metadata": {
    "hidden": true
   },
   "source": [
    "Pileup"
   ]
  },
  {
   "cell_type": "code",
   "execution_count": 8,
   "metadata": {
    "ExecuteTime": {
     "end_time": "2020-05-06T07:30:10.728143Z",
     "start_time": "2020-05-06T07:30:10.631924Z"
    },
    "hidden": true
   },
   "outputs": [],
   "source": [
    "loc = '../data/cmsRD/ParkingBPH{}/Run2018D-05May2019promptD-v1_RDntuplizer_PrescaleVertices_200421_CAND.root'\n",
    "fAuxPileupRD = []\n",
    "\n",
    "hPileupTarget = None\n",
    "\n",
    "for i in range(2, 6):\n",
    "    fAuxPileupRD.append(rt.TFile.Open(loc.format(i), 'READ'))\n",
    "    if hPileupTarget is None:\n",
    "        hPileupTarget = fAuxPileupRD[-1].Get('nVtx/hNvtxPassed'+cat.trg).Clone()\n",
    "    else:\n",
    "        hPileupTarget.Add(fAuxPileupRD[-1].Get('nVtx/hNvtxPassed'+cat.trg))\n",
    "\n",
    "hPileupTarget.Scale(1./hPileupTarget.Integral())\n",
    "\n",
    "fAuxPileupMC = rt.TFile.Open(MCsample['mu'].skimmed_dir + '/{}_corr.root'.format(cat.name), 'READ')\n",
    "hPileupGen = fAuxPileupMC.Get('hAllNvtx')\n",
    "hPileupGen.Scale(1./hPileupGen.Integral())\n",
    "\n",
    "weights = np.ones(hPileupGen.GetNbinsX())\n",
    "s = 0\n",
    "for i in range(weights.shape[0]):\n",
    "    if hPileupGen.GetBinContent(i+1) == 0:\n",
    "        continue\n",
    "    weights[i] = hPileupTarget.GetBinContent(i+1)/hPileupGen.GetBinContent(i+1)\n",
    "    s += hPileupGen.GetBinContent(i+1) * weights[i]\n",
    "\n",
    "weightsPileupMC = weights/s\n",
    "\n",
    "for f in fAuxPileupRD + [fAuxPileupMC]:\n",
    "    f.Close()\n",
    "\n",
    "def getPileupWeights(ds, selection=None):\n",
    "    x = ds['N_vtx']\n",
    "    if not selection is None:\n",
    "        x = x[selection]\n",
    "    return weightsPileupMC[x.astype(np.int)]"
   ]
  },
  {
   "cell_type": "markdown",
   "metadata": {
    "hidden": true
   },
   "source": [
    "Total norm pre-scale"
   ]
  },
  {
   "cell_type": "code",
   "execution_count": 9,
   "metadata": {
    "ExecuteTime": {
     "end_time": "2020-05-06T07:30:10.769359Z",
     "start_time": "2020-05-06T07:30:10.733141Z"
    },
    "hidden": true
   },
   "outputs": [
    {
     "name": "stdout",
     "output_type": "stream",
     "text": [
      "Expected ratio between RD and MC norm: 2.632 +/- 0.063\n"
     ]
    }
   ],
   "source": [
    "r = np.zeros((3,2))\n",
    "for i, fn in enumerate(glob('../data/calibration/totalRate/ratioB02JPsiKst_*.txt')):\n",
    "    with open(fn, 'r') as faux:\n",
    "        aux = faux.readlines()[0][:-1].split(' ')\n",
    "        r[i] = [float(aux[0]), float(aux[1])]\n",
    "s2 = np.square(r[:,1])\n",
    "num = np.sum(r[:,0]/s2)\n",
    "den = np.sum(1./s2)\n",
    "RDoMC_normRatio = [num/den, np.sqrt(1/den)]\n",
    "print 'Expected ratio between RD and MC norm: {:.3f} +/- {:.3f}'.format(RDoMC_normRatio[0], RDoMC_normRatio[1])"
   ]
  },
  {
   "cell_type": "markdown",
   "metadata": {
    "hidden": true
   },
   "source": [
    "Branching fraction"
   ]
  },
  {
   "cell_type": "code",
   "execution_count": 10,
   "metadata": {
    "ExecuteTime": {
     "end_time": "2020-05-06T07:30:10.821867Z",
     "start_time": "2020-05-06T07:30:10.774179Z"
    },
    "hidden": true
   },
   "outputs": [],
   "source": [
    "decayBR = pickle.load(open('../data/forcedDecayChannelsFactors.pickle', 'rb'))"
   ]
  },
  {
   "cell_type": "markdown",
   "metadata": {
    "hidden": true
   },
   "source": [
    "Trigger scale factor"
   ]
  },
  {
   "cell_type": "code",
   "execution_count": 11,
   "metadata": {
    "ExecuteTime": {
     "end_time": "2020-05-06T07:30:10.890666Z",
     "start_time": "2020-05-06T07:30:10.827029Z"
    },
    "hidden": true
   },
   "outputs": [],
   "source": [
    "loc = '../data/calibration/triggerScaleFactors/'\n",
    "fTriggerSF = rt.TFile.Open(loc + 'HLT_' + cat.trg + '_SF.root', 'READ')\n",
    "hTriggerSF = fTriggerSF.Get('hSF_HLT_' + cat.trg)"
   ]
  },
  {
   "cell_type": "code",
   "execution_count": 12,
   "metadata": {
    "ExecuteTime": {
     "end_time": "2020-05-06T07:30:11.211071Z",
     "start_time": "2020-05-06T07:30:10.894737Z"
    },
    "hidden": true
   },
   "outputs": [],
   "source": [
    "def computeTrgSF(ds, selection=None):\n",
    "    trgSF = np.ones_like(ds['q2'])\n",
    "    trgSFUnc = np.zeros_like(ds['q2'])\n",
    "    if not fastRun:\n",
    "        ptmax = hTriggerSF.GetXaxis().GetXmax() - 0.01\n",
    "        ipmax = hTriggerSF.GetYaxis().GetXmax() - 0.01\n",
    "        etamax = hTriggerSF.GetZaxis().GetXmax() - 0.01\n",
    "        x = np.column_stack((ds['mu_pt'], ds['mu_eta'], ds['mu_sigdxy']))\n",
    "        if not selection is None:\n",
    "            x = x[selection]\n",
    "        for i, (pt, eta, ip) in enumerate(x):\n",
    "            ix = hTriggerSF.GetXaxis().FindBin(min(ptmax, pt))\n",
    "            iy = hTriggerSF.GetYaxis().FindBin(min(ipmax, ip))\n",
    "            iz = hTriggerSF.GetZaxis().FindBin(min(etamax, np.abs(eta)))\n",
    "            trgSF[i] = hTriggerSF.GetBinContent(ix, iy, iz)\n",
    "            ib = hTriggerSF.GetBin(ix, iy, iz)\n",
    "            trgSFUnc[i] = hTriggerSF.GetBinError(ib)\n",
    "            if trgSF[i] == 0:\n",
    "                print pt, ip, np.abs(eta)\n",
    "                raise\n",
    "    # Divide them for the weight so later you can simply multiply back to get the value\n",
    "    up = 1 + trgSFUnc/trgSF\n",
    "    down = 1 - trgSFUnc/trgSF\n",
    "    return trgSF, up, down"
   ]
  },
  {
   "cell_type": "markdown",
   "metadata": {
    "hidden": true
   },
   "source": [
    "Muon ID scale factors"
   ]
  },
  {
   "cell_type": "code",
   "execution_count": 13,
   "metadata": {
    "ExecuteTime": {
     "end_time": "2020-05-06T07:30:11.292024Z",
     "start_time": "2020-05-06T07:30:11.217772Z"
    },
    "hidden": true
   },
   "outputs": [],
   "source": [
    "fMuonIDSF = rt.TFile.Open('../data/calibration/muonIDscaleFactors/Run2018ABCD_SF_MuonID_Jpsi.root', 'READ')\n",
    "hMuonIDSF = fMuonIDSF.Get('NUM_SoftID_DEN_genTracks_pt_abseta')"
   ]
  },
  {
   "cell_type": "code",
   "execution_count": 14,
   "metadata": {
    "ExecuteTime": {
     "end_time": "2020-05-06T07:30:11.376778Z",
     "start_time": "2020-05-06T07:30:11.297524Z"
    },
    "hidden": true
   },
   "outputs": [],
   "source": [
    "def computeMuonIDSF(ds, selection=None):\n",
    "    muonSF = np.ones_like(ds['q2'])\n",
    "    muonSFUnc = np.zeros_like(ds['q2'])\n",
    "    if not fastRun:\n",
    "        ptmax = hMuonIDSF.GetXaxis().GetXmax() - 0.01\n",
    "        etamax = hMuonIDSF.GetYaxis().GetXmax() - 0.01\n",
    "        x = np.column_stack((ds['MC_mu_pt'], ds['MC_mu_eta']))\n",
    "        if not selection is None:\n",
    "            x = x[selection]\n",
    "        for i, (pt, eta) in enumerate(x):\n",
    "            ix = hMuonIDSF.GetXaxis().FindBin(min(pt, ptmax))\n",
    "            if ix == 0: ix = 1 #Remove underflows (Meaning that the MC matching failed)\n",
    "            iy = hMuonIDSF.GetYaxis().FindBin(min(np.abs(eta), etamax))\n",
    "            muonSF[i] = hMuonIDSF.GetBinContent(ix, iy)\n",
    "            muonSFUnc[i] = hMuonIDSF.GetBinError(hMuonIDSF.GetBin(ix, iy))\n",
    "            if muonSF[i] == 0:\n",
    "                print pt, eta\n",
    "                print ix, iy\n",
    "                raise\n",
    "    up = 1 + muonSFUnc/muonSF\n",
    "    down = 1 - muonSFUnc/muonSF\n",
    "    return muonSF, up, down"
   ]
  },
  {
   "cell_type": "markdown",
   "metadata": {
    "hidden": true
   },
   "source": [
    "B transverse momentum calibration"
   ]
  },
  {
   "cell_type": "code",
   "execution_count": 15,
   "metadata": {
    "ExecuteTime": {
     "end_time": "2020-05-06T07:30:11.437973Z",
     "start_time": "2020-05-06T07:30:11.381912Z"
    },
    "hidden": true
   },
   "outputs": [],
   "source": [
    "aux = 'Low' if category == 'single' else cat.name\n",
    "cal_pT = pTCalReader(calibration_file='../data/calibration/B0pTspectrum/pwWeights_{}.txt'.format(aux))"
   ]
  },
  {
   "cell_type": "code",
   "execution_count": 16,
   "metadata": {
    "ExecuteTime": {
     "end_time": "2020-05-06T07:30:11.457205Z",
     "start_time": "2020-05-06T07:30:11.442013Z"
    },
    "hidden": true
   },
   "outputs": [],
   "source": [
    "def computeB0pTweights(ds):\n",
    "    # The denominator (sum of weights) for this weights is not known but it cancel out in the ratio\n",
    "    w = cal_pT.f['C'](ds['MC_B_pt'])\n",
    "    if np.sum(w==0):\n",
    "        print np.sum(w==0)\n",
    "        raise\n",
    "    up = cal_pT.f['Up'](ds['MC_B_pt'])/w\n",
    "    down = cal_pT.f['Down'](ds['MC_B_pt'])/w\n",
    "    return w, up, down"
   ]
  },
  {
   "cell_type": "code",
   "execution_count": 17,
   "metadata": {
    "ExecuteTime": {
     "end_time": "2020-05-06T07:30:11.500703Z",
     "start_time": "2020-05-06T07:30:11.461853Z"
    },
    "hidden": true
   },
   "outputs": [],
   "source": [
    "def computeBrVarWeights(ds, pdgIdMother, var = 0.2):\n",
    "    pdgId = ds['MC_muMotherPdgId'].astype(np.int)\n",
    "    nTot = float(np.sum(pdgId == pdgIdMother))\n",
    "    w = np.ones_like(pdgId)\n",
    "    up = np.where(pdgId == pdgIdMother, 1.+var, 1.)\n",
    "    up = nTot/np.sum(up)\n",
    "    down = np.where(pdgId == pdgIdMother, 1.-var, 1.)\n",
    "    down = nTot/np.sum(down)\n",
    "    return w, up, down"
   ]
  },
  {
   "cell_type": "markdown",
   "metadata": {},
   "source": [
    "# Create MC histograms"
   ]
  },
  {
   "cell_type": "markdown",
   "metadata": {},
   "source": [
    "### Signal region"
   ]
  },
  {
   "cell_type": "code",
   "execution_count": 18,
   "metadata": {
    "ExecuteTime": {
     "end_time": "2020-05-06T07:30:11.548600Z",
     "start_time": "2020-05-06T07:30:11.505080Z"
    },
    "hide_input": false
   },
   "outputs": [],
   "source": [
    "binning = {\n",
    "    'M2_miss' : [\n",
    "        array('d', [-2.5] + list(np.arange(-1.8, 1.0, 0.4)) + [8] ),\n",
    "        array('d', [-2.5] + list(np.arange(-1.8, 3.0, 0.4)) + [8] ),\n",
    "        array('d', [-2.5] + list(np.arange(-1.8, 5.6, 0.4)) + [8] ),\n",
    "        array('d', [-2.5] + list(np.arange(-1.8, 7.6, 0.4)) + [8] ),\n",
    "    ],\n",
    "    'Est_mu'  : [\n",
    "        array('d', [0.3] + list(np.arange(0.7, 2.3, 0.1)) + [2.5] ),\n",
    "        array('d', [0.3] + list(np.arange(0.7, 2.5, 0.1)) + [2.5] ),\n",
    "        array('d', [0.3] + list(np.arange(0.5, 2.5, 0.1)) + [2.5] ),\n",
    "        [22, 0.3, 2.500],\n",
    "    ],\n",
    "}\n",
    "if fit_real_data:\n",
    "    binning['q2'] = array('d', [-2, 2.5, 6])\n",
    "else:\n",
    "    binning['q2'] = array('d', [-2, 2.5, 6, 9.4, 12])"
   ]
  },
  {
   "cell_type": "code",
   "execution_count": 19,
   "metadata": {
    "ExecuteTime": {
     "end_time": "2020-05-06T07:30:12.999769Z",
     "start_time": "2020-05-06T07:30:11.552974Z"
    },
    "code_folding": [],
    "hide_input": false,
    "scrolled": true
   },
   "outputs": [
    {
     "name": "stdout",
     "output_type": "stream",
     "text": [
      "\n",
      "-----------> tau <-------------\n",
      "N tot selected: 40.2k\n",
      "N tot expected (before weights): 6.0k\n",
      "Including pileup reweighting\n",
      "Including trigger corrections\n",
      "Including muon ID corrections\n",
      "Including B0 pT corrections\n",
      "Including FF corrections (Hammer)\n",
      "Computing total weights\n",
      "N tot expected (after weights): 6.6k\n",
      "\n",
      "-----------> DstPipPi0 <-------------\n",
      "N tot selected: 14.6k\n",
      "N tot expected (before weights): 0.2k\n",
      "Including pileup reweighting\n",
      "Including trigger corrections\n",
      "Including muon ID corrections\n",
      "Computing total weights\n",
      "N tot expected (after weights): 0.2k\n",
      "\n",
      "-----------> DstPi0 <-------------\n",
      "N tot selected: 48.7k\n",
      "N tot expected (before weights): 5.0k\n",
      "Including pileup reweighting\n",
      "Including trigger corrections\n",
      "Including muon ID corrections\n",
      "Including B0 pT corrections\n",
      "Computing total weights\n",
      "N tot expected (after weights): 5.4k\n",
      "\n",
      "-----------> mu <-------------\n",
      "N tot selected: 376.1k\n",
      "N tot expected (before weights): 118.5k\n",
      "Including pileup reweighting\n",
      "Including trigger corrections\n",
      "Including muon ID corrections\n",
      "Including B0 pT corrections\n",
      "Including FF corrections (Hammer)\n",
      "Computing total weights\n",
      "N tot expected (after weights): 123.3k\n",
      "\n",
      "-----------> DstPip <-------------\n",
      "N tot selected: 36.0k\n",
      "N tot expected (before weights): 4.4k\n",
      "Including pileup reweighting\n",
      "Including trigger corrections\n",
      "Including muon ID corrections\n",
      "Computing total weights\n",
      "N tot expected (after weights): 4.7k\n",
      "\n",
      "-----------> DstPipPim <-------------\n",
      "N tot selected: 5.8k\n",
      "N tot expected (before weights): 0.3k\n",
      "Including pileup reweighting\n",
      "Including trigger corrections\n",
      "Including muon ID corrections\n",
      "Including B0 pT corrections\n",
      "Computing total weights\n",
      "N tot expected (after weights): 0.3k\n",
      "\n",
      "-----------> Hc <-------------\n",
      "N tot selected: 15.2k\n",
      "N tot expected (before weights): 1.1k\n",
      "Including pileup reweighting\n",
      "Including trigger corrections\n",
      "Including muon ID corrections\n",
      "Including B0 pT corrections\n",
      "Including Hc mix variation\n",
      "Computing total weights\n",
      "N tot expected (after weights): 1.2k\n",
      "\n",
      "-----------> DstPi0Pi0 <-------------\n",
      "N tot selected: 46.6k\n",
      "N tot expected (before weights): 0.6k\n",
      "Including pileup reweighting\n",
      "Including trigger corrections\n",
      "Including muon ID corrections\n",
      "Including B0 pT corrections\n",
      "Computing total weights\n",
      "N tot expected (after weights): 0.6k\n"
     ]
    }
   ],
   "source": [
    "histo = {}\n",
    "for n, ds in dSet.iteritems():\n",
    "    if n == 'data': continue\n",
    "    print '\\n----------->', n, '<-------------'\n",
    "    sMC = MCsample[n]\n",
    "    \n",
    "    nTotSelected = ds['q2'].shape[0]\n",
    "    print 'N tot selected: {:.1f}k'.format(1e-3*nTotSelected)\n",
    "    nGenExp = sMC.effMCgen['xsec'][0] * lumi_tot * RDoMC_normRatio[0]\n",
    "    eff = [1, 0]\n",
    "    for f, df in [sMC.effMCgen['effGEN'], decayBR[n], sMC.effCand['effCAND'], sMC.getSkimEff(cat.name+'_corr')]:\n",
    "        eff[0] *= f\n",
    "        eff[1] += np.square(df/f)\n",
    "    eff[1] = eff[0] * np.sqrt(eff[1])\n",
    "    nTotExp = nGenExp*eff[0]\n",
    "    print 'N tot expected (before weights): {:.1f}k'.format(1e-3*nTotExp)\n",
    "    \n",
    "    wVar = {}\n",
    "    weights = {}\n",
    "    \n",
    "    print 'Including pileup reweighting'\n",
    "    weights['pileup'] = getPileupWeights(ds)\n",
    "    print 'Including trigger corrections'\n",
    "    weights['trgSF'], wVar['trgSFUp'], wVar['trgSFDown'] = computeTrgSF(ds)\n",
    "    print 'Including muon ID corrections'\n",
    "    weights['muonIdSF'], wVar['muonIdSFUp'], wVar['muonIdSFDown'] = computeMuonIDSF(ds)\n",
    "    if n in ['mu', 'tau', 'Hc','DstPi0', 'DstPipPim', 'DstPi0Pi0']: #B0 dominated final states (probably we should do something about B+ too)\n",
    "        print 'Including B0 pT corrections'\n",
    "        weights['B0pT'], wVar['B0pTUp'], wVar['B0pTDown'] = computeB0pTweights(ds)\n",
    "    # Hammer corrections to the FF\n",
    "    if n in ['mu', 'tau']:\n",
    "        print 'Including FF corrections (Hammer)'\n",
    "        weights['B2DstCLN'] = ds['wh_CLNCentral']*sMC.effCand['rate_den']/sMC.effCand['rate_Central']\n",
    "        for nPar in ['R0', 'R1', 'R2', 'RhoSq']:\n",
    "            for var in ['Up', 'Down']:\n",
    "                tag = 'CLN' + nPar + var\n",
    "                wVar['B2Dst'+tag] = ds['wh_'+tag]/sMC.effCand['rate_' + nPar + var]\n",
    "                wVar['B2Dst'+tag] *= sMC.effCand['rate_Central']/ds['wh_CLNCentral']\n",
    "    # Hc shape variation\n",
    "    if n == 'Hc':\n",
    "        print 'Including Hc mix variation'\n",
    "        _, wVar['HcmixD02muUp'], wVar['HcmixD02muDown'] = computeBrVarWeights(ds, 421, 0.2)\n",
    "        _, wVar['HcmixDs2muUp'], wVar['HcmixDs2muDown'] = computeBrVarWeights(ds, 431, 0.2)\n",
    "    \n",
    "    print 'Computing total weights'\n",
    "    weightsCentral = np.ones_like(ds['q2'])\n",
    "    for w in weights.values(): weightsCentral *= w\n",
    "    print 'N tot expected (after weights): {:.1f}k'.format(1e-3*nTotExp*np.sum(weightsCentral)/nTotSelected)\n",
    "    wVar[''] = np.ones_like(weightsCentral)\n",
    "    \n",
    "    for i_q2 in range(len(binning['q2'])-1):\n",
    "        q2_l = binning['q2'][i_q2]\n",
    "        q2_h = binning['q2'][i_q2 + 1]\n",
    "        sel_q2 = np.logical_and(ds['q2'] > q2_l, ds['q2'] < q2_h)\n",
    "        for var in ['M2_miss', 'Est_mu']:\n",
    "            cat_name = var+'_q2bin'+str(i_q2)\n",
    "            \n",
    "            if not cat_name in histo.keys():\n",
    "                histo[cat_name] = {}\n",
    "            \n",
    "            for name_wVar, v_wVar in wVar.iteritems():\n",
    "                h_name = n\n",
    "                if not name_wVar == '':\n",
    "                    h_name += '__' + name_wVar\n",
    "                w = weightsCentral*v_wVar\n",
    "                scale = nTotExp/nTotSelected\n",
    "                histo[cat_name][h_name] = create_TH1D(\n",
    "                                                      ds[var][sel_q2], \n",
    "                                                      name=h_name, title=h_name, \n",
    "                                                      binning=binning[var][i_q2], \n",
    "                                                      opt='underflow,overflow',\n",
    "                                                      weights=w[sel_q2], scale_histo=scale,\n",
    "                                                      )"
   ]
  },
  {
   "cell_type": "markdown",
   "metadata": {
    "heading_collapsed": true
   },
   "source": [
    "### Single track side"
   ]
  },
  {
   "cell_type": "code",
   "execution_count": 20,
   "metadata": {
    "ExecuteTime": {
     "end_time": "2020-05-06T07:30:13.078427Z",
     "start_time": "2020-05-06T07:30:13.003277Z"
    },
    "hidden": true
   },
   "outputs": [],
   "source": [
    "sideSelecton = {}\n",
    "sideVar = {}\n",
    "sideXtitle = {}\n",
    "sideAddtext = {}\n",
    "\n",
    "def selfun__TkPlus(ds):\n",
    "    sel = np.logical_and(ds['N_goodAddTks'] == 1, ds['tkCharge_0'] > 0)\n",
    "    return sel\n",
    "#     return np.logical_and(np.abs(ds['tkMassHad_0'] - 2.43) < 0.3, sel)\n",
    "sideSelecton['AddTk_p_mHad'] = selfun__TkPlus\n",
    "sideVar['AddTk_p_mHad'] = 'tkMassHad_0'\n",
    "binning['AddTk_p_mHad'] = [35, 2.13, 2.83]\n",
    "sideXtitle['AddTk_p_mHad'] = 'Total hadrons mass'\n",
    "sideAddtext['AddTk_p_mHad'] = 'N_{tk} = 1 & Q_{tk} = +1'\n",
    "\n",
    "def selfun__TkMinus(ds):\n",
    "    sel = np.logical_and(ds['N_goodAddTks'] == 1, ds['tkCharge_0'] < 0)\n",
    "    return sel\n",
    "sideSelecton['AddTk_m_mHad'] = selfun__TkMinus\n",
    "sideVar['AddTk_m_mHad'] = 'tkMassHad_0'\n",
    "binning['AddTk_m_mHad'] = [30, 2.1, 3.3]\n",
    "sideXtitle['AddTk_m_mHad'] = 'Total hadrons mass'\n",
    "sideAddtext['AddTk_m_mHad'] = 'N_{tk} = 1 & Q_{tk} = -1'\n",
    "\n",
    "\n",
    "def selfun__TkPlusMinus(ds):\n",
    "    sel = np.logical_and(ds['tkCharge_0']+ds['tkCharge_1'] == 0, ds['N_goodAddTks'] == 2)\n",
    "    sel = np.logical_and(ds['tkMassVis12'] < 5.3, sel)\n",
    "    return sel\n",
    "sideSelecton['AddTk_pm_mVis'] = selfun__TkPlusMinus\n",
    "sideVar['AddTk_pm_mVis'] = 'tkMassVis12'\n",
    "binning['AddTk_pm_mVis'] = array('d', [2.8] + list(np.arange(3., 5.3, 0.1)) + [5.3] )\n",
    "sideXtitle['AddTk_pm_mVis'] = 'Total visible mass'\n",
    "sideAddtext['AddTk_pm_mVis'] = 'N_{tk} = 2 & #sumQ_{tk} = 0'\n",
    "\n",
    "\n",
    "sideSelecton['AddTk_pm_mHad'] = selfun__TkPlusMinus\n",
    "sideVar['AddTk_pm_mHad'] = 'tkMassHad12'\n",
    "binning['AddTk_pm_mHad'] = [30, 2.25, 3.75]\n",
    "sideXtitle['AddTk_pm_mHad'] = 'Total hadrons mass'\n",
    "sideAddtext['AddTk_pm_mHad'] = 'N_{tk} = 2 & #sumQ_{tk} = 0'\n",
    "\n",
    "def selfun__TkMinusMinus(ds):\n",
    "    sel = np.logical_and(ds['tkCharge_0']+ds['tkCharge_1'] == -2, ds['N_goodAddTks'] == 2)\n",
    "    sel = np.logical_and(ds['tkMassVis12'] < 5.3, sel)\n",
    "    return sel\n",
    "sideSelecton['AddTk_mm_mHad'] = selfun__TkMinusMinus\n",
    "sideVar['AddTk_mm_mHad'] = 'tkMassHad12'\n",
    "binning['AddTk_mm_mHad'] = [15, 2.25, 3.75]\n",
    "sideXtitle['AddTk_mm_mHad'] = 'Total hadrons mass'\n",
    "sideAddtext['AddTk_mm_mHad'] = 'N_{tk} = 2 & #sumQ_{tk} = -2'\n",
    "\n",
    "def selfun__TkPlusPlus(ds):\n",
    "    sel = np.logical_and(ds['tkCharge_0']+ds['tkCharge_1'] == +2, ds['N_goodAddTks'] == 2)\n",
    "    sel = np.logical_and(ds['tkMassVis12'] < 5.3, sel)\n",
    "    return sel\n",
    "sideSelecton['AddTk_pp_mHad'] = selfun__TkPlusPlus\n",
    "sideVar['AddTk_pp_mHad'] = 'tkMassHad12'\n",
    "binning['AddTk_pp_mHad'] = [15, 2.25, 3.75]\n",
    "sideXtitle['AddTk_pp_mHad'] = 'Total hadrons mass'\n",
    "sideAddtext['AddTk_pp_mHad'] = 'N_{tk} = 2 & #sumQ_{tk} = +2'"
   ]
  },
  {
   "cell_type": "code",
   "execution_count": 21,
   "metadata": {
    "ExecuteTime": {
     "end_time": "2020-05-06T07:30:13.965731Z",
     "start_time": "2020-05-06T07:30:13.082867Z"
    },
    "hidden": true,
    "scrolled": true
   },
   "outputs": [
    {
     "name": "stdout",
     "output_type": "stream",
     "text": [
      "\n",
      "-----------> tau <-------------\n",
      "Including pileup reweighting\n",
      "Including trigger corrections\n",
      "Including muon ID corrections\n",
      "Including B0 pT corrections\n",
      "Including FF corrections (Hammer)\n",
      "Computing total weights\n",
      "N tot selected AddTk_pm_mHad: 111\n",
      "N tot expected AddTk_pm_mHad (before weights): 17\n",
      "N tot expected AddTk_pm_mHad (after weights): 16\n",
      "N tot selected AddTk_m_mHad: 1294\n",
      "N tot expected AddTk_m_mHad (before weights): 194\n",
      "N tot expected AddTk_m_mHad (after weights): 202\n",
      "N tot selected AddTk_p_mHad: 1832\n",
      "N tot expected AddTk_p_mHad (before weights): 274\n",
      "N tot expected AddTk_p_mHad (after weights): 291\n",
      "N tot selected AddTk_pp_mHad: 54\n",
      "N tot expected AddTk_pp_mHad (before weights): 8\n",
      "N tot expected AddTk_pp_mHad (after weights): 9\n",
      "N tot selected AddTk_mm_mHad: 32\n",
      "N tot expected AddTk_mm_mHad (before weights): 5\n",
      "N tot expected AddTk_mm_mHad (after weights): 5\n",
      "N tot selected AddTk_pm_mVis: 111\n",
      "N tot expected AddTk_pm_mVis (before weights): 17\n",
      "N tot expected AddTk_pm_mVis (after weights): 16\n",
      "\n",
      "-----------> DstPipPi0 <-------------\n",
      "Including pileup reweighting\n",
      "Including trigger corrections\n",
      "Including muon ID corrections\n",
      "Computing total weights\n",
      "N tot selected AddTk_pm_mHad: 1433\n",
      "N tot expected AddTk_pm_mHad (before weights): 21\n",
      "N tot expected AddTk_pm_mHad (after weights): 22\n",
      "N tot selected AddTk_m_mHad: 782\n",
      "N tot expected AddTk_m_mHad (before weights): 11\n",
      "N tot expected AddTk_m_mHad (after weights): 12\n",
      "N tot selected AddTk_p_mHad: 32011\n",
      "N tot expected AddTk_p_mHad (before weights): 470\n",
      "N tot expected AddTk_p_mHad (after weights): 497\n",
      "N tot selected AddTk_pp_mHad: 1212\n",
      "N tot expected AddTk_pp_mHad (before weights): 18\n",
      "N tot expected AddTk_pp_mHad (after weights): 18\n",
      "N tot selected AddTk_mm_mHad: 30\n",
      "N tot expected AddTk_mm_mHad (before weights): 0\n",
      "N tot expected AddTk_mm_mHad (after weights): 0\n",
      "N tot selected AddTk_pm_mVis: 1433\n",
      "N tot expected AddTk_pm_mVis (before weights): 21\n",
      "N tot expected AddTk_pm_mVis (after weights): 22\n",
      "\n",
      "-----------> DstPi0 <-------------\n",
      "Including pileup reweighting\n",
      "Including trigger corrections\n",
      "Including muon ID corrections\n",
      "Including B0 pT corrections\n",
      "Computing total weights\n",
      "N tot selected AddTk_pm_mHad: 256\n",
      "N tot expected AddTk_pm_mHad (before weights): 26\n",
      "N tot expected AddTk_pm_mHad (after weights): 29\n",
      "N tot selected AddTk_m_mHad: 2219\n",
      "N tot expected AddTk_m_mHad (before weights): 226\n",
      "N tot expected AddTk_m_mHad (after weights): 230\n",
      "N tot selected AddTk_p_mHad: 2744\n",
      "N tot expected AddTk_p_mHad (before weights): 280\n",
      "N tot expected AddTk_p_mHad (after weights): 289\n",
      "N tot selected AddTk_pp_mHad: 104\n",
      "N tot expected AddTk_pp_mHad (before weights): 11\n",
      "N tot expected AddTk_pp_mHad (after weights): 11\n",
      "N tot selected AddTk_mm_mHad: 73\n",
      "N tot expected AddTk_mm_mHad (before weights): 7\n",
      "N tot expected AddTk_mm_mHad (after weights): 7\n",
      "N tot selected AddTk_pm_mVis: 256\n",
      "N tot expected AddTk_pm_mVis (before weights): 26\n",
      "N tot expected AddTk_pm_mVis (after weights): 29\n",
      "\n",
      "-----------> mu <-------------\n",
      "Including pileup reweighting\n",
      "Including trigger corrections\n",
      "Including muon ID corrections\n",
      "Including B0 pT corrections\n",
      "Including FF corrections (Hammer)\n",
      "Computing total weights\n",
      "N tot selected AddTk_pm_mHad: 1485\n",
      "N tot expected AddTk_pm_mHad (before weights): 468\n",
      "N tot expected AddTk_pm_mHad (after weights): 468\n",
      "N tot selected AddTk_m_mHad: 16116\n",
      "N tot expected AddTk_m_mHad (before weights): 5080\n",
      "N tot expected AddTk_m_mHad (after weights): 5009\n",
      "N tot selected AddTk_p_mHad: 19716\n",
      "N tot expected AddTk_p_mHad (before weights): 6215\n",
      "N tot expected AddTk_p_mHad (after weights): 6224\n",
      "N tot selected AddTk_pp_mHad: 719\n",
      "N tot expected AddTk_pp_mHad (before weights): 227\n",
      "N tot expected AddTk_pp_mHad (after weights): 231\n",
      "N tot selected AddTk_mm_mHad: 513\n",
      "N tot expected AddTk_mm_mHad (before weights): 162\n",
      "N tot expected AddTk_mm_mHad (after weights): 165\n",
      "N tot selected AddTk_pm_mVis: 1485\n",
      "N tot expected AddTk_pm_mVis (before weights): 468\n",
      "N tot expected AddTk_pm_mVis (after weights): 468\n",
      "\n",
      "-----------> DstPip <-------------\n",
      "Including pileup reweighting\n",
      "Including trigger corrections\n",
      "Including muon ID corrections\n",
      "Computing total weights\n",
      "N tot selected AddTk_pm_mHad: 2684\n",
      "N tot expected AddTk_pm_mHad (before weights): 331\n",
      "N tot expected AddTk_pm_mHad (after weights): 337\n",
      "N tot selected AddTk_m_mHad: 1797\n",
      "N tot expected AddTk_m_mHad (before weights): 221\n",
      "N tot expected AddTk_m_mHad (after weights): 224\n",
      "N tot selected AddTk_p_mHad: 62378\n",
      "N tot expected AddTk_p_mHad (before weights): 7683\n",
      "N tot expected AddTk_p_mHad (after weights): 8069\n",
      "N tot selected AddTk_pp_mHad: 2121\n",
      "N tot expected AddTk_pp_mHad (before weights): 261\n",
      "N tot expected AddTk_pp_mHad (after weights): 269\n",
      "N tot selected AddTk_mm_mHad: 64\n",
      "N tot expected AddTk_mm_mHad (before weights): 8\n",
      "N tot expected AddTk_mm_mHad (after weights): 8\n",
      "N tot selected AddTk_pm_mVis: 2684\n",
      "N tot expected AddTk_pm_mVis (before weights): 331\n",
      "N tot expected AddTk_pm_mVis (after weights): 337\n",
      "\n",
      "-----------> DstPipPim <-------------\n",
      "Including pileup reweighting\n",
      "Including trigger corrections\n",
      "Including muon ID corrections\n",
      "Including B0 pT corrections\n",
      "Computing total weights\n",
      "N tot selected AddTk_pm_mHad: 17740\n",
      "N tot expected AddTk_pm_mHad (before weights): 848\n",
      "N tot expected AddTk_pm_mHad (after weights): 934\n",
      "N tot selected AddTk_m_mHad: 7047\n",
      "N tot expected AddTk_m_mHad (before weights): 337\n",
      "N tot expected AddTk_m_mHad (after weights): 350\n",
      "N tot selected AddTk_p_mHad: 9237\n",
      "N tot expected AddTk_p_mHad (before weights): 441\n",
      "N tot expected AddTk_p_mHad (after weights): 458\n",
      "N tot selected AddTk_pp_mHad: 381\n",
      "N tot expected AddTk_pp_mHad (before weights): 18\n",
      "N tot expected AddTk_pp_mHad (after weights): 18\n",
      "N tot selected AddTk_mm_mHad: 266\n",
      "N tot expected AddTk_mm_mHad (before weights): 13\n",
      "N tot expected AddTk_mm_mHad (after weights): 13\n",
      "N tot selected AddTk_pm_mVis: 17740\n",
      "N tot expected AddTk_pm_mVis (before weights): 848\n",
      "N tot expected AddTk_pm_mVis (after weights): 934\n",
      "\n",
      "-----------> Hc <-------------\n",
      "Including pileup reweighting\n",
      "Including trigger corrections\n",
      "Including muon ID corrections\n",
      "Including B0 pT corrections\n",
      "Including Hc mix variation\n",
      "Computing total weights\n",
      "N tot selected AddTk_pm_mHad: 4715\n",
      "N tot expected AddTk_pm_mHad (before weights): 343\n",
      "N tot expected AddTk_pm_mHad (after weights): 403\n",
      "N tot selected AddTk_m_mHad: 1853\n",
      "N tot expected AddTk_m_mHad (before weights): 135\n",
      "N tot expected AddTk_m_mHad (after weights): 145\n",
      "N tot selected AddTk_p_mHad: 3111\n",
      "N tot expected AddTk_p_mHad (before weights): 226\n",
      "N tot expected AddTk_p_mHad (after weights): 255\n",
      "N tot selected AddTk_pp_mHad: 177\n",
      "N tot expected AddTk_pp_mHad (before weights): 13\n",
      "N tot expected AddTk_pp_mHad (after weights): 15\n",
      "N tot selected AddTk_mm_mHad: 64\n",
      "N tot expected AddTk_mm_mHad (before weights): 5\n",
      "N tot expected AddTk_mm_mHad (after weights): 5\n",
      "N tot selected AddTk_pm_mVis: 4715\n",
      "N tot expected AddTk_pm_mVis (before weights): 343\n",
      "N tot expected AddTk_pm_mVis (after weights): 403\n",
      "\n",
      "-----------> DstPi0Pi0 <-------------\n",
      "Including pileup reweighting\n",
      "Including trigger corrections\n",
      "Including muon ID corrections\n",
      "Including B0 pT corrections\n",
      "Computing total weights\n",
      "N tot selected AddTk_pm_mHad: 230\n",
      "N tot expected AddTk_pm_mHad (before weights): 3\n",
      "N tot expected AddTk_pm_mHad (after weights): 3\n",
      "N tot selected AddTk_m_mHad: 2073\n",
      "N tot expected AddTk_m_mHad (before weights): 25\n",
      "N tot expected AddTk_m_mHad (after weights): 26\n",
      "N tot selected AddTk_p_mHad: 2497\n",
      "N tot expected AddTk_p_mHad (before weights): 30\n",
      "N tot expected AddTk_p_mHad (after weights): 31\n",
      "N tot selected AddTk_pp_mHad: 100\n",
      "N tot expected AddTk_pp_mHad (before weights): 1\n",
      "N tot expected AddTk_pp_mHad (after weights): 1\n",
      "N tot selected AddTk_mm_mHad: 75\n",
      "N tot expected AddTk_mm_mHad (before weights): 1\n",
      "N tot expected AddTk_mm_mHad (after weights): 1\n",
      "N tot selected AddTk_pm_mVis: 230\n",
      "N tot expected AddTk_pm_mVis (before weights): 3\n",
      "N tot expected AddTk_pm_mVis (after weights): 3\n"
     ]
    }
   ],
   "source": [
    "for k in sideSelecton.keys():\n",
    "    histo[k] = {}\n",
    "\n",
    "for n, ds in dSetTkSide.iteritems():\n",
    "    if n == 'data': continue\n",
    "    print '\\n----------->', n, '<-------------'\n",
    "    sMC = MCsample[n]    \n",
    "    wVar = {}\n",
    "    weights = {}\n",
    "    \n",
    "    print 'Including pileup reweighting'\n",
    "    weights['pileup'] = getPileupWeights(ds)\n",
    "    print 'Including trigger corrections'\n",
    "    weights['trgSF'], wVar['trgSFUp'], wVar['trgSFDown'] = computeTrgSF(ds)\n",
    "    print 'Including muon ID corrections'\n",
    "    weights['muonIdSF'], wVar['muonIdSFUp'], wVar['muonIdSFDown'] = computeMuonIDSF(ds)\n",
    "    if n in ['mu', 'tau', 'Hc','DstPi0', 'DstPipPim', 'DstPi0Pi0']: #B0 dominated final states (probably we should do something about B+ too)\n",
    "        print 'Including B0 pT corrections'\n",
    "        weights['B0pT'], wVar['B0pTUp'], wVar['B0pTDown'] = computeB0pTweights(ds)\n",
    "    # Hammer corrections to the FF\n",
    "    if n in ['mu', 'tau']:\n",
    "        print 'Including FF corrections (Hammer)'\n",
    "        weights['B2DstCLN'] = ds['wh_CLNCentral']*sMC.effCand['rate_den']/sMC.effCand['rate_Central']\n",
    "        for nPar in ['R0', 'R1', 'R2', 'RhoSq']:\n",
    "            for var in ['Up', 'Down']:\n",
    "                tag = 'CLN' + nPar + var\n",
    "                wVar['B2Dst'+tag] = ds['wh_'+tag]/sMC.effCand['rate_' + nPar + var]\n",
    "                wVar['B2Dst'+tag] *= sMC.effCand['rate_Central']/ds['wh_CLNCentral']\n",
    "    # Hc shape variation\n",
    "    if n == 'Hc':\n",
    "        print 'Including Hc mix variation'\n",
    "        _, wVar['HcmixD02muUp'], wVar['HcmixD02muDown'] = computeBrVarWeights(ds, 421, 0.2)\n",
    "        _, wVar['HcmixDs2muUp'], wVar['HcmixDs2muDown'] = computeBrVarWeights(ds, 431, 0.2)\n",
    "    \n",
    "    print 'Computing total weights'\n",
    "    weightsCentral = np.ones_like(ds['q2'])\n",
    "    for w in weights.values(): weightsCentral *= w\n",
    "    wVar[''] = np.ones_like(weightsCentral)\n",
    "    \n",
    "    nGenExp = sMC.effMCgen['xsec'][0] * lumi_tot * RDoMC_normRatio[0]\n",
    "    eff = [1, 0]\n",
    "    for f, df in [sMC.effMCgen['effGEN'], \n",
    "                  decayBR[n], \n",
    "                  sMC.effCand['effCAND'], \n",
    "                  sMC.getSkimEff(cat.name+'_skip17_corr'),\n",
    "                 ]:\n",
    "        eff[0] *= f\n",
    "        eff[1] += np.square(df/f)\n",
    "    eff[1] = eff[0] * np.sqrt(eff[1])\n",
    "    nTotExp = nGenExp*eff[0]\n",
    "    \n",
    "    sel = {}\n",
    "    scale = {}\n",
    "    \n",
    "    for k, selFun in sideSelecton.iteritems():\n",
    "        sel[k] = selFun(ds)\n",
    "        nTotSel = float(np.sum(sel[k]))\n",
    "        print 'N tot selected {}: {:.0f}'.format(k, nTotSel)\n",
    "        nExp = nTotExp * nTotSel / sel[k].shape[0]\n",
    "        print 'N tot expected {} (before weights): {:.0f}'.format(k, nExp)\n",
    "        nAux = nTotExp * np.sum(weightsCentral[sel[k]]) / sel[k].shape[0]\n",
    "        print 'N tot expected {} (after weights): {:.0f}'.format(k, nAux)\n",
    "        scale[k] = nExp/nTotSel\n",
    "    \n",
    "            \n",
    "    for name_wVar, v_wVar in wVar.iteritems():\n",
    "        h_name = n\n",
    "        if not name_wVar == '':\n",
    "            h_name += '__' + name_wVar\n",
    "        w = weightsCentral*v_wVar\n",
    "        \n",
    "        for k in sideVar.keys():\n",
    "            histo[k][h_name] = create_TH1D(\n",
    "                                           ds[sideVar[k]][sel[k]], \n",
    "                                           name=h_name, title=h_name, \n",
    "                                           binning=binning[k],\n",
    "                                           opt='underflow,overflow',\n",
    "                                           weights=w[sel[k]], scale_histo=scale[k]\n",
    "                                          )"
   ]
  },
  {
   "cell_type": "markdown",
   "metadata": {
    "heading_collapsed": true
   },
   "source": [
    "# Create (pseudo-)data histogram"
   ]
  },
  {
   "cell_type": "code",
   "execution_count": 22,
   "metadata": {
    "ExecuteTime": {
     "end_time": "2020-05-06T07:30:14.088793Z",
     "start_time": "2020-05-06T07:30:13.970356Z"
    },
    "hidden": true
   },
   "outputs": [
    {
     "name": "stdout",
     "output_type": "stream",
     "text": [
      "N observed data: 162.7k\n"
     ]
    }
   ],
   "source": [
    "if fit_real_data:\n",
    "    ds = dSet['data']\n",
    "    print 'N observed data: {:.1f}k'.format(1e-3*ds['q2'].shape[0])\n",
    "    for i_q2 in range(len(binning['q2'])-1):\n",
    "        q2_l = binning['q2'][i_q2]\n",
    "        q2_h = binning['q2'][i_q2 + 1]\n",
    "        sel_q2 = np.logical_and(ds['q2'] > q2_l, ds['q2'] < q2_h)\n",
    "        for var in ['M2_miss', 'Est_mu']:\n",
    "            cat_name = var+'_q2bin'+str(i_q2)     \n",
    "            histo[cat_name]['data'] = create_TH1D(\n",
    "                                                  ds[var][sel_q2], \n",
    "                                                  name='data_obs', title='Data Obs',\n",
    "                                                  binning=binning[var][i_q2],\n",
    "                                                  opt='underflow,overflow'\n",
    "                                                 )\n",
    "    ds = dSetTkSide['data']\n",
    "    for k in sideVar.keys():\n",
    "        histo[k]['data'] = create_TH1D(\n",
    "                                       ds[sideVar[k]][sideSelecton[k](ds)], \n",
    "                                       name='data_obs', title='Data Obs', \n",
    "                                       binning=binning[k],\n",
    "                                       opt='underflow,overflow',\n",
    "                                      )\n",
    "        \n",
    "else:\n",
    "    for i_q2 in range(len(binning['q2'])-1):\n",
    "        for var in ['M2_miss', 'Est_mu']:\n",
    "            cat_name = var+'_q2bin'+str(i_q2)\n",
    "            \n",
    "            h = create_TH1D(np.array([0, 0]), name='data_obs', title='Data Obs', binning=binning[var][i_q2])\n",
    "            h.Reset()\n",
    "            for n, hMC in histo[cat_name].iteritems():\n",
    "                if not '__' in n and not n == 'data':\n",
    "                    scale = SM_RDst if 'tau' in n else 1.\n",
    "                    h.Add(hMC, scale)\n",
    "            h.Sumw2(0)\n",
    "            for i in range(1, h.GetNbinsX()+1):\n",
    "                h.SetBinContent(i, np.around(h.GetBinContent(i)))\n",
    "            h.Sumw2()\n",
    "            histo[cat_name]['data'] = h\n",
    "            \n",
    "    for k in sideVar.keys():\n",
    "        h = create_TH1D(np.array([0, 0]), name='data_obs', title='Data Obs', \n",
    "                        binning=binning[k])\n",
    "        h.Reset()\n",
    "        for n, hMC in histo[k].iteritems():\n",
    "            if not '__' in n and not n == 'data':\n",
    "                scale = SM_RDst if 'tau' in n else 1.\n",
    "                h.Add(hMC, scale)\n",
    "        h.Sumw2(0)\n",
    "        for i in range(1, h.GetNbinsX()+1):\n",
    "            h.SetBinContent(i, np.around(h.GetBinContent(i)))\n",
    "        h.Sumw2()\n",
    "        histo[k]['data'] = h"
   ]
  },
  {
   "cell_type": "code",
   "execution_count": 23,
   "metadata": {
    "ExecuteTime": {
     "end_time": "2020-05-06T07:30:14.691913Z",
     "start_time": "2020-05-06T07:30:14.093548Z"
    },
    "hidden": true,
    "scrolled": true
   },
   "outputs": [
    {
     "data": {
      "image/png": "[encoded data removed]",
      "text/plain": [
       "<IPython.core.display.Image object>"
      ]
     },
     "metadata": {},
     "output_type": "display_data"
    }
   ],
   "source": [
    "CMS_lumi.integrated_lumi = lumi_tot\n",
    "scale_dic = {'tau': SM_RDst\n",
    "            }\n",
    "\n",
    "cSigPre = plot_gridVarQ2(CMS_lumi, binning, histo, scale_dic=scale_dic, min_y=1, logy=False)"
   ]
  },
  {
   "cell_type": "code",
   "execution_count": 24,
   "metadata": {
    "ExecuteTime": {
     "end_time": "2020-05-06T07:30:14.995807Z",
     "start_time": "2020-05-06T07:30:14.696524Z"
    },
    "hidden": true,
    "scrolled": true
   },
   "outputs": [
    {
     "data": {
      "image/png": "[encoded data removed]",
      "text/plain": [
       "<IPython.core.display.Image object>"
      ]
     },
     "metadata": {},
     "output_type": "display_data"
    },
    {
     "data": {
      "image/png": "[encoded data removed]",
      "text/plain": [
       "<IPython.core.display.Image object>"
      ]
     },
     "metadata": {},
     "output_type": "display_data"
    },
    {
     "data": {
      "image/png": "[encoded data removed]",
      "text/plain": [
       "<IPython.core.display.Image object>"
      ]
     },
     "metadata": {},
     "output_type": "display_data"
    },
    {
     "data": {
      "image/png": "[encoded data removed]",
      "text/plain": [
       "<IPython.core.display.Image object>"
      ]
     },
     "metadata": {},
     "output_type": "display_data"
    },
    {
     "data": {
      "image/png": "[encoded data removed]",
      "text/plain": [
       "<IPython.core.display.Image object>"
      ]
     },
     "metadata": {},
     "output_type": "display_data"
    },
    {
     "data": {
      "image/png": "[encoded data removed]",
      "text/plain": [
       "<IPython.core.display.Image object>"
      ]
     },
     "metadata": {},
     "output_type": "display_data"
    }
   ],
   "source": [
    "cSidePre = {}\n",
    "for k in np.sort(sideVar.keys()):\n",
    "    legLoc = [0.65, 0.4, 0.9, 0.7]\n",
    "    if 'MassVis' in sideVar[k]:\n",
    "        legLoc = [0.15, 0.45, 0.35, 0.75]\n",
    "    cSidePre[k] = plot_SingleCategory(CMS_lumi, histo[k], scale_dic=scale_dic,\n",
    "                                      xtitle=sideXtitle[k], addText=sideAddtext[k], \n",
    "                                      tag=k, legLoc=legLoc)"
   ]
  },
  {
   "cell_type": "code",
   "execution_count": 25,
   "metadata": {
    "ExecuteTime": {
     "end_time": "2020-05-06T07:30:15.625504Z",
     "start_time": "2020-05-06T07:30:15.000416Z"
    },
    "hidden": true
   },
   "outputs": [],
   "source": [
    "histo_file_dir = '../data/_root/histos4combine/'\n",
    "if not os.path.isdir(histo_file_dir):\n",
    "    os.makedirs(histo_file_dir)\n",
    "histo_file_loc = {}\n",
    "for cat_name, h_dic in histo.iteritems():\n",
    "    histo_file_loc[cat_name] = histo_file_dir+'{}_{}.root'.format(card_name, cat_name)\n",
    "    tf = rt.TFile(histo_file_loc[cat_name], 'recreate')\n",
    "    for v in h_dic.values():\n",
    "        v.Write()\n",
    "    tf.Close()\n",
    "    \n",
    "del dSet, dSetTkSide"
   ]
  },
  {
   "cell_type": "markdown",
   "metadata": {},
   "source": [
    "# Write the card"
   ]
  },
  {
   "cell_type": "code",
   "execution_count": 26,
   "metadata": {
    "ExecuteTime": {
     "end_time": "2020-05-06T07:30:15.658422Z",
     "start_time": "2020-05-06T07:30:15.632182Z"
    }
   },
   "outputs": [],
   "source": [
    "sig_processes = ['tau', 'mu']\n",
    "bkg_processes = ['Hc', 'DstPip', 'DstPipPi0', 'DstPi0', 'DstPipPim', 'DstPi0Pi0']\n",
    "processes = sig_processes + bkg_processes\n",
    "nProc = len(processes)\n",
    "categories = np.sort([k for k in histo.keys()])\n",
    "nCat = len(categories)"
   ]
  },
  {
   "cell_type": "code",
   "execution_count": 27,
   "metadata": {
    "ExecuteTime": {
     "end_time": "2020-05-06T07:30:15.769793Z",
     "start_time": "2020-05-06T07:30:15.664121Z"
    }
   },
   "outputs": [],
   "source": [
    "card_location = 'cards/{}.txt'.format(card_name)\n",
    "fc = open(card_location, 'w')"
   ]
  },
  {
   "cell_type": "code",
   "execution_count": 28,
   "metadata": {
    "ExecuteTime": {
     "end_time": "2020-05-06T07:30:15.813790Z",
     "start_time": "2020-05-06T07:30:15.775056Z"
    }
   },
   "outputs": [],
   "source": [
    "# number of different categories\n",
    "card = 'imax *\\n'\n",
    "# number of processes minus one\n",
    "card += 'jmax {}\\n'.format(len(processes)-1)\n",
    "# number of nuissance parameters\n",
    "card += 'kmax *\\n'\n",
    "card += '--------------------------------------------------------------\\n'"
   ]
  },
  {
   "cell_type": "code",
   "execution_count": 29,
   "metadata": {
    "ExecuteTime": {
     "end_time": "2020-05-06T07:30:15.836152Z",
     "start_time": "2020-05-06T07:30:15.819396Z"
    }
   },
   "outputs": [],
   "source": [
    "# shape file location\n",
    "for k in categories:\n",
    "    card += 'shapes * {} {} $PROCESS $PROCESS__$SYSTEMATIC\\n'.format(k, histo_file_loc[k])\n",
    "card += '--------------------------------------------------------------\\n'"
   ]
  },
  {
   "cell_type": "markdown",
   "metadata": {
    "heading_collapsed": true
   },
   "source": [
    "### Number of events"
   ]
  },
  {
   "cell_type": "code",
   "execution_count": 30,
   "metadata": {
    "ExecuteTime": {
     "end_time": "2020-05-06T07:30:15.865895Z",
     "start_time": "2020-05-06T07:30:15.841029Z"
    },
    "hidden": true
   },
   "outputs": [],
   "source": [
    "# number of events observed\n",
    "card += 'bin ' + ' '.join(categories) + '\\n'\n",
    "obs = map(lambda k: '{:.0f}'.format(histo[k]['data'].Integral()), categories)\n",
    "obs = ' '.join(obs)\n",
    "card += 'observation ' + obs + '\\n'\n",
    "card += '--------------------------------------------------------------\\n'"
   ]
  },
  {
   "cell_type": "code",
   "execution_count": 31,
   "metadata": {
    "ExecuteTime": {
     "end_time": "2020-05-06T07:30:15.894367Z",
     "start_time": "2020-05-06T07:30:15.869559Z"
    },
    "hidden": true
   },
   "outputs": [],
   "source": [
    "# MC expected events\n",
    "aux_bin = ''\n",
    "aux_proc_name = ''\n",
    "aux_proc_id = ''\n",
    "aux_proc_rate = ''\n",
    "for c, p in itertools.product(categories, processes):\n",
    "    aux_bin += ' '+c\n",
    "    aux_proc_name += ' '+p\n",
    "    aux_proc_id += ' '+str(np.argmax(np.array(processes) == p))\n",
    "    aux_proc_rate += ' {:.2f}'.format(histo[c][p].Integral())\n",
    "    \n",
    "card += 'bin' + aux_bin + '\\n'\n",
    "card += 'process' + aux_proc_name + '\\n'\n",
    "# Zero or negative for sig and positive for bkg\n",
    "card += 'process' + aux_proc_id + '\\n'\n",
    "# Expected rate\n",
    "card += 'rate' + aux_proc_rate + '\\n'\n",
    "card += '--------------------------------------------------------------\\n'"
   ]
  },
  {
   "cell_type": "markdown",
   "metadata": {},
   "source": [
    "## Systematic uncertainties"
   ]
  },
  {
   "cell_type": "markdown",
   "metadata": {
    "heading_collapsed": true
   },
   "source": [
    "### Scale systematics"
   ]
  },
  {
   "cell_type": "code",
   "execution_count": 32,
   "metadata": {
    "ExecuteTime": {
     "end_time": "2020-05-06T07:30:15.953333Z",
     "start_time": "2020-05-06T07:30:15.898684Z"
    },
    "hidden": true
   },
   "outputs": [],
   "source": [
    "#pp -> bb cros-section * luminosity\n",
    "card += 'xsecpp2bbXlumi lnN' + ' 1.9'*nProc*nCat + '\\n'"
   ]
  },
  {
   "cell_type": "code",
   "execution_count": 33,
   "metadata": {
    "ExecuteTime": {
     "end_time": "2020-05-06T07:30:15.973942Z",
     "start_time": "2020-05-06T07:30:15.956971Z"
    },
    "hidden": true
   },
   "outputs": [],
   "source": [
    "#Hadronization fraction of B0\n",
    "aux = ''\n",
    "for n in processes:\n",
    "    if n in ['tau', 'mu', 'Hc', 'DstPi0', 'DstPipPim', 'DstPi0Pi0']: aux += ' 3'\n",
    "    else: aux += ' -'\n",
    "card += 'b2B0Had lnN' + aux*nCat + '\\n'"
   ]
  },
  {
   "cell_type": "code",
   "execution_count": 34,
   "metadata": {
    "ExecuteTime": {
     "end_time": "2020-05-06T07:30:16.004368Z",
     "start_time": "2020-05-06T07:30:15.977284Z"
    },
    "hidden": true
   },
   "outputs": [],
   "source": [
    "#Hadronization fraction of B+\n",
    "aux = ''\n",
    "for n in processes:\n",
    "    if n in ['DstPip', 'DstPipPi0']: aux += ' 3'\n",
    "    else: aux += ' -'\n",
    "card += 'b2BpHad lnN' + aux*nCat + '\\n'"
   ]
  },
  {
   "cell_type": "code",
   "execution_count": 35,
   "metadata": {
    "ExecuteTime": {
     "end_time": "2020-05-06T07:30:16.055900Z",
     "start_time": "2020-05-06T07:30:16.009000Z"
    },
    "hidden": true
   },
   "outputs": [],
   "source": [
    "# Selection efficiencies\n",
    "for n in processes:\n",
    "    if n == 'tau': continue\n",
    "    val = ' {:.2f}'.format(1+decayBR[n][1]/decayBR[n][0])\n",
    "    aux = ''\n",
    "    for nn in processes:\n",
    "        if nn == n: aux += val\n",
    "        else: aux += ' -'\n",
    "    card += n + 'Br lnN' + aux*nCat + '\\n'"
   ]
  },
  {
   "cell_type": "code",
   "execution_count": 36,
   "metadata": {
    "ExecuteTime": {
     "end_time": "2020-05-06T07:30:16.104766Z",
     "start_time": "2020-05-06T07:30:16.059249Z"
    },
    "hidden": true
   },
   "outputs": [],
   "source": [
    "card += '--------------------------------------------------------------\\n'"
   ]
  },
  {
   "cell_type": "markdown",
   "metadata": {
    "heading_collapsed": true
   },
   "source": [
    "### Rate parameters"
   ]
  },
  {
   "cell_type": "code",
   "execution_count": 37,
   "metadata": {
    "ExecuteTime": {
     "end_time": "2020-05-06T07:30:16.145696Z",
     "start_time": "2020-05-06T07:30:16.109341Z"
    },
    "hidden": true
   },
   "outputs": [],
   "source": [
    "card += 'pAddTk param 1.0 0.15\\n'"
   ]
  },
  {
   "cell_type": "code",
   "execution_count": 38,
   "metadata": {
    "ExecuteTime": {
     "end_time": "2020-05-06T07:30:16.194151Z",
     "start_time": "2020-05-06T07:30:16.150872Z"
    },
    "hidden": true
   },
   "outputs": [],
   "source": [
    "linear = []\n",
    "quadratic = []\n",
    "\n",
    "for procAux in ['tau', 'mu', 'DstPi0', 'DstPi0Pi0']: \n",
    "    linear.append(['AddTk_p_mHad', procAux])\n",
    "    \n",
    "for procAux in ['tau', 'mu', 'DstPi0', 'DstPi0Pi0', 'DstPip', 'DstPipPi0']: \n",
    "    linear.append(['AddTk_m_mHad', procAux])\n",
    "    \n",
    "for procAux in ['DstPip', 'DstPipPi0', 'DstPipPim', 'Hc']:\n",
    "    linear.append(['AddTk_pp_mHad', procAux])\n",
    "for procAux in ['tau', 'mu', 'DstPi0', 'DstPi0Pi0']:\n",
    "    quadratic.append(['AddTk_pp_mHad', procAux])\n",
    "    \n",
    "\n",
    "for procAux in ['DstPip', 'DstPipPi0']:\n",
    "    linear.append(['AddTk_pm_mHad', procAux])\n",
    "    linear.append(['AddTk_pm_mVis', procAux])\n",
    "for procAux in ['tau', 'mu', 'DstPi0', 'DstPi0Pi0']:\n",
    "    quadratic.append(['AddTk_pm_mHad', procAux])\n",
    "    quadratic.append(['AddTk_pm_mVis', procAux])\n",
    "    \n",
    "for procAux in ['DstPipPim', 'Hc']:\n",
    "    linear.append(['AddTk_mm_mHad', procAux])\n",
    "for procAux in ['tau', 'mu', 'DstPi0', 'DstPi0Pi0', 'DstPip', 'DstPipPi0']:\n",
    "    quadratic.append(['AddTk_mm_mHad', procAux])\n",
    "    \n",
    "for binAux, procAux in linear:\n",
    "    card += 'pAddTk rateParam {} {} 1\\n'.format(binAux, procAux)\n",
    "for binAux, procAux in quadratic:\n",
    "    card += 'pAddTk2 rateParam {} {} @0*@0 pAddTk\\n'.format(binAux, procAux)"
   ]
  },
  {
   "cell_type": "code",
   "execution_count": 39,
   "metadata": {
    "ExecuteTime": {
     "end_time": "2020-05-06T07:30:16.223175Z",
     "start_time": "2020-05-06T07:30:16.198601Z"
    },
    "hidden": true
   },
   "outputs": [],
   "source": [
    "card += '--------------------------------------------------------------\\n'"
   ]
  },
  {
   "cell_type": "markdown",
   "metadata": {
    "heading_collapsed": true
   },
   "source": [
    "### Shape Systematics"
   ]
  },
  {
   "cell_type": "code",
   "execution_count": 40,
   "metadata": {
    "ExecuteTime": {
     "end_time": "2020-05-06T07:30:16.273417Z",
     "start_time": "2020-05-06T07:30:16.227617Z"
    },
    "hidden": true
   },
   "outputs": [],
   "source": [
    "card += 'trgSF shape' + ' 1.'*nProc*nCat + '\\n'"
   ]
  },
  {
   "cell_type": "code",
   "execution_count": 41,
   "metadata": {
    "ExecuteTime": {
     "end_time": "2020-05-06T07:30:16.413734Z",
     "start_time": "2020-05-06T07:30:16.278595Z"
    },
    "hidden": true
   },
   "outputs": [],
   "source": [
    "card += 'muonIdSF shape' + ' 1.'*nProc*nCat + '\\n'"
   ]
  },
  {
   "cell_type": "code",
   "execution_count": 42,
   "metadata": {
    "ExecuteTime": {
     "end_time": "2020-05-06T07:30:16.443460Z",
     "start_time": "2020-05-06T07:30:16.418356Z"
    },
    "hidden": true
   },
   "outputs": [],
   "source": [
    "# B0 pT spectrum\n",
    "aux = ''\n",
    "for p in processes:\n",
    "    if p in ['tau', 'mu', 'Hc', 'DstPi0', 'DstPipPim', 'DstPi0Pi0']:\n",
    "        aux += ' 1.'\n",
    "    else:\n",
    "        aux += ' -'\n",
    "card += 'B0pT shape' + aux*nCat + '\\n'"
   ]
  },
  {
   "cell_type": "code",
   "execution_count": 43,
   "metadata": {
    "ExecuteTime": {
     "end_time": "2020-05-06T07:30:16.473293Z",
     "start_time": "2020-05-06T07:30:16.447944Z"
    },
    "hidden": true
   },
   "outputs": [],
   "source": [
    "# Form Factors from Hammer\n",
    "for n_pFF in ['R0', 'R1', 'R2', 'RhoSq']:\n",
    "    aux = ''\n",
    "    for p in processes:\n",
    "        if p in ['tau', 'mu']:\n",
    "            aux += ' 1.'\n",
    "        else:\n",
    "            aux += ' -'\n",
    "    card += 'B2DstCLN{} shape'.format(n_pFF) + aux*nCat + '\\n'"
   ]
  },
  {
   "cell_type": "code",
   "execution_count": 44,
   "metadata": {
    "ExecuteTime": {
     "end_time": "2020-05-06T07:30:16.501113Z",
     "start_time": "2020-05-06T07:30:16.476689Z"
    },
    "hidden": true
   },
   "outputs": [],
   "source": [
    "# Hc mix composition\n",
    "aux = ''\n",
    "for p in processes:\n",
    "    if p == 'Hc': aux += ' 1.'\n",
    "    else: aux += ' -'\n",
    "card += 'HcmixD02mu shape' + aux*nCat + '\\n'\n",
    "card += 'HcmixDs2mu shape' + aux*nCat + '\\n'"
   ]
  },
  {
   "cell_type": "markdown",
   "metadata": {
    "heading_collapsed": true
   },
   "source": [
    "### MC statistic systematics"
   ]
  },
  {
   "cell_type": "code",
   "execution_count": 45,
   "metadata": {
    "ExecuteTime": {
     "end_time": "2020-05-06T07:30:16.561495Z",
     "start_time": "2020-05-06T07:30:16.505337Z"
    },
    "hidden": true
   },
   "outputs": [],
   "source": [
    "card += '* autoMCStats 20 1 1\\n'\n",
    "card += '--------------------------------------------------------------\\n'"
   ]
  },
  {
   "cell_type": "markdown",
   "metadata": {
    "heading_collapsed": true
   },
   "source": [
    "### Defining groups of systematics"
   ]
  },
  {
   "cell_type": "code",
   "execution_count": 46,
   "metadata": {
    "ExecuteTime": {
     "end_time": "2020-05-06T07:30:16.605280Z",
     "start_time": "2020-05-06T07:30:16.566061Z"
    },
    "hidden": true
   },
   "outputs": [],
   "source": [
    "# autoMCStats group = defined by default when using autoMCStats\n",
    "aux_FF = ' '.join(['B2DstCLN'+n for n in ['R0', 'R1', 'R2', 'RhoSq']])\n",
    "card += 'B2DstFF group = ' + aux_FF + '\\n'\n",
    "\n",
    "card += 'normMC group = xsecpp2bbXlumi b2B0Had b2BpHad\\n'\n",
    "\n",
    "card += 'knownBr group = ' + ' '.join([n+'Br' for n in processes if not n == 'tau']) + '\\n'\n",
    "\n",
    "card += 'allShape group = trgSF muonIdSF B0pT ' + aux_FF + '\\n'"
   ]
  },
  {
   "cell_type": "markdown",
   "metadata": {
    "heading_collapsed": true
   },
   "source": [
    "## Create output"
   ]
  },
  {
   "cell_type": "code",
   "execution_count": 47,
   "metadata": {
    "ExecuteTime": {
     "end_time": "2020-05-06T07:30:16.666418Z",
     "start_time": "2020-05-06T07:30:16.610766Z"
    },
    "hidden": true,
    "scrolled": true
   },
   "outputs": [
    {
     "name": "stdout",
     "output_type": "stream",
     "text": [
      "imax *\n",
      "jmax 7\n",
      "kmax *\n",
      "--------------------------------------------------------------\n",
      "shapes * AddTk_m_mHad ../data/_root/histos4combine/v7_AddTk_m_mHad.root $PROCESS $PROCESS__$SYSTEMATIC\n",
      "shapes * AddTk_mm_mHad ../data/_root/histos4combine/v7_AddTk_mm_mHad.root $PROCESS $PROCESS__$SYSTEMATIC\n",
      "shapes * AddTk_p_mHad ../data/_root/histos4combine/v7_AddTk_p_mHad.root $PROCESS $PROCESS__$SYSTEMATIC\n",
      "shapes * AddTk_pm_mHad ../data/_root/histos4combine/v7_AddTk_pm_mHad.root $PROCESS $PROCESS__$SYSTEMATIC\n",
      "shapes * AddTk_pm_mVis ../data/_root/histos4combine/v7_AddTk_pm_mVis.root $PROCESS $PROCESS__$SYSTEMATIC\n",
      "shapes * AddTk_pp_mHad ../data/_root/histos4combine/v7_AddTk_pp_mHad.root $PROCESS $PROCESS__$SYSTEMATIC\n",
      "shapes * Est_mu_q2bin0 ../data/_root/histos4combine/v7_Est_mu_q2bin0.root $PROCESS $PROCESS__$SYSTEMATIC\n",
      "shapes * Est_mu_q2bin1 ../data/_root/histos4combine/v7_Est_mu_q2bin1.root $PROCESS $PROCESS__$SYSTEMATIC\n",
      "shapes * M2_miss_q2bin0 ../data/_root/histos4combine/v7_M2_miss_q2bin0.root $PROCESS $PROCESS__$SYSTEMATIC\n",
      "shapes * M2_miss_q2bin1 ../data/_root/histos4combine/v7_M2_miss_q2bin1.root $PROCESS $PROCESS__$SYSTEMATIC\n",
      "--------------------------------------------------------------\n",
      "bin AddTk_m_mHad AddTk_mm_mHad AddTk_p_mHad AddTk_pm_mHad AddTk_pm_mVis AddTk_pp_mHad Est_mu_q2bin0 Est_mu_q2bin1 M2_miss_q2bin0 M2_miss_q2bin1\n",
      "observation 9742 451 20045 3357 3357 943 32093 65994 32093 65994\n",
      "--------------------------------------------------------------\n",
      "bin AddTk_m_mHad AddTk_m_mHad AddTk_m_mHad AddTk_m_mHad AddTk_m_mHad AddTk_m_mHad AddTk_m_mHad AddTk_m_mHad AddTk_mm_mHad AddTk_mm_mHad AddTk_mm_mHad AddTk_mm_mHad AddTk_mm_mHad AddTk_mm_mHad AddTk_mm_mHad AddTk_mm_mHad AddTk_p_mHad AddTk_p_mHad AddTk_p_mHad AddTk_p_mHad AddTk_p_mHad AddTk_p_mHad AddTk_p_mHad AddTk_p_mHad AddTk_pm_mHad AddTk_pm_mHad AddTk_pm_mHad AddTk_pm_mHad AddTk_pm_mHad AddTk_pm_mHad AddTk_pm_mHad AddTk_pm_mHad AddTk_pm_mVis AddTk_pm_mVis AddTk_pm_mVis AddTk_pm_mVis AddTk_pm_mVis AddTk_pm_mVis AddTk_pm_mVis AddTk_pm_mVis AddTk_pp_mHad AddTk_pp_mHad AddTk_pp_mHad AddTk_pp_mHad AddTk_pp_mHad AddTk_pp_mHad AddTk_pp_mHad AddTk_pp_mHad Est_mu_q2bin0 Est_mu_q2bin0 Est_mu_q2bin0 Est_mu_q2bin0 Est_mu_q2bin0 Est_mu_q2bin0 Est_mu_q2bin0 Est_mu_q2bin0 Est_mu_q2bin1 Est_mu_q2bin1 Est_mu_q2bin1 Est_mu_q2bin1 Est_mu_q2bin1 Est_mu_q2bin1 Est_mu_q2bin1 Est_mu_q2bin1 M2_miss_q2bin0 M2_miss_q2bin0 M2_miss_q2bin0 M2_miss_q2bin0 M2_miss_q2bin0 M2_miss_q2bin0 M2_miss_q2bin0 M2_miss_q2bin0 M2_miss_q2bin1 M2_miss_q2bin1 M2_miss_q2bin1 M2_miss_q2bin1 M2_miss_q2bin1 M2_miss_q2bin1 M2_miss_q2bin1 M2_miss_q2bin1\n",
      "process tau mu Hc DstPip DstPipPi0 DstPi0 DstPipPim DstPi0Pi0 tau mu Hc DstPip DstPipPi0 DstPi0 DstPipPim DstPi0Pi0 tau mu Hc DstPip DstPipPi0 DstPi0 DstPipPim DstPi0Pi0 tau mu Hc DstPip DstPipPi0 DstPi0 DstPipPim DstPi0Pi0 tau mu Hc DstPip DstPipPi0 DstPi0 DstPipPim DstPi0Pi0 tau mu Hc DstPip DstPipPi0 DstPi0 DstPipPim DstPi0Pi0 tau mu Hc DstPip DstPipPi0 DstPi0 DstPipPim DstPi0Pi0 tau mu Hc DstPip DstPipPi0 DstPi0 DstPipPim DstPi0Pi0 tau mu Hc DstPip DstPipPi0 DstPi0 DstPipPim DstPi0Pi0 tau mu Hc DstPip DstPipPi0 DstPi0 DstPipPim DstPi0Pi0\n",
      "process 0 1 2 3 4 5 6 7 0 1 2 3 4 5 6 7 0 1 2 3 4 5 6 7 0 1 2 3 4 5 6 7 0 1 2 3 4 5 6 7 0 1 2 3 4 5 6 7 0 1 2 3 4 5 6 7 0 1 2 3 4 5 6 7 0 1 2 3 4 5 6 7 0 1 2 3 4 5 6 7\n",
      "rate 202.37 5009.12 144.72 224.17 11.52 229.88 349.61 26.14 4.81 165.18 4.86 8.06 0.50 7.29 12.70 0.82 290.97 6224.32 254.95 8068.72 497.00 289.31 457.64 31.49 16.41 468.12 403.36 337.09 21.72 29.05 933.65 2.93 16.41 468.12 403.36 337.09 21.72 29.05 933.65 2.93 8.67 231.24 14.87 268.96 18.41 10.80 18.18 1.27 74.44 26021.38 63.50 504.07 8.06 638.36 11.83 19.77 1591.91 50434.16 680.66 2058.08 105.04 2270.50 140.12 275.94 74.44 26021.38 63.50 504.07 8.06 638.36 11.83 19.77 1591.91 50434.16 680.66 2058.08 105.04 2270.50 140.12 275.94\n",
      "--------------------------------------------------------------\n",
      "xsecpp2bbXlumi lnN 1.9 1.9 1.9 1.9 1.9 1.9 1.9 1.9 1.9 1.9 1.9 1.9 1.9 1.9 1.9 1.9 1.9 1.9 1.9 1.9 1.9 1.9 1.9 1.9 1.9 1.9 1.9 1.9 1.9 1.9 1.9 1.9 1.9 1.9 1.9 1.9 1.9 1.9 1.9 1.9 1.9 1.9 1.9 1.9 1.9 1.9 1.9 1.9 1.9 1.9 1.9 1.9 1.9 1.9 1.9 1.9 1.9 1.9 1.9 1.9 1.9 1.9 1.9 1.9 1.9 1.9 1.9 1.9 1.9 1.9 1.9 1.9 1.9 1.9 1.9 1.9 1.9 1.9 1.9 1.9\n",
      "b2B0Had lnN 3 3 3 - - 3 3 3 3 3 3 - - 3 3 3 3 3 3 - - 3 3 3 3 3 3 - - 3 3 3 3 3 3 - - 3 3 3 3 3 3 - - 3 3 3 3 3 3 - - 3 3 3 3 3 3 - - 3 3 3 3 3 3 - - 3 3 3 3 3 3 - - 3 3 3\n",
      "b2BpHad lnN - - - 3 3 - - - - - - 3 3 - - - - - - 3 3 - - - - - - 3 3 - - - - - - 3 3 - - - - - - 3 3 - - - - - - 3 3 - - - - - - 3 3 - - - - - - 3 3 - - - - - - 3 3 - - -\n",
      "muBr lnN - 1.03 - - - - - - - 1.03 - - - - - - - 1.03 - - - - - - - 1.03 - - - - - - - 1.03 - - - - - - - 1.03 - - - - - - - 1.03 - - - - - - - 1.03 - - - - - - - 1.03 - - - - - - - 1.03 - - - - - -\n",
      "HcBr lnN - - 1.25 - - - - - - - 1.25 - - - - - - - 1.25 - - - - - - - 1.25 - - - - - - - 1.25 - - - - - - - 1.25 - - - - - - - 1.25 - - - - - - - 1.25 - - - - - - - 1.25 - - - - - - - 1.25 - - - - -\n",
      "DstPipBr lnN - - - 1.10 - - - - - - - 1.10 - - - - - - - 1.10 - - - - - - - 1.10 - - - - - - - 1.10 - - - - - - - 1.10 - - - - - - - 1.10 - - - - - - - 1.10 - - - - - - - 1.10 - - - - - - - 1.10 - - - -\n",
      "DstPipPi0Br lnN - - - - 1.63 - - - - - - - 1.63 - - - - - - - 1.63 - - - - - - - 1.63 - - - - - - - 1.63 - - - - - - - 1.63 - - - - - - - 1.63 - - - - - - - 1.63 - - - - - - - 1.63 - - - - - - - 1.63 - - -\n",
      "DstPi0Br lnN - - - - - 1.33 - - - - - - - 1.33 - - - - - - - 1.33 - - - - - - - 1.33 - - - - - - - 1.33 - - - - - - - 1.33 - - - - - - - 1.33 - - - - - - - 1.33 - - - - - - - 1.33 - - - - - - - 1.33 - -\n",
      "DstPipPimBr lnN - - - - - - 1.36 - - - - - - - 1.36 - - - - - - - 1.36 - - - - - - - 1.36 - - - - - - - 1.36 - - - - - - - 1.36 - - - - - - - 1.36 - - - - - - - 1.36 - - - - - - - 1.36 - - - - - - - 1.36 -\n",
      "DstPi0Pi0Br lnN - - - - - - - 1.37 - - - - - - - 1.37 - - - - - - - 1.37 - - - - - - - 1.37 - - - - - - - 1.37 - - - - - - - 1.37 - - - - - - - 1.37 - - - - - - - 1.37 - - - - - - - 1.37 - - - - - - - 1.37\n",
      "--------------------------------------------------------------\n",
      "pAddTk param 1.0 0.15\n",
      "pAddTk rateParam AddTk_p_mHad tau 1\n",
      "pAddTk rateParam AddTk_p_mHad mu 1\n",
      "pAddTk rateParam AddTk_p_mHad DstPi0 1\n",
      "pAddTk rateParam AddTk_p_mHad DstPi0Pi0 1\n",
      "pAddTk rateParam AddTk_m_mHad tau 1\n",
      "pAddTk rateParam AddTk_m_mHad mu 1\n",
      "pAddTk rateParam AddTk_m_mHad DstPi0 1\n",
      "pAddTk rateParam AddTk_m_mHad DstPi0Pi0 1\n",
      "pAddTk rateParam AddTk_m_mHad DstPip 1\n",
      "pAddTk rateParam AddTk_m_mHad DstPipPi0 1\n",
      "pAddTk rateParam AddTk_pp_mHad DstPip 1\n",
      "pAddTk rateParam AddTk_pp_mHad DstPipPi0 1\n",
      "pAddTk rateParam AddTk_pp_mHad DstPipPim 1\n",
      "pAddTk rateParam AddTk_pp_mHad Hc 1\n",
      "pAddTk rateParam AddTk_pm_mHad DstPip 1\n",
      "pAddTk rateParam AddTk_pm_mVis DstPip 1\n",
      "pAddTk rateParam AddTk_pm_mHad DstPipPi0 1\n",
      "pAddTk rateParam AddTk_pm_mVis DstPipPi0 1\n",
      "pAddTk rateParam AddTk_mm_mHad DstPipPim 1\n",
      "pAddTk rateParam AddTk_mm_mHad Hc 1\n",
      "pAddTk2 rateParam AddTk_pp_mHad tau @0*@0 pAddTk\n",
      "pAddTk2 rateParam AddTk_pp_mHad mu @0*@0 pAddTk\n",
      "pAddTk2 rateParam AddTk_pp_mHad DstPi0 @0*@0 pAddTk\n",
      "pAddTk2 rateParam AddTk_pp_mHad DstPi0Pi0 @0*@0 pAddTk\n",
      "pAddTk2 rateParam AddTk_pm_mHad tau @0*@0 pAddTk\n",
      "pAddTk2 rateParam AddTk_pm_mVis tau @0*@0 pAddTk\n",
      "pAddTk2 rateParam AddTk_pm_mHad mu @0*@0 pAddTk\n",
      "pAddTk2 rateParam AddTk_pm_mVis mu @0*@0 pAddTk\n",
      "pAddTk2 rateParam AddTk_pm_mHad DstPi0 @0*@0 pAddTk\n",
      "pAddTk2 rateParam AddTk_pm_mVis DstPi0 @0*@0 pAddTk\n",
      "pAddTk2 rateParam AddTk_pm_mHad DstPi0Pi0 @0*@0 pAddTk\n",
      "pAddTk2 rateParam AddTk_pm_mVis DstPi0Pi0 @0*@0 pAddTk\n",
      "pAddTk2 rateParam AddTk_mm_mHad tau @0*@0 pAddTk\n",
      "pAddTk2 rateParam AddTk_mm_mHad mu @0*@0 pAddTk\n",
      "pAddTk2 rateParam AddTk_mm_mHad DstPi0 @0*@0 pAddTk\n",
      "pAddTk2 rateParam AddTk_mm_mHad DstPi0Pi0 @0*@0 pAddTk\n",
      "pAddTk2 rateParam AddTk_mm_mHad DstPip @0*@0 pAddTk\n",
      "pAddTk2 rateParam AddTk_mm_mHad DstPipPi0 @0*@0 pAddTk\n",
      "--------------------------------------------------------------\n",
      "trgSF shape 1. 1. 1. 1. 1. 1. 1. 1. 1. 1. 1. 1. 1. 1. 1. 1. 1. 1. 1. 1. 1. 1. 1. 1. 1. 1. 1. 1. 1. 1. 1. 1. 1. 1. 1. 1. 1. 1. 1. 1. 1. 1. 1. 1. 1. 1. 1. 1. 1. 1. 1. 1. 1. 1. 1. 1. 1. 1. 1. 1. 1. 1. 1. 1. 1. 1. 1. 1. 1. 1. 1. 1. 1. 1. 1. 1. 1. 1. 1. 1.\n",
      "muonIdSF shape 1. 1. 1. 1. 1. 1. 1. 1. 1. 1. 1. 1. 1. 1. 1. 1. 1. 1. 1. 1. 1. 1. 1. 1. 1. 1. 1. 1. 1. 1. 1. 1. 1. 1. 1. 1. 1. 1. 1. 1. 1. 1. 1. 1. 1. 1. 1. 1. 1. 1. 1. 1. 1. 1. 1. 1. 1. 1. 1. 1. 1. 1. 1. 1. 1. 1. 1. 1. 1. 1. 1. 1. 1. 1. 1. 1. 1. 1. 1. 1.\n",
      "B0pT shape 1. 1. 1. - - 1. 1. 1. 1. 1. 1. - - 1. 1. 1. 1. 1. 1. - - 1. 1. 1. 1. 1. 1. - - 1. 1. 1. 1. 1. 1. - - 1. 1. 1. 1. 1. 1. - - 1. 1. 1. 1. 1. 1. - - 1. 1. 1. 1. 1. 1. - - 1. 1. 1. 1. 1. 1. - - 1. 1. 1. 1. 1. 1. - - 1. 1. 1.\n",
      "B2DstCLNR0 shape 1. 1. - - - - - - 1. 1. - - - - - - 1. 1. - - - - - - 1. 1. - - - - - - 1. 1. - - - - - - 1. 1. - - - - - - 1. 1. - - - - - - 1. 1. - - - - - - 1. 1. - - - - - - 1. 1. - - - - - -\n",
      "B2DstCLNR1 shape 1. 1. - - - - - - 1. 1. - - - - - - 1. 1. - - - - - - 1. 1. - - - - - - 1. 1. - - - - - - 1. 1. - - - - - - 1. 1. - - - - - - 1. 1. - - - - - - 1. 1. - - - - - - 1. 1. - - - - - -\n",
      "B2DstCLNR2 shape 1. 1. - - - - - - 1. 1. - - - - - - 1. 1. - - - - - - 1. 1. - - - - - - 1. 1. - - - - - - 1. 1. - - - - - - 1. 1. - - - - - - 1. 1. - - - - - - 1. 1. - - - - - - 1. 1. - - - - - -\n",
      "B2DstCLNRhoSq shape 1. 1. - - - - - - 1. 1. - - - - - - 1. 1. - - - - - - 1. 1. - - - - - - 1. 1. - - - - - - 1. 1. - - - - - - 1. 1. - - - - - - 1. 1. - - - - - - 1. 1. - - - - - - 1. 1. - - - - - -\n",
      "HcmixD02mu shape - - 1. - - - - - - - 1. - - - - - - - 1. - - - - - - - 1. - - - - - - - 1. - - - - - - - 1. - - - - - - - 1. - - - - - - - 1. - - - - - - - 1. - - - - - - - 1. - - - - -\n",
      "HcmixDs2mu shape - - 1. - - - - - - - 1. - - - - - - - 1. - - - - - - - 1. - - - - - - - 1. - - - - - - - 1. - - - - - - - 1. - - - - - - - 1. - - - - - - - 1. - - - - - - - 1. - - - - -\n",
      "* autoMCStats 20 1 1\n",
      "--------------------------------------------------------------\n",
      "B2DstFF group = B2DstCLNR0 B2DstCLNR1 B2DstCLNR2 B2DstCLNRhoSq\n",
      "normMC group = xsecpp2bbXlumi b2B0Had b2BpHad\n",
      "knownBr group = muBr HcBr DstPipBr DstPipPi0Br DstPi0Br DstPipPimBr DstPi0Pi0Br\n",
      "allShape group = trgSF muonIdSF B0pT B2DstCLNR0 B2DstCLNR1 B2DstCLNR2 B2DstCLNRhoSq\n",
      "\n"
     ]
    }
   ],
   "source": [
    "print card"
   ]
  },
  {
   "cell_type": "code",
   "execution_count": 48,
   "metadata": {
    "ExecuteTime": {
     "end_time": "2020-05-06T07:30:16.685298Z",
     "start_time": "2020-05-06T07:30:16.670045Z"
    },
    "hidden": true
   },
   "outputs": [],
   "source": [
    "fc.write(card)\n",
    "fc.close()"
   ]
  },
  {
   "cell_type": "code",
   "execution_count": 49,
   "metadata": {
    "ExecuteTime": {
     "end_time": "2020-05-06T07:30:16.799281Z",
     "start_time": "2020-05-06T07:30:16.689688Z"
    },
    "hidden": true
   },
   "outputs": [],
   "source": [
    "outdir = 'results/' + card_name\n",
    "\n",
    "if os.path.isdir(outdir):\n",
    "    os.system('rm -rf ' + outdir)\n",
    "os.system('mkdir -p ' + outdir + '/fig');"
   ]
  },
  {
   "cell_type": "markdown",
   "metadata": {},
   "source": [
    "# Run Combine"
   ]
  },
  {
   "cell_type": "markdown",
   "metadata": {
    "heading_collapsed": true
   },
   "source": [
    "### Create the workspace"
   ]
  },
  {
   "cell_type": "code",
   "execution_count": 50,
   "metadata": {
    "ExecuteTime": {
     "end_time": "2020-05-06T07:30:24.864472Z",
     "start_time": "2020-05-06T07:30:16.804514Z"
    },
    "hidden": true,
    "scrolled": true
   },
   "outputs": [
    {
     "data": {
      "text/plain": [
       "0"
      ]
     },
     "execution_count": 50,
     "metadata": {},
     "output_type": "execute_result"
    },
    {
     "name": "stdout",
     "output_type": "stream",
     "text": [
      "Channel AddTk_m_mHad will use autoMCStats with settings: event-threshold=20, include-signal=1, hist-mode=1\n",
      "============================================================\n",
      "Analysing bin errors for: prop_binAddTk_m_mHad\n",
      "Poisson cut-off: 20\n",
      "============================================================\n",
      "Bin        Contents        Error           Notes                         \n",
      "0          23.583390       2.822812        total sum                     \n",
      "0          70.000000       8.366600        Unweighted events, alpha=0.336906\n",
      "  => Total parameter prop_binAddTk_m_mHad_bin0[0.00,-7.00,7.00] to be gaussian constrained\n",
      "------------------------------------------------------------\n",
      "1          783.108501      17.613083       total sum                     \n",
      "1          1977.000000     44.463468       Unweighted events, alpha=0.396110\n",
      "  => Total parameter prop_binAddTk_m_mHad_bin1[0.00,-7.00,7.00] to be gaussian constrained\n",
      "------------------------------------------------------------\n",
      "2          1155.705877     20.962109       total sum                     \n",
      "2          3040.000000     55.136195       Unweighted events, alpha=0.380166\n",
      "  => Total parameter prop_binAddTk_m_mHad_bin2[0.00,-7.00,7.00] to be gaussian constrained\n",
      "------------------------------------------------------------\n",
      "3          950.416627      19.045358       total sum                     \n",
      "3          2490.000000     49.899900       Unweighted events, alpha=0.381693\n",
      "  => Total parameter prop_binAddTk_m_mHad_bin3[0.00,-7.00,7.00] to be gaussian constrained\n",
      "------------------------------------------------------------\n",
      "4          689.723940      16.058503       total sum                     \n",
      "4          1845.000000     42.953463       Unweighted events, alpha=0.373834\n",
      "  => Total parameter prop_binAddTk_m_mHad_bin4[0.00,-7.00,7.00] to be gaussian constrained\n",
      "------------------------------------------------------------\n",
      "5          552.914586      14.574164       total sum                     \n",
      "5          1439.000000     37.934153       Unweighted events, alpha=0.384235\n",
      "  => Total parameter prop_binAddTk_m_mHad_bin5[0.00,-7.00,7.00] to be gaussian constrained\n",
      "------------------------------------------------------------\n",
      "6          412.947888      12.430615       total sum                     \n",
      "6          1104.000000     33.226495       Unweighted events, alpha=0.374047\n",
      "  => Total parameter prop_binAddTk_m_mHad_bin6[0.00,-7.00,7.00] to be gaussian constrained\n",
      "------------------------------------------------------------\n",
      "7          305.117306      10.706505       total sum                     \n",
      "7          812.000000      28.495614       Unweighted events, alpha=0.375760\n",
      "  => Total parameter prop_binAddTk_m_mHad_bin7[0.00,-7.00,7.00] to be gaussian constrained\n",
      "------------------------------------------------------------\n",
      "8          251.275618      9.836696        total sum                     \n",
      "8          653.000000      25.553865       Unweighted events, alpha=0.384802\n",
      "  => Total parameter prop_binAddTk_m_mHad_bin8[0.00,-7.00,7.00] to be gaussian constrained\n",
      "------------------------------------------------------------\n",
      "9          179.308132      7.851172        total sum                     \n",
      "9          522.000000      22.847319       Unweighted events, alpha=0.343502\n",
      "  => Total parameter prop_binAddTk_m_mHad_bin9[0.00,-7.00,7.00] to be gaussian constrained\n",
      "------------------------------------------------------------\n",
      "10         137.274442      7.042622        total sum                     \n",
      "10         380.000000      19.493589       Unweighted events, alpha=0.361249\n",
      "  => Total parameter prop_binAddTk_m_mHad_bin10[0.00,-7.00,7.00] to be gaussian constrained\n",
      "------------------------------------------------------------\n",
      "11         117.693772      6.696254        total sum                     \n",
      "11         309.000000      17.578396       Unweighted events, alpha=0.380886\n",
      "  => Total parameter prop_binAddTk_m_mHad_bin11[0.00,-7.00,7.00] to be gaussian constrained\n",
      "------------------------------------------------------------\n",
      "12         99.050916       6.174937        total sum                     \n",
      "12         257.000000      16.031220       Unweighted events, alpha=0.385412\n",
      "  => Total parameter prop_binAddTk_m_mHad_bin12[0.00,-7.00,7.00] to be gaussian constrained\n",
      "------------------------------------------------------------\n",
      "13         74.867620       5.309159        total sum                     \n",
      "13         199.000000      14.106736       Unweighted events, alpha=0.376219\n",
      "  => Total parameter prop_binAddTk_m_mHad_bin13[0.00,-7.00,7.00] to be gaussian constrained\n",
      "------------------------------------------------------------\n",
      "14         74.834341       5.203176        total sum                     \n",
      "14         207.000000      14.387495       Unweighted events, alpha=0.361519\n",
      "  => Total parameter prop_binAddTk_m_mHad_bin14[0.00,-7.00,7.00] to be gaussian constrained\n",
      "------------------------------------------------------------\n",
      "15         57.059033       4.749097        total sum                     \n",
      "15         144.000000      12.000000       Unweighted events, alpha=0.396243\n",
      "  => Total parameter prop_binAddTk_m_mHad_bin15[0.00,-7.00,7.00] to be gaussian constrained\n",
      "------------------------------------------------------------\n",
      "16         51.303574       4.353433        total sum                     \n",
      "16         139.000000      11.789826       Unweighted events, alpha=0.369090\n",
      "  => Total parameter prop_binAddTk_m_mHad_bin16[0.00,-7.00,7.00] to be gaussian constrained\n",
      "------------------------------------------------------------\n",
      "17         46.187987       3.992636        total sum                     \n",
      "17         134.000000      11.575837       Unweighted events, alpha=0.344686\n",
      "  => Total parameter prop_binAddTk_m_mHad_bin17[0.00,-7.00,7.00] to be gaussian constrained\n",
      "------------------------------------------------------------\n",
      "18         32.204204       3.497195        total sum                     \n",
      "18         85.000000       9.219544        Unweighted events, alpha=0.378873\n",
      "  => Total parameter prop_binAddTk_m_mHad_bin18[0.00,-7.00,7.00] to be gaussian constrained\n",
      "------------------------------------------------------------\n",
      "19         32.924480       3.554222        total sum                     \n",
      "19         86.000000       9.273618        Unweighted events, alpha=0.382843\n",
      "  => Total parameter prop_binAddTk_m_mHad_bin19[0.00,-7.00,7.00] to be gaussian constrained\n",
      "------------------------------------------------------------\n",
      "20         21.400429       2.658876        total sum                     \n",
      "20         65.000000       8.062258        Unweighted events, alpha=0.329237\n",
      "  => Total parameter prop_binAddTk_m_mHad_bin20[0.00,-7.00,7.00] to be gaussian constrained\n",
      "------------------------------------------------------------\n",
      "21         17.762061       2.359650        total sum                     \n",
      "21         57.000000       7.549834        Unweighted events, alpha=0.311615\n",
      "  => Total parameter prop_binAddTk_m_mHad_bin21[0.00,-7.00,7.00] to be gaussian constrained\n",
      "------------------------------------------------------------\n",
      "22         19.748878       2.549246        total sum                     \n",
      "22         60.000000       7.745967        Unweighted events, alpha=0.329148\n",
      "  => Total parameter prop_binAddTk_m_mHad_bin22[0.00,-7.00,7.00] to be gaussian constrained\n",
      "------------------------------------------------------------\n",
      "23         16.103098       2.465566        total sum                     \n",
      "23         43.000000       6.557439        Unweighted events, alpha=0.374491\n",
      "  => Total parameter prop_binAddTk_m_mHad_bin23[0.00,-7.00,7.00] to be gaussian constrained\n",
      "------------------------------------------------------------\n",
      "24         14.514821       2.446068        total sum                     \n",
      "24         35.000000       5.916080        Unweighted events, alpha=0.414709\n",
      "  => Total parameter prop_binAddTk_m_mHad_bin24[0.00,-7.00,7.00] to be gaussian constrained\n",
      "------------------------------------------------------------\n",
      "25         13.429169       2.283437        total sum                     \n",
      "25         35.000000       5.916080        Unweighted events, alpha=0.383691\n",
      "  => Total parameter prop_binAddTk_m_mHad_bin25[0.00,-7.00,7.00] to be gaussian constrained\n",
      "------------------------------------------------------------\n",
      "26         9.287249        1.790899        total sum                     \n",
      "26         27.000000       5.196152        Unweighted events, alpha=0.343972\n",
      "  => Total parameter prop_binAddTk_m_mHad_bin26[0.00,-7.00,7.00] to be gaussian constrained\n",
      "------------------------------------------------------------\n",
      "27         9.805027        1.991400        total sum                     \n",
      "27         24.000000       4.898979        Unweighted events, alpha=0.408543\n",
      "  => Total parameter prop_binAddTk_m_mHad_bin27[0.00,-7.00,7.00] to be gaussian constrained\n",
      "------------------------------------------------------------\n",
      "28         5.700962        1.349422        total sum                     \n",
      "28         18.000000       4.242641        Unweighted events, alpha=0.316720\n",
      "  => Number of weighted events is below poisson threshold\n",
      "    tau                  0.143626        0.085586                                      \n",
      "                         3.000000        1.732051        Unweighted events, alpha=0.047875\n",
      "      => Product of prop_binAddTk_m_mHad_bin28_tau[3.00,0.00,36.46] and const [0.3333] to be poisson constrained\n",
      "  ----------------------------------------------------------\n",
      "    DstPipPi0            0.000000        0.000000                                      \n",
      "      => Error is zero, ignore      \n",
      "  ----------------------------------------------------------\n",
      "    DstPi0               0.366461        0.214231                                      \n",
      "                         3.000000        1.732051        Unweighted events, alpha=0.122154\n",
      "      => Product of prop_binAddTk_m_mHad_bin28_DstPi0[3.00,0.00,36.46] and const [0.3333] to be poisson constrained\n",
      "  ----------------------------------------------------------\n",
      "    mu                   4.067323        1.281864                                      \n",
      "                         10.000000       3.162278        Unweighted events, alpha=0.406732\n",
      "      => Product of prop_binAddTk_m_mHad_bin28_mu[10.00,0.30,52.00] and const [0.1000] to be poisson constrained\n",
      "  ----------------------------------------------------------\n",
      "    DstPip               0.268248        0.189818                                      \n",
      "                         2.000000        1.414214        Unweighted events, alpha=0.134124\n",
      "      => Product of prop_binAddTk_m_mHad_bin28_DstPip[2.00,0.00,33.79] and const [0.5000] to be poisson constrained\n",
      "  ----------------------------------------------------------\n",
      "    DstPipPim            0.036928        0.036928                                      \n",
      "                         1.000000        1.000000        Unweighted events, alpha=0.036928\n",
      "      => Product of prop_binAddTk_m_mHad_bin28_DstPipPim[1.00,0.00,30.85] and const [1.0000] to be poisson constrained\n",
      "  ----------------------------------------------------------\n",
      "    Hc                   0.794700        0.294454                                      \n",
      "                         7.000000        2.645751        Unweighted events, alpha=0.113529\n",
      "      => Product of prop_binAddTk_m_mHad_bin28_Hc[7.00,0.07,45.79] and const [0.1429] to be poisson constrained\n",
      "  ----------------------------------------------------------\n",
      "    DstPi0Pi0            0.023676        0.021130                                      \n",
      "                         1.000000        1.000000        Unweighted events, alpha=0.023676\n",
      "      => Product of prop_binAddTk_m_mHad_bin28_DstPi0Pi0[1.00,0.00,30.85] and const [1.0000] to be poisson constrained\n",
      "  ----------------------------------------------------------\n",
      "------------------------------------------------------------\n",
      "29         42.263725       4.381025        total sum                     \n",
      "29         93.000000       9.643651        Unweighted events, alpha=0.454449\n",
      "  => Total parameter prop_binAddTk_m_mHad_bin29[0.00,-7.00,7.00] to be gaussian constrained\n",
      "------------------------------------------------------------\n",
      "Channel AddTk_mm_mHad will use autoMCStats with settings: event-threshold=20, include-signal=1, hist-mode=1\n",
      "============================================================\n",
      "Analysing bin errors for: prop_binAddTk_mm_mHad\n",
      "Poisson cut-off: 20\n",
      "============================================================\n",
      "Bin        Contents        Error           Notes                         \n",
      "0          6.170878        1.543990        total sum                     \n",
      "0          16.000000       4.000000        Unweighted events, alpha=0.385680\n",
      "  => Number of weighted events is below poisson threshold\n",
      "    tau                  0.716673        0.531753                                      \n",
      "                         2.000000        1.414214        Unweighted events, alpha=0.358337\n",
      "      => Product of prop_binAddTk_mm_mHad_bin0_tau[2.00,0.00,33.79] and const [0.5000] to be poisson constrained\n",
      "  ----------------------------------------------------------\n",
      "    DstPipPi0            0.051888        0.036705                                      \n",
      "                         2.000000        1.414214        Unweighted events, alpha=0.025944\n",
      "      => Product of prop_binAddTk_mm_mHad_bin0_DstPipPi0[2.00,0.00,33.79] and const [0.5000] to be poisson constrained\n",
      "  ----------------------------------------------------------\n",
      "    DstPi0               0.349310        0.247668                                      \n",
      "                         2.000000        1.414214        Unweighted events, alpha=0.174655\n",
      "      => Product of prop_binAddTk_mm_mHad_bin0_DstPi0[2.00,0.00,33.79] and const [0.5000] to be poisson constrained\n",
      "  ----------------------------------------------------------\n",
      "    mu                   4.329552        1.412790                                      \n",
      "                         9.000000        3.000000        Unweighted events, alpha=0.481061\n",
      "      => Product of prop_binAddTk_mm_mHad_bin0_mu[9.00,0.20,49.98] and const [0.1111] to be poisson constrained\n",
      "  ----------------------------------------------------------\n",
      "    DstPip               0.000000        0.000000                                      \n",
      "      => Error is zero, ignore      \n",
      "  ----------------------------------------------------------\n",
      "    DstPipPim            0.664699        0.202715                                      \n",
      "                         11.000000       3.316625        Unweighted events, alpha=0.060427\n",
      "      => Product of prop_binAddTk_mm_mHad_bin0_DstPipPim[11.00,0.42,53.98] and const [0.0909] to be poisson constrained\n",
      "  ----------------------------------------------------------\n",
      "    Hc                   0.028397        0.028397                                      \n",
      "                         1.000000        1.000000        Unweighted events, alpha=0.028397\n",
      "      => Product of prop_binAddTk_mm_mHad_bin0_Hc[1.00,0.00,30.85] and const [1.0000] to be poisson constrained\n",
      "  ----------------------------------------------------------\n",
      "    DstPi0Pi0            0.030360        0.024153                                      \n",
      "                         2.000000        1.414214        Unweighted events, alpha=0.015180\n",
      "      => Product of prop_binAddTk_mm_mHad_bin0_DstPi0Pi0[2.00,0.00,33.79] and const [0.5000] to be poisson constrained\n",
      "  ----------------------------------------------------------\n",
      "------------------------------------------------------------\n",
      "1          35.470180       3.674950        total sum                     \n",
      "1          93.000000       9.643651        Unweighted events, alpha=0.381400\n",
      "  => Total parameter prop_binAddTk_mm_mHad_bin1[0.00,-7.00,7.00] to be gaussian constrained\n",
      "------------------------------------------------------------\n",
      "2          39.667069       4.635156        total sum                     \n",
      "2          73.000000       8.544004        Unweighted events, alpha=0.543385\n",
      "  => Total parameter prop_binAddTk_mm_mHad_bin2[0.00,-7.00,7.00] to be gaussian constrained\n",
      "------------------------------------------------------------\n",
      "3          31.394534       3.495124        total sum                     \n",
      "3          81.000000       9.000000        Unweighted events, alpha=0.387587\n",
      "  => Total parameter prop_binAddTk_mm_mHad_bin3[0.00,-7.00,7.00] to be gaussian constrained\n",
      "------------------------------------------------------------\n",
      "4          29.783917       3.411540        total sum                     \n",
      "4          76.000000       8.717798        Unweighted events, alpha=0.391894\n",
      "  => Total parameter prop_binAddTk_mm_mHad_bin4[0.00,-7.00,7.00] to be gaussian constrained\n",
      "------------------------------------------------------------\n",
      "5          18.360417       2.770744        total sum                     \n",
      "5          44.000000       6.633250        Unweighted events, alpha=0.417282\n",
      "  => Total parameter prop_binAddTk_mm_mHad_bin5[0.00,-7.00,7.00] to be gaussian constrained\n",
      "------------------------------------------------------------\n",
      "6          12.591948       2.098818        total sum                     \n",
      "6          36.000000       6.000000        Unweighted events, alpha=0.349776\n",
      "  => Total parameter prop_binAddTk_mm_mHad_bin6[0.00,-7.00,7.00] to be gaussian constrained\n",
      "------------------------------------------------------------\n",
      "7          10.354324       2.224282        total sum                     \n",
      "7          22.000000       4.690416        Unweighted events, alpha=0.470651\n",
      "  => Total parameter prop_binAddTk_mm_mHad_bin7[0.00,-7.00,7.00] to be gaussian constrained\n",
      "------------------------------------------------------------\n",
      "8          8.625783        1.861952        total sum                     \n",
      "8          21.000000       4.582576        Unweighted events, alpha=0.410752\n",
      "  => Total parameter prop_binAddTk_mm_mHad_bin8[0.00,-7.00,7.00] to be gaussian constrained\n",
      "------------------------------------------------------------\n",
      "9          3.183652        1.044758        total sum                     \n",
      "9          9.000000        3.000000        Unweighted events, alpha=0.353739\n",
      "  => Number of weighted events is below poisson threshold\n",
      "    tau                  0.172536        0.172536                                      \n",
      "                         1.000000        1.000000        Unweighted events, alpha=0.172536\n",
      "      => Product of prop_binAddTk_mm_mHad_bin9_tau[1.00,0.00,30.85] and const [1.0000] to be poisson constrained\n",
      "  ----------------------------------------------------------\n",
      "    DstPipPi0            0.000000        0.000000                                      \n",
      "      => Error is zero, ignore      \n",
      "  ----------------------------------------------------------\n",
      "    DstPi0               0.046595        0.046595                                      \n",
      "                         1.000000        1.000000        Unweighted events, alpha=0.046595\n",
      "      => Product of prop_binAddTk_mm_mHad_bin9_DstPi0[1.00,0.00,30.85] and const [1.0000] to be poisson constrained\n",
      "  ----------------------------------------------------------\n",
      "    mu                   2.588001        1.009022                                      \n",
      "                         7.000000        2.645751        Unweighted events, alpha=0.369714\n",
      "      => Product of prop_binAddTk_mm_mHad_bin9_mu[7.00,0.07,45.79] and const [0.1429] to be poisson constrained\n",
      "  ----------------------------------------------------------\n",
      "    DstPip               0.000000        0.000000                                      \n",
      "      => Error is zero, ignore      \n",
      "  ----------------------------------------------------------\n",
      "    DstPipPim            0.008747        0.008619                                      \n",
      "                         1.000000        1.000000        Unweighted events, alpha=0.008747\n",
      "      => Product of prop_binAddTk_mm_mHad_bin9_DstPipPim[1.00,0.00,30.85] and const [1.0000] to be poisson constrained\n",
      "  ----------------------------------------------------------\n",
      "    Hc                   0.334267        0.202023                                      \n",
      "                         3.000000        1.732051        Unweighted events, alpha=0.111422\n",
      "      => Product of prop_binAddTk_mm_mHad_bin9_Hc[3.00,0.00,36.46] and const [0.3333] to be poisson constrained\n",
      "  ----------------------------------------------------------\n",
      "    DstPi0Pi0            0.033505        0.023822                                      \n",
      "                         2.000000        1.414214        Unweighted events, alpha=0.016753\n",
      "      => Product of prop_binAddTk_mm_mHad_bin9_DstPi0Pi0[2.00,0.00,33.79] and const [0.5000] to be poisson constrained\n",
      "  ----------------------------------------------------------\n",
      "------------------------------------------------------------\n",
      "10         4.268970        1.322789        total sum                     \n",
      "10         10.000000       3.162278        Unweighted events, alpha=0.426897\n",
      "  => Number of weighted events is below poisson threshold\n",
      "    tau                  0.000000        0.000000                                      \n",
      "      => Error is zero, ignore      \n",
      "  ----------------------------------------------------------\n",
      "    DstPipPi0            0.025196        0.025196                                      \n",
      "                         1.000000        1.000000        Unweighted events, alpha=0.025196\n",
      "      => Product of prop_binAddTk_mm_mHad_bin10_DstPipPi0[1.00,0.00,30.85] and const [1.0000] to be poisson constrained\n",
      "  ----------------------------------------------------------\n",
      "    DstPi0               0.239667        0.162217                                      \n",
      "                         2.000000        1.414214        Unweighted events, alpha=0.119834\n",
      "      => Product of prop_binAddTk_mm_mHad_bin10_DstPi0[2.00,0.00,33.79] and const [0.5000] to be poisson constrained\n",
      "  ----------------------------------------------------------\n",
      "    mu                   3.572682        1.300751                                      \n",
      "                         8.000000        2.828427        Unweighted events, alpha=0.446585\n",
      "      => Product of prop_binAddTk_mm_mHad_bin10_mu[8.00,0.12,47.91] and const [0.1250] to be poisson constrained\n",
      "  ----------------------------------------------------------\n",
      "    DstPip               0.128478        0.122586                                      \n",
      "                         1.000000        1.000000        Unweighted events, alpha=0.128478\n",
      "      => Product of prop_binAddTk_mm_mHad_bin10_DstPip[1.00,0.00,30.85] and const [1.0000] to be poisson constrained\n",
      "  ----------------------------------------------------------\n",
      "    DstPipPim            0.225565        0.109119                                      \n",
      "                         4.000000        2.000000        Unweighted events, alpha=0.056391\n",
      "      => Product of prop_binAddTk_mm_mHad_bin10_DstPipPim[4.00,0.00,38.96] and const [0.2500] to be poisson constrained\n",
      "  ----------------------------------------------------------\n",
      "    Hc                   0.066615        0.061807                                      \n",
      "                         1.000000        1.000000        Unweighted events, alpha=0.066615\n",
      "      => Product of prop_binAddTk_mm_mHad_bin10_Hc[1.00,0.00,30.85] and const [1.0000] to be poisson constrained\n",
      "  ----------------------------------------------------------\n",
      "    DstPi0Pi0            0.010767        0.010767                                      \n",
      "                         1.000000        1.000000        Unweighted events, alpha=0.010767\n",
      "      => Product of prop_binAddTk_mm_mHad_bin10_DstPi0Pi0[1.00,0.00,30.85] and const [1.0000] to be poisson constrained\n",
      "  ----------------------------------------------------------\n",
      "------------------------------------------------------------\n",
      "11         0.921246        0.333980        total sum                     \n",
      "11         8.000000        2.828427        Unweighted events, alpha=0.115156\n",
      "  => Number of weighted events is below poisson threshold\n",
      "    tau                  0.000000        0.000000                                      \n",
      "      => Error is zero, ignore      \n",
      "  ----------------------------------------------------------\n",
      "    DstPipPi0            0.000000        0.000000                                      \n",
      "      => Error is zero, ignore      \n",
      "  ----------------------------------------------------------\n",
      "    DstPi0               0.076036        0.076036                                      \n",
      "                         1.000000        1.000000        Unweighted events, alpha=0.076036\n",
      "      => Product of prop_binAddTk_mm_mHad_bin11_DstPi0[1.00,0.00,30.85] and const [1.0000] to be poisson constrained\n",
      "  ----------------------------------------------------------\n",
      "    mu                   0.496710        0.289285                                      \n",
      "                         3.000000        1.732051        Unweighted events, alpha=0.165570\n",
      "      => Product of prop_binAddTk_mm_mHad_bin11_mu[3.00,0.00,36.46] and const [0.3333] to be poisson constrained\n",
      "  ----------------------------------------------------------\n",
      "    DstPip               0.146253        0.099579                                      \n",
      "                         2.000000        1.414214        Unweighted events, alpha=0.073127\n",
      "      => Product of prop_binAddTk_mm_mHad_bin11_DstPip[2.00,0.00,33.79] and const [0.5000] to be poisson constrained\n",
      "  ----------------------------------------------------------\n",
      "    DstPipPim            0.179096        0.107814                                      \n",
      "                         3.000000        1.732051        Unweighted events, alpha=0.059699\n",
      "      => Product of prop_binAddTk_mm_mHad_bin11_DstPipPim[3.00,0.00,36.46] and const [0.3333] to be poisson constrained\n",
      "  ----------------------------------------------------------\n",
      "    Hc                   0.000000        0.000000                                      \n",
      "      => Error is zero, ignore      \n",
      "  ----------------------------------------------------------\n",
      "    DstPi0Pi0            0.023151        0.023151                                      \n",
      "                         1.000000        1.000000        Unweighted events, alpha=0.023151\n",
      "      => Product of prop_binAddTk_mm_mHad_bin11_DstPi0Pi0[1.00,0.00,30.85] and const [1.0000] to be poisson constrained\n",
      "  ----------------------------------------------------------\n",
      "------------------------------------------------------------\n",
      "12         1.574466        0.775849        total sum                     \n",
      "12         4.000000        2.000000        Unweighted events, alpha=0.393616\n",
      "  => Number of weighted events is below poisson threshold\n",
      "    tau                  0.000000        0.000000                                      \n",
      "      => Error is zero, ignore      \n",
      "  ----------------------------------------------------------\n",
      "    DstPipPi0            0.022136        0.022136                                      \n",
      "                         1.000000        1.000000        Unweighted events, alpha=0.022136\n",
      "      => Product of prop_binAddTk_mm_mHad_bin12_DstPipPi0[1.00,0.00,30.85] and const [1.0000] to be poisson constrained\n",
      "  ----------------------------------------------------------\n",
      "    DstPi0               0.100363        0.100363                                      \n",
      "                         1.000000        1.000000        Unweighted events, alpha=0.100363\n",
      "      => Product of prop_binAddTk_mm_mHad_bin12_DstPi0[1.00,0.00,30.85] and const [1.0000] to be poisson constrained\n",
      "  ----------------------------------------------------------\n",
      "    mu                   1.348988        0.763861                                      \n",
      "                         3.000000        1.732051        Unweighted events, alpha=0.449663\n",
      "      => Product of prop_binAddTk_mm_mHad_bin12_mu[3.00,0.00,36.46] and const [0.3333] to be poisson constrained\n",
      "  ----------------------------------------------------------\n",
      "    DstPip               0.000000        0.000000                                      \n",
      "      => Error is zero, ignore      \n",
      "  ----------------------------------------------------------\n",
      "    DstPipPim            0.094894        0.088482                                      \n",
      "                         1.000000        1.000000        Unweighted events, alpha=0.094894\n",
      "      => Product of prop_binAddTk_mm_mHad_bin12_DstPipPim[1.00,0.00,30.85] and const [1.0000] to be poisson constrained\n",
      "  ----------------------------------------------------------\n",
      "    Hc                   0.000000        0.000000                                      \n",
      "      => Error is zero, ignore      \n",
      "  ----------------------------------------------------------\n",
      "    DstPi0Pi0            0.008085        0.008085                                      \n",
      "                         1.000000        1.000000        Unweighted events, alpha=0.008085\n",
      "      => Product of prop_binAddTk_mm_mHad_bin12_DstPi0Pi0[1.00,0.00,30.85] and const [1.0000] to be poisson constrained\n",
      "  ----------------------------------------------------------\n",
      "------------------------------------------------------------\n",
      "13         0.857811        0.720372        total sum                     \n",
      "13         1.000000        1.000000        Unweighted events, alpha=0.857811\n",
      "  => Number of weighted events is below poisson threshold\n",
      "    tau                  0.000000        0.000000                                      \n",
      "      => Error is zero, ignore      \n",
      "  ----------------------------------------------------------\n",
      "    DstPipPi0            0.000000        0.000000                                      \n",
      "      => Error is zero, ignore      \n",
      "  ----------------------------------------------------------\n",
      "    DstPi0               0.000000        0.000000                                      \n",
      "      => Error is zero, ignore      \n",
      "  ----------------------------------------------------------\n",
      "    mu                   0.797031        0.717828                                      \n",
      "                         1.000000        1.000000        Unweighted events, alpha=0.797031\n",
      "      => Product of prop_binAddTk_mm_mHad_bin13_mu[1.00,0.00,30.85] and const [1.0000] to be poisson constrained\n",
      "  ----------------------------------------------------------\n",
      "    DstPip               0.000000        0.000000                                      \n",
      "      => Error is zero, ignore      \n",
      "  ----------------------------------------------------------\n",
      "    DstPipPim            0.060491        0.060491                                      \n",
      "                         1.000000        1.000000        Unweighted events, alpha=0.060491\n",
      "      => Product of prop_binAddTk_mm_mHad_bin13_DstPipPim[1.00,0.00,30.85] and const [1.0000] to be poisson constrained\n",
      "  ----------------------------------------------------------\n",
      "    Hc                   0.000000        0.000000                                      \n",
      "      => Error is zero, ignore      \n",
      "  ----------------------------------------------------------\n",
      "    DstPi0Pi0            0.000289        0.000289                                      \n",
      "                         1.000000        1.000000        Unweighted events, alpha=0.000289\n",
      "      => Product of prop_binAddTk_mm_mHad_bin13_DstPi0Pi0[1.00,0.00,30.85] and const [1.0000] to be poisson constrained\n",
      "  ----------------------------------------------------------\n",
      "------------------------------------------------------------\n",
      "14         0.997310        0.644548        total sum                     \n",
      "14         2.000000        1.414214        Unweighted events, alpha=0.498655\n",
      "  => Number of weighted events is below poisson threshold\n",
      "    tau                  0.000000        0.000000                                      \n",
      "      => Error is zero, ignore      \n",
      "  ----------------------------------------------------------\n",
      "    DstPipPi0            0.000000        0.000000                                      \n",
      "      => Error is zero, ignore      \n",
      "  ----------------------------------------------------------\n",
      "    DstPi0               0.000000        0.000000                                      \n",
      "      => Error is zero, ignore      \n",
      "  ----------------------------------------------------------\n",
      "    mu                   0.771594        0.623739                                      \n",
      "                         2.000000        1.414214        Unweighted events, alpha=0.385797\n",
      "      => Product of prop_binAddTk_mm_mHad_bin14_mu[2.00,0.00,33.79] and const [0.5000] to be poisson constrained\n",
      "  ----------------------------------------------------------\n",
      "    DstPip               0.000000        0.000000                                      \n",
      "      => Error is zero, ignore      \n",
      "  ----------------------------------------------------------\n",
      "    DstPipPim            0.000697        0.000697                                      \n",
      "                         1.000000        1.000000        Unweighted events, alpha=0.000697\n",
      "      => Product of prop_binAddTk_mm_mHad_bin14_DstPipPim[1.00,0.00,30.85] and const [1.0000] to be poisson constrained\n",
      "  ----------------------------------------------------------\n",
      "    Hc                   0.225019        0.162452                                      \n",
      "                         2.000000        1.414214        Unweighted events, alpha=0.112510\n",
      "      => Product of prop_binAddTk_mm_mHad_bin14_Hc[2.00,0.00,33.79] and const [0.5000] to be poisson constrained\n",
      "  ----------------------------------------------------------\n",
      "    DstPi0Pi0            0.000000        0.000000                                      \n",
      "      => Error is zero, ignore      \n",
      "  ----------------------------------------------------------\n",
      "------------------------------------------------------------\n",
      "Channel AddTk_p_mHad will use autoMCStats with settings: event-threshold=20, include-signal=1, hist-mode=1\n",
      "============================================================\n",
      "Analysing bin errors for: prop_binAddTk_p_mHad\n",
      "Poisson cut-off: 20\n",
      "============================================================\n",
      "Bin        Contents        Error           Notes                         \n",
      "0          128.220275      6.159416        total sum                     \n",
      "0          433.000000      20.808652       Unweighted events, alpha=0.296121\n",
      "  => Total parameter prop_binAddTk_p_mHad_bin0[0.00,-7.00,7.00] to be gaussian constrained\n",
      "------------------------------------------------------------\n",
      "1          504.960256      12.981814       total sum                     \n",
      "1          1513.000000     38.897301       Unweighted events, alpha=0.333748\n",
      "  => Total parameter prop_binAddTk_p_mHad_bin1[0.00,-7.00,7.00] to be gaussian constrained\n",
      "------------------------------------------------------------\n",
      "2          768.777930      16.308009       total sum                     \n",
      "2          2222.000000     47.138095       Unweighted events, alpha=0.345985\n",
      "  => Total parameter prop_binAddTk_p_mHad_bin2[0.00,-7.00,7.00] to be gaussian constrained\n",
      "------------------------------------------------------------\n",
      "3          746.105635      15.940974       total sum                     \n",
      "3          2191.000000     46.808119       Unweighted events, alpha=0.340532\n",
      "  => Total parameter prop_binAddTk_p_mHad_bin3[0.00,-7.00,7.00] to be gaussian constrained\n",
      "------------------------------------------------------------\n",
      "4          689.056797      15.601693       total sum                     \n",
      "4          1951.000000     44.170126       Unweighted events, alpha=0.353181\n",
      "  => Total parameter prop_binAddTk_p_mHad_bin4[0.00,-7.00,7.00] to be gaussian constrained\n",
      "------------------------------------------------------------\n",
      "5          643.296466      16.717049       total sum                     \n",
      "5          1481.000000     38.483763       Unweighted events, alpha=0.434366\n",
      "  => Total parameter prop_binAddTk_p_mHad_bin5[0.00,-7.00,7.00] to be gaussian constrained\n",
      "------------------------------------------------------------\n",
      "6          562.810291      14.092674       total sum                     \n",
      "6          1595.000000     39.937451       Unweighted events, alpha=0.352859\n",
      "  => Total parameter prop_binAddTk_p_mHad_bin6[0.00,-7.00,7.00] to be gaussian constrained\n",
      "------------------------------------------------------------\n",
      "7          499.756379      12.759439       total sum                     \n",
      "7          1534.000000     39.166312       Unweighted events, alpha=0.325786\n",
      "  => Total parameter prop_binAddTk_p_mHad_bin7[0.00,-7.00,7.00] to be gaussian constrained\n",
      "------------------------------------------------------------\n",
      "8          463.409686      12.106519       total sum                     \n",
      "8          1465.000000     38.275318       Unweighted events, alpha=0.316321\n",
      "  => Total parameter prop_binAddTk_p_mHad_bin8[0.00,-7.00,7.00] to be gaussian constrained\n",
      "------------------------------------------------------------\n",
      "9          458.978849      12.809976       total sum                     \n",
      "9          1284.000000     35.832946       Unweighted events, alpha=0.357460\n",
      "  => Total parameter prop_binAddTk_p_mHad_bin9[0.00,-7.00,7.00] to be gaussian constrained\n",
      "------------------------------------------------------------\n",
      "10         429.664033      11.410780       total sum                     \n",
      "10         1418.000000     37.656341       Unweighted events, alpha=0.303007\n",
      "  => Total parameter prop_binAddTk_p_mHad_bin10[0.00,-7.00,7.00] to be gaussian constrained\n",
      "------------------------------------------------------------\n",
      "11         451.827192      11.114139       total sum                     \n",
      "11         1653.000000     40.657103       Unweighted events, alpha=0.273338\n",
      "  => Total parameter prop_binAddTk_p_mHad_bin11[0.00,-7.00,7.00] to be gaussian constrained\n",
      "------------------------------------------------------------\n",
      "12         589.741327      12.045005       total sum                     \n",
      "12         2397.000000     48.959167       Unweighted events, alpha=0.246033\n",
      "  => Total parameter prop_binAddTk_p_mHad_bin12[0.00,-7.00,7.00] to be gaussian constrained\n",
      "------------------------------------------------------------\n",
      "13         1028.926553     15.014490       total sum                     \n",
      "13         4696.000000     68.527367       Unweighted events, alpha=0.219107\n",
      "  => Total parameter prop_binAddTk_p_mHad_bin13[0.00,-7.00,7.00] to be gaussian constrained\n",
      "------------------------------------------------------------\n",
      "14         1444.934093     16.831378       total sum                     \n",
      "14         7370.000000     85.848704       Unweighted events, alpha=0.196056\n",
      "  => Total parameter prop_binAddTk_p_mHad_bin14[0.00,-7.00,7.00] to be gaussian constrained\n",
      "------------------------------------------------------------\n",
      "15         1258.447162     16.219813       total sum                     \n",
      "15         6020.000000     77.588659       Unweighted events, alpha=0.209044\n",
      "  => Total parameter prop_binAddTk_p_mHad_bin15[0.00,-7.00,7.00] to be gaussian constrained\n",
      "------------------------------------------------------------\n",
      "16         845.450211      13.699385       total sum                     \n",
      "16         3809.000000     61.717096       Unweighted events, alpha=0.221961\n",
      "  => Total parameter prop_binAddTk_p_mHad_bin16[0.00,-7.00,7.00] to be gaussian constrained\n",
      "------------------------------------------------------------\n",
      "17         617.622334      11.334640       total sum                     \n",
      "17         2969.000000     54.488531       Unweighted events, alpha=0.208024\n",
      "  => Total parameter prop_binAddTk_p_mHad_bin17[0.00,-7.00,7.00] to be gaussian constrained\n",
      "------------------------------------------------------------\n",
      "18         426.083507      9.694370        total sum                     \n",
      "18         1932.000000     43.954522       Unweighted events, alpha=0.220540\n",
      "  => Total parameter prop_binAddTk_p_mHad_bin18[0.00,-7.00,7.00] to be gaussian constrained\n",
      "------------------------------------------------------------\n",
      "19         357.327440      9.039610        total sum                     \n",
      "19         1563.000000     39.534795       Unweighted events, alpha=0.228616\n",
      "  => Total parameter prop_binAddTk_p_mHad_bin19[0.00,-7.00,7.00] to be gaussian constrained\n",
      "------------------------------------------------------------\n",
      "20         283.663543      8.237033        total sum                     \n",
      "20         1186.000000     34.438351       Unweighted events, alpha=0.239177\n",
      "  => Total parameter prop_binAddTk_p_mHad_bin20[0.00,-7.00,7.00] to be gaussian constrained\n",
      "------------------------------------------------------------\n",
      "21         229.988548      7.340000        total sum                     \n",
      "21         982.000000      31.336879       Unweighted events, alpha=0.234204\n",
      "  => Total parameter prop_binAddTk_p_mHad_bin21[0.00,-7.00,7.00] to be gaussian constrained\n",
      "------------------------------------------------------------\n",
      "22         212.468206      7.422388        total sum                     \n",
      "22         819.000000      28.618176       Unweighted events, alpha=0.259424\n",
      "  => Total parameter prop_binAddTk_p_mHad_bin22[0.00,-7.00,7.00] to be gaussian constrained\n",
      "------------------------------------------------------------\n",
      "23         177.482734      8.378622        total sum                     \n",
      "23         449.000000      21.189620       Unweighted events, alpha=0.395284\n",
      "  => Total parameter prop_binAddTk_p_mHad_bin23[0.00,-7.00,7.00] to be gaussian constrained\n",
      "------------------------------------------------------------\n",
      "24         159.340279      6.235277        total sum                     \n",
      "24         653.000000      25.553865       Unweighted events, alpha=0.244013\n",
      "  => Total parameter prop_binAddTk_p_mHad_bin24[0.00,-7.00,7.00] to be gaussian constrained\n",
      "------------------------------------------------------------\n",
      "25         137.423831      5.877395        total sum                     \n",
      "25         547.000000      23.388031       Unweighted events, alpha=0.251232\n",
      "  => Total parameter prop_binAddTk_p_mHad_bin25[0.00,-7.00,7.00] to be gaussian constrained\n",
      "------------------------------------------------------------\n",
      "26         122.661827      5.609480        total sum                     \n",
      "26         478.000000      21.863211       Unweighted events, alpha=0.256615\n",
      "  => Total parameter prop_binAddTk_p_mHad_bin26[0.00,-7.00,7.00] to be gaussian constrained\n",
      "------------------------------------------------------------\n",
      "27         114.939003      5.304489        total sum                     \n",
      "27         470.000000      21.679483       Unweighted events, alpha=0.244551\n",
      "  => Total parameter prop_binAddTk_p_mHad_bin27[0.00,-7.00,7.00] to be gaussian constrained\n",
      "------------------------------------------------------------\n",
      "28         105.060167      5.214301        total sum                     \n",
      "28         406.000000      20.149442       Unweighted events, alpha=0.258769\n",
      "  => Total parameter prop_binAddTk_p_mHad_bin28[0.00,-7.00,7.00] to be gaussian constrained\n",
      "------------------------------------------------------------\n",
      "29         96.342624       4.744186        total sum                     \n",
      "29         412.000000      20.297783       Unweighted events, alpha=0.233841\n",
      "  => Total parameter prop_binAddTk_p_mHad_bin29[0.00,-7.00,7.00] to be gaussian constrained\n",
      "------------------------------------------------------------\n",
      "30         93.965122       5.018621        total sum                     \n",
      "30         351.000000      18.734994       Unweighted events, alpha=0.267707\n",
      "  => Total parameter prop_binAddTk_p_mHad_bin30[0.00,-7.00,7.00] to be gaussian constrained\n",
      "------------------------------------------------------------\n",
      "31         75.361922       4.454247        total sum                     \n",
      "31         286.000000      16.911535       Unweighted events, alpha=0.263503\n",
      "  => Total parameter prop_binAddTk_p_mHad_bin31[0.00,-7.00,7.00] to be gaussian constrained\n",
      "------------------------------------------------------------\n",
      "32         69.712176       4.314893        total sum                     \n",
      "32         261.000000      16.155494       Unweighted events, alpha=0.267096\n",
      "  => Total parameter prop_binAddTk_p_mHad_bin32[0.00,-7.00,7.00] to be gaussian constrained\n",
      "------------------------------------------------------------\n",
      "33         66.872927       3.968830        total sum                     \n",
      "33         284.000000      16.852300       Unweighted events, alpha=0.235468\n",
      "  => Total parameter prop_binAddTk_p_mHad_bin33[0.00,-7.00,7.00] to be gaussian constrained\n",
      "------------------------------------------------------------\n",
      "34         1253.729522     20.741050       total sum                     \n",
      "34         3654.000000     60.448325       Unweighted events, alpha=0.343112\n",
      "  => Total parameter prop_binAddTk_p_mHad_bin34[0.00,-7.00,7.00] to be gaussian constrained\n",
      "------------------------------------------------------------\n",
      "Channel AddTk_pm_mHad will use autoMCStats with settings: event-threshold=20, include-signal=1, hist-mode=1\n",
      "============================================================\n",
      "Analysing bin errors for: prop_binAddTk_pm_mHad\n",
      "Poisson cut-off: 20\n",
      "============================================================\n",
      "Bin        Contents        Error           Notes                         \n",
      "0          19.353572       1.166616        total sum                     \n",
      "0          275.000000      16.583124       Unweighted events, alpha=0.070377\n",
      "  => Total parameter prop_binAddTk_pm_mHad_bin0[0.00,-7.00,7.00] to be gaussian constrained\n",
      "------------------------------------------------------------\n",
      "1          115.883568      3.751333        total sum                     \n",
      "1          954.000000      30.886890       Unweighted events, alpha=0.121471\n",
      "  => Total parameter prop_binAddTk_pm_mHad_bin1[0.00,-7.00,7.00] to be gaussian constrained\n",
      "------------------------------------------------------------\n",
      "2          173.310833      5.335876        total sum                     \n",
      "2          1055.000000     32.480764       Unweighted events, alpha=0.164276\n",
      "  => Total parameter prop_binAddTk_pm_mHad_bin2[0.00,-7.00,7.00] to be gaussian constrained\n",
      "------------------------------------------------------------\n",
      "3          213.136277      5.785464        total sum                     \n",
      "3          1357.000000     36.837481       Unweighted events, alpha=0.157064\n",
      "  => Total parameter prop_binAddTk_pm_mHad_bin3[0.00,-7.00,7.00] to be gaussian constrained\n",
      "------------------------------------------------------------\n",
      "4          207.863196      5.769752        total sum                     \n",
      "4          1298.000000     36.027767       Unweighted events, alpha=0.160141\n",
      "  => Total parameter prop_binAddTk_pm_mHad_bin4[0.00,-7.00,7.00] to be gaussian constrained\n",
      "------------------------------------------------------------\n",
      "5          178.282235      5.457792        total sum                     \n",
      "5          1067.000000     32.664966       Unweighted events, alpha=0.167087\n",
      "  => Total parameter prop_binAddTk_pm_mHad_bin5[0.00,-7.00,7.00] to be gaussian constrained\n",
      "------------------------------------------------------------\n",
      "6          169.990649      5.611330        total sum                     \n",
      "6          918.000000      30.298515       Unweighted events, alpha=0.185175\n",
      "  => Total parameter prop_binAddTk_pm_mHad_bin6[0.00,-7.00,7.00] to be gaussian constrained\n",
      "------------------------------------------------------------\n",
      "7          165.949529      5.793866        total sum                     \n",
      "7          820.000000      28.635642       Unweighted events, alpha=0.202377\n",
      "  => Total parameter prop_binAddTk_pm_mHad_bin7[0.00,-7.00,7.00] to be gaussian constrained\n",
      "------------------------------------------------------------\n",
      "8          134.245656      5.163994        total sum                     \n",
      "8          676.000000      26.000000       Unweighted events, alpha=0.198588\n",
      "  => Total parameter prop_binAddTk_pm_mHad_bin8[0.00,-7.00,7.00] to be gaussian constrained\n",
      "------------------------------------------------------------\n",
      "9          104.588399      4.694712        total sum                     \n",
      "9          496.000000      22.271057       Unweighted events, alpha=0.210864\n",
      "  => Total parameter prop_binAddTk_pm_mHad_bin9[0.00,-7.00,7.00] to be gaussian constrained\n",
      "------------------------------------------------------------\n",
      "10         92.227705       4.551584        total sum                     \n",
      "10         411.000000      20.273135       Unweighted events, alpha=0.224398\n",
      "  => Total parameter prop_binAddTk_pm_mHad_bin10[0.00,-7.00,7.00] to be gaussian constrained\n",
      "------------------------------------------------------------\n",
      "11         73.891147       3.751172        total sum                     \n",
      "11         388.000000      19.697716       Unweighted events, alpha=0.190441\n",
      "  => Total parameter prop_binAddTk_pm_mHad_bin11[0.00,-7.00,7.00] to be gaussian constrained\n",
      "------------------------------------------------------------\n",
      "12         75.437915       4.027118        total sum                     \n",
      "12         351.000000      18.734994       Unweighted events, alpha=0.214923\n",
      "  => Total parameter prop_binAddTk_pm_mHad_bin12[0.00,-7.00,7.00] to be gaussian constrained\n",
      "------------------------------------------------------------\n",
      "13         60.542418       3.558173        total sum                     \n",
      "13         290.000000      17.029386       Unweighted events, alpha=0.208767\n",
      "  => Total parameter prop_binAddTk_pm_mHad_bin13[0.00,-7.00,7.00] to be gaussian constrained\n",
      "------------------------------------------------------------\n",
      "14         49.018160       2.810578        total sum                     \n",
      "14         304.000000      17.435596       Unweighted events, alpha=0.161244\n",
      "  => Total parameter prop_binAddTk_pm_mHad_bin14[0.00,-7.00,7.00] to be gaussian constrained\n",
      "------------------------------------------------------------\n",
      "15         47.180370       3.135905        total sum                     \n",
      "15         226.000000      15.033296       Unweighted events, alpha=0.208763\n",
      "  => Total parameter prop_binAddTk_pm_mHad_bin15[0.00,-7.00,7.00] to be gaussian constrained\n",
      "------------------------------------------------------------\n",
      "16         39.272542       2.743933        total sum                     \n",
      "16         205.000000      14.317821       Unweighted events, alpha=0.191573\n",
      "  => Total parameter prop_binAddTk_pm_mHad_bin16[0.00,-7.00,7.00] to be gaussian constrained\n",
      "------------------------------------------------------------\n",
      "17         35.802280       2.452145        total sum                     \n",
      "17         213.000000      14.594520       Unweighted events, alpha=0.168086\n",
      "  => Total parameter prop_binAddTk_pm_mHad_bin17[0.00,-7.00,7.00] to be gaussian constrained\n",
      "------------------------------------------------------------\n",
      "18         31.388067       2.409141        total sum                     \n",
      "18         170.000000      13.038405       Unweighted events, alpha=0.184636\n",
      "  => Total parameter prop_binAddTk_pm_mHad_bin18[0.00,-7.00,7.00] to be gaussian constrained\n",
      "------------------------------------------------------------\n",
      "19         27.493682       2.120531        total sum                     \n",
      "19         168.000000      12.961481       Unweighted events, alpha=0.163653\n",
      "  => Total parameter prop_binAddTk_pm_mHad_bin19[0.00,-7.00,7.00] to be gaussian constrained\n",
      "------------------------------------------------------------\n",
      "20         25.506313       2.045549        total sum                     \n",
      "20         155.000000      12.449900       Unweighted events, alpha=0.164557\n",
      "  => Total parameter prop_binAddTk_pm_mHad_bin20[0.00,-7.00,7.00] to be gaussian constrained\n",
      "------------------------------------------------------------\n",
      "21         21.448030       1.869935        total sum                     \n",
      "21         132.000000      11.489125       Unweighted events, alpha=0.162485\n",
      "  => Total parameter prop_binAddTk_pm_mHad_bin21[0.00,-7.00,7.00] to be gaussian constrained\n",
      "------------------------------------------------------------\n",
      "22         18.178476       1.534433        total sum                     \n",
      "22         140.000000      11.832160       Unweighted events, alpha=0.129846\n",
      "  => Total parameter prop_binAddTk_pm_mHad_bin22[0.00,-7.00,7.00] to be gaussian constrained\n",
      "------------------------------------------------------------\n",
      "23         15.816330       1.527473        total sum                     \n",
      "23         107.000000      10.344080       Unweighted events, alpha=0.147816\n",
      "  => Total parameter prop_binAddTk_pm_mHad_bin23[0.00,-7.00,7.00] to be gaussian constrained\n",
      "------------------------------------------------------------\n",
      "24         16.008115       1.696235        total sum                     \n",
      "24         89.000000       9.433981        Unweighted events, alpha=0.179866\n",
      "  => Total parameter prop_binAddTk_pm_mHad_bin24[0.00,-7.00,7.00] to be gaussian constrained\n",
      "------------------------------------------------------------\n",
      "25         14.793416       1.531802        total sum                     \n",
      "25         93.000000       9.643651        Unweighted events, alpha=0.159069\n",
      "  => Total parameter prop_binAddTk_pm_mHad_bin25[0.00,-7.00,7.00] to be gaussian constrained\n",
      "------------------------------------------------------------\n",
      "26         13.140071       1.474009        total sum                     \n",
      "26         79.000000       8.888194        Unweighted events, alpha=0.166330\n",
      "  => Total parameter prop_binAddTk_pm_mHad_bin26[0.00,-7.00,7.00] to be gaussian constrained\n",
      "------------------------------------------------------------\n",
      "27         12.165709       3.207895        total sum                     \n",
      "27         14.000000       3.741657        Unweighted events, alpha=0.868979\n",
      "  => Number of weighted events is below poisson threshold\n",
      "    tau                  0.332444        0.332444                                      \n",
      "                         1.000000        1.000000        Unweighted events, alpha=0.332444\n",
      "      => Product of prop_binAddTk_pm_mHad_bin27_tau[1.00,0.00,30.85] and const [1.0000] to be poisson constrained\n",
      "  ----------------------------------------------------------\n",
      "    DstPipPi0            0.013520        0.009645                                      \n",
      "                         2.000000        1.414214        Unweighted events, alpha=0.006760\n",
      "      => Product of prop_binAddTk_pm_mHad_bin27_DstPipPi0[2.00,0.00,33.79] and const [0.5000] to be poisson constrained\n",
      "  ----------------------------------------------------------\n",
      "    DstPi0               0.000000        0.000000                                      \n",
      "      => Error is zero, ignore      \n",
      "  ----------------------------------------------------------\n",
      "    mu                   0.880177        0.441382                                      \n",
      "                         4.000000        2.000000        Unweighted events, alpha=0.220044\n",
      "      => Product of prop_binAddTk_pm_mHad_bin27_mu[4.00,0.00,38.96] and const [0.2500] to be poisson constrained\n",
      "  ----------------------------------------------------------\n",
      "    DstPip               0.951528        0.340874                                      \n",
      "                         8.000000        2.828427        Unweighted events, alpha=0.118941\n",
      "      => Product of prop_binAddTk_pm_mHad_bin27_DstPip[8.00,0.12,47.91] and const [0.1250] to be poisson constrained\n",
      "  ----------------------------------------------------------\n",
      "    DstPipPim            1.104931        0.277509                                      \n",
      "                         16.000000       4.000000        Unweighted events, alpha=0.069058\n",
      "      => Product of prop_binAddTk_pm_mHad_bin27_DstPipPim[16.00,1.33,63.38] and const [0.0625] to be poisson constrained\n",
      "  ----------------------------------------------------------\n",
      "    Hc                   8.883108        3.129210                                      \n",
      "                         8.000000        2.828427        Unweighted events, alpha=1.110389\n",
      "      => Product of prop_binAddTk_pm_mHad_bin27_Hc[8.00,0.12,47.91] and const [0.1250] to be poisson constrained\n",
      "  ----------------------------------------------------------\n",
      "    DstPi0Pi0            0.000000        0.000000                                      \n",
      "      => Error is zero, ignore      \n",
      "  ----------------------------------------------------------\n",
      "------------------------------------------------------------\n",
      "28         11.537310       1.300969        total sum                     \n",
      "28         79.000000       8.888194        Unweighted events, alpha=0.146042\n",
      "  => Total parameter prop_binAddTk_pm_mHad_bin28[0.00,-7.00,7.00] to be gaussian constrained\n",
      "------------------------------------------------------------\n",
      "29         48.883238       3.059701        total sum                     \n",
      "29         255.000000      15.968719       Unweighted events, alpha=0.191699\n",
      "  => Total parameter prop_binAddTk_pm_mHad_bin29[0.00,-7.00,7.00] to be gaussian constrained\n",
      "------------------------------------------------------------\n",
      "Channel AddTk_pm_mVis will use autoMCStats with settings: event-threshold=20, include-signal=1, hist-mode=1\n",
      "============================================================\n",
      "Analysing bin errors for: prop_binAddTk_pm_mVis\n",
      "Poisson cut-off: 20\n",
      "============================================================\n",
      "Bin        Contents        Error           Notes                         \n",
      "0          7.715193        1.128116        total sum                     \n",
      "0          47.000000       6.855655        Unweighted events, alpha=0.164153\n",
      "  => Total parameter prop_binAddTk_pm_mVis_bin0[0.00,-7.00,7.00] to be gaussian constrained\n",
      "------------------------------------------------------------\n",
      "1          8.334424        1.054601        total sum                     \n",
      "1          62.000000       7.874008        Unweighted events, alpha=0.134426\n",
      "  => Total parameter prop_binAddTk_pm_mVis_bin1[0.00,-7.00,7.00] to be gaussian constrained\n",
      "------------------------------------------------------------\n",
      "2          12.722736       1.093255        total sum                     \n",
      "2          135.000000      11.618950       Unweighted events, alpha=0.094242\n",
      "  => Total parameter prop_binAddTk_pm_mVis_bin2[0.00,-7.00,7.00] to be gaussian constrained\n",
      "------------------------------------------------------------\n",
      "3          23.970714       1.666438        total sum                     \n",
      "3          207.000000      14.387495       Unweighted events, alpha=0.115801\n",
      "  => Total parameter prop_binAddTk_pm_mVis_bin3[0.00,-7.00,7.00] to be gaussian constrained\n",
      "------------------------------------------------------------\n",
      "4          31.164304       2.051809        total sum                     \n",
      "4          231.000000      15.198684       Unweighted events, alpha=0.134910\n",
      "  => Total parameter prop_binAddTk_pm_mVis_bin4[0.00,-7.00,7.00] to be gaussian constrained\n",
      "------------------------------------------------------------\n",
      "5          43.693182       2.543968        total sum                     \n",
      "5          295.000000      17.175564       Unweighted events, alpha=0.148112\n",
      "  => Total parameter prop_binAddTk_pm_mVis_bin5[0.00,-7.00,7.00] to be gaussian constrained\n",
      "------------------------------------------------------------\n",
      "6          57.868493       2.934615        total sum                     \n",
      "6          389.000000      19.723083       Unweighted events, alpha=0.148762\n",
      "  => Total parameter prop_binAddTk_pm_mVis_bin6[0.00,-7.00,7.00] to be gaussian constrained\n",
      "------------------------------------------------------------\n",
      "7          69.647311       3.034270        total sum                     \n",
      "7          527.000000      22.956481       Unweighted events, alpha=0.132158\n",
      "  => Total parameter prop_binAddTk_pm_mVis_bin7[0.00,-7.00,7.00] to be gaussian constrained\n",
      "------------------------------------------------------------\n",
      "8          83.891095       3.810109        total sum                     \n",
      "8          485.000000      22.022716       Unweighted events, alpha=0.172971\n",
      "  => Total parameter prop_binAddTk_pm_mVis_bin8[0.00,-7.00,7.00] to be gaussian constrained\n",
      "------------------------------------------------------------\n",
      "9          99.239089       4.066042        total sum                     \n",
      "9          596.000000      24.413111       Unweighted events, alpha=0.166509\n",
      "  => Total parameter prop_binAddTk_pm_mVis_bin9[0.00,-7.00,7.00] to be gaussian constrained\n",
      "------------------------------------------------------------\n",
      "10         107.550904      3.973209        total sum                     \n",
      "10         733.000000      27.073973       Unweighted events, alpha=0.146727\n",
      "  => Total parameter prop_binAddTk_pm_mVis_bin10[0.00,-7.00,7.00] to be gaussian constrained\n",
      "------------------------------------------------------------\n",
      "11         113.096552      3.808121        total sum                     \n",
      "11         882.000000      29.698485       Unweighted events, alpha=0.128227\n",
      "  => Total parameter prop_binAddTk_pm_mVis_bin11[0.00,-7.00,7.00] to be gaussian constrained\n",
      "------------------------------------------------------------\n",
      "12         142.774511      4.654794        total sum                     \n",
      "12         941.000000      30.675723       Unweighted events, alpha=0.151726\n",
      "  => Total parameter prop_binAddTk_pm_mVis_bin12[0.00,-7.00,7.00] to be gaussian constrained\n",
      "------------------------------------------------------------\n",
      "13         145.436161      4.643095        total sum                     \n",
      "13         981.000000      31.320920       Unweighted events, alpha=0.148253\n",
      "  => Total parameter prop_binAddTk_pm_mVis_bin13[0.00,-7.00,7.00] to be gaussian constrained\n",
      "------------------------------------------------------------\n",
      "14         154.218156      4.937808        total sum                     \n",
      "14         975.000000      31.224990       Unweighted events, alpha=0.158172\n",
      "  => Total parameter prop_binAddTk_pm_mVis_bin14[0.00,-7.00,7.00] to be gaussian constrained\n",
      "------------------------------------------------------------\n",
      "15         166.229758      5.964069        total sum                     \n",
      "15         777.000000      27.874720       Unweighted events, alpha=0.213938\n",
      "  => Total parameter prop_binAddTk_pm_mVis_bin15[0.00,-7.00,7.00] to be gaussian constrained\n",
      "------------------------------------------------------------\n",
      "16         163.216540      5.248002        total sum                     \n",
      "16         967.000000      31.096624       Unweighted events, alpha=0.168786\n",
      "  => Total parameter prop_binAddTk_pm_mVis_bin16[0.00,-7.00,7.00] to be gaussian constrained\n",
      "------------------------------------------------------------\n",
      "17         164.856547      5.708988        total sum                     \n",
      "17         834.000000      28.879058       Unweighted events, alpha=0.197670\n",
      "  => Total parameter prop_binAddTk_pm_mVis_bin17[0.00,-7.00,7.00] to be gaussian constrained\n",
      "------------------------------------------------------------\n",
      "18         159.110581      5.581839        total sum                     \n",
      "18         813.000000      28.513155       Unweighted events, alpha=0.195708\n",
      "  => Total parameter prop_binAddTk_pm_mVis_bin18[0.00,-7.00,7.00] to be gaussian constrained\n",
      "------------------------------------------------------------\n",
      "19         128.089009      5.063695        total sum                     \n",
      "19         640.000000      25.298221       Unweighted events, alpha=0.200139\n",
      "  => Total parameter prop_binAddTk_pm_mVis_bin19[0.00,-7.00,7.00] to be gaussian constrained\n",
      "------------------------------------------------------------\n",
      "20         107.062050      4.589801        total sum                     \n",
      "20         544.000000      23.323808       Unweighted events, alpha=0.196805\n",
      "  => Total parameter prop_binAddTk_pm_mVis_bin20[0.00,-7.00,7.00] to be gaussian constrained\n",
      "------------------------------------------------------------\n",
      "21         98.122420       5.027816        total sum                     \n",
      "21         381.000000      19.519221       Unweighted events, alpha=0.257539\n",
      "  => Total parameter prop_binAddTk_pm_mVis_bin21[0.00,-7.00,7.00] to be gaussian constrained\n",
      "------------------------------------------------------------\n",
      "22         73.879008       4.558435        total sum                     \n",
      "22         263.000000      16.217275       Unweighted events, alpha=0.280909\n",
      "  => Total parameter prop_binAddTk_pm_mVis_bin22[0.00,-7.00,7.00] to be gaussian constrained\n",
      "------------------------------------------------------------\n",
      "23         50.446470       4.140077        total sum                     \n",
      "23         148.000000      12.165525       Unweighted events, alpha=0.340855\n",
      "  => Total parameter prop_binAddTk_pm_mVis_bin23[0.00,-7.00,7.00] to be gaussian constrained\n",
      "------------------------------------------------------------\n",
      "Channel AddTk_pp_mHad will use autoMCStats with settings: event-threshold=20, include-signal=1, hist-mode=1\n",
      "============================================================\n",
      "Analysing bin errors for: prop_binAddTk_pp_mHad\n",
      "Poisson cut-off: 20\n",
      "============================================================\n",
      "Bin        Contents        Error           Notes                         \n",
      "0          8.142945        1.591726        total sum                     \n",
      "0          26.000000       5.099020        Unweighted events, alpha=0.313190\n",
      "  => Total parameter prop_binAddTk_pp_mHad_bin0[0.00,-7.00,7.00] to be gaussian constrained\n",
      "------------------------------------------------------------\n",
      "1          58.426166       4.575969        total sum                     \n",
      "1          163.000000      12.767145       Unweighted events, alpha=0.358443\n",
      "  => Total parameter prop_binAddTk_pp_mHad_bin1[0.00,-7.00,7.00] to be gaussian constrained\n",
      "------------------------------------------------------------\n",
      "2          70.409204       4.781302        total sum                     \n",
      "2          217.000000      14.730920       Unweighted events, alpha=0.324466\n",
      "  => Total parameter prop_binAddTk_pp_mHad_bin2[0.00,-7.00,7.00] to be gaussian constrained\n",
      "------------------------------------------------------------\n",
      "3          112.050939      5.407995        total sum                     \n",
      "3          429.000000      20.712315       Unweighted events, alpha=0.261191\n",
      "  => Total parameter prop_binAddTk_pp_mHad_bin3[0.00,-7.00,7.00] to be gaussian constrained\n",
      "------------------------------------------------------------\n",
      "4          84.320964       4.486760        total sum                     \n",
      "4          353.000000      18.788294       Unweighted events, alpha=0.238870\n",
      "  => Total parameter prop_binAddTk_pp_mHad_bin4[0.00,-7.00,7.00] to be gaussian constrained\n",
      "------------------------------------------------------------\n",
      "5          64.272426       3.972027        total sum                     \n",
      "5          262.000000      16.186414       Unweighted events, alpha=0.245315\n",
      "  => Total parameter prop_binAddTk_pp_mHad_bin5[0.00,-7.00,7.00] to be gaussian constrained\n",
      "------------------------------------------------------------\n",
      "6          38.738827       3.114165        total sum                     \n",
      "6          155.000000      12.449900       Unweighted events, alpha=0.249928\n",
      "  => Total parameter prop_binAddTk_pp_mHad_bin6[0.00,-7.00,7.00] to be gaussian constrained\n",
      "------------------------------------------------------------\n",
      "7          30.084040       2.790617        total sum                     \n",
      "7          116.000000      10.770330       Unweighted events, alpha=0.259345\n",
      "  => Total parameter prop_binAddTk_pp_mHad_bin7[0.00,-7.00,7.00] to be gaussian constrained\n",
      "------------------------------------------------------------\n",
      "8          24.627446       2.982539        total sum                     \n",
      "8          68.000000       8.246211        Unweighted events, alpha=0.362168\n",
      "  => Total parameter prop_binAddTk_pp_mHad_bin8[0.00,-7.00,7.00] to be gaussian constrained\n",
      "------------------------------------------------------------\n",
      "9          14.633304       1.867662        total sum                     \n",
      "9          61.000000       7.810250        Unweighted events, alpha=0.239890\n",
      "  => Total parameter prop_binAddTk_pp_mHad_bin9[0.00,-7.00,7.00] to be gaussian constrained\n",
      "------------------------------------------------------------\n",
      "10         11.448970       1.630895        total sum                     \n",
      "10         49.000000       7.000000        Unweighted events, alpha=0.233652\n",
      "  => Total parameter prop_binAddTk_pp_mHad_bin10[0.00,-7.00,7.00] to be gaussian constrained\n",
      "------------------------------------------------------------\n",
      "11         10.215147       1.722364        total sum                     \n",
      "11         35.000000       5.916080        Unweighted events, alpha=0.291861\n",
      "  => Total parameter prop_binAddTk_pp_mHad_bin11[0.00,-7.00,7.00] to be gaussian constrained\n",
      "------------------------------------------------------------\n",
      "12         5.213492        1.021786        total sum                     \n",
      "12         26.000000       5.099020        Unweighted events, alpha=0.200519\n",
      "  => Total parameter prop_binAddTk_pp_mHad_bin12[0.00,-7.00,7.00] to be gaussian constrained\n",
      "------------------------------------------------------------\n",
      "13         7.153497        1.347485        total sum                     \n",
      "13         28.000000       5.291503        Unweighted events, alpha=0.255482\n",
      "  => Total parameter prop_binAddTk_pp_mHad_bin13[0.00,-7.00,7.00] to be gaussian constrained\n",
      "------------------------------------------------------------\n",
      "14         32.652366       2.628514        total sum                     \n",
      "14         154.000000      12.409674       Unweighted events, alpha=0.212028\n",
      "  => Total parameter prop_binAddTk_pp_mHad_bin14[0.00,-7.00,7.00] to be gaussian constrained\n",
      "------------------------------------------------------------\n",
      "Channel Est_mu_q2bin0 will use autoMCStats with settings: event-threshold=20, include-signal=1, hist-mode=1\n",
      "============================================================\n",
      "Analysing bin errors for: prop_binEst_mu_q2bin0\n",
      "Poisson cut-off: 20\n",
      "============================================================\n",
      "Bin        Contents        Error           Notes                         \n",
      "0          548.527001      15.587052       total sum                     \n",
      "0          1238.000000     35.185224       Unweighted events, alpha=0.443075\n",
      "  => Total parameter prop_binEst_mu_q2bin0_bin0[0.00,-7.00,7.00] to be gaussian constrained\n",
      "------------------------------------------------------------\n",
      "1          501.104682      14.965611       total sum                     \n",
      "1          1121.000000     33.481338       Unweighted events, alpha=0.447016\n",
      "  => Total parameter prop_binEst_mu_q2bin0_bin1[0.00,-7.00,7.00] to be gaussian constrained\n",
      "------------------------------------------------------------\n",
      "2          802.312279      18.698473       total sum                     \n",
      "2          1841.000000     42.906876       Unweighted events, alpha=0.435802\n",
      "  => Total parameter prop_binEst_mu_q2bin0_bin2[0.00,-7.00,7.00] to be gaussian constrained\n",
      "------------------------------------------------------------\n",
      "3          1014.365764     20.757616       total sum                     \n",
      "3          2388.000000     48.867167       Unweighted events, alpha=0.424776\n",
      "  => Total parameter prop_binEst_mu_q2bin0_bin3[0.00,-7.00,7.00] to be gaussian constrained\n",
      "------------------------------------------------------------\n",
      "4          1400.027535     24.617749       total sum                     \n",
      "4          3234.000000     56.868269       Unweighted events, alpha=0.432909\n",
      "  => Total parameter prop_binEst_mu_q2bin0_bin4[0.00,-7.00,7.00] to be gaussian constrained\n",
      "------------------------------------------------------------\n",
      "5          1631.903051     26.170173       total sum                     \n",
      "5          3888.000000     62.353829       Unweighted events, alpha=0.419728\n",
      "  => Total parameter prop_binEst_mu_q2bin0_bin5[0.00,-7.00,7.00] to be gaussian constrained\n",
      "------------------------------------------------------------\n",
      "6          1871.316084     28.860423       total sum                     \n",
      "6          4204.000000     64.838260       Unweighted events, alpha=0.445128\n",
      "  => Total parameter prop_binEst_mu_q2bin0_bin6[0.00,-7.00,7.00] to be gaussian constrained\n",
      "------------------------------------------------------------\n",
      "7          2027.540920     28.807690       total sum                     \n",
      "7          4954.000000     70.384657       Unweighted events, alpha=0.409274\n",
      "  => Total parameter prop_binEst_mu_q2bin0_bin7[0.00,-7.00,7.00] to be gaussian constrained\n",
      "------------------------------------------------------------\n",
      "8          2278.967978     30.572391       total sum                     \n",
      "8          5557.000000     74.545288       Unweighted events, alpha=0.410108\n",
      "  => Total parameter prop_binEst_mu_q2bin0_bin8[0.00,-7.00,7.00] to be gaussian constrained\n",
      "------------------------------------------------------------\n",
      "9          2340.575611     30.946717       total sum                     \n",
      "9          5720.000000     75.630682       Unweighted events, alpha=0.409192\n",
      "  => Total parameter prop_binEst_mu_q2bin0_bin9[0.00,-7.00,7.00] to be gaussian constrained\n",
      "------------------------------------------------------------\n",
      "10         2407.875158     30.978087       total sum                     \n",
      "10         6042.000000     77.730303       Unweighted events, alpha=0.398523\n",
      "  => Total parameter prop_binEst_mu_q2bin0_bin10[0.00,-7.00,7.00] to be gaussian constrained\n",
      "------------------------------------------------------------\n",
      "11         2424.789431     31.352402       total sum                     \n",
      "11         5981.000000     77.336925       Unweighted events, alpha=0.405415\n",
      "  => Total parameter prop_binEst_mu_q2bin0_bin11[0.00,-7.00,7.00] to be gaussian constrained\n",
      "------------------------------------------------------------\n",
      "12         2315.900059     30.539947       total sum                     \n",
      "12         5750.000000     75.828754       Unweighted events, alpha=0.402765\n",
      "  => Total parameter prop_binEst_mu_q2bin0_bin12[0.00,-7.00,7.00] to be gaussian constrained\n",
      "------------------------------------------------------------\n",
      "13         2135.874972     28.954606       total sum                     \n",
      "13         5441.000000     73.763134       Unweighted events, alpha=0.392552\n",
      "  => Total parameter prop_binEst_mu_q2bin0_bin13[0.00,-7.00,7.00] to be gaussian constrained\n",
      "------------------------------------------------------------\n",
      "14         1838.386732     26.881071       total sum                     \n",
      "14         4677.000000     68.388596       Unweighted events, alpha=0.393070\n",
      "  => Total parameter prop_binEst_mu_q2bin0_bin14[0.00,-7.00,7.00] to be gaussian constrained\n",
      "------------------------------------------------------------\n",
      "15         1284.315300     22.112566       total sum                     \n",
      "15         3373.000000     58.077534       Unweighted events, alpha=0.380764\n",
      "  => Total parameter prop_binEst_mu_q2bin0_bin15[0.00,-7.00,7.00] to be gaussian constrained\n",
      "------------------------------------------------------------\n",
      "16         517.629481      13.936161       total sum                     \n",
      "16         1380.000000     37.148351       Unweighted events, alpha=0.375094\n",
      "  => Total parameter prop_binEst_mu_q2bin0_bin16[0.00,-7.00,7.00] to be gaussian constrained\n",
      "------------------------------------------------------------\n",
      "Channel Est_mu_q2bin1 will use autoMCStats with settings: event-threshold=20, include-signal=1, hist-mode=1\n",
      "============================================================\n",
      "Analysing bin errors for: prop_binEst_mu_q2bin1\n",
      "Poisson cut-off: 20\n",
      "============================================================\n",
      "Bin        Contents        Error           Notes                         \n",
      "0          964.276333      19.430960       total sum                     \n",
      "0          2463.000000     49.628621       Unweighted events, alpha=0.391505\n",
      "  => Total parameter prop_binEst_mu_q2bin1_bin0[0.00,-7.00,7.00] to be gaussian constrained\n",
      "------------------------------------------------------------\n",
      "1          1070.108800     20.724817       total sum                     \n",
      "1          2666.000000     51.633323       Unweighted events, alpha=0.401391\n",
      "  => Total parameter prop_binEst_mu_q2bin1_bin1[0.00,-7.00,7.00] to be gaussian constrained\n",
      "------------------------------------------------------------\n",
      "2          1684.635935     26.051952       total sum                     \n",
      "2          4181.000000     64.660653       Unweighted events, alpha=0.402927\n",
      "  => Total parameter prop_binEst_mu_q2bin1_bin2[0.00,-7.00,7.00] to be gaussian constrained\n",
      "------------------------------------------------------------\n",
      "3          2348.650997     30.749106       total sum                     \n",
      "3          5834.000000     76.380626       Unweighted events, alpha=0.402580\n",
      "  => Total parameter prop_binEst_mu_q2bin1_bin3[0.00,-7.00,7.00] to be gaussian constrained\n",
      "------------------------------------------------------------\n",
      "4          2837.982474     33.745300       total sum                     \n",
      "4          7073.000000     84.101130       Unweighted events, alpha=0.401242\n",
      "  => Total parameter prop_binEst_mu_q2bin1_bin4[0.00,-7.00,7.00] to be gaussian constrained\n",
      "------------------------------------------------------------\n",
      "5          3261.183768     36.331611       total sum                     \n",
      "5          8057.000000     89.760793       Unweighted events, alpha=0.404764\n",
      "  => Total parameter prop_binEst_mu_q2bin1_bin5[0.00,-7.00,7.00] to be gaussian constrained\n",
      "------------------------------------------------------------\n",
      "6          3713.714130     38.688903       total sum                     \n",
      "6          9214.000000     95.989583       Unweighted events, alpha=0.403051\n",
      "  => Total parameter prop_binEst_mu_q2bin1_bin6[0.00,-7.00,7.00] to be gaussian constrained\n",
      "------------------------------------------------------------\n",
      "7          3932.713270     39.672308       total sum                     \n",
      "7          9827.000000     99.131226       Unweighted events, alpha=0.400195\n",
      "  => Total parameter prop_binEst_mu_q2bin1_bin7[0.00,-7.00,7.00] to be gaussian constrained\n",
      "------------------------------------------------------------\n",
      "8          4262.870432     41.518514       total sum                     \n",
      "8          10542.000000    102.674242      Unweighted events, alpha=0.404370\n",
      "  => Total parameter prop_binEst_mu_q2bin1_bin8[0.00,-7.00,7.00] to be gaussian constrained\n",
      "------------------------------------------------------------\n",
      "9          4521.365105     42.506123       total sum                     \n",
      "9          11315.000000    106.371989      Unweighted events, alpha=0.399590\n",
      "  => Total parameter prop_binEst_mu_q2bin1_bin9[0.00,-7.00,7.00] to be gaussian constrained\n",
      "------------------------------------------------------------\n",
      "10         4803.063950     44.264474       total sum                     \n",
      "10         11774.000000    108.508064      Unweighted events, alpha=0.407938\n",
      "  => Total parameter prop_binEst_mu_q2bin1_bin10[0.00,-7.00,7.00] to be gaussian constrained\n",
      "------------------------------------------------------------\n",
      "11         5081.391051     47.688982       total sum                     \n",
      "11         11353.000000    106.550458      Unweighted events, alpha=0.447581\n",
      "  => Total parameter prop_binEst_mu_q2bin1_bin11[0.00,-7.00,7.00] to be gaussian constrained\n",
      "------------------------------------------------------------\n",
      "12         5150.250345     46.053398       total sum                     \n",
      "12         12506.000000    111.830228      Unweighted events, alpha=0.411822\n",
      "  => Total parameter prop_binEst_mu_q2bin1_bin12[0.00,-7.00,7.00] to be gaussian constrained\n",
      "------------------------------------------------------------\n",
      "13         5257.888054     46.808335       total sum                     \n",
      "13         12618.000000    112.329871      Unweighted events, alpha=0.416697\n",
      "  => Total parameter prop_binEst_mu_q2bin1_bin13[0.00,-7.00,7.00] to be gaussian constrained\n",
      "------------------------------------------------------------\n",
      "14         4544.632032     43.621963       total sum                     \n",
      "14         10854.000000    104.182532      Unweighted events, alpha=0.418706\n",
      "  => Total parameter prop_binEst_mu_q2bin1_bin14[0.00,-7.00,7.00] to be gaussian constrained\n",
      "------------------------------------------------------------\n",
      "15         2780.545609     33.677519       total sum                     \n",
      "15         6817.000000     82.565126       Unweighted events, alpha=0.407884\n",
      "  => Total parameter prop_binEst_mu_q2bin1_bin15[0.00,-7.00,7.00] to be gaussian constrained\n",
      "------------------------------------------------------------\n",
      "16         926.353078      19.054159       total sum                     \n",
      "16         2364.000000     48.620983       Unweighted events, alpha=0.391858\n",
      "  => Total parameter prop_binEst_mu_q2bin1_bin16[0.00,-7.00,7.00] to be gaussian constrained\n",
      "------------------------------------------------------------\n",
      "17         264.586920      10.371869       total sum                     \n",
      "17         651.000000      25.514702       Unweighted events, alpha=0.406432\n",
      "  => Total parameter prop_binEst_mu_q2bin1_bin17[0.00,-7.00,7.00] to be gaussian constrained\n",
      "------------------------------------------------------------\n",
      "18         150.206099      7.875080        total sum                     \n",
      "18         364.000000      19.078784       Unweighted events, alpha=0.412654\n",
      "  => Total parameter prop_binEst_mu_q2bin1_bin18[0.00,-7.00,7.00] to be gaussian constrained\n",
      "------------------------------------------------------------\n",
      "Channel M2_miss_q2bin0 will use autoMCStats with settings: event-threshold=20, include-signal=1, hist-mode=1\n",
      "============================================================\n",
      "Analysing bin errors for: prop_binM2_miss_q2bin0\n",
      "Poisson cut-off: 20\n",
      "============================================================\n",
      "Bin        Contents        Error           Notes                         \n",
      "0          561.070682      15.385686       total sum                     \n",
      "0          1330.000000     36.469165       Unweighted events, alpha=0.421858\n",
      "  => Total parameter prop_binM2_miss_q2bin0_bin0[0.00,-7.00,7.00] to be gaussian constrained\n",
      "------------------------------------------------------------\n",
      "1          280.296833      10.864821       total sum                     \n",
      "1          666.000000      25.806976       Unweighted events, alpha=0.420866\n",
      "  => Total parameter prop_binM2_miss_q2bin0_bin1[0.00,-7.00,7.00] to be gaussian constrained\n",
      "------------------------------------------------------------\n",
      "2          557.164259      15.217552       total sum                     \n",
      "2          1341.000000     36.619667       Unweighted events, alpha=0.415484\n",
      "  => Total parameter prop_binM2_miss_q2bin0_bin2[0.00,-7.00,7.00] to be gaussian constrained\n",
      "------------------------------------------------------------\n",
      "3          1285.473864     23.320219       total sum                     \n",
      "3          3039.000000     55.127126       Unweighted events, alpha=0.422992\n",
      "  => Total parameter prop_binM2_miss_q2bin0_bin3[0.00,-7.00,7.00] to be gaussian constrained\n",
      "------------------------------------------------------------\n",
      "4          3445.447442     37.687281       total sum                     \n",
      "4          8358.000000     91.422098       Unweighted events, alpha=0.412233\n",
      "  => Total parameter prop_binM2_miss_q2bin0_bin4[0.00,-7.00,7.00] to be gaussian constrained\n",
      "------------------------------------------------------------\n",
      "5          12689.512176    71.874206       total sum                     \n",
      "5          31170.000000    176.550276      Unweighted events, alpha=0.407107\n",
      "  => Total parameter prop_binM2_miss_q2bin0_bin5[0.00,-7.00,7.00] to be gaussian constrained\n",
      "------------------------------------------------------------\n",
      "6          6464.104628     51.739425       total sum                     \n",
      "6          15609.000000    124.935984      Unweighted events, alpha=0.414127\n",
      "  => Total parameter prop_binM2_miss_q2bin0_bin6[0.00,-7.00,7.00] to be gaussian constrained\n",
      "------------------------------------------------------------\n",
      "7          2058.342065     28.628692       total sum                     \n",
      "7          5169.000000     71.895758       Unweighted events, alpha=0.398209\n",
      "  => Total parameter prop_binM2_miss_q2bin0_bin7[0.00,-7.00,7.00] to be gaussian constrained\n",
      "------------------------------------------------------------\n",
      "Channel M2_miss_q2bin1 will use autoMCStats with settings: event-threshold=20, include-signal=1, hist-mode=1\n",
      "============================================================\n",
      "Analysing bin errors for: prop_binM2_miss_q2bin1\n",
      "Poisson cut-off: 20\n",
      "============================================================\n",
      "Bin        Contents        Error           Notes                         \n",
      "0          580.863399      16.037533       total sum                     \n",
      "0          1312.000000     36.221541       Unweighted events, alpha=0.442731\n",
      "  => Total parameter prop_binM2_miss_q2bin1_bin0[0.00,-7.00,7.00] to be gaussian constrained\n",
      "------------------------------------------------------------\n",
      "1          328.831881      12.390653       total sum                     \n",
      "1          704.000000      26.532998       Unweighted events, alpha=0.467091\n",
      "  => Total parameter prop_binM2_miss_q2bin1_bin1[0.00,-7.00,7.00] to be gaussian constrained\n",
      "------------------------------------------------------------\n",
      "2          591.782684      16.105171       total sum                     \n",
      "2          1350.000000     36.742346       Unweighted events, alpha=0.438358\n",
      "  => Total parameter prop_binM2_miss_q2bin1_bin2[0.00,-7.00,7.00] to be gaussian constrained\n",
      "------------------------------------------------------------\n",
      "3          1303.550766     23.740016       total sum                     \n",
      "3          3015.000000     54.909016       Unweighted events, alpha=0.432355\n",
      "  => Total parameter prop_binM2_miss_q2bin1_bin3[0.00,-7.00,7.00] to be gaussian constrained\n",
      "------------------------------------------------------------\n",
      "4          3747.919388     40.326618       total sum                     \n",
      "4          8638.000000     92.940841       Unweighted events, alpha=0.433887\n",
      "  => Total parameter prop_binM2_miss_q2bin1_bin4[0.00,-7.00,7.00] to be gaussian constrained\n",
      "------------------------------------------------------------\n",
      "5          13304.790501    76.047519       total sum                     \n",
      "5          30609.000000    174.954280      Unweighted events, alpha=0.434669\n",
      "  => Total parameter prop_binM2_miss_q2bin1_bin5[0.00,-7.00,7.00] to be gaussian constrained\n",
      "------------------------------------------------------------\n",
      "6          13054.943581    73.772265       total sum                     \n",
      "6          31316.000000    176.963273      Unweighted events, alpha=0.416878\n",
      "  => Total parameter prop_binM2_miss_q2bin1_bin6[0.00,-7.00,7.00] to be gaussian constrained\n",
      "------------------------------------------------------------\n",
      "7          9064.522203     60.789347       total sum                     \n",
      "7          22235.000000    149.114050      Unweighted events, alpha=0.407669\n",
      "  => Total parameter prop_binM2_miss_q2bin1_bin7[0.00,-7.00,7.00] to be gaussian constrained\n",
      "------------------------------------------------------------\n",
      "8          6196.130539     49.044197       total sum                     \n",
      "8          15961.000000    126.336851      Unweighted events, alpha=0.388204\n",
      "  => Total parameter prop_binM2_miss_q2bin1_bin8[0.00,-7.00,7.00] to be gaussian constrained\n",
      "------------------------------------------------------------\n",
      "9          4003.431915     38.587530       total sum                     \n",
      "9          10764.000000    103.749699      Unweighted events, alpha=0.371928\n",
      "  => Total parameter prop_binM2_miss_q2bin1_bin9[0.00,-7.00,7.00] to be gaussian constrained\n",
      "------------------------------------------------------------\n",
      "10         2529.836560     30.472907       total sum                     \n",
      "10         6892.000000     83.018070       Unweighted events, alpha=0.367069\n",
      "  => Total parameter prop_binM2_miss_q2bin1_bin10[0.00,-7.00,7.00] to be gaussian constrained\n",
      "------------------------------------------------------------\n",
      "11         1498.795587     23.069383       total sum                     \n",
      "11         4221.000000     64.969223       Unweighted events, alpha=0.355081\n",
      "  => Total parameter prop_binM2_miss_q2bin1_bin11[0.00,-7.00,7.00] to be gaussian constrained\n",
      "------------------------------------------------------------\n",
      "12         1351.018753     21.692228       total sum                     \n",
      "12         3879.000000     62.281618       Unweighted events, alpha=0.348290\n",
      "  => Total parameter prop_binM2_miss_q2bin1_bin12[0.00,-7.00,7.00] to be gaussian constrained\n",
      "------------------------------------------------------------\n"
     ]
    },
    {
     "name": "stderr",
     "output_type": "stream",
     "text": [
      "Creating pdfs for individual modes (10): .    1\b\b\b\b\b.    2\b\b\b\b\b.    3\b\b\b\b\b.    4\b\b\b\b\b.    5\b\b\b\b\b.    6\b\b\b\b\b.    7\b\b\b\b\b.    8\b\b\b\b\b.    9\b\b\b\b\b.   10\b\b\b\bdone.\n",
      "Importing combined pdf model_s\n"
     ]
    }
   ],
   "source": [
    "cmd = 'text2workspace.py ' + card_location \n",
    "cmd += ' -o ' + card_location.replace('.txt', '.root')\n",
    "cmd += ' --no-b-only'\n",
    "cmd += ' --verbose 1'\n",
    "# cmd += ' --no-wrappers'\n",
    "os.system(cmd)"
   ]
  },
  {
   "cell_type": "markdown",
   "metadata": {},
   "source": [
    "### Run the Maximum Likelyhood fit"
   ]
  },
  {
   "cell_type": "code",
   "execution_count": 51,
   "metadata": {
    "ExecuteTime": {
     "end_time": "2020-05-06T07:30:24.895027Z",
     "start_time": "2020-05-06T07:30:24.869805Z"
    }
   },
   "outputs": [],
   "source": [
    "seedMLf = '6741'"
   ]
  },
  {
   "cell_type": "code",
   "execution_count": 52,
   "metadata": {
    "ExecuteTime": {
     "end_time": "2020-05-06T07:32:01.124674Z",
     "start_time": "2020-05-06T07:30:24.899537Z"
    },
    "scrolled": true
   },
   "outputs": [
    {
     "name": "stdout",
     "output_type": "stream",
     "text": [
      "combine -M FitDiagnostics --robustFit 1 --cminDefaultMinimizerStrategy 0 --X-rtd MINIMIZER_analytic --skipBOnlyFit --seed 6741 -d cards/v7.root -D data_obs --setParameters r=0.26 --setParameterRanges r=0.01,5 -n v7 --out results/v7 --saveShapes --saveWithUncertainties --saveNormalizations --plots --verbose 1\n",
      "Messages of type \u001b[1m\u001b[31mError\u001b[0m : 2\n",
      "\u001b[1m\u001b[31mError\u001b[0m: (function: findCrossing) FitterAlgoBase.cc: 492 -- Closed range without finding crossing! \n",
      "\u001b[1m\u001b[31mError\u001b[0m: (function: runSpecific) [WARNING]: Unable to determine uncertainties on all fit parameters in s+b fit. The option --saveWithUncertainties will be ignored as it would lead to incorrect results. Have a look at https://github.com/cms-analysis/HiggsAnalysis-CombinedLimit/wiki/nonstandard#fit-parameter-uncertainties for more information.\n"
     ]
    }
   ],
   "source": [
    "cmd = 'combine -M FitDiagnostics'\n",
    "cmd += ' --robustFit 1 --cminDefaultMinimizerStrategy 0 --X-rtd MINIMIZER_analytic'\n",
    "cmd += ' --skipBOnlyFit'\n",
    "cmd += ' --seed ' + seedMLf\n",
    "cmd += ' -d ' + card_location.replace('.txt', '.root')\n",
    "cmd += ' -D ' + histo[histo.keys()[0]]['data'].GetName()\n",
    "cmd += ' --setParameters r={:.2f}'.format(SM_RDst)\n",
    "cmd += ' --setParameterRanges r=0.01,5'\n",
    "cmd += ' -n {}'.format(card_name)\n",
    "cmd += ' --out ' + outdir\n",
    "cmd += ' --saveShapes --saveWithUncertainties --saveNormalizations'\n",
    "cmd += ' --plots'\n",
    "cmd += ' --verbose 1'\n",
    "\n",
    "print cmd\n",
    "status, output = commands.getstatusoutput(cmd)\n",
    "for line in output.split('\\n'):\n",
    "        if 'ERROR' in line: print line.replace('ERROR', '\\033[1m\\x1b[31mError\\x1b[0m')\n",
    "os.system('mv combine_logger.out ' + outdir + '/combine_logger_FitDiagnostics.out')\n",
    "os.system('mv ./higgsCombine{}.FitDiagnostics.mH120.{}.root '.format(card_name, seedMLf) + outdir + '/');"
   ]
  },
  {
   "cell_type": "code",
   "execution_count": 53,
   "metadata": {
    "ExecuteTime": {
     "end_time": "2020-05-06T07:32:01.188676Z",
     "start_time": "2020-05-06T07:32:01.129844Z"
    }
   },
   "outputs": [
    {
     "name": "stdout",
     "output_type": "stream",
     "text": [
      "R(D*) = 0.010 +0.032/-0.000 [160.2 %]\n"
     ]
    }
   ],
   "source": [
    "f = ur.open(glob(outdir + '/higgsCombine{}.FitDiagnostics.mH120.{}.root'.format(card_name, seedMLf))[0])\n",
    "c, d, u, _ = f['limit']['limit'].array()\n",
    "print 'R(D*) = {:.3f} +{:.3f}/-{:.3f} [{:.1f} %]'.format(c, u-c, c-d, 100*(u-d)*0.5/c)"
   ]
  },
  {
   "cell_type": "code",
   "execution_count": 54,
   "metadata": {
    "ExecuteTime": {
     "end_time": "2020-05-06T07:32:01.305319Z",
     "start_time": "2020-05-06T07:32:01.193572Z"
    },
    "code_folding": []
   },
   "outputs": [],
   "source": [
    "# Get post-fit shapes\n",
    "fFitDiagnostics = rt.TFile.Open(outdir + '/fitDiagnostics{}.root'.format(card_name), 'READ')\n",
    "fd = fFitDiagnostics.shapes_fit_s\n",
    "\n",
    "histo_postfit = {}\n",
    "for cat, h_dic in histo.iteritems():\n",
    "    histo_postfit[cat] = {}\n",
    "    for n, h in h_dic.iteritems():\n",
    "        if '__' in n:\n",
    "            continue\n",
    "        h_post = h.Clone(h.GetName() + '_postfit')\n",
    "        if 'data' in n:\n",
    "            h_fit = fd.Get(cat+'/total')\n",
    "            h_data = h.Clone(h.GetName() + '_data')\n",
    "            for i in range(1, h_post.GetNbinsX()+1):\n",
    "                h_post.SetBinContent(i, h_fit.GetBinContent(i))\n",
    "                h_post.SetBinError(i, h_fit.GetBinError(i))     \n",
    "            \n",
    "            histo_postfit[cat]['total'] = h_post\n",
    "            histo_postfit[cat][n] = h_data\n",
    "        else:\n",
    "            h_fit = fd.Get(cat+'/'+n)\n",
    "            for i in range(1, h_post.GetNbinsX()+1):\n",
    "                h_post.SetBinContent(i, h_fit.GetBinContent(i))\n",
    "                h_post.SetBinError(i, h_fit.GetBinError(i)) \n",
    "\n",
    "            histo_postfit[cat][n] = h_post"
   ]
  },
  {
   "cell_type": "code",
   "execution_count": 55,
   "metadata": {
    "ExecuteTime": {
     "end_time": "2020-05-06T07:32:01.517501Z",
     "start_time": "2020-05-06T07:32:01.309962Z"
    },
    "scrolled": false
   },
   "outputs": [
    {
     "data": {
      "image/png": "[encoded data removed]",
      "text/plain": [
       "<IPython.core.display.Image object>"
      ]
     },
     "metadata": {},
     "output_type": "display_data"
    }
   ],
   "source": [
    "h2 = fFitDiagnostics.Get('covariance_fit_s')\n",
    "rt.gStyle.SetPaintTextFormat('.1f')\n",
    "\n",
    "N = h2.GetNbinsX()\n",
    "n=15\n",
    "\n",
    "h2.GetXaxis().SetRange(1, n)\n",
    "h2.GetYaxis().SetRangeUser(N-n, N)\n",
    "h2.SetMarkerSize(1.3)\n",
    "CC = drawOnCMSCanvas(CMS_lumi, [h2, h2], ['colz', 'text same'], tag='tl', mL=0.22, mR=0.15, mB=0.18)\n",
    "CC.SaveAs(outdir+'/fig/covariance_zoom.png')"
   ]
  },
  {
   "cell_type": "code",
   "execution_count": 56,
   "metadata": {
    "ExecuteTime": {
     "end_time": "2020-05-06T07:32:02.365516Z",
     "start_time": "2020-05-06T07:32:01.522237Z"
    },
    "scrolled": false
   },
   "outputs": [
    {
     "data": {
      "image/png": "[encoded data removed]",
      "text/plain": [
       "<IPython.core.display.Image object>"
      ]
     },
     "metadata": {},
     "output_type": "display_data"
    }
   ],
   "source": [
    "cSigPost = plot_gridVarQ2(CMS_lumi, binning, histo_postfit, draw_pulls=True, pulls_ylim=[-5, 5])\n",
    "cSigPost.SaveAs(outdir+'/fig/signalRegion_postfit.png')"
   ]
  },
  {
   "cell_type": "code",
   "execution_count": 57,
   "metadata": {
    "ExecuteTime": {
     "end_time": "2020-05-06T07:32:03.029796Z",
     "start_time": "2020-05-06T07:32:02.370217Z"
    },
    "scrolled": false
   },
   "outputs": [
    {
     "data": {
      "image/png": "[encoded data removed]",
      "text/plain": [
       "<IPython.core.display.Image object>"
      ]
     },
     "metadata": {},
     "output_type": "display_data"
    },
    {
     "data": {
      "image/png": "[encoded data removed]",
      "text/plain": [
       "<IPython.core.display.Image object>"
      ]
     },
     "metadata": {},
     "output_type": "display_data"
    },
    {
     "data": {
      "image/png": "[encoded data removed]",
      "text/plain": [
       "<IPython.core.display.Image object>"
      ]
     },
     "metadata": {},
     "output_type": "display_data"
    },
    {
     "data": {
      "image/png": "[encoded data removed]",
      "text/plain": [
       "<IPython.core.display.Image object>"
      ]
     },
     "metadata": {},
     "output_type": "display_data"
    },
    {
     "data": {
      "image/png": "[encoded data removed]",
      "text/plain": [
       "<IPython.core.display.Image object>"
      ]
     },
     "metadata": {},
     "output_type": "display_data"
    },
    {
     "data": {
      "image/png": "[encoded data removed]",
      "text/plain": [
       "<IPython.core.display.Image object>"
      ]
     },
     "metadata": {},
     "output_type": "display_data"
    }
   ],
   "source": [
    "cSidePost = {}\n",
    "for k in np.sort(sideVar.keys()):\n",
    "    legLoc = [0.7, 0.3, 0.94, 0.72]\n",
    "    if 'MassVis' in sideVar[k]:\n",
    "        legLoc = [0.18, 0.4, 0.4, 0.75]\n",
    "    cSidePost[k] = plot_SingleCategory(CMS_lumi, histo_postfit[k], \n",
    "                                       xtitle=sideXtitle[k], addText=sideAddtext[k], \n",
    "                                       tag=k, legLoc=legLoc,\n",
    "                                       draw_pulls=True\n",
    "                                      )\n",
    "    cSidePost[k].SaveAs(outdir+'/fig/'+k+'_postfit.png')"
   ]
  },
  {
   "cell_type": "code",
   "execution_count": 58,
   "metadata": {
    "ExecuteTime": {
     "end_time": "2020-05-06T07:32:06.253069Z",
     "start_time": "2020-05-06T07:32:03.034548Z"
    },
    "scrolled": false
   },
   "outputs": [
    {
     "name": "stdout",
     "output_type": "stream",
     "text": [
      "python diffNuisances.py results/v7/fitDiagnosticsv7.root --skipFitB --abs -g results/v7/nuisance_difference.root\n",
      "+-------------------------------+------------------------+------------------------------------+\n",
      "|           Parameter           |        pre-fit         |              post-fit              |\n",
      "+-------------------------------+------------------------+------------------------------------+\n",
      "|              HcBr             |  0.000000 +/- 1.000000 | !+5.55 +/- 0.23 (+5.55sig, 0.23)!  |\n",
      "|          DstPipPimBr          | 0.000000 +/- 1.000000  | !-5.22 +/- 0.47 (-5.22sig, 0.47)!  |\n",
      "|   prop_binAddTk_p_mHad_bin34  |  0.000000 +/- 1.000000 | !-4.39 +/- 0.82 (-4.39sig, 0.82)!  |\n",
      "|   prop_binAddTk_m_mHad_bin10  |  0.000000 +/- 1.000000 | !+3.05 +/- 0.78 (+3.05sig, 0.78)!  |\n",
      "|   prop_binAddTk_m_mHad_bin11  |  0.000000 +/- 1.000000 | !+2.72 +/- 0.77 (+2.72sig, 0.77)!  |\n",
      "|          DstPipPi0Br          | 0.000000 +/- 1.000000  | !-2.64 +/- 0.63 (-2.64sig, 0.63)!  |\n",
      "|   prop_binAddTk_pm_mHad_bin2  |  0.000000 +/- 1.000000 | !-2.41 +/- 0.80 (-2.41sig, 0.80)!  |\n",
      "|             pAddTk            |  1.000000 +/- 0.148442 | !+1.35 +/- 0.01 (+2.34sig, 0.09)!  |\n",
      "|  prop_binM2_miss_q2bin1_bin5  | 0.000000 +/- 1.000000  | !-2.35 +/- 0.86 (-2.35sig, 0.86)!  |\n",
      "|   prop_binAddTk_m_mHad_bin15  |  0.000000 +/- 1.000000 | !+2.27 +/- 0.77 (+2.27sig, 0.77)!  |\n",
      "|  prop_binAddTk_pm_mHad_bin11  | 0.000000 +/- 1.000000  | !+2.19 +/- 0.81 (+2.19sig, 0.81)!  |\n",
      "|   prop_binAddTk_m_mHad_bin9   | 0.000000 +/- 1.000000  | !+2.18 +/- 0.79 (+2.18sig, 0.79)!  |\n",
      "| prop_binAddTk_mm_mHad_bin9_mu | 7.000000 +/- 2.634286  | !+12.67 +/- 3.10 (+2.15sig, 1.18)! |\n",
      "|   prop_binAddTk_p_mHad_bin19  |  0.000000 +/- 1.000000 | !-2.08 +/- 0.88 (-2.08sig, 0.88)!  |\n",
      "|   prop_binAddTk_m_mHad_bin7   | 0.000000 +/- 1.000000  | !+2.03 +/- 0.78 (+2.03sig, 0.78)!  |\n",
      "+-------------------------------+------------------------+------------------------------------+\n"
     ]
    }
   ],
   "source": [
    "cmd = 'python diffNuisances.py '.format(os.environ['CMSSW_BASE'])\n",
    "cmd += outdir + '/fitDiagnostics{}.root'.format(card_name)\n",
    "cmd += ' --skipFitB'\n",
    "# cmd += ' --all'\n",
    "cmd += ' --abs'\n",
    "cmd += ' -g {}/nuisance_difference.root'.format(outdir)\n",
    "print cmd\n",
    "status, output = commands.getstatusoutput(cmd)\n",
    "dumpDiffNuisances(output, outdir)"
   ]
  },
  {
   "cell_type": "code",
   "execution_count": 59,
   "metadata": {
    "ExecuteTime": {
     "end_time": "2020-05-06T07:32:06.722089Z",
     "start_time": "2020-05-06T07:32:06.257660Z"
    }
   },
   "outputs": [
    {
     "ename": "TypeError",
     "evalue": "exceptions must be old-style classes or derived from BaseException, not NoneType",
     "output_type": "error",
     "traceback": [
      "\u001b[0;31m\u001b[0m",
      "\u001b[0;31mTypeError\u001b[0mTraceback (most recent call last)",
      "\u001b[0;32m<ipython-input-59-81bdacfbbc74>\u001b[0m in \u001b[0;36m<module>\u001b[0;34m()\u001b[0m\n\u001b[1;32m      1\u001b[0m \u001b[0;32mif\u001b[0m \u001b[0mfastRun\u001b[0m\u001b[0;34m:\u001b[0m\u001b[0;34m\u001b[0m\u001b[0m\n\u001b[0;32m----> 2\u001b[0;31m     \u001b[0;32mraise\u001b[0m\u001b[0;34m\u001b[0m\u001b[0m\n\u001b[0m",
      "\u001b[0;31mTypeError\u001b[0m: exceptions must be old-style classes or derived from BaseException, not NoneType"
     ]
    }
   ],
   "source": [
    "if fastRun:\n",
    "    raise"
   ]
  },
  {
   "cell_type": "markdown",
   "metadata": {},
   "source": [
    "### Run likelyhood scan"
   ]
  },
  {
   "cell_type": "code",
   "execution_count": null,
   "metadata": {
    "ExecuteTime": {
     "end_time": "2020-05-06T07:32:06.734354Z",
     "start_time": "2020-05-06T07:29:38.461Z"
    }
   },
   "outputs": [],
   "source": [
    "cmd = 'combine'\n",
    "cmd += ' -M MultiDimFit'\n",
    "cmd += ' --algo grid --points=100'\n",
    "cmd += ' --robustFit 1'\n",
    "cmd += ' -d ' + card_location.replace('.txt', '.root')\n",
    "cmd += ' -D ' + histo[histo.keys()[0]]['data'].GetName()\n",
    "cmd += ' --X-rtd MINIMIZER_analytic'\n",
    "cmd += ' --rMin={:.4f} --rMax={:.4f}'.format(c - 5*(c-d), c + 5*(u-c))\n",
    "cmd += ' -n {}_nominal'.format(card_name)\n",
    "cmd += ' --verbose -1'\n",
    "print cmd\n",
    "os.system(cmd)\n",
    "cmd = 'plot1DScan.py higgsCombine{}_nominal.MultiDimFit.mH120.root'.format(card_name)\n",
    "cmd += '; mv scan.png scan_nominal.png'\n",
    "os.system(cmd)\n",
    "res_nominal = getUncertaintyFromLimitTree('higgsCombine{}_nominal.MultiDimFit.mH120.root'.format(card_name))\n",
    "display(Image(filename='scan_nominal.png'))"
   ]
  },
  {
   "cell_type": "markdown",
   "metadata": {},
   "source": [
    "### Uncertainy breakdown by group"
   ]
  },
  {
   "cell_type": "code",
   "execution_count": null,
   "metadata": {
    "ExecuteTime": {
     "end_time": "2020-05-06T07:32:06.736257Z",
     "start_time": "2020-05-06T07:29:38.464Z"
    }
   },
   "outputs": [],
   "source": [
    "cmd = 'combine -M MultiDimFit --algo none'\n",
    "cmd += ' --cminDefaultMinimizerStrategy=2 --robustFit 1 --X-rtd MINIMIZER_analytic'\n",
    "cmd += ' -d ' + card_location.replace('.txt', '.root')\n",
    "cmd += ' -D ' + histo[histo.keys()[0]]['data'].GetName()\n",
    "cmd += ' --setParameters r={:.2f}'.format(SM_RDst)\n",
    "cmd += ' --setParameterRanges r=0.001,1'\n",
    "cmd += ' -n {}_bestfit'.format(card_name)\n",
    "cmd += ' --saveWorkspace --verbose -1'\n",
    "print cmd\n",
    "os.system(cmd);"
   ]
  },
  {
   "cell_type": "code",
   "execution_count": null,
   "metadata": {
    "ExecuteTime": {
     "end_time": "2020-05-06T07:32:06.738390Z",
     "start_time": "2020-05-06T07:29:38.466Z"
    }
   },
   "outputs": [],
   "source": [
    "# Statistical uncertainty\n",
    "cmd = 'combine -M MultiDimFit --algo grid --points=100'\n",
    "cmd += ' --cminDefaultMinimizerStrategy=2 --robustFit 1 --X-rtd MINIMIZER_analytic'\n",
    "cmd += ' -d higgsCombine{}_bestfit.MultiDimFit.mH120.root'.format(card_name)\n",
    "cmd += ' -D ' + histo[histo.keys()[0]]['data'].GetName()\n",
    "cmd += ' --rMin={:.4f} --rMax={:.4f}'.format(c - 5*(c-d), c + 5*(u-c))\n",
    "cmd += ' -n {}_stat'.format(card_name)\n",
    "cmd += ' --snapshotName MultiDimFit'\n",
    "cmd += ' --freezeNuisanceGroups=autoMCStats,allShape'\n",
    "cmd += ' --verbose -1'\n",
    "print cmd\n",
    "os.system(cmd);"
   ]
  },
  {
   "cell_type": "code",
   "execution_count": null,
   "metadata": {
    "ExecuteTime": {
     "end_time": "2020-05-06T07:32:06.740254Z",
     "start_time": "2020-05-06T07:29:38.468Z"
    }
   },
   "outputs": [],
   "source": [
    "# MC Statistics\n",
    "cmd = 'combine -M MultiDimFit --algo grid --points=100'\n",
    "cmd += ' --cminDefaultMinimizerStrategy=2 --robustFit 1 --X-rtd MINIMIZER_analytic'\n",
    "cmd += ' -d higgsCombine{}_bestfit.MultiDimFit.mH120.root'.format(card_name)\n",
    "cmd += ' -D ' + histo[histo.keys()[0]]['data'].GetName()\n",
    "cmd += ' --rMin={:.4f} --rMax={:.4f}'.format(c - 5*(c-d), c + 5*(u-c))\n",
    "cmd += ' -n {}_MCstat'.format(card_name)\n",
    "cmd += ' --snapshotName MultiDimFit'\n",
    "cmd += ' --freezeNuisanceGroups=autoMCStats'\n",
    "cmd += ' --verbose -1'\n",
    "print cmd\n",
    "os.system(cmd);"
   ]
  },
  {
   "cell_type": "code",
   "execution_count": null,
   "metadata": {
    "ExecuteTime": {
     "end_time": "2020-05-06T07:32:06.742200Z",
     "start_time": "2020-05-06T07:29:38.470Z"
    }
   },
   "outputs": [],
   "source": [
    "cmd = 'plot1DScan.py higgsCombine{}_nominal.MultiDimFit.mH120.root'.format(card_name)\n",
    "cmd += ' --others'\n",
    "cmd += ' \"higgsCombine{}_MCstat.MultiDimFit.mH120.root:Freeze MC stat:4\"'.format(card_name)\n",
    "cmd += ' \"higgsCombine{}_stat.MultiDimFit.mH120.root:Freeze all:2\"'.format(card_name)\n",
    "cmd += ' --breakdown MCstat,syst,stat'\n",
    "cmd += '; mv scan.png scan_MCstat.png'\n",
    "print cmd\n",
    "os.system(cmd)\n",
    "display(Image(filename='scan_MCstat.png'))"
   ]
  },
  {
   "cell_type": "code",
   "execution_count": null,
   "metadata": {
    "ExecuteTime": {
     "end_time": "2020-05-06T07:32:06.744163Z",
     "start_time": "2020-05-06T07:29:38.472Z"
    }
   },
   "outputs": [],
   "source": [
    "os.system('mv higgsCombine*.root ' + outdir + '/')\n",
    "os.system('mv scan* ' + outdir + '/')\n",
    "os.system('mv combine_logger.out ' + outdir + '/');"
   ]
  },
  {
   "cell_type": "markdown",
   "metadata": {},
   "source": [
    "### Run the impact plots"
   ]
  },
  {
   "cell_type": "markdown",
   "metadata": {},
   "source": [
    "Fit first the POI"
   ]
  },
  {
   "cell_type": "code",
   "execution_count": null,
   "metadata": {
    "ExecuteTime": {
     "end_time": "2020-05-06T07:32:06.746052Z",
     "start_time": "2020-05-06T07:29:38.476Z"
    },
    "scrolled": true
   },
   "outputs": [],
   "source": [
    "cmd = 'combineTool.py -M Impacts --doInitialFit -m 120'\n",
    "cmd += ' --robustFit 1 --X-rtd MINIMIZER_analytic'\n",
    "cmd += ' -d ' + card_location.replace('.txt', '.root')\n",
    "cmd += ' -D ' + histo[histo.keys()[0]]['data'].GetName()\n",
    "cmd += ' --setParameters r={:.2f}'.format(SM_RDst)\n",
    "cmd += ' --setParameterRanges r=0.001,1'\n",
    "cmd += ' -n {}'.format(card_name)\n",
    "cmd += ' --out ' + outdir\n",
    "cmd += ' --verbose -1'\n",
    "os.system(cmd);"
   ]
  },
  {
   "cell_type": "markdown",
   "metadata": {},
   "source": [
    " Perform a similar scan for each nuisance parameter"
   ]
  },
  {
   "cell_type": "code",
   "execution_count": null,
   "metadata": {
    "ExecuteTime": {
     "end_time": "2020-05-06T07:32:06.748209Z",
     "start_time": "2020-05-06T07:29:38.479Z"
    }
   },
   "outputs": [],
   "source": [
    "cmd = 'combineTool.py -M Impacts --doFits -m 120'\n",
    "cmd += ' --robustFit 1 --X-rtd MINIMIZER_analytic'\n",
    "cmd += ' --parallel 100 --job-mode condor --task-name combineImpacts'\n",
    "cmd += '--sub-opts \"Some custom lines\"'\n",
    "cmd += ' -d ' + card_location.replace('.txt', '.root')\n",
    "cmd += ' -D ' + histo[histo.keys()[0]]['data'].GetName()\n",
    "cmd += ' -n {}'.format(card_name)\n",
    "cmd += ' --verbose -1'\n",
    "print cmd\n",
    "os.system(cmd);"
   ]
  },
  {
   "cell_type": "markdown",
   "metadata": {},
   "source": [
    "Collect the results"
   ]
  },
  {
   "cell_type": "code",
   "execution_count": null,
   "metadata": {
    "ExecuteTime": {
     "end_time": "2020-05-06T07:32:06.750028Z",
     "start_time": "2020-05-06T07:29:38.481Z"
    }
   },
   "outputs": [],
   "source": [
    "cmd = 'combineTool.py -M Impacts -o impacts.json -m 120'\n",
    "cmd += ' -d ' + card_location.replace('.txt', '.root')\n",
    "cmd += ' -n {}'.format(card_name)\n",
    "print cmd\n",
    "os.system(cmd);"
   ]
  },
  {
   "cell_type": "code",
   "execution_count": null,
   "metadata": {
    "ExecuteTime": {
     "end_time": "2020-05-06T07:32:06.751798Z",
     "start_time": "2020-05-06T07:29:38.483Z"
    }
   },
   "outputs": [],
   "source": [
    "rename = {\n",
    "'r': 'R(D*)',\n",
    "'B0pT': 'B_{0} p_{T} spectrum',\n",
    "'B2DstCLNR0':'R_{0} (CLN B#rightarrow D*#ell#nu)',\n",
    "'B2DstCLNR1':'R_{1} (CLN B#rightarrow D*)',\n",
    "'B2DstCLNR2':'R_{2} (CLN B#rightarrow D*)',\n",
    "'B2DstCLNRhoSq':'#rho^{2} (CLN B#rightarrow D*)',\n",
    "'trgSF': 'Trigger scale factor',\n",
    "'xsecpp2bbXlumi': 'Luminosity*#sigma_{pp#rightarrowbb}',\n",
    "    \n",
    "}\n",
    "\n",
    "procName_dic = {\n",
    "'mu'        : 'B_{0}#rightarrow D*#mu#nu',\n",
    "'tau'       : 'B_{0}#rightarrow D*#tau#nu',\n",
    "'Hc'        : 'B_{0}#rightarrow D*H_{c}',\n",
    "'DstPip'    : 'B^{+}#rightarrow D*#pi^{+}#mu#nu',\n",
    "'DstPipPi0' : 'B^{+}#rightarrow D*#pi^{+}#pi^{0}#mu#nu',\n",
    "'DstPi0'    : 'B_{0}#rightarrow D*#pi^{0}#mu#nu',\n",
    "'DstPipPim' : 'B_{0}#rightarrow D*#pi^{+}#pi^{-}#mu#nu',\n",
    "'DstPi0Pi0' : 'B_{0}#rightarrow D*#pi^{0}#pi^{0}#mu#nu'\n",
    "}\n",
    "\n",
    "for n in processes:\n",
    "    rename[n+'Br'] = 'Branching fraction ' + procName_dic[n]\n",
    "\n",
    "d = json.load(open('impacts.json', 'r'))\n",
    "for par in d['params']:\n",
    "    name = str(par['name'])\n",
    "    if not name.startswith('prop_bin'): continue\n",
    "    label = name.replace('prop_bin', 'MC stat. ')\n",
    "    label = label.replace('M2_miss_', 'M^{2}_{miss} ')\n",
    "    label = label.replace('Est_mu_', 'E*_{#mu} ')\n",
    "    label = label.replace('q2bin', '[b_{q^{2}}=')\n",
    "    label = label.replace('_bin', '] ')\n",
    "    rename[name] = label + 10*' '\n",
    "    \n",
    "json.dump(rename, open('rename.json', 'w'))\n",
    "\n",
    "cmd = 'plotImpacts.py -i impacts.json -o impacts -t rename.json'\n",
    "os.system(cmd)\n",
    "IFrame(\"impacts.pdf\", width=900, height=600)"
   ]
  },
  {
   "cell_type": "code",
   "execution_count": null,
   "metadata": {
    "ExecuteTime": {
     "end_time": "2020-05-06T07:32:06.753620Z",
     "start_time": "2020-05-06T07:29:38.485Z"
    }
   },
   "outputs": [],
   "source": [
    "os.system('mv *.root {}/'.format(outdir))\n",
    "os.system('mv impacts.* {}/'.format(outdir))\n",
    "os.system('mv rename.json {}/'.format(outdir))\n",
    "os.system('mv combine_logger.out {}/'.format(outdir));"
   ]
  },
  {
   "cell_type": "markdown",
   "metadata": {},
   "source": [
    "### Run the Goodness of fit test"
   ]
  },
  {
   "cell_type": "markdown",
   "metadata": {},
   "source": [
    "Run the observed test stat value"
   ]
  },
  {
   "cell_type": "code",
   "execution_count": null,
   "metadata": {
    "ExecuteTime": {
     "end_time": "2020-05-06T07:32:06.755578Z",
     "start_time": "2020-05-06T07:29:38.488Z"
    },
    "scrolled": true
   },
   "outputs": [],
   "source": [
    "cmd = 'combine -M GoodnessOfFit --toysFrequentist --algo=saturated --X-rtd MINIMIZER_analytic'\n",
    "cmd += ' -d results/{cn}/higgsCombine{cn}_bestfit.MultiDimFit.mH120.root'.format(cn=card_name)\n",
    "cmd += ' --snapshotName MultiDimFit --bypassFrequentistFit'\n",
    "cmd += ' -D ' + histo[histo.keys()[0]]['data'].GetName()\n",
    "cmd += ' -n Obs'                                    # Just the output name\n",
    "cmd += ' -t 0'                                      # Don't run toys\n",
    "cmd += ' -s 1'                                      # Random seed\n",
    "cmd += ' --setParameters r={:.2f}'.format(SM_RDst)\n",
    "cmd += ' --setParameterRanges r=0.001,1'\n",
    "cmd += ' --plots --verbose -1'\n",
    "print cmd\n",
    "os.system(cmd)"
   ]
  },
  {
   "cell_type": "markdown",
   "metadata": {},
   "source": [
    "Run the test stat toy distribution"
   ]
  },
  {
   "cell_type": "code",
   "execution_count": null,
   "metadata": {
    "ExecuteTime": {
     "end_time": "2020-05-06T07:32:06.757438Z",
     "start_time": "2020-05-06T07:29:38.491Z"
    }
   },
   "outputs": [],
   "source": [
    "cmd = 'combine -M GoodnessOfFit --toysFrequentist --algo=saturated --X-rtd MINIMIZER_analytic'\n",
    "cmd += ' -d results/{cn}/higgsCombine{cn}_bestfit.MultiDimFit.mH120.root'.format(cn=card_name)\n",
    "cmd += ' --snapshotName MultiDimFit --bypassFrequentistFit'\n",
    "cmd += ' -D ' + histo[histo.keys()[0]]['data'].GetName()\n",
    "cmd += ' -n Toys'                                   # Just the output name\n",
    "cmd += ' -t 100'                                    # Number of toys to run\n",
    "cmd += ' -s -1'                                     # Random seed\n",
    "# cmd += '--expectSignal=0'                           # Depending on the hypothesis to test. If none, r is fluctruated\n",
    "cmd += ' --setParameters r={:.2f}'.format(SM_RDst)\n",
    "cmd += ' --setParameterRanges r=0.001,1'\n",
    "cmd += ' --plots --verbose -1'\n",
    "cmdToys = cmd\n",
    "print cmdToys\n",
    "\n",
    "# os.system(cmdToys)"
   ]
  },
  {
   "cell_type": "code",
   "execution_count": null,
   "metadata": {
    "ExecuteTime": {
     "end_time": "2020-05-06T07:32:06.759268Z",
     "start_time": "2020-05-06T07:29:38.493Z"
    }
   },
   "outputs": [],
   "source": [
    "from multiprocessing import Pool\n",
    "\n",
    "def runCommand(cmd):\n",
    "    os.system(cmd)\n",
    "\n",
    "Nrep = 15\n",
    "p = Pool(min(20,Nrep))\n",
    "outputs = p.map(runCommand, Nrep*[cmdToys])"
   ]
  },
  {
   "cell_type": "markdown",
   "metadata": {},
   "source": [
    "Combine them to get the p-value"
   ]
  },
  {
   "cell_type": "code",
   "execution_count": null,
   "metadata": {
    "ExecuteTime": {
     "end_time": "2020-05-06T07:32:06.761055Z",
     "start_time": "2020-05-06T07:29:38.497Z"
    }
   },
   "outputs": [],
   "source": [
    "f = ur.open('higgsCombineObs.GoodnessOfFit.mH120.1.root')\n",
    "s_obs = f['limit']['limit'].array()[0]\n",
    "\n",
    "s_toys = []\n",
    "for name_toys in glob('higgsCombineToys.GoodnessOfFit.*.root'):\n",
    "    f = ur.open(name_toys)\n",
    "    s_toys += list(f['limit']['limit'].array())\n",
    "\n",
    "content, center, _ = plt.hist(s_toys, label='Toys')\n",
    "plt.plot([s_obs, s_obs], [0, np.max(content)], 'm--', label='Observed')\n",
    "plt.legend(loc='best')\n",
    "\n",
    "p_val = np.sum(s_toys > s_obs)/float(len(s_toys))\n",
    "print 'p-value: {:.1f}%'.format(100*p_val)\n",
    "if p_val < 0.01: print p_val"
   ]
  },
  {
   "cell_type": "code",
   "execution_count": null,
   "metadata": {
    "ExecuteTime": {
     "end_time": "2020-05-06T07:32:06.762844Z",
     "start_time": "2020-05-06T07:29:38.499Z"
    }
   },
   "outputs": [],
   "source": [
    "os.system('mv *.root {}/'.format(outdir))"
   ]
  }
 ],
 "metadata": {
  "kernelspec": {
   "display_name": "Python 2",
   "language": "python",
   "name": "python2"
  },
  "language_info": {
   "codemirror_mode": {
    "name": "ipython",
    "version": 2
   },
   "file_extension": ".py",
   "mimetype": "text/x-python",
   "name": "python",
   "nbconvert_exporter": "python",
   "pygments_lexer": "ipython2",
   "version": "2.7.14+"
  },
  "varInspector": {
   "cols": {
    "lenName": 16,
    "lenType": 16,
    "lenVar": 40
   },
   "kernels_config": {
    "python": {
     "delete_cmd_postfix": "",
     "delete_cmd_prefix": "del ",
     "library": "var_list.py",
     "varRefreshCmd": "print(var_dic_list())"
    },
    "r": {
     "delete_cmd_postfix": ") ",
     "delete_cmd_prefix": "rm(",
     "library": "var_list.r",
     "varRefreshCmd": "cat(var_dic_list()) "
    }
   },
   "position": {
    "height": "308px",
    "left": "1550px",
    "right": "20px",
    "top": "120px",
    "width": "338px"
   },
   "types_to_exclude": [
    "module",
    "function",
    "builtin_function_or_method",
    "instance",
    "_Feature"
   ],
   "window_display": false
  }
 },
 "nbformat": 4,
 "nbformat_minor": 2
}
