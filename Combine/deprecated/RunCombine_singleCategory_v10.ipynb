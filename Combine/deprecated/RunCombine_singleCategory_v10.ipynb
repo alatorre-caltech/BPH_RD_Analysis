{
 "cells": [
  {
   "cell_type": "markdown",
   "metadata": {},
   "source": [
    "New:\n",
    " - Possible MVA added"
   ]
  },
  {
   "cell_type": "code",
   "execution_count": 1,
   "metadata": {
    "ExecuteTime": {
     "end_time": "2020-09-03T20:05:49.532156Z",
     "start_time": "2020-09-03T20:05:49.519035Z"
    }
   },
   "outputs": [],
   "source": [
    "fit_real_data = False\n",
    "category = ['low', 'mid', 'high'][0]\n",
    "SM_RDst = 0.33\n",
    "runCombine = True\n",
    "runScanOnly = True\n",
    "runBias = False\n",
    "runImpacts = True\n",
    "useMVA = 1\n",
    "card_name = 'v10_testBins003'"
   ]
  },
  {
   "cell_type": "code",
   "execution_count": 2,
   "metadata": {
    "ExecuteTime": {
     "end_time": "2020-09-03T20:05:49.811079Z",
     "start_time": "2020-09-03T20:05:49.537532Z"
    }
   },
   "outputs": [],
   "source": [
    "if not fit_real_data: card_name += 'Asimov'\n",
    "card_name += '_' + category\n",
    "outdir = 'results/' + card_name\n",
    "card_location = 'cards/{}.txt'.format(card_name)"
   ]
  },
  {
   "cell_type": "markdown",
   "metadata": {
    "heading_collapsed": true,
    "hide_input": true
   },
   "source": [
    "# Import"
   ]
  },
  {
   "cell_type": "code",
   "execution_count": 3,
   "metadata": {
    "ExecuteTime": {
     "end_time": "2020-09-03T20:05:50.264391Z",
     "start_time": "2020-09-03T20:05:49.816223Z"
    },
    "hidden": true
   },
   "outputs": [],
   "source": [
    "import sys, os, pickle, time\n",
    "from glob import glob\n",
    "sys.path.append('../lib')\n",
    "sys.path.append('../analysis')\n",
    "from categoriesDef import categories\n",
    "import itertools\n",
    "import commands\n",
    "from prettytable import PrettyTable\n",
    "import json, yaml\n",
    "from IPython.display import IFrame, Image, display"
   ]
  },
  {
   "cell_type": "code",
   "execution_count": 4,
   "metadata": {
    "ExecuteTime": {
     "end_time": "2020-09-03T20:05:59.304098Z",
     "start_time": "2020-09-03T20:05:50.269346Z"
    },
    "hidden": true
   },
   "outputs": [
    {
     "name": "stdout",
     "output_type": "stream",
     "text": [
      "Welcome to JupyROOT 6.12/07\n"
     ]
    }
   ],
   "source": [
    "import numpy as np\n",
    "import matplotlib.pyplot as plt\n",
    "from array import array\n",
    "\n",
    "import uproot as ur\n",
    "import ROOT as rt\n",
    "rt.gErrorIgnoreLevel = rt.kError\n",
    "rt.RooMsgService.instance().setGlobalKillBelow(rt.RooFit.ERROR)\n",
    "import root_numpy as rtnp\n",
    "\n",
    "from analysis_utilities import drawOnCMSCanvas, getEff, DSetLoader\n",
    "from pT_calibration_reader import pTCalReader\n",
    "from histo_utilities import create_TH1D, create_TH2D, std_color_list\n",
    "from gridVarQ2Plot import plot_gridVarQ2, plot_SingleCategory\n",
    "from progressBar import ProgressBar\n",
    "from lumi_utilities import getLumiByTrigger\n",
    "from combine_utilities import getUncertaintyFromLimitTree, dumpDiffNuisances, stringJubCustomizationCaltechT2\n",
    "\n",
    "import CMS_lumi, tdrstyle\n",
    "tdrstyle.setTDRStyle()\n",
    "CMS_lumi.writeExtraText = 1\n",
    "\n",
    "if fit_real_data:\n",
    "    CMS_lumi.extraText = \"     Preliminary\"\n",
    "else:\n",
    "    CMS_lumi.extraText = \"     Simulation Preliminary\"\n",
    "\n",
    "donotdelete = []"
   ]
  },
  {
   "cell_type": "code",
   "execution_count": 5,
   "metadata": {
    "ExecuteTime": {
     "end_time": "2020-09-03T20:05:59.327557Z",
     "start_time": "2020-09-03T20:05:59.310584Z"
    },
    "hidden": true
   },
   "outputs": [],
   "source": [
    "cat = categories[category]"
   ]
  },
  {
   "cell_type": "markdown",
   "metadata": {
    "heading_collapsed": true
   },
   "source": [
    "# Load the datasets"
   ]
  },
  {
   "cell_type": "code",
   "execution_count": 6,
   "metadata": {
    "ExecuteTime": {
     "end_time": "2020-09-03T20:06:16.373217Z",
     "start_time": "2020-09-03T20:05:59.332362Z"
    },
    "hidden": true
   },
   "outputs": [],
   "source": [
    "#They all have to be produced with the same pileup\n",
    "MCsample = {\n",
    "'tau' : DSetLoader('B0_TauNuDmst_PUc0'),\n",
    "'mu' : DSetLoader('B0_MuNuDmst_PUc0'),\n",
    "'DstmD0' : DSetLoader('B0_DstmD0_PUc0'),\n",
    "'DstmDp' : DSetLoader('B0_DstmDp_PUc0'),\n",
    "'DstmDsp' : DSetLoader('B0_DstmDsp_PUc0'),\n",
    "'BpDstmHc' : DSetLoader('Bp_DstmHc_PUc0'),\n",
    "'BmDstmHc' : DSetLoader('Bm_DstmHc_PUc0'),\n",
    "'antiB0DstmHc' : DSetLoader('antiB0_DstmHc_PUc0'),\n",
    "'DstPip' : DSetLoader('Bp_MuNuDstst_Pip_PUc0'),\n",
    "'DstPi0' : DSetLoader('B0_MuNuDstst_Pi0_PUc0'),\n",
    "'DstPipPi0' : DSetLoader('Bp_MuNuDstst_PipPi0_PUc0'),\n",
    "'DstPipPim' : DSetLoader('B0_MuNuDstst_PipPim_PUc0'),\n",
    "'DstPi0Pi0' : DSetLoader('B0_MuNuDstst_Pi0Pi0_PUc0'),\n",
    "}\n",
    "processOrder = ['tau', 'mu', 'DstPip','DstPi0','DstPipPi0','DstPipPim','DstPi0Pi0','DstmDsp','DstmD0','DstmDp','BpDstmHc','BmDstmHc','antiB0DstmHc']\n",
    "dSet = {}\n",
    "dSetTkSide = {}\n",
    "for n, s in MCsample.iteritems():\n",
    "    if not n in processOrder: raise\n",
    "    dSet[n] = rtnp.root2array(s.skimmed_dir + '/{}_corr.root'.format(cat.name))\n",
    "    dSetTkSide[n] = rtnp.root2array(s.skimmed_dir + '/{}_trkCtrl_corr.root'.format(cat.name))"
   ]
  },
  {
   "cell_type": "code",
   "execution_count": 7,
   "metadata": {
    "ExecuteTime": {
     "end_time": "2020-09-03T20:06:16.396036Z",
     "start_time": "2020-09-03T20:06:16.378937Z"
    },
    "hidden": true
   },
   "outputs": [],
   "source": [
    "if fit_real_data:\n",
    "    creation_date = '200515'\n",
    "    locRD = '../data/cmsRD/skimmed/B2DstMu_B0_{}_{}'.format(creation_date, cat.name)\n",
    "    dSet['data'] = rtnp.root2array(locRD + '_corr.root')\n",
    "    dSetTkSide['data'] = rtnp.root2array(locRD + '_trkCtrl_corr.root')\n",
    "    dataDir = '../data/cmsRD'\n",
    "    datasets_loc = glob(dataDir + '/ParkingBPH*/*RDntuplizer_B2DstMu_{}_CAND.root'.format(creation_date))\n",
    "    lumi_tot = getLumiByTrigger(datasets_loc, cat.trg, verbose=True)\n",
    "    CMS_lumi.integrated_lumi = lumi_tot\n",
    "else:\n",
    "    expectedLumi = {'low':6.4, 'mid':20.7, 'high':26.4, 'single':6.} #fb^-1\n",
    "    lumi_tot = expectedLumi[category]"
   ]
  },
  {
   "cell_type": "markdown",
   "metadata": {
    "heading_collapsed": true
   },
   "source": [
    "# Load all the calibrations"
   ]
  },
  {
   "cell_type": "markdown",
   "metadata": {
    "hidden": true
   },
   "source": [
    "Pileup"
   ]
  },
  {
   "cell_type": "code",
   "execution_count": 8,
   "metadata": {
    "ExecuteTime": {
     "end_time": "2020-09-03T20:06:16.813917Z",
     "start_time": "2020-09-03T20:06:16.400807Z"
    },
    "hidden": true
   },
   "outputs": [],
   "source": [
    "from pileup_utilities import pileupReweighter\n",
    "puReweighter = pileupReweighter(MCsample['mu'].skimmed_dir + '/{}_corr.root'.format(cat.name), cat)"
   ]
  },
  {
   "cell_type": "markdown",
   "metadata": {
    "hidden": true
   },
   "source": [
    "Branching fraction"
   ]
  },
  {
   "cell_type": "code",
   "execution_count": 9,
   "metadata": {
    "ExecuteTime": {
     "end_time": "2020-09-03T20:06:16.937865Z",
     "start_time": "2020-09-03T20:06:16.819416Z"
    },
    "hidden": true
   },
   "outputs": [],
   "source": [
    "decayBR = pickle.load(open('../data/forcedDecayChannelsFactors.pickle', 'rb'))"
   ]
  },
  {
   "cell_type": "markdown",
   "metadata": {
    "hidden": true
   },
   "source": [
    "Trigger scale factor"
   ]
  },
  {
   "cell_type": "code",
   "execution_count": 10,
   "metadata": {
    "ExecuteTime": {
     "end_time": "2020-09-03T20:06:17.068731Z",
     "start_time": "2020-09-03T20:06:16.945170Z"
    },
    "hidden": true
   },
   "outputs": [],
   "source": [
    "loc = '../data/calibration/triggerScaleFactors/'\n",
    "fTriggerSF = rt.TFile.Open(loc + 'HLT_' + cat.trg + '_SF_v3.root', 'READ')\n",
    "hTriggerSF = fTriggerSF.Get('hSF_HLT_' + cat.trg)"
   ]
  },
  {
   "cell_type": "code",
   "execution_count": 11,
   "metadata": {
    "ExecuteTime": {
     "end_time": "2020-09-03T20:06:17.186646Z",
     "start_time": "2020-09-03T20:06:17.074235Z"
    },
    "code_folding": [],
    "hidden": true
   },
   "outputs": [],
   "source": [
    "def computeTrgSF(ds, selection=None):\n",
    "    trgSF = np.ones_like(ds['q2'])\n",
    "    trgSFUnc = np.zeros_like(ds['q2'])\n",
    "    ptmax = hTriggerSF.GetXaxis().GetXmax() - 0.01\n",
    "    ipmax = hTriggerSF.GetYaxis().GetXmax() - 0.01\n",
    "    etamax = hTriggerSF.GetZaxis().GetXmax() - 0.01\n",
    "    x = np.column_stack((ds['mu_pt'], ds['mu_eta'], ds['mu_sigdxy']))\n",
    "    if not selection is None:\n",
    "        x = x[selection]\n",
    "    for i, (pt, eta, ip) in enumerate(x):\n",
    "        ix = hTriggerSF.GetXaxis().FindBin(min(ptmax, pt))\n",
    "        iy = hTriggerSF.GetYaxis().FindBin(min(ipmax, ip))\n",
    "        iz = hTriggerSF.GetZaxis().FindBin(min(etamax, np.abs(eta)))\n",
    "        trgSF[i] = hTriggerSF.GetBinContent(ix, iy, iz)\n",
    "        ib = hTriggerSF.GetBin(ix, iy, iz)\n",
    "        trgSFUnc[i] = hTriggerSF.GetBinError(ib)\n",
    "        if trgSF[i] == 0:\n",
    "            print pt, ip, np.abs(eta)\n",
    "            raise\n",
    "    # Divide them for the weight so later you can simply multiply back to get the value\n",
    "    up = 1 + trgSFUnc/trgSF\n",
    "    down = 1 - trgSFUnc/trgSF\n",
    "    return trgSF, up, down"
   ]
  },
  {
   "cell_type": "markdown",
   "metadata": {
    "hidden": true
   },
   "source": [
    "Muon ID scale factors"
   ]
  },
  {
   "cell_type": "code",
   "execution_count": 12,
   "metadata": {
    "ExecuteTime": {
     "end_time": "2020-09-03T20:06:17.391861Z",
     "start_time": "2020-09-03T20:06:17.193563Z"
    },
    "hidden": true
   },
   "outputs": [],
   "source": [
    "fMuonIDSF = rt.TFile.Open('../data/calibration/muonIDscaleFactors/Run2018ABCD_SF_MuonID_Jpsi.root', 'READ')\n",
    "hMuonIDSF = fMuonIDSF.Get('NUM_SoftID_DEN_genTracks_pt_abseta')"
   ]
  },
  {
   "cell_type": "code",
   "execution_count": 13,
   "metadata": {
    "ExecuteTime": {
     "end_time": "2020-09-03T20:06:17.492342Z",
     "start_time": "2020-09-03T20:06:17.398337Z"
    },
    "code_folding": [],
    "hidden": true
   },
   "outputs": [],
   "source": [
    "def computeMuonIDSF(ds, selection=None):\n",
    "    muonSF = np.ones_like(ds['q2'])\n",
    "    muonSFUnc = np.zeros_like(ds['q2'])\n",
    "    ptmax = hMuonIDSF.GetXaxis().GetXmax() - 0.01\n",
    "    etamax = hMuonIDSF.GetYaxis().GetXmax() - 0.01\n",
    "    x = np.column_stack((ds['MC_mu_pt'], ds['MC_mu_eta']))\n",
    "    if not selection is None:\n",
    "        x = x[selection]\n",
    "    for i, (pt, eta) in enumerate(x):\n",
    "        ix = hMuonIDSF.GetXaxis().FindBin(min(pt, ptmax))\n",
    "        if ix == 0: ix = 1 #Remove underflows (Meaning that the MC matching failed)\n",
    "        iy = hMuonIDSF.GetYaxis().FindBin(min(np.abs(eta), etamax))\n",
    "        muonSF[i] = hMuonIDSF.GetBinContent(ix, iy)\n",
    "        muonSFUnc[i] = hMuonIDSF.GetBinError(hMuonIDSF.GetBin(ix, iy))\n",
    "        if muonSF[i] == 0:\n",
    "            print pt, eta\n",
    "            print ix, iy\n",
    "            raise\n",
    "    up = 1 + muonSFUnc/muonSF\n",
    "    down = 1 - muonSFUnc/muonSF\n",
    "    return muonSF, up, down"
   ]
  },
  {
   "cell_type": "markdown",
   "metadata": {
    "hidden": true
   },
   "source": [
    "B transverse momentum calibration"
   ]
  },
  {
   "cell_type": "code",
   "execution_count": 14,
   "metadata": {
    "ExecuteTime": {
     "end_time": "2020-09-03T20:06:17.657546Z",
     "start_time": "2020-09-03T20:06:17.499029Z"
    },
    "hidden": true
   },
   "outputs": [],
   "source": [
    "aux = 'Low' if category == 'single' else cat.name\n",
    "cal_pT = pTCalReader(calibration_file='../data/calibration/B0pTspectrum/pwWeights_{}.txt'.format(aux))"
   ]
  },
  {
   "cell_type": "code",
   "execution_count": 15,
   "metadata": {
    "ExecuteTime": {
     "end_time": "2020-09-03T20:06:17.802355Z",
     "start_time": "2020-09-03T20:06:17.664872Z"
    },
    "code_folding": [],
    "hidden": true
   },
   "outputs": [],
   "source": [
    "def computeB0pTweights(ds):\n",
    "    # The denominator (sum of weights) for this weights is not known but it cancel out in the ratio\n",
    "    w = cal_pT.f['C'](ds['MC_B_pt'])\n",
    "    if np.sum(w==0):\n",
    "        print np.sum(w==0)\n",
    "        raise\n",
    "    up = cal_pT.f['Up'](ds['MC_B_pt'])/w\n",
    "    down = cal_pT.f['Down'](ds['MC_B_pt'])/w\n",
    "    return w, up, down"
   ]
  },
  {
   "cell_type": "code",
   "execution_count": 16,
   "metadata": {
    "ExecuteTime": {
     "end_time": "2020-09-03T20:06:17.905343Z",
     "start_time": "2020-09-03T20:06:17.809644Z"
    },
    "code_folding": [],
    "hidden": true
   },
   "outputs": [],
   "source": [
    "def computeBrVarWeights(ds, selItems={}, relScale=0.2, keepNorm=False):\n",
    "    sel = np.ones_like(ds['mu_pt']).astype(np.bool)\n",
    "    for var, val in selItems.iteritems():\n",
    "        sel = np.logical_and(ds[var].astype(np.int) == val, sel)\n",
    "    w = np.ones_like(sel)\n",
    "    up = np.where(sel, 1.+relScale, 1.)\n",
    "    down = np.where(sel, max(0, 1.-relScale), 1.)\n",
    "    if keepNorm:\n",
    "        up = float(up.shape[0])/np.sum(up)\n",
    "        down = float(down.shape[0])/np.sum(down)\n",
    "    return w, up, down"
   ]
  },
  {
   "cell_type": "code",
   "execution_count": 17,
   "metadata": {
    "ExecuteTime": {
     "end_time": "2020-09-03T20:06:18.027366Z",
     "start_time": "2020-09-03T20:06:17.912659Z"
    },
    "code_folding": [],
    "hidden": true
   },
   "outputs": [],
   "source": [
    "def computeTksPVweights(ds, relScale=0.05, centralVal=0.39/0.10):\n",
    "    selPdgID0 = np.logical_and(np.abs(ds['MC_tkMotherPdgId_0']) < 6, ds['MC_tkMotherPdgId_0'] != 0)\n",
    "    selPdgID0 = np.logical_or(selPdgID0, ds['MC_tkMotherPdgId_0']==2212)\n",
    "    selPdgID0 = np.logical_and(selPdgID0, ds['MC_tkFlag_0'] == 1)\n",
    "    selPdgID1 = np.logical_and(np.abs(ds['MC_tkMotherPdgId_1']) < 6, ds['MC_tkMotherPdgId_1'] != 0)\n",
    "    selPdgID1 = np.logical_or(selPdgID1, ds['MC_tkMotherPdgId_1']==2212)\n",
    "    selPdgID1 = np.logical_and( selPdgID1, ds['MC_tkFlag_1'] == 1)\n",
    "    exponent = selPdgID0.astype(np.int) + selPdgID1.astype(np.int)\n",
    "    w = np.power(centralVal, exponent)\n",
    "    up = np.power(centralVal*(1+relScale), exponent)/w\n",
    "    down = np.power(centralVal*(1-relScale), exponent)/w\n",
    "    return w, up, down"
   ]
  },
  {
   "cell_type": "markdown",
   "metadata": {
    "hidden": true
   },
   "source": [
    "MVA"
   ]
  },
  {
   "cell_type": "code",
   "execution_count": 18,
   "metadata": {
    "ExecuteTime": {
     "end_time": "2020-09-03T20:06:29.810254Z",
     "start_time": "2020-09-03T20:06:18.033468Z"
    },
    "hidden": true
   },
   "outputs": [
    {
     "name": "stderr",
     "output_type": "stream",
     "text": [
      "/cvmfs/cms.cern.ch/slc7_amd64_gcc700/external/py2-scikit-learn/0.19.1/lib/python2.7/site-packages/sklearn/base.py:311: UserWarning: Trying to unpickle estimator DecisionTreeRegressor from version 0.20.4 when using version 0.19.1. This might lead to breaking code or invalid results. Use at your own risk.\n",
      "  UserWarning)\n",
      "/cvmfs/cms.cern.ch/slc7_amd64_gcc700/external/py2-scikit-learn/0.19.1/lib/python2.7/site-packages/sklearn/base.py:311: UserWarning: Trying to unpickle estimator GradientBoostingClassifier from version 0.20.4 when using version 0.19.1. This might lead to breaking code or invalid results. Use at your own risk.\n",
      "  UserWarning)\n"
     ]
    }
   ],
   "source": [
    "fname = '../plot_scripts/kinObsMVA/clfGBC_tauVall_v0{}.p'.format(cat.name)\n",
    "clfGBC = pickle.load(open(fname, 'rb'))"
   ]
  },
  {
   "cell_type": "code",
   "execution_count": 19,
   "metadata": {
    "ExecuteTime": {
     "end_time": "2020-09-03T20:06:29.834029Z",
     "start_time": "2020-09-03T20:06:29.816914Z"
    },
    "hidden": true
   },
   "outputs": [],
   "source": [
    "def computeVarMVA(ds):\n",
    "    aux = np.column_stack((ds['q2'], ds['Est_mu'], ds['M2_miss']))\n",
    "    p = clfGBC.predict_proba(aux)\n",
    "    return p[:,1]"
   ]
  },
  {
   "cell_type": "markdown",
   "metadata": {},
   "source": [
    "# Create MC histograms"
   ]
  },
  {
   "cell_type": "code",
   "execution_count": 20,
   "metadata": {
    "ExecuteTime": {
     "end_time": "2020-09-03T20:06:29.895530Z",
     "start_time": "2020-09-03T20:06:29.838804Z"
    }
   },
   "outputs": [],
   "source": [
    "histo = {}\n",
    "eventCountingStr = {}"
   ]
  },
  {
   "cell_type": "markdown",
   "metadata": {},
   "source": [
    "### Signal region"
   ]
  },
  {
   "cell_type": "code",
   "execution_count": 75,
   "metadata": {
    "ExecuteTime": {
     "end_time": "2020-09-04T22:20:16.413688Z",
     "start_time": "2020-09-04T22:20:16.386079Z"
    }
   },
   "outputs": [
    {
     "data": {
      "text/plain": [
       "array([0.  , 0.02, 0.04, 0.06, 0.08, 0.1 , 0.12, 0.14, 0.16, 0.18, 0.2 ,\n",
       "       0.22, 0.24, 0.26, 0.28, 0.3 , 0.32, 0.34, 0.36, 0.38, 0.4 , 0.42,\n",
       "       0.44, 0.46, 0.48, 0.5 , 0.52, 0.54, 0.56, 0.58, 0.6 , 0.62, 0.64,\n",
       "       0.66, 0.68, 0.7 , 0.72, 0.74, 0.76, 0.78, 0.8 , 0.82])"
      ]
     },
     "execution_count": 75,
     "metadata": {},
     "output_type": "execute_result"
    }
   ],
   "source": [
    "# np.logspace(np.log10(0.02), np.log10(0.83), 10)\n",
    "# np.linspace(0, 0.74, 38)\n",
    "np.linspace(0, 0.82, 42)"
   ]
  },
  {
   "cell_type": "code",
   "execution_count": 21,
   "metadata": {
    "ExecuteTime": {
     "end_time": "2020-09-03T20:06:30.143240Z",
     "start_time": "2020-09-03T20:06:29.902682Z"
    },
    "hide_input": false
   },
   "outputs": [],
   "source": [
    "binning = {\n",
    "    'M2_miss' : [\n",
    "        array('d', [-2.5] + list(np.arange(-1.8, -0.2, 0.4)) + [-0.2, 0., 0.2, 0.6, 8] ),\n",
    "        array('d', [-2.5] + list(np.arange(-1.8, -0.1, 0.4)) + [-0.1, 0.0, 0.1, 0.2, 0.3] + list(np.arange(0.4, 3.0, 0.4)) + [8] ),\n",
    "        array('d', [-2.5] + list(np.arange(-1.8, 5.6, 0.4)) + [8] ),\n",
    "        array('d', [-2.5] + list(np.arange(-1.8, 7.6, 0.4)) + [8] ),\n",
    "    ],\n",
    "    'Est_mu'  : [\n",
    "        array('d', [0.3] + list(np.arange(0.7, 2.3, 0.1)) + [2.5] ),\n",
    "        array('d', [0.3] + list(np.arange(0.7, 2.5, 0.1)) + [2.5] ),\n",
    "        array('d', [0.3] + list(np.arange(0.5, 2.5, 0.1)) + [2.5] ),\n",
    "        [22, 0.3, 2.500],\n",
    "    ],\n",
    "#     'MVA'     : [\n",
    "#         array('d', [0, 0.01] + list(np.logspace(np.log10(0.02), np.log10(0.82), 10))),\n",
    "#         array('d', list(np.linspace(0, 0.74, 38)) + [0.82]),\n",
    "#         array('d', list(np.linspace(0, 0.82, 42))),\n",
    "#         array('d', list(np.linspace(0, 0.82, 42)))\n",
    "#     ]\n",
    "}\n",
    "if fit_real_data:\n",
    "    binning['q2'] = array('d', [-2, 2.5, 6])\n",
    "#     binning['MVA'] = array('d', list(np.arange(0., 0.51, 0.03)))\n",
    "else:\n",
    "    binning['q2'] = array('d', [-2, 2.5, 6, 9.4, 12])\n",
    "#     binning['MVA'] = array('d', list(np.arange(0., 0.83, 0.02)))"
   ]
  },
  {
   "cell_type": "code",
   "execution_count": 22,
   "metadata": {
    "ExecuteTime": {
     "end_time": "2020-09-03T20:12:59.246613Z",
     "start_time": "2020-09-03T20:06:30.151144Z"
    },
    "code_folding": [],
    "hide_input": false,
    "scrolled": true
   },
   "outputs": [
    {
     "name": "stdout",
     "output_type": "stream",
     "text": [
      "\n",
      "-----------> tau <-------------\n",
      "N tot selected: 61.3k\n",
      "N tot expected (before weights): 2.32k\n",
      "Including pileup reweighting\n",
      "Including trigger corrections\n",
      "Including muon ID corrections\n",
      "Including B0 pT corrections\n",
      "Including FF corrections (Hammer)\n",
      "Computing total weights\n",
      "N tot expected (after weights): 2.627k\n",
      "Evaluating MVA\n",
      "\n",
      "-----------> mu <-------------\n",
      "N tot selected: 594.9k\n",
      "N tot expected (before weights): 45.38k\n",
      "Including pileup reweighting\n",
      "Including trigger corrections\n",
      "Including muon ID corrections\n",
      "Including B0 pT corrections\n",
      "Including FF corrections (Hammer)\n",
      "Computing total weights\n",
      "N tot expected (after weights): 47.716k\n",
      "Evaluating MVA\n",
      "\n",
      "-----------> DstPip <-------------\n",
      "N tot selected: 36.7k\n",
      "N tot expected (before weights): 1.53k\n",
      "Including pileup reweighting\n",
      "Including trigger corrections\n",
      "Including muon ID corrections\n",
      "Computing total weights\n",
      "N tot expected (after weights): 1.631k\n",
      "Evaluating MVA\n",
      "\n",
      "-----------> DstPi0 <-------------\n",
      "N tot selected: 49.3k\n",
      "N tot expected (before weights): 1.91k\n",
      "Including pileup reweighting\n",
      "Including trigger corrections\n",
      "Including muon ID corrections\n",
      "Including B0 pT corrections\n",
      "Computing total weights\n",
      "N tot expected (after weights): 2.110k\n",
      "Evaluating MVA\n",
      "\n",
      "-----------> DstPipPi0 <-------------\n",
      "N tot selected: 3.4k\n",
      "N tot expected (before weights): 0.15k\n",
      "Including pileup reweighting\n",
      "Including trigger corrections\n",
      "Including muon ID corrections\n",
      "Computing total weights\n",
      "N tot expected (after weights): 0.158k\n",
      "Evaluating MVA\n",
      "\n",
      "-----------> DstPipPim <-------------\n",
      "N tot selected: 2.0k\n",
      "N tot expected (before weights): 0.11k\n",
      "Including pileup reweighting\n",
      "Including trigger corrections\n",
      "Including muon ID corrections\n",
      "Including B0 pT corrections\n",
      "Computing total weights\n",
      "N tot expected (after weights): 0.112k\n",
      "Evaluating MVA\n",
      "\n",
      "-----------> DstPi0Pi0 <-------------\n",
      "N tot selected: 23.3k\n",
      "N tot expected (before weights): 0.20k\n",
      "Including pileup reweighting\n",
      "Including trigger corrections\n",
      "Including muon ID corrections\n",
      "Including B0 pT corrections\n",
      "Computing total weights\n",
      "N tot expected (after weights): 0.220k\n",
      "Evaluating MVA\n",
      "\n",
      "-----------> DstmDsp <-------------\n",
      "N tot selected: 17.6k\n",
      "N tot expected (before weights): 0.29k\n",
      "Including pileup reweighting\n",
      "Including trigger corrections\n",
      "Including muon ID corrections\n",
      "Including B0 pT corrections\n",
      "Computing total weights\n",
      "N tot expected (after weights): 0.325k\n",
      "Evaluating MVA\n",
      "\n",
      "-----------> DstmD0 <-------------\n",
      "N tot selected: 0.8k\n",
      "N tot expected (before weights): 0.01k\n",
      "Including pileup reweighting\n",
      "Including trigger corrections\n",
      "Including muon ID corrections\n",
      "Including B0 pT corrections\n",
      "Computing total weights\n",
      "N tot expected (after weights): 0.017k\n",
      "Evaluating MVA\n",
      "\n",
      "-----------> DstmDp <-------------\n",
      "N tot selected: 5.8k\n",
      "N tot expected (before weights): 0.06k\n",
      "Including pileup reweighting\n",
      "Including trigger corrections\n",
      "Including muon ID corrections\n",
      "Including B0 pT corrections\n",
      "Computing total weights\n",
      "N tot expected (after weights): 0.077k\n",
      "Evaluating MVA\n",
      "\n",
      "-----------> BpDstmHc <-------------\n",
      "N tot selected: 2.0k\n",
      "N tot expected (before weights): 0.00k\n",
      "Including pileup reweighting\n",
      "Including trigger corrections\n",
      "Including muon ID corrections\n",
      "Computing total weights\n",
      "N tot expected (after weights): 0.003k\n",
      "Evaluating MVA\n",
      "\n",
      "-----------> BmDstmHc <-------------\n",
      "N tot selected: 1.1k\n",
      "N tot expected (before weights): 0.03k\n",
      "Including pileup reweighting\n",
      "Including trigger corrections\n",
      "Including muon ID corrections\n",
      "Computing total weights\n",
      "N tot expected (after weights): 0.034k\n",
      "Evaluating MVA\n",
      "\n",
      "-----------> antiB0DstmHc <-------------\n",
      "N tot selected: 1.5k\n",
      "N tot expected (before weights): 0.05k\n",
      "Including pileup reweighting\n",
      "Including trigger corrections\n",
      "Including muon ID corrections\n",
      "Computing total weights\n",
      "N tot expected (after weights): 0.055k\n",
      "Evaluating MVA\n"
     ]
    }
   ],
   "source": [
    "totalCounting = [0,0]\n",
    "for n in processOrder:\n",
    "    ds = dSet[n]\n",
    "    if n == 'data': continue\n",
    "    print '\\n----------->', n, '<-------------'\n",
    "    sMC = MCsample[n]\n",
    "    \n",
    "    nTotSelected = ds['q2'].shape[0]\n",
    "    print 'N tot selected: {:.1f}k'.format(1e-3*nTotSelected)\n",
    "    totalCounting[1] += 1e-3*nTotSelected\n",
    "    nGenExp = sMC.effMCgen['xsec'][0] * lumi_tot# * RDoMC_normRatio[0]\n",
    "    eff = [1, 0]\n",
    "    for f, df in [sMC.effMCgen['effGEN'], decayBR[n], sMC.effCand['effCAND'], sMC.getSkimEff(cat.name+'_corr')]:\n",
    "        eff[0] *= f\n",
    "        eff[1] += np.square(df/f)\n",
    "    eff[1] = eff[0] * np.sqrt(eff[1])\n",
    "    nTotExp = nGenExp*eff[0]\n",
    "    print 'N tot expected (before weights): {:.2f}k'.format(1e-3*nTotExp)\n",
    "    \n",
    "    wVar = {}\n",
    "    weights = {}\n",
    "    \n",
    "    print 'Including pileup reweighting'\n",
    "    weights['pileup'] = puReweighter.weightsPileupMC[ds['N_vtx'].astype(np.int)]\n",
    "    print 'Including trigger corrections'\n",
    "    weights['trg{}SF'.format(cat.trg)], wVar['trg{}SFUp'.format(cat.trg)], wVar['trg{}SFDown'.format(cat.trg)] = computeTrgSF(ds)\n",
    "    print 'Including muon ID corrections'\n",
    "    weights['muonIdSF'], wVar['muonIdSFUp'], wVar['muonIdSFDown'] = computeMuonIDSF(ds)\n",
    "    if n in ['mu', 'tau', 'DstmD0', 'DstmDp', 'DstmDsp','DstPi0', 'DstPipPim', 'DstPi0Pi0']: #B0 dominated final states (probably we should do something about B+ too)\n",
    "        print 'Including B0 pT corrections'\n",
    "        weights['B0pT'], wVar['B0pTUp'], wVar['B0pTDown'] = computeB0pTweights(ds)\n",
    "    # Hammer corrections to the FF\n",
    "    if n in ['mu', 'tau']:\n",
    "        print 'Including FF corrections (Hammer)'\n",
    "        weights['B2DstCLN'] = ds['wh_CLNCentral']*sMC.effCand['rate_den']/sMC.effCand['rate_Central']\n",
    "        for nPar in ['R0', 'eig1', 'eig2', 'eig3']:\n",
    "            for var in ['Up', 'Down']:\n",
    "                tag = 'CLN' + nPar + var\n",
    "                wVar['B2Dst'+tag] = ds['wh_'+tag]/sMC.effCand['rate_' + tag]\n",
    "                wVar['B2Dst'+tag] *= sMC.effCand['rate_Central']/ds['wh_CLNCentral']\n",
    "    #Dstst resonance mix\n",
    "    if n == 'DstPip':\n",
    "        _, wVar['fDststWideUp'], wVar['fDststWideDown'] = computeBrVarWeights(ds, {'MC_munuSisterPdgId': -20423}, 0.6/2.7, keepNorm=True) #Gamma 14 pdg 2020\n",
    "    #Hc mix variations\n",
    "    if n == 'DstmD0':\n",
    "        _, wVar['BrB02DstD0KpUp'], wVar['BrB02DstD0KpDown'] = computeBrVarWeights(ds, {'MC_DstSisterPdgId_heavy': 421, 'MC_DstSisterPdgId_light': 321}, 0.21/2.47) #Gamma 169 pdg 2020\n",
    "        _, wVar['BrB02DstD0KstpUp'], wVar['BrB02DstD0KstpDown'] = computeBrVarWeights(ds, {'MC_DstSisterPdgId_heavy': 421, 'MC_DstSisterPdgId_light': 323}, 0.5) # Guess\n",
    "        _, wVar['BrB02DstDst0KpUp'], wVar['BrB02DstDst0KpDown'] = computeBrVarWeights(ds, {'MC_DstSisterPdgId_heavy': 423, 'MC_DstSisterPdgId_light': 321}, 0.09/1.06) #Gamma 170 pdg 2020\n",
    "        _, wVar['BrB02DstDst0KstpUp'], wVar['BrB02DstDst0KstpDown'] = computeBrVarWeights(ds, {'MC_DstSisterPdgId_heavy': 423, 'MC_DstSisterPdgId_light': 323}, 0.5) # Guess\n",
    "        _, wVar['BrB02DstDstpK0Up'], wVar['BrB02DstDstpK0Down'] = computeBrVarWeights(ds, {'MC_DstSisterPdgId_heavy': 413, 'MC_DstSisterPdgId_light': 311}, 0.5/5.3) #Gamma 173 pdg 2020\n",
    "        _, wVar['BrB02DstDstpKst0Up'], wVar['BrB02DstDstpKst0Down'] = computeBrVarWeights(ds, {'MC_DstSisterPdgId_heavy': 413, 'MC_DstSisterPdgId_light': 313}, 0.5) # Guess\n",
    "    if n == 'DstmDp':\n",
    "        _, wVar['BrB02DstDpK0Up'], wVar['BrB02DstDpK0Down'] = computeBrVarWeights(ds, {'MC_DstSisterPdgId_heavy': 411, 'MC_DstSisterPdgId_light': 311}, 0.5/3.2) #Gamma 172 pdg 2020\n",
    "        _, wVar['BrB02DstDpKst0Up'], wVar['BrB02DstDpKst0Down'] = computeBrVarWeights(ds, {'MC_DstSisterPdgId_heavy': 411, 'MC_DstSisterPdgId_light': 313}, 0.5) # Guess\n",
    "        _, wVar['BrB02DstDstpK0Up'], wVar['BrB02DstDstpK0Down'] = computeBrVarWeights(ds, {'MC_DstSisterPdgId_heavy': 413, 'MC_DstSisterPdgId_light': 311}, 0.2/2.7) #Gamma 173 pdg 2020\n",
    "        _, wVar['BrB02DstDstpKst0Up'], wVar['BrB02DstDstpKst0Down'] = computeBrVarWeights(ds, {'MC_DstSisterPdgId_heavy': 413, 'MC_DstSisterPdgId_light': 313}, 0.5) # Guess\n",
    "    if n == 'DstmDsp':\n",
    "        _, wVar['BrB02DstDsUp'], wVar['BrB02DstDsDown'] = computeBrVarWeights(ds, {'MC_DstSisterPdgId_heavy': 431}, 1.1/8.0) #Gamma 83 pdg 2020\n",
    "        _, wVar['BrB02DstDsstUp'], wVar['BrB02DstDsstDown'] = computeBrVarWeights(ds, {'MC_DstSisterPdgId_heavy': 433}, .14/1.77) #Gamma 85 pdg 2020\n",
    "        _, wVar['BrB02DstDs0stUp'], wVar['BrB02DstDs0stDown'] = computeBrVarWeights(ds, {'MC_DstSisterPdgId_heavy': 10431}, .6/1.5) #Gamma 95 pdg 2020\n",
    "    \n",
    "    print 'Computing total weights'\n",
    "    weightsCentral = np.ones_like(ds['q2'])\n",
    "    for w in weights.values(): weightsCentral *= w\n",
    "    print 'N tot expected (after weights): {:.3f}k'.format(1e-3*nTotExp*np.sum(weightsCentral)/nTotSelected)\n",
    "    totalCounting[0] += 1e-3*nTotExp*np.sum(weightsCentral)/nTotSelected\n",
    "    evCountStr = '{:.2f} ({:.2f})'.format(1e-3*nTotExp*np.sum(weightsCentral)/nTotSelected, 1e-3*nTotSelected)\n",
    "    eventCountingStr[n] = evCountStr\n",
    "    wVar[''] = np.ones_like(weightsCentral)\n",
    "    \n",
    "    \n",
    "    if useMVA:\n",
    "        print 'Evaluating MVA'\n",
    "        if not 'MVA' in histo.keys():\n",
    "            histo['MVA'] = {}\n",
    "        sMVA = computeVarMVA(ds)\n",
    "        for name_wVar, v_wVar in wVar.iteritems():\n",
    "                h_name = n\n",
    "                if not name_wVar == '':\n",
    "                    h_name += '__' + name_wVar\n",
    "                w = weightsCentral*v_wVar\n",
    "                scale = nTotExp/nTotSelected\n",
    "                histo['MVA'][h_name] = create_TH1D(sMVA, name=h_name, weights=w, scale_histo=scale,\n",
    "                                                   binning=binning['MVA'], opt='underflow,overflow')\n",
    "    \n",
    "    for i_q2 in range(len(binning['q2'])-1):\n",
    "        q2_l = binning['q2'][i_q2]\n",
    "        q2_h = binning['q2'][i_q2 + 1]\n",
    "        sel_q2 = np.logical_and(ds['q2'] > q2_l, ds['q2'] < q2_h)\n",
    "        for var in ['M2_miss', 'Est_mu']:\n",
    "            cat_name = var+'_q2bin'+str(i_q2)\n",
    "            \n",
    "            if not cat_name in histo.keys():\n",
    "                histo[cat_name] = {}\n",
    "            \n",
    "            for name_wVar, v_wVar in wVar.iteritems():\n",
    "                h_name = n\n",
    "                if not name_wVar == '':\n",
    "                    h_name += '__' + name_wVar\n",
    "                w = weightsCentral*v_wVar\n",
    "                scale = nTotExp/nTotSelected\n",
    "                histo[cat_name][h_name] = create_TH1D(\n",
    "                                                      ds[var][sel_q2], \n",
    "                                                      name=h_name, title=h_name, \n",
    "                                                      binning=binning[var][i_q2], \n",
    "                                                      opt='underflow,overflow',\n",
    "                                                      weights=w[sel_q2], scale_histo=scale,\n",
    "                                                      )\n",
    "                \n",
    "evCountStr = '{:.1f} ({:.1f})'.format(*totalCounting)\n",
    "eventCountingStr['tot'] = evCountStr"
   ]
  },
  {
   "cell_type": "markdown",
   "metadata": {
    "heading_collapsed": true
   },
   "source": [
    "### Single track side"
   ]
  },
  {
   "cell_type": "code",
   "execution_count": 23,
   "metadata": {
    "ExecuteTime": {
     "end_time": "2020-09-03T20:12:59.343060Z",
     "start_time": "2020-09-03T20:12:59.252215Z"
    },
    "hidden": true
   },
   "outputs": [],
   "source": [
    "sideSelecton = {}\n",
    "sideVar = {}\n",
    "sideXtitle = {}\n",
    "sideAddtext = {}\n",
    "\n",
    "def selfun__TkPlus(ds):\n",
    "    sel = np.logical_and(ds['N_goodAddTks'] == 1, ds['tkCharge_0'] > 0)\n",
    "    return sel\n",
    "#     return np.logical_and(np.abs(ds['tkMassHad_0'] - 2.43) < 0.3, sel)\n",
    "sideSelecton['AddTk_p_mHad'] = selfun__TkPlus\n",
    "sideVar['AddTk_p_mHad'] = 'tkMassHad_0'\n",
    "binning['AddTk_p_mHad'] = [35, 2.13, 2.83]\n",
    "sideXtitle['AddTk_p_mHad'] = 'Total hadrons mass'\n",
    "sideAddtext['AddTk_p_mHad'] = 'N_{tk} = 1 & Q_{tk} = +1'\n",
    "\n",
    "def selfun__TkMinus(ds):\n",
    "    sel = np.logical_and(ds['N_goodAddTks'] == 1, ds['tkCharge_0'] < 0)\n",
    "    return sel\n",
    "sideSelecton['AddTk_m_mHad'] = selfun__TkMinus\n",
    "sideVar['AddTk_m_mHad'] = 'tkMassHad_0'\n",
    "binning['AddTk_m_mHad'] = [30, 2.1, 3.3]\n",
    "sideXtitle['AddTk_m_mHad'] = 'Total hadrons mass'\n",
    "sideAddtext['AddTk_m_mHad'] = 'N_{tk} = 1 & Q_{tk} = -1'\n",
    "\n",
    "# sideSelecton['AddTk_m_tkPt'] = selfun__TkMinus\n",
    "# sideVar['AddTk_m_tkPt'] = 'tkPt_0'\n",
    "# binning['AddTk_m_tkPt'] = np.logspace(np.log10(0.5), np.log10(5.0), 30)\n",
    "# sideXtitle['AddTk_m_tkPt'] = 'Additional track p_{T}'\n",
    "# sideAddtext['AddTk_m_tkPt'] = 'N_{tk} = 1 & Q_{tk} = -1'\n",
    "\n",
    "\n",
    "def selfun__TkPlusMinus(ds):\n",
    "    sel = np.logical_and(ds['tkCharge_0']+ds['tkCharge_1'] == 0, ds['N_goodAddTks'] == 2)\n",
    "    sel = np.logical_and(ds['tkMassVis12'] < 5.3, sel)\n",
    "    return sel\n",
    "sideSelecton['AddTk_pm_mVis'] = selfun__TkPlusMinus\n",
    "sideVar['AddTk_pm_mVis'] = 'tkMassVis12'\n",
    "binning['AddTk_pm_mVis'] = array('d', [2.8] + list(np.arange(3., 5.3, 0.1)) + [5.3] )\n",
    "sideXtitle['AddTk_pm_mVis'] = 'Total visible mass'\n",
    "sideAddtext['AddTk_pm_mVis'] = 'N_{tk} = 2 & #sumQ_{tk} = 0'\n",
    "\n",
    "\n",
    "sideSelecton['AddTk_pm_mHad'] = selfun__TkPlusMinus\n",
    "sideVar['AddTk_pm_mHad'] = 'tkMassHad12'\n",
    "binning['AddTk_pm_mHad'] = [30, 2.3, 3.75]\n",
    "sideXtitle['AddTk_pm_mHad'] = 'Total hadrons mass'\n",
    "sideAddtext['AddTk_pm_mHad'] = 'N_{tk} = 2 & #sumQ_{tk} = 0'\n",
    "\n",
    "def selfun__TkMinusMinus(ds):\n",
    "    sel = np.logical_and(ds['tkCharge_0']+ds['tkCharge_1'] == -2, ds['N_goodAddTks'] == 2)\n",
    "    sel = np.logical_and(ds['tkMassVis12'] < 5.3, sel)\n",
    "    return sel\n",
    "sideSelecton['AddTk_mm_mHad'] = selfun__TkMinusMinus\n",
    "sideVar['AddTk_mm_mHad'] = 'tkMassHad12'\n",
    "binning['AddTk_mm_mHad'] = [15, 2.25, 3.6]\n",
    "sideXtitle['AddTk_mm_mHad'] = 'Total hadrons mass'\n",
    "sideAddtext['AddTk_mm_mHad'] = 'N_{tk} = 2 & #sumQ_{tk} = -2'\n",
    "\n",
    "def selfun__TkPlusPlus(ds):\n",
    "    sel = np.logical_and(ds['tkCharge_0']+ds['tkCharge_1'] == +2, ds['N_goodAddTks'] == 2)\n",
    "    sel = np.logical_and(ds['tkMassVis12'] < 5.3, sel)\n",
    "    return sel\n",
    "sideSelecton['AddTk_pp_mHad'] = selfun__TkPlusPlus\n",
    "sideVar['AddTk_pp_mHad'] = 'tkMassHad12'\n",
    "binning['AddTk_pp_mHad'] = [15, 2.25, 3.75]\n",
    "sideXtitle['AddTk_pp_mHad'] = 'Total hadrons mass'\n",
    "sideAddtext['AddTk_pp_mHad'] = 'N_{tk} = 2 & #sumQ_{tk} = +2'"
   ]
  },
  {
   "cell_type": "code",
   "execution_count": 24,
   "metadata": {
    "ExecuteTime": {
     "end_time": "2020-09-03T20:13:15.807530Z",
     "start_time": "2020-09-03T20:12:59.347847Z"
    },
    "hidden": true,
    "scrolled": true
   },
   "outputs": [
    {
     "name": "stdout",
     "output_type": "stream",
     "text": [
      "\n",
      "-----------> tau <-------------\n",
      "Including pileup reweighting\n",
      "Including trigger corrections\n",
      "Including muon ID corrections\n",
      "Including B0 pT corrections\n",
      "Including FF corrections (Hammer)\n",
      "Computing total weights\n",
      "N tot selected AddTk_pm_mHad: 146\n",
      "N tot expected AddTk_pm_mHad (before weights): 6\n",
      "N tot expected AddTk_pm_mHad (after weights): 16\n",
      "N tot selected AddTk_m_mHad: 1875\n",
      "N tot expected AddTk_m_mHad (before weights): 71\n",
      "N tot expected AddTk_m_mHad (after weights): 104\n",
      "N tot selected AddTk_p_mHad: 2159\n",
      "N tot expected AddTk_p_mHad (before weights): 82\n",
      "N tot expected AddTk_p_mHad (after weights): 125\n",
      "N tot selected AddTk_pp_mHad: 65\n",
      "N tot expected AddTk_pp_mHad (before weights): 2\n",
      "N tot expected AddTk_pp_mHad (after weights): 5\n",
      "N tot selected AddTk_mm_mHad: 49\n",
      "N tot expected AddTk_mm_mHad (before weights): 2\n",
      "N tot expected AddTk_mm_mHad (after weights): 4\n",
      "N tot selected AddTk_pm_mVis: 146\n",
      "N tot expected AddTk_pm_mVis (before weights): 6\n",
      "N tot expected AddTk_pm_mVis (after weights): 16\n",
      "125 (2159) & 104 (1875) & 5 (65) & 16 (146) & 4 (49)\n",
      "\n",
      "-----------> mu <-------------\n",
      "Including pileup reweighting\n",
      "Including trigger corrections\n",
      "Including muon ID corrections\n",
      "Including B0 pT corrections\n",
      "Including FF corrections (Hammer)\n",
      "Computing total weights\n",
      "N tot selected AddTk_pm_mHad: 2099\n",
      "N tot expected AddTk_pm_mHad (before weights): 160\n",
      "N tot expected AddTk_pm_mHad (after weights): 352\n",
      "N tot selected AddTk_m_mHad: 24527\n",
      "N tot expected AddTk_m_mHad (before weights): 1871\n",
      "N tot expected AddTk_m_mHad (after weights): 2460\n",
      "N tot selected AddTk_p_mHad: 27852\n",
      "N tot expected AddTk_p_mHad (before weights): 2124\n",
      "N tot expected AddTk_p_mHad (after weights): 2917\n",
      "N tot selected AddTk_pp_mHad: 959\n",
      "N tot expected AddTk_pp_mHad (before weights): 73\n",
      "N tot expected AddTk_pp_mHad (after weights): 136\n",
      "N tot selected AddTk_mm_mHad: 746\n",
      "N tot expected AddTk_mm_mHad (before weights): 57\n",
      "N tot expected AddTk_mm_mHad (after weights): 105\n",
      "N tot selected AddTk_pm_mVis: 2099\n",
      "N tot expected AddTk_pm_mVis (before weights): 160\n",
      "N tot expected AddTk_pm_mVis (after weights): 352\n",
      "2917 (27852) & 2460 (24527) & 136 (959) & 352 (2099) & 105 (746)\n",
      "\n",
      "-----------> DstPip <-------------\n",
      "Including pileup reweighting\n",
      "Including trigger corrections\n",
      "Including muon ID corrections\n",
      "Computing total weights\n",
      "N tot selected AddTk_pm_mHad: 2586\n",
      "N tot expected AddTk_pm_mHad (before weights): 108\n",
      "N tot expected AddTk_pm_mHad (after weights): 172\n",
      "N tot selected AddTk_m_mHad: 1767\n",
      "N tot expected AddTk_m_mHad (before weights): 74\n",
      "N tot expected AddTk_m_mHad (after weights): 108\n",
      "N tot selected AddTk_p_mHad: 62441\n",
      "N tot expected AddTk_p_mHad (before weights): 2605\n",
      "N tot expected AddTk_p_mHad (after weights): 2780\n",
      "N tot selected AddTk_pp_mHad: 1817\n",
      "N tot expected AddTk_pp_mHad (before weights): 76\n",
      "N tot expected AddTk_pp_mHad (after weights): 100\n",
      "N tot selected AddTk_mm_mHad: 63\n",
      "N tot expected AddTk_mm_mHad (before weights): 3\n",
      "N tot expected AddTk_mm_mHad (after weights): 4\n",
      "N tot selected AddTk_pm_mVis: 2586\n",
      "N tot expected AddTk_pm_mVis (before weights): 108\n",
      "N tot expected AddTk_pm_mVis (after weights): 172\n",
      "2780 (62441) & 108 (1767) & 100 (1817) & 172 (2586) & 4 (63)\n",
      "\n",
      "-----------> DstPi0 <-------------\n",
      "Including pileup reweighting\n",
      "Including trigger corrections\n",
      "Including muon ID corrections\n",
      "Including B0 pT corrections\n",
      "Computing total weights\n",
      "N tot selected AddTk_pm_mHad: 229\n",
      "N tot expected AddTk_pm_mHad (before weights): 9\n",
      "N tot expected AddTk_pm_mHad (after weights): 18\n",
      "N tot selected AddTk_m_mHad: 2161\n",
      "N tot expected AddTk_m_mHad (before weights): 84\n",
      "N tot expected AddTk_m_mHad (after weights): 114\n",
      "N tot selected AddTk_p_mHad: 2331\n",
      "N tot expected AddTk_p_mHad (before weights): 90\n",
      "N tot expected AddTk_p_mHad (after weights): 128\n",
      "N tot selected AddTk_pp_mHad: 90\n",
      "N tot expected AddTk_pp_mHad (before weights): 3\n",
      "N tot expected AddTk_pp_mHad (after weights): 8\n",
      "N tot selected AddTk_mm_mHad: 67\n",
      "N tot expected AddTk_mm_mHad (before weights): 3\n",
      "N tot expected AddTk_mm_mHad (after weights): 6\n",
      "N tot selected AddTk_pm_mVis: 229\n",
      "N tot expected AddTk_pm_mVis (before weights): 9\n",
      "N tot expected AddTk_pm_mVis (after weights): 18\n",
      "128 (2331) & 114 (2161) & 8 (90) & 18 (229) & 6 (67)\n",
      "\n",
      "-----------> DstPipPi0 <-------------\n",
      "Including pileup reweighting\n",
      "Including trigger corrections\n",
      "Including muon ID corrections\n",
      "Computing total weights\n",
      "N tot selected AddTk_pm_mHad: 275\n",
      "N tot expected AddTk_pm_mHad (before weights): 12\n",
      "N tot expected AddTk_pm_mHad (after weights): 18\n",
      "N tot selected AddTk_m_mHad: 149\n",
      "N tot expected AddTk_m_mHad (before weights): 6\n",
      "N tot expected AddTk_m_mHad (after weights): 11\n",
      "N tot selected AddTk_p_mHad: 6548\n",
      "N tot expected AddTk_p_mHad (before weights): 285\n",
      "N tot expected AddTk_p_mHad (after weights): 306\n",
      "N tot selected AddTk_pp_mHad: 197\n",
      "N tot expected AddTk_pp_mHad (before weights): 9\n",
      "N tot expected AddTk_pp_mHad (after weights): 13\n",
      "N tot selected AddTk_mm_mHad: 6\n",
      "N tot expected AddTk_mm_mHad (before weights): 0\n",
      "N tot expected AddTk_mm_mHad (after weights): 0\n",
      "N tot selected AddTk_pm_mVis: 275\n",
      "N tot expected AddTk_pm_mVis (before weights): 12\n",
      "N tot expected AddTk_pm_mVis (after weights): 18\n",
      "306 (6548) & 11 (149) & 13 (197) & 18 (275) & 0 (6)\n",
      "\n",
      "-----------> DstPipPim <-------------\n",
      "Including pileup reweighting\n",
      "Including trigger corrections\n",
      "Including muon ID corrections\n",
      "Including B0 pT corrections\n",
      "Computing total weights\n",
      "N tot selected AddTk_pm_mHad: 5920\n",
      "N tot expected AddTk_pm_mHad (before weights): 307\n",
      "N tot expected AddTk_pm_mHad (after weights): 353\n",
      "N tot selected AddTk_m_mHad: 2771\n",
      "N tot expected AddTk_m_mHad (before weights): 144\n",
      "N tot expected AddTk_m_mHad (after weights): 157\n",
      "N tot selected AddTk_p_mHad: 3188\n",
      "N tot expected AddTk_p_mHad (before weights): 166\n",
      "N tot expected AddTk_p_mHad (after weights): 179\n",
      "N tot selected AddTk_pp_mHad: 116\n",
      "N tot expected AddTk_pp_mHad (before weights): 6\n",
      "N tot expected AddTk_pp_mHad (after weights): 9\n",
      "N tot selected AddTk_mm_mHad: 76\n",
      "N tot expected AddTk_mm_mHad (before weights): 4\n",
      "N tot expected AddTk_mm_mHad (after weights): 5\n",
      "N tot selected AddTk_pm_mVis: 5920\n",
      "N tot expected AddTk_pm_mVis (before weights): 307\n",
      "N tot expected AddTk_pm_mVis (after weights): 353\n",
      "179 (3188) & 157 (2771) & 9 (116) & 353 (5920) & 5 (76)\n",
      "\n",
      "-----------> DstPi0Pi0 <-------------\n",
      "Including pileup reweighting\n",
      "Including trigger corrections\n",
      "Including muon ID corrections\n",
      "Including B0 pT corrections\n",
      "Computing total weights\n",
      "N tot selected AddTk_pm_mHad: 99\n",
      "N tot expected AddTk_pm_mHad (before weights): 1\n",
      "N tot expected AddTk_pm_mHad (after weights): 2\n",
      "N tot selected AddTk_m_mHad: 956\n",
      "N tot expected AddTk_m_mHad (before weights): 8\n",
      "N tot expected AddTk_m_mHad (after weights): 11\n",
      "N tot selected AddTk_p_mHad: 1082\n",
      "N tot expected AddTk_p_mHad (before weights): 9\n",
      "N tot expected AddTk_p_mHad (after weights): 12\n",
      "N tot selected AddTk_pp_mHad: 41\n",
      "N tot expected AddTk_pp_mHad (before weights): 0\n",
      "N tot expected AddTk_pp_mHad (after weights): 1\n",
      "N tot selected AddTk_mm_mHad: 31\n",
      "N tot expected AddTk_mm_mHad (before weights): 0\n",
      "N tot expected AddTk_mm_mHad (after weights): 0\n",
      "N tot selected AddTk_pm_mVis: 99\n",
      "N tot expected AddTk_pm_mVis (before weights): 1\n",
      "N tot expected AddTk_pm_mVis (after weights): 2\n",
      "12 (1082) & 11 (956) & 1 (41) & 2 (99) & 0 (31)\n",
      "\n",
      "-----------> DstmDsp <-------------\n",
      "Including pileup reweighting\n",
      "Including trigger corrections\n",
      "Including muon ID corrections\n",
      "Including B0 pT corrections\n",
      "Computing total weights\n",
      "N tot selected AddTk_pm_mHad: 2261\n",
      "N tot expected AddTk_pm_mHad (before weights): 37\n",
      "N tot expected AddTk_pm_mHad (after weights): 48\n",
      "N tot selected AddTk_m_mHad: 1639\n",
      "N tot expected AddTk_m_mHad (before weights): 27\n",
      "N tot expected AddTk_m_mHad (after weights): 34\n",
      "N tot selected AddTk_p_mHad: 1784\n",
      "N tot expected AddTk_p_mHad (before weights): 29\n",
      "N tot expected AddTk_p_mHad (after weights): 38\n",
      "N tot selected AddTk_pp_mHad: 77\n",
      "N tot expected AddTk_pp_mHad (before weights): 1\n",
      "N tot expected AddTk_pp_mHad (after weights): 2\n",
      "N tot selected AddTk_mm_mHad: 64\n",
      "N tot expected AddTk_mm_mHad (before weights): 1\n",
      "N tot expected AddTk_mm_mHad (after weights): 1\n",
      "N tot selected AddTk_pm_mVis: 2261\n",
      "N tot expected AddTk_pm_mVis (before weights): 37\n",
      "N tot expected AddTk_pm_mVis (after weights): 48\n",
      "38 (1784) & 34 (1639) & 2 (77) & 48 (2261) & 1 (64)\n",
      "\n",
      "-----------> DstmD0 <-------------\n",
      "Including pileup reweighting\n",
      "Including trigger corrections\n"
     ]
    },
    {
     "name": "stdout",
     "output_type": "stream",
     "text": [
      "Including muon ID corrections\n",
      "Including B0 pT corrections\n",
      "Computing total weights\n",
      "N tot selected AddTk_pm_mHad: 3998\n",
      "N tot expected AddTk_pm_mHad (before weights): 74\n",
      "N tot expected AddTk_pm_mHad (after weights): 90\n",
      "N tot selected AddTk_m_mHad: 838\n",
      "N tot expected AddTk_m_mHad (before weights): 16\n",
      "N tot expected AddTk_m_mHad (after weights): 19\n",
      "N tot selected AddTk_p_mHad: 2038\n",
      "N tot expected AddTk_p_mHad (before weights): 38\n",
      "N tot expected AddTk_p_mHad (after weights): 46\n",
      "N tot selected AddTk_pp_mHad: 88\n",
      "N tot expected AddTk_pp_mHad (before weights): 2\n",
      "N tot expected AddTk_pp_mHad (after weights): 2\n",
      "N tot selected AddTk_mm_mHad: 22\n",
      "N tot expected AddTk_mm_mHad (before weights): 0\n",
      "N tot expected AddTk_mm_mHad (after weights): 1\n",
      "N tot selected AddTk_pm_mVis: 3998\n",
      "N tot expected AddTk_pm_mVis (before weights): 74\n",
      "N tot expected AddTk_pm_mVis (after weights): 90\n",
      "46 (2038) & 19 (838) & 2 (88) & 90 (3998) & 1 (22)\n",
      "\n",
      "-----------> DstmDp <-------------\n",
      "Including pileup reweighting\n",
      "Including trigger corrections\n",
      "Including muon ID corrections\n",
      "Including B0 pT corrections\n",
      "Computing total weights\n",
      "N tot selected AddTk_pm_mHad: 1749\n",
      "N tot expected AddTk_pm_mHad (before weights): 19\n",
      "N tot expected AddTk_pm_mHad (after weights): 24\n",
      "N tot selected AddTk_m_mHad: 735\n",
      "N tot expected AddTk_m_mHad (before weights): 8\n",
      "N tot expected AddTk_m_mHad (after weights): 10\n",
      "N tot selected AddTk_p_mHad: 911\n",
      "N tot expected AddTk_p_mHad (before weights): 10\n",
      "N tot expected AddTk_p_mHad (after weights): 13\n",
      "N tot selected AddTk_pp_mHad: 43\n",
      "N tot expected AddTk_pp_mHad (before weights): 0\n",
      "N tot expected AddTk_pp_mHad (after weights): 1\n",
      "N tot selected AddTk_mm_mHad: 19\n",
      "N tot expected AddTk_mm_mHad (before weights): 0\n",
      "N tot expected AddTk_mm_mHad (after weights): 0\n",
      "N tot selected AddTk_pm_mVis: 1749\n",
      "N tot expected AddTk_pm_mVis (before weights): 19\n",
      "N tot expected AddTk_pm_mVis (after weights): 24\n",
      "13 (911) & 10 (735) & 1 (43) & 24 (1749) & 0 (19)\n",
      "\n",
      "-----------> BpDstmHc <-------------\n",
      "Including pileup reweighting\n",
      "Including trigger corrections\n",
      "Including muon ID corrections\n",
      "Computing total weights\n",
      "N tot selected AddTk_pm_mHad: 977\n",
      "N tot expected AddTk_pm_mHad (before weights): 1\n",
      "N tot expected AddTk_pm_mHad (after weights): 2\n",
      "N tot selected AddTk_m_mHad: 196\n",
      "N tot expected AddTk_m_mHad (before weights): 0\n",
      "N tot expected AddTk_m_mHad (after weights): 0\n",
      "N tot selected AddTk_p_mHad: 4523\n",
      "N tot expected AddTk_p_mHad (before weights): 7\n",
      "N tot expected AddTk_p_mHad (after weights): 7\n",
      "N tot selected AddTk_pp_mHad: 980\n",
      "N tot expected AddTk_pp_mHad (before weights): 1\n",
      "N tot expected AddTk_pp_mHad (after weights): 2\n",
      "N tot selected AddTk_mm_mHad: 4\n",
      "N tot expected AddTk_mm_mHad (before weights): 0\n",
      "N tot expected AddTk_mm_mHad (after weights): 0\n",
      "N tot selected AddTk_pm_mVis: 977\n",
      "N tot expected AddTk_pm_mVis (before weights): 1\n",
      "N tot expected AddTk_pm_mVis (after weights): 2\n",
      "7 (4523) & 0 (196) & 2 (980) & 2 (977) & 0 (4)\n",
      "\n",
      "-----------> BmDstmHc <-------------\n",
      "Including pileup reweighting\n",
      "Including trigger corrections\n",
      "Including muon ID corrections\n",
      "Computing total weights\n",
      "N tot selected AddTk_pm_mHad: 117\n",
      "N tot expected AddTk_pm_mHad (before weights): 3\n",
      "N tot expected AddTk_pm_mHad (after weights): 4\n",
      "N tot selected AddTk_m_mHad: 1778\n",
      "N tot expected AddTk_m_mHad (before weights): 52\n",
      "N tot expected AddTk_m_mHad (after weights): 55\n",
      "N tot selected AddTk_p_mHad: 52\n",
      "N tot expected AddTk_p_mHad (before weights): 2\n",
      "N tot expected AddTk_p_mHad (after weights): 2\n",
      "N tot selected AddTk_pp_mHad: 1\n",
      "N tot expected AddTk_pp_mHad (before weights): 0\n",
      "N tot expected AddTk_pp_mHad (after weights): 0\n",
      "N tot selected AddTk_mm_mHad: 62\n",
      "N tot expected AddTk_mm_mHad (before weights): 2\n",
      "N tot expected AddTk_mm_mHad (after weights): 2\n",
      "N tot selected AddTk_pm_mVis: 117\n",
      "N tot expected AddTk_pm_mVis (before weights): 3\n",
      "N tot expected AddTk_pm_mVis (after weights): 4\n",
      "2 (52) & 55 (1778) & 0 (1) & 4 (117) & 2 (62)\n",
      "\n",
      "-----------> antiB0DstmHc <-------------\n",
      "Including pileup reweighting\n",
      "Including trigger corrections\n",
      "Including muon ID corrections\n",
      "Computing total weights\n",
      "N tot selected AddTk_pm_mHad: 582\n",
      "N tot expected AddTk_pm_mHad (before weights): 20\n",
      "N tot expected AddTk_pm_mHad (after weights): 22\n",
      "N tot selected AddTk_m_mHad: 192\n",
      "N tot expected AddTk_m_mHad (before weights): 7\n",
      "N tot expected AddTk_m_mHad (after weights): 8\n",
      "N tot selected AddTk_p_mHad: 327\n",
      "N tot expected AddTk_p_mHad (before weights): 11\n",
      "N tot expected AddTk_p_mHad (after weights): 12\n",
      "N tot selected AddTk_pp_mHad: 10\n",
      "N tot expected AddTk_pp_mHad (before weights): 0\n",
      "N tot expected AddTk_pp_mHad (after weights): 0\n",
      "N tot selected AddTk_mm_mHad: 8\n",
      "N tot expected AddTk_mm_mHad (before weights): 0\n",
      "N tot expected AddTk_mm_mHad (after weights): 1\n",
      "N tot selected AddTk_pm_mVis: 582\n",
      "N tot expected AddTk_pm_mVis (before weights): 20\n",
      "N tot expected AddTk_pm_mVis (after weights): 22\n",
      "12 (327) & 8 (192) & 0 (10) & 22 (582) & 1 (8)\n"
     ]
    }
   ],
   "source": [
    "for k in sideSelecton.keys():\n",
    "    histo[k] = {}\n",
    "\n",
    "totalCounting = {}\n",
    "for n in processOrder:\n",
    "    ds = dSetTkSide[n]\n",
    "    if n == 'data': continue\n",
    "    print '\\n----------->', n, '<-------------'\n",
    "    sMC = MCsample[n]    \n",
    "    wVar = {}\n",
    "    weights = {}\n",
    "    \n",
    "    print 'Including pileup reweighting'\n",
    "    weights['pileup'] = puReweighter.weightsPileupMC[ds['N_vtx'].astype(np.int)]\n",
    "#     weights['pileup'] = getPileupWeights(ds)\n",
    "    print 'Including trigger corrections'\n",
    "    weights['trg{}SF'.format(cat.trg)], wVar['trg{}SFUp'.format(cat.trg)], wVar['trg{}SFDown'.format(cat.trg)] = computeTrgSF(ds)\n",
    "    print 'Including muon ID corrections'\n",
    "    weights['muonIdSF'], wVar['muonIdSFUp'], wVar['muonIdSFDown'] = computeMuonIDSF(ds)\n",
    "    if n in ['mu', 'tau', 'DstmD0', 'DstmDp', 'DstmDsp','DstPi0', 'DstPipPim', 'DstPi0Pi0']: #B0 dominated final states (probably we should do something about B+ too)\n",
    "        print 'Including B0 pT corrections'\n",
    "        weights['B0pT'], wVar['B0pTUp'], wVar['B0pTDown'] = computeB0pTweights(ds)\n",
    "    # Hammer corrections to the FF\n",
    "    if n in ['mu', 'tau']:\n",
    "        print 'Including FF corrections (Hammer)'\n",
    "        weights['B2DstCLN'] = ds['wh_CLNCentral']*sMC.effCand['rate_den']/sMC.effCand['rate_Central']\n",
    "        for nPar in ['R0', 'eig1', 'eig2', 'eig3']:\n",
    "            for var in ['Up', 'Down']:\n",
    "                tag = 'CLN' + nPar + var\n",
    "                wVar['B2Dst'+tag] = ds['wh_'+tag]/sMC.effCand['rate_' + tag]\n",
    "                wVar['B2Dst'+tag] *= sMC.effCand['rate_Central']/ds['wh_CLNCentral']\n",
    "    #Dstst resonance mix\n",
    "    if n == 'DstPip':\n",
    "        _, wVar['fDststWideUp'], wVar['fDststWideDown'] = computeBrVarWeights(ds, {'MC_munuSisterPdgId': -20423}, 0.6/2.7, keepNorm=True) #Gamma 14 pdg 2020\n",
    "    #Hc mix variations\n",
    "    if n == 'DstmD0':\n",
    "        _, wVar['BrB02DstD0KpUp'], wVar['BrB02DstD0KpDown'] = computeBrVarWeights(ds, {'MC_DstSisterPdgId_heavy': 421, 'MC_DstSisterPdgId_light': 321}, 0.21/2.47) #Gamma 169 pdg 2020\n",
    "        _, wVar['BrB02DstD0KstpUp'], wVar['BrB02DstD0KstpDown'] = computeBrVarWeights(ds, {'MC_DstSisterPdgId_heavy': 421, 'MC_DstSisterPdgId_light': 323}, 0.5) # Guess\n",
    "        _, wVar['BrB02DstDst0KpUp'], wVar['BrB02DstDst0KpDown'] = computeBrVarWeights(ds, {'MC_DstSisterPdgId_heavy': 423, 'MC_DstSisterPdgId_light': 321}, 0.09/1.06) #Gamma 170 pdg 2020\n",
    "        _, wVar['BrB02DstDst0KstpUp'], wVar['BrB02DstDst0KstpDown'] = computeBrVarWeights(ds, {'MC_DstSisterPdgId_heavy': 423, 'MC_DstSisterPdgId_light': 323}, 0.5) # Guess\n",
    "        _, wVar['BrB02DstDstpK0Up'], wVar['BrB02DstDstpK0Down'] = computeBrVarWeights(ds, {'MC_DstSisterPdgId_heavy': 413, 'MC_DstSisterPdgId_light': 311}, 0.5/5.3) #Gamma 173 pdg 2020\n",
    "        _, wVar['BrB02DstDstpKst0Up'], wVar['BrB02DstDstpKst0Down'] = computeBrVarWeights(ds, {'MC_DstSisterPdgId_heavy': 413, 'MC_DstSisterPdgId_light': 313}, 0.5) # Guess\n",
    "    if n == 'DstmDp':\n",
    "        _, wVar['BrB02DstDpK0Up'], wVar['BrB02DstDpK0Down'] = computeBrVarWeights(ds, {'MC_DstSisterPdgId_heavy': 411, 'MC_DstSisterPdgId_light': 311}, 0.5/3.2) #Gamma 172 pdg 2020\n",
    "        _, wVar['BrB02DstDpKst0Up'], wVar['BrB02DstDpKst0Down'] = computeBrVarWeights(ds, {'MC_DstSisterPdgId_heavy': 411, 'MC_DstSisterPdgId_light': 313}, 0.5) # Guess\n",
    "        _, wVar['BrB02DstDstpK0Up'], wVar['BrB02DstDstpK0Down'] = computeBrVarWeights(ds, {'MC_DstSisterPdgId_heavy': 413, 'MC_DstSisterPdgId_light': 311}, 0.2/2.7) #Gamma 173 pdg 2020\n",
    "        _, wVar['BrB02DstDstpKst0Up'], wVar['BrB02DstDstpKst0Down'] = computeBrVarWeights(ds, {'MC_DstSisterPdgId_heavy': 413, 'MC_DstSisterPdgId_light': 313}, 0.5) # Guess\n",
    "    if n == 'DstmDsp':\n",
    "        _, wVar['BrB02DstDsUp'], wVar['BrB02DstDsDown'] = computeBrVarWeights(ds, {'MC_DstSisterPdgId_heavy': 431}, 1.1/8.0) #Gamma 83 pdg 2020\n",
    "        _, wVar['BrB02DstDsstUp'], wVar['BrB02DstDsstDown'] = computeBrVarWeights(ds, {'MC_DstSisterPdgId_heavy': 433}, .14/1.77) #Gamma 85 pdg 2020\n",
    "        _, wVar['BrB02DstDs0stUp'], wVar['BrB02DstDs0stDown'] = computeBrVarWeights(ds, {'MC_DstSisterPdgId_heavy': 10431}, .6/1.5) #Gamma 95 pdg 2020\n",
    "        \n",
    "    # Correct the amount of random tracks from PV\n",
    "    weights['tkPVfrac'], wVar['tkPVfracUp'], wVar['tkPVfracDown'] = computeTksPVweights(ds)\n",
    "    \n",
    "    print 'Computing total weights'\n",
    "    weightsCentral = np.ones_like(ds['q2'])\n",
    "    for w in weights.values(): \n",
    "        weightsCentral *= w\n",
    "    wVar[''] = np.ones_like(weightsCentral)\n",
    "    \n",
    "    nGenExp = sMC.effMCgen['xsec'][0] * lumi_tot# * RDoMC_normRatio[0]\n",
    "    eff = [1, 0]\n",
    "    for f, df in [sMC.effMCgen['effGEN'], \n",
    "                  decayBR[n], \n",
    "                  sMC.effCand['effCAND'], \n",
    "                  sMC.getSkimEff(cat.name+'_trkCtrl_corr'),\n",
    "                 ]:\n",
    "        eff[0] *= f\n",
    "        eff[1] += np.square(df/f)\n",
    "    eff[1] = eff[0] * np.sqrt(eff[1])\n",
    "    nTotExp = nGenExp*eff[0]\n",
    "    \n",
    "    sel = {}\n",
    "    scale = {}\n",
    "    \n",
    "    latexTableString = {}\n",
    "    for k, selFun in sideSelecton.iteritems():\n",
    "        sel[k] = selFun(ds)\n",
    "        nTotSel = float(np.sum(sel[k]))\n",
    "        print 'N tot selected {}: {:.0f}'.format(k, nTotSel)\n",
    "        nExp = nTotExp * nTotSel / sel[k].shape[0]\n",
    "        print 'N tot expected {} (before weights): {:.0f}'.format(k, nExp)\n",
    "        nAux = nTotExp * np.sum(weightsCentral[sel[k]]) / sel[k].shape[0]\n",
    "        print 'N tot expected {} (after weights): {:.0f}'.format(k, nAux)\n",
    "        latexTableString[k] = '{:.0f} ({:.0f})'.format(nAux, nTotSel)\n",
    "        if not k in totalCounting.keys():\n",
    "            totalCounting[k] = [0, 0]\n",
    "        totalCounting[k][0] += nAux\n",
    "        totalCounting[k][1] += nTotSel\n",
    "        if nTotSel ==0: \n",
    "            nTotSel+=1\n",
    "        scale[k] = nExp/nTotSel\n",
    "    s = ' & '.join([latexTableString['AddTk_'+s+'_mHad'] for s in ['p', 'm', 'pp', 'pm', 'mm']])\n",
    "    print s\n",
    "    eventCountingStr[n] += ' & ' + s + '\\\\\\\\'\n",
    "    \n",
    "            \n",
    "    for name_wVar, v_wVar in wVar.iteritems():\n",
    "        h_name = n\n",
    "        if not name_wVar == '':\n",
    "            h_name += '__' + name_wVar\n",
    "        w = weightsCentral*v_wVar\n",
    "        \n",
    "        for k in sideVar.keys():\n",
    "            histo[k][h_name] = create_TH1D(\n",
    "                                           ds[sideVar[k]][sel[k]], \n",
    "                                           name=h_name, title=h_name, \n",
    "                                           binning=binning[k],\n",
    "                                           opt='underflow',\n",
    "                                           weights=w[sel[k]], scale_histo=scale[k]\n",
    "                                          )\n",
    "            \n",
    "s = ' & '.join(['{:.0f} ({:.0f})'.format(*totalCounting['AddTk_'+s+'_mHad']) for s in ['p', 'm', 'pp', 'pm', 'mm']]) + ' \\\\\\\\'\n",
    "eventCountingStr['tot'] += ' & ' + s"
   ]
  },
  {
   "cell_type": "markdown",
   "metadata": {},
   "source": [
    "# Create (pseudo-)data histogram"
   ]
  },
  {
   "cell_type": "code",
   "execution_count": 25,
   "metadata": {
    "ExecuteTime": {
     "end_time": "2020-09-03T20:13:16.011707Z",
     "start_time": "2020-09-03T20:13:15.812591Z"
    },
    "code_folding": [
     0,
     30
    ]
   },
   "outputs": [],
   "source": [
    "if fit_real_data:\n",
    "    ds = dSet['data']\n",
    "    print 'N observed data signal region: {:.1f}k'.format(1e-3*ds['q2'].shape[0])\n",
    "    if useMVA:\n",
    "        print 'Evaluating MVA'\n",
    "        sMVA = computeVarMVA(ds)\n",
    "        histo['MVA']['data'] = create_TH1D(sMVA, name='data_obs', binning=binning['MVA'], opt='underflow,overflow')\n",
    "                \n",
    "    for i_q2 in range(len(binning['q2'])-1):\n",
    "        q2_l = binning['q2'][i_q2]\n",
    "        q2_h = binning['q2'][i_q2 + 1]\n",
    "        sel_q2 = np.logical_and(ds['q2'] > q2_l, ds['q2'] < q2_h)\n",
    "        for var in ['M2_miss', 'Est_mu']:\n",
    "            cat_name = var+'_q2bin'+str(i_q2)     \n",
    "            histo[cat_name]['data'] = create_TH1D(\n",
    "                                                  ds[var][sel_q2], \n",
    "                                                  name='data_obs', title='Data Obs',\n",
    "                                                  binning=binning[var][i_q2],\n",
    "                                                  opt='underflow,overflow'\n",
    "                                                 )\n",
    "    ds = dSetTkSide['data']\n",
    "    for k in sideVar.keys():\n",
    "        histo[k]['data'] = create_TH1D(\n",
    "                                       ds[sideVar[k]][sideSelecton[k](ds)], \n",
    "                                       name='data_obs', title='Data Obs', \n",
    "                                       binning=binning[k],\n",
    "                                       opt='underflow',\n",
    "                                      )\n",
    "    print 'N observed data control regions: ' + ' & '.join(['{:.0f}'.format(histo['AddTk_'+s+'_mHad']['data'].Integral()) for s in ['p', 'm', 'pp', 'pm', 'mm']]) + ' \\\\\\\\'\n",
    "        \n",
    "else:\n",
    "    if useMVA:\n",
    "        h = create_TH1D(np.array([0, 0]), name='data_obs', title='Data Obs', binning=binning['MVA'])\n",
    "        h.Reset()\n",
    "        for n, hMC in histo['MVA'].iteritems():\n",
    "                if not '__' in n and not n == 'data':\n",
    "                    scale = SM_RDst if 'tau' in n else 1.\n",
    "                    h.Add(hMC, scale)\n",
    "        h.Sumw2(0)\n",
    "        for i in range(1, h.GetNbinsX()+1):\n",
    "            h.SetBinContent(i, np.around(h.GetBinContent(i)))\n",
    "        h.Sumw2()\n",
    "        histo['MVA']['data'] = h\n",
    "    for i_q2 in range(len(binning['q2'])-1):\n",
    "        for var in ['M2_miss', 'Est_mu']:\n",
    "            cat_name = var+'_q2bin'+str(i_q2)\n",
    "            \n",
    "            h = create_TH1D(np.array([0, 0]), name='data_obs', title='Data Obs', binning=binning[var][i_q2])\n",
    "            h.Reset()\n",
    "            for n, hMC in histo[cat_name].iteritems():\n",
    "                if not '__' in n and not n == 'data':\n",
    "                    scale = SM_RDst if 'tau' in n else 1.\n",
    "                    h.Add(hMC, scale)\n",
    "            h.Sumw2(0)\n",
    "            for i in range(1, h.GetNbinsX()+1):\n",
    "                h.SetBinContent(i, np.around(h.GetBinContent(i)))\n",
    "            h.Sumw2()\n",
    "            histo[cat_name]['data'] = h\n",
    "            \n",
    "    for k in sideVar.keys():\n",
    "        h = create_TH1D(np.array([0, 0]), name='data_obs', title='Data Obs', \n",
    "                        binning=binning[k])\n",
    "        h.Reset()\n",
    "        for n, hMC in histo[k].iteritems():\n",
    "            if not '__' in n and not n == 'data':\n",
    "                scale = SM_RDst if 'tau' in n else 1.\n",
    "                h.Add(hMC, scale)\n",
    "        h.Sumw2(0)\n",
    "        for i in range(1, h.GetNbinsX()+1):\n",
    "            h.SetBinContent(i, np.around(h.GetBinContent(i)))\n",
    "        h.Sumw2()\n",
    "        histo[k]['data'] = h"
   ]
  },
  {
   "cell_type": "code",
   "execution_count": 26,
   "metadata": {
    "ExecuteTime": {
     "end_time": "2020-09-03T20:13:17.599290Z",
     "start_time": "2020-09-03T20:13:16.016478Z"
    },
    "scrolled": true
   },
   "outputs": [
    {
     "data": {
      "image/png": "[encoded data removed]",
      "text/plain": [
       "<IPython.core.display.Image object>"
      ]
     },
     "metadata": {},
     "output_type": "display_data"
    }
   ],
   "source": [
    "CMS_lumi.integrated_lumi = lumi_tot\n",
    "scale_dic = {'tau': SM_RDst}\n",
    "\n",
    "cSigPre = plot_gridVarQ2(CMS_lumi, binning, histo, scale_dic=scale_dic, min_y=0, logy=False)"
   ]
  },
  {
   "cell_type": "code",
   "execution_count": 27,
   "metadata": {
    "ExecuteTime": {
     "end_time": "2020-09-03T20:13:17.680473Z",
     "start_time": "2020-09-03T20:13:17.604285Z"
    }
   },
   "outputs": [
    {
     "data": {
      "image/png": "[encoded data removed]",
      "text/plain": [
       "<IPython.core.display.Image object>"
      ]
     },
     "metadata": {},
     "output_type": "display_data"
    }
   ],
   "source": [
    "if useMVA:\n",
    "    histo['MVA']['data'].GetXaxis().SetTitle('MVA score')\n",
    "    cMVAPre = plot_SingleCategory(CMS_lumi, histo['MVA'], scale_dic=scale_dic,\n",
    "                                  addText='', logy=True, legBkg=True,\n",
    "                                  procOrder = ['tau', 'DstD', 'Dstst', 'mu'],\n",
    "                                  min_y=1, tag='MVA', legLoc=[0.25, 0.4, 0.5, 0.7])"
   ]
  },
  {
   "cell_type": "code",
   "execution_count": 28,
   "metadata": {
    "ExecuteTime": {
     "end_time": "2020-09-03T20:13:18.070770Z",
     "start_time": "2020-09-03T20:13:17.685241Z"
    },
    "scrolled": true
   },
   "outputs": [
    {
     "data": {
      "image/png": "[encoded data removed]",
      "text/plain": [
       "<IPython.core.display.Image object>"
      ]
     },
     "metadata": {},
     "output_type": "display_data"
    },
    {
     "data": {
      "image/png": "[encoded data removed]",
      "text/plain": [
       "<IPython.core.display.Image object>"
      ]
     },
     "metadata": {},
     "output_type": "display_data"
    },
    {
     "data": {
      "image/png": "[encoded data removed]",
      "text/plain": [
       "<IPython.core.display.Image object>"
      ]
     },
     "metadata": {},
     "output_type": "display_data"
    },
    {
     "data": {
      "image/png": "[encoded data removed]",
      "text/plain": [
       "<IPython.core.display.Image object>"
      ]
     },
     "metadata": {},
     "output_type": "display_data"
    },
    {
     "data": {
      "image/png": "[encoded data removed]",
      "text/plain": [
       "<IPython.core.display.Image object>"
      ]
     },
     "metadata": {},
     "output_type": "display_data"
    },
    {
     "data": {
      "image/png": "[encoded data removed]",
      "text/plain": [
       "<IPython.core.display.Image object>"
      ]
     },
     "metadata": {},
     "output_type": "display_data"
    }
   ],
   "source": [
    "cSidePre = {}\n",
    "for k in np.sort(sideVar.keys()):\n",
    "    legLoc = [0.65, 0.4, 0.9, 0.7]\n",
    "    if 'MassVis' in sideVar[k]:\n",
    "        legLoc = [0.15, 0.45, 0.35, 0.75]\n",
    "    cSidePre[k] = plot_SingleCategory(CMS_lumi, histo[k], scale_dic=scale_dic,\n",
    "                                      xtitle=sideXtitle[k], addText=sideAddtext[k], \n",
    "                                      min_y=0, tag=k, legLoc=legLoc)"
   ]
  },
  {
   "cell_type": "code",
   "execution_count": 29,
   "metadata": {
    "ExecuteTime": {
     "end_time": "2020-09-03T20:13:19.407833Z",
     "start_time": "2020-09-03T20:13:18.075428Z"
    }
   },
   "outputs": [],
   "source": [
    "histo_file_dir = '/storage/user/ocerri/BPhysics/data/_root/histos4combine/'\n",
    "if not os.path.isdir(histo_file_dir):\n",
    "    os.makedirs(histo_file_dir)\n",
    "histo_file_loc = {}\n",
    "for cat_name, h_dic in histo.iteritems():\n",
    "    histo_file_loc[cat_name] = histo_file_dir+'{}_{}.root'.format(card_name, cat_name)\n",
    "    tf = rt.TFile(histo_file_loc[cat_name], 'recreate')\n",
    "    for v in h_dic.values():\n",
    "        v.Write()\n",
    "    tf.Close()\n",
    "    \n",
    "del dSet, dSetTkSide"
   ]
  },
  {
   "cell_type": "markdown",
   "metadata": {},
   "source": [
    "# Write the card"
   ]
  },
  {
   "cell_type": "code",
   "execution_count": 30,
   "metadata": {
    "ExecuteTime": {
     "end_time": "2020-09-03T20:13:19.477522Z",
     "start_time": "2020-09-03T20:13:19.412534Z"
    }
   },
   "outputs": [],
   "source": [
    "sig_processes = ['tau', 'mu']\n",
    "bkg_processes = ['DstmD0', 'DstmDp', 'DstmDsp', \n",
    "                 'BpDstmHc', 'BmDstmHc', 'antiB0DstmHc',\n",
    "                 'DstPip', 'DstPipPi0', \n",
    "                 'DstPi0', 'DstPipPim', 'DstPi0Pi0']\n",
    "processes = sig_processes + bkg_processes\n",
    "nProc = len(processes)\n",
    "categories = np.sort([k for k in histo.keys()])\n",
    "nCat = len(categories)"
   ]
  },
  {
   "cell_type": "code",
   "execution_count": 31,
   "metadata": {
    "ExecuteTime": {
     "end_time": "2020-09-03T20:13:19.538978Z",
     "start_time": "2020-09-03T20:13:19.482070Z"
    }
   },
   "outputs": [],
   "source": [
    "# number of different categories\n",
    "card = 'imax *\\n'\n",
    "# number of processes minus one\n",
    "card += 'jmax {}\\n'.format(len(processes)-1)\n",
    "# number of nuissance parameters\n",
    "card += 'kmax *\\n'\n",
    "card += 60*'-'+'\\n'"
   ]
  },
  {
   "cell_type": "code",
   "execution_count": 32,
   "metadata": {
    "ExecuteTime": {
     "end_time": "2020-09-03T20:13:19.620272Z",
     "start_time": "2020-09-03T20:13:19.543415Z"
    }
   },
   "outputs": [],
   "source": [
    "# shape file location\n",
    "for k in categories:\n",
    "    card += 'shapes * {} {} $PROCESS $PROCESS__$SYSTEMATIC\\n'.format(k, histo_file_loc[k])\n",
    "card += 60*'-'+'\\n'"
   ]
  },
  {
   "cell_type": "markdown",
   "metadata": {
    "heading_collapsed": true
   },
   "source": [
    "### Number of events"
   ]
  },
  {
   "cell_type": "code",
   "execution_count": 33,
   "metadata": {
    "ExecuteTime": {
     "end_time": "2020-09-03T20:13:19.761387Z",
     "start_time": "2020-09-03T20:13:19.625090Z"
    },
    "hidden": true
   },
   "outputs": [],
   "source": [
    "# number of events observed\n",
    "card += 'bin ' + ' '.join(categories) + '\\n'\n",
    "obs = map(lambda k: '{:.0f}'.format(histo[k]['data'].Integral()), categories)\n",
    "obs = ' '.join(obs)\n",
    "card += 'observation ' + obs + '\\n'\n",
    "card += 60*'-'+'\\n'"
   ]
  },
  {
   "cell_type": "code",
   "execution_count": 34,
   "metadata": {
    "ExecuteTime": {
     "end_time": "2020-09-03T20:13:19.881833Z",
     "start_time": "2020-09-03T20:13:19.765857Z"
    },
    "hidden": true
   },
   "outputs": [],
   "source": [
    "# MC expected events\n",
    "aux_bin = ''\n",
    "aux_proc_name = ''\n",
    "aux_proc_id = ''\n",
    "aux_proc_rate = ''\n",
    "for c, p in itertools.product(categories, processes):\n",
    "    aux_bin += ' '+c\n",
    "    aux_proc_name += ' '+p\n",
    "    aux_proc_id += ' '+str(np.argmax(np.array(processes) == p))\n",
    "    aux_proc_rate += ' {:.2f}'.format(histo[c][p].Integral())\n",
    "    \n",
    "card += 'bin' + aux_bin + '\\n'\n",
    "card += 'process' + aux_proc_name + '\\n'\n",
    "# Zero or negative for sig and positive for bkg\n",
    "card += 'process' + aux_proc_id + '\\n'\n",
    "# Expected rate\n",
    "card += 'rate' + aux_proc_rate + '\\n'\n",
    "card += 60*'-'+'\\n'"
   ]
  },
  {
   "cell_type": "markdown",
   "metadata": {
    "heading_collapsed": true
   },
   "source": [
    "## Systematic uncertainties"
   ]
  },
  {
   "cell_type": "markdown",
   "metadata": {
    "hidden": true
   },
   "source": [
    "### Scale systematics"
   ]
  },
  {
   "cell_type": "code",
   "execution_count": 35,
   "metadata": {
    "ExecuteTime": {
     "end_time": "2020-09-03T20:13:19.961207Z",
     "start_time": "2020-09-03T20:13:19.886251Z"
    },
    "hidden": true
   },
   "outputs": [],
   "source": [
    "#pp -> bb cros-section * luminosity\n",
    "card += 'xsecpp2bbXlumi lnN' + ' 1.5'*nProc*nCat + '\\n'"
   ]
  },
  {
   "cell_type": "code",
   "execution_count": 36,
   "metadata": {
    "ExecuteTime": {
     "end_time": "2020-09-03T20:13:20.074446Z",
     "start_time": "2020-09-03T20:13:19.964566Z"
    },
    "hidden": true
   },
   "outputs": [],
   "source": [
    "#Hadronization fraction of B0\n",
    "aux = ''\n",
    "for n in processes:\n",
    "    if n in ['tau', 'mu', 'DstmD0', 'DstmDp', 'DstmDsp', 'DstPi0', 'DstPipPim', 'DstPi0Pi0', 'antiB0DstmHc']: \n",
    "        aux += ' 1.3'\n",
    "    else: aux += ' -'\n",
    "card += 'b2B0Had lnN' + aux*nCat + '\\n'"
   ]
  },
  {
   "cell_type": "code",
   "execution_count": 37,
   "metadata": {
    "ExecuteTime": {
     "end_time": "2020-09-03T20:13:20.197669Z",
     "start_time": "2020-09-03T20:13:20.079868Z"
    },
    "hidden": true
   },
   "outputs": [],
   "source": [
    "#Hadronization fraction of B+\n",
    "aux = ''\n",
    "for n in processes:\n",
    "    if n in ['DstPip', 'DstPipPi0', 'BpDstmHc', 'BmDstmHc']: aux += ' 1.3'\n",
    "    else: aux += ' -'\n",
    "card += 'b2BpHad lnN' + aux*nCat + '\\n'"
   ]
  },
  {
   "cell_type": "code",
   "execution_count": 38,
   "metadata": {
    "ExecuteTime": {
     "end_time": "2020-09-03T20:13:20.267963Z",
     "start_time": "2020-09-03T20:13:20.202246Z"
    },
    "hidden": true
   },
   "outputs": [],
   "source": [
    "# Branching ratio uncertainty\n",
    "for n in processes:\n",
    "    if n in ['tau', 'DstPip', 'DstPi0', 'DstPipPim', 'DstPipPi0', 'DstPi0Pi0']: continue\n",
    "#     if n in ['tau', 'DstPip', 'DstPi0', 'DstPipPim', 'DstPipPi0', 'DstPi0Pi0', 'BmDstmHc']: continue\n",
    "    val = ' {:.2f}'.format(1+decayBR[n][1]/decayBR[n][0])\n",
    "    aux = ''\n",
    "    for nn in processes:\n",
    "        if nn == n: aux += val\n",
    "        else: aux += ' -'\n",
    "    card += n + 'Br lnN' + aux*nCat + '\\n'"
   ]
  },
  {
   "cell_type": "code",
   "execution_count": 39,
   "metadata": {
    "ExecuteTime": {
     "end_time": "2020-09-03T20:13:20.385123Z",
     "start_time": "2020-09-03T20:13:20.274164Z"
    },
    "hidden": true
   },
   "outputs": [],
   "source": [
    "# Branching ration uncertainty with isospin symmetry constraint\n",
    "val = ' {:.2f}'.format(1+decayBR['DstPip'][1]/decayBR['DstPip'][0]) #DstPi0 has no info\n",
    "aux = ''\n",
    "for n in processes:\n",
    "    if n in ['DstPip', 'DstPi0']: aux += val\n",
    "    else: aux += ' -'\n",
    "card += 'DstPiBr lnN' + aux*nCat + '\\n'\n",
    "\n",
    "val = ' {:.2f}'.format(1+decayBR['DstPipPim'][1]/decayBR['DstPipPim'][0]) #DstPipPim is the only one meaasured\n",
    "aux = ''\n",
    "for n in processes:\n",
    "    if n in ['DstPipPim', 'DstPipPi0', 'DstPi0Pi0']: aux += val\n",
    "    else: aux += ' -'\n",
    "card += 'DstPiPiBr lnN' + aux*nCat + '\\n'"
   ]
  },
  {
   "cell_type": "code",
   "execution_count": 40,
   "metadata": {
    "ExecuteTime": {
     "end_time": "2020-09-03T20:13:20.468230Z",
     "start_time": "2020-09-03T20:13:20.390880Z"
    },
    "hidden": true
   },
   "outputs": [],
   "source": [
    "card += 60*'-'+'\\n'"
   ]
  },
  {
   "cell_type": "markdown",
   "metadata": {
    "hidden": true
   },
   "source": [
    "### Shape Systematics"
   ]
  },
  {
   "cell_type": "code",
   "execution_count": 41,
   "metadata": {
    "ExecuteTime": {
     "end_time": "2020-09-03T20:13:20.541433Z",
     "start_time": "2020-09-03T20:13:20.475276Z"
    },
    "hidden": true
   },
   "outputs": [],
   "source": [
    "card += 'trg{}SF shape'.format(cat.trg) + ' 1.'*nProc*nCat + '\\n'"
   ]
  },
  {
   "cell_type": "code",
   "execution_count": 42,
   "metadata": {
    "ExecuteTime": {
     "end_time": "2020-09-03T20:13:20.593748Z",
     "start_time": "2020-09-03T20:13:20.548466Z"
    },
    "hidden": true
   },
   "outputs": [],
   "source": [
    "card += 'muonIdSF shape' + ' 1.'*nProc*nCat + '\\n'"
   ]
  },
  {
   "cell_type": "code",
   "execution_count": 43,
   "metadata": {
    "ExecuteTime": {
     "end_time": "2020-09-03T20:13:20.699844Z",
     "start_time": "2020-09-03T20:13:20.599357Z"
    },
    "hidden": true
   },
   "outputs": [],
   "source": [
    "aux = ''\n",
    "for cat in categories:\n",
    "    if cat.startswith('AddTk_'):\n",
    "        aux += ' 1.'*nProc\n",
    "    else: aux += ' -'*nProc\n",
    "card += 'tkPVfrac shape' + aux + '\\n'"
   ]
  },
  {
   "cell_type": "code",
   "execution_count": 44,
   "metadata": {
    "ExecuteTime": {
     "end_time": "2020-09-03T20:13:20.832706Z",
     "start_time": "2020-09-03T20:13:20.706076Z"
    },
    "hidden": true
   },
   "outputs": [],
   "source": [
    "# B0 pT spectrum\n",
    "aux = ''\n",
    "for p in processes:\n",
    "    if p in ['tau', 'mu', 'DstmD0', 'DstmDp', 'DstmDsp', 'DstPi0', 'DstPipPim', 'DstPi0Pi0']:\n",
    "        aux += ' 1.'\n",
    "    else:\n",
    "        aux += ' -'\n",
    "card += 'B0pT shape' + aux*nCat + '\\n'"
   ]
  },
  {
   "cell_type": "code",
   "execution_count": 45,
   "metadata": {
    "ExecuteTime": {
     "end_time": "2020-09-03T20:13:20.987632Z",
     "start_time": "2020-09-03T20:13:20.840011Z"
    },
    "hidden": true
   },
   "outputs": [],
   "source": [
    "# Form Factors from Hammer\n",
    "for n_pFF in ['R0', 'eig1', 'eig2', 'eig3']:\n",
    "    aux = ''\n",
    "    for p in processes:\n",
    "        if p in ['tau', 'mu']:\n",
    "            aux += ' 1.'\n",
    "        else:\n",
    "            aux += ' -'\n",
    "    card += 'B2DstCLN{} shape'.format(n_pFF) + aux*nCat + '\\n'"
   ]
  },
  {
   "cell_type": "code",
   "execution_count": 46,
   "metadata": {
    "ExecuteTime": {
     "end_time": "2020-09-03T20:13:21.040159Z",
     "start_time": "2020-09-03T20:13:20.994799Z"
    },
    "hidden": true
   },
   "outputs": [],
   "source": [
    "# Dstst mix composition\n",
    "aux = ''\n",
    "for p in processes:\n",
    "    if p == 'DstPip': aux += ' 1.'\n",
    "    else: aux += ' -'\n",
    "card += 'fDststWide shape' + aux*nCat + '\\n'"
   ]
  },
  {
   "cell_type": "code",
   "execution_count": 47,
   "metadata": {
    "ExecuteTime": {
     "end_time": "2020-09-03T20:13:21.174076Z",
     "start_time": "2020-09-03T20:13:21.045906Z"
    },
    "hidden": true
   },
   "outputs": [],
   "source": [
    "# Hc mix composition\n",
    "aux = ''\n",
    "for p in processes:\n",
    "    if p == 'DstmD0': aux += ' 1.'\n",
    "    else: aux += ' -'\n",
    "card += 'BrB02DstD0Kp shape' + aux*nCat + '\\n'\n",
    "card += 'BrB02DstD0Kstp shape' + aux*nCat + '\\n'\n",
    "card += 'BrB02DstDst0Kp shape' + aux*nCat + '\\n'\n",
    "card += 'BrB02DstDst0Kstp shape' + aux*nCat + '\\n'\n",
    "\n",
    "aux = ''\n",
    "for p in processes:\n",
    "    if p == 'DstmDp': aux += ' 1.'\n",
    "    else: aux += ' -'\n",
    "card += 'BrB02DstDpK0 shape' + aux*nCat + '\\n'\n",
    "card += 'BrB02DstDpKst0 shape' + aux*nCat + '\\n'\n",
    "\n",
    "aux = ''\n",
    "for p in processes:\n",
    "    if p == 'DstmDp' or p == 'DstmD0': aux += ' 1.'\n",
    "    else: aux += ' -'\n",
    "card += 'BrB02DstDstpK0 shape' + aux*nCat + '\\n'\n",
    "card += 'BrB02DstDstpKst0 shape' + aux*nCat + '\\n'\n",
    "\n",
    "aux = ''\n",
    "for p in processes:\n",
    "    if p == 'DstmDsp': aux += ' 1.'\n",
    "    else: aux += ' -'\n",
    "card += 'BrB02DstDs shape' + aux*nCat + '\\n'\n",
    "card += 'BrB02DstDsst shape' + aux*nCat + '\\n'\n",
    "card += 'BrB02DstDs0st shape' + aux*nCat + '\\n'"
   ]
  },
  {
   "cell_type": "markdown",
   "metadata": {
    "hidden": true
   },
   "source": [
    "### MC statistic systematics"
   ]
  },
  {
   "cell_type": "code",
   "execution_count": 48,
   "metadata": {
    "ExecuteTime": {
     "end_time": "2020-09-03T20:13:21.284485Z",
     "start_time": "2020-09-03T20:13:21.178465Z"
    },
    "hidden": true
   },
   "outputs": [],
   "source": [
    "card += '* autoMCStats 5 1 1\\n'\n",
    "card += 60*'-'+'\\n'"
   ]
  },
  {
   "cell_type": "markdown",
   "metadata": {
    "hidden": true
   },
   "source": [
    "### Defining groups of systematics"
   ]
  },
  {
   "cell_type": "code",
   "execution_count": 49,
   "metadata": {
    "ExecuteTime": {
     "end_time": "2020-09-03T20:13:21.488344Z",
     "start_time": "2020-09-03T20:13:21.291055Z"
    },
    "hidden": true
   },
   "outputs": [],
   "source": [
    "# autoMCStats group = defined by default when using autoMCStats\n",
    "aux_FF = ' '.join(['B2DstCLN'+n for n in ['R0', 'eig1', 'eig2', 'eig3']])\n",
    "card += 'B2DstFF group = ' + aux_FF + '\\n'"
   ]
  },
  {
   "cell_type": "code",
   "execution_count": 50,
   "metadata": {
    "ExecuteTime": {
     "end_time": "2020-09-03T20:13:21.564856Z",
     "start_time": "2020-09-03T20:13:21.495676Z"
    },
    "hidden": true
   },
   "outputs": [],
   "source": [
    "cardParts = card.split(60*'-'+'\\n')\n",
    "\n",
    "scaleNuis = []\n",
    "for ln in cardParts[4].split('\\n'):\n",
    "    scaleNuis.append(ln.split(' ')[0])\n",
    "    \n",
    "shapeNuis = []\n",
    "for ln in cardParts[5].split('\\n'):\n",
    "    if ln.startswith('* autoMCStats'):\n",
    "        continue\n",
    "    shapeNuis.append(ln.split(' ')[0])\n",
    "\n",
    "card += 'allSys group = ' + ' '.join(scaleNuis+shapeNuis) + '\\n'"
   ]
  },
  {
   "cell_type": "markdown",
   "metadata": {
    "heading_collapsed": true
   },
   "source": [
    "## Create output"
   ]
  },
  {
   "cell_type": "code",
   "execution_count": 51,
   "metadata": {
    "ExecuteTime": {
     "end_time": "2020-09-03T20:13:21.683183Z",
     "start_time": "2020-09-03T20:13:21.572624Z"
    },
    "hidden": true,
    "hide_input": false,
    "scrolled": true
   },
   "outputs": [
    {
     "name": "stdout",
     "output_type": "stream",
     "text": [
      "imax *\n",
      "jmax 12\n",
      "kmax *\n",
      "------------------------------------------------------------\n",
      "shapes * AddTk_m_mHad /storage/user/ocerri/BPhysics/data/_root/histos4combine/v10_testBins003Asimov_low_AddTk_m_mHad.root $PROCESS $PROCESS__$SYSTEMATIC\n",
      "shapes * AddTk_mm_mHad /storage/user/ocerri/BPhysics/data/_root/histos4combine/v10_testBins003Asimov_low_AddTk_mm_mHad.root $PROCESS $PROCESS__$SYSTEMATIC\n",
      "shapes * AddTk_p_mHad /storage/user/ocerri/BPhysics/data/_root/histos4combine/v10_testBins003Asimov_low_AddTk_p_mHad.root $PROCESS $PROCESS__$SYSTEMATIC\n",
      "shapes * AddTk_pm_mHad /storage/user/ocerri/BPhysics/data/_root/histos4combine/v10_testBins003Asimov_low_AddTk_pm_mHad.root $PROCESS $PROCESS__$SYSTEMATIC\n",
      "shapes * AddTk_pm_mVis /storage/user/ocerri/BPhysics/data/_root/histos4combine/v10_testBins003Asimov_low_AddTk_pm_mVis.root $PROCESS $PROCESS__$SYSTEMATIC\n",
      "shapes * AddTk_pp_mHad /storage/user/ocerri/BPhysics/data/_root/histos4combine/v10_testBins003Asimov_low_AddTk_pp_mHad.root $PROCESS $PROCESS__$SYSTEMATIC\n",
      "shapes * Est_mu_q2bin0 /storage/user/ocerri/BPhysics/data/_root/histos4combine/v10_testBins003Asimov_low_Est_mu_q2bin0.root $PROCESS $PROCESS__$SYSTEMATIC\n",
      "shapes * Est_mu_q2bin1 /storage/user/ocerri/BPhysics/data/_root/histos4combine/v10_testBins003Asimov_low_Est_mu_q2bin1.root $PROCESS $PROCESS__$SYSTEMATIC\n",
      "shapes * Est_mu_q2bin2 /storage/user/ocerri/BPhysics/data/_root/histos4combine/v10_testBins003Asimov_low_Est_mu_q2bin2.root $PROCESS $PROCESS__$SYSTEMATIC\n",
      "shapes * Est_mu_q2bin3 /storage/user/ocerri/BPhysics/data/_root/histos4combine/v10_testBins003Asimov_low_Est_mu_q2bin3.root $PROCESS $PROCESS__$SYSTEMATIC\n",
      "shapes * M2_miss_q2bin0 /storage/user/ocerri/BPhysics/data/_root/histos4combine/v10_testBins003Asimov_low_M2_miss_q2bin0.root $PROCESS $PROCESS__$SYSTEMATIC\n",
      "shapes * M2_miss_q2bin1 /storage/user/ocerri/BPhysics/data/_root/histos4combine/v10_testBins003Asimov_low_M2_miss_q2bin1.root $PROCESS $PROCESS__$SYSTEMATIC\n",
      "shapes * M2_miss_q2bin2 /storage/user/ocerri/BPhysics/data/_root/histos4combine/v10_testBins003Asimov_low_M2_miss_q2bin2.root $PROCESS $PROCESS__$SYSTEMATIC\n",
      "shapes * M2_miss_q2bin3 /storage/user/ocerri/BPhysics/data/_root/histos4combine/v10_testBins003Asimov_low_M2_miss_q2bin3.root $PROCESS $PROCESS__$SYSTEMATIC\n",
      "shapes * MVA /storage/user/ocerri/BPhysics/data/_root/histos4combine/v10_testBins003Asimov_low_MVA.root $PROCESS $PROCESS__$SYSTEMATIC\n",
      "------------------------------------------------------------\n",
      "bin AddTk_m_mHad AddTk_mm_mHad AddTk_p_mHad AddTk_pm_mHad AddTk_pm_mVis AddTk_pp_mHad Est_mu_q2bin0 Est_mu_q2bin1 Est_mu_q2bin2 Est_mu_q2bin3 M2_miss_q2bin0 M2_miss_q2bin1 M2_miss_q2bin2 M2_miss_q2bin3 MVA\n",
      "observation 3004 123 6217 1099 1111 274 10625 21715 18443 2543 10626 21716 18442 2545 53326\n",
      "------------------------------------------------------------\n",
      "bin AddTk_m_mHad AddTk_m_mHad AddTk_m_mHad AddTk_m_mHad AddTk_m_mHad AddTk_m_mHad AddTk_m_mHad AddTk_m_mHad AddTk_m_mHad AddTk_m_mHad AddTk_m_mHad AddTk_m_mHad AddTk_m_mHad AddTk_mm_mHad AddTk_mm_mHad AddTk_mm_mHad AddTk_mm_mHad AddTk_mm_mHad AddTk_mm_mHad AddTk_mm_mHad AddTk_mm_mHad AddTk_mm_mHad AddTk_mm_mHad AddTk_mm_mHad AddTk_mm_mHad AddTk_mm_mHad AddTk_p_mHad AddTk_p_mHad AddTk_p_mHad AddTk_p_mHad AddTk_p_mHad AddTk_p_mHad AddTk_p_mHad AddTk_p_mHad AddTk_p_mHad AddTk_p_mHad AddTk_p_mHad AddTk_p_mHad AddTk_p_mHad AddTk_pm_mHad AddTk_pm_mHad AddTk_pm_mHad AddTk_pm_mHad AddTk_pm_mHad AddTk_pm_mHad AddTk_pm_mHad AddTk_pm_mHad AddTk_pm_mHad AddTk_pm_mHad AddTk_pm_mHad AddTk_pm_mHad AddTk_pm_mHad AddTk_pm_mVis AddTk_pm_mVis AddTk_pm_mVis AddTk_pm_mVis AddTk_pm_mVis AddTk_pm_mVis AddTk_pm_mVis AddTk_pm_mVis AddTk_pm_mVis AddTk_pm_mVis AddTk_pm_mVis AddTk_pm_mVis AddTk_pm_mVis AddTk_pp_mHad AddTk_pp_mHad AddTk_pp_mHad AddTk_pp_mHad AddTk_pp_mHad AddTk_pp_mHad AddTk_pp_mHad AddTk_pp_mHad AddTk_pp_mHad AddTk_pp_mHad AddTk_pp_mHad AddTk_pp_mHad AddTk_pp_mHad Est_mu_q2bin0 Est_mu_q2bin0 Est_mu_q2bin0 Est_mu_q2bin0 Est_mu_q2bin0 Est_mu_q2bin0 Est_mu_q2bin0 Est_mu_q2bin0 Est_mu_q2bin0 Est_mu_q2bin0 Est_mu_q2bin0 Est_mu_q2bin0 Est_mu_q2bin0 Est_mu_q2bin1 Est_mu_q2bin1 Est_mu_q2bin1 Est_mu_q2bin1 Est_mu_q2bin1 Est_mu_q2bin1 Est_mu_q2bin1 Est_mu_q2bin1 Est_mu_q2bin1 Est_mu_q2bin1 Est_mu_q2bin1 Est_mu_q2bin1 Est_mu_q2bin1 Est_mu_q2bin2 Est_mu_q2bin2 Est_mu_q2bin2 Est_mu_q2bin2 Est_mu_q2bin2 Est_mu_q2bin2 Est_mu_q2bin2 Est_mu_q2bin2 Est_mu_q2bin2 Est_mu_q2bin2 Est_mu_q2bin2 Est_mu_q2bin2 Est_mu_q2bin2 Est_mu_q2bin3 Est_mu_q2bin3 Est_mu_q2bin3 Est_mu_q2bin3 Est_mu_q2bin3 Est_mu_q2bin3 Est_mu_q2bin3 Est_mu_q2bin3 Est_mu_q2bin3 Est_mu_q2bin3 Est_mu_q2bin3 Est_mu_q2bin3 Est_mu_q2bin3 M2_miss_q2bin0 M2_miss_q2bin0 M2_miss_q2bin0 M2_miss_q2bin0 M2_miss_q2bin0 M2_miss_q2bin0 M2_miss_q2bin0 M2_miss_q2bin0 M2_miss_q2bin0 M2_miss_q2bin0 M2_miss_q2bin0 M2_miss_q2bin0 M2_miss_q2bin0 M2_miss_q2bin1 M2_miss_q2bin1 M2_miss_q2bin1 M2_miss_q2bin1 M2_miss_q2bin1 M2_miss_q2bin1 M2_miss_q2bin1 M2_miss_q2bin1 M2_miss_q2bin1 M2_miss_q2bin1 M2_miss_q2bin1 M2_miss_q2bin1 M2_miss_q2bin1 M2_miss_q2bin2 M2_miss_q2bin2 M2_miss_q2bin2 M2_miss_q2bin2 M2_miss_q2bin2 M2_miss_q2bin2 M2_miss_q2bin2 M2_miss_q2bin2 M2_miss_q2bin2 M2_miss_q2bin2 M2_miss_q2bin2 M2_miss_q2bin2 M2_miss_q2bin2 M2_miss_q2bin3 M2_miss_q2bin3 M2_miss_q2bin3 M2_miss_q2bin3 M2_miss_q2bin3 M2_miss_q2bin3 M2_miss_q2bin3 M2_miss_q2bin3 M2_miss_q2bin3 M2_miss_q2bin3 M2_miss_q2bin3 M2_miss_q2bin3 M2_miss_q2bin3 MVA MVA MVA MVA MVA MVA MVA MVA MVA MVA MVA MVA MVA\n",
      "process tau mu DstmD0 DstmDp DstmDsp BpDstmHc BmDstmHc antiB0DstmHc DstPip DstPipPi0 DstPi0 DstPipPim DstPi0Pi0 tau mu DstmD0 DstmDp DstmDsp BpDstmHc BmDstmHc antiB0DstmHc DstPip DstPipPi0 DstPi0 DstPipPim DstPi0Pi0 tau mu DstmD0 DstmDp DstmDsp BpDstmHc BmDstmHc antiB0DstmHc DstPip DstPipPi0 DstPi0 DstPipPim DstPi0Pi0 tau mu DstmD0 DstmDp DstmDsp BpDstmHc BmDstmHc antiB0DstmHc DstPip DstPipPi0 DstPi0 DstPipPim DstPi0Pi0 tau mu DstmD0 DstmDp DstmDsp BpDstmHc BmDstmHc antiB0DstmHc DstPip DstPipPi0 DstPi0 DstPipPim DstPi0Pi0 tau mu DstmD0 DstmDp DstmDsp BpDstmHc BmDstmHc antiB0DstmHc DstPip DstPipPi0 DstPi0 DstPipPim DstPi0Pi0 tau mu DstmD0 DstmDp DstmDsp BpDstmHc BmDstmHc antiB0DstmHc DstPip DstPipPi0 DstPi0 DstPipPim DstPi0Pi0 tau mu DstmD0 DstmDp DstmDsp BpDstmHc BmDstmHc antiB0DstmHc DstPip DstPipPi0 DstPi0 DstPipPim DstPi0Pi0 tau mu DstmD0 DstmDp DstmDsp BpDstmHc BmDstmHc antiB0DstmHc DstPip DstPipPi0 DstPi0 DstPipPim DstPi0Pi0 tau mu DstmD0 DstmDp DstmDsp BpDstmHc BmDstmHc antiB0DstmHc DstPip DstPipPi0 DstPi0 DstPipPim DstPi0Pi0 tau mu DstmD0 DstmDp DstmDsp BpDstmHc BmDstmHc antiB0DstmHc DstPip DstPipPi0 DstPi0 DstPipPim DstPi0Pi0 tau mu DstmD0 DstmDp DstmDsp BpDstmHc BmDstmHc antiB0DstmHc DstPip DstPipPi0 DstPi0 DstPipPim DstPi0Pi0 tau mu DstmD0 DstmDp DstmDsp BpDstmHc BmDstmHc antiB0DstmHc DstPip DstPipPi0 DstPi0 DstPipPim DstPi0Pi0 tau mu DstmD0 DstmDp DstmDsp BpDstmHc BmDstmHc antiB0DstmHc DstPip DstPipPi0 DstPi0 DstPipPim DstPi0Pi0 tau mu DstmD0 DstmDp DstmDsp BpDstmHc BmDstmHc antiB0DstmHc DstPip DstPipPi0 DstPi0 DstPipPim DstPi0Pi0\n",
      "process 0 1 2 3 4 5 6 7 8 9 10 11 12 0 1 2 3 4 5 6 7 8 9 10 11 12 0 1 2 3 4 5 6 7 8 9 10 11 12 0 1 2 3 4 5 6 7 8 9 10 11 12 0 1 2 3 4 5 6 7 8 9 10 11 12 0 1 2 3 4 5 6 7 8 9 10 11 12 0 1 2 3 4 5 6 7 8 9 10 11 12 0 1 2 3 4 5 6 7 8 9 10 11 12 0 1 2 3 4 5 6 7 8 9 10 11 12 0 1 2 3 4 5 6 7 8 9 10 11 12 0 1 2 3 4 5 6 7 8 9 10 11 12 0 1 2 3 4 5 6 7 8 9 10 11 12 0 1 2 3 4 5 6 7 8 9 10 11 12 0 1 2 3 4 5 6 7 8 9 10 11 12 0 1 2 3 4 5 6 7 8 9 10 11 12\n",
      "rate 102.42 2445.87 18.76 10.04 33.47 0.30 54.15 7.81 107.27 10.65 113.53 157.09 10.81 4.00 102.44 0.62 0.25 1.34 0.01 2.09 0.73 4.28 0.12 5.61 4.65 0.35 119.61 2800.57 40.71 12.42 33.79 5.25 1.69 11.78 2652.82 305.58 121.71 177.66 11.33 14.64 351.25 85.79 24.27 43.49 1.71 4.40 21.70 170.72 17.80 18.38 352.09 1.77 15.69 351.59 90.41 24.43 47.59 1.73 4.46 21.77 172.24 17.89 18.38 353.24 1.77 5.12 135.04 2.15 0.61 2.03 1.66 0.00 0.37 99.38 13.09 7.94 9.45 0.86 30.70 10143.34 0.17 0.36 25.71 0.07 0.15 0.81 181.44 3.24 251.48 2.88 4.95 634.40 19492.66 0.90 4.22 234.32 0.24 2.13 4.71 720.40 52.53 889.64 38.10 65.08 1630.41 15855.10 10.00 48.97 63.06 1.96 24.83 37.99 680.90 92.73 892.65 64.37 131.98 331.51 2225.40 5.87 23.56 1.89 0.97 6.41 11.97 48.03 9.64 76.46 7.05 17.55 30.70 10143.34 0.17 0.36 25.71 0.07 0.15 0.81 181.44 3.24 251.48 2.88 4.95 634.40 19492.66 0.90 4.22 234.32 0.24 2.13 4.71 720.40 52.53 889.64 38.10 65.08 1630.41 15855.10 10.00 48.97 63.06 1.96 24.83 37.99 680.90 92.73 892.65 64.37 131.98 331.51 2225.40 5.87 23.56 1.89 0.97 6.41 11.97 48.03 9.64 76.46 7.05 17.55 2627.02 47716.50 16.94 77.12 324.98 3.24 33.51 55.48 1630.77 158.13 2110.22 112.40 219.56\n",
      "------------------------------------------------------------\n",
      "xsecpp2bbXlumi lnN 1.5 1.5 1.5 1.5 1.5 1.5 1.5 1.5 1.5 1.5 1.5 1.5 1.5 1.5 1.5 1.5 1.5 1.5 1.5 1.5 1.5 1.5 1.5 1.5 1.5 1.5 1.5 1.5 1.5 1.5 1.5 1.5 1.5 1.5 1.5 1.5 1.5 1.5 1.5 1.5 1.5 1.5 1.5 1.5 1.5 1.5 1.5 1.5 1.5 1.5 1.5 1.5 1.5 1.5 1.5 1.5 1.5 1.5 1.5 1.5 1.5 1.5 1.5 1.5 1.5 1.5 1.5 1.5 1.5 1.5 1.5 1.5 1.5 1.5 1.5 1.5 1.5 1.5 1.5 1.5 1.5 1.5 1.5 1.5 1.5 1.5 1.5 1.5 1.5 1.5 1.5 1.5 1.5 1.5 1.5 1.5 1.5 1.5 1.5 1.5 1.5 1.5 1.5 1.5 1.5 1.5 1.5 1.5 1.5 1.5 1.5 1.5 1.5 1.5 1.5 1.5 1.5 1.5 1.5 1.5 1.5 1.5 1.5 1.5 1.5 1.5 1.5 1.5 1.5 1.5 1.5 1.5 1.5 1.5 1.5 1.5 1.5 1.5 1.5 1.5 1.5 1.5 1.5 1.5 1.5 1.5 1.5 1.5 1.5 1.5 1.5 1.5 1.5 1.5 1.5 1.5 1.5 1.5 1.5 1.5 1.5 1.5 1.5 1.5 1.5 1.5 1.5 1.5 1.5 1.5 1.5 1.5 1.5 1.5 1.5 1.5 1.5 1.5 1.5 1.5 1.5 1.5 1.5 1.5 1.5 1.5 1.5 1.5 1.5 1.5 1.5 1.5 1.5 1.5 1.5\n",
      "b2B0Had lnN 1.3 1.3 1.3 1.3 1.3 - - 1.3 - - 1.3 1.3 1.3 1.3 1.3 1.3 1.3 1.3 - - 1.3 - - 1.3 1.3 1.3 1.3 1.3 1.3 1.3 1.3 - - 1.3 - - 1.3 1.3 1.3 1.3 1.3 1.3 1.3 1.3 - - 1.3 - - 1.3 1.3 1.3 1.3 1.3 1.3 1.3 1.3 - - 1.3 - - 1.3 1.3 1.3 1.3 1.3 1.3 1.3 1.3 - - 1.3 - - 1.3 1.3 1.3 1.3 1.3 1.3 1.3 1.3 - - 1.3 - - 1.3 1.3 1.3 1.3 1.3 1.3 1.3 1.3 - - 1.3 - - 1.3 1.3 1.3 1.3 1.3 1.3 1.3 1.3 - - 1.3 - - 1.3 1.3 1.3 1.3 1.3 1.3 1.3 1.3 - - 1.3 - - 1.3 1.3 1.3 1.3 1.3 1.3 1.3 1.3 - - 1.3 - - 1.3 1.3 1.3 1.3 1.3 1.3 1.3 1.3 - - 1.3 - - 1.3 1.3 1.3 1.3 1.3 1.3 1.3 1.3 - - 1.3 - - 1.3 1.3 1.3 1.3 1.3 1.3 1.3 1.3 - - 1.3 - - 1.3 1.3 1.3 1.3 1.3 1.3 1.3 1.3 - - 1.3 - - 1.3 1.3 1.3\n",
      "b2BpHad lnN - - - - - 1.3 1.3 - 1.3 1.3 - - - - - - - - 1.3 1.3 - 1.3 1.3 - - - - - - - - 1.3 1.3 - 1.3 1.3 - - - - - - - - 1.3 1.3 - 1.3 1.3 - - - - - - - - 1.3 1.3 - 1.3 1.3 - - - - - - - - 1.3 1.3 - 1.3 1.3 - - - - - - - - 1.3 1.3 - 1.3 1.3 - - - - - - - - 1.3 1.3 - 1.3 1.3 - - - - - - - - 1.3 1.3 - 1.3 1.3 - - - - - - - - 1.3 1.3 - 1.3 1.3 - - - - - - - - 1.3 1.3 - 1.3 1.3 - - - - - - - - 1.3 1.3 - 1.3 1.3 - - - - - - - - 1.3 1.3 - 1.3 1.3 - - - - - - - - 1.3 1.3 - 1.3 1.3 - - - - - - - - 1.3 1.3 - 1.3 1.3 - - -\n",
      "muBr lnN - 1.03 - - - - - - - - - - - - 1.03 - - - - - - - - - - - - 1.03 - - - - - - - - - - - - 1.03 - - - - - - - - - - - - 1.03 - - - - - - - - - - - - 1.03 - - - - - - - - - - - - 1.03 - - - - - - - - - - - - 1.03 - - - - - - - - - - - - 1.03 - - - - - - - - - - - - 1.03 - - - - - - - - - - - - 1.03 - - - - - - - - - - - - 1.03 - - - - - - - - - - - - 1.03 - - - - - - - - - - - - 1.03 - - - - - - - - - - - - 1.03 - - - - - - - - - - -\n",
      "DstmD0Br lnN - - 1.09 - - - - - - - - - - - - 1.09 - - - - - - - - - - - - 1.09 - - - - - - - - - - - - 1.09 - - - - - - - - - - - - 1.09 - - - - - - - - - - - - 1.09 - - - - - - - - - - - - 1.09 - - - - - - - - - - - - 1.09 - - - - - - - - - - - - 1.09 - - - - - - - - - - - - 1.09 - - - - - - - - - - - - 1.09 - - - - - - - - - - - - 1.09 - - - - - - - - - - - - 1.09 - - - - - - - - - - - - 1.09 - - - - - - - - - - - - 1.09 - - - - - - - - - -\n",
      "DstmDpBr lnN - - - 1.18 - - - - - - - - - - - - 1.18 - - - - - - - - - - - - 1.18 - - - - - - - - - - - - 1.18 - - - - - - - - - - - - 1.18 - - - - - - - - - - - - 1.18 - - - - - - - - - - - - 1.18 - - - - - - - - - - - - 1.18 - - - - - - - - - - - - 1.18 - - - - - - - - - - - - 1.18 - - - - - - - - - - - - 1.18 - - - - - - - - - - - - 1.18 - - - - - - - - - - - - 1.18 - - - - - - - - - - - - 1.18 - - - - - - - - - - - - 1.18 - - - - - - - - -\n",
      "DstmDspBr lnN - - - - 1.11 - - - - - - - - - - - - 1.11 - - - - - - - - - - - - 1.11 - - - - - - - - - - - - 1.11 - - - - - - - - - - - - 1.11 - - - - - - - - - - - - 1.11 - - - - - - - - - - - - 1.11 - - - - - - - - - - - - 1.11 - - - - - - - - - - - - 1.11 - - - - - - - - - - - - 1.11 - - - - - - - - - - - - 1.11 - - - - - - - - - - - - 1.11 - - - - - - - - - - - - 1.11 - - - - - - - - - - - - 1.11 - - - - - - - - - - - - 1.11 - - - - - - - -\n",
      "BpDstmHcBr lnN - - - - - 1.22 - - - - - - - - - - - - 1.22 - - - - - - - - - - - - 1.22 - - - - - - - - - - - - 1.22 - - - - - - - - - - - - 1.22 - - - - - - - - - - - - 1.22 - - - - - - - - - - - - 1.22 - - - - - - - - - - - - 1.22 - - - - - - - - - - - - 1.22 - - - - - - - - - - - - 1.22 - - - - - - - - - - - - 1.22 - - - - - - - - - - - - 1.22 - - - - - - - - - - - - 1.22 - - - - - - - - - - - - 1.22 - - - - - - - - - - - - 1.22 - - - - - - -\n",
      "BmDstmHcBr lnN - - - - - - 1.20 - - - - - - - - - - - - 1.20 - - - - - - - - - - - - 1.20 - - - - - - - - - - - - 1.20 - - - - - - - - - - - - 1.20 - - - - - - - - - - - - 1.20 - - - - - - - - - - - - 1.20 - - - - - - - - - - - - 1.20 - - - - - - - - - - - - 1.20 - - - - - - - - - - - - 1.20 - - - - - - - - - - - - 1.20 - - - - - - - - - - - - 1.20 - - - - - - - - - - - - 1.20 - - - - - - - - - - - - 1.20 - - - - - - - - - - - - 1.20 - - - - - -\n",
      "antiB0DstmHcBr lnN - - - - - - - 1.19 - - - - - - - - - - - - 1.19 - - - - - - - - - - - - 1.19 - - - - - - - - - - - - 1.19 - - - - - - - - - - - - 1.19 - - - - - - - - - - - - 1.19 - - - - - - - - - - - - 1.19 - - - - - - - - - - - - 1.19 - - - - - - - - - - - - 1.19 - - - - - - - - - - - - 1.19 - - - - - - - - - - - - 1.19 - - - - - - - - - - - - 1.19 - - - - - - - - - - - - 1.19 - - - - - - - - - - - - 1.19 - - - - - - - - - - - - 1.19 - - - - -\n",
      "DstPiBr lnN - - - - - - - - 1.07 - 1.07 - - - - - - - - - - 1.07 - 1.07 - - - - - - - - - - 1.07 - 1.07 - - - - - - - - - - 1.07 - 1.07 - - - - - - - - - - 1.07 - 1.07 - - - - - - - - - - 1.07 - 1.07 - - - - - - - - - - 1.07 - 1.07 - - - - - - - - - - 1.07 - 1.07 - - - - - - - - - - 1.07 - 1.07 - - - - - - - - - - 1.07 - 1.07 - - - - - - - - - - 1.07 - 1.07 - - - - - - - - - - 1.07 - 1.07 - - - - - - - - - - 1.07 - 1.07 - - - - - - - - - - 1.07 - 1.07 - - - - - - - - - - 1.07 - 1.07 - -\n",
      "DstPiPiBr lnN - - - - - - - - - 1.36 - 1.36 1.36 - - - - - - - - - 1.36 - 1.36 1.36 - - - - - - - - - 1.36 - 1.36 1.36 - - - - - - - - - 1.36 - 1.36 1.36 - - - - - - - - - 1.36 - 1.36 1.36 - - - - - - - - - 1.36 - 1.36 1.36 - - - - - - - - - 1.36 - 1.36 1.36 - - - - - - - - - 1.36 - 1.36 1.36 - - - - - - - - - 1.36 - 1.36 1.36 - - - - - - - - - 1.36 - 1.36 1.36 - - - - - - - - - 1.36 - 1.36 1.36 - - - - - - - - - 1.36 - 1.36 1.36 - - - - - - - - - 1.36 - 1.36 1.36 - - - - - - - - - 1.36 - 1.36 1.36 - - - - - - - - - 1.36 - 1.36 1.36\n",
      "------------------------------------------------------------\n",
      "trgMu7_IP4SF shape 1. 1. 1. 1. 1. 1. 1. 1. 1. 1. 1. 1. 1. 1. 1. 1. 1. 1. 1. 1. 1. 1. 1. 1. 1. 1. 1. 1. 1. 1. 1. 1. 1. 1. 1. 1. 1. 1. 1. 1. 1. 1. 1. 1. 1. 1. 1. 1. 1. 1. 1. 1. 1. 1. 1. 1. 1. 1. 1. 1. 1. 1. 1. 1. 1. 1. 1. 1. 1. 1. 1. 1. 1. 1. 1. 1. 1. 1. 1. 1. 1. 1. 1. 1. 1. 1. 1. 1. 1. 1. 1. 1. 1. 1. 1. 1. 1. 1. 1. 1. 1. 1. 1. 1. 1. 1. 1. 1. 1. 1. 1. 1. 1. 1. 1. 1. 1. 1. 1. 1. 1. 1. 1. 1. 1. 1. 1. 1. 1. 1. 1. 1. 1. 1. 1. 1. 1. 1. 1. 1. 1. 1. 1. 1. 1. 1. 1. 1. 1. 1. 1. 1. 1. 1. 1. 1. 1. 1. 1. 1. 1. 1. 1. 1. 1. 1. 1. 1. 1. 1. 1. 1. 1. 1. 1. 1. 1. 1. 1. 1. 1. 1. 1. 1. 1. 1. 1. 1. 1. 1. 1. 1. 1. 1. 1.\n",
      "muonIdSF shape 1. 1. 1. 1. 1. 1. 1. 1. 1. 1. 1. 1. 1. 1. 1. 1. 1. 1. 1. 1. 1. 1. 1. 1. 1. 1. 1. 1. 1. 1. 1. 1. 1. 1. 1. 1. 1. 1. 1. 1. 1. 1. 1. 1. 1. 1. 1. 1. 1. 1. 1. 1. 1. 1. 1. 1. 1. 1. 1. 1. 1. 1. 1. 1. 1. 1. 1. 1. 1. 1. 1. 1. 1. 1. 1. 1. 1. 1. 1. 1. 1. 1. 1. 1. 1. 1. 1. 1. 1. 1. 1. 1. 1. 1. 1. 1. 1. 1. 1. 1. 1. 1. 1. 1. 1. 1. 1. 1. 1. 1. 1. 1. 1. 1. 1. 1. 1. 1. 1. 1. 1. 1. 1. 1. 1. 1. 1. 1. 1. 1. 1. 1. 1. 1. 1. 1. 1. 1. 1. 1. 1. 1. 1. 1. 1. 1. 1. 1. 1. 1. 1. 1. 1. 1. 1. 1. 1. 1. 1. 1. 1. 1. 1. 1. 1. 1. 1. 1. 1. 1. 1. 1. 1. 1. 1. 1. 1. 1. 1. 1. 1. 1. 1. 1. 1. 1. 1. 1. 1. 1. 1. 1. 1. 1. 1.\n",
      "tkPVfrac shape 1. 1. 1. 1. 1. 1. 1. 1. 1. 1. 1. 1. 1. 1. 1. 1. 1. 1. 1. 1. 1. 1. 1. 1. 1. 1. 1. 1. 1. 1. 1. 1. 1. 1. 1. 1. 1. 1. 1. 1. 1. 1. 1. 1. 1. 1. 1. 1. 1. 1. 1. 1. 1. 1. 1. 1. 1. 1. 1. 1. 1. 1. 1. 1. 1. 1. 1. 1. 1. 1. 1. 1. 1. 1. 1. 1. 1. 1. - - - - - - - - - - - - - - - - - - - - - - - - - - - - - - - - - - - - - - - - - - - - - - - - - - - - - - - - - - - - - - - - - - - - - - - - - - - - - - - - - - - - - - - - - - - - - - - - - - - - - - - - - - - - - - - - - - - - -\n",
      "B0pT shape 1. 1. 1. 1. 1. - - - - - 1. 1. 1. 1. 1. 1. 1. 1. - - - - - 1. 1. 1. 1. 1. 1. 1. 1. - - - - - 1. 1. 1. 1. 1. 1. 1. 1. - - - - - 1. 1. 1. 1. 1. 1. 1. 1. - - - - - 1. 1. 1. 1. 1. 1. 1. 1. - - - - - 1. 1. 1. 1. 1. 1. 1. 1. - - - - - 1. 1. 1. 1. 1. 1. 1. 1. - - - - - 1. 1. 1. 1. 1. 1. 1. 1. - - - - - 1. 1. 1. 1. 1. 1. 1. 1. - - - - - 1. 1. 1. 1. 1. 1. 1. 1. - - - - - 1. 1. 1. 1. 1. 1. 1. 1. - - - - - 1. 1. 1. 1. 1. 1. 1. 1. - - - - - 1. 1. 1. 1. 1. 1. 1. 1. - - - - - 1. 1. 1. 1. 1. 1. 1. 1. - - - - - 1. 1. 1.\n",
      "B2DstCLNR0 shape 1. 1. - - - - - - - - - - - 1. 1. - - - - - - - - - - - 1. 1. - - - - - - - - - - - 1. 1. - - - - - - - - - - - 1. 1. - - - - - - - - - - - 1. 1. - - - - - - - - - - - 1. 1. - - - - - - - - - - - 1. 1. - - - - - - - - - - - 1. 1. - - - - - - - - - - - 1. 1. - - - - - - - - - - - 1. 1. - - - - - - - - - - - 1. 1. - - - - - - - - - - - 1. 1. - - - - - - - - - - - 1. 1. - - - - - - - - - - - 1. 1. - - - - - - - - - - -\n",
      "B2DstCLNeig1 shape 1. 1. - - - - - - - - - - - 1. 1. - - - - - - - - - - - 1. 1. - - - - - - - - - - - 1. 1. - - - - - - - - - - - 1. 1. - - - - - - - - - - - 1. 1. - - - - - - - - - - - 1. 1. - - - - - - - - - - - 1. 1. - - - - - - - - - - - 1. 1. - - - - - - - - - - - 1. 1. - - - - - - - - - - - 1. 1. - - - - - - - - - - - 1. 1. - - - - - - - - - - - 1. 1. - - - - - - - - - - - 1. 1. - - - - - - - - - - - 1. 1. - - - - - - - - - - -\n",
      "B2DstCLNeig2 shape 1. 1. - - - - - - - - - - - 1. 1. - - - - - - - - - - - 1. 1. - - - - - - - - - - - 1. 1. - - - - - - - - - - - 1. 1. - - - - - - - - - - - 1. 1. - - - - - - - - - - - 1. 1. - - - - - - - - - - - 1. 1. - - - - - - - - - - - 1. 1. - - - - - - - - - - - 1. 1. - - - - - - - - - - - 1. 1. - - - - - - - - - - - 1. 1. - - - - - - - - - - - 1. 1. - - - - - - - - - - - 1. 1. - - - - - - - - - - - 1. 1. - - - - - - - - - - -\n",
      "B2DstCLNeig3 shape 1. 1. - - - - - - - - - - - 1. 1. - - - - - - - - - - - 1. 1. - - - - - - - - - - - 1. 1. - - - - - - - - - - - 1. 1. - - - - - - - - - - - 1. 1. - - - - - - - - - - - 1. 1. - - - - - - - - - - - 1. 1. - - - - - - - - - - - 1. 1. - - - - - - - - - - - 1. 1. - - - - - - - - - - - 1. 1. - - - - - - - - - - - 1. 1. - - - - - - - - - - - 1. 1. - - - - - - - - - - - 1. 1. - - - - - - - - - - - 1. 1. - - - - - - - - - - -\n",
      "fDststWide shape - - - - - - - - 1. - - - - - - - - - - - - 1. - - - - - - - - - - - - 1. - - - - - - - - - - - - 1. - - - - - - - - - - - - 1. - - - - - - - - - - - - 1. - - - - - - - - - - - - 1. - - - - - - - - - - - - 1. - - - - - - - - - - - - 1. - - - - - - - - - - - - 1. - - - - - - - - - - - - 1. - - - - - - - - - - - - 1. - - - - - - - - - - - - 1. - - - - - - - - - - - - 1. - - - - - - - - - - - - 1. - - - -\n",
      "BrB02DstD0Kp shape - - 1. - - - - - - - - - - - - 1. - - - - - - - - - - - - 1. - - - - - - - - - - - - 1. - - - - - - - - - - - - 1. - - - - - - - - - - - - 1. - - - - - - - - - - - - 1. - - - - - - - - - - - - 1. - - - - - - - - - - - - 1. - - - - - - - - - - - - 1. - - - - - - - - - - - - 1. - - - - - - - - - - - - 1. - - - - - - - - - - - - 1. - - - - - - - - - - - - 1. - - - - - - - - - - - - 1. - - - - - - - - - -\n",
      "BrB02DstD0Kstp shape - - 1. - - - - - - - - - - - - 1. - - - - - - - - - - - - 1. - - - - - - - - - - - - 1. - - - - - - - - - - - - 1. - - - - - - - - - - - - 1. - - - - - - - - - - - - 1. - - - - - - - - - - - - 1. - - - - - - - - - - - - 1. - - - - - - - - - - - - 1. - - - - - - - - - - - - 1. - - - - - - - - - - - - 1. - - - - - - - - - - - - 1. - - - - - - - - - - - - 1. - - - - - - - - - - - - 1. - - - - - - - - - -\n",
      "BrB02DstDst0Kp shape - - 1. - - - - - - - - - - - - 1. - - - - - - - - - - - - 1. - - - - - - - - - - - - 1. - - - - - - - - - - - - 1. - - - - - - - - - - - - 1. - - - - - - - - - - - - 1. - - - - - - - - - - - - 1. - - - - - - - - - - - - 1. - - - - - - - - - - - - 1. - - - - - - - - - - - - 1. - - - - - - - - - - - - 1. - - - - - - - - - - - - 1. - - - - - - - - - - - - 1. - - - - - - - - - - - - 1. - - - - - - - - - -\n",
      "BrB02DstDst0Kstp shape - - 1. - - - - - - - - - - - - 1. - - - - - - - - - - - - 1. - - - - - - - - - - - - 1. - - - - - - - - - - - - 1. - - - - - - - - - - - - 1. - - - - - - - - - - - - 1. - - - - - - - - - - - - 1. - - - - - - - - - - - - 1. - - - - - - - - - - - - 1. - - - - - - - - - - - - 1. - - - - - - - - - - - - 1. - - - - - - - - - - - - 1. - - - - - - - - - - - - 1. - - - - - - - - - - - - 1. - - - - - - - - - -\n",
      "BrB02DstDpK0 shape - - - 1. - - - - - - - - - - - - 1. - - - - - - - - - - - - 1. - - - - - - - - - - - - 1. - - - - - - - - - - - - 1. - - - - - - - - - - - - 1. - - - - - - - - - - - - 1. - - - - - - - - - - - - 1. - - - - - - - - - - - - 1. - - - - - - - - - - - - 1. - - - - - - - - - - - - 1. - - - - - - - - - - - - 1. - - - - - - - - - - - - 1. - - - - - - - - - - - - 1. - - - - - - - - - - - - 1. - - - - - - - - -\n",
      "BrB02DstDpKst0 shape - - - 1. - - - - - - - - - - - - 1. - - - - - - - - - - - - 1. - - - - - - - - - - - - 1. - - - - - - - - - - - - 1. - - - - - - - - - - - - 1. - - - - - - - - - - - - 1. - - - - - - - - - - - - 1. - - - - - - - - - - - - 1. - - - - - - - - - - - - 1. - - - - - - - - - - - - 1. - - - - - - - - - - - - 1. - - - - - - - - - - - - 1. - - - - - - - - - - - - 1. - - - - - - - - - - - - 1. - - - - - - - - -\n",
      "BrB02DstDstpK0 shape - - 1. 1. - - - - - - - - - - - 1. 1. - - - - - - - - - - - 1. 1. - - - - - - - - - - - 1. 1. - - - - - - - - - - - 1. 1. - - - - - - - - - - - 1. 1. - - - - - - - - - - - 1. 1. - - - - - - - - - - - 1. 1. - - - - - - - - - - - 1. 1. - - - - - - - - - - - 1. 1. - - - - - - - - - - - 1. 1. - - - - - - - - - - - 1. 1. - - - - - - - - - - - 1. 1. - - - - - - - - - - - 1. 1. - - - - - - - - - - - 1. 1. - - - - - - - - -\n",
      "BrB02DstDstpKst0 shape - - 1. 1. - - - - - - - - - - - 1. 1. - - - - - - - - - - - 1. 1. - - - - - - - - - - - 1. 1. - - - - - - - - - - - 1. 1. - - - - - - - - - - - 1. 1. - - - - - - - - - - - 1. 1. - - - - - - - - - - - 1. 1. - - - - - - - - - - - 1. 1. - - - - - - - - - - - 1. 1. - - - - - - - - - - - 1. 1. - - - - - - - - - - - 1. 1. - - - - - - - - - - - 1. 1. - - - - - - - - - - - 1. 1. - - - - - - - - - - - 1. 1. - - - - - - - - -\n",
      "BrB02DstDs shape - - - - 1. - - - - - - - - - - - - 1. - - - - - - - - - - - - 1. - - - - - - - - - - - - 1. - - - - - - - - - - - - 1. - - - - - - - - - - - - 1. - - - - - - - - - - - - 1. - - - - - - - - - - - - 1. - - - - - - - - - - - - 1. - - - - - - - - - - - - 1. - - - - - - - - - - - - 1. - - - - - - - - - - - - 1. - - - - - - - - - - - - 1. - - - - - - - - - - - - 1. - - - - - - - - - - - - 1. - - - - - - - -\n",
      "BrB02DstDsst shape - - - - 1. - - - - - - - - - - - - 1. - - - - - - - - - - - - 1. - - - - - - - - - - - - 1. - - - - - - - - - - - - 1. - - - - - - - - - - - - 1. - - - - - - - - - - - - 1. - - - - - - - - - - - - 1. - - - - - - - - - - - - 1. - - - - - - - - - - - - 1. - - - - - - - - - - - - 1. - - - - - - - - - - - - 1. - - - - - - - - - - - - 1. - - - - - - - - - - - - 1. - - - - - - - - - - - - 1. - - - - - - - -\n",
      "BrB02DstDs0st shape - - - - 1. - - - - - - - - - - - - 1. - - - - - - - - - - - - 1. - - - - - - - - - - - - 1. - - - - - - - - - - - - 1. - - - - - - - - - - - - 1. - - - - - - - - - - - - 1. - - - - - - - - - - - - 1. - - - - - - - - - - - - 1. - - - - - - - - - - - - 1. - - - - - - - - - - - - 1. - - - - - - - - - - - - 1. - - - - - - - - - - - - 1. - - - - - - - - - - - - 1. - - - - - - - - - - - - 1. - - - - - - - -\n",
      "* autoMCStats 5 1 1\n",
      "------------------------------------------------------------\n",
      "B2DstFF group = B2DstCLNR0 B2DstCLNeig1 B2DstCLNeig2 B2DstCLNeig3\n",
      "allSys group = xsecpp2bbXlumi b2B0Had b2BpHad muBr DstmD0Br DstmDpBr DstmDspBr BpDstmHcBr BmDstmHcBr antiB0DstmHcBr DstPiBr DstPiPiBr  trgMu7_IP4SF muonIdSF tkPVfrac B0pT B2DstCLNR0 B2DstCLNeig1 B2DstCLNeig2 B2DstCLNeig3 fDststWide BrB02DstD0Kp BrB02DstD0Kstp BrB02DstDst0Kp BrB02DstDst0Kstp BrB02DstDpK0 BrB02DstDpKst0 BrB02DstDstpK0 BrB02DstDstpKst0 BrB02DstDs BrB02DstDsst BrB02DstDs0st \n",
      "\n"
     ]
    }
   ],
   "source": [
    "print card"
   ]
  },
  {
   "cell_type": "code",
   "execution_count": 52,
   "metadata": {
    "ExecuteTime": {
     "end_time": "2020-09-03T20:13:21.798904Z",
     "start_time": "2020-09-03T20:13:21.690767Z"
    },
    "hidden": true
   },
   "outputs": [],
   "source": [
    "fc = open(card_location, 'w')\n",
    "fc.write(card)\n",
    "fc.close()"
   ]
  },
  {
   "cell_type": "code",
   "execution_count": 53,
   "metadata": {
    "ExecuteTime": {
     "end_time": "2020-09-03T20:13:22.011893Z",
     "start_time": "2020-09-03T20:13:21.805503Z"
    },
    "hidden": true
   },
   "outputs": [],
   "source": [
    "if os.path.isdir(outdir) and runCombine:\n",
    "    os.system('rm -rf ' + outdir)\n",
    "os.system('mkdir -p ' + outdir + '/fig');"
   ]
  },
  {
   "cell_type": "code",
   "execution_count": 54,
   "metadata": {
    "ExecuteTime": {
     "end_time": "2020-09-03T20:13:22.038643Z",
     "start_time": "2020-09-03T20:13:22.020548Z"
    },
    "hidden": true
   },
   "outputs": [],
   "source": [
    "with open(outdir + '/eventCounting.txt', 'w') as f:\n",
    "    for p in processOrder + ['tot']:\n",
    "        f.write(p + '   ' + eventCountingStr[p] + '\\n')"
   ]
  },
  {
   "cell_type": "markdown",
   "metadata": {},
   "source": [
    "# Run Combine"
   ]
  },
  {
   "cell_type": "code",
   "execution_count": 55,
   "metadata": {
    "ExecuteTime": {
     "end_time": "2020-09-03T20:13:22.142922Z",
     "start_time": "2020-09-03T20:13:22.045056Z"
    }
   },
   "outputs": [],
   "source": [
    "if not runCombine:\n",
    "    raise\n",
    "    "
   ]
  },
  {
   "cell_type": "markdown",
   "metadata": {},
   "source": [
    "## Create the workspace"
   ]
  },
  {
   "cell_type": "code",
   "execution_count": 56,
   "metadata": {
    "ExecuteTime": {
     "end_time": "2020-09-03T20:13:39.567671Z",
     "start_time": "2020-09-03T20:13:22.150225Z"
    },
    "scrolled": true
   },
   "outputs": [
    {
     "name": "stdout",
     "output_type": "stream",
     "text": [
      "Channel AddTk_m_mHad will use autoMCStats with settings: event-threshold=5, include-signal=1, hist-mode=1\n",
      "============================================================\n",
      "Analysing bin errors for: prop_binAddTk_m_mHad\n",
      "Poisson cut-off: 5\n",
      "============================================================\n",
      "Bin        Contents        Error           Notes                         \n",
      "0          13.023741       1.573630        total sum                     \n",
      "0          68.000000       8.246211        Unweighted events, alpha=0.191526\n",
      "  => Total parameter prop_binAddTk_m_mHad_bin0[0.00,-7.00,7.00] to be gaussian constrained\n",
      "------------------------------------------------------------\n",
      "1          322.402461      7.530195        total sum                     \n",
      "1          1833.000000     42.813549       Unweighted events, alpha=0.175888\n",
      "  => Total parameter prop_binAddTk_m_mHad_bin1[0.00,-7.00,7.00] to be gaussian constrained\n",
      "------------------------------------------------------------\n",
      "2          493.535735      9.264524        total sum                     \n",
      "2          2838.000000     53.272882       Unweighted events, alpha=0.173903\n",
      "  => Total parameter prop_binAddTk_m_mHad_bin2[0.00,-7.00,7.00] to be gaussian constrained\n",
      "------------------------------------------------------------\n",
      "3          424.847306      8.826388        total sum                     \n",
      "3          2317.000000     48.135226       Unweighted events, alpha=0.183361\n",
      "  => Total parameter prop_binAddTk_m_mHad_bin3[0.00,-7.00,7.00] to be gaussian constrained\n",
      "------------------------------------------------------------\n",
      "4          342.924121      8.147130        total sum                     \n",
      "4          1772.000000     42.095130       Unweighted events, alpha=0.193524\n",
      "  => Total parameter prop_binAddTk_m_mHad_bin4[0.00,-7.00,7.00] to be gaussian constrained\n",
      "------------------------------------------------------------\n",
      "5          286.385065      7.562413        total sum                     \n",
      "5          1434.000000     37.868192       Unweighted events, alpha=0.199711\n",
      "  => Total parameter prop_binAddTk_m_mHad_bin5[0.00,-7.00,7.00] to be gaussian constrained\n",
      "------------------------------------------------------------\n",
      "6          220.984283      6.363150        total sum                     \n",
      "6          1206.000000     34.727511       Unweighted events, alpha=0.183237\n",
      "  => Total parameter prop_binAddTk_m_mHad_bin6[0.00,-7.00,7.00] to be gaussian constrained\n",
      "------------------------------------------------------------\n",
      "7          184.250711      6.372806        total sum                     \n",
      "7          836.000000      28.913665       Unweighted events, alpha=0.220396\n",
      "  => Total parameter prop_binAddTk_m_mHad_bin7[0.00,-7.00,7.00] to be gaussian constrained\n",
      "------------------------------------------------------------\n",
      "8          151.305256      5.630514        total sum                     \n",
      "8          722.000000      26.870058       Unweighted events, alpha=0.209564\n",
      "  => Total parameter prop_binAddTk_m_mHad_bin8[0.00,-7.00,7.00] to be gaussian constrained\n",
      "------------------------------------------------------------\n",
      "9          113.446210      4.818429        total sum                     \n",
      "9          554.000000      23.537205       Unweighted events, alpha=0.204777\n",
      "  => Total parameter prop_binAddTk_m_mHad_bin9[0.00,-7.00,7.00] to be gaussian constrained\n",
      "------------------------------------------------------------\n",
      "10         80.741555       3.961579        total sum                     \n",
      "10         415.000000      20.371549       Unweighted events, alpha=0.194558\n",
      "  => Total parameter prop_binAddTk_m_mHad_bin10[0.00,-7.00,7.00] to be gaussian constrained\n",
      "------------------------------------------------------------\n",
      "11         74.028518       4.162680        total sum                     \n",
      "11         316.000000      17.776389       Unweighted events, alpha=0.234267\n",
      "  => Total parameter prop_binAddTk_m_mHad_bin11[0.00,-7.00,7.00] to be gaussian constrained\n",
      "------------------------------------------------------------\n",
      "12         55.372694       3.248198        total sum                     \n",
      "12         291.000000      17.058722       Unweighted events, alpha=0.190284\n",
      "  => Total parameter prop_binAddTk_m_mHad_bin12[0.00,-7.00,7.00] to be gaussian constrained\n",
      "------------------------------------------------------------\n",
      "13         54.678485       3.629433        total sum                     \n",
      "13         227.000000      15.066519       Unweighted events, alpha=0.240874\n",
      "  => Total parameter prop_binAddTk_m_mHad_bin13[0.00,-7.00,7.00] to be gaussian constrained\n",
      "------------------------------------------------------------\n",
      "14         45.379448       3.091264        total sum                     \n",
      "14         215.000000      14.662878       Unweighted events, alpha=0.211067\n",
      "  => Total parameter prop_binAddTk_m_mHad_bin14[0.00,-7.00,7.00] to be gaussian constrained\n",
      "------------------------------------------------------------\n",
      "15         35.800622       2.844406        total sum                     \n",
      "15         158.000000      12.569805       Unweighted events, alpha=0.226586\n",
      "  => Total parameter prop_binAddTk_m_mHad_bin15[0.00,-7.00,7.00] to be gaussian constrained\n",
      "------------------------------------------------------------\n",
      "16         28.094331       2.204598        total sum                     \n",
      "16         162.000000      12.727922       Unweighted events, alpha=0.173422\n",
      "  => Total parameter prop_binAddTk_m_mHad_bin16[0.00,-7.00,7.00] to be gaussian constrained\n",
      "------------------------------------------------------------\n",
      "17         26.714271       2.159563        total sum                     \n",
      "17         153.000000      12.369317       Unweighted events, alpha=0.174603\n",
      "  => Total parameter prop_binAddTk_m_mHad_bin17[0.00,-7.00,7.00] to be gaussian constrained\n",
      "------------------------------------------------------------\n",
      "18         20.362386       1.913023        total sum                     \n",
      "18         113.000000      10.630146       Unweighted events, alpha=0.180198\n",
      "  => Total parameter prop_binAddTk_m_mHad_bin18[0.00,-7.00,7.00] to be gaussian constrained\n",
      "------------------------------------------------------------\n",
      "19         15.700780       1.585315        total sum                     \n",
      "19         98.000000       9.899495        Unweighted events, alpha=0.160212\n",
      "  => Total parameter prop_binAddTk_m_mHad_bin19[0.00,-7.00,7.00] to be gaussian constrained\n",
      "------------------------------------------------------------\n",
      "20         13.930415       1.455399        total sum                     \n",
      "20         92.000000       9.591663        Unweighted events, alpha=0.151418\n",
      "  => Total parameter prop_binAddTk_m_mHad_bin20[0.00,-7.00,7.00] to be gaussian constrained\n",
      "------------------------------------------------------------\n",
      "21         13.117549       1.684955        total sum                     \n",
      "21         61.000000       7.810250        Unweighted events, alpha=0.215042\n",
      "  => Total parameter prop_binAddTk_m_mHad_bin21[0.00,-7.00,7.00] to be gaussian constrained\n",
      "------------------------------------------------------------\n",
      "22         11.401126       1.485947        total sum                     \n",
      "22         59.000000       7.681146        Unweighted events, alpha=0.193239\n",
      "  => Total parameter prop_binAddTk_m_mHad_bin22[0.00,-7.00,7.00] to be gaussian constrained\n",
      "------------------------------------------------------------\n",
      "23         9.694888        1.166383        total sum                     \n",
      "23         69.000000       8.306624        Unweighted events, alpha=0.140506\n",
      "  => Total parameter prop_binAddTk_m_mHad_bin23[0.00,-7.00,7.00] to be gaussian constrained\n",
      "------------------------------------------------------------\n",
      "24         7.070012        0.858260        total sum                     \n",
      "24         68.000000       8.246211        Unweighted events, alpha=0.103971\n",
      "  => Total parameter prop_binAddTk_m_mHad_bin24[0.00,-7.00,7.00] to be gaussian constrained\n",
      "------------------------------------------------------------\n",
      "25         8.218058        1.493948        total sum                     \n",
      "25         30.000000       5.477226        Unweighted events, alpha=0.273935\n",
      "  => Total parameter prop_binAddTk_m_mHad_bin25[0.00,-7.00,7.00] to be gaussian constrained\n",
      "------------------------------------------------------------\n",
      "26         5.910498        0.843742        total sum                     \n",
      "26         49.000000       7.000000        Unweighted events, alpha=0.120622\n",
      "  => Total parameter prop_binAddTk_m_mHad_bin26[0.00,-7.00,7.00] to be gaussian constrained\n",
      "------------------------------------------------------------\n",
      "27         5.382647        1.058142        total sum                     \n",
      "27         26.000000       5.099020        Unweighted events, alpha=0.207025\n",
      "  => Total parameter prop_binAddTk_m_mHad_bin27[0.00,-7.00,7.00] to be gaussian constrained\n",
      "------------------------------------------------------------\n",
      "28         5.012410        0.840726        total sum                     \n",
      "28         36.000000       6.000000        Unweighted events, alpha=0.139234\n",
      "  => Total parameter prop_binAddTk_m_mHad_bin28[0.00,-7.00,7.00] to be gaussian constrained\n",
      "------------------------------------------------------------\n",
      "29         2.460794        0.791444        total sum                     \n",
      "29         10.000000       3.162278        Unweighted events, alpha=0.246079\n",
      "  => Total parameter prop_binAddTk_m_mHad_bin29[0.00,-7.00,7.00] to be gaussian constrained\n",
      "------------------------------------------------------------\n",
      "Channel AddTk_mm_mHad will use autoMCStats with settings: event-threshold=5, include-signal=1, hist-mode=1\n",
      "============================================================\n",
      "Analysing bin errors for: prop_binAddTk_mm_mHad\n",
      "Poisson cut-off: 5\n",
      "============================================================\n",
      "Bin        Contents        Error           Notes                         \n",
      "0          1.441252        0.405547        total sum                     \n",
      "0          13.000000       3.605551        Unweighted events, alpha=0.110866\n",
      "  => Total parameter prop_binAddTk_mm_mHad_bin0[0.00,-7.00,7.00] to be gaussian constrained\n",
      "------------------------------------------------------------\n",
      "1          17.482732       3.232911        total sum                     \n",
      "1          29.000000       5.385165        Unweighted events, alpha=0.602853\n",
      "  => Total parameter prop_binAddTk_mm_mHad_bin1[0.00,-7.00,7.00] to be gaussian constrained\n",
      "------------------------------------------------------------\n",
      "2          20.869989       2.783390        total sum                     \n",
      "2          56.000000       7.483315        Unweighted events, alpha=0.372678\n",
      "  => Total parameter prop_binAddTk_mm_mHad_bin2[0.00,-7.00,7.00] to be gaussian constrained\n",
      "------------------------------------------------------------\n",
      "3          16.953123       1.936478        total sum                     \n",
      "3          77.000000       8.774964        Unweighted events, alpha=0.220170\n",
      "  => Total parameter prop_binAddTk_mm_mHad_bin3[0.00,-7.00,7.00] to be gaussian constrained\n",
      "------------------------------------------------------------\n",
      "4          21.292703       4.479307        total sum                     \n",
      "4          23.000000       4.795832        Unweighted events, alpha=0.925770\n",
      "  => Total parameter prop_binAddTk_mm_mHad_bin4[0.00,-7.00,7.00] to be gaussian constrained\n",
      "------------------------------------------------------------\n",
      "5          15.497934       2.239858        total sum                     \n",
      "5          48.000000       6.928203        Unweighted events, alpha=0.322874\n",
      "  => Total parameter prop_binAddTk_mm_mHad_bin5[0.00,-7.00,7.00] to be gaussian constrained\n",
      "------------------------------------------------------------\n",
      "6          10.667682       1.887450        total sum                     \n",
      "6          32.000000       5.656854        Unweighted events, alpha=0.333365\n",
      "  => Total parameter prop_binAddTk_mm_mHad_bin6[0.00,-7.00,7.00] to be gaussian constrained\n",
      "------------------------------------------------------------\n",
      "7          6.155356        2.126123        total sum                     \n",
      "7          8.000000        2.828427        Unweighted events, alpha=0.769419\n",
      "  => Total parameter prop_binAddTk_mm_mHad_bin7[0.00,-7.00,7.00] to be gaussian constrained\n",
      "------------------------------------------------------------\n",
      "8          5.640771        1.226052        total sum                     \n",
      "8          21.000000       4.582576        Unweighted events, alpha=0.268608\n",
      "  => Total parameter prop_binAddTk_mm_mHad_bin8[0.00,-7.00,7.00] to be gaussian constrained\n",
      "------------------------------------------------------------\n",
      "9          4.265196        1.242090        total sum                     \n",
      "9          12.000000       3.464102        Unweighted events, alpha=0.355433\n",
      "  => Total parameter prop_binAddTk_mm_mHad_bin9[0.00,-7.00,7.00] to be gaussian constrained\n",
      "------------------------------------------------------------\n",
      "10         2.100317        0.655119        total sum                     \n",
      "10         10.000000       3.162278        Unweighted events, alpha=0.210032\n",
      "  => Total parameter prop_binAddTk_mm_mHad_bin10[0.00,-7.00,7.00] to be gaussian constrained\n",
      "------------------------------------------------------------\n",
      "11         1.313750        0.465247        total sum                     \n",
      "11         8.000000        2.828427        Unweighted events, alpha=0.164219\n",
      "  => Total parameter prop_binAddTk_mm_mHad_bin11[0.00,-7.00,7.00] to be gaussian constrained\n",
      "------------------------------------------------------------\n",
      "12         1.460384        0.393263        total sum                     \n",
      "12         14.000000       3.741657        Unweighted events, alpha=0.104313\n",
      "  => Total parameter prop_binAddTk_mm_mHad_bin12[0.00,-7.00,7.00] to be gaussian constrained\n",
      "------------------------------------------------------------\n",
      "13         0.870403        0.305930        total sum                     \n",
      "13         8.000000        2.828427        Unweighted events, alpha=0.108800\n",
      "  => Total parameter prop_binAddTk_mm_mHad_bin13[0.00,-7.00,7.00] to be gaussian constrained\n",
      "------------------------------------------------------------\n",
      "14         0.479562        0.194720        total sum                     \n",
      "14         6.000000        2.449490        Unweighted events, alpha=0.079927\n",
      "  => Total parameter prop_binAddTk_mm_mHad_bin14[0.00,-7.00,7.00] to be gaussian constrained\n",
      "------------------------------------------------------------\n",
      "Channel AddTk_p_mHad will use autoMCStats with settings: event-threshold=5, include-signal=1, hist-mode=1\n",
      "============================================================\n",
      "Analysing bin errors for: prop_binAddTk_p_mHad\n",
      "Poisson cut-off: 5\n",
      "============================================================\n",
      "Bin        Contents        Error           Notes                         \n",
      "0          41.140757       2.480906        total sum                     \n",
      "0          275.000000      16.583124       Unweighted events, alpha=0.149603\n",
      "  => Total parameter prop_binAddTk_p_mHad_bin0[0.00,-7.00,7.00] to be gaussian constrained\n",
      "------------------------------------------------------------\n",
      "1          186.415399      5.472561        total sum                     \n",
      "1          1160.000000     34.058773       Unweighted events, alpha=0.160703\n",
      "  => Total parameter prop_binAddTk_p_mHad_bin1[0.00,-7.00,7.00] to be gaussian constrained\n",
      "------------------------------------------------------------\n",
      "2          291.530135      6.965236        total sum                     \n",
      "2          1752.000000     41.856899       Unweighted events, alpha=0.166398\n",
      "  => Total parameter prop_binAddTk_p_mHad_bin2[0.00,-7.00,7.00] to be gaussian constrained\n",
      "------------------------------------------------------------\n",
      "3          308.364644      7.056144        total sum                     \n",
      "3          1910.000000     43.703547       Unweighted events, alpha=0.161447\n",
      "  => Total parameter prop_binAddTk_p_mHad_bin3[0.00,-7.00,7.00] to be gaussian constrained\n",
      "------------------------------------------------------------\n",
      "4          301.465273      7.142112        total sum                     \n",
      "4          1782.000000     42.213742       Unweighted events, alpha=0.169172\n",
      "  => Total parameter prop_binAddTk_p_mHad_bin4[0.00,-7.00,7.00] to be gaussian constrained\n",
      "------------------------------------------------------------\n",
      "5          284.786264      7.269165        total sum                     \n",
      "5          1535.000000     39.179076       Unweighted events, alpha=0.185529\n",
      "  => Total parameter prop_binAddTk_p_mHad_bin5[0.00,-7.00,7.00] to be gaussian constrained\n",
      "------------------------------------------------------------\n",
      "6          260.068819      6.915073        total sum                     \n",
      "6          1414.000000     37.603191       Unweighted events, alpha=0.183924\n",
      "  => Total parameter prop_binAddTk_p_mHad_bin6[0.00,-7.00,7.00] to be gaussian constrained\n",
      "------------------------------------------------------------\n",
      "7          239.991394      6.237847        total sum                     \n",
      "7          1480.000000     38.470768       Unweighted events, alpha=0.162156\n",
      "  => Total parameter prop_binAddTk_p_mHad_bin7[0.00,-7.00,7.00] to be gaussian constrained\n",
      "------------------------------------------------------------\n",
      "8          229.683029      6.264909        total sum                     \n",
      "8          1344.000000     36.660606       Unweighted events, alpha=0.170895\n",
      "  => Total parameter prop_binAddTk_p_mHad_bin8[0.00,-7.00,7.00] to be gaussian constrained\n",
      "------------------------------------------------------------\n",
      "9          230.842498      6.458204        total sum                     \n",
      "9          1278.000000     35.749126       Unweighted events, alpha=0.180628\n",
      "  => Total parameter prop_binAddTk_p_mHad_bin9[0.00,-7.00,7.00] to be gaussian constrained\n",
      "------------------------------------------------------------\n",
      "10         214.802200      5.757849        total sum                     \n",
      "10         1392.000000     37.309516       Unweighted events, alpha=0.154312\n",
      "  => Total parameter prop_binAddTk_p_mHad_bin10[0.00,-7.00,7.00] to be gaussian constrained\n",
      "------------------------------------------------------------\n",
      "11         230.209302      5.958852        total sum                     \n",
      "11         1493.000000     38.639358       Unweighted events, alpha=0.154192\n",
      "  => Total parameter prop_binAddTk_p_mHad_bin11[0.00,-7.00,7.00] to be gaussian constrained\n",
      "------------------------------------------------------------\n",
      "12         268.913410      5.850289        total sum                     \n",
      "12         2113.000000     45.967380       Unweighted events, alpha=0.127266\n",
      "  => Total parameter prop_binAddTk_p_mHad_bin12[0.00,-7.00,7.00] to be gaussian constrained\n",
      "------------------------------------------------------------\n",
      "13         413.616570      6.756429        total sum                     \n",
      "13         3748.000000     61.220911       Unweighted events, alpha=0.110357\n",
      "  => Total parameter prop_binAddTk_p_mHad_bin13[0.00,-7.00,7.00] to be gaussian constrained\n",
      "------------------------------------------------------------\n",
      "14         554.657343      6.958997        total sum                     \n",
      "14         6353.000000     79.705709       Unweighted events, alpha=0.087306\n",
      "  => Total parameter prop_binAddTk_p_mHad_bin14[0.00,-7.00,7.00] to be gaussian constrained\n",
      "------------------------------------------------------------\n",
      "15         477.304725      6.558974        total sum                     \n",
      "15         5296.000000     72.773622       Unweighted events, alpha=0.090126\n",
      "  => Total parameter prop_binAddTk_p_mHad_bin15[0.00,-7.00,7.00] to be gaussian constrained\n",
      "------------------------------------------------------------\n",
      "16         341.245788      6.014305        total sum                     \n",
      "16         3219.000000     56.736232       Unweighted events, alpha=0.106010\n",
      "  => Total parameter prop_binAddTk_p_mHad_bin16[0.00,-7.00,7.00] to be gaussian constrained\n",
      "------------------------------------------------------------\n",
      "17         240.796014      4.914499        total sum                     \n",
      "17         2401.000000     49.000000       Unweighted events, alpha=0.100290\n",
      "  => Total parameter prop_binAddTk_p_mHad_bin17[0.00,-7.00,7.00] to be gaussian constrained\n",
      "------------------------------------------------------------\n",
      "18         179.999310      4.718704        total sum                     \n",
      "18         1455.000000     38.144462       Unweighted events, alpha=0.123711\n",
      "  => Total parameter prop_binAddTk_p_mHad_bin18[0.00,-7.00,7.00] to be gaussian constrained\n",
      "------------------------------------------------------------\n",
      "19         148.102541      4.366857        total sum                     \n",
      "19         1150.000000     33.911650       Unweighted events, alpha=0.128785\n",
      "  => Total parameter prop_binAddTk_p_mHad_bin19[0.00,-7.00,7.00] to be gaussian constrained\n",
      "------------------------------------------------------------\n",
      "20         117.349677      4.015045        total sum                     \n",
      "20         854.000000      29.223278       Unweighted events, alpha=0.137412\n",
      "  => Total parameter prop_binAddTk_p_mHad_bin20[0.00,-7.00,7.00] to be gaussian constrained\n",
      "------------------------------------------------------------\n",
      "21         97.824795       3.762497        total sum                     \n",
      "21         676.000000      26.000000       Unweighted events, alpha=0.144711\n",
      "  => Total parameter prop_binAddTk_p_mHad_bin21[0.00,-7.00,7.00] to be gaussian constrained\n",
      "------------------------------------------------------------\n",
      "22         84.989763       3.501963        total sum                     \n",
      "22         589.000000      24.269322       Unweighted events, alpha=0.144295\n",
      "  => Total parameter prop_binAddTk_p_mHad_bin22[0.00,-7.00,7.00] to be gaussian constrained\n",
      "------------------------------------------------------------\n",
      "23         75.509204       3.458977        total sum                     \n",
      "23         477.000000      21.840330       Unweighted events, alpha=0.158300\n",
      "  => Total parameter prop_binAddTk_p_mHad_bin23[0.00,-7.00,7.00] to be gaussian constrained\n",
      "------------------------------------------------------------\n",
      "24         68.365468       3.114995        total sum                     \n",
      "24         482.000000      21.954498       Unweighted events, alpha=0.141837\n",
      "  => Total parameter prop_binAddTk_p_mHad_bin24[0.00,-7.00,7.00] to be gaussian constrained\n",
      "------------------------------------------------------------\n",
      "25         55.971809       2.703239        total sum                     \n",
      "25         429.000000      20.712315       Unweighted events, alpha=0.130470\n",
      "  => Total parameter prop_binAddTk_p_mHad_bin25[0.00,-7.00,7.00] to be gaussian constrained\n",
      "------------------------------------------------------------\n",
      "26         51.596055       2.859838        total sum                     \n",
      "26         325.000000      18.027756       Unweighted events, alpha=0.158757\n",
      "  => Total parameter prop_binAddTk_p_mHad_bin26[0.00,-7.00,7.00] to be gaussian constrained\n",
      "------------------------------------------------------------\n",
      "27         51.028046       2.799529        total sum                     \n",
      "27         332.000000      18.220867       Unweighted events, alpha=0.153699\n",
      "  => Total parameter prop_binAddTk_p_mHad_bin27[0.00,-7.00,7.00] to be gaussian constrained\n",
      "------------------------------------------------------------\n",
      "28         46.834723       2.883276        total sum                     \n",
      "28         264.000000      16.248077       Unweighted events, alpha=0.177404\n",
      "  => Total parameter prop_binAddTk_p_mHad_bin28[0.00,-7.00,7.00] to be gaussian constrained\n",
      "------------------------------------------------------------\n",
      "29         41.058072       2.660449        total sum                     \n",
      "29         238.000000      15.427249       Unweighted events, alpha=0.172513\n",
      "  => Total parameter prop_binAddTk_p_mHad_bin29[0.00,-7.00,7.00] to be gaussian constrained\n",
      "------------------------------------------------------------\n",
      "30         39.195156       2.637271        total sum                     \n",
      "30         221.000000      14.866069       Unweighted events, alpha=0.177354\n",
      "  => Total parameter prop_binAddTk_p_mHad_bin30[0.00,-7.00,7.00] to be gaussian constrained\n",
      "------------------------------------------------------------\n",
      "31         31.883698       2.309566        total sum                     \n",
      "31         191.000000      13.820275       Unweighted events, alpha=0.166930\n",
      "  => Total parameter prop_binAddTk_p_mHad_bin31[0.00,-7.00,7.00] to be gaussian constrained\n",
      "------------------------------------------------------------\n",
      "32         33.229099       2.466866        total sum                     \n",
      "32         181.000000      13.453624       Unweighted events, alpha=0.183586\n",
      "  => Total parameter prop_binAddTk_p_mHad_bin32[0.00,-7.00,7.00] to be gaussian constrained\n",
      "------------------------------------------------------------\n",
      "33         27.389070       1.795520        total sum                     \n",
      "33         233.000000      15.264338       Unweighted events, alpha=0.117550\n",
      "  => Total parameter prop_binAddTk_p_mHad_bin33[0.00,-7.00,7.00] to be gaussian constrained\n",
      "------------------------------------------------------------\n",
      "34         28.761107       2.178352        total sum                     \n",
      "34         174.000000      13.190906       Unweighted events, alpha=0.165294\n",
      "  => Total parameter prop_binAddTk_p_mHad_bin34[0.00,-7.00,7.00] to be gaussian constrained\n",
      "------------------------------------------------------------\n",
      "Channel AddTk_pm_mHad will use autoMCStats with settings: event-threshold=5, include-signal=1, hist-mode=1\n",
      "============================================================\n",
      "Analysing bin errors for: prop_binAddTk_pm_mHad\n",
      "Poisson cut-off: 5\n",
      "============================================================\n",
      "Bin        Contents        Error           Notes                         \n",
      "0          11.465463       1.925922        total sum                     \n",
      "0          35.000000       5.916080        Unweighted events, alpha=0.327585\n",
      "  => Total parameter prop_binAddTk_pm_mHad_bin0[0.00,-7.00,7.00] to be gaussian constrained\n",
      "------------------------------------------------------------\n",
      "1          29.591200       3.756515        total sum                     \n",
      "1          62.000000       7.874008        Unweighted events, alpha=0.477277\n",
      "  => Total parameter prop_binAddTk_pm_mHad_bin1[0.00,-7.00,7.00] to be gaussian constrained\n",
      "------------------------------------------------------------\n",
      "2          41.027932       3.600539        total sum                     \n",
      "2          130.000000      11.401754       Unweighted events, alpha=0.315599\n",
      "  => Total parameter prop_binAddTk_pm_mHad_bin2[0.00,-7.00,7.00] to be gaussian constrained\n",
      "------------------------------------------------------------\n",
      "3          52.009178       5.769957        total sum                     \n",
      "3          81.000000       9.000000        Unweighted events, alpha=0.642089\n",
      "  => Total parameter prop_binAddTk_pm_mHad_bin3[0.00,-7.00,7.00] to be gaussian constrained\n",
      "------------------------------------------------------------\n",
      "4          55.984864       3.627039        total sum                     \n",
      "4          238.000000      15.427249       Unweighted events, alpha=0.235231\n",
      "  => Total parameter prop_binAddTk_pm_mHad_bin4[0.00,-7.00,7.00] to be gaussian constrained\n",
      "------------------------------------------------------------\n",
      "5          96.278619       7.069615        total sum                     \n",
      "5          185.000000      13.601471       Unweighted events, alpha=0.520425\n",
      "  => Total parameter prop_binAddTk_pm_mHad_bin5[0.00,-7.00,7.00] to be gaussian constrained\n",
      "------------------------------------------------------------\n",
      "6          150.202998      4.376141        total sum                     \n",
      "6          1178.000000     34.322005       Unweighted events, alpha=0.127507\n",
      "  => Total parameter prop_binAddTk_pm_mHad_bin6[0.00,-7.00,7.00] to be gaussian constrained\n",
      "------------------------------------------------------------\n",
      "7          161.694157      6.373378        total sum                     \n",
      "7          644.000000      25.377155       Unweighted events, alpha=0.251078\n",
      "  => Total parameter prop_binAddTk_pm_mHad_bin7[0.00,-7.00,7.00] to be gaussian constrained\n",
      "------------------------------------------------------------\n",
      "8          86.693403       4.131327        total sum                     \n",
      "8          440.000000      20.976177       Unweighted events, alpha=0.197030\n",
      "  => Total parameter prop_binAddTk_pm_mHad_bin8[0.00,-7.00,7.00] to be gaussian constrained\n",
      "------------------------------------------------------------\n",
      "9          55.047045       2.788985        total sum                     \n",
      "9          390.000000      19.748418       Unweighted events, alpha=0.141146\n",
      "  => Total parameter prop_binAddTk_pm_mHad_bin9[0.00,-7.00,7.00] to be gaussian constrained\n",
      "------------------------------------------------------------\n",
      "10         55.165460       5.221349        total sum                     \n",
      "10         112.000000      10.583005       Unweighted events, alpha=0.492549\n",
      "  => Total parameter prop_binAddTk_pm_mHad_bin10[0.00,-7.00,7.00] to be gaussian constrained\n",
      "------------------------------------------------------------\n",
      "11         41.226915       3.301590        total sum                     \n",
      "11         156.000000      12.489996       Unweighted events, alpha=0.264275\n",
      "  => Total parameter prop_binAddTk_pm_mHad_bin11[0.00,-7.00,7.00] to be gaussian constrained\n",
      "------------------------------------------------------------\n",
      "12         38.703705       3.466077        total sum                     \n",
      "12         125.000000      11.180340       Unweighted events, alpha=0.309630\n",
      "  => Total parameter prop_binAddTk_pm_mHad_bin12[0.00,-7.00,7.00] to be gaussian constrained\n",
      "------------------------------------------------------------\n",
      "13         31.455999       2.219752        total sum                     \n",
      "13         201.000000      14.177447       Unweighted events, alpha=0.156498\n",
      "  => Total parameter prop_binAddTk_pm_mHad_bin13[0.00,-7.00,7.00] to be gaussian constrained\n",
      "------------------------------------------------------------\n",
      "14         30.593800       4.370961        total sum                     \n",
      "14         49.000000       7.000000        Unweighted events, alpha=0.624363\n",
      "  => Total parameter prop_binAddTk_pm_mHad_bin14[0.00,-7.00,7.00] to be gaussian constrained\n",
      "------------------------------------------------------------\n",
      "15         29.875985       3.301192        total sum                     \n",
      "15         82.000000       9.055385        Unweighted events, alpha=0.364341\n",
      "  => Total parameter prop_binAddTk_pm_mHad_bin15[0.00,-7.00,7.00] to be gaussian constrained\n",
      "------------------------------------------------------------\n",
      "16         19.433215       1.566725        total sum                     \n",
      "16         154.000000      12.409674       Unweighted events, alpha=0.126190\n",
      "  => Total parameter prop_binAddTk_pm_mHad_bin16[0.00,-7.00,7.00] to be gaussian constrained\n",
      "------------------------------------------------------------\n",
      "17         17.078906       2.213641        total sum                     \n",
      "17         60.000000       7.745967        Unweighted events, alpha=0.284648\n",
      "  => Total parameter prop_binAddTk_pm_mHad_bin17[0.00,-7.00,7.00] to be gaussian constrained\n",
      "------------------------------------------------------------\n",
      "18         17.786381       2.104959        total sum                     \n",
      "18         71.000000       8.426150        Unweighted events, alpha=0.250512\n",
      "  => Total parameter prop_binAddTk_pm_mHad_bin18[0.00,-7.00,7.00] to be gaussian constrained\n",
      "------------------------------------------------------------\n",
      "19         11.591012       1.031609        total sum                     \n",
      "19         126.000000      11.224972       Unweighted events, alpha=0.091992\n",
      "  => Total parameter prop_binAddTk_pm_mHad_bin19[0.00,-7.00,7.00] to be gaussian constrained\n",
      "------------------------------------------------------------\n",
      "20         11.765124       1.073878        total sum                     \n",
      "20         120.000000      10.954451       Unweighted events, alpha=0.098043\n",
      "  => Total parameter prop_binAddTk_pm_mHad_bin20[0.00,-7.00,7.00] to be gaussian constrained\n",
      "------------------------------------------------------------\n",
      "21         11.823755       2.878800        total sum                     \n",
      "21         17.000000       4.123106        Unweighted events, alpha=0.695515\n",
      "  => Total parameter prop_binAddTk_pm_mHad_bin21[0.00,-7.00,7.00] to be gaussian constrained\n",
      "------------------------------------------------------------\n",
      "22         8.762537        0.876199        total sum                     \n",
      "22         100.000000      10.000000       Unweighted events, alpha=0.087625\n",
      "  => Total parameter prop_binAddTk_pm_mHad_bin22[0.00,-7.00,7.00] to be gaussian constrained\n",
      "------------------------------------------------------------\n",
      "23         10.345793       2.744650        total sum                     \n",
      "23         14.000000       3.741657        Unweighted events, alpha=0.738985\n",
      "  => Total parameter prop_binAddTk_pm_mHad_bin23[0.00,-7.00,7.00] to be gaussian constrained\n",
      "------------------------------------------------------------\n",
      "24         8.140397        1.357446        total sum                     \n",
      "24         36.000000       6.000000        Unweighted events, alpha=0.226122\n",
      "  => Total parameter prop_binAddTk_pm_mHad_bin24[0.00,-7.00,7.00] to be gaussian constrained\n",
      "------------------------------------------------------------\n",
      "25         6.934802        1.415867        total sum                     \n",
      "25         24.000000       4.898979        Unweighted events, alpha=0.288950\n",
      "  => Total parameter prop_binAddTk_pm_mHad_bin25[0.00,-7.00,7.00] to be gaussian constrained\n",
      "------------------------------------------------------------\n",
      "26         5.434256        0.668966        total sum                     \n",
      "26         66.000000       8.124038        Unweighted events, alpha=0.082337\n",
      "  => Total parameter prop_binAddTk_pm_mHad_bin26[0.00,-7.00,7.00] to be gaussian constrained\n",
      "------------------------------------------------------------\n",
      "27         3.516025        0.430674        total sum                     \n",
      "27         67.000000       8.185353        Unweighted events, alpha=0.052478\n",
      "  => Total parameter prop_binAddTk_pm_mHad_bin27[0.00,-7.00,7.00] to be gaussian constrained\n",
      "------------------------------------------------------------\n",
      "28         4.820097        0.727821        total sum                     \n",
      "28         44.000000       6.633250        Unweighted events, alpha=0.109548\n",
      "  => Total parameter prop_binAddTk_pm_mHad_bin28[0.00,-7.00,7.00] to be gaussian constrained\n",
      "------------------------------------------------------------\n",
      "29         3.557376        0.545260        total sum                     \n",
      "29         43.000000       6.557439        Unweighted events, alpha=0.082730\n",
      "  => Total parameter prop_binAddTk_pm_mHad_bin29[0.00,-7.00,7.00] to be gaussian constrained\n",
      "------------------------------------------------------------\n",
      "Channel AddTk_pm_mVis will use autoMCStats with settings: event-threshold=5, include-signal=1, hist-mode=1\n",
      "============================================================\n",
      "Analysing bin errors for: prop_binAddTk_pm_mVis\n",
      "Poisson cut-off: 5\n",
      "============================================================\n",
      "Bin        Contents        Error           Notes                         \n",
      "0          2.996944        0.569832        total sum                     \n",
      "0          28.000000       5.291503        Unweighted events, alpha=0.107034\n",
      "  => Total parameter prop_binAddTk_pm_mVis_bin0[0.00,-7.00,7.00] to be gaussian constrained\n",
      "------------------------------------------------------------\n",
      "1          2.568653        0.443660        total sum                     \n",
      "1          34.000000       5.830952        Unweighted events, alpha=0.075549\n",
      "  => Total parameter prop_binAddTk_pm_mVis_bin1[0.00,-7.00,7.00] to be gaussian constrained\n",
      "------------------------------------------------------------\n",
      "2          5.999546        0.602590        total sum                     \n",
      "2          99.000000       9.949874        Unweighted events, alpha=0.060601\n",
      "  => Total parameter prop_binAddTk_pm_mVis_bin2[0.00,-7.00,7.00] to be gaussian constrained\n",
      "------------------------------------------------------------\n",
      "3          9.835141        0.844820        total sum                     \n",
      "3          136.000000      11.661904       Unweighted events, alpha=0.072317\n",
      "  => Total parameter prop_binAddTk_pm_mVis_bin3[0.00,-7.00,7.00] to be gaussian constrained\n",
      "------------------------------------------------------------\n",
      "4          16.116547       1.403531        total sum                     \n",
      "4          132.000000      11.489125       Unweighted events, alpha=0.122095\n",
      "  => Total parameter prop_binAddTk_pm_mVis_bin4[0.00,-7.00,7.00] to be gaussian constrained\n",
      "------------------------------------------------------------\n",
      "5          25.343473       3.065967        total sum                     \n",
      "5          68.000000       8.246211        Unweighted events, alpha=0.372698\n",
      "  => Total parameter prop_binAddTk_pm_mVis_bin5[0.00,-7.00,7.00] to be gaussian constrained\n",
      "------------------------------------------------------------\n",
      "6          31.545333       2.122113        total sum                     \n",
      "6          221.000000      14.866069       Unweighted events, alpha=0.142739\n",
      "  => Total parameter prop_binAddTk_pm_mVis_bin6[0.00,-7.00,7.00] to be gaussian constrained\n",
      "------------------------------------------------------------\n",
      "7          35.818154       1.607968        total sum                     \n",
      "7          496.000000      22.271057       Unweighted events, alpha=0.072214\n",
      "  => Total parameter prop_binAddTk_pm_mVis_bin7[0.00,-7.00,7.00] to be gaussian constrained\n",
      "------------------------------------------------------------\n",
      "8          48.023718       3.270096        total sum                     \n",
      "8          216.000000      14.696938       Unweighted events, alpha=0.222332\n",
      "  => Total parameter prop_binAddTk_pm_mVis_bin8[0.00,-7.00,7.00] to be gaussian constrained\n",
      "------------------------------------------------------------\n",
      "9          59.200826       6.239771        total sum                     \n",
      "9          90.000000       9.486833        Unweighted events, alpha=0.657787\n",
      "  => Total parameter prop_binAddTk_pm_mVis_bin9[0.00,-7.00,7.00] to be gaussian constrained\n",
      "------------------------------------------------------------\n",
      "10         54.509787       2.548179        total sum                     \n",
      "10         458.000000      21.400935       Unweighted events, alpha=0.119017\n",
      "  => Total parameter prop_binAddTk_pm_mVis_bin10[0.00,-7.00,7.00] to be gaussian constrained\n",
      "------------------------------------------------------------\n",
      "11         59.334650       2.967658        total sum                     \n",
      "11         400.000000      20.000000       Unweighted events, alpha=0.148337\n",
      "  => Total parameter prop_binAddTk_pm_mVis_bin11[0.00,-7.00,7.00] to be gaussian constrained\n",
      "------------------------------------------------------------\n",
      "12         64.604628       2.877618        total sum                     \n",
      "12         504.000000      22.449944       Unweighted events, alpha=0.128184\n",
      "  => Total parameter prop_binAddTk_pm_mVis_bin12[0.00,-7.00,7.00] to be gaussian constrained\n",
      "------------------------------------------------------------\n",
      "13         71.891032       4.041806        total sum                     \n",
      "13         316.000000      17.776389       Unweighted events, alpha=0.227503\n",
      "  => Total parameter prop_binAddTk_pm_mVis_bin13[0.00,-7.00,7.00] to be gaussian constrained\n",
      "------------------------------------------------------------\n",
      "14         78.930812       4.792663        total sum                     \n",
      "14         271.000000      16.462078       Unweighted events, alpha=0.291258\n",
      "  => Total parameter prop_binAddTk_pm_mVis_bin14[0.00,-7.00,7.00] to be gaussian constrained\n",
      "------------------------------------------------------------\n",
      "15         74.754662       3.594983        total sum                     \n",
      "15         432.000000      20.784610       Unweighted events, alpha=0.173043\n",
      "  => Total parameter prop_binAddTk_pm_mVis_bin15[0.00,-7.00,7.00] to be gaussian constrained\n",
      "------------------------------------------------------------\n",
      "16         80.388636       5.115672        total sum                     \n",
      "16         247.000000      15.716234       Unweighted events, alpha=0.325460\n",
      "  => Total parameter prop_binAddTk_pm_mVis_bin16[0.00,-7.00,7.00] to be gaussian constrained\n",
      "------------------------------------------------------------\n",
      "17         69.186123       3.361031        total sum                     \n",
      "17         424.000000      20.591260       Unweighted events, alpha=0.163175\n",
      "  => Total parameter prop_binAddTk_pm_mVis_bin17[0.00,-7.00,7.00] to be gaussian constrained\n",
      "------------------------------------------------------------\n",
      "18         76.329693       5.321720        total sum                     \n",
      "18         206.000000      14.352700       Unweighted events, alpha=0.370532\n",
      "  => Total parameter prop_binAddTk_pm_mVis_bin18[0.00,-7.00,7.00] to be gaussian constrained\n",
      "------------------------------------------------------------\n",
      "19         69.314896       6.054395        total sum                     \n",
      "19         131.000000      11.445523       Unweighted events, alpha=0.529121\n",
      "  => Total parameter prop_binAddTk_pm_mVis_bin19[0.00,-7.00,7.00] to be gaussian constrained\n",
      "------------------------------------------------------------\n",
      "20         52.852544       3.827438        total sum                     \n",
      "20         191.000000      13.820275       Unweighted events, alpha=0.276715\n",
      "  => Total parameter prop_binAddTk_pm_mVis_bin20[0.00,-7.00,7.00] to be gaussian constrained\n",
      "------------------------------------------------------------\n",
      "21         51.666963       4.427103        total sum                     \n",
      "21         136.000000      11.661904       Unweighted events, alpha=0.379904\n",
      "  => Total parameter prop_binAddTk_pm_mVis_bin21[0.00,-7.00,7.00] to be gaussian constrained\n",
      "------------------------------------------------------------\n",
      "22         42.210238       4.277829        total sum                     \n",
      "22         97.000000       9.848858        Unweighted events, alpha=0.435157\n",
      "  => Total parameter prop_binAddTk_pm_mVis_bin22[0.00,-7.00,7.00] to be gaussian constrained\n",
      "------------------------------------------------------------\n",
      "23         37.788515       5.818711        total sum                     \n",
      "23         42.000000       6.480741        Unweighted events, alpha=0.899727\n",
      "  => Total parameter prop_binAddTk_pm_mVis_bin23[0.00,-7.00,7.00] to be gaussian constrained\n",
      "------------------------------------------------------------\n",
      "Channel AddTk_pp_mHad will use autoMCStats with settings: event-threshold=5, include-signal=1, hist-mode=1\n",
      "============================================================\n",
      "Analysing bin errors for: prop_binAddTk_pp_mHad\n",
      "Poisson cut-off: 5\n",
      "============================================================\n",
      "Bin        Contents        Error           Notes                         \n",
      "0          5.186207        1.795266        total sum                     \n",
      "0          8.000000        2.828427        Unweighted events, alpha=0.648276\n",
      "  => Total parameter prop_binAddTk_pp_mHad_bin0[0.00,-7.00,7.00] to be gaussian constrained\n",
      "------------------------------------------------------------\n",
      "1          31.236558       3.088118        total sum                     \n",
      "1          102.000000      10.099505       Unweighted events, alpha=0.306241\n",
      "  => Total parameter prop_binAddTk_pp_mHad_bin1[0.00,-7.00,7.00] to be gaussian constrained\n",
      "------------------------------------------------------------\n",
      "2          40.216733       3.412535        total sum                     \n",
      "2          139.000000      11.789826       Unweighted events, alpha=0.289329\n",
      "  => Total parameter prop_binAddTk_pp_mHad_bin2[0.00,-7.00,7.00] to be gaussian constrained\n",
      "------------------------------------------------------------\n",
      "3          54.322311       3.636399        total sum                     \n",
      "3          223.000000      14.933185       Unweighted events, alpha=0.243598\n",
      "  => Total parameter prop_binAddTk_pp_mHad_bin3[0.00,-7.00,7.00] to be gaussian constrained\n",
      "------------------------------------------------------------\n",
      "4          44.005544       3.447516        total sum                     \n",
      "4          163.000000      12.767145       Unweighted events, alpha=0.269973\n",
      "  => Total parameter prop_binAddTk_pp_mHad_bin4[0.00,-7.00,7.00] to be gaussian constrained\n",
      "------------------------------------------------------------\n",
      "5          32.115007       2.384643        total sum                     \n",
      "5          181.000000      13.453624       Unweighted events, alpha=0.177431\n",
      "  => Total parameter prop_binAddTk_pp_mHad_bin5[0.00,-7.00,7.00] to be gaussian constrained\n",
      "------------------------------------------------------------\n",
      "6          20.313682       2.385947        total sum                     \n",
      "6          72.000000       8.485281        Unweighted events, alpha=0.282134\n",
      "  => Total parameter prop_binAddTk_pp_mHad_bin6[0.00,-7.00,7.00] to be gaussian constrained\n",
      "------------------------------------------------------------\n",
      "7          17.232061       2.569723        total sum                     \n",
      "7          45.000000       6.708204        Unweighted events, alpha=0.382935\n",
      "  => Total parameter prop_binAddTk_pp_mHad_bin7[0.00,-7.00,7.00] to be gaussian constrained\n",
      "------------------------------------------------------------\n",
      "8          10.916662       1.419592        total sum                     \n",
      "8          59.000000       7.681146        Unweighted events, alpha=0.185028\n",
      "  => Total parameter prop_binAddTk_pp_mHad_bin8[0.00,-7.00,7.00] to be gaussian constrained\n",
      "------------------------------------------------------------\n",
      "9          8.794906        1.835351        total sum                     \n",
      "9          23.000000       4.795832        Unweighted events, alpha=0.382387\n",
      "  => Total parameter prop_binAddTk_pp_mHad_bin9[0.00,-7.00,7.00] to be gaussian constrained\n",
      "------------------------------------------------------------\n",
      "10         5.133175        0.983150        total sum                     \n",
      "10         27.000000       5.196152        Unweighted events, alpha=0.190118\n",
      "  => Total parameter prop_binAddTk_pp_mHad_bin10[0.00,-7.00,7.00] to be gaussian constrained\n",
      "------------------------------------------------------------\n",
      "11         4.099183        1.136100        total sum                     \n",
      "11         13.000000       3.605551        Unweighted events, alpha=0.315322\n",
      "  => Total parameter prop_binAddTk_pp_mHad_bin11[0.00,-7.00,7.00] to be gaussian constrained\n",
      "------------------------------------------------------------\n",
      "12         1.808999        0.432457        total sum                     \n",
      "12         17.000000       4.123106        Unweighted events, alpha=0.106412\n",
      "  => Total parameter prop_binAddTk_pp_mHad_bin12[0.00,-7.00,7.00] to be gaussian constrained\n",
      "------------------------------------------------------------\n",
      "13         1.383153        0.358060        total sum                     \n",
      "13         15.000000       3.872983        Unweighted events, alpha=0.092210\n",
      "  => Total parameter prop_binAddTk_pp_mHad_bin13[0.00,-7.00,7.00] to be gaussian constrained\n",
      "------------------------------------------------------------\n",
      "14         0.941525        0.315262        total sum                     \n",
      "14         9.000000        3.000000        Unweighted events, alpha=0.104614\n",
      "  => Total parameter prop_binAddTk_pp_mHad_bin14[0.00,-7.00,7.00] to be gaussian constrained\n",
      "------------------------------------------------------------\n",
      "Channel Est_mu_q2bin0 will use autoMCStats with settings: event-threshold=5, include-signal=1, hist-mode=1\n",
      "============================================================\n",
      "Analysing bin errors for: prop_binEst_mu_q2bin0\n",
      "Poisson cut-off: 5\n",
      "============================================================\n",
      "Bin        Contents        Error           Notes                         \n",
      "0          235.322060      5.324907        total sum                     \n",
      "0          1953.000000     44.192760       Unweighted events, alpha=0.120493\n",
      "  => Total parameter prop_binEst_mu_q2bin0_bin0[0.00,-7.00,7.00] to be gaussian constrained\n",
      "------------------------------------------------------------\n",
      "1          210.114395      4.933444        total sum                     \n",
      "1          1814.000000     42.591079       Unweighted events, alpha=0.115829\n",
      "  => Total parameter prop_binEst_mu_q2bin0_bin1[0.00,-7.00,7.00] to be gaussian constrained\n",
      "------------------------------------------------------------\n",
      "2          321.704295      6.072884        total sum                     \n",
      "2          2806.000000     52.971691       Unweighted events, alpha=0.114649\n",
      "  => Total parameter prop_binEst_mu_q2bin0_bin2[0.00,-7.00,7.00] to be gaussian constrained\n",
      "------------------------------------------------------------\n",
      "3          411.575293      6.760105        total sum                     \n",
      "3          3707.000000     60.885138       Unweighted events, alpha=0.111027\n",
      "  => Total parameter prop_binEst_mu_q2bin0_bin3[0.00,-7.00,7.00] to be gaussian constrained\n",
      "------------------------------------------------------------\n",
      "4          547.323382      7.821189        total sum                     \n",
      "4          4897.000000     69.978568       Unweighted events, alpha=0.111767\n",
      "  => Total parameter prop_binEst_mu_q2bin0_bin4[0.00,-7.00,7.00] to be gaussian constrained\n",
      "------------------------------------------------------------\n",
      "5          654.840487      8.362879        total sum                     \n",
      "5          6131.000000     78.300702       Unweighted events, alpha=0.106808\n",
      "  => Total parameter prop_binEst_mu_q2bin0_bin5[0.00,-7.00,7.00] to be gaussian constrained\n",
      "------------------------------------------------------------\n",
      "6          739.135200      9.032604        total sum                     \n",
      "6          6696.000000     81.829090       Unweighted events, alpha=0.110385\n",
      "  => Total parameter prop_binEst_mu_q2bin0_bin6[0.00,-7.00,7.00] to be gaussian constrained\n",
      "------------------------------------------------------------\n",
      "7          792.879669      9.037547        total sum                     \n",
      "7          7697.000000     87.732548       Unweighted events, alpha=0.103012\n",
      "  => Total parameter prop_binEst_mu_q2bin0_bin7[0.00,-7.00,7.00] to be gaussian constrained\n",
      "------------------------------------------------------------\n",
      "8          882.062822      9.513864        total sum                     \n",
      "8          8596.000000     92.714616       Unweighted events, alpha=0.102613\n",
      "  => Total parameter prop_binEst_mu_q2bin0_bin8[0.00,-7.00,7.00] to be gaussian constrained\n",
      "------------------------------------------------------------\n",
      "9          914.888997      9.662891        total sum                     \n",
      "9          8964.000000     94.678403       Unweighted events, alpha=0.102063\n",
      "  => Total parameter prop_binEst_mu_q2bin0_bin9[0.00,-7.00,7.00] to be gaussian constrained\n",
      "------------------------------------------------------------\n",
      "10         932.511992      9.627944        total sum                     \n",
      "10         9381.000000     96.855563       Unweighted events, alpha=0.099404\n",
      "  => Total parameter prop_binEst_mu_q2bin0_bin10[0.00,-7.00,7.00] to be gaussian constrained\n",
      "------------------------------------------------------------\n",
      "11         921.715527      9.637632        total sum                     \n",
      "11         9146.000000     95.634722       Unweighted events, alpha=0.100778\n",
      "  => Total parameter prop_binEst_mu_q2bin0_bin11[0.00,-7.00,7.00] to be gaussian constrained\n",
      "------------------------------------------------------------\n",
      "12         892.727950      9.389211        total sum                     \n",
      "12         9040.000000     95.078915       Unweighted events, alpha=0.098753\n",
      "  => Total parameter prop_binEst_mu_q2bin0_bin12[0.00,-7.00,7.00] to be gaussian constrained\n",
      "------------------------------------------------------------\n",
      "13         820.112498      9.082137        total sum                     \n",
      "13         8154.000000     90.299502       Unweighted events, alpha=0.100578\n",
      "  => Total parameter prop_binEst_mu_q2bin0_bin13[0.00,-7.00,7.00] to be gaussian constrained\n",
      "------------------------------------------------------------\n",
      "14         693.610918      8.104256        total sum                     \n",
      "14         7325.000000     85.586214       Unweighted events, alpha=0.094691\n",
      "  => Total parameter prop_binEst_mu_q2bin0_bin14[0.00,-7.00,7.00] to be gaussian constrained\n",
      "------------------------------------------------------------\n",
      "15         478.854290      6.631761        total sum                     \n",
      "15         5214.000000     72.208033       Unweighted events, alpha=0.091840\n",
      "  => Total parameter prop_binEst_mu_q2bin0_bin15[0.00,-7.00,7.00] to be gaussian constrained\n",
      "------------------------------------------------------------\n",
      "16         195.912533      4.184301        total sum                     \n",
      "16         2192.000000     46.818800       Unweighted events, alpha=0.089376\n",
      "  => Total parameter prop_binEst_mu_q2bin0_bin16[0.00,-7.00,7.00] to be gaussian constrained\n",
      "------------------------------------------------------------\n",
      "Channel Est_mu_q2bin1 will use autoMCStats with settings: event-threshold=5, include-signal=1, hist-mode=1\n",
      "============================================================\n",
      "Analysing bin errors for: prop_binEst_mu_q2bin1\n",
      "Poisson cut-off: 5\n",
      "============================================================\n",
      "Bin        Contents        Error           Notes                         \n",
      "0          398.552718      6.585817        total sum                     \n",
      "0          3662.000000     60.514461       Unweighted events, alpha=0.108835\n",
      "  => Total parameter prop_binEst_mu_q2bin1_bin0[0.00,-7.00,7.00] to be gaussian constrained\n",
      "------------------------------------------------------------\n",
      "1          438.600444      6.884725        total sum                     \n",
      "1          4058.000000     63.702433       Unweighted events, alpha=0.108083\n",
      "  => Total parameter prop_binEst_mu_q2bin1_bin1[0.00,-7.00,7.00] to be gaussian constrained\n",
      "------------------------------------------------------------\n",
      "2          675.896256      8.453268        total sum                     \n",
      "2          6393.000000     79.956238       Unweighted events, alpha=0.105724\n",
      "  => Total parameter prop_binEst_mu_q2bin1_bin2[0.00,-7.00,7.00] to be gaussian constrained\n",
      "------------------------------------------------------------\n",
      "3          919.746346      9.876170        total sum                     \n",
      "3          8673.000000     93.128943       Unweighted events, alpha=0.106047\n",
      "  => Total parameter prop_binEst_mu_q2bin1_bin3[0.00,-7.00,7.00] to be gaussian constrained\n",
      "------------------------------------------------------------\n",
      "4          1126.148699     10.837841       total sum                     \n",
      "4          10797.000000    103.908614      Unweighted events, alpha=0.104302\n",
      "  => Total parameter prop_binEst_mu_q2bin1_bin4[0.00,-7.00,7.00] to be gaussian constrained\n",
      "------------------------------------------------------------\n",
      "5          1268.101977     11.474374       total sum                     \n",
      "5          12214.000000    110.516967      Unweighted events, alpha=0.103824\n",
      "  => Total parameter prop_binEst_mu_q2bin1_bin5[0.00,-7.00,7.00] to be gaussian constrained\n",
      "------------------------------------------------------------\n",
      "6          1440.497677     12.207480       total sum                     \n",
      "6          13924.000000    118.000000      Unweighted events, alpha=0.103454\n",
      "  => Total parameter prop_binEst_mu_q2bin1_bin6[0.00,-7.00,7.00] to be gaussian constrained\n",
      "------------------------------------------------------------\n",
      "7          1531.706683     12.510963       total sum                     \n",
      "7          14989.000000    122.429572      Unweighted events, alpha=0.102189\n",
      "  => Total parameter prop_binEst_mu_q2bin1_bin7[0.00,-7.00,7.00] to be gaussian constrained\n",
      "------------------------------------------------------------\n",
      "8          1653.694370     13.070194       total sum                     \n",
      "8          16008.000000    126.522725      Unweighted events, alpha=0.103304\n",
      "  => Total parameter prop_binEst_mu_q2bin1_bin8[0.00,-7.00,7.00] to be gaussian constrained\n",
      "------------------------------------------------------------\n",
      "9          1731.120883     13.283519       total sum                     \n",
      "9          16984.000000    130.322676      Unweighted events, alpha=0.101927\n",
      "  => Total parameter prop_binEst_mu_q2bin1_bin9[0.00,-7.00,7.00] to be gaussian constrained\n",
      "------------------------------------------------------------\n",
      "10         1844.986296     13.755540       total sum                     \n",
      "10         17990.000000    134.126806      Unweighted events, alpha=0.102556\n",
      "  => Total parameter prop_binEst_mu_q2bin1_bin10[0.00,-7.00,7.00] to be gaussian constrained\n",
      "------------------------------------------------------------\n",
      "11         1922.736098     14.514700       total sum                     \n",
      "11         17548.000000    132.468864      Unweighted events, alpha=0.109570\n",
      "  => Total parameter prop_binEst_mu_q2bin1_bin11[0.00,-7.00,7.00] to be gaussian constrained\n",
      "------------------------------------------------------------\n",
      "12         1938.552167     14.074458       total sum                     \n",
      "12         18971.000000    137.735253      Unweighted events, alpha=0.102185\n",
      "  => Total parameter prop_binEst_mu_q2bin1_bin12[0.00,-7.00,7.00] to be gaussian constrained\n",
      "------------------------------------------------------------\n",
      "13         1952.320519     14.121642       total sum                     \n",
      "13         19113.000000    138.249774      Unweighted events, alpha=0.102146\n",
      "  => Total parameter prop_binEst_mu_q2bin1_bin13[0.00,-7.00,7.00] to be gaussian constrained\n",
      "------------------------------------------------------------\n",
      "14         1735.557355     13.310820       total sum                     \n",
      "14         17001.000000    130.387883      Unweighted events, alpha=0.102086\n",
      "  => Total parameter prop_binEst_mu_q2bin1_bin14[0.00,-7.00,7.00] to be gaussian constrained\n",
      "------------------------------------------------------------\n",
      "15         1052.188797     10.187168       total sum                     \n",
      "15         10668.000000    103.286011      Unweighted events, alpha=0.098630\n",
      "  => Total parameter prop_binEst_mu_q2bin1_bin15[0.00,-7.00,7.00] to be gaussian constrained\n",
      "------------------------------------------------------------\n",
      "16         350.578380      5.790811        total sum                     \n",
      "16         3665.000000     60.539243       Unweighted events, alpha=0.095656\n",
      "  => Total parameter prop_binEst_mu_q2bin1_bin16[0.00,-7.00,7.00] to be gaussian constrained\n",
      "------------------------------------------------------------\n",
      "17         99.678543       3.102661        total sum                     \n",
      "17         1032.000000     32.124757       Unweighted events, alpha=0.096588\n",
      "  => Total parameter prop_binEst_mu_q2bin1_bin17[0.00,-7.00,7.00] to be gaussian constrained\n",
      "------------------------------------------------------------\n",
      "18         58.651979       2.396553        total sum                     \n",
      "18         599.000000      24.474477       Unweighted events, alpha=0.097916\n",
      "  => Total parameter prop_binEst_mu_q2bin1_bin18[0.00,-7.00,7.00] to be gaussian constrained\n",
      "------------------------------------------------------------\n",
      "Channel Est_mu_q2bin2 will use autoMCStats with settings: event-threshold=5, include-signal=1, hist-mode=1\n",
      "============================================================\n",
      "Analysing bin errors for: prop_binEst_mu_q2bin2\n",
      "Poisson cut-off: 5\n",
      "============================================================\n",
      "Bin        Contents        Error           Notes                         \n",
      "0          81.556873       2.618712        total sum                     \n",
      "0          970.000000      31.144823       Unweighted events, alpha=0.084079\n",
      "  => Total parameter prop_binEst_mu_q2bin2_bin0[0.00,-7.00,7.00] to be gaussian constrained\n",
      "------------------------------------------------------------\n",
      "1          131.367861      3.297015        total sum                     \n",
      "1          1588.000000     39.849718       Unweighted events, alpha=0.082725\n",
      "  => Total parameter prop_binEst_mu_q2bin2_bin1[0.00,-7.00,7.00] to be gaussian constrained\n",
      "------------------------------------------------------------\n",
      "2          270.340041      4.924768        total sum                     \n",
      "2          3013.000000     54.890801       Unweighted events, alpha=0.089725\n",
      "  => Total parameter prop_binEst_mu_q2bin2_bin2[0.00,-7.00,7.00] to be gaussian constrained\n",
      "------------------------------------------------------------\n",
      "3          443.675214      6.404970        total sum                     \n",
      "3          4798.000000     69.267597       Unweighted events, alpha=0.092471\n",
      "  => Total parameter prop_binEst_mu_q2bin2_bin3[0.00,-7.00,7.00] to be gaussian constrained\n",
      "------------------------------------------------------------\n",
      "4          653.992952      7.861124        total sum                     \n",
      "4          6921.000000     83.192548       Unweighted events, alpha=0.094494\n",
      "  => Total parameter prop_binEst_mu_q2bin2_bin4[0.00,-7.00,7.00] to be gaussian constrained\n",
      "------------------------------------------------------------\n",
      "5          895.800121      15.038822       total sum                     \n",
      "5          3548.000000     59.565090       Unweighted events, alpha=0.252480\n",
      "  => Total parameter prop_binEst_mu_q2bin2_bin5[0.00,-7.00,7.00] to be gaussian constrained\n",
      "------------------------------------------------------------\n",
      "6          1053.922889     10.179983       total sum                     \n",
      "6          10718.000000    103.527774      Unweighted events, alpha=0.098332\n",
      "  => Total parameter prop_binEst_mu_q2bin2_bin6[0.00,-7.00,7.00] to be gaussian constrained\n",
      "------------------------------------------------------------\n",
      "7          1230.081713     11.209160       total sum                     \n",
      "7          12043.000000    109.740603      Unweighted events, alpha=0.102141\n",
      "  => Total parameter prop_binEst_mu_q2bin2_bin7[0.00,-7.00,7.00] to be gaussian constrained\n",
      "------------------------------------------------------------\n",
      "8          1356.495816     11.904852       total sum                     \n",
      "8          12983.000000    113.942968      Unweighted events, alpha=0.104482\n",
      "  => Total parameter prop_binEst_mu_q2bin2_bin8[0.00,-7.00,7.00] to be gaussian constrained\n",
      "------------------------------------------------------------\n",
      "9          1498.086139     13.317935       total sum                     \n",
      "9          12653.000000    112.485555      Unweighted events, alpha=0.118398\n",
      "  => Total parameter prop_binEst_mu_q2bin2_bin9[0.00,-7.00,7.00] to be gaussian constrained\n",
      "------------------------------------------------------------\n",
      "10         1571.521080     13.057159       total sum                     \n",
      "10         14486.000000    120.357800      Unweighted events, alpha=0.108486\n",
      "  => Total parameter prop_binEst_mu_q2bin2_bin10[0.00,-7.00,7.00] to be gaussian constrained\n",
      "------------------------------------------------------------\n",
      "11         1690.811869     13.693381       total sum                     \n",
      "11         15246.000000    123.474694      Unweighted events, alpha=0.110902\n",
      "  => Total parameter prop_binEst_mu_q2bin2_bin11[0.00,-7.00,7.00] to be gaussian constrained\n",
      "------------------------------------------------------------\n",
      "12         1786.348489     14.240928       total sum                     \n",
      "12         15735.000000    125.439228      Unweighted events, alpha=0.113527\n",
      "  => Total parameter prop_binEst_mu_q2bin2_bin12[0.00,-7.00,7.00] to be gaussian constrained\n",
      "------------------------------------------------------------\n",
      "13         1858.404051     14.766742       total sum                     \n",
      "13         15838.000000    125.849116      Unweighted events, alpha=0.117338\n",
      "  => Total parameter prop_binEst_mu_q2bin2_bin13[0.00,-7.00,7.00] to be gaussian constrained\n",
      "------------------------------------------------------------\n",
      "14         1876.312171     14.885154       total sum                     \n",
      "14         15889.000000    126.051577      Unweighted events, alpha=0.118089\n",
      "  => Total parameter prop_binEst_mu_q2bin2_bin14[0.00,-7.00,7.00] to be gaussian constrained\n",
      "------------------------------------------------------------\n",
      "15         1596.876663     13.525597       total sum                     \n",
      "15         13939.000000    118.063542      Unweighted events, alpha=0.114562\n",
      "  => Total parameter prop_binEst_mu_q2bin2_bin15[0.00,-7.00,7.00] to be gaussian constrained\n",
      "------------------------------------------------------------\n",
      "16         966.172777      10.417129       total sum                     \n",
      "16         8602.000000     92.746968       Unweighted events, alpha=0.112320\n",
      "  => Total parameter prop_binEst_mu_q2bin2_bin16[0.00,-7.00,7.00] to be gaussian constrained\n",
      "------------------------------------------------------------\n",
      "17         350.469648      6.268176        total sum                     \n",
      "17         3126.000000     55.910643       Unweighted events, alpha=0.112114\n",
      "  => Total parameter prop_binEst_mu_q2bin2_bin17[0.00,-7.00,7.00] to be gaussian constrained\n",
      "------------------------------------------------------------\n",
      "18         114.946398      3.502048        total sum                     \n",
      "18         1077.000000     32.817678       Unweighted events, alpha=0.106728\n",
      "  => Total parameter prop_binEst_mu_q2bin2_bin18[0.00,-7.00,7.00] to be gaussian constrained\n",
      "------------------------------------------------------------\n",
      "19         46.968674       2.201674        total sum                     \n",
      "19         455.000000      21.330729       Unweighted events, alpha=0.103228\n",
      "  => Total parameter prop_binEst_mu_q2bin2_bin19[0.00,-7.00,7.00] to be gaussian constrained\n",
      "------------------------------------------------------------\n",
      "20         60.818898       2.448137        total sum                     \n",
      "20         617.000000      24.839485       Unweighted events, alpha=0.098572\n",
      "  => Total parameter prop_binEst_mu_q2bin2_bin20[0.00,-7.00,7.00] to be gaussian constrained\n",
      "------------------------------------------------------------\n",
      "Channel Est_mu_q2bin3 will use autoMCStats with settings: event-threshold=5, include-signal=1, hist-mode=1\n",
      "============================================================\n",
      "Analysing bin errors for: prop_binEst_mu_q2bin3\n",
      "Poisson cut-off: 5\n",
      "============================================================\n",
      "Bin        Contents        Error           Notes                         \n",
      "0          10.499700       0.842611        total sum                     \n",
      "0          155.000000      12.449900       Unweighted events, alpha=0.067740\n",
      "  => Total parameter prop_binEst_mu_q2bin3_bin0[0.00,-7.00,7.00] to be gaussian constrained\n",
      "------------------------------------------------------------\n",
      "1          21.584334       1.249151        total sum                     \n",
      "1          299.000000      17.291616       Unweighted events, alpha=0.072188\n",
      "  => Total parameter prop_binEst_mu_q2bin3_bin1[0.00,-7.00,7.00] to be gaussian constrained\n",
      "------------------------------------------------------------\n",
      "2          40.246656       1.737911        total sum                     \n",
      "2          536.000000      23.151674       Unweighted events, alpha=0.075087\n",
      "  => Total parameter prop_binEst_mu_q2bin3_bin2[0.00,-7.00,7.00] to be gaussian constrained\n",
      "------------------------------------------------------------\n",
      "3          66.679919       2.303963        total sum                     \n",
      "3          838.000000      28.948230       Unweighted events, alpha=0.079570\n",
      "  => Total parameter prop_binEst_mu_q2bin3_bin3[0.00,-7.00,7.00] to be gaussian constrained\n",
      "------------------------------------------------------------\n",
      "4          80.766806       2.539467        total sum                     \n",
      "4          1012.000000     31.811947       Unweighted events, alpha=0.079809\n",
      "  => Total parameter prop_binEst_mu_q2bin3_bin4[0.00,-7.00,7.00] to be gaussian constrained\n",
      "------------------------------------------------------------\n",
      "5          95.948994       2.946223        total sum                     \n",
      "5          1061.000000     32.572995       Unweighted events, alpha=0.090433\n",
      "  => Total parameter prop_binEst_mu_q2bin3_bin5[0.00,-7.00,7.00] to be gaussian constrained\n",
      "------------------------------------------------------------\n",
      "6          109.580075      3.148224        total sum                     \n",
      "6          1212.000000     34.813790       Unweighted events, alpha=0.090413\n",
      "  => Total parameter prop_binEst_mu_q2bin3_bin6[0.00,-7.00,7.00] to be gaussian constrained\n",
      "------------------------------------------------------------\n",
      "7          135.688287      3.662662        total sum                     \n",
      "7          1372.000000     37.040518       Unweighted events, alpha=0.098898\n",
      "  => Total parameter prop_binEst_mu_q2bin3_bin7[0.00,-7.00,7.00] to be gaussian constrained\n",
      "------------------------------------------------------------\n",
      "8          148.916681      3.874567        total sum                     \n",
      "8          1477.000000     38.431758       Unweighted events, alpha=0.100824\n",
      "  => Total parameter prop_binEst_mu_q2bin3_bin8[0.00,-7.00,7.00] to be gaussian constrained\n",
      "------------------------------------------------------------\n",
      "9          195.033862      5.232585        total sum                     \n",
      "9          1389.000000     37.269290       Unweighted events, alpha=0.140413\n",
      "  => Total parameter prop_binEst_mu_q2bin3_bin9[0.00,-7.00,7.00] to be gaussian constrained\n",
      "------------------------------------------------------------\n",
      "10         240.493040      5.304273        total sum                     \n",
      "10         2056.000000     45.343136       Unweighted events, alpha=0.116971\n",
      "  => Total parameter prop_binEst_mu_q2bin3_bin10[0.00,-7.00,7.00] to be gaussian constrained\n",
      "------------------------------------------------------------\n",
      "11         277.648155      5.782908        total sum                     \n",
      "11         2305.000000     48.010416       Unweighted events, alpha=0.120455\n",
      "  => Total parameter prop_binEst_mu_q2bin3_bin11[0.00,-7.00,7.00] to be gaussian constrained\n",
      "------------------------------------------------------------\n",
      "12         323.861953      6.368310        total sum                     \n",
      "12         2586.000000     50.852729       Unweighted events, alpha=0.125237\n",
      "  => Total parameter prop_binEst_mu_q2bin3_bin12[0.00,-7.00,7.00] to be gaussian constrained\n",
      "------------------------------------------------------------\n",
      "13         352.517153      6.744014        total sum                     \n",
      "13         2732.000000     52.268537       Unweighted events, alpha=0.129033\n",
      "  => Total parameter prop_binEst_mu_q2bin3_bin13[0.00,-7.00,7.00] to be gaussian constrained\n",
      "------------------------------------------------------------\n",
      "14         320.596378      6.476317        total sum                     \n",
      "14         2451.000000     49.507575       Unweighted events, alpha=0.130802\n",
      "  => Total parameter prop_binEst_mu_q2bin3_bin14[0.00,-7.00,7.00] to be gaussian constrained\n",
      "------------------------------------------------------------\n",
      "15         202.163591      5.098573        total sum                     \n",
      "15         1572.000000     39.648455       Unweighted events, alpha=0.128603\n",
      "  => Total parameter prop_binEst_mu_q2bin3_bin15[0.00,-7.00,7.00] to be gaussian constrained\n",
      "------------------------------------------------------------\n",
      "16         86.892634       3.274209        total sum                     \n",
      "16         704.000000      26.532998       Unweighted events, alpha=0.123427\n",
      "  => Total parameter prop_binEst_mu_q2bin3_bin16[0.00,-7.00,7.00] to be gaussian constrained\n",
      "------------------------------------------------------------\n",
      "17         27.851146       1.786457        total sum                     \n",
      "17         243.000000      15.588457       Unweighted events, alpha=0.114614\n",
      "  => Total parameter prop_binEst_mu_q2bin3_bin17[0.00,-7.00,7.00] to be gaussian constrained\n",
      "------------------------------------------------------------\n",
      "18         11.948632       1.168287        total sum                     \n",
      "18         105.000000      10.246951       Unweighted events, alpha=0.113796\n",
      "  => Total parameter prop_binEst_mu_q2bin3_bin18[0.00,-7.00,7.00] to be gaussian constrained\n",
      "------------------------------------------------------------\n",
      "19         5.357550        0.752665        total sum                     \n",
      "19         51.000000       7.141428        Unweighted events, alpha=0.105050\n",
      "  => Total parameter prop_binEst_mu_q2bin3_bin19[0.00,-7.00,7.00] to be gaussian constrained\n",
      "------------------------------------------------------------\n",
      "20         4.373407        0.724389        total sum                     \n",
      "20         36.000000       6.000000        Unweighted events, alpha=0.121484\n",
      "  => Total parameter prop_binEst_mu_q2bin3_bin20[0.00,-7.00,7.00] to be gaussian constrained\n",
      "------------------------------------------------------------\n",
      "21         7.649849        0.941094        total sum                     \n",
      "21         66.000000       8.124038        Unweighted events, alpha=0.115907\n",
      "  => Total parameter prop_binEst_mu_q2bin3_bin21[0.00,-7.00,7.00] to be gaussian constrained\n",
      "------------------------------------------------------------\n",
      "Channel M2_miss_q2bin0 will use autoMCStats with settings: event-threshold=5, include-signal=1, hist-mode=1\n",
      "============================================================\n",
      "Analysing bin errors for: prop_binM2_miss_q2bin0\n",
      "Poisson cut-off: 5\n",
      "============================================================\n",
      "Bin        Contents        Error           Notes                         \n",
      "0          228.057296      5.018902        total sum                     \n",
      "0          2065.000000     45.442271       Unweighted events, alpha=0.110439\n",
      "  => Total parameter prop_binM2_miss_q2bin0_bin0[0.00,-7.00,7.00] to be gaussian constrained\n",
      "------------------------------------------------------------\n",
      "1          113.808137      3.536440        total sum                     \n",
      "1          1036.000000     32.186954       Unweighted events, alpha=0.109853\n",
      "  => Total parameter prop_binM2_miss_q2bin0_bin1[0.00,-7.00,7.00] to be gaussian constrained\n",
      "------------------------------------------------------------\n",
      "2          222.720194      4.893263        total sum                     \n",
      "2          2072.000000     45.519227       Unweighted events, alpha=0.107490\n",
      "  => Total parameter prop_binM2_miss_q2bin0_bin2[0.00,-7.00,7.00] to be gaussian constrained\n",
      "------------------------------------------------------------\n",
      "3          521.807669      7.555797        total sum                     \n",
      "3          4769.000000     69.057947       Unweighted events, alpha=0.109417\n",
      "  => Total parameter prop_binM2_miss_q2bin0_bin3[0.00,-7.00,7.00] to be gaussian constrained\n",
      "------------------------------------------------------------\n",
      "4          1363.508183     11.944415       total sum                     \n",
      "4          13031.000000    114.153406      Unweighted events, alpha=0.104636\n",
      "  => Total parameter prop_binM2_miss_q2bin0_bin4[0.00,-7.00,7.00] to be gaussian constrained\n",
      "------------------------------------------------------------\n",
      "5          2012.185151     14.225005       total sum                     \n",
      "5          20009.000000    141.453172      Unweighted events, alpha=0.100564\n",
      "  => Total parameter prop_binM2_miss_q2bin0_bin5[0.00,-7.00,7.00] to be gaussian constrained\n",
      "------------------------------------------------------------\n",
      "6          2861.860592     16.995857       total sum                     \n",
      "6          28354.000000    168.386460      Unweighted events, alpha=0.100933\n",
      "  => Total parameter prop_binM2_miss_q2bin0_bin6[0.00,-7.00,7.00] to be gaussian constrained\n",
      "------------------------------------------------------------\n",
      "7          2505.960243     16.121265       total sum                     \n",
      "7          24163.000000    155.444524      Unweighted events, alpha=0.103711\n",
      "  => Total parameter prop_binM2_miss_q2bin0_bin7[0.00,-7.00,7.00] to be gaussian constrained\n",
      "------------------------------------------------------------\n",
      "8          815.384919      9.187967        total sum                     \n",
      "8          7876.000000     88.746831       Unweighted events, alpha=0.103528\n",
      "  => Total parameter prop_binM2_miss_q2bin0_bin8[0.00,-7.00,7.00] to be gaussian constrained\n",
      "------------------------------------------------------------\n",
      "Channel M2_miss_q2bin1 will use autoMCStats with settings: event-threshold=5, include-signal=1, hist-mode=1\n",
      "============================================================\n",
      "Analysing bin errors for: prop_binM2_miss_q2bin1\n",
      "Poisson cut-off: 5\n",
      "============================================================\n",
      "Bin        Contents        Error           Notes                         \n",
      "0          232.131577      5.142880        total sum                     \n",
      "0          2037.000000     45.133136       Unweighted events, alpha=0.113958\n",
      "  => Total parameter prop_binM2_miss_q2bin1_bin0[0.00,-7.00,7.00] to be gaussian constrained\n",
      "------------------------------------------------------------\n",
      "1          129.264252      3.874931        total sum                     \n",
      "1          1113.000000     33.361655       Unweighted events, alpha=0.116140\n",
      "  => Total parameter prop_binM2_miss_q2bin1_bin1[0.00,-7.00,7.00] to be gaussian constrained\n",
      "------------------------------------------------------------\n",
      "2          230.033625      5.064309        total sum                     \n",
      "2          2063.000000     45.420260       Unweighted events, alpha=0.111504\n",
      "  => Total parameter prop_binM2_miss_q2bin1_bin2[0.00,-7.00,7.00] to be gaussian constrained\n",
      "------------------------------------------------------------\n",
      "3          508.309296      7.467271        total sum                     \n",
      "3          4634.000000     68.073490       Unweighted events, alpha=0.109691\n",
      "  => Total parameter prop_binM2_miss_q2bin1_bin3[0.00,-7.00,7.00] to be gaussian constrained\n",
      "------------------------------------------------------------\n",
      "4          1452.786504     12.529697       total sum                     \n",
      "4          13444.000000    115.948264      Unweighted events, alpha=0.108062\n",
      "  => Total parameter prop_binM2_miss_q2bin1_bin4[0.00,-7.00,7.00] to be gaussian constrained\n",
      "------------------------------------------------------------\n",
      "5          808.082743      9.664176        total sum                     \n",
      "5          6992.000000     83.618180       Unweighted events, alpha=0.115572\n",
      "  => Total parameter prop_binM2_miss_q2bin1_bin5[0.00,-7.00,7.00] to be gaussian constrained\n",
      "------------------------------------------------------------\n",
      "6          1191.210239     11.176262       total sum                     \n",
      "6          11360.000000    106.583301      Unweighted events, alpha=0.104860\n",
      "  => Total parameter prop_binM2_miss_q2bin1_bin6[0.00,-7.00,7.00] to be gaussian constrained\n",
      "------------------------------------------------------------\n",
      "7          1520.866381     12.601489       total sum                     \n",
      "7          14566.000000    120.689685      Unweighted events, alpha=0.104412\n",
      "  => Total parameter prop_binM2_miss_q2bin1_bin7[0.00,-7.00,7.00] to be gaussian constrained\n",
      "------------------------------------------------------------\n",
      "8          1543.191657     12.709660       total sum                     \n",
      "8          14743.000000    121.420756      Unweighted events, alpha=0.104673\n",
      "  => Total parameter prop_binM2_miss_q2bin1_bin8[0.00,-7.00,7.00] to be gaussian constrained\n",
      "------------------------------------------------------------\n",
      "9          1439.354723     12.250065       total sum                     \n",
      "9          13806.000000    117.498936      Unweighted events, alpha=0.104256\n",
      "  => Total parameter prop_binM2_miss_q2bin1_bin9[0.00,-7.00,7.00] to be gaussian constrained\n",
      "------------------------------------------------------------\n",
      "10         1296.033340     11.674101       total sum                     \n",
      "10         12325.000000    111.018017      Unweighted events, alpha=0.105155\n",
      "  => Total parameter prop_binM2_miss_q2bin1_bin10[0.00,-7.00,7.00] to be gaussian constrained\n",
      "------------------------------------------------------------\n",
      "11         4129.583476     20.722087       total sum                     \n",
      "11         39714.000000    199.283717      Unweighted events, alpha=0.103983\n",
      "  => Total parameter prop_binM2_miss_q2bin1_bin11[0.00,-7.00,7.00] to be gaussian constrained\n",
      "------------------------------------------------------------\n",
      "12         2900.174843     17.079544       total sum                     \n",
      "12         28833.000000    169.802827      Unweighted events, alpha=0.100585\n",
      "  => Total parameter prop_binM2_miss_q2bin1_bin12[0.00,-7.00,7.00] to be gaussian constrained\n",
      "------------------------------------------------------------\n",
      "13         1916.796924     13.778767       total sum                     \n",
      "13         19352.000000    139.111466      Unweighted events, alpha=0.099049\n",
      "  => Total parameter prop_binM2_miss_q2bin1_bin13[0.00,-7.00,7.00] to be gaussian constrained\n",
      "------------------------------------------------------------\n",
      "14         1268.638922     11.080065       total sum                     \n",
      "14         13110.000000    114.498908      Unweighted events, alpha=0.096769\n",
      "  => Total parameter prop_binM2_miss_q2bin1_bin14[0.00,-7.00,7.00] to be gaussian constrained\n",
      "------------------------------------------------------------\n",
      "15         777.932017      8.622221        total sum                     \n",
      "15         8140.000000     90.221949       Unweighted events, alpha=0.095569\n",
      "  => Total parameter prop_binM2_miss_q2bin1_bin15[0.00,-7.00,7.00] to be gaussian constrained\n",
      "------------------------------------------------------------\n",
      "16         437.636368      6.615798        total sum                     \n",
      "16         4376.000000     66.151342       Unweighted events, alpha=0.100008\n",
      "  => Total parameter prop_binM2_miss_q2bin1_bin16[0.00,-7.00,7.00] to be gaussian constrained\n",
      "------------------------------------------------------------\n",
      "17         357.289309      5.681433        total sum                     \n",
      "17         3955.000000     62.888791       Unweighted events, alpha=0.090339\n",
      "  => Total parameter prop_binM2_miss_q2bin1_bin17[0.00,-7.00,7.00] to be gaussian constrained\n",
      "------------------------------------------------------------\n",
      "Channel M2_miss_q2bin2 will use autoMCStats with settings: event-threshold=5, include-signal=1, hist-mode=1\n",
      "============================================================\n",
      "Analysing bin errors for: prop_binM2_miss_q2bin2\n",
      "Poisson cut-off: 5\n",
      "============================================================\n",
      "Bin        Contents        Error           Notes                         \n",
      "0          219.746739      5.782586        total sum                     \n",
      "0          1444.000000     38.000000       Unweighted events, alpha=0.152179\n",
      "  => Total parameter prop_binM2_miss_q2bin2_bin0[0.00,-7.00,7.00] to be gaussian constrained\n",
      "------------------------------------------------------------\n",
      "1          126.746230      3.854422        total sum                     \n",
      "1          1081.000000     32.878564       Unweighted events, alpha=0.117249\n",
      "  => Total parameter prop_binM2_miss_q2bin2_bin1[0.00,-7.00,7.00] to be gaussian constrained\n",
      "------------------------------------------------------------\n",
      "2          242.766470      5.360503        total sum                     \n",
      "2          2051.000000     45.287967       Unweighted events, alpha=0.118365\n",
      "  => Total parameter prop_binM2_miss_q2bin2_bin2[0.00,-7.00,7.00] to be gaussian constrained\n",
      "------------------------------------------------------------\n",
      "3          497.454294      7.668620        total sum                     \n",
      "3          4208.000000     64.869099       Unweighted events, alpha=0.118216\n",
      "  => Total parameter prop_binM2_miss_q2bin2_bin3[0.00,-7.00,7.00] to be gaussian constrained\n",
      "------------------------------------------------------------\n",
      "4          1267.850253     12.287037       total sum                     \n",
      "4          10647.000000    103.184301      Unweighted events, alpha=0.119081\n",
      "  => Total parameter prop_binM2_miss_q2bin2_bin4[0.00,-7.00,7.00] to be gaussian constrained\n",
      "------------------------------------------------------------\n",
      "5          2791.424941     18.250437       total sum                     \n",
      "5          23394.000000    152.950973      Unweighted events, alpha=0.119322\n",
      "  => Total parameter prop_binM2_miss_q2bin2_bin5[0.00,-7.00,7.00] to be gaussian constrained\n",
      "------------------------------------------------------------\n",
      "6          2810.173614     18.331114       total sum                     \n",
      "6          23501.000000    153.300359      Unweighted events, alpha=0.119577\n",
      "  => Total parameter prop_binM2_miss_q2bin2_bin6[0.00,-7.00,7.00] to be gaussian constrained\n",
      "------------------------------------------------------------\n",
      "7          2180.098966     15.955806       total sum                     \n",
      "7          18669.000000    136.634549      Unweighted events, alpha=0.116776\n",
      "  => Total parameter prop_binM2_miss_q2bin2_bin7[0.00,-7.00,7.00] to be gaussian constrained\n",
      "------------------------------------------------------------\n",
      "8          1736.966056     13.648984       total sum                     \n",
      "8          16195.000000    127.259577      Unweighted events, alpha=0.107253\n",
      "  => Total parameter prop_binM2_miss_q2bin2_bin8[0.00,-7.00,7.00] to be gaussian constrained\n",
      "------------------------------------------------------------\n",
      "9          1474.359964     17.118332       total sum                     \n",
      "9          7418.000000     86.127812       Unweighted events, alpha=0.198754\n",
      "  => Total parameter prop_binM2_miss_q2bin2_bin9[0.00,-7.00,7.00] to be gaussian constrained\n",
      "------------------------------------------------------------\n",
      "10         1261.900139     11.222812       total sum                     \n",
      "10         12643.000000    112.441096      Unweighted events, alpha=0.099810\n",
      "  => Total parameter prop_binM2_miss_q2bin2_bin10[0.00,-7.00,7.00] to be gaussian constrained\n",
      "------------------------------------------------------------\n",
      "11         1098.409728     10.622916       total sum                     \n",
      "11         10692.000000    103.402128      Unweighted events, alpha=0.102732\n",
      "  => Total parameter prop_binM2_miss_q2bin2_bin11[0.00,-7.00,7.00] to be gaussian constrained\n",
      "------------------------------------------------------------\n",
      "12         968.797769      9.570005        total sum                     \n",
      "12         10248.000000    101.232406      Unweighted events, alpha=0.094535\n",
      "  => Total parameter prop_binM2_miss_q2bin2_bin12[0.00,-7.00,7.00] to be gaussian constrained\n",
      "------------------------------------------------------------\n",
      "13         801.155363      8.532776        total sum                     \n",
      "13         8816.000000     93.893557       Unweighted events, alpha=0.090875\n",
      "  => Total parameter prop_binM2_miss_q2bin2_bin13[0.00,-7.00,7.00] to be gaussian constrained\n",
      "------------------------------------------------------------\n",
      "14         630.184637      7.606844        total sum                     \n",
      "14         6863.000000     82.843225       Unweighted events, alpha=0.091823\n",
      "  => Total parameter prop_binM2_miss_q2bin2_bin14[0.00,-7.00,7.00] to be gaussian constrained\n",
      "------------------------------------------------------------\n",
      "15         497.064450      6.692235        total sum                     \n",
      "15         5517.000000     74.276510       Unweighted events, alpha=0.090097\n",
      "  => Total parameter prop_binM2_miss_q2bin2_bin15[0.00,-7.00,7.00] to be gaussian constrained\n",
      "------------------------------------------------------------\n",
      "16         340.936945      5.464291        total sum                     \n",
      "16         3893.000000     62.393910       Unweighted events, alpha=0.087577\n",
      "  => Total parameter prop_binM2_miss_q2bin2_bin16[0.00,-7.00,7.00] to be gaussian constrained\n",
      "------------------------------------------------------------\n",
      "17         245.185482      4.551971        total sum                     \n",
      "17         2901.000000     53.860932       Unweighted events, alpha=0.084518\n",
      "  => Total parameter prop_binM2_miss_q2bin2_bin17[0.00,-7.00,7.00] to be gaussian constrained\n",
      "------------------------------------------------------------\n",
      "18         154.196648      3.507902        total sum                     \n",
      "18         1932.000000     43.954522       Unweighted events, alpha=0.079812\n",
      "  => Total parameter prop_binM2_miss_q2bin2_bin18[0.00,-7.00,7.00] to be gaussian constrained\n",
      "------------------------------------------------------------\n",
      "19         189.551992      3.880239        total sum                     \n",
      "19         2386.000000     48.846699       Unweighted events, alpha=0.079443\n",
      "  => Total parameter prop_binM2_miss_q2bin2_bin19[0.00,-7.00,7.00] to be gaussian constrained\n",
      "------------------------------------------------------------\n",
      "Channel M2_miss_q2bin3 will use autoMCStats with settings: event-threshold=5, include-signal=1, hist-mode=1\n",
      "============================================================\n",
      "Analysing bin errors for: prop_binM2_miss_q2bin3\n",
      "Poisson cut-off: 5\n",
      "============================================================\n",
      "Bin        Contents        Error           Notes                         \n",
      "0          43.153559       2.270761        total sum                     \n",
      "0          361.000000      19.000000       Unweighted events, alpha=0.119539\n",
      "  => Total parameter prop_binM2_miss_q2bin3_bin0[0.00,-7.00,7.00] to be gaussian constrained\n",
      "------------------------------------------------------------\n",
      "1          22.765837       1.670096        total sum                     \n",
      "1          186.000000      13.638182       Unweighted events, alpha=0.122397\n",
      "  => Total parameter prop_binM2_miss_q2bin3_bin1[0.00,-7.00,7.00] to be gaussian constrained\n",
      "------------------------------------------------------------\n",
      "2          46.388891       2.397955        total sum                     \n",
      "2          374.000000      19.339080       Unweighted events, alpha=0.124034\n",
      "  => Total parameter prop_binM2_miss_q2bin3_bin2[0.00,-7.00,7.00] to be gaussian constrained\n",
      "------------------------------------------------------------\n",
      "3          108.023658      3.786684        total sum                     \n",
      "3          814.000000      28.530685       Unweighted events, alpha=0.132707\n",
      "  => Total parameter prop_binM2_miss_q2bin3_bin3[0.00,-7.00,7.00] to be gaussian constrained\n",
      "------------------------------------------------------------\n",
      "4          214.661764      5.296772        total sum                     \n",
      "4          1642.000000     40.521599       Unweighted events, alpha=0.130732\n",
      "  => Total parameter prop_binM2_miss_q2bin3_bin4[0.00,-7.00,7.00] to be gaussian constrained\n",
      "------------------------------------------------------------\n",
      "5          345.985752      6.796265        total sum                     \n",
      "5          2592.000000     50.911688       Unweighted events, alpha=0.133482\n",
      "  => Total parameter prop_binM2_miss_q2bin3_bin5[0.00,-7.00,7.00] to be gaussian constrained\n",
      "------------------------------------------------------------\n",
      "6          321.925207      6.460877        total sum                     \n",
      "6          2483.000000     49.829710       Unweighted events, alpha=0.129652\n",
      "  => Total parameter prop_binM2_miss_q2bin3_bin6[0.00,-7.00,7.00] to be gaussian constrained\n",
      "------------------------------------------------------------\n",
      "7          244.168050      5.520141        total sum                     \n",
      "7          1956.000000     44.226689       Unweighted events, alpha=0.124830\n",
      "  => Total parameter prop_binM2_miss_q2bin3_bin7[0.00,-7.00,7.00] to be gaussian constrained\n",
      "------------------------------------------------------------\n",
      "8          199.945364      4.881886        total sum                     \n",
      "8          1677.000000     40.951190       Unweighted events, alpha=0.119228\n",
      "  => Total parameter prop_binM2_miss_q2bin3_bin8[0.00,-7.00,7.00] to be gaussian constrained\n",
      "------------------------------------------------------------\n",
      "9          164.333407      4.348532        total sum                     \n",
      "9          1428.000000     37.788887       Unweighted events, alpha=0.115079\n",
      "  => Total parameter prop_binM2_miss_q2bin3_bin9[0.00,-7.00,7.00] to be gaussian constrained\n",
      "------------------------------------------------------------\n",
      "10         147.646962      4.077792        total sum                     \n",
      "10         1311.000000     36.207734       Unweighted events, alpha=0.112622\n",
      "  => Total parameter prop_binM2_miss_q2bin3_bin10[0.00,-7.00,7.00] to be gaussian constrained\n",
      "------------------------------------------------------------\n",
      "11         120.254834      3.600168        total sum                     \n",
      "11         1116.000000     33.406586       Unweighted events, alpha=0.107755\n",
      "  => Total parameter prop_binM2_miss_q2bin3_bin11[0.00,-7.00,7.00] to be gaussian constrained\n",
      "------------------------------------------------------------\n",
      "12         118.211192      3.544034        total sum                     \n",
      "12         1113.000000     33.361655       Unweighted events, alpha=0.106210\n",
      "  => Total parameter prop_binM2_miss_q2bin3_bin12[0.00,-7.00,7.00] to be gaussian constrained\n",
      "------------------------------------------------------------\n",
      "13         105.298409      4.063450        total sum                     \n",
      "13         672.000000      25.922963       Unweighted events, alpha=0.156694\n",
      "  => Total parameter prop_binM2_miss_q2bin3_bin13[0.00,-7.00,7.00] to be gaussian constrained\n",
      "------------------------------------------------------------\n",
      "14         88.856292       2.946593        total sum                     \n",
      "14         909.000000      30.149627       Unweighted events, alpha=0.097752\n",
      "  => Total parameter prop_binM2_miss_q2bin3_bin14[0.00,-7.00,7.00] to be gaussian constrained\n",
      "------------------------------------------------------------\n",
      "15         79.185687       2.694009        total sum                     \n",
      "15         864.000000      29.393877       Unweighted events, alpha=0.091650\n",
      "  => Total parameter prop_binM2_miss_q2bin3_bin15[0.00,-7.00,7.00] to be gaussian constrained\n",
      "------------------------------------------------------------\n",
      "16         74.682583       2.567414        total sum                     \n",
      "16         846.000000      29.086079       Unweighted events, alpha=0.088277\n",
      "  => Total parameter prop_binM2_miss_q2bin3_bin16[0.00,-7.00,7.00] to be gaussian constrained\n",
      "------------------------------------------------------------\n",
      "17         65.618763       2.369971        total sum                     \n",
      "17         767.000000      27.694765       Unweighted events, alpha=0.085552\n",
      "  => Total parameter prop_binM2_miss_q2bin3_bin17[0.00,-7.00,7.00] to be gaussian constrained\n",
      "------------------------------------------------------------\n",
      "18         59.693104       2.298485        total sum                     \n",
      "18         674.000000      25.961510       Unweighted events, alpha=0.088565\n",
      "  => Total parameter prop_binM2_miss_q2bin3_bin18[0.00,-7.00,7.00] to be gaussian constrained\n",
      "------------------------------------------------------------\n",
      "19         50.897536       1.997706        total sum                     \n",
      "19         649.000000      25.475478       Unweighted events, alpha=0.078425\n",
      "  => Total parameter prop_binM2_miss_q2bin3_bin19[0.00,-7.00,7.00] to be gaussian constrained\n",
      "------------------------------------------------------------\n",
      "20         46.631590       1.896327        total sum                     \n",
      "20         605.000000      24.596748       Unweighted events, alpha=0.077077\n",
      "  => Total parameter prop_binM2_miss_q2bin3_bin20[0.00,-7.00,7.00] to be gaussian constrained\n",
      "------------------------------------------------------------\n",
      "21         38.922849       1.779638        total sum                     \n",
      "21         478.000000      21.863211       Unweighted events, alpha=0.081429\n",
      "  => Total parameter prop_binM2_miss_q2bin3_bin21[0.00,-7.00,7.00] to be gaussian constrained\n",
      "------------------------------------------------------------\n",
      "22         24.992574       1.334360        total sum                     \n",
      "22         351.000000      18.734994       Unweighted events, alpha=0.071204\n",
      "  => Total parameter prop_binM2_miss_q2bin3_bin22[0.00,-7.00,7.00] to be gaussian constrained\n",
      "------------------------------------------------------------\n",
      "23         16.496737       1.123559        total sum                     \n",
      "23         216.000000      14.696938       Unweighted events, alpha=0.076374\n",
      "  => Total parameter prop_binM2_miss_q2bin3_bin23[0.00,-7.00,7.00] to be gaussian constrained\n",
      "------------------------------------------------------------\n",
      "24         17.558203       1.061107        total sum                     \n",
      "24         274.000000      16.552945       Unweighted events, alpha=0.064081\n",
      "  => Total parameter prop_binM2_miss_q2bin3_bin24[0.00,-7.00,7.00] to be gaussian constrained\n",
      "------------------------------------------------------------\n",
      "Channel MVA will use autoMCStats with settings: event-threshold=5, include-signal=1, hist-mode=1\n",
      "============================================================\n",
      "Analysing bin errors for: prop_binMVA\n",
      "Poisson cut-off: 5\n",
      "============================================================\n",
      "Bin        Contents        Error           Notes                         \n",
      "0          9882.558960     31.303577       total sum                     \n",
      "0          99667.000000    315.700808      Unweighted events, alpha=0.099156\n",
      "  => Total parameter prop_binMVA_bin0[0.00,-7.00,7.00] to be gaussian constrained\n",
      "------------------------------------------------------------\n",
      "1          5683.579994     24.399521       total sum                     \n",
      "1          54260.000000    232.937760      Unweighted events, alpha=0.104747\n",
      "  => Total parameter prop_binMVA_bin1[0.00,-7.00,7.00] to be gaussian constrained\n",
      "------------------------------------------------------------\n",
      "2          4084.851929     21.208031       total sum                     \n",
      "2          37098.000000    192.608411      Unweighted events, alpha=0.110110\n",
      "  => Total parameter prop_binMVA_bin2[0.00,-7.00,7.00] to be gaussian constrained\n",
      "------------------------------------------------------------\n",
      "3          3285.184126     18.924533       total sum                     \n",
      "3          30135.000000    173.594355      Unweighted events, alpha=0.109016\n",
      "  => Total parameter prop_binMVA_bin3[0.00,-7.00,7.00] to be gaussian constrained\n",
      "------------------------------------------------------------\n",
      "4          3500.639553     20.046995       total sum                     \n",
      "4          30493.000000    174.622450      Unweighted events, alpha=0.114801\n",
      "  => Total parameter prop_binMVA_bin4[0.00,-7.00,7.00] to be gaussian constrained\n",
      "------------------------------------------------------------\n",
      "5          2610.150811     17.383255       total sum                     \n",
      "5          22546.000000    150.153255      Unweighted events, alpha=0.115770\n",
      "  => Total parameter prop_binMVA_bin5[0.00,-7.00,7.00] to be gaussian constrained\n",
      "------------------------------------------------------------\n",
      "6          2200.732923     16.232475       total sum                     \n",
      "6          18381.000000    135.576547      Unweighted events, alpha=0.119729\n",
      "  => Total parameter prop_binMVA_bin6[0.00,-7.00,7.00] to be gaussian constrained\n",
      "------------------------------------------------------------\n",
      "7          1688.342926     13.849431       total sum                     \n",
      "7          14861.000000    121.905701      Unweighted events, alpha=0.113609\n",
      "  => Total parameter prop_binMVA_bin7[0.00,-7.00,7.00] to be gaussian constrained\n",
      "------------------------------------------------------------\n",
      "8          1539.499146     13.718927       total sum                     \n",
      "8          12593.000000    112.218537      Unweighted events, alpha=0.122250\n",
      "  => Total parameter prop_binMVA_bin8[0.00,-7.00,7.00] to be gaussian constrained\n",
      "------------------------------------------------------------\n",
      "9          1189.161983     11.642297       total sum                     \n",
      "9          10433.000000    102.142058      Unweighted events, alpha=0.113981\n",
      "  => Total parameter prop_binMVA_bin9[0.00,-7.00,7.00] to be gaussian constrained\n",
      "------------------------------------------------------------\n",
      "10         1250.222283     11.619292       total sum                     \n",
      "10         11578.000000    107.601115      Unweighted events, alpha=0.107983\n",
      "  => Total parameter prop_binMVA_bin10[0.00,-7.00,7.00] to be gaussian constrained\n",
      "------------------------------------------------------------\n",
      "11         1164.475958     11.290508       total sum                     \n",
      "11         10637.000000    103.135833      Unweighted events, alpha=0.109474\n",
      "  => Total parameter prop_binMVA_bin11[0.00,-7.00,7.00] to be gaussian constrained\n",
      "------------------------------------------------------------\n",
      "12         1117.781981     10.988053       total sum                     \n",
      "12         10348.000000    101.725120      Unweighted events, alpha=0.108019\n",
      "  => Total parameter prop_binMVA_bin12[0.00,-7.00,7.00] to be gaussian constrained\n",
      "------------------------------------------------------------\n",
      "13         958.707727      10.112075       total sum                     \n",
      "13         8989.000000     94.810337       Unweighted events, alpha=0.106653\n",
      "  => Total parameter prop_binMVA_bin13[0.00,-7.00,7.00] to be gaussian constrained\n",
      "------------------------------------------------------------\n",
      "14         1028.137946     10.402949       total sum                     \n",
      "14         9768.000000     98.833193       Unweighted events, alpha=0.105256\n",
      "  => Total parameter prop_binMVA_bin14[0.00,-7.00,7.00] to be gaussian constrained\n",
      "------------------------------------------------------------\n",
      "15         959.599956      10.044918       total sum                     \n",
      "15         9126.000000     95.530100       Unweighted events, alpha=0.105150\n",
      "  => Total parameter prop_binMVA_bin15[0.00,-7.00,7.00] to be gaussian constrained\n",
      "------------------------------------------------------------\n",
      "16         919.562048      9.850694        total sum                     \n",
      "16         8714.000000     93.348808       Unweighted events, alpha=0.105527\n",
      "  => Total parameter prop_binMVA_bin16[0.00,-7.00,7.00] to be gaussian constrained\n",
      "------------------------------------------------------------\n",
      "17         876.094717      9.532567        total sum                     \n",
      "17         8447.000000     91.907562       Unweighted events, alpha=0.103717\n",
      "  => Total parameter prop_binMVA_bin17[0.00,-7.00,7.00] to be gaussian constrained\n",
      "------------------------------------------------------------\n",
      "18         799.883780      9.106777        total sum                     \n",
      "18         7715.000000     87.835073       Unweighted events, alpha=0.103679\n",
      "  => Total parameter prop_binMVA_bin18[0.00,-7.00,7.00] to be gaussian constrained\n",
      "------------------------------------------------------------\n",
      "19         726.948199      8.850175        total sum                     \n",
      "19         6747.000000     82.140124       Unweighted events, alpha=0.107744\n",
      "  => Total parameter prop_binMVA_bin19[0.00,-7.00,7.00] to be gaussian constrained\n",
      "------------------------------------------------------------\n",
      "20         694.182193      8.413328        total sum                     \n",
      "20         6808.000000     82.510605       Unweighted events, alpha=0.101966\n",
      "  => Total parameter prop_binMVA_bin20[0.00,-7.00,7.00] to be gaussian constrained\n",
      "------------------------------------------------------------\n",
      "21         612.143447      14.259429       total sum                     \n",
      "21         1843.000000     42.930176       Unweighted events, alpha=0.332145\n",
      "  => Total parameter prop_binMVA_bin21[0.00,-7.00,7.00] to be gaussian constrained\n",
      "------------------------------------------------------------\n",
      "22         649.455993      8.560230        total sum                     \n",
      "22         5756.000000     75.868307       Unweighted events, alpha=0.112831\n",
      "  => Total parameter prop_binMVA_bin22[0.00,-7.00,7.00] to be gaussian constrained\n",
      "------------------------------------------------------------\n",
      "23         679.165540      8.225500        total sum                     \n",
      "23         6818.000000     82.571181       Unweighted events, alpha=0.099614\n",
      "  => Total parameter prop_binMVA_bin23[0.00,-7.00,7.00] to be gaussian constrained\n",
      "------------------------------------------------------------\n",
      "24         550.074088      7.373269        total sum                     \n",
      "24         5566.000000     74.605630       Unweighted events, alpha=0.098828\n",
      "  => Total parameter prop_binMVA_bin24[0.00,-7.00,7.00] to be gaussian constrained\n",
      "------------------------------------------------------------\n",
      "25         735.791288      8.432361        total sum                     \n",
      "25         7614.000000     87.258237       Unweighted events, alpha=0.096637\n",
      "  => Total parameter prop_binMVA_bin25[0.00,-7.00,7.00] to be gaussian constrained\n",
      "------------------------------------------------------------\n",
      "26         688.034065      8.103175        total sum                     \n",
      "26         7210.000000     84.911719       Unweighted events, alpha=0.095428\n",
      "  => Total parameter prop_binMVA_bin26[0.00,-7.00,7.00] to be gaussian constrained\n",
      "------------------------------------------------------------\n",
      "27         547.051134      7.304664        total sum                     \n",
      "27         5609.000000     74.893257       Unweighted events, alpha=0.097531\n",
      "  => Total parameter prop_binMVA_bin27[0.00,-7.00,7.00] to be gaussian constrained\n",
      "------------------------------------------------------------\n",
      "28         446.445486      6.657364        total sum                     \n",
      "28         4497.000000     67.059675       Unweighted events, alpha=0.099276\n",
      "  => Total parameter prop_binMVA_bin28[0.00,-7.00,7.00] to be gaussian constrained\n",
      "------------------------------------------------------------\n",
      "29         477.122723      6.730094        total sum                     \n",
      "29         5026.000000     70.894287       Unweighted events, alpha=0.094931\n",
      "  => Total parameter prop_binMVA_bin29[0.00,-7.00,7.00] to be gaussian constrained\n",
      "------------------------------------------------------------\n",
      "30         486.811363      6.755223        total sum                     \n",
      "30         5193.000000     72.062473       Unweighted events, alpha=0.093744\n",
      "  => Total parameter prop_binMVA_bin30[0.00,-7.00,7.00] to be gaussian constrained\n",
      "------------------------------------------------------------\n",
      "31         400.095576      6.110401        total sum                     \n",
      "31         4287.000000     65.475186       Unweighted events, alpha=0.093328\n",
      "  => Total parameter prop_binMVA_bin31[0.00,-7.00,7.00] to be gaussian constrained\n",
      "------------------------------------------------------------\n",
      "32         363.888229      6.420534        total sum                     \n",
      "32         3212.000000     56.674509       Unweighted events, alpha=0.113290\n",
      "  => Total parameter prop_binMVA_bin32[0.00,-7.00,7.00] to be gaussian constrained\n",
      "------------------------------------------------------------\n",
      "33         367.393682      5.871963        total sum                     \n",
      "33         3915.000000     62.569961       Unweighted events, alpha=0.093843\n",
      "  => Total parameter prop_binMVA_bin33[0.00,-7.00,7.00] to be gaussian constrained\n",
      "------------------------------------------------------------\n",
      "34         307.211364      5.323388        total sum                     \n",
      "34         3330.000000     57.706152       Unweighted events, alpha=0.092256\n",
      "  => Total parameter prop_binMVA_bin34[0.00,-7.00,7.00] to be gaussian constrained\n",
      "------------------------------------------------------------\n",
      "35         321.340920      5.337619        total sum                     \n",
      "35         3624.000000     60.199668       Unweighted events, alpha=0.088670\n",
      "  => Total parameter prop_binMVA_bin35[0.00,-7.00,7.00] to be gaussian constrained\n",
      "------------------------------------------------------------\n",
      "36         299.473298      5.214625        total sum                     \n",
      "36         3298.000000     57.428216       Unweighted events, alpha=0.090805\n",
      "  => Total parameter prop_binMVA_bin36[0.00,-7.00,7.00] to be gaussian constrained\n",
      "------------------------------------------------------------\n",
      "37         338.574130      5.374916        total sum                     \n",
      "37         3968.000000     62.992063       Unweighted events, alpha=0.085326\n",
      "  => Total parameter prop_binMVA_bin37[0.00,-7.00,7.00] to be gaussian constrained\n",
      "------------------------------------------------------------\n",
      "38         240.744086      4.457611        total sum                     \n",
      "38         2917.000000     54.009258       Unweighted events, alpha=0.082531\n",
      "  => Total parameter prop_binMVA_bin38[0.00,-7.00,7.00] to be gaussian constrained\n",
      "------------------------------------------------------------\n",
      "39         350.894054      5.301958        total sum                     \n",
      "39         4380.000000     66.181568       Unweighted events, alpha=0.080113\n",
      "  => Total parameter prop_binMVA_bin39[0.00,-7.00,7.00] to be gaussian constrained\n",
      "------------------------------------------------------------\n",
      "40         63.867899       2.238572        total sum                     \n",
      "40         814.000000      28.530685       Unweighted events, alpha=0.078462\n",
      "  => Total parameter prop_binMVA_bin40[0.00,-7.00,7.00] to be gaussian constrained\n",
      "------------------------------------------------------------\n"
     ]
    },
    {
     "name": "stderr",
     "output_type": "stream",
     "text": [
      "Creating pdfs for individual modes (15): .    1\b\b\b\b\b.    2\b\b\b\b\b.    3\b\b\b\b\b.    4\b\b\b\b\b.    5\b\b\b\b\b.    6\b\b\b\b\b.    7\b\b\b\b\b.    8\b\b\b\b\b.    9\b\b\b\b\b.   10\b\b\b\b\b.   11\b\b\b\b\b.   12\b\b\b\b\b.   13\b\b\b\b\b.   14\b\b\b\b\b.   15\b\b\b\bdone.\n",
      "Importing combined pdf model_s\n"
     ]
    }
   ],
   "source": [
    "cmd = 'text2workspace.py ' + card_location \n",
    "cmd += ' -o ' + card_location.replace('.txt', '.root')\n",
    "cmd += ' --no-b-only'\n",
    "cmd += ' --verbose 1'\n",
    "cmd += ' --channel-masks'\n",
    "# cmd += ' --no-wrappers'\n",
    "out = os.system(cmd)\n",
    "if out: raise"
   ]
  },
  {
   "cell_type": "code",
   "execution_count": 65,
   "metadata": {
    "ExecuteTime": {
     "end_time": "2020-09-04T03:59:24.605645Z",
     "start_time": "2020-09-04T03:59:24.586455Z"
    }
   },
   "outputs": [],
   "source": [
    "rDst_postFitRegion = [0.2, 0.5]\n",
    "channelMasking = [\n",
    "#     'AddTk_p_mHad',\n",
    "#     'AddTk_m_mHad',\n",
    "#     'AddTk_pm_mVis',\n",
    "#     'AddTk_pm_mHad',\n",
    "#     'AddTk_pp_mHad',\n",
    "#     'AddTk_mm_mHad'\n",
    "#     'Est_mu_q2bin0',\n",
    "#     'Est_mu_q2bin1',\n",
    "#     'Est_mu_q2bin2',\n",
    "#     'Est_mu_q2bin3',\n",
    "#     'M2_miss_q2bin0',\n",
    "#     'M2_miss_q2bin1',\n",
    "#     'M2_miss_q2bin2',\n",
    "#     'M2_miss_q2bin3',\n",
    "#     'MVA',\n",
    "]"
   ]
  },
  {
   "cell_type": "code",
   "execution_count": 66,
   "metadata": {
    "ExecuteTime": {
     "end_time": "2020-09-04T04:00:05.463893Z",
     "start_time": "2020-09-04T03:59:27.705568Z"
    }
   },
   "outputs": [
    {
     "name": "stdout",
     "output_type": "stream",
     "text": [
      "combine -M MultiDimFit --algo grid --points=100 --robustFit 1 -d cards/v10_testBins003Asimov_low.root --X-rtd MINIMIZER_analytic --rMin=0.200 --rMax=0.500 -n v10_testBins003Asimov_low_nominal --setParameters mask_Est_mu_q2bin0=1,mask_Est_mu_q2bin1=1,mask_Est_mu_q2bin2=1,mask_Est_mu_q2bin3=1,mask_M2_miss_q2bin0=1,mask_M2_miss_q2bin1=1,mask_M2_miss_q2bin2=1,mask_M2_miss_q2bin3=1 --verbose -1\n",
      "----------------------------------\n",
      "R(D*) = 0.328 +0.054/-0.053 [16.3 %]\n",
      "Sigma = 0.054\n",
      "----------------------------------\n",
      "\n"
     ]
    },
    {
     "data": {
      "image/png": "[encoded data removed]",
      "text/plain": [
       "<IPython.core.display.Image object>"
      ]
     },
     "metadata": {},
     "output_type": "display_data"
    },
    {
     "ename": "TypeError",
     "evalue": "exceptions must be old-style classes or derived from BaseException, not NoneType",
     "output_type": "error",
     "traceback": [
      "\u001b[0;31m\u001b[0m",
      "\u001b[0;31mTypeError\u001b[0mTraceback (most recent call last)",
      "\u001b[0;32m<ipython-input-66-a5b378d20734>\u001b[0m in \u001b[0;36m<module>\u001b[0;34m()\u001b[0m\n\u001b[1;32m     20\u001b[0m     \u001b[0mres_nominal\u001b[0m \u001b[0;34m=\u001b[0m \u001b[0mgetUncertaintyFromLimitTree\u001b[0m\u001b[0;34m(\u001b[0m\u001b[0;34m'higgsCombine{}_nominal.MultiDimFit.mH120.root'\u001b[0m\u001b[0;34m.\u001b[0m\u001b[0mformat\u001b[0m\u001b[0;34m(\u001b[0m\u001b[0mcard_name\u001b[0m\u001b[0;34m)\u001b[0m\u001b[0;34m)\u001b[0m\u001b[0;34m\u001b[0m\u001b[0m\n\u001b[1;32m     21\u001b[0m     \u001b[0mdisplay\u001b[0m\u001b[0;34m(\u001b[0m\u001b[0mImage\u001b[0m\u001b[0;34m(\u001b[0m\u001b[0mfilename\u001b[0m\u001b[0;34m=\u001b[0m\u001b[0;34m'scan_nominal.png'\u001b[0m\u001b[0;34m)\u001b[0m\u001b[0;34m)\u001b[0m\u001b[0;34m\u001b[0m\u001b[0m\n\u001b[0;32m---> 22\u001b[0;31m     \u001b[0;32mraise\u001b[0m\u001b[0;34m\u001b[0m\u001b[0m\n\u001b[0m",
      "\u001b[0;31mTypeError\u001b[0m: exceptions must be old-style classes or derived from BaseException, not NoneType"
     ]
    },
    {
     "name": "stdout",
     "output_type": "stream",
     "text": [
      " <<< Combine >>> \n",
      "   Options for Robust Minimizer :: \n",
      "        Tolerance  0.1\n",
      "        Strategy   0\n",
      "        Type,Algo  Minuit2,Migrad\n",
      ">>> method used is MultiDimFit\n",
      ">>> random number generator seed is 123456\n",
      "Set Default Value of Parameter mask_Est_mu_q2bin0 To : 1\n",
      "Set Default Value of Parameter mask_Est_mu_q2bin1 To : 1\n",
      "Set Default Value of Parameter mask_Est_mu_q2bin2 To : 1\n",
      "Set Default Value of Parameter mask_Est_mu_q2bin3 To : 1\n",
      "Set Default Value of Parameter mask_M2_miss_q2bin0 To : 1\n",
      "Set Default Value of Parameter mask_M2_miss_q2bin1 To : 1\n",
      "Set Default Value of Parameter mask_M2_miss_q2bin2 To : 1\n",
      "Set Default Value of Parameter mask_M2_miss_q2bin3 To : 1\n",
      ">>> 8 out of 15 channels masked\n",
      "\n",
      ">> Enabling analytic minimisation of bin-wise statistical uncertainty parameters\n",
      ">> Disabling analytic minimisation of bin-wise statistical uncertainty parameters\n",
      "Done in 0.47 min (cpu), 0.47 min (real)\n",
      "--------------------------------------\n",
      "scan\n",
      "--------------------------------------\n",
      "[{'lo': 0.2754710814845194, 'hi': 0.38255318795574567, 'valid_hi': True, 'valid_lo': True}]\n",
      "[{'lo': 0.2258804938474875, 'hi': 0.43730728492789833, 'valid_hi': True, 'valid_lo': True}]\n"
     ]
    },
    {
     "name": "stderr",
     "output_type": "stream",
     "text": [
      "Info in <TCanvas::Print>: pdf file ./scan.pdf has been created\n",
      "Info in <TCanvas::Print>: png file ./scan.png has been created\n"
     ]
    }
   ],
   "source": [
    "if runScanOnly:    \n",
    "    cmd = 'combine'\n",
    "    cmd += ' -M MultiDimFit'\n",
    "    # cmd += ' --algo grid --points=50'\n",
    "    cmd += ' --algo grid --points=100'\n",
    "    cmd += ' --robustFit 1'\n",
    "    cmd += ' -d ' + card_location.replace('.txt', '.root')\n",
    "    # cmd += ' -D ' + histo[histo.keys()[0]]['data'].GetName()\n",
    "    cmd += ' --X-rtd MINIMIZER_analytic'\n",
    "    cmd += ' --rMin={:.3f} --rMax={:.3f}'.format(*rDst_postFitRegion)\n",
    "    cmd += ' -n {}_nominal'.format(card_name)\n",
    "    if len(channelMasking):\n",
    "        cmd += ' --setParameters ' + ','.join(['mask_{}=1'.format(c) for c in channelMasking])\n",
    "    cmd += ' --verbose -1'\n",
    "    print cmd\n",
    "    os.system(cmd)\n",
    "    cmd = 'plot1DScan.py higgsCombine{}_nominal.MultiDimFit.mH120.root'.format(card_name)\n",
    "    cmd += '; mv scan.png scan_nominal.png'\n",
    "    os.system(cmd)\n",
    "    res_nominal = getUncertaintyFromLimitTree('higgsCombine{}_nominal.MultiDimFit.mH120.root'.format(card_name))\n",
    "    display(Image(filename='scan_nominal.png'))\n",
    "    raise"
   ]
  },
  {
   "cell_type": "markdown",
   "metadata": {
    "heading_collapsed": true
   },
   "source": [
    "## Run bias studies"
   ]
  },
  {
   "cell_type": "code",
   "execution_count": null,
   "metadata": {
    "ExecuteTime": {
     "end_time": "2020-09-03T20:14:35.394175Z",
     "start_time": "2020-09-03T20:05:49.726Z"
    },
    "hidden": true
   },
   "outputs": [],
   "source": [
    "if runBias:\n",
    "    nToys = 100\n",
    "    cmd = 'combine -M GenerateOnly'\n",
    "    cmd += ' -d ' + 'cards/{}.root'.format(card_name)\n",
    "    cmd += ' --seed 6741'\n",
    "    cmd += ' --noMCbonly 1'\n",
    "    cmd += ' --setParameters r={} --freezeParameters r'.format(SM_RDst)\n",
    "    cmd += ' --toysFrequentist -t {} --saveToys'.format(nToys)\n",
    "    cmd += ' -n {} -m {:.0f}'.format(card_name, 100*SM_RDst)\n",
    "    print cmd\n",
    "    status, output = commands.getstatusoutput(cmd)\n",
    "    if status:\n",
    "        print output\n",
    "        raise\n",
    "\n",
    "    cmd = 'combine -M FitDiagnostics'\n",
    "    cmd += ' --robustFit 1 --cminDefaultMinimizerStrategy 0 --X-rtd MINIMIZER_analytic'\n",
    "    cmd += ' --skipBOnlyFit'\n",
    "    cmd += ' --seed 6742'\n",
    "    cmd += ' -d ' + 'cards/{}.root'.format(card_name)\n",
    "    cmd += ' --toysFile higgsCombine{}.GenerateOnly.mH{}.6741.root -t {}'.format(card_name, 100*SM_RDst, nToys)\n",
    "    cmd += ' --setParameters r={:.2f}'.format(SM_RDst)\n",
    "    cmd += ' --setParameterRanges r=0.01,5'\n",
    "    cmd += ' -n {}_toys -m {:.0f}'.format(card_name, 100*SM_RDst)\n",
    "    cmd += ' --out ' + outdir\n",
    "    cmd += ' --trackParameters rgx{.*}'\n",
    "    cmd += ' --verbose 1'\n",
    "    print cmd\n",
    "    \n",
    "    status, output = commands.getstatusoutput(cmd)\n",
    "    for line in output.split('\\n'):\n",
    "        if 'ERROR' in line: print line.replace('ERROR', '\\033[1m\\x1b[31mError\\x1b[0m')\n",
    "    if status:\n",
    "        print output\n",
    "        raise\n",
    "        \n",
    "    os.system('mv -v *{}*.GenerateOnly.*.root '.format(card_name) + outdir + '/')\n",
    "    os.system('mv combine_logger.out ' + outdir + '/')"
   ]
  },
  {
   "cell_type": "code",
   "execution_count": null,
   "metadata": {
    "ExecuteTime": {
     "end_time": "2020-09-03T20:14:35.397117Z",
     "start_time": "2020-09-03T20:05:49.729Z"
    },
    "hidden": true
   },
   "outputs": [],
   "source": [
    "if runBias:\n",
    "    f = ur.open(outdir+'/fitDiagnostics{}_toys.root'.format(card_name))\n",
    "    r = f['tree_fit_sb']['r'].array()\n",
    "    rLoErr = f['tree_fit_sb']['rLoErr'].array()\n",
    "    rHiErr = f['tree_fit_sb']['rHiErr'].array()\n",
    "    \n",
    "    plt.rcParams.update({'font.size': 18})\n",
    "    fig = plt.figure(figsize=(8,6))\n",
    "    plt.errorbar(np.arange(1, 1+r.shape[0]), r, yerr=np.column_stack((rLoErr, rHiErr)).T, fmt='o', color='#1f77b4', label='Toys fit results')\n",
    "    m = np.mean(r)\n",
    "    sm = np.std(r)/np.sqrt(r.shape[0])\n",
    "    x = [0, r.shape[0]]\n",
    "    plt.fill_between(x, 2*[m-sm], 2*[m+sm], color='#ff7f0e', alpha=0.3)\n",
    "    plt.plot(x, 2*[m], color='#d62728', lw=1, label='Toys mean')\n",
    "    plt.plot(x, [SM_RDst, SM_RDst], 'm--', lw=2, label='Injected value')\n",
    "    plt.legend(loc='upper right', numpoints=1)\n",
    "    plt.xlabel('Toy number')\n",
    "    plt.ylabel(r'$R(D^*)$')\n",
    "    plt.savefig(outdir + '/fig/biasStudy_toysResults.png')\n",
    "    \n",
    "    z = (r - SM_RDst)/(0.5*(rLoErr + rHiErr))\n",
    "    h = create_TH1D(z, name='hZtest', binning=[int(2*np.sqrt(r.shape[0])), -4, 4], axis_title=['#hat{R(D*)} - R(D*) / #sigma', 'Number of toys'])\n",
    "    h.Sumw2()\n",
    "    h.Fit('gaus', 'ILQ')\n",
    "    c = drawOnCMSCanvas(CMS_lumi, [h])\n",
    "    c.Draw()\n",
    "    c.SaveAs(outdir + '/fig/biasStudy_zTest.png')"
   ]
  },
  {
   "cell_type": "markdown",
   "metadata": {
    "heading_collapsed": true
   },
   "source": [
    "## Run the Maximum Likelyhood fit"
   ]
  },
  {
   "cell_type": "code",
   "execution_count": null,
   "metadata": {
    "ExecuteTime": {
     "end_time": "2020-09-03T20:14:35.399647Z",
     "start_time": "2020-09-03T20:05:49.733Z"
    },
    "hidden": true
   },
   "outputs": [],
   "source": [
    "seedMLf = '6741'"
   ]
  },
  {
   "cell_type": "code",
   "execution_count": null,
   "metadata": {
    "ExecuteTime": {
     "end_time": "2020-09-03T20:14:35.402251Z",
     "start_time": "2020-09-03T20:05:49.736Z"
    },
    "hidden": true,
    "hide_input": false,
    "scrolled": true
   },
   "outputs": [],
   "source": [
    "cmd = 'combine -M FitDiagnostics'\n",
    "cmd += ' --robustFit 1 --robustHesse 1 --cminDefaultMinimizerStrategy 0 --X-rtd MINIMIZER_analytic'\n",
    "cmd += ' --skipBOnlyFit'\n",
    "cmd += ' --seed ' + seedMLf\n",
    "cmd += ' -d ' + card_location.replace('.txt', '.root')\n",
    "cmd += ' -D ' + histo[histo.keys()[0]]['data'].GetName()\n",
    "cmd += ' --setParameters r={:.2f}'.format(SM_RDst)\n",
    "cmd += ' --setParameterRanges r=0.01,5'\n",
    "cmd += ' -n {}'.format(card_name)\n",
    "cmd += ' --out ' + outdir\n",
    "cmd += ' --saveShapes --saveWithUncertainties --saveNormalizations'\n",
    "cmd += ' --trackParameters rgx{.*}'\n",
    "cmd += ' --plots'\n",
    "cmd += ' --verbose 1'\n",
    "\n",
    "print cmd\n",
    "status, output = commands.getstatusoutput(cmd)\n",
    "for line in output.split('\\n'):\n",
    "        if 'ERROR' in line: print line.replace('ERROR', '\\033[1m\\x1b[31mError\\x1b[0m')\n",
    "os.system('mv combine_logger.out ' + outdir + '/combine_logger_FitDiagnostics.out')\n",
    "os.system('mv ./higgsCombine{}.FitDiagnostics.mH120.{}.root '.format(card_name, seedMLf) + outdir + '/');"
   ]
  },
  {
   "cell_type": "code",
   "execution_count": null,
   "metadata": {
    "ExecuteTime": {
     "end_time": "2020-09-03T20:14:35.404701Z",
     "start_time": "2020-09-03T20:05:49.739Z"
    },
    "hidden": true,
    "hide_input": true
   },
   "outputs": [],
   "source": [
    "f = ur.open(glob(outdir + '/higgsCombine{}.FitDiagnostics.mH120.{}.root'.format(card_name, seedMLf))[0])\n",
    "c, d, u, _ = f['limit']['limit'].array()\n",
    "print 'R(D*) = {:.3f} +{:.3f}/-{:.3f} [{:.1f} %]'.format(c, u-c, c-d, 100*(u-d)*0.5/c)\n",
    "rDst_postFitRegion = [max(0.01,c - 5*(c-d)), min(c + 5*(u-c), 0.9)]"
   ]
  },
  {
   "cell_type": "code",
   "execution_count": null,
   "metadata": {
    "ExecuteTime": {
     "end_time": "2020-09-03T20:14:35.407273Z",
     "start_time": "2020-09-03T20:05:49.742Z"
    },
    "code_folding": [],
    "hidden": true
   },
   "outputs": [],
   "source": [
    "# Get post-fit shapes\n",
    "fFitDiagnostics = rt.TFile.Open(outdir + '/fitDiagnostics{}.root'.format(card_name), 'READ')\n",
    "fd = fFitDiagnostics.shapes_fit_s\n",
    "\n",
    "histo_postfit = {}\n",
    "for cat, h_dic in histo.iteritems():\n",
    "    histo_postfit[cat] = {}\n",
    "    for n, h in h_dic.iteritems():\n",
    "        if '__' in n:\n",
    "            continue\n",
    "        h_post = h.Clone(h.GetName() + '_postfit')\n",
    "        if 'data' in n:\n",
    "            h_fit = fd.Get(cat+'/total')\n",
    "            h_data = h.Clone(h.GetName() + '_data')\n",
    "            for i in range(1, h_post.GetNbinsX()+1):\n",
    "                h_post.SetBinContent(i, h_fit.GetBinContent(i))\n",
    "                h_post.SetBinError(i, h_fit.GetBinError(i))     \n",
    "            \n",
    "            histo_postfit[cat]['total'] = h_post\n",
    "            histo_postfit[cat][n] = h_data\n",
    "        else:\n",
    "            h_fit = fd.Get(cat+'/'+n)\n",
    "            if not h_fit: \n",
    "                print n+' missing from '+cat\n",
    "                continue\n",
    "            for i in range(1, h_post.GetNbinsX()+1):\n",
    "                h_post.SetBinContent(i, h_fit.GetBinContent(i))\n",
    "                h_post.SetBinError(i, h_fit.GetBinError(i)) \n",
    "\n",
    "            histo_postfit[cat][n] = h_post"
   ]
  },
  {
   "cell_type": "code",
   "execution_count": null,
   "metadata": {
    "ExecuteTime": {
     "end_time": "2020-09-03T20:14:35.409569Z",
     "start_time": "2020-09-03T20:05:49.745Z"
    },
    "hidden": true,
    "hide_input": true,
    "scrolled": false
   },
   "outputs": [],
   "source": [
    "h2 = fFitDiagnostics.Get('covariance_fit_s')\n",
    "rt.gStyle.SetPaintTextFormat('.1f')\n",
    "\n",
    "N = h2.GetNbinsX()\n",
    "n=32\n",
    "\n",
    "h2.GetXaxis().SetRange(1, n)\n",
    "h2.GetYaxis().SetRangeUser(N-n, N)\n",
    "h2.SetMarkerSize(.8)\n",
    "h2.LabelsOption(\"v\")\n",
    "CC = drawOnCMSCanvas(CMS_lumi, [h2, h2], ['colz', 'text same'], size=(900, 700), tag='tl', mL=0.22, mR=0.15, mB=0.25)\n",
    "CC.SaveAs(outdir+'/fig/covariance_zoom.png')"
   ]
  },
  {
   "cell_type": "code",
   "execution_count": null,
   "metadata": {
    "ExecuteTime": {
     "end_time": "2020-09-03T20:14:35.411936Z",
     "start_time": "2020-09-03T20:05:49.748Z"
    },
    "hidden": true,
    "scrolled": true
   },
   "outputs": [],
   "source": [
    "cSigPost = plot_gridVarQ2(CMS_lumi, binning, histo_postfit, draw_pulls=True)\n",
    "cSigPost.SaveAs(outdir+'/fig/signalRegion_postfit.png')"
   ]
  },
  {
   "cell_type": "code",
   "execution_count": null,
   "metadata": {
    "ExecuteTime": {
     "end_time": "2020-09-03T20:14:35.414403Z",
     "start_time": "2020-09-03T20:05:49.751Z"
    },
    "hidden": true
   },
   "outputs": [],
   "source": [
    "if useMVA:\n",
    "    cMVAPost = plot_SingleCategory(CMS_lumi, histo_postfit['MVA'], scale_dic=scale_dic, draw_pulls=True,\n",
    "                                  addText='', logy=True, legBkg=True,\n",
    "                                  procOrder = ['tau', 'DstD', 'Dstst', 'mu'],\n",
    "                                  min_y=1, tag='MVA', legLoc=[0.25, 0.4, 0.5, 0.7])\n",
    "    cMVAPost.SaveAs(outdir+'/fig/signalRegionMVA_postfit.png')"
   ]
  },
  {
   "cell_type": "code",
   "execution_count": null,
   "metadata": {
    "ExecuteTime": {
     "end_time": "2020-09-03T20:14:35.416809Z",
     "start_time": "2020-09-03T20:05:49.755Z"
    },
    "hidden": true,
    "scrolled": true
   },
   "outputs": [],
   "source": [
    "cSidePost = {}\n",
    "for k in np.sort(sideVar.keys()):\n",
    "    legLoc = [0.67, 0.3, 0.93, 0.72]\n",
    "    if 'MassVis' in sideVar[k]:\n",
    "        legLoc = [0.18, 0.4, 0.4, 0.75]\n",
    "    cSidePost[k] = plot_SingleCategory(CMS_lumi, histo_postfit[k], \n",
    "                                       xtitle=sideXtitle[k], addText=sideAddtext[k], \n",
    "                                       tag=k, legLoc=legLoc,\n",
    "                                       draw_pulls=True\n",
    "                                      )\n",
    "    cSidePost[k].SaveAs(outdir+'/fig/'+k+'_postfit.png')"
   ]
  },
  {
   "cell_type": "code",
   "execution_count": null,
   "metadata": {
    "ExecuteTime": {
     "end_time": "2020-09-03T20:14:35.419207Z",
     "start_time": "2020-09-03T20:05:49.759Z"
    },
    "hidden": true,
    "scrolled": false
   },
   "outputs": [],
   "source": [
    "cmd = 'python diffNuisances.py '.format(os.environ['CMSSW_BASE'])\n",
    "cmd += outdir + '/fitDiagnostics{}.root'.format(card_name)\n",
    "cmd += ' --skipFitB'\n",
    "# cmd += ' --all'\n",
    "cmd += ' --abs'\n",
    "cmd += ' -g {}/nuisance_difference.root'.format(outdir)\n",
    "print cmd\n",
    "status, output = commands.getstatusoutput(cmd)\n",
    "dumpDiffNuisances(output, outdir)"
   ]
  },
  {
   "cell_type": "markdown",
   "metadata": {
    "heading_collapsed": true,
    "hide_input": true
   },
   "source": [
    "## Run likelyhood scan"
   ]
  },
  {
   "cell_type": "code",
   "execution_count": null,
   "metadata": {
    "ExecuteTime": {
     "end_time": "2020-09-03T20:14:35.421513Z",
     "start_time": "2020-09-03T20:05:49.763Z"
    },
    "hidden": true,
    "hide_input": false
   },
   "outputs": [],
   "source": [
    "cmd = 'combine'\n",
    "cmd += ' -M MultiDimFit'\n",
    "# cmd += ' --algo grid --points=50'\n",
    "cmd += ' --algo grid --points=100'\n",
    "cmd += ' --robustFit 1'\n",
    "cmd += ' -d ' + card_location.replace('.txt', '.root')\n",
    "# cmd += ' -D ' + histo[histo.keys()[0]]['data'].GetName()\n",
    "cmd += ' --X-rtd MINIMIZER_analytic'\n",
    "cmd += ' --rMin={:.3f} --rMax={:.3f}'.format(*rDst_postFitRegion)\n",
    "cmd += ' -n {}_nominal'.format(card_name)\n",
    "if len(channelMasking):\n",
    "    cmd += ' --setParameters ' + ','.join(['mask_{}=1'.format(c) for c in channelMasking])\n",
    "cmd += ' --verbose -1'\n",
    "print cmd\n",
    "os.system(cmd)\n",
    "cmd = 'plot1DScan.py higgsCombine{}_nominal.MultiDimFit.mH120.root'.format(card_name)\n",
    "cmd += '; mv scan.png scan_nominal.png'\n",
    "os.system(cmd)\n",
    "res_nominal = getUncertaintyFromLimitTree('higgsCombine{}_nominal.MultiDimFit.mH120.root'.format(card_name))\n",
    "display(Image(filename='scan_nominal.png'))"
   ]
  },
  {
   "cell_type": "markdown",
   "metadata": {
    "heading_collapsed": true,
    "hidden": true
   },
   "source": [
    "### Uncertainy breakdown by group"
   ]
  },
  {
   "cell_type": "code",
   "execution_count": null,
   "metadata": {
    "ExecuteTime": {
     "end_time": "2020-09-03T20:14:35.423841Z",
     "start_time": "2020-09-03T20:05:49.767Z"
    },
    "hidden": true
   },
   "outputs": [],
   "source": [
    "histo={'a':{'data':rt.TH1F('data_obs', 'data_obs', 10, 0, 1)}}\n",
    "rDst_postFitRegion = [0.01, 0.9]"
   ]
  },
  {
   "cell_type": "code",
   "execution_count": null,
   "metadata": {
    "ExecuteTime": {
     "end_time": "2020-09-03T20:14:35.426214Z",
     "start_time": "2020-09-03T20:05:49.770Z"
    },
    "hidden": true,
    "hide_input": false
   },
   "outputs": [],
   "source": [
    "cmd = 'combine -M MultiDimFit'\n",
    "cmd += ' --cminDefaultMinimizerStrategy=2 --robustFit 1 --X-rtd MINIMIZER_analytic'\n",
    "cmd += ' -d ' + card_location.replace('.txt', '.root')\n",
    "cmd += ' -D ' + histo[histo.keys()[0]]['data'].GetName()\n",
    "cmd += ' --setParameters r={:.2f}'.format(SM_RDst)\n",
    "cmd += ' --setParameterRanges r=0.01,1'\n",
    "cmd += ' -n {}_bestfit'.format(card_name)\n",
    "cmd += ' --saveWorkspace --verbose -1'\n",
    "print cmd\n",
    "os.system(cmd);"
   ]
  },
  {
   "cell_type": "code",
   "execution_count": null,
   "metadata": {
    "ExecuteTime": {
     "end_time": "2020-09-03T20:14:35.428359Z",
     "start_time": "2020-09-03T20:05:49.773Z"
    },
    "hidden": true,
    "hide_input": false
   },
   "outputs": [],
   "source": [
    "# Statistical uncertainty\n",
    "cmd = 'combine -M MultiDimFit --algo grid --points=50'\n",
    "cmd += ' --cminDefaultMinimizerStrategy=2 --robustFit 1 --X-rtd MINIMIZER_analytic'\n",
    "cmd += ' -d higgsCombine{}_bestfit.MultiDimFit.mH120.root'.format(card_name)\n",
    "cmd += ' --snapshotName MultiDimFit'\n",
    "cmd += ' -D ' + histo[histo.keys()[0]]['data'].GetName()\n",
    "cmd += ' --rMin={:.4f} --rMax={:.4f}'.format(*rDst_postFitRegion)\n",
    "cmd += ' -n {}_stat'.format(card_name)\n",
    "cmd += ' --freezeParameters allConstrainedNuisances'\n",
    "# cmd += ' --freezeNuisanceGroups=autoMCStats,allSys'\n",
    "cmd += ' --fastScan' # To be added if there are no free parameters otherwise\n",
    "cmd += ' --verbose -1'\n",
    "print cmd\n",
    "os.system(cmd);"
   ]
  },
  {
   "cell_type": "code",
   "execution_count": null,
   "metadata": {
    "ExecuteTime": {
     "end_time": "2020-09-03T20:14:35.430543Z",
     "start_time": "2020-09-03T20:05:49.776Z"
    },
    "hidden": true,
    "hide_input": false
   },
   "outputs": [],
   "source": [
    "# MC Statistics\n",
    "cmd = 'combine -M MultiDimFit --algo grid --points=100'\n",
    "cmd += ' --cminDefaultMinimizerStrategy=2 --robustFit 1 --X-rtd MINIMIZER_analytic'\n",
    "cmd += ' -d higgsCombine{}_bestfit.MultiDimFit.mH120.root'.format(card_name)\n",
    "cmd += ' -D ' + histo[histo.keys()[0]]['data'].GetName()\n",
    "cmd += ' --rMin={:.4f} --rMax={:.4f}'.format(*rDst_postFitRegion)\n",
    "cmd += ' -n {}_MCstat'.format(card_name)\n",
    "cmd += ' --snapshotName MultiDimFit'\n",
    "cmd += ' --freezeNuisanceGroups=autoMCStats'\n",
    "cmd += ' --verbose -1'\n",
    "print cmd\n",
    "os.system(cmd);"
   ]
  },
  {
   "cell_type": "code",
   "execution_count": null,
   "metadata": {
    "ExecuteTime": {
     "end_time": "2020-09-03T20:14:35.432873Z",
     "start_time": "2020-09-03T20:05:49.779Z"
    },
    "hidden": true,
    "hide_input": false,
    "scrolled": true
   },
   "outputs": [],
   "source": [
    "json.dump({'r': 'R(D*)'}, open(outdir+'/renameDicLikelihoodScan.json', 'w'))\n",
    "\n",
    "cmd = 'plot1DScan.py higgsCombine{}_nominal.MultiDimFit.mH120.root'.format(card_name)\n",
    "cmd += ' --others'\n",
    "cmd += ' \"higgsCombine{}_MCstat.MultiDimFit.mH120.root:Freeze MC stat:4\"'.format(card_name)\n",
    "cmd += ' \"higgsCombine{}_stat.MultiDimFit.mH120.root:Freeze all:2\"'.format(card_name)\n",
    "cmd += ' --breakdown MCstat,syst,stat'\n",
    "cmd += ' --translate ' + outdir+'/renameDicLikelihoodScan.json'\n",
    "cmd += '; mv scan.png scan_breakdown.png'\n",
    "print cmd\n",
    "os.system(cmd)\n",
    "display(Image(filename='scan_breakdown.png'))"
   ]
  },
  {
   "cell_type": "code",
   "execution_count": null,
   "metadata": {
    "ExecuteTime": {
     "end_time": "2020-09-03T20:14:35.435062Z",
     "start_time": "2020-09-03T20:05:49.782Z"
    },
    "hidden": true
   },
   "outputs": [],
   "source": [
    "os.system('mv higgsCombine{}_*.MultiDimFit.mH120.root '.format(card_name) + outdir + '/')\n",
    "os.system('mv scan* ' + outdir + '/')\n",
    "os.system('mv combine_logger.out ' + outdir + '/');"
   ]
  },
  {
   "cell_type": "markdown",
   "metadata": {
    "heading_collapsed": true
   },
   "source": [
    "## Run the impact plots"
   ]
  },
  {
   "cell_type": "code",
   "execution_count": null,
   "metadata": {
    "ExecuteTime": {
     "end_time": "2020-09-03T20:14:35.437174Z",
     "start_time": "2020-09-03T20:05:49.786Z"
    },
    "hidden": true
   },
   "outputs": [],
   "source": [
    "if not runImpacts:\n",
    "    raise"
   ]
  },
  {
   "cell_type": "markdown",
   "metadata": {
    "hidden": true
   },
   "source": [
    "Fit first the POI"
   ]
  },
  {
   "cell_type": "code",
   "execution_count": null,
   "metadata": {
    "ExecuteTime": {
     "end_time": "2020-09-03T20:14:35.439153Z",
     "start_time": "2020-09-03T20:05:49.790Z"
    },
    "hidden": true
   },
   "outputs": [],
   "source": [
    "os.mkdir(outdir+'/impactPlots')"
   ]
  },
  {
   "cell_type": "code",
   "execution_count": null,
   "metadata": {
    "ExecuteTime": {
     "end_time": "2020-09-03T20:14:35.441287Z",
     "start_time": "2020-09-03T20:05:49.793Z"
    },
    "hidden": true,
    "scrolled": true
   },
   "outputs": [],
   "source": [
    "cmd = 'cd {}/impactPlots;'.format(outdir)\n",
    "cmd += ' combineTool.py -M Impacts --doInitialFit -m 120'\n",
    "cmd += ' --robustFit 1 --X-rtd MINIMIZER_analytic'\n",
    "cmd += ' -d ../../../' + card_location.replace('.txt', '.root')\n",
    "cmd += ' -D ' + histo[histo.keys()[0]]['data'].GetName()\n",
    "cmd += ' --setParameters r={:.2f}'.format(SM_RDst)\n",
    "cmd += ' --setParameterRanges r=0.01,1'\n",
    "cmd += ' -n {}'.format(card_name)\n",
    "cmd += ' --verbose -1'\n",
    "os.system(cmd);"
   ]
  },
  {
   "cell_type": "markdown",
   "metadata": {
    "hidden": true
   },
   "source": [
    " Perform a similar scan for each nuisance parameter"
   ]
  },
  {
   "cell_type": "markdown",
   "metadata": {
    "hidden": true
   },
   "source": [
    "If running on Tier2 condor remmeber to add this line to CombineToolBase.py ln 11\n",
    "``source /cvmfs/cms.cern.ch/cmsset_default.sh``"
   ]
  },
  {
   "cell_type": "code",
   "execution_count": null,
   "metadata": {
    "ExecuteTime": {
     "end_time": "2020-09-03T20:14:35.443387Z",
     "start_time": "2020-09-03T20:05:49.799Z"
    },
    "hidden": true
   },
   "outputs": [],
   "source": [
    "cmd = 'cd {}/impactPlots;'.format(outdir)\n",
    "cmd += ' combineTool.py -M Impacts --doFits -m 120'\n",
    "cmd += ' --robustFit 1 --X-rtd MINIMIZER_analytic'\n",
    "# cmd += ' --parallel 20'\n",
    "cmd += ' --parallel 100 --job-mode condor --task-name combineImpacts_'+category\n",
    "cmd += ' --sub-opts \"{}\"'.format(stringJubCustomizationCaltechT2.replace('\"', '\\\\\\\"').replace('$', '\\$'))\n",
    "cmd += ' -d ../../../' + card_location.replace('.txt', '.root')\n",
    "cmd += ' -D ' + histo[histo.keys()[0]]['data'].GetName()\n",
    "cmd += ' -n {}'.format(card_name)\n",
    "cmd += ' --verbose -1'\n",
    "print cmd\n",
    "os.system(cmd);"
   ]
  },
  {
   "cell_type": "markdown",
   "metadata": {
    "hidden": true
   },
   "source": [
    "Collect the results"
   ]
  },
  {
   "cell_type": "code",
   "execution_count": null,
   "metadata": {
    "ExecuteTime": {
     "end_time": "2020-09-03T20:14:35.445491Z",
     "start_time": "2020-09-03T20:05:49.804Z"
    },
    "hidden": true
   },
   "outputs": [],
   "source": [
    "status, output = commands.getstatusoutput('condor_q')\n",
    "while 'combineImpacts_'+category in output:\n",
    "    time.sleep(20)\n",
    "    status, output = commands.getstatusoutput('condor_q')\n",
    "    for l in output.split('\\n'):\n",
    "        if 'combineImpacts_'+category in l: \n",
    "            print l\n",
    "            sys.stdout.flush()\n",
    "cmd = 'cd {}/impactPlots;'.format(outdir)\n",
    "cmd += ' combineTool.py -M Impacts -o impacts.json -m 120'\n",
    "cmd += ' -d ../../../' + card_location.replace('.txt', '.root')\n",
    "cmd += ' -n {}'.format(card_name)\n",
    "print cmd\n",
    "os.system(cmd);"
   ]
  },
  {
   "cell_type": "code",
   "execution_count": null,
   "metadata": {
    "ExecuteTime": {
     "end_time": "2020-09-03T20:14:35.447677Z",
     "start_time": "2020-09-03T20:05:49.807Z"
    },
    "hidden": true,
    "scrolled": false
   },
   "outputs": [],
   "source": [
    "rename = {\n",
    "'r': 'R(D*)',\n",
    "'B0pT': 'B_{0} p_{T} spectrum',\n",
    "'B2DstCLNR0':'R_{0} (CLN B#rightarrow D*l#nu)',\n",
    "# 'B2DstCLNR1':'R_{1} (CLN B#rightarrow D*)',\n",
    "# 'B2DstCLNR2':'R_{2} (CLN B#rightarrow D*)',\n",
    "# 'B2DstCLNRhoSq':'#rho^{2} (CLN B#rightarrow D*)',\n",
    "'B2DstCLNeig1':'#lambda_{1} (CLN B#rightarrow D*l#nu)',\n",
    "'B2DstCLNeig2':'#lambda_{2} (CLN B#rightarrow D*l#nu)',\n",
    "'B2DstCLNeig3':'#lambda_{3} (CLN B#rightarrow D*l#nu)',\n",
    "'trgSF': 'Trigger scale factor',\n",
    "'xsecpp2bbXlumi': 'Luminosity*#sigma_{pp#rightarrowbb}',\n",
    "    \n",
    "}\n",
    "\n",
    "procName_dic = {\n",
    "'mu'        : 'B_{0}#rightarrow D*#mu#nu',\n",
    "'tau'       : 'B_{0}#rightarrow D*#tau#nu',\n",
    "'DstmD0'    : 'B^{+}#rightarrow D*D_{0}(#muY) + X',\n",
    "'DstmDp'    : 'B^{+}#rightarrow D*D^{+}(#muY) + X',\n",
    "'DstmDsp'   : 'B^{+}#rightarrow D*D_{s}^{+}(#muX)',\n",
    "'DstPip'    : 'B^{+}#rightarrow D*#pi^{+}#mu#nu',\n",
    "'DstPipPi0' : 'B^{+}#rightarrow D*#pi^{+}#pi^{0}#mu#nu',\n",
    "'DstPi0'    : 'B_{0}#rightarrow D*#pi^{0}#mu#nu',\n",
    "'DstPipPim' : 'B_{0}#rightarrow D*#pi^{+}#pi^{-}#mu#nu',\n",
    "'DstPi0Pi0' : 'B_{0}#rightarrow D*#pi^{0}#pi^{0}#mu#nu',\n",
    "'BpDstmHc'  : 'B^{+}#rightarrow D*D(#muX)',\n",
    "'BmDstmHc'  : 'B^{-}#rightarrow D*D(#muX)',\n",
    "'antiB0DstmHc'  : '#bar{B}_{0}#rightarrow D*D(#muX)',\n",
    "'DstPi'     : 'B #rightarrow D**(#rightarrow D*#pi)#mu#nu',\n",
    "'DstPiPi'   : 'B #rightarrow D**(#rightarrow D*#pi#pi)#mu#nu',\n",
    "}\n",
    "\n",
    "for n in procName_dic:\n",
    "    rename[n+'Br'] = 'Branching fraction ' + procName_dic[n]\n",
    "\n",
    "d = json.load(open(outdir+'/impactPlots/impacts.json', 'r'))\n",
    "for par in d['params']:\n",
    "    name = str(par['name'])\n",
    "    if not name.startswith('prop_bin'): continue\n",
    "    label = name.replace('prop_bin', 'MC stat. ')\n",
    "    label = label.replace('M2_miss_', 'M^{2}_{miss} ')\n",
    "    label = label.replace('Est_mu_', 'E*_{#mu} ')\n",
    "    label = label.replace('q2bin', '[b_{q^{2}}=')\n",
    "    label = label.replace('_bin', '] ')\n",
    "    rename[name] = label + 10*' '\n",
    "    \n",
    "json.dump(rename, open(outdir+'/impactPlots/rename.json', 'w'))\n",
    "\n",
    "cmd = 'cd {};'.format(outdir)\n",
    "cmd += 'plotImpacts.py -i impactPlots/impacts.json -o impacts -t impactPlots/rename.json'\n",
    "os.system(cmd)\n",
    "IFrame(outdir+'/impacts.pdf', width=900, height=600)"
   ]
  },
  {
   "cell_type": "markdown",
   "metadata": {},
   "source": [
    "## Run the Goodness of fit test"
   ]
  },
  {
   "cell_type": "markdown",
   "metadata": {},
   "source": [
    "Run the observed test stat value"
   ]
  },
  {
   "cell_type": "code",
   "execution_count": null,
   "metadata": {
    "ExecuteTime": {
     "end_time": "2020-09-03T20:14:35.449730Z",
     "start_time": "2020-09-03T20:05:49.812Z"
    },
    "scrolled": true
   },
   "outputs": [],
   "source": [
    "cmd = 'combine -M GoodnessOfFit --toysFrequentist --algo=saturated'\n",
    "cmd += ' --X-rtd MINIMIZER_analytic --cminDefaultMinimizerStrategy 0'\n",
    "cmd += ' -d results/{cn}/higgsCombine{cn}_bestfit.MultiDimFit.mH120.root'.format(cn=card_name)\n",
    "cmd += ' --snapshotName MultiDimFit --bypassFrequentistFit'\n",
    "cmd += ' -D ' + histo[histo.keys()[0]]['data'].GetName()\n",
    "cmd += ' -n Obs'                                    # Just the output name\n",
    "cmd += ' -t 0'                                      # Don't run toys\n",
    "cmd += ' -s 1'                                      # Random seed\n",
    "cmd += ' --setParameters r={:.2f}'.format(SM_RDst)\n",
    "cmd += ' --setParameterRanges r=0.001,1'\n",
    "cmd += ' --plots --verbose -1'\n",
    "print cmd\n",
    "os.system(cmd)"
   ]
  },
  {
   "cell_type": "markdown",
   "metadata": {},
   "source": [
    "Run the test stat toy distribution"
   ]
  },
  {
   "cell_type": "code",
   "execution_count": null,
   "metadata": {
    "ExecuteTime": {
     "end_time": "2020-09-03T20:14:35.451724Z",
     "start_time": "2020-09-03T20:05:49.816Z"
    }
   },
   "outputs": [],
   "source": [
    "cmd = 'combine -M GoodnessOfFit --toysFrequentist --algo=saturated'\n",
    "cmd += ' --X-rtd MINIMIZER_analytic --cminDefaultMinimizerStrategy 0'\n",
    "cmd += ' -d results/{cn}/higgsCombine{cn}_bestfit.MultiDimFit.mH120.root'.format(cn=card_name)\n",
    "cmd += ' --snapshotName MultiDimFit --bypassFrequentistFit'\n",
    "cmd += ' -D ' + histo[histo.keys()[0]]['data'].GetName()\n",
    "cmd += ' -n Toys'                                   # Just the output name\n",
    "cmd += ' -t 30'                                     # Number of toys to run\n",
    "cmd += ' -s -1'                                     # Random seed\n",
    "cmd += ' --setParameters r={:.2f}'.format(SM_RDst)\n",
    "cmd += ' --setParameterRanges r=0.001,1'\n",
    "cmd += ' --plots --verbose -1'\n",
    "cmdToys = cmd\n",
    "print cmdToys\n",
    "# os.system(cmdToys)"
   ]
  },
  {
   "cell_type": "code",
   "execution_count": null,
   "metadata": {
    "ExecuteTime": {
     "end_time": "2020-09-03T20:14:35.453819Z",
     "start_time": "2020-09-03T20:05:49.819Z"
    }
   },
   "outputs": [],
   "source": [
    "from multiprocessing import Pool\n",
    "\n",
    "def runCommand(cmd):\n",
    "    os.system(cmd)\n",
    "\n",
    "Nrep = 15\n",
    "p = Pool(min(20,Nrep))\n",
    "outputs = p.map(runCommand, Nrep*[cmdToys])"
   ]
  },
  {
   "cell_type": "code",
   "execution_count": null,
   "metadata": {
    "ExecuteTime": {
     "end_time": "2020-09-03T20:14:35.455830Z",
     "start_time": "2020-09-03T20:05:49.822Z"
    }
   },
   "outputs": [],
   "source": [
    "os.system('mv *.root {}/'.format(outdir));"
   ]
  },
  {
   "cell_type": "markdown",
   "metadata": {},
   "source": [
    "Combine them to get the p-value"
   ]
  },
  {
   "cell_type": "code",
   "execution_count": null,
   "metadata": {
    "ExecuteTime": {
     "end_time": "2020-09-03T20:14:35.457926Z",
     "start_time": "2020-09-03T20:05:49.826Z"
    }
   },
   "outputs": [],
   "source": [
    "f = ur.open(outdir+'/higgsCombineObs.GoodnessOfFit.mH120.1.root')\n",
    "s_obs = f['limit']['limit'].array()[0]\n",
    "\n",
    "s_toys = []\n",
    "for name_toys in glob(outdir+'/higgsCombineToys.GoodnessOfFit.*.root'):\n",
    "    f = ur.open(name_toys)\n",
    "    s_toys += list(f['limit']['limit'].array())\n",
    "p_val = np.sum(s_toys > s_obs)/float(len(s_toys))\n",
    "\n",
    "plt.rcParams.update({'font.size': 18})\n",
    "fig = plt.figure(figsize=(8,6))\n",
    "content, center, _ = plt.hist(s_toys, weights=np.ones_like(s_toys)/float(len(s_toys)), \n",
    "                              alpha=0.7, label='Toys ({:.0f})'.format(float(len(s_toys))))\n",
    "plt.plot([s_obs, s_obs], [0, np.max(content)], 'm--', label='Observed\\np-val {:.1f}%'.format(100*p_val))\n",
    "plt.legend(loc='upper right')\n",
    "plt.xlabel('Test statistic')\n",
    "plt.ylabel('Probability / {:.1f}'.format(0.5*(center[2]-center[1])))\n",
    "plt.savefig(outdir + '/fig/goodnessOfFit_test.png')"
   ]
  }
 ],
 "metadata": {
  "kernelspec": {
   "display_name": "Python 2",
   "language": "python",
   "name": "python2"
  },
  "language_info": {
   "codemirror_mode": {
    "name": "ipython",
    "version": 2
   },
   "file_extension": ".py",
   "mimetype": "text/x-python",
   "name": "python",
   "nbconvert_exporter": "python",
   "pygments_lexer": "ipython2",
   "version": "2.7.14+"
  },
  "varInspector": {
   "cols": {
    "lenName": 16,
    "lenType": 16,
    "lenVar": 40
   },
   "kernels_config": {
    "python": {
     "delete_cmd_postfix": "",
     "delete_cmd_prefix": "del ",
     "library": "var_list.py",
     "varRefreshCmd": "print(var_dic_list())"
    },
    "r": {
     "delete_cmd_postfix": ") ",
     "delete_cmd_prefix": "rm(",
     "library": "var_list.r",
     "varRefreshCmd": "cat(var_dic_list()) "
    }
   },
   "position": {
    "height": "308px",
    "left": "1550px",
    "right": "20px",
    "top": "120px",
    "width": "338px"
   },
   "types_to_exclude": [
    "module",
    "function",
    "builtin_function_or_method",
    "instance",
    "_Feature"
   ],
   "window_display": false
  }
 },
 "nbformat": 4,
 "nbformat_minor": 2
}
