{
 "cells": [
  {
   "cell_type": "markdown",
   "metadata": {},
   "source": [
    "New:\n",
    " - Additional D* with multiple pions sample\n",
    " - Parallel toys for goodness of fit\n",
    " - Hc shape variation very very approximate"
   ]
  },
  {
   "cell_type": "code",
   "execution_count": 1,
   "metadata": {
    "ExecuteTime": {
     "end_time": "2020-05-10T18:00:42.917277Z",
     "start_time": "2020-05-10T18:00:42.908010Z"
    }
   },
   "outputs": [],
   "source": [
    "card_name = 'v7'"
   ]
  },
  {
   "cell_type": "code",
   "execution_count": 2,
   "metadata": {
    "ExecuteTime": {
     "end_time": "2020-05-10T18:00:42.955481Z",
     "start_time": "2020-05-10T18:00:42.922776Z"
    }
   },
   "outputs": [],
   "source": [
    "fit_real_data = True\n",
    "category = 'low'\n",
    "SM_RDst = 0.26\n",
    "fastRun = True"
   ]
  },
  {
   "cell_type": "markdown",
   "metadata": {
    "hide_input": true
   },
   "source": [
    "# Import"
   ]
  },
  {
   "cell_type": "code",
   "execution_count": 3,
   "metadata": {
    "ExecuteTime": {
     "end_time": "2020-05-10T18:00:43.394116Z",
     "start_time": "2020-05-10T18:00:42.961013Z"
    }
   },
   "outputs": [],
   "source": [
    "import sys, os, pickle, time\n",
    "from glob import glob\n",
    "sys.path.append('../lib')\n",
    "sys.path.append('../analysis')\n",
    "from categoriesDef import categories\n",
    "import itertools\n",
    "import commands\n",
    "from prettytable import PrettyTable\n",
    "import json, yaml\n",
    "from IPython.display import IFrame, Image, display"
   ]
  },
  {
   "cell_type": "code",
   "execution_count": 4,
   "metadata": {
    "ExecuteTime": {
     "end_time": "2020-05-10T18:00:53.920966Z",
     "start_time": "2020-05-10T18:00:43.399720Z"
    }
   },
   "outputs": [
    {
     "name": "stdout",
     "output_type": "stream",
     "text": [
      "Welcome to JupyROOT 6.12/07\n"
     ]
    }
   ],
   "source": [
    "import numpy as np\n",
    "import matplotlib.pyplot as plt\n",
    "from array import array\n",
    "\n",
    "import uproot as ur\n",
    "import ROOT as rt\n",
    "rt.gErrorIgnoreLevel = rt.kError\n",
    "rt.RooMsgService.instance().setGlobalKillBelow(rt.RooFit.ERROR)\n",
    "import root_numpy as rtnp\n",
    "\n",
    "from analysis_utilities import drawOnCMSCanvas, getEff, DSetLoader\n",
    "from pT_calibration_reader import pTCalReader\n",
    "from histo_utilities import create_TH1D, create_TH2D, std_color_list\n",
    "from gridVarQ2Plot import plot_gridVarQ2, plot_SingleCategory\n",
    "from progressBar import ProgressBar\n",
    "from lumi_utilities import getLumiByTrigger\n",
    "from combine_utilities import getUncertaintyFromLimitTree, dumpDiffNuisances, stringJubCustomizationCaltechT2\n",
    "\n",
    "import CMS_lumi, tdrstyle\n",
    "tdrstyle.setTDRStyle()\n",
    "CMS_lumi.writeExtraText = 1\n",
    "\n",
    "if fit_real_data:\n",
    "    CMS_lumi.extraText = \"     Preliminary\"\n",
    "else:\n",
    "    CMS_lumi.extraText = \"     Simulation Preliminary\"\n",
    "\n",
    "donotdelete = []"
   ]
  },
  {
   "cell_type": "code",
   "execution_count": 5,
   "metadata": {
    "ExecuteTime": {
     "end_time": "2020-05-10T18:00:53.945156Z",
     "start_time": "2020-05-10T18:00:53.927985Z"
    }
   },
   "outputs": [],
   "source": [
    "cat = categories[category]"
   ]
  },
  {
   "cell_type": "markdown",
   "metadata": {},
   "source": [
    "# Load the datasets"
   ]
  },
  {
   "cell_type": "code",
   "execution_count": 6,
   "metadata": {
    "ExecuteTime": {
     "end_time": "2020-05-10T18:01:19.876622Z",
     "start_time": "2020-05-10T18:00:53.950661Z"
    }
   },
   "outputs": [],
   "source": [
    "#They all have to be produced with the same pileup\n",
    "MCsample = {\n",
    "'mu' : DSetLoader('B0_MuNuDmst_PUc0'),\n",
    "'tau' : DSetLoader('B0_TauNuDmst_PUc0'),\n",
    "'Hc' : DSetLoader('B0_DmstHc_PUc0'),\n",
    "'DstPip' : DSetLoader('Bp_MuNuDstst_Pip_PUc0'),\n",
    "'DstPi0' : DSetLoader('B0_MuNuDstst_Pi0_PUc0'),\n",
    "# 'DstPi0' : DSetLoader('B0_DmstPi0MuNu_PUc0'),\n",
    "'DstPipPi0' : DSetLoader('Bp_MuNuDstst_PipPi0_PUc0'),\n",
    "'DstPipPim' : DSetLoader('B0_MuNuDstst_PipPim_PUc0'),\n",
    "'DstPi0Pi0' : DSetLoader('B0_MuNuDstst_Pi0Pi0_PUc0'),\n",
    "}\n",
    "dSet = {}\n",
    "dSetTkSide = {}\n",
    "for n, s in MCsample.iteritems():\n",
    "    dSet[n] = rtnp.root2array(s.skimmed_dir + '/{}_corr.root'.format(cat.name))\n",
    "    dSetTkSide[n] = rtnp.root2array(s.skimmed_dir + '/{}_skip17_corr.root'.format(cat.name))"
   ]
  },
  {
   "cell_type": "code",
   "execution_count": 7,
   "metadata": {
    "ExecuteTime": {
     "end_time": "2020-05-10T18:01:22.709931Z",
     "start_time": "2020-05-10T18:01:19.882783Z"
    }
   },
   "outputs": [
    {
     "name": "stdout",
     "output_type": "stream",
     "text": [
      "Run2018D-05May2019promptD-v1_RDntuplizer_B2DstMu_200416\n",
      "HLT_Mu7_IP4_part2_v2 1.28\n",
      "Run2018D-05May2019promptD-v1_RDntuplizer_B2DstMu_200416\n",
      "HLT_Mu7_IP4_part1_v2 1.28\n",
      "Run2018D-05May2019promptD-v1_RDntuplizer_B2DstMu_200416\n",
      "HLT_Mu7_IP4_part4_v2 1.28\n",
      "Run2018D-05May2019promptD-v1_RDntuplizer_B2DstMu_200416\n",
      "HLT_Mu7_IP4_part3_v2 1.28\n",
      "Run2018D-05May2019promptD-v1_RDntuplizer_B2DstMu_200416\n",
      "HLT_Mu7_IP4_part0_v2 1.27\n",
      "Total lumi: 6.39 fb^-1\n"
     ]
    }
   ],
   "source": [
    "if fit_real_data:\n",
    "    creation_date = '200416'\n",
    "    locRD = '../data/cmsRD/skimmed/B2DstMu_{}_{}'.format(creation_date, cat.name)\n",
    "    dSet['data'] = rtnp.root2array(locRD + '_corr.root')\n",
    "    dSetTkSide['data'] = rtnp.root2array(locRD + '_skip17_corr.root')\n",
    "    dataDir = '../data/cmsRD'\n",
    "    datasets_loc = glob(dataDir + '/ParkingBPH*/*RDntuplizer_B2DstMu_{}_CAND.root'.format(creation_date))\n",
    "    lumi_tot = getLumiByTrigger(datasets_loc, cat.trg, verbose=True)\n",
    "    CMS_lumi.integrated_lumi = lumi_tot\n",
    "else:\n",
    "    expectedLumi = {'low':6., 'mid':20., 'high':26., 'single':6.} #fb^-1\n",
    "    lumi_tot = expectedLumi[category]"
   ]
  },
  {
   "cell_type": "markdown",
   "metadata": {
    "heading_collapsed": true
   },
   "source": [
    "# Load all the calibrations"
   ]
  },
  {
   "cell_type": "markdown",
   "metadata": {
    "hidden": true
   },
   "source": [
    "Pileup"
   ]
  },
  {
   "cell_type": "code",
   "execution_count": 8,
   "metadata": {
    "ExecuteTime": {
     "end_time": "2020-05-10T18:01:22.895904Z",
     "start_time": "2020-05-10T18:01:22.715080Z"
    },
    "hidden": true
   },
   "outputs": [],
   "source": [
    "loc = '../data/cmsRD/ParkingBPH{}/Run2018D-05May2019promptD-v1_RDntuplizer_PrescaleVertices_200421_CAND.root'\n",
    "fAuxPileupRD = []\n",
    "\n",
    "hPileupTarget = None\n",
    "\n",
    "for i in range(2, 6):\n",
    "    fAuxPileupRD.append(rt.TFile.Open(loc.format(i), 'READ'))\n",
    "    if hPileupTarget is None:\n",
    "        hPileupTarget = fAuxPileupRD[-1].Get('nVtx/hNvtxPassed'+cat.trg).Clone()\n",
    "    else:\n",
    "        hPileupTarget.Add(fAuxPileupRD[-1].Get('nVtx/hNvtxPassed'+cat.trg))\n",
    "\n",
    "hPileupTarget.Scale(1./hPileupTarget.Integral())\n",
    "\n",
    "fAuxPileupMC = rt.TFile.Open(MCsample['mu'].skimmed_dir + '/{}_corr.root'.format(cat.name), 'READ')\n",
    "hPileupGen = fAuxPileupMC.Get('hAllNvtx')\n",
    "hPileupGen.Scale(1./hPileupGen.Integral())\n",
    "\n",
    "weights = np.ones(hPileupGen.GetNbinsX())\n",
    "s = 0\n",
    "for i in range(weights.shape[0]):\n",
    "    if hPileupGen.GetBinContent(i+1) == 0:\n",
    "        continue\n",
    "    weights[i] = hPileupTarget.GetBinContent(i+1)/hPileupGen.GetBinContent(i+1)\n",
    "    s += hPileupGen.GetBinContent(i+1) * weights[i]\n",
    "\n",
    "weightsPileupMC = weights/s\n",
    "\n",
    "for f in fAuxPileupRD + [fAuxPileupMC]:\n",
    "    f.Close()\n",
    "\n",
    "def getPileupWeights(ds, selection=None):\n",
    "    x = ds['N_vtx']\n",
    "    if not selection is None:\n",
    "        x = x[selection]\n",
    "    return weightsPileupMC[x.astype(np.int)]"
   ]
  },
  {
   "cell_type": "markdown",
   "metadata": {
    "hidden": true
   },
   "source": [
    "Total norm pre-scale"
   ]
  },
  {
   "cell_type": "code",
   "execution_count": 9,
   "metadata": {
    "ExecuteTime": {
     "end_time": "2020-05-10T18:01:23.028662Z",
     "start_time": "2020-05-10T18:01:22.901836Z"
    },
    "hidden": true
   },
   "outputs": [
    {
     "name": "stdout",
     "output_type": "stream",
     "text": [
      "Expected ratio between RD and MC norm: 2.632 +/- 0.063\n"
     ]
    }
   ],
   "source": [
    "r = np.zeros((3,2))\n",
    "for i, fn in enumerate(glob('../data/calibration/totalRate/ratioB02JPsiKst_*.txt')):\n",
    "    with open(fn, 'r') as faux:\n",
    "        aux = faux.readlines()[0][:-1].split(' ')\n",
    "        r[i] = [float(aux[0]), float(aux[1])]\n",
    "s2 = np.square(r[:,1])\n",
    "num = np.sum(r[:,0]/s2)\n",
    "den = np.sum(1./s2)\n",
    "RDoMC_normRatio = [num/den, np.sqrt(1/den)]\n",
    "print 'Expected ratio between RD and MC norm: {:.3f} +/- {:.3f}'.format(RDoMC_normRatio[0], RDoMC_normRatio[1])"
   ]
  },
  {
   "cell_type": "markdown",
   "metadata": {
    "hidden": true
   },
   "source": [
    "Branching fraction"
   ]
  },
  {
   "cell_type": "code",
   "execution_count": 10,
   "metadata": {
    "ExecuteTime": {
     "end_time": "2020-05-10T18:01:23.077071Z",
     "start_time": "2020-05-10T18:01:23.035182Z"
    },
    "hidden": true
   },
   "outputs": [],
   "source": [
    "decayBR = pickle.load(open('../data/forcedDecayChannelsFactors.pickle', 'rb'))"
   ]
  },
  {
   "cell_type": "markdown",
   "metadata": {
    "hidden": true
   },
   "source": [
    "Trigger scale factor"
   ]
  },
  {
   "cell_type": "code",
   "execution_count": 11,
   "metadata": {
    "ExecuteTime": {
     "end_time": "2020-05-10T18:01:23.165117Z",
     "start_time": "2020-05-10T18:01:23.083004Z"
    },
    "hidden": true
   },
   "outputs": [],
   "source": [
    "loc = '../data/calibration/triggerScaleFactors/'\n",
    "fTriggerSF = rt.TFile.Open(loc + 'HLT_' + cat.trg + '_SF.root', 'READ')\n",
    "hTriggerSF = fTriggerSF.Get('hSF_HLT_' + cat.trg)"
   ]
  },
  {
   "cell_type": "code",
   "execution_count": 12,
   "metadata": {
    "ExecuteTime": {
     "end_time": "2020-05-10T18:01:23.214295Z",
     "start_time": "2020-05-10T18:01:23.171156Z"
    },
    "hidden": true
   },
   "outputs": [],
   "source": [
    "def computeTrgSF(ds, selection=None):\n",
    "    trgSF = np.ones_like(ds['q2'])\n",
    "    trgSFUnc = np.zeros_like(ds['q2'])\n",
    "    if not fastRun:\n",
    "        ptmax = hTriggerSF.GetXaxis().GetXmax() - 0.01\n",
    "        ipmax = hTriggerSF.GetYaxis().GetXmax() - 0.01\n",
    "        etamax = hTriggerSF.GetZaxis().GetXmax() - 0.01\n",
    "        x = np.column_stack((ds['mu_pt'], ds['mu_eta'], ds['mu_sigdxy']))\n",
    "        if not selection is None:\n",
    "            x = x[selection]\n",
    "        for i, (pt, eta, ip) in enumerate(x):\n",
    "            ix = hTriggerSF.GetXaxis().FindBin(min(ptmax, pt))\n",
    "            iy = hTriggerSF.GetYaxis().FindBin(min(ipmax, ip))\n",
    "            iz = hTriggerSF.GetZaxis().FindBin(min(etamax, np.abs(eta)))\n",
    "            trgSF[i] = hTriggerSF.GetBinContent(ix, iy, iz)\n",
    "            ib = hTriggerSF.GetBin(ix, iy, iz)\n",
    "            trgSFUnc[i] = hTriggerSF.GetBinError(ib)\n",
    "            if trgSF[i] == 0:\n",
    "                print pt, ip, np.abs(eta)\n",
    "                raise\n",
    "    # Divide them for the weight so later you can simply multiply back to get the value\n",
    "    up = 1 + trgSFUnc/trgSF\n",
    "    down = 1 - trgSFUnc/trgSF\n",
    "    return trgSF, up, down"
   ]
  },
  {
   "cell_type": "markdown",
   "metadata": {
    "hidden": true
   },
   "source": [
    "Muon ID scale factors"
   ]
  },
  {
   "cell_type": "code",
   "execution_count": 13,
   "metadata": {
    "ExecuteTime": {
     "end_time": "2020-05-10T18:01:23.297406Z",
     "start_time": "2020-05-10T18:01:23.220144Z"
    },
    "hidden": true
   },
   "outputs": [],
   "source": [
    "fMuonIDSF = rt.TFile.Open('../data/calibration/muonIDscaleFactors/Run2018ABCD_SF_MuonID_Jpsi.root', 'READ')\n",
    "hMuonIDSF = fMuonIDSF.Get('NUM_SoftID_DEN_genTracks_pt_abseta')"
   ]
  },
  {
   "cell_type": "code",
   "execution_count": 14,
   "metadata": {
    "ExecuteTime": {
     "end_time": "2020-05-10T18:01:23.370033Z",
     "start_time": "2020-05-10T18:01:23.302895Z"
    },
    "hidden": true
   },
   "outputs": [],
   "source": [
    "def computeMuonIDSF(ds, selection=None):\n",
    "    muonSF = np.ones_like(ds['q2'])\n",
    "    muonSFUnc = np.zeros_like(ds['q2'])\n",
    "    if not fastRun:\n",
    "        ptmax = hMuonIDSF.GetXaxis().GetXmax() - 0.01\n",
    "        etamax = hMuonIDSF.GetYaxis().GetXmax() - 0.01\n",
    "        x = np.column_stack((ds['MC_mu_pt'], ds['MC_mu_eta']))\n",
    "        if not selection is None:\n",
    "            x = x[selection]\n",
    "        for i, (pt, eta) in enumerate(x):\n",
    "            ix = hMuonIDSF.GetXaxis().FindBin(min(pt, ptmax))\n",
    "            if ix == 0: ix = 1 #Remove underflows (Meaning that the MC matching failed)\n",
    "            iy = hMuonIDSF.GetYaxis().FindBin(min(np.abs(eta), etamax))\n",
    "            muonSF[i] = hMuonIDSF.GetBinContent(ix, iy)\n",
    "            muonSFUnc[i] = hMuonIDSF.GetBinError(hMuonIDSF.GetBin(ix, iy))\n",
    "            if muonSF[i] == 0:\n",
    "                print pt, eta\n",
    "                print ix, iy\n",
    "                raise\n",
    "    up = 1 + muonSFUnc/muonSF\n",
    "    down = 1 - muonSFUnc/muonSF\n",
    "    return muonSF, up, down"
   ]
  },
  {
   "cell_type": "markdown",
   "metadata": {
    "hidden": true
   },
   "source": [
    "B transverse momentum calibration"
   ]
  },
  {
   "cell_type": "code",
   "execution_count": 15,
   "metadata": {
    "ExecuteTime": {
     "end_time": "2020-05-10T18:01:23.445041Z",
     "start_time": "2020-05-10T18:01:23.375188Z"
    },
    "hidden": true
   },
   "outputs": [],
   "source": [
    "aux = 'Low' if category == 'single' else cat.name\n",
    "cal_pT = pTCalReader(calibration_file='../data/calibration/B0pTspectrum/pwWeights_{}.txt'.format(aux))"
   ]
  },
  {
   "cell_type": "code",
   "execution_count": 16,
   "metadata": {
    "ExecuteTime": {
     "end_time": "2020-05-10T18:01:23.532814Z",
     "start_time": "2020-05-10T18:01:23.450934Z"
    },
    "hidden": true
   },
   "outputs": [],
   "source": [
    "def computeB0pTweights(ds):\n",
    "    # The denominator (sum of weights) for this weights is not known but it cancel out in the ratio\n",
    "    w = cal_pT.f['C'](ds['MC_B_pt'])\n",
    "    if np.sum(w==0):\n",
    "        print np.sum(w==0)\n",
    "        raise\n",
    "    up = cal_pT.f['Up'](ds['MC_B_pt'])/w\n",
    "    down = cal_pT.f['Down'](ds['MC_B_pt'])/w\n",
    "    return w, up, down"
   ]
  },
  {
   "cell_type": "code",
   "execution_count": 17,
   "metadata": {
    "ExecuteTime": {
     "end_time": "2020-05-10T18:01:23.578318Z",
     "start_time": "2020-05-10T18:01:23.536583Z"
    },
    "hidden": true
   },
   "outputs": [],
   "source": [
    "def computeBrVarWeights(ds, pdgIdMother, var = 0.2):\n",
    "    pdgId = ds['MC_muMotherPdgId'].astype(np.int)\n",
    "    nTot = float(np.sum(pdgId == pdgIdMother))\n",
    "    w = np.ones_like(pdgId)\n",
    "    up = np.where(pdgId == pdgIdMother, 1.+var, 1.)\n",
    "    up = nTot/np.sum(up)\n",
    "    down = np.where(pdgId == pdgIdMother, 1.-var, 1.)\n",
    "    down = nTot/np.sum(down)\n",
    "    return w, up, down"
   ]
  },
  {
   "cell_type": "markdown",
   "metadata": {},
   "source": [
    "# Create MC histograms"
   ]
  },
  {
   "cell_type": "markdown",
   "metadata": {},
   "source": [
    "### Signal region"
   ]
  },
  {
   "cell_type": "code",
   "execution_count": 18,
   "metadata": {
    "ExecuteTime": {
     "end_time": "2020-05-10T18:01:23.643109Z",
     "start_time": "2020-05-10T18:01:23.583004Z"
    },
    "hide_input": false
   },
   "outputs": [],
   "source": [
    "binning = {\n",
    "    'M2_miss' : [\n",
    "        array('d', [-2.5] + list(np.arange(-1.8, 1.0, 0.4)) + [8] ),\n",
    "        array('d', [-2.5] + list(np.arange(-1.8, 3.0, 0.4)) + [8] ),\n",
    "        array('d', [-2.5] + list(np.arange(-1.8, 5.6, 0.4)) + [8] ),\n",
    "        array('d', [-2.5] + list(np.arange(-1.8, 7.6, 0.4)) + [8] ),\n",
    "    ],\n",
    "    'Est_mu'  : [\n",
    "        array('d', [0.3] + list(np.arange(0.7, 2.3, 0.1)) + [2.5] ),\n",
    "        array('d', [0.3] + list(np.arange(0.7, 2.5, 0.1)) + [2.5] ),\n",
    "        array('d', [0.3] + list(np.arange(0.5, 2.5, 0.1)) + [2.5] ),\n",
    "        [22, 0.3, 2.500],\n",
    "    ],\n",
    "}\n",
    "if fit_real_data:\n",
    "    binning['q2'] = array('d', [-2, 2.5, 6])\n",
    "else:\n",
    "    binning['q2'] = array('d', [-2, 2.5, 6, 9.4, 12])"
   ]
  },
  {
   "cell_type": "code",
   "execution_count": 19,
   "metadata": {
    "ExecuteTime": {
     "end_time": "2020-05-10T18:01:25.935786Z",
     "start_time": "2020-05-10T18:01:23.649513Z"
    },
    "code_folding": [],
    "hide_input": false,
    "scrolled": true
   },
   "outputs": [
    {
     "name": "stdout",
     "output_type": "stream",
     "text": [
      "\n",
      "-----------> tau <-------------\n",
      "N tot selected: 60.7k\n",
      "N tot expected (before weights): 6.0k\n",
      "Including pileup reweighting\n",
      "Including trigger corrections\n",
      "Including muon ID corrections\n",
      "Including B0 pT corrections\n",
      "Including FF corrections (Hammer)\n",
      "Computing total weights\n",
      "N tot expected (after weights): 6.6k\n",
      "\n",
      "-----------> DstPipPi0 <-------------\n",
      "N tot selected: 14.6k\n",
      "N tot expected (before weights): 0.2k\n",
      "Including pileup reweighting\n",
      "Including trigger corrections\n",
      "Including muon ID corrections\n",
      "Computing total weights\n",
      "N tot expected (after weights): 0.2k\n",
      "\n",
      "-----------> DstPi0 <-------------\n",
      "N tot selected: 48.7k\n",
      "N tot expected (before weights): 5.0k\n",
      "Including pileup reweighting\n",
      "Including trigger corrections\n",
      "Including muon ID corrections\n",
      "Including B0 pT corrections\n",
      "Computing total weights\n",
      "N tot expected (after weights): 5.4k\n",
      "\n",
      "-----------> mu <-------------\n",
      "N tot selected: 500.8k\n",
      "N tot expected (before weights): 118.4k\n",
      "Including pileup reweighting\n",
      "Including trigger corrections\n",
      "Including muon ID corrections\n",
      "Including B0 pT corrections\n",
      "Including FF corrections (Hammer)\n",
      "Computing total weights\n",
      "N tot expected (after weights): 123.1k\n",
      "\n",
      "-----------> DstPip <-------------\n",
      "N tot selected: 36.0k\n",
      "N tot expected (before weights): 4.4k\n",
      "Including pileup reweighting\n",
      "Including trigger corrections\n",
      "Including muon ID corrections\n",
      "Computing total weights\n",
      "N tot expected (after weights): 4.7k\n",
      "\n",
      "-----------> DstPipPim <-------------\n",
      "N tot selected: 5.8k\n",
      "N tot expected (before weights): 0.3k\n",
      "Including pileup reweighting\n",
      "Including trigger corrections\n",
      "Including muon ID corrections\n",
      "Including B0 pT corrections\n",
      "Computing total weights\n",
      "N tot expected (after weights): 0.3k\n",
      "\n",
      "-----------> Hc <-------------\n",
      "N tot selected: 15.2k\n",
      "N tot expected (before weights): 1.1k\n",
      "Including pileup reweighting\n",
      "Including trigger corrections\n",
      "Including muon ID corrections\n",
      "Including B0 pT corrections\n",
      "Including Hc mix variation\n",
      "Computing total weights\n",
      "N tot expected (after weights): 1.2k\n",
      "\n",
      "-----------> DstPi0Pi0 <-------------\n",
      "N tot selected: 46.6k\n",
      "N tot expected (before weights): 0.6k\n",
      "Including pileup reweighting\n",
      "Including trigger corrections\n",
      "Including muon ID corrections\n",
      "Including B0 pT corrections\n",
      "Computing total weights\n",
      "N tot expected (after weights): 0.6k\n"
     ]
    }
   ],
   "source": [
    "histo = {}\n",
    "for n, ds in dSet.iteritems():\n",
    "    if n == 'data': continue\n",
    "    print '\\n----------->', n, '<-------------'\n",
    "    sMC = MCsample[n]\n",
    "    \n",
    "    nTotSelected = ds['q2'].shape[0]\n",
    "    print 'N tot selected: {:.1f}k'.format(1e-3*nTotSelected)\n",
    "    nGenExp = sMC.effMCgen['xsec'][0] * lumi_tot * RDoMC_normRatio[0]\n",
    "    eff = [1, 0]\n",
    "    for f, df in [sMC.effMCgen['effGEN'], decayBR[n], sMC.effCand['effCAND'], sMC.getSkimEff(cat.name+'_corr')]:\n",
    "        eff[0] *= f\n",
    "        eff[1] += np.square(df/f)\n",
    "    eff[1] = eff[0] * np.sqrt(eff[1])\n",
    "    nTotExp = nGenExp*eff[0]\n",
    "    print 'N tot expected (before weights): {:.1f}k'.format(1e-3*nTotExp)\n",
    "    \n",
    "    wVar = {}\n",
    "    weights = {}\n",
    "    \n",
    "    print 'Including pileup reweighting'\n",
    "    weights['pileup'] = getPileupWeights(ds)\n",
    "    print 'Including trigger corrections'\n",
    "    weights['trgSF'], wVar['trgSFUp'], wVar['trgSFDown'] = computeTrgSF(ds)\n",
    "    print 'Including muon ID corrections'\n",
    "    weights['muonIdSF'], wVar['muonIdSFUp'], wVar['muonIdSFDown'] = computeMuonIDSF(ds)\n",
    "    if n in ['mu', 'tau', 'Hc','DstPi0', 'DstPipPim', 'DstPi0Pi0']: #B0 dominated final states (probably we should do something about B+ too)\n",
    "        print 'Including B0 pT corrections'\n",
    "        weights['B0pT'], wVar['B0pTUp'], wVar['B0pTDown'] = computeB0pTweights(ds)\n",
    "    # Hammer corrections to the FF\n",
    "    if n in ['mu', 'tau']:\n",
    "        print 'Including FF corrections (Hammer)'\n",
    "        weights['B2DstCLN'] = ds['wh_CLNCentral']*sMC.effCand['rate_den']/sMC.effCand['rate_Central']\n",
    "        for nPar in ['R0', 'R1', 'R2', 'RhoSq']:\n",
    "            for var in ['Up', 'Down']:\n",
    "                tag = 'CLN' + nPar + var\n",
    "                wVar['B2Dst'+tag] = ds['wh_'+tag]/sMC.effCand['rate_' + nPar + var]\n",
    "                wVar['B2Dst'+tag] *= sMC.effCand['rate_Central']/ds['wh_CLNCentral']\n",
    "    # Hc shape variation\n",
    "    if n == 'Hc':\n",
    "        print 'Including Hc mix variation'\n",
    "        _, wVar['HcmixD02muUp'], wVar['HcmixD02muDown'] = computeBrVarWeights(ds, 421, 0.2)\n",
    "        _, wVar['HcmixDs2muUp'], wVar['HcmixDs2muDown'] = computeBrVarWeights(ds, 431, 0.2)\n",
    "    \n",
    "    print 'Computing total weights'\n",
    "    weightsCentral = np.ones_like(ds['q2'])\n",
    "    for w in weights.values(): weightsCentral *= w\n",
    "    print 'N tot expected (after weights): {:.1f}k'.format(1e-3*nTotExp*np.sum(weightsCentral)/nTotSelected)\n",
    "    wVar[''] = np.ones_like(weightsCentral)\n",
    "    \n",
    "    for i_q2 in range(len(binning['q2'])-1):\n",
    "        q2_l = binning['q2'][i_q2]\n",
    "        q2_h = binning['q2'][i_q2 + 1]\n",
    "        sel_q2 = np.logical_and(ds['q2'] > q2_l, ds['q2'] < q2_h)\n",
    "        for var in ['M2_miss', 'Est_mu']:\n",
    "            cat_name = var+'_q2bin'+str(i_q2)\n",
    "            \n",
    "            if not cat_name in histo.keys():\n",
    "                histo[cat_name] = {}\n",
    "            \n",
    "            for name_wVar, v_wVar in wVar.iteritems():\n",
    "                h_name = n\n",
    "                if not name_wVar == '':\n",
    "                    h_name += '__' + name_wVar\n",
    "                w = weightsCentral*v_wVar\n",
    "                scale = nTotExp/nTotSelected\n",
    "                histo[cat_name][h_name] = create_TH1D(\n",
    "                                                      ds[var][sel_q2], \n",
    "                                                      name=h_name, title=h_name, \n",
    "                                                      binning=binning[var][i_q2], \n",
    "                                                      opt='underflow,overflow',\n",
    "                                                      weights=w[sel_q2], scale_histo=scale,\n",
    "                                                      )"
   ]
  },
  {
   "cell_type": "markdown",
   "metadata": {
    "heading_collapsed": true
   },
   "source": [
    "### Single track side"
   ]
  },
  {
   "cell_type": "code",
   "execution_count": 20,
   "metadata": {
    "ExecuteTime": {
     "end_time": "2020-05-10T18:01:26.017052Z",
     "start_time": "2020-05-10T18:01:25.940584Z"
    },
    "hidden": true
   },
   "outputs": [],
   "source": [
    "sideSelecton = {}\n",
    "sideVar = {}\n",
    "sideXtitle = {}\n",
    "sideAddtext = {}\n",
    "\n",
    "def selfun__TkPlus(ds):\n",
    "    sel = np.logical_and(ds['N_goodAddTks'] == 1, ds['tkCharge_0'] > 0)\n",
    "    return sel\n",
    "#     return np.logical_and(np.abs(ds['tkMassHad_0'] - 2.43) < 0.3, sel)\n",
    "sideSelecton['AddTk_p_mHad'] = selfun__TkPlus\n",
    "sideVar['AddTk_p_mHad'] = 'tkMassHad_0'\n",
    "binning['AddTk_p_mHad'] = [35, 2.13, 2.83]\n",
    "sideXtitle['AddTk_p_mHad'] = 'Total hadrons mass'\n",
    "sideAddtext['AddTk_p_mHad'] = 'N_{tk} = 1 & Q_{tk} = +1'\n",
    "\n",
    "def selfun__TkMinus(ds):\n",
    "    sel = np.logical_and(ds['N_goodAddTks'] == 1, ds['tkCharge_0'] < 0)\n",
    "    return sel\n",
    "sideSelecton['AddTk_m_mHad'] = selfun__TkMinus\n",
    "sideVar['AddTk_m_mHad'] = 'tkMassHad_0'\n",
    "binning['AddTk_m_mHad'] = [30, 2.1, 3.3]\n",
    "sideXtitle['AddTk_m_mHad'] = 'Total hadrons mass'\n",
    "sideAddtext['AddTk_m_mHad'] = 'N_{tk} = 1 & Q_{tk} = -1'\n",
    "\n",
    "\n",
    "def selfun__TkPlusMinus(ds):\n",
    "    sel = np.logical_and(ds['tkCharge_0']+ds['tkCharge_1'] == 0, ds['N_goodAddTks'] == 2)\n",
    "    sel = np.logical_and(ds['tkMassVis12'] < 5.3, sel)\n",
    "    return sel\n",
    "sideSelecton['AddTk_pm_mVis'] = selfun__TkPlusMinus\n",
    "sideVar['AddTk_pm_mVis'] = 'tkMassVis12'\n",
    "binning['AddTk_pm_mVis'] = array('d', [2.8] + list(np.arange(3., 5.3, 0.1)) + [5.3] )\n",
    "sideXtitle['AddTk_pm_mVis'] = 'Total visible mass'\n",
    "sideAddtext['AddTk_pm_mVis'] = 'N_{tk} = 2 & #sumQ_{tk} = 0'\n",
    "\n",
    "\n",
    "sideSelecton['AddTk_pm_mHad'] = selfun__TkPlusMinus\n",
    "sideVar['AddTk_pm_mHad'] = 'tkMassHad12'\n",
    "binning['AddTk_pm_mHad'] = [30, 2.25, 3.75]\n",
    "sideXtitle['AddTk_pm_mHad'] = 'Total hadrons mass'\n",
    "sideAddtext['AddTk_pm_mHad'] = 'N_{tk} = 2 & #sumQ_{tk} = 0'\n",
    "\n",
    "def selfun__TkMinusMinus(ds):\n",
    "    sel = np.logical_and(ds['tkCharge_0']+ds['tkCharge_1'] == -2, ds['N_goodAddTks'] == 2)\n",
    "    sel = np.logical_and(ds['tkMassVis12'] < 5.3, sel)\n",
    "    return sel\n",
    "sideSelecton['AddTk_mm_mHad'] = selfun__TkMinusMinus\n",
    "sideVar['AddTk_mm_mHad'] = 'tkMassHad12'\n",
    "binning['AddTk_mm_mHad'] = [15, 2.25, 3.75]\n",
    "sideXtitle['AddTk_mm_mHad'] = 'Total hadrons mass'\n",
    "sideAddtext['AddTk_mm_mHad'] = 'N_{tk} = 2 & #sumQ_{tk} = -2'\n",
    "\n",
    "def selfun__TkPlusPlus(ds):\n",
    "    sel = np.logical_and(ds['tkCharge_0']+ds['tkCharge_1'] == +2, ds['N_goodAddTks'] == 2)\n",
    "    sel = np.logical_and(ds['tkMassVis12'] < 5.3, sel)\n",
    "    return sel\n",
    "sideSelecton['AddTk_pp_mHad'] = selfun__TkPlusPlus\n",
    "sideVar['AddTk_pp_mHad'] = 'tkMassHad12'\n",
    "binning['AddTk_pp_mHad'] = [15, 2.25, 3.75]\n",
    "sideXtitle['AddTk_pp_mHad'] = 'Total hadrons mass'\n",
    "sideAddtext['AddTk_pp_mHad'] = 'N_{tk} = 2 & #sumQ_{tk} = +2'"
   ]
  },
  {
   "cell_type": "code",
   "execution_count": 21,
   "metadata": {
    "ExecuteTime": {
     "end_time": "2020-05-10T18:01:27.355250Z",
     "start_time": "2020-05-10T18:01:26.021506Z"
    },
    "hidden": true,
    "scrolled": true
   },
   "outputs": [
    {
     "name": "stdout",
     "output_type": "stream",
     "text": [
      "\n",
      "-----------> tau <-------------\n",
      "Including pileup reweighting\n",
      "Including trigger corrections\n",
      "Including muon ID corrections\n",
      "Including B0 pT corrections\n",
      "Including FF corrections (Hammer)\n",
      "Computing total weights\n",
      "N tot selected AddTk_pm_mHad: 162\n",
      "N tot expected AddTk_pm_mHad (before weights): 16\n",
      "N tot expected AddTk_pm_mHad (after weights): 16\n",
      "N tot selected AddTk_m_mHad: 1958\n",
      "N tot expected AddTk_m_mHad (before weights): 195\n",
      "N tot expected AddTk_m_mHad (after weights): 202\n",
      "N tot selected AddTk_p_mHad: 2244\n",
      "N tot expected AddTk_p_mHad (before weights): 223\n",
      "N tot expected AddTk_p_mHad (after weights): 231\n",
      "N tot selected AddTk_pp_mHad: 79\n",
      "N tot expected AddTk_pp_mHad (before weights): 8\n",
      "N tot expected AddTk_pp_mHad (after weights): 8\n",
      "N tot selected AddTk_mm_mHad: 51\n",
      "N tot expected AddTk_mm_mHad (before weights): 5\n",
      "N tot expected AddTk_mm_mHad (after weights): 5\n",
      "N tot selected AddTk_pm_mVis: 162\n",
      "N tot expected AddTk_pm_mVis (before weights): 16\n",
      "N tot expected AddTk_pm_mVis (after weights): 16\n",
      "\n",
      "-----------> DstPipPi0 <-------------\n",
      "Including pileup reweighting\n",
      "Including trigger corrections\n",
      "Including muon ID corrections\n",
      "Computing total weights\n",
      "N tot selected AddTk_pm_mHad: 1444\n",
      "N tot expected AddTk_pm_mHad (before weights): 21\n",
      "N tot expected AddTk_pm_mHad (after weights): 22\n",
      "N tot selected AddTk_m_mHad: 784\n",
      "N tot expected AddTk_m_mHad (before weights): 12\n",
      "N tot expected AddTk_m_mHad (after weights): 11\n",
      "N tot selected AddTk_p_mHad: 32109\n",
      "N tot expected AddTk_p_mHad (before weights): 471\n",
      "N tot expected AddTk_p_mHad (after weights): 498\n",
      "N tot selected AddTk_pp_mHad: 1069\n",
      "N tot expected AddTk_pp_mHad (before weights): 16\n",
      "N tot expected AddTk_pp_mHad (after weights): 16\n",
      "N tot selected AddTk_mm_mHad: 30\n",
      "N tot expected AddTk_mm_mHad (before weights): 0\n",
      "N tot expected AddTk_mm_mHad (after weights): 1\n",
      "N tot selected AddTk_pm_mVis: 1444\n",
      "N tot expected AddTk_pm_mVis (before weights): 21\n",
      "N tot expected AddTk_pm_mVis (after weights): 22\n",
      "\n",
      "-----------> DstPi0 <-------------\n",
      "Including pileup reweighting\n",
      "Including trigger corrections\n",
      "Including muon ID corrections\n",
      "Including B0 pT corrections\n",
      "Computing total weights\n",
      "N tot selected AddTk_pm_mHad: 261\n",
      "N tot expected AddTk_pm_mHad (before weights): 27\n",
      "N tot expected AddTk_pm_mHad (after weights): 30\n",
      "N tot selected AddTk_m_mHad: 2222\n",
      "N tot expected AddTk_m_mHad (before weights): 227\n",
      "N tot expected AddTk_m_mHad (after weights): 229\n",
      "N tot selected AddTk_p_mHad: 2440\n",
      "N tot expected AddTk_p_mHad (before weights): 249\n",
      "N tot expected AddTk_p_mHad (after weights): 254\n",
      "N tot selected AddTk_pp_mHad: 96\n",
      "N tot expected AddTk_pp_mHad (before weights): 10\n",
      "N tot expected AddTk_pp_mHad (after weights): 10\n",
      "N tot selected AddTk_mm_mHad: 71\n",
      "N tot expected AddTk_mm_mHad (before weights): 7\n",
      "N tot expected AddTk_mm_mHad (after weights): 7\n",
      "N tot selected AddTk_pm_mVis: 261\n",
      "N tot expected AddTk_pm_mVis (before weights): 27\n",
      "N tot expected AddTk_pm_mVis (after weights): 30\n",
      "\n",
      "-----------> mu <-------------\n",
      "Including pileup reweighting\n",
      "Including trigger corrections\n",
      "Including muon ID corrections\n",
      "Including B0 pT corrections\n",
      "Including FF corrections (Hammer)\n",
      "Computing total weights\n",
      "N tot selected AddTk_pm_mHad: 1957\n",
      "N tot expected AddTk_pm_mHad (before weights): 463\n",
      "N tot expected AddTk_pm_mHad (after weights): 468\n",
      "N tot selected AddTk_m_mHad: 21578\n",
      "N tot expected AddTk_m_mHad (before weights): 5102\n",
      "N tot expected AddTk_m_mHad (after weights): 5032\n",
      "N tot selected AddTk_p_mHad: 24619\n",
      "N tot expected AddTk_p_mHad (before weights): 5822\n",
      "N tot expected AddTk_p_mHad (after weights): 5775\n",
      "N tot selected AddTk_pp_mHad: 884\n",
      "N tot expected AddTk_pp_mHad (before weights): 209\n",
      "N tot expected AddTk_pp_mHad (after weights): 211\n",
      "N tot selected AddTk_mm_mHad: 678\n",
      "N tot expected AddTk_mm_mHad (before weights): 160\n",
      "N tot expected AddTk_mm_mHad (after weights): 163\n",
      "N tot selected AddTk_pm_mVis: 1957\n",
      "N tot expected AddTk_pm_mVis (before weights): 463\n",
      "N tot expected AddTk_pm_mVis (after weights): 468\n",
      "\n",
      "-----------> DstPip <-------------\n",
      "Including pileup reweighting\n",
      "Including trigger corrections\n",
      "Including muon ID corrections\n",
      "Computing total weights\n",
      "N tot selected AddTk_pm_mHad: 2694\n",
      "N tot expected AddTk_pm_mHad (before weights): 332\n",
      "N tot expected AddTk_pm_mHad (after weights): 339\n",
      "N tot selected AddTk_m_mHad: 1803\n",
      "N tot expected AddTk_m_mHad (before weights): 222\n",
      "N tot expected AddTk_m_mHad (after weights): 225\n",
      "N tot selected AddTk_p_mHad: 62533\n",
      "N tot expected AddTk_p_mHad (before weights): 7702\n",
      "N tot expected AddTk_p_mHad (after weights): 8091\n",
      "N tot selected AddTk_pp_mHad: 1919\n",
      "N tot expected AddTk_pp_mHad (before weights): 236\n",
      "N tot expected AddTk_pp_mHad (after weights): 245\n",
      "N tot selected AddTk_mm_mHad: 65\n",
      "N tot expected AddTk_mm_mHad (before weights): 8\n",
      "N tot expected AddTk_mm_mHad (after weights): 8\n",
      "N tot selected AddTk_pm_mVis: 2694\n",
      "N tot expected AddTk_pm_mVis (before weights): 332\n",
      "N tot expected AddTk_pm_mVis (after weights): 339\n",
      "\n",
      "-----------> DstPipPim <-------------\n",
      "Including pileup reweighting\n",
      "Including trigger corrections\n",
      "Including muon ID corrections\n",
      "Including B0 pT corrections\n",
      "Computing total weights\n",
      "N tot selected AddTk_pm_mHad: 17873\n",
      "N tot expected AddTk_pm_mHad (before weights): 854\n",
      "N tot expected AddTk_pm_mHad (after weights): 940\n",
      "N tot selected AddTk_m_mHad: 7127\n",
      "N tot expected AddTk_m_mHad (before weights): 341\n",
      "N tot expected AddTk_m_mHad (after weights): 353\n",
      "N tot selected AddTk_p_mHad: 9237\n",
      "N tot expected AddTk_p_mHad (before weights): 441\n",
      "N tot expected AddTk_p_mHad (after weights): 458\n",
      "N tot selected AddTk_pp_mHad: 354\n",
      "N tot expected AddTk_pp_mHad (before weights): 17\n",
      "N tot expected AddTk_pp_mHad (after weights): 17\n",
      "N tot selected AddTk_mm_mHad: 265\n",
      "N tot expected AddTk_mm_mHad (before weights): 13\n",
      "N tot expected AddTk_mm_mHad (after weights): 13\n",
      "N tot selected AddTk_pm_mVis: 17873\n",
      "N tot expected AddTk_pm_mVis (before weights): 854\n",
      "N tot expected AddTk_pm_mVis (after weights): 940\n",
      "\n",
      "-----------> Hc <-------------\n",
      "Including pileup reweighting\n",
      "Including trigger corrections\n",
      "Including muon ID corrections\n",
      "Including B0 pT corrections\n",
      "Including Hc mix variation\n",
      "Computing total weights\n",
      "N tot selected AddTk_pm_mHad: 4784\n",
      "N tot expected AddTk_pm_mHad (before weights): 348\n",
      "N tot expected AddTk_pm_mHad (after weights): 409\n",
      "N tot selected AddTk_m_mHad: 1902\n",
      "N tot expected AddTk_m_mHad (before weights): 138\n",
      "N tot expected AddTk_m_mHad (after weights): 148\n",
      "N tot selected AddTk_p_mHad: 2969\n",
      "N tot expected AddTk_p_mHad (before weights): 216\n",
      "N tot expected AddTk_p_mHad (after weights): 243\n",
      "N tot selected AddTk_pp_mHad: 148\n",
      "N tot expected AddTk_pp_mHad (before weights): 11\n",
      "N tot expected AddTk_pp_mHad (after weights): 12\n",
      "N tot selected AddTk_mm_mHad: 65\n",
      "N tot expected AddTk_mm_mHad (before weights): 5\n",
      "N tot expected AddTk_mm_mHad (after weights): 5\n",
      "N tot selected AddTk_pm_mVis: 4784\n",
      "N tot expected AddTk_pm_mVis (before weights): 348\n",
      "N tot expected AddTk_pm_mVis (after weights): 409\n",
      "\n",
      "-----------> DstPi0Pi0 <-------------\n",
      "Including pileup reweighting\n",
      "Including trigger corrections\n",
      "Including muon ID corrections\n",
      "Including B0 pT corrections\n",
      "Computing total weights\n",
      "N tot selected AddTk_pm_mHad: 219\n",
      "N tot expected AddTk_pm_mHad (before weights): 3\n",
      "N tot expected AddTk_pm_mHad (after weights): 3\n",
      "N tot selected AddTk_m_mHad: 2078\n",
      "N tot expected AddTk_m_mHad (before weights): 25\n",
      "N tot expected AddTk_m_mHad (after weights): 26\n",
      "N tot selected AddTk_p_mHad: 2270\n",
      "N tot expected AddTk_p_mHad (before weights): 27\n",
      "N tot expected AddTk_p_mHad (after weights): 28\n",
      "N tot selected AddTk_pp_mHad: 100\n",
      "N tot expected AddTk_pp_mHad (before weights): 1\n",
      "N tot expected AddTk_pp_mHad (after weights): 1\n",
      "N tot selected AddTk_mm_mHad: 76\n",
      "N tot expected AddTk_mm_mHad (before weights): 1\n",
      "N tot expected AddTk_mm_mHad (after weights): 1\n",
      "N tot selected AddTk_pm_mVis: 219\n",
      "N tot expected AddTk_pm_mVis (before weights): 3\n",
      "N tot expected AddTk_pm_mVis (after weights): 3\n"
     ]
    }
   ],
   "source": [
    "for k in sideSelecton.keys():\n",
    "    histo[k] = {}\n",
    "\n",
    "for n, ds in dSetTkSide.iteritems():\n",
    "    if n == 'data': continue\n",
    "    print '\\n----------->', n, '<-------------'\n",
    "    sMC = MCsample[n]    \n",
    "    wVar = {}\n",
    "    weights = {}\n",
    "    \n",
    "    print 'Including pileup reweighting'\n",
    "    weights['pileup'] = getPileupWeights(ds)\n",
    "    print 'Including trigger corrections'\n",
    "    weights['trgSF'], wVar['trgSFUp'], wVar['trgSFDown'] = computeTrgSF(ds)\n",
    "    print 'Including muon ID corrections'\n",
    "    weights['muonIdSF'], wVar['muonIdSFUp'], wVar['muonIdSFDown'] = computeMuonIDSF(ds)\n",
    "    if n in ['mu', 'tau', 'Hc','DstPi0', 'DstPipPim', 'DstPi0Pi0']: #B0 dominated final states (probably we should do something about B+ too)\n",
    "        print 'Including B0 pT corrections'\n",
    "        weights['B0pT'], wVar['B0pTUp'], wVar['B0pTDown'] = computeB0pTweights(ds)\n",
    "    # Hammer corrections to the FF\n",
    "    if n in ['mu', 'tau']:\n",
    "        print 'Including FF corrections (Hammer)'\n",
    "        weights['B2DstCLN'] = ds['wh_CLNCentral']*sMC.effCand['rate_den']/sMC.effCand['rate_Central']\n",
    "        for nPar in ['R0', 'R1', 'R2', 'RhoSq']:\n",
    "            for var in ['Up', 'Down']:\n",
    "                tag = 'CLN' + nPar + var\n",
    "                wVar['B2Dst'+tag] = ds['wh_'+tag]/sMC.effCand['rate_' + nPar + var]\n",
    "                wVar['B2Dst'+tag] *= sMC.effCand['rate_Central']/ds['wh_CLNCentral']\n",
    "    # Hc shape variation\n",
    "    if n == 'Hc':\n",
    "        print 'Including Hc mix variation'\n",
    "        _, wVar['HcmixD02muUp'], wVar['HcmixD02muDown'] = computeBrVarWeights(ds, 421, 0.2)\n",
    "        _, wVar['HcmixDs2muUp'], wVar['HcmixDs2muDown'] = computeBrVarWeights(ds, 431, 0.2)\n",
    "    \n",
    "    print 'Computing total weights'\n",
    "    weightsCentral = np.ones_like(ds['q2'])\n",
    "    for w in weights.values(): weightsCentral *= w\n",
    "    wVar[''] = np.ones_like(weightsCentral)\n",
    "    \n",
    "    nGenExp = sMC.effMCgen['xsec'][0] * lumi_tot * RDoMC_normRatio[0]\n",
    "    eff = [1, 0]\n",
    "    for f, df in [sMC.effMCgen['effGEN'], \n",
    "                  decayBR[n], \n",
    "                  sMC.effCand['effCAND'], \n",
    "                  sMC.getSkimEff(cat.name+'_skip17_corr'),\n",
    "                 ]:\n",
    "        eff[0] *= f\n",
    "        eff[1] += np.square(df/f)\n",
    "    eff[1] = eff[0] * np.sqrt(eff[1])\n",
    "    nTotExp = nGenExp*eff[0]\n",
    "    \n",
    "    sel = {}\n",
    "    scale = {}\n",
    "    \n",
    "    for k, selFun in sideSelecton.iteritems():\n",
    "        sel[k] = selFun(ds)\n",
    "        nTotSel = float(np.sum(sel[k]))\n",
    "        print 'N tot selected {}: {:.0f}'.format(k, nTotSel)\n",
    "        nExp = nTotExp * nTotSel / sel[k].shape[0]\n",
    "        print 'N tot expected {} (before weights): {:.0f}'.format(k, nExp)\n",
    "        nAux = nTotExp * np.sum(weightsCentral[sel[k]]) / sel[k].shape[0]\n",
    "        print 'N tot expected {} (after weights): {:.0f}'.format(k, nAux)\n",
    "        scale[k] = nExp/nTotSel\n",
    "    \n",
    "            \n",
    "    for name_wVar, v_wVar in wVar.iteritems():\n",
    "        h_name = n\n",
    "        if not name_wVar == '':\n",
    "            h_name += '__' + name_wVar\n",
    "        w = weightsCentral*v_wVar\n",
    "        \n",
    "        for k in sideVar.keys():\n",
    "            histo[k][h_name] = create_TH1D(\n",
    "                                           ds[sideVar[k]][sel[k]], \n",
    "                                           name=h_name, title=h_name, \n",
    "                                           binning=binning[k],\n",
    "                                           opt='underflow,overflow',\n",
    "                                           weights=w[sel[k]], scale_histo=scale[k]\n",
    "                                          )"
   ]
  },
  {
   "cell_type": "markdown",
   "metadata": {
    "heading_collapsed": true
   },
   "source": [
    "# Create (pseudo-)data histogram"
   ]
  },
  {
   "cell_type": "code",
   "execution_count": 22,
   "metadata": {
    "ExecuteTime": {
     "end_time": "2020-05-10T18:01:27.476338Z",
     "start_time": "2020-05-10T18:01:27.359791Z"
    },
    "hidden": true
   },
   "outputs": [
    {
     "name": "stdout",
     "output_type": "stream",
     "text": [
      "N observed data: 162.7k\n"
     ]
    }
   ],
   "source": [
    "if fit_real_data:\n",
    "    ds = dSet['data']\n",
    "    print 'N observed data: {:.1f}k'.format(1e-3*ds['q2'].shape[0])\n",
    "    for i_q2 in range(len(binning['q2'])-1):\n",
    "        q2_l = binning['q2'][i_q2]\n",
    "        q2_h = binning['q2'][i_q2 + 1]\n",
    "        sel_q2 = np.logical_and(ds['q2'] > q2_l, ds['q2'] < q2_h)\n",
    "        for var in ['M2_miss', 'Est_mu']:\n",
    "            cat_name = var+'_q2bin'+str(i_q2)     \n",
    "            histo[cat_name]['data'] = create_TH1D(\n",
    "                                                  ds[var][sel_q2], \n",
    "                                                  name='data_obs', title='Data Obs',\n",
    "                                                  binning=binning[var][i_q2],\n",
    "                                                  opt='underflow,overflow'\n",
    "                                                 )\n",
    "    ds = dSetTkSide['data']\n",
    "    for k in sideVar.keys():\n",
    "        histo[k]['data'] = create_TH1D(\n",
    "                                       ds[sideVar[k]][sideSelecton[k](ds)], \n",
    "                                       name='data_obs', title='Data Obs', \n",
    "                                       binning=binning[k],\n",
    "                                       opt='underflow,overflow',\n",
    "                                      )\n",
    "        \n",
    "else:\n",
    "    for i_q2 in range(len(binning['q2'])-1):\n",
    "        for var in ['M2_miss', 'Est_mu']:\n",
    "            cat_name = var+'_q2bin'+str(i_q2)\n",
    "            \n",
    "            h = create_TH1D(np.array([0, 0]), name='data_obs', title='Data Obs', binning=binning[var][i_q2])\n",
    "            h.Reset()\n",
    "            for n, hMC in histo[cat_name].iteritems():\n",
    "                if not '__' in n and not n == 'data':\n",
    "                    scale = SM_RDst if 'tau' in n else 1.\n",
    "                    h.Add(hMC, scale)\n",
    "            h.Sumw2(0)\n",
    "            for i in range(1, h.GetNbinsX()+1):\n",
    "                h.SetBinContent(i, np.around(h.GetBinContent(i)))\n",
    "            h.Sumw2()\n",
    "            histo[cat_name]['data'] = h\n",
    "            \n",
    "    for k in sideVar.keys():\n",
    "        h = create_TH1D(np.array([0, 0]), name='data_obs', title='Data Obs', \n",
    "                        binning=binning[k])\n",
    "        h.Reset()\n",
    "        for n, hMC in histo[k].iteritems():\n",
    "            if not '__' in n and not n == 'data':\n",
    "                scale = SM_RDst if 'tau' in n else 1.\n",
    "                h.Add(hMC, scale)\n",
    "        h.Sumw2(0)\n",
    "        for i in range(1, h.GetNbinsX()+1):\n",
    "            h.SetBinContent(i, np.around(h.GetBinContent(i)))\n",
    "        h.Sumw2()\n",
    "        histo[k]['data'] = h"
   ]
  },
  {
   "cell_type": "code",
   "execution_count": 23,
   "metadata": {
    "ExecuteTime": {
     "end_time": "2020-05-10T18:01:28.104443Z",
     "start_time": "2020-05-10T18:01:27.480787Z"
    },
    "hidden": true,
    "scrolled": true
   },
   "outputs": [
    {
     "data": {
      "image/png": "[encoded data removed]",
      "text/plain": [
       "<IPython.core.display.Image object>"
      ]
     },
     "metadata": {},
     "output_type": "display_data"
    }
   ],
   "source": [
    "CMS_lumi.integrated_lumi = lumi_tot\n",
    "scale_dic = {'tau': SM_RDst\n",
    "            }\n",
    "\n",
    "cSigPre = plot_gridVarQ2(CMS_lumi, binning, histo, scale_dic=scale_dic, min_y=1, logy=False)"
   ]
  },
  {
   "cell_type": "code",
   "execution_count": 24,
   "metadata": {
    "ExecuteTime": {
     "end_time": "2020-05-10T18:01:28.418983Z",
     "start_time": "2020-05-10T18:01:28.108964Z"
    },
    "hidden": true,
    "scrolled": true
   },
   "outputs": [
    {
     "data": {
      "image/png": "[encoded data removed]",
      "text/plain": [
       "<IPython.core.display.Image object>"
      ]
     },
     "metadata": {},
     "output_type": "display_data"
    },
    {
     "data": {
      "image/png": "[encoded data removed]",
      "text/plain": [
       "<IPython.core.display.Image object>"
      ]
     },
     "metadata": {},
     "output_type": "display_data"
    },
    {
     "data": {
      "image/png": "[encoded data removed]",
      "text/plain": [
       "<IPython.core.display.Image object>"
      ]
     },
     "metadata": {},
     "output_type": "display_data"
    },
    {
     "data": {
      "image/png": "[encoded data removed]",
      "text/plain": [
       "<IPython.core.display.Image object>"
      ]
     },
     "metadata": {},
     "output_type": "display_data"
    },
    {
     "data": {
      "image/png": "[encoded data removed]",
      "text/plain": [
       "<IPython.core.display.Image object>"
      ]
     },
     "metadata": {},
     "output_type": "display_data"
    },
    {
     "data": {
      "image/png": "[encoded data removed]",
      "text/plain": [
       "<IPython.core.display.Image object>"
      ]
     },
     "metadata": {},
     "output_type": "display_data"
    }
   ],
   "source": [
    "cSidePre = {}\n",
    "for k in np.sort(sideVar.keys()):\n",
    "    legLoc = [0.65, 0.4, 0.9, 0.7]\n",
    "    if 'MassVis' in sideVar[k]:\n",
    "        legLoc = [0.15, 0.45, 0.35, 0.75]\n",
    "    cSidePre[k] = plot_SingleCategory(CMS_lumi, histo[k], scale_dic=scale_dic,\n",
    "                                      xtitle=sideXtitle[k], addText=sideAddtext[k], \n",
    "                                      tag=k, legLoc=legLoc)"
   ]
  },
  {
   "cell_type": "code",
   "execution_count": 25,
   "metadata": {
    "ExecuteTime": {
     "end_time": "2020-05-10T18:01:29.321746Z",
     "start_time": "2020-05-10T18:01:28.422326Z"
    },
    "hidden": true
   },
   "outputs": [],
   "source": [
    "histo_file_dir = '../data/_root/histos4combine/'\n",
    "if not os.path.isdir(histo_file_dir):\n",
    "    os.makedirs(histo_file_dir)\n",
    "histo_file_loc = {}\n",
    "for cat_name, h_dic in histo.iteritems():\n",
    "    histo_file_loc[cat_name] = histo_file_dir+'{}_{}.root'.format(card_name, cat_name)\n",
    "    tf = rt.TFile(histo_file_loc[cat_name], 'recreate')\n",
    "    for v in h_dic.values():\n",
    "        v.Write()\n",
    "    tf.Close()\n",
    "    \n",
    "del dSet, dSetTkSide"
   ]
  },
  {
   "cell_type": "markdown",
   "metadata": {},
   "source": [
    "# Write the card"
   ]
  },
  {
   "cell_type": "code",
   "execution_count": 26,
   "metadata": {
    "ExecuteTime": {
     "end_time": "2020-05-10T18:01:29.332944Z",
     "start_time": "2020-05-10T18:01:29.325528Z"
    }
   },
   "outputs": [],
   "source": [
    "sig_processes = ['tau', 'mu']\n",
    "bkg_processes = ['Hc', 'DstPip', 'DstPipPi0', 'DstPi0', 'DstPipPim', 'DstPi0Pi0']\n",
    "processes = sig_processes + bkg_processes\n",
    "nProc = len(processes)\n",
    "categories = np.sort([k for k in histo.keys()])\n",
    "nCat = len(categories)"
   ]
  },
  {
   "cell_type": "code",
   "execution_count": 27,
   "metadata": {
    "ExecuteTime": {
     "end_time": "2020-05-10T18:01:29.401387Z",
     "start_time": "2020-05-10T18:01:29.337341Z"
    }
   },
   "outputs": [],
   "source": [
    "card_location = 'cards/{}.txt'.format(card_name)\n",
    "fc = open(card_location, 'w')"
   ]
  },
  {
   "cell_type": "code",
   "execution_count": 28,
   "metadata": {
    "ExecuteTime": {
     "end_time": "2020-05-10T18:01:29.422490Z",
     "start_time": "2020-05-10T18:01:29.405679Z"
    }
   },
   "outputs": [],
   "source": [
    "# number of different categories\n",
    "card = 'imax *\\n'\n",
    "# number of processes minus one\n",
    "card += 'jmax {}\\n'.format(len(processes)-1)\n",
    "# number of nuissance parameters\n",
    "card += 'kmax *\\n'\n",
    "card += '--------------------------------------------------------------\\n'"
   ]
  },
  {
   "cell_type": "code",
   "execution_count": 29,
   "metadata": {
    "ExecuteTime": {
     "end_time": "2020-05-10T18:01:29.572175Z",
     "start_time": "2020-05-10T18:01:29.425781Z"
    }
   },
   "outputs": [],
   "source": [
    "# shape file location\n",
    "for k in categories:\n",
    "    card += 'shapes * {} {} $PROCESS $PROCESS__$SYSTEMATIC\\n'.format(k, histo_file_loc[k])\n",
    "card += '--------------------------------------------------------------\\n'"
   ]
  },
  {
   "cell_type": "markdown",
   "metadata": {
    "heading_collapsed": true
   },
   "source": [
    "### Number of events"
   ]
  },
  {
   "cell_type": "code",
   "execution_count": 30,
   "metadata": {
    "ExecuteTime": {
     "end_time": "2020-05-10T18:01:29.608855Z",
     "start_time": "2020-05-10T18:01:29.578982Z"
    },
    "hidden": true
   },
   "outputs": [],
   "source": [
    "# number of events observed\n",
    "card += 'bin ' + ' '.join(categories) + '\\n'\n",
    "obs = map(lambda k: '{:.0f}'.format(histo[k]['data'].Integral()), categories)\n",
    "obs = ' '.join(obs)\n",
    "card += 'observation ' + obs + '\\n'\n",
    "card += '--------------------------------------------------------------\\n'"
   ]
  },
  {
   "cell_type": "code",
   "execution_count": 31,
   "metadata": {
    "ExecuteTime": {
     "end_time": "2020-05-10T18:01:29.660745Z",
     "start_time": "2020-05-10T18:01:29.614068Z"
    },
    "hidden": true
   },
   "outputs": [],
   "source": [
    "# MC expected events\n",
    "aux_bin = ''\n",
    "aux_proc_name = ''\n",
    "aux_proc_id = ''\n",
    "aux_proc_rate = ''\n",
    "for c, p in itertools.product(categories, processes):\n",
    "    aux_bin += ' '+c\n",
    "    aux_proc_name += ' '+p\n",
    "    aux_proc_id += ' '+str(np.argmax(np.array(processes) == p))\n",
    "    aux_proc_rate += ' {:.2f}'.format(histo[c][p].Integral())\n",
    "    \n",
    "card += 'bin' + aux_bin + '\\n'\n",
    "card += 'process' + aux_proc_name + '\\n'\n",
    "# Zero or negative for sig and positive for bkg\n",
    "card += 'process' + aux_proc_id + '\\n'\n",
    "# Expected rate\n",
    "card += 'rate' + aux_proc_rate + '\\n'\n",
    "card += '--------------------------------------------------------------\\n'"
   ]
  },
  {
   "cell_type": "markdown",
   "metadata": {},
   "source": [
    "## Systematic uncertainties"
   ]
  },
  {
   "cell_type": "markdown",
   "metadata": {},
   "source": [
    "### Scale systematics"
   ]
  },
  {
   "cell_type": "code",
   "execution_count": 32,
   "metadata": {
    "ExecuteTime": {
     "end_time": "2020-05-10T18:01:29.720955Z",
     "start_time": "2020-05-10T18:01:29.664394Z"
    }
   },
   "outputs": [],
   "source": [
    "#pp -> bb cros-section * luminosity\n",
    "card += 'xsecpp2bbXlumi lnN' + ' 1.9'*nProc*nCat + '\\n'"
   ]
  },
  {
   "cell_type": "code",
   "execution_count": 33,
   "metadata": {
    "ExecuteTime": {
     "end_time": "2020-05-10T18:01:29.767212Z",
     "start_time": "2020-05-10T18:01:29.727375Z"
    }
   },
   "outputs": [],
   "source": [
    "#Hadronization fraction of B0\n",
    "aux = ''\n",
    "for n in processes:\n",
    "    if n in ['tau', 'mu', 'Hc', 'DstPi0', 'DstPipPim', 'DstPi0Pi0']: aux += ' 3'\n",
    "    else: aux += ' -'\n",
    "card += 'b2B0Had lnN' + aux*nCat + '\\n'"
   ]
  },
  {
   "cell_type": "code",
   "execution_count": 34,
   "metadata": {
    "ExecuteTime": {
     "end_time": "2020-05-10T18:01:29.820859Z",
     "start_time": "2020-05-10T18:01:29.773079Z"
    }
   },
   "outputs": [],
   "source": [
    "#Hadronization fraction of B+\n",
    "aux = ''\n",
    "for n in processes:\n",
    "    if n in ['DstPip', 'DstPipPi0']: aux += ' 3'\n",
    "    else: aux += ' -'\n",
    "card += 'b2BpHad lnN' + aux*nCat + '\\n'"
   ]
  },
  {
   "cell_type": "code",
   "execution_count": 35,
   "metadata": {
    "ExecuteTime": {
     "end_time": "2020-05-10T18:01:29.912382Z",
     "start_time": "2020-05-10T18:01:29.825458Z"
    }
   },
   "outputs": [],
   "source": [
    "# Selection efficiencies\n",
    "for n in processes:\n",
    "    if n == 'tau': continue\n",
    "    val = ' {:.2f}'.format(1+decayBR[n][1]/decayBR[n][0])\n",
    "    aux = ''\n",
    "    for nn in processes:\n",
    "        if nn == n: aux += val\n",
    "        else: aux += ' -'\n",
    "    card += n + 'Br lnN' + aux*nCat + '\\n'"
   ]
  },
  {
   "cell_type": "code",
   "execution_count": 36,
   "metadata": {
    "ExecuteTime": {
     "end_time": "2020-05-10T18:01:30.481986Z",
     "start_time": "2020-05-10T18:01:29.919164Z"
    }
   },
   "outputs": [],
   "source": [
    "card += '--------------------------------------------------------------\\n'"
   ]
  },
  {
   "cell_type": "markdown",
   "metadata": {},
   "source": [
    "### Rate parameters"
   ]
  },
  {
   "cell_type": "code",
   "execution_count": 37,
   "metadata": {
    "ExecuteTime": {
     "end_time": "2020-05-10T18:01:30.545196Z",
     "start_time": "2020-05-10T18:01:30.488498Z"
    }
   },
   "outputs": [],
   "source": [
    "card += 'pAddTk param 1.0 0.15\\n'"
   ]
  },
  {
   "cell_type": "code",
   "execution_count": 38,
   "metadata": {
    "ExecuteTime": {
     "end_time": "2020-05-10T18:01:30.590373Z",
     "start_time": "2020-05-10T18:01:30.550953Z"
    }
   },
   "outputs": [],
   "source": [
    "linear = []\n",
    "quadratic = []\n",
    "\n",
    "for procAux in ['tau', 'mu', 'DstPi0', 'DstPi0Pi0']: \n",
    "    linear.append(['AddTk_p_mHad', procAux])\n",
    "    \n",
    "for procAux in ['tau', 'mu', 'DstPi0', 'DstPi0Pi0', 'DstPip', 'DstPipPi0']: \n",
    "    linear.append(['AddTk_m_mHad', procAux])\n",
    "    \n",
    "for procAux in ['DstPip', 'DstPipPi0', 'DstPipPim', 'Hc']:\n",
    "    linear.append(['AddTk_pp_mHad', procAux])\n",
    "for procAux in ['tau', 'mu', 'DstPi0', 'DstPi0Pi0']:\n",
    "    quadratic.append(['AddTk_pp_mHad', procAux])\n",
    "    \n",
    "\n",
    "for procAux in ['DstPip', 'DstPipPi0']:\n",
    "    linear.append(['AddTk_pm_mHad', procAux])\n",
    "    linear.append(['AddTk_pm_mVis', procAux])\n",
    "for procAux in ['tau', 'mu', 'DstPi0', 'DstPi0Pi0']:\n",
    "    quadratic.append(['AddTk_pm_mHad', procAux])\n",
    "    quadratic.append(['AddTk_pm_mVis', procAux])\n",
    "    \n",
    "for procAux in ['DstPipPim', 'Hc']:\n",
    "    linear.append(['AddTk_mm_mHad', procAux])\n",
    "for procAux in ['tau', 'mu', 'DstPi0', 'DstPi0Pi0', 'DstPip', 'DstPipPi0']:\n",
    "    quadratic.append(['AddTk_mm_mHad', procAux])\n",
    "    \n",
    "for binAux, procAux in linear:\n",
    "    card += 'pAddTk rateParam {} {} 1\\n'.format(binAux, procAux)\n",
    "for binAux, procAux in quadratic:\n",
    "    card += 'pAddTk2 rateParam {} {} @0*@0 pAddTk\\n'.format(binAux, procAux)"
   ]
  },
  {
   "cell_type": "code",
   "execution_count": 39,
   "metadata": {
    "ExecuteTime": {
     "end_time": "2020-05-10T18:01:30.691356Z",
     "start_time": "2020-05-10T18:01:30.594615Z"
    }
   },
   "outputs": [],
   "source": [
    "card += '--------------------------------------------------------------\\n'"
   ]
  },
  {
   "cell_type": "markdown",
   "metadata": {
    "heading_collapsed": true
   },
   "source": [
    "### Shape Systematics"
   ]
  },
  {
   "cell_type": "code",
   "execution_count": 40,
   "metadata": {
    "ExecuteTime": {
     "end_time": "2020-05-10T18:01:30.790842Z",
     "start_time": "2020-05-10T18:01:30.695739Z"
    },
    "hidden": true
   },
   "outputs": [],
   "source": [
    "card += 'trgSF shape' + ' 1.'*nProc*nCat + '\\n'"
   ]
  },
  {
   "cell_type": "code",
   "execution_count": 41,
   "metadata": {
    "ExecuteTime": {
     "end_time": "2020-05-10T18:01:30.840688Z",
     "start_time": "2020-05-10T18:01:30.795577Z"
    },
    "hidden": true
   },
   "outputs": [],
   "source": [
    "card += 'muonIdSF shape' + ' 1.'*nProc*nCat + '\\n'"
   ]
  },
  {
   "cell_type": "code",
   "execution_count": 42,
   "metadata": {
    "ExecuteTime": {
     "end_time": "2020-05-10T18:01:30.909941Z",
     "start_time": "2020-05-10T18:01:30.845940Z"
    },
    "hidden": true
   },
   "outputs": [],
   "source": [
    "# B0 pT spectrum\n",
    "aux = ''\n",
    "for p in processes:\n",
    "    if p in ['tau', 'mu', 'Hc', 'DstPi0', 'DstPipPim', 'DstPi0Pi0']:\n",
    "        aux += ' 1.'\n",
    "    else:\n",
    "        aux += ' -'\n",
    "card += 'B0pT shape' + aux*nCat + '\\n'"
   ]
  },
  {
   "cell_type": "code",
   "execution_count": 43,
   "metadata": {
    "ExecuteTime": {
     "end_time": "2020-05-10T18:01:30.933897Z",
     "start_time": "2020-05-10T18:01:30.914656Z"
    },
    "hidden": true
   },
   "outputs": [],
   "source": [
    "# Form Factors from Hammer\n",
    "for n_pFF in ['R0', 'R1', 'R2', 'RhoSq']:\n",
    "    aux = ''\n",
    "    for p in processes:\n",
    "        if p in ['tau', 'mu']:\n",
    "            aux += ' 1.'\n",
    "        else:\n",
    "            aux += ' -'\n",
    "    card += 'B2DstCLN{} shape'.format(n_pFF) + aux*nCat + '\\n'"
   ]
  },
  {
   "cell_type": "code",
   "execution_count": 44,
   "metadata": {
    "ExecuteTime": {
     "end_time": "2020-05-10T18:01:30.985309Z",
     "start_time": "2020-05-10T18:01:30.938374Z"
    },
    "hidden": true
   },
   "outputs": [],
   "source": [
    "# Hc mix composition\n",
    "aux = ''\n",
    "for p in processes:\n",
    "    if p == 'Hc': aux += ' 1.'\n",
    "    else: aux += ' -'\n",
    "card += 'HcmixD02mu shape' + aux*nCat + '\\n'\n",
    "card += 'HcmixDs2mu shape' + aux*nCat + '\\n'"
   ]
  },
  {
   "cell_type": "markdown",
   "metadata": {
    "heading_collapsed": true
   },
   "source": [
    "### MC statistic systematics"
   ]
  },
  {
   "cell_type": "code",
   "execution_count": 45,
   "metadata": {
    "ExecuteTime": {
     "end_time": "2020-05-10T18:01:31.026316Z",
     "start_time": "2020-05-10T18:01:30.990622Z"
    },
    "hidden": true
   },
   "outputs": [],
   "source": [
    "card += '* autoMCStats 20 1 1\\n'\n",
    "card += '--------------------------------------------------------------\\n'"
   ]
  },
  {
   "cell_type": "markdown",
   "metadata": {
    "heading_collapsed": true
   },
   "source": [
    "### Defining groups of systematics"
   ]
  },
  {
   "cell_type": "code",
   "execution_count": 46,
   "metadata": {
    "ExecuteTime": {
     "end_time": "2020-05-10T18:01:31.064717Z",
     "start_time": "2020-05-10T18:01:31.030733Z"
    },
    "hidden": true
   },
   "outputs": [],
   "source": [
    "# autoMCStats group = defined by default when using autoMCStats\n",
    "aux_FF = ' '.join(['B2DstCLN'+n for n in ['R0', 'R1', 'R2', 'RhoSq']])\n",
    "card += 'B2DstFF group = ' + aux_FF + '\\n'\n",
    "\n",
    "card += 'normMC group = xsecpp2bbXlumi b2B0Had b2BpHad\\n'\n",
    "\n",
    "card += 'knownBr group = ' + ' '.join([n+'Br' for n in processes if not n == 'tau']) + '\\n'\n",
    "\n",
    "card += 'allShape group = trgSF muonIdSF B0pT ' + aux_FF + '\\n'"
   ]
  },
  {
   "cell_type": "markdown",
   "metadata": {
    "heading_collapsed": true
   },
   "source": [
    "## Create output"
   ]
  },
  {
   "cell_type": "code",
   "execution_count": 47,
   "metadata": {
    "ExecuteTime": {
     "end_time": "2020-05-10T18:01:31.124730Z",
     "start_time": "2020-05-10T18:01:31.068956Z"
    },
    "hidden": true,
    "scrolled": true
   },
   "outputs": [
    {
     "name": "stdout",
     "output_type": "stream",
     "text": [
      "imax *\n",
      "jmax 7\n",
      "kmax *\n",
      "--------------------------------------------------------------\n",
      "shapes * AddTk_m_mHad ../data/_root/histos4combine/v7_AddTk_m_mHad.root $PROCESS $PROCESS__$SYSTEMATIC\n",
      "shapes * AddTk_mm_mHad ../data/_root/histos4combine/v7_AddTk_mm_mHad.root $PROCESS $PROCESS__$SYSTEMATIC\n",
      "shapes * AddTk_p_mHad ../data/_root/histos4combine/v7_AddTk_p_mHad.root $PROCESS $PROCESS__$SYSTEMATIC\n",
      "shapes * AddTk_pm_mHad ../data/_root/histos4combine/v7_AddTk_pm_mHad.root $PROCESS $PROCESS__$SYSTEMATIC\n",
      "shapes * AddTk_pm_mVis ../data/_root/histos4combine/v7_AddTk_pm_mVis.root $PROCESS $PROCESS__$SYSTEMATIC\n",
      "shapes * AddTk_pp_mHad ../data/_root/histos4combine/v7_AddTk_pp_mHad.root $PROCESS $PROCESS__$SYSTEMATIC\n",
      "shapes * Est_mu_q2bin0 ../data/_root/histos4combine/v7_Est_mu_q2bin0.root $PROCESS $PROCESS__$SYSTEMATIC\n",
      "shapes * Est_mu_q2bin1 ../data/_root/histos4combine/v7_Est_mu_q2bin1.root $PROCESS $PROCESS__$SYSTEMATIC\n",
      "shapes * M2_miss_q2bin0 ../data/_root/histos4combine/v7_M2_miss_q2bin0.root $PROCESS $PROCESS__$SYSTEMATIC\n",
      "shapes * M2_miss_q2bin1 ../data/_root/histos4combine/v7_M2_miss_q2bin1.root $PROCESS $PROCESS__$SYSTEMATIC\n",
      "--------------------------------------------------------------\n",
      "bin AddTk_m_mHad AddTk_mm_mHad AddTk_p_mHad AddTk_pm_mHad AddTk_pm_mVis AddTk_pp_mHad Est_mu_q2bin0 Est_mu_q2bin1 M2_miss_q2bin0 M2_miss_q2bin1\n",
      "observation 9806 452 19361 3340 3340 873 32093 65994 32093 65994\n",
      "--------------------------------------------------------------\n",
      "bin AddTk_m_mHad AddTk_m_mHad AddTk_m_mHad AddTk_m_mHad AddTk_m_mHad AddTk_m_mHad AddTk_m_mHad AddTk_m_mHad AddTk_mm_mHad AddTk_mm_mHad AddTk_mm_mHad AddTk_mm_mHad AddTk_mm_mHad AddTk_mm_mHad AddTk_mm_mHad AddTk_mm_mHad AddTk_p_mHad AddTk_p_mHad AddTk_p_mHad AddTk_p_mHad AddTk_p_mHad AddTk_p_mHad AddTk_p_mHad AddTk_p_mHad AddTk_pm_mHad AddTk_pm_mHad AddTk_pm_mHad AddTk_pm_mHad AddTk_pm_mHad AddTk_pm_mHad AddTk_pm_mHad AddTk_pm_mHad AddTk_pm_mVis AddTk_pm_mVis AddTk_pm_mVis AddTk_pm_mVis AddTk_pm_mVis AddTk_pm_mVis AddTk_pm_mVis AddTk_pm_mVis AddTk_pp_mHad AddTk_pp_mHad AddTk_pp_mHad AddTk_pp_mHad AddTk_pp_mHad AddTk_pp_mHad AddTk_pp_mHad AddTk_pp_mHad Est_mu_q2bin0 Est_mu_q2bin0 Est_mu_q2bin0 Est_mu_q2bin0 Est_mu_q2bin0 Est_mu_q2bin0 Est_mu_q2bin0 Est_mu_q2bin0 Est_mu_q2bin1 Est_mu_q2bin1 Est_mu_q2bin1 Est_mu_q2bin1 Est_mu_q2bin1 Est_mu_q2bin1 Est_mu_q2bin1 Est_mu_q2bin1 M2_miss_q2bin0 M2_miss_q2bin0 M2_miss_q2bin0 M2_miss_q2bin0 M2_miss_q2bin0 M2_miss_q2bin0 M2_miss_q2bin0 M2_miss_q2bin0 M2_miss_q2bin1 M2_miss_q2bin1 M2_miss_q2bin1 M2_miss_q2bin1 M2_miss_q2bin1 M2_miss_q2bin1 M2_miss_q2bin1 M2_miss_q2bin1\n",
      "process tau mu Hc DstPip DstPipPi0 DstPi0 DstPipPim DstPi0Pi0 tau mu Hc DstPip DstPipPi0 DstPi0 DstPipPim DstPi0Pi0 tau mu Hc DstPip DstPipPi0 DstPi0 DstPipPim DstPi0Pi0 tau mu Hc DstPip DstPipPi0 DstPi0 DstPipPim DstPi0Pi0 tau mu Hc DstPip DstPipPi0 DstPi0 DstPipPim DstPi0Pi0 tau mu Hc DstPip DstPipPi0 DstPi0 DstPipPim DstPi0Pi0 tau mu Hc DstPip DstPipPi0 DstPi0 DstPipPim DstPi0Pi0 tau mu Hc DstPip DstPipPi0 DstPi0 DstPipPim DstPi0Pi0 tau mu Hc DstPip DstPipPi0 DstPi0 DstPipPim DstPi0Pi0 tau mu Hc DstPip DstPipPi0 DstPi0 DstPipPim DstPi0Pi0\n",
      "process 0 1 2 3 4 5 6 7 0 1 2 3 4 5 6 7 0 1 2 3 4 5 6 7 0 1 2 3 4 5 6 7 0 1 2 3 4 5 6 7 0 1 2 3 4 5 6 7 0 1 2 3 4 5 6 7 0 1 2 3 4 5 6 7 0 1 2 3 4 5 6 7 0 1 2 3 4 5 6 7\n",
      "rate 202.40 5032.44 148.32 224.83 11.47 229.36 352.62 26.12 5.49 163.22 5.12 8.19 0.52 7.25 12.57 0.82 231.48 5775.41 242.83 8091.34 498.43 254.11 458.11 28.50 15.70 468.23 408.54 338.64 21.91 29.63 940.01 2.74 15.70 468.23 408.54 338.64 21.91 29.63 940.01 2.74 8.16 211.07 12.19 245.04 16.48 9.89 16.84 1.29 73.25 26061.79 65.15 506.53 8.16 639.76 11.44 19.76 1595.72 50371.77 681.81 2051.21 105.05 2267.99 139.93 275.39 73.25 26061.79 65.15 506.53 8.16 639.76 11.44 19.76 1595.72 50371.77 681.81 2051.21 105.05 2267.99 139.93 275.39\n",
      "--------------------------------------------------------------\n",
      "xsecpp2bbXlumi lnN 1.9 1.9 1.9 1.9 1.9 1.9 1.9 1.9 1.9 1.9 1.9 1.9 1.9 1.9 1.9 1.9 1.9 1.9 1.9 1.9 1.9 1.9 1.9 1.9 1.9 1.9 1.9 1.9 1.9 1.9 1.9 1.9 1.9 1.9 1.9 1.9 1.9 1.9 1.9 1.9 1.9 1.9 1.9 1.9 1.9 1.9 1.9 1.9 1.9 1.9 1.9 1.9 1.9 1.9 1.9 1.9 1.9 1.9 1.9 1.9 1.9 1.9 1.9 1.9 1.9 1.9 1.9 1.9 1.9 1.9 1.9 1.9 1.9 1.9 1.9 1.9 1.9 1.9 1.9 1.9\n",
      "b2B0Had lnN 3 3 3 - - 3 3 3 3 3 3 - - 3 3 3 3 3 3 - - 3 3 3 3 3 3 - - 3 3 3 3 3 3 - - 3 3 3 3 3 3 - - 3 3 3 3 3 3 - - 3 3 3 3 3 3 - - 3 3 3 3 3 3 - - 3 3 3 3 3 3 - - 3 3 3\n",
      "b2BpHad lnN - - - 3 3 - - - - - - 3 3 - - - - - - 3 3 - - - - - - 3 3 - - - - - - 3 3 - - - - - - 3 3 - - - - - - 3 3 - - - - - - 3 3 - - - - - - 3 3 - - - - - - 3 3 - - -\n",
      "muBr lnN - 1.03 - - - - - - - 1.03 - - - - - - - 1.03 - - - - - - - 1.03 - - - - - - - 1.03 - - - - - - - 1.03 - - - - - - - 1.03 - - - - - - - 1.03 - - - - - - - 1.03 - - - - - - - 1.03 - - - - - -\n",
      "HcBr lnN - - 1.25 - - - - - - - 1.25 - - - - - - - 1.25 - - - - - - - 1.25 - - - - - - - 1.25 - - - - - - - 1.25 - - - - - - - 1.25 - - - - - - - 1.25 - - - - - - - 1.25 - - - - - - - 1.25 - - - - -\n",
      "DstPipBr lnN - - - 1.10 - - - - - - - 1.10 - - - - - - - 1.10 - - - - - - - 1.10 - - - - - - - 1.10 - - - - - - - 1.10 - - - - - - - 1.10 - - - - - - - 1.10 - - - - - - - 1.10 - - - - - - - 1.10 - - - -\n",
      "DstPipPi0Br lnN - - - - 1.63 - - - - - - - 1.63 - - - - - - - 1.63 - - - - - - - 1.63 - - - - - - - 1.63 - - - - - - - 1.63 - - - - - - - 1.63 - - - - - - - 1.63 - - - - - - - 1.63 - - - - - - - 1.63 - - -\n",
      "DstPi0Br lnN - - - - - 1.33 - - - - - - - 1.33 - - - - - - - 1.33 - - - - - - - 1.33 - - - - - - - 1.33 - - - - - - - 1.33 - - - - - - - 1.33 - - - - - - - 1.33 - - - - - - - 1.33 - - - - - - - 1.33 - -\n",
      "DstPipPimBr lnN - - - - - - 1.36 - - - - - - - 1.36 - - - - - - - 1.36 - - - - - - - 1.36 - - - - - - - 1.36 - - - - - - - 1.36 - - - - - - - 1.36 - - - - - - - 1.36 - - - - - - - 1.36 - - - - - - - 1.36 -\n",
      "DstPi0Pi0Br lnN - - - - - - - 1.37 - - - - - - - 1.37 - - - - - - - 1.37 - - - - - - - 1.37 - - - - - - - 1.37 - - - - - - - 1.37 - - - - - - - 1.37 - - - - - - - 1.37 - - - - - - - 1.37 - - - - - - - 1.37\n",
      "--------------------------------------------------------------\n",
      "pAddTk param 1.0 0.15\n",
      "pAddTk rateParam AddTk_p_mHad tau 1\n",
      "pAddTk rateParam AddTk_p_mHad mu 1\n",
      "pAddTk rateParam AddTk_p_mHad DstPi0 1\n",
      "pAddTk rateParam AddTk_p_mHad DstPi0Pi0 1\n",
      "pAddTk rateParam AddTk_m_mHad tau 1\n",
      "pAddTk rateParam AddTk_m_mHad mu 1\n",
      "pAddTk rateParam AddTk_m_mHad DstPi0 1\n",
      "pAddTk rateParam AddTk_m_mHad DstPi0Pi0 1\n",
      "pAddTk rateParam AddTk_m_mHad DstPip 1\n",
      "pAddTk rateParam AddTk_m_mHad DstPipPi0 1\n",
      "pAddTk rateParam AddTk_pp_mHad DstPip 1\n",
      "pAddTk rateParam AddTk_pp_mHad DstPipPi0 1\n",
      "pAddTk rateParam AddTk_pp_mHad DstPipPim 1\n",
      "pAddTk rateParam AddTk_pp_mHad Hc 1\n",
      "pAddTk rateParam AddTk_pm_mHad DstPip 1\n",
      "pAddTk rateParam AddTk_pm_mVis DstPip 1\n",
      "pAddTk rateParam AddTk_pm_mHad DstPipPi0 1\n",
      "pAddTk rateParam AddTk_pm_mVis DstPipPi0 1\n",
      "pAddTk rateParam AddTk_mm_mHad DstPipPim 1\n",
      "pAddTk rateParam AddTk_mm_mHad Hc 1\n",
      "pAddTk2 rateParam AddTk_pp_mHad tau @0*@0 pAddTk\n",
      "pAddTk2 rateParam AddTk_pp_mHad mu @0*@0 pAddTk\n",
      "pAddTk2 rateParam AddTk_pp_mHad DstPi0 @0*@0 pAddTk\n",
      "pAddTk2 rateParam AddTk_pp_mHad DstPi0Pi0 @0*@0 pAddTk\n",
      "pAddTk2 rateParam AddTk_pm_mHad tau @0*@0 pAddTk\n",
      "pAddTk2 rateParam AddTk_pm_mVis tau @0*@0 pAddTk\n",
      "pAddTk2 rateParam AddTk_pm_mHad mu @0*@0 pAddTk\n",
      "pAddTk2 rateParam AddTk_pm_mVis mu @0*@0 pAddTk\n",
      "pAddTk2 rateParam AddTk_pm_mHad DstPi0 @0*@0 pAddTk\n",
      "pAddTk2 rateParam AddTk_pm_mVis DstPi0 @0*@0 pAddTk\n",
      "pAddTk2 rateParam AddTk_pm_mHad DstPi0Pi0 @0*@0 pAddTk\n",
      "pAddTk2 rateParam AddTk_pm_mVis DstPi0Pi0 @0*@0 pAddTk\n",
      "pAddTk2 rateParam AddTk_mm_mHad tau @0*@0 pAddTk\n",
      "pAddTk2 rateParam AddTk_mm_mHad mu @0*@0 pAddTk\n",
      "pAddTk2 rateParam AddTk_mm_mHad DstPi0 @0*@0 pAddTk\n",
      "pAddTk2 rateParam AddTk_mm_mHad DstPi0Pi0 @0*@0 pAddTk\n",
      "pAddTk2 rateParam AddTk_mm_mHad DstPip @0*@0 pAddTk\n",
      "pAddTk2 rateParam AddTk_mm_mHad DstPipPi0 @0*@0 pAddTk\n",
      "--------------------------------------------------------------\n",
      "trgSF shape 1. 1. 1. 1. 1. 1. 1. 1. 1. 1. 1. 1. 1. 1. 1. 1. 1. 1. 1. 1. 1. 1. 1. 1. 1. 1. 1. 1. 1. 1. 1. 1. 1. 1. 1. 1. 1. 1. 1. 1. 1. 1. 1. 1. 1. 1. 1. 1. 1. 1. 1. 1. 1. 1. 1. 1. 1. 1. 1. 1. 1. 1. 1. 1. 1. 1. 1. 1. 1. 1. 1. 1. 1. 1. 1. 1. 1. 1. 1. 1.\n",
      "muonIdSF shape 1. 1. 1. 1. 1. 1. 1. 1. 1. 1. 1. 1. 1. 1. 1. 1. 1. 1. 1. 1. 1. 1. 1. 1. 1. 1. 1. 1. 1. 1. 1. 1. 1. 1. 1. 1. 1. 1. 1. 1. 1. 1. 1. 1. 1. 1. 1. 1. 1. 1. 1. 1. 1. 1. 1. 1. 1. 1. 1. 1. 1. 1. 1. 1. 1. 1. 1. 1. 1. 1. 1. 1. 1. 1. 1. 1. 1. 1. 1. 1.\n",
      "B0pT shape 1. 1. 1. - - 1. 1. 1. 1. 1. 1. - - 1. 1. 1. 1. 1. 1. - - 1. 1. 1. 1. 1. 1. - - 1. 1. 1. 1. 1. 1. - - 1. 1. 1. 1. 1. 1. - - 1. 1. 1. 1. 1. 1. - - 1. 1. 1. 1. 1. 1. - - 1. 1. 1. 1. 1. 1. - - 1. 1. 1. 1. 1. 1. - - 1. 1. 1.\n",
      "B2DstCLNR0 shape 1. 1. - - - - - - 1. 1. - - - - - - 1. 1. - - - - - - 1. 1. - - - - - - 1. 1. - - - - - - 1. 1. - - - - - - 1. 1. - - - - - - 1. 1. - - - - - - 1. 1. - - - - - - 1. 1. - - - - - -\n",
      "B2DstCLNR1 shape 1. 1. - - - - - - 1. 1. - - - - - - 1. 1. - - - - - - 1. 1. - - - - - - 1. 1. - - - - - - 1. 1. - - - - - - 1. 1. - - - - - - 1. 1. - - - - - - 1. 1. - - - - - - 1. 1. - - - - - -\n",
      "B2DstCLNR2 shape 1. 1. - - - - - - 1. 1. - - - - - - 1. 1. - - - - - - 1. 1. - - - - - - 1. 1. - - - - - - 1. 1. - - - - - - 1. 1. - - - - - - 1. 1. - - - - - - 1. 1. - - - - - - 1. 1. - - - - - -\n",
      "B2DstCLNRhoSq shape 1. 1. - - - - - - 1. 1. - - - - - - 1. 1. - - - - - - 1. 1. - - - - - - 1. 1. - - - - - - 1. 1. - - - - - - 1. 1. - - - - - - 1. 1. - - - - - - 1. 1. - - - - - - 1. 1. - - - - - -\n",
      "HcmixD02mu shape - - 1. - - - - - - - 1. - - - - - - - 1. - - - - - - - 1. - - - - - - - 1. - - - - - - - 1. - - - - - - - 1. - - - - - - - 1. - - - - - - - 1. - - - - - - - 1. - - - - -\n",
      "HcmixDs2mu shape - - 1. - - - - - - - 1. - - - - - - - 1. - - - - - - - 1. - - - - - - - 1. - - - - - - - 1. - - - - - - - 1. - - - - - - - 1. - - - - - - - 1. - - - - - - - 1. - - - - -\n",
      "* autoMCStats 20 1 1\n",
      "--------------------------------------------------------------\n",
      "B2DstFF group = B2DstCLNR0 B2DstCLNR1 B2DstCLNR2 B2DstCLNRhoSq\n",
      "normMC group = xsecpp2bbXlumi b2B0Had b2BpHad\n",
      "knownBr group = muBr HcBr DstPipBr DstPipPi0Br DstPi0Br DstPipPimBr DstPi0Pi0Br\n",
      "allShape group = trgSF muonIdSF B0pT B2DstCLNR0 B2DstCLNR1 B2DstCLNR2 B2DstCLNRhoSq\n",
      "\n"
     ]
    }
   ],
   "source": [
    "print card"
   ]
  },
  {
   "cell_type": "code",
   "execution_count": 48,
   "metadata": {
    "ExecuteTime": {
     "end_time": "2020-05-10T18:01:31.224192Z",
     "start_time": "2020-05-10T18:01:31.128037Z"
    },
    "hidden": true
   },
   "outputs": [],
   "source": [
    "fc.write(card)\n",
    "fc.close()"
   ]
  },
  {
   "cell_type": "code",
   "execution_count": 49,
   "metadata": {
    "ExecuteTime": {
     "end_time": "2020-05-10T18:01:31.401909Z",
     "start_time": "2020-05-10T18:01:31.227440Z"
    },
    "hidden": true
   },
   "outputs": [],
   "source": [
    "outdir = 'results/' + card_name\n",
    "\n",
    "if os.path.isdir(outdir):\n",
    "    os.system('rm -rf ' + outdir)\n",
    "os.system('mkdir -p ' + outdir + '/fig');"
   ]
  },
  {
   "cell_type": "markdown",
   "metadata": {},
   "source": [
    "# Run Combine"
   ]
  },
  {
   "cell_type": "markdown",
   "metadata": {
    "heading_collapsed": true
   },
   "source": [
    "## Create the workspace"
   ]
  },
  {
   "cell_type": "code",
   "execution_count": 50,
   "metadata": {
    "ExecuteTime": {
     "end_time": "2020-05-10T18:01:41.417244Z",
     "start_time": "2020-05-10T18:01:31.407582Z"
    },
    "hidden": true,
    "scrolled": true
   },
   "outputs": [
    {
     "data": {
      "text/plain": [
       "0"
      ]
     },
     "execution_count": 50,
     "metadata": {},
     "output_type": "execute_result"
    },
    {
     "name": "stdout",
     "output_type": "stream",
     "text": [
      "Channel AddTk_m_mHad will use autoMCStats with settings: event-threshold=20, include-signal=1, hist-mode=1\n",
      "============================================================\n",
      "Analysing bin errors for: prop_binAddTk_m_mHad\n",
      "Poisson cut-off: 20\n",
      "============================================================\n",
      "Bin        Contents        Error           Notes                         \n",
      "0          27.632402       2.768760        total sum                     \n",
      "0          100.000000      10.000000       Unweighted events, alpha=0.276324\n",
      "  => Total parameter prop_binAddTk_m_mHad_bin0[0.00,-7.00,7.00] to be gaussian constrained\n",
      "------------------------------------------------------------\n",
      "1          783.465712      15.248464       total sum                     \n",
      "1          2640.000000     51.380930       Unweighted events, alpha=0.296767\n",
      "  => Total parameter prop_binAddTk_m_mHad_bin1[0.00,-7.00,7.00] to be gaussian constrained\n",
      "------------------------------------------------------------\n",
      "2          1151.190029     18.251687       total sum                     \n",
      "2          3978.000000     63.071388       Unweighted events, alpha=0.289389\n",
      "  => Total parameter prop_binAddTk_m_mHad_bin2[0.00,-7.00,7.00] to be gaussian constrained\n",
      "------------------------------------------------------------\n",
      "3          951.542081      16.619682       total sum                     \n",
      "3          3278.000000     57.253821       Unweighted events, alpha=0.290281\n",
      "  => Total parameter prop_binAddTk_m_mHad_bin3[0.00,-7.00,7.00] to be gaussian constrained\n",
      "------------------------------------------------------------\n",
      "4          715.570399      14.309480       total sum                     \n",
      "4          2501.000000     50.009999       Unweighted events, alpha=0.286114\n",
      "  => Total parameter prop_binAddTk_m_mHad_bin4[0.00,-7.00,7.00] to be gaussian constrained\n",
      "------------------------------------------------------------\n",
      "5          550.652286      12.739612       total sum                     \n",
      "5          1868.000000     43.220366       Unweighted events, alpha=0.294782\n",
      "  => Total parameter prop_binAddTk_m_mHad_bin5[0.00,-7.00,7.00] to be gaussian constrained\n",
      "------------------------------------------------------------\n",
      "6          408.113379      10.738149       total sum                     \n",
      "6          1444.000000     38.000000       Unweighted events, alpha=0.282627\n",
      "  => Total parameter prop_binAddTk_m_mHad_bin6[0.00,-7.00,7.00] to be gaussian constrained\n",
      "------------------------------------------------------------\n",
      "7          304.699127      9.356771        total sum                     \n",
      "7          1060.000000     32.557641       Unweighted events, alpha=0.287452\n",
      "  => Total parameter prop_binAddTk_m_mHad_bin7[0.00,-7.00,7.00] to be gaussian constrained\n",
      "------------------------------------------------------------\n",
      "8          250.661001      8.522789        total sum                     \n",
      "8          865.000000      29.410882       Unweighted events, alpha=0.289782\n",
      "  => Total parameter prop_binAddTk_m_mHad_bin8[0.00,-7.00,7.00] to be gaussian constrained\n",
      "------------------------------------------------------------\n",
      "9          178.386419      6.985697        total sum                     \n",
      "9          652.000000      25.534291       Unweighted events, alpha=0.273599\n",
      "  => Total parameter prop_binAddTk_m_mHad_bin9[0.00,-7.00,7.00] to be gaussian constrained\n",
      "------------------------------------------------------------\n",
      "10         141.847909      6.255490        total sum                     \n",
      "10         514.000000      22.671568       Unweighted events, alpha=0.275969\n",
      "  => Total parameter prop_binAddTk_m_mHad_bin10[0.00,-7.00,7.00] to be gaussian constrained\n",
      "------------------------------------------------------------\n",
      "11         122.976054      5.898258        total sum                     \n",
      "11         435.000000      20.856654       Unweighted events, alpha=0.282704\n",
      "  => Total parameter prop_binAddTk_m_mHad_bin11[0.00,-7.00,7.00] to be gaussian constrained\n",
      "------------------------------------------------------------\n",
      "12         97.847745       5.296017        total sum                     \n",
      "12         341.000000      18.466185       Unweighted events, alpha=0.286944\n",
      "  => Total parameter prop_binAddTk_m_mHad_bin12[0.00,-7.00,7.00] to be gaussian constrained\n",
      "------------------------------------------------------------\n",
      "13         75.839769       4.606429        total sum                     \n",
      "13         271.000000      16.462078       Unweighted events, alpha=0.279852\n",
      "  => Total parameter prop_binAddTk_m_mHad_bin13[0.00,-7.00,7.00] to be gaussian constrained\n",
      "------------------------------------------------------------\n",
      "14         76.282794       4.728813        total sum                     \n",
      "14         260.000000      16.124515       Unweighted events, alpha=0.293395\n",
      "  => Total parameter prop_binAddTk_m_mHad_bin14[0.00,-7.00,7.00] to be gaussian constrained\n",
      "------------------------------------------------------------\n",
      "15         56.626425       4.127072        total sum                     \n",
      "15         188.000000      13.711309       Unweighted events, alpha=0.301204\n",
      "  => Total parameter prop_binAddTk_m_mHad_bin15[0.00,-7.00,7.00] to be gaussian constrained\n",
      "------------------------------------------------------------\n",
      "16         52.256118       3.811079        total sum                     \n",
      "16         188.000000      13.711309       Unweighted events, alpha=0.277958\n",
      "  => Total parameter prop_binAddTk_m_mHad_bin16[0.00,-7.00,7.00] to be gaussian constrained\n",
      "------------------------------------------------------------\n",
      "17         49.640558       3.715874        total sum                     \n",
      "17         178.000000      13.341664       Unweighted events, alpha=0.278880\n",
      "  => Total parameter prop_binAddTk_m_mHad_bin17[0.00,-7.00,7.00] to be gaussian constrained\n",
      "------------------------------------------------------------\n",
      "18         35.502451       3.180653        total sum                     \n",
      "18         125.000000      11.180340       Unweighted events, alpha=0.284020\n",
      "  => Total parameter prop_binAddTk_m_mHad_bin18[0.00,-7.00,7.00] to be gaussian constrained\n",
      "------------------------------------------------------------\n",
      "19         26.361372       2.674407        total sum                     \n",
      "19         97.000000       9.848858        Unweighted events, alpha=0.271767\n",
      "  => Total parameter prop_binAddTk_m_mHad_bin19[0.00,-7.00,7.00] to be gaussian constrained\n",
      "------------------------------------------------------------\n",
      "20         21.669035       2.381989        total sum                     \n",
      "20         83.000000       9.110434        Unweighted events, alpha=0.261073\n",
      "  => Total parameter prop_binAddTk_m_mHad_bin20[0.00,-7.00,7.00] to be gaussian constrained\n",
      "------------------------------------------------------------\n",
      "21         19.911642       2.229965        total sum                     \n",
      "21         80.000000       8.944272        Unweighted events, alpha=0.248896\n",
      "  => Total parameter prop_binAddTk_m_mHad_bin21[0.00,-7.00,7.00] to be gaussian constrained\n",
      "------------------------------------------------------------\n",
      "22         19.602207       2.300945        total sum                     \n",
      "22         73.000000       8.544004        Unweighted events, alpha=0.268523\n",
      "  => Total parameter prop_binAddTk_m_mHad_bin22[0.00,-7.00,7.00] to be gaussian constrained\n",
      "------------------------------------------------------------\n",
      "23         16.815486       2.212925        total sum                     \n",
      "23         58.000000       7.615773        Unweighted events, alpha=0.289922\n",
      "  => Total parameter prop_binAddTk_m_mHad_bin23[0.00,-7.00,7.00] to be gaussian constrained\n",
      "------------------------------------------------------------\n",
      "24         13.227911       1.908035        total sum                     \n",
      "24         48.000000       6.928203        Unweighted events, alpha=0.275581\n",
      "  => Total parameter prop_binAddTk_m_mHad_bin24[0.00,-7.00,7.00] to be gaussian constrained\n",
      "------------------------------------------------------------\n",
      "25         13.549787       2.022753        total sum                     \n",
      "25         45.000000       6.708204        Unweighted events, alpha=0.301106\n",
      "  => Total parameter prop_binAddTk_m_mHad_bin25[0.00,-7.00,7.00] to be gaussian constrained\n",
      "------------------------------------------------------------\n",
      "26         9.355704        1.534907        total sum                     \n",
      "26         37.000000       6.082763        Unweighted events, alpha=0.252857\n",
      "  => Total parameter prop_binAddTk_m_mHad_bin26[0.00,-7.00,7.00] to be gaussian constrained\n",
      "------------------------------------------------------------\n",
      "27         8.863987        1.550609        total sum                     \n",
      "27         33.000000       5.744563        Unweighted events, alpha=0.268606\n",
      "  => Total parameter prop_binAddTk_m_mHad_bin27[0.00,-7.00,7.00] to be gaussian constrained\n",
      "------------------------------------------------------------\n",
      "28         6.418745        1.450718        total sum                     \n",
      "28         20.000000       4.472136        Unweighted events, alpha=0.320937\n",
      "  => Number of weighted events is below poisson threshold\n",
      "    tau                  0.054080        0.039070                                      \n",
      "                         2.000000        1.414214        Unweighted events, alpha=0.027040\n",
      "      => Product of prop_binAddTk_m_mHad_bin28_tau[2.00,0.00,33.79] and const [0.5000] to be poisson constrained\n",
      "  ----------------------------------------------------------\n",
      "    DstPipPi0            0.000000        0.000000                                      \n",
      "      => Error is zero, ignore      \n",
      "  ----------------------------------------------------------\n",
      "    DstPi0               0.183926        0.112120                                      \n",
      "                         3.000000        1.732051        Unweighted events, alpha=0.061309\n",
      "      => Product of prop_binAddTk_m_mHad_bin28_DstPi0[3.00,0.00,36.46] and const [0.3333] to be poisson constrained\n",
      "  ----------------------------------------------------------\n",
      "    mu                   5.532208        1.420138                                      \n",
      "                         15.000000       3.872983        Unweighted events, alpha=0.368814\n",
      "      => Product of prop_binAddTk_m_mHad_bin28_mu[15.00,1.11,61.56] and const [0.0667] to be poisson constrained\n",
      "  ----------------------------------------------------------\n",
      "    DstPip               0.193148        0.174323                                      \n",
      "                         1.000000        1.000000        Unweighted events, alpha=0.193148\n",
      "      => Product of prop_binAddTk_m_mHad_bin28_DstPip[1.00,0.00,30.85] and const [1.0000] to be poisson constrained\n",
      "  ----------------------------------------------------------\n",
      "    DstPipPim            0.036939        0.036939                                      \n",
      "                         1.000000        1.000000        Unweighted events, alpha=0.036939\n",
      "      => Product of prop_binAddTk_m_mHad_bin28_DstPipPim[1.00,0.00,30.85] and const [1.0000] to be poisson constrained\n",
      "  ----------------------------------------------------------\n",
      "    Hc                   0.394762        0.203700                                      \n",
      "                         4.000000        2.000000        Unweighted events, alpha=0.098691\n",
      "      => Product of prop_binAddTk_m_mHad_bin28_Hc[4.00,0.00,38.96] and const [0.2500] to be poisson constrained\n",
      "  ----------------------------------------------------------\n",
      "    DstPi0Pi0            0.023681        0.021135                                      \n",
      "                         1.000000        1.000000        Unweighted events, alpha=0.023681\n",
      "      => Product of prop_binAddTk_m_mHad_bin28_DstPi0Pi0[1.00,0.00,30.85] and const [1.0000] to be poisson constrained\n",
      "  ----------------------------------------------------------\n",
      "------------------------------------------------------------\n",
      "29         41.050701       3.638012        total sum                     \n",
      "29         127.000000      11.269428       Unweighted events, alpha=0.323234\n",
      "  => Total parameter prop_binAddTk_m_mHad_bin29[0.00,-7.00,7.00] to be gaussian constrained\n",
      "------------------------------------------------------------\n",
      "Channel AddTk_mm_mHad will use autoMCStats with settings: event-threshold=20, include-signal=1, hist-mode=1\n",
      "============================================================\n",
      "Analysing bin errors for: prop_binAddTk_mm_mHad\n",
      "Poisson cut-off: 20\n",
      "============================================================\n",
      "Bin        Contents        Error           Notes                         \n",
      "0          5.966421        1.347391        total sum                     \n",
      "0          20.000000       4.472136        Unweighted events, alpha=0.298321\n",
      "  => Number of weighted events is below poisson threshold\n",
      "    tau                  0.561656        0.362744                                      \n",
      "                         2.000000        1.414214        Unweighted events, alpha=0.280828\n",
      "      => Product of prop_binAddTk_mm_mHad_bin0_tau[2.00,0.00,33.79] and const [0.5000] to be poisson constrained\n",
      "  ----------------------------------------------------------\n",
      "    DstPipPi0            0.051891        0.036707                                      \n",
      "                         2.000000        1.414214        Unweighted events, alpha=0.025945\n",
      "      => Product of prop_binAddTk_mm_mHad_bin0_DstPipPi0[2.00,0.00,33.79] and const [0.5000] to be poisson constrained\n",
      "  ----------------------------------------------------------\n",
      "    DstPi0               0.161889        0.161889                                      \n",
      "                         1.000000        1.000000        Unweighted events, alpha=0.161889\n",
      "      => Product of prop_binAddTk_mm_mHad_bin0_DstPi0[1.00,0.00,30.85] and const [1.0000] to be poisson constrained\n",
      "  ----------------------------------------------------------\n",
      "    mu                   4.527551        1.271380                                      \n",
      "                         13.000000       3.605551        Unweighted events, alpha=0.348273\n",
      "      => Product of prop_binAddTk_mm_mHad_bin0_mu[13.00,0.73,57.83] and const [0.0769] to be poisson constrained\n",
      "  ----------------------------------------------------------\n",
      "    DstPip               0.000000        0.000000                                      \n",
      "      => Error is zero, ignore      \n",
      "  ----------------------------------------------------------\n",
      "    DstPipPim            0.627681        0.197628                                      \n",
      "                         10.000000       3.162278        Unweighted events, alpha=0.062768\n",
      "      => Product of prop_binAddTk_mm_mHad_bin0_DstPipPim[10.00,0.30,52.00] and const [0.1000] to be poisson constrained\n",
      "  ----------------------------------------------------------\n",
      "    Hc                   0.028401        0.028401                                      \n",
      "                         1.000000        1.000000        Unweighted events, alpha=0.028401\n",
      "      => Product of prop_binAddTk_mm_mHad_bin0_Hc[1.00,0.00,30.85] and const [1.0000] to be poisson constrained\n",
      "  ----------------------------------------------------------\n",
      "    DstPi0Pi0            0.007353        0.007353                                      \n",
      "                         1.000000        1.000000        Unweighted events, alpha=0.007353\n",
      "      => Product of prop_binAddTk_mm_mHad_bin0_DstPi0Pi0[1.00,0.00,30.85] and const [1.0000] to be poisson constrained\n",
      "  ----------------------------------------------------------\n",
      "------------------------------------------------------------\n",
      "1          39.354725       3.413586        total sum                     \n",
      "1          133.000000      11.532563       Unweighted events, alpha=0.295900\n",
      "  => Total parameter prop_binAddTk_mm_mHad_bin1[0.00,-7.00,7.00] to be gaussian constrained\n",
      "------------------------------------------------------------\n",
      "2          40.103122       3.914005        total sum                     \n",
      "2          105.000000      10.246951       Unweighted events, alpha=0.381934\n",
      "  => Total parameter prop_binAddTk_mm_mHad_bin2[0.00,-7.00,7.00] to be gaussian constrained\n",
      "------------------------------------------------------------\n",
      "3          30.591224       2.958290        total sum                     \n",
      "3          107.000000      10.344080       Unweighted events, alpha=0.285899\n",
      "  => Total parameter prop_binAddTk_mm_mHad_bin3[0.00,-7.00,7.00] to be gaussian constrained\n",
      "------------------------------------------------------------\n",
      "4          26.862864       2.802747        total sum                     \n",
      "4          92.000000       9.591663        Unweighted events, alpha=0.291988\n",
      "  => Total parameter prop_binAddTk_mm_mHad_bin4[0.00,-7.00,7.00] to be gaussian constrained\n",
      "------------------------------------------------------------\n",
      "5          18.011775       2.313873        total sum                     \n",
      "5          61.000000       7.810250        Unweighted events, alpha=0.295275\n",
      "  => Total parameter prop_binAddTk_mm_mHad_bin5[0.00,-7.00,7.00] to be gaussian constrained\n",
      "------------------------------------------------------------\n",
      "6          13.421770       1.947361        total sum                     \n",
      "6          48.000000       6.928203        Unweighted events, alpha=0.279620\n",
      "  => Total parameter prop_binAddTk_mm_mHad_bin6[0.00,-7.00,7.00] to be gaussian constrained\n",
      "------------------------------------------------------------\n",
      "7          9.846009        1.818840        total sum                     \n",
      "7          29.000000       5.385165        Unweighted events, alpha=0.339518\n",
      "  => Total parameter prop_binAddTk_mm_mHad_bin7[0.00,-7.00,7.00] to be gaussian constrained\n",
      "------------------------------------------------------------\n",
      "8          7.819857        1.525994        total sum                     \n",
      "8          26.000000       5.099020        Unweighted events, alpha=0.300764\n",
      "  => Total parameter prop_binAddTk_mm_mHad_bin8[0.00,-7.00,7.00] to be gaussian constrained\n",
      "------------------------------------------------------------\n",
      "9          2.444509        0.758511        total sum                     \n",
      "9          10.000000       3.162278        Unweighted events, alpha=0.244451\n",
      "  => Number of weighted events is below poisson threshold\n",
      "    tau                  0.215293        0.152537                                      \n",
      "                         2.000000        1.414214        Unweighted events, alpha=0.107647\n",
      "      => Product of prop_binAddTk_mm_mHad_bin9_tau[2.00,0.00,33.79] and const [0.5000] to be poisson constrained\n",
      "  ----------------------------------------------------------\n",
      "    DstPipPi0            0.000000        0.000000                                      \n",
      "      => Error is zero, ignore      \n",
      "  ----------------------------------------------------------\n",
      "    DstPi0               0.023968        0.023968                                      \n",
      "                         1.000000        1.000000        Unweighted events, alpha=0.023968\n",
      "      => Product of prop_binAddTk_mm_mHad_bin9_DstPi0[1.00,0.00,30.85] and const [1.0000] to be poisson constrained\n",
      "  ----------------------------------------------------------\n",
      "    mu                   1.690677        0.708316                                      \n",
      "                         6.000000        2.449490        Unweighted events, alpha=0.281780\n",
      "      => Product of prop_binAddTk_mm_mHad_bin9_mu[6.00,0.03,43.60] and const [0.1667] to be poisson constrained\n",
      "  ----------------------------------------------------------\n",
      "    DstPip               0.034515        0.034515                                      \n",
      "                         1.000000        1.000000        Unweighted events, alpha=0.034515\n",
      "      => Product of prop_binAddTk_mm_mHad_bin9_DstPip[1.00,0.00,30.85] and const [1.0000] to be poisson constrained\n",
      "  ----------------------------------------------------------\n",
      "    DstPipPim            0.090563        0.082268                                      \n",
      "                         1.000000        1.000000        Unweighted events, alpha=0.090563\n",
      "      => Product of prop_binAddTk_mm_mHad_bin9_DstPipPim[1.00,0.00,30.85] and const [1.0000] to be poisson constrained\n",
      "  ----------------------------------------------------------\n",
      "    Hc                   0.355991        0.203123                                      \n",
      "                         3.000000        1.732051        Unweighted events, alpha=0.118664\n",
      "      => Product of prop_binAddTk_mm_mHad_bin9_Hc[3.00,0.00,36.46] and const [0.3333] to be poisson constrained\n",
      "  ----------------------------------------------------------\n",
      "    DstPi0Pi0            0.033501        0.023819                                      \n",
      "                         2.000000        1.414214        Unweighted events, alpha=0.016751\n",
      "      => Product of prop_binAddTk_mm_mHad_bin9_DstPi0Pi0[2.00,0.00,33.79] and const [0.5000] to be poisson constrained\n",
      "  ----------------------------------------------------------\n",
      "------------------------------------------------------------\n",
      "10         4.000259        1.083395        total sum                     \n",
      "10         14.000000       3.741657        Unweighted events, alpha=0.285733\n",
      "  => Number of weighted events is below poisson threshold\n",
      "    tau                  0.118495        0.100203                                      \n",
      "                         1.000000        1.000000        Unweighted events, alpha=0.118495\n",
      "      => Product of prop_binAddTk_mm_mHad_bin10_tau[1.00,0.00,30.85] and const [1.0000] to be poisson constrained\n",
      "  ----------------------------------------------------------\n",
      "    DstPipPi0            0.025209        0.025209                                      \n",
      "                         1.000000        1.000000        Unweighted events, alpha=0.025209\n",
      "      => Product of prop_binAddTk_mm_mHad_bin10_DstPipPi0[1.00,0.00,30.85] and const [1.0000] to be poisson constrained\n",
      "  ----------------------------------------------------------\n",
      "    DstPi0               0.215709        0.160438                                      \n",
      "                         2.000000        1.414214        Unweighted events, alpha=0.107854\n",
      "      => Product of prop_binAddTk_mm_mHad_bin10_DstPi0[2.00,0.00,33.79] and const [0.5000] to be poisson constrained\n",
      "  ----------------------------------------------------------\n",
      "    mu                   3.267955        1.054795                                      \n",
      "                         10.000000       3.162278        Unweighted events, alpha=0.326795\n",
      "      => Product of prop_binAddTk_mm_mHad_bin10_mu[10.00,0.30,52.00] and const [0.1000] to be poisson constrained\n",
      "  ----------------------------------------------------------\n",
      "    DstPip               0.128527        0.122635                                      \n",
      "                         1.000000        1.000000        Unweighted events, alpha=0.128527\n",
      "      => Product of prop_binAddTk_mm_mHad_bin10_DstPip[1.00,0.00,30.85] and const [1.0000] to be poisson constrained\n",
      "  ----------------------------------------------------------\n",
      "    DstPipPim            0.143820        0.072270                                      \n",
      "                         4.000000        2.000000        Unweighted events, alpha=0.035955\n",
      "      => Product of prop_binAddTk_mm_mHad_bin10_DstPipPim[4.00,0.00,38.96] and const [0.2500] to be poisson constrained\n",
      "  ----------------------------------------------------------\n",
      "    Hc                   0.066633        0.061829                                      \n",
      "                         1.000000        1.000000        Unweighted events, alpha=0.066633\n",
      "      => Product of prop_binAddTk_mm_mHad_bin10_Hc[1.00,0.00,30.85] and const [1.0000] to be poisson constrained\n",
      "  ----------------------------------------------------------\n",
      "    DstPi0Pi0            0.033911        0.025525                                      \n",
      "                         2.000000        1.414214        Unweighted events, alpha=0.016955\n",
      "      => Product of prop_binAddTk_mm_mHad_bin10_DstPi0Pi0[2.00,0.00,33.79] and const [0.5000] to be poisson constrained\n",
      "  ----------------------------------------------------------\n",
      "------------------------------------------------------------\n",
      "11         1.172815        0.390082        total sum                     \n",
      "11         9.000000        3.000000        Unweighted events, alpha=0.130313\n",
      "  => Number of weighted events is below poisson threshold\n",
      "    tau                  0.000000        0.000000                                      \n",
      "      => Error is zero, ignore      \n",
      "  ----------------------------------------------------------\n",
      "    DstPipPi0            0.000000        0.000000                                      \n",
      "      => Error is zero, ignore      \n",
      "  ----------------------------------------------------------\n",
      "    DstPi0               0.076062        0.076062                                      \n",
      "                         1.000000        1.000000        Unweighted events, alpha=0.076062\n",
      "      => Product of prop_binAddTk_mm_mHad_bin11_DstPi0[1.00,0.00,30.85] and const [1.0000] to be poisson constrained\n",
      "  ----------------------------------------------------------\n",
      "    mu                   0.831642        0.358428                                      \n",
      "                         5.000000        2.236068        Unweighted events, alpha=0.166328\n",
      "      => Product of prop_binAddTk_mm_mHad_bin11_mu[5.00,0.01,41.33] and const [0.2000] to be poisson constrained\n",
      "  ----------------------------------------------------------\n",
      "    DstPip               0.146244        0.099572                                      \n",
      "                         2.000000        1.414214        Unweighted events, alpha=0.073122\n",
      "      => Product of prop_binAddTk_mm_mHad_bin11_DstPip[2.00,0.00,33.79] and const [0.5000] to be poisson constrained\n",
      "  ----------------------------------------------------------\n",
      "    DstPipPim            0.118867        0.089404                                      \n",
      "                         2.000000        1.414214        Unweighted events, alpha=0.059434\n",
      "      => Product of prop_binAddTk_mm_mHad_bin11_DstPipPim[2.00,0.00,33.79] and const [0.5000] to be poisson constrained\n",
      "  ----------------------------------------------------------\n",
      "    Hc                   0.000000        0.000000                                      \n",
      "      => Error is zero, ignore      \n",
      "  ----------------------------------------------------------\n",
      "    DstPi0Pi0            0.000000        0.000000                                      \n",
      "      => Error is zero, ignore      \n",
      "  ----------------------------------------------------------\n",
      "------------------------------------------------------------\n",
      "12         1.397079        0.600142        total sum                     \n",
      "12         5.000000        2.236068        Unweighted events, alpha=0.279416\n",
      "  => Number of weighted events is below poisson threshold\n",
      "    tau                  0.000000        0.000000                                      \n",
      "      => Error is zero, ignore      \n",
      "  ----------------------------------------------------------\n",
      "    DstPipPi0            0.022142        0.022142                                      \n",
      "                         1.000000        1.000000        Unweighted events, alpha=0.022142\n",
      "      => Product of prop_binAddTk_mm_mHad_bin12_DstPipPi0[1.00,0.00,30.85] and const [1.0000] to be poisson constrained\n",
      "  ----------------------------------------------------------\n",
      "    DstPi0               0.100379        0.100379                                      \n",
      "                         1.000000        1.000000        Unweighted events, alpha=0.100379\n",
      "      => Product of prop_binAddTk_mm_mHad_bin12_DstPi0[1.00,0.00,30.85] and const [1.0000] to be poisson constrained\n",
      "  ----------------------------------------------------------\n",
      "    mu                   1.111477        0.581465                                      \n",
      "                         4.000000        2.000000        Unweighted events, alpha=0.277869\n",
      "      => Product of prop_binAddTk_mm_mHad_bin12_mu[4.00,0.00,38.96] and const [0.2500] to be poisson constrained\n",
      "  ----------------------------------------------------------\n",
      "    DstPip               0.000000        0.000000                                      \n",
      "      => Error is zero, ignore      \n",
      "  ----------------------------------------------------------\n",
      "    DstPipPim            0.154997        0.106946                                      \n",
      "                         2.000000        1.414214        Unweighted events, alpha=0.077499\n",
      "      => Product of prop_binAddTk_mm_mHad_bin12_DstPipPim[2.00,0.00,33.79] and const [0.5000] to be poisson constrained\n",
      "  ----------------------------------------------------------\n",
      "    Hc                   0.000000        0.000000                                      \n",
      "      => Error is zero, ignore      \n",
      "  ----------------------------------------------------------\n",
      "    DstPi0Pi0            0.008084        0.008084                                      \n",
      "                         1.000000        1.000000        Unweighted events, alpha=0.008084\n",
      "      => Product of prop_binAddTk_mm_mHad_bin12_DstPi0Pi0[1.00,0.00,30.85] and const [1.0000] to be poisson constrained\n",
      "  ----------------------------------------------------------\n",
      "------------------------------------------------------------\n",
      "13         0.926298        0.571202        total sum                     \n",
      "13         3.000000        1.732051        Unweighted events, alpha=0.308766\n",
      "  => Number of weighted events is below poisson threshold\n",
      "    tau                  0.162669        0.162669                                      \n",
      "                         1.000000        1.000000        Unweighted events, alpha=0.162669\n",
      "      => Product of prop_binAddTk_mm_mHad_bin13_tau[1.00,0.00,30.85] and const [1.0000] to be poisson constrained\n",
      "  ----------------------------------------------------------\n",
      "    DstPipPi0            0.000000        0.000000                                      \n",
      "      => Error is zero, ignore      \n",
      "  ----------------------------------------------------------\n",
      "    DstPi0               0.000000        0.000000                                      \n",
      "      => Error is zero, ignore      \n",
      "  ----------------------------------------------------------\n",
      "    mu                   0.702855        0.544198                                      \n",
      "                         2.000000        1.414214        Unweighted events, alpha=0.351428\n",
      "      => Product of prop_binAddTk_mm_mHad_bin13_mu[2.00,0.00,33.79] and const [0.5000] to be poisson constrained\n",
      "  ----------------------------------------------------------\n",
      "    DstPip               0.000000        0.000000                                      \n",
      "      => Error is zero, ignore      \n",
      "  ----------------------------------------------------------\n",
      "    DstPipPim            0.060486        0.060486                                      \n",
      "                         1.000000        1.000000        Unweighted events, alpha=0.060486\n",
      "      => Product of prop_binAddTk_mm_mHad_bin13_DstPipPim[1.00,0.00,30.85] and const [1.0000] to be poisson constrained\n",
      "  ----------------------------------------------------------\n",
      "    Hc                   0.000000        0.000000                                      \n",
      "      => Error is zero, ignore      \n",
      "  ----------------------------------------------------------\n",
      "    DstPi0Pi0            0.000288        0.000288                                      \n",
      "                         1.000000        1.000000        Unweighted events, alpha=0.000288\n",
      "      => Product of prop_binAddTk_mm_mHad_bin13_DstPi0Pi0[1.00,0.00,30.85] and const [1.0000] to be poisson constrained\n",
      "  ----------------------------------------------------------\n",
      "------------------------------------------------------------\n",
      "14         1.261225        0.593773        total sum                     \n",
      "14         5.000000        2.236068        Unweighted events, alpha=0.252245\n",
      "  => Number of weighted events is below poisson threshold\n",
      "    tau                  0.000000        0.000000                                      \n",
      "      => Error is zero, ignore      \n",
      "  ----------------------------------------------------------\n",
      "    DstPipPi0            0.000000        0.000000                                      \n",
      "      => Error is zero, ignore      \n",
      "  ----------------------------------------------------------\n",
      "    DstPi0               0.000000        0.000000                                      \n",
      "      => Error is zero, ignore      \n",
      "  ----------------------------------------------------------\n",
      "    mu                   0.845049        0.538427                                      \n",
      "                         2.000000        1.414214        Unweighted events, alpha=0.422525\n",
      "      => Product of prop_binAddTk_mm_mHad_bin14_mu[2.00,0.00,33.79] and const [0.5000] to be poisson constrained\n",
      "  ----------------------------------------------------------\n",
      "    DstPip               0.000000        0.000000                                      \n",
      "      => Error is zero, ignore      \n",
      "  ----------------------------------------------------------\n",
      "    DstPipPim            0.000698        0.000698                                      \n",
      "                         1.000000        1.000000        Unweighted events, alpha=0.000698\n",
      "      => Product of prop_binAddTk_mm_mHad_bin14_DstPipPim[1.00,0.00,30.85] and const [1.0000] to be poisson constrained\n",
      "  ----------------------------------------------------------\n",
      "    Hc                   0.415477        0.250324                                      \n",
      "                         3.000000        1.732051        Unweighted events, alpha=0.138492\n",
      "      => Product of prop_binAddTk_mm_mHad_bin14_Hc[3.00,0.00,36.46] and const [0.3333] to be poisson constrained\n",
      "  ----------------------------------------------------------\n",
      "    DstPi0Pi0            0.000000        0.000000                                      \n",
      "      => Error is zero, ignore      \n",
      "  ----------------------------------------------------------\n",
      "------------------------------------------------------------\n",
      "Channel AddTk_p_mHad will use autoMCStats with settings: event-threshold=20, include-signal=1, hist-mode=1\n",
      "============================================================\n",
      "Analysing bin errors for: prop_binAddTk_p_mHad\n",
      "Poisson cut-off: 20\n",
      "============================================================\n",
      "Bin        Contents        Error           Notes                         \n",
      "0          126.939329      5.491203        total sum                     \n",
      "0          534.000000      23.108440       Unweighted events, alpha=0.237714\n",
      "  => Total parameter prop_binAddTk_p_mHad_bin0[0.00,-7.00,7.00] to be gaussian constrained\n",
      "------------------------------------------------------------\n",
      "1          512.058680      11.557836       total sum                     \n",
      "1          1963.000000     44.305756       Unweighted events, alpha=0.260855\n",
      "  => Total parameter prop_binAddTk_p_mHad_bin1[0.00,-7.00,7.00] to be gaussian constrained\n",
      "------------------------------------------------------------\n",
      "2          779.494473      14.467471       total sum                     \n",
      "2          2903.000000     53.879495       Unweighted events, alpha=0.268513\n",
      "  => Total parameter prop_binAddTk_p_mHad_bin2[0.00,-7.00,7.00] to be gaussian constrained\n",
      "------------------------------------------------------------\n",
      "3          763.055159      14.222718       total sum                     \n",
      "3          2878.000000     53.646994       Unweighted events, alpha=0.265134\n",
      "  => Total parameter prop_binAddTk_p_mHad_bin3[0.00,-7.00,7.00] to be gaussian constrained\n",
      "------------------------------------------------------------\n",
      "4          689.831465      13.409014       total sum                     \n",
      "4          2647.000000     51.449004       Unweighted events, alpha=0.260609\n",
      "  => Total parameter prop_binAddTk_p_mHad_bin4[0.00,-7.00,7.00] to be gaussian constrained\n",
      "------------------------------------------------------------\n",
      "5          632.041442      14.100967       total sum                     \n",
      "5          2009.000000     44.821870       Unweighted events, alpha=0.314605\n",
      "  => Total parameter prop_binAddTk_p_mHad_bin5[0.00,-7.00,7.00] to be gaussian constrained\n",
      "------------------------------------------------------------\n",
      "6          558.552839      12.197718       total sum                     \n",
      "6          2097.000000     45.793013       Unweighted events, alpha=0.266358\n",
      "  => Total parameter prop_binAddTk_p_mHad_bin6[0.00,-7.00,7.00] to be gaussian constrained\n",
      "------------------------------------------------------------\n",
      "7          493.750506      11.194805       total sum                     \n",
      "7          1945.000000     44.102154       Unweighted events, alpha=0.253856\n",
      "  => Total parameter prop_binAddTk_p_mHad_bin7[0.00,-7.00,7.00] to be gaussian constrained\n",
      "------------------------------------------------------------\n",
      "8          465.808444      10.743191       total sum                     \n",
      "8          1880.000000     43.358967       Unweighted events, alpha=0.247770\n",
      "  => Total parameter prop_binAddTk_p_mHad_bin8[0.00,-7.00,7.00] to be gaussian constrained\n",
      "------------------------------------------------------------\n",
      "9          450.799620      11.058133       total sum                     \n",
      "9          1662.000000     40.767634       Unweighted events, alpha=0.271239\n",
      "  => Total parameter prop_binAddTk_p_mHad_bin9[0.00,-7.00,7.00] to be gaussian constrained\n",
      "------------------------------------------------------------\n",
      "10         427.898901      10.193232       total sum                     \n",
      "10         1762.000000     41.976184       Unweighted events, alpha=0.242848\n",
      "  => Total parameter prop_binAddTk_p_mHad_bin10[0.00,-7.00,7.00] to be gaussian constrained\n",
      "------------------------------------------------------------\n",
      "11         468.490890      10.389783       total sum                     \n",
      "11         2033.000000     45.088801       Unweighted events, alpha=0.230443\n",
      "  => Total parameter prop_binAddTk_p_mHad_bin11[0.00,-7.00,7.00] to be gaussian constrained\n",
      "------------------------------------------------------------\n",
      "12         600.208475      11.353560       total sum                     \n",
      "12         2795.000000     52.867760       Unweighted events, alpha=0.214744\n",
      "  => Total parameter prop_binAddTk_p_mHad_bin12[0.00,-7.00,7.00] to be gaussian constrained\n",
      "------------------------------------------------------------\n",
      "13         1015.646249     14.249345       total sum                     \n",
      "13         5080.000000     71.274119       Unweighted events, alpha=0.199930\n",
      "  => Total parameter prop_binAddTk_p_mHad_bin13[0.00,-7.00,7.00] to be gaussian constrained\n",
      "------------------------------------------------------------\n",
      "14         1473.045373     16.632383       total sum                     \n",
      "14         7844.000000     88.566359       Unweighted events, alpha=0.187793\n",
      "  => Total parameter prop_binAddTk_p_mHad_bin14[0.00,-7.00,7.00] to be gaussian constrained\n",
      "------------------------------------------------------------\n",
      "15         1242.110788     15.754897       total sum                     \n",
      "15         6216.000000     78.841613       Unweighted events, alpha=0.199825\n",
      "  => Total parameter prop_binAddTk_p_mHad_bin15[0.00,-7.00,7.00] to be gaussian constrained\n",
      "------------------------------------------------------------\n",
      "16         867.872168      13.434806       total sum                     \n",
      "16         4173.000000     64.598762       Unweighted events, alpha=0.207973\n",
      "  => Total parameter prop_binAddTk_p_mHad_bin16[0.00,-7.00,7.00] to be gaussian constrained\n",
      "------------------------------------------------------------\n",
      "17         600.721399      10.897402       total sum                     \n",
      "17         3039.000000     55.127126       Unweighted events, alpha=0.197671\n",
      "  => Total parameter prop_binAddTk_p_mHad_bin17[0.00,-7.00,7.00] to be gaussian constrained\n",
      "------------------------------------------------------------\n",
      "18         451.160425      9.536952        total sum                     \n",
      "18         2238.000000     47.307505       Unweighted events, alpha=0.201591\n",
      "  => Total parameter prop_binAddTk_p_mHad_bin18[0.00,-7.00,7.00] to be gaussian constrained\n",
      "------------------------------------------------------------\n",
      "19         345.642893      8.377572        total sum                     \n",
      "19         1702.000000     41.255303       Unweighted events, alpha=0.203080\n",
      "  => Total parameter prop_binAddTk_p_mHad_bin19[0.00,-7.00,7.00] to be gaussian constrained\n",
      "------------------------------------------------------------\n",
      "20         281.504192      7.681945        total sum                     \n",
      "20         1343.000000     36.646964       Unweighted events, alpha=0.209608\n",
      "  => Total parameter prop_binAddTk_p_mHad_bin20[0.00,-7.00,7.00] to be gaussian constrained\n",
      "------------------------------------------------------------\n",
      "21         238.234927      7.074708        total sum                     \n",
      "21         1134.000000     33.674916       Unweighted events, alpha=0.210084\n",
      "  => Total parameter prop_binAddTk_p_mHad_bin21[0.00,-7.00,7.00] to be gaussian constrained\n",
      "------------------------------------------------------------\n",
      "22         198.357047      6.659315        total sum                     \n",
      "22         887.000000      29.782545       Unweighted events, alpha=0.223627\n",
      "  => Total parameter prop_binAddTk_p_mHad_bin22[0.00,-7.00,7.00] to be gaussian constrained\n",
      "------------------------------------------------------------\n",
      "23         174.125731      6.077922        total sum                     \n",
      "23         821.000000      28.653098       Unweighted events, alpha=0.212090\n",
      "  => Total parameter prop_binAddTk_p_mHad_bin23[0.00,-7.00,7.00] to be gaussian constrained\n",
      "------------------------------------------------------------\n",
      "24         154.193903      5.597346        total sum                     \n",
      "24         759.000000      27.549955       Unweighted events, alpha=0.203154\n",
      "  => Total parameter prop_binAddTk_p_mHad_bin24[0.00,-7.00,7.00] to be gaussian constrained\n",
      "------------------------------------------------------------\n",
      "25         137.690857      5.442690        total sum                     \n",
      "25         640.000000      25.298221       Unweighted events, alpha=0.215142\n",
      "  => Total parameter prop_binAddTk_p_mHad_bin25[0.00,-7.00,7.00] to be gaussian constrained\n",
      "------------------------------------------------------------\n",
      "26         119.379912      4.979137        total sum                     \n",
      "26         575.000000      23.979158       Unweighted events, alpha=0.207617\n",
      "  => Total parameter prop_binAddTk_p_mHad_bin26[0.00,-7.00,7.00] to be gaussian constrained\n",
      "------------------------------------------------------------\n",
      "27         112.090580      4.891765        total sum                     \n",
      "27         525.000000      22.912878       Unweighted events, alpha=0.213506\n",
      "  => Total parameter prop_binAddTk_p_mHad_bin27[0.00,-7.00,7.00] to be gaussian constrained\n",
      "------------------------------------------------------------\n",
      "28         104.603456      4.857400        total sum                     \n",
      "28         464.000000      21.540659       Unweighted events, alpha=0.225438\n",
      "  => Total parameter prop_binAddTk_p_mHad_bin28[0.00,-7.00,7.00] to be gaussian constrained\n",
      "------------------------------------------------------------\n",
      "29         99.765546       4.571836        total sum                     \n",
      "29         476.000000      21.817424       Unweighted events, alpha=0.209591\n",
      "  => Total parameter prop_binAddTk_p_mHad_bin29[0.00,-7.00,7.00] to be gaussian constrained\n",
      "------------------------------------------------------------\n",
      "30         83.176961       4.222717        total sum                     \n",
      "30         388.000000      19.697716       Unweighted events, alpha=0.214374\n",
      "  => Total parameter prop_binAddTk_p_mHad_bin30[0.00,-7.00,7.00] to be gaussian constrained\n",
      "------------------------------------------------------------\n",
      "31         72.257150       3.936144        total sum                     \n",
      "31         337.000000      18.357560       Unweighted events, alpha=0.214413\n",
      "  => Total parameter prop_binAddTk_p_mHad_bin31[0.00,-7.00,7.00] to be gaussian constrained\n",
      "------------------------------------------------------------\n",
      "32         66.742108       3.901385        total sum                     \n",
      "32         293.000000      17.117243       Unweighted events, alpha=0.227789\n",
      "  => Total parameter prop_binAddTk_p_mHad_bin32[0.00,-7.00,7.00] to be gaussian constrained\n",
      "------------------------------------------------------------\n",
      "33         65.649468       3.718790        total sum                     \n",
      "33         312.000000      17.663522       Unweighted events, alpha=0.210415\n",
      "  => Total parameter prop_binAddTk_p_mHad_bin33[0.00,-7.00,7.00] to be gaussian constrained\n",
      "------------------------------------------------------------\n",
      "34         707.308252      12.632817       total sum                     \n",
      "34         3135.000000     55.991071       Unweighted events, alpha=0.225617\n",
      "  => Total parameter prop_binAddTk_p_mHad_bin34[0.00,-7.00,7.00] to be gaussian constrained\n",
      "------------------------------------------------------------\n",
      "Channel AddTk_pm_mHad will use autoMCStats with settings: event-threshold=20, include-signal=1, hist-mode=1\n",
      "============================================================\n",
      "Analysing bin errors for: prop_binAddTk_pm_mHad\n",
      "Poisson cut-off: 20\n",
      "============================================================\n",
      "Bin        Contents        Error           Notes                         \n",
      "0          20.506429       1.207141        total sum                     \n",
      "0          289.000000      17.000000       Unweighted events, alpha=0.070957\n",
      "  => Total parameter prop_binAddTk_pm_mHad_bin0[0.00,-7.00,7.00] to be gaussian constrained\n",
      "------------------------------------------------------------\n",
      "1          114.252889      3.505393        total sum                     \n",
      "1          1062.000000     32.588341       Unweighted events, alpha=0.107583\n",
      "  => Total parameter prop_binAddTk_pm_mHad_bin1[0.00,-7.00,7.00] to be gaussian constrained\n",
      "------------------------------------------------------------\n",
      "2          174.158888      4.788745        total sum                     \n",
      "2          1323.000000     36.373067       Unweighted events, alpha=0.131639\n",
      "  => Total parameter prop_binAddTk_pm_mHad_bin2[0.00,-7.00,7.00] to be gaussian constrained\n",
      "------------------------------------------------------------\n",
      "3          214.739380      5.307849        total sum                     \n",
      "3          1637.000000     40.459857       Unweighted events, alpha=0.131179\n",
      "  => Total parameter prop_binAddTk_pm_mHad_bin3[0.00,-7.00,7.00] to be gaussian constrained\n",
      "------------------------------------------------------------\n",
      "4          208.806568      5.335687        total sum                     \n",
      "4          1531.000000     39.127995       Unweighted events, alpha=0.136386\n",
      "  => Total parameter prop_binAddTk_pm_mHad_bin4[0.00,-7.00,7.00] to be gaussian constrained\n",
      "------------------------------------------------------------\n",
      "5          182.372047      5.065999        total sum                     \n",
      "5          1296.000000     36.000000       Unweighted events, alpha=0.140719\n",
      "  => Total parameter prop_binAddTk_pm_mHad_bin5[0.00,-7.00,7.00] to be gaussian constrained\n",
      "------------------------------------------------------------\n",
      "6          168.940895      5.169012        total sum                     \n",
      "6          1068.000000     32.680269       Unweighted events, alpha=0.158184\n",
      "  => Total parameter prop_binAddTk_pm_mHad_bin6[0.00,-7.00,7.00] to be gaussian constrained\n",
      "------------------------------------------------------------\n",
      "7          168.117546      5.414703        total sum                     \n",
      "7          964.000000      31.048349       Unweighted events, alpha=0.174396\n",
      "  => Total parameter prop_binAddTk_pm_mHad_bin7[0.00,-7.00,7.00] to be gaussian constrained\n",
      "------------------------------------------------------------\n",
      "8          137.339636      4.866393        total sum                     \n",
      "8          796.000000      28.213472       Unweighted events, alpha=0.172537\n",
      "  => Total parameter prop_binAddTk_pm_mHad_bin8[0.00,-7.00,7.00] to be gaussian constrained\n",
      "------------------------------------------------------------\n",
      "9          109.375208      4.454185        total sum                     \n",
      "9          603.000000      24.556058       Unweighted events, alpha=0.181385\n",
      "  => Total parameter prop_binAddTk_pm_mHad_bin9[0.00,-7.00,7.00] to be gaussian constrained\n",
      "------------------------------------------------------------\n",
      "10         93.125874       4.246530        total sum                     \n",
      "10         481.000000      21.931712       Unweighted events, alpha=0.193609\n",
      "  => Total parameter prop_binAddTk_pm_mHad_bin10[0.00,-7.00,7.00] to be gaussian constrained\n",
      "------------------------------------------------------------\n",
      "11         79.506630       3.750087        total sum                     \n",
      "11         449.000000      21.189620       Unweighted events, alpha=0.177075\n",
      "  => Total parameter prop_binAddTk_pm_mHad_bin11[0.00,-7.00,7.00] to be gaussian constrained\n",
      "------------------------------------------------------------\n",
      "12         72.592505       3.595785        total sum                     \n",
      "12         408.000000      20.199010       Unweighted events, alpha=0.177923\n",
      "  => Total parameter prop_binAddTk_pm_mHad_bin12[0.00,-7.00,7.00] to be gaussian constrained\n",
      "------------------------------------------------------------\n",
      "13         57.598427       3.201174        total sum                     \n",
      "13         324.000000      18.000000       Unweighted events, alpha=0.177773\n",
      "  => Total parameter prop_binAddTk_pm_mHad_bin13[0.00,-7.00,7.00] to be gaussian constrained\n",
      "------------------------------------------------------------\n",
      "14         55.216207       3.054698        total sum                     \n",
      "14         327.000000      18.083141       Unweighted events, alpha=0.168857\n",
      "  => Total parameter prop_binAddTk_pm_mHad_bin14[0.00,-7.00,7.00] to be gaussian constrained\n",
      "------------------------------------------------------------\n",
      "15         45.260844       2.804151        total sum                     \n",
      "15         261.000000      16.155494       Unweighted events, alpha=0.173413\n",
      "  => Total parameter prop_binAddTk_pm_mHad_bin15[0.00,-7.00,7.00] to be gaussian constrained\n",
      "------------------------------------------------------------\n",
      "16         40.048822       2.577931        total sum                     \n",
      "16         241.000000      15.524175       Unweighted events, alpha=0.166178\n",
      "  => Total parameter prop_binAddTk_pm_mHad_bin16[0.00,-7.00,7.00] to be gaussian constrained\n",
      "------------------------------------------------------------\n",
      "17         38.509802       2.559723        total sum                     \n",
      "17         226.000000      15.033296       Unweighted events, alpha=0.170397\n",
      "  => Total parameter prop_binAddTk_pm_mHad_bin17[0.00,-7.00,7.00] to be gaussian constrained\n",
      "------------------------------------------------------------\n",
      "18         30.103275       2.084732        total sum                     \n",
      "18         209.000000      14.456832       Unweighted events, alpha=0.144035\n",
      "  => Total parameter prop_binAddTk_pm_mHad_bin18[0.00,-7.00,7.00] to be gaussian constrained\n",
      "------------------------------------------------------------\n",
      "19         28.457145       2.103716        total sum                     \n",
      "19         183.000000      13.527749       Unweighted events, alpha=0.155504\n",
      "  => Total parameter prop_binAddTk_pm_mHad_bin19[0.00,-7.00,7.00] to be gaussian constrained\n",
      "------------------------------------------------------------\n",
      "20         26.640478       2.003039        total sum                     \n",
      "20         177.000000      13.304135       Unweighted events, alpha=0.150511\n",
      "  => Total parameter prop_binAddTk_pm_mHad_bin20[0.00,-7.00,7.00] to be gaussian constrained\n",
      "------------------------------------------------------------\n",
      "21         21.344043       1.763622        total sum                     \n",
      "21         146.000000      12.083046       Unweighted events, alpha=0.146192\n",
      "  => Total parameter prop_binAddTk_pm_mHad_bin21[0.00,-7.00,7.00] to be gaussian constrained\n",
      "------------------------------------------------------------\n",
      "22         16.338633       1.411766        total sum                     \n",
      "22         134.000000      11.575837       Unweighted events, alpha=0.121930\n",
      "  => Total parameter prop_binAddTk_pm_mHad_bin22[0.00,-7.00,7.00] to be gaussian constrained\n",
      "------------------------------------------------------------\n",
      "23         16.629694       1.543350        total sum                     \n",
      "23         116.000000      10.770330       Unweighted events, alpha=0.143359\n",
      "  => Total parameter prop_binAddTk_pm_mHad_bin23[0.00,-7.00,7.00] to be gaussian constrained\n",
      "------------------------------------------------------------\n",
      "24         14.966831       1.499564        total sum                     \n",
      "24         100.000000      10.000000       Unweighted events, alpha=0.149668\n",
      "  => Total parameter prop_binAddTk_pm_mHad_bin24[0.00,-7.00,7.00] to be gaussian constrained\n",
      "------------------------------------------------------------\n",
      "25         15.720120       1.644043        total sum                     \n",
      "25         91.000000       9.539392        Unweighted events, alpha=0.172749\n",
      "  => Total parameter prop_binAddTk_pm_mHad_bin25[0.00,-7.00,7.00] to be gaussian constrained\n",
      "------------------------------------------------------------\n",
      "26         13.983996       1.518135        total sum                     \n",
      "26         85.000000       9.219544        Unweighted events, alpha=0.164518\n",
      "  => Total parameter prop_binAddTk_pm_mHad_bin26[0.00,-7.00,7.00] to be gaussian constrained\n",
      "------------------------------------------------------------\n",
      "27         12.641490       3.183385        total sum                     \n",
      "27         16.000000       4.000000        Unweighted events, alpha=0.790093\n",
      "  => Number of weighted events is below poisson threshold\n",
      "    tau                  0.220408        0.220408                                      \n",
      "                         1.000000        1.000000        Unweighted events, alpha=0.220408\n",
      "      => Product of prop_binAddTk_pm_mHad_bin27_tau[1.00,0.00,30.85] and const [1.0000] to be poisson constrained\n",
      "  ----------------------------------------------------------\n",
      "    DstPipPi0            0.000243        0.000196                                      \n",
      "                         2.000000        1.414214        Unweighted events, alpha=0.000121\n",
      "      => Product of prop_binAddTk_pm_mHad_bin27_DstPipPi0[2.00,0.00,33.79] and const [0.5000] to be poisson constrained\n",
      "  ----------------------------------------------------------\n",
      "    DstPi0               0.000000        0.000000                                      \n",
      "      => Error is zero, ignore      \n",
      "  ----------------------------------------------------------\n",
      "    mu                   0.718239        0.360623                                      \n",
      "                         4.000000        2.000000        Unweighted events, alpha=0.179560\n",
      "      => Product of prop_binAddTk_pm_mHad_bin27_mu[4.00,0.00,38.96] and const [0.2500] to be poisson constrained\n",
      "  ----------------------------------------------------------\n",
      "    DstPip               0.722316        0.291563                                      \n",
      "                         6.000000        2.449490        Unweighted events, alpha=0.120386\n",
      "      => Product of prop_binAddTk_pm_mHad_bin27_DstPip[6.00,0.03,43.60] and const [0.1667] to be poisson constrained\n",
      "  ----------------------------------------------------------\n",
      "    DstPipPim            1.050955        0.273785                                      \n",
      "                         15.000000       3.872983        Unweighted events, alpha=0.070064\n",
      "      => Product of prop_binAddTk_pm_mHad_bin27_DstPipPim[15.00,1.11,61.56] and const [0.0667] to be poisson constrained\n",
      "  ----------------------------------------------------------\n",
      "    Hc                   9.929329        3.129751                                      \n",
      "                         10.000000       3.162278        Unweighted events, alpha=0.992933\n",
      "      => Product of prop_binAddTk_pm_mHad_bin27_Hc[10.00,0.30,52.00] and const [0.1000] to be poisson constrained\n",
      "  ----------------------------------------------------------\n",
      "    DstPi0Pi0            0.000000        0.000000                                      \n",
      "      => Error is zero, ignore      \n",
      "  ----------------------------------------------------------\n",
      "------------------------------------------------------------\n",
      "28         10.220692       1.205728        total sum                     \n",
      "28         72.000000       8.485281        Unweighted events, alpha=0.141954\n",
      "  => Total parameter prop_binAddTk_pm_mHad_bin28[0.00,-7.00,7.00] to be gaussian constrained\n",
      "------------------------------------------------------------\n",
      "29         37.883828       2.140468        total sum                     \n",
      "29         313.000000      17.691806       Unweighted events, alpha=0.121035\n",
      "  => Total parameter prop_binAddTk_pm_mHad_bin29[0.00,-7.00,7.00] to be gaussian constrained\n",
      "------------------------------------------------------------\n",
      "Channel AddTk_pm_mVis will use autoMCStats with settings: event-threshold=20, include-signal=1, hist-mode=1\n",
      "============================================================\n",
      "Analysing bin errors for: prop_binAddTk_pm_mVis\n",
      "Poisson cut-off: 20\n",
      "============================================================\n",
      "Bin        Contents        Error           Notes                         \n",
      "0          8.391030        1.044900        total sum                     \n",
      "0          64.000000       8.000000        Unweighted events, alpha=0.131110\n",
      "  => Total parameter prop_binAddTk_pm_mVis_bin0[0.00,-7.00,7.00] to be gaussian constrained\n",
      "------------------------------------------------------------\n",
      "1          7.897329        0.981992        total sum                     \n",
      "1          65.000000       8.062258        Unweighted events, alpha=0.121497\n",
      "  => Total parameter prop_binAddTk_pm_mVis_bin1[0.00,-7.00,7.00] to be gaussian constrained\n",
      "------------------------------------------------------------\n",
      "2          13.720722       1.154773        total sum                     \n",
      "2          141.000000      11.874342       Unweighted events, alpha=0.097310\n",
      "  => Total parameter prop_binAddTk_pm_mVis_bin2[0.00,-7.00,7.00] to be gaussian constrained\n",
      "------------------------------------------------------------\n",
      "3          24.176017       1.605228        total sum                     \n",
      "3          227.000000      15.066519       Unweighted events, alpha=0.106502\n",
      "  => Total parameter prop_binAddTk_pm_mVis_bin3[0.00,-7.00,7.00] to be gaussian constrained\n",
      "------------------------------------------------------------\n",
      "4          31.895708       2.000209        total sum                     \n",
      "4          254.000000      15.937377       Unweighted events, alpha=0.125574\n",
      "  => Total parameter prop_binAddTk_pm_mVis_bin4[0.00,-7.00,7.00] to be gaussian constrained\n",
      "------------------------------------------------------------\n",
      "5          45.335029       2.485143        total sum                     \n",
      "5          333.000000      18.248288       Unweighted events, alpha=0.136141\n",
      "  => Total parameter prop_binAddTk_pm_mVis_bin5[0.00,-7.00,7.00] to be gaussian constrained\n",
      "------------------------------------------------------------\n",
      "6          55.454069       2.655393        total sum                     \n",
      "6          436.000000      20.880613       Unweighted events, alpha=0.127188\n",
      "  => Total parameter prop_binAddTk_pm_mVis_bin6[0.00,-7.00,7.00] to be gaussian constrained\n",
      "------------------------------------------------------------\n",
      "7          71.788779       3.166039        total sum                     \n",
      "7          514.000000      22.671568       Unweighted events, alpha=0.139667\n",
      "  => Total parameter prop_binAddTk_pm_mVis_bin7[0.00,-7.00,7.00] to be gaussian constrained\n",
      "------------------------------------------------------------\n",
      "8          84.452993       3.351887        total sum                     \n",
      "8          635.000000      25.199206       Unweighted events, alpha=0.132997\n",
      "  => Total parameter prop_binAddTk_pm_mVis_bin8[0.00,-7.00,7.00] to be gaussian constrained\n",
      "------------------------------------------------------------\n",
      "9          100.409375      3.846784        total sum                     \n",
      "9          681.000000      26.095977       Unweighted events, alpha=0.147444\n",
      "  => Total parameter prop_binAddTk_pm_mVis_bin9[0.00,-7.00,7.00] to be gaussian constrained\n",
      "------------------------------------------------------------\n",
      "10         106.744098      3.581335        total sum                     \n",
      "10         888.000000      29.799329       Unweighted events, alpha=0.120207\n",
      "  => Total parameter prop_binAddTk_pm_mVis_bin10[0.00,-7.00,7.00] to be gaussian constrained\n",
      "------------------------------------------------------------\n",
      "11         117.784433      3.864083        total sum                     \n",
      "11         929.000000      30.479501       Unweighted events, alpha=0.126786\n",
      "  => Total parameter prop_binAddTk_pm_mVis_bin11[0.00,-7.00,7.00] to be gaussian constrained\n",
      "------------------------------------------------------------\n",
      "12         140.832718      4.289285        total sum                     \n",
      "12         1078.000000     32.832910       Unweighted events, alpha=0.130643\n",
      "  => Total parameter prop_binAddTk_pm_mVis_bin12[0.00,-7.00,7.00] to be gaussian constrained\n",
      "------------------------------------------------------------\n",
      "13         146.977239      4.538639        total sum                     \n",
      "13         1049.000000     32.388269       Unweighted events, alpha=0.140112\n",
      "  => Total parameter prop_binAddTk_pm_mVis_bin13[0.00,-7.00,7.00] to be gaussian constrained\n",
      "------------------------------------------------------------\n",
      "14         156.624336      4.637334        total sum                     \n",
      "14         1141.000000     33.778692       Unweighted events, alpha=0.137269\n",
      "  => Total parameter prop_binAddTk_pm_mVis_bin14[0.00,-7.00,7.00] to be gaussian constrained\n",
      "------------------------------------------------------------\n",
      "15         166.547523      5.686145        total sum                     \n",
      "15         858.000000      29.291637       Unweighted events, alpha=0.194111\n",
      "  => Total parameter prop_binAddTk_pm_mVis_bin15[0.00,-7.00,7.00] to be gaussian constrained\n",
      "------------------------------------------------------------\n",
      "16         168.313505      5.061701        total sum                     \n",
      "16         1106.000000     33.256578       Unweighted events, alpha=0.152182\n",
      "  => Total parameter prop_binAddTk_pm_mVis_bin16[0.00,-7.00,7.00] to be gaussian constrained\n",
      "------------------------------------------------------------\n",
      "17         166.293222      5.271618        total sum                     \n",
      "17         995.000000      31.543621       Unweighted events, alpha=0.167129\n",
      "  => Total parameter prop_binAddTk_pm_mVis_bin17[0.00,-7.00,7.00] to be gaussian constrained\n",
      "------------------------------------------------------------\n",
      "18         159.226841      5.135152        total sum                     \n",
      "18         961.000000      31.000000       Unweighted events, alpha=0.165689\n",
      "  => Total parameter prop_binAddTk_pm_mVis_bin18[0.00,-7.00,7.00] to be gaussian constrained\n",
      "------------------------------------------------------------\n",
      "19         132.385921      4.720720        total sum                     \n",
      "19         786.000000      28.035692       Unweighted events, alpha=0.168430\n",
      "  => Total parameter prop_binAddTk_pm_mVis_bin19[0.00,-7.00,7.00] to be gaussian constrained\n",
      "------------------------------------------------------------\n",
      "20         105.389037      4.248103        total sum                     \n",
      "20         615.000000      24.799194       Unweighted events, alpha=0.171364\n",
      "  => Total parameter prop_binAddTk_pm_mVis_bin20[0.00,-7.00,7.00] to be gaussian constrained\n",
      "------------------------------------------------------------\n",
      "21         92.010690       4.307677        total sum                     \n",
      "21         456.000000      21.354157       Unweighted events, alpha=0.201778\n",
      "  => Total parameter prop_binAddTk_pm_mVis_bin21[0.00,-7.00,7.00] to be gaussian constrained\n",
      "------------------------------------------------------------\n",
      "22         70.880773       3.972164        total sum                     \n",
      "22         318.000000      17.832555       Unweighted events, alpha=0.222896\n",
      "  => Total parameter prop_binAddTk_pm_mVis_bin22[0.00,-7.00,7.00] to be gaussian constrained\n",
      "------------------------------------------------------------\n",
      "23         51.867428       3.689904        total sum                     \n",
      "23         198.000000      14.071247       Unweighted events, alpha=0.261957\n",
      "  => Total parameter prop_binAddTk_pm_mVis_bin23[0.00,-7.00,7.00] to be gaussian constrained\n",
      "------------------------------------------------------------\n",
      "Channel AddTk_pp_mHad will use autoMCStats with settings: event-threshold=20, include-signal=1, hist-mode=1\n",
      "============================================================\n",
      "Analysing bin errors for: prop_binAddTk_pp_mHad\n",
      "Poisson cut-off: 20\n",
      "============================================================\n",
      "Bin        Contents        Error           Notes                         \n",
      "0          9.793000        1.581113        total sum                     \n",
      "0          38.000000       6.164414        Unweighted events, alpha=0.257711\n",
      "  => Total parameter prop_binAddTk_pp_mHad_bin0[0.00,-7.00,7.00] to be gaussian constrained\n",
      "------------------------------------------------------------\n",
      "1          55.974397       3.859516        total sum                     \n",
      "1          210.000000      14.491377       Unweighted events, alpha=0.266545\n",
      "  => Total parameter prop_binAddTk_pp_mHad_bin1[0.00,-7.00,7.00] to be gaussian constrained\n",
      "------------------------------------------------------------\n",
      "2          70.773468       4.222000        total sum                     \n",
      "2          281.000000      16.763055       Unweighted events, alpha=0.251863\n",
      "  => Total parameter prop_binAddTk_pp_mHad_bin2[0.00,-7.00,7.00] to be gaussian constrained\n",
      "------------------------------------------------------------\n",
      "3          107.683783      4.832186        total sum                     \n",
      "3          497.000000      22.293497       Unweighted events, alpha=0.216668\n",
      "  => Total parameter prop_binAddTk_pp_mHad_bin3[0.00,-7.00,7.00] to be gaussian constrained\n",
      "------------------------------------------------------------\n",
      "4          85.064999       4.156932        total sum                     \n",
      "4          419.000000      20.469489       Unweighted events, alpha=0.203019\n",
      "  => Total parameter prop_binAddTk_pp_mHad_bin4[0.00,-7.00,7.00] to be gaussian constrained\n",
      "------------------------------------------------------------\n",
      "5          64.442692       3.708802        total sum                     \n",
      "5          302.000000      17.378147       Unweighted events, alpha=0.213386\n",
      "  => Total parameter prop_binAddTk_pp_mHad_bin5[0.00,-7.00,7.00] to be gaussian constrained\n",
      "------------------------------------------------------------\n",
      "6          37.874163       2.816544        total sum                     \n",
      "6          181.000000      13.453624       Unweighted events, alpha=0.209250\n",
      "  => Total parameter prop_binAddTk_pp_mHad_bin6[0.00,-7.00,7.00] to be gaussian constrained\n",
      "------------------------------------------------------------\n",
      "7          27.720575       2.435911        total sum                     \n",
      "7          130.000000      11.401754       Unweighted events, alpha=0.213235\n",
      "  => Total parameter prop_binAddTk_pp_mHad_bin7[0.00,-7.00,7.00] to be gaussian constrained\n",
      "------------------------------------------------------------\n",
      "8          19.752994       2.153396        total sum                     \n",
      "8          84.000000       9.165151        Unweighted events, alpha=0.235155\n",
      "  => Total parameter prop_binAddTk_pp_mHad_bin8[0.00,-7.00,7.00] to be gaussian constrained\n",
      "------------------------------------------------------------\n",
      "9          14.871572       1.957990        total sum                     \n",
      "9          58.000000       7.615773        Unweighted events, alpha=0.256406\n",
      "  => Total parameter prop_binAddTk_pp_mHad_bin9[0.00,-7.00,7.00] to be gaussian constrained\n",
      "------------------------------------------------------------\n",
      "10         8.055543        1.243229        total sum                     \n",
      "10         42.000000       6.480741        Unweighted events, alpha=0.191799\n",
      "  => Total parameter prop_binAddTk_pp_mHad_bin10[0.00,-7.00,7.00] to be gaussian constrained\n",
      "------------------------------------------------------------\n",
      "11         7.101150        1.329947        total sum                     \n",
      "11         29.000000       5.385165        Unweighted events, alpha=0.244867\n",
      "  => Total parameter prop_binAddTk_pp_mHad_bin11[0.00,-7.00,7.00] to be gaussian constrained\n",
      "------------------------------------------------------------\n",
      "12         3.177934        0.852816        total sum                     \n",
      "12         14.000000       3.741657        Unweighted events, alpha=0.226995\n",
      "  => Number of weighted events is below poisson threshold\n",
      "    tau                  0.000000        0.000000                                      \n",
      "      => Error is zero, ignore      \n",
      "  ----------------------------------------------------------\n",
      "    DstPipPi0            0.120059        0.051569                                      \n",
      "                         5.000000        2.236068        Unweighted events, alpha=0.024012\n",
      "      => Product of prop_binAddTk_pp_mHad_bin12_DstPipPi0[5.00,0.01,41.33] and const [0.2000] to be poisson constrained\n",
      "  ----------------------------------------------------------\n",
      "    DstPi0               0.012289        0.012289                                      \n",
      "                         1.000000        1.000000        Unweighted events, alpha=0.012289\n",
      "      => Product of prop_binAddTk_pp_mHad_bin12_DstPi0[1.00,0.00,30.85] and const [1.0000] to be poisson constrained\n",
      "  ----------------------------------------------------------\n",
      "    mu                   1.362285        0.662876                                      \n",
      "                         4.000000        2.000000        Unweighted events, alpha=0.340571\n",
      "      => Product of prop_binAddTk_pp_mHad_bin12_mu[4.00,0.00,38.96] and const [0.2500] to be poisson constrained\n",
      "  ----------------------------------------------------------\n",
      "    DstPip               1.338211        0.503363                                      \n",
      "                         7.000000        2.645751        Unweighted events, alpha=0.191173\n",
      "      => Product of prop_binAddTk_pp_mHad_bin12_DstPip[7.00,0.07,45.79] and const [0.1429] to be poisson constrained\n",
      "  ----------------------------------------------------------\n",
      "    DstPipPim            0.104030        0.104030                                      \n",
      "                         1.000000        1.000000        Unweighted events, alpha=0.104030\n",
      "      => Product of prop_binAddTk_pp_mHad_bin12_DstPipPim[1.00,0.00,30.85] and const [1.0000] to be poisson constrained\n",
      "  ----------------------------------------------------------\n",
      "    Hc                   0.208763        0.141952                                      \n",
      "                         2.000000        1.414214        Unweighted events, alpha=0.104381\n",
      "      => Product of prop_binAddTk_pp_mHad_bin12_Hc[2.00,0.00,33.79] and const [0.5000] to be poisson constrained\n",
      "  ----------------------------------------------------------\n",
      "    DstPi0Pi0            0.032298        0.027076                                      \n",
      "                         1.000000        1.000000        Unweighted events, alpha=0.032298\n",
      "      => Product of prop_binAddTk_pp_mHad_bin12_DstPi0Pi0[1.00,0.00,30.85] and const [1.0000] to be poisson constrained\n",
      "  ----------------------------------------------------------\n",
      "------------------------------------------------------------\n",
      "13         3.003884        0.836420        total sum                     \n",
      "13         13.000000       3.605551        Unweighted events, alpha=0.231068\n",
      "  => Number of weighted events is below poisson threshold\n",
      "    tau                  0.078446        0.071199                                      \n",
      "                         1.000000        1.000000        Unweighted events, alpha=0.078446\n",
      "      => Product of prop_binAddTk_pp_mHad_bin13_tau[1.00,0.00,30.85] and const [1.0000] to be poisson constrained\n",
      "  ----------------------------------------------------------\n",
      "    DstPipPi0            0.063477        0.038011                                      \n",
      "                         3.000000        1.732051        Unweighted events, alpha=0.021159\n",
      "      => Product of prop_binAddTk_pp_mHad_bin13_DstPipPi0[3.00,0.00,36.46] and const [0.3333] to be poisson constrained\n",
      "  ----------------------------------------------------------\n",
      "    DstPi0               0.000000        0.000000                                      \n",
      "      => Error is zero, ignore      \n",
      "  ----------------------------------------------------------\n",
      "    mu                   1.441016        0.671077                                      \n",
      "                         5.000000        2.236068        Unweighted events, alpha=0.288203\n",
      "      => Product of prop_binAddTk_pp_mHad_bin13_mu[5.00,0.01,41.33] and const [0.2000] to be poisson constrained\n",
      "  ----------------------------------------------------------\n",
      "    DstPip               1.381907        0.491759                                      \n",
      "                         8.000000        2.828427        Unweighted events, alpha=0.172738\n",
      "      => Product of prop_binAddTk_pp_mHad_bin13_DstPip[8.00,0.12,47.91] and const [0.1250] to be poisson constrained\n",
      "  ----------------------------------------------------------\n",
      "    DstPipPim            0.000000        0.000000                                      \n",
      "      => Error is zero, ignore      \n",
      "  ----------------------------------------------------------\n",
      "    Hc                   0.010814        0.010814                                      \n",
      "                         1.000000        1.000000        Unweighted events, alpha=0.010814\n",
      "      => Product of prop_binAddTk_pp_mHad_bin13_Hc[1.00,0.00,30.85] and const [1.0000] to be poisson constrained\n",
      "  ----------------------------------------------------------\n",
      "    DstPi0Pi0            0.028223        0.028223                                      \n",
      "                         1.000000        1.000000        Unweighted events, alpha=0.028223\n",
      "      => Product of prop_binAddTk_pp_mHad_bin13_DstPi0Pi0[1.00,0.00,30.85] and const [1.0000] to be poisson constrained\n",
      "  ----------------------------------------------------------\n",
      "------------------------------------------------------------\n",
      "14         5.672767        1.087949        total sum                     \n",
      "14         27.000000       5.196152        Unweighted events, alpha=0.210102\n",
      "  => Total parameter prop_binAddTk_pp_mHad_bin14[0.00,-7.00,7.00] to be gaussian constrained\n",
      "------------------------------------------------------------\n",
      "Channel Est_mu_q2bin0 will use autoMCStats with settings: event-threshold=20, include-signal=1, hist-mode=1\n",
      "============================================================\n",
      "Analysing bin errors for: prop_binEst_mu_q2bin0\n",
      "Poisson cut-off: 20\n",
      "============================================================\n",
      "Bin        Contents        Error           Notes                         \n",
      "0          555.318629      13.654843       total sum                     \n",
      "0          1654.000000     40.669399       Unweighted events, alpha=0.335743\n",
      "  => Total parameter prop_binEst_mu_q2bin0_bin0[0.00,-7.00,7.00] to be gaussian constrained\n",
      "------------------------------------------------------------\n",
      "1          507.164777      13.024557       total sum                     \n",
      "1          1516.000000     38.935845       Unweighted events, alpha=0.334541\n",
      "  => Total parameter prop_binEst_mu_q2bin0_bin1[0.00,-7.00,7.00] to be gaussian constrained\n",
      "------------------------------------------------------------\n",
      "2          788.265193      16.105109       total sum                     \n",
      "2          2396.000000     48.948953       Unweighted events, alpha=0.328992\n",
      "  => Total parameter prop_binEst_mu_q2bin0_bin2[0.00,-7.00,7.00] to be gaussian constrained\n",
      "------------------------------------------------------------\n",
      "3          1022.796612     18.295392       total sum                     \n",
      "3          3125.000000     55.901699       Unweighted events, alpha=0.327295\n",
      "  => Total parameter prop_binEst_mu_q2bin0_bin3[0.00,-7.00,7.00] to be gaussian constrained\n",
      "------------------------------------------------------------\n",
      "4          1376.021342     21.143657       total sum                     \n",
      "4          4235.000000     65.076878       Unweighted events, alpha=0.324916\n",
      "  => Total parameter prop_binEst_mu_q2bin0_bin4[0.00,-7.00,7.00] to be gaussian constrained\n",
      "------------------------------------------------------------\n",
      "5          1655.459618     22.896551       total sum                     \n",
      "5          5228.000000     72.304910       Unweighted events, alpha=0.316653\n",
      "  => Total parameter prop_binEst_mu_q2bin0_bin5[0.00,-7.00,7.00] to be gaussian constrained\n",
      "------------------------------------------------------------\n",
      "6          1877.324690     24.893212       total sum                     \n",
      "6          5687.000000     75.412201       Unweighted events, alpha=0.330108\n",
      "  => Total parameter prop_binEst_mu_q2bin0_bin6[0.00,-7.00,7.00] to be gaussian constrained\n",
      "------------------------------------------------------------\n",
      "7          2020.755820     24.995499       total sum                     \n",
      "7          6536.000000     80.845532       Unweighted events, alpha=0.309173\n",
      "  => Total parameter prop_binEst_mu_q2bin0_bin7[0.00,-7.00,7.00] to be gaussian constrained\n",
      "------------------------------------------------------------\n",
      "8          2270.211359     26.582378       total sum                     \n",
      "8          7294.000000     85.404918       Unweighted events, alpha=0.311244\n",
      "  => Total parameter prop_binEst_mu_q2bin0_bin8[0.00,-7.00,7.00] to be gaussian constrained\n",
      "------------------------------------------------------------\n",
      "9          2365.220516     26.983952       total sum                     \n",
      "9          7683.000000     87.652724       Unweighted events, alpha=0.307851\n",
      "  => Total parameter prop_binEst_mu_q2bin0_bin9[0.00,-7.00,7.00] to be gaussian constrained\n",
      "------------------------------------------------------------\n",
      "10         2428.167215     27.068936       total sum                     \n",
      "10         8047.000000     89.705072       Unweighted events, alpha=0.301748\n",
      "  => Total parameter prop_binEst_mu_q2bin0_bin10[0.00,-7.00,7.00] to be gaussian constrained\n",
      "------------------------------------------------------------\n",
      "11         2418.999847     27.249455       total sum                     \n",
      "11         7881.000000     88.774996       Unweighted events, alpha=0.306941\n",
      "  => Total parameter prop_binEst_mu_q2bin0_bin11[0.00,-7.00,7.00] to be gaussian constrained\n",
      "------------------------------------------------------------\n",
      "12         2314.790797     26.519822       total sum                     \n",
      "12         7619.000000     87.286883       Unweighted events, alpha=0.303818\n",
      "  => Total parameter prop_binEst_mu_q2bin0_bin12[0.00,-7.00,7.00] to be gaussian constrained\n",
      "------------------------------------------------------------\n",
      "13         2143.940090     25.906312       total sum                     \n",
      "13         6849.000000     82.758685       Unweighted events, alpha=0.313030\n",
      "  => Total parameter prop_binEst_mu_q2bin0_bin13[0.00,-7.00,7.00] to be gaussian constrained\n",
      "------------------------------------------------------------\n",
      "14         1853.150863     23.389773       total sum                     \n",
      "14         6277.000000     79.227520       Unweighted events, alpha=0.295229\n",
      "  => Total parameter prop_binEst_mu_q2bin0_bin14[0.00,-7.00,7.00] to be gaussian constrained\n",
      "------------------------------------------------------------\n",
      "15         1254.873596     18.912339       total sum                     \n",
      "15         4403.000000     66.355105       Unweighted events, alpha=0.285004\n",
      "  => Total parameter prop_binEst_mu_q2bin0_bin15[0.00,-7.00,7.00] to be gaussian constrained\n",
      "------------------------------------------------------------\n",
      "16         533.384321      12.250641       total sum                     \n",
      "16         1896.000000     43.543082       Unweighted events, alpha=0.281321\n",
      "  => Total parameter prop_binEst_mu_q2bin0_bin16[0.00,-7.00,7.00] to be gaussian constrained\n",
      "------------------------------------------------------------\n",
      "Channel Est_mu_q2bin1 will use autoMCStats with settings: event-threshold=20, include-signal=1, hist-mode=1\n",
      "============================================================\n",
      "Analysing bin errors for: prop_binEst_mu_q2bin1\n",
      "Poisson cut-off: 20\n",
      "============================================================\n",
      "Bin        Contents        Error           Notes                         \n",
      "0          975.315208      17.040221       total sum                     \n",
      "0          3276.000000     57.236352       Unweighted events, alpha=0.297715\n",
      "  => Total parameter prop_binEst_mu_q2bin1_bin0[0.00,-7.00,7.00] to be gaussian constrained\n",
      "------------------------------------------------------------\n",
      "1          1082.500280     18.131713       total sum                     \n",
      "1          3564.000000     59.699246       Unweighted events, alpha=0.303732\n",
      "  => Total parameter prop_binEst_mu_q2bin1_bin1[0.00,-7.00,7.00] to be gaussian constrained\n",
      "------------------------------------------------------------\n",
      "2          1690.015815     22.661109       total sum                     \n",
      "2          5562.000000     74.578817       Unweighted events, alpha=0.303850\n",
      "  => Total parameter prop_binEst_mu_q2bin1_bin2[0.00,-7.00,7.00] to be gaussian constrained\n",
      "------------------------------------------------------------\n",
      "3          2324.306875     26.658342       total sum                     \n",
      "3          7602.000000     87.189449       Unweighted events, alpha=0.305749\n",
      "  => Total parameter prop_binEst_mu_q2bin1_bin3[0.00,-7.00,7.00] to be gaussian constrained\n",
      "------------------------------------------------------------\n",
      "4          2849.781656     29.415612       total sum                     \n",
      "4          9386.000000     96.881371       Unweighted events, alpha=0.303620\n",
      "  => Total parameter prop_binEst_mu_q2bin1_bin4[0.00,-7.00,7.00] to be gaussian constrained\n",
      "------------------------------------------------------------\n",
      "5          3231.149411     31.423988       total sum                     \n",
      "5          10573.000000    102.825094      Unweighted events, alpha=0.305604\n",
      "  => Total parameter prop_binEst_mu_q2bin1_bin5[0.00,-7.00,7.00] to be gaussian constrained\n",
      "------------------------------------------------------------\n",
      "6          3704.622358     33.716178       total sum                     \n",
      "6          12073.000000    109.877204      Unweighted events, alpha=0.306852\n",
      "  => Total parameter prop_binEst_mu_q2bin1_bin6[0.00,-7.00,7.00] to be gaussian constrained\n",
      "------------------------------------------------------------\n",
      "7          3929.287594     34.565274       total sum                     \n",
      "7          12923.000000    113.679374      Unweighted events, alpha=0.304054\n",
      "  => Total parameter prop_binEst_mu_q2bin1_bin7[0.00,-7.00,7.00] to be gaussian constrained\n",
      "------------------------------------------------------------\n",
      "8          4304.868508     36.542773       total sum                     \n",
      "8          13878.000000    117.804923      Unweighted events, alpha=0.310194\n",
      "  => Total parameter prop_binEst_mu_q2bin1_bin8[0.00,-7.00,7.00] to be gaussian constrained\n",
      "------------------------------------------------------------\n",
      "9          4507.612955     37.118698       total sum                     \n",
      "9          14747.000000    121.437227      Unweighted events, alpha=0.305663\n",
      "  => Total parameter prop_binEst_mu_q2bin1_bin9[0.00,-7.00,7.00] to be gaussian constrained\n",
      "------------------------------------------------------------\n",
      "10         4842.149481     38.803437       total sum                     \n",
      "10         15572.000000    124.787820      Unweighted events, alpha=0.310952\n",
      "  => Total parameter prop_binEst_mu_q2bin1_bin10[0.00,-7.00,7.00] to be gaussian constrained\n",
      "------------------------------------------------------------\n",
      "11         5060.632841     40.365624       total sum                     \n",
      "11         15718.000000    125.371448      Unweighted events, alpha=0.321964\n",
      "  => Total parameter prop_binEst_mu_q2bin1_bin11[0.00,-7.00,7.00] to be gaussian constrained\n",
      "------------------------------------------------------------\n",
      "12         5148.395286     40.730074       total sum                     \n",
      "12         15978.000000    126.404114      Unweighted events, alpha=0.322218\n",
      "  => Total parameter prop_binEst_mu_q2bin1_bin12[0.00,-7.00,7.00] to be gaussian constrained\n",
      "------------------------------------------------------------\n",
      "13         5184.647615     40.260529       total sum                     \n",
      "13         16584.000000    128.778880      Unweighted events, alpha=0.312629\n",
      "  => Total parameter prop_binEst_mu_q2bin1_bin13[0.00,-7.00,7.00] to be gaussian constrained\n",
      "------------------------------------------------------------\n",
      "14         4550.110062     37.837426       total sum                     \n",
      "14         14461.000000    120.253898      Unweighted events, alpha=0.314647\n",
      "  => Total parameter prop_binEst_mu_q2bin1_bin14[0.00,-7.00,7.00] to be gaussian constrained\n",
      "------------------------------------------------------------\n",
      "15         2766.728476     29.099893       total sum                     \n",
      "15         9040.000000     95.078915       Unweighted events, alpha=0.306054\n",
      "  => Total parameter prop_binEst_mu_q2bin1_bin15[0.00,-7.00,7.00] to be gaussian constrained\n",
      "------------------------------------------------------------\n",
      "16         917.980140      16.453019       total sum                     \n",
      "16         3113.000000     55.794265       Unweighted events, alpha=0.294886\n",
      "  => Total parameter prop_binEst_mu_q2bin1_bin16[0.00,-7.00,7.00] to be gaussian constrained\n",
      "------------------------------------------------------------\n",
      "17         265.216836      8.877153        total sum                     \n",
      "17         893.000000      29.883106       Unweighted events, alpha=0.296995\n",
      "  => Total parameter prop_binEst_mu_q2bin1_bin17[0.00,-7.00,7.00] to be gaussian constrained\n",
      "------------------------------------------------------------\n",
      "18         153.562554      6.797856        total sum                     \n",
      "18         510.000000      22.583180       Unweighted events, alpha=0.301103\n",
      "  => Total parameter prop_binEst_mu_q2bin1_bin18[0.00,-7.00,7.00] to be gaussian constrained\n",
      "------------------------------------------------------------\n",
      "Channel M2_miss_q2bin0 will use autoMCStats with settings: event-threshold=20, include-signal=1, hist-mode=1\n",
      "============================================================\n",
      "Analysing bin errors for: prop_binM2_miss_q2bin0\n",
      "Poisson cut-off: 20\n",
      "============================================================\n",
      "Bin        Contents        Error           Notes                         \n",
      "0          555.863210      13.281766       total sum                     \n",
      "0          1752.000000     41.856899       Unweighted events, alpha=0.317274\n",
      "  => Total parameter prop_binM2_miss_q2bin0_bin0[0.00,-7.00,7.00] to be gaussian constrained\n",
      "------------------------------------------------------------\n",
      "1          283.598095      9.482681        total sum                     \n",
      "1          894.000000      29.899833       Unweighted events, alpha=0.317224\n",
      "  => Total parameter prop_binM2_miss_q2bin0_bin1[0.00,-7.00,7.00] to be gaussian constrained\n",
      "------------------------------------------------------------\n",
      "2          553.261586      13.170413       total sum                     \n",
      "2          1765.000000     42.011903       Unweighted events, alpha=0.313463\n",
      "  => Total parameter prop_binM2_miss_q2bin0_bin2[0.00,-7.00,7.00] to be gaussian constrained\n",
      "------------------------------------------------------------\n",
      "3          1294.645665     20.430607       total sum                     \n",
      "3          4015.000000     63.364028       Unweighted events, alpha=0.322452\n",
      "  => Total parameter prop_binM2_miss_q2bin0_bin3[0.00,-7.00,7.00] to be gaussian constrained\n",
      "------------------------------------------------------------\n",
      "4          3465.151706     32.881889       total sum                     \n",
      "4          11105.000000    105.380264      Unweighted events, alpha=0.312035\n",
      "  => Total parameter prop_binM2_miss_q2bin0_bin4[0.00,-7.00,7.00] to be gaussian constrained\n",
      "------------------------------------------------------------\n",
      "5          12678.097840    62.520023       total sum                     \n",
      "5          41122.000000    202.785601      Unweighted events, alpha=0.308305\n",
      "  => Total parameter prop_binM2_miss_q2bin0_bin5[0.00,-7.00,7.00] to be gaussian constrained\n",
      "------------------------------------------------------------\n",
      "6          6485.945148     45.046167       total sum                     \n",
      "6          20732.000000    143.986110      Unweighted events, alpha=0.312847\n",
      "  => Total parameter prop_binM2_miss_q2bin0_bin6[0.00,-7.00,7.00] to be gaussian constrained\n",
      "------------------------------------------------------------\n",
      "7          2069.281407     25.078053       total sum                     \n",
      "7          6809.000000     82.516665       Unweighted events, alpha=0.303904\n",
      "  => Total parameter prop_binM2_miss_q2bin0_bin7[0.00,-7.00,7.00] to be gaussian constrained\n",
      "------------------------------------------------------------\n",
      "Channel M2_miss_q2bin1 will use autoMCStats with settings: event-threshold=20, include-signal=1, hist-mode=1\n",
      "============================================================\n",
      "Analysing bin errors for: prop_binM2_miss_q2bin1\n",
      "Poisson cut-off: 20\n",
      "============================================================\n",
      "Bin        Contents        Error           Notes                         \n",
      "0          574.639734      13.799930       total sum                     \n",
      "0          1734.000000     41.641326       Unweighted events, alpha=0.331395\n",
      "  => Total parameter prop_binM2_miss_q2bin1_bin0[0.00,-7.00,7.00] to be gaussian constrained\n",
      "------------------------------------------------------------\n",
      "1          330.817393      10.705302       total sum                     \n",
      "1          955.000000      30.903074       Unweighted events, alpha=0.346406\n",
      "  => Total parameter prop_binM2_miss_q2bin1_bin1[0.00,-7.00,7.00] to be gaussian constrained\n",
      "------------------------------------------------------------\n",
      "2          590.649016      13.970008       total sum                     \n",
      "2          1788.000000     42.284749       Unweighted events, alpha=0.330341\n",
      "  => Total parameter prop_binM2_miss_q2bin1_bin2[0.00,-7.00,7.00] to be gaussian constrained\n",
      "------------------------------------------------------------\n",
      "3          1294.422393     20.504483       total sum                     \n",
      "3          3985.000000     63.126856       Unweighted events, alpha=0.324824\n",
      "  => Total parameter prop_binM2_miss_q2bin1_bin3[0.00,-7.00,7.00] to be gaussian constrained\n",
      "------------------------------------------------------------\n",
      "4          3727.801688     34.887854       total sum                     \n",
      "4          11417.000000    106.850363      Unweighted events, alpha=0.326513\n",
      "  => Total parameter prop_binM2_miss_q2bin1_bin4[0.00,-7.00,7.00] to be gaussian constrained\n",
      "------------------------------------------------------------\n",
      "5          13252.502161    65.655611       total sum                     \n",
      "5          40743.000000    201.848953      Unweighted events, alpha=0.325271\n",
      "  => Total parameter prop_binM2_miss_q2bin1_bin5[0.00,-7.00,7.00] to be gaussian constrained\n",
      "------------------------------------------------------------\n",
      "6          13044.419511    64.141945       total sum                     \n",
      "6          41359.000000    203.369123      Unweighted events, alpha=0.315395\n",
      "  => Total parameter prop_binM2_miss_q2bin1_bin6[0.00,-7.00,7.00] to be gaussian constrained\n",
      "------------------------------------------------------------\n",
      "7          9058.385145     52.893507       total sum                     \n",
      "7          29329.000000    171.257117      Unweighted events, alpha=0.308854\n",
      "  => Total parameter prop_binM2_miss_q2bin1_bin7[0.00,-7.00,7.00] to be gaussian constrained\n",
      "------------------------------------------------------------\n",
      "8          6211.985666     42.969492       total sum                     \n",
      "8          20900.000000    144.568323      Unweighted events, alpha=0.297224\n",
      "  => Total parameter prop_binM2_miss_q2bin1_bin8[0.00,-7.00,7.00] to be gaussian constrained\n",
      "------------------------------------------------------------\n",
      "9          3989.146046     33.720208       total sum                     \n",
      "9          13995.000000    118.300465      Unweighted events, alpha=0.285041\n",
      "  => Total parameter prop_binM2_miss_q2bin1_bin9[0.00,-7.00,7.00] to be gaussian constrained\n",
      "------------------------------------------------------------\n",
      "10         2542.335847     26.731190       total sum                     \n",
      "10         9045.000000     95.105205       Unweighted events, alpha=0.281076\n",
      "  => Total parameter prop_binM2_miss_q2bin1_bin10[0.00,-7.00,7.00] to be gaussian constrained\n",
      "------------------------------------------------------------\n",
      "11         1508.074325     20.162773       total sum                     \n",
      "11         5594.000000     74.793048       Unweighted events, alpha=0.269588\n",
      "  => Total parameter prop_binM2_miss_q2bin1_bin11[0.00,-7.00,7.00] to be gaussian constrained\n",
      "------------------------------------------------------------\n",
      "12         1363.705232     19.105335       total sum                     \n",
      "12         5095.000000     71.379269       Unweighted events, alpha=0.267656\n",
      "  => Total parameter prop_binM2_miss_q2bin1_bin12[0.00,-7.00,7.00] to be gaussian constrained\n",
      "------------------------------------------------------------\n"
     ]
    },
    {
     "name": "stderr",
     "output_type": "stream",
     "text": [
      "Creating pdfs for individual modes (10): .    1\b\b\b\b\b.    2\b\b\b\b\b.    3\b\b\b\b\b.    4\b\b\b\b\b.    5\b\b\b\b\b.    6\b\b\b\b\b.    7\b\b\b\b\b.    8\b\b\b\b\b.    9\b\b\b\b\b.   10\b\b\b\bdone.\n",
      "Importing combined pdf model_s\n"
     ]
    }
   ],
   "source": [
    "cmd = 'text2workspace.py ' + card_location \n",
    "cmd += ' -o ' + card_location.replace('.txt', '.root')\n",
    "cmd += ' --no-b-only'\n",
    "cmd += ' --verbose 1'\n",
    "# cmd += ' --no-wrappers'\n",
    "os.system(cmd)"
   ]
  },
  {
   "cell_type": "markdown",
   "metadata": {},
   "source": [
    "## Run the Maximum Likelyhood fit"
   ]
  },
  {
   "cell_type": "code",
   "execution_count": 51,
   "metadata": {
    "ExecuteTime": {
     "end_time": "2020-05-10T18:01:41.451946Z",
     "start_time": "2020-05-10T18:01:41.422259Z"
    }
   },
   "outputs": [],
   "source": [
    "seedMLf = '6741'"
   ]
  },
  {
   "cell_type": "code",
   "execution_count": 52,
   "metadata": {
    "ExecuteTime": {
     "end_time": "2020-05-10T18:03:21.092575Z",
     "start_time": "2020-05-10T18:01:41.456937Z"
    },
    "scrolled": true
   },
   "outputs": [
    {
     "name": "stdout",
     "output_type": "stream",
     "text": [
      "combine -M FitDiagnostics --robustFit 1 --cminDefaultMinimizerStrategy 0 --X-rtd MINIMIZER_analytic --skipBOnlyFit --seed 6741 -d cards/v7.root -D data_obs --setParameters r=0.26 --setParameterRanges r=0.01,5 -n v7 --out results/v7 --saveShapes --saveWithUncertainties --saveNormalizations --plots --verbose 1\n",
      "Messages of type \u001b[1m\u001b[31mError\u001b[0m : 2\n",
      "\u001b[1m\u001b[31mError\u001b[0m: (function: findCrossing) FitterAlgoBase.cc: 492 -- Closed range without finding crossing! \n",
      "\u001b[1m\u001b[31mError\u001b[0m: (function: runSpecific) [WARNING]: Unable to determine uncertainties on all fit parameters in s+b fit. The option --saveWithUncertainties will be ignored as it would lead to incorrect results. Have a look at https://github.com/cms-analysis/HiggsAnalysis-CombinedLimit/wiki/nonstandard#fit-parameter-uncertainties for more information.\n"
     ]
    }
   ],
   "source": [
    "cmd = 'combine -M FitDiagnostics'\n",
    "cmd += ' --robustFit 1 --cminDefaultMinimizerStrategy 0 --X-rtd MINIMIZER_analytic'\n",
    "cmd += ' --skipBOnlyFit'\n",
    "cmd += ' --seed ' + seedMLf\n",
    "cmd += ' -d ' + card_location.replace('.txt', '.root')\n",
    "cmd += ' -D ' + histo[histo.keys()[0]]['data'].GetName()\n",
    "cmd += ' --setParameters r={:.2f}'.format(SM_RDst)\n",
    "cmd += ' --setParameterRanges r=0.01,5'\n",
    "cmd += ' -n {}'.format(card_name)\n",
    "cmd += ' --out ' + outdir\n",
    "cmd += ' --saveShapes --saveWithUncertainties --saveNormalizations'\n",
    "cmd += ' --plots'\n",
    "cmd += ' --verbose 1'\n",
    "\n",
    "print cmd\n",
    "status, output = commands.getstatusoutput(cmd)\n",
    "for line in output.split('\\n'):\n",
    "        if 'ERROR' in line: print line.replace('ERROR', '\\033[1m\\x1b[31mError\\x1b[0m')\n",
    "os.system('mv combine_logger.out ' + outdir + '/combine_logger_FitDiagnostics.out')\n",
    "os.system('mv ./higgsCombine{}.FitDiagnostics.mH120.{}.root '.format(card_name, seedMLf) + outdir + '/');"
   ]
  },
  {
   "cell_type": "code",
   "execution_count": 53,
   "metadata": {
    "ExecuteTime": {
     "end_time": "2020-05-10T18:03:21.162551Z",
     "start_time": "2020-05-10T18:03:21.098402Z"
    }
   },
   "outputs": [
    {
     "name": "stdout",
     "output_type": "stream",
     "text": [
      "R(D*) = 0.010 +0.041/-0.000 [203.6 %]\n"
     ]
    }
   ],
   "source": [
    "f = ur.open(glob(outdir + '/higgsCombine{}.FitDiagnostics.mH120.{}.root'.format(card_name, seedMLf))[0])\n",
    "c, d, u, _ = f['limit']['limit'].array()\n",
    "print 'R(D*) = {:.3f} +{:.3f}/-{:.3f} [{:.1f} %]'.format(c, u-c, c-d, 100*(u-d)*0.5/c)"
   ]
  },
  {
   "cell_type": "code",
   "execution_count": 54,
   "metadata": {
    "ExecuteTime": {
     "end_time": "2020-05-10T18:03:21.285081Z",
     "start_time": "2020-05-10T18:03:21.166958Z"
    },
    "code_folding": []
   },
   "outputs": [],
   "source": [
    "# Get post-fit shapes\n",
    "fFitDiagnostics = rt.TFile.Open(outdir + '/fitDiagnostics{}.root'.format(card_name), 'READ')\n",
    "fd = fFitDiagnostics.shapes_fit_s\n",
    "\n",
    "histo_postfit = {}\n",
    "for cat, h_dic in histo.iteritems():\n",
    "    histo_postfit[cat] = {}\n",
    "    for n, h in h_dic.iteritems():\n",
    "        if '__' in n:\n",
    "            continue\n",
    "        h_post = h.Clone(h.GetName() + '_postfit')\n",
    "        if 'data' in n:\n",
    "            h_fit = fd.Get(cat+'/total')\n",
    "            h_data = h.Clone(h.GetName() + '_data')\n",
    "            for i in range(1, h_post.GetNbinsX()+1):\n",
    "                h_post.SetBinContent(i, h_fit.GetBinContent(i))\n",
    "                h_post.SetBinError(i, h_fit.GetBinError(i))     \n",
    "            \n",
    "            histo_postfit[cat]['total'] = h_post\n",
    "            histo_postfit[cat][n] = h_data\n",
    "        else:\n",
    "            h_fit = fd.Get(cat+'/'+n)\n",
    "            for i in range(1, h_post.GetNbinsX()+1):\n",
    "                h_post.SetBinContent(i, h_fit.GetBinContent(i))\n",
    "                h_post.SetBinError(i, h_fit.GetBinError(i)) \n",
    "\n",
    "            histo_postfit[cat][n] = h_post"
   ]
  },
  {
   "cell_type": "code",
   "execution_count": 55,
   "metadata": {
    "ExecuteTime": {
     "end_time": "2020-05-10T18:03:21.573394Z",
     "start_time": "2020-05-10T18:03:21.289504Z"
    },
    "scrolled": false
   },
   "outputs": [
    {
     "data": {
      "image/png": "[encoded data removed]",
      "text/plain": [
       "<IPython.core.display.Image object>"
      ]
     },
     "metadata": {},
     "output_type": "display_data"
    }
   ],
   "source": [
    "h2 = fFitDiagnostics.Get('covariance_fit_s')\n",
    "rt.gStyle.SetPaintTextFormat('.1f')\n",
    "\n",
    "N = h2.GetNbinsX()\n",
    "n=15\n",
    "\n",
    "h2.GetXaxis().SetRange(1, n)\n",
    "h2.GetYaxis().SetRangeUser(N-n, N)\n",
    "h2.SetMarkerSize(1.3)\n",
    "CC = drawOnCMSCanvas(CMS_lumi, [h2, h2], ['colz', 'text same'], tag='tl', mL=0.22, mR=0.15, mB=0.18)\n",
    "CC.SaveAs(outdir+'/fig/covariance_zoom.png')"
   ]
  },
  {
   "cell_type": "code",
   "execution_count": 56,
   "metadata": {
    "ExecuteTime": {
     "end_time": "2020-05-10T18:03:22.414423Z",
     "start_time": "2020-05-10T18:03:21.578107Z"
    },
    "scrolled": false
   },
   "outputs": [
    {
     "data": {
      "image/png": "[encoded data removed]",
      "text/plain": [
       "<IPython.core.display.Image object>"
      ]
     },
     "metadata": {},
     "output_type": "display_data"
    }
   ],
   "source": [
    "cSigPost = plot_gridVarQ2(CMS_lumi, binning, histo_postfit, draw_pulls=True, pulls_ylim=[-5, 5])\n",
    "cSigPost.SaveAs(outdir+'/fig/signalRegion_postfit.png')"
   ]
  },
  {
   "cell_type": "code",
   "execution_count": 57,
   "metadata": {
    "ExecuteTime": {
     "end_time": "2020-05-10T18:03:23.095139Z",
     "start_time": "2020-05-10T18:03:22.418892Z"
    },
    "scrolled": false
   },
   "outputs": [
    {
     "data": {
      "image/png": "[encoded data removed]",
      "text/plain": [
       "<IPython.core.display.Image object>"
      ]
     },
     "metadata": {},
     "output_type": "display_data"
    },
    {
     "data": {
      "image/png": "[encoded data removed]",
      "text/plain": [
       "<IPython.core.display.Image object>"
      ]
     },
     "metadata": {},
     "output_type": "display_data"
    },
    {
     "data": {
      "image/png": "[encoded data removed]",
      "text/plain": [
       "<IPython.core.display.Image object>"
      ]
     },
     "metadata": {},
     "output_type": "display_data"
    },
    {
     "data": {
      "image/png": "[encoded data removed]",
      "text/plain": [
       "<IPython.core.display.Image object>"
      ]
     },
     "metadata": {},
     "output_type": "display_data"
    },
    {
     "data": {
      "image/png": "[encoded data removed]",
      "text/plain": [
       "<IPython.core.display.Image object>"
      ]
     },
     "metadata": {},
     "output_type": "display_data"
    },
    {
     "data": {
      "image/png": "[encoded data removed]",
      "text/plain": [
       "<IPython.core.display.Image object>"
      ]
     },
     "metadata": {},
     "output_type": "display_data"
    }
   ],
   "source": [
    "cSidePost = {}\n",
    "for k in np.sort(sideVar.keys()):\n",
    "    legLoc = [0.7, 0.3, 0.94, 0.72]\n",
    "    if 'MassVis' in sideVar[k]:\n",
    "        legLoc = [0.18, 0.4, 0.4, 0.75]\n",
    "    cSidePost[k] = plot_SingleCategory(CMS_lumi, histo_postfit[k], \n",
    "                                       xtitle=sideXtitle[k], addText=sideAddtext[k], \n",
    "                                       tag=k, legLoc=legLoc,\n",
    "                                       draw_pulls=True\n",
    "                                      )\n",
    "    cSidePost[k].SaveAs(outdir+'/fig/'+k+'_postfit.png')"
   ]
  },
  {
   "cell_type": "code",
   "execution_count": 58,
   "metadata": {
    "ExecuteTime": {
     "end_time": "2020-05-10T18:03:26.472613Z",
     "start_time": "2020-05-10T18:03:23.099527Z"
    },
    "scrolled": false
   },
   "outputs": [
    {
     "name": "stdout",
     "output_type": "stream",
     "text": [
      "python diffNuisances.py results/v7/fitDiagnosticsv7.root --skipFitB --abs -g results/v7/nuisance_difference.root\n",
      "+-------------------------------+------------------------+------------------------------------+\n",
      "|           Parameter           |        pre-fit         |              post-fit              |\n",
      "+-------------------------------+------------------------+------------------------------------+\n",
      "|          DstPipPimBr          | 0.000000 +/- 1.000000  | !-5.47 +/- 0.47 (-5.47sig, 0.47)!  |\n",
      "|              HcBr             |  0.000000 +/- 1.000000 | !+5.28 +/- 0.23 (+5.28sig, 0.23)!  |\n",
      "|   prop_binAddTk_p_mHad_bin34  |  0.000000 +/- 1.000000 | !-4.90 +/- 0.88 (-4.90sig, 0.88)!  |\n",
      "|          DstPipPi0Br          | 0.000000 +/- 1.000000  | !-2.84 +/- 0.62 (-2.84sig, 0.62)!  |\n",
      "|   prop_binAddTk_m_mHad_bin10  |  0.000000 +/- 1.000000 | !+2.74 +/- 0.81 (+2.74sig, 0.81)!  |\n",
      "|             pAddTk            |  1.000000 +/- 0.148442 | !+1.36 +/- 0.01 (+2.45sig, 0.09)!  |\n",
      "|   prop_binAddTk_m_mHad_bin11  |  0.000000 +/- 1.000000 | !+2.38 +/- 0.81 (+2.38sig, 0.81)!  |\n",
      "|   prop_binAddTk_m_mHad_bin15  |  0.000000 +/- 1.000000 | !+2.27 +/- 0.80 (+2.27sig, 0.80)!  |\n",
      "| prop_binAddTk_mm_mHad_bin9_mu | 6.000000 +/- 2.438589  | !+11.47 +/- 3.43 (+2.24sig, 1.41)! |\n",
      "|   prop_binAddTk_m_mHad_bin9   | 0.000000 +/- 1.000000  | !+2.18 +/- 0.81 (+2.18sig, 0.81)!  |\n",
      "|   prop_binAddTk_pm_mHad_bin2  |  0.000000 +/- 1.000000 | !-2.15 +/- 0.84 (-2.15sig, 0.84)!  |\n",
      "|  prop_binM2_miss_q2bin1_bin5  | 0.000000 +/- 1.000000  | !-2.13 +/- 0.88 (-2.13sig, 0.88)!  |\n",
      "|   prop_binAddTk_m_mHad_bin1   | 0.000000 +/- 1.000000  | !-2.09 +/- 0.83 (-2.09sig, 0.83)!  |\n",
      "|   prop_binAddTk_p_mHad_bin2   | 0.000000 +/- 1.000000  | !-2.08 +/- 0.83 (-2.08sig, 0.83)!  |\n",
      "|   prop_binAddTk_m_mHad_bin12  |  0.000000 +/- 1.000000 | !+2.03 +/- 0.81 (+2.03sig, 0.81)!  |\n",
      "+-------------------------------+------------------------+------------------------------------+\n"
     ]
    }
   ],
   "source": [
    "cmd = 'python diffNuisances.py '.format(os.environ['CMSSW_BASE'])\n",
    "cmd += outdir + '/fitDiagnostics{}.root'.format(card_name)\n",
    "cmd += ' --skipFitB'\n",
    "# cmd += ' --all'\n",
    "cmd += ' --abs'\n",
    "cmd += ' -g {}/nuisance_difference.root'.format(outdir)\n",
    "print cmd\n",
    "status, output = commands.getstatusoutput(cmd)\n",
    "dumpDiffNuisances(output, outdir)"
   ]
  },
  {
   "cell_type": "code",
   "execution_count": 59,
   "metadata": {
    "ExecuteTime": {
     "end_time": "2020-05-10T18:03:26.834843Z",
     "start_time": "2020-05-10T18:03:26.477775Z"
    }
   },
   "outputs": [
    {
     "ename": "TypeError",
     "evalue": "exceptions must be old-style classes or derived from BaseException, not NoneType",
     "output_type": "error",
     "traceback": [
      "\u001b[0;31m\u001b[0m",
      "\u001b[0;31mTypeError\u001b[0mTraceback (most recent call last)",
      "\u001b[0;32m<ipython-input-59-81bdacfbbc74>\u001b[0m in \u001b[0;36m<module>\u001b[0;34m()\u001b[0m\n\u001b[1;32m      1\u001b[0m \u001b[0;32mif\u001b[0m \u001b[0mfastRun\u001b[0m\u001b[0;34m:\u001b[0m\u001b[0;34m\u001b[0m\u001b[0m\n\u001b[0;32m----> 2\u001b[0;31m     \u001b[0;32mraise\u001b[0m\u001b[0;34m\u001b[0m\u001b[0m\n\u001b[0m",
      "\u001b[0;31mTypeError\u001b[0m: exceptions must be old-style classes or derived from BaseException, not NoneType"
     ]
    }
   ],
   "source": [
    "if fastRun:\n",
    "    raise"
   ]
  },
  {
   "cell_type": "markdown",
   "metadata": {
    "heading_collapsed": true
   },
   "source": [
    "## Run likelyhood scan"
   ]
  },
  {
   "cell_type": "code",
   "execution_count": null,
   "metadata": {
    "ExecuteTime": {
     "end_time": "2020-05-10T18:03:26.836205Z",
     "start_time": "2020-05-10T18:00:42.283Z"
    },
    "hidden": true
   },
   "outputs": [],
   "source": [
    "cmd = 'combine'\n",
    "cmd += ' -M MultiDimFit'\n",
    "cmd += ' --algo grid --points=100'\n",
    "cmd += ' --robustFit 1'\n",
    "cmd += ' -d ' + card_location.replace('.txt', '.root')\n",
    "cmd += ' -D ' + histo[histo.keys()[0]]['data'].GetName()\n",
    "cmd += ' --X-rtd MINIMIZER_analytic'\n",
    "cmd += ' --rMin={:.4f} --rMax={:.4f}'.format(c - 5*(c-d), c + 5*(u-c))\n",
    "cmd += ' -n {}_nominal'.format(card_name)\n",
    "cmd += ' --verbose -1'\n",
    "print cmd\n",
    "os.system(cmd)\n",
    "cmd = 'plot1DScan.py higgsCombine{}_nominal.MultiDimFit.mH120.root'.format(card_name)\n",
    "cmd += '; mv scan.png scan_nominal.png'\n",
    "os.system(cmd)\n",
    "res_nominal = getUncertaintyFromLimitTree('higgsCombine{}_nominal.MultiDimFit.mH120.root'.format(card_name))\n",
    "display(Image(filename='scan_nominal.png'))"
   ]
  },
  {
   "cell_type": "markdown",
   "metadata": {
    "hidden": true
   },
   "source": [
    "### Uncertainy breakdown by group"
   ]
  },
  {
   "cell_type": "code",
   "execution_count": null,
   "metadata": {
    "ExecuteTime": {
     "end_time": "2020-05-10T18:03:26.838300Z",
     "start_time": "2020-05-10T18:00:42.286Z"
    },
    "hidden": true
   },
   "outputs": [],
   "source": [
    "cmd = 'combine -M MultiDimFit --algo none'\n",
    "cmd += ' --cminDefaultMinimizerStrategy=2 --robustFit 1 --X-rtd MINIMIZER_analytic'\n",
    "cmd += ' -d ' + card_location.replace('.txt', '.root')\n",
    "cmd += ' -D ' + histo[histo.keys()[0]]['data'].GetName()\n",
    "cmd += ' --setParameters r={:.2f}'.format(SM_RDst)\n",
    "cmd += ' --setParameterRanges r=0.001,1'\n",
    "cmd += ' -n {}_bestfit'.format(card_name)\n",
    "cmd += ' --saveWorkspace --verbose -1'\n",
    "print cmd\n",
    "os.system(cmd);"
   ]
  },
  {
   "cell_type": "code",
   "execution_count": null,
   "metadata": {
    "ExecuteTime": {
     "end_time": "2020-05-10T18:03:26.840291Z",
     "start_time": "2020-05-10T18:00:42.287Z"
    },
    "hidden": true
   },
   "outputs": [],
   "source": [
    "# Statistical uncertainty\n",
    "cmd = 'combine -M MultiDimFit --algo grid --points=100'\n",
    "cmd += ' --cminDefaultMinimizerStrategy=2 --robustFit 1 --X-rtd MINIMIZER_analytic'\n",
    "cmd += ' -d higgsCombine{}_bestfit.MultiDimFit.mH120.root'.format(card_name)\n",
    "cmd += ' -D ' + histo[histo.keys()[0]]['data'].GetName()\n",
    "cmd += ' --rMin={:.4f} --rMax={:.4f}'.format(c - 5*(c-d), c + 5*(u-c))\n",
    "cmd += ' -n {}_stat'.format(card_name)\n",
    "cmd += ' --snapshotName MultiDimFit'\n",
    "cmd += ' --freezeNuisanceGroups=autoMCStats,allShape'\n",
    "cmd += ' --verbose -1'\n",
    "print cmd\n",
    "os.system(cmd);"
   ]
  },
  {
   "cell_type": "code",
   "execution_count": null,
   "metadata": {
    "ExecuteTime": {
     "end_time": "2020-05-10T18:03:26.842089Z",
     "start_time": "2020-05-10T18:00:42.290Z"
    },
    "hidden": true
   },
   "outputs": [],
   "source": [
    "# MC Statistics\n",
    "cmd = 'combine -M MultiDimFit --algo grid --points=100'\n",
    "cmd += ' --cminDefaultMinimizerStrategy=2 --robustFit 1 --X-rtd MINIMIZER_analytic'\n",
    "cmd += ' -d higgsCombine{}_bestfit.MultiDimFit.mH120.root'.format(card_name)\n",
    "cmd += ' -D ' + histo[histo.keys()[0]]['data'].GetName()\n",
    "cmd += ' --rMin={:.4f} --rMax={:.4f}'.format(c - 5*(c-d), c + 5*(u-c))\n",
    "cmd += ' -n {}_MCstat'.format(card_name)\n",
    "cmd += ' --snapshotName MultiDimFit'\n",
    "cmd += ' --freezeNuisanceGroups=autoMCStats'\n",
    "cmd += ' --verbose -1'\n",
    "print cmd\n",
    "os.system(cmd);"
   ]
  },
  {
   "cell_type": "code",
   "execution_count": null,
   "metadata": {
    "ExecuteTime": {
     "end_time": "2020-05-10T18:03:26.843907Z",
     "start_time": "2020-05-10T18:00:42.293Z"
    },
    "hidden": true
   },
   "outputs": [],
   "source": [
    "cmd = 'plot1DScan.py higgsCombine{}_nominal.MultiDimFit.mH120.root'.format(card_name)\n",
    "cmd += ' --others'\n",
    "cmd += ' \"higgsCombine{}_MCstat.MultiDimFit.mH120.root:Freeze MC stat:4\"'.format(card_name)\n",
    "cmd += ' \"higgsCombine{}_stat.MultiDimFit.mH120.root:Freeze all:2\"'.format(card_name)\n",
    "cmd += ' --breakdown MCstat,syst,stat'\n",
    "cmd += '; mv scan.png scan_MCstat.png'\n",
    "print cmd\n",
    "os.system(cmd)\n",
    "display(Image(filename='scan_MCstat.png'))"
   ]
  },
  {
   "cell_type": "code",
   "execution_count": null,
   "metadata": {
    "ExecuteTime": {
     "end_time": "2020-05-10T18:03:26.845792Z",
     "start_time": "2020-05-10T18:00:42.295Z"
    },
    "hidden": true
   },
   "outputs": [],
   "source": [
    "os.system('mv higgsCombine*.root ' + outdir + '/')\n",
    "os.system('mv scan* ' + outdir + '/')\n",
    "os.system('mv combine_logger.out ' + outdir + '/');"
   ]
  },
  {
   "cell_type": "markdown",
   "metadata": {},
   "source": [
    "## Run the impact plots"
   ]
  },
  {
   "cell_type": "markdown",
   "metadata": {},
   "source": [
    "Fit first the POI"
   ]
  },
  {
   "cell_type": "code",
   "execution_count": null,
   "metadata": {
    "ExecuteTime": {
     "end_time": "2020-05-10T18:03:26.847885Z",
     "start_time": "2020-05-10T18:00:42.298Z"
    },
    "scrolled": true
   },
   "outputs": [],
   "source": [
    "cmd = 'combineTool.py -M Impacts --doInitialFit -m 120'\n",
    "cmd += ' --robustFit 1 --X-rtd MINIMIZER_analytic'\n",
    "cmd += ' -d ' + card_location.replace('.txt', '.root')\n",
    "cmd += ' -D ' + histo[histo.keys()[0]]['data'].GetName()\n",
    "cmd += ' --setParameters r={:.2f}'.format(SM_RDst)\n",
    "cmd += ' --setParameterRanges r=0.001,1'\n",
    "cmd += ' -n {}'.format(card_name)\n",
    "cmd += ' --out ' + outdir\n",
    "cmd += ' --verbose -1'\n",
    "os.system(cmd);"
   ]
  },
  {
   "cell_type": "markdown",
   "metadata": {},
   "source": [
    " Perform a similar scan for each nuisance parameter"
   ]
  },
  {
   "cell_type": "code",
   "execution_count": null,
   "metadata": {
    "ExecuteTime": {
     "end_time": "2020-05-10T18:03:26.849641Z",
     "start_time": "2020-05-10T18:00:42.301Z"
    }
   },
   "outputs": [],
   "source": [
    "teststringJubCustomizationCaltechT2 = '''\n",
    "+RunAsOwner = True\n",
    "+InteractiveUser = True\n",
    "+SingularityImage = \"/cvmfs/singularity.opensciencegrid.org/bbockelm/cms:rhel7\"\n",
    "+SingularityBindCVMFS = True\n",
    "+MaxRuntime = 3600\n",
    "RequestDisk = 200000\n",
    "RequestMemory = 2500\n",
    "RequestCpus = 1\n",
    "x509userproxy = $ENV(X509_USER_PROXY)\n",
    "'''"
   ]
  },
  {
   "cell_type": "markdown",
   "metadata": {},
   "source": [
    "If running on Tier2 condor remmeber to add this line to CombineToolBase.py ln 11\n",
    "``source /cvmfs/cms.cern.ch/cmsset_default.sh``"
   ]
  },
  {
   "cell_type": "code",
   "execution_count": null,
   "metadata": {
    "ExecuteTime": {
     "end_time": "2020-05-10T18:03:26.851520Z",
     "start_time": "2020-05-10T18:00:42.304Z"
    }
   },
   "outputs": [],
   "source": [
    "cmd = 'combineTool.py -M Impacts --doFits -m 120'\n",
    "cmd += ' --robustFit 1 --X-rtd MINIMIZER_analytic'\n",
    "cmd += ' --parallel 25'\n",
    "# cmd += ' --parallel 100 --job-mode condor --task-name combineImpacts'\n",
    "# cmd += ' --sub-opts \"{}\"'.format(stringJubCustomizationCaltechT2.replace('\"', '\\\\\\\"').replace('$', '\\$'))\n",
    "cmd += ' -d ' + card_location.replace('.txt', '.root')\n",
    "cmd += ' -D ' + histo[histo.keys()[0]]['data'].GetName()\n",
    "cmd += ' -n {}'.format(card_name)\n",
    "cmd += ' --verbose -1'\n",
    "print cmd\n",
    "os.system(cmd);"
   ]
  },
  {
   "cell_type": "markdown",
   "metadata": {},
   "source": [
    "Collect the results"
   ]
  },
  {
   "cell_type": "code",
   "execution_count": null,
   "metadata": {
    "ExecuteTime": {
     "end_time": "2020-05-10T18:03:26.853377Z",
     "start_time": "2020-05-10T18:00:42.307Z"
    }
   },
   "outputs": [],
   "source": [
    "status, output = commands.getstatusoutput('condor_q')\n",
    "while 'combineImpacts' in output:\n",
    "    time.sleep(5)\n",
    "    status, output = commands.getstatusoutput(cmd)\n",
    "cmd = 'combineTool.py -M Impacts -o impacts.json -m 120'\n",
    "cmd += ' -d ' + card_location.replace('.txt', '.root')\n",
    "cmd += ' -n {}'.format(card_name)\n",
    "print cmd\n",
    "os.system(cmd);"
   ]
  },
  {
   "cell_type": "code",
   "execution_count": null,
   "metadata": {
    "ExecuteTime": {
     "end_time": "2020-05-10T18:03:26.855250Z",
     "start_time": "2020-05-10T18:00:42.309Z"
    }
   },
   "outputs": [],
   "source": [
    "rename = {\n",
    "'r': 'R(D*)',\n",
    "'B0pT': 'B_{0} p_{T} spectrum',\n",
    "'B2DstCLNR0':'R_{0} (CLN B#rightarrow D*#ell#nu)',\n",
    "'B2DstCLNR1':'R_{1} (CLN B#rightarrow D*)',\n",
    "'B2DstCLNR2':'R_{2} (CLN B#rightarrow D*)',\n",
    "'B2DstCLNRhoSq':'#rho^{2} (CLN B#rightarrow D*)',\n",
    "'trgSF': 'Trigger scale factor',\n",
    "'xsecpp2bbXlumi': 'Luminosity*#sigma_{pp#rightarrowbb}',\n",
    "    \n",
    "}\n",
    "\n",
    "procName_dic = {\n",
    "'mu'        : 'B_{0}#rightarrow D*#mu#nu',\n",
    "'tau'       : 'B_{0}#rightarrow D*#tau#nu',\n",
    "'Hc'        : 'B_{0}#rightarrow D*H_{c}',\n",
    "'DstPip'    : 'B^{+}#rightarrow D*#pi^{+}#mu#nu',\n",
    "'DstPipPi0' : 'B^{+}#rightarrow D*#pi^{+}#pi^{0}#mu#nu',\n",
    "'DstPi0'    : 'B_{0}#rightarrow D*#pi^{0}#mu#nu',\n",
    "'DstPipPim' : 'B_{0}#rightarrow D*#pi^{+}#pi^{-}#mu#nu',\n",
    "'DstPi0Pi0' : 'B_{0}#rightarrow D*#pi^{0}#pi^{0}#mu#nu'\n",
    "}\n",
    "\n",
    "for n in processes:\n",
    "    rename[n+'Br'] = 'Branching fraction ' + procName_dic[n]\n",
    "\n",
    "d = json.load(open('impacts.json', 'r'))\n",
    "for par in d['params']:\n",
    "    name = str(par['name'])\n",
    "    if not name.startswith('prop_bin'): continue\n",
    "    label = name.replace('prop_bin', 'MC stat. ')\n",
    "    label = label.replace('M2_miss_', 'M^{2}_{miss} ')\n",
    "    label = label.replace('Est_mu_', 'E*_{#mu} ')\n",
    "    label = label.replace('q2bin', '[b_{q^{2}}=')\n",
    "    label = label.replace('_bin', '] ')\n",
    "    rename[name] = label + 10*' '\n",
    "    \n",
    "json.dump(rename, open('rename.json', 'w'))\n",
    "\n",
    "cmd = 'plotImpacts.py -i impacts.json -o impacts -t rename.json'\n",
    "os.system(cmd)\n",
    "IFrame(\"impacts.pdf\", width=900, height=600)"
   ]
  },
  {
   "cell_type": "code",
   "execution_count": null,
   "metadata": {
    "ExecuteTime": {
     "end_time": "2020-05-10T18:03:26.857066Z",
     "start_time": "2020-05-10T18:00:42.311Z"
    }
   },
   "outputs": [],
   "source": [
    "os.system('mv *.root {}/'.format(outdir))\n",
    "os.system('mv impacts.* {}/'.format(outdir))\n",
    "os.system('mv rename.json {}/'.format(outdir))\n",
    "os.system('mv combine_logger.out {}/'.format(outdir));"
   ]
  },
  {
   "cell_type": "markdown",
   "metadata": {},
   "source": [
    "## Run the Goodness of fit test"
   ]
  },
  {
   "cell_type": "markdown",
   "metadata": {},
   "source": [
    "Run the observed test stat value"
   ]
  },
  {
   "cell_type": "code",
   "execution_count": null,
   "metadata": {
    "ExecuteTime": {
     "end_time": "2020-05-10T18:03:26.858884Z",
     "start_time": "2020-05-10T18:00:42.315Z"
    },
    "scrolled": true
   },
   "outputs": [],
   "source": [
    "cmd = 'combine -M GoodnessOfFit --toysFrequentist --algo=saturated --X-rtd MINIMIZER_analytic'\n",
    "cmd += ' -d results/{cn}/higgsCombine{cn}_bestfit.MultiDimFit.mH120.root'.format(cn=card_name)\n",
    "cmd += ' --snapshotName MultiDimFit --bypassFrequentistFit'\n",
    "cmd += ' -D ' + histo[histo.keys()[0]]['data'].GetName()\n",
    "cmd += ' -n Obs'                                    # Just the output name\n",
    "cmd += ' -t 0'                                      # Don't run toys\n",
    "cmd += ' -s 1'                                      # Random seed\n",
    "cmd += ' --setParameters r={:.2f}'.format(SM_RDst)\n",
    "cmd += ' --setParameterRanges r=0.001,1'\n",
    "cmd += ' --plots --verbose -1'\n",
    "print cmd\n",
    "os.system(cmd)"
   ]
  },
  {
   "cell_type": "markdown",
   "metadata": {},
   "source": [
    "Run the test stat toy distribution"
   ]
  },
  {
   "cell_type": "code",
   "execution_count": null,
   "metadata": {
    "ExecuteTime": {
     "end_time": "2020-05-10T18:03:26.860730Z",
     "start_time": "2020-05-10T18:00:42.318Z"
    }
   },
   "outputs": [],
   "source": [
    "cmd = 'combine -M GoodnessOfFit --toysFrequentist --algo=saturated --X-rtd MINIMIZER_analytic'\n",
    "cmd += ' -d results/{cn}/higgsCombine{cn}_bestfit.MultiDimFit.mH120.root'.format(cn=card_name)\n",
    "cmd += ' --snapshotName MultiDimFit --bypassFrequentistFit'\n",
    "cmd += ' -D ' + histo[histo.keys()[0]]['data'].GetName()\n",
    "cmd += ' -n Toys'                                   # Just the output name\n",
    "cmd += ' -t 100'                                    # Number of toys to run\n",
    "cmd += ' -s -1'                                     # Random seed\n",
    "# cmd += '--expectSignal=0'                           # Depending on the hypothesis to test. If none, r is fluctruated\n",
    "cmd += ' --setParameters r={:.2f}'.format(SM_RDst)\n",
    "cmd += ' --setParameterRanges r=0.001,1'\n",
    "cmd += ' --plots --verbose -1'\n",
    "cmdToys = cmd\n",
    "print cmdToys\n",
    "\n",
    "# os.system(cmdToys)"
   ]
  },
  {
   "cell_type": "code",
   "execution_count": null,
   "metadata": {
    "ExecuteTime": {
     "end_time": "2020-05-10T18:03:26.862594Z",
     "start_time": "2020-05-10T18:00:42.320Z"
    }
   },
   "outputs": [],
   "source": [
    "from multiprocessing import Pool\n",
    "\n",
    "def runCommand(cmd):\n",
    "    os.system(cmd)\n",
    "\n",
    "Nrep = 15\n",
    "p = Pool(min(20,Nrep))\n",
    "outputs = p.map(runCommand, Nrep*[cmdToys])"
   ]
  },
  {
   "cell_type": "markdown",
   "metadata": {},
   "source": [
    "Combine them to get the p-value"
   ]
  },
  {
   "cell_type": "code",
   "execution_count": null,
   "metadata": {
    "ExecuteTime": {
     "end_time": "2020-05-10T18:03:26.864465Z",
     "start_time": "2020-05-10T18:00:42.323Z"
    }
   },
   "outputs": [],
   "source": [
    "f = ur.open('higgsCombineObs.GoodnessOfFit.mH120.1.root')\n",
    "s_obs = f['limit']['limit'].array()[0]\n",
    "\n",
    "s_toys = []\n",
    "for name_toys in glob('higgsCombineToys.GoodnessOfFit.*.root'):\n",
    "    f = ur.open(name_toys)\n",
    "    s_toys += list(f['limit']['limit'].array())\n",
    "\n",
    "content, center, _ = plt.hist(s_toys, label='Toys')\n",
    "plt.plot([s_obs, s_obs], [0, np.max(content)], 'm--', label='Observed')\n",
    "plt.legend(loc='best')\n",
    "\n",
    "p_val = np.sum(s_toys > s_obs)/float(len(s_toys))\n",
    "print 'p-value: {:.1f}%'.format(100*p_val)\n",
    "if p_val < 0.01: print p_val"
   ]
  },
  {
   "cell_type": "code",
   "execution_count": null,
   "metadata": {
    "ExecuteTime": {
     "end_time": "2020-05-10T18:03:26.866391Z",
     "start_time": "2020-05-10T18:00:42.324Z"
    }
   },
   "outputs": [],
   "source": [
    "os.system('mv *.root {}/'.format(outdir))"
   ]
  }
 ],
 "metadata": {
  "kernelspec": {
   "display_name": "Python 2",
   "language": "python",
   "name": "python2"
  },
  "language_info": {
   "codemirror_mode": {
    "name": "ipython",
    "version": 2
   },
   "file_extension": ".py",
   "mimetype": "text/x-python",
   "name": "python",
   "nbconvert_exporter": "python",
   "pygments_lexer": "ipython2",
   "version": "2.7.14+"
  },
  "varInspector": {
   "cols": {
    "lenName": 16,
    "lenType": 16,
    "lenVar": 40
   },
   "kernels_config": {
    "python": {
     "delete_cmd_postfix": "",
     "delete_cmd_prefix": "del ",
     "library": "var_list.py",
     "varRefreshCmd": "print(var_dic_list())"
    },
    "r": {
     "delete_cmd_postfix": ") ",
     "delete_cmd_prefix": "rm(",
     "library": "var_list.r",
     "varRefreshCmd": "cat(var_dic_list()) "
    }
   },
   "position": {
    "height": "308px",
    "left": "1550px",
    "right": "20px",
    "top": "120px",
    "width": "338px"
   },
   "types_to_exclude": [
    "module",
    "function",
    "builtin_function_or_method",
    "instance",
    "_Feature"
   ],
   "window_display": false
  }
 },
 "nbformat": 4,
 "nbformat_minor": 2
}
