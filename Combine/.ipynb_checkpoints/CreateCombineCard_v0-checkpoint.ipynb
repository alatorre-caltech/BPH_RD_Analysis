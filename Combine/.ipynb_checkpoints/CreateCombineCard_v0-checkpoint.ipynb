{
 "cells": [
  {
   "cell_type": "code",
   "execution_count": 1,
   "metadata": {},
   "outputs": [],
   "source": [
    "card_name = 'q2only_test'"
   ]
  },
  {
   "cell_type": "markdown",
   "metadata": {},
   "source": [
    "# Import"
   ]
  },
  {
   "cell_type": "code",
   "execution_count": 2,
   "metadata": {},
   "outputs": [],
   "source": [
    "import sys, os\n",
    "sys.path.append('../lib')"
   ]
  },
  {
   "cell_type": "code",
   "execution_count": 3,
   "metadata": {
    "ExecuteTime": {
     "end_time": "2019-05-14T01:36:12.149848Z",
     "start_time": "2019-05-14T01:36:11.232339Z"
    }
   },
   "outputs": [
    {
     "name": "stdout",
     "output_type": "stream",
     "text": [
      "Welcome to JupyROOT 6.12/07\n"
     ]
    }
   ],
   "source": [
    "import numpy as np\n",
    "import uproot as ur\n",
    "import ROOT as rt\n",
    "rt.gErrorIgnoreLevel = rt.kError\n",
    "rt.RooMsgService.instance().setGlobalKillBelow(rt.RooFit.ERROR)\n",
    "import root_numpy as rtnp\n",
    "\n",
    "from analysis_utilities import drawOnCMSCanvas, extarct, extarct_multiple, createSel\n",
    "from histo_utilities import create_TH1D, create_TH2D, std_color_list\n",
    "from cebefo_style import Set_2D_colz_graphics\n",
    "\n",
    "import CMS_lumi, tdrstyle\n",
    "tdrstyle.setTDRStyle()\n",
    "CMS_lumi.writeExtraText = 1\n",
    "CMS_lumi.extraText = \"     Preliminary\"\n",
    "\n",
    "donotdelete = []"
   ]
  },
  {
   "cell_type": "markdown",
   "metadata": {},
   "source": [
    "# Create histograms file"
   ]
  },
  {
   "cell_type": "code",
   "execution_count": 4,
   "metadata": {},
   "outputs": [
    {
     "name": "stdout",
     "output_type": "stream",
     "text": [
      "mu : 15963 candidates\n",
      "tau : 7222 candidates\n"
     ]
    }
   ],
   "source": [
    "file_loc = {\n",
    "# 'data' : '../data/cmsRD/Run2018D/B02DstMu_190517_BPH*.root',\n",
    "'mu'   : '../data/cmsMC_private/BPH_Tag-B0_MuNuDmst-pD0bar-kp_13TeV-pythia8_SoftQCD_PTFilter5_0p0-evtgen_HQET2_central_PU35_10-2-3_v0/B02DstMu_candidates/out*.root',\n",
    "'tau'  : '../data/cmsMC_private/BPH_Tag-B0_TauNuDmst-pD0bar-kp-t2mnn_pythia8_SoftQCD_PTFilter5_0p0-evtgen_HQET2_central_PU35_10-2-3_v0/B02DstMu_candidates/out*.root'\n",
    "}\n",
    "\n",
    "branches = ['q2', 'Est_mu', 'M2_miss',\n",
    "            'mass_MuDst', 'cos_MuDst_vtxBest'\n",
    "           ]\n",
    "\n",
    "dSet = {}\n",
    "for k, fn in file_loc.iteritems():\n",
    "    dSet[k] = extarct_multiple(fn, branches=branches, flag=k)\n",
    "    print k, ':', dSet[k]['Est_mu'].shape[0], 'candidates'"
   ]
  },
  {
   "cell_type": "code",
   "execution_count": 5,
   "metadata": {},
   "outputs": [],
   "source": [
    "analysis_selection = {\n",
    "'mass_MuDst'      : ['<', 5.280],\n",
    "'cos_MuDst_vtxBest' : ['>', 0.98]\n",
    "}\n",
    "\n",
    "binning = {\n",
    "'q2'      : [10, -2, 10.7]\n",
    "# 'q2'      : [4, -2, 10.7]\n",
    "# 'M2_miss' : [40/2, -5, 10]\n",
    "# 'Est_mu'  : [30/2, 0.10, 2.500]\n",
    "}"
   ]
  },
  {
   "cell_type": "code",
   "execution_count": 6,
   "metadata": {},
   "outputs": [],
   "source": [
    "histo= {}\n",
    "for k in file_loc.keys():\n",
    "#     histo[k] = rt.TH3F('h_'+k, k, \n",
    "#                      binning['q2'][0], binning['q2'][1], binning['q2'][2],\n",
    "#                      binning['M2_miss'][0], binning['M2_miss'][1], binning['M2_miss'][2],      \n",
    "#                      binning['Est_mu'][0], binning['Est_mu'][1], binning['Est_mu'][2]\n",
    "#                     )\n",
    "    histo[k] = rt.TH1F(k, k, \n",
    "                     binning['q2'][0], binning['q2'][1], binning['q2'][2]\n",
    "                    )\n",
    "\n",
    "    d = dSet[k]\n",
    "    sel = createSel(d, analysis_selection)\n",
    "#     rtnp.fill_hist(histo[k], np.column_stack((d['q2'][sel], d['M2_miss'][sel], d['Est_mu'][sel])))\n",
    "    rtnp.fill_hist(histo[k], d['q2'][sel])\n",
    "    \n",
    "# Add overflow in the last visible bin"
   ]
  },
  {
   "cell_type": "code",
   "execution_count": 7,
   "metadata": {},
   "outputs": [
    {
     "name": "stdout",
     "output_type": "stream",
     "text": [
      "792 185\n"
     ]
    }
   ],
   "source": [
    "raw_yeld_inj = 0.2\n",
    "N_tot = 1000\n",
    "\n",
    "sel = createSel(dSet['mu'], analysis_selection)\n",
    "n_mu = np.random.poisson(lam=N_tot*(1-raw_yeld_inj))\n",
    "idx = np.random.randint(0, np.sum(sel), size=(n_mu, ))\n",
    "d_mu = dSet['mu']['q2'][sel]\n",
    "d_mu = d_mu[idx]\n",
    "\n",
    "sel = createSel(dSet['tau'], analysis_selection)\n",
    "n_tau = np.random.poisson(lam=N_tot*raw_yeld_inj)\n",
    "idx = np.random.randint(0, np.sum(sel), size=(n_tau, ))\n",
    "d_tau = dSet['tau']['q2'][sel]\n",
    "d_tau = d_tau[idx]\n",
    "\n",
    "histo['data'] = rt.TH1F('dataObs', 'data obs', \n",
    "                        binning['q2'][0], binning['q2'][1], binning['q2'][2]\n",
    "                       )\n",
    "rtnp.fill_hist(histo['data'], np.concatenate((d_mu, d_tau)))\n",
    "print n_mu, n_tau"
   ]
  },
  {
   "cell_type": "markdown",
   "metadata": {},
   "source": [
    "Scale according expectation and save file"
   ]
  },
  {
   "cell_type": "code",
   "execution_count": 8,
   "metadata": {},
   "outputs": [],
   "source": [
    "#\n",
    "histo['mu'].Scale(N_tot*(1-raw_yeld_inj)/histo['mu'].Integral())\n",
    "histo['tau'].Scale(N_tot*raw_yeld_inj/histo['tau'].Integral())"
   ]
  },
  {
   "cell_type": "code",
   "execution_count": 9,
   "metadata": {},
   "outputs": [],
   "source": [
    "histo_file_loc = '../data/_root/histos4combine_{}.root'.format(card_name)\n",
    "tf = rt.TFile(histo_file_loc, 'recreate')\n",
    "for k,v in histo.iteritems():\n",
    "    v.Write()\n",
    "tf.Close()"
   ]
  },
  {
   "cell_type": "code",
   "execution_count": 10,
   "metadata": {},
   "outputs": [
    {
     "data": {
      "image/png": "[encoded data removed]",
      "text/plain": [
       "<IPython.core.display.Image object>"
      ]
     },
     "metadata": {},
     "output_type": "display_data"
    }
   ],
   "source": [
    "leg = rt.TLegend(0.2, 0.7, 0.4, 0.9)\n",
    "leg.SetLineWidth(0)\n",
    "leg.SetBorderSize(0)\n",
    "\n",
    "histo['data'].Sumw2()\n",
    "histo['data'].SetMarkerColor(1)\n",
    "histo['data'].SetMarkerStyle(20)\n",
    "histo['data'].SetLineColor(1)\n",
    "histo['data'].SetXTitle('q^{2} [GeV^{2}]')\n",
    "histo['data'].SetYTitle('Events')\n",
    "leg.AddEntry(histo['data'], 'Pseudo-data', 'lep')\n",
    "\n",
    "histo['mu'].SetLineColor(4)\n",
    "leg.AddEntry(histo['mu'], 'Mu', 'lep')\n",
    "\n",
    "histo['tau'].SetLineColor(2)\n",
    "leg.AddEntry(histo['tau'], 'Tau', 'lep')\n",
    "\n",
    "CMS_lumi.extraText = \"     Simulation Preliminary\"\n",
    "c = drawOnCMSCanvas(CMS_lumi, [histo['data'], histo['mu'], histo['tau']], 'same')\n",
    "leg.Draw()\n",
    "c.Draw()"
   ]
  },
  {
   "cell_type": "markdown",
   "metadata": {},
   "source": [
    "# Write the card"
   ]
  },
  {
   "cell_type": "code",
   "execution_count": 11,
   "metadata": {},
   "outputs": [],
   "source": [
    "processes = ['mu', 'tau']"
   ]
  },
  {
   "cell_type": "code",
   "execution_count": 12,
   "metadata": {
    "ExecuteTime": {
     "end_time": "2019-05-14T01:36:12.367638Z",
     "start_time": "2019-05-14T01:36:12.352769Z"
    }
   },
   "outputs": [],
   "source": [
    "card_location = 'cards/{}.txt'.format(card_name)\n",
    "fc = open(card_location, 'w')"
   ]
  },
  {
   "cell_type": "code",
   "execution_count": 13,
   "metadata": {
    "ExecuteTime": {
     "end_time": "2019-05-14T01:36:12.392125Z",
     "start_time": "2019-05-14T01:36:12.371738Z"
    }
   },
   "outputs": [],
   "source": [
    "# number of different categories\n",
    "card = 'imax 1\\n'\n",
    "\n",
    "# number of processes minus one\n",
    "card += 'jmax {}\\n'.format(len(processes)-1)\n",
    "\n",
    "# number of nuissance parameters\n",
    "card += 'kmax *\\n'\n",
    "card += '---------------\\n'"
   ]
  },
  {
   "cell_type": "code",
   "execution_count": 14,
   "metadata": {
    "ExecuteTime": {
     "end_time": "2019-05-14T01:36:12.392125Z",
     "start_time": "2019-05-14T01:36:12.371738Z"
    }
   },
   "outputs": [],
   "source": [
    "card += 'shapes * cat1 ' + histo_file_loc + ' $PROCESS $PROCESS__$SYSTEMATIC\\n'\n",
    "card += '---------------\\n'"
   ]
  },
  {
   "cell_type": "code",
   "execution_count": 15,
   "metadata": {
    "ExecuteTime": {
     "end_time": "2019-05-14T01:36:12.392125Z",
     "start_time": "2019-05-14T01:36:12.371738Z"
    }
   },
   "outputs": [],
   "source": [
    "card += 'bin cat1\\n'\n",
    "card += 'observation {:.0f}\\n'.format(histo['data'].Integral())\n",
    "card += '---------------\\n'"
   ]
  },
  {
   "cell_type": "code",
   "execution_count": 16,
   "metadata": {
    "ExecuteTime": {
     "end_time": "2019-05-14T01:36:12.392125Z",
     "start_time": "2019-05-14T01:36:12.371738Z"
    }
   },
   "outputs": [],
   "source": [
    "card += 'bin ' + ' '.join(['cat1']*2) + '\\n'\n",
    "card += 'process ' + ' '.join(processes) + '\\n'\n",
    "\n",
    "# Zero or negative for sig and positive for bkg\n",
    "card += 'process ' + '0 1\\n'\n",
    "\n",
    "card += 'rate ' + ' {} {}\\n'.format(N_tot*(1-raw_yeld_inj), N_tot*raw_yeld_inj)"
   ]
  },
  {
   "cell_type": "code",
   "execution_count": 17,
   "metadata": {
    "ExecuteTime": {
     "end_time": "2019-05-14T01:36:12.412621Z",
     "start_time": "2019-05-14T01:36:12.396482Z"
    }
   },
   "outputs": [
    {
     "name": "stdout",
     "output_type": "stream",
     "text": [
      "imax 1\n",
      "jmax 1\n",
      "kmax *\n",
      "---------------\n",
      "shapes * cat1 ../data/_root/histos4combine_q2only_test.root $PROCESS $PROCESS__$SYSTEMATIC\n",
      "---------------\n",
      "bin cat1\n",
      "observation 961\n",
      "---------------\n",
      "bin cat1 cat1\n",
      "process mu tau\n",
      "process 0 1\n",
      "rate  800.0 200.0\n",
      "\n"
     ]
    }
   ],
   "source": [
    "print card"
   ]
  },
  {
   "cell_type": "code",
   "execution_count": 18,
   "metadata": {
    "ExecuteTime": {
     "end_time": "2019-05-14T01:36:12.432835Z",
     "start_time": "2019-05-14T01:36:12.416805Z"
    }
   },
   "outputs": [],
   "source": [
    "fc.write(card)\n",
    "fc.close()"
   ]
  },
  {
   "cell_type": "markdown",
   "metadata": {},
   "source": [
    "### Create output directory"
   ]
  },
  {
   "cell_type": "code",
   "execution_count": 19,
   "metadata": {},
   "outputs": [
    {
     "data": {
      "text/plain": [
       "0"
      ]
     },
     "execution_count": 19,
     "metadata": {},
     "output_type": "execute_result"
    }
   ],
   "source": [
    "outdir = 'results/' + card_name\n",
    "\n",
    "if os.path.isdir(outdir):\n",
    "    os.system('rm -rf ' + outdir)\n",
    "os.system('mkdir ' + outdir)"
   ]
  },
  {
   "cell_type": "markdown",
   "metadata": {},
   "source": [
    "# Run Combine"
   ]
  },
  {
   "cell_type": "code",
   "execution_count": 20,
   "metadata": {},
   "outputs": [],
   "source": [
    "cmd = 'combine'\n",
    "cmd += ' -M FitDiagnostics'\n",
    "cmd += ' -d ' + card_location\n",
    "cmd += ' --verbose 1'\n",
    "cmd += ' -D ' + histo['data'].GetName()\n",
    "cmd += ' --out ' + outdir\n",
    "cmd += ' --saveShapes --saveWithUncertainties'\n",
    "cmd += ' --plots'"
   ]
  },
  {
   "cell_type": "code",
   "execution_count": 21,
   "metadata": {},
   "outputs": [
    {
     "name": "stdout",
     "output_type": "stream",
     "text": [
      "combine -M FitDiagnostics -d cards/q2only_test.txt --verbose 1 -D dataObs --out results/q2only_test --saveShapes --saveWithUncertainties --plots\n"
     ]
    },
    {
     "data": {
      "text/plain": [
       "0"
      ]
     },
     "execution_count": 21,
     "metadata": {},
     "output_type": "execute_result"
    },
    {
     "name": "stdout",
     "output_type": "stream",
     "text": [
      " <<< Combine >>> \n",
      ">>> method used is FitDiagnostics\n",
      ">>> random number generator seed is 123456\n",
      "Parameters: \n",
      "  1) RooRealVar:: n_exp_bincat1_proc_tau = 200\n",
      "  2) RooRealVar::                      r = 0\n",
      "Obs: \n",
      "  1) RooRealVar::    CMS_th1x = 9.5\n",
      "  2) RooCategory:: CMS_channel = cat1(idx = 0)\n",
      "\n",
      "Running Minos for POI \n",
      " PDF CHECKING \n",
      "--- RooAbsArg ---\n",
      "  Value State: DIRTY\n",
      "  Shape State: DIRTY\n",
      "  Attributes:  [MAIN_MEASUREMENT,SnapShot_ExtRefClone,forceGenBinned] \n",
      "  Address: 0x7e21570\n",
      "  Clients: \n",
      "    (0x7ff72c0,V-) RooSimultaneousOpt::model_s \"model_s\"\n",
      "  Servers: \n",
      "    (0x5f1b160,V-) FastVerticalInterpHistPdf2::shapeSig_mu_cat1_rebinPdf \"\"\n",
      "    (0x7ebfe30,V-) FastVerticalInterpHistPdf2::shapeBkg_tau_cat1_rebinPdf \"\"\n",
      "    (0x7fe50b0,V-) ProcessNormalization::n_exp_bincat1_proc_mu \"\"\n",
      "    (0x7eb26f0,V-) RooRealVar::n_exp_bincat1_proc_tau \"n_exp_bincat1_proc_tau\"\n",
      "  Proxies: \n",
      "    !refCoefNorm -> \n",
      "    !refCoefNorm -> \n",
      "    !pdfs -> \n",
      "      1)   shapeSig_mu_cat1_rebinPdf\n",
      "      2)  shapeBkg_tau_cat1_rebinPdf\n",
      "    !coefficients -> \n",
      "      1)   n_exp_bincat1_proc_mu\n",
      "      2)  n_exp_bincat1_proc_tau\n",
      "--- RooAbsReal ---\n",
      "\n",
      "  Plot label is \"pdf_bincat1\"\n",
      "--- RooAbsPdf ---\n",
      "Cached value = 0\n",
      "DataStore cat1 (cat1)\n",
      "  Contains 10 entries\n",
      "  Observables: \n",
      "    1)  CMS_th1x = 9.5  L(0 - 10) B(10)  \"CMS_th1x\"\n",
      "    2)    weight = 0  L(-1e+09 - 1e+09)  \"weight\"\n",
      "  Dataset variable \"_weight_\" is interpreted as the event weight\n",
      " ------------ \n",
      "[utils::makePlots] Number of events for pdf in cat1_CMS_th1x, pdf pdf_bincat1 = 965.065\n",
      "\n",
      " --- FitDiagnostics ---\n",
      "Best fit r: 0.956331  -0.0375329/+0.0388198  (68% CL)\n",
      "Done in 0.01 min (cpu), 0.01 min (real)\n",
      "Printing Message Summary From ... combine_logger.out\n",
      "----------------------------------------------\n",
      "Messages of type INFO : 7\n",
      "Messages of type DEBUG : 2\n",
      "Messages of type ERROR : 0\n",
      "----------------------------------------------\n",
      "INFO: (function: improveOnce) CascadeMinimizer.cc: 167 -- Minimisation configured with Type=Minuit2, Algo=Migrad, strategy=1, tolerance=0.1\n",
      "INFO: (function: improveOnce) CascadeMinimizer.cc: 190 -- Minimisation finished with status=-1\n",
      "DEBUG: (function: improveOnce) CascadeMinimizer.cc: 196 -- Minimization ended with latest status != 0 or 1\n",
      "INFO: (function: improveOnce) CascadeMinimizer.cc: 167 -- Minimisation configured with Type=Minuit2, Algo=Migrad, strategy=1, tolerance=0.1\n",
      "INFO: (function: improveOnce) CascadeMinimizer.cc: 190 -- Minimisation finished with status=0\n",
      "INFO: (function: improveOnce) CascadeMinimizer.cc: 195 -- Minimization success! status=0\n",
      "INFO: (function: doFit) FitterAlgoBase.cc: 318 -- Running Minos for POI r\n",
      "DEBUG: (function: runSpecific) FitDiagnostics.cc: 412 -- Fit S+B, status = 0, numBadNLL = 0, covariance quality = 3\n",
      "INFO: (function: getNormalizations) FitDiagnostics.cc: 777 -- Generating toy data for evaluating per-bin uncertainties and covariances with post-fit nuisance parameters with 200 toys\n"
     ]
    },
    {
     "name": "stderr",
     "output_type": "stream",
     "text": [
      "Missing background ModelConfig 'ModelConfig_bonly' in workspace 'w' in file roostats-5LBBF3.root\n",
      "Will make one from the signal ModelConfig 'ModelConfig' setting signal strenth 'r' to zero\n",
      "PDF didn't factorize!\n",
      "Error in <TList::Clear>: A list is accessing an object (0x801d874) already deleted (list name = TList)\n",
      "Info in <TCanvas::Print>: png file results/q2only_test/cat1_CMS_th1x_fit_s.png has been created\n",
      "Info in <TCanvas::Print>: png file results/q2only_test/covariance_fit_s.png has been created\n"
     ]
    }
   ],
   "source": [
    "print cmd\n",
    "os.system(cmd)\n",
    "os.system('mv combine_logger.out ' + outdir + '/')\n",
    "os.system('mv higgsCombineTest.FitDiagnostics.mH120.root ' + outdir + '/')"
   ]
  }
 ],
 "metadata": {
  "kernelspec": {
   "display_name": "Python 2",
   "language": "python",
   "name": "python2"
  },
  "language_info": {
   "codemirror_mode": {
    "name": "ipython",
    "version": 2
   },
   "file_extension": ".py",
   "mimetype": "text/x-python",
   "name": "python",
   "nbconvert_exporter": "python",
   "pygments_lexer": "ipython2",
   "version": "2.7.14+"
  }
 },
 "nbformat": 4,
 "nbformat_minor": 2
}
