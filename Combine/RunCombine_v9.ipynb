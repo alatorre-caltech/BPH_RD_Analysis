{
 "cells": [
  {
   "cell_type": "markdown",
   "metadata": {},
   "source": [
    "New:\n",
    " - Hc divided into 3 subsamples\n",
    " - PU/PV additional tracks ratio corrected"
   ]
  },
  {
   "cell_type": "code",
   "execution_count": 1,
   "metadata": {
    "ExecuteTime": {
     "end_time": "2020-07-08T02:45:07.579670Z",
     "start_time": "2020-07-08T02:45:07.564993Z"
    }
   },
   "outputs": [],
   "source": [
    "fit_real_data = True\n",
    "category = 'low'\n",
    "SM_RDst = 0.33\n",
    "fastRun = True\n",
    "card_name = 'v9_'+category"
   ]
  },
  {
   "cell_type": "markdown",
   "metadata": {
    "hide_input": true
   },
   "source": [
    "# Import"
   ]
  },
  {
   "cell_type": "code",
   "execution_count": 2,
   "metadata": {
    "ExecuteTime": {
     "end_time": "2020-07-08T02:45:08.102530Z",
     "start_time": "2020-07-08T02:45:07.586477Z"
    }
   },
   "outputs": [],
   "source": [
    "import sys, os, pickle, time\n",
    "from glob import glob\n",
    "sys.path.append('../lib')\n",
    "sys.path.append('../analysis')\n",
    "from categoriesDef import categories\n",
    "import itertools\n",
    "import commands\n",
    "from prettytable import PrettyTable\n",
    "import json, yaml\n",
    "from IPython.display import IFrame, Image, display"
   ]
  },
  {
   "cell_type": "code",
   "execution_count": 3,
   "metadata": {
    "ExecuteTime": {
     "end_time": "2020-07-08T02:45:16.817065Z",
     "start_time": "2020-07-08T02:45:08.107463Z"
    }
   },
   "outputs": [
    {
     "name": "stdout",
     "output_type": "stream",
     "text": [
      "Welcome to JupyROOT 6.12/07\n"
     ]
    }
   ],
   "source": [
    "import numpy as np\n",
    "import matplotlib.pyplot as plt\n",
    "from array import array\n",
    "\n",
    "import uproot as ur\n",
    "import ROOT as rt\n",
    "rt.gErrorIgnoreLevel = rt.kError\n",
    "rt.RooMsgService.instance().setGlobalKillBelow(rt.RooFit.ERROR)\n",
    "import root_numpy as rtnp\n",
    "\n",
    "from analysis_utilities import drawOnCMSCanvas, getEff, DSetLoader\n",
    "from pT_calibration_reader import pTCalReader\n",
    "from histo_utilities import create_TH1D, create_TH2D, std_color_list\n",
    "from gridVarQ2Plot import plot_gridVarQ2, plot_SingleCategory\n",
    "from progressBar import ProgressBar\n",
    "from lumi_utilities import getLumiByTrigger\n",
    "from combine_utilities import getUncertaintyFromLimitTree, dumpDiffNuisances, stringJubCustomizationCaltechT2\n",
    "\n",
    "import CMS_lumi, tdrstyle\n",
    "tdrstyle.setTDRStyle()\n",
    "CMS_lumi.writeExtraText = 1\n",
    "\n",
    "if fit_real_data:\n",
    "    CMS_lumi.extraText = \"     Preliminary\"\n",
    "else:\n",
    "    CMS_lumi.extraText = \"     Simulation Preliminary\"\n",
    "\n",
    "donotdelete = []"
   ]
  },
  {
   "cell_type": "code",
   "execution_count": 4,
   "metadata": {
    "ExecuteTime": {
     "end_time": "2020-07-08T02:45:16.837908Z",
     "start_time": "2020-07-08T02:45:16.821531Z"
    }
   },
   "outputs": [],
   "source": [
    "cat = categories[category]"
   ]
  },
  {
   "cell_type": "markdown",
   "metadata": {},
   "source": [
    "# Load the datasets"
   ]
  },
  {
   "cell_type": "code",
   "execution_count": 5,
   "metadata": {
    "ExecuteTime": {
     "end_time": "2020-07-08T02:45:33.794752Z",
     "start_time": "2020-07-08T02:45:16.841191Z"
    }
   },
   "outputs": [],
   "source": [
    "#They all have to be produced with the same pileup\n",
    "MCsample = {\n",
    "'mu' : DSetLoader('B0_MuNuDmst_PUc0'),\n",
    "'tau' : DSetLoader('B0_TauNuDmst_PUc0'),\n",
    "'DstmD0' : DSetLoader('B0_DstmD0_PUc0'),\n",
    "'DstmDp' : DSetLoader('B0_DstmDp_PUc0'),\n",
    "'DstmDsp' : DSetLoader('B0_DstmDsp_PUc0'),\n",
    "'BpDstmHc' : DSetLoader('Bp_DstmHc_PUc0'),\n",
    "'BmDstmHc' : DSetLoader('Bm_DstmHc_PUc0'),\n",
    "'antiB0DstmHc' : DSetLoader('antiB0_DstmHc_PUc0'),\n",
    "'DstPip' : DSetLoader('Bp_MuNuDstst_Pip_PUc0'),\n",
    "'DstPi0' : DSetLoader('B0_MuNuDstst_Pi0_PUc0'),\n",
    "'DstPipPi0' : DSetLoader('Bp_MuNuDstst_PipPi0_PUc0'),\n",
    "'DstPipPim' : DSetLoader('B0_MuNuDstst_PipPim_PUc0'),\n",
    "'DstPi0Pi0' : DSetLoader('B0_MuNuDstst_Pi0Pi0_PUc0'),\n",
    "}\n",
    "dSet = {}\n",
    "dSetTkSide = {}\n",
    "for n, s in MCsample.iteritems():\n",
    "    dSet[n] = rtnp.root2array(s.skimmed_dir + '/{}_corr.root'.format(cat.name))\n",
    "    dSetTkSide[n] = rtnp.root2array(s.skimmed_dir + '/{}_trkCtrl_corr.root'.format(cat.name))"
   ]
  },
  {
   "cell_type": "code",
   "execution_count": 6,
   "metadata": {
    "ExecuteTime": {
     "end_time": "2020-07-08T02:45:35.235764Z",
     "start_time": "2020-07-08T02:45:33.799015Z"
    }
   },
   "outputs": [
    {
     "name": "stdout",
     "output_type": "stream",
     "text": [
      "Run2018D-05May2019promptD-v1_RDntuplizer_B2DstMu_200515\n",
      "HLT_Mu7_IP4_part2_v2 1.28\n",
      "Run2018D-05May2019promptD-v1_RDntuplizer_B2DstMu_200515\n",
      "HLT_Mu7_IP4_part1_v2 1.28\n",
      "Run2018D-05May2019promptD-v1_RDntuplizer_B2DstMu_200515\n",
      "HLT_Mu7_IP4_part4_v2 1.28\n",
      "Run2018D-05May2019promptD-v1_RDntuplizer_B2DstMu_200515\n",
      "HLT_Mu7_IP4_part3_v2 1.28\n",
      "Run2018D-05May2019promptD-v1_RDntuplizer_B2DstMu_200515\n",
      "HLT_Mu7_IP4_part0_v2 1.27\n",
      "Total lumi: 6.39 fb^-1\n"
     ]
    }
   ],
   "source": [
    "if fit_real_data:\n",
    "    creation_date = '200515'\n",
    "    locRD = '../data/cmsRD/skimmed/B2DstMu_{}_{}'.format(creation_date, cat.name)\n",
    "    dSet['data'] = rtnp.root2array(locRD + '_corr.root')\n",
    "    dSetTkSide['data'] = rtnp.root2array(locRD + '_trkCtrl_corr.root')\n",
    "    dataDir = '../data/cmsRD'\n",
    "    datasets_loc = glob(dataDir + '/ParkingBPH*/*RDntuplizer_B2DstMu_{}_CAND.root'.format(creation_date))\n",
    "    lumi_tot = getLumiByTrigger(datasets_loc, cat.trg, verbose=True)\n",
    "    CMS_lumi.integrated_lumi = lumi_tot\n",
    "else:\n",
    "    expectedLumi = {'low':6., 'mid':20., 'high':26., 'single':6.} #fb^-1\n",
    "    lumi_tot = expectedLumi[category]"
   ]
  },
  {
   "cell_type": "markdown",
   "metadata": {},
   "source": [
    "# Load all the calibrations"
   ]
  },
  {
   "cell_type": "markdown",
   "metadata": {},
   "source": [
    "Pileup"
   ]
  },
  {
   "cell_type": "code",
   "execution_count": 7,
   "metadata": {
    "ExecuteTime": {
     "end_time": "2020-07-08T02:45:35.415174Z",
     "start_time": "2020-07-08T02:45:35.240239Z"
    }
   },
   "outputs": [],
   "source": [
    "from pileup_utilities import pileupReweighter\n",
    "puReweighter = pileupReweighter(MCsample['mu'].skimmed_dir + '/{}_corr.root'.format(cat.name), cat)"
   ]
  },
  {
   "cell_type": "markdown",
   "metadata": {},
   "source": [
    "Total norm pre-scale"
   ]
  },
  {
   "cell_type": "code",
   "execution_count": 8,
   "metadata": {
    "ExecuteTime": {
     "end_time": "2020-07-08T02:45:35.516526Z",
     "start_time": "2020-07-08T02:45:35.419890Z"
    }
   },
   "outputs": [],
   "source": [
    "# r = np.zeros((3,2))\n",
    "# for i, fn in enumerate(glob('../data/calibration/totalRate/ratioB02JPsiKst_*.txt')):\n",
    "#     with open(fn, 'r') as faux:\n",
    "#         aux = faux.readlines()[0][:-1].split(' ')\n",
    "#         r[i] = [float(aux[0]), float(aux[1])]\n",
    "# s2 = np.square(r[:,1])\n",
    "# num = np.sum(r[:,0]/s2)\n",
    "# den = np.sum(1./s2)\n",
    "# RDoMC_normRatio = [num/den, np.sqrt(1/den)]\n",
    "# print 'Expected ratio between RD and MC norm: {:.3f} +/- {:.3f}'.format(RDoMC_normRatio[0], RDoMC_normRatio[1])"
   ]
  },
  {
   "cell_type": "markdown",
   "metadata": {},
   "source": [
    "Branching fraction"
   ]
  },
  {
   "cell_type": "code",
   "execution_count": 9,
   "metadata": {
    "ExecuteTime": {
     "end_time": "2020-07-08T02:45:35.535402Z",
     "start_time": "2020-07-08T02:45:35.520916Z"
    }
   },
   "outputs": [],
   "source": [
    "decayBR = pickle.load(open('../data/forcedDecayChannelsFactors.pickle', 'rb'))"
   ]
  },
  {
   "cell_type": "markdown",
   "metadata": {},
   "source": [
    "Trigger scale factor"
   ]
  },
  {
   "cell_type": "code",
   "execution_count": 10,
   "metadata": {
    "ExecuteTime": {
     "end_time": "2020-07-08T02:45:35.583973Z",
     "start_time": "2020-07-08T02:45:35.539770Z"
    }
   },
   "outputs": [],
   "source": [
    "loc = '../data/calibration/triggerScaleFactors/'\n",
    "fTriggerSF = rt.TFile.Open(loc + 'HLT_' + cat.trg + '_SF_v3.root', 'READ')\n",
    "hTriggerSF = fTriggerSF.Get('hSF_HLT_' + cat.trg)"
   ]
  },
  {
   "cell_type": "code",
   "execution_count": 11,
   "metadata": {
    "ExecuteTime": {
     "end_time": "2020-07-08T02:45:35.632076Z",
     "start_time": "2020-07-08T02:45:35.588710Z"
    }
   },
   "outputs": [],
   "source": [
    "def computeTrgSF(ds, selection=None):\n",
    "    trgSF = np.ones_like(ds['q2'])\n",
    "    trgSFUnc = np.zeros_like(ds['q2'])\n",
    "    if not fastRun:\n",
    "        ptmax = hTriggerSF.GetXaxis().GetXmax() - 0.01\n",
    "        ipmax = hTriggerSF.GetYaxis().GetXmax() - 0.01\n",
    "        etamax = hTriggerSF.GetZaxis().GetXmax() - 0.01\n",
    "        x = np.column_stack((ds['mu_pt'], ds['mu_eta'], ds['mu_sigdxy']))\n",
    "        if not selection is None:\n",
    "            x = x[selection]\n",
    "        for i, (pt, eta, ip) in enumerate(x):\n",
    "            ix = hTriggerSF.GetXaxis().FindBin(min(ptmax, pt))\n",
    "            iy = hTriggerSF.GetYaxis().FindBin(min(ipmax, ip))\n",
    "            iz = hTriggerSF.GetZaxis().FindBin(min(etamax, np.abs(eta)))\n",
    "            trgSF[i] = hTriggerSF.GetBinContent(ix, iy, iz)\n",
    "            ib = hTriggerSF.GetBin(ix, iy, iz)\n",
    "            trgSFUnc[i] = hTriggerSF.GetBinError(ib)\n",
    "            if trgSF[i] == 0:\n",
    "                print pt, ip, np.abs(eta)\n",
    "                raise\n",
    "    # Divide them for the weight so later you can simply multiply back to get the value\n",
    "    up = 1 + trgSFUnc/trgSF\n",
    "    down = 1 - trgSFUnc/trgSF\n",
    "    return trgSF, up, down"
   ]
  },
  {
   "cell_type": "markdown",
   "metadata": {},
   "source": [
    "Muon ID scale factors"
   ]
  },
  {
   "cell_type": "code",
   "execution_count": 12,
   "metadata": {
    "ExecuteTime": {
     "end_time": "2020-07-08T02:45:35.684988Z",
     "start_time": "2020-07-08T02:45:35.636558Z"
    }
   },
   "outputs": [],
   "source": [
    "fMuonIDSF = rt.TFile.Open('../data/calibration/muonIDscaleFactors/Run2018ABCD_SF_MuonID_Jpsi.root', 'READ')\n",
    "hMuonIDSF = fMuonIDSF.Get('NUM_SoftID_DEN_genTracks_pt_abseta')"
   ]
  },
  {
   "cell_type": "code",
   "execution_count": 13,
   "metadata": {
    "ExecuteTime": {
     "end_time": "2020-07-08T02:45:35.751706Z",
     "start_time": "2020-07-08T02:45:35.689776Z"
    }
   },
   "outputs": [],
   "source": [
    "def computeMuonIDSF(ds, selection=None):\n",
    "    muonSF = np.ones_like(ds['q2'])\n",
    "    muonSFUnc = np.zeros_like(ds['q2'])\n",
    "    if not fastRun:\n",
    "        ptmax = hMuonIDSF.GetXaxis().GetXmax() - 0.01\n",
    "        etamax = hMuonIDSF.GetYaxis().GetXmax() - 0.01\n",
    "        x = np.column_stack((ds['MC_mu_pt'], ds['MC_mu_eta']))\n",
    "        if not selection is None:\n",
    "            x = x[selection]\n",
    "        for i, (pt, eta) in enumerate(x):\n",
    "            ix = hMuonIDSF.GetXaxis().FindBin(min(pt, ptmax))\n",
    "            if ix == 0: ix = 1 #Remove underflows (Meaning that the MC matching failed)\n",
    "            iy = hMuonIDSF.GetYaxis().FindBin(min(np.abs(eta), etamax))\n",
    "            muonSF[i] = hMuonIDSF.GetBinContent(ix, iy)\n",
    "            muonSFUnc[i] = hMuonIDSF.GetBinError(hMuonIDSF.GetBin(ix, iy))\n",
    "            if muonSF[i] == 0:\n",
    "                print pt, eta\n",
    "                print ix, iy\n",
    "                raise\n",
    "    up = 1 + muonSFUnc/muonSF\n",
    "    down = 1 - muonSFUnc/muonSF\n",
    "    return muonSF, up, down"
   ]
  },
  {
   "cell_type": "markdown",
   "metadata": {},
   "source": [
    "B transverse momentum calibration"
   ]
  },
  {
   "cell_type": "code",
   "execution_count": 14,
   "metadata": {
    "ExecuteTime": {
     "end_time": "2020-07-08T02:45:35.862976Z",
     "start_time": "2020-07-08T02:45:35.756173Z"
    }
   },
   "outputs": [],
   "source": [
    "aux = 'Low' if category == 'single' else cat.name\n",
    "cal_pT = pTCalReader(calibration_file='../data/calibration/B0pTspectrum/pwWeights_{}.txt'.format(aux))"
   ]
  },
  {
   "cell_type": "code",
   "execution_count": 15,
   "metadata": {
    "ExecuteTime": {
     "end_time": "2020-07-08T02:45:35.886144Z",
     "start_time": "2020-07-08T02:45:35.867532Z"
    }
   },
   "outputs": [],
   "source": [
    "def computeB0pTweights(ds):\n",
    "    # The denominator (sum of weights) for this weights is not known but it cancel out in the ratio\n",
    "    w = cal_pT.f['C'](ds['MC_B_pt'])\n",
    "    if np.sum(w==0):\n",
    "        print np.sum(w==0)\n",
    "        raise\n",
    "    up = cal_pT.f['Up'](ds['MC_B_pt'])/w\n",
    "    down = cal_pT.f['Down'](ds['MC_B_pt'])/w\n",
    "    return w, up, down"
   ]
  },
  {
   "cell_type": "code",
   "execution_count": 16,
   "metadata": {
    "ExecuteTime": {
     "end_time": "2020-07-08T02:45:35.920564Z",
     "start_time": "2020-07-08T02:45:35.890501Z"
    }
   },
   "outputs": [],
   "source": [
    "def computeBrVarWeights(ds, selItems={}, relScale=0.2, keepNorm=False):\n",
    "    sel = np.ones_like(ds['mu_pt']).astype(np.bool)\n",
    "    for var, val in selItems.iteritems():\n",
    "        sel = np.logical_and(ds[var].astype(np.int) == val, sel)\n",
    "    w = np.ones_like(sel)\n",
    "    up = np.where(sel, 1.+relScale, 1.)\n",
    "    down = np.where(sel, max(0, 1.-relScale), 1.)\n",
    "    if keepNorm:\n",
    "        up = float(up.shape[0])/np.sum(up)\n",
    "        down = float(down.shape[0])/np.sum(down)\n",
    "    return w, up, down"
   ]
  },
  {
   "cell_type": "code",
   "execution_count": 17,
   "metadata": {
    "ExecuteTime": {
     "end_time": "2020-07-08T02:45:36.120072Z",
     "start_time": "2020-07-08T02:45:35.924880Z"
    }
   },
   "outputs": [],
   "source": [
    "def computeTksPVweights(ds, relScale=0.05, centralVal=0.39/0.10):\n",
    "    selPdgID0 = np.logical_and(np.abs(ds['MC_tkMotherPdgId_0']) < 6, ds['MC_tkMotherPdgId_0'] != 0)\n",
    "    selPdgID0 = np.logical_or(selPdgID0, ds['MC_tkMotherPdgId_0']==2212)\n",
    "    selPdgID0 = np.logical_and(selPdgID0, ds['MC_tkFlag_0'] == 1)\n",
    "    selPdgID1 = np.logical_and(np.abs(ds['MC_tkMotherPdgId_1']) < 6, ds['MC_tkMotherPdgId_1'] != 0)\n",
    "    selPdgID1 = np.logical_or(selPdgID1, ds['MC_tkMotherPdgId_1']==2212)\n",
    "    selPdgID1 = np.logical_and( selPdgID1, ds['MC_tkFlag_1'] == 1)\n",
    "    exponent = selPdgID0.astype(np.int) + selPdgID1.astype(np.int)\n",
    "    w = np.power(centralVal, exponent)\n",
    "    up = np.power(centralVal*(1+relScale), exponent)/w\n",
    "    down = np.power(centralVal*(1-relScale), exponent)/w\n",
    "    return w, up, down"
   ]
  },
  {
   "cell_type": "markdown",
   "metadata": {},
   "source": [
    "# Create MC histograms"
   ]
  },
  {
   "cell_type": "markdown",
   "metadata": {},
   "source": [
    "### Signal region"
   ]
  },
  {
   "cell_type": "code",
   "execution_count": 18,
   "metadata": {
    "ExecuteTime": {
     "end_time": "2020-07-08T02:45:36.179759Z",
     "start_time": "2020-07-08T02:45:36.127084Z"
    },
    "hide_input": false
   },
   "outputs": [],
   "source": [
    "binning = {\n",
    "    'M2_miss' : [\n",
    "        array('d', [-2.5] + list(np.arange(-1.8, -0.2, 0.4)) + [-0.2, 0., 0.2, 0.6, 8] ),\n",
    "        array('d', [-2.5] + list(np.arange(-1.8, -0.1, 0.4)) + [-0.1, 0.0, 0.1, 0.2, 0.3] + list(np.arange(0.4, 3.0, 0.4)) + [8] ),\n",
    "        array('d', [-2.5] + list(np.arange(-1.8, 5.6, 0.4)) + [8] ),\n",
    "        array('d', [-2.5] + list(np.arange(-1.8, 7.6, 0.4)) + [8] ),\n",
    "    ],\n",
    "    'Est_mu'  : [\n",
    "        array('d', [0.3] + list(np.arange(0.7, 2.3, 0.1)) + [2.5] ),\n",
    "        array('d', [0.3] + list(np.arange(0.7, 2.5, 0.1)) + [2.5] ),\n",
    "        array('d', [0.3] + list(np.arange(0.5, 2.5, 0.1)) + [2.5] ),\n",
    "        [22, 0.3, 2.500],\n",
    "    ],\n",
    "}\n",
    "if fit_real_data:\n",
    "#     binning['q2'] = array('d', [-2, 2.5, 6, 9.4, 12])\n",
    "    binning['q2'] = array('d', [-2, 2.5, 6])\n",
    "else:\n",
    "    binning['q2'] = array('d', [-2, 2.5, 6, 9.4, 12])"
   ]
  },
  {
   "cell_type": "code",
   "execution_count": 19,
   "metadata": {
    "ExecuteTime": {
     "end_time": "2020-07-08T02:45:38.878572Z",
     "start_time": "2020-07-08T02:45:36.185341Z"
    },
    "code_folding": [],
    "hide_input": false,
    "scrolled": false
   },
   "outputs": [
    {
     "name": "stdout",
     "output_type": "stream",
     "text": [
      "\n",
      "-----------> tau <-------------\n",
      "N tot selected: 61.3k\n",
      "N tot expected (before weights): 2.32k\n",
      "Including pileup reweighting\n",
      "Including trigger corrections\n",
      "Including muon ID corrections\n",
      "Including B0 pT corrections\n",
      "Including FF corrections (Hammer)\n",
      "Computing total weights\n",
      "N tot expected (after weights): 2.58k\n",
      "\n",
      "-----------> DstmD0 <-------------\n",
      "N tot selected: 0.8k\n",
      "N tot expected (before weights): 0.01k\n",
      "Including pileup reweighting\n",
      "Including trigger corrections\n",
      "Including muon ID corrections\n",
      "Including B0 pT corrections\n",
      "Computing total weights\n",
      "N tot expected (after weights): 0.02k\n",
      "\n",
      "-----------> BmDstmHc <-------------\n",
      "N tot selected: 1.1k\n",
      "N tot expected (before weights): 0.03k\n",
      "Including pileup reweighting\n",
      "Including trigger corrections\n",
      "Including muon ID corrections\n",
      "Computing total weights\n",
      "N tot expected (after weights): 0.03k\n",
      "\n",
      "-----------> DstPipPi0 <-------------\n",
      "N tot selected: 3.4k\n",
      "N tot expected (before weights): 0.15k\n",
      "Including pileup reweighting\n",
      "Including trigger corrections\n",
      "Including muon ID corrections\n",
      "Computing total weights\n",
      "N tot expected (after weights): 0.16k\n",
      "\n",
      "-----------> DstPip <-------------\n",
      "N tot selected: 36.7k\n",
      "N tot expected (before weights): 1.53k\n",
      "Including pileup reweighting\n",
      "Including trigger corrections\n",
      "Including muon ID corrections\n",
      "Computing total weights\n",
      "N tot expected (after weights): 1.60k\n",
      "\n",
      "-----------> antiB0DstmHc <-------------\n",
      "N tot selected: 1.5k\n",
      "N tot expected (before weights): 0.05k\n",
      "Including pileup reweighting\n",
      "Including trigger corrections\n",
      "Including muon ID corrections\n",
      "Computing total weights\n",
      "N tot expected (after weights): 0.05k\n",
      "\n",
      "-----------> mu <-------------\n",
      "N tot selected: 594.9k\n",
      "N tot expected (before weights): 45.31k\n",
      "Including pileup reweighting\n",
      "Including trigger corrections\n",
      "Including muon ID corrections\n",
      "Including B0 pT corrections\n",
      "Including FF corrections (Hammer)\n",
      "Computing total weights\n",
      "N tot expected (after weights): 47.06k\n",
      "\n",
      "-----------> DstmDsp <-------------\n",
      "N tot selected: 17.6k\n",
      "N tot expected (before weights): 0.29k\n",
      "Including pileup reweighting\n",
      "Including trigger corrections\n",
      "Including muon ID corrections\n",
      "Including B0 pT corrections\n",
      "Computing total weights\n",
      "N tot expected (after weights): 0.32k\n",
      "\n",
      "-----------> DstPi0 <-------------\n",
      "N tot selected: 49.3k\n",
      "N tot expected (before weights): 1.91k\n",
      "Including pileup reweighting\n",
      "Including trigger corrections\n",
      "Including muon ID corrections\n",
      "Including B0 pT corrections\n",
      "Computing total weights\n",
      "N tot expected (after weights): 2.08k\n",
      "\n",
      "-----------> DstPipPim <-------------\n",
      "N tot selected: 2.0k\n",
      "N tot expected (before weights): 0.11k\n",
      "Including pileup reweighting\n",
      "Including trigger corrections\n",
      "Including muon ID corrections\n",
      "Including B0 pT corrections\n",
      "Computing total weights\n",
      "N tot expected (after weights): 0.11k\n",
      "\n",
      "-----------> DstmDp <-------------\n",
      "N tot selected: 5.8k\n",
      "N tot expected (before weights): 0.06k\n",
      "Including pileup reweighting\n",
      "Including trigger corrections\n",
      "Including muon ID corrections\n",
      "Including B0 pT corrections\n",
      "Computing total weights\n",
      "N tot expected (after weights): 0.08k\n",
      "\n",
      "-----------> BpDstmHc <-------------\n",
      "N tot selected: 2.0k\n",
      "N tot expected (before weights): 0.00k\n",
      "Including pileup reweighting\n",
      "Including trigger corrections\n",
      "Including muon ID corrections\n",
      "Computing total weights\n",
      "N tot expected (after weights): 0.00k\n",
      "\n",
      "-----------> DstPi0Pi0 <-------------\n",
      "N tot selected: 23.3k\n",
      "N tot expected (before weights): 0.20k\n",
      "Including pileup reweighting\n",
      "Including trigger corrections\n",
      "Including muon ID corrections\n",
      "Including B0 pT corrections\n",
      "Computing total weights\n",
      "N tot expected (after weights): 0.22k\n"
     ]
    }
   ],
   "source": [
    "histo = {}\n",
    "for n, ds in dSet.iteritems():\n",
    "    if n == 'data': continue\n",
    "    print '\\n----------->', n, '<-------------'\n",
    "    sMC = MCsample[n]\n",
    "    \n",
    "    nTotSelected = ds['q2'].shape[0]\n",
    "    print 'N tot selected: {:.1f}k'.format(1e-3*nTotSelected)\n",
    "    nGenExp = sMC.effMCgen['xsec'][0] * lumi_tot# * RDoMC_normRatio[0]\n",
    "    eff = [1, 0]\n",
    "    for f, df in [sMC.effMCgen['effGEN'], decayBR[n], sMC.effCand['effCAND'], sMC.getSkimEff(cat.name+'_corr')]:\n",
    "        eff[0] *= f\n",
    "        eff[1] += np.square(df/f)\n",
    "    eff[1] = eff[0] * np.sqrt(eff[1])\n",
    "    nTotExp = nGenExp*eff[0]\n",
    "    print 'N tot expected (before weights): {:.2f}k'.format(1e-3*nTotExp)\n",
    "    \n",
    "    wVar = {}\n",
    "    weights = {}\n",
    "    \n",
    "    print 'Including pileup reweighting'\n",
    "    weights['pileup'] = puReweighter.weightsPileupMC[ds['N_vtx'].astype(np.int)]\n",
    "#     weights['pileup'] = getPileupWeights(ds)\n",
    "    print 'Including trigger corrections'\n",
    "    weights['trg{}SF'.format(cat.trg)], wVar['trg{}SFUp'.format(cat.trg)], wVar['trg{}SFDown'.format(cat.trg)] = computeTrgSF(ds)\n",
    "    print 'Including muon ID corrections'\n",
    "    weights['muonIdSF'], wVar['muonIdSFUp'], wVar['muonIdSFDown'] = computeMuonIDSF(ds)\n",
    "    if n in ['mu', 'tau', 'DstmD0', 'DstmDp', 'DstmDsp','DstPi0', 'DstPipPim', 'DstPi0Pi0']: #B0 dominated final states (probably we should do something about B+ too)\n",
    "        print 'Including B0 pT corrections'\n",
    "        weights['B0pT'], wVar['B0pTUp'], wVar['B0pTDown'] = computeB0pTweights(ds)\n",
    "    # Hammer corrections to the FF\n",
    "    if n in ['mu', 'tau']:\n",
    "        print 'Including FF corrections (Hammer)'\n",
    "        weights['B2DstCLN'] = ds['wh_CLNCentral']*sMC.effCand['rate_den']/sMC.effCand['rate_Central']\n",
    "        for nPar in ['R0', 'R1', 'R2', 'RhoSq']:\n",
    "            for var in ['Up', 'Down']:\n",
    "                tag = 'CLN' + nPar + var\n",
    "                wVar['B2Dst'+tag] = ds['wh_'+tag]/sMC.effCand['rate_' + nPar + var]\n",
    "                wVar['B2Dst'+tag] *= sMC.effCand['rate_Central']/ds['wh_CLNCentral']\n",
    "    #Dstst resonance mix\n",
    "    if n == 'DstPip':\n",
    "        _, wVar['fDststWideUp'], wVar['fDststWideDown'] = computeBrVarWeights(ds, {'MC_munuSisterPdgId': -20423}, 0.6/2.7, keepNorm=True) #Gamma 14 pdg 2020\n",
    "    #Hc mix variations\n",
    "    if n == 'DstmD0':\n",
    "        _, wVar['BrB02DstD0KpUp'], wVar['BrB02DstD0KpDown'] = computeBrVarWeights(ds, {'MC_DstSisterPdgId_heavy': 421, 'MC_DstSisterPdgId_light': 321}, 0.21/2.47) #Gamma 169 pdg 2020\n",
    "        _, wVar['BrB02DstD0KstpUp'], wVar['BrB02DstD0KstpDown'] = computeBrVarWeights(ds, {'MC_DstSisterPdgId_heavy': 421, 'MC_DstSisterPdgId_light': 323}, 0.5) # Guess\n",
    "        _, wVar['BrB02DstDst0KpUp'], wVar['BrB02DstDst0KpDown'] = computeBrVarWeights(ds, {'MC_DstSisterPdgId_heavy': 423, 'MC_DstSisterPdgId_light': 321}, 0.09/1.06) #Gamma 170 pdg 2020\n",
    "        _, wVar['BrB02DstDst0KstpUp'], wVar['BrB02DstDst0KstpDown'] = computeBrVarWeights(ds, {'MC_DstSisterPdgId_heavy': 423, 'MC_DstSisterPdgId_light': 323}, 0.5) # Guess\n",
    "        _, wVar['BrB02DstDstpK0Up'], wVar['BrB02DstDstpK0Down'] = computeBrVarWeights(ds, {'MC_DstSisterPdgId_heavy': 413, 'MC_DstSisterPdgId_light': 311}, 0.5/5.3) #Gamma 173 pdg 2020\n",
    "        _, wVar['BrB02DstDstpKst0Up'], wVar['BrB02DstDstpKst0Down'] = computeBrVarWeights(ds, {'MC_DstSisterPdgId_heavy': 413, 'MC_DstSisterPdgId_light': 313}, 0.5) # Guess\n",
    "    if n == 'DstmDp':\n",
    "        _, wVar['BrB02DstDpK0Up'], wVar['BrB02DstDpK0Down'] = computeBrVarWeights(ds, {'MC_DstSisterPdgId_heavy': 411, 'MC_DstSisterPdgId_light': 311}, 0.5/3.2) #Gamma 172 pdg 2020\n",
    "        _, wVar['BrB02DstDpKst0Up'], wVar['BrB02DstDpKst0Down'] = computeBrVarWeights(ds, {'MC_DstSisterPdgId_heavy': 411, 'MC_DstSisterPdgId_light': 313}, 0.5) # Guess\n",
    "        _, wVar['BrB02DstDstpK0Up'], wVar['BrB02DstDstpK0Down'] = computeBrVarWeights(ds, {'MC_DstSisterPdgId_heavy': 413, 'MC_DstSisterPdgId_light': 311}, 0.2/2.7) #Gamma 173 pdg 2020\n",
    "        _, wVar['BrB02DstDstpKst0Up'], wVar['BrB02DstDstpKst0Down'] = computeBrVarWeights(ds, {'MC_DstSisterPdgId_heavy': 413, 'MC_DstSisterPdgId_light': 313}, 0.5) # Guess\n",
    "    if n == 'DstmDsp':\n",
    "        _, wVar['BrB02DstDsUp'], wVar['BrB02DstDsDown'] = computeBrVarWeights(ds, {'MC_DstSisterPdgId_heavy': 431}, 1.1/8.0) #Gamma 83 pdg 2020\n",
    "        _, wVar['BrB02DstDsstUp'], wVar['BrB02DstDsstDown'] = computeBrVarWeights(ds, {'MC_DstSisterPdgId_heavy': 433}, .14/1.77) #Gamma 85 pdg 2020\n",
    "        _, wVar['BrB02DstDs0stUp'], wVar['BrB02DstDs0stDown'] = computeBrVarWeights(ds, {'MC_DstSisterPdgId_heavy': 10431}, .6/1.5) #Gamma 95 pdg 2020\n",
    "    \n",
    "    print 'Computing total weights'\n",
    "    weightsCentral = np.ones_like(ds['q2'])\n",
    "    for w in weights.values(): weightsCentral *= w\n",
    "    print 'N tot expected (after weights): {:.2f}k'.format(1e-3*nTotExp*np.sum(weightsCentral)/nTotSelected)\n",
    "    wVar[''] = np.ones_like(weightsCentral)\n",
    "    \n",
    "    for i_q2 in range(len(binning['q2'])-1):\n",
    "        q2_l = binning['q2'][i_q2]\n",
    "        q2_h = binning['q2'][i_q2 + 1]\n",
    "        sel_q2 = np.logical_and(ds['q2'] > q2_l, ds['q2'] < q2_h)\n",
    "        for var in ['M2_miss', 'Est_mu']:\n",
    "            cat_name = var+'_q2bin'+str(i_q2)\n",
    "            \n",
    "            if not cat_name in histo.keys():\n",
    "                histo[cat_name] = {}\n",
    "            \n",
    "            for name_wVar, v_wVar in wVar.iteritems():\n",
    "                h_name = n\n",
    "                if not name_wVar == '':\n",
    "                    h_name += '__' + name_wVar\n",
    "                w = weightsCentral*v_wVar\n",
    "                scale = nTotExp/nTotSelected\n",
    "                histo[cat_name][h_name] = create_TH1D(\n",
    "                                                      ds[var][sel_q2], \n",
    "                                                      name=h_name, title=h_name, \n",
    "                                                      binning=binning[var][i_q2], \n",
    "                                                      opt='underflow,overflow',\n",
    "                                                      weights=w[sel_q2], scale_histo=scale,\n",
    "                                                      )"
   ]
  },
  {
   "cell_type": "markdown",
   "metadata": {},
   "source": [
    "### Single track side"
   ]
  },
  {
   "cell_type": "code",
   "execution_count": 20,
   "metadata": {
    "ExecuteTime": {
     "end_time": "2020-07-08T02:45:38.963980Z",
     "start_time": "2020-07-08T02:45:38.883194Z"
    }
   },
   "outputs": [],
   "source": [
    "sideSelecton = {}\n",
    "sideVar = {}\n",
    "sideXtitle = {}\n",
    "sideAddtext = {}\n",
    "\n",
    "def selfun__TkPlus(ds):\n",
    "    sel = np.logical_and(ds['N_goodAddTks'] == 1, ds['tkCharge_0'] > 0)\n",
    "    return sel\n",
    "#     return np.logical_and(np.abs(ds['tkMassHad_0'] - 2.43) < 0.3, sel)\n",
    "sideSelecton['AddTk_p_mHad'] = selfun__TkPlus\n",
    "sideVar['AddTk_p_mHad'] = 'tkMassHad_0'\n",
    "binning['AddTk_p_mHad'] = [35, 2.13, 2.83]\n",
    "sideXtitle['AddTk_p_mHad'] = 'Total hadrons mass'\n",
    "sideAddtext['AddTk_p_mHad'] = 'N_{tk} = 1 & Q_{tk} = +1'\n",
    "\n",
    "def selfun__TkMinus(ds):\n",
    "    sel = np.logical_and(ds['N_goodAddTks'] == 1, ds['tkCharge_0'] < 0)\n",
    "    return sel\n",
    "sideSelecton['AddTk_m_mHad'] = selfun__TkMinus\n",
    "sideVar['AddTk_m_mHad'] = 'tkMassHad_0'\n",
    "binning['AddTk_m_mHad'] = [30, 2.1, 3.3]\n",
    "sideXtitle['AddTk_m_mHad'] = 'Total hadrons mass'\n",
    "sideAddtext['AddTk_m_mHad'] = 'N_{tk} = 1 & Q_{tk} = -1'\n",
    "\n",
    "# sideSelecton['AddTk_m_tkPt'] = selfun__TkMinus\n",
    "# sideVar['AddTk_m_tkPt'] = 'tkPt_0'\n",
    "# binning['AddTk_m_tkPt'] = np.logspace(np.log10(0.5), np.log10(5.0), 30)\n",
    "# sideXtitle['AddTk_m_tkPt'] = 'Additional track p_{T}'\n",
    "# sideAddtext['AddTk_m_tkPt'] = 'N_{tk} = 1 & Q_{tk} = -1'\n",
    "\n",
    "\n",
    "def selfun__TkPlusMinus(ds):\n",
    "    sel = np.logical_and(ds['tkCharge_0']+ds['tkCharge_1'] == 0, ds['N_goodAddTks'] == 2)\n",
    "    sel = np.logical_and(ds['tkMassVis12'] < 5.3, sel)\n",
    "    return sel\n",
    "sideSelecton['AddTk_pm_mVis'] = selfun__TkPlusMinus\n",
    "sideVar['AddTk_pm_mVis'] = 'tkMassVis12'\n",
    "binning['AddTk_pm_mVis'] = array('d', [2.8] + list(np.arange(3., 5.3, 0.1)) + [5.3] )\n",
    "sideXtitle['AddTk_pm_mVis'] = 'Total visible mass'\n",
    "sideAddtext['AddTk_pm_mVis'] = 'N_{tk} = 2 & #sumQ_{tk} = 0'\n",
    "\n",
    "\n",
    "sideSelecton['AddTk_pm_mHad'] = selfun__TkPlusMinus\n",
    "sideVar['AddTk_pm_mHad'] = 'tkMassHad12'\n",
    "binning['AddTk_pm_mHad'] = [30, 2.3, 3.75]\n",
    "sideXtitle['AddTk_pm_mHad'] = 'Total hadrons mass'\n",
    "sideAddtext['AddTk_pm_mHad'] = 'N_{tk} = 2 & #sumQ_{tk} = 0'\n",
    "\n",
    "def selfun__TkMinusMinus(ds):\n",
    "    sel = np.logical_and(ds['tkCharge_0']+ds['tkCharge_1'] == -2, ds['N_goodAddTks'] == 2)\n",
    "    sel = np.logical_and(ds['tkMassVis12'] < 5.3, sel)\n",
    "    return sel\n",
    "sideSelecton['AddTk_mm_mHad'] = selfun__TkMinusMinus\n",
    "sideVar['AddTk_mm_mHad'] = 'tkMassHad12'\n",
    "binning['AddTk_mm_mHad'] = [15, 2.25, 3.6]\n",
    "sideXtitle['AddTk_mm_mHad'] = 'Total hadrons mass'\n",
    "sideAddtext['AddTk_mm_mHad'] = 'N_{tk} = 2 & #sumQ_{tk} = -2'\n",
    "\n",
    "def selfun__TkPlusPlus(ds):\n",
    "    sel = np.logical_and(ds['tkCharge_0']+ds['tkCharge_1'] == +2, ds['N_goodAddTks'] == 2)\n",
    "    sel = np.logical_and(ds['tkMassVis12'] < 5.3, sel)\n",
    "    return sel\n",
    "sideSelecton['AddTk_pp_mHad'] = selfun__TkPlusPlus\n",
    "sideVar['AddTk_pp_mHad'] = 'tkMassHad12'\n",
    "binning['AddTk_pp_mHad'] = [15, 2.25, 3.75]\n",
    "sideXtitle['AddTk_pp_mHad'] = 'Total hadrons mass'\n",
    "sideAddtext['AddTk_pp_mHad'] = 'N_{tk} = 2 & #sumQ_{tk} = +2'"
   ]
  },
  {
   "cell_type": "code",
   "execution_count": 21,
   "metadata": {
    "ExecuteTime": {
     "end_time": "2020-07-08T02:45:39.609279Z",
     "start_time": "2020-07-08T02:45:38.969030Z"
    },
    "scrolled": true
   },
   "outputs": [
    {
     "name": "stdout",
     "output_type": "stream",
     "text": [
      "\n",
      "-----------> tau <-------------\n",
      "Including pileup reweighting\n",
      "Including trigger corrections\n",
      "Including muon ID corrections\n",
      "Including B0 pT corrections\n",
      "Including FF corrections (Hammer)\n",
      "Computing total weights\n",
      "N tot selected AddTk_pm_mHad: 148\n",
      "N tot expected AddTk_pm_mHad (before weights): 6\n",
      "N tot expected AddTk_pm_mHad (after weights): 15\n",
      "N tot selected AddTk_m_mHad: 1883\n",
      "N tot expected AddTk_m_mHad (before weights): 71\n",
      "N tot expected AddTk_m_mHad (after weights): 100\n",
      "N tot selected AddTk_p_mHad: 2160\n",
      "N tot expected AddTk_p_mHad (before weights): 82\n",
      "N tot expected AddTk_p_mHad (after weights): 119\n",
      "N tot selected AddTk_pp_mHad: 68\n",
      "N tot expected AddTk_pp_mHad (before weights): 3\n",
      "N tot expected AddTk_pp_mHad (after weights): 5\n",
      "N tot selected AddTk_mm_mHad: 51\n",
      "N tot expected AddTk_mm_mHad (before weights): 2\n",
      "N tot expected AddTk_mm_mHad (after weights): 4\n",
      "N tot selected AddTk_pm_mVis: 148\n",
      "N tot expected AddTk_pm_mVis (before weights): 6\n",
      "N tot expected AddTk_pm_mVis (after weights): 15\n",
      "\n",
      "-----------> DstmD0 <-------------\n",
      "Including pileup reweighting\n",
      "Including trigger corrections\n",
      "Including muon ID corrections\n",
      "Including B0 pT corrections\n",
      "Computing total weights\n",
      "N tot selected AddTk_pm_mHad: 3998\n",
      "N tot expected AddTk_pm_mHad (before weights): 74\n",
      "N tot expected AddTk_pm_mHad (after weights): 88\n",
      "N tot selected AddTk_m_mHad: 838\n",
      "N tot expected AddTk_m_mHad (before weights): 16\n",
      "N tot expected AddTk_m_mHad (after weights): 18\n",
      "N tot selected AddTk_p_mHad: 2038\n",
      "N tot expected AddTk_p_mHad (before weights): 38\n",
      "N tot expected AddTk_p_mHad (after weights): 44\n",
      "N tot selected AddTk_pp_mHad: 88\n",
      "N tot expected AddTk_pp_mHad (before weights): 2\n",
      "N tot expected AddTk_pp_mHad (after weights): 2\n",
      "N tot selected AddTk_mm_mHad: 22\n",
      "N tot expected AddTk_mm_mHad (before weights): 0\n",
      "N tot expected AddTk_mm_mHad (after weights): 1\n",
      "N tot selected AddTk_pm_mVis: 3998\n",
      "N tot expected AddTk_pm_mVis (before weights): 74\n",
      "N tot expected AddTk_pm_mVis (after weights): 88\n",
      "\n",
      "-----------> BmDstmHc <-------------\n",
      "Including pileup reweighting\n",
      "Including trigger corrections\n",
      "Including muon ID corrections\n",
      "Computing total weights\n",
      "N tot selected AddTk_pm_mHad: 117\n",
      "N tot expected AddTk_pm_mHad (before weights): 3\n",
      "N tot expected AddTk_pm_mHad (after weights): 4\n",
      "N tot selected AddTk_m_mHad: 1778\n",
      "N tot expected AddTk_m_mHad (before weights): 52\n",
      "N tot expected AddTk_m_mHad (after weights): 54\n",
      "N tot selected AddTk_p_mHad: 52\n",
      "N tot expected AddTk_p_mHad (before weights): 2\n",
      "N tot expected AddTk_p_mHad (after weights): 2\n",
      "N tot selected AddTk_pp_mHad: 1\n",
      "N tot expected AddTk_pp_mHad (before weights): 0\n",
      "N tot expected AddTk_pp_mHad (after weights): 0\n",
      "N tot selected AddTk_mm_mHad: 62\n",
      "N tot expected AddTk_mm_mHad (before weights): 2\n",
      "N tot expected AddTk_mm_mHad (after weights): 2\n",
      "N tot selected AddTk_pm_mVis: 117\n",
      "N tot expected AddTk_pm_mVis (before weights): 3\n",
      "N tot expected AddTk_pm_mVis (after weights): 4\n",
      "\n",
      "-----------> DstPipPi0 <-------------\n",
      "Including pileup reweighting\n",
      "Including trigger corrections\n",
      "Including muon ID corrections\n",
      "Computing total weights\n",
      "N tot selected AddTk_pm_mHad: 275\n",
      "N tot expected AddTk_pm_mHad (before weights): 12\n",
      "N tot expected AddTk_pm_mHad (after weights): 18\n",
      "N tot selected AddTk_m_mHad: 149\n",
      "N tot expected AddTk_m_mHad (before weights): 6\n",
      "N tot expected AddTk_m_mHad (after weights): 10\n",
      "N tot selected AddTk_p_mHad: 6548\n",
      "N tot expected AddTk_p_mHad (before weights): 285\n",
      "N tot expected AddTk_p_mHad (after weights): 302\n",
      "N tot selected AddTk_pp_mHad: 197\n",
      "N tot expected AddTk_pp_mHad (before weights): 9\n",
      "N tot expected AddTk_pp_mHad (after weights): 13\n",
      "N tot selected AddTk_mm_mHad: 6\n",
      "N tot expected AddTk_mm_mHad (before weights): 0\n",
      "N tot expected AddTk_mm_mHad (after weights): 0\n",
      "N tot selected AddTk_pm_mVis: 275\n",
      "N tot expected AddTk_pm_mVis (before weights): 12\n",
      "N tot expected AddTk_pm_mVis (after weights): 18\n",
      "\n",
      "-----------> DstPip <-------------\n",
      "Including pileup reweighting\n",
      "Including trigger corrections\n",
      "Including muon ID corrections\n",
      "Computing total weights\n",
      "N tot selected AddTk_pm_mHad: 2586\n",
      "N tot expected AddTk_pm_mHad (before weights): 108\n",
      "N tot expected AddTk_pm_mHad (after weights): 166\n",
      "N tot selected AddTk_m_mHad: 1767\n",
      "N tot expected AddTk_m_mHad (before weights): 74\n",
      "N tot expected AddTk_m_mHad (after weights): 104\n",
      "N tot selected AddTk_p_mHad: 62441\n",
      "N tot expected AddTk_p_mHad (before weights): 2601\n",
      "N tot expected AddTk_p_mHad (after weights): 2744\n",
      "N tot selected AddTk_pp_mHad: 1817\n",
      "N tot expected AddTk_pp_mHad (before weights): 76\n",
      "N tot expected AddTk_pp_mHad (after weights): 97\n",
      "N tot selected AddTk_mm_mHad: 63\n",
      "N tot expected AddTk_mm_mHad (before weights): 3\n",
      "N tot expected AddTk_mm_mHad (after weights): 4\n",
      "N tot selected AddTk_pm_mVis: 2586\n",
      "N tot expected AddTk_pm_mVis (before weights): 108\n",
      "N tot expected AddTk_pm_mVis (after weights): 166\n",
      "\n",
      "-----------> antiB0DstmHc <-------------\n",
      "Including pileup reweighting\n",
      "Including trigger corrections\n",
      "Including muon ID corrections\n",
      "Computing total weights\n",
      "N tot selected AddTk_pm_mHad: 582\n",
      "N tot expected AddTk_pm_mHad (before weights): 20\n",
      "N tot expected AddTk_pm_mHad (after weights): 21\n",
      "N tot selected AddTk_m_mHad: 192\n",
      "N tot expected AddTk_m_mHad (before weights): 7\n",
      "N tot expected AddTk_m_mHad (after weights): 8\n",
      "N tot selected AddTk_p_mHad: 327\n",
      "N tot expected AddTk_p_mHad (before weights): 11\n",
      "N tot expected AddTk_p_mHad (after weights): 11\n",
      "N tot selected AddTk_pp_mHad: 10\n",
      "N tot expected AddTk_pp_mHad (before weights): 0\n",
      "N tot expected AddTk_pp_mHad (after weights): 0\n",
      "N tot selected AddTk_mm_mHad: 8\n",
      "N tot expected AddTk_mm_mHad (before weights): 0\n",
      "N tot expected AddTk_mm_mHad (after weights): 1\n",
      "N tot selected AddTk_pm_mVis: 582\n",
      "N tot expected AddTk_pm_mVis (before weights): 20\n",
      "N tot expected AddTk_pm_mVis (after weights): 21\n",
      "\n",
      "-----------> mu <-------------\n",
      "Including pileup reweighting\n",
      "Including trigger corrections\n",
      "Including muon ID corrections\n",
      "Including B0 pT corrections\n",
      "Including FF corrections (Hammer)\n",
      "Computing total weights\n",
      "N tot selected AddTk_pm_mHad: 2102\n",
      "N tot expected AddTk_pm_mHad (before weights): 160\n",
      "N tot expected AddTk_pm_mHad (after weights): 339\n",
      "N tot selected AddTk_m_mHad: 24559\n",
      "N tot expected AddTk_m_mHad (before weights): 1870\n",
      "N tot expected AddTk_m_mHad (after weights): 2386\n",
      "N tot selected AddTk_p_mHad: 27790\n",
      "N tot expected AddTk_p_mHad (before weights): 2116\n",
      "N tot expected AddTk_p_mHad (after weights): 2819\n",
      "N tot selected AddTk_pp_mHad: 963\n",
      "N tot expected AddTk_pp_mHad (before weights): 73\n",
      "N tot expected AddTk_pp_mHad (after weights): 129\n",
      "N tot selected AddTk_mm_mHad: 731\n",
      "N tot expected AddTk_mm_mHad (before weights): 56\n",
      "N tot expected AddTk_mm_mHad (after weights): 100\n",
      "N tot selected AddTk_pm_mVis: 2102\n",
      "N tot expected AddTk_pm_mVis (before weights): 160\n",
      "N tot expected AddTk_pm_mVis (after weights): 339\n",
      "\n",
      "-----------> DstmDsp <-------------\n",
      "Including pileup reweighting\n",
      "Including trigger corrections\n",
      "Including muon ID corrections\n",
      "Including B0 pT corrections\n",
      "Computing total weights\n",
      "N tot selected AddTk_pm_mHad: 2261\n",
      "N tot expected AddTk_pm_mHad (before weights): 37\n",
      "N tot expected AddTk_pm_mHad (after weights): 46\n",
      "N tot selected AddTk_m_mHad: 1639\n",
      "N tot expected AddTk_m_mHad (before weights): 27\n",
      "N tot expected AddTk_m_mHad (after weights): 33\n",
      "N tot selected AddTk_p_mHad: 1784\n",
      "N tot expected AddTk_p_mHad (before weights): 29\n",
      "N tot expected AddTk_p_mHad (after weights): 37\n",
      "N tot selected AddTk_pp_mHad: 77\n",
      "N tot expected AddTk_pp_mHad (before weights): 1\n",
      "N tot expected AddTk_pp_mHad (after weights): 2\n",
      "N tot selected AddTk_mm_mHad: 64\n",
      "N tot expected AddTk_mm_mHad (before weights): 1\n",
      "N tot expected AddTk_mm_mHad (after weights): 1\n",
      "N tot selected AddTk_pm_mVis: 2261\n",
      "N tot expected AddTk_pm_mVis (before weights): 37\n",
      "N tot expected AddTk_pm_mVis (after weights): 46\n",
      "\n",
      "-----------> DstPi0 <-------------\n",
      "Including pileup reweighting\n",
      "Including trigger corrections\n",
      "Including muon ID corrections\n",
      "Including B0 pT corrections\n",
      "Computing total weights\n",
      "N tot selected AddTk_pm_mHad: 229\n",
      "N tot expected AddTk_pm_mHad (before weights): 9\n",
      "N tot expected AddTk_pm_mHad (after weights): 18\n",
      "N tot selected AddTk_m_mHad: 2161\n",
      "N tot expected AddTk_m_mHad (before weights): 84\n",
      "N tot expected AddTk_m_mHad (after weights): 110\n",
      "N tot selected AddTk_p_mHad: 2331\n",
      "N tot expected AddTk_p_mHad (before weights): 90\n",
      "N tot expected AddTk_p_mHad (after weights): 123\n",
      "N tot selected AddTk_pp_mHad: 90\n",
      "N tot expected AddTk_pp_mHad (before weights): 3\n",
      "N tot expected AddTk_pp_mHad (after weights): 7\n",
      "N tot selected AddTk_mm_mHad: 67\n",
      "N tot expected AddTk_mm_mHad (before weights): 3\n",
      "N tot expected AddTk_mm_mHad (after weights): 6\n",
      "N tot selected AddTk_pm_mVis: 229\n",
      "N tot expected AddTk_pm_mVis (before weights): 9\n",
      "N tot expected AddTk_pm_mVis (after weights): 18\n",
      "\n",
      "-----------> DstPipPim <-------------\n",
      "Including pileup reweighting\n",
      "Including trigger corrections\n",
      "Including muon ID corrections\n",
      "Including B0 pT corrections\n",
      "Computing total weights\n",
      "N tot selected AddTk_pm_mHad: 5920\n",
      "N tot expected AddTk_pm_mHad (before weights): 307\n",
      "N tot expected AddTk_pm_mHad (after weights): 349\n",
      "N tot selected AddTk_m_mHad: 2771\n",
      "N tot expected AddTk_m_mHad (before weights): 144\n",
      "N tot expected AddTk_m_mHad (after weights): 155\n",
      "N tot selected AddTk_p_mHad: 3188\n",
      "N tot expected AddTk_p_mHad (before weights): 165\n",
      "N tot expected AddTk_p_mHad (after weights): 176\n",
      "N tot selected AddTk_pp_mHad: 116\n",
      "N tot expected AddTk_pp_mHad (before weights): 6\n",
      "N tot expected AddTk_pp_mHad (after weights): 9\n",
      "N tot selected AddTk_mm_mHad: 76\n",
      "N tot expected AddTk_mm_mHad (before weights): 4\n",
      "N tot expected AddTk_mm_mHad (after weights): 5\n",
      "N tot selected AddTk_pm_mVis: 5920\n",
      "N tot expected AddTk_pm_mVis (before weights): 307\n",
      "N tot expected AddTk_pm_mVis (after weights): 349\n",
      "\n",
      "-----------> DstmDp <-------------\n",
      "Including pileup reweighting\n",
      "Including trigger corrections\n",
      "Including muon ID corrections\n",
      "Including B0 pT corrections\n",
      "Computing total weights\n",
      "N tot selected AddTk_pm_mHad: 1749\n",
      "N tot expected AddTk_pm_mHad (before weights): 19\n",
      "N tot expected AddTk_pm_mHad (after weights): 24\n",
      "N tot selected AddTk_m_mHad: 735\n",
      "N tot expected AddTk_m_mHad (before weights): 8\n",
      "N tot expected AddTk_m_mHad (after weights): 10\n",
      "N tot selected AddTk_p_mHad: 911\n",
      "N tot expected AddTk_p_mHad (before weights): 10\n",
      "N tot expected AddTk_p_mHad (after weights): 13\n",
      "N tot selected AddTk_pp_mHad: 43\n",
      "N tot expected AddTk_pp_mHad (before weights): 0\n",
      "N tot expected AddTk_pp_mHad (after weights): 1\n",
      "N tot selected AddTk_mm_mHad: 19\n",
      "N tot expected AddTk_mm_mHad (before weights): 0\n",
      "N tot expected AddTk_mm_mHad (after weights): 0\n",
      "N tot selected AddTk_pm_mVis: 1749\n",
      "N tot expected AddTk_pm_mVis (before weights): 19\n",
      "N tot expected AddTk_pm_mVis (after weights): 24\n",
      "\n",
      "-----------> BpDstmHc <-------------\n",
      "Including pileup reweighting\n"
     ]
    },
    {
     "name": "stdout",
     "output_type": "stream",
     "text": [
      "Including trigger corrections\n",
      "Including muon ID corrections\n",
      "Computing total weights\n",
      "N tot selected AddTk_pm_mHad: 977\n",
      "N tot expected AddTk_pm_mHad (before weights): 1\n",
      "N tot expected AddTk_pm_mHad (after weights): 2\n",
      "N tot selected AddTk_m_mHad: 196\n",
      "N tot expected AddTk_m_mHad (before weights): 0\n",
      "N tot expected AddTk_m_mHad (after weights): 0\n",
      "N tot selected AddTk_p_mHad: 4523\n",
      "N tot expected AddTk_p_mHad (before weights): 7\n",
      "N tot expected AddTk_p_mHad (after weights): 7\n",
      "N tot selected AddTk_pp_mHad: 980\n",
      "N tot expected AddTk_pp_mHad (before weights): 1\n",
      "N tot expected AddTk_pp_mHad (after weights): 2\n",
      "N tot selected AddTk_mm_mHad: 4\n",
      "N tot expected AddTk_mm_mHad (before weights): 0\n",
      "N tot expected AddTk_mm_mHad (after weights): 0\n",
      "N tot selected AddTk_pm_mVis: 977\n",
      "N tot expected AddTk_pm_mVis (before weights): 1\n",
      "N tot expected AddTk_pm_mVis (after weights): 2\n",
      "\n",
      "-----------> DstPi0Pi0 <-------------\n",
      "Including pileup reweighting\n",
      "Including trigger corrections\n",
      "Including muon ID corrections\n",
      "Including B0 pT corrections\n",
      "Computing total weights\n",
      "N tot selected AddTk_pm_mHad: 99\n",
      "N tot expected AddTk_pm_mHad (before weights): 1\n",
      "N tot expected AddTk_pm_mHad (after weights): 2\n",
      "N tot selected AddTk_m_mHad: 956\n",
      "N tot expected AddTk_m_mHad (before weights): 8\n",
      "N tot expected AddTk_m_mHad (after weights): 10\n",
      "N tot selected AddTk_p_mHad: 1082\n",
      "N tot expected AddTk_p_mHad (before weights): 9\n",
      "N tot expected AddTk_p_mHad (after weights): 11\n",
      "N tot selected AddTk_pp_mHad: 41\n",
      "N tot expected AddTk_pp_mHad (before weights): 0\n",
      "N tot expected AddTk_pp_mHad (after weights): 1\n",
      "N tot selected AddTk_mm_mHad: 31\n",
      "N tot expected AddTk_mm_mHad (before weights): 0\n",
      "N tot expected AddTk_mm_mHad (after weights): 0\n",
      "N tot selected AddTk_pm_mVis: 99\n",
      "N tot expected AddTk_pm_mVis (before weights): 1\n",
      "N tot expected AddTk_pm_mVis (after weights): 2\n"
     ]
    }
   ],
   "source": [
    "for k in sideSelecton.keys():\n",
    "    histo[k] = {}\n",
    "\n",
    "for n, ds in dSetTkSide.iteritems():\n",
    "    if n == 'data': continue\n",
    "    print '\\n----------->', n, '<-------------'\n",
    "    sMC = MCsample[n]    \n",
    "    wVar = {}\n",
    "    weights = {}\n",
    "    \n",
    "    print 'Including pileup reweighting'\n",
    "    weights['pileup'] = puReweighter.weightsPileupMC[ds['N_vtx'].astype(np.int)]\n",
    "#     weights['pileup'] = getPileupWeights(ds)\n",
    "    print 'Including trigger corrections'\n",
    "    weights['trg{}SF'.format(cat.trg)], wVar['trg{}SFUp'.format(cat.trg)], wVar['trg{}SFDown'.format(cat.trg)] = computeTrgSF(ds)\n",
    "    print 'Including muon ID corrections'\n",
    "    weights['muonIdSF'], wVar['muonIdSFUp'], wVar['muonIdSFDown'] = computeMuonIDSF(ds)\n",
    "    if n in ['mu', 'tau', 'DstmD0', 'DstmDp', 'DstmDsp','DstPi0', 'DstPipPim', 'DstPi0Pi0']: #B0 dominated final states (probably we should do something about B+ too)\n",
    "        print 'Including B0 pT corrections'\n",
    "        weights['B0pT'], wVar['B0pTUp'], wVar['B0pTDown'] = computeB0pTweights(ds)\n",
    "    # Hammer corrections to the FF\n",
    "    if n in ['mu', 'tau']:\n",
    "        print 'Including FF corrections (Hammer)'\n",
    "        weights['B2DstCLN'] = ds['wh_CLNCentral']*sMC.effCand['rate_den']/sMC.effCand['rate_Central']\n",
    "        for nPar in ['R0', 'R1', 'R2', 'RhoSq']:\n",
    "            for var in ['Up', 'Down']:\n",
    "                tag = 'CLN' + nPar + var\n",
    "                wVar['B2Dst'+tag] = ds['wh_'+tag]/sMC.effCand['rate_' + nPar + var]\n",
    "                wVar['B2Dst'+tag] *= sMC.effCand['rate_Central']/ds['wh_CLNCentral']\n",
    "    #Dstst resonance mix\n",
    "    if n == 'DstPip':\n",
    "        _, wVar['fDststWideUp'], wVar['fDststWideDown'] = computeBrVarWeights(ds, {'MC_munuSisterPdgId': -20423}, 0.6/2.7, keepNorm=True) #Gamma 14 pdg 2020\n",
    "    #Hc mix variations\n",
    "    if n == 'DstmD0':\n",
    "        _, wVar['BrB02DstD0KpUp'], wVar['BrB02DstD0KpDown'] = computeBrVarWeights(ds, {'MC_DstSisterPdgId_heavy': 421, 'MC_DstSisterPdgId_light': 321}, 0.21/2.47) #Gamma 169 pdg 2020\n",
    "        _, wVar['BrB02DstD0KstpUp'], wVar['BrB02DstD0KstpDown'] = computeBrVarWeights(ds, {'MC_DstSisterPdgId_heavy': 421, 'MC_DstSisterPdgId_light': 323}, 0.5) # Guess\n",
    "        _, wVar['BrB02DstDst0KpUp'], wVar['BrB02DstDst0KpDown'] = computeBrVarWeights(ds, {'MC_DstSisterPdgId_heavy': 423, 'MC_DstSisterPdgId_light': 321}, 0.09/1.06) #Gamma 170 pdg 2020\n",
    "        _, wVar['BrB02DstDst0KstpUp'], wVar['BrB02DstDst0KstpDown'] = computeBrVarWeights(ds, {'MC_DstSisterPdgId_heavy': 423, 'MC_DstSisterPdgId_light': 323}, 0.5) # Guess\n",
    "        _, wVar['BrB02DstDstpK0Up'], wVar['BrB02DstDstpK0Down'] = computeBrVarWeights(ds, {'MC_DstSisterPdgId_heavy': 413, 'MC_DstSisterPdgId_light': 311}, 0.5/5.3) #Gamma 173 pdg 2020\n",
    "        _, wVar['BrB02DstDstpKst0Up'], wVar['BrB02DstDstpKst0Down'] = computeBrVarWeights(ds, {'MC_DstSisterPdgId_heavy': 413, 'MC_DstSisterPdgId_light': 313}, 0.5) # Guess\n",
    "    if n == 'DstmDp':\n",
    "        _, wVar['BrB02DstDpK0Up'], wVar['BrB02DstDpK0Down'] = computeBrVarWeights(ds, {'MC_DstSisterPdgId_heavy': 411, 'MC_DstSisterPdgId_light': 311}, 0.5/3.2) #Gamma 172 pdg 2020\n",
    "        _, wVar['BrB02DstDpKst0Up'], wVar['BrB02DstDpKst0Down'] = computeBrVarWeights(ds, {'MC_DstSisterPdgId_heavy': 411, 'MC_DstSisterPdgId_light': 313}, 0.5) # Guess\n",
    "        _, wVar['BrB02DstDstpK0Up'], wVar['BrB02DstDstpK0Down'] = computeBrVarWeights(ds, {'MC_DstSisterPdgId_heavy': 413, 'MC_DstSisterPdgId_light': 311}, 0.2/2.7) #Gamma 173 pdg 2020\n",
    "        _, wVar['BrB02DstDstpKst0Up'], wVar['BrB02DstDstpKst0Down'] = computeBrVarWeights(ds, {'MC_DstSisterPdgId_heavy': 413, 'MC_DstSisterPdgId_light': 313}, 0.5) # Guess\n",
    "    if n == 'DstmDsp':\n",
    "        _, wVar['BrB02DstDsUp'], wVar['BrB02DstDsDown'] = computeBrVarWeights(ds, {'MC_DstSisterPdgId_heavy': 431}, 1.1/8.0) #Gamma 83 pdg 2020\n",
    "        _, wVar['BrB02DstDsstUp'], wVar['BrB02DstDsstDown'] = computeBrVarWeights(ds, {'MC_DstSisterPdgId_heavy': 433}, .14/1.77) #Gamma 85 pdg 2020\n",
    "        _, wVar['BrB02DstDs0stUp'], wVar['BrB02DstDs0stDown'] = computeBrVarWeights(ds, {'MC_DstSisterPdgId_heavy': 10431}, .6/1.5) #Gamma 95 pdg 2020\n",
    "        \n",
    "    # Correct the amount of random tracks from PV\n",
    "    weights['tkPVfrac'], wVar['tkPVfracUp'], wVar['tkPVfracDown'] = computeTksPVweights(ds)\n",
    "    \n",
    "    print 'Computing total weights'\n",
    "    weightsCentral = np.ones_like(ds['q2'])\n",
    "    for w in weights.values(): \n",
    "        weightsCentral *= w\n",
    "    wVar[''] = np.ones_like(weightsCentral)\n",
    "    \n",
    "    nGenExp = sMC.effMCgen['xsec'][0] * lumi_tot# * RDoMC_normRatio[0]\n",
    "    eff = [1, 0]\n",
    "    for f, df in [sMC.effMCgen['effGEN'], \n",
    "                  decayBR[n], \n",
    "                  sMC.effCand['effCAND'], \n",
    "                  sMC.getSkimEff(cat.name+'_trkCtrl_corr'),\n",
    "                 ]:\n",
    "        eff[0] *= f\n",
    "        eff[1] += np.square(df/f)\n",
    "    eff[1] = eff[0] * np.sqrt(eff[1])\n",
    "    nTotExp = nGenExp*eff[0]\n",
    "    \n",
    "    sel = {}\n",
    "    scale = {}\n",
    "    \n",
    "    for k, selFun in sideSelecton.iteritems():\n",
    "        sel[k] = selFun(ds)\n",
    "        nTotSel = float(np.sum(sel[k]))\n",
    "        print 'N tot selected {}: {:.0f}'.format(k, nTotSel)\n",
    "        nExp = nTotExp * nTotSel / sel[k].shape[0]\n",
    "        print 'N tot expected {} (before weights): {:.0f}'.format(k, nExp)\n",
    "        nAux = nTotExp * np.sum(weightsCentral[sel[k]]) / sel[k].shape[0]\n",
    "        print 'N tot expected {} (after weights): {:.0f}'.format(k, nAux)\n",
    "        scale[k] = nExp/nTotSel\n",
    "    \n",
    "            \n",
    "    for name_wVar, v_wVar in wVar.iteritems():\n",
    "        h_name = n\n",
    "        if not name_wVar == '':\n",
    "            h_name += '__' + name_wVar\n",
    "        w = weightsCentral*v_wVar\n",
    "        \n",
    "        for k in sideVar.keys():\n",
    "            histo[k][h_name] = create_TH1D(\n",
    "                                           ds[sideVar[k]][sel[k]], \n",
    "                                           name=h_name, title=h_name, \n",
    "                                           binning=binning[k],\n",
    "                                           opt='underflow',\n",
    "                                           weights=w[sel[k]], scale_histo=scale[k]\n",
    "                                          )"
   ]
  },
  {
   "cell_type": "markdown",
   "metadata": {
    "heading_collapsed": true
   },
   "source": [
    "# Create (pseudo-)data histogram"
   ]
  },
  {
   "cell_type": "code",
   "execution_count": 22,
   "metadata": {
    "ExecuteTime": {
     "end_time": "2020-07-08T02:45:39.700620Z",
     "start_time": "2020-07-08T02:45:39.613874Z"
    },
    "hidden": true
   },
   "outputs": [
    {
     "name": "stdout",
     "output_type": "stream",
     "text": [
      "N observed data: 164.1k\n"
     ]
    }
   ],
   "source": [
    "if fit_real_data:\n",
    "    ds = dSet['data']\n",
    "    print 'N observed data: {:.1f}k'.format(1e-3*ds['q2'].shape[0])\n",
    "    for i_q2 in range(len(binning['q2'])-1):\n",
    "        q2_l = binning['q2'][i_q2]\n",
    "        q2_h = binning['q2'][i_q2 + 1]\n",
    "        sel_q2 = np.logical_and(ds['q2'] > q2_l, ds['q2'] < q2_h)\n",
    "        for var in ['M2_miss', 'Est_mu']:\n",
    "            cat_name = var+'_q2bin'+str(i_q2)     \n",
    "            histo[cat_name]['data'] = create_TH1D(\n",
    "                                                  ds[var][sel_q2], \n",
    "                                                  name='data_obs', title='Data Obs',\n",
    "                                                  binning=binning[var][i_q2],\n",
    "                                                  opt='underflow,overflow'\n",
    "                                                 )\n",
    "    ds = dSetTkSide['data']\n",
    "    for k in sideVar.keys():\n",
    "        histo[k]['data'] = create_TH1D(\n",
    "                                       ds[sideVar[k]][sideSelecton[k](ds)], \n",
    "                                       name='data_obs', title='Data Obs', \n",
    "                                       binning=binning[k],\n",
    "                                       opt='underflow',\n",
    "                                      )\n",
    "        \n",
    "else:\n",
    "    for i_q2 in range(len(binning['q2'])-1):\n",
    "        for var in ['M2_miss', 'Est_mu']:\n",
    "            cat_name = var+'_q2bin'+str(i_q2)\n",
    "            \n",
    "            h = create_TH1D(np.array([0, 0]), name='data_obs', title='Data Obs', binning=binning[var][i_q2])\n",
    "            h.Reset()\n",
    "            for n, hMC in histo[cat_name].iteritems():\n",
    "                if not '__' in n and not n == 'data':\n",
    "                    scale = SM_RDst if 'tau' in n else 1.\n",
    "                    h.Add(hMC, scale)\n",
    "            h.Sumw2(0)\n",
    "            for i in range(1, h.GetNbinsX()+1):\n",
    "                h.SetBinContent(i, np.around(h.GetBinContent(i)))\n",
    "            h.Sumw2()\n",
    "            histo[cat_name]['data'] = h\n",
    "            \n",
    "    for k in sideVar.keys():\n",
    "        h = create_TH1D(np.array([0, 0]), name='data_obs', title='Data Obs', \n",
    "                        binning=binning[k])\n",
    "        h.Reset()\n",
    "        for n, hMC in histo[k].iteritems():\n",
    "            if not '__' in n and not n == 'data':\n",
    "                scale = SM_RDst if 'tau' in n else 1.\n",
    "                h.Add(hMC, scale)\n",
    "        h.Sumw2(0)\n",
    "        for i in range(1, h.GetNbinsX()+1):\n",
    "            h.SetBinContent(i, np.around(h.GetBinContent(i)))\n",
    "        h.Sumw2()\n",
    "        histo[k]['data'] = h"
   ]
  },
  {
   "cell_type": "code",
   "execution_count": 23,
   "metadata": {
    "ExecuteTime": {
     "end_time": "2020-07-08T02:45:40.327891Z",
     "start_time": "2020-07-08T02:45:39.705198Z"
    },
    "hidden": true,
    "scrolled": false
   },
   "outputs": [
    {
     "data": {
      "image/png": "[encoded data removed]",
      "text/plain": [
       "<IPython.core.display.Image object>"
      ]
     },
     "metadata": {},
     "output_type": "display_data"
    }
   ],
   "source": [
    "CMS_lumi.integrated_lumi = lumi_tot\n",
    "scale_dic = {'tau': SM_RDst\n",
    "            }\n",
    "\n",
    "cSigPre = plot_gridVarQ2(CMS_lumi, binning, histo, scale_dic=scale_dic, min_y=1, logy=False)"
   ]
  },
  {
   "cell_type": "code",
   "execution_count": 24,
   "metadata": {
    "ExecuteTime": {
     "end_time": "2020-07-08T02:45:40.636784Z",
     "start_time": "2020-07-08T02:45:40.332547Z"
    },
    "hidden": true,
    "scrolled": true
   },
   "outputs": [
    {
     "data": {
      "image/png": "[encoded data removed]",
      "text/plain": [
       "<IPython.core.display.Image object>"
      ]
     },
     "metadata": {},
     "output_type": "display_data"
    },
    {
     "data": {
      "image/png": "[encoded data removed]",
      "text/plain": [
       "<IPython.core.display.Image object>"
      ]
     },
     "metadata": {},
     "output_type": "display_data"
    },
    {
     "data": {
      "image/png": "[encoded data removed]",
      "text/plain": [
       "<IPython.core.display.Image object>"
      ]
     },
     "metadata": {},
     "output_type": "display_data"
    },
    {
     "data": {
      "image/png": "[encoded data removed]",
      "text/plain": [
       "<IPython.core.display.Image object>"
      ]
     },
     "metadata": {},
     "output_type": "display_data"
    },
    {
     "data": {
      "image/png": "[encoded data removed]",
      "text/plain": [
       "<IPython.core.display.Image object>"
      ]
     },
     "metadata": {},
     "output_type": "display_data"
    },
    {
     "data": {
      "image/png": "[encoded data removed]",
      "text/plain": [
       "<IPython.core.display.Image object>"
      ]
     },
     "metadata": {},
     "output_type": "display_data"
    }
   ],
   "source": [
    "cSidePre = {}\n",
    "for k in np.sort(sideVar.keys()):\n",
    "    legLoc = [0.65, 0.4, 0.9, 0.7]\n",
    "    if 'MassVis' in sideVar[k]:\n",
    "        legLoc = [0.15, 0.45, 0.35, 0.75]\n",
    "    cSidePre[k] = plot_SingleCategory(CMS_lumi, histo[k], scale_dic=scale_dic,\n",
    "                                      xtitle=sideXtitle[k], addText=sideAddtext[k], \n",
    "                                      tag=k, legLoc=legLoc)"
   ]
  },
  {
   "cell_type": "code",
   "execution_count": 25,
   "metadata": {
    "ExecuteTime": {
     "end_time": "2020-07-08T02:45:41.594488Z",
     "start_time": "2020-07-08T02:45:40.641210Z"
    },
    "hidden": true
   },
   "outputs": [],
   "source": [
    "histo_file_dir = '../data/_root/histos4combine/'\n",
    "if not os.path.isdir(histo_file_dir):\n",
    "    os.makedirs(histo_file_dir)\n",
    "histo_file_loc = {}\n",
    "for cat_name, h_dic in histo.iteritems():\n",
    "    histo_file_loc[cat_name] = histo_file_dir+'{}_{}.root'.format(card_name, cat_name)\n",
    "    tf = rt.TFile(histo_file_loc[cat_name], 'recreate')\n",
    "    for v in h_dic.values():\n",
    "        v.Write()\n",
    "    tf.Close()\n",
    "    \n",
    "del dSet, dSetTkSide"
   ]
  },
  {
   "cell_type": "markdown",
   "metadata": {},
   "source": [
    "# Write the card"
   ]
  },
  {
   "cell_type": "code",
   "execution_count": 26,
   "metadata": {
    "ExecuteTime": {
     "end_time": "2020-07-08T02:45:41.688659Z",
     "start_time": "2020-07-08T02:45:41.599399Z"
    }
   },
   "outputs": [],
   "source": [
    "sig_processes = ['tau', 'mu']\n",
    "bkg_processes = ['DstmD0', 'DstmDp', 'DstmDsp', \n",
    "                 'BpDstmHc', 'BmDstmHc', 'antiB0DstmHc',\n",
    "                 'DstPip', 'DstPipPi0', \n",
    "                 'DstPi0', 'DstPipPim', 'DstPi0Pi0']\n",
    "processes = sig_processes + bkg_processes\n",
    "nProc = len(processes)\n",
    "categories = np.sort([k for k in histo.keys()])\n",
    "nCat = len(categories)"
   ]
  },
  {
   "cell_type": "code",
   "execution_count": 27,
   "metadata": {
    "ExecuteTime": {
     "end_time": "2020-07-08T02:45:41.709220Z",
     "start_time": "2020-07-08T02:45:41.693227Z"
    }
   },
   "outputs": [],
   "source": [
    "# number of different categories\n",
    "card = 'imax *\\n'\n",
    "# number of processes minus one\n",
    "card += 'jmax {}\\n'.format(len(processes)-1)\n",
    "# number of nuissance parameters\n",
    "card += 'kmax *\\n'\n",
    "card += '--------------------------------------------------------------\\n'"
   ]
  },
  {
   "cell_type": "code",
   "execution_count": 28,
   "metadata": {
    "ExecuteTime": {
     "end_time": "2020-07-08T02:45:41.738511Z",
     "start_time": "2020-07-08T02:45:41.712529Z"
    }
   },
   "outputs": [],
   "source": [
    "# shape file location\n",
    "for k in categories:\n",
    "    card += 'shapes * {} {} $PROCESS $PROCESS__$SYSTEMATIC\\n'.format(k, histo_file_loc[k])\n",
    "card += '--------------------------------------------------------------\\n'"
   ]
  },
  {
   "cell_type": "markdown",
   "metadata": {
    "heading_collapsed": true
   },
   "source": [
    "### Number of events"
   ]
  },
  {
   "cell_type": "code",
   "execution_count": 29,
   "metadata": {
    "ExecuteTime": {
     "end_time": "2020-07-08T02:45:41.777881Z",
     "start_time": "2020-07-08T02:45:41.742980Z"
    },
    "hidden": true
   },
   "outputs": [],
   "source": [
    "# number of events observed\n",
    "card += 'bin ' + ' '.join(categories) + '\\n'\n",
    "obs = map(lambda k: '{:.0f}'.format(histo[k]['data'].Integral()), categories)\n",
    "obs = ' '.join(obs)\n",
    "card += 'observation ' + obs + '\\n'\n",
    "card += '--------------------------------------------------------------\\n'"
   ]
  },
  {
   "cell_type": "code",
   "execution_count": 30,
   "metadata": {
    "ExecuteTime": {
     "end_time": "2020-07-08T02:45:41.848581Z",
     "start_time": "2020-07-08T02:45:41.782336Z"
    },
    "hidden": true
   },
   "outputs": [],
   "source": [
    "# MC expected events\n",
    "aux_bin = ''\n",
    "aux_proc_name = ''\n",
    "aux_proc_id = ''\n",
    "aux_proc_rate = ''\n",
    "for c, p in itertools.product(categories, processes):\n",
    "    aux_bin += ' '+c\n",
    "    aux_proc_name += ' '+p\n",
    "    aux_proc_id += ' '+str(np.argmax(np.array(processes) == p))\n",
    "    aux_proc_rate += ' {:.2f}'.format(histo[c][p].Integral())\n",
    "    \n",
    "card += 'bin' + aux_bin + '\\n'\n",
    "card += 'process' + aux_proc_name + '\\n'\n",
    "# Zero or negative for sig and positive for bkg\n",
    "card += 'process' + aux_proc_id + '\\n'\n",
    "# Expected rate\n",
    "card += 'rate' + aux_proc_rate + '\\n'\n",
    "card += '--------------------------------------------------------------\\n'"
   ]
  },
  {
   "cell_type": "markdown",
   "metadata": {},
   "source": [
    "## Systematic uncertainties"
   ]
  },
  {
   "cell_type": "markdown",
   "metadata": {},
   "source": [
    "### Scale systematics"
   ]
  },
  {
   "cell_type": "code",
   "execution_count": 31,
   "metadata": {
    "ExecuteTime": {
     "end_time": "2020-07-08T02:45:41.866214Z",
     "start_time": "2020-07-08T02:45:41.851922Z"
    }
   },
   "outputs": [],
   "source": [
    "#pp -> bb cros-section * luminosity\n",
    "card += 'xsecpp2bbXlumi lnN' + ' 1.9'*nProc*nCat + '\\n'"
   ]
  },
  {
   "cell_type": "code",
   "execution_count": 32,
   "metadata": {
    "ExecuteTime": {
     "end_time": "2020-07-08T02:45:41.892780Z",
     "start_time": "2020-07-08T02:45:41.868474Z"
    }
   },
   "outputs": [],
   "source": [
    "#Hadronization fraction of B0\n",
    "aux = ''\n",
    "for n in processes:\n",
    "    if n in ['tau', 'mu', 'DstmD0', 'DstmDp', 'DstmDsp', 'DstPi0', 'DstPipPim', 'DstPi0Pi0', 'antiB0DstmHc']: \n",
    "        aux += ' 1.7'\n",
    "    else: aux += ' -'\n",
    "card += 'b2B0Had lnN' + aux*nCat + '\\n'"
   ]
  },
  {
   "cell_type": "code",
   "execution_count": 33,
   "metadata": {
    "ExecuteTime": {
     "end_time": "2020-07-08T02:45:41.950586Z",
     "start_time": "2020-07-08T02:45:41.896164Z"
    }
   },
   "outputs": [],
   "source": [
    "#Hadronization fraction of B+\n",
    "aux = ''\n",
    "for n in processes:\n",
    "    if n in ['DstPip', 'DstPipPi0', 'BpDstmHc', 'BmDstmHc']: aux += ' 1.7'\n",
    "    else: aux += ' -'\n",
    "card += 'b2BpHad lnN' + aux*nCat + '\\n'"
   ]
  },
  {
   "cell_type": "code",
   "execution_count": 34,
   "metadata": {
    "ExecuteTime": {
     "end_time": "2020-07-08T02:45:41.984681Z",
     "start_time": "2020-07-08T02:45:41.956929Z"
    }
   },
   "outputs": [],
   "source": [
    "# Branching ration uncertainty\n",
    "for n in processes:\n",
    "    if n in ['tau', 'DstPip', 'DstPi0', 'DstPipPim', 'DstPipPi0', 'DstPi0Pi0', 'BmDstmHc']: continue\n",
    "    val = ' {:.2f}'.format(1+decayBR[n][1]/decayBR[n][0])\n",
    "    aux = ''\n",
    "    for nn in processes:\n",
    "        if nn == n: aux += val\n",
    "        else: aux += ' -'\n",
    "    card += n + 'Br lnN' + aux*nCat + '\\n'"
   ]
  },
  {
   "cell_type": "code",
   "execution_count": 35,
   "metadata": {
    "ExecuteTime": {
     "end_time": "2020-07-08T02:45:42.016477Z",
     "start_time": "2020-07-08T02:45:41.990341Z"
    }
   },
   "outputs": [],
   "source": [
    "# Branching ration uncertainty with isospin symmetry constraint\n",
    "val = ' {:.2f}'.format(1+decayBR['DstPip'][1]/decayBR['DstPip'][0]) #DstPi0 has no info\n",
    "aux = ''\n",
    "for n in processes:\n",
    "    if n in ['DstPip', 'DstPi0']: aux += val\n",
    "    else: aux += ' -'\n",
    "card += 'DstPiBr lnN' + aux*nCat + '\\n'\n",
    "\n",
    "val = ' {:.2f}'.format(1+decayBR['DstPipPim'][1]/decayBR['DstPipPim'][0]) #DstPipPim is the only one meaasured\n",
    "aux = ''\n",
    "for n in processes:\n",
    "    if n in ['DstPipPim', 'DstPipPi0', 'DstPi0Pi0']: aux += val\n",
    "    else: aux += ' -'\n",
    "card += 'DstPiPiBr lnN' + aux*nCat + '\\n'"
   ]
  },
  {
   "cell_type": "code",
   "execution_count": 36,
   "metadata": {
    "ExecuteTime": {
     "end_time": "2020-07-08T02:45:42.076298Z",
     "start_time": "2020-07-08T02:45:42.020473Z"
    }
   },
   "outputs": [],
   "source": [
    "card += '--------------------------------------------------------------\\n'"
   ]
  },
  {
   "cell_type": "markdown",
   "metadata": {
    "heading_collapsed": true
   },
   "source": [
    "### Rate parameters"
   ]
  },
  {
   "cell_type": "code",
   "execution_count": 37,
   "metadata": {
    "ExecuteTime": {
     "end_time": "2020-07-08T02:45:42.134915Z",
     "start_time": "2020-07-08T02:45:42.080663Z"
    },
    "hidden": true
   },
   "outputs": [],
   "source": [
    "# card += 'pAddTk param 1.0 0.15\\n'"
   ]
  },
  {
   "cell_type": "code",
   "execution_count": 38,
   "metadata": {
    "ExecuteTime": {
     "end_time": "2020-07-08T02:45:42.179217Z",
     "start_time": "2020-07-08T02:45:42.139839Z"
    },
    "hidden": true
   },
   "outputs": [],
   "source": [
    "# linear = []\n",
    "# quadratic = []\n",
    "\n",
    "# for procAux in ['tau', 'mu', 'DstPi0', 'DstPi0Pi0']: \n",
    "#     linear.append(['AddTk_p_mHad', procAux])\n",
    "    \n",
    "# for procAux in ['tau', 'mu', 'DstPi0', 'DstPi0Pi0', 'DstPip', 'DstPipPi0']: \n",
    "#     linear.append(['AddTk_m_mHad', procAux])\n",
    "    \n",
    "# for procAux in ['DstPip', 'DstPipPi0', 'DstPipPim', 'DstmD0', 'DstmDp', 'DstmDsp']:\n",
    "#     linear.append(['AddTk_pp_mHad', procAux])\n",
    "# for procAux in ['tau', 'mu', 'DstPi0', 'DstPi0Pi0']:\n",
    "#     quadratic.append(['AddTk_pp_mHad', procAux])\n",
    "    \n",
    "\n",
    "# for procAux in ['DstPip', 'DstPipPi0']:\n",
    "#     linear.append(['AddTk_pm_mHad', procAux])\n",
    "#     linear.append(['AddTk_pm_mVis', procAux])\n",
    "# for procAux in ['tau', 'mu', 'DstPi0', 'DstPi0Pi0']:\n",
    "#     quadratic.append(['AddTk_pm_mHad', procAux])\n",
    "#     quadratic.append(['AddTk_pm_mVis', procAux])\n",
    "    \n",
    "# for procAux in ['DstPipPim', 'DstmD0', 'DstmDp', 'DstmDsp']:\n",
    "#     linear.append(['AddTk_mm_mHad', procAux])\n",
    "# for procAux in ['tau', 'mu', 'DstPi0', 'DstPi0Pi0', 'DstPip', 'DstPipPi0']:\n",
    "#     quadratic.append(['AddTk_mm_mHad', procAux])\n",
    "    \n",
    "# for binAux, procAux in linear:\n",
    "#     card += 'pAddTk rateParam {} {} 1\\n'.format(binAux, procAux)\n",
    "# for binAux, procAux in quadratic:\n",
    "#     card += 'pAddTk2 rateParam {} {} @0*@0 pAddTk\\n'.format(binAux, procAux)"
   ]
  },
  {
   "cell_type": "code",
   "execution_count": 39,
   "metadata": {
    "ExecuteTime": {
     "end_time": "2020-07-08T02:45:42.217822Z",
     "start_time": "2020-07-08T02:45:42.182795Z"
    },
    "hidden": true
   },
   "outputs": [],
   "source": [
    "# card += '--------------------------------------------------------------\\n'"
   ]
  },
  {
   "cell_type": "markdown",
   "metadata": {
    "heading_collapsed": true
   },
   "source": [
    "### Shape Systematics"
   ]
  },
  {
   "cell_type": "code",
   "execution_count": 40,
   "metadata": {
    "ExecuteTime": {
     "end_time": "2020-07-08T02:45:42.297495Z",
     "start_time": "2020-07-08T02:45:42.221160Z"
    },
    "hidden": true
   },
   "outputs": [],
   "source": [
    "card += 'trg{}SF shape'.format(cat.trg) + ' 1.'*nProc*nCat + '\\n'"
   ]
  },
  {
   "cell_type": "code",
   "execution_count": 41,
   "metadata": {
    "ExecuteTime": {
     "end_time": "2020-07-08T02:45:42.320057Z",
     "start_time": "2020-07-08T02:45:42.303572Z"
    },
    "hidden": true
   },
   "outputs": [],
   "source": [
    "card += 'muonIdSF shape' + ' 1.'*nProc*nCat + '\\n'"
   ]
  },
  {
   "cell_type": "code",
   "execution_count": 42,
   "metadata": {
    "ExecuteTime": {
     "end_time": "2020-07-08T02:45:42.384039Z",
     "start_time": "2020-07-08T02:45:42.325554Z"
    },
    "hidden": true
   },
   "outputs": [],
   "source": [
    "aux = ''\n",
    "for cat in categories:\n",
    "    if cat.startswith('AddTk_'):\n",
    "        aux += ' 1.'*nProc\n",
    "    else: aux += ' -'*nProc\n",
    "card += 'tkPVfrac shape' + aux + '\\n'"
   ]
  },
  {
   "cell_type": "code",
   "execution_count": 43,
   "metadata": {
    "ExecuteTime": {
     "end_time": "2020-07-08T02:45:42.408945Z",
     "start_time": "2020-07-08T02:45:42.389560Z"
    },
    "hidden": true
   },
   "outputs": [],
   "source": [
    "# B0 pT spectrum\n",
    "aux = ''\n",
    "for p in processes:\n",
    "    if p in ['tau', 'mu', 'DstmD0', 'DstmDp', 'DstmDsp', 'DstPi0', 'DstPipPim', 'DstPi0Pi0']:\n",
    "        aux += ' 1.'\n",
    "    else:\n",
    "        aux += ' -'\n",
    "card += 'B0pT shape' + aux*nCat + '\\n'"
   ]
  },
  {
   "cell_type": "code",
   "execution_count": 44,
   "metadata": {
    "ExecuteTime": {
     "end_time": "2020-07-08T02:45:42.484601Z",
     "start_time": "2020-07-08T02:45:42.414248Z"
    },
    "hidden": true
   },
   "outputs": [],
   "source": [
    "# Form Factors from Hammer\n",
    "for n_pFF in ['R0', 'R1', 'R2', 'RhoSq']:\n",
    "    aux = ''\n",
    "    for p in processes:\n",
    "        if p in ['tau', 'mu']:\n",
    "            aux += ' 1.'\n",
    "        else:\n",
    "            aux += ' -'\n",
    "    card += 'B2DstCLN{} shape'.format(n_pFF) + aux*nCat + '\\n'"
   ]
  },
  {
   "cell_type": "code",
   "execution_count": 45,
   "metadata": {
    "ExecuteTime": {
     "end_time": "2020-07-08T02:45:42.508509Z",
     "start_time": "2020-07-08T02:45:42.490162Z"
    },
    "hidden": true
   },
   "outputs": [],
   "source": [
    "# Dstst mix composition\n",
    "aux = ''\n",
    "for p in processes:\n",
    "    if p == 'DstPip': aux += ' 1.'\n",
    "    else: aux += ' -'\n",
    "card += 'fDststWide shape' + aux*nCat + '\\n'"
   ]
  },
  {
   "cell_type": "code",
   "execution_count": 46,
   "metadata": {
    "ExecuteTime": {
     "end_time": "2020-07-08T02:45:42.543473Z",
     "start_time": "2020-07-08T02:45:42.513449Z"
    },
    "hidden": true
   },
   "outputs": [],
   "source": [
    "# Hc mix composition\n",
    "aux = ''\n",
    "for p in processes:\n",
    "    if p == 'DstmD0': aux += ' 1.'\n",
    "    else: aux += ' -'\n",
    "card += 'BrB02DstD0Kp shape' + aux*nCat + '\\n'\n",
    "card += 'BrB02DstD0Kstp shape' + aux*nCat + '\\n'\n",
    "card += 'BrB02DstDst0Kp shape' + aux*nCat + '\\n'\n",
    "card += 'BrB02DstDst0Kstp shape' + aux*nCat + '\\n'\n",
    "\n",
    "aux = ''\n",
    "for p in processes:\n",
    "    if p == 'DstmDp': aux += ' 1.'\n",
    "    else: aux += ' -'\n",
    "card += 'BrB02DstDpK0 shape' + aux*nCat + '\\n'\n",
    "card += 'BrB02DstDpKst0 shape' + aux*nCat + '\\n'\n",
    "\n",
    "aux = ''\n",
    "for p in processes:\n",
    "    if p == 'DstmDp' or p == 'DstmD0': aux += ' 1.'\n",
    "    else: aux += ' -'\n",
    "card += 'BrB02DstDstpK0 shape' + aux*nCat + '\\n'\n",
    "card += 'BrB02DstDstpKst0 shape' + aux*nCat + '\\n'\n",
    "\n",
    "aux = ''\n",
    "for p in processes:\n",
    "    if p == 'DstmDsp': aux += ' 1.'\n",
    "    else: aux += ' -'\n",
    "card += 'BrB02DstDs shape' + aux*nCat + '\\n'\n",
    "card += 'BrB02DstDsst shape' + aux*nCat + '\\n'\n",
    "card += 'BrB02DstDs0st shape' + aux*nCat + '\\n'"
   ]
  },
  {
   "cell_type": "markdown",
   "metadata": {
    "heading_collapsed": true
   },
   "source": [
    "### MC statistic systematics"
   ]
  },
  {
   "cell_type": "code",
   "execution_count": 47,
   "metadata": {
    "ExecuteTime": {
     "end_time": "2020-07-08T02:45:42.582597Z",
     "start_time": "2020-07-08T02:45:42.546827Z"
    },
    "hidden": true
   },
   "outputs": [],
   "source": [
    "card += '* autoMCStats 10 1 1\\n'\n",
    "card += '--------------------------------------------------------------\\n'"
   ]
  },
  {
   "cell_type": "markdown",
   "metadata": {
    "heading_collapsed": true
   },
   "source": [
    "### Defining groups of systematics"
   ]
  },
  {
   "cell_type": "code",
   "execution_count": 48,
   "metadata": {
    "ExecuteTime": {
     "end_time": "2020-07-08T02:45:42.613562Z",
     "start_time": "2020-07-08T02:45:42.586013Z"
    },
    "hidden": true
   },
   "outputs": [],
   "source": [
    "# autoMCStats group = defined by default when using autoMCStats\n",
    "aux_FF = ' '.join(['B2DstCLN'+n for n in ['R0', 'R1', 'R2', 'RhoSq']])\n",
    "card += 'B2DstFF group = ' + aux_FF + '\\n'\n",
    "\n",
    "# card += 'normMC group = xsecpp2bbXlumi b2B0Had b2BpHad\\n'\n",
    "\n",
    "# card += 'knownBr group = ' + ' '.join([n+'Br' for n in processes if not n == 'tau']) + '\\n'\n",
    "\n",
    "# card += 'allShape group = trgSF muonIdSF B0pT ' + aux_FF + '\\n'"
   ]
  },
  {
   "cell_type": "markdown",
   "metadata": {
    "heading_collapsed": true
   },
   "source": [
    "## Create output"
   ]
  },
  {
   "cell_type": "code",
   "execution_count": 49,
   "metadata": {
    "ExecuteTime": {
     "end_time": "2020-07-08T02:45:42.642999Z",
     "start_time": "2020-07-08T02:45:42.617922Z"
    },
    "hidden": true,
    "hide_input": false,
    "scrolled": true
   },
   "outputs": [
    {
     "name": "stdout",
     "output_type": "stream",
     "text": [
      "imax *\n",
      "jmax 12\n",
      "kmax *\n",
      "--------------------------------------------------------------\n",
      "shapes * AddTk_m_mHad ../data/_root/histos4combine/v9_low_AddTk_m_mHad.root $PROCESS $PROCESS__$SYSTEMATIC\n",
      "shapes * AddTk_mm_mHad ../data/_root/histos4combine/v9_low_AddTk_mm_mHad.root $PROCESS $PROCESS__$SYSTEMATIC\n",
      "shapes * AddTk_p_mHad ../data/_root/histos4combine/v9_low_AddTk_p_mHad.root $PROCESS $PROCESS__$SYSTEMATIC\n",
      "shapes * AddTk_pm_mHad ../data/_root/histos4combine/v9_low_AddTk_pm_mHad.root $PROCESS $PROCESS__$SYSTEMATIC\n",
      "shapes * AddTk_pm_mVis ../data/_root/histos4combine/v9_low_AddTk_pm_mVis.root $PROCESS $PROCESS__$SYSTEMATIC\n",
      "shapes * AddTk_pp_mHad ../data/_root/histos4combine/v9_low_AddTk_pp_mHad.root $PROCESS $PROCESS__$SYSTEMATIC\n",
      "shapes * Est_mu_q2bin0 ../data/_root/histos4combine/v9_low_Est_mu_q2bin0.root $PROCESS $PROCESS__$SYSTEMATIC\n",
      "shapes * Est_mu_q2bin1 ../data/_root/histos4combine/v9_low_Est_mu_q2bin1.root $PROCESS $PROCESS__$SYSTEMATIC\n",
      "shapes * M2_miss_q2bin0 ../data/_root/histos4combine/v9_low_M2_miss_q2bin0.root $PROCESS $PROCESS__$SYSTEMATIC\n",
      "shapes * M2_miss_q2bin1 ../data/_root/histos4combine/v9_low_M2_miss_q2bin1.root $PROCESS $PROCESS__$SYSTEMATIC\n",
      "--------------------------------------------------------------\n",
      "bin AddTk_m_mHad AddTk_mm_mHad AddTk_p_mHad AddTk_pm_mHad AddTk_pm_mVis AddTk_pp_mHad Est_mu_q2bin0 Est_mu_q2bin1 M2_miss_q2bin0 M2_miss_q2bin1\n",
      "observation 9503 408 18355 3135 3221 800 32333 66546 32333 66546\n",
      "--------------------------------------------------------------\n",
      "bin AddTk_m_mHad AddTk_m_mHad AddTk_m_mHad AddTk_m_mHad AddTk_m_mHad AddTk_m_mHad AddTk_m_mHad AddTk_m_mHad AddTk_m_mHad AddTk_m_mHad AddTk_m_mHad AddTk_m_mHad AddTk_m_mHad AddTk_mm_mHad AddTk_mm_mHad AddTk_mm_mHad AddTk_mm_mHad AddTk_mm_mHad AddTk_mm_mHad AddTk_mm_mHad AddTk_mm_mHad AddTk_mm_mHad AddTk_mm_mHad AddTk_mm_mHad AddTk_mm_mHad AddTk_mm_mHad AddTk_p_mHad AddTk_p_mHad AddTk_p_mHad AddTk_p_mHad AddTk_p_mHad AddTk_p_mHad AddTk_p_mHad AddTk_p_mHad AddTk_p_mHad AddTk_p_mHad AddTk_p_mHad AddTk_p_mHad AddTk_p_mHad AddTk_pm_mHad AddTk_pm_mHad AddTk_pm_mHad AddTk_pm_mHad AddTk_pm_mHad AddTk_pm_mHad AddTk_pm_mHad AddTk_pm_mHad AddTk_pm_mHad AddTk_pm_mHad AddTk_pm_mHad AddTk_pm_mHad AddTk_pm_mHad AddTk_pm_mVis AddTk_pm_mVis AddTk_pm_mVis AddTk_pm_mVis AddTk_pm_mVis AddTk_pm_mVis AddTk_pm_mVis AddTk_pm_mVis AddTk_pm_mVis AddTk_pm_mVis AddTk_pm_mVis AddTk_pm_mVis AddTk_pm_mVis AddTk_pp_mHad AddTk_pp_mHad AddTk_pp_mHad AddTk_pp_mHad AddTk_pp_mHad AddTk_pp_mHad AddTk_pp_mHad AddTk_pp_mHad AddTk_pp_mHad AddTk_pp_mHad AddTk_pp_mHad AddTk_pp_mHad AddTk_pp_mHad Est_mu_q2bin0 Est_mu_q2bin0 Est_mu_q2bin0 Est_mu_q2bin0 Est_mu_q2bin0 Est_mu_q2bin0 Est_mu_q2bin0 Est_mu_q2bin0 Est_mu_q2bin0 Est_mu_q2bin0 Est_mu_q2bin0 Est_mu_q2bin0 Est_mu_q2bin0 Est_mu_q2bin1 Est_mu_q2bin1 Est_mu_q2bin1 Est_mu_q2bin1 Est_mu_q2bin1 Est_mu_q2bin1 Est_mu_q2bin1 Est_mu_q2bin1 Est_mu_q2bin1 Est_mu_q2bin1 Est_mu_q2bin1 Est_mu_q2bin1 Est_mu_q2bin1 M2_miss_q2bin0 M2_miss_q2bin0 M2_miss_q2bin0 M2_miss_q2bin0 M2_miss_q2bin0 M2_miss_q2bin0 M2_miss_q2bin0 M2_miss_q2bin0 M2_miss_q2bin0 M2_miss_q2bin0 M2_miss_q2bin0 M2_miss_q2bin0 M2_miss_q2bin0 M2_miss_q2bin1 M2_miss_q2bin1 M2_miss_q2bin1 M2_miss_q2bin1 M2_miss_q2bin1 M2_miss_q2bin1 M2_miss_q2bin1 M2_miss_q2bin1 M2_miss_q2bin1 M2_miss_q2bin1 M2_miss_q2bin1 M2_miss_q2bin1 M2_miss_q2bin1\n",
      "process tau mu DstmD0 DstmDp DstmDsp BpDstmHc BmDstmHc antiB0DstmHc DstPip DstPipPi0 DstPi0 DstPipPim DstPi0Pi0 tau mu DstmD0 DstmDp DstmDsp BpDstmHc BmDstmHc antiB0DstmHc DstPip DstPipPi0 DstPi0 DstPipPim DstPi0Pi0 tau mu DstmD0 DstmDp DstmDsp BpDstmHc BmDstmHc antiB0DstmHc DstPip DstPipPi0 DstPi0 DstPipPim DstPi0Pi0 tau mu DstmD0 DstmDp DstmDsp BpDstmHc BmDstmHc antiB0DstmHc DstPip DstPipPi0 DstPi0 DstPipPim DstPi0Pi0 tau mu DstmD0 DstmDp DstmDsp BpDstmHc BmDstmHc antiB0DstmHc DstPip DstPipPi0 DstPi0 DstPipPim DstPi0Pi0 tau mu DstmD0 DstmDp DstmDsp BpDstmHc BmDstmHc antiB0DstmHc DstPip DstPipPi0 DstPi0 DstPipPim DstPi0Pi0 tau mu DstmD0 DstmDp DstmDsp BpDstmHc BmDstmHc antiB0DstmHc DstPip DstPipPi0 DstPi0 DstPipPim DstPi0Pi0 tau mu DstmD0 DstmDp DstmDsp BpDstmHc BmDstmHc antiB0DstmHc DstPip DstPipPi0 DstPi0 DstPipPim DstPi0Pi0 tau mu DstmD0 DstmDp DstmDsp BpDstmHc BmDstmHc antiB0DstmHc DstPip DstPipPi0 DstPi0 DstPipPim DstPi0Pi0 tau mu DstmD0 DstmDp DstmDsp BpDstmHc BmDstmHc antiB0DstmHc DstPip DstPipPi0 DstPi0 DstPipPim DstPi0Pi0\n",
      "process 0 1 2 3 4 5 6 7 8 9 10 11 12 0 1 2 3 4 5 6 7 8 9 10 11 12 0 1 2 3 4 5 6 7 8 9 10 11 12 0 1 2 3 4 5 6 7 8 9 10 11 12 0 1 2 3 4 5 6 7 8 9 10 11 12 0 1 2 3 4 5 6 7 8 9 10 11 12 0 1 2 3 4 5 6 7 8 9 10 11 12 0 1 2 3 4 5 6 7 8 9 10 11 12 0 1 2 3 4 5 6 7 8 9 10 11 12 0 1 2 3 4 5 6 7 8 9 10 11 12\n",
      "rate 98.55 2372.64 18.30 9.69 32.49 0.29 52.71 7.53 103.31 10.05 109.93 154.61 10.44 3.82 97.30 0.51 0.25 1.28 0.01 1.98 0.62 4.12 0.11 5.51 4.70 0.33 113.54 2705.44 39.60 12.08 32.76 5.13 1.67 11.43 2618.73 301.48 117.62 174.69 10.95 14.08 338.60 83.54 23.54 42.34 1.65 4.22 21.17 164.34 17.51 17.63 347.57 1.62 15.18 338.88 88.04 23.69 46.32 1.68 4.28 21.24 165.75 17.61 17.63 348.67 1.62 5.09 127.69 2.10 0.58 1.98 1.61 0.00 0.36 96.73 12.79 7.33 9.10 0.83 28.20 9970.24 0.17 0.30 24.12 0.06 0.14 0.75 177.39 3.11 245.95 2.79 4.73 616.29 19213.85 0.83 4.03 230.50 0.23 2.02 4.45 707.46 51.44 874.95 37.52 64.00 28.20 9970.24 0.17 0.30 24.12 0.06 0.14 0.75 177.39 3.11 245.95 2.79 4.73 616.29 19213.85 0.83 4.03 230.50 0.23 2.02 4.45 707.46 51.44 874.95 37.52 64.00\n",
      "--------------------------------------------------------------\n",
      "xsecpp2bbXlumi lnN 1.9 1.9 1.9 1.9 1.9 1.9 1.9 1.9 1.9 1.9 1.9 1.9 1.9 1.9 1.9 1.9 1.9 1.9 1.9 1.9 1.9 1.9 1.9 1.9 1.9 1.9 1.9 1.9 1.9 1.9 1.9 1.9 1.9 1.9 1.9 1.9 1.9 1.9 1.9 1.9 1.9 1.9 1.9 1.9 1.9 1.9 1.9 1.9 1.9 1.9 1.9 1.9 1.9 1.9 1.9 1.9 1.9 1.9 1.9 1.9 1.9 1.9 1.9 1.9 1.9 1.9 1.9 1.9 1.9 1.9 1.9 1.9 1.9 1.9 1.9 1.9 1.9 1.9 1.9 1.9 1.9 1.9 1.9 1.9 1.9 1.9 1.9 1.9 1.9 1.9 1.9 1.9 1.9 1.9 1.9 1.9 1.9 1.9 1.9 1.9 1.9 1.9 1.9 1.9 1.9 1.9 1.9 1.9 1.9 1.9 1.9 1.9 1.9 1.9 1.9 1.9 1.9 1.9 1.9 1.9 1.9 1.9 1.9 1.9 1.9 1.9 1.9 1.9 1.9 1.9\n",
      "b2B0Had lnN 1.7 1.7 1.7 1.7 1.7 - - 1.7 - - 1.7 1.7 1.7 1.7 1.7 1.7 1.7 1.7 - - 1.7 - - 1.7 1.7 1.7 1.7 1.7 1.7 1.7 1.7 - - 1.7 - - 1.7 1.7 1.7 1.7 1.7 1.7 1.7 1.7 - - 1.7 - - 1.7 1.7 1.7 1.7 1.7 1.7 1.7 1.7 - - 1.7 - - 1.7 1.7 1.7 1.7 1.7 1.7 1.7 1.7 - - 1.7 - - 1.7 1.7 1.7 1.7 1.7 1.7 1.7 1.7 - - 1.7 - - 1.7 1.7 1.7 1.7 1.7 1.7 1.7 1.7 - - 1.7 - - 1.7 1.7 1.7 1.7 1.7 1.7 1.7 1.7 - - 1.7 - - 1.7 1.7 1.7 1.7 1.7 1.7 1.7 1.7 - - 1.7 - - 1.7 1.7 1.7\n",
      "b2BpHad lnN - - - - - 1.7 1.7 - 1.7 1.7 - - - - - - - - 1.7 1.7 - 1.7 1.7 - - - - - - - - 1.7 1.7 - 1.7 1.7 - - - - - - - - 1.7 1.7 - 1.7 1.7 - - - - - - - - 1.7 1.7 - 1.7 1.7 - - - - - - - - 1.7 1.7 - 1.7 1.7 - - - - - - - - 1.7 1.7 - 1.7 1.7 - - - - - - - - 1.7 1.7 - 1.7 1.7 - - - - - - - - 1.7 1.7 - 1.7 1.7 - - - - - - - - 1.7 1.7 - 1.7 1.7 - - -\n",
      "muBr lnN - 1.03 - - - - - - - - - - - - 1.03 - - - - - - - - - - - - 1.03 - - - - - - - - - - - - 1.03 - - - - - - - - - - - - 1.03 - - - - - - - - - - - - 1.03 - - - - - - - - - - - - 1.03 - - - - - - - - - - - - 1.03 - - - - - - - - - - - - 1.03 - - - - - - - - - - - - 1.03 - - - - - - - - - - -\n",
      "DstmD0Br lnN - - 1.09 - - - - - - - - - - - - 1.09 - - - - - - - - - - - - 1.09 - - - - - - - - - - - - 1.09 - - - - - - - - - - - - 1.09 - - - - - - - - - - - - 1.09 - - - - - - - - - - - - 1.09 - - - - - - - - - - - - 1.09 - - - - - - - - - - - - 1.09 - - - - - - - - - - - - 1.09 - - - - - - - - - -\n",
      "DstmDpBr lnN - - - 1.18 - - - - - - - - - - - - 1.18 - - - - - - - - - - - - 1.18 - - - - - - - - - - - - 1.18 - - - - - - - - - - - - 1.18 - - - - - - - - - - - - 1.18 - - - - - - - - - - - - 1.18 - - - - - - - - - - - - 1.18 - - - - - - - - - - - - 1.18 - - - - - - - - - - - - 1.18 - - - - - - - - -\n",
      "DstmDspBr lnN - - - - 1.11 - - - - - - - - - - - - 1.11 - - - - - - - - - - - - 1.11 - - - - - - - - - - - - 1.11 - - - - - - - - - - - - 1.11 - - - - - - - - - - - - 1.11 - - - - - - - - - - - - 1.11 - - - - - - - - - - - - 1.11 - - - - - - - - - - - - 1.11 - - - - - - - - - - - - 1.11 - - - - - - - -\n",
      "BpDstmHcBr lnN - - - - - 1.22 - - - - - - - - - - - - 1.22 - - - - - - - - - - - - 1.22 - - - - - - - - - - - - 1.22 - - - - - - - - - - - - 1.22 - - - - - - - - - - - - 1.22 - - - - - - - - - - - - 1.22 - - - - - - - - - - - - 1.22 - - - - - - - - - - - - 1.22 - - - - - - - - - - - - 1.22 - - - - - - -\n",
      "antiB0DstmHcBr lnN - - - - - - - 1.19 - - - - - - - - - - - - 1.19 - - - - - - - - - - - - 1.19 - - - - - - - - - - - - 1.19 - - - - - - - - - - - - 1.19 - - - - - - - - - - - - 1.19 - - - - - - - - - - - - 1.19 - - - - - - - - - - - - 1.19 - - - - - - - - - - - - 1.19 - - - - - - - - - - - - 1.19 - - - - -\n",
      "DstPiBr lnN - - - - - - - - 1.07 - 1.07 - - - - - - - - - - 1.07 - 1.07 - - - - - - - - - - 1.07 - 1.07 - - - - - - - - - - 1.07 - 1.07 - - - - - - - - - - 1.07 - 1.07 - - - - - - - - - - 1.07 - 1.07 - - - - - - - - - - 1.07 - 1.07 - - - - - - - - - - 1.07 - 1.07 - - - - - - - - - - 1.07 - 1.07 - - - - - - - - - - 1.07 - 1.07 - -\n",
      "DstPiPiBr lnN - - - - - - - - - 1.36 - 1.36 1.36 - - - - - - - - - 1.36 - 1.36 1.36 - - - - - - - - - 1.36 - 1.36 1.36 - - - - - - - - - 1.36 - 1.36 1.36 - - - - - - - - - 1.36 - 1.36 1.36 - - - - - - - - - 1.36 - 1.36 1.36 - - - - - - - - - 1.36 - 1.36 1.36 - - - - - - - - - 1.36 - 1.36 1.36 - - - - - - - - - 1.36 - 1.36 1.36 - - - - - - - - - 1.36 - 1.36 1.36\n",
      "--------------------------------------------------------------\n",
      "trgMu7_IP4SF shape 1. 1. 1. 1. 1. 1. 1. 1. 1. 1. 1. 1. 1. 1. 1. 1. 1. 1. 1. 1. 1. 1. 1. 1. 1. 1. 1. 1. 1. 1. 1. 1. 1. 1. 1. 1. 1. 1. 1. 1. 1. 1. 1. 1. 1. 1. 1. 1. 1. 1. 1. 1. 1. 1. 1. 1. 1. 1. 1. 1. 1. 1. 1. 1. 1. 1. 1. 1. 1. 1. 1. 1. 1. 1. 1. 1. 1. 1. 1. 1. 1. 1. 1. 1. 1. 1. 1. 1. 1. 1. 1. 1. 1. 1. 1. 1. 1. 1. 1. 1. 1. 1. 1. 1. 1. 1. 1. 1. 1. 1. 1. 1. 1. 1. 1. 1. 1. 1. 1. 1. 1. 1. 1. 1. 1. 1. 1. 1. 1. 1.\n",
      "muonIdSF shape 1. 1. 1. 1. 1. 1. 1. 1. 1. 1. 1. 1. 1. 1. 1. 1. 1. 1. 1. 1. 1. 1. 1. 1. 1. 1. 1. 1. 1. 1. 1. 1. 1. 1. 1. 1. 1. 1. 1. 1. 1. 1. 1. 1. 1. 1. 1. 1. 1. 1. 1. 1. 1. 1. 1. 1. 1. 1. 1. 1. 1. 1. 1. 1. 1. 1. 1. 1. 1. 1. 1. 1. 1. 1. 1. 1. 1. 1. 1. 1. 1. 1. 1. 1. 1. 1. 1. 1. 1. 1. 1. 1. 1. 1. 1. 1. 1. 1. 1. 1. 1. 1. 1. 1. 1. 1. 1. 1. 1. 1. 1. 1. 1. 1. 1. 1. 1. 1. 1. 1. 1. 1. 1. 1. 1. 1. 1. 1. 1. 1.\n",
      "tkPVfrac shape 1. 1. 1. 1. 1. 1. 1. 1. 1. 1. 1. 1. 1. 1. 1. 1. 1. 1. 1. 1. 1. 1. 1. 1. 1. 1. 1. 1. 1. 1. 1. 1. 1. 1. 1. 1. 1. 1. 1. 1. 1. 1. 1. 1. 1. 1. 1. 1. 1. 1. 1. 1. 1. 1. 1. 1. 1. 1. 1. 1. 1. 1. 1. 1. 1. 1. 1. 1. 1. 1. 1. 1. 1. 1. 1. 1. 1. 1. - - - - - - - - - - - - - - - - - - - - - - - - - - - - - - - - - - - - - - - - - - - - - - - - - - - -\n",
      "B0pT shape 1. 1. 1. 1. 1. - - - - - 1. 1. 1. 1. 1. 1. 1. 1. - - - - - 1. 1. 1. 1. 1. 1. 1. 1. - - - - - 1. 1. 1. 1. 1. 1. 1. 1. - - - - - 1. 1. 1. 1. 1. 1. 1. 1. - - - - - 1. 1. 1. 1. 1. 1. 1. 1. - - - - - 1. 1. 1. 1. 1. 1. 1. 1. - - - - - 1. 1. 1. 1. 1. 1. 1. 1. - - - - - 1. 1. 1. 1. 1. 1. 1. 1. - - - - - 1. 1. 1. 1. 1. 1. 1. 1. - - - - - 1. 1. 1.\n",
      "B2DstCLNR0 shape 1. 1. - - - - - - - - - - - 1. 1. - - - - - - - - - - - 1. 1. - - - - - - - - - - - 1. 1. - - - - - - - - - - - 1. 1. - - - - - - - - - - - 1. 1. - - - - - - - - - - - 1. 1. - - - - - - - - - - - 1. 1. - - - - - - - - - - - 1. 1. - - - - - - - - - - - 1. 1. - - - - - - - - - - -\n",
      "B2DstCLNR1 shape 1. 1. - - - - - - - - - - - 1. 1. - - - - - - - - - - - 1. 1. - - - - - - - - - - - 1. 1. - - - - - - - - - - - 1. 1. - - - - - - - - - - - 1. 1. - - - - - - - - - - - 1. 1. - - - - - - - - - - - 1. 1. - - - - - - - - - - - 1. 1. - - - - - - - - - - - 1. 1. - - - - - - - - - - -\n",
      "B2DstCLNR2 shape 1. 1. - - - - - - - - - - - 1. 1. - - - - - - - - - - - 1. 1. - - - - - - - - - - - 1. 1. - - - - - - - - - - - 1. 1. - - - - - - - - - - - 1. 1. - - - - - - - - - - - 1. 1. - - - - - - - - - - - 1. 1. - - - - - - - - - - - 1. 1. - - - - - - - - - - - 1. 1. - - - - - - - - - - -\n",
      "B2DstCLNRhoSq shape 1. 1. - - - - - - - - - - - 1. 1. - - - - - - - - - - - 1. 1. - - - - - - - - - - - 1. 1. - - - - - - - - - - - 1. 1. - - - - - - - - - - - 1. 1. - - - - - - - - - - - 1. 1. - - - - - - - - - - - 1. 1. - - - - - - - - - - - 1. 1. - - - - - - - - - - - 1. 1. - - - - - - - - - - -\n",
      "fDststWide shape - - - - - - - - 1. - - - - - - - - - - - - 1. - - - - - - - - - - - - 1. - - - - - - - - - - - - 1. - - - - - - - - - - - - 1. - - - - - - - - - - - - 1. - - - - - - - - - - - - 1. - - - - - - - - - - - - 1. - - - - - - - - - - - - 1. - - - - - - - - - - - - 1. - - - -\n",
      "BrB02DstD0Kp shape - - 1. - - - - - - - - - - - - 1. - - - - - - - - - - - - 1. - - - - - - - - - - - - 1. - - - - - - - - - - - - 1. - - - - - - - - - - - - 1. - - - - - - - - - - - - 1. - - - - - - - - - - - - 1. - - - - - - - - - - - - 1. - - - - - - - - - - - - 1. - - - - - - - - - -\n",
      "BrB02DstD0Kstp shape - - 1. - - - - - - - - - - - - 1. - - - - - - - - - - - - 1. - - - - - - - - - - - - 1. - - - - - - - - - - - - 1. - - - - - - - - - - - - 1. - - - - - - - - - - - - 1. - - - - - - - - - - - - 1. - - - - - - - - - - - - 1. - - - - - - - - - - - - 1. - - - - - - - - - -\n",
      "BrB02DstDst0Kp shape - - 1. - - - - - - - - - - - - 1. - - - - - - - - - - - - 1. - - - - - - - - - - - - 1. - - - - - - - - - - - - 1. - - - - - - - - - - - - 1. - - - - - - - - - - - - 1. - - - - - - - - - - - - 1. - - - - - - - - - - - - 1. - - - - - - - - - - - - 1. - - - - - - - - - -\n",
      "BrB02DstDst0Kstp shape - - 1. - - - - - - - - - - - - 1. - - - - - - - - - - - - 1. - - - - - - - - - - - - 1. - - - - - - - - - - - - 1. - - - - - - - - - - - - 1. - - - - - - - - - - - - 1. - - - - - - - - - - - - 1. - - - - - - - - - - - - 1. - - - - - - - - - - - - 1. - - - - - - - - - -\n",
      "BrB02DstDpK0 shape - - - 1. - - - - - - - - - - - - 1. - - - - - - - - - - - - 1. - - - - - - - - - - - - 1. - - - - - - - - - - - - 1. - - - - - - - - - - - - 1. - - - - - - - - - - - - 1. - - - - - - - - - - - - 1. - - - - - - - - - - - - 1. - - - - - - - - - - - - 1. - - - - - - - - -\n",
      "BrB02DstDpKst0 shape - - - 1. - - - - - - - - - - - - 1. - - - - - - - - - - - - 1. - - - - - - - - - - - - 1. - - - - - - - - - - - - 1. - - - - - - - - - - - - 1. - - - - - - - - - - - - 1. - - - - - - - - - - - - 1. - - - - - - - - - - - - 1. - - - - - - - - - - - - 1. - - - - - - - - -\n",
      "BrB02DstDstpK0 shape - - 1. 1. - - - - - - - - - - - 1. 1. - - - - - - - - - - - 1. 1. - - - - - - - - - - - 1. 1. - - - - - - - - - - - 1. 1. - - - - - - - - - - - 1. 1. - - - - - - - - - - - 1. 1. - - - - - - - - - - - 1. 1. - - - - - - - - - - - 1. 1. - - - - - - - - - - - 1. 1. - - - - - - - - -\n",
      "BrB02DstDstpKst0 shape - - 1. 1. - - - - - - - - - - - 1. 1. - - - - - - - - - - - 1. 1. - - - - - - - - - - - 1. 1. - - - - - - - - - - - 1. 1. - - - - - - - - - - - 1. 1. - - - - - - - - - - - 1. 1. - - - - - - - - - - - 1. 1. - - - - - - - - - - - 1. 1. - - - - - - - - - - - 1. 1. - - - - - - - - -\n",
      "BrB02DstDs shape - - - - 1. - - - - - - - - - - - - 1. - - - - - - - - - - - - 1. - - - - - - - - - - - - 1. - - - - - - - - - - - - 1. - - - - - - - - - - - - 1. - - - - - - - - - - - - 1. - - - - - - - - - - - - 1. - - - - - - - - - - - - 1. - - - - - - - - - - - - 1. - - - - - - - -\n",
      "BrB02DstDsst shape - - - - 1. - - - - - - - - - - - - 1. - - - - - - - - - - - - 1. - - - - - - - - - - - - 1. - - - - - - - - - - - - 1. - - - - - - - - - - - - 1. - - - - - - - - - - - - 1. - - - - - - - - - - - - 1. - - - - - - - - - - - - 1. - - - - - - - - - - - - 1. - - - - - - - -\n",
      "BrB02DstDs0st shape - - - - 1. - - - - - - - - - - - - 1. - - - - - - - - - - - - 1. - - - - - - - - - - - - 1. - - - - - - - - - - - - 1. - - - - - - - - - - - - 1. - - - - - - - - - - - - 1. - - - - - - - - - - - - 1. - - - - - - - - - - - - 1. - - - - - - - - - - - - 1. - - - - - - - -\n",
      "* autoMCStats 10 1 1\n",
      "--------------------------------------------------------------\n",
      "B2DstFF group = B2DstCLNR0 B2DstCLNR1 B2DstCLNR2 B2DstCLNRhoSq\n",
      "\n"
     ]
    }
   ],
   "source": [
    "print card"
   ]
  },
  {
   "cell_type": "code",
   "execution_count": 50,
   "metadata": {
    "ExecuteTime": {
     "end_time": "2020-07-08T02:45:42.691288Z",
     "start_time": "2020-07-08T02:45:42.647196Z"
    },
    "hidden": true
   },
   "outputs": [],
   "source": [
    "card_location = 'cards/{}.txt'.format(card_name)\n",
    "fc = open(card_location, 'w')\n",
    "fc.write(card)\n",
    "fc.close()"
   ]
  },
  {
   "cell_type": "code",
   "execution_count": 51,
   "metadata": {
    "ExecuteTime": {
     "end_time": "2020-07-08T02:45:42.812067Z",
     "start_time": "2020-07-08T02:45:42.695697Z"
    },
    "hidden": true
   },
   "outputs": [],
   "source": [
    "outdir = 'results/' + card_name\n",
    "if os.path.isdir(outdir):\n",
    "    os.system('rm -rf ' + outdir)\n",
    "os.system('mkdir -p ' + outdir + '/fig');"
   ]
  },
  {
   "cell_type": "markdown",
   "metadata": {},
   "source": [
    "# Run Combine"
   ]
  },
  {
   "cell_type": "markdown",
   "metadata": {
    "heading_collapsed": true
   },
   "source": [
    "## Create the workspace"
   ]
  },
  {
   "cell_type": "code",
   "execution_count": 52,
   "metadata": {
    "ExecuteTime": {
     "end_time": "2020-07-08T02:45:53.677174Z",
     "start_time": "2020-07-08T02:45:42.818581Z"
    },
    "hidden": true,
    "scrolled": true
   },
   "outputs": [
    {
     "name": "stdout",
     "output_type": "stream",
     "text": [
      "Channel AddTk_m_mHad will use autoMCStats with settings: event-threshold=10, include-signal=1, hist-mode=1\n",
      "============================================================\n",
      "Analysing bin errors for: prop_binAddTk_m_mHad\n",
      "Poisson cut-off: 10\n",
      "============================================================\n",
      "Bin        Contents        Error           Notes                         \n",
      "0          12.281388       1.474622        total sum                     \n",
      "0          69.000000       8.306624        Unweighted events, alpha=0.177991\n",
      "  => Total parameter prop_binAddTk_m_mHad_bin0[0.00,-7.00,7.00] to be gaussian constrained\n",
      "------------------------------------------------------------\n",
      "1          313.076963      7.258937        total sum                     \n",
      "1          1860.000000     43.127717       Unweighted events, alpha=0.168321\n",
      "  => Total parameter prop_binAddTk_m_mHad_bin1[0.00,-7.00,7.00] to be gaussian constrained\n",
      "------------------------------------------------------------\n",
      "2          488.242367      9.069283        total sum                     \n",
      "2          2898.000000     53.833075       Unweighted events, alpha=0.168476\n",
      "  => Total parameter prop_binAddTk_m_mHad_bin2[0.00,-7.00,7.00] to be gaussian constrained\n",
      "------------------------------------------------------------\n",
      "3          414.686388      8.513760        total sum                     \n",
      "3          2372.000000     48.703183       Unweighted events, alpha=0.174826\n",
      "  => Total parameter prop_binAddTk_m_mHad_bin3[0.00,-7.00,7.00] to be gaussian constrained\n",
      "------------------------------------------------------------\n",
      "4          332.144053      7.854304        total sum                     \n",
      "4          1788.000000     42.284749       Unweighted events, alpha=0.185763\n",
      "  => Total parameter prop_binAddTk_m_mHad_bin4[0.00,-7.00,7.00] to be gaussian constrained\n",
      "------------------------------------------------------------\n",
      "5          275.964352      7.094996        total sum                     \n",
      "5          1513.000000     38.897301       Unweighted events, alpha=0.182395\n",
      "  => Total parameter prop_binAddTk_m_mHad_bin5[0.00,-7.00,7.00] to be gaussian constrained\n",
      "------------------------------------------------------------\n",
      "6          215.713495      6.198032        total sum                     \n",
      "6          1211.000000     34.799425       Unweighted events, alpha=0.178128\n",
      "  => Total parameter prop_binAddTk_m_mHad_bin6[0.00,-7.00,7.00] to be gaussian constrained\n",
      "------------------------------------------------------------\n",
      "7          176.607867      6.144992        total sum                     \n",
      "7          826.000000      28.740216       Unweighted events, alpha=0.213811\n",
      "  => Total parameter prop_binAddTk_m_mHad_bin7[0.00,-7.00,7.00] to be gaussian constrained\n",
      "------------------------------------------------------------\n",
      "8          145.827939      5.486258        total sum                     \n",
      "8          707.000000      26.589472       Unweighted events, alpha=0.206263\n",
      "  => Total parameter prop_binAddTk_m_mHad_bin8[0.00,-7.00,7.00] to be gaussian constrained\n",
      "------------------------------------------------------------\n",
      "9          109.609874      4.614502        total sum                     \n",
      "9          564.000000      23.748684       Unweighted events, alpha=0.194344\n",
      "  => Total parameter prop_binAddTk_m_mHad_bin9[0.00,-7.00,7.00] to be gaussian constrained\n",
      "------------------------------------------------------------\n",
      "10         79.379750       3.846399        total sum                     \n",
      "10         426.000000      20.639767       Unweighted events, alpha=0.186337\n",
      "  => Total parameter prop_binAddTk_m_mHad_bin10[0.00,-7.00,7.00] to be gaussian constrained\n",
      "------------------------------------------------------------\n",
      "11         70.302136       3.975848        total sum                     \n",
      "11         313.000000      17.691806       Unweighted events, alpha=0.224607\n",
      "  => Total parameter prop_binAddTk_m_mHad_bin11[0.00,-7.00,7.00] to be gaussian constrained\n",
      "------------------------------------------------------------\n",
      "12         57.025570       3.348235        total sum                     \n",
      "12         290.000000      17.029386       Unweighted events, alpha=0.196640\n",
      "  => Total parameter prop_binAddTk_m_mHad_bin12[0.00,-7.00,7.00] to be gaussian constrained\n",
      "------------------------------------------------------------\n",
      "13         48.775948       3.208260        total sum                     \n",
      "13         231.000000      15.198684       Unweighted events, alpha=0.211151\n",
      "  => Total parameter prop_binAddTk_m_mHad_bin13[0.00,-7.00,7.00] to be gaussian constrained\n",
      "------------------------------------------------------------\n",
      "14         42.582747       2.880644        total sum                     \n",
      "14         219.000000      14.798649       Unweighted events, alpha=0.194442\n",
      "  => Total parameter prop_binAddTk_m_mHad_bin14[0.00,-7.00,7.00] to be gaussian constrained\n",
      "------------------------------------------------------------\n",
      "15         33.134824       2.681264        total sum                     \n",
      "15         153.000000      12.369317       Unweighted events, alpha=0.216567\n",
      "  => Total parameter prop_binAddTk_m_mHad_bin15[0.00,-7.00,7.00] to be gaussian constrained\n",
      "------------------------------------------------------------\n",
      "16         28.726896       2.184661        total sum                     \n",
      "16         173.000000      13.152946       Unweighted events, alpha=0.166051\n",
      "  => Total parameter prop_binAddTk_m_mHad_bin16[0.00,-7.00,7.00] to be gaussian constrained\n",
      "------------------------------------------------------------\n",
      "17         24.057100       1.918197        total sum                     \n",
      "17         157.000000      12.529964       Unweighted events, alpha=0.153230\n",
      "  => Total parameter prop_binAddTk_m_mHad_bin17[0.00,-7.00,7.00] to be gaussian constrained\n",
      "------------------------------------------------------------\n",
      "18         19.923516       1.896638        total sum                     \n",
      "18         110.000000      10.488088       Unweighted events, alpha=0.181123\n",
      "  => Total parameter prop_binAddTk_m_mHad_bin18[0.00,-7.00,7.00] to be gaussian constrained\n",
      "------------------------------------------------------------\n",
      "19         17.198867       1.775650        total sum                     \n",
      "19         94.000000       9.695360        Unweighted events, alpha=0.182967\n",
      "  => Total parameter prop_binAddTk_m_mHad_bin19[0.00,-7.00,7.00] to be gaussian constrained\n",
      "------------------------------------------------------------\n",
      "20         13.100685       1.302501        total sum                     \n",
      "20         101.000000      10.049876       Unweighted events, alpha=0.129710\n",
      "  => Total parameter prop_binAddTk_m_mHad_bin20[0.00,-7.00,7.00] to be gaussian constrained\n",
      "------------------------------------------------------------\n",
      "21         11.533088       1.497045        total sum                     \n",
      "21         59.000000       7.681146        Unweighted events, alpha=0.195476\n",
      "  => Total parameter prop_binAddTk_m_mHad_bin21[0.00,-7.00,7.00] to be gaussian constrained\n",
      "------------------------------------------------------------\n",
      "22         10.648558       1.364500        total sum                     \n",
      "22         61.000000       7.810250        Unweighted events, alpha=0.174567\n",
      "  => Total parameter prop_binAddTk_m_mHad_bin22[0.00,-7.00,7.00] to be gaussian constrained\n",
      "------------------------------------------------------------\n",
      "23         8.622788        1.007248        total sum                     \n",
      "23         73.000000       8.544004        Unweighted events, alpha=0.118120\n",
      "  => Total parameter prop_binAddTk_m_mHad_bin23[0.00,-7.00,7.00] to be gaussian constrained\n",
      "------------------------------------------------------------\n",
      "24         7.229652        0.841986        total sum                     \n",
      "24         74.000000       8.602325        Unweighted events, alpha=0.097698\n",
      "  => Total parameter prop_binAddTk_m_mHad_bin24[0.00,-7.00,7.00] to be gaussian constrained\n",
      "------------------------------------------------------------\n",
      "25         7.008350        1.087129        total sum                     \n",
      "25         42.000000       6.480741        Unweighted events, alpha=0.166865\n",
      "  => Total parameter prop_binAddTk_m_mHad_bin25[0.00,-7.00,7.00] to be gaussian constrained\n",
      "------------------------------------------------------------\n",
      "26         5.093880        0.775574        total sum                     \n",
      "26         43.000000       6.557439        Unweighted events, alpha=0.118462\n",
      "  => Total parameter prop_binAddTk_m_mHad_bin26[0.00,-7.00,7.00] to be gaussian constrained\n",
      "------------------------------------------------------------\n",
      "27         5.918122        1.094010        total sum                     \n",
      "27         29.000000       5.385165        Unweighted events, alpha=0.204073\n",
      "  => Total parameter prop_binAddTk_m_mHad_bin27[0.00,-7.00,7.00] to be gaussian constrained\n",
      "------------------------------------------------------------\n",
      "28         4.251440        0.761983        total sum                     \n",
      "28         31.000000       5.567764        Unweighted events, alpha=0.137143\n",
      "  => Total parameter prop_binAddTk_m_mHad_bin28[0.00,-7.00,7.00] to be gaussian constrained\n",
      "------------------------------------------------------------\n",
      "29         1.879895        0.435966        total sum                     \n",
      "29         19.000000       4.358899        Unweighted events, alpha=0.098942\n",
      "  => Total parameter prop_binAddTk_m_mHad_bin29[0.00,-7.00,7.00] to be gaussian constrained\n",
      "------------------------------------------------------------\n",
      "Channel AddTk_mm_mHad will use autoMCStats with settings: event-threshold=10, include-signal=1, hist-mode=1\n",
      "============================================================\n",
      "Analysing bin errors for: prop_binAddTk_mm_mHad\n",
      "Poisson cut-off: 10\n",
      "============================================================\n",
      "Bin        Contents        Error           Notes                         \n",
      "0          1.565002        0.420052        total sum                     \n",
      "0          14.000000       3.741657        Unweighted events, alpha=0.111786\n",
      "  => Total parameter prop_binAddTk_mm_mHad_bin0[0.00,-7.00,7.00] to be gaussian constrained\n",
      "------------------------------------------------------------\n",
      "1          17.128349       3.225618        total sum                     \n",
      "1          28.000000       5.291503        Unweighted events, alpha=0.611727\n",
      "  => Total parameter prop_binAddTk_mm_mHad_bin1[0.00,-7.00,7.00] to be gaussian constrained\n",
      "------------------------------------------------------------\n",
      "2          20.664325       2.664466        total sum                     \n",
      "2          60.000000       7.745967        Unweighted events, alpha=0.344405\n",
      "  => Total parameter prop_binAddTk_mm_mHad_bin2[0.00,-7.00,7.00] to be gaussian constrained\n",
      "------------------------------------------------------------\n",
      "3          15.705780       1.820685        total sum                     \n",
      "3          74.000000       8.602325        Unweighted events, alpha=0.212240\n",
      "  => Total parameter prop_binAddTk_mm_mHad_bin3[0.00,-7.00,7.00] to be gaussian constrained\n",
      "------------------------------------------------------------\n",
      "4          21.501741       4.575335        total sum                     \n",
      "4          22.000000       4.690416        Unweighted events, alpha=0.977352\n",
      "  => Total parameter prop_binAddTk_mm_mHad_bin4[0.00,-7.00,7.00] to be gaussian constrained\n",
      "------------------------------------------------------------\n",
      "5          12.517615       1.764805        total sum                     \n",
      "5          50.000000       7.071068        Unweighted events, alpha=0.250352\n",
      "  => Total parameter prop_binAddTk_mm_mHad_bin5[0.00,-7.00,7.00] to be gaussian constrained\n",
      "------------------------------------------------------------\n",
      "6          10.785108       1.824295        total sum                     \n",
      "6          35.000000       5.916080        Unweighted events, alpha=0.308146\n",
      "  => Total parameter prop_binAddTk_mm_mHad_bin6[0.00,-7.00,7.00] to be gaussian constrained\n",
      "------------------------------------------------------------\n",
      "7          6.158917        2.145001        total sum                     \n",
      "7          8.000000        2.828427        Unweighted events, alpha=0.769865\n",
      "  => Number of weighted events is below poisson threshold\n",
      "    tau                  0.181191        0.181191                                      \n",
      "                         1.000000        1.000000        Unweighted events, alpha=0.181191\n",
      "      => Product of prop_binAddTk_mm_mHad_bin7_tau[1.00,0.00,30.85] and const [1.0000] to be poisson constrained\n",
      "  ----------------------------------------------------------\n",
      "    DstmDp               0.027927        0.020785                                      \n",
      "                         2.000000        1.414214        Unweighted events, alpha=0.013964\n",
      "      => Product of prop_binAddTk_mm_mHad_bin7_DstmDp[2.00,0.00,33.79] and const [0.5000] to be poisson constrained\n",
      "  ----------------------------------------------------------\n",
      "    BmDstmHc             0.041452        0.041195                                      \n",
      "                         1.000000        1.000000        Unweighted events, alpha=0.041452\n",
      "      => Product of prop_binAddTk_mm_mHad_bin7_BmDstmHc[1.00,0.00,30.85] and const [1.0000] to be poisson constrained\n",
      "  ----------------------------------------------------------\n",
      "    DstPipPi0            0.051705        0.044037                                      \n",
      "                         1.000000        1.000000        Unweighted events, alpha=0.051705\n",
      "      => Product of prop_binAddTk_mm_mHad_bin7_DstPipPi0[1.00,0.00,30.85] and const [1.0000] to be poisson constrained\n",
      "  ----------------------------------------------------------\n",
      "    DstPip               0.861676        0.488155                                      \n",
      "                         3.000000        1.732051        Unweighted events, alpha=0.287225\n",
      "      => Product of prop_binAddTk_mm_mHad_bin7_DstPip[3.00,0.00,36.46] and const [0.3333] to be poisson constrained\n",
      "  ----------------------------------------------------------\n",
      "    antiB0DstmHc         0.000000        0.000000                                      \n",
      "      => Error is zero, ignore      \n",
      "  ----------------------------------------------------------\n",
      "    mu                   4.503343        2.070491                                      \n",
      "                         5.000000        2.236068        Unweighted events, alpha=0.900669\n",
      "      => Product of prop_binAddTk_mm_mHad_bin7_mu[5.00,0.01,41.33] and const [0.2000] to be poisson constrained\n",
      "  ----------------------------------------------------------\n",
      "    DstmDsp              0.103911        0.043342                                      \n",
      "                         6.000000        2.449490        Unweighted events, alpha=0.017318\n",
      "      => Product of prop_binAddTk_mm_mHad_bin7_DstmDsp[6.00,0.03,43.60] and const [0.1667] to be poisson constrained\n",
      "  ----------------------------------------------------------\n",
      "    DstPi0               0.099145        0.063512                                      \n",
      "                         2.000000        1.414214        Unweighted events, alpha=0.049572\n",
      "      => Product of prop_binAddTk_mm_mHad_bin7_DstPi0[2.00,0.00,33.79] and const [0.5000] to be poisson constrained\n",
      "  ----------------------------------------------------------\n",
      "    DstPipPim            0.267683        0.180782                                      \n",
      "                         2.000000        1.414214        Unweighted events, alpha=0.133842\n",
      "      => Product of prop_binAddTk_mm_mHad_bin7_DstPipPim[2.00,0.00,33.79] and const [0.5000] to be poisson constrained\n",
      "  ----------------------------------------------------------\n",
      "    DstmD0               0.000813        0.000813                                      \n",
      "                         1.000000        1.000000        Unweighted events, alpha=0.000813\n",
      "      => Product of prop_binAddTk_mm_mHad_bin7_DstmD0[1.00,0.00,30.85] and const [1.0000] to be poisson constrained\n",
      "  ----------------------------------------------------------\n",
      "    BpDstmHc             0.000000        0.000000                                      \n",
      "      => Error is zero, ignore      \n",
      "  ----------------------------------------------------------\n",
      "    DstPi0Pi0            0.020072        0.017434                                      \n",
      "                         1.000000        1.000000        Unweighted events, alpha=0.020072\n",
      "      => Product of prop_binAddTk_mm_mHad_bin7_DstPi0Pi0[1.00,0.00,30.85] and const [1.0000] to be poisson constrained\n",
      "  ----------------------------------------------------------\n",
      "------------------------------------------------------------\n",
      "8          5.151762        1.159771        total sum                     \n",
      "8          20.000000       4.472136        Unweighted events, alpha=0.257588\n",
      "  => Total parameter prop_binAddTk_mm_mHad_bin8[0.00,-7.00,7.00] to be gaussian constrained\n",
      "------------------------------------------------------------\n",
      "9          3.683182        1.010060        total sum                     \n",
      "9          13.000000       3.605551        Unweighted events, alpha=0.283322\n",
      "  => Total parameter prop_binAddTk_mm_mHad_bin9[0.00,-7.00,7.00] to be gaussian constrained\n",
      "------------------------------------------------------------\n",
      "10         1.873779        0.635627        total sum                     \n",
      "10         9.000000        3.000000        Unweighted events, alpha=0.208198\n",
      "  => Number of weighted events is below poisson threshold\n",
      "    tau                  0.080949        0.057372                                      \n",
      "                         2.000000        1.414214        Unweighted events, alpha=0.040475\n",
      "      => Product of prop_binAddTk_mm_mHad_bin10_tau[2.00,0.00,33.79] and const [0.5000] to be poisson constrained\n",
      "  ----------------------------------------------------------\n",
      "    DstmDp               0.011928        0.011928                                      \n",
      "                         1.000000        1.000000        Unweighted events, alpha=0.011928\n",
      "      => Product of prop_binAddTk_mm_mHad_bin10_DstmDp[1.00,0.00,30.85] and const [1.0000] to be poisson constrained\n",
      "  ----------------------------------------------------------\n",
      "    BmDstmHc             0.269693        0.220856                                      \n",
      "                         1.000000        1.000000        Unweighted events, alpha=0.269693\n",
      "      => Product of prop_binAddTk_mm_mHad_bin10_BmDstmHc[1.00,0.00,30.85] and const [1.0000] to be poisson constrained\n",
      "  ----------------------------------------------------------\n",
      "    DstPipPi0            0.000000        0.000000                                      \n",
      "      => Error is zero, ignore      \n",
      "  ----------------------------------------------------------\n",
      "    DstPip               0.016196        0.016196                                      \n",
      "                         1.000000        1.000000        Unweighted events, alpha=0.016196\n",
      "      => Product of prop_binAddTk_mm_mHad_bin10_DstPip[1.00,0.00,30.85] and const [1.0000] to be poisson constrained\n",
      "  ----------------------------------------------------------\n",
      "    antiB0DstmHc         0.000000        0.000000                                      \n",
      "      => Error is zero, ignore      \n",
      "  ----------------------------------------------------------\n",
      "    mu                   1.329426        0.587985                                      \n",
      "                         5.000000        2.236068        Unweighted events, alpha=0.265885\n",
      "      => Product of prop_binAddTk_mm_mHad_bin10_mu[5.00,0.01,41.33] and const [0.2000] to be poisson constrained\n",
      "  ----------------------------------------------------------\n",
      "    DstmDsp              0.081706        0.064266                                      \n",
      "                         2.000000        1.414214        Unweighted events, alpha=0.040853\n",
      "      => Product of prop_binAddTk_mm_mHad_bin10_DstmDsp[2.00,0.00,33.79] and const [0.5000] to be poisson constrained\n",
      "  ----------------------------------------------------------\n",
      "    DstPi0               0.017771        0.017771                                      \n",
      "                         1.000000        1.000000        Unweighted events, alpha=0.017771\n",
      "      => Product of prop_binAddTk_mm_mHad_bin10_DstPi0[1.00,0.00,30.85] and const [1.0000] to be poisson constrained\n",
      "  ----------------------------------------------------------\n",
      "    DstPipPim            0.000000        0.000000                                      \n",
      "      => Error is zero, ignore      \n",
      "  ----------------------------------------------------------\n",
      "    DstmD0               0.055290        0.035598                                      \n",
      "                         2.000000        1.414214        Unweighted events, alpha=0.027645\n",
      "      => Product of prop_binAddTk_mm_mHad_bin10_DstmD0[2.00,0.00,33.79] and const [0.5000] to be poisson constrained\n",
      "  ----------------------------------------------------------\n",
      "    BpDstmHc             0.000467        0.000428                                      \n",
      "                         1.000000        1.000000        Unweighted events, alpha=0.000467\n",
      "      => Product of prop_binAddTk_mm_mHad_bin10_BpDstmHc[1.00,0.00,30.85] and const [1.0000] to be poisson constrained\n",
      "  ----------------------------------------------------------\n",
      "    DstPi0Pi0            0.010352        0.010352                                      \n",
      "                         1.000000        1.000000        Unweighted events, alpha=0.010352\n",
      "      => Product of prop_binAddTk_mm_mHad_bin10_DstPi0Pi0[1.00,0.00,30.85] and const [1.0000] to be poisson constrained\n",
      "  ----------------------------------------------------------\n",
      "------------------------------------------------------------\n",
      "11         1.299934        0.445871        total sum                     \n",
      "11         9.000000        3.000000        Unweighted events, alpha=0.144437\n",
      "  => Number of weighted events is below poisson threshold\n",
      "    tau                  0.067513        0.048015                                      \n",
      "                         2.000000        1.414214        Unweighted events, alpha=0.033757\n",
      "      => Product of prop_binAddTk_mm_mHad_bin11_tau[2.00,0.00,33.79] and const [0.5000] to be poisson constrained\n",
      "  ----------------------------------------------------------\n",
      "    DstmDp               0.000000        0.000000                                      \n",
      "      => Error is zero, ignore      \n",
      "  ----------------------------------------------------------\n",
      "    BmDstmHc             0.058584        0.043291                                      \n",
      "                         2.000000        1.414214        Unweighted events, alpha=0.029292\n",
      "      => Product of prop_binAddTk_mm_mHad_bin11_BmDstmHc[2.00,0.00,33.79] and const [0.5000] to be poisson constrained\n",
      "  ----------------------------------------------------------\n",
      "    DstPipPi0            0.000000        0.000000                                      \n",
      "      => Error is zero, ignore      \n",
      "  ----------------------------------------------------------\n",
      "    DstPip               0.000000        0.000000                                      \n",
      "      => Error is zero, ignore      \n",
      "  ----------------------------------------------------------\n",
      "    antiB0DstmHc         0.000000        0.000000                                      \n",
      "      => Error is zero, ignore      \n",
      "  ----------------------------------------------------------\n",
      "    mu                   1.049583        0.435734                                      \n",
      "                         6.000000        2.449490        Unweighted events, alpha=0.174930\n",
      "      => Product of prop_binAddTk_mm_mHad_bin11_mu[6.00,0.03,43.60] and const [0.1667] to be poisson constrained\n",
      "  ----------------------------------------------------------\n",
      "    DstmDsp              0.000000        0.000000                                      \n",
      "      => Error is zero, ignore      \n",
      "  ----------------------------------------------------------\n",
      "    DstPi0               0.063590        0.055304                                      \n",
      "                         1.000000        1.000000        Unweighted events, alpha=0.063590\n",
      "      => Product of prop_binAddTk_mm_mHad_bin11_DstPi0[1.00,0.00,30.85] and const [1.0000] to be poisson constrained\n",
      "  ----------------------------------------------------------\n",
      "    DstPipPim            0.000000        0.000000                                      \n",
      "      => Error is zero, ignore      \n",
      "  ----------------------------------------------------------\n",
      "    DstmD0               0.027000        0.027000                                      \n",
      "                         1.000000        1.000000        Unweighted events, alpha=0.027000\n",
      "      => Product of prop_binAddTk_mm_mHad_bin11_DstmD0[1.00,0.00,30.85] and const [1.0000] to be poisson constrained\n",
      "  ----------------------------------------------------------\n",
      "    BpDstmHc             0.000000        0.000000                                      \n",
      "      => Error is zero, ignore      \n",
      "  ----------------------------------------------------------\n",
      "    DstPi0Pi0            0.033664        0.031144                                      \n",
      "                         1.000000        1.000000        Unweighted events, alpha=0.033664\n",
      "      => Product of prop_binAddTk_mm_mHad_bin11_DstPi0Pi0[1.00,0.00,30.85] and const [1.0000] to be poisson constrained\n",
      "  ----------------------------------------------------------\n",
      "------------------------------------------------------------\n",
      "12         1.194396        0.332468        total sum                     \n",
      "12         13.000000       3.605551        Unweighted events, alpha=0.091877\n",
      "  => Total parameter prop_binAddTk_mm_mHad_bin12[0.00,-7.00,7.00] to be gaussian constrained\n",
      "------------------------------------------------------------\n",
      "13         0.843242        0.284807        total sum                     \n",
      "13         9.000000        3.000000        Unweighted events, alpha=0.093694\n",
      "  => Number of weighted events is below poisson threshold\n",
      "    tau                  0.000000        0.000000                                      \n",
      "      => Error is zero, ignore      \n",
      "  ----------------------------------------------------------\n",
      "    DstmDp               0.015213        0.015213                                      \n",
      "                         1.000000        1.000000        Unweighted events, alpha=0.015213\n",
      "      => Product of prop_binAddTk_mm_mHad_bin13_DstmDp[1.00,0.00,30.85] and const [1.0000] to be poisson constrained\n",
      "  ----------------------------------------------------------\n",
      "    BmDstmHc             0.146149        0.081371                                      \n",
      "                         3.000000        1.732051        Unweighted events, alpha=0.048716\n",
      "      => Product of prop_binAddTk_mm_mHad_bin13_BmDstmHc[3.00,0.00,36.46] and const [0.3333] to be poisson constrained\n",
      "  ----------------------------------------------------------\n",
      "    DstPipPi0            0.000000        0.000000                                      \n",
      "      => Error is zero, ignore      \n",
      "  ----------------------------------------------------------\n",
      "    DstPip               0.000000        0.000000                                      \n",
      "      => Error is zero, ignore      \n",
      "  ----------------------------------------------------------\n",
      "    antiB0DstmHc         0.000000        0.000000                                      \n",
      "      => Error is zero, ignore      \n",
      "  ----------------------------------------------------------\n",
      "    mu                   0.600947        0.260216                                      \n",
      "                         5.000000        2.236068        Unweighted events, alpha=0.120189\n",
      "      => Product of prop_binAddTk_mm_mHad_bin13_mu[5.00,0.01,41.33] and const [0.2000] to be poisson constrained\n",
      "  ----------------------------------------------------------\n",
      "    DstmDsp              0.000000        0.000000                                      \n",
      "      => Error is zero, ignore      \n",
      "  ----------------------------------------------------------\n",
      "    DstPi0               0.000000        0.000000                                      \n",
      "      => Error is zero, ignore      \n",
      "  ----------------------------------------------------------\n",
      "    DstPipPim            0.080933        0.080933                                      \n",
      "                         1.000000        1.000000        Unweighted events, alpha=0.080933\n",
      "      => Product of prop_binAddTk_mm_mHad_bin13_DstPipPim[1.00,0.00,30.85] and const [1.0000] to be poisson constrained\n",
      "  ----------------------------------------------------------\n",
      "    DstmD0               0.000000        0.000000                                      \n",
      "      => Error is zero, ignore      \n",
      "  ----------------------------------------------------------\n",
      "    BpDstmHc             0.000000        0.000000                                      \n",
      "      => Error is zero, ignore      \n",
      "  ----------------------------------------------------------\n",
      "    DstPi0Pi0            0.000000        0.000000                                      \n",
      "      => Error is zero, ignore      \n",
      "  ----------------------------------------------------------\n",
      "------------------------------------------------------------\n",
      "14         0.470285        0.189679        total sum                     \n",
      "14         6.000000        2.449490        Unweighted events, alpha=0.078381\n",
      "  => Number of weighted events is below poisson threshold\n",
      "    tau                  0.000000        0.000000                                      \n",
      "      => Error is zero, ignore      \n",
      "  ----------------------------------------------------------\n",
      "    DstmDp               0.000000        0.000000                                      \n",
      "      => Error is zero, ignore      \n",
      "  ----------------------------------------------------------\n",
      "    BmDstmHc             0.251474        0.107939                                      \n",
      "                         5.000000        2.236068        Unweighted events, alpha=0.050295\n",
      "      => Product of prop_binAddTk_mm_mHad_bin14_BmDstmHc[5.00,0.01,41.33] and const [0.2000] to be poisson constrained\n",
      "  ----------------------------------------------------------\n",
      "    DstPipPi0            0.000000        0.000000                                      \n",
      "      => Error is zero, ignore      \n",
      "  ----------------------------------------------------------\n",
      "    DstPip               0.000000        0.000000                                      \n",
      "      => Error is zero, ignore      \n",
      "  ----------------------------------------------------------\n",
      "    antiB0DstmHc         0.000000        0.000000                                      \n",
      "      => Error is zero, ignore      \n",
      "  ----------------------------------------------------------\n",
      "    mu                   0.024936        0.024936                                      \n",
      "                         1.000000        1.000000        Unweighted events, alpha=0.024936\n",
      "      => Product of prop_binAddTk_mm_mHad_bin14_mu[1.00,0.00,30.85] and const [1.0000] to be poisson constrained\n",
      "  ----------------------------------------------------------\n",
      "    DstmDsp              0.046171        0.043461                                      \n",
      "                         1.000000        1.000000        Unweighted events, alpha=0.046171\n",
      "      => Product of prop_binAddTk_mm_mHad_bin14_DstmDsp[1.00,0.00,30.85] and const [1.0000] to be poisson constrained\n",
      "  ----------------------------------------------------------\n",
      "    DstPi0               0.147704        0.147704                                      \n",
      "                         1.000000        1.000000        Unweighted events, alpha=0.147704\n",
      "      => Product of prop_binAddTk_mm_mHad_bin14_DstPi0[1.00,0.00,30.85] and const [1.0000] to be poisson constrained\n",
      "  ----------------------------------------------------------\n",
      "    DstPipPim            0.000000        0.000000                                      \n",
      "      => Error is zero, ignore      \n",
      "  ----------------------------------------------------------\n",
      "    DstmD0               0.000000        0.000000                                      \n",
      "      => Error is zero, ignore      \n",
      "  ----------------------------------------------------------\n",
      "    BpDstmHc             0.000000        0.000000                                      \n",
      "      => Error is zero, ignore      \n",
      "  ----------------------------------------------------------\n",
      "    DstPi0Pi0            0.000000        0.000000                                      \n",
      "      => Error is zero, ignore      \n",
      "  ----------------------------------------------------------\n",
      "------------------------------------------------------------\n",
      "Channel AddTk_p_mHad will use autoMCStats with settings: event-threshold=10, include-signal=1, hist-mode=1\n",
      "============================================================\n",
      "Analysing bin errors for: prop_binAddTk_p_mHad\n",
      "Poisson cut-off: 10\n",
      "============================================================\n",
      "Bin        Contents        Error           Notes                         \n",
      "0          40.480531       2.365463        total sum                     \n",
      "0          293.000000      17.117243       Unweighted events, alpha=0.138159\n",
      "  => Total parameter prop_binAddTk_p_mHad_bin0[0.00,-7.00,7.00] to be gaussian constrained\n",
      "------------------------------------------------------------\n",
      "1          177.567562      5.199269        total sum                     \n",
      "1          1166.000000     34.146742       Unweighted events, alpha=0.152288\n",
      "  => Total parameter prop_binAddTk_p_mHad_bin1[0.00,-7.00,7.00] to be gaussian constrained\n",
      "------------------------------------------------------------\n",
      "2          288.915669      6.806865        total sum                     \n",
      "2          1802.000000     42.449971       Unweighted events, alpha=0.160331\n",
      "  => Total parameter prop_binAddTk_p_mHad_bin2[0.00,-7.00,7.00] to be gaussian constrained\n",
      "------------------------------------------------------------\n",
      "3          292.893357      6.573937        total sum                     \n",
      "3          1985.000000     44.553339       Unweighted events, alpha=0.147553\n",
      "  => Total parameter prop_binAddTk_p_mHad_bin3[0.00,-7.00,7.00] to be gaussian constrained\n",
      "------------------------------------------------------------\n",
      "4          293.498752      6.923351        total sum                     \n",
      "4          1797.000000     42.391037       Unweighted events, alpha=0.163327\n",
      "  => Total parameter prop_binAddTk_p_mHad_bin4[0.00,-7.00,7.00] to be gaussian constrained\n",
      "------------------------------------------------------------\n",
      "5          281.420213      7.165606        total sum                     \n",
      "5          1542.000000     39.268308       Unweighted events, alpha=0.182503\n",
      "  => Total parameter prop_binAddTk_p_mHad_bin5[0.00,-7.00,7.00] to be gaussian constrained\n",
      "------------------------------------------------------------\n",
      "6          251.156282      6.544015        total sum                     \n",
      "6          1473.000000     38.379682       Unweighted events, alpha=0.170507\n",
      "  => Total parameter prop_binAddTk_p_mHad_bin6[0.00,-7.00,7.00] to be gaussian constrained\n",
      "------------------------------------------------------------\n",
      "7          237.832475      6.251653        total sum                     \n",
      "7          1447.000000     38.039453       Unweighted events, alpha=0.164362\n",
      "  => Total parameter prop_binAddTk_p_mHad_bin7[0.00,-7.00,7.00] to be gaussian constrained\n",
      "------------------------------------------------------------\n",
      "8          222.553660      6.037988        total sum                     \n",
      "8          1359.000000     36.864617       Unweighted events, alpha=0.163763\n",
      "  => Total parameter prop_binAddTk_p_mHad_bin8[0.00,-7.00,7.00] to be gaussian constrained\n",
      "------------------------------------------------------------\n",
      "9          223.341019      6.018455        total sum                     \n",
      "9          1377.000000     37.107951       Unweighted events, alpha=0.162194\n",
      "  => Total parameter prop_binAddTk_p_mHad_bin9[0.00,-7.00,7.00] to be gaussian constrained\n",
      "------------------------------------------------------------\n",
      "10         209.273013      5.638895        total sum                     \n",
      "10         1377.000000     37.107951       Unweighted events, alpha=0.151977\n",
      "  => Total parameter prop_binAddTk_p_mHad_bin10[0.00,-7.00,7.00] to be gaussian constrained\n",
      "------------------------------------------------------------\n",
      "11         226.437633      5.767694        total sum                     \n",
      "11         1541.000000     39.255573       Unweighted events, alpha=0.146942\n",
      "  => Total parameter prop_binAddTk_p_mHad_bin11[0.00,-7.00,7.00] to be gaussian constrained\n",
      "------------------------------------------------------------\n",
      "12         258.199801      5.535705        total sum                     \n",
      "12         2176.000000     46.647615       Unweighted events, alpha=0.118658\n",
      "  => Total parameter prop_binAddTk_p_mHad_bin12[0.00,-7.00,7.00] to be gaussian constrained\n",
      "------------------------------------------------------------\n",
      "13         408.040375      6.609946        total sum                     \n",
      "13         3811.000000     61.733297       Unweighted events, alpha=0.107069\n",
      "  => Total parameter prop_binAddTk_p_mHad_bin13[0.00,-7.00,7.00] to be gaussian constrained\n",
      "------------------------------------------------------------\n",
      "14         546.774810      6.865084        total sum                     \n",
      "14         6343.000000     79.642953       Unweighted events, alpha=0.086201\n",
      "  => Total parameter prop_binAddTk_p_mHad_bin14[0.00,-7.00,7.00] to be gaussian constrained\n",
      "------------------------------------------------------------\n",
      "15         465.027824      6.176286        total sum                     \n",
      "15         5669.000000     75.292762       Unweighted events, alpha=0.082030\n",
      "  => Total parameter prop_binAddTk_p_mHad_bin15[0.00,-7.00,7.00] to be gaussian constrained\n",
      "------------------------------------------------------------\n",
      "16         337.615279      5.954291        total sum                     \n",
      "16         3215.000000     56.700970       Unweighted events, alpha=0.105013\n",
      "  => Total parameter prop_binAddTk_p_mHad_bin16[0.00,-7.00,7.00] to be gaussian constrained\n",
      "------------------------------------------------------------\n",
      "17         239.817041      4.850254        total sum                     \n",
      "17         2445.000000     49.446941       Unweighted events, alpha=0.098085\n",
      "  => Total parameter prop_binAddTk_p_mHad_bin17[0.00,-7.00,7.00] to be gaussian constrained\n",
      "------------------------------------------------------------\n",
      "18         174.236431      4.487439        total sum                     \n",
      "18         1508.000000     38.832976       Unweighted events, alpha=0.115541\n",
      "  => Total parameter prop_binAddTk_p_mHad_bin18[0.00,-7.00,7.00] to be gaussian constrained\n",
      "------------------------------------------------------------\n",
      "19         144.186383      4.198414        total sum                     \n",
      "19         1179.000000     34.336569       Unweighted events, alpha=0.122295\n",
      "  => Total parameter prop_binAddTk_p_mHad_bin19[0.00,-7.00,7.00] to be gaussian constrained\n",
      "------------------------------------------------------------\n",
      "20         115.238502      3.938601        total sum                     \n",
      "20         856.000000      29.257478       Unweighted events, alpha=0.134624\n",
      "  => Total parameter prop_binAddTk_p_mHad_bin20[0.00,-7.00,7.00] to be gaussian constrained\n",
      "------------------------------------------------------------\n",
      "21         92.278257       3.387563        total sum                     \n",
      "21         742.000000      27.239677       Unweighted events, alpha=0.124364\n",
      "  => Total parameter prop_binAddTk_p_mHad_bin21[0.00,-7.00,7.00] to be gaussian constrained\n",
      "------------------------------------------------------------\n",
      "22         86.126507       3.621920        total sum                     \n",
      "22         565.000000      23.769729       Unweighted events, alpha=0.152436\n",
      "  => Total parameter prop_binAddTk_p_mHad_bin22[0.00,-7.00,7.00] to be gaussian constrained\n",
      "------------------------------------------------------------\n",
      "23         73.212892       3.237314        total sum                     \n",
      "23         511.000000      22.605309       Unweighted events, alpha=0.143274\n",
      "  => Total parameter prop_binAddTk_p_mHad_bin23[0.00,-7.00,7.00] to be gaussian constrained\n",
      "------------------------------------------------------------\n",
      "24         65.670309       2.985160        total sum                     \n",
      "24         484.000000      22.000000       Unweighted events, alpha=0.135682\n",
      "  => Total parameter prop_binAddTk_p_mHad_bin24[0.00,-7.00,7.00] to be gaussian constrained\n",
      "------------------------------------------------------------\n",
      "25         55.612781       2.714725        total sum                     \n",
      "25         420.000000      20.493902       Unweighted events, alpha=0.132411\n",
      "  => Total parameter prop_binAddTk_p_mHad_bin25[0.00,-7.00,7.00] to be gaussian constrained\n",
      "------------------------------------------------------------\n",
      "26         52.527738       2.857863        total sum                     \n",
      "26         338.000000      18.384776       Unweighted events, alpha=0.155408\n",
      "  => Total parameter prop_binAddTk_p_mHad_bin26[0.00,-7.00,7.00] to be gaussian constrained\n",
      "------------------------------------------------------------\n",
      "27         48.225281       2.603267        total sum                     \n",
      "27         343.000000      18.520259       Unweighted events, alpha=0.140598\n",
      "  => Total parameter prop_binAddTk_p_mHad_bin27[0.00,-7.00,7.00] to be gaussian constrained\n",
      "------------------------------------------------------------\n",
      "28         42.576454       2.491015        total sum                     \n",
      "28         292.000000      17.088007       Unweighted events, alpha=0.145810\n",
      "  => Total parameter prop_binAddTk_p_mHad_bin28[0.00,-7.00,7.00] to be gaussian constrained\n",
      "------------------------------------------------------------\n",
      "29         41.707248       2.675152        total sum                     \n",
      "29         243.000000      15.588457       Unweighted events, alpha=0.171635\n",
      "  => Total parameter prop_binAddTk_p_mHad_bin29[0.00,-7.00,7.00] to be gaussian constrained\n",
      "------------------------------------------------------------\n",
      "30         35.256299       2.202062        total sum                     \n",
      "30         256.000000      16.000000       Unweighted events, alpha=0.137720\n",
      "  => Total parameter prop_binAddTk_p_mHad_bin30[0.00,-7.00,7.00] to be gaussian constrained\n",
      "------------------------------------------------------------\n",
      "31         35.007442       2.533036        total sum                     \n",
      "31         191.000000      13.820275       Unweighted events, alpha=0.183285\n",
      "  => Total parameter prop_binAddTk_p_mHad_bin31[0.00,-7.00,7.00] to be gaussian constrained\n",
      "------------------------------------------------------------\n",
      "32         29.763164       2.129246        total sum                     \n",
      "32         195.000000      13.964240       Unweighted events, alpha=0.152632\n",
      "  => Total parameter prop_binAddTk_p_mHad_bin32[0.00,-7.00,7.00] to be gaussian constrained\n",
      "------------------------------------------------------------\n",
      "33         26.041206       1.756101        total sum                     \n",
      "33         220.000000      14.832397       Unweighted events, alpha=0.118369\n",
      "  => Total parameter prop_binAddTk_p_mHad_bin33[0.00,-7.00,7.00] to be gaussian constrained\n",
      "------------------------------------------------------------\n",
      "34         26.612547       1.807783        total sum                     \n",
      "34         217.000000      14.730920       Unweighted events, alpha=0.122638\n",
      "  => Total parameter prop_binAddTk_p_mHad_bin34[0.00,-7.00,7.00] to be gaussian constrained\n",
      "------------------------------------------------------------\n",
      "Channel AddTk_pm_mHad will use autoMCStats with settings: event-threshold=10, include-signal=1, hist-mode=1\n",
      "============================================================\n",
      "Analysing bin errors for: prop_binAddTk_pm_mHad\n",
      "Poisson cut-off: 10\n",
      "============================================================\n",
      "Bin        Contents        Error           Notes                         \n",
      "0          12.030502       2.051630        total sum                     \n",
      "0          34.000000       5.830952        Unweighted events, alpha=0.353838\n",
      "  => Total parameter prop_binAddTk_pm_mHad_bin0[0.00,-7.00,7.00] to be gaussian constrained\n",
      "------------------------------------------------------------\n",
      "1          27.846875       3.595926        total sum                     \n",
      "1          60.000000       7.745967        Unweighted events, alpha=0.464115\n",
      "  => Total parameter prop_binAddTk_pm_mHad_bin1[0.00,-7.00,7.00] to be gaussian constrained\n",
      "------------------------------------------------------------\n",
      "2          42.992192       4.400255        total sum                     \n",
      "2          95.000000       9.746794        Unweighted events, alpha=0.452549\n",
      "  => Total parameter prop_binAddTk_pm_mHad_bin2[0.00,-7.00,7.00] to be gaussian constrained\n",
      "------------------------------------------------------------\n",
      "3          48.709960       4.517877        total sum                     \n",
      "3          116.000000      10.770330       Unweighted events, alpha=0.419913\n",
      "  => Total parameter prop_binAddTk_pm_mHad_bin3[0.00,-7.00,7.00] to be gaussian constrained\n",
      "------------------------------------------------------------\n",
      "4          55.889500       3.510897        total sum                     \n",
      "4          253.000000      15.905974       Unweighted events, alpha=0.220907\n",
      "  => Total parameter prop_binAddTk_pm_mHad_bin4[0.00,-7.00,7.00] to be gaussian constrained\n",
      "------------------------------------------------------------\n",
      "5          92.400228       5.706212        total sum                     \n",
      "5          262.000000      16.186414       Unweighted events, alpha=0.352673\n",
      "  => Total parameter prop_binAddTk_pm_mHad_bin5[0.00,-7.00,7.00] to be gaussian constrained\n",
      "------------------------------------------------------------\n",
      "6          149.595720      4.831639        total sum                     \n",
      "6          959.000000      30.967725       Unweighted events, alpha=0.155991\n",
      "  => Total parameter prop_binAddTk_pm_mHad_bin6[0.00,-7.00,7.00] to be gaussian constrained\n",
      "------------------------------------------------------------\n",
      "7          157.781191      5.754173        total sum                     \n",
      "7          752.000000      27.422618       Unweighted events, alpha=0.209815\n",
      "  => Total parameter prop_binAddTk_pm_mHad_bin7[0.00,-7.00,7.00] to be gaussian constrained\n",
      "------------------------------------------------------------\n",
      "8          85.133400       4.076984        total sum                     \n",
      "8          436.000000      20.880613       Unweighted events, alpha=0.195260\n",
      "  => Total parameter prop_binAddTk_pm_mHad_bin8[0.00,-7.00,7.00] to be gaussian constrained\n",
      "------------------------------------------------------------\n",
      "9          55.002099       3.178209        total sum                     \n",
      "9          299.000000      17.291616       Unweighted events, alpha=0.183954\n",
      "  => Total parameter prop_binAddTk_pm_mHad_bin9[0.00,-7.00,7.00] to be gaussian constrained\n",
      "------------------------------------------------------------\n",
      "10         51.401146       4.667705        total sum                     \n",
      "10         121.000000      11.000000       Unweighted events, alpha=0.424803\n",
      "  => Total parameter prop_binAddTk_pm_mHad_bin10[0.00,-7.00,7.00] to be gaussian constrained\n",
      "------------------------------------------------------------\n",
      "11         40.116959       3.025255        total sum                     \n",
      "11         176.000000      13.266499       Unweighted events, alpha=0.227937\n",
      "  => Total parameter prop_binAddTk_pm_mHad_bin11[0.00,-7.00,7.00] to be gaussian constrained\n",
      "------------------------------------------------------------\n",
      "12         38.421855       3.266842        total sum                     \n",
      "12         138.000000      11.747340       Unweighted events, alpha=0.278419\n",
      "  => Total parameter prop_binAddTk_pm_mHad_bin12[0.00,-7.00,7.00] to be gaussian constrained\n",
      "------------------------------------------------------------\n",
      "13         29.627062       1.993418        total sum                     \n",
      "13         221.000000      14.866069       Unweighted events, alpha=0.134059\n",
      "  => Total parameter prop_binAddTk_pm_mHad_bin13[0.00,-7.00,7.00] to be gaussian constrained\n",
      "------------------------------------------------------------\n",
      "14         29.371197       4.351000        total sum                     \n",
      "14         46.000000       6.782330        Unweighted events, alpha=0.638504\n",
      "  => Total parameter prop_binAddTk_pm_mHad_bin14[0.00,-7.00,7.00] to be gaussian constrained\n",
      "------------------------------------------------------------\n",
      "15         26.571704       2.683370        total sum                     \n",
      "15         98.000000       9.899495        Unweighted events, alpha=0.271140\n",
      "  => Total parameter prop_binAddTk_pm_mHad_bin15[0.00,-7.00,7.00] to be gaussian constrained\n",
      "------------------------------------------------------------\n",
      "16         18.519972       1.621223        total sum                     \n",
      "16         130.000000      11.401754       Unweighted events, alpha=0.142461\n",
      "  => Total parameter prop_binAddTk_pm_mHad_bin16[0.00,-7.00,7.00] to be gaussian constrained\n",
      "------------------------------------------------------------\n",
      "17         15.153557       1.331530        total sum                     \n",
      "17         130.000000      11.401754       Unweighted events, alpha=0.116566\n",
      "  => Total parameter prop_binAddTk_pm_mHad_bin17[0.00,-7.00,7.00] to be gaussian constrained\n",
      "------------------------------------------------------------\n",
      "18         18.645869       2.582750        total sum                     \n",
      "18         52.000000       7.211103        Unweighted events, alpha=0.358574\n",
      "  => Total parameter prop_binAddTk_pm_mHad_bin18[0.00,-7.00,7.00] to be gaussian constrained\n",
      "------------------------------------------------------------\n",
      "19         11.260221       0.990549        total sum                     \n",
      "19         129.000000      11.357817       Unweighted events, alpha=0.087289\n",
      "  => Total parameter prop_binAddTk_pm_mHad_bin19[0.00,-7.00,7.00] to be gaussian constrained\n",
      "------------------------------------------------------------\n",
      "20         11.277532       1.007654        total sum                     \n",
      "20         125.000000      11.180340       Unweighted events, alpha=0.090220\n",
      "  => Total parameter prop_binAddTk_pm_mHad_bin20[0.00,-7.00,7.00] to be gaussian constrained\n",
      "------------------------------------------------------------\n",
      "21         11.043708       2.384990        total sum                     \n",
      "21         21.000000       4.582576        Unweighted events, alpha=0.525891\n",
      "  => Total parameter prop_binAddTk_pm_mHad_bin21[0.00,-7.00,7.00] to be gaussian constrained\n",
      "------------------------------------------------------------\n",
      "22         8.421191        0.836543        total sum                     \n",
      "22         101.000000      10.049876       Unweighted events, alpha=0.083378\n",
      "  => Total parameter prop_binAddTk_pm_mHad_bin22[0.00,-7.00,7.00] to be gaussian constrained\n",
      "------------------------------------------------------------\n",
      "23         9.482960        2.496434        total sum                     \n",
      "23         14.000000       3.741657        Unweighted events, alpha=0.677354\n",
      "  => Total parameter prop_binAddTk_pm_mHad_bin23[0.00,-7.00,7.00] to be gaussian constrained\n",
      "------------------------------------------------------------\n",
      "24         7.119949        1.075398        total sum                     \n",
      "24         44.000000       6.633250        Unweighted events, alpha=0.161817\n",
      "  => Total parameter prop_binAddTk_pm_mHad_bin24[0.00,-7.00,7.00] to be gaussian constrained\n",
      "------------------------------------------------------------\n",
      "25         7.504059        1.448969        total sum                     \n",
      "25         27.000000       5.196152        Unweighted events, alpha=0.277928\n",
      "  => Total parameter prop_binAddTk_pm_mHad_bin25[0.00,-7.00,7.00] to be gaussian constrained\n",
      "------------------------------------------------------------\n",
      "26         5.052115        0.569607        total sum                     \n",
      "26         79.000000       8.888194        Unweighted events, alpha=0.063951\n",
      "  => Total parameter prop_binAddTk_pm_mHad_bin26[0.00,-7.00,7.00] to be gaussian constrained\n",
      "------------------------------------------------------------\n",
      "27         3.477502        0.422432        total sum                     \n",
      "27         68.000000       8.246211        Unweighted events, alpha=0.051140\n",
      "  => Total parameter prop_binAddTk_pm_mHad_bin27[0.00,-7.00,7.00] to be gaussian constrained\n",
      "------------------------------------------------------------\n",
      "28         4.570585        0.652038        total sum                     \n",
      "28         49.000000       7.000000        Unweighted events, alpha=0.093277\n",
      "  => Total parameter prop_binAddTk_pm_mHad_bin28[0.00,-7.00,7.00] to be gaussian constrained\n",
      "------------------------------------------------------------\n",
      "29         3.400511        0.510221        total sum                     \n",
      "29         44.000000       6.633250        Unweighted events, alpha=0.077284\n",
      "  => Total parameter prop_binAddTk_pm_mHad_bin29[0.00,-7.00,7.00] to be gaussian constrained\n",
      "------------------------------------------------------------\n",
      "Channel AddTk_pm_mVis will use autoMCStats with settings: event-threshold=10, include-signal=1, hist-mode=1\n",
      "============================================================\n",
      "Analysing bin errors for: prop_binAddTk_pm_mVis\n",
      "Poisson cut-off: 10\n",
      "============================================================\n",
      "Bin        Contents        Error           Notes                         \n",
      "0          2.792280        0.520237        total sum                     \n",
      "0          29.000000       5.385165        Unweighted events, alpha=0.096286\n",
      "  => Total parameter prop_binAddTk_pm_mVis_bin0[0.00,-7.00,7.00] to be gaussian constrained\n",
      "------------------------------------------------------------\n",
      "1          2.388080        0.415566        total sum                     \n",
      "1          33.000000       5.744563        Unweighted events, alpha=0.072366\n",
      "  => Total parameter prop_binAddTk_pm_mVis_bin1[0.00,-7.00,7.00] to be gaussian constrained\n",
      "------------------------------------------------------------\n",
      "2          5.643936        0.563365        total sum                     \n",
      "2          100.000000      10.000000       Unweighted events, alpha=0.056439\n",
      "  => Total parameter prop_binAddTk_pm_mVis_bin2[0.00,-7.00,7.00] to be gaussian constrained\n",
      "------------------------------------------------------------\n",
      "3          9.469741        0.804109        total sum                     \n",
      "3          139.000000      11.789826       Unweighted events, alpha=0.068128\n",
      "  => Total parameter prop_binAddTk_pm_mVis_bin3[0.00,-7.00,7.00] to be gaussian constrained\n",
      "------------------------------------------------------------\n",
      "4          15.345734       1.326352        total sum                     \n",
      "4          134.000000      11.575837       Unweighted events, alpha=0.114520\n",
      "  => Total parameter prop_binAddTk_pm_mVis_bin4[0.00,-7.00,7.00] to be gaussian constrained\n",
      "------------------------------------------------------------\n",
      "5          25.569455       3.053936        total sum                     \n",
      "5          70.000000       8.366600        Unweighted events, alpha=0.365278\n",
      "  => Total parameter prop_binAddTk_pm_mVis_bin5[0.00,-7.00,7.00] to be gaussian constrained\n",
      "------------------------------------------------------------\n",
      "6          30.953070       2.105267        total sum                     \n",
      "6          216.000000      14.696938       Unweighted events, alpha=0.143301\n",
      "  => Total parameter prop_binAddTk_pm_mVis_bin6[0.00,-7.00,7.00] to be gaussian constrained\n",
      "------------------------------------------------------------\n",
      "7          36.235218       1.942682        total sum                     \n",
      "7          348.000000      18.654758       Unweighted events, alpha=0.104124\n",
      "  => Total parameter prop_binAddTk_pm_mVis_bin7[0.00,-7.00,7.00] to be gaussian constrained\n",
      "------------------------------------------------------------\n",
      "8          47.689351       3.494622        total sum                     \n",
      "8          186.000000      13.638182       Unweighted events, alpha=0.256394\n",
      "  => Total parameter prop_binAddTk_pm_mVis_bin8[0.00,-7.00,7.00] to be gaussian constrained\n",
      "------------------------------------------------------------\n",
      "9          53.466364       4.251492        total sum                     \n",
      "9          158.000000      12.569805       Unweighted events, alpha=0.338395\n",
      "  => Total parameter prop_binAddTk_pm_mVis_bin9[0.00,-7.00,7.00] to be gaussian constrained\n",
      "------------------------------------------------------------\n",
      "10         53.984901       2.506977        total sum                     \n",
      "10         464.000000      21.540659       Unweighted events, alpha=0.116347\n",
      "  => Total parameter prop_binAddTk_pm_mVis_bin10[0.00,-7.00,7.00] to be gaussian constrained\n",
      "------------------------------------------------------------\n",
      "11         57.372461       2.795340        total sum                     \n",
      "11         421.000000      20.518285       Unweighted events, alpha=0.136277\n",
      "  => Total parameter prop_binAddTk_pm_mVis_bin11[0.00,-7.00,7.00] to be gaussian constrained\n",
      "------------------------------------------------------------\n",
      "12         63.519051       2.823524        total sum                     \n",
      "12         506.000000      22.494444       Unweighted events, alpha=0.125532\n",
      "  => Total parameter prop_binAddTk_pm_mVis_bin12[0.00,-7.00,7.00] to be gaussian constrained\n",
      "------------------------------------------------------------\n",
      "13         70.597830       4.065695        total sum                     \n",
      "13         302.000000      17.378147       Unweighted events, alpha=0.233768\n",
      "  => Total parameter prop_binAddTk_pm_mVis_bin13[0.00,-7.00,7.00] to be gaussian constrained\n",
      "------------------------------------------------------------\n",
      "14         72.866624       3.951777        total sum                     \n",
      "14         340.000000      18.439089       Unweighted events, alpha=0.214314\n",
      "  => Total parameter prop_binAddTk_pm_mVis_bin14[0.00,-7.00,7.00] to be gaussian constrained\n",
      "------------------------------------------------------------\n",
      "15         77.782894       4.456618        total sum                     \n",
      "15         305.000000      17.464249       Unweighted events, alpha=0.255026\n",
      "  => Total parameter prop_binAddTk_pm_mVis_bin15[0.00,-7.00,7.00] to be gaussian constrained\n",
      "------------------------------------------------------------\n",
      "16         75.148392       4.317617        total sum                     \n",
      "16         303.000000      17.406895       Unweighted events, alpha=0.248014\n",
      "  => Total parameter prop_binAddTk_pm_mVis_bin16[0.00,-7.00,7.00] to be gaussian constrained\n",
      "------------------------------------------------------------\n",
      "17         71.453744       3.835838        total sum                     \n",
      "17         347.000000      18.627936       Unweighted events, alpha=0.205919\n",
      "  => Total parameter prop_binAddTk_pm_mVis_bin17[0.00,-7.00,7.00] to be gaussian constrained\n",
      "------------------------------------------------------------\n",
      "18         71.482187       4.562946        total sum                     \n",
      "18         245.000000      15.652476       Unweighted events, alpha=0.291764\n",
      "  => Total parameter prop_binAddTk_pm_mVis_bin18[0.00,-7.00,7.00] to be gaussian constrained\n",
      "------------------------------------------------------------\n",
      "19         66.668797       5.984964        total sum                     \n",
      "19         124.000000      11.135529       Unweighted events, alpha=0.537652\n",
      "  => Total parameter prop_binAddTk_pm_mVis_bin19[0.00,-7.00,7.00] to be gaussian constrained\n",
      "------------------------------------------------------------\n",
      "20         54.049476       3.996914        total sum                     \n",
      "20         183.000000      13.527749       Unweighted events, alpha=0.295352\n",
      "  => Total parameter prop_binAddTk_pm_mVis_bin20[0.00,-7.00,7.00] to be gaussian constrained\n",
      "------------------------------------------------------------\n",
      "21         51.351678       4.397757        total sum                     \n",
      "21         136.000000      11.661904       Unweighted events, alpha=0.377586\n",
      "  => Total parameter prop_binAddTk_pm_mVis_bin21[0.00,-7.00,7.00] to be gaussian constrained\n",
      "------------------------------------------------------------\n",
      "22         39.279448       3.985147        total sum                     \n",
      "22         97.000000       9.848858        Unweighted events, alpha=0.404943\n",
      "  => Total parameter prop_binAddTk_pm_mVis_bin22[0.00,-7.00,7.00] to be gaussian constrained\n",
      "------------------------------------------------------------\n",
      "23         35.485573       4.703379        total sum                     \n",
      "23         57.000000       7.549834        Unweighted events, alpha=0.622554\n",
      "  => Total parameter prop_binAddTk_pm_mVis_bin23[0.00,-7.00,7.00] to be gaussian constrained\n",
      "------------------------------------------------------------\n",
      "Channel AddTk_pp_mHad will use autoMCStats with settings: event-threshold=10, include-signal=1, hist-mode=1\n",
      "============================================================\n",
      "Analysing bin errors for: prop_binAddTk_pp_mHad\n",
      "Poisson cut-off: 10\n",
      "============================================================\n",
      "Bin        Contents        Error           Notes                         \n",
      "0          5.650121        1.805685        total sum                     \n",
      "0          10.000000       3.162278        Unweighted events, alpha=0.565012\n",
      "  => Number of weighted events is below poisson threshold\n",
      "    tau                  0.070009        0.054585                                      \n",
      "                         2.000000        1.414214        Unweighted events, alpha=0.035004\n",
      "      => Product of prop_binAddTk_pp_mHad_bin0_tau[2.00,0.00,33.79] and const [0.5000] to be poisson constrained\n",
      "  ----------------------------------------------------------\n",
      "    DstmDp               0.000000        0.000000                                      \n",
      "      => Error is zero, ignore      \n",
      "  ----------------------------------------------------------\n",
      "    DstPipPi0            0.000000        0.000000                                      \n",
      "      => Error is zero, ignore      \n",
      "  ----------------------------------------------------------\n",
      "    DstPip               0.094809        0.088338                                      \n",
      "                         1.000000        1.000000        Unweighted events, alpha=0.094809\n",
      "      => Product of prop_binAddTk_pp_mHad_bin0_DstPip[1.00,0.00,30.85] and const [1.0000] to be poisson constrained\n",
      "  ----------------------------------------------------------\n",
      "    antiB0DstmHc         0.000000        0.000000                                      \n",
      "      => Error is zero, ignore      \n",
      "  ----------------------------------------------------------\n",
      "    mu                   4.752970        1.771056                                      \n",
      "                         7.000000        2.645751        Unweighted events, alpha=0.678996\n",
      "      => Product of prop_binAddTk_pp_mHad_bin0_mu[7.00,0.07,45.79] and const [0.1429] to be poisson constrained\n",
      "  ----------------------------------------------------------\n",
      "    DstmDsp              0.011336        0.011336                                      \n",
      "                         1.000000        1.000000        Unweighted events, alpha=0.011336\n",
      "      => Product of prop_binAddTk_pp_mHad_bin0_DstmDsp[1.00,0.00,30.85] and const [1.0000] to be poisson constrained\n",
      "  ----------------------------------------------------------\n",
      "    DstPi0               0.353777        0.275814                                      \n",
      "                         2.000000        1.414214        Unweighted events, alpha=0.176889\n",
      "      => Product of prop_binAddTk_pp_mHad_bin0_DstPi0[2.00,0.00,33.79] and const [0.5000] to be poisson constrained\n",
      "  ----------------------------------------------------------\n",
      "    DstPipPim            0.226978        0.141761                                      \n",
      "                         3.000000        1.732051        Unweighted events, alpha=0.075659\n",
      "      => Product of prop_binAddTk_pp_mHad_bin0_DstPipPim[3.00,0.00,36.46] and const [0.3333] to be poisson constrained\n",
      "  ----------------------------------------------------------\n",
      "    DstmD0               0.129431        0.129431                                      \n",
      "                         1.000000        1.000000        Unweighted events, alpha=0.129431\n",
      "      => Product of prop_binAddTk_pp_mHad_bin0_DstmD0[1.00,0.00,30.85] and const [1.0000] to be poisson constrained\n",
      "  ----------------------------------------------------------\n",
      "    BpDstmHc             0.010812        0.005141                                      \n",
      "                         4.000000        2.000000        Unweighted events, alpha=0.002703\n",
      "      => Product of prop_binAddTk_pp_mHad_bin0_BpDstmHc[4.00,0.00,38.96] and const [0.2500] to be poisson constrained\n",
      "  ----------------------------------------------------------\n",
      "    DstPi0Pi0            0.000000        0.000000                                      \n",
      "      => Error is zero, ignore      \n",
      "  ----------------------------------------------------------\n",
      "------------------------------------------------------------\n",
      "1          28.316028       2.640211        total sum                     \n",
      "1          115.000000      10.723805       Unweighted events, alpha=0.246226\n",
      "  => Total parameter prop_binAddTk_pp_mHad_bin1[0.00,-7.00,7.00] to be gaussian constrained\n",
      "------------------------------------------------------------\n",
      "2          38.657730       3.261332        total sum                     \n",
      "2          141.000000      11.874342       Unweighted events, alpha=0.274168\n",
      "  => Total parameter prop_binAddTk_pp_mHad_bin2[0.00,-7.00,7.00] to be gaussian constrained\n",
      "------------------------------------------------------------\n",
      "3          52.830469       3.451997        total sum                     \n",
      "3          234.000000      15.297059       Unweighted events, alpha=0.225771\n",
      "  => Total parameter prop_binAddTk_pp_mHad_bin3[0.00,-7.00,7.00] to be gaussian constrained\n",
      "------------------------------------------------------------\n",
      "4          43.042379       3.364239        total sum                     \n",
      "4          164.000000      12.806248       Unweighted events, alpha=0.262454\n",
      "  => Total parameter prop_binAddTk_pp_mHad_bin4[0.00,-7.00,7.00] to be gaussian constrained\n",
      "------------------------------------------------------------\n",
      "5          30.418025       2.263547        total sum                     \n",
      "5          181.000000      13.453624       Unweighted events, alpha=0.168055\n",
      "  => Total parameter prop_binAddTk_pp_mHad_bin5[0.00,-7.00,7.00] to be gaussian constrained\n",
      "------------------------------------------------------------\n",
      "6          19.956462       2.466998        total sum                     \n",
      "6          65.000000       8.062258        Unweighted events, alpha=0.307022\n",
      "  => Total parameter prop_binAddTk_pp_mHad_bin6[0.00,-7.00,7.00] to be gaussian constrained\n",
      "------------------------------------------------------------\n",
      "7          16.018615       2.225425        total sum                     \n",
      "7          52.000000       7.211103        Unweighted events, alpha=0.308050\n",
      "  => Total parameter prop_binAddTk_pp_mHad_bin7[0.00,-7.00,7.00] to be gaussian constrained\n",
      "------------------------------------------------------------\n",
      "8          10.356102       1.358513        total sum                     \n",
      "8          58.000000       7.615773        Unweighted events, alpha=0.178553\n",
      "  => Total parameter prop_binAddTk_pp_mHad_bin8[0.00,-7.00,7.00] to be gaussian constrained\n",
      "------------------------------------------------------------\n",
      "9          8.142493        1.489170        total sum                     \n",
      "9          30.000000       5.477226        Unweighted events, alpha=0.271416\n",
      "  => Total parameter prop_binAddTk_pp_mHad_bin9[0.00,-7.00,7.00] to be gaussian constrained\n",
      "------------------------------------------------------------\n",
      "10         4.885223        0.936556        total sum                     \n",
      "10         27.000000       5.196152        Unweighted events, alpha=0.180934\n",
      "  => Total parameter prop_binAddTk_pp_mHad_bin10[0.00,-7.00,7.00] to be gaussian constrained\n",
      "------------------------------------------------------------\n",
      "11         3.885185        1.100668        total sum                     \n",
      "11         12.000000       3.464102        Unweighted events, alpha=0.323765\n",
      "  => Total parameter prop_binAddTk_pp_mHad_bin11[0.00,-7.00,7.00] to be gaussian constrained\n",
      "------------------------------------------------------------\n",
      "12         1.793112        0.407463        total sum                     \n",
      "12         19.000000       4.358899        Unweighted events, alpha=0.094374\n",
      "  => Total parameter prop_binAddTk_pp_mHad_bin12[0.00,-7.00,7.00] to be gaussian constrained\n",
      "------------------------------------------------------------\n",
      "13         1.368264        0.355377        total sum                     \n",
      "13         15.000000       3.872983        Unweighted events, alpha=0.091218\n",
      "  => Total parameter prop_binAddTk_pp_mHad_bin13[0.00,-7.00,7.00] to be gaussian constrained\n",
      "------------------------------------------------------------\n",
      "14         0.880143        0.299026        total sum                     \n",
      "14         9.000000        3.000000        Unweighted events, alpha=0.097794\n",
      "  => Number of weighted events is below poisson threshold\n",
      "    tau                  0.000000        0.000000                                      \n",
      "      => Error is zero, ignore      \n",
      "  ----------------------------------------------------------\n",
      "    DstmDp               0.001348        0.001348                                      \n",
      "                         1.000000        1.000000        Unweighted events, alpha=0.001348\n",
      "      => Product of prop_binAddTk_pp_mHad_bin14_DstmDp[1.00,0.00,30.85] and const [1.0000] to be poisson constrained\n",
      "  ----------------------------------------------------------\n",
      "    DstPipPi0            0.012151        0.012151                                      \n",
      "                         1.000000        1.000000        Unweighted events, alpha=0.012151\n",
      "      => Product of prop_binAddTk_pp_mHad_bin14_DstPipPi0[1.00,0.00,30.85] and const [1.0000] to be poisson constrained\n",
      "  ----------------------------------------------------------\n",
      "    DstPip               0.677353        0.262860                                      \n",
      "                         7.000000        2.645751        Unweighted events, alpha=0.096765\n",
      "      => Product of prop_binAddTk_pp_mHad_bin14_DstPip[7.00,0.07,45.79] and const [0.1429] to be poisson constrained\n",
      "  ----------------------------------------------------------\n",
      "    antiB0DstmHc         0.000000        0.000000                                      \n",
      "      => Error is zero, ignore      \n",
      "  ----------------------------------------------------------\n",
      "    mu                   0.174633        0.141449                                      \n",
      "                         2.000000        1.414214        Unweighted events, alpha=0.087316\n",
      "      => Product of prop_binAddTk_pp_mHad_bin14_mu[2.00,0.00,33.79] and const [0.5000] to be poisson constrained\n",
      "  ----------------------------------------------------------\n",
      "    DstmDsp              0.000000        0.000000                                      \n",
      "      => Error is zero, ignore      \n",
      "  ----------------------------------------------------------\n",
      "    DstPi0               0.000000        0.000000                                      \n",
      "      => Error is zero, ignore      \n",
      "  ----------------------------------------------------------\n",
      "    DstPipPim            0.000000        0.000000                                      \n",
      "      => Error is zero, ignore      \n",
      "  ----------------------------------------------------------\n",
      "    DstmD0               0.012747        0.012747                                      \n",
      "                         1.000000        1.000000        Unweighted events, alpha=0.012747\n",
      "      => Product of prop_binAddTk_pp_mHad_bin14_DstmD0[1.00,0.00,30.85] and const [1.0000] to be poisson constrained\n",
      "  ----------------------------------------------------------\n",
      "    BpDstmHc             0.001911        0.001349                                      \n",
      "                         2.000000        1.414214        Unweighted events, alpha=0.000955\n",
      "      => Product of prop_binAddTk_pp_mHad_bin14_BpDstmHc[2.00,0.00,33.79] and const [0.5000] to be poisson constrained\n",
      "  ----------------------------------------------------------\n",
      "    DstPi0Pi0            0.000000        0.000000                                      \n",
      "      => Error is zero, ignore      \n",
      "  ----------------------------------------------------------\n",
      "------------------------------------------------------------\n",
      "Channel Est_mu_q2bin0 will use autoMCStats with settings: event-threshold=10, include-signal=1, hist-mode=1\n",
      "============================================================\n",
      "Analysing bin errors for: prop_binEst_mu_q2bin0\n",
      "Poisson cut-off: 10\n",
      "============================================================\n",
      "Bin        Contents        Error           Notes                         \n",
      "0          222.404888      5.005466        total sum                     \n",
      "0          1974.000000     44.429720       Unweighted events, alpha=0.112667\n",
      "  => Total parameter prop_binEst_mu_q2bin0_bin0[0.00,-7.00,7.00] to be gaussian constrained\n",
      "------------------------------------------------------------\n",
      "1          200.902291      4.700948        total sum                     \n",
      "1          1826.000000     42.731721       Unweighted events, alpha=0.110023\n",
      "  => Total parameter prop_binEst_mu_q2bin0_bin1[0.00,-7.00,7.00] to be gaussian constrained\n",
      "------------------------------------------------------------\n",
      "2          305.621562      5.754243        total sum                     \n",
      "2          2821.000000     53.113087       Unweighted events, alpha=0.108338\n",
      "  => Total parameter prop_binEst_mu_q2bin0_bin2[0.00,-7.00,7.00] to be gaussian constrained\n",
      "------------------------------------------------------------\n",
      "3          397.026855      6.527985        total sum                     \n",
      "3          3699.000000     60.819405       Unweighted events, alpha=0.107334\n",
      "  => Total parameter prop_binEst_mu_q2bin0_bin3[0.00,-7.00,7.00] to be gaussian constrained\n",
      "------------------------------------------------------------\n",
      "4          529.174433      7.483695        total sum                     \n",
      "4          5000.000000     70.710678       Unweighted events, alpha=0.105835\n",
      "  => Total parameter prop_binEst_mu_q2bin0_bin4[0.00,-7.00,7.00] to be gaussian constrained\n",
      "------------------------------------------------------------\n",
      "5          635.496740      8.102463        total sum                     \n",
      "5          6152.000000     78.434686       Unweighted events, alpha=0.103299\n",
      "  => Total parameter prop_binEst_mu_q2bin0_bin5[0.00,-7.00,7.00] to be gaussian constrained\n",
      "------------------------------------------------------------\n",
      "6          720.964534      8.787495        total sum                     \n",
      "6          6731.000000     82.042672       Unweighted events, alpha=0.107111\n",
      "  => Total parameter prop_binEst_mu_q2bin0_bin6[0.00,-7.00,7.00] to be gaussian constrained\n",
      "------------------------------------------------------------\n",
      "7          774.683490      8.822600        total sum                     \n",
      "7          7710.000000     87.806606       Unweighted events, alpha=0.100478\n",
      "  => Total parameter prop_binEst_mu_q2bin0_bin7[0.00,-7.00,7.00] to be gaussian constrained\n",
      "------------------------------------------------------------\n",
      "8          864.399637      9.324520        total sum                     \n",
      "8          8594.000000     92.703829       Unweighted events, alpha=0.100582\n",
      "  => Total parameter prop_binEst_mu_q2bin0_bin8[0.00,-7.00,7.00] to be gaussian constrained\n",
      "------------------------------------------------------------\n",
      "9          906.596964      9.519833        total sum                     \n",
      "9          9069.000000     95.231297       Unweighted events, alpha=0.099967\n",
      "  => Total parameter prop_binEst_mu_q2bin0_bin9[0.00,-7.00,7.00] to be gaussian constrained\n",
      "------------------------------------------------------------\n",
      "10         911.233142      9.471007        total sum                     \n",
      "10         9257.000000     96.213305       Unweighted events, alpha=0.098437\n",
      "  => Total parameter prop_binEst_mu_q2bin0_bin10[0.00,-7.00,7.00] to be gaussian constrained\n",
      "------------------------------------------------------------\n",
      "11         917.202714      9.539408        total sum                     \n",
      "11         9245.000000     96.150923       Unweighted events, alpha=0.099211\n",
      "  => Total parameter prop_binEst_mu_q2bin0_bin11[0.00,-7.00,7.00] to be gaussian constrained\n",
      "------------------------------------------------------------\n",
      "12         888.612079      9.289381        total sum                     \n",
      "12         9151.000000     95.660859       Unweighted events, alpha=0.097105\n",
      "  => Total parameter prop_binEst_mu_q2bin0_bin12[0.00,-7.00,7.00] to be gaussian constrained\n",
      "------------------------------------------------------------\n",
      "13         813.702276      9.057588        total sum                     \n",
      "13         8071.000000     89.838744       Unweighted events, alpha=0.100818\n",
      "  => Total parameter prop_binEst_mu_q2bin0_bin13[0.00,-7.00,7.00] to be gaussian constrained\n",
      "------------------------------------------------------------\n",
      "14         695.949351      8.093171        total sum                     \n",
      "14         7395.000000     85.994186       Unweighted events, alpha=0.094111\n",
      "  => Total parameter prop_binEst_mu_q2bin0_bin14[0.00,-7.00,7.00] to be gaussian constrained\n",
      "------------------------------------------------------------\n",
      "15         476.133566      6.600135        total sum                     \n",
      "15         5204.000000     72.138755       Unweighted events, alpha=0.091494\n",
      "  => Total parameter prop_binEst_mu_q2bin0_bin15[0.00,-7.00,7.00] to be gaussian constrained\n",
      "------------------------------------------------------------\n",
      "16         197.844446      4.196556        total sum                     \n",
      "16         2223.000000     47.148701       Unweighted events, alpha=0.088999\n",
      "  => Total parameter prop_binEst_mu_q2bin0_bin16[0.00,-7.00,7.00] to be gaussian constrained\n",
      "------------------------------------------------------------\n",
      "Channel Est_mu_q2bin1 will use autoMCStats with settings: event-threshold=10, include-signal=1, hist-mode=1\n",
      "============================================================\n",
      "Analysing bin errors for: prop_binEst_mu_q2bin1\n",
      "Poisson cut-off: 10\n",
      "============================================================\n",
      "Bin        Contents        Error           Notes                         \n",
      "0          378.986195      6.208615        total sum                     \n",
      "0          3726.000000     61.040970       Unweighted events, alpha=0.101714\n",
      "  => Total parameter prop_binEst_mu_q2bin1_bin0[0.00,-7.00,7.00] to be gaussian constrained\n",
      "------------------------------------------------------------\n",
      "1          420.994713      6.544137        total sum                     \n",
      "1          4139.000000     64.335060       Unweighted events, alpha=0.101714\n",
      "  => Total parameter prop_binEst_mu_q2bin1_bin1[0.00,-7.00,7.00] to be gaussian constrained\n",
      "------------------------------------------------------------\n",
      "2          650.546879      8.092802        total sum                     \n",
      "2          6462.000000     80.386566       Unweighted events, alpha=0.100673\n",
      "  => Total parameter prop_binEst_mu_q2bin1_bin2[0.00,-7.00,7.00] to be gaussian constrained\n",
      "------------------------------------------------------------\n",
      "3          885.435953      9.455356        total sum                     \n",
      "3          8769.000000     93.642939       Unweighted events, alpha=0.100973\n",
      "  => Total parameter prop_binEst_mu_q2bin1_bin3[0.00,-7.00,7.00] to be gaussian constrained\n",
      "------------------------------------------------------------\n",
      "4          1088.859176     10.416099       total sum                     \n",
      "4          10928.000000    104.537075      Unweighted events, alpha=0.099639\n",
      "  => Total parameter prop_binEst_mu_q2bin1_bin4[0.00,-7.00,7.00] to be gaussian constrained\n",
      "------------------------------------------------------------\n",
      "5          1233.487134     11.132299       total sum                     \n",
      "5          12277.000000    110.801625      Unweighted events, alpha=0.100471\n",
      "  => Total parameter prop_binEst_mu_q2bin1_bin5[0.00,-7.00,7.00] to be gaussian constrained\n",
      "------------------------------------------------------------\n",
      "6          1412.939938     11.922360       total sum                     \n",
      "6          14045.000000    118.511603      Unweighted events, alpha=0.100601\n",
      "  => Total parameter prop_binEst_mu_q2bin1_bin6[0.00,-7.00,7.00] to be gaussian constrained\n",
      "------------------------------------------------------------\n",
      "7          1506.890835     12.261870       total sum                     \n",
      "7          15103.000000    122.894263      Unweighted events, alpha=0.099774\n",
      "  => Total parameter prop_binEst_mu_q2bin1_bin7[0.00,-7.00,7.00] to be gaussian constrained\n",
      "------------------------------------------------------------\n",
      "8          1629.434436     12.873463       total sum                     \n",
      "8          16021.000000    126.574089      Unweighted events, alpha=0.101706\n",
      "  => Total parameter prop_binEst_mu_q2bin1_bin8[0.00,-7.00,7.00] to be gaussian constrained\n",
      "------------------------------------------------------------\n",
      "9          1713.555163     13.092297       total sum                     \n",
      "9          17130.000000    130.881626      Unweighted events, alpha=0.100032\n",
      "  => Total parameter prop_binEst_mu_q2bin1_bin9[0.00,-7.00,7.00] to be gaussian constrained\n",
      "------------------------------------------------------------\n",
      "10         1826.618654     13.601532       total sum                     \n",
      "10         18035.000000    134.294453      Unweighted events, alpha=0.101282\n",
      "  => Total parameter prop_binEst_mu_q2bin1_bin10[0.00,-7.00,7.00] to be gaussian constrained\n",
      "------------------------------------------------------------\n",
      "11         1911.529182     14.367177       total sum                     \n",
      "11         17702.000000    133.048863      Unweighted events, alpha=0.107984\n",
      "  => Total parameter prop_binEst_mu_q2bin1_bin11[0.00,-7.00,7.00] to be gaussian constrained\n",
      "------------------------------------------------------------\n",
      "12         1930.130027     13.967847       total sum                     \n",
      "12         19095.000000    138.184659      Unweighted events, alpha=0.101080\n",
      "  => Total parameter prop_binEst_mu_q2bin1_bin12[0.00,-7.00,7.00] to be gaussian constrained\n",
      "------------------------------------------------------------\n",
      "13         1950.368537     14.069968       total sum                     \n",
      "13         19215.000000    138.618181      Unweighted events, alpha=0.101502\n",
      "  => Total parameter prop_binEst_mu_q2bin1_bin13[0.00,-7.00,7.00] to be gaussian constrained\n",
      "------------------------------------------------------------\n",
      "14         1722.156921     13.219026       total sum                     \n",
      "14         16973.000000    130.280467      Unweighted events, alpha=0.101464\n",
      "  => Total parameter prop_binEst_mu_q2bin1_bin14[0.00,-7.00,7.00] to be gaussian constrained\n",
      "------------------------------------------------------------\n",
      "15         1042.739101     10.106360       total sum                     \n",
      "15         10645.000000    103.174609      Unweighted events, alpha=0.097956\n",
      "  => Total parameter prop_binEst_mu_q2bin1_bin15[0.00,-7.00,7.00] to be gaussian constrained\n",
      "------------------------------------------------------------\n",
      "16         348.434045      5.748725        total sum                     \n",
      "16         3674.000000     60.613530       Unweighted events, alpha=0.094838\n",
      "  => Total parameter prop_binEst_mu_q2bin1_bin16[0.00,-7.00,7.00] to be gaussian constrained\n",
      "------------------------------------------------------------\n",
      "17         98.173649       3.034368        total sum                     \n",
      "17         1047.000000     32.357379       Unweighted events, alpha=0.093767\n",
      "  => Total parameter prop_binEst_mu_q2bin1_bin17[0.00,-7.00,7.00] to be gaussian constrained\n",
      "------------------------------------------------------------\n",
      "18         56.285167       2.321743        total sum                     \n",
      "18         588.000000      24.248711       Unweighted events, alpha=0.095723\n",
      "  => Total parameter prop_binEst_mu_q2bin1_bin18[0.00,-7.00,7.00] to be gaussian constrained\n",
      "------------------------------------------------------------\n",
      "Channel M2_miss_q2bin0 will use autoMCStats with settings: event-threshold=10, include-signal=1, hist-mode=1\n",
      "============================================================\n",
      "Analysing bin errors for: prop_binM2_miss_q2bin0\n",
      "Poisson cut-off: 10\n",
      "============================================================\n",
      "Bin        Contents        Error           Notes                         \n",
      "0          216.060450      4.716258        total sum                     \n",
      "0          2099.000000     45.814845       Unweighted events, alpha=0.102935\n",
      "  => Total parameter prop_binM2_miss_q2bin0_bin0[0.00,-7.00,7.00] to be gaussian constrained\n",
      "------------------------------------------------------------\n",
      "1          107.067229      3.316723        total sum                     \n",
      "1          1042.000000     32.280025       Unweighted events, alpha=0.102752\n",
      "  => Total parameter prop_binM2_miss_q2bin0_bin1[0.00,-7.00,7.00] to be gaussian constrained\n",
      "------------------------------------------------------------\n",
      "2          214.373124      4.666071        total sum                     \n",
      "2          2111.000000     45.945620       Unweighted events, alpha=0.101551\n",
      "  => Total parameter prop_binM2_miss_q2bin0_bin2[0.00,-7.00,7.00] to be gaussian constrained\n",
      "------------------------------------------------------------\n",
      "3          497.742498      7.196245        total sum                     \n",
      "3          4784.000000     69.166466       Unweighted events, alpha=0.104043\n",
      "  => Total parameter prop_binM2_miss_q2bin0_bin3[0.00,-7.00,7.00] to be gaussian constrained\n",
      "------------------------------------------------------------\n",
      "4          1333.150980     11.635753       total sum                     \n",
      "4          13127.000000    114.573121      Unweighted events, alpha=0.101558\n",
      "  => Total parameter prop_binM2_miss_q2bin0_bin4[0.00,-7.00,7.00] to be gaussian constrained\n",
      "------------------------------------------------------------\n",
      "5          1993.844205     14.056054       total sum                     \n",
      "5          20121.000000    141.848511      Unweighted events, alpha=0.099093\n",
      "  => Total parameter prop_binM2_miss_q2bin0_bin5[0.00,-7.00,7.00] to be gaussian constrained\n",
      "------------------------------------------------------------\n",
      "6          2832.084739     16.808763       total sum                     \n",
      "6          28388.000000    168.487388      Unweighted events, alpha=0.099763\n",
      "  => Total parameter prop_binM2_miss_q2bin0_bin6[0.00,-7.00,7.00] to be gaussian constrained\n",
      "------------------------------------------------------------\n",
      "7          2469.047233     15.842234       total sum                     \n",
      "7          24290.000000    155.852494      Unweighted events, alpha=0.101649\n",
      "  => Total parameter prop_binM2_miss_q2bin0_bin7[0.00,-7.00,7.00] to be gaussian constrained\n",
      "------------------------------------------------------------\n",
      "8          794.578214      8.921672        total sum                     \n",
      "8          7932.000000     89.061776       Unweighted events, alpha=0.100174\n",
      "  => Total parameter prop_binM2_miss_q2bin0_bin8[0.00,-7.00,7.00] to be gaussian constrained\n",
      "------------------------------------------------------------\n",
      "Channel M2_miss_q2bin1 will use autoMCStats with settings: event-threshold=10, include-signal=1, hist-mode=1\n",
      "============================================================\n",
      "Analysing bin errors for: prop_binM2_miss_q2bin1\n",
      "Poisson cut-off: 10\n",
      "============================================================\n",
      "Bin        Contents        Error           Notes                         \n",
      "0          225.513937      4.966767        total sum                     \n",
      "0          2062.000000     45.409250       Unweighted events, alpha=0.109367\n",
      "  => Total parameter prop_binM2_miss_q2bin1_bin0[0.00,-7.00,7.00] to be gaussian constrained\n",
      "------------------------------------------------------------\n",
      "1          125.840217      3.753125        total sum                     \n",
      "1          1124.000000     33.526109       Unweighted events, alpha=0.111957\n",
      "  => Total parameter prop_binM2_miss_q2bin1_bin1[0.00,-7.00,7.00] to be gaussian constrained\n",
      "------------------------------------------------------------\n",
      "2          221.453119      4.869042        total sum                     \n",
      "2          2069.000000     45.486262       Unweighted events, alpha=0.107034\n",
      "  => Total parameter prop_binM2_miss_q2bin1_bin2[0.00,-7.00,7.00] to be gaussian constrained\n",
      "------------------------------------------------------------\n",
      "3          493.073674      7.243728        total sum                     \n",
      "3          4633.000000     68.066144       Unweighted events, alpha=0.106426\n",
      "  => Total parameter prop_binM2_miss_q2bin1_bin3[0.00,-7.00,7.00] to be gaussian constrained\n",
      "------------------------------------------------------------\n",
      "4          1431.297295     12.307040       total sum                     \n",
      "4          13525.000000    116.297033      Unweighted events, alpha=0.105826\n",
      "  => Total parameter prop_binM2_miss_q2bin1_bin4[0.00,-7.00,7.00] to be gaussian constrained\n",
      "------------------------------------------------------------\n",
      "5          799.501071      9.550315        total sum                     \n",
      "5          7008.000000     83.713798       Unweighted events, alpha=0.114084\n",
      "  => Total parameter prop_binM2_miss_q2bin1_bin5[0.00,-7.00,7.00] to be gaussian constrained\n",
      "------------------------------------------------------------\n",
      "6          1189.026676     11.083879       total sum                     \n",
      "6          11508.000000    107.275347      Unweighted events, alpha=0.103322\n",
      "  => Total parameter prop_binM2_miss_q2bin1_bin6[0.00,-7.00,7.00] to be gaussian constrained\n",
      "------------------------------------------------------------\n",
      "7          1488.938848     12.362243       total sum                     \n",
      "7          14506.000000    120.440857      Unweighted events, alpha=0.102643\n",
      "  => Total parameter prop_binM2_miss_q2bin1_bin7[0.00,-7.00,7.00] to be gaussian constrained\n",
      "------------------------------------------------------------\n",
      "8          1537.517585     12.628591       total sum                     \n",
      "8          14823.000000    121.749743      Unweighted events, alpha=0.103725\n",
      "  => Total parameter prop_binM2_miss_q2bin1_bin8[0.00,-7.00,7.00] to be gaussian constrained\n",
      "------------------------------------------------------------\n",
      "9          1427.726016     12.162138       total sum                     \n",
      "9          13781.000000    117.392504      Unweighted events, alpha=0.103601\n",
      "  => Total parameter prop_binM2_miss_q2bin1_bin9[0.00,-7.00,7.00] to be gaussian constrained\n",
      "------------------------------------------------------------\n",
      "10         1280.364915     11.458032       total sum                     \n",
      "10         12487.000000    111.745246      Unweighted events, alpha=0.102536\n",
      "  => Total parameter prop_binM2_miss_q2bin1_bin10[0.00,-7.00,7.00] to be gaussian constrained\n",
      "------------------------------------------------------------\n",
      "11         4091.183421     20.448601       total sum                     \n",
      "11         40029.000000    200.072487      Unweighted events, alpha=0.102205\n",
      "  => Total parameter prop_binM2_miss_q2bin1_bin11[0.00,-7.00,7.00] to be gaussian constrained\n",
      "------------------------------------------------------------\n",
      "12         2858.246528     16.797629       total sum                     \n",
      "12         28954.000000    170.158749      Unweighted events, alpha=0.098717\n",
      "  => Total parameter prop_binM2_miss_q2bin1_bin12[0.00,-7.00,7.00] to be gaussian constrained\n",
      "------------------------------------------------------------\n",
      "13         1884.941640     13.475246       total sum                     \n",
      "13         19567.000000    139.882093      Unweighted events, alpha=0.096333\n",
      "  => Total parameter prop_binM2_miss_q2bin1_bin13[0.00,-7.00,7.00] to be gaussian constrained\n",
      "------------------------------------------------------------\n",
      "14         1232.641115     10.726256       total sum                     \n",
      "14         13206.000000    114.917362      Unweighted events, alpha=0.093339\n",
      "  => Total parameter prop_binM2_miss_q2bin1_bin14[0.00,-7.00,7.00] to be gaussian constrained\n",
      "------------------------------------------------------------\n",
      "15         753.729999      8.295224        total sum                     \n",
      "15         8256.000000     90.862534       Unweighted events, alpha=0.091295\n",
      "  => Total parameter prop_binM2_miss_q2bin1_bin15[0.00,-7.00,7.00] to be gaussian constrained\n",
      "------------------------------------------------------------\n",
      "16         424.043756      6.363755        total sum                     \n",
      "16         4440.000000     66.633325       Unweighted events, alpha=0.095505\n",
      "  => Total parameter prop_binM2_miss_q2bin1_bin16[0.00,-7.00,7.00] to be gaussian constrained\n",
      "------------------------------------------------------------\n",
      "17         342.526009      5.395882        total sum                     \n",
      "17         4030.000000     63.482281       Unweighted events, alpha=0.084994\n",
      "  => Total parameter prop_binM2_miss_q2bin1_bin17[0.00,-7.00,7.00] to be gaussian constrained\n",
      "------------------------------------------------------------\n"
     ]
    },
    {
     "name": "stderr",
     "output_type": "stream",
     "text": [
      "Creating pdfs for individual modes (10): .    1\b\b\b\b\b.    2\b\b\b\b\b.    3\b\b\b\b\b.    4\b\b\b\b\b.    5\b\b\b\b\b.    6\b\b\b\b\b.    7\b\b\b\b\b.    8\b\b\b\b\b.    9\b\b\b\b\b.   10\b\b\b\bdone.\n",
      "Importing combined pdf model_s\n"
     ]
    }
   ],
   "source": [
    "cmd = 'text2workspace.py ' + card_location \n",
    "cmd += ' -o ' + card_location.replace('.txt', '.root')\n",
    "cmd += ' --no-b-only'\n",
    "cmd += ' --verbose 1'\n",
    "# cmd += ' --no-wrappers'\n",
    "out = os.system(cmd)\n",
    "if out: raise"
   ]
  },
  {
   "cell_type": "markdown",
   "metadata": {},
   "source": [
    "## Run the Maximum Likelyhood fit"
   ]
  },
  {
   "cell_type": "code",
   "execution_count": 53,
   "metadata": {
    "ExecuteTime": {
     "end_time": "2020-07-08T02:45:53.702964Z",
     "start_time": "2020-07-08T02:45:53.685172Z"
    }
   },
   "outputs": [],
   "source": [
    "seedMLf = '6741'"
   ]
  },
  {
   "cell_type": "code",
   "execution_count": 54,
   "metadata": {
    "ExecuteTime": {
     "end_time": "2020-07-08T02:55:30.826846Z",
     "start_time": "2020-07-08T02:45:53.707401Z"
    },
    "scrolled": true
   },
   "outputs": [
    {
     "name": "stdout",
     "output_type": "stream",
     "text": [
      "combine -M FitDiagnostics --robustFit 1 --robustHesse 1 --cminDefaultMinimizerStrategy 0 --X-rtd MINIMIZER_analytic --skipBOnlyFit --seed 6741 -d cards/v9_low.root -D data_obs --setParameters r=0.33 --setParameterRanges r=0.01,5 -n v9_low --out results/v9_low --saveShapes --saveWithUncertainties --saveNormalizations --plots --verbose 1\n",
      "Messages of type \u001b[1m\u001b[31mError\u001b[0m : 0\n"
     ]
    }
   ],
   "source": [
    "cmd = 'combine -M FitDiagnostics'\n",
    "cmd += ' --robustFit 1 --robustHesse 1 --cminDefaultMinimizerStrategy 0 --X-rtd MINIMIZER_analytic'\n",
    "cmd += ' --skipBOnlyFit'\n",
    "cmd += ' --seed ' + seedMLf\n",
    "cmd += ' -d ' + card_location.replace('.txt', '.root')\n",
    "cmd += ' -D ' + histo[histo.keys()[0]]['data'].GetName()\n",
    "cmd += ' --setParameters r={:.2f}'.format(SM_RDst)\n",
    "cmd += ' --setParameterRanges r=0.01,5'\n",
    "cmd += ' -n {}'.format(card_name)\n",
    "cmd += ' --out ' + outdir\n",
    "cmd += ' --saveShapes --saveWithUncertainties --saveNormalizations'\n",
    "cmd += ' --plots'\n",
    "cmd += ' --verbose 1'\n",
    "\n",
    "print cmd\n",
    "status, output = commands.getstatusoutput(cmd)\n",
    "for line in output.split('\\n'):\n",
    "        if 'ERROR' in line: print line.replace('ERROR', '\\033[1m\\x1b[31mError\\x1b[0m')\n",
    "os.system('mv combine_logger.out ' + outdir + '/combine_logger_FitDiagnostics.out')\n",
    "os.system('mv ./higgsCombine{}.FitDiagnostics.mH120.{}.root '.format(card_name, seedMLf) + outdir + '/');"
   ]
  },
  {
   "cell_type": "code",
   "execution_count": 55,
   "metadata": {
    "ExecuteTime": {
     "end_time": "2020-07-08T02:55:30.923573Z",
     "start_time": "2020-07-08T02:55:30.834665Z"
    }
   },
   "outputs": [
    {
     "name": "stdout",
     "output_type": "stream",
     "text": [
      "R(D*) = 0.596 +4.404/-0.586 [418.7 %]\n"
     ]
    }
   ],
   "source": [
    "f = ur.open(glob(outdir + '/higgsCombine{}.FitDiagnostics.mH120.{}.root'.format(card_name, seedMLf))[0])\n",
    "c, d, u, _ = f['limit']['limit'].array()\n",
    "print 'R(D*) = {:.3f} +{:.3f}/-{:.3f} [{:.1f} %]'.format(c, u-c, c-d, 100*(u-d)*0.5/c)\n",
    "rDst_postFitRegion = [max(0.01,c - 5*(c-d)), min(c + 5*(u-c), 0.9)]"
   ]
  },
  {
   "cell_type": "code",
   "execution_count": 56,
   "metadata": {
    "ExecuteTime": {
     "end_time": "2020-07-08T02:55:31.083272Z",
     "start_time": "2020-07-08T02:55:30.928984Z"
    },
    "code_folding": []
   },
   "outputs": [
    {
     "name": "stdout",
     "output_type": "stream",
     "text": [
      "BmDstmHc missing from AddTk_pp_mHad\n"
     ]
    }
   ],
   "source": [
    "# Get post-fit shapes\n",
    "fFitDiagnostics = rt.TFile.Open(outdir + '/fitDiagnostics{}.root'.format(card_name), 'READ')\n",
    "fd = fFitDiagnostics.shapes_fit_s\n",
    "\n",
    "histo_postfit = {}\n",
    "for cat, h_dic in histo.iteritems():\n",
    "    histo_postfit[cat] = {}\n",
    "    for n, h in h_dic.iteritems():\n",
    "        if '__' in n:\n",
    "            continue\n",
    "        h_post = h.Clone(h.GetName() + '_postfit')\n",
    "        if 'data' in n:\n",
    "            h_fit = fd.Get(cat+'/total')\n",
    "            h_data = h.Clone(h.GetName() + '_data')\n",
    "            for i in range(1, h_post.GetNbinsX()+1):\n",
    "                h_post.SetBinContent(i, h_fit.GetBinContent(i))\n",
    "                h_post.SetBinError(i, h_fit.GetBinError(i))     \n",
    "            \n",
    "            histo_postfit[cat]['total'] = h_post\n",
    "            histo_postfit[cat][n] = h_data\n",
    "        else:\n",
    "            h_fit = fd.Get(cat+'/'+n)\n",
    "            if not h_fit: \n",
    "                print n+' missing from '+cat\n",
    "                continue\n",
    "            for i in range(1, h_post.GetNbinsX()+1):\n",
    "                h_post.SetBinContent(i, h_fit.GetBinContent(i))\n",
    "                h_post.SetBinError(i, h_fit.GetBinError(i)) \n",
    "\n",
    "            histo_postfit[cat][n] = h_post"
   ]
  },
  {
   "cell_type": "code",
   "execution_count": 57,
   "metadata": {
    "ExecuteTime": {
     "end_time": "2020-07-08T02:55:31.382265Z",
     "start_time": "2020-07-08T02:55:31.088167Z"
    },
    "scrolled": false
   },
   "outputs": [
    {
     "data": {
      "image/png": "[encoded data removed]",
      "text/plain": [
       "<IPython.core.display.Image object>"
      ]
     },
     "metadata": {},
     "output_type": "display_data"
    }
   ],
   "source": [
    "h2 = fFitDiagnostics.Get('covariance_fit_s')\n",
    "rt.gStyle.SetPaintTextFormat('.1f')\n",
    "\n",
    "N = h2.GetNbinsX()\n",
    "n=20\n",
    "\n",
    "h2.GetXaxis().SetRange(1, n)\n",
    "h2.GetYaxis().SetRangeUser(N-n, N)\n",
    "h2.SetMarkerSize(1.3)\n",
    "CC = drawOnCMSCanvas(CMS_lumi, [h2, h2], ['colz', 'text same'], tag='tl', mL=0.22, mR=0.15, mB=0.18)\n",
    "CC.SaveAs(outdir+'/fig/covariance_zoom.png')"
   ]
  },
  {
   "cell_type": "code",
   "execution_count": 58,
   "metadata": {
    "ExecuteTime": {
     "end_time": "2020-07-08T02:55:32.251734Z",
     "start_time": "2020-07-08T02:55:31.387084Z"
    },
    "scrolled": false
   },
   "outputs": [
    {
     "data": {
      "image/png": "[encoded data removed]",
      "text/plain": [
       "<IPython.core.display.Image object>"
      ]
     },
     "metadata": {},
     "output_type": "display_data"
    }
   ],
   "source": [
    "cSigPost = plot_gridVarQ2(CMS_lumi, binning, histo_postfit, draw_pulls=True, pulls_ylim=[-5, 5])\n",
    "cSigPost.SaveAs(outdir+'/fig/signalRegion_postfit.png')"
   ]
  },
  {
   "cell_type": "code",
   "execution_count": 59,
   "metadata": {
    "ExecuteTime": {
     "end_time": "2020-07-08T02:55:32.939533Z",
     "start_time": "2020-07-08T02:55:32.256660Z"
    },
    "scrolled": false
   },
   "outputs": [
    {
     "data": {
      "image/png": "[encoded data removed]",
      "text/plain": [
       "<IPython.core.display.Image object>"
      ]
     },
     "metadata": {},
     "output_type": "display_data"
    },
    {
     "data": {
      "image/png": "[encoded data removed]",
      "text/plain": [
       "<IPython.core.display.Image object>"
      ]
     },
     "metadata": {},
     "output_type": "display_data"
    },
    {
     "data": {
      "image/png": "[encoded data removed]",
      "text/plain": [
       "<IPython.core.display.Image object>"
      ]
     },
     "metadata": {},
     "output_type": "display_data"
    },
    {
     "data": {
      "image/png": "[encoded data removed]",
      "text/plain": [
       "<IPython.core.display.Image object>"
      ]
     },
     "metadata": {},
     "output_type": "display_data"
    },
    {
     "data": {
      "image/png": "[encoded data removed]",
      "text/plain": [
       "<IPython.core.display.Image object>"
      ]
     },
     "metadata": {},
     "output_type": "display_data"
    },
    {
     "data": {
      "image/png": "[encoded data removed]",
      "text/plain": [
       "<IPython.core.display.Image object>"
      ]
     },
     "metadata": {},
     "output_type": "display_data"
    }
   ],
   "source": [
    "cSidePost = {}\n",
    "for k in np.sort(sideVar.keys()):\n",
    "    legLoc = [0.67, 0.3, 0.93, 0.72]\n",
    "    if 'MassVis' in sideVar[k]:\n",
    "        legLoc = [0.18, 0.4, 0.4, 0.75]\n",
    "    cSidePost[k] = plot_SingleCategory(CMS_lumi, histo_postfit[k], \n",
    "                                       xtitle=sideXtitle[k], addText=sideAddtext[k], \n",
    "                                       tag=k, legLoc=legLoc,\n",
    "                                       draw_pulls=True\n",
    "                                      )\n",
    "    cSidePost[k].SaveAs(outdir+'/fig/'+k+'_postfit.png')"
   ]
  },
  {
   "cell_type": "code",
   "execution_count": 60,
   "metadata": {
    "ExecuteTime": {
     "end_time": "2020-07-08T02:55:37.454966Z",
     "start_time": "2020-07-08T02:55:32.943902Z"
    },
    "scrolled": false
   },
   "outputs": [
    {
     "name": "stdout",
     "output_type": "stream",
     "text": [
      "python diffNuisances.py results/v9_low/fitDiagnosticsv9_low.root --skipFitB --abs -g results/v9_low/nuisance_difference.root\n",
      "+--------------------------------+------------------------+-----------------------------------+\n",
      "|           Parameter            |        pre-fit         |              post-fit             |\n",
      "+--------------------------------+------------------------+-----------------------------------+\n",
      "|           DstPiPiBr            | 0.000000 +/- 1.000000  | !-3.82 +/- 0.39 (-3.82sig, 0.39)! |\n",
      "|            DstmD0Br            |  0.000000 +/- 1.000000 | !+3.61 +/- 0.93 (+3.61sig, 0.93)! |\n",
      "|   prop_binAddTk_pm_mHad_bin7   |  0.000000 +/- 1.000000 | !-2.77 +/- 0.78 (-2.77sig, 0.78)! |\n",
      "|         BrB02DstD0Kstp         |  0.000000 +/- 1.000000 | !+2.55 +/- 0.91 (+2.55sig, 0.91)! |\n",
      "|   prop_binAddTk_p_mHad_bin19   |  0.000000 +/- 1.000000 | !-2.36 +/- 0.87 (-2.36sig, 0.87)! |\n",
      "|  prop_binAddTk_pm_mVis_bin21   | 0.000000 +/- 1.000000  | !-2.27 +/- 0.65 (-2.27sig, 0.65)! |\n",
      "|        BrB02DstDst0Kstp        |  0.000000 +/- 1.000000 | !+2.25 +/- 0.94 (+2.25sig, 0.94)! |\n",
      "|   prop_binAddTk_m_mHad_bin10   |  0.000000 +/- 1.000000 | !+2.06 +/- 0.79 (+2.06sig, 0.79)! |\n",
      "|              muBr              |  0.000000 +/- 1.000000 |  -1.88 +/- 0.95 (-1.88sig, 0.95)  |\n",
      "|  prop_binM2_miss_q2bin1_bin6   | 0.000000 +/- 1.000000  |  -1.85 +/- 0.88 (-1.85sig, 0.88)  |\n",
      "|   prop_binAddTk_pm_mHad_bin6   |  0.000000 +/- 1.000000 |  -1.80 +/- 0.84 (-1.80sig, 0.84)  |\n",
      "| prop_binAddTk_mm_mHad_bin10_mu |  5.000000 +/- 2.225802 |  +8.94 +/- 2.94 (+1.77sig, 1.32)  |\n",
      "|   prop_binAddTk_p_mHad_bin22   |  0.000000 +/- 1.000000 |  -1.72 +/- 0.84 (-1.72sig, 0.84)  |\n",
      "|   prop_binAddTk_p_mHad_bin11   |  0.000000 +/- 1.000000 |  -1.67 +/- 0.84 (-1.67sig, 0.84)  |\n",
      "|   prop_binAddTk_m_mHad_bin15   |  0.000000 +/- 1.000000 |  +1.63 +/- 0.77 (+1.63sig, 0.77)  |\n",
      "+--------------------------------+------------------------+-----------------------------------+\n"
     ]
    }
   ],
   "source": [
    "cmd = 'python diffNuisances.py '.format(os.environ['CMSSW_BASE'])\n",
    "cmd += outdir + '/fitDiagnostics{}.root'.format(card_name)\n",
    "cmd += ' --skipFitB'\n",
    "# cmd += ' --all'\n",
    "cmd += ' --abs'\n",
    "cmd += ' -g {}/nuisance_difference.root'.format(outdir)\n",
    "print cmd\n",
    "status, output = commands.getstatusoutput(cmd)\n",
    "dumpDiffNuisances(output, outdir)"
   ]
  },
  {
   "cell_type": "markdown",
   "metadata": {},
   "source": [
    "## Run likelyhood scan"
   ]
  },
  {
   "cell_type": "code",
   "execution_count": 61,
   "metadata": {
    "ExecuteTime": {
     "end_time": "2020-07-08T02:56:43.431297Z",
     "start_time": "2020-07-08T02:55:37.460526Z"
    }
   },
   "outputs": [
    {
     "name": "stdout",
     "output_type": "stream",
     "text": [
      "combine -M MultiDimFit --algo grid --points=100 --robustFit 1 -d cards/v9_low.root -D data_obs --X-rtd MINIMIZER_analytic --rMin=0.0100 --rMax=0.9000 -n v9_low_nominal --verbose -1\n",
      "----------------------------------\n",
      "R(D*) = 0.596 +0.115/-0.113 [19.1 %]\n",
      "Sigma = 0.114\n",
      "----------------------------------\n",
      "\n"
     ]
    },
    {
     "data": {
      "image/png": "[encoded data removed]",
      "text/plain": [
       "<IPython.core.display.Image object>"
      ]
     },
     "metadata": {},
     "output_type": "display_data"
    },
    {
     "name": "stdout",
     "output_type": "stream",
     "text": [
      " <<< Combine >>> \n",
      "   Options for Robust Minimizer :: \n",
      "        Tolerance  0.1\n",
      "        Strategy   0\n",
      "        Type,Algo  Minuit2,Migrad\n",
      ">>> method used is MultiDimFit\n",
      ">>> random number generator seed is 123456\n",
      ">> Disabling analytic minimisation of bin-wise statistical uncertainty parameters\n",
      "Done in 0.96 min (cpu), 0.96 min (real)\n",
      "--------------------------------------\n",
      "scan\n",
      "--------------------------------------\n",
      "[{'lo': 0.48290836506975204, 'hi': 0.7109690701765599, 'valid_hi': True, 'valid_lo': True}]\n",
      "[{'lo': 0.3724542341251703, 'hi': 0.8268757363691425, 'valid_hi': True, 'valid_lo': True}]\n"
     ]
    },
    {
     "name": "stderr",
     "output_type": "stream",
     "text": [
      "Info in <TCanvas::Print>: pdf file ./scan.pdf has been created\n",
      "Info in <TCanvas::Print>: png file ./scan.png has been created\n"
     ]
    }
   ],
   "source": [
    "cmd = 'combine'\n",
    "cmd += ' -M MultiDimFit'\n",
    "cmd += ' --algo grid --points=100'\n",
    "cmd += ' --robustFit 1'\n",
    "cmd += ' -d ' + card_location.replace('.txt', '.root')\n",
    "cmd += ' -D ' + histo[histo.keys()[0]]['data'].GetName()\n",
    "cmd += ' --X-rtd MINIMIZER_analytic'\n",
    "cmd += ' --rMin={:.4f} --rMax={:.4f}'.format(*rDst_postFitRegion)\n",
    "cmd += ' -n {}_nominal'.format(card_name)\n",
    "cmd += ' --verbose -1'\n",
    "print cmd\n",
    "os.system(cmd)\n",
    "cmd = 'plot1DScan.py higgsCombine{}_nominal.MultiDimFit.mH120.root'.format(card_name)\n",
    "cmd += '; mv scan.png scan_nominal.png'\n",
    "os.system(cmd)\n",
    "res_nominal = getUncertaintyFromLimitTree('higgsCombine{}_nominal.MultiDimFit.mH120.root'.format(card_name))\n",
    "display(Image(filename='scan_nominal.png'))"
   ]
  },
  {
   "cell_type": "markdown",
   "metadata": {},
   "source": [
    "### Uncertainy breakdown by group"
   ]
  },
  {
   "cell_type": "code",
   "execution_count": 62,
   "metadata": {
    "ExecuteTime": {
     "end_time": "2020-07-08T02:56:49.246878Z",
     "start_time": "2020-07-08T02:56:43.437442Z"
    }
   },
   "outputs": [
    {
     "name": "stdout",
     "output_type": "stream",
     "text": [
      "combine -M MultiDimFit --algo none --cminDefaultMinimizerStrategy=2 --robustFit 1 --X-rtd MINIMIZER_analytic -d cards/v9_low.root -D data_obs --setParameters r=0.33 --setParameterRanges r=0.001,1 -n v9_low_bestfit --saveWorkspace --verbose -1\n",
      " <<< Combine >>> \n",
      "   Options for Robust Minimizer :: \n",
      "        Tolerance  0.1\n",
      "        Strategy   0\n",
      "        Type,Algo  Minuit2,Migrad\n",
      ">>> method used is MultiDimFit\n",
      ">>> random number generator seed is 123456\n",
      "   r :    +0.330\n",
      "Done in 0.03 min (cpu), 0.03 min (real)\n"
     ]
    }
   ],
   "source": [
    "cmd = 'combine -M MultiDimFit --algo none'\n",
    "cmd += ' --cminDefaultMinimizerStrategy=2 --robustFit 1 --X-rtd MINIMIZER_analytic'\n",
    "cmd += ' -d ' + card_location.replace('.txt', '.root')\n",
    "cmd += ' -D ' + histo[histo.keys()[0]]['data'].GetName()\n",
    "cmd += ' --setParameters r={:.2f}'.format(SM_RDst)\n",
    "cmd += ' --setParameterRanges r=0.001,1'\n",
    "cmd += ' -n {}_bestfit'.format(card_name)\n",
    "cmd += ' --saveWorkspace --verbose -1'\n",
    "print cmd\n",
    "os.system(cmd);"
   ]
  },
  {
   "cell_type": "code",
   "execution_count": 63,
   "metadata": {
    "ExecuteTime": {
     "end_time": "2020-07-08T02:56:54.068528Z",
     "start_time": "2020-07-08T02:56:49.259200Z"
    }
   },
   "outputs": [
    {
     "name": "stdout",
     "output_type": "stream",
     "text": [
      "combine -M MultiDimFit --algo grid --points=100 --cminDefaultMinimizerStrategy=2 --robustFit 1 --X-rtd MINIMIZER_analytic -d higgsCombinev9_low_bestfit.MultiDimFit.mH120.root -D data_obs --rMin=0.0100 --rMax=0.9000 -n v9_low_stat --snapshotName MultiDimFit --freezeNuisanceGroups=autoMCStats,^autoMCStats --verbose -1\n",
      " <<< Combine >>> \n",
      "   Options for Robust Minimizer :: \n",
      "        Tolerance  0.1\n",
      "        Strategy   0\n",
      "        Type,Algo  Minuit2,Migrad\n",
      ">>> method used is MultiDimFit\n",
      ">>> random number generator seed is 123456\n",
      ">> Enabling analytic minimisation of bin-wise statistical uncertainty parameters\n",
      ">> Disabling analytic minimisation of bin-wise statistical uncertainty parameters\n",
      "Done in 0.02 min (cpu), 0.02 min (real)\n"
     ]
    }
   ],
   "source": [
    "# Statistical uncertainty\n",
    "cmd = 'combine -M MultiDimFit --algo grid --points=100'\n",
    "cmd += ' --cminDefaultMinimizerStrategy=2 --robustFit 1 --X-rtd MINIMIZER_analytic'\n",
    "cmd += ' -d higgsCombine{}_bestfit.MultiDimFit.mH120.root'.format(card_name)\n",
    "cmd += ' -D ' + histo[histo.keys()[0]]['data'].GetName()\n",
    "cmd += ' --rMin={:.4f} --rMax={:.4f}'.format(*rDst_postFitRegion)\n",
    "cmd += ' -n {}_stat'.format(card_name)\n",
    "cmd += ' --snapshotName MultiDimFit'\n",
    "cmd += ' --freezeNuisanceGroups=autoMCStats,^autoMCStats'\n",
    "cmd += ' --verbose -1'\n",
    "print cmd\n",
    "os.system(cmd);"
   ]
  },
  {
   "cell_type": "code",
   "execution_count": 64,
   "metadata": {
    "ExecuteTime": {
     "end_time": "2020-07-08T02:57:22.522872Z",
     "start_time": "2020-07-08T02:56:54.076811Z"
    }
   },
   "outputs": [
    {
     "name": "stdout",
     "output_type": "stream",
     "text": [
      "combine -M MultiDimFit --algo grid --points=100 --cminDefaultMinimizerStrategy=2 --robustFit 1 --X-rtd MINIMIZER_analytic -d higgsCombinev9_low_bestfit.MultiDimFit.mH120.root -D data_obs --rMin=0.0100 --rMax=0.9000 -n v9_low_MCstat --snapshotName MultiDimFit --freezeNuisanceGroups=autoMCStats --verbose -1\n",
      " <<< Combine >>> \n",
      "   Options for Robust Minimizer :: \n",
      "        Tolerance  0.1\n",
      "        Strategy   0\n",
      "        Type,Algo  Minuit2,Migrad\n",
      ">>> method used is MultiDimFit\n",
      ">>> random number generator seed is 123456\n",
      ">> Disabling analytic minimisation of bin-wise statistical uncertainty parameters\n",
      "Done in 0.42 min (cpu), 0.42 min (real)\n"
     ]
    }
   ],
   "source": [
    "# MC Statistics\n",
    "cmd = 'combine -M MultiDimFit --algo grid --points=100'\n",
    "cmd += ' --cminDefaultMinimizerStrategy=2 --robustFit 1 --X-rtd MINIMIZER_analytic'\n",
    "cmd += ' -d higgsCombine{}_bestfit.MultiDimFit.mH120.root'.format(card_name)\n",
    "cmd += ' -D ' + histo[histo.keys()[0]]['data'].GetName()\n",
    "cmd += ' --rMin={:.4f} --rMax={:.4f}'.format(*rDst_postFitRegion)\n",
    "cmd += ' -n {}_MCstat'.format(card_name)\n",
    "cmd += ' --snapshotName MultiDimFit'\n",
    "cmd += ' --freezeNuisanceGroups=autoMCStats'\n",
    "cmd += ' --verbose -1'\n",
    "print cmd\n",
    "os.system(cmd);"
   ]
  },
  {
   "cell_type": "code",
   "execution_count": 65,
   "metadata": {
    "ExecuteTime": {
     "end_time": "2020-07-08T02:57:25.509664Z",
     "start_time": "2020-07-08T02:57:22.529570Z"
    }
   },
   "outputs": [
    {
     "name": "stdout",
     "output_type": "stream",
     "text": [
      "plot1DScan.py higgsCombinev9_low_nominal.MultiDimFit.mH120.root --others \"higgsCombinev9_low_MCstat.MultiDimFit.mH120.root:Freeze MC stat:4\" \"higgsCombinev9_low_stat.MultiDimFit.mH120.root:Freeze all:2\" --breakdown MCstat,syst,stat; mv scan.png scan_MCstat.png\n"
     ]
    },
    {
     "data": {
      "image/png": "[encoded data removed]",
      "text/plain": [
       "<IPython.core.display.Image object>"
      ]
     },
     "metadata": {},
     "output_type": "display_data"
    },
    {
     "name": "stdout",
     "output_type": "stream",
     "text": [
      "--------------------------------------\n",
      "scan\n",
      "--------------------------------------\n",
      "[{'lo': 0.48290836506975204, 'hi': 0.7109690701765599, 'valid_hi': True, 'valid_lo': True}]\n",
      "[{'lo': 0.3724542341251703, 'hi': 0.8268757363691425, 'valid_hi': True, 'valid_lo': True}]\n",
      "[{'lo': 0.4941045921618475, 'hi': 0.6987694397978895, 'valid_hi': True, 'valid_lo': True}]\n",
      "[{'lo': 0.3939639940355784, 'hi': 0.8039238442221118, 'valid_hi': True, 'valid_lo': True}]\n",
      "[{'lo': 0.5961632132530212, 'hi': 0.5961632132530212, 'valid_hi': False, 'valid_lo': False}]\n",
      "[{'lo': 0.5961632132530212, 'hi': 0.5961632132530212, 'valid_hi': False, 'valid_lo': False}]\n"
     ]
    },
    {
     "name": "stderr",
     "output_type": "stream",
     "text": [
      "Info in <TCanvas::Print>: pdf file ./scan.pdf has been created\n",
      "Info in <TCanvas::Print>: png file ./scan.png has been created\n"
     ]
    }
   ],
   "source": [
    "cmd = 'plot1DScan.py higgsCombine{}_nominal.MultiDimFit.mH120.root'.format(card_name)\n",
    "cmd += ' --others'\n",
    "cmd += ' \"higgsCombine{}_MCstat.MultiDimFit.mH120.root:Freeze MC stat:4\"'.format(card_name)\n",
    "cmd += ' \"higgsCombine{}_stat.MultiDimFit.mH120.root:Freeze all:2\"'.format(card_name)\n",
    "cmd += ' --breakdown MCstat,syst,stat'\n",
    "cmd += '; mv scan.png scan_MCstat.png'\n",
    "print cmd\n",
    "os.system(cmd)\n",
    "display(Image(filename='scan_MCstat.png'))"
   ]
  },
  {
   "cell_type": "code",
   "execution_count": 66,
   "metadata": {
    "ExecuteTime": {
     "end_time": "2020-07-08T02:57:25.661304Z",
     "start_time": "2020-07-08T02:57:25.516894Z"
    }
   },
   "outputs": [],
   "source": [
    "os.system('mv higgsCombine*.root ' + outdir + '/')\n",
    "os.system('mv scan* ' + outdir + '/')\n",
    "os.system('mv combine_logger.out ' + outdir + '/');"
   ]
  },
  {
   "cell_type": "code",
   "execution_count": 67,
   "metadata": {
    "ExecuteTime": {
     "end_time": "2020-07-08T02:57:26.176556Z",
     "start_time": "2020-07-08T02:57:25.670029Z"
    }
   },
   "outputs": [
    {
     "ename": "TypeError",
     "evalue": "exceptions must be old-style classes or derived from BaseException, not NoneType",
     "output_type": "error",
     "traceback": [
      "\u001b[0;31m\u001b[0m",
      "\u001b[0;31mTypeError\u001b[0mTraceback (most recent call last)",
      "\u001b[0;32m<ipython-input-67-81bdacfbbc74>\u001b[0m in \u001b[0;36m<module>\u001b[0;34m()\u001b[0m\n\u001b[1;32m      1\u001b[0m \u001b[0;32mif\u001b[0m \u001b[0mfastRun\u001b[0m\u001b[0;34m:\u001b[0m\u001b[0;34m\u001b[0m\u001b[0m\n\u001b[0;32m----> 2\u001b[0;31m     \u001b[0;32mraise\u001b[0m\u001b[0;34m\u001b[0m\u001b[0m\n\u001b[0m",
      "\u001b[0;31mTypeError\u001b[0m: exceptions must be old-style classes or derived from BaseException, not NoneType"
     ]
    }
   ],
   "source": [
    "if fastRun:\n",
    "    raise"
   ]
  },
  {
   "cell_type": "markdown",
   "metadata": {},
   "source": [
    "## Run the impact plots"
   ]
  },
  {
   "cell_type": "markdown",
   "metadata": {},
   "source": [
    "Fit first the POI"
   ]
  },
  {
   "cell_type": "code",
   "execution_count": null,
   "metadata": {
    "ExecuteTime": {
     "end_time": "2020-07-08T02:57:26.178374Z",
     "start_time": "2020-07-08T02:45:06.465Z"
    }
   },
   "outputs": [],
   "source": [
    "os.mkdir(outdir+'/impactPlots')"
   ]
  },
  {
   "cell_type": "code",
   "execution_count": null,
   "metadata": {
    "ExecuteTime": {
     "end_time": "2020-07-08T02:57:26.180798Z",
     "start_time": "2020-07-08T02:45:06.467Z"
    },
    "scrolled": true
   },
   "outputs": [],
   "source": [
    "cmd = 'cd {}/impactPlots;'.format(outdir)\n",
    "cmd += ' combineTool.py -M Impacts --doInitialFit -m 120'\n",
    "cmd += ' --robustFit 1 --X-rtd MINIMIZER_analytic'\n",
    "cmd += ' -d ../../../' + card_location.replace('.txt', '.root')\n",
    "cmd += ' -D ' + histo[histo.keys()[0]]['data'].GetName()\n",
    "cmd += ' --setParameters r={:.2f}'.format(SM_RDst)\n",
    "cmd += ' --setParameterRanges r=0.01,1'\n",
    "cmd += ' -n {}'.format(card_name)\n",
    "cmd += ' --verbose -1'\n",
    "os.system(cmd);"
   ]
  },
  {
   "cell_type": "markdown",
   "metadata": {},
   "source": [
    " Perform a similar scan for each nuisance parameter"
   ]
  },
  {
   "cell_type": "markdown",
   "metadata": {},
   "source": [
    "If running on Tier2 condor remmeber to add this line to CombineToolBase.py ln 11\n",
    "``source /cvmfs/cms.cern.ch/cmsset_default.sh``"
   ]
  },
  {
   "cell_type": "code",
   "execution_count": null,
   "metadata": {
    "ExecuteTime": {
     "end_time": "2020-07-08T02:57:26.182562Z",
     "start_time": "2020-07-08T02:45:06.470Z"
    }
   },
   "outputs": [],
   "source": [
    "cmd = 'cd {}/impactPlots;'.format(outdir)\n",
    "cmd += ' combineTool.py -M Impacts --doFits -m 120'\n",
    "cmd += ' --robustFit 1 --X-rtd MINIMIZER_analytic'\n",
    "# cmd += ' --parallel 20'\n",
    "cmd += ' --parallel 100 --job-mode condor --task-name combineImpacts'\n",
    "cmd += ' --sub-opts \"{}\"'.format(stringJubCustomizationCaltechT2.replace('\"', '\\\\\\\"').replace('$', '\\$'))\n",
    "cmd += ' -d ../../../' + card_location.replace('.txt', '.root')\n",
    "cmd += ' -D ' + histo[histo.keys()[0]]['data'].GetName()\n",
    "cmd += ' -n {}'.format(card_name)\n",
    "cmd += ' --verbose -1'\n",
    "print cmd\n",
    "os.system(cmd);"
   ]
  },
  {
   "cell_type": "markdown",
   "metadata": {},
   "source": [
    "Collect the results"
   ]
  },
  {
   "cell_type": "code",
   "execution_count": null,
   "metadata": {
    "ExecuteTime": {
     "end_time": "2020-07-08T02:57:26.184668Z",
     "start_time": "2020-07-08T02:45:06.473Z"
    }
   },
   "outputs": [],
   "source": [
    "status, output = commands.getstatusoutput('condor_q')\n",
    "while 'combineImpacts' in output:\n",
    "    time.sleep(20)\n",
    "    status, output = commands.getstatusoutput('condor_q')\n",
    "    for l in output.split('\\n'):\n",
    "        if 'combineImpacts' in l: \n",
    "            print l\n",
    "            sys.stdout.flush()\n",
    "cmd = 'cd {}/impactPlots;'.format(outdir)\n",
    "cmd += ' combineTool.py -M Impacts -o impacts.json -m 120'\n",
    "cmd += ' -d ../../../' + card_location.replace('.txt', '.root')\n",
    "cmd += ' -n {}'.format(card_name)\n",
    "print cmd\n",
    "os.system(cmd);"
   ]
  },
  {
   "cell_type": "code",
   "execution_count": null,
   "metadata": {
    "ExecuteTime": {
     "end_time": "2020-07-08T02:57:26.186764Z",
     "start_time": "2020-07-08T02:45:06.475Z"
    },
    "scrolled": false
   },
   "outputs": [],
   "source": [
    "rename = {\n",
    "'r': 'R(D*)',\n",
    "'B0pT': 'B_{0} p_{T} spectrum',\n",
    "'B2DstCLNR0':'R_{0} (CLN B#rightarrow D*#ell#nu)',\n",
    "'B2DstCLNR1':'R_{1} (CLN B#rightarrow D*)',\n",
    "'B2DstCLNR2':'R_{2} (CLN B#rightarrow D*)',\n",
    "'B2DstCLNRhoSq':'#rho^{2} (CLN B#rightarrow D*)',\n",
    "'trgSF': 'Trigger scale factor',\n",
    "'xsecpp2bbXlumi': 'Luminosity*#sigma_{pp#rightarrowbb}',\n",
    "    \n",
    "}\n",
    "\n",
    "procName_dic = {\n",
    "'mu'        : 'B_{0}#rightarrow D*#mu#nu',\n",
    "'tau'       : 'B_{0}#rightarrow D*#tau#nu',\n",
    "'DstmD0'    : 'B^{+}#rightarrow D*D_{0}(#muY) + X',\n",
    "'DstmDp'    : 'B^{+}#rightarrow D*D^{+}(#muY) + X',\n",
    "'DstmDsp'   : 'B^{+}#rightarrow D*D_{s}^{+}(#muX)',\n",
    "'DstPip'    : 'B^{+}#rightarrow D*#pi^{+}#mu#nu',\n",
    "'DstPipPi0' : 'B^{+}#rightarrow D*#pi^{+}#pi^{0}#mu#nu',\n",
    "'DstPi0'    : 'B_{0}#rightarrow D*#pi^{0}#mu#nu',\n",
    "'DstPipPim' : 'B_{0}#rightarrow D*#pi^{+}#pi^{-}#mu#nu',\n",
    "'DstPi0Pi0' : 'B_{0}#rightarrow D*#pi^{0}#pi^{0}#mu#nu',\n",
    "'BpDstmHc'  : 'B^{+}#rightarrow D*D(#muX)',\n",
    "'BmDstmHc'  : 'B^{-}#rightarrow D*D(#muX)',\n",
    "'antiB0DstmHc'  : '#bar{B}_{0}#rightarrow D*D(#muX)',\n",
    "}\n",
    "\n",
    "for n in processes:\n",
    "    rename[n+'Br'] = 'Branching fraction ' + procName_dic[n]\n",
    "\n",
    "d = json.load(open(outdir+'/impactPlots/impacts.json', 'r'))\n",
    "for par in d['params']:\n",
    "    name = str(par['name'])\n",
    "    if not name.startswith('prop_bin'): continue\n",
    "    label = name.replace('prop_bin', 'MC stat. ')\n",
    "    label = label.replace('M2_miss_', 'M^{2}_{miss} ')\n",
    "    label = label.replace('Est_mu_', 'E*_{#mu} ')\n",
    "    label = label.replace('q2bin', '[b_{q^{2}}=')\n",
    "    label = label.replace('_bin', '] ')\n",
    "    rename[name] = label + 10*' '\n",
    "    \n",
    "json.dump(rename, open(outdir+'/impactPlots/rename.json', 'w'))\n",
    "\n",
    "cmd = 'cd {};'.format(outdir)\n",
    "cmd += 'plotImpacts.py -i impactPlots/impacts.json -o impacts -t impactPlots/rename.json'\n",
    "os.system(cmd)\n",
    "IFrame(outdir+'/impacts.pdf', width=900, height=600)"
   ]
  },
  {
   "cell_type": "markdown",
   "metadata": {},
   "source": [
    "## Run the Goodness of fit test"
   ]
  },
  {
   "cell_type": "markdown",
   "metadata": {},
   "source": [
    "Run the observed test stat value"
   ]
  },
  {
   "cell_type": "code",
   "execution_count": null,
   "metadata": {
    "ExecuteTime": {
     "end_time": "2020-07-08T02:57:26.188598Z",
     "start_time": "2020-07-08T02:45:06.478Z"
    },
    "scrolled": true
   },
   "outputs": [],
   "source": [
    "cmd = 'combine -M GoodnessOfFit --toysFrequentist --algo=saturated'\n",
    "cmd += ' --X-rtd MINIMIZER_analytic --cminDefaultMinimizerStrategy 0'\n",
    "cmd += ' -d results/{cn}/higgsCombine{cn}_bestfit.MultiDimFit.mH120.root'.format(cn=card_name)\n",
    "cmd += ' --snapshotName MultiDimFit --bypassFrequentistFit'\n",
    "cmd += ' -D ' + histo[histo.keys()[0]]['data'].GetName()\n",
    "cmd += ' -n Obs'                                    # Just the output name\n",
    "cmd += ' -t 0'                                      # Don't run toys\n",
    "cmd += ' -s 1'                                      # Random seed\n",
    "cmd += ' --setParameters r={:.2f}'.format(SM_RDst)\n",
    "cmd += ' --setParameterRanges r=0.001,1'\n",
    "cmd += ' --plots --verbose -1'\n",
    "print cmd\n",
    "os.system(cmd)"
   ]
  },
  {
   "cell_type": "markdown",
   "metadata": {},
   "source": [
    "Run the test stat toy distribution"
   ]
  },
  {
   "cell_type": "code",
   "execution_count": null,
   "metadata": {
    "ExecuteTime": {
     "end_time": "2020-07-08T02:57:26.190784Z",
     "start_time": "2020-07-08T02:45:06.481Z"
    }
   },
   "outputs": [],
   "source": [
    "cmd = 'combine -M GoodnessOfFit --toysFrequentist --algo=saturated'\n",
    "cmd += ' --X-rtd MINIMIZER_analytic --cminDefaultMinimizerStrategy 0'\n",
    "cmd += ' -d results/{cn}/higgsCombine{cn}_bestfit.MultiDimFit.mH120.root'.format(cn=card_name)\n",
    "cmd += ' --snapshotName MultiDimFit --bypassFrequentistFit'\n",
    "cmd += ' -D ' + histo[histo.keys()[0]]['data'].GetName()\n",
    "cmd += ' -n Toys'                                   # Just the output name\n",
    "cmd += ' -t 30'                                     # Number of toys to run\n",
    "cmd += ' -s -1'                                     # Random seed\n",
    "cmd += ' --setParameters r={:.2f}'.format(SM_RDst)\n",
    "cmd += ' --setParameterRanges r=0.001,1'\n",
    "cmd += ' --plots --verbose -1'\n",
    "cmdToys = cmd\n",
    "print cmdToys\n",
    "# os.system(cmdToys)"
   ]
  },
  {
   "cell_type": "code",
   "execution_count": null,
   "metadata": {
    "ExecuteTime": {
     "end_time": "2020-07-08T02:57:26.192920Z",
     "start_time": "2020-07-08T02:45:06.483Z"
    }
   },
   "outputs": [],
   "source": [
    "from multiprocessing import Pool\n",
    "\n",
    "def runCommand(cmd):\n",
    "    os.system(cmd)\n",
    "\n",
    "Nrep = 15\n",
    "p = Pool(min(20,Nrep))\n",
    "outputs = p.map(runCommand, Nrep*[cmdToys])"
   ]
  },
  {
   "cell_type": "markdown",
   "metadata": {},
   "source": [
    "Combine them to get the p-value"
   ]
  },
  {
   "cell_type": "code",
   "execution_count": null,
   "metadata": {
    "ExecuteTime": {
     "end_time": "2020-07-08T02:57:26.195033Z",
     "start_time": "2020-07-08T02:45:06.485Z"
    }
   },
   "outputs": [],
   "source": [
    "f = ur.open('higgsCombineObs.GoodnessOfFit.mH120.1.root')\n",
    "s_obs = f['limit']['limit'].array()[0]\n",
    "\n",
    "s_toys = []\n",
    "for name_toys in glob('higgsCombineToys.GoodnessOfFit.*.root'):\n",
    "    f = ur.open(name_toys)\n",
    "    s_toys += list(f['limit']['limit'].array())\n",
    "\n",
    "content, center, _ = plt.hist(s_toys, label='Toys')\n",
    "plt.plot([s_obs, s_obs], [0, np.max(content)], 'm--', label='Observed')\n",
    "plt.legend(loc='best')\n",
    "\n",
    "p_val = np.sum(s_toys > s_obs)/float(len(s_toys))\n",
    "print 'p-value: {:.1f}%'.format(100*p_val)\n",
    "if p_val < 0.01: print p_val"
   ]
  },
  {
   "cell_type": "code",
   "execution_count": null,
   "metadata": {
    "ExecuteTime": {
     "end_time": "2020-07-08T02:57:26.196882Z",
     "start_time": "2020-07-08T02:45:06.487Z"
    }
   },
   "outputs": [],
   "source": [
    "os.system('mv *.root {}/'.format(outdir))"
   ]
  }
 ],
 "metadata": {
  "kernelspec": {
   "display_name": "Python 2",
   "language": "python",
   "name": "python2"
  },
  "language_info": {
   "codemirror_mode": {
    "name": "ipython",
    "version": 2
   },
   "file_extension": ".py",
   "mimetype": "text/x-python",
   "name": "python",
   "nbconvert_exporter": "python",
   "pygments_lexer": "ipython2",
   "version": "2.7.14+"
  },
  "varInspector": {
   "cols": {
    "lenName": 16,
    "lenType": 16,
    "lenVar": 40
   },
   "kernels_config": {
    "python": {
     "delete_cmd_postfix": "",
     "delete_cmd_prefix": "del ",
     "library": "var_list.py",
     "varRefreshCmd": "print(var_dic_list())"
    },
    "r": {
     "delete_cmd_postfix": ") ",
     "delete_cmd_prefix": "rm(",
     "library": "var_list.r",
     "varRefreshCmd": "cat(var_dic_list()) "
    }
   },
   "position": {
    "height": "308px",
    "left": "1550px",
    "right": "20px",
    "top": "120px",
    "width": "338px"
   },
   "types_to_exclude": [
    "module",
    "function",
    "builtin_function_or_method",
    "instance",
    "_Feature"
   ],
   "window_display": false
  }
 },
 "nbformat": 4,
 "nbformat_minor": 2
}
