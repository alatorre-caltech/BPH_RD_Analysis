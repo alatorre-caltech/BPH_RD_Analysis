{
 "cells": [
  {
   "cell_type": "code",
   "execution_count": 1,
   "metadata": {
    "ExecuteTime": {
     "end_time": "2021-01-12T14:43:10.770002Z",
     "start_time": "2021-01-12T14:43:10.753493Z"
    }
   },
   "outputs": [],
   "source": [
    "# inputFile = '/storage/user/ocerri/BPhysics/Combine/results/'\n",
    "# inputFile += 'v5B0ratiocomb_CLN_blinded/higgsCombineBestfit.MultiDimFit.mH120.root'\n",
    "\n",
    "card = 'cards/v5B0ratiocomb_CLN_blinded.root'\n",
    "unblinded = False\n",
    "rVal = 0.295 #use None for bestfit\n",
    "\n",
    "varMods = {'B2DstCLNeig1': 0.0\n",
    "          }"
   ]
  },
  {
   "cell_type": "markdown",
   "metadata": {},
   "source": [
    "# Setup"
   ]
  },
  {
   "cell_type": "markdown",
   "metadata": {},
   "source": [
    "## Imports"
   ]
  },
  {
   "cell_type": "code",
   "execution_count": 2,
   "metadata": {
    "ExecuteTime": {
     "end_time": "2021-01-12T14:43:12.792560Z",
     "start_time": "2021-01-12T14:43:10.775833Z"
    }
   },
   "outputs": [],
   "source": [
    "import sys, os, pickle, time, json, yaml, itertools, commands, re\n",
    "from glob import glob\n",
    "sys.path.append('../lib')\n",
    "sys.path.append('../analysis')\n",
    "import numpy as np\n",
    "import pandas as pd"
   ]
  },
  {
   "cell_type": "code",
   "execution_count": 3,
   "metadata": {
    "ExecuteTime": {
     "end_time": "2021-01-12T14:43:19.824480Z",
     "start_time": "2021-01-12T14:43:12.798167Z"
    }
   },
   "outputs": [
    {
     "name": "stdout",
     "output_type": "stream",
     "text": [
      "Welcome to JupyROOT 6.12/07\n"
     ]
    }
   ],
   "source": [
    "import uproot as ur\n",
    "import ROOT as rt\n",
    "rt.gErrorIgnoreLevel = rt.kError\n",
    "rt.RooMsgService.instance().setGlobalKillBelow(rt.RooFit.ERROR)\n",
    "import root_numpy as rtnp"
   ]
  },
  {
   "cell_type": "code",
   "execution_count": 4,
   "metadata": {
    "ExecuteTime": {
     "end_time": "2021-01-12T14:43:20.147247Z",
     "start_time": "2021-01-12T14:43:19.830647Z"
    }
   },
   "outputs": [],
   "source": [
    "import CMS_lumi, tdrstyle\n",
    "tdrstyle.setTDRStyle()\n",
    "CMS_lumi.writeExtraText = 1\n",
    "CMS_lumi.extraText = \"     Preliminary\""
   ]
  },
  {
   "cell_type": "code",
   "execution_count": 5,
   "metadata": {
    "ExecuteTime": {
     "end_time": "2021-01-12T14:43:21.271404Z",
     "start_time": "2021-01-12T14:43:20.152198Z"
    }
   },
   "outputs": [],
   "source": [
    "from analysis_utilities import drawOnCMSCanvas, getEff, DSetLoader\n",
    "from histo_utilities import create_TH1D, create_TH2D, std_color_list\n",
    "from gridVarQ2Plot import plot_gridVarQ2, plot_SingleCategory\n",
    "from combine_utilities import loadHisto4CombineFromRoot"
   ]
  },
  {
   "cell_type": "markdown",
   "metadata": {},
   "source": [
    "## Directories"
   ]
  },
  {
   "cell_type": "code",
   "execution_count": 6,
   "metadata": {
    "ExecuteTime": {
     "end_time": "2021-01-12T14:43:21.295789Z",
     "start_time": "2021-01-12T14:43:21.276078Z"
    }
   },
   "outputs": [
    {
     "name": "stdout",
     "output_type": "stream",
     "text": [
      "results/v5B0ratiocomb_CLN_blinded/mvDistVar_B2DstCLNeig10p0\n",
      "Creating directory\n"
     ]
    }
   ],
   "source": [
    "if 'inputFile' in locals().keys():\n",
    "    outdir = os.path.dirname(inputFile)\n",
    "else:\n",
    "    outdir = card.replace('cards', 'results').replace('.root', '')\n",
    "    \n",
    "outdir += '/mvDistVar'\n",
    "s = ''\n",
    "for k,v in varMods.iteritems():\n",
    "    s += '_'+k\n",
    "    s += '{:.1f}'.format(v).replace('.', 'p')\n",
    "outdir += s\n",
    "print outdir\n",
    "if not os.path.isdir(outdir):\n",
    "    os.makedirs(outdir)\n",
    "    print 'Creating directory'"
   ]
  },
  {
   "cell_type": "markdown",
   "metadata": {
    "heading_collapsed": true
   },
   "source": [
    "# Run combine"
   ]
  },
  {
   "cell_type": "markdown",
   "metadata": {
    "hidden": true
   },
   "source": [
    "Create the snapshot"
   ]
  },
  {
   "cell_type": "code",
   "execution_count": 7,
   "metadata": {
    "ExecuteTime": {
     "end_time": "2021-01-12T14:43:21.324695Z",
     "start_time": "2021-01-12T14:43:21.299235Z"
    },
    "hidden": true
   },
   "outputs": [],
   "source": [
    "channelMasking = ['AddTk_pm_mHad', 'B_pt', 'B_eta']\n",
    "for n in ['Est_mu', 'M2_miss', 'mu_pt', 'Dst_pt']:\n",
    "    for i in range(4):\n",
    "        channelMasking.append(n+'_q2bin'+str(i))\n",
    "\n",
    "if not unblinded:\n",
    "    channelMasking += ['Unrolled_q2bin2', 'Unrolled_q2bin3']\n",
    "\n",
    "if 'comb' in card:\n",
    "    aux = []\n",
    "    for c in ['low', 'mid', 'high']:\n",
    "        for cm in channelMasking:\n",
    "            aux.append('{}_{}'.format(c, cm))\n",
    "    channelMasking = aux\n",
    "maskStr = ','.join(['mask_{}=1'.format(c) for c in channelMasking])"
   ]
  },
  {
   "cell_type": "code",
   "execution_count": 8,
   "metadata": {
    "ExecuteTime": {
     "end_time": "2021-01-12T14:43:35.795982Z",
     "start_time": "2021-01-12T14:43:21.329041Z"
    },
    "hidden": true
   },
   "outputs": [
    {
     "name": "stdout",
     "output_type": "stream",
     "text": [
      "cd results/v5B0ratiocomb_CLN_blinded/mvDistVar_B2DstCLNeig10p0; combine -M MultiDimFit --cminDefaultMinimizerStrategy=1 --robustFit 1 --X-rtd MINIMIZER_analytic -d /storage/user/ocerri/BPhysics/Combine/cards/v5B0ratiocomb_CLN_blinded.root --freezeParameters r --setParameters r=0.29,mask_low_AddTk_pm_mHad=1,mask_low_B_pt=1,mask_low_B_eta=1,mask_low_Est_mu_q2bin0=1,mask_low_Est_mu_q2bin1=1,mask_low_Est_mu_q2bin2=1,mask_low_Est_mu_q2bin3=1,mask_low_M2_miss_q2bin0=1,mask_low_M2_miss_q2bin1=1,mask_low_M2_miss_q2bin2=1,mask_low_M2_miss_q2bin3=1,mask_low_mu_pt_q2bin0=1,mask_low_mu_pt_q2bin1=1,mask_low_mu_pt_q2bin2=1,mask_low_mu_pt_q2bin3=1,mask_low_Dst_pt_q2bin0=1,mask_low_Dst_pt_q2bin1=1,mask_low_Dst_pt_q2bin2=1,mask_low_Dst_pt_q2bin3=1,mask_low_Unrolled_q2bin2=1,mask_low_Unrolled_q2bin3=1,mask_mid_AddTk_pm_mHad=1,mask_mid_B_pt=1,mask_mid_B_eta=1,mask_mid_Est_mu_q2bin0=1,mask_mid_Est_mu_q2bin1=1,mask_mid_Est_mu_q2bin2=1,mask_mid_Est_mu_q2bin3=1,mask_mid_M2_miss_q2bin0=1,mask_mid_M2_miss_q2bin1=1,mask_mid_M2_miss_q2bin2=1,mask_mid_M2_miss_q2bin3=1,mask_mid_mu_pt_q2bin0=1,mask_mid_mu_pt_q2bin1=1,mask_mid_mu_pt_q2bin2=1,mask_mid_mu_pt_q2bin3=1,mask_mid_Dst_pt_q2bin0=1,mask_mid_Dst_pt_q2bin1=1,mask_mid_Dst_pt_q2bin2=1,mask_mid_Dst_pt_q2bin3=1,mask_mid_Unrolled_q2bin2=1,mask_mid_Unrolled_q2bin3=1,mask_high_AddTk_pm_mHad=1,mask_high_B_pt=1,mask_high_B_eta=1,mask_high_Est_mu_q2bin0=1,mask_high_Est_mu_q2bin1=1,mask_high_Est_mu_q2bin2=1,mask_high_Est_mu_q2bin3=1,mask_high_M2_miss_q2bin0=1,mask_high_M2_miss_q2bin1=1,mask_high_M2_miss_q2bin2=1,mask_high_M2_miss_q2bin3=1,mask_high_mu_pt_q2bin0=1,mask_high_mu_pt_q2bin1=1,mask_high_mu_pt_q2bin2=1,mask_high_mu_pt_q2bin3=1,mask_high_Dst_pt_q2bin0=1,mask_high_Dst_pt_q2bin1=1,mask_high_Dst_pt_q2bin2=1,mask_high_Dst_pt_q2bin3=1,mask_high_Unrolled_q2bin2=1,mask_high_Unrolled_q2bin3=1 -n Fit --saveWorkspace --verbose -1\n"
     ]
    }
   ],
   "source": [
    "if 'card' in locals().keys():\n",
    "    cmd = 'cd ' + outdir + '; '\n",
    "    cmd += 'combine -M MultiDimFit'\n",
    "    cmd += ' --cminDefaultMinimizerStrategy=1 --robustFit 1 --X-rtd MINIMIZER_analytic'\n",
    "    cmd += ' -d /storage/user/ocerri/BPhysics/Combine/' + card\n",
    "    if rVal is None:\n",
    "        cmd += ' --setParameters r=0.295'\n",
    "    else:\n",
    "        cmd += ' --freezeParameters r --setParameters r={:.2f}'.format(rVal)\n",
    "\n",
    "    if maskStr:\n",
    "        cmd += ','+maskStr\n",
    "    cmd += ' -n Fit'\n",
    "    cmd += ' --saveWorkspace --verbose -1'\n",
    "    print cmd\n",
    "    status, output = commands.getstatusoutput(cmd)\n",
    "    if status:\n",
    "        print output\n",
    "        raise\n",
    "        \n",
    "    inputFile = 'higgsCombineFit.MultiDimFit.mH120.root'"
   ]
  },
  {
   "cell_type": "markdown",
   "metadata": {
    "hidden": true
   },
   "source": [
    "Run these commands in command line, otherwise it takes too long"
   ]
  },
  {
   "cell_type": "code",
   "execution_count": 9,
   "metadata": {
    "ExecuteTime": {
     "end_time": "2021-01-12T14:43:35.829137Z",
     "start_time": "2021-01-12T14:43:35.804377Z"
    },
    "hidden": true
   },
   "outputs": [
    {
     "name": "stdout",
     "output_type": "stream",
     "text": [
      "cd results/v5B0ratiocomb_CLN_blinded/mvDistVar_B2DstCLNeig10p0; combine -M FitDiagnostics -d higgsCombineFit.MultiDimFit.mH120.root --cminDefaultMinimizerStrategy 0 --X-rtd MINIMIZER_analytic --X-rtd MINIMIZER_MaxCalls=1 --snapshotName MultiDimFit -n Baseline --saveShapes --trackParameters rgx{.*}; combine -M FitDiagnostics -d higgsCombineFit.MultiDimFit.mH120.root --cminDefaultMinimizerStrategy 0 --X-rtd MINIMIZER_analytic --X-rtd MINIMIZER_MaxCalls=1 --snapshotName MultiDimFit -n Mods --saveShapes --trackParameters rgx{.*} --setParameters B2DstCLNeig1=0.0; cd -\n"
     ]
    }
   ],
   "source": [
    "cmd = 'combine -M FitDiagnostics'\n",
    "cmd += ' -d ' + os.path.basename(inputFile)\n",
    "cmd += ' --cminDefaultMinimizerStrategy 0 --X-rtd MINIMIZER_analytic --X-rtd MINIMIZER_MaxCalls=1'\n",
    "cmd += ' --snapshotName MultiDimFit'\n",
    "cmd += ' -n Baseline'\n",
    "cmd += ' --saveShapes'\n",
    "cmd += ' --trackParameters rgx{.*}'\n",
    "\n",
    "cmd2 = cmd + ' --setParameters ' + ','.join([k+'='+str(v) for k,v in varMods.iteritems()])\n",
    "cmd2 = cmd2.replace('Baseline', 'Mods')\n",
    "\n",
    "print 'cd ' + outdir + '; ' + cmd + '; ' + cmd2 +'; cd -'"
   ]
  },
  {
   "cell_type": "markdown",
   "metadata": {
    "ExecuteTime": {
     "end_time": "2021-01-12T10:05:49.597393Z",
     "start_time": "2021-01-12T10:05:49.580434Z"
    }
   },
   "source": [
    "# Data loading"
   ]
  },
  {
   "cell_type": "code",
   "execution_count": 11,
   "metadata": {
    "ExecuteTime": {
     "end_time": "2021-01-12T14:48:09.972610Z",
     "start_time": "2021-01-12T14:47:39.216017Z"
    }
   },
   "outputs": [],
   "source": [
    "parsBase = pd.DataFrame(rtnp.root2array(outdir + '/fitDiagnosticsBaseline.root', treename='tree_prefit'))\n",
    "parsMods = pd.DataFrame(rtnp.root2array(outdir + '/fitDiagnosticsMods.root', treename='tree_prefit'))\n",
    "interestingColumns = [n for n in parsBase.columns if not (n.startswith('prop') or n.startswith('n_exp') or n.endswith('_In'))]"
   ]
  },
  {
   "cell_type": "code",
   "execution_count": 15,
   "metadata": {
    "ExecuteTime": {
     "end_time": "2021-01-12T14:51:39.809971Z",
     "start_time": "2021-01-12T14:51:39.780086Z"
    },
    "hide_input": false,
    "scrolled": false
   },
   "outputs": [
    {
     "name": "stdout",
     "output_type": "stream",
     "text": [
      "\u001b[1m\u001b[31mB2DstCLNeig1            -3.86 0.00\u001b[0m\n",
      "B0pT                    -3.61 -3.61\n",
      "B2DstCLNeig3            +2.98 +2.98\n",
      "BmDstmHcBr              +2.75 +2.75\n",
      "B2DstCLNeig2            +2.71 +2.71\n",
      "DstmDspBr               +2.26 +2.26\n",
      "BpPt                    -2.13 -2.13\n",
      "BrB02DstDstpKst0        +1.79 +1.79\n",
      "antiB0DstmHcBr          +1.52 +1.52\n",
      "fDststWide              -1.50 -1.50\n",
      "xsecpp2bbXlumiMu12_IP6  +1.27 +1.27\n",
      "DstPiPiWidth            +1.24 +1.24\n",
      "BrB02DstDsst            +1.22 +1.22\n",
      "trkEff                  +0.96 +0.96\n",
      "D2460_1StWidth          -0.95 -0.95\n",
      "B2DstCLNR0              -0.90 -0.90\n",
      "D2420_10Width           -0.71 -0.71\n",
      "BrB02DstDs              +0.67 +0.67\n",
      "BrB02DstDstpK0          +0.66 +0.66\n",
      "muBr                    -0.62 -0.62\n",
      "BrB02DstDpKst0          -0.60 -0.60\n",
      "BrB02DstDst0Kp          -0.44 -0.44\n",
      "TauDstPiBr              -0.41 -0.41\n",
      "BrB02DstDs0st           +0.33 +0.33\n",
      "DstmD0Br                +0.31 +0.31\n",
      "BrB02DstDst0Kstp        +0.29 +0.29\n",
      "DstPiBr                 -0.28 -0.28\n",
      "tkPVfrac                +0.27 +0.27\n",
      "xsecpp2bbXlumiMu9_IP6   +0.26 +0.26\n",
      "BrB02DstD0Kp            -0.24 -0.24\n",
      "xsecpp2bbXlumiMu7_IP4   -0.21 -0.21\n",
      "DstmDpBr                -0.12 -0.12\n",
      "DstPiPiBr               -0.09 -0.09\n",
      "BpDstmHcBr              +0.03 +0.03\n",
      "BrB02DstD0Kstp          -0.01 -0.01\n",
      "BrB02DstDpK0            -0.00 -0.00\n"
     ]
    }
   ],
   "source": [
    "maxLen = 1 + np.max([len(n) for n in interestingColumns])\n",
    "order = np.argsort([np.abs(parsBase[n].iloc[0]) for n in interestingColumns])\n",
    "\n",
    "for iN in reversed(list(order)):\n",
    "    n = interestingColumns[iN]\n",
    "    name = n + ' '*(maxLen - len(n)) + ' '\n",
    "    b = parsBase[n].iloc[0]\n",
    "    m = parsMods[n].iloc[0]\n",
    "    out = ''\n",
    "    if m != b: out += '\\033[1m\\x1b[31m'\n",
    "    out += name\n",
    "    if b > 0: out += '+'\n",
    "    out += '{:.2f} '.format(b)\n",
    "    if m > 0: out += '+'\n",
    "    out += '{:.2f}'.format(m)\n",
    "    if m != b: out += '\\x1b[0m'\n",
    "    print out"
   ]
  },
  {
   "cell_type": "code",
   "execution_count": 12,
   "metadata": {
    "ExecuteTime": {
     "end_time": "2021-01-12T14:49:57.470673Z",
     "start_time": "2021-01-12T14:49:57.408182Z"
    },
    "code_folding": []
   },
   "outputs": [],
   "source": [
    "def getPostfitHistos(floc, histo_prefit):\n",
    "    print 'Loading post-fit from:', floc\n",
    "    fFitDiagnostics = rt.TFile(floc, 'READ')\n",
    "    fd = fFitDiagnostics.shapes_prefit\n",
    "\n",
    "    histo_postfit = {}\n",
    "    for catregName in [k.GetTitle() for k in fd.GetListOfKeys()]:\n",
    "        c = catregName.split('_')[0]\n",
    "        if not c in histo_postfit.keys():\n",
    "            histo_postfit[c] = {}\n",
    "        regName = catregName[len(c)+1:]\n",
    "        histo_postfit[c][regName] = {}\n",
    "\n",
    "        for n, h in histo_prefit[c][regName].iteritems():\n",
    "            if '__' in n:\n",
    "                continue\n",
    "            if 'data' in n:\n",
    "                histo_postfit[c][regName]['data'] = h.Clone(h.GetName() + '_data')\n",
    "            else:\n",
    "                h_post = h.Clone(h.GetName() + '_postfit')\n",
    "                h_fit = fd.Get(catregName+'/'+n)\n",
    "                if not h_fit:\n",
    "                    print n+' missing from '+c+' '+regName\n",
    "                    continue\n",
    "                for i in range(1, h_post.GetNbinsX()+1):\n",
    "                    h_post.SetBinContent(i, h_fit.GetBinContent(i))\n",
    "                    h_post.SetBinError(i, h_fit.GetBinError(i))\n",
    "\n",
    "                histo_postfit[c][regName][n] = h_post\n",
    "\n",
    "    return histo_postfit, fFitDiagnostics"
   ]
  },
  {
   "cell_type": "code",
   "execution_count": 13,
   "metadata": {
    "ExecuteTime": {
     "end_time": "2021-01-12T14:50:31.383055Z",
     "start_time": "2021-01-12T14:50:30.861992Z"
    }
   },
   "outputs": [
    {
     "name": "stdout",
     "output_type": "stream",
     "text": [
      "---- Loading low\n",
      "---- Loading mid\n",
      "---- Loading high\n"
     ]
    }
   ],
   "source": [
    "histo_file_dir = '/storage/user/ocerri/BPhysics/data/_root/histos4combine/'\n",
    "card_name = card.replace('cards/', '').replace('.root', '')\n",
    "histo = {}\n",
    "for c in ['low', 'mid', 'high']:\n",
    "    print '---- Loading', c\n",
    "    histo[c] = loadHisto4CombineFromRoot(histo_file_dir, card_name.replace('comb', c))"
   ]
  },
  {
   "cell_type": "code",
   "execution_count": 14,
   "metadata": {
    "ExecuteTime": {
     "end_time": "2021-01-12T14:51:06.387468Z",
     "start_time": "2021-01-12T14:51:05.222196Z"
    },
    "scrolled": true
   },
   "outputs": [
    {
     "name": "stdout",
     "output_type": "stream",
     "text": [
      "Loading post-fit from: results/v5B0ratiocomb_CLN_blinded/mvDistVar_B2DstCLNeig10p0/fitDiagnosticsBaseline.root\n",
      "BmDstmHc missing from mid Dst_pt_q2bin0\n",
      "DstmD0 missing from mid Dst_pt_q2bin0\n",
      "BmDstmHc missing from mid Est_mu_q2bin0\n",
      "DstmD0 missing from mid Est_mu_q2bin0\n",
      "BmDstmHc missing from mid M2_miss_q2bin0\n",
      "DstmD0 missing from mid M2_miss_q2bin0\n",
      "BmDstmHc missing from mid Unrolled_q2bin0\n",
      "DstmD0 missing from mid Unrolled_q2bin0\n",
      "BmDstmHc missing from mid mu_pt_q2bin0\n",
      "DstmD0 missing from mid mu_pt_q2bin0\n",
      "BpDstmHc missing from high AddTk_mm_mHad\n",
      "DstmD0 missing from high Dst_pt_q2bin0\n",
      "DstmD0 missing from high Est_mu_q2bin0\n",
      "DstmD0 missing from high M2_miss_q2bin0\n",
      "DstmD0 missing from high Unrolled_q2bin0\n",
      "DstmD0 missing from high mu_pt_q2bin0\n",
      "BmDstmHc missing from low AddTk_pp_mHad\n",
      "BmDstmHc missing from mid AddTk_pp_mHad\n",
      "Loading post-fit from: results/v5B0ratiocomb_CLN_blinded/mvDistVar_B2DstCLNeig10p0/fitDiagnosticsMods.root\n",
      "BmDstmHc missing from mid Dst_pt_q2bin0\n",
      "DstmD0 missing from mid Dst_pt_q2bin0\n",
      "BmDstmHc missing from mid Est_mu_q2bin0\n",
      "DstmD0 missing from mid Est_mu_q2bin0\n",
      "BmDstmHc missing from mid M2_miss_q2bin0\n",
      "DstmD0 missing from mid M2_miss_q2bin0\n",
      "BmDstmHc missing from mid Unrolled_q2bin0\n",
      "DstmD0 missing from mid Unrolled_q2bin0\n",
      "BmDstmHc missing from mid mu_pt_q2bin0\n",
      "DstmD0 missing from mid mu_pt_q2bin0\n",
      "BpDstmHc missing from high AddTk_mm_mHad\n",
      "DstmD0 missing from high Dst_pt_q2bin0\n",
      "DstmD0 missing from high Est_mu_q2bin0\n",
      "DstmD0 missing from high M2_miss_q2bin0\n",
      "DstmD0 missing from high Unrolled_q2bin0\n",
      "DstmD0 missing from high mu_pt_q2bin0\n",
      "BmDstmHc missing from low AddTk_pp_mHad\n",
      "BmDstmHc missing from mid AddTk_pp_mHad\n"
     ]
    }
   ],
   "source": [
    "histoBase, fBase = getPostfitHistos(outdir + '/fitDiagnosticsBaseline.root', histo)\n",
    "histoMods, fMods = getPostfitHistos(outdir + '/fitDiagnosticsMods.root', histo)"
   ]
  },
  {
   "cell_type": "markdown",
   "metadata": {},
   "source": [
    "# Draw plots"
   ]
  },
  {
   "cell_type": "code",
   "execution_count": 16,
   "metadata": {
    "ExecuteTime": {
     "end_time": "2021-01-12T14:52:13.451158Z",
     "start_time": "2021-01-12T14:52:13.161069Z"
    }
   },
   "outputs": [
    {
     "data": {
      "image/png": "[encoded data removed]",
      "text/plain": [
       "<IPython.core.display.Image object>"
      ]
     },
     "metadata": {},
     "output_type": "display_data"
    }
   ],
   "source": [
    "h1 = histoBase['low']['M2_miss_q2bin3']['total']\n",
    "h2 = histoMods['low']['M2_miss_q2bin3']['total']\n",
    "h2.SetLineColor(std_color_list[1])\n",
    "\n",
    "c = drawOnCMSCanvas(CMS_lumi, [h1, h2], 'same')"
   ]
  },
  {
   "cell_type": "code",
   "execution_count": 21,
   "metadata": {
    "ExecuteTime": {
     "end_time": "2021-01-12T14:59:33.094123Z",
     "start_time": "2021-01-12T14:59:33.013043Z"
    }
   },
   "outputs": [
    {
     "data": {
      "image/png": "[encoded data removed]",
      "text/plain": [
       "<IPython.core.display.Image object>"
      ]
     },
     "metadata": {},
     "output_type": "display_data"
    }
   ],
   "source": [
    "cAux = plot_SingleCategory(CMS_lumi, histoBase['mid']['M2_miss_q2bin3'], xtitle='M^{2}_{miss} [Gev^{2}]',\n",
    "                           draw_pulls=False,\n",
    "                           addText='Cat. Mid', logy=False, legBkg=True,\n",
    "                           procOrder = ['tau', 'DstD', 'Dstst', 'mu'], maskData=True,\n",
    "                           min_y=0, tag='midM2miss', legLoc=[0.65, 0.4, 0.9, 0.75])\n",
    "\n",
    "h2 = histoMods['mid']['M2_miss_q2bin3']['total']\n",
    "h2.SetLineColor(rt.kGray)\n",
    "h2.Draw('same')\n",
    "cAux.leg"
   ]
  },
  {
   "cell_type": "code",
   "execution_count": null,
   "metadata": {},
   "outputs": [],
   "source": []
  }
 ],
 "metadata": {
  "kernelspec": {
   "display_name": "Python 2",
   "language": "python",
   "name": "python2"
  },
  "language_info": {
   "codemirror_mode": {
    "name": "ipython",
    "version": 2
   },
   "file_extension": ".py",
   "mimetype": "text/x-python",
   "name": "python",
   "nbconvert_exporter": "python",
   "pygments_lexer": "ipython2",
   "version": "2.7.14+"
  },
  "varInspector": {
   "cols": {
    "lenName": 16,
    "lenType": 16,
    "lenVar": 40
   },
   "kernels_config": {
    "python": {
     "delete_cmd_postfix": "",
     "delete_cmd_prefix": "del ",
     "library": "var_list.py",
     "varRefreshCmd": "print(var_dic_list())"
    },
    "r": {
     "delete_cmd_postfix": ") ",
     "delete_cmd_prefix": "rm(",
     "library": "var_list.r",
     "varRefreshCmd": "cat(var_dic_list()) "
    }
   },
   "types_to_exclude": [
    "module",
    "function",
    "builtin_function_or_method",
    "instance",
    "_Feature"
   ],
   "window_display": false
  }
 },
 "nbformat": 4,
 "nbformat_minor": 2
}
