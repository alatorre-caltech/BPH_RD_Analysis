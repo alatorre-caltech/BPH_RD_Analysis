{
 "cells": [
  {
   "cell_type": "code",
   "execution_count": 1,
   "metadata": {
    "ExecuteTime": {
     "end_time": "2020-10-01T19:47:14.445721Z",
     "start_time": "2020-10-01T19:47:14.432441Z"
    }
   },
   "outputs": [],
   "source": [
    "blinded_fit = True\n",
    "plot_obs = True\n",
    "plot_exp = True\n",
    "\n",
    "version_Combination = 'v2'\n",
    "version_singleCard = 'v13'"
   ]
  },
  {
   "cell_type": "markdown",
   "metadata": {},
   "source": [
    "# Import"
   ]
  },
  {
   "cell_type": "code",
   "execution_count": 2,
   "metadata": {
    "ExecuteTime": {
     "end_time": "2020-10-01T19:47:14.511947Z",
     "start_time": "2020-10-01T19:47:14.449956Z"
    }
   },
   "outputs": [],
   "source": [
    "import sys, os\n",
    "from glob import glob\n",
    "sys.path.append('../lib')\n",
    "sys.path.append('../analysis')\n",
    "import commands"
   ]
  },
  {
   "cell_type": "code",
   "execution_count": 3,
   "metadata": {
    "ExecuteTime": {
     "end_time": "2020-10-01T19:47:18.757297Z",
     "start_time": "2020-10-01T19:47:14.516138Z"
    }
   },
   "outputs": [
    {
     "name": "stdout",
     "output_type": "stream",
     "text": [
      "Welcome to JupyROOT 6.12/07\n"
     ]
    }
   ],
   "source": [
    "import ROOT as rt"
   ]
  },
  {
   "cell_type": "code",
   "execution_count": 4,
   "metadata": {
    "ExecuteTime": {
     "end_time": "2020-10-01T19:47:23.035633Z",
     "start_time": "2020-10-01T19:47:18.764579Z"
    }
   },
   "outputs": [],
   "source": [
    "from combine_utilities import getUncertaintyFromLimitTree\n",
    "\n",
    "import CMS_lumi, tdrstyle\n",
    "tdrstyle.setTDRStyle()\n",
    "CMS_lumi.writeExtraText = 1\n",
    "\n",
    "if plot_obs:\n",
    "    CMS_lumi.extraText = \"    Preliminary\"\n",
    "else:\n",
    "    CMS_lumi.extraText = \"    Simulation Preliminary\"\n",
    "\n",
    "expectedLumi = {'low':6.4, 'mid':20.7, 'high':26.4} #fb^-1\n",
    "CMS_lumi.integrated_lumi = expectedLumi['high']"
   ]
  },
  {
   "cell_type": "markdown",
   "metadata": {
    "heading_collapsed": true
   },
   "source": [
    "# Load results"
   ]
  },
  {
   "cell_type": "code",
   "execution_count": 5,
   "metadata": {
    "ExecuteTime": {
     "end_time": "2020-10-01T19:47:23.273949Z",
     "start_time": "2020-10-01T19:47:23.041069Z"
    },
    "hidden": true
   },
   "outputs": [
    {
     "name": "stdout",
     "output_type": "stream",
     "text": [
      "low\n",
      "----------------------------------\n",
      "R(D*) = 0.688 +0.116/-0.114 [16.7 %]\n",
      "Sigma = 0.115\n",
      "----------------------------------\n",
      "\n",
      "mid\n",
      "----------------------------------\n",
      "R(D*) = 0.718 +0.107/-0.106 [14.8 %]\n",
      "Sigma = 0.107\n",
      "----------------------------------\n",
      "\n",
      "high\n",
      "----------------------------------\n",
      "R(D*) = 0.865 +0.127/-0.124 [14.5 %]\n",
      "Sigma = 0.126\n",
      "----------------------------------\n",
      "\n",
      "comb\n",
      "----------------------------------\n",
      "R(D*) = 0.728 +0.080/-0.081 [11.0 %]\n",
      "Sigma = 0.080\n",
      "----------------------------------\n",
      "\n"
     ]
    }
   ],
   "source": [
    "resObs = {}\n",
    "for cat in ['low', 'mid', 'high', 'comb']:\n",
    "    resObs[cat] = None\n",
    "    if not plot_obs: \n",
    "        continue\n",
    "    \n",
    "    scanLoc = 'results/'\n",
    "    if cat=='comb':\n",
    "        scanLoc += version_Combination+'combination'\n",
    "    else:\n",
    "        scanLoc += version_singleCard+cat\n",
    "    if blinded_fit:\n",
    "        scanLoc += '_blinded'\n",
    "    scanLoc += '/higgsCombine*_nominal.MultiDimFit.mH120.root'\n",
    "    scanLoc = glob(scanLoc)\n",
    "    if not len(scanLoc):\n",
    "        print cat, 'not found'\n",
    "        continue\n",
    "    print cat\n",
    "    resObs[cat] = getUncertaintyFromLimitTree(scanLoc[0])"
   ]
  },
  {
   "cell_type": "code",
   "execution_count": 6,
   "metadata": {
    "ExecuteTime": {
     "end_time": "2020-10-01T19:47:23.501885Z",
     "start_time": "2020-10-01T19:47:23.279084Z"
    },
    "hidden": true
   },
   "outputs": [
    {
     "name": "stdout",
     "output_type": "stream",
     "text": [
      "low\n",
      "----------------------------------\n",
      "R(D*) = 0.302 +0.117/-0.115 [38.3 %]\n",
      "Sigma = 0.116\n",
      "----------------------------------\n",
      "\n",
      "mid\n",
      "----------------------------------\n",
      "R(D*) = 0.300 +0.106/-0.105 [35.2 %]\n",
      "Sigma = 0.106\n",
      "----------------------------------\n",
      "\n",
      "high\n",
      "----------------------------------\n",
      "R(D*) = 0.299 +0.123/-0.121 [40.7 %]\n",
      "Sigma = 0.122\n",
      "----------------------------------\n",
      "\n",
      "comb\n",
      "----------------------------------\n",
      "R(D*) = 0.300 +0.076/-0.075 [25.0 %]\n",
      "Sigma = 0.075\n",
      "----------------------------------\n",
      "\n"
     ]
    }
   ],
   "source": [
    "resExp = {}\n",
    "for cat in ['low', 'mid', 'high', 'comb']:\n",
    "    resExp[cat] = None\n",
    "    if not plot_exp: \n",
    "        continue\n",
    "    \n",
    "    scanLoc = 'results/'\n",
    "    if cat=='comb':\n",
    "        scanLoc += version_Combination+'combination'\n",
    "    else:\n",
    "        scanLoc += version_singleCard+cat\n",
    "    scanLoc += '_Asimov'\n",
    "    if blinded_fit:\n",
    "        scanLoc += '_blinded'\n",
    "    scanLoc += '/higgsCombine*_nominal.MultiDimFit.mH120.root'\n",
    "    scanLoc = glob(scanLoc)\n",
    "    if not len(scanLoc):\n",
    "        print cat, 'not found'\n",
    "        continue\n",
    "    print cat\n",
    "    resExp[cat] = getUncertaintyFromLimitTree(scanLoc[0])"
   ]
  },
  {
   "cell_type": "markdown",
   "metadata": {
    "ExecuteTime": {
     "end_time": "2020-09-28T20:20:19.938763Z",
     "start_time": "2020-09-28T20:20:19.932884Z"
    }
   },
   "source": [
    "# Create plot"
   ]
  },
  {
   "cell_type": "code",
   "execution_count": 7,
   "metadata": {
    "ExecuteTime": {
     "end_time": "2020-10-01T19:47:23.566078Z",
     "start_time": "2020-10-01T19:47:23.505888Z"
    }
   },
   "outputs": [],
   "source": [
    "cOut = rt.TCanvas('cOut', 'cOut', 50, 50, 1200, 600)\n",
    "grAux = rt.TGraph()\n",
    "grAux.SetPoint(0, 0, 0)\n",
    "grAux.SetPoint(1, 1, 1)\n",
    "grAux.Draw('AP')"
   ]
  },
  {
   "cell_type": "code",
   "execution_count": 8,
   "metadata": {
    "ExecuteTime": {
     "end_time": "2020-10-01T19:47:23.645761Z",
     "start_time": "2020-10-01T19:47:23.571213Z"
    }
   },
   "outputs": [],
   "source": [
    "box = rt.TPave()\n",
    "box.SetLineWidth(0)\n",
    "box.SetFillStyle(1001)\n",
    "box.SetBorderSize(0)\n",
    "boxColors = [rt.kGreen+1, rt.kOrange]\n",
    "boxHeight = 0.15\n",
    "\n",
    "text = rt.TLatex()\n",
    "text.SetTextAlign(12)\n",
    "text.SetTextSize(0.04)\n",
    "text.SetTextFont(42)\n",
    "textColors = [1,rt.kRed-4]\n",
    "textPosX = 1.2 if blinded_fit else 0.5\n",
    "\n",
    "leg = rt.TLegend(0.78, 0.5, 0.98, 0.8)\n",
    "leg.SetBorderSize(0)"
   ]
  },
  {
   "cell_type": "code",
   "execution_count": 9,
   "metadata": {
    "ExecuteTime": {
     "end_time": "2020-10-01T19:47:23.711361Z",
     "start_time": "2020-10-01T19:47:23.650719Z"
    },
    "code_folding": []
   },
   "outputs": [],
   "source": [
    "ypos = -1\n",
    "ylabels = {}\n",
    "\n",
    "pointObs = rt.TGraph()\n",
    "pointExp = rt.TGraph()\n",
    "\n",
    "lastDrawnIsComb = False\n",
    "\n",
    "for cat in ['comb', 'low', 'mid', 'high']:\n",
    "    aux = int(resExp[cat] is None) + int(resObs[cat] is None)\n",
    "    displ = 0.07 + 0.5*boxHeight if aux == 0 else 0\n",
    "\n",
    "    if aux < 2:\n",
    "        ypos += 1\n",
    "        if lastDrawnIsComb:\n",
    "            ypos += 1\n",
    "        if cat == 'comb': \n",
    "            ylabels[ypos] = 'Combined'\n",
    "            lastDrawnIsComb = True\n",
    "        else:\n",
    "            ylabels[ypos] = cat.capitalize()\n",
    "            lastDrawnIsComb = False\n",
    "            \n",
    "        for i, res in enumerate([resObs[cat], resExp[cat]]):\n",
    "            if res is None:\n",
    "                continue\n",
    "\n",
    "            if i == 0:\n",
    "                yAux = ypos + displ\n",
    "                pointObs.SetPoint(pointObs.GetN(), res[0], yAux)\n",
    "                box.SetFillStyle(1001)\n",
    "            else:\n",
    "                yAux = ypos - displ\n",
    "                pointExp.SetPoint(pointExp.GetN(), res[0], yAux)\n",
    "                box.SetFillStyle(3001)\n",
    "            \n",
    "            box.SetFillColor(boxColors[-1])\n",
    "            b2 = box.DrawBox(float(res[-4]), yAux - 0.5*boxHeight, float(res[-1]), yAux + 0.5*boxHeight)\n",
    "            box.SetFillColor(boxColors[-2])\n",
    "            b1 = box.DrawBox(float(res[-3]), yAux - 0.5*boxHeight, float(res[-2]), yAux + 0.5*boxHeight)\n",
    "\n",
    "            text.SetTextColor(textColors[i])\n",
    "            l = text.DrawLatex(textPosX, yAux, '{:.3f} #pm {:.3f}'.format(res[0], res[3]))"
   ]
  },
  {
   "cell_type": "code",
   "execution_count": 10,
   "metadata": {
    "ExecuteTime": {
     "end_time": "2020-10-01T19:47:23.804688Z",
     "start_time": "2020-10-01T19:47:23.716791Z"
    }
   },
   "outputs": [
    {
     "data": {
      "text/plain": [
       "<ROOT.TLegendEntry object (\"TLegendEntry\") at 0xa690b20>"
      ]
     },
     "execution_count": 10,
     "metadata": {},
     "output_type": "execute_result"
    }
   ],
   "source": [
    "l = rt.TLine()\n",
    "l.SetLineStyle(9)\n",
    "l.SetLineWidth(2)\n",
    "box.SetFillStyle(1001)\n",
    "\n",
    "RDst_Th = 0.258\n",
    "box.SetFillColorAlpha(rt.kViolet-7, 0.5)\n",
    "box.DrawBox(RDst_Th - 0.005, -1, RDst_Th + 0.005, ypos+1)\n",
    "l.SetLineColor(rt.kViolet-7)\n",
    "l.DrawLine(RDst_Th, -1, RDst_Th, ypos+1)\n",
    "leg.AddEntry(l, 'SM prediction', 'l')\n",
    "\n",
    "RDst_avg = 0.295\n",
    "box.SetFillColorAlpha(rt.kAzure+1, 0.5)\n",
    "box.DrawBox(RDst_avg - 0.014, -1, RDst_avg + 0.014, ypos+1)\n",
    "l2 = l.Clone('l2')\n",
    "l2.SetLineColor(rt.kAzure+1)\n",
    "l2.DrawLine(RDst_avg, -1, RDst_avg, ypos+1)\n",
    "leg.AddEntry(l2, 'Experimental Avg.', 'l')"
   ]
  },
  {
   "cell_type": "code",
   "execution_count": 11,
   "metadata": {
    "ExecuteTime": {
     "end_time": "2020-10-01T19:47:23.861171Z",
     "start_time": "2020-10-01T19:47:23.809572Z"
    }
   },
   "outputs": [],
   "source": [
    "pointObs.SetMarkerStyle(20)\n",
    "pointObs.SetMarkerColor(textColors[0])\n",
    "if pointObs.GetN(): \n",
    "    pointObs.Draw('P') \n",
    "    leg.AddEntry(pointObs, 'Observed', 'p')\n",
    "\n",
    "pointExp.SetMarkerStyle(33)\n",
    "pointExp.SetMarkerSize(1.5)\n",
    "pointExp.SetMarkerColor(textColors[1])\n",
    "if pointExp.GetN(): \n",
    "    pointExp.Draw('P') \n",
    "    leg.AddEntry(pointExp, 'Expected', 'p')"
   ]
  },
  {
   "cell_type": "code",
   "execution_count": 12,
   "metadata": {
    "ExecuteTime": {
     "end_time": "2020-10-01T19:47:23.993973Z",
     "start_time": "2020-10-01T19:47:23.866943Z"
    }
   },
   "outputs": [],
   "source": [
    "xMax = 2 if blinded_fit else 1.\n",
    "grAux.GetXaxis().SetLimits(0, xMax)\n",
    "grAux.GetXaxis().SetTitle('R(D*)')\n",
    "grAux.GetHistogram().SetMinimum(-1)\n",
    "grAux.GetHistogram().SetMaximum(ypos+1)\n",
    "\n",
    "ax = grAux.GetYaxis()\n",
    "ax.SetNdivisions(-(ypos+2))\n",
    "ax.ChangeLabel()\n",
    "for i in range(1, ypos+4):\n",
    "    if i-2 in ylabels.keys():\n",
    "        ax.ChangeLabel(i, -1, -1, -1, -1, -1, ylabels[i-2])\n",
    "    else:\n",
    "        ax.ChangeLabel(i, -1, -1, -1, -1, -1, ' ')\n",
    "ax.SetTickLength(0.0)"
   ]
  },
  {
   "cell_type": "code",
   "execution_count": 13,
   "metadata": {
    "ExecuteTime": {
     "end_time": "2020-10-01T19:47:24.046826Z",
     "start_time": "2020-10-01T19:47:23.999960Z"
    }
   },
   "outputs": [],
   "source": [
    "box.SetFillColor(boxColors[0])\n",
    "leg.AddEntry(box, '#pm 1#sigma band', 'f')\n",
    "box2 = box.Clone('box2')\n",
    "box2.SetFillColor(boxColors[1])\n",
    "leg.AddEntry(box2, '#pm 2#sigma band', 'f')\n",
    "\n",
    "leg.Draw()"
   ]
  },
  {
   "cell_type": "code",
   "execution_count": 14,
   "metadata": {
    "ExecuteTime": {
     "end_time": "2020-10-01T19:47:24.068591Z",
     "start_time": "2020-10-01T19:47:24.052641Z"
    }
   },
   "outputs": [],
   "source": [
    "text.SetTextAlign(32)\n",
    "text.SetTextColor(1)\n",
    "text.SetTextSize(0.06)\n",
    "if blinded_fit:\n",
    "    text.DrawLatex(0.975*xMax, ypos+0.6, 'Blinded fit results')\n",
    "else:\n",
    "    text.DrawLatex(0.975*xMax, ypos+0.6, 'Fit results')"
   ]
  },
  {
   "cell_type": "code",
   "execution_count": 15,
   "metadata": {
    "ExecuteTime": {
     "end_time": "2020-10-01T19:47:24.353158Z",
     "start_time": "2020-10-01T19:47:24.074809Z"
    }
   },
   "outputs": [
    {
     "data": {
      "image/png": "[encoded data removed]",
      "text/plain": [
       "<IPython.core.display.Image object>"
      ]
     },
     "metadata": {},
     "output_type": "display_data"
    }
   ],
   "source": [
    "CMS_lumi.CMS_lumi(cOut, -1, 0, cmsTextSize=0.9, lumiTextSize=0.75)\n",
    "cOut.Draw()"
   ]
  }
 ],
 "metadata": {
  "kernelspec": {
   "display_name": "Python 2",
   "language": "python",
   "name": "python2"
  },
  "language_info": {
   "codemirror_mode": {
    "name": "ipython",
    "version": 2
   },
   "file_extension": ".py",
   "mimetype": "text/x-python",
   "name": "python",
   "nbconvert_exporter": "python",
   "pygments_lexer": "ipython2",
   "version": "2.7.14+"
  },
  "varInspector": {
   "cols": {
    "lenName": 16,
    "lenType": 16,
    "lenVar": 40
   },
   "kernels_config": {
    "python": {
     "delete_cmd_postfix": "",
     "delete_cmd_prefix": "del ",
     "library": "var_list.py",
     "varRefreshCmd": "print(var_dic_list())"
    },
    "r": {
     "delete_cmd_postfix": ") ",
     "delete_cmd_prefix": "rm(",
     "library": "var_list.r",
     "varRefreshCmd": "cat(var_dic_list()) "
    }
   },
   "types_to_exclude": [
    "module",
    "function",
    "builtin_function_or_method",
    "instance",
    "_Feature"
   ],
   "window_display": false
  }
 },
 "nbformat": 4,
 "nbformat_minor": 2
}
