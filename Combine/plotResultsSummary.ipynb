{
 "cells": [
  {
   "cell_type": "code",
   "execution_count": 1,
   "metadata": {
    "ExecuteTime": {
     "end_time": "2020-12-12T13:01:33.566347Z",
     "start_time": "2020-12-12T13:01:33.541944Z"
    }
   },
   "outputs": [],
   "source": [
    "class Pars:\n",
    "    pass\n",
    "\n",
    "pars = Pars()\n",
    "pars.cardTag = 'v4'\n",
    "pars.category = '{c}'\n",
    "pars.schemeFF = 'CLN'\n",
    "pars.useMVA = False\n",
    "pars.dataType = 0\n",
    "pars.unblinded = False\n",
    "pars.noMCstats = False\n",
    "\n",
    "scanTag = pars.cardTag+'Base'\n",
    "\n",
    "plot_obs = True\n",
    "plot_exp = True"
   ]
  },
  {
   "cell_type": "markdown",
   "metadata": {
    "heading_collapsed": true
   },
   "source": [
    "# Import"
   ]
  },
  {
   "cell_type": "code",
   "execution_count": 2,
   "metadata": {
    "ExecuteTime": {
     "end_time": "2020-12-12T13:01:43.595555Z",
     "start_time": "2020-12-12T13:01:33.573156Z"
    },
    "hidden": true
   },
   "outputs": [
    {
     "name": "stdout",
     "output_type": "stream",
     "text": [
      "Welcome to JupyROOT 6.12/07\n"
     ]
    }
   ],
   "source": [
    "import sys, os\n",
    "from glob import glob\n",
    "sys.path.append('../lib')\n",
    "sys.path.append('../analysis')\n",
    "import commands\n",
    "\n",
    "import ROOT as rt\n",
    "from combine_utilities import getUncertaintyFromLimitTree"
   ]
  },
  {
   "cell_type": "code",
   "execution_count": 3,
   "metadata": {
    "ExecuteTime": {
     "end_time": "2020-12-12T13:01:43.616293Z",
     "start_time": "2020-12-12T13:01:43.601689Z"
    },
    "code_folding": [
     0
    ],
    "hidden": true
   },
   "outputs": [],
   "source": [
    "def createCardName(a):\n",
    "    c = a.cardTag + a.category + '_' + a.schemeFF\n",
    "    if a.useMVA:\n",
    "        c += '_MVA'+useMVA\n",
    "    if a.asimov:\n",
    "        c += '_Asimov'\n",
    "    elif a.dataType:\n",
    "        c += '_onlyB0'\n",
    "        if a.dataType == 2:\n",
    "            c += 'bar'\n",
    "    if not a.unblinded:\n",
    "        c += '_blinded'\n",
    "    if a.noMCstats:\n",
    "        c += '_NoMCstats'\n",
    "    return c"
   ]
  },
  {
   "cell_type": "code",
   "execution_count": 4,
   "metadata": {
    "ExecuteTime": {
     "end_time": "2020-12-12T13:01:44.090846Z",
     "start_time": "2020-12-12T13:01:43.620250Z"
    },
    "hidden": true
   },
   "outputs": [],
   "source": [
    "import CMS_lumi, tdrstyle\n",
    "tdrstyle.setTDRStyle()\n",
    "CMS_lumi.writeExtraText = 1\n",
    "\n",
    "if plot_obs:\n",
    "    CMS_lumi.extraText = \"    Preliminary\"\n",
    "else:\n",
    "    CMS_lumi.extraText = \"    Simulation Preliminary\"\n",
    "\n",
    "expectedLumi = {'low':6.4, 'mid':20.7, 'high':26.4} #fb^-1\n",
    "CMS_lumi.integrated_lumi = expectedLumi['high']"
   ]
  },
  {
   "cell_type": "markdown",
   "metadata": {},
   "source": [
    "# Load results"
   ]
  },
  {
   "cell_type": "code",
   "execution_count": 5,
   "metadata": {
    "ExecuteTime": {
     "end_time": "2020-12-12T13:01:44.367672Z",
     "start_time": "2020-12-12T13:01:44.095936Z"
    }
   },
   "outputs": [
    {
     "name": "stdout",
     "output_type": "stream",
     "text": [
      "v4{c}_CLN_Asimov_blinded\n",
      "low\n",
      "----------------------------------\n",
      "R(D*) = 0.295 +0.048/-0.048 [16.4 %]\n",
      "Sigma = 0.048\n",
      "----------------------------------\n",
      "\n",
      "mid\n",
      "----------------------------------\n",
      "R(D*) = 0.295 +0.045/-0.045 [15.1 %]\n",
      "Sigma = 0.045\n",
      "----------------------------------\n",
      "\n",
      "high\n",
      "----------------------------------\n",
      "R(D*) = 0.295 +0.048/-0.048 [16.3 %]\n",
      "Sigma = 0.048\n",
      "----------------------------------\n",
      "\n",
      "comb\n",
      "----------------------------------\n",
      "R(D*) = 0.296 +0.032/-0.032 [10.8 %]\n",
      "Sigma = 0.032\n",
      "----------------------------------\n",
      "\n",
      "v4{c}_CLN_blinded\n",
      "low\n",
      "----------------------------------\n",
      "R(D*) = 0.384 +0.051/-0.051 [13.2 %]\n",
      "Sigma = 0.051\n",
      "----------------------------------\n",
      "\n",
      "mid\n",
      "----------------------------------\n",
      "R(D*) = 0.398 +0.048/-0.048 [12.1 %]\n",
      "Sigma = 0.048\n",
      "----------------------------------\n",
      "\n",
      "high\n",
      "----------------------------------\n",
      "R(D*) = 0.430 +0.051/-0.051 [11.8 %]\n",
      "Sigma = 0.051\n",
      "----------------------------------\n",
      "\n",
      "comb\n",
      "----------------------------------\n",
      "R(D*) = 0.412 +0.035/-0.036 [8.7 %]\n",
      "Sigma = 0.036\n",
      "----------------------------------\n",
      "\n"
     ]
    }
   ],
   "source": [
    "resObs = {}\n",
    "resExp = {}\n",
    "\n",
    "for obs in [False, True]:\n",
    "    d = resObs if obs else resExp\n",
    "\n",
    "    pars.asimov = not obs\n",
    "    card_name = createCardName(pars)\n",
    "    print card_name\n",
    "\n",
    "    for cat in ['low', 'mid', 'high', 'comb']:\n",
    "        d[cat] = None\n",
    "        \n",
    "        if (not plot_obs and obs) or (not plot_exp and not obs):\n",
    "            continue\n",
    "\n",
    "        scanLoc = 'results/' + card_name.format(c=cat)\n",
    "        scanLoc += '/higgsCombine'+scanTag+'.MultiDimFit.mH120.root'\n",
    "        if not os.path.isfile(scanLoc):\n",
    "            print scanLoc, 'not found'\n",
    "            continue\n",
    "        print cat\n",
    "        try:\n",
    "            d[cat] = getUncertaintyFromLimitTree(scanLoc)\n",
    "        except:\n",
    "            print 'ERROR in analysing results'\n",
    "            print 'getUncertaintyFromLimitTree({})'.format(scanLoc)"
   ]
  },
  {
   "cell_type": "markdown",
   "metadata": {
    "ExecuteTime": {
     "end_time": "2020-09-28T20:20:19.938763Z",
     "start_time": "2020-09-28T20:20:19.932884Z"
    }
   },
   "source": [
    "# Create plot"
   ]
  },
  {
   "cell_type": "code",
   "execution_count": 6,
   "metadata": {
    "ExecuteTime": {
     "end_time": "2020-12-12T13:01:44.433143Z",
     "start_time": "2020-12-12T13:01:44.372916Z"
    },
    "hide_input": true
   },
   "outputs": [],
   "source": [
    "cOut = rt.TCanvas('cOut', 'cOut', 50, 50, 1200, 600)\n",
    "grAux = rt.TGraph()\n",
    "grAux.SetPoint(0, 0, 0)\n",
    "grAux.SetPoint(1, 1, 1)\n",
    "grAux.Draw('AP')"
   ]
  },
  {
   "cell_type": "code",
   "execution_count": 7,
   "metadata": {
    "ExecuteTime": {
     "end_time": "2020-12-12T13:01:44.506972Z",
     "start_time": "2020-12-12T13:01:44.438206Z"
    },
    "hide_input": true
   },
   "outputs": [],
   "source": [
    "xMin = 0.2 if pars.unblinded else 0.15\n",
    "xMax = 0.75 if pars.unblinded else 0.8\n",
    "\n",
    "box = rt.TPave()\n",
    "box.SetLineWidth(0)\n",
    "box.SetFillStyle(1001)\n",
    "box.SetBorderSize(0)\n",
    "boxColors = [rt.kGreen+1, rt.kOrange]\n",
    "boxHeight = 0.15\n",
    "\n",
    "text = rt.TLatex()\n",
    "text.SetTextAlign(12)\n",
    "text.SetTextSize(0.04)\n",
    "text.SetTextFont(42)\n",
    "textColors = [1,rt.kRed-4]\n",
    "textPosX = 0.42 if pars.unblinded else 0.5\n",
    "\n",
    "legX1 = 0.7 if pars.unblinded else 0.75\n",
    "leg = rt.TLegend(legX1, 0.3, 0.97, 0.8)\n",
    "leg.SetBorderSize(0)"
   ]
  },
  {
   "cell_type": "code",
   "execution_count": 8,
   "metadata": {
    "ExecuteTime": {
     "end_time": "2020-12-12T13:01:44.590251Z",
     "start_time": "2020-12-12T13:01:44.512318Z"
    },
    "code_folding": [],
    "hide_input": true
   },
   "outputs": [],
   "source": [
    "ypos = -1\n",
    "ylabels = {}\n",
    "\n",
    "pointObs = rt.TGraph()\n",
    "pointExp = rt.TGraph()\n",
    "\n",
    "lastDrawnIsComb = False\n",
    "\n",
    "for cat in ['comb', 'low', 'mid', 'high']:\n",
    "    aux = int(resExp[cat] is None) + int(resObs[cat] is None)\n",
    "    displ = 0.07 + 0.5*boxHeight if aux == 0 else 0\n",
    "\n",
    "    if aux < 2:\n",
    "        ypos += 1\n",
    "        if lastDrawnIsComb:\n",
    "            ypos += 1\n",
    "        if cat == 'comb': \n",
    "            ylabels[ypos] = 'Combined'\n",
    "            lastDrawnIsComb = True\n",
    "        else:\n",
    "            ylabels[ypos] = cat.capitalize()\n",
    "            lastDrawnIsComb = False\n",
    "            \n",
    "        for i, res in enumerate([resObs[cat], resExp[cat]]):\n",
    "            if res is None:\n",
    "                continue\n",
    "\n",
    "            if i == 0:\n",
    "                yAux = ypos + displ\n",
    "                pointObs.SetPoint(pointObs.GetN(), res[0], yAux)\n",
    "                box.SetFillStyle(1001)\n",
    "            else:\n",
    "                yAux = ypos - displ\n",
    "                pointExp.SetPoint(pointExp.GetN(), res[0], yAux)\n",
    "                box.SetFillStyle(3001)\n",
    "            \n",
    "            box.SetFillColor(boxColors[-1])\n",
    "            b2 = box.DrawBox(float(res[-4]), yAux - 0.5*boxHeight, float(res[-1]), yAux + 0.5*boxHeight)\n",
    "            box.SetFillColor(boxColors[-2])\n",
    "            b1 = box.DrawBox(float(res[-3]), yAux - 0.5*boxHeight, float(res[-2]), yAux + 0.5*boxHeight)\n",
    "\n",
    "            text.SetTextColor(textColors[i])\n",
    "            l = text.DrawLatex(textPosX, yAux, '{:.3f} #pm {:.3f}'.format(res[0], res[3]))"
   ]
  },
  {
   "cell_type": "code",
   "execution_count": 9,
   "metadata": {
    "ExecuteTime": {
     "end_time": "2020-12-12T13:01:44.740728Z",
     "start_time": "2020-12-12T13:01:44.595050Z"
    },
    "hide_input": true
   },
   "outputs": [],
   "source": [
    "l = rt.TLine()\n",
    "l.SetLineStyle(9)\n",
    "l.SetLineWidth(2)\n",
    "box.SetFillStyle(1001)\n",
    "\n",
    "RDst_Th = 0.258\n",
    "uncRDst_Th = 0.005\n",
    "box.SetFillColorAlpha(rt.kViolet-7, 0.5)\n",
    "box.DrawBox(RDst_Th - uncRDst_Th, -1, RDst_Th + uncRDst_Th, ypos+1)\n",
    "l.SetLineColor(rt.kViolet-7)\n",
    "l.DrawLine(RDst_Th, -1, RDst_Th, ypos+1)\n",
    "aux = '#splitline{SM prediction #pm 1#sigma}{'+'{:.3f} #pm {:.3f}'.format(RDst_Th,uncRDst_Th)+'}'\n",
    "leg.AddEntry(l, aux, 'l')\n",
    "\n",
    "RDst_avg = 0.295\n",
    "uncRDst_avg = 0.014\n",
    "box.SetFillColorAlpha(rt.kAzure+1, 0.5)\n",
    "box.DrawBox(RDst_avg - uncRDst_avg, -1, RDst_avg + uncRDst_avg, ypos+1)\n",
    "l2 = l.Clone('l2')\n",
    "l2.SetLineColor(rt.kAzure+1)\n",
    "l2.DrawLine(RDst_avg, -1, RDst_avg, ypos+1)\n",
    "aux = '#splitline{Experimental Avg. #pm 1#sigma}{'+'{:.3f} #pm {:.3f}'.format(RDst_avg,uncRDst_avg)+'}'\n",
    "leg.AddEntry(l2, aux, 'l');"
   ]
  },
  {
   "cell_type": "code",
   "execution_count": 10,
   "metadata": {
    "ExecuteTime": {
     "end_time": "2020-12-12T13:01:44.786269Z",
     "start_time": "2020-12-12T13:01:44.746882Z"
    },
    "hide_input": true
   },
   "outputs": [],
   "source": [
    "pointObs.SetMarkerStyle(20)\n",
    "pointObs.SetMarkerColor(textColors[0])\n",
    "if pointObs.GetN(): \n",
    "    pointObs.Draw('P') \n",
    "    leg.AddEntry(pointObs, 'Observed', 'p')\n",
    "\n",
    "pointExp.SetMarkerStyle(33)\n",
    "pointExp.SetMarkerSize(1.5)\n",
    "pointExp.SetMarkerColor(textColors[1])\n",
    "if pointExp.GetN(): \n",
    "    pointExp.Draw('P') \n",
    "    leg.AddEntry(pointExp, 'Expected', 'p')"
   ]
  },
  {
   "cell_type": "code",
   "execution_count": 11,
   "metadata": {
    "ExecuteTime": {
     "end_time": "2020-12-12T13:01:44.911097Z",
     "start_time": "2020-12-12T13:01:44.791639Z"
    },
    "hide_input": true
   },
   "outputs": [],
   "source": [
    "grAux.GetXaxis().SetLimits(xMin, xMax)\n",
    "grAux.GetXaxis().SetTitle('R(D*)')\n",
    "grAux.GetHistogram().SetMinimum(-1)\n",
    "grAux.GetHistogram().SetMaximum(ypos+1)\n",
    "\n",
    "ax = grAux.GetYaxis()\n",
    "ax.SetNdivisions(-(ypos+2))\n",
    "ax.ChangeLabel()\n",
    "for i in range(1, ypos+4):\n",
    "    if i-2 in ylabels.keys():\n",
    "        ax.ChangeLabel(i, -1, -1, -1, -1, -1, ylabels[i-2])\n",
    "    else:\n",
    "        ax.ChangeLabel(i, -1, -1, -1, -1, -1, ' ')\n",
    "ax.SetTickLength(0.0)"
   ]
  },
  {
   "cell_type": "code",
   "execution_count": 12,
   "metadata": {
    "ExecuteTime": {
     "end_time": "2020-12-12T13:01:44.955015Z",
     "start_time": "2020-12-12T13:01:44.916998Z"
    },
    "hide_input": true
   },
   "outputs": [],
   "source": [
    "box.SetFillColor(boxColors[0])\n",
    "leg.AddEntry(box, '#pm 1#sigma band', 'f')\n",
    "box2 = box.Clone('box2')\n",
    "box2.SetFillColor(boxColors[1])\n",
    "leg.AddEntry(box2, '#pm 2#sigma band', 'f')\n",
    "\n",
    "leg.Draw()"
   ]
  },
  {
   "cell_type": "code",
   "execution_count": 13,
   "metadata": {
    "ExecuteTime": {
     "end_time": "2020-12-12T13:01:45.017747Z",
     "start_time": "2020-12-12T13:01:44.960400Z"
    },
    "hide_input": true
   },
   "outputs": [],
   "source": [
    "text.SetTextAlign(32)\n",
    "text.SetTextColor(1)\n",
    "text.SetTextSize(0.06)\n",
    "if not pars.unblinded:\n",
    "    text.DrawLatex(0.975*xMax, ypos+0.6, 'Blinded fit results')\n",
    "else:\n",
    "    text.DrawLatex(0.975*xMax, ypos+0.6, 'Fit results')"
   ]
  },
  {
   "cell_type": "code",
   "execution_count": 14,
   "metadata": {
    "ExecuteTime": {
     "end_time": "2020-12-12T13:01:45.320384Z",
     "start_time": "2020-12-12T13:01:45.024456Z"
    }
   },
   "outputs": [
    {
     "data": {
      "image/png": "[encoded data removed]",
      "text/plain": [
       "<IPython.core.display.Image object>"
      ]
     },
     "metadata": {},
     "output_type": "display_data"
    }
   ],
   "source": [
    "CMS_lumi.CMS_lumi(cOut, -1, 0, cmsTextSize=0.9, lumiTextSize=0.75)\n",
    "cOut.Draw()"
   ]
  },
  {
   "cell_type": "code",
   "execution_count": 18,
   "metadata": {
    "ExecuteTime": {
     "end_time": "2020-12-15T12:20:03.967525Z",
     "start_time": "2020-12-15T12:20:03.952293Z"
    }
   },
   "outputs": [
    {
     "name": "stdout",
     "output_type": "stream",
     "text": [
      "Current tension -2.5 sigma\n",
      "Expected tension -3.3 sigma\n"
     ]
    }
   ],
   "source": [
    "print 'Current tension {:.1f} sigma'.format((RDst_Th - RDst_avg)/np.hypot(uncRDst_Th, uncRDst_avg))\n",
    "\n",
    "r = RDst_avg\n",
    "dr = uncRDst_avg/np.sqrt(2)\n",
    "print 'Expected tension {:.1f} sigma'.format((RDst_Th - r)/np.hypot(uncRDst_Th, dr))"
   ]
  },
  {
   "cell_type": "code",
   "execution_count": null,
   "metadata": {},
   "outputs": [],
   "source": []
  }
 ],
 "metadata": {
  "kernelspec": {
   "display_name": "Python 2",
   "language": "python",
   "name": "python2"
  },
  "language_info": {
   "codemirror_mode": {
    "name": "ipython",
    "version": 2
   },
   "file_extension": ".py",
   "mimetype": "text/x-python",
   "name": "python",
   "nbconvert_exporter": "python",
   "pygments_lexer": "ipython2",
   "version": "2.7.14+"
  },
  "varInspector": {
   "cols": {
    "lenName": 16,
    "lenType": 16,
    "lenVar": 40
   },
   "kernels_config": {
    "python": {
     "delete_cmd_postfix": "",
     "delete_cmd_prefix": "del ",
     "library": "var_list.py",
     "varRefreshCmd": "print(var_dic_list())"
    },
    "r": {
     "delete_cmd_postfix": ") ",
     "delete_cmd_prefix": "rm(",
     "library": "var_list.r",
     "varRefreshCmd": "cat(var_dic_list()) "
    }
   },
   "types_to_exclude": [
    "module",
    "function",
    "builtin_function_or_method",
    "instance",
    "_Feature"
   ],
   "window_display": false
  }
 },
 "nbformat": 4,
 "nbformat_minor": 2
}
