{
 "cells": [
  {
   "cell_type": "markdown",
   "metadata": {},
   "source": [
    "New:\n",
    " - Hc divided into 3 subsamples\n",
    " - PU/PV additional tracks ratio corrected"
   ]
  },
  {
   "cell_type": "code",
   "execution_count": 1,
   "metadata": {
    "ExecuteTime": {
     "end_time": "2020-05-20T17:01:11.523163Z",
     "start_time": "2020-05-20T17:01:11.514034Z"
    }
   },
   "outputs": [],
   "source": [
    "card_name = 'v8'"
   ]
  },
  {
   "cell_type": "code",
   "execution_count": 2,
   "metadata": {
    "ExecuteTime": {
     "end_time": "2020-05-20T17:01:11.565595Z",
     "start_time": "2020-05-20T17:01:11.527667Z"
    }
   },
   "outputs": [],
   "source": [
    "fit_real_data = True\n",
    "category = 'low'\n",
    "SM_RDst = 0.26\n",
    "fastRun = False\n",
    "card_name += '_'+category"
   ]
  },
  {
   "cell_type": "markdown",
   "metadata": {
    "heading_collapsed": true,
    "hide_input": true
   },
   "source": [
    "# Import"
   ]
  },
  {
   "cell_type": "code",
   "execution_count": 3,
   "metadata": {
    "ExecuteTime": {
     "end_time": "2020-05-20T17:01:11.979475Z",
     "start_time": "2020-05-20T17:01:11.570620Z"
    },
    "hidden": true
   },
   "outputs": [],
   "source": [
    "import sys, os, pickle, time\n",
    "from glob import glob\n",
    "sys.path.append('../lib')\n",
    "sys.path.append('../analysis')\n",
    "from categoriesDef import categories\n",
    "import itertools\n",
    "import commands\n",
    "from prettytable import PrettyTable\n",
    "import json, yaml\n",
    "from IPython.display import IFrame, Image, display"
   ]
  },
  {
   "cell_type": "code",
   "execution_count": 4,
   "metadata": {
    "ExecuteTime": {
     "end_time": "2020-05-20T17:01:23.673379Z",
     "start_time": "2020-05-20T17:01:11.985029Z"
    },
    "hidden": true
   },
   "outputs": [
    {
     "name": "stdout",
     "output_type": "stream",
     "text": [
      "Welcome to JupyROOT 6.12/07\n"
     ]
    }
   ],
   "source": [
    "import numpy as np\n",
    "import matplotlib.pyplot as plt\n",
    "from array import array\n",
    "\n",
    "import uproot as ur\n",
    "import ROOT as rt\n",
    "rt.gErrorIgnoreLevel = rt.kError\n",
    "rt.RooMsgService.instance().setGlobalKillBelow(rt.RooFit.ERROR)\n",
    "import root_numpy as rtnp\n",
    "\n",
    "from analysis_utilities import drawOnCMSCanvas, getEff, DSetLoader\n",
    "from pT_calibration_reader import pTCalReader\n",
    "from histo_utilities import create_TH1D, create_TH2D, std_color_list\n",
    "from gridVarQ2Plot import plot_gridVarQ2, plot_SingleCategory\n",
    "from progressBar import ProgressBar\n",
    "from lumi_utilities import getLumiByTrigger\n",
    "from combine_utilities import getUncertaintyFromLimitTree, dumpDiffNuisances, stringJubCustomizationCaltechT2\n",
    "\n",
    "import CMS_lumi, tdrstyle\n",
    "tdrstyle.setTDRStyle()\n",
    "CMS_lumi.writeExtraText = 1\n",
    "\n",
    "if fit_real_data:\n",
    "    CMS_lumi.extraText = \"     Preliminary\"\n",
    "else:\n",
    "    CMS_lumi.extraText = \"     Simulation Preliminary\"\n",
    "\n",
    "donotdelete = []"
   ]
  },
  {
   "cell_type": "code",
   "execution_count": 5,
   "metadata": {
    "ExecuteTime": {
     "end_time": "2020-05-20T17:01:23.694529Z",
     "start_time": "2020-05-20T17:01:23.679029Z"
    },
    "hidden": true
   },
   "outputs": [],
   "source": [
    "cat = categories[category]"
   ]
  },
  {
   "cell_type": "markdown",
   "metadata": {},
   "source": [
    "# Load the datasets"
   ]
  },
  {
   "cell_type": "code",
   "execution_count": 6,
   "metadata": {
    "ExecuteTime": {
     "end_time": "2020-05-20T17:01:39.639395Z",
     "start_time": "2020-05-20T17:01:23.699002Z"
    }
   },
   "outputs": [],
   "source": [
    "#They all have to be produced with the same pileup\n",
    "MCsample = {\n",
    "'mu' : DSetLoader('B0_MuNuDmst_PUc0'),\n",
    "'tau' : DSetLoader('B0_TauNuDmst_PUc0'),\n",
    "'DstmD0' : DSetLoader('B0_DstmD0_PUc0'),\n",
    "'DstmDp' : DSetLoader('B0_DstmDp_PUc0'),\n",
    "'DstmDsp' : DSetLoader('B0_DstmDsp_PUc0'),\n",
    "'DstPip' : DSetLoader('Bp_MuNuDstst_Pip_PUc0'),\n",
    "'DstPi0' : DSetLoader('B0_MuNuDstst_Pi0_PUc0'),\n",
    "'DstPipPi0' : DSetLoader('Bp_MuNuDstst_PipPi0_PUc0'),\n",
    "'DstPipPim' : DSetLoader('B0_MuNuDstst_PipPim_PUc0'),\n",
    "'DstPi0Pi0' : DSetLoader('B0_MuNuDstst_Pi0Pi0_PUc0'),\n",
    "}\n",
    "dSet = {}\n",
    "dSetTkSide = {}\n",
    "for n, s in MCsample.iteritems():\n",
    "    dSet[n] = rtnp.root2array(s.skimmed_dir + '/{}_corr.root'.format(cat.name))\n",
    "    dSetTkSide[n] = rtnp.root2array(s.skimmed_dir + '/{}_trkCtrl_corr.root'.format(cat.name))"
   ]
  },
  {
   "cell_type": "code",
   "execution_count": 7,
   "metadata": {
    "ExecuteTime": {
     "end_time": "2020-05-20T17:01:41.426225Z",
     "start_time": "2020-05-20T17:01:39.644970Z"
    }
   },
   "outputs": [
    {
     "name": "stdout",
     "output_type": "stream",
     "text": [
      "Run2018D-05May2019promptD-v1_RDntuplizer_B2DstMu_200416\n",
      "HLT_Mu7_IP4_part2_v2 1.28\n",
      "Run2018D-05May2019promptD-v1_RDntuplizer_B2DstMu_200416\n",
      "HLT_Mu7_IP4_part1_v2 1.28\n",
      "Run2018D-05May2019promptD-v1_RDntuplizer_B2DstMu_200416\n",
      "HLT_Mu7_IP4_part4_v2 1.28\n",
      "Run2018D-05May2019promptD-v1_RDntuplizer_B2DstMu_200416\n",
      "HLT_Mu7_IP4_part3_v2 1.28\n",
      "Run2018D-05May2019promptD-v1_RDntuplizer_B2DstMu_200416\n",
      "HLT_Mu7_IP4_part0_v2 1.27\n",
      "Total lumi: 6.39 fb^-1\n"
     ]
    }
   ],
   "source": [
    "if fit_real_data:\n",
    "    creation_date = '200416'\n",
    "    locRD = '../data/cmsRD/skimmed/B2DstMu_{}_{}'.format(creation_date, cat.name)\n",
    "    dSet['data'] = rtnp.root2array(locRD + '_corr.root')\n",
    "    dSetTkSide['data'] = rtnp.root2array(locRD + '_trkCtrl_corr.root')\n",
    "    dataDir = '../data/cmsRD'\n",
    "    datasets_loc = glob(dataDir + '/ParkingBPH*/*RDntuplizer_B2DstMu_{}_CAND.root'.format(creation_date))\n",
    "    lumi_tot = getLumiByTrigger(datasets_loc, cat.trg, verbose=True)\n",
    "    CMS_lumi.integrated_lumi = lumi_tot\n",
    "else:\n",
    "    expectedLumi = {'low':6., 'mid':20., 'high':26., 'single':6.} #fb^-1\n",
    "    lumi_tot = expectedLumi[category]"
   ]
  },
  {
   "cell_type": "markdown",
   "metadata": {
    "heading_collapsed": true
   },
   "source": [
    "# Load all the calibrations"
   ]
  },
  {
   "cell_type": "markdown",
   "metadata": {
    "hidden": true
   },
   "source": [
    "Pileup"
   ]
  },
  {
   "cell_type": "code",
   "execution_count": 8,
   "metadata": {
    "ExecuteTime": {
     "end_time": "2020-05-20T17:01:41.589112Z",
     "start_time": "2020-05-20T17:01:41.431840Z"
    },
    "hidden": true
   },
   "outputs": [],
   "source": [
    "loc = '../data/cmsRD/ParkingBPH{}/Run2018D-05May2019promptD-v1_RDntuplizer_PrescaleVertices_200421_CAND.root'\n",
    "fAuxPileupRD = []\n",
    "\n",
    "hPileupTarget = None\n",
    "\n",
    "for i in range(2, 6):\n",
    "    fAuxPileupRD.append(rt.TFile.Open(loc.format(i), 'READ'))\n",
    "    if hPileupTarget is None:\n",
    "        hPileupTarget = fAuxPileupRD[-1].Get('nVtx/hNvtxPassed'+cat.trg).Clone()\n",
    "    else:\n",
    "        hPileupTarget.Add(fAuxPileupRD[-1].Get('nVtx/hNvtxPassed'+cat.trg))\n",
    "\n",
    "hPileupTarget.Scale(1./hPileupTarget.Integral())\n",
    "\n",
    "fAuxPileupMC = rt.TFile.Open(MCsample['mu'].skimmed_dir + '/{}_corr.root'.format(cat.name), 'READ')\n",
    "hPileupGen = fAuxPileupMC.Get('hAllNvtx')\n",
    "hPileupGen.Scale(1./hPileupGen.Integral())\n",
    "\n",
    "weights = np.ones(hPileupGen.GetNbinsX())\n",
    "s = 0\n",
    "for i in range(weights.shape[0]):\n",
    "    if hPileupGen.GetBinContent(i+1) == 0:\n",
    "        continue\n",
    "    weights[i] = hPileupTarget.GetBinContent(i+1)/hPileupGen.GetBinContent(i+1)\n",
    "    s += hPileupGen.GetBinContent(i+1) * weights[i]\n",
    "\n",
    "weightsPileupMC = weights/s\n",
    "\n",
    "for f in fAuxPileupRD + [fAuxPileupMC]:\n",
    "    f.Close()\n",
    "\n",
    "def getPileupWeights(ds, selection=None):\n",
    "    x = ds['N_vtx']\n",
    "    if not selection is None:\n",
    "        x = x[selection]\n",
    "    return weightsPileupMC[x.astype(np.int)]"
   ]
  },
  {
   "cell_type": "markdown",
   "metadata": {
    "hidden": true
   },
   "source": [
    "Total norm pre-scale"
   ]
  },
  {
   "cell_type": "code",
   "execution_count": 9,
   "metadata": {
    "ExecuteTime": {
     "end_time": "2020-05-20T17:01:41.677273Z",
     "start_time": "2020-05-20T17:01:41.593849Z"
    },
    "hidden": true
   },
   "outputs": [
    {
     "name": "stdout",
     "output_type": "stream",
     "text": [
      "Expected ratio between RD and MC norm: 2.632 +/- 0.063\n"
     ]
    }
   ],
   "source": [
    "r = np.zeros((3,2))\n",
    "for i, fn in enumerate(glob('../data/calibration/totalRate/ratioB02JPsiKst_*.txt')):\n",
    "    with open(fn, 'r') as faux:\n",
    "        aux = faux.readlines()[0][:-1].split(' ')\n",
    "        r[i] = [float(aux[0]), float(aux[1])]\n",
    "s2 = np.square(r[:,1])\n",
    "num = np.sum(r[:,0]/s2)\n",
    "den = np.sum(1./s2)\n",
    "RDoMC_normRatio = [num/den, np.sqrt(1/den)]\n",
    "print 'Expected ratio between RD and MC norm: {:.3f} +/- {:.3f}'.format(RDoMC_normRatio[0], RDoMC_normRatio[1])"
   ]
  },
  {
   "cell_type": "markdown",
   "metadata": {
    "hidden": true
   },
   "source": [
    "Branching fraction"
   ]
  },
  {
   "cell_type": "code",
   "execution_count": 10,
   "metadata": {
    "ExecuteTime": {
     "end_time": "2020-05-20T17:01:41.732100Z",
     "start_time": "2020-05-20T17:01:41.682987Z"
    },
    "hidden": true
   },
   "outputs": [],
   "source": [
    "decayBR = pickle.load(open('../data/forcedDecayChannelsFactors.pickle', 'rb'))"
   ]
  },
  {
   "cell_type": "markdown",
   "metadata": {
    "hidden": true
   },
   "source": [
    "Trigger scale factor"
   ]
  },
  {
   "cell_type": "code",
   "execution_count": 11,
   "metadata": {
    "ExecuteTime": {
     "end_time": "2020-05-20T17:01:41.773418Z",
     "start_time": "2020-05-20T17:01:41.735879Z"
    },
    "hidden": true
   },
   "outputs": [],
   "source": [
    "loc = '../data/calibration/triggerScaleFactors/'\n",
    "fTriggerSF = rt.TFile.Open(loc + 'HLT_' + cat.trg + '_SF.root', 'READ')\n",
    "hTriggerSF = fTriggerSF.Get('hSF_HLT_' + cat.trg)"
   ]
  },
  {
   "cell_type": "code",
   "execution_count": 12,
   "metadata": {
    "ExecuteTime": {
     "end_time": "2020-05-20T17:01:41.811769Z",
     "start_time": "2020-05-20T17:01:41.778044Z"
    },
    "hidden": true
   },
   "outputs": [],
   "source": [
    "def computeTrgSF(ds, selection=None):\n",
    "    trgSF = np.ones_like(ds['q2'])\n",
    "    trgSFUnc = np.zeros_like(ds['q2'])\n",
    "    if not fastRun:\n",
    "        ptmax = hTriggerSF.GetXaxis().GetXmax() - 0.01\n",
    "        ipmax = hTriggerSF.GetYaxis().GetXmax() - 0.01\n",
    "        etamax = hTriggerSF.GetZaxis().GetXmax() - 0.01\n",
    "        x = np.column_stack((ds['mu_pt'], ds['mu_eta'], ds['mu_sigdxy']))\n",
    "        if not selection is None:\n",
    "            x = x[selection]\n",
    "        for i, (pt, eta, ip) in enumerate(x):\n",
    "            ix = hTriggerSF.GetXaxis().FindBin(min(ptmax, pt))\n",
    "            iy = hTriggerSF.GetYaxis().FindBin(min(ipmax, ip))\n",
    "            iz = hTriggerSF.GetZaxis().FindBin(min(etamax, np.abs(eta)))\n",
    "            trgSF[i] = hTriggerSF.GetBinContent(ix, iy, iz)\n",
    "            ib = hTriggerSF.GetBin(ix, iy, iz)\n",
    "            trgSFUnc[i] = hTriggerSF.GetBinError(ib)\n",
    "            if trgSF[i] == 0:\n",
    "                print pt, ip, np.abs(eta)\n",
    "                raise\n",
    "    # Divide them for the weight so later you can simply multiply back to get the value\n",
    "    up = 1 + trgSFUnc/trgSF\n",
    "    down = 1 - trgSFUnc/trgSF\n",
    "    return trgSF, up, down"
   ]
  },
  {
   "cell_type": "markdown",
   "metadata": {
    "hidden": true
   },
   "source": [
    "Muon ID scale factors"
   ]
  },
  {
   "cell_type": "code",
   "execution_count": 13,
   "metadata": {
    "ExecuteTime": {
     "end_time": "2020-05-20T17:01:41.908619Z",
     "start_time": "2020-05-20T17:01:41.816482Z"
    },
    "hidden": true
   },
   "outputs": [],
   "source": [
    "fMuonIDSF = rt.TFile.Open('../data/calibration/muonIDscaleFactors/Run2018ABCD_SF_MuonID_Jpsi.root', 'READ')\n",
    "hMuonIDSF = fMuonIDSF.Get('NUM_SoftID_DEN_genTracks_pt_abseta')"
   ]
  },
  {
   "cell_type": "code",
   "execution_count": 14,
   "metadata": {
    "ExecuteTime": {
     "end_time": "2020-05-20T17:01:41.960705Z",
     "start_time": "2020-05-20T17:01:41.915882Z"
    },
    "hidden": true
   },
   "outputs": [],
   "source": [
    "def computeMuonIDSF(ds, selection=None):\n",
    "    muonSF = np.ones_like(ds['q2'])\n",
    "    muonSFUnc = np.zeros_like(ds['q2'])\n",
    "    if not fastRun:\n",
    "        ptmax = hMuonIDSF.GetXaxis().GetXmax() - 0.01\n",
    "        etamax = hMuonIDSF.GetYaxis().GetXmax() - 0.01\n",
    "        x = np.column_stack((ds['MC_mu_pt'], ds['MC_mu_eta']))\n",
    "        if not selection is None:\n",
    "            x = x[selection]\n",
    "        for i, (pt, eta) in enumerate(x):\n",
    "            ix = hMuonIDSF.GetXaxis().FindBin(min(pt, ptmax))\n",
    "            if ix == 0: ix = 1 #Remove underflows (Meaning that the MC matching failed)\n",
    "            iy = hMuonIDSF.GetYaxis().FindBin(min(np.abs(eta), etamax))\n",
    "            muonSF[i] = hMuonIDSF.GetBinContent(ix, iy)\n",
    "            muonSFUnc[i] = hMuonIDSF.GetBinError(hMuonIDSF.GetBin(ix, iy))\n",
    "            if muonSF[i] == 0:\n",
    "                print pt, eta\n",
    "                print ix, iy\n",
    "                raise\n",
    "    up = 1 + muonSFUnc/muonSF\n",
    "    down = 1 - muonSFUnc/muonSF\n",
    "    return muonSF, up, down"
   ]
  },
  {
   "cell_type": "markdown",
   "metadata": {
    "hidden": true
   },
   "source": [
    "B transverse momentum calibration"
   ]
  },
  {
   "cell_type": "code",
   "execution_count": 15,
   "metadata": {
    "ExecuteTime": {
     "end_time": "2020-05-20T17:01:42.012544Z",
     "start_time": "2020-05-20T17:01:41.965816Z"
    },
    "hidden": true
   },
   "outputs": [],
   "source": [
    "aux = 'Low' if category == 'single' else cat.name\n",
    "cal_pT = pTCalReader(calibration_file='../data/calibration/B0pTspectrum/pwWeights_{}.txt'.format(aux))"
   ]
  },
  {
   "cell_type": "code",
   "execution_count": 16,
   "metadata": {
    "ExecuteTime": {
     "end_time": "2020-05-20T17:01:42.034616Z",
     "start_time": "2020-05-20T17:01:42.017260Z"
    },
    "hidden": true
   },
   "outputs": [],
   "source": [
    "def computeB0pTweights(ds):\n",
    "    # The denominator (sum of weights) for this weights is not known but it cancel out in the ratio\n",
    "    w = cal_pT.f['C'](ds['MC_B_pt'])\n",
    "    if np.sum(w==0):\n",
    "        print np.sum(w==0)\n",
    "        raise\n",
    "    up = cal_pT.f['Up'](ds['MC_B_pt'])/w\n",
    "    down = cal_pT.f['Down'](ds['MC_B_pt'])/w\n",
    "    return w, up, down"
   ]
  },
  {
   "cell_type": "code",
   "execution_count": 17,
   "metadata": {
    "ExecuteTime": {
     "end_time": "2020-05-20T17:01:42.108568Z",
     "start_time": "2020-05-20T17:01:42.039993Z"
    },
    "hidden": true
   },
   "outputs": [],
   "source": [
    "def computeBrVarWeights(ds, selItems={}, relScale=0.2, keepNorm=False):\n",
    "    sel = np.ones_like(ds['mu_pt']).astype(np.bool)\n",
    "    for var, val in selItems.iteritems():\n",
    "        sel = np.logical_and(ds[var].astype(np.int) == val, sel)\n",
    "    w = np.ones_like(sel)\n",
    "    up = np.where(sel, 1.+relScale, 1.)\n",
    "    down = np.where(sel, max(0, 1.-relScale), 1.)\n",
    "    if keepNorm:\n",
    "        up = float(up.shape[0])/np.sum(up)\n",
    "        down = float(down.shape[0])/np.sum(down)\n",
    "    return w, up, down"
   ]
  },
  {
   "cell_type": "code",
   "execution_count": 18,
   "metadata": {
    "ExecuteTime": {
     "end_time": "2020-05-20T17:01:42.165476Z",
     "start_time": "2020-05-20T17:01:42.115311Z"
    },
    "hidden": true
   },
   "outputs": [],
   "source": [
    "def computeTksPVweights(ds, relScale=0.1, centralVal=0.430/0.117):\n",
    "    selPdgID0 = np.logical_and(np.abs(ds['MC_tkMotherPdgId_0']) < 6, ds['MC_tkMotherPdgId_0'] != 0)\n",
    "    selPdgID0 = np.logical_or(selPdgID0, ds['MC_tkMotherPdgId_0']==2212)\n",
    "    selPdgID0 = np.logical_and(selPdgID0, ds['MC_tkFlag_0'] == 1)\n",
    "    selPdgID1 = np.logical_and(np.abs(ds['MC_tkMotherPdgId_1']) < 6, ds['MC_tkMotherPdgId_1'] != 0)\n",
    "    selPdgID1 = np.logical_or(selPdgID1, ds['MC_tkMotherPdgId_1']==2212)\n",
    "    selPdgID1 = np.logical_and( selPdgID1, ds['MC_tkFlag_1'] == 1)\n",
    "    exponent = selPdgID0.astype(np.int) + selPdgID1.astype(np.int)\n",
    "    w = np.power(centralVal, exponent)\n",
    "    up = np.power(centralVal*(1+relScale), exponent)/w\n",
    "    down = np.power(centralVal*(1-relScale), exponent)/w\n",
    "    return w, up, down"
   ]
  },
  {
   "cell_type": "markdown",
   "metadata": {
    "heading_collapsed": true
   },
   "source": [
    "# Create MC histograms"
   ]
  },
  {
   "cell_type": "markdown",
   "metadata": {
    "heading_collapsed": true,
    "hidden": true
   },
   "source": [
    "### Signal region"
   ]
  },
  {
   "cell_type": "code",
   "execution_count": 19,
   "metadata": {
    "ExecuteTime": {
     "end_time": "2020-05-20T17:01:42.224253Z",
     "start_time": "2020-05-20T17:01:42.170394Z"
    },
    "hidden": true,
    "hide_input": false
   },
   "outputs": [],
   "source": [
    "binning = {\n",
    "    'M2_miss' : [\n",
    "        array('d', [-2.5] + list(np.arange(-1.8, 1.0, 0.4)) + [8] ),\n",
    "        array('d', [-2.5] + list(np.arange(-1.8, 3.0, 0.4)) + [8] ),\n",
    "        array('d', [-2.5] + list(np.arange(-1.8, 5.6, 0.4)) + [8] ),\n",
    "        array('d', [-2.5] + list(np.arange(-1.8, 7.6, 0.4)) + [8] ),\n",
    "    ],\n",
    "    'Est_mu'  : [\n",
    "        array('d', [0.3] + list(np.arange(0.7, 2.3, 0.1)) + [2.5] ),\n",
    "        array('d', [0.3] + list(np.arange(0.7, 2.5, 0.1)) + [2.5] ),\n",
    "        array('d', [0.3] + list(np.arange(0.5, 2.5, 0.1)) + [2.5] ),\n",
    "        [22, 0.3, 2.500],\n",
    "    ],\n",
    "}\n",
    "if fit_real_data:\n",
    "#     binning['q2'] = array('d', [-2, 2.5, 6, 9.4, 12])\n",
    "    binning['q2'] = array('d', [-2, 2.5, 6])\n",
    "else:\n",
    "    binning['q2'] = array('d', [-2, 2.5, 6, 9.4, 12])"
   ]
  },
  {
   "cell_type": "code",
   "execution_count": 20,
   "metadata": {
    "ExecuteTime": {
     "end_time": "2020-05-20T17:02:46.092193Z",
     "start_time": "2020-05-20T17:01:42.228720Z"
    },
    "code_folding": [],
    "hidden": true,
    "hide_input": false,
    "scrolled": true
   },
   "outputs": [
    {
     "name": "stdout",
     "output_type": "stream",
     "text": [
      "\n",
      "-----------> tau <-------------\n",
      "N tot selected: 61.4k\n",
      "N tot expected (before weights): 6.10k\n",
      "Including pileup reweighting\n",
      "Including trigger corrections\n",
      "Including muon ID corrections\n",
      "Including B0 pT corrections\n",
      "Including FF corrections (Hammer)\n",
      "Computing total weights\n",
      "N tot expected (after weights): 6.28k\n",
      "\n",
      "-----------> DstmDp <-------------\n",
      "N tot selected: 5.8k\n",
      "N tot expected (before weights): 0.17k\n",
      "Including pileup reweighting\n",
      "Including trigger corrections\n",
      "Including muon ID corrections\n",
      "Including B0 pT corrections\n",
      "Computing total weights\n",
      "N tot expected (after weights): 0.18k\n",
      "\n",
      "-----------> DstPipPi0 <-------------\n",
      "N tot selected: 3.4k\n",
      "N tot expected (before weights): 0.39k\n",
      "Including pileup reweighting\n",
      "Including trigger corrections\n",
      "Including muon ID corrections\n",
      "Computing total weights\n",
      "N tot expected (after weights): 0.38k\n",
      "\n",
      "-----------> DstPi0 <-------------\n",
      "N tot selected: 49.3k\n",
      "N tot expected (before weights): 5.03k\n",
      "Including pileup reweighting\n",
      "Including trigger corrections\n",
      "Including muon ID corrections\n",
      "Including B0 pT corrections\n",
      "Computing total weights\n",
      "N tot expected (after weights): 5.08k\n",
      "\n",
      "-----------> mu <-------------\n",
      "N tot selected: 595.1k\n",
      "N tot expected (before weights): 119.31k\n",
      "Including pileup reweighting\n",
      "Including trigger corrections\n",
      "Including muon ID corrections\n",
      "Including B0 pT corrections\n",
      "Including FF corrections (Hammer)\n",
      "Computing total weights\n",
      "N tot expected (after weights): 115.77k\n",
      "\n",
      "-----------> DstmDsp <-------------\n",
      "N tot selected: 17.6k\n",
      "N tot expected (before weights): 0.76k\n",
      "Including pileup reweighting\n",
      "Including trigger corrections\n",
      "Including muon ID corrections\n",
      "Including B0 pT corrections\n",
      "Computing total weights\n",
      "N tot expected (after weights): 0.77k\n",
      "\n",
      "-----------> DstPip <-------------\n",
      "N tot selected: 36.6k\n",
      "N tot expected (before weights): 4.02k\n",
      "Including pileup reweighting\n",
      "Including trigger corrections\n",
      "Including muon ID corrections\n",
      "Computing total weights\n",
      "N tot expected (after weights): 3.93k\n",
      "\n",
      "-----------> DstPipPim <-------------\n",
      "N tot selected: 2.5k\n",
      "N tot expected (before weights): 0.28k\n",
      "Including pileup reweighting\n",
      "Including trigger corrections\n",
      "Including muon ID corrections\n",
      "Including B0 pT corrections\n",
      "Computing total weights\n",
      "N tot expected (after weights): 0.27k\n",
      "\n",
      "-----------> DstmD0 <-------------\n",
      "N tot selected: 0.8k\n",
      "N tot expected (before weights): 0.04k\n",
      "Including pileup reweighting\n",
      "Including trigger corrections\n",
      "Including muon ID corrections\n",
      "Including B0 pT corrections\n",
      "Computing total weights\n",
      "N tot expected (after weights): 0.04k\n",
      "\n",
      "-----------> DstPi0Pi0 <-------------\n",
      "N tot selected: 23.3k\n",
      "N tot expected (before weights): 0.52k\n",
      "Including pileup reweighting\n",
      "Including trigger corrections\n",
      "Including muon ID corrections\n",
      "Including B0 pT corrections\n",
      "Computing total weights\n",
      "N tot expected (after weights): 0.53k\n"
     ]
    }
   ],
   "source": [
    "histo = {}\n",
    "for n, ds in dSet.iteritems():\n",
    "    if n == 'data': continue\n",
    "    print '\\n----------->', n, '<-------------'\n",
    "    sMC = MCsample[n]\n",
    "    \n",
    "    nTotSelected = ds['q2'].shape[0]\n",
    "    print 'N tot selected: {:.1f}k'.format(1e-3*nTotSelected)\n",
    "    nGenExp = sMC.effMCgen['xsec'][0] * lumi_tot * RDoMC_normRatio[0]\n",
    "    eff = [1, 0]\n",
    "    for f, df in [sMC.effMCgen['effGEN'], decayBR[n], sMC.effCand['effCAND'], sMC.getSkimEff(cat.name+'_corr')]:\n",
    "        eff[0] *= f\n",
    "        eff[1] += np.square(df/f)\n",
    "    eff[1] = eff[0] * np.sqrt(eff[1])\n",
    "    nTotExp = nGenExp*eff[0]\n",
    "    print 'N tot expected (before weights): {:.2f}k'.format(1e-3*nTotExp)\n",
    "    \n",
    "    wVar = {}\n",
    "    weights = {}\n",
    "    \n",
    "    print 'Including pileup reweighting'\n",
    "    weights['pileup'] = getPileupWeights(ds)\n",
    "    print 'Including trigger corrections'\n",
    "    weights['trgSF'], wVar['trgSFUp'], wVar['trgSFDown'] = computeTrgSF(ds)\n",
    "    print 'Including muon ID corrections'\n",
    "    weights['muonIdSF'], wVar['muonIdSFUp'], wVar['muonIdSFDown'] = computeMuonIDSF(ds)\n",
    "    if n in ['mu', 'tau', 'DstmD0', 'DstmDp', 'DstmDsp','DstPi0', 'DstPipPim', 'DstPi0Pi0']: #B0 dominated final states (probably we should do something about B+ too)\n",
    "        print 'Including B0 pT corrections'\n",
    "        weights['B0pT'], wVar['B0pTUp'], wVar['B0pTDown'] = computeB0pTweights(ds)\n",
    "    # Hammer corrections to the FF\n",
    "    if n in ['mu', 'tau']:\n",
    "        print 'Including FF corrections (Hammer)'\n",
    "        weights['B2DstCLN'] = ds['wh_CLNCentral']*sMC.effCand['rate_den']/sMC.effCand['rate_Central']\n",
    "        for nPar in ['R0', 'R1', 'R2', 'RhoSq']:\n",
    "            for var in ['Up', 'Down']:\n",
    "                tag = 'CLN' + nPar + var\n",
    "                wVar['B2Dst'+tag] = ds['wh_'+tag]/sMC.effCand['rate_' + nPar + var]\n",
    "                wVar['B2Dst'+tag] *= sMC.effCand['rate_Central']/ds['wh_CLNCentral']\n",
    "    #Hc mix variations\n",
    "    if n == 'DstmD0':\n",
    "        _, wVar['BrB02DstD0KpUp'], wVar['BrB02DstD0KpDown'] = computeBrVarWeights(ds, {'MC_DstSisterPdgId_heavy': 421, 'MC_DstSisterPdgId_light': 321}, 0.21/2.47) #Gamma 169 pdg 2020\n",
    "        _, wVar['BrB02DstD0KstpUp'], wVar['BrB02DstD0KstpDown'] = computeBrVarWeights(ds, {'MC_DstSisterPdgId_heavy': 421, 'MC_DstSisterPdgId_light': 323}, 0.5) # Guess\n",
    "        _, wVar['BrB02DstDst0KpUp'], wVar['BrB02DstDst0KpDown'] = computeBrVarWeights(ds, {'MC_DstSisterPdgId_heavy': 423, 'MC_DstSisterPdgId_light': 321}, 0.09/1.06) #Gamma 170 pdg 2020\n",
    "        _, wVar['BrB02DstDst0KstpUp'], wVar['BrB02DstDst0KstpDown'] = computeBrVarWeights(ds, {'MC_DstSisterPdgId_heavy': 423, 'MC_DstSisterPdgId_light': 323}, 0.5) # Guess\n",
    "        _, wVar['BrB02DstDstpK0Up'], wVar['BrB02DstDstpK0Down'] = computeBrVarWeights(ds, {'MC_DstSisterPdgId_heavy': 413, 'MC_DstSisterPdgId_light': 311}, 0.5/5.3) #Gamma 173 pdg 2020\n",
    "        _, wVar['BrB02DstDstpKst0Up'], wVar['BrB02DstDstpKst0Down'] = computeBrVarWeights(ds, {'MC_DstSisterPdgId_heavy': 413, 'MC_DstSisterPdgId_light': 313}, 0.5) # Guess\n",
    "    if n == 'DstmDp':\n",
    "        _, wVar['BrB02DstDpK0Up'], wVar['BrB02DstDpK0Down'] = computeBrVarWeights(ds, {'MC_DstSisterPdgId_heavy': 411, 'MC_DstSisterPdgId_light': 311}, 0.5/3.2) #Gamma 172 pdg 2020\n",
    "        _, wVar['BrB02DstDpKst0Up'], wVar['BrB02DstDpKst0Down'] = computeBrVarWeights(ds, {'MC_DstSisterPdgId_heavy': 411, 'MC_DstSisterPdgId_light': 313}, 0.5) # Guess\n",
    "        _, wVar['BrB02DstDstpK0Up'], wVar['BrB02DstDstpK0Down'] = computeBrVarWeights(ds, {'MC_DstSisterPdgId_heavy': 413, 'MC_DstSisterPdgId_light': 311}, 0.2/2.7) #Gamma 173 pdg 2020\n",
    "        _, wVar['BrB02DstDstpKst0Up'], wVar['BrB02DstDstpKst0Down'] = computeBrVarWeights(ds, {'MC_DstSisterPdgId_heavy': 413, 'MC_DstSisterPdgId_light': 313}, 0.5) # Guess\n",
    "    if n == 'DstmDsp':\n",
    "        _, wVar['BrB02DstDsUp'], wVar['BrB02DstDsDown'] = computeBrVarWeights(ds, {'MC_DstSisterPdgId_heavy': 431}, 1.1/8.0) #Gamma 83 pdg 2020\n",
    "        _, wVar['BrB02DstDsstUp'], wVar['BrB02DstDsstDown'] = computeBrVarWeights(ds, {'MC_DstSisterPdgId_heavy': 433}, .14/1.77) #Gamma 85 pdg 2020\n",
    "        _, wVar['BrB02DstDs0stUp'], wVar['BrB02DstDs0stDown'] = computeBrVarWeights(ds, {'MC_DstSisterPdgId_heavy': 10431}, .6/1.5) #Gamma 95 pdg 2020\n",
    "    \n",
    "    print 'Computing total weights'\n",
    "    weightsCentral = np.ones_like(ds['q2'])\n",
    "    for w in weights.values(): weightsCentral *= w\n",
    "    print 'N tot expected (after weights): {:.2f}k'.format(1e-3*nTotExp*np.sum(weightsCentral)/nTotSelected)\n",
    "    wVar[''] = np.ones_like(weightsCentral)\n",
    "    \n",
    "    for i_q2 in range(len(binning['q2'])-1):\n",
    "        q2_l = binning['q2'][i_q2]\n",
    "        q2_h = binning['q2'][i_q2 + 1]\n",
    "        sel_q2 = np.logical_and(ds['q2'] > q2_l, ds['q2'] < q2_h)\n",
    "        for var in ['M2_miss', 'Est_mu']:\n",
    "            cat_name = var+'_q2bin'+str(i_q2)\n",
    "            \n",
    "            if not cat_name in histo.keys():\n",
    "                histo[cat_name] = {}\n",
    "            \n",
    "            for name_wVar, v_wVar in wVar.iteritems():\n",
    "                h_name = n\n",
    "                if not name_wVar == '':\n",
    "                    h_name += '__' + name_wVar\n",
    "                w = weightsCentral*v_wVar\n",
    "                scale = nTotExp/nTotSelected\n",
    "                histo[cat_name][h_name] = create_TH1D(\n",
    "                                                      ds[var][sel_q2], \n",
    "                                                      name=h_name, title=h_name, \n",
    "                                                      binning=binning[var][i_q2], \n",
    "                                                      opt='underflow,overflow',\n",
    "                                                      weights=w[sel_q2], scale_histo=scale,\n",
    "                                                      )"
   ]
  },
  {
   "cell_type": "markdown",
   "metadata": {
    "hidden": true
   },
   "source": [
    "### Single track side"
   ]
  },
  {
   "cell_type": "code",
   "execution_count": 21,
   "metadata": {
    "ExecuteTime": {
     "end_time": "2020-05-20T17:02:46.182569Z",
     "start_time": "2020-05-20T17:02:46.096344Z"
    },
    "hidden": true
   },
   "outputs": [],
   "source": [
    "sideSelecton = {}\n",
    "sideVar = {}\n",
    "sideXtitle = {}\n",
    "sideAddtext = {}\n",
    "\n",
    "def selfun__TkPlus(ds):\n",
    "    sel = np.logical_and(ds['N_goodAddTks'] == 1, ds['tkCharge_0'] > 0)\n",
    "    return sel\n",
    "#     return np.logical_and(np.abs(ds['tkMassHad_0'] - 2.43) < 0.3, sel)\n",
    "sideSelecton['AddTk_p_mHad'] = selfun__TkPlus\n",
    "sideVar['AddTk_p_mHad'] = 'tkMassHad_0'\n",
    "binning['AddTk_p_mHad'] = [35, 2.13, 2.83]\n",
    "sideXtitle['AddTk_p_mHad'] = 'Total hadrons mass'\n",
    "sideAddtext['AddTk_p_mHad'] = 'N_{tk} = 1 & Q_{tk} = +1'\n",
    "\n",
    "def selfun__TkMinus(ds):\n",
    "    sel = np.logical_and(ds['N_goodAddTks'] == 1, ds['tkCharge_0'] < 0)\n",
    "    return sel\n",
    "sideSelecton['AddTk_m_mHad'] = selfun__TkMinus\n",
    "sideVar['AddTk_m_mHad'] = 'tkMassHad_0'\n",
    "binning['AddTk_m_mHad'] = [30, 2.1, 3.3]\n",
    "sideXtitle['AddTk_m_mHad'] = 'Total hadrons mass'\n",
    "sideAddtext['AddTk_m_mHad'] = 'N_{tk} = 1 & Q_{tk} = -1'\n",
    "\n",
    "# sideSelecton['AddTk_m_tkPt'] = selfun__TkMinus\n",
    "# sideVar['AddTk_m_tkPt'] = 'tkPt_0'\n",
    "# binning['AddTk_m_tkPt'] = np.logspace(np.log10(0.5), np.log10(5.0), 30)\n",
    "# sideXtitle['AddTk_m_tkPt'] = 'Additional track p_{T}'\n",
    "# sideAddtext['AddTk_m_tkPt'] = 'N_{tk} = 1 & Q_{tk} = -1'\n",
    "\n",
    "\n",
    "def selfun__TkPlusMinus(ds):\n",
    "    sel = np.logical_and(ds['tkCharge_0']+ds['tkCharge_1'] == 0, ds['N_goodAddTks'] == 2)\n",
    "    sel = np.logical_and(ds['tkMassVis12'] < 5.3, sel)\n",
    "    return sel\n",
    "sideSelecton['AddTk_pm_mVis'] = selfun__TkPlusMinus\n",
    "sideVar['AddTk_pm_mVis'] = 'tkMassVis12'\n",
    "binning['AddTk_pm_mVis'] = array('d', [2.8] + list(np.arange(3., 5.3, 0.1)) + [5.3] )\n",
    "sideXtitle['AddTk_pm_mVis'] = 'Total visible mass'\n",
    "sideAddtext['AddTk_pm_mVis'] = 'N_{tk} = 2 & #sumQ_{tk} = 0'\n",
    "\n",
    "\n",
    "sideSelecton['AddTk_pm_mHad'] = selfun__TkPlusMinus\n",
    "sideVar['AddTk_pm_mHad'] = 'tkMassHad12'\n",
    "binning['AddTk_pm_mHad'] = [30, 2.25, 3.75]\n",
    "sideXtitle['AddTk_pm_mHad'] = 'Total hadrons mass'\n",
    "sideAddtext['AddTk_pm_mHad'] = 'N_{tk} = 2 & #sumQ_{tk} = 0'\n",
    "\n",
    "def selfun__TkMinusMinus(ds):\n",
    "    sel = np.logical_and(ds['tkCharge_0']+ds['tkCharge_1'] == -2, ds['N_goodAddTks'] == 2)\n",
    "    sel = np.logical_and(ds['tkMassVis12'] < 5.3, sel)\n",
    "    return sel\n",
    "sideSelecton['AddTk_mm_mHad'] = selfun__TkMinusMinus\n",
    "sideVar['AddTk_mm_mHad'] = 'tkMassHad12'\n",
    "binning['AddTk_mm_mHad'] = [15, 2.25, 3.6]\n",
    "sideXtitle['AddTk_mm_mHad'] = 'Total hadrons mass'\n",
    "sideAddtext['AddTk_mm_mHad'] = 'N_{tk} = 2 & #sumQ_{tk} = -2'\n",
    "\n",
    "def selfun__TkPlusPlus(ds):\n",
    "    sel = np.logical_and(ds['tkCharge_0']+ds['tkCharge_1'] == +2, ds['N_goodAddTks'] == 2)\n",
    "    sel = np.logical_and(ds['tkMassVis12'] < 5.3, sel)\n",
    "    return sel\n",
    "sideSelecton['AddTk_pp_mHad'] = selfun__TkPlusPlus\n",
    "sideVar['AddTk_pp_mHad'] = 'tkMassHad12'\n",
    "binning['AddTk_pp_mHad'] = [15, 2.25, 3.75]\n",
    "sideXtitle['AddTk_pp_mHad'] = 'Total hadrons mass'\n",
    "sideAddtext['AddTk_pp_mHad'] = 'N_{tk} = 2 & #sumQ_{tk} = +2'"
   ]
  },
  {
   "cell_type": "code",
   "execution_count": 22,
   "metadata": {
    "ExecuteTime": {
     "end_time": "2020-05-20T17:03:00.640544Z",
     "start_time": "2020-05-20T17:02:46.187155Z"
    },
    "hidden": true,
    "scrolled": true
   },
   "outputs": [
    {
     "name": "stdout",
     "output_type": "stream",
     "text": [
      "\n",
      "-----------> tau <-------------\n",
      "Including pileup reweighting\n",
      "Including trigger corrections\n",
      "Including muon ID corrections\n",
      "Including B0 pT corrections\n",
      "Including FF corrections (Hammer)\n",
      "Computing total weights\n",
      "N tot selected AddTk_pm_mHad: 148\n",
      "N tot expected AddTk_pm_mHad (before weights): 15\n",
      "N tot expected AddTk_pm_mHad (after weights): 37\n",
      "N tot selected AddTk_m_mHad: 1883\n",
      "N tot expected AddTk_m_mHad (before weights): 187\n",
      "N tot expected AddTk_m_mHad (after weights): 246\n",
      "N tot selected AddTk_p_mHad: 2160\n",
      "N tot expected AddTk_p_mHad (before weights): 215\n",
      "N tot expected AddTk_p_mHad (after weights): 293\n",
      "N tot selected AddTk_pp_mHad: 68\n",
      "N tot expected AddTk_pp_mHad (before weights): 7\n",
      "N tot expected AddTk_pp_mHad (after weights): 14\n",
      "N tot selected AddTk_mm_mHad: 51\n",
      "N tot expected AddTk_mm_mHad (before weights): 5\n",
      "N tot expected AddTk_mm_mHad (after weights): 10\n",
      "N tot selected AddTk_pm_mVis: 148\n",
      "N tot expected AddTk_pm_mVis (before weights): 15\n",
      "N tot expected AddTk_pm_mVis (after weights): 37\n",
      "\n",
      "-----------> DstmDp <-------------\n",
      "Including pileup reweighting\n",
      "Including trigger corrections\n",
      "Including muon ID corrections\n",
      "Including B0 pT corrections\n",
      "Computing total weights\n",
      "N tot selected AddTk_pm_mHad: 1749\n",
      "N tot expected AddTk_pm_mHad (before weights): 51\n",
      "N tot expected AddTk_pm_mHad (after weights): 57\n",
      "N tot selected AddTk_m_mHad: 735\n",
      "N tot expected AddTk_m_mHad (before weights): 22\n",
      "N tot expected AddTk_m_mHad (after weights): 24\n",
      "N tot selected AddTk_p_mHad: 911\n",
      "N tot expected AddTk_p_mHad (before weights): 27\n",
      "N tot expected AddTk_p_mHad (after weights): 30\n",
      "N tot selected AddTk_pp_mHad: 43\n",
      "N tot expected AddTk_pp_mHad (before weights): 1\n",
      "N tot expected AddTk_pp_mHad (after weights): 1\n",
      "N tot selected AddTk_mm_mHad: 19\n",
      "N tot expected AddTk_mm_mHad (before weights): 1\n",
      "N tot expected AddTk_mm_mHad (after weights): 1\n",
      "N tot selected AddTk_pm_mVis: 1749\n",
      "N tot expected AddTk_pm_mVis (before weights): 51\n",
      "N tot expected AddTk_pm_mVis (after weights): 57\n",
      "\n",
      "-----------> DstPipPi0 <-------------\n",
      "Including pileup reweighting\n",
      "Including trigger corrections\n",
      "Including muon ID corrections\n",
      "Computing total weights\n",
      "N tot selected AddTk_pm_mHad: 275\n",
      "N tot expected AddTk_pm_mHad (before weights): 31\n",
      "N tot expected AddTk_pm_mHad (after weights): 43\n",
      "N tot selected AddTk_m_mHad: 149\n",
      "N tot expected AddTk_m_mHad (before weights): 17\n",
      "N tot expected AddTk_m_mHad (after weights): 25\n",
      "N tot selected AddTk_p_mHad: 6548\n",
      "N tot expected AddTk_p_mHad (before weights): 749\n",
      "N tot expected AddTk_p_mHad (after weights): 742\n",
      "N tot selected AddTk_pp_mHad: 197\n",
      "N tot expected AddTk_pp_mHad (before weights): 23\n",
      "N tot expected AddTk_pp_mHad (after weights): 32\n",
      "N tot selected AddTk_mm_mHad: 6\n",
      "N tot expected AddTk_mm_mHad (before weights): 1\n",
      "N tot expected AddTk_mm_mHad (after weights): 0\n",
      "N tot selected AddTk_pm_mVis: 275\n",
      "N tot expected AddTk_pm_mVis (before weights): 31\n",
      "N tot expected AddTk_pm_mVis (after weights): 43\n",
      "\n",
      "-----------> DstPi0 <-------------\n",
      "Including pileup reweighting\n",
      "Including trigger corrections\n",
      "Including muon ID corrections\n",
      "Including B0 pT corrections\n",
      "Computing total weights\n",
      "N tot selected AddTk_pm_mHad: 229\n",
      "N tot expected AddTk_pm_mHad (before weights): 23\n",
      "N tot expected AddTk_pm_mHad (after weights): 42\n",
      "N tot selected AddTk_m_mHad: 2161\n",
      "N tot expected AddTk_m_mHad (before weights): 220\n",
      "N tot expected AddTk_m_mHad (after weights): 274\n",
      "N tot selected AddTk_p_mHad: 2331\n",
      "N tot expected AddTk_p_mHad (before weights): 238\n",
      "N tot expected AddTk_p_mHad (after weights): 307\n",
      "N tot selected AddTk_pp_mHad: 90\n",
      "N tot expected AddTk_pp_mHad (before weights): 9\n",
      "N tot expected AddTk_pp_mHad (after weights): 19\n",
      "N tot selected AddTk_mm_mHad: 67\n",
      "N tot expected AddTk_mm_mHad (before weights): 7\n",
      "N tot expected AddTk_mm_mHad (after weights): 13\n",
      "N tot selected AddTk_pm_mVis: 229\n",
      "N tot expected AddTk_pm_mVis (before weights): 23\n",
      "N tot expected AddTk_pm_mVis (after weights): 42\n",
      "\n",
      "-----------> mu <-------------\n",
      "Including pileup reweighting\n",
      "Including trigger corrections\n",
      "Including muon ID corrections\n",
      "Including B0 pT corrections\n",
      "Including FF corrections (Hammer)\n",
      "Computing total weights\n",
      "N tot selected AddTk_pm_mHad: 2096\n",
      "N tot expected AddTk_pm_mHad (before weights): 420\n",
      "N tot expected AddTk_pm_mHad (after weights): 830\n",
      "N tot selected AddTk_m_mHad: 24530\n",
      "N tot expected AddTk_m_mHad (before weights): 4918\n",
      "N tot expected AddTk_m_mHad (after weights): 5928\n",
      "N tot selected AddTk_p_mHad: 27841\n",
      "N tot expected AddTk_p_mHad (before weights): 5582\n",
      "N tot expected AddTk_p_mHad (after weights): 7022\n",
      "N tot selected AddTk_pp_mHad: 962\n",
      "N tot expected AddTk_pp_mHad (before weights): 193\n",
      "N tot expected AddTk_pp_mHad (after weights): 321\n",
      "N tot selected AddTk_mm_mHad: 745\n",
      "N tot expected AddTk_mm_mHad (before weights): 149\n",
      "N tot expected AddTk_mm_mHad (after weights): 252\n",
      "N tot selected AddTk_pm_mVis: 2096\n",
      "N tot expected AddTk_pm_mVis (before weights): 420\n",
      "N tot expected AddTk_pm_mVis (after weights): 830\n",
      "\n",
      "-----------> DstmDsp <-------------\n",
      "Including pileup reweighting\n",
      "Including trigger corrections\n",
      "Including muon ID corrections\n",
      "Including B0 pT corrections\n",
      "Computing total weights\n",
      "N tot selected AddTk_pm_mHad: 2261\n",
      "N tot expected AddTk_pm_mHad (before weights): 97\n",
      "N tot expected AddTk_pm_mHad (after weights): 112\n",
      "N tot selected AddTk_m_mHad: 1639\n",
      "N tot expected AddTk_m_mHad (before weights): 70\n",
      "N tot expected AddTk_m_mHad (after weights): 81\n",
      "N tot selected AddTk_p_mHad: 1784\n",
      "N tot expected AddTk_p_mHad (before weights): 77\n",
      "N tot expected AddTk_p_mHad (after weights): 90\n",
      "N tot selected AddTk_pp_mHad: 77\n",
      "N tot expected AddTk_pp_mHad (before weights): 3\n",
      "N tot expected AddTk_pp_mHad (after weights): 5\n",
      "N tot selected AddTk_mm_mHad: 64\n",
      "N tot expected AddTk_mm_mHad (before weights): 3\n",
      "N tot expected AddTk_mm_mHad (after weights): 3\n",
      "N tot selected AddTk_pm_mVis: 2261\n",
      "N tot expected AddTk_pm_mVis (before weights): 97\n",
      "N tot expected AddTk_pm_mVis (after weights): 112\n",
      "\n",
      "-----------> DstPip <-------------\n",
      "Including pileup reweighting\n",
      "Including trigger corrections\n",
      "Including muon ID corrections\n",
      "Computing total weights\n",
      "N tot selected AddTk_pm_mHad: 2586\n",
      "N tot expected AddTk_pm_mHad (before weights): 284\n",
      "N tot expected AddTk_pm_mHad (after weights): 411\n",
      "N tot selected AddTk_m_mHad: 1767\n",
      "N tot expected AddTk_m_mHad (before weights): 194\n",
      "N tot expected AddTk_m_mHad (after weights): 258\n",
      "N tot selected AddTk_p_mHad: 62441\n",
      "N tot expected AddTk_p_mHad (before weights): 6846\n",
      "N tot expected AddTk_p_mHad (after weights): 6749\n",
      "N tot selected AddTk_pp_mHad: 1817\n",
      "N tot expected AddTk_pp_mHad (before weights): 199\n",
      "N tot expected AddTk_pp_mHad (after weights): 243\n",
      "N tot selected AddTk_mm_mHad: 63\n",
      "N tot expected AddTk_mm_mHad (before weights): 7\n",
      "N tot expected AddTk_mm_mHad (after weights): 10\n",
      "N tot selected AddTk_pm_mVis: 2586\n",
      "N tot expected AddTk_pm_mVis (before weights): 284\n",
      "N tot expected AddTk_pm_mVis (after weights): 411\n",
      "\n",
      "-----------> DstPipPim <-------------\n",
      "Including pileup reweighting\n",
      "Including trigger corrections\n",
      "Including muon ID corrections\n",
      "Including B0 pT corrections\n",
      "Computing total weights\n",
      "N tot selected AddTk_pm_mHad: 7086\n",
      "N tot expected AddTk_pm_mHad (before weights): 811\n",
      "N tot expected AddTk_pm_mHad (after weights): 842\n",
      "N tot selected AddTk_m_mHad: 3267\n",
      "N tot expected AddTk_m_mHad (before weights): 374\n",
      "N tot expected AddTk_m_mHad (after weights): 378\n",
      "N tot selected AddTk_p_mHad: 3671\n",
      "N tot expected AddTk_p_mHad (before weights): 420\n",
      "N tot expected AddTk_p_mHad (after weights): 411\n",
      "N tot selected AddTk_pp_mHad: 153\n",
      "N tot expected AddTk_pp_mHad (before weights): 18\n",
      "N tot expected AddTk_pp_mHad (after weights): 22\n",
      "N tot selected AddTk_mm_mHad: 109\n",
      "N tot expected AddTk_mm_mHad (before weights): 12\n",
      "N tot expected AddTk_mm_mHad (after weights): 15\n",
      "N tot selected AddTk_pm_mVis: 7086\n",
      "N tot expected AddTk_pm_mVis (before weights): 811\n",
      "N tot expected AddTk_pm_mVis (after weights): 842\n",
      "\n",
      "-----------> DstmD0 <-------------\n",
      "Including pileup reweighting\n",
      "Including trigger corrections\n",
      "Including muon ID corrections\n",
      "Including B0 pT corrections\n",
      "Computing total weights\n",
      "N tot selected AddTk_pm_mHad: 3998\n",
      "N tot expected AddTk_pm_mHad (before weights): 195\n",
      "N tot expected AddTk_pm_mHad (after weights): 211\n",
      "N tot selected AddTk_m_mHad: 838\n",
      "N tot expected AddTk_m_mHad (before weights): 41\n",
      "N tot expected AddTk_m_mHad (after weights): 44\n",
      "N tot selected AddTk_p_mHad: 2038\n",
      "N tot expected AddTk_p_mHad (before weights): 100\n",
      "N tot expected AddTk_p_mHad (after weights): 107\n",
      "N tot selected AddTk_pp_mHad: 88\n",
      "N tot expected AddTk_pp_mHad (before weights): 4\n",
      "N tot expected AddTk_pp_mHad (after weights): 5\n",
      "N tot selected AddTk_mm_mHad: 22\n",
      "N tot expected AddTk_mm_mHad (before weights): 1\n",
      "N tot expected AddTk_mm_mHad (after weights): 2\n",
      "N tot selected AddTk_pm_mVis: 3998\n",
      "N tot expected AddTk_pm_mVis (before weights): 195\n",
      "N tot expected AddTk_pm_mVis (after weights): 211\n",
      "\n",
      "-----------> DstPi0Pi0 <-------------\n",
      "Including pileup reweighting\n",
      "Including trigger corrections\n",
      "Including muon ID corrections\n"
     ]
    },
    {
     "name": "stdout",
     "output_type": "stream",
     "text": [
      "Including B0 pT corrections\n",
      "Computing total weights\n",
      "N tot selected AddTk_pm_mHad: 99\n",
      "N tot expected AddTk_pm_mHad (before weights): 2\n",
      "N tot expected AddTk_pm_mHad (after weights): 4\n",
      "N tot selected AddTk_m_mHad: 956\n",
      "N tot expected AddTk_m_mHad (before weights): 21\n",
      "N tot expected AddTk_m_mHad (after weights): 26\n",
      "N tot selected AddTk_p_mHad: 1082\n",
      "N tot expected AddTk_p_mHad (before weights): 24\n",
      "N tot expected AddTk_p_mHad (after weights): 28\n",
      "N tot selected AddTk_pp_mHad: 41\n",
      "N tot expected AddTk_pp_mHad (before weights): 1\n",
      "N tot expected AddTk_pp_mHad (after weights): 2\n",
      "N tot selected AddTk_mm_mHad: 31\n",
      "N tot expected AddTk_mm_mHad (before weights): 1\n",
      "N tot expected AddTk_mm_mHad (after weights): 1\n",
      "N tot selected AddTk_pm_mVis: 99\n",
      "N tot expected AddTk_pm_mVis (before weights): 2\n",
      "N tot expected AddTk_pm_mVis (after weights): 4\n"
     ]
    }
   ],
   "source": [
    "for k in sideSelecton.keys():\n",
    "    histo[k] = {}\n",
    "\n",
    "for n, ds in dSetTkSide.iteritems():\n",
    "    if n == 'data': continue\n",
    "    print '\\n----------->', n, '<-------------'\n",
    "    sMC = MCsample[n]    \n",
    "    wVar = {}\n",
    "    weights = {}\n",
    "    \n",
    "    print 'Including pileup reweighting'\n",
    "    weights['pileup'] = getPileupWeights(ds)\n",
    "    print 'Including trigger corrections'\n",
    "    weights['trgSF'], wVar['trgSFUp'], wVar['trgSFDown'] = computeTrgSF(ds)\n",
    "    print 'Including muon ID corrections'\n",
    "    weights['muonIdSF'], wVar['muonIdSFUp'], wVar['muonIdSFDown'] = computeMuonIDSF(ds)\n",
    "    if n in ['mu', 'tau', 'DstmD0', 'DstmDp', 'DstmDsp','DstPi0', 'DstPipPim', 'DstPi0Pi0']: #B0 dominated final states (probably we should do something about B+ too)\n",
    "        print 'Including B0 pT corrections'\n",
    "        weights['B0pT'], wVar['B0pTUp'], wVar['B0pTDown'] = computeB0pTweights(ds)\n",
    "    # Hammer corrections to the FF\n",
    "    if n in ['mu', 'tau']:\n",
    "        print 'Including FF corrections (Hammer)'\n",
    "        weights['B2DstCLN'] = ds['wh_CLNCentral']*sMC.effCand['rate_den']/sMC.effCand['rate_Central']\n",
    "        for nPar in ['R0', 'R1', 'R2', 'RhoSq']:\n",
    "            for var in ['Up', 'Down']:\n",
    "                tag = 'CLN' + nPar + var\n",
    "                wVar['B2Dst'+tag] = ds['wh_'+tag]/sMC.effCand['rate_' + nPar + var]\n",
    "                wVar['B2Dst'+tag] *= sMC.effCand['rate_Central']/ds['wh_CLNCentral']\n",
    "    #Hc mix variations\n",
    "    if n == 'DstmD0':\n",
    "        _, wVar['BrB02DstD0KpUp'], wVar['BrB02DstD0KpDown'] = computeBrVarWeights(ds, {'MC_DstSisterPdgId_heavy': 421, 'MC_DstSisterPdgId_light': 321}, 0.21/2.47) #Gamma 169 pdg 2020\n",
    "        _, wVar['BrB02DstD0KstpUp'], wVar['BrB02DstD0KstpDown'] = computeBrVarWeights(ds, {'MC_DstSisterPdgId_heavy': 421, 'MC_DstSisterPdgId_light': 323}, 0.5) # Guess\n",
    "        _, wVar['BrB02DstDst0KpUp'], wVar['BrB02DstDst0KpDown'] = computeBrVarWeights(ds, {'MC_DstSisterPdgId_heavy': 423, 'MC_DstSisterPdgId_light': 321}, 0.09/1.06) #Gamma 170 pdg 2020\n",
    "        _, wVar['BrB02DstDst0KstpUp'], wVar['BrB02DstDst0KstpDown'] = computeBrVarWeights(ds, {'MC_DstSisterPdgId_heavy': 423, 'MC_DstSisterPdgId_light': 323}, 0.5) # Guess\n",
    "        _, wVar['BrB02DstDstpK0Up'], wVar['BrB02DstDstpK0Down'] = computeBrVarWeights(ds, {'MC_DstSisterPdgId_heavy': 413, 'MC_DstSisterPdgId_light': 311}, 0.5/5.3) #Gamma 173 pdg 2020\n",
    "        _, wVar['BrB02DstDstpKst0Up'], wVar['BrB02DstDstpKst0Down'] = computeBrVarWeights(ds, {'MC_DstSisterPdgId_heavy': 413, 'MC_DstSisterPdgId_light': 313}, 0.5) # Guess\n",
    "    if n == 'DstmDp':\n",
    "        _, wVar['BrB02DstDpK0Up'], wVar['BrB02DstDpK0Down'] = computeBrVarWeights(ds, {'MC_DstSisterPdgId_heavy': 411, 'MC_DstSisterPdgId_light': 311}, 0.5/3.2) #Gamma 172 pdg 2020\n",
    "        _, wVar['BrB02DstDpKst0Up'], wVar['BrB02DstDpKst0Down'] = computeBrVarWeights(ds, {'MC_DstSisterPdgId_heavy': 411, 'MC_DstSisterPdgId_light': 313}, 0.5) # Guess\n",
    "        _, wVar['BrB02DstDstpK0Up'], wVar['BrB02DstDstpK0Down'] = computeBrVarWeights(ds, {'MC_DstSisterPdgId_heavy': 413, 'MC_DstSisterPdgId_light': 311}, 0.2/2.7) #Gamma 173 pdg 2020\n",
    "        _, wVar['BrB02DstDstpKst0Up'], wVar['BrB02DstDstpKst0Down'] = computeBrVarWeights(ds, {'MC_DstSisterPdgId_heavy': 413, 'MC_DstSisterPdgId_light': 313}, 0.5) # Guess\n",
    "    if n == 'DstmDsp':\n",
    "        _, wVar['BrB02DstDsUp'], wVar['BrB02DstDsDown'] = computeBrVarWeights(ds, {'MC_DstSisterPdgId_heavy': 431}, 1.1/8.0) #Gamma 83 pdg 2020\n",
    "        _, wVar['BrB02DstDsstUp'], wVar['BrB02DstDsstDown'] = computeBrVarWeights(ds, {'MC_DstSisterPdgId_heavy': 433}, .14/1.77) #Gamma 85 pdg 2020\n",
    "        _, wVar['BrB02DstDs0stUp'], wVar['BrB02DstDs0stDown'] = computeBrVarWeights(ds, {'MC_DstSisterPdgId_heavy': 10431}, .6/1.5) #Gamma 95 pdg 2020\n",
    "        \n",
    "    # Correct the amount of random tracks from PV\n",
    "    weights['tkPVfrac'], wVar['tkPVfracUp'], wVar['tkPVfracDown'] = computeTksPVweights(ds)\n",
    "    \n",
    "    print 'Computing total weights'\n",
    "    weightsCentral = np.ones_like(ds['q2'])\n",
    "    for w in weights.values(): \n",
    "        weightsCentral *= w\n",
    "    wVar[''] = np.ones_like(weightsCentral)\n",
    "    \n",
    "    nGenExp = sMC.effMCgen['xsec'][0] * lumi_tot * RDoMC_normRatio[0]\n",
    "    eff = [1, 0]\n",
    "    for f, df in [sMC.effMCgen['effGEN'], \n",
    "                  decayBR[n], \n",
    "                  sMC.effCand['effCAND'], \n",
    "                  sMC.getSkimEff(cat.name+'_trkCtrl_corr'),\n",
    "                 ]:\n",
    "        eff[0] *= f\n",
    "        eff[1] += np.square(df/f)\n",
    "    eff[1] = eff[0] * np.sqrt(eff[1])\n",
    "    nTotExp = nGenExp*eff[0]\n",
    "    \n",
    "    sel = {}\n",
    "    scale = {}\n",
    "    \n",
    "    for k, selFun in sideSelecton.iteritems():\n",
    "        sel[k] = selFun(ds)\n",
    "        nTotSel = float(np.sum(sel[k]))\n",
    "        print 'N tot selected {}: {:.0f}'.format(k, nTotSel)\n",
    "        nExp = nTotExp * nTotSel / sel[k].shape[0]\n",
    "        print 'N tot expected {} (before weights): {:.0f}'.format(k, nExp)\n",
    "        nAux = nTotExp * np.sum(weightsCentral[sel[k]]) / sel[k].shape[0]\n",
    "        print 'N tot expected {} (after weights): {:.0f}'.format(k, nAux)\n",
    "        scale[k] = nExp/nTotSel\n",
    "    \n",
    "            \n",
    "    for name_wVar, v_wVar in wVar.iteritems():\n",
    "        h_name = n\n",
    "        if not name_wVar == '':\n",
    "            h_name += '__' + name_wVar\n",
    "        w = weightsCentral*v_wVar\n",
    "        \n",
    "        for k in sideVar.keys():\n",
    "            histo[k][h_name] = create_TH1D(\n",
    "                                           ds[sideVar[k]][sel[k]], \n",
    "                                           name=h_name, title=h_name, \n",
    "                                           binning=binning[k],\n",
    "                                           opt='underflow',\n",
    "                                           weights=w[sel[k]], scale_histo=scale[k]\n",
    "                                          )"
   ]
  },
  {
   "cell_type": "markdown",
   "metadata": {
    "heading_collapsed": true
   },
   "source": [
    "# Create (pseudo-)data histogram"
   ]
  },
  {
   "cell_type": "code",
   "execution_count": 23,
   "metadata": {
    "ExecuteTime": {
     "end_time": "2020-05-20T17:03:00.762771Z",
     "start_time": "2020-05-20T17:03:00.645731Z"
    },
    "hidden": true
   },
   "outputs": [
    {
     "name": "stdout",
     "output_type": "stream",
     "text": [
      "N observed data: 162.7k\n"
     ]
    }
   ],
   "source": [
    "if fit_real_data:\n",
    "    ds = dSet['data']\n",
    "    print 'N observed data: {:.1f}k'.format(1e-3*ds['q2'].shape[0])\n",
    "    for i_q2 in range(len(binning['q2'])-1):\n",
    "        q2_l = binning['q2'][i_q2]\n",
    "        q2_h = binning['q2'][i_q2 + 1]\n",
    "        sel_q2 = np.logical_and(ds['q2'] > q2_l, ds['q2'] < q2_h)\n",
    "        for var in ['M2_miss', 'Est_mu']:\n",
    "            cat_name = var+'_q2bin'+str(i_q2)     \n",
    "            histo[cat_name]['data'] = create_TH1D(\n",
    "                                                  ds[var][sel_q2], \n",
    "                                                  name='data_obs', title='Data Obs',\n",
    "                                                  binning=binning[var][i_q2],\n",
    "                                                  opt='underflow,overflow'\n",
    "                                                 )\n",
    "    ds = dSetTkSide['data']\n",
    "    for k in sideVar.keys():\n",
    "        histo[k]['data'] = create_TH1D(\n",
    "                                       ds[sideVar[k]][sideSelecton[k](ds)], \n",
    "                                       name='data_obs', title='Data Obs', \n",
    "                                       binning=binning[k],\n",
    "                                       opt='underflow',\n",
    "                                      )\n",
    "        \n",
    "else:\n",
    "    for i_q2 in range(len(binning['q2'])-1):\n",
    "        for var in ['M2_miss', 'Est_mu']:\n",
    "            cat_name = var+'_q2bin'+str(i_q2)\n",
    "            \n",
    "            h = create_TH1D(np.array([0, 0]), name='data_obs', title='Data Obs', binning=binning[var][i_q2])\n",
    "            h.Reset()\n",
    "            for n, hMC in histo[cat_name].iteritems():\n",
    "                if not '__' in n and not n == 'data':\n",
    "                    scale = SM_RDst if 'tau' in n else 1.\n",
    "                    h.Add(hMC, scale)\n",
    "            h.Sumw2(0)\n",
    "            for i in range(1, h.GetNbinsX()+1):\n",
    "                h.SetBinContent(i, np.around(h.GetBinContent(i)))\n",
    "            h.Sumw2()\n",
    "            histo[cat_name]['data'] = h\n",
    "            \n",
    "    for k in sideVar.keys():\n",
    "        h = create_TH1D(np.array([0, 0]), name='data_obs', title='Data Obs', \n",
    "                        binning=binning[k])\n",
    "        h.Reset()\n",
    "        for n, hMC in histo[k].iteritems():\n",
    "            if not '__' in n and not n == 'data':\n",
    "                scale = SM_RDst if 'tau' in n else 1.\n",
    "                h.Add(hMC, scale)\n",
    "        h.Sumw2(0)\n",
    "        for i in range(1, h.GetNbinsX()+1):\n",
    "            h.SetBinContent(i, np.around(h.GetBinContent(i)))\n",
    "        h.Sumw2()\n",
    "        histo[k]['data'] = h"
   ]
  },
  {
   "cell_type": "code",
   "execution_count": 24,
   "metadata": {
    "ExecuteTime": {
     "end_time": "2020-05-20T17:03:01.417362Z",
     "start_time": "2020-05-20T17:03:00.767471Z"
    },
    "hidden": true,
    "scrolled": true
   },
   "outputs": [
    {
     "data": {
      "image/png": "[encoded data removed]",
      "text/plain": [
       "<IPython.core.display.Image object>"
      ]
     },
     "metadata": {},
     "output_type": "display_data"
    }
   ],
   "source": [
    "CMS_lumi.integrated_lumi = lumi_tot\n",
    "scale_dic = {'tau': SM_RDst\n",
    "            }\n",
    "\n",
    "cSigPre = plot_gridVarQ2(CMS_lumi, binning, histo, scale_dic=scale_dic, min_y=1, logy=False)"
   ]
  },
  {
   "cell_type": "code",
   "execution_count": 25,
   "metadata": {
    "ExecuteTime": {
     "end_time": "2020-05-20T17:03:01.732957Z",
     "start_time": "2020-05-20T17:03:01.422393Z"
    },
    "hidden": true,
    "scrolled": true
   },
   "outputs": [
    {
     "data": {
      "image/png": "[encoded data removed]",
      "text/plain": [
       "<IPython.core.display.Image object>"
      ]
     },
     "metadata": {},
     "output_type": "display_data"
    },
    {
     "data": {
      "image/png": "[encoded data removed]",
      "text/plain": [
       "<IPython.core.display.Image object>"
      ]
     },
     "metadata": {},
     "output_type": "display_data"
    },
    {
     "data": {
      "image/png": "[encoded data removed]",
      "text/plain": [
       "<IPython.core.display.Image object>"
      ]
     },
     "metadata": {},
     "output_type": "display_data"
    },
    {
     "data": {
      "image/png": "[encoded data removed]",
      "text/plain": [
       "<IPython.core.display.Image object>"
      ]
     },
     "metadata": {},
     "output_type": "display_data"
    },
    {
     "data": {
      "image/png": "[encoded data removed]",
      "text/plain": [
       "<IPython.core.display.Image object>"
      ]
     },
     "metadata": {},
     "output_type": "display_data"
    },
    {
     "data": {
      "image/png": "[encoded data removed]",
      "text/plain": [
       "<IPython.core.display.Image object>"
      ]
     },
     "metadata": {},
     "output_type": "display_data"
    }
   ],
   "source": [
    "cSidePre = {}\n",
    "for k in np.sort(sideVar.keys()):\n",
    "    legLoc = [0.65, 0.4, 0.9, 0.7]\n",
    "    if 'MassVis' in sideVar[k]:\n",
    "        legLoc = [0.15, 0.45, 0.35, 0.75]\n",
    "    cSidePre[k] = plot_SingleCategory(CMS_lumi, histo[k], scale_dic=scale_dic,\n",
    "                                      xtitle=sideXtitle[k], addText=sideAddtext[k], \n",
    "                                      tag=k, legLoc=legLoc)"
   ]
  },
  {
   "cell_type": "code",
   "execution_count": 26,
   "metadata": {
    "ExecuteTime": {
     "end_time": "2020-05-20T17:03:02.731319Z",
     "start_time": "2020-05-20T17:03:01.737676Z"
    },
    "hidden": true
   },
   "outputs": [],
   "source": [
    "histo_file_dir = '../data/_root/histos4combine/'\n",
    "if not os.path.isdir(histo_file_dir):\n",
    "    os.makedirs(histo_file_dir)\n",
    "histo_file_loc = {}\n",
    "for cat_name, h_dic in histo.iteritems():\n",
    "    histo_file_loc[cat_name] = histo_file_dir+'{}_{}.root'.format(card_name, cat_name)\n",
    "    tf = rt.TFile(histo_file_loc[cat_name], 'recreate')\n",
    "    for v in h_dic.values():\n",
    "        v.Write()\n",
    "    tf.Close()\n",
    "    \n",
    "del dSet, dSetTkSide"
   ]
  },
  {
   "cell_type": "markdown",
   "metadata": {
    "heading_collapsed": true
   },
   "source": [
    "# Write the card"
   ]
  },
  {
   "cell_type": "code",
   "execution_count": 27,
   "metadata": {
    "ExecuteTime": {
     "end_time": "2020-05-20T17:03:02.772673Z",
     "start_time": "2020-05-20T17:03:02.736792Z"
    },
    "hidden": true
   },
   "outputs": [],
   "source": [
    "sig_processes = ['tau', 'mu']\n",
    "bkg_processes = ['DstmD0', 'DstmDp', 'DstmDsp', 'DstPip', 'DstPipPi0', 'DstPi0', 'DstPipPim', 'DstPi0Pi0']\n",
    "processes = sig_processes + bkg_processes\n",
    "nProc = len(processes)\n",
    "categories = np.sort([k for k in histo.keys()])\n",
    "nCat = len(categories)"
   ]
  },
  {
   "cell_type": "code",
   "execution_count": 28,
   "metadata": {
    "ExecuteTime": {
     "end_time": "2020-05-20T17:03:02.832855Z",
     "start_time": "2020-05-20T17:03:02.777061Z"
    },
    "hidden": true
   },
   "outputs": [],
   "source": [
    "# number of different categories\n",
    "card = 'imax *\\n'\n",
    "# number of processes minus one\n",
    "card += 'jmax {}\\n'.format(len(processes)-1)\n",
    "# number of nuissance parameters\n",
    "card += 'kmax *\\n'\n",
    "card += '--------------------------------------------------------------\\n'"
   ]
  },
  {
   "cell_type": "code",
   "execution_count": 29,
   "metadata": {
    "ExecuteTime": {
     "end_time": "2020-05-20T17:03:02.875996Z",
     "start_time": "2020-05-20T17:03:02.839543Z"
    },
    "hidden": true
   },
   "outputs": [],
   "source": [
    "# shape file location\n",
    "for k in categories:\n",
    "    card += 'shapes * {} {} $PROCESS $PROCESS__$SYSTEMATIC\\n'.format(k, histo_file_loc[k])\n",
    "card += '--------------------------------------------------------------\\n'"
   ]
  },
  {
   "cell_type": "markdown",
   "metadata": {
    "heading_collapsed": true,
    "hidden": true
   },
   "source": [
    "### Number of events"
   ]
  },
  {
   "cell_type": "code",
   "execution_count": 30,
   "metadata": {
    "ExecuteTime": {
     "end_time": "2020-05-20T17:03:02.922985Z",
     "start_time": "2020-05-20T17:03:02.882745Z"
    },
    "hidden": true
   },
   "outputs": [],
   "source": [
    "# number of events observed\n",
    "card += 'bin ' + ' '.join(categories) + '\\n'\n",
    "obs = map(lambda k: '{:.0f}'.format(histo[k]['data'].Integral()), categories)\n",
    "obs = ' '.join(obs)\n",
    "card += 'observation ' + obs + '\\n'\n",
    "card += '--------------------------------------------------------------\\n'"
   ]
  },
  {
   "cell_type": "code",
   "execution_count": 31,
   "metadata": {
    "ExecuteTime": {
     "end_time": "2020-05-20T17:03:02.970592Z",
     "start_time": "2020-05-20T17:03:02.929932Z"
    },
    "hidden": true
   },
   "outputs": [],
   "source": [
    "# MC expected events\n",
    "aux_bin = ''\n",
    "aux_proc_name = ''\n",
    "aux_proc_id = ''\n",
    "aux_proc_rate = ''\n",
    "for c, p in itertools.product(categories, processes):\n",
    "    aux_bin += ' '+c\n",
    "    aux_proc_name += ' '+p\n",
    "    aux_proc_id += ' '+str(np.argmax(np.array(processes) == p))\n",
    "    aux_proc_rate += ' {:.2f}'.format(histo[c][p].Integral())\n",
    "    \n",
    "card += 'bin' + aux_bin + '\\n'\n",
    "card += 'process' + aux_proc_name + '\\n'\n",
    "# Zero or negative for sig and positive for bkg\n",
    "card += 'process' + aux_proc_id + '\\n'\n",
    "# Expected rate\n",
    "card += 'rate' + aux_proc_rate + '\\n'\n",
    "card += '--------------------------------------------------------------\\n'"
   ]
  },
  {
   "cell_type": "markdown",
   "metadata": {
    "hidden": true
   },
   "source": [
    "## Systematic uncertainties"
   ]
  },
  {
   "cell_type": "markdown",
   "metadata": {
    "heading_collapsed": true,
    "hidden": true
   },
   "source": [
    "### Scale systematics"
   ]
  },
  {
   "cell_type": "code",
   "execution_count": 32,
   "metadata": {
    "ExecuteTime": {
     "end_time": "2020-05-20T17:03:03.021383Z",
     "start_time": "2020-05-20T17:03:02.974656Z"
    },
    "hidden": true
   },
   "outputs": [],
   "source": [
    "#pp -> bb cros-section * luminosity\n",
    "card += 'xsecpp2bbXlumi lnN' + ' 1.9'*nProc*nCat + '\\n'"
   ]
  },
  {
   "cell_type": "code",
   "execution_count": 33,
   "metadata": {
    "ExecuteTime": {
     "end_time": "2020-05-20T17:03:03.073649Z",
     "start_time": "2020-05-20T17:03:03.025732Z"
    },
    "hidden": true
   },
   "outputs": [],
   "source": [
    "#Hadronization fraction of B0\n",
    "aux = ''\n",
    "for n in processes:\n",
    "    if n in ['tau', 'mu', 'DstmD0', 'DstmDp', 'DstmDsp', 'DstPi0', 'DstPipPim', 'DstPi0Pi0']: aux += ' 3'\n",
    "    else: aux += ' -'\n",
    "card += 'b2B0Had lnN' + aux*nCat + '\\n'"
   ]
  },
  {
   "cell_type": "code",
   "execution_count": 34,
   "metadata": {
    "ExecuteTime": {
     "end_time": "2020-05-20T17:03:03.126811Z",
     "start_time": "2020-05-20T17:03:03.080422Z"
    },
    "hidden": true
   },
   "outputs": [],
   "source": [
    "#Hadronization fraction of B+\n",
    "aux = ''\n",
    "for n in processes:\n",
    "    if n in ['DstPip', 'DstPipPi0']: aux += ' 3'\n",
    "    else: aux += ' -'\n",
    "card += 'b2BpHad lnN' + aux*nCat + '\\n'"
   ]
  },
  {
   "cell_type": "code",
   "execution_count": 35,
   "metadata": {
    "ExecuteTime": {
     "end_time": "2020-05-20T17:03:03.160182Z",
     "start_time": "2020-05-20T17:03:03.132202Z"
    },
    "hidden": true
   },
   "outputs": [],
   "source": [
    "# Selection efficiencies\n",
    "for n in processes:\n",
    "    if n == 'tau': continue\n",
    "    val = ' {:.2f}'.format(1+decayBR[n][1]/decayBR[n][0])\n",
    "    aux = ''\n",
    "    for nn in processes:\n",
    "        if nn == n: aux += val\n",
    "        else: aux += ' -'\n",
    "    card += n + 'Br lnN' + aux*nCat + '\\n'"
   ]
  },
  {
   "cell_type": "code",
   "execution_count": 36,
   "metadata": {
    "ExecuteTime": {
     "end_time": "2020-05-20T17:03:03.198828Z",
     "start_time": "2020-05-20T17:03:03.164074Z"
    },
    "hidden": true
   },
   "outputs": [],
   "source": [
    "card += '--------------------------------------------------------------\\n'"
   ]
  },
  {
   "cell_type": "markdown",
   "metadata": {
    "heading_collapsed": true,
    "hidden": true
   },
   "source": [
    "### Rate parameters"
   ]
  },
  {
   "cell_type": "code",
   "execution_count": 37,
   "metadata": {
    "ExecuteTime": {
     "end_time": "2020-05-20T17:03:03.228727Z",
     "start_time": "2020-05-20T17:03:03.203528Z"
    },
    "hidden": true
   },
   "outputs": [],
   "source": [
    "card += 'pAddTk param 1.0 0.15\\n'"
   ]
  },
  {
   "cell_type": "code",
   "execution_count": 38,
   "metadata": {
    "ExecuteTime": {
     "end_time": "2020-05-20T17:03:03.265964Z",
     "start_time": "2020-05-20T17:03:03.232989Z"
    },
    "hidden": true
   },
   "outputs": [],
   "source": [
    "linear = []\n",
    "quadratic = []\n",
    "\n",
    "for procAux in ['tau', 'mu', 'DstPi0', 'DstPi0Pi0']: \n",
    "    linear.append(['AddTk_p_mHad', procAux])\n",
    "    \n",
    "for procAux in ['tau', 'mu', 'DstPi0', 'DstPi0Pi0', 'DstPip', 'DstPipPi0']: \n",
    "    linear.append(['AddTk_m_mHad', procAux])\n",
    "    \n",
    "for procAux in ['DstPip', 'DstPipPi0', 'DstPipPim', 'DstmD0', 'DstmDp', 'DstmDsp']:\n",
    "    linear.append(['AddTk_pp_mHad', procAux])\n",
    "for procAux in ['tau', 'mu', 'DstPi0', 'DstPi0Pi0']:\n",
    "    quadratic.append(['AddTk_pp_mHad', procAux])\n",
    "    \n",
    "\n",
    "for procAux in ['DstPip', 'DstPipPi0']:\n",
    "    linear.append(['AddTk_pm_mHad', procAux])\n",
    "    linear.append(['AddTk_pm_mVis', procAux])\n",
    "for procAux in ['tau', 'mu', 'DstPi0', 'DstPi0Pi0']:\n",
    "    quadratic.append(['AddTk_pm_mHad', procAux])\n",
    "    quadratic.append(['AddTk_pm_mVis', procAux])\n",
    "    \n",
    "for procAux in ['DstPipPim', 'DstmD0', 'DstmDp', 'DstmDsp']:\n",
    "    linear.append(['AddTk_mm_mHad', procAux])\n",
    "for procAux in ['tau', 'mu', 'DstPi0', 'DstPi0Pi0', 'DstPip', 'DstPipPi0']:\n",
    "    quadratic.append(['AddTk_mm_mHad', procAux])\n",
    "    \n",
    "for binAux, procAux in linear:\n",
    "    card += 'pAddTk rateParam {} {} 1\\n'.format(binAux, procAux)\n",
    "for binAux, procAux in quadratic:\n",
    "    card += 'pAddTk2 rateParam {} {} @0*@0 pAddTk\\n'.format(binAux, procAux)"
   ]
  },
  {
   "cell_type": "code",
   "execution_count": 39,
   "metadata": {
    "ExecuteTime": {
     "end_time": "2020-05-20T17:03:03.305956Z",
     "start_time": "2020-05-20T17:03:03.270617Z"
    },
    "hidden": true
   },
   "outputs": [],
   "source": [
    "card += '--------------------------------------------------------------\\n'"
   ]
  },
  {
   "cell_type": "markdown",
   "metadata": {
    "heading_collapsed": true,
    "hidden": true
   },
   "source": [
    "### Shape Systematics"
   ]
  },
  {
   "cell_type": "code",
   "execution_count": 40,
   "metadata": {
    "ExecuteTime": {
     "end_time": "2020-05-20T17:03:03.386656Z",
     "start_time": "2020-05-20T17:03:03.311362Z"
    },
    "hidden": true
   },
   "outputs": [],
   "source": [
    "card += 'trgSF shape' + ' 1.'*nProc*nCat + '\\n'"
   ]
  },
  {
   "cell_type": "code",
   "execution_count": 41,
   "metadata": {
    "ExecuteTime": {
     "end_time": "2020-05-20T17:03:03.437394Z",
     "start_time": "2020-05-20T17:03:03.391667Z"
    },
    "hidden": true
   },
   "outputs": [],
   "source": [
    "card += 'muonIdSF shape' + ' 1.'*nProc*nCat + '\\n'"
   ]
  },
  {
   "cell_type": "code",
   "execution_count": 42,
   "metadata": {
    "ExecuteTime": {
     "end_time": "2020-05-20T17:03:03.462645Z",
     "start_time": "2020-05-20T17:03:03.443135Z"
    },
    "hidden": true
   },
   "outputs": [],
   "source": [
    "aux = ''\n",
    "for cat in categories:\n",
    "    if cat.startswith('AddTk_'):\n",
    "        aux += ' 1.'*nProc\n",
    "    else: aux += ' -'*nProc\n",
    "card += 'tkPVfrac shape' + aux + '\\n'"
   ]
  },
  {
   "cell_type": "code",
   "execution_count": 43,
   "metadata": {
    "ExecuteTime": {
     "end_time": "2020-05-20T17:03:03.486626Z",
     "start_time": "2020-05-20T17:03:03.467813Z"
    },
    "hidden": true
   },
   "outputs": [],
   "source": [
    "# B0 pT spectrum\n",
    "aux = ''\n",
    "for p in processes:\n",
    "    if p in ['tau', 'mu', 'DstmD0', 'DstmDp', 'DstmDsp', 'DstPi0', 'DstPipPim', 'DstPi0Pi0']:\n",
    "        aux += ' 1.'\n",
    "    else:\n",
    "        aux += ' -'\n",
    "card += 'B0pT shape' + aux*nCat + '\\n'"
   ]
  },
  {
   "cell_type": "code",
   "execution_count": 44,
   "metadata": {
    "ExecuteTime": {
     "end_time": "2020-05-20T17:03:03.516034Z",
     "start_time": "2020-05-20T17:03:03.491353Z"
    },
    "hidden": true
   },
   "outputs": [],
   "source": [
    "# Form Factors from Hammer\n",
    "for n_pFF in ['R0', 'R1', 'R2', 'RhoSq']:\n",
    "    aux = ''\n",
    "    for p in processes:\n",
    "        if p in ['tau', 'mu']:\n",
    "            aux += ' 1.'\n",
    "        else:\n",
    "            aux += ' -'\n",
    "    card += 'B2DstCLN{} shape'.format(n_pFF) + aux*nCat + '\\n'"
   ]
  },
  {
   "cell_type": "code",
   "execution_count": 45,
   "metadata": {
    "ExecuteTime": {
     "end_time": "2020-05-20T17:03:03.563355Z",
     "start_time": "2020-05-20T17:03:03.520358Z"
    },
    "hidden": true
   },
   "outputs": [],
   "source": [
    "# Hc mix composition\n",
    "aux = ''\n",
    "for p in processes:\n",
    "    if p == 'DstmD0': aux += ' 1.'\n",
    "    else: aux += ' -'\n",
    "card += 'BrB02DstD0Kp shape' + aux*nCat + '\\n'\n",
    "card += 'BrB02DstD0Kstp shape' + aux*nCat + '\\n'\n",
    "card += 'BrB02DstDst0Kp shape' + aux*nCat + '\\n'\n",
    "card += 'BrB02DstDst0Kstp shape' + aux*nCat + '\\n'\n",
    "\n",
    "aux = ''\n",
    "for p in processes:\n",
    "    if p == 'DstmDp': aux += ' 1.'\n",
    "    else: aux += ' -'\n",
    "card += 'BrB02DstDpK0 shape' + aux*nCat + '\\n'\n",
    "card += 'BrB02DstDpKst0 shape' + aux*nCat + '\\n'\n",
    "\n",
    "aux = ''\n",
    "for p in processes:\n",
    "    if p == 'DstmDp' or p == 'DstmD0': aux += ' 1.'\n",
    "    else: aux += ' -'\n",
    "card += 'BrB02DstDstpK0 shape' + aux*nCat + '\\n'\n",
    "card += 'BrB02DstDstpKst0 shape' + aux*nCat + '\\n'\n",
    "\n",
    "aux = ''\n",
    "for p in processes:\n",
    "    if p == 'DstmDsp': aux += ' 1.'\n",
    "    else: aux += ' -'\n",
    "card += 'BrB02DstDs shape' + aux*nCat + '\\n'\n",
    "card += 'BrB02DstDsst shape' + aux*nCat + '\\n'\n",
    "card += 'BrB02DstDs0st shape' + aux*nCat + '\\n'"
   ]
  },
  {
   "cell_type": "markdown",
   "metadata": {
    "hidden": true
   },
   "source": [
    "### MC statistic systematics"
   ]
  },
  {
   "cell_type": "code",
   "execution_count": 46,
   "metadata": {
    "ExecuteTime": {
     "end_time": "2020-05-20T17:03:03.613701Z",
     "start_time": "2020-05-20T17:03:03.568046Z"
    },
    "hidden": true
   },
   "outputs": [],
   "source": [
    "# card += '* autoMCStats 0 1 1\\n'\n",
    "card += '* autoMCStats 20 1 1\\n'\n",
    "card += '--------------------------------------------------------------\\n'"
   ]
  },
  {
   "cell_type": "markdown",
   "metadata": {
    "heading_collapsed": true,
    "hidden": true
   },
   "source": [
    "### Defining groups of systematics"
   ]
  },
  {
   "cell_type": "code",
   "execution_count": 47,
   "metadata": {
    "ExecuteTime": {
     "end_time": "2020-05-20T17:03:03.702356Z",
     "start_time": "2020-05-20T17:03:03.620467Z"
    },
    "hidden": true
   },
   "outputs": [],
   "source": [
    "# autoMCStats group = defined by default when using autoMCStats\n",
    "aux_FF = ' '.join(['B2DstCLN'+n for n in ['R0', 'R1', 'R2', 'RhoSq']])\n",
    "card += 'B2DstFF group = ' + aux_FF + '\\n'\n",
    "\n",
    "card += 'normMC group = xsecpp2bbXlumi b2B0Had b2BpHad\\n'\n",
    "\n",
    "card += 'knownBr group = ' + ' '.join([n+'Br' for n in processes if not n == 'tau']) + '\\n'\n",
    "\n",
    "card += 'allShape group = trgSF muonIdSF B0pT ' + aux_FF + '\\n'"
   ]
  },
  {
   "cell_type": "markdown",
   "metadata": {
    "heading_collapsed": true,
    "hidden": true
   },
   "source": [
    "## Create output"
   ]
  },
  {
   "cell_type": "code",
   "execution_count": 48,
   "metadata": {
    "ExecuteTime": {
     "end_time": "2020-05-20T17:03:03.775213Z",
     "start_time": "2020-05-20T17:03:03.707382Z"
    },
    "hidden": true,
    "scrolled": false
   },
   "outputs": [
    {
     "name": "stdout",
     "output_type": "stream",
     "text": [
      "imax *\n",
      "jmax 9\n",
      "kmax *\n",
      "--------------------------------------------------------------\n",
      "shapes * AddTk_m_mHad ../data/_root/histos4combine/v8_low_AddTk_m_mHad.root $PROCESS $PROCESS__$SYSTEMATIC\n",
      "shapes * AddTk_mm_mHad ../data/_root/histos4combine/v8_low_AddTk_mm_mHad.root $PROCESS $PROCESS__$SYSTEMATIC\n",
      "shapes * AddTk_p_mHad ../data/_root/histos4combine/v8_low_AddTk_p_mHad.root $PROCESS $PROCESS__$SYSTEMATIC\n",
      "shapes * AddTk_pm_mHad ../data/_root/histos4combine/v8_low_AddTk_pm_mHad.root $PROCESS $PROCESS__$SYSTEMATIC\n",
      "shapes * AddTk_pm_mVis ../data/_root/histos4combine/v8_low_AddTk_pm_mVis.root $PROCESS $PROCESS__$SYSTEMATIC\n",
      "shapes * AddTk_pp_mHad ../data/_root/histos4combine/v8_low_AddTk_pp_mHad.root $PROCESS $PROCESS__$SYSTEMATIC\n",
      "shapes * Est_mu_q2bin0 ../data/_root/histos4combine/v8_low_Est_mu_q2bin0.root $PROCESS $PROCESS__$SYSTEMATIC\n",
      "shapes * Est_mu_q2bin1 ../data/_root/histos4combine/v8_low_Est_mu_q2bin1.root $PROCESS $PROCESS__$SYSTEMATIC\n",
      "shapes * M2_miss_q2bin0 ../data/_root/histos4combine/v8_low_M2_miss_q2bin0.root $PROCESS $PROCESS__$SYSTEMATIC\n",
      "shapes * M2_miss_q2bin1 ../data/_root/histos4combine/v8_low_M2_miss_q2bin1.root $PROCESS $PROCESS__$SYSTEMATIC\n",
      "--------------------------------------------------------------\n",
      "bin AddTk_m_mHad AddTk_mm_mHad AddTk_p_mHad AddTk_pm_mHad AddTk_pm_mVis AddTk_pp_mHad Est_mu_q2bin0 Est_mu_q2bin1 M2_miss_q2bin0 M2_miss_q2bin1\n",
      "observation 9533 410 18420 3163 3251 821 32093 65994 32093 65994\n",
      "--------------------------------------------------------------\n",
      "bin AddTk_m_mHad AddTk_m_mHad AddTk_m_mHad AddTk_m_mHad AddTk_m_mHad AddTk_m_mHad AddTk_m_mHad AddTk_m_mHad AddTk_m_mHad AddTk_m_mHad AddTk_mm_mHad AddTk_mm_mHad AddTk_mm_mHad AddTk_mm_mHad AddTk_mm_mHad AddTk_mm_mHad AddTk_mm_mHad AddTk_mm_mHad AddTk_mm_mHad AddTk_mm_mHad AddTk_p_mHad AddTk_p_mHad AddTk_p_mHad AddTk_p_mHad AddTk_p_mHad AddTk_p_mHad AddTk_p_mHad AddTk_p_mHad AddTk_p_mHad AddTk_p_mHad AddTk_pm_mHad AddTk_pm_mHad AddTk_pm_mHad AddTk_pm_mHad AddTk_pm_mHad AddTk_pm_mHad AddTk_pm_mHad AddTk_pm_mHad AddTk_pm_mHad AddTk_pm_mHad AddTk_pm_mVis AddTk_pm_mVis AddTk_pm_mVis AddTk_pm_mVis AddTk_pm_mVis AddTk_pm_mVis AddTk_pm_mVis AddTk_pm_mVis AddTk_pm_mVis AddTk_pm_mVis AddTk_pp_mHad AddTk_pp_mHad AddTk_pp_mHad AddTk_pp_mHad AddTk_pp_mHad AddTk_pp_mHad AddTk_pp_mHad AddTk_pp_mHad AddTk_pp_mHad AddTk_pp_mHad Est_mu_q2bin0 Est_mu_q2bin0 Est_mu_q2bin0 Est_mu_q2bin0 Est_mu_q2bin0 Est_mu_q2bin0 Est_mu_q2bin0 Est_mu_q2bin0 Est_mu_q2bin0 Est_mu_q2bin0 Est_mu_q2bin1 Est_mu_q2bin1 Est_mu_q2bin1 Est_mu_q2bin1 Est_mu_q2bin1 Est_mu_q2bin1 Est_mu_q2bin1 Est_mu_q2bin1 Est_mu_q2bin1 Est_mu_q2bin1 M2_miss_q2bin0 M2_miss_q2bin0 M2_miss_q2bin0 M2_miss_q2bin0 M2_miss_q2bin0 M2_miss_q2bin0 M2_miss_q2bin0 M2_miss_q2bin0 M2_miss_q2bin0 M2_miss_q2bin0 M2_miss_q2bin1 M2_miss_q2bin1 M2_miss_q2bin1 M2_miss_q2bin1 M2_miss_q2bin1 M2_miss_q2bin1 M2_miss_q2bin1 M2_miss_q2bin1 M2_miss_q2bin1 M2_miss_q2bin1\n",
      "process tau mu DstmD0 DstmDp DstmDsp DstPip DstPipPi0 DstPi0 DstPipPim DstPi0Pi0 tau mu DstmD0 DstmDp DstmDsp DstPip DstPipPi0 DstPi0 DstPipPim DstPi0Pi0 tau mu DstmD0 DstmDp DstmDsp DstPip DstPipPi0 DstPi0 DstPipPim DstPi0Pi0 tau mu DstmD0 DstmDp DstmDsp DstPip DstPipPi0 DstPi0 DstPipPim DstPi0Pi0 tau mu DstmD0 DstmDp DstmDsp DstPip DstPipPi0 DstPi0 DstPipPim DstPi0Pi0 tau mu DstmD0 DstmDp DstmDsp DstPip DstPipPi0 DstPi0 DstPipPim DstPi0Pi0 tau mu DstmD0 DstmDp DstmDsp DstPip DstPipPi0 DstPi0 DstPipPim DstPi0Pi0 tau mu DstmD0 DstmDp DstmDsp DstPip DstPipPi0 DstPi0 DstPipPim DstPi0Pi0 tau mu DstmD0 DstmDp DstmDsp DstPip DstPipPi0 DstPi0 DstPipPim DstPi0Pi0 tau mu DstmD0 DstmDp DstmDsp DstPip DstPipPi0 DstPi0 DstPipPim DstPi0Pi0\n",
      "process 0 1 2 3 4 5 6 7 8 9 0 1 2 3 4 5 6 7 8 9 0 1 2 3 4 5 6 7 8 9 0 1 2 3 4 5 6 7 8 9 0 1 2 3 4 5 6 7 8 9 0 1 2 3 4 5 6 7 8 9 0 1 2 3 4 5 6 7 8 9 0 1 2 3 4 5 6 7 8 9 0 1 2 3 4 5 6 7 8 9 0 1 2 3 4 5 6 7 8 9\n",
      "rate 243.17 5892.23 43.76 23.42 79.41 257.09 25.35 272.87 377.51 25.94 9.49 244.91 1.41 0.61 3.21 10.24 0.29 13.36 14.83 0.86 280.23 6725.59 95.87 28.69 80.04 6438.41 740.93 292.56 410.65 27.23 34.75 829.53 200.29 56.45 102.02 407.44 42.34 41.92 840.89 4.19 37.10 830.31 210.97 56.81 111.68 411.16 42.58 41.92 841.71 4.19 13.20 318.22 5.01 1.44 4.91 241.34 31.80 18.97 21.55 1.99 74.80 24695.52 0.41 0.88 62.96 437.89 8.01 613.84 6.60 12.24 1531.74 47353.69 2.26 10.02 559.22 1739.52 126.94 2143.13 86.99 156.90 74.80 24695.52 0.41 0.88 62.96 437.89 8.01 613.84 6.60 12.24 1531.74 47353.69 2.26 10.02 559.22 1739.52 126.94 2143.13 86.99 156.90\n",
      "--------------------------------------------------------------\n",
      "xsecpp2bbXlumi lnN 1.9 1.9 1.9 1.9 1.9 1.9 1.9 1.9 1.9 1.9 1.9 1.9 1.9 1.9 1.9 1.9 1.9 1.9 1.9 1.9 1.9 1.9 1.9 1.9 1.9 1.9 1.9 1.9 1.9 1.9 1.9 1.9 1.9 1.9 1.9 1.9 1.9 1.9 1.9 1.9 1.9 1.9 1.9 1.9 1.9 1.9 1.9 1.9 1.9 1.9 1.9 1.9 1.9 1.9 1.9 1.9 1.9 1.9 1.9 1.9 1.9 1.9 1.9 1.9 1.9 1.9 1.9 1.9 1.9 1.9 1.9 1.9 1.9 1.9 1.9 1.9 1.9 1.9 1.9 1.9 1.9 1.9 1.9 1.9 1.9 1.9 1.9 1.9 1.9 1.9 1.9 1.9 1.9 1.9 1.9 1.9 1.9 1.9 1.9 1.9\n",
      "b2B0Had lnN 3 3 3 3 3 - - 3 3 3 3 3 3 3 3 - - 3 3 3 3 3 3 3 3 - - 3 3 3 3 3 3 3 3 - - 3 3 3 3 3 3 3 3 - - 3 3 3 3 3 3 3 3 - - 3 3 3 3 3 3 3 3 - - 3 3 3 3 3 3 3 3 - - 3 3 3 3 3 3 3 3 - - 3 3 3 3 3 3 3 3 - - 3 3 3\n",
      "b2BpHad lnN - - - - - 3 3 - - - - - - - - 3 3 - - - - - - - - 3 3 - - - - - - - - 3 3 - - - - - - - - 3 3 - - - - - - - - 3 3 - - - - - - - - 3 3 - - - - - - - - 3 3 - - - - - - - - 3 3 - - - - - - - - 3 3 - - -\n",
      "muBr lnN - 1.03 - - - - - - - - - 1.03 - - - - - - - - - 1.03 - - - - - - - - - 1.03 - - - - - - - - - 1.03 - - - - - - - - - 1.03 - - - - - - - - - 1.03 - - - - - - - - - 1.03 - - - - - - - - - 1.03 - - - - - - - - - 1.03 - - - - - - - -\n",
      "DstmD0Br lnN - - 1.09 - - - - - - - - - 1.09 - - - - - - - - - 1.09 - - - - - - - - - 1.09 - - - - - - - - - 1.09 - - - - - - - - - 1.09 - - - - - - - - - 1.09 - - - - - - - - - 1.09 - - - - - - - - - 1.09 - - - - - - - - - 1.09 - - - - - - -\n",
      "DstmDpBr lnN - - - 1.18 - - - - - - - - - 1.18 - - - - - - - - - 1.18 - - - - - - - - - 1.18 - - - - - - - - - 1.18 - - - - - - - - - 1.18 - - - - - - - - - 1.18 - - - - - - - - - 1.18 - - - - - - - - - 1.18 - - - - - - - - - 1.18 - - - - - -\n",
      "DstmDspBr lnN - - - - 1.11 - - - - - - - - - 1.11 - - - - - - - - - 1.11 - - - - - - - - - 1.11 - - - - - - - - - 1.11 - - - - - - - - - 1.11 - - - - - - - - - 1.11 - - - - - - - - - 1.11 - - - - - - - - - 1.11 - - - - - - - - - 1.11 - - - - -\n",
      "DstPipBr lnN - - - - - 1.07 - - - - - - - - - 1.07 - - - - - - - - - 1.07 - - - - - - - - - 1.07 - - - - - - - - - 1.07 - - - - - - - - - 1.07 - - - - - - - - - 1.07 - - - - - - - - - 1.07 - - - - - - - - - 1.07 - - - - - - - - - 1.07 - - - -\n",
      "DstPipPi0Br lnN - - - - - - 1.36 - - - - - - - - - 1.36 - - - - - - - - - 1.36 - - - - - - - - - 1.36 - - - - - - - - - 1.36 - - - - - - - - - 1.36 - - - - - - - - - 1.36 - - - - - - - - - 1.36 - - - - - - - - - 1.36 - - - - - - - - - 1.36 - - -\n",
      "DstPi0Br lnN - - - - - - - 1.33 - - - - - - - - - 1.33 - - - - - - - - - 1.33 - - - - - - - - - 1.33 - - - - - - - - - 1.33 - - - - - - - - - 1.33 - - - - - - - - - 1.33 - - - - - - - - - 1.33 - - - - - - - - - 1.33 - - - - - - - - - 1.33 - -\n",
      "DstPipPimBr lnN - - - - - - - - 1.36 - - - - - - - - - 1.36 - - - - - - - - - 1.36 - - - - - - - - - 1.36 - - - - - - - - - 1.36 - - - - - - - - - 1.36 - - - - - - - - - 1.36 - - - - - - - - - 1.36 - - - - - - - - - 1.36 - - - - - - - - - 1.36 -\n",
      "DstPi0Pi0Br lnN - - - - - - - - - 1.37 - - - - - - - - - 1.37 - - - - - - - - - 1.37 - - - - - - - - - 1.37 - - - - - - - - - 1.37 - - - - - - - - - 1.37 - - - - - - - - - 1.37 - - - - - - - - - 1.37 - - - - - - - - - 1.37 - - - - - - - - - 1.37\n",
      "--------------------------------------------------------------\n",
      "pAddTk param 1.0 0.15\n",
      "pAddTk rateParam AddTk_p_mHad tau 1\n",
      "pAddTk rateParam AddTk_p_mHad mu 1\n",
      "pAddTk rateParam AddTk_p_mHad DstPi0 1\n",
      "pAddTk rateParam AddTk_p_mHad DstPi0Pi0 1\n",
      "pAddTk rateParam AddTk_m_mHad tau 1\n",
      "pAddTk rateParam AddTk_m_mHad mu 1\n",
      "pAddTk rateParam AddTk_m_mHad DstPi0 1\n",
      "pAddTk rateParam AddTk_m_mHad DstPi0Pi0 1\n",
      "pAddTk rateParam AddTk_m_mHad DstPip 1\n",
      "pAddTk rateParam AddTk_m_mHad DstPipPi0 1\n",
      "pAddTk rateParam AddTk_pp_mHad DstPip 1\n",
      "pAddTk rateParam AddTk_pp_mHad DstPipPi0 1\n",
      "pAddTk rateParam AddTk_pp_mHad DstPipPim 1\n",
      "pAddTk rateParam AddTk_pp_mHad DstmD0 1\n",
      "pAddTk rateParam AddTk_pp_mHad DstmDp 1\n",
      "pAddTk rateParam AddTk_pp_mHad DstmDsp 1\n",
      "pAddTk rateParam AddTk_pm_mHad DstPip 1\n",
      "pAddTk rateParam AddTk_pm_mVis DstPip 1\n",
      "pAddTk rateParam AddTk_pm_mHad DstPipPi0 1\n",
      "pAddTk rateParam AddTk_pm_mVis DstPipPi0 1\n",
      "pAddTk rateParam AddTk_mm_mHad DstPipPim 1\n",
      "pAddTk rateParam AddTk_mm_mHad DstmD0 1\n",
      "pAddTk rateParam AddTk_mm_mHad DstmDp 1\n",
      "pAddTk rateParam AddTk_mm_mHad DstmDsp 1\n",
      "pAddTk2 rateParam AddTk_pp_mHad tau @0*@0 pAddTk\n",
      "pAddTk2 rateParam AddTk_pp_mHad mu @0*@0 pAddTk\n",
      "pAddTk2 rateParam AddTk_pp_mHad DstPi0 @0*@0 pAddTk\n",
      "pAddTk2 rateParam AddTk_pp_mHad DstPi0Pi0 @0*@0 pAddTk\n",
      "pAddTk2 rateParam AddTk_pm_mHad tau @0*@0 pAddTk\n",
      "pAddTk2 rateParam AddTk_pm_mVis tau @0*@0 pAddTk\n",
      "pAddTk2 rateParam AddTk_pm_mHad mu @0*@0 pAddTk\n",
      "pAddTk2 rateParam AddTk_pm_mVis mu @0*@0 pAddTk\n",
      "pAddTk2 rateParam AddTk_pm_mHad DstPi0 @0*@0 pAddTk\n",
      "pAddTk2 rateParam AddTk_pm_mVis DstPi0 @0*@0 pAddTk\n",
      "pAddTk2 rateParam AddTk_pm_mHad DstPi0Pi0 @0*@0 pAddTk\n",
      "pAddTk2 rateParam AddTk_pm_mVis DstPi0Pi0 @0*@0 pAddTk\n",
      "pAddTk2 rateParam AddTk_mm_mHad tau @0*@0 pAddTk\n",
      "pAddTk2 rateParam AddTk_mm_mHad mu @0*@0 pAddTk\n",
      "pAddTk2 rateParam AddTk_mm_mHad DstPi0 @0*@0 pAddTk\n",
      "pAddTk2 rateParam AddTk_mm_mHad DstPi0Pi0 @0*@0 pAddTk\n",
      "pAddTk2 rateParam AddTk_mm_mHad DstPip @0*@0 pAddTk\n",
      "pAddTk2 rateParam AddTk_mm_mHad DstPipPi0 @0*@0 pAddTk\n",
      "--------------------------------------------------------------\n",
      "trgSF shape 1. 1. 1. 1. 1. 1. 1. 1. 1. 1. 1. 1. 1. 1. 1. 1. 1. 1. 1. 1. 1. 1. 1. 1. 1. 1. 1. 1. 1. 1. 1. 1. 1. 1. 1. 1. 1. 1. 1. 1. 1. 1. 1. 1. 1. 1. 1. 1. 1. 1. 1. 1. 1. 1. 1. 1. 1. 1. 1. 1. 1. 1. 1. 1. 1. 1. 1. 1. 1. 1. 1. 1. 1. 1. 1. 1. 1. 1. 1. 1. 1. 1. 1. 1. 1. 1. 1. 1. 1. 1. 1. 1. 1. 1. 1. 1. 1. 1. 1. 1.\n",
      "muonIdSF shape 1. 1. 1. 1. 1. 1. 1. 1. 1. 1. 1. 1. 1. 1. 1. 1. 1. 1. 1. 1. 1. 1. 1. 1. 1. 1. 1. 1. 1. 1. 1. 1. 1. 1. 1. 1. 1. 1. 1. 1. 1. 1. 1. 1. 1. 1. 1. 1. 1. 1. 1. 1. 1. 1. 1. 1. 1. 1. 1. 1. 1. 1. 1. 1. 1. 1. 1. 1. 1. 1. 1. 1. 1. 1. 1. 1. 1. 1. 1. 1. 1. 1. 1. 1. 1. 1. 1. 1. 1. 1. 1. 1. 1. 1. 1. 1. 1. 1. 1. 1.\n",
      "tkPVfrac shape 1. 1. 1. 1. 1. 1. 1. 1. 1. 1. 1. 1. 1. 1. 1. 1. 1. 1. 1. 1. 1. 1. 1. 1. 1. 1. 1. 1. 1. 1. 1. 1. 1. 1. 1. 1. 1. 1. 1. 1. 1. 1. 1. 1. 1. 1. 1. 1. 1. 1. 1. 1. 1. 1. 1. 1. 1. 1. 1. 1. - - - - - - - - - - - - - - - - - - - - - - - - - - - - - - - - - - - - - - - -\n",
      "B0pT shape 1. 1. 1. 1. 1. - - 1. 1. 1. 1. 1. 1. 1. 1. - - 1. 1. 1. 1. 1. 1. 1. 1. - - 1. 1. 1. 1. 1. 1. 1. 1. - - 1. 1. 1. 1. 1. 1. 1. 1. - - 1. 1. 1. 1. 1. 1. 1. 1. - - 1. 1. 1. 1. 1. 1. 1. 1. - - 1. 1. 1. 1. 1. 1. 1. 1. - - 1. 1. 1. 1. 1. 1. 1. 1. - - 1. 1. 1. 1. 1. 1. 1. 1. - - 1. 1. 1.\n",
      "B2DstCLNR0 shape 1. 1. - - - - - - - - 1. 1. - - - - - - - - 1. 1. - - - - - - - - 1. 1. - - - - - - - - 1. 1. - - - - - - - - 1. 1. - - - - - - - - 1. 1. - - - - - - - - 1. 1. - - - - - - - - 1. 1. - - - - - - - - 1. 1. - - - - - - - -\n",
      "B2DstCLNR1 shape 1. 1. - - - - - - - - 1. 1. - - - - - - - - 1. 1. - - - - - - - - 1. 1. - - - - - - - - 1. 1. - - - - - - - - 1. 1. - - - - - - - - 1. 1. - - - - - - - - 1. 1. - - - - - - - - 1. 1. - - - - - - - - 1. 1. - - - - - - - -\n",
      "B2DstCLNR2 shape 1. 1. - - - - - - - - 1. 1. - - - - - - - - 1. 1. - - - - - - - - 1. 1. - - - - - - - - 1. 1. - - - - - - - - 1. 1. - - - - - - - - 1. 1. - - - - - - - - 1. 1. - - - - - - - - 1. 1. - - - - - - - - 1. 1. - - - - - - - -\n",
      "B2DstCLNRhoSq shape 1. 1. - - - - - - - - 1. 1. - - - - - - - - 1. 1. - - - - - - - - 1. 1. - - - - - - - - 1. 1. - - - - - - - - 1. 1. - - - - - - - - 1. 1. - - - - - - - - 1. 1. - - - - - - - - 1. 1. - - - - - - - - 1. 1. - - - - - - - -\n",
      "BrB02DstD0Kp shape - - 1. - - - - - - - - - 1. - - - - - - - - - 1. - - - - - - - - - 1. - - - - - - - - - 1. - - - - - - - - - 1. - - - - - - - - - 1. - - - - - - - - - 1. - - - - - - - - - 1. - - - - - - - - - 1. - - - - - - -\n",
      "BrB02DstD0Kstp shape - - 1. - - - - - - - - - 1. - - - - - - - - - 1. - - - - - - - - - 1. - - - - - - - - - 1. - - - - - - - - - 1. - - - - - - - - - 1. - - - - - - - - - 1. - - - - - - - - - 1. - - - - - - - - - 1. - - - - - - -\n",
      "BrB02DstDst0Kp shape - - 1. - - - - - - - - - 1. - - - - - - - - - 1. - - - - - - - - - 1. - - - - - - - - - 1. - - - - - - - - - 1. - - - - - - - - - 1. - - - - - - - - - 1. - - - - - - - - - 1. - - - - - - - - - 1. - - - - - - -\n",
      "BrB02DstDst0Kstp shape - - 1. - - - - - - - - - 1. - - - - - - - - - 1. - - - - - - - - - 1. - - - - - - - - - 1. - - - - - - - - - 1. - - - - - - - - - 1. - - - - - - - - - 1. - - - - - - - - - 1. - - - - - - - - - 1. - - - - - - -\n",
      "BrB02DstDpK0 shape - - - 1. - - - - - - - - - 1. - - - - - - - - - 1. - - - - - - - - - 1. - - - - - - - - - 1. - - - - - - - - - 1. - - - - - - - - - 1. - - - - - - - - - 1. - - - - - - - - - 1. - - - - - - - - - 1. - - - - - -\n",
      "BrB02DstDpKst0 shape - - - 1. - - - - - - - - - 1. - - - - - - - - - 1. - - - - - - - - - 1. - - - - - - - - - 1. - - - - - - - - - 1. - - - - - - - - - 1. - - - - - - - - - 1. - - - - - - - - - 1. - - - - - - - - - 1. - - - - - -\n",
      "BrB02DstDstpK0 shape - - 1. 1. - - - - - - - - 1. 1. - - - - - - - - 1. 1. - - - - - - - - 1. 1. - - - - - - - - 1. 1. - - - - - - - - 1. 1. - - - - - - - - 1. 1. - - - - - - - - 1. 1. - - - - - - - - 1. 1. - - - - - - - - 1. 1. - - - - - -\n",
      "BrB02DstDstpKst0 shape - - 1. 1. - - - - - - - - 1. 1. - - - - - - - - 1. 1. - - - - - - - - 1. 1. - - - - - - - - 1. 1. - - - - - - - - 1. 1. - - - - - - - - 1. 1. - - - - - - - - 1. 1. - - - - - - - - 1. 1. - - - - - - - - 1. 1. - - - - - -\n",
      "BrB02DstDs shape - - - - 1. - - - - - - - - - 1. - - - - - - - - - 1. - - - - - - - - - 1. - - - - - - - - - 1. - - - - - - - - - 1. - - - - - - - - - 1. - - - - - - - - - 1. - - - - - - - - - 1. - - - - - - - - - 1. - - - - -\n",
      "BrB02DstDsst shape - - - - 1. - - - - - - - - - 1. - - - - - - - - - 1. - - - - - - - - - 1. - - - - - - - - - 1. - - - - - - - - - 1. - - - - - - - - - 1. - - - - - - - - - 1. - - - - - - - - - 1. - - - - - - - - - 1. - - - - -\n",
      "BrB02DstDs0st shape - - - - 1. - - - - - - - - - 1. - - - - - - - - - 1. - - - - - - - - - 1. - - - - - - - - - 1. - - - - - - - - - 1. - - - - - - - - - 1. - - - - - - - - - 1. - - - - - - - - - 1. - - - - - - - - - 1. - - - - -\n",
      "* autoMCStats 20 1 1\n",
      "--------------------------------------------------------------\n",
      "B2DstFF group = B2DstCLNR0 B2DstCLNR1 B2DstCLNR2 B2DstCLNRhoSq\n",
      "normMC group = xsecpp2bbXlumi b2B0Had b2BpHad\n",
      "knownBr group = muBr DstmD0Br DstmDpBr DstmDspBr DstPipBr DstPipPi0Br DstPi0Br DstPipPimBr DstPi0Pi0Br\n",
      "allShape group = trgSF muonIdSF B0pT B2DstCLNR0 B2DstCLNR1 B2DstCLNR2 B2DstCLNRhoSq\n",
      "\n"
     ]
    }
   ],
   "source": [
    "print card"
   ]
  },
  {
   "cell_type": "code",
   "execution_count": 49,
   "metadata": {
    "ExecuteTime": {
     "end_time": "2020-05-20T17:03:03.827463Z",
     "start_time": "2020-05-20T17:03:03.781546Z"
    },
    "hidden": true
   },
   "outputs": [],
   "source": [
    "card_location = 'cards/{}.txt'.format(card_name)\n",
    "fc = open(card_location, 'w')\n",
    "fc.write(card)\n",
    "fc.close()"
   ]
  },
  {
   "cell_type": "code",
   "execution_count": 50,
   "metadata": {
    "ExecuteTime": {
     "end_time": "2020-05-20T17:03:04.756036Z",
     "start_time": "2020-05-20T17:03:03.833587Z"
    },
    "hidden": true
   },
   "outputs": [],
   "source": [
    "outdir = 'results/' + card_name\n",
    "if os.path.isdir(outdir):\n",
    "    os.system('rm -rf ' + outdir)\n",
    "os.system('mkdir -p ' + outdir + '/fig');"
   ]
  },
  {
   "cell_type": "markdown",
   "metadata": {},
   "source": [
    "# Run Combine"
   ]
  },
  {
   "cell_type": "markdown",
   "metadata": {
    "heading_collapsed": true
   },
   "source": [
    "## Create the workspace"
   ]
  },
  {
   "cell_type": "code",
   "execution_count": 51,
   "metadata": {
    "ExecuteTime": {
     "end_time": "2020-05-20T17:03:19.223220Z",
     "start_time": "2020-05-20T17:03:04.763105Z"
    },
    "hidden": true,
    "scrolled": true
   },
   "outputs": [
    {
     "data": {
      "text/plain": [
       "0"
      ]
     },
     "execution_count": 51,
     "metadata": {},
     "output_type": "execute_result"
    },
    {
     "name": "stdout",
     "output_type": "stream",
     "text": [
      "Channel AddTk_m_mHad will use autoMCStats with settings: event-threshold=20, include-signal=1, hist-mode=1\n",
      "============================================================\n",
      "Analysing bin errors for: prop_binAddTk_m_mHad\n",
      "Poisson cut-off: 20\n",
      "============================================================\n",
      "Bin        Contents        Error           Notes                         \n",
      "0          22.518716       2.754788        total sum                     \n",
      "0          67.000000       8.185353        Unweighted events, alpha=0.336100\n",
      "  => Total parameter prop_binAddTk_m_mHad_bin0[0.00,-7.00,7.00] to be gaussian constrained\n",
      "------------------------------------------------------------\n",
      "1          763.366059      17.516611       total sum                     \n",
      "1          1899.000000     43.577517       Unweighted events, alpha=0.401983\n",
      "  => Total parameter prop_binAddTk_m_mHad_bin1[0.00,-7.00,7.00] to be gaussian constrained\n",
      "------------------------------------------------------------\n",
      "2          1186.269498     21.978348       total sum                     \n",
      "2          2913.000000     53.972215       Unweighted events, alpha=0.407233\n",
      "  => Total parameter prop_binAddTk_m_mHad_bin2[0.00,-7.00,7.00] to be gaussian constrained\n",
      "------------------------------------------------------------\n",
      "3          1037.400688     21.036827       total sum                     \n",
      "3          2432.000000     49.315312       Unweighted events, alpha=0.426563\n",
      "  => Total parameter prop_binAddTk_m_mHad_bin3[0.00,-7.00,7.00] to be gaussian constrained\n",
      "------------------------------------------------------------\n",
      "4          813.454570      18.636846       total sum                     \n",
      "4          1905.000000     43.646306       Unweighted events, alpha=0.427010\n",
      "  => Total parameter prop_binAddTk_m_mHad_bin4[0.00,-7.00,7.00] to be gaussian constrained\n",
      "------------------------------------------------------------\n",
      "5          688.432110      18.161469       total sum                     \n",
      "5          1437.000000     37.907783       Unweighted events, alpha=0.479076\n",
      "  => Total parameter prop_binAddTk_m_mHad_bin5[0.00,-7.00,7.00] to be gaussian constrained\n",
      "------------------------------------------------------------\n",
      "6          531.547389      15.163788       total sum                     \n",
      "6          1229.000000     35.057096       Unweighted events, alpha=0.432504\n",
      "  => Total parameter prop_binAddTk_m_mHad_bin6[0.00,-7.00,7.00] to be gaussian constrained\n",
      "------------------------------------------------------------\n",
      "7          429.497044      14.089102       total sum                     \n",
      "7          929.000000      30.479501       Unweighted events, alpha=0.462322\n",
      "  => Total parameter prop_binAddTk_m_mHad_bin7[0.00,-7.00,7.00] to be gaussian constrained\n",
      "------------------------------------------------------------\n",
      "8          348.856317      12.982930       total sum                     \n",
      "8          722.000000      26.870058       Unweighted events, alpha=0.483180\n",
      "  => Total parameter prop_binAddTk_m_mHad_bin8[0.00,-7.00,7.00] to be gaussian constrained\n",
      "------------------------------------------------------------\n",
      "9          264.113247      11.329581       total sum                     \n",
      "9          543.000000      23.302360       Unweighted events, alpha=0.486396\n",
      "  => Total parameter prop_binAddTk_m_mHad_bin9[0.00,-7.00,7.00] to be gaussian constrained\n",
      "------------------------------------------------------------\n",
      "10         190.644168      9.808457        total sum                     \n",
      "10         378.000000      19.442222       Unweighted events, alpha=0.504350\n",
      "  => Total parameter prop_binAddTk_m_mHad_bin10[0.00,-7.00,7.00] to be gaussian constrained\n",
      "------------------------------------------------------------\n",
      "11         158.491362      9.363487        total sum                     \n",
      "11         287.000000      16.941074       Unweighted events, alpha=0.552235\n",
      "  => Total parameter prop_binAddTk_m_mHad_bin11[0.00,-7.00,7.00] to be gaussian constrained\n",
      "------------------------------------------------------------\n",
      "12         128.987166      7.924167        total sum                     \n",
      "12         265.000000      16.278821       Unweighted events, alpha=0.486744\n",
      "  => Total parameter prop_binAddTk_m_mHad_bin12[0.00,-7.00,7.00] to be gaussian constrained\n",
      "------------------------------------------------------------\n",
      "13         117.256333      8.130883        total sum                     \n",
      "13         208.000000      14.422205       Unweighted events, alpha=0.563732\n",
      "  => Total parameter prop_binAddTk_m_mHad_bin13[0.00,-7.00,7.00] to be gaussian constrained\n",
      "------------------------------------------------------------\n",
      "14         101.474087      7.080185        total sum                     \n",
      "14         205.000000      14.317821       Unweighted events, alpha=0.494996\n",
      "  => Total parameter prop_binAddTk_m_mHad_bin14[0.00,-7.00,7.00] to be gaussian constrained\n",
      "------------------------------------------------------------\n",
      "15         76.226126       6.096951        total sum                     \n",
      "15         156.000000      12.489996       Unweighted events, alpha=0.488629\n",
      "  => Total parameter prop_binAddTk_m_mHad_bin15[0.00,-7.00,7.00] to be gaussian constrained\n",
      "------------------------------------------------------------\n",
      "16         69.677660       5.696864        total sum                     \n",
      "16         150.000000      12.247449       Unweighted events, alpha=0.464518\n",
      "  => Total parameter prop_binAddTk_m_mHad_bin16[0.00,-7.00,7.00] to be gaussian constrained\n",
      "------------------------------------------------------------\n",
      "17         54.598038       4.508309        total sum                     \n",
      "17         147.000000      12.124356       Unweighted events, alpha=0.371415\n",
      "  => Total parameter prop_binAddTk_m_mHad_bin17[0.00,-7.00,7.00] to be gaussian constrained\n",
      "------------------------------------------------------------\n",
      "18         48.643184       4.986299        total sum                     \n",
      "18         95.000000       9.746794        Unweighted events, alpha=0.512034\n",
      "  => Total parameter prop_binAddTk_m_mHad_bin18[0.00,-7.00,7.00] to be gaussian constrained\n",
      "------------------------------------------------------------\n",
      "19         33.125335       3.467688        total sum                     \n",
      "19         91.000000       9.539392        Unweighted events, alpha=0.364015\n",
      "  => Total parameter prop_binAddTk_m_mHad_bin19[0.00,-7.00,7.00] to be gaussian constrained\n",
      "------------------------------------------------------------\n",
      "20         29.357280       3.376819        total sum                     \n",
      "20         76.000000       8.717798        Unweighted events, alpha=0.386280\n",
      "  => Total parameter prop_binAddTk_m_mHad_bin20[0.00,-7.00,7.00] to be gaussian constrained\n",
      "------------------------------------------------------------\n",
      "21         27.617053       3.956465        total sum                     \n",
      "21         49.000000       7.000000        Unweighted events, alpha=0.563613\n",
      "  => Total parameter prop_binAddTk_m_mHad_bin21[0.00,-7.00,7.00] to be gaussian constrained\n",
      "------------------------------------------------------------\n",
      "22         26.155836       3.831132        total sum                     \n",
      "22         47.000000       6.855655        Unweighted events, alpha=0.556507\n",
      "  => Total parameter prop_binAddTk_m_mHad_bin22[0.00,-7.00,7.00] to be gaussian constrained\n",
      "------------------------------------------------------------\n",
      "23         19.558641       2.591858        total sum                     \n",
      "23         57.000000       7.549834        Unweighted events, alpha=0.343134\n",
      "  => Total parameter prop_binAddTk_m_mHad_bin23[0.00,-7.00,7.00] to be gaussian constrained\n",
      "------------------------------------------------------------\n",
      "24         18.693470       2.776049        total sum                     \n",
      "24         45.000000       6.708204        Unweighted events, alpha=0.415410\n",
      "  => Total parameter prop_binAddTk_m_mHad_bin24[0.00,-7.00,7.00] to be gaussian constrained\n",
      "------------------------------------------------------------\n",
      "25         16.103511       3.091554        total sum                     \n",
      "25         27.000000       5.196152        Unweighted events, alpha=0.596426\n",
      "  => Total parameter prop_binAddTk_m_mHad_bin25[0.00,-7.00,7.00] to be gaussian constrained\n",
      "------------------------------------------------------------\n",
      "26         12.463302       1.982572        total sum                     \n",
      "26         40.000000       6.324555        Unweighted events, alpha=0.311583\n",
      "  => Total parameter prop_binAddTk_m_mHad_bin26[0.00,-7.00,7.00] to be gaussian constrained\n",
      "------------------------------------------------------------\n",
      "27         11.245782       2.425995        total sum                     \n",
      "27         21.000000       4.582576        Unweighted events, alpha=0.535513\n",
      "  => Total parameter prop_binAddTk_m_mHad_bin27[0.00,-7.00,7.00] to be gaussian constrained\n",
      "------------------------------------------------------------\n",
      "28         10.907969       1.977363        total sum                     \n",
      "28         30.000000       5.477226        Unweighted events, alpha=0.363599\n",
      "  => Total parameter prop_binAddTk_m_mHad_bin28[0.00,-7.00,7.00] to be gaussian constrained\n",
      "------------------------------------------------------------\n",
      "29         4.064178        0.924800        total sum                     \n",
      "29         19.000000       4.358899        Unweighted events, alpha=0.213904\n",
      "  => Number of weighted events is below poisson threshold\n",
      "    tau                  0.057933        0.056622                                      \n",
      "                         1.000000        1.000000        Unweighted events, alpha=0.057933\n",
      "      => Product of prop_binAddTk_m_mHad_bin29_tau[1.00,0.00,30.85] and const [1.0000] to be poisson constrained\n",
      "  ----------------------------------------------------------\n",
      "    DstmDp               0.000000        0.000000                                      \n",
      "      => Error is zero, ignore      \n",
      "  ----------------------------------------------------------\n",
      "    DstPipPi0            0.000000        0.000000                                      \n",
      "      => Error is zero, ignore      \n",
      "  ----------------------------------------------------------\n",
      "    DstPip               0.113427        0.111331                                      \n",
      "                         1.000000        1.000000        Unweighted events, alpha=0.113427\n",
      "      => Product of prop_binAddTk_m_mHad_bin29_DstPip[1.00,0.00,30.85] and const [1.0000] to be poisson constrained\n",
      "  ----------------------------------------------------------\n",
      "    mu                   3.022022        0.865215                                      \n",
      "                         12.000000       3.464102        Unweighted events, alpha=0.251835\n",
      "      => Product of prop_binAddTk_m_mHad_bin29_mu[12.00,0.56,55.92] and const [0.0833] to be poisson constrained\n",
      "  ----------------------------------------------------------\n",
      "    DstmDsp              0.389468        0.220743                                      \n",
      "                         3.000000        1.732051        Unweighted events, alpha=0.129823\n",
      "      => Product of prop_binAddTk_m_mHad_bin29_DstmDsp[3.00,0.00,36.46] and const [0.3333] to be poisson constrained\n",
      "  ----------------------------------------------------------\n",
      "    DstPi0               0.229676        0.148084                                      \n",
      "                         2.000000        1.414214        Unweighted events, alpha=0.114838\n",
      "      => Product of prop_binAddTk_m_mHad_bin29_DstPi0[2.00,0.00,33.79] and const [0.5000] to be poisson constrained\n",
      "  ----------------------------------------------------------\n",
      "    DstPipPim            0.000000        0.000000                                      \n",
      "      => Error is zero, ignore      \n",
      "  ----------------------------------------------------------\n",
      "    DstmD0               0.170089        0.117258                                      \n",
      "                         2.000000        1.414214        Unweighted events, alpha=0.085045\n",
      "      => Product of prop_binAddTk_m_mHad_bin29_DstmD0[2.00,0.00,33.79] and const [0.5000] to be poisson constrained\n",
      "  ----------------------------------------------------------\n",
      "    DstPi0Pi0            0.081563        0.081563                                      \n",
      "                         1.000000        1.000000        Unweighted events, alpha=0.081563\n",
      "      => Product of prop_binAddTk_m_mHad_bin29_DstPi0Pi0[1.00,0.00,30.85] and const [1.0000] to be poisson constrained\n",
      "  ----------------------------------------------------------\n",
      "------------------------------------------------------------\n",
      "Channel AddTk_mm_mHad will use autoMCStats with settings: event-threshold=20, include-signal=1, hist-mode=1\n",
      "============================================================\n",
      "Analysing bin errors for: prop_binAddTk_mm_mHad\n",
      "Poisson cut-off: 20\n",
      "============================================================\n",
      "Bin        Contents        Error           Notes                         \n",
      "0          3.420377        0.957306        total sum                     \n",
      "0          13.000000       3.605551        Unweighted events, alpha=0.263106\n",
      "  => Number of weighted events is below poisson threshold\n",
      "    tau                  0.396450        0.290468                                      \n",
      "                         2.000000        1.414214        Unweighted events, alpha=0.198225\n",
      "      => Product of prop_binAddTk_mm_mHad_bin0_tau[2.00,0.00,33.79] and const [0.5000] to be poisson constrained\n",
      "  ----------------------------------------------------------\n",
      "    DstmDp               0.000000        0.000000                                      \n",
      "      => Error is zero, ignore      \n",
      "  ----------------------------------------------------------\n",
      "    DstPipPi0            0.000000        0.000000                                      \n",
      "      => Error is zero, ignore      \n",
      "  ----------------------------------------------------------\n",
      "    DstPip               0.000000        0.000000                                      \n",
      "      => Error is zero, ignore      \n",
      "  ----------------------------------------------------------\n",
      "    mu                   2.874030        0.905965                                      \n",
      "                         10.000000       3.162278        Unweighted events, alpha=0.287403\n",
      "      => Product of prop_binAddTk_mm_mHad_bin0_mu[10.00,0.30,52.00] and const [0.1000] to be poisson constrained\n",
      "  ----------------------------------------------------------\n",
      "    DstmDsp              0.000000        0.000000                                      \n",
      "      => Error is zero, ignore      \n",
      "  ----------------------------------------------------------\n",
      "    DstPi0               0.069741        0.069741                                      \n",
      "                         1.000000        1.000000        Unweighted events, alpha=0.069741\n",
      "      => Product of prop_binAddTk_mm_mHad_bin0_DstPi0[1.00,0.00,30.85] and const [1.0000] to be poisson constrained\n",
      "  ----------------------------------------------------------\n",
      "    DstPipPim            0.080157        0.080157                                      \n",
      "                         1.000000        1.000000        Unweighted events, alpha=0.080157\n",
      "      => Product of prop_binAddTk_mm_mHad_bin0_DstPipPim[1.00,0.00,30.85] and const [1.0000] to be poisson constrained\n",
      "  ----------------------------------------------------------\n",
      "    DstmD0               0.000000        0.000000                                      \n",
      "      => Error is zero, ignore      \n",
      "  ----------------------------------------------------------\n",
      "    DstPi0Pi0            0.000000        0.000000                                      \n",
      "      => Error is zero, ignore      \n",
      "  ----------------------------------------------------------\n",
      "------------------------------------------------------------\n",
      "1          39.628320       6.873889        total sum                     \n",
      "1          33.000000       5.744563        Unweighted events, alpha=1.200858\n",
      "  => Total parameter prop_binAddTk_mm_mHad_bin1[0.00,-7.00,7.00] to be gaussian constrained\n",
      "------------------------------------------------------------\n",
      "2          51.717341       6.490464        total sum                     \n",
      "2          63.000000       7.937254        Unweighted events, alpha=0.820910\n",
      "  => Total parameter prop_binAddTk_mm_mHad_bin2[0.00,-7.00,7.00] to be gaussian constrained\n",
      "------------------------------------------------------------\n",
      "3          41.317755       4.704306        total sum                     \n",
      "3          77.000000       8.774964        Unweighted events, alpha=0.536594\n",
      "  => Total parameter prop_binAddTk_mm_mHad_bin3[0.00,-7.00,7.00] to be gaussian constrained\n",
      "------------------------------------------------------------\n",
      "4          46.689844       8.985742        total sum                     \n",
      "4          27.000000       5.196152        Unweighted events, alpha=1.729253\n",
      "  => Total parameter prop_binAddTk_mm_mHad_bin4[0.00,-7.00,7.00] to be gaussian constrained\n",
      "------------------------------------------------------------\n",
      "5          38.304435       6.929117        total sum                     \n",
      "5          31.000000       5.567764        Unweighted events, alpha=1.235627\n",
      "  => Total parameter prop_binAddTk_mm_mHad_bin5[0.00,-7.00,7.00] to be gaussian constrained\n",
      "------------------------------------------------------------\n",
      "6          25.840905       4.382409        total sum                     \n",
      "6          35.000000       5.916080        Unweighted events, alpha=0.738312\n",
      "  => Total parameter prop_binAddTk_mm_mHad_bin6[0.00,-7.00,7.00] to be gaussian constrained\n",
      "------------------------------------------------------------\n",
      "7          15.781061       5.013283        total sum                     \n",
      "7          10.000000       3.162278        Unweighted events, alpha=1.578106\n",
      "  => Number of weighted events is below poisson threshold\n",
      "    tau                  0.556769        0.556769                                      \n",
      "                         1.000000        1.000000        Unweighted events, alpha=0.556769\n",
      "      => Product of prop_binAddTk_mm_mHad_bin7_tau[1.00,0.00,30.85] and const [1.0000] to be poisson constrained\n",
      "  ----------------------------------------------------------\n",
      "    DstmDp               0.065198        0.047252                                      \n",
      "                         2.000000        1.414214        Unweighted events, alpha=0.032599\n",
      "      => Product of prop_binAddTk_mm_mHad_bin7_DstmDp[2.00,0.00,33.79] and const [0.5000] to be poisson constrained\n",
      "  ----------------------------------------------------------\n",
      "    DstPipPi0            0.133665        0.114889                                      \n",
      "                         1.000000        1.000000        Unweighted events, alpha=0.133665\n",
      "      => Product of prop_binAddTk_mm_mHad_bin7_DstPipPi0[1.00,0.00,30.85] and const [1.0000] to be poisson constrained\n",
      "  ----------------------------------------------------------\n",
      "    DstPip               2.013076        1.144453                                      \n",
      "                         3.000000        1.732051        Unweighted events, alpha=0.671025\n",
      "      => Product of prop_binAddTk_mm_mHad_bin7_DstPip[3.00,0.00,36.46] and const [0.3333] to be poisson constrained\n",
      "  ----------------------------------------------------------\n",
      "    mu                   11.650164       4.828342                                      \n",
      "                         6.000000        2.449490        Unweighted events, alpha=1.941694\n",
      "      => Product of prop_binAddTk_mm_mHad_bin7_mu[6.00,0.03,43.60] and const [0.1667] to be poisson constrained\n",
      "  ----------------------------------------------------------\n",
      "    DstmDsp              0.259312        0.108552                                      \n",
      "                         6.000000        2.449490        Unweighted events, alpha=0.043219\n",
      "      => Product of prop_binAddTk_mm_mHad_bin7_DstmDsp[6.00,0.03,43.60] and const [0.1667] to be poisson constrained\n",
      "  ----------------------------------------------------------\n",
      "    DstPi0               0.262243        0.167452                                      \n",
      "                         2.000000        1.414214        Unweighted events, alpha=0.131122\n",
      "      => Product of prop_binAddTk_mm_mHad_bin7_DstPi0[2.00,0.00,33.79] and const [0.5000] to be poisson constrained\n",
      "  ----------------------------------------------------------\n",
      "    DstPipPim            0.786346        0.378157                                      \n",
      "                         4.000000        2.000000        Unweighted events, alpha=0.196587\n",
      "      => Product of prop_binAddTk_mm_mHad_bin7_DstPipPim[4.00,0.00,38.96] and const [0.2500] to be poisson constrained\n",
      "  ----------------------------------------------------------\n",
      "    DstmD0               0.001600        0.001600                                      \n",
      "                         1.000000        1.000000        Unweighted events, alpha=0.001600\n",
      "      => Product of prop_binAddTk_mm_mHad_bin7_DstmD0[1.00,0.00,30.85] and const [1.0000] to be poisson constrained\n",
      "  ----------------------------------------------------------\n",
      "    DstPi0Pi0            0.052688        0.045685                                      \n",
      "                         1.000000        1.000000        Unweighted events, alpha=0.052688\n",
      "      => Product of prop_binAddTk_mm_mHad_bin7_DstPi0Pi0[1.00,0.00,30.85] and const [1.0000] to be poisson constrained\n",
      "  ----------------------------------------------------------\n",
      "------------------------------------------------------------\n",
      "8          13.078112       2.944405        total sum                     \n",
      "8          20.000000       4.472136        Unweighted events, alpha=0.653906\n",
      "  => Number of weighted events is below poisson threshold\n",
      "    tau                  0.029525        0.029525                                      \n",
      "                         1.000000        1.000000        Unweighted events, alpha=0.029525\n",
      "      => Product of prop_binAddTk_mm_mHad_bin8_tau[1.00,0.00,30.85] and const [1.0000] to be poisson constrained\n",
      "  ----------------------------------------------------------\n",
      "    DstmDp               0.068133        0.049770                                      \n",
      "                         2.000000        1.414214        Unweighted events, alpha=0.034066\n",
      "      => Product of prop_binAddTk_mm_mHad_bin8_DstmDp[2.00,0.00,33.79] and const [0.5000] to be poisson constrained\n",
      "  ----------------------------------------------------------\n",
      "    DstPipPi0            0.093652        0.093652                                      \n",
      "                         1.000000        1.000000        Unweighted events, alpha=0.093652\n",
      "      => Product of prop_binAddTk_mm_mHad_bin8_DstPipPi0[1.00,0.00,30.85] and const [1.0000] to be poisson constrained\n",
      "  ----------------------------------------------------------\n",
      "    DstPip               0.781380        0.546121                                      \n",
      "                         2.000000        1.414214        Unweighted events, alpha=0.390690\n",
      "      => Product of prop_binAddTk_mm_mHad_bin8_DstPip[2.00,0.00,33.79] and const [0.5000] to be poisson constrained\n",
      "  ----------------------------------------------------------\n",
      "    mu                   10.907073       2.869774                                      \n",
      "                         14.000000       3.741657        Unweighted events, alpha=0.779077\n",
      "      => Product of prop_binAddTk_mm_mHad_bin8_mu[14.00,0.91,59.71] and const [0.0714] to be poisson constrained\n",
      "  ----------------------------------------------------------\n",
      "    DstmDsp              0.279406        0.148449                                      \n",
      "                         4.000000        2.000000        Unweighted events, alpha=0.069851\n",
      "      => Product of prop_binAddTk_mm_mHad_bin8_DstmDsp[4.00,0.00,38.96] and const [0.2500] to be poisson constrained\n",
      "  ----------------------------------------------------------\n",
      "    DstPi0               0.654549        0.278530                                      \n",
      "                         6.000000        2.449490        Unweighted events, alpha=0.109092\n",
      "      => Product of prop_binAddTk_mm_mHad_bin8_DstPi0[6.00,0.03,43.60] and const [0.1667] to be poisson constrained\n",
      "  ----------------------------------------------------------\n",
      "    DstPipPim            0.139584        0.139584                                      \n",
      "                         1.000000        1.000000        Unweighted events, alpha=0.139584\n",
      "      => Product of prop_binAddTk_mm_mHad_bin8_DstPipPim[1.00,0.00,30.85] and const [1.0000] to be poisson constrained\n",
      "  ----------------------------------------------------------\n",
      "    DstmD0               0.057047        0.049675                                      \n",
      "                         1.000000        1.000000        Unweighted events, alpha=0.057047\n",
      "      => Product of prop_binAddTk_mm_mHad_bin8_DstmD0[1.00,0.00,30.85] and const [1.0000] to be poisson constrained\n",
      "  ----------------------------------------------------------\n",
      "    DstPi0Pi0            0.067764        0.044541                                      \n",
      "                         2.000000        1.414214        Unweighted events, alpha=0.033882\n",
      "      => Product of prop_binAddTk_mm_mHad_bin8_DstPi0Pi0[2.00,0.00,33.79] and const [0.5000] to be poisson constrained\n",
      "  ----------------------------------------------------------\n",
      "------------------------------------------------------------\n",
      "9          10.468223       2.929064        total sum                     \n",
      "9          13.000000       3.605551        Unweighted events, alpha=0.805248\n",
      "  => Number of weighted events is below poisson threshold\n",
      "    tau                  0.244058        0.178259                                      \n",
      "                         2.000000        1.414214        Unweighted events, alpha=0.122029\n",
      "      => Product of prop_binAddTk_mm_mHad_bin9_tau[2.00,0.00,33.79] and const [0.5000] to be poisson constrained\n",
      "  ----------------------------------------------------------\n",
      "    DstmDp               0.036466        0.036466                                      \n",
      "                         1.000000        1.000000        Unweighted events, alpha=0.036466\n",
      "      => Product of prop_binAddTk_mm_mHad_bin9_DstmDp[1.00,0.00,30.85] and const [1.0000] to be poisson constrained\n",
      "  ----------------------------------------------------------\n",
      "    DstPipPi0            0.000000        0.000000                                      \n",
      "      => Error is zero, ignore      \n",
      "  ----------------------------------------------------------\n",
      "    DstPip               0.028270        0.028270                                      \n",
      "                         1.000000        1.000000        Unweighted events, alpha=0.028270\n",
      "      => Product of prop_binAddTk_mm_mHad_bin9_DstPip[1.00,0.00,30.85] and const [1.0000] to be poisson constrained\n",
      "  ----------------------------------------------------------\n",
      "    mu                   9.791523        2.918669                                      \n",
      "                         11.000000       3.316625        Unweighted events, alpha=0.890138\n",
      "      => Product of prop_binAddTk_mm_mHad_bin9_mu[11.00,0.42,53.98] and const [0.0909] to be poisson constrained\n",
      "  ----------------------------------------------------------\n",
      "    DstmDsp              0.105800        0.082254                                      \n",
      "                         2.000000        1.414214        Unweighted events, alpha=0.052900\n",
      "      => Product of prop_binAddTk_mm_mHad_bin9_DstmDsp[2.00,0.00,33.79] and const [0.5000] to be poisson constrained\n",
      "  ----------------------------------------------------------\n",
      "    DstPi0               0.099123        0.099123                                      \n",
      "                         1.000000        1.000000        Unweighted events, alpha=0.099123\n",
      "      => Product of prop_binAddTk_mm_mHad_bin9_DstPi0[1.00,0.00,30.85] and const [1.0000] to be poisson constrained\n",
      "  ----------------------------------------------------------\n",
      "    DstPipPim            0.082158        0.082158                                      \n",
      "                         1.000000        1.000000        Unweighted events, alpha=0.082158\n",
      "      => Product of prop_binAddTk_mm_mHad_bin9_DstPipPim[1.00,0.00,30.85] and const [1.0000] to be poisson constrained\n",
      "  ----------------------------------------------------------\n",
      "    DstmD0               0.000000        0.000000                                      \n",
      "      => Error is zero, ignore      \n",
      "  ----------------------------------------------------------\n",
      "    DstPi0Pi0            0.080824        0.059474                                      \n",
      "                         2.000000        1.414214        Unweighted events, alpha=0.040412\n",
      "      => Product of prop_binAddTk_mm_mHad_bin9_DstPi0Pi0[2.00,0.00,33.79] and const [0.5000] to be poisson constrained\n",
      "  ----------------------------------------------------------\n",
      "------------------------------------------------------------\n",
      "10         3.967819        1.457261        total sum                     \n",
      "10         7.000000        2.645751        Unweighted events, alpha=0.566831\n",
      "  => Number of weighted events is below poisson threshold\n",
      "    tau                  0.210044        0.148996                                      \n",
      "                         2.000000        1.414214        Unweighted events, alpha=0.105022\n",
      "      => Product of prop_binAddTk_mm_mHad_bin10_tau[2.00,0.00,33.79] and const [0.5000] to be poisson constrained\n",
      "  ----------------------------------------------------------\n",
      "    DstmDp               0.031107        0.031107                                      \n",
      "                         1.000000        1.000000        Unweighted events, alpha=0.031107\n",
      "      => Product of prop_binAddTk_mm_mHad_bin10_DstmDp[1.00,0.00,30.85] and const [1.0000] to be poisson constrained\n",
      "  ----------------------------------------------------------\n",
      "    DstPipPi0            0.000000        0.000000                                      \n",
      "      => Error is zero, ignore      \n",
      "  ----------------------------------------------------------\n",
      "    DstPip               0.041053        0.041053                                      \n",
      "                         1.000000        1.000000        Unweighted events, alpha=0.041053\n",
      "      => Product of prop_binAddTk_mm_mHad_bin10_DstPip[1.00,0.00,30.85] and const [1.0000] to be poisson constrained\n",
      "  ----------------------------------------------------------\n",
      "    mu                   3.208105        1.436116                                      \n",
      "                         5.000000        2.236068        Unweighted events, alpha=0.641621\n",
      "      => Product of prop_binAddTk_mm_mHad_bin10_mu[5.00,0.01,41.33] and const [0.2000] to be poisson constrained\n",
      "  ----------------------------------------------------------\n",
      "    DstmDsp              0.177728        0.135694                                      \n",
      "                         2.000000        1.414214        Unweighted events, alpha=0.088864\n",
      "      => Product of prop_binAddTk_mm_mHad_bin10_DstmDsp[2.00,0.00,33.79] and const [0.5000] to be poisson constrained\n",
      "  ----------------------------------------------------------\n",
      "    DstPi0               0.044604        0.044604                                      \n",
      "                         1.000000        1.000000        Unweighted events, alpha=0.044604\n",
      "      => Product of prop_binAddTk_mm_mHad_bin10_DstPi0[1.00,0.00,30.85] and const [1.0000] to be poisson constrained\n",
      "  ----------------------------------------------------------\n",
      "    DstPipPim            0.079083        0.079083                                      \n",
      "                         1.000000        1.000000        Unweighted events, alpha=0.079083\n",
      "      => Product of prop_binAddTk_mm_mHad_bin10_DstPipPim[1.00,0.00,30.85] and const [1.0000] to be poisson constrained\n",
      "  ----------------------------------------------------------\n",
      "    DstmD0               0.148990        0.094534                                      \n",
      "                         2.000000        1.414214        Unweighted events, alpha=0.074495\n",
      "      => Product of prop_binAddTk_mm_mHad_bin10_DstmD0[2.00,0.00,33.79] and const [0.5000] to be poisson constrained\n",
      "  ----------------------------------------------------------\n",
      "    DstPi0Pi0            0.027106        0.027106                                      \n",
      "                         1.000000        1.000000        Unweighted events, alpha=0.027106\n",
      "      => Product of prop_binAddTk_mm_mHad_bin10_DstPi0Pi0[1.00,0.00,30.85] and const [1.0000] to be poisson constrained\n",
      "  ----------------------------------------------------------\n",
      "------------------------------------------------------------\n",
      "11         2.551709        0.783336        total sum                     \n",
      "11         11.000000       3.316625        Unweighted events, alpha=0.231974\n",
      "  => Number of weighted events is below poisson threshold\n",
      "    tau                  0.223989        0.167548                                      \n",
      "                         2.000000        1.414214        Unweighted events, alpha=0.111994\n",
      "      => Product of prop_binAddTk_mm_mHad_bin11_tau[2.00,0.00,33.79] and const [0.5000] to be poisson constrained\n",
      "  ----------------------------------------------------------\n",
      "    DstmDp               0.000000        0.000000                                      \n",
      "      => Error is zero, ignore      \n",
      "  ----------------------------------------------------------\n",
      "    DstPipPi0            0.000000        0.000000                                      \n",
      "      => Error is zero, ignore      \n",
      "  ----------------------------------------------------------\n",
      "    DstPip               0.000000        0.000000                                      \n",
      "      => Error is zero, ignore      \n",
      "  ----------------------------------------------------------\n",
      "    mu                   1.820107        0.724130                                      \n",
      "                         6.000000        2.449490        Unweighted events, alpha=0.303351\n",
      "      => Product of prop_binAddTk_mm_mHad_bin11_mu[6.00,0.03,43.60] and const [0.1667] to be poisson constrained\n",
      "  ----------------------------------------------------------\n",
      "    DstmDsp              0.000000        0.000000                                      \n",
      "      => Error is zero, ignore      \n",
      "  ----------------------------------------------------------\n",
      "    DstPi0               0.163543        0.142030                                      \n",
      "                         1.000000        1.000000        Unweighted events, alpha=0.163543\n",
      "      => Product of prop_binAddTk_mm_mHad_bin11_DstPi0[1.00,0.00,30.85] and const [1.0000] to be poisson constrained\n",
      "  ----------------------------------------------------------\n",
      "    DstPipPim            0.177058        0.167239                                      \n",
      "                         1.000000        1.000000        Unweighted events, alpha=0.177058\n",
      "      => Product of prop_binAddTk_mm_mHad_bin11_DstPipPim[1.00,0.00,30.85] and const [1.0000] to be poisson constrained\n",
      "  ----------------------------------------------------------\n",
      "    DstmD0               0.087035        0.087035                                      \n",
      "                         1.000000        1.000000        Unweighted events, alpha=0.087035\n",
      "      => Product of prop_binAddTk_mm_mHad_bin11_DstmD0[1.00,0.00,30.85] and const [1.0000] to be poisson constrained\n",
      "  ----------------------------------------------------------\n",
      "    DstPi0Pi0            0.079978        0.073899                                      \n",
      "                         1.000000        1.000000        Unweighted events, alpha=0.079978\n",
      "      => Product of prop_binAddTk_mm_mHad_bin11_DstPi0Pi0[1.00,0.00,30.85] and const [1.0000] to be poisson constrained\n",
      "  ----------------------------------------------------------\n",
      "------------------------------------------------------------\n",
      "12         4.219670        1.326431        total sum                     \n",
      "12         10.000000       3.162278        Unweighted events, alpha=0.421967\n",
      "  => Number of weighted events is below poisson threshold\n",
      "    tau                  0.000000        0.000000                                      \n",
      "      => Error is zero, ignore      \n",
      "  ----------------------------------------------------------\n",
      "    DstmDp               0.000000        0.000000                                      \n",
      "      => Error is zero, ignore      \n",
      "  ----------------------------------------------------------\n",
      "    DstPipPi0            0.000000        0.000000                                      \n",
      "      => Error is zero, ignore      \n",
      "  ----------------------------------------------------------\n",
      "    DstPip               0.280591        0.162968                                      \n",
      "                         3.000000        1.732051        Unweighted events, alpha=0.093530\n",
      "      => Product of prop_binAddTk_mm_mHad_bin12_DstPip[3.00,0.00,36.46] and const [0.3333] to be poisson constrained\n",
      "  ----------------------------------------------------------\n",
      "    mu                   3.184483        1.236380                                      \n",
      "                         7.000000        2.645751        Unweighted events, alpha=0.454926\n",
      "      => Product of prop_binAddTk_mm_mHad_bin12_mu[7.00,0.07,45.79] and const [0.1429] to be poisson constrained\n",
      "  ----------------------------------------------------------\n",
      "    DstmDsp              0.087818        0.080327                                      \n",
      "                         1.000000        1.000000        Unweighted events, alpha=0.087818\n",
      "      => Product of prop_binAddTk_mm_mHad_bin12_DstmDsp[1.00,0.00,30.85] and const [1.0000] to be poisson constrained\n",
      "  ----------------------------------------------------------\n",
      "    DstPi0               0.074503        0.074503                                      \n",
      "                         1.000000        1.000000        Unweighted events, alpha=0.074503\n",
      "      => Product of prop_binAddTk_mm_mHad_bin12_DstPi0[1.00,0.00,30.85] and const [1.0000] to be poisson constrained\n",
      "  ----------------------------------------------------------\n",
      "    DstPipPim            0.418288        0.418288                                      \n",
      "                         1.000000        1.000000        Unweighted events, alpha=0.418288\n",
      "      => Product of prop_binAddTk_mm_mHad_bin12_DstPipPim[1.00,0.00,30.85] and const [1.0000] to be poisson constrained\n",
      "  ----------------------------------------------------------\n",
      "    DstmD0               0.173988        0.131371                                      \n",
      "                         2.000000        1.414214        Unweighted events, alpha=0.086994\n",
      "      => Product of prop_binAddTk_mm_mHad_bin12_DstmD0[2.00,0.00,33.79] and const [0.5000] to be poisson constrained\n",
      "  ----------------------------------------------------------\n",
      "    DstPi0Pi0            0.000000        0.000000                                      \n",
      "      => Error is zero, ignore      \n",
      "  ----------------------------------------------------------\n",
      "------------------------------------------------------------\n",
      "13         1.673047        0.747430        total sum                     \n",
      "13         5.000000        2.236068        Unweighted events, alpha=0.334609\n",
      "  => Number of weighted events is below poisson threshold\n",
      "    tau                  0.000000        0.000000                                      \n",
      "      => Error is zero, ignore      \n",
      "  ----------------------------------------------------------\n",
      "    DstmDp               0.033427        0.033427                                      \n",
      "                         1.000000        1.000000        Unweighted events, alpha=0.033427\n",
      "      => Product of prop_binAddTk_mm_mHad_bin13_DstmDp[1.00,0.00,30.85] and const [1.0000] to be poisson constrained\n",
      "  ----------------------------------------------------------\n",
      "    DstPipPi0            0.000000        0.000000                                      \n",
      "      => Error is zero, ignore      \n",
      "  ----------------------------------------------------------\n",
      "    DstPip               0.000000        0.000000                                      \n",
      "      => Error is zero, ignore      \n",
      "  ----------------------------------------------------------\n",
      "    mu                   1.538692        0.739829                                      \n",
      "                         4.000000        2.000000        Unweighted events, alpha=0.384673\n",
      "      => Product of prop_binAddTk_mm_mHad_bin13_mu[4.00,0.00,38.96] and const [0.2500] to be poisson constrained\n",
      "  ----------------------------------------------------------\n",
      "    DstmDsp              0.000000        0.000000                                      \n",
      "      => Error is zero, ignore      \n",
      "  ----------------------------------------------------------\n",
      "    DstPi0               0.000000        0.000000                                      \n",
      "      => Error is zero, ignore      \n",
      "  ----------------------------------------------------------\n",
      "    DstPipPim            0.100929        0.100929                                      \n",
      "                         1.000000        1.000000        Unweighted events, alpha=0.100929\n",
      "      => Product of prop_binAddTk_mm_mHad_bin13_DstPipPim[1.00,0.00,30.85] and const [1.0000] to be poisson constrained\n",
      "  ----------------------------------------------------------\n",
      "    DstmD0               0.000000        0.000000                                      \n",
      "      => Error is zero, ignore      \n",
      "  ----------------------------------------------------------\n",
      "    DstPi0Pi0            0.000000        0.000000                                      \n",
      "      => Error is zero, ignore      \n",
      "  ----------------------------------------------------------\n",
      "------------------------------------------------------------\n",
      "14         0.557030        0.395022        total sum                     \n",
      "14         2.000000        1.414214        Unweighted events, alpha=0.278515\n",
      "  => Number of weighted events is below poisson threshold\n",
      "    tau                  0.000000        0.000000                                      \n",
      "      => Error is zero, ignore      \n",
      "  ----------------------------------------------------------\n",
      "    DstmDp               0.000000        0.000000                                      \n",
      "      => Error is zero, ignore      \n",
      "  ----------------------------------------------------------\n",
      "    DstPipPi0            0.000000        0.000000                                      \n",
      "      => Error is zero, ignore      \n",
      "  ----------------------------------------------------------\n",
      "    DstPip               0.000000        0.000000                                      \n",
      "      => Error is zero, ignore      \n",
      "  ----------------------------------------------------------\n",
      "    mu                   0.087578        0.065877                                      \n",
      "                         2.000000        1.414214        Unweighted events, alpha=0.043789\n",
      "      => Product of prop_binAddTk_mm_mHad_bin14_mu[2.00,0.00,33.79] and const [0.5000] to be poisson constrained\n",
      "  ----------------------------------------------------------\n",
      "    DstmDsp              0.088527        0.081231                                      \n",
      "                         1.000000        1.000000        Unweighted events, alpha=0.088527\n",
      "      => Product of prop_binAddTk_mm_mHad_bin14_DstmDsp[1.00,0.00,30.85] and const [1.0000] to be poisson constrained\n",
      "  ----------------------------------------------------------\n",
      "    DstPi0               0.380926        0.380926                                      \n",
      "                         1.000000        1.000000        Unweighted events, alpha=0.380926\n",
      "      => Product of prop_binAddTk_mm_mHad_bin14_DstPi0[1.00,0.00,30.85] and const [1.0000] to be poisson constrained\n",
      "  ----------------------------------------------------------\n",
      "    DstPipPim            0.000000        0.000000                                      \n",
      "      => Error is zero, ignore      \n",
      "  ----------------------------------------------------------\n",
      "    DstmD0               0.000000        0.000000                                      \n",
      "      => Error is zero, ignore      \n",
      "  ----------------------------------------------------------\n",
      "    DstPi0Pi0            0.000000        0.000000                                      \n",
      "      => Error is zero, ignore      \n",
      "  ----------------------------------------------------------\n",
      "------------------------------------------------------------\n",
      "Channel AddTk_p_mHad will use autoMCStats with settings: event-threshold=20, include-signal=1, hist-mode=1\n",
      "============================================================\n",
      "Analysing bin errors for: prop_binAddTk_p_mHad\n",
      "Poisson cut-off: 20\n",
      "============================================================\n",
      "Bin        Contents        Error           Notes                         \n",
      "0          98.907023       5.760185        total sum                     \n",
      "0          295.000000      17.175564       Unweighted events, alpha=0.335278\n",
      "  => Total parameter prop_binAddTk_p_mHad_bin0[0.00,-7.00,7.00] to be gaussian constrained\n",
      "------------------------------------------------------------\n",
      "1          424.096454      12.121388       total sum                     \n",
      "1          1224.000000     34.985711       Unweighted events, alpha=0.346484\n",
      "  => Total parameter prop_binAddTk_p_mHad_bin1[0.00,-7.00,7.00] to be gaussian constrained\n",
      "------------------------------------------------------------\n",
      "2          716.258671      16.697198       total sum                     \n",
      "2          1840.000000     42.895221       Unweighted events, alpha=0.389271\n",
      "  => Total parameter prop_binAddTk_p_mHad_bin2[0.00,-7.00,7.00] to be gaussian constrained\n",
      "------------------------------------------------------------\n",
      "3          719.285597      16.361814       total sum                     \n",
      "3          1933.000000     43.965896       Unweighted events, alpha=0.372108\n",
      "  => Total parameter prop_binAddTk_p_mHad_bin3[0.00,-7.00,7.00] to be gaussian constrained\n",
      "------------------------------------------------------------\n",
      "4          710.928101      16.823621       total sum                     \n",
      "4          1786.000000     42.261093       Unweighted events, alpha=0.398056\n",
      "  => Total parameter prop_binAddTk_p_mHad_bin4[0.00,-7.00,7.00] to be gaussian constrained\n",
      "------------------------------------------------------------\n",
      "5          682.554736      17.380374       total sum                     \n",
      "5          1542.000000     39.268308       Unweighted events, alpha=0.442643\n",
      "  => Total parameter prop_binAddTk_p_mHad_bin5[0.00,-7.00,7.00] to be gaussian constrained\n",
      "------------------------------------------------------------\n",
      "6          626.118827      16.166710       total sum                     \n",
      "6          1500.000000     38.729833       Unweighted events, alpha=0.417413\n",
      "  => Total parameter prop_binAddTk_p_mHad_bin6[0.00,-7.00,7.00] to be gaussian constrained\n",
      "------------------------------------------------------------\n",
      "7          569.053893      14.815847       total sum                     \n",
      "7          1475.000000     38.405729       Unweighted events, alpha=0.385799\n",
      "  => Total parameter prop_binAddTk_p_mHad_bin7[0.00,-7.00,7.00] to be gaussian constrained\n",
      "------------------------------------------------------------\n",
      "8          544.021053      14.583608       total sum                     \n",
      "8          1392.000000     37.309516       Unweighted events, alpha=0.390820\n",
      "  => Total parameter prop_binAddTk_p_mHad_bin8[0.00,-7.00,7.00] to be gaussian constrained\n",
      "------------------------------------------------------------\n",
      "9          550.815034      14.498372       total sum                     \n",
      "9          1443.000000     37.986840       Unweighted events, alpha=0.381715\n",
      "  => Total parameter prop_binAddTk_p_mHad_bin9[0.00,-7.00,7.00] to be gaussian constrained\n",
      "------------------------------------------------------------\n",
      "10         525.155319      14.306375       total sum                     \n",
      "10         1347.000000     36.701499       Unweighted events, alpha=0.389870\n",
      "  => Total parameter prop_binAddTk_p_mHad_bin10[0.00,-7.00,7.00] to be gaussian constrained\n",
      "------------------------------------------------------------\n",
      "11         561.743008      14.077586       total sum                     \n",
      "11         1592.000000     39.899875       Unweighted events, alpha=0.352854\n",
      "  => Total parameter prop_binAddTk_p_mHad_bin11[0.00,-7.00,7.00] to be gaussian constrained\n",
      "------------------------------------------------------------\n",
      "12         650.730515      13.944401       total sum                     \n",
      "12         2178.000000     46.669048       Unweighted events, alpha=0.298774\n",
      "  => Total parameter prop_binAddTk_p_mHad_bin12[0.00,-7.00,7.00] to be gaussian constrained\n",
      "------------------------------------------------------------\n",
      "13         1000.335858     15.931635       total sum                     \n",
      "13         3942.000000     62.785349       Unweighted events, alpha=0.253764\n",
      "  => Total parameter prop_binAddTk_p_mHad_bin13[0.00,-7.00,7.00] to be gaussian constrained\n",
      "------------------------------------------------------------\n",
      "14         1343.521267     16.840337       total sum                     \n",
      "14         6365.000000     79.780950       Unweighted events, alpha=0.211080\n",
      "  => Total parameter prop_binAddTk_p_mHad_bin14[0.00,-7.00,7.00] to be gaussian constrained\n",
      "------------------------------------------------------------\n",
      "15         1147.363538     15.294136       total sum                     \n",
      "15         5628.000000     75.019997       Unweighted events, alpha=0.203867\n",
      "  => Total parameter prop_binAddTk_p_mHad_bin15[0.00,-7.00,7.00] to be gaussian constrained\n",
      "------------------------------------------------------------\n",
      "16         830.993014      14.470873       total sum                     \n",
      "16         3298.000000     57.428216       Unweighted events, alpha=0.251969\n",
      "  => Total parameter prop_binAddTk_p_mHad_bin16[0.00,-7.00,7.00] to be gaussian constrained\n",
      "------------------------------------------------------------\n",
      "17         597.604363      12.193230       total sum                     \n",
      "17         2402.000000     49.010203       Unweighted events, alpha=0.248794\n",
      "  => Total parameter prop_binAddTk_p_mHad_bin17[0.00,-7.00,7.00] to be gaussian constrained\n",
      "------------------------------------------------------------\n",
      "18         434.962571      11.377051       total sum                     \n",
      "18         1462.000000     38.236109       Unweighted events, alpha=0.297512\n",
      "  => Total parameter prop_binAddTk_p_mHad_bin18[0.00,-7.00,7.00] to be gaussian constrained\n",
      "------------------------------------------------------------\n",
      "19         353.696509      10.474682       total sum                     \n",
      "19         1140.000000     33.763886       Unweighted events, alpha=0.310260\n",
      "  => Total parameter prop_binAddTk_p_mHad_bin19[0.00,-7.00,7.00] to be gaussian constrained\n",
      "------------------------------------------------------------\n",
      "20         281.557506      9.739939        total sum                     \n",
      "20         836.000000      28.913665       Unweighted events, alpha=0.336791\n",
      "  => Total parameter prop_binAddTk_p_mHad_bin20[0.00,-7.00,7.00] to be gaussian constrained\n",
      "------------------------------------------------------------\n",
      "21         224.866630      8.101092        total sum                     \n",
      "21         770.000000      27.748874       Unweighted events, alpha=0.292035\n",
      "  => Total parameter prop_binAddTk_p_mHad_bin21[0.00,-7.00,7.00] to be gaussian constrained\n",
      "------------------------------------------------------------\n",
      "22         208.875912      8.743591        total sum                     \n",
      "22         571.000000      23.895606       Unweighted events, alpha=0.365807\n",
      "  => Total parameter prop_binAddTk_p_mHad_bin22[0.00,-7.00,7.00] to be gaussian constrained\n",
      "------------------------------------------------------------\n",
      "23         180.888348      8.044996        total sum                     \n",
      "23         506.000000      22.494444       Unweighted events, alpha=0.357487\n",
      "  => Total parameter prop_binAddTk_p_mHad_bin23[0.00,-7.00,7.00] to be gaussian constrained\n",
      "------------------------------------------------------------\n",
      "24         161.342761      7.191825        total sum                     \n",
      "24         503.000000      22.427661       Unweighted events, alpha=0.320761\n",
      "  => Total parameter prop_binAddTk_p_mHad_bin24[0.00,-7.00,7.00] to be gaussian constrained\n",
      "------------------------------------------------------------\n",
      "25         135.514688      6.630687        total sum                     \n",
      "25         418.000000      20.445048       Unweighted events, alpha=0.324198\n",
      "  => Total parameter prop_binAddTk_p_mHad_bin25[0.00,-7.00,7.00] to be gaussian constrained\n",
      "------------------------------------------------------------\n",
      "26         131.682030      7.094801        total sum                     \n",
      "26         344.000000      18.547237       Unweighted events, alpha=0.382797\n",
      "  => Total parameter prop_binAddTk_p_mHad_bin26[0.00,-7.00,7.00] to be gaussian constrained\n",
      "------------------------------------------------------------\n",
      "27         119.803067      6.383353        total sum                     \n",
      "27         352.000000      18.761663       Unweighted events, alpha=0.340350\n",
      "  => Total parameter prop_binAddTk_p_mHad_bin27[0.00,-7.00,7.00] to be gaussian constrained\n",
      "------------------------------------------------------------\n",
      "28         106.441854      6.481243        total sum                     \n",
      "28         270.000000      16.431677       Unweighted events, alpha=0.394229\n",
      "  => Total parameter prop_binAddTk_p_mHad_bin28[0.00,-7.00,7.00] to be gaussian constrained\n",
      "------------------------------------------------------------\n",
      "29         102.440145      6.660484        total sum                     \n",
      "29         237.000000      15.394804       Unweighted events, alpha=0.432237\n",
      "  => Total parameter prop_binAddTk_p_mHad_bin29[0.00,-7.00,7.00] to be gaussian constrained\n",
      "------------------------------------------------------------\n",
      "30         87.707738       5.392508        total sum                     \n",
      "30         265.000000      16.278821       Unweighted events, alpha=0.330973\n",
      "  => Total parameter prop_binAddTk_p_mHad_bin30[0.00,-7.00,7.00] to be gaussian constrained\n",
      "------------------------------------------------------------\n",
      "31         84.003579       6.002507        total sum                     \n",
      "31         196.000000      14.000000       Unweighted events, alpha=0.428590\n",
      "  => Total parameter prop_binAddTk_p_mHad_bin31[0.00,-7.00,7.00] to be gaussian constrained\n",
      "------------------------------------------------------------\n",
      "32         75.930374       5.488970        total sum                     \n",
      "32         191.000000      13.820275       Unweighted events, alpha=0.397541\n",
      "  => Total parameter prop_binAddTk_p_mHad_bin32[0.00,-7.00,7.00] to be gaussian constrained\n",
      "------------------------------------------------------------\n",
      "33         64.177780       4.466358        total sum                     \n",
      "33         206.000000      14.352700       Unweighted events, alpha=0.311543\n",
      "  => Total parameter prop_binAddTk_p_mHad_bin33[0.00,-7.00,7.00] to be gaussian constrained\n",
      "------------------------------------------------------------\n",
      "34         66.819923       4.720873        total sum                     \n",
      "34         200.000000      14.142136       Unweighted events, alpha=0.334100\n",
      "  => Total parameter prop_binAddTk_p_mHad_bin34[0.00,-7.00,7.00] to be gaussian constrained\n",
      "------------------------------------------------------------\n",
      "Channel AddTk_pm_mHad will use autoMCStats with settings: event-threshold=20, include-signal=1, hist-mode=1\n",
      "============================================================\n",
      "Analysing bin errors for: prop_binAddTk_pm_mHad\n",
      "Poisson cut-off: 20\n",
      "============================================================\n",
      "Bin        Contents        Error           Notes                         \n",
      "0          0.143681        0.137394        total sum                     \n",
      "0          1.000000        1.000000        Unweighted events, alpha=0.143681\n",
      "  => Number of weighted events is below poisson threshold\n",
      "    tau                  0.000000        0.000000                                      \n",
      "      => Error is zero, ignore      \n",
      "  ----------------------------------------------------------\n",
      "    DstmDp               0.000000        0.000000                                      \n",
      "      => Error is zero, ignore      \n",
      "  ----------------------------------------------------------\n",
      "    DstPipPi0            0.000000        0.000000                                      \n",
      "      => Error is zero, ignore      \n",
      "  ----------------------------------------------------------\n",
      "    DstPip               0.000000        0.000000                                      \n",
      "      => Error is zero, ignore      \n",
      "  ----------------------------------------------------------\n",
      "    mu                   0.143681        0.137394                                      \n",
      "                         1.000000        1.000000        Unweighted events, alpha=0.143681\n",
      "      => Product of prop_binAddTk_pm_mHad_bin0_mu[1.00,0.00,30.85] and const [1.0000] to be poisson constrained\n",
      "  ----------------------------------------------------------\n",
      "    DstmDsp              0.000000        0.000000                                      \n",
      "      => Error is zero, ignore      \n",
      "  ----------------------------------------------------------\n",
      "    DstPi0               0.000000        0.000000                                      \n",
      "      => Error is zero, ignore      \n",
      "  ----------------------------------------------------------\n",
      "    DstPipPim            0.000000        0.000000                                      \n",
      "      => Error is zero, ignore      \n",
      "  ----------------------------------------------------------\n",
      "    DstmD0               0.000000        0.000000                                      \n",
      "      => Error is zero, ignore      \n",
      "  ----------------------------------------------------------\n",
      "    DstPi0Pi0            0.000000        0.000000                                      \n",
      "      => Error is zero, ignore      \n",
      "  ----------------------------------------------------------\n",
      "------------------------------------------------------------\n",
      "1          20.845583       4.345756        total sum                     \n",
      "1          23.000000       4.795832        Unweighted events, alpha=0.906330\n",
      "  => Total parameter prop_binAddTk_pm_mHad_bin1[0.00,-7.00,7.00] to be gaussian constrained\n",
      "------------------------------------------------------------\n",
      "2          63.869948       7.835912        total sum                     \n",
      "2          66.000000       8.124038        Unweighted events, alpha=0.967726\n",
      "  => Total parameter prop_binAddTk_pm_mHad_bin2[0.00,-7.00,7.00] to be gaussian constrained\n",
      "------------------------------------------------------------\n",
      "3          83.514743       8.054437        total sum                     \n",
      "3          108.000000      10.392305       Unweighted events, alpha=0.773285\n",
      "  => Total parameter prop_binAddTk_pm_mHad_bin3[0.00,-7.00,7.00] to be gaussian constrained\n",
      "------------------------------------------------------------\n",
      "4          109.711866      12.980264       total sum                     \n",
      "4          71.000000       8.426150        Unweighted events, alpha=1.545238\n",
      "  => Total parameter prop_binAddTk_pm_mHad_bin4[0.00,-7.00,7.00] to be gaussian constrained\n",
      "------------------------------------------------------------\n",
      "5          97.536845       7.617957        total sum                     \n",
      "5          164.000000      12.806248       Unweighted events, alpha=0.594737\n",
      "  => Total parameter prop_binAddTk_pm_mHad_bin5[0.00,-7.00,7.00] to be gaussian constrained\n",
      "------------------------------------------------------------\n",
      "6          142.667064      13.845947       total sum                     \n",
      "6          106.000000      10.295630       Unweighted events, alpha=1.345916\n",
      "  => Total parameter prop_binAddTk_pm_mHad_bin6[0.00,-7.00,7.00] to be gaussian constrained\n",
      "------------------------------------------------------------\n",
      "7          759.440414      14.796915       total sum                     \n",
      "7          2634.000000     51.322510       Unweighted events, alpha=0.288322\n",
      "  => Total parameter prop_binAddTk_pm_mHad_bin7[0.00,-7.00,7.00] to be gaussian constrained\n",
      "------------------------------------------------------------\n",
      "8          340.594016      13.008257       total sum                     \n",
      "8          686.000000      26.191602       Unweighted events, alpha=0.496493\n",
      "  => Total parameter prop_binAddTk_pm_mHad_bin8[0.00,-7.00,7.00] to be gaussian constrained\n",
      "------------------------------------------------------------\n",
      "9          107.597836      7.996656        total sum                     \n",
      "9          181.000000      13.453624       Unweighted events, alpha=0.594463\n",
      "  => Total parameter prop_binAddTk_pm_mHad_bin9[0.00,-7.00,7.00] to be gaussian constrained\n",
      "------------------------------------------------------------\n",
      "10         98.058576       8.359473        total sum                     \n",
      "10         138.000000      11.747340       Unweighted events, alpha=0.710569\n",
      "  => Total parameter prop_binAddTk_pm_mHad_bin10[0.00,-7.00,7.00] to be gaussian constrained\n",
      "------------------------------------------------------------\n",
      "11         106.522984      10.873397       total sum                     \n",
      "11         96.000000       9.797959        Unweighted events, alpha=1.109614\n",
      "  => Total parameter prop_binAddTk_pm_mHad_bin11[0.00,-7.00,7.00] to be gaussian constrained\n",
      "------------------------------------------------------------\n",
      "12         83.588498       7.438879        total sum                     \n",
      "12         126.000000      11.224972       Unweighted events, alpha=0.663401\n",
      "  => Total parameter prop_binAddTk_pm_mHad_bin12[0.00,-7.00,7.00] to be gaussian constrained\n",
      "------------------------------------------------------------\n",
      "13         84.313239       7.270076        total sum                     \n",
      "13         134.000000      11.575837       Unweighted events, alpha=0.629203\n",
      "  => Total parameter prop_binAddTk_pm_mHad_bin13[0.00,-7.00,7.00] to be gaussian constrained\n",
      "------------------------------------------------------------\n",
      "14         65.912947       8.614910        total sum                     \n",
      "14         59.000000       7.681146        Unweighted events, alpha=1.117169\n",
      "  => Total parameter prop_binAddTk_pm_mHad_bin14[0.00,-7.00,7.00] to be gaussian constrained\n",
      "------------------------------------------------------------\n",
      "15         60.377712       5.800671        total sum                     \n",
      "15         108.000000      10.392305       Unweighted events, alpha=0.559053\n",
      "  => Total parameter prop_binAddTk_pm_mHad_bin15[0.00,-7.00,7.00] to be gaussian constrained\n",
      "------------------------------------------------------------\n",
      "16         53.609990       5.725111        total sum                     \n",
      "16         88.000000       9.380832        Unweighted events, alpha=0.609204\n",
      "  => Total parameter prop_binAddTk_pm_mHad_bin16[0.00,-7.00,7.00] to be gaussian constrained\n",
      "------------------------------------------------------------\n",
      "17         40.254052       3.621427        total sum                     \n",
      "17         124.000000      11.135529       Unweighted events, alpha=0.324629\n",
      "  => Total parameter prop_binAddTk_pm_mHad_bin17[0.00,-7.00,7.00] to be gaussian constrained\n",
      "------------------------------------------------------------\n",
      "18         35.227885       4.538947        total sum                     \n",
      "18         60.000000       7.745967        Unweighted events, alpha=0.587131\n",
      "  => Total parameter prop_binAddTk_pm_mHad_bin18[0.00,-7.00,7.00] to be gaussian constrained\n",
      "------------------------------------------------------------\n",
      "19         30.040588       3.814143        total sum                     \n",
      "19         62.000000       7.874008        Unweighted events, alpha=0.484526\n",
      "  => Total parameter prop_binAddTk_pm_mHad_bin19[0.00,-7.00,7.00] to be gaussian constrained\n",
      "------------------------------------------------------------\n",
      "20         25.679529       2.443326        total sum                     \n",
      "20         110.000000      10.488088       Unweighted events, alpha=0.233450\n",
      "  => Total parameter prop_binAddTk_pm_mHad_bin20[0.00,-7.00,7.00] to be gaussian constrained\n",
      "------------------------------------------------------------\n",
      "21         29.108024       5.596229        total sum                     \n",
      "21         27.000000       5.196152        Unweighted events, alpha=1.078075\n",
      "  => Total parameter prop_binAddTk_pm_mHad_bin21[0.00,-7.00,7.00] to be gaussian constrained\n",
      "------------------------------------------------------------\n",
      "22         19.925759       2.133029        total sum                     \n",
      "22         87.000000       9.327379        Unweighted events, alpha=0.229032\n",
      "  => Total parameter prop_binAddTk_pm_mHad_bin22[0.00,-7.00,7.00] to be gaussian constrained\n",
      "------------------------------------------------------------\n",
      "23         23.494140       6.581395        total sum                     \n",
      "23         13.000000       3.605551        Unweighted events, alpha=1.807242\n",
      "  => Number of weighted events is below poisson threshold\n",
      "    tau                  0.364509        0.364509                                      \n",
      "                         1.000000        1.000000        Unweighted events, alpha=0.364509\n",
      "      => Product of prop_binAddTk_pm_mHad_bin23_tau[1.00,0.00,30.85] and const [1.0000] to be poisson constrained\n",
      "  ----------------------------------------------------------\n",
      "    DstmDp               0.617998        0.184459                                      \n",
      "                         11.000000       3.316625        Unweighted events, alpha=0.056182\n",
      "      => Product of prop_binAddTk_pm_mHad_bin23_DstmDp[11.00,0.42,53.98] and const [0.0909] to be poisson constrained\n",
      "  ----------------------------------------------------------\n",
      "    DstPipPi0            0.169044        0.169045                                      \n",
      "                         1.000000        1.000000        Unweighted events, alpha=0.169044\n",
      "      => Product of prop_binAddTk_pm_mHad_bin23_DstPipPi0[1.00,0.00,30.85] and const [1.0000] to be poisson constrained\n",
      "  ----------------------------------------------------------\n",
      "    DstPip               2.848466        1.266890                                      \n",
      "                         5.000000        2.236068        Unweighted events, alpha=0.569693\n",
      "      => Product of prop_binAddTk_pm_mHad_bin23_DstPip[5.00,0.01,41.33] and const [0.2000] to be poisson constrained\n",
      "  ----------------------------------------------------------\n",
      "    mu                   9.127720        6.381651                                      \n",
      "                         2.000000        1.414214        Unweighted events, alpha=4.563860\n",
      "      => Product of prop_binAddTk_pm_mHad_bin23_mu[2.00,0.00,33.79] and const [0.5000] to be poisson constrained\n",
      "  ----------------------------------------------------------\n",
      "    DstmDsp              3.642792        0.485136                                      \n",
      "                         56.000000       7.483315        Unweighted events, alpha=0.065050\n",
      "      => Parameter prop_binAddTk_pm_mHad_bin23_DstmDsp[0.00,-7.00,7.00] to be gaussian constrained\n",
      "  ----------------------------------------------------------\n",
      "    DstPi0               0.208444        0.148610                                      \n",
      "                         2.000000        1.414214        Unweighted events, alpha=0.104222\n",
      "      => Product of prop_binAddTk_pm_mHad_bin23_DstPi0[2.00,0.00,33.79] and const [0.5000] to be poisson constrained\n",
      "  ----------------------------------------------------------\n",
      "    DstPipPim            0.000000        0.000000                                      \n",
      "      => Error is zero, ignore      \n",
      "  ----------------------------------------------------------\n",
      "    DstmD0               6.515166        0.728955                                      \n",
      "                         80.000000       8.944272        Unweighted events, alpha=0.081440\n",
      "      => Parameter prop_binAddTk_pm_mHad_bin23_DstmD0[0.00,-7.00,7.00] to be gaussian constrained\n",
      "  ----------------------------------------------------------\n",
      "    DstPi0Pi0            0.000000        0.000000                                      \n",
      "      => Error is zero, ignore      \n",
      "  ----------------------------------------------------------\n",
      "------------------------------------------------------------\n",
      "24         18.207254       3.194293        total sum                     \n",
      "24         32.000000       5.656854        Unweighted events, alpha=0.568977\n",
      "  => Total parameter prop_binAddTk_pm_mHad_bin24[0.00,-7.00,7.00] to be gaussian constrained\n",
      "------------------------------------------------------------\n",
      "25         20.401302       4.514893        total sum                     \n",
      "25         20.000000       4.472136        Unweighted events, alpha=1.020065\n",
      "  => Number of weighted events is below poisson threshold\n",
      "    tau                  0.000000        0.000000                                      \n",
      "      => Error is zero, ignore      \n",
      "  ----------------------------------------------------------\n",
      "    DstmDp               0.145770        0.074462                                      \n",
      "                         4.000000        2.000000        Unweighted events, alpha=0.036443\n",
      "      => Product of prop_binAddTk_pm_mHad_bin25_DstmDp[4.00,0.00,38.96] and const [0.2500] to be poisson constrained\n",
      "  ----------------------------------------------------------\n",
      "    DstPipPi0            0.000000        0.000000                                      \n",
      "      => Error is zero, ignore      \n",
      "  ----------------------------------------------------------\n",
      "    DstPip               3.762472        1.575384                                      \n",
      "                         6.000000        2.449490        Unweighted events, alpha=0.627079\n",
      "      => Product of prop_binAddTk_pm_mHad_bin25_DstPip[6.00,0.03,43.60] and const [0.1667] to be poisson constrained\n",
      "  ----------------------------------------------------------\n",
      "    mu                   7.648230        4.119949                                      \n",
      "                         3.000000        1.732051        Unweighted events, alpha=2.549410\n",
      "      => Product of prop_binAddTk_pm_mHad_bin25_mu[3.00,0.00,36.46] and const [0.3333] to be poisson constrained\n",
      "  ----------------------------------------------------------\n",
      "    DstmDsp              3.698941        0.494853                                      \n",
      "                         56.000000       7.483315        Unweighted events, alpha=0.066053\n",
      "      => Parameter prop_binAddTk_pm_mHad_bin25_DstmDsp[0.00,-7.00,7.00] to be gaussian constrained\n",
      "  ----------------------------------------------------------\n",
      "    DstPi0               0.019068        0.019068                                      \n",
      "                         1.000000        1.000000        Unweighted events, alpha=0.019068\n",
      "      => Product of prop_binAddTk_pm_mHad_bin25_DstPi0[1.00,0.00,30.85] and const [1.0000] to be poisson constrained\n",
      "  ----------------------------------------------------------\n",
      "    DstPipPim            0.604598        0.604598                                      \n",
      "                         1.000000        1.000000        Unweighted events, alpha=0.604598\n",
      "      => Product of prop_binAddTk_pm_mHad_bin25_DstPipPim[1.00,0.00,30.85] and const [1.0000] to be poisson constrained\n",
      "  ----------------------------------------------------------\n",
      "    DstmD0               4.522224        0.558675                                      \n",
      "                         66.000000       8.124038        Unweighted events, alpha=0.068519\n",
      "      => Parameter prop_binAddTk_pm_mHad_bin25_DstmD0[0.00,-7.00,7.00] to be gaussian constrained\n",
      "  ----------------------------------------------------------\n",
      "    DstPi0Pi0            0.000000        0.000000                                      \n",
      "      => Error is zero, ignore      \n",
      "  ----------------------------------------------------------\n",
      "------------------------------------------------------------\n",
      "26         10.862429       1.296620        total sum                     \n",
      "26         70.000000       8.366600        Unweighted events, alpha=0.155178\n",
      "  => Total parameter prop_binAddTk_pm_mHad_bin26[0.00,-7.00,7.00] to be gaussian constrained\n",
      "------------------------------------------------------------\n",
      "27         9.225287        1.158271        total sum                     \n",
      "27         63.000000       7.937254        Unweighted events, alpha=0.146433\n",
      "  => Total parameter prop_binAddTk_pm_mHad_bin27[0.00,-7.00,7.00] to be gaussian constrained\n",
      "------------------------------------------------------------\n",
      "28         11.217514       1.681814        total sum                     \n",
      "28         44.000000       6.633250        Unweighted events, alpha=0.254943\n",
      "  => Total parameter prop_binAddTk_pm_mHad_bin28[0.00,-7.00,7.00] to be gaussian constrained\n",
      "------------------------------------------------------------\n",
      "29         7.869726        1.254883        total sum                     \n",
      "29         39.000000       6.244998        Unweighted events, alpha=0.201788\n",
      "  => Total parameter prop_binAddTk_pm_mHad_bin29[0.00,-7.00,7.00] to be gaussian constrained\n",
      "------------------------------------------------------------\n",
      "Channel AddTk_pm_mVis will use autoMCStats with settings: event-threshold=20, include-signal=1, hist-mode=1\n",
      "============================================================\n",
      "Analysing bin errors for: prop_binAddTk_pm_mVis\n",
      "Poisson cut-off: 20\n",
      "============================================================\n",
      "Bin        Contents        Error           Notes                         \n",
      "0          5.822874        1.244772        total sum                     \n",
      "0          22.000000       4.690416        Unweighted events, alpha=0.264676\n",
      "  => Total parameter prop_binAddTk_pm_mVis_bin0[0.00,-7.00,7.00] to be gaussian constrained\n",
      "------------------------------------------------------------\n",
      "1          6.411739        1.108291        total sum                     \n",
      "1          33.000000       5.744563        Unweighted events, alpha=0.194295\n",
      "  => Total parameter prop_binAddTk_pm_mVis_bin1[0.00,-7.00,7.00] to be gaussian constrained\n",
      "------------------------------------------------------------\n",
      "2          10.703483       1.229564        total sum                     \n",
      "2          76.000000       8.717798        Unweighted events, alpha=0.140835\n",
      "  => Total parameter prop_binAddTk_pm_mVis_bin2[0.00,-7.00,7.00] to be gaussian constrained\n",
      "------------------------------------------------------------\n",
      "3          21.776188       2.139380        total sum                     \n",
      "3          104.000000      10.198039       Unweighted events, alpha=0.209386\n",
      "  => Total parameter prop_binAddTk_pm_mVis_bin3[0.00,-7.00,7.00] to be gaussian constrained\n",
      "------------------------------------------------------------\n",
      "4          34.596685       3.100791        total sum                     \n",
      "4          124.000000      11.135529       Unweighted events, alpha=0.279006\n",
      "  => Total parameter prop_binAddTk_pm_mVis_bin4[0.00,-7.00,7.00] to be gaussian constrained\n",
      "------------------------------------------------------------\n",
      "5          58.005767       6.829903        total sum                     \n",
      "5          72.000000       8.485281        Unweighted events, alpha=0.805636\n",
      "  => Total parameter prop_binAddTk_pm_mVis_bin5[0.00,-7.00,7.00] to be gaussian constrained\n",
      "------------------------------------------------------------\n",
      "6          68.264414       4.938273        total sum                     \n",
      "6          191.000000      13.820275       Unweighted events, alpha=0.357405\n",
      "  => Total parameter prop_binAddTk_pm_mVis_bin6[0.00,-7.00,7.00] to be gaussian constrained\n",
      "------------------------------------------------------------\n",
      "7          83.173611       4.013870        total sum                     \n",
      "7          429.000000      20.712315       Unweighted events, alpha=0.193878\n",
      "  => Total parameter prop_binAddTk_pm_mVis_bin7[0.00,-7.00,7.00] to be gaussian constrained\n",
      "------------------------------------------------------------\n",
      "8          104.202966      7.427861        total sum                     \n",
      "8          197.000000      14.035669       Unweighted events, alpha=0.528949\n",
      "  => Total parameter prop_binAddTk_pm_mVis_bin8[0.00,-7.00,7.00] to be gaussian constrained\n",
      "------------------------------------------------------------\n",
      "9          133.042449      11.786587       total sum                     \n",
      "9          127.000000      11.269428       Unweighted events, alpha=1.047578\n",
      "  => Total parameter prop_binAddTk_pm_mVis_bin9[0.00,-7.00,7.00] to be gaussian constrained\n",
      "------------------------------------------------------------\n",
      "10         115.545790      5.343920        total sum                     \n",
      "10         468.000000      21.633308       Unweighted events, alpha=0.246893\n",
      "  => Total parameter prop_binAddTk_pm_mVis_bin10[0.00,-7.00,7.00] to be gaussian constrained\n",
      "------------------------------------------------------------\n",
      "11         144.380974      6.796726        total sum                     \n",
      "11         451.000000      21.236761       Unweighted events, alpha=0.320135\n",
      "  => Total parameter prop_binAddTk_pm_mVis_bin11[0.00,-7.00,7.00] to be gaussian constrained\n",
      "------------------------------------------------------------\n",
      "12         152.402875      6.591527        total sum                     \n",
      "12         535.000000      23.130067       Unweighted events, alpha=0.284865\n",
      "  => Total parameter prop_binAddTk_pm_mVis_bin12[0.00,-7.00,7.00] to be gaussian constrained\n",
      "------------------------------------------------------------\n",
      "13         162.016184      8.924276        total sum                     \n",
      "13         330.000000      18.165902       Unweighted events, alpha=0.490958\n",
      "  => Total parameter prop_binAddTk_pm_mVis_bin13[0.00,-7.00,7.00] to be gaussian constrained\n",
      "------------------------------------------------------------\n",
      "14         177.285552      9.608274        total sum                     \n",
      "14         340.000000      18.439089       Unweighted events, alpha=0.521428\n",
      "  => Total parameter prop_binAddTk_pm_mVis_bin14[0.00,-7.00,7.00] to be gaussian constrained\n",
      "------------------------------------------------------------\n",
      "15         186.229759      9.856328        total sum                     \n",
      "15         357.000000      18.894444       Unweighted events, alpha=0.521652\n",
      "  => Total parameter prop_binAddTk_pm_mVis_bin15[0.00,-7.00,7.00] to be gaussian constrained\n",
      "------------------------------------------------------------\n",
      "16         179.598627      9.484567        total sum                     \n",
      "16         359.000000      18.947295       Unweighted events, alpha=0.500275\n",
      "  => Total parameter prop_binAddTk_pm_mVis_bin16[0.00,-7.00,7.00] to be gaussian constrained\n",
      "------------------------------------------------------------\n",
      "17         178.622269      10.665096       total sum                     \n",
      "17         281.000000      16.763055       Unweighted events, alpha=0.635666\n",
      "  => Total parameter prop_binAddTk_pm_mVis_bin17[0.00,-7.00,7.00] to be gaussian constrained\n",
      "------------------------------------------------------------\n",
      "18         177.506218      11.614090       total sum                     \n",
      "18         234.000000      15.297059       Unweighted events, alpha=0.758574\n",
      "  => Total parameter prop_binAddTk_pm_mVis_bin18[0.00,-7.00,7.00] to be gaussian constrained\n",
      "------------------------------------------------------------\n",
      "19         152.942939      13.125789       total sum                     \n",
      "19         136.000000      11.661904       Unweighted events, alpha=1.124580\n",
      "  => Total parameter prop_binAddTk_pm_mVis_bin19[0.00,-7.00,7.00] to be gaussian constrained\n",
      "------------------------------------------------------------\n",
      "20         132.154480      9.426000        total sum                     \n",
      "20         197.000000      14.035669       Unweighted events, alpha=0.670835\n",
      "  => Total parameter prop_binAddTk_pm_mVis_bin20[0.00,-7.00,7.00] to be gaussian constrained\n",
      "------------------------------------------------------------\n",
      "21         122.597268      9.598349        total sum                     \n",
      "21         163.000000      12.767145       Unweighted events, alpha=0.752130\n",
      "  => Total parameter prop_binAddTk_pm_mVis_bin21[0.00,-7.00,7.00] to be gaussian constrained\n",
      "------------------------------------------------------------\n",
      "22         95.145026       8.939700        total sum                     \n",
      "22         113.000000      10.630146       Unweighted events, alpha=0.841991\n",
      "  => Total parameter prop_binAddTk_pm_mVis_bin22[0.00,-7.00,7.00] to be gaussian constrained\n",
      "------------------------------------------------------------\n",
      "23         86.005967       13.135106       total sum                     \n",
      "23         43.000000       6.557439        Unweighted events, alpha=2.000139\n",
      "  => Total parameter prop_binAddTk_pm_mVis_bin23[0.00,-7.00,7.00] to be gaussian constrained\n",
      "------------------------------------------------------------\n",
      "Channel AddTk_pp_mHad will use autoMCStats with settings: event-threshold=20, include-signal=1, hist-mode=1\n",
      "============================================================\n",
      "Analysing bin errors for: prop_binAddTk_pp_mHad\n",
      "Poisson cut-off: 20\n",
      "============================================================\n",
      "Bin        Contents        Error           Notes                         \n",
      "0          12.160732       3.548143        total sum                     \n",
      "0          12.000000       3.464102        Unweighted events, alpha=1.013394\n",
      "  => Number of weighted events is below poisson threshold\n",
      "    tau                  0.188818        0.145096                                      \n",
      "                         2.000000        1.414214        Unweighted events, alpha=0.094409\n",
      "      => Product of prop_binAddTk_pp_mHad_bin0_tau[2.00,0.00,33.79] and const [0.5000] to be poisson constrained\n",
      "  ----------------------------------------------------------\n",
      "    DstmDp               0.000000        0.000000                                      \n",
      "      => Error is zero, ignore      \n",
      "  ----------------------------------------------------------\n",
      "    DstPipPi0            0.000000        0.000000                                      \n",
      "      => Error is zero, ignore      \n",
      "  ----------------------------------------------------------\n",
      "    DstPip               0.223357        0.207012                                      \n",
      "                         1.000000        1.000000        Unweighted events, alpha=0.223357\n",
      "      => Product of prop_binAddTk_pp_mHad_bin0_DstPip[1.00,0.00,30.85] and const [1.0000] to be poisson constrained\n",
      "  ----------------------------------------------------------\n",
      "    mu                   10.276452       3.458963                                      \n",
      "                         9.000000        3.000000        Unweighted events, alpha=1.141828\n",
      "      => Product of prop_binAddTk_pp_mHad_bin0_mu[9.00,0.20,49.98] and const [0.1111] to be poisson constrained\n",
      "  ----------------------------------------------------------\n",
      "    DstmDsp              0.025063        0.025063                                      \n",
      "                         1.000000        1.000000        Unweighted events, alpha=0.025063\n",
      "      => Product of prop_binAddTk_pp_mHad_bin0_DstmDsp[1.00,0.00,30.85] and const [1.0000] to be poisson constrained\n",
      "  ----------------------------------------------------------\n",
      "    DstPi0               0.865185        0.665197                                      \n",
      "                         2.000000        1.414214        Unweighted events, alpha=0.432593\n",
      "      => Product of prop_binAddTk_pp_mHad_bin0_DstPi0[2.00,0.00,33.79] and const [0.5000] to be poisson constrained\n",
      "  ----------------------------------------------------------\n",
      "    DstPipPim            0.333401        0.236940                                      \n",
      "                         2.000000        1.414214        Unweighted events, alpha=0.166700\n",
      "      => Product of prop_binAddTk_pp_mHad_bin0_DstPipPim[2.00,0.00,33.79] and const [0.5000] to be poisson constrained\n",
      "  ----------------------------------------------------------\n",
      "    DstmD0               0.248457        0.248457                                      \n",
      "                         1.000000        1.000000        Unweighted events, alpha=0.248457\n",
      "      => Product of prop_binAddTk_pp_mHad_bin0_DstmD0[1.00,0.00,30.85] and const [1.0000] to be poisson constrained\n",
      "  ----------------------------------------------------------\n",
      "    DstPi0Pi0            0.000000        0.000000                                      \n",
      "      => Error is zero, ignore      \n",
      "  ----------------------------------------------------------\n",
      "------------------------------------------------------------\n",
      "1          69.261429       6.384772        total sum                     \n",
      "1          118.000000      10.862780       Unweighted events, alpha=0.586961\n",
      "  => Total parameter prop_binAddTk_pp_mHad_bin1[0.00,-7.00,7.00] to be gaussian constrained\n",
      "------------------------------------------------------------\n",
      "2          96.663699       7.983491        total sum                     \n",
      "2          147.000000      12.124356       Unweighted events, alpha=0.657576\n",
      "  => Total parameter prop_binAddTk_pp_mHad_bin2[0.00,-7.00,7.00] to be gaussian constrained\n",
      "------------------------------------------------------------\n",
      "3          131.052776      8.669377        total sum                     \n",
      "3          229.000000      15.132746       Unweighted events, alpha=0.572283\n",
      "  => Total parameter prop_binAddTk_pp_mHad_bin3[0.00,-7.00,7.00] to be gaussian constrained\n",
      "------------------------------------------------------------\n",
      "4          105.544887      7.893973        total sum                     \n",
      "4          179.000000      13.379088       Unweighted events, alpha=0.589636\n",
      "  => Total parameter prop_binAddTk_pp_mHad_bin4[0.00,-7.00,7.00] to be gaussian constrained\n",
      "------------------------------------------------------------\n",
      "5          75.668155       5.546820        total sum                     \n",
      "5          186.000000      13.638182       Unweighted events, alpha=0.406818\n",
      "  => Total parameter prop_binAddTk_pp_mHad_bin5[0.00,-7.00,7.00] to be gaussian constrained\n",
      "------------------------------------------------------------\n",
      "6          48.468430       5.219176        total sum                     \n",
      "6          86.000000       9.273618        Unweighted events, alpha=0.563586\n",
      "  => Total parameter prop_binAddTk_pp_mHad_bin6[0.00,-7.00,7.00] to be gaussian constrained\n",
      "------------------------------------------------------------\n",
      "7          41.050695       5.914603        total sum                     \n",
      "7          48.000000       6.928203        Unweighted events, alpha=0.855223\n",
      "  => Total parameter prop_binAddTk_pp_mHad_bin7[0.00,-7.00,7.00] to be gaussian constrained\n",
      "------------------------------------------------------------\n",
      "8          27.820281       4.348896        total sum                     \n",
      "8          41.000000       6.403124        Unweighted events, alpha=0.678543\n",
      "  => Total parameter prop_binAddTk_pp_mHad_bin8[0.00,-7.00,7.00] to be gaussian constrained\n",
      "------------------------------------------------------------\n",
      "9          18.658613       3.198442        total sum                     \n",
      "9          34.000000       5.830952        Unweighted events, alpha=0.548783\n",
      "  => Total parameter prop_binAddTk_pp_mHad_bin9[0.00,-7.00,7.00] to be gaussian constrained\n",
      "------------------------------------------------------------\n",
      "10         12.278303       2.322377        total sum                     \n",
      "10         28.000000       5.291503        Unweighted events, alpha=0.438511\n",
      "  => Total parameter prop_binAddTk_pp_mHad_bin10[0.00,-7.00,7.00] to be gaussian constrained\n",
      "------------------------------------------------------------\n",
      "11         10.506904       2.712940        total sum                     \n",
      "11         15.000000       3.872983        Unweighted events, alpha=0.700460\n",
      "  => Number of weighted events is below poisson threshold\n",
      "    tau                  0.029055        0.029055                                      \n",
      "                         1.000000        1.000000        Unweighted events, alpha=0.029055\n",
      "      => Product of prop_binAddTk_pp_mHad_bin11_tau[1.00,0.00,30.85] and const [1.0000] to be poisson constrained\n",
      "  ----------------------------------------------------------\n",
      "    DstmDp               0.041475        0.041475                                      \n",
      "                         1.000000        1.000000        Unweighted events, alpha=0.041475\n",
      "      => Product of prop_binAddTk_pp_mHad_bin11_DstmDp[1.00,0.00,30.85] and const [1.0000] to be poisson constrained\n",
      "  ----------------------------------------------------------\n",
      "    DstPipPi0            0.134733        0.134733                                      \n",
      "                         1.000000        1.000000        Unweighted events, alpha=0.134733\n",
      "      => Product of prop_binAddTk_pp_mHad_bin11_DstPipPi0[1.00,0.00,30.85] and const [1.0000] to be poisson constrained\n",
      "  ----------------------------------------------------------\n",
      "    DstPip               3.602119        1.078874                                      \n",
      "                         11.000000       3.316625        Unweighted events, alpha=0.327465\n",
      "      => Product of prop_binAddTk_pp_mHad_bin11_DstPip[11.00,0.42,53.98] and const [0.0909] to be poisson constrained\n",
      "  ----------------------------------------------------------\n",
      "    mu                   6.080000        2.468099                                      \n",
      "                         6.000000        2.449490        Unweighted events, alpha=1.013333\n",
      "      => Product of prop_binAddTk_pp_mHad_bin11_mu[6.00,0.03,43.60] and const [0.1667] to be poisson constrained\n",
      "  ----------------------------------------------------------\n",
      "    DstmDsp              0.077967        0.077967                                      \n",
      "                         1.000000        1.000000        Unweighted events, alpha=0.077967\n",
      "      => Product of prop_binAddTk_pp_mHad_bin11_DstmDsp[1.00,0.00,30.85] and const [1.0000] to be poisson constrained\n",
      "  ----------------------------------------------------------\n",
      "    DstPi0               0.303026        0.194071                                      \n",
      "                         2.000000        1.414214        Unweighted events, alpha=0.151513\n",
      "      => Product of prop_binAddTk_pp_mHad_bin11_DstPi0[2.00,0.00,33.79] and const [0.5000] to be poisson constrained\n",
      "  ----------------------------------------------------------\n",
      "    DstPipPim            0.195582        0.195582                                      \n",
      "                         1.000000        1.000000        Unweighted events, alpha=0.195582\n",
      "      => Product of prop_binAddTk_pp_mHad_bin11_DstPipPim[1.00,0.00,30.85] and const [1.0000] to be poisson constrained\n",
      "  ----------------------------------------------------------\n",
      "    DstmD0               0.042946        0.042946                                      \n",
      "                         1.000000        1.000000        Unweighted events, alpha=0.042946\n",
      "      => Product of prop_binAddTk_pp_mHad_bin11_DstmD0[1.00,0.00,30.85] and const [1.0000] to be poisson constrained\n",
      "  ----------------------------------------------------------\n",
      "    DstPi0Pi0            0.000000        0.000000                                      \n",
      "      => Error is zero, ignore      \n",
      "  ----------------------------------------------------------\n",
      "------------------------------------------------------------\n",
      "12         2.735311        0.777703        total sum                     \n",
      "12         12.000000       3.464102        Unweighted events, alpha=0.227943\n",
      "  => Number of weighted events is below poisson threshold\n",
      "    tau                  0.000000        0.000000                                      \n",
      "      => Error is zero, ignore      \n",
      "  ----------------------------------------------------------\n",
      "    DstmDp               0.000000        0.000000                                      \n",
      "      => Error is zero, ignore      \n",
      "  ----------------------------------------------------------\n",
      "    DstPipPi0            0.143074        0.143074                                      \n",
      "                         1.000000        1.000000        Unweighted events, alpha=0.143074\n",
      "      => Product of prop_binAddTk_pp_mHad_bin12_DstPipPi0[1.00,0.00,30.85] and const [1.0000] to be poisson constrained\n",
      "  ----------------------------------------------------------\n",
      "    DstPip               1.887610        0.690225                                      \n",
      "                         7.000000        2.645751        Unweighted events, alpha=0.269659\n",
      "      => Product of prop_binAddTk_pp_mHad_bin12_DstPip[7.00,0.07,45.79] and const [0.1429] to be poisson constrained\n",
      "  ----------------------------------------------------------\n",
      "    mu                   0.395535        0.281942                                      \n",
      "                         2.000000        1.414214        Unweighted events, alpha=0.197767\n",
      "      => Product of prop_binAddTk_pp_mHad_bin12_mu[2.00,0.00,33.79] and const [0.5000] to be poisson constrained\n",
      "  ----------------------------------------------------------\n",
      "    DstmDsp              0.022709        0.022709                                      \n",
      "                         1.000000        1.000000        Unweighted events, alpha=0.022709\n",
      "      => Product of prop_binAddTk_pp_mHad_bin12_DstmDsp[1.00,0.00,30.85] and const [1.0000] to be poisson constrained\n",
      "  ----------------------------------------------------------\n",
      "    DstPi0               0.000000        0.000000                                      \n",
      "      => Error is zero, ignore      \n",
      "  ----------------------------------------------------------\n",
      "    DstPipPim            0.000000        0.000000                                      \n",
      "      => Error is zero, ignore      \n",
      "  ----------------------------------------------------------\n",
      "    DstmD0               0.286384        0.167135                                      \n",
      "                         3.000000        1.732051        Unweighted events, alpha=0.095461\n",
      "      => Product of prop_binAddTk_pp_mHad_bin12_DstmD0[3.00,0.00,36.46] and const [0.3333] to be poisson constrained\n",
      "  ----------------------------------------------------------\n",
      "    DstPi0Pi0            0.000000        0.000000                                      \n",
      "      => Error is zero, ignore      \n",
      "  ----------------------------------------------------------\n",
      "------------------------------------------------------------\n",
      "13         4.158784        0.989066        total sum                     \n",
      "13         18.000000       4.242641        Unweighted events, alpha=0.231044\n",
      "  => Number of weighted events is below poisson threshold\n",
      "    tau                  0.086444        0.073285                                      \n",
      "                         1.000000        1.000000        Unweighted events, alpha=0.086444\n",
      "      => Product of prop_binAddTk_pp_mHad_bin13_tau[1.00,0.00,30.85] and const [1.0000] to be poisson constrained\n",
      "  ----------------------------------------------------------\n",
      "    DstmDp               0.000000        0.000000                                      \n",
      "      => Error is zero, ignore      \n",
      "  ----------------------------------------------------------\n",
      "    DstPipPi0            0.000000        0.000000                                      \n",
      "      => Error is zero, ignore      \n",
      "  ----------------------------------------------------------\n",
      "    DstPip               1.763470        0.663231                                      \n",
      "                         7.000000        2.645751        Unweighted events, alpha=0.251924\n",
      "      => Product of prop_binAddTk_pp_mHad_bin13_DstPip[7.00,0.07,45.79] and const [0.1429] to be poisson constrained\n",
      "  ----------------------------------------------------------\n",
      "    mu                   1.793754        0.683834                                      \n",
      "                         7.000000        2.645751        Unweighted events, alpha=0.256251\n",
      "      => Product of prop_binAddTk_pp_mHad_bin13_mu[7.00,0.07,45.79] and const [0.1429] to be poisson constrained\n",
      "  ----------------------------------------------------------\n",
      "    DstmDsp              0.254423        0.149369                                      \n",
      "                         3.000000        1.732051        Unweighted events, alpha=0.084808\n",
      "      => Product of prop_binAddTk_pp_mHad_bin13_DstmDsp[3.00,0.00,36.46] and const [0.3333] to be poisson constrained\n",
      "  ----------------------------------------------------------\n",
      "    DstPi0               0.000000        0.000000                                      \n",
      "      => Error is zero, ignore      \n",
      "  ----------------------------------------------------------\n",
      "    DstPipPim            0.197746        0.197745                                      \n",
      "                         1.000000        1.000000        Unweighted events, alpha=0.197746\n",
      "      => Product of prop_binAddTk_pp_mHad_bin13_DstPipPim[1.00,0.00,30.85] and const [1.0000] to be poisson constrained\n",
      "  ----------------------------------------------------------\n",
      "    DstmD0               0.062947        0.062947                                      \n",
      "                         1.000000        1.000000        Unweighted events, alpha=0.062947\n",
      "      => Product of prop_binAddTk_pp_mHad_bin13_DstmD0[1.00,0.00,30.85] and const [1.0000] to be poisson constrained\n",
      "  ----------------------------------------------------------\n",
      "    DstPi0Pi0            0.000000        0.000000                                      \n",
      "      => Error is zero, ignore      \n",
      "  ----------------------------------------------------------\n",
      "------------------------------------------------------------\n",
      "14         2.405892        0.803572        total sum                     \n",
      "14         9.000000        3.000000        Unweighted events, alpha=0.267321\n",
      "  => Number of weighted events is below poisson threshold\n",
      "    tau                  0.000000        0.000000                                      \n",
      "      => Error is zero, ignore      \n",
      "  ----------------------------------------------------------\n",
      "    DstmDp               0.003499        0.003499                                      \n",
      "                         1.000000        1.000000        Unweighted events, alpha=0.003499\n",
      "      => Product of prop_binAddTk_pp_mHad_bin14_DstmDp[1.00,0.00,30.85] and const [1.0000] to be poisson constrained\n",
      "  ----------------------------------------------------------\n",
      "    DstPipPi0            0.031837        0.031837                                      \n",
      "                         1.000000        1.000000        Unweighted events, alpha=0.031837\n",
      "      => Product of prop_binAddTk_pp_mHad_bin14_DstPipPi0[1.00,0.00,30.85] and const [1.0000] to be poisson constrained\n",
      "  ----------------------------------------------------------\n",
      "    DstPip               1.877596        0.712683                                      \n",
      "                         7.000000        2.645751        Unweighted events, alpha=0.268228\n",
      "      => Product of prop_binAddTk_pp_mHad_bin14_DstPip[7.00,0.07,45.79] and const [0.1429] to be poisson constrained\n",
      "  ----------------------------------------------------------\n",
      "    mu                   0.457273        0.368118                                      \n",
      "                         2.000000        1.414214        Unweighted events, alpha=0.228636\n",
      "      => Product of prop_binAddTk_pp_mHad_bin14_mu[2.00,0.00,33.79] and const [0.5000] to be poisson constrained\n",
      "  ----------------------------------------------------------\n",
      "    DstmDsp              0.000000        0.000000                                      \n",
      "      => Error is zero, ignore      \n",
      "  ----------------------------------------------------------\n",
      "    DstPi0               0.000000        0.000000                                      \n",
      "      => Error is zero, ignore      \n",
      "  ----------------------------------------------------------\n",
      "    DstPipPim            0.000000        0.000000                                      \n",
      "      => Error is zero, ignore      \n",
      "  ----------------------------------------------------------\n",
      "    DstmD0               0.035687        0.035687                                      \n",
      "                         1.000000        1.000000        Unweighted events, alpha=0.035687\n",
      "      => Product of prop_binAddTk_pp_mHad_bin14_DstmD0[1.00,0.00,30.85] and const [1.0000] to be poisson constrained\n",
      "  ----------------------------------------------------------\n",
      "    DstPi0Pi0            0.000000        0.000000                                      \n",
      "      => Error is zero, ignore      \n",
      "  ----------------------------------------------------------\n",
      "------------------------------------------------------------\n",
      "Channel Est_mu_q2bin0 will use autoMCStats with settings: event-threshold=20, include-signal=1, hist-mode=1\n",
      "============================================================\n",
      "Analysing bin errors for: prop_binEst_mu_q2bin0\n",
      "Poisson cut-off: 20\n",
      "============================================================\n",
      "Bin        Contents        Error           Notes                         \n",
      "0          563.285050      12.865641       total sum                     \n",
      "0          1917.000000     43.783559       Unweighted events, alpha=0.293837\n",
      "  => Total parameter prop_binEst_mu_q2bin0_bin0[0.00,-7.00,7.00] to be gaussian constrained\n",
      "------------------------------------------------------------\n",
      "1          507.424028      11.990947       total sum                     \n",
      "1          1791.000000     42.320208       Unweighted events, alpha=0.283319\n",
      "  => Total parameter prop_binEst_mu_q2bin0_bin1[0.00,-7.00,7.00] to be gaussian constrained\n",
      "------------------------------------------------------------\n",
      "2          779.130238      14.772125       total sum                     \n",
      "2          2782.000000     52.744668       Unweighted events, alpha=0.280061\n",
      "  => Total parameter prop_binEst_mu_q2bin0_bin2[0.00,-7.00,7.00] to be gaussian constrained\n",
      "------------------------------------------------------------\n",
      "3          1001.376504     16.530898       total sum                     \n",
      "3          3669.000000     60.572271       Unweighted events, alpha=0.272929\n",
      "  => Total parameter prop_binEst_mu_q2bin0_bin3[0.00,-7.00,7.00] to be gaussian constrained\n",
      "------------------------------------------------------------\n",
      "4          1330.429049     19.016940       total sum                     \n",
      "4          4894.000000     69.957130       Unweighted events, alpha=0.271849\n",
      "  => Total parameter prop_binEst_mu_q2bin0_bin4[0.00,-7.00,7.00] to be gaussian constrained\n",
      "------------------------------------------------------------\n",
      "5          1582.006828     20.384888       total sum                     \n",
      "5          6023.000000     77.607989       Unweighted events, alpha=0.262661\n",
      "  => Total parameter prop_binEst_mu_q2bin0_bin5[0.00,-7.00,7.00] to be gaussian constrained\n",
      "------------------------------------------------------------\n",
      "6          1818.064061     22.256779       total sum                     \n",
      "6          6673.000000     81.688432       Unweighted events, alpha=0.272451\n",
      "  => Total parameter prop_binEst_mu_q2bin0_bin6[0.00,-7.00,7.00] to be gaussian constrained\n",
      "------------------------------------------------------------\n",
      "7          1937.642040     22.156805       total sum                     \n",
      "7          7648.000000     87.452844       Unweighted events, alpha=0.253353\n",
      "  => Total parameter prop_binEst_mu_q2bin0_bin7[0.00,-7.00,7.00] to be gaussian constrained\n",
      "------------------------------------------------------------\n",
      "8          2138.154863     23.129956       total sum                     \n",
      "8          8545.000000     92.439169       Unweighted events, alpha=0.250223\n",
      "  => Total parameter prop_binEst_mu_q2bin0_bin8[0.00,-7.00,7.00] to be gaussian constrained\n",
      "------------------------------------------------------------\n",
      "9          2223.103286     23.505127       total sum                     \n",
      "9          8945.000000     94.578010       Unweighted events, alpha=0.248530\n",
      "  => Total parameter prop_binEst_mu_q2bin0_bin9[0.00,-7.00,7.00] to be gaussian constrained\n",
      "------------------------------------------------------------\n",
      "10         2264.368772     23.593329       total sum                     \n",
      "10         9211.000000     95.973955       Unweighted events, alpha=0.245833\n",
      "  => Total parameter prop_binEst_mu_q2bin0_bin10[0.00,-7.00,7.00] to be gaussian constrained\n",
      "------------------------------------------------------------\n",
      "11         2254.852489     23.550550       total sum                     \n",
      "11         9167.000000     95.744452       Unweighted events, alpha=0.245975\n",
      "  => Total parameter prop_binEst_mu_q2bin0_bin11[0.00,-7.00,7.00] to be gaussian constrained\n",
      "------------------------------------------------------------\n",
      "12         2177.542286     22.897558       total sum                     \n",
      "12         9044.000000     95.099947       Unweighted events, alpha=0.240772\n",
      "  => Total parameter prop_binEst_mu_q2bin0_bin12[0.00,-7.00,7.00] to be gaussian constrained\n",
      "------------------------------------------------------------\n",
      "13         1990.719436     22.078253       total sum                     \n",
      "13         8130.000000     90.166513       Unweighted events, alpha=0.244861\n",
      "  => Total parameter prop_binEst_mu_q2bin0_bin13[0.00,-7.00,7.00] to be gaussian constrained\n",
      "------------------------------------------------------------\n",
      "14         1693.213112     19.821924       total sum                     \n",
      "14         7297.000000     85.422479       Unweighted events, alpha=0.232042\n",
      "  => Total parameter prop_binEst_mu_q2bin0_bin14[0.00,-7.00,7.00] to be gaussian constrained\n",
      "------------------------------------------------------------\n",
      "15         1168.045993     16.182580       total sum                     \n",
      "15         5210.000000     72.180330       Unweighted events, alpha=0.224193\n",
      "  => Total parameter prop_binEst_mu_q2bin0_bin15[0.00,-7.00,7.00] to be gaussian constrained\n",
      "------------------------------------------------------------\n",
      "16         483.798643      10.333671       total sum                     \n",
      "16         2192.000000     46.818800       Unweighted events, alpha=0.220711\n",
      "  => Total parameter prop_binEst_mu_q2bin0_bin16[0.00,-7.00,7.00] to be gaussian constrained\n",
      "------------------------------------------------------------\n",
      "Channel Est_mu_q2bin1 will use autoMCStats with settings: event-threshold=20, include-signal=1, hist-mode=1\n",
      "============================================================\n",
      "Analysing bin errors for: prop_binEst_mu_q2bin1\n",
      "Poisson cut-off: 20\n",
      "============================================================\n",
      "Bin        Contents        Error           Notes                         \n",
      "0          955.958710      15.735783       total sum                     \n",
      "0          3691.000000     60.753601       Unweighted events, alpha=0.258997\n",
      "  => Total parameter prop_binEst_mu_q2bin1_bin0[0.00,-7.00,7.00] to be gaussian constrained\n",
      "------------------------------------------------------------\n",
      "1          1061.770242     16.757027       total sum                     \n",
      "1          4015.000000     63.364028       Unweighted events, alpha=0.264451\n",
      "  => Total parameter prop_binEst_mu_q2bin1_bin1[0.00,-7.00,7.00] to be gaussian constrained\n",
      "------------------------------------------------------------\n",
      "2          1634.351073     20.602291       total sum                     \n",
      "2          6293.000000     79.328431       Unweighted events, alpha=0.259709\n",
      "  => Total parameter prop_binEst_mu_q2bin1_bin2[0.00,-7.00,7.00] to be gaussian constrained\n",
      "------------------------------------------------------------\n",
      "3          2245.426106     24.184756       total sum                     \n",
      "3          8620.000000     92.843955       Unweighted events, alpha=0.260490\n",
      "  => Total parameter prop_binEst_mu_q2bin1_bin3[0.00,-7.00,7.00] to be gaussian constrained\n",
      "------------------------------------------------------------\n",
      "4          2737.670241     26.460717       total sum                     \n",
      "4          10704.000000    103.460137      Unweighted events, alpha=0.255761\n",
      "  => Total parameter prop_binEst_mu_q2bin1_bin4[0.00,-7.00,7.00] to be gaussian constrained\n",
      "------------------------------------------------------------\n",
      "5          3094.409680     28.119466       total sum                     \n",
      "5          12110.000000    110.045445      Unweighted events, alpha=0.255525\n",
      "  => Total parameter prop_binEst_mu_q2bin1_bin5[0.00,-7.00,7.00] to be gaussian constrained\n",
      "------------------------------------------------------------\n",
      "6          3498.685388     29.793476       total sum                     \n",
      "6          13790.000000    117.430831      Unweighted events, alpha=0.253712\n",
      "  => Total parameter prop_binEst_mu_q2bin1_bin6[0.00,-7.00,7.00] to be gaussian constrained\n",
      "------------------------------------------------------------\n",
      "7          3705.317038     30.454132       total sum                     \n",
      "7          14803.000000    121.667580      Unweighted events, alpha=0.250309\n",
      "  => Total parameter prop_binEst_mu_q2bin1_bin7[0.00,-7.00,7.00] to be gaussian constrained\n",
      "------------------------------------------------------------\n",
      "8          4024.621275     31.795631       total sum                     \n",
      "8          16022.000000    126.578039      Unweighted events, alpha=0.251193\n",
      "  => Total parameter prop_binEst_mu_q2bin1_bin8[0.00,-7.00,7.00] to be gaussian constrained\n",
      "------------------------------------------------------------\n",
      "9          4210.366556     32.376070       total sum                     \n",
      "9          16912.000000    130.046146      Unweighted events, alpha=0.248957\n",
      "  => Total parameter prop_binEst_mu_q2bin1_bin9[0.00,-7.00,7.00] to be gaussian constrained\n",
      "------------------------------------------------------------\n",
      "10         4466.386632     33.579851       total sum                     \n",
      "10         17691.000000    133.007519      Unweighted events, alpha=0.252467\n",
      "  => Total parameter prop_binEst_mu_q2bin1_bin10[0.00,-7.00,7.00] to be gaussian constrained\n",
      "------------------------------------------------------------\n",
      "11         4646.971442     34.903570       total sum                     \n",
      "11         17726.000000    133.139025      Unweighted events, alpha=0.262156\n",
      "  => Total parameter prop_binEst_mu_q2bin1_bin11[0.00,-7.00,7.00] to be gaussian constrained\n",
      "------------------------------------------------------------\n",
      "12         4710.930916     34.244042       total sum                     \n",
      "12         18925.000000    137.568165      Unweighted events, alpha=0.248926\n",
      "  => Total parameter prop_binEst_mu_q2bin1_bin12[0.00,-7.00,7.00] to be gaussian constrained\n",
      "------------------------------------------------------------\n",
      "13         4736.716290     34.261847       total sum                     \n",
      "13         19113.000000    138.249774      Unweighted events, alpha=0.247827\n",
      "  => Total parameter prop_binEst_mu_q2bin1_bin13[0.00,-7.00,7.00] to be gaussian constrained\n",
      "------------------------------------------------------------\n",
      "14         4195.612575     32.295931       total sum                     \n",
      "14         16877.000000    129.911508      Unweighted events, alpha=0.248599\n",
      "  => Total parameter prop_binEst_mu_q2bin1_bin14[0.00,-7.00,7.00] to be gaussian constrained\n",
      "------------------------------------------------------------\n",
      "15         2540.345125     24.721690       total sum                     \n",
      "15         10559.000000    102.756995      Unweighted events, alpha=0.240586\n",
      "  => Total parameter prop_binEst_mu_q2bin1_bin15[0.00,-7.00,7.00] to be gaussian constrained\n",
      "------------------------------------------------------------\n",
      "16         860.848830      14.217042       total sum                     \n",
      "16         3666.000000     60.547502       Unweighted events, alpha=0.234820\n",
      "  => Total parameter prop_binEst_mu_q2bin1_bin16[0.00,-7.00,7.00] to be gaussian constrained\n",
      "------------------------------------------------------------\n",
      "17         242.457675      7.597122        total sum                     \n",
      "17         1019.000000     31.921779       Unweighted events, alpha=0.237937\n",
      "  => Total parameter prop_binEst_mu_q2bin1_bin17[0.00,-7.00,7.00] to be gaussian constrained\n",
      "------------------------------------------------------------\n",
      "18         141.568137      5.869612        total sum                     \n",
      "18         582.000000      24.124676       Unweighted events, alpha=0.243244\n",
      "  => Total parameter prop_binEst_mu_q2bin1_bin18[0.00,-7.00,7.00] to be gaussian constrained\n",
      "------------------------------------------------------------\n",
      "Channel M2_miss_q2bin0 will use autoMCStats with settings: event-threshold=20, include-signal=1, hist-mode=1\n",
      "============================================================\n",
      "Analysing bin errors for: prop_binM2_miss_q2bin0\n",
      "Poisson cut-off: 20\n",
      "============================================================\n",
      "Bin        Contents        Error           Notes                         \n",
      "0          560.531692      12.350620       total sum                     \n",
      "0          2060.000000     45.387223       Unweighted events, alpha=0.272103\n",
      "  => Total parameter prop_binM2_miss_q2bin0_bin0[0.00,-7.00,7.00] to be gaussian constrained\n",
      "------------------------------------------------------------\n",
      "1          273.133581      8.598127        total sum                     \n",
      "1          1009.000000     31.764760       Unweighted events, alpha=0.270697\n",
      "  => Total parameter prop_binM2_miss_q2bin0_bin1[0.00,-7.00,7.00] to be gaussian constrained\n",
      "------------------------------------------------------------\n",
      "2          555.621555      12.172652       total sum                     \n",
      "2          2083.000000     45.639895       Unweighted events, alpha=0.266741\n",
      "  => Total parameter prop_binM2_miss_q2bin0_bin2[0.00,-7.00,7.00] to be gaussian constrained\n",
      "------------------------------------------------------------\n",
      "3          1267.787316     18.471446       total sum                     \n",
      "3          4711.000000     68.636725       Unweighted events, alpha=0.269112\n",
      "  => Total parameter prop_binM2_miss_q2bin0_bin3[0.00,-7.00,7.00] to be gaussian constrained\n",
      "------------------------------------------------------------\n",
      "4          3343.114417     29.351480       total sum                     \n",
      "4          12973.000000    113.899078      Unweighted events, alpha=0.257698\n",
      "  => Total parameter prop_binM2_miss_q2bin0_bin4[0.00,-7.00,7.00] to be gaussian constrained\n",
      "------------------------------------------------------------\n",
      "5          11849.782955    54.006062       total sum                     \n",
      "5          48143.000000    219.415132      Unweighted events, alpha=0.246137\n",
      "  => Total parameter prop_binM2_miss_q2bin0_bin5[0.00,-7.00,7.00] to be gaussian constrained\n",
      "------------------------------------------------------------\n",
      "6          6091.855481     39.321165       total sum                     \n",
      "6          24002.000000    154.925789      Unweighted events, alpha=0.253806\n",
      "  => Total parameter prop_binM2_miss_q2bin0_bin6[0.00,-7.00,7.00] to be gaussian constrained\n",
      "------------------------------------------------------------\n",
      "7          1971.329047     22.275420       total sum                     \n",
      "7          7832.000000     88.498588       Unweighted events, alpha=0.251702\n",
      "  => Total parameter prop_binM2_miss_q2bin0_bin7[0.00,-7.00,7.00] to be gaussian constrained\n",
      "------------------------------------------------------------\n",
      "Channel M2_miss_q2bin1 will use autoMCStats with settings: event-threshold=20, include-signal=1, hist-mode=1\n",
      "============================================================\n",
      "Analysing bin errors for: prop_binM2_miss_q2bin1\n",
      "Poisson cut-off: 20\n",
      "============================================================\n",
      "Bin        Contents        Error           Notes                         \n",
      "0          561.438335      12.472475       total sum                     \n",
      "0          2026.000000     45.011110       Unweighted events, alpha=0.277117\n",
      "  => Total parameter prop_binM2_miss_q2bin1_bin0[0.00,-7.00,7.00] to be gaussian constrained\n",
      "------------------------------------------------------------\n",
      "1          320.425939      9.602632        total sum                     \n",
      "1          1113.000000     33.361655       Unweighted events, alpha=0.287894\n",
      "  => Total parameter prop_binM2_miss_q2bin1_bin1[0.00,-7.00,7.00] to be gaussian constrained\n",
      "------------------------------------------------------------\n",
      "2          549.853414      12.179398       total sum                     \n",
      "2          2038.000000     45.144213       Unweighted events, alpha=0.269800\n",
      "  => Total parameter prop_binM2_miss_q2bin1_bin2[0.00,-7.00,7.00] to be gaussian constrained\n",
      "------------------------------------------------------------\n",
      "3          1234.196554     18.199680       total sum                     \n",
      "3          4599.000000     67.815927       Unweighted events, alpha=0.268362\n",
      "  => Total parameter prop_binM2_miss_q2bin1_bin3[0.00,-7.00,7.00] to be gaussian constrained\n",
      "------------------------------------------------------------\n",
      "4          3538.202198     30.535198       total sum                     \n",
      "4          13427.000000    115.874933      Unweighted events, alpha=0.263514\n",
      "  => Total parameter prop_binM2_miss_q2bin1_bin4[0.00,-7.00,7.00] to be gaussian constrained\n",
      "------------------------------------------------------------\n",
      "5          12233.608330    56.177194       total sum                     \n",
      "5          47423.000000    217.768225      Unweighted events, alpha=0.257968\n",
      "  => Total parameter prop_binM2_miss_q2bin1_bin5[0.00,-7.00,7.00] to be gaussian constrained\n",
      "------------------------------------------------------------\n",
      "6          12070.015989    55.159218       total sum                     \n",
      "6          47883.000000    218.821845      Unweighted events, alpha=0.252073\n",
      "  => Total parameter prop_binM2_miss_q2bin1_bin6[0.00,-7.00,7.00] to be gaussian constrained\n",
      "------------------------------------------------------------\n",
      "7          8452.500318     46.359307       total sum                     \n",
      "7          33243.000000    182.326630      Unweighted events, alpha=0.254264\n",
      "  => Total parameter prop_binM2_miss_q2bin1_bin7[0.00,-7.00,7.00] to be gaussian constrained\n",
      "------------------------------------------------------------\n",
      "8          5792.668692     37.693568       total sum                     \n",
      "8          23617.000000    153.678235      Unweighted events, alpha=0.245275\n",
      "  => Total parameter prop_binM2_miss_q2bin1_bin8[0.00,-7.00,7.00] to be gaussian constrained\n",
      "------------------------------------------------------------\n",
      "9          3787.985692     30.068138       total sum                     \n",
      "9          15871.000000    125.980157      Unweighted events, alpha=0.238673\n",
      "  => Total parameter prop_binM2_miss_q2bin1_bin9[0.00,-7.00,7.00] to be gaussian constrained\n",
      "------------------------------------------------------------\n",
      "10         2436.086047     23.977066       total sum                     \n",
      "10         10323.000000    101.602165      Unweighted events, alpha=0.235986\n",
      "  => Total parameter prop_binM2_miss_q2bin1_bin10[0.00,-7.00,7.00] to be gaussian constrained\n",
      "------------------------------------------------------------\n",
      "11         1427.352275     18.259836       total sum                     \n",
      "11         6110.000000     78.166489       Unweighted events, alpha=0.233609\n",
      "  => Total parameter prop_binM2_miss_q2bin1_bin11[0.00,-7.00,7.00] to be gaussian constrained\n",
      "------------------------------------------------------------\n",
      "12         1306.079973     17.413745       total sum                     \n",
      "12         5625.000000     75.000000       Unweighted events, alpha=0.232192\n",
      "  => Total parameter prop_binM2_miss_q2bin1_bin12[0.00,-7.00,7.00] to be gaussian constrained\n",
      "------------------------------------------------------------\n"
     ]
    },
    {
     "name": "stderr",
     "output_type": "stream",
     "text": [
      "Creating pdfs for individual modes (10): .    1\b\b\b\b\b.    2\b\b\b\b\b.    3\b\b\b\b\b.    4\b\b\b\b\b.    5\b\b\b\b\b.    6\b\b\b\b\b.    7\b\b\b\b\b.    8\b\b\b\b\b.    9\b\b\b\b\b.   10\b\b\b\bdone.\n",
      "Importing combined pdf model_s\n"
     ]
    }
   ],
   "source": [
    "cmd = 'text2workspace.py ' + card_location \n",
    "cmd += ' -o ' + card_location.replace('.txt', '.root')\n",
    "cmd += ' --no-b-only'\n",
    "cmd += ' --verbose 1'\n",
    "# cmd += ' --no-wrappers'\n",
    "os.system(cmd)"
   ]
  },
  {
   "cell_type": "markdown",
   "metadata": {},
   "source": [
    "## Run the Maximum Likelyhood fit"
   ]
  },
  {
   "cell_type": "code",
   "execution_count": 52,
   "metadata": {
    "ExecuteTime": {
     "end_time": "2020-05-20T17:03:19.242400Z",
     "start_time": "2020-05-20T17:03:19.227068Z"
    }
   },
   "outputs": [],
   "source": [
    "seedMLf = '6741'"
   ]
  },
  {
   "cell_type": "code",
   "execution_count": 53,
   "metadata": {
    "ExecuteTime": {
     "end_time": "2020-05-20T17:12:10.179270Z",
     "start_time": "2020-05-20T17:03:19.246825Z"
    },
    "scrolled": true
   },
   "outputs": [
    {
     "name": "stdout",
     "output_type": "stream",
     "text": [
      "combine -M FitDiagnostics --robustFit 1 --robustHesse 1 --cminDefaultMinimizerStrategy 0 --X-rtd MINIMIZER_analytic --skipBOnlyFit --seed 6741 -d cards/v8_low.root -D data_obs --setParameters r=0.26 --setParameterRanges r=0.01,5 -n v8_low --out results/v8_low --saveShapes --saveWithUncertainties --saveNormalizations --plots --verbose 1\n",
      "Messages of type \u001b[1m\u001b[31mError\u001b[0m : 0\n"
     ]
    }
   ],
   "source": [
    "cmd = 'combine -M FitDiagnostics'\n",
    "cmd += ' --robustFit 1 --robustHesse 1 --cminDefaultMinimizerStrategy 0 --X-rtd MINIMIZER_analytic'\n",
    "cmd += ' --skipBOnlyFit'\n",
    "cmd += ' --seed ' + seedMLf\n",
    "cmd += ' -d ' + card_location.replace('.txt', '.root')\n",
    "cmd += ' -D ' + histo[histo.keys()[0]]['data'].GetName()\n",
    "cmd += ' --setParameters r={:.2f}'.format(SM_RDst)\n",
    "cmd += ' --setParameterRanges r=0.01,5'\n",
    "cmd += ' -n {}'.format(card_name)\n",
    "cmd += ' --out ' + outdir\n",
    "cmd += ' --saveShapes --saveWithUncertainties --saveNormalizations'\n",
    "cmd += ' --plots'\n",
    "cmd += ' --verbose 1'\n",
    "\n",
    "print cmd\n",
    "status, output = commands.getstatusoutput(cmd)\n",
    "for line in output.split('\\n'):\n",
    "        if 'ERROR' in line: print line.replace('ERROR', '\\033[1m\\x1b[31mError\\x1b[0m')\n",
    "os.system('mv combine_logger.out ' + outdir + '/combine_logger_FitDiagnostics.out')\n",
    "os.system('mv ./higgsCombine{}.FitDiagnostics.mH120.{}.root '.format(card_name, seedMLf) + outdir + '/');"
   ]
  },
  {
   "cell_type": "code",
   "execution_count": 54,
   "metadata": {
    "ExecuteTime": {
     "end_time": "2020-05-20T17:12:10.263283Z",
     "start_time": "2020-05-20T17:12:10.186847Z"
    }
   },
   "outputs": [
    {
     "name": "stdout",
     "output_type": "stream",
     "text": [
      "R(D*) = 0.307 +4.693/-0.297 [811.7 %]\n"
     ]
    }
   ],
   "source": [
    "f = ur.open(glob(outdir + '/higgsCombine{}.FitDiagnostics.mH120.{}.root'.format(card_name, seedMLf))[0])\n",
    "c, d, u, _ = f['limit']['limit'].array()\n",
    "print 'R(D*) = {:.3f} +{:.3f}/-{:.3f} [{:.1f} %]'.format(c, u-c, c-d, 100*(u-d)*0.5/c)\n",
    "rDst_postFitRegion = [max(0.01,c - 5*(c-d)), min(c + 5*(u-c), 0.9)]"
   ]
  },
  {
   "cell_type": "code",
   "execution_count": 55,
   "metadata": {
    "ExecuteTime": {
     "end_time": "2020-05-20T17:12:10.395726Z",
     "start_time": "2020-05-20T17:12:10.267179Z"
    },
    "code_folding": []
   },
   "outputs": [],
   "source": [
    "# Get post-fit shapes\n",
    "fFitDiagnostics = rt.TFile.Open(outdir + '/fitDiagnostics{}.root'.format(card_name), 'READ')\n",
    "fd = fFitDiagnostics.shapes_fit_s\n",
    "\n",
    "histo_postfit = {}\n",
    "for cat, h_dic in histo.iteritems():\n",
    "    histo_postfit[cat] = {}\n",
    "    for n, h in h_dic.iteritems():\n",
    "        if '__' in n:\n",
    "            continue\n",
    "        h_post = h.Clone(h.GetName() + '_postfit')\n",
    "        if 'data' in n:\n",
    "            h_fit = fd.Get(cat+'/total')\n",
    "            h_data = h.Clone(h.GetName() + '_data')\n",
    "            for i in range(1, h_post.GetNbinsX()+1):\n",
    "                h_post.SetBinContent(i, h_fit.GetBinContent(i))\n",
    "                h_post.SetBinError(i, h_fit.GetBinError(i))     \n",
    "            \n",
    "            histo_postfit[cat]['total'] = h_post\n",
    "            histo_postfit[cat][n] = h_data\n",
    "        else:\n",
    "            h_fit = fd.Get(cat+'/'+n)\n",
    "            for i in range(1, h_post.GetNbinsX()+1):\n",
    "                h_post.SetBinContent(i, h_fit.GetBinContent(i))\n",
    "                h_post.SetBinError(i, h_fit.GetBinError(i)) \n",
    "\n",
    "            histo_postfit[cat][n] = h_post"
   ]
  },
  {
   "cell_type": "code",
   "execution_count": 56,
   "metadata": {
    "ExecuteTime": {
     "end_time": "2020-05-20T17:12:10.654174Z",
     "start_time": "2020-05-20T17:12:10.400514Z"
    },
    "scrolled": false
   },
   "outputs": [
    {
     "data": {
      "image/png": "[encoded data removed]",
      "text/plain": [
       "<IPython.core.display.Image object>"
      ]
     },
     "metadata": {},
     "output_type": "display_data"
    }
   ],
   "source": [
    "h2 = fFitDiagnostics.Get('covariance_fit_s')\n",
    "rt.gStyle.SetPaintTextFormat('.1f')\n",
    "\n",
    "N = h2.GetNbinsX()\n",
    "n=20\n",
    "\n",
    "h2.GetXaxis().SetRange(1, n)\n",
    "h2.GetYaxis().SetRangeUser(N-n, N)\n",
    "h2.SetMarkerSize(1.3)\n",
    "CC = drawOnCMSCanvas(CMS_lumi, [h2, h2], ['colz', 'text same'], tag='tl', mL=0.22, mR=0.15, mB=0.18)\n",
    "CC.SaveAs(outdir+'/fig/covariance_zoom.png')"
   ]
  },
  {
   "cell_type": "code",
   "execution_count": 57,
   "metadata": {
    "ExecuteTime": {
     "end_time": "2020-05-20T17:12:11.544517Z",
     "start_time": "2020-05-20T17:12:10.657608Z"
    },
    "scrolled": false
   },
   "outputs": [
    {
     "data": {
      "image/png": "[encoded data removed]",
      "text/plain": [
       "<IPython.core.display.Image object>"
      ]
     },
     "metadata": {},
     "output_type": "display_data"
    }
   ],
   "source": [
    "cSigPost = plot_gridVarQ2(CMS_lumi, binning, histo_postfit, draw_pulls=True, pulls_ylim=[-5, 5])\n",
    "cSigPost.SaveAs(outdir+'/fig/signalRegion_postfit.png')"
   ]
  },
  {
   "cell_type": "code",
   "execution_count": 58,
   "metadata": {
    "ExecuteTime": {
     "end_time": "2020-05-20T17:12:12.238565Z",
     "start_time": "2020-05-20T17:12:11.549381Z"
    },
    "scrolled": false
   },
   "outputs": [
    {
     "data": {
      "image/png": "[encoded data removed]",
      "text/plain": [
       "<IPython.core.display.Image object>"
      ]
     },
     "metadata": {},
     "output_type": "display_data"
    },
    {
     "data": {
      "image/png": "[encoded data removed]",
      "text/plain": [
       "<IPython.core.display.Image object>"
      ]
     },
     "metadata": {},
     "output_type": "display_data"
    },
    {
     "data": {
      "image/png": "[encoded data removed]",
      "text/plain": [
       "<IPython.core.display.Image object>"
      ]
     },
     "metadata": {},
     "output_type": "display_data"
    },
    {
     "data": {
      "image/png": "[encoded data removed]",
      "text/plain": [
       "<IPython.core.display.Image object>"
      ]
     },
     "metadata": {},
     "output_type": "display_data"
    },
    {
     "data": {
      "image/png": "[encoded data removed]",
      "text/plain": [
       "<IPython.core.display.Image object>"
      ]
     },
     "metadata": {},
     "output_type": "display_data"
    },
    {
     "data": {
      "image/png": "[encoded data removed]",
      "text/plain": [
       "<IPython.core.display.Image object>"
      ]
     },
     "metadata": {},
     "output_type": "display_data"
    }
   ],
   "source": [
    "cSidePost = {}\n",
    "for k in np.sort(sideVar.keys()):\n",
    "    legLoc = [0.67, 0.3, 0.93, 0.72]\n",
    "    if 'MassVis' in sideVar[k]:\n",
    "        legLoc = [0.18, 0.4, 0.4, 0.75]\n",
    "    cSidePost[k] = plot_SingleCategory(CMS_lumi, histo_postfit[k], \n",
    "                                       xtitle=sideXtitle[k], addText=sideAddtext[k], \n",
    "                                       tag=k, legLoc=legLoc,\n",
    "                                       draw_pulls=True\n",
    "                                      )\n",
    "    cSidePost[k].SaveAs(outdir+'/fig/'+k+'_postfit.png')"
   ]
  },
  {
   "cell_type": "code",
   "execution_count": 59,
   "metadata": {
    "ExecuteTime": {
     "end_time": "2020-05-20T17:12:17.527584Z",
     "start_time": "2020-05-20T17:12:12.243275Z"
    },
    "scrolled": false
   },
   "outputs": [
    {
     "name": "stdout",
     "output_type": "stream",
     "text": [
      "python diffNuisances.py results/v8_low/fitDiagnosticsv8_low.root --skipFitB --abs -g results/v8_low/nuisance_difference.root\n",
      "+--------------------------------+------------------------+------------------------------------+\n",
      "|           Parameter            |        pre-fit         |              post-fit              |\n",
      "+--------------------------------+------------------------+------------------------------------+\n",
      "|          DstPipPimBr           | 0.000000 +/- 1.000000  | !-5.98 +/- 0.43 (-5.98sig, 0.43)!  |\n",
      "|            DstmD0Br            |  0.000000 +/- 1.000000 | !+4.86 +/- 0.91 (+4.86sig, 0.91)!  |\n",
      "|        BrB02DstDst0Kstp        |  0.000000 +/- 1.000000 | !+3.39 +/- 0.92 (+3.39sig, 0.92)!  |\n",
      "|   prop_binAddTk_pm_mHad_bin7   |  0.000000 +/- 1.000000 | !-3.31 +/- 0.87 (-3.31sig, 0.87)!  |\n",
      "|         BrB02DstD0Kstp         |  0.000000 +/- 1.000000 | !+3.11 +/- 0.85 (+3.11sig, 0.85)!  |\n",
      "| prop_binAddTk_mm_mHad_bin10_mu |  5.000000 +/- 2.225802 | !+10.81 +/- 2.55 (+2.61sig, 1.15)! |\n",
      "|   prop_binAddTk_p_mHad_bin19   |  0.000000 +/- 1.000000 | !-2.50 +/- 0.86 (-2.50sig, 0.86)!  |\n",
      "|          DstPipPi0Br           | 0.000000 +/- 1.000000  | !-2.44 +/- 0.69 (-2.44sig, 0.69)!  |\n",
      "|  prop_binAddTk_pm_mVis_bin21   | 0.000000 +/- 1.000000  | !-2.35 +/- 0.68 (-2.35sig, 0.68)!  |\n",
      "|   prop_binAddTk_pm_mHad_bin9   |  0.000000 +/- 1.000000 | !+2.04 +/- 0.75 (+2.04sig, 0.75)!  |\n",
      "|        BrB02DstDstpKst0        |  0.000000 +/- 1.000000 |  +1.96 +/- 0.82 (+1.96sig, 0.82)   |\n",
      "|   prop_binAddTk_p_mHad_bin11   |  0.000000 +/- 1.000000 |  -1.88 +/- 0.84 (-1.88sig, 0.84)   |\n",
      "|  prop_binAddTk_pm_mHad_bin10   | 0.000000 +/- 1.000000  |  +1.87 +/- 0.73 (+1.87sig, 0.73)   |\n",
      "|              muBr              |  0.000000 +/- 1.000000 |  -1.85 +/- 0.96 (-1.85sig, 0.96)   |\n",
      "|   prop_binAddTk_m_mHad_bin10   |  0.000000 +/- 1.000000 |  +1.83 +/- 0.77 (+1.83sig, 0.77)   |\n",
      "+--------------------------------+------------------------+------------------------------------+\n"
     ]
    }
   ],
   "source": [
    "cmd = 'python diffNuisances.py '.format(os.environ['CMSSW_BASE'])\n",
    "cmd += outdir + '/fitDiagnostics{}.root'.format(card_name)\n",
    "cmd += ' --skipFitB'\n",
    "# cmd += ' --all'\n",
    "cmd += ' --abs'\n",
    "cmd += ' -g {}/nuisance_difference.root'.format(outdir)\n",
    "print cmd\n",
    "status, output = commands.getstatusoutput(cmd)\n",
    "dumpDiffNuisances(output, outdir)"
   ]
  },
  {
   "cell_type": "code",
   "execution_count": 60,
   "metadata": {
    "ExecuteTime": {
     "end_time": "2020-05-20T17:12:17.546303Z",
     "start_time": "2020-05-20T17:12:17.532600Z"
    }
   },
   "outputs": [],
   "source": [
    "if fastRun:\n",
    "    raise"
   ]
  },
  {
   "cell_type": "markdown",
   "metadata": {},
   "source": [
    "## Run likelyhood scan"
   ]
  },
  {
   "cell_type": "code",
   "execution_count": 61,
   "metadata": {
    "ExecuteTime": {
     "end_time": "2020-05-20T17:14:48.831187Z",
     "start_time": "2020-05-20T17:12:17.550668Z"
    }
   },
   "outputs": [
    {
     "name": "stdout",
     "output_type": "stream",
     "text": [
      "combine -M MultiDimFit --algo grid --points=100 --robustFit 1 -d cards/v8_low.root -D data_obs --X-rtd MINIMIZER_analytic --rMin=0.0100 --rMax=0.9000 -n v8_low_nominal --verbose -1\n",
      "----------------------------------\n",
      "R(D*) = 0.308 +0.131/-0.132 [42.8 %]\n",
      "Sigma = 0.132\n",
      "----------------------------------\n",
      "\n"
     ]
    },
    {
     "data": {
      "image/png": "[encoded data removed]",
      "text/plain": [
       "<IPython.core.display.Image object>"
      ]
     },
     "metadata": {},
     "output_type": "display_data"
    },
    {
     "name": "stdout",
     "output_type": "stream",
     "text": [
      " <<< Combine >>> \n",
      "   Options for Robust Minimizer :: \n",
      "        Tolerance  0.1\n",
      "        Strategy   0\n",
      "        Type,Algo  Minuit2,Migrad\n",
      ">>> method used is MultiDimFit\n",
      ">>> random number generator seed is 123456\n",
      ">> Enabling analytic minimisation of bin-wise statistical uncertainty parameters\n",
      ">> Disabling analytic minimisation of bin-wise statistical uncertainty parameters\n",
      "Done in 2.38 min (cpu), 2.38 min (real)\n",
      "--------------------------------------\n",
      "scan\n",
      "--------------------------------------\n",
      "[{'lo': 0.1757980748238767, 'hi': 0.4389141119580964, 'valid_hi': True, 'valid_lo': True}]\n",
      "[{'lo': 0.04432344061682246, 'hi': 0.570583346174299, 'valid_hi': True, 'valid_lo': True}]\n"
     ]
    },
    {
     "name": "stderr",
     "output_type": "stream",
     "text": [
      "Info in <TCanvas::Print>: pdf file ./scan.pdf has been created\n",
      "Info in <TCanvas::Print>: png file ./scan.png has been created\n"
     ]
    }
   ],
   "source": [
    "cmd = 'combine'\n",
    "cmd += ' -M MultiDimFit'\n",
    "cmd += ' --algo grid --points=100'\n",
    "cmd += ' --robustFit 1'\n",
    "cmd += ' -d ' + card_location.replace('.txt', '.root')\n",
    "cmd += ' -D ' + histo[histo.keys()[0]]['data'].GetName()\n",
    "cmd += ' --X-rtd MINIMIZER_analytic'\n",
    "cmd += ' --rMin={:.4f} --rMax={:.4f}'.format(*rDst_postFitRegion)\n",
    "cmd += ' -n {}_nominal'.format(card_name)\n",
    "cmd += ' --verbose -1'\n",
    "print cmd\n",
    "os.system(cmd)\n",
    "cmd = 'plot1DScan.py higgsCombine{}_nominal.MultiDimFit.mH120.root'.format(card_name)\n",
    "cmd += '; mv scan.png scan_nominal.png'\n",
    "os.system(cmd)\n",
    "res_nominal = getUncertaintyFromLimitTree('higgsCombine{}_nominal.MultiDimFit.mH120.root'.format(card_name))\n",
    "display(Image(filename='scan_nominal.png'))"
   ]
  },
  {
   "cell_type": "markdown",
   "metadata": {},
   "source": [
    "### Uncertainy breakdown by group"
   ]
  },
  {
   "cell_type": "code",
   "execution_count": 62,
   "metadata": {
    "ExecuteTime": {
     "end_time": "2020-05-20T17:14:56.797561Z",
     "start_time": "2020-05-20T17:14:48.835408Z"
    }
   },
   "outputs": [
    {
     "name": "stdout",
     "output_type": "stream",
     "text": [
      "combine -M MultiDimFit --algo none --cminDefaultMinimizerStrategy=2 --robustFit 1 --X-rtd MINIMIZER_analytic -d cards/v8_low.root -D data_obs --setParameters r=0.26 --setParameterRanges r=0.001,1 -n v8_low_bestfit --saveWorkspace --verbose -1\n",
      " <<< Combine >>> \n",
      "   Options for Robust Minimizer :: \n",
      "        Tolerance  0.1\n",
      "        Strategy   0\n",
      "        Type,Algo  Minuit2,Migrad\n",
      ">>> method used is MultiDimFit\n",
      ">>> random number generator seed is 123456\n",
      "   r :    +0.307\n",
      "Done in 0.06 min (cpu), 0.06 min (real)\n"
     ]
    }
   ],
   "source": [
    "cmd = 'combine -M MultiDimFit --algo none'\n",
    "cmd += ' --cminDefaultMinimizerStrategy=2 --robustFit 1 --X-rtd MINIMIZER_analytic'\n",
    "cmd += ' -d ' + card_location.replace('.txt', '.root')\n",
    "cmd += ' -D ' + histo[histo.keys()[0]]['data'].GetName()\n",
    "cmd += ' --setParameters r={:.2f}'.format(SM_RDst)\n",
    "cmd += ' --setParameterRanges r=0.001,1'\n",
    "cmd += ' -n {}_bestfit'.format(card_name)\n",
    "cmd += ' --saveWorkspace --verbose -1'\n",
    "print cmd\n",
    "os.system(cmd);"
   ]
  },
  {
   "cell_type": "code",
   "execution_count": 63,
   "metadata": {
    "ExecuteTime": {
     "end_time": "2020-05-20T17:15:17.278420Z",
     "start_time": "2020-05-20T17:14:56.804695Z"
    }
   },
   "outputs": [
    {
     "name": "stdout",
     "output_type": "stream",
     "text": [
      "combine -M MultiDimFit --algo grid --points=100 --cminDefaultMinimizerStrategy=2 --robustFit 1 --X-rtd MINIMIZER_analytic -d higgsCombinev8_low_bestfit.MultiDimFit.mH120.root -D data_obs --rMin=0.0100 --rMax=0.9000 -n v8_low_stat --snapshotName MultiDimFit --freezeNuisanceGroups=autoMCStats,allShape --verbose -1\n",
      " <<< Combine >>> \n",
      "   Options for Robust Minimizer :: \n",
      "        Tolerance  0.1\n",
      "        Strategy   0\n",
      "        Type,Algo  Minuit2,Migrad\n",
      ">>> method used is MultiDimFit\n",
      ">>> random number generator seed is 123456\n",
      ">> Disabling analytic minimisation of bin-wise statistical uncertainty parameters\n",
      "Done in 0.28 min (cpu), 0.28 min (real)\n"
     ]
    }
   ],
   "source": [
    "# Statistical uncertainty\n",
    "cmd = 'combine -M MultiDimFit --algo grid --points=100'\n",
    "cmd += ' --cminDefaultMinimizerStrategy=2 --robustFit 1 --X-rtd MINIMIZER_analytic'\n",
    "cmd += ' -d higgsCombine{}_bestfit.MultiDimFit.mH120.root'.format(card_name)\n",
    "cmd += ' -D ' + histo[histo.keys()[0]]['data'].GetName()\n",
    "cmd += ' --rMin={:.4f} --rMax={:.4f}'.format(*rDst_postFitRegion)\n",
    "cmd += ' -n {}_stat'.format(card_name)\n",
    "cmd += ' --snapshotName MultiDimFit'\n",
    "cmd += ' --freezeNuisanceGroups=autoMCStats,allShape'\n",
    "cmd += ' --verbose -1'\n",
    "print cmd\n",
    "os.system(cmd);"
   ]
  },
  {
   "cell_type": "code",
   "execution_count": 64,
   "metadata": {
    "ExecuteTime": {
     "end_time": "2020-05-20T17:15:48.892721Z",
     "start_time": "2020-05-20T17:15:17.283715Z"
    }
   },
   "outputs": [
    {
     "name": "stdout",
     "output_type": "stream",
     "text": [
      "combine -M MultiDimFit --algo grid --points=100 --cminDefaultMinimizerStrategy=2 --robustFit 1 --X-rtd MINIMIZER_analytic -d higgsCombinev8_low_bestfit.MultiDimFit.mH120.root -D data_obs --rMin=0.0100 --rMax=0.9000 -n v8_low_MCstat --snapshotName MultiDimFit --freezeNuisanceGroups=autoMCStats --verbose -1\n",
      " <<< Combine >>> \n",
      "   Options for Robust Minimizer :: \n",
      "        Tolerance  0.1\n",
      "        Strategy   0\n",
      "        Type,Algo  Minuit2,Migrad\n",
      ">>> method used is MultiDimFit\n",
      ">>> random number generator seed is 123456\n",
      ">> Disabling analytic minimisation of bin-wise statistical uncertainty parameters\n",
      "Done in 0.46 min (cpu), 0.46 min (real)\n"
     ]
    }
   ],
   "source": [
    "# MC Statistics\n",
    "cmd = 'combine -M MultiDimFit --algo grid --points=100'\n",
    "cmd += ' --cminDefaultMinimizerStrategy=2 --robustFit 1 --X-rtd MINIMIZER_analytic'\n",
    "cmd += ' -d higgsCombine{}_bestfit.MultiDimFit.mH120.root'.format(card_name)\n",
    "cmd += ' -D ' + histo[histo.keys()[0]]['data'].GetName()\n",
    "cmd += ' --rMin={:.4f} --rMax={:.4f}'.format(*rDst_postFitRegion)\n",
    "cmd += ' -n {}_MCstat'.format(card_name)\n",
    "cmd += ' --snapshotName MultiDimFit'\n",
    "cmd += ' --freezeNuisanceGroups=autoMCStats'\n",
    "cmd += ' --verbose -1'\n",
    "print cmd\n",
    "os.system(cmd);"
   ]
  },
  {
   "cell_type": "code",
   "execution_count": 65,
   "metadata": {
    "ExecuteTime": {
     "end_time": "2020-05-20T17:15:53.236053Z",
     "start_time": "2020-05-20T17:15:48.897837Z"
    }
   },
   "outputs": [
    {
     "name": "stdout",
     "output_type": "stream",
     "text": [
      "plot1DScan.py higgsCombinev8_low_nominal.MultiDimFit.mH120.root --others \"higgsCombinev8_low_MCstat.MultiDimFit.mH120.root:Freeze MC stat:4\" \"higgsCombinev8_low_stat.MultiDimFit.mH120.root:Freeze all:2\" --breakdown MCstat,syst,stat; mv scan.png scan_MCstat.png\n"
     ]
    },
    {
     "data": {
      "image/png": "[encoded data removed]",
      "text/plain": [
       "<IPython.core.display.Image object>"
      ]
     },
     "metadata": {},
     "output_type": "display_data"
    },
    {
     "name": "stdout",
     "output_type": "stream",
     "text": [
      "--------------------------------------\n",
      "scan\n",
      "--------------------------------------\n",
      "[{'lo': 0.1757980748238767, 'hi': 0.4389141119580964, 'valid_hi': True, 'valid_lo': True}]\n",
      "[{'lo': 0.04432344061682246, 'hi': 0.570583346174299, 'valid_hi': True, 'valid_lo': True}]\n",
      "[{'lo': 0.19194642342960536, 'hi': 0.42329816818890764, 'valid_hi': True, 'valid_lo': True}]\n",
      "[{'lo': 0.07674844304788625, 'hi': 0.5402179269523435, 'valid_hi': True, 'valid_lo': True}]\n",
      "[{'lo': 0.20304748711526702, 'hi': 0.41159198129102714, 'valid_hi': True, 'valid_lo': True}]\n",
      "[{'lo': 0.09833424169630466, 'hi': 0.5159682779608643, 'valid_hi': True, 'valid_lo': True}]\n"
     ]
    },
    {
     "name": "stderr",
     "output_type": "stream",
     "text": [
      "Info in <TCanvas::Print>: pdf file ./scan.pdf has been created\n",
      "Info in <TCanvas::Print>: png file ./scan.png has been created\n"
     ]
    }
   ],
   "source": [
    "cmd = 'plot1DScan.py higgsCombine{}_nominal.MultiDimFit.mH120.root'.format(card_name)\n",
    "cmd += ' --others'\n",
    "cmd += ' \"higgsCombine{}_MCstat.MultiDimFit.mH120.root:Freeze MC stat:4\"'.format(card_name)\n",
    "cmd += ' \"higgsCombine{}_stat.MultiDimFit.mH120.root:Freeze all:2\"'.format(card_name)\n",
    "cmd += ' --breakdown MCstat,syst,stat'\n",
    "cmd += '; mv scan.png scan_MCstat.png'\n",
    "print cmd\n",
    "os.system(cmd)\n",
    "display(Image(filename='scan_MCstat.png'))"
   ]
  },
  {
   "cell_type": "code",
   "execution_count": 66,
   "metadata": {
    "ExecuteTime": {
     "end_time": "2020-05-20T17:15:53.361430Z",
     "start_time": "2020-05-20T17:15:53.243445Z"
    }
   },
   "outputs": [],
   "source": [
    "os.system('mv higgsCombine*.root ' + outdir + '/')\n",
    "os.system('mv scan* ' + outdir + '/')\n",
    "os.system('mv combine_logger.out ' + outdir + '/');"
   ]
  },
  {
   "cell_type": "markdown",
   "metadata": {},
   "source": [
    "## Run the impact plots"
   ]
  },
  {
   "cell_type": "markdown",
   "metadata": {},
   "source": [
    "Fit first the POI"
   ]
  },
  {
   "cell_type": "code",
   "execution_count": 67,
   "metadata": {
    "ExecuteTime": {
     "end_time": "2020-05-20T17:15:53.384594Z",
     "start_time": "2020-05-20T17:15:53.367011Z"
    }
   },
   "outputs": [],
   "source": [
    "os.mkdir(outdir+'/impactPlots')"
   ]
  },
  {
   "cell_type": "code",
   "execution_count": 68,
   "metadata": {
    "ExecuteTime": {
     "end_time": "2020-05-20T17:16:32.624112Z",
     "start_time": "2020-05-20T17:15:53.389729Z"
    },
    "scrolled": true
   },
   "outputs": [
    {
     "name": "stdout",
     "output_type": "stream",
     "text": [
      "Have POIs: ['r']\n",
      " <<< Combine >>> \n",
      "   Options for Robust Minimizer :: \n",
      "        Tolerance  0.1\n",
      "        Strategy   0\n",
      "        Type,Algo  Minuit2,Migrad\n",
      ">>> method used is MultiDimFit\n",
      ">>> random number generator seed is 123456\n",
      "   r :    +0.307   -0.131/+0.130 (68%)\n",
      "Done in 0.52 min (cpu), 0.52 min (real)\n",
      ">> combine -M MultiDimFit -n _initialFit_v8_low --algo singles --redefineSignalPOIs r --robustFit 1 --X-rtd MINIMIZER_analytic -D data_obs --setParameterRanges r=0.01,1 --verbose -1 -m 120 -d ../../../cards/v8_low.root --setParameters r=0.26\n"
     ]
    }
   ],
   "source": [
    "cmd = 'cd {}/impactPlots;'.format(outdir)\n",
    "cmd += ' combineTool.py -M Impacts --doInitialFit -m 120'\n",
    "cmd += ' --robustFit 1 --X-rtd MINIMIZER_analytic'\n",
    "cmd += ' -d ../../../' + card_location.replace('.txt', '.root')\n",
    "cmd += ' -D ' + histo[histo.keys()[0]]['data'].GetName()\n",
    "cmd += ' --setParameters r={:.2f}'.format(SM_RDst)\n",
    "cmd += ' --setParameterRanges r=0.01,1'\n",
    "cmd += ' -n {}'.format(card_name)\n",
    "cmd += ' --verbose -1'\n",
    "os.system(cmd);"
   ]
  },
  {
   "cell_type": "markdown",
   "metadata": {},
   "source": [
    " Perform a similar scan for each nuisance parameter"
   ]
  },
  {
   "cell_type": "markdown",
   "metadata": {},
   "source": [
    "If running on Tier2 condor remmeber to add this line to CombineToolBase.py ln 11\n",
    "``source /cvmfs/cms.cern.ch/cmsset_default.sh``"
   ]
  },
  {
   "cell_type": "code",
   "execution_count": 69,
   "metadata": {
    "ExecuteTime": {
     "end_time": "2020-05-20T17:16:38.011658Z",
     "start_time": "2020-05-20T17:16:32.628863Z"
    }
   },
   "outputs": [
    {
     "name": "stdout",
     "output_type": "stream",
     "text": [
      "cd results/v8_low/impactPlots; combineTool.py -M Impacts --doFits -m 120 --robustFit 1 --X-rtd MINIMIZER_analytic --parallel 100 --job-mode condor --task-name combineImpacts --sub-opts \"\n",
      "+RunAsOwner = True\n",
      "+InteractiveUser = True\n",
      "+SingularityImage = \\\"/cvmfs/singularity.opensciencegrid.org/bbockelm/cms:rhel7\\\"\n",
      "+SingularityBindCVMFS = True\n",
      "+MaxRuntime = 3600\n",
      "RequestDisk = 200000\n",
      "RequestMemory = 2500\n",
      "RequestCpus = 1\n",
      "x509userproxy = \\$ENV(X509_USER_PROXY)\n",
      "\" -d ../../../cards/v8_low.root -D data_obs -n v8_low --verbose -1\n",
      "Submitting job(s)..............................................................................................................................................................................................................................................................................................................................................\n",
      "334 job(s) submitted to cluster 2324288.\n",
      "Have POIs: ['r']\n",
      "Have parameters: 334\n",
      ">> condor job script will be condor_combineImpacts.sh\n",
      ">> condor_submit condor_combineImpacts.sub -batch-name combineImpacts\n"
     ]
    }
   ],
   "source": [
    "cmd = 'cd {}/impactPlots;'.format(outdir)\n",
    "cmd += ' combineTool.py -M Impacts --doFits -m 120'\n",
    "cmd += ' --robustFit 1 --X-rtd MINIMIZER_analytic'\n",
    "# cmd += ' --parallel 20'\n",
    "cmd += ' --parallel 100 --job-mode condor --task-name combineImpacts'\n",
    "cmd += ' --sub-opts \"{}\"'.format(stringJubCustomizationCaltechT2.replace('\"', '\\\\\\\"').replace('$', '\\$'))\n",
    "cmd += ' -d ../../../' + card_location.replace('.txt', '.root')\n",
    "cmd += ' -D ' + histo[histo.keys()[0]]['data'].GetName()\n",
    "cmd += ' -n {}'.format(card_name)\n",
    "cmd += ' --verbose -1'\n",
    "print cmd\n",
    "os.system(cmd);"
   ]
  },
  {
   "cell_type": "markdown",
   "metadata": {},
   "source": [
    "Collect the results"
   ]
  },
  {
   "cell_type": "code",
   "execution_count": 70,
   "metadata": {
    "ExecuteTime": {
     "end_time": "2020-05-20T17:19:27.470661Z",
     "start_time": "2020-05-20T17:16:38.016663Z"
    }
   },
   "outputs": [
    {
     "name": "stdout",
     "output_type": "stream",
     "text": [
      "ocerri combineImpacts   5/20 10:16      _     97    237    334 2324288.0-333\n",
      "ocerri combineImpacts   5/20 10:16      _    334      _    334 2324288.0-333\n",
      "ocerri combineImpacts   5/20 10:16      _    334      _    334 2324288.0-333\n",
      "ocerri combineImpacts   5/20 10:16    290     44      _    334 2324288.2-332\n",
      "ocerri combineImpacts   5/20 10:16    315     19      _    334 2324288.19-332\n",
      "cd results/v8_low/impactPlots; combineTool.py -M Impacts -o impacts.json -m 120 -d ../../../cards/v8_low.root -n v8_low\n",
      "Have POIs: ['r']\n",
      "Have parameters: 334\n"
     ]
    }
   ],
   "source": [
    "status, output = commands.getstatusoutput('condor_q')\n",
    "while 'combineImpacts' in output:\n",
    "    time.sleep(20)\n",
    "    status, output = commands.getstatusoutput('condor_q')\n",
    "    for l in output.split('\\n'):\n",
    "        if 'combineImpacts' in l: \n",
    "            print l\n",
    "            sys.stdout.flush()\n",
    "cmd = 'cd {}/impactPlots;'.format(outdir)\n",
    "cmd += ' combineTool.py -M Impacts -o impacts.json -m 120'\n",
    "cmd += ' -d ../../../' + card_location.replace('.txt', '.root')\n",
    "cmd += ' -n {}'.format(card_name)\n",
    "print cmd\n",
    "os.system(cmd);"
   ]
  },
  {
   "cell_type": "code",
   "execution_count": 71,
   "metadata": {
    "ExecuteTime": {
     "end_time": "2020-05-20T17:19:30.464931Z",
     "start_time": "2020-05-20T17:19:27.475585Z"
    },
    "scrolled": true
   },
   "outputs": [
    {
     "data": {
      "text/html": [
       "\n",
       "        <iframe\n",
       "            width=\"900\"\n",
       "            height=\"600\"\n",
       "            src=\"results/v8_low/impacts.pdf\"\n",
       "            frameborder=\"0\"\n",
       "            allowfullscreen\n",
       "        ></iframe>\n",
       "        "
      ],
      "text/plain": [
       "<IPython.lib.display.IFrame at 0x7fefb3072cd0>"
      ]
     },
     "execution_count": 71,
     "metadata": {},
     "output_type": "execute_result"
    },
    {
     "name": "stdout",
     "output_type": "stream",
     "text": [
      ">> Doing page 0, have 30 parameters\n",
      ">> Doing page 1, have 30 parameters\n",
      ">> Doing page 2, have 30 parameters\n",
      ">> Doing page 3, have 30 parameters\n",
      ">> Doing page 4, have 30 parameters\n",
      ">> Doing page 5, have 30 parameters\n",
      ">> Doing page 6, have 30 parameters\n",
      ">> Doing page 7, have 30 parameters\n",
      ">> Doing page 8, have 30 parameters\n",
      ">> Doing page 9, have 30 parameters\n",
      ">> Doing page 10, have 30 parameters\n",
      ">> Doing page 11, have 4 parameters\n"
     ]
    },
    {
     "name": "stderr",
     "output_type": "stream",
     "text": [
      "Info in <TCanvas::Print>: pdf file ./impacts.pdf has been created using the current canvas\n",
      "TCanvas::Constructor:0: RuntimeWarning: Deleting canvas with same name: impacts\n",
      "Info in <TCanvas::Print>: Current canvas added to pdf file ./impacts.pdf\n",
      "TCanvas::Constructor:0: RuntimeWarning: Deleting canvas with same name: impacts\n",
      "Info in <TCanvas::Print>: Current canvas added to pdf file ./impacts.pdf\n",
      "TCanvas::Constructor:0: RuntimeWarning: Deleting canvas with same name: impacts\n",
      "Info in <TCanvas::Print>: Current canvas added to pdf file ./impacts.pdf\n",
      "TCanvas::Constructor:0: RuntimeWarning: Deleting canvas with same name: impacts\n",
      "Info in <TCanvas::Print>: Current canvas added to pdf file ./impacts.pdf\n",
      "TCanvas::Constructor:0: RuntimeWarning: Deleting canvas with same name: impacts\n",
      "Info in <TCanvas::Print>: Current canvas added to pdf file ./impacts.pdf\n",
      "TCanvas::Constructor:0: RuntimeWarning: Deleting canvas with same name: impacts\n",
      "Info in <TCanvas::Print>: Current canvas added to pdf file ./impacts.pdf\n",
      "TCanvas::Constructor:0: RuntimeWarning: Deleting canvas with same name: impacts\n",
      "Info in <TCanvas::Print>: Current canvas added to pdf file ./impacts.pdf\n",
      "TCanvas::Constructor:0: RuntimeWarning: Deleting canvas with same name: impacts\n",
      "Info in <TCanvas::Print>: Current canvas added to pdf file ./impacts.pdf\n",
      "TCanvas::Constructor:0: RuntimeWarning: Deleting canvas with same name: impacts\n",
      "Info in <TCanvas::Print>: Current canvas added to pdf file ./impacts.pdf\n",
      "TCanvas::Constructor:0: RuntimeWarning: Deleting canvas with same name: impacts\n",
      "Info in <TCanvas::Print>: Current canvas added to pdf file ./impacts.pdf\n",
      "TCanvas::Constructor:0: RuntimeWarning: Deleting canvas with same name: impacts\n",
      "Info in <TCanvas::Print>: Current canvas added to pdf file ./impacts.pdf and file closed\n"
     ]
    }
   ],
   "source": [
    "rename = {\n",
    "'r': 'R(D*)',\n",
    "'B0pT': 'B_{0} p_{T} spectrum',\n",
    "'B2DstCLNR0':'R_{0} (CLN B#rightarrow D*#ell#nu)',\n",
    "'B2DstCLNR1':'R_{1} (CLN B#rightarrow D*)',\n",
    "'B2DstCLNR2':'R_{2} (CLN B#rightarrow D*)',\n",
    "'B2DstCLNRhoSq':'#rho^{2} (CLN B#rightarrow D*)',\n",
    "'trgSF': 'Trigger scale factor',\n",
    "'xsecpp2bbXlumi': 'Luminosity*#sigma_{pp#rightarrowbb}',\n",
    "    \n",
    "}\n",
    "\n",
    "procName_dic = {\n",
    "'mu'        : 'B_{0}#rightarrow D*#mu#nu',\n",
    "'tau'       : 'B_{0}#rightarrow D*#tau#nu',\n",
    "'DstmD0'    : 'B^{+}#rightarrow D*D_{0}',\n",
    "'DstmDp'    : 'B^{+}#rightarrow D*D^{+}',\n",
    "'DstmDsp'   : 'B^{+}#rightarrow D*D_{s}^{+}',\n",
    "'DstPip'    : 'B^{+}#rightarrow D*#pi^{+}#mu#nu',\n",
    "'DstPipPi0' : 'B^{+}#rightarrow D*#pi^{+}#pi^{0}#mu#nu',\n",
    "'DstPi0'    : 'B_{0}#rightarrow D*#pi^{0}#mu#nu',\n",
    "'DstPipPim' : 'B_{0}#rightarrow D*#pi^{+}#pi^{-}#mu#nu',\n",
    "'DstPi0Pi0' : 'B_{0}#rightarrow D*#pi^{0}#pi^{0}#mu#nu'\n",
    "}\n",
    "\n",
    "for n in processes:\n",
    "    rename[n+'Br'] = 'Branching fraction ' + procName_dic[n]\n",
    "\n",
    "d = json.load(open(outdir+'/impactPlots/impacts.json', 'r'))\n",
    "for par in d['params']:\n",
    "    name = str(par['name'])\n",
    "    if not name.startswith('prop_bin'): continue\n",
    "    label = name.replace('prop_bin', 'MC stat. ')\n",
    "    label = label.replace('M2_miss_', 'M^{2}_{miss} ')\n",
    "    label = label.replace('Est_mu_', 'E*_{#mu} ')\n",
    "    label = label.replace('q2bin', '[b_{q^{2}}=')\n",
    "    label = label.replace('_bin', '] ')\n",
    "    rename[name] = label + 10*' '\n",
    "    \n",
    "json.dump(rename, open(outdir+'/impactPlots/rename.json', 'w'))\n",
    "\n",
    "cmd = 'cd {};'.format(outdir)\n",
    "cmd += 'plotImpacts.py -i impactPlots/impacts.json -o impacts -t impactPlots/rename.json'\n",
    "os.system(cmd)\n",
    "IFrame(outdir+'/impacts.pdf', width=900, height=600)"
   ]
  },
  {
   "cell_type": "markdown",
   "metadata": {},
   "source": [
    "## Run the Goodness of fit test"
   ]
  },
  {
   "cell_type": "markdown",
   "metadata": {},
   "source": [
    "Run the observed test stat value"
   ]
  },
  {
   "cell_type": "code",
   "execution_count": 72,
   "metadata": {
    "ExecuteTime": {
     "end_time": "2020-05-20T17:19:35.755748Z",
     "start_time": "2020-05-20T17:19:30.471793Z"
    },
    "scrolled": true
   },
   "outputs": [
    {
     "name": "stdout",
     "output_type": "stream",
     "text": [
      "combine -M GoodnessOfFit --toysFrequentist --algo=saturated --X-rtd MINIMIZER_analytic --cminDefaultMinimizerStrategy 0 -d results/v8_low/higgsCombinev8_low_bestfit.MultiDimFit.mH120.root --snapshotName MultiDimFit --bypassFrequentistFit -D data_obs -n Obs -t 0 -s 1 --setParameters r=0.26 --setParameterRanges r=0.001,1 --plots --verbose -1\n"
     ]
    },
    {
     "data": {
      "text/plain": [
       "0"
      ]
     },
     "execution_count": 72,
     "metadata": {},
     "output_type": "execute_result"
    },
    {
     "name": "stdout",
     "output_type": "stream",
     "text": [
      " <<< Combine >>> \n",
      "Will use saturated models to compute goodness of fit for a binned likelihood\n",
      ">>> method used is GoodnessOfFit\n",
      ">>> random number generator seed is 1\n",
      "Set Range of Parameter r To : (0.001,1)\n",
      "Set Default Value of Parameter r To : 0.26\n",
      ">> Enabling analytic minimisation of bin-wise statistical uncertainty parameters\n",
      ">> Disabling analytic minimisation of bin-wise statistical uncertainty parameters\n",
      ">> Enabling analytic minimisation of bin-wise statistical uncertainty parameters\n",
      ">> Disabling analytic minimisation of bin-wise statistical uncertainty parameters\n",
      "\n",
      " --- GoodnessOfFit --- \n",
      "Best fit test statistic: 590.845\n",
      "Done in 0.02 min (cpu), 0.02 min (real)\n"
     ]
    },
    {
     "name": "stderr",
     "output_type": "stream",
     "text": [
      "Missing background ModelConfig 'ModelConfig_bonly' in workspace 'w' in file /storage/user/ocerri/BPhysics/Combine/results/v8_low/higgsCombinev8_low_bestfit.MultiDimFit.mH120.root\n",
      "Will make one from the signal ModelConfig 'ModelConfig' setting signal strenth 'r' to zero\n",
      "RooSimultaneousOpt: number of channel masks must equal number of channels\n"
     ]
    }
   ],
   "source": [
    "cmd = 'combine -M GoodnessOfFit --toysFrequentist --algo=saturated'\n",
    "cmd += ' --X-rtd MINIMIZER_analytic --cminDefaultMinimizerStrategy 0'\n",
    "cmd += ' -d results/{cn}/higgsCombine{cn}_bestfit.MultiDimFit.mH120.root'.format(cn=card_name)\n",
    "cmd += ' --snapshotName MultiDimFit --bypassFrequentistFit'\n",
    "cmd += ' -D ' + histo[histo.keys()[0]]['data'].GetName()\n",
    "cmd += ' -n Obs'                                    # Just the output name\n",
    "cmd += ' -t 0'                                      # Don't run toys\n",
    "cmd += ' -s 1'                                      # Random seed\n",
    "cmd += ' --setParameters r={:.2f}'.format(SM_RDst)\n",
    "cmd += ' --setParameterRanges r=0.001,1'\n",
    "cmd += ' --plots --verbose -1'\n",
    "print cmd\n",
    "os.system(cmd)"
   ]
  },
  {
   "cell_type": "markdown",
   "metadata": {},
   "source": [
    "Run the test stat toy distribution"
   ]
  },
  {
   "cell_type": "code",
   "execution_count": 73,
   "metadata": {
    "ExecuteTime": {
     "end_time": "2020-05-20T17:19:35.791257Z",
     "start_time": "2020-05-20T17:19:35.763521Z"
    }
   },
   "outputs": [
    {
     "name": "stdout",
     "output_type": "stream",
     "text": [
      "combine -M GoodnessOfFit --toysFrequentist --algo=saturated --X-rtd MINIMIZER_analytic --cminDefaultMinimizerStrategy 0 -d results/v8_low/higgsCombinev8_low_bestfit.MultiDimFit.mH120.root --snapshotName MultiDimFit --bypassFrequentistFit -D data_obs -n Toys -t 20 -s -1 --setParameters r=0.26 --setParameterRanges r=0.001,1 --plots --verbose -1\n"
     ]
    }
   ],
   "source": [
    "cmd = 'combine -M GoodnessOfFit --toysFrequentist --algo=saturated'\n",
    "cmd += ' --X-rtd MINIMIZER_analytic --cminDefaultMinimizerStrategy 0'\n",
    "cmd += ' -d results/{cn}/higgsCombine{cn}_bestfit.MultiDimFit.mH120.root'.format(cn=card_name)\n",
    "cmd += ' --snapshotName MultiDimFit --bypassFrequentistFit'\n",
    "cmd += ' -D ' + histo[histo.keys()[0]]['data'].GetName()\n",
    "cmd += ' -n Toys'                                   # Just the output name\n",
    "cmd += ' -t 20'                                     # Number of toys to run\n",
    "cmd += ' -s -1'                                     # Random seed\n",
    "cmd += ' --setParameters r={:.2f}'.format(SM_RDst)\n",
    "cmd += ' --setParameterRanges r=0.001,1'\n",
    "cmd += ' --plots --verbose -1'\n",
    "cmdToys = cmd\n",
    "print cmdToys\n",
    "# os.system(cmdToys)"
   ]
  },
  {
   "cell_type": "code",
   "execution_count": null,
   "metadata": {
    "ExecuteTime": {
     "start_time": "2020-05-20T17:01:10.854Z"
    }
   },
   "outputs": [],
   "source": [
    "from multiprocessing import Pool\n",
    "\n",
    "def runCommand(cmd):\n",
    "    os.system(cmd)\n",
    "\n",
    "Nrep = 15\n",
    "p = Pool(min(20,Nrep))\n",
    "outputs = p.map(runCommand, Nrep*[cmdToys])"
   ]
  },
  {
   "cell_type": "markdown",
   "metadata": {},
   "source": [
    "Combine them to get the p-value"
   ]
  },
  {
   "cell_type": "code",
   "execution_count": null,
   "metadata": {
    "ExecuteTime": {
     "start_time": "2020-05-20T17:01:10.857Z"
    }
   },
   "outputs": [],
   "source": [
    "f = ur.open('higgsCombineObs.GoodnessOfFit.mH120.1.root')\n",
    "s_obs = f['limit']['limit'].array()[0]\n",
    "\n",
    "s_toys = []\n",
    "for name_toys in glob('higgsCombineToys.GoodnessOfFit.*.root'):\n",
    "    f = ur.open(name_toys)\n",
    "    s_toys += list(f['limit']['limit'].array())\n",
    "\n",
    "content, center, _ = plt.hist(s_toys, label='Toys')\n",
    "plt.plot([s_obs, s_obs], [0, np.max(content)], 'm--', label='Observed')\n",
    "plt.legend(loc='best')\n",
    "\n",
    "p_val = np.sum(s_toys > s_obs)/float(len(s_toys))\n",
    "print 'p-value: {:.1f}%'.format(100*p_val)\n",
    "if p_val < 0.01: print p_val"
   ]
  },
  {
   "cell_type": "code",
   "execution_count": null,
   "metadata": {
    "ExecuteTime": {
     "start_time": "2020-05-20T17:01:10.858Z"
    }
   },
   "outputs": [],
   "source": [
    "os.system('mv *.root {}/'.format(outdir))"
   ]
  }
 ],
 "metadata": {
  "kernelspec": {
   "display_name": "Python 2",
   "language": "python",
   "name": "python2"
  },
  "language_info": {
   "codemirror_mode": {
    "name": "ipython",
    "version": 2
   },
   "file_extension": ".py",
   "mimetype": "text/x-python",
   "name": "python",
   "nbconvert_exporter": "python",
   "pygments_lexer": "ipython2",
   "version": "2.7.14+"
  },
  "varInspector": {
   "cols": {
    "lenName": 16,
    "lenType": 16,
    "lenVar": 40
   },
   "kernels_config": {
    "python": {
     "delete_cmd_postfix": "",
     "delete_cmd_prefix": "del ",
     "library": "var_list.py",
     "varRefreshCmd": "print(var_dic_list())"
    },
    "r": {
     "delete_cmd_postfix": ") ",
     "delete_cmd_prefix": "rm(",
     "library": "var_list.r",
     "varRefreshCmd": "cat(var_dic_list()) "
    }
   },
   "position": {
    "height": "308px",
    "left": "1550px",
    "right": "20px",
    "top": "120px",
    "width": "338px"
   },
   "types_to_exclude": [
    "module",
    "function",
    "builtin_function_or_method",
    "instance",
    "_Feature"
   ],
   "window_display": false
  }
 },
 "nbformat": 4,
 "nbformat_minor": 2
}
