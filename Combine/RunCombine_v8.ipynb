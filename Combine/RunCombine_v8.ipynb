{
 "cells": [
  {
   "cell_type": "markdown",
   "metadata": {},
   "source": [
    "New:\n",
    " - Hc divided into 3 subsamples\n",
    " - PU/PV additional tracks ratio corrected"
   ]
  },
  {
   "cell_type": "code",
   "execution_count": 1,
   "metadata": {
    "ExecuteTime": {
     "end_time": "2020-06-09T18:32:45.289595Z",
     "start_time": "2020-06-09T18:32:45.281416Z"
    }
   },
   "outputs": [],
   "source": [
    "card_name = 'v8'"
   ]
  },
  {
   "cell_type": "code",
   "execution_count": 2,
   "metadata": {
    "ExecuteTime": {
     "end_time": "2020-06-09T18:32:47.105363Z",
     "start_time": "2020-06-09T18:32:47.094911Z"
    }
   },
   "outputs": [],
   "source": [
    "fit_real_data = True\n",
    "category = 'low'\n",
    "SM_RDst = 0.26\n",
    "fastRun = True\n",
    "card_name += '_'+category"
   ]
  },
  {
   "cell_type": "markdown",
   "metadata": {
    "hide_input": true
   },
   "source": [
    "# Import"
   ]
  },
  {
   "cell_type": "code",
   "execution_count": 3,
   "metadata": {
    "ExecuteTime": {
     "end_time": "2020-06-09T18:32:50.970051Z",
     "start_time": "2020-06-09T18:32:50.403741Z"
    }
   },
   "outputs": [],
   "source": [
    "import sys, os, pickle, time\n",
    "from glob import glob\n",
    "sys.path.append('../lib')\n",
    "sys.path.append('../analysis')\n",
    "from categoriesDef import categories\n",
    "import itertools\n",
    "import commands\n",
    "from prettytable import PrettyTable\n",
    "import json, yaml\n",
    "from IPython.display import IFrame, Image, display"
   ]
  },
  {
   "cell_type": "code",
   "execution_count": 4,
   "metadata": {
    "ExecuteTime": {
     "end_time": "2020-06-09T18:33:02.180576Z",
     "start_time": "2020-06-09T18:32:51.109562Z"
    }
   },
   "outputs": [
    {
     "name": "stdout",
     "output_type": "stream",
     "text": [
      "Welcome to JupyROOT 6.12/07\n"
     ]
    }
   ],
   "source": [
    "import numpy as np\n",
    "import matplotlib.pyplot as plt\n",
    "from array import array\n",
    "\n",
    "import uproot as ur\n",
    "import ROOT as rt\n",
    "rt.gErrorIgnoreLevel = rt.kError\n",
    "rt.RooMsgService.instance().setGlobalKillBelow(rt.RooFit.ERROR)\n",
    "import root_numpy as rtnp\n",
    "\n",
    "from analysis_utilities import drawOnCMSCanvas, getEff, DSetLoader\n",
    "from pT_calibration_reader import pTCalReader\n",
    "from histo_utilities import create_TH1D, create_TH2D, std_color_list\n",
    "from gridVarQ2Plot import plot_gridVarQ2, plot_SingleCategory\n",
    "from progressBar import ProgressBar\n",
    "from lumi_utilities import getLumiByTrigger\n",
    "from combine_utilities import getUncertaintyFromLimitTree, dumpDiffNuisances, stringJubCustomizationCaltechT2\n",
    "\n",
    "import CMS_lumi, tdrstyle\n",
    "tdrstyle.setTDRStyle()\n",
    "CMS_lumi.writeExtraText = 1\n",
    "\n",
    "if fit_real_data:\n",
    "    CMS_lumi.extraText = \"     Preliminary\"\n",
    "else:\n",
    "    CMS_lumi.extraText = \"     Simulation Preliminary\"\n",
    "\n",
    "donotdelete = []"
   ]
  },
  {
   "cell_type": "code",
   "execution_count": 5,
   "metadata": {
    "ExecuteTime": {
     "end_time": "2020-06-09T18:33:02.428021Z",
     "start_time": "2020-06-09T18:33:02.414248Z"
    }
   },
   "outputs": [],
   "source": [
    "cat = categories[category]"
   ]
  },
  {
   "cell_type": "markdown",
   "metadata": {},
   "source": [
    "# Load the datasets"
   ]
  },
  {
   "cell_type": "code",
   "execution_count": 6,
   "metadata": {
    "ExecuteTime": {
     "end_time": "2020-06-09T18:33:29.052052Z",
     "start_time": "2020-06-09T18:33:05.109552Z"
    }
   },
   "outputs": [],
   "source": [
    "#They all have to be produced with the same pileup\n",
    "MCsample = {\n",
    "'mu' : DSetLoader('B0_MuNuDmst_PUc0'),\n",
    "'tau' : DSetLoader('B0_TauNuDmst_PUc0'),\n",
    "'DstmD0' : DSetLoader('B0_DstmD0_PUc0'),\n",
    "'DstmDp' : DSetLoader('B0_DstmDp_PUc0'),\n",
    "'DstmDsp' : DSetLoader('B0_DstmDsp_PUc0'),\n",
    "'BpDstmHc' : DSetLoader('Bp_DstmHc_PUc0'),\n",
    "'BmDstmHc' : DSetLoader('Bm_DstmHc_PUc0'),\n",
    "'antiB0DstmHc' : DSetLoader('antiB0_DstmHc_PUc0'),\n",
    "'DstPip' : DSetLoader('Bp_MuNuDstst_Pip_PUc0'),\n",
    "'DstPi0' : DSetLoader('B0_MuNuDstst_Pi0_PUc0'),\n",
    "'DstPipPi0' : DSetLoader('Bp_MuNuDstst_PipPi0_PUc0'),\n",
    "'DstPipPim' : DSetLoader('B0_MuNuDstst_PipPim_PUc0'),\n",
    "'DstPi0Pi0' : DSetLoader('B0_MuNuDstst_Pi0Pi0_PUc0'),\n",
    "}\n",
    "dSet = {}\n",
    "dSetTkSide = {}\n",
    "for n, s in MCsample.iteritems():\n",
    "    dSet[n] = rtnp.root2array(s.skimmed_dir + '/{}_corr.root'.format(cat.name))\n",
    "    dSetTkSide[n] = rtnp.root2array(s.skimmed_dir + '/{}_trkCtrl_corr.root'.format(cat.name))"
   ]
  },
  {
   "cell_type": "code",
   "execution_count": 8,
   "metadata": {
    "ExecuteTime": {
     "end_time": "2020-06-09T18:34:38.180102Z",
     "start_time": "2020-06-09T18:34:38.150767Z"
    }
   },
   "outputs": [
    {
     "data": {
      "text/plain": [
       "[0.23112, 0.00026]"
      ]
     },
     "execution_count": 8,
     "metadata": {},
     "output_type": "execute_result"
    }
   ],
   "source": [
    "MCsample['mu'].getSkimEff(cat.name+'_corr')"
   ]
  },
  {
   "cell_type": "code",
   "execution_count": 7,
   "metadata": {
    "ExecuteTime": {
     "end_time": "2020-06-02T01:58:55.784390Z",
     "start_time": "2020-06-02T01:58:53.773535Z"
    }
   },
   "outputs": [
    {
     "name": "stdout",
     "output_type": "stream",
     "text": [
      "Run2018D-05May2019promptD-v1_RDntuplizer_B2DstMu_200416\n",
      "HLT_Mu7_IP4_part2_v2 1.28\n",
      "Run2018D-05May2019promptD-v1_RDntuplizer_B2DstMu_200416\n",
      "HLT_Mu7_IP4_part1_v2 1.28\n",
      "Run2018D-05May2019promptD-v1_RDntuplizer_B2DstMu_200416\n",
      "HLT_Mu7_IP4_part4_v2 1.28\n",
      "Run2018D-05May2019promptD-v1_RDntuplizer_B2DstMu_200416\n",
      "HLT_Mu7_IP4_part3_v2 1.28\n",
      "Run2018D-05May2019promptD-v1_RDntuplizer_B2DstMu_200416\n",
      "HLT_Mu7_IP4_part0_v2 1.27\n",
      "Total lumi: 6.39 fb^-1\n"
     ]
    }
   ],
   "source": [
    "if fit_real_data:\n",
    "    creation_date = '200515'\n",
    "    locRD = '../data/cmsRD/skimmed/B2DstMu_{}_{}'.format(creation_date, cat.name)\n",
    "    dSet['data'] = rtnp.root2array(locRD + '_corr.root')\n",
    "    dSetTkSide['data'] = rtnp.root2array(locRD + '_trkCtrl_corr.root')\n",
    "    dataDir = '../data/cmsRD'\n",
    "    datasets_loc = glob(dataDir + '/ParkingBPH*/*RDntuplizer_B2DstMu_{}_CAND.root'.format(creation_date))\n",
    "    lumi_tot = getLumiByTrigger(datasets_loc, cat.trg, verbose=True)\n",
    "    CMS_lumi.integrated_lumi = lumi_tot\n",
    "else:\n",
    "    expectedLumi = {'low':6., 'mid':20., 'high':26., 'single':6.} #fb^-1\n",
    "    lumi_tot = expectedLumi[category]"
   ]
  },
  {
   "cell_type": "markdown",
   "metadata": {},
   "source": [
    "# Load all the calibrations"
   ]
  },
  {
   "cell_type": "markdown",
   "metadata": {},
   "source": [
    "Pileup"
   ]
  },
  {
   "cell_type": "code",
   "execution_count": 8,
   "metadata": {
    "ExecuteTime": {
     "end_time": "2020-06-02T01:58:55.962620Z",
     "start_time": "2020-06-02T01:58:55.791107Z"
    }
   },
   "outputs": [],
   "source": [
    "loc = '../data/cmsRD/ParkingBPH{}/Run2018D-05May2019promptD-v1_RDntuplizer_PrescaleVertices_200515_CAND.root'\n",
    "fAuxPileupRD = []\n",
    "\n",
    "hPileupTarget = None\n",
    "\n",
    "for i in range(1, 6):\n",
    "    fAuxPileupRD.append(rt.TFile.Open(loc.format(i), 'READ'))\n",
    "    if hPileupTarget is None:\n",
    "        hPileupTarget = fAuxPileupRD[-1].Get('nVtx/hNvtxPassed'+cat.trg).Clone()\n",
    "    else:\n",
    "        hPileupTarget.Add(fAuxPileupRD[-1].Get('nVtx/hNvtxPassed'+cat.trg))\n",
    "\n",
    "hPileupTarget.Scale(1./hPileupTarget.Integral())\n",
    "\n",
    "fAuxPileupMC = rt.TFile.Open(MCsample['mu'].skimmed_dir + '/{}_corr.root'.format(cat.name), 'READ')\n",
    "hPileupGen = fAuxPileupMC.Get('hAllNvtx')\n",
    "hPileupGen.Scale(1./hPileupGen.Integral())\n",
    "\n",
    "weights = np.ones(hPileupGen.GetNbinsX())\n",
    "s = 0\n",
    "for i in range(weights.shape[0]):\n",
    "    if hPileupGen.GetBinContent(i+1) == 0:\n",
    "        continue\n",
    "    weights[i] = hPileupTarget.GetBinContent(i+1)/hPileupGen.GetBinContent(i+1)\n",
    "    s += hPileupGen.GetBinContent(i+1) * weights[i]\n",
    "\n",
    "weightsPileupMC = weights/s\n",
    "\n",
    "for f in fAuxPileupRD + [fAuxPileupMC]:\n",
    "    f.Close()\n",
    "\n",
    "def getPileupWeights(ds, selection=None):\n",
    "    x = ds['N_vtx']\n",
    "    if not selection is None:\n",
    "        x = x[selection]\n",
    "    return weightsPileupMC[x.astype(np.int)]"
   ]
  },
  {
   "cell_type": "markdown",
   "metadata": {},
   "source": [
    "Total norm pre-scale"
   ]
  },
  {
   "cell_type": "code",
   "execution_count": 9,
   "metadata": {
    "ExecuteTime": {
     "end_time": "2020-06-02T01:58:56.063260Z",
     "start_time": "2020-06-02T01:58:55.967926Z"
    }
   },
   "outputs": [
    {
     "name": "stdout",
     "output_type": "stream",
     "text": [
      "Expected ratio between RD and MC norm: 2.632 +/- 0.063\n"
     ]
    }
   ],
   "source": [
    "r = np.zeros((3,2))\n",
    "for i, fn in enumerate(glob('../data/calibration/totalRate/ratioB02JPsiKst_*.txt')):\n",
    "    with open(fn, 'r') as faux:\n",
    "        aux = faux.readlines()[0][:-1].split(' ')\n",
    "        r[i] = [float(aux[0]), float(aux[1])]\n",
    "s2 = np.square(r[:,1])\n",
    "num = np.sum(r[:,0]/s2)\n",
    "den = np.sum(1./s2)\n",
    "RDoMC_normRatio = [num/den, np.sqrt(1/den)]\n",
    "print 'Expected ratio between RD and MC norm: {:.3f} +/- {:.3f}'.format(RDoMC_normRatio[0], RDoMC_normRatio[1])"
   ]
  },
  {
   "cell_type": "markdown",
   "metadata": {},
   "source": [
    "Branching fraction"
   ]
  },
  {
   "cell_type": "code",
   "execution_count": 10,
   "metadata": {
    "ExecuteTime": {
     "end_time": "2020-06-02T01:58:56.135141Z",
     "start_time": "2020-06-02T01:58:56.068383Z"
    }
   },
   "outputs": [],
   "source": [
    "decayBR = pickle.load(open('../data/forcedDecayChannelsFactors.pickle', 'rb'))"
   ]
  },
  {
   "cell_type": "markdown",
   "metadata": {},
   "source": [
    "Trigger scale factor"
   ]
  },
  {
   "cell_type": "code",
   "execution_count": 11,
   "metadata": {
    "ExecuteTime": {
     "end_time": "2020-06-02T01:58:56.228955Z",
     "start_time": "2020-06-02T01:58:56.142007Z"
    }
   },
   "outputs": [],
   "source": [
    "loc = '../data/calibration/triggerScaleFactors/'\n",
    "fTriggerSF = rt.TFile.Open(loc + 'HLT_' + cat.trg + '_SF.root', 'READ')\n",
    "hTriggerSF = fTriggerSF.Get('hSF_HLT_' + cat.trg)"
   ]
  },
  {
   "cell_type": "code",
   "execution_count": 12,
   "metadata": {
    "ExecuteTime": {
     "end_time": "2020-06-02T01:58:56.282988Z",
     "start_time": "2020-06-02T01:58:56.235445Z"
    }
   },
   "outputs": [],
   "source": [
    "def computeTrgSF(ds, selection=None):\n",
    "    trgSF = np.ones_like(ds['q2'])\n",
    "    trgSFUnc = np.zeros_like(ds['q2'])\n",
    "    if not fastRun:\n",
    "        ptmax = hTriggerSF.GetXaxis().GetXmax() - 0.01\n",
    "        ipmax = hTriggerSF.GetYaxis().GetXmax() - 0.01\n",
    "        etamax = hTriggerSF.GetZaxis().GetXmax() - 0.01\n",
    "        x = np.column_stack((ds['mu_pt'], ds['mu_eta'], ds['mu_sigdxy']))\n",
    "        if not selection is None:\n",
    "            x = x[selection]\n",
    "        for i, (pt, eta, ip) in enumerate(x):\n",
    "            ix = hTriggerSF.GetXaxis().FindBin(min(ptmax, pt))\n",
    "            iy = hTriggerSF.GetYaxis().FindBin(min(ipmax, ip))\n",
    "            iz = hTriggerSF.GetZaxis().FindBin(min(etamax, np.abs(eta)))\n",
    "            trgSF[i] = hTriggerSF.GetBinContent(ix, iy, iz)\n",
    "            ib = hTriggerSF.GetBin(ix, iy, iz)\n",
    "            trgSFUnc[i] = hTriggerSF.GetBinError(ib)\n",
    "            if trgSF[i] == 0:\n",
    "                print pt, ip, np.abs(eta)\n",
    "                raise\n",
    "    # Divide them for the weight so later you can simply multiply back to get the value\n",
    "    up = 1 + trgSFUnc/trgSF\n",
    "    down = 1 - trgSFUnc/trgSF\n",
    "    return trgSF, up, down"
   ]
  },
  {
   "cell_type": "markdown",
   "metadata": {},
   "source": [
    "Muon ID scale factors"
   ]
  },
  {
   "cell_type": "code",
   "execution_count": 13,
   "metadata": {
    "ExecuteTime": {
     "end_time": "2020-06-02T01:58:56.420432Z",
     "start_time": "2020-06-02T01:58:56.288229Z"
    }
   },
   "outputs": [],
   "source": [
    "fMuonIDSF = rt.TFile.Open('../data/calibration/muonIDscaleFactors/Run2018ABCD_SF_MuonID_Jpsi.root', 'READ')\n",
    "hMuonIDSF = fMuonIDSF.Get('NUM_SoftID_DEN_genTracks_pt_abseta')"
   ]
  },
  {
   "cell_type": "code",
   "execution_count": 14,
   "metadata": {
    "ExecuteTime": {
     "end_time": "2020-06-02T01:58:56.626980Z",
     "start_time": "2020-06-02T01:58:56.426842Z"
    }
   },
   "outputs": [],
   "source": [
    "def computeMuonIDSF(ds, selection=None):\n",
    "    muonSF = np.ones_like(ds['q2'])\n",
    "    muonSFUnc = np.zeros_like(ds['q2'])\n",
    "    if not fastRun:\n",
    "        ptmax = hMuonIDSF.GetXaxis().GetXmax() - 0.01\n",
    "        etamax = hMuonIDSF.GetYaxis().GetXmax() - 0.01\n",
    "        x = np.column_stack((ds['MC_mu_pt'], ds['MC_mu_eta']))\n",
    "        if not selection is None:\n",
    "            x = x[selection]\n",
    "        for i, (pt, eta) in enumerate(x):\n",
    "            ix = hMuonIDSF.GetXaxis().FindBin(min(pt, ptmax))\n",
    "            if ix == 0: ix = 1 #Remove underflows (Meaning that the MC matching failed)\n",
    "            iy = hMuonIDSF.GetYaxis().FindBin(min(np.abs(eta), etamax))\n",
    "            muonSF[i] = hMuonIDSF.GetBinContent(ix, iy)\n",
    "            muonSFUnc[i] = hMuonIDSF.GetBinError(hMuonIDSF.GetBin(ix, iy))\n",
    "            if muonSF[i] == 0:\n",
    "                print pt, eta\n",
    "                print ix, iy\n",
    "                raise\n",
    "    up = 1 + muonSFUnc/muonSF\n",
    "    down = 1 - muonSFUnc/muonSF\n",
    "    return muonSF, up, down"
   ]
  },
  {
   "cell_type": "markdown",
   "metadata": {},
   "source": [
    "B transverse momentum calibration"
   ]
  },
  {
   "cell_type": "code",
   "execution_count": 15,
   "metadata": {
    "ExecuteTime": {
     "end_time": "2020-06-02T01:58:56.691122Z",
     "start_time": "2020-06-02T01:58:56.632748Z"
    }
   },
   "outputs": [],
   "source": [
    "aux = 'Low' if category == 'single' else cat.name\n",
    "cal_pT = pTCalReader(calibration_file='../data/calibration/B0pTspectrum/pwWeights_{}.txt'.format(aux))"
   ]
  },
  {
   "cell_type": "code",
   "execution_count": 16,
   "metadata": {
    "ExecuteTime": {
     "end_time": "2020-06-02T01:58:56.844875Z",
     "start_time": "2020-06-02T01:58:56.696301Z"
    }
   },
   "outputs": [],
   "source": [
    "def computeB0pTweights(ds):\n",
    "    # The denominator (sum of weights) for this weights is not known but it cancel out in the ratio\n",
    "    w = cal_pT.f['C'](ds['MC_B_pt'])\n",
    "    if np.sum(w==0):\n",
    "        print np.sum(w==0)\n",
    "        raise\n",
    "    up = cal_pT.f['Up'](ds['MC_B_pt'])/w\n",
    "    down = cal_pT.f['Down'](ds['MC_B_pt'])/w\n",
    "    return w, up, down"
   ]
  },
  {
   "cell_type": "code",
   "execution_count": 17,
   "metadata": {
    "ExecuteTime": {
     "end_time": "2020-06-02T01:58:56.901080Z",
     "start_time": "2020-06-02T01:58:56.852344Z"
    }
   },
   "outputs": [],
   "source": [
    "def computeBrVarWeights(ds, selItems={}, relScale=0.2, keepNorm=False):\n",
    "    sel = np.ones_like(ds['mu_pt']).astype(np.bool)\n",
    "    for var, val in selItems.iteritems():\n",
    "        sel = np.logical_and(ds[var].astype(np.int) == val, sel)\n",
    "    w = np.ones_like(sel)\n",
    "    up = np.where(sel, 1.+relScale, 1.)\n",
    "    down = np.where(sel, max(0, 1.-relScale), 1.)\n",
    "    if keepNorm:\n",
    "        up = float(up.shape[0])/np.sum(up)\n",
    "        down = float(down.shape[0])/np.sum(down)\n",
    "    return w, up, down"
   ]
  },
  {
   "cell_type": "code",
   "execution_count": 18,
   "metadata": {
    "ExecuteTime": {
     "end_time": "2020-06-02T01:58:56.958176Z",
     "start_time": "2020-06-02T01:58:56.907549Z"
    }
   },
   "outputs": [],
   "source": [
    "def computeTksPVweights(ds, relScale=0.1, centralVal=0.430/0.117):\n",
    "    selPdgID0 = np.logical_and(np.abs(ds['MC_tkMotherPdgId_0']) < 6, ds['MC_tkMotherPdgId_0'] != 0)\n",
    "    selPdgID0 = np.logical_or(selPdgID0, ds['MC_tkMotherPdgId_0']==2212)\n",
    "    selPdgID0 = np.logical_and(selPdgID0, ds['MC_tkFlag_0'] == 1)\n",
    "    selPdgID1 = np.logical_and(np.abs(ds['MC_tkMotherPdgId_1']) < 6, ds['MC_tkMotherPdgId_1'] != 0)\n",
    "    selPdgID1 = np.logical_or(selPdgID1, ds['MC_tkMotherPdgId_1']==2212)\n",
    "    selPdgID1 = np.logical_and( selPdgID1, ds['MC_tkFlag_1'] == 1)\n",
    "    exponent = selPdgID0.astype(np.int) + selPdgID1.astype(np.int)\n",
    "    w = np.power(centralVal, exponent)\n",
    "    up = np.power(centralVal*(1+relScale), exponent)/w\n",
    "    down = np.power(centralVal*(1-relScale), exponent)/w\n",
    "    return w, up, down"
   ]
  },
  {
   "cell_type": "markdown",
   "metadata": {},
   "source": [
    "# Create MC histograms"
   ]
  },
  {
   "cell_type": "markdown",
   "metadata": {},
   "source": [
    "### Signal region"
   ]
  },
  {
   "cell_type": "code",
   "execution_count": 19,
   "metadata": {
    "ExecuteTime": {
     "end_time": "2020-06-02T01:58:57.068388Z",
     "start_time": "2020-06-02T01:58:56.965063Z"
    },
    "hide_input": false
   },
   "outputs": [],
   "source": [
    "binning = {\n",
    "    'M2_miss' : [\n",
    "        array('d', [-2.5] + list(np.arange(-1.8, -0.2, 0.4)) + [-0.2, 0., 0.2, 0.6, 8] ),\n",
    "        array('d', [-2.5] + list(np.arange(-1.8, -0.1, 0.4)) + [-0.1, 0.0, 0.1, 0.2, 0.3] + list(np.arange(0.4, 3.0, 0.4)) + [8] ),\n",
    "        array('d', [-2.5] + list(np.arange(-1.8, 5.6, 0.4)) + [8] ),\n",
    "        array('d', [-2.5] + list(np.arange(-1.8, 7.6, 0.4)) + [8] ),\n",
    "    ],\n",
    "    'Est_mu'  : [\n",
    "        array('d', [0.3] + list(np.arange(0.7, 2.3, 0.1)) + [2.5] ),\n",
    "        array('d', [0.3] + list(np.arange(0.7, 2.5, 0.1)) + [2.5] ),\n",
    "        array('d', [0.3] + list(np.arange(0.5, 2.5, 0.1)) + [2.5] ),\n",
    "        [22, 0.3, 2.500],\n",
    "    ],\n",
    "}\n",
    "if fit_real_data:\n",
    "#     binning['q2'] = array('d', [-2, 2.5, 6, 9.4, 12])\n",
    "    binning['q2'] = array('d', [-2, 2.5, 6])\n",
    "else:\n",
    "    binning['q2'] = array('d', [-2, 2.5, 6, 9.4, 12])"
   ]
  },
  {
   "cell_type": "code",
   "execution_count": 20,
   "metadata": {
    "ExecuteTime": {
     "end_time": "2020-06-02T01:58:59.817814Z",
     "start_time": "2020-06-02T01:58:57.074094Z"
    },
    "code_folding": [],
    "hide_input": false,
    "scrolled": false
   },
   "outputs": [
    {
     "name": "stdout",
     "output_type": "stream",
     "text": [
      "\n",
      "-----------> tau <-------------\n",
      "N tot selected: 61.4k\n",
      "N tot expected (before weights): 6.10k\n",
      "Including pileup reweighting\n",
      "Including trigger corrections\n",
      "Including muon ID corrections\n",
      "Including B0 pT corrections\n",
      "Including FF corrections (Hammer)\n",
      "Computing total weights\n",
      "N tot expected (after weights): 6.68k\n",
      "\n",
      "-----------> DstmD0 <-------------\n",
      "N tot selected: 0.8k\n",
      "N tot expected (before weights): 0.04k\n",
      "Including pileup reweighting\n",
      "Including trigger corrections\n",
      "Including muon ID corrections\n",
      "Including B0 pT corrections\n",
      "Computing total weights\n",
      "N tot expected (after weights): 0.04k\n",
      "\n",
      "-----------> BmDstmHc <-------------\n",
      "N tot selected: 1.1k\n",
      "N tot expected (before weights): 0.08k\n",
      "Including pileup reweighting\n",
      "Including trigger corrections\n",
      "Including muon ID corrections\n",
      "Computing total weights\n",
      "N tot expected (after weights): 0.09k\n",
      "\n",
      "-----------> DstPipPi0 <-------------\n",
      "N tot selected: 3.4k\n",
      "N tot expected (before weights): 0.39k\n",
      "Including pileup reweighting\n",
      "Including trigger corrections\n",
      "Including muon ID corrections\n",
      "Computing total weights\n",
      "N tot expected (after weights): 0.41k\n",
      "\n",
      "-----------> DstPip <-------------\n",
      "N tot selected: 36.6k\n",
      "N tot expected (before weights): 4.02k\n",
      "Including pileup reweighting\n",
      "Including trigger corrections\n",
      "Including muon ID corrections\n",
      "Computing total weights\n",
      "N tot expected (after weights): 4.22k\n",
      "\n",
      "-----------> antiB0DstmHc <-------------\n",
      "N tot selected: 1.5k\n",
      "N tot expected (before weights): 0.13k\n",
      "Including pileup reweighting\n",
      "Including trigger corrections\n",
      "Including muon ID corrections\n",
      "Computing total weights\n",
      "N tot expected (after weights): 0.14k\n",
      "\n",
      "-----------> mu <-------------\n",
      "N tot selected: 595.1k\n",
      "N tot expected (before weights): 119.31k\n",
      "Including pileup reweighting\n",
      "Including trigger corrections\n",
      "Including muon ID corrections\n",
      "Including B0 pT corrections\n",
      "Including FF corrections (Hammer)\n",
      "Computing total weights\n",
      "N tot expected (after weights): 124.00k\n",
      "\n",
      "-----------> DstmDsp <-------------\n",
      "N tot selected: 17.6k\n",
      "N tot expected (before weights): 0.76k\n",
      "Including pileup reweighting\n",
      "Including trigger corrections\n",
      "Including muon ID corrections\n",
      "Including B0 pT corrections\n",
      "Computing total weights\n",
      "N tot expected (after weights): 0.83k\n",
      "\n",
      "-----------> DstPi0 <-------------\n",
      "N tot selected: 49.3k\n",
      "N tot expected (before weights): 5.03k\n",
      "Including pileup reweighting\n",
      "Including trigger corrections\n",
      "Including muon ID corrections\n",
      "Including B0 pT corrections\n",
      "Computing total weights\n",
      "N tot expected (after weights): 5.44k\n",
      "\n",
      "-----------> DstPipPim <-------------\n",
      "N tot selected: 2.0k\n",
      "N tot expected (before weights): 0.28k\n",
      "Including pileup reweighting\n",
      "Including trigger corrections\n",
      "Including muon ID corrections\n",
      "Including B0 pT corrections\n",
      "Computing total weights\n",
      "N tot expected (after weights): 0.29k\n",
      "\n",
      "-----------> DstmDp <-------------\n",
      "N tot selected: 5.8k\n",
      "N tot expected (before weights): 0.17k\n",
      "Including pileup reweighting\n",
      "Including trigger corrections\n",
      "Including muon ID corrections\n",
      "Including B0 pT corrections\n",
      "Computing total weights\n",
      "N tot expected (after weights): 0.19k\n",
      "\n",
      "-----------> BpDstmHc <-------------\n",
      "N tot selected: 2.0k\n",
      "N tot expected (before weights): 0.01k\n",
      "Including pileup reweighting\n",
      "Including trigger corrections\n",
      "Including muon ID corrections\n",
      "Computing total weights\n",
      "N tot expected (after weights): 0.01k\n",
      "\n",
      "-----------> DstPi0Pi0 <-------------\n",
      "N tot selected: 23.3k\n",
      "N tot expected (before weights): 0.52k\n",
      "Including pileup reweighting\n",
      "Including trigger corrections\n",
      "Including muon ID corrections\n",
      "Including B0 pT corrections\n",
      "Computing total weights\n",
      "N tot expected (after weights): 0.57k\n"
     ]
    }
   ],
   "source": [
    "histo = {}\n",
    "for n, ds in dSet.iteritems():\n",
    "    if n == 'data': continue\n",
    "    print '\\n----------->', n, '<-------------'\n",
    "    sMC = MCsample[n]\n",
    "    \n",
    "    nTotSelected = ds['q2'].shape[0]\n",
    "    print 'N tot selected: {:.1f}k'.format(1e-3*nTotSelected)\n",
    "    nGenExp = sMC.effMCgen['xsec'][0] * lumi_tot * RDoMC_normRatio[0]\n",
    "    eff = [1, 0]\n",
    "    for f, df in [sMC.effMCgen['effGEN'], decayBR[n], sMC.effCand['effCAND'], sMC.getSkimEff(cat.name+'_corr')]:\n",
    "        eff[0] *= f\n",
    "        eff[1] += np.square(df/f)\n",
    "    eff[1] = eff[0] * np.sqrt(eff[1])\n",
    "    nTotExp = nGenExp*eff[0]\n",
    "    print 'N tot expected (before weights): {:.2f}k'.format(1e-3*nTotExp)\n",
    "    \n",
    "    wVar = {}\n",
    "    weights = {}\n",
    "    \n",
    "    print 'Including pileup reweighting'\n",
    "    weights['pileup'] = getPileupWeights(ds)\n",
    "    print 'Including trigger corrections'\n",
    "    weights['trgSF'], wVar['trgSFUp'], wVar['trgSFDown'] = computeTrgSF(ds)\n",
    "    print 'Including muon ID corrections'\n",
    "    weights['muonIdSF'], wVar['muonIdSFUp'], wVar['muonIdSFDown'] = computeMuonIDSF(ds)\n",
    "    if n in ['mu', 'tau', 'DstmD0', 'DstmDp', 'DstmDsp','DstPi0', 'DstPipPim', 'DstPi0Pi0']: #B0 dominated final states (probably we should do something about B+ too)\n",
    "        print 'Including B0 pT corrections'\n",
    "        weights['B0pT'], wVar['B0pTUp'], wVar['B0pTDown'] = computeB0pTweights(ds)\n",
    "    # Hammer corrections to the FF\n",
    "    if n in ['mu', 'tau']:\n",
    "        print 'Including FF corrections (Hammer)'\n",
    "        weights['B2DstCLN'] = ds['wh_CLNCentral']*sMC.effCand['rate_den']/sMC.effCand['rate_Central']\n",
    "        for nPar in ['R0', 'R1', 'R2', 'RhoSq']:\n",
    "            for var in ['Up', 'Down']:\n",
    "                tag = 'CLN' + nPar + var\n",
    "                wVar['B2Dst'+tag] = ds['wh_'+tag]/sMC.effCand['rate_' + nPar + var]\n",
    "                wVar['B2Dst'+tag] *= sMC.effCand['rate_Central']/ds['wh_CLNCentral']\n",
    "    #Dstst resonance mix\n",
    "    if n == 'DstPip':\n",
    "        _, wVar['fDststWideUp'], wVar['fDststWideDown'] = computeBrVarWeights(ds, {'MC_munuSisterPdgId': -20423}, 0.6/2.7, keepNorm=True) #Gamma 14 pdg 2020\n",
    "    #Hc mix variations\n",
    "    if n == 'DstmD0':\n",
    "        _, wVar['BrB02DstD0KpUp'], wVar['BrB02DstD0KpDown'] = computeBrVarWeights(ds, {'MC_DstSisterPdgId_heavy': 421, 'MC_DstSisterPdgId_light': 321}, 0.21/2.47) #Gamma 169 pdg 2020\n",
    "        _, wVar['BrB02DstD0KstpUp'], wVar['BrB02DstD0KstpDown'] = computeBrVarWeights(ds, {'MC_DstSisterPdgId_heavy': 421, 'MC_DstSisterPdgId_light': 323}, 0.5) # Guess\n",
    "        _, wVar['BrB02DstDst0KpUp'], wVar['BrB02DstDst0KpDown'] = computeBrVarWeights(ds, {'MC_DstSisterPdgId_heavy': 423, 'MC_DstSisterPdgId_light': 321}, 0.09/1.06) #Gamma 170 pdg 2020\n",
    "        _, wVar['BrB02DstDst0KstpUp'], wVar['BrB02DstDst0KstpDown'] = computeBrVarWeights(ds, {'MC_DstSisterPdgId_heavy': 423, 'MC_DstSisterPdgId_light': 323}, 0.5) # Guess\n",
    "        _, wVar['BrB02DstDstpK0Up'], wVar['BrB02DstDstpK0Down'] = computeBrVarWeights(ds, {'MC_DstSisterPdgId_heavy': 413, 'MC_DstSisterPdgId_light': 311}, 0.5/5.3) #Gamma 173 pdg 2020\n",
    "        _, wVar['BrB02DstDstpKst0Up'], wVar['BrB02DstDstpKst0Down'] = computeBrVarWeights(ds, {'MC_DstSisterPdgId_heavy': 413, 'MC_DstSisterPdgId_light': 313}, 0.5) # Guess\n",
    "    if n == 'DstmDp':\n",
    "        _, wVar['BrB02DstDpK0Up'], wVar['BrB02DstDpK0Down'] = computeBrVarWeights(ds, {'MC_DstSisterPdgId_heavy': 411, 'MC_DstSisterPdgId_light': 311}, 0.5/3.2) #Gamma 172 pdg 2020\n",
    "        _, wVar['BrB02DstDpKst0Up'], wVar['BrB02DstDpKst0Down'] = computeBrVarWeights(ds, {'MC_DstSisterPdgId_heavy': 411, 'MC_DstSisterPdgId_light': 313}, 0.5) # Guess\n",
    "        _, wVar['BrB02DstDstpK0Up'], wVar['BrB02DstDstpK0Down'] = computeBrVarWeights(ds, {'MC_DstSisterPdgId_heavy': 413, 'MC_DstSisterPdgId_light': 311}, 0.2/2.7) #Gamma 173 pdg 2020\n",
    "        _, wVar['BrB02DstDstpKst0Up'], wVar['BrB02DstDstpKst0Down'] = computeBrVarWeights(ds, {'MC_DstSisterPdgId_heavy': 413, 'MC_DstSisterPdgId_light': 313}, 0.5) # Guess\n",
    "    if n == 'DstmDsp':\n",
    "        _, wVar['BrB02DstDsUp'], wVar['BrB02DstDsDown'] = computeBrVarWeights(ds, {'MC_DstSisterPdgId_heavy': 431}, 1.1/8.0) #Gamma 83 pdg 2020\n",
    "        _, wVar['BrB02DstDsstUp'], wVar['BrB02DstDsstDown'] = computeBrVarWeights(ds, {'MC_DstSisterPdgId_heavy': 433}, .14/1.77) #Gamma 85 pdg 2020\n",
    "        _, wVar['BrB02DstDs0stUp'], wVar['BrB02DstDs0stDown'] = computeBrVarWeights(ds, {'MC_DstSisterPdgId_heavy': 10431}, .6/1.5) #Gamma 95 pdg 2020\n",
    "    \n",
    "    print 'Computing total weights'\n",
    "    weightsCentral = np.ones_like(ds['q2'])\n",
    "    for w in weights.values(): weightsCentral *= w\n",
    "    print 'N tot expected (after weights): {:.2f}k'.format(1e-3*nTotExp*np.sum(weightsCentral)/nTotSelected)\n",
    "    wVar[''] = np.ones_like(weightsCentral)\n",
    "    \n",
    "    for i_q2 in range(len(binning['q2'])-1):\n",
    "        q2_l = binning['q2'][i_q2]\n",
    "        q2_h = binning['q2'][i_q2 + 1]\n",
    "        sel_q2 = np.logical_and(ds['q2'] > q2_l, ds['q2'] < q2_h)\n",
    "        for var in ['M2_miss', 'Est_mu']:\n",
    "            cat_name = var+'_q2bin'+str(i_q2)\n",
    "            \n",
    "            if not cat_name in histo.keys():\n",
    "                histo[cat_name] = {}\n",
    "            \n",
    "            for name_wVar, v_wVar in wVar.iteritems():\n",
    "                h_name = n\n",
    "                if not name_wVar == '':\n",
    "                    h_name += '__' + name_wVar\n",
    "                w = weightsCentral*v_wVar\n",
    "                scale = nTotExp/nTotSelected\n",
    "                histo[cat_name][h_name] = create_TH1D(\n",
    "                                                      ds[var][sel_q2], \n",
    "                                                      name=h_name, title=h_name, \n",
    "                                                      binning=binning[var][i_q2], \n",
    "                                                      opt='underflow,overflow',\n",
    "                                                      weights=w[sel_q2], scale_histo=scale,\n",
    "                                                      )"
   ]
  },
  {
   "cell_type": "markdown",
   "metadata": {},
   "source": [
    "### Single track side"
   ]
  },
  {
   "cell_type": "code",
   "execution_count": 21,
   "metadata": {
    "ExecuteTime": {
     "end_time": "2020-06-02T01:58:59.899025Z",
     "start_time": "2020-06-02T01:58:59.821600Z"
    }
   },
   "outputs": [],
   "source": [
    "sideSelecton = {}\n",
    "sideVar = {}\n",
    "sideXtitle = {}\n",
    "sideAddtext = {}\n",
    "\n",
    "def selfun__TkPlus(ds):\n",
    "    sel = np.logical_and(ds['N_goodAddTks'] == 1, ds['tkCharge_0'] > 0)\n",
    "    return sel\n",
    "#     return np.logical_and(np.abs(ds['tkMassHad_0'] - 2.43) < 0.3, sel)\n",
    "sideSelecton['AddTk_p_mHad'] = selfun__TkPlus\n",
    "sideVar['AddTk_p_mHad'] = 'tkMassHad_0'\n",
    "binning['AddTk_p_mHad'] = [35, 2.13, 2.83]\n",
    "sideXtitle['AddTk_p_mHad'] = 'Total hadrons mass'\n",
    "sideAddtext['AddTk_p_mHad'] = 'N_{tk} = 1 & Q_{tk} = +1'\n",
    "\n",
    "def selfun__TkMinus(ds):\n",
    "    sel = np.logical_and(ds['N_goodAddTks'] == 1, ds['tkCharge_0'] < 0)\n",
    "    return sel\n",
    "sideSelecton['AddTk_m_mHad'] = selfun__TkMinus\n",
    "sideVar['AddTk_m_mHad'] = 'tkMassHad_0'\n",
    "binning['AddTk_m_mHad'] = [30, 2.1, 3.3]\n",
    "sideXtitle['AddTk_m_mHad'] = 'Total hadrons mass'\n",
    "sideAddtext['AddTk_m_mHad'] = 'N_{tk} = 1 & Q_{tk} = -1'\n",
    "\n",
    "# sideSelecton['AddTk_m_tkPt'] = selfun__TkMinus\n",
    "# sideVar['AddTk_m_tkPt'] = 'tkPt_0'\n",
    "# binning['AddTk_m_tkPt'] = np.logspace(np.log10(0.5), np.log10(5.0), 30)\n",
    "# sideXtitle['AddTk_m_tkPt'] = 'Additional track p_{T}'\n",
    "# sideAddtext['AddTk_m_tkPt'] = 'N_{tk} = 1 & Q_{tk} = -1'\n",
    "\n",
    "\n",
    "def selfun__TkPlusMinus(ds):\n",
    "    sel = np.logical_and(ds['tkCharge_0']+ds['tkCharge_1'] == 0, ds['N_goodAddTks'] == 2)\n",
    "    sel = np.logical_and(ds['tkMassVis12'] < 5.3, sel)\n",
    "    return sel\n",
    "sideSelecton['AddTk_pm_mVis'] = selfun__TkPlusMinus\n",
    "sideVar['AddTk_pm_mVis'] = 'tkMassVis12'\n",
    "binning['AddTk_pm_mVis'] = array('d', [2.8] + list(np.arange(3., 5.3, 0.1)) + [5.3] )\n",
    "sideXtitle['AddTk_pm_mVis'] = 'Total visible mass'\n",
    "sideAddtext['AddTk_pm_mVis'] = 'N_{tk} = 2 & #sumQ_{tk} = 0'\n",
    "\n",
    "\n",
    "sideSelecton['AddTk_pm_mHad'] = selfun__TkPlusMinus\n",
    "sideVar['AddTk_pm_mHad'] = 'tkMassHad12'\n",
    "binning['AddTk_pm_mHad'] = [30, 2.3, 3.75]\n",
    "sideXtitle['AddTk_pm_mHad'] = 'Total hadrons mass'\n",
    "sideAddtext['AddTk_pm_mHad'] = 'N_{tk} = 2 & #sumQ_{tk} = 0'\n",
    "\n",
    "def selfun__TkMinusMinus(ds):\n",
    "    sel = np.logical_and(ds['tkCharge_0']+ds['tkCharge_1'] == -2, ds['N_goodAddTks'] == 2)\n",
    "    sel = np.logical_and(ds['tkMassVis12'] < 5.3, sel)\n",
    "    return sel\n",
    "sideSelecton['AddTk_mm_mHad'] = selfun__TkMinusMinus\n",
    "sideVar['AddTk_mm_mHad'] = 'tkMassHad12'\n",
    "binning['AddTk_mm_mHad'] = [15, 2.25, 3.6]\n",
    "sideXtitle['AddTk_mm_mHad'] = 'Total hadrons mass'\n",
    "sideAddtext['AddTk_mm_mHad'] = 'N_{tk} = 2 & #sumQ_{tk} = -2'\n",
    "\n",
    "def selfun__TkPlusPlus(ds):\n",
    "    sel = np.logical_and(ds['tkCharge_0']+ds['tkCharge_1'] == +2, ds['N_goodAddTks'] == 2)\n",
    "    sel = np.logical_and(ds['tkMassVis12'] < 5.3, sel)\n",
    "    return sel\n",
    "sideSelecton['AddTk_pp_mHad'] = selfun__TkPlusPlus\n",
    "sideVar['AddTk_pp_mHad'] = 'tkMassHad12'\n",
    "binning['AddTk_pp_mHad'] = [15, 2.25, 3.75]\n",
    "sideXtitle['AddTk_pp_mHad'] = 'Total hadrons mass'\n",
    "sideAddtext['AddTk_pp_mHad'] = 'N_{tk} = 2 & #sumQ_{tk} = +2'"
   ]
  },
  {
   "cell_type": "code",
   "execution_count": 22,
   "metadata": {
    "ExecuteTime": {
     "end_time": "2020-06-02T01:59:00.845861Z",
     "start_time": "2020-06-02T01:58:59.902889Z"
    },
    "scrolled": true
   },
   "outputs": [
    {
     "name": "stdout",
     "output_type": "stream",
     "text": [
      "\n",
      "-----------> tau <-------------\n",
      "Including pileup reweighting\n",
      "Including trigger corrections\n",
      "Including muon ID corrections\n",
      "Including B0 pT corrections\n",
      "Including FF corrections (Hammer)\n",
      "Computing total weights\n",
      "N tot selected AddTk_pm_mHad: 148\n",
      "N tot expected AddTk_pm_mHad (before weights): 15\n",
      "N tot expected AddTk_pm_mHad (after weights): 37\n",
      "N tot selected AddTk_m_mHad: 1883\n",
      "N tot expected AddTk_m_mHad (before weights): 187\n",
      "N tot expected AddTk_m_mHad (after weights): 253\n",
      "N tot selected AddTk_p_mHad: 2160\n",
      "N tot expected AddTk_p_mHad (before weights): 215\n",
      "N tot expected AddTk_p_mHad (after weights): 302\n",
      "N tot selected AddTk_pp_mHad: 68\n",
      "N tot expected AddTk_pp_mHad (before weights): 7\n",
      "N tot expected AddTk_pp_mHad (after weights): 14\n",
      "N tot selected AddTk_mm_mHad: 51\n",
      "N tot expected AddTk_mm_mHad (before weights): 5\n",
      "N tot expected AddTk_mm_mHad (after weights): 10\n",
      "N tot selected AddTk_pm_mVis: 148\n",
      "N tot expected AddTk_pm_mVis (before weights): 15\n",
      "N tot expected AddTk_pm_mVis (after weights): 37\n",
      "\n",
      "-----------> DstmD0 <-------------\n",
      "Including pileup reweighting\n",
      "Including trigger corrections\n",
      "Including muon ID corrections\n",
      "Including B0 pT corrections\n",
      "Computing total weights\n",
      "N tot selected AddTk_pm_mHad: 3998\n",
      "N tot expected AddTk_pm_mHad (before weights): 195\n",
      "N tot expected AddTk_pm_mHad (after weights): 224\n",
      "N tot selected AddTk_m_mHad: 838\n",
      "N tot expected AddTk_m_mHad (before weights): 41\n",
      "N tot expected AddTk_m_mHad (after weights): 47\n",
      "N tot selected AddTk_p_mHad: 2038\n",
      "N tot expected AddTk_p_mHad (before weights): 100\n",
      "N tot expected AddTk_p_mHad (after weights): 113\n",
      "N tot selected AddTk_pp_mHad: 88\n",
      "N tot expected AddTk_pp_mHad (before weights): 4\n",
      "N tot expected AddTk_pp_mHad (after weights): 6\n",
      "N tot selected AddTk_mm_mHad: 22\n",
      "N tot expected AddTk_mm_mHad (before weights): 1\n",
      "N tot expected AddTk_mm_mHad (after weights): 1\n",
      "N tot selected AddTk_pm_mVis: 3998\n",
      "N tot expected AddTk_pm_mVis (before weights): 195\n",
      "N tot expected AddTk_pm_mVis (after weights): 224\n",
      "\n",
      "-----------> BmDstmHc <-------------\n",
      "Including pileup reweighting\n",
      "Including trigger corrections\n",
      "Including muon ID corrections\n",
      "Computing total weights\n",
      "N tot selected AddTk_pm_mHad: 117\n",
      "N tot expected AddTk_pm_mHad (before weights): 9\n",
      "N tot expected AddTk_pm_mHad (after weights): 11\n",
      "N tot selected AddTk_m_mHad: 1778\n",
      "N tot expected AddTk_m_mHad (before weights): 137\n",
      "N tot expected AddTk_m_mHad (after weights): 142\n",
      "N tot selected AddTk_p_mHad: 52\n",
      "N tot expected AddTk_p_mHad (before weights): 4\n",
      "N tot expected AddTk_p_mHad (after weights): 4\n",
      "N tot selected AddTk_pp_mHad: 1\n",
      "N tot expected AddTk_pp_mHad (before weights): 0\n",
      "N tot expected AddTk_pp_mHad (after weights): 0\n",
      "N tot selected AddTk_mm_mHad: 62\n",
      "N tot expected AddTk_mm_mHad (before weights): 5\n",
      "N tot expected AddTk_mm_mHad (after weights): 5\n",
      "N tot selected AddTk_pm_mVis: 117\n",
      "N tot expected AddTk_pm_mVis (before weights): 9\n",
      "N tot expected AddTk_pm_mVis (after weights): 11\n",
      "\n",
      "-----------> DstPipPi0 <-------------\n",
      "Including pileup reweighting\n",
      "Including trigger corrections\n",
      "Including muon ID corrections\n",
      "Computing total weights\n",
      "N tot selected AddTk_pm_mHad: 275\n",
      "N tot expected AddTk_pm_mHad (before weights): 31\n",
      "N tot expected AddTk_pm_mHad (after weights): 45\n",
      "N tot selected AddTk_m_mHad: 149\n",
      "N tot expected AddTk_m_mHad (before weights): 17\n",
      "N tot expected AddTk_m_mHad (after weights): 26\n",
      "N tot selected AddTk_p_mHad: 6548\n",
      "N tot expected AddTk_p_mHad (before weights): 749\n",
      "N tot expected AddTk_p_mHad (after weights): 794\n",
      "N tot selected AddTk_pp_mHad: 197\n",
      "N tot expected AddTk_pp_mHad (before weights): 23\n",
      "N tot expected AddTk_pp_mHad (after weights): 33\n",
      "N tot selected AddTk_mm_mHad: 6\n",
      "N tot expected AddTk_mm_mHad (before weights): 1\n",
      "N tot expected AddTk_mm_mHad (after weights): 0\n",
      "N tot selected AddTk_pm_mVis: 275\n",
      "N tot expected AddTk_pm_mVis (before weights): 31\n",
      "N tot expected AddTk_pm_mVis (after weights): 45\n",
      "\n",
      "-----------> DstPip <-------------\n",
      "Including pileup reweighting\n",
      "Including trigger corrections\n",
      "Including muon ID corrections\n",
      "Computing total weights\n",
      "N tot selected AddTk_pm_mHad: 2586\n",
      "N tot expected AddTk_pm_mHad (before weights): 284\n",
      "N tot expected AddTk_pm_mHad (after weights): 424\n",
      "N tot selected AddTk_m_mHad: 1767\n",
      "N tot expected AddTk_m_mHad (before weights): 194\n",
      "N tot expected AddTk_m_mHad (after weights): 267\n",
      "N tot selected AddTk_p_mHad: 62441\n",
      "N tot expected AddTk_p_mHad (before weights): 6846\n",
      "N tot expected AddTk_p_mHad (after weights): 7219\n",
      "N tot selected AddTk_pp_mHad: 1817\n",
      "N tot expected AddTk_pp_mHad (before weights): 199\n",
      "N tot expected AddTk_pp_mHad (after weights): 252\n",
      "N tot selected AddTk_mm_mHad: 63\n",
      "N tot expected AddTk_mm_mHad (before weights): 7\n",
      "N tot expected AddTk_mm_mHad (after weights): 11\n",
      "N tot selected AddTk_pm_mVis: 2586\n",
      "N tot expected AddTk_pm_mVis (before weights): 284\n",
      "N tot expected AddTk_pm_mVis (after weights): 424\n",
      "\n",
      "-----------> antiB0DstmHc <-------------\n",
      "Including pileup reweighting\n",
      "Including trigger corrections\n",
      "Including muon ID corrections\n",
      "Computing total weights\n",
      "N tot selected AddTk_pm_mHad: 582\n",
      "N tot expected AddTk_pm_mHad (before weights): 53\n",
      "N tot expected AddTk_pm_mHad (after weights): 56\n",
      "N tot selected AddTk_m_mHad: 192\n",
      "N tot expected AddTk_m_mHad (before weights): 17\n",
      "N tot expected AddTk_m_mHad (after weights): 20\n",
      "N tot selected AddTk_p_mHad: 327\n",
      "N tot expected AddTk_p_mHad (before weights): 30\n",
      "N tot expected AddTk_p_mHad (after weights): 30\n",
      "N tot selected AddTk_pp_mHad: 10\n",
      "N tot expected AddTk_pp_mHad (before weights): 1\n",
      "N tot expected AddTk_pp_mHad (after weights): 1\n",
      "N tot selected AddTk_mm_mHad: 8\n",
      "N tot expected AddTk_mm_mHad (before weights): 1\n",
      "N tot expected AddTk_mm_mHad (after weights): 2\n",
      "N tot selected AddTk_pm_mVis: 582\n",
      "N tot expected AddTk_pm_mVis (before weights): 53\n",
      "N tot expected AddTk_pm_mVis (after weights): 56\n",
      "\n",
      "-----------> mu <-------------\n",
      "Including pileup reweighting\n",
      "Including trigger corrections\n",
      "Including muon ID corrections\n",
      "Including B0 pT corrections\n",
      "Including FF corrections (Hammer)\n",
      "Computing total weights\n",
      "N tot selected AddTk_pm_mHad: 2096\n",
      "N tot expected AddTk_pm_mHad (before weights): 420\n",
      "N tot expected AddTk_pm_mHad (after weights): 837\n",
      "N tot selected AddTk_m_mHad: 24530\n",
      "N tot expected AddTk_m_mHad (before weights): 4918\n",
      "N tot expected AddTk_m_mHad (after weights): 6176\n",
      "N tot selected AddTk_p_mHad: 27841\n",
      "N tot expected AddTk_p_mHad (before weights): 5582\n",
      "N tot expected AddTk_p_mHad (after weights): 7309\n",
      "N tot selected AddTk_pp_mHad: 962\n",
      "N tot expected AddTk_pp_mHad (before weights): 193\n",
      "N tot expected AddTk_pp_mHad (after weights): 325\n",
      "N tot selected AddTk_mm_mHad: 745\n",
      "N tot expected AddTk_mm_mHad (before weights): 149\n",
      "N tot expected AddTk_mm_mHad (after weights): 258\n",
      "N tot selected AddTk_pm_mVis: 2096\n",
      "N tot expected AddTk_pm_mVis (before weights): 420\n",
      "N tot expected AddTk_pm_mVis (after weights): 837\n",
      "\n",
      "-----------> DstmDsp <-------------\n",
      "Including pileup reweighting\n",
      "Including trigger corrections\n",
      "Including muon ID corrections\n",
      "Including B0 pT corrections\n",
      "Computing total weights\n",
      "N tot selected AddTk_pm_mHad: 2261\n",
      "N tot expected AddTk_pm_mHad (before weights): 97\n",
      "N tot expected AddTk_pm_mHad (after weights): 118\n",
      "N tot selected AddTk_m_mHad: 1639\n",
      "N tot expected AddTk_m_mHad (before weights): 70\n",
      "N tot expected AddTk_m_mHad (after weights): 85\n",
      "N tot selected AddTk_p_mHad: 1784\n",
      "N tot expected AddTk_p_mHad (before weights): 77\n",
      "N tot expected AddTk_p_mHad (after weights): 94\n",
      "N tot selected AddTk_pp_mHad: 77\n",
      "N tot expected AddTk_pp_mHad (before weights): 3\n",
      "N tot expected AddTk_pp_mHad (after weights): 5\n",
      "N tot selected AddTk_mm_mHad: 64\n",
      "N tot expected AddTk_mm_mHad (before weights): 3\n",
      "N tot expected AddTk_mm_mHad (after weights): 3\n",
      "N tot selected AddTk_pm_mVis: 2261\n",
      "N tot expected AddTk_pm_mVis (before weights): 97\n",
      "N tot expected AddTk_pm_mVis (after weights): 118\n",
      "\n",
      "-----------> DstPi0 <-------------\n",
      "Including pileup reweighting\n",
      "Including trigger corrections\n",
      "Including muon ID corrections\n",
      "Including B0 pT corrections\n",
      "Computing total weights\n",
      "N tot selected AddTk_pm_mHad: 229\n",
      "N tot expected AddTk_pm_mHad (before weights): 23\n",
      "N tot expected AddTk_pm_mHad (after weights): 44\n",
      "N tot selected AddTk_m_mHad: 2161\n",
      "N tot expected AddTk_m_mHad (before weights): 220\n",
      "N tot expected AddTk_m_mHad (after weights): 284\n",
      "N tot selected AddTk_p_mHad: 2331\n",
      "N tot expected AddTk_p_mHad (before weights): 238\n",
      "N tot expected AddTk_p_mHad (after weights): 316\n",
      "N tot selected AddTk_pp_mHad: 90\n",
      "N tot expected AddTk_pp_mHad (before weights): 9\n",
      "N tot expected AddTk_pp_mHad (after weights): 18\n",
      "N tot selected AddTk_mm_mHad: 67\n",
      "N tot expected AddTk_mm_mHad (before weights): 7\n",
      "N tot expected AddTk_mm_mHad (after weights): 14\n",
      "N tot selected AddTk_pm_mVis: 229\n",
      "N tot expected AddTk_pm_mVis (before weights): 23\n",
      "N tot expected AddTk_pm_mVis (after weights): 44\n",
      "\n",
      "-----------> DstPipPim <-------------\n",
      "Including pileup reweighting\n",
      "Including trigger corrections\n"
     ]
    },
    {
     "name": "stdout",
     "output_type": "stream",
     "text": [
      "Including muon ID corrections\n",
      "Including B0 pT corrections\n",
      "Computing total weights\n",
      "N tot selected AddTk_pm_mHad: 5920\n",
      "N tot expected AddTk_pm_mHad (before weights): 808\n",
      "N tot expected AddTk_pm_mHad (after weights): 905\n",
      "N tot selected AddTk_m_mHad: 2771\n",
      "N tot expected AddTk_m_mHad (before weights): 378\n",
      "N tot expected AddTk_m_mHad (after weights): 407\n",
      "N tot selected AddTk_p_mHad: 3188\n",
      "N tot expected AddTk_p_mHad (before weights): 435\n",
      "N tot expected AddTk_p_mHad (after weights): 461\n",
      "N tot selected AddTk_pp_mHad: 116\n",
      "N tot expected AddTk_pp_mHad (before weights): 16\n",
      "N tot expected AddTk_pp_mHad (after weights): 24\n",
      "N tot selected AddTk_mm_mHad: 76\n",
      "N tot expected AddTk_mm_mHad (before weights): 10\n",
      "N tot expected AddTk_mm_mHad (after weights): 12\n",
      "N tot selected AddTk_pm_mVis: 5920\n",
      "N tot expected AddTk_pm_mVis (before weights): 808\n",
      "N tot expected AddTk_pm_mVis (after weights): 905\n",
      "\n",
      "-----------> DstmDp <-------------\n",
      "Including pileup reweighting\n",
      "Including trigger corrections\n",
      "Including muon ID corrections\n",
      "Including B0 pT corrections\n",
      "Computing total weights\n",
      "N tot selected AddTk_pm_mHad: 1749\n",
      "N tot expected AddTk_pm_mHad (before weights): 51\n",
      "N tot expected AddTk_pm_mHad (after weights): 60\n",
      "N tot selected AddTk_m_mHad: 735\n",
      "N tot expected AddTk_m_mHad (before weights): 22\n",
      "N tot expected AddTk_m_mHad (after weights): 25\n",
      "N tot selected AddTk_p_mHad: 911\n",
      "N tot expected AddTk_p_mHad (before weights): 27\n",
      "N tot expected AddTk_p_mHad (after weights): 32\n",
      "N tot selected AddTk_pp_mHad: 43\n",
      "N tot expected AddTk_pp_mHad (before weights): 1\n",
      "N tot expected AddTk_pp_mHad (after weights): 2\n",
      "N tot selected AddTk_mm_mHad: 19\n",
      "N tot expected AddTk_mm_mHad (before weights): 1\n",
      "N tot expected AddTk_mm_mHad (after weights): 1\n",
      "N tot selected AddTk_pm_mVis: 1749\n",
      "N tot expected AddTk_pm_mVis (before weights): 51\n",
      "N tot expected AddTk_pm_mVis (after weights): 60\n",
      "\n",
      "-----------> BpDstmHc <-------------\n",
      "Including pileup reweighting\n",
      "Including trigger corrections\n",
      "Including muon ID corrections\n",
      "Computing total weights\n",
      "N tot selected AddTk_pm_mHad: 977\n",
      "N tot expected AddTk_pm_mHad (before weights): 4\n",
      "N tot expected AddTk_pm_mHad (after weights): 4\n",
      "N tot selected AddTk_m_mHad: 196\n",
      "N tot expected AddTk_m_mHad (before weights): 1\n",
      "N tot expected AddTk_m_mHad (after weights): 1\n",
      "N tot selected AddTk_p_mHad: 4523\n",
      "N tot expected AddTk_p_mHad (before weights): 18\n",
      "N tot expected AddTk_p_mHad (after weights): 19\n",
      "N tot selected AddTk_pp_mHad: 980\n",
      "N tot expected AddTk_pp_mHad (before weights): 4\n",
      "N tot expected AddTk_pp_mHad (after weights): 4\n",
      "N tot selected AddTk_mm_mHad: 4\n",
      "N tot expected AddTk_mm_mHad (before weights): 0\n",
      "N tot expected AddTk_mm_mHad (after weights): 0\n",
      "N tot selected AddTk_pm_mVis: 977\n",
      "N tot expected AddTk_pm_mVis (before weights): 4\n",
      "N tot expected AddTk_pm_mVis (after weights): 4\n",
      "\n",
      "-----------> DstPi0Pi0 <-------------\n",
      "Including pileup reweighting\n",
      "Including trigger corrections\n",
      "Including muon ID corrections\n",
      "Including B0 pT corrections\n",
      "Computing total weights\n",
      "N tot selected AddTk_pm_mHad: 99\n",
      "N tot expected AddTk_pm_mHad (before weights): 2\n",
      "N tot expected AddTk_pm_mHad (after weights): 4\n",
      "N tot selected AddTk_m_mHad: 956\n",
      "N tot expected AddTk_m_mHad (before weights): 21\n",
      "N tot expected AddTk_m_mHad (after weights): 27\n",
      "N tot selected AddTk_p_mHad: 1082\n",
      "N tot expected AddTk_p_mHad (before weights): 24\n",
      "N tot expected AddTk_p_mHad (after weights): 29\n",
      "N tot selected AddTk_pp_mHad: 41\n",
      "N tot expected AddTk_pp_mHad (before weights): 1\n",
      "N tot expected AddTk_pp_mHad (after weights): 2\n",
      "N tot selected AddTk_mm_mHad: 31\n",
      "N tot expected AddTk_mm_mHad (before weights): 1\n",
      "N tot expected AddTk_mm_mHad (after weights): 1\n",
      "N tot selected AddTk_pm_mVis: 99\n",
      "N tot expected AddTk_pm_mVis (before weights): 2\n",
      "N tot expected AddTk_pm_mVis (after weights): 4\n"
     ]
    }
   ],
   "source": [
    "for k in sideSelecton.keys():\n",
    "    histo[k] = {}\n",
    "\n",
    "for n, ds in dSetTkSide.iteritems():\n",
    "    if n == 'data': continue\n",
    "    print '\\n----------->', n, '<-------------'\n",
    "    sMC = MCsample[n]    \n",
    "    wVar = {}\n",
    "    weights = {}\n",
    "    \n",
    "    print 'Including pileup reweighting'\n",
    "    weights['pileup'] = getPileupWeights(ds)\n",
    "    print 'Including trigger corrections'\n",
    "    weights['trgSF'], wVar['trgSFUp'], wVar['trgSFDown'] = computeTrgSF(ds)\n",
    "    print 'Including muon ID corrections'\n",
    "    weights['muonIdSF'], wVar['muonIdSFUp'], wVar['muonIdSFDown'] = computeMuonIDSF(ds)\n",
    "    if n in ['mu', 'tau', 'DstmD0', 'DstmDp', 'DstmDsp','DstPi0', 'DstPipPim', 'DstPi0Pi0']: #B0 dominated final states (probably we should do something about B+ too)\n",
    "        print 'Including B0 pT corrections'\n",
    "        weights['B0pT'], wVar['B0pTUp'], wVar['B0pTDown'] = computeB0pTweights(ds)\n",
    "    # Hammer corrections to the FF\n",
    "    if n in ['mu', 'tau']:\n",
    "        print 'Including FF corrections (Hammer)'\n",
    "        weights['B2DstCLN'] = ds['wh_CLNCentral']*sMC.effCand['rate_den']/sMC.effCand['rate_Central']\n",
    "        for nPar in ['R0', 'R1', 'R2', 'RhoSq']:\n",
    "            for var in ['Up', 'Down']:\n",
    "                tag = 'CLN' + nPar + var\n",
    "                wVar['B2Dst'+tag] = ds['wh_'+tag]/sMC.effCand['rate_' + nPar + var]\n",
    "                wVar['B2Dst'+tag] *= sMC.effCand['rate_Central']/ds['wh_CLNCentral']\n",
    "    #Dstst resonance mix\n",
    "    if n == 'DstPip':\n",
    "        _, wVar['fDststWideUp'], wVar['fDststWideDown'] = computeBrVarWeights(ds, {'MC_munuSisterPdgId': -20423}, 0.6/2.7, keepNorm=True) #Gamma 14 pdg 2020\n",
    "    #Hc mix variations\n",
    "    if n == 'DstmD0':\n",
    "        _, wVar['BrB02DstD0KpUp'], wVar['BrB02DstD0KpDown'] = computeBrVarWeights(ds, {'MC_DstSisterPdgId_heavy': 421, 'MC_DstSisterPdgId_light': 321}, 0.21/2.47) #Gamma 169 pdg 2020\n",
    "        _, wVar['BrB02DstD0KstpUp'], wVar['BrB02DstD0KstpDown'] = computeBrVarWeights(ds, {'MC_DstSisterPdgId_heavy': 421, 'MC_DstSisterPdgId_light': 323}, 0.5) # Guess\n",
    "        _, wVar['BrB02DstDst0KpUp'], wVar['BrB02DstDst0KpDown'] = computeBrVarWeights(ds, {'MC_DstSisterPdgId_heavy': 423, 'MC_DstSisterPdgId_light': 321}, 0.09/1.06) #Gamma 170 pdg 2020\n",
    "        _, wVar['BrB02DstDst0KstpUp'], wVar['BrB02DstDst0KstpDown'] = computeBrVarWeights(ds, {'MC_DstSisterPdgId_heavy': 423, 'MC_DstSisterPdgId_light': 323}, 0.5) # Guess\n",
    "        _, wVar['BrB02DstDstpK0Up'], wVar['BrB02DstDstpK0Down'] = computeBrVarWeights(ds, {'MC_DstSisterPdgId_heavy': 413, 'MC_DstSisterPdgId_light': 311}, 0.5/5.3) #Gamma 173 pdg 2020\n",
    "        _, wVar['BrB02DstDstpKst0Up'], wVar['BrB02DstDstpKst0Down'] = computeBrVarWeights(ds, {'MC_DstSisterPdgId_heavy': 413, 'MC_DstSisterPdgId_light': 313}, 0.5) # Guess\n",
    "    if n == 'DstmDp':\n",
    "        _, wVar['BrB02DstDpK0Up'], wVar['BrB02DstDpK0Down'] = computeBrVarWeights(ds, {'MC_DstSisterPdgId_heavy': 411, 'MC_DstSisterPdgId_light': 311}, 0.5/3.2) #Gamma 172 pdg 2020\n",
    "        _, wVar['BrB02DstDpKst0Up'], wVar['BrB02DstDpKst0Down'] = computeBrVarWeights(ds, {'MC_DstSisterPdgId_heavy': 411, 'MC_DstSisterPdgId_light': 313}, 0.5) # Guess\n",
    "        _, wVar['BrB02DstDstpK0Up'], wVar['BrB02DstDstpK0Down'] = computeBrVarWeights(ds, {'MC_DstSisterPdgId_heavy': 413, 'MC_DstSisterPdgId_light': 311}, 0.2/2.7) #Gamma 173 pdg 2020\n",
    "        _, wVar['BrB02DstDstpKst0Up'], wVar['BrB02DstDstpKst0Down'] = computeBrVarWeights(ds, {'MC_DstSisterPdgId_heavy': 413, 'MC_DstSisterPdgId_light': 313}, 0.5) # Guess\n",
    "    if n == 'DstmDsp':\n",
    "        _, wVar['BrB02DstDsUp'], wVar['BrB02DstDsDown'] = computeBrVarWeights(ds, {'MC_DstSisterPdgId_heavy': 431}, 1.1/8.0) #Gamma 83 pdg 2020\n",
    "        _, wVar['BrB02DstDsstUp'], wVar['BrB02DstDsstDown'] = computeBrVarWeights(ds, {'MC_DstSisterPdgId_heavy': 433}, .14/1.77) #Gamma 85 pdg 2020\n",
    "        _, wVar['BrB02DstDs0stUp'], wVar['BrB02DstDs0stDown'] = computeBrVarWeights(ds, {'MC_DstSisterPdgId_heavy': 10431}, .6/1.5) #Gamma 95 pdg 2020\n",
    "        \n",
    "    # Correct the amount of random tracks from PV\n",
    "    weights['tkPVfrac'], wVar['tkPVfracUp'], wVar['tkPVfracDown'] = computeTksPVweights(ds)\n",
    "    \n",
    "    print 'Computing total weights'\n",
    "    weightsCentral = np.ones_like(ds['q2'])\n",
    "    for w in weights.values(): \n",
    "        weightsCentral *= w\n",
    "    wVar[''] = np.ones_like(weightsCentral)\n",
    "    \n",
    "    nGenExp = sMC.effMCgen['xsec'][0] * lumi_tot * RDoMC_normRatio[0]\n",
    "    eff = [1, 0]\n",
    "    for f, df in [sMC.effMCgen['effGEN'], \n",
    "                  decayBR[n], \n",
    "                  sMC.effCand['effCAND'], \n",
    "                  sMC.getSkimEff(cat.name+'_trkCtrl_corr'),\n",
    "                 ]:\n",
    "        eff[0] *= f\n",
    "        eff[1] += np.square(df/f)\n",
    "    eff[1] = eff[0] * np.sqrt(eff[1])\n",
    "    nTotExp = nGenExp*eff[0]\n",
    "    \n",
    "    sel = {}\n",
    "    scale = {}\n",
    "    \n",
    "    for k, selFun in sideSelecton.iteritems():\n",
    "        sel[k] = selFun(ds)\n",
    "        nTotSel = float(np.sum(sel[k]))\n",
    "        print 'N tot selected {}: {:.0f}'.format(k, nTotSel)\n",
    "        nExp = nTotExp * nTotSel / sel[k].shape[0]\n",
    "        print 'N tot expected {} (before weights): {:.0f}'.format(k, nExp)\n",
    "        nAux = nTotExp * np.sum(weightsCentral[sel[k]]) / sel[k].shape[0]\n",
    "        print 'N tot expected {} (after weights): {:.0f}'.format(k, nAux)\n",
    "        scale[k] = nExp/nTotSel\n",
    "    \n",
    "            \n",
    "    for name_wVar, v_wVar in wVar.iteritems():\n",
    "        h_name = n\n",
    "        if not name_wVar == '':\n",
    "            h_name += '__' + name_wVar\n",
    "        w = weightsCentral*v_wVar\n",
    "        \n",
    "        for k in sideVar.keys():\n",
    "            histo[k][h_name] = create_TH1D(\n",
    "                                           ds[sideVar[k]][sel[k]], \n",
    "                                           name=h_name, title=h_name, \n",
    "                                           binning=binning[k],\n",
    "                                           opt='underflow',\n",
    "                                           weights=w[sel[k]], scale_histo=scale[k]\n",
    "                                          )"
   ]
  },
  {
   "cell_type": "markdown",
   "metadata": {
    "heading_collapsed": true
   },
   "source": [
    "# Create (pseudo-)data histogram"
   ]
  },
  {
   "cell_type": "code",
   "execution_count": 23,
   "metadata": {
    "ExecuteTime": {
     "end_time": "2020-06-02T01:59:00.955399Z",
     "start_time": "2020-06-02T01:59:00.850854Z"
    },
    "hidden": true
   },
   "outputs": [
    {
     "name": "stdout",
     "output_type": "stream",
     "text": [
      "N observed data: 162.7k\n"
     ]
    }
   ],
   "source": [
    "if fit_real_data:\n",
    "    ds = dSet['data']\n",
    "    print 'N observed data: {:.1f}k'.format(1e-3*ds['q2'].shape[0])\n",
    "    for i_q2 in range(len(binning['q2'])-1):\n",
    "        q2_l = binning['q2'][i_q2]\n",
    "        q2_h = binning['q2'][i_q2 + 1]\n",
    "        sel_q2 = np.logical_and(ds['q2'] > q2_l, ds['q2'] < q2_h)\n",
    "        for var in ['M2_miss', 'Est_mu']:\n",
    "            cat_name = var+'_q2bin'+str(i_q2)     \n",
    "            histo[cat_name]['data'] = create_TH1D(\n",
    "                                                  ds[var][sel_q2], \n",
    "                                                  name='data_obs', title='Data Obs',\n",
    "                                                  binning=binning[var][i_q2],\n",
    "                                                  opt='underflow,overflow'\n",
    "                                                 )\n",
    "    ds = dSetTkSide['data']\n",
    "    for k in sideVar.keys():\n",
    "        histo[k]['data'] = create_TH1D(\n",
    "                                       ds[sideVar[k]][sideSelecton[k](ds)], \n",
    "                                       name='data_obs', title='Data Obs', \n",
    "                                       binning=binning[k],\n",
    "                                       opt='underflow',\n",
    "                                      )\n",
    "        \n",
    "else:\n",
    "    for i_q2 in range(len(binning['q2'])-1):\n",
    "        for var in ['M2_miss', 'Est_mu']:\n",
    "            cat_name = var+'_q2bin'+str(i_q2)\n",
    "            \n",
    "            h = create_TH1D(np.array([0, 0]), name='data_obs', title='Data Obs', binning=binning[var][i_q2])\n",
    "            h.Reset()\n",
    "            for n, hMC in histo[cat_name].iteritems():\n",
    "                if not '__' in n and not n == 'data':\n",
    "                    scale = SM_RDst if 'tau' in n else 1.\n",
    "                    h.Add(hMC, scale)\n",
    "            h.Sumw2(0)\n",
    "            for i in range(1, h.GetNbinsX()+1):\n",
    "                h.SetBinContent(i, np.around(h.GetBinContent(i)))\n",
    "            h.Sumw2()\n",
    "            histo[cat_name]['data'] = h\n",
    "            \n",
    "    for k in sideVar.keys():\n",
    "        h = create_TH1D(np.array([0, 0]), name='data_obs', title='Data Obs', \n",
    "                        binning=binning[k])\n",
    "        h.Reset()\n",
    "        for n, hMC in histo[k].iteritems():\n",
    "            if not '__' in n and not n == 'data':\n",
    "                scale = SM_RDst if 'tau' in n else 1.\n",
    "                h.Add(hMC, scale)\n",
    "        h.Sumw2(0)\n",
    "        for i in range(1, h.GetNbinsX()+1):\n",
    "            h.SetBinContent(i, np.around(h.GetBinContent(i)))\n",
    "        h.Sumw2()\n",
    "        histo[k]['data'] = h"
   ]
  },
  {
   "cell_type": "code",
   "execution_count": 24,
   "metadata": {
    "ExecuteTime": {
     "end_time": "2020-06-02T01:59:01.715586Z",
     "start_time": "2020-06-02T01:59:00.960318Z"
    },
    "hidden": true,
    "scrolled": false
   },
   "outputs": [
    {
     "data": {
      "image/png": "[encoded data removed]",
      "text/plain": [
       "<IPython.core.display.Image object>"
      ]
     },
     "metadata": {},
     "output_type": "display_data"
    }
   ],
   "source": [
    "CMS_lumi.integrated_lumi = lumi_tot\n",
    "scale_dic = {'tau': SM_RDst\n",
    "            }\n",
    "\n",
    "cSigPre = plot_gridVarQ2(CMS_lumi, binning, histo, scale_dic=scale_dic, min_y=1, logy=False)"
   ]
  },
  {
   "cell_type": "code",
   "execution_count": 25,
   "metadata": {
    "ExecuteTime": {
     "end_time": "2020-06-02T01:59:02.034735Z",
     "start_time": "2020-06-02T01:59:01.721077Z"
    },
    "hidden": true,
    "scrolled": true
   },
   "outputs": [
    {
     "data": {
      "image/png": "[encoded data removed]",
      "text/plain": [
       "<IPython.core.display.Image object>"
      ]
     },
     "metadata": {},
     "output_type": "display_data"
    },
    {
     "data": {
      "image/png": "[encoded data removed]",
      "text/plain": [
       "<IPython.core.display.Image object>"
      ]
     },
     "metadata": {},
     "output_type": "display_data"
    },
    {
     "data": {
      "image/png": "[encoded data removed]",
      "text/plain": [
       "<IPython.core.display.Image object>"
      ]
     },
     "metadata": {},
     "output_type": "display_data"
    },
    {
     "data": {
      "image/png": "[encoded data removed]",
      "text/plain": [
       "<IPython.core.display.Image object>"
      ]
     },
     "metadata": {},
     "output_type": "display_data"
    },
    {
     "data": {
      "image/png": "[encoded data removed]",
      "text/plain": [
       "<IPython.core.display.Image object>"
      ]
     },
     "metadata": {},
     "output_type": "display_data"
    },
    {
     "data": {
      "image/png": "[encoded data removed]",
      "text/plain": [
       "<IPython.core.display.Image object>"
      ]
     },
     "metadata": {},
     "output_type": "display_data"
    }
   ],
   "source": [
    "cSidePre = {}\n",
    "for k in np.sort(sideVar.keys()):\n",
    "    legLoc = [0.65, 0.4, 0.9, 0.7]\n",
    "    if 'MassVis' in sideVar[k]:\n",
    "        legLoc = [0.15, 0.45, 0.35, 0.75]\n",
    "    cSidePre[k] = plot_SingleCategory(CMS_lumi, histo[k], scale_dic=scale_dic,\n",
    "                                      xtitle=sideXtitle[k], addText=sideAddtext[k], \n",
    "                                      tag=k, legLoc=legLoc)"
   ]
  },
  {
   "cell_type": "code",
   "execution_count": 26,
   "metadata": {
    "ExecuteTime": {
     "end_time": "2020-06-02T01:59:02.988843Z",
     "start_time": "2020-06-02T01:59:02.039812Z"
    },
    "hidden": true
   },
   "outputs": [],
   "source": [
    "histo_file_dir = '../data/_root/histos4combine/'\n",
    "if not os.path.isdir(histo_file_dir):\n",
    "    os.makedirs(histo_file_dir)\n",
    "histo_file_loc = {}\n",
    "for cat_name, h_dic in histo.iteritems():\n",
    "    histo_file_loc[cat_name] = histo_file_dir+'{}_{}.root'.format(card_name, cat_name)\n",
    "    tf = rt.TFile(histo_file_loc[cat_name], 'recreate')\n",
    "    for v in h_dic.values():\n",
    "        v.Write()\n",
    "    tf.Close()\n",
    "    \n",
    "del dSet, dSetTkSide"
   ]
  },
  {
   "cell_type": "markdown",
   "metadata": {},
   "source": [
    "# Write the card"
   ]
  },
  {
   "cell_type": "code",
   "execution_count": 27,
   "metadata": {
    "ExecuteTime": {
     "end_time": "2020-06-02T01:59:03.045075Z",
     "start_time": "2020-06-02T01:59:02.995880Z"
    }
   },
   "outputs": [],
   "source": [
    "sig_processes = ['tau', 'mu']\n",
    "bkg_processes = ['DstmD0', 'DstmDp', 'DstmDsp', \n",
    "                 'BpDstmHc', 'BmDstmHc', 'antiB0DstmHc',\n",
    "                 'DstPip', 'DstPipPi0', \n",
    "                 'DstPi0', 'DstPipPim', 'DstPi0Pi0']\n",
    "processes = sig_processes + bkg_processes\n",
    "nProc = len(processes)\n",
    "categories = np.sort([k for k in histo.keys()])\n",
    "nCat = len(categories)"
   ]
  },
  {
   "cell_type": "code",
   "execution_count": 28,
   "metadata": {
    "ExecuteTime": {
     "end_time": "2020-06-02T01:59:03.087118Z",
     "start_time": "2020-06-02T01:59:03.050361Z"
    }
   },
   "outputs": [],
   "source": [
    "# number of different categories\n",
    "card = 'imax *\\n'\n",
    "# number of processes minus one\n",
    "card += 'jmax {}\\n'.format(len(processes)-1)\n",
    "# number of nuissance parameters\n",
    "card += 'kmax *\\n'\n",
    "card += '--------------------------------------------------------------\\n'"
   ]
  },
  {
   "cell_type": "code",
   "execution_count": 29,
   "metadata": {
    "ExecuteTime": {
     "end_time": "2020-06-02T01:59:03.158164Z",
     "start_time": "2020-06-02T01:59:03.091050Z"
    }
   },
   "outputs": [],
   "source": [
    "# shape file location\n",
    "for k in categories:\n",
    "    card += 'shapes * {} {} $PROCESS $PROCESS__$SYSTEMATIC\\n'.format(k, histo_file_loc[k])\n",
    "card += '--------------------------------------------------------------\\n'"
   ]
  },
  {
   "cell_type": "markdown",
   "metadata": {
    "heading_collapsed": true
   },
   "source": [
    "### Number of events"
   ]
  },
  {
   "cell_type": "code",
   "execution_count": 30,
   "metadata": {
    "ExecuteTime": {
     "end_time": "2020-06-02T01:59:03.242897Z",
     "start_time": "2020-06-02T01:59:03.164479Z"
    },
    "hidden": true
   },
   "outputs": [],
   "source": [
    "# number of events observed\n",
    "card += 'bin ' + ' '.join(categories) + '\\n'\n",
    "obs = map(lambda k: '{:.0f}'.format(histo[k]['data'].Integral()), categories)\n",
    "obs = ' '.join(obs)\n",
    "card += 'observation ' + obs + '\\n'\n",
    "card += '--------------------------------------------------------------\\n'"
   ]
  },
  {
   "cell_type": "code",
   "execution_count": 31,
   "metadata": {
    "ExecuteTime": {
     "end_time": "2020-06-02T01:59:03.338346Z",
     "start_time": "2020-06-02T01:59:03.249948Z"
    },
    "hidden": true
   },
   "outputs": [],
   "source": [
    "# MC expected events\n",
    "aux_bin = ''\n",
    "aux_proc_name = ''\n",
    "aux_proc_id = ''\n",
    "aux_proc_rate = ''\n",
    "for c, p in itertools.product(categories, processes):\n",
    "    aux_bin += ' '+c\n",
    "    aux_proc_name += ' '+p\n",
    "    aux_proc_id += ' '+str(np.argmax(np.array(processes) == p))\n",
    "    aux_proc_rate += ' {:.2f}'.format(histo[c][p].Integral())\n",
    "    \n",
    "card += 'bin' + aux_bin + '\\n'\n",
    "card += 'process' + aux_proc_name + '\\n'\n",
    "# Zero or negative for sig and positive for bkg\n",
    "card += 'process' + aux_proc_id + '\\n'\n",
    "# Expected rate\n",
    "card += 'rate' + aux_proc_rate + '\\n'\n",
    "card += '--------------------------------------------------------------\\n'"
   ]
  },
  {
   "cell_type": "markdown",
   "metadata": {},
   "source": [
    "## Systematic uncertainties"
   ]
  },
  {
   "cell_type": "markdown",
   "metadata": {},
   "source": [
    "### Scale systematics"
   ]
  },
  {
   "cell_type": "code",
   "execution_count": 32,
   "metadata": {
    "ExecuteTime": {
     "end_time": "2020-06-02T01:59:03.482605Z",
     "start_time": "2020-06-02T01:59:03.345183Z"
    }
   },
   "outputs": [],
   "source": [
    "#pp -> bb cros-section * luminosity\n",
    "card += 'xsecpp2bbXlumi lnN' + ' 1.9'*nProc*nCat + '\\n'"
   ]
  },
  {
   "cell_type": "code",
   "execution_count": 33,
   "metadata": {
    "ExecuteTime": {
     "end_time": "2020-06-02T01:59:03.596121Z",
     "start_time": "2020-06-02T01:59:03.489409Z"
    }
   },
   "outputs": [],
   "source": [
    "#Hadronization fraction of B0\n",
    "aux = ''\n",
    "for n in processes:\n",
    "    if n in ['tau', 'mu', 'DstmD0', 'DstmDp', 'DstmDsp', 'DstPi0', 'DstPipPim', 'DstPi0Pi0', 'antiB0DstmHc']: \n",
    "        aux += ' 1.7'\n",
    "    else: aux += ' -'\n",
    "card += 'b2B0Had lnN' + aux*nCat + '\\n'"
   ]
  },
  {
   "cell_type": "code",
   "execution_count": 34,
   "metadata": {
    "ExecuteTime": {
     "end_time": "2020-06-02T01:59:03.669000Z",
     "start_time": "2020-06-02T01:59:03.601806Z"
    }
   },
   "outputs": [],
   "source": [
    "#Hadronization fraction of B+\n",
    "aux = ''\n",
    "for n in processes:\n",
    "    if n in ['DstPip', 'DstPipPi0', 'BpDstmHc', 'BmDstmHc']: aux += ' 1.7'\n",
    "    else: aux += ' -'\n",
    "card += 'b2BpHad lnN' + aux*nCat + '\\n'"
   ]
  },
  {
   "cell_type": "code",
   "execution_count": 35,
   "metadata": {
    "ExecuteTime": {
     "end_time": "2020-06-02T01:59:03.833305Z",
     "start_time": "2020-06-02T01:59:03.675967Z"
    }
   },
   "outputs": [],
   "source": [
    "# Branching ration uncertainty\n",
    "for n in processes:\n",
    "    if n in ['tau', 'DstPip', 'DstPi0', 'DstPipPim', 'DstPipPi0', 'DstPi0Pi0', 'BmDstmHc']: continue\n",
    "    val = ' {:.2f}'.format(1+decayBR[n][1]/decayBR[n][0])\n",
    "    aux = ''\n",
    "    for nn in processes:\n",
    "        if nn == n: aux += val\n",
    "        else: aux += ' -'\n",
    "    card += n + 'Br lnN' + aux*nCat + '\\n'"
   ]
  },
  {
   "cell_type": "code",
   "execution_count": 36,
   "metadata": {
    "ExecuteTime": {
     "end_time": "2020-06-02T01:59:03.919160Z",
     "start_time": "2020-06-02T01:59:03.840519Z"
    }
   },
   "outputs": [],
   "source": [
    "# Branching ration uncertainty with isospin symmetry constraint\n",
    "val = ' {:.2f}'.format(1+decayBR['DstPip'][1]/decayBR['DstPip'][0]) #DstPi0 has no info\n",
    "aux = ''\n",
    "for n in processes:\n",
    "    if n in ['DstPip', 'DstPi0']: aux += val\n",
    "    else: aux += ' -'\n",
    "card += 'DstPiBr lnN' + aux*nCat + '\\n'\n",
    "\n",
    "val = ' {:.2f}'.format(1+decayBR['DstPipPim'][1]/decayBR['DstPipPim'][0]) #DstPipPim is the only one meaasured\n",
    "aux = ''\n",
    "for n in processes:\n",
    "    if n in ['DstPipPim', 'DstPipPi0', 'DstPi0Pi0']: aux += val\n",
    "    else: aux += ' -'\n",
    "card += 'DstPiPiBr lnN' + aux*nCat + '\\n'"
   ]
  },
  {
   "cell_type": "code",
   "execution_count": 37,
   "metadata": {
    "ExecuteTime": {
     "end_time": "2020-06-02T01:59:03.994114Z",
     "start_time": "2020-06-02T01:59:03.926394Z"
    }
   },
   "outputs": [],
   "source": [
    "card += '--------------------------------------------------------------\\n'"
   ]
  },
  {
   "cell_type": "markdown",
   "metadata": {},
   "source": [
    "### Rate parameters"
   ]
  },
  {
   "cell_type": "code",
   "execution_count": 38,
   "metadata": {
    "ExecuteTime": {
     "end_time": "2020-06-02T01:59:04.077511Z",
     "start_time": "2020-06-02T01:59:03.999752Z"
    }
   },
   "outputs": [],
   "source": [
    "# card += 'pAddTk param 1.0 0.15\\n'"
   ]
  },
  {
   "cell_type": "code",
   "execution_count": 39,
   "metadata": {
    "ExecuteTime": {
     "end_time": "2020-06-02T01:59:04.225312Z",
     "start_time": "2020-06-02T01:59:04.084029Z"
    }
   },
   "outputs": [],
   "source": [
    "# linear = []\n",
    "# quadratic = []\n",
    "\n",
    "# for procAux in ['tau', 'mu', 'DstPi0', 'DstPi0Pi0']: \n",
    "#     linear.append(['AddTk_p_mHad', procAux])\n",
    "    \n",
    "# for procAux in ['tau', 'mu', 'DstPi0', 'DstPi0Pi0', 'DstPip', 'DstPipPi0']: \n",
    "#     linear.append(['AddTk_m_mHad', procAux])\n",
    "    \n",
    "# for procAux in ['DstPip', 'DstPipPi0', 'DstPipPim', 'DstmD0', 'DstmDp', 'DstmDsp']:\n",
    "#     linear.append(['AddTk_pp_mHad', procAux])\n",
    "# for procAux in ['tau', 'mu', 'DstPi0', 'DstPi0Pi0']:\n",
    "#     quadratic.append(['AddTk_pp_mHad', procAux])\n",
    "    \n",
    "\n",
    "# for procAux in ['DstPip', 'DstPipPi0']:\n",
    "#     linear.append(['AddTk_pm_mHad', procAux])\n",
    "#     linear.append(['AddTk_pm_mVis', procAux])\n",
    "# for procAux in ['tau', 'mu', 'DstPi0', 'DstPi0Pi0']:\n",
    "#     quadratic.append(['AddTk_pm_mHad', procAux])\n",
    "#     quadratic.append(['AddTk_pm_mVis', procAux])\n",
    "    \n",
    "# for procAux in ['DstPipPim', 'DstmD0', 'DstmDp', 'DstmDsp']:\n",
    "#     linear.append(['AddTk_mm_mHad', procAux])\n",
    "# for procAux in ['tau', 'mu', 'DstPi0', 'DstPi0Pi0', 'DstPip', 'DstPipPi0']:\n",
    "#     quadratic.append(['AddTk_mm_mHad', procAux])\n",
    "    \n",
    "# for binAux, procAux in linear:\n",
    "#     card += 'pAddTk rateParam {} {} 1\\n'.format(binAux, procAux)\n",
    "# for binAux, procAux in quadratic:\n",
    "#     card += 'pAddTk2 rateParam {} {} @0*@0 pAddTk\\n'.format(binAux, procAux)"
   ]
  },
  {
   "cell_type": "code",
   "execution_count": 40,
   "metadata": {
    "ExecuteTime": {
     "end_time": "2020-06-02T01:59:04.328668Z",
     "start_time": "2020-06-02T01:59:04.231363Z"
    }
   },
   "outputs": [],
   "source": [
    "# card += '--------------------------------------------------------------\\n'"
   ]
  },
  {
   "cell_type": "markdown",
   "metadata": {},
   "source": [
    "### Shape Systematics"
   ]
  },
  {
   "cell_type": "code",
   "execution_count": 41,
   "metadata": {
    "ExecuteTime": {
     "end_time": "2020-06-02T01:59:04.371844Z",
     "start_time": "2020-06-02T01:59:04.334686Z"
    }
   },
   "outputs": [],
   "source": [
    "card += 'trgSF shape' + ' 1.'*nProc*nCat + '\\n'"
   ]
  },
  {
   "cell_type": "code",
   "execution_count": 42,
   "metadata": {
    "ExecuteTime": {
     "end_time": "2020-06-02T01:59:04.436753Z",
     "start_time": "2020-06-02T01:59:04.378363Z"
    }
   },
   "outputs": [],
   "source": [
    "card += 'muonIdSF shape' + ' 1.'*nProc*nCat + '\\n'"
   ]
  },
  {
   "cell_type": "code",
   "execution_count": 43,
   "metadata": {
    "ExecuteTime": {
     "end_time": "2020-06-02T01:59:04.539034Z",
     "start_time": "2020-06-02T01:59:04.441428Z"
    }
   },
   "outputs": [],
   "source": [
    "aux = ''\n",
    "for cat in categories:\n",
    "    if cat.startswith('AddTk_'):\n",
    "        aux += ' 1.'*nProc\n",
    "    else: aux += ' -'*nProc\n",
    "card += 'tkPVfrac shape' + aux + '\\n'"
   ]
  },
  {
   "cell_type": "code",
   "execution_count": 44,
   "metadata": {
    "ExecuteTime": {
     "end_time": "2020-06-02T01:59:04.608059Z",
     "start_time": "2020-06-02T01:59:04.543077Z"
    }
   },
   "outputs": [],
   "source": [
    "# B0 pT spectrum\n",
    "aux = ''\n",
    "for p in processes:\n",
    "    if p in ['tau', 'mu', 'DstmD0', 'DstmDp', 'DstmDsp', 'DstPi0', 'DstPipPim', 'DstPi0Pi0']:\n",
    "        aux += ' 1.'\n",
    "    else:\n",
    "        aux += ' -'\n",
    "card += 'B0pT shape' + aux*nCat + '\\n'"
   ]
  },
  {
   "cell_type": "code",
   "execution_count": 45,
   "metadata": {
    "ExecuteTime": {
     "end_time": "2020-06-02T01:59:04.681774Z",
     "start_time": "2020-06-02T01:59:04.615291Z"
    }
   },
   "outputs": [],
   "source": [
    "# Form Factors from Hammer\n",
    "for n_pFF in ['R0', 'R1', 'R2', 'RhoSq']:\n",
    "    aux = ''\n",
    "    for p in processes:\n",
    "        if p in ['tau', 'mu']:\n",
    "            aux += ' 1.'\n",
    "        else:\n",
    "            aux += ' -'\n",
    "    card += 'B2DstCLN{} shape'.format(n_pFF) + aux*nCat + '\\n'"
   ]
  },
  {
   "cell_type": "code",
   "execution_count": 46,
   "metadata": {
    "ExecuteTime": {
     "end_time": "2020-06-02T01:59:04.752733Z",
     "start_time": "2020-06-02T01:59:04.686452Z"
    }
   },
   "outputs": [],
   "source": [
    "# Dstst mix composition\n",
    "aux = ''\n",
    "for p in processes:\n",
    "    if p == 'DstPip': aux += ' 1.'\n",
    "    else: aux += ' -'\n",
    "card += 'fDststWide shape' + aux*nCat + '\\n'"
   ]
  },
  {
   "cell_type": "code",
   "execution_count": 47,
   "metadata": {
    "ExecuteTime": {
     "end_time": "2020-06-02T01:59:04.826095Z",
     "start_time": "2020-06-02T01:59:04.756919Z"
    }
   },
   "outputs": [],
   "source": [
    "# Hc mix composition\n",
    "aux = ''\n",
    "for p in processes:\n",
    "    if p == 'DstmD0': aux += ' 1.'\n",
    "    else: aux += ' -'\n",
    "card += 'BrB02DstD0Kp shape' + aux*nCat + '\\n'\n",
    "card += 'BrB02DstD0Kstp shape' + aux*nCat + '\\n'\n",
    "card += 'BrB02DstDst0Kp shape' + aux*nCat + '\\n'\n",
    "card += 'BrB02DstDst0Kstp shape' + aux*nCat + '\\n'\n",
    "\n",
    "aux = ''\n",
    "for p in processes:\n",
    "    if p == 'DstmDp': aux += ' 1.'\n",
    "    else: aux += ' -'\n",
    "card += 'BrB02DstDpK0 shape' + aux*nCat + '\\n'\n",
    "card += 'BrB02DstDpKst0 shape' + aux*nCat + '\\n'\n",
    "\n",
    "aux = ''\n",
    "for p in processes:\n",
    "    if p == 'DstmDp' or p == 'DstmD0': aux += ' 1.'\n",
    "    else: aux += ' -'\n",
    "card += 'BrB02DstDstpK0 shape' + aux*nCat + '\\n'\n",
    "card += 'BrB02DstDstpKst0 shape' + aux*nCat + '\\n'\n",
    "\n",
    "aux = ''\n",
    "for p in processes:\n",
    "    if p == 'DstmDsp': aux += ' 1.'\n",
    "    else: aux += ' -'\n",
    "card += 'BrB02DstDs shape' + aux*nCat + '\\n'\n",
    "card += 'BrB02DstDsst shape' + aux*nCat + '\\n'\n",
    "card += 'BrB02DstDs0st shape' + aux*nCat + '\\n'"
   ]
  },
  {
   "cell_type": "markdown",
   "metadata": {},
   "source": [
    "### MC statistic systematics"
   ]
  },
  {
   "cell_type": "code",
   "execution_count": 48,
   "metadata": {
    "ExecuteTime": {
     "end_time": "2020-06-02T01:59:04.958137Z",
     "start_time": "2020-06-02T01:59:04.830916Z"
    }
   },
   "outputs": [],
   "source": [
    "card += '* autoMCStats 10 1 1\\n'\n",
    "card += '--------------------------------------------------------------\\n'"
   ]
  },
  {
   "cell_type": "markdown",
   "metadata": {
    "heading_collapsed": true
   },
   "source": [
    "### Defining groups of systematics"
   ]
  },
  {
   "cell_type": "code",
   "execution_count": 49,
   "metadata": {
    "ExecuteTime": {
     "end_time": "2020-06-02T01:59:05.001623Z",
     "start_time": "2020-06-02T01:59:04.963345Z"
    },
    "hidden": true
   },
   "outputs": [],
   "source": [
    "# autoMCStats group = defined by default when using autoMCStats\n",
    "aux_FF = ' '.join(['B2DstCLN'+n for n in ['R0', 'R1', 'R2', 'RhoSq']])\n",
    "card += 'B2DstFF group = ' + aux_FF + '\\n'\n",
    "\n",
    "# card += 'normMC group = xsecpp2bbXlumi b2B0Had b2BpHad\\n'\n",
    "\n",
    "# card += 'knownBr group = ' + ' '.join([n+'Br' for n in processes if not n == 'tau']) + '\\n'\n",
    "\n",
    "card += 'allShape group = trgSF muonIdSF B0pT ' + aux_FF + '\\n'"
   ]
  },
  {
   "cell_type": "markdown",
   "metadata": {
    "heading_collapsed": true
   },
   "source": [
    "## Create output"
   ]
  },
  {
   "cell_type": "code",
   "execution_count": 50,
   "metadata": {
    "ExecuteTime": {
     "end_time": "2020-06-02T01:59:05.076120Z",
     "start_time": "2020-06-02T01:59:05.007297Z"
    },
    "hidden": true,
    "scrolled": false
   },
   "outputs": [
    {
     "name": "stdout",
     "output_type": "stream",
     "text": [
      "imax *\n",
      "jmax 12\n",
      "kmax *\n",
      "--------------------------------------------------------------\n",
      "shapes * AddTk_m_mHad ../data/_root/histos4combine/v8_low_AddTk_m_mHad.root $PROCESS $PROCESS__$SYSTEMATIC\n",
      "shapes * AddTk_mm_mHad ../data/_root/histos4combine/v8_low_AddTk_mm_mHad.root $PROCESS $PROCESS__$SYSTEMATIC\n",
      "shapes * AddTk_p_mHad ../data/_root/histos4combine/v8_low_AddTk_p_mHad.root $PROCESS $PROCESS__$SYSTEMATIC\n",
      "shapes * AddTk_pm_mHad ../data/_root/histos4combine/v8_low_AddTk_pm_mHad.root $PROCESS $PROCESS__$SYSTEMATIC\n",
      "shapes * AddTk_pm_mVis ../data/_root/histos4combine/v8_low_AddTk_pm_mVis.root $PROCESS $PROCESS__$SYSTEMATIC\n",
      "shapes * AddTk_pp_mHad ../data/_root/histos4combine/v8_low_AddTk_pp_mHad.root $PROCESS $PROCESS__$SYSTEMATIC\n",
      "shapes * Est_mu_q2bin0 ../data/_root/histos4combine/v8_low_Est_mu_q2bin0.root $PROCESS $PROCESS__$SYSTEMATIC\n",
      "shapes * Est_mu_q2bin1 ../data/_root/histos4combine/v8_low_Est_mu_q2bin1.root $PROCESS $PROCESS__$SYSTEMATIC\n",
      "shapes * M2_miss_q2bin0 ../data/_root/histos4combine/v8_low_M2_miss_q2bin0.root $PROCESS $PROCESS__$SYSTEMATIC\n",
      "shapes * M2_miss_q2bin1 ../data/_root/histos4combine/v8_low_M2_miss_q2bin1.root $PROCESS $PROCESS__$SYSTEMATIC\n",
      "--------------------------------------------------------------\n",
      "bin AddTk_m_mHad AddTk_mm_mHad AddTk_p_mHad AddTk_pm_mHad AddTk_pm_mVis AddTk_pp_mHad Est_mu_q2bin0 Est_mu_q2bin1 M2_miss_q2bin0 M2_miss_q2bin1\n",
      "observation 9533 410 18420 3163 3251 821 32093 65994 32093 65994\n",
      "--------------------------------------------------------------\n",
      "bin AddTk_m_mHad AddTk_m_mHad AddTk_m_mHad AddTk_m_mHad AddTk_m_mHad AddTk_m_mHad AddTk_m_mHad AddTk_m_mHad AddTk_m_mHad AddTk_m_mHad AddTk_m_mHad AddTk_m_mHad AddTk_m_mHad AddTk_mm_mHad AddTk_mm_mHad AddTk_mm_mHad AddTk_mm_mHad AddTk_mm_mHad AddTk_mm_mHad AddTk_mm_mHad AddTk_mm_mHad AddTk_mm_mHad AddTk_mm_mHad AddTk_mm_mHad AddTk_mm_mHad AddTk_mm_mHad AddTk_p_mHad AddTk_p_mHad AddTk_p_mHad AddTk_p_mHad AddTk_p_mHad AddTk_p_mHad AddTk_p_mHad AddTk_p_mHad AddTk_p_mHad AddTk_p_mHad AddTk_p_mHad AddTk_p_mHad AddTk_p_mHad AddTk_pm_mHad AddTk_pm_mHad AddTk_pm_mHad AddTk_pm_mHad AddTk_pm_mHad AddTk_pm_mHad AddTk_pm_mHad AddTk_pm_mHad AddTk_pm_mHad AddTk_pm_mHad AddTk_pm_mHad AddTk_pm_mHad AddTk_pm_mHad AddTk_pm_mVis AddTk_pm_mVis AddTk_pm_mVis AddTk_pm_mVis AddTk_pm_mVis AddTk_pm_mVis AddTk_pm_mVis AddTk_pm_mVis AddTk_pm_mVis AddTk_pm_mVis AddTk_pm_mVis AddTk_pm_mVis AddTk_pm_mVis AddTk_pp_mHad AddTk_pp_mHad AddTk_pp_mHad AddTk_pp_mHad AddTk_pp_mHad AddTk_pp_mHad AddTk_pp_mHad AddTk_pp_mHad AddTk_pp_mHad AddTk_pp_mHad AddTk_pp_mHad AddTk_pp_mHad AddTk_pp_mHad Est_mu_q2bin0 Est_mu_q2bin0 Est_mu_q2bin0 Est_mu_q2bin0 Est_mu_q2bin0 Est_mu_q2bin0 Est_mu_q2bin0 Est_mu_q2bin0 Est_mu_q2bin0 Est_mu_q2bin0 Est_mu_q2bin0 Est_mu_q2bin0 Est_mu_q2bin0 Est_mu_q2bin1 Est_mu_q2bin1 Est_mu_q2bin1 Est_mu_q2bin1 Est_mu_q2bin1 Est_mu_q2bin1 Est_mu_q2bin1 Est_mu_q2bin1 Est_mu_q2bin1 Est_mu_q2bin1 Est_mu_q2bin1 Est_mu_q2bin1 Est_mu_q2bin1 M2_miss_q2bin0 M2_miss_q2bin0 M2_miss_q2bin0 M2_miss_q2bin0 M2_miss_q2bin0 M2_miss_q2bin0 M2_miss_q2bin0 M2_miss_q2bin0 M2_miss_q2bin0 M2_miss_q2bin0 M2_miss_q2bin0 M2_miss_q2bin0 M2_miss_q2bin0 M2_miss_q2bin1 M2_miss_q2bin1 M2_miss_q2bin1 M2_miss_q2bin1 M2_miss_q2bin1 M2_miss_q2bin1 M2_miss_q2bin1 M2_miss_q2bin1 M2_miss_q2bin1 M2_miss_q2bin1 M2_miss_q2bin1 M2_miss_q2bin1 M2_miss_q2bin1\n",
      "process tau mu DstmD0 DstmDp DstmDsp BpDstmHc BmDstmHc antiB0DstmHc DstPip DstPipPi0 DstPi0 DstPipPim DstPi0Pi0 tau mu DstmD0 DstmDp DstmDsp BpDstmHc BmDstmHc antiB0DstmHc DstPip DstPipPi0 DstPi0 DstPipPim DstPi0Pi0 tau mu DstmD0 DstmDp DstmDsp BpDstmHc BmDstmHc antiB0DstmHc DstPip DstPipPi0 DstPi0 DstPipPim DstPi0Pi0 tau mu DstmD0 DstmDp DstmDsp BpDstmHc BmDstmHc antiB0DstmHc DstPip DstPipPi0 DstPi0 DstPipPim DstPi0Pi0 tau mu DstmD0 DstmDp DstmDsp BpDstmHc BmDstmHc antiB0DstmHc DstPip DstPipPi0 DstPi0 DstPipPim DstPi0Pi0 tau mu DstmD0 DstmDp DstmDsp BpDstmHc BmDstmHc antiB0DstmHc DstPip DstPipPi0 DstPi0 DstPipPim DstPi0Pi0 tau mu DstmD0 DstmDp DstmDsp BpDstmHc BmDstmHc antiB0DstmHc DstPip DstPipPi0 DstPi0 DstPipPim DstPi0Pi0 tau mu DstmD0 DstmDp DstmDsp BpDstmHc BmDstmHc antiB0DstmHc DstPip DstPipPi0 DstPi0 DstPipPim DstPi0Pi0 tau mu DstmD0 DstmDp DstmDsp BpDstmHc BmDstmHc antiB0DstmHc DstPip DstPipPi0 DstPi0 DstPipPim DstPi0Pi0 tau mu DstmD0 DstmDp DstmDsp BpDstmHc BmDstmHc antiB0DstmHc DstPip DstPipPi0 DstPi0 DstPipPim DstPi0Pi0\n",
      "process 0 1 2 3 4 5 6 7 8 9 10 11 12 0 1 2 3 4 5 6 7 8 9 10 11 12 0 1 2 3 4 5 6 7 8 9 10 11 12 0 1 2 3 4 5 6 7 8 9 10 11 12 0 1 2 3 4 5 6 7 8 9 10 11 12 0 1 2 3 4 5 6 7 8 9 10 11 12 0 1 2 3 4 5 6 7 8 9 10 11 12 0 1 2 3 4 5 6 7 8 9 10 11 12 0 1 2 3 4 5 6 7 8 9 10 11 12 0 1 2 3 4 5 6 7 8 9 10 11 12\n",
      "rate 250.75 6141.25 46.24 24.51 83.35 0.77 138.69 19.66 266.02 25.71 282.89 406.40 26.89 9.47 251.01 1.31 0.65 3.23 0.03 5.15 1.55 10.54 0.30 13.74 11.86 0.86 288.77 7013.05 101.06 30.60 84.15 13.49 4.35 30.01 6889.64 793.27 302.48 459.15 28.29 34.46 836.54 212.23 59.59 107.70 4.32 10.95 55.67 420.65 44.89 44.31 902.37 4.04 36.97 837.26 223.58 59.95 117.89 4.39 11.11 55.84 424.28 45.14 44.31 905.26 4.04 13.04 322.91 5.36 1.50 5.08 4.24 0.00 0.95 250.64 32.95 18.25 23.44 2.07 74.15 26311.88 0.42 0.73 62.83 0.17 0.48 1.96 463.77 8.28 649.53 7.06 12.64 1613.06 50666.36 2.14 10.31 599.03 0.57 5.58 11.61 1862.40 134.53 2288.54 99.28 167.33 74.15 26311.88 0.42 0.73 62.83 0.17 0.48 1.96 463.77 8.28 649.53 7.06 12.64 1613.06 50666.36 2.14 10.31 599.03 0.57 5.58 11.61 1862.40 134.53 2288.54 99.28 167.33\n",
      "--------------------------------------------------------------\n",
      "xsecpp2bbXlumi lnN 1.9 1.9 1.9 1.9 1.9 1.9 1.9 1.9 1.9 1.9 1.9 1.9 1.9 1.9 1.9 1.9 1.9 1.9 1.9 1.9 1.9 1.9 1.9 1.9 1.9 1.9 1.9 1.9 1.9 1.9 1.9 1.9 1.9 1.9 1.9 1.9 1.9 1.9 1.9 1.9 1.9 1.9 1.9 1.9 1.9 1.9 1.9 1.9 1.9 1.9 1.9 1.9 1.9 1.9 1.9 1.9 1.9 1.9 1.9 1.9 1.9 1.9 1.9 1.9 1.9 1.9 1.9 1.9 1.9 1.9 1.9 1.9 1.9 1.9 1.9 1.9 1.9 1.9 1.9 1.9 1.9 1.9 1.9 1.9 1.9 1.9 1.9 1.9 1.9 1.9 1.9 1.9 1.9 1.9 1.9 1.9 1.9 1.9 1.9 1.9 1.9 1.9 1.9 1.9 1.9 1.9 1.9 1.9 1.9 1.9 1.9 1.9 1.9 1.9 1.9 1.9 1.9 1.9 1.9 1.9 1.9 1.9 1.9 1.9 1.9 1.9 1.9 1.9 1.9 1.9\n",
      "b2B0Had lnN 1.7 1.7 1.7 1.7 1.7 - - 1.7 - - 1.7 1.7 1.7 1.7 1.7 1.7 1.7 1.7 - - 1.7 - - 1.7 1.7 1.7 1.7 1.7 1.7 1.7 1.7 - - 1.7 - - 1.7 1.7 1.7 1.7 1.7 1.7 1.7 1.7 - - 1.7 - - 1.7 1.7 1.7 1.7 1.7 1.7 1.7 1.7 - - 1.7 - - 1.7 1.7 1.7 1.7 1.7 1.7 1.7 1.7 - - 1.7 - - 1.7 1.7 1.7 1.7 1.7 1.7 1.7 1.7 - - 1.7 - - 1.7 1.7 1.7 1.7 1.7 1.7 1.7 1.7 - - 1.7 - - 1.7 1.7 1.7 1.7 1.7 1.7 1.7 1.7 - - 1.7 - - 1.7 1.7 1.7 1.7 1.7 1.7 1.7 1.7 - - 1.7 - - 1.7 1.7 1.7\n",
      "b2BpHad lnN - - - - - 1.7 1.7 - 1.7 1.7 - - - - - - - - 1.7 1.7 - 1.7 1.7 - - - - - - - - 1.7 1.7 - 1.7 1.7 - - - - - - - - 1.7 1.7 - 1.7 1.7 - - - - - - - - 1.7 1.7 - 1.7 1.7 - - - - - - - - 1.7 1.7 - 1.7 1.7 - - - - - - - - 1.7 1.7 - 1.7 1.7 - - - - - - - - 1.7 1.7 - 1.7 1.7 - - - - - - - - 1.7 1.7 - 1.7 1.7 - - - - - - - - 1.7 1.7 - 1.7 1.7 - - -\n",
      "muBr lnN - 1.03 - - - - - - - - - - - - 1.03 - - - - - - - - - - - - 1.03 - - - - - - - - - - - - 1.03 - - - - - - - - - - - - 1.03 - - - - - - - - - - - - 1.03 - - - - - - - - - - - - 1.03 - - - - - - - - - - - - 1.03 - - - - - - - - - - - - 1.03 - - - - - - - - - - - - 1.03 - - - - - - - - - - -\n",
      "DstmD0Br lnN - - 1.09 - - - - - - - - - - - - 1.09 - - - - - - - - - - - - 1.09 - - - - - - - - - - - - 1.09 - - - - - - - - - - - - 1.09 - - - - - - - - - - - - 1.09 - - - - - - - - - - - - 1.09 - - - - - - - - - - - - 1.09 - - - - - - - - - - - - 1.09 - - - - - - - - - - - - 1.09 - - - - - - - - - -\n",
      "DstmDpBr lnN - - - 1.18 - - - - - - - - - - - - 1.18 - - - - - - - - - - - - 1.18 - - - - - - - - - - - - 1.18 - - - - - - - - - - - - 1.18 - - - - - - - - - - - - 1.18 - - - - - - - - - - - - 1.18 - - - - - - - - - - - - 1.18 - - - - - - - - - - - - 1.18 - - - - - - - - - - - - 1.18 - - - - - - - - -\n",
      "DstmDspBr lnN - - - - 1.11 - - - - - - - - - - - - 1.11 - - - - - - - - - - - - 1.11 - - - - - - - - - - - - 1.11 - - - - - - - - - - - - 1.11 - - - - - - - - - - - - 1.11 - - - - - - - - - - - - 1.11 - - - - - - - - - - - - 1.11 - - - - - - - - - - - - 1.11 - - - - - - - - - - - - 1.11 - - - - - - - -\n",
      "BpDstmHcBr lnN - - - - - 1.22 - - - - - - - - - - - - 1.22 - - - - - - - - - - - - 1.22 - - - - - - - - - - - - 1.22 - - - - - - - - - - - - 1.22 - - - - - - - - - - - - 1.22 - - - - - - - - - - - - 1.22 - - - - - - - - - - - - 1.22 - - - - - - - - - - - - 1.22 - - - - - - - - - - - - 1.22 - - - - - - -\n",
      "antiB0DstmHcBr lnN - - - - - - - 1.19 - - - - - - - - - - - - 1.19 - - - - - - - - - - - - 1.19 - - - - - - - - - - - - 1.19 - - - - - - - - - - - - 1.19 - - - - - - - - - - - - 1.19 - - - - - - - - - - - - 1.19 - - - - - - - - - - - - 1.19 - - - - - - - - - - - - 1.19 - - - - - - - - - - - - 1.19 - - - - -\n",
      "DstPiBr lnN - - - - - - - - 1.07 - 1.07 - - - - - - - - - - 1.07 - 1.07 - - - - - - - - - - 1.07 - 1.07 - - - - - - - - - - 1.07 - 1.07 - - - - - - - - - - 1.07 - 1.07 - - - - - - - - - - 1.07 - 1.07 - - - - - - - - - - 1.07 - 1.07 - - - - - - - - - - 1.07 - 1.07 - - - - - - - - - - 1.07 - 1.07 - - - - - - - - - - 1.07 - 1.07 - -\n",
      "DstPiPiBr lnN - - - - - - - - - 1.36 - 1.36 1.36 - - - - - - - - - 1.36 - 1.36 1.36 - - - - - - - - - 1.36 - 1.36 1.36 - - - - - - - - - 1.36 - 1.36 1.36 - - - - - - - - - 1.36 - 1.36 1.36 - - - - - - - - - 1.36 - 1.36 1.36 - - - - - - - - - 1.36 - 1.36 1.36 - - - - - - - - - 1.36 - 1.36 1.36 - - - - - - - - - 1.36 - 1.36 1.36 - - - - - - - - - 1.36 - 1.36 1.36\n",
      "--------------------------------------------------------------\n",
      "trgSF shape 1. 1. 1. 1. 1. 1. 1. 1. 1. 1. 1. 1. 1. 1. 1. 1. 1. 1. 1. 1. 1. 1. 1. 1. 1. 1. 1. 1. 1. 1. 1. 1. 1. 1. 1. 1. 1. 1. 1. 1. 1. 1. 1. 1. 1. 1. 1. 1. 1. 1. 1. 1. 1. 1. 1. 1. 1. 1. 1. 1. 1. 1. 1. 1. 1. 1. 1. 1. 1. 1. 1. 1. 1. 1. 1. 1. 1. 1. 1. 1. 1. 1. 1. 1. 1. 1. 1. 1. 1. 1. 1. 1. 1. 1. 1. 1. 1. 1. 1. 1. 1. 1. 1. 1. 1. 1. 1. 1. 1. 1. 1. 1. 1. 1. 1. 1. 1. 1. 1. 1. 1. 1. 1. 1. 1. 1. 1. 1. 1. 1.\n",
      "muonIdSF shape 1. 1. 1. 1. 1. 1. 1. 1. 1. 1. 1. 1. 1. 1. 1. 1. 1. 1. 1. 1. 1. 1. 1. 1. 1. 1. 1. 1. 1. 1. 1. 1. 1. 1. 1. 1. 1. 1. 1. 1. 1. 1. 1. 1. 1. 1. 1. 1. 1. 1. 1. 1. 1. 1. 1. 1. 1. 1. 1. 1. 1. 1. 1. 1. 1. 1. 1. 1. 1. 1. 1. 1. 1. 1. 1. 1. 1. 1. 1. 1. 1. 1. 1. 1. 1. 1. 1. 1. 1. 1. 1. 1. 1. 1. 1. 1. 1. 1. 1. 1. 1. 1. 1. 1. 1. 1. 1. 1. 1. 1. 1. 1. 1. 1. 1. 1. 1. 1. 1. 1. 1. 1. 1. 1. 1. 1. 1. 1. 1. 1.\n",
      "tkPVfrac shape 1. 1. 1. 1. 1. 1. 1. 1. 1. 1. 1. 1. 1. 1. 1. 1. 1. 1. 1. 1. 1. 1. 1. 1. 1. 1. 1. 1. 1. 1. 1. 1. 1. 1. 1. 1. 1. 1. 1. 1. 1. 1. 1. 1. 1. 1. 1. 1. 1. 1. 1. 1. 1. 1. 1. 1. 1. 1. 1. 1. 1. 1. 1. 1. 1. 1. 1. 1. 1. 1. 1. 1. 1. 1. 1. 1. 1. 1. - - - - - - - - - - - - - - - - - - - - - - - - - - - - - - - - - - - - - - - - - - - - - - - - - - - -\n",
      "B0pT shape 1. 1. 1. 1. 1. - - - - - 1. 1. 1. 1. 1. 1. 1. 1. - - - - - 1. 1. 1. 1. 1. 1. 1. 1. - - - - - 1. 1. 1. 1. 1. 1. 1. 1. - - - - - 1. 1. 1. 1. 1. 1. 1. 1. - - - - - 1. 1. 1. 1. 1. 1. 1. 1. - - - - - 1. 1. 1. 1. 1. 1. 1. 1. - - - - - 1. 1. 1. 1. 1. 1. 1. 1. - - - - - 1. 1. 1. 1. 1. 1. 1. 1. - - - - - 1. 1. 1. 1. 1. 1. 1. 1. - - - - - 1. 1. 1.\n",
      "B2DstCLNR0 shape 1. 1. - - - - - - - - - - - 1. 1. - - - - - - - - - - - 1. 1. - - - - - - - - - - - 1. 1. - - - - - - - - - - - 1. 1. - - - - - - - - - - - 1. 1. - - - - - - - - - - - 1. 1. - - - - - - - - - - - 1. 1. - - - - - - - - - - - 1. 1. - - - - - - - - - - - 1. 1. - - - - - - - - - - -\n",
      "B2DstCLNR1 shape 1. 1. - - - - - - - - - - - 1. 1. - - - - - - - - - - - 1. 1. - - - - - - - - - - - 1. 1. - - - - - - - - - - - 1. 1. - - - - - - - - - - - 1. 1. - - - - - - - - - - - 1. 1. - - - - - - - - - - - 1. 1. - - - - - - - - - - - 1. 1. - - - - - - - - - - - 1. 1. - - - - - - - - - - -\n",
      "B2DstCLNR2 shape 1. 1. - - - - - - - - - - - 1. 1. - - - - - - - - - - - 1. 1. - - - - - - - - - - - 1. 1. - - - - - - - - - - - 1. 1. - - - - - - - - - - - 1. 1. - - - - - - - - - - - 1. 1. - - - - - - - - - - - 1. 1. - - - - - - - - - - - 1. 1. - - - - - - - - - - - 1. 1. - - - - - - - - - - -\n",
      "B2DstCLNRhoSq shape 1. 1. - - - - - - - - - - - 1. 1. - - - - - - - - - - - 1. 1. - - - - - - - - - - - 1. 1. - - - - - - - - - - - 1. 1. - - - - - - - - - - - 1. 1. - - - - - - - - - - - 1. 1. - - - - - - - - - - - 1. 1. - - - - - - - - - - - 1. 1. - - - - - - - - - - - 1. 1. - - - - - - - - - - -\n",
      "fDststWide shape - - - - - - - - 1. - - - - - - - - - - - - 1. - - - - - - - - - - - - 1. - - - - - - - - - - - - 1. - - - - - - - - - - - - 1. - - - - - - - - - - - - 1. - - - - - - - - - - - - 1. - - - - - - - - - - - - 1. - - - - - - - - - - - - 1. - - - - - - - - - - - - 1. - - - -\n",
      "BrB02DstD0Kp shape - - 1. - - - - - - - - - - - - 1. - - - - - - - - - - - - 1. - - - - - - - - - - - - 1. - - - - - - - - - - - - 1. - - - - - - - - - - - - 1. - - - - - - - - - - - - 1. - - - - - - - - - - - - 1. - - - - - - - - - - - - 1. - - - - - - - - - - - - 1. - - - - - - - - - -\n",
      "BrB02DstD0Kstp shape - - 1. - - - - - - - - - - - - 1. - - - - - - - - - - - - 1. - - - - - - - - - - - - 1. - - - - - - - - - - - - 1. - - - - - - - - - - - - 1. - - - - - - - - - - - - 1. - - - - - - - - - - - - 1. - - - - - - - - - - - - 1. - - - - - - - - - - - - 1. - - - - - - - - - -\n",
      "BrB02DstDst0Kp shape - - 1. - - - - - - - - - - - - 1. - - - - - - - - - - - - 1. - - - - - - - - - - - - 1. - - - - - - - - - - - - 1. - - - - - - - - - - - - 1. - - - - - - - - - - - - 1. - - - - - - - - - - - - 1. - - - - - - - - - - - - 1. - - - - - - - - - - - - 1. - - - - - - - - - -\n",
      "BrB02DstDst0Kstp shape - - 1. - - - - - - - - - - - - 1. - - - - - - - - - - - - 1. - - - - - - - - - - - - 1. - - - - - - - - - - - - 1. - - - - - - - - - - - - 1. - - - - - - - - - - - - 1. - - - - - - - - - - - - 1. - - - - - - - - - - - - 1. - - - - - - - - - - - - 1. - - - - - - - - - -\n",
      "BrB02DstDpK0 shape - - - 1. - - - - - - - - - - - - 1. - - - - - - - - - - - - 1. - - - - - - - - - - - - 1. - - - - - - - - - - - - 1. - - - - - - - - - - - - 1. - - - - - - - - - - - - 1. - - - - - - - - - - - - 1. - - - - - - - - - - - - 1. - - - - - - - - - - - - 1. - - - - - - - - -\n",
      "BrB02DstDpKst0 shape - - - 1. - - - - - - - - - - - - 1. - - - - - - - - - - - - 1. - - - - - - - - - - - - 1. - - - - - - - - - - - - 1. - - - - - - - - - - - - 1. - - - - - - - - - - - - 1. - - - - - - - - - - - - 1. - - - - - - - - - - - - 1. - - - - - - - - - - - - 1. - - - - - - - - -\n",
      "BrB02DstDstpK0 shape - - 1. 1. - - - - - - - - - - - 1. 1. - - - - - - - - - - - 1. 1. - - - - - - - - - - - 1. 1. - - - - - - - - - - - 1. 1. - - - - - - - - - - - 1. 1. - - - - - - - - - - - 1. 1. - - - - - - - - - - - 1. 1. - - - - - - - - - - - 1. 1. - - - - - - - - - - - 1. 1. - - - - - - - - -\n",
      "BrB02DstDstpKst0 shape - - 1. 1. - - - - - - - - - - - 1. 1. - - - - - - - - - - - 1. 1. - - - - - - - - - - - 1. 1. - - - - - - - - - - - 1. 1. - - - - - - - - - - - 1. 1. - - - - - - - - - - - 1. 1. - - - - - - - - - - - 1. 1. - - - - - - - - - - - 1. 1. - - - - - - - - - - - 1. 1. - - - - - - - - -\n",
      "BrB02DstDs shape - - - - 1. - - - - - - - - - - - - 1. - - - - - - - - - - - - 1. - - - - - - - - - - - - 1. - - - - - - - - - - - - 1. - - - - - - - - - - - - 1. - - - - - - - - - - - - 1. - - - - - - - - - - - - 1. - - - - - - - - - - - - 1. - - - - - - - - - - - - 1. - - - - - - - -\n",
      "BrB02DstDsst shape - - - - 1. - - - - - - - - - - - - 1. - - - - - - - - - - - - 1. - - - - - - - - - - - - 1. - - - - - - - - - - - - 1. - - - - - - - - - - - - 1. - - - - - - - - - - - - 1. - - - - - - - - - - - - 1. - - - - - - - - - - - - 1. - - - - - - - - - - - - 1. - - - - - - - -\n",
      "BrB02DstDs0st shape - - - - 1. - - - - - - - - - - - - 1. - - - - - - - - - - - - 1. - - - - - - - - - - - - 1. - - - - - - - - - - - - 1. - - - - - - - - - - - - 1. - - - - - - - - - - - - 1. - - - - - - - - - - - - 1. - - - - - - - - - - - - 1. - - - - - - - - - - - - 1. - - - - - - - -\n",
      "* autoMCStats 10 1 1\n",
      "--------------------------------------------------------------\n",
      "B2DstFF group = B2DstCLNR0 B2DstCLNR1 B2DstCLNR2 B2DstCLNRhoSq\n",
      "allShape group = trgSF muonIdSF B0pT B2DstCLNR0 B2DstCLNR1 B2DstCLNR2 B2DstCLNRhoSq\n",
      "\n"
     ]
    }
   ],
   "source": [
    "print card"
   ]
  },
  {
   "cell_type": "code",
   "execution_count": 51,
   "metadata": {
    "ExecuteTime": {
     "end_time": "2020-06-02T01:59:05.166175Z",
     "start_time": "2020-06-02T01:59:05.080751Z"
    },
    "hidden": true
   },
   "outputs": [],
   "source": [
    "card_location = 'cards/{}.txt'.format(card_name)\n",
    "fc = open(card_location, 'w')\n",
    "fc.write(card)\n",
    "fc.close()"
   ]
  },
  {
   "cell_type": "code",
   "execution_count": 52,
   "metadata": {
    "ExecuteTime": {
     "end_time": "2020-06-02T01:59:05.414040Z",
     "start_time": "2020-06-02T01:59:05.169610Z"
    },
    "hidden": true
   },
   "outputs": [],
   "source": [
    "outdir = 'results/' + card_name\n",
    "if os.path.isdir(outdir):\n",
    "    os.system('rm -rf ' + outdir)\n",
    "os.system('mkdir -p ' + outdir + '/fig');"
   ]
  },
  {
   "cell_type": "markdown",
   "metadata": {},
   "source": [
    "# Run Combine"
   ]
  },
  {
   "cell_type": "markdown",
   "metadata": {
    "heading_collapsed": true
   },
   "source": [
    "## Create the workspace"
   ]
  },
  {
   "cell_type": "code",
   "execution_count": 53,
   "metadata": {
    "ExecuteTime": {
     "end_time": "2020-06-02T01:59:17.709204Z",
     "start_time": "2020-06-02T01:59:05.421480Z"
    },
    "hidden": true,
    "scrolled": false
   },
   "outputs": [
    {
     "name": "stdout",
     "output_type": "stream",
     "text": [
      "Channel AddTk_m_mHad will use autoMCStats with settings: event-threshold=10, include-signal=1, hist-mode=1\n",
      "============================================================\n",
      "Analysing bin errors for: prop_binAddTk_m_mHad\n",
      "Poisson cut-off: 10\n",
      "============================================================\n",
      "Bin        Contents        Error           Notes                         \n",
      "0          25.595095       3.076796        total sum                     \n",
      "0          69.000000       8.306624        Unweighted events, alpha=0.370943\n",
      "  => Total parameter prop_binAddTk_m_mHad_bin0[0.00,-7.00,7.00] to be gaussian constrained\n",
      "------------------------------------------------------------\n",
      "1          811.669011      18.320256       total sum                     \n",
      "1          1963.000000     44.305756       Unweighted events, alpha=0.413484\n",
      "  => Total parameter prop_binAddTk_m_mHad_bin1[0.00,-7.00,7.00] to be gaussian constrained\n",
      "------------------------------------------------------------\n",
      "2          1258.272338     22.983837       total sum                     \n",
      "2          2997.000000     54.744863       Unweighted events, alpha=0.419844\n",
      "  => Total parameter prop_binAddTk_m_mHad_bin2[0.00,-7.00,7.00] to be gaussian constrained\n",
      "------------------------------------------------------------\n",
      "3          1092.274200     22.106631       total sum                     \n",
      "3          2441.000000     49.406477       Unweighted events, alpha=0.447470\n",
      "  => Total parameter prop_binAddTk_m_mHad_bin3[0.00,-7.00,7.00] to be gaussian constrained\n",
      "------------------------------------------------------------\n",
      "4          858.334620      19.405506       total sum                     \n",
      "4          1956.000000     44.226689       Unweighted events, alpha=0.438821\n",
      "  => Total parameter prop_binAddTk_m_mHad_bin4[0.00,-7.00,7.00] to be gaussian constrained\n",
      "------------------------------------------------------------\n",
      "5          719.396088      18.499354       total sum                     \n",
      "5          1512.000000     38.884444       Unweighted events, alpha=0.475791\n",
      "  => Total parameter prop_binAddTk_m_mHad_bin5[0.00,-7.00,7.00] to be gaussian constrained\n",
      "------------------------------------------------------------\n",
      "6          552.744556      15.548914       total sum                     \n",
      "6          1264.000000     35.552778       Unweighted events, alpha=0.437298\n",
      "  => Total parameter prop_binAddTk_m_mHad_bin6[0.00,-7.00,7.00] to be gaussian constrained\n",
      "------------------------------------------------------------\n",
      "7          455.813745      15.301406       total sum                     \n",
      "7          887.000000      29.782545       Unweighted events, alpha=0.513882\n",
      "  => Total parameter prop_binAddTk_m_mHad_bin7[0.00,-7.00,7.00] to be gaussian constrained\n",
      "------------------------------------------------------------\n",
      "8          361.808993      13.372429       total sum                     \n",
      "8          732.000000      27.055499       Unweighted events, alpha=0.494275\n",
      "  => Total parameter prop_binAddTk_m_mHad_bin8[0.00,-7.00,7.00] to be gaussian constrained\n",
      "------------------------------------------------------------\n",
      "9          285.296198      11.687873       total sum                     \n",
      "9          596.000000      24.413111       Unweighted events, alpha=0.478685\n",
      "  => Total parameter prop_binAddTk_m_mHad_bin9[0.00,-7.00,7.00] to be gaussian constrained\n",
      "------------------------------------------------------------\n",
      "10         211.251808      10.155229       total sum                     \n",
      "10         433.000000      20.808652       Unweighted events, alpha=0.487879\n",
      "  => Total parameter prop_binAddTk_m_mHad_bin10[0.00,-7.00,7.00] to be gaussian constrained\n",
      "------------------------------------------------------------\n",
      "11         178.283453      9.967297        total sum                     \n",
      "11         320.000000      17.888544       Unweighted events, alpha=0.557136\n",
      "  => Total parameter prop_binAddTk_m_mHad_bin11[0.00,-7.00,7.00] to be gaussian constrained\n",
      "------------------------------------------------------------\n",
      "12         145.067404      8.396058        total sum                     \n",
      "12         299.000000      17.291616       Unweighted events, alpha=0.485175\n",
      "  => Total parameter prop_binAddTk_m_mHad_bin12[0.00,-7.00,7.00] to be gaussian constrained\n",
      "------------------------------------------------------------\n",
      "13         128.652080      8.306294        total sum                     \n",
      "13         240.000000      15.491933       Unweighted events, alpha=0.536050\n",
      "  => Total parameter prop_binAddTk_m_mHad_bin13[0.00,-7.00,7.00] to be gaussian constrained\n",
      "------------------------------------------------------------\n",
      "14         110.280032      7.313199        total sum                     \n",
      "14         227.000000      15.066519       Unweighted events, alpha=0.485815\n",
      "  => Total parameter prop_binAddTk_m_mHad_bin14[0.00,-7.00,7.00] to be gaussian constrained\n",
      "------------------------------------------------------------\n",
      "15         86.591650       6.596702        total sum                     \n",
      "15         172.000000      13.114877       Unweighted events, alpha=0.503440\n",
      "  => Total parameter prop_binAddTk_m_mHad_bin15[0.00,-7.00,7.00] to be gaussian constrained\n",
      "------------------------------------------------------------\n",
      "16         76.888315       5.883796        total sum                     \n",
      "16         171.000000      13.076697       Unweighted events, alpha=0.449639\n",
      "  => Total parameter prop_binAddTk_m_mHad_bin16[0.00,-7.00,7.00] to be gaussian constrained\n",
      "------------------------------------------------------------\n",
      "17         61.563648       4.750228        total sum                     \n",
      "17         168.000000      12.961481       Unweighted events, alpha=0.366450\n",
      "  => Total parameter prop_binAddTk_m_mHad_bin17[0.00,-7.00,7.00] to be gaussian constrained\n",
      "------------------------------------------------------------\n",
      "18         54.374151       5.236603        total sum                     \n",
      "18         108.000000      10.392305       Unweighted events, alpha=0.503464\n",
      "  => Total parameter prop_binAddTk_m_mHad_bin18[0.00,-7.00,7.00] to be gaussian constrained\n",
      "------------------------------------------------------------\n",
      "19         38.700527       3.751095        total sum                     \n",
      "19         106.000000      10.295630       Unweighted events, alpha=0.365099\n",
      "  => Total parameter prop_binAddTk_m_mHad_bin19[0.00,-7.00,7.00] to be gaussian constrained\n",
      "------------------------------------------------------------\n",
      "20         35.030671       3.562471        total sum                     \n",
      "20         97.000000       9.848858        Unweighted events, alpha=0.361141\n",
      "  => Total parameter prop_binAddTk_m_mHad_bin20[0.00,-7.00,7.00] to be gaussian constrained\n",
      "------------------------------------------------------------\n",
      "21         32.628447       4.141742        total sum                     \n",
      "21         62.000000       7.874008        Unweighted events, alpha=0.526265\n",
      "  => Total parameter prop_binAddTk_m_mHad_bin21[0.00,-7.00,7.00] to be gaussian constrained\n",
      "------------------------------------------------------------\n",
      "22         28.544274       3.589364        total sum                     \n",
      "22         63.000000       7.937254        Unweighted events, alpha=0.453084\n",
      "  => Total parameter prop_binAddTk_m_mHad_bin22[0.00,-7.00,7.00] to be gaussian constrained\n",
      "------------------------------------------------------------\n",
      "23         22.555702       2.562293        total sum                     \n",
      "23         77.000000       8.774964        Unweighted events, alpha=0.292931\n",
      "  => Total parameter prop_binAddTk_m_mHad_bin23[0.00,-7.00,7.00] to be gaussian constrained\n",
      "------------------------------------------------------------\n",
      "24         20.452400       2.636712        total sum                     \n",
      "24         60.000000       7.745967        Unweighted events, alpha=0.340873\n",
      "  => Total parameter prop_binAddTk_m_mHad_bin24[0.00,-7.00,7.00] to be gaussian constrained\n",
      "------------------------------------------------------------\n",
      "25         16.650997       2.439704        total sum                     \n",
      "25         47.000000       6.855655        Unweighted events, alpha=0.354277\n",
      "  => Total parameter prop_binAddTk_m_mHad_bin25[0.00,-7.00,7.00] to be gaussian constrained\n",
      "------------------------------------------------------------\n",
      "26         14.181311       2.066057        total sum                     \n",
      "26         47.000000       6.855655        Unweighted events, alpha=0.301730\n",
      "  => Total parameter prop_binAddTk_m_mHad_bin26[0.00,-7.00,7.00] to be gaussian constrained\n",
      "------------------------------------------------------------\n",
      "27         12.986061       2.516823        total sum                     \n",
      "27         27.000000       5.196152        Unweighted events, alpha=0.480965\n",
      "  => Total parameter prop_binAddTk_m_mHad_bin27[0.00,-7.00,7.00] to be gaussian constrained\n",
      "------------------------------------------------------------\n",
      "28         12.670694       2.067282        total sum                     \n",
      "28         38.000000       6.164414        Unweighted events, alpha=0.333439\n",
      "  => Total parameter prop_binAddTk_m_mHad_bin28[0.00,-7.00,7.00] to be gaussian constrained\n",
      "------------------------------------------------------------\n",
      "29         4.579273        0.898079        total sum                     \n",
      "29         26.000000       5.099020        Unweighted events, alpha=0.176126\n",
      "  => Total parameter prop_binAddTk_m_mHad_bin29[0.00,-7.00,7.00] to be gaussian constrained\n",
      "------------------------------------------------------------\n",
      "Channel AddTk_mm_mHad will use autoMCStats with settings: event-threshold=10, include-signal=1, hist-mode=1\n",
      "============================================================\n",
      "Analysing bin errors for: prop_binAddTk_mm_mHad\n",
      "Poisson cut-off: 10\n",
      "============================================================\n",
      "Bin        Contents        Error           Notes                         \n",
      "0          3.802064        1.055028        total sum                     \n",
      "0          13.000000       3.605551        Unweighted events, alpha=0.292466\n",
      "  => Total parameter prop_binAddTk_mm_mHad_bin0[0.00,-7.00,7.00] to be gaussian constrained\n",
      "------------------------------------------------------------\n",
      "1          41.610458       7.536873        total sum                     \n",
      "1          30.000000       5.477226        Unweighted events, alpha=1.387015\n",
      "  => Total parameter prop_binAddTk_mm_mHad_bin1[0.00,-7.00,7.00] to be gaussian constrained\n",
      "------------------------------------------------------------\n",
      "2          55.500278       6.994651        total sum                     \n",
      "2          63.000000       7.937254        Unweighted events, alpha=0.880957\n",
      "  => Total parameter prop_binAddTk_mm_mHad_bin2[0.00,-7.00,7.00] to be gaussian constrained\n",
      "------------------------------------------------------------\n",
      "3          42.594284       4.702391        total sum                     \n",
      "3          82.000000       9.055385        Unweighted events, alpha=0.519442\n",
      "  => Total parameter prop_binAddTk_mm_mHad_bin3[0.00,-7.00,7.00] to be gaussian constrained\n",
      "------------------------------------------------------------\n",
      "4          47.039829       9.154105        total sum                     \n",
      "4          26.000000       5.099020        Unweighted events, alpha=1.809224\n",
      "  => Total parameter prop_binAddTk_mm_mHad_bin4[0.00,-7.00,7.00] to be gaussian constrained\n",
      "------------------------------------------------------------\n",
      "5          39.997630       7.187249        total sum                     \n",
      "5          31.000000       5.567764        Unweighted events, alpha=1.290246\n",
      "  => Total parameter prop_binAddTk_mm_mHad_bin5[0.00,-7.00,7.00] to be gaussian constrained\n",
      "------------------------------------------------------------\n",
      "6          25.430788       4.318415        total sum                     \n",
      "6          35.000000       5.916080        Unweighted events, alpha=0.726594\n",
      "  => Total parameter prop_binAddTk_mm_mHad_bin6[0.00,-7.00,7.00] to be gaussian constrained\n",
      "------------------------------------------------------------\n",
      "7          15.898615       5.115242        total sum                     \n",
      "7          10.000000       3.162278        Unweighted events, alpha=1.589862\n",
      "  => Number of weighted events is below poisson threshold\n",
      "    tau                  0.460057        0.460057                                      \n",
      "                         1.000000        1.000000        Unweighted events, alpha=0.460057\n",
      "      => Product of prop_binAddTk_mm_mHad_bin7_tau[1.00,0.00,30.85] and const [1.0000] to be poisson constrained\n",
      "  ----------------------------------------------------------\n",
      "    DstmDp               0.071473        0.052869                                      \n",
      "                         2.000000        1.414214        Unweighted events, alpha=0.035736\n",
      "      => Product of prop_binAddTk_mm_mHad_bin7_DstmDp[2.00,0.00,33.79] and const [0.5000] to be poisson constrained\n",
      "  ----------------------------------------------------------\n",
      "    BmDstmHc             0.109090        0.108402                                      \n",
      "                         1.000000        1.000000        Unweighted events, alpha=0.109090\n",
      "      => Product of prop_binAddTk_mm_mHad_bin7_BmDstmHc[1.00,0.00,30.85] and const [1.0000] to be poisson constrained\n",
      "  ----------------------------------------------------------\n",
      "    DstPipPi0            0.136264        0.116018                                      \n",
      "                         1.000000        1.000000        Unweighted events, alpha=0.136264\n",
      "      => Product of prop_binAddTk_mm_mHad_bin7_DstPipPi0[1.00,0.00,30.85] and const [1.0000] to be poisson constrained\n",
      "  ----------------------------------------------------------\n",
      "    DstPip               2.142380        1.209871                                      \n",
      "                         3.000000        1.732051        Unweighted events, alpha=0.714127\n",
      "      => Product of prop_binAddTk_mm_mHad_bin7_DstPip[3.00,0.00,36.46] and const [0.3333] to be poisson constrained\n",
      "  ----------------------------------------------------------\n",
      "    antiB0DstmHc         0.000000        0.000000                                      \n",
      "      => Error is zero, ignore      \n",
      "  ----------------------------------------------------------\n",
      "    mu                   11.714242       4.920579                                      \n",
      "                         6.000000        2.449490        Unweighted events, alpha=1.952374\n",
      "      => Product of prop_binAddTk_mm_mHad_bin7_mu[6.00,0.03,43.60] and const [0.1667] to be poisson constrained\n",
      "  ----------------------------------------------------------\n",
      "    DstmDsp              0.262877        0.108683                                      \n",
      "                         6.000000        2.449490        Unweighted events, alpha=0.043813\n",
      "      => Product of prop_binAddTk_mm_mHad_bin7_DstmDsp[6.00,0.03,43.60] and const [0.1667] to be poisson constrained\n",
      "  ----------------------------------------------------------\n",
      "    DstPi0               0.260574        0.166962                                      \n",
      "                         2.000000        1.414214        Unweighted events, alpha=0.130287\n",
      "      => Product of prop_binAddTk_mm_mHad_bin7_DstPi0[2.00,0.00,33.79] and const [0.5000] to be poisson constrained\n",
      "  ----------------------------------------------------------\n",
      "    DstPipPim            0.684769        0.456283                                      \n",
      "                         2.000000        1.414214        Unweighted events, alpha=0.342384\n",
      "      => Product of prop_binAddTk_mm_mHad_bin7_DstPipPim[2.00,0.00,33.79] and const [0.5000] to be poisson constrained\n",
      "  ----------------------------------------------------------\n",
      "    DstmD0               0.002028        0.002028                                      \n",
      "                         1.000000        1.000000        Unweighted events, alpha=0.002028\n",
      "      => Product of prop_binAddTk_mm_mHad_bin7_DstmD0[1.00,0.00,30.85] and const [1.0000] to be poisson constrained\n",
      "  ----------------------------------------------------------\n",
      "    BpDstmHc             0.000000        0.000000                                      \n",
      "      => Error is zero, ignore      \n",
      "  ----------------------------------------------------------\n",
      "    DstPi0Pi0            0.054863        0.047701                                      \n",
      "                         1.000000        1.000000        Unweighted events, alpha=0.054863\n",
      "      => Product of prop_binAddTk_mm_mHad_bin7_DstPi0Pi0[1.00,0.00,30.85] and const [1.0000] to be poisson constrained\n",
      "  ----------------------------------------------------------\n",
      "------------------------------------------------------------\n",
      "8          13.464288       2.914046        total sum                     \n",
      "8          21.000000       4.582576        Unweighted events, alpha=0.641157\n",
      "  => Total parameter prop_binAddTk_mm_mHad_bin8[0.00,-7.00,7.00] to be gaussian constrained\n",
      "------------------------------------------------------------\n",
      "9          9.938657        2.509523        total sum                     \n",
      "9          16.000000       4.000000        Unweighted events, alpha=0.621166\n",
      "  => Total parameter prop_binAddTk_mm_mHad_bin9[0.00,-7.00,7.00] to be gaussian constrained\n",
      "------------------------------------------------------------\n",
      "10         4.661153        1.631161        total sum                     \n",
      "10         8.000000        2.828427        Unweighted events, alpha=0.582644\n",
      "  => Number of weighted events is below poisson threshold\n",
      "    tau                  0.215248        0.152505                                      \n",
      "                         2.000000        1.414214        Unweighted events, alpha=0.107624\n",
      "      => Product of prop_binAddTk_mm_mHad_bin10_tau[2.00,0.00,33.79] and const [0.5000] to be poisson constrained\n",
      "  ----------------------------------------------------------\n",
      "    DstmDp               0.033872        0.033872                                      \n",
      "                         1.000000        1.000000        Unweighted events, alpha=0.033872\n",
      "      => Product of prop_binAddTk_mm_mHad_bin10_DstmDp[1.00,0.00,30.85] and const [1.0000] to be poisson constrained\n",
      "  ----------------------------------------------------------\n",
      "    BmDstmHc             0.676179        0.547875                                      \n",
      "                         2.000000        1.414214        Unweighted events, alpha=0.338089\n",
      "      => Product of prop_binAddTk_mm_mHad_bin10_BmDstmHc[2.00,0.00,33.79] and const [0.5000] to be poisson constrained\n",
      "  ----------------------------------------------------------\n",
      "    DstPipPi0            0.000000        0.000000                                      \n",
      "      => Error is zero, ignore      \n",
      "  ----------------------------------------------------------\n",
      "    DstPip               0.042723        0.042723                                      \n",
      "                         1.000000        1.000000        Unweighted events, alpha=0.042723\n",
      "      => Product of prop_binAddTk_mm_mHad_bin10_DstPip[1.00,0.00,30.85] and const [1.0000] to be poisson constrained\n",
      "  ----------------------------------------------------------\n",
      "    antiB0DstmHc         0.000000        0.000000                                      \n",
      "      => Error is zero, ignore      \n",
      "  ----------------------------------------------------------\n",
      "    mu                   3.274250        1.516762                                      \n",
      "                         5.000000        2.236068        Unweighted events, alpha=0.654850\n",
      "      => Product of prop_binAddTk_mm_mHad_bin10_mu[5.00,0.01,41.33] and const [0.2000] to be poisson constrained\n",
      "  ----------------------------------------------------------\n",
      "    DstmDsp              0.191085        0.146149                                      \n",
      "                         2.000000        1.414214        Unweighted events, alpha=0.095542\n",
      "      => Product of prop_binAddTk_mm_mHad_bin10_DstmDsp[2.00,0.00,33.79] and const [0.5000] to be poisson constrained\n",
      "  ----------------------------------------------------------\n",
      "    DstPi0               0.046544        0.046544                                      \n",
      "                         1.000000        1.000000        Unweighted events, alpha=0.046544\n",
      "      => Product of prop_binAddTk_mm_mHad_bin10_DstPi0[1.00,0.00,30.85] and const [1.0000] to be poisson constrained\n",
      "  ----------------------------------------------------------\n",
      "    DstPipPim            0.000000        0.000000                                      \n",
      "      => Error is zero, ignore      \n",
      "  ----------------------------------------------------------\n",
      "    DstmD0               0.152351        0.097103                                      \n",
      "                         2.000000        1.414214        Unweighted events, alpha=0.076176\n",
      "      => Product of prop_binAddTk_mm_mHad_bin10_DstmD0[2.00,0.00,33.79] and const [0.5000] to be poisson constrained\n",
      "  ----------------------------------------------------------\n",
      "    BpDstmHc             0.001233        0.001130                                      \n",
      "                         1.000000        1.000000        Unweighted events, alpha=0.001233\n",
      "      => Product of prop_binAddTk_mm_mHad_bin10_BpDstmHc[1.00,0.00,30.85] and const [1.0000] to be poisson constrained\n",
      "  ----------------------------------------------------------\n",
      "    DstPi0Pi0            0.027669        0.027669                                      \n",
      "                         1.000000        1.000000        Unweighted events, alpha=0.027669\n",
      "      => Product of prop_binAddTk_mm_mHad_bin10_DstPi0Pi0[1.00,0.00,30.85] and const [1.0000] to be poisson constrained\n",
      "  ----------------------------------------------------------\n",
      "------------------------------------------------------------\n",
      "11         2.315344        0.688145        total sum                     \n",
      "11         11.000000       3.316625        Unweighted events, alpha=0.210486\n",
      "  => Total parameter prop_binAddTk_mm_mHad_bin11[0.00,-7.00,7.00] to be gaussian constrained\n",
      "------------------------------------------------------------\n",
      "12         4.216070        1.243438        total sum                     \n",
      "12         11.000000       3.316625        Unweighted events, alpha=0.383279\n",
      "  => Total parameter prop_binAddTk_mm_mHad_bin12[0.00,-7.00,7.00] to be gaussian constrained\n",
      "------------------------------------------------------------\n",
      "13         2.028044        0.730692        total sum                     \n",
      "13         8.000000        2.828427        Unweighted events, alpha=0.253506\n",
      "  => Number of weighted events is below poisson threshold\n",
      "    tau                  0.000000        0.000000                                      \n",
      "      => Error is zero, ignore      \n",
      "  ----------------------------------------------------------\n",
      "    DstmDp               0.037510        0.037510                                      \n",
      "                         1.000000        1.000000        Unweighted events, alpha=0.037510\n",
      "      => Product of prop_binAddTk_mm_mHad_bin13_DstmDp[1.00,0.00,30.85] and const [1.0000] to be poisson constrained\n",
      "  ----------------------------------------------------------\n",
      "    BmDstmHc             0.384518        0.214018                                      \n",
      "                         3.000000        1.732051        Unweighted events, alpha=0.128173\n",
      "      => Product of prop_binAddTk_mm_mHad_bin13_BmDstmHc[3.00,0.00,36.46] and const [0.3333] to be poisson constrained\n",
      "  ----------------------------------------------------------\n",
      "    DstPipPi0            0.000000        0.000000                                      \n",
      "      => Error is zero, ignore      \n",
      "  ----------------------------------------------------------\n",
      "    DstPip               0.000000        0.000000                                      \n",
      "      => Error is zero, ignore      \n",
      "  ----------------------------------------------------------\n",
      "    antiB0DstmHc         0.000000        0.000000                                      \n",
      "      => Error is zero, ignore      \n",
      "  ----------------------------------------------------------\n",
      "    mu                   1.401486        0.666984                                      \n",
      "                         4.000000        2.000000        Unweighted events, alpha=0.350372\n",
      "      => Product of prop_binAddTk_mm_mHad_bin13_mu[4.00,0.00,38.96] and const [0.2500] to be poisson constrained\n",
      "  ----------------------------------------------------------\n",
      "    DstmDsp              0.000000        0.000000                                      \n",
      "      => Error is zero, ignore      \n",
      "  ----------------------------------------------------------\n",
      "    DstPi0               0.000000        0.000000                                      \n",
      "      => Error is zero, ignore      \n",
      "  ----------------------------------------------------------\n",
      "    DstPipPim            0.204530        0.204530                                      \n",
      "                         1.000000        1.000000        Unweighted events, alpha=0.204530\n",
      "      => Product of prop_binAddTk_mm_mHad_bin13_DstPipPim[1.00,0.00,30.85] and const [1.0000] to be poisson constrained\n",
      "  ----------------------------------------------------------\n",
      "    DstmD0               0.000000        0.000000                                      \n",
      "      => Error is zero, ignore      \n",
      "  ----------------------------------------------------------\n",
      "    BpDstmHc             0.000000        0.000000                                      \n",
      "      => Error is zero, ignore      \n",
      "  ----------------------------------------------------------\n",
      "    DstPi0Pi0            0.000000        0.000000                                      \n",
      "      => Error is zero, ignore      \n",
      "  ----------------------------------------------------------\n",
      "------------------------------------------------------------\n",
      "14         1.211563        0.477952        total sum                     \n",
      "14         6.000000        2.449490        Unweighted events, alpha=0.201927\n",
      "  => Number of weighted events is below poisson threshold\n",
      "    tau                  0.000000        0.000000                                      \n",
      "      => Error is zero, ignore      \n",
      "  ----------------------------------------------------------\n",
      "    DstmDp               0.000000        0.000000                                      \n",
      "      => Error is zero, ignore      \n",
      "  ----------------------------------------------------------\n",
      "    BmDstmHc             0.661518        0.283850                                      \n",
      "                         5.000000        2.236068        Unweighted events, alpha=0.132304\n",
      "      => Product of prop_binAddTk_mm_mHad_bin14_BmDstmHc[5.00,0.01,41.33] and const [0.2000] to be poisson constrained\n",
      "  ----------------------------------------------------------\n",
      "    DstPipPi0            0.000000        0.000000                                      \n",
      "      => Error is zero, ignore      \n",
      "  ----------------------------------------------------------\n",
      "    DstPip               0.000000        0.000000                                      \n",
      "      => Error is zero, ignore      \n",
      "  ----------------------------------------------------------\n",
      "    antiB0DstmHc         0.000000        0.000000                                      \n",
      "      => Error is zero, ignore      \n",
      "  ----------------------------------------------------------\n",
      "    mu                   0.089129        0.067730                                      \n",
      "                         2.000000        1.414214        Unweighted events, alpha=0.044564\n",
      "      => Product of prop_binAddTk_mm_mHad_bin14_mu[2.00,0.00,33.79] and const [0.5000] to be poisson constrained\n",
      "  ----------------------------------------------------------\n",
      "    DstmDsp              0.091970        0.084610                                      \n",
      "                         1.000000        1.000000        Unweighted events, alpha=0.091970\n",
      "      => Product of prop_binAddTk_mm_mHad_bin14_DstmDsp[1.00,0.00,30.85] and const [1.0000] to be poisson constrained\n",
      "  ----------------------------------------------------------\n",
      "    DstPi0               0.368947        0.368947                                      \n",
      "                         1.000000        1.000000        Unweighted events, alpha=0.368947\n",
      "      => Product of prop_binAddTk_mm_mHad_bin14_DstPi0[1.00,0.00,30.85] and const [1.0000] to be poisson constrained\n",
      "  ----------------------------------------------------------\n",
      "    DstPipPim            0.000000        0.000000                                      \n",
      "      => Error is zero, ignore      \n",
      "  ----------------------------------------------------------\n",
      "    DstmD0               0.000000        0.000000                                      \n",
      "      => Error is zero, ignore      \n",
      "  ----------------------------------------------------------\n",
      "    BpDstmHc             0.000000        0.000000                                      \n",
      "      => Error is zero, ignore      \n",
      "  ----------------------------------------------------------\n",
      "    DstPi0Pi0            0.000000        0.000000                                      \n",
      "      => Error is zero, ignore      \n",
      "  ----------------------------------------------------------\n",
      "------------------------------------------------------------\n",
      "Channel AddTk_p_mHad will use autoMCStats with settings: event-threshold=10, include-signal=1, hist-mode=1\n",
      "============================================================\n",
      "Analysing bin errors for: prop_binAddTk_p_mHad\n",
      "Poisson cut-off: 10\n",
      "============================================================\n",
      "Bin        Contents        Error           Notes                         \n",
      "0          103.968522      6.008631        total sum                     \n",
      "0          299.000000      17.291616       Unweighted events, alpha=0.347721\n",
      "  => Total parameter prop_binAddTk_p_mHad_bin0[0.00,-7.00,7.00] to be gaussian constrained\n",
      "------------------------------------------------------------\n",
      "1          452.440929      12.798874       total sum                     \n",
      "1          1250.000000     35.355339       Unweighted events, alpha=0.361953\n",
      "  => Total parameter prop_binAddTk_p_mHad_bin1[0.00,-7.00,7.00] to be gaussian constrained\n",
      "------------------------------------------------------------\n",
      "2          762.502889      17.543394       total sum                     \n",
      "2          1889.000000     43.462628       Unweighted events, alpha=0.403654\n",
      "  => Total parameter prop_binAddTk_p_mHad_bin2[0.00,-7.00,7.00] to be gaussian constrained\n",
      "------------------------------------------------------------\n",
      "3          768.064480      17.042401       total sum                     \n",
      "3          2031.000000     45.066617       Unweighted events, alpha=0.378171\n",
      "  => Total parameter prop_binAddTk_p_mHad_bin3[0.00,-7.00,7.00] to be gaussian constrained\n",
      "------------------------------------------------------------\n",
      "4          754.190348      17.567943       total sum                     \n",
      "4          1843.000000     42.930176       Unweighted events, alpha=0.409219\n",
      "  => Total parameter prop_binAddTk_p_mHad_bin4[0.00,-7.00,7.00] to be gaussian constrained\n",
      "------------------------------------------------------------\n",
      "5          731.095450      18.041817       total sum                     \n",
      "5          1642.000000     40.521599       Unweighted events, alpha=0.445247\n",
      "  => Total parameter prop_binAddTk_p_mHad_bin5[0.00,-7.00,7.00] to be gaussian constrained\n",
      "------------------------------------------------------------\n",
      "6          663.139478      16.941459       total sum                     \n",
      "6          1532.000000     39.140772       Unweighted events, alpha=0.432859\n",
      "  => Total parameter prop_binAddTk_p_mHad_bin6[0.00,-7.00,7.00] to be gaussian constrained\n",
      "------------------------------------------------------------\n",
      "7          600.218920      15.406350       total sum                     \n",
      "7          1518.000000     38.961519       Unweighted events, alpha=0.395401\n",
      "  => Total parameter prop_binAddTk_p_mHad_bin7[0.00,-7.00,7.00] to be gaussian constrained\n",
      "------------------------------------------------------------\n",
      "8          573.739316      15.340121       total sum                     \n",
      "8          1399.000000     37.403208       Unweighted events, alpha=0.410107\n",
      "  => Total parameter prop_binAddTk_p_mHad_bin8[0.00,-7.00,7.00] to be gaussian constrained\n",
      "------------------------------------------------------------\n",
      "9          578.740197      15.087517       total sum                     \n",
      "9          1471.000000     38.353618       Unweighted events, alpha=0.393433\n",
      "  => Total parameter prop_binAddTk_p_mHad_bin9[0.00,-7.00,7.00] to be gaussian constrained\n",
      "------------------------------------------------------------\n",
      "10         556.514076      14.781137       total sum                     \n",
      "10         1418.000000     37.656341       Unweighted events, alpha=0.392464\n",
      "  => Total parameter prop_binAddTk_p_mHad_bin10[0.00,-7.00,7.00] to be gaussian constrained\n",
      "------------------------------------------------------------\n",
      "11         591.189941      14.667330       total sum                     \n",
      "11         1625.000000     40.311289       Unweighted events, alpha=0.363809\n",
      "  => Total parameter prop_binAddTk_p_mHad_bin11[0.00,-7.00,7.00] to be gaussian constrained\n",
      "------------------------------------------------------------\n",
      "12         686.407842      14.542972       total sum                     \n",
      "12         2228.000000     47.201695       Unweighted events, alpha=0.308083\n",
      "  => Total parameter prop_binAddTk_p_mHad_bin12[0.00,-7.00,7.00] to be gaussian constrained\n",
      "------------------------------------------------------------\n",
      "13         1065.084136     16.884915       total sum                     \n",
      "13         3979.000000     63.079315       Unweighted events, alpha=0.267676\n",
      "  => Total parameter prop_binAddTk_p_mHad_bin13[0.00,-7.00,7.00] to be gaussian constrained\n",
      "------------------------------------------------------------\n",
      "14         1430.733052     17.625430       total sum                     \n",
      "14         6589.000000     81.172655       Unweighted events, alpha=0.217140\n",
      "  => Total parameter prop_binAddTk_p_mHad_bin14[0.00,-7.00,7.00] to be gaussian constrained\n",
      "------------------------------------------------------------\n",
      "15         1222.231446     16.187483       total sum                     \n",
      "15         5701.000000     75.504967       Unweighted events, alpha=0.214389\n",
      "  => Total parameter prop_binAddTk_p_mHad_bin15[0.00,-7.00,7.00] to be gaussian constrained\n",
      "------------------------------------------------------------\n",
      "16         879.679468      15.105413       total sum                     \n",
      "16         3391.000000     58.232293       Unweighted events, alpha=0.259416\n",
      "  => Total parameter prop_binAddTk_p_mHad_bin16[0.00,-7.00,7.00] to be gaussian constrained\n",
      "------------------------------------------------------------\n",
      "17         633.737336      12.620116       total sum                     \n",
      "17         2522.000000     50.219518       Unweighted events, alpha=0.251284\n",
      "  => Total parameter prop_binAddTk_p_mHad_bin17[0.00,-7.00,7.00] to be gaussian constrained\n",
      "------------------------------------------------------------\n",
      "18         461.048761      11.812403       total sum                     \n",
      "18         1523.000000     39.025633       Unweighted events, alpha=0.302724\n",
      "  => Total parameter prop_binAddTk_p_mHad_bin18[0.00,-7.00,7.00] to be gaussian constrained\n",
      "------------------------------------------------------------\n",
      "19         378.491251      11.016036       total sum                     \n",
      "19         1180.000000     34.351128       Unweighted events, alpha=0.320755\n",
      "  => Total parameter prop_binAddTk_p_mHad_bin19[0.00,-7.00,7.00] to be gaussian constrained\n",
      "------------------------------------------------------------\n",
      "20         298.111273      9.929047        total sum                     \n",
      "20         901.000000      30.016662       Unweighted events, alpha=0.330867\n",
      "  => Total parameter prop_binAddTk_p_mHad_bin20[0.00,-7.00,7.00] to be gaussian constrained\n",
      "------------------------------------------------------------\n",
      "21         241.552830      8.678215        total sum                     \n",
      "21         775.000000      27.838822       Unweighted events, alpha=0.311681\n",
      "  => Total parameter prop_binAddTk_p_mHad_bin21[0.00,-7.00,7.00] to be gaussian constrained\n",
      "------------------------------------------------------------\n",
      "22         220.485505      9.000491        total sum                     \n",
      "22         600.000000      24.494897       Unweighted events, alpha=0.367476\n",
      "  => Total parameter prop_binAddTk_p_mHad_bin22[0.00,-7.00,7.00] to be gaussian constrained\n",
      "------------------------------------------------------------\n",
      "23         193.479061      8.420645        total sum                     \n",
      "23         528.000000      22.978251       Unweighted events, alpha=0.366438\n",
      "  => Total parameter prop_binAddTk_p_mHad_bin23[0.00,-7.00,7.00] to be gaussian constrained\n",
      "------------------------------------------------------------\n",
      "24         171.473536      7.504935        total sum                     \n",
      "24         522.000000      22.847319       Unweighted events, alpha=0.328493\n",
      "  => Total parameter prop_binAddTk_p_mHad_bin24[0.00,-7.00,7.00] to be gaussian constrained\n",
      "------------------------------------------------------------\n",
      "25         142.894712      6.825605        total sum                     \n",
      "25         438.000000      20.928450       Unweighted events, alpha=0.326244\n",
      "  => Total parameter prop_binAddTk_p_mHad_bin25[0.00,-7.00,7.00] to be gaussian constrained\n",
      "------------------------------------------------------------\n",
      "26         139.909260      7.323572        total sum                     \n",
      "26         365.000000      19.104973       Unweighted events, alpha=0.383313\n",
      "  => Total parameter prop_binAddTk_p_mHad_bin26[0.00,-7.00,7.00] to be gaussian constrained\n",
      "------------------------------------------------------------\n",
      "27         124.667512      6.442745        total sum                     \n",
      "27         374.000000      19.339080       Unweighted events, alpha=0.333336\n",
      "  => Total parameter prop_binAddTk_p_mHad_bin27[0.00,-7.00,7.00] to be gaussian constrained\n",
      "------------------------------------------------------------\n",
      "28         109.470691      6.290032        total sum                     \n",
      "28         303.000000      17.406895       Unweighted events, alpha=0.361289\n",
      "  => Total parameter prop_binAddTk_p_mHad_bin28[0.00,-7.00,7.00] to be gaussian constrained\n",
      "------------------------------------------------------------\n",
      "29         108.119406      6.805915        total sum                     \n",
      "29         252.000000      15.874508       Unweighted events, alpha=0.429045\n",
      "  => Total parameter prop_binAddTk_p_mHad_bin29[0.00,-7.00,7.00] to be gaussian constrained\n",
      "------------------------------------------------------------\n",
      "30         91.334997       5.428007        total sum                     \n",
      "30         283.000000      16.822604       Unweighted events, alpha=0.322739\n",
      "  => Total parameter prop_binAddTk_p_mHad_bin30[0.00,-7.00,7.00] to be gaussian constrained\n",
      "------------------------------------------------------------\n",
      "31         88.123458       6.126376        total sum                     \n",
      "31         207.000000      14.387495       Unweighted events, alpha=0.425717\n",
      "  => Total parameter prop_binAddTk_p_mHad_bin31[0.00,-7.00,7.00] to be gaussian constrained\n",
      "------------------------------------------------------------\n",
      "32         78.636534       5.622270        total sum                     \n",
      "32         196.000000      14.000000       Unweighted events, alpha=0.401207\n",
      "  => Total parameter prop_binAddTk_p_mHad_bin32[0.00,-7.00,7.00] to be gaussian constrained\n",
      "------------------------------------------------------------\n",
      "33         67.140885       4.495723        total sum                     \n",
      "33         223.000000      14.933185       Unweighted events, alpha=0.301080\n",
      "  => Total parameter prop_binAddTk_p_mHad_bin33[0.00,-7.00,7.00] to be gaussian constrained\n",
      "------------------------------------------------------------\n",
      "34         69.689410       4.806164        total sum                     \n",
      "34         210.000000      14.491377       Unweighted events, alpha=0.331854\n",
      "  => Total parameter prop_binAddTk_p_mHad_bin34[0.00,-7.00,7.00] to be gaussian constrained\n",
      "------------------------------------------------------------\n",
      "Channel AddTk_pm_mHad will use autoMCStats with settings: event-threshold=10, include-signal=1, hist-mode=1\n",
      "============================================================\n",
      "Analysing bin errors for: prop_binAddTk_pm_mHad\n",
      "Poisson cut-off: 10\n",
      "============================================================\n",
      "Bin        Contents        Error           Notes                         \n",
      "0          28.367120       4.733667        total sum                     \n",
      "0          36.000000       6.000000        Unweighted events, alpha=0.787976\n",
      "  => Total parameter prop_binAddTk_pm_mHad_bin0[0.00,-7.00,7.00] to be gaussian constrained\n",
      "------------------------------------------------------------\n",
      "1          70.799919       8.629405        total sum                     \n",
      "1          67.000000       8.185353        Unweighted events, alpha=1.056715\n",
      "  => Total parameter prop_binAddTk_pm_mHad_bin1[0.00,-7.00,7.00] to be gaussian constrained\n",
      "------------------------------------------------------------\n",
      "2          106.310648      8.830858        total sum                     \n",
      "2          145.000000      12.041595       Unweighted events, alpha=0.733177\n",
      "  => Total parameter prop_binAddTk_pm_mHad_bin2[0.00,-7.00,7.00] to be gaussian constrained\n",
      "------------------------------------------------------------\n",
      "3          125.106762      11.860573       total sum                     \n",
      "3          111.000000      10.535654       Unweighted events, alpha=1.127088\n",
      "  => Total parameter prop_binAddTk_pm_mHad_bin3[0.00,-7.00,7.00] to be gaussian constrained\n",
      "------------------------------------------------------------\n",
      "4          141.515406      8.588116        total sum                     \n",
      "4          272.000000      16.492423       Unweighted events, alpha=0.520277\n",
      "  => Total parameter prop_binAddTk_pm_mHad_bin4[0.00,-7.00,7.00] to be gaussian constrained\n",
      "------------------------------------------------------------\n",
      "5          234.336176      13.518141       total sum                     \n",
      "5          301.000000      17.349352       Unweighted events, alpha=0.778526\n",
      "  => Total parameter prop_binAddTk_pm_mHad_bin5[0.00,-7.00,7.00] to be gaussian constrained\n",
      "------------------------------------------------------------\n",
      "6          387.761526      12.149564       total sum                     \n",
      "6          1019.000000     31.921779       Unweighted events, alpha=0.380531\n",
      "  => Total parameter prop_binAddTk_pm_mHad_bin6[0.00,-7.00,7.00] to be gaussian constrained\n",
      "------------------------------------------------------------\n",
      "7          400.705292      13.894177       total sum                     \n",
      "7          832.000000      28.844410       Unweighted events, alpha=0.481617\n",
      "  => Total parameter prop_binAddTk_pm_mHad_bin7[0.00,-7.00,7.00] to be gaussian constrained\n",
      "------------------------------------------------------------\n",
      "8          216.494915      9.992114        total sum                     \n",
      "8          469.000000      21.656408       Unweighted events, alpha=0.461610\n",
      "  => Total parameter prop_binAddTk_pm_mHad_bin8[0.00,-7.00,7.00] to be gaussian constrained\n",
      "------------------------------------------------------------\n",
      "9          142.364791      7.977897        total sum                     \n",
      "9          318.000000      17.832555       Unweighted events, alpha=0.447688\n",
      "  => Total parameter prop_binAddTk_pm_mHad_bin9[0.00,-7.00,7.00] to be gaussian constrained\n",
      "------------------------------------------------------------\n",
      "10         129.875211      11.226778       total sum                     \n",
      "10         134.000000      11.575837       Unweighted events, alpha=0.969218\n",
      "  => Total parameter prop_binAddTk_pm_mHad_bin10[0.00,-7.00,7.00] to be gaussian constrained\n",
      "------------------------------------------------------------\n",
      "11         97.547131       6.818267        total sum                     \n",
      "11         205.000000      14.317821       Unweighted events, alpha=0.475840\n",
      "  => Total parameter prop_binAddTk_pm_mHad_bin11[0.00,-7.00,7.00] to be gaussian constrained\n",
      "------------------------------------------------------------\n",
      "12         95.603579       7.884417        total sum                     \n",
      "12         147.000000      12.124356       Unweighted events, alpha=0.650364\n",
      "  => Total parameter prop_binAddTk_pm_mHad_bin12[0.00,-7.00,7.00] to be gaussian constrained\n",
      "------------------------------------------------------------\n",
      "13         76.292930       5.110758        total sum                     \n",
      "13         223.000000      14.933185       Unweighted events, alpha=0.342121\n",
      "  => Total parameter prop_binAddTk_pm_mHad_bin13[0.00,-7.00,7.00] to be gaussian constrained\n",
      "------------------------------------------------------------\n",
      "14         73.239350       8.975192        total sum                     \n",
      "14         67.000000       8.185353        Unweighted events, alpha=1.093125\n",
      "  => Total parameter prop_binAddTk_pm_mHad_bin14[0.00,-7.00,7.00] to be gaussian constrained\n",
      "------------------------------------------------------------\n",
      "15         68.559207       6.971149        total sum                     \n",
      "15         97.000000       9.848858        Unweighted events, alpha=0.706796\n",
      "  => Total parameter prop_binAddTk_pm_mHad_bin15[0.00,-7.00,7.00] to be gaussian constrained\n",
      "------------------------------------------------------------\n",
      "16         45.209749       3.460279        total sum                     \n",
      "16         171.000000      13.076697       Unweighted events, alpha=0.264384\n",
      "  => Total parameter prop_binAddTk_pm_mHad_bin16[0.00,-7.00,7.00] to be gaussian constrained\n",
      "------------------------------------------------------------\n",
      "17         44.576175       5.247759        total sum                     \n",
      "17         72.000000       8.485281        Unweighted events, alpha=0.619114\n",
      "  => Total parameter prop_binAddTk_pm_mHad_bin17[0.00,-7.00,7.00] to be gaussian constrained\n",
      "------------------------------------------------------------\n",
      "18         40.931614       4.753007        total sum                     \n",
      "18         74.000000       8.602325        Unweighted events, alpha=0.553130\n",
      "  => Total parameter prop_binAddTk_pm_mHad_bin18[0.00,-7.00,7.00] to be gaussian constrained\n",
      "------------------------------------------------------------\n",
      "19         29.620978       2.548119        total sum                     \n",
      "19         135.000000      11.618950       Unweighted events, alpha=0.219415\n",
      "  => Total parameter prop_binAddTk_pm_mHad_bin19[0.00,-7.00,7.00] to be gaussian constrained\n",
      "------------------------------------------------------------\n",
      "20         28.543696       2.501158        total sum                     \n",
      "20         130.000000      11.401754       Unweighted events, alpha=0.219567\n",
      "  => Total parameter prop_binAddTk_pm_mHad_bin20[0.00,-7.00,7.00] to be gaussian constrained\n",
      "------------------------------------------------------------\n",
      "21         27.020877       5.083029        total sum                     \n",
      "21         28.000000       5.291503        Unweighted events, alpha=0.965031\n",
      "  => Total parameter prop_binAddTk_pm_mHad_bin21[0.00,-7.00,7.00] to be gaussian constrained\n",
      "------------------------------------------------------------\n",
      "22         22.409952       2.254533        total sum                     \n",
      "22         99.000000       9.949874        Unweighted events, alpha=0.226363\n",
      "  => Total parameter prop_binAddTk_pm_mHad_bin22[0.00,-7.00,7.00] to be gaussian constrained\n",
      "------------------------------------------------------------\n",
      "23         23.838646       5.898620        total sum                     \n",
      "23         16.000000       4.000000        Unweighted events, alpha=1.489915\n",
      "  => Total parameter prop_binAddTk_pm_mHad_bin23[0.00,-7.00,7.00] to be gaussian constrained\n",
      "------------------------------------------------------------\n",
      "24         19.048063       3.089732        total sum                     \n",
      "24         38.000000       6.164414        Unweighted events, alpha=0.501265\n",
      "  => Total parameter prop_binAddTk_pm_mHad_bin24[0.00,-7.00,7.00] to be gaussian constrained\n",
      "------------------------------------------------------------\n",
      "25         20.220836       4.104882        total sum                     \n",
      "25         24.000000       4.898979        Unweighted events, alpha=0.842535\n",
      "  => Total parameter prop_binAddTk_pm_mHad_bin25[0.00,-7.00,7.00] to be gaussian constrained\n",
      "------------------------------------------------------------\n",
      "26         11.841501       1.249503        total sum                     \n",
      "26         90.000000       9.486833        Unweighted events, alpha=0.131572\n",
      "  => Total parameter prop_binAddTk_pm_mHad_bin26[0.00,-7.00,7.00] to be gaussian constrained\n",
      "------------------------------------------------------------\n",
      "27         9.323911        1.229551        total sum                     \n",
      "27         58.000000       7.615773        Unweighted events, alpha=0.160757\n",
      "  => Total parameter prop_binAddTk_pm_mHad_bin27[0.00,-7.00,7.00] to be gaussian constrained\n",
      "------------------------------------------------------------\n",
      "28         12.088740       1.670848        total sum                     \n",
      "28         52.000000       7.211103        Unweighted events, alpha=0.232476\n",
      "  => Total parameter prop_binAddTk_pm_mHad_bin28[0.00,-7.00,7.00] to be gaussian constrained\n",
      "------------------------------------------------------------\n",
      "29         8.162486        1.187792        total sum                     \n",
      "29         47.000000       6.855655        Unweighted events, alpha=0.173670\n",
      "  => Total parameter prop_binAddTk_pm_mHad_bin29[0.00,-7.00,7.00] to be gaussian constrained\n",
      "------------------------------------------------------------\n",
      "Channel AddTk_pm_mVis will use autoMCStats with settings: event-threshold=10, include-signal=1, hist-mode=1\n",
      "============================================================\n",
      "Analysing bin errors for: prop_binAddTk_pm_mVis\n",
      "Poisson cut-off: 10\n",
      "============================================================\n",
      "Bin        Contents        Error           Notes                         \n",
      "0          7.261712        1.332664        total sum                     \n",
      "0          30.000000       5.477226        Unweighted events, alpha=0.242057\n",
      "  => Total parameter prop_binAddTk_pm_mVis_bin0[0.00,-7.00,7.00] to be gaussian constrained\n",
      "------------------------------------------------------------\n",
      "1          6.637348        1.195875        total sum                     \n",
      "1          31.000000       5.567764        Unweighted events, alpha=0.214108\n",
      "  => Total parameter prop_binAddTk_pm_mVis_bin1[0.00,-7.00,7.00] to be gaussian constrained\n",
      "------------------------------------------------------------\n",
      "2          14.402511       1.442385        total sum                     \n",
      "2          100.000000      10.000000       Unweighted events, alpha=0.144025\n",
      "  => Total parameter prop_binAddTk_pm_mVis_bin2[0.00,-7.00,7.00] to be gaussian constrained\n",
      "------------------------------------------------------------\n",
      "3          25.229525       2.253146        total sum                     \n",
      "3          125.000000      11.180340       Unweighted events, alpha=0.201836\n",
      "  => Total parameter prop_binAddTk_pm_mVis_bin3[0.00,-7.00,7.00] to be gaussian constrained\n",
      "------------------------------------------------------------\n",
      "4          38.841397       3.289588        total sum                     \n",
      "4          139.000000      11.789826       Unweighted events, alpha=0.279435\n",
      "  => Total parameter prop_binAddTk_pm_mVis_bin4[0.00,-7.00,7.00] to be gaussian constrained\n",
      "------------------------------------------------------------\n",
      "5          63.356297       7.262287        total sum                     \n",
      "5          76.000000       8.717798        Unweighted events, alpha=0.833635\n",
      "  => Total parameter prop_binAddTk_pm_mVis_bin5[0.00,-7.00,7.00] to be gaussian constrained\n",
      "------------------------------------------------------------\n",
      "6          78.674476       5.249337        total sum                     \n",
      "6          225.000000      15.000000       Unweighted events, alpha=0.349664\n",
      "  => Total parameter prop_binAddTk_pm_mVis_bin6[0.00,-7.00,7.00] to be gaussian constrained\n",
      "------------------------------------------------------------\n",
      "7          90.460314       4.292697        total sum                     \n",
      "7          444.000000      21.071308       Unweighted events, alpha=0.203739\n",
      "  => Total parameter prop_binAddTk_pm_mVis_bin7[0.00,-7.00,7.00] to be gaussian constrained\n",
      "------------------------------------------------------------\n",
      "8          117.441527      7.208360        total sum                     \n",
      "8          265.000000      16.278821       Unweighted events, alpha=0.443176\n",
      "  => Total parameter prop_binAddTk_pm_mVis_bin8[0.00,-7.00,7.00] to be gaussian constrained\n",
      "------------------------------------------------------------\n",
      "9          140.424558      10.945188       total sum                     \n",
      "9          165.000000      12.845233       Unweighted events, alpha=0.851058\n",
      "  => Total parameter prop_binAddTk_pm_mVis_bin9[0.00,-7.00,7.00] to be gaussian constrained\n",
      "------------------------------------------------------------\n",
      "10         134.615591      5.984713        total sum                     \n",
      "10         506.000000      22.494444       Unweighted events, alpha=0.266039\n",
      "  => Total parameter prop_binAddTk_pm_mVis_bin10[0.00,-7.00,7.00] to be gaussian constrained\n",
      "------------------------------------------------------------\n",
      "11         147.648632      7.022580        total sum                     \n",
      "11         442.000000      21.023796       Unweighted events, alpha=0.334047\n",
      "  => Total parameter prop_binAddTk_pm_mVis_bin11[0.00,-7.00,7.00] to be gaussian constrained\n",
      "------------------------------------------------------------\n",
      "12         161.971162      7.051452        total sum                     \n",
      "12         528.000000      22.978251       Unweighted events, alpha=0.306764\n",
      "  => Total parameter prop_binAddTk_pm_mVis_bin12[0.00,-7.00,7.00] to be gaussian constrained\n",
      "------------------------------------------------------------\n",
      "13         182.692885      10.045893       total sum                     \n",
      "13         331.000000      18.193405       Unweighted events, alpha=0.551942\n",
      "  => Total parameter prop_binAddTk_pm_mVis_bin13[0.00,-7.00,7.00] to be gaussian constrained\n",
      "------------------------------------------------------------\n",
      "14         186.456231      9.702757        total sum                     \n",
      "14         369.000000      19.209373       Unweighted events, alpha=0.505301\n",
      "  => Total parameter prop_binAddTk_pm_mVis_bin14[0.00,-7.00,7.00] to be gaussian constrained\n",
      "------------------------------------------------------------\n",
      "15         194.675407      10.386496       total sum                     \n",
      "15         351.000000      18.734994       Unweighted events, alpha=0.554631\n",
      "  => Total parameter prop_binAddTk_pm_mVis_bin15[0.00,-7.00,7.00] to be gaussian constrained\n",
      "------------------------------------------------------------\n",
      "16         189.686331      9.904341        total sum                     \n",
      "16         367.000000      19.157244       Unweighted events, alpha=0.516856\n",
      "  => Total parameter prop_binAddTk_pm_mVis_bin16[0.00,-7.00,7.00] to be gaussian constrained\n",
      "------------------------------------------------------------\n",
      "17         187.789523      10.538588       total sum                     \n",
      "17         318.000000      17.832555       Unweighted events, alpha=0.590533\n",
      "  => Total parameter prop_binAddTk_pm_mVis_bin17[0.00,-7.00,7.00] to be gaussian constrained\n",
      "------------------------------------------------------------\n",
      "18         183.491168      10.637471       total sum                     \n",
      "18         298.000000      17.262677       Unweighted events, alpha=0.615742\n",
      "  => Total parameter prop_binAddTk_pm_mVis_bin18[0.00,-7.00,7.00] to be gaussian constrained\n",
      "------------------------------------------------------------\n",
      "19         168.708095      13.525165       total sum                     \n",
      "19         156.000000      12.489996       Unweighted events, alpha=1.081462\n",
      "  => Total parameter prop_binAddTk_pm_mVis_bin19[0.00,-7.00,7.00] to be gaussian constrained\n",
      "------------------------------------------------------------\n",
      "20         133.696594      9.588299        total sum                     \n",
      "20         194.000000      13.928388       Unweighted events, alpha=0.689158\n",
      "  => Total parameter prop_binAddTk_pm_mVis_bin20[0.00,-7.00,7.00] to be gaussian constrained\n",
      "------------------------------------------------------------\n",
      "21         130.946732      10.650250       total sum                     \n",
      "21         151.000000      12.288206       Unweighted events, alpha=0.867197\n",
      "  => Total parameter prop_binAddTk_pm_mVis_bin21[0.00,-7.00,7.00] to be gaussian constrained\n",
      "------------------------------------------------------------\n",
      "22         99.898214       9.188060        total sum                     \n",
      "22         118.000000      10.862780       Unweighted events, alpha=0.846595\n",
      "  => Total parameter prop_binAddTk_pm_mVis_bin22[0.00,-7.00,7.00] to be gaussian constrained\n",
      "------------------------------------------------------------\n",
      "23         85.033280       11.163511       total sum                     \n",
      "23         58.000000       7.615773        Unweighted events, alpha=1.466091\n",
      "  => Total parameter prop_binAddTk_pm_mVis_bin23[0.00,-7.00,7.00] to be gaussian constrained\n",
      "------------------------------------------------------------\n",
      "Channel AddTk_pp_mHad will use autoMCStats with settings: event-threshold=10, include-signal=1, hist-mode=1\n",
      "============================================================\n",
      "Analysing bin errors for: prop_binAddTk_pp_mHad\n",
      "Poisson cut-off: 10\n",
      "============================================================\n",
      "Bin        Contents        Error           Notes                         \n",
      "0          13.647549       4.226038        total sum                     \n",
      "0          10.000000       3.162278        Unweighted events, alpha=1.364755\n",
      "  => Number of weighted events is below poisson threshold\n",
      "    tau                  0.179932        0.139875                                      \n",
      "                         2.000000        1.414214        Unweighted events, alpha=0.089966\n",
      "      => Product of prop_binAddTk_pp_mHad_bin0_tau[2.00,0.00,33.79] and const [0.5000] to be poisson constrained\n",
      "  ----------------------------------------------------------\n",
      "    DstmDp               0.000000        0.000000                                      \n",
      "      => Error is zero, ignore      \n",
      "  ----------------------------------------------------------\n",
      "    DstPipPi0            0.000000        0.000000                                      \n",
      "      => Error is zero, ignore      \n",
      "  ----------------------------------------------------------\n",
      "    DstPip               0.249290        0.232195                                      \n",
      "                         1.000000        1.000000        Unweighted events, alpha=0.249290\n",
      "      => Product of prop_binAddTk_pp_mHad_bin0_DstPip[1.00,0.00,30.85] and const [1.0000] to be poisson constrained\n",
      "  ----------------------------------------------------------\n",
      "    antiB0DstmHc         0.000000        0.000000                                      \n",
      "      => Error is zero, ignore      \n",
      "  ----------------------------------------------------------\n",
      "    mu                   11.343084       4.127757                                      \n",
      "                         8.000000        2.828427        Unweighted events, alpha=1.417886\n",
      "      => Product of prop_binAddTk_pp_mHad_bin0_mu[8.00,0.12,47.91] and const [0.1250] to be poisson constrained\n",
      "  ----------------------------------------------------------\n",
      "    DstmDsp              0.029930        0.029930                                      \n",
      "                         1.000000        1.000000        Unweighted events, alpha=0.029930\n",
      "      => Product of prop_binAddTk_pp_mHad_bin0_DstmDsp[1.00,0.00,30.85] and const [1.0000] to be poisson constrained\n",
      "  ----------------------------------------------------------\n",
      "    DstPi0               0.932464        0.722724                                      \n",
      "                         2.000000        1.414214        Unweighted events, alpha=0.466232\n",
      "      => Product of prop_binAddTk_pp_mHad_bin0_DstPi0[2.00,0.00,33.79] and const [0.5000] to be poisson constrained\n",
      "  ----------------------------------------------------------\n",
      "    DstPipPim            0.576289        0.359436                                      \n",
      "                         3.000000        1.732051        Unweighted events, alpha=0.192096\n",
      "      => Product of prop_binAddTk_pp_mHad_bin0_DstPipPim[3.00,0.00,36.46] and const [0.3333] to be poisson constrained\n",
      "  ----------------------------------------------------------\n",
      "    DstmD0               0.308119        0.308119                                      \n",
      "                         1.000000        1.000000        Unweighted events, alpha=0.308119\n",
      "      => Product of prop_binAddTk_pp_mHad_bin0_DstmD0[1.00,0.00,30.85] and const [1.0000] to be poisson constrained\n",
      "  ----------------------------------------------------------\n",
      "    BpDstmHc             0.028441        0.013519                                      \n",
      "                         4.000000        2.000000        Unweighted events, alpha=0.007110\n",
      "      => Product of prop_binAddTk_pp_mHad_bin0_BpDstmHc[4.00,0.00,38.96] and const [0.2500] to be poisson constrained\n",
      "  ----------------------------------------------------------\n",
      "    DstPi0Pi0            0.000000        0.000000                                      \n",
      "      => Error is zero, ignore      \n",
      "  ----------------------------------------------------------\n",
      "------------------------------------------------------------\n",
      "1          71.865079       6.488020        total sum                     \n",
      "1          123.000000      11.090537       Unweighted events, alpha=0.584269\n",
      "  => Total parameter prop_binAddTk_pp_mHad_bin1[0.00,-7.00,7.00] to be gaussian constrained\n",
      "------------------------------------------------------------\n",
      "2          98.063302       8.014018        total sum                     \n",
      "2          150.000000      12.247449       Unweighted events, alpha=0.653755\n",
      "  => Total parameter prop_binAddTk_pp_mHad_bin2[0.00,-7.00,7.00] to be gaussian constrained\n",
      "------------------------------------------------------------\n",
      "3          138.294352      8.715250        total sum                     \n",
      "3          252.000000      15.874508       Unweighted events, alpha=0.548787\n",
      "  => Total parameter prop_binAddTk_pp_mHad_bin3[0.00,-7.00,7.00] to be gaussian constrained\n",
      "------------------------------------------------------------\n",
      "4          107.524299      8.044664        total sum                     \n",
      "4          179.000000      13.379088       Unweighted events, alpha=0.600694\n",
      "  => Total parameter prop_binAddTk_pp_mHad_bin4[0.00,-7.00,7.00] to be gaussian constrained\n",
      "------------------------------------------------------------\n",
      "5          80.227468       5.845914        total sum                     \n",
      "5          188.000000      13.711309       Unweighted events, alpha=0.426742\n",
      "  => Total parameter prop_binAddTk_pp_mHad_bin5[0.00,-7.00,7.00] to be gaussian constrained\n",
      "------------------------------------------------------------\n",
      "6          50.444183       5.930526        total sum                     \n",
      "6          72.000000       8.485281        Unweighted events, alpha=0.700614\n",
      "  => Total parameter prop_binAddTk_pp_mHad_bin6[0.00,-7.00,7.00] to be gaussian constrained\n",
      "------------------------------------------------------------\n",
      "7          41.046112       5.434699        total sum                     \n",
      "7          57.000000       7.549834        Unweighted events, alpha=0.720107\n",
      "  => Total parameter prop_binAddTk_pp_mHad_bin7[0.00,-7.00,7.00] to be gaussian constrained\n",
      "------------------------------------------------------------\n",
      "8          28.242230       4.168759        total sum                     \n",
      "8          46.000000       6.782330        Unweighted events, alpha=0.613962\n",
      "  => Total parameter prop_binAddTk_pp_mHad_bin8[0.00,-7.00,7.00] to be gaussian constrained\n",
      "------------------------------------------------------------\n",
      "9          18.856903       2.870152        total sum                     \n",
      "9          43.000000       6.557439        Unweighted events, alpha=0.438533\n",
      "  => Total parameter prop_binAddTk_pp_mHad_bin9[0.00,-7.00,7.00] to be gaussian constrained\n",
      "------------------------------------------------------------\n",
      "10         12.277768       2.281013        total sum                     \n",
      "10         29.000000       5.385165        Unweighted events, alpha=0.423371\n",
      "  => Total parameter prop_binAddTk_pp_mHad_bin10[0.00,-7.00,7.00] to be gaussian constrained\n",
      "------------------------------------------------------------\n",
      "11         10.238298       2.680368        total sum                     \n",
      "11         15.000000       3.872983        Unweighted events, alpha=0.682553\n",
      "  => Total parameter prop_binAddTk_pp_mHad_bin11[0.00,-7.00,7.00] to be gaussian constrained\n",
      "------------------------------------------------------------\n",
      "12         3.401737        0.871719        total sum                     \n",
      "12         15.000000       3.872983        Unweighted events, alpha=0.226782\n",
      "  => Total parameter prop_binAddTk_pp_mHad_bin12[0.00,-7.00,7.00] to be gaussian constrained\n",
      "------------------------------------------------------------\n",
      "13         4.025006        0.974410        total sum                     \n",
      "13         17.000000       4.123106        Unweighted events, alpha=0.236765\n",
      "  => Total parameter prop_binAddTk_pp_mHad_bin13[0.00,-7.00,7.00] to be gaussian constrained\n",
      "------------------------------------------------------------\n",
      "14         2.280651        0.763375        total sum                     \n",
      "14         9.000000        3.000000        Unweighted events, alpha=0.253406\n",
      "  => Number of weighted events is below poisson threshold\n",
      "    tau                  0.000000        0.000000                                      \n",
      "      => Error is zero, ignore      \n",
      "  ----------------------------------------------------------\n",
      "    DstmDp               0.003543        0.003543                                      \n",
      "                         1.000000        1.000000        Unweighted events, alpha=0.003543\n",
      "      => Product of prop_binAddTk_pp_mHad_bin14_DstmDp[1.00,0.00,30.85] and const [1.0000] to be poisson constrained\n",
      "  ----------------------------------------------------------\n",
      "    DstPipPi0            0.032065        0.032065                                      \n",
      "                         1.000000        1.000000        Unweighted events, alpha=0.032065\n",
      "      => Product of prop_binAddTk_pp_mHad_bin14_DstPipPi0[1.00,0.00,30.85] and const [1.0000] to be poisson constrained\n",
      "  ----------------------------------------------------------\n",
      "    DstPip               1.751005        0.666226                                      \n",
      "                         7.000000        2.645751        Unweighted events, alpha=0.250144\n",
      "      => Product of prop_binAddTk_pp_mHad_bin14_DstPip[7.00,0.07,45.79] and const [0.1429] to be poisson constrained\n",
      "  ----------------------------------------------------------\n",
      "    antiB0DstmHc         0.000000        0.000000                                      \n",
      "      => Error is zero, ignore      \n",
      "  ----------------------------------------------------------\n",
      "    mu                   0.457570        0.369922                                      \n",
      "                         2.000000        1.414214        Unweighted events, alpha=0.228785\n",
      "      => Product of prop_binAddTk_pp_mHad_bin14_mu[2.00,0.00,33.79] and const [0.5000] to be poisson constrained\n",
      "  ----------------------------------------------------------\n",
      "    DstmDsp              0.000000        0.000000                                      \n",
      "      => Error is zero, ignore      \n",
      "  ----------------------------------------------------------\n",
      "    DstPi0               0.000000        0.000000                                      \n",
      "      => Error is zero, ignore      \n",
      "  ----------------------------------------------------------\n",
      "    DstPipPim            0.000000        0.000000                                      \n",
      "      => Error is zero, ignore      \n",
      "  ----------------------------------------------------------\n",
      "    DstmD0               0.031430        0.031430                                      \n",
      "                         1.000000        1.000000        Unweighted events, alpha=0.031430\n",
      "      => Product of prop_binAddTk_pp_mHad_bin14_DstmD0[1.00,0.00,30.85] and const [1.0000] to be poisson constrained\n",
      "  ----------------------------------------------------------\n",
      "    BpDstmHc             0.005038        0.003556                                      \n",
      "                         2.000000        1.414214        Unweighted events, alpha=0.002519\n",
      "      => Product of prop_binAddTk_pp_mHad_bin14_BpDstmHc[2.00,0.00,33.79] and const [0.5000] to be poisson constrained\n",
      "  ----------------------------------------------------------\n",
      "    DstPi0Pi0            0.000000        0.000000                                      \n",
      "      => Error is zero, ignore      \n",
      "  ----------------------------------------------------------\n",
      "------------------------------------------------------------\n",
      "Channel Est_mu_q2bin0 will use autoMCStats with settings: event-threshold=10, include-signal=1, hist-mode=1\n",
      "============================================================\n",
      "Analysing bin errors for: prop_binEst_mu_q2bin0\n",
      "Poisson cut-off: 10\n",
      "============================================================\n",
      "Bin        Contents        Error           Notes                         \n",
      "0          569.873498      12.807247       total sum                     \n",
      "0          1980.000000     44.497191       Unweighted events, alpha=0.287815\n",
      "  => Total parameter prop_binEst_mu_q2bin0_bin0[0.00,-7.00,7.00] to be gaussian constrained\n",
      "------------------------------------------------------------\n",
      "1          516.148964      12.064760       total sum                     \n",
      "1          1830.000000     42.778499       Unweighted events, alpha=0.282049\n",
      "  => Total parameter prop_binEst_mu_q2bin0_bin1[0.00,-7.00,7.00] to be gaussian constrained\n",
      "------------------------------------------------------------\n",
      "2          797.962495      14.975791       total sum                     \n",
      "2          2839.000000     53.282267       Unweighted events, alpha=0.281072\n",
      "  => Total parameter prop_binEst_mu_q2bin0_bin2[0.00,-7.00,7.00] to be gaussian constrained\n",
      "------------------------------------------------------------\n",
      "3          1032.457046     16.823133       total sum                     \n",
      "3          3766.000000     61.367744       Unweighted events, alpha=0.274152\n",
      "  => Total parameter prop_binEst_mu_q2bin0_bin3[0.00,-7.00,7.00] to be gaussian constrained\n",
      "------------------------------------------------------------\n",
      "4          1381.209727     19.622002       total sum                     \n",
      "4          4955.000000     70.391761       Unweighted events, alpha=0.278751\n",
      "  => Total parameter prop_binEst_mu_q2bin0_bin4[0.00,-7.00,7.00] to be gaussian constrained\n",
      "------------------------------------------------------------\n",
      "5          1659.225702     21.197110       total sum                     \n",
      "5          6127.000000     78.275156       Unweighted events, alpha=0.270806\n",
      "  => Total parameter prop_binEst_mu_q2bin0_bin5[0.00,-7.00,7.00] to be gaussian constrained\n",
      "------------------------------------------------------------\n",
      "6          1917.120541     23.227973       total sum                     \n",
      "6          6812.000000     82.534841       Unweighted events, alpha=0.281433\n",
      "  => Total parameter prop_binEst_mu_q2bin0_bin6[0.00,-7.00,7.00] to be gaussian constrained\n",
      "------------------------------------------------------------\n",
      "7          2051.145303     23.284530       total sum                     \n",
      "7          7760.000000     88.090862       Unweighted events, alpha=0.264323\n",
      "  => Total parameter prop_binEst_mu_q2bin0_bin7[0.00,-7.00,7.00] to be gaussian constrained\n",
      "------------------------------------------------------------\n",
      "8          2282.372149     24.547079       total sum                     \n",
      "8          8645.000000     92.978492       Unweighted events, alpha=0.264011\n",
      "  => Total parameter prop_binEst_mu_q2bin0_bin8[0.00,-7.00,7.00] to be gaussian constrained\n",
      "------------------------------------------------------------\n",
      "9          2381.107951     25.023489       total sum                     \n",
      "9          9054.000000     95.152509       Unweighted events, alpha=0.262990\n",
      "  => Total parameter prop_binEst_mu_q2bin0_bin9[0.00,-7.00,7.00] to be gaussian constrained\n",
      "------------------------------------------------------------\n",
      "10         2430.148655     25.129961       total sum                     \n",
      "10         9352.000000     96.705739       Unweighted events, alpha=0.259853\n",
      "  => Total parameter prop_binEst_mu_q2bin0_bin10[0.00,-7.00,7.00] to be gaussian constrained\n",
      "------------------------------------------------------------\n",
      "11         2429.676208     25.177499       total sum                     \n",
      "11         9313.000000     96.503886       Unweighted events, alpha=0.260891\n",
      "  => Total parameter prop_binEst_mu_q2bin0_bin11[0.00,-7.00,7.00] to be gaussian constrained\n",
      "------------------------------------------------------------\n",
      "12         2352.543165     24.619978       total sum                     \n",
      "12         9131.000000     95.556266       Unweighted events, alpha=0.257644\n",
      "  => Total parameter prop_binEst_mu_q2bin0_bin12[0.00,-7.00,7.00] to be gaussian constrained\n",
      "------------------------------------------------------------\n",
      "13         2158.083976     23.901076       total sum                     \n",
      "13         8153.000000     90.293964       Unweighted events, alpha=0.264698\n",
      "  => Total parameter prop_binEst_mu_q2bin0_bin13[0.00,-7.00,7.00] to be gaussian constrained\n",
      "------------------------------------------------------------\n",
      "14         1838.779991     21.416161       total sum                     \n",
      "14         7372.000000     85.860352       Unweighted events, alpha=0.249428\n",
      "  => Total parameter prop_binEst_mu_q2bin0_bin14[0.00,-7.00,7.00] to be gaussian constrained\n",
      "------------------------------------------------------------\n",
      "15         1271.868169     17.550481       total sum                     \n",
      "15         5252.000000     72.470684       Unweighted events, alpha=0.242168\n",
      "  => Total parameter prop_binEst_mu_q2bin0_bin15[0.00,-7.00,7.00] to be gaussian constrained\n",
      "------------------------------------------------------------\n",
      "16         524.162271      11.129122       total sum                     \n",
      "16         2218.000000     47.095647       Unweighted events, alpha=0.236322\n",
      "  => Total parameter prop_binEst_mu_q2bin0_bin16[0.00,-7.00,7.00] to be gaussian constrained\n",
      "------------------------------------------------------------\n",
      "Channel Est_mu_q2bin1 will use autoMCStats with settings: event-threshold=10, include-signal=1, hist-mode=1\n",
      "============================================================\n",
      "Analysing bin errors for: prop_binEst_mu_q2bin1\n",
      "Poisson cut-off: 10\n",
      "============================================================\n",
      "Bin        Contents        Error           Notes                         \n",
      "0          980.164199      16.017632       total sum                     \n",
      "0          3745.000000     61.196405       Unweighted events, alpha=0.261726\n",
      "  => Total parameter prop_binEst_mu_q2bin1_bin0[0.00,-7.00,7.00] to be gaussian constrained\n",
      "------------------------------------------------------------\n",
      "1          1088.900094     16.949344       total sum                     \n",
      "1          4127.000000     64.241731       Unweighted events, alpha=0.263848\n",
      "  => Total parameter prop_binEst_mu_q2bin1_bin1[0.00,-7.00,7.00] to be gaussian constrained\n",
      "------------------------------------------------------------\n",
      "2          1693.399622     21.067588       total sum                     \n",
      "2          6461.000000     80.380346       Unweighted events, alpha=0.262096\n",
      "  => Total parameter prop_binEst_mu_q2bin1_bin2[0.00,-7.00,7.00] to be gaussian constrained\n",
      "------------------------------------------------------------\n",
      "3          2328.389542     24.769876       total sum                     \n",
      "3          8836.000000     94.000000       Unweighted events, alpha=0.263512\n",
      "  => Total parameter prop_binEst_mu_q2bin1_bin3[0.00,-7.00,7.00] to be gaussian constrained\n",
      "------------------------------------------------------------\n",
      "4          2858.495943     27.345159       total sum                     \n",
      "4          10927.000000    104.532292      Unweighted events, alpha=0.261599\n",
      "  => Total parameter prop_binEst_mu_q2bin1_bin4[0.00,-7.00,7.00] to be gaussian constrained\n",
      "------------------------------------------------------------\n",
      "5          3252.466074     29.263997       total sum                     \n",
      "5          12353.000000    111.144051      Unweighted events, alpha=0.263294\n",
      "  => Total parameter prop_binEst_mu_q2bin1_bin5[0.00,-7.00,7.00] to be gaussian constrained\n",
      "------------------------------------------------------------\n",
      "6          3705.284372     31.306176       total sum                     \n",
      "6          14008.000000    118.355397      Unweighted events, alpha=0.264512\n",
      "  => Total parameter prop_binEst_mu_q2bin1_bin6[0.00,-7.00,7.00] to be gaussian constrained\n",
      "------------------------------------------------------------\n",
      "7          3949.947106     32.225875       total sum                     \n",
      "7          15024.000000    122.572428      Unweighted events, alpha=0.262909\n",
      "  => Total parameter prop_binEst_mu_q2bin1_bin7[0.00,-7.00,7.00] to be gaussian constrained\n",
      "------------------------------------------------------------\n",
      "8          4306.764809     33.835865       total sum                     \n",
      "8          16201.000000    127.283149      Unweighted events, alpha=0.265833\n",
      "  => Total parameter prop_binEst_mu_q2bin1_bin8[0.00,-7.00,7.00] to be gaussian constrained\n",
      "------------------------------------------------------------\n",
      "9          4526.671850     34.605788       total sum                     \n",
      "9          17110.000000    130.805199      Unweighted events, alpha=0.264563\n",
      "  => Total parameter prop_binEst_mu_q2bin1_bin9[0.00,-7.00,7.00] to be gaussian constrained\n",
      "------------------------------------------------------------\n",
      "10         4815.241083     36.009278       total sum                     \n",
      "10         17882.000000    133.723596      Unweighted events, alpha=0.269279\n",
      "  => Total parameter prop_binEst_mu_q2bin1_bin10[0.00,-7.00,7.00] to be gaussian constrained\n",
      "------------------------------------------------------------\n",
      "11         5024.160127     37.524936       total sum                     \n",
      "11         17926.000000    133.888013      Unweighted events, alpha=0.280272\n",
      "  => Total parameter prop_binEst_mu_q2bin1_bin11[0.00,-7.00,7.00] to be gaussian constrained\n",
      "------------------------------------------------------------\n",
      "12         5106.416936     36.910030       total sum                     \n",
      "12         19140.000000    138.347389      Unweighted events, alpha=0.266793\n",
      "  => Total parameter prop_binEst_mu_q2bin1_bin12[0.00,-7.00,7.00] to be gaussian constrained\n",
      "------------------------------------------------------------\n",
      "13         5153.684821     37.077528       total sum                     \n",
      "13         19320.000000    138.996403      Unweighted events, alpha=0.266754\n",
      "  => Total parameter prop_binEst_mu_q2bin1_bin13[0.00,-7.00,7.00] to be gaussian constrained\n",
      "------------------------------------------------------------\n",
      "14         4564.155276     34.953643       total sum                     \n",
      "14         17050.000000    130.575649      Unweighted events, alpha=0.267692\n",
      "  => Total parameter prop_binEst_mu_q2bin1_bin14[0.00,-7.00,7.00] to be gaussian constrained\n",
      "------------------------------------------------------------\n",
      "15         2760.790052     26.733735       total sum                     \n",
      "15         10665.000000    103.271487      Unweighted events, alpha=0.258865\n",
      "  => Total parameter prop_binEst_mu_q2bin1_bin15[0.00,-7.00,7.00] to be gaussian constrained\n",
      "------------------------------------------------------------\n",
      "16         935.200006      15.377705       total sum                     \n",
      "16         3699.000000     60.819405       Unweighted events, alpha=0.252825\n",
      "  => Total parameter prop_binEst_mu_q2bin1_bin16[0.00,-7.00,7.00] to be gaussian constrained\n",
      "------------------------------------------------------------\n",
      "17         259.770970      8.054461        total sum                     \n",
      "17         1040.000000     32.249031       Unweighted events, alpha=0.249780\n",
      "  => Total parameter prop_binEst_mu_q2bin1_bin17[0.00,-7.00,7.00] to be gaussian constrained\n",
      "------------------------------------------------------------\n",
      "18         150.836616      6.186934        total sum                     \n",
      "18         594.000000      24.372115       Unweighted events, alpha=0.253934\n",
      "  => Total parameter prop_binEst_mu_q2bin1_bin18[0.00,-7.00,7.00] to be gaussian constrained\n",
      "------------------------------------------------------------\n",
      "Channel M2_miss_q2bin0 will use autoMCStats with settings: event-threshold=10, include-signal=1, hist-mode=1\n",
      "============================================================\n",
      "Analysing bin errors for: prop_binM2_miss_q2bin0\n",
      "Poisson cut-off: 10\n",
      "============================================================\n",
      "Bin        Contents        Error           Notes                         \n",
      "0          567.964933      12.353635       total sum                     \n",
      "0          2114.000000     45.978256       Unweighted events, alpha=0.268668\n",
      "  => Total parameter prop_binM2_miss_q2bin0_bin0[0.00,-7.00,7.00] to be gaussian constrained\n",
      "------------------------------------------------------------\n",
      "1          278.525977      8.645138        total sum                     \n",
      "1          1038.000000     32.218007       Unweighted events, alpha=0.268329\n",
      "  => Total parameter prop_binM2_miss_q2bin0_bin1[0.00,-7.00,7.00] to be gaussian constrained\n",
      "------------------------------------------------------------\n",
      "2          566.367991      12.268804       total sum                     \n",
      "2          2131.000000     46.162756       Unweighted events, alpha=0.265776\n",
      "  => Total parameter prop_binM2_miss_q2bin0_bin2[0.00,-7.00,7.00] to be gaussian constrained\n",
      "------------------------------------------------------------\n",
      "3          1310.763754     18.890028       total sum                     \n",
      "3          4815.000000     69.390201       Unweighted events, alpha=0.272225\n",
      "  => Total parameter prop_binM2_miss_q2bin0_bin3[0.00,-7.00,7.00] to be gaussian constrained\n",
      "------------------------------------------------------------\n",
      "4          3521.186367     30.642186       total sum                     \n",
      "4          13205.000000    114.913011      Unweighted events, alpha=0.266656\n",
      "  => Total parameter prop_binM2_miss_q2bin0_bin4[0.00,-7.00,7.00] to be gaussian constrained\n",
      "------------------------------------------------------------\n",
      "5          5238.216936     36.938205       total sum                     \n",
      "5          20110.000000    141.809732      Unweighted events, alpha=0.260478\n",
      "  => Total parameter prop_binM2_miss_q2bin0_bin5[0.00,-7.00,7.00] to be gaussian constrained\n",
      "------------------------------------------------------------\n",
      "6          7509.089776     44.415537       total sum                     \n",
      "6          28583.000000    169.065076      Unweighted events, alpha=0.262712\n",
      "  => Total parameter prop_binM2_miss_q2bin0_bin6[0.00,-7.00,7.00] to be gaussian constrained\n",
      "------------------------------------------------------------\n",
      "7          6515.211328     41.683603       total sum                     \n",
      "7          24430.000000    156.300992      Unweighted events, alpha=0.266689\n",
      "  => Total parameter prop_binM2_miss_q2bin0_bin7[0.00,-7.00,7.00] to be gaussian constrained\n",
      "------------------------------------------------------------\n",
      "8          2086.558756     23.380952       total sum                     \n",
      "8          7964.000000     89.241246       Unweighted events, alpha=0.261999\n",
      "  => Total parameter prop_binM2_miss_q2bin0_bin8[0.00,-7.00,7.00] to be gaussian constrained\n",
      "------------------------------------------------------------\n",
      "Channel M2_miss_q2bin1 will use autoMCStats with settings: event-threshold=10, include-signal=1, hist-mode=1\n",
      "============================================================\n",
      "Analysing bin errors for: prop_binM2_miss_q2bin1\n",
      "Poisson cut-off: 10\n",
      "============================================================\n",
      "Bin        Contents        Error           Notes                         \n",
      "0          585.675388      12.855580       total sum                     \n",
      "0          2076.000000     45.563143       Unweighted events, alpha=0.282117\n",
      "  => Total parameter prop_binM2_miss_q2bin1_bin0[0.00,-7.00,7.00] to be gaussian constrained\n",
      "------------------------------------------------------------\n",
      "1          334.323074      9.922017        total sum                     \n",
      "1          1135.000000     33.689761       Unweighted events, alpha=0.294558\n",
      "  => Total parameter prop_binM2_miss_q2bin1_bin1[0.00,-7.00,7.00] to be gaussian constrained\n",
      "------------------------------------------------------------\n",
      "2          580.885087      12.741813       total sum                     \n",
      "2          2078.000000     45.585085       Unweighted events, alpha=0.279540\n",
      "  => Total parameter prop_binM2_miss_q2bin1_bin2[0.00,-7.00,7.00] to be gaussian constrained\n",
      "------------------------------------------------------------\n",
      "3          1304.932560     19.089883       total sum                     \n",
      "3          4673.000000     68.359345       Unweighted events, alpha=0.279249\n",
      "  => Total parameter prop_binM2_miss_q2bin1_bin3[0.00,-7.00,7.00] to be gaussian constrained\n",
      "------------------------------------------------------------\n",
      "4          3785.450179     32.427241       total sum                     \n",
      "4          13627.000000    116.734742      Unweighted events, alpha=0.277790\n",
      "  => Total parameter prop_binM2_miss_q2bin1_bin4[0.00,-7.00,7.00] to be gaussian constrained\n",
      "------------------------------------------------------------\n",
      "5          2117.357552     25.065272       total sum                     \n",
      "5          7136.000000     84.474848       Unweighted events, alpha=0.296715\n",
      "  => Total parameter prop_binM2_miss_q2bin1_bin5[0.00,-7.00,7.00] to be gaussian constrained\n",
      "------------------------------------------------------------\n",
      "6          3100.380703     29.038107       total sum                     \n",
      "6          11400.000000    106.770783      Unweighted events, alpha=0.271963\n",
      "  => Total parameter prop_binM2_miss_q2bin1_bin6[0.00,-7.00,7.00] to be gaussian constrained\n",
      "------------------------------------------------------------\n",
      "7          3952.300507     32.757120       total sum                     \n",
      "7          14558.000000    120.656537      Unweighted events, alpha=0.271487\n",
      "  => Total parameter prop_binM2_miss_q2bin1_bin7[0.00,-7.00,7.00] to be gaussian constrained\n",
      "------------------------------------------------------------\n",
      "8          4061.683301     33.274873       total sum                     \n",
      "8          14900.000000    122.065556      Unweighted events, alpha=0.272596\n",
      "  => Total parameter prop_binM2_miss_q2bin1_bin8[0.00,-7.00,7.00] to be gaussian constrained\n",
      "------------------------------------------------------------\n",
      "9          3742.224320     31.875108       total sum                     \n",
      "9          13783.000000    117.401022      Unweighted events, alpha=0.271510\n",
      "  => Total parameter prop_binM2_miss_q2bin1_bin9[0.00,-7.00,7.00] to be gaussian constrained\n",
      "------------------------------------------------------------\n",
      "10         3396.177021     30.338519       total sum                     \n",
      "10         12531.000000    111.941949      Unweighted events, alpha=0.271022\n",
      "  => Total parameter prop_binM2_miss_q2bin1_bin10[0.00,-7.00,7.00] to be gaussian constrained\n",
      "------------------------------------------------------------\n",
      "11         10766.019681    53.782230       total sum                     \n",
      "11         40071.000000    200.177421      Unweighted events, alpha=0.268674\n",
      "  => Total parameter prop_binM2_miss_q2bin1_bin11[0.00,-7.00,7.00] to be gaussian constrained\n",
      "------------------------------------------------------------\n",
      "12         7564.605267     44.372142       total sum                     \n",
      "12         29064.000000    170.481671      Unweighted events, alpha=0.260274\n",
      "  => Total parameter prop_binM2_miss_q2bin1_bin12[0.00,-7.00,7.00] to be gaussian constrained\n",
      "------------------------------------------------------------\n",
      "13         4967.168075     35.430303       total sum                     \n",
      "13         19655.000000    140.196291      Unweighted events, alpha=0.252718\n",
      "  => Total parameter prop_binM2_miss_q2bin1_bin13[0.00,-7.00,7.00] to be gaussian constrained\n",
      "------------------------------------------------------------\n",
      "14         3211.494244     28.035778       total sum                     \n",
      "14         13122.000000    114.551299      Unweighted events, alpha=0.244741\n",
      "  => Total parameter prop_binM2_miss_q2bin1_bin14[0.00,-7.00,7.00] to be gaussian constrained\n",
      "------------------------------------------------------------\n",
      "15         1993.625411     21.861085       total sum                     \n",
      "15         8317.000000     91.197588       Unweighted events, alpha=0.239705\n",
      "  => Total parameter prop_binM2_miss_q2bin1_bin15[0.00,-7.00,7.00] to be gaussian constrained\n",
      "------------------------------------------------------------\n",
      "16         1105.570893     16.610845       total sum                     \n",
      "16         4430.000000     66.558245       Unweighted events, alpha=0.249565\n",
      "  => Total parameter prop_binM2_miss_q2bin1_bin16[0.00,-7.00,7.00] to be gaussian constrained\n",
      "------------------------------------------------------------\n",
      "17         890.866006      14.056997       total sum                     \n",
      "17         4016.000000     63.371918       Unweighted events, alpha=0.221829\n",
      "  => Total parameter prop_binM2_miss_q2bin1_bin17[0.00,-7.00,7.00] to be gaussian constrained\n",
      "------------------------------------------------------------\n"
     ]
    },
    {
     "name": "stderr",
     "output_type": "stream",
     "text": [
      "Creating pdfs for individual modes (10): .    1\b\b\b\b\b.    2\b\b\b\b\b.    3\b\b\b\b\b.    4\b\b\b\b\b.    5\b\b\b\b\b.    6\b\b\b\b\b.    7\b\b\b\b\b.    8\b\b\b\b\b.    9\b\b\b\b\b.   10\b\b\b\bdone.\n",
      "Importing combined pdf model_s\n"
     ]
    }
   ],
   "source": [
    "cmd = 'text2workspace.py ' + card_location \n",
    "cmd += ' -o ' + card_location.replace('.txt', '.root')\n",
    "cmd += ' --no-b-only'\n",
    "cmd += ' --verbose 1'\n",
    "# cmd += ' --no-wrappers'\n",
    "out = os.system(cmd)\n",
    "if out: raise"
   ]
  },
  {
   "cell_type": "markdown",
   "metadata": {},
   "source": [
    "## Run the Maximum Likelyhood fit"
   ]
  },
  {
   "cell_type": "code",
   "execution_count": 54,
   "metadata": {
    "ExecuteTime": {
     "end_time": "2020-06-02T01:59:17.720031Z",
     "start_time": "2020-06-02T01:59:17.713404Z"
    }
   },
   "outputs": [],
   "source": [
    "seedMLf = '6741'"
   ]
  },
  {
   "cell_type": "code",
   "execution_count": 55,
   "metadata": {
    "ExecuteTime": {
     "end_time": "2020-06-02T02:08:51.348205Z",
     "start_time": "2020-06-02T01:59:17.724683Z"
    },
    "scrolled": true
   },
   "outputs": [
    {
     "name": "stdout",
     "output_type": "stream",
     "text": [
      "combine -M FitDiagnostics --robustFit 1 --robustHesse 1 --cminDefaultMinimizerStrategy 0 --X-rtd MINIMIZER_analytic --skipBOnlyFit --seed 6741 -d cards/v8_low.root -D data_obs --setParameters r=0.26 --setParameterRanges r=0.01,5 -n v8_low --out results/v8_low --saveShapes --saveWithUncertainties --saveNormalizations --plots --verbose 1\n",
      "Messages of type \u001b[1m\u001b[31mError\u001b[0m : 0\n"
     ]
    }
   ],
   "source": [
    "cmd = 'combine -M FitDiagnostics'\n",
    "cmd += ' --robustFit 1 --robustHesse 1 --cminDefaultMinimizerStrategy 0 --X-rtd MINIMIZER_analytic'\n",
    "cmd += ' --skipBOnlyFit'\n",
    "cmd += ' --seed ' + seedMLf\n",
    "cmd += ' -d ' + card_location.replace('.txt', '.root')\n",
    "cmd += ' -D ' + histo[histo.keys()[0]]['data'].GetName()\n",
    "cmd += ' --setParameters r={:.2f}'.format(SM_RDst)\n",
    "cmd += ' --setParameterRanges r=0.01,5'\n",
    "cmd += ' -n {}'.format(card_name)\n",
    "cmd += ' --out ' + outdir\n",
    "cmd += ' --saveShapes --saveWithUncertainties --saveNormalizations'\n",
    "cmd += ' --plots'\n",
    "cmd += ' --verbose 1'\n",
    "\n",
    "print cmd\n",
    "status, output = commands.getstatusoutput(cmd)\n",
    "for line in output.split('\\n'):\n",
    "        if 'ERROR' in line: print line.replace('ERROR', '\\033[1m\\x1b[31mError\\x1b[0m')\n",
    "os.system('mv combine_logger.out ' + outdir + '/combine_logger_FitDiagnostics.out')\n",
    "os.system('mv ./higgsCombine{}.FitDiagnostics.mH120.{}.root '.format(card_name, seedMLf) + outdir + '/');"
   ]
  },
  {
   "cell_type": "code",
   "execution_count": 56,
   "metadata": {
    "ExecuteTime": {
     "end_time": "2020-06-02T02:08:51.450849Z",
     "start_time": "2020-06-02T02:08:51.356759Z"
    }
   },
   "outputs": [
    {
     "name": "stdout",
     "output_type": "stream",
     "text": [
      "R(D*) = 0.573 +4.427/-0.563 [435.1 %]\n"
     ]
    }
   ],
   "source": [
    "f = ur.open(glob(outdir + '/higgsCombine{}.FitDiagnostics.mH120.{}.root'.format(card_name, seedMLf))[0])\n",
    "c, d, u, _ = f['limit']['limit'].array()\n",
    "print 'R(D*) = {:.3f} +{:.3f}/-{:.3f} [{:.1f} %]'.format(c, u-c, c-d, 100*(u-d)*0.5/c)\n",
    "rDst_postFitRegion = [max(0.01,c - 5*(c-d)), min(c + 5*(u-c), 0.9)]"
   ]
  },
  {
   "cell_type": "code",
   "execution_count": 57,
   "metadata": {
    "ExecuteTime": {
     "end_time": "2020-06-02T02:08:51.690010Z",
     "start_time": "2020-06-02T02:08:51.456332Z"
    },
    "code_folding": []
   },
   "outputs": [
    {
     "name": "stdout",
     "output_type": "stream",
     "text": [
      "BmDstmHc missing from AddTk_pp_mHad\n"
     ]
    }
   ],
   "source": [
    "# Get post-fit shapes\n",
    "fFitDiagnostics = rt.TFile.Open(outdir + '/fitDiagnostics{}.root'.format(card_name), 'READ')\n",
    "fd = fFitDiagnostics.shapes_fit_s\n",
    "\n",
    "histo_postfit = {}\n",
    "for cat, h_dic in histo.iteritems():\n",
    "    histo_postfit[cat] = {}\n",
    "    for n, h in h_dic.iteritems():\n",
    "        if '__' in n:\n",
    "            continue\n",
    "        h_post = h.Clone(h.GetName() + '_postfit')\n",
    "        if 'data' in n:\n",
    "            h_fit = fd.Get(cat+'/total')\n",
    "            h_data = h.Clone(h.GetName() + '_data')\n",
    "            for i in range(1, h_post.GetNbinsX()+1):\n",
    "                h_post.SetBinContent(i, h_fit.GetBinContent(i))\n",
    "                h_post.SetBinError(i, h_fit.GetBinError(i))     \n",
    "            \n",
    "            histo_postfit[cat]['total'] = h_post\n",
    "            histo_postfit[cat][n] = h_data\n",
    "        else:\n",
    "            h_fit = fd.Get(cat+'/'+n)\n",
    "            if not h_fit: \n",
    "                print n+' missing from '+cat\n",
    "                continue\n",
    "            for i in range(1, h_post.GetNbinsX()+1):\n",
    "                h_post.SetBinContent(i, h_fit.GetBinContent(i))\n",
    "                h_post.SetBinError(i, h_fit.GetBinError(i)) \n",
    "\n",
    "            histo_postfit[cat][n] = h_post"
   ]
  },
  {
   "cell_type": "code",
   "execution_count": 58,
   "metadata": {
    "ExecuteTime": {
     "end_time": "2020-06-02T02:08:51.936942Z",
     "start_time": "2020-06-02T02:08:51.695490Z"
    },
    "scrolled": false
   },
   "outputs": [
    {
     "data": {
      "image/png": "[encoded data removed]",
      "text/plain": [
       "<IPython.core.display.Image object>"
      ]
     },
     "metadata": {},
     "output_type": "display_data"
    }
   ],
   "source": [
    "h2 = fFitDiagnostics.Get('covariance_fit_s')\n",
    "rt.gStyle.SetPaintTextFormat('.1f')\n",
    "\n",
    "N = h2.GetNbinsX()\n",
    "n=20\n",
    "\n",
    "h2.GetXaxis().SetRange(1, n)\n",
    "h2.GetYaxis().SetRangeUser(N-n, N)\n",
    "h2.SetMarkerSize(1.3)\n",
    "CC = drawOnCMSCanvas(CMS_lumi, [h2, h2], ['colz', 'text same'], tag='tl', mL=0.22, mR=0.15, mB=0.18)\n",
    "CC.SaveAs(outdir+'/fig/covariance_zoom.png')"
   ]
  },
  {
   "cell_type": "code",
   "execution_count": 59,
   "metadata": {
    "ExecuteTime": {
     "end_time": "2020-06-02T02:08:52.820809Z",
     "start_time": "2020-06-02T02:08:51.942145Z"
    },
    "scrolled": false
   },
   "outputs": [
    {
     "data": {
      "image/png": "[encoded data removed]",
      "text/plain": [
       "<IPython.core.display.Image object>"
      ]
     },
     "metadata": {},
     "output_type": "display_data"
    }
   ],
   "source": [
    "cSigPost = plot_gridVarQ2(CMS_lumi, binning, histo_postfit, draw_pulls=True, pulls_ylim=[-5, 5])\n",
    "cSigPost.SaveAs(outdir+'/fig/signalRegion_postfit.png')"
   ]
  },
  {
   "cell_type": "code",
   "execution_count": 60,
   "metadata": {
    "ExecuteTime": {
     "end_time": "2020-06-02T02:08:53.626398Z",
     "start_time": "2020-06-02T02:08:52.826406Z"
    },
    "scrolled": false
   },
   "outputs": [
    {
     "data": {
      "image/png": "[encoded data removed]",
      "text/plain": [
       "<IPython.core.display.Image object>"
      ]
     },
     "metadata": {},
     "output_type": "display_data"
    },
    {
     "data": {
      "image/png": "[encoded data removed]",
      "text/plain": [
       "<IPython.core.display.Image object>"
      ]
     },
     "metadata": {},
     "output_type": "display_data"
    },
    {
     "data": {
      "image/png": "[encoded data removed]",
      "text/plain": [
       "<IPython.core.display.Image object>"
      ]
     },
     "metadata": {},
     "output_type": "display_data"
    },
    {
     "data": {
      "image/png": "[encoded data removed]",
      "text/plain": [
       "<IPython.core.display.Image object>"
      ]
     },
     "metadata": {},
     "output_type": "display_data"
    },
    {
     "data": {
      "image/png": "[encoded data removed]",
      "text/plain": [
       "<IPython.core.display.Image object>"
      ]
     },
     "metadata": {},
     "output_type": "display_data"
    },
    {
     "data": {
      "image/png": "[encoded data removed]",
      "text/plain": [
       "<IPython.core.display.Image object>"
      ]
     },
     "metadata": {},
     "output_type": "display_data"
    }
   ],
   "source": [
    "cSidePost = {}\n",
    "for k in np.sort(sideVar.keys()):\n",
    "    legLoc = [0.67, 0.3, 0.93, 0.72]\n",
    "    if 'MassVis' in sideVar[k]:\n",
    "        legLoc = [0.18, 0.4, 0.4, 0.75]\n",
    "    cSidePost[k] = plot_SingleCategory(CMS_lumi, histo_postfit[k], \n",
    "                                       xtitle=sideXtitle[k], addText=sideAddtext[k], \n",
    "                                       tag=k, legLoc=legLoc,\n",
    "                                       draw_pulls=True\n",
    "                                      )\n",
    "    cSidePost[k].SaveAs(outdir+'/fig/'+k+'_postfit.png')"
   ]
  },
  {
   "cell_type": "code",
   "execution_count": 61,
   "metadata": {
    "ExecuteTime": {
     "end_time": "2020-06-02T02:08:59.115767Z",
     "start_time": "2020-06-02T02:08:53.631505Z"
    },
    "scrolled": false
   },
   "outputs": [
    {
     "name": "stdout",
     "output_type": "stream",
     "text": [
      "python diffNuisances.py results/v8_low/fitDiagnosticsv8_low.root --skipFitB --abs -g results/v8_low/nuisance_difference.root\n",
      "+--------------------------------+------------------------+-----------------------------------+\n",
      "|           Parameter            |        pre-fit         |              post-fit             |\n",
      "+--------------------------------+------------------------+-----------------------------------+\n",
      "|           DstPiPiBr            | 0.000000 +/- 1.000000  | !-3.85 +/- 0.40 (-3.85sig, 0.40)! |\n",
      "|            DstmD0Br            |  0.000000 +/- 1.000000 | !+3.76 +/- 0.94 (+3.76sig, 0.94)! |\n",
      "|   prop_binAddTk_pm_mHad_bin7   |  0.000000 +/- 1.000000 | !-2.64 +/- 0.79 (-2.64sig, 0.79)! |\n",
      "|         BrB02DstD0Kstp         |  0.000000 +/- 1.000000 | !+2.53 +/- 0.91 (+2.53sig, 0.91)! |\n",
      "|   prop_binAddTk_p_mHad_bin19   |  0.000000 +/- 1.000000 | !-2.48 +/- 0.87 (-2.48sig, 0.87)! |\n",
      "|        BrB02DstDst0Kstp        |  0.000000 +/- 1.000000 | !+2.48 +/- 0.95 (+2.48sig, 0.95)! |\n",
      "|  prop_binAddTk_pm_mVis_bin21   | 0.000000 +/- 1.000000  | !-2.43 +/- 0.67 (-2.43sig, 0.67)! |\n",
      "| prop_binAddTk_mm_mHad_bin10_mu |  5.000000 +/- 2.225802 | !+9.99 +/- 2.78 (+2.24sig, 1.25)! |\n",
      "|   prop_binAddTk_pm_mHad_bin6   |  0.000000 +/- 1.000000 |  -1.97 +/- 0.84 (-1.97sig, 0.84)  |\n",
      "|              muBr              |  0.000000 +/- 1.000000 |  -1.92 +/- 0.95 (-1.92sig, 0.95)  |\n",
      "|            tkPVfrac            |  0.000000 +/- 1.000000 | !+1.75 +/- 0.33 (+1.75sig, 0.33)! |\n",
      "|  prop_binM2_miss_q2bin1_bin7   | 0.000000 +/- 1.000000  |  -1.75 +/- 0.88 (-1.75sig, 0.88)  |\n",
      "|   prop_binAddTk_m_mHad_bin10   |  0.000000 +/- 1.000000 |  +1.74 +/- 0.79 (+1.74sig, 0.79)  |\n",
      "|   prop_binAddTk_p_mHad_bin11   |  0.000000 +/- 1.000000 |  -1.69 +/- 0.84 (-1.69sig, 0.84)  |\n",
      "|         BrB02DstDpKst0         |  0.000000 +/- 1.000000 |  +1.60 +/- 1.00 (+1.60sig, 1.00)  |\n",
      "+--------------------------------+------------------------+-----------------------------------+\n"
     ]
    }
   ],
   "source": [
    "cmd = 'python diffNuisances.py '.format(os.environ['CMSSW_BASE'])\n",
    "cmd += outdir + '/fitDiagnostics{}.root'.format(card_name)\n",
    "cmd += ' --skipFitB'\n",
    "# cmd += ' --all'\n",
    "cmd += ' --abs'\n",
    "cmd += ' -g {}/nuisance_difference.root'.format(outdir)\n",
    "print cmd\n",
    "status, output = commands.getstatusoutput(cmd)\n",
    "dumpDiffNuisances(output, outdir)"
   ]
  },
  {
   "cell_type": "markdown",
   "metadata": {},
   "source": [
    "## Run likelyhood scan"
   ]
  },
  {
   "cell_type": "code",
   "execution_count": 62,
   "metadata": {
    "ExecuteTime": {
     "end_time": "2020-06-02T02:09:58.823261Z",
     "start_time": "2020-06-02T02:08:59.123649Z"
    }
   },
   "outputs": [
    {
     "name": "stdout",
     "output_type": "stream",
     "text": [
      "combine -M MultiDimFit --algo grid --points=100 --robustFit 1 -d cards/v8_low.root -D data_obs --X-rtd MINIMIZER_analytic --rMin=0.0100 --rMax=0.9000 -n v8_low_nominal --verbose -1\n",
      "----------------------------------\n",
      "R(D*) = 0.574 +0.114/-0.112 [19.7 %]\n",
      "Sigma = 0.113\n",
      "----------------------------------\n",
      "\n"
     ]
    },
    {
     "data": {
      "image/png": "[encoded data removed]",
      "text/plain": [
       "<IPython.core.display.Image object>"
      ]
     },
     "metadata": {},
     "output_type": "display_data"
    },
    {
     "name": "stdout",
     "output_type": "stream",
     "text": [
      " <<< Combine >>> \n",
      "   Options for Robust Minimizer :: \n",
      "        Tolerance  0.1\n",
      "        Strategy   0\n",
      "        Type,Algo  Minuit2,Migrad\n",
      ">>> method used is MultiDimFit\n",
      ">>> random number generator seed is 123456\n",
      ">> Enabling analytic minimisation of bin-wise statistical uncertainty parameters\n",
      ">> Disabling analytic minimisation of bin-wise statistical uncertainty parameters\n",
      "Done in 0.86 min (cpu), 0.86 min (real)\n",
      "--------------------------------------\n",
      "scan\n",
      "--------------------------------------\n",
      "[{'lo': 0.46180132797310236, 'hi': 0.6884979336305168, 'valid_hi': True, 'valid_lo': True}]\n",
      "[{'lo': 0.35120927439033245, 'hi': 0.8049904730493684, 'valid_hi': True, 'valid_lo': True}]\n"
     ]
    },
    {
     "name": "stderr",
     "output_type": "stream",
     "text": [
      "Info in <TCanvas::Print>: pdf file ./scan.pdf has been created\n",
      "Info in <TCanvas::Print>: png file ./scan.png has been created\n"
     ]
    }
   ],
   "source": [
    "cmd = 'combine'\n",
    "cmd += ' -M MultiDimFit'\n",
    "cmd += ' --algo grid --points=100'\n",
    "cmd += ' --robustFit 1'\n",
    "cmd += ' -d ' + card_location.replace('.txt', '.root')\n",
    "cmd += ' -D ' + histo[histo.keys()[0]]['data'].GetName()\n",
    "cmd += ' --X-rtd MINIMIZER_analytic'\n",
    "cmd += ' --rMin={:.4f} --rMax={:.4f}'.format(*rDst_postFitRegion)\n",
    "cmd += ' -n {}_nominal'.format(card_name)\n",
    "cmd += ' --verbose -1'\n",
    "print cmd\n",
    "os.system(cmd)\n",
    "cmd = 'plot1DScan.py higgsCombine{}_nominal.MultiDimFit.mH120.root'.format(card_name)\n",
    "cmd += '; mv scan.png scan_nominal.png'\n",
    "os.system(cmd)\n",
    "res_nominal = getUncertaintyFromLimitTree('higgsCombine{}_nominal.MultiDimFit.mH120.root'.format(card_name))\n",
    "display(Image(filename='scan_nominal.png'))"
   ]
  },
  {
   "cell_type": "markdown",
   "metadata": {},
   "source": [
    "### Uncertainy breakdown by group"
   ]
  },
  {
   "cell_type": "code",
   "execution_count": 63,
   "metadata": {
    "ExecuteTime": {
     "end_time": "2020-06-02T02:10:03.657097Z",
     "start_time": "2020-06-02T02:09:58.826093Z"
    }
   },
   "outputs": [
    {
     "name": "stdout",
     "output_type": "stream",
     "text": [
      "combine -M MultiDimFit --algo none --cminDefaultMinimizerStrategy=2 --robustFit 1 --X-rtd MINIMIZER_analytic -d cards/v8_low.root -D data_obs --setParameters r=0.26 --setParameterRanges r=0.001,1 -n v8_low_bestfit --saveWorkspace --verbose -1\n",
      " <<< Combine >>> \n",
      "   Options for Robust Minimizer :: \n",
      "        Tolerance  0.1\n",
      "        Strategy   0\n",
      "        Type,Algo  Minuit2,Migrad\n",
      ">>> method used is MultiDimFit\n",
      ">>> random number generator seed is 123456\n",
      "   r :    +0.574\n",
      "Done in 0.02 min (cpu), 0.02 min (real)\n"
     ]
    }
   ],
   "source": [
    "cmd = 'combine -M MultiDimFit --algo none'\n",
    "cmd += ' --cminDefaultMinimizerStrategy=2 --robustFit 1 --X-rtd MINIMIZER_analytic'\n",
    "cmd += ' -d ' + card_location.replace('.txt', '.root')\n",
    "cmd += ' -D ' + histo[histo.keys()[0]]['data'].GetName()\n",
    "cmd += ' --setParameters r={:.2f}'.format(SM_RDst)\n",
    "cmd += ' --setParameterRanges r=0.001,1'\n",
    "cmd += ' -n {}_bestfit'.format(card_name)\n",
    "cmd += ' --saveWorkspace --verbose -1'\n",
    "print cmd\n",
    "os.system(cmd);"
   ]
  },
  {
   "cell_type": "code",
   "execution_count": 64,
   "metadata": {
    "ExecuteTime": {
     "end_time": "2020-06-02T02:10:22.530384Z",
     "start_time": "2020-06-02T02:10:03.662719Z"
    }
   },
   "outputs": [
    {
     "name": "stdout",
     "output_type": "stream",
     "text": [
      "combine -M MultiDimFit --algo grid --points=100 --cminDefaultMinimizerStrategy=2 --robustFit 1 --X-rtd MINIMIZER_analytic -d higgsCombinev8_low_bestfit.MultiDimFit.mH120.root -D data_obs --rMin=0.0100 --rMax=0.9000 -n v8_low_stat --snapshotName MultiDimFit --freezeNuisanceGroups=autoMCStats,allShape --verbose -1\n",
      " <<< Combine >>> \n",
      "   Options for Robust Minimizer :: \n",
      "        Tolerance  0.1\n",
      "        Strategy   0\n",
      "        Type,Algo  Minuit2,Migrad\n",
      ">>> method used is MultiDimFit\n",
      ">>> random number generator seed is 123456\n",
      ">> Enabling analytic minimisation of bin-wise statistical uncertainty parameters\n",
      ">> Disabling analytic minimisation of bin-wise statistical uncertainty parameters\n",
      "Done in 0.26 min (cpu), 0.26 min (real)\n"
     ]
    }
   ],
   "source": [
    "# Statistical uncertainty\n",
    "cmd = 'combine -M MultiDimFit --algo grid --points=100'\n",
    "cmd += ' --cminDefaultMinimizerStrategy=2 --robustFit 1 --X-rtd MINIMIZER_analytic'\n",
    "cmd += ' -d higgsCombine{}_bestfit.MultiDimFit.mH120.root'.format(card_name)\n",
    "cmd += ' -D ' + histo[histo.keys()[0]]['data'].GetName()\n",
    "cmd += ' --rMin={:.4f} --rMax={:.4f}'.format(*rDst_postFitRegion)\n",
    "cmd += ' -n {}_stat'.format(card_name)\n",
    "cmd += ' --snapshotName MultiDimFit'\n",
    "cmd += ' --freezeNuisanceGroups=autoMCStats,allShape'\n",
    "cmd += ' --verbose -1'\n",
    "print cmd\n",
    "os.system(cmd);"
   ]
  },
  {
   "cell_type": "code",
   "execution_count": 65,
   "metadata": {
    "ExecuteTime": {
     "end_time": "2020-06-02T02:10:49.221535Z",
     "start_time": "2020-06-02T02:10:22.535752Z"
    }
   },
   "outputs": [
    {
     "name": "stdout",
     "output_type": "stream",
     "text": [
      "combine -M MultiDimFit --algo grid --points=100 --cminDefaultMinimizerStrategy=2 --robustFit 1 --X-rtd MINIMIZER_analytic -d higgsCombinev8_low_bestfit.MultiDimFit.mH120.root -D data_obs --rMin=0.0100 --rMax=0.9000 -n v8_low_MCstat --snapshotName MultiDimFit --freezeNuisanceGroups=autoMCStats --verbose -1\n",
      " <<< Combine >>> \n",
      "   Options for Robust Minimizer :: \n",
      "        Tolerance  0.1\n",
      "        Strategy   0\n",
      "        Type,Algo  Minuit2,Migrad\n",
      ">>> method used is MultiDimFit\n",
      ">>> random number generator seed is 123456\n",
      ">> Enabling analytic minimisation of bin-wise statistical uncertainty parameters\n",
      ">> Disabling analytic minimisation of bin-wise statistical uncertainty parameters\n",
      "Done in 0.39 min (cpu), 0.39 min (real)\n"
     ]
    }
   ],
   "source": [
    "# MC Statistics\n",
    "cmd = 'combine -M MultiDimFit --algo grid --points=100'\n",
    "cmd += ' --cminDefaultMinimizerStrategy=2 --robustFit 1 --X-rtd MINIMIZER_analytic'\n",
    "cmd += ' -d higgsCombine{}_bestfit.MultiDimFit.mH120.root'.format(card_name)\n",
    "cmd += ' -D ' + histo[histo.keys()[0]]['data'].GetName()\n",
    "cmd += ' --rMin={:.4f} --rMax={:.4f}'.format(*rDst_postFitRegion)\n",
    "cmd += ' -n {}_MCstat'.format(card_name)\n",
    "cmd += ' --snapshotName MultiDimFit'\n",
    "cmd += ' --freezeNuisanceGroups=autoMCStats'\n",
    "cmd += ' --verbose -1'\n",
    "print cmd\n",
    "os.system(cmd);"
   ]
  },
  {
   "cell_type": "code",
   "execution_count": 66,
   "metadata": {
    "ExecuteTime": {
     "end_time": "2020-06-02T02:10:52.335677Z",
     "start_time": "2020-06-02T02:10:49.228486Z"
    }
   },
   "outputs": [
    {
     "name": "stdout",
     "output_type": "stream",
     "text": [
      "plot1DScan.py higgsCombinev8_low_nominal.MultiDimFit.mH120.root --others \"higgsCombinev8_low_MCstat.MultiDimFit.mH120.root:Freeze MC stat:4\" \"higgsCombinev8_low_stat.MultiDimFit.mH120.root:Freeze all:2\" --breakdown MCstat,syst,stat; mv scan.png scan_MCstat.png\n"
     ]
    },
    {
     "data": {
      "image/png": "[encoded data removed]",
      "text/plain": [
       "<IPython.core.display.Image object>"
      ]
     },
     "metadata": {},
     "output_type": "display_data"
    },
    {
     "name": "stdout",
     "output_type": "stream",
     "text": [
      "--------------------------------------\n",
      "scan\n",
      "--------------------------------------\n",
      "[{'lo': 0.46180132797310236, 'hi': 0.6884979336305168, 'valid_hi': True, 'valid_lo': True}]\n",
      "[{'lo': 0.35120927439033245, 'hi': 0.8049904730493684, 'valid_hi': True, 'valid_lo': True}]\n",
      "[{'lo': 0.47278932521047284, 'hi': 0.6772430761134242, 'valid_hi': True, 'valid_lo': True}]\n",
      "[{'lo': 0.37296366059038255, 'hi': 0.7823077526107437, 'valid_hi': True, 'valid_lo': True}]\n",
      "[{'lo': 0.4872518564194464, 'hi': 0.66183175821594, 'valid_hi': True, 'valid_lo': True}]\n",
      "[{'lo': 0.4006823332999687, 'hi': 0.7505021717500757, 'valid_hi': True, 'valid_lo': True}]\n"
     ]
    },
    {
     "name": "stderr",
     "output_type": "stream",
     "text": [
      "Info in <TCanvas::Print>: pdf file ./scan.pdf has been created\n",
      "Info in <TCanvas::Print>: png file ./scan.png has been created\n"
     ]
    }
   ],
   "source": [
    "cmd = 'plot1DScan.py higgsCombine{}_nominal.MultiDimFit.mH120.root'.format(card_name)\n",
    "cmd += ' --others'\n",
    "cmd += ' \"higgsCombine{}_MCstat.MultiDimFit.mH120.root:Freeze MC stat:4\"'.format(card_name)\n",
    "cmd += ' \"higgsCombine{}_stat.MultiDimFit.mH120.root:Freeze all:2\"'.format(card_name)\n",
    "cmd += ' --breakdown MCstat,syst,stat'\n",
    "cmd += '; mv scan.png scan_MCstat.png'\n",
    "print cmd\n",
    "os.system(cmd)\n",
    "display(Image(filename='scan_MCstat.png'))"
   ]
  },
  {
   "cell_type": "code",
   "execution_count": 67,
   "metadata": {
    "ExecuteTime": {
     "end_time": "2020-06-02T02:10:52.509143Z",
     "start_time": "2020-06-02T02:10:52.342983Z"
    }
   },
   "outputs": [],
   "source": [
    "os.system('mv higgsCombine*.root ' + outdir + '/')\n",
    "os.system('mv scan* ' + outdir + '/')\n",
    "os.system('mv combine_logger.out ' + outdir + '/');"
   ]
  },
  {
   "cell_type": "code",
   "execution_count": 68,
   "metadata": {
    "ExecuteTime": {
     "end_time": "2020-06-02T02:10:52.947655Z",
     "start_time": "2020-06-02T02:10:52.516785Z"
    }
   },
   "outputs": [
    {
     "ename": "TypeError",
     "evalue": "exceptions must be old-style classes or derived from BaseException, not NoneType",
     "output_type": "error",
     "traceback": [
      "\u001b[0;31m\u001b[0m",
      "\u001b[0;31mTypeError\u001b[0mTraceback (most recent call last)",
      "\u001b[0;32m<ipython-input-68-81bdacfbbc74>\u001b[0m in \u001b[0;36m<module>\u001b[0;34m()\u001b[0m\n\u001b[1;32m      1\u001b[0m \u001b[0;32mif\u001b[0m \u001b[0mfastRun\u001b[0m\u001b[0;34m:\u001b[0m\u001b[0;34m\u001b[0m\u001b[0m\n\u001b[0;32m----> 2\u001b[0;31m     \u001b[0;32mraise\u001b[0m\u001b[0;34m\u001b[0m\u001b[0m\n\u001b[0m",
      "\u001b[0;31mTypeError\u001b[0m: exceptions must be old-style classes or derived from BaseException, not NoneType"
     ]
    }
   ],
   "source": [
    "if fastRun:\n",
    "    raise"
   ]
  },
  {
   "cell_type": "markdown",
   "metadata": {},
   "source": [
    "## Run the impact plots"
   ]
  },
  {
   "cell_type": "markdown",
   "metadata": {},
   "source": [
    "Fit first the POI"
   ]
  },
  {
   "cell_type": "code",
   "execution_count": null,
   "metadata": {
    "ExecuteTime": {
     "end_time": "2020-06-02T02:10:52.949135Z",
     "start_time": "2020-06-02T01:58:20.292Z"
    }
   },
   "outputs": [],
   "source": [
    "os.mkdir(outdir+'/impactPlots')"
   ]
  },
  {
   "cell_type": "code",
   "execution_count": null,
   "metadata": {
    "ExecuteTime": {
     "end_time": "2020-06-02T02:10:52.951515Z",
     "start_time": "2020-06-02T01:58:20.294Z"
    },
    "scrolled": true
   },
   "outputs": [],
   "source": [
    "cmd = 'cd {}/impactPlots;'.format(outdir)\n",
    "cmd += ' combineTool.py -M Impacts --doInitialFit -m 120'\n",
    "cmd += ' --robustFit 1 --X-rtd MINIMIZER_analytic'\n",
    "cmd += ' -d ../../../' + card_location.replace('.txt', '.root')\n",
    "cmd += ' -D ' + histo[histo.keys()[0]]['data'].GetName()\n",
    "cmd += ' --setParameters r={:.2f}'.format(SM_RDst)\n",
    "cmd += ' --setParameterRanges r=0.01,1'\n",
    "cmd += ' -n {}'.format(card_name)\n",
    "cmd += ' --verbose -1'\n",
    "os.system(cmd);"
   ]
  },
  {
   "cell_type": "markdown",
   "metadata": {},
   "source": [
    " Perform a similar scan for each nuisance parameter"
   ]
  },
  {
   "cell_type": "markdown",
   "metadata": {},
   "source": [
    "If running on Tier2 condor remmeber to add this line to CombineToolBase.py ln 11\n",
    "``source /cvmfs/cms.cern.ch/cmsset_default.sh``"
   ]
  },
  {
   "cell_type": "code",
   "execution_count": null,
   "metadata": {
    "ExecuteTime": {
     "end_time": "2020-06-02T02:10:52.953378Z",
     "start_time": "2020-06-02T01:58:20.297Z"
    }
   },
   "outputs": [],
   "source": [
    "cmd = 'cd {}/impactPlots;'.format(outdir)\n",
    "cmd += ' combineTool.py -M Impacts --doFits -m 120'\n",
    "cmd += ' --robustFit 1 --X-rtd MINIMIZER_analytic'\n",
    "# cmd += ' --parallel 20'\n",
    "cmd += ' --parallel 100 --job-mode condor --task-name combineImpacts'\n",
    "cmd += ' --sub-opts \"{}\"'.format(stringJubCustomizationCaltechT2.replace('\"', '\\\\\\\"').replace('$', '\\$'))\n",
    "cmd += ' -d ../../../' + card_location.replace('.txt', '.root')\n",
    "cmd += ' -D ' + histo[histo.keys()[0]]['data'].GetName()\n",
    "cmd += ' -n {}'.format(card_name)\n",
    "cmd += ' --verbose -1'\n",
    "print cmd\n",
    "os.system(cmd);"
   ]
  },
  {
   "cell_type": "markdown",
   "metadata": {},
   "source": [
    "Collect the results"
   ]
  },
  {
   "cell_type": "code",
   "execution_count": null,
   "metadata": {
    "ExecuteTime": {
     "end_time": "2020-06-02T02:10:52.955584Z",
     "start_time": "2020-06-02T01:58:20.299Z"
    }
   },
   "outputs": [],
   "source": [
    "status, output = commands.getstatusoutput('condor_q')\n",
    "while 'combineImpacts' in output:\n",
    "    time.sleep(20)\n",
    "    status, output = commands.getstatusoutput('condor_q')\n",
    "    for l in output.split('\\n'):\n",
    "        if 'combineImpacts' in l: \n",
    "            print l\n",
    "            sys.stdout.flush()\n",
    "cmd = 'cd {}/impactPlots;'.format(outdir)\n",
    "cmd += ' combineTool.py -M Impacts -o impacts.json -m 120'\n",
    "cmd += ' -d ../../../' + card_location.replace('.txt', '.root')\n",
    "cmd += ' -n {}'.format(card_name)\n",
    "print cmd\n",
    "os.system(cmd);"
   ]
  },
  {
   "cell_type": "code",
   "execution_count": null,
   "metadata": {
    "ExecuteTime": {
     "end_time": "2020-06-02T02:10:52.957610Z",
     "start_time": "2020-06-02T01:58:20.302Z"
    },
    "scrolled": true
   },
   "outputs": [],
   "source": [
    "rename = {\n",
    "'r': 'R(D*)',\n",
    "'B0pT': 'B_{0} p_{T} spectrum',\n",
    "'B2DstCLNR0':'R_{0} (CLN B#rightarrow D*#ell#nu)',\n",
    "'B2DstCLNR1':'R_{1} (CLN B#rightarrow D*)',\n",
    "'B2DstCLNR2':'R_{2} (CLN B#rightarrow D*)',\n",
    "'B2DstCLNRhoSq':'#rho^{2} (CLN B#rightarrow D*)',\n",
    "'trgSF': 'Trigger scale factor',\n",
    "'xsecpp2bbXlumi': 'Luminosity*#sigma_{pp#rightarrowbb}',\n",
    "    \n",
    "}\n",
    "\n",
    "procName_dic = {\n",
    "'mu'        : 'B_{0}#rightarrow D*#mu#nu',\n",
    "'tau'       : 'B_{0}#rightarrow D*#tau#nu',\n",
    "'DstmD0'    : 'B^{+}#rightarrow D*D_{0}',\n",
    "'DstmDp'    : 'B^{+}#rightarrow D*D^{+}',\n",
    "'DstmDsp'   : 'B^{+}#rightarrow D*D_{s}^{+}',\n",
    "'DstPip'    : 'B^{+}#rightarrow D*#pi^{+}#mu#nu',\n",
    "'DstPipPi0' : 'B^{+}#rightarrow D*#pi^{+}#pi^{0}#mu#nu',\n",
    "'DstPi0'    : 'B_{0}#rightarrow D*#pi^{0}#mu#nu',\n",
    "'DstPipPim' : 'B_{0}#rightarrow D*#pi^{+}#pi^{-}#mu#nu',\n",
    "'DstPi0Pi0' : 'B_{0}#rightarrow D*#pi^{0}#pi^{0}#mu#nu'\n",
    "}\n",
    "\n",
    "for n in processes:\n",
    "    rename[n+'Br'] = 'Branching fraction ' + procName_dic[n]\n",
    "\n",
    "d = json.load(open(outdir+'/impactPlots/impacts.json', 'r'))\n",
    "for par in d['params']:\n",
    "    name = str(par['name'])\n",
    "    if not name.startswith('prop_bin'): continue\n",
    "    label = name.replace('prop_bin', 'MC stat. ')\n",
    "    label = label.replace('M2_miss_', 'M^{2}_{miss} ')\n",
    "    label = label.replace('Est_mu_', 'E*_{#mu} ')\n",
    "    label = label.replace('q2bin', '[b_{q^{2}}=')\n",
    "    label = label.replace('_bin', '] ')\n",
    "    rename[name] = label + 10*' '\n",
    "    \n",
    "json.dump(rename, open(outdir+'/impactPlots/rename.json', 'w'))\n",
    "\n",
    "cmd = 'cd {};'.format(outdir)\n",
    "cmd += 'plotImpacts.py -i impactPlots/impacts.json -o impacts -t impactPlots/rename.json'\n",
    "os.system(cmd)\n",
    "IFrame(outdir+'/impacts.pdf', width=900, height=600)"
   ]
  },
  {
   "cell_type": "markdown",
   "metadata": {},
   "source": [
    "## Run the Goodness of fit test"
   ]
  },
  {
   "cell_type": "markdown",
   "metadata": {},
   "source": [
    "Run the observed test stat value"
   ]
  },
  {
   "cell_type": "code",
   "execution_count": null,
   "metadata": {
    "ExecuteTime": {
     "end_time": "2020-06-02T02:10:52.959850Z",
     "start_time": "2020-06-02T01:58:20.305Z"
    },
    "scrolled": true
   },
   "outputs": [],
   "source": [
    "cmd = 'combine -M GoodnessOfFit --toysFrequentist --algo=saturated'\n",
    "cmd += ' --X-rtd MINIMIZER_analytic --cminDefaultMinimizerStrategy 0'\n",
    "cmd += ' -d results/{cn}/higgsCombine{cn}_bestfit.MultiDimFit.mH120.root'.format(cn=card_name)\n",
    "cmd += ' --snapshotName MultiDimFit --bypassFrequentistFit'\n",
    "cmd += ' -D ' + histo[histo.keys()[0]]['data'].GetName()\n",
    "cmd += ' -n Obs'                                    # Just the output name\n",
    "cmd += ' -t 0'                                      # Don't run toys\n",
    "cmd += ' -s 1'                                      # Random seed\n",
    "cmd += ' --setParameters r={:.2f}'.format(SM_RDst)\n",
    "cmd += ' --setParameterRanges r=0.001,1'\n",
    "cmd += ' --plots --verbose -1'\n",
    "print cmd\n",
    "os.system(cmd)"
   ]
  },
  {
   "cell_type": "markdown",
   "metadata": {},
   "source": [
    "Run the test stat toy distribution"
   ]
  },
  {
   "cell_type": "code",
   "execution_count": null,
   "metadata": {
    "ExecuteTime": {
     "end_time": "2020-06-02T02:10:52.962187Z",
     "start_time": "2020-06-02T01:58:20.309Z"
    }
   },
   "outputs": [],
   "source": [
    "cmd = 'combine -M GoodnessOfFit --toysFrequentist --algo=saturated'\n",
    "cmd += ' --X-rtd MINIMIZER_analytic --cminDefaultMinimizerStrategy 0'\n",
    "cmd += ' -d results/{cn}/higgsCombine{cn}_bestfit.MultiDimFit.mH120.root'.format(cn=card_name)\n",
    "cmd += ' --snapshotName MultiDimFit --bypassFrequentistFit'\n",
    "cmd += ' -D ' + histo[histo.keys()[0]]['data'].GetName()\n",
    "cmd += ' -n Toys'                                   # Just the output name\n",
    "cmd += ' -t 20'                                     # Number of toys to run\n",
    "cmd += ' -s -1'                                     # Random seed\n",
    "cmd += ' --setParameters r={:.2f}'.format(SM_RDst)\n",
    "cmd += ' --setParameterRanges r=0.001,1'\n",
    "cmd += ' --plots --verbose -1'\n",
    "cmdToys = cmd\n",
    "print cmdToys\n",
    "# os.system(cmdToys)"
   ]
  },
  {
   "cell_type": "code",
   "execution_count": null,
   "metadata": {
    "ExecuteTime": {
     "end_time": "2020-06-02T02:10:52.963977Z",
     "start_time": "2020-06-02T01:58:20.311Z"
    }
   },
   "outputs": [],
   "source": [
    "from multiprocessing import Pool\n",
    "\n",
    "def runCommand(cmd):\n",
    "    os.system(cmd)\n",
    "\n",
    "Nrep = 15\n",
    "p = Pool(min(20,Nrep))\n",
    "outputs = p.map(runCommand, Nrep*[cmdToys])"
   ]
  },
  {
   "cell_type": "markdown",
   "metadata": {},
   "source": [
    "Combine them to get the p-value"
   ]
  },
  {
   "cell_type": "code",
   "execution_count": null,
   "metadata": {
    "ExecuteTime": {
     "end_time": "2020-06-02T02:10:52.965769Z",
     "start_time": "2020-06-02T01:58:20.315Z"
    }
   },
   "outputs": [],
   "source": [
    "f = ur.open('higgsCombineObs.GoodnessOfFit.mH120.1.root')\n",
    "s_obs = f['limit']['limit'].array()[0]\n",
    "\n",
    "s_toys = []\n",
    "for name_toys in glob('higgsCombineToys.GoodnessOfFit.*.root'):\n",
    "    f = ur.open(name_toys)\n",
    "    s_toys += list(f['limit']['limit'].array())\n",
    "\n",
    "content, center, _ = plt.hist(s_toys, label='Toys')\n",
    "plt.plot([s_obs, s_obs], [0, np.max(content)], 'm--', label='Observed')\n",
    "plt.legend(loc='best')\n",
    "\n",
    "p_val = np.sum(s_toys > s_obs)/float(len(s_toys))\n",
    "print 'p-value: {:.1f}%'.format(100*p_val)\n",
    "if p_val < 0.01: print p_val"
   ]
  },
  {
   "cell_type": "code",
   "execution_count": null,
   "metadata": {
    "ExecuteTime": {
     "end_time": "2020-06-02T02:10:52.967670Z",
     "start_time": "2020-06-02T01:58:20.316Z"
    }
   },
   "outputs": [],
   "source": [
    "os.system('mv *.root {}/'.format(outdir))"
   ]
  }
 ],
 "metadata": {
  "kernelspec": {
   "display_name": "Python 2",
   "language": "python",
   "name": "python2"
  },
  "language_info": {
   "codemirror_mode": {
    "name": "ipython",
    "version": 2
   },
   "file_extension": ".py",
   "mimetype": "text/x-python",
   "name": "python",
   "nbconvert_exporter": "python",
   "pygments_lexer": "ipython2",
   "version": "2.7.14+"
  },
  "varInspector": {
   "cols": {
    "lenName": 16,
    "lenType": 16,
    "lenVar": 40
   },
   "kernels_config": {
    "python": {
     "delete_cmd_postfix": "",
     "delete_cmd_prefix": "del ",
     "library": "var_list.py",
     "varRefreshCmd": "print(var_dic_list())"
    },
    "r": {
     "delete_cmd_postfix": ") ",
     "delete_cmd_prefix": "rm(",
     "library": "var_list.r",
     "varRefreshCmd": "cat(var_dic_list()) "
    }
   },
   "position": {
    "height": "308px",
    "left": "1550px",
    "right": "20px",
    "top": "120px",
    "width": "338px"
   },
   "types_to_exclude": [
    "module",
    "function",
    "builtin_function_or_method",
    "instance",
    "_Feature"
   ],
   "window_display": false
  }
 },
 "nbformat": 4,
 "nbformat_minor": 2
}
