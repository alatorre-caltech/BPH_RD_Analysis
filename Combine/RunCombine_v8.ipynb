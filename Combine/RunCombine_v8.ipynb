{
 "cells": [
  {
   "cell_type": "markdown",
   "metadata": {},
   "source": [
    "New:\n",
    " - Hc divided into 3 subsamples\n",
    " - PU/PV additional tracks ratio corrected"
   ]
  },
  {
   "cell_type": "code",
   "execution_count": 1,
   "metadata": {
    "ExecuteTime": {
     "end_time": "2020-05-28T00:25:34.786276Z",
     "start_time": "2020-05-28T00:25:34.777563Z"
    }
   },
   "outputs": [],
   "source": [
    "card_name = 'v8'"
   ]
  },
  {
   "cell_type": "code",
   "execution_count": 2,
   "metadata": {
    "ExecuteTime": {
     "end_time": "2020-05-28T00:25:34.827505Z",
     "start_time": "2020-05-28T00:25:34.790217Z"
    }
   },
   "outputs": [],
   "source": [
    "fit_real_data = True\n",
    "category = 'low'\n",
    "SM_RDst = 0.26\n",
    "fastRun = True\n",
    "card_name += '_'+category"
   ]
  },
  {
   "cell_type": "markdown",
   "metadata": {
    "heading_collapsed": true,
    "hide_input": true
   },
   "source": [
    "# Import"
   ]
  },
  {
   "cell_type": "code",
   "execution_count": 3,
   "metadata": {
    "ExecuteTime": {
     "end_time": "2020-05-28T00:25:35.231320Z",
     "start_time": "2020-05-28T00:25:34.832930Z"
    },
    "hidden": true
   },
   "outputs": [],
   "source": [
    "import sys, os, pickle, time\n",
    "from glob import glob\n",
    "sys.path.append('../lib')\n",
    "sys.path.append('../analysis')\n",
    "from categoriesDef import categories\n",
    "import itertools\n",
    "import commands\n",
    "from prettytable import PrettyTable\n",
    "import json, yaml\n",
    "from IPython.display import IFrame, Image, display"
   ]
  },
  {
   "cell_type": "code",
   "execution_count": 4,
   "metadata": {
    "ExecuteTime": {
     "end_time": "2020-05-28T00:25:44.771616Z",
     "start_time": "2020-05-28T00:25:35.236653Z"
    },
    "hidden": true
   },
   "outputs": [
    {
     "name": "stdout",
     "output_type": "stream",
     "text": [
      "Welcome to JupyROOT 6.12/07\n"
     ]
    }
   ],
   "source": [
    "import numpy as np\n",
    "import matplotlib.pyplot as plt\n",
    "from array import array\n",
    "\n",
    "import uproot as ur\n",
    "import ROOT as rt\n",
    "rt.gErrorIgnoreLevel = rt.kError\n",
    "rt.RooMsgService.instance().setGlobalKillBelow(rt.RooFit.ERROR)\n",
    "import root_numpy as rtnp\n",
    "\n",
    "from analysis_utilities import drawOnCMSCanvas, getEff, DSetLoader\n",
    "from pT_calibration_reader import pTCalReader\n",
    "from histo_utilities import create_TH1D, create_TH2D, std_color_list\n",
    "from gridVarQ2Plot import plot_gridVarQ2, plot_SingleCategory\n",
    "from progressBar import ProgressBar\n",
    "from lumi_utilities import getLumiByTrigger\n",
    "from combine_utilities import getUncertaintyFromLimitTree, dumpDiffNuisances, stringJubCustomizationCaltechT2\n",
    "\n",
    "import CMS_lumi, tdrstyle\n",
    "tdrstyle.setTDRStyle()\n",
    "CMS_lumi.writeExtraText = 1\n",
    "\n",
    "if fit_real_data:\n",
    "    CMS_lumi.extraText = \"     Preliminary\"\n",
    "else:\n",
    "    CMS_lumi.extraText = \"     Simulation Preliminary\"\n",
    "\n",
    "donotdelete = []"
   ]
  },
  {
   "cell_type": "code",
   "execution_count": 5,
   "metadata": {
    "ExecuteTime": {
     "end_time": "2020-05-28T00:25:44.792308Z",
     "start_time": "2020-05-28T00:25:44.776233Z"
    },
    "hidden": true
   },
   "outputs": [],
   "source": [
    "cat = categories[category]"
   ]
  },
  {
   "cell_type": "markdown",
   "metadata": {},
   "source": [
    "# Load the datasets"
   ]
  },
  {
   "cell_type": "code",
   "execution_count": 6,
   "metadata": {
    "ExecuteTime": {
     "end_time": "2020-05-28T00:26:06.145116Z",
     "start_time": "2020-05-28T00:25:44.796661Z"
    }
   },
   "outputs": [],
   "source": [
    "#They all have to be produced with the same pileup\n",
    "MCsample = {\n",
    "'mu' : DSetLoader('B0_MuNuDmst_PUc0'),\n",
    "'tau' : DSetLoader('B0_TauNuDmst_PUc0'),\n",
    "'DstmD0' : DSetLoader('B0_DstmD0_PUc0'),\n",
    "'DstmDp' : DSetLoader('B0_DstmDp_PUc0'),\n",
    "'DstmDsp' : DSetLoader('B0_DstmDsp_PUc0'),\n",
    "'BpDstmHc' : DSetLoader('Bp_DstmHc_PUc0'),\n",
    "'DstPip' : DSetLoader('Bp_MuNuDstst_Pip_PUc0'),\n",
    "'DstPi0' : DSetLoader('B0_MuNuDstst_Pi0_PUc0'),\n",
    "'DstPipPi0' : DSetLoader('Bp_MuNuDstst_PipPi0_PUc0'),\n",
    "'DstPipPim' : DSetLoader('B0_MuNuDstst_PipPim_PUc0'),\n",
    "'DstPi0Pi0' : DSetLoader('B0_MuNuDstst_Pi0Pi0_PUc0'),\n",
    "}\n",
    "dSet = {}\n",
    "dSetTkSide = {}\n",
    "for n, s in MCsample.iteritems():\n",
    "    dSet[n] = rtnp.root2array(s.skimmed_dir + '/{}_corr.root'.format(cat.name))\n",
    "    dSetTkSide[n] = rtnp.root2array(s.skimmed_dir + '/{}_trkCtrl_corr.root'.format(cat.name))"
   ]
  },
  {
   "cell_type": "code",
   "execution_count": 7,
   "metadata": {
    "ExecuteTime": {
     "end_time": "2020-05-28T00:26:07.854418Z",
     "start_time": "2020-05-28T00:26:06.151099Z"
    }
   },
   "outputs": [
    {
     "name": "stdout",
     "output_type": "stream",
     "text": [
      "Run2018D-05May2019promptD-v1_RDntuplizer_B2DstMu_200416\n",
      "HLT_Mu7_IP4_part2_v2 1.28\n",
      "Run2018D-05May2019promptD-v1_RDntuplizer_B2DstMu_200416\n",
      "HLT_Mu7_IP4_part1_v2 1.28\n",
      "Run2018D-05May2019promptD-v1_RDntuplizer_B2DstMu_200416\n",
      "HLT_Mu7_IP4_part4_v2 1.28\n",
      "Run2018D-05May2019promptD-v1_RDntuplizer_B2DstMu_200416\n",
      "HLT_Mu7_IP4_part3_v2 1.28\n",
      "Run2018D-05May2019promptD-v1_RDntuplizer_B2DstMu_200416\n",
      "HLT_Mu7_IP4_part0_v2 1.27\n",
      "Total lumi: 6.39 fb^-1\n"
     ]
    }
   ],
   "source": [
    "if fit_real_data:\n",
    "    creation_date = '200416'\n",
    "    locRD = '../data/cmsRD/skimmed/B2DstMu_{}_{}'.format(creation_date, cat.name)\n",
    "    dSet['data'] = rtnp.root2array(locRD + '_corr.root')\n",
    "    dSetTkSide['data'] = rtnp.root2array(locRD + '_trkCtrl_corr.root')\n",
    "    dataDir = '../data/cmsRD'\n",
    "    datasets_loc = glob(dataDir + '/ParkingBPH*/*RDntuplizer_B2DstMu_{}_CAND.root'.format(creation_date))\n",
    "    lumi_tot = getLumiByTrigger(datasets_loc, cat.trg, verbose=True)\n",
    "    CMS_lumi.integrated_lumi = lumi_tot\n",
    "else:\n",
    "    expectedLumi = {'low':6., 'mid':20., 'high':26., 'single':6.} #fb^-1\n",
    "    lumi_tot = expectedLumi[category]"
   ]
  },
  {
   "cell_type": "markdown",
   "metadata": {
    "heading_collapsed": true
   },
   "source": [
    "# Load all the calibrations"
   ]
  },
  {
   "cell_type": "markdown",
   "metadata": {
    "hidden": true
   },
   "source": [
    "Pileup"
   ]
  },
  {
   "cell_type": "code",
   "execution_count": 8,
   "metadata": {
    "ExecuteTime": {
     "end_time": "2020-05-28T00:26:08.068619Z",
     "start_time": "2020-05-28T00:26:07.860812Z"
    },
    "hidden": true
   },
   "outputs": [],
   "source": [
    "loc = '../data/cmsRD/ParkingBPH{}/Run2018D-05May2019promptD-v1_RDntuplizer_PrescaleVertices_200421_CAND.root'\n",
    "fAuxPileupRD = []\n",
    "\n",
    "hPileupTarget = None\n",
    "\n",
    "for i in range(2, 6):\n",
    "    fAuxPileupRD.append(rt.TFile.Open(loc.format(i), 'READ'))\n",
    "    if hPileupTarget is None:\n",
    "        hPileupTarget = fAuxPileupRD[-1].Get('nVtx/hNvtxPassed'+cat.trg).Clone()\n",
    "    else:\n",
    "        hPileupTarget.Add(fAuxPileupRD[-1].Get('nVtx/hNvtxPassed'+cat.trg))\n",
    "\n",
    "hPileupTarget.Scale(1./hPileupTarget.Integral())\n",
    "\n",
    "fAuxPileupMC = rt.TFile.Open(MCsample['mu'].skimmed_dir + '/{}_corr.root'.format(cat.name), 'READ')\n",
    "hPileupGen = fAuxPileupMC.Get('hAllNvtx')\n",
    "hPileupGen.Scale(1./hPileupGen.Integral())\n",
    "\n",
    "weights = np.ones(hPileupGen.GetNbinsX())\n",
    "s = 0\n",
    "for i in range(weights.shape[0]):\n",
    "    if hPileupGen.GetBinContent(i+1) == 0:\n",
    "        continue\n",
    "    weights[i] = hPileupTarget.GetBinContent(i+1)/hPileupGen.GetBinContent(i+1)\n",
    "    s += hPileupGen.GetBinContent(i+1) * weights[i]\n",
    "\n",
    "weightsPileupMC = weights/s\n",
    "\n",
    "for f in fAuxPileupRD + [fAuxPileupMC]:\n",
    "    f.Close()\n",
    "\n",
    "def getPileupWeights(ds, selection=None):\n",
    "    x = ds['N_vtx']\n",
    "    if not selection is None:\n",
    "        x = x[selection]\n",
    "    return weightsPileupMC[x.astype(np.int)]"
   ]
  },
  {
   "cell_type": "markdown",
   "metadata": {
    "hidden": true
   },
   "source": [
    "Total norm pre-scale"
   ]
  },
  {
   "cell_type": "code",
   "execution_count": 9,
   "metadata": {
    "ExecuteTime": {
     "end_time": "2020-05-28T00:26:08.170789Z",
     "start_time": "2020-05-28T00:26:08.073313Z"
    },
    "hidden": true
   },
   "outputs": [
    {
     "name": "stdout",
     "output_type": "stream",
     "text": [
      "Expected ratio between RD and MC norm: 2.632 +/- 0.063\n"
     ]
    }
   ],
   "source": [
    "r = np.zeros((3,2))\n",
    "for i, fn in enumerate(glob('../data/calibration/totalRate/ratioB02JPsiKst_*.txt')):\n",
    "    with open(fn, 'r') as faux:\n",
    "        aux = faux.readlines()[0][:-1].split(' ')\n",
    "        r[i] = [float(aux[0]), float(aux[1])]\n",
    "s2 = np.square(r[:,1])\n",
    "num = np.sum(r[:,0]/s2)\n",
    "den = np.sum(1./s2)\n",
    "RDoMC_normRatio = [num/den, np.sqrt(1/den)]\n",
    "print 'Expected ratio between RD and MC norm: {:.3f} +/- {:.3f}'.format(RDoMC_normRatio[0], RDoMC_normRatio[1])"
   ]
  },
  {
   "cell_type": "markdown",
   "metadata": {
    "hidden": true
   },
   "source": [
    "Branching fraction"
   ]
  },
  {
   "cell_type": "code",
   "execution_count": 10,
   "metadata": {
    "ExecuteTime": {
     "end_time": "2020-05-28T00:26:08.192174Z",
     "start_time": "2020-05-28T00:26:08.176242Z"
    },
    "hidden": true
   },
   "outputs": [],
   "source": [
    "decayBR = pickle.load(open('../data/forcedDecayChannelsFactors.pickle', 'rb'))"
   ]
  },
  {
   "cell_type": "markdown",
   "metadata": {
    "hidden": true
   },
   "source": [
    "Trigger scale factor"
   ]
  },
  {
   "cell_type": "code",
   "execution_count": 11,
   "metadata": {
    "ExecuteTime": {
     "end_time": "2020-05-28T00:26:08.249346Z",
     "start_time": "2020-05-28T00:26:08.197485Z"
    },
    "hidden": true
   },
   "outputs": [],
   "source": [
    "loc = '../data/calibration/triggerScaleFactors/'\n",
    "fTriggerSF = rt.TFile.Open(loc + 'HLT_' + cat.trg + '_SF.root', 'READ')\n",
    "hTriggerSF = fTriggerSF.Get('hSF_HLT_' + cat.trg)"
   ]
  },
  {
   "cell_type": "code",
   "execution_count": 12,
   "metadata": {
    "ExecuteTime": {
     "end_time": "2020-05-28T00:26:08.293125Z",
     "start_time": "2020-05-28T00:26:08.252615Z"
    },
    "hidden": true
   },
   "outputs": [],
   "source": [
    "def computeTrgSF(ds, selection=None):\n",
    "    trgSF = np.ones_like(ds['q2'])\n",
    "    trgSFUnc = np.zeros_like(ds['q2'])\n",
    "    if not fastRun:\n",
    "        ptmax = hTriggerSF.GetXaxis().GetXmax() - 0.01\n",
    "        ipmax = hTriggerSF.GetYaxis().GetXmax() - 0.01\n",
    "        etamax = hTriggerSF.GetZaxis().GetXmax() - 0.01\n",
    "        x = np.column_stack((ds['mu_pt'], ds['mu_eta'], ds['mu_sigdxy']))\n",
    "        if not selection is None:\n",
    "            x = x[selection]\n",
    "        for i, (pt, eta, ip) in enumerate(x):\n",
    "            ix = hTriggerSF.GetXaxis().FindBin(min(ptmax, pt))\n",
    "            iy = hTriggerSF.GetYaxis().FindBin(min(ipmax, ip))\n",
    "            iz = hTriggerSF.GetZaxis().FindBin(min(etamax, np.abs(eta)))\n",
    "            trgSF[i] = hTriggerSF.GetBinContent(ix, iy, iz)\n",
    "            ib = hTriggerSF.GetBin(ix, iy, iz)\n",
    "            trgSFUnc[i] = hTriggerSF.GetBinError(ib)\n",
    "            if trgSF[i] == 0:\n",
    "                print pt, ip, np.abs(eta)\n",
    "                raise\n",
    "    # Divide them for the weight so later you can simply multiply back to get the value\n",
    "    up = 1 + trgSFUnc/trgSF\n",
    "    down = 1 - trgSFUnc/trgSF\n",
    "    return trgSF, up, down"
   ]
  },
  {
   "cell_type": "markdown",
   "metadata": {
    "hidden": true
   },
   "source": [
    "Muon ID scale factors"
   ]
  },
  {
   "cell_type": "code",
   "execution_count": 13,
   "metadata": {
    "ExecuteTime": {
     "end_time": "2020-05-28T00:26:08.332797Z",
     "start_time": "2020-05-28T00:26:08.297326Z"
    },
    "hidden": true
   },
   "outputs": [],
   "source": [
    "fMuonIDSF = rt.TFile.Open('../data/calibration/muonIDscaleFactors/Run2018ABCD_SF_MuonID_Jpsi.root', 'READ')\n",
    "hMuonIDSF = fMuonIDSF.Get('NUM_SoftID_DEN_genTracks_pt_abseta')"
   ]
  },
  {
   "cell_type": "code",
   "execution_count": 14,
   "metadata": {
    "ExecuteTime": {
     "end_time": "2020-05-28T00:26:08.396425Z",
     "start_time": "2020-05-28T00:26:08.337283Z"
    },
    "hidden": true
   },
   "outputs": [],
   "source": [
    "def computeMuonIDSF(ds, selection=None):\n",
    "    muonSF = np.ones_like(ds['q2'])\n",
    "    muonSFUnc = np.zeros_like(ds['q2'])\n",
    "    if not fastRun:\n",
    "        ptmax = hMuonIDSF.GetXaxis().GetXmax() - 0.01\n",
    "        etamax = hMuonIDSF.GetYaxis().GetXmax() - 0.01\n",
    "        x = np.column_stack((ds['MC_mu_pt'], ds['MC_mu_eta']))\n",
    "        if not selection is None:\n",
    "            x = x[selection]\n",
    "        for i, (pt, eta) in enumerate(x):\n",
    "            ix = hMuonIDSF.GetXaxis().FindBin(min(pt, ptmax))\n",
    "            if ix == 0: ix = 1 #Remove underflows (Meaning that the MC matching failed)\n",
    "            iy = hMuonIDSF.GetYaxis().FindBin(min(np.abs(eta), etamax))\n",
    "            muonSF[i] = hMuonIDSF.GetBinContent(ix, iy)\n",
    "            muonSFUnc[i] = hMuonIDSF.GetBinError(hMuonIDSF.GetBin(ix, iy))\n",
    "            if muonSF[i] == 0:\n",
    "                print pt, eta\n",
    "                print ix, iy\n",
    "                raise\n",
    "    up = 1 + muonSFUnc/muonSF\n",
    "    down = 1 - muonSFUnc/muonSF\n",
    "    return muonSF, up, down"
   ]
  },
  {
   "cell_type": "markdown",
   "metadata": {
    "hidden": true
   },
   "source": [
    "B transverse momentum calibration"
   ]
  },
  {
   "cell_type": "code",
   "execution_count": 15,
   "metadata": {
    "ExecuteTime": {
     "end_time": "2020-05-28T00:26:08.444695Z",
     "start_time": "2020-05-28T00:26:08.399615Z"
    },
    "hidden": true
   },
   "outputs": [],
   "source": [
    "aux = 'Low' if category == 'single' else cat.name\n",
    "cal_pT = pTCalReader(calibration_file='../data/calibration/B0pTspectrum/pwWeights_{}.txt'.format(aux))"
   ]
  },
  {
   "cell_type": "code",
   "execution_count": 16,
   "metadata": {
    "ExecuteTime": {
     "end_time": "2020-05-28T00:26:08.466943Z",
     "start_time": "2020-05-28T00:26:08.449070Z"
    },
    "hidden": true
   },
   "outputs": [],
   "source": [
    "def computeB0pTweights(ds):\n",
    "    # The denominator (sum of weights) for this weights is not known but it cancel out in the ratio\n",
    "    w = cal_pT.f['C'](ds['MC_B_pt'])\n",
    "    if np.sum(w==0):\n",
    "        print np.sum(w==0)\n",
    "        raise\n",
    "    up = cal_pT.f['Up'](ds['MC_B_pt'])/w\n",
    "    down = cal_pT.f['Down'](ds['MC_B_pt'])/w\n",
    "    return w, up, down"
   ]
  },
  {
   "cell_type": "code",
   "execution_count": 17,
   "metadata": {
    "ExecuteTime": {
     "end_time": "2020-05-28T00:26:08.487044Z",
     "start_time": "2020-05-28T00:26:08.471265Z"
    },
    "hidden": true
   },
   "outputs": [],
   "source": [
    "def computeBrVarWeights(ds, selItems={}, relScale=0.2, keepNorm=False):\n",
    "    sel = np.ones_like(ds['mu_pt']).astype(np.bool)\n",
    "    for var, val in selItems.iteritems():\n",
    "        sel = np.logical_and(ds[var].astype(np.int) == val, sel)\n",
    "    w = np.ones_like(sel)\n",
    "    up = np.where(sel, 1.+relScale, 1.)\n",
    "    down = np.where(sel, max(0, 1.-relScale), 1.)\n",
    "    if keepNorm:\n",
    "        up = float(up.shape[0])/np.sum(up)\n",
    "        down = float(down.shape[0])/np.sum(down)\n",
    "    return w, up, down"
   ]
  },
  {
   "cell_type": "code",
   "execution_count": 18,
   "metadata": {
    "ExecuteTime": {
     "end_time": "2020-05-28T00:26:08.516475Z",
     "start_time": "2020-05-28T00:26:08.490858Z"
    },
    "hidden": true
   },
   "outputs": [],
   "source": [
    "def computeTksPVweights(ds, relScale=0.1, centralVal=0.430/0.117):\n",
    "    selPdgID0 = np.logical_and(np.abs(ds['MC_tkMotherPdgId_0']) < 6, ds['MC_tkMotherPdgId_0'] != 0)\n",
    "    selPdgID0 = np.logical_or(selPdgID0, ds['MC_tkMotherPdgId_0']==2212)\n",
    "    selPdgID0 = np.logical_and(selPdgID0, ds['MC_tkFlag_0'] == 1)\n",
    "    selPdgID1 = np.logical_and(np.abs(ds['MC_tkMotherPdgId_1']) < 6, ds['MC_tkMotherPdgId_1'] != 0)\n",
    "    selPdgID1 = np.logical_or(selPdgID1, ds['MC_tkMotherPdgId_1']==2212)\n",
    "    selPdgID1 = np.logical_and( selPdgID1, ds['MC_tkFlag_1'] == 1)\n",
    "    exponent = selPdgID0.astype(np.int) + selPdgID1.astype(np.int)\n",
    "    w = np.power(centralVal, exponent)\n",
    "    up = np.power(centralVal*(1+relScale), exponent)/w\n",
    "    down = np.power(centralVal*(1-relScale), exponent)/w\n",
    "    return w, up, down"
   ]
  },
  {
   "cell_type": "markdown",
   "metadata": {},
   "source": [
    "# Create MC histograms"
   ]
  },
  {
   "cell_type": "markdown",
   "metadata": {},
   "source": [
    "### Signal region"
   ]
  },
  {
   "cell_type": "code",
   "execution_count": 19,
   "metadata": {
    "ExecuteTime": {
     "end_time": "2020-05-28T00:26:08.547901Z",
     "start_time": "2020-05-28T00:26:08.520655Z"
    },
    "hide_input": false
   },
   "outputs": [],
   "source": [
    "binning = {\n",
    "    'M2_miss' : [\n",
    "        array('d', [-2.5] + list(np.arange(-1.8, 1.0, 0.4)) + [8] ),\n",
    "        array('d', [-2.5] + list(np.arange(-1.8, 3.0, 0.4)) + [8] ),\n",
    "        array('d', [-2.5] + list(np.arange(-1.8, 5.6, 0.4)) + [8] ),\n",
    "        array('d', [-2.5] + list(np.arange(-1.8, 7.6, 0.4)) + [8] ),\n",
    "    ],\n",
    "    'Est_mu'  : [\n",
    "        array('d', [0.3] + list(np.arange(0.7, 2.3, 0.1)) + [2.5] ),\n",
    "        array('d', [0.3] + list(np.arange(0.7, 2.5, 0.1)) + [2.5] ),\n",
    "        array('d', [0.3] + list(np.arange(0.5, 2.5, 0.1)) + [2.5] ),\n",
    "        [22, 0.3, 2.500],\n",
    "    ],\n",
    "}\n",
    "if fit_real_data:\n",
    "#     binning['q2'] = array('d', [-2, 2.5, 6, 9.4, 12])\n",
    "    binning['q2'] = array('d', [-2, 2.5, 6])\n",
    "else:\n",
    "    binning['q2'] = array('d', [-2, 2.5, 6, 9.4, 12])"
   ]
  },
  {
   "cell_type": "code",
   "execution_count": 20,
   "metadata": {
    "ExecuteTime": {
     "end_time": "2020-05-28T00:26:11.271539Z",
     "start_time": "2020-05-28T00:26:08.552307Z"
    },
    "code_folding": [],
    "hide_input": false,
    "scrolled": true
   },
   "outputs": [
    {
     "name": "stdout",
     "output_type": "stream",
     "text": [
      "\n",
      "-----------> tau <-------------\n",
      "N tot selected: 61.4k\n",
      "N tot expected (before weights): 6.10k\n",
      "Including pileup reweighting\n",
      "Including trigger corrections\n",
      "Including muon ID corrections\n",
      "Including B0 pT corrections\n",
      "Including FF corrections (Hammer)\n",
      "Computing total weights\n",
      "N tot expected (after weights): 6.68k\n",
      "\n",
      "-----------> DstmDp <-------------\n",
      "N tot selected: 5.8k\n",
      "N tot expected (before weights): 0.17k\n",
      "Including pileup reweighting\n",
      "Including trigger corrections\n",
      "Including muon ID corrections\n",
      "Including B0 pT corrections\n",
      "Computing total weights\n",
      "N tot expected (after weights): 0.19k\n",
      "\n",
      "-----------> DstPipPi0 <-------------\n",
      "N tot selected: 3.4k\n",
      "N tot expected (before weights): 0.39k\n",
      "Including pileup reweighting\n",
      "Including trigger corrections\n",
      "Including muon ID corrections\n",
      "Computing total weights\n",
      "N tot expected (after weights): 0.41k\n",
      "\n",
      "-----------> DstPip <-------------\n",
      "N tot selected: 36.6k\n",
      "N tot expected (before weights): 4.02k\n",
      "Including pileup reweighting\n",
      "Including trigger corrections\n",
      "Including muon ID corrections\n",
      "Computing total weights\n",
      "N tot expected (after weights): 4.22k\n",
      "\n",
      "-----------> mu <-------------\n",
      "N tot selected: 595.1k\n",
      "N tot expected (before weights): 119.31k\n",
      "Including pileup reweighting\n",
      "Including trigger corrections\n",
      "Including muon ID corrections\n",
      "Including B0 pT corrections\n",
      "Including FF corrections (Hammer)\n",
      "Computing total weights\n",
      "N tot expected (after weights): 124.00k\n",
      "\n",
      "-----------> DstmDsp <-------------\n",
      "N tot selected: 17.6k\n",
      "N tot expected (before weights): 0.76k\n",
      "Including pileup reweighting\n",
      "Including trigger corrections\n",
      "Including muon ID corrections\n",
      "Including B0 pT corrections\n",
      "Computing total weights\n",
      "N tot expected (after weights): 0.83k\n",
      "\n",
      "-----------> DstPi0 <-------------\n",
      "N tot selected: 49.3k\n",
      "N tot expected (before weights): 5.03k\n",
      "Including pileup reweighting\n",
      "Including trigger corrections\n",
      "Including muon ID corrections\n",
      "Including B0 pT corrections\n",
      "Computing total weights\n",
      "N tot expected (after weights): 5.44k\n",
      "\n",
      "-----------> DstPipPim <-------------\n",
      "N tot selected: 2.0k\n",
      "N tot expected (before weights): 0.28k\n",
      "Including pileup reweighting\n",
      "Including trigger corrections\n",
      "Including muon ID corrections\n",
      "Including B0 pT corrections\n",
      "Computing total weights\n",
      "N tot expected (after weights): 0.29k\n",
      "\n",
      "-----------> DstmD0 <-------------\n",
      "N tot selected: 0.8k\n",
      "N tot expected (before weights): 0.04k\n",
      "Including pileup reweighting\n",
      "Including trigger corrections\n",
      "Including muon ID corrections\n",
      "Including B0 pT corrections\n",
      "Computing total weights\n",
      "N tot expected (after weights): 0.04k\n",
      "\n",
      "-----------> BpDstmHc <-------------\n",
      "N tot selected: 2.0k\n",
      "N tot expected (before weights): 0.01k\n",
      "Including pileup reweighting\n",
      "Including trigger corrections\n",
      "Including muon ID corrections\n",
      "Computing total weights\n",
      "N tot expected (after weights): 0.01k\n",
      "\n",
      "-----------> DstPi0Pi0 <-------------\n",
      "N tot selected: 23.3k\n",
      "N tot expected (before weights): 0.52k\n",
      "Including pileup reweighting\n",
      "Including trigger corrections\n",
      "Including muon ID corrections\n",
      "Including B0 pT corrections\n",
      "Computing total weights\n",
      "N tot expected (after weights): 0.57k\n"
     ]
    }
   ],
   "source": [
    "histo = {}\n",
    "for n, ds in dSet.iteritems():\n",
    "    if n == 'data': continue\n",
    "    print '\\n----------->', n, '<-------------'\n",
    "    sMC = MCsample[n]\n",
    "    \n",
    "    nTotSelected = ds['q2'].shape[0]\n",
    "    print 'N tot selected: {:.1f}k'.format(1e-3*nTotSelected)\n",
    "    nGenExp = sMC.effMCgen['xsec'][0] * lumi_tot * RDoMC_normRatio[0]\n",
    "    eff = [1, 0]\n",
    "    for f, df in [sMC.effMCgen['effGEN'], decayBR[n], sMC.effCand['effCAND'], sMC.getSkimEff(cat.name+'_corr')]:\n",
    "        eff[0] *= f\n",
    "        eff[1] += np.square(df/f)\n",
    "    eff[1] = eff[0] * np.sqrt(eff[1])\n",
    "    nTotExp = nGenExp*eff[0]\n",
    "    print 'N tot expected (before weights): {:.2f}k'.format(1e-3*nTotExp)\n",
    "    \n",
    "    wVar = {}\n",
    "    weights = {}\n",
    "    \n",
    "    print 'Including pileup reweighting'\n",
    "    weights['pileup'] = getPileupWeights(ds)\n",
    "    print 'Including trigger corrections'\n",
    "    weights['trgSF'], wVar['trgSFUp'], wVar['trgSFDown'] = computeTrgSF(ds)\n",
    "    print 'Including muon ID corrections'\n",
    "    weights['muonIdSF'], wVar['muonIdSFUp'], wVar['muonIdSFDown'] = computeMuonIDSF(ds)\n",
    "    if n in ['mu', 'tau', 'DstmD0', 'DstmDp', 'DstmDsp','DstPi0', 'DstPipPim', 'DstPi0Pi0']: #B0 dominated final states (probably we should do something about B+ too)\n",
    "        print 'Including B0 pT corrections'\n",
    "        weights['B0pT'], wVar['B0pTUp'], wVar['B0pTDown'] = computeB0pTweights(ds)\n",
    "    # Hammer corrections to the FF\n",
    "    if n in ['mu', 'tau']:\n",
    "        print 'Including FF corrections (Hammer)'\n",
    "        weights['B2DstCLN'] = ds['wh_CLNCentral']*sMC.effCand['rate_den']/sMC.effCand['rate_Central']\n",
    "        for nPar in ['R0', 'R1', 'R2', 'RhoSq']:\n",
    "            for var in ['Up', 'Down']:\n",
    "                tag = 'CLN' + nPar + var\n",
    "                wVar['B2Dst'+tag] = ds['wh_'+tag]/sMC.effCand['rate_' + nPar + var]\n",
    "                wVar['B2Dst'+tag] *= sMC.effCand['rate_Central']/ds['wh_CLNCentral']\n",
    "    #Dstst resonance mix\n",
    "    if n == 'DstPip':\n",
    "        _, wVar['fDststWideUp'], wVar['fDststWideDown'] = computeBrVarWeights(ds, {'MC_munuSisterPdgId': -20423}, 0.6/2.7, keepNorm=True) #Gamma 14 pdg 2020\n",
    "    #Hc mix variations\n",
    "    if n == 'DstmD0':\n",
    "        _, wVar['BrB02DstD0KpUp'], wVar['BrB02DstD0KpDown'] = computeBrVarWeights(ds, {'MC_DstSisterPdgId_heavy': 421, 'MC_DstSisterPdgId_light': 321}, 0.21/2.47) #Gamma 169 pdg 2020\n",
    "        _, wVar['BrB02DstD0KstpUp'], wVar['BrB02DstD0KstpDown'] = computeBrVarWeights(ds, {'MC_DstSisterPdgId_heavy': 421, 'MC_DstSisterPdgId_light': 323}, 0.5) # Guess\n",
    "        _, wVar['BrB02DstDst0KpUp'], wVar['BrB02DstDst0KpDown'] = computeBrVarWeights(ds, {'MC_DstSisterPdgId_heavy': 423, 'MC_DstSisterPdgId_light': 321}, 0.09/1.06) #Gamma 170 pdg 2020\n",
    "        _, wVar['BrB02DstDst0KstpUp'], wVar['BrB02DstDst0KstpDown'] = computeBrVarWeights(ds, {'MC_DstSisterPdgId_heavy': 423, 'MC_DstSisterPdgId_light': 323}, 0.5) # Guess\n",
    "        _, wVar['BrB02DstDstpK0Up'], wVar['BrB02DstDstpK0Down'] = computeBrVarWeights(ds, {'MC_DstSisterPdgId_heavy': 413, 'MC_DstSisterPdgId_light': 311}, 0.5/5.3) #Gamma 173 pdg 2020\n",
    "        _, wVar['BrB02DstDstpKst0Up'], wVar['BrB02DstDstpKst0Down'] = computeBrVarWeights(ds, {'MC_DstSisterPdgId_heavy': 413, 'MC_DstSisterPdgId_light': 313}, 0.5) # Guess\n",
    "    if n == 'DstmDp':\n",
    "        _, wVar['BrB02DstDpK0Up'], wVar['BrB02DstDpK0Down'] = computeBrVarWeights(ds, {'MC_DstSisterPdgId_heavy': 411, 'MC_DstSisterPdgId_light': 311}, 0.5/3.2) #Gamma 172 pdg 2020\n",
    "        _, wVar['BrB02DstDpKst0Up'], wVar['BrB02DstDpKst0Down'] = computeBrVarWeights(ds, {'MC_DstSisterPdgId_heavy': 411, 'MC_DstSisterPdgId_light': 313}, 0.5) # Guess\n",
    "        _, wVar['BrB02DstDstpK0Up'], wVar['BrB02DstDstpK0Down'] = computeBrVarWeights(ds, {'MC_DstSisterPdgId_heavy': 413, 'MC_DstSisterPdgId_light': 311}, 0.2/2.7) #Gamma 173 pdg 2020\n",
    "        _, wVar['BrB02DstDstpKst0Up'], wVar['BrB02DstDstpKst0Down'] = computeBrVarWeights(ds, {'MC_DstSisterPdgId_heavy': 413, 'MC_DstSisterPdgId_light': 313}, 0.5) # Guess\n",
    "    if n == 'DstmDsp':\n",
    "        _, wVar['BrB02DstDsUp'], wVar['BrB02DstDsDown'] = computeBrVarWeights(ds, {'MC_DstSisterPdgId_heavy': 431}, 1.1/8.0) #Gamma 83 pdg 2020\n",
    "        _, wVar['BrB02DstDsstUp'], wVar['BrB02DstDsstDown'] = computeBrVarWeights(ds, {'MC_DstSisterPdgId_heavy': 433}, .14/1.77) #Gamma 85 pdg 2020\n",
    "        _, wVar['BrB02DstDs0stUp'], wVar['BrB02DstDs0stDown'] = computeBrVarWeights(ds, {'MC_DstSisterPdgId_heavy': 10431}, .6/1.5) #Gamma 95 pdg 2020\n",
    "    \n",
    "    print 'Computing total weights'\n",
    "    weightsCentral = np.ones_like(ds['q2'])\n",
    "    for w in weights.values(): weightsCentral *= w\n",
    "    print 'N tot expected (after weights): {:.2f}k'.format(1e-3*nTotExp*np.sum(weightsCentral)/nTotSelected)\n",
    "    wVar[''] = np.ones_like(weightsCentral)\n",
    "    \n",
    "    for i_q2 in range(len(binning['q2'])-1):\n",
    "        q2_l = binning['q2'][i_q2]\n",
    "        q2_h = binning['q2'][i_q2 + 1]\n",
    "        sel_q2 = np.logical_and(ds['q2'] > q2_l, ds['q2'] < q2_h)\n",
    "        for var in ['M2_miss', 'Est_mu']:\n",
    "            cat_name = var+'_q2bin'+str(i_q2)\n",
    "            \n",
    "            if not cat_name in histo.keys():\n",
    "                histo[cat_name] = {}\n",
    "            \n",
    "            for name_wVar, v_wVar in wVar.iteritems():\n",
    "                h_name = n\n",
    "                if not name_wVar == '':\n",
    "                    h_name += '__' + name_wVar\n",
    "                w = weightsCentral*v_wVar\n",
    "                scale = nTotExp/nTotSelected\n",
    "                histo[cat_name][h_name] = create_TH1D(\n",
    "                                                      ds[var][sel_q2], \n",
    "                                                      name=h_name, title=h_name, \n",
    "                                                      binning=binning[var][i_q2], \n",
    "                                                      opt='underflow,overflow',\n",
    "                                                      weights=w[sel_q2], scale_histo=scale,\n",
    "                                                      )"
   ]
  },
  {
   "cell_type": "markdown",
   "metadata": {},
   "source": [
    "### Single track side"
   ]
  },
  {
   "cell_type": "code",
   "execution_count": 21,
   "metadata": {
    "ExecuteTime": {
     "end_time": "2020-05-28T00:26:11.355449Z",
     "start_time": "2020-05-28T00:26:11.276173Z"
    }
   },
   "outputs": [],
   "source": [
    "sideSelecton = {}\n",
    "sideVar = {}\n",
    "sideXtitle = {}\n",
    "sideAddtext = {}\n",
    "\n",
    "def selfun__TkPlus(ds):\n",
    "    sel = np.logical_and(ds['N_goodAddTks'] == 1, ds['tkCharge_0'] > 0)\n",
    "    return sel\n",
    "#     return np.logical_and(np.abs(ds['tkMassHad_0'] - 2.43) < 0.3, sel)\n",
    "sideSelecton['AddTk_p_mHad'] = selfun__TkPlus\n",
    "sideVar['AddTk_p_mHad'] = 'tkMassHad_0'\n",
    "binning['AddTk_p_mHad'] = [35, 2.13, 2.83]\n",
    "sideXtitle['AddTk_p_mHad'] = 'Total hadrons mass'\n",
    "sideAddtext['AddTk_p_mHad'] = 'N_{tk} = 1 & Q_{tk} = +1'\n",
    "\n",
    "def selfun__TkMinus(ds):\n",
    "    sel = np.logical_and(ds['N_goodAddTks'] == 1, ds['tkCharge_0'] < 0)\n",
    "    return sel\n",
    "sideSelecton['AddTk_m_mHad'] = selfun__TkMinus\n",
    "sideVar['AddTk_m_mHad'] = 'tkMassHad_0'\n",
    "binning['AddTk_m_mHad'] = [30, 2.1, 3.3]\n",
    "sideXtitle['AddTk_m_mHad'] = 'Total hadrons mass'\n",
    "sideAddtext['AddTk_m_mHad'] = 'N_{tk} = 1 & Q_{tk} = -1'\n",
    "\n",
    "# sideSelecton['AddTk_m_tkPt'] = selfun__TkMinus\n",
    "# sideVar['AddTk_m_tkPt'] = 'tkPt_0'\n",
    "# binning['AddTk_m_tkPt'] = np.logspace(np.log10(0.5), np.log10(5.0), 30)\n",
    "# sideXtitle['AddTk_m_tkPt'] = 'Additional track p_{T}'\n",
    "# sideAddtext['AddTk_m_tkPt'] = 'N_{tk} = 1 & Q_{tk} = -1'\n",
    "\n",
    "\n",
    "def selfun__TkPlusMinus(ds):\n",
    "    sel = np.logical_and(ds['tkCharge_0']+ds['tkCharge_1'] == 0, ds['N_goodAddTks'] == 2)\n",
    "    sel = np.logical_and(ds['tkMassVis12'] < 5.3, sel)\n",
    "    return sel\n",
    "sideSelecton['AddTk_pm_mVis'] = selfun__TkPlusMinus\n",
    "sideVar['AddTk_pm_mVis'] = 'tkMassVis12'\n",
    "binning['AddTk_pm_mVis'] = array('d', [2.8] + list(np.arange(3., 5.3, 0.1)) + [5.3] )\n",
    "sideXtitle['AddTk_pm_mVis'] = 'Total visible mass'\n",
    "sideAddtext['AddTk_pm_mVis'] = 'N_{tk} = 2 & #sumQ_{tk} = 0'\n",
    "\n",
    "\n",
    "sideSelecton['AddTk_pm_mHad'] = selfun__TkPlusMinus\n",
    "sideVar['AddTk_pm_mHad'] = 'tkMassHad12'\n",
    "binning['AddTk_pm_mHad'] = [30, 2.3, 3.75]\n",
    "sideXtitle['AddTk_pm_mHad'] = 'Total hadrons mass'\n",
    "sideAddtext['AddTk_pm_mHad'] = 'N_{tk} = 2 & #sumQ_{tk} = 0'\n",
    "\n",
    "def selfun__TkMinusMinus(ds):\n",
    "    sel = np.logical_and(ds['tkCharge_0']+ds['tkCharge_1'] == -2, ds['N_goodAddTks'] == 2)\n",
    "    sel = np.logical_and(ds['tkMassVis12'] < 5.3, sel)\n",
    "    return sel\n",
    "sideSelecton['AddTk_mm_mHad'] = selfun__TkMinusMinus\n",
    "sideVar['AddTk_mm_mHad'] = 'tkMassHad12'\n",
    "binning['AddTk_mm_mHad'] = [15, 2.25, 3.6]\n",
    "sideXtitle['AddTk_mm_mHad'] = 'Total hadrons mass'\n",
    "sideAddtext['AddTk_mm_mHad'] = 'N_{tk} = 2 & #sumQ_{tk} = -2'\n",
    "\n",
    "def selfun__TkPlusPlus(ds):\n",
    "    sel = np.logical_and(ds['tkCharge_0']+ds['tkCharge_1'] == +2, ds['N_goodAddTks'] == 2)\n",
    "    sel = np.logical_and(ds['tkMassVis12'] < 5.3, sel)\n",
    "    return sel\n",
    "sideSelecton['AddTk_pp_mHad'] = selfun__TkPlusPlus\n",
    "sideVar['AddTk_pp_mHad'] = 'tkMassHad12'\n",
    "binning['AddTk_pp_mHad'] = [15, 2.25, 3.75]\n",
    "sideXtitle['AddTk_pp_mHad'] = 'Total hadrons mass'\n",
    "sideAddtext['AddTk_pp_mHad'] = 'N_{tk} = 2 & #sumQ_{tk} = +2'"
   ]
  },
  {
   "cell_type": "code",
   "execution_count": 22,
   "metadata": {
    "ExecuteTime": {
     "end_time": "2020-05-28T00:26:12.154315Z",
     "start_time": "2020-05-28T00:26:11.360115Z"
    },
    "scrolled": true
   },
   "outputs": [
    {
     "name": "stdout",
     "output_type": "stream",
     "text": [
      "\n",
      "-----------> tau <-------------\n",
      "Including pileup reweighting\n",
      "Including trigger corrections\n",
      "Including muon ID corrections\n",
      "Including B0 pT corrections\n",
      "Including FF corrections (Hammer)\n",
      "Computing total weights\n",
      "N tot selected AddTk_pm_mHad: 148\n",
      "N tot expected AddTk_pm_mHad (before weights): 15\n",
      "N tot expected AddTk_pm_mHad (after weights): 37\n",
      "N tot selected AddTk_m_mHad: 1883\n",
      "N tot expected AddTk_m_mHad (before weights): 187\n",
      "N tot expected AddTk_m_mHad (after weights): 253\n",
      "N tot selected AddTk_p_mHad: 2160\n",
      "N tot expected AddTk_p_mHad (before weights): 215\n",
      "N tot expected AddTk_p_mHad (after weights): 302\n",
      "N tot selected AddTk_pp_mHad: 68\n",
      "N tot expected AddTk_pp_mHad (before weights): 7\n",
      "N tot expected AddTk_pp_mHad (after weights): 14\n",
      "N tot selected AddTk_mm_mHad: 51\n",
      "N tot expected AddTk_mm_mHad (before weights): 5\n",
      "N tot expected AddTk_mm_mHad (after weights): 10\n",
      "N tot selected AddTk_pm_mVis: 148\n",
      "N tot expected AddTk_pm_mVis (before weights): 15\n",
      "N tot expected AddTk_pm_mVis (after weights): 37\n",
      "\n",
      "-----------> DstmDp <-------------\n",
      "Including pileup reweighting\n",
      "Including trigger corrections\n",
      "Including muon ID corrections\n",
      "Including B0 pT corrections\n",
      "Computing total weights\n",
      "N tot selected AddTk_pm_mHad: 1749\n",
      "N tot expected AddTk_pm_mHad (before weights): 51\n",
      "N tot expected AddTk_pm_mHad (after weights): 60\n",
      "N tot selected AddTk_m_mHad: 735\n",
      "N tot expected AddTk_m_mHad (before weights): 22\n",
      "N tot expected AddTk_m_mHad (after weights): 25\n",
      "N tot selected AddTk_p_mHad: 911\n",
      "N tot expected AddTk_p_mHad (before weights): 27\n",
      "N tot expected AddTk_p_mHad (after weights): 32\n",
      "N tot selected AddTk_pp_mHad: 43\n",
      "N tot expected AddTk_pp_mHad (before weights): 1\n",
      "N tot expected AddTk_pp_mHad (after weights): 2\n",
      "N tot selected AddTk_mm_mHad: 19\n",
      "N tot expected AddTk_mm_mHad (before weights): 1\n",
      "N tot expected AddTk_mm_mHad (after weights): 1\n",
      "N tot selected AddTk_pm_mVis: 1749\n",
      "N tot expected AddTk_pm_mVis (before weights): 51\n",
      "N tot expected AddTk_pm_mVis (after weights): 60\n",
      "\n",
      "-----------> DstPipPi0 <-------------\n",
      "Including pileup reweighting\n",
      "Including trigger corrections\n",
      "Including muon ID corrections\n",
      "Computing total weights\n",
      "N tot selected AddTk_pm_mHad: 275\n",
      "N tot expected AddTk_pm_mHad (before weights): 31\n",
      "N tot expected AddTk_pm_mHad (after weights): 45\n",
      "N tot selected AddTk_m_mHad: 149\n",
      "N tot expected AddTk_m_mHad (before weights): 17\n",
      "N tot expected AddTk_m_mHad (after weights): 26\n",
      "N tot selected AddTk_p_mHad: 6548\n",
      "N tot expected AddTk_p_mHad (before weights): 749\n",
      "N tot expected AddTk_p_mHad (after weights): 794\n",
      "N tot selected AddTk_pp_mHad: 197\n",
      "N tot expected AddTk_pp_mHad (before weights): 23\n",
      "N tot expected AddTk_pp_mHad (after weights): 33\n",
      "N tot selected AddTk_mm_mHad: 6\n",
      "N tot expected AddTk_mm_mHad (before weights): 1\n",
      "N tot expected AddTk_mm_mHad (after weights): 0\n",
      "N tot selected AddTk_pm_mVis: 275\n",
      "N tot expected AddTk_pm_mVis (before weights): 31\n",
      "N tot expected AddTk_pm_mVis (after weights): 45\n",
      "\n",
      "-----------> DstPip <-------------\n",
      "Including pileup reweighting\n",
      "Including trigger corrections\n",
      "Including muon ID corrections\n",
      "Computing total weights\n",
      "N tot selected AddTk_pm_mHad: 2586\n",
      "N tot expected AddTk_pm_mHad (before weights): 284\n",
      "N tot expected AddTk_pm_mHad (after weights): 424\n",
      "N tot selected AddTk_m_mHad: 1767\n",
      "N tot expected AddTk_m_mHad (before weights): 194\n",
      "N tot expected AddTk_m_mHad (after weights): 267\n",
      "N tot selected AddTk_p_mHad: 62441\n",
      "N tot expected AddTk_p_mHad (before weights): 6846\n",
      "N tot expected AddTk_p_mHad (after weights): 7219\n",
      "N tot selected AddTk_pp_mHad: 1817\n",
      "N tot expected AddTk_pp_mHad (before weights): 199\n",
      "N tot expected AddTk_pp_mHad (after weights): 252\n",
      "N tot selected AddTk_mm_mHad: 63\n",
      "N tot expected AddTk_mm_mHad (before weights): 7\n",
      "N tot expected AddTk_mm_mHad (after weights): 11\n",
      "N tot selected AddTk_pm_mVis: 2586\n",
      "N tot expected AddTk_pm_mVis (before weights): 284\n",
      "N tot expected AddTk_pm_mVis (after weights): 424\n",
      "\n",
      "-----------> mu <-------------\n",
      "Including pileup reweighting\n",
      "Including trigger corrections\n",
      "Including muon ID corrections\n",
      "Including B0 pT corrections\n",
      "Including FF corrections (Hammer)\n",
      "Computing total weights\n",
      "N tot selected AddTk_pm_mHad: 2096\n",
      "N tot expected AddTk_pm_mHad (before weights): 420\n",
      "N tot expected AddTk_pm_mHad (after weights): 837\n",
      "N tot selected AddTk_m_mHad: 24530\n",
      "N tot expected AddTk_m_mHad (before weights): 4918\n",
      "N tot expected AddTk_m_mHad (after weights): 6176\n",
      "N tot selected AddTk_p_mHad: 27841\n",
      "N tot expected AddTk_p_mHad (before weights): 5582\n",
      "N tot expected AddTk_p_mHad (after weights): 7309\n",
      "N tot selected AddTk_pp_mHad: 962\n",
      "N tot expected AddTk_pp_mHad (before weights): 193\n",
      "N tot expected AddTk_pp_mHad (after weights): 325\n",
      "N tot selected AddTk_mm_mHad: 745\n",
      "N tot expected AddTk_mm_mHad (before weights): 149\n",
      "N tot expected AddTk_mm_mHad (after weights): 258\n",
      "N tot selected AddTk_pm_mVis: 2096\n",
      "N tot expected AddTk_pm_mVis (before weights): 420\n",
      "N tot expected AddTk_pm_mVis (after weights): 837\n",
      "\n",
      "-----------> DstmDsp <-------------\n",
      "Including pileup reweighting\n",
      "Including trigger corrections\n",
      "Including muon ID corrections\n",
      "Including B0 pT corrections\n",
      "Computing total weights\n",
      "N tot selected AddTk_pm_mHad: 2261\n",
      "N tot expected AddTk_pm_mHad (before weights): 97\n",
      "N tot expected AddTk_pm_mHad (after weights): 118\n",
      "N tot selected AddTk_m_mHad: 1639\n",
      "N tot expected AddTk_m_mHad (before weights): 70\n",
      "N tot expected AddTk_m_mHad (after weights): 85\n",
      "N tot selected AddTk_p_mHad: 1784\n",
      "N tot expected AddTk_p_mHad (before weights): 77\n",
      "N tot expected AddTk_p_mHad (after weights): 94\n",
      "N tot selected AddTk_pp_mHad: 77\n",
      "N tot expected AddTk_pp_mHad (before weights): 3\n",
      "N tot expected AddTk_pp_mHad (after weights): 5\n",
      "N tot selected AddTk_mm_mHad: 64\n",
      "N tot expected AddTk_mm_mHad (before weights): 3\n",
      "N tot expected AddTk_mm_mHad (after weights): 3\n",
      "N tot selected AddTk_pm_mVis: 2261\n",
      "N tot expected AddTk_pm_mVis (before weights): 97\n",
      "N tot expected AddTk_pm_mVis (after weights): 118\n",
      "\n",
      "-----------> DstPi0 <-------------\n",
      "Including pileup reweighting\n",
      "Including trigger corrections\n",
      "Including muon ID corrections\n",
      "Including B0 pT corrections\n",
      "Computing total weights\n",
      "N tot selected AddTk_pm_mHad: 229\n",
      "N tot expected AddTk_pm_mHad (before weights): 23\n",
      "N tot expected AddTk_pm_mHad (after weights): 44\n",
      "N tot selected AddTk_m_mHad: 2161\n",
      "N tot expected AddTk_m_mHad (before weights): 220\n",
      "N tot expected AddTk_m_mHad (after weights): 284\n",
      "N tot selected AddTk_p_mHad: 2331\n",
      "N tot expected AddTk_p_mHad (before weights): 238\n",
      "N tot expected AddTk_p_mHad (after weights): 316\n",
      "N tot selected AddTk_pp_mHad: 90\n",
      "N tot expected AddTk_pp_mHad (before weights): 9\n",
      "N tot expected AddTk_pp_mHad (after weights): 18\n",
      "N tot selected AddTk_mm_mHad: 67\n",
      "N tot expected AddTk_mm_mHad (before weights): 7\n",
      "N tot expected AddTk_mm_mHad (after weights): 14\n",
      "N tot selected AddTk_pm_mVis: 229\n",
      "N tot expected AddTk_pm_mVis (before weights): 23\n",
      "N tot expected AddTk_pm_mVis (after weights): 44\n",
      "\n",
      "-----------> DstPipPim <-------------\n",
      "Including pileup reweighting\n",
      "Including trigger corrections\n",
      "Including muon ID corrections\n",
      "Including B0 pT corrections\n",
      "Computing total weights\n",
      "N tot selected AddTk_pm_mHad: 5920\n",
      "N tot expected AddTk_pm_mHad (before weights): 808\n",
      "N tot expected AddTk_pm_mHad (after weights): 905\n",
      "N tot selected AddTk_m_mHad: 2771\n",
      "N tot expected AddTk_m_mHad (before weights): 378\n",
      "N tot expected AddTk_m_mHad (after weights): 407\n",
      "N tot selected AddTk_p_mHad: 3188\n",
      "N tot expected AddTk_p_mHad (before weights): 435\n",
      "N tot expected AddTk_p_mHad (after weights): 461\n",
      "N tot selected AddTk_pp_mHad: 116\n",
      "N tot expected AddTk_pp_mHad (before weights): 16\n",
      "N tot expected AddTk_pp_mHad (after weights): 24\n",
      "N tot selected AddTk_mm_mHad: 76\n",
      "N tot expected AddTk_mm_mHad (before weights): 10\n",
      "N tot expected AddTk_mm_mHad (after weights): 12\n",
      "N tot selected AddTk_pm_mVis: 5920\n",
      "N tot expected AddTk_pm_mVis (before weights): 808\n",
      "N tot expected AddTk_pm_mVis (after weights): 905\n",
      "\n",
      "-----------> DstmD0 <-------------\n",
      "Including pileup reweighting\n",
      "Including trigger corrections\n",
      "Including muon ID corrections\n",
      "Including B0 pT corrections\n",
      "Computing total weights\n",
      "N tot selected AddTk_pm_mHad: 3998\n",
      "N tot expected AddTk_pm_mHad (before weights): 195\n",
      "N tot expected AddTk_pm_mHad (after weights): 224\n",
      "N tot selected AddTk_m_mHad: 838\n",
      "N tot expected AddTk_m_mHad (before weights): 41\n",
      "N tot expected AddTk_m_mHad (after weights): 47\n",
      "N tot selected AddTk_p_mHad: 2038\n",
      "N tot expected AddTk_p_mHad (before weights): 100\n",
      "N tot expected AddTk_p_mHad (after weights): 113\n",
      "N tot selected AddTk_pp_mHad: 88\n",
      "N tot expected AddTk_pp_mHad (before weights): 4\n",
      "N tot expected AddTk_pp_mHad (after weights): 6\n",
      "N tot selected AddTk_mm_mHad: 22\n",
      "N tot expected AddTk_mm_mHad (before weights): 1\n",
      "N tot expected AddTk_mm_mHad (after weights): 1\n",
      "N tot selected AddTk_pm_mVis: 3998\n",
      "N tot expected AddTk_pm_mVis (before weights): 195\n",
      "N tot expected AddTk_pm_mVis (after weights): 224\n",
      "\n",
      "-----------> BpDstmHc <-------------\n",
      "Including pileup reweighting\n",
      "Including trigger corrections\n",
      "Including muon ID corrections\n",
      "Computing total weights\n",
      "N tot selected AddTk_pm_mHad: 977\n",
      "N tot expected AddTk_pm_mHad (before weights): 4\n",
      "N tot expected AddTk_pm_mHad (after weights): 4\n",
      "N tot selected AddTk_m_mHad: 196\n",
      "N tot expected AddTk_m_mHad (before weights): 1\n",
      "N tot expected AddTk_m_mHad (after weights): 1\n",
      "N tot selected AddTk_p_mHad: 4523\n",
      "N tot expected AddTk_p_mHad (before weights): 18\n",
      "N tot expected AddTk_p_mHad (after weights): 19\n",
      "N tot selected AddTk_pp_mHad: 980\n",
      "N tot expected AddTk_pp_mHad (before weights): 4\n",
      "N tot expected AddTk_pp_mHad (after weights): 4\n",
      "N tot selected AddTk_mm_mHad: 4\n",
      "N tot expected AddTk_mm_mHad (before weights): 0\n",
      "N tot expected AddTk_mm_mHad (after weights): 0\n",
      "N tot selected AddTk_pm_mVis: 977\n",
      "N tot expected AddTk_pm_mVis (before weights): 4\n",
      "N tot expected AddTk_pm_mVis (after weights): 4\n",
      "\n",
      "-----------> DstPi0Pi0 <-------------\n",
      "Including pileup reweighting\n",
      "Including trigger corrections\n",
      "Including muon ID corrections\n",
      "Including B0 pT corrections\n",
      "Computing total weights\n",
      "N tot selected AddTk_pm_mHad: 99\n",
      "N tot expected AddTk_pm_mHad (before weights): 2\n",
      "N tot expected AddTk_pm_mHad (after weights): 4\n",
      "N tot selected AddTk_m_mHad: 956\n",
      "N tot expected AddTk_m_mHad (before weights): 21\n",
      "N tot expected AddTk_m_mHad (after weights): 27\n",
      "N tot selected AddTk_p_mHad: 1082\n",
      "N tot expected AddTk_p_mHad (before weights): 24\n",
      "N tot expected AddTk_p_mHad (after weights): 29\n",
      "N tot selected AddTk_pp_mHad: 41\n",
      "N tot expected AddTk_pp_mHad (before weights): 1\n",
      "N tot expected AddTk_pp_mHad (after weights): 2\n",
      "N tot selected AddTk_mm_mHad: 31\n",
      "N tot expected AddTk_mm_mHad (before weights): 1\n",
      "N tot expected AddTk_mm_mHad (after weights): 1\n",
      "N tot selected AddTk_pm_mVis: 99\n",
      "N tot expected AddTk_pm_mVis (before weights): 2\n",
      "N tot expected AddTk_pm_mVis (after weights): 4\n"
     ]
    }
   ],
   "source": [
    "for k in sideSelecton.keys():\n",
    "    histo[k] = {}\n",
    "\n",
    "for n, ds in dSetTkSide.iteritems():\n",
    "    if n == 'data': continue\n",
    "    print '\\n----------->', n, '<-------------'\n",
    "    sMC = MCsample[n]    \n",
    "    wVar = {}\n",
    "    weights = {}\n",
    "    \n",
    "    print 'Including pileup reweighting'\n",
    "    weights['pileup'] = getPileupWeights(ds)\n",
    "    print 'Including trigger corrections'\n",
    "    weights['trgSF'], wVar['trgSFUp'], wVar['trgSFDown'] = computeTrgSF(ds)\n",
    "    print 'Including muon ID corrections'\n",
    "    weights['muonIdSF'], wVar['muonIdSFUp'], wVar['muonIdSFDown'] = computeMuonIDSF(ds)\n",
    "    if n in ['mu', 'tau', 'DstmD0', 'DstmDp', 'DstmDsp','DstPi0', 'DstPipPim', 'DstPi0Pi0']: #B0 dominated final states (probably we should do something about B+ too)\n",
    "        print 'Including B0 pT corrections'\n",
    "        weights['B0pT'], wVar['B0pTUp'], wVar['B0pTDown'] = computeB0pTweights(ds)\n",
    "    # Hammer corrections to the FF\n",
    "    if n in ['mu', 'tau']:\n",
    "        print 'Including FF corrections (Hammer)'\n",
    "        weights['B2DstCLN'] = ds['wh_CLNCentral']*sMC.effCand['rate_den']/sMC.effCand['rate_Central']\n",
    "        for nPar in ['R0', 'R1', 'R2', 'RhoSq']:\n",
    "            for var in ['Up', 'Down']:\n",
    "                tag = 'CLN' + nPar + var\n",
    "                wVar['B2Dst'+tag] = ds['wh_'+tag]/sMC.effCand['rate_' + nPar + var]\n",
    "                wVar['B2Dst'+tag] *= sMC.effCand['rate_Central']/ds['wh_CLNCentral']\n",
    "    #Dstst resonance mix\n",
    "    if n == 'DstPip':\n",
    "        _, wVar['fDststWideUp'], wVar['fDststWideDown'] = computeBrVarWeights(ds, {'MC_munuSisterPdgId': -20423}, 0.6/2.7, keepNorm=True) #Gamma 14 pdg 2020\n",
    "    #Hc mix variations\n",
    "    if n == 'DstmD0':\n",
    "        _, wVar['BrB02DstD0KpUp'], wVar['BrB02DstD0KpDown'] = computeBrVarWeights(ds, {'MC_DstSisterPdgId_heavy': 421, 'MC_DstSisterPdgId_light': 321}, 0.21/2.47) #Gamma 169 pdg 2020\n",
    "        _, wVar['BrB02DstD0KstpUp'], wVar['BrB02DstD0KstpDown'] = computeBrVarWeights(ds, {'MC_DstSisterPdgId_heavy': 421, 'MC_DstSisterPdgId_light': 323}, 0.5) # Guess\n",
    "        _, wVar['BrB02DstDst0KpUp'], wVar['BrB02DstDst0KpDown'] = computeBrVarWeights(ds, {'MC_DstSisterPdgId_heavy': 423, 'MC_DstSisterPdgId_light': 321}, 0.09/1.06) #Gamma 170 pdg 2020\n",
    "        _, wVar['BrB02DstDst0KstpUp'], wVar['BrB02DstDst0KstpDown'] = computeBrVarWeights(ds, {'MC_DstSisterPdgId_heavy': 423, 'MC_DstSisterPdgId_light': 323}, 0.5) # Guess\n",
    "        _, wVar['BrB02DstDstpK0Up'], wVar['BrB02DstDstpK0Down'] = computeBrVarWeights(ds, {'MC_DstSisterPdgId_heavy': 413, 'MC_DstSisterPdgId_light': 311}, 0.5/5.3) #Gamma 173 pdg 2020\n",
    "        _, wVar['BrB02DstDstpKst0Up'], wVar['BrB02DstDstpKst0Down'] = computeBrVarWeights(ds, {'MC_DstSisterPdgId_heavy': 413, 'MC_DstSisterPdgId_light': 313}, 0.5) # Guess\n",
    "    if n == 'DstmDp':\n",
    "        _, wVar['BrB02DstDpK0Up'], wVar['BrB02DstDpK0Down'] = computeBrVarWeights(ds, {'MC_DstSisterPdgId_heavy': 411, 'MC_DstSisterPdgId_light': 311}, 0.5/3.2) #Gamma 172 pdg 2020\n",
    "        _, wVar['BrB02DstDpKst0Up'], wVar['BrB02DstDpKst0Down'] = computeBrVarWeights(ds, {'MC_DstSisterPdgId_heavy': 411, 'MC_DstSisterPdgId_light': 313}, 0.5) # Guess\n",
    "        _, wVar['BrB02DstDstpK0Up'], wVar['BrB02DstDstpK0Down'] = computeBrVarWeights(ds, {'MC_DstSisterPdgId_heavy': 413, 'MC_DstSisterPdgId_light': 311}, 0.2/2.7) #Gamma 173 pdg 2020\n",
    "        _, wVar['BrB02DstDstpKst0Up'], wVar['BrB02DstDstpKst0Down'] = computeBrVarWeights(ds, {'MC_DstSisterPdgId_heavy': 413, 'MC_DstSisterPdgId_light': 313}, 0.5) # Guess\n",
    "    if n == 'DstmDsp':\n",
    "        _, wVar['BrB02DstDsUp'], wVar['BrB02DstDsDown'] = computeBrVarWeights(ds, {'MC_DstSisterPdgId_heavy': 431}, 1.1/8.0) #Gamma 83 pdg 2020\n",
    "        _, wVar['BrB02DstDsstUp'], wVar['BrB02DstDsstDown'] = computeBrVarWeights(ds, {'MC_DstSisterPdgId_heavy': 433}, .14/1.77) #Gamma 85 pdg 2020\n",
    "        _, wVar['BrB02DstDs0stUp'], wVar['BrB02DstDs0stDown'] = computeBrVarWeights(ds, {'MC_DstSisterPdgId_heavy': 10431}, .6/1.5) #Gamma 95 pdg 2020\n",
    "        \n",
    "    # Correct the amount of random tracks from PV\n",
    "    weights['tkPVfrac'], wVar['tkPVfracUp'], wVar['tkPVfracDown'] = computeTksPVweights(ds)\n",
    "    \n",
    "    print 'Computing total weights'\n",
    "    weightsCentral = np.ones_like(ds['q2'])\n",
    "    for w in weights.values(): \n",
    "        weightsCentral *= w\n",
    "    wVar[''] = np.ones_like(weightsCentral)\n",
    "    \n",
    "    nGenExp = sMC.effMCgen['xsec'][0] * lumi_tot * RDoMC_normRatio[0]\n",
    "    eff = [1, 0]\n",
    "    for f, df in [sMC.effMCgen['effGEN'], \n",
    "                  decayBR[n], \n",
    "                  sMC.effCand['effCAND'], \n",
    "                  sMC.getSkimEff(cat.name+'_trkCtrl_corr'),\n",
    "                 ]:\n",
    "        eff[0] *= f\n",
    "        eff[1] += np.square(df/f)\n",
    "    eff[1] = eff[0] * np.sqrt(eff[1])\n",
    "    nTotExp = nGenExp*eff[0]\n",
    "    \n",
    "    sel = {}\n",
    "    scale = {}\n",
    "    \n",
    "    for k, selFun in sideSelecton.iteritems():\n",
    "        sel[k] = selFun(ds)\n",
    "        nTotSel = float(np.sum(sel[k]))\n",
    "        print 'N tot selected {}: {:.0f}'.format(k, nTotSel)\n",
    "        nExp = nTotExp * nTotSel / sel[k].shape[0]\n",
    "        print 'N tot expected {} (before weights): {:.0f}'.format(k, nExp)\n",
    "        nAux = nTotExp * np.sum(weightsCentral[sel[k]]) / sel[k].shape[0]\n",
    "        print 'N tot expected {} (after weights): {:.0f}'.format(k, nAux)\n",
    "        scale[k] = nExp/nTotSel\n",
    "    \n",
    "            \n",
    "    for name_wVar, v_wVar in wVar.iteritems():\n",
    "        h_name = n\n",
    "        if not name_wVar == '':\n",
    "            h_name += '__' + name_wVar\n",
    "        w = weightsCentral*v_wVar\n",
    "        \n",
    "        for k in sideVar.keys():\n",
    "            histo[k][h_name] = create_TH1D(\n",
    "                                           ds[sideVar[k]][sel[k]], \n",
    "                                           name=h_name, title=h_name, \n",
    "                                           binning=binning[k],\n",
    "                                           opt='underflow',\n",
    "                                           weights=w[sel[k]], scale_histo=scale[k]\n",
    "                                          )"
   ]
  },
  {
   "cell_type": "markdown",
   "metadata": {},
   "source": [
    "# Create (pseudo-)data histogram"
   ]
  },
  {
   "cell_type": "code",
   "execution_count": 23,
   "metadata": {
    "ExecuteTime": {
     "end_time": "2020-05-28T00:26:12.244248Z",
     "start_time": "2020-05-28T00:26:12.158809Z"
    }
   },
   "outputs": [
    {
     "name": "stdout",
     "output_type": "stream",
     "text": [
      "N observed data: 162.7k\n"
     ]
    }
   ],
   "source": [
    "if fit_real_data:\n",
    "    ds = dSet['data']\n",
    "    print 'N observed data: {:.1f}k'.format(1e-3*ds['q2'].shape[0])\n",
    "    for i_q2 in range(len(binning['q2'])-1):\n",
    "        q2_l = binning['q2'][i_q2]\n",
    "        q2_h = binning['q2'][i_q2 + 1]\n",
    "        sel_q2 = np.logical_and(ds['q2'] > q2_l, ds['q2'] < q2_h)\n",
    "        for var in ['M2_miss', 'Est_mu']:\n",
    "            cat_name = var+'_q2bin'+str(i_q2)     \n",
    "            histo[cat_name]['data'] = create_TH1D(\n",
    "                                                  ds[var][sel_q2], \n",
    "                                                  name='data_obs', title='Data Obs',\n",
    "                                                  binning=binning[var][i_q2],\n",
    "                                                  opt='underflow,overflow'\n",
    "                                                 )\n",
    "    ds = dSetTkSide['data']\n",
    "    for k in sideVar.keys():\n",
    "        histo[k]['data'] = create_TH1D(\n",
    "                                       ds[sideVar[k]][sideSelecton[k](ds)], \n",
    "                                       name='data_obs', title='Data Obs', \n",
    "                                       binning=binning[k],\n",
    "                                       opt='underflow',\n",
    "                                      )\n",
    "        \n",
    "else:\n",
    "    for i_q2 in range(len(binning['q2'])-1):\n",
    "        for var in ['M2_miss', 'Est_mu']:\n",
    "            cat_name = var+'_q2bin'+str(i_q2)\n",
    "            \n",
    "            h = create_TH1D(np.array([0, 0]), name='data_obs', title='Data Obs', binning=binning[var][i_q2])\n",
    "            h.Reset()\n",
    "            for n, hMC in histo[cat_name].iteritems():\n",
    "                if not '__' in n and not n == 'data':\n",
    "                    scale = SM_RDst if 'tau' in n else 1.\n",
    "                    h.Add(hMC, scale)\n",
    "            h.Sumw2(0)\n",
    "            for i in range(1, h.GetNbinsX()+1):\n",
    "                h.SetBinContent(i, np.around(h.GetBinContent(i)))\n",
    "            h.Sumw2()\n",
    "            histo[cat_name]['data'] = h\n",
    "            \n",
    "    for k in sideVar.keys():\n",
    "        h = create_TH1D(np.array([0, 0]), name='data_obs', title='Data Obs', \n",
    "                        binning=binning[k])\n",
    "        h.Reset()\n",
    "        for n, hMC in histo[k].iteritems():\n",
    "            if not '__' in n and not n == 'data':\n",
    "                scale = SM_RDst if 'tau' in n else 1.\n",
    "                h.Add(hMC, scale)\n",
    "        h.Sumw2(0)\n",
    "        for i in range(1, h.GetNbinsX()+1):\n",
    "            h.SetBinContent(i, np.around(h.GetBinContent(i)))\n",
    "        h.Sumw2()\n",
    "        histo[k]['data'] = h"
   ]
  },
  {
   "cell_type": "code",
   "execution_count": 24,
   "metadata": {
    "ExecuteTime": {
     "end_time": "2020-05-28T00:26:12.875583Z",
     "start_time": "2020-05-28T00:26:12.248728Z"
    },
    "scrolled": true
   },
   "outputs": [
    {
     "data": {
      "image/png": "[encoded data removed]",
      "text/plain": [
       "<IPython.core.display.Image object>"
      ]
     },
     "metadata": {},
     "output_type": "display_data"
    }
   ],
   "source": [
    "CMS_lumi.integrated_lumi = lumi_tot\n",
    "scale_dic = {'tau': SM_RDst\n",
    "            }\n",
    "\n",
    "cSigPre = plot_gridVarQ2(CMS_lumi, binning, histo, scale_dic=scale_dic, min_y=1, logy=False)"
   ]
  },
  {
   "cell_type": "code",
   "execution_count": 25,
   "metadata": {
    "ExecuteTime": {
     "end_time": "2020-05-28T00:26:13.186925Z",
     "start_time": "2020-05-28T00:26:12.880258Z"
    },
    "scrolled": true
   },
   "outputs": [
    {
     "data": {
      "image/png": "[encoded data removed]",
      "text/plain": [
       "<IPython.core.display.Image object>"
      ]
     },
     "metadata": {},
     "output_type": "display_data"
    },
    {
     "data": {
      "image/png": "[encoded data removed]",
      "text/plain": [
       "<IPython.core.display.Image object>"
      ]
     },
     "metadata": {},
     "output_type": "display_data"
    },
    {
     "data": {
      "image/png": "[encoded data removed]",
      "text/plain": [
       "<IPython.core.display.Image object>"
      ]
     },
     "metadata": {},
     "output_type": "display_data"
    },
    {
     "data": {
      "image/png": "[encoded data removed]",
      "text/plain": [
       "<IPython.core.display.Image object>"
      ]
     },
     "metadata": {},
     "output_type": "display_data"
    },
    {
     "data": {
      "image/png": "[encoded data removed]",
      "text/plain": [
       "<IPython.core.display.Image object>"
      ]
     },
     "metadata": {},
     "output_type": "display_data"
    },
    {
     "data": {
      "image/png": "[encoded data removed]",
      "text/plain": [
       "<IPython.core.display.Image object>"
      ]
     },
     "metadata": {},
     "output_type": "display_data"
    }
   ],
   "source": [
    "cSidePre = {}\n",
    "for k in np.sort(sideVar.keys()):\n",
    "    legLoc = [0.65, 0.4, 0.9, 0.7]\n",
    "    if 'MassVis' in sideVar[k]:\n",
    "        legLoc = [0.15, 0.45, 0.35, 0.75]\n",
    "    cSidePre[k] = plot_SingleCategory(CMS_lumi, histo[k], scale_dic=scale_dic,\n",
    "                                      xtitle=sideXtitle[k], addText=sideAddtext[k], \n",
    "                                      tag=k, legLoc=legLoc)"
   ]
  },
  {
   "cell_type": "code",
   "execution_count": 26,
   "metadata": {
    "ExecuteTime": {
     "end_time": "2020-05-28T00:26:14.026085Z",
     "start_time": "2020-05-28T00:26:13.191473Z"
    }
   },
   "outputs": [],
   "source": [
    "histo_file_dir = '../data/_root/histos4combine/'\n",
    "if not os.path.isdir(histo_file_dir):\n",
    "    os.makedirs(histo_file_dir)\n",
    "histo_file_loc = {}\n",
    "for cat_name, h_dic in histo.iteritems():\n",
    "    histo_file_loc[cat_name] = histo_file_dir+'{}_{}.root'.format(card_name, cat_name)\n",
    "    tf = rt.TFile(histo_file_loc[cat_name], 'recreate')\n",
    "    for v in h_dic.values():\n",
    "        v.Write()\n",
    "    tf.Close()\n",
    "    \n",
    "del dSet, dSetTkSide"
   ]
  },
  {
   "cell_type": "markdown",
   "metadata": {},
   "source": [
    "# Write the card"
   ]
  },
  {
   "cell_type": "code",
   "execution_count": 27,
   "metadata": {
    "ExecuteTime": {
     "end_time": "2020-05-28T00:26:14.055639Z",
     "start_time": "2020-05-28T00:26:14.030934Z"
    }
   },
   "outputs": [],
   "source": [
    "sig_processes = ['tau', 'mu']\n",
    "bkg_processes = ['DstmD0', 'DstmDp', 'DstmDsp', \n",
    "                 'BpDstmHc', \n",
    "                 'DstPip', 'DstPipPi0', \n",
    "                 'DstPi0', 'DstPipPim', 'DstPi0Pi0']\n",
    "processes = sig_processes + bkg_processes\n",
    "nProc = len(processes)\n",
    "categories = np.sort([k for k in histo.keys()])\n",
    "nCat = len(categories)"
   ]
  },
  {
   "cell_type": "code",
   "execution_count": 28,
   "metadata": {
    "ExecuteTime": {
     "end_time": "2020-05-28T00:26:14.096783Z",
     "start_time": "2020-05-28T00:26:14.059933Z"
    }
   },
   "outputs": [],
   "source": [
    "# number of different categories\n",
    "card = 'imax *\\n'\n",
    "# number of processes minus one\n",
    "card += 'jmax {}\\n'.format(len(processes)-1)\n",
    "# number of nuissance parameters\n",
    "card += 'kmax *\\n'\n",
    "card += '--------------------------------------------------------------\\n'"
   ]
  },
  {
   "cell_type": "code",
   "execution_count": 29,
   "metadata": {
    "ExecuteTime": {
     "end_time": "2020-05-28T00:26:14.158288Z",
     "start_time": "2020-05-28T00:26:14.101389Z"
    }
   },
   "outputs": [],
   "source": [
    "# shape file location\n",
    "for k in categories:\n",
    "    card += 'shapes * {} {} $PROCESS $PROCESS__$SYSTEMATIC\\n'.format(k, histo_file_loc[k])\n",
    "card += '--------------------------------------------------------------\\n'"
   ]
  },
  {
   "cell_type": "markdown",
   "metadata": {
    "heading_collapsed": true
   },
   "source": [
    "### Number of events"
   ]
  },
  {
   "cell_type": "code",
   "execution_count": 30,
   "metadata": {
    "ExecuteTime": {
     "end_time": "2020-05-28T00:26:14.194007Z",
     "start_time": "2020-05-28T00:26:14.164371Z"
    },
    "hidden": true
   },
   "outputs": [],
   "source": [
    "# number of events observed\n",
    "card += 'bin ' + ' '.join(categories) + '\\n'\n",
    "obs = map(lambda k: '{:.0f}'.format(histo[k]['data'].Integral()), categories)\n",
    "obs = ' '.join(obs)\n",
    "card += 'observation ' + obs + '\\n'\n",
    "card += '--------------------------------------------------------------\\n'"
   ]
  },
  {
   "cell_type": "code",
   "execution_count": 31,
   "metadata": {
    "ExecuteTime": {
     "end_time": "2020-05-28T00:26:14.237715Z",
     "start_time": "2020-05-28T00:26:14.199348Z"
    },
    "hidden": true
   },
   "outputs": [],
   "source": [
    "# MC expected events\n",
    "aux_bin = ''\n",
    "aux_proc_name = ''\n",
    "aux_proc_id = ''\n",
    "aux_proc_rate = ''\n",
    "for c, p in itertools.product(categories, processes):\n",
    "    aux_bin += ' '+c\n",
    "    aux_proc_name += ' '+p\n",
    "    aux_proc_id += ' '+str(np.argmax(np.array(processes) == p))\n",
    "    aux_proc_rate += ' {:.2f}'.format(histo[c][p].Integral())\n",
    "    \n",
    "card += 'bin' + aux_bin + '\\n'\n",
    "card += 'process' + aux_proc_name + '\\n'\n",
    "# Zero or negative for sig and positive for bkg\n",
    "card += 'process' + aux_proc_id + '\\n'\n",
    "# Expected rate\n",
    "card += 'rate' + aux_proc_rate + '\\n'\n",
    "card += '--------------------------------------------------------------\\n'"
   ]
  },
  {
   "cell_type": "markdown",
   "metadata": {},
   "source": [
    "## Systematic uncertainties"
   ]
  },
  {
   "cell_type": "markdown",
   "metadata": {},
   "source": [
    "### Scale systematics"
   ]
  },
  {
   "cell_type": "code",
   "execution_count": 32,
   "metadata": {
    "ExecuteTime": {
     "end_time": "2020-05-28T00:26:14.286410Z",
     "start_time": "2020-05-28T00:26:14.241015Z"
    }
   },
   "outputs": [],
   "source": [
    "#pp -> bb cros-section * luminosity\n",
    "card += 'xsecpp2bbXlumi lnN' + ' 1.9'*nProc*nCat + '\\n'"
   ]
  },
  {
   "cell_type": "code",
   "execution_count": 33,
   "metadata": {
    "ExecuteTime": {
     "end_time": "2020-05-28T00:26:14.307251Z",
     "start_time": "2020-05-28T00:26:14.290714Z"
    }
   },
   "outputs": [],
   "source": [
    "#Hadronization fraction of B0\n",
    "aux = ''\n",
    "for n in processes:\n",
    "    if n in ['tau', 'mu', 'DstmD0', 'DstmDp', 'DstmDsp', 'DstPi0', 'DstPipPim', 'DstPi0Pi0']: aux += ' 1.9'\n",
    "    else: aux += ' -'\n",
    "card += 'b2B0Had lnN' + aux*nCat + '\\n'"
   ]
  },
  {
   "cell_type": "code",
   "execution_count": 34,
   "metadata": {
    "ExecuteTime": {
     "end_time": "2020-05-28T00:26:14.366231Z",
     "start_time": "2020-05-28T00:26:14.311712Z"
    }
   },
   "outputs": [],
   "source": [
    "#Hadronization fraction of B+\n",
    "aux = ''\n",
    "for n in processes:\n",
    "    if n in ['DstPip', 'DstPipPi0', 'BpDstmHc']: aux += ' 1.9'\n",
    "    else: aux += ' -'\n",
    "card += 'b2BpHad lnN' + aux*nCat + '\\n'"
   ]
  },
  {
   "cell_type": "code",
   "execution_count": 35,
   "metadata": {
    "ExecuteTime": {
     "end_time": "2020-05-28T00:26:14.385475Z",
     "start_time": "2020-05-28T00:26:14.370735Z"
    }
   },
   "outputs": [],
   "source": [
    "# Branching ration uncertainty\n",
    "for n in processes:\n",
    "    if n in ['tau', 'DstPip', 'DstPi0', 'DstPipPim', 'DstPipPi0', 'DstPi0Pi0']: continue\n",
    "    val = ' {:.2f}'.format(1+decayBR[n][1]/decayBR[n][0])\n",
    "    aux = ''\n",
    "    for nn in processes:\n",
    "        if nn == n: aux += val\n",
    "        else: aux += ' -'\n",
    "    card += n + 'Br lnN' + aux*nCat + '\\n'"
   ]
  },
  {
   "cell_type": "code",
   "execution_count": 36,
   "metadata": {
    "ExecuteTime": {
     "end_time": "2020-05-28T00:26:14.447572Z",
     "start_time": "2020-05-28T00:26:14.389797Z"
    }
   },
   "outputs": [],
   "source": [
    "# Branching ration uncertainty with isospin symmetry constraint\n",
    "val = ' {:.2f}'.format(1+decayBR['DstPip'][1]/decayBR['DstPip'][0]) #DstPi0 has no info\n",
    "aux = ''\n",
    "for n in processes:\n",
    "    if n in ['DstPip', 'DstPi0']: aux += val\n",
    "    else: aux += ' -'\n",
    "card += 'DstPiBr lnN' + aux*nCat + '\\n'\n",
    "\n",
    "val = ' {:.2f}'.format(1+decayBR['DstPipPim'][1]/decayBR['DstPipPim'][0]) #DstPipPim is the only one meaasured\n",
    "aux = ''\n",
    "for n in processes:\n",
    "    if n in ['DstPipPim', 'DstPipPi0', 'DstPi0Pi0']: aux += val\n",
    "    else: aux += ' -'\n",
    "card += 'DstPiPiBr lnN' + aux*nCat + '\\n'"
   ]
  },
  {
   "cell_type": "code",
   "execution_count": 37,
   "metadata": {
    "ExecuteTime": {
     "end_time": "2020-05-28T00:26:14.500656Z",
     "start_time": "2020-05-28T00:26:14.454494Z"
    }
   },
   "outputs": [],
   "source": [
    "card += '--------------------------------------------------------------\\n'"
   ]
  },
  {
   "cell_type": "markdown",
   "metadata": {},
   "source": [
    "### Rate parameters"
   ]
  },
  {
   "cell_type": "code",
   "execution_count": 38,
   "metadata": {
    "ExecuteTime": {
     "end_time": "2020-05-28T00:26:14.532663Z",
     "start_time": "2020-05-28T00:26:14.506703Z"
    }
   },
   "outputs": [],
   "source": [
    "# card += 'pAddTk param 1.0 0.15\\n'"
   ]
  },
  {
   "cell_type": "code",
   "execution_count": 39,
   "metadata": {
    "ExecuteTime": {
     "end_time": "2020-05-28T00:26:14.558597Z",
     "start_time": "2020-05-28T00:26:14.537984Z"
    }
   },
   "outputs": [],
   "source": [
    "# linear = []\n",
    "# quadratic = []\n",
    "\n",
    "# for procAux in ['tau', 'mu', 'DstPi0', 'DstPi0Pi0']: \n",
    "#     linear.append(['AddTk_p_mHad', procAux])\n",
    "    \n",
    "# for procAux in ['tau', 'mu', 'DstPi0', 'DstPi0Pi0', 'DstPip', 'DstPipPi0']: \n",
    "#     linear.append(['AddTk_m_mHad', procAux])\n",
    "    \n",
    "# for procAux in ['DstPip', 'DstPipPi0', 'DstPipPim', 'DstmD0', 'DstmDp', 'DstmDsp']:\n",
    "#     linear.append(['AddTk_pp_mHad', procAux])\n",
    "# for procAux in ['tau', 'mu', 'DstPi0', 'DstPi0Pi0']:\n",
    "#     quadratic.append(['AddTk_pp_mHad', procAux])\n",
    "    \n",
    "\n",
    "# for procAux in ['DstPip', 'DstPipPi0']:\n",
    "#     linear.append(['AddTk_pm_mHad', procAux])\n",
    "#     linear.append(['AddTk_pm_mVis', procAux])\n",
    "# for procAux in ['tau', 'mu', 'DstPi0', 'DstPi0Pi0']:\n",
    "#     quadratic.append(['AddTk_pm_mHad', procAux])\n",
    "#     quadratic.append(['AddTk_pm_mVis', procAux])\n",
    "    \n",
    "# for procAux in ['DstPipPim', 'DstmD0', 'DstmDp', 'DstmDsp']:\n",
    "#     linear.append(['AddTk_mm_mHad', procAux])\n",
    "# for procAux in ['tau', 'mu', 'DstPi0', 'DstPi0Pi0', 'DstPip', 'DstPipPi0']:\n",
    "#     quadratic.append(['AddTk_mm_mHad', procAux])\n",
    "    \n",
    "# for binAux, procAux in linear:\n",
    "#     card += 'pAddTk rateParam {} {} 1\\n'.format(binAux, procAux)\n",
    "# for binAux, procAux in quadratic:\n",
    "#     card += 'pAddTk2 rateParam {} {} @0*@0 pAddTk\\n'.format(binAux, procAux)"
   ]
  },
  {
   "cell_type": "code",
   "execution_count": 40,
   "metadata": {
    "ExecuteTime": {
     "end_time": "2020-05-28T00:26:14.608775Z",
     "start_time": "2020-05-28T00:26:14.563317Z"
    }
   },
   "outputs": [],
   "source": [
    "# card += '--------------------------------------------------------------\\n'"
   ]
  },
  {
   "cell_type": "markdown",
   "metadata": {},
   "source": [
    "### Shape Systematics"
   ]
  },
  {
   "cell_type": "code",
   "execution_count": 41,
   "metadata": {
    "ExecuteTime": {
     "end_time": "2020-05-28T00:26:14.638444Z",
     "start_time": "2020-05-28T00:26:14.613602Z"
    }
   },
   "outputs": [],
   "source": [
    "card += 'trgSF shape' + ' 1.'*nProc*nCat + '\\n'"
   ]
  },
  {
   "cell_type": "code",
   "execution_count": 42,
   "metadata": {
    "ExecuteTime": {
     "end_time": "2020-05-28T00:26:14.679237Z",
     "start_time": "2020-05-28T00:26:14.642869Z"
    }
   },
   "outputs": [],
   "source": [
    "card += 'muonIdSF shape' + ' 1.'*nProc*nCat + '\\n'"
   ]
  },
  {
   "cell_type": "code",
   "execution_count": 43,
   "metadata": {
    "ExecuteTime": {
     "end_time": "2020-05-28T00:26:14.714542Z",
     "start_time": "2020-05-28T00:26:14.684363Z"
    }
   },
   "outputs": [],
   "source": [
    "aux = ''\n",
    "for cat in categories:\n",
    "    if cat.startswith('AddTk_'):\n",
    "        aux += ' 1.'*nProc\n",
    "    else: aux += ' -'*nProc\n",
    "card += 'tkPVfrac shape' + aux + '\\n'"
   ]
  },
  {
   "cell_type": "code",
   "execution_count": 44,
   "metadata": {
    "ExecuteTime": {
     "end_time": "2020-05-28T00:26:14.786122Z",
     "start_time": "2020-05-28T00:26:14.720347Z"
    }
   },
   "outputs": [],
   "source": [
    "# B0 pT spectrum\n",
    "aux = ''\n",
    "for p in processes:\n",
    "    if p in ['tau', 'mu', 'DstmD0', 'DstmDp', 'DstmDsp', 'DstPi0', 'DstPipPim', 'DstPi0Pi0']:\n",
    "        aux += ' 1.'\n",
    "    else:\n",
    "        aux += ' -'\n",
    "card += 'B0pT shape' + aux*nCat + '\\n'"
   ]
  },
  {
   "cell_type": "code",
   "execution_count": 45,
   "metadata": {
    "ExecuteTime": {
     "end_time": "2020-05-28T00:26:14.817648Z",
     "start_time": "2020-05-28T00:26:14.789940Z"
    }
   },
   "outputs": [],
   "source": [
    "# Form Factors from Hammer\n",
    "for n_pFF in ['R0', 'R1', 'R2', 'RhoSq']:\n",
    "    aux = ''\n",
    "    for p in processes:\n",
    "        if p in ['tau', 'mu']:\n",
    "            aux += ' 1.'\n",
    "        else:\n",
    "            aux += ' -'\n",
    "    card += 'B2DstCLN{} shape'.format(n_pFF) + aux*nCat + '\\n'"
   ]
  },
  {
   "cell_type": "code",
   "execution_count": 46,
   "metadata": {
    "ExecuteTime": {
     "end_time": "2020-05-28T00:26:14.857429Z",
     "start_time": "2020-05-28T00:26:14.820948Z"
    }
   },
   "outputs": [],
   "source": [
    "# Dstst mix composition\n",
    "aux = ''\n",
    "for p in processes:\n",
    "    if p == 'DstPip': aux += ' 1.'\n",
    "    else: aux += ' -'\n",
    "card += 'fDststWide shape' + aux*nCat + '\\n'"
   ]
  },
  {
   "cell_type": "code",
   "execution_count": 47,
   "metadata": {
    "ExecuteTime": {
     "end_time": "2020-05-28T00:26:14.928490Z",
     "start_time": "2020-05-28T00:26:14.863137Z"
    }
   },
   "outputs": [],
   "source": [
    "# Hc mix composition\n",
    "aux = ''\n",
    "for p in processes:\n",
    "    if p == 'DstmD0': aux += ' 1.'\n",
    "    else: aux += ' -'\n",
    "card += 'BrB02DstD0Kp shape' + aux*nCat + '\\n'\n",
    "card += 'BrB02DstD0Kstp shape' + aux*nCat + '\\n'\n",
    "card += 'BrB02DstDst0Kp shape' + aux*nCat + '\\n'\n",
    "card += 'BrB02DstDst0Kstp shape' + aux*nCat + '\\n'\n",
    "\n",
    "aux = ''\n",
    "for p in processes:\n",
    "    if p == 'DstmDp': aux += ' 1.'\n",
    "    else: aux += ' -'\n",
    "card += 'BrB02DstDpK0 shape' + aux*nCat + '\\n'\n",
    "card += 'BrB02DstDpKst0 shape' + aux*nCat + '\\n'\n",
    "\n",
    "aux = ''\n",
    "for p in processes:\n",
    "    if p == 'DstmDp' or p == 'DstmD0': aux += ' 1.'\n",
    "    else: aux += ' -'\n",
    "card += 'BrB02DstDstpK0 shape' + aux*nCat + '\\n'\n",
    "card += 'BrB02DstDstpKst0 shape' + aux*nCat + '\\n'\n",
    "\n",
    "aux = ''\n",
    "for p in processes:\n",
    "    if p == 'DstmDsp': aux += ' 1.'\n",
    "    else: aux += ' -'\n",
    "card += 'BrB02DstDs shape' + aux*nCat + '\\n'\n",
    "card += 'BrB02DstDsst shape' + aux*nCat + '\\n'\n",
    "card += 'BrB02DstDs0st shape' + aux*nCat + '\\n'"
   ]
  },
  {
   "cell_type": "markdown",
   "metadata": {},
   "source": [
    "### MC statistic systematics"
   ]
  },
  {
   "cell_type": "code",
   "execution_count": 48,
   "metadata": {
    "ExecuteTime": {
     "end_time": "2020-05-28T00:26:14.987937Z",
     "start_time": "2020-05-28T00:26:14.932507Z"
    }
   },
   "outputs": [],
   "source": [
    "card += '* autoMCStats 10 1 1\\n'\n",
    "card += '--------------------------------------------------------------\\n'"
   ]
  },
  {
   "cell_type": "markdown",
   "metadata": {
    "heading_collapsed": true
   },
   "source": [
    "### Defining groups of systematics"
   ]
  },
  {
   "cell_type": "code",
   "execution_count": 49,
   "metadata": {
    "ExecuteTime": {
     "end_time": "2020-05-28T00:26:15.043518Z",
     "start_time": "2020-05-28T00:26:14.994428Z"
    },
    "hidden": true
   },
   "outputs": [],
   "source": [
    "# autoMCStats group = defined by default when using autoMCStats\n",
    "aux_FF = ' '.join(['B2DstCLN'+n for n in ['R0', 'R1', 'R2', 'RhoSq']])\n",
    "card += 'B2DstFF group = ' + aux_FF + '\\n'\n",
    "\n",
    "# card += 'normMC group = xsecpp2bbXlumi b2B0Had b2BpHad\\n'\n",
    "\n",
    "# card += 'knownBr group = ' + ' '.join([n+'Br' for n in processes if not n == 'tau']) + '\\n'\n",
    "\n",
    "card += 'allShape group = trgSF muonIdSF B0pT ' + aux_FF + '\\n'"
   ]
  },
  {
   "cell_type": "markdown",
   "metadata": {
    "heading_collapsed": true
   },
   "source": [
    "## Create output"
   ]
  },
  {
   "cell_type": "code",
   "execution_count": 50,
   "metadata": {
    "ExecuteTime": {
     "end_time": "2020-05-28T00:26:15.096378Z",
     "start_time": "2020-05-28T00:26:15.048011Z"
    },
    "hidden": true,
    "scrolled": false
   },
   "outputs": [
    {
     "name": "stdout",
     "output_type": "stream",
     "text": [
      "imax *\n",
      "jmax 10\n",
      "kmax *\n",
      "--------------------------------------------------------------\n",
      "shapes * AddTk_m_mHad ../data/_root/histos4combine/v8_low_AddTk_m_mHad.root $PROCESS $PROCESS__$SYSTEMATIC\n",
      "shapes * AddTk_mm_mHad ../data/_root/histos4combine/v8_low_AddTk_mm_mHad.root $PROCESS $PROCESS__$SYSTEMATIC\n",
      "shapes * AddTk_p_mHad ../data/_root/histos4combine/v8_low_AddTk_p_mHad.root $PROCESS $PROCESS__$SYSTEMATIC\n",
      "shapes * AddTk_pm_mHad ../data/_root/histos4combine/v8_low_AddTk_pm_mHad.root $PROCESS $PROCESS__$SYSTEMATIC\n",
      "shapes * AddTk_pm_mVis ../data/_root/histos4combine/v8_low_AddTk_pm_mVis.root $PROCESS $PROCESS__$SYSTEMATIC\n",
      "shapes * AddTk_pp_mHad ../data/_root/histos4combine/v8_low_AddTk_pp_mHad.root $PROCESS $PROCESS__$SYSTEMATIC\n",
      "shapes * Est_mu_q2bin0 ../data/_root/histos4combine/v8_low_Est_mu_q2bin0.root $PROCESS $PROCESS__$SYSTEMATIC\n",
      "shapes * Est_mu_q2bin1 ../data/_root/histos4combine/v8_low_Est_mu_q2bin1.root $PROCESS $PROCESS__$SYSTEMATIC\n",
      "shapes * M2_miss_q2bin0 ../data/_root/histos4combine/v8_low_M2_miss_q2bin0.root $PROCESS $PROCESS__$SYSTEMATIC\n",
      "shapes * M2_miss_q2bin1 ../data/_root/histos4combine/v8_low_M2_miss_q2bin1.root $PROCESS $PROCESS__$SYSTEMATIC\n",
      "--------------------------------------------------------------\n",
      "bin AddTk_m_mHad AddTk_mm_mHad AddTk_p_mHad AddTk_pm_mHad AddTk_pm_mVis AddTk_pp_mHad Est_mu_q2bin0 Est_mu_q2bin1 M2_miss_q2bin0 M2_miss_q2bin1\n",
      "observation 9533 410 18420 3163 3251 821 32093 65994 32093 65994\n",
      "--------------------------------------------------------------\n",
      "bin AddTk_m_mHad AddTk_m_mHad AddTk_m_mHad AddTk_m_mHad AddTk_m_mHad AddTk_m_mHad AddTk_m_mHad AddTk_m_mHad AddTk_m_mHad AddTk_m_mHad AddTk_m_mHad AddTk_mm_mHad AddTk_mm_mHad AddTk_mm_mHad AddTk_mm_mHad AddTk_mm_mHad AddTk_mm_mHad AddTk_mm_mHad AddTk_mm_mHad AddTk_mm_mHad AddTk_mm_mHad AddTk_mm_mHad AddTk_p_mHad AddTk_p_mHad AddTk_p_mHad AddTk_p_mHad AddTk_p_mHad AddTk_p_mHad AddTk_p_mHad AddTk_p_mHad AddTk_p_mHad AddTk_p_mHad AddTk_p_mHad AddTk_pm_mHad AddTk_pm_mHad AddTk_pm_mHad AddTk_pm_mHad AddTk_pm_mHad AddTk_pm_mHad AddTk_pm_mHad AddTk_pm_mHad AddTk_pm_mHad AddTk_pm_mHad AddTk_pm_mHad AddTk_pm_mVis AddTk_pm_mVis AddTk_pm_mVis AddTk_pm_mVis AddTk_pm_mVis AddTk_pm_mVis AddTk_pm_mVis AddTk_pm_mVis AddTk_pm_mVis AddTk_pm_mVis AddTk_pm_mVis AddTk_pp_mHad AddTk_pp_mHad AddTk_pp_mHad AddTk_pp_mHad AddTk_pp_mHad AddTk_pp_mHad AddTk_pp_mHad AddTk_pp_mHad AddTk_pp_mHad AddTk_pp_mHad AddTk_pp_mHad Est_mu_q2bin0 Est_mu_q2bin0 Est_mu_q2bin0 Est_mu_q2bin0 Est_mu_q2bin0 Est_mu_q2bin0 Est_mu_q2bin0 Est_mu_q2bin0 Est_mu_q2bin0 Est_mu_q2bin0 Est_mu_q2bin0 Est_mu_q2bin1 Est_mu_q2bin1 Est_mu_q2bin1 Est_mu_q2bin1 Est_mu_q2bin1 Est_mu_q2bin1 Est_mu_q2bin1 Est_mu_q2bin1 Est_mu_q2bin1 Est_mu_q2bin1 Est_mu_q2bin1 M2_miss_q2bin0 M2_miss_q2bin0 M2_miss_q2bin0 M2_miss_q2bin0 M2_miss_q2bin0 M2_miss_q2bin0 M2_miss_q2bin0 M2_miss_q2bin0 M2_miss_q2bin0 M2_miss_q2bin0 M2_miss_q2bin0 M2_miss_q2bin1 M2_miss_q2bin1 M2_miss_q2bin1 M2_miss_q2bin1 M2_miss_q2bin1 M2_miss_q2bin1 M2_miss_q2bin1 M2_miss_q2bin1 M2_miss_q2bin1 M2_miss_q2bin1 M2_miss_q2bin1\n",
      "process tau mu DstmD0 DstmDp DstmDsp BpDstmHc DstPip DstPipPi0 DstPi0 DstPipPim DstPi0Pi0 tau mu DstmD0 DstmDp DstmDsp BpDstmHc DstPip DstPipPi0 DstPi0 DstPipPim DstPi0Pi0 tau mu DstmD0 DstmDp DstmDsp BpDstmHc DstPip DstPipPi0 DstPi0 DstPipPim DstPi0Pi0 tau mu DstmD0 DstmDp DstmDsp BpDstmHc DstPip DstPipPi0 DstPi0 DstPipPim DstPi0Pi0 tau mu DstmD0 DstmDp DstmDsp BpDstmHc DstPip DstPipPi0 DstPi0 DstPipPim DstPi0Pi0 tau mu DstmD0 DstmDp DstmDsp BpDstmHc DstPip DstPipPi0 DstPi0 DstPipPim DstPi0Pi0 tau mu DstmD0 DstmDp DstmDsp BpDstmHc DstPip DstPipPi0 DstPi0 DstPipPim DstPi0Pi0 tau mu DstmD0 DstmDp DstmDsp BpDstmHc DstPip DstPipPi0 DstPi0 DstPipPim DstPi0Pi0 tau mu DstmD0 DstmDp DstmDsp BpDstmHc DstPip DstPipPi0 DstPi0 DstPipPim DstPi0Pi0 tau mu DstmD0 DstmDp DstmDsp BpDstmHc DstPip DstPipPi0 DstPi0 DstPipPim DstPi0Pi0\n",
      "process 0 1 2 3 4 5 6 7 8 9 10 0 1 2 3 4 5 6 7 8 9 10 0 1 2 3 4 5 6 7 8 9 10 0 1 2 3 4 5 6 7 8 9 10 0 1 2 3 4 5 6 7 8 9 10 0 1 2 3 4 5 6 7 8 9 10 0 1 2 3 4 5 6 7 8 9 10 0 1 2 3 4 5 6 7 8 9 10 0 1 2 3 4 5 6 7 8 9 10 0 1 2 3 4 5 6 7 8 9 10\n",
      "rate 250.75 6141.25 46.24 24.51 83.35 0.77 266.02 25.71 282.89 406.40 26.89 9.47 251.01 1.31 0.65 3.23 0.03 10.54 0.30 13.74 11.86 0.86 288.77 7013.05 101.06 30.60 84.15 13.49 6889.64 793.27 302.48 459.15 28.29 34.46 836.54 212.23 59.59 107.70 4.32 420.65 44.89 44.31 902.37 4.04 36.97 837.26 223.58 59.95 117.89 4.39 424.28 45.14 44.31 905.26 4.04 13.04 322.91 5.36 1.50 5.08 4.24 250.64 32.95 18.25 23.44 2.07 74.15 26311.88 0.42 0.73 62.83 0.17 463.77 8.28 649.53 7.06 12.64 1613.06 50666.36 2.14 10.31 599.03 0.57 1862.40 134.53 2288.54 99.28 167.33 74.15 26311.88 0.42 0.73 62.83 0.17 463.77 8.28 649.53 7.06 12.64 1613.06 50666.36 2.14 10.31 599.03 0.57 1862.40 134.53 2288.54 99.28 167.33\n",
      "--------------------------------------------------------------\n",
      "xsecpp2bbXlumi lnN 1.9 1.9 1.9 1.9 1.9 1.9 1.9 1.9 1.9 1.9 1.9 1.9 1.9 1.9 1.9 1.9 1.9 1.9 1.9 1.9 1.9 1.9 1.9 1.9 1.9 1.9 1.9 1.9 1.9 1.9 1.9 1.9 1.9 1.9 1.9 1.9 1.9 1.9 1.9 1.9 1.9 1.9 1.9 1.9 1.9 1.9 1.9 1.9 1.9 1.9 1.9 1.9 1.9 1.9 1.9 1.9 1.9 1.9 1.9 1.9 1.9 1.9 1.9 1.9 1.9 1.9 1.9 1.9 1.9 1.9 1.9 1.9 1.9 1.9 1.9 1.9 1.9 1.9 1.9 1.9 1.9 1.9 1.9 1.9 1.9 1.9 1.9 1.9 1.9 1.9 1.9 1.9 1.9 1.9 1.9 1.9 1.9 1.9 1.9 1.9 1.9 1.9 1.9 1.9 1.9 1.9 1.9 1.9 1.9 1.9\n",
      "b2B0Had lnN 1.9 1.9 1.9 1.9 1.9 - - - 1.9 1.9 1.9 1.9 1.9 1.9 1.9 1.9 - - - 1.9 1.9 1.9 1.9 1.9 1.9 1.9 1.9 - - - 1.9 1.9 1.9 1.9 1.9 1.9 1.9 1.9 - - - 1.9 1.9 1.9 1.9 1.9 1.9 1.9 1.9 - - - 1.9 1.9 1.9 1.9 1.9 1.9 1.9 1.9 - - - 1.9 1.9 1.9 1.9 1.9 1.9 1.9 1.9 - - - 1.9 1.9 1.9 1.9 1.9 1.9 1.9 1.9 - - - 1.9 1.9 1.9 1.9 1.9 1.9 1.9 1.9 - - - 1.9 1.9 1.9 1.9 1.9 1.9 1.9 1.9 - - - 1.9 1.9 1.9\n",
      "b2BpHad lnN - - - - - 1.9 1.9 1.9 - - - - - - - - 1.9 1.9 1.9 - - - - - - - - 1.9 1.9 1.9 - - - - - - - - 1.9 1.9 1.9 - - - - - - - - 1.9 1.9 1.9 - - - - - - - - 1.9 1.9 1.9 - - - - - - - - 1.9 1.9 1.9 - - - - - - - - 1.9 1.9 1.9 - - - - - - - - 1.9 1.9 1.9 - - - - - - - - 1.9 1.9 1.9 - - -\n",
      "muBr lnN - 1.03 - - - - - - - - - - 1.03 - - - - - - - - - - 1.03 - - - - - - - - - - 1.03 - - - - - - - - - - 1.03 - - - - - - - - - - 1.03 - - - - - - - - - - 1.03 - - - - - - - - - - 1.03 - - - - - - - - - - 1.03 - - - - - - - - - - 1.03 - - - - - - - - -\n",
      "DstmD0Br lnN - - 1.09 - - - - - - - - - - 1.09 - - - - - - - - - - 1.09 - - - - - - - - - - 1.09 - - - - - - - - - - 1.09 - - - - - - - - - - 1.09 - - - - - - - - - - 1.09 - - - - - - - - - - 1.09 - - - - - - - - - - 1.09 - - - - - - - - - - 1.09 - - - - - - - -\n",
      "DstmDpBr lnN - - - 1.18 - - - - - - - - - - 1.18 - - - - - - - - - - 1.18 - - - - - - - - - - 1.18 - - - - - - - - - - 1.18 - - - - - - - - - - 1.18 - - - - - - - - - - 1.18 - - - - - - - - - - 1.18 - - - - - - - - - - 1.18 - - - - - - - - - - 1.18 - - - - - - -\n",
      "DstmDspBr lnN - - - - 1.11 - - - - - - - - - - 1.11 - - - - - - - - - - 1.11 - - - - - - - - - - 1.11 - - - - - - - - - - 1.11 - - - - - - - - - - 1.11 - - - - - - - - - - 1.11 - - - - - - - - - - 1.11 - - - - - - - - - - 1.11 - - - - - - - - - - 1.11 - - - - - -\n",
      "BpDstmHcBr lnN - - - - - 1.22 - - - - - - - - - - 1.22 - - - - - - - - - - 1.22 - - - - - - - - - - 1.22 - - - - - - - - - - 1.22 - - - - - - - - - - 1.22 - - - - - - - - - - 1.22 - - - - - - - - - - 1.22 - - - - - - - - - - 1.22 - - - - - - - - - - 1.22 - - - - -\n",
      "DstPiBr lnN - - - - - - 1.07 - 1.07 - - - - - - - - 1.07 - 1.07 - - - - - - - - 1.07 - 1.07 - - - - - - - - 1.07 - 1.07 - - - - - - - - 1.07 - 1.07 - - - - - - - - 1.07 - 1.07 - - - - - - - - 1.07 - 1.07 - - - - - - - - 1.07 - 1.07 - - - - - - - - 1.07 - 1.07 - - - - - - - - 1.07 - 1.07 - -\n",
      "DstPiPiBr lnN - - - - - - - 1.36 - 1.36 1.36 - - - - - - - 1.36 - 1.36 1.36 - - - - - - - 1.36 - 1.36 1.36 - - - - - - - 1.36 - 1.36 1.36 - - - - - - - 1.36 - 1.36 1.36 - - - - - - - 1.36 - 1.36 1.36 - - - - - - - 1.36 - 1.36 1.36 - - - - - - - 1.36 - 1.36 1.36 - - - - - - - 1.36 - 1.36 1.36 - - - - - - - 1.36 - 1.36 1.36\n",
      "--------------------------------------------------------------\n",
      "trgSF shape 1. 1. 1. 1. 1. 1. 1. 1. 1. 1. 1. 1. 1. 1. 1. 1. 1. 1. 1. 1. 1. 1. 1. 1. 1. 1. 1. 1. 1. 1. 1. 1. 1. 1. 1. 1. 1. 1. 1. 1. 1. 1. 1. 1. 1. 1. 1. 1. 1. 1. 1. 1. 1. 1. 1. 1. 1. 1. 1. 1. 1. 1. 1. 1. 1. 1. 1. 1. 1. 1. 1. 1. 1. 1. 1. 1. 1. 1. 1. 1. 1. 1. 1. 1. 1. 1. 1. 1. 1. 1. 1. 1. 1. 1. 1. 1. 1. 1. 1. 1. 1. 1. 1. 1. 1. 1. 1. 1. 1. 1.\n",
      "muonIdSF shape 1. 1. 1. 1. 1. 1. 1. 1. 1. 1. 1. 1. 1. 1. 1. 1. 1. 1. 1. 1. 1. 1. 1. 1. 1. 1. 1. 1. 1. 1. 1. 1. 1. 1. 1. 1. 1. 1. 1. 1. 1. 1. 1. 1. 1. 1. 1. 1. 1. 1. 1. 1. 1. 1. 1. 1. 1. 1. 1. 1. 1. 1. 1. 1. 1. 1. 1. 1. 1. 1. 1. 1. 1. 1. 1. 1. 1. 1. 1. 1. 1. 1. 1. 1. 1. 1. 1. 1. 1. 1. 1. 1. 1. 1. 1. 1. 1. 1. 1. 1. 1. 1. 1. 1. 1. 1. 1. 1. 1. 1.\n",
      "tkPVfrac shape 1. 1. 1. 1. 1. 1. 1. 1. 1. 1. 1. 1. 1. 1. 1. 1. 1. 1. 1. 1. 1. 1. 1. 1. 1. 1. 1. 1. 1. 1. 1. 1. 1. 1. 1. 1. 1. 1. 1. 1. 1. 1. 1. 1. 1. 1. 1. 1. 1. 1. 1. 1. 1. 1. 1. 1. 1. 1. 1. 1. 1. 1. 1. 1. 1. 1. - - - - - - - - - - - - - - - - - - - - - - - - - - - - - - - - - - - - - - - - - - - -\n",
      "B0pT shape 1. 1. 1. 1. 1. - - - 1. 1. 1. 1. 1. 1. 1. 1. - - - 1. 1. 1. 1. 1. 1. 1. 1. - - - 1. 1. 1. 1. 1. 1. 1. 1. - - - 1. 1. 1. 1. 1. 1. 1. 1. - - - 1. 1. 1. 1. 1. 1. 1. 1. - - - 1. 1. 1. 1. 1. 1. 1. 1. - - - 1. 1. 1. 1. 1. 1. 1. 1. - - - 1. 1. 1. 1. 1. 1. 1. 1. - - - 1. 1. 1. 1. 1. 1. 1. 1. - - - 1. 1. 1.\n",
      "B2DstCLNR0 shape 1. 1. - - - - - - - - - 1. 1. - - - - - - - - - 1. 1. - - - - - - - - - 1. 1. - - - - - - - - - 1. 1. - - - - - - - - - 1. 1. - - - - - - - - - 1. 1. - - - - - - - - - 1. 1. - - - - - - - - - 1. 1. - - - - - - - - - 1. 1. - - - - - - - - -\n",
      "B2DstCLNR1 shape 1. 1. - - - - - - - - - 1. 1. - - - - - - - - - 1. 1. - - - - - - - - - 1. 1. - - - - - - - - - 1. 1. - - - - - - - - - 1. 1. - - - - - - - - - 1. 1. - - - - - - - - - 1. 1. - - - - - - - - - 1. 1. - - - - - - - - - 1. 1. - - - - - - - - -\n",
      "B2DstCLNR2 shape 1. 1. - - - - - - - - - 1. 1. - - - - - - - - - 1. 1. - - - - - - - - - 1. 1. - - - - - - - - - 1. 1. - - - - - - - - - 1. 1. - - - - - - - - - 1. 1. - - - - - - - - - 1. 1. - - - - - - - - - 1. 1. - - - - - - - - - 1. 1. - - - - - - - - -\n",
      "B2DstCLNRhoSq shape 1. 1. - - - - - - - - - 1. 1. - - - - - - - - - 1. 1. - - - - - - - - - 1. 1. - - - - - - - - - 1. 1. - - - - - - - - - 1. 1. - - - - - - - - - 1. 1. - - - - - - - - - 1. 1. - - - - - - - - - 1. 1. - - - - - - - - - 1. 1. - - - - - - - - -\n",
      "fDststWide shape - - - - - - 1. - - - - - - - - - - 1. - - - - - - - - - - 1. - - - - - - - - - - 1. - - - - - - - - - - 1. - - - - - - - - - - 1. - - - - - - - - - - 1. - - - - - - - - - - 1. - - - - - - - - - - 1. - - - - - - - - - - 1. - - - -\n",
      "BrB02DstD0Kp shape - - 1. - - - - - - - - - - 1. - - - - - - - - - - 1. - - - - - - - - - - 1. - - - - - - - - - - 1. - - - - - - - - - - 1. - - - - - - - - - - 1. - - - - - - - - - - 1. - - - - - - - - - - 1. - - - - - - - - - - 1. - - - - - - - -\n",
      "BrB02DstD0Kstp shape - - 1. - - - - - - - - - - 1. - - - - - - - - - - 1. - - - - - - - - - - 1. - - - - - - - - - - 1. - - - - - - - - - - 1. - - - - - - - - - - 1. - - - - - - - - - - 1. - - - - - - - - - - 1. - - - - - - - - - - 1. - - - - - - - -\n",
      "BrB02DstDst0Kp shape - - 1. - - - - - - - - - - 1. - - - - - - - - - - 1. - - - - - - - - - - 1. - - - - - - - - - - 1. - - - - - - - - - - 1. - - - - - - - - - - 1. - - - - - - - - - - 1. - - - - - - - - - - 1. - - - - - - - - - - 1. - - - - - - - -\n",
      "BrB02DstDst0Kstp shape - - 1. - - - - - - - - - - 1. - - - - - - - - - - 1. - - - - - - - - - - 1. - - - - - - - - - - 1. - - - - - - - - - - 1. - - - - - - - - - - 1. - - - - - - - - - - 1. - - - - - - - - - - 1. - - - - - - - - - - 1. - - - - - - - -\n",
      "BrB02DstDpK0 shape - - - 1. - - - - - - - - - - 1. - - - - - - - - - - 1. - - - - - - - - - - 1. - - - - - - - - - - 1. - - - - - - - - - - 1. - - - - - - - - - - 1. - - - - - - - - - - 1. - - - - - - - - - - 1. - - - - - - - - - - 1. - - - - - - -\n",
      "BrB02DstDpKst0 shape - - - 1. - - - - - - - - - - 1. - - - - - - - - - - 1. - - - - - - - - - - 1. - - - - - - - - - - 1. - - - - - - - - - - 1. - - - - - - - - - - 1. - - - - - - - - - - 1. - - - - - - - - - - 1. - - - - - - - - - - 1. - - - - - - -\n",
      "BrB02DstDstpK0 shape - - 1. 1. - - - - - - - - - 1. 1. - - - - - - - - - 1. 1. - - - - - - - - - 1. 1. - - - - - - - - - 1. 1. - - - - - - - - - 1. 1. - - - - - - - - - 1. 1. - - - - - - - - - 1. 1. - - - - - - - - - 1. 1. - - - - - - - - - 1. 1. - - - - - - -\n",
      "BrB02DstDstpKst0 shape - - 1. 1. - - - - - - - - - 1. 1. - - - - - - - - - 1. 1. - - - - - - - - - 1. 1. - - - - - - - - - 1. 1. - - - - - - - - - 1. 1. - - - - - - - - - 1. 1. - - - - - - - - - 1. 1. - - - - - - - - - 1. 1. - - - - - - - - - 1. 1. - - - - - - -\n",
      "BrB02DstDs shape - - - - 1. - - - - - - - - - - 1. - - - - - - - - - - 1. - - - - - - - - - - 1. - - - - - - - - - - 1. - - - - - - - - - - 1. - - - - - - - - - - 1. - - - - - - - - - - 1. - - - - - - - - - - 1. - - - - - - - - - - 1. - - - - - -\n",
      "BrB02DstDsst shape - - - - 1. - - - - - - - - - - 1. - - - - - - - - - - 1. - - - - - - - - - - 1. - - - - - - - - - - 1. - - - - - - - - - - 1. - - - - - - - - - - 1. - - - - - - - - - - 1. - - - - - - - - - - 1. - - - - - - - - - - 1. - - - - - -\n",
      "BrB02DstDs0st shape - - - - 1. - - - - - - - - - - 1. - - - - - - - - - - 1. - - - - - - - - - - 1. - - - - - - - - - - 1. - - - - - - - - - - 1. - - - - - - - - - - 1. - - - - - - - - - - 1. - - - - - - - - - - 1. - - - - - - - - - - 1. - - - - - -\n",
      "* autoMCStats 10 1 1\n",
      "--------------------------------------------------------------\n",
      "B2DstFF group = B2DstCLNR0 B2DstCLNR1 B2DstCLNR2 B2DstCLNRhoSq\n",
      "allShape group = trgSF muonIdSF B0pT B2DstCLNR0 B2DstCLNR1 B2DstCLNR2 B2DstCLNRhoSq\n",
      "\n"
     ]
    }
   ],
   "source": [
    "print card"
   ]
  },
  {
   "cell_type": "code",
   "execution_count": 51,
   "metadata": {
    "ExecuteTime": {
     "end_time": "2020-05-28T00:26:15.153773Z",
     "start_time": "2020-05-28T00:26:15.102836Z"
    },
    "hidden": true
   },
   "outputs": [],
   "source": [
    "card_location = 'cards/{}.txt'.format(card_name)\n",
    "fc = open(card_location, 'w')\n",
    "fc.write(card)\n",
    "fc.close()"
   ]
  },
  {
   "cell_type": "code",
   "execution_count": 52,
   "metadata": {
    "ExecuteTime": {
     "end_time": "2020-05-28T00:26:15.291078Z",
     "start_time": "2020-05-28T00:26:15.158758Z"
    },
    "hidden": true
   },
   "outputs": [],
   "source": [
    "outdir = 'results/' + card_name\n",
    "if os.path.isdir(outdir):\n",
    "    os.system('rm -rf ' + outdir)\n",
    "os.system('mkdir -p ' + outdir + '/fig');"
   ]
  },
  {
   "cell_type": "markdown",
   "metadata": {},
   "source": [
    "# Run Combine"
   ]
  },
  {
   "cell_type": "markdown",
   "metadata": {
    "heading_collapsed": true
   },
   "source": [
    "## Create the workspace"
   ]
  },
  {
   "cell_type": "code",
   "execution_count": 53,
   "metadata": {
    "ExecuteTime": {
     "end_time": "2020-05-28T00:26:26.192139Z",
     "start_time": "2020-05-28T00:26:15.296745Z"
    },
    "hidden": true,
    "scrolled": true
   },
   "outputs": [
    {
     "name": "stdout",
     "output_type": "stream",
     "text": [
      "Channel AddTk_m_mHad will use autoMCStats with settings: event-threshold=10, include-signal=1, hist-mode=1\n",
      "============================================================\n",
      "Analysing bin errors for: prop_binAddTk_m_mHad\n",
      "Poisson cut-off: 10\n",
      "============================================================\n",
      "Bin        Contents        Error           Notes                         \n",
      "0          25.595095       3.076796        total sum                     \n",
      "0          69.000000       8.306624        Unweighted events, alpha=0.370943\n",
      "  => Total parameter prop_binAddTk_m_mHad_bin0[0.00,-7.00,7.00] to be gaussian constrained\n",
      "------------------------------------------------------------\n",
      "1          808.872693      18.308798       total sum                     \n",
      "1          1952.000000     44.181444       Unweighted events, alpha=0.414382\n",
      "  => Total parameter prop_binAddTk_m_mHad_bin1[0.00,-7.00,7.00] to be gaussian constrained\n",
      "------------------------------------------------------------\n",
      "2          1253.909737     22.973600       total sum                     \n",
      "2          2979.000000     54.580216       Unweighted events, alpha=0.420916\n",
      "  => Total parameter prop_binAddTk_m_mHad_bin2[0.00,-7.00,7.00] to be gaussian constrained\n",
      "------------------------------------------------------------\n",
      "3          1088.529064     22.097154       total sum                     \n",
      "3          2427.000000     49.264592       Unweighted events, alpha=0.448508\n",
      "  => Total parameter prop_binAddTk_m_mHad_bin3[0.00,-7.00,7.00] to be gaussian constrained\n",
      "------------------------------------------------------------\n",
      "4          851.325651      19.378980       total sum                     \n",
      "4          1930.000000     43.931765       Unweighted events, alpha=0.441101\n",
      "  => Total parameter prop_binAddTk_m_mHad_bin4[0.00,-7.00,7.00] to be gaussian constrained\n",
      "------------------------------------------------------------\n",
      "5          710.517374      18.470377       total sum                     \n",
      "5          1480.000000     38.470768       Unweighted events, alpha=0.480079\n",
      "  => Total parameter prop_binAddTk_m_mHad_bin5[0.00,-7.00,7.00] to be gaussian constrained\n",
      "------------------------------------------------------------\n",
      "6          540.957446      15.492094       total sum                     \n",
      "6          1219.000000     34.914181       Unweighted events, alpha=0.443771\n",
      "  => Total parameter prop_binAddTk_m_mHad_bin6[0.00,-7.00,7.00] to be gaussian constrained\n",
      "------------------------------------------------------------\n",
      "7          446.339561      15.266953       total sum                     \n",
      "7          855.000000      29.240383       Unweighted events, alpha=0.522035\n",
      "  => Total parameter prop_binAddTk_m_mHad_bin7[0.00,-7.00,7.00] to be gaussian constrained\n",
      "------------------------------------------------------------\n",
      "8          351.854581      13.328004       total sum                     \n",
      "8          697.000000      26.400758       Unweighted events, alpha=0.504813\n",
      "  => Total parameter prop_binAddTk_m_mHad_bin8[0.00,-7.00,7.00] to be gaussian constrained\n",
      "------------------------------------------------------------\n",
      "9          273.203495      11.620757       total sum                     \n",
      "9          553.000000      23.515952       Unweighted events, alpha=0.494039\n",
      "  => Total parameter prop_binAddTk_m_mHad_bin9[0.00,-7.00,7.00] to be gaussian constrained\n",
      "------------------------------------------------------------\n",
      "10         201.651283      10.077897       total sum                     \n",
      "10         400.000000      20.000000       Unweighted events, alpha=0.504128\n",
      "  => Total parameter prop_binAddTk_m_mHad_bin10[0.00,-7.00,7.00] to be gaussian constrained\n",
      "------------------------------------------------------------\n",
      "11         169.910470      9.921859        total sum                     \n",
      "11         293.000000      17.117243       Unweighted events, alpha=0.579899\n",
      "  => Total parameter prop_binAddTk_m_mHad_bin11[0.00,-7.00,7.00] to be gaussian constrained\n",
      "------------------------------------------------------------\n",
      "12         137.219314      8.342929        total sum                     \n",
      "12         271.000000      16.462078       Unweighted events, alpha=0.506344\n",
      "  => Total parameter prop_binAddTk_m_mHad_bin12[0.00,-7.00,7.00] to be gaussian constrained\n",
      "------------------------------------------------------------\n",
      "13         122.668862      8.267140        total sum                     \n",
      "13         220.000000      14.832397       Unweighted events, alpha=0.557586\n",
      "  => Total parameter prop_binAddTk_m_mHad_bin13[0.00,-7.00,7.00] to be gaussian constrained\n",
      "------------------------------------------------------------\n",
      "14         104.138100      7.267606        total sum                     \n",
      "14         205.000000      14.317821       Unweighted events, alpha=0.507991\n",
      "  => Total parameter prop_binAddTk_m_mHad_bin14[0.00,-7.00,7.00] to be gaussian constrained\n",
      "------------------------------------------------------------\n",
      "15         80.108000       6.545112        total sum                     \n",
      "15         150.000000      12.247449       Unweighted events, alpha=0.534053\n",
      "  => Total parameter prop_binAddTk_m_mHad_bin15[0.00,-7.00,7.00] to be gaussian constrained\n",
      "------------------------------------------------------------\n",
      "16         71.050339       5.829287        total sum                     \n",
      "16         149.000000      12.206556       Unweighted events, alpha=0.476848\n",
      "  => Total parameter prop_binAddTk_m_mHad_bin16[0.00,-7.00,7.00] to be gaussian constrained\n",
      "------------------------------------------------------------\n",
      "17         56.226605       4.687659        total sum                     \n",
      "17         144.000000      12.000000       Unweighted events, alpha=0.390463\n",
      "  => Total parameter prop_binAddTk_m_mHad_bin17[0.00,-7.00,7.00] to be gaussian constrained\n",
      "------------------------------------------------------------\n",
      "18         50.168887       5.189954        total sum                     \n",
      "18         93.000000       9.643651        Unweighted events, alpha=0.539450\n",
      "  => Total parameter prop_binAddTk_m_mHad_bin18[0.00,-7.00,7.00] to be gaussian constrained\n",
      "------------------------------------------------------------\n",
      "19         34.330376       3.686680        total sum                     \n",
      "19         87.000000       9.327379        Unweighted events, alpha=0.394602\n",
      "  => Total parameter prop_binAddTk_m_mHad_bin19[0.00,-7.00,7.00] to be gaussian constrained\n",
      "------------------------------------------------------------\n",
      "20         30.463264       3.488385        total sum                     \n",
      "20         76.000000       8.717798        Unweighted events, alpha=0.400832\n",
      "  => Total parameter prop_binAddTk_m_mHad_bin20[0.00,-7.00,7.00] to be gaussian constrained\n",
      "------------------------------------------------------------\n",
      "21         28.737431       4.091264        total sum                     \n",
      "21         49.000000       7.000000        Unweighted events, alpha=0.586478\n",
      "  => Total parameter prop_binAddTk_m_mHad_bin21[0.00,-7.00,7.00] to be gaussian constrained\n",
      "------------------------------------------------------------\n",
      "22         25.279890       3.542059        total sum                     \n",
      "22         51.000000       7.141428        Unweighted events, alpha=0.495684\n",
      "  => Total parameter prop_binAddTk_m_mHad_bin22[0.00,-7.00,7.00] to be gaussian constrained\n",
      "------------------------------------------------------------\n",
      "23         19.445910       2.487640        total sum                     \n",
      "23         61.000000       7.810250        Unweighted events, alpha=0.318785\n",
      "  => Total parameter prop_binAddTk_m_mHad_bin23[0.00,-7.00,7.00] to be gaussian constrained\n",
      "------------------------------------------------------------\n",
      "24         18.133486       2.591941        total sum                     \n",
      "24         49.000000       7.000000        Unweighted events, alpha=0.370071\n",
      "  => Total parameter prop_binAddTk_m_mHad_bin24[0.00,-7.00,7.00] to be gaussian constrained\n",
      "------------------------------------------------------------\n",
      "25         14.898601       2.399637        total sum                     \n",
      "25         39.000000       6.244998        Unweighted events, alpha=0.382015\n",
      "  => Total parameter prop_binAddTk_m_mHad_bin25[0.00,-7.00,7.00] to be gaussian constrained\n",
      "------------------------------------------------------------\n",
      "26         12.562219       2.017956        total sum                     \n",
      "26         39.000000       6.244998        Unweighted events, alpha=0.322108\n",
      "  => Total parameter prop_binAddTk_m_mHad_bin26[0.00,-7.00,7.00] to be gaussian constrained\n",
      "------------------------------------------------------------\n",
      "27         11.778635       2.492570        total sum                     \n",
      "27         22.000000       4.690416        Unweighted events, alpha=0.535392\n",
      "  => Total parameter prop_binAddTk_m_mHad_bin27[0.00,-7.00,7.00] to be gaussian constrained\n",
      "------------------------------------------------------------\n",
      "28         11.035666       2.020105        total sum                     \n",
      "28         30.000000       5.477226        Unweighted events, alpha=0.367856\n",
      "  => Total parameter prop_binAddTk_m_mHad_bin28[0.00,-7.00,7.00] to be gaussian constrained\n",
      "------------------------------------------------------------\n",
      "29         3.868781        0.850847        total sum                     \n",
      "29         21.000000       4.582576        Unweighted events, alpha=0.184228\n",
      "  => Total parameter prop_binAddTk_m_mHad_bin29[0.00,-7.00,7.00] to be gaussian constrained\n",
      "------------------------------------------------------------\n",
      "Channel AddTk_mm_mHad will use autoMCStats with settings: event-threshold=10, include-signal=1, hist-mode=1\n",
      "============================================================\n",
      "Analysing bin errors for: prop_binAddTk_mm_mHad\n",
      "Poisson cut-off: 10\n",
      "============================================================\n",
      "Bin        Contents        Error           Notes                         \n",
      "0          3.669632        1.046683        total sum                     \n",
      "0          12.000000       3.464102        Unweighted events, alpha=0.305803\n",
      "  => Total parameter prop_binAddTk_mm_mHad_bin0[0.00,-7.00,7.00] to be gaussian constrained\n",
      "------------------------------------------------------------\n",
      "1          41.517768       7.536303        total sum                     \n",
      "1          30.000000       5.477226        Unweighted events, alpha=1.383926\n",
      "  => Total parameter prop_binAddTk_mm_mHad_bin1[0.00,-7.00,7.00] to be gaussian constrained\n",
      "------------------------------------------------------------\n",
      "2          55.366842       6.993919        total sum                     \n",
      "2          63.000000       7.937254        Unweighted events, alpha=0.878839\n",
      "  => Total parameter prop_binAddTk_mm_mHad_bin2[0.00,-7.00,7.00] to be gaussian constrained\n",
      "------------------------------------------------------------\n",
      "3          41.640368       4.663229        total sum                     \n",
      "3          80.000000       8.944272        Unweighted events, alpha=0.520505\n",
      "  => Total parameter prop_binAddTk_mm_mHad_bin3[0.00,-7.00,7.00] to be gaussian constrained\n",
      "------------------------------------------------------------\n",
      "4          46.455919       9.144837        total sum                     \n",
      "4          26.000000       5.099020        Unweighted events, alpha=1.786766\n",
      "  => Total parameter prop_binAddTk_mm_mHad_bin4[0.00,-7.00,7.00] to be gaussian constrained\n",
      "------------------------------------------------------------\n",
      "5          38.824194       7.155078        total sum                     \n",
      "5          29.000000       5.385165        Unweighted events, alpha=1.338765\n",
      "  => Total parameter prop_binAddTk_mm_mHad_bin5[0.00,-7.00,7.00] to be gaussian constrained\n",
      "------------------------------------------------------------\n",
      "6          25.231322       4.316590        total sum                     \n",
      "6          34.000000       5.830952        Unweighted events, alpha=0.742098\n",
      "  => Total parameter prop_binAddTk_mm_mHad_bin6[0.00,-7.00,7.00] to be gaussian constrained\n",
      "------------------------------------------------------------\n",
      "7          15.789526       5.114093        total sum                     \n",
      "7          10.000000       3.162278        Unweighted events, alpha=1.578953\n",
      "  => Number of weighted events is below poisson threshold\n",
      "    tau                  0.460057        0.460057                                      \n",
      "                         1.000000        1.000000        Unweighted events, alpha=0.460057\n",
      "      => Product of prop_binAddTk_mm_mHad_bin7_tau[1.00,0.00,30.85] and const [1.0000] to be poisson constrained\n",
      "  ----------------------------------------------------------\n",
      "    DstmDp               0.071473        0.052869                                      \n",
      "                         2.000000        1.414214        Unweighted events, alpha=0.035736\n",
      "      => Product of prop_binAddTk_mm_mHad_bin7_DstmDp[2.00,0.00,33.79] and const [0.5000] to be poisson constrained\n",
      "  ----------------------------------------------------------\n",
      "    DstPipPi0            0.136264        0.116018                                      \n",
      "                         1.000000        1.000000        Unweighted events, alpha=0.136264\n",
      "      => Product of prop_binAddTk_mm_mHad_bin7_DstPipPi0[1.00,0.00,30.85] and const [1.0000] to be poisson constrained\n",
      "  ----------------------------------------------------------\n",
      "    DstPip               2.142380        1.209871                                      \n",
      "                         3.000000        1.732051        Unweighted events, alpha=0.714127\n",
      "      => Product of prop_binAddTk_mm_mHad_bin7_DstPip[3.00,0.00,36.46] and const [0.3333] to be poisson constrained\n",
      "  ----------------------------------------------------------\n",
      "    mu                   11.714242       4.920579                                      \n",
      "                         6.000000        2.449490        Unweighted events, alpha=1.952374\n",
      "      => Product of prop_binAddTk_mm_mHad_bin7_mu[6.00,0.03,43.60] and const [0.1667] to be poisson constrained\n",
      "  ----------------------------------------------------------\n",
      "    DstmDsp              0.262877        0.108683                                      \n",
      "                         6.000000        2.449490        Unweighted events, alpha=0.043813\n",
      "      => Product of prop_binAddTk_mm_mHad_bin7_DstmDsp[6.00,0.03,43.60] and const [0.1667] to be poisson constrained\n",
      "  ----------------------------------------------------------\n",
      "    DstPi0               0.260574        0.166962                                      \n",
      "                         2.000000        1.414214        Unweighted events, alpha=0.130287\n",
      "      => Product of prop_binAddTk_mm_mHad_bin7_DstPi0[2.00,0.00,33.79] and const [0.5000] to be poisson constrained\n",
      "  ----------------------------------------------------------\n",
      "    DstPipPim            0.684769        0.456283                                      \n",
      "                         2.000000        1.414214        Unweighted events, alpha=0.342384\n",
      "      => Product of prop_binAddTk_mm_mHad_bin7_DstPipPim[2.00,0.00,33.79] and const [0.5000] to be poisson constrained\n",
      "  ----------------------------------------------------------\n",
      "    DstmD0               0.002028        0.002028                                      \n",
      "                         1.000000        1.000000        Unweighted events, alpha=0.002028\n",
      "      => Product of prop_binAddTk_mm_mHad_bin7_DstmD0[1.00,0.00,30.85] and const [1.0000] to be poisson constrained\n",
      "  ----------------------------------------------------------\n",
      "    BpDstmHc             0.000000        0.000000                                      \n",
      "      => Error is zero, ignore      \n",
      "  ----------------------------------------------------------\n",
      "    DstPi0Pi0            0.054863        0.047701                                      \n",
      "                         1.000000        1.000000        Unweighted events, alpha=0.054863\n",
      "      => Product of prop_binAddTk_mm_mHad_bin7_DstPi0Pi0[1.00,0.00,30.85] and const [1.0000] to be poisson constrained\n",
      "  ----------------------------------------------------------\n",
      "------------------------------------------------------------\n",
      "8          13.084051       2.908413        total sum                     \n",
      "8          20.000000       4.472136        Unweighted events, alpha=0.654203\n",
      "  => Total parameter prop_binAddTk_mm_mHad_bin8[0.00,-7.00,7.00] to be gaussian constrained\n",
      "------------------------------------------------------------\n",
      "9          9.403017        2.496986        total sum                     \n",
      "9          14.000000       3.741657        Unweighted events, alpha=0.671644\n",
      "  => Total parameter prop_binAddTk_mm_mHad_bin9[0.00,-7.00,7.00] to be gaussian constrained\n",
      "------------------------------------------------------------\n",
      "10         3.984975        1.536398        total sum                     \n",
      "10         7.000000        2.645751        Unweighted events, alpha=0.569282\n",
      "  => Number of weighted events is below poisson threshold\n",
      "    tau                  0.215248        0.152505                                      \n",
      "                         2.000000        1.414214        Unweighted events, alpha=0.107624\n",
      "      => Product of prop_binAddTk_mm_mHad_bin10_tau[2.00,0.00,33.79] and const [0.5000] to be poisson constrained\n",
      "  ----------------------------------------------------------\n",
      "    DstmDp               0.033872        0.033872                                      \n",
      "                         1.000000        1.000000        Unweighted events, alpha=0.033872\n",
      "      => Product of prop_binAddTk_mm_mHad_bin10_DstmDp[1.00,0.00,30.85] and const [1.0000] to be poisson constrained\n",
      "  ----------------------------------------------------------\n",
      "    DstPipPi0            0.000000        0.000000                                      \n",
      "      => Error is zero, ignore      \n",
      "  ----------------------------------------------------------\n",
      "    DstPip               0.042723        0.042723                                      \n",
      "                         1.000000        1.000000        Unweighted events, alpha=0.042723\n",
      "      => Product of prop_binAddTk_mm_mHad_bin10_DstPip[1.00,0.00,30.85] and const [1.0000] to be poisson constrained\n",
      "  ----------------------------------------------------------\n",
      "    mu                   3.274250        1.516762                                      \n",
      "                         5.000000        2.236068        Unweighted events, alpha=0.654850\n",
      "      => Product of prop_binAddTk_mm_mHad_bin10_mu[5.00,0.01,41.33] and const [0.2000] to be poisson constrained\n",
      "  ----------------------------------------------------------\n",
      "    DstmDsp              0.191085        0.146149                                      \n",
      "                         2.000000        1.414214        Unweighted events, alpha=0.095542\n",
      "      => Product of prop_binAddTk_mm_mHad_bin10_DstmDsp[2.00,0.00,33.79] and const [0.5000] to be poisson constrained\n",
      "  ----------------------------------------------------------\n",
      "    DstPi0               0.046544        0.046544                                      \n",
      "                         1.000000        1.000000        Unweighted events, alpha=0.046544\n",
      "      => Product of prop_binAddTk_mm_mHad_bin10_DstPi0[1.00,0.00,30.85] and const [1.0000] to be poisson constrained\n",
      "  ----------------------------------------------------------\n",
      "    DstPipPim            0.000000        0.000000                                      \n",
      "      => Error is zero, ignore      \n",
      "  ----------------------------------------------------------\n",
      "    DstmD0               0.152351        0.097103                                      \n",
      "                         2.000000        1.414214        Unweighted events, alpha=0.076176\n",
      "      => Product of prop_binAddTk_mm_mHad_bin10_DstmD0[2.00,0.00,33.79] and const [0.5000] to be poisson constrained\n",
      "  ----------------------------------------------------------\n",
      "    BpDstmHc             0.001233        0.001130                                      \n",
      "                         1.000000        1.000000        Unweighted events, alpha=0.001233\n",
      "      => Product of prop_binAddTk_mm_mHad_bin10_BpDstmHc[1.00,0.00,30.85] and const [1.0000] to be poisson constrained\n",
      "  ----------------------------------------------------------\n",
      "    DstPi0Pi0            0.027669        0.027669                                      \n",
      "                         1.000000        1.000000        Unweighted events, alpha=0.027669\n",
      "      => Product of prop_binAddTk_mm_mHad_bin10_DstPi0Pi0[1.00,0.00,30.85] and const [1.0000] to be poisson constrained\n",
      "  ----------------------------------------------------------\n",
      "------------------------------------------------------------\n",
      "11         2.161063        0.678638        total sum                     \n",
      "11         10.000000       3.162278        Unweighted events, alpha=0.216106\n",
      "  => Number of weighted events is below poisson threshold\n",
      "    tau                  0.172992        0.123421                                      \n",
      "                         2.000000        1.414214        Unweighted events, alpha=0.086496\n",
      "      => Product of prop_binAddTk_mm_mHad_bin11_tau[2.00,0.00,33.79] and const [0.5000] to be poisson constrained\n",
      "  ----------------------------------------------------------\n",
      "    DstmDp               0.000000        0.000000                                      \n",
      "      => Error is zero, ignore      \n",
      "  ----------------------------------------------------------\n",
      "    DstPipPi0            0.000000        0.000000                                      \n",
      "      => Error is zero, ignore      \n",
      "  ----------------------------------------------------------\n",
      "    DstPip               0.000000        0.000000                                      \n",
      "      => Error is zero, ignore      \n",
      "  ----------------------------------------------------------\n",
      "    mu                   1.662477        0.642411                                      \n",
      "                         7.000000        2.645751        Unweighted events, alpha=0.237497\n",
      "      => Product of prop_binAddTk_mm_mHad_bin11_mu[7.00,0.07,45.79] and const [0.1429] to be poisson constrained\n",
      "  ----------------------------------------------------------\n",
      "    DstmDsp              0.000000        0.000000                                      \n",
      "      => Error is zero, ignore      \n",
      "  ----------------------------------------------------------\n",
      "    DstPi0               0.166968        0.145004                                      \n",
      "                         1.000000        1.000000        Unweighted events, alpha=0.166968\n",
      "      => Product of prop_binAddTk_mm_mHad_bin11_DstPi0[1.00,0.00,30.85] and const [1.0000] to be poisson constrained\n",
      "  ----------------------------------------------------------\n",
      "    DstPipPim            0.000000        0.000000                                      \n",
      "      => Error is zero, ignore      \n",
      "  ----------------------------------------------------------\n",
      "    DstmD0               0.075245        0.075245                                      \n",
      "                         1.000000        1.000000        Unweighted events, alpha=0.075245\n",
      "      => Product of prop_binAddTk_mm_mHad_bin11_DstmD0[1.00,0.00,30.85] and const [1.0000] to be poisson constrained\n",
      "  ----------------------------------------------------------\n",
      "    BpDstmHc             0.000000        0.000000                                      \n",
      "      => Error is zero, ignore      \n",
      "  ----------------------------------------------------------\n",
      "    DstPi0Pi0            0.083380        0.077053                                      \n",
      "                         1.000000        1.000000        Unweighted events, alpha=0.083380\n",
      "      => Product of prop_binAddTk_mm_mHad_bin11_DstPi0Pi0[1.00,0.00,30.85] and const [1.0000] to be poisson constrained\n",
      "  ----------------------------------------------------------\n",
      "------------------------------------------------------------\n",
      "12         3.684180        1.213047        total sum                     \n",
      "12         9.000000        3.000000        Unweighted events, alpha=0.409353\n",
      "  => Number of weighted events is below poisson threshold\n",
      "    tau                  0.000000        0.000000                                      \n",
      "      => Error is zero, ignore      \n",
      "  ----------------------------------------------------------\n",
      "    DstmDp               0.000000        0.000000                                      \n",
      "      => Error is zero, ignore      \n",
      "  ----------------------------------------------------------\n",
      "    DstPipPi0            0.000000        0.000000                                      \n",
      "      => Error is zero, ignore      \n",
      "  ----------------------------------------------------------\n",
      "    DstPip               0.258930        0.141897                                      \n",
      "                         3.000000        1.732051        Unweighted events, alpha=0.086310\n",
      "      => Product of prop_binAddTk_mm_mHad_bin12_DstPip[3.00,0.00,36.46] and const [0.3333] to be poisson constrained\n",
      "  ----------------------------------------------------------\n",
      "    mu                   3.066153        1.190370                                      \n",
      "                         7.000000        2.645751        Unweighted events, alpha=0.438022\n",
      "      => Product of prop_binAddTk_mm_mHad_bin12_mu[7.00,0.07,45.79] and const [0.1429] to be poisson constrained\n",
      "  ----------------------------------------------------------\n",
      "    DstmDsp              0.091093        0.083712                                      \n",
      "                         1.000000        1.000000        Unweighted events, alpha=0.091093\n",
      "      => Product of prop_binAddTk_mm_mHad_bin12_DstmDsp[1.00,0.00,30.85] and const [1.0000] to be poisson constrained\n",
      "  ----------------------------------------------------------\n",
      "    DstPi0               0.076049        0.076049                                      \n",
      "                         1.000000        1.000000        Unweighted events, alpha=0.076049\n",
      "      => Product of prop_binAddTk_mm_mHad_bin12_DstPi0[1.00,0.00,30.85] and const [1.0000] to be poisson constrained\n",
      "  ----------------------------------------------------------\n",
      "    DstPipPim            0.019652        0.019652                                      \n",
      "                         1.000000        1.000000        Unweighted events, alpha=0.019652\n",
      "      => Product of prop_binAddTk_mm_mHad_bin12_DstPipPim[1.00,0.00,30.85] and const [1.0000] to be poisson constrained\n",
      "  ----------------------------------------------------------\n",
      "    DstmD0               0.172304        0.145570                                      \n",
      "                         1.000000        1.000000        Unweighted events, alpha=0.172304\n",
      "      => Product of prop_binAddTk_mm_mHad_bin12_DstmD0[1.00,0.00,30.85] and const [1.0000] to be poisson constrained\n",
      "  ----------------------------------------------------------\n",
      "    BpDstmHc             0.000000        0.000000                                      \n",
      "      => Error is zero, ignore      \n",
      "  ----------------------------------------------------------\n",
      "    DstPi0Pi0            0.000000        0.000000                                      \n",
      "      => Error is zero, ignore      \n",
      "  ----------------------------------------------------------\n",
      "------------------------------------------------------------\n",
      "13         1.643526        0.698646        total sum                     \n",
      "13         6.000000        2.449490        Unweighted events, alpha=0.273921\n",
      "  => Number of weighted events is below poisson threshold\n",
      "    tau                  0.000000        0.000000                                      \n",
      "      => Error is zero, ignore      \n",
      "  ----------------------------------------------------------\n",
      "    DstmDp               0.037510        0.037510                                      \n",
      "                         1.000000        1.000000        Unweighted events, alpha=0.037510\n",
      "      => Product of prop_binAddTk_mm_mHad_bin13_DstmDp[1.00,0.00,30.85] and const [1.0000] to be poisson constrained\n",
      "  ----------------------------------------------------------\n",
      "    DstPipPi0            0.000000        0.000000                                      \n",
      "      => Error is zero, ignore      \n",
      "  ----------------------------------------------------------\n",
      "    DstPip               0.000000        0.000000                                      \n",
      "      => Error is zero, ignore      \n",
      "  ----------------------------------------------------------\n",
      "    mu                   1.401486        0.666984                                      \n",
      "                         4.000000        2.000000        Unweighted events, alpha=0.350372\n",
      "      => Product of prop_binAddTk_mm_mHad_bin13_mu[4.00,0.00,38.96] and const [0.2500] to be poisson constrained\n",
      "  ----------------------------------------------------------\n",
      "    DstmDsp              0.000000        0.000000                                      \n",
      "      => Error is zero, ignore      \n",
      "  ----------------------------------------------------------\n",
      "    DstPi0               0.000000        0.000000                                      \n",
      "      => Error is zero, ignore      \n",
      "  ----------------------------------------------------------\n",
      "    DstPipPim            0.204530        0.204530                                      \n",
      "                         1.000000        1.000000        Unweighted events, alpha=0.204530\n",
      "      => Product of prop_binAddTk_mm_mHad_bin13_DstPipPim[1.00,0.00,30.85] and const [1.0000] to be poisson constrained\n",
      "  ----------------------------------------------------------\n",
      "    DstmD0               0.000000        0.000000                                      \n",
      "      => Error is zero, ignore      \n",
      "  ----------------------------------------------------------\n",
      "    BpDstmHc             0.000000        0.000000                                      \n",
      "      => Error is zero, ignore      \n",
      "  ----------------------------------------------------------\n",
      "    DstPi0Pi0            0.000000        0.000000                                      \n",
      "      => Error is zero, ignore      \n",
      "  ----------------------------------------------------------\n",
      "------------------------------------------------------------\n",
      "14         0.550046        0.384536        total sum                     \n",
      "14         2.000000        1.414214        Unweighted events, alpha=0.275023\n",
      "  => Number of weighted events is below poisson threshold\n",
      "    tau                  0.000000        0.000000                                      \n",
      "      => Error is zero, ignore      \n",
      "  ----------------------------------------------------------\n",
      "    DstmDp               0.000000        0.000000                                      \n",
      "      => Error is zero, ignore      \n",
      "  ----------------------------------------------------------\n",
      "    DstPipPi0            0.000000        0.000000                                      \n",
      "      => Error is zero, ignore      \n",
      "  ----------------------------------------------------------\n",
      "    DstPip               0.000000        0.000000                                      \n",
      "      => Error is zero, ignore      \n",
      "  ----------------------------------------------------------\n",
      "    mu                   0.089129        0.067730                                      \n",
      "                         2.000000        1.414214        Unweighted events, alpha=0.044564\n",
      "      => Product of prop_binAddTk_mm_mHad_bin14_mu[2.00,0.00,33.79] and const [0.5000] to be poisson constrained\n",
      "  ----------------------------------------------------------\n",
      "    DstmDsp              0.091970        0.084610                                      \n",
      "                         1.000000        1.000000        Unweighted events, alpha=0.091970\n",
      "      => Product of prop_binAddTk_mm_mHad_bin14_DstmDsp[1.00,0.00,30.85] and const [1.0000] to be poisson constrained\n",
      "  ----------------------------------------------------------\n",
      "    DstPi0               0.368947        0.368947                                      \n",
      "                         1.000000        1.000000        Unweighted events, alpha=0.368947\n",
      "      => Product of prop_binAddTk_mm_mHad_bin14_DstPi0[1.00,0.00,30.85] and const [1.0000] to be poisson constrained\n",
      "  ----------------------------------------------------------\n",
      "    DstPipPim            0.000000        0.000000                                      \n",
      "      => Error is zero, ignore      \n",
      "  ----------------------------------------------------------\n",
      "    DstmD0               0.000000        0.000000                                      \n",
      "      => Error is zero, ignore      \n",
      "  ----------------------------------------------------------\n",
      "    BpDstmHc             0.000000        0.000000                                      \n",
      "      => Error is zero, ignore      \n",
      "  ----------------------------------------------------------\n",
      "    DstPi0Pi0            0.000000        0.000000                                      \n",
      "      => Error is zero, ignore      \n",
      "  ----------------------------------------------------------\n",
      "------------------------------------------------------------\n",
      "Channel AddTk_p_mHad will use autoMCStats with settings: event-threshold=10, include-signal=1, hist-mode=1\n",
      "============================================================\n",
      "Analysing bin errors for: prop_binAddTk_p_mHad\n",
      "Poisson cut-off: 10\n",
      "============================================================\n",
      "Bin        Contents        Error           Notes                         \n",
      "0          103.544432      6.004004        total sum                     \n",
      "0          297.000000      17.233688       Unweighted events, alpha=0.348634\n",
      "  => Total parameter prop_binAddTk_p_mHad_bin0[0.00,-7.00,7.00] to be gaussian constrained\n",
      "------------------------------------------------------------\n",
      "1          450.475014      12.787683       total sum                     \n",
      "1          1241.000000     35.227830       Unweighted events, alpha=0.362994\n",
      "  => Total parameter prop_binAddTk_p_mHad_bin1[0.00,-7.00,7.00] to be gaussian constrained\n",
      "------------------------------------------------------------\n",
      "2          757.593864      17.524637       total sum                     \n",
      "2          1869.000000     43.231933       Unweighted events, alpha=0.405347\n",
      "  => Total parameter prop_binAddTk_p_mHad_bin2[0.00,-7.00,7.00] to be gaussian constrained\n",
      "------------------------------------------------------------\n",
      "3          763.546825      17.027409       total sum                     \n",
      "3          2011.000000     44.844175       Unweighted events, alpha=0.379685\n",
      "  => Total parameter prop_binAddTk_p_mHad_bin3[0.00,-7.00,7.00] to be gaussian constrained\n",
      "------------------------------------------------------------\n",
      "4          748.904567      17.527930       total sum                     \n",
      "4          1826.000000     42.731721       Unweighted events, alpha=0.410134\n",
      "  => Total parameter prop_binAddTk_p_mHad_bin4[0.00,-7.00,7.00] to be gaussian constrained\n",
      "------------------------------------------------------------\n",
      "5          727.004724      18.023048       total sum                     \n",
      "5          1627.000000     40.336088       Unweighted events, alpha=0.446838\n",
      "  => Total parameter prop_binAddTk_p_mHad_bin5[0.00,-7.00,7.00] to be gaussian constrained\n",
      "------------------------------------------------------------\n",
      "6          659.899590      16.928529       total sum                     \n",
      "6          1520.000000     38.987177       Unweighted events, alpha=0.434144\n",
      "  => Total parameter prop_binAddTk_p_mHad_bin6[0.00,-7.00,7.00] to be gaussian constrained\n",
      "------------------------------------------------------------\n",
      "7          598.850613      15.401002       total sum                     \n",
      "7          1512.000000     38.884444       Unweighted events, alpha=0.396065\n",
      "  => Total parameter prop_binAddTk_p_mHad_bin7[0.00,-7.00,7.00] to be gaussian constrained\n",
      "------------------------------------------------------------\n",
      "8          572.273106      15.333587       total sum                     \n",
      "8          1393.000000     37.322915       Unweighted events, alpha=0.410821\n",
      "  => Total parameter prop_binAddTk_p_mHad_bin8[0.00,-7.00,7.00] to be gaussian constrained\n",
      "------------------------------------------------------------\n",
      "9          577.877677      15.083410       total sum                     \n",
      "9          1468.000000     38.314488       Unweighted events, alpha=0.393650\n",
      "  => Total parameter prop_binAddTk_p_mHad_bin9[0.00,-7.00,7.00] to be gaussian constrained\n",
      "------------------------------------------------------------\n",
      "10         555.140433      14.763629       total sum                     \n",
      "10         1414.000000     37.603191       Unweighted events, alpha=0.392603\n",
      "  => Total parameter prop_binAddTk_p_mHad_bin10[0.00,-7.00,7.00] to be gaussian constrained\n",
      "------------------------------------------------------------\n",
      "11         590.825941      14.666083       total sum                     \n",
      "11         1623.000000     40.286474       Unweighted events, alpha=0.364033\n",
      "  => Total parameter prop_binAddTk_p_mHad_bin11[0.00,-7.00,7.00] to be gaussian constrained\n",
      "------------------------------------------------------------\n",
      "12         685.803524      14.540379       total sum                     \n",
      "12         2225.000000     47.169906       Unweighted events, alpha=0.308226\n",
      "  => Total parameter prop_binAddTk_p_mHad_bin12[0.00,-7.00,7.00] to be gaussian constrained\n",
      "------------------------------------------------------------\n",
      "13         1064.684674     16.883296       total sum                     \n",
      "13         3977.000000     63.063460       Unweighted events, alpha=0.267711\n",
      "  => Total parameter prop_binAddTk_p_mHad_bin13[0.00,-7.00,7.00] to be gaussian constrained\n",
      "------------------------------------------------------------\n",
      "14         1430.263616     17.623846       total sum                     \n",
      "14         6586.000000     81.154174       Unweighted events, alpha=0.217167\n",
      "  => Total parameter prop_binAddTk_p_mHad_bin14[0.00,-7.00,7.00] to be gaussian constrained\n",
      "------------------------------------------------------------\n",
      "15         1222.231446     16.187483       total sum                     \n",
      "15         5701.000000     75.504967       Unweighted events, alpha=0.214389\n",
      "  => Total parameter prop_binAddTk_p_mHad_bin15[0.00,-7.00,7.00] to be gaussian constrained\n",
      "------------------------------------------------------------\n",
      "16         879.117752      15.102957       total sum                     \n",
      "16         3388.000000     58.206529       Unweighted events, alpha=0.259480\n",
      "  => Total parameter prop_binAddTk_p_mHad_bin16[0.00,-7.00,7.00] to be gaussian constrained\n",
      "------------------------------------------------------------\n",
      "17         633.278780      12.617884       total sum                     \n",
      "17         2519.000000     50.189640       Unweighted events, alpha=0.251401\n",
      "  => Total parameter prop_binAddTk_p_mHad_bin17[0.00,-7.00,7.00] to be gaussian constrained\n",
      "------------------------------------------------------------\n",
      "18         460.591889      11.810255       total sum                     \n",
      "18         1521.000000     39.000000       Unweighted events, alpha=0.302822\n",
      "  => Total parameter prop_binAddTk_p_mHad_bin18[0.00,-7.00,7.00] to be gaussian constrained\n",
      "------------------------------------------------------------\n",
      "19         378.399429      11.015886       total sum                     \n",
      "19         1180.000000     34.351128       Unweighted events, alpha=0.320677\n",
      "  => Total parameter prop_binAddTk_p_mHad_bin19[0.00,-7.00,7.00] to be gaussian constrained\n",
      "------------------------------------------------------------\n",
      "20         298.032895      9.928885        total sum                     \n",
      "20         901.000000      30.016662       Unweighted events, alpha=0.330780\n",
      "  => Total parameter prop_binAddTk_p_mHad_bin20[0.00,-7.00,7.00] to be gaussian constrained\n",
      "------------------------------------------------------------\n",
      "21         241.336256      8.676521        total sum                     \n",
      "21         774.000000      27.820855       Unweighted events, alpha=0.311804\n",
      "  => Total parameter prop_binAddTk_p_mHad_bin21[0.00,-7.00,7.00] to be gaussian constrained\n",
      "------------------------------------------------------------\n",
      "22         220.091635      8.997615        total sum                     \n",
      "22         598.000000      24.454039       Unweighted events, alpha=0.368046\n",
      "  => Total parameter prop_binAddTk_p_mHad_bin22[0.00,-7.00,7.00] to be gaussian constrained\n",
      "------------------------------------------------------------\n",
      "23         193.479061      8.420645        total sum                     \n",
      "23         528.000000      22.978251       Unweighted events, alpha=0.366438\n",
      "  => Total parameter prop_binAddTk_p_mHad_bin23[0.00,-7.00,7.00] to be gaussian constrained\n",
      "------------------------------------------------------------\n",
      "24         171.373384      7.504267        total sum                     \n",
      "24         522.000000      22.847319       Unweighted events, alpha=0.328302\n",
      "  => Total parameter prop_binAddTk_p_mHad_bin24[0.00,-7.00,7.00] to be gaussian constrained\n",
      "------------------------------------------------------------\n",
      "25         142.853195      6.825479        total sum                     \n",
      "25         438.000000      20.928450       Unweighted events, alpha=0.326149\n",
      "  => Total parameter prop_binAddTk_p_mHad_bin25[0.00,-7.00,7.00] to be gaussian constrained\n",
      "------------------------------------------------------------\n",
      "26         139.805380      7.323237        total sum                     \n",
      "26         364.000000      19.078784       Unweighted events, alpha=0.384081\n",
      "  => Total parameter prop_binAddTk_p_mHad_bin26[0.00,-7.00,7.00] to be gaussian constrained\n",
      "------------------------------------------------------------\n",
      "27         124.667512      6.442745        total sum                     \n",
      "27         374.000000      19.339080       Unweighted events, alpha=0.333336\n",
      "  => Total parameter prop_binAddTk_p_mHad_bin27[0.00,-7.00,7.00] to be gaussian constrained\n",
      "------------------------------------------------------------\n",
      "28         109.470691      6.290032        total sum                     \n",
      "28         303.000000      17.406895       Unweighted events, alpha=0.361289\n",
      "  => Total parameter prop_binAddTk_p_mHad_bin28[0.00,-7.00,7.00] to be gaussian constrained\n",
      "------------------------------------------------------------\n",
      "29         107.920387      6.803005        total sum                     \n",
      "29         252.000000      15.874508       Unweighted events, alpha=0.428256\n",
      "  => Total parameter prop_binAddTk_p_mHad_bin29[0.00,-7.00,7.00] to be gaussian constrained\n",
      "------------------------------------------------------------\n",
      "30         91.334997       5.428007        total sum                     \n",
      "30         283.000000      16.822604       Unweighted events, alpha=0.322739\n",
      "  => Total parameter prop_binAddTk_p_mHad_bin30[0.00,-7.00,7.00] to be gaussian constrained\n",
      "------------------------------------------------------------\n",
      "31         88.056405       6.126183        total sum                     \n",
      "31         207.000000      14.387495       Unweighted events, alpha=0.425393\n",
      "  => Total parameter prop_binAddTk_p_mHad_bin31[0.00,-7.00,7.00] to be gaussian constrained\n",
      "------------------------------------------------------------\n",
      "32         78.508393       5.620809        total sum                     \n",
      "32         195.000000      13.964240       Unweighted events, alpha=0.402607\n",
      "  => Total parameter prop_binAddTk_p_mHad_bin32[0.00,-7.00,7.00] to be gaussian constrained\n",
      "------------------------------------------------------------\n",
      "33         67.063206       4.495069        total sum                     \n",
      "33         223.000000      14.933185       Unweighted events, alpha=0.300732\n",
      "  => Total parameter prop_binAddTk_p_mHad_bin33[0.00,-7.00,7.00] to be gaussian constrained\n",
      "------------------------------------------------------------\n",
      "34         69.647893       4.805984        total sum                     \n",
      "34         210.000000      14.491377       Unweighted events, alpha=0.331657\n",
      "  => Total parameter prop_binAddTk_p_mHad_bin34[0.00,-7.00,7.00] to be gaussian constrained\n",
      "------------------------------------------------------------\n",
      "Channel AddTk_pm_mHad will use autoMCStats with settings: event-threshold=10, include-signal=1, hist-mode=1\n",
      "============================================================\n",
      "Analysing bin errors for: prop_binAddTk_pm_mHad\n",
      "Poisson cut-off: 10\n",
      "============================================================\n",
      "Bin        Contents        Error           Notes                         \n",
      "0          28.303553       4.733240        total sum                     \n",
      "0          36.000000       6.000000        Unweighted events, alpha=0.786210\n",
      "  => Total parameter prop_binAddTk_pm_mHad_bin0[0.00,-7.00,7.00] to be gaussian constrained\n",
      "------------------------------------------------------------\n",
      "1          70.018798       8.624064        total sum                     \n",
      "1          66.000000       8.124038        Unweighted events, alpha=1.060891\n",
      "  => Total parameter prop_binAddTk_pm_mHad_bin1[0.00,-7.00,7.00] to be gaussian constrained\n",
      "------------------------------------------------------------\n",
      "2          104.253020      8.815140        total sum                     \n",
      "2          140.000000      11.832160       Unweighted events, alpha=0.744664\n",
      "  => Total parameter prop_binAddTk_pm_mHad_bin2[0.00,-7.00,7.00] to be gaussian constrained\n",
      "------------------------------------------------------------\n",
      "3          122.645210      11.846276       total sum                     \n",
      "3          107.000000      10.344080       Unweighted events, alpha=1.146217\n",
      "  => Total parameter prop_binAddTk_pm_mHad_bin3[0.00,-7.00,7.00] to be gaussian constrained\n",
      "------------------------------------------------------------\n",
      "4          138.600914      8.567320        total sum                     \n",
      "4          262.000000      16.186414       Unweighted events, alpha=0.529011\n",
      "  => Total parameter prop_binAddTk_pm_mHad_bin4[0.00,-7.00,7.00] to be gaussian constrained\n",
      "------------------------------------------------------------\n",
      "5          229.897488      13.495780       total sum                     \n",
      "5          290.000000      17.029386       Unweighted events, alpha=0.792750\n",
      "  => Total parameter prop_binAddTk_pm_mHad_bin5[0.00,-7.00,7.00] to be gaussian constrained\n",
      "------------------------------------------------------------\n",
      "6          383.819561      12.129587       total sum                     \n",
      "6          1001.000000     31.638584       Unweighted events, alpha=0.383436\n",
      "  => Total parameter prop_binAddTk_pm_mHad_bin6[0.00,-7.00,7.00] to be gaussian constrained\n",
      "------------------------------------------------------------\n",
      "7          395.807077      13.870232       total sum                     \n",
      "7          814.000000      28.530685       Unweighted events, alpha=0.486249\n",
      "  => Total parameter prop_binAddTk_pm_mHad_bin7[0.00,-7.00,7.00] to be gaussian constrained\n",
      "------------------------------------------------------------\n",
      "8          211.064231      9.959235        total sum                     \n",
      "8          449.000000      21.189620       Unweighted events, alpha=0.470076\n",
      "  => Total parameter prop_binAddTk_pm_mHad_bin8[0.00,-7.00,7.00] to be gaussian constrained\n",
      "------------------------------------------------------------\n",
      "9          136.809462      7.931538        total sum                     \n",
      "9          298.000000      17.262677       Unweighted events, alpha=0.459092\n",
      "  => Total parameter prop_binAddTk_pm_mHad_bin9[0.00,-7.00,7.00] to be gaussian constrained\n",
      "------------------------------------------------------------\n",
      "10         125.180590      11.191325       total sum                     \n",
      "10         125.000000      11.180340       Unweighted events, alpha=1.001445\n",
      "  => Total parameter prop_binAddTk_pm_mHad_bin10[0.00,-7.00,7.00] to be gaussian constrained\n",
      "------------------------------------------------------------\n",
      "11         95.250870       6.796889        total sum                     \n",
      "11         196.000000      14.000000       Unweighted events, alpha=0.485974\n",
      "  => Total parameter prop_binAddTk_pm_mHad_bin11[0.00,-7.00,7.00] to be gaussian constrained\n",
      "------------------------------------------------------------\n",
      "12         92.207426       7.859289        total sum                     \n",
      "12         138.000000      11.747340       Unweighted events, alpha=0.668170\n",
      "  => Total parameter prop_binAddTk_pm_mHad_bin12[0.00,-7.00,7.00] to be gaussian constrained\n",
      "------------------------------------------------------------\n",
      "13         73.308256       5.070683        total sum                     \n",
      "13         209.000000      14.456832       Unweighted events, alpha=0.350757\n",
      "  => Total parameter prop_binAddTk_pm_mHad_bin13[0.00,-7.00,7.00] to be gaussian constrained\n",
      "------------------------------------------------------------\n",
      "14         70.834571       8.959804        total sum                     \n",
      "14         63.000000       7.937254        Unweighted events, alpha=1.124358\n",
      "  => Total parameter prop_binAddTk_pm_mHad_bin14[0.00,-7.00,7.00] to be gaussian constrained\n",
      "------------------------------------------------------------\n",
      "15         65.980531       6.934411        total sum                     \n",
      "15         91.000000       9.539392        Unweighted events, alpha=0.725061\n",
      "  => Total parameter prop_binAddTk_pm_mHad_bin15[0.00,-7.00,7.00] to be gaussian constrained\n",
      "------------------------------------------------------------\n",
      "16         42.660789       3.373201        total sum                     \n",
      "16         160.000000      12.649111       Unweighted events, alpha=0.266630\n",
      "  => Total parameter prop_binAddTk_pm_mHad_bin16[0.00,-7.00,7.00] to be gaussian constrained\n",
      "------------------------------------------------------------\n",
      "17         42.305661       5.217046        total sum                     \n",
      "17         66.000000       8.124038        Unweighted events, alpha=0.640995\n",
      "  => Total parameter prop_binAddTk_pm_mHad_bin17[0.00,-7.00,7.00] to be gaussian constrained\n",
      "------------------------------------------------------------\n",
      "18         38.768446       4.722038        total sum                     \n",
      "18         67.000000       8.185353        Unweighted events, alpha=0.578634\n",
      "  => Total parameter prop_binAddTk_pm_mHad_bin18[0.00,-7.00,7.00] to be gaussian constrained\n",
      "------------------------------------------------------------\n",
      "19         27.943238       2.499592        total sum                     \n",
      "19         125.000000      11.180340       Unweighted events, alpha=0.223546\n",
      "  => Total parameter prop_binAddTk_pm_mHad_bin19[0.00,-7.00,7.00] to be gaussian constrained\n",
      "------------------------------------------------------------\n",
      "20         26.885752       2.396608        total sum                     \n",
      "20         126.000000      11.224972       Unweighted events, alpha=0.213379\n",
      "  => Total parameter prop_binAddTk_pm_mHad_bin20[0.00,-7.00,7.00] to be gaussian constrained\n",
      "------------------------------------------------------------\n",
      "21         25.914909       5.071476        total sum                     \n",
      "21         26.000000       5.099020        Unweighted events, alpha=0.996727\n",
      "  => Total parameter prop_binAddTk_pm_mHad_bin21[0.00,-7.00,7.00] to be gaussian constrained\n",
      "------------------------------------------------------------\n",
      "22         21.436817       2.221618        total sum                     \n",
      "22         93.000000       9.643651        Unweighted events, alpha=0.230503\n",
      "  => Total parameter prop_binAddTk_pm_mHad_bin22[0.00,-7.00,7.00] to be gaussian constrained\n",
      "------------------------------------------------------------\n",
      "23         23.044303       5.890920        total sum                     \n",
      "23         15.000000       3.872983        Unweighted events, alpha=1.536287\n",
      "  => Total parameter prop_binAddTk_pm_mHad_bin23[0.00,-7.00,7.00] to be gaussian constrained\n",
      "------------------------------------------------------------\n",
      "24         18.209586       3.069742        total sum                     \n",
      "24         35.000000       5.916080        Unweighted events, alpha=0.520274\n",
      "  => Total parameter prop_binAddTk_pm_mHad_bin24[0.00,-7.00,7.00] to be gaussian constrained\n",
      "------------------------------------------------------------\n",
      "25         19.728463       4.097262        total sum                     \n",
      "25         23.000000       4.795832        Unweighted events, alpha=0.857759\n",
      "  => Total parameter prop_binAddTk_pm_mHad_bin25[0.00,-7.00,7.00] to be gaussian constrained\n",
      "------------------------------------------------------------\n",
      "26         11.262531       1.217746        total sum                     \n",
      "26         86.000000       9.273618        Unweighted events, alpha=0.130960\n",
      "  => Total parameter prop_binAddTk_pm_mHad_bin26[0.00,-7.00,7.00] to be gaussian constrained\n",
      "------------------------------------------------------------\n",
      "27         9.233259        1.226205        total sum                     \n",
      "27         57.000000       7.549834        Unweighted events, alpha=0.161987\n",
      "  => Total parameter prop_binAddTk_pm_mHad_bin27[0.00,-7.00,7.00] to be gaussian constrained\n",
      "------------------------------------------------------------\n",
      "28         11.741462       1.658705        total sum                     \n",
      "28         50.000000       7.071068        Unweighted events, alpha=0.234829\n",
      "  => Total parameter prop_binAddTk_pm_mHad_bin28[0.00,-7.00,7.00] to be gaussian constrained\n",
      "------------------------------------------------------------\n",
      "29         7.985170        1.180826        total sum                     \n",
      "29         46.000000       6.782330        Unweighted events, alpha=0.173591\n",
      "  => Total parameter prop_binAddTk_pm_mHad_bin29[0.00,-7.00,7.00] to be gaussian constrained\n",
      "------------------------------------------------------------\n",
      "Channel AddTk_pm_mVis will use autoMCStats with settings: event-threshold=10, include-signal=1, hist-mode=1\n",
      "============================================================\n",
      "Analysing bin errors for: prop_binAddTk_pm_mVis\n",
      "Poisson cut-off: 10\n",
      "============================================================\n",
      "Bin        Contents        Error           Notes                         \n",
      "0          6.084712        1.277079        total sum                     \n",
      "0          23.000000       4.795832        Unweighted events, alpha=0.264553\n",
      "  => Total parameter prop_binAddTk_pm_mVis_bin0[0.00,-7.00,7.00] to be gaussian constrained\n",
      "------------------------------------------------------------\n",
      "1          5.403224        1.132316        total sum                     \n",
      "1          23.000000       4.795832        Unweighted events, alpha=0.234923\n",
      "  => Total parameter prop_binAddTk_pm_mVis_bin1[0.00,-7.00,7.00] to be gaussian constrained\n",
      "------------------------------------------------------------\n",
      "2          12.340608       1.339322        total sum                     \n",
      "2          85.000000       9.219544        Unweighted events, alpha=0.145184\n",
      "  => Total parameter prop_binAddTk_pm_mVis_bin2[0.00,-7.00,7.00] to be gaussian constrained\n",
      "------------------------------------------------------------\n",
      "3          21.574537       2.151781        total sum                     \n",
      "3          101.000000      10.049876       Unweighted events, alpha=0.213609\n",
      "  => Total parameter prop_binAddTk_pm_mVis_bin3[0.00,-7.00,7.00] to be gaussian constrained\n",
      "------------------------------------------------------------\n",
      "4          34.942573       3.222724        total sum                     \n",
      "4          118.000000      10.862780       Unweighted events, alpha=0.296124\n",
      "  => Total parameter prop_binAddTk_pm_mVis_bin4[0.00,-7.00,7.00] to be gaussian constrained\n",
      "------------------------------------------------------------\n",
      "5          58.754487       7.223872        total sum                     \n",
      "5          66.000000       8.124038        Unweighted events, alpha=0.890219\n",
      "  => Total parameter prop_binAddTk_pm_mVis_bin5[0.00,-7.00,7.00] to be gaussian constrained\n",
      "------------------------------------------------------------\n",
      "6          72.153898       5.160249        total sum                     \n",
      "6          196.000000      14.000000       Unweighted events, alpha=0.368132\n",
      "  => Total parameter prop_binAddTk_pm_mVis_bin6[0.00,-7.00,7.00] to be gaussian constrained\n",
      "------------------------------------------------------------\n",
      "7          82.683877       4.146420        total sum                     \n",
      "7          398.000000      19.949937       Unweighted events, alpha=0.207748\n",
      "  => Total parameter prop_binAddTk_pm_mVis_bin7[0.00,-7.00,7.00] to be gaussian constrained\n",
      "------------------------------------------------------------\n",
      "8          110.026391      7.138038        total sum                     \n",
      "8          238.000000      15.427249       Unweighted events, alpha=0.462296\n",
      "  => Total parameter prop_binAddTk_pm_mVis_bin8[0.00,-7.00,7.00] to be gaussian constrained\n",
      "------------------------------------------------------------\n",
      "9          133.899894      10.904096       total sum                     \n",
      "9          151.000000      12.288206       Unweighted events, alpha=0.886754\n",
      "  => Total parameter prop_binAddTk_pm_mVis_bin9[0.00,-7.00,7.00] to be gaussian constrained\n",
      "------------------------------------------------------------\n",
      "10         127.962556      5.913727        total sum                     \n",
      "10         468.000000      21.633308       Unweighted events, alpha=0.273424\n",
      "  => Total parameter prop_binAddTk_pm_mVis_bin10[0.00,-7.00,7.00] to be gaussian constrained\n",
      "------------------------------------------------------------\n",
      "11         142.187444      6.948222        total sum                     \n",
      "11         419.000000      20.469489       Unweighted events, alpha=0.339350\n",
      "  => Total parameter prop_binAddTk_pm_mVis_bin11[0.00,-7.00,7.00] to be gaussian constrained\n",
      "------------------------------------------------------------\n",
      "12         158.283191      7.018292        total sum                     \n",
      "12         509.000000      22.561028       Unweighted events, alpha=0.310969\n",
      "  => Total parameter prop_binAddTk_pm_mVis_bin12[0.00,-7.00,7.00] to be gaussian constrained\n",
      "------------------------------------------------------------\n",
      "13         179.731577      10.027110       total sum                     \n",
      "13         321.000000      17.916473       Unweighted events, alpha=0.559911\n",
      "  => Total parameter prop_binAddTk_pm_mVis_bin13[0.00,-7.00,7.00] to be gaussian constrained\n",
      "------------------------------------------------------------\n",
      "14         184.600656      9.672723        total sum                     \n",
      "14         364.000000      19.078784       Unweighted events, alpha=0.507145\n",
      "  => Total parameter prop_binAddTk_pm_mVis_bin14[0.00,-7.00,7.00] to be gaussian constrained\n",
      "------------------------------------------------------------\n",
      "15         193.466948      10.378844       total sum                     \n",
      "15         347.000000      18.627936       Unweighted events, alpha=0.557542\n",
      "  => Total parameter prop_binAddTk_pm_mVis_bin15[0.00,-7.00,7.00] to be gaussian constrained\n",
      "------------------------------------------------------------\n",
      "16         189.533385      9.903160        total sum                     \n",
      "16         366.000000      19.131126       Unweighted events, alpha=0.517851\n",
      "  => Total parameter prop_binAddTk_pm_mVis_bin16[0.00,-7.00,7.00] to be gaussian constrained\n",
      "------------------------------------------------------------\n",
      "17         187.681123      10.538030       total sum                     \n",
      "17         317.000000      17.804494       Unweighted events, alpha=0.592054\n",
      "  => Total parameter prop_binAddTk_pm_mVis_bin17[0.00,-7.00,7.00] to be gaussian constrained\n",
      "------------------------------------------------------------\n",
      "18         183.491168      10.637471       total sum                     \n",
      "18         298.000000      17.262677       Unweighted events, alpha=0.615742\n",
      "  => Total parameter prop_binAddTk_pm_mVis_bin18[0.00,-7.00,7.00] to be gaussian constrained\n",
      "------------------------------------------------------------\n",
      "19         168.708095      13.525165       total sum                     \n",
      "19         156.000000      12.489996       Unweighted events, alpha=1.081462\n",
      "  => Total parameter prop_binAddTk_pm_mVis_bin19[0.00,-7.00,7.00] to be gaussian constrained\n",
      "------------------------------------------------------------\n",
      "20         133.696594      9.588299        total sum                     \n",
      "20         194.000000      13.928388       Unweighted events, alpha=0.689158\n",
      "  => Total parameter prop_binAddTk_pm_mVis_bin20[0.00,-7.00,7.00] to be gaussian constrained\n",
      "------------------------------------------------------------\n",
      "21         130.946732      10.650250       total sum                     \n",
      "21         151.000000      12.288206       Unweighted events, alpha=0.867197\n",
      "  => Total parameter prop_binAddTk_pm_mVis_bin21[0.00,-7.00,7.00] to be gaussian constrained\n",
      "------------------------------------------------------------\n",
      "22         99.898214       9.188060        total sum                     \n",
      "22         118.000000      10.862780       Unweighted events, alpha=0.846595\n",
      "  => Total parameter prop_binAddTk_pm_mVis_bin22[0.00,-7.00,7.00] to be gaussian constrained\n",
      "------------------------------------------------------------\n",
      "23         85.033280       11.163511       total sum                     \n",
      "23         58.000000       7.615773        Unweighted events, alpha=1.466091\n",
      "  => Total parameter prop_binAddTk_pm_mVis_bin23[0.00,-7.00,7.00] to be gaussian constrained\n",
      "------------------------------------------------------------\n",
      "Channel AddTk_pp_mHad will use autoMCStats with settings: event-threshold=10, include-signal=1, hist-mode=1\n",
      "============================================================\n",
      "Analysing bin errors for: prop_binAddTk_pp_mHad\n",
      "Poisson cut-off: 10\n",
      "============================================================\n",
      "Bin        Contents        Error           Notes                         \n",
      "0          13.647549       4.226038        total sum                     \n",
      "0          10.000000       3.162278        Unweighted events, alpha=1.364755\n",
      "  => Number of weighted events is below poisson threshold\n",
      "    tau                  0.179932        0.139875                                      \n",
      "                         2.000000        1.414214        Unweighted events, alpha=0.089966\n",
      "      => Product of prop_binAddTk_pp_mHad_bin0_tau[2.00,0.00,33.79] and const [0.5000] to be poisson constrained\n",
      "  ----------------------------------------------------------\n",
      "    DstmDp               0.000000        0.000000                                      \n",
      "      => Error is zero, ignore      \n",
      "  ----------------------------------------------------------\n",
      "    DstPipPi0            0.000000        0.000000                                      \n",
      "      => Error is zero, ignore      \n",
      "  ----------------------------------------------------------\n",
      "    DstPip               0.249290        0.232195                                      \n",
      "                         1.000000        1.000000        Unweighted events, alpha=0.249290\n",
      "      => Product of prop_binAddTk_pp_mHad_bin0_DstPip[1.00,0.00,30.85] and const [1.0000] to be poisson constrained\n",
      "  ----------------------------------------------------------\n",
      "    mu                   11.343084       4.127757                                      \n",
      "                         8.000000        2.828427        Unweighted events, alpha=1.417886\n",
      "      => Product of prop_binAddTk_pp_mHad_bin0_mu[8.00,0.12,47.91] and const [0.1250] to be poisson constrained\n",
      "  ----------------------------------------------------------\n",
      "    DstmDsp              0.029930        0.029930                                      \n",
      "                         1.000000        1.000000        Unweighted events, alpha=0.029930\n",
      "      => Product of prop_binAddTk_pp_mHad_bin0_DstmDsp[1.00,0.00,30.85] and const [1.0000] to be poisson constrained\n",
      "  ----------------------------------------------------------\n",
      "    DstPi0               0.932464        0.722724                                      \n",
      "                         2.000000        1.414214        Unweighted events, alpha=0.466232\n",
      "      => Product of prop_binAddTk_pp_mHad_bin0_DstPi0[2.00,0.00,33.79] and const [0.5000] to be poisson constrained\n",
      "  ----------------------------------------------------------\n",
      "    DstPipPim            0.576289        0.359436                                      \n",
      "                         3.000000        1.732051        Unweighted events, alpha=0.192096\n",
      "      => Product of prop_binAddTk_pp_mHad_bin0_DstPipPim[3.00,0.00,36.46] and const [0.3333] to be poisson constrained\n",
      "  ----------------------------------------------------------\n",
      "    DstmD0               0.308119        0.308119                                      \n",
      "                         1.000000        1.000000        Unweighted events, alpha=0.308119\n",
      "      => Product of prop_binAddTk_pp_mHad_bin0_DstmD0[1.00,0.00,30.85] and const [1.0000] to be poisson constrained\n",
      "  ----------------------------------------------------------\n",
      "    BpDstmHc             0.028441        0.013519                                      \n",
      "                         4.000000        2.000000        Unweighted events, alpha=0.007110\n",
      "      => Product of prop_binAddTk_pp_mHad_bin0_BpDstmHc[4.00,0.00,38.96] and const [0.2500] to be poisson constrained\n",
      "  ----------------------------------------------------------\n",
      "    DstPi0Pi0            0.000000        0.000000                                      \n",
      "      => Error is zero, ignore      \n",
      "  ----------------------------------------------------------\n",
      "------------------------------------------------------------\n",
      "1          71.508696       6.484661        total sum                     \n",
      "1          122.000000      11.045361       Unweighted events, alpha=0.586137\n",
      "  => Total parameter prop_binAddTk_pp_mHad_bin1[0.00,-7.00,7.00] to be gaussian constrained\n",
      "------------------------------------------------------------\n",
      "2          97.659551       8.010446        total sum                     \n",
      "2          149.000000      12.206556       Unweighted events, alpha=0.655433\n",
      "  => Total parameter prop_binAddTk_pp_mHad_bin2[0.00,-7.00,7.00] to be gaussian constrained\n",
      "------------------------------------------------------------\n",
      "3          138.294352      8.715250        total sum                     \n",
      "3          252.000000      15.874508       Unweighted events, alpha=0.548787\n",
      "  => Total parameter prop_binAddTk_pp_mHad_bin3[0.00,-7.00,7.00] to be gaussian constrained\n",
      "------------------------------------------------------------\n",
      "4          107.414730      8.043918        total sum                     \n",
      "4          178.000000      13.341664       Unweighted events, alpha=0.603454\n",
      "  => Total parameter prop_binAddTk_pp_mHad_bin4[0.00,-7.00,7.00] to be gaussian constrained\n",
      "------------------------------------------------------------\n",
      "5          80.220793       5.845910        total sum                     \n",
      "5          188.000000      13.711309       Unweighted events, alpha=0.426706\n",
      "  => Total parameter prop_binAddTk_pp_mHad_bin5[0.00,-7.00,7.00] to be gaussian constrained\n",
      "------------------------------------------------------------\n",
      "6          50.443756       5.930526        total sum                     \n",
      "6          72.000000       8.485281        Unweighted events, alpha=0.700608\n",
      "  => Total parameter prop_binAddTk_pp_mHad_bin6[0.00,-7.00,7.00] to be gaussian constrained\n",
      "------------------------------------------------------------\n",
      "7          41.046112       5.434699        total sum                     \n",
      "7          57.000000       7.549834        Unweighted events, alpha=0.720107\n",
      "  => Total parameter prop_binAddTk_pp_mHad_bin7[0.00,-7.00,7.00] to be gaussian constrained\n",
      "------------------------------------------------------------\n",
      "8          28.169990       4.168133        total sum                     \n",
      "8          46.000000       6.782330        Unweighted events, alpha=0.612391\n",
      "  => Total parameter prop_binAddTk_pp_mHad_bin8[0.00,-7.00,7.00] to be gaussian constrained\n",
      "------------------------------------------------------------\n",
      "9          18.856903       2.870152        total sum                     \n",
      "9          43.000000       6.557439        Unweighted events, alpha=0.438533\n",
      "  => Total parameter prop_binAddTk_pp_mHad_bin9[0.00,-7.00,7.00] to be gaussian constrained\n",
      "------------------------------------------------------------\n",
      "10         12.277768       2.281013        total sum                     \n",
      "10         29.000000       5.385165        Unweighted events, alpha=0.423371\n",
      "  => Total parameter prop_binAddTk_pp_mHad_bin10[0.00,-7.00,7.00] to be gaussian constrained\n",
      "------------------------------------------------------------\n",
      "11         10.238298       2.680368        total sum                     \n",
      "11         15.000000       3.872983        Unweighted events, alpha=0.682553\n",
      "  => Total parameter prop_binAddTk_pp_mHad_bin11[0.00,-7.00,7.00] to be gaussian constrained\n",
      "------------------------------------------------------------\n",
      "12         3.401737        0.871719        total sum                     \n",
      "12         15.000000       3.872983        Unweighted events, alpha=0.226782\n",
      "  => Total parameter prop_binAddTk_pp_mHad_bin12[0.00,-7.00,7.00] to be gaussian constrained\n",
      "------------------------------------------------------------\n",
      "13         4.025006        0.974410        total sum                     \n",
      "13         17.000000       4.123106        Unweighted events, alpha=0.236765\n",
      "  => Total parameter prop_binAddTk_pp_mHad_bin13[0.00,-7.00,7.00] to be gaussian constrained\n",
      "------------------------------------------------------------\n",
      "14         2.280651        0.763375        total sum                     \n",
      "14         9.000000        3.000000        Unweighted events, alpha=0.253406\n",
      "  => Number of weighted events is below poisson threshold\n",
      "    tau                  0.000000        0.000000                                      \n",
      "      => Error is zero, ignore      \n",
      "  ----------------------------------------------------------\n",
      "    DstmDp               0.003543        0.003543                                      \n",
      "                         1.000000        1.000000        Unweighted events, alpha=0.003543\n",
      "      => Product of prop_binAddTk_pp_mHad_bin14_DstmDp[1.00,0.00,30.85] and const [1.0000] to be poisson constrained\n",
      "  ----------------------------------------------------------\n",
      "    DstPipPi0            0.032065        0.032065                                      \n",
      "                         1.000000        1.000000        Unweighted events, alpha=0.032065\n",
      "      => Product of prop_binAddTk_pp_mHad_bin14_DstPipPi0[1.00,0.00,30.85] and const [1.0000] to be poisson constrained\n",
      "  ----------------------------------------------------------\n",
      "    DstPip               1.751005        0.666226                                      \n",
      "                         7.000000        2.645751        Unweighted events, alpha=0.250144\n",
      "      => Product of prop_binAddTk_pp_mHad_bin14_DstPip[7.00,0.07,45.79] and const [0.1429] to be poisson constrained\n",
      "  ----------------------------------------------------------\n",
      "    mu                   0.457570        0.369922                                      \n",
      "                         2.000000        1.414214        Unweighted events, alpha=0.228785\n",
      "      => Product of prop_binAddTk_pp_mHad_bin14_mu[2.00,0.00,33.79] and const [0.5000] to be poisson constrained\n",
      "  ----------------------------------------------------------\n",
      "    DstmDsp              0.000000        0.000000                                      \n",
      "      => Error is zero, ignore      \n",
      "  ----------------------------------------------------------\n",
      "    DstPi0               0.000000        0.000000                                      \n",
      "      => Error is zero, ignore      \n",
      "  ----------------------------------------------------------\n",
      "    DstPipPim            0.000000        0.000000                                      \n",
      "      => Error is zero, ignore      \n",
      "  ----------------------------------------------------------\n",
      "    DstmD0               0.031430        0.031430                                      \n",
      "                         1.000000        1.000000        Unweighted events, alpha=0.031430\n",
      "      => Product of prop_binAddTk_pp_mHad_bin14_DstmD0[1.00,0.00,30.85] and const [1.0000] to be poisson constrained\n",
      "  ----------------------------------------------------------\n",
      "    BpDstmHc             0.005038        0.003556                                      \n",
      "                         2.000000        1.414214        Unweighted events, alpha=0.002519\n",
      "      => Product of prop_binAddTk_pp_mHad_bin14_BpDstmHc[2.00,0.00,33.79] and const [0.5000] to be poisson constrained\n",
      "  ----------------------------------------------------------\n",
      "    DstPi0Pi0            0.000000        0.000000                                      \n",
      "      => Error is zero, ignore      \n",
      "  ----------------------------------------------------------\n",
      "------------------------------------------------------------\n",
      "Channel Est_mu_q2bin0 will use autoMCStats with settings: event-threshold=10, include-signal=1, hist-mode=1\n",
      "============================================================\n",
      "Analysing bin errors for: prop_binEst_mu_q2bin0\n",
      "Poisson cut-off: 10\n",
      "============================================================\n",
      "Bin        Contents        Error           Notes                         \n",
      "0          568.689575      12.801551       total sum                     \n",
      "0          1973.000000     44.418465       Unweighted events, alpha=0.288236\n",
      "  => Total parameter prop_binEst_mu_q2bin0_bin0[0.00,-7.00,7.00] to be gaussian constrained\n",
      "------------------------------------------------------------\n",
      "1          516.148964      12.064760       total sum                     \n",
      "1          1830.000000     42.778499       Unweighted events, alpha=0.282049\n",
      "  => Total parameter prop_binEst_mu_q2bin0_bin1[0.00,-7.00,7.00] to be gaussian constrained\n",
      "------------------------------------------------------------\n",
      "2          797.830059      14.975206       total sum                     \n",
      "2          2838.000000     53.272882       Unweighted events, alpha=0.281124\n",
      "  => Total parameter prop_binEst_mu_q2bin0_bin2[0.00,-7.00,7.00] to be gaussian constrained\n",
      "------------------------------------------------------------\n",
      "3          1032.338237     16.822713       total sum                     \n",
      "3          3766.000000     61.367744       Unweighted events, alpha=0.274121\n",
      "  => Total parameter prop_binEst_mu_q2bin0_bin3[0.00,-7.00,7.00] to be gaussian constrained\n",
      "------------------------------------------------------------\n",
      "4          1381.106900     19.621789       total sum                     \n",
      "4          4954.000000     70.384657       Unweighted events, alpha=0.278786\n",
      "  => Total parameter prop_binEst_mu_q2bin0_bin4[0.00,-7.00,7.00] to be gaussian constrained\n",
      "------------------------------------------------------------\n",
      "5          1659.178708     21.197058       total sum                     \n",
      "5          6127.000000     78.275156       Unweighted events, alpha=0.270798\n",
      "  => Total parameter prop_binEst_mu_q2bin0_bin5[0.00,-7.00,7.00] to be gaussian constrained\n",
      "------------------------------------------------------------\n",
      "6          1917.095004     23.227959       total sum                     \n",
      "6          6812.000000     82.534841       Unweighted events, alpha=0.281429\n",
      "  => Total parameter prop_binEst_mu_q2bin0_bin6[0.00,-7.00,7.00] to be gaussian constrained\n",
      "------------------------------------------------------------\n",
      "7          2051.145303     23.284530       total sum                     \n",
      "7          7760.000000     88.090862       Unweighted events, alpha=0.264323\n",
      "  => Total parameter prop_binEst_mu_q2bin0_bin7[0.00,-7.00,7.00] to be gaussian constrained\n",
      "------------------------------------------------------------\n",
      "8          2282.372149     24.547079       total sum                     \n",
      "8          8645.000000     92.978492       Unweighted events, alpha=0.264011\n",
      "  => Total parameter prop_binEst_mu_q2bin0_bin8[0.00,-7.00,7.00] to be gaussian constrained\n",
      "------------------------------------------------------------\n",
      "9          2380.999548     25.023254       total sum                     \n",
      "9          9054.000000     95.152509       Unweighted events, alpha=0.262978\n",
      "  => Total parameter prop_binEst_mu_q2bin0_bin9[0.00,-7.00,7.00] to be gaussian constrained\n",
      "------------------------------------------------------------\n",
      "10         2430.123119     25.129948       total sum                     \n",
      "10         9351.000000     96.700569       Unweighted events, alpha=0.259878\n",
      "  => Total parameter prop_binEst_mu_q2bin0_bin10[0.00,-7.00,7.00] to be gaussian constrained\n",
      "------------------------------------------------------------\n",
      "11         2429.565107     25.177376       total sum                     \n",
      "11         9312.000000     96.498705       Unweighted events, alpha=0.260907\n",
      "  => Total parameter prop_binEst_mu_q2bin0_bin11[0.00,-7.00,7.00] to be gaussian constrained\n",
      "------------------------------------------------------------\n",
      "12         2352.424356     24.619691       total sum                     \n",
      "12         9130.000000     95.551033       Unweighted events, alpha=0.257659\n",
      "  => Total parameter prop_binEst_mu_q2bin0_bin12[0.00,-7.00,7.00] to be gaussian constrained\n",
      "------------------------------------------------------------\n",
      "13         2157.967579     23.900792       total sum                     \n",
      "13         8152.000000     90.288427       Unweighted events, alpha=0.264716\n",
      "  => Total parameter prop_binEst_mu_q2bin0_bin13[0.00,-7.00,7.00] to be gaussian constrained\n",
      "------------------------------------------------------------\n",
      "14         1838.607874     21.415814       total sum                     \n",
      "14         7371.000000     85.854528       Unweighted events, alpha=0.249438\n",
      "  => Total parameter prop_binEst_mu_q2bin0_bin14[0.00,-7.00,7.00] to be gaussian constrained\n",
      "------------------------------------------------------------\n",
      "15         1271.868169     17.550481       total sum                     \n",
      "15         5252.000000     72.470684       Unweighted events, alpha=0.242168\n",
      "  => Total parameter prop_binEst_mu_q2bin0_bin15[0.00,-7.00,7.00] to be gaussian constrained\n",
      "------------------------------------------------------------\n",
      "16         523.981748      11.127878       total sum                     \n",
      "16         2217.000000     47.085029       Unweighted events, alpha=0.236347\n",
      "  => Total parameter prop_binEst_mu_q2bin0_bin16[0.00,-7.00,7.00] to be gaussian constrained\n",
      "------------------------------------------------------------\n",
      "Channel Est_mu_q2bin1 will use autoMCStats with settings: event-threshold=10, include-signal=1, hist-mode=1\n",
      "============================================================\n",
      "Analysing bin errors for: prop_binEst_mu_q2bin1\n",
      "Poisson cut-off: 10\n",
      "============================================================\n",
      "Bin        Contents        Error           Notes                         \n",
      "0          974.358888      15.994431       total sum                     \n",
      "0          3711.000000     60.917978       Unweighted events, alpha=0.262560\n",
      "  => Total parameter prop_binEst_mu_q2bin1_bin0[0.00,-7.00,7.00] to be gaussian constrained\n",
      "------------------------------------------------------------\n",
      "1          1086.974646     16.943116       total sum                     \n",
      "1          4116.000000     64.156060       Unweighted events, alpha=0.264085\n",
      "  => Total parameter prop_binEst_mu_q2bin1_bin1[0.00,-7.00,7.00] to be gaussian constrained\n",
      "------------------------------------------------------------\n",
      "2          1689.866654     21.056923       total sum                     \n",
      "2          6440.000000     80.249611       Unweighted events, alpha=0.262402\n",
      "  => Total parameter prop_binEst_mu_q2bin1_bin2[0.00,-7.00,7.00] to be gaussian constrained\n",
      "------------------------------------------------------------\n",
      "3          2325.986622     24.763641       total sum                     \n",
      "3          8822.000000     93.925502       Unweighted events, alpha=0.263658\n",
      "  => Total parameter prop_binEst_mu_q2bin1_bin3[0.00,-7.00,7.00] to be gaussian constrained\n",
      "------------------------------------------------------------\n",
      "4          2857.915968     27.343962       total sum                     \n",
      "4          10924.000000    104.517941      Unweighted events, alpha=0.261618\n",
      "  => Total parameter prop_binEst_mu_q2bin1_bin4[0.00,-7.00,7.00] to be gaussian constrained\n",
      "------------------------------------------------------------\n",
      "5          3251.857589     29.262742       total sum                     \n",
      "5          12349.000000    111.126055      Unweighted events, alpha=0.263330\n",
      "  => Total parameter prop_binEst_mu_q2bin1_bin5[0.00,-7.00,7.00] to be gaussian constrained\n",
      "------------------------------------------------------------\n",
      "6          3704.930095     31.305500       total sum                     \n",
      "6          14006.000000    118.346948      Unweighted events, alpha=0.264524\n",
      "  => Total parameter prop_binEst_mu_q2bin1_bin6[0.00,-7.00,7.00] to be gaussian constrained\n",
      "------------------------------------------------------------\n",
      "7          3949.818967     32.225621       total sum                     \n",
      "7          15023.000000    122.568348      Unweighted events, alpha=0.262918\n",
      "  => Total parameter prop_binEst_mu_q2bin1_bin7[0.00,-7.00,7.00] to be gaussian constrained\n",
      "------------------------------------------------------------\n",
      "8          4306.624591     33.835575       total sum                     \n",
      "8          16200.000000    127.279221      Unweighted events, alpha=0.265841\n",
      "  => Total parameter prop_binEst_mu_q2bin1_bin8[0.00,-7.00,7.00] to be gaussian constrained\n",
      "------------------------------------------------------------\n",
      "9          4526.402184     34.605420       total sum                     \n",
      "9          17109.000000    130.801376      Unweighted events, alpha=0.264563\n",
      "  => Total parameter prop_binEst_mu_q2bin1_bin9[0.00,-7.00,7.00] to be gaussian constrained\n",
      "------------------------------------------------------------\n",
      "10         4815.030352     36.008921       total sum                     \n",
      "10         17880.000000    133.716117      Unweighted events, alpha=0.269297\n",
      "  => Total parameter prop_binEst_mu_q2bin1_bin10[0.00,-7.00,7.00] to be gaussian constrained\n",
      "------------------------------------------------------------\n",
      "11         5023.908648     37.524571       total sum                     \n",
      "11         17925.000000    133.884278      Unweighted events, alpha=0.280274\n",
      "  => Total parameter prop_binEst_mu_q2bin1_bin11[0.00,-7.00,7.00] to be gaussian constrained\n",
      "------------------------------------------------------------\n",
      "12         5105.953845     36.909004       total sum                     \n",
      "12         19138.000000    138.340160      Unweighted events, alpha=0.266797\n",
      "  => Total parameter prop_binEst_mu_q2bin1_bin12[0.00,-7.00,7.00] to be gaussian constrained\n",
      "------------------------------------------------------------\n",
      "13         5153.385215     37.076897       total sum                     \n",
      "13         19319.000000    138.992806      Unweighted events, alpha=0.266752\n",
      "  => Total parameter prop_binEst_mu_q2bin1_bin13[0.00,-7.00,7.00] to be gaussian constrained\n",
      "------------------------------------------------------------\n",
      "14         4563.934388     34.953178       total sum                     \n",
      "14         17049.000000    130.571819      Unweighted events, alpha=0.267695\n",
      "  => Total parameter prop_binEst_mu_q2bin1_bin14[0.00,-7.00,7.00] to be gaussian constrained\n",
      "------------------------------------------------------------\n",
      "15         2760.790052     26.733735       total sum                     \n",
      "15         10665.000000    103.271487      Unweighted events, alpha=0.258865\n",
      "  => Total parameter prop_binEst_mu_q2bin1_bin15[0.00,-7.00,7.00] to be gaussian constrained\n",
      "------------------------------------------------------------\n",
      "16         935.200006      15.377705       total sum                     \n",
      "16         3699.000000     60.819405       Unweighted events, alpha=0.252825\n",
      "  => Total parameter prop_binEst_mu_q2bin1_bin16[0.00,-7.00,7.00] to be gaussian constrained\n",
      "------------------------------------------------------------\n",
      "17         259.770970      8.054461        total sum                     \n",
      "17         1040.000000     32.249031       Unweighted events, alpha=0.249780\n",
      "  => Total parameter prop_binEst_mu_q2bin1_bin17[0.00,-7.00,7.00] to be gaussian constrained\n",
      "------------------------------------------------------------\n",
      "18         150.836616      6.186934        total sum                     \n",
      "18         594.000000      24.372115       Unweighted events, alpha=0.253934\n",
      "  => Total parameter prop_binEst_mu_q2bin1_bin18[0.00,-7.00,7.00] to be gaussian constrained\n",
      "------------------------------------------------------------\n",
      "Channel M2_miss_q2bin0 will use autoMCStats with settings: event-threshold=10, include-signal=1, hist-mode=1\n",
      "============================================================\n",
      "Analysing bin errors for: prop_binM2_miss_q2bin0\n",
      "Poisson cut-off: 10\n",
      "============================================================\n",
      "Bin        Contents        Error           Notes                         \n",
      "0          567.344067      12.351125       total sum                     \n",
      "0          2110.000000     45.934736       Unweighted events, alpha=0.268883\n",
      "  => Total parameter prop_binM2_miss_q2bin0_bin0[0.00,-7.00,7.00] to be gaussian constrained\n",
      "------------------------------------------------------------\n",
      "1          278.349672      8.644055        total sum                     \n",
      "1          1037.000000     32.202484       Unweighted events, alpha=0.268418\n",
      "  => Total parameter prop_binM2_miss_q2bin0_bin1[0.00,-7.00,7.00] to be gaussian constrained\n",
      "------------------------------------------------------------\n",
      "2          566.267840      12.268396       total sum                     \n",
      "2          2130.000000     46.151923       Unweighted events, alpha=0.265853\n",
      "  => Total parameter prop_binM2_miss_q2bin0_bin2[0.00,-7.00,7.00] to be gaussian constrained\n",
      "------------------------------------------------------------\n",
      "3          1310.477772     18.889175       total sum                     \n",
      "3          4813.000000     69.375788       Unweighted events, alpha=0.272279\n",
      "  => Total parameter prop_binM2_miss_q2bin0_bin3[0.00,-7.00,7.00] to be gaussian constrained\n",
      "------------------------------------------------------------\n",
      "4          3520.958576     30.641616       total sum                     \n",
      "4          13204.000000    114.908659      Unweighted events, alpha=0.266658\n",
      "  => Total parameter prop_binM2_miss_q2bin0_bin4[0.00,-7.00,7.00] to be gaussian constrained\n",
      "------------------------------------------------------------\n",
      "5          12746.381021    57.767254       total sum                     \n",
      "5          48687.000000    220.651309      Unweighted events, alpha=0.261803\n",
      "  => Total parameter prop_binM2_miss_q2bin0_bin5[0.00,-7.00,7.00] to be gaussian constrained\n",
      "------------------------------------------------------------\n",
      "6          6515.130242     41.683559       total sum                     \n",
      "6          24430.000000    156.300992      Unweighted events, alpha=0.266686\n",
      "  => Total parameter prop_binM2_miss_q2bin0_bin6[0.00,-7.00,7.00] to be gaussian constrained\n",
      "------------------------------------------------------------\n",
      "7          2086.533220     23.380938       total sum                     \n",
      "7          7964.000000     89.241246       Unweighted events, alpha=0.261996\n",
      "  => Total parameter prop_binM2_miss_q2bin0_bin7[0.00,-7.00,7.00] to be gaussian constrained\n",
      "------------------------------------------------------------\n",
      "Channel M2_miss_q2bin1 will use autoMCStats with settings: event-threshold=10, include-signal=1, hist-mode=1\n",
      "============================================================\n",
      "Analysing bin errors for: prop_binM2_miss_q2bin1\n",
      "Poisson cut-off: 10\n",
      "============================================================\n",
      "Bin        Contents        Error           Notes                         \n",
      "0          585.550890      12.854977       total sum                     \n",
      "0          2075.000000     45.552168       Unweighted events, alpha=0.282193\n",
      "  => Total parameter prop_binM2_miss_q2bin1_bin0[0.00,-7.00,7.00] to be gaussian constrained\n",
      "------------------------------------------------------------\n",
      "1          334.323074      9.922017        total sum                     \n",
      "1          1135.000000     33.689761       Unweighted events, alpha=0.294558\n",
      "  => Total parameter prop_binM2_miss_q2bin1_bin1[0.00,-7.00,7.00] to be gaussian constrained\n",
      "------------------------------------------------------------\n",
      "2          580.514486      12.740239       total sum                     \n",
      "2          2076.000000     45.563143       Unweighted events, alpha=0.279631\n",
      "  => Total parameter prop_binM2_miss_q2bin1_bin2[0.00,-7.00,7.00] to be gaussian constrained\n",
      "------------------------------------------------------------\n",
      "3          1304.766711     19.089617       total sum                     \n",
      "3          4672.000000     68.352030       Unweighted events, alpha=0.279274\n",
      "  => Total parameter prop_binM2_miss_q2bin1_bin3[0.00,-7.00,7.00] to be gaussian constrained\n",
      "------------------------------------------------------------\n",
      "4          3785.450179     32.427241       total sum                     \n",
      "4          13627.000000    116.734742      Unweighted events, alpha=0.277790\n",
      "  => Total parameter prop_binM2_miss_q2bin1_bin4[0.00,-7.00,7.00] to be gaussian constrained\n",
      "------------------------------------------------------------\n",
      "5          13230.958564    60.428727       total sum                     \n",
      "5          47940.000000    218.952050      Unweighted events, alpha=0.275990\n",
      "  => Total parameter prop_binM2_miss_q2bin1_bin5[0.00,-7.00,7.00] to be gaussian constrained\n",
      "------------------------------------------------------------\n",
      "6          13005.987502    59.051174       total sum                     \n",
      "6          48510.000000    220.249858      Unweighted events, alpha=0.268109\n",
      "  => Total parameter prop_binM2_miss_q2bin1_bin6[0.00,-7.00,7.00] to be gaussian constrained\n",
      "------------------------------------------------------------\n",
      "7          9037.038256     49.172522       total sum                     \n",
      "7          33776.000000    183.782480      Unweighted events, alpha=0.267558\n",
      "  => Total parameter prop_binM2_miss_q2bin1_bin7[0.00,-7.00,7.00] to be gaussian constrained\n",
      "------------------------------------------------------------\n",
      "8          6160.154181     39.830850       total sum                     \n",
      "8          23919.000000    154.657687      Unweighted events, alpha=0.257542\n",
      "  => Total parameter prop_binM2_miss_q2bin1_bin8[0.00,-7.00,7.00] to be gaussian constrained\n",
      "------------------------------------------------------------\n",
      "9          4005.340513     31.504732       total sum                     \n",
      "9          16163.000000    127.133788      Unweighted events, alpha=0.247809\n",
      "  => Total parameter prop_binM2_miss_q2bin1_bin9[0.00,-7.00,7.00] to be gaussian constrained\n",
      "------------------------------------------------------------\n",
      "10         2563.296485     25.017808       total sum                     \n",
      "10         10498.000000    102.459748      Unweighted events, alpha=0.244170\n",
      "  => Total parameter prop_binM2_miss_q2bin1_bin10[0.00,-7.00,7.00] to be gaussian constrained\n",
      "------------------------------------------------------------\n",
      "11         1492.376223     18.845972       total sum                     \n",
      "11         6271.000000     79.189646       Unweighted events, alpha=0.237981\n",
      "  => Total parameter prop_binM2_miss_q2bin1_bin11[0.00,-7.00,7.00] to be gaussian constrained\n",
      "------------------------------------------------------------\n",
      "12         1357.788619     17.986507       total sum                     \n",
      "12         5699.000000     75.491721       Unweighted events, alpha=0.238250\n",
      "  => Total parameter prop_binM2_miss_q2bin1_bin12[0.00,-7.00,7.00] to be gaussian constrained\n",
      "------------------------------------------------------------\n"
     ]
    },
    {
     "name": "stderr",
     "output_type": "stream",
     "text": [
      "Creating pdfs for individual modes (10): .    1\b\b\b\b\b.    2\b\b\b\b\b.    3\b\b\b\b\b.    4\b\b\b\b\b.    5\b\b\b\b\b.    6\b\b\b\b\b.    7\b\b\b\b\b.    8\b\b\b\b\b.    9\b\b\b\b\b.   10\b\b\b\bdone.\n",
      "Importing combined pdf model_s\n"
     ]
    }
   ],
   "source": [
    "cmd = 'text2workspace.py ' + card_location \n",
    "cmd += ' -o ' + card_location.replace('.txt', '.root')\n",
    "cmd += ' --no-b-only'\n",
    "cmd += ' --verbose 1'\n",
    "# cmd += ' --no-wrappers'\n",
    "out = os.system(cmd)\n",
    "if out: raise"
   ]
  },
  {
   "cell_type": "markdown",
   "metadata": {},
   "source": [
    "## Run the Maximum Likelyhood fit"
   ]
  },
  {
   "cell_type": "code",
   "execution_count": 54,
   "metadata": {
    "ExecuteTime": {
     "end_time": "2020-05-28T00:26:26.212907Z",
     "start_time": "2020-05-28T00:26:26.197867Z"
    }
   },
   "outputs": [],
   "source": [
    "seedMLf = '6741'"
   ]
  },
  {
   "cell_type": "code",
   "execution_count": 55,
   "metadata": {
    "ExecuteTime": {
     "end_time": "2020-05-28T00:33:37.322421Z",
     "start_time": "2020-05-28T00:26:26.217748Z"
    },
    "scrolled": true
   },
   "outputs": [
    {
     "name": "stdout",
     "output_type": "stream",
     "text": [
      "combine -M FitDiagnostics --robustFit 1 --robustHesse 1 --cminDefaultMinimizerStrategy 0 --X-rtd MINIMIZER_analytic --skipBOnlyFit --seed 6741 -d cards/v8_low.root -D data_obs --setParameters r=0.26 --setParameterRanges r=0.01,5 -n v8_low --out results/v8_low --saveShapes --saveWithUncertainties --saveNormalizations --plots --verbose 1\n",
      "Messages of type \u001b[1m\u001b[31mError\u001b[0m : 0\n"
     ]
    }
   ],
   "source": [
    "cmd = 'combine -M FitDiagnostics'\n",
    "cmd += ' --robustFit 1 --robustHesse 1 --cminDefaultMinimizerStrategy 0 --X-rtd MINIMIZER_analytic'\n",
    "cmd += ' --skipBOnlyFit'\n",
    "cmd += ' --seed ' + seedMLf\n",
    "cmd += ' -d ' + card_location.replace('.txt', '.root')\n",
    "cmd += ' -D ' + histo[histo.keys()[0]]['data'].GetName()\n",
    "cmd += ' --setParameters r={:.2f}'.format(SM_RDst)\n",
    "cmd += ' --setParameterRanges r=0.01,5'\n",
    "cmd += ' -n {}'.format(card_name)\n",
    "cmd += ' --out ' + outdir\n",
    "cmd += ' --saveShapes --saveWithUncertainties --saveNormalizations'\n",
    "cmd += ' --plots'\n",
    "cmd += ' --verbose 1'\n",
    "\n",
    "print cmd\n",
    "status, output = commands.getstatusoutput(cmd)\n",
    "for line in output.split('\\n'):\n",
    "        if 'ERROR' in line: print line.replace('ERROR', '\\033[1m\\x1b[31mError\\x1b[0m')\n",
    "os.system('mv combine_logger.out ' + outdir + '/combine_logger_FitDiagnostics.out')\n",
    "os.system('mv ./higgsCombine{}.FitDiagnostics.mH120.{}.root '.format(card_name, seedMLf) + outdir + '/');"
   ]
  },
  {
   "cell_type": "code",
   "execution_count": 56,
   "metadata": {
    "ExecuteTime": {
     "end_time": "2020-05-28T00:33:37.394144Z",
     "start_time": "2020-05-28T00:33:37.328503Z"
    }
   },
   "outputs": [
    {
     "name": "stdout",
     "output_type": "stream",
     "text": [
      "R(D*) = 0.550 +4.450/-0.540 [453.3 %]\n"
     ]
    }
   ],
   "source": [
    "f = ur.open(glob(outdir + '/higgsCombine{}.FitDiagnostics.mH120.{}.root'.format(card_name, seedMLf))[0])\n",
    "c, d, u, _ = f['limit']['limit'].array()\n",
    "print 'R(D*) = {:.3f} +{:.3f}/-{:.3f} [{:.1f} %]'.format(c, u-c, c-d, 100*(u-d)*0.5/c)\n",
    "rDst_postFitRegion = [max(0.01,c - 5*(c-d)), min(c + 5*(u-c), 0.9)]"
   ]
  },
  {
   "cell_type": "code",
   "execution_count": 57,
   "metadata": {
    "ExecuteTime": {
     "end_time": "2020-05-28T00:33:37.531154Z",
     "start_time": "2020-05-28T00:33:37.398509Z"
    },
    "code_folding": []
   },
   "outputs": [],
   "source": [
    "# Get post-fit shapes\n",
    "fFitDiagnostics = rt.TFile.Open(outdir + '/fitDiagnostics{}.root'.format(card_name), 'READ')\n",
    "fd = fFitDiagnostics.shapes_fit_s\n",
    "\n",
    "histo_postfit = {}\n",
    "for cat, h_dic in histo.iteritems():\n",
    "    histo_postfit[cat] = {}\n",
    "    for n, h in h_dic.iteritems():\n",
    "        if '__' in n:\n",
    "            continue\n",
    "        h_post = h.Clone(h.GetName() + '_postfit')\n",
    "        if 'data' in n:\n",
    "            h_fit = fd.Get(cat+'/total')\n",
    "            h_data = h.Clone(h.GetName() + '_data')\n",
    "            for i in range(1, h_post.GetNbinsX()+1):\n",
    "                h_post.SetBinContent(i, h_fit.GetBinContent(i))\n",
    "                h_post.SetBinError(i, h_fit.GetBinError(i))     \n",
    "            \n",
    "            histo_postfit[cat]['total'] = h_post\n",
    "            histo_postfit[cat][n] = h_data\n",
    "        else:\n",
    "            h_fit = fd.Get(cat+'/'+n)\n",
    "            for i in range(1, h_post.GetNbinsX()+1):\n",
    "                h_post.SetBinContent(i, h_fit.GetBinContent(i))\n",
    "                h_post.SetBinError(i, h_fit.GetBinError(i)) \n",
    "\n",
    "            histo_postfit[cat][n] = h_post"
   ]
  },
  {
   "cell_type": "code",
   "execution_count": 58,
   "metadata": {
    "ExecuteTime": {
     "end_time": "2020-05-28T00:33:37.779965Z",
     "start_time": "2020-05-28T00:33:37.534971Z"
    },
    "scrolled": false
   },
   "outputs": [
    {
     "data": {
      "image/png": "[encoded data removed]",
      "text/plain": [
       "<IPython.core.display.Image object>"
      ]
     },
     "metadata": {},
     "output_type": "display_data"
    }
   ],
   "source": [
    "h2 = fFitDiagnostics.Get('covariance_fit_s')\n",
    "rt.gStyle.SetPaintTextFormat('.1f')\n",
    "\n",
    "N = h2.GetNbinsX()\n",
    "n=20\n",
    "\n",
    "h2.GetXaxis().SetRange(1, n)\n",
    "h2.GetYaxis().SetRangeUser(N-n, N)\n",
    "h2.SetMarkerSize(1.3)\n",
    "CC = drawOnCMSCanvas(CMS_lumi, [h2, h2], ['colz', 'text same'], tag='tl', mL=0.22, mR=0.15, mB=0.18)\n",
    "CC.SaveAs(outdir+'/fig/covariance_zoom.png')"
   ]
  },
  {
   "cell_type": "code",
   "execution_count": 59,
   "metadata": {
    "ExecuteTime": {
     "end_time": "2020-05-28T00:33:38.607048Z",
     "start_time": "2020-05-28T00:33:37.783591Z"
    },
    "scrolled": false
   },
   "outputs": [
    {
     "data": {
      "image/png": "[encoded data removed]",
      "text/plain": [
       "<IPython.core.display.Image object>"
      ]
     },
     "metadata": {},
     "output_type": "display_data"
    }
   ],
   "source": [
    "cSigPost = plot_gridVarQ2(CMS_lumi, binning, histo_postfit, draw_pulls=True, pulls_ylim=[-5, 5])\n",
    "cSigPost.SaveAs(outdir+'/fig/signalRegion_postfit.png')"
   ]
  },
  {
   "cell_type": "code",
   "execution_count": 60,
   "metadata": {
    "ExecuteTime": {
     "end_time": "2020-05-28T00:33:39.284865Z",
     "start_time": "2020-05-28T00:33:38.611523Z"
    },
    "scrolled": false
   },
   "outputs": [
    {
     "data": {
      "image/png": "[encoded data removed]",
      "text/plain": [
       "<IPython.core.display.Image object>"
      ]
     },
     "metadata": {},
     "output_type": "display_data"
    },
    {
     "data": {
      "image/png": "[encoded data removed]",
      "text/plain": [
       "<IPython.core.display.Image object>"
      ]
     },
     "metadata": {},
     "output_type": "display_data"
    },
    {
     "data": {
      "image/png": "[encoded data removed]",
      "text/plain": [
       "<IPython.core.display.Image object>"
      ]
     },
     "metadata": {},
     "output_type": "display_data"
    },
    {
     "data": {
      "image/png": "[encoded data removed]",
      "text/plain": [
       "<IPython.core.display.Image object>"
      ]
     },
     "metadata": {},
     "output_type": "display_data"
    },
    {
     "data": {
      "image/png": "[encoded data removed]",
      "text/plain": [
       "<IPython.core.display.Image object>"
      ]
     },
     "metadata": {},
     "output_type": "display_data"
    },
    {
     "data": {
      "image/png": "[encoded data removed]",
      "text/plain": [
       "<IPython.core.display.Image object>"
      ]
     },
     "metadata": {},
     "output_type": "display_data"
    }
   ],
   "source": [
    "cSidePost = {}\n",
    "for k in np.sort(sideVar.keys()):\n",
    "    legLoc = [0.67, 0.3, 0.93, 0.72]\n",
    "    if 'MassVis' in sideVar[k]:\n",
    "        legLoc = [0.18, 0.4, 0.4, 0.75]\n",
    "    cSidePost[k] = plot_SingleCategory(CMS_lumi, histo_postfit[k], \n",
    "                                       xtitle=sideXtitle[k], addText=sideAddtext[k], \n",
    "                                       tag=k, legLoc=legLoc,\n",
    "                                       draw_pulls=True\n",
    "                                      )\n",
    "    cSidePost[k].SaveAs(outdir+'/fig/'+k+'_postfit.png')"
   ]
  },
  {
   "cell_type": "code",
   "execution_count": 61,
   "metadata": {
    "ExecuteTime": {
     "end_time": "2020-05-28T00:33:42.589200Z",
     "start_time": "2020-05-28T00:33:39.289315Z"
    },
    "scrolled": false
   },
   "outputs": [
    {
     "name": "stdout",
     "output_type": "stream",
     "text": [
      "python diffNuisances.py results/v8_low/fitDiagnosticsv8_low.root --skipFitB --abs -g results/v8_low/nuisance_difference.root\n",
      "+--------------------------------+------------------------+------------------------------------+\n",
      "|           Parameter            |        pre-fit         |              post-fit              |\n",
      "+--------------------------------+------------------------+------------------------------------+\n",
      "|            DstmD0Br            |  0.000000 +/- 1.000000 | !+4.26 +/- 0.91 (+4.26sig, 0.91)!  |\n",
      "|           DstPiPiBr            | 0.000000 +/- 1.000000  | !-3.85 +/- 0.41 (-3.85sig, 0.41)!  |\n",
      "|         BrB02DstD0Kstp         |  0.000000 +/- 1.000000 | !+2.94 +/- 0.88 (+2.94sig, 0.88)!  |\n",
      "|        BrB02DstDst0Kstp        |  0.000000 +/- 1.000000 | !+2.93 +/- 0.93 (+2.93sig, 0.93)!  |\n",
      "| prop_binAddTk_mm_mHad_bin10_mu |  5.000000 +/- 2.225802 | !+11.15 +/- 2.64 (+2.76sig, 1.18)! |\n",
      "|   prop_binAddTk_pm_mHad_bin7   |  0.000000 +/- 1.000000 | !-2.70 +/- 0.78 (-2.70sig, 0.78)!  |\n",
      "|  prop_binAddTk_pm_mVis_bin21   | 0.000000 +/- 1.000000  | !-2.60 +/- 0.66 (-2.60sig, 0.66)!  |\n",
      "|   prop_binAddTk_p_mHad_bin19   |  0.000000 +/- 1.000000 | !-2.52 +/- 0.87 (-2.52sig, 0.87)!  |\n",
      "|            tkPVfrac            |  0.000000 +/- 1.000000 | !+2.19 +/- 0.31 (+2.19sig, 0.31)!  |\n",
      "|  prop_binM2_miss_q2bin1_bin5   | 0.000000 +/- 1.000000  | !-2.08 +/- 0.90 (-2.08sig, 0.90)!  |\n",
      "|   prop_binAddTk_m_mHad_bin10   |  0.000000 +/- 1.000000 | !+2.03 +/- 0.78 (+2.03sig, 0.78)!  |\n",
      "|   prop_binAddTk_pm_mHad_bin6   |  0.000000 +/- 1.000000 | !-2.01 +/- 0.83 (-2.01sig, 0.83)!  |\n",
      "|   prop_binAddTk_m_mHad_bin15   |  0.000000 +/- 1.000000 |  +1.86 +/- 0.78 (+1.86sig, 0.78)   |\n",
      "|              muBr              |  0.000000 +/- 1.000000 |  -1.82 +/- 0.96 (-1.82sig, 0.96)   |\n",
      "|        BrB02DstDstpKst0        |  0.000000 +/- 1.000000 |  +1.76 +/- 0.83 (+1.76sig, 0.83)   |\n",
      "+--------------------------------+------------------------+------------------------------------+\n"
     ]
    }
   ],
   "source": [
    "cmd = 'python diffNuisances.py '.format(os.environ['CMSSW_BASE'])\n",
    "cmd += outdir + '/fitDiagnostics{}.root'.format(card_name)\n",
    "cmd += ' --skipFitB'\n",
    "# cmd += ' --all'\n",
    "cmd += ' --abs'\n",
    "cmd += ' -g {}/nuisance_difference.root'.format(outdir)\n",
    "print cmd\n",
    "status, output = commands.getstatusoutput(cmd)\n",
    "dumpDiffNuisances(output, outdir)"
   ]
  },
  {
   "cell_type": "code",
   "execution_count": 62,
   "metadata": {
    "ExecuteTime": {
     "end_time": "2020-05-28T00:33:43.022124Z",
     "start_time": "2020-05-28T00:33:42.594290Z"
    }
   },
   "outputs": [
    {
     "ename": "TypeError",
     "evalue": "exceptions must be old-style classes or derived from BaseException, not NoneType",
     "output_type": "error",
     "traceback": [
      "\u001b[0;31m\u001b[0m",
      "\u001b[0;31mTypeError\u001b[0mTraceback (most recent call last)",
      "\u001b[0;32m<ipython-input-62-81bdacfbbc74>\u001b[0m in \u001b[0;36m<module>\u001b[0;34m()\u001b[0m\n\u001b[1;32m      1\u001b[0m \u001b[0;32mif\u001b[0m \u001b[0mfastRun\u001b[0m\u001b[0;34m:\u001b[0m\u001b[0;34m\u001b[0m\u001b[0m\n\u001b[0;32m----> 2\u001b[0;31m     \u001b[0;32mraise\u001b[0m\u001b[0;34m\u001b[0m\u001b[0m\n\u001b[0m",
      "\u001b[0;31mTypeError\u001b[0m: exceptions must be old-style classes or derived from BaseException, not NoneType"
     ]
    }
   ],
   "source": [
    "if fastRun:\n",
    "    raise"
   ]
  },
  {
   "cell_type": "markdown",
   "metadata": {},
   "source": [
    "## Run likelyhood scan"
   ]
  },
  {
   "cell_type": "code",
   "execution_count": null,
   "metadata": {
    "ExecuteTime": {
     "end_time": "2020-05-28T00:33:43.023530Z",
     "start_time": "2020-05-28T00:25:34.058Z"
    }
   },
   "outputs": [],
   "source": [
    "cmd = 'combine'\n",
    "cmd += ' -M MultiDimFit'\n",
    "cmd += ' --algo grid --points=100'\n",
    "cmd += ' --robustFit 1'\n",
    "cmd += ' -d ' + card_location.replace('.txt', '.root')\n",
    "cmd += ' -D ' + histo[histo.keys()[0]]['data'].GetName()\n",
    "cmd += ' --X-rtd MINIMIZER_analytic'\n",
    "cmd += ' --rMin={:.4f} --rMax={:.4f}'.format(*rDst_postFitRegion)\n",
    "cmd += ' -n {}_nominal'.format(card_name)\n",
    "cmd += ' --verbose -1'\n",
    "print cmd\n",
    "os.system(cmd)\n",
    "cmd = 'plot1DScan.py higgsCombine{}_nominal.MultiDimFit.mH120.root'.format(card_name)\n",
    "cmd += '; mv scan.png scan_nominal.png'\n",
    "os.system(cmd)\n",
    "res_nominal = getUncertaintyFromLimitTree('higgsCombine{}_nominal.MultiDimFit.mH120.root'.format(card_name))\n",
    "display(Image(filename='scan_nominal.png'))"
   ]
  },
  {
   "cell_type": "markdown",
   "metadata": {},
   "source": [
    "### Uncertainy breakdown by group"
   ]
  },
  {
   "cell_type": "code",
   "execution_count": null,
   "metadata": {
    "ExecuteTime": {
     "end_time": "2020-05-28T00:33:43.025529Z",
     "start_time": "2020-05-28T00:25:34.061Z"
    }
   },
   "outputs": [],
   "source": [
    "cmd = 'combine -M MultiDimFit --algo none'\n",
    "cmd += ' --cminDefaultMinimizerStrategy=2 --robustFit 1 --X-rtd MINIMIZER_analytic'\n",
    "cmd += ' -d ' + card_location.replace('.txt', '.root')\n",
    "cmd += ' -D ' + histo[histo.keys()[0]]['data'].GetName()\n",
    "cmd += ' --setParameters r={:.2f}'.format(SM_RDst)\n",
    "cmd += ' --setParameterRanges r=0.001,1'\n",
    "cmd += ' -n {}_bestfit'.format(card_name)\n",
    "cmd += ' --saveWorkspace --verbose -1'\n",
    "print cmd\n",
    "os.system(cmd);"
   ]
  },
  {
   "cell_type": "code",
   "execution_count": null,
   "metadata": {
    "ExecuteTime": {
     "end_time": "2020-05-28T00:33:43.027640Z",
     "start_time": "2020-05-28T00:25:34.063Z"
    }
   },
   "outputs": [],
   "source": [
    "# Statistical uncertainty\n",
    "cmd = 'combine -M MultiDimFit --algo grid --points=100'\n",
    "cmd += ' --cminDefaultMinimizerStrategy=2 --robustFit 1 --X-rtd MINIMIZER_analytic'\n",
    "cmd += ' -d higgsCombine{}_bestfit.MultiDimFit.mH120.root'.format(card_name)\n",
    "cmd += ' -D ' + histo[histo.keys()[0]]['data'].GetName()\n",
    "cmd += ' --rMin={:.4f} --rMax={:.4f}'.format(*rDst_postFitRegion)\n",
    "cmd += ' -n {}_stat'.format(card_name)\n",
    "cmd += ' --snapshotName MultiDimFit'\n",
    "cmd += ' --freezeNuisanceGroups=autoMCStats,allShape'\n",
    "cmd += ' --verbose -1'\n",
    "print cmd\n",
    "os.system(cmd);"
   ]
  },
  {
   "cell_type": "code",
   "execution_count": null,
   "metadata": {
    "ExecuteTime": {
     "end_time": "2020-05-28T00:33:43.029532Z",
     "start_time": "2020-05-28T00:25:34.064Z"
    }
   },
   "outputs": [],
   "source": [
    "# MC Statistics\n",
    "cmd = 'combine -M MultiDimFit --algo grid --points=100'\n",
    "cmd += ' --cminDefaultMinimizerStrategy=2 --robustFit 1 --X-rtd MINIMIZER_analytic'\n",
    "cmd += ' -d higgsCombine{}_bestfit.MultiDimFit.mH120.root'.format(card_name)\n",
    "cmd += ' -D ' + histo[histo.keys()[0]]['data'].GetName()\n",
    "cmd += ' --rMin={:.4f} --rMax={:.4f}'.format(*rDst_postFitRegion)\n",
    "cmd += ' -n {}_MCstat'.format(card_name)\n",
    "cmd += ' --snapshotName MultiDimFit'\n",
    "cmd += ' --freezeNuisanceGroups=autoMCStats'\n",
    "cmd += ' --verbose -1'\n",
    "print cmd\n",
    "os.system(cmd);"
   ]
  },
  {
   "cell_type": "code",
   "execution_count": null,
   "metadata": {
    "ExecuteTime": {
     "end_time": "2020-05-28T00:33:43.031373Z",
     "start_time": "2020-05-28T00:25:34.066Z"
    }
   },
   "outputs": [],
   "source": [
    "cmd = 'plot1DScan.py higgsCombine{}_nominal.MultiDimFit.mH120.root'.format(card_name)\n",
    "cmd += ' --others'\n",
    "cmd += ' \"higgsCombine{}_MCstat.MultiDimFit.mH120.root:Freeze MC stat:4\"'.format(card_name)\n",
    "cmd += ' \"higgsCombine{}_stat.MultiDimFit.mH120.root:Freeze all:2\"'.format(card_name)\n",
    "cmd += ' --breakdown MCstat,syst,stat'\n",
    "cmd += '; mv scan.png scan_MCstat.png'\n",
    "print cmd\n",
    "os.system(cmd)\n",
    "display(Image(filename='scan_MCstat.png'))"
   ]
  },
  {
   "cell_type": "code",
   "execution_count": null,
   "metadata": {
    "ExecuteTime": {
     "end_time": "2020-05-28T00:33:43.033259Z",
     "start_time": "2020-05-28T00:25:34.068Z"
    }
   },
   "outputs": [],
   "source": [
    "os.system('mv higgsCombine*.root ' + outdir + '/')\n",
    "os.system('mv scan* ' + outdir + '/')\n",
    "os.system('mv combine_logger.out ' + outdir + '/');"
   ]
  },
  {
   "cell_type": "markdown",
   "metadata": {},
   "source": [
    "## Run the impact plots"
   ]
  },
  {
   "cell_type": "markdown",
   "metadata": {},
   "source": [
    "Fit first the POI"
   ]
  },
  {
   "cell_type": "code",
   "execution_count": null,
   "metadata": {
    "ExecuteTime": {
     "end_time": "2020-05-28T00:33:43.035181Z",
     "start_time": "2020-05-28T00:25:34.071Z"
    }
   },
   "outputs": [],
   "source": [
    "os.mkdir(outdir+'/impactPlots')"
   ]
  },
  {
   "cell_type": "code",
   "execution_count": null,
   "metadata": {
    "ExecuteTime": {
     "end_time": "2020-05-28T00:33:43.037015Z",
     "start_time": "2020-05-28T00:25:34.075Z"
    },
    "scrolled": true
   },
   "outputs": [],
   "source": [
    "cmd = 'cd {}/impactPlots;'.format(outdir)\n",
    "cmd += ' combineTool.py -M Impacts --doInitialFit -m 120'\n",
    "cmd += ' --robustFit 1 --X-rtd MINIMIZER_analytic'\n",
    "cmd += ' -d ../../../' + card_location.replace('.txt', '.root')\n",
    "cmd += ' -D ' + histo[histo.keys()[0]]['data'].GetName()\n",
    "cmd += ' --setParameters r={:.2f}'.format(SM_RDst)\n",
    "cmd += ' --setParameterRanges r=0.01,1'\n",
    "cmd += ' -n {}'.format(card_name)\n",
    "cmd += ' --verbose -1'\n",
    "os.system(cmd);"
   ]
  },
  {
   "cell_type": "markdown",
   "metadata": {},
   "source": [
    " Perform a similar scan for each nuisance parameter"
   ]
  },
  {
   "cell_type": "markdown",
   "metadata": {},
   "source": [
    "If running on Tier2 condor remmeber to add this line to CombineToolBase.py ln 11\n",
    "``source /cvmfs/cms.cern.ch/cmsset_default.sh``"
   ]
  },
  {
   "cell_type": "code",
   "execution_count": null,
   "metadata": {
    "ExecuteTime": {
     "end_time": "2020-05-28T00:33:43.038836Z",
     "start_time": "2020-05-28T00:25:34.079Z"
    }
   },
   "outputs": [],
   "source": [
    "cmd = 'cd {}/impactPlots;'.format(outdir)\n",
    "cmd += ' combineTool.py -M Impacts --doFits -m 120'\n",
    "cmd += ' --robustFit 1 --X-rtd MINIMIZER_analytic'\n",
    "# cmd += ' --parallel 20'\n",
    "cmd += ' --parallel 100 --job-mode condor --task-name combineImpacts'\n",
    "cmd += ' --sub-opts \"{}\"'.format(stringJubCustomizationCaltechT2.replace('\"', '\\\\\\\"').replace('$', '\\$'))\n",
    "cmd += ' -d ../../../' + card_location.replace('.txt', '.root')\n",
    "cmd += ' -D ' + histo[histo.keys()[0]]['data'].GetName()\n",
    "cmd += ' -n {}'.format(card_name)\n",
    "cmd += ' --verbose -1'\n",
    "print cmd\n",
    "os.system(cmd);"
   ]
  },
  {
   "cell_type": "markdown",
   "metadata": {},
   "source": [
    "Collect the results"
   ]
  },
  {
   "cell_type": "code",
   "execution_count": null,
   "metadata": {
    "ExecuteTime": {
     "end_time": "2020-05-28T00:33:43.040737Z",
     "start_time": "2020-05-28T00:25:34.082Z"
    }
   },
   "outputs": [],
   "source": [
    "status, output = commands.getstatusoutput('condor_q')\n",
    "while 'combineImpacts' in output:\n",
    "    time.sleep(20)\n",
    "    status, output = commands.getstatusoutput('condor_q')\n",
    "    for l in output.split('\\n'):\n",
    "        if 'combineImpacts' in l: \n",
    "            print l\n",
    "            sys.stdout.flush()\n",
    "cmd = 'cd {}/impactPlots;'.format(outdir)\n",
    "cmd += ' combineTool.py -M Impacts -o impacts.json -m 120'\n",
    "cmd += ' -d ../../../' + card_location.replace('.txt', '.root')\n",
    "cmd += ' -n {}'.format(card_name)\n",
    "print cmd\n",
    "os.system(cmd);"
   ]
  },
  {
   "cell_type": "code",
   "execution_count": null,
   "metadata": {
    "ExecuteTime": {
     "end_time": "2020-05-28T00:33:43.042757Z",
     "start_time": "2020-05-28T00:25:34.084Z"
    },
    "scrolled": true
   },
   "outputs": [],
   "source": [
    "rename = {\n",
    "'r': 'R(D*)',\n",
    "'B0pT': 'B_{0} p_{T} spectrum',\n",
    "'B2DstCLNR0':'R_{0} (CLN B#rightarrow D*#ell#nu)',\n",
    "'B2DstCLNR1':'R_{1} (CLN B#rightarrow D*)',\n",
    "'B2DstCLNR2':'R_{2} (CLN B#rightarrow D*)',\n",
    "'B2DstCLNRhoSq':'#rho^{2} (CLN B#rightarrow D*)',\n",
    "'trgSF': 'Trigger scale factor',\n",
    "'xsecpp2bbXlumi': 'Luminosity*#sigma_{pp#rightarrowbb}',\n",
    "    \n",
    "}\n",
    "\n",
    "procName_dic = {\n",
    "'mu'        : 'B_{0}#rightarrow D*#mu#nu',\n",
    "'tau'       : 'B_{0}#rightarrow D*#tau#nu',\n",
    "'DstmD0'    : 'B^{+}#rightarrow D*D_{0}',\n",
    "'DstmDp'    : 'B^{+}#rightarrow D*D^{+}',\n",
    "'DstmDsp'   : 'B^{+}#rightarrow D*D_{s}^{+}',\n",
    "'DstPip'    : 'B^{+}#rightarrow D*#pi^{+}#mu#nu',\n",
    "'DstPipPi0' : 'B^{+}#rightarrow D*#pi^{+}#pi^{0}#mu#nu',\n",
    "'DstPi0'    : 'B_{0}#rightarrow D*#pi^{0}#mu#nu',\n",
    "'DstPipPim' : 'B_{0}#rightarrow D*#pi^{+}#pi^{-}#mu#nu',\n",
    "'DstPi0Pi0' : 'B_{0}#rightarrow D*#pi^{0}#pi^{0}#mu#nu'\n",
    "}\n",
    "\n",
    "for n in processes:\n",
    "    rename[n+'Br'] = 'Branching fraction ' + procName_dic[n]\n",
    "\n",
    "d = json.load(open(outdir+'/impactPlots/impacts.json', 'r'))\n",
    "for par in d['params']:\n",
    "    name = str(par['name'])\n",
    "    if not name.startswith('prop_bin'): continue\n",
    "    label = name.replace('prop_bin', 'MC stat. ')\n",
    "    label = label.replace('M2_miss_', 'M^{2}_{miss} ')\n",
    "    label = label.replace('Est_mu_', 'E*_{#mu} ')\n",
    "    label = label.replace('q2bin', '[b_{q^{2}}=')\n",
    "    label = label.replace('_bin', '] ')\n",
    "    rename[name] = label + 10*' '\n",
    "    \n",
    "json.dump(rename, open(outdir+'/impactPlots/rename.json', 'w'))\n",
    "\n",
    "cmd = 'cd {};'.format(outdir)\n",
    "cmd += 'plotImpacts.py -i impactPlots/impacts.json -o impacts -t impactPlots/rename.json'\n",
    "os.system(cmd)\n",
    "IFrame(outdir+'/impacts.pdf', width=900, height=600)"
   ]
  },
  {
   "cell_type": "markdown",
   "metadata": {},
   "source": [
    "## Run the Goodness of fit test"
   ]
  },
  {
   "cell_type": "markdown",
   "metadata": {},
   "source": [
    "Run the observed test stat value"
   ]
  },
  {
   "cell_type": "code",
   "execution_count": null,
   "metadata": {
    "ExecuteTime": {
     "end_time": "2020-05-28T00:33:43.044516Z",
     "start_time": "2020-05-28T00:25:34.088Z"
    },
    "scrolled": true
   },
   "outputs": [],
   "source": [
    "cmd = 'combine -M GoodnessOfFit --toysFrequentist --algo=saturated'\n",
    "cmd += ' --X-rtd MINIMIZER_analytic --cminDefaultMinimizerStrategy 0'\n",
    "cmd += ' -d results/{cn}/higgsCombine{cn}_bestfit.MultiDimFit.mH120.root'.format(cn=card_name)\n",
    "cmd += ' --snapshotName MultiDimFit --bypassFrequentistFit'\n",
    "cmd += ' -D ' + histo[histo.keys()[0]]['data'].GetName()\n",
    "cmd += ' -n Obs'                                    # Just the output name\n",
    "cmd += ' -t 0'                                      # Don't run toys\n",
    "cmd += ' -s 1'                                      # Random seed\n",
    "cmd += ' --setParameters r={:.2f}'.format(SM_RDst)\n",
    "cmd += ' --setParameterRanges r=0.001,1'\n",
    "cmd += ' --plots --verbose -1'\n",
    "print cmd\n",
    "os.system(cmd)"
   ]
  },
  {
   "cell_type": "markdown",
   "metadata": {},
   "source": [
    "Run the test stat toy distribution"
   ]
  },
  {
   "cell_type": "code",
   "execution_count": null,
   "metadata": {
    "ExecuteTime": {
     "end_time": "2020-05-28T00:33:43.046372Z",
     "start_time": "2020-05-28T00:25:34.090Z"
    }
   },
   "outputs": [],
   "source": [
    "cmd = 'combine -M GoodnessOfFit --toysFrequentist --algo=saturated'\n",
    "cmd += ' --X-rtd MINIMIZER_analytic --cminDefaultMinimizerStrategy 0'\n",
    "cmd += ' -d results/{cn}/higgsCombine{cn}_bestfit.MultiDimFit.mH120.root'.format(cn=card_name)\n",
    "cmd += ' --snapshotName MultiDimFit --bypassFrequentistFit'\n",
    "cmd += ' -D ' + histo[histo.keys()[0]]['data'].GetName()\n",
    "cmd += ' -n Toys'                                   # Just the output name\n",
    "cmd += ' -t 20'                                     # Number of toys to run\n",
    "cmd += ' -s -1'                                     # Random seed\n",
    "cmd += ' --setParameters r={:.2f}'.format(SM_RDst)\n",
    "cmd += ' --setParameterRanges r=0.001,1'\n",
    "cmd += ' --plots --verbose -1'\n",
    "cmdToys = cmd\n",
    "print cmdToys\n",
    "# os.system(cmdToys)"
   ]
  },
  {
   "cell_type": "code",
   "execution_count": null,
   "metadata": {
    "ExecuteTime": {
     "end_time": "2020-05-28T00:33:43.048373Z",
     "start_time": "2020-05-28T00:25:34.092Z"
    }
   },
   "outputs": [],
   "source": [
    "from multiprocessing import Pool\n",
    "\n",
    "def runCommand(cmd):\n",
    "    os.system(cmd)\n",
    "\n",
    "Nrep = 15\n",
    "p = Pool(min(20,Nrep))\n",
    "outputs = p.map(runCommand, Nrep*[cmdToys])"
   ]
  },
  {
   "cell_type": "markdown",
   "metadata": {},
   "source": [
    "Combine them to get the p-value"
   ]
  },
  {
   "cell_type": "code",
   "execution_count": null,
   "metadata": {
    "ExecuteTime": {
     "end_time": "2020-05-28T00:33:43.050280Z",
     "start_time": "2020-05-28T00:25:34.094Z"
    }
   },
   "outputs": [],
   "source": [
    "f = ur.open('higgsCombineObs.GoodnessOfFit.mH120.1.root')\n",
    "s_obs = f['limit']['limit'].array()[0]\n",
    "\n",
    "s_toys = []\n",
    "for name_toys in glob('higgsCombineToys.GoodnessOfFit.*.root'):\n",
    "    f = ur.open(name_toys)\n",
    "    s_toys += list(f['limit']['limit'].array())\n",
    "\n",
    "content, center, _ = plt.hist(s_toys, label='Toys')\n",
    "plt.plot([s_obs, s_obs], [0, np.max(content)], 'm--', label='Observed')\n",
    "plt.legend(loc='best')\n",
    "\n",
    "p_val = np.sum(s_toys > s_obs)/float(len(s_toys))\n",
    "print 'p-value: {:.1f}%'.format(100*p_val)\n",
    "if p_val < 0.01: print p_val"
   ]
  },
  {
   "cell_type": "code",
   "execution_count": null,
   "metadata": {
    "ExecuteTime": {
     "end_time": "2020-05-28T00:33:43.052122Z",
     "start_time": "2020-05-28T00:25:34.096Z"
    }
   },
   "outputs": [],
   "source": [
    "os.system('mv *.root {}/'.format(outdir))"
   ]
  }
 ],
 "metadata": {
  "kernelspec": {
   "display_name": "Python 2",
   "language": "python",
   "name": "python2"
  },
  "language_info": {
   "codemirror_mode": {
    "name": "ipython",
    "version": 2
   },
   "file_extension": ".py",
   "mimetype": "text/x-python",
   "name": "python",
   "nbconvert_exporter": "python",
   "pygments_lexer": "ipython2",
   "version": "2.7.14+"
  },
  "varInspector": {
   "cols": {
    "lenName": 16,
    "lenType": 16,
    "lenVar": 40
   },
   "kernels_config": {
    "python": {
     "delete_cmd_postfix": "",
     "delete_cmd_prefix": "del ",
     "library": "var_list.py",
     "varRefreshCmd": "print(var_dic_list())"
    },
    "r": {
     "delete_cmd_postfix": ") ",
     "delete_cmd_prefix": "rm(",
     "library": "var_list.r",
     "varRefreshCmd": "cat(var_dic_list()) "
    }
   },
   "position": {
    "height": "308px",
    "left": "1550px",
    "right": "20px",
    "top": "120px",
    "width": "338px"
   },
   "types_to_exclude": [
    "module",
    "function",
    "builtin_function_or_method",
    "instance",
    "_Feature"
   ],
   "window_display": false
  }
 },
 "nbformat": 4,
 "nbformat_minor": 2
}
