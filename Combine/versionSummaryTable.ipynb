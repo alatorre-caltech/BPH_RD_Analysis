{
 "cells": [
  {
   "cell_type": "code",
   "execution_count": 1,
   "metadata": {
    "ExecuteTime": {
     "end_time": "2022-03-24T22:18:26.851258Z",
     "start_time": "2022-03-24T22:18:26.741954Z"
    }
   },
   "outputs": [],
   "source": [
    "import sys, os, pickle, time, json, yaml, re\n",
    "from glob import glob\n",
    "from prettytable import PrettyTable"
   ]
  },
  {
   "cell_type": "code",
   "execution_count": 26,
   "metadata": {
    "ExecuteTime": {
     "end_time": "2022-03-24T22:40:51.214484Z",
     "start_time": "2022-03-24T22:40:51.050435Z"
    },
    "code_folding": []
   },
   "outputs": [],
   "source": [
    "def make_results_table(version=None, cat=None, dirs=None, nPulls=4, skipDirs=None, verbose=False):\n",
    "    if dirs is None and version is not None and cat is not None:\n",
    "        results_dir = os.environ['HOME'] + '/public_html/BPH_RDst/Combine/'\n",
    "        dirs = glob(results_dir + '*'+version+'*'+cat+'*')\n",
    "        auxDirs = []\n",
    "        for d in sorted(dirs, key=lambda path: os.stat(path).st_ctime):\n",
    "            if (not os.path.basename(d).startswith('v'+version+'_')) and (not os.path.basename(d).startswith(version+'_')):\n",
    "                continue\n",
    "            if skipDirs is not None:\n",
    "                if d in skipDirs:\n",
    "                    continue\n",
    "            auxDirs.append(d)\n",
    "        dirs = auxDirs\n",
    "    elif dirs is not None:\n",
    "        auxDirs = []\n",
    "        for d in sorted(dirs):\n",
    "            if os.path.isdir(d):\n",
    "                if d[-1] == '/':\n",
    "                    d = d[:-1]\n",
    "                auxDirs.append(d)\n",
    "        dirs = auxDirs\n",
    "    else:\n",
    "        print 'Input not recognized'\n",
    "        return\n",
    "    \n",
    "    if isinstance(dirs, list):\n",
    "        if len(dirs) > 0:\n",
    "            if verbose:\n",
    "                print 'Fetching directories:'\n",
    "                for d in dirs: print d\n",
    "        else:\n",
    "            print 'No existing directories'\n",
    "            return\n",
    "    else:\n",
    "        print '[ERROR] dirs:', dirs\n",
    "        return\n",
    "    \n",
    "    table = PrettyTable()\n",
    "    table.field_names = ['Version', 'Sat. GoF', 'Scan [%]', 'Cat comp', 'Top pulls','[sigma]']\n",
    "    table.align['Top pulls'] = 'l'\n",
    "    table.align['[sigma]'] = 'r'\n",
    "\n",
    "    for dd in dirs:\n",
    "        tag = os.path.basename(dd)\n",
    "        if version is not None:\n",
    "            tag = tag[tag.find(version+'_')+len(version+'_'):]\n",
    "        if cat is not None:\n",
    "            tag = tag[:tag.find(cat)]\n",
    "        if tag.endswith('_'):\n",
    "            tag = tag[:-1]\n",
    "        if not tag:\n",
    "            tag = '-'\n",
    "        if len(tag) > 30:\n",
    "            tag = tag[:30] + '...'\n",
    "        # print 'Tag:', tag\n",
    "\n",
    "\n",
    "        GoF_file = dd + '/GoF_results.txt'\n",
    "        pval_sat = '-'\n",
    "        if os.path.isfile(GoF_file):\n",
    "            with open(GoF_file) as f:\n",
    "                for line in reversed(f.readlines()):\n",
    "                    if 'algoSat' in line:\n",
    "                        break\n",
    "                data = [x for x in line.split(' ') if x]\n",
    "                data[2] = data[2][1:-2]\n",
    "                pval_sat = data[1][:-4] + ' ('\n",
    "                if float(data[2]) > 0:\n",
    "                    pval_sat += data[2] + '%' + ')'\n",
    "                else:\n",
    "                    pval_sat += 'x{:.2f}'.format(float(data[1])/float(data[-2])) + ')'\n",
    "\n",
    "\n",
    "        scan_file = dd + '/scan_results.txt'\n",
    "        scan_result = '-'\n",
    "        if os.path.isfile(scan_file):\n",
    "            with open(scan_file) as f:\n",
    "                line = f.readlines()[-1]\n",
    "                data = [x for x in line.split(' ') if x]\n",
    "                err = float(data[2][1:]) + float(data[4][1:])\n",
    "                scan_result = '{:.1f} +/- {:.1f}'.format(100*float(data[1]), 100*err*0.5)\n",
    "    #     print scan_result\n",
    "\n",
    "        catComp_file = dd + '/categoriesCompatibility.txt'\n",
    "        catComp = '-'\n",
    "        if os.path.isfile(catComp_file):\n",
    "            with open(catComp_file) as f:\n",
    "                line = f.readlines()[-1]\n",
    "                catComp = line.split(' ')[-1][1:-5] + '%'\n",
    "    #     print catComp\n",
    "\n",
    "        pulls_file = dd + '/scanNuisanceOut_Base.txt'\n",
    "        pulls = [['-', '-']]*nPulls\n",
    "        if os.path.isfile(pulls_file):\n",
    "            with open(pulls_file) as f:\n",
    "                for i, line in enumerate(f.readlines()[3:nPulls+3]):\n",
    "                    pulls[i] = [x for x in line[:-1].replace('|', '').split(' ') if x]\n",
    "                    if pulls[i][0].startswith('prop_bin'):\n",
    "                        pulls[i][0] = '~'+pulls[i][0][len('prop_bin'):]\n",
    "\n",
    "        if dd != dirs[0]:\n",
    "            table.add_row(len(table.field_names)*[''])\n",
    "        table.add_row([tag, pval_sat, scan_result, catComp, pulls[0][0], pulls[0][1]])\n",
    "        for i in range(1, len(pulls)):\n",
    "            table.add_row(['', '', '', '', pulls[i][0], pulls[i][1]])\n",
    "\n",
    "    return table"
   ]
  },
  {
   "cell_type": "code",
   "execution_count": 27,
   "metadata": {
    "ExecuteTime": {
     "end_time": "2022-03-24T22:40:51.694706Z",
     "start_time": "2022-03-24T22:40:51.673003Z"
    }
   },
   "outputs": [],
   "source": [
    "def print_with_title(table, title=''):\n",
    "    if not title:\n",
    "        print table\n",
    "        return\n",
    "    \n",
    "    tw = len(table.get_string().split('\\n')[0])\n",
    "    \n",
    "    if len(title) > tw-7:\n",
    "        title = title[:tw-7] + '...'\n",
    "\n",
    "    nb = tw - len(title) - 2\n",
    "    nbb, nba = [nb/2, nb/2] if nb%2==0 else [(nb-1)/2, 1+(nb-1)/2]\n",
    "    \n",
    "    out = '+' + '-'*(tw-2) + '+' + '\\n'\n",
    "    out += '|' + nbb*' ' + title + nba*' ' + '|\\n'\n",
    "    out += table.get_string()\n",
    "    out += '\\n'\n",
    "    print out"
   ]
  },
  {
   "cell_type": "code",
   "execution_count": 28,
   "metadata": {
    "ExecuteTime": {
     "end_time": "2022-03-24T22:40:52.711999Z",
     "start_time": "2022-03-24T22:40:52.678302Z"
    },
    "scrolled": false
   },
   "outputs": [
    {
     "name": "stdout",
     "output_type": "stream",
     "text": [
      "+------------------------------------------------------------------------------------------------+\n",
      "|                                              low                                               |\n",
      "+---------------------+-------------+-------------+----------+-------------------------+---------+\n",
      "|       Version       |   Sat. GoF  |   Scan [%]  | Cat comp | Top pulls               | [sigma] |\n",
      "+---------------------+-------------+-------------+----------+-------------------------+---------+\n",
      "|          -          | 226 (28.7%) | 0.0 +/- 4.3 |    -     | brB_D2420MuNu           |    2.03 |\n",
      "|                     |             |             |          | ~ctrl_mm_mHad_bin1      |   -1.78 |\n",
      "|                     |             |             |          | ctrlNormBToDstHcMu7_IP4 |    1.22 |\n",
      "|                     |             |             |          | ~ctrl_m__mHad_bin18     |   -1.15 |\n",
      "|                     |             |             |          |                         |         |\n",
      "| muPSr_eta_0p8_pt_20 | 230 (20.7%) | 0.0 +/- 6.2 |    -     | ~ctrl_mm_mHad_bin1      |   -2.19 |\n",
      "|                     |             |             |          | brB_D2420MuNu           |    1.98 |\n",
      "|                     |             |             |          | ctrlNormBToDstHcMu7_IP4 |    1.36 |\n",
      "|                     |             |             |          | B_DstDXXBr              |   -1.18 |\n",
      "|                     |             |             |          |                         |         |\n",
      "|   muPSr_cleanDstHc  | 228 (32.7%) | 0.0 +/- 7.1 |    -     | ~ctrl_mm_mHad_bin1      |   -2.20 |\n",
      "|                     |             |             |          | brB_D2420MuNu           |    1.97 |\n",
      "|                     |             |             |          | ctrlNormBToDstHcMu7_IP4 |    1.42 |\n",
      "|                     |             |             |          | ~ctrl_mm_mHad_bin11     |   -1.19 |\n",
      "+---------------------+-------------+-------------+----------+-------------------------+---------+\n",
      "\n",
      "+-------------------------------------------------------------------------------------------+\n",
      "|                                            mid                                            |\n",
      "+---------------------+-------------+-------------+----------+--------------------+---------+\n",
      "|       Version       |   Sat. GoF  |   Scan [%]  | Cat comp | Top pulls          | [sigma] |\n",
      "+---------------------+-------------+-------------+----------+--------------------+---------+\n",
      "|          -          |  255 (2.7%) | 0.0 +/- 1.9 |    -     | brB_D2420MuNu      |    2.70 |\n",
      "|                     |             |             |          | brDstPiPi_D2Sst    |    2.16 |\n",
      "|                     |             |             |          | Bd_DDs1Br          |    2.02 |\n",
      "|                     |             |             |          | ~ctrl_pm_mVis_bin3 |   -1.79 |\n",
      "|                     |             |             |          |                    |         |\n",
      "| muPSr_eta_0p8_pt_20 | 224 (28.0%) | 0.0 +/- 8.1 |    -     | brB_D2420MuNu      |    2.32 |\n",
      "|                     |             |             |          | ~ctrl_mm_mHad_bin6 |   -1.76 |\n",
      "|                     |             |             |          | brDstPiPi_D2Sst    |    1.57 |\n",
      "|                     |             |             |          | Bd_DDs1Br          |    1.48 |\n",
      "|                     |             |             |          |                    |         |\n",
      "|   muPSr_cleanDstHc  | 224 (30.0%) | 0.0 +/- 8.2 |    -     | brB_D2420MuNu      |    2.32 |\n",
      "|                     |             |             |          | ~ctrl_mm_mHad_bin6 |   -1.81 |\n",
      "|                     |             |             |          | brDstPiPi_D2Sst    |    1.60 |\n",
      "|                     |             |             |          | Bd_DDs1Br          |    1.59 |\n",
      "+---------------------+-------------+-------------+----------+--------------------+---------+\n",
      "\n",
      "+--------------------------------------------------------------------------------------------+\n",
      "|                                            high                                            |\n",
      "+---------------------+-------------+-------------+----------+---------------------+---------+\n",
      "|       Version       |   Sat. GoF  |   Scan [%]  | Cat comp | Top pulls           | [sigma] |\n",
      "+---------------------+-------------+-------------+----------+---------------------+---------+\n",
      "|          -          | 272 (x1.07) | 0.0 +/- 2.1 |    -     | ~ctrl_pm_mVis_bin7  |   -2.32 |\n",
      "|                     |             |             |          | ~ctrl_pm_mVis_bin11 |    2.19 |\n",
      "|                     |             |             |          | ~ctrl_pm_mVis_bin9  |   -2.08 |\n",
      "|                     |             |             |          | ~ctrl_pm_mVis_bin3  |   -1.87 |\n",
      "|                     |             |             |          |                     |         |\n",
      "| muPSr_eta_0p8_pt_20 |  255 (3.3%) | 0.0 +/- 1.9 |    -     | ~ctrl_pm_mVis_bin7  |   -2.12 |\n",
      "|                     |             |             |          | ~ctrl_pm_mVis_bin11 |    1.81 |\n",
      "|                     |             |             |          | ~ctrl_pm_mVis_bin3  |   -1.70 |\n",
      "|                     |             |             |          | ~ctrl_pm_mVis_bin9  |   -1.49 |\n",
      "|                     |             |             |          |                     |         |\n",
      "|   muPSr_cleanDstHc  |  254 (4.7%) | 0.0 +/- 1.9 |    -     | ~ctrl_pm_mVis_bin7  |   -2.04 |\n",
      "|                     |             |             |          | ~ctrl_pm_mVis_bin11 |    1.78 |\n",
      "|                     |             |             |          | ~ctrl_pm_mVis_bin3  |   -1.72 |\n",
      "|                     |             |             |          | ~ctrl_pm_mVis_bin9  |   -1.49 |\n",
      "+---------------------+-------------+-------------+----------+---------------------+---------+\n",
      "\n",
      "+------------------------------------------------------------------------------------------------+\n",
      "|                                              comb                                              |\n",
      "+---------------------+-------------+-------------+----------+-------------------------+---------+\n",
      "|       Version       |   Sat. GoF  |   Scan [%]  | Cat comp | Top pulls               | [sigma] |\n",
      "+---------------------+-------------+-------------+----------+-------------------------+---------+\n",
      "|          -          | 763 (x1.09) | 0.0 +/- 0.8 |   100%   | B2DstCLNeig2            |    3.21 |\n",
      "|                     |             |             |          | ~high_ctrl_pm_mVis_bin7 |   -2.29 |\n",
      "|                     |             |             |          | brB_D2420MuNu           |    2.18 |\n",
      "|                     |             |             |          | Bd_DDs1Br               |    2.09 |\n",
      "|                     |             |             |          |                         |         |\n",
      "| muPSr_eta_0p8_pt_20 |  722 (3.3%) | 0.0 +/- 4.4 |   100%   | ~low_ctrl_mm_mHad_bin1  |   -2.18 |\n",
      "|                     |             |             |          | brB_D2420MuNu           |    2.13 |\n",
      "|                     |             |             |          | B2DstCLNeig2            |    2.02 |\n",
      "|                     |             |             |          | brDstPiPi_NR            |   -1.85 |\n",
      "|                     |             |             |          |                         |         |\n",
      "|   muPSr_cleanDstHc  |  720 (2.0%) | 0.0 +/- 5.0 |   95%    | ~low_ctrl_mm_mHad_bin1  |   -2.18 |\n",
      "|                     |             |             |          | brB_D2420MuNu           |    2.14 |\n",
      "|                     |             |             |          | B2DstCLNeig2            |    2.00 |\n",
      "|                     |             |             |          | brDstPiPi_NR            |   -1.84 |\n",
      "+---------------------+-------------+-------------+----------+-------------------------+---------+\n",
      "\n"
     ]
    }
   ],
   "source": [
    "for ccc in ['low', 'mid', 'high', 'comb']:\n",
    "    table = make_results_table(version='v15_0', cat=ccc)\n",
    "    print_with_title(table, ccc)"
   ]
  },
  {
   "cell_type": "code",
   "execution_count": null,
   "metadata": {
    "ExecuteTime": {
     "end_time": "2022-03-24T20:13:48.473132Z",
     "start_time": "2022-03-24T20:13:48.084684Z"
    },
    "scrolled": false
   },
   "outputs": [],
   "source": [
    "ddd = [\n",
    "    '/storage/af/user/alatorre/public_html/BPH_RDst/Combine/v14_1_bug_fix_control_regions_squashed3_dsthc_{}_CLN_blinded',\n",
    "    '/storage/af/user/ocerri/public_html/BPH_RDst/Combine/v15_0_{}_CLN_blinded'\n",
    "]\n",
    "\n",
    "for ccc in ['low', 'mid', 'high', 'comb']:\n",
    "    auxDir = [d.format(ccc) for d in ddd]\n",
    "    print ccc\n",
    "    print make_results_table(dirs=auxDir, cat=ccc)\n",
    "    "
   ]
  },
  {
   "cell_type": "code",
   "execution_count": null,
   "metadata": {
    "ExecuteTime": {
     "end_time": "2022-03-23T22:47:02.816343Z",
     "start_time": "2022-03-23T22:47:02.783528Z"
    },
    "scrolled": true
   },
   "outputs": [],
   "source": [
    "print make_results_table(version='14_1', cat='comb')"
   ]
  },
  {
   "cell_type": "code",
   "execution_count": null,
   "metadata": {
    "ExecuteTime": {
     "end_time": "2022-03-18T01:00:37.185765Z",
     "start_time": "2022-03-18T01:00:36.984739Z"
    }
   },
   "outputs": [],
   "source": [
    "# outfile = results_dir + 'summary_table_{}_{}.txt'.format(version, cat)\n",
    "# os.system('date > '+outfile)\n",
    "# with open(outfile, 'a') as f:\n",
    "#     f.write(table.get_string())\n",
    "    \n",
    "# with open(outfile[:-4]+'.html', 'w') as f:\n",
    "#     f.write(table.get_html_string())"
   ]
  },
  {
   "cell_type": "code",
   "execution_count": null,
   "metadata": {},
   "outputs": [],
   "source": []
  }
 ],
 "metadata": {
  "kernelspec": {
   "display_name": "Python 2",
   "language": "python",
   "name": "python2"
  },
  "language_info": {
   "codemirror_mode": {
    "name": "ipython",
    "version": 2
   },
   "file_extension": ".py",
   "mimetype": "text/x-python",
   "name": "python",
   "nbconvert_exporter": "python",
   "pygments_lexer": "ipython2",
   "version": "2.7.14+"
  },
  "varInspector": {
   "cols": {
    "lenName": 16,
    "lenType": 16,
    "lenVar": 40
   },
   "kernels_config": {
    "python": {
     "delete_cmd_postfix": "",
     "delete_cmd_prefix": "del ",
     "library": "var_list.py",
     "varRefreshCmd": "print(var_dic_list())"
    },
    "r": {
     "delete_cmd_postfix": ") ",
     "delete_cmd_prefix": "rm(",
     "library": "var_list.r",
     "varRefreshCmd": "cat(var_dic_list()) "
    }
   },
   "types_to_exclude": [
    "module",
    "function",
    "builtin_function_or_method",
    "instance",
    "_Feature"
   ],
   "window_display": false
  }
 },
 "nbformat": 4,
 "nbformat_minor": 2
}
