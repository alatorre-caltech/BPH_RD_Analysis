{
 "cells": [
  {
   "cell_type": "code",
   "execution_count": 1,
   "metadata": {
    "ExecuteTime": {
     "end_time": "2022-02-28T23:00:56.241890Z",
     "start_time": "2022-02-28T23:00:56.186175Z"
    }
   },
   "outputs": [],
   "source": [
    "import sys, os, pickle, time, json, yaml, re\n",
    "from glob import glob\n",
    "from prettytable import PrettyTable"
   ]
  },
  {
   "cell_type": "code",
   "execution_count": 2,
   "metadata": {
    "ExecuteTime": {
     "end_time": "2022-02-28T23:00:56.253788Z",
     "start_time": "2022-02-28T23:00:56.246191Z"
    }
   },
   "outputs": [],
   "source": [
    "results_dir = os.environ['HOME'] + '/public_html/BPH_RDst/Combine/'\n",
    "version = '15'\n",
    "cat = 'comb'"
   ]
  },
  {
   "cell_type": "code",
   "execution_count": 3,
   "metadata": {
    "ExecuteTime": {
     "end_time": "2022-02-28T23:00:56.295583Z",
     "start_time": "2022-02-28T23:00:56.258367Z"
    }
   },
   "outputs": [
    {
     "name": "stdout",
     "output_type": "stream",
     "text": [
      "/storage/af/user/ocerri/public_html/BPH_RDst/Combine/v15_allow_mu_lostInnerHits_comb_CLN_blinded\n",
      "/storage/af/user/ocerri/public_html/BPH_RDst/Combine/v15_base_comb_CLN_blinded\n",
      "/storage/af/user/ocerri/public_html/BPH_RDst/Combine/v15_correlate_tkPVfrac_comb_CLN_blinded\n",
      "/storage/af/user/ocerri/public_html/BPH_RDst/Combine/v15_ctrl_M2miss_comb_CLN_blinded\n",
      "/storage/af/user/ocerri/public_html/BPH_RDst/Combine/v15_ctrl_p__comb_CLN_blinded\n",
      "/storage/af/user/ocerri/public_html/BPH_RDst/Combine/v15_extended_M2miss_comb_CLN_blinded\n",
      "/storage/af/user/ocerri/public_html/BPH_RDst/Combine/v15_extended_mu_eta_comb_CLN_blinded\n"
     ]
    }
   ],
   "source": [
    "dirs = glob(results_dir + '*'+version+'*'+cat+'*')\n",
    "auxDirs = []\n",
    "for d in sorted(dirs):\n",
    "    if (not os.path.basename(d).startswith('v'+version+'_')) and (not os.path.basename(d).startswith(version+'_')):\n",
    "        continue\n",
    "#     if not 'base' in d and not 'noLostHits_mVisPM_3p8' in d:\n",
    "#         continue\n",
    "    auxDirs.append(d)\n",
    "    print d\n",
    "dirs = auxDirs"
   ]
  },
  {
   "cell_type": "code",
   "execution_count": 4,
   "metadata": {
    "ExecuteTime": {
     "end_time": "2022-02-28T23:00:56.335077Z",
     "start_time": "2022-02-28T23:00:56.302124Z"
    }
   },
   "outputs": [],
   "source": [
    "# dirs.pop(1)\n",
    "# dirs = [dirs[0], dirs[2], dirs[1]]"
   ]
  },
  {
   "cell_type": "code",
   "execution_count": 5,
   "metadata": {
    "ExecuteTime": {
     "end_time": "2022-02-28T23:00:56.709054Z",
     "start_time": "2022-02-28T23:00:56.341940Z"
    },
    "code_folding": []
   },
   "outputs": [
    {
     "name": "stdout",
     "output_type": "stream",
     "text": [
      "v15_allow_mu_lostInnerHits_comb_CLN_blinded\n",
      "v15_base_comb_CLN_blinded\n",
      "v15_correlate_tkPVfrac_comb_CLN_blinded\n",
      "v15_ctrl_M2miss_comb_CLN_blinded\n",
      "v15_ctrl_p__comb_CLN_blinded\n",
      "v15_extended_M2miss_comb_CLN_blinded\n",
      "v15_extended_mu_eta_comb_CLN_blinded\n"
     ]
    }
   ],
   "source": [
    "table = PrettyTable()\n",
    "table.field_names = ['Version', 'Sat pval', 'Scan [%]', 'Cat comp', 'Top pulls','[sigma]']\n",
    "table.align['Top pulls'] = 'l'\n",
    "table.align['[sigma]'] = 'r'\n",
    "\n",
    "for dd in dirs:\n",
    "    print os.path.basename(dd)\n",
    "    \n",
    "    tag = os.path.basename(dd)\n",
    "    tag = tag[tag.find(version+'_')+len(version+'_'):]\n",
    "    tag = tag[:tag.find(cat)]\n",
    "    tag = tag.replace('noLostHits_', '')\n",
    "    if tag.endswith('_'):\n",
    "        tag = tag[:-1]\n",
    "#     print tag\n",
    "\n",
    "\n",
    "    GoF_file = dd + '/GoF_results.txt'\n",
    "    pval_sat = '-'\n",
    "    if os.path.isfile(GoF_file):\n",
    "        with open(GoF_file) as f:\n",
    "            for line in reversed(f.readlines()):\n",
    "                if 'algoSat' in line:\n",
    "                    break\n",
    "            data = [x for x in line.split(' ') if x]\n",
    "            data[2] = data[2][1:-2]\n",
    "            if float(data[2]) > 0:\n",
    "                pval_sat = data[2] + '%'\n",
    "            else:\n",
    "                pval_sat = 'x{:.2f}'.format(float(data[1])/float(data[-2]))\n",
    "#     print pval_sat\n",
    "\n",
    "\n",
    "    scan_file = dd + '/scan_results.txt'\n",
    "    scan_result = '-'\n",
    "    if os.path.isfile(scan_file):\n",
    "        with open(scan_file) as f:\n",
    "            line = f.readlines()[-1]\n",
    "            data = [x for x in line.split(' ') if x]\n",
    "            err = float(data[2][1:]) + float(data[4][1:])\n",
    "            scan_result = '{:.1f} +/- {:.1f}'.format(100*float(data[1]), 100*err*0.5)\n",
    "#     print scan_result\n",
    "\n",
    "    catComp_file = dd + '/categoriesCompatibility.txt'\n",
    "    catComp = '-'\n",
    "    if os.path.isfile(catComp_file):\n",
    "        with open(catComp_file) as f:\n",
    "            line = f.readlines()[-1]\n",
    "            catComp = line.split(' ')[-1][1:-5] + '%'\n",
    "#     print catComp\n",
    "\n",
    "    pulls_file = dd + '/scanNuisanceOut_Base.txt'\n",
    "    nPulls = 5\n",
    "    pulls = ['-']*nPulls\n",
    "    if os.path.isfile(pulls_file):\n",
    "        with open(pulls_file) as f:\n",
    "            for i, line in enumerate(f.readlines()[3:nPulls+3]):\n",
    "                pulls[i] = [x for x in line[:-1].replace('|', '').split(' ') if x]\n",
    "#     for p in pulls:\n",
    "#         print p\n",
    "\n",
    "    if dd != dirs[0]:\n",
    "        table.add_row(len(table.field_names)*[''])\n",
    "    table.add_row([tag, pval_sat, scan_result, catComp, pulls[0][0], pulls[0][1]])\n",
    "    for i in range(1, len(pulls)):\n",
    "        table.add_row(['', '', '', '', pulls[i][0], pulls[i][1]])"
   ]
  },
  {
   "cell_type": "code",
   "execution_count": 6,
   "metadata": {
    "ExecuteTime": {
     "end_time": "2022-02-28T23:00:56.740620Z",
     "start_time": "2022-02-28T23:00:56.716327Z"
    }
   },
   "outputs": [
    {
     "name": "stdout",
     "output_type": "stream",
     "text": [
      "+------------------------+----------+---------------+----------+-----------------------------------+---------+\n",
      "|        Version         | Sat pval |    Scan [%]   | Cat comp | Top pulls                         | [sigma] |\n",
      "+------------------------+----------+---------------+----------+-----------------------------------+---------+\n",
      "| allow_mu_lostInnerHits |  x1.35   |  0.0 +/- 1.9  |   100%   | Bs_DstDsBr                        |    4.81 |\n",
      "|                        |          |               |          | brBu_DstDustK                     |    4.00 |\n",
      "|                        |          |               |          | brDstPiPi_D1st                    |   -3.98 |\n",
      "|                        |          |               |          | B2DstCLNeig2                      |    3.16 |\n",
      "|                        |          |               |          | FF_B2DststN_BLReig2               |    2.98 |\n",
      "|                        |          |               |          |                                   |         |\n",
      "|          base          |  x1.33   |  0.0 +/- 1.9  |   100%   | Bs_DstDsBr                        |    4.61 |\n",
      "|                        |          |               |          | brDstPiPi_D1st                    |   -3.96 |\n",
      "|                        |          |               |          | brBu_DstDustK                     |    3.90 |\n",
      "|                        |          |               |          | B2DstCLNeig2                      |    2.97 |\n",
      "|                        |          |               |          | FF_B2DststN_BLReig2               |    2.74 |\n",
      "|                        |          |               |          |                                   |         |\n",
      "|   correlate_tkPVfrac   |  x1.33   |  0.0 +/- 1.8  |   100%   | Bs_DstDsBr                        |    4.53 |\n",
      "|                        |          |               |          | brDstPiPi_D1st                    |   -3.97 |\n",
      "|                        |          |               |          | brBu_DstDustK                     |    3.89 |\n",
      "|                        |          |               |          | B2DstCLNeig2                      |    2.99 |\n",
      "|                        |          |               |          | FF_B2DststN_BLReig2               |    2.80 |\n",
      "|                        |          |               |          |                                   |         |\n",
      "|      ctrl_M2miss       |  x1.32   |  1.3 +/- 5.2  |   38%    | brDstPiPi_D1st                    |   -3.97 |\n",
      "|                        |          |               |          | brBu_DstDustK                     |    3.91 |\n",
      "|                        |          |               |          | B2DstCLNeig2                      |    3.24 |\n",
      "|                        |          |               |          | brDstPiPi_D2stPi                  |    2.60 |\n",
      "|                        |          |               |          | brBd_DstDuKst                     |   -2.57 |\n",
      "|                        |          |               |          |                                   |         |\n",
      "|        ctrl_p_         |   0.8%   | 10.5 +/- 11.4 |   26%    | B2DstCLNeig2                      |    2.43 |\n",
      "|                        |          |               |          | brB_D2420MuNu                     |    2.27 |\n",
      "|                        |          |               |          | FF_B2DststN_BLReig2               |    2.03 |\n",
      "|                        |          |               |          | prop_binmid_Unrolled_q2bin1_bin55 |    1.49 |\n",
      "|                        |          |               |          | BdpTLow_lam4                      |   -1.45 |\n",
      "|                        |          |               |          |                                   |         |\n",
      "|    extended_M2miss     |  x1.41   |  0.1 +/- 4.2  |   100%   | B2DstCLNeig2                      |    7.60 |\n",
      "|                        |          |               |          | Bs_DstDsBr                        |    5.84 |\n",
      "|                        |          |               |          | brBu_DstDustK                     |    4.89 |\n",
      "|                        |          |               |          | brDstPiPi_D1st                    |   -3.91 |\n",
      "|                        |          |               |          | prop_binlow_ctrl_pm_mHad_bin24    |   -2.75 |\n",
      "|                        |          |               |          |                                   |         |\n",
      "|    extended_mu_eta     |  x1.44   |  0.0 +/- 1.7  |   100%   | Bs_DstDsBr                        |    5.50 |\n",
      "|                        |          |               |          | brDstPiPi_D1st                    |   -4.55 |\n",
      "|                        |          |               |          | brBu_DstDustK                     |    4.31 |\n",
      "|                        |          |               |          | B2DstCLNeig2                      |    3.72 |\n",
      "|                        |          |               |          | FF_B2DststN_BLReig2               |    3.41 |\n",
      "+------------------------+----------+---------------+----------+-----------------------------------+---------+\n"
     ]
    }
   ],
   "source": [
    "print table"
   ]
  },
  {
   "cell_type": "code",
   "execution_count": 7,
   "metadata": {
    "ExecuteTime": {
     "end_time": "2022-02-28T23:00:56.791571Z",
     "start_time": "2022-02-28T23:00:56.746118Z"
    }
   },
   "outputs": [],
   "source": [
    "# outfile = results_dir + 'summary_table_{}_{}.txt'.format(version, cat)\n",
    "# os.system('date > '+outfile)\n",
    "# with open(outfile, 'a') as f:\n",
    "#     f.write(table.get_string())\n",
    "    \n",
    "# with open(outfile[:-4]+'.html', 'w') as f:\n",
    "#     f.write(table.get_html_string())"
   ]
  }
 ],
 "metadata": {
  "kernelspec": {
   "display_name": "Python 2",
   "language": "python",
   "name": "python2"
  },
  "language_info": {
   "codemirror_mode": {
    "name": "ipython",
    "version": 2
   },
   "file_extension": ".py",
   "mimetype": "text/x-python",
   "name": "python",
   "nbconvert_exporter": "python",
   "pygments_lexer": "ipython2",
   "version": "2.7.14+"
  },
  "varInspector": {
   "cols": {
    "lenName": 16,
    "lenType": 16,
    "lenVar": 40
   },
   "kernels_config": {
    "python": {
     "delete_cmd_postfix": "",
     "delete_cmd_prefix": "del ",
     "library": "var_list.py",
     "varRefreshCmd": "print(var_dic_list())"
    },
    "r": {
     "delete_cmd_postfix": ") ",
     "delete_cmd_prefix": "rm(",
     "library": "var_list.r",
     "varRefreshCmd": "cat(var_dic_list()) "
    }
   },
   "types_to_exclude": [
    "module",
    "function",
    "builtin_function_or_method",
    "instance",
    "_Feature"
   ],
   "window_display": false
  }
 },
 "nbformat": 4,
 "nbformat_minor": 2
}
