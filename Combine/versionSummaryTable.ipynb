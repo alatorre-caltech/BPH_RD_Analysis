{
 "cells": [
  {
   "cell_type": "code",
   "execution_count": 1,
   "metadata": {
    "ExecuteTime": {
     "end_time": "2022-01-20T05:23:23.018517Z",
     "start_time": "2022-01-20T05:23:22.575056Z"
    }
   },
   "outputs": [],
   "source": [
    "import sys, os, pickle, time, json, yaml, re\n",
    "from glob import glob\n",
    "from prettytable import PrettyTable"
   ]
  },
  {
   "cell_type": "code",
   "execution_count": 2,
   "metadata": {
    "ExecuteTime": {
     "end_time": "2022-01-20T05:23:23.081543Z",
     "start_time": "2022-01-20T05:23:23.073402Z"
    }
   },
   "outputs": [],
   "source": [
    "results_dir = os.environ['HOME'] + '/public_html/BPH_RDst/Combine/'\n",
    "version = '13'\n",
    "cat = 'comb'"
   ]
  },
  {
   "cell_type": "code",
   "execution_count": 36,
   "metadata": {
    "ExecuteTime": {
     "end_time": "2022-01-20T05:40:50.870560Z",
     "start_time": "2022-01-20T05:40:50.851260Z"
    }
   },
   "outputs": [
    {
     "name": "stdout",
     "output_type": "stream",
     "text": [
      "/storage/af/user/ocerri/public_html/BPH_RDst/Combine/13_base_comb_CLN_blinded\n",
      "/storage/af/user/ocerri/public_html/BPH_RDst/Combine/v13_noLostHits_mVisPM_3p8_CLNshape0p2_comb_CLN_blinded\n",
      "/storage/af/user/ocerri/public_html/BPH_RDst/Combine/v13_noLostHits_mVisPM_3p8_CLNshapeU_comb_CLN_blinded\n",
      "/storage/af/user/ocerri/public_html/BPH_RDst/Combine/v13_noLostHits_mVisPM_3p8_comb_CLN_blinded\n"
     ]
    }
   ],
   "source": [
    "dirs = glob(results_dir + '*'+version+'*'+cat+'*')\n",
    "auxDirs = []\n",
    "for d in sorted(dirs):\n",
    "    if (not os.path.basename(d).startswith('v'+version+'_')) and (not os.path.basename(d).startswith(version+'_')):\n",
    "        continue\n",
    "    if not 'base' in d and not 'noLostHits_mVisPM_3p8' in d:\n",
    "        continue\n",
    "    auxDirs.append(d)\n",
    "    print d\n",
    "dirs = auxDirs"
   ]
  },
  {
   "cell_type": "code",
   "execution_count": 37,
   "metadata": {
    "ExecuteTime": {
     "end_time": "2022-01-20T05:40:51.035796Z",
     "start_time": "2022-01-20T05:40:51.027334Z"
    }
   },
   "outputs": [],
   "source": [
    "dirs.pop(1)\n",
    "dirs = [dirs[0], dirs[2], dirs[1]]"
   ]
  },
  {
   "cell_type": "code",
   "execution_count": 40,
   "metadata": {
    "ExecuteTime": {
     "end_time": "2022-01-20T05:41:00.478280Z",
     "start_time": "2022-01-20T05:41:00.404837Z"
    },
    "code_folding": []
   },
   "outputs": [
    {
     "name": "stdout",
     "output_type": "stream",
     "text": [
      "13_base_comb_CLN_blinded\n",
      "v13_noLostHits_mVisPM_3p8_comb_CLN_blinded\n",
      "v13_noLostHits_mVisPM_3p8_CLNshapeU_comb_CLN_blinded\n"
     ]
    }
   ],
   "source": [
    "table = PrettyTable()\n",
    "table.field_names = ['Version', 'Sat pval', 'Scan [%]', 'Cat comp', 'Top pulls','[sigma]']\n",
    "table.align['Top pulls'] = 'l'\n",
    "table.align['[sigma]'] = 'r'\n",
    "\n",
    "for dd in dirs:\n",
    "    print os.path.basename(dd)\n",
    "    \n",
    "    tag = os.path.basename(dd)\n",
    "    tag = tag[tag.find(version+'_')+len(version+'_'):]\n",
    "    tag = tag[:tag.find(cat)]\n",
    "    tag = tag.replace('noLostHits_', '')\n",
    "    if tag.endswith('_'):\n",
    "        tag = tag[:-1]\n",
    "#     print tag\n",
    "\n",
    "\n",
    "    GoF_file = dd + '/GoF_results.txt'\n",
    "    pval_sat = '-'\n",
    "    if os.path.isfile(GoF_file):\n",
    "        with open(GoF_file) as f:\n",
    "            for line in reversed(f.readlines()):\n",
    "                if 'algoSat' in line:\n",
    "                    break\n",
    "            data = [x for x in line.split(' ') if x]\n",
    "            data[2] = data[2][1:-2]\n",
    "            if float(data[2]) > 0:\n",
    "                pval_sat = data[2] + '%'\n",
    "            else:\n",
    "                pval_sat = 'x{:.2f}'.format(float(data[1])/float(data[-2]))\n",
    "#     print pval_sat\n",
    "\n",
    "\n",
    "    scan_file = dd + '/scan_results.txt'\n",
    "    scan_result = '-'\n",
    "    if os.path.isfile(scan_file):\n",
    "        with open(scan_file) as f:\n",
    "            line = f.readlines()[-1]\n",
    "            data = [x for x in line.split(' ') if x]\n",
    "            err = float(data[2][1:]) + float(data[4][1:])\n",
    "            scan_result = '{:.1f} +/- {:.1f}'.format(100*float(data[1]), 100*err*0.5)\n",
    "#     print scan_result\n",
    "\n",
    "    catComp_file = dd + '/categoriesCompatibility.txt'\n",
    "    catComp = '-'\n",
    "    if os.path.isfile(catComp_file):\n",
    "        with open(catComp_file) as f:\n",
    "            line = f.readlines()[-1]\n",
    "            catComp = line.split(' ')[-1][1:-5] + '%'\n",
    "#     print catComp\n",
    "\n",
    "    pulls_file = dd + '/scanNuisanceOut_Base.txt'\n",
    "    nPulls = 5\n",
    "    pulls = ['-']*nPulls\n",
    "    if os.path.isfile(pulls_file):\n",
    "        with open(pulls_file) as f:\n",
    "            for i, line in enumerate(f.readlines()[3:nPulls+3]):\n",
    "                pulls[i] = [x for x in line[:-1].replace('|', '').split(' ') if x]\n",
    "#     for p in pulls:\n",
    "#         print p\n",
    "\n",
    "    if dd != dirs[0]:\n",
    "        table.add_row(len(table.field_names)*[''])\n",
    "    table.add_row([tag, pval_sat, scan_result, catComp, pulls[0][0], pulls[0][1]])\n",
    "    for i in range(1, len(pulls)):\n",
    "        table.add_row(['', '', '', '', pulls[i][0], pulls[i][1]])"
   ]
  },
  {
   "cell_type": "code",
   "execution_count": 41,
   "metadata": {
    "ExecuteTime": {
     "end_time": "2022-01-20T05:41:01.454114Z",
     "start_time": "2022-01-20T05:41:01.438741Z"
    }
   },
   "outputs": [
    {
     "name": "stdout",
     "output_type": "stream",
     "text": [
      "+----------------------+----------+--------------+----------+---------------------------------+---------+\n",
      "|       Version        | Sat pval |   Scan [%]   | Cat comp | Top pulls                       | [sigma] |\n",
      "+----------------------+----------+--------------+----------+---------------------------------+---------+\n",
      "|         base         |  x1.12   | 37.9 +/- 9.1 |   71%    | B2DstCLNeig2                    |    3.17 |\n",
      "|                      |          |              |          | brBu_DstDustK                   |    2.93 |\n",
      "|                      |          |              |          | brBd_DstDustK                   |    2.25 |\n",
      "|                      |          |              |          | prop_binhigh_ctrl_pm_mVis_bin15 |   -2.11 |\n",
      "|                      |          |              |          | brDst2S_DstPiPi                 |    2.07 |\n",
      "|                      |          |              |          |                                 |         |\n",
      "|      mVisPM_3p8      |   8.2%   | 43.1 +/- 9.4 |   77%    | B2DstCLNeig2                    |    3.12 |\n",
      "|                      |          |              |          | brB_D2420MuNu                   |    1.92 |\n",
      "|                      |          |              |          | brDst2S_DstPiPi                 |    1.64 |\n",
      "|                      |          |              |          | prop_binmid_ctrl_pp_mHad_bin18  |   -1.45 |\n",
      "|                      |          |              |          | brB_DstPiMuNu                   |   -1.43 |\n",
      "|                      |          |              |          |                                 |         |\n",
      "| mVisPM_3p8_CLNshapeU |   6.0%   | 31.8 +/- 8.3 |    -     | brB_D2420MuNu                   |    1.88 |\n",
      "|                      |          |              |          | brDst2S_DstPiPi                 |    1.60 |\n",
      "|                      |          |              |          | brB_DstPiMuNu                   |   -1.48 |\n",
      "|                      |          |              |          | prop_binmid_ctrl_pp_mHad_bin18  |   -1.45 |\n",
      "|                      |          |              |          | prop_binlow_ctrl_mm_mHad_bin3   |   -1.37 |\n",
      "+----------------------+----------+--------------+----------+---------------------------------+---------+\n"
     ]
    }
   ],
   "source": [
    "print table"
   ]
  },
  {
   "cell_type": "code",
   "execution_count": null,
   "metadata": {
    "ExecuteTime": {
     "end_time": "2022-01-18T10:01:58.834184Z",
     "start_time": "2022-01-18T10:01:58.744547Z"
    }
   },
   "outputs": [],
   "source": [
    "# outfile = results_dir + 'summary_table_{}_{}.txt'.format(version, cat)\n",
    "# os.system('date > '+outfile)\n",
    "# with open(outfile, 'a') as f:\n",
    "#     f.write(table.get_string())\n",
    "    \n",
    "# with open(outfile[:-4]+'.html', 'w') as f:\n",
    "#     f.write(table.get_html_string())"
   ]
  }
 ],
 "metadata": {
  "kernelspec": {
   "display_name": "Python 2",
   "language": "python",
   "name": "python2"
  },
  "language_info": {
   "codemirror_mode": {
    "name": "ipython",
    "version": 2
   },
   "file_extension": ".py",
   "mimetype": "text/x-python",
   "name": "python",
   "nbconvert_exporter": "python",
   "pygments_lexer": "ipython2",
   "version": "2.7.14+"
  },
  "varInspector": {
   "cols": {
    "lenName": 16,
    "lenType": 16,
    "lenVar": 40
   },
   "kernels_config": {
    "python": {
     "delete_cmd_postfix": "",
     "delete_cmd_prefix": "del ",
     "library": "var_list.py",
     "varRefreshCmd": "print(var_dic_list())"
    },
    "r": {
     "delete_cmd_postfix": ") ",
     "delete_cmd_prefix": "rm(",
     "library": "var_list.r",
     "varRefreshCmd": "cat(var_dic_list()) "
    }
   },
   "types_to_exclude": [
    "module",
    "function",
    "builtin_function_or_method",
    "instance",
    "_Feature"
   ],
   "window_display": false
  }
 },
 "nbformat": 4,
 "nbformat_minor": 2
}
