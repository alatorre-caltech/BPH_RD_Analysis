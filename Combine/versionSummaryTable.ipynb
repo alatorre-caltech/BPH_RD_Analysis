{
 "cells": [
  {
   "cell_type": "code",
   "execution_count": 1,
   "metadata": {
    "ExecuteTime": {
     "end_time": "2022-01-18T10:01:58.467238Z",
     "start_time": "2022-01-18T10:01:58.061983Z"
    }
   },
   "outputs": [],
   "source": [
    "import sys, os, pickle, time, json, yaml, re\n",
    "from glob import glob\n",
    "from prettytable import PrettyTable"
   ]
  },
  {
   "cell_type": "code",
   "execution_count": 2,
   "metadata": {
    "ExecuteTime": {
     "end_time": "2022-01-18T10:01:58.481500Z",
     "start_time": "2022-01-18T10:01:58.473157Z"
    }
   },
   "outputs": [],
   "source": [
    "results_dir = os.environ['HOME'] + '/public_html/BPH_RDst/Combine/'\n",
    "version = '13'\n",
    "cat = 'comb'"
   ]
  },
  {
   "cell_type": "code",
   "execution_count": 3,
   "metadata": {
    "ExecuteTime": {
     "end_time": "2022-01-18T10:01:58.588223Z",
     "start_time": "2022-01-18T10:01:58.488186Z"
    }
   },
   "outputs": [
    {
     "name": "stdout",
     "output_type": "stream",
     "text": [
      "summary_table_13_comb.txt\n"
     ]
    }
   ],
   "source": [
    "dirs = glob(results_dir + '*'+version+'*'+cat+'*')\n",
    "for d in dirs:\n",
    "    if (not os.path.basename(d).startswith('v'+version+'_')) and (not os.path.basename(d).startswith(version+'_')):\n",
    "        print os.path.basename(d)\n",
    "        dirs.remove(d)"
   ]
  },
  {
   "cell_type": "code",
   "execution_count": 4,
   "metadata": {
    "ExecuteTime": {
     "end_time": "2022-01-18T10:01:58.705150Z",
     "start_time": "2022-01-18T10:01:58.595280Z"
    }
   },
   "outputs": [
    {
     "name": "stdout",
     "output_type": "stream",
     "text": [
      "13_base_comb_CLN_blinded\n",
      "v13_M2miss_0p0__mVisPM_3p8_comb_CLN_blinded\n",
      "v13_M2miss_0p8__mVisPM_3p8_comb_CLN_blinded\n",
      "v13_corr_tkPVfrac_comb_CLN_blinded\n",
      "v13_mHadPM_2p6_comb_CLN_blinded\n",
      "v13_mVisPM_3p6_comb_CLN_blinded\n",
      "v13_mVisPM_3p8_mHadPM_2p6_comb_CLN_blinded\n",
      "v13_noLostHits_comb_CLN_blinded\n",
      "v13_noLostHits_mVisPM_3p8_comb_CLN_blinded\n",
      "v13_tkPval20_comb_CLN_blinded\n"
     ]
    }
   ],
   "source": [
    "table = PrettyTable()\n",
    "table.field_names = ['Version', 'Sat pval', 'Scan [%]', 'Cat comp', 'Top pulls','[sigma]']\n",
    "table.align['Top pulls'] = 'l'\n",
    "table.align['[sigma]'] = 'r'\n",
    "\n",
    "for dd in sorted(dirs):\n",
    "    print os.path.basename(dd)\n",
    "    \n",
    "    tag = os.path.basename(dd)\n",
    "    tag = tag[tag.find(version+'_')+len(version+'_'):]\n",
    "    tag = tag[:tag.find(cat)]\n",
    "    if tag.endswith('_'):\n",
    "        tag = tag[:-1]\n",
    "#     print tag\n",
    "\n",
    "\n",
    "    GoF_file = dd + '/GoF_results.txt'\n",
    "    pval_sat = '-'\n",
    "    if os.path.isfile(GoF_file):\n",
    "        with open(GoF_file) as f:\n",
    "            for line in reversed(f.readlines()):\n",
    "                if 'algoSat' in line:\n",
    "                    break\n",
    "            data = [x for x in line.split(' ') if x]\n",
    "            data[2] = data[2][1:-2]\n",
    "            if float(data[2]) > 0:\n",
    "                pval_sat = data[2] + '%'\n",
    "            else:\n",
    "                pval_sat = 'x{:.2f}'.format(float(data[1])/float(data[-2]))\n",
    "#     print pval_sat\n",
    "\n",
    "\n",
    "    scan_file = dd + '/scan_results.txt'\n",
    "    scan_result = '-'\n",
    "    if os.path.isfile(scan_file):\n",
    "        with open(scan_file) as f:\n",
    "            line = f.readlines()[-1]\n",
    "            data = [x for x in line.split(' ') if x]\n",
    "            err = float(data[2][1:]) + float(data[4][1:])\n",
    "            scan_result = '{:.1f} +/- {:.1f}'.format(100*float(data[1]), 100*err*0.5)\n",
    "#     print scan_result\n",
    "\n",
    "    catComp_file = dd + '/categoriesCompatibility.txt'\n",
    "    catComp = '-'\n",
    "    if os.path.isfile(catComp_file):\n",
    "        with open(catComp_file) as f:\n",
    "            line = f.readlines()[-1]\n",
    "            catComp = line.split(' ')[-1][1:-5] + '%'\n",
    "#     print catComp\n",
    "\n",
    "    pulls_file = dd + '/scanNuisanceOut_Base.txt'\n",
    "    nPulls = 5\n",
    "    pulls = ['-']*nPulls\n",
    "    if os.path.isfile(pulls_file):\n",
    "        with open(pulls_file) as f:\n",
    "            for i, line in enumerate(f.readlines()[3:nPulls+3]):\n",
    "                pulls[i] = [x for x in line[:-1].replace('|', '').split(' ') if x]\n",
    "#     for p in pulls:\n",
    "#         print p\n",
    "\n",
    "    if dd != dirs[0]:\n",
    "        table.add_row(len(table.field_names)*[''])\n",
    "    table.add_row([tag, pval_sat, scan_result, catComp, pulls[0][0], pulls[0][1]])\n",
    "    for i in range(1, len(pulls)):\n",
    "        table.add_row(['', '', '', '', pulls[i][0], pulls[i][1]])"
   ]
  },
  {
   "cell_type": "code",
   "execution_count": 5,
   "metadata": {
    "ExecuteTime": {
     "end_time": "2022-01-18T10:01:58.739844Z",
     "start_time": "2022-01-18T10:01:58.712037Z"
    }
   },
   "outputs": [
    {
     "name": "stdout",
     "output_type": "stream",
     "text": [
      "+------------------------+----------+--------------+----------+---------------------------------+---------+\n",
      "|        Version         | Sat pval |   Scan [%]   | Cat comp | Top pulls                       | [sigma] |\n",
      "+------------------------+----------+--------------+----------+---------------------------------+---------+\n",
      "|          base          |  x1.12   | 37.9 +/- 9.1 |   71%    | B2DstCLNeig2                    |    3.17 |\n",
      "|                        |          |              |          | brBu_DstDustK                   |    2.93 |\n",
      "|                        |          |              |          | brBd_DstDustK                   |    2.25 |\n",
      "|                        |          |              |          | prop_binhigh_ctrl_pm_mVis_bin15 |   -2.11 |\n",
      "|                        |          |              |          | brDst2S_DstPiPi                 |    2.07 |\n",
      "|                        |          |              |          |                                 |         |\n",
      "| M2miss_0p0__mVisPM_3p8 |  x1.17   | 48.0 +/- 9.0 |   38%    | brB_DstPiMuNu                   |   -3.67 |\n",
      "|                        |          |              |          | trkEff                          |   -2.81 |\n",
      "|                        |          |              |          | brB_D2420MuNu                   |    2.45 |\n",
      "|                        |          |              |          | B2DstCLNeig2                    |    2.22 |\n",
      "|                        |          |              |          | brDst2S_DstPiPi                 |    1.92 |\n",
      "|                        |          |              |          |                                 |         |\n",
      "| M2miss_0p8__mVisPM_3p8 |   9.8%   | 37.1 +/- 9.5 |   75%    | prop_binlow_ctrl_mm_mHad_bin3   |   -2.08 |\n",
      "|                        |          |              |          | brB_D2420MuNu                   |    2.02 |\n",
      "|                        |          |              |          | B2DstCLNeig2                    |    1.86 |\n",
      "|                        |          |              |          | brDst2S_DstPiPi                 |    1.78 |\n",
      "|                        |          |              |          | prop_binhigh_ctrl_mm_mHad_bin13 |   -1.36 |\n",
      "|                        |          |              |          |                                 |         |\n",
      "|     corr_tkPVfrac      |  x1.13   | 38.3 +/- 9.0 |   76%    | B2DstCLNeig2                    |    3.18 |\n",
      "|                        |          |              |          | brBu_DstDustK                   |    2.91 |\n",
      "|                        |          |              |          | brBd_DstDustK                   |    2.38 |\n",
      "|                        |          |              |          | DuMuBr                          |    2.12 |\n",
      "|                        |          |              |          | prop_binhigh_ctrl_pm_mVis_bin15 |   -2.12 |\n",
      "|                        |          |              |          |                                 |         |\n",
      "|       mHadPM_2p6       |  x1.10   | 38.8 +/- 9.0 |   69%    | B2DstCLNeig2                    |    3.24 |\n",
      "|                        |          |              |          | brBu_DstDustK                   |    2.66 |\n",
      "|                        |          |              |          | brDst2S_DstPiPi                 |    2.29 |\n",
      "|                        |          |              |          | brBd_DstDustK                   |    2.15 |\n",
      "|                        |          |              |          | prop_binhigh_ctrl_pm_mVis_bin16 |   -2.00 |\n",
      "|                        |          |              |          |                                 |         |\n",
      "|       mVisPM_3p6       |   4.0%   | 42.5 +/- 9.0 |   62%    | B2DstCLNeig2                    |    3.33 |\n",
      "|                        |          |              |          | brB_D2420MuNu                   |    2.00 |\n",
      "|                        |          |              |          | prop_binhigh_ctrl_pp_mHad_bin3  |   -1.43 |\n",
      "|                        |          |              |          | prop_binhigh_ctrl_mm_mHad_bin13 |   -1.41 |\n",
      "|                        |          |              |          | brB_DstPiMuNu                   |   -1.36 |\n",
      "|                        |          |              |          |                                 |         |\n",
      "| mVisPM_3p8_mHadPM_2p6  |  11.0%   | 41.7 +/- 9.0 |   60%    | B2DstCLNeig2                    |    3.38 |\n",
      "|                        |          |              |          | brB_D2420MuNu                   |    2.00 |\n",
      "|                        |          |              |          | brDst2S_DstPiPi                 |    1.78 |\n",
      "|                        |          |              |          | brB_DstPiMuNu                   |   -1.44 |\n",
      "|                        |          |              |          | prop_binhigh_ctrl_mm_mHad_bin13 |   -1.35 |\n",
      "|                        |          |              |          |                                 |         |\n",
      "|       noLostHits       |  x1.12   | 38.9 +/- 9.4 |   92%    | B2DstCLNeig2                    |    2.94 |\n",
      "|                        |          |              |          | brBu_DstDustK                   |    2.80 |\n",
      "|                        |          |              |          | brDst2S_DstPiPi                 |    2.16 |\n",
      "|                        |          |              |          | prop_binhigh_ctrl_pm_mVis_bin15 |   -1.90 |\n",
      "|                        |          |              |          | brBd_DstDustK                   |    1.85 |\n",
      "|                        |          |              |          |                                 |         |\n",
      "| noLostHits_mVisPM_3p8  |   8.2%   | 43.1 +/- 9.4 |   77%    | B2DstCLNeig2                    |    3.12 |\n",
      "|                        |          |              |          | brB_D2420MuNu                   |    1.92 |\n",
      "|                        |          |              |          | brDst2S_DstPiPi                 |    1.64 |\n",
      "|                        |          |              |          | prop_binmid_ctrl_pp_mHad_bin18  |   -1.45 |\n",
      "|                        |          |              |          | brB_DstPiMuNu                   |   -1.43 |\n",
      "|                        |          |              |          |                                 |         |\n",
      "|        tkPval20        |  x1.14   | 40.3 +/- 9.2 |   78%    | B2DstCLNeig2                    |    3.20 |\n",
      "|                        |          |              |          | brBu_DstDustK                   |    3.08 |\n",
      "|                        |          |              |          | prop_binhigh_ctrl_pm_mVis_bin15 |   -2.02 |\n",
      "|                        |          |              |          | brDst2S_DstPiPi                 |    1.99 |\n",
      "|                        |          |              |          | brBd_DstDustK                   |    1.93 |\n",
      "+------------------------+----------+--------------+----------+---------------------------------+---------+\n"
     ]
    }
   ],
   "source": [
    "print table"
   ]
  },
  {
   "cell_type": "code",
   "execution_count": 6,
   "metadata": {
    "ExecuteTime": {
     "end_time": "2022-01-18T10:01:58.834184Z",
     "start_time": "2022-01-18T10:01:58.744547Z"
    }
   },
   "outputs": [],
   "source": [
    "outfile = results_dir + 'summary_table_{}_{}.txt'.format(version, cat)\n",
    "os.system('date > '+outfile)\n",
    "with open(outfile, 'a') as f:\n",
    "    f.write(table.get_string())\n",
    "    \n",
    "# with open(outfile[:-4]+'.html', 'w') as f:\n",
    "#     f.write(table.get_html_string())"
   ]
  }
 ],
 "metadata": {
  "kernelspec": {
   "display_name": "Python 2",
   "language": "python",
   "name": "python2"
  },
  "language_info": {
   "codemirror_mode": {
    "name": "ipython",
    "version": 2
   },
   "file_extension": ".py",
   "mimetype": "text/x-python",
   "name": "python",
   "nbconvert_exporter": "python",
   "pygments_lexer": "ipython2",
   "version": "2.7.14+"
  },
  "varInspector": {
   "cols": {
    "lenName": 16,
    "lenType": 16,
    "lenVar": 40
   },
   "kernels_config": {
    "python": {
     "delete_cmd_postfix": "",
     "delete_cmd_prefix": "del ",
     "library": "var_list.py",
     "varRefreshCmd": "print(var_dic_list())"
    },
    "r": {
     "delete_cmd_postfix": ") ",
     "delete_cmd_prefix": "rm(",
     "library": "var_list.r",
     "varRefreshCmd": "cat(var_dic_list()) "
    }
   },
   "types_to_exclude": [
    "module",
    "function",
    "builtin_function_or_method",
    "instance",
    "_Feature"
   ],
   "window_display": false
  }
 },
 "nbformat": 4,
 "nbformat_minor": 2
}
