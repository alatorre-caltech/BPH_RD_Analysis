{
 "cells": [
  {
   "cell_type": "code",
   "execution_count": 1,
   "metadata": {
    "ExecuteTime": {
     "end_time": "2021-03-24T07:04:47.187014Z",
     "start_time": "2021-03-24T07:04:47.170762Z"
    }
   },
   "outputs": [],
   "source": [
    "class Pars:\n",
    "    pass\n",
    "\n",
    "pars = Pars()\n",
    "pars.cardTag = 'v8'\n",
    "pars.schemeFF = 'CLN'\n",
    "pars.useMVA = False\n",
    "pars.dataType = 0\n",
    "pars.lumiMult = 1.\n",
    "pars.unblinded = True\n",
    "pars.noMCstats = False\n",
    "pars.decorrelateFFpars = False\n",
    "\n",
    "scanTag = pars.cardTag+'Base'\n",
    "\n",
    "plot_obs = True\n",
    "plot_exp = False\n",
    "printChi2Compatibility = True\n",
    "separateFits = False"
   ]
  },
  {
   "cell_type": "markdown",
   "metadata": {
    "heading_collapsed": true
   },
   "source": [
    "# Import"
   ]
  },
  {
   "cell_type": "code",
   "execution_count": 2,
   "metadata": {
    "ExecuteTime": {
     "end_time": "2021-03-24T07:04:52.460472Z",
     "start_time": "2021-03-24T07:04:47.192677Z"
    },
    "hidden": true
   },
   "outputs": [
    {
     "name": "stdout",
     "output_type": "stream",
     "text": [
      "Welcome to JupyROOT 6.12/07\n"
     ]
    }
   ],
   "source": [
    "import sys, os\n",
    "from glob import glob\n",
    "sys.path.append('../lib')\n",
    "sys.path.append('../analysis')\n",
    "import commands\n",
    "import numpy as np\n",
    "from scipy.stats import chi2 as scipy_chi2\n",
    "\n",
    "import ROOT as rt\n",
    "import root_numpy as rtnp\n",
    "from combine_utilities import getUncertaintyFromLimitTree"
   ]
  },
  {
   "cell_type": "code",
   "execution_count": 3,
   "metadata": {
    "ExecuteTime": {
     "end_time": "2021-03-24T07:04:52.480096Z",
     "start_time": "2021-03-24T07:04:52.464869Z"
    },
    "code_folding": [
     0
    ],
    "hidden": true
   },
   "outputs": [],
   "source": [
    "def createCardName(a):\n",
    "    c = a.cardTag + a.category + '_' + a.schemeFF\n",
    "    if a.decorrelateFFpars:\n",
    "        c += 'decorr'\n",
    "    if a.useMVA:\n",
    "        c += '_MVA'+useMVA\n",
    "    if a.asimov:\n",
    "        c += '_Asimov'\n",
    "        if pars.lumiMult != 1.:\n",
    "            c += '{:.0f}'.format(pars.lumiMult)\n",
    "    elif a.dataType:\n",
    "        c += '_onlyB0'\n",
    "        if a.dataType == 2:\n",
    "            c += 'bar'\n",
    "    if not a.unblinded:\n",
    "        c += '_blinded'\n",
    "    if a.noMCstats:\n",
    "        c += '_NoMCstats'\n",
    "    return c"
   ]
  },
  {
   "cell_type": "code",
   "execution_count": 4,
   "metadata": {
    "ExecuteTime": {
     "end_time": "2021-03-24T07:04:52.707875Z",
     "start_time": "2021-03-24T07:04:52.484389Z"
    },
    "hidden": true
   },
   "outputs": [],
   "source": [
    "import CMS_lumi, tdrstyle\n",
    "tdrstyle.setTDRStyle()\n",
    "CMS_lumi.writeExtraText = 1\n",
    "\n",
    "if plot_obs:\n",
    "    CMS_lumi.extraText = \"    Preliminary\"\n",
    "else:\n",
    "    CMS_lumi.extraText = \"    Simulation Preliminary\"\n",
    "\n",
    "expectedLumi = {'low':6.4, 'mid':20.7, 'high':26.4} #fb^-1\n",
    "CMS_lumi.integrated_lumi = expectedLumi['high']"
   ]
  },
  {
   "cell_type": "markdown",
   "metadata": {
    "heading_collapsed": true
   },
   "source": [
    "# Load results"
   ]
  },
  {
   "cell_type": "code",
   "execution_count": 5,
   "metadata": {
    "ExecuteTime": {
     "end_time": "2021-03-24T07:04:52.896874Z",
     "start_time": "2021-03-24T07:04:52.712535Z"
    },
    "hidden": true,
    "hide_input": false
   },
   "outputs": [
    {
     "name": "stdout",
     "output_type": "stream",
     "text": [
      "v8comb_CLN\n",
      "{'high': [0.33103973, 0.31116503, 0.35123417], 'comb': array([0.28659004, 0.27252904, 0.30047935], dtype=float32), 'low': [0.264566, 0.24614988, 0.28355664], 'mid': [0.27320898, 0.2557935, 0.2908631]}\n",
      "\n",
      "\n"
     ]
    }
   ],
   "source": [
    "if not separateFits:\n",
    "    pars.category = 'comb'\n",
    "    resObs = dict.fromkeys(['low', 'mid', 'high', 'comb'], None)\n",
    "    resExp = dict.fromkeys(['low', 'mid', 'high', 'comb'], None)\n",
    "\n",
    "    # test = {'low':0.023, 'mid':0.005, 'high': -0.039}\n",
    "    test = {'low':0., 'mid':0., 'high': 0.}\n",
    "\n",
    "    for obs in [False, True]:\n",
    "\n",
    "        if (not plot_obs and obs) or (not plot_exp and not obs):\n",
    "                continue\n",
    "\n",
    "        d = resObs if obs else resExp\n",
    "\n",
    "        pars.asimov = not obs\n",
    "        card_name = createCardName(pars)\n",
    "        print card_name\n",
    "\n",
    "        resLoc = 'results/' + card_name\n",
    "\n",
    "        try:\n",
    "            arr = rtnp.root2array(resLoc + '/higgsCombine_catCompNominal.MultiDimFit.mH120.root', treename='limit')\n",
    "            d['comb'] = arr['r']\n",
    "\n",
    "            arr = rtnp.root2array(resLoc + '/higgsCombine_catComp_rCatIndep.MultiDimFit.mH120.root', treename='limit')\n",
    "            for c in ['low', 'mid', 'high']:\n",
    "                x = arr['r'+c.capitalize()]\n",
    "                if obs:\n",
    "                    x += test[c]\n",
    "                d[c] = [x[0], np.min(x), np.max(x)]\n",
    "        except:\n",
    "            print 'Not found'\n",
    "            for c in ['low', 'mid', 'high', 'comb']:\n",
    "                d[c] = None\n",
    "\n",
    "        print d\n",
    "        print '\\n'"
   ]
  },
  {
   "cell_type": "code",
   "execution_count": 6,
   "metadata": {
    "ExecuteTime": {
     "end_time": "2021-03-24T07:04:52.931438Z",
     "start_time": "2021-03-24T07:04:52.901670Z"
    },
    "hidden": true,
    "hide_input": true
   },
   "outputs": [],
   "source": [
    "if separateFits:\n",
    "    pars.category = '{c}'\n",
    "    resObs = {}\n",
    "    resExp = {}\n",
    "\n",
    "    for obs in [False, True]:\n",
    "        d = resObs if obs else resExp\n",
    "\n",
    "        pars.asimov = not obs\n",
    "        card_name = createCardName(pars)\n",
    "        print card_name\n",
    "\n",
    "        for cat in ['low', 'mid', 'high', 'comb']:\n",
    "            d[cat] = None\n",
    "\n",
    "            if (not plot_obs and obs) or (not plot_exp and not obs):\n",
    "                continue\n",
    "\n",
    "            scanLoc = 'results/' + card_name.format(c=cat)\n",
    "            scanLoc += '/higgsCombine'+scanTag+'.MultiDimFit.mH120.root'\n",
    "            if not os.path.isfile(scanLoc):\n",
    "                print scanLoc, 'not found'\n",
    "                continue\n",
    "            print cat\n",
    "            try:\n",
    "                aux = getUncertaintyFromLimitTree(scanLoc)\n",
    "                d[cat] = [aux[0], float(aux[-3]), float(aux[-2])]\n",
    "            except:\n",
    "                print 'ERROR in analysing results'\n",
    "                print 'getUncertaintyFromLimitTree({})'.format(scanLoc)"
   ]
  },
  {
   "cell_type": "markdown",
   "metadata": {
    "ExecuteTime": {
     "end_time": "2020-09-28T20:20:19.938763Z",
     "start_time": "2020-09-28T20:20:19.932884Z"
    }
   },
   "source": [
    "# Create plot"
   ]
  },
  {
   "cell_type": "code",
   "execution_count": 7,
   "metadata": {
    "ExecuteTime": {
     "end_time": "2021-03-24T07:04:53.006761Z",
     "start_time": "2021-03-24T07:04:52.934727Z"
    },
    "hide_input": true
   },
   "outputs": [],
   "source": [
    "cOut = rt.TCanvas('cOut', 'cOut', 50, 50, 1200, 600)\n",
    "grAux = rt.TGraph()\n",
    "grAux.SetPoint(0, 0, 0)\n",
    "grAux.SetPoint(1, 1, 1)\n",
    "grAux.Draw('AP')"
   ]
  },
  {
   "cell_type": "code",
   "execution_count": 8,
   "metadata": {
    "ExecuteTime": {
     "end_time": "2021-03-24T07:04:53.104389Z",
     "start_time": "2021-03-24T07:04:53.010281Z"
    },
    "hide_input": true
   },
   "outputs": [],
   "source": [
    "xMin = 0.2 if pars.unblinded else 0.15\n",
    "xMax = 0.75 if pars.unblinded else 0.8\n",
    "\n",
    "box = rt.TPave()\n",
    "box.SetLineWidth(0)\n",
    "box.SetFillStyle(1001)\n",
    "box.SetBorderSize(0)\n",
    "boxColors = [rt.kGreen+1, rt.kOrange]\n",
    "boxHeight = 0.15\n",
    "\n",
    "text = rt.TLatex()\n",
    "text.SetTextAlign(12)\n",
    "text.SetTextSize(0.04)\n",
    "text.SetTextFont(42)\n",
    "textColors = [1,rt.kRed-4]\n",
    "textPosX = 0.42 if pars.unblinded else 0.5\n",
    "\n",
    "legX1 = 0.7 if pars.unblinded else 0.75\n",
    "leg = rt.TLegend(legX1, 0.3, 0.97, 0.8)\n",
    "leg.SetBorderSize(0)"
   ]
  },
  {
   "cell_type": "code",
   "execution_count": 9,
   "metadata": {
    "ExecuteTime": {
     "end_time": "2021-03-24T07:04:53.158730Z",
     "start_time": "2021-03-24T07:04:53.109008Z"
    },
    "code_folding": [],
    "hide_input": true
   },
   "outputs": [],
   "source": [
    "ypos = -1\n",
    "ylabels = {}\n",
    "\n",
    "pointObs = rt.TGraph()\n",
    "pointExp = rt.TGraph()\n",
    "\n",
    "lastDrawnIsComb = False\n",
    "\n",
    "for cat in ['comb', 'low', 'mid', 'high']:\n",
    "    aux = int(resExp[cat] is None) + int(resObs[cat] is None)\n",
    "    displ = 0.07 + 0.5*boxHeight if aux == 0 else 0\n",
    "\n",
    "    if aux < 2:\n",
    "        ypos += 1\n",
    "        if lastDrawnIsComb:\n",
    "            ypos += 1\n",
    "        if cat == 'comb': \n",
    "            ylabels[ypos] = 'Combined'\n",
    "            lastDrawnIsComb = True\n",
    "        else:\n",
    "            ylabels[ypos] = cat.capitalize()\n",
    "            lastDrawnIsComb = False\n",
    "            \n",
    "        for i, res in enumerate([resObs[cat], resExp[cat]]):\n",
    "            if res is None:\n",
    "                continue\n",
    "\n",
    "            if i == 0:\n",
    "                yAux = ypos + displ\n",
    "                pointObs.SetPoint(pointObs.GetN(), res[0], yAux)\n",
    "                box.SetFillStyle(1001)\n",
    "            else:\n",
    "                yAux = ypos - displ\n",
    "                pointExp.SetPoint(pointExp.GetN(), res[0], yAux)\n",
    "                box.SetFillStyle(3001)\n",
    "            \n",
    "            box.SetFillColor(boxColors[-1])\n",
    "            min2sigma = res[0] - 2*(res[0]-res[1])\n",
    "            max2sigma = res[0] + 2*(res[2]-res[0])\n",
    "            b2 = box.DrawBox(min2sigma, yAux - 0.5*boxHeight, max2sigma, yAux + 0.5*boxHeight)\n",
    "            box.SetFillColor(boxColors[-2])\n",
    "            b1 = box.DrawBox(float(res[1]), yAux - 0.5*boxHeight, float(res[2]), yAux + 0.5*boxHeight)\n",
    "\n",
    "            text.SetTextColor(textColors[i])\n",
    "            l = text.DrawLatex(textPosX, yAux, '{:.3f} #pm {:.3f}'.format(res[0], 0.5*(res[2]-res[1])))"
   ]
  },
  {
   "cell_type": "code",
   "execution_count": 10,
   "metadata": {
    "ExecuteTime": {
     "end_time": "2021-03-24T07:04:53.239036Z",
     "start_time": "2021-03-24T07:04:53.163399Z"
    },
    "hide_input": true
   },
   "outputs": [],
   "source": [
    "l = rt.TLine()\n",
    "l.SetLineStyle(9)\n",
    "l.SetLineWidth(2)\n",
    "box.SetFillStyle(1001)\n",
    "\n",
    "RDst_Th = 0.258\n",
    "uncRDst_Th = 0.005\n",
    "box.SetFillColorAlpha(rt.kViolet-7, 0.5)\n",
    "box.DrawBox(RDst_Th - uncRDst_Th, -1, RDst_Th + uncRDst_Th, ypos+1)\n",
    "l.SetLineColor(rt.kViolet-7)\n",
    "l.DrawLine(RDst_Th, -1, RDst_Th, ypos+1)\n",
    "aux = '#splitline{SM prediction #pm 1#sigma}{'+'{:.3f} #pm {:.3f}'.format(RDst_Th,uncRDst_Th)+'}'\n",
    "leg.AddEntry(l, aux, 'l')\n",
    "\n",
    "RDst_avg = 0.295\n",
    "uncRDst_avg = 0.014\n",
    "box.SetFillColorAlpha(rt.kAzure+1, 0.5)\n",
    "box.DrawBox(RDst_avg - uncRDst_avg, -1, RDst_avg + uncRDst_avg, ypos+1)\n",
    "l2 = l.Clone('l2')\n",
    "l2.SetLineColor(rt.kAzure+1)\n",
    "l2.DrawLine(RDst_avg, -1, RDst_avg, ypos+1)\n",
    "aux = '#splitline{Experimental Avg. #pm 1#sigma}{'+'{:.3f} #pm {:.3f}'.format(RDst_avg,uncRDst_avg)+'}'\n",
    "leg.AddEntry(l2, aux, 'l');"
   ]
  },
  {
   "cell_type": "code",
   "execution_count": 11,
   "metadata": {
    "ExecuteTime": {
     "end_time": "2021-03-24T07:04:53.273475Z",
     "start_time": "2021-03-24T07:04:53.243593Z"
    },
    "hide_input": true
   },
   "outputs": [],
   "source": [
    "pointObs.SetMarkerStyle(20)\n",
    "pointObs.SetMarkerColor(textColors[0])\n",
    "if pointObs.GetN(): \n",
    "    pointObs.Draw('P') \n",
    "    leg.AddEntry(pointObs, 'Observed', 'p')\n",
    "\n",
    "pointExp.SetMarkerStyle(33)\n",
    "pointExp.SetMarkerSize(1.5)\n",
    "pointExp.SetMarkerColor(textColors[1])\n",
    "if pointExp.GetN(): \n",
    "    pointExp.Draw('P') \n",
    "    leg.AddEntry(pointExp, 'Expected', 'p')"
   ]
  },
  {
   "cell_type": "code",
   "execution_count": 12,
   "metadata": {
    "ExecuteTime": {
     "end_time": "2021-03-24T07:04:53.339912Z",
     "start_time": "2021-03-24T07:04:53.277767Z"
    },
    "hide_input": true
   },
   "outputs": [],
   "source": [
    "grAux.GetXaxis().SetLimits(xMin, xMax)\n",
    "grAux.GetXaxis().SetTitle('R(D*)')\n",
    "grAux.GetHistogram().SetMinimum(-1)\n",
    "grAux.GetHistogram().SetMaximum(ypos+1)\n",
    "\n",
    "ax = grAux.GetYaxis()\n",
    "ax.SetNdivisions(-(ypos+2))\n",
    "ax.ChangeLabel()\n",
    "for i in range(1, ypos+4):\n",
    "    if i-2 in ylabels.keys():\n",
    "        ax.ChangeLabel(i, -1, -1, -1, -1, -1, ylabels[i-2])\n",
    "    else:\n",
    "        ax.ChangeLabel(i, -1, -1, -1, -1, -1, ' ')\n",
    "ax.SetTickLength(0.0)"
   ]
  },
  {
   "cell_type": "code",
   "execution_count": 13,
   "metadata": {
    "ExecuteTime": {
     "end_time": "2021-03-24T07:04:53.379924Z",
     "start_time": "2021-03-24T07:04:53.344596Z"
    },
    "hide_input": true
   },
   "outputs": [],
   "source": [
    "box.SetFillColor(boxColors[0])\n",
    "leg.AddEntry(box, '#pm 1#sigma band', 'f')\n",
    "box2 = box.Clone('box2')\n",
    "box2.SetFillColor(boxColors[1])\n",
    "leg.AddEntry(box2, '#pm 2#sigma band', 'f')\n",
    "\n",
    "leg.Draw()"
   ]
  },
  {
   "cell_type": "code",
   "execution_count": 14,
   "metadata": {
    "ExecuteTime": {
     "end_time": "2021-03-24T07:04:53.421743Z",
     "start_time": "2021-03-24T07:04:53.384242Z"
    },
    "hide_input": true
   },
   "outputs": [
    {
     "name": "stdout",
     "output_type": "stream",
     "text": [
      "Average observed r: 0.2871\n",
      "Chi2 = 6.89 (7.5%)\n"
     ]
    }
   ],
   "source": [
    "if printChi2Compatibility:\n",
    "    rFit = []\n",
    "    for c in ['low', 'mid', 'high']:\n",
    "        x = resObs[c]\n",
    "        rFit.append( [x[0], 0.5*(np.max(x) - np.min(x))] )\n",
    "    rFit = np.array(rFit)\n",
    "    rMean = np.sum(rFit[:,0]/np.square(rFit[:,1])) / np.sum(1./np.square(rFit[:,1]))\n",
    "    print 'Average observed r: {:.4f}'.format(rMean)\n",
    "\n",
    "    # chi2 = np.sum(np.square((rFit[:,0] - rMean)/rFit[:,1]))\n",
    "    # dof = rFit.shape[0] - 1\n",
    "    # pval = scipy_chi2.sf(chi2, dof)\n",
    "    # print 'Chi2 = {:.2f} ({:.1f}%)'.format(chi2, 100*pval)\n",
    "\n",
    "    chi2 = np.sum(np.square((rFit[:,0] - resObs['comb'][0])/rFit[:,1]))\n",
    "    dof = rFit.shape[0]\n",
    "    pval = scipy_chi2.sf(chi2, dof)\n",
    "    print 'Chi2 = {:.2f} ({:.1f}%)'.format(chi2, 100*pval)\n",
    "\n",
    "    text.SetTextAlign(12)\n",
    "    text.SetTextSize(0.04)\n",
    "    text.SetTextColor(rt.kGray+1)\n",
    "    text.DrawLatex(textPosX, -0.5, '#chi^{{2}} = {:.1f} (p-val {:.1f}%)'.format(chi2, 100*pval))"
   ]
  },
  {
   "cell_type": "code",
   "execution_count": 15,
   "metadata": {
    "ExecuteTime": {
     "end_time": "2021-03-24T07:04:53.491909Z",
     "start_time": "2021-03-24T07:04:53.426029Z"
    },
    "hide_input": true
   },
   "outputs": [],
   "source": [
    "text.SetTextAlign(32)\n",
    "text.SetTextColor(1)\n",
    "text.SetTextSize(0.06)\n",
    "if not pars.unblinded:\n",
    "    text.DrawLatex(0.975*xMax, ypos+0.6, 'Blinded fit results')\n",
    "else:\n",
    "    text.DrawLatex(0.975*xMax, ypos+0.6, 'Fit results')"
   ]
  },
  {
   "cell_type": "code",
   "execution_count": 16,
   "metadata": {
    "ExecuteTime": {
     "end_time": "2021-03-24T07:04:53.878894Z",
     "start_time": "2021-03-24T07:04:53.495497Z"
    },
    "hide_input": true
   },
   "outputs": [
    {
     "name": "stdout",
     "output_type": "stream",
     "text": [
      "../../public_html/BPH_RDst/Combine/v8comb_CLN/fitResultsSummary_10.png\n"
     ]
    },
    {
     "data": {
      "image/png": "[encoded data removed]",
      "text/plain": [
       "<IPython.core.display.Image object>"
      ]
     },
     "metadata": {},
     "output_type": "display_data"
    }
   ],
   "source": [
    "CMS_lumi.CMS_lumi(cOut, -1, 0, cmsTextSize=0.9, lumiTextSize=0.75)\n",
    "cOut.Draw()\n",
    "for v in [True, False]:\n",
    "    pars.asimov = v\n",
    "    cardName = createCardName(pars)\n",
    "    if separateFits:\n",
    "        cardName = cardName.format(c='comb')\n",
    "    if os.path.isdir('results/'+cardName):\n",
    "        name = '/fitResultsSummary_{}{}.png'.format(int(plot_obs), int(plot_exp))\n",
    "        if separateFits:\n",
    "            name = name.replace('fitResultsSummary', 'fitResultsSummary_sepFits')\n",
    "        cOut.SaveAs('results/'+cardName+name)\n",
    "        cOut.SaveAs('../../public_html/BPH_RDst/Combine/'+cardName+name)\n",
    "        print '../../public_html/BPH_RDst/Combine/'+cardName+name"
   ]
  },
  {
   "cell_type": "code",
   "execution_count": 17,
   "metadata": {
    "ExecuteTime": {
     "end_time": "2021-03-24T07:04:53.901003Z",
     "start_time": "2021-03-24T07:04:53.883607Z"
    },
    "hide_input": true
   },
   "outputs": [
    {
     "name": "stdout",
     "output_type": "stream",
     "text": [
      "Current tension -2.5 sigma\n",
      "Expected tension -3.3 sigma\n"
     ]
    }
   ],
   "source": [
    "print 'Current tension {:.1f} sigma'.format((RDst_Th - RDst_avg)/np.hypot(uncRDst_Th, uncRDst_avg))\n",
    "\n",
    "r = RDst_avg\n",
    "dr = uncRDst_avg/np.sqrt(2)\n",
    "print 'Expected tension {:.1f} sigma'.format((RDst_Th - r)/np.hypot(uncRDst_Th, dr))"
   ]
  }
 ],
 "metadata": {
  "kernelspec": {
   "display_name": "Python 2",
   "language": "python",
   "name": "python2"
  },
  "language_info": {
   "codemirror_mode": {
    "name": "ipython",
    "version": 2
   },
   "file_extension": ".py",
   "mimetype": "text/x-python",
   "name": "python",
   "nbconvert_exporter": "python",
   "pygments_lexer": "ipython2",
   "version": "2.7.14+"
  },
  "varInspector": {
   "cols": {
    "lenName": 16,
    "lenType": 16,
    "lenVar": 40
   },
   "kernels_config": {
    "python": {
     "delete_cmd_postfix": "",
     "delete_cmd_prefix": "del ",
     "library": "var_list.py",
     "varRefreshCmd": "print(var_dic_list())"
    },
    "r": {
     "delete_cmd_postfix": ") ",
     "delete_cmd_prefix": "rm(",
     "library": "var_list.r",
     "varRefreshCmd": "cat(var_dic_list()) "
    }
   },
   "types_to_exclude": [
    "module",
    "function",
    "builtin_function_or_method",
    "instance",
    "_Feature"
   ],
   "window_display": false
  }
 },
 "nbformat": 4,
 "nbformat_minor": 2
}
