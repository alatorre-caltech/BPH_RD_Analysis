{
 "cells": [
  {
   "cell_type": "code",
   "execution_count": 1,
   "metadata": {
    "ExecuteTime": {
     "end_time": "2021-03-11T02:38:33.206784Z",
     "start_time": "2021-03-11T02:38:33.193568Z"
    }
   },
   "outputs": [],
   "source": [
    "class Pars:\n",
    "    pass\n",
    "\n",
    "pars = Pars()\n",
    "pars.cardTag = 'v16'\n",
    "pars.category = 'comb'\n",
    "pars.schemeFF = 'CLN'\n",
    "pars.useMVA = False\n",
    "pars.dataType = 0\n",
    "pars.unblinded = True\n",
    "pars.noMCstats = False\n",
    "\n",
    "scanTag = pars.cardTag+'Base'\n",
    "\n",
    "plot_obs = True\n",
    "plot_exp = True"
   ]
  },
  {
   "cell_type": "markdown",
   "metadata": {},
   "source": [
    "# Import"
   ]
  },
  {
   "cell_type": "code",
   "execution_count": 2,
   "metadata": {
    "ExecuteTime": {
     "end_time": "2021-03-11T02:38:40.023145Z",
     "start_time": "2021-03-11T02:38:33.211523Z"
    }
   },
   "outputs": [
    {
     "name": "stdout",
     "output_type": "stream",
     "text": [
      "Welcome to JupyROOT 6.12/07\n"
     ]
    }
   ],
   "source": [
    "import sys, os\n",
    "from glob import glob\n",
    "sys.path.append('../lib')\n",
    "sys.path.append('../analysis')\n",
    "import commands\n",
    "import numpy as np\n",
    "from scipy.stats import chi2 as scipy_chi2\n",
    "\n",
    "import ROOT as rt\n",
    "import root_numpy as rtnp\n",
    "from combine_utilities import getUncertaintyFromLimitTree"
   ]
  },
  {
   "cell_type": "code",
   "execution_count": 3,
   "metadata": {
    "ExecuteTime": {
     "end_time": "2021-03-11T02:38:40.049200Z",
     "start_time": "2021-03-11T02:38:40.030064Z"
    },
    "code_folding": [
     0
    ]
   },
   "outputs": [],
   "source": [
    "def createCardName(a):\n",
    "    c = a.cardTag + a.category + '_' + a.schemeFF\n",
    "    if a.useMVA:\n",
    "        c += '_MVA'+useMVA\n",
    "    if a.asimov:\n",
    "        c += '_Asimov'\n",
    "    elif a.dataType:\n",
    "        c += '_onlyB0'\n",
    "        if a.dataType == 2:\n",
    "            c += 'bar'\n",
    "    if not a.unblinded:\n",
    "        c += '_blinded'\n",
    "    if a.noMCstats:\n",
    "        c += '_NoMCstats'\n",
    "    return c"
   ]
  },
  {
   "cell_type": "code",
   "execution_count": 4,
   "metadata": {
    "ExecuteTime": {
     "end_time": "2021-03-11T02:38:40.359760Z",
     "start_time": "2021-03-11T02:38:40.053483Z"
    }
   },
   "outputs": [],
   "source": [
    "import CMS_lumi, tdrstyle\n",
    "tdrstyle.setTDRStyle()\n",
    "CMS_lumi.writeExtraText = 1\n",
    "\n",
    "if plot_obs:\n",
    "    CMS_lumi.extraText = \"    Preliminary\"\n",
    "else:\n",
    "    CMS_lumi.extraText = \"    Simulation Preliminary\"\n",
    "\n",
    "expectedLumi = {'low':6.4, 'mid':20.7, 'high':26.4} #fb^-1\n",
    "CMS_lumi.integrated_lumi = expectedLumi['high']"
   ]
  },
  {
   "cell_type": "markdown",
   "metadata": {},
   "source": [
    "# Load results"
   ]
  },
  {
   "cell_type": "code",
   "execution_count": 5,
   "metadata": {
    "ExecuteTime": {
     "end_time": "2021-03-11T02:38:40.626235Z",
     "start_time": "2021-03-11T02:38:40.363671Z"
    }
   },
   "outputs": [
    {
     "name": "stdout",
     "output_type": "stream",
     "text": [
      "v16comb_CLN_Asimov\n",
      "Not found\n",
      "{'high': None, 'comb': None, 'low': None, 'mid': None}\n",
      "\n",
      "\n",
      "v16comb_CLN\n",
      "{'high': [0.33308288, 0.3143879, 0.35174078], 'comb': array([0.29187334, 0.27922198, 0.30432895], dtype=float32), 'low': [0.28206193, 0.26579604, 0.29885235], 'mid': [0.2737183, 0.2576549, 0.28953046]}\n",
      "\n",
      "\n"
     ]
    },
    {
     "name": "stderr",
     "output_type": "stream",
     "text": [
      "Error in <TFile::TFile>: file results/v16comb_CLN_Asimov/higgsCombine_catCompNominal.MultiDimFit.mH120.root does not exist\n"
     ]
    }
   ],
   "source": [
    "resObs = {}\n",
    "resExp = {}\n",
    "\n",
    "for obs in [False, True]:\n",
    "    \n",
    "    if (not plot_obs and obs) or (not plot_exp and not obs):\n",
    "            continue\n",
    "            \n",
    "    d = resObs if obs else resExp\n",
    "\n",
    "    pars.asimov = not obs\n",
    "    card_name = createCardName(pars)\n",
    "    print card_name\n",
    "    \n",
    "    resLoc = 'results/' + card_name\n",
    "    \n",
    "    try:\n",
    "        arr = rtnp.root2array(resLoc + '/higgsCombine_catCompNominal.MultiDimFit.mH120.root', treename='limit')\n",
    "        d['comb'] = arr['r']\n",
    "\n",
    "        arr = rtnp.root2array(resLoc + '/higgsCombine_catComp_rCatIndep.MultiDimFit.mH120.root', treename='limit')\n",
    "        for c in ['low', 'mid', 'high']:\n",
    "            x = arr['r'+c.capitalize()]\n",
    "            d[c] = [x[0], np.min(x), np.max(x)]\n",
    "    except:\n",
    "        print 'Not found'\n",
    "        for c in ['low', 'mid', 'high', 'comb']:\n",
    "            d[c] = None\n",
    "    \n",
    "    print d\n",
    "    print '\\n'"
   ]
  },
  {
   "cell_type": "markdown",
   "metadata": {
    "ExecuteTime": {
     "end_time": "2020-09-28T20:20:19.938763Z",
     "start_time": "2020-09-28T20:20:19.932884Z"
    }
   },
   "source": [
    "# Create plot"
   ]
  },
  {
   "cell_type": "code",
   "execution_count": 6,
   "metadata": {
    "ExecuteTime": {
     "end_time": "2021-03-11T02:38:40.688843Z",
     "start_time": "2021-03-11T02:38:40.630704Z"
    },
    "hide_input": false
   },
   "outputs": [],
   "source": [
    "cOut = rt.TCanvas('cOut', 'cOut', 50, 50, 1200, 600)\n",
    "grAux = rt.TGraph()\n",
    "grAux.SetPoint(0, 0, 0)\n",
    "grAux.SetPoint(1, 1, 1)\n",
    "grAux.Draw('AP')"
   ]
  },
  {
   "cell_type": "code",
   "execution_count": 7,
   "metadata": {
    "ExecuteTime": {
     "end_time": "2021-03-11T02:38:40.765443Z",
     "start_time": "2021-03-11T02:38:40.693510Z"
    },
    "hide_input": false
   },
   "outputs": [],
   "source": [
    "xMin = 0.2 if pars.unblinded else 0.15\n",
    "xMax = 0.75 if pars.unblinded else 0.8\n",
    "\n",
    "box = rt.TPave()\n",
    "box.SetLineWidth(0)\n",
    "box.SetFillStyle(1001)\n",
    "box.SetBorderSize(0)\n",
    "boxColors = [rt.kGreen+1, rt.kOrange]\n",
    "boxHeight = 0.15\n",
    "\n",
    "text = rt.TLatex()\n",
    "text.SetTextAlign(12)\n",
    "text.SetTextSize(0.04)\n",
    "text.SetTextFont(42)\n",
    "textColors = [1,rt.kRed-4]\n",
    "textPosX = 0.42 if pars.unblinded else 0.5\n",
    "\n",
    "legX1 = 0.7 if pars.unblinded else 0.75\n",
    "leg = rt.TLegend(legX1, 0.3, 0.97, 0.8)\n",
    "leg.SetBorderSize(0)"
   ]
  },
  {
   "cell_type": "code",
   "execution_count": 10,
   "metadata": {
    "ExecuteTime": {
     "end_time": "2021-03-11T02:39:18.416240Z",
     "start_time": "2021-03-11T02:39:18.371974Z"
    },
    "code_folding": [],
    "hide_input": false
   },
   "outputs": [],
   "source": [
    "ypos = -1\n",
    "ylabels = {}\n",
    "\n",
    "pointObs = rt.TGraph()\n",
    "pointExp = rt.TGraph()\n",
    "\n",
    "lastDrawnIsComb = False\n",
    "\n",
    "for cat in ['comb', 'low', 'mid', 'high']:\n",
    "    aux = int(resExp[cat] is None) + int(resObs[cat] is None)\n",
    "    displ = 0.07 + 0.5*boxHeight if aux == 0 else 0\n",
    "\n",
    "    if aux < 2:\n",
    "        ypos += 1\n",
    "        if lastDrawnIsComb:\n",
    "            ypos += 1\n",
    "        if cat == 'comb': \n",
    "            ylabels[ypos] = 'Combined'\n",
    "            lastDrawnIsComb = True\n",
    "        else:\n",
    "            ylabels[ypos] = cat.capitalize()\n",
    "            lastDrawnIsComb = False\n",
    "            \n",
    "        for i, res in enumerate([resObs[cat], resExp[cat]]):\n",
    "            if res is None:\n",
    "                continue\n",
    "\n",
    "            if i == 0:\n",
    "                yAux = ypos + displ\n",
    "                pointObs.SetPoint(pointObs.GetN(), res[0], yAux)\n",
    "                box.SetFillStyle(1001)\n",
    "            else:\n",
    "                yAux = ypos - displ\n",
    "                pointExp.SetPoint(pointExp.GetN(), res[0], yAux)\n",
    "                box.SetFillStyle(3001)\n",
    "            \n",
    "            box.SetFillColor(boxColors[-1])\n",
    "            min2sigma = res[0] - 2*(res[0]-res[1])\n",
    "            max2sigma = res[0] + 2*(res[2]-res[0])\n",
    "            b2 = box.DrawBox(min2sigma, yAux - 0.5*boxHeight, max2sigma, yAux + 0.5*boxHeight)\n",
    "            box.SetFillColor(boxColors[-2])\n",
    "            b1 = box.DrawBox(float(res[1]), yAux - 0.5*boxHeight, float(res[2]), yAux + 0.5*boxHeight)\n",
    "\n",
    "            text.SetTextColor(textColors[i])\n",
    "            l = text.DrawLatex(textPosX, yAux, '{:.3f} #pm {:.3f}'.format(res[0], 0.5*(res[2]-res[1])))"
   ]
  },
  {
   "cell_type": "code",
   "execution_count": 11,
   "metadata": {
    "ExecuteTime": {
     "end_time": "2021-03-11T02:39:19.169764Z",
     "start_time": "2021-03-11T02:39:19.104937Z"
    },
    "hide_input": true
   },
   "outputs": [],
   "source": [
    "l = rt.TLine()\n",
    "l.SetLineStyle(9)\n",
    "l.SetLineWidth(2)\n",
    "box.SetFillStyle(1001)\n",
    "\n",
    "RDst_Th = 0.258\n",
    "uncRDst_Th = 0.005\n",
    "box.SetFillColorAlpha(rt.kViolet-7, 0.5)\n",
    "box.DrawBox(RDst_Th - uncRDst_Th, -1, RDst_Th + uncRDst_Th, ypos+1)\n",
    "l.SetLineColor(rt.kViolet-7)\n",
    "l.DrawLine(RDst_Th, -1, RDst_Th, ypos+1)\n",
    "aux = '#splitline{SM prediction #pm 1#sigma}{'+'{:.3f} #pm {:.3f}'.format(RDst_Th,uncRDst_Th)+'}'\n",
    "leg.AddEntry(l, aux, 'l')\n",
    "\n",
    "RDst_avg = 0.295\n",
    "uncRDst_avg = 0.014\n",
    "box.SetFillColorAlpha(rt.kAzure+1, 0.5)\n",
    "box.DrawBox(RDst_avg - uncRDst_avg, -1, RDst_avg + uncRDst_avg, ypos+1)\n",
    "l2 = l.Clone('l2')\n",
    "l2.SetLineColor(rt.kAzure+1)\n",
    "l2.DrawLine(RDst_avg, -1, RDst_avg, ypos+1)\n",
    "aux = '#splitline{Experimental Avg. #pm 1#sigma}{'+'{:.3f} #pm {:.3f}'.format(RDst_avg,uncRDst_avg)+'}'\n",
    "leg.AddEntry(l2, aux, 'l');"
   ]
  },
  {
   "cell_type": "code",
   "execution_count": 12,
   "metadata": {
    "ExecuteTime": {
     "end_time": "2021-03-11T02:39:19.512379Z",
     "start_time": "2021-03-11T02:39:19.495099Z"
    },
    "hide_input": true
   },
   "outputs": [],
   "source": [
    "pointObs.SetMarkerStyle(20)\n",
    "pointObs.SetMarkerColor(textColors[0])\n",
    "if pointObs.GetN(): \n",
    "    pointObs.Draw('P') \n",
    "    leg.AddEntry(pointObs, 'Observed', 'p')\n",
    "\n",
    "pointExp.SetMarkerStyle(33)\n",
    "pointExp.SetMarkerSize(1.5)\n",
    "pointExp.SetMarkerColor(textColors[1])\n",
    "if pointExp.GetN(): \n",
    "    pointExp.Draw('P') \n",
    "    leg.AddEntry(pointExp, 'Expected', 'p')"
   ]
  },
  {
   "cell_type": "code",
   "execution_count": 13,
   "metadata": {
    "ExecuteTime": {
     "end_time": "2021-03-11T02:39:19.888122Z",
     "start_time": "2021-03-11T02:39:19.829416Z"
    },
    "hide_input": true
   },
   "outputs": [],
   "source": [
    "grAux.GetXaxis().SetLimits(xMin, xMax)\n",
    "grAux.GetXaxis().SetTitle('R(D*)')\n",
    "grAux.GetHistogram().SetMinimum(-1)\n",
    "grAux.GetHistogram().SetMaximum(ypos+1)\n",
    "\n",
    "ax = grAux.GetYaxis()\n",
    "ax.SetNdivisions(-(ypos+2))\n",
    "ax.ChangeLabel()\n",
    "for i in range(1, ypos+4):\n",
    "    if i-2 in ylabels.keys():\n",
    "        ax.ChangeLabel(i, -1, -1, -1, -1, -1, ylabels[i-2])\n",
    "    else:\n",
    "        ax.ChangeLabel(i, -1, -1, -1, -1, -1, ' ')\n",
    "ax.SetTickLength(0.0)"
   ]
  },
  {
   "cell_type": "code",
   "execution_count": 14,
   "metadata": {
    "ExecuteTime": {
     "end_time": "2021-03-11T02:39:20.263431Z",
     "start_time": "2021-03-11T02:39:20.244773Z"
    },
    "hide_input": true
   },
   "outputs": [],
   "source": [
    "box.SetFillColor(boxColors[0])\n",
    "leg.AddEntry(box, '#pm 1#sigma band', 'f')\n",
    "box2 = box.Clone('box2')\n",
    "box2.SetFillColor(boxColors[1])\n",
    "leg.AddEntry(box2, '#pm 2#sigma band', 'f')\n",
    "\n",
    "leg.Draw()"
   ]
  },
  {
   "cell_type": "code",
   "execution_count": 15,
   "metadata": {
    "ExecuteTime": {
     "end_time": "2021-03-11T02:39:20.738778Z",
     "start_time": "2021-03-11T02:39:20.723443Z"
    },
    "hide_input": true
   },
   "outputs": [],
   "source": [
    "text.SetTextAlign(32)\n",
    "text.SetTextColor(1)\n",
    "text.SetTextSize(0.06)\n",
    "if not pars.unblinded:\n",
    "    text.DrawLatex(0.975*xMax, ypos+0.6, 'Blinded fit results')\n",
    "else:\n",
    "    text.DrawLatex(0.975*xMax, ypos+0.6, 'Fit results')"
   ]
  },
  {
   "cell_type": "code",
   "execution_count": 19,
   "metadata": {
    "ExecuteTime": {
     "end_time": "2021-03-11T02:42:38.277135Z",
     "start_time": "2021-03-11T02:42:37.947036Z"
    },
    "hide_input": false
   },
   "outputs": [
    {
     "name": "stdout",
     "output_type": "stream",
     "text": [
      "../../public_html/BPH_RDst/Combine/v16comb_CLN_Asimov/fitResultsSummary_11.png\n",
      "../../public_html/BPH_RDst/Combine/v16comb_CLN/fitResultsSummary_11.png\n"
     ]
    },
    {
     "data": {
      "image/png": "[encoded data removed]",
      "text/plain": [
       "<IPython.core.display.Image object>"
      ]
     },
     "metadata": {},
     "output_type": "display_data"
    }
   ],
   "source": [
    "CMS_lumi.CMS_lumi(cOut, -1, 0, cmsTextSize=0.9, lumiTextSize=0.75)\n",
    "cOut.Draw()\n",
    "for v in [True, False]:\n",
    "    pars.asimov = v\n",
    "    cardName = createCardName(pars)\n",
    "    if os.path.isdir('results/'+cardName):\n",
    "        name = '/fitResultsSummary_{}{}.png'.format(int(plot_obs), int(plot_exp))\n",
    "        cOut.SaveAs('results/'+cardName+name)\n",
    "        cOut.SaveAs('../../public_html/BPH_RDst/Combine/'+cardName+name)"
   ]
  },
  {
   "cell_type": "code",
   "execution_count": 17,
   "metadata": {
    "ExecuteTime": {
     "end_time": "2021-03-11T02:39:57.201706Z",
     "start_time": "2021-03-11T02:39:57.184788Z"
    }
   },
   "outputs": [
    {
     "name": "stdout",
     "output_type": "stream",
     "text": [
      "Current tension -2.5 sigma\n",
      "Expected tension -3.3 sigma\n"
     ]
    }
   ],
   "source": [
    "print 'Current tension {:.1f} sigma'.format((RDst_Th - RDst_avg)/np.hypot(uncRDst_Th, uncRDst_avg))\n",
    "\n",
    "r = RDst_avg\n",
    "dr = uncRDst_avg/np.sqrt(2)\n",
    "print 'Expected tension {:.1f} sigma'.format((RDst_Th - r)/np.hypot(uncRDst_Th, dr))"
   ]
  },
  {
   "cell_type": "code",
   "execution_count": 18,
   "metadata": {
    "ExecuteTime": {
     "end_time": "2021-03-11T02:39:57.746315Z",
     "start_time": "2021-03-11T02:39:57.731464Z"
    }
   },
   "outputs": [
    {
     "data": {
      "text/plain": [
       "14.212670403551895"
      ]
     },
     "execution_count": 18,
     "metadata": {},
     "output_type": "execute_result"
    }
   ],
   "source": [
    "np.sqrt((32**2 * 13**2) / (32**2 - 13**2))"
   ]
  }
 ],
 "metadata": {
  "kernelspec": {
   "display_name": "Python 2",
   "language": "python",
   "name": "python2"
  },
  "language_info": {
   "codemirror_mode": {
    "name": "ipython",
    "version": 2
   },
   "file_extension": ".py",
   "mimetype": "text/x-python",
   "name": "python",
   "nbconvert_exporter": "python",
   "pygments_lexer": "ipython2",
   "version": "2.7.14+"
  },
  "varInspector": {
   "cols": {
    "lenName": 16,
    "lenType": 16,
    "lenVar": 40
   },
   "kernels_config": {
    "python": {
     "delete_cmd_postfix": "",
     "delete_cmd_prefix": "del ",
     "library": "var_list.py",
     "varRefreshCmd": "print(var_dic_list())"
    },
    "r": {
     "delete_cmd_postfix": ") ",
     "delete_cmd_prefix": "rm(",
     "library": "var_list.r",
     "varRefreshCmd": "cat(var_dic_list()) "
    }
   },
   "types_to_exclude": [
    "module",
    "function",
    "builtin_function_or_method",
    "instance",
    "_Feature"
   ],
   "window_display": false
  }
 },
 "nbformat": 4,
 "nbformat_minor": 2
}
