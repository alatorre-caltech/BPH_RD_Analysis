{
 "cells": [
  {
   "cell_type": "markdown",
   "metadata": {},
   "source": [
    "New:\n",
    " - Possible MVA added"
   ]
  },
  {
   "cell_type": "code",
   "execution_count": 1,
   "metadata": {
    "ExecuteTime": {
     "end_time": "2020-09-01T12:10:13.680367Z",
     "start_time": "2020-09-01T12:10:13.664264Z"
    }
   },
   "outputs": [],
   "source": [
    "fit_real_data = False\n",
    "category = ['low', 'mid', 'high'][2]\n",
    "SM_RDst = 0.33\n",
    "runCombine = False\n",
    "runBias = False\n",
    "runImpacts = True\n",
    "useMVA = 1\n",
    "card_name = 'v10'"
   ]
  },
  {
   "cell_type": "code",
   "execution_count": 2,
   "metadata": {
    "ExecuteTime": {
     "end_time": "2020-09-01T12:10:13.763288Z",
     "start_time": "2020-09-01T12:10:13.685877Z"
    }
   },
   "outputs": [],
   "source": [
    "if not fit_real_data: card_name += 'Asimov'\n",
    "card_name += '_' + category\n",
    "outdir = 'results/' + card_name\n",
    "card_location = 'cards/{}.txt'.format(card_name)"
   ]
  },
  {
   "cell_type": "markdown",
   "metadata": {
    "hide_input": true
   },
   "source": [
    "# Import"
   ]
  },
  {
   "cell_type": "code",
   "execution_count": 3,
   "metadata": {
    "ExecuteTime": {
     "end_time": "2020-09-01T12:10:14.272618Z",
     "start_time": "2020-09-01T12:10:13.770894Z"
    }
   },
   "outputs": [],
   "source": [
    "import sys, os, pickle, time\n",
    "from glob import glob\n",
    "sys.path.append('../lib')\n",
    "sys.path.append('../analysis')\n",
    "from categoriesDef import categories\n",
    "import itertools\n",
    "import commands\n",
    "from prettytable import PrettyTable\n",
    "import json, yaml\n",
    "from IPython.display import IFrame, Image, display"
   ]
  },
  {
   "cell_type": "code",
   "execution_count": 4,
   "metadata": {
    "ExecuteTime": {
     "end_time": "2020-09-01T12:10:25.183474Z",
     "start_time": "2020-09-01T12:10:14.278941Z"
    }
   },
   "outputs": [
    {
     "name": "stdout",
     "output_type": "stream",
     "text": [
      "Welcome to JupyROOT 6.12/07\n"
     ]
    }
   ],
   "source": [
    "import numpy as np\n",
    "import matplotlib.pyplot as plt\n",
    "from array import array\n",
    "\n",
    "import uproot as ur\n",
    "import ROOT as rt\n",
    "rt.gErrorIgnoreLevel = rt.kError\n",
    "rt.RooMsgService.instance().setGlobalKillBelow(rt.RooFit.ERROR)\n",
    "import root_numpy as rtnp\n",
    "\n",
    "from analysis_utilities import drawOnCMSCanvas, getEff, DSetLoader\n",
    "from pT_calibration_reader import pTCalReader\n",
    "from histo_utilities import create_TH1D, create_TH2D, std_color_list\n",
    "from gridVarQ2Plot import plot_gridVarQ2, plot_SingleCategory\n",
    "from progressBar import ProgressBar\n",
    "from lumi_utilities import getLumiByTrigger\n",
    "from combine_utilities import getUncertaintyFromLimitTree, dumpDiffNuisances, stringJubCustomizationCaltechT2\n",
    "\n",
    "import CMS_lumi, tdrstyle\n",
    "tdrstyle.setTDRStyle()\n",
    "CMS_lumi.writeExtraText = 1\n",
    "\n",
    "if fit_real_data:\n",
    "    CMS_lumi.extraText = \"     Preliminary\"\n",
    "else:\n",
    "    CMS_lumi.extraText = \"     Simulation Preliminary\"\n",
    "\n",
    "donotdelete = []"
   ]
  },
  {
   "cell_type": "code",
   "execution_count": 5,
   "metadata": {
    "ExecuteTime": {
     "end_time": "2020-09-01T12:10:25.204857Z",
     "start_time": "2020-09-01T12:10:25.189135Z"
    }
   },
   "outputs": [],
   "source": [
    "cat = categories[category]"
   ]
  },
  {
   "cell_type": "markdown",
   "metadata": {},
   "source": [
    "# Load the datasets"
   ]
  },
  {
   "cell_type": "code",
   "execution_count": 6,
   "metadata": {
    "ExecuteTime": {
     "end_time": "2020-09-01T12:10:38.364274Z",
     "start_time": "2020-09-01T12:10:25.209222Z"
    }
   },
   "outputs": [],
   "source": [
    "#They all have to be produced with the same pileup\n",
    "MCsample = {\n",
    "'tau' : DSetLoader('B0_TauNuDmst_PUc0'),\n",
    "'mu' : DSetLoader('B0_MuNuDmst_PUc0'),\n",
    "'DstmD0' : DSetLoader('B0_DstmD0_PUc0'),\n",
    "'DstmDp' : DSetLoader('B0_DstmDp_PUc0'),\n",
    "'DstmDsp' : DSetLoader('B0_DstmDsp_PUc0'),\n",
    "'BpDstmHc' : DSetLoader('Bp_DstmHc_PUc0'),\n",
    "'BmDstmHc' : DSetLoader('Bm_DstmHc_PUc0'),\n",
    "'antiB0DstmHc' : DSetLoader('antiB0_DstmHc_PUc0'),\n",
    "'DstPip' : DSetLoader('Bp_MuNuDstst_Pip_PUc0'),\n",
    "'DstPi0' : DSetLoader('B0_MuNuDstst_Pi0_PUc0'),\n",
    "'DstPipPi0' : DSetLoader('Bp_MuNuDstst_PipPi0_PUc0'),\n",
    "'DstPipPim' : DSetLoader('B0_MuNuDstst_PipPim_PUc0'),\n",
    "'DstPi0Pi0' : DSetLoader('B0_MuNuDstst_Pi0Pi0_PUc0'),\n",
    "}\n",
    "processOrder = ['tau', 'mu', 'DstPip','DstPi0','DstPipPi0','DstPipPim','DstPi0Pi0','DstmDsp','DstmD0','DstmDp','BpDstmHc','BmDstmHc','antiB0DstmHc']\n",
    "dSet = {}\n",
    "dSetTkSide = {}\n",
    "for n, s in MCsample.iteritems():\n",
    "    if not n in processOrder: raise\n",
    "    dSet[n] = rtnp.root2array(s.skimmed_dir + '/{}_corr.root'.format(cat.name))\n",
    "    dSetTkSide[n] = rtnp.root2array(s.skimmed_dir + '/{}_trkCtrl_corr.root'.format(cat.name))"
   ]
  },
  {
   "cell_type": "code",
   "execution_count": 7,
   "metadata": {
    "ExecuteTime": {
     "end_time": "2020-09-01T12:10:38.399385Z",
     "start_time": "2020-09-01T12:10:38.374548Z"
    }
   },
   "outputs": [],
   "source": [
    "if fit_real_data:\n",
    "    creation_date = '200515'\n",
    "    locRD = '../data/cmsRD/skimmed/B2DstMu_B0_{}_{}'.format(creation_date, cat.name)\n",
    "    dSet['data'] = rtnp.root2array(locRD + '_corr.root')\n",
    "    dSetTkSide['data'] = rtnp.root2array(locRD + '_trkCtrl_corr.root')\n",
    "    dataDir = '../data/cmsRD'\n",
    "    datasets_loc = glob(dataDir + '/ParkingBPH*/*RDntuplizer_B2DstMu_{}_CAND.root'.format(creation_date))\n",
    "    lumi_tot = getLumiByTrigger(datasets_loc, cat.trg, verbose=True)\n",
    "    CMS_lumi.integrated_lumi = lumi_tot\n",
    "else:\n",
    "    expectedLumi = {'low':6.4, 'mid':20.7, 'high':26.4, 'single':6.} #fb^-1\n",
    "    lumi_tot = expectedLumi[category]"
   ]
  },
  {
   "cell_type": "markdown",
   "metadata": {},
   "source": [
    "# Load all the calibrations"
   ]
  },
  {
   "cell_type": "markdown",
   "metadata": {},
   "source": [
    "Pileup"
   ]
  },
  {
   "cell_type": "code",
   "execution_count": 8,
   "metadata": {
    "ExecuteTime": {
     "end_time": "2020-09-01T12:10:38.757509Z",
     "start_time": "2020-09-01T12:10:38.405854Z"
    }
   },
   "outputs": [],
   "source": [
    "from pileup_utilities import pileupReweighter\n",
    "puReweighter = pileupReweighter(MCsample['mu'].skimmed_dir + '/{}_corr.root'.format(cat.name), cat)"
   ]
  },
  {
   "cell_type": "markdown",
   "metadata": {},
   "source": [
    "Branching fraction"
   ]
  },
  {
   "cell_type": "code",
   "execution_count": 9,
   "metadata": {
    "ExecuteTime": {
     "end_time": "2020-09-01T12:10:38.850450Z",
     "start_time": "2020-09-01T12:10:38.763011Z"
    }
   },
   "outputs": [],
   "source": [
    "decayBR = pickle.load(open('../data/forcedDecayChannelsFactors.pickle', 'rb'))"
   ]
  },
  {
   "cell_type": "markdown",
   "metadata": {},
   "source": [
    "Trigger scale factor"
   ]
  },
  {
   "cell_type": "code",
   "execution_count": 10,
   "metadata": {
    "ExecuteTime": {
     "end_time": "2020-09-01T12:10:38.962600Z",
     "start_time": "2020-09-01T12:10:38.858021Z"
    }
   },
   "outputs": [],
   "source": [
    "loc = '../data/calibration/triggerScaleFactors/'\n",
    "fTriggerSF = rt.TFile.Open(loc + 'HLT_' + cat.trg + '_SF_v3.root', 'READ')\n",
    "hTriggerSF = fTriggerSF.Get('hSF_HLT_' + cat.trg)"
   ]
  },
  {
   "cell_type": "code",
   "execution_count": 11,
   "metadata": {
    "ExecuteTime": {
     "end_time": "2020-09-01T12:10:39.039776Z",
     "start_time": "2020-09-01T12:10:38.969009Z"
    },
    "code_folding": []
   },
   "outputs": [],
   "source": [
    "def computeTrgSF(ds, selection=None):\n",
    "    trgSF = np.ones_like(ds['q2'])\n",
    "    trgSFUnc = np.zeros_like(ds['q2'])\n",
    "    ptmax = hTriggerSF.GetXaxis().GetXmax() - 0.01\n",
    "    ipmax = hTriggerSF.GetYaxis().GetXmax() - 0.01\n",
    "    etamax = hTriggerSF.GetZaxis().GetXmax() - 0.01\n",
    "    x = np.column_stack((ds['mu_pt'], ds['mu_eta'], ds['mu_sigdxy']))\n",
    "    if not selection is None:\n",
    "        x = x[selection]\n",
    "    for i, (pt, eta, ip) in enumerate(x):\n",
    "        ix = hTriggerSF.GetXaxis().FindBin(min(ptmax, pt))\n",
    "        iy = hTriggerSF.GetYaxis().FindBin(min(ipmax, ip))\n",
    "        iz = hTriggerSF.GetZaxis().FindBin(min(etamax, np.abs(eta)))\n",
    "        trgSF[i] = hTriggerSF.GetBinContent(ix, iy, iz)\n",
    "        ib = hTriggerSF.GetBin(ix, iy, iz)\n",
    "        trgSFUnc[i] = hTriggerSF.GetBinError(ib)\n",
    "        if trgSF[i] == 0:\n",
    "            print pt, ip, np.abs(eta)\n",
    "            raise\n",
    "    # Divide them for the weight so later you can simply multiply back to get the value\n",
    "    up = 1 + trgSFUnc/trgSF\n",
    "    down = 1 - trgSFUnc/trgSF\n",
    "    return trgSF, up, down"
   ]
  },
  {
   "cell_type": "markdown",
   "metadata": {},
   "source": [
    "Muon ID scale factors"
   ]
  },
  {
   "cell_type": "code",
   "execution_count": 12,
   "metadata": {
    "ExecuteTime": {
     "end_time": "2020-09-01T12:10:39.191864Z",
     "start_time": "2020-09-01T12:10:39.044621Z"
    }
   },
   "outputs": [],
   "source": [
    "fMuonIDSF = rt.TFile.Open('../data/calibration/muonIDscaleFactors/Run2018ABCD_SF_MuonID_Jpsi.root', 'READ')\n",
    "hMuonIDSF = fMuonIDSF.Get('NUM_SoftID_DEN_genTracks_pt_abseta')"
   ]
  },
  {
   "cell_type": "code",
   "execution_count": 13,
   "metadata": {
    "ExecuteTime": {
     "end_time": "2020-09-01T12:10:39.240656Z",
     "start_time": "2020-09-01T12:10:39.198553Z"
    },
    "code_folding": []
   },
   "outputs": [],
   "source": [
    "def computeMuonIDSF(ds, selection=None):\n",
    "    muonSF = np.ones_like(ds['q2'])\n",
    "    muonSFUnc = np.zeros_like(ds['q2'])\n",
    "    ptmax = hMuonIDSF.GetXaxis().GetXmax() - 0.01\n",
    "    etamax = hMuonIDSF.GetYaxis().GetXmax() - 0.01\n",
    "    x = np.column_stack((ds['MC_mu_pt'], ds['MC_mu_eta']))\n",
    "    if not selection is None:\n",
    "        x = x[selection]\n",
    "    for i, (pt, eta) in enumerate(x):\n",
    "        ix = hMuonIDSF.GetXaxis().FindBin(min(pt, ptmax))\n",
    "        if ix == 0: ix = 1 #Remove underflows (Meaning that the MC matching failed)\n",
    "        iy = hMuonIDSF.GetYaxis().FindBin(min(np.abs(eta), etamax))\n",
    "        muonSF[i] = hMuonIDSF.GetBinContent(ix, iy)\n",
    "        muonSFUnc[i] = hMuonIDSF.GetBinError(hMuonIDSF.GetBin(ix, iy))\n",
    "        if muonSF[i] == 0:\n",
    "            print pt, eta\n",
    "            print ix, iy\n",
    "            raise\n",
    "    up = 1 + muonSFUnc/muonSF\n",
    "    down = 1 - muonSFUnc/muonSF\n",
    "    return muonSF, up, down"
   ]
  },
  {
   "cell_type": "markdown",
   "metadata": {},
   "source": [
    "B transverse momentum calibration"
   ]
  },
  {
   "cell_type": "code",
   "execution_count": 14,
   "metadata": {
    "ExecuteTime": {
     "end_time": "2020-09-01T12:10:39.273568Z",
     "start_time": "2020-09-01T12:10:39.245757Z"
    }
   },
   "outputs": [],
   "source": [
    "aux = 'Low' if category == 'single' else cat.name\n",
    "cal_pT = pTCalReader(calibration_file='../data/calibration/B0pTspectrum/pwWeights_{}.txt'.format(aux))"
   ]
  },
  {
   "cell_type": "code",
   "execution_count": 15,
   "metadata": {
    "ExecuteTime": {
     "end_time": "2020-09-01T12:10:39.365341Z",
     "start_time": "2020-09-01T12:10:39.278257Z"
    },
    "code_folding": []
   },
   "outputs": [],
   "source": [
    "def computeB0pTweights(ds):\n",
    "    # The denominator (sum of weights) for this weights is not known but it cancel out in the ratio\n",
    "    w = cal_pT.f['C'](ds['MC_B_pt'])\n",
    "    if np.sum(w==0):\n",
    "        print np.sum(w==0)\n",
    "        raise\n",
    "    up = cal_pT.f['Up'](ds['MC_B_pt'])/w\n",
    "    down = cal_pT.f['Down'](ds['MC_B_pt'])/w\n",
    "    return w, up, down"
   ]
  },
  {
   "cell_type": "code",
   "execution_count": 16,
   "metadata": {
    "ExecuteTime": {
     "end_time": "2020-09-01T12:10:39.408071Z",
     "start_time": "2020-09-01T12:10:39.370559Z"
    },
    "code_folding": []
   },
   "outputs": [],
   "source": [
    "def computeBrVarWeights(ds, selItems={}, relScale=0.2, keepNorm=False):\n",
    "    sel = np.ones_like(ds['mu_pt']).astype(np.bool)\n",
    "    for var, val in selItems.iteritems():\n",
    "        sel = np.logical_and(ds[var].astype(np.int) == val, sel)\n",
    "    w = np.ones_like(sel)\n",
    "    up = np.where(sel, 1.+relScale, 1.)\n",
    "    down = np.where(sel, max(0, 1.-relScale), 1.)\n",
    "    if keepNorm:\n",
    "        up = float(up.shape[0])/np.sum(up)\n",
    "        down = float(down.shape[0])/np.sum(down)\n",
    "    return w, up, down"
   ]
  },
  {
   "cell_type": "code",
   "execution_count": 17,
   "metadata": {
    "ExecuteTime": {
     "end_time": "2020-09-01T12:10:39.484921Z",
     "start_time": "2020-09-01T12:10:39.411556Z"
    },
    "code_folding": []
   },
   "outputs": [],
   "source": [
    "def computeTksPVweights(ds, relScale=0.05, centralVal=0.39/0.10):\n",
    "    selPdgID0 = np.logical_and(np.abs(ds['MC_tkMotherPdgId_0']) < 6, ds['MC_tkMotherPdgId_0'] != 0)\n",
    "    selPdgID0 = np.logical_or(selPdgID0, ds['MC_tkMotherPdgId_0']==2212)\n",
    "    selPdgID0 = np.logical_and(selPdgID0, ds['MC_tkFlag_0'] == 1)\n",
    "    selPdgID1 = np.logical_and(np.abs(ds['MC_tkMotherPdgId_1']) < 6, ds['MC_tkMotherPdgId_1'] != 0)\n",
    "    selPdgID1 = np.logical_or(selPdgID1, ds['MC_tkMotherPdgId_1']==2212)\n",
    "    selPdgID1 = np.logical_and( selPdgID1, ds['MC_tkFlag_1'] == 1)\n",
    "    exponent = selPdgID0.astype(np.int) + selPdgID1.astype(np.int)\n",
    "    w = np.power(centralVal, exponent)\n",
    "    up = np.power(centralVal*(1+relScale), exponent)/w\n",
    "    down = np.power(centralVal*(1-relScale), exponent)/w\n",
    "    return w, up, down"
   ]
  },
  {
   "cell_type": "markdown",
   "metadata": {},
   "source": [
    "MVA"
   ]
  },
  {
   "cell_type": "code",
   "execution_count": 18,
   "metadata": {
    "ExecuteTime": {
     "end_time": "2020-09-01T12:10:48.014883Z",
     "start_time": "2020-09-01T12:10:39.490582Z"
    }
   },
   "outputs": [
    {
     "name": "stderr",
     "output_type": "stream",
     "text": [
      "/cvmfs/cms.cern.ch/slc7_amd64_gcc700/external/py2-scikit-learn/0.19.1/lib/python2.7/site-packages/sklearn/base.py:311: UserWarning: Trying to unpickle estimator DecisionTreeRegressor from version 0.20.4 when using version 0.19.1. This might lead to breaking code or invalid results. Use at your own risk.\n",
      "  UserWarning)\n",
      "/cvmfs/cms.cern.ch/slc7_amd64_gcc700/external/py2-scikit-learn/0.19.1/lib/python2.7/site-packages/sklearn/base.py:311: UserWarning: Trying to unpickle estimator GradientBoostingClassifier from version 0.20.4 when using version 0.19.1. This might lead to breaking code or invalid results. Use at your own risk.\n",
      "  UserWarning)\n"
     ]
    }
   ],
   "source": [
    "fname = '../plot_scripts/kinObsMVA/clfGBC_tauVall_v0{}.p'.format(cat.name)\n",
    "clfGBC = pickle.load(open(fname, 'rb'))"
   ]
  },
  {
   "cell_type": "code",
   "execution_count": 19,
   "metadata": {
    "ExecuteTime": {
     "end_time": "2020-09-01T12:10:48.039235Z",
     "start_time": "2020-09-01T12:10:48.021339Z"
    }
   },
   "outputs": [],
   "source": [
    "def computeVarMVA(ds):\n",
    "    aux = np.column_stack((ds['q2'], ds['Est_mu'], ds['M2_miss']))\n",
    "    p = clfGBC.predict_proba(aux)\n",
    "    return p[:,1]"
   ]
  },
  {
   "cell_type": "markdown",
   "metadata": {},
   "source": [
    "# Create MC histograms"
   ]
  },
  {
   "cell_type": "code",
   "execution_count": 20,
   "metadata": {
    "ExecuteTime": {
     "end_time": "2020-09-01T12:10:48.089203Z",
     "start_time": "2020-09-01T12:10:48.043623Z"
    }
   },
   "outputs": [],
   "source": [
    "histo = {}\n",
    "eventCountingStr = {}"
   ]
  },
  {
   "cell_type": "markdown",
   "metadata": {},
   "source": [
    "### Signal region"
   ]
  },
  {
   "cell_type": "code",
   "execution_count": 21,
   "metadata": {
    "ExecuteTime": {
     "end_time": "2020-09-01T12:10:48.132964Z",
     "start_time": "2020-09-01T12:10:48.093429Z"
    },
    "hide_input": false
   },
   "outputs": [],
   "source": [
    "binning = {\n",
    "    'M2_miss' : [\n",
    "        array('d', [-2.5] + list(np.arange(-1.8, -0.2, 0.4)) + [-0.2, 0., 0.2, 0.6, 8] ),\n",
    "        array('d', [-2.5] + list(np.arange(-1.8, -0.1, 0.4)) + [-0.1, 0.0, 0.1, 0.2, 0.3] + list(np.arange(0.4, 3.0, 0.4)) + [8] ),\n",
    "        array('d', [-2.5] + list(np.arange(-1.8, 5.6, 0.4)) + [8] ),\n",
    "        array('d', [-2.5] + list(np.arange(-1.8, 7.6, 0.4)) + [8] ),\n",
    "    ],\n",
    "    'Est_mu'  : [\n",
    "        array('d', [0.3] + list(np.arange(0.7, 2.3, 0.1)) + [2.5] ),\n",
    "        array('d', [0.3] + list(np.arange(0.7, 2.5, 0.1)) + [2.5] ),\n",
    "        array('d', [0.3] + list(np.arange(0.5, 2.5, 0.1)) + [2.5] ),\n",
    "        [22, 0.3, 2.500],\n",
    "    ],\n",
    "}\n",
    "if fit_real_data:\n",
    "    binning['q2'] = array('d', [-2, 2.5, 6])\n",
    "else:\n",
    "    binning['q2'] = array('d', [-2, 2.5, 6, 9.4, 12])\n",
    "    \n",
    "binning['MVA'] = array('d', list(np.arange(0., 0.81, 0.04)))"
   ]
  },
  {
   "cell_type": "code",
   "execution_count": 22,
   "metadata": {
    "ExecuteTime": {
     "end_time": "2020-09-01T12:14:34.789744Z",
     "start_time": "2020-09-01T12:10:48.137506Z"
    },
    "code_folding": [],
    "hide_input": false,
    "scrolled": true
   },
   "outputs": [
    {
     "name": "stdout",
     "output_type": "stream",
     "text": [
      "\n",
      "-----------> tau <-------------\n",
      "N tot selected: 29.6k\n",
      "N tot expected (before weights): 4.62k\n",
      "Including pileup reweighting\n",
      "Including trigger corrections\n",
      "Including muon ID corrections\n",
      "Including B0 pT corrections\n",
      "Including FF corrections (Hammer)\n",
      "Computing total weights\n",
      "N tot expected (after weights): 4.975k\n",
      "Evaluating MVA\n",
      "\n",
      "-----------> mu <-------------\n",
      "N tot selected: 495.6k\n",
      "N tot expected (before weights): 155.95k\n",
      "Including pileup reweighting\n",
      "Including trigger corrections\n",
      "Including muon ID corrections\n",
      "Including B0 pT corrections\n",
      "Including FF corrections (Hammer)\n",
      "Computing total weights\n",
      "N tot expected (after weights): 159.927k\n",
      "Evaluating MVA\n",
      "\n",
      "-----------> DstPip <-------------\n",
      "N tot selected: 17.7k\n",
      "N tot expected (before weights): 3.05k\n",
      "Including pileup reweighting\n",
      "Including trigger corrections\n",
      "Including muon ID corrections\n",
      "Computing total weights\n",
      "N tot expected (after weights): 3.174k\n",
      "Evaluating MVA\n",
      "\n",
      "-----------> DstPi0 <-------------\n",
      "N tot selected: 34.2k\n",
      "N tot expected (before weights): 5.47k\n",
      "Including pileup reweighting\n",
      "Including trigger corrections\n",
      "Including muon ID corrections\n",
      "Including B0 pT corrections\n",
      "Computing total weights\n",
      "N tot expected (after weights): 5.780k\n",
      "Evaluating MVA\n",
      "\n",
      "-----------> DstPipPi0 <-------------\n",
      "N tot selected: 1.6k\n",
      "N tot expected (before weights): 0.29k\n",
      "Including pileup reweighting\n",
      "Including trigger corrections\n",
      "Including muon ID corrections\n",
      "Computing total weights\n",
      "N tot expected (after weights): 0.297k\n",
      "Evaluating MVA\n",
      "\n",
      "-----------> DstPipPim <-------------\n",
      "N tot selected: 0.7k\n",
      "N tot expected (before weights): 0.14k\n",
      "Including pileup reweighting\n",
      "Including trigger corrections\n",
      "Including muon ID corrections\n",
      "Including B0 pT corrections\n",
      "Computing total weights\n",
      "N tot expected (after weights): 0.149k\n",
      "Evaluating MVA\n",
      "\n",
      "-----------> DstPi0Pi0 <-------------\n",
      "N tot selected: 16.0k\n",
      "N tot expected (before weights): 0.56k\n",
      "Including pileup reweighting\n",
      "Including trigger corrections\n",
      "Including muon ID corrections\n",
      "Including B0 pT corrections\n",
      "Computing total weights\n",
      "N tot expected (after weights): 0.590k\n",
      "Evaluating MVA\n",
      "\n",
      "-----------> DstmDsp <-------------\n",
      "N tot selected: 8.9k\n",
      "N tot expected (before weights): 0.60k\n",
      "Including pileup reweighting\n",
      "Including trigger corrections\n",
      "Including muon ID corrections\n",
      "Including B0 pT corrections\n",
      "Computing total weights\n",
      "N tot expected (after weights): 0.649k\n",
      "Evaluating MVA\n",
      "\n",
      "-----------> DstmD0 <-------------\n",
      "N tot selected: 0.2k\n",
      "N tot expected (before weights): 0.02k\n",
      "Including pileup reweighting\n",
      "Including trigger corrections\n",
      "Including muon ID corrections\n",
      "Including B0 pT corrections\n",
      "Computing total weights\n",
      "N tot expected (after weights): 0.020k\n",
      "Evaluating MVA\n",
      "\n",
      "-----------> DstmDp <-------------\n",
      "N tot selected: 1.5k\n",
      "N tot expected (before weights): 0.07k\n",
      "Including pileup reweighting\n",
      "Including trigger corrections\n",
      "Including muon ID corrections\n",
      "Including B0 pT corrections\n",
      "Computing total weights\n",
      "N tot expected (after weights): 0.080k\n",
      "Evaluating MVA\n",
      "\n",
      "-----------> BpDstmHc <-------------\n",
      "N tot selected: 0.6k\n",
      "N tot expected (before weights): 0.00k\n",
      "Including pileup reweighting\n",
      "Including trigger corrections\n",
      "Including muon ID corrections\n",
      "Computing total weights\n",
      "N tot expected (after weights): 0.004k\n",
      "Evaluating MVA\n",
      "\n",
      "-----------> BmDstmHc <-------------\n",
      "N tot selected: 0.3k\n",
      "N tot expected (before weights): 0.04k\n",
      "Including pileup reweighting\n",
      "Including trigger corrections\n",
      "Including muon ID corrections\n",
      "Computing total weights\n",
      "N tot expected (after weights): 0.043k\n",
      "Evaluating MVA\n",
      "\n",
      "-----------> antiB0DstmHc <-------------\n",
      "N tot selected: 0.4k\n",
      "N tot expected (before weights): 0.06k\n",
      "Including pileup reweighting\n",
      "Including trigger corrections\n",
      "Including muon ID corrections\n",
      "Computing total weights\n",
      "N tot expected (after weights): 0.062k\n",
      "Evaluating MVA\n"
     ]
    }
   ],
   "source": [
    "totalCounting = [0,0]\n",
    "for n in processOrder:\n",
    "    ds = dSet[n]\n",
    "    if n == 'data': continue\n",
    "    print '\\n----------->', n, '<-------------'\n",
    "    sMC = MCsample[n]\n",
    "    \n",
    "    nTotSelected = ds['q2'].shape[0]\n",
    "    print 'N tot selected: {:.1f}k'.format(1e-3*nTotSelected)\n",
    "    totalCounting[1] += 1e-3*nTotSelected\n",
    "    nGenExp = sMC.effMCgen['xsec'][0] * lumi_tot# * RDoMC_normRatio[0]\n",
    "    eff = [1, 0]\n",
    "    for f, df in [sMC.effMCgen['effGEN'], decayBR[n], sMC.effCand['effCAND'], sMC.getSkimEff(cat.name+'_corr')]:\n",
    "        eff[0] *= f\n",
    "        eff[1] += np.square(df/f)\n",
    "    eff[1] = eff[0] * np.sqrt(eff[1])\n",
    "    nTotExp = nGenExp*eff[0]\n",
    "    print 'N tot expected (before weights): {:.2f}k'.format(1e-3*nTotExp)\n",
    "    \n",
    "    wVar = {}\n",
    "    weights = {}\n",
    "    \n",
    "    print 'Including pileup reweighting'\n",
    "    weights['pileup'] = puReweighter.weightsPileupMC[ds['N_vtx'].astype(np.int)]\n",
    "    print 'Including trigger corrections'\n",
    "    weights['trg{}SF'.format(cat.trg)], wVar['trg{}SFUp'.format(cat.trg)], wVar['trg{}SFDown'.format(cat.trg)] = computeTrgSF(ds)\n",
    "    print 'Including muon ID corrections'\n",
    "    weights['muonIdSF'], wVar['muonIdSFUp'], wVar['muonIdSFDown'] = computeMuonIDSF(ds)\n",
    "    if n in ['mu', 'tau', 'DstmD0', 'DstmDp', 'DstmDsp','DstPi0', 'DstPipPim', 'DstPi0Pi0']: #B0 dominated final states (probably we should do something about B+ too)\n",
    "        print 'Including B0 pT corrections'\n",
    "        weights['B0pT'], wVar['B0pTUp'], wVar['B0pTDown'] = computeB0pTweights(ds)\n",
    "    # Hammer corrections to the FF\n",
    "    if n in ['mu', 'tau']:\n",
    "        print 'Including FF corrections (Hammer)'\n",
    "        weights['B2DstCLN'] = ds['wh_CLNCentral']*sMC.effCand['rate_den']/sMC.effCand['rate_Central']\n",
    "        for nPar in ['R0', 'eig1', 'eig2', 'eig3']:\n",
    "            for var in ['Up', 'Down']:\n",
    "                tag = 'CLN' + nPar + var\n",
    "                wVar['B2Dst'+tag] = ds['wh_'+tag]/sMC.effCand['rate_' + tag]\n",
    "                wVar['B2Dst'+tag] *= sMC.effCand['rate_Central']/ds['wh_CLNCentral']\n",
    "    #Dstst resonance mix\n",
    "    if n == 'DstPip':\n",
    "        _, wVar['fDststWideUp'], wVar['fDststWideDown'] = computeBrVarWeights(ds, {'MC_munuSisterPdgId': -20423}, 0.6/2.7, keepNorm=True) #Gamma 14 pdg 2020\n",
    "    #Hc mix variations\n",
    "    if n == 'DstmD0':\n",
    "        _, wVar['BrB02DstD0KpUp'], wVar['BrB02DstD0KpDown'] = computeBrVarWeights(ds, {'MC_DstSisterPdgId_heavy': 421, 'MC_DstSisterPdgId_light': 321}, 0.21/2.47) #Gamma 169 pdg 2020\n",
    "        _, wVar['BrB02DstD0KstpUp'], wVar['BrB02DstD0KstpDown'] = computeBrVarWeights(ds, {'MC_DstSisterPdgId_heavy': 421, 'MC_DstSisterPdgId_light': 323}, 0.5) # Guess\n",
    "        _, wVar['BrB02DstDst0KpUp'], wVar['BrB02DstDst0KpDown'] = computeBrVarWeights(ds, {'MC_DstSisterPdgId_heavy': 423, 'MC_DstSisterPdgId_light': 321}, 0.09/1.06) #Gamma 170 pdg 2020\n",
    "        _, wVar['BrB02DstDst0KstpUp'], wVar['BrB02DstDst0KstpDown'] = computeBrVarWeights(ds, {'MC_DstSisterPdgId_heavy': 423, 'MC_DstSisterPdgId_light': 323}, 0.5) # Guess\n",
    "        _, wVar['BrB02DstDstpK0Up'], wVar['BrB02DstDstpK0Down'] = computeBrVarWeights(ds, {'MC_DstSisterPdgId_heavy': 413, 'MC_DstSisterPdgId_light': 311}, 0.5/5.3) #Gamma 173 pdg 2020\n",
    "        _, wVar['BrB02DstDstpKst0Up'], wVar['BrB02DstDstpKst0Down'] = computeBrVarWeights(ds, {'MC_DstSisterPdgId_heavy': 413, 'MC_DstSisterPdgId_light': 313}, 0.5) # Guess\n",
    "    if n == 'DstmDp':\n",
    "        _, wVar['BrB02DstDpK0Up'], wVar['BrB02DstDpK0Down'] = computeBrVarWeights(ds, {'MC_DstSisterPdgId_heavy': 411, 'MC_DstSisterPdgId_light': 311}, 0.5/3.2) #Gamma 172 pdg 2020\n",
    "        _, wVar['BrB02DstDpKst0Up'], wVar['BrB02DstDpKst0Down'] = computeBrVarWeights(ds, {'MC_DstSisterPdgId_heavy': 411, 'MC_DstSisterPdgId_light': 313}, 0.5) # Guess\n",
    "        _, wVar['BrB02DstDstpK0Up'], wVar['BrB02DstDstpK0Down'] = computeBrVarWeights(ds, {'MC_DstSisterPdgId_heavy': 413, 'MC_DstSisterPdgId_light': 311}, 0.2/2.7) #Gamma 173 pdg 2020\n",
    "        _, wVar['BrB02DstDstpKst0Up'], wVar['BrB02DstDstpKst0Down'] = computeBrVarWeights(ds, {'MC_DstSisterPdgId_heavy': 413, 'MC_DstSisterPdgId_light': 313}, 0.5) # Guess\n",
    "    if n == 'DstmDsp':\n",
    "        _, wVar['BrB02DstDsUp'], wVar['BrB02DstDsDown'] = computeBrVarWeights(ds, {'MC_DstSisterPdgId_heavy': 431}, 1.1/8.0) #Gamma 83 pdg 2020\n",
    "        _, wVar['BrB02DstDsstUp'], wVar['BrB02DstDsstDown'] = computeBrVarWeights(ds, {'MC_DstSisterPdgId_heavy': 433}, .14/1.77) #Gamma 85 pdg 2020\n",
    "        _, wVar['BrB02DstDs0stUp'], wVar['BrB02DstDs0stDown'] = computeBrVarWeights(ds, {'MC_DstSisterPdgId_heavy': 10431}, .6/1.5) #Gamma 95 pdg 2020\n",
    "    \n",
    "    print 'Computing total weights'\n",
    "    weightsCentral = np.ones_like(ds['q2'])\n",
    "    for w in weights.values(): weightsCentral *= w\n",
    "    print 'N tot expected (after weights): {:.3f}k'.format(1e-3*nTotExp*np.sum(weightsCentral)/nTotSelected)\n",
    "    totalCounting[0] += 1e-3*nTotExp*np.sum(weightsCentral)/nTotSelected\n",
    "    evCountStr = '{:.2f} ({:.2f})'.format(1e-3*nTotExp*np.sum(weightsCentral)/nTotSelected, 1e-3*nTotSelected)\n",
    "    eventCountingStr[n] = evCountStr\n",
    "    wVar[''] = np.ones_like(weightsCentral)\n",
    "    \n",
    "    \n",
    "    if useMVA:\n",
    "        print 'Evaluating MVA'\n",
    "        if not 'MVA' in histo.keys():\n",
    "            histo['MVA'] = {}\n",
    "        sMVA = computeVarMVA(ds)\n",
    "        for name_wVar, v_wVar in wVar.iteritems():\n",
    "                h_name = n\n",
    "                if not name_wVar == '':\n",
    "                    h_name += '__' + name_wVar\n",
    "                w = weightsCentral*v_wVar\n",
    "                scale = nTotExp/nTotSelected\n",
    "                histo['MVA'][h_name] = create_TH1D(sMVA, name=h_name, weights=w, scale_histo=scale,\n",
    "                                                   binning=binning['MVA'], opt='underflow,overflow')\n",
    "    \n",
    "    for i_q2 in range(len(binning['q2'])-1):\n",
    "        q2_l = binning['q2'][i_q2]\n",
    "        q2_h = binning['q2'][i_q2 + 1]\n",
    "        sel_q2 = np.logical_and(ds['q2'] > q2_l, ds['q2'] < q2_h)\n",
    "        for var in ['M2_miss', 'Est_mu']:\n",
    "            cat_name = var+'_q2bin'+str(i_q2)\n",
    "            \n",
    "            if not cat_name in histo.keys():\n",
    "                histo[cat_name] = {}\n",
    "            \n",
    "            for name_wVar, v_wVar in wVar.iteritems():\n",
    "                h_name = n\n",
    "                if not name_wVar == '':\n",
    "                    h_name += '__' + name_wVar\n",
    "                w = weightsCentral*v_wVar\n",
    "                scale = nTotExp/nTotSelected\n",
    "                histo[cat_name][h_name] = create_TH1D(\n",
    "                                                      ds[var][sel_q2], \n",
    "                                                      name=h_name, title=h_name, \n",
    "                                                      binning=binning[var][i_q2], \n",
    "                                                      opt='underflow,overflow',\n",
    "                                                      weights=w[sel_q2], scale_histo=scale,\n",
    "                                                      )\n",
    "                \n",
    "evCountStr = '{:.1f} ({:.1f})'.format(*totalCounting)\n",
    "eventCountingStr['tot'] = evCountStr"
   ]
  },
  {
   "cell_type": "markdown",
   "metadata": {
    "heading_collapsed": true
   },
   "source": [
    "### Single track side"
   ]
  },
  {
   "cell_type": "code",
   "execution_count": 23,
   "metadata": {
    "ExecuteTime": {
     "end_time": "2020-09-01T12:14:34.875025Z",
     "start_time": "2020-09-01T12:14:34.796490Z"
    },
    "hidden": true
   },
   "outputs": [],
   "source": [
    "sideSelecton = {}\n",
    "sideVar = {}\n",
    "sideXtitle = {}\n",
    "sideAddtext = {}\n",
    "\n",
    "def selfun__TkPlus(ds):\n",
    "    sel = np.logical_and(ds['N_goodAddTks'] == 1, ds['tkCharge_0'] > 0)\n",
    "    return sel\n",
    "#     return np.logical_and(np.abs(ds['tkMassHad_0'] - 2.43) < 0.3, sel)\n",
    "sideSelecton['AddTk_p_mHad'] = selfun__TkPlus\n",
    "sideVar['AddTk_p_mHad'] = 'tkMassHad_0'\n",
    "binning['AddTk_p_mHad'] = [35, 2.13, 2.83]\n",
    "sideXtitle['AddTk_p_mHad'] = 'Total hadrons mass'\n",
    "sideAddtext['AddTk_p_mHad'] = 'N_{tk} = 1 & Q_{tk} = +1'\n",
    "\n",
    "def selfun__TkMinus(ds):\n",
    "    sel = np.logical_and(ds['N_goodAddTks'] == 1, ds['tkCharge_0'] < 0)\n",
    "    return sel\n",
    "sideSelecton['AddTk_m_mHad'] = selfun__TkMinus\n",
    "sideVar['AddTk_m_mHad'] = 'tkMassHad_0'\n",
    "binning['AddTk_m_mHad'] = [30, 2.1, 3.3]\n",
    "sideXtitle['AddTk_m_mHad'] = 'Total hadrons mass'\n",
    "sideAddtext['AddTk_m_mHad'] = 'N_{tk} = 1 & Q_{tk} = -1'\n",
    "\n",
    "# sideSelecton['AddTk_m_tkPt'] = selfun__TkMinus\n",
    "# sideVar['AddTk_m_tkPt'] = 'tkPt_0'\n",
    "# binning['AddTk_m_tkPt'] = np.logspace(np.log10(0.5), np.log10(5.0), 30)\n",
    "# sideXtitle['AddTk_m_tkPt'] = 'Additional track p_{T}'\n",
    "# sideAddtext['AddTk_m_tkPt'] = 'N_{tk} = 1 & Q_{tk} = -1'\n",
    "\n",
    "\n",
    "def selfun__TkPlusMinus(ds):\n",
    "    sel = np.logical_and(ds['tkCharge_0']+ds['tkCharge_1'] == 0, ds['N_goodAddTks'] == 2)\n",
    "    sel = np.logical_and(ds['tkMassVis12'] < 5.3, sel)\n",
    "    return sel\n",
    "sideSelecton['AddTk_pm_mVis'] = selfun__TkPlusMinus\n",
    "sideVar['AddTk_pm_mVis'] = 'tkMassVis12'\n",
    "binning['AddTk_pm_mVis'] = array('d', [2.8] + list(np.arange(3., 5.3, 0.1)) + [5.3] )\n",
    "sideXtitle['AddTk_pm_mVis'] = 'Total visible mass'\n",
    "sideAddtext['AddTk_pm_mVis'] = 'N_{tk} = 2 & #sumQ_{tk} = 0'\n",
    "\n",
    "\n",
    "sideSelecton['AddTk_pm_mHad'] = selfun__TkPlusMinus\n",
    "sideVar['AddTk_pm_mHad'] = 'tkMassHad12'\n",
    "binning['AddTk_pm_mHad'] = [30, 2.3, 3.75]\n",
    "sideXtitle['AddTk_pm_mHad'] = 'Total hadrons mass'\n",
    "sideAddtext['AddTk_pm_mHad'] = 'N_{tk} = 2 & #sumQ_{tk} = 0'\n",
    "\n",
    "def selfun__TkMinusMinus(ds):\n",
    "    sel = np.logical_and(ds['tkCharge_0']+ds['tkCharge_1'] == -2, ds['N_goodAddTks'] == 2)\n",
    "    sel = np.logical_and(ds['tkMassVis12'] < 5.3, sel)\n",
    "    return sel\n",
    "sideSelecton['AddTk_mm_mHad'] = selfun__TkMinusMinus\n",
    "sideVar['AddTk_mm_mHad'] = 'tkMassHad12'\n",
    "binning['AddTk_mm_mHad'] = [15, 2.25, 3.6]\n",
    "sideXtitle['AddTk_mm_mHad'] = 'Total hadrons mass'\n",
    "sideAddtext['AddTk_mm_mHad'] = 'N_{tk} = 2 & #sumQ_{tk} = -2'\n",
    "\n",
    "def selfun__TkPlusPlus(ds):\n",
    "    sel = np.logical_and(ds['tkCharge_0']+ds['tkCharge_1'] == +2, ds['N_goodAddTks'] == 2)\n",
    "    sel = np.logical_and(ds['tkMassVis12'] < 5.3, sel)\n",
    "    return sel\n",
    "sideSelecton['AddTk_pp_mHad'] = selfun__TkPlusPlus\n",
    "sideVar['AddTk_pp_mHad'] = 'tkMassHad12'\n",
    "binning['AddTk_pp_mHad'] = [15, 2.25, 3.75]\n",
    "sideXtitle['AddTk_pp_mHad'] = 'Total hadrons mass'\n",
    "sideAddtext['AddTk_pp_mHad'] = 'N_{tk} = 2 & #sumQ_{tk} = +2'"
   ]
  },
  {
   "cell_type": "code",
   "execution_count": 24,
   "metadata": {
    "ExecuteTime": {
     "end_time": "2020-09-01T12:14:44.284798Z",
     "start_time": "2020-09-01T12:14:34.879908Z"
    },
    "hidden": true,
    "scrolled": true
   },
   "outputs": [
    {
     "name": "stdout",
     "output_type": "stream",
     "text": [
      "\n",
      "-----------> tau <-------------\n",
      "Including pileup reweighting\n",
      "Including trigger corrections\n",
      "Including muon ID corrections\n",
      "Including B0 pT corrections\n",
      "Including FF corrections (Hammer)\n",
      "Computing total weights\n",
      "N tot selected AddTk_pm_mHad: 34\n",
      "N tot expected AddTk_pm_mHad (before weights): 5\n",
      "N tot expected AddTk_pm_mHad (after weights): 13\n",
      "N tot selected AddTk_m_mHad: 643\n",
      "N tot expected AddTk_m_mHad (before weights): 100\n",
      "N tot expected AddTk_m_mHad (after weights): 149\n",
      "N tot selected AddTk_p_mHad: 721\n",
      "N tot expected AddTk_p_mHad (before weights): 112\n",
      "N tot expected AddTk_p_mHad (after weights): 183\n",
      "N tot selected AddTk_pp_mHad: 16\n",
      "N tot expected AddTk_pp_mHad (before weights): 2\n",
      "N tot expected AddTk_pp_mHad (after weights): 5\n",
      "N tot selected AddTk_mm_mHad: 18\n",
      "N tot expected AddTk_mm_mHad (before weights): 3\n",
      "N tot expected AddTk_mm_mHad (after weights): 5\n",
      "N tot selected AddTk_pm_mVis: 34\n",
      "N tot expected AddTk_pm_mVis (before weights): 5\n",
      "N tot expected AddTk_pm_mVis (after weights): 13\n",
      "183 (721) & 149 (643) & 5 (16) & 13 (34) & 5 (18)\n",
      "\n",
      "-----------> mu <-------------\n",
      "Including pileup reweighting\n",
      "Including trigger corrections\n",
      "Including muon ID corrections\n",
      "Including B0 pT corrections\n",
      "Including FF corrections (Hammer)\n",
      "Computing total weights\n",
      "N tot selected AddTk_pm_mHad: 782\n",
      "N tot expected AddTk_pm_mHad (before weights): 246\n",
      "N tot expected AddTk_pm_mHad (after weights): 622\n",
      "N tot selected AddTk_m_mHad: 13412\n",
      "N tot expected AddTk_m_mHad (before weights): 4219\n",
      "N tot expected AddTk_m_mHad (after weights): 5839\n",
      "N tot selected AddTk_p_mHad: 15134\n",
      "N tot expected AddTk_p_mHad (before weights): 4761\n",
      "N tot expected AddTk_p_mHad (after weights): 6957\n",
      "N tot selected AddTk_pp_mHad: 392\n",
      "N tot expected AddTk_pp_mHad (before weights): 123\n",
      "N tot expected AddTk_pp_mHad (after weights): 270\n",
      "N tot selected AddTk_mm_mHad: 298\n",
      "N tot expected AddTk_mm_mHad (before weights): 94\n",
      "N tot expected AddTk_mm_mHad (after weights): 202\n",
      "N tot selected AddTk_pm_mVis: 782\n",
      "N tot expected AddTk_pm_mVis (before weights): 246\n",
      "N tot expected AddTk_pm_mVis (after weights): 622\n",
      "6957 (15134) & 5839 (13412) & 270 (392) & 622 (782) & 202 (298)\n",
      "\n",
      "-----------> DstPip <-------------\n",
      "Including pileup reweighting\n",
      "Including trigger corrections\n",
      "Including muon ID corrections\n",
      "Computing total weights\n",
      "N tot selected AddTk_pm_mHad: 1349\n",
      "N tot expected AddTk_pm_mHad (before weights): 232\n",
      "N tot expected AddTk_pm_mHad (after weights): 368\n",
      "N tot selected AddTk_m_mHad: 521\n",
      "N tot expected AddTk_m_mHad (before weights): 90\n",
      "N tot expected AddTk_m_mHad (after weights): 139\n",
      "N tot selected AddTk_p_mHad: 49820\n",
      "N tot expected AddTk_p_mHad (before weights): 8574\n",
      "N tot expected AddTk_p_mHad (after weights): 8828\n",
      "N tot selected AddTk_pp_mHad: 1029\n",
      "N tot expected AddTk_pp_mHad (before weights): 177\n",
      "N tot expected AddTk_pp_mHad (after weights): 250\n",
      "N tot selected AddTk_mm_mHad: 16\n",
      "N tot expected AddTk_mm_mHad (before weights): 3\n",
      "N tot expected AddTk_mm_mHad (after weights): 5\n",
      "N tot selected AddTk_pm_mVis: 1349\n",
      "N tot expected AddTk_pm_mVis (before weights): 232\n",
      "N tot expected AddTk_pm_mVis (after weights): 368\n",
      "8828 (49820) & 139 (521) & 250 (1029) & 368 (1349) & 5 (16)\n",
      "\n",
      "-----------> DstPi0 <-------------\n",
      "Including pileup reweighting\n",
      "Including trigger corrections\n",
      "Including muon ID corrections\n",
      "Including B0 pT corrections\n",
      "Computing total weights\n",
      "N tot selected AddTk_pm_mHad: 97\n",
      "N tot expected AddTk_pm_mHad (before weights): 16\n",
      "N tot expected AddTk_pm_mHad (after weights): 30\n",
      "N tot selected AddTk_m_mHad: 957\n",
      "N tot expected AddTk_m_mHad (before weights): 153\n",
      "N tot expected AddTk_m_mHad (after weights): 220\n",
      "N tot selected AddTk_p_mHad: 1113\n",
      "N tot expected AddTk_p_mHad (before weights): 178\n",
      "N tot expected AddTk_p_mHad (after weights): 257\n",
      "N tot selected AddTk_pp_mHad: 31\n",
      "N tot expected AddTk_pp_mHad (before weights): 5\n",
      "N tot expected AddTk_pp_mHad (after weights): 23\n",
      "N tot selected AddTk_mm_mHad: 16\n",
      "N tot expected AddTk_mm_mHad (before weights): 3\n",
      "N tot expected AddTk_mm_mHad (after weights): 10\n",
      "N tot selected AddTk_pm_mVis: 97\n",
      "N tot expected AddTk_pm_mVis (before weights): 16\n",
      "N tot expected AddTk_pm_mVis (after weights): 30\n",
      "257 (1113) & 220 (957) & 23 (31) & 30 (97) & 10 (16)\n",
      "\n",
      "-----------> DstPipPi0 <-------------\n",
      "Including pileup reweighting\n",
      "Including trigger corrections\n",
      "Including muon ID corrections\n",
      "Computing total weights\n",
      "N tot selected AddTk_pm_mHad: 154\n",
      "N tot expected AddTk_pm_mHad (before weights): 28\n",
      "N tot expected AddTk_pm_mHad (after weights): 43\n",
      "N tot selected AddTk_m_mHad: 49\n",
      "N tot expected AddTk_m_mHad (before weights): 9\n",
      "N tot expected AddTk_m_mHad (after weights): 13\n",
      "N tot selected AddTk_p_mHad: 4946\n",
      "N tot expected AddTk_p_mHad (before weights): 888\n",
      "N tot expected AddTk_p_mHad (after weights): 915\n",
      "N tot selected AddTk_pp_mHad: 130\n",
      "N tot expected AddTk_pp_mHad (before weights): 23\n",
      "N tot expected AddTk_pp_mHad (after weights): 29\n",
      "N tot selected AddTk_mm_mHad: 1\n",
      "N tot expected AddTk_mm_mHad (before weights): 0\n",
      "N tot expected AddTk_mm_mHad (after weights): 0\n",
      "N tot selected AddTk_pm_mVis: 154\n",
      "N tot expected AddTk_pm_mVis (before weights): 28\n",
      "N tot expected AddTk_pm_mVis (after weights): 43\n",
      "915 (4946) & 13 (49) & 29 (130) & 43 (154) & 0 (1)\n",
      "\n",
      "-----------> DstPipPim <-------------\n",
      "Including pileup reweighting\n",
      "Including trigger corrections\n",
      "Including muon ID corrections\n",
      "Including B0 pT corrections\n",
      "Computing total weights\n",
      "N tot selected AddTk_pm_mHad: 5077\n",
      "N tot expected AddTk_pm_mHad (before weights): 1088\n",
      "N tot expected AddTk_pm_mHad (after weights): 1192\n",
      "N tot selected AddTk_m_mHad: 1378\n",
      "N tot expected AddTk_m_mHad (before weights): 295\n",
      "N tot expected AddTk_m_mHad (after weights): 308\n",
      "N tot selected AddTk_p_mHad: 1719\n",
      "N tot expected AddTk_p_mHad (before weights): 368\n",
      "N tot expected AddTk_p_mHad (after weights): 388\n",
      "N tot selected AddTk_pp_mHad: 39\n",
      "N tot expected AddTk_pp_mHad (before weights): 8\n",
      "N tot expected AddTk_pp_mHad (after weights): 13\n",
      "N tot selected AddTk_mm_mHad: 38\n",
      "N tot expected AddTk_mm_mHad (before weights): 8\n",
      "N tot expected AddTk_mm_mHad (after weights): 10\n",
      "N tot selected AddTk_pm_mVis: 5077\n",
      "N tot expected AddTk_pm_mVis (before weights): 1088\n",
      "N tot expected AddTk_pm_mVis (after weights): 1192\n",
      "388 (1719) & 308 (1378) & 13 (39) & 1192 (5077) & 10 (38)\n",
      "\n",
      "-----------> DstPi0Pi0 <-------------\n",
      "Including pileup reweighting\n",
      "Including trigger corrections\n",
      "Including muon ID corrections\n",
      "Including B0 pT corrections\n",
      "Computing total weights\n",
      "N tot selected AddTk_pm_mHad: 58\n",
      "N tot expected AddTk_pm_mHad (before weights): 2\n",
      "N tot expected AddTk_pm_mHad (after weights): 4\n",
      "N tot selected AddTk_m_mHad: 465\n",
      "N tot expected AddTk_m_mHad (before weights): 16\n",
      "N tot expected AddTk_m_mHad (after weights): 23\n",
      "N tot selected AddTk_p_mHad: 549\n",
      "N tot expected AddTk_p_mHad (before weights): 19\n",
      "N tot expected AddTk_p_mHad (after weights): 27\n",
      "N tot selected AddTk_pp_mHad: 19\n",
      "N tot expected AddTk_pp_mHad (before weights): 1\n",
      "N tot expected AddTk_pp_mHad (after weights): 1\n",
      "N tot selected AddTk_mm_mHad: 6\n",
      "N tot expected AddTk_mm_mHad (before weights): 0\n",
      "N tot expected AddTk_mm_mHad (after weights): 0\n",
      "N tot selected AddTk_pm_mVis: 58\n",
      "N tot expected AddTk_pm_mVis (before weights): 2\n",
      "N tot expected AddTk_pm_mVis (after weights): 4\n",
      "27 (549) & 23 (465) & 1 (19) & 4 (58) & 0 (6)\n",
      "\n",
      "-----------> DstmDsp <-------------\n",
      "Including pileup reweighting\n",
      "Including trigger corrections\n",
      "Including muon ID corrections\n",
      "Including B0 pT corrections\n",
      "Computing total weights\n",
      "N tot selected AddTk_pm_mHad: 681\n",
      "N tot expected AddTk_pm_mHad (before weights): 46\n",
      "N tot expected AddTk_pm_mHad (after weights): 53\n",
      "N tot selected AddTk_m_mHad: 546\n",
      "N tot expected AddTk_m_mHad (before weights): 37\n",
      "N tot expected AddTk_m_mHad (after weights): 47\n",
      "N tot selected AddTk_p_mHad: 569\n",
      "N tot expected AddTk_p_mHad (before weights): 38\n",
      "N tot expected AddTk_p_mHad (after weights): 50\n",
      "N tot selected AddTk_pp_mHad: 19\n",
      "N tot expected AddTk_pp_mHad (before weights): 1\n",
      "N tot expected AddTk_pp_mHad (after weights): 3\n",
      "N tot selected AddTk_mm_mHad: 12\n",
      "N tot expected AddTk_mm_mHad (before weights): 1\n",
      "N tot expected AddTk_mm_mHad (after weights): 1\n",
      "N tot selected AddTk_pm_mVis: 681\n",
      "N tot expected AddTk_pm_mVis (before weights): 46\n",
      "N tot expected AddTk_pm_mVis (after weights): 53\n",
      "50 (569) & 47 (546) & 3 (19) & 53 (681) & 1 (12)\n",
      "\n",
      "-----------> DstmD0 <-------------\n",
      "Including pileup reweighting\n",
      "Including trigger corrections\n",
      "Including muon ID corrections\n"
     ]
    },
    {
     "name": "stdout",
     "output_type": "stream",
     "text": [
      "Including B0 pT corrections\n",
      "Computing total weights\n",
      "N tot selected AddTk_pm_mHad: 894\n",
      "N tot expected AddTk_pm_mHad (before weights): 69\n",
      "N tot expected AddTk_pm_mHad (after weights): 79\n",
      "N tot selected AddTk_m_mHad: 187\n",
      "N tot expected AddTk_m_mHad (before weights): 14\n",
      "N tot expected AddTk_m_mHad (after weights): 17\n",
      "N tot selected AddTk_p_mHad: 549\n",
      "N tot expected AddTk_p_mHad (before weights): 42\n",
      "N tot expected AddTk_p_mHad (after weights): 49\n",
      "N tot selected AddTk_pp_mHad: 15\n",
      "N tot expected AddTk_pp_mHad (before weights): 1\n",
      "N tot expected AddTk_pp_mHad (after weights): 1\n",
      "N tot selected AddTk_mm_mHad: 4\n",
      "N tot expected AddTk_mm_mHad (before weights): 0\n",
      "N tot expected AddTk_mm_mHad (after weights): 1\n",
      "N tot selected AddTk_pm_mVis: 894\n",
      "N tot expected AddTk_pm_mVis (before weights): 69\n",
      "N tot expected AddTk_pm_mVis (after weights): 79\n",
      "49 (549) & 17 (187) & 1 (15) & 79 (894) & 1 (4)\n",
      "\n",
      "-----------> DstmDp <-------------\n",
      "Including pileup reweighting\n",
      "Including trigger corrections\n",
      "Including muon ID corrections\n",
      "Including B0 pT corrections\n",
      "Computing total weights\n",
      "N tot selected AddTk_pm_mHad: 365\n",
      "N tot expected AddTk_pm_mHad (before weights): 17\n",
      "N tot expected AddTk_pm_mHad (after weights): 21\n",
      "N tot selected AddTk_m_mHad: 159\n",
      "N tot expected AddTk_m_mHad (before weights): 7\n",
      "N tot expected AddTk_m_mHad (after weights): 10\n",
      "N tot selected AddTk_p_mHad: 150\n",
      "N tot expected AddTk_p_mHad (before weights): 7\n",
      "N tot expected AddTk_p_mHad (after weights): 9\n",
      "N tot selected AddTk_pp_mHad: 3\n",
      "N tot expected AddTk_pp_mHad (before weights): 0\n",
      "N tot expected AddTk_pp_mHad (after weights): 0\n",
      "N tot selected AddTk_mm_mHad: 8\n",
      "N tot expected AddTk_mm_mHad (before weights): 0\n",
      "N tot expected AddTk_mm_mHad (after weights): 1\n",
      "N tot selected AddTk_pm_mVis: 365\n",
      "N tot expected AddTk_pm_mVis (before weights): 17\n",
      "N tot expected AddTk_pm_mVis (after weights): 21\n",
      "9 (150) & 10 (159) & 0 (3) & 21 (365) & 1 (8)\n",
      "\n",
      "-----------> BpDstmHc <-------------\n",
      "Including pileup reweighting\n",
      "Including trigger corrections\n",
      "Including muon ID corrections\n",
      "Computing total weights\n",
      "N tot selected AddTk_pm_mHad: 212\n",
      "N tot expected AddTk_pm_mHad (before weights): 1\n",
      "N tot expected AddTk_pm_mHad (after weights): 2\n",
      "N tot selected AddTk_m_mHad: 39\n",
      "N tot expected AddTk_m_mHad (before weights): 0\n",
      "N tot expected AddTk_m_mHad (after weights): 0\n",
      "N tot selected AddTk_p_mHad: 1166\n",
      "N tot expected AddTk_p_mHad (before weights): 7\n",
      "N tot expected AddTk_p_mHad (after weights): 8\n",
      "N tot selected AddTk_pp_mHad: 257\n",
      "N tot expected AddTk_pp_mHad (before weights): 2\n",
      "N tot expected AddTk_pp_mHad (after weights): 2\n",
      "N tot selected AddTk_mm_mHad: 0\n",
      "N tot expected AddTk_mm_mHad (before weights): 0\n",
      "N tot expected AddTk_mm_mHad (after weights): 0\n",
      "N tot selected AddTk_pm_mVis: 212\n",
      "N tot expected AddTk_pm_mVis (before weights): 1\n",
      "N tot expected AddTk_pm_mVis (after weights): 2\n",
      "8 (1166) & 0 (39) & 2 (257) & 2 (212) & 0 (0)\n",
      "\n",
      "-----------> BmDstmHc <-------------\n",
      "Including pileup reweighting\n",
      "Including trigger corrections\n",
      "Including muon ID corrections\n",
      "Computing total weights\n",
      "N tot selected AddTk_pm_mHad: 25\n",
      "N tot expected AddTk_pm_mHad (before weights): 3\n",
      "N tot expected AddTk_pm_mHad (after weights): 3\n",
      "N tot selected AddTk_m_mHad: 442\n",
      "N tot expected AddTk_m_mHad (before weights): 53\n",
      "N tot expected AddTk_m_mHad (after weights): 55\n",
      "N tot selected AddTk_p_mHad: 22\n",
      "N tot expected AddTk_p_mHad (before weights): 3\n",
      "N tot expected AddTk_p_mHad (after weights): 3\n",
      "N tot selected AddTk_pp_mHad: 1\n",
      "N tot expected AddTk_pp_mHad (before weights): 0\n",
      "N tot expected AddTk_pp_mHad (after weights): 0\n",
      "N tot selected AddTk_mm_mHad: 12\n",
      "N tot expected AddTk_mm_mHad (before weights): 1\n",
      "N tot expected AddTk_mm_mHad (after weights): 2\n",
      "N tot selected AddTk_pm_mVis: 25\n",
      "N tot expected AddTk_pm_mVis (before weights): 3\n",
      "N tot expected AddTk_pm_mVis (after weights): 3\n",
      "3 (22) & 55 (442) & 0 (1) & 3 (25) & 2 (12)\n",
      "\n",
      "-----------> antiB0DstmHc <-------------\n",
      "Including pileup reweighting\n",
      "Including trigger corrections\n",
      "Including muon ID corrections\n",
      "Computing total weights\n",
      "N tot selected AddTk_pm_mHad: 102\n",
      "N tot expected AddTk_pm_mHad (before weights): 15\n",
      "N tot expected AddTk_pm_mHad (after weights): 16\n",
      "N tot selected AddTk_m_mHad: 35\n",
      "N tot expected AddTk_m_mHad (before weights): 5\n",
      "N tot expected AddTk_m_mHad (after weights): 6\n",
      "N tot selected AddTk_p_mHad: 98\n",
      "N tot expected AddTk_p_mHad (before weights): 14\n",
      "N tot expected AddTk_p_mHad (after weights): 16\n",
      "N tot selected AddTk_pp_mHad: 3\n",
      "N tot expected AddTk_pp_mHad (before weights): 0\n",
      "N tot expected AddTk_pp_mHad (after weights): 0\n",
      "N tot selected AddTk_mm_mHad: 2\n",
      "N tot expected AddTk_mm_mHad (before weights): 0\n",
      "N tot expected AddTk_mm_mHad (after weights): 0\n",
      "N tot selected AddTk_pm_mVis: 102\n",
      "N tot expected AddTk_pm_mVis (before weights): 15\n",
      "N tot expected AddTk_pm_mVis (after weights): 16\n",
      "16 (98) & 6 (35) & 0 (3) & 16 (102) & 0 (2)\n"
     ]
    }
   ],
   "source": [
    "for k in sideSelecton.keys():\n",
    "    histo[k] = {}\n",
    "\n",
    "totalCounting = {}\n",
    "for n in processOrder:\n",
    "    ds = dSetTkSide[n]\n",
    "    if n == 'data': continue\n",
    "    print '\\n----------->', n, '<-------------'\n",
    "    sMC = MCsample[n]    \n",
    "    wVar = {}\n",
    "    weights = {}\n",
    "    \n",
    "    print 'Including pileup reweighting'\n",
    "    weights['pileup'] = puReweighter.weightsPileupMC[ds['N_vtx'].astype(np.int)]\n",
    "#     weights['pileup'] = getPileupWeights(ds)\n",
    "    print 'Including trigger corrections'\n",
    "    weights['trg{}SF'.format(cat.trg)], wVar['trg{}SFUp'.format(cat.trg)], wVar['trg{}SFDown'.format(cat.trg)] = computeTrgSF(ds)\n",
    "    print 'Including muon ID corrections'\n",
    "    weights['muonIdSF'], wVar['muonIdSFUp'], wVar['muonIdSFDown'] = computeMuonIDSF(ds)\n",
    "    if n in ['mu', 'tau', 'DstmD0', 'DstmDp', 'DstmDsp','DstPi0', 'DstPipPim', 'DstPi0Pi0']: #B0 dominated final states (probably we should do something about B+ too)\n",
    "        print 'Including B0 pT corrections'\n",
    "        weights['B0pT'], wVar['B0pTUp'], wVar['B0pTDown'] = computeB0pTweights(ds)\n",
    "    # Hammer corrections to the FF\n",
    "    if n in ['mu', 'tau']:\n",
    "        print 'Including FF corrections (Hammer)'\n",
    "        weights['B2DstCLN'] = ds['wh_CLNCentral']*sMC.effCand['rate_den']/sMC.effCand['rate_Central']\n",
    "        for nPar in ['R0', 'eig1', 'eig2', 'eig3']:\n",
    "            for var in ['Up', 'Down']:\n",
    "                tag = 'CLN' + nPar + var\n",
    "                wVar['B2Dst'+tag] = ds['wh_'+tag]/sMC.effCand['rate_' + tag]\n",
    "                wVar['B2Dst'+tag] *= sMC.effCand['rate_Central']/ds['wh_CLNCentral']\n",
    "    #Dstst resonance mix\n",
    "    if n == 'DstPip':\n",
    "        _, wVar['fDststWideUp'], wVar['fDststWideDown'] = computeBrVarWeights(ds, {'MC_munuSisterPdgId': -20423}, 0.6/2.7, keepNorm=True) #Gamma 14 pdg 2020\n",
    "    #Hc mix variations\n",
    "    if n == 'DstmD0':\n",
    "        _, wVar['BrB02DstD0KpUp'], wVar['BrB02DstD0KpDown'] = computeBrVarWeights(ds, {'MC_DstSisterPdgId_heavy': 421, 'MC_DstSisterPdgId_light': 321}, 0.21/2.47) #Gamma 169 pdg 2020\n",
    "        _, wVar['BrB02DstD0KstpUp'], wVar['BrB02DstD0KstpDown'] = computeBrVarWeights(ds, {'MC_DstSisterPdgId_heavy': 421, 'MC_DstSisterPdgId_light': 323}, 0.5) # Guess\n",
    "        _, wVar['BrB02DstDst0KpUp'], wVar['BrB02DstDst0KpDown'] = computeBrVarWeights(ds, {'MC_DstSisterPdgId_heavy': 423, 'MC_DstSisterPdgId_light': 321}, 0.09/1.06) #Gamma 170 pdg 2020\n",
    "        _, wVar['BrB02DstDst0KstpUp'], wVar['BrB02DstDst0KstpDown'] = computeBrVarWeights(ds, {'MC_DstSisterPdgId_heavy': 423, 'MC_DstSisterPdgId_light': 323}, 0.5) # Guess\n",
    "        _, wVar['BrB02DstDstpK0Up'], wVar['BrB02DstDstpK0Down'] = computeBrVarWeights(ds, {'MC_DstSisterPdgId_heavy': 413, 'MC_DstSisterPdgId_light': 311}, 0.5/5.3) #Gamma 173 pdg 2020\n",
    "        _, wVar['BrB02DstDstpKst0Up'], wVar['BrB02DstDstpKst0Down'] = computeBrVarWeights(ds, {'MC_DstSisterPdgId_heavy': 413, 'MC_DstSisterPdgId_light': 313}, 0.5) # Guess\n",
    "    if n == 'DstmDp':\n",
    "        _, wVar['BrB02DstDpK0Up'], wVar['BrB02DstDpK0Down'] = computeBrVarWeights(ds, {'MC_DstSisterPdgId_heavy': 411, 'MC_DstSisterPdgId_light': 311}, 0.5/3.2) #Gamma 172 pdg 2020\n",
    "        _, wVar['BrB02DstDpKst0Up'], wVar['BrB02DstDpKst0Down'] = computeBrVarWeights(ds, {'MC_DstSisterPdgId_heavy': 411, 'MC_DstSisterPdgId_light': 313}, 0.5) # Guess\n",
    "        _, wVar['BrB02DstDstpK0Up'], wVar['BrB02DstDstpK0Down'] = computeBrVarWeights(ds, {'MC_DstSisterPdgId_heavy': 413, 'MC_DstSisterPdgId_light': 311}, 0.2/2.7) #Gamma 173 pdg 2020\n",
    "        _, wVar['BrB02DstDstpKst0Up'], wVar['BrB02DstDstpKst0Down'] = computeBrVarWeights(ds, {'MC_DstSisterPdgId_heavy': 413, 'MC_DstSisterPdgId_light': 313}, 0.5) # Guess\n",
    "    if n == 'DstmDsp':\n",
    "        _, wVar['BrB02DstDsUp'], wVar['BrB02DstDsDown'] = computeBrVarWeights(ds, {'MC_DstSisterPdgId_heavy': 431}, 1.1/8.0) #Gamma 83 pdg 2020\n",
    "        _, wVar['BrB02DstDsstUp'], wVar['BrB02DstDsstDown'] = computeBrVarWeights(ds, {'MC_DstSisterPdgId_heavy': 433}, .14/1.77) #Gamma 85 pdg 2020\n",
    "        _, wVar['BrB02DstDs0stUp'], wVar['BrB02DstDs0stDown'] = computeBrVarWeights(ds, {'MC_DstSisterPdgId_heavy': 10431}, .6/1.5) #Gamma 95 pdg 2020\n",
    "        \n",
    "    # Correct the amount of random tracks from PV\n",
    "    weights['tkPVfrac'], wVar['tkPVfracUp'], wVar['tkPVfracDown'] = computeTksPVweights(ds)\n",
    "    \n",
    "    print 'Computing total weights'\n",
    "    weightsCentral = np.ones_like(ds['q2'])\n",
    "    for w in weights.values(): \n",
    "        weightsCentral *= w\n",
    "    wVar[''] = np.ones_like(weightsCentral)\n",
    "    \n",
    "    nGenExp = sMC.effMCgen['xsec'][0] * lumi_tot# * RDoMC_normRatio[0]\n",
    "    eff = [1, 0]\n",
    "    for f, df in [sMC.effMCgen['effGEN'], \n",
    "                  decayBR[n], \n",
    "                  sMC.effCand['effCAND'], \n",
    "                  sMC.getSkimEff(cat.name+'_trkCtrl_corr'),\n",
    "                 ]:\n",
    "        eff[0] *= f\n",
    "        eff[1] += np.square(df/f)\n",
    "    eff[1] = eff[0] * np.sqrt(eff[1])\n",
    "    nTotExp = nGenExp*eff[0]\n",
    "    \n",
    "    sel = {}\n",
    "    scale = {}\n",
    "    \n",
    "    latexTableString = {}\n",
    "    for k, selFun in sideSelecton.iteritems():\n",
    "        sel[k] = selFun(ds)\n",
    "        nTotSel = float(np.sum(sel[k]))\n",
    "        print 'N tot selected {}: {:.0f}'.format(k, nTotSel)\n",
    "        nExp = nTotExp * nTotSel / sel[k].shape[0]\n",
    "        print 'N tot expected {} (before weights): {:.0f}'.format(k, nExp)\n",
    "        nAux = nTotExp * np.sum(weightsCentral[sel[k]]) / sel[k].shape[0]\n",
    "        print 'N tot expected {} (after weights): {:.0f}'.format(k, nAux)\n",
    "        latexTableString[k] = '{:.0f} ({:.0f})'.format(nAux, nTotSel)\n",
    "        if not k in totalCounting.keys():\n",
    "            totalCounting[k] = [0, 0]\n",
    "        totalCounting[k][0] += nAux\n",
    "        totalCounting[k][1] += nTotSel\n",
    "        if nTotSel ==0: \n",
    "            nTotSel+=1\n",
    "        scale[k] = nExp/nTotSel\n",
    "    s = ' & '.join([latexTableString['AddTk_'+s+'_mHad'] for s in ['p', 'm', 'pp', 'pm', 'mm']])\n",
    "    print s\n",
    "    eventCountingStr[n] += ' & ' + s + '\\\\\\\\'\n",
    "    \n",
    "            \n",
    "    for name_wVar, v_wVar in wVar.iteritems():\n",
    "        h_name = n\n",
    "        if not name_wVar == '':\n",
    "            h_name += '__' + name_wVar\n",
    "        w = weightsCentral*v_wVar\n",
    "        \n",
    "        for k in sideVar.keys():\n",
    "            histo[k][h_name] = create_TH1D(\n",
    "                                           ds[sideVar[k]][sel[k]], \n",
    "                                           name=h_name, title=h_name, \n",
    "                                           binning=binning[k],\n",
    "                                           opt='underflow',\n",
    "                                           weights=w[sel[k]], scale_histo=scale[k]\n",
    "                                          )\n",
    "            \n",
    "s = ' & '.join(['{:.0f} ({:.0f})'.format(*totalCounting['AddTk_'+s+'_mHad']) for s in ['p', 'm', 'pp', 'pm', 'mm']]) + ' \\\\\\\\'\n",
    "eventCountingStr['tot'] += ' & ' + s"
   ]
  },
  {
   "cell_type": "markdown",
   "metadata": {},
   "source": [
    "# Create (pseudo-)data histogram"
   ]
  },
  {
   "cell_type": "code",
   "execution_count": 25,
   "metadata": {
    "ExecuteTime": {
     "end_time": "2020-09-01T12:14:44.410317Z",
     "start_time": "2020-09-01T12:14:44.289441Z"
    },
    "code_folding": []
   },
   "outputs": [],
   "source": [
    "if fit_real_data:\n",
    "    ds = dSet['data']\n",
    "    print 'N observed data signal region: {:.1f}k'.format(1e-3*ds['q2'].shape[0])\n",
    "    if useMVA:\n",
    "        print 'Evaluating MVA'\n",
    "        sMVA = computeVarMVA(ds)\n",
    "        histo['MVA']['data'] = create_TH1D(sMVA, name='data_obs', binning=binning['MVA'], opt='underflow,overflow')\n",
    "                \n",
    "    for i_q2 in range(len(binning['q2'])-1):\n",
    "        q2_l = binning['q2'][i_q2]\n",
    "        q2_h = binning['q2'][i_q2 + 1]\n",
    "        sel_q2 = np.logical_and(ds['q2'] > q2_l, ds['q2'] < q2_h)\n",
    "        for var in ['M2_miss', 'Est_mu']:\n",
    "            cat_name = var+'_q2bin'+str(i_q2)     \n",
    "            histo[cat_name]['data'] = create_TH1D(\n",
    "                                                  ds[var][sel_q2], \n",
    "                                                  name='data_obs', title='Data Obs',\n",
    "                                                  binning=binning[var][i_q2],\n",
    "                                                  opt='underflow,overflow'\n",
    "                                                 )\n",
    "    ds = dSetTkSide['data']\n",
    "    for k in sideVar.keys():\n",
    "        histo[k]['data'] = create_TH1D(\n",
    "                                       ds[sideVar[k]][sideSelecton[k](ds)], \n",
    "                                       name='data_obs', title='Data Obs', \n",
    "                                       binning=binning[k],\n",
    "                                       opt='underflow',\n",
    "                                      )\n",
    "    print 'N observed data control regions: ' + ' & '.join(['{:.0f}'.format(histo['AddTk_'+s+'_mHad']['data'].Integral()) for s in ['p', 'm', 'pp', 'pm', 'mm']]) + ' \\\\\\\\'\n",
    "        \n",
    "else:\n",
    "    if useMVA:\n",
    "        h = create_TH1D(np.array([0, 0]), name='data_obs', title='Data Obs', binning=binning['MVA'])\n",
    "        h.Reset()\n",
    "        for n, hMC in histo['MVA'].iteritems():\n",
    "                if not '__' in n and not n == 'data':\n",
    "                    scale = SM_RDst if 'tau' in n else 1.\n",
    "                    h.Add(hMC, scale)\n",
    "        h.Sumw2(0)\n",
    "        for i in range(1, h.GetNbinsX()+1):\n",
    "            h.SetBinContent(i, np.around(h.GetBinContent(i)))\n",
    "        h.Sumw2()\n",
    "        histo['MVA']['data'] = h\n",
    "    for i_q2 in range(len(binning['q2'])-1):\n",
    "        for var in ['M2_miss', 'Est_mu']:\n",
    "            cat_name = var+'_q2bin'+str(i_q2)\n",
    "            \n",
    "            h = create_TH1D(np.array([0, 0]), name='data_obs', title='Data Obs', binning=binning[var][i_q2])\n",
    "            h.Reset()\n",
    "            for n, hMC in histo[cat_name].iteritems():\n",
    "                if not '__' in n and not n == 'data':\n",
    "                    scale = SM_RDst if 'tau' in n else 1.\n",
    "                    h.Add(hMC, scale)\n",
    "            h.Sumw2(0)\n",
    "            for i in range(1, h.GetNbinsX()+1):\n",
    "                h.SetBinContent(i, np.around(h.GetBinContent(i)))\n",
    "            h.Sumw2()\n",
    "            histo[cat_name]['data'] = h\n",
    "            \n",
    "    for k in sideVar.keys():\n",
    "        h = create_TH1D(np.array([0, 0]), name='data_obs', title='Data Obs', \n",
    "                        binning=binning[k])\n",
    "        h.Reset()\n",
    "        for n, hMC in histo[k].iteritems():\n",
    "            if not '__' in n and not n == 'data':\n",
    "                scale = SM_RDst if 'tau' in n else 1.\n",
    "                h.Add(hMC, scale)\n",
    "        h.Sumw2(0)\n",
    "        for i in range(1, h.GetNbinsX()+1):\n",
    "            h.SetBinContent(i, np.around(h.GetBinContent(i)))\n",
    "        h.Sumw2()\n",
    "        histo[k]['data'] = h"
   ]
  },
  {
   "cell_type": "code",
   "execution_count": 26,
   "metadata": {
    "ExecuteTime": {
     "end_time": "2020-09-01T12:14:45.860046Z",
     "start_time": "2020-09-01T12:14:44.413801Z"
    },
    "scrolled": true
   },
   "outputs": [
    {
     "data": {
      "image/png": "[encoded data removed]",
      "text/plain": [
       "<IPython.core.display.Image object>"
      ]
     },
     "metadata": {},
     "output_type": "display_data"
    }
   ],
   "source": [
    "CMS_lumi.integrated_lumi = lumi_tot\n",
    "scale_dic = {'tau': SM_RDst}\n",
    "\n",
    "cSigPre = plot_gridVarQ2(CMS_lumi, binning, histo, scale_dic=scale_dic, min_y=0, logy=False)"
   ]
  },
  {
   "cell_type": "code",
   "execution_count": 27,
   "metadata": {
    "ExecuteTime": {
     "end_time": "2020-09-01T12:14:45.964447Z",
     "start_time": "2020-09-01T12:14:45.866350Z"
    }
   },
   "outputs": [
    {
     "data": {
      "image/png": "[encoded data removed]",
      "text/plain": [
       "<IPython.core.display.Image object>"
      ]
     },
     "metadata": {},
     "output_type": "display_data"
    }
   ],
   "source": [
    "if useMVA:\n",
    "    histo['MVA']['data'].GetXaxis().SetTitle('MVA score')\n",
    "    cMVAPre = plot_SingleCategory(CMS_lumi, histo['MVA'], scale_dic=scale_dic,\n",
    "                                  addText='', logy=True, legBkg=True,\n",
    "                                  procOrder = ['tau', 'DstD', 'Dstst', 'mu'],\n",
    "                                  min_y=1, tag='MVA', legLoc=[0.25, 0.4, 0.5, 0.7])"
   ]
  },
  {
   "cell_type": "code",
   "execution_count": 28,
   "metadata": {
    "ExecuteTime": {
     "end_time": "2020-09-01T12:14:46.318330Z",
     "start_time": "2020-09-01T12:14:45.970445Z"
    },
    "scrolled": true
   },
   "outputs": [
    {
     "data": {
      "image/png": "[encoded data removed]",
      "text/plain": [
       "<IPython.core.display.Image object>"
      ]
     },
     "metadata": {},
     "output_type": "display_data"
    },
    {
     "data": {
      "image/png": "[encoded data removed]",
      "text/plain": [
       "<IPython.core.display.Image object>"
      ]
     },
     "metadata": {},
     "output_type": "display_data"
    },
    {
     "data": {
      "image/png": "[encoded data removed]",
      "text/plain": [
       "<IPython.core.display.Image object>"
      ]
     },
     "metadata": {},
     "output_type": "display_data"
    },
    {
     "data": {
      "image/png": "[encoded data removed]",
      "text/plain": [
       "<IPython.core.display.Image object>"
      ]
     },
     "metadata": {},
     "output_type": "display_data"
    },
    {
     "data": {
      "image/png": "[encoded data removed]",
      "text/plain": [
       "<IPython.core.display.Image object>"
      ]
     },
     "metadata": {},
     "output_type": "display_data"
    },
    {
     "data": {
      "image/png": "[encoded data removed]",
      "text/plain": [
       "<IPython.core.display.Image object>"
      ]
     },
     "metadata": {},
     "output_type": "display_data"
    }
   ],
   "source": [
    "cSidePre = {}\n",
    "for k in np.sort(sideVar.keys()):\n",
    "    legLoc = [0.65, 0.4, 0.9, 0.7]\n",
    "    if 'MassVis' in sideVar[k]:\n",
    "        legLoc = [0.15, 0.45, 0.35, 0.75]\n",
    "    cSidePre[k] = plot_SingleCategory(CMS_lumi, histo[k], scale_dic=scale_dic,\n",
    "                                      xtitle=sideXtitle[k], addText=sideAddtext[k], \n",
    "                                      min_y=0, tag=k, legLoc=legLoc)"
   ]
  },
  {
   "cell_type": "code",
   "execution_count": 29,
   "metadata": {
    "ExecuteTime": {
     "end_time": "2020-09-01T12:14:47.463221Z",
     "start_time": "2020-09-01T12:14:46.322911Z"
    }
   },
   "outputs": [],
   "source": [
    "histo_file_dir = '/storage/user/ocerri/BPhysics/data/_root/histos4combine/'\n",
    "if not os.path.isdir(histo_file_dir):\n",
    "    os.makedirs(histo_file_dir)\n",
    "histo_file_loc = {}\n",
    "for cat_name, h_dic in histo.iteritems():\n",
    "    histo_file_loc[cat_name] = histo_file_dir+'{}_{}.root'.format(card_name, cat_name)\n",
    "    tf = rt.TFile(histo_file_loc[cat_name], 'recreate')\n",
    "    for v in h_dic.values():\n",
    "        v.Write()\n",
    "    tf.Close()\n",
    "    \n",
    "del dSet, dSetTkSide"
   ]
  },
  {
   "cell_type": "markdown",
   "metadata": {
    "heading_collapsed": true
   },
   "source": [
    "# Write the card"
   ]
  },
  {
   "cell_type": "code",
   "execution_count": 30,
   "metadata": {
    "ExecuteTime": {
     "end_time": "2020-09-01T12:14:47.498279Z",
     "start_time": "2020-09-01T12:14:47.468315Z"
    },
    "hidden": true
   },
   "outputs": [],
   "source": [
    "sig_processes = ['tau', 'mu']\n",
    "bkg_processes = ['DstmD0', 'DstmDp', 'DstmDsp', \n",
    "                 'BpDstmHc', 'BmDstmHc', 'antiB0DstmHc',\n",
    "                 'DstPip', 'DstPipPi0', \n",
    "                 'DstPi0', 'DstPipPim', 'DstPi0Pi0']\n",
    "processes = sig_processes + bkg_processes\n",
    "nProc = len(processes)\n",
    "categories = np.sort([k for k in histo.keys()])\n",
    "nCat = len(categories)"
   ]
  },
  {
   "cell_type": "code",
   "execution_count": 31,
   "metadata": {
    "ExecuteTime": {
     "end_time": "2020-09-01T12:14:47.537685Z",
     "start_time": "2020-09-01T12:14:47.503320Z"
    },
    "hidden": true
   },
   "outputs": [],
   "source": [
    "# number of different categories\n",
    "card = 'imax *\\n'\n",
    "# number of processes minus one\n",
    "card += 'jmax {}\\n'.format(len(processes)-1)\n",
    "# number of nuissance parameters\n",
    "card += 'kmax *\\n'\n",
    "card += 60*'-'+'\\n'"
   ]
  },
  {
   "cell_type": "code",
   "execution_count": 32,
   "metadata": {
    "ExecuteTime": {
     "end_time": "2020-09-01T12:14:47.569010Z",
     "start_time": "2020-09-01T12:14:47.543201Z"
    },
    "hidden": true
   },
   "outputs": [],
   "source": [
    "# shape file location\n",
    "for k in categories:\n",
    "    card += 'shapes * {} {} $PROCESS $PROCESS__$SYSTEMATIC\\n'.format(k, histo_file_loc[k])\n",
    "card += 60*'-'+'\\n'"
   ]
  },
  {
   "cell_type": "markdown",
   "metadata": {
    "heading_collapsed": true,
    "hidden": true
   },
   "source": [
    "### Number of events"
   ]
  },
  {
   "cell_type": "code",
   "execution_count": 33,
   "metadata": {
    "ExecuteTime": {
     "end_time": "2020-09-01T12:14:47.652004Z",
     "start_time": "2020-09-01T12:14:47.573726Z"
    },
    "hidden": true
   },
   "outputs": [],
   "source": [
    "# number of events observed\n",
    "card += 'bin ' + ' '.join(categories) + '\\n'\n",
    "obs = map(lambda k: '{:.0f}'.format(histo[k]['data'].Integral()), categories)\n",
    "obs = ' '.join(obs)\n",
    "card += 'observation ' + obs + '\\n'\n",
    "card += 60*'-'+'\\n'"
   ]
  },
  {
   "cell_type": "code",
   "execution_count": 34,
   "metadata": {
    "ExecuteTime": {
     "end_time": "2020-09-01T12:14:47.719827Z",
     "start_time": "2020-09-01T12:14:47.658990Z"
    },
    "hidden": true
   },
   "outputs": [],
   "source": [
    "# MC expected events\n",
    "aux_bin = ''\n",
    "aux_proc_name = ''\n",
    "aux_proc_id = ''\n",
    "aux_proc_rate = ''\n",
    "for c, p in itertools.product(categories, processes):\n",
    "    aux_bin += ' '+c\n",
    "    aux_proc_name += ' '+p\n",
    "    aux_proc_id += ' '+str(np.argmax(np.array(processes) == p))\n",
    "    aux_proc_rate += ' {:.2f}'.format(histo[c][p].Integral())\n",
    "    \n",
    "card += 'bin' + aux_bin + '\\n'\n",
    "card += 'process' + aux_proc_name + '\\n'\n",
    "# Zero or negative for sig and positive for bkg\n",
    "card += 'process' + aux_proc_id + '\\n'\n",
    "# Expected rate\n",
    "card += 'rate' + aux_proc_rate + '\\n'\n",
    "card += 60*'-'+'\\n'"
   ]
  },
  {
   "cell_type": "markdown",
   "metadata": {
    "heading_collapsed": true,
    "hidden": true
   },
   "source": [
    "## Systematic uncertainties"
   ]
  },
  {
   "cell_type": "markdown",
   "metadata": {
    "hidden": true
   },
   "source": [
    "### Scale systematics"
   ]
  },
  {
   "cell_type": "code",
   "execution_count": 35,
   "metadata": {
    "ExecuteTime": {
     "end_time": "2020-09-01T12:14:47.772489Z",
     "start_time": "2020-09-01T12:14:47.725284Z"
    },
    "hidden": true
   },
   "outputs": [],
   "source": [
    "#pp -> bb cros-section * luminosity\n",
    "card += 'xsecpp2bbXlumi lnN' + ' 1.5'*nProc*nCat + '\\n'"
   ]
  },
  {
   "cell_type": "code",
   "execution_count": 36,
   "metadata": {
    "ExecuteTime": {
     "end_time": "2020-09-01T12:14:47.868514Z",
     "start_time": "2020-09-01T12:14:47.778034Z"
    },
    "hidden": true
   },
   "outputs": [],
   "source": [
    "#Hadronization fraction of B0\n",
    "aux = ''\n",
    "for n in processes:\n",
    "    if n in ['tau', 'mu', 'DstmD0', 'DstmDp', 'DstmDsp', 'DstPi0', 'DstPipPim', 'DstPi0Pi0', 'antiB0DstmHc']: \n",
    "        aux += ' 1.3'\n",
    "    else: aux += ' -'\n",
    "card += 'b2B0Had lnN' + aux*nCat + '\\n'"
   ]
  },
  {
   "cell_type": "code",
   "execution_count": 37,
   "metadata": {
    "ExecuteTime": {
     "end_time": "2020-09-01T12:14:47.901893Z",
     "start_time": "2020-09-01T12:14:47.875377Z"
    },
    "hidden": true
   },
   "outputs": [],
   "source": [
    "#Hadronization fraction of B+\n",
    "aux = ''\n",
    "for n in processes:\n",
    "    if n in ['DstPip', 'DstPipPi0', 'BpDstmHc', 'BmDstmHc']: aux += ' 1.3'\n",
    "    else: aux += ' -'\n",
    "card += 'b2BpHad lnN' + aux*nCat + '\\n'"
   ]
  },
  {
   "cell_type": "code",
   "execution_count": 38,
   "metadata": {
    "ExecuteTime": {
     "end_time": "2020-09-01T12:14:47.971226Z",
     "start_time": "2020-09-01T12:14:47.907780Z"
    },
    "hidden": true
   },
   "outputs": [],
   "source": [
    "# Branching ratio uncertainty\n",
    "for n in processes:\n",
    "    if n in ['tau', 'DstPip', 'DstPi0', 'DstPipPim', 'DstPipPi0', 'DstPi0Pi0']: continue\n",
    "#     if n in ['tau', 'DstPip', 'DstPi0', 'DstPipPim', 'DstPipPi0', 'DstPi0Pi0', 'BmDstmHc']: continue\n",
    "    val = ' {:.2f}'.format(1+decayBR[n][1]/decayBR[n][0])\n",
    "    aux = ''\n",
    "    for nn in processes:\n",
    "        if nn == n: aux += val\n",
    "        else: aux += ' -'\n",
    "    card += n + 'Br lnN' + aux*nCat + '\\n'"
   ]
  },
  {
   "cell_type": "code",
   "execution_count": 39,
   "metadata": {
    "ExecuteTime": {
     "end_time": "2020-09-01T12:14:48.068693Z",
     "start_time": "2020-09-01T12:14:47.978042Z"
    },
    "hidden": true
   },
   "outputs": [],
   "source": [
    "# Branching ration uncertainty with isospin symmetry constraint\n",
    "val = ' {:.2f}'.format(1+decayBR['DstPip'][1]/decayBR['DstPip'][0]) #DstPi0 has no info\n",
    "aux = ''\n",
    "for n in processes:\n",
    "    if n in ['DstPip', 'DstPi0']: aux += val\n",
    "    else: aux += ' -'\n",
    "card += 'DstPiBr lnN' + aux*nCat + '\\n'\n",
    "\n",
    "val = ' {:.2f}'.format(1+decayBR['DstPipPim'][1]/decayBR['DstPipPim'][0]) #DstPipPim is the only one meaasured\n",
    "aux = ''\n",
    "for n in processes:\n",
    "    if n in ['DstPipPim', 'DstPipPi0', 'DstPi0Pi0']: aux += val\n",
    "    else: aux += ' -'\n",
    "card += 'DstPiPiBr lnN' + aux*nCat + '\\n'"
   ]
  },
  {
   "cell_type": "code",
   "execution_count": 40,
   "metadata": {
    "ExecuteTime": {
     "end_time": "2020-09-01T12:14:48.091957Z",
     "start_time": "2020-09-01T12:14:48.075611Z"
    },
    "hidden": true
   },
   "outputs": [],
   "source": [
    "card += 60*'-'+'\\n'"
   ]
  },
  {
   "cell_type": "markdown",
   "metadata": {
    "hidden": true
   },
   "source": [
    "### Shape Systematics"
   ]
  },
  {
   "cell_type": "code",
   "execution_count": 41,
   "metadata": {
    "ExecuteTime": {
     "end_time": "2020-09-01T12:14:48.184449Z",
     "start_time": "2020-09-01T12:14:48.098309Z"
    },
    "hidden": true
   },
   "outputs": [],
   "source": [
    "card += 'trg{}SF shape'.format(cat.trg) + ' 1.'*nProc*nCat + '\\n'"
   ]
  },
  {
   "cell_type": "code",
   "execution_count": 42,
   "metadata": {
    "ExecuteTime": {
     "end_time": "2020-09-01T12:14:48.258224Z",
     "start_time": "2020-09-01T12:14:48.190459Z"
    },
    "hidden": true
   },
   "outputs": [],
   "source": [
    "card += 'muonIdSF shape' + ' 1.'*nProc*nCat + '\\n'"
   ]
  },
  {
   "cell_type": "code",
   "execution_count": 43,
   "metadata": {
    "ExecuteTime": {
     "end_time": "2020-09-01T12:14:48.280993Z",
     "start_time": "2020-09-01T12:14:48.264657Z"
    },
    "hidden": true
   },
   "outputs": [],
   "source": [
    "aux = ''\n",
    "for cat in categories:\n",
    "    if cat.startswith('AddTk_'):\n",
    "        aux += ' 1.'*nProc\n",
    "    else: aux += ' -'*nProc\n",
    "card += 'tkPVfrac shape' + aux + '\\n'"
   ]
  },
  {
   "cell_type": "code",
   "execution_count": 44,
   "metadata": {
    "ExecuteTime": {
     "end_time": "2020-09-01T12:14:48.322795Z",
     "start_time": "2020-09-01T12:14:48.286756Z"
    },
    "hidden": true
   },
   "outputs": [],
   "source": [
    "# B0 pT spectrum\n",
    "aux = ''\n",
    "for p in processes:\n",
    "    if p in ['tau', 'mu', 'DstmD0', 'DstmDp', 'DstmDsp', 'DstPi0', 'DstPipPim', 'DstPi0Pi0']:\n",
    "        aux += ' 1.'\n",
    "    else:\n",
    "        aux += ' -'\n",
    "card += 'B0pT shape' + aux*nCat + '\\n'"
   ]
  },
  {
   "cell_type": "code",
   "execution_count": 45,
   "metadata": {
    "ExecuteTime": {
     "end_time": "2020-09-01T12:14:48.418945Z",
     "start_time": "2020-09-01T12:14:48.328236Z"
    },
    "hidden": true
   },
   "outputs": [],
   "source": [
    "# Form Factors from Hammer\n",
    "for n_pFF in ['R0', 'eig1', 'eig2', 'eig3']:\n",
    "    aux = ''\n",
    "    for p in processes:\n",
    "        if p in ['tau', 'mu']:\n",
    "            aux += ' 1.'\n",
    "        else:\n",
    "            aux += ' -'\n",
    "    card += 'B2DstCLN{} shape'.format(n_pFF) + aux*nCat + '\\n'"
   ]
  },
  {
   "cell_type": "code",
   "execution_count": 46,
   "metadata": {
    "ExecuteTime": {
     "end_time": "2020-09-01T12:14:48.464680Z",
     "start_time": "2020-09-01T12:14:48.425605Z"
    },
    "hidden": true
   },
   "outputs": [],
   "source": [
    "# Dstst mix composition\n",
    "aux = ''\n",
    "for p in processes:\n",
    "    if p == 'DstPip': aux += ' 1.'\n",
    "    else: aux += ' -'\n",
    "card += 'fDststWide shape' + aux*nCat + '\\n'"
   ]
  },
  {
   "cell_type": "code",
   "execution_count": 47,
   "metadata": {
    "ExecuteTime": {
     "end_time": "2020-09-01T12:14:48.537912Z",
     "start_time": "2020-09-01T12:14:48.469792Z"
    },
    "hidden": true
   },
   "outputs": [],
   "source": [
    "# Hc mix composition\n",
    "aux = ''\n",
    "for p in processes:\n",
    "    if p == 'DstmD0': aux += ' 1.'\n",
    "    else: aux += ' -'\n",
    "card += 'BrB02DstD0Kp shape' + aux*nCat + '\\n'\n",
    "card += 'BrB02DstD0Kstp shape' + aux*nCat + '\\n'\n",
    "card += 'BrB02DstDst0Kp shape' + aux*nCat + '\\n'\n",
    "card += 'BrB02DstDst0Kstp shape' + aux*nCat + '\\n'\n",
    "\n",
    "aux = ''\n",
    "for p in processes:\n",
    "    if p == 'DstmDp': aux += ' 1.'\n",
    "    else: aux += ' -'\n",
    "card += 'BrB02DstDpK0 shape' + aux*nCat + '\\n'\n",
    "card += 'BrB02DstDpKst0 shape' + aux*nCat + '\\n'\n",
    "\n",
    "aux = ''\n",
    "for p in processes:\n",
    "    if p == 'DstmDp' or p == 'DstmD0': aux += ' 1.'\n",
    "    else: aux += ' -'\n",
    "card += 'BrB02DstDstpK0 shape' + aux*nCat + '\\n'\n",
    "card += 'BrB02DstDstpKst0 shape' + aux*nCat + '\\n'\n",
    "\n",
    "aux = ''\n",
    "for p in processes:\n",
    "    if p == 'DstmDsp': aux += ' 1.'\n",
    "    else: aux += ' -'\n",
    "card += 'BrB02DstDs shape' + aux*nCat + '\\n'\n",
    "card += 'BrB02DstDsst shape' + aux*nCat + '\\n'\n",
    "card += 'BrB02DstDs0st shape' + aux*nCat + '\\n'"
   ]
  },
  {
   "cell_type": "markdown",
   "metadata": {
    "hidden": true
   },
   "source": [
    "### MC statistic systematics"
   ]
  },
  {
   "cell_type": "code",
   "execution_count": 48,
   "metadata": {
    "ExecuteTime": {
     "end_time": "2020-09-01T12:14:48.556987Z",
     "start_time": "2020-09-01T12:14:48.541888Z"
    },
    "hidden": true
   },
   "outputs": [],
   "source": [
    "card += '* autoMCStats 5 1 1\\n'\n",
    "card += 60*'-'+'\\n'"
   ]
  },
  {
   "cell_type": "markdown",
   "metadata": {
    "hidden": true
   },
   "source": [
    "### Defining groups of systematics"
   ]
  },
  {
   "cell_type": "code",
   "execution_count": 49,
   "metadata": {
    "ExecuteTime": {
     "end_time": "2020-09-01T12:14:48.606163Z",
     "start_time": "2020-09-01T12:14:48.561765Z"
    },
    "hidden": true
   },
   "outputs": [],
   "source": [
    "# autoMCStats group = defined by default when using autoMCStats\n",
    "aux_FF = ' '.join(['B2DstCLN'+n for n in ['R0', 'eig1', 'eig2', 'eig3']])\n",
    "card += 'B2DstFF group = ' + aux_FF + '\\n'"
   ]
  },
  {
   "cell_type": "code",
   "execution_count": 50,
   "metadata": {
    "ExecuteTime": {
     "end_time": "2020-09-01T12:14:48.659557Z",
     "start_time": "2020-09-01T12:14:48.610016Z"
    },
    "hidden": true
   },
   "outputs": [],
   "source": [
    "cardParts = card.split(60*'-'+'\\n')\n",
    "\n",
    "scaleNuis = []\n",
    "for ln in cardParts[4].split('\\n'):\n",
    "    scaleNuis.append(ln.split(' ')[0])\n",
    "    \n",
    "shapeNuis = []\n",
    "for ln in cardParts[5].split('\\n'):\n",
    "    if ln.startswith('* autoMCStats'):\n",
    "        continue\n",
    "    shapeNuis.append(ln.split(' ')[0])\n",
    "\n",
    "card += 'allSys group = ' + ' '.join(scaleNuis+shapeNuis) + '\\n'"
   ]
  },
  {
   "cell_type": "markdown",
   "metadata": {
    "hidden": true
   },
   "source": [
    "## Create output"
   ]
  },
  {
   "cell_type": "code",
   "execution_count": 51,
   "metadata": {
    "ExecuteTime": {
     "end_time": "2020-09-01T12:14:48.714667Z",
     "start_time": "2020-09-01T12:14:48.665070Z"
    },
    "hidden": true,
    "hide_input": false,
    "scrolled": true
   },
   "outputs": [
    {
     "name": "stdout",
     "output_type": "stream",
     "text": [
      "imax *\n",
      "jmax 12\n",
      "kmax *\n",
      "------------------------------------------------------------\n",
      "shapes * AddTk_m_mHad /storage/user/ocerri/BPhysics/data/_root/histos4combine/v10Asimov_high_AddTk_m_mHad.root $PROCESS $PROCESS__$SYSTEMATIC\n",
      "shapes * AddTk_mm_mHad /storage/user/ocerri/BPhysics/data/_root/histos4combine/v10Asimov_high_AddTk_mm_mHad.root $PROCESS $PROCESS__$SYSTEMATIC\n",
      "shapes * AddTk_p_mHad /storage/user/ocerri/BPhysics/data/_root/histos4combine/v10Asimov_high_AddTk_p_mHad.root $PROCESS $PROCESS__$SYSTEMATIC\n",
      "shapes * AddTk_pm_mHad /storage/user/ocerri/BPhysics/data/_root/histos4combine/v10Asimov_high_AddTk_pm_mHad.root $PROCESS $PROCESS__$SYSTEMATIC\n",
      "shapes * AddTk_pm_mVis /storage/user/ocerri/BPhysics/data/_root/histos4combine/v10Asimov_high_AddTk_pm_mVis.root $PROCESS $PROCESS__$SYSTEMATIC\n",
      "shapes * AddTk_pp_mHad /storage/user/ocerri/BPhysics/data/_root/histos4combine/v10Asimov_high_AddTk_pp_mHad.root $PROCESS $PROCESS__$SYSTEMATIC\n",
      "shapes * Est_mu_q2bin0 /storage/user/ocerri/BPhysics/data/_root/histos4combine/v10Asimov_high_Est_mu_q2bin0.root $PROCESS $PROCESS__$SYSTEMATIC\n",
      "shapes * Est_mu_q2bin1 /storage/user/ocerri/BPhysics/data/_root/histos4combine/v10Asimov_high_Est_mu_q2bin1.root $PROCESS $PROCESS__$SYSTEMATIC\n",
      "shapes * Est_mu_q2bin2 /storage/user/ocerri/BPhysics/data/_root/histos4combine/v10Asimov_high_Est_mu_q2bin2.root $PROCESS $PROCESS__$SYSTEMATIC\n",
      "shapes * Est_mu_q2bin3 /storage/user/ocerri/BPhysics/data/_root/histos4combine/v10Asimov_high_Est_mu_q2bin3.root $PROCESS $PROCESS__$SYSTEMATIC\n",
      "shapes * M2_miss_q2bin0 /storage/user/ocerri/BPhysics/data/_root/histos4combine/v10Asimov_high_M2_miss_q2bin0.root $PROCESS $PROCESS__$SYSTEMATIC\n",
      "shapes * M2_miss_q2bin1 /storage/user/ocerri/BPhysics/data/_root/histos4combine/v10Asimov_high_M2_miss_q2bin1.root $PROCESS $PROCESS__$SYSTEMATIC\n",
      "shapes * M2_miss_q2bin2 /storage/user/ocerri/BPhysics/data/_root/histos4combine/v10Asimov_high_M2_miss_q2bin2.root $PROCESS $PROCESS__$SYSTEMATIC\n",
      "shapes * M2_miss_q2bin3 /storage/user/ocerri/BPhysics/data/_root/histos4combine/v10Asimov_high_M2_miss_q2bin3.root $PROCESS $PROCESS__$SYSTEMATIC\n",
      "shapes * MVA /storage/user/ocerri/BPhysics/data/_root/histos4combine/v10Asimov_high_MVA.root $PROCESS $PROCESS__$SYSTEMATIC\n",
      "------------------------------------------------------------\n",
      "bin AddTk_m_mHad AddTk_mm_mHad AddTk_p_mHad AddTk_pm_mHad AddTk_pm_mVis AddTk_pp_mHad Est_mu_q2bin0 Est_mu_q2bin1 Est_mu_q2bin2 Est_mu_q2bin3 M2_miss_q2bin0 M2_miss_q2bin1 M2_miss_q2bin2 M2_miss_q2bin3 MVA\n",
      "observation 6704 235 16936 2427 2435 592 30788 78657 58308 4661 30788 78658 58310 4658 172415\n",
      "------------------------------------------------------------\n",
      "bin AddTk_m_mHad AddTk_m_mHad AddTk_m_mHad AddTk_m_mHad AddTk_m_mHad AddTk_m_mHad AddTk_m_mHad AddTk_m_mHad AddTk_m_mHad AddTk_m_mHad AddTk_m_mHad AddTk_m_mHad AddTk_m_mHad AddTk_mm_mHad AddTk_mm_mHad AddTk_mm_mHad AddTk_mm_mHad AddTk_mm_mHad AddTk_mm_mHad AddTk_mm_mHad AddTk_mm_mHad AddTk_mm_mHad AddTk_mm_mHad AddTk_mm_mHad AddTk_mm_mHad AddTk_mm_mHad AddTk_p_mHad AddTk_p_mHad AddTk_p_mHad AddTk_p_mHad AddTk_p_mHad AddTk_p_mHad AddTk_p_mHad AddTk_p_mHad AddTk_p_mHad AddTk_p_mHad AddTk_p_mHad AddTk_p_mHad AddTk_p_mHad AddTk_pm_mHad AddTk_pm_mHad AddTk_pm_mHad AddTk_pm_mHad AddTk_pm_mHad AddTk_pm_mHad AddTk_pm_mHad AddTk_pm_mHad AddTk_pm_mHad AddTk_pm_mHad AddTk_pm_mHad AddTk_pm_mHad AddTk_pm_mHad AddTk_pm_mVis AddTk_pm_mVis AddTk_pm_mVis AddTk_pm_mVis AddTk_pm_mVis AddTk_pm_mVis AddTk_pm_mVis AddTk_pm_mVis AddTk_pm_mVis AddTk_pm_mVis AddTk_pm_mVis AddTk_pm_mVis AddTk_pm_mVis AddTk_pp_mHad AddTk_pp_mHad AddTk_pp_mHad AddTk_pp_mHad AddTk_pp_mHad AddTk_pp_mHad AddTk_pp_mHad AddTk_pp_mHad AddTk_pp_mHad AddTk_pp_mHad AddTk_pp_mHad AddTk_pp_mHad AddTk_pp_mHad Est_mu_q2bin0 Est_mu_q2bin0 Est_mu_q2bin0 Est_mu_q2bin0 Est_mu_q2bin0 Est_mu_q2bin0 Est_mu_q2bin0 Est_mu_q2bin0 Est_mu_q2bin0 Est_mu_q2bin0 Est_mu_q2bin0 Est_mu_q2bin0 Est_mu_q2bin0 Est_mu_q2bin1 Est_mu_q2bin1 Est_mu_q2bin1 Est_mu_q2bin1 Est_mu_q2bin1 Est_mu_q2bin1 Est_mu_q2bin1 Est_mu_q2bin1 Est_mu_q2bin1 Est_mu_q2bin1 Est_mu_q2bin1 Est_mu_q2bin1 Est_mu_q2bin1 Est_mu_q2bin2 Est_mu_q2bin2 Est_mu_q2bin2 Est_mu_q2bin2 Est_mu_q2bin2 Est_mu_q2bin2 Est_mu_q2bin2 Est_mu_q2bin2 Est_mu_q2bin2 Est_mu_q2bin2 Est_mu_q2bin2 Est_mu_q2bin2 Est_mu_q2bin2 Est_mu_q2bin3 Est_mu_q2bin3 Est_mu_q2bin3 Est_mu_q2bin3 Est_mu_q2bin3 Est_mu_q2bin3 Est_mu_q2bin3 Est_mu_q2bin3 Est_mu_q2bin3 Est_mu_q2bin3 Est_mu_q2bin3 Est_mu_q2bin3 Est_mu_q2bin3 M2_miss_q2bin0 M2_miss_q2bin0 M2_miss_q2bin0 M2_miss_q2bin0 M2_miss_q2bin0 M2_miss_q2bin0 M2_miss_q2bin0 M2_miss_q2bin0 M2_miss_q2bin0 M2_miss_q2bin0 M2_miss_q2bin0 M2_miss_q2bin0 M2_miss_q2bin0 M2_miss_q2bin1 M2_miss_q2bin1 M2_miss_q2bin1 M2_miss_q2bin1 M2_miss_q2bin1 M2_miss_q2bin1 M2_miss_q2bin1 M2_miss_q2bin1 M2_miss_q2bin1 M2_miss_q2bin1 M2_miss_q2bin1 M2_miss_q2bin1 M2_miss_q2bin1 M2_miss_q2bin2 M2_miss_q2bin2 M2_miss_q2bin2 M2_miss_q2bin2 M2_miss_q2bin2 M2_miss_q2bin2 M2_miss_q2bin2 M2_miss_q2bin2 M2_miss_q2bin2 M2_miss_q2bin2 M2_miss_q2bin2 M2_miss_q2bin2 M2_miss_q2bin2 M2_miss_q2bin3 M2_miss_q2bin3 M2_miss_q2bin3 M2_miss_q2bin3 M2_miss_q2bin3 M2_miss_q2bin3 M2_miss_q2bin3 M2_miss_q2bin3 M2_miss_q2bin3 M2_miss_q2bin3 M2_miss_q2bin3 M2_miss_q2bin3 M2_miss_q2bin3 MVA MVA MVA MVA MVA MVA MVA MVA MVA MVA MVA MVA MVA\n",
      "process tau mu DstmD0 DstmDp DstmDsp BpDstmHc BmDstmHc antiB0DstmHc DstPip DstPipPi0 DstPi0 DstPipPim DstPi0Pi0 tau mu DstmD0 DstmDp DstmDsp BpDstmHc BmDstmHc antiB0DstmHc DstPip DstPipPi0 DstPi0 DstPipPim DstPi0Pi0 tau mu DstmD0 DstmDp DstmDsp BpDstmHc BmDstmHc antiB0DstmHc DstPip DstPipPi0 DstPi0 DstPipPim DstPi0Pi0 tau mu DstmD0 DstmDp DstmDsp BpDstmHc BmDstmHc antiB0DstmHc DstPip DstPipPi0 DstPi0 DstPipPim DstPi0Pi0 tau mu DstmD0 DstmDp DstmDsp BpDstmHc BmDstmHc antiB0DstmHc DstPip DstPipPi0 DstPi0 DstPipPim DstPi0Pi0 tau mu DstmD0 DstmDp DstmDsp BpDstmHc BmDstmHc antiB0DstmHc DstPip DstPipPi0 DstPi0 DstPipPim DstPi0Pi0 tau mu DstmD0 DstmDp DstmDsp BpDstmHc BmDstmHc antiB0DstmHc DstPip DstPipPi0 DstPi0 DstPipPim DstPi0Pi0 tau mu DstmD0 DstmDp DstmDsp BpDstmHc BmDstmHc antiB0DstmHc DstPip DstPipPi0 DstPi0 DstPipPim DstPi0Pi0 tau mu DstmD0 DstmDp DstmDsp BpDstmHc BmDstmHc antiB0DstmHc DstPip DstPipPi0 DstPi0 DstPipPim DstPi0Pi0 tau mu DstmD0 DstmDp DstmDsp BpDstmHc BmDstmHc antiB0DstmHc DstPip DstPipPi0 DstPi0 DstPipPim DstPi0Pi0 tau mu DstmD0 DstmDp DstmDsp BpDstmHc BmDstmHc antiB0DstmHc DstPip DstPipPi0 DstPi0 DstPipPim DstPi0Pi0 tau mu DstmD0 DstmDp DstmDsp BpDstmHc BmDstmHc antiB0DstmHc DstPip DstPipPi0 DstPi0 DstPipPim DstPi0Pi0 tau mu DstmD0 DstmDp DstmDsp BpDstmHc BmDstmHc antiB0DstmHc DstPip DstPipPi0 DstPi0 DstPipPim DstPi0Pi0 tau mu DstmD0 DstmDp DstmDsp BpDstmHc BmDstmHc antiB0DstmHc DstPip DstPipPi0 DstPi0 DstPipPim DstPi0Pi0 tau mu DstmD0 DstmDp DstmDsp BpDstmHc BmDstmHc antiB0DstmHc DstPip DstPipPi0 DstPi0 DstPipPim DstPi0Pi0\n",
      "process 0 1 2 3 4 5 6 7 8 9 10 11 12 0 1 2 3 4 5 6 7 8 9 10 11 12 0 1 2 3 4 5 6 7 8 9 10 11 12 0 1 2 3 4 5 6 7 8 9 10 11 12 0 1 2 3 4 5 6 7 8 9 10 11 12 0 1 2 3 4 5 6 7 8 9 10 11 12 0 1 2 3 4 5 6 7 8 9 10 11 12 0 1 2 3 4 5 6 7 8 9 10 11 12 0 1 2 3 4 5 6 7 8 9 10 11 12 0 1 2 3 4 5 6 7 8 9 10 11 12 0 1 2 3 4 5 6 7 8 9 10 11 12 0 1 2 3 4 5 6 7 8 9 10 11 12 0 1 2 3 4 5 6 7 8 9 10 11 12 0 1 2 3 4 5 6 7 8 9 10 11 12 0 1 2 3 4 5 6 7 8 9 10 11 12\n",
      "rate 147.49 5821.98 16.89 9.45 46.33 0.28 53.85 5.75 138.96 13.13 218.54 308.02 22.52 5.36 201.77 0.82 0.79 0.92 0.00 1.85 0.13 4.83 0.29 9.75 10.22 0.39 172.15 6677.50 43.45 7.80 45.06 5.91 3.03 15.65 8507.99 914.95 244.62 386.67 25.69 12.39 617.21 76.45 21.19 50.14 1.45 3.11 16.13 366.20 42.69 29.64 1191.63 3.86 12.58 622.08 78.89 21.19 52.62 1.50 3.11 16.13 368.18 42.69 29.79 1192.25 3.91 4.96 269.99 1.44 0.14 3.20 1.78 0.12 0.44 249.74 28.99 22.64 12.89 1.06 37.58 29917.33 0.16 0.28 47.00 0.11 0.63 1.47 250.48 3.22 544.95 1.18 9.40 1380.27 73144.66 0.85 4.04 474.42 0.25 3.88 4.60 1550.16 113.83 2655.06 55.28 194.89 3166.26 52590.38 13.84 55.78 125.38 2.37 31.09 46.05 1327.15 170.76 2456.60 87.20 357.42 391.05 4274.63 4.83 19.74 1.98 1.02 7.20 10.05 46.06 9.65 123.09 5.18 28.31 37.58 29917.33 0.16 0.28 47.00 0.11 0.63 1.47 250.48 3.22 544.95 1.18 9.40 1380.27 73144.66 0.85 4.04 474.42 0.25 3.88 4.60 1550.16 113.83 2655.06 55.28 194.89 3166.26 52590.38 13.84 55.78 125.38 2.37 31.09 46.05 1327.15 170.76 2456.60 87.20 357.42 391.05 4274.63 4.83 19.74 1.98 1.02 7.20 10.05 46.06 9.65 123.09 5.18 28.31 4975.16 159926.99 19.67 79.83 648.79 3.76 42.80 62.17 3173.85 297.46 5779.70 148.85 590.02\n",
      "------------------------------------------------------------\n",
      "xsecpp2bbXlumi lnN 1.5 1.5 1.5 1.5 1.5 1.5 1.5 1.5 1.5 1.5 1.5 1.5 1.5 1.5 1.5 1.5 1.5 1.5 1.5 1.5 1.5 1.5 1.5 1.5 1.5 1.5 1.5 1.5 1.5 1.5 1.5 1.5 1.5 1.5 1.5 1.5 1.5 1.5 1.5 1.5 1.5 1.5 1.5 1.5 1.5 1.5 1.5 1.5 1.5 1.5 1.5 1.5 1.5 1.5 1.5 1.5 1.5 1.5 1.5 1.5 1.5 1.5 1.5 1.5 1.5 1.5 1.5 1.5 1.5 1.5 1.5 1.5 1.5 1.5 1.5 1.5 1.5 1.5 1.5 1.5 1.5 1.5 1.5 1.5 1.5 1.5 1.5 1.5 1.5 1.5 1.5 1.5 1.5 1.5 1.5 1.5 1.5 1.5 1.5 1.5 1.5 1.5 1.5 1.5 1.5 1.5 1.5 1.5 1.5 1.5 1.5 1.5 1.5 1.5 1.5 1.5 1.5 1.5 1.5 1.5 1.5 1.5 1.5 1.5 1.5 1.5 1.5 1.5 1.5 1.5 1.5 1.5 1.5 1.5 1.5 1.5 1.5 1.5 1.5 1.5 1.5 1.5 1.5 1.5 1.5 1.5 1.5 1.5 1.5 1.5 1.5 1.5 1.5 1.5 1.5 1.5 1.5 1.5 1.5 1.5 1.5 1.5 1.5 1.5 1.5 1.5 1.5 1.5 1.5 1.5 1.5 1.5 1.5 1.5 1.5 1.5 1.5 1.5 1.5 1.5 1.5 1.5 1.5 1.5 1.5 1.5 1.5 1.5 1.5 1.5 1.5 1.5 1.5 1.5 1.5\n",
      "b2B0Had lnN 1.3 1.3 1.3 1.3 1.3 - - 1.3 - - 1.3 1.3 1.3 1.3 1.3 1.3 1.3 1.3 - - 1.3 - - 1.3 1.3 1.3 1.3 1.3 1.3 1.3 1.3 - - 1.3 - - 1.3 1.3 1.3 1.3 1.3 1.3 1.3 1.3 - - 1.3 - - 1.3 1.3 1.3 1.3 1.3 1.3 1.3 1.3 - - 1.3 - - 1.3 1.3 1.3 1.3 1.3 1.3 1.3 1.3 - - 1.3 - - 1.3 1.3 1.3 1.3 1.3 1.3 1.3 1.3 - - 1.3 - - 1.3 1.3 1.3 1.3 1.3 1.3 1.3 1.3 - - 1.3 - - 1.3 1.3 1.3 1.3 1.3 1.3 1.3 1.3 - - 1.3 - - 1.3 1.3 1.3 1.3 1.3 1.3 1.3 1.3 - - 1.3 - - 1.3 1.3 1.3 1.3 1.3 1.3 1.3 1.3 - - 1.3 - - 1.3 1.3 1.3 1.3 1.3 1.3 1.3 1.3 - - 1.3 - - 1.3 1.3 1.3 1.3 1.3 1.3 1.3 1.3 - - 1.3 - - 1.3 1.3 1.3 1.3 1.3 1.3 1.3 1.3 - - 1.3 - - 1.3 1.3 1.3 1.3 1.3 1.3 1.3 1.3 - - 1.3 - - 1.3 1.3 1.3\n",
      "b2BpHad lnN - - - - - 1.3 1.3 - 1.3 1.3 - - - - - - - - 1.3 1.3 - 1.3 1.3 - - - - - - - - 1.3 1.3 - 1.3 1.3 - - - - - - - - 1.3 1.3 - 1.3 1.3 - - - - - - - - 1.3 1.3 - 1.3 1.3 - - - - - - - - 1.3 1.3 - 1.3 1.3 - - - - - - - - 1.3 1.3 - 1.3 1.3 - - - - - - - - 1.3 1.3 - 1.3 1.3 - - - - - - - - 1.3 1.3 - 1.3 1.3 - - - - - - - - 1.3 1.3 - 1.3 1.3 - - - - - - - - 1.3 1.3 - 1.3 1.3 - - - - - - - - 1.3 1.3 - 1.3 1.3 - - - - - - - - 1.3 1.3 - 1.3 1.3 - - - - - - - - 1.3 1.3 - 1.3 1.3 - - - - - - - - 1.3 1.3 - 1.3 1.3 - - -\n",
      "muBr lnN - 1.03 - - - - - - - - - - - - 1.03 - - - - - - - - - - - - 1.03 - - - - - - - - - - - - 1.03 - - - - - - - - - - - - 1.03 - - - - - - - - - - - - 1.03 - - - - - - - - - - - - 1.03 - - - - - - - - - - - - 1.03 - - - - - - - - - - - - 1.03 - - - - - - - - - - - - 1.03 - - - - - - - - - - - - 1.03 - - - - - - - - - - - - 1.03 - - - - - - - - - - - - 1.03 - - - - - - - - - - - - 1.03 - - - - - - - - - - - - 1.03 - - - - - - - - - - -\n",
      "DstmD0Br lnN - - 1.09 - - - - - - - - - - - - 1.09 - - - - - - - - - - - - 1.09 - - - - - - - - - - - - 1.09 - - - - - - - - - - - - 1.09 - - - - - - - - - - - - 1.09 - - - - - - - - - - - - 1.09 - - - - - - - - - - - - 1.09 - - - - - - - - - - - - 1.09 - - - - - - - - - - - - 1.09 - - - - - - - - - - - - 1.09 - - - - - - - - - - - - 1.09 - - - - - - - - - - - - 1.09 - - - - - - - - - - - - 1.09 - - - - - - - - - - - - 1.09 - - - - - - - - - -\n",
      "DstmDpBr lnN - - - 1.18 - - - - - - - - - - - - 1.18 - - - - - - - - - - - - 1.18 - - - - - - - - - - - - 1.18 - - - - - - - - - - - - 1.18 - - - - - - - - - - - - 1.18 - - - - - - - - - - - - 1.18 - - - - - - - - - - - - 1.18 - - - - - - - - - - - - 1.18 - - - - - - - - - - - - 1.18 - - - - - - - - - - - - 1.18 - - - - - - - - - - - - 1.18 - - - - - - - - - - - - 1.18 - - - - - - - - - - - - 1.18 - - - - - - - - - - - - 1.18 - - - - - - - - -\n",
      "DstmDspBr lnN - - - - 1.11 - - - - - - - - - - - - 1.11 - - - - - - - - - - - - 1.11 - - - - - - - - - - - - 1.11 - - - - - - - - - - - - 1.11 - - - - - - - - - - - - 1.11 - - - - - - - - - - - - 1.11 - - - - - - - - - - - - 1.11 - - - - - - - - - - - - 1.11 - - - - - - - - - - - - 1.11 - - - - - - - - - - - - 1.11 - - - - - - - - - - - - 1.11 - - - - - - - - - - - - 1.11 - - - - - - - - - - - - 1.11 - - - - - - - - - - - - 1.11 - - - - - - - -\n",
      "BpDstmHcBr lnN - - - - - 1.22 - - - - - - - - - - - - 1.22 - - - - - - - - - - - - 1.22 - - - - - - - - - - - - 1.22 - - - - - - - - - - - - 1.22 - - - - - - - - - - - - 1.22 - - - - - - - - - - - - 1.22 - - - - - - - - - - - - 1.22 - - - - - - - - - - - - 1.22 - - - - - - - - - - - - 1.22 - - - - - - - - - - - - 1.22 - - - - - - - - - - - - 1.22 - - - - - - - - - - - - 1.22 - - - - - - - - - - - - 1.22 - - - - - - - - - - - - 1.22 - - - - - - -\n",
      "BmDstmHcBr lnN - - - - - - 1.20 - - - - - - - - - - - - 1.20 - - - - - - - - - - - - 1.20 - - - - - - - - - - - - 1.20 - - - - - - - - - - - - 1.20 - - - - - - - - - - - - 1.20 - - - - - - - - - - - - 1.20 - - - - - - - - - - - - 1.20 - - - - - - - - - - - - 1.20 - - - - - - - - - - - - 1.20 - - - - - - - - - - - - 1.20 - - - - - - - - - - - - 1.20 - - - - - - - - - - - - 1.20 - - - - - - - - - - - - 1.20 - - - - - - - - - - - - 1.20 - - - - - -\n",
      "antiB0DstmHcBr lnN - - - - - - - 1.19 - - - - - - - - - - - - 1.19 - - - - - - - - - - - - 1.19 - - - - - - - - - - - - 1.19 - - - - - - - - - - - - 1.19 - - - - - - - - - - - - 1.19 - - - - - - - - - - - - 1.19 - - - - - - - - - - - - 1.19 - - - - - - - - - - - - 1.19 - - - - - - - - - - - - 1.19 - - - - - - - - - - - - 1.19 - - - - - - - - - - - - 1.19 - - - - - - - - - - - - 1.19 - - - - - - - - - - - - 1.19 - - - - - - - - - - - - 1.19 - - - - -\n",
      "DstPiBr lnN - - - - - - - - 1.07 - 1.07 - - - - - - - - - - 1.07 - 1.07 - - - - - - - - - - 1.07 - 1.07 - - - - - - - - - - 1.07 - 1.07 - - - - - - - - - - 1.07 - 1.07 - - - - - - - - - - 1.07 - 1.07 - - - - - - - - - - 1.07 - 1.07 - - - - - - - - - - 1.07 - 1.07 - - - - - - - - - - 1.07 - 1.07 - - - - - - - - - - 1.07 - 1.07 - - - - - - - - - - 1.07 - 1.07 - - - - - - - - - - 1.07 - 1.07 - - - - - - - - - - 1.07 - 1.07 - - - - - - - - - - 1.07 - 1.07 - - - - - - - - - - 1.07 - 1.07 - -\n",
      "DstPiPiBr lnN - - - - - - - - - 1.36 - 1.36 1.36 - - - - - - - - - 1.36 - 1.36 1.36 - - - - - - - - - 1.36 - 1.36 1.36 - - - - - - - - - 1.36 - 1.36 1.36 - - - - - - - - - 1.36 - 1.36 1.36 - - - - - - - - - 1.36 - 1.36 1.36 - - - - - - - - - 1.36 - 1.36 1.36 - - - - - - - - - 1.36 - 1.36 1.36 - - - - - - - - - 1.36 - 1.36 1.36 - - - - - - - - - 1.36 - 1.36 1.36 - - - - - - - - - 1.36 - 1.36 1.36 - - - - - - - - - 1.36 - 1.36 1.36 - - - - - - - - - 1.36 - 1.36 1.36 - - - - - - - - - 1.36 - 1.36 1.36 - - - - - - - - - 1.36 - 1.36 1.36\n",
      "------------------------------------------------------------\n",
      "trgMu12_IP6SF shape 1. 1. 1. 1. 1. 1. 1. 1. 1. 1. 1. 1. 1. 1. 1. 1. 1. 1. 1. 1. 1. 1. 1. 1. 1. 1. 1. 1. 1. 1. 1. 1. 1. 1. 1. 1. 1. 1. 1. 1. 1. 1. 1. 1. 1. 1. 1. 1. 1. 1. 1. 1. 1. 1. 1. 1. 1. 1. 1. 1. 1. 1. 1. 1. 1. 1. 1. 1. 1. 1. 1. 1. 1. 1. 1. 1. 1. 1. 1. 1. 1. 1. 1. 1. 1. 1. 1. 1. 1. 1. 1. 1. 1. 1. 1. 1. 1. 1. 1. 1. 1. 1. 1. 1. 1. 1. 1. 1. 1. 1. 1. 1. 1. 1. 1. 1. 1. 1. 1. 1. 1. 1. 1. 1. 1. 1. 1. 1. 1. 1. 1. 1. 1. 1. 1. 1. 1. 1. 1. 1. 1. 1. 1. 1. 1. 1. 1. 1. 1. 1. 1. 1. 1. 1. 1. 1. 1. 1. 1. 1. 1. 1. 1. 1. 1. 1. 1. 1. 1. 1. 1. 1. 1. 1. 1. 1. 1. 1. 1. 1. 1. 1. 1. 1. 1. 1. 1. 1. 1. 1. 1. 1. 1. 1. 1.\n",
      "muonIdSF shape 1. 1. 1. 1. 1. 1. 1. 1. 1. 1. 1. 1. 1. 1. 1. 1. 1. 1. 1. 1. 1. 1. 1. 1. 1. 1. 1. 1. 1. 1. 1. 1. 1. 1. 1. 1. 1. 1. 1. 1. 1. 1. 1. 1. 1. 1. 1. 1. 1. 1. 1. 1. 1. 1. 1. 1. 1. 1. 1. 1. 1. 1. 1. 1. 1. 1. 1. 1. 1. 1. 1. 1. 1. 1. 1. 1. 1. 1. 1. 1. 1. 1. 1. 1. 1. 1. 1. 1. 1. 1. 1. 1. 1. 1. 1. 1. 1. 1. 1. 1. 1. 1. 1. 1. 1. 1. 1. 1. 1. 1. 1. 1. 1. 1. 1. 1. 1. 1. 1. 1. 1. 1. 1. 1. 1. 1. 1. 1. 1. 1. 1. 1. 1. 1. 1. 1. 1. 1. 1. 1. 1. 1. 1. 1. 1. 1. 1. 1. 1. 1. 1. 1. 1. 1. 1. 1. 1. 1. 1. 1. 1. 1. 1. 1. 1. 1. 1. 1. 1. 1. 1. 1. 1. 1. 1. 1. 1. 1. 1. 1. 1. 1. 1. 1. 1. 1. 1. 1. 1. 1. 1. 1. 1. 1. 1.\n",
      "tkPVfrac shape 1. 1. 1. 1. 1. 1. 1. 1. 1. 1. 1. 1. 1. 1. 1. 1. 1. 1. 1. 1. 1. 1. 1. 1. 1. 1. 1. 1. 1. 1. 1. 1. 1. 1. 1. 1. 1. 1. 1. 1. 1. 1. 1. 1. 1. 1. 1. 1. 1. 1. 1. 1. 1. 1. 1. 1. 1. 1. 1. 1. 1. 1. 1. 1. 1. 1. 1. 1. 1. 1. 1. 1. 1. 1. 1. 1. 1. 1. - - - - - - - - - - - - - - - - - - - - - - - - - - - - - - - - - - - - - - - - - - - - - - - - - - - - - - - - - - - - - - - - - - - - - - - - - - - - - - - - - - - - - - - - - - - - - - - - - - - - - - - - - - - - - - - - - - - - -\n",
      "B0pT shape 1. 1. 1. 1. 1. - - - - - 1. 1. 1. 1. 1. 1. 1. 1. - - - - - 1. 1. 1. 1. 1. 1. 1. 1. - - - - - 1. 1. 1. 1. 1. 1. 1. 1. - - - - - 1. 1. 1. 1. 1. 1. 1. 1. - - - - - 1. 1. 1. 1. 1. 1. 1. 1. - - - - - 1. 1. 1. 1. 1. 1. 1. 1. - - - - - 1. 1. 1. 1. 1. 1. 1. 1. - - - - - 1. 1. 1. 1. 1. 1. 1. 1. - - - - - 1. 1. 1. 1. 1. 1. 1. 1. - - - - - 1. 1. 1. 1. 1. 1. 1. 1. - - - - - 1. 1. 1. 1. 1. 1. 1. 1. - - - - - 1. 1. 1. 1. 1. 1. 1. 1. - - - - - 1. 1. 1. 1. 1. 1. 1. 1. - - - - - 1. 1. 1. 1. 1. 1. 1. 1. - - - - - 1. 1. 1.\n",
      "B2DstCLNR0 shape 1. 1. - - - - - - - - - - - 1. 1. - - - - - - - - - - - 1. 1. - - - - - - - - - - - 1. 1. - - - - - - - - - - - 1. 1. - - - - - - - - - - - 1. 1. - - - - - - - - - - - 1. 1. - - - - - - - - - - - 1. 1. - - - - - - - - - - - 1. 1. - - - - - - - - - - - 1. 1. - - - - - - - - - - - 1. 1. - - - - - - - - - - - 1. 1. - - - - - - - - - - - 1. 1. - - - - - - - - - - - 1. 1. - - - - - - - - - - - 1. 1. - - - - - - - - - - -\n",
      "B2DstCLNeig1 shape 1. 1. - - - - - - - - - - - 1. 1. - - - - - - - - - - - 1. 1. - - - - - - - - - - - 1. 1. - - - - - - - - - - - 1. 1. - - - - - - - - - - - 1. 1. - - - - - - - - - - - 1. 1. - - - - - - - - - - - 1. 1. - - - - - - - - - - - 1. 1. - - - - - - - - - - - 1. 1. - - - - - - - - - - - 1. 1. - - - - - - - - - - - 1. 1. - - - - - - - - - - - 1. 1. - - - - - - - - - - - 1. 1. - - - - - - - - - - - 1. 1. - - - - - - - - - - -\n",
      "B2DstCLNeig2 shape 1. 1. - - - - - - - - - - - 1. 1. - - - - - - - - - - - 1. 1. - - - - - - - - - - - 1. 1. - - - - - - - - - - - 1. 1. - - - - - - - - - - - 1. 1. - - - - - - - - - - - 1. 1. - - - - - - - - - - - 1. 1. - - - - - - - - - - - 1. 1. - - - - - - - - - - - 1. 1. - - - - - - - - - - - 1. 1. - - - - - - - - - - - 1. 1. - - - - - - - - - - - 1. 1. - - - - - - - - - - - 1. 1. - - - - - - - - - - - 1. 1. - - - - - - - - - - -\n",
      "B2DstCLNeig3 shape 1. 1. - - - - - - - - - - - 1. 1. - - - - - - - - - - - 1. 1. - - - - - - - - - - - 1. 1. - - - - - - - - - - - 1. 1. - - - - - - - - - - - 1. 1. - - - - - - - - - - - 1. 1. - - - - - - - - - - - 1. 1. - - - - - - - - - - - 1. 1. - - - - - - - - - - - 1. 1. - - - - - - - - - - - 1. 1. - - - - - - - - - - - 1. 1. - - - - - - - - - - - 1. 1. - - - - - - - - - - - 1. 1. - - - - - - - - - - - 1. 1. - - - - - - - - - - -\n",
      "fDststWide shape - - - - - - - - 1. - - - - - - - - - - - - 1. - - - - - - - - - - - - 1. - - - - - - - - - - - - 1. - - - - - - - - - - - - 1. - - - - - - - - - - - - 1. - - - - - - - - - - - - 1. - - - - - - - - - - - - 1. - - - - - - - - - - - - 1. - - - - - - - - - - - - 1. - - - - - - - - - - - - 1. - - - - - - - - - - - - 1. - - - - - - - - - - - - 1. - - - - - - - - - - - - 1. - - - - - - - - - - - - 1. - - - -\n",
      "BrB02DstD0Kp shape - - 1. - - - - - - - - - - - - 1. - - - - - - - - - - - - 1. - - - - - - - - - - - - 1. - - - - - - - - - - - - 1. - - - - - - - - - - - - 1. - - - - - - - - - - - - 1. - - - - - - - - - - - - 1. - - - - - - - - - - - - 1. - - - - - - - - - - - - 1. - - - - - - - - - - - - 1. - - - - - - - - - - - - 1. - - - - - - - - - - - - 1. - - - - - - - - - - - - 1. - - - - - - - - - - - - 1. - - - - - - - - - -\n",
      "BrB02DstD0Kstp shape - - 1. - - - - - - - - - - - - 1. - - - - - - - - - - - - 1. - - - - - - - - - - - - 1. - - - - - - - - - - - - 1. - - - - - - - - - - - - 1. - - - - - - - - - - - - 1. - - - - - - - - - - - - 1. - - - - - - - - - - - - 1. - - - - - - - - - - - - 1. - - - - - - - - - - - - 1. - - - - - - - - - - - - 1. - - - - - - - - - - - - 1. - - - - - - - - - - - - 1. - - - - - - - - - - - - 1. - - - - - - - - - -\n",
      "BrB02DstDst0Kp shape - - 1. - - - - - - - - - - - - 1. - - - - - - - - - - - - 1. - - - - - - - - - - - - 1. - - - - - - - - - - - - 1. - - - - - - - - - - - - 1. - - - - - - - - - - - - 1. - - - - - - - - - - - - 1. - - - - - - - - - - - - 1. - - - - - - - - - - - - 1. - - - - - - - - - - - - 1. - - - - - - - - - - - - 1. - - - - - - - - - - - - 1. - - - - - - - - - - - - 1. - - - - - - - - - - - - 1. - - - - - - - - - -\n",
      "BrB02DstDst0Kstp shape - - 1. - - - - - - - - - - - - 1. - - - - - - - - - - - - 1. - - - - - - - - - - - - 1. - - - - - - - - - - - - 1. - - - - - - - - - - - - 1. - - - - - - - - - - - - 1. - - - - - - - - - - - - 1. - - - - - - - - - - - - 1. - - - - - - - - - - - - 1. - - - - - - - - - - - - 1. - - - - - - - - - - - - 1. - - - - - - - - - - - - 1. - - - - - - - - - - - - 1. - - - - - - - - - - - - 1. - - - - - - - - - -\n",
      "BrB02DstDpK0 shape - - - 1. - - - - - - - - - - - - 1. - - - - - - - - - - - - 1. - - - - - - - - - - - - 1. - - - - - - - - - - - - 1. - - - - - - - - - - - - 1. - - - - - - - - - - - - 1. - - - - - - - - - - - - 1. - - - - - - - - - - - - 1. - - - - - - - - - - - - 1. - - - - - - - - - - - - 1. - - - - - - - - - - - - 1. - - - - - - - - - - - - 1. - - - - - - - - - - - - 1. - - - - - - - - - - - - 1. - - - - - - - - -\n",
      "BrB02DstDpKst0 shape - - - 1. - - - - - - - - - - - - 1. - - - - - - - - - - - - 1. - - - - - - - - - - - - 1. - - - - - - - - - - - - 1. - - - - - - - - - - - - 1. - - - - - - - - - - - - 1. - - - - - - - - - - - - 1. - - - - - - - - - - - - 1. - - - - - - - - - - - - 1. - - - - - - - - - - - - 1. - - - - - - - - - - - - 1. - - - - - - - - - - - - 1. - - - - - - - - - - - - 1. - - - - - - - - - - - - 1. - - - - - - - - -\n",
      "BrB02DstDstpK0 shape - - 1. 1. - - - - - - - - - - - 1. 1. - - - - - - - - - - - 1. 1. - - - - - - - - - - - 1. 1. - - - - - - - - - - - 1. 1. - - - - - - - - - - - 1. 1. - - - - - - - - - - - 1. 1. - - - - - - - - - - - 1. 1. - - - - - - - - - - - 1. 1. - - - - - - - - - - - 1. 1. - - - - - - - - - - - 1. 1. - - - - - - - - - - - 1. 1. - - - - - - - - - - - 1. 1. - - - - - - - - - - - 1. 1. - - - - - - - - - - - 1. 1. - - - - - - - - -\n",
      "BrB02DstDstpKst0 shape - - 1. 1. - - - - - - - - - - - 1. 1. - - - - - - - - - - - 1. 1. - - - - - - - - - - - 1. 1. - - - - - - - - - - - 1. 1. - - - - - - - - - - - 1. 1. - - - - - - - - - - - 1. 1. - - - - - - - - - - - 1. 1. - - - - - - - - - - - 1. 1. - - - - - - - - - - - 1. 1. - - - - - - - - - - - 1. 1. - - - - - - - - - - - 1. 1. - - - - - - - - - - - 1. 1. - - - - - - - - - - - 1. 1. - - - - - - - - - - - 1. 1. - - - - - - - - -\n",
      "BrB02DstDs shape - - - - 1. - - - - - - - - - - - - 1. - - - - - - - - - - - - 1. - - - - - - - - - - - - 1. - - - - - - - - - - - - 1. - - - - - - - - - - - - 1. - - - - - - - - - - - - 1. - - - - - - - - - - - - 1. - - - - - - - - - - - - 1. - - - - - - - - - - - - 1. - - - - - - - - - - - - 1. - - - - - - - - - - - - 1. - - - - - - - - - - - - 1. - - - - - - - - - - - - 1. - - - - - - - - - - - - 1. - - - - - - - -\n",
      "BrB02DstDsst shape - - - - 1. - - - - - - - - - - - - 1. - - - - - - - - - - - - 1. - - - - - - - - - - - - 1. - - - - - - - - - - - - 1. - - - - - - - - - - - - 1. - - - - - - - - - - - - 1. - - - - - - - - - - - - 1. - - - - - - - - - - - - 1. - - - - - - - - - - - - 1. - - - - - - - - - - - - 1. - - - - - - - - - - - - 1. - - - - - - - - - - - - 1. - - - - - - - - - - - - 1. - - - - - - - - - - - - 1. - - - - - - - -\n",
      "BrB02DstDs0st shape - - - - 1. - - - - - - - - - - - - 1. - - - - - - - - - - - - 1. - - - - - - - - - - - - 1. - - - - - - - - - - - - 1. - - - - - - - - - - - - 1. - - - - - - - - - - - - 1. - - - - - - - - - - - - 1. - - - - - - - - - - - - 1. - - - - - - - - - - - - 1. - - - - - - - - - - - - 1. - - - - - - - - - - - - 1. - - - - - - - - - - - - 1. - - - - - - - - - - - - 1. - - - - - - - - - - - - 1. - - - - - - - -\n",
      "* autoMCStats 5 1 1\n",
      "------------------------------------------------------------\n",
      "B2DstFF group = B2DstCLNR0 B2DstCLNeig1 B2DstCLNeig2 B2DstCLNeig3\n",
      "allSys group = xsecpp2bbXlumi b2B0Had b2BpHad muBr DstmD0Br DstmDpBr DstmDspBr BpDstmHcBr BmDstmHcBr antiB0DstmHcBr DstPiBr DstPiPiBr  trgMu12_IP6SF muonIdSF tkPVfrac B0pT B2DstCLNR0 B2DstCLNeig1 B2DstCLNeig2 B2DstCLNeig3 fDststWide BrB02DstD0Kp BrB02DstD0Kstp BrB02DstDst0Kp BrB02DstDst0Kstp BrB02DstDpK0 BrB02DstDpKst0 BrB02DstDstpK0 BrB02DstDstpKst0 BrB02DstDs BrB02DstDsst BrB02DstDs0st \n",
      "\n"
     ]
    }
   ],
   "source": [
    "print card"
   ]
  },
  {
   "cell_type": "code",
   "execution_count": 52,
   "metadata": {
    "ExecuteTime": {
     "end_time": "2020-09-01T12:14:48.828633Z",
     "start_time": "2020-09-01T12:14:48.721223Z"
    },
    "hidden": true
   },
   "outputs": [],
   "source": [
    "fc = open(card_location, 'w')\n",
    "fc.write(card)\n",
    "fc.close()"
   ]
  },
  {
   "cell_type": "code",
   "execution_count": 53,
   "metadata": {
    "ExecuteTime": {
     "end_time": "2020-09-01T12:14:48.967153Z",
     "start_time": "2020-09-01T12:14:48.835094Z"
    },
    "hidden": true
   },
   "outputs": [],
   "source": [
    "if os.path.isdir(outdir) and runCombine:\n",
    "    os.system('rm -rf ' + outdir)\n",
    "os.system('mkdir -p ' + outdir + '/fig');"
   ]
  },
  {
   "cell_type": "code",
   "execution_count": 54,
   "metadata": {
    "ExecuteTime": {
     "end_time": "2020-09-01T12:14:48.992431Z",
     "start_time": "2020-09-01T12:14:48.973981Z"
    },
    "hidden": true
   },
   "outputs": [],
   "source": [
    "with open(outdir + '/eventCounting.txt', 'w') as f:\n",
    "    for p in processOrder + ['tot']:\n",
    "        f.write(p + '   ' + eventCountingStr[p] + '\\n')"
   ]
  },
  {
   "cell_type": "markdown",
   "metadata": {},
   "source": [
    "# Run Combine"
   ]
  },
  {
   "cell_type": "code",
   "execution_count": 55,
   "metadata": {
    "ExecuteTime": {
     "end_time": "2020-09-01T12:14:49.615567Z",
     "start_time": "2020-09-01T12:14:48.998272Z"
    }
   },
   "outputs": [
    {
     "ename": "TypeError",
     "evalue": "exceptions must be old-style classes or derived from BaseException, not NoneType",
     "output_type": "error",
     "traceback": [
      "\u001b[0;31m\u001b[0m",
      "\u001b[0;31mTypeError\u001b[0mTraceback (most recent call last)",
      "\u001b[0;32m<ipython-input-55-3a6a8ca5a2a5>\u001b[0m in \u001b[0;36m<module>\u001b[0;34m()\u001b[0m\n\u001b[1;32m      1\u001b[0m \u001b[0;32mif\u001b[0m \u001b[0;32mnot\u001b[0m \u001b[0mrunCombine\u001b[0m\u001b[0;34m:\u001b[0m\u001b[0;34m\u001b[0m\u001b[0m\n\u001b[0;32m----> 2\u001b[0;31m     \u001b[0;32mraise\u001b[0m\u001b[0;34m\u001b[0m\u001b[0m\n\u001b[0m",
      "\u001b[0;31mTypeError\u001b[0m: exceptions must be old-style classes or derived from BaseException, not NoneType"
     ]
    }
   ],
   "source": [
    "if not runCombine:\n",
    "    raise"
   ]
  },
  {
   "cell_type": "markdown",
   "metadata": {},
   "source": [
    "## Create the workspace"
   ]
  },
  {
   "cell_type": "code",
   "execution_count": null,
   "metadata": {
    "ExecuteTime": {
     "end_time": "2020-09-01T12:14:49.617139Z",
     "start_time": "2020-09-01T12:10:14.101Z"
    },
    "scrolled": true
   },
   "outputs": [],
   "source": [
    "cmd = 'text2workspace.py ' + card_location \n",
    "cmd += ' -o ' + card_location.replace('.txt', '.root')\n",
    "cmd += ' --no-b-only'\n",
    "cmd += ' --verbose 1'\n",
    "cmd += ' --channel-masks'\n",
    "# cmd += ' --no-wrappers'\n",
    "out = os.system(cmd)\n",
    "if out: raise"
   ]
  },
  {
   "cell_type": "markdown",
   "metadata": {
    "heading_collapsed": true
   },
   "source": [
    "## Run bias studies"
   ]
  },
  {
   "cell_type": "code",
   "execution_count": null,
   "metadata": {
    "ExecuteTime": {
     "end_time": "2020-09-01T12:14:49.619514Z",
     "start_time": "2020-09-01T12:10:14.108Z"
    },
    "hidden": true
   },
   "outputs": [],
   "source": [
    "if runBias:\n",
    "    nToys = 100\n",
    "    cmd = 'combine -M GenerateOnly'\n",
    "    cmd += ' -d ' + 'cards/{}.root'.format(card_name)\n",
    "    cmd += ' --seed 6741'\n",
    "    cmd += ' --noMCbonly 1'\n",
    "    cmd += ' --setParameters r={} --freezeParameters r'.format(SM_RDst)\n",
    "    cmd += ' --toysFrequentist -t {} --saveToys'.format(nToys)\n",
    "    cmd += ' -n {} -m {:.0f}'.format(card_name, 100*SM_RDst)\n",
    "    print cmd\n",
    "    status, output = commands.getstatusoutput(cmd)\n",
    "    if status:\n",
    "        print output\n",
    "        raise\n",
    "\n",
    "    cmd = 'combine -M FitDiagnostics'\n",
    "    cmd += ' --robustFit 1 --cminDefaultMinimizerStrategy 0 --X-rtd MINIMIZER_analytic'\n",
    "    cmd += ' --skipBOnlyFit'\n",
    "    cmd += ' --seed 6742'\n",
    "    cmd += ' -d ' + 'cards/{}.root'.format(card_name)\n",
    "    cmd += ' --toysFile higgsCombine{}.GenerateOnly.mH{}.6741.root -t {}'.format(card_name, 100*SM_RDst, nToys)\n",
    "    cmd += ' --setParameters r={:.2f}'.format(SM_RDst)\n",
    "    cmd += ' --setParameterRanges r=0.01,5'\n",
    "    cmd += ' -n {}_toys -m {:.0f}'.format(card_name, 100*SM_RDst)\n",
    "    cmd += ' --out ' + outdir\n",
    "    cmd += ' --trackParameters rgx{.*}'\n",
    "    cmd += ' --verbose 1'\n",
    "    print cmd\n",
    "    \n",
    "    status, output = commands.getstatusoutput(cmd)\n",
    "    for line in output.split('\\n'):\n",
    "        if 'ERROR' in line: print line.replace('ERROR', '\\033[1m\\x1b[31mError\\x1b[0m')\n",
    "    if status:\n",
    "        print output\n",
    "        raise\n",
    "        \n",
    "    os.system('mv -v *{}*.GenerateOnly.*.root '.format(card_name) + outdir + '/')\n",
    "    os.system('mv combine_logger.out ' + outdir + '/')"
   ]
  },
  {
   "cell_type": "code",
   "execution_count": null,
   "metadata": {
    "ExecuteTime": {
     "end_time": "2020-09-01T12:14:49.621624Z",
     "start_time": "2020-09-01T12:10:14.113Z"
    },
    "hidden": true
   },
   "outputs": [],
   "source": [
    "if runBias:\n",
    "    f = ur.open(outdir+'/fitDiagnostics{}_toys.root'.format(card_name))\n",
    "    r = f['tree_fit_sb']['r'].array()\n",
    "    rLoErr = f['tree_fit_sb']['rLoErr'].array()\n",
    "    rHiErr = f['tree_fit_sb']['rHiErr'].array()\n",
    "    \n",
    "    plt.rcParams.update({'font.size': 18})\n",
    "    fig = plt.figure(figsize=(8,6))\n",
    "    plt.errorbar(np.arange(1, 1+r.shape[0]), r, yerr=np.column_stack((rLoErr, rHiErr)).T, fmt='o', color='#1f77b4', label='Toys fit results')\n",
    "    m = np.mean(r)\n",
    "    sm = np.std(r)/np.sqrt(r.shape[0])\n",
    "    x = [0, r.shape[0]]\n",
    "    plt.fill_between(x, 2*[m-sm], 2*[m+sm], color='#ff7f0e', alpha=0.3)\n",
    "    plt.plot(x, 2*[m], color='#d62728', lw=1, label='Toys mean')\n",
    "    plt.plot(x, [SM_RDst, SM_RDst], 'm--', lw=2, label='Injected value')\n",
    "    plt.legend(loc='upper right', numpoints=1)\n",
    "    plt.xlabel('Toy number')\n",
    "    plt.ylabel(r'$R(D^*)$')\n",
    "    plt.savefig(outdir + '/fig/biasStudy_toysResults.png')\n",
    "    \n",
    "    z = (r - SM_RDst)/(0.5*(rLoErr + rHiErr))\n",
    "    h = create_TH1D(z, name='hZtest', binning=[int(2*np.sqrt(r.shape[0])), -4, 4], axis_title=['#hat{R(D*)} - R(D*) / #sigma', 'Number of toys'])\n",
    "    h.Sumw2()\n",
    "    h.Fit('gaus', 'ILQ')\n",
    "    c = drawOnCMSCanvas(CMS_lumi, [h])\n",
    "    c.Draw()\n",
    "    c.SaveAs(outdir + '/fig/biasStudy_zTest.png')"
   ]
  },
  {
   "cell_type": "markdown",
   "metadata": {},
   "source": [
    "## Run the Maximum Likelyhood fit"
   ]
  },
  {
   "cell_type": "code",
   "execution_count": null,
   "metadata": {
    "ExecuteTime": {
     "end_time": "2020-09-01T12:14:49.623589Z",
     "start_time": "2020-09-01T12:10:14.118Z"
    }
   },
   "outputs": [],
   "source": [
    "seedMLf = '6741'"
   ]
  },
  {
   "cell_type": "code",
   "execution_count": null,
   "metadata": {
    "ExecuteTime": {
     "end_time": "2020-09-01T12:14:49.625489Z",
     "start_time": "2020-09-01T12:10:14.129Z"
    },
    "hide_input": false,
    "scrolled": true
   },
   "outputs": [],
   "source": [
    "cmd = 'combine -M FitDiagnostics'\n",
    "cmd += ' --robustFit 1 --robustHesse 1 --cminDefaultMinimizerStrategy 0 --X-rtd MINIMIZER_analytic'\n",
    "cmd += ' --skipBOnlyFit'\n",
    "cmd += ' --seed ' + seedMLf\n",
    "cmd += ' -d ' + card_location.replace('.txt', '.root')\n",
    "cmd += ' -D ' + histo[histo.keys()[0]]['data'].GetName()\n",
    "cmd += ' --setParameters r={:.2f}'.format(SM_RDst)\n",
    "cmd += ' --setParameterRanges r=0.01,5'\n",
    "cmd += ' -n {}'.format(card_name)\n",
    "cmd += ' --out ' + outdir\n",
    "cmd += ' --saveShapes --saveWithUncertainties --saveNormalizations'\n",
    "cmd += ' --trackParameters rgx{.*}'\n",
    "cmd += ' --plots'\n",
    "cmd += ' --verbose 1'\n",
    "\n",
    "print cmd\n",
    "status, output = commands.getstatusoutput(cmd)\n",
    "for line in output.split('\\n'):\n",
    "        if 'ERROR' in line: print line.replace('ERROR', '\\033[1m\\x1b[31mError\\x1b[0m')\n",
    "os.system('mv combine_logger.out ' + outdir + '/combine_logger_FitDiagnostics.out')\n",
    "os.system('mv ./higgsCombine{}.FitDiagnostics.mH120.{}.root '.format(card_name, seedMLf) + outdir + '/');"
   ]
  },
  {
   "cell_type": "code",
   "execution_count": null,
   "metadata": {
    "ExecuteTime": {
     "end_time": "2020-09-01T12:14:49.627487Z",
     "start_time": "2020-09-01T12:10:14.138Z"
    },
    "hide_input": true
   },
   "outputs": [],
   "source": [
    "f = ur.open(glob(outdir + '/higgsCombine{}.FitDiagnostics.mH120.{}.root'.format(card_name, seedMLf))[0])\n",
    "c, d, u, _ = f['limit']['limit'].array()\n",
    "print 'R(D*) = {:.3f} +{:.3f}/-{:.3f} [{:.1f} %]'.format(c, u-c, c-d, 100*(u-d)*0.5/c)\n",
    "rDst_postFitRegion = [max(0.01,c - 5*(c-d)), min(c + 5*(u-c), 0.9)]"
   ]
  },
  {
   "cell_type": "code",
   "execution_count": null,
   "metadata": {
    "ExecuteTime": {
     "end_time": "2020-09-01T12:14:49.629528Z",
     "start_time": "2020-09-01T12:10:14.142Z"
    },
    "code_folding": []
   },
   "outputs": [],
   "source": [
    "# Get post-fit shapes\n",
    "fFitDiagnostics = rt.TFile.Open(outdir + '/fitDiagnostics{}.root'.format(card_name), 'READ')\n",
    "fd = fFitDiagnostics.shapes_fit_s\n",
    "\n",
    "histo_postfit = {}\n",
    "for cat, h_dic in histo.iteritems():\n",
    "    histo_postfit[cat] = {}\n",
    "    for n, h in h_dic.iteritems():\n",
    "        if '__' in n:\n",
    "            continue\n",
    "        h_post = h.Clone(h.GetName() + '_postfit')\n",
    "        if 'data' in n:\n",
    "            h_fit = fd.Get(cat+'/total')\n",
    "            h_data = h.Clone(h.GetName() + '_data')\n",
    "            for i in range(1, h_post.GetNbinsX()+1):\n",
    "                h_post.SetBinContent(i, h_fit.GetBinContent(i))\n",
    "                h_post.SetBinError(i, h_fit.GetBinError(i))     \n",
    "            \n",
    "            histo_postfit[cat]['total'] = h_post\n",
    "            histo_postfit[cat][n] = h_data\n",
    "        else:\n",
    "            h_fit = fd.Get(cat+'/'+n)\n",
    "            if not h_fit: \n",
    "                print n+' missing from '+cat\n",
    "                continue\n",
    "            for i in range(1, h_post.GetNbinsX()+1):\n",
    "                h_post.SetBinContent(i, h_fit.GetBinContent(i))\n",
    "                h_post.SetBinError(i, h_fit.GetBinError(i)) \n",
    "\n",
    "            histo_postfit[cat][n] = h_post"
   ]
  },
  {
   "cell_type": "code",
   "execution_count": null,
   "metadata": {
    "ExecuteTime": {
     "end_time": "2020-09-01T12:14:49.631432Z",
     "start_time": "2020-09-01T12:10:14.146Z"
    },
    "hide_input": true,
    "scrolled": false
   },
   "outputs": [],
   "source": [
    "h2 = fFitDiagnostics.Get('covariance_fit_s')\n",
    "rt.gStyle.SetPaintTextFormat('.1f')\n",
    "\n",
    "N = h2.GetNbinsX()\n",
    "n=32\n",
    "\n",
    "h2.GetXaxis().SetRange(1, n)\n",
    "h2.GetYaxis().SetRangeUser(N-n, N)\n",
    "h2.SetMarkerSize(.8)\n",
    "h2.LabelsOption(\"v\")\n",
    "CC = drawOnCMSCanvas(CMS_lumi, [h2, h2], ['colz', 'text same'], size=(900, 700), tag='tl', mL=0.22, mR=0.15, mB=0.25)\n",
    "CC.SaveAs(outdir+'/fig/covariance_zoom.png')"
   ]
  },
  {
   "cell_type": "code",
   "execution_count": null,
   "metadata": {
    "ExecuteTime": {
     "end_time": "2020-09-01T12:14:49.633445Z",
     "start_time": "2020-09-01T12:10:14.153Z"
    },
    "scrolled": true
   },
   "outputs": [],
   "source": [
    "cSigPost = plot_gridVarQ2(CMS_lumi, binning, histo_postfit, draw_pulls=True)\n",
    "cSigPost.SaveAs(outdir+'/fig/signalRegion_postfit.png')"
   ]
  },
  {
   "cell_type": "code",
   "execution_count": null,
   "metadata": {
    "ExecuteTime": {
     "end_time": "2020-09-01T12:14:49.635430Z",
     "start_time": "2020-09-01T12:10:14.161Z"
    }
   },
   "outputs": [],
   "source": [
    "if useMVA:\n",
    "    cMVAPost = plot_SingleCategory(CMS_lumi, histo_postfit['MVA'], scale_dic=scale_dic, draw_pulls=True,\n",
    "                                  addText='', logy=True, legBkg=True,\n",
    "                                  procOrder = ['tau', 'DstD', 'Dstst', 'mu'],\n",
    "                                  min_y=1, tag='MVA', legLoc=[0.25, 0.4, 0.5, 0.7])\n",
    "    cMVAPost.SaveAs(outdir+'/fig/signalRegionMVA_postfit.png')"
   ]
  },
  {
   "cell_type": "code",
   "execution_count": null,
   "metadata": {
    "ExecuteTime": {
     "end_time": "2020-09-01T12:14:49.637394Z",
     "start_time": "2020-09-01T12:10:14.170Z"
    },
    "scrolled": true
   },
   "outputs": [],
   "source": [
    "cSidePost = {}\n",
    "for k in np.sort(sideVar.keys()):\n",
    "    legLoc = [0.67, 0.3, 0.93, 0.72]\n",
    "    if 'MassVis' in sideVar[k]:\n",
    "        legLoc = [0.18, 0.4, 0.4, 0.75]\n",
    "    cSidePost[k] = plot_SingleCategory(CMS_lumi, histo_postfit[k], \n",
    "                                       xtitle=sideXtitle[k], addText=sideAddtext[k], \n",
    "                                       tag=k, legLoc=legLoc,\n",
    "                                       draw_pulls=True\n",
    "                                      )\n",
    "    cSidePost[k].SaveAs(outdir+'/fig/'+k+'_postfit.png')"
   ]
  },
  {
   "cell_type": "code",
   "execution_count": null,
   "metadata": {
    "ExecuteTime": {
     "end_time": "2020-09-01T12:14:49.639284Z",
     "start_time": "2020-09-01T12:10:14.182Z"
    },
    "scrolled": false
   },
   "outputs": [],
   "source": [
    "cmd = 'python diffNuisances.py '.format(os.environ['CMSSW_BASE'])\n",
    "cmd += outdir + '/fitDiagnostics{}.root'.format(card_name)\n",
    "cmd += ' --skipFitB'\n",
    "# cmd += ' --all'\n",
    "cmd += ' --abs'\n",
    "cmd += ' -g {}/nuisance_difference.root'.format(outdir)\n",
    "print cmd\n",
    "status, output = commands.getstatusoutput(cmd)\n",
    "dumpDiffNuisances(output, outdir)"
   ]
  },
  {
   "cell_type": "markdown",
   "metadata": {
    "hide_input": true
   },
   "source": [
    "## Run likelyhood scan"
   ]
  },
  {
   "cell_type": "code",
   "execution_count": null,
   "metadata": {
    "ExecuteTime": {
     "end_time": "2020-09-01T12:14:49.641355Z",
     "start_time": "2020-09-01T12:10:14.190Z"
    },
    "hide_input": false
   },
   "outputs": [],
   "source": [
    "cmd = 'combine'\n",
    "cmd += ' -M MultiDimFit'\n",
    "cmd += ' --algo grid --points=100'\n",
    "cmd += ' --robustFit 1'\n",
    "cmd += ' -d ' + card_location.replace('.txt', '.root')\n",
    "cmd += ' -D ' + histo[histo.keys()[0]]['data'].GetName()\n",
    "cmd += ' --X-rtd MINIMIZER_analytic'\n",
    "cmd += ' --rMin={:.4f} --rMax={:.4f}'.format(*rDst_postFitRegion)\n",
    "cmd += ' -n {}_nominal'.format(card_name)\n",
    "cmd += ' --verbose -1'\n",
    "print cmd\n",
    "os.system(cmd)\n",
    "cmd = 'plot1DScan.py higgsCombine{}_nominal.MultiDimFit.mH120.root'.format(card_name)\n",
    "cmd += '; mv scan.png scan_nominal.png'\n",
    "os.system(cmd)\n",
    "# res_nominal = getUncertaintyFromLimitTree('higgsCombine{}_nominal.MultiDimFit.mH120.root'.format(card_name))\n",
    "display(Image(filename='scan_nominal.png'))"
   ]
  },
  {
   "cell_type": "markdown",
   "metadata": {},
   "source": [
    "### Uncertainy breakdown by group"
   ]
  },
  {
   "cell_type": "code",
   "execution_count": null,
   "metadata": {
    "ExecuteTime": {
     "end_time": "2020-09-01T12:14:49.643343Z",
     "start_time": "2020-09-01T12:10:14.198Z"
    }
   },
   "outputs": [],
   "source": [
    "histo={'a':{'data':rt.TH1F('data_obs', 'data_obs', 10, 0, 1)}}\n",
    "rDst_postFitRegion = [0.01, 0.9]"
   ]
  },
  {
   "cell_type": "code",
   "execution_count": null,
   "metadata": {
    "ExecuteTime": {
     "end_time": "2020-09-01T12:14:49.645427Z",
     "start_time": "2020-09-01T12:10:14.203Z"
    },
    "hide_input": false
   },
   "outputs": [],
   "source": [
    "cmd = 'combine -M MultiDimFit'\n",
    "cmd += ' --cminDefaultMinimizerStrategy=2 --robustFit 1 --X-rtd MINIMIZER_analytic'\n",
    "cmd += ' -d ' + card_location.replace('.txt', '.root')\n",
    "cmd += ' -D ' + histo[histo.keys()[0]]['data'].GetName()\n",
    "cmd += ' --setParameters r={:.2f}'.format(SM_RDst)\n",
    "cmd += ' --setParameterRanges r=0.01,1'\n",
    "cmd += ' -n {}_bestfit'.format(card_name)\n",
    "cmd += ' --saveWorkspace --verbose -1'\n",
    "print cmd\n",
    "os.system(cmd);"
   ]
  },
  {
   "cell_type": "code",
   "execution_count": null,
   "metadata": {
    "ExecuteTime": {
     "end_time": "2020-09-01T12:14:49.647477Z",
     "start_time": "2020-09-01T12:10:14.210Z"
    },
    "hide_input": false
   },
   "outputs": [],
   "source": [
    "# Statistical uncertainty\n",
    "cmd = 'combine -M MultiDimFit --algo grid --points=50'\n",
    "cmd += ' --cminDefaultMinimizerStrategy=2 --robustFit 1 --X-rtd MINIMIZER_analytic'\n",
    "cmd += ' -d higgsCombine{}_bestfit.MultiDimFit.mH120.root'.format(card_name)\n",
    "cmd += ' --snapshotName MultiDimFit'\n",
    "cmd += ' -D ' + histo[histo.keys()[0]]['data'].GetName()\n",
    "cmd += ' --rMin={:.4f} --rMax={:.4f}'.format(*rDst_postFitRegion)\n",
    "cmd += ' -n {}_stat'.format(card_name)\n",
    "cmd += ' --freezeParameters allConstrainedNuisances'\n",
    "# cmd += ' --freezeNuisanceGroups=autoMCStats,allSys'\n",
    "cmd += ' --fastScan' # To be added if there are no free parameters otherwise\n",
    "cmd += ' --verbose -1'\n",
    "print cmd\n",
    "os.system(cmd);"
   ]
  },
  {
   "cell_type": "code",
   "execution_count": null,
   "metadata": {
    "ExecuteTime": {
     "end_time": "2020-09-01T12:14:49.649397Z",
     "start_time": "2020-09-01T12:10:14.214Z"
    },
    "hide_input": false
   },
   "outputs": [],
   "source": [
    "# MC Statistics\n",
    "cmd = 'combine -M MultiDimFit --algo grid --points=100'\n",
    "cmd += ' --cminDefaultMinimizerStrategy=2 --robustFit 1 --X-rtd MINIMIZER_analytic'\n",
    "cmd += ' -d higgsCombine{}_bestfit.MultiDimFit.mH120.root'.format(card_name)\n",
    "cmd += ' -D ' + histo[histo.keys()[0]]['data'].GetName()\n",
    "cmd += ' --rMin={:.4f} --rMax={:.4f}'.format(*rDst_postFitRegion)\n",
    "cmd += ' -n {}_MCstat'.format(card_name)\n",
    "cmd += ' --snapshotName MultiDimFit'\n",
    "cmd += ' --freezeNuisanceGroups=autoMCStats'\n",
    "cmd += ' --verbose -1'\n",
    "print cmd\n",
    "os.system(cmd);"
   ]
  },
  {
   "cell_type": "code",
   "execution_count": null,
   "metadata": {
    "ExecuteTime": {
     "end_time": "2020-09-01T12:14:49.651495Z",
     "start_time": "2020-09-01T12:10:14.222Z"
    },
    "hide_input": false,
    "scrolled": true
   },
   "outputs": [],
   "source": [
    "json.dump({'r': 'R(D*)'}, open(outdir+'/renameDicLikelihoodScan.json', 'w'))\n",
    "\n",
    "cmd = 'plot1DScan.py higgsCombine{}_nominal.MultiDimFit.mH120.root'.format(card_name)\n",
    "cmd += ' --others'\n",
    "cmd += ' \"higgsCombine{}_MCstat.MultiDimFit.mH120.root:Freeze MC stat:4\"'.format(card_name)\n",
    "cmd += ' \"higgsCombine{}_stat.MultiDimFit.mH120.root:Freeze all:2\"'.format(card_name)\n",
    "cmd += ' --breakdown MCstat,syst,stat'\n",
    "cmd += ' --translate ' + outdir+'/renameDicLikelihoodScan.json'\n",
    "cmd += '; mv scan.png scan_breakdown.png'\n",
    "print cmd\n",
    "os.system(cmd)\n",
    "display(Image(filename='scan_breakdown.png'))"
   ]
  },
  {
   "cell_type": "code",
   "execution_count": null,
   "metadata": {
    "ExecuteTime": {
     "end_time": "2020-09-01T12:14:49.653434Z",
     "start_time": "2020-09-01T12:10:14.230Z"
    }
   },
   "outputs": [],
   "source": [
    "os.system('mv higgsCombine{}_*.MultiDimFit.mH120.root '.format(card_name) + outdir + '/')\n",
    "os.system('mv scan* ' + outdir + '/')\n",
    "os.system('mv combine_logger.out ' + outdir + '/');"
   ]
  },
  {
   "cell_type": "markdown",
   "metadata": {},
   "source": [
    "## Run the impact plots"
   ]
  },
  {
   "cell_type": "code",
   "execution_count": null,
   "metadata": {
    "ExecuteTime": {
     "end_time": "2020-09-01T12:14:49.655439Z",
     "start_time": "2020-09-01T12:10:14.242Z"
    }
   },
   "outputs": [],
   "source": [
    "if not runImpacts:\n",
    "    raise"
   ]
  },
  {
   "cell_type": "markdown",
   "metadata": {},
   "source": [
    "Fit first the POI"
   ]
  },
  {
   "cell_type": "code",
   "execution_count": null,
   "metadata": {
    "ExecuteTime": {
     "end_time": "2020-09-01T12:14:49.657427Z",
     "start_time": "2020-09-01T12:10:14.247Z"
    }
   },
   "outputs": [],
   "source": [
    "os.mkdir(outdir+'/impactPlots')"
   ]
  },
  {
   "cell_type": "code",
   "execution_count": null,
   "metadata": {
    "ExecuteTime": {
     "end_time": "2020-09-01T12:14:49.659571Z",
     "start_time": "2020-09-01T12:10:14.258Z"
    },
    "scrolled": true
   },
   "outputs": [],
   "source": [
    "cmd = 'cd {}/impactPlots;'.format(outdir)\n",
    "cmd += ' combineTool.py -M Impacts --doInitialFit -m 120'\n",
    "cmd += ' --robustFit 1 --X-rtd MINIMIZER_analytic'\n",
    "cmd += ' -d ../../../' + card_location.replace('.txt', '.root')\n",
    "cmd += ' -D ' + histo[histo.keys()[0]]['data'].GetName()\n",
    "cmd += ' --setParameters r={:.2f}'.format(SM_RDst)\n",
    "cmd += ' --setParameterRanges r=0.01,1'\n",
    "cmd += ' -n {}'.format(card_name)\n",
    "cmd += ' --verbose -1'\n",
    "os.system(cmd);"
   ]
  },
  {
   "cell_type": "markdown",
   "metadata": {},
   "source": [
    " Perform a similar scan for each nuisance parameter"
   ]
  },
  {
   "cell_type": "markdown",
   "metadata": {},
   "source": [
    "If running on Tier2 condor remmeber to add this line to CombineToolBase.py ln 11\n",
    "``source /cvmfs/cms.cern.ch/cmsset_default.sh``"
   ]
  },
  {
   "cell_type": "code",
   "execution_count": null,
   "metadata": {
    "ExecuteTime": {
     "end_time": "2020-09-01T12:14:49.662199Z",
     "start_time": "2020-09-01T12:10:14.269Z"
    }
   },
   "outputs": [],
   "source": [
    "cmd = 'cd {}/impactPlots;'.format(outdir)\n",
    "cmd += ' combineTool.py -M Impacts --doFits -m 120'\n",
    "cmd += ' --robustFit 1 --X-rtd MINIMIZER_analytic'\n",
    "# cmd += ' --parallel 20'\n",
    "cmd += ' --parallel 100 --job-mode condor --task-name combineImpacts_'+category\n",
    "cmd += ' --sub-opts \"{}\"'.format(stringJubCustomizationCaltechT2.replace('\"', '\\\\\\\"').replace('$', '\\$'))\n",
    "cmd += ' -d ../../../' + card_location.replace('.txt', '.root')\n",
    "cmd += ' -D ' + histo[histo.keys()[0]]['data'].GetName()\n",
    "cmd += ' -n {}'.format(card_name)\n",
    "cmd += ' --verbose -1'\n",
    "print cmd\n",
    "os.system(cmd);"
   ]
  },
  {
   "cell_type": "markdown",
   "metadata": {},
   "source": [
    "Collect the results"
   ]
  },
  {
   "cell_type": "code",
   "execution_count": null,
   "metadata": {
    "ExecuteTime": {
     "end_time": "2020-09-01T12:14:49.664182Z",
     "start_time": "2020-09-01T12:10:14.309Z"
    }
   },
   "outputs": [],
   "source": [
    "status, output = commands.getstatusoutput('condor_q')\n",
    "while 'combineImpacts_'+category in output:\n",
    "    time.sleep(20)\n",
    "    status, output = commands.getstatusoutput('condor_q')\n",
    "    for l in output.split('\\n'):\n",
    "        if 'combineImpacts_'+category in l: \n",
    "            print l\n",
    "            sys.stdout.flush()\n",
    "cmd = 'cd {}/impactPlots;'.format(outdir)\n",
    "cmd += ' combineTool.py -M Impacts -o impacts.json -m 120'\n",
    "cmd += ' -d ../../../' + card_location.replace('.txt', '.root')\n",
    "cmd += ' -n {}'.format(card_name)\n",
    "print cmd\n",
    "os.system(cmd);"
   ]
  },
  {
   "cell_type": "code",
   "execution_count": null,
   "metadata": {
    "ExecuteTime": {
     "end_time": "2020-09-01T12:14:49.666314Z",
     "start_time": "2020-09-01T12:10:14.359Z"
    },
    "scrolled": false
   },
   "outputs": [],
   "source": [
    "rename = {\n",
    "'r': 'R(D*)',\n",
    "'B0pT': 'B_{0} p_{T} spectrum',\n",
    "'B2DstCLNR0':'R_{0} (CLN B#rightarrow D*l#nu)',\n",
    "# 'B2DstCLNR1':'R_{1} (CLN B#rightarrow D*)',\n",
    "# 'B2DstCLNR2':'R_{2} (CLN B#rightarrow D*)',\n",
    "# 'B2DstCLNRhoSq':'#rho^{2} (CLN B#rightarrow D*)',\n",
    "'B2DstCLNeig1':'#lambda_{1} (CLN B#rightarrow D*l#nu)',\n",
    "'B2DstCLNeig2':'#lambda_{2} (CLN B#rightarrow D*l#nu)',\n",
    "'B2DstCLNeig3':'#lambda_{3} (CLN B#rightarrow D*l#nu)',\n",
    "'trgSF': 'Trigger scale factor',\n",
    "'xsecpp2bbXlumi': 'Luminosity*#sigma_{pp#rightarrowbb}',\n",
    "    \n",
    "}\n",
    "\n",
    "procName_dic = {\n",
    "'mu'        : 'B_{0}#rightarrow D*#mu#nu',\n",
    "'tau'       : 'B_{0}#rightarrow D*#tau#nu',\n",
    "'DstmD0'    : 'B^{+}#rightarrow D*D_{0}(#muY) + X',\n",
    "'DstmDp'    : 'B^{+}#rightarrow D*D^{+}(#muY) + X',\n",
    "'DstmDsp'   : 'B^{+}#rightarrow D*D_{s}^{+}(#muX)',\n",
    "'DstPip'    : 'B^{+}#rightarrow D*#pi^{+}#mu#nu',\n",
    "'DstPipPi0' : 'B^{+}#rightarrow D*#pi^{+}#pi^{0}#mu#nu',\n",
    "'DstPi0'    : 'B_{0}#rightarrow D*#pi^{0}#mu#nu',\n",
    "'DstPipPim' : 'B_{0}#rightarrow D*#pi^{+}#pi^{-}#mu#nu',\n",
    "'DstPi0Pi0' : 'B_{0}#rightarrow D*#pi^{0}#pi^{0}#mu#nu',\n",
    "'BpDstmHc'  : 'B^{+}#rightarrow D*D(#muX)',\n",
    "'BmDstmHc'  : 'B^{-}#rightarrow D*D(#muX)',\n",
    "'antiB0DstmHc'  : '#bar{B}_{0}#rightarrow D*D(#muX)',\n",
    "'DstPi'     : 'B #rightarrow D**(#rightarrow D*#pi)#mu#nu',\n",
    "'DstPiPi'   : 'B #rightarrow D**(#rightarrow D*#pi#pi)#mu#nu',\n",
    "}\n",
    "\n",
    "for n in procName_dic:\n",
    "    rename[n+'Br'] = 'Branching fraction ' + procName_dic[n]\n",
    "\n",
    "d = json.load(open(outdir+'/impactPlots/impacts.json', 'r'))\n",
    "for par in d['params']:\n",
    "    name = str(par['name'])\n",
    "    if not name.startswith('prop_bin'): continue\n",
    "    label = name.replace('prop_bin', 'MC stat. ')\n",
    "    label = label.replace('M2_miss_', 'M^{2}_{miss} ')\n",
    "    label = label.replace('Est_mu_', 'E*_{#mu} ')\n",
    "    label = label.replace('q2bin', '[b_{q^{2}}=')\n",
    "    label = label.replace('_bin', '] ')\n",
    "    rename[name] = label + 10*' '\n",
    "    \n",
    "json.dump(rename, open(outdir+'/impactPlots/rename.json', 'w'))\n",
    "\n",
    "cmd = 'cd {};'.format(outdir)\n",
    "cmd += 'plotImpacts.py -i impactPlots/impacts.json -o impacts -t impactPlots/rename.json'\n",
    "os.system(cmd)\n",
    "IFrame(outdir+'/impacts.pdf', width=900, height=600)"
   ]
  },
  {
   "cell_type": "markdown",
   "metadata": {},
   "source": [
    "## Run the Goodness of fit test"
   ]
  },
  {
   "cell_type": "markdown",
   "metadata": {},
   "source": [
    "Run the observed test stat value"
   ]
  },
  {
   "cell_type": "code",
   "execution_count": null,
   "metadata": {
    "ExecuteTime": {
     "end_time": "2020-09-01T12:14:49.668382Z",
     "start_time": "2020-09-01T12:10:14.370Z"
    },
    "scrolled": true
   },
   "outputs": [],
   "source": [
    "cmd = 'combine -M GoodnessOfFit --toysFrequentist --algo=saturated'\n",
    "cmd += ' --X-rtd MINIMIZER_analytic --cminDefaultMinimizerStrategy 0'\n",
    "cmd += ' -d results/{cn}/higgsCombine{cn}_bestfit.MultiDimFit.mH120.root'.format(cn=card_name)\n",
    "cmd += ' --snapshotName MultiDimFit --bypassFrequentistFit'\n",
    "cmd += ' -D ' + histo[histo.keys()[0]]['data'].GetName()\n",
    "cmd += ' -n Obs'                                    # Just the output name\n",
    "cmd += ' -t 0'                                      # Don't run toys\n",
    "cmd += ' -s 1'                                      # Random seed\n",
    "cmd += ' --setParameters r={:.2f}'.format(SM_RDst)\n",
    "cmd += ' --setParameterRanges r=0.001,1'\n",
    "cmd += ' --plots --verbose -1'\n",
    "print cmd\n",
    "os.system(cmd)"
   ]
  },
  {
   "cell_type": "markdown",
   "metadata": {},
   "source": [
    "Run the test stat toy distribution"
   ]
  },
  {
   "cell_type": "code",
   "execution_count": null,
   "metadata": {
    "ExecuteTime": {
     "end_time": "2020-09-01T12:14:49.670262Z",
     "start_time": "2020-09-01T12:10:14.377Z"
    }
   },
   "outputs": [],
   "source": [
    "cmd = 'combine -M GoodnessOfFit --toysFrequentist --algo=saturated'\n",
    "cmd += ' --X-rtd MINIMIZER_analytic --cminDefaultMinimizerStrategy 0'\n",
    "cmd += ' -d results/{cn}/higgsCombine{cn}_bestfit.MultiDimFit.mH120.root'.format(cn=card_name)\n",
    "cmd += ' --snapshotName MultiDimFit --bypassFrequentistFit'\n",
    "cmd += ' -D ' + histo[histo.keys()[0]]['data'].GetName()\n",
    "cmd += ' -n Toys'                                   # Just the output name\n",
    "cmd += ' -t 30'                                     # Number of toys to run\n",
    "cmd += ' -s -1'                                     # Random seed\n",
    "cmd += ' --setParameters r={:.2f}'.format(SM_RDst)\n",
    "cmd += ' --setParameterRanges r=0.001,1'\n",
    "cmd += ' --plots --verbose -1'\n",
    "cmdToys = cmd\n",
    "print cmdToys\n",
    "# os.system(cmdToys)"
   ]
  },
  {
   "cell_type": "code",
   "execution_count": null,
   "metadata": {
    "ExecuteTime": {
     "end_time": "2020-09-01T12:14:49.672320Z",
     "start_time": "2020-09-01T12:10:14.416Z"
    }
   },
   "outputs": [],
   "source": [
    "from multiprocessing import Pool\n",
    "\n",
    "def runCommand(cmd):\n",
    "    os.system(cmd)\n",
    "\n",
    "Nrep = 15\n",
    "p = Pool(min(20,Nrep))\n",
    "outputs = p.map(runCommand, Nrep*[cmdToys])"
   ]
  },
  {
   "cell_type": "code",
   "execution_count": null,
   "metadata": {
    "ExecuteTime": {
     "end_time": "2020-09-01T12:14:49.674187Z",
     "start_time": "2020-09-01T12:10:14.420Z"
    }
   },
   "outputs": [],
   "source": [
    "os.system('mv *.root {}/'.format(outdir));"
   ]
  },
  {
   "cell_type": "markdown",
   "metadata": {},
   "source": [
    "Combine them to get the p-value"
   ]
  },
  {
   "cell_type": "code",
   "execution_count": null,
   "metadata": {
    "ExecuteTime": {
     "end_time": "2020-09-01T12:14:49.676171Z",
     "start_time": "2020-09-01T12:10:14.427Z"
    }
   },
   "outputs": [],
   "source": [
    "f = ur.open(outdir+'/higgsCombineObs.GoodnessOfFit.mH120.1.root')\n",
    "s_obs = f['limit']['limit'].array()[0]\n",
    "\n",
    "s_toys = []\n",
    "for name_toys in glob(outdir+'/higgsCombineToys.GoodnessOfFit.*.root'):\n",
    "    f = ur.open(name_toys)\n",
    "    s_toys += list(f['limit']['limit'].array())\n",
    "p_val = np.sum(s_toys > s_obs)/float(len(s_toys))\n",
    "\n",
    "plt.rcParams.update({'font.size': 18})\n",
    "fig = plt.figure(figsize=(8,6))\n",
    "content, center, _ = plt.hist(s_toys, weights=np.ones_like(s_toys)/float(len(s_toys)), \n",
    "                              alpha=0.7, label='Toys ({:.0f})'.format(float(len(s_toys))))\n",
    "plt.plot([s_obs, s_obs], [0, np.max(content)], 'm--', label='Observed\\np-val {:.1f}%'.format(100*p_val))\n",
    "plt.legend(loc='upper right')\n",
    "plt.xlabel('Test statistic')\n",
    "plt.ylabel('Probability / {:.1f}'.format(0.5*(center[2]-center[1])))\n",
    "plt.savefig(outdir + '/fig/goodnessOfFit_test.png')"
   ]
  }
 ],
 "metadata": {
  "kernelspec": {
   "display_name": "Python 2",
   "language": "python",
   "name": "python2"
  },
  "language_info": {
   "codemirror_mode": {
    "name": "ipython",
    "version": 2
   },
   "file_extension": ".py",
   "mimetype": "text/x-python",
   "name": "python",
   "nbconvert_exporter": "python",
   "pygments_lexer": "ipython2",
   "version": "2.7.14+"
  },
  "varInspector": {
   "cols": {
    "lenName": 16,
    "lenType": 16,
    "lenVar": 40
   },
   "kernels_config": {
    "python": {
     "delete_cmd_postfix": "",
     "delete_cmd_prefix": "del ",
     "library": "var_list.py",
     "varRefreshCmd": "print(var_dic_list())"
    },
    "r": {
     "delete_cmd_postfix": ") ",
     "delete_cmd_prefix": "rm(",
     "library": "var_list.r",
     "varRefreshCmd": "cat(var_dic_list()) "
    }
   },
   "position": {
    "height": "308px",
    "left": "1550px",
    "right": "20px",
    "top": "120px",
    "width": "338px"
   },
   "types_to_exclude": [
    "module",
    "function",
    "builtin_function_or_method",
    "instance",
    "_Feature"
   ],
   "window_display": false
  }
 },
 "nbformat": 4,
 "nbformat_minor": 2
}
