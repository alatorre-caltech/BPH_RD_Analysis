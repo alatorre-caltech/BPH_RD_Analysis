{
 "cells": [
  {
   "cell_type": "code",
   "execution_count": 1,
   "metadata": {
    "ExecuteTime": {
     "end_time": "2021-03-04T19:44:25.111645Z",
     "start_time": "2021-03-04T19:44:25.103910Z"
    }
   },
   "outputs": [],
   "source": [
    "version = 'v8base'"
   ]
  },
  {
   "cell_type": "markdown",
   "metadata": {},
   "source": [
    "### Imports"
   ]
  },
  {
   "cell_type": "code",
   "execution_count": 2,
   "metadata": {
    "ExecuteTime": {
     "end_time": "2021-03-04T19:44:38.532622Z",
     "start_time": "2021-03-04T19:44:25.528192Z"
    }
   },
   "outputs": [
    {
     "name": "stdout",
     "output_type": "stream",
     "text": [
      "Welcome to JupyROOT 6.12/07\n"
     ]
    }
   ],
   "source": [
    "import numpy as np\n",
    "import pandas as pd\n",
    "import scipy.stats as sps\n",
    "from glob import glob\n",
    "import pickle, re\n",
    "import time\n",
    "from array import array\n",
    "from scipy.interpolate import interp1d\n",
    "import multiprocessing\n",
    "import matplotlib.pyplot as plt\n",
    "import uproot as ur\n",
    "import ROOT as rt\n",
    "import root_numpy as rtnp\n",
    "import ROOT.RooFit as rf\n",
    "from scipy.special import erf\n",
    "import sys, os\n",
    "import itertools\n",
    "sys.path.append('../lib')\n",
    "if os.environ['CMSSW_VERSION'] != 'CMSSW_10_2_3':\n",
    "    raise\n",
    "from histo_utilities import create_TH1D, create_TH2D, std_color_list, SetMaxToMaxHist, make_ratio_plot\n",
    "from cebefo_style import Set_2D_colz_graphics\n",
    "from progressBar import ProgressBar\n",
    "\n",
    "from analysis_utilities import drawOnCMSCanvas, extarct, extarct_multiple, createSel\n",
    "from lumi_utilities import getLumiByTrigger\n",
    "\n",
    "import CMS_lumi, tdrstyle\n",
    "tdrstyle.setTDRStyle()\n",
    "CMS_lumi.writeExtraText = 1\n",
    "CMS_lumi.extraText = \"     Internal\"\n",
    "\n",
    "donotdelete = []"
   ]
  },
  {
   "cell_type": "code",
   "execution_count": 3,
   "metadata": {
    "ExecuteTime": {
     "end_time": "2021-03-04T19:44:38.732601Z",
     "start_time": "2021-03-04T19:44:38.598420Z"
    }
   },
   "outputs": [],
   "source": [
    "rt.gErrorIgnoreLevel = rt.kError\n",
    "rt.RooMsgService.instance().setGlobalKillBelow(rt.RooFit.ERROR)\n",
    "webFolder = '/storage/user/ocerri/public_html/BPH_RDst/triggerScaleFactors/'+version\n",
    "if not os.path.isdir(webFolder):\n",
    "    print 'Creating', webFolder\n",
    "    os.makedirs(webFolder)\n",
    "    os.system('cp '+webFolder+'/../index.php '+webFolder+'/')"
   ]
  },
  {
   "cell_type": "code",
   "execution_count": 4,
   "metadata": {
    "ExecuteTime": {
     "end_time": "2021-03-04T19:44:38.854784Z",
     "start_time": "2021-03-04T19:44:38.786987Z"
    }
   },
   "outputs": [],
   "source": [
    "cl = rt.TLine()\n",
    "cl.SetLineColor(6)\n",
    "cl.SetLineStyle(9)\n",
    "cl.SetLineWidth(2)"
   ]
  },
  {
   "cell_type": "code",
   "execution_count": 5,
   "metadata": {
    "ExecuteTime": {
     "end_time": "2021-03-04T19:44:38.927971Z",
     "start_time": "2021-03-04T19:44:38.912482Z"
    }
   },
   "outputs": [],
   "source": [
    "colors = [rt.kBlack, rt.kAzure+1, rt.kRed-4, rt.kGreen+1, rt.kViolet-7]"
   ]
  },
  {
   "cell_type": "markdown",
   "metadata": {},
   "source": [
    "# Load data"
   ]
  },
  {
   "cell_type": "code",
   "execution_count": 6,
   "metadata": {
    "ExecuteTime": {
     "end_time": "2021-03-04T19:44:39.070533Z",
     "start_time": "2021-03-04T19:44:38.993494Z"
    }
   },
   "outputs": [],
   "source": [
    "branchesToLoad = ['mTag_pt', 'mTag_eta', 'mTag_phi', 'mTag_sigdxy',\n",
    "                  'mTag_softID', 'mTag_tightID',\n",
    "                  'mTag_HLT_Mu7_IP4', 'mTag_HLT_Mu9_IP6', 'mTag_HLT_Mu12_IP6',\n",
    "                  'mProbe_pt', 'mProbe_eta', 'mProbe_phi', 'mProbe_sigdxy', \n",
    "                  'mProbe_softID', 'mProbe_tightID',\n",
    "                  'mProbe_HLT_Mu7_IP4', 'mProbe_HLT_Mu9_IP6', 'mProbe_HLT_Mu12_IP6',\n",
    "                  'deltaR_tagProbe', 'massMuMu', 'vtx_isGood', 'massMuMu_refit',\n",
    "                  'prescaleMu7_IP4', 'prescaleMu9_IP6', 'prescaleMu12_IP6', 'nVtx',\n",
    "                 ]"
   ]
  },
  {
   "cell_type": "code",
   "execution_count": 7,
   "metadata": {
    "ExecuteTime": {
     "end_time": "2021-03-04T19:44:39.149993Z",
     "start_time": "2021-03-04T19:44:39.133795Z"
    }
   },
   "outputs": [],
   "source": [
    "def loadDF(loc, branches):\n",
    "    dfL = []\n",
    "    for l in loc: \n",
    "        print l\n",
    "        dfL.append(pd.DataFrame(rtnp.root2array(l, branches=branches)))\n",
    "    if len(dfL) == 1:\n",
    "        return dfL[0]\n",
    "    else:\n",
    "        return pd.concat(dfL)"
   ]
  },
  {
   "cell_type": "code",
   "execution_count": 8,
   "metadata": {
    "ExecuteTime": {
     "end_time": "2021-03-04T19:45:55.577263Z",
     "start_time": "2021-03-04T19:44:39.205427Z"
    }
   },
   "outputs": [
    {
     "name": "stdout",
     "output_type": "stream",
     "text": [
      "../data/cmsRD/ParkingBPH3/Run2018D-05May2019promptD-v1_RDntuplizer_TagAndProbeTrigger_210209_CAND.root\n",
      "../data/cmsRD/ParkingBPH2/Run2018D-05May2019promptD-v1_RDntuplizer_TagAndProbeTrigger_210209_CAND.root\n",
      "../data/cmsRD/ParkingBPH5/Run2018D-05May2019promptD-v1_RDntuplizer_TagAndProbeTrigger_210209_CAND.root\n",
      "../data/cmsRD/ParkingBPH4/Run2018D-05May2019promptD-v1_RDntuplizer_TagAndProbeTrigger_210209_CAND.root\n",
      "../data/cmsRD/ParkingBPH1/Run2018D-05May2019promptD-v1_RDntuplizer_TagAndProbeTrigger_210209_CAND.root\n",
      "Data probe muons: 28292553\n"
     ]
    }
   ],
   "source": [
    "dataDir = '../data/cmsRD'\n",
    "RDdsLoc = glob(dataDir + '/ParkingBPH*/Run2018D-05May2019promptD-v1_RDntuplizer_TagAndProbeTrigger_210209_CAND.root')\n",
    "dfRD = loadDF(RDdsLoc, branchesToLoad)\n",
    "print 'Data probe muons:', dfRD.shape[0]"
   ]
  },
  {
   "cell_type": "code",
   "execution_count": 9,
   "metadata": {
    "ExecuteTime": {
     "end_time": "2021-03-04T19:46:19.834063Z",
     "start_time": "2021-03-04T19:46:03.312072Z"
    }
   },
   "outputs": [
    {
     "name": "stdout",
     "output_type": "stream",
     "text": [
      "../data/cmsMC_private/BP_Tag-Probe_B0_JpsiKst_Hardbbbar_evtgen_HELAMP_PUc0_10-2-3/ntuples_TagAndProbeTrigger_Jpsi/merged/out_CAND.root\n",
      "MC probe muons: 6181283\n"
     ]
    }
   ],
   "source": [
    "mcDir = '../data/cmsMC_private/BP_Tag-Probe_B0_JpsiKst_Hardbbbar_evtgen_HELAMP_PUc0_10-2-3'\n",
    "MCdsLoc = glob(mcDir + '/ntuples_TagAndProbeTrigger_Jpsi/merged/out_CAND.root')\n",
    "dfMC = loadDF(MCdsLoc, branchesToLoad + ['sfMuonID'])\n",
    "print 'MC probe muons:', dfMC.shape[0]"
   ]
  },
  {
   "cell_type": "code",
   "execution_count": 10,
   "metadata": {
    "ExecuteTime": {
     "end_time": "2021-03-04T19:46:29.080827Z",
     "start_time": "2021-03-04T19:46:29.045601Z"
    },
    "code_folding": [
     0
    ]
   },
   "outputs": [],
   "source": [
    "class pileupReweighter(object):\n",
    "    def __init__(self, mcSkimFile, cat, histoName='hAllNvtx', dataDate='200515'):\n",
    "        loc = '../data/cmsRD/ParkingBPH{}/'+'Run2018D-05May2019promptD-v1_RDntuplizer_PrescaleVertices_{}_CAND.root'.format(dataDate)\n",
    "        fAuxPileupRD = []\n",
    "\n",
    "        hPileupTarget = None\n",
    "\n",
    "        for i in range(1, 6):\n",
    "            fAuxPileupRD.append(rt.TFile.Open(loc.format(i), 'READ'))\n",
    "            if hPileupTarget is None:\n",
    "                hPileupTarget = fAuxPileupRD[-1].Get('nVtx/hNvtxPassed'+cat.trg).Clone()\n",
    "            else:\n",
    "                hPileupTarget.Add(fAuxPileupRD[-1].Get('nVtx/hNvtxPassed'+cat.trg))\n",
    "\n",
    "        hPileupTarget.Scale(1./hPileupTarget.Integral())\n",
    "\n",
    "        fAuxPileupMC = rt.TFile.Open(mcSkimFile, 'READ')\n",
    "        hPileupGen = fAuxPileupMC.Get(histoName)\n",
    "\n",
    "        weights = np.ones(hPileupGen.GetNbinsX())\n",
    "        s = 0\n",
    "        for i in range(weights.shape[0]):\n",
    "            if hPileupGen.GetBinContent(i+1) == 0:\n",
    "                continue\n",
    "            weights[i] = hPileupTarget.GetBinContent(i+1)/(hPileupGen.GetBinContent(i+1)/hPileupGen.Integral())\n",
    "            s += (hPileupGen.GetBinContent(i+1)/hPileupGen.Integral()) * weights[i]\n",
    "\n",
    "        self.weightsPileupMC = weights/s\n",
    "\n",
    "        for f in fAuxPileupRD + [fAuxPileupMC]:\n",
    "            f.Close()\n",
    "\n",
    "    def getPileupWeights(self, arrNvtx, selection=None):\n",
    "        x = arrNvtx\n",
    "        if not selection is None:\n",
    "            x = x[selection]\n",
    "        return self.weightsPileupMC[x.astype(np.int)]"
   ]
  },
  {
   "cell_type": "code",
   "execution_count": 11,
   "metadata": {
    "ExecuteTime": {
     "end_time": "2021-03-04T19:46:39.002762Z",
     "start_time": "2021-03-04T19:46:38.286125Z"
    }
   },
   "outputs": [],
   "source": [
    "class Bauble(object):\n",
    "    pass\n",
    "\n",
    "for trg in ['Mu7_IP4', 'Mu9_IP6', 'Mu12_IP6']:\n",
    "    aux = Bauble()\n",
    "    aux.trg = trg\n",
    "    puRew = pileupReweighter(MCdsLoc[0], aux, histoName='TnP/hAllNvts')\n",
    "    nMax = np.max(dfMC['nVtx'])\n",
    "    while nMax > (puRew.weightsPileupMC.shape[0] - 1):\n",
    "        puRew.weightsPileupMC = np.append(puRew.weightsPileupMC, puRew.weightsPileupMC[-1])\n",
    "        print trg, puRew.weightsPileupMC.shape\n",
    "    dfMC['w'+trg] = puRew.weightsPileupMC[dfMC['nVtx'].astype(np.int)]"
   ]
  },
  {
   "cell_type": "code",
   "execution_count": 12,
   "metadata": {
    "ExecuteTime": {
     "end_time": "2021-03-04T19:46:53.246489Z",
     "start_time": "2021-03-04T19:46:53.231057Z"
    },
    "hide_input": true
   },
   "outputs": [],
   "source": [
    "# trg = 'Mu12_IP6'\n",
    "\n",
    "# h_list = []\n",
    "# sel = dfRD['prescale'+trg] > 0.5\n",
    "# h = create_TH1D(dfRD['nVtx'][sel], name='h',\n",
    "#                 title='Data',\n",
    "#                 axis_title=['# vertextes', 'Normalized Events'],\n",
    "#                 binning=[60, 0.5, 60.5],\n",
    "#                )\n",
    "# h_list.append(h)\n",
    "\n",
    "# sel = dfMC['prescale'+trg] > 0.5\n",
    "# h = create_TH1D(dfMC['nVtx'][sel], name='h2', title='MC PUc0', \n",
    "#                 weights=dfMC['w'+trg],\n",
    "#                 binning=h_list[0].binning)\n",
    "# h_list.append(h)\n",
    "\n",
    "# leg = rt.TLegend(0.77, 0.75, 0.95, 0.93)\n",
    "# leg.SetBorderSize(0)\n",
    "# for i, h in enumerate(h_list):\n",
    "#     h.SetLineColor(colors[i])\n",
    "#     h.SetMarkerColor(colors[i])\n",
    "#     h.Sumw2()\n",
    "#     h.Scale(1./h.Integral())\n",
    "#     leg.AddEntry(h, h.GetTitle(), 'lep')\n",
    "# m = SetMaxToMaxHist(h_list)\n",
    "# h_list[0].SetTitle('')\n",
    "\n",
    "# c = drawOnCMSCanvas(CMS_lumi, h_list, 'same')\n",
    "# leg.Draw()\n",
    "# c.Draw()"
   ]
  },
  {
   "cell_type": "markdown",
   "metadata": {},
   "source": [
    "Explore kinematic distribution to choose a binning"
   ]
  },
  {
   "cell_type": "code",
   "execution_count": 13,
   "metadata": {
    "ExecuteTime": {
     "end_time": "2021-03-04T19:47:07.620161Z",
     "start_time": "2021-03-04T19:47:07.573380Z"
    },
    "code_folding": [
     0
    ],
    "hide_input": false
   },
   "outputs": [],
   "source": [
    "def plot(var, binning, xtitle, logx=False, logy=False, ymin=1e-5, selRD=None, selMC=None):\n",
    "    h_list = []\n",
    "    x = dfRD[var]\n",
    "    if not selRD is None:\n",
    "        x = x[selRD]\n",
    "    print 'data yield: {:1.2e}'.format(x.shape[0])\n",
    "    h = create_TH1D(x, name='h',\n",
    "                    title='Data',\n",
    "                    axis_title=[xtitle, 'Normalized Events'],\n",
    "                    binning=binning,\n",
    "                    opt='underflow,overflow'\n",
    "                   )\n",
    "    h_list.append(h)\n",
    "\n",
    "    x = dfMC[var]\n",
    "    if not selMC is None:\n",
    "        x = x[selMC]\n",
    "    print 'MC yield: {:1.2e}'.format(x.shape[0])\n",
    "    h = create_TH1D(x, name='h2', title='MC PUc0', binning=h_list[0].binning,opt='underflow,overflow')\n",
    "    h_list.append(h)\n",
    "\n",
    "    leg = rt.TLegend(0.77, 0.75, 0.95, 0.93)\n",
    "    leg.SetBorderSize(0)\n",
    "    for i, h in enumerate(h_list):\n",
    "        h.SetLineColor(colors[i])\n",
    "        h.SetMarkerColor(colors[i])\n",
    "        h.Sumw2()\n",
    "        h.Scale(1./h.Integral())\n",
    "        leg.AddEntry(h, h.GetTitle(), 'lep')\n",
    "    m = SetMaxToMaxHist(h_list)\n",
    "    h_list[0].GetYaxis().SetRangeUser(ymin, m)\n",
    "    h_list[0].SetTitle('')\n",
    "\n",
    "    c = drawOnCMSCanvas(CMS_lumi, h_list, 'same')\n",
    "    leg.Draw()\n",
    "    c.Draw()\n",
    "    if logy:\n",
    "        c.SetLogy()\n",
    "    if logx:\n",
    "        c.SetLogx()\n",
    "    return [c, leg, h_list]"
   ]
  },
  {
   "cell_type": "code",
   "execution_count": 19,
   "metadata": {
    "ExecuteTime": {
     "end_time": "2021-03-04T19:54:20.553656Z",
     "start_time": "2021-03-04T19:54:19.930277Z"
    }
   },
   "outputs": [],
   "source": [
    "probeTrigger = 'HLT_Mu12_IP6'\n",
    "\n",
    "sel = {}\n",
    "\n",
    "for n, df in zip(['MC', 'RD'], [dfMC, dfRD]):\n",
    "    selTot = np.logical_and(df['mProbe_softID'] > 0.5, df['prescale'+probeTrigger[4:]] > 0)\n",
    "    selTot = np.logical_and(selTot, df['deltaR_tagProbe'] > 0.3)\n",
    "    selTot = np.logical_and(selTot, df['vtx_isGood'] > 0.5)\n",
    "    selTot = np.logical_and(selTot, np.abs(df['massMuMu_refit'] - 3.09691) < 0.1)\n",
    "    sel[n] = selTot"
   ]
  },
  {
   "cell_type": "code",
   "execution_count": 20,
   "metadata": {
    "ExecuteTime": {
     "end_time": "2021-03-04T19:54:46.022124Z",
     "start_time": "2021-03-04T19:54:44.359485Z"
    }
   },
   "outputs": [
    {
     "name": "stdout",
     "output_type": "stream",
     "text": [
      "data yield: 1.05e+07\n",
      "MC yield: 3.41e+06\n"
     ]
    },
    {
     "data": {
      "text/plain": [
       "[<ROOT.TCanvas object (\"c\") at 0xc5eb740>,\n",
       " <ROOT.TLegend object (\"TPave\") at 0xc5af640>,\n",
       " [<ROOT.TH1D object (\"h\") at 0x22e72f0>,\n",
       "  <ROOT.TH1D object (\"h2\") at 0xc60d500>]]"
      ]
     },
     "execution_count": 20,
     "metadata": {},
     "output_type": "execute_result"
    },
    {
     "data": {
      "image/png": "[encoded data removed]",
      "text/plain": [
       "<IPython.core.display.Image object>"
      ]
     },
     "metadata": {},
     "output_type": "display_data"
    }
   ],
   "source": [
    "plot('mTag_pt', np.linspace(start=5, stop=30, num=50), \n",
    "     selRD=sel['RD'], selMC=sel['MC'],\n",
    "     xtitle='Probe #mu p_{T} [GeV]', \n",
    "     logx=False, logy=False)"
   ]
  },
  {
   "cell_type": "code",
   "execution_count": 21,
   "metadata": {
    "ExecuteTime": {
     "end_time": "2021-03-04T19:55:11.162591Z",
     "start_time": "2021-03-04T19:55:09.601209Z"
    }
   },
   "outputs": [
    {
     "name": "stdout",
     "output_type": "stream",
     "text": [
      "data yield: 1.05e+07\n",
      "MC yield: 3.41e+06\n"
     ]
    },
    {
     "data": {
      "text/plain": [
       "[<ROOT.TCanvas object (\"c\") at 0xc61ac60>,\n",
       " <ROOT.TLegend object (\"TPave\") at 0xb14a7a0>,\n",
       " [<ROOT.TH1D object (\"h\") at 0xc5a66a0>,\n",
       "  <ROOT.TH1D object (\"h2\") at 0xb14a120>]]"
      ]
     },
     "execution_count": 21,
     "metadata": {},
     "output_type": "execute_result"
    },
    {
     "data": {
      "image/png": "[encoded data removed]",
      "text/plain": [
       "<IPython.core.display.Image object>"
      ]
     },
     "metadata": {},
     "output_type": "display_data"
    }
   ],
   "source": [
    "plot('mProbe_pt', np.linspace(start=5, stop=30, num=50), \n",
    "     selRD=sel['RD'], selMC=sel['MC'],\n",
    "     xtitle='Probe #mu p_{T} [GeV]', \n",
    "     logx=False, logy=False)"
   ]
  },
  {
   "cell_type": "code",
   "execution_count": null,
   "metadata": {
    "ExecuteTime": {
     "end_time": "2021-02-19T21:34:11.497244Z",
     "start_time": "2021-02-19T21:34:09.075043Z"
    }
   },
   "outputs": [],
   "source": [
    "plot('mProbe_sigdxy', np.logspace(start=0, stop=3, num=50), 'Probe #mu d_{xy}/#sigma_{d_{xy}}', logx=True, logy=False);"
   ]
  },
  {
   "cell_type": "code",
   "execution_count": null,
   "metadata": {
    "ExecuteTime": {
     "end_time": "2021-02-19T21:35:06.073910Z",
     "start_time": "2021-02-19T21:35:03.630165Z"
    }
   },
   "outputs": [],
   "source": [
    "plot('massMuMu', np.linspace(start=2.85, stop=3.3, num=100), 'mass(#mu#mu) [GeV]', logx=False, logy=False);"
   ]
  },
  {
   "cell_type": "code",
   "execution_count": null,
   "metadata": {
    "ExecuteTime": {
     "end_time": "2021-02-19T21:35:59.587844Z",
     "start_time": "2021-02-19T21:35:56.825015Z"
    }
   },
   "outputs": [],
   "source": [
    "plot('massMuMu_refit', np.linspace(start=2.85, stop=3.3, num=100), 'mass(#mu#mu) refit [GeV]',\n",
    "     selRD=dfRD['vtx_isGood']>0, selMC=dfMC['vtx_isGood']>0,\n",
    "     logx=False, logy=False);"
   ]
  },
  {
   "cell_type": "code",
   "execution_count": null,
   "metadata": {
    "ExecuteTime": {
     "end_time": "2021-02-19T21:36:54.000403Z",
     "start_time": "2021-02-19T21:36:51.189304Z"
    }
   },
   "outputs": [],
   "source": [
    "plot('mProbe_eta', np.linspace(start=-2, stop=2, num=100), 'Probe #mu #eta', logx=False, logy=False)"
   ]
  },
  {
   "cell_type": "code",
   "execution_count": null,
   "metadata": {
    "ExecuteTime": {
     "end_time": "2021-02-19T21:37:48.703074Z",
     "start_time": "2021-02-19T21:37:46.270002Z"
    }
   },
   "outputs": [],
   "source": [
    "plot('deltaR_tagProbe', \n",
    "     np.linspace(start=0, stop=0.6, num=50), \n",
    "#      np.logspace(start=-2, stop=np.log10(0.6), num=100), \n",
    "     '#Delta R (#mu tag, #mu probe)', logx=False, logy=False, ymin=1e-6);"
   ]
  },
  {
   "cell_type": "code",
   "execution_count": null,
   "metadata": {
    "ExecuteTime": {
     "end_time": "2021-02-20T01:40:15.207449Z",
     "start_time": "2021-02-20T01:40:14.081158Z"
    }
   },
   "outputs": [],
   "source": [
    "plot('mTag_HLT_Mu7_IP4', \n",
    "     [2, -0.5, 1.5], \n",
    "     'mTag_HLT_Mu7_IP4', logx=False, logy=False, ymin=1e-6);"
   ]
  },
  {
   "cell_type": "code",
   "execution_count": null,
   "metadata": {
    "ExecuteTime": {
     "end_time": "2021-02-20T01:43:19.051524Z",
     "start_time": "2021-02-20T01:43:16.732544Z"
    }
   },
   "outputs": [],
   "source": [
    "plot('mTag_sigdxy', \n",
    "     np.logspace(start=0, stop=3, num=50), \n",
    "     'Tag #mu d_{xy}/#sigma_{d_{xy}}', logx=True, logy=False);"
   ]
  }
 ],
 "metadata": {
  "kernelspec": {
   "display_name": "Python 2",
   "language": "python",
   "name": "python2"
  },
  "language_info": {
   "codemirror_mode": {
    "name": "ipython",
    "version": 2
   },
   "file_extension": ".py",
   "mimetype": "text/x-python",
   "name": "python",
   "nbconvert_exporter": "python",
   "pygments_lexer": "ipython2",
   "version": "2.7.14+"
  },
  "varInspector": {
   "cols": {
    "lenName": 16,
    "lenType": 16,
    "lenVar": 40
   },
   "kernels_config": {
    "python": {
     "delete_cmd_postfix": "",
     "delete_cmd_prefix": "del ",
     "library": "var_list.py",
     "varRefreshCmd": "print(var_dic_list())"
    },
    "r": {
     "delete_cmd_postfix": ") ",
     "delete_cmd_prefix": "rm(",
     "library": "var_list.r",
     "varRefreshCmd": "cat(var_dic_list()) "
    }
   },
   "types_to_exclude": [
    "module",
    "function",
    "builtin_function_or_method",
    "instance",
    "_Feature"
   ],
   "window_display": false
  }
 },
 "nbformat": 4,
 "nbformat_minor": 2
}
