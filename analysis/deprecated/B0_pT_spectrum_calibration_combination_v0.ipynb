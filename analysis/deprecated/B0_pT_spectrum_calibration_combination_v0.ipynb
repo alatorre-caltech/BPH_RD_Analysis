{
 "cells": [
  {
   "cell_type": "code",
   "execution_count": 1,
   "metadata": {
    "ExecuteTime": {
     "end_time": "2020-11-20T01:03:29.437331Z",
     "start_time": "2020-11-20T01:03:29.426961Z"
    }
   },
   "outputs": [],
   "source": [
    "from categoriesDef import categories\n",
    "version = 'v0'"
   ]
  },
  {
   "cell_type": "markdown",
   "metadata": {},
   "source": [
    "### Imports"
   ]
  },
  {
   "cell_type": "code",
   "execution_count": 2,
   "metadata": {
    "ExecuteTime": {
     "end_time": "2020-11-20T01:03:38.829628Z",
     "start_time": "2020-11-20T01:03:29.829600Z"
    }
   },
   "outputs": [
    {
     "name": "stdout",
     "output_type": "stream",
     "text": [
      "Welcome to JupyROOT 6.12/07\n"
     ]
    }
   ],
   "source": [
    "import numpy as np\n",
    "import scipy.stats as sps\n",
    "from glob import glob\n",
    "import pickle, yaml\n",
    "import time\n",
    "from array import array\n",
    "import pandas as pd\n",
    "import matplotlib.pyplot as plt\n",
    "import uproot as ur\n",
    "import ROOT as rt\n",
    "import root_numpy as rtnp\n",
    "import ROOT.RooFit as rf\n",
    "from scipy.special import erf\n",
    "import sys, os\n",
    "sys.path.append('../lib')\n",
    "if os.environ['CMSSW_VERSION'] != 'CMSSW_10_2_3':\n",
    "    raise\n",
    "from histo_utilities import create_TH1D, create_TH2D, std_color_list, SetMaxToMaxHist, make_ratio_plot\n",
    "from cebefo_style import Set_2D_colz_graphics\n",
    "from progressBar import ProgressBar\n",
    "\n",
    "from analysis_utilities import drawOnCMSCanvas, DSetLoader\n",
    "from lumi_utilities import getLumiByTrigger\n",
    "\n",
    "import CMS_lumi, tdrstyle\n",
    "tdrstyle.setTDRStyle()\n",
    "CMS_lumi.writeExtraText = 1\n",
    "CMS_lumi.extraText = \"     Internal\"\n",
    "\n",
    "donotdelete = []"
   ]
  },
  {
   "cell_type": "code",
   "execution_count": 3,
   "metadata": {
    "ExecuteTime": {
     "end_time": "2020-11-20T01:03:39.082700Z",
     "start_time": "2020-11-20T01:03:38.993689Z"
    }
   },
   "outputs": [],
   "source": [
    "rt.gErrorIgnoreLevel = rt.kError\n",
    "rt.RooMsgService.instance().setGlobalKillBelow(rt.RooFit.ERROR)"
   ]
  },
  {
   "cell_type": "code",
   "execution_count": 4,
   "metadata": {
    "ExecuteTime": {
     "end_time": "2020-11-20T01:03:39.243670Z",
     "start_time": "2020-11-20T01:03:39.237879Z"
    }
   },
   "outputs": [],
   "source": [
    "m_B0 = 5.27963 #1e-3*Particle.from_string('B0').mass"
   ]
  },
  {
   "cell_type": "code",
   "execution_count": 5,
   "metadata": {
    "ExecuteTime": {
     "end_time": "2020-11-20T01:03:39.403327Z",
     "start_time": "2020-11-20T01:03:39.384856Z"
    }
   },
   "outputs": [],
   "source": [
    "cl = rt.TLine()\n",
    "cl.SetLineColor(6)\n",
    "cl.SetLineStyle(9)\n",
    "cl.SetLineWidth(2)"
   ]
  },
  {
   "cell_type": "markdown",
   "metadata": {},
   "source": [
    "# Combine calibrations"
   ]
  },
  {
   "cell_type": "code",
   "execution_count": 6,
   "metadata": {
    "ExecuteTime": {
     "end_time": "2020-11-20T01:03:39.566727Z",
     "start_time": "2020-11-20T01:03:39.551671Z"
    }
   },
   "outputs": [
    {
     "data": {
      "text/plain": [
       "{'high': <categoriesDef.Bauble instance at 0x7f966e7f2c68>,\n",
       " 'low': <categoriesDef.Bauble instance at 0x7f966e7f20e0>,\n",
       " 'mid': <categoriesDef.Bauble instance at 0x7f966e7f2c20>,\n",
       " 'single': <categoriesDef.Bauble instance at 0x7f966e7f2e60>}"
      ]
     },
     "execution_count": 6,
     "metadata": {},
     "output_type": "execute_result"
    }
   ],
   "source": [
    "categories"
   ]
  },
  {
   "cell_type": "code",
   "execution_count": 7,
   "metadata": {
    "ExecuteTime": {
     "end_time": "2020-11-20T01:03:39.740873Z",
     "start_time": "2020-11-20T01:03:39.723729Z"
    }
   },
   "outputs": [],
   "source": [
    "dicRatios = {}\n",
    "template = '../data/calibration/B0pTspectrum/RatioPtSpectrum_data_over_MC_{}.pkl'\n",
    "for n, cat in categories.iteritems():\n",
    "    if n == 'single':\n",
    "        continue\n",
    "    dicRatios[cat.name] = pickle.load(open(template.format(cat.name), 'rb'))"
   ]
  },
  {
   "cell_type": "code",
   "execution_count": 8,
   "metadata": {
    "ExecuteTime": {
     "end_time": "2020-11-20T01:03:40.619874Z",
     "start_time": "2020-11-20T01:03:39.914048Z"
    }
   },
   "outputs": [
    {
     "data": {
      "text/plain": [
       "(0, 100)"
      ]
     },
     "execution_count": 8,
     "metadata": {},
     "output_type": "execute_result"
    },
    {
     "data": {
      "image/png": "[encoded data removed]",
      "text/plain": [
       "<matplotlib.figure.Figure at 0x7f9655512790>"
      ]
     },
     "metadata": {},
     "output_type": "display_data"
    }
   ],
   "source": [
    "plt.rcParams.update({'font.size': 20})\n",
    "f = plt.figure(figsize=(8,6))\n",
    "\n",
    "for n, dic in dicRatios.iteritems():\n",
    "    plt.errorbar(dic['pt'], dic['w'], yerr=dic['w_err'], fmt='.', label=n)\n",
    "\n",
    "# plt.plot(dic['pt'], np.polyval(beta, dic['pt']), '-', color='#1f77b4', label='w, Central')\n",
    "# colors = ['#ff7f0e', '#2ca02c', '#d62728', '#9467bd', '#8c564b', '#e377c2', '#7f7f7f', '#bcbd22', '#17becf']\n",
    "# for i in range(len(betaVar)):\n",
    "#     yP = np.polyval(beta+betaVar[i], dic['pt'])\n",
    "#     yM = np.polyval(beta-betaVar[i], dic['pt'])\n",
    "#     plt.plot(dic['pt'], yP, '--', color=colors[i], label='w, $\\lambda_{} \\pm 1\\sigma$'.format(i))\n",
    "#     plt.plot(dic['pt'], yM, '--', color=colors[i])\n",
    "    \n",
    "plt.plot([0,100] , [1,1], ':k')\n",
    "plt.legend(loc='best', numpoints=1, fontsize=15)\n",
    "plt.xlabel('$B_0\\ p_T$ [GeV]')\n",
    "plt.ylabel('data/MC')\n",
    "plt.ylim(0.5, 2)\n",
    "plt.xlim(0, 100)"
   ]
  },
  {
   "cell_type": "code",
   "execution_count": 9,
   "metadata": {
    "ExecuteTime": {
     "end_time": "2020-11-20T01:03:42.924885Z",
     "start_time": "2020-11-20T01:03:42.909220Z"
    }
   },
   "outputs": [],
   "source": [
    "x = []\n",
    "y = []\n",
    "yerr = []\n",
    "for n, dic in dicRatios.iteritems():\n",
    "    x += list(dic['pt'])\n",
    "    y += list(dic['w'])\n",
    "    yerr += list(dic['w_err'])\n",
    "    \n",
    "x = np.array(x)\n",
    "y = np.array(y)\n",
    "yerr = np.array(yerr)"
   ]
  },
  {
   "cell_type": "code",
   "execution_count": 11,
   "metadata": {
    "ExecuteTime": {
     "end_time": "2020-11-20T01:05:24.895736Z",
     "start_time": "2020-11-20T01:05:24.328988Z"
    }
   },
   "outputs": [
    {
     "name": "stdout",
     "output_type": "stream",
     "text": [
      "\n",
      "Chi2/dof = 225.84/110 (0.0%)\n"
     ]
    },
    {
     "data": {
      "image/png": "[encoded data removed]",
      "text/plain": [
       "<IPython.core.display.Image object>"
      ]
     },
     "metadata": {},
     "output_type": "display_data"
    }
   ],
   "source": [
    "deg = 3\n",
    "\n",
    "beta, covBeta = np.polyfit(x, y, deg=deg, full=False, w=1./yerr, cov='unscaled')\n",
    "\n",
    "res = (y - np.polyval(beta, x))/yerr\n",
    "\n",
    "chi2stat = np.sum(np.square(res))\n",
    "dof = res.shape[0]-deg-1\n",
    "pval = 1 - sps.chi2.cdf(chi2stat, df=dof)\n",
    "print '\\nChi2/dof = {:.2f}/{:.0f} ({:.1f}%)'.format(chi2stat, dof, 100*pval)\n",
    "\n",
    "h = create_TH1D(res, binning=[20, -4,4],\n",
    "                axis_title=['Normalized residuals', '# Points / # Tot'],\n",
    "                scale_histo='norm'\n",
    "               )\n",
    "h.Scale(1./h.GetBinWidth(2))\n",
    "\n",
    "fGaus = rt.TF1('fFit', 'exp(-(x-[0])*(x-[0])/(2*[1]*[1]))/({:.4f}*[1])'.format(np.sqrt(2*np.pi)), -5, 5)\n",
    "fGaus.SetParameters(0,1)\n",
    "fGaus.SetParNames('#mu','#sigma')\n",
    "h.Fit(fGaus, 'QWL')\n",
    "cResiduals = drawOnCMSCanvas(CMS_lumi, [h], ['E'], tag='residuals')"
   ]
  },
  {
   "cell_type": "code",
   "execution_count": 12,
   "metadata": {
    "ExecuteTime": {
     "end_time": "2020-11-20T01:05:46.902185Z",
     "start_time": "2020-11-20T01:05:46.863288Z"
    }
   },
   "outputs": [
    {
     "name": "stdout",
     "output_type": "stream",
     "text": [
      "Beta:  8.60e-07, -1.98e-04, 1.69e-02, 6.46e-01\n",
      "Error: 5.92e-07, 9.71e-05, 4.59e-03, 6.34e-02\n",
      "\n",
      "\n",
      "eigSigma: 6.35e-02\n",
      "eigVect: 0.00, -0.00, 0.07, -1.00\n",
      "Variation: 5.18e-07, -9.05e-05, 4.50e-03, -6.34e-02\n",
      "\n",
      "\n",
      "eigSigma: 9.22e-04\n",
      "eigVect: -0.00, 0.04, -1.00, -0.07\n",
      "Variation: -2.57e-07, 3.39e-05, -9.19e-04, -6.53e-05\n",
      "\n",
      "\n",
      "eigSigma: 4.77e-08\n",
      "eigVect: -1.00, -0.01, -0.00, -0.00\n",
      "Variation: -4.77e-08, -5.94e-10, -8.55e-12, -1.49e-13\n",
      "\n",
      "\n",
      "eigSigma: 9.64e-06\n",
      "eigVect: -0.01, 1.00, 0.04, 0.00\n",
      "Variation: -1.20e-07, 9.63e-06, 3.55e-07, 1.14e-08\n"
     ]
    }
   ],
   "source": [
    "eigVal, eigVec = np.linalg.eig(covBeta)\n",
    "eigSig = np.sqrt(eigVal)\n",
    "\n",
    "print 'Beta:  '+', '.join(beta.shape[0]*['{:1.2e}']).format(*beta)\n",
    "print 'Error: '+', '.join(beta.shape[0]*['{:1.2e}']).format(*np.sqrt(np.diag(covBeta)))\n",
    "\n",
    "betaVar = []\n",
    "for i in range(eigSig.shape[0]):\n",
    "    print '\\n'\n",
    "    betaVar.append(eigSig[i]*eigVec[:, i])\n",
    "    print 'eigSigma: {:1.2e}'.format(eigSig[i])\n",
    "    print 'eigVect: '+', '.join(beta.shape[0]*['{:.2f}']).format(*eigVec[:, i])\n",
    "    print 'Variation: '+', '.join(beta.shape[0]*['{:1.2e}']).format(*betaVar[i])\n",
    "    \n",
    "dOut = {\n",
    "    'beta': beta,\n",
    "    'betaVar' : betaVar\n",
    "}"
   ]
  },
  {
   "cell_type": "code",
   "execution_count": 16,
   "metadata": {
    "ExecuteTime": {
     "end_time": "2020-11-20T01:10:06.460677Z",
     "start_time": "2020-11-20T01:10:05.679826Z"
    }
   },
   "outputs": [
    {
     "data": {
      "text/plain": [
       "<matplotlib.text.Text at 0x7f96540a6910>"
      ]
     },
     "execution_count": 16,
     "metadata": {},
     "output_type": "execute_result"
    },
    {
     "data": {
      "image/png": "[encoded data removed]",
      "text/plain": [
       "<matplotlib.figure.Figure at 0x7f965427a150>"
      ]
     },
     "metadata": {},
     "output_type": "display_data"
    }
   ],
   "source": [
    "plt.rcParams.update({'font.size': 20})\n",
    "f = plt.figure(figsize=(8,6))\n",
    "plt.errorbar(x, y, yerr=yerr, fmt='.k', label='data/MC')\n",
    "\n",
    "xs = np.sort(x)\n",
    "plt.plot(xs, np.polyval(beta, xs), '-', color='#1f77b4', label='w, Central')\n",
    "\n",
    "colors = ['#ff7f0e', '#2ca02c', '#d62728', '#9467bd', '#8c564b', '#e377c2', '#7f7f7f', '#bcbd22', '#17becf']\n",
    "for i in range(len(betaVar)):\n",
    "    yP = np.polyval(beta+betaVar[i], xs)\n",
    "    yM = np.polyval(beta-betaVar[i], xs)\n",
    "    plt.plot(xs, yP, '--', color=colors[i], label='w, $\\lambda_{} \\pm 1\\sigma$'.format(i))\n",
    "    plt.plot(xs, yM, '--', color=colors[i])\n",
    "    \n",
    "plt.plot(x , [1]*len(x), ':k')\n",
    "plt.legend(loc='best', numpoints=1, fontsize=15)\n",
    "plt.xlabel('$B_0\\ p_T$ [GeV]')\n",
    "plt.ylabel('MC weight')\n",
    "_, ymax = plt.ylim(0.5, 2)\n",
    "plt.xlim(0.9*np.min(x), 1.1*np.max(x))\n",
    "plt.text(0.9*np.max(x) ,ymax*0.9, 'Category: ' + cat.name, horizontalalignment='right')"
   ]
  },
  {
   "cell_type": "code",
   "execution_count": null,
   "metadata": {},
   "outputs": [],
   "source": [
    "raise"
   ]
  },
  {
   "cell_type": "markdown",
   "metadata": {},
   "source": [
    "# Load data"
   ]
  },
  {
   "cell_type": "code",
   "execution_count": null,
   "metadata": {
    "ExecuteTime": {
     "end_time": "2020-11-20T00:04:07.237671Z",
     "start_time": "2020-11-20T00:04:07.144543Z"
    }
   },
   "outputs": [],
   "source": [
    "dataDir = '../data/cmsRD'\n",
    "datasets_loc = glob(dataDir + '/ParkingBPH*/*2018*B2JpsiKst_200622*')\n",
    "lumi_tot = getLumiByTrigger(datasets_loc, cat.trg, verbose=True)\n",
    "if not lumi_tot:\n",
    "    expectedLumi = {'Low':6.4, 'Mid':20., 'High':26.} #fb^-1\n",
    "    lumi_tot = expectedLumi[cat.name]\n",
    "    print 'Total lumi (estimated): {:.1f} fb^-1'.format(lumi_tot)\n",
    "CMS_lumi.integrated_lumi = lumi_tot"
   ]
  },
  {
   "cell_type": "code",
   "execution_count": null,
   "metadata": {
    "ExecuteTime": {
     "end_time": "2020-11-20T00:04:07.447968Z",
     "start_time": "2020-11-20T00:04:07.242596Z"
    }
   },
   "outputs": [],
   "source": [
    "for cat in categories:\n",
    "    dsetRD_loc = '../data/cmsRD/skimmed/B2JpsiKst_200622_{}_corr_sw.root'.format(cat.name)\n",
    "    dfRD = pd.DataFrame(rtnp.root2array(dsetRD_loc))\n",
    "    dfRD['sigSW'] = dfRD['L_nsig']/(dfRD['L_nsig']+dfRD['L_nbkg'])"
   ]
  },
  {
   "cell_type": "markdown",
   "metadata": {},
   "source": [
    "# Load MC"
   ]
  },
  {
   "cell_type": "code",
   "execution_count": null,
   "metadata": {
    "ExecuteTime": {
     "end_time": "2020-11-20T00:04:11.327588Z",
     "start_time": "2020-11-20T00:04:09.810299Z"
    }
   },
   "outputs": [],
   "source": [
    "mcSample = DSetLoader('B0_JpsiKst_PUc0', candDir='ntuples_B2JpsiKst')\n",
    "dsetMC_loc = mcSample.skimmed_dir + '/{}_corr.root'.format(cat.name)\n",
    "\n",
    "dfMC = pd.DataFrame(rtnp.root2array(dsetMC_loc))"
   ]
  },
  {
   "cell_type": "code",
   "execution_count": null,
   "metadata": {
    "ExecuteTime": {
     "end_time": "2020-11-20T00:04:11.364242Z",
     "start_time": "2020-11-20T00:04:11.332759Z"
    }
   },
   "outputs": [],
   "source": [
    "effMCgen = mcSample.effMCgen\n",
    "decayBR = pickle.load(open('../data/forcedDecayChannelsFactors.pickle', 'rb'))['JPsiKst']\n",
    "effCAND = mcSample.effCand['effCAND']\n",
    "effSkim = mcSample.getSkimEff(cat.name+'_corr')\n",
    "\n",
    "xsec_eff = 1\n",
    "dxsec = 0\n",
    "for f, df in [effMCgen['xsec'], effMCgen['effGEN'], decayBR, effCAND, effSkim]:\n",
    "    xsec_eff *= f\n",
    "    dxsec += np.square(df/f)\n",
    "dxsec = xsec_eff * np.sqrt(dxsec)\n",
    "print '\\nExpected evts/fb: {:.0f} +/- {:.0f}'.format(xsec_eff, dxsec)\n",
    "print '\\n'\n",
    "\n",
    "r = N_sig_per_fb/xsec_eff\n",
    "dr = r*np.hypot(dxsec/xsec_eff, dN_sig_per_fb/N_sig_per_fb)\n",
    "print 'Ratio with observed: {:.0f}/{:.0f} = {:.2f} +/- {:.2f}'.format(N_sig_per_fb, xsec_eff, r, dr)\n",
    "with open('../data/calibration/totalRate/ratioB02JPsiKst_{}.txt'.format(cat.name), 'w') as faux:\n",
    "    faux.write('{:.3f} {:.3f}\\n'.format(r,dr))"
   ]
  },
  {
   "cell_type": "code",
   "execution_count": null,
   "metadata": {
    "ExecuteTime": {
     "end_time": "2020-11-20T00:04:11.512519Z",
     "start_time": "2020-11-20T00:04:11.368698Z"
    }
   },
   "outputs": [],
   "source": [
    "from pileup_utilities import pileupReweighter\n",
    "puRew = pileupReweighter(dsetMC_loc, cat)\n",
    "dfMC['wPU'] = puRew.weightsPileupMC[dfMC['N_vtx'].astype(np.int)]"
   ]
  },
  {
   "cell_type": "markdown",
   "metadata": {},
   "source": [
    "# Compare"
   ]
  },
  {
   "cell_type": "markdown",
   "metadata": {},
   "source": [
    "### Closure variables"
   ]
  },
  {
   "cell_type": "code",
   "execution_count": null,
   "metadata": {
    "ExecuteTime": {
     "end_time": "2020-11-20T00:04:11.668473Z",
     "start_time": "2020-11-20T00:04:11.517124Z"
    }
   },
   "outputs": [],
   "source": [
    "hRD = create_TH1D(dfRD['N_vtx'], name='hRD',\n",
    "                title='',\n",
    "                axis_title=['Number of vertexes', 'Normalized entries'],\n",
    "                binning=[50, 0.5, 50.5],\n",
    "                weights=dfRD['sigSW'],\n",
    "                scale_histo='norm'\n",
    "               )\n",
    "hRD.SetMarkerStyle(15)\n",
    "\n",
    "hMC = create_TH1D(dfMC['N_vtx'], name='hMC',\n",
    "                  title = 'Pythia Hard b#bar{b}',\n",
    "                  binning=hRD.binning,\n",
    "                  weights=dfMC['wPU'],\n",
    "                  scale_histo='norm' \n",
    "                 )\n",
    "hMC.SetLineColor(rt.kRed)\n",
    "    \n",
    "leg = rt.TLegend(0.6, 0.6, 0.95,0.8)\n",
    "leg.SetBorderSize(0)\n",
    "leg.AddEntry(hRD, 'Data (bkg subtracted)', 'lep')\n",
    "leg.AddEntry(hMC, 'Pythia Hard b#bar{b}', 'le')\n",
    "\n",
    "CMS_lumi.integrated_lumi = lumi_tot\n",
    "m = SetMaxToMaxHist([hRD, hMC])\n",
    "c = drawOnCMSCanvas(CMS_lumi, [hRD, hMC], 'same')\n",
    "leg.Draw()\n",
    "catText.DrawLatexNDC(0.95, 0.85, 'Category: {}'.format(cat.name));"
   ]
  },
  {
   "cell_type": "markdown",
   "metadata": {},
   "source": [
    "### Load MC corrections"
   ]
  },
  {
   "cell_type": "code",
   "execution_count": null,
   "metadata": {
    "ExecuteTime": {
     "end_time": "2020-11-20T00:04:27.048557Z",
     "start_time": "2020-11-20T00:04:11.671912Z"
    }
   },
   "outputs": [],
   "source": [
    "loc = '../data/calibration/triggerScaleFactors/'\n",
    "fTriggerSF = rt.TFile.Open(loc + 'HLT_' + cat.trg + '_SF_v3.root', 'READ')\n",
    "hTriggerSF = fTriggerSF.Get('hSF_HLT_' + cat.trg)\n",
    "\n",
    "dfMC['trgSF'] = np.ones(dfMC.shape[0])\n",
    "for i, (pt, eta, ip) in enumerate(dfMC[['trgMu_pt', 'trgMu_eta', 'trgMu_sigdxy']].values):\n",
    "    ix = hTriggerSF.GetXaxis().FindBin(pt)\n",
    "    iy = hTriggerSF.GetYaxis().FindBin(ip)\n",
    "    iz = hTriggerSF.GetZaxis().FindBin(np.abs(eta))\n",
    "    dfMC.at[i, 'trgSF'] = hTriggerSF.GetBinContent(ix, iy, iz)"
   ]
  },
  {
   "cell_type": "code",
   "execution_count": null,
   "metadata": {
    "ExecuteTime": {
     "end_time": "2020-11-20T00:04:46.881135Z",
     "start_time": "2020-11-20T00:04:27.054537Z"
    }
   },
   "outputs": [],
   "source": [
    "fMuonIDSF = rt.TFile.Open('../data/calibration/muonIDscaleFactors/Run2018ABCD_SF_MuonID_Jpsi.root', 'READ')\n",
    "hMuonIDSF = fMuonIDSF.Get('NUM_SoftID_DEN_genTracks_pt_abseta')\n",
    "\n",
    "dfMC['muonSF'] = np.ones(dfMC.shape[0])\n",
    "for i, (ptp, etap, ptm, etam) in enumerate(dfMC[['MC_mup_pt', 'MC_mup_eta', 'MC_mum_pt', 'MC_mum_eta']].values):\n",
    "    ix = hMuonIDSF.GetXaxis().FindBin(min(39.9,ptp))\n",
    "    iy = hMuonIDSF.GetYaxis().FindBin(np.abs(etap))\n",
    "    wp = hMuonIDSF.GetBinContent(ix, iy)\n",
    "    ix = hMuonIDSF.GetXaxis().FindBin(min(39.9,ptm))\n",
    "    iy = hMuonIDSF.GetYaxis().FindBin(np.abs(etam))\n",
    "    wm = hMuonIDSF.GetBinContent(ix, iy)\n",
    "    dfMC.at[i, 'muonSF'] = wp * wm"
   ]
  },
  {
   "cell_type": "code",
   "execution_count": null,
   "metadata": {
    "ExecuteTime": {
     "end_time": "2020-11-20T00:04:46.901543Z",
     "start_time": "2020-11-20T00:04:46.885381Z"
    }
   },
   "outputs": [],
   "source": [
    "dfMC['w'] = dfMC['wPU']*dfMC['muonSF']*dfMC['trgSF']"
   ]
  },
  {
   "cell_type": "code",
   "execution_count": null,
   "metadata": {
    "ExecuteTime": {
     "end_time": "2020-11-20T00:04:46.940181Z",
     "start_time": "2020-11-20T00:04:46.904970Z"
    }
   },
   "outputs": [],
   "source": [
    "print 'MC purity: {:.1f}%'.format(100*np.sum(dfMC['MC_idxMatch'] == 1)/float(dfMC['MC_idxMatch'].shape[0]))"
   ]
  },
  {
   "cell_type": "code",
   "execution_count": null,
   "metadata": {
    "ExecuteTime": {
     "end_time": "2020-11-20T00:04:47.198170Z",
     "start_time": "2020-11-20T00:04:46.944809Z"
    },
    "hide_input": true
   },
   "outputs": [],
   "source": [
    "b=[50, 5.15, 5.4]\n",
    "hRD = create_TH1D(dfRD['mass_mumupiK'], name='hRD', title='RD',\n",
    "                  weights=dfRD['sigSW'],\n",
    "                  axis_title=['m(#mu#mu#pi^{-}K^{+}) [GeV]', '1/#sigma d#sigma/dm / '+'({:.2f} GeV)'.format((b[2]-b[1])/b[0])],\n",
    "                  binning=b,\n",
    "                  scale_histo='norm',\n",
    "                  opt='overflow+underflow'\n",
    "                 )\n",
    "hRD.SetMarkerStyle(15)\n",
    "\n",
    "hMCbare = create_TH1D(dfMC['mass_mumupiK'], name='hMCbare',\n",
    "                  title = 'Pythia Hard b#bar{b}',\n",
    "                  scale_histo='norm', color=1,\n",
    "                  binning=hRD.binning, opt='overflow+underflow')\n",
    "    \n",
    "hMC = create_TH1D(dfMC['mass_mumupiK'], name='hMC',\n",
    "                  weights=dfMC['w'],\n",
    "                  scale_histo='norm', color=0,\n",
    "                  binning=hRD.binning, opt='overflow+underflow')\n",
    "\n",
    "leg = rt.TLegend(0.17, 0.75, 0.6,0.93)\n",
    "leg.SetBorderSize(0)\n",
    "leg.SetFillStyle(0)\n",
    "leg.AddEntry(hRD, 'data (bkg subtracted)', 'lep')\n",
    "# leg.AddEntry(hMCbare, 'MC', 'le')\n",
    "leg.AddEntry(hMC, 'B_{0}#rightarrow J/#psi K*', 'le')\n",
    "\n",
    "CMS_lumi.extraText = 7*' ' + 'Internal'\n",
    "CMS_lumi.integrated_lumi = lumi_tot\n",
    "# c = make_ratio_plot([hRD, hMCbare, hMC], leg_pos=None, ratio_bounds=[0.0,2])\n",
    "c = make_ratio_plot([hRD, hMC], leg_pos=None, ratio_bounds=[0.7,2])\n",
    "c.pad1.SetTopMargin(0.07)\n",
    "CMS_lumi.CMS_lumi(c, -1, 0)\n",
    "c.Draw()\n",
    "catText.DrawLatexNDC(0.95, 0.9, 'Category: {}'.format(cat.name))\n",
    "leg.Draw()\n",
    "c.SaveAs('../data/calibration/B0pTspectrum/fig/massComaprison_' + cat.name + '.png')"
   ]
  },
  {
   "cell_type": "markdown",
   "metadata": {},
   "source": [
    "### The true B spectrum"
   ]
  },
  {
   "cell_type": "code",
   "execution_count": null,
   "metadata": {
    "ExecuteTime": {
     "end_time": "2020-11-20T00:04:47.371928Z",
     "start_time": "2020-11-20T00:04:47.202926Z"
    },
    "hide_input": true
   },
   "outputs": [],
   "source": [
    "b=[30,-1.8,1.8]\n",
    "binWdith = (b[2] - b[1])/float(b[0])\n",
    "hRD = create_TH1D(dfRD['B_eta'], name='hRD',\n",
    "                  weights=dfRD['nsig_sw'],\n",
    "                  title='data_{sW}',\n",
    "                  axis_title=['B_{0} #eta (reco)', \n",
    "                              '1/#sigma d#sigma/d#eta / '+'({:.2f})'.format(binWdith)],\n",
    "                  binning=b,\n",
    "                  scale_histo='norm',\n",
    "                  opt='overflow+underflow'\n",
    "                 )\n",
    "hRD.SetMarkerStyle(15)\n",
    "\n",
    "hMCb = create_TH1D(dfMC['B_eta'], name='hMCb',\n",
    "                  title = 'MC',\n",
    "                  scale_histo='norm', color=1,\n",
    "                  binning=hRD.binning, opt='overflow+underflow')\n",
    "\n",
    "hMC = create_TH1D(dfMC['B_eta'], name='hMC', \n",
    "                  weights=dfMC['w'],\n",
    "#                   title = 'MC (weights)',\n",
    "                  title = 'B_{0}#rightarrow J/#psi K*',\n",
    "                  scale_histo='norm', color=0,\n",
    "                  binning=hRD.binning, opt='overflow+underflow')\n",
    "\n",
    "CMS_lumi.extraText = '      Internal'\n",
    "c = make_ratio_plot([hRD, hMC], ratio_bounds=[0.7, 2.5], draw_opt='E1')\n",
    "# c = make_ratio_plot([hRD, hMCb, hMC], ratio_bounds=[0.7, 2.5], draw_opt='E1')\n",
    "CMS_lumi.CMS_lumi(c, -1, 0)\n",
    "c.pad1.SetTopMargin(0.07)\n",
    "c.pad1.SetRightMargin(0.035)\n",
    "c.pad2.SetRightMargin(0.035)\n",
    "c.pad2.SetLogy()\n",
    "c.leg.SetY1(0.3)\n",
    "c.leg.SetY2(0.5)\n",
    "c.leg.SetX1(0.35)\n",
    "c.leg.SetX2(0.7)\n",
    "c.Draw()\n",
    "\n",
    "c.pad1.cd()\n",
    "catText.SetTextSize(0.04)\n",
    "catText.DrawLatexNDC(0.9, 0.8, 'Category: {}'.format(cat.name))\n",
    "c.SaveAs('../data/calibration/B0pTspectrum/fig/B0etaComaprison_' + cat.name + '.png')"
   ]
  },
  {
   "cell_type": "code",
   "execution_count": null,
   "metadata": {
    "ExecuteTime": {
     "end_time": "2020-11-20T00:04:47.818193Z",
     "start_time": "2020-11-20T00:04:47.376573Z"
    },
    "hide_input": true
   },
   "outputs": [],
   "source": [
    "b = {'Low': array('d', list(np.arange(10, 50, 5)) + list(np.arange(50, 80, 10))),\n",
    "     'Mid': array('d', list(np.arange(10, 60, 4)) + list(np.arange(60, 90, 8))),\n",
    "     'High': array('d', list(np.arange(10, 90, 4)) + list(np.arange(90, 120, 15)))\n",
    "    }\n",
    "binWdith = b[cat.name][1] - b[cat.name][0]\n",
    "hRD = create_TH2D(dfRD[['B_pt', 'B_eta']].values, name='hRD_2D',\n",
    "                  weights=dfRD['nsig_sw'],\n",
    "                  title='data_{sW}',\n",
    "                  axis_title=['B_{0} p_{T} (reco) [GeV]', 'B_{0} #eta (reco)', '1/#sigma d#sigma/dp_{T}d#eta'],\n",
    "                  binning=[b[cat.name], np.arange(-1.8,1.81, 0.3)],\n",
    "                  scale_histo='norm',\n",
    "                 )\n",
    "\n",
    "hMC = create_TH2D(dfMC[['B_pt', 'B_eta']].values, name='hMC_2D',\n",
    "                  weights=dfMC['w'],\n",
    "                  binning=hRD.binning,\n",
    "                  axis_title=['B_{0} p_{T} (reco) [GeV]', 'B_{0} #eta (reco)', '1/#sigma d#sigma/dp_{T}d#eta'],\n",
    "                  scale_histo='norm',\n",
    "                  )\n",
    "\n",
    "hRatio = hMC.Clone('hRatio')\n",
    "hRatio.Divide(hRD)\n",
    "\n",
    "cc = rt.TCanvas('c2D', 'c2D', 50, 50, 1600, 600)\n",
    "cc.SetTickx(0)\n",
    "cc.SetTicky(0)\n",
    "cc.Divide(3)\n",
    "\n",
    "pad = cc.cd(1)\n",
    "pad.SetRightMargin(0.17)\n",
    "hRD.Draw('colz')\n",
    "\n",
    "pad = cc.cd(2)\n",
    "pad.SetRightMargin(0.17)\n",
    "hMC.Draw('colz')\n",
    "\n",
    "pad = cc.cd(3)\n",
    "pad.SetRightMargin(0.17)\n",
    "hRatio.Draw('colz')\n",
    "rt.gStyle.SetPaintTextFormat('.2f')\n",
    "hRatio.Draw('texte same')\n",
    "pad.SetLogz()\n",
    "\n",
    "cc.Draw()"
   ]
  },
  {
   "cell_type": "code",
   "execution_count": null,
   "metadata": {
    "ExecuteTime": {
     "end_time": "2020-11-20T00:04:47.997413Z",
     "start_time": "2020-11-20T00:04:47.822636Z"
    },
    "hide_input": false
   },
   "outputs": [],
   "source": [
    "b = {'Low': array('d', list(np.arange(10, 50, 2)) + list(np.arange(50, 90, 7))),\n",
    "     'Mid': array('d', list(np.arange(12, 60, 2)) + list(np.arange(60, 100, 5))),\n",
    "     'High': array('d', list(np.arange(18, 90, 2)) + list(np.arange(90, 120, 10)))\n",
    "    }\n",
    "     \n",
    "binWdith = b[cat.name][1] - b[cat.name][0]\n",
    "hRD = create_TH1D(dfRD['B_pt'], name='hRD',\n",
    "                  weights=dfRD['nsig_sw'],\n",
    "                  title='data_{sW}',\n",
    "                  axis_title=['B_{0} p_{T} (reco) [GeV]', \n",
    "                              '1/#sigma d#sigma/dp_{T} / '+'({:.2f} GeV)'.format(binWdith)],\n",
    "                  binning=b[cat.name],\n",
    "                  scale_histo='norm',\n",
    "                  opt='overflow+underflow'\n",
    "                 )\n",
    "hRD.SetMarkerStyle(15)\n",
    "\n",
    "hMCb = create_TH1D(dfMC['B_pt'], name='hMCb',\n",
    "                  title = 'B_{0}#rightarrow J/#psi K* (bare)',\n",
    "                  scale_histo='norm', color=1,\n",
    "                  binning=hRD.binning, opt='overflow+underflow')\n",
    "\n",
    "hMC = create_TH1D(dfMC['B_pt'], name='hMC', \n",
    "                  weights=dfMC['w'],\n",
    "                  title = 'B_{0}#rightarrow J/#psi K*',\n",
    "                  scale_histo='norm', color=0,\n",
    "                  binning=hRD.binning, opt='overflow+underflow')\n",
    "\n",
    "CMS_lumi.extraText = '      Internal'\n",
    "c = make_ratio_plot([hRD, hMC], ratio_bounds=[0.5, 2.5], draw_opt='E1')\n",
    "# c = make_ratio_plot([hRD, hMCb, hMC], ratio_bounds=[0.5, 10], draw_opt='E1')\n",
    "CMS_lumi.CMS_lumi(c, -1, 0)\n",
    "c.pad1.SetTopMargin(0.07)\n",
    "c.pad1.SetRightMargin(0.035)\n",
    "c.pad2.SetRightMargin(0.035)\n",
    "c.pad2.SetLogy()\n",
    "c.leg.SetY2(0.9)\n",
    "c.leg.SetY1(0.6)\n",
    "c.leg.SetX1(0.6)\n",
    "c.Draw()\n",
    "\n",
    "c.pad1.cd()\n",
    "catText.SetTextSize(0.04)\n",
    "catText.DrawLatexNDC(0.9, 0.5, 'Category: {}'.format(cat.name))\n",
    "c.SaveAs('../data/calibration/B0pTspectrum/fig/B0pTcomaprison_' + cat.name + '.png')"
   ]
  },
  {
   "cell_type": "code",
   "execution_count": null,
   "metadata": {
    "ExecuteTime": {
     "end_time": "2020-11-20T00:04:48.027048Z",
     "start_time": "2020-11-20T00:04:48.001748Z"
    }
   },
   "outputs": [],
   "source": [
    "dic = {'pt':[], 'w':[], 'w_err':[]}\n",
    "\n",
    "for ib in range(1, hRD.GetNbinsX()+1):\n",
    "    n = max(0, hRD.GetBinContent(ib))\n",
    "    d = hMC.GetBinContent(ib)\n",
    "    pt = hRD.GetBinCenter(ib)\n",
    "    dic['pt'].append(pt)\n",
    "    if d == 0:\n",
    "        dic['w'].append(1)\n",
    "        dic['w_err'].append(0)\n",
    "        dic['wUp'].append(1)\n",
    "        dic['wDown'].append(1)\n",
    "        continue\n",
    "        \n",
    "    en = 0.\n",
    "    ed = 0.\n",
    "    if n > 0: en = hRD.GetBinError(ib)/n\n",
    "    if d > 0: ed = hMC.GetBinError(ib)/d\n",
    "    r = n/d\n",
    "    dic['w'].append(r)\n",
    "    if en != 0 and ed != 0:\n",
    "        dr = r*np.hypot(en, ed)\n",
    "    elif en == 0:\n",
    "        dr = 0.5\n",
    "    dic['w_err'].append(dr)\n",
    "\n",
    "for k,v in dic.iteritems():\n",
    "    dic[k] = np.array(v)\n",
    "    \n",
    "pickle.dump(dic, open('../data/calibration/B0pTspectrum/RatioPtSpectrum_data_over_MC_{}.pkl'.format(cat.name), 'w'))"
   ]
  },
  {
   "cell_type": "code",
   "execution_count": null,
   "metadata": {
    "ExecuteTime": {
     "end_time": "2020-11-20T00:04:48.179560Z",
     "start_time": "2020-11-20T00:04:48.031466Z"
    },
    "hide_input": false
   },
   "outputs": [],
   "source": [
    "deg = 3\n",
    "beta, covBeta = np.polyfit(dic['pt'], dic['w'], deg=deg, full=False, w=1./dic['w_err'], cov='unscaled')\n",
    "\n",
    "res = (dic['w'] - np.polyval(beta, dic['pt']))/dic['w_err']\n",
    "\n",
    "chi2stat = np.sum(np.square(res))\n",
    "dof = res.shape[0]-deg-1\n",
    "pval = 1 - sps.chi2.cdf(chi2stat, df=dof)\n",
    "print '\\nChi2/dof = {:.2f}/{:.0f} ({:.1f}%)'.format(chi2stat, dof, 100*pval)\n",
    "\n",
    "h = create_TH1D(res, binning=[20, -5,5],\n",
    "                axis_title=['Normalized residuals', '# Points / # Tot'],\n",
    "                scale_histo='norm'\n",
    "               )\n",
    "h.Scale(1./h.GetBinWidth(2))\n",
    "\n",
    "fGaus = rt.TF1('fFit', 'exp(-(x-[0])*(x-[0])/(2*[1]*[1]))/({:.4f}*[1])'.format(np.sqrt(2*np.pi)), -5, 5)\n",
    "fGaus.SetParameters(0,1)\n",
    "fGaus.SetParNames('#mu','#sigma')\n",
    "h.Fit(fGaus, 'QWL')\n",
    "cResiduals = drawOnCMSCanvas(CMS_lumi, [h], ['E'], tag='residuals')"
   ]
  },
  {
   "cell_type": "code",
   "execution_count": null,
   "metadata": {
    "ExecuteTime": {
     "end_time": "2020-11-20T00:04:48.222970Z",
     "start_time": "2020-11-20T00:04:48.184675Z"
    },
    "hide_input": false
   },
   "outputs": [],
   "source": [
    "eigVal, eigVec = np.linalg.eig(covBeta)\n",
    "eigSig = np.sqrt(eigVal)\n",
    "\n",
    "print 'Beta:  '+', '.join(beta.shape[0]*['{:1.2e}']).format(*beta)\n",
    "print 'Error: '+', '.join(beta.shape[0]*['{:1.2e}']).format(*np.sqrt(np.diag(covBeta)))\n",
    "\n",
    "betaVar = []\n",
    "for i in range(eigSig.shape[0]):\n",
    "    print '\\n'\n",
    "    betaVar.append(eigSig[i]*eigVec[:, i])\n",
    "    print 'eigSigma: {:1.2e}'.format(eigSig[i])\n",
    "    print 'eigVect: '+', '.join(beta.shape[0]*['{:.2f}']).format(*eigVec[:, i])\n",
    "    print 'Variation: '+', '.join(beta.shape[0]*['{:1.2e}']).format(*betaVar[i])\n",
    "    \n",
    "dOut = {\n",
    "    'beta': beta,\n",
    "    'betaVar' : betaVar\n",
    "}\n",
    "\n",
    "pickle.dump(dOut, open('../data/calibration/B0pTspectrum/polyCoeffWeights_{}.pkl'.format(cat.name), 'w'))"
   ]
  },
  {
   "cell_type": "code",
   "execution_count": null,
   "metadata": {
    "ExecuteTime": {
     "end_time": "2020-11-20T00:04:49.541565Z",
     "start_time": "2020-11-20T00:04:48.226937Z"
    }
   },
   "outputs": [],
   "source": [
    "plt.rcParams.update({'font.size': 20})\n",
    "f = plt.figure(figsize=(8,6))\n",
    "plt.errorbar(dic['pt'], dic['w'], yerr=dic['w_err'], fmt='.k', label='data/MC')\n",
    "\n",
    "plt.plot(dic['pt'], np.polyval(beta, dic['pt']), '-', color='#1f77b4', label='w, Central')\n",
    "\n",
    "colors = ['#ff7f0e', '#2ca02c', '#d62728', '#9467bd', '#8c564b', '#e377c2', '#7f7f7f', '#bcbd22', '#17becf']\n",
    "for i in range(len(betaVar)):\n",
    "    yP = np.polyval(beta+betaVar[i], dic['pt'])\n",
    "    yM = np.polyval(beta-betaVar[i], dic['pt'])\n",
    "    plt.plot(dic['pt'], yP, '--', color=colors[i], label='w, $\\lambda_{} \\pm 1\\sigma$'.format(i))\n",
    "    plt.plot(dic['pt'], yM, '--', color=colors[i])\n",
    "    \n",
    "plt.plot(dic['pt'] , [1]*len(dic['pt']), ':k')\n",
    "plt.legend(loc='best', numpoints=1, fontsize=15)\n",
    "plt.xlabel('$B_0\\ p_T$ [GeV]')\n",
    "plt.ylabel('MC weight')\n",
    "_, ymax = plt.ylim()\n",
    "plt.xlim(0.9*np.min(dic['pt']), 1.1*np.max(dic['pt']))\n",
    "plt.text(0.9*np.max(dic['pt']) ,ymax*0.9, 'Category: ' + cat.name, horizontalalignment='right')\n",
    "plt.savefig('../data/calibration/B0pTspectrum/fig/polyCal_weightsVSpt_' + cat.name + '.png')"
   ]
  },
  {
   "cell_type": "code",
   "execution_count": null,
   "metadata": {
    "ExecuteTime": {
     "end_time": "2020-11-20T00:04:49.618230Z",
     "start_time": "2020-11-20T00:04:49.546167Z"
    },
    "hide_input": false
   },
   "outputs": [],
   "source": [
    "hMC2D = create_TH2D(dfMC[['B_pt', 'MC_B_pt']].values, name='hMC', title='',\n",
    "                axis_title=['B_{0} p_{T} (truth) [GeV]', 'B_{0} p_{T} (reco) [GeV]', ''],\n",
    "                binning=[50, 10, 100, 50, 10, 100]\n",
    "               )\n",
    "\n",
    "CMS_lumi.extraText = '     Simulation'\n",
    "CMS_lumi.integrated_lumi = None\n",
    "c = drawOnCMSCanvas(CMS_lumi, [hMC2D], ['colz'], mR=0.12)\n",
    "c.SetLogz()"
   ]
  },
  {
   "cell_type": "code",
   "execution_count": null,
   "metadata": {
    "ExecuteTime": {
     "end_time": "2020-11-20T00:04:49.801356Z",
     "start_time": "2020-11-20T00:04:49.623057Z"
    },
    "hide_input": false
   },
   "outputs": [],
   "source": [
    "hMC2D = create_TH2D(np.column_stack((dfMC['MC_B_pt'], dfMC['B_pt'] - dfMC['MC_B_pt'])),\n",
    "                    name='hMC', title='',\n",
    "                    axis_title=['B_{0} p_{T} (truth) [GeV]', '#Delta B_{0} p_{T} (reco-truth) [GeV]', 'Events'],\n",
    "                    binning=[50, 10, 100, 50, -5, 5],\n",
    "                    weights=dfMC['MC_idxMatch']\n",
    "                   )\n",
    "\n",
    "CMS_lumi.extraText = '     Simulation'\n",
    "CMS_lumi.integrated_lumi = None\n",
    "c = drawOnCMSCanvas(CMS_lumi, [hMC2D], ['colz'], mR=0.12)\n",
    "c.SetLogz()"
   ]
  },
  {
   "cell_type": "code",
   "execution_count": null,
   "metadata": {
    "ExecuteTime": {
     "end_time": "2020-11-20T00:04:49.922026Z",
     "start_time": "2020-11-20T00:04:49.805258Z"
    }
   },
   "outputs": [],
   "source": [
    "from pT_calibration_reader import pTCalReader\n",
    "cal_pT = pTCalReader(\n",
    "    calibration_file='../data/calibration/B0pTspectrum/polyCoeffWeights_{}.pkl'.format(cat.name)\n",
    ")"
   ]
  },
  {
   "cell_type": "code",
   "execution_count": null,
   "metadata": {
    "ExecuteTime": {
     "end_time": "2020-11-20T00:04:50.538656Z",
     "start_time": "2020-11-20T00:04:49.927142Z"
    },
    "hide_input": false
   },
   "outputs": [],
   "source": [
    "h_var = {}\n",
    "colors = [5,6,8]\n",
    "norm = None\n",
    "shape = {'C':0, 'Up':1, 'Down':-1}\n",
    "for k in ['C', 'Up', 'Down']:\n",
    "    h = create_TH1D(dfMC['B_pt'], name='h_var'+k, \n",
    "                    binning=hRD.binning, \n",
    "                    opt='underflow+overflow',\n",
    "                    weights=cal_pT.getWeights(dfMC['MC_B_pt'], shape[k])*dfMC['w'],\n",
    "                   )\n",
    "    if k == 'C':\n",
    "        norm = h.Integral()\n",
    "    h.Scale(1./float(norm))\n",
    "    h_var[k] = h\n",
    "    \n",
    "gr_stat = rt.TGraphAsymmErrors()\n",
    "gr_sys = rt.TGraphAsymmErrors()\n",
    "h_dr = hRD.Clone('h_aux_dataratio')\n",
    "h_mr = hMC.Clone('h_aux_MCratio')\n",
    "g_up = rt.TGraph()\n",
    "g_up.SetPoint(0, hMC.GetBinCenter(1)-0.5*hMC.GetBinWidth(1), 1)\n",
    "g_down = rt.TGraph()\n",
    "g_down.SetPoint(0, hMC.GetBinCenter(1)-0.5*hMC.GetBinWidth(1), 1)\n",
    "for ib in range(1, hRD.GetNbinsX()+1):\n",
    "    x = hRD.GetBinCenter(ib)\n",
    "    y = h_var['C'].GetBinContent(ib)\n",
    "    c = h_dr.GetBinContent(ib)\n",
    "    e = h_dr.GetBinError(ib)\n",
    "    h_dr.SetBinContent(ib, c/y)\n",
    "    h_dr.SetBinError(ib, e/y)\n",
    "    c = h_mr.GetBinContent(ib)\n",
    "    e = h_mr.GetBinError(ib)\n",
    "    h_mr.SetBinContent(ib, c/y)\n",
    "    h_mr.SetBinError(ib, e/y)\n",
    "    gr_stat.SetPoint(ib-1, x, y)\n",
    "    dx = 0.5*hMC.GetBinWidth(ib)\n",
    "    dy = h_var['C'].GetBinError(ib)\n",
    "    gr_stat.SetPointError(ib-1, dx, dx, dy, dy)\n",
    "    \n",
    "    dy_low = max(y-h_var['Up'].GetBinContent(ib), y-h_var['Down'].GetBinContent(ib))\n",
    "    dy_up = max(h_var['Up'].GetBinContent(ib)-y, h_var['Down'].GetBinContent(ib)-y)\n",
    "    gr_sys.SetPoint(ib-1, x, y)\n",
    "    gr_sys.SetPointError(ib-1, dx, dx, dy_low, dy_up)\n",
    "    \n",
    "    x_low = h_dr.GetBinCenter(ib) - 0.5*h_dr.GetBinWidth(ib)\n",
    "    x_up = h_dr.GetBinCenter(ib) + 0.5*h_dr.GetBinWidth(ib)\n",
    "    g_up.SetPoint(2*ib-1, x_low, (y+dy_up)/y)\n",
    "    g_up.SetPoint(2*ib, x_up, (y+dy_up)/y)\n",
    "    g_down.SetPoint(2*ib-1, x_low, (y-dy_low)/y)\n",
    "    g_down.SetPoint(2*ib, x_up, (y-dy_low)/y)\n",
    "g_up.SetPoint(2*ib+1, x_up, 1)\n",
    "g_down.SetPoint(2*ib+1, x_up, 1)\n",
    "gr_stat.SetLineColor(rt.kRed-4)\n",
    "gr_stat.SetLineWidth(2)\n",
    "gr_stat.SetMarkerColor(rt.kRed-4)\n",
    "gr_sys.SetFillColor(rt.kRed-4)\n",
    "gr_sys.SetFillStyle(3005)\n",
    "gr_sys.SetLineWidth(0)\n",
    "    \n",
    "\n",
    "leg = rt.TLegend(0.5, 0.3, 0.93,0.55)\n",
    "leg.SetBorderSize(0)\n",
    "leg.AddEntry(hRD, hRD.GetTitle(), 'lep')\n",
    "leg.AddEntry(hMC, 'B_{0}#rightarrow J/#psi K*', 'le')\n",
    "leg.AddEntry(gr_stat, 'B_{0}#rightarrow J/#psi K* (p_{T} weights)', 'lep')\n",
    "leg.AddEntry(gr_sys, 'Weight systematics', 'f')\n",
    "\n",
    "SetMaxToMaxHist([hRD, hMC])\n",
    "c = rt.TCanvas('c', 'c', 50, 50, 800, 700)\n",
    "c.SetTickx(0)\n",
    "c.SetTicky(0)\n",
    "\n",
    "pad = rt.TPad('pmain', 'pmain', 0, 0.25, 1, 1)\n",
    "pad.SetBottomMargin(0.015)\n",
    "pad.SetTopMargin(0.07)\n",
    "pad.SetRightMargin(0.05)\n",
    "pad.SetLeftMargin(0.15)\n",
    "pad.Draw()\n",
    "pad.cd()\n",
    "hRD.Draw()\n",
    "hMC.Draw('same')\n",
    "gr_stat.Draw('p')\n",
    "gr_sys.Draw('2')\n",
    "leg.Draw()\n",
    "catText.DrawLatexNDC(0.9, 0.6, 'Category: {}'.format(cat.name))\n",
    "CMS_lumi.extraText = '     Internal'\n",
    "CMS_lumi.integrated_lumi = lumi_tot\n",
    "CMS_lumi.CMS_lumi(pad, -1, 33, cmsTextSize=0.75*1.2, lumiTextSize=0.6*1.2)\n",
    "\n",
    "c.cd()\n",
    "pad = rt.TPad('ppull', 'ppull', 0, 0, 1, 0.25)\n",
    "pad.SetBottomMargin(0.5)\n",
    "pad.SetTopMargin(0.03)\n",
    "pad.SetRightMargin(0.05)\n",
    "pad.SetLeftMargin(0.15)\n",
    "pad.Draw('same')\n",
    "pad.cd()\n",
    "h_dr.GetYaxis().SetTitle('RD/MC')\n",
    "t = 0.15\n",
    "h_dr.GetYaxis().SetRangeUser(1 - 3*t, 1 + 3*t)\n",
    "h_dr.GetYaxis().SetTitleOffset(0.5)\n",
    "h_dr.GetYaxis().SetTitleSize(0.14)\n",
    "h_dr.GetYaxis().SetLabelSize(0.15)\n",
    "h_dr.GetYaxis().SetNdivisions(-203)\n",
    "h_dr.GetXaxis().SetTitleOffset(0.95)\n",
    "h_dr.GetXaxis().SetTitleSize(0.2)\n",
    "h_dr.GetXaxis().SetLabelSize(0.18)\n",
    "h_dr.GetXaxis().SetTickSize(0.07)\n",
    "h_dr.Draw('E0')\n",
    "h_mr.Draw('sameE0')\n",
    "g_up.SetFillColor(rt.kRed-4)\n",
    "g_up.SetFillStyle(3005)\n",
    "g_up.Draw('F')\n",
    "g_down.SetFillColor(rt.kRed-4)\n",
    "g_down.SetFillStyle(3005)\n",
    "g_down.Draw('F')\n",
    "gh_dr = rt.TGraphErrors()\n",
    "for i in range(1, h_dr.GetNbinsX()+1):\n",
    "    gh_dr.SetPoint(i-1, h_dr.GetBinCenter(i), h_dr.GetBinContent(i))\n",
    "    gh_dr.SetPointError(i-1, h_dr.GetBinError(i))\n",
    "gh_dr.SetLineColor(h_dr.GetLineColor())\n",
    "gh_dr.Draw('P0')\n",
    "ax = h_dr.GetYaxis()\n",
    "ax.ChangeLabel(1, -1, -1, -1, -1, -1, ' ')\n",
    "ax.ChangeLabel(4, -1, -1, -1, -1, -1, ' ')\n",
    "\n",
    "l = rt.TLine()\n",
    "l.SetLineColor(rt.kGray+1)\n",
    "l.SetLineWidth(1)\n",
    "l.SetLineStyle(9)\n",
    "x_low = h_dr.GetBinCenter(1)-0.5*h_dr.GetBinWidth(1)\n",
    "x_high = h_dr.GetBinCenter(h_dr.GetNbinsX())+0.5*h_dr.GetBinWidth(h_dr.GetNbinsX())\n",
    "l.DrawLine(x_low, 1, x_high, 1)\n",
    "\n",
    "\n",
    "c.Draw()\n",
    "c.SaveAs('../data/calibration/B0pTspectrum/fig/closure_' + cat.name + '_'+version+'.png')"
   ]
  },
  {
   "cell_type": "code",
   "execution_count": null,
   "metadata": {
    "ExecuteTime": {
     "end_time": "2020-11-20T00:04:50.778752Z",
     "start_time": "2020-11-20T00:04:50.543224Z"
    }
   },
   "outputs": [],
   "source": [
    "raise"
   ]
  },
  {
   "cell_type": "markdown",
   "metadata": {
    "heading_collapsed": true
   },
   "source": [
    "# Apply to signal process"
   ]
  },
  {
   "cell_type": "markdown",
   "metadata": {
    "hidden": true
   },
   "source": [
    "## Load RD"
   ]
  },
  {
   "cell_type": "code",
   "execution_count": null,
   "metadata": {
    "ExecuteTime": {
     "end_time": "2020-11-20T00:04:50.780149Z",
     "start_time": "2020-11-20T00:03:59.481Z"
    },
    "hidden": true
   },
   "outputs": [],
   "source": [
    "creation_date = '200515'\n",
    "locRD = '../data/cmsRD/skimmed/B2DstMu_B0_{}_{}'.format(creation_date, cat.name)\n",
    "dfRDsig = rtnp.root2array(locRD + '_corr.root', branches=['B_pt', 'B_eta'])\n",
    "dataDir = '../data/cmsRD'\n",
    "datasets_loc = glob(dataDir + '/ParkingBPH*/*RDntuplizer_B2DstMu_{}_CAND.root'.format(creation_date))\n",
    "lumi_tot = getLumiByTrigger(datasets_loc, cat.trg)\n",
    "CMS_lumi.integrated_lumi = lumi_tot"
   ]
  },
  {
   "cell_type": "markdown",
   "metadata": {
    "hidden": true
   },
   "source": [
    "## Load MC and corrections"
   ]
  },
  {
   "cell_type": "code",
   "execution_count": null,
   "metadata": {
    "ExecuteTime": {
     "end_time": "2020-11-20T00:04:50.782113Z",
     "start_time": "2020-11-20T00:03:59.483Z"
    },
    "hidden": true
   },
   "outputs": [],
   "source": [
    "mcSampleMu = DSetLoader('B0_MuNuDmst_PUc0')\n",
    "locMC = mcSampleMu.skimmed_dir + '/{}_corr.root'.format(cat.name)\n",
    "dfMCsig = pd.DataFrame(rtnp.root2array(locMC))"
   ]
  },
  {
   "cell_type": "code",
   "execution_count": null,
   "metadata": {
    "ExecuteTime": {
     "end_time": "2020-11-20T00:04:50.784028Z",
     "start_time": "2020-11-20T00:03:59.485Z"
    },
    "hidden": true
   },
   "outputs": [],
   "source": [
    "# Pileup weights\n",
    "puRew = pileupReweighter(locMC, cat)\n",
    "dfMCsig['wPU'] = puRew.weightsPileupMC[dfMCsig['N_vtx'].astype(np.int)]"
   ]
  },
  {
   "cell_type": "code",
   "execution_count": null,
   "metadata": {
    "ExecuteTime": {
     "end_time": "2020-11-20T00:04:50.785915Z",
     "start_time": "2020-11-20T00:03:59.487Z"
    },
    "hidden": true
   },
   "outputs": [],
   "source": [
    "dfMCsig['trgSF'] = np.ones(dfMCsig.shape[0])\n",
    "for i, (pt, eta, ip) in enumerate(dfMCsig[['mu_pt', 'mu_eta', 'mu_sigdxy']].values):\n",
    "    ix = hTriggerSF.GetXaxis().FindBin(pt)\n",
    "    iy = hTriggerSF.GetYaxis().FindBin(ip)\n",
    "    iz = hTriggerSF.GetZaxis().FindBin(np.abs(eta))\n",
    "    dfMCsig.at[i, 'trgSF'] = hTriggerSF.GetBinContent(ix, iy, iz)"
   ]
  },
  {
   "cell_type": "code",
   "execution_count": null,
   "metadata": {
    "ExecuteTime": {
     "end_time": "2020-11-20T00:04:50.787816Z",
     "start_time": "2020-11-20T00:03:59.490Z"
    },
    "hidden": true
   },
   "outputs": [],
   "source": [
    "dfMCsig['muonSF'] = np.ones(dfMCsig.shape[0])\n",
    "for i, (pt, eta) in enumerate(dfMCsig[['MC_mu_pt', 'MC_mu_eta']].values):\n",
    "    ix = hMuonIDSF.GetXaxis().FindBin(min(39.9,pt))\n",
    "    iy = hMuonIDSF.GetYaxis().FindBin(np.abs(eta))\n",
    "    dfMCsig.at[i, 'muonSF'] = hMuonIDSF.GetBinContent(ix, iy)"
   ]
  },
  {
   "cell_type": "code",
   "execution_count": null,
   "metadata": {
    "ExecuteTime": {
     "end_time": "2020-11-20T00:04:50.789579Z",
     "start_time": "2020-11-20T00:03:59.493Z"
    },
    "hidden": true
   },
   "outputs": [],
   "source": [
    "dfMCsig['w'] = dfMCsig['wPU'] * dfMCsig['trgSF'] * dfMCsig['muonSF']"
   ]
  },
  {
   "cell_type": "code",
   "execution_count": null,
   "metadata": {
    "ExecuteTime": {
     "end_time": "2020-11-20T00:04:50.791504Z",
     "start_time": "2020-11-20T00:03:59.495Z"
    },
    "hidden": true
   },
   "outputs": [],
   "source": [
    "for k in cal_pT.f.keys():\n",
    "    dfMCsig['wB0pT_'+k] = cal_pT.f[k](dfMCsig['MC_B_pt'])"
   ]
  },
  {
   "cell_type": "markdown",
   "metadata": {
    "hidden": true
   },
   "source": [
    "## Plot"
   ]
  },
  {
   "cell_type": "code",
   "execution_count": null,
   "metadata": {
    "ExecuteTime": {
     "end_time": "2020-11-20T00:04:50.793148Z",
     "start_time": "2020-11-20T00:03:59.498Z"
    },
    "hidden": true,
    "hide_input": true
   },
   "outputs": [],
   "source": [
    "b = {'Low': array('d', list(np.arange(10, 50, 2)) + list(np.arange(50, 90, 5))),\n",
    "     'Mid': array('d', list(np.arange(10, 60, 2)) + list(np.arange(60, 90, 5))),\n",
    "     'High': array('d', list(np.arange(10, 90, 2)) + list(np.arange(90, 120, 10)))\n",
    "    }\n",
    "     \n",
    "binWdith = b[cat.name][1] - b[cat.name][0]\n",
    "hRD = create_TH1D(dfRDsig['B_pt'], name='hRD', title='data',\n",
    "                  axis_title=['B_{0} p_{T} (reco) [GeV]', \n",
    "                              '1/#sigma d#sigma/dp_{T} / '+'({:.2f} GeV)'.format(binWdith)],\n",
    "                  binning=b[cat.name],\n",
    "                  scale_histo='norm',\n",
    "                  opt='overflow+underflow'\n",
    "                 )\n",
    "hRD.SetMarkerStyle(15)\n",
    "\n",
    "hMCb = create_TH1D(dfMCsig['B_pt'], name='hMCb',\n",
    "                  title='B_{0}#rightarrow D*#mu#nu',\n",
    "                  weights=dfMCsig['w'],\n",
    "                  scale_histo='norm', color=0,\n",
    "                  binning=hRD.binning, opt='overflow+underflow')\n",
    "\n",
    "hMC = create_TH1D(dfMCsig['B_pt'], name='hMC', \n",
    "                  weights=dfMCsig['w'] * dfMCsig['wB0pT_C'],\n",
    "                  title = 'B_{0}#rightarrow D*#mu#nu (p_{T} weights)',\n",
    "                  scale_histo='norm', color=1,\n",
    "                  binning=hRD.binning, opt='overflow+underflow')\n",
    "\n",
    "CMS_lumi.extraText = '      Internal'\n",
    "cf = make_ratio_plot([hRD, hMCb, hMC], ratio_bounds=[0.5, 1.5], draw_opt='E1')\n",
    "CMS_lumi.CMS_lumi(cf, -1, 0)\n",
    "cf.leg.SetY2(0.9)\n",
    "cf.leg.SetY1(0.6)\n",
    "cf.leg.SetX1(0.5)\n",
    "\n",
    "hUp = create_TH1D(dfMCsig['B_pt'], name='hMCup', weights=dfMCsig['w'] * dfMCsig['wB0pT_Up'],\n",
    "                  scale_histo='norm', binning=hRD.binning, opt='overflow+underflow')\n",
    "hUp.Divide(hRD)\n",
    "hUp.Sumw2(0)\n",
    "hUp.SetLineColor(rt.kRed-9)\n",
    "hDw = create_TH1D(dfMCsig['B_pt'], name='hMCdw', weights=dfMCsig['w'] * dfMCsig['wB0pT_Down'],\n",
    "                  scale_histo='norm', binning=hRD.binning, opt='overflow+underflow')\n",
    "hDw.Divide(hRD)\n",
    "hDw.Sumw2(0)\n",
    "hDw.SetLineColor(rt.kRed-9)\n",
    "\n",
    "cf.pad2.cd()\n",
    "\n",
    "hUp.Draw('same')\n",
    "hDw.Draw('same')\n",
    "\n",
    "cf.pad1.SetTopMargin(0.07)\n",
    "cf.pad1.SetRightMargin(0.035)\n",
    "cf.pad2.SetRightMargin(0.035)\n",
    "# cf.pad2.SetLogy()\n",
    "\n",
    "cf.pad1.cd()\n",
    "catText.SetTextSize(0.04)\n",
    "catText.DrawLatexNDC(0.9, 0.5, 'Category: {}'.format(cat.name));\n",
    "cf.Draw()\n",
    "cf.SaveAs('../data/calibration/B0pTspectrum/fig/B0DstMuNu_MCRD_comp_' + cat.name + '_pt.png')"
   ]
  },
  {
   "cell_type": "code",
   "execution_count": null,
   "metadata": {
    "ExecuteTime": {
     "end_time": "2020-11-20T00:04:50.794985Z",
     "start_time": "2020-11-20T00:03:59.500Z"
    },
    "hidden": true,
    "hide_input": false
   },
   "outputs": [],
   "source": [
    "b = array('d', list(np.arange(-1.8, 1.81, 0.05)))\n",
    "     \n",
    "binWdith = b[1] - b[0]\n",
    "hRD = create_TH1D(dfRDsig['B_eta'], name='hRD', title='data',\n",
    "                  axis_title=['B_{0} #eta (reco)', \n",
    "                              '1/#sigma d#sigma/d#eta / '+'({:.2f})'.format(binWdith)],\n",
    "                  binning=b,\n",
    "                  scale_histo='norm',\n",
    "                  opt='overflow+underflow'\n",
    "                 )\n",
    "hRD.SetMarkerStyle(15)\n",
    "\n",
    "hMCb = create_TH1D(dfMCsig['B_eta'], name='hMCb',\n",
    "                  title='B_{0}#rightarrow D*#mu#nu',\n",
    "                  weights=dfMCsig['w'],\n",
    "                  scale_histo='norm', color=0,\n",
    "                  binning=hRD.binning, opt='overflow+underflow')\n",
    "\n",
    "hMC = create_TH1D(dfMCsig['B_eta'], name='hMC', \n",
    "                  weights=dfMCsig['w'] * dfMCsig['wB0pT_C'],\n",
    "                  title = 'B_{0}#rightarrow D*#mu#nu (p_{T} weights)',\n",
    "                  scale_histo='norm', color=1,\n",
    "                  binning=hRD.binning, opt='overflow+underflow')\n",
    "\n",
    "CMS_lumi.extraText = '      Internal'\n",
    "cf = make_ratio_plot([hRD, hMCb, hMC], ratio_bounds=[0.5, 1.5], draw_opt='E1')\n",
    "CMS_lumi.CMS_lumi(cf, -1, 0)\n",
    "cf.leg.SetY2(0.6)\n",
    "cf.leg.SetY1(0.4)\n",
    "cf.leg.SetX1(0.35)\n",
    "cf.leg.SetX2(0.75)\n",
    "\n",
    "hUp = create_TH1D(dfMCsig['B_eta'], name='hMCup', weights=dfMCsig['w'] * dfMCsig['wB0pT_Up'],\n",
    "                  scale_histo='norm', binning=hRD.binning, opt='overflow+underflow')\n",
    "hUp.Divide(hRD)\n",
    "hUp.Sumw2(0)\n",
    "hUp.SetLineColor(rt.kRed-9)\n",
    "hDw = create_TH1D(dfMCsig['B_eta'], name='hMCdw', weights=dfMCsig['w'] * dfMCsig['wB0pT_Down'],\n",
    "                  scale_histo='norm', binning=hRD.binning, opt='overflow+underflow')\n",
    "hDw.Divide(hRD)\n",
    "hDw.Sumw2(0)\n",
    "hDw.SetLineColor(rt.kRed-9)\n",
    "\n",
    "cf.pad2.cd()\n",
    "\n",
    "hUp.Draw('same')\n",
    "hDw.Draw('same')\n",
    "\n",
    "cf.pad1.SetTopMargin(0.07)\n",
    "cf.pad1.SetRightMargin(0.035)\n",
    "cf.pad2.SetRightMargin(0.035)\n",
    "# cf.pad2.SetLogy()\n",
    "\n",
    "cf.pad1.cd()\n",
    "catText.SetTextSize(0.04)\n",
    "catText.DrawLatexNDC(0.9, 0.85, 'Category: {}'.format(cat.name));\n",
    "cf.Draw()\n",
    "cf.SaveAs('../data/calibration/B0pTspectrum/fig/B0DstMuNu_MCRD_comp_' + cat.name + '_eta.png')"
   ]
  },
  {
   "cell_type": "code",
   "execution_count": null,
   "metadata": {
    "ExecuteTime": {
     "end_time": "2020-11-20T00:04:50.796930Z",
     "start_time": "2020-11-20T00:03:59.502Z"
    },
    "hidden": true
   },
   "outputs": [],
   "source": [
    "hRatio = hRD.Clone('hRatio')\n",
    "hRatio.Divide(hMC)\n",
    "xCorr = np.zeros(hRatio.GetNbinsX())\n",
    "yCorr = np.zeros(hRatio.GetNbinsX())\n",
    "yErrCorr = np.zeros(hRatio.GetNbinsX())\n",
    "for i in range(1, hRatio.GetNbinsX()+1):\n",
    "    xCorr[i-1] = hRatio.GetBinCenter(i)\n",
    "    yCorr[i-1] = hRatio.GetBinContent(i)\n",
    "    yErrCorr[i-1] = hRatio.GetBinError(i)\n",
    "    \n",
    "sel = yErrCorr > 0\n",
    "p = np.polyfit(xCorr[sel], yCorr[sel], w=1./yErrCorr[sel], deg=8)\n",
    "pickle.dump( p, open( '../data/calibration/B0pTspectrum/etaWeights_poly_{}.p'.format(cat.name), 'wb' ) )\n",
    "\n",
    "plt.figure(figsize=(8,6))\n",
    "plt.plot(xCorr, [1]*len(xCorr), '--', color='gray')\n",
    "plt.errorbar(xCorr, yCorr, yErrCorr, fmt='.')\n",
    "plt.plot(xCorr, np.polyval(p=p, x=xCorr), '', color='red')\n",
    "plt.xlabel(r'B $\\eta$')\n",
    "plt.ylabel(r'data/MC')\n",
    "plt.ylim(0.5,1.5)"
   ]
  },
  {
   "cell_type": "code",
   "execution_count": null,
   "metadata": {
    "ExecuteTime": {
     "end_time": "2020-11-20T00:04:50.798832Z",
     "start_time": "2020-11-20T00:03:59.503Z"
    },
    "hidden": true
   },
   "outputs": [],
   "source": [
    "dfMCsig['wB0eta'] = np.polyval(p=p, x=dfMCsig['B_eta'])"
   ]
  },
  {
   "cell_type": "code",
   "execution_count": null,
   "metadata": {
    "ExecuteTime": {
     "end_time": "2020-11-20T00:04:50.800557Z",
     "start_time": "2020-11-20T00:03:59.505Z"
    },
    "hidden": true
   },
   "outputs": [],
   "source": [
    "hMCeta = create_TH1D(dfMCsig['B_eta'], name='hMCeta', \n",
    "                     weights=dfMCsig['w'] * dfMCsig['wB0pT_C'] * dfMCsig['wB0eta'],\n",
    "                     title = 'B_{0}#rightarrow D*#mu#nu (#eta & p_{T} weights)',\n",
    "                     scale_histo='norm', color=2,\n",
    "                     binning=hRD.binning, opt='overflow+underflow')\n",
    "\n",
    "cf = make_ratio_plot([hRD, hMC, hMCeta], ratio_bounds=[0.8, 1.2], draw_opt='E1')\n",
    "CMS_lumi.CMS_lumi(cf, -1, 0)\n",
    "cf.leg.SetY2(0.6)\n",
    "cf.leg.SetY1(0.4)\n",
    "cf.leg.SetX1(0.35)\n",
    "cf.leg.SetX2(0.75)\n",
    "\n",
    "cf.pad1.SetTopMargin(0.07)\n",
    "cf.pad1.SetRightMargin(0.035)\n",
    "cf.pad2.SetRightMargin(0.035)\n",
    "# cf.pad2.SetLogy()\n",
    "\n",
    "cf.pad1.cd()\n",
    "catText.SetTextSize(0.04)\n",
    "catText.DrawLatexNDC(0.9, 0.85, 'Category: {}'.format(cat.name));\n",
    "cf.Draw()\n",
    "# cf.SaveAs('../data/calibration/B0pTspectrum/fig/B0DstMuNu_MCRD_comp_' + cat.name + '_eta.png')"
   ]
  },
  {
   "cell_type": "code",
   "execution_count": null,
   "metadata": {
    "hidden": true
   },
   "outputs": [],
   "source": []
  }
 ],
 "metadata": {
  "kernelspec": {
   "display_name": "Python 2",
   "language": "python",
   "name": "python2"
  },
  "language_info": {
   "codemirror_mode": {
    "name": "ipython",
    "version": 2
   },
   "file_extension": ".py",
   "mimetype": "text/x-python",
   "name": "python",
   "nbconvert_exporter": "python",
   "pygments_lexer": "ipython2",
   "version": "2.7.14+"
  },
  "varInspector": {
   "cols": {
    "lenName": 16,
    "lenType": 16,
    "lenVar": 40
   },
   "kernels_config": {
    "python": {
     "delete_cmd_postfix": "",
     "delete_cmd_prefix": "del ",
     "library": "var_list.py",
     "varRefreshCmd": "print(var_dic_list())"
    },
    "r": {
     "delete_cmd_postfix": ") ",
     "delete_cmd_prefix": "rm(",
     "library": "var_list.r",
     "varRefreshCmd": "cat(var_dic_list()) "
    }
   },
   "types_to_exclude": [
    "module",
    "function",
    "builtin_function_or_method",
    "instance",
    "_Feature"
   ],
   "window_display": false
  }
 },
 "nbformat": 4,
 "nbformat_minor": 2
}
