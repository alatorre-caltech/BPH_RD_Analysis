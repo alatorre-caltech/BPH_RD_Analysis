{
 "cells": [
  {
   "cell_type": "code",
   "execution_count": 1,
   "metadata": {
    "ExecuteTime": {
     "end_time": "2021-02-19T21:25:15.487134Z",
     "start_time": "2021-02-19T21:25:15.480200Z"
    }
   },
   "outputs": [],
   "source": [
    "version = 'v8base'"
   ]
  },
  {
   "cell_type": "markdown",
   "metadata": {},
   "source": [
    "### Imports"
   ]
  },
  {
   "cell_type": "code",
   "execution_count": 2,
   "metadata": {
    "ExecuteTime": {
     "end_time": "2021-02-19T21:25:27.511758Z",
     "start_time": "2021-02-19T21:25:16.408696Z"
    }
   },
   "outputs": [
    {
     "name": "stdout",
     "output_type": "stream",
     "text": [
      "Welcome to JupyROOT 6.12/07\n"
     ]
    }
   ],
   "source": [
    "import numpy as np\n",
    "import pandas as pd\n",
    "import scipy.stats as sps\n",
    "from glob import glob\n",
    "import pickle, re\n",
    "import time\n",
    "from array import array\n",
    "from scipy.interpolate import interp1d\n",
    "import multiprocessing\n",
    "import matplotlib.pyplot as plt\n",
    "import uproot as ur\n",
    "import ROOT as rt\n",
    "import root_numpy as rtnp\n",
    "import ROOT.RooFit as rf\n",
    "from scipy.special import erf\n",
    "import sys, os\n",
    "import itertools\n",
    "sys.path.append('../lib')\n",
    "if os.environ['CMSSW_VERSION'] != 'CMSSW_10_2_3':\n",
    "    raise\n",
    "from histo_utilities import create_TH1D, create_TH2D, std_color_list, SetMaxToMaxHist, make_ratio_plot\n",
    "from cebefo_style import Set_2D_colz_graphics\n",
    "from progressBar import ProgressBar\n",
    "\n",
    "from analysis_utilities import drawOnCMSCanvas, extarct, extarct_multiple, createSel\n",
    "from lumi_utilities import getLumiByTrigger\n",
    "\n",
    "import CMS_lumi, tdrstyle\n",
    "tdrstyle.setTDRStyle()\n",
    "CMS_lumi.writeExtraText = 1\n",
    "CMS_lumi.extraText = \"     Internal\"\n",
    "\n",
    "donotdelete = []"
   ]
  },
  {
   "cell_type": "code",
   "execution_count": 3,
   "metadata": {
    "ExecuteTime": {
     "end_time": "2021-02-19T21:27:44.377487Z",
     "start_time": "2021-02-19T21:27:44.198264Z"
    }
   },
   "outputs": [
    {
     "name": "stdout",
     "output_type": "stream",
     "text": [
      "Creating /storage/user/ocerri/public_html/BPH_RDst/triggerScaleFactors/v8base\n"
     ]
    }
   ],
   "source": [
    "rt.gErrorIgnoreLevel = rt.kError\n",
    "rt.RooMsgService.instance().setGlobalKillBelow(rt.RooFit.ERROR)\n",
    "webFolder = '/storage/user/ocerri/public_html/BPH_RDst/triggerScaleFactors/'+version\n",
    "if not os.path.isdir(webFolder):\n",
    "    print 'Creating', webFolder\n",
    "    os.makedirs(webFolder)\n",
    "    os.system('cp '+webFolder+'/../index.php '+webFolder+'/')"
   ]
  },
  {
   "cell_type": "code",
   "execution_count": 4,
   "metadata": {
    "ExecuteTime": {
     "end_time": "2021-02-19T21:27:53.686432Z",
     "start_time": "2021-02-19T21:27:53.655194Z"
    }
   },
   "outputs": [],
   "source": [
    "cl = rt.TLine()\n",
    "cl.SetLineColor(6)\n",
    "cl.SetLineStyle(9)\n",
    "cl.SetLineWidth(2)"
   ]
  },
  {
   "cell_type": "code",
   "execution_count": 5,
   "metadata": {
    "ExecuteTime": {
     "end_time": "2021-02-19T21:27:54.143131Z",
     "start_time": "2021-02-19T21:27:54.127640Z"
    }
   },
   "outputs": [],
   "source": [
    "colors = [rt.kBlack, rt.kAzure+1, rt.kRed-4, rt.kGreen+1, rt.kViolet-7]"
   ]
  },
  {
   "cell_type": "markdown",
   "metadata": {},
   "source": [
    "# Load data"
   ]
  },
  {
   "cell_type": "code",
   "execution_count": 6,
   "metadata": {
    "ExecuteTime": {
     "end_time": "2021-02-19T21:27:57.491782Z",
     "start_time": "2021-02-19T21:27:57.475413Z"
    }
   },
   "outputs": [],
   "source": [
    "branchesToLoad = ['mTag_pt', 'mTag_eta', 'mTag_phi', 'mTag_sigdxy',\n",
    "                  'mTag_softID', 'mTag_tightID',\n",
    "                  'mTag_HLT_Mu7_IP4', 'mTag_HLT_Mu9_IP6', 'mTag_HLT_Mu12_IP6',\n",
    "                  'mProbe_pt', 'mProbe_eta', 'mProbe_phi', 'mProbe_sigdxy', \n",
    "                  'mProbe_softID', 'mProbe_tightID',\n",
    "                  'mProbe_HLT_Mu7_IP4', 'mProbe_HLT_Mu9_IP6', 'mProbe_HLT_Mu12_IP6',\n",
    "                  'deltaR_tagProbe', 'massMuMu', 'vtx_isGood', 'massMuMu_refit',\n",
    "                  'prescaleMu7_IP4', 'prescaleMu9_IP6', 'prescaleMu12_IP6', 'nVtx',\n",
    "                 ]"
   ]
  },
  {
   "cell_type": "code",
   "execution_count": 7,
   "metadata": {
    "ExecuteTime": {
     "end_time": "2021-02-19T21:28:01.011200Z",
     "start_time": "2021-02-19T21:28:00.994264Z"
    }
   },
   "outputs": [],
   "source": [
    "def loadDF(loc, branches):\n",
    "    dfL = []\n",
    "    for l in loc: \n",
    "        print l\n",
    "        dfL.append(pd.DataFrame(rtnp.root2array(l, branches=branches)))\n",
    "    if len(dfL) == 1:\n",
    "        return dfL[0]\n",
    "    else:\n",
    "        return pd.concat(dfL)"
   ]
  },
  {
   "cell_type": "code",
   "execution_count": 8,
   "metadata": {
    "ExecuteTime": {
     "end_time": "2021-02-19T21:29:19.948915Z",
     "start_time": "2021-02-19T21:28:01.243437Z"
    }
   },
   "outputs": [
    {
     "name": "stdout",
     "output_type": "stream",
     "text": [
      "../data/cmsRD/ParkingBPH3/Run2018D-05May2019promptD-v1_RDntuplizer_TagAndProbeTrigger_210209_CAND.root\n",
      "../data/cmsRD/ParkingBPH2/Run2018D-05May2019promptD-v1_RDntuplizer_TagAndProbeTrigger_210209_CAND.root\n",
      "../data/cmsRD/ParkingBPH5/Run2018D-05May2019promptD-v1_RDntuplizer_TagAndProbeTrigger_210209_CAND.root\n",
      "../data/cmsRD/ParkingBPH4/Run2018D-05May2019promptD-v1_RDntuplizer_TagAndProbeTrigger_210209_CAND.root\n",
      "../data/cmsRD/ParkingBPH1/Run2018D-05May2019promptD-v1_RDntuplizer_TagAndProbeTrigger_210209_CAND.root\n",
      "Data probe muons: 28292553\n"
     ]
    }
   ],
   "source": [
    "dataDir = '../data/cmsRD'\n",
    "RDdsLoc = glob(dataDir + '/ParkingBPH*/Run2018D-05May2019promptD-v1_RDntuplizer_TagAndProbeTrigger_210209_CAND.root')\n",
    "dfRD = loadDF(RDdsLoc, branchesToLoad)\n",
    "print 'Data probe muons:', dfRD.shape[0]"
   ]
  },
  {
   "cell_type": "code",
   "execution_count": 9,
   "metadata": {
    "ExecuteTime": {
     "end_time": "2021-02-19T21:30:07.079534Z",
     "start_time": "2021-02-19T21:29:50.899260Z"
    }
   },
   "outputs": [
    {
     "name": "stdout",
     "output_type": "stream",
     "text": [
      "../data/cmsMC_private/BP_Tag-Probe_B0_JpsiKst_Hardbbbar_evtgen_HELAMP_PUc0_10-2-3/ntuples_TagAndProbeTrigger_Jpsi/merged/out_CAND.root\n",
      "MC probe muons: 6181283\n"
     ]
    }
   ],
   "source": [
    "mcDir = '../data/cmsMC_private/BP_Tag-Probe_B0_JpsiKst_Hardbbbar_evtgen_HELAMP_PUc0_10-2-3'\n",
    "MCdsLoc = glob(mcDir + '/ntuples_TagAndProbeTrigger_Jpsi/merged/out_CAND.root')\n",
    "dfMC = loadDF(MCdsLoc, branchesToLoad + ['sfMuonID'])\n",
    "print 'MC probe muons:', dfMC.shape[0]"
   ]
  },
  {
   "cell_type": "code",
   "execution_count": 10,
   "metadata": {
    "ExecuteTime": {
     "end_time": "2021-02-19T21:30:47.368331Z",
     "start_time": "2021-02-19T21:30:47.326201Z"
    },
    "code_folding": [
     0
    ]
   },
   "outputs": [],
   "source": [
    "class pileupReweighter(object):\n",
    "    def __init__(self, mcSkimFile, cat, histoName='hAllNvtx', dataDate='200515'):\n",
    "        loc = '../data/cmsRD/ParkingBPH{}/'+'Run2018D-05May2019promptD-v1_RDntuplizer_PrescaleVertices_{}_CAND.root'.format(dataDate)\n",
    "        fAuxPileupRD = []\n",
    "\n",
    "        hPileupTarget = None\n",
    "\n",
    "        for i in range(1, 6):\n",
    "            fAuxPileupRD.append(rt.TFile.Open(loc.format(i), 'READ'))\n",
    "            if hPileupTarget is None:\n",
    "                hPileupTarget = fAuxPileupRD[-1].Get('nVtx/hNvtxPassed'+cat.trg).Clone()\n",
    "            else:\n",
    "                hPileupTarget.Add(fAuxPileupRD[-1].Get('nVtx/hNvtxPassed'+cat.trg))\n",
    "\n",
    "        hPileupTarget.Scale(1./hPileupTarget.Integral())\n",
    "\n",
    "        fAuxPileupMC = rt.TFile.Open(mcSkimFile, 'READ')\n",
    "        hPileupGen = fAuxPileupMC.Get(histoName)\n",
    "\n",
    "        weights = np.ones(hPileupGen.GetNbinsX())\n",
    "        s = 0\n",
    "        for i in range(weights.shape[0]):\n",
    "            if hPileupGen.GetBinContent(i+1) == 0:\n",
    "                continue\n",
    "            weights[i] = hPileupTarget.GetBinContent(i+1)/(hPileupGen.GetBinContent(i+1)/hPileupGen.Integral())\n",
    "            s += (hPileupGen.GetBinContent(i+1)/hPileupGen.Integral()) * weights[i]\n",
    "\n",
    "        self.weightsPileupMC = weights/s\n",
    "\n",
    "        for f in fAuxPileupRD + [fAuxPileupMC]:\n",
    "            f.Close()\n",
    "\n",
    "    def getPileupWeights(self, arrNvtx, selection=None):\n",
    "        x = arrNvtx\n",
    "        if not selection is None:\n",
    "            x = x[selection]\n",
    "        return self.weightsPileupMC[x.astype(np.int)]"
   ]
  },
  {
   "cell_type": "code",
   "execution_count": 11,
   "metadata": {
    "ExecuteTime": {
     "end_time": "2021-02-19T21:31:28.800541Z",
     "start_time": "2021-02-19T21:31:28.068402Z"
    }
   },
   "outputs": [],
   "source": [
    "class Bauble(object):\n",
    "    pass\n",
    "\n",
    "for trg in ['Mu7_IP4', 'Mu9_IP6', 'Mu12_IP6']:\n",
    "    aux = Bauble()\n",
    "    aux.trg = trg\n",
    "    puRew = pileupReweighter(MCdsLoc[0], aux, histoName='TnP/hAllNvts')\n",
    "    nMax = np.max(dfMC['nVtx'])\n",
    "    while nMax > (puRew.weightsPileupMC.shape[0] - 1):\n",
    "        puRew.weightsPileupMC = np.append(puRew.weightsPileupMC, puRew.weightsPileupMC[-1])\n",
    "        print trg, puRew.weightsPileupMC.shape\n",
    "    dfMC['w'+trg] = puRew.weightsPileupMC[dfMC['nVtx'].astype(np.int)]"
   ]
  },
  {
   "cell_type": "code",
   "execution_count": null,
   "metadata": {
    "ExecuteTime": {
     "end_time": "2021-02-13T01:03:18.505073Z",
     "start_time": "2021-02-13T01:03:18.491200Z"
    },
    "hide_input": true
   },
   "outputs": [],
   "source": [
    "# trg = 'Mu12_IP6'\n",
    "\n",
    "# h_list = []\n",
    "# sel = dfRD['prescale'+trg] > 0.5\n",
    "# h = create_TH1D(dfRD['nVtx'][sel], name='h',\n",
    "#                 title='Data',\n",
    "#                 axis_title=['# vertextes', 'Normalized Events'],\n",
    "#                 binning=[60, 0.5, 60.5],\n",
    "#                )\n",
    "# h_list.append(h)\n",
    "\n",
    "# sel = dfMC['prescale'+trg] > 0.5\n",
    "# h = create_TH1D(dfMC['nVtx'][sel], name='h2', title='MC PUc0', \n",
    "#                 weights=dfMC['w'+trg],\n",
    "#                 binning=h_list[0].binning)\n",
    "# h_list.append(h)\n",
    "\n",
    "# leg = rt.TLegend(0.77, 0.75, 0.95, 0.93)\n",
    "# leg.SetBorderSize(0)\n",
    "# for i, h in enumerate(h_list):\n",
    "#     h.SetLineColor(colors[i])\n",
    "#     h.SetMarkerColor(colors[i])\n",
    "#     h.Sumw2()\n",
    "#     h.Scale(1./h.Integral())\n",
    "#     leg.AddEntry(h, h.GetTitle(), 'lep')\n",
    "# m = SetMaxToMaxHist(h_list)\n",
    "# h_list[0].SetTitle('')\n",
    "\n",
    "# c = drawOnCMSCanvas(CMS_lumi, h_list, 'same')\n",
    "# leg.Draw()\n",
    "# c.Draw()"
   ]
  },
  {
   "cell_type": "markdown",
   "metadata": {},
   "source": [
    "Explore kinematic distribution to choose a binning"
   ]
  },
  {
   "cell_type": "code",
   "execution_count": 12,
   "metadata": {
    "ExecuteTime": {
     "end_time": "2021-02-19T21:32:21.520745Z",
     "start_time": "2021-02-19T21:32:21.480112Z"
    },
    "code_folding": [
     0
    ],
    "hide_input": false
   },
   "outputs": [],
   "source": [
    "def plot(var, binning, xtitle, logx=False, logy=False, ymin=1e-5, selRD=None, selMC=None):\n",
    "    h_list = []\n",
    "    x = dfRD[var]\n",
    "    if not selRD is None:\n",
    "        x = x[selRD]\n",
    "    print 'data yield: {:1.2e}'.format(x.shape[0])\n",
    "    h = create_TH1D(x, name='h',\n",
    "                    title='Data',\n",
    "                    axis_title=[xtitle, 'Normalized Events'],\n",
    "                    binning=binning,\n",
    "                    opt='underflow,overflow'\n",
    "                   )\n",
    "    h_list.append(h)\n",
    "\n",
    "    x = dfMC[var]\n",
    "    if not selMC is None:\n",
    "        x = x[selMC]\n",
    "    print 'MC yield: {:1.2e}'.format(x.shape[0])\n",
    "    h = create_TH1D(x, name='h2', title='MC PUc0', binning=h_list[0].binning,opt='underflow,overflow')\n",
    "    h_list.append(h)\n",
    "\n",
    "    leg = rt.TLegend(0.77, 0.75, 0.95, 0.93)\n",
    "    leg.SetBorderSize(0)\n",
    "    for i, h in enumerate(h_list):\n",
    "        h.SetLineColor(colors[i])\n",
    "        h.SetMarkerColor(colors[i])\n",
    "        h.Sumw2()\n",
    "        h.Scale(1./h.Integral())\n",
    "        leg.AddEntry(h, h.GetTitle(), 'lep')\n",
    "    m = SetMaxToMaxHist(h_list)\n",
    "    h_list[0].GetYaxis().SetRangeUser(ymin, m)\n",
    "    h_list[0].SetTitle('')\n",
    "\n",
    "    c = drawOnCMSCanvas(CMS_lumi, h_list, 'same')\n",
    "    leg.Draw()\n",
    "    c.Draw()\n",
    "    if logy:\n",
    "        c.SetLogy()\n",
    "    if logx:\n",
    "        c.SetLogx()\n",
    "    return [c, leg, h_list]"
   ]
  },
  {
   "cell_type": "code",
   "execution_count": 13,
   "metadata": {
    "ExecuteTime": {
     "end_time": "2021-02-19T21:33:16.651954Z",
     "start_time": "2021-02-19T21:33:13.867394Z"
    }
   },
   "outputs": [
    {
     "name": "stdout",
     "output_type": "stream",
     "text": [
      "data yield: 2.83e+07\n",
      "MC yield: 6.18e+06\n"
     ]
    },
    {
     "data": {
      "image/png": "[encoded data removed]",
      "text/plain": [
       "<IPython.core.display.Image object>"
      ]
     },
     "metadata": {},
     "output_type": "display_data"
    }
   ],
   "source": [
    "plot('mProbe_pt', np.linspace(start=5, stop=30, num=50), 'Probe #mu p_{T} [GeV]', logx=False, logy=False);"
   ]
  },
  {
   "cell_type": "code",
   "execution_count": 14,
   "metadata": {
    "ExecuteTime": {
     "end_time": "2021-02-19T21:34:11.497244Z",
     "start_time": "2021-02-19T21:34:09.075043Z"
    }
   },
   "outputs": [
    {
     "name": "stdout",
     "output_type": "stream",
     "text": [
      "data yield: 2.83e+07\n",
      "MC yield: 6.18e+06\n"
     ]
    },
    {
     "data": {
      "image/png": "[encoded data removed]",
      "text/plain": [
       "<IPython.core.display.Image object>"
      ]
     },
     "metadata": {},
     "output_type": "display_data"
    }
   ],
   "source": [
    "plot('mProbe_sigdxy', np.logspace(start=0, stop=3, num=50), 'Probe #mu d_{xy}/#sigma_{d_{xy}}', logx=True, logy=False);"
   ]
  },
  {
   "cell_type": "code",
   "execution_count": 15,
   "metadata": {
    "ExecuteTime": {
     "end_time": "2021-02-19T21:35:06.073910Z",
     "start_time": "2021-02-19T21:35:03.630165Z"
    }
   },
   "outputs": [
    {
     "name": "stdout",
     "output_type": "stream",
     "text": [
      "data yield: 2.83e+07\n",
      "MC yield: 6.18e+06\n"
     ]
    },
    {
     "data": {
      "image/png": "[encoded data removed]",
      "text/plain": [
       "<IPython.core.display.Image object>"
      ]
     },
     "metadata": {},
     "output_type": "display_data"
    }
   ],
   "source": [
    "plot('massMuMu', np.linspace(start=2.85, stop=3.3, num=100), 'mass(#mu#mu) [GeV]', logx=False, logy=False);"
   ]
  },
  {
   "cell_type": "code",
   "execution_count": 16,
   "metadata": {
    "ExecuteTime": {
     "end_time": "2021-02-19T21:35:59.587844Z",
     "start_time": "2021-02-19T21:35:56.825015Z"
    }
   },
   "outputs": [
    {
     "name": "stdout",
     "output_type": "stream",
     "text": [
      "data yield: 2.30e+07\n",
      "MC yield: 5.63e+06\n"
     ]
    },
    {
     "data": {
      "image/png": "[encoded data removed]",
      "text/plain": [
       "<IPython.core.display.Image object>"
      ]
     },
     "metadata": {},
     "output_type": "display_data"
    }
   ],
   "source": [
    "plot('massMuMu_refit', np.linspace(start=2.85, stop=3.3, num=100), 'mass(#mu#mu) refit [GeV]',\n",
    "     selRD=dfRD['vtx_isGood']>0, selMC=dfMC['vtx_isGood']>0,\n",
    "     logx=False, logy=False);"
   ]
  },
  {
   "cell_type": "code",
   "execution_count": 17,
   "metadata": {
    "ExecuteTime": {
     "end_time": "2021-02-19T21:36:54.000403Z",
     "start_time": "2021-02-19T21:36:51.189304Z"
    }
   },
   "outputs": [
    {
     "name": "stdout",
     "output_type": "stream",
     "text": [
      "data yield: 2.83e+07\n",
      "MC yield: 6.18e+06\n"
     ]
    },
    {
     "data": {
      "text/plain": [
       "[<ROOT.TCanvas object (\"c\") at 0xb7015e0>,\n",
       " <ROOT.TLegend object (\"TPave\") at 0xc120b40>,\n",
       " [<ROOT.TH1D object (\"h\") at 0xc117830>,\n",
       "  <ROOT.TH1D object (\"h2\") at 0xc123500>]]"
      ]
     },
     "execution_count": 17,
     "metadata": {},
     "output_type": "execute_result"
    },
    {
     "data": {
      "image/png": "[encoded data removed]",
      "text/plain": [
       "<IPython.core.display.Image object>"
      ]
     },
     "metadata": {},
     "output_type": "display_data"
    }
   ],
   "source": [
    "plot('mProbe_eta', np.linspace(start=-2, stop=2, num=100), 'Probe #mu #eta', logx=False, logy=False)"
   ]
  },
  {
   "cell_type": "code",
   "execution_count": 18,
   "metadata": {
    "ExecuteTime": {
     "end_time": "2021-02-19T21:37:48.703074Z",
     "start_time": "2021-02-19T21:37:46.270002Z"
    }
   },
   "outputs": [
    {
     "name": "stdout",
     "output_type": "stream",
     "text": [
      "data yield: 2.83e+07\n",
      "MC yield: 6.18e+06\n"
     ]
    },
    {
     "data": {
      "image/png": "[encoded data removed]",
      "text/plain": [
       "<IPython.core.display.Image object>"
      ]
     },
     "metadata": {},
     "output_type": "display_data"
    }
   ],
   "source": [
    "plot('deltaR_tagProbe', \n",
    "     np.linspace(start=0, stop=0.6, num=50), \n",
    "#      np.logspace(start=-2, stop=np.log10(0.6), num=100), \n",
    "     '#Delta R (#mu tag, #mu probe)', logx=False, logy=False, ymin=1e-6);"
   ]
  },
  {
   "cell_type": "code",
   "execution_count": 42,
   "metadata": {
    "ExecuteTime": {
     "end_time": "2021-02-20T01:40:15.207449Z",
     "start_time": "2021-02-20T01:40:14.081158Z"
    }
   },
   "outputs": [
    {
     "name": "stdout",
     "output_type": "stream",
     "text": [
      "data yield: 2.83e+07\n",
      "MC yield: 6.18e+06\n"
     ]
    },
    {
     "data": {
      "image/png": "[encoded data removed]",
      "text/plain": [
       "<IPython.core.display.Image object>"
      ]
     },
     "metadata": {},
     "output_type": "display_data"
    }
   ],
   "source": [
    "plot('mTag_HLT_Mu7_IP4', \n",
    "     [2, -0.5, 1.5], \n",
    "     'mTag_HLT_Mu7_IP4', logx=False, logy=False, ymin=1e-6);"
   ]
  },
  {
   "cell_type": "code",
   "execution_count": 43,
   "metadata": {
    "ExecuteTime": {
     "end_time": "2021-02-20T01:43:19.051524Z",
     "start_time": "2021-02-20T01:43:16.732544Z"
    }
   },
   "outputs": [
    {
     "name": "stdout",
     "output_type": "stream",
     "text": [
      "data yield: 2.83e+07\n",
      "MC yield: 6.18e+06\n"
     ]
    },
    {
     "data": {
      "image/png": "[encoded data removed]",
      "text/plain": [
       "<IPython.core.display.Image object>"
      ]
     },
     "metadata": {},
     "output_type": "display_data"
    }
   ],
   "source": [
    "plot('mTag_sigdxy', \n",
    "     np.logspace(start=0, stop=3, num=50), \n",
    "     'Tag #mu d_{xy}/#sigma_{d_{xy}}', logx=True, logy=False);"
   ]
  },
  {
   "cell_type": "markdown",
   "metadata": {},
   "source": [
    "# Efficiency functions"
   ]
  },
  {
   "cell_type": "code",
   "execution_count": 19,
   "metadata": {
    "ExecuteTime": {
     "end_time": "2021-02-19T23:50:38.605285Z",
     "start_time": "2021-02-19T23:50:38.543065Z"
    }
   },
   "outputs": [],
   "source": [
    "def analyzeBin(idx, reloadDf=False, verbose=False):\n",
    "    df = dfToUse\n",
    "    print idx, 'started'\n",
    "    if reloadDf:\n",
    "        raise\n",
    "    psCut = []\n",
    "    lim = {}\n",
    "    selTot = None\n",
    "    st = time.time()\n",
    "    for n, i in idx.iteritems():\n",
    "        lim[n] = [binning[n][i], binning[n][i+1]]\n",
    "        if n=='eta':\n",
    "            aux = np.abs(df['mProbe_'+n])\n",
    "            sel = np.logical_and(aux > lim[n][0], aux < lim[n][1])\n",
    "        else:\n",
    "            sel = np.logical_and(df['mProbe_'+n] > lim[n][0], df['mProbe_'+n] < lim[n][1])\n",
    "        if selTot is None:\n",
    "            selTot = sel\n",
    "        else:\n",
    "            selTot = np.logical_and(sel, selTot)\n",
    "    selTot = np.logical_and(selTot, df['prescale'+probeTrigger[4:]] > 0)\n",
    "    selTot = np.logical_and(selTot, df['mProbe_softID'] > 0.5)\n",
    "    selTot = np.logical_and(selTot, df['deltaR_tagProbe'] > 0.3)\n",
    "    selTot = np.logical_and(selTot, df['vtx_isGood'] > 0.5)\n",
    "    selTot = np.logical_and(selTot, np.abs(df['massMuMu_refit'] - 3.09691) < 0.1)\n",
    "    \n",
    "\n",
    "    if verbose: \n",
    "        print ' --- Total ---'\n",
    "    st = time.time()\n",
    "    if dataset == 'RD':\n",
    "        nSigTot = np.sum(selTot)\n",
    "    else:\n",
    "        nSigTot = np.sum(df['w'][selTot])\n",
    "    if verbose: \n",
    "        print 'Time: {:.1f} s'.format(time.time()-st)\n",
    "        print ' --- Passed ---'\n",
    "    st = time.time()\n",
    "    selTot = np.logical_and(selTot, df['mProbe_' + probeTrigger] == 1)\n",
    "    if dataset == 'RD':\n",
    "        nSigPass = np.sum(selTot)\n",
    "    else:\n",
    "        nSigPass = np.sum(df['w'][selTot])\n",
    "    \n",
    "    if verbose: \n",
    "        print 'Time: {:.1f} s'.format(time.time()-st)\n",
    "    print idx, 'done'\n",
    "    return idx, nSigTot, nSigPass"
   ]
  },
  {
   "cell_type": "markdown",
   "metadata": {},
   "source": [
    "# Run the fit in each bin"
   ]
  },
  {
   "cell_type": "code",
   "execution_count": 31,
   "metadata": {
    "ExecuteTime": {
     "end_time": "2021-02-20T00:12:09.619787Z",
     "start_time": "2021-02-20T00:12:09.603627Z"
    }
   },
   "outputs": [],
   "source": [
    "dataset = 'RD'\n",
    "if dataset == 'RD':\n",
    "    CMS_lumi.extraText = \"     Internal\"\n",
    "    dfToUse = dfRD\n",
    "elif dataset == 'MC':\n",
    "    CMS_lumi.extraText = \"     Simulation Internal\"\n",
    "    if not 'w' in dfMC.columns:\n",
    "        dfMC['w'] = dfMC['sfMuonID']*dfMC['w'+probeTrigger[4:]]\n",
    "    dfToUse = dfMC"
   ]
  },
  {
   "cell_type": "code",
   "execution_count": 32,
   "metadata": {
    "ExecuteTime": {
     "end_time": "2021-02-20T00:13:42.933924Z",
     "start_time": "2021-02-20T00:13:42.917496Z"
    }
   },
   "outputs": [],
   "source": [
    "probeTrigger = 'HLT_Mu7_IP4'\n",
    "binning = {'pt': array('d', [5.5, 6.5, 7, 7.1, 7.2, 7.3, 7.6, 8, 9, 9.2, 10, 12, 14]),\n",
    "           'eta': array('d', [0, 0.4, 0.8, 1.5]),\n",
    "           'sigdxy': array('d', [4, 5, 5.5, 6, 10, 20, 200])\n",
    "          }\n",
    "\n",
    "# probeTrigger = 'HLT_Mu9_IP6'\n",
    "# binning = {'pt': array('d', [8.5, 9, 9.1, 9.2, 9.3, 9.6, 10.2, 11, 12, 12.2, 14]),\n",
    "#            'eta': array('d', [0, 0.4, 0.8, 1.5]),\n",
    "#            'sigdxy': array('d', [4, 6, 7, 7.5, 8, 10, 20, 200])\n",
    "#           }\n",
    "\n",
    "# probeTrigger = 'HLT_Mu12_IP6'\n",
    "# binning = {'pt': array('d', [11, 12, 12.2, 13, 14, 16, 18, 20, 22, 25, 28, 35]),\n",
    "#            'eta': array('d', [0, 0.4, 0.8, 1.5]),\n",
    "#            'sigdxy': array('d', [4, 6, 7, 8, 10, 20, 200])\n",
    "#           }"
   ]
  },
  {
   "cell_type": "code",
   "execution_count": 33,
   "metadata": {
    "ExecuteTime": {
     "end_time": "2021-02-20T00:15:16.968017Z",
     "start_time": "2021-02-20T00:15:16.834421Z"
    }
   },
   "outputs": [],
   "source": [
    "h2 = {}\n",
    "for var, cat in itertools.product(['N', 'Chi2'], ['tot', 'pass']):\n",
    "    h2[var+cat] = rt.TH3D('h2'+var+cat, '', \n",
    "                          len(binning['pt'])-1, binning['pt'], \n",
    "                          len(binning['sigdxy'])-1, binning['sigdxy'], \n",
    "                          len(binning['eta'])-1, binning['eta'],)"
   ]
  },
  {
   "cell_type": "code",
   "execution_count": 34,
   "metadata": {
    "ExecuteTime": {
     "end_time": "2021-02-20T00:16:52.795808Z",
     "start_time": "2021-02-20T00:16:50.712561Z"
    },
    "scrolled": true
   },
   "outputs": [
    {
     "name": "stdout",
     "output_type": "stream",
     "text": [
      "{'eta': 0, 'sigdxy': 2, 'pt': 2} started\n",
      " --- Total ---\n",
      "Time: 0.4 s\n",
      " --- Passed ---\n",
      "Time: 0.6 s\n",
      "{'eta': 0, 'sigdxy': 2, 'pt': 2} done\n",
      "({'eta': 0, 'sigdxy': 2, 'pt': 2}, 765, 345)\n",
      "Total time: 0.0 mins\n"
     ]
    }
   ],
   "source": [
    "start = time.time()\n",
    "testOutput = analyzeBin({'pt': 2, 'sigdxy':2, 'eta':0}, verbose=True)\n",
    "print testOutput\n",
    "print 'Total time: {:.1f} mins'.format((time.time() - start)/60.)"
   ]
  },
  {
   "cell_type": "code",
   "execution_count": 35,
   "metadata": {
    "ExecuteTime": {
     "end_time": "2021-02-20T00:18:27.373787Z",
     "start_time": "2021-02-20T00:18:27.355407Z"
    }
   },
   "outputs": [
    {
     "name": "stdout",
     "output_type": "stream",
     "text": [
      "Total bins: 216\n"
     ]
    }
   ],
   "source": [
    "inputs = []\n",
    "for ipt in range(len(binning['pt'])-1):\n",
    "    for iip in range(len(binning['sigdxy'])-1):\n",
    "        for ieta in range(len(binning['eta'])-1):\n",
    "            idx = {'pt': ipt, 'sigdxy':iip, 'eta': ieta}\n",
    "            inputs.append(idx)\n",
    "print 'Total bins:', len(inputs)"
   ]
  },
  {
   "cell_type": "code",
   "execution_count": 36,
   "metadata": {
    "ExecuteTime": {
     "end_time": "2021-02-20T00:20:35.221225Z",
     "start_time": "2021-02-20T00:20:01.938652Z"
    },
    "hide_input": false,
    "scrolled": true
   },
   "outputs": [
    {
     "name": "stdout",
     "output_type": "stream",
     "text": [
      "Parallelization factor: 22\n",
      "{'eta': 0, 'pt': 0, 'sigdxy': 0} started\n",
      "{'eta': 0, 'pt': 0, 'sigdxy': 1} started\n",
      "{'eta': 0, 'pt': 1, 'sigdxy': 0} started\n",
      "{'eta': 0, 'pt': 1, 'sigdxy': 1} started\n",
      "{'eta': 0, 'pt': 0, 'sigdxy': 3} started\n",
      "{'eta': 0, 'pt': 1, 'sigdxy': 2} started\n",
      "{'eta': 0, 'pt': 1, 'sigdxy': 4} started\n",
      "{'eta': 0, 'pt': 0, 'sigdxy': 5} started\n",
      "{'eta': 0, 'pt': 2, 'sigdxy': 0} started\n",
      "{'eta': 0, 'pt': 1, 'sigdxy': 5} started\n",
      "{'eta': 0, 'pt': 1, 'sigdxy': 3} started\n",
      "{'eta': 0, 'pt': 0, 'sigdxy': 2} started\n",
      "{'eta': 0, 'pt': 2, 'sigdxy': 3} started\n",
      "{'eta': 0, 'pt': 0, 'sigdxy': 4} started\n",
      "{'eta': 0, 'pt': 2, 'sigdxy': 4} started\n",
      "{'eta': 0, 'pt': 2, 'sigdxy': 1} started\n",
      "{'eta': 0, 'pt': 2, 'sigdxy': 2} started\n",
      "{'eta': 0, 'pt': 2, 'sigdxy': 5} started\n",
      "{'eta': 0, 'pt': 3, 'sigdxy': 2} started\n",
      "{'eta': 0, 'pt': 3, 'sigdxy': 0} started\n",
      "{'eta': 0, 'pt': 3, 'sigdxy': 3} started\n",
      "{'eta': 0, 'pt': 3, 'sigdxy': 1} started\n",
      "{'eta': 0, 'pt': 3, 'sigdxy': 0} done\n",
      "{'eta': 0, 'pt': 0, 'sigdxy': 4} done\n",
      "{'eta': 0, 'pt': 1, 'sigdxy': 0} done\n",
      "{'eta': 0, 'pt': 0, 'sigdxy': 5} done\n",
      "{'eta': 0, 'pt': 2, 'sigdxy': 4} done\n",
      "{'eta': 1, 'pt': 3, 'sigdxy': 0} started\n",
      "{'eta': 0, 'pt': 2, 'sigdxy': 5} done\n",
      "{'eta': 0, 'pt': 2, 'sigdxy': 2} done\n",
      "{'eta': 1, 'pt': 1, 'sigdxy': 0} started\n",
      "{'eta': 1, 'pt': 0, 'sigdxy': 4} started\n",
      "{'eta': 0, 'pt': 0, 'sigdxy': 0} done\n",
      "{'eta': 0, 'pt': 0, 'sigdxy': 1} done\n",
      "{'eta': 1, 'pt': 2, 'sigdxy': 5} started\n",
      "{'eta': 1, 'pt': 2, 'sigdxy': 4} started\n",
      "{'eta': 0, 'pt': 2, 'sigdxy': 3} done\n",
      "{'eta': 1, 'pt': 2, 'sigdxy': 2} started\n",
      "{'eta': 1, 'pt': 0, 'sigdxy': 5} started\n",
      "{'eta': 1, 'pt': 0, 'sigdxy': 1} started\n",
      "{'eta': 1, 'pt': 2, 'sigdxy': 3} started\n",
      "{'eta': 1, 'pt': 0, 'sigdxy': 0} started\n",
      "{'eta': 0, 'pt': 0, 'sigdxy': 3} done\n",
      "{'eta': 0, 'pt': 1, 'sigdxy': 3} done\n",
      "{'eta': 1, 'pt': 0, 'sigdxy': 3} started\n",
      "{'eta': 1, 'pt': 1, 'sigdxy': 3} started\n",
      "{'eta': 0, 'pt': 1, 'sigdxy': 2} done\n",
      "{'eta': 1, 'pt': 1, 'sigdxy': 2} started\n",
      "{'eta': 0, 'pt': 2, 'sigdxy': 0} done\n",
      "{'eta': 0, 'pt': 1, 'sigdxy': 4} done\n",
      "{'eta': 1, 'pt': 2, 'sigdxy': 0} started\n",
      "{'eta': 1, 'pt': 1, 'sigdxy': 4} started\n",
      "{'eta': 0, 'pt': 3, 'sigdxy': 2} done\n",
      "{'eta': 0, 'pt': 1, 'sigdxy': 1} done\n",
      "{'eta': 0, 'pt': 3, 'sigdxy': 3} done\n",
      "{'eta': 1, 'pt': 3, 'sigdxy': 2} started\n",
      "{'eta': 0, 'pt': 2, 'sigdxy': 1} done\n",
      "{'eta': 1, 'pt': 1, 'sigdxy': 1} started\n",
      "{'eta': 0, 'pt': 3, 'sigdxy': 1} done\n",
      "{'eta': 1, 'pt': 3, 'sigdxy': 3} started\n",
      "{'eta': 0, 'pt': 1, 'sigdxy': 5} done\n",
      "{'eta': 0, 'pt': 0, 'sigdxy': 2} done\n",
      "{'eta': 1, 'pt': 2, 'sigdxy': 1} started\n",
      "{'eta': 1, 'pt': 3, 'sigdxy': 1} started\n",
      "{'eta': 1, 'pt': 1, 'sigdxy': 5} started\n",
      "{'eta': 1, 'pt': 0, 'sigdxy': 2} started\n",
      "{'eta': 1, 'pt': 3, 'sigdxy': 0} done\n",
      "{'eta': 1, 'pt': 0, 'sigdxy': 4} done\n",
      "{'eta': 2, 'pt': 3, 'sigdxy': 0} started\n",
      "{'eta': 2, 'pt': 0, 'sigdxy': 4} started\n",
      "{'eta': 1, 'pt': 2, 'sigdxy': 5} done\n",
      "{'eta': 1, 'pt': 0, 'sigdxy': 1} done\n",
      "{'eta': 1, 'pt': 1, 'sigdxy': 0} done\n",
      "{'eta': 1, 'pt': 2, 'sigdxy': 2} done\n",
      "{'eta': 2, 'pt': 2, 'sigdxy': 5} started\n",
      "{'eta': 1, 'pt': 2, 'sigdxy': 3} done\n",
      "{'eta': 2, 'pt': 0, 'sigdxy': 1} started\n",
      "{'eta': 2, 'pt': 1, 'sigdxy': 0} started\n",
      "{'eta': 1, 'pt': 2, 'sigdxy': 4} done\n",
      "{'eta': 2, 'pt': 2, 'sigdxy': 2} started\n",
      "{'eta': 1, 'pt': 0, 'sigdxy': 5} done\n",
      "{'eta': 2, 'pt': 2, 'sigdxy': 3} started\n",
      "{'eta': 2, 'pt': 0, 'sigdxy': 5} started\n",
      "{'eta': 2, 'pt': 2, 'sigdxy': 4} started\n",
      "{'eta': 1, 'pt': 0, 'sigdxy': 0} done\n",
      "{'eta': 2, 'pt': 0, 'sigdxy': 0} started\n",
      "{'eta': 1, 'pt': 0, 'sigdxy': 3} done\n",
      "{'eta': 2, 'pt': 0, 'sigdxy': 3} started\n",
      "{'eta': 1, 'pt': 1, 'sigdxy': 3} done\n",
      "{'eta': 2, 'pt': 1, 'sigdxy': 3} started\n",
      "{'eta': 1, 'pt': 2, 'sigdxy': 0} done\n",
      "{'eta': 2, 'pt': 2, 'sigdxy': 0} started\n",
      "{'eta': 1, 'pt': 1, 'sigdxy': 2} done\n",
      "{'eta': 2, 'pt': 1, 'sigdxy': 2} started\n",
      "{'eta': 1, 'pt': 2, 'sigdxy': 1} done\n",
      "{'eta': 1, 'pt': 1, 'sigdxy': 4} done\n",
      "{'eta': 1, 'pt': 1, 'sigdxy': 1} done\n",
      "{'eta': 2, 'pt': 2, 'sigdxy': 1} started\n",
      "{'eta': 2, 'pt': 1, 'sigdxy': 4} started\n",
      "{'eta': 2, 'pt': 1, 'sigdxy': 1} started\n",
      "{'eta': 1, 'pt': 3, 'sigdxy': 3} done\n",
      "{'eta': 1, 'pt': 3, 'sigdxy': 2} done\n",
      "{'eta': 2, 'pt': 3, 'sigdxy': 3} started\n",
      "{'eta': 1, 'pt': 3, 'sigdxy': 1} done\n",
      "{'eta': 2, 'pt': 3, 'sigdxy': 2} started\n",
      "{'eta': 1, 'pt': 1, 'sigdxy': 5} done\n",
      "{'eta': 2, 'pt': 3, 'sigdxy': 1} started\n",
      "{'eta': 1, 'pt': 0, 'sigdxy': 2} done\n",
      "{'eta': 2, 'pt': 1, 'sigdxy': 5} started\n",
      "{'eta': 2, 'pt': 0, 'sigdxy': 2} started\n",
      "{'eta': 2, 'pt': 0, 'sigdxy': 4} done\n",
      "{'eta': 2, 'pt': 3, 'sigdxy': 0} done\n",
      "{'eta': 0, 'pt': 3, 'sigdxy': 4} started\n",
      "{'eta': 0, 'pt': 3, 'sigdxy': 5} started\n",
      "{'eta': 2, 'pt': 0, 'sigdxy': 1} done\n",
      "{'eta': 0, 'pt': 4, 'sigdxy': 0} started\n",
      "{'eta': 2, 'pt': 1, 'sigdxy': 0} done\n",
      "{'eta': 2, 'pt': 2, 'sigdxy': 5} done\n",
      "{'eta': 0, 'pt': 4, 'sigdxy': 1} started\n",
      "{'eta': 0, 'pt': 4, 'sigdxy': 2} started\n",
      "{'eta': 2, 'pt': 2, 'sigdxy': 3} done\n",
      "{'eta': 0, 'pt': 4, 'sigdxy': 3} started\n",
      "{'eta': 2, 'pt': 2, 'sigdxy': 2} done\n",
      "{'eta': 2, 'pt': 0, 'sigdxy': 3} done\n",
      "{'eta': 0, 'pt': 4, 'sigdxy': 4} started\n",
      "{'eta': 0, 'pt': 4, 'sigdxy': 5} started\n",
      "{'eta': 2, 'pt': 0, 'sigdxy': 5} done\n",
      "{'eta': 0, 'pt': 5, 'sigdxy': 0} started\n",
      "{'eta': 2, 'pt': 2, 'sigdxy': 4} done\n",
      "{'eta': 2, 'pt': 0, 'sigdxy': 0} done\n",
      "{'eta': 0, 'pt': 5, 'sigdxy': 1} started\n",
      "{'eta': 0, 'pt': 5, 'sigdxy': 2} started\n",
      "{'eta': 2, 'pt': 1, 'sigdxy': 3} done\n",
      "{'eta': 2, 'pt': 2, 'sigdxy': 0} done\n",
      "{'eta': 0, 'pt': 5, 'sigdxy': 3} started\n",
      "{'eta': 0, 'pt': 5, 'sigdxy': 4} started\n",
      "{'eta': 2, 'pt': 1, 'sigdxy': 2} done\n",
      "{'eta': 0, 'pt': 5, 'sigdxy': 5} started\n",
      "{'eta': 2, 'pt': 3, 'sigdxy': 3} done\n",
      "{'eta': 0, 'pt': 6, 'sigdxy': 0} started\n",
      "{'eta': 2, 'pt': 1, 'sigdxy': 1} done\n",
      "{'eta': 2, 'pt': 2, 'sigdxy': 1} done\n",
      "{'eta': 0, 'pt': 6, 'sigdxy': 1} started\n",
      "{'eta': 0, 'pt': 6, 'sigdxy': 2} started\n",
      "{'eta': 2, 'pt': 1, 'sigdxy': 4} done\n",
      "{'eta': 0, 'pt': 6, 'sigdxy': 3} started\n",
      "{'eta': 2, 'pt': 3, 'sigdxy': 2} done\n",
      "{'eta': 2, 'pt': 1, 'sigdxy': 5} done\n",
      "{'eta': 0, 'pt': 6, 'sigdxy': 4} started\n",
      "{'eta': 0, 'pt': 6, 'sigdxy': 5} started\n",
      "{'eta': 2, 'pt': 3, 'sigdxy': 1} done\n",
      "{'eta': 0, 'pt': 7, 'sigdxy': 0} started\n",
      "{'eta': 2, 'pt': 0, 'sigdxy': 2} done\n",
      "{'eta': 0, 'pt': 7, 'sigdxy': 1} started\n",
      "{'eta': 0, 'pt': 4, 'sigdxy': 5} done\n",
      "{'eta': 0, 'pt': 4, 'sigdxy': 2} done\n",
      "{'eta': 1, 'pt': 4, 'sigdxy': 5} started\n",
      "{'eta': 0, 'pt': 4, 'sigdxy': 3} done\n",
      "{'eta': 1, 'pt': 4, 'sigdxy': 2} started\n",
      "{'eta': 1, 'pt': 4, 'sigdxy': 3} started\n",
      "{'eta': 0, 'pt': 3, 'sigdxy': 4} done\n",
      "{'eta': 1, 'pt': 3, 'sigdxy': 4} started\n",
      "{'eta': 0, 'pt': 4, 'sigdxy': 4} done\n",
      "{'eta': 0, 'pt': 4, 'sigdxy': 1} done\n",
      "{'eta': 1, 'pt': 4, 'sigdxy': 4} started\n",
      "{'eta': 0, 'pt': 3, 'sigdxy': 5} done\n",
      "{'eta': 1, 'pt': 4, 'sigdxy': 1} started\n",
      "{'eta': 0, 'pt': 4, 'sigdxy': 0} done\n",
      "{'eta': 0, 'pt': 5, 'sigdxy': 1} done\n",
      "{'eta': 1, 'pt': 3, 'sigdxy': 5} started\n",
      "{'eta': 0, 'pt': 6, 'sigdxy': 0} done\n",
      "{'eta': 1, 'pt': 4, 'sigdxy': 0} started\n",
      "{'eta': 1, 'pt': 5, 'sigdxy': 1} started\n",
      "{'eta': 1, 'pt': 6, 'sigdxy': 0} started\n",
      "{'eta': 0, 'pt': 5, 'sigdxy': 4} done\n",
      "{'eta': 1, 'pt': 5, 'sigdxy': 4} started\n",
      "{'eta': 0, 'pt': 5, 'sigdxy': 0} done\n",
      "{'eta': 1, 'pt': 5, 'sigdxy': 0} started\n",
      "{'eta': 0, 'pt': 5, 'sigdxy': 5} done\n",
      "{'eta': 0, 'pt': 6, 'sigdxy': 4} done\n",
      "{'eta': 1, 'pt': 5, 'sigdxy': 5} started\n",
      "{'eta': 1, 'pt': 6, 'sigdxy': 4} started\n",
      "{'eta': 0, 'pt': 5, 'sigdxy': 2} done\n",
      "{'eta': 0, 'pt': 6, 'sigdxy': 1} done\n",
      "{'eta': 1, 'pt': 5, 'sigdxy': 2} started\n",
      "{'eta': 0, 'pt': 6, 'sigdxy': 3} done\n",
      "{'eta': 0, 'pt': 7, 'sigdxy': 1} done\n",
      "{'eta': 1, 'pt': 6, 'sigdxy': 3} started\n",
      "{'eta': 1, 'pt': 6, 'sigdxy': 1} started\n",
      "{'eta': 1, 'pt': 7, 'sigdxy': 1} started\n",
      "{'eta': 0, 'pt': 5, 'sigdxy': 3} done\n",
      "{'eta': 1, 'pt': 5, 'sigdxy': 3} started\n",
      "{'eta': 1, 'pt': 4, 'sigdxy': 2} done\n",
      "{'eta': 2, 'pt': 4, 'sigdxy': 2} started\n",
      "{'eta': 1, 'pt': 4, 'sigdxy': 3} done\n",
      "{'eta': 1, 'pt': 4, 'sigdxy': 5} done\n",
      "{'eta': 2, 'pt': 4, 'sigdxy': 3} started\n",
      "{'eta': 2, 'pt': 4, 'sigdxy': 5} started\n",
      "{'eta': 0, 'pt': 6, 'sigdxy': 2} done\n",
      "{'eta': 1, 'pt': 6, 'sigdxy': 2} started\n",
      "{'eta': 0, 'pt': 7, 'sigdxy': 0} done\n",
      "{'eta': 1, 'pt': 3, 'sigdxy': 4} done\n",
      "{'eta': 1, 'pt': 7, 'sigdxy': 0} started\n",
      "{'eta': 0, 'pt': 6, 'sigdxy': 5} done\n",
      "{'eta': 2, 'pt': 3, 'sigdxy': 4} started\n",
      "{'eta': 1, 'pt': 6, 'sigdxy': 5} started\n"
     ]
    },
    {
     "name": "stdout",
     "output_type": "stream",
     "text": [
      "{'eta': 1, 'pt': 4, 'sigdxy': 4} done\n",
      "{'eta': 1, 'pt': 4, 'sigdxy': 1} done\n",
      "{'eta': 2, 'pt': 4, 'sigdxy': 4} started\n",
      "{'eta': 2, 'pt': 4, 'sigdxy': 1} started\n",
      "{'eta': 1, 'pt': 4, 'sigdxy': 0} done\n",
      "{'eta': 1, 'pt': 5, 'sigdxy': 4} done\n",
      "{'eta': 2, 'pt': 5, 'sigdxy': 4} started\n",
      "{'eta': 2, 'pt': 4, 'sigdxy': 0} started\n",
      "{'eta': 1, 'pt': 5, 'sigdxy': 5} done\n",
      "{'eta': 2, 'pt': 5, 'sigdxy': 5} started\n",
      "{'eta': 1, 'pt': 5, 'sigdxy': 1} done\n",
      "{'eta': 1, 'pt': 5, 'sigdxy': 2} done\n",
      "{'eta': 1, 'pt': 5, 'sigdxy': 0} done\n",
      "{'eta': 2, 'pt': 5, 'sigdxy': 1} started\n",
      "{'eta': 2, 'pt': 5, 'sigdxy': 2} started\n",
      "{'eta': 1, 'pt': 6, 'sigdxy': 4} done\n",
      "{'eta': 2, 'pt': 5, 'sigdxy': 0} started\n",
      "{'eta': 2, 'pt': 6, 'sigdxy': 4} started\n",
      "{'eta': 1, 'pt': 6, 'sigdxy': 1} done\n",
      "{'eta': 1, 'pt': 3, 'sigdxy': 5} done\n",
      "{'eta': 2, 'pt': 6, 'sigdxy': 1} started\n",
      "{'eta': 1, 'pt': 7, 'sigdxy': 1} done\n",
      "{'eta': 1, 'pt': 5, 'sigdxy': 3} done\n",
      "{'eta': 2, 'pt': 3, 'sigdxy': 5} started\n",
      "{'eta': 2, 'pt': 7, 'sigdxy': 1} started\n",
      "{'eta': 2, 'pt': 5, 'sigdxy': 3} started\n",
      "{'eta': 1, 'pt': 6, 'sigdxy': 2} done\n",
      "{'eta': 2, 'pt': 6, 'sigdxy': 2} started\n",
      "{'eta': 2, 'pt': 3, 'sigdxy': 4} done\n",
      "{'eta': 1, 'pt': 7, 'sigdxy': 0} done\n",
      "{'eta': 1, 'pt': 6, 'sigdxy': 0} done\n",
      "{'eta': 2, 'pt': 4, 'sigdxy': 3} done\n",
      "{'eta': 2, 'pt': 7, 'sigdxy': 0} started\n",
      "{'eta': 1, 'pt': 6, 'sigdxy': 5} done\n",
      "{'eta': 0, 'pt': 7, 'sigdxy': 2} started\n",
      "{'eta': 2, 'pt': 4, 'sigdxy': 2} done\n",
      "{'eta': 2, 'pt': 6, 'sigdxy': 0} started\n",
      "{'eta': 1, 'pt': 6, 'sigdxy': 3} done\n",
      "{'eta': 0, 'pt': 7, 'sigdxy': 3} started\n",
      "{'eta': 2, 'pt': 6, 'sigdxy': 5} started\n",
      "{'eta': 0, 'pt': 7, 'sigdxy': 4} started\n",
      "{'eta': 2, 'pt': 6, 'sigdxy': 3} started\n",
      "{'eta': 2, 'pt': 4, 'sigdxy': 4} done\n",
      "{'eta': 0, 'pt': 7, 'sigdxy': 5} started\n",
      "{'eta': 2, 'pt': 4, 'sigdxy': 1} done\n",
      "{'eta': 0, 'pt': 8, 'sigdxy': 0} started\n",
      "{'eta': 2, 'pt': 5, 'sigdxy': 1} done\n",
      "{'eta': 0, 'pt': 8, 'sigdxy': 1} started\n",
      "{'eta': 2, 'pt': 5, 'sigdxy': 3} done\n",
      "{'eta': 2, 'pt': 6, 'sigdxy': 1} done\n",
      "{'eta': 2, 'pt': 5, 'sigdxy': 5} done\n",
      "{'eta': 0, 'pt': 8, 'sigdxy': 2} started\n",
      "{'eta': 2, 'pt': 7, 'sigdxy': 1} done\n",
      "{'eta': 0, 'pt': 8, 'sigdxy': 3} started\n",
      "{'eta': 2, 'pt': 5, 'sigdxy': 0} done\n",
      "{'eta': 0, 'pt': 8, 'sigdxy': 4} started\n",
      "{'eta': 0, 'pt': 8, 'sigdxy': 5} started\n",
      "{'eta': 2, 'pt': 4, 'sigdxy': 0} done\n",
      "{'eta': 0, 'pt': 9, 'sigdxy': 0} started\n",
      "{'eta': 2, 'pt': 4, 'sigdxy': 5} done\n",
      "{'eta': 0, 'pt': 9, 'sigdxy': 1} started\n",
      "{'eta': 0, 'pt': 9, 'sigdxy': 2} started\n",
      "{'eta': 2, 'pt': 3, 'sigdxy': 5} done\n",
      "{'eta': 0, 'pt': 9, 'sigdxy': 3} started\n",
      "{'eta': 0, 'pt': 7, 'sigdxy': 4} done\n",
      "{'eta': 1, 'pt': 7, 'sigdxy': 4} started\n",
      "{'eta': 2, 'pt': 7, 'sigdxy': 0} done\n",
      "{'eta': 2, 'pt': 6, 'sigdxy': 3} done\n",
      "{'eta': 2, 'pt': 6, 'sigdxy': 0} done\n",
      "{'eta': 0, 'pt': 9, 'sigdxy': 4} started\n",
      "{'eta': 0, 'pt': 9, 'sigdxy': 5} started\n",
      "{'eta': 0, 'pt': 10, 'sigdxy': 0} started\n",
      "{'eta': 0, 'pt': 7, 'sigdxy': 3} done\n",
      "{'eta': 2, 'pt': 5, 'sigdxy': 4} done\n",
      "{'eta': 2, 'pt': 6, 'sigdxy': 5} done\n",
      "{'eta': 1, 'pt': 7, 'sigdxy': 3} started\n",
      "{'eta': 0, 'pt': 10, 'sigdxy': 2} started\n",
      "{'eta': 0, 'pt': 10, 'sigdxy': 1} started\n",
      "{'eta': 2, 'pt': 6, 'sigdxy': 4} done\n",
      "{'eta': 2, 'pt': 5, 'sigdxy': 2} done\n",
      "{'eta': 0, 'pt': 10, 'sigdxy': 3} started\n",
      "{'eta': 0, 'pt': 10, 'sigdxy': 4} started\n",
      "{'eta': 0, 'pt': 7, 'sigdxy': 5} done\n",
      "{'eta': 1, 'pt': 7, 'sigdxy': 5} started\n",
      "{'eta': 0, 'pt': 8, 'sigdxy': 1} done\n",
      "{'eta': 1, 'pt': 8, 'sigdxy': 1} started\n",
      "{'eta': 2, 'pt': 6, 'sigdxy': 2} done\n",
      "{'eta': 0, 'pt': 10, 'sigdxy': 5} started\n",
      "{'eta': 0, 'pt': 8, 'sigdxy': 3} done\n",
      "{'eta': 1, 'pt': 8, 'sigdxy': 3} started\n",
      "{'eta': 0, 'pt': 8, 'sigdxy': 2} done\n",
      "{'eta': 0, 'pt': 8, 'sigdxy': 4} done\n",
      "{'eta': 1, 'pt': 8, 'sigdxy': 2} started\n",
      "{'eta': 0, 'pt': 8, 'sigdxy': 0} done\n",
      "{'eta': 1, 'pt': 8, 'sigdxy': 4} started\n",
      "{'eta': 1, 'pt': 8, 'sigdxy': 0} started\n",
      "{'eta': 0, 'pt': 9, 'sigdxy': 1} done\n",
      "{'eta': 0, 'pt': 9, 'sigdxy': 2} done\n",
      "{'eta': 1, 'pt': 9, 'sigdxy': 2} started\n",
      "{'eta': 1, 'pt': 9, 'sigdxy': 1} started\n",
      "{'eta': 0, 'pt': 9, 'sigdxy': 0} done\n",
      "{'eta': 1, 'pt': 9, 'sigdxy': 0} started\n",
      "{'eta': 0, 'pt': 9, 'sigdxy': 5} done\n",
      "{'eta': 0, 'pt': 10, 'sigdxy': 1} done\n",
      "{'eta': 1, 'pt': 9, 'sigdxy': 5} started\n",
      "{'eta': 1, 'pt': 10, 'sigdxy': 1} started\n",
      "{'eta': 0, 'pt': 10, 'sigdxy': 0} done\n",
      "{'eta': 0, 'pt': 10, 'sigdxy': 3} done\n",
      "{'eta': 0, 'pt': 10, 'sigdxy': 2} done\n",
      "{'eta': 1, 'pt': 10, 'sigdxy': 0} started\n",
      "{'eta': 1, 'pt': 10, 'sigdxy': 2} started\n",
      "{'eta': 1, 'pt': 10, 'sigdxy': 3} started\n",
      "{'eta': 0, 'pt': 7, 'sigdxy': 2} done\n",
      "{'eta': 0, 'pt': 8, 'sigdxy': 5} done\n",
      "{'eta': 1, 'pt': 7, 'sigdxy': 2} started\n",
      "{'eta': 1, 'pt': 8, 'sigdxy': 5} started\n",
      "{'eta': 0, 'pt': 9, 'sigdxy': 3} done\n",
      "{'eta': 1, 'pt': 9, 'sigdxy': 3} started\n",
      "{'eta': 1, 'pt': 7, 'sigdxy': 4} done\n",
      "{'eta': 2, 'pt': 7, 'sigdxy': 4} started\n",
      "{'eta': 0, 'pt': 9, 'sigdxy': 4} done\n",
      "{'eta': 1, 'pt': 9, 'sigdxy': 4} started\n",
      "{'eta': 1, 'pt': 8, 'sigdxy': 3} done\n",
      "{'eta': 2, 'pt': 8, 'sigdxy': 3} started\n",
      "{'eta': 1, 'pt': 7, 'sigdxy': 5} done\n",
      "{'eta': 2, 'pt': 7, 'sigdxy': 5} started\n",
      "{'eta': 0, 'pt': 10, 'sigdxy': 4} done\n",
      "{'eta': 1, 'pt': 8, 'sigdxy': 1} done\n",
      "{'eta': 2, 'pt': 8, 'sigdxy': 1} started\n",
      "{'eta': 1, 'pt': 10, 'sigdxy': 4} started\n",
      "{'eta': 1, 'pt': 8, 'sigdxy': 2} done\n",
      "{'eta': 2, 'pt': 8, 'sigdxy': 2} started\n",
      "{'eta': 1, 'pt': 9, 'sigdxy': 1} done\n",
      "{'eta': 1, 'pt': 9, 'sigdxy': 2} done\n",
      "{'eta': 2, 'pt': 9, 'sigdxy': 1} started\n",
      "{'eta': 2, 'pt': 9, 'sigdxy': 2} started\n",
      "{'eta': 0, 'pt': 10, 'sigdxy': 5} done\n",
      "{'eta': 1, 'pt': 8, 'sigdxy': 4} done\n",
      "{'eta': 1, 'pt': 10, 'sigdxy': 1} done\n",
      "{'eta': 1, 'pt': 7, 'sigdxy': 3} done\n",
      "{'eta': 1, 'pt': 10, 'sigdxy': 5} started\n",
      "{'eta': 2, 'pt': 10, 'sigdxy': 1} started\n",
      "{'eta': 2, 'pt': 8, 'sigdxy': 4} started\n",
      "{'eta': 2, 'pt': 7, 'sigdxy': 3} started\n",
      "{'eta': 1, 'pt': 8, 'sigdxy': 0} done\n",
      "{'eta': 1, 'pt': 10, 'sigdxy': 2} done\n",
      "{'eta': 2, 'pt': 8, 'sigdxy': 0} started\n",
      "{'eta': 1, 'pt': 9, 'sigdxy': 5} done\n",
      "{'eta': 2, 'pt': 10, 'sigdxy': 2} started\n",
      "{'eta': 2, 'pt': 9, 'sigdxy': 5} started\n",
      "{'eta': 1, 'pt': 10, 'sigdxy': 0} done\n",
      "{'eta': 2, 'pt': 10, 'sigdxy': 0} started\n",
      "{'eta': 1, 'pt': 9, 'sigdxy': 0} done\n",
      "{'eta': 2, 'pt': 9, 'sigdxy': 0} started\n",
      "{'eta': 1, 'pt': 8, 'sigdxy': 5} done\n",
      "{'eta': 2, 'pt': 8, 'sigdxy': 5} started\n",
      "{'eta': 1, 'pt': 9, 'sigdxy': 4} done\n",
      "{'eta': 2, 'pt': 7, 'sigdxy': 4} done\n",
      "{'eta': 0, 'pt': 11, 'sigdxy': 0} started\n",
      "{'eta': 2, 'pt': 9, 'sigdxy': 4} started\n",
      "{'eta': 2, 'pt': 8, 'sigdxy': 3} done\n",
      "{'eta': 0, 'pt': 11, 'sigdxy': 1} started\n",
      "{'eta': 1, 'pt': 7, 'sigdxy': 2} done\n",
      "{'eta': 2, 'pt': 7, 'sigdxy': 2} started\n",
      "{'eta': 2, 'pt': 8, 'sigdxy': 1} done\n",
      "{'eta': 0, 'pt': 11, 'sigdxy': 2} started\n",
      "{'eta': 1, 'pt': 10, 'sigdxy': 3} done\n",
      "{'eta': 2, 'pt': 10, 'sigdxy': 3} started\n",
      "{'eta': 2, 'pt': 9, 'sigdxy': 2} done\n",
      "{'eta': 1, 'pt': 10, 'sigdxy': 4} done\n",
      "{'eta': 2, 'pt': 10, 'sigdxy': 4} started\n",
      "{'eta': 0, 'pt': 11, 'sigdxy': 3} started\n",
      "{'eta': 2, 'pt': 8, 'sigdxy': 2} done\n",
      "{'eta': 0, 'pt': 11, 'sigdxy': 4} started\n",
      "{'eta': 2, 'pt': 8, 'sigdxy': 4} done\n",
      "{'eta': 2, 'pt': 7, 'sigdxy': 5} done\n",
      "{'eta': 0, 'pt': 11, 'sigdxy': 5} started\n",
      "{'eta': 2, 'pt': 8, 'sigdxy': 0} done\n",
      "{'eta': 1, 'pt': 10, 'sigdxy': 5} done\n",
      "{'eta': 2, 'pt': 10, 'sigdxy': 5} started\n",
      "{'eta': 2, 'pt': 7, 'sigdxy': 3} done\n",
      "{'eta': 2, 'pt': 9, 'sigdxy': 1} done\n",
      "{'eta': 1, 'pt': 9, 'sigdxy': 3} done\n",
      "{'eta': 2, 'pt': 9, 'sigdxy': 0} done\n",
      "{'eta': 2, 'pt': 10, 'sigdxy': 1} done\n",
      "{'eta': 2, 'pt': 9, 'sigdxy': 3} started\n",
      "{'eta': 2, 'pt': 9, 'sigdxy': 5} done\n",
      "{'eta': 2, 'pt': 10, 'sigdxy': 0} done\n",
      "{'eta': 2, 'pt': 10, 'sigdxy': 2} done\n",
      "{'eta': 2, 'pt': 8, 'sigdxy': 5} done\n",
      "{'eta': 2, 'pt': 7, 'sigdxy': 2} done\n",
      "{'eta': 2, 'pt': 9, 'sigdxy': 4} done\n",
      "{'eta': 0, 'pt': 11, 'sigdxy': 2} done\n",
      "{'eta': 1, 'pt': 11, 'sigdxy': 2} started\n",
      "{'eta': 0, 'pt': 11, 'sigdxy': 0} done\n",
      "{'eta': 2, 'pt': 10, 'sigdxy': 3} done\n",
      "{'eta': 1, 'pt': 11, 'sigdxy': 0} started\n",
      "{'eta': 0, 'pt': 11, 'sigdxy': 3} done\n",
      "{'eta': 1, 'pt': 11, 'sigdxy': 3} started\n",
      "{'eta': 0, 'pt': 11, 'sigdxy': 4} done\n",
      "{'eta': 1, 'pt': 11, 'sigdxy': 4} started\n",
      "{'eta': 0, 'pt': 11, 'sigdxy': 5} done\n",
      "{'eta': 1, 'pt': 11, 'sigdxy': 5} started\n",
      "{'eta': 2, 'pt': 10, 'sigdxy': 5} done\n",
      "{'eta': 2, 'pt': 10, 'sigdxy': 4} done\n",
      "{'eta': 2, 'pt': 9, 'sigdxy': 3} done\n",
      "{'eta': 0, 'pt': 11, 'sigdxy': 1} done\n"
     ]
    },
    {
     "name": "stdout",
     "output_type": "stream",
     "text": [
      "{'eta': 1, 'pt': 11, 'sigdxy': 1} started\n",
      "{'eta': 1, 'pt': 11, 'sigdxy': 2} done\n",
      "{'eta': 2, 'pt': 11, 'sigdxy': 2} started\n",
      "{'eta': 1, 'pt': 11, 'sigdxy': 0} done\n",
      "{'eta': 2, 'pt': 11, 'sigdxy': 0} started\n",
      "{'eta': 1, 'pt': 11, 'sigdxy': 3} done\n",
      "{'eta': 2, 'pt': 11, 'sigdxy': 3} started\n",
      "{'eta': 1, 'pt': 11, 'sigdxy': 5} done\n",
      "{'eta': 2, 'pt': 11, 'sigdxy': 5} started\n",
      "{'eta': 1, 'pt': 11, 'sigdxy': 4} done\n",
      "{'eta': 2, 'pt': 11, 'sigdxy': 4} started\n",
      "{'eta': 1, 'pt': 11, 'sigdxy': 1} done\n",
      "{'eta': 2, 'pt': 11, 'sigdxy': 1} started\n",
      "{'eta': 2, 'pt': 11, 'sigdxy': 2} done\n",
      "{'eta': 2, 'pt': 11, 'sigdxy': 3} done\n",
      "{'eta': 2, 'pt': 11, 'sigdxy': 5} done\n",
      "{'eta': 2, 'pt': 11, 'sigdxy': 4} done\n",
      "{'eta': 2, 'pt': 11, 'sigdxy': 0} done\n",
      "{'eta': 2, 'pt': 11, 'sigdxy': 1} done\n"
     ]
    }
   ],
   "source": [
    "multiCpu = True\n",
    "if multiCpu:\n",
    "    N_max = max(1, multiprocessing.cpu_count() - 10)\n",
    "    N_request = min(len(inputs), N_max)\n",
    "    print 'Parallelization factor:', N_request\n",
    "    p = multiprocessing.Pool(N_request)\n",
    "    output = p.map(analyzeBin, inputs)\n",
    "else:\n",
    "    output = []\n",
    "    for i in inputs:\n",
    "        output.append(analyzeBin(i, verbose=True))"
   ]
  },
  {
   "cell_type": "code",
   "execution_count": 37,
   "metadata": {
    "ExecuteTime": {
     "end_time": "2021-02-20T00:22:10.535091Z",
     "start_time": "2021-02-20T00:22:10.516259Z"
    },
    "hide_input": false,
    "scrolled": true
   },
   "outputs": [],
   "source": [
    "for idx, nSigTot, nSigPass in output:\n",
    "    ip = idx['pt']+1\n",
    "    ii = idx['sigdxy']+1\n",
    "    ie = idx['eta']+1\n",
    "    h2['Ntot'].SetBinContent(ip, ii, ie, nSigTot)\n",
    "    h2['Ntot'].SetBinError(h2['Ntot'].GetBin(ip, ii, ie), np.sqrt(nSigTot))\n",
    "    h2['Npass'].SetBinContent(ip, ii, ie, nSigPass)\n",
    "    h2['Npass'].SetBinError(h2['Npass'].GetBin(ip, ii, ie), np.sqrt(nSigPass))"
   ]
  },
  {
   "cell_type": "code",
   "execution_count": 38,
   "metadata": {
    "ExecuteTime": {
     "end_time": "2021-02-20T00:23:34.889349Z",
     "start_time": "2021-02-20T00:23:34.851766Z"
    },
    "hide_input": false
   },
   "outputs": [],
   "source": [
    "if not rt.TEfficiency.CheckConsistency(h2['Npass'], h2['Ntot']): raise\n",
    "pEff = rt.TEfficiency(h2['Npass'], h2['Ntot'])\n",
    "pEff.SetStatisticOption(rt.TEfficiency.kFCP)\n",
    "pEff.SetNameTitle('eff_'+probeTrigger, 'Efficience for '+probeTrigger)\n",
    "\n",
    "tf = rt.TFile('../data/calibration/triggerScaleFactors/{}_{}_{}.root'.format(probeTrigger, dataset, version), 'RECREATE')\n",
    "pEff.Write()\n",
    "for h in h2.values():\n",
    "    h.Write()\n",
    "tf.Close()"
   ]
  },
  {
   "cell_type": "code",
   "execution_count": 39,
   "metadata": {
    "ExecuteTime": {
     "end_time": "2021-02-20T00:24:58.973532Z",
     "start_time": "2021-02-20T00:24:58.511617Z"
    },
    "hide_input": false,
    "scrolled": false
   },
   "outputs": [
    {
     "name": "stdout",
     "output_type": "stream",
     "text": [
      "1 1 0.000182262238909\n",
      "2 1 0.016821084825\n",
      "3 1 0.514434453384\n",
      "4 1 0.573975903614\n",
      "5 1 0.580773042616\n",
      "6 1 0.589058758519\n",
      "7 1 0.591098541233\n",
      "8 1 0.597043504902\n",
      "9 1 0.603853383459\n",
      "10 1 0.600423429781\n",
      "11 1 0.598304239401\n",
      "12 1 0.589285714286\n"
     ]
    },
    {
     "data": {
      "image/png": "[encoded data removed]",
      "text/plain": [
       "<IPython.core.display.Image object>"
      ]
     },
     "metadata": {},
     "output_type": "display_data"
    },
    {
     "data": {
      "image/png": "[encoded data removed]",
      "text/plain": [
       "<IPython.core.display.Image object>"
      ]
     },
     "metadata": {},
     "output_type": "display_data"
    },
    {
     "data": {
      "image/png": "[encoded data removed]",
      "text/plain": [
       "<IPython.core.display.Image object>"
      ]
     },
     "metadata": {},
     "output_type": "display_data"
    }
   ],
   "source": [
    "outCanvases = []\n",
    "tdrstyle.setTDRStyle()\n",
    "BRY_colors = [rt.kBlack, rt.kGray+1, \n",
    "              rt.kBlue, rt.kAzure+1,\n",
    "              rt.kViolet-7, rt.kMagenta-9, rt.kRed-4, \n",
    "              rt.kOrange-3, rt.kYellow+7, rt.kGreen+1]\n",
    "hRef = h2['Npass']\n",
    "for iz in range(1, hRef.GetNbinsZ()+1):\n",
    "    title = 'Efficiency {} {} ({:.1f} < |#eta| < {:.1f})'.format(probeTrigger, dataset, binning['eta'][iz-1], binning['eta'][iz])\n",
    "    \n",
    "    leg = rt.TLegend(0.7, 0.2, 0.98, 0.5)\n",
    "    leg.SetLineWidth(0)\n",
    "    leg.SetBorderSize(0)\n",
    "    gr2draw = []\n",
    "\n",
    "    for iy in range(1, hRef.GetNbinsY()+1):\n",
    "        gr = rt.TGraphAsymmErrors()\n",
    "        gr.SetName('gr_{}_{}'.format(iy,iz))\n",
    "        for ix in range(1, hRef.GetNbinsX()+1):\n",
    "            idx = pEff.GetGlobalBin(ix, iy, iz)\n",
    "            if iz == 3 and iy==1:\n",
    "                print ix, iy, pEff.GetEfficiency(idx)\n",
    "            x = binning['pt'][ix-1] + 0.5*(binning['pt'][ix] - binning['pt'][ix-1])\n",
    "            gr.SetPoint(ix-1, x, pEff.GetEfficiency(idx))\n",
    "            gr.SetPointError(ix-1, x-binning['pt'][ix-1], binning['pt'][ix]-x, \n",
    "                             pEff.GetEfficiencyErrorLow(idx), pEff.GetEfficiencyErrorUp(idx)\n",
    "                            )\n",
    "        gr.SetLineColor(BRY_colors[iy-1])\n",
    "        gr.SetMarkerColor(BRY_colors[iy-1])\n",
    "        leg.AddEntry(gr, '{:.1f} < IP < {:.1f}'.format(binning['sigdxy'][iy-1], binning['sigdxy'][iy]), 'lep')\n",
    "        gr2draw.append(gr)\n",
    "    \n",
    "    M = 1.2\n",
    "    m = 0\n",
    "    gr2draw[0].GetYaxis().SetRangeUser(m ,M)\n",
    "    c = drawOnCMSCanvas(CMS_lumi, gr2draw, ['AP'] + (len(gr2draw)-1)*['P'], tag='_eff'+str(iz))    \n",
    "    gr2draw[0].GetYaxis().SetTitle('Efficiency')\n",
    "    gr2draw[0].GetXaxis().SetTitle('Muon p_{T} [GeV]')\n",
    "    leg.Draw()\n",
    "#     c.SetLogx()\n",
    "#     c.SetLogy()\n",
    "#     m = 1e-3\n",
    "#     M = 5\n",
    "    gr2draw[0].GetXaxis().SetTitleOffset(1.1)\n",
    "    \n",
    "    trgThr = float(re.search(r'_Mu[0-9]+_', probeTrigger).group(0)[3:-1])\n",
    "    cl.DrawLine(trgThr, m, trgThr, 1)\n",
    "    \n",
    "    l = rt.TLine()\n",
    "    l.SetLineWidth(1)\n",
    "    l.SetLineColor(rt.kGray)\n",
    "    l.SetLineStyle(7)\n",
    "    l.DrawLine(binning['pt'][0], 1, binning['pt'][-1], 1)\n",
    "    \n",
    "    rt.TLatex()\n",
    "    text = rt.TLatex()\n",
    "    text.SetTextAlign(22)\n",
    "    text.SetTextSize(0.04)\n",
    "    text.SetTextFont(42)\n",
    "    text.DrawLatexNDC(0.6, 0.9, title);\n",
    "\n",
    "    imgLoc = '../data/calibration/triggerScaleFactors/figEff/'\n",
    "    c.SaveAs(imgLoc + probeTrigger+ '_' + dataset + '_eta{}_{}.png'.format(iz-1, version))\n",
    "    c.SaveAs(webFolder+'/eff_'+probeTrigger+ '_' + dataset + '_eta{}_{}.png'.format(iz-1, version))\n",
    "    outCanvases.append([c, gr2draw, leg])"
   ]
  },
  {
   "cell_type": "code",
   "execution_count": 29,
   "metadata": {
    "ExecuteTime": {
     "end_time": "2021-02-20T00:06:52.411553Z",
     "start_time": "2021-02-20T00:06:52.396812Z"
    }
   },
   "outputs": [
    {
     "name": "stdout",
     "output_type": "stream",
     "text": [
      "Done\n"
     ]
    }
   ],
   "source": [
    "print 'Done'"
   ]
  }
 ],
 "metadata": {
  "kernelspec": {
   "display_name": "Python 2",
   "language": "python",
   "name": "python2"
  },
  "language_info": {
   "codemirror_mode": {
    "name": "ipython",
    "version": 2
   },
   "file_extension": ".py",
   "mimetype": "text/x-python",
   "name": "python",
   "nbconvert_exporter": "python",
   "pygments_lexer": "ipython2",
   "version": "2.7.14+"
  },
  "varInspector": {
   "cols": {
    "lenName": 16,
    "lenType": 16,
    "lenVar": 40
   },
   "kernels_config": {
    "python": {
     "delete_cmd_postfix": "",
     "delete_cmd_prefix": "del ",
     "library": "var_list.py",
     "varRefreshCmd": "print(var_dic_list())"
    },
    "r": {
     "delete_cmd_postfix": ") ",
     "delete_cmd_prefix": "rm(",
     "library": "var_list.r",
     "varRefreshCmd": "cat(var_dic_list()) "
    }
   },
   "types_to_exclude": [
    "module",
    "function",
    "builtin_function_or_method",
    "instance",
    "_Feature"
   ],
   "window_display": false
  }
 },
 "nbformat": 4,
 "nbformat_minor": 2
}
