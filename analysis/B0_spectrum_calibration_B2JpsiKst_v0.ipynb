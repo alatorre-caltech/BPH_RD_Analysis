{
 "cells": [
  {
   "cell_type": "code",
   "execution_count": 1,
   "metadata": {
    "ExecuteTime": {
     "end_time": "2019-10-29T00:26:59.317465Z",
     "start_time": "2019-10-29T00:26:57.601342Z"
    }
   },
   "outputs": [
    {
     "name": "stdout",
     "output_type": "stream",
     "text": [
      "Welcome to JupyROOT 6.10/08\n"
     ]
    }
   ],
   "source": [
    "import numpy as np\n",
    "import scipy.stats as sps\n",
    "from glob import glob\n",
    "import matplotlib.pyplot as plt\n",
    "import uproot as ur\n",
    "import ROOT as rt\n",
    "import ROOT.RooFit as rf\n",
    "from scipy.special import erf\n",
    "import sys, os\n",
    "sys.path.append('../lib')\n",
    "from histo_utilities import create_TH1D, create_TH2D, std_color_list, SetMaxToMaxHist, make_ratio_plot\n",
    "from cebefo_style import Set_2D_colz_graphics\n",
    "from progressBar import ProgressBar\n",
    "\n",
    "from analysis_utilities import drawOnCMSCanvas, extarct, extarct_multiple, createSel\n",
    "from lumi_utilities import getLumiReport\n",
    "\n",
    "import CMS_lumi, tdrstyle\n",
    "tdrstyle.setTDRStyle()\n",
    "CMS_lumi.writeExtraText = 1\n",
    "CMS_lumi.extraText = \"     Preliminary\"\n",
    "\n",
    "donotdelete = []"
   ]
  },
  {
   "cell_type": "code",
   "execution_count": 2,
   "metadata": {
    "ExecuteTime": {
     "end_time": "2019-10-29T00:26:59.352848Z",
     "start_time": "2019-10-29T00:26:59.320746Z"
    }
   },
   "outputs": [],
   "source": [
    "rt.gErrorIgnoreLevel = rt.kError\n",
    "rt.RooMsgService.instance().setGlobalKillBelow(rt.RooFit.ERROR)"
   ]
  },
  {
   "cell_type": "code",
   "execution_count": 3,
   "metadata": {
    "ExecuteTime": {
     "end_time": "2019-10-29T00:26:59.373790Z",
     "start_time": "2019-10-29T00:26:59.356957Z"
    }
   },
   "outputs": [
    {
     "name": "stdout",
     "output_type": "stream",
     "text": [
      "1.86483\n",
      "2.01026\n",
      "5.27963\n",
      "mD* - mD0 = 0.14543\n"
     ]
    }
   ],
   "source": [
    "m_D0 = 1.86483 #1e-3*Particle.from_string('D0').mass\n",
    "print m_D0\n",
    "m_Dst = 2.01026 #1e-3*Particle.from_string('D*+').mass\n",
    "print m_Dst\n",
    "m_B0 = 5.27963 #1e-3*Particle.from_string('B0').mass\n",
    "print m_B0\n",
    "m_pi = 0.13957018 #1e-3*Particle.from_string('pi+').mass\n",
    "print 'mD* - mD0 =', m_Dst - m_D0"
   ]
  },
  {
   "cell_type": "code",
   "execution_count": 4,
   "metadata": {
    "ExecuteTime": {
     "end_time": "2019-10-29T00:26:59.399257Z",
     "start_time": "2019-10-29T00:26:59.377757Z"
    }
   },
   "outputs": [],
   "source": [
    "cl = rt.TLine()\n",
    "cl.SetLineColor(6)\n",
    "cl.SetLineStyle(9)\n",
    "cl.SetLineWidth(2)"
   ]
  },
  {
   "cell_type": "markdown",
   "metadata": {},
   "source": [
    "# Cuts declaration"
   ]
  },
  {
   "cell_type": "code",
   "execution_count": 5,
   "metadata": {
    "ExecuteTime": {
     "end_time": "2019-10-29T00:26:59.414084Z",
     "start_time": "2019-10-29T00:26:59.403532Z"
    }
   },
   "outputs": [],
   "source": [
    "analysis_cuts = [\n",
    " 'mass_mumu < 3.174',\n",
    " 'mass_mumu > 3.013',\n",
    " 'mass_piK > 0.82',\n",
    " 'mass_piK < 0.96',\n",
    " 'mum_pt > 3.5',\n",
    " 'mup_pt > 3.5',\n",
    " 'Jpsi_pt > 7',\n",
    " 'pval_mumu > 0.1',\n",
    " 'mum_eta > -2.2',\n",
    " 'mup_eta > -2.2',\n",
    " 'mum_eta < 2.2',\n",
    " 'mup_eta < 2.2',\n",
    " 'cosT_Jpsi_PV > 0.95',\n",
    " 'mum_dxy < 3',\n",
    " 'mup_dxy < 3',\n",
    " 'pval_piK > 0.1',\n",
    " 'fabs(mass_piK - 0.892) < fabs(mass_piK_CPconj - 0.892)',\n",
    " 'mass_KK > 1.035',\n",
    " 'K_sigdxy_PV > 2',\n",
    " 'pi_sigdxy_PV > 2',\n",
    " 'sigdxy_vtxKst_PV > 5',\n",
    " 'K_pt > 0.8',\n",
    " 'pval_mumupiK > 0.1',\n",
    " 'pi_pt > 0.8',\n",
    " 'mass_mumupiK > 5.02',\n",
    " 'mass_mumupiK < 5.55'\n",
    "]\n",
    "analysis_cuts_str = ' && '.join(analysis_cuts)"
   ]
  },
  {
   "cell_type": "markdown",
   "metadata": {},
   "source": [
    "# Load data"
   ]
  },
  {
   "cell_type": "code",
   "execution_count": 6,
   "metadata": {
    "ExecuteTime": {
     "end_time": "2019-10-29T00:26:59.784048Z",
     "start_time": "2019-10-29T00:26:59.768956Z"
    }
   },
   "outputs": [
    {
     "name": "stdout",
     "output_type": "stream",
     "text": [
      "../data/cmsRD/ParkingBPH1/Run2018A-05May2019-v1_RDntuplizer_B2JpsiKst_191019_CAND.root\n",
      "../data/cmsRD/ParkingBPH2/Run2018A-05May2019-v1_RDntuplizer_B2JpsiKst_191019_CAND.root\n",
      "../data/cmsRD/ParkingBPH3/Run2018A-05May2019-v1_RDntuplizer_B2JpsiKst_191019_CAND.root\n",
      "../data/cmsRD/ParkingBPH4/Run2018A-05May2019-v1_RDntuplizer_B2JpsiKst_191019_CAND.root\n",
      "../data/cmsRD/ParkingBPH5/Run2018A-05May2019-v1_RDntuplizer_B2JpsiKst_191019_CAND.root\n",
      "../data/cmsRD/ParkingBPH6/Run2018A-05May2019-v1_RDntuplizer_B2JpsiKst_191019_CAND.root\n"
     ]
    }
   ],
   "source": [
    "dataDir = '../data/cmsRD'\n",
    "datasets_loc = []\n",
    "datasets_loc += glob(dataDir + '/ParkingBPH*/*2018A*B2JpsiKst_191019*')\n",
    "# datasets_loc += glob(dataDir + '/ParkingBPH1/*2018D-*B2JpsiKst_191017*')\n",
    "\n",
    "for d in datasets_loc: print d"
   ]
  },
  {
   "cell_type": "code",
   "execution_count": 7,
   "metadata": {
    "ExecuteTime": {
     "end_time": "2019-10-29T00:26:59.977547Z",
     "start_time": "2019-10-29T00:26:59.961331Z"
    }
   },
   "outputs": [
    {
     "name": "stdout",
     "output_type": "stream",
     "text": [
      "Lumi tot: 4.6 fb^-1\n",
      "Lumi analyzed: 11.3%\n"
     ]
    }
   ],
   "source": [
    "lumi_tot, lumi_dic = getLumiReport(datasets_loc)\n",
    "CMS_lumi.integrated_lumi = lumi_tot"
   ]
  },
  {
   "cell_type": "code",
   "execution_count": 8,
   "metadata": {
    "ExecuteTime": {
     "end_time": "2019-10-29T00:27:16.627773Z",
     "start_time": "2019-10-29T00:27:01.136748Z"
    }
   },
   "outputs": [
    {
     "name": "stdout",
     "output_type": "stream",
     "text": [
      "N evts: 17430\n"
     ]
    }
   ],
   "source": [
    "treeRD = rt.TChain('outA/Tevts')\n",
    "for floc in datasets_loc:\n",
    "   treeRD.Add(floc)\n",
    "print 'N evts: {:.0f}'.format(treeRD.GetEntries(analysis_cuts_str))"
   ]
  },
  {
   "cell_type": "markdown",
   "metadata": {},
   "source": [
    "# Load MC"
   ]
  },
  {
   "cell_type": "code",
   "execution_count": 9,
   "metadata": {
    "ExecuteTime": {
     "end_time": "2019-10-29T00:27:16.646018Z",
     "start_time": "2019-10-29T00:27:16.630786Z"
    }
   },
   "outputs": [],
   "source": [
    "mcDir = '../data/cmsMC_private'"
   ]
  },
  {
   "cell_type": "code",
   "execution_count": 10,
   "metadata": {
    "ExecuteTime": {
     "end_time": "2019-10-29T00:27:17.990120Z",
     "start_time": "2019-10-29T00:27:16.650273Z"
    }
   },
   "outputs": [
    {
     "name": "stdout",
     "output_type": "stream",
     "text": [
      "N files: 45\n",
      "N evts: 53590\n"
     ]
    }
   ],
   "source": [
    "mcsets_loc = glob(mcDir + '/BPH_Tag-Probe_B0_JpsiKst-mumuKpi-kp_13TeV-pythia8_Hardbbbar_PTFilter5_0p0-evtgen_SVV/jobs_B2JpsiKst/out_CAND*.root')\n",
    "treeMC_hard = rt.TChain('outA/Tevts')\n",
    "for floc in mcsets_loc:\n",
    "    treeMC_hard.Add(floc)\n",
    "print 'N files: {:.0f}'.format(len(mcsets_loc))\n",
    "print 'N evts: {:.0f}'.format(treeMC_hard.GetEntries(analysis_cuts_str))"
   ]
  },
  {
   "cell_type": "code",
   "execution_count": 11,
   "metadata": {
    "ExecuteTime": {
     "end_time": "2019-10-29T00:27:18.310152Z",
     "start_time": "2019-10-29T00:27:17.994447Z"
    }
   },
   "outputs": [
    {
     "name": "stdout",
     "output_type": "stream",
     "text": [
      "N files: 9\n",
      "N evts: 12044\n"
     ]
    }
   ],
   "source": [
    "mcsets_loc = glob(mcDir + '/BPH_Tag-Probe_B0_JpsiKst-mumuKpi-kp_13TeV-pythia8_SoftQCD_PTFilter5_0p0-evtgen_SVV/jobs_B2JpsiKst/out_CAND*.root')\n",
    "treeMC_soft = rt.TChain('outA/Tevts')\n",
    "for floc in mcsets_loc:\n",
    "    treeMC_soft.Add(floc)\n",
    "print 'N files: {:.0f}'.format(len(mcsets_loc))\n",
    "print 'N evts: {:.0f}'.format(treeMC_soft.GetEntries(analysis_cuts_str))"
   ]
  },
  {
   "cell_type": "markdown",
   "metadata": {},
   "source": [
    "# Analyze data"
   ]
  },
  {
   "cell_type": "markdown",
   "metadata": {
    "heading_collapsed": true
   },
   "source": [
    "### Fit the whole dataset"
   ]
  },
  {
   "cell_type": "code",
   "execution_count": null,
   "metadata": {
    "ExecuteTime": {
     "end_time": "2019-10-28T23:31:49.812693Z",
     "start_time": "2019-10-28T23:31:34.472053Z"
    },
    "hidden": true
   },
   "outputs": [],
   "source": [
    "h = create_TH1D(np.zeros(0), name='h',\n",
    "                title='',\n",
    "                axis_title=['m(#mu#mu#pi^{-}K^{+}) [GeV]', 'Events'],\n",
    "                binning=[30, 5.02, 5.55]\n",
    "               )\n",
    "treeRD.Project('h', 'mass_mumupiK', analysis_cuts_str)\n",
    "h.Sumw2()"
   ]
  },
  {
   "cell_type": "code",
   "execution_count": null,
   "metadata": {
    "ExecuteTime": {
     "end_time": "2019-10-28T23:31:49.900116Z",
     "start_time": "2019-10-28T23:31:49.816930Z"
    },
    "hidden": true
   },
   "outputs": [],
   "source": [
    "mass = rt.RooRealVar('mass_mumupiK', 'm_{#mu#mu#piK}', h.binning[1], h.binning[2], 'GeV')\n",
    "\n",
    "# mean = rt.RooRealVar('mean', 'm_{B}', m_B0, 3, 7, 'GeV')\n",
    "# sigma = rt.RooRealVar('sigma', '#sigma', 0.02, 0.00005, 0.1, 'GeV') \n",
    "# pdf_sig = rt.RooGaussian('gaus','sig pdf', mass, mean, sigma)\n",
    "\n",
    "# mean = rt.RooRealVar('mean', 'm_{B}', m_B0, 3, 7, 'GeV')\n",
    "# sigma = rt.RooRealVar('sigma', '#sigma', 0.03, 0.00005, 0.1, 'GeV')\n",
    "# alpha = rt.RooRealVar('alpha', '#alpha', 2, -5, 5, 'GeV')\n",
    "# nCB = rt.RooRealVar('nCB', 'n_{CB}', 2, -10, 10, 'GeV')\n",
    "# pdf_sig = rt.RooCBShape('gaus','sig pdf', mass, mean, sigma, alpha, nCB)\n",
    "\n",
    "mean = rt.RooRealVar('mean', '#mu', m_B0, 3, 7, 'GeV')\n",
    "sigma = rt.RooRealVar('sigma', '#sigma', 0.03, 0.00005, 0.1, 'GeV')\n",
    "pAsym = rt.RooRealVar('pAsym', '#alpha', 0, -1, 1)\n",
    "# pAsym.setConstant(rt.kTRUE)\n",
    "rho1 = rt.RooRealVar('rho1', '#rho_{1}', 0, -10, 0)\n",
    "# rho1.setConstant(rt.kTRUE)\n",
    "rho2 = rt.RooRealVar('rho2', '#rho_{2}', 0.5, 0, 10)\n",
    "pdf_sig = rt.RooBukinPdf('bukin','sig pdf', mass, mean, sigma, pAsym, rho1, rho2)\n",
    "\n",
    "N_tot = h.Integral(1, h.binning[0])\n",
    "nsig = rt.RooRealVar('nsig', 'N_{S}', 0.9*N_tot, 0, 100*N_tot)\n",
    "pdf_sig_ext = rt.RooExtendPdf('esig', 'esig', pdf_sig, nsig)"
   ]
  },
  {
   "cell_type": "code",
   "execution_count": null,
   "metadata": {
    "ExecuteTime": {
     "end_time": "2019-10-28T23:31:49.919639Z",
     "start_time": "2019-10-28T23:31:49.903071Z"
    },
    "hidden": true
   },
   "outputs": [],
   "source": [
    "lam = rt.RooRealVar('lam', '#lambda', -2.1, -100, -0.1, 'GeV^{-1}')\n",
    "pdf_bkg = rt.RooExponential('expo', 'bkg pdf', mass, lam)\n",
    "\n",
    "# a0 = rt.RooRealVar('a0', 'a0', 10, 0, 100)\n",
    "# a1 = rt.RooRealVar('a1', 'a1', 0.1, -10, 1000)\n",
    "# a2 = rt.RooRealVar('a2', 'a2', 0.1, -100, 1000)\n",
    "# pdf_bkg = rt.RooPolynomial('poly', 'bkg pdf', mass, rt.RooArgList(a1, a2), 1)\n",
    "\n",
    "nbkg = rt.RooRealVar('nbkg', 'N_{B}', 0.1*N_tot, 0, 100*N_tot)\n",
    "pdf_bkg_ext = rt.RooExtendPdf('ebkg', 'ebkg', pdf_bkg, nbkg)"
   ]
  },
  {
   "cell_type": "code",
   "execution_count": null,
   "metadata": {
    "ExecuteTime": {
     "end_time": "2019-10-28T23:31:50.159097Z",
     "start_time": "2019-10-28T23:31:49.924000Z"
    },
    "hidden": true
   },
   "outputs": [],
   "source": [
    "data = rt.RooDataHist('d', 'data', rt.RooArgList(mass), h)\n",
    "\n",
    "pdf_tot = rt.RooAddPdf('pdftot', 'pdftot', rt.RooArgList(pdf_sig_ext, pdf_bkg_ext))\n",
    "fr = pdf_tot.fitTo(data, rf.PrintLevel(-1), rf.Save())\n",
    "\n",
    "dof = h.binning[0]-fr.floatParsFinal().getSize()\n",
    "chi2 = rt.RooChi2Var(\"chi2\", 'chi2', pdf_tot, data)\n",
    "pval = rt.ROOT.Math.chisquared_cdf_c(chi2.getVal(), dof)\n",
    "print 'chi2: {:.1f}/{:.0f} {:.3f}'.format(chi2.getVal(), dof, pval)\n",
    "\n",
    "print 'Total: Nsig = {:.0f}, Nbkg = {:.0f}'.format(nsig.getVal(), nbkg.getVal())"
   ]
  },
  {
   "cell_type": "code",
   "execution_count": null,
   "metadata": {
    "ExecuteTime": {
     "end_time": "2019-10-28T23:31:50.525672Z",
     "start_time": "2019-10-28T23:31:50.163376Z"
    },
    "hidden": true,
    "scrolled": false
   },
   "outputs": [],
   "source": [
    "frame = mass.frame(rf.Title(\"\"))\n",
    "data.plotOn(frame, rf.MarkerStyle(1), rf.DrawOption('E1'), rf.MarkerColor(h.GetLineColor()), rf.LineColor(h.GetLineColor()), rf.MarkerStyle(15))\n",
    "pdf_tot.plotOn(frame, rf.LineColor(h.GetLineColor()), rf.LineWidth(2))\n",
    "pdf_tot.plotOn(frame, rf.Components('ebkg'), rf.LineColor(rt.kRed), rf.LineWidth(2), rf.LineStyle(7))\n",
    "pdf_tot.plotOn(frame, rf.Components('esig'), rf.LineColor(rt.kBlue), rf.LineWidth(2), rf.LineStyle(7))\n",
    "\n",
    "pTxt = rt.TPaveText(5.05, 0.2*h.GetMaximum(), 5.2, h.GetMaximum())\n",
    "pTxt.SetBorderSize(0)\n",
    "pTxt.SetFillStyle(0)\n",
    "pTxt.SetTextAlign(11)\n",
    "pTxt.AddText('#chi^{{2}}: {:.1f}/{:.0f} ({:.2f})'.format(chi2.getVal(), dof, pval))\n",
    "pTxt.AddText('N_{{sig}} = {:.0f} +/- {:.0f}'.format(nsig.getVal(), nsig.getError()))\n",
    "pTxt.AddText('#mu = {:.1f} +/- {:.1f} MeV'.format(1e3*mean.getVal(), 1e3*mean.getError()))\n",
    "pTxt.AddText('#sigma = {:.1f} +/- {:.1f} MeV'.format(1e3*sigma.getVal(), 1e3*sigma.getError()))\n",
    "pTxt.AddText('#alpha = {:.3f} +/- {:.3f}'.format(pAsym.getVal(), pAsym.getError()))\n",
    "pTxt.AddText('#rho_{{1}} = {:.3f} +/- {:.3f}'.format(rho1.getVal(), rho1.getError()))\n",
    "pTxt.AddText('#rho_{{2}} = {:.3f} +/- {:.3f}'.format(rho2.getVal(), rho2.getError()))\n",
    "\n",
    "c = drawOnCMSCanvas(CMS_lumi, frame)\n",
    "cl.DrawLine(m_B0, 0, m_B0, h.GetMaximum());\n",
    "pTxt.Draw()"
   ]
  },
  {
   "cell_type": "markdown",
   "metadata": {
    "heading_collapsed": true
   },
   "source": [
    "### Create a skimmed tree"
   ]
  },
  {
   "cell_type": "code",
   "execution_count": null,
   "metadata": {
    "ExecuteTime": {
     "end_time": "2019-10-28T23:35:19.926282Z",
     "start_time": "2019-10-28T23:31:50.529830Z"
    },
    "code_folding": [],
    "hidden": true
   },
   "outputs": [],
   "source": [
    "output = []\n",
    "N_accepted_cand = []\n",
    "\n",
    "import operator\n",
    "ops = {'>': operator.gt, '<': operator.lt, }\n",
    "\n",
    "pb = ProgressBar(maxEntry=treeRD.GetEntries())\n",
    "for i_ev, ev in enumerate(treeRD):\n",
    "    pb.show(i_ev)\n",
    "    N_acc = 0\n",
    "    for j in range(ev.pval_mumupiK.size()):\n",
    "        accept = abs(ev.mass_piK[j] - 0.892) < abs(ev.mass_piK_CPconj[j] - 0.892)\n",
    "        for c_str in analysis_cuts:\n",
    "            if c_str == 'fabs(mass_piK - 0.892) < fabs(mass_piK_CPconj - 0.892)': continue\n",
    "            if not accept:\n",
    "                break\n",
    "            aux = c_str.split(' ')\n",
    "            if len(aux) != 3:\n",
    "                raise\n",
    "            x = getattr(ev, aux[0])[j]\n",
    "            accept = ops[aux[1]](x, float(aux[2]))\n",
    "        if accept:\n",
    "            N_acc += 1\n",
    "            output.append((ev.mass_mumupiK[j], \n",
    "                           ev.B_mumupiK_pt[j], \n",
    "                           ev.B_mumupiK_eta[j],\n",
    "                           ev.Jpsi_pt[j],\n",
    "                           ev.mum_pt[j],\n",
    "                           ev.mum_eta[j],\n",
    "                           ev.mum_isTrg[j],\n",
    "                           ev.mup_eta[j],\n",
    "                           ev.mup_pt[j],\n",
    "                           ev.mup_isTrg[j],\n",
    "                           ev.Kst_pt[j],\n",
    "                           ev.Kst_eta[j],\n",
    "                           ev.K_pt[j],\n",
    "                           ev.K_eta[j],\n",
    "                           ev.pi_pt[j],\n",
    "                           ev.pi_eta[j],\n",
    "                          ))\n",
    "    if N_acc > 0:\n",
    "        N_accepted_cand.append(N_acc)\n",
    "\n",
    "print len(output)\n",
    "dic = {i:N_accepted_cand.count(i) for i in range(1, np.max(N_accepted_cand)+1)}\n",
    "print dic\n",
    "\n",
    "import root_numpy as rtnp\n",
    "leafs_names = ['mass_mumupiK', 'B_pt', 'B_eta', 'Jpsi_pt', 'mum_pt', 'mum_eta', 'mum_isTrg', 'mup_eta', 'mup_pt', 'mup_isTrg', 'Kst_pt', 'Kst_eta', 'K_pt', 'K_eta', 'pi_pt', 'pi_eta']\n",
    "\n",
    "dtypes = []\n",
    "for n in leafs_names:\n",
    "    dtypes.append((n, np.float32))\n",
    "\n",
    "# dtypes = [('mass_mumupiK', np.float32), ('B_pt', np.float32), ('B_eta', np.float32)]\n",
    "a = np.array(output, dtype=dtypes)\n",
    "skimmed_tree = rtnp.array2tree(a)\n",
    "rtnp.array2root(a, '../data/cmsRD/skimmed/B2JpsiKst.root', treename='Tevts', mode='RECREATE')"
   ]
  },
  {
   "cell_type": "code",
   "execution_count": null,
   "metadata": {
    "ExecuteTime": {
     "end_time": "2019-10-28T23:35:19.960923Z",
     "start_time": "2019-10-28T23:35:19.930246Z"
    },
    "hidden": true
   },
   "outputs": [],
   "source": [
    "skimmed_file = rt.TFile('../data/cmsRD/skimmed/B2JpsiKst.root', 'READ')\n",
    "skimmed_tree = skimmed_file.Get('Tevts')\n",
    "skimmed_tree.Print()"
   ]
  },
  {
   "cell_type": "markdown",
   "metadata": {},
   "source": [
    "### Make sDataset"
   ]
  },
  {
   "cell_type": "code",
   "execution_count": null,
   "metadata": {
    "ExecuteTime": {
     "end_time": "2019-10-28T23:35:20.036717Z",
     "start_time": "2019-10-28T23:35:19.965420Z"
    }
   },
   "outputs": [],
   "source": [
    "v_B_pt = rt.RooRealVar('B_pt', 'p_{T}^{(B)}', 0, 500, 'GeV')\n",
    "v_B_eta = rt.RooRealVar('B_eta', '#eta^{(B)}', -3, 3, 'GeV')\n",
    "\n",
    "rt.RooAbsData.setDefaultStorageType(rt.RooAbsData.Tree)\n",
    "ds = rt.RooDataSet('ds', 'ds', skimmed_tree, rt.RooArgSet(mass, v_B_eta, v_B_pt))#, v_B_eta))"
   ]
  },
  {
   "cell_type": "code",
   "execution_count": null,
   "metadata": {
    "ExecuteTime": {
     "end_time": "2019-10-28T23:35:20.363122Z",
     "start_time": "2019-10-28T23:35:20.040699Z"
    }
   },
   "outputs": [],
   "source": [
    "sData = rt.RooStats.SPlot('sData', 'sData', ds, pdf_tot, rt.RooArgList(nsig, nbkg))\n",
    "sData.GetYieldFromSWeight('nsig_sw')"
   ]
  },
  {
   "cell_type": "code",
   "execution_count": null,
   "metadata": {
    "ExecuteTime": {
     "end_time": "2019-10-28T23:35:20.417897Z",
     "start_time": "2019-10-28T23:35:20.366923Z"
    }
   },
   "outputs": [],
   "source": [
    "f_sw = rt.TFile('../data/cmsRD/skimmed/B2JpsiKst_sW.root', 'RECREATE')\n",
    "treeRD_skimmed = ds.tree()\n",
    "treeRD_skimmed.Write()\n",
    "f_sw.Close()"
   ]
  },
  {
   "cell_type": "code",
   "execution_count": 12,
   "metadata": {
    "ExecuteTime": {
     "end_time": "2019-10-29T00:27:18.348974Z",
     "start_time": "2019-10-29T00:27:18.314182Z"
    }
   },
   "outputs": [
    {
     "name": "stdout",
     "output_type": "stream",
     "text": [
      "******************************************************************************\n",
      "*Tree    :merged    : merged                                                 *\n",
      "*Entries :    17471 : Total =         1024730 bytes  File  Size =     764113 *\n",
      "*        :          : Tree compression factor =   1.00                       *\n",
      "******************************************************************************\n",
      "*Br    0 :mass_mumupiK : mass_mumupiK/D                                      *\n",
      "*Entries :    17471 : Total  Size=     146736 bytes  All baskets in memory   *\n",
      "*Baskets :       34 : Basket Size=       4096 bytes  Compression=   1.00     *\n",
      "*............................................................................*\n",
      "*Br    1 :B_eta     : B_eta/D                                                *\n",
      "*Entries :    17471 : Total  Size=     146218 bytes  All baskets in memory   *\n",
      "*Baskets :       34 : Basket Size=       4096 bytes  Compression=   1.00     *\n",
      "*............................................................................*\n",
      "*Br    2 :B_pt      : B_pt/D                                                 *\n",
      "*Entries :    17471 : Total  Size=     146144 bytes  All baskets in memory   *\n",
      "*Baskets :       34 : Basket Size=       4096 bytes  Compression=   1.00     *\n",
      "*............................................................................*\n",
      "*Br    3 :nsig_sw   : nsig_sw/D                                              *\n",
      "*Entries :    17471 : Total  Size=     146366 bytes  All baskets in memory   *\n",
      "*Baskets :       34 : Basket Size=       4096 bytes  Compression=   1.00     *\n",
      "*............................................................................*\n",
      "*Br    4 :L_nsig    : L_nsig/D                                               *\n",
      "*Entries :    17471 : Total  Size=     146292 bytes  All baskets in memory   *\n",
      "*Baskets :       34 : Basket Size=       4096 bytes  Compression=   1.00     *\n",
      "*............................................................................*\n",
      "*Br    5 :nbkg_sw   : nbkg_sw/D                                              *\n",
      "*Entries :    17471 : Total  Size=     146366 bytes  All baskets in memory   *\n",
      "*Baskets :       34 : Basket Size=       4096 bytes  Compression=   1.00     *\n",
      "*............................................................................*\n",
      "*Br    6 :L_nbkg    : L_nbkg/D                                               *\n",
      "*Entries :    17471 : Total  Size=     146292 bytes  All baskets in memory   *\n",
      "*Baskets :       34 : Basket Size=       4096 bytes  Compression=   1.00     *\n",
      "*............................................................................*\n"
     ]
    }
   ],
   "source": [
    "f_sw = rt.TFile('../data/cmsRD/skimmed/B2JpsiKst_sW.root', 'READ')\n",
    "treeRD_skimmed = f_sw.Get('merged')\n",
    "treeRD_skimmed.Print()"
   ]
  },
  {
   "cell_type": "markdown",
   "metadata": {
    "heading_collapsed": true
   },
   "source": [
    "# Analyze MC"
   ]
  },
  {
   "cell_type": "code",
   "execution_count": null,
   "metadata": {
    "ExecuteTime": {
     "end_time": "2019-10-28T22:46:10.498748Z",
     "start_time": "2019-10-28T22:46:10.406550Z"
    },
    "hidden": true
   },
   "outputs": [],
   "source": [
    "h = create_TH1D(np.zeros(0), name='h',\n",
    "                title='',\n",
    "                axis_title=['m(#mu#mu#pi^{-}K^{+}) [GeV]', 'Events'],\n",
    "                binning=[30, 5.15, 5.4]\n",
    "               )\n",
    "treeMC.Project('h', 'mass_mumupiK', analysis_cuts_str)\n",
    "h.Sumw2()"
   ]
  },
  {
   "cell_type": "code",
   "execution_count": null,
   "metadata": {
    "ExecuteTime": {
     "end_time": "2019-10-28T22:46:10.499658Z",
     "start_time": "2019-10-28T22:44:06.555Z"
    },
    "hidden": true
   },
   "outputs": [],
   "source": [
    "N_tot = h.Integral(1, h.binning[0])\n",
    "print N_tot\n",
    "print h.Integral()"
   ]
  },
  {
   "cell_type": "code",
   "execution_count": null,
   "metadata": {
    "ExecuteTime": {
     "end_time": "2019-10-28T22:46:10.500760Z",
     "start_time": "2019-10-28T22:44:06.557Z"
    },
    "hidden": true
   },
   "outputs": [],
   "source": [
    "mass = rt.RooRealVar('mass_mumupiK', 'm_{#mu#mu#piK}', h.binning[1], h.binning[2], 'GeV')\n",
    "\n",
    "# mean = rt.RooRealVar('mean', 'm_{B}', m_B0, 3, 7, 'GeV')\n",
    "# sigma = rt.RooRealVar('sigma', '#sigma', 0.02, 0.00005, 0.1, 'GeV') \n",
    "# pdf_sig = rt.RooGaussian('gaus','sig pdf', mass, mean, sigma)\n",
    "\n",
    "# mean = rt.RooRealVar('mean', 'm_{B}', m_B0, 3, 7, 'GeV')\n",
    "# sigma = rt.RooRealVar('sigma', '#sigma', 0.03, 0.00005, 0.1, 'GeV')\n",
    "# alpha = rt.RooRealVar('alpha', '#alpha', 2, -5, 5, 'GeV')\n",
    "# nCB = rt.RooRealVar('nCB', 'n_{CB}', 2, -10, 10, 'GeV')\n",
    "# pdf_sig = rt.RooCBShape('gaus','sig pdf', mass, mean, sigma, alpha, nCB)\n",
    "\n",
    "mean = rt.RooRealVar('mean', '#mu', m_B0, 3, 7, 'GeV')\n",
    "sigma = rt.RooRealVar('sigma', '#sigma', 0.03, 0.00005, 0.1, 'GeV')\n",
    "pAsym = rt.RooRealVar('pAsym', '#alpha', 0, -1, 1)\n",
    "rho1 = rt.RooRealVar('rho1', '#rho_{1}', 0, -10, 0)\n",
    "rho2 = rt.RooRealVar('rho2', '#rho_{2}', 0.5, 0, 10)\n",
    "pdf_sig = rt.RooBukinPdf('bukin','sig pdf', mass, mean, sigma, pAsym, rho1, rho2)\n",
    "\n",
    "\n",
    "nsig = rt.RooRealVar('nsig', 'N_{S}', 0.9*N_tot, 0, 100*N_tot)\n",
    "pdf_sig_ext = rt.RooExtendPdf('esig', 'esig', pdf_sig, nsig)"
   ]
  },
  {
   "cell_type": "code",
   "execution_count": null,
   "metadata": {
    "ExecuteTime": {
     "end_time": "2019-10-28T22:46:10.502109Z",
     "start_time": "2019-10-28T22:44:06.558Z"
    },
    "hidden": true
   },
   "outputs": [],
   "source": [
    "data = rt.RooDataHist('d', 'data', rt.RooArgList(mass), h)\n",
    "\n",
    "pdf_tot = pdf_sig_ext\n",
    "fr = pdf_tot.fitTo(data, rf.PrintLevel(-1), rf.Save())\n",
    "\n",
    "dof = h.binning[0]-fr.floatParsFinal().getSize()\n",
    "chi2 = rt.RooChi2Var(\"chi2\", 'chi2', pdf_tot, data)\n",
    "pval = rt.ROOT.Math.chisquared_cdf_c(chi2.getVal(), dof)\n",
    "print 'chi2: {:.1f}/{:.0f} {:.3f}'.format(chi2.getVal(), dof, pval)"
   ]
  },
  {
   "cell_type": "code",
   "execution_count": null,
   "metadata": {
    "ExecuteTime": {
     "end_time": "2019-10-28T22:46:10.503320Z",
     "start_time": "2019-10-28T22:44:06.560Z"
    },
    "hidden": true
   },
   "outputs": [],
   "source": [
    "frame = mass.frame(rf.Title(\"\"))\n",
    "data.plotOn(frame, rf.MarkerStyle(1), rf.DrawOption('E1'), rf.MarkerColor(h.GetLineColor()), rf.LineColor(h.GetLineColor()))\n",
    "pdf_tot.plotOn(frame, rf.LineColor(h.GetLineColor()), rf.LineWidth(2))\n",
    "\n",
    "pTxt = rt.TPaveText(h.GetBinCenter(1), 0.2*h.GetMaximum(), h.GetBinCenter(int(0.35*h.GetNbinsX())), h.GetMaximum())\n",
    "pTxt.SetBorderSize(0)\n",
    "pTxt.SetFillStyle(0)\n",
    "pTxt.SetTextAlign(11)\n",
    "pTxt.AddText('#chi^{{2}}: {:.1f}/{:.0f} ({:.2f})'.format(chi2.getVal(), dof, pval))\n",
    "pTxt.AddText('#mu = {:.1f} +/- {:.1f} MeV'.format(1e3*mean.getVal(), 1e3*mean.getError()))\n",
    "pTxt.AddText('#sigma = {:.1f} +/- {:.1f} MeV'.format(1e3*sigma.getVal(), 1e3*sigma.getError()))\n",
    "pTxt.AddText('#alpha = {:.3f} +/- {:.3f}'.format(pAsym.getVal(), pAsym.getError()))\n",
    "pTxt.AddText('#rho_{{1}} = {:.3f} +/- {:.3f}'.format(rho1.getVal(), rho1.getError()))\n",
    "pTxt.AddText('#rho_{{2}} = {:.3f} +/- {:.3f}'.format(rho2.getVal(), rho2.getError()))\n",
    "\n",
    "CMS_lumi.extraText = '     Simulation Preliminary'\n",
    "CMS_lumi.integrated_lumi = ''\n",
    "c = drawOnCMSCanvas(CMS_lumi, frame)\n",
    "cl.DrawLine(m_B0, 0, m_B0, h.GetMaximum());\n",
    "pTxt.Draw()"
   ]
  },
  {
   "cell_type": "markdown",
   "metadata": {},
   "source": [
    "# Compare"
   ]
  },
  {
   "cell_type": "markdown",
   "metadata": {
    "heading_collapsed": true
   },
   "source": [
    "### Closure variables"
   ]
  },
  {
   "cell_type": "code",
   "execution_count": null,
   "metadata": {
    "ExecuteTime": {
     "end_time": "2019-10-28T22:46:22.034877Z",
     "start_time": "2019-10-28T22:46:20.136689Z"
    },
    "hidden": true
   },
   "outputs": [],
   "source": [
    "b=[4, -0.5, 3.5]\n",
    "hRD = create_TH1D(np.zeros(0), name='hRD',\n",
    "                title='',\n",
    "                axis_title=['J/#psi muons matched with trigger obj', '1/#sigma d#sigma/dN'],\n",
    "                binning=b\n",
    "               )\n",
    "skimmed_tree.Project('hRD', 'mum_isTrg + mup_isTrg')\n",
    "hRD.Sumw2()\n",
    "hRD.Scale(1./hRD.Integral())\n",
    "hRD.SetMarkerStyle(15)\n",
    "\n",
    "colors = {'hard':rt.kRed, 'soft':rt.kBlue}\n",
    "for k in ['hard', 'soft']:\n",
    "    h = create_TH1D(np.zeros(0), name='hMC_'+k, \n",
    "                    title='',\n",
    "                    binning=hRD.binning)\n",
    "    globals()['treeMC_'+k].Project('hMC_'+k, 'mum_isTrg + mup_isTrg', analysis_cuts_str)\n",
    "    h.Sumw2()\n",
    "    h.Scale(1./h.Integral())\n",
    "    h.SetLineColor(colors[k])\n",
    "    globals()['hMC_'+k] = h\n",
    "    \n",
    "leg = rt.TLegend(0.7, 0.7, 0.95,0.9)\n",
    "leg.SetBorderSize(0)\n",
    "leg.AddEntry(hRD, 'Data', 'lep')\n",
    "leg.AddEntry(hMC_hard, 'Pythia Hard b#bar{b}', 'le')\n",
    "leg.AddEntry(hMC_soft, 'Pythia Soft QCD', 'le')\n",
    "\n",
    "CMS_lumi.extraText = '     Preliminary'\n",
    "CMS_lumi.integrated_lumi = lumi_tot\n",
    "c = drawOnCMSCanvas(CMS_lumi, [hRD, hMC_hard, hMC_soft], 'same')\n",
    "c.SetLogy()\n",
    "leg.Draw()"
   ]
  },
  {
   "cell_type": "code",
   "execution_count": null,
   "metadata": {
    "ExecuteTime": {
     "end_time": "2019-10-28T22:55:30.313909Z",
     "start_time": "2019-10-28T22:55:28.498116Z"
    },
    "hidden": true
   },
   "outputs": [],
   "source": [
    "b=[30, 0, 50]\n",
    "hRD = create_TH1D(np.zeros(0), name='hRD',\n",
    "                title='data',\n",
    "                axis_title=['Leading muon p_{T} [GeV]', '1/#sigma d#sigma/dN'],\n",
    "                binning=b,\n",
    "                opt='overflow'\n",
    "               )\n",
    "skimmed_tree.Project('hRD', 'max(mum_pt, mup_pt)', 'mass_mumupiK > 5.18 && mass_mumupiK < 5.4')\n",
    "hRD.Sumw2()\n",
    "hRD.Scale(1./hRD.Integral())\n",
    "hRD.SetMarkerStyle(15)\n",
    "\n",
    "colors = {'hard':rt.kRed, 'soft':rt.kBlue}\n",
    "for k in ['hard', 'soft']:\n",
    "    h = create_TH1D(np.zeros(0), name='hMC_'+k, \n",
    "                    title='',\n",
    "                    opt='overflow',\n",
    "                    binning=hRD.binning)\n",
    "    globals()['treeMC_'+k].Project('hMC_'+k, 'max(mum_pt, mup_pt)', analysis_cuts_str)\n",
    "    h.Sumw2()\n",
    "    h.Scale(1./h.Integral())\n",
    "    h.SetLineColor(colors[k])\n",
    "    globals()['hMC_'+k] = h\n",
    "hMC_hard.SetTitle('Pythia Hard b#bar{b}')\n",
    "hMC_soft.SetTitle('Pythia Soft QCD')\n",
    "\n",
    "CMS_lumi.extraText = '      Preliminary'\n",
    "c = make_ratio_plot([hRD, hMC_hard, hMC_soft], ratio_bounds=[0.2, 15], draw_opt='E1')\n",
    "CMS_lumi.CMS_lumi(c, -1, 0)\n",
    "c.pad1.SetTopMargin(0.07)\n",
    "c.pad1.SetRightMargin(0.035)\n",
    "c.pad2.SetRightMargin(0.035)\n",
    "c.pad2.SetLogy()\n",
    "c.leg.SetY2(0.9)\n",
    "c.leg.SetY1(0.6)\n",
    "c.leg.SetX1(0.6)\n",
    "c.Draw()"
   ]
  },
  {
   "cell_type": "code",
   "execution_count": null,
   "metadata": {
    "ExecuteTime": {
     "end_time": "2019-10-28T23:09:06.247231Z",
     "start_time": "2019-10-28T23:09:04.294393Z"
    },
    "hidden": true
   },
   "outputs": [],
   "source": [
    "add_cut = ' && !(mum_pt>mup_pt?mum_isTrg:mup_isTrg)'\n",
    "b=[30, 0, 50]\n",
    "hRD = create_TH1D(np.zeros(0), name='hRD',\n",
    "                title='data',\n",
    "                axis_title=['Leading muon p_{T} [GeV]', '1/#sigma d#sigma/dN'],\n",
    "                binning=b,\n",
    "                opt='overflow'\n",
    "               )\n",
    "skimmed_tree.Project('hRD', 'max(mum_pt, mup_pt)', 'mass_mumupiK > 5.18 && mass_mumupiK < 5.4 ' + add_cut)\n",
    "hRD.Sumw2()\n",
    "hRD.Scale(1./hRD.Integral())\n",
    "hRD.SetMarkerStyle(15)\n",
    "\n",
    "colors = {'hard':rt.kRed, 'soft':rt.kBlue}\n",
    "for k in ['hard', 'soft']:\n",
    "    h = create_TH1D(np.zeros(0), name='hMC_'+k, \n",
    "                    title='',\n",
    "                    opt='overflow',\n",
    "                    binning=hRD.binning)\n",
    "    globals()['treeMC_'+k].Project('hMC_'+k, 'max(mum_pt, mup_pt)', analysis_cuts_str + add_cut)\n",
    "    h.Sumw2()\n",
    "    h.Scale(1./h.Integral())\n",
    "    h.SetLineColor(colors[k])\n",
    "    globals()['hMC_'+k] = h\n",
    "hMC_hard.SetTitle('Pythia Hard b#bar{b}')\n",
    "hMC_soft.SetTitle('Pythia Soft QCD')\n",
    "\n",
    "CMS_lumi.extraText = '      Preliminary'\n",
    "c = make_ratio_plot([hRD, hMC_hard, hMC_soft], ratio_bounds=[0.2, 15], draw_opt='E1')\n",
    "CMS_lumi.CMS_lumi(c, -1, 0)\n",
    "c.pad1.SetTopMargin(0.07)\n",
    "c.pad1.SetRightMargin(0.035)\n",
    "c.pad2.SetRightMargin(0.035)\n",
    "c.pad2.SetLogy()\n",
    "c.leg.SetY2(0.9)\n",
    "c.leg.SetY1(0.6)\n",
    "c.leg.SetX1(0.6)\n",
    "c.Draw()"
   ]
  },
  {
   "cell_type": "code",
   "execution_count": null,
   "metadata": {
    "ExecuteTime": {
     "end_time": "2019-10-28T23:02:36.686883Z",
     "start_time": "2019-10-28T23:02:36.641276Z"
    },
    "hidden": true
   },
   "outputs": [],
   "source": [
    "b=[30, 0, 50, 30, 0, 2.5]\n",
    "hRD = create_TH2D(np.zeros((0, 2)), name='hRD',\n",
    "                title='data',\n",
    "                axis_title=['Leading muon p_{T} [GeV]', 'Leading muon |#eta|', '1/#sigma d#sigma/dN'],\n",
    "                binning=b\n",
    "               )\n",
    "skimmed_tree.Project('hRD', 'abs(mum_pt>mup_pt?mum_eta:mup_eta) : max(mum_pt, mup_pt)','mass_mumupiK > 5.18 && mass_mumupiK < 5.4')\n",
    "c = rt.TCanvas('c', 'c', 800,600)\n",
    "hRD.Draw('colz')\n",
    "c.Draw()"
   ]
  },
  {
   "cell_type": "code",
   "execution_count": null,
   "metadata": {
    "ExecuteTime": {
     "end_time": "2019-10-28T23:04:23.107378Z",
     "start_time": "2019-10-28T23:04:22.610799Z"
    },
    "hidden": true
   },
   "outputs": [],
   "source": [
    "b=[30, 0, 50, 30, 0, 2.5]\n",
    "hRD = create_TH2D(np.zeros((0, 2)), name='hRD',\n",
    "                title='data',\n",
    "                axis_title=['Leading muon p_{T} [GeV]', 'Leading muon |#eta|', '1/#sigma d#sigma/dN'],\n",
    "                binning=b\n",
    "               )\n",
    "treeMC_hard.Project('hRD', 'abs(mum_pt>mup_pt?mum_eta:mup_eta) : max(mum_pt, mup_pt)','mass_mumupiK > 5.18 && mass_mumupiK < 5.4')\n",
    "c = rt.TCanvas('c', 'c', 800,600)\n",
    "hRD.Draw('colz')\n",
    "c.Draw()"
   ]
  },
  {
   "cell_type": "code",
   "execution_count": null,
   "metadata": {
    "ExecuteTime": {
     "end_time": "2019-10-28T22:46:25.747887Z",
     "start_time": "2019-10-28T22:46:23.938513Z"
    },
    "hidden": true
   },
   "outputs": [],
   "source": [
    "b=[30, 0, 50]\n",
    "hRD = create_TH1D(np.zeros(0), name='hRD',\n",
    "                title='data',\n",
    "                axis_title=['Sub-leading muon p_{T} [GeV]', '1/#sigma d#sigma/dN'],\n",
    "                binning=b,\n",
    "                opt='overflow'\n",
    "               )\n",
    "skimmed_tree.Project('hRD', 'min(mum_pt, mup_pt)', 'mass_mumupiK > 5.18 && mass_mumupiK < 5.4')\n",
    "hRD.Sumw2()\n",
    "hRD.Scale(1./hRD.Integral())\n",
    "hRD.SetMarkerStyle(15)\n",
    "\n",
    "colors = {'hard':rt.kRed, 'soft':rt.kBlue}\n",
    "for k in ['hard', 'soft']:\n",
    "    h = create_TH1D(np.zeros(0), name='hMC_'+k, \n",
    "                    title='',\n",
    "                    opt='overflow',\n",
    "                    binning=hRD.binning)\n",
    "    globals()['treeMC_'+k].Project('hMC_'+k, 'min(mum_pt, mup_pt)', analysis_cuts_str)\n",
    "    h.Sumw2()\n",
    "    h.Scale(1./h.Integral())\n",
    "    h.SetLineColor(colors[k])\n",
    "    globals()['hMC_'+k] = h\n",
    "hMC_hard.SetTitle('Pythia Hard b#bar{b}')\n",
    "hMC_soft.SetTitle('Pythia Soft QCD')\n",
    "\n",
    "CMS_lumi.extraText = '      Preliminary'\n",
    "c = make_ratio_plot([hRD, hMC_hard, hMC_soft], ratio_bounds=[0.2, 15], draw_opt='E1')\n",
    "CMS_lumi.CMS_lumi(c, -1, 0)\n",
    "c.pad1.SetTopMargin(0.07)\n",
    "c.pad1.SetRightMargin(0.035)\n",
    "c.pad2.SetRightMargin(0.035)\n",
    "c.pad2.SetLogy()\n",
    "c.leg.SetY2(0.9)\n",
    "c.leg.SetY1(0.6)\n",
    "c.leg.SetX1(0.6)\n",
    "c.Draw()"
   ]
  },
  {
   "cell_type": "code",
   "execution_count": null,
   "metadata": {
    "ExecuteTime": {
     "end_time": "2019-10-28T22:46:27.567487Z",
     "start_time": "2019-10-28T22:46:25.752002Z"
    },
    "hidden": true
   },
   "outputs": [],
   "source": [
    "b=[30, 0, 50]\n",
    "hRD = create_TH1D(np.zeros(0), name='hRD',\n",
    "                title='data',\n",
    "                axis_title=['J/#psi p_{T} [GeV]', '1/#sigma d#sigma/dN'],\n",
    "                binning=b,\n",
    "                opt='overflow'\n",
    "               )\n",
    "skimmed_tree.Project('hRD', 'Jpsi_pt', 'mass_mumupiK > 5.18 && mass_mumupiK < 5.4')\n",
    "hRD.Sumw2()\n",
    "hRD.Scale(1./hRD.Integral())\n",
    "hRD.SetMarkerStyle(15)\n",
    "\n",
    "colors = {'hard':rt.kRed, 'soft':rt.kBlue}\n",
    "for k in ['hard', 'soft']:\n",
    "    h = create_TH1D(np.zeros(0), name='hMC_'+k, \n",
    "                    title='',\n",
    "                    opt='overflow',\n",
    "                    binning=hRD.binning)\n",
    "    globals()['treeMC_'+k].Project('hMC_'+k, 'Jpsi_pt', analysis_cuts_str)\n",
    "    h.Sumw2()\n",
    "    h.Scale(1./h.Integral())\n",
    "    h.SetLineColor(colors[k])\n",
    "    globals()['hMC_'+k] = h\n",
    "hMC_hard.SetTitle('Pythia Hard b#bar{b}')\n",
    "hMC_soft.SetTitle('Pythia Soft QCD')\n",
    "\n",
    "CMS_lumi.extraText = '      Preliminary'\n",
    "c = make_ratio_plot([hRD, hMC_hard, hMC_soft], ratio_bounds=[0.2, 15], draw_opt='E1')\n",
    "CMS_lumi.CMS_lumi(c, -1, 0)\n",
    "c.pad1.SetTopMargin(0.07)\n",
    "c.pad1.SetRightMargin(0.035)\n",
    "c.pad2.SetRightMargin(0.035)\n",
    "c.pad2.SetLogy()\n",
    "c.leg.SetY2(0.9)\n",
    "c.leg.SetY1(0.6)\n",
    "c.leg.SetX1(0.6)\n",
    "c.Draw()"
   ]
  },
  {
   "cell_type": "code",
   "execution_count": null,
   "metadata": {
    "ExecuteTime": {
     "end_time": "2019-10-28T22:46:29.406986Z",
     "start_time": "2019-10-28T22:46:27.571760Z"
    },
    "hidden": true
   },
   "outputs": [],
   "source": [
    "b=[30, 0, 50]\n",
    "hRD = create_TH1D(np.zeros(0), name='hRD',\n",
    "                title='data',\n",
    "                axis_title=['K* p_{T} [GeV]', '1/#sigma d#sigma/dN'],\n",
    "                binning=b,\n",
    "                opt='overflow'\n",
    "               )\n",
    "skimmed_tree.Project('hRD', 'Kst_pt', 'mass_mumupiK > 5.18 && mass_mumupiK < 5.4')\n",
    "hRD.Sumw2()\n",
    "hRD.Scale(1./hRD.Integral())\n",
    "hRD.SetMarkerStyle(15)\n",
    "\n",
    "colors = {'hard':rt.kRed, 'soft':rt.kBlue}\n",
    "for k in ['hard', 'soft']:\n",
    "    h = create_TH1D(np.zeros(0), name='hMC_'+k, \n",
    "                    title='',\n",
    "                    opt='overflow',\n",
    "                    binning=hRD.binning)\n",
    "    globals()['treeMC_'+k].Project('hMC_'+k, 'Kst_pt', analysis_cuts_str)\n",
    "    h.Sumw2()\n",
    "    h.Scale(1./h.Integral())\n",
    "    h.SetLineColor(colors[k])\n",
    "    globals()['hMC_'+k] = h\n",
    "hMC_hard.SetTitle('Pythia Hard b#bar{b}')\n",
    "hMC_soft.SetTitle('Pythia Soft QCD')\n",
    "\n",
    "CMS_lumi.extraText = '      Preliminary'\n",
    "c = make_ratio_plot([hRD, hMC_hard, hMC_soft], ratio_bounds=[0.2, 15], draw_opt='E1')\n",
    "CMS_lumi.CMS_lumi(c, -1, 0)\n",
    "c.pad1.SetTopMargin(0.07)\n",
    "c.pad1.SetRightMargin(0.035)\n",
    "c.pad2.SetRightMargin(0.035)\n",
    "c.pad2.SetLogy()\n",
    "c.leg.SetY2(0.9)\n",
    "c.leg.SetY1(0.6)\n",
    "c.leg.SetX1(0.6)\n",
    "c.Draw()"
   ]
  },
  {
   "cell_type": "code",
   "execution_count": null,
   "metadata": {
    "ExecuteTime": {
     "end_time": "2019-10-28T22:46:31.189753Z",
     "start_time": "2019-10-28T22:46:29.411447Z"
    },
    "hidden": true
   },
   "outputs": [],
   "source": [
    "b=[30, 5.15, 5.4]\n",
    "hRD = create_TH1D(np.zeros(0), name='hRD',\n",
    "                title='',\n",
    "                axis_title=['m(#mu#mu#pi^{-}K^{+}) [GeV]', '1/#sigma d#sigma/dm / '+'({:.2f} GeV)'.format((b[2]-b[1])/b[0])],\n",
    "                binning=b\n",
    "               )\n",
    "treeRD_skimmed.Project('hRD', 'mass_mumupiK', 'L_nsig')\n",
    "hRD.Sumw2()\n",
    "hRD.Scale(1./hRD.Integral())\n",
    "hRD.SetMarkerStyle(15)\n",
    "\n",
    "colors = {'hard':rt.kRed, 'soft':rt.kBlue}\n",
    "for k in ['hard', 'soft']:\n",
    "    h = create_TH1D(np.zeros(0), name='hMC_'+k, \n",
    "                    title='',\n",
    "                    binning=hRD.binning)\n",
    "    globals()['treeMC_'+k].Project('hMC_'+k, 'mass_mumupiK', analysis_cuts_str)\n",
    "    h.Sumw2()\n",
    "    h.Scale(1./h.Integral())\n",
    "    h.SetLineColor(colors[k])\n",
    "    globals()['hMC_'+k] = h\n",
    "    \n",
    "leg = rt.TLegend(0.7, 0.7, 0.95,0.9)\n",
    "leg.SetBorderSize(0)\n",
    "leg.AddEntry(hRD, 'Data (bkg subtracted)', 'lep')\n",
    "leg.AddEntry(hMC_hard, 'Pythia Hard b#bar{b}', 'le')\n",
    "leg.AddEntry(hMC_soft, 'Pythia Soft QCD', 'le')\n",
    "\n",
    "CMS_lumi.extraText = '     Preliminary'\n",
    "CMS_lumi.integrated_lumi = lumi_tot\n",
    "c = drawOnCMSCanvas(CMS_lumi, [hRD, hMC_hard, hMC_soft], 'same')\n",
    "leg.Draw()"
   ]
  },
  {
   "cell_type": "markdown",
   "metadata": {},
   "source": [
    "### The true B spectrum"
   ]
  },
  {
   "cell_type": "code",
   "execution_count": 13,
   "metadata": {
    "ExecuteTime": {
     "end_time": "2019-10-29T00:27:42.400384Z",
     "start_time": "2019-10-29T00:27:40.194529Z"
    }
   },
   "outputs": [
    {
     "data": {
      "text/plain": [
       "<ROOT.TLegendEntry object (\"TLegendEntry\") at 0x7fa0b00dc170>"
      ]
     },
     "execution_count": 13,
     "metadata": {},
     "output_type": "execute_result"
    },
    {
     "data": {
      "image/png": "[encoded data removed]",
      "text/plain": [
       "<IPython.core.display.Image object>"
      ]
     },
     "metadata": {},
     "output_type": "display_data"
    }
   ],
   "source": [
    "b = [30, 9, 70.]\n",
    "hRD = create_TH1D(np.zeros(0), name='hRD',\n",
    "                title='data_{sW}',\n",
    "                axis_title=['B_{0} p_{T} (reco) [GeV]', \n",
    "                            '1/#sigma d#sigma/dp_{T} / '+'({:.2f} GeV)'.format((b[2]-b[1])/b[0])],\n",
    "                binning=b,\n",
    "                opt='overflow+underflow'\n",
    "               )\n",
    "treeRD_skimmed.Project('hRD', 'B_pt', 'nsig_sw')\n",
    "hRD.Sumw2()\n",
    "hRD.Scale(1./hRD.Integral())\n",
    "hRD.SetMarkerStyle(15)\n",
    "\n",
    "hRD_nosW = create_TH1D(np.zeros(0), name='hRD_nosW',\n",
    "                title='data_{cut}', \n",
    "                axis_title=['B_{0} p_{T} (reco) [GeV]', \n",
    "                            '1/#sigma d#sigma/dp_{T} / '+'({:.2f} GeV)'.format((b[2]-b[1])/b[0])],\n",
    "                binning=b,\n",
    "                opt='overflow+underflow'\n",
    "               )\n",
    "treeRD_skimmed.Project('hRD_nosW', 'B_pt', 'mass_mumupiK > 5.18 && mass_mumupiK < 5.4')\n",
    "hRD_nosW.Sumw2()\n",
    "hRD_nosW.Scale(1./hRD_nosW.Integral())\n",
    "hRD_nosW.SetMarkerStyle(15)\n",
    "hRD_nosW.SetLineColor(rt.kMagenta)\n",
    "hRD_nosW.SetMarkerColor(rt.kMagenta)\n",
    "\n",
    "colors = {'hard':rt.kRed, 'soft':rt.kBlue}\n",
    "for k in ['hard', 'soft']:\n",
    "    h = create_TH1D(np.zeros(0), name='hMC_'+k, binning=hRD.binning, opt='overflow+underflow')\n",
    "    globals()['treeMC_'+k].Project('hMC_'+k, 'B_mumupiK_pt', analysis_cuts_str)\n",
    "    h.Sumw2()\n",
    "    h.Scale(1./h.Integral())\n",
    "    h.SetLineColor(colors[k])\n",
    "    globals()['hMC_'+k] = h\n",
    "hMC_hard.SetTitle('Pythia Hard b#bar{b}')\n",
    "hMC_soft.SetTitle('Pythia Soft QCD')\n",
    "\n",
    "CMS_lumi.extraText = '      Preliminary'\n",
    "c = make_ratio_plot([hRD_nosW, hRD, hMC_hard, hMC_soft], ratio_bounds=[0.2, 15], draw_opt='E1')\n",
    "CMS_lumi.CMS_lumi(c, -1, 0)\n",
    "c.pad1.SetTopMargin(0.07)\n",
    "c.pad1.SetRightMargin(0.035)\n",
    "c.pad2.SetRightMargin(0.035)\n",
    "c.pad2.SetLogy()\n",
    "c.leg.SetY2(0.9)\n",
    "c.leg.SetY1(0.6)\n",
    "c.leg.SetX1(0.6)\n",
    "c.Draw()\n",
    "\n",
    "c.pad1.cd()\n",
    "arr = np.loadtxt('../data/cmsRD/CMS-AN2014-129_B0_pT_datathief.txt', delimiter=',')\n",
    "integral = np.trapz(arr[:,1], arr[:,0])\n",
    "arr[:, 1] *= float((b[2]-b[1])/b[0])/integral\n",
    "\n",
    "gr_AN14_129 = rt.TGraph(arr.shape[0])\n",
    "for i, (x, y) in enumerate(zip(arr[:,0], arr[:,1])):\n",
    "    gr_AN14_129.SetPoint(i, x, y)\n",
    "gr_AN14_129.SetMarkerColor(8)\n",
    "gr_AN14_129.SetMarkerStyle(20)\n",
    "gr_AN14_129.Draw('P')\n",
    "c.leg.AddEntry(gr_AN14_129, 'AN2014-129', 'p')"
   ]
  },
  {
   "cell_type": "code",
   "execution_count": 65,
   "metadata": {
    "ExecuteTime": {
     "end_time": "2019-10-29T01:15:55.328108Z",
     "start_time": "2019-10-29T01:15:55.294314Z"
    }
   },
   "outputs": [],
   "source": [
    "dic = {'pt':[], 'w':[], 'w_err':[], 'wUp':[], 'wDown':[]}\n",
    "\n",
    "def f_arb(x, value_at_beg):\n",
    "    center = 0.5*(hRD.binning[2] + hRD.binning[1])\n",
    "    k = (value_at_beg-1)/(hRD.binning[1] -  center)\n",
    "    return k*(x - center)+1\n",
    "\n",
    "fout = open('../data/calibration/B02JPsiKst_pt.txt', 'w')\n",
    "fout.write('#'+'\\t'.join(['pt','w', 'w_err', 'wUp', 'wDown'])+'\\n')\n",
    "for ib in range(1, hRD.GetNbinsX()+1):\n",
    "    n = max(0, hRD.GetBinContent(ib))\n",
    "    d = hMC_hard.GetBinContent(ib)\n",
    "    en = 0.\n",
    "    ed = 0.\n",
    "    if n > 0: en = hRD.GetBinError(ib)/n\n",
    "    if d > 0: ed = hMC_hard.GetBinError(ib)/d\n",
    "    r = n/d\n",
    "    dic['w'].append(r)\n",
    "    if en != 0 and ed != 0:\n",
    "        dr = r*np.hypot(en, ed)\n",
    "    elif en == 0:\n",
    "        dr = 0.5\n",
    "    dic['w_err'].append(dr)\n",
    "    pt = hRD.GetBinCenter(ib)\n",
    "    dic['pt'].append(pt)\n",
    "    \n",
    "    dic['wUp'].append(r * f_arb(pt, 0.))\n",
    "    dic['wDown'].append(r * f_arb(pt, 2.))\n",
    "    \n",
    "    fout.write('\\t'.join(map(lambda x: '{:.3f}'.format(x), [pt, r, dr, r * f_arb(pt, 0.), r * f_arb(pt, 2.)]))+'\\n')\n",
    "fout.close()"
   ]
  },
  {
   "cell_type": "code",
   "execution_count": 50,
   "metadata": {
    "ExecuteTime": {
     "end_time": "2019-10-29T00:51:16.331187Z",
     "start_time": "2019-10-29T00:51:16.100817Z"
    }
   },
   "outputs": [
    {
     "data": {
      "text/plain": [
       "Text(0,0.5,u'MC weight')"
      ]
     },
     "execution_count": 50,
     "metadata": {},
     "output_type": "execute_result"
    },
    {
     "data": {
      "image/png": "[encoded data removed]",
      "text/plain": [
       "<matplotlib.figure.Figure at 0x12163c910>"
      ]
     },
     "metadata": {
      "needs_background": "light"
     },
     "output_type": "display_data"
    }
   ],
   "source": [
    "f = plt.figure(figsize=(8,6))\n",
    "plt.errorbar(dic['pt'], dic['w'], yerr=dic['w_err'], fmt='.', label='Ratio')\n",
    "plt.plot(dic['pt'], dic['wUp'], '.--', label='Up')\n",
    "plt.plot(dic['pt'], dic['wDown'], '.--', label='Down')\n",
    "plt.legend(loc='best')\n",
    "plt.xlabel('$B_0\\ p_T$ [GeV]')\n",
    "plt.ylabel('MC weight')"
   ]
  },
  {
   "cell_type": "code",
   "execution_count": 61,
   "metadata": {
    "ExecuteTime": {
     "end_time": "2019-10-29T01:08:05.884220Z",
     "start_time": "2019-10-29T01:08:05.827032Z"
    }
   },
   "outputs": [
    {
     "data": {
      "image/png": "[encoded data removed]",
      "text/plain": [
       "<IPython.core.display.Image object>"
      ]
     },
     "metadata": {},
     "output_type": "display_data"
    }
   ],
   "source": [
    "h_var = {}\n",
    "colors = [5,6,8]\n",
    "for k in ['central', 'up', 'down']:\n",
    "    h_var[k] = hMC_hard.Clone('hMC_hard_'+k)\n",
    "    h_var[k].SetTitle(k)\n",
    "    h_var[k].SetLineColor(colors[0])\n",
    "    colors.pop(0)\n",
    "    \n",
    "for ib in range(1, hRD.binning[0]+1):\n",
    "    x = hRD.GetBinCenter(ib)\n",
    "    y = hMC_hard.GetBinContent(ib)\n",
    "    h_var['central'].SetBinContent(ib, y*dic['w'][ib-1])\n",
    "    h_var['up'].SetBinContent(ib, y*dic['wUp'][ib-1])\n",
    "    h_var['down'].SetBinContent(ib, y*dic['wDown'][ib-1])    \n",
    "\n",
    "for h in h_var.values():\n",
    "    h.Scale(1./h.Integral())\n",
    "    \n",
    "h_list = [hRD, hMC_hard] + h_var.values()\n",
    "leg = rt.TLegend(0.7, 0.7, 0.95,0.9)\n",
    "leg.SetBorderSize(0)\n",
    "for h in h_list:\n",
    "    leg.AddEntry(h, h.GetTitle(), 'lep')\n",
    "\n",
    "h_list[0].GetYaxis().SetRangeUser(0, 0.13)\n",
    "c = drawOnCMSCanvas(CMS_lumi, h_list, 'same')\n",
    "leg.Draw()"
   ]
  },
  {
   "cell_type": "code",
   "execution_count": null,
   "metadata": {
    "ExecuteTime": {
     "end_time": "2019-10-29T00:26:14.491978Z",
     "start_time": "2019-10-29T00:26:14.460667Z"
    }
   },
   "outputs": [],
   "source": [
    "gr = rt.TGraphErrors()\n",
    "for ib in range(1, hRD.GetNbinsX()):\n",
    "    n = max(0, hRD.GetBinContent(ib))\n",
    "    d = hMC_hard.GetBinContent(ib)\n",
    "    en = 0.\n",
    "    ed = 0.\n",
    "    if n > 0: en = hRD.GetBinError(ib)/n\n",
    "    if d > 0: ed = hMC_hard.GetBinError(ib)/d\n",
    "    r = n/d\n",
    "    if en != 0 and ed != 0:\n",
    "        dr = r*np.hypot(en, ed)\n",
    "    elif en == 0:\n",
    "        dr = 0.5\n",
    "    gr.SetPoint(ib-1, hRD.GetBinCenter(ib), r)\n",
    "    gr.SetPointError(ib-1, 0.5*hRD.GetBinWidth(ib), dr)"
   ]
  },
  {
   "cell_type": "code",
   "execution_count": null,
   "metadata": {
    "ExecuteTime": {
     "start_time": "2019-10-29T00:26:18.274Z"
    }
   },
   "outputs": [],
   "source": [
    "# f_fit = rt.TF1('f_fit', '(x>[0]) ? [1]+[2]*x+[3]*x*x : 0', 0, 70)\n",
    "# # f_fit.FixParameter(0,10)\n",
    "# f_fit.SetParameters(11, -1, 0.1, 0.001)\n",
    "\n",
    "f_fit = rt.TF1('f_fit', '[0]+[1]*atan(*x+[2])', 10, 70)\n",
    "\n",
    "\n",
    "gr.Fit(f_fit, 'MS')\n",
    "\n",
    "c = rt.TCanvas('c', 'c', 800, 600)\n",
    "gr.Draw('AP')\n",
    "c.Draw()"
   ]
  },
  {
   "cell_type": "code",
   "execution_count": null,
   "metadata": {},
   "outputs": [],
   "source": []
  }
 ],
 "metadata": {
  "kernelspec": {
   "display_name": "Python 2",
   "language": "python",
   "name": "python2"
  },
  "language_info": {
   "codemirror_mode": {
    "name": "ipython",
    "version": 2
   },
   "file_extension": ".py",
   "mimetype": "text/x-python",
   "name": "python",
   "nbconvert_exporter": "python",
   "pygments_lexer": "ipython2",
   "version": "2.7.14"
  }
 },
 "nbformat": 4,
 "nbformat_minor": 2
}
