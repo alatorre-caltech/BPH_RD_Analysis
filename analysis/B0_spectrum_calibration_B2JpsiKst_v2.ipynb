{
 "cells": [
  {
   "cell_type": "code",
   "execution_count": 1,
   "metadata": {
    "ExecuteTime": {
     "end_time": "2019-11-05T19:36:58.022206Z",
     "start_time": "2019-11-05T19:36:50.765108Z"
    }
   },
   "outputs": [
    {
     "name": "stdout",
     "output_type": "stream",
     "text": [
      "Welcome to JupyROOT 6.12/07\n"
     ]
    }
   ],
   "source": [
    "import numpy as np\n",
    "import scipy.stats as sps\n",
    "from glob import glob\n",
    "import pickle\n",
    "import matplotlib.pyplot as plt\n",
    "import uproot as ur\n",
    "import ROOT as rt\n",
    "import ROOT.RooFit as rf\n",
    "from scipy.special import erf\n",
    "import sys, os\n",
    "sys.path.append('../lib')\n",
    "from histo_utilities import create_TH1D, create_TH2D, std_color_list, SetMaxToMaxHist, make_ratio_plot\n",
    "from cebefo_style import Set_2D_colz_graphics\n",
    "from progressBar import ProgressBar\n",
    "\n",
    "from analysis_utilities import drawOnCMSCanvas, extarct, extarct_multiple, createSel\n",
    "from lumi_utilities import getLumiReport\n",
    "\n",
    "import CMS_lumi, tdrstyle\n",
    "tdrstyle.setTDRStyle()\n",
    "CMS_lumi.writeExtraText = 1\n",
    "CMS_lumi.extraText = \"     Preliminary\"\n",
    "\n",
    "donotdelete = []"
   ]
  },
  {
   "cell_type": "code",
   "execution_count": 2,
   "metadata": {},
   "outputs": [],
   "source": [
    "if os.environ['CMSSW_VERSION'] != 'CMSSW_10_2_3':\n",
    "    raise"
   ]
  },
  {
   "cell_type": "code",
   "execution_count": 3,
   "metadata": {
    "ExecuteTime": {
     "end_time": "2019-11-05T19:36:58.060006Z",
     "start_time": "2019-11-05T19:36:58.026344Z"
    }
   },
   "outputs": [],
   "source": [
    "rt.gErrorIgnoreLevel = rt.kError\n",
    "rt.RooMsgService.instance().setGlobalKillBelow(rt.RooFit.ERROR)"
   ]
  },
  {
   "cell_type": "code",
   "execution_count": 4,
   "metadata": {
    "ExecuteTime": {
     "end_time": "2019-11-05T19:36:58.080638Z",
     "start_time": "2019-11-05T19:36:58.064353Z"
    }
   },
   "outputs": [
    {
     "name": "stdout",
     "output_type": "stream",
     "text": [
      "1.86483\n",
      "2.01026\n",
      "5.27963\n",
      "mD* - mD0 = 0.14543\n"
     ]
    }
   ],
   "source": [
    "m_D0 = 1.86483 #1e-3*Particle.from_string('D0').mass\n",
    "print m_D0\n",
    "m_Dst = 2.01026 #1e-3*Particle.from_string('D*+').mass\n",
    "print m_Dst\n",
    "m_B0 = 5.27963 #1e-3*Particle.from_string('B0').mass\n",
    "print m_B0\n",
    "m_pi = 0.13957018 #1e-3*Particle.from_string('pi+').mass\n",
    "print 'mD* - mD0 =', m_Dst - m_D0"
   ]
  },
  {
   "cell_type": "code",
   "execution_count": 5,
   "metadata": {
    "ExecuteTime": {
     "end_time": "2019-11-05T19:36:58.106332Z",
     "start_time": "2019-11-05T19:36:58.084732Z"
    }
   },
   "outputs": [],
   "source": [
    "cl = rt.TLine()\n",
    "cl.SetLineColor(6)\n",
    "cl.SetLineStyle(9)\n",
    "cl.SetLineWidth(2)"
   ]
  },
  {
   "cell_type": "markdown",
   "metadata": {},
   "source": [
    "# Cuts declaration"
   ]
  },
  {
   "cell_type": "code",
   "execution_count": 6,
   "metadata": {
    "ExecuteTime": {
     "end_time": "2019-11-05T20:14:09.714739Z",
     "start_time": "2019-11-05T20:14:09.699731Z"
    }
   },
   "outputs": [],
   "source": [
    "# Needed to prevent different mixture in trigger path (in MC all of BPH are always ON but not in data)\n",
    "trigger_cuts = [\n",
    " 'trgMu_pt > 13',\n",
    " 'trgMu_sigdxy > 6.5'\n",
    "]\n",
    "\n",
    "offline_cuts = [\n",
    " 'mass_mumu < 3.174',\n",
    " 'mass_mumu > 3.013',\n",
    " 'mass_piK > 0.82',\n",
    " 'mass_piK < 0.96',\n",
    " 'mum_pt > 3.5',\n",
    " 'mup_pt > 3.5',\n",
    " 'Jpsi_pt > 7',\n",
    " 'pval_mumu > 0.1',\n",
    " 'mum_eta > -2.2',\n",
    " 'mup_eta > -2.2',\n",
    " 'mum_eta < 2.2',\n",
    " 'mup_eta < 2.2',\n",
    " 'cosT_Jpsi_PV > 0.95',\n",
    " 'mum_dxy < 3',\n",
    " 'mup_dxy < 3',\n",
    " 'pval_piK > 0.1',\n",
    " 'fabs(mass_piK - 0.892) < fabs(mass_piK_CPconj - 0.892)',\n",
    " 'mass_KK > 1.035',\n",
    " 'K_sigdxy_PV > 2',\n",
    " 'pi_sigdxy_PV > 2',\n",
    " 'sigdxy_vtxKst_PV > 5',\n",
    " 'K_pt > 0.8',\n",
    " 'pval_mumupiK > 0.1',\n",
    " 'pi_pt > 0.8',\n",
    " 'mass_mumupiK > 5.01',\n",
    " 'mass_mumupiK < 5.56'\n",
    "]\n",
    "\n",
    "analysis_cuts = trigger_cuts + offline_cuts\n",
    "analysis_cuts_str = ' && '.join(analysis_cuts)"
   ]
  },
  {
   "cell_type": "markdown",
   "metadata": {},
   "source": [
    "# Load data"
   ]
  },
  {
   "cell_type": "code",
   "execution_count": 7,
   "metadata": {
    "ExecuteTime": {
     "end_time": "2019-11-05T19:36:58.145357Z",
     "start_time": "2019-11-05T19:36:58.128286Z"
    }
   },
   "outputs": [
    {
     "name": "stdout",
     "output_type": "stream",
     "text": [
      "../data/cmsRD/ParkingBPH3/Run2018D-05May2019promptD-v1_RDntuplizer_B2JpsiKst_191019_CAND.root\n",
      "../data/cmsRD/ParkingBPH3/Run2018C-05May2019-v1_RDntuplizer_B2JpsiKst_191019_CAND.root\n",
      "../data/cmsRD/ParkingBPH3/Run2018B-05May2019-v2_RDntuplizer_B2JpsiKst_191019_CAND.root\n",
      "../data/cmsRD/ParkingBPH3/Run2018A-05May2019-v1_RDntuplizer_B2JpsiKst_191019_CAND.root\n",
      "../data/cmsRD/ParkingBPH2/Run2018D-05May2019promptD-v1_RDntuplizer_B2JpsiKst_191019_CAND.root\n",
      "../data/cmsRD/ParkingBPH2/Run2018C-05May2019-v1_RDntuplizer_B2JpsiKst_191019_CAND.root\n",
      "../data/cmsRD/ParkingBPH2/Run2018B-05May2019-v2_RDntuplizer_B2JpsiKst_191019_CAND.root\n",
      "../data/cmsRD/ParkingBPH2/Run2018A-05May2019-v1_RDntuplizer_B2JpsiKst_191019_CAND.root\n",
      "../data/cmsRD/ParkingBPH6/Run2018B-05May2019-v2_RDntuplizer_B2JpsiKst_191019_CAND.root\n",
      "../data/cmsRD/ParkingBPH6/Run2018A-05May2019-v1_RDntuplizer_B2JpsiKst_191019_CAND.root\n",
      "../data/cmsRD/ParkingBPH5/Run2018C-05May2019-v1_RDntuplizer_B2JpsiKst_191019_CAND.root\n",
      "../data/cmsRD/ParkingBPH5/Run2018B-05May2019-v2_RDntuplizer_B2JpsiKst_191019_CAND.root\n",
      "../data/cmsRD/ParkingBPH5/Run2018A-05May2019-v1_RDntuplizer_B2JpsiKst_191019_CAND.root\n",
      "../data/cmsRD/ParkingBPH4/Run2018C-05May2019-v1_RDntuplizer_B2JpsiKst_191019_CAND.root\n",
      "../data/cmsRD/ParkingBPH4/Run2018B-05May2019-v2_RDntuplizer_B2JpsiKst_191019_CAND.root\n",
      "../data/cmsRD/ParkingBPH4/Run2018A-05May2019-v1_RDntuplizer_B2JpsiKst_191019_CAND.root\n",
      "../data/cmsRD/ParkingBPH1/Run2018D-05May2019promptD-v1_RDntuplizer_B2JpsiKst_191019_CAND.root\n",
      "../data/cmsRD/ParkingBPH1/Run2018C-05May2019-v1_RDntuplizer_B2JpsiKst_191019_CAND.root\n",
      "../data/cmsRD/ParkingBPH1/Run2018B-05May2019-v2_RDntuplizer_B2JpsiKst_191019_CAND.root\n",
      "../data/cmsRD/ParkingBPH1/Run2018A-05May2019-v1_RDntuplizer_B2JpsiKst_191019_CAND.root\n"
     ]
    }
   ],
   "source": [
    "dataDir = '../data/cmsRD'\n",
    "datasets_loc = []\n",
    "datasets_loc += glob(dataDir + '/ParkingBPH*/*2018*B2JpsiKst_191019*')\n",
    "# datasets_loc += glob(dataDir + '/ParkingBPH1/*2018D-*B2JpsiKst_191017*')\n",
    "\n",
    "for d in datasets_loc: print d"
   ]
  },
  {
   "cell_type": "code",
   "execution_count": 8,
   "metadata": {
    "ExecuteTime": {
     "end_time": "2019-11-05T19:36:58.258447Z",
     "start_time": "2019-11-05T19:36:58.149421Z"
    }
   },
   "outputs": [
    {
     "name": "stdout",
     "output_type": "stream",
     "text": [
      "Lumi tot: 30.3 fb^-1\n",
      "Lumi analyzed: 74.4%\n"
     ]
    }
   ],
   "source": [
    "lumi_tot, lumi_dic = getLumiReport(datasets_loc)\n",
    "CMS_lumi.integrated_lumi = lumi_tot"
   ]
  },
  {
   "cell_type": "code",
   "execution_count": 9,
   "metadata": {
    "ExecuteTime": {
     "end_time": "2019-11-05T19:40:38.852665Z",
     "start_time": "2019-11-05T19:36:58.262370Z"
    }
   },
   "outputs": [],
   "source": [
    "treeRD = rt.TChain('outA/Tevts')\n",
    "for floc in datasets_loc:\n",
    "    treeRD.Add(floc)\n",
    "# print 'N evts: {:.0f}'.format(treeRD.GetEntries(analysis_cuts_str))"
   ]
  },
  {
   "cell_type": "markdown",
   "metadata": {},
   "source": [
    "# Load MC"
   ]
  },
  {
   "cell_type": "code",
   "execution_count": 10,
   "metadata": {
    "ExecuteTime": {
     "end_time": "2019-11-05T19:40:38.872265Z",
     "start_time": "2019-11-05T19:40:38.856638Z"
    }
   },
   "outputs": [],
   "source": [
    "mcDir = '../data/cmsMC_private'"
   ]
  },
  {
   "cell_type": "code",
   "execution_count": 11,
   "metadata": {
    "ExecuteTime": {
     "end_time": "2019-11-05T19:40:41.649828Z",
     "start_time": "2019-11-05T19:40:38.876929Z"
    }
   },
   "outputs": [
    {
     "name": "stdout",
     "output_type": "stream",
     "text": [
      "N files: 182\n",
      "N evts candidate: 592375\n",
      "N evts selected: 47241\n"
     ]
    }
   ],
   "source": [
    "mcsets_loc = glob(mcDir + '/BPH_Tag-Probe_B0_JpsiKst-mumuKpi-kp_13TeV-pythia8_Hardbbbar_PTFilter5_0p0-evtgen_SVV_PU0_10-2-3/ntuples_B2JpsiKst/out_CAND*.root')\n",
    "treeMC = rt.TChain('outA/Tevts')\n",
    "for floc in mcsets_loc:\n",
    "    treeMC.Add(floc)\n",
    "    \n",
    "N_cand = treeMC.GetEntries()\n",
    "N_sel = treeMC.GetEntries(analysis_cuts_str)\n",
    "print 'N files: {:.0f}'.format(len(mcsets_loc))\n",
    "print 'N evts candidate: {:.0f}'.format(N_cand)\n",
    "print 'N evts selected: {:.0f}'.format(N_sel)\n",
    "analysisSelEff = N_sel/float(N_cand)"
   ]
  },
  {
   "cell_type": "code",
   "execution_count": 12,
   "metadata": {},
   "outputs": [],
   "source": [
    "dic_MCeff = pickle.load(open('../data/SidePTMC_efficiencies.pickle', 'rb'))\n",
    "dic_decayBR = pickle.load(open('../data/forcedDecayChannelsFactors.pickle', 'rb'))"
   ]
  },
  {
   "cell_type": "code",
   "execution_count": 13,
   "metadata": {},
   "outputs": [
    {
     "name": "stdout",
     "output_type": "stream",
     "text": [
      "Pythia xsec: 1.49e+08 pb\n",
      "Forced decays BR: 7.57e-05\n",
      "Eff CMSSW filter: 9.99e-03\n",
      "Eff ntuplizer: 5.90e-02\n",
      "Eff selection: 7.97e-02\n",
      "\n",
      "Expected evts/fb: 530\n",
      "\n",
      "\n"
     ]
    }
   ],
   "source": [
    "n = 'JPsiKst'\n",
    "xsec_eff = dic_MCeff[n]['xsec']\n",
    "print 'Pythia xsec: {:1.2e} pb'.format(xsec_eff)\n",
    "xsec_eff *= dic_decayBR[n]\n",
    "print 'Forced decays BR: {:1.2e}'.format(dic_decayBR[n])\n",
    "xsec_eff *= dic_MCeff[n]['CMSSWFilterEff']\n",
    "print'Eff CMSSW filter: {:1.2e}'.format(dic_MCeff[n]['CMSSWFilterEff'])\n",
    "xsec_eff *= dic_MCeff[n]['ntupplizerEff']\n",
    "print'Eff ntuplizer: {:1.2e}'.format(dic_MCeff[n]['ntupplizerEff'])\n",
    "xsec_eff *= analysisSelEff\n",
    "print'Eff selection: {:1.2e}'.format(analysisSelEff)\n",
    "xsec_eff *= 1e3 # pb -> fb\n",
    "print '\\nExpected evts/fb: {:.0f}'.format(xsec_eff)\n",
    "print '\\n'"
   ]
  },
  {
   "cell_type": "markdown",
   "metadata": {},
   "source": [
    "# Analyze data"
   ]
  },
  {
   "cell_type": "markdown",
   "metadata": {},
   "source": [
    "### Fit the whole dataset"
   ]
  },
  {
   "cell_type": "code",
   "execution_count": 14,
   "metadata": {
    "ExecuteTime": {
     "end_time": "2019-11-05T20:16:07.132125Z",
     "start_time": "2019-11-05T20:14:22.955867Z"
    }
   },
   "outputs": [],
   "source": [
    "fname = 'tmp/histoRD_analysisCuts.root'\n",
    "if not os.path.isfile(fname):\n",
    "    h = create_TH1D(np.zeros(0), name='h',\n",
    "                    title='',\n",
    "                    axis_title=['m(#mu#mu#pi^{-}K^{+}) [GeV]', 'Events'],\n",
    "                    binning=[55, 5.01, 5.56]\n",
    "                   )\n",
    "    treeRD.Project('h', 'mass_mumupiK', analysis_cuts_str)\n",
    "    h.Sumw2()\n",
    "    f = rt.TFile(fname, 'RECREATE')\n",
    "    h.Write()\n",
    "    f.Close()\n",
    "else:\n",
    "    f = rt.TFile(fname, 'READ')\n",
    "    h = f.Get('h')\n",
    "    N = h.GetNbinsX()\n",
    "    h.binning = [N, h.GetBinCenter(1)-0.5*h.GetBinWidth(1), h.GetBinCenter(N)+0.5*h.GetBinWidth(N)]\n",
    "    donotdelete.append(f)"
   ]
  },
  {
   "cell_type": "code",
   "execution_count": 15,
   "metadata": {
    "ExecuteTime": {
     "end_time": "2019-11-05T20:19:32.678132Z",
     "start_time": "2019-11-05T20:19:32.661827Z"
    }
   },
   "outputs": [],
   "source": [
    "mass = rt.RooRealVar('mass_mumupiK', 'm_{#mu#mu#piK}', h.binning[1], h.binning[2], 'GeV')\n",
    "\n",
    "# mean = rt.RooRealVar('mean', 'm_{B}', m_B0, 3, 7, 'GeV')\n",
    "# sigma = rt.RooRealVar('sigma', '#sigma', 0.02, 0.00005, 0.1, 'GeV') \n",
    "# pdf_sig = rt.RooGaussian('gaus','sig pdf', mass, mean, sigma)\n",
    "\n",
    "# mean = rt.RooRealVar('mean', 'm_{B}', m_B0, 3, 7, 'GeV')\n",
    "# sigma = rt.RooRealVar('sigma', '#sigma', 0.03, 0.00005, 0.1, 'GeV')\n",
    "# alpha = rt.RooRealVar('alpha', '#alpha', 2, -5, 5, 'GeV')\n",
    "# nCB = rt.RooRealVar('nCB', 'n_{CB}', 2, -10, 10, 'GeV')\n",
    "# pdf_sig = rt.RooCBShape('gaus','sig pdf', mass, mean, sigma, alpha, nCB)\n",
    "\n",
    "mean = rt.RooRealVar('mean', '#mu', m_B0, 3, 7, 'GeV')\n",
    "sigma = rt.RooRealVar('sigma', '#sigma', 0.03, 0.00005, 0.1, 'GeV')\n",
    "pAsym = rt.RooRealVar('pAsym', '#alpha', 0, -1, 1)\n",
    "# pAsym.setConstant(rt.kTRUE)\n",
    "rho1 = rt.RooRealVar('rho1', '#rho_{1}', 0, -10, 0)\n",
    "# rho1.setConstant(rt.kTRUE)\n",
    "rho2 = rt.RooRealVar('rho2', '#rho_{2}', 0.5, 0, 10)\n",
    "pdf_sig = rt.RooBukinPdf('bukin','sig pdf', mass, mean, sigma, pAsym, rho1, rho2)\n",
    "\n",
    "N_tot = h.Integral(1, h.binning[0])\n",
    "nsig = rt.RooRealVar('nsig', 'N_{S}', 0.9*N_tot, 0, 100*N_tot)\n",
    "pdf_sig_ext = rt.RooExtendPdf('esig', 'esig', pdf_sig, nsig)"
   ]
  },
  {
   "cell_type": "code",
   "execution_count": 16,
   "metadata": {},
   "outputs": [],
   "source": [
    "#Values that come out of the simulation\n",
    "# mass.setVal(5.282)\n",
    "# sigma.setVal(0.0299)\n",
    "# sigma.setConstant(1)\n",
    "# pAsym.setVal(-0.053)\n",
    "# pAsym.setConstant(1)\n",
    "# rho1.setVal(-0.078)\n",
    "# rho1.setConstant(1)\n",
    "# rho2.setVal(0)\n",
    "# rho2.setConstant(1)"
   ]
  },
  {
   "cell_type": "code",
   "execution_count": 17,
   "metadata": {
    "ExecuteTime": {
     "end_time": "2019-11-05T20:19:33.051564Z",
     "start_time": "2019-11-05T20:19:33.033993Z"
    }
   },
   "outputs": [],
   "source": [
    "lam = rt.RooRealVar('lam', '#lambda', -2.1, -100, -0.1, 'GeV^{-1}')\n",
    "pdf_bkg = rt.RooExponential('expo', 'bkg pdf', mass, lam)\n",
    "\n",
    "# a0 = rt.RooRealVar('a0', 'a0', 10, 0, 100)\n",
    "# a1 = rt.RooRealVar('a1', 'a1', -0.1, -10, 100)\n",
    "# a2 = rt.RooRealVar('a2', 'a2', 0.1, -100, 100)\n",
    "# pdf_bkg = rt.RooPolynomial('poly', 'bkg pdf', mass, rt.RooArgList(a1, a2), 1)\n",
    "\n",
    "nbkg = rt.RooRealVar('nbkg', 'N_{B}', 0.1*N_tot, 0, 100*N_tot)\n",
    "pdf_bkg_ext = rt.RooExtendPdf('ebkg', 'ebkg', pdf_bkg, nbkg)"
   ]
  },
  {
   "cell_type": "code",
   "execution_count": 18,
   "metadata": {
    "ExecuteTime": {
     "end_time": "2019-11-05T20:19:33.700233Z",
     "start_time": "2019-11-05T20:19:33.509405Z"
    }
   },
   "outputs": [
    {
     "name": "stdout",
     "output_type": "stream",
     "text": [
      "chi2: 101.7/47 0.000\n",
      "Total: Nsig = 37826, Nbkg = 16556\n"
     ]
    }
   ],
   "source": [
    "data = rt.RooDataHist('d', 'data', rt.RooArgList(mass), h)\n",
    "\n",
    "pdf_tot = rt.RooAddPdf('pdftot', 'pdftot', rt.RooArgList(pdf_sig_ext, pdf_bkg_ext))\n",
    "fr = pdf_tot.fitTo(data, rf.PrintLevel(-1), rf.Save())\n",
    "\n",
    "dof = h.binning[0]-fr.floatParsFinal().getSize()\n",
    "chi2 = rt.RooChi2Var(\"chi2\", 'chi2', pdf_tot, data)\n",
    "pval = rt.ROOT.Math.chisquared_cdf_c(chi2.getVal(), dof)\n",
    "print 'chi2: {:.1f}/{:.0f} {:.3f}'.format(chi2.getVal(), dof, pval)\n",
    "\n",
    "print 'Total: Nsig = {:.0f}, Nbkg = {:.0f}'.format(nsig.getVal(), nbkg.getVal())"
   ]
  },
  {
   "cell_type": "code",
   "execution_count": 19,
   "metadata": {
    "ExecuteTime": {
     "end_time": "2019-11-05T20:19:45.550406Z",
     "start_time": "2019-11-05T20:19:45.489537Z"
    },
    "scrolled": false
   },
   "outputs": [
    {
     "data": {
      "image/png": "[encoded data removed]",
      "text/plain": [
       "<IPython.core.display.Image object>"
      ]
     },
     "metadata": {},
     "output_type": "display_data"
    }
   ],
   "source": [
    "frame = mass.frame(rf.Title(\"\"))\n",
    "data.plotOn(frame, rf.MarkerStyle(1), rf.DrawOption('E1'), rf.MarkerColor(h.GetLineColor()), rf.LineColor(h.GetLineColor()), rf.MarkerStyle(15))\n",
    "pdf_tot.plotOn(frame, rf.LineColor(h.GetLineColor()), rf.LineWidth(2))\n",
    "pdf_tot.plotOn(frame, rf.Components('ebkg'), rf.LineColor(rt.kRed), rf.LineWidth(2), rf.LineStyle(7))\n",
    "pdf_tot.plotOn(frame, rf.Components('esig'), rf.LineColor(rt.kBlue), rf.LineWidth(2), rf.LineStyle(7))\n",
    "\n",
    "pTxt = rt.TPaveText(5.05, 0.2*h.GetMaximum(), 5.2, h.GetMaximum())\n",
    "pTxt.SetBorderSize(0)\n",
    "pTxt.SetFillStyle(0)\n",
    "pTxt.SetTextAlign(11)\n",
    "pTxt.AddText('#chi^{{2}}: {:.1f}/{:.0f} ({:.2f})'.format(chi2.getVal(), dof, pval))\n",
    "pTxt.AddText('N_{{sig}} = {:.0f} +/- {:.0f}'.format(nsig.getVal(), nsig.getError()))\n",
    "pTxt.AddText('#mu = {:.1f} +/- {:.1f} MeV'.format(1e3*mean.getVal(), 1e3*mean.getError()))\n",
    "pTxt.AddText('#sigma = {:.1f} +/- {:.1f} MeV'.format(1e3*sigma.getVal(), 1e3*sigma.getError()))\n",
    "pTxt.AddText('#alpha = {:.3f} +/- {:.3f}'.format(pAsym.getVal(), pAsym.getError()))\n",
    "pTxt.AddText('#rho_{{1}} = {:.3f} +/- {:.3f}'.format(rho1.getVal(), rho1.getError()))\n",
    "pTxt.AddText('#rho_{{2}} = {:.3f} +/- {:.3f}'.format(rho2.getVal(), rho2.getError()))\n",
    "\n",
    "c = drawOnCMSCanvas(CMS_lumi, frame)\n",
    "cl.DrawLine(m_B0, 0, m_B0, h.GetMaximum());\n",
    "pTxt.Draw()"
   ]
  },
  {
   "cell_type": "markdown",
   "metadata": {},
   "source": [
    "### Create a skimmed tree"
   ]
  },
  {
   "cell_type": "code",
   "execution_count": 20,
   "metadata": {
    "ExecuteTime": {
     "end_time": "2019-10-29T23:52:34.448412Z",
     "start_time": "2019-10-29T23:34:56.734849Z"
    },
    "code_folding": [],
    "scrolled": true
   },
   "outputs": [],
   "source": [
    "output = []\n",
    "N_accepted_cand = []\n",
    "recreate =  False\n",
    "import operator\n",
    "ops = {'>': operator.gt, '<': operator.lt, }\n",
    "\n",
    "if recreate or not os.path.isfile('../data/cmsRD/skimmed/B2JpsiKst.root'):\n",
    "    nMax = 1e11\n",
    "    pb = ProgressBar(maxEntry=min(nMax, treeRD.GetEntries()))\n",
    "    for i_ev, ev in enumerate(treeRD): \n",
    "        if i_ev >= nMax:\n",
    "            break\n",
    "        pb.show(i_ev)\n",
    "        N_acc = 0\n",
    "\n",
    "        accept = True\n",
    "        for c_str in trigger_cuts:\n",
    "            aux = c_str.split(' ')\n",
    "            if len(aux) != 3: raise\n",
    "            x = getattr(ev, aux[0])\n",
    "            if not ops[aux[1]](x, float(aux[2])):\n",
    "                accept = False\n",
    "        if not accept:\n",
    "            continue\n",
    "\n",
    "        for j in range(ev.pval_mumupiK.size()):\n",
    "            accept = abs(ev.mass_piK[j] - 0.892) < abs(ev.mass_piK_CPconj[j] - 0.892)\n",
    "            for c_str in offline_cuts:\n",
    "                if c_str == 'fabs(mass_piK - 0.892) < fabs(mass_piK_CPconj - 0.892)': continue\n",
    "                if not accept:\n",
    "                    break\n",
    "                aux = c_str.split(' ')\n",
    "                if len(aux) != 3:\n",
    "                    raise\n",
    "                x = getattr(ev, aux[0])[j]\n",
    "                accept = ops[aux[1]](x, float(aux[2]))\n",
    "            if accept:\n",
    "                N_acc += 1\n",
    "                output.append((ev.mass_mumupiK[j], \n",
    "                               ev.B_mumupiK_pt[j], \n",
    "                               ev.B_mumupiK_eta[j],\n",
    "                               ev.Jpsi_pt[j],\n",
    "                               ev.mum_pt[j],\n",
    "                               ev.mum_eta[j],\n",
    "                               ev.mum_isTrg[j],\n",
    "                               ev.mup_eta[j],\n",
    "                               ev.mup_pt[j],\n",
    "                               ev.mup_isTrg[j],\n",
    "                               ev.Kst_pt[j],\n",
    "                               ev.Kst_eta[j],\n",
    "                               ev.K_pt[j],\n",
    "                               ev.K_eta[j],\n",
    "                               ev.pi_pt[j],\n",
    "                               ev.pi_eta[j],\n",
    "                              ))\n",
    "        if N_acc > 0:\n",
    "            N_accepted_cand.append(N_acc)\n",
    "\n",
    "    print len(output)\n",
    "    dic = {i:N_accepted_cand.count(i) for i in range(1, np.max(N_accepted_cand)+1)}\n",
    "    print dic\n",
    "\n",
    "    import root_numpy as rtnp\n",
    "    leafs_names = ['mass_mumupiK', 'B_pt', 'B_eta', 'Jpsi_pt', 'mum_pt', 'mum_eta', 'mum_isTrg', 'mup_eta', 'mup_pt', 'mup_isTrg', 'Kst_pt', 'Kst_eta', 'K_pt', 'K_eta', 'pi_pt', 'pi_eta']\n",
    "\n",
    "    dtypes = []\n",
    "    for n in leafs_names:\n",
    "        dtypes.append((n, np.float32))\n",
    "\n",
    "    a = np.array(output, dtype=dtypes)\n",
    "    rtnp.array2root(a, '../data/cmsRD/skimmed/B2JpsiKst.root', treename='Tevts', mode='RECREATE')"
   ]
  },
  {
   "cell_type": "code",
   "execution_count": 21,
   "metadata": {
    "ExecuteTime": {
     "end_time": "2019-11-05T20:22:07.995016Z",
     "start_time": "2019-11-05T20:22:07.936140Z"
    }
   },
   "outputs": [],
   "source": [
    "skimmed_file = rt.TFile('../data/cmsRD/skimmed/B2JpsiKst.root', 'READ')"
   ]
  },
  {
   "cell_type": "code",
   "execution_count": 22,
   "metadata": {
    "ExecuteTime": {
     "end_time": "2019-11-05T20:22:07.995016Z",
     "start_time": "2019-11-05T20:22:07.936140Z"
    }
   },
   "outputs": [
    {
     "name": "stdout",
     "output_type": "stream",
     "text": [
      "******************************************************************************\n",
      "*Tree    :Tevts     : Tevts                                                  *\n",
      "*Entries :    54381 : Total =         3497011 bytes  File  Size =    2599702 *\n",
      "*        :          : Tree compression factor =   1.34                       *\n",
      "******************************************************************************\n",
      "*Br    0 :mass_mumupiK : mass_mumupiK/F                                      *\n",
      "*Entries :    54381 : Total  Size=     218597 bytes  File Size  =     169885 *\n",
      "*Baskets :        7 : Basket Size=      32000 bytes  Compression=   1.28     *\n",
      "*............................................................................*\n",
      "*Br    1 :B_pt      : B_pt/F                                                 *\n",
      "*Entries :    54381 : Total  Size=     218509 bytes  File Size  =     192301 *\n",
      "*Baskets :        7 : Basket Size=      32000 bytes  Compression=   1.13     *\n",
      "*............................................................................*\n",
      "*Br    2 :B_eta     : B_eta/F                                                *\n",
      "*Entries :    54381 : Total  Size=     218520 bytes  File Size  =     201165 *\n",
      "*Baskets :        7 : Basket Size=      32000 bytes  Compression=   1.08     *\n",
      "*............................................................................*\n",
      "*Br    3 :Jpsi_pt   : Jpsi_pt/F                                              *\n",
      "*Entries :    54381 : Total  Size=     218542 bytes  File Size  =     191664 *\n",
      "*Baskets :        7 : Basket Size=      32000 bytes  Compression=   1.14     *\n",
      "*............................................................................*\n",
      "*Br    4 :mum_pt    : mum_pt/F                                               *\n",
      "*Entries :    54381 : Total  Size=     218531 bytes  File Size  =     192982 *\n",
      "*Baskets :        7 : Basket Size=      32000 bytes  Compression=   1.13     *\n",
      "*............................................................................*\n",
      "*Br    5 :mum_eta   : mum_eta/F                                              *\n",
      "*Entries :    54381 : Total  Size=     218542 bytes  File Size  =     200898 *\n",
      "*Baskets :        7 : Basket Size=      32000 bytes  Compression=   1.09     *\n",
      "*............................................................................*\n",
      "*Br    6 :mum_isTrg : mum_isTrg/F                                            *\n",
      "*Entries :    54381 : Total  Size=     218564 bytes  File Size  =      23726 *\n",
      "*Baskets :        7 : Basket Size=      32000 bytes  Compression=   9.19     *\n",
      "*............................................................................*\n",
      "*Br    7 :mup_eta   : mup_eta/F                                              *\n",
      "*Entries :    54381 : Total  Size=     218542 bytes  File Size  =     200949 *\n",
      "*Baskets :        7 : Basket Size=      32000 bytes  Compression=   1.09     *\n",
      "*............................................................................*\n",
      "*Br    8 :mup_pt    : mup_pt/F                                               *\n",
      "*Entries :    54381 : Total  Size=     218531 bytes  File Size  =     193045 *\n",
      "*Baskets :        7 : Basket Size=      32000 bytes  Compression=   1.13     *\n",
      "*............................................................................*\n",
      "*Br    9 :mup_isTrg : mup_isTrg/F                                            *\n",
      "*Entries :    54381 : Total  Size=     218564 bytes  File Size  =      23529 *\n",
      "*Baskets :        7 : Basket Size=      32000 bytes  Compression=   9.27     *\n",
      "*............................................................................*\n",
      "*Br   10 :Kst_pt    : Kst_pt/F                                               *\n",
      "*Entries :    54381 : Total  Size=     218531 bytes  File Size  =     194174 *\n",
      "*Baskets :        7 : Basket Size=      32000 bytes  Compression=   1.12     *\n",
      "*............................................................................*\n",
      "*Br   11 :Kst_eta   : Kst_eta/F                                              *\n",
      "*Entries :    54381 : Total  Size=     218542 bytes  File Size  =     201140 *\n",
      "*Baskets :        7 : Basket Size=      32000 bytes  Compression=   1.08     *\n",
      "*............................................................................*\n",
      "*Br   12 :K_pt      : K_pt/F                                                 *\n",
      "*Entries :    54381 : Total  Size=     218509 bytes  File Size  =     124255 *\n",
      "*Baskets :        7 : Basket Size=      32000 bytes  Compression=   1.75     *\n",
      "*............................................................................*\n",
      "*Br   13 :K_eta     : K_eta/F                                                *\n",
      "*Entries :    54381 : Total  Size=     218520 bytes  File Size  =     182659 *\n",
      "*Baskets :        7 : Basket Size=      32000 bytes  Compression=   1.19     *\n",
      "*............................................................................*\n",
      "*Br   14 :pi_pt     : pi_pt/F                                                *\n",
      "*Entries :    54381 : Total  Size=     218520 bytes  File Size  =     122756 *\n",
      "*Baskets :        7 : Basket Size=      32000 bytes  Compression=   1.78     *\n",
      "*............................................................................*\n",
      "*Br   15 :pi_eta    : pi_eta/F                                               *\n",
      "*Entries :    54381 : Total  Size=     218531 bytes  File Size  =     182573 *\n",
      "*Baskets :        7 : Basket Size=      32000 bytes  Compression=   1.19     *\n",
      "*............................................................................*\n"
     ]
    }
   ],
   "source": [
    "skimmed_tree = skimmed_file.Get('Tevts')\n",
    "skimmed_tree.Print()"
   ]
  },
  {
   "cell_type": "markdown",
   "metadata": {},
   "source": [
    "### Make sDataset"
   ]
  },
  {
   "cell_type": "code",
   "execution_count": 23,
   "metadata": {
    "ExecuteTime": {
     "end_time": "2019-11-05T20:22:11.465546Z",
     "start_time": "2019-11-05T20:22:11.303839Z"
    }
   },
   "outputs": [],
   "source": [
    "v_B_pt = rt.RooRealVar('B_pt', 'p_{T}^{(B)}', 0, 500, 'GeV')\n",
    "v_B_eta = rt.RooRealVar('B_eta', '#eta^{(B)}', -3, 3, 'GeV')\n",
    "\n",
    "rt.RooAbsData.setDefaultStorageType(rt.RooAbsData.Tree)\n",
    "ds = rt.RooDataSet('ds', 'ds', skimmed_tree, rt.RooArgSet(mass, v_B_eta, v_B_pt))\n",
    "ds.convertToTreeStore()"
   ]
  },
  {
   "cell_type": "code",
   "execution_count": 24,
   "metadata": {
    "ExecuteTime": {
     "end_time": "2019-11-05T20:22:14.078652Z",
     "start_time": "2019-11-05T20:22:13.032915Z"
    }
   },
   "outputs": [
    {
     "data": {
      "text/plain": [
       "37847.6724967427"
      ]
     },
     "execution_count": 24,
     "metadata": {},
     "output_type": "execute_result"
    }
   ],
   "source": [
    "sData = rt.RooStats.SPlot('sData', 'sData', ds, pdf_tot, rt.RooArgList(nsig, nbkg))\n",
    "sData.GetYieldFromSWeight('nsig_sw')"
   ]
  },
  {
   "cell_type": "code",
   "execution_count": 25,
   "metadata": {
    "ExecuteTime": {
     "end_time": "2019-11-05T20:22:18.017680Z",
     "start_time": "2019-11-05T20:22:17.888887Z"
    }
   },
   "outputs": [],
   "source": [
    "f_sw = rt.TFile('../data/cmsRD/skimmed/B2JpsiKst_sW.root', 'RECREATE')\n",
    "ds.convertToTreeStore()\n",
    "treeRD_skimmed = ds.tree()\n",
    "treeRD_skimmed.Write()\n",
    "f_sw.Close()"
   ]
  },
  {
   "cell_type": "code",
   "execution_count": 26,
   "metadata": {
    "ExecuteTime": {
     "end_time": "2019-11-05T20:22:18.700527Z",
     "start_time": "2019-11-05T20:22:18.676210Z"
    }
   },
   "outputs": [
    {
     "name": "stdout",
     "output_type": "stream",
     "text": [
      "******************************************************************************\n",
      "*Tree    :merged    : merged                                                 *\n",
      "*Entries :    54381 : Total =         3184722 bytes  File  Size =    2318407 *\n",
      "*        :          : Tree compression factor =   1.00                       *\n",
      "******************************************************************************\n",
      "*Br    0 :mass_mumupiK : mass_mumupiK/D                                      *\n",
      "*Entries :    54381 : Total  Size=     456087 bytes  All baskets in memory   *\n",
      "*Baskets :      108 : Basket Size=       4096 bytes  Compression=   1.00     *\n",
      "*............................................................................*\n",
      "*Br    1 :B_eta     : B_eta/D                                                *\n",
      "*Entries :    54381 : Total  Size=     454533 bytes  All baskets in memory   *\n",
      "*Baskets :      108 : Basket Size=       4096 bytes  Compression=   1.00     *\n",
      "*............................................................................*\n",
      "*Br    2 :B_pt      : B_pt/D                                                 *\n",
      "*Entries :    54381 : Total  Size=     454311 bytes  All baskets in memory   *\n",
      "*Baskets :      108 : Basket Size=       4096 bytes  Compression=   1.00     *\n",
      "*............................................................................*\n",
      "*Br    3 :nsig_sw   : nsig_sw/D                                              *\n",
      "*Entries :    54381 : Total  Size=     454977 bytes  All baskets in memory   *\n",
      "*Baskets :      108 : Basket Size=       4096 bytes  Compression=   1.00     *\n",
      "*............................................................................*\n",
      "*Br    4 :L_nsig    : L_nsig/D                                               *\n",
      "*Entries :    54381 : Total  Size=     454755 bytes  All baskets in memory   *\n",
      "*Baskets :      108 : Basket Size=       4096 bytes  Compression=   1.00     *\n",
      "*............................................................................*\n",
      "*Br    5 :nbkg_sw   : nbkg_sw/D                                              *\n",
      "*Entries :    54381 : Total  Size=     454977 bytes  All baskets in memory   *\n",
      "*Baskets :      108 : Basket Size=       4096 bytes  Compression=   1.00     *\n",
      "*............................................................................*\n",
      "*Br    6 :L_nbkg    : L_nbkg/D                                               *\n",
      "*Entries :    54381 : Total  Size=     454755 bytes  All baskets in memory   *\n",
      "*Baskets :      108 : Basket Size=       4096 bytes  Compression=   1.00     *\n",
      "*............................................................................*\n"
     ]
    }
   ],
   "source": [
    "f_sw = rt.TFile('../data/cmsRD/skimmed/B2JpsiKst_sW.root', 'READ')\n",
    "treeRD_skimmed = f_sw.Get('merged')\n",
    "treeRD_skimmed.Print()"
   ]
  },
  {
   "cell_type": "markdown",
   "metadata": {},
   "source": [
    "# Analyze MC"
   ]
  },
  {
   "cell_type": "code",
   "execution_count": 27,
   "metadata": {
    "ExecuteTime": {
     "end_time": "2019-11-05T20:23:31.163294Z",
     "start_time": "2019-11-05T20:23:30.069969Z"
    }
   },
   "outputs": [],
   "source": [
    "h = create_TH1D(np.zeros(0), name='h',\n",
    "                title='',\n",
    "                axis_title=['m(#mu#mu#pi^{-}K^{+}) [GeV]', 'Events'],\n",
    "                binning=[30, 5.15, 5.4]\n",
    "               )\n",
    "treeMC.Project('h', 'mass_mumupiK', analysis_cuts_str)\n",
    "h.Sumw2()"
   ]
  },
  {
   "cell_type": "code",
   "execution_count": 28,
   "metadata": {
    "ExecuteTime": {
     "end_time": "2019-11-05T20:23:32.873084Z",
     "start_time": "2019-11-05T20:23:32.857407Z"
    }
   },
   "outputs": [
    {
     "name": "stdout",
     "output_type": "stream",
     "text": [
      "47253.0\n",
      "47253.0\n"
     ]
    }
   ],
   "source": [
    "N_tot = h.Integral(1, h.binning[0])\n",
    "print N_tot\n",
    "print h.Integral()"
   ]
  },
  {
   "cell_type": "code",
   "execution_count": 29,
   "metadata": {
    "ExecuteTime": {
     "end_time": "2019-11-05T20:23:34.132742Z",
     "start_time": "2019-11-05T20:23:34.109512Z"
    }
   },
   "outputs": [],
   "source": [
    "mass = rt.RooRealVar('mass_mumupiK', 'm_{#mu#mu#piK}', h.binning[1], h.binning[2], 'GeV')\n",
    "\n",
    "# mean = rt.RooRealVar('mean', 'm_{B}', m_B0, 3, 7, 'GeV')\n",
    "# sigma = rt.RooRealVar('sigma', '#sigma', 0.02, 0.00005, 0.1, 'GeV') \n",
    "# pdf_sig = rt.RooGaussian('gaus','sig pdf', mass, mean, sigma)\n",
    "\n",
    "# mean = rt.RooRealVar('mean', 'm_{B}', m_B0, 3, 7, 'GeV')\n",
    "# sigma = rt.RooRealVar('sigma', '#sigma', 0.03, 0.00005, 0.1, 'GeV')\n",
    "# alpha = rt.RooRealVar('alpha', '#alpha', 2, -5, 5, 'GeV')\n",
    "# nCB = rt.RooRealVar('nCB', 'n_{CB}', 2, -10, 10, 'GeV')\n",
    "# pdf_sig = rt.RooCBShape('gaus','sig pdf', mass, mean, sigma, alpha, nCB)\n",
    "\n",
    "mean = rt.RooRealVar('mean', '#mu', m_B0, 3, 7, 'GeV')\n",
    "sigma = rt.RooRealVar('sigma', '#sigma', 0.03, 0.00005, 0.1, 'GeV')\n",
    "pAsym = rt.RooRealVar('pAsym', '#alpha', 0, -1, 1)\n",
    "rho1 = rt.RooRealVar('rho1', '#rho_{1}', 0, -10, 0)\n",
    "rho2 = rt.RooRealVar('rho2', '#rho_{2}', 0.5, 0, 10)\n",
    "pdf_sig = rt.RooBukinPdf('bukin','sig pdf', mass, mean, sigma, pAsym, rho1, rho2)\n",
    "\n",
    "\n",
    "nsig = rt.RooRealVar('nsig', 'N_{S}', 0.9*N_tot, 0, 100*N_tot)\n",
    "pdf_sig_ext = rt.RooExtendPdf('esig', 'esig', pdf_sig, nsig)"
   ]
  },
  {
   "cell_type": "code",
   "execution_count": 30,
   "metadata": {
    "ExecuteTime": {
     "end_time": "2019-11-05T20:23:34.914688Z",
     "start_time": "2019-11-05T20:23:34.837423Z"
    }
   },
   "outputs": [
    {
     "name": "stdout",
     "output_type": "stream",
     "text": [
      "chi2: 66.8/24 0.000\n"
     ]
    }
   ],
   "source": [
    "data = rt.RooDataHist('d', 'data', rt.RooArgList(mass), h)\n",
    "\n",
    "pdf_tot = pdf_sig_ext\n",
    "fr = pdf_tot.fitTo(data, rf.PrintLevel(-1), rf.Save())\n",
    "\n",
    "dof = h.binning[0]-fr.floatParsFinal().getSize()\n",
    "chi2 = rt.RooChi2Var(\"chi2\", 'chi2', pdf_tot, data)\n",
    "pval = rt.ROOT.Math.chisquared_cdf_c(chi2.getVal(), dof)\n",
    "print 'chi2: {:.1f}/{:.0f} {:.3f}'.format(chi2.getVal(), dof, pval)"
   ]
  },
  {
   "cell_type": "code",
   "execution_count": 31,
   "metadata": {
    "ExecuteTime": {
     "end_time": "2019-11-05T20:23:35.774281Z",
     "start_time": "2019-11-05T20:23:35.725807Z"
    }
   },
   "outputs": [
    {
     "data": {
      "image/png": "[encoded data removed]",
      "text/plain": [
       "<IPython.core.display.Image object>"
      ]
     },
     "metadata": {},
     "output_type": "display_data"
    }
   ],
   "source": [
    "frame = mass.frame(rf.Title(\"\"))\n",
    "data.plotOn(frame, rf.MarkerStyle(1), rf.DrawOption('E1'), rf.MarkerColor(h.GetLineColor()), rf.LineColor(h.GetLineColor()))\n",
    "pdf_tot.plotOn(frame, rf.LineColor(h.GetLineColor()), rf.LineWidth(2))\n",
    "\n",
    "pTxt = rt.TPaveText(h.GetBinCenter(1), 0.2*h.GetMaximum(), h.GetBinCenter(int(0.35*h.GetNbinsX())), h.GetMaximum())\n",
    "pTxt.SetBorderSize(0)\n",
    "pTxt.SetFillStyle(0)\n",
    "pTxt.SetTextAlign(11)\n",
    "pTxt.AddText('#chi^{{2}}: {:.1f}/{:.0f} ({:.2f})'.format(chi2.getVal(), dof, pval))\n",
    "pTxt.AddText('#mu = {:.1f} +/- {:.1f} MeV'.format(1e3*mean.getVal(), 1e3*mean.getError()))\n",
    "pTxt.AddText('#sigma = {:.1f} +/- {:.1f} MeV'.format(1e3*sigma.getVal(), 1e3*sigma.getError()))\n",
    "pTxt.AddText('#alpha = {:.3f} +/- {:.3f}'.format(pAsym.getVal(), pAsym.getError()))\n",
    "pTxt.AddText('#rho_{{1}} = {:.3f} +/- {:.3f}'.format(rho1.getVal(), rho1.getError()))\n",
    "pTxt.AddText('#rho_{{2}} = {:.3f} +/- {:.3f}'.format(rho2.getVal(), rho2.getError()))\n",
    "\n",
    "CMS_lumi.extraText = '     Simulation Preliminary'\n",
    "CMS_lumi.integrated_lumi = ''\n",
    "c = drawOnCMSCanvas(CMS_lumi, frame)\n",
    "cl.DrawLine(m_B0, 0, m_B0, h.GetMaximum());\n",
    "pTxt.Draw()"
   ]
  },
  {
   "cell_type": "markdown",
   "metadata": {},
   "source": [
    "# Compare"
   ]
  },
  {
   "cell_type": "markdown",
   "metadata": {},
   "source": [
    "### Closure variables"
   ]
  },
  {
   "cell_type": "code",
   "execution_count": 32,
   "metadata": {
    "ExecuteTime": {
     "end_time": "2019-11-05T20:24:08.440337Z",
     "start_time": "2019-11-05T20:24:07.282352Z"
    }
   },
   "outputs": [
    {
     "data": {
      "image/png": "[encoded data removed]",
      "text/plain": [
       "<IPython.core.display.Image object>"
      ]
     },
     "metadata": {},
     "output_type": "display_data"
    }
   ],
   "source": [
    "b=[50, 5.15, 5.4]\n",
    "hRD = create_TH1D(np.zeros(0), name='hRD',\n",
    "                title='',\n",
    "                axis_title=['m(#mu#mu#pi^{-}K^{+}) [GeV]', '1/#sigma d#sigma/dm / '+'({:.2f} GeV)'.format((b[2]-b[1])/b[0])],\n",
    "                binning=b\n",
    "               )\n",
    "treeRD_skimmed.Project('hRD', 'mass_mumupiK', 'L_nsig/(L_nsig+L_nbkg)')\n",
    "# treeRD_skimmed.Project('hRD', 'mass_mumupiK', '')\n",
    "hRD.Sumw2()\n",
    "hRD.Scale(1./hRD.Integral())\n",
    "hRD.SetMarkerStyle(15)\n",
    "\n",
    "hMC = create_TH1D(np.zeros(0), name='hMC',\n",
    "                  title = 'Pythia Hard b#bar{b}',\n",
    "                  binning=hRD.binning, opt='overflow+underflow')\n",
    "treeMC.Project('hMC', 'mass_mumupiK', analysis_cuts_str)\n",
    "hMC.Sumw2()\n",
    "hMC.Scale(1./hMC.Integral())\n",
    "hMC.SetLineColor(rt.kRed)\n",
    "    \n",
    "leg = rt.TLegend(0.7, 0.7, 0.95,0.9)\n",
    "leg.SetBorderSize(0)\n",
    "leg.AddEntry(hRD, 'Data (bkg subtracted)', 'lep')\n",
    "leg.AddEntry(hMC, 'Pythia Hard b#bar{b}', 'le')\n",
    "\n",
    "CMS_lumi.extraText = '     Preliminary'\n",
    "CMS_lumi.integrated_lumi = lumi_tot\n",
    "c = drawOnCMSCanvas(CMS_lumi, [hRD, hMC], 'same')\n",
    "leg.Draw()"
   ]
  },
  {
   "cell_type": "markdown",
   "metadata": {},
   "source": [
    "### The true B spectrum"
   ]
  },
  {
   "cell_type": "code",
   "execution_count": 33,
   "metadata": {
    "ExecuteTime": {
     "end_time": "2019-11-05T20:24:15.232117Z",
     "start_time": "2019-11-05T20:24:13.782543Z"
    }
   },
   "outputs": [
    {
     "data": {
      "text/plain": [
       "<ROOT.TLine object (\"TLine\") at 0xd54a4e0>"
      ]
     },
     "execution_count": 33,
     "metadata": {},
     "output_type": "execute_result"
    },
    {
     "data": {
      "image/png": "[encoded data removed]",
      "text/plain": [
       "<IPython.core.display.Image object>"
      ]
     },
     "metadata": {},
     "output_type": "display_data"
    }
   ],
   "source": [
    "b = [30, 9, 100.]\n",
    "hRD = create_TH1D(np.zeros(0), name='hRD',\n",
    "                title='data_{sW}',\n",
    "                axis_title=['B_{0} p_{T} (reco) [GeV]', \n",
    "                            '1/#sigma d#sigma/dp_{T} / '+'({:.2f} GeV)'.format((b[2]-b[1])/b[0])],\n",
    "                binning=b,\n",
    "                opt='overflow+underflow'\n",
    "               )\n",
    "treeRD_skimmed.Project('hRD', 'B_pt', 'nsig_sw')\n",
    "hRD.Sumw2()\n",
    "hRD.Scale(1./hRD.Integral())\n",
    "hRD.SetMarkerStyle(15)\n",
    "\n",
    "hMC = create_TH1D(np.zeros(0), name='hMC',\n",
    "                  title = 'Pythia Hard b#bar{b}',\n",
    "                  binning=hRD.binning, opt='overflow+underflow')\n",
    "treeMC.Project('hMC', 'B_mumupiK_pt', analysis_cuts_str)\n",
    "hMC.Sumw2()\n",
    "hMC.Scale(1./hMC.Integral())\n",
    "hMC.SetLineColor(rt.kRed)\n",
    "\n",
    "CMS_lumi.extraText = '      Preliminary'\n",
    "c = make_ratio_plot([hRD, hMC], ratio_bounds=[0.4, 20], draw_opt='E1')\n",
    "CMS_lumi.CMS_lumi(c, -1, 0)\n",
    "c.pad1.SetTopMargin(0.07)\n",
    "c.pad1.SetRightMargin(0.035)\n",
    "c.pad2.SetRightMargin(0.035)\n",
    "c.pad2.SetLogy()\n",
    "c.leg.SetY2(0.9)\n",
    "c.leg.SetY1(0.6)\n",
    "c.leg.SetX1(0.6)\n",
    "c.Draw()\n",
    "\n",
    "c.pad2.cd()\n",
    "ln = rt.TLine()\n",
    "ln.SetLineStyle(7)\n",
    "ln.SetLineColor(1)\n",
    "ln.DrawLine(hRD.binning[1], 1, hRD.binning[2], 1)"
   ]
  },
  {
   "cell_type": "code",
   "execution_count": 34,
   "metadata": {
    "ExecuteTime": {
     "end_time": "2019-11-05T20:24:41.792919Z",
     "start_time": "2019-11-05T20:24:41.759537Z"
    }
   },
   "outputs": [],
   "source": [
    "dic = {'pt':[], 'w':[], 'w_err':[], 'wUp':[], 'wDown':[]}\n",
    "\n",
    "def f_arb(x, value_at_beg):\n",
    "    center = 0.5*(hRD.binning[2] + hRD.binning[1])\n",
    "    k = (value_at_beg-1)/(hRD.binning[1] -  center)\n",
    "    return k*(x - center)+1\n",
    "\n",
    "fout = open('../data/calibration/B02JPsiKst_pt.txt', 'w')\n",
    "fout.write('#'+'\\t'.join(['pt','w', 'w_err', 'wUp', 'wDown'])+'\\n')\n",
    "for ib in range(1, hRD.GetNbinsX()+1):\n",
    "    n = max(0, hRD.GetBinContent(ib))\n",
    "    d = hMC.GetBinContent(ib)\n",
    "    en = 0.\n",
    "    ed = 0.\n",
    "    if n > 0: en = hRD.GetBinError(ib)/n\n",
    "    if d > 0: ed = hMC.GetBinError(ib)/d\n",
    "    r = n/d\n",
    "    dic['w'].append(r)\n",
    "    if en != 0 and ed != 0:\n",
    "        dr = r*np.hypot(en, ed)\n",
    "    elif en == 0:\n",
    "        dr = 0.5\n",
    "    dic['w_err'].append(dr)\n",
    "    pt = hRD.GetBinCenter(ib)\n",
    "    dic['pt'].append(pt)\n",
    "    \n",
    "    dic['wUp'].append(r * f_arb(pt, 0.5))\n",
    "    dic['wDown'].append(r * f_arb(pt, 1.5))\n",
    "    \n",
    "    fout.write('\\t'.join(map(lambda x: '{:.3f}'.format(x), [pt, r, dr, r * f_arb(pt, 0.), r * f_arb(pt, 2.)]))+'\\n')\n",
    "fout.close()"
   ]
  },
  {
   "cell_type": "code",
   "execution_count": 35,
   "metadata": {
    "ExecuteTime": {
     "end_time": "2019-11-05T20:24:42.776587Z",
     "start_time": "2019-11-05T20:24:42.311211Z"
    }
   },
   "outputs": [
    {
     "data": {
      "text/plain": [
       "<matplotlib.text.Text at 0x7f400d8256d0>"
      ]
     },
     "execution_count": 35,
     "metadata": {},
     "output_type": "execute_result"
    },
    {
     "data": {
      "image/png": "[encoded data removed]",
      "text/plain": [
       "<matplotlib.figure.Figure at 0x7f404825df90>"
      ]
     },
     "metadata": {},
     "output_type": "display_data"
    }
   ],
   "source": [
    "f = plt.figure(figsize=(8,6))\n",
    "plt.errorbar(dic['pt'], dic['w'], yerr=dic['w_err'], fmt='.', label='Ratio')\n",
    "plt.plot(dic['pt'], dic['wUp'], '.--', label='Up')\n",
    "plt.plot(dic['pt'], dic['wDown'], '.--', label='Down')\n",
    "plt.legend(loc='best')\n",
    "plt.xlabel('$B_0\\ p_T$ [GeV]')\n",
    "plt.ylabel('MC weight')"
   ]
  },
  {
   "cell_type": "code",
   "execution_count": 36,
   "metadata": {
    "ExecuteTime": {
     "end_time": "2019-11-05T20:24:43.201211Z",
     "start_time": "2019-11-05T20:24:43.079360Z"
    }
   },
   "outputs": [
    {
     "data": {
      "image/png": "[encoded data removed]",
      "text/plain": [
       "<IPython.core.display.Image object>"
      ]
     },
     "metadata": {},
     "output_type": "display_data"
    }
   ],
   "source": [
    "h_var = {}\n",
    "colors = [5,6,8]\n",
    "for k in ['central', 'up', 'down']:\n",
    "    h_var[k] = hMC.Clone('hMC_'+k)\n",
    "    h_var[k].SetTitle(k)\n",
    "    h_var[k].SetLineColor(colors[0])\n",
    "    h_var[k].SetMarkerColor(colors[0])\n",
    "    h_var[k].SetMarkerStyle(rt.kCircle)\n",
    "    colors.pop(0)\n",
    "    \n",
    "for ib in range(1, hRD.binning[0]+1):\n",
    "    x = hRD.GetBinCenter(ib)\n",
    "    y = hMC.GetBinContent(ib)\n",
    "    y_err = hMC.GetBinError(ib)\n",
    "    h_var['central'].SetBinContent(ib, y*dic['w'][ib-1])\n",
    "    h_var['central'].SetBinError(ib, y_err*dic['w'][ib-1])\n",
    "    h_var['up'].SetBinContent(ib, y*dic['wUp'][ib-1])\n",
    "    h_var['up'].SetBinError(ib, y_err*dic['wUp'][ib-1])\n",
    "    h_var['down'].SetBinContent(ib, y*dic['wDown'][ib-1])    \n",
    "    h_var['down'].SetBinError(ib, y_err*dic['wDown'][ib-1])\n",
    "for h in h_var.values():\n",
    "    h.Scale(1./h.Integral())\n",
    "    \n",
    "gr_stat = rt.TGraphAsymmErrors()\n",
    "gr_sys = rt.TGraphAsymmErrors()\n",
    "for ib in range(1, hRD.binning[0]+1):\n",
    "    x = hRD.GetBinCenter(ib)\n",
    "    y = h_var['central'].GetBinContent(ib)\n",
    "    gr_stat.SetPoint(ib-1, x, y)\n",
    "    dx = 0.5*hMC.GetBinWidth(ib)\n",
    "    dy = h_var['central'].GetBinError(ib)\n",
    "    gr_stat.SetPointError(ib-1, dx, dx, dy, dy)\n",
    "    \n",
    "    dy_low = max(y-h_var['up'].GetBinContent(ib), y-h_var['down'].GetBinContent(ib))\n",
    "    dy_up = max(h_var['up'].GetBinContent(ib)-y, h_var['down'].GetBinContent(ib)-y)\n",
    "    gr_sys.SetPoint(ib-1, x, y)\n",
    "    gr_sys.SetPointError(ib-1, dx, dx, dy_low, dy_up)\n",
    "gr_stat.SetLineColor(6)\n",
    "gr_stat.SetMarkerColor(6)\n",
    "gr_sys.SetFillColor(6)\n",
    "gr_sys.SetFillStyle(3005)\n",
    "gr_sys.SetLineWidth(0)\n",
    "    \n",
    "\n",
    "leg = rt.TLegend(0.7, 0.7, 0.95,0.9)\n",
    "leg.SetBorderSize(0)\n",
    "leg.AddEntry(hRD, hRD.GetTitle(), 'lep')\n",
    "leg.AddEntry(hMC, hMC.GetTitle(), 'le')\n",
    "leg.AddEntry(gr_stat, 'Pythia reweighted', 'lep')\n",
    "leg.AddEntry(gr_sys, 'Weight systematics', 'f')\n",
    "\n",
    "hRD.GetYaxis().SetRangeUser(0, .15)\n",
    "c = drawOnCMSCanvas(CMS_lumi, [hRD, hMC, gr_stat, gr_sys], ['', 'same', 'p', '4'])\n",
    "leg.Draw()"
   ]
  },
  {
   "cell_type": "code",
   "execution_count": 37,
   "metadata": {
    "ExecuteTime": {
     "end_time": "2019-11-05T20:30:52.329864Z",
     "start_time": "2019-11-05T20:30:51.144861Z"
    }
   },
   "outputs": [
    {
     "data": {
      "image/png": "[encoded data removed]",
      "text/plain": [
       "<IPython.core.display.Image object>"
      ]
     },
     "metadata": {},
     "output_type": "display_data"
    }
   ],
   "source": [
    "b=[50, 10, 100, 50, 10, 100]\n",
    "hMC = create_TH2D(np.zeros((2,2)), name='hMC',\n",
    "                title='',\n",
    "                axis_title=['B_{0} p_{T} (truth) [GeV]', 'B_{0} p_{T} (reco) [GeV]', ''],\n",
    "                binning=b\n",
    "               )\n",
    "treeMC.Project('hMC', 'B_mumupiK_pt:MC_B_pt', analysis_cuts_str)\n",
    "\n",
    "CMS_lumi.extraText = '     Simulation Preliminary'\n",
    "CMS_lumi.integrated_lumi = None\n",
    "c = drawOnCMSCanvas(CMS_lumi, [hMC], ['colz'])"
   ]
  },
  {
   "cell_type": "code",
   "execution_count": 38,
   "metadata": {
    "ExecuteTime": {
     "end_time": "2019-11-05T20:35:31.925766Z",
     "start_time": "2019-11-05T20:35:30.766424Z"
    }
   },
   "outputs": [
    {
     "data": {
      "image/png": "[encoded data removed]",
      "text/plain": [
       "<IPython.core.display.Image object>"
      ]
     },
     "metadata": {},
     "output_type": "display_data"
    }
   ],
   "source": [
    "b=[50, 10, 100, 50, -10, 100]\n",
    "hMC = create_TH2D(np.zeros((2,2)), name='hMC',\n",
    "                title='',\n",
    "                axis_title=['B_{0} p_{T} (truth) [GeV]', '#Delta B_{0} p_{T} (reco-truth) [GeV]', ''],\n",
    "                binning=b\n",
    "               )\n",
    "treeMC.Project('hMC', 'B_mumupiK_pt - MC_B_pt:MC_B_pt', analysis_cuts_str)\n",
    "\n",
    "CMS_lumi.extraText = '     Simulation Preliminary'\n",
    "CMS_lumi.integrated_lumi = None\n",
    "c = drawOnCMSCanvas(CMS_lumi, [hMC], ['colz'])"
   ]
  },
  {
   "cell_type": "code",
   "execution_count": 39,
   "metadata": {
    "ExecuteTime": {
     "end_time": "2019-11-05T20:43:28.101125Z",
     "start_time": "2019-11-05T20:43:25.903905Z"
    }
   },
   "outputs": [
    {
     "data": {
      "text/plain": [
       "0.9565631548866451"
      ]
     },
     "execution_count": 39,
     "metadata": {},
     "output_type": "execute_result"
    }
   ],
   "source": [
    "treeMC.GetEntries(analysis_cuts_str + ' && abs(B_mumupiK_pt - MC_B_pt) < 10')/float(treeMC.GetEntries(analysis_cuts_str))"
   ]
  }
 ],
 "metadata": {
  "kernelspec": {
   "display_name": "Python 2",
   "language": "python",
   "name": "python2"
  },
  "language_info": {
   "codemirror_mode": {
    "name": "ipython",
    "version": 2
   },
   "file_extension": ".py",
   "mimetype": "text/x-python",
   "name": "python",
   "nbconvert_exporter": "python",
   "pygments_lexer": "ipython2",
   "version": "2.7.14+"
  }
 },
 "nbformat": 4,
 "nbformat_minor": 2
}
