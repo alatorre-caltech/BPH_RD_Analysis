{
 "cells": [
  {
   "cell_type": "markdown",
   "metadata": {},
   "source": [
    "### Imports"
   ]
  },
  {
   "cell_type": "code",
   "execution_count": 1,
   "metadata": {
    "ExecuteTime": {
     "end_time": "2020-09-24T04:06:10.881377Z",
     "start_time": "2020-09-24T04:06:05.171684Z"
    }
   },
   "outputs": [
    {
     "name": "stdout",
     "output_type": "stream",
     "text": [
      "Welcome to JupyROOT 6.12/07\n"
     ]
    }
   ],
   "source": [
    "import numpy as np\n",
    "import scipy.stats as sps\n",
    "from glob import glob\n",
    "import pickle\n",
    "import time\n",
    "from array import array\n",
    "from scipy.interpolate import interp1d\n",
    "import multiprocessing\n",
    "import matplotlib.pyplot as plt\n",
    "import uproot as ur\n",
    "import ROOT as rt\n",
    "import root_numpy as rtnp\n",
    "import ROOT.RooFit as rf\n",
    "from scipy.special import erf\n",
    "import sys, os\n",
    "import itertools\n",
    "sys.path.append('../lib')\n",
    "if os.environ['CMSSW_VERSION'] != 'CMSSW_10_2_3':\n",
    "    raise\n",
    "from histo_utilities import create_TH1D, create_TH2D, std_color_list, SetMaxToMaxHist, make_ratio_plot\n",
    "from cebefo_style import Set_2D_colz_graphics\n",
    "from progressBar import ProgressBar\n",
    "\n",
    "from analysis_utilities import drawOnCMSCanvas, extarct, extarct_multiple, createSel\n",
    "from lumi_utilities import getLumiByTrigger\n",
    "\n",
    "import CMS_lumi, tdrstyle\n",
    "tdrstyle.setTDRStyle()\n",
    "CMS_lumi.writeExtraText = 1\n",
    "CMS_lumi.extraText = \"     Internal\"\n",
    "\n",
    "donotdelete = []"
   ]
  },
  {
   "cell_type": "code",
   "execution_count": 2,
   "metadata": {
    "ExecuteTime": {
     "end_time": "2020-09-24T04:06:10.985265Z",
     "start_time": "2020-09-24T04:06:10.887394Z"
    }
   },
   "outputs": [],
   "source": [
    "rt.gErrorIgnoreLevel = rt.kError\n",
    "rt.RooMsgService.instance().setGlobalKillBelow(rt.RooFit.ERROR)"
   ]
  },
  {
   "cell_type": "code",
   "execution_count": 3,
   "metadata": {
    "ExecuteTime": {
     "end_time": "2020-09-24T04:06:11.057914Z",
     "start_time": "2020-09-24T04:06:10.990820Z"
    }
   },
   "outputs": [],
   "source": [
    "statMethod = rt.TEfficiency.kFCP"
   ]
  },
  {
   "cell_type": "markdown",
   "metadata": {},
   "source": [
    "# Load data"
   ]
  },
  {
   "cell_type": "code",
   "execution_count": 10,
   "metadata": {
    "ExecuteTime": {
     "end_time": "2020-09-24T04:07:29.364466Z",
     "start_time": "2020-09-24T04:07:29.346598Z"
    }
   },
   "outputs": [],
   "source": [
    "effLoc = '../data/calibration/trackingEfficiency/eff'"
   ]
  },
  {
   "cell_type": "code",
   "execution_count": 11,
   "metadata": {
    "ExecuteTime": {
     "end_time": "2020-09-24T04:07:30.060342Z",
     "start_time": "2020-09-24T04:07:29.839712Z"
    }
   },
   "outputs": [],
   "source": [
    "finRD = rt.TFile(effLoc + 'RD{}.root'.format(version), 'READ')\n",
    "effRD = finRD.Get('eff')\n",
    "effRD.SetStatisticOption(statMethod)"
   ]
  },
  {
   "cell_type": "code",
   "execution_count": 12,
   "metadata": {
    "ExecuteTime": {
     "end_time": "2020-09-24T04:07:37.974333Z",
     "start_time": "2020-09-24T04:07:37.961713Z"
    }
   },
   "outputs": [],
   "source": [
    "finMC = rt.TFile(effLoc + 'MC{}.root'.format(version), 'READ')\n",
    "effMC = finMC.Get('eff')\n",
    "effMC.SetStatisticOption(statMethod)"
   ]
  },
  {
   "cell_type": "code",
   "execution_count": 13,
   "metadata": {
    "ExecuteTime": {
     "end_time": "2020-09-24T04:07:42.207600Z",
     "start_time": "2020-09-24T04:07:42.171909Z"
    }
   },
   "outputs": [],
   "source": [
    "def recomputeEffErr(idx, pEff):\n",
    "    nT = pEff.GetTotalHistogram().GetBinContent(idx)\n",
    "    nP = pEff.GetPassedHistogram().GetBinContent(idx)\n",
    "    eff = nP/float(nT)\n",
    "    effUnc = np.sqrt((1-eff)*eff/nT)\n",
    "    print 'Crude approx: {:.3f} +/- {:.3f}'.format(eff, effUnc)\n",
    "    \n",
    "    effTest = rt.TEfficiency('effTest', 'effTest;x;#epsilon', 1, 0, 1)\n",
    "    effTest.SetStatisticOption(statMethod)\n",
    "    effTest.SetTotalEvents(1, int(nT))\n",
    "    effTest.SetPassedEvents(1, int(nP))\n",
    "    print 'Recomputing...'\n",
    "    print 'eff: {:.3f} -{:.3f} / + {:.3f}'.format(effTest.GetEfficiency(1),\n",
    "                                                  effTest.GetEfficiencyErrorLow(1),\n",
    "                                                  effTest.GetEfficiencyErrorUp(1))\n",
    "    print '\\n'\n",
    "    return 0.5*(effTest.GetEfficiencyErrorLow(1) + effTest.GetEfficiencyErrorUp(1))"
   ]
  },
  {
   "cell_type": "markdown",
   "metadata": {},
   "source": [
    "# Compute SF"
   ]
  },
  {
   "cell_type": "code",
   "execution_count": 14,
   "metadata": {
    "ExecuteTime": {
     "end_time": "2020-09-24T04:11:03.701989Z",
     "start_time": "2020-09-24T04:11:03.647173Z"
    }
   },
   "outputs": [],
   "source": [
    "hSF = effRD.GetCopyPassedHisto()\n",
    "hSF.SetNameTitle('hSF_trackingEff', 'Tracking efficiency scale factors')\n",
    "hSF.SetXTitle('1/#rho^{#diamond}_{#pi}')\n",
    "hSF.SetYTitle('N_{vtx}')\n",
    "hSF.Reset()"
   ]
  },
  {
   "cell_type": "code",
   "execution_count": 16,
   "metadata": {
    "ExecuteTime": {
     "end_time": "2020-09-24T04:12:40.305684Z",
     "start_time": "2020-09-24T04:12:40.154690Z"
    },
    "scrolled": false
   },
   "outputs": [
    {
     "name": "stdout",
     "output_type": "stream",
     "text": [
      "1 5 0.105397787959\n",
      "2 7 0.110490093934\n"
     ]
    }
   ],
   "source": [
    "for ix, iy in itertools.product(range(1, hSF.GetNbinsX()+1), range(1, hSF.GetNbinsY()+1)):\n",
    "    idx = hSF.GetBin(ix, iy)\n",
    "    if effMC.GetEfficiency(idx) == 0 or effRD.GetEfficiency(idx) == 0:\n",
    "#         print 'Eff = 0 at [{}, {}, {}]'.format(ix, iy)\n",
    "        hSF.SetBinContent(idx, 0)\n",
    "        hSF.SetBinError(idx, 0)\n",
    "        continue\n",
    "    \n",
    "    sf = effRD.GetEfficiency(idx)/effMC.GetEfficiency(idx)\n",
    "    if sf > 10:\n",
    "#         print 'SF too high at [{}, {}, {}]'.format(ix, iy)\n",
    "        hSF.SetBinContent(idx, 0)\n",
    "        hSF.SetBinError(idx, 0)\n",
    "        continue\n",
    "    hSF.SetBinContent(idx, sf)\n",
    "    \n",
    "    errRD = 0.5*(effRD.GetEfficiencyErrorLow(idx) + effRD.GetEfficiencyErrorUp(idx))\n",
    "    if np.isnan(errRD):\n",
    "        print 'nan RD uncertainty at [{}, {}, {}]'.format(ix, iy)\n",
    "        print 'Eff RD = {:.3f} -{:.3f} / +{:.3f}'.format(effRD.GetEfficiency(idx), \n",
    "                                                         effRD.GetEfficiencyErrorLow(idx), \n",
    "                                                         effRD.GetEfficiencyErrorUp(idx))\n",
    "        errRD = recomputeEffErr(idx, effRD)\n",
    "        \n",
    "    if errRD > 0.1:\n",
    "        print ix, iy, errRD\n",
    "    errRD /= effRD.GetEfficiency(idx)\n",
    "    \n",
    "    errMC = 0.5*(effMC.GetEfficiencyErrorLow(idx) + effMC.GetEfficiencyErrorUp(idx))\n",
    "    if np.isnan(errMC):\n",
    "        print 'nan MC uncertainty at [{}, {}, {}]'.format(ix, iy)\n",
    "        print 'Eff MC = {:.3f} -{:.3f} / +{:.3f}'.format(effMC.GetEfficiency(idx), \n",
    "                                                         effMC.GetEfficiencyErrorLow(idx), \n",
    "                                                         effMC.GetEfficiencyErrorUp(idx))\n",
    "        errMC = recomputeEffErr(idx, effMC)\n",
    "    if errMC > 0.1:\n",
    "        print ix, iy, errMC\n",
    "    errMC /= effMC.GetEfficiency(idx)\n",
    "    \n",
    "    err_sf = sf*np.hypot(errMC, errRD)\n",
    "\n",
    "    hSF.SetBinError(idx, err_sf)\n",
    "\n",
    "fSF = rt.TFile(effLoc + '_SF{}.root'.format(version), 'RECREATE')\n",
    "hSF.Write()\n",
    "fSF.Close()"
   ]
  },
  {
   "cell_type": "markdown",
   "metadata": {},
   "source": [
    "To retrieve the SF value:\n",
    "\n",
    "        ix = hSF.GetXaxis().FindBin(pt)\n",
    "        iy = hSF.GetYaxis().FindBin(sigdxy)\n",
    "        w = hSF.GetBinContent(ix, iy, iz)"
   ]
  },
  {
   "cell_type": "markdown",
   "metadata": {},
   "source": [
    "# Plot the SF"
   ]
  },
  {
   "cell_type": "code",
   "execution_count": 19,
   "metadata": {
    "ExecuteTime": {
     "end_time": "2020-09-24T04:16:46.952904Z",
     "start_time": "2020-09-24T04:16:46.755471Z"
    },
    "scrolled": false
   },
   "outputs": [
    {
     "data": {
      "image/png": "[encoded data removed]",
      "text/plain": [
       "<IPython.core.display.Image object>"
      ]
     },
     "metadata": {},
     "output_type": "display_data"
    }
   ],
   "source": [
    "outCanvases = []\n",
    "rt.gStyle.SetOptTitle(1)\n",
    "rt.gStyle.SetTitleFillColor(0)\n",
    "rt.gStyle.SetTitleBorderSize(0)\n",
    "nx = hSF.GetNbinsX()\n",
    "ny = hSF.GetNbinsY()\n",
    "\n",
    "rt.gStyle.SetPaintTextFormat('.2f')\n",
    "h2 = rt.TH2D('hSFout', 'Tracking efficiency SF', nx, 0, nx, ny, 0, ny)\n",
    "h2.SetXTitle(hSF.GetXaxis().GetTitle())\n",
    "h2.SetYTitle(hSF.GetYaxis().GetTitle())\n",
    "h2.SetZTitle('Scale facor RD/MC')\n",
    "\n",
    "for iy in range(1, hSF.GetNbinsY()+1):\n",
    "    for ix in range(1, hSF.GetNbinsX()+1):\n",
    "        h2.SetBinContent(ix, iy, hSF.GetBinContent(ix, iy))\n",
    "        idx = hSF.GetBin(ix, iy)\n",
    "        h2.SetBinError(h2.GetBin(ix, iy), hSF.GetBinError(idx))\n",
    "h2.SetMarkerSize(1.5)\n",
    "h2.GetZaxis().SetRangeUser(0.5, 2)\n",
    "h2.GetYaxis().SetTitleOffset(0.9)\n",
    "h2.GetXaxis().SetTitleOffset(1.1)\n",
    "c = drawOnCMSCanvas(CMS_lumi, [h2, h2], ['colz', 'texte same'])\n",
    "c.SetTopMargin(0.1)\n",
    "c.SetBottomMargin(0.15)\n",
    "c.SetLeftMargin(0.12)\n",
    "c.SetRightMargin(0.17)\n",
    "\n",
    "ax = h2.GetYaxis()\n",
    "ax.SetNdivisions(-ny)\n",
    "for i in range(ny+2):\n",
    "    l = hSF.GetYaxis().GetBinCenter(i) + 0.5*hSF.GetYaxis().GetBinWidth(i)\n",
    "    if i == 0:\n",
    "        l = hSF.GetYaxis().GetBinCenter(1) - 0.5*hSF.GetYaxis().GetBinWidth(1)            \n",
    "    ax.ChangeLabel(i+1, -1, -1, -1, -1, -1, '{0:g}'.format(l))\n",
    "\n",
    "ax = h2.GetXaxis()\n",
    "ax.SetNdivisions(-nx)\n",
    "for i in range(nx+2):\n",
    "    l = hSF.GetXaxis().GetBinCenter(i) + 0.5*hSF.GetXaxis().GetBinWidth(i)\n",
    "    if i == 0:\n",
    "        l = hSF.GetXaxis().GetBinCenter(1) - 0.5*hSF.GetXaxis().GetBinWidth(1)            \n",
    "    ax.ChangeLabel(i+1, -1, -1, -1, -1, -1, '{0:g}'.format(l))\n",
    "\n",
    "imgLoc = '../data/calibration/trackingEfficiency/trackingSF.png'\n",
    "c.SaveAs(imgLoc)\n",
    "c.SetGrid()\n",
    "outCanvases.append([c, h2])"
   ]
  },
  {
   "cell_type": "code",
   "execution_count": null,
   "metadata": {},
   "outputs": [],
   "source": []
  }
 ],
 "metadata": {
  "kernelspec": {
   "display_name": "Python 2",
   "language": "python",
   "name": "python2"
  },
  "language_info": {
   "codemirror_mode": {
    "name": "ipython",
    "version": 2
   },
   "file_extension": ".py",
   "mimetype": "text/x-python",
   "name": "python",
   "nbconvert_exporter": "python",
   "pygments_lexer": "ipython2",
   "version": "2.7.14+"
  },
  "varInspector": {
   "cols": {
    "lenName": 16,
    "lenType": 16,
    "lenVar": 40
   },
   "kernels_config": {
    "python": {
     "delete_cmd_postfix": "",
     "delete_cmd_prefix": "del ",
     "library": "var_list.py",
     "varRefreshCmd": "print(var_dic_list())"
    },
    "r": {
     "delete_cmd_postfix": ") ",
     "delete_cmd_prefix": "rm(",
     "library": "var_list.r",
     "varRefreshCmd": "cat(var_dic_list()) "
    }
   },
   "types_to_exclude": [
    "module",
    "function",
    "builtin_function_or_method",
    "instance",
    "_Feature"
   ],
   "window_display": false
  }
 },
 "nbformat": 4,
 "nbformat_minor": 2
}
