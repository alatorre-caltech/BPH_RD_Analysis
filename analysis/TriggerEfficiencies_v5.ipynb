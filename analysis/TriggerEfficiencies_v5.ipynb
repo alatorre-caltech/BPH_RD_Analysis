{
 "cells": [
  {
   "cell_type": "code",
   "execution_count": 1,
   "metadata": {
    "ExecuteTime": {
     "end_time": "2021-02-12T02:43:36.426631Z",
     "start_time": "2021-02-12T02:43:36.415973Z"
    }
   },
   "outputs": [],
   "source": [
    "version = 'v5_1'"
   ]
  },
  {
   "cell_type": "markdown",
   "metadata": {},
   "source": [
    "### Imports"
   ]
  },
  {
   "cell_type": "code",
   "execution_count": 2,
   "metadata": {
    "ExecuteTime": {
     "end_time": "2021-02-12T02:43:47.702811Z",
     "start_time": "2021-02-12T02:43:36.438820Z"
    }
   },
   "outputs": [
    {
     "name": "stdout",
     "output_type": "stream",
     "text": [
      "Welcome to JupyROOT 6.12/07\n"
     ]
    }
   ],
   "source": [
    "import numpy as np\n",
    "import pandas as pd\n",
    "import scipy.stats as sps\n",
    "from glob import glob\n",
    "import pickle, re\n",
    "import time\n",
    "from array import array\n",
    "from scipy.interpolate import interp1d\n",
    "import multiprocessing\n",
    "import matplotlib.pyplot as plt\n",
    "import uproot as ur\n",
    "import ROOT as rt\n",
    "import root_numpy as rtnp\n",
    "import ROOT.RooFit as rf\n",
    "from scipy.special import erf\n",
    "import sys, os\n",
    "import itertools\n",
    "sys.path.append('../lib')\n",
    "if os.environ['CMSSW_VERSION'] != 'CMSSW_10_2_3':\n",
    "    raise\n",
    "from histo_utilities import create_TH1D, create_TH2D, std_color_list, SetMaxToMaxHist, make_ratio_plot\n",
    "from cebefo_style import Set_2D_colz_graphics\n",
    "from progressBar import ProgressBar\n",
    "\n",
    "from analysis_utilities import drawOnCMSCanvas, extarct, extarct_multiple, createSel\n",
    "from lumi_utilities import getLumiByTrigger\n",
    "\n",
    "import CMS_lumi, tdrstyle\n",
    "tdrstyle.setTDRStyle()\n",
    "CMS_lumi.writeExtraText = 1\n",
    "CMS_lumi.extraText = \"     Internal\"\n",
    "\n",
    "donotdelete = []"
   ]
  },
  {
   "cell_type": "code",
   "execution_count": 3,
   "metadata": {
    "ExecuteTime": {
     "end_time": "2021-02-12T02:43:47.823520Z",
     "start_time": "2021-02-12T02:43:47.710216Z"
    }
   },
   "outputs": [],
   "source": [
    "rt.gErrorIgnoreLevel = rt.kError\n",
    "rt.RooMsgService.instance().setGlobalKillBelow(rt.RooFit.ERROR)"
   ]
  },
  {
   "cell_type": "code",
   "execution_count": 4,
   "metadata": {
    "ExecuteTime": {
     "end_time": "2021-02-12T02:43:47.888614Z",
     "start_time": "2021-02-12T02:43:47.828374Z"
    }
   },
   "outputs": [],
   "source": [
    "cl = rt.TLine()\n",
    "cl.SetLineColor(6)\n",
    "cl.SetLineStyle(9)\n",
    "cl.SetLineWidth(2)"
   ]
  },
  {
   "cell_type": "code",
   "execution_count": 5,
   "metadata": {
    "ExecuteTime": {
     "end_time": "2021-02-12T02:43:47.922085Z",
     "start_time": "2021-02-12T02:43:47.894855Z"
    }
   },
   "outputs": [],
   "source": [
    "colors = [rt.kBlack, rt.kAzure+1, rt.kRed-4, rt.kGreen+1, rt.kViolet-7]"
   ]
  },
  {
   "cell_type": "markdown",
   "metadata": {},
   "source": [
    "# Load data"
   ]
  },
  {
   "cell_type": "code",
   "execution_count": 6,
   "metadata": {
    "ExecuteTime": {
     "end_time": "2021-02-12T02:43:47.963004Z",
     "start_time": "2021-02-12T02:43:47.927140Z"
    }
   },
   "outputs": [],
   "source": [
    "branchesToLoad = ['mTag_pt', 'mTag_eta', 'mTag_phi',\n",
    "                  'mProbe_pt', 'mProbe_eta', 'mProbe_phi', 'mProbe_sigdxy', 'mProbe_softID',\n",
    "                  'mProbe_HLT_Mu7_IP4', 'mProbe_HLT_Mu9_IP6', 'mProbe_HLT_Mu12_IP6',\n",
    "                  'prescaleMu7_IP4', 'prescaleMu9_IP6', 'prescaleMu12_IP6', 'nVtx',\n",
    "                 ]"
   ]
  },
  {
   "cell_type": "code",
   "execution_count": 7,
   "metadata": {
    "ExecuteTime": {
     "end_time": "2021-02-12T02:43:48.006042Z",
     "start_time": "2021-02-12T02:43:47.969570Z"
    }
   },
   "outputs": [],
   "source": [
    "def loadDF(loc, branches):\n",
    "    dfL = []\n",
    "    for l in loc: \n",
    "        print l\n",
    "        dfL.append(pd.DataFrame(rtnp.root2array(l, branches=branches)))\n",
    "    if len(dfL) == 1:\n",
    "        return dfL[0]\n",
    "    else:\n",
    "        return pd.concat(dfL)"
   ]
  },
  {
   "cell_type": "code",
   "execution_count": 8,
   "metadata": {
    "ExecuteTime": {
     "end_time": "2021-02-12T02:46:28.691791Z",
     "start_time": "2021-02-12T02:43:48.011902Z"
    }
   },
   "outputs": [
    {
     "name": "stdout",
     "output_type": "stream",
     "text": [
      "../data/cmsRD/ParkingBPH1/Run2018D-05May2019promptD-v1_RDntuplizer_TagAndProbeTrigger_200607_CAND.root\n",
      "Data probe muons: 157508806\n"
     ]
    }
   ],
   "source": [
    "dataDir = '../data/cmsRD'\n",
    "# RDdsLoc = glob(dataDir + '/ParkingBPH*/Run2018D-05May2019promptD-v1_RDntuplizer_TagAndProbeTrigger_200607_CAND.root')\n",
    "RDdsLoc = glob(dataDir + '/ParkingBPH1/Run2018D-05May2019promptD-v1_RDntuplizer_TagAndProbeTrigger_200607_CAND.root')\n",
    "dfRD = loadDF(RDdsLoc, branchesToLoad)\n",
    "print 'Data probe muons:', dfRD.shape[0]"
   ]
  },
  {
   "cell_type": "code",
   "execution_count": 9,
   "metadata": {
    "ExecuteTime": {
     "end_time": "2021-02-12T02:47:34.633641Z",
     "start_time": "2021-02-12T02:46:28.698050Z"
    }
   },
   "outputs": [
    {
     "name": "stdout",
     "output_type": "stream",
     "text": [
      "../data/cmsMC_private/BP_Tag-Probe_B0_JpsiKst_Hardbbbar_evtgen_HELAMP_PUc0_10-2-3/ntuples_TagAndProbe/merged/out_CAND.root\n",
      "MC probe muons: 57321000\n"
     ]
    }
   ],
   "source": [
    "mcDir = '../data/cmsMC_private/BP_Tag-Probe_B0_JpsiKst_Hardbbbar_evtgen_HELAMP_PUc0_10-2-3'\n",
    "MCdsLoc = glob(mcDir + '/ntuples_TagAndProbe/merged/out_CAND.root')\n",
    "dfMC = loadDF(MCdsLoc, branchesToLoad + ['sfMuonID'])\n",
    "print 'MC probe muons:', dfMC.shape[0]"
   ]
  },
  {
   "cell_type": "code",
   "execution_count": 10,
   "metadata": {
    "ExecuteTime": {
     "end_time": "2021-02-12T02:47:34.684571Z",
     "start_time": "2021-02-12T02:47:34.639076Z"
    },
    "code_folding": [
     0
    ]
   },
   "outputs": [],
   "source": [
    "class pileupReweighter(object):\n",
    "    def __init__(self, mcSkimFile, cat, histoName='hAllNvtx', dataDate='200515'):\n",
    "        loc = '../data/cmsRD/ParkingBPH{}/'+'Run2018D-05May2019promptD-v1_RDntuplizer_PrescaleVertices_{}_CAND.root'.format(dataDate)\n",
    "        fAuxPileupRD = []\n",
    "\n",
    "        hPileupTarget = None\n",
    "\n",
    "        for i in range(1, 6):\n",
    "            fAuxPileupRD.append(rt.TFile.Open(loc.format(i), 'READ'))\n",
    "            if hPileupTarget is None:\n",
    "                hPileupTarget = fAuxPileupRD[-1].Get('nVtx/hNvtxPassed'+cat.trg).Clone()\n",
    "            else:\n",
    "                hPileupTarget.Add(fAuxPileupRD[-1].Get('nVtx/hNvtxPassed'+cat.trg))\n",
    "\n",
    "        hPileupTarget.Scale(1./hPileupTarget.Integral())\n",
    "\n",
    "        fAuxPileupMC = rt.TFile.Open(mcSkimFile, 'READ')\n",
    "        hPileupGen = fAuxPileupMC.Get(histoName)\n",
    "\n",
    "        weights = np.ones(hPileupGen.GetNbinsX())\n",
    "        s = 0\n",
    "        for i in range(weights.shape[0]):\n",
    "            if hPileupGen.GetBinContent(i+1) == 0:\n",
    "                continue\n",
    "            weights[i] = hPileupTarget.GetBinContent(i+1)/(hPileupGen.GetBinContent(i+1)/hPileupGen.Integral())\n",
    "            s += (hPileupGen.GetBinContent(i+1)/hPileupGen.Integral()) * weights[i]\n",
    "\n",
    "        self.weightsPileupMC = weights/s\n",
    "\n",
    "        for f in fAuxPileupRD + [fAuxPileupMC]:\n",
    "            f.Close()\n",
    "\n",
    "    def getPileupWeights(self, arrNvtx, selection=None):\n",
    "        x = arrNvtx\n",
    "        if not selection is None:\n",
    "            x = x[selection]\n",
    "        return self.weightsPileupMC[x.astype(np.int)]"
   ]
  },
  {
   "cell_type": "code",
   "execution_count": 11,
   "metadata": {
    "ExecuteTime": {
     "end_time": "2021-02-12T02:47:40.237888Z",
     "start_time": "2021-02-12T02:47:34.689236Z"
    }
   },
   "outputs": [
    {
     "name": "stdout",
     "output_type": "stream",
     "text": [
      "Mu7_IP4 (102,)\n",
      "Mu7_IP4 (103,)\n",
      "Mu7_IP4 (104,)\n",
      "Mu7_IP4 (105,)\n",
      "Mu7_IP4 (106,)\n",
      "Mu7_IP4 (107,)\n",
      "Mu9_IP6 (102,)\n",
      "Mu9_IP6 (103,)\n",
      "Mu9_IP6 (104,)\n",
      "Mu9_IP6 (105,)\n",
      "Mu9_IP6 (106,)\n",
      "Mu9_IP6 (107,)\n",
      "Mu12_IP6 (102,)\n",
      "Mu12_IP6 (103,)\n",
      "Mu12_IP6 (104,)\n",
      "Mu12_IP6 (105,)\n",
      "Mu12_IP6 (106,)\n",
      "Mu12_IP6 (107,)\n"
     ]
    }
   ],
   "source": [
    "class Bauble(object):\n",
    "    pass\n",
    "\n",
    "for trg in ['Mu7_IP4', 'Mu9_IP6', 'Mu12_IP6']:\n",
    "    aux = Bauble()\n",
    "    aux.trg = trg\n",
    "    puRew = pileupReweighter(MCdsLoc[0], aux, histoName='TnP/hAllNvts')\n",
    "    nMax = np.max(dfMC['nVtx'])\n",
    "    while nMax > (puRew.weightsPileupMC.shape[0] - 1):\n",
    "        puRew.weightsPileupMC = np.append(puRew.weightsPileupMC, puRew.weightsPileupMC[-1])\n",
    "        print trg, puRew.weightsPileupMC.shape\n",
    "    dfMC['w'+trg] = puRew.weightsPileupMC[dfMC['nVtx'].astype(np.int)]"
   ]
  },
  {
   "cell_type": "code",
   "execution_count": 12,
   "metadata": {
    "ExecuteTime": {
     "end_time": "2021-02-12T02:47:40.261673Z",
     "start_time": "2021-02-12T02:47:40.242808Z"
    },
    "hide_input": true
   },
   "outputs": [],
   "source": [
    "# trg = 'Mu12_IP6'\n",
    "\n",
    "# h_list = []\n",
    "# sel = dfRD['prescale'+trg] > 0.5\n",
    "# h = create_TH1D(dfRD['nVtx'][sel], name='h',\n",
    "#                 title='Data',\n",
    "#                 axis_title=['# vertextes', 'Normalized Events'],\n",
    "#                 binning=[60, 0.5, 60.5],\n",
    "#                )\n",
    "# h_list.append(h)\n",
    "\n",
    "# sel = dfMC['prescale'+trg] > 0.5\n",
    "# h = create_TH1D(dfMC['nVtx'][sel], name='h2', title='MC PUc0', \n",
    "#                 weights=dfMC['w'+trg],\n",
    "#                 binning=h_list[0].binning)\n",
    "# h_list.append(h)\n",
    "\n",
    "# leg = rt.TLegend(0.77, 0.75, 0.95, 0.93)\n",
    "# leg.SetBorderSize(0)\n",
    "# for i, h in enumerate(h_list):\n",
    "#     h.SetLineColor(colors[i])\n",
    "#     h.SetMarkerColor(colors[i])\n",
    "#     h.Sumw2()\n",
    "#     h.Scale(1./h.Integral())\n",
    "#     leg.AddEntry(h, h.GetTitle(), 'lep')\n",
    "# m = SetMaxToMaxHist(h_list)\n",
    "# h_list[0].SetTitle('')\n",
    "\n",
    "# c = drawOnCMSCanvas(CMS_lumi, h_list, 'same')\n",
    "# leg.Draw()\n",
    "# c.Draw()"
   ]
  },
  {
   "cell_type": "markdown",
   "metadata": {},
   "source": [
    "Explore kinematic distribution to choose a binning"
   ]
  },
  {
   "cell_type": "code",
   "execution_count": 13,
   "metadata": {
    "ExecuteTime": {
     "end_time": "2021-02-12T02:47:40.301429Z",
     "start_time": "2021-02-12T02:47:40.265888Z"
    },
    "code_folding": [],
    "hide_input": true
   },
   "outputs": [],
   "source": [
    "def plot(var, binning, xtitle, logx=False, logy=False):\n",
    "    h_list = []\n",
    "    h = create_TH1D(dfRD[var], name='h',\n",
    "                    title='Data',\n",
    "                    axis_title=[xtitle, 'Normalized Events'],\n",
    "                    binning=binning\n",
    "                   )\n",
    "    h_list.append(h)\n",
    "\n",
    "    h = create_TH1D(dfMC[var], name='h2', title='MC PUc0', binning=h_list[0].binning)\n",
    "    h_list.append(h)\n",
    "\n",
    "    leg = rt.TLegend(0.77, 0.75, 0.95, 0.93)\n",
    "    leg.SetBorderSize(0)\n",
    "    for i, h in enumerate(h_list):\n",
    "        h.SetLineColor(colors[i])\n",
    "        h.SetMarkerColor(colors[i])\n",
    "        h.Sumw2()\n",
    "        h.Scale(1./h.Integral())\n",
    "        leg.AddEntry(h, h.GetTitle(), 'lep')\n",
    "    m = SetMaxToMaxHist(h_list)\n",
    "    h_list[0].SetTitle('')\n",
    "\n",
    "    c = drawOnCMSCanvas(CMS_lumi, h_list, 'same')\n",
    "    leg.Draw()\n",
    "    c.Draw()\n",
    "    if logy:\n",
    "        c.SetLogy()\n",
    "    if logx:\n",
    "        c.SetLogx()\n",
    "    return [c, leg, h_list]"
   ]
  },
  {
   "cell_type": "code",
   "execution_count": 14,
   "metadata": {
    "ExecuteTime": {
     "end_time": "2021-02-12T02:47:52.121824Z",
     "start_time": "2021-02-12T02:47:40.305327Z"
    }
   },
   "outputs": [
    {
     "data": {
      "image/png": "[encoded data removed]",
      "text/plain": [
       "<IPython.core.display.Image object>"
      ]
     },
     "metadata": {},
     "output_type": "display_data"
    }
   ],
   "source": [
    "plot('mProbe_pt', np.linspace(start=6, stop=30, num=50), 'Probe #mu p_{T} [GeV]', logx=False, logy=False);"
   ]
  },
  {
   "cell_type": "code",
   "execution_count": 15,
   "metadata": {
    "ExecuteTime": {
     "end_time": "2021-02-12T02:48:04.655654Z",
     "start_time": "2021-02-12T02:47:52.126308Z"
    }
   },
   "outputs": [
    {
     "data": {
      "image/png": "[encoded data removed]",
      "text/plain": [
       "<IPython.core.display.Image object>"
      ]
     },
     "metadata": {},
     "output_type": "display_data"
    }
   ],
   "source": [
    "plot('mProbe_sigdxy', np.logspace(start=-1, stop=3, num=50), 'Probe #mu d_{xy}/#sigma_{d_{xy}}', logx=True, logy=False);"
   ]
  },
  {
   "cell_type": "code",
   "execution_count": 16,
   "metadata": {
    "ExecuteTime": {
     "end_time": "2021-02-12T02:48:19.578584Z",
     "start_time": "2021-02-12T02:48:04.660320Z"
    }
   },
   "outputs": [
    {
     "data": {
      "text/plain": [
       "[<ROOT.TCanvas object (\"c\") at 0xc01f350>,\n",
       " <ROOT.TLegend object (\"TPave\") at 0xc01bae0>,\n",
       " [<ROOT.TH1D object (\"h\") at 0xc029b60>,\n",
       "  <ROOT.TH1D object (\"h2\") at 0xc026a00>]]"
      ]
     },
     "execution_count": 16,
     "metadata": {},
     "output_type": "execute_result"
    },
    {
     "data": {
      "image/png": "[encoded data removed]",
      "text/plain": [
       "<IPython.core.display.Image object>"
      ]
     },
     "metadata": {},
     "output_type": "display_data"
    }
   ],
   "source": [
    "plot('mProbe_eta', np.linspace(start=-2, stop=2, num=100), 'Probe #mu #eta', logx=False, logy=False)"
   ]
  },
  {
   "cell_type": "code",
   "execution_count": 19,
   "metadata": {
    "ExecuteTime": {
     "end_time": "2021-02-12T02:51:04.530302Z",
     "start_time": "2021-02-12T02:50:48.047804Z"
    }
   },
   "outputs": [],
   "source": [
    "for d in [dfRD, dfMC]:\n",
    "    if not 'deltaR_tagProbe' in d.columns:\n",
    "        dphi = d['mTag_phi'] - d['mProbe_phi']\n",
    "        dphi = np.where(np.abs(dphi) > np.pi, dphi - np.sign(dphi)*2*np.pi, dphi)\n",
    "        d['deltaR_tagProbe'] = np.hypot(dphi, d['mTag_eta'] - d['mProbe_eta'])"
   ]
  },
  {
   "cell_type": "code",
   "execution_count": 20,
   "metadata": {
    "ExecuteTime": {
     "end_time": "2021-02-12T02:53:35.351822Z",
     "start_time": "2021-02-12T02:53:22.972159Z"
    }
   },
   "outputs": [
    {
     "data": {
      "image/png": "[encoded data removed]",
      "text/plain": [
       "<IPython.core.display.Image object>"
      ]
     },
     "metadata": {},
     "output_type": "display_data"
    }
   ],
   "source": [
    "plot('deltaR_tagProbe', \n",
    "     np.linspace(start=0, stop=4, num=100), \n",
    "#      np.logspace(start=-2, stop=np.log10(4), num=100), \n",
    "     '#Delta R (#mu tag, #mu probe)', logx=False, logy=False);"
   ]
  },
  {
   "cell_type": "markdown",
   "metadata": {},
   "source": [
    "# Efficiency functions"
   ]
  },
  {
   "cell_type": "code",
   "execution_count": 21,
   "metadata": {
    "ExecuteTime": {
     "end_time": "2021-02-12T02:53:52.999645Z",
     "start_time": "2021-02-12T02:53:52.914317Z"
    }
   },
   "outputs": [],
   "source": [
    "def analyzeBin(idx, reloadDf=False, verbose=False):\n",
    "    df = dfToUse\n",
    "    print idx, 'started'\n",
    "    if reloadDf:\n",
    "        raise\n",
    "    psCut = []\n",
    "    lim = {}\n",
    "    selTot = None\n",
    "    st = time.time()\n",
    "    for n, i in idx.iteritems():\n",
    "        lim[n] = [binning[n][i], binning[n][i+1]]\n",
    "        if n=='eta':\n",
    "            aux = np.abs(df['mProbe_'+n])\n",
    "            sel = np.logical_and(aux > lim[n][0], aux < lim[n][1])\n",
    "        else:\n",
    "            sel = np.logical_and(df['mProbe_'+n] > lim[n][0], df['mProbe_'+n] < lim[n][1])\n",
    "        if selTot is None:\n",
    "            selTot = sel\n",
    "        else:\n",
    "            selTot = np.logical_and(sel, selTot)\n",
    "    selTot = np.logical_and(selTot, df['prescale'+probeTrigger[4:]] > 0)\n",
    "    selTot = np.logical_and(selTot, df['mProbe_softID'] > 0.5)\n",
    "    selTot = np.logical_and(selTot, df['deltaR_TagProbe'] > 0.35)\n",
    "\n",
    "    if verbose: \n",
    "        print ' --- Total ---'\n",
    "    st = time.time()\n",
    "    if dataset == 'RD':\n",
    "        nSigTot = np.sum(selTot)\n",
    "    else:\n",
    "        nSigTot = np.sum(df['w'][selTot])\n",
    "    if verbose: \n",
    "        print 'Time: {:.1f} s'.format(time.time()-st)\n",
    "        print ' --- Passed ---'\n",
    "    st = time.time()\n",
    "    selTot = np.logical_and(selTot, df['mProbe_' + probeTrigger] == 1)\n",
    "    if dataset == 'RD':\n",
    "        nSigPass = np.sum(selTot)\n",
    "    else:\n",
    "        nSigPass = np.sum(df['w'][selTot])\n",
    "    \n",
    "    if verbose: \n",
    "        print 'Time: {:.1f} s'.format(time.time()-st)\n",
    "    print idx, 'done'\n",
    "    return idx, nSigTot, nSigPass"
   ]
  },
  {
   "cell_type": "markdown",
   "metadata": {},
   "source": [
    "# Run the fit in each bin"
   ]
  },
  {
   "cell_type": "code",
   "execution_count": 32,
   "metadata": {
    "ExecuteTime": {
     "end_time": "2021-02-12T04:13:17.380760Z",
     "start_time": "2021-02-12T04:13:17.366814Z"
    }
   },
   "outputs": [],
   "source": [
    "dataset = 'MC'\n",
    "if dataset == 'RD':\n",
    "    CMS_lumi.extraText = \"     Internal\"\n",
    "    dfToUse = dfRD\n",
    "elif dataset == 'MC':\n",
    "    CMS_lumi.extraText = \"     Simulation Internal\"\n",
    "    dfToUse = dfMC"
   ]
  },
  {
   "cell_type": "code",
   "execution_count": 33,
   "metadata": {
    "ExecuteTime": {
     "end_time": "2021-02-12T04:24:45.529357Z",
     "start_time": "2021-02-12T04:24:45.518719Z"
    }
   },
   "outputs": [],
   "source": [
    "# probeTrigger = 'HLT_Mu7_IP4'\n",
    "# binning = {'pt': array('d', [5.5, 6.5, 7, 7.1, 7.2, 7.3, 7.6, 8, 9, 9.2, 10, 12, 14]),\n",
    "#            'eta': array('d', [0, 0.4, 0.8, 1.5]),\n",
    "#            'sigdxy': array('d', [4, 5, 5.5 6, 10, 20, 200])\n",
    "#           }\n",
    "\n",
    "# probeTrigger = 'HLT_Mu9_IP6'\n",
    "# binning = {'pt': array('d', [8.5, 9, 9.1, 9.2, 9.3, 9.6, 10.2, 11, 12, 12.2, 14]),\n",
    "#            'eta': array('d', [0, 0.4, 0.8, 1.5]),\n",
    "#            'sigdxy': array('d', [4, 6, 7, 7.5, 8, 10, 20, 200])\n",
    "#           }\n",
    "\n",
    "probeTrigger = 'HLT_Mu12_IP6'\n",
    "binning = {'pt': array('d', [11, 12, 12.1, 12.2, 12.3, 12.6, 13, 14, 16, 18, 20, 22, 25, 28, 35, 50, 80, 200]),\n",
    "           'eta': array('d', [0, 0.4, 0.8, 1.5]),\n",
    "           'sigdxy': array('d', [4, 6, 7, 7.5, 8, 10, 20, 200])\n",
    "          }"
   ]
  },
  {
   "cell_type": "code",
   "execution_count": 34,
   "metadata": {
    "ExecuteTime": {
     "end_time": "2021-02-12T04:36:08.697335Z",
     "start_time": "2021-02-12T04:36:07.272465Z"
    }
   },
   "outputs": [],
   "source": [
    "dfMC['w'] = dfMC['sfMuonID']*dfMC['w'+probeTrigger[4:]]\n",
    "\n",
    "h2 = {}\n",
    "for var, cat in itertools.product(['N', 'Chi2'], ['tot', 'pass']):\n",
    "    h2[var+cat] = rt.TH3D('h2'+var+cat, '', \n",
    "                          len(binning['pt'])-1, binning['pt'], \n",
    "                          len(binning['sigdxy'])-1, binning['sigdxy'], \n",
    "                          len(binning['eta'])-1, binning['eta'],)"
   ]
  },
  {
   "cell_type": "code",
   "execution_count": 35,
   "metadata": {
    "ExecuteTime": {
     "end_time": "2021-02-12T04:48:22.423997Z",
     "start_time": "2021-02-12T04:48:20.426555Z"
    },
    "scrolled": true
   },
   "outputs": [
    {
     "name": "stdout",
     "output_type": "stream",
     "text": [
      "{'eta': 0, 'sigdxy': 2, 'pt': 2} started\n"
     ]
    },
    {
     "ename": "KeyError",
     "evalue": "'deltaR_TagProbe'",
     "output_type": "error",
     "traceback": [
      "\u001b[0;31m\u001b[0m",
      "\u001b[0;31mKeyError\u001b[0mTraceback (most recent call last)",
      "\u001b[0;32m<ipython-input-35-906cac2cd987>\u001b[0m in \u001b[0;36m<module>\u001b[0;34m()\u001b[0m\n\u001b[1;32m      1\u001b[0m \u001b[0mstart\u001b[0m \u001b[0;34m=\u001b[0m \u001b[0mtime\u001b[0m\u001b[0;34m.\u001b[0m\u001b[0mtime\u001b[0m\u001b[0;34m(\u001b[0m\u001b[0;34m)\u001b[0m\u001b[0;34m\u001b[0m\u001b[0m\n\u001b[0;32m----> 2\u001b[0;31m \u001b[0mtestOutput\u001b[0m \u001b[0;34m=\u001b[0m \u001b[0manalyzeBin\u001b[0m\u001b[0;34m(\u001b[0m\u001b[0;34m{\u001b[0m\u001b[0;34m'pt'\u001b[0m\u001b[0;34m:\u001b[0m \u001b[0;36m2\u001b[0m\u001b[0;34m,\u001b[0m \u001b[0;34m'sigdxy'\u001b[0m\u001b[0;34m:\u001b[0m\u001b[0;36m2\u001b[0m\u001b[0;34m,\u001b[0m \u001b[0;34m'eta'\u001b[0m\u001b[0;34m:\u001b[0m\u001b[0;36m0\u001b[0m\u001b[0;34m}\u001b[0m\u001b[0;34m,\u001b[0m \u001b[0mverbose\u001b[0m\u001b[0;34m=\u001b[0m\u001b[0mTrue\u001b[0m\u001b[0;34m)\u001b[0m\u001b[0;34m\u001b[0m\u001b[0m\n\u001b[0m\u001b[1;32m      3\u001b[0m \u001b[0;32mprint\u001b[0m \u001b[0mtestOutput\u001b[0m\u001b[0;34m\u001b[0m\u001b[0m\n\u001b[1;32m      4\u001b[0m \u001b[0;32mprint\u001b[0m \u001b[0;34m'Total time: {:.1f} mins'\u001b[0m\u001b[0;34m.\u001b[0m\u001b[0mformat\u001b[0m\u001b[0;34m(\u001b[0m\u001b[0;34m(\u001b[0m\u001b[0mtime\u001b[0m\u001b[0;34m.\u001b[0m\u001b[0mtime\u001b[0m\u001b[0;34m(\u001b[0m\u001b[0;34m)\u001b[0m \u001b[0;34m-\u001b[0m \u001b[0mstart\u001b[0m\u001b[0;34m)\u001b[0m\u001b[0;34m/\u001b[0m\u001b[0;36m60.\u001b[0m\u001b[0;34m)\u001b[0m\u001b[0;34m\u001b[0m\u001b[0m\n",
      "\u001b[0;32m<ipython-input-21-8908b694591d>\u001b[0m in \u001b[0;36manalyzeBin\u001b[0;34m(idx, reloadDf, verbose)\u001b[0m\n\u001b[1;32m     21\u001b[0m     \u001b[0mselTot\u001b[0m \u001b[0;34m=\u001b[0m \u001b[0mnp\u001b[0m\u001b[0;34m.\u001b[0m\u001b[0mlogical_and\u001b[0m\u001b[0;34m(\u001b[0m\u001b[0mselTot\u001b[0m\u001b[0;34m,\u001b[0m \u001b[0mdf\u001b[0m\u001b[0;34m[\u001b[0m\u001b[0;34m'prescale'\u001b[0m\u001b[0;34m+\u001b[0m\u001b[0mprobeTrigger\u001b[0m\u001b[0;34m[\u001b[0m\u001b[0;36m4\u001b[0m\u001b[0;34m:\u001b[0m\u001b[0;34m]\u001b[0m\u001b[0;34m]\u001b[0m \u001b[0;34m>\u001b[0m \u001b[0;36m0\u001b[0m\u001b[0;34m)\u001b[0m\u001b[0;34m\u001b[0m\u001b[0m\n\u001b[1;32m     22\u001b[0m     \u001b[0mselTot\u001b[0m \u001b[0;34m=\u001b[0m \u001b[0mnp\u001b[0m\u001b[0;34m.\u001b[0m\u001b[0mlogical_and\u001b[0m\u001b[0;34m(\u001b[0m\u001b[0mselTot\u001b[0m\u001b[0;34m,\u001b[0m \u001b[0mdf\u001b[0m\u001b[0;34m[\u001b[0m\u001b[0;34m'mProbe_softID'\u001b[0m\u001b[0;34m]\u001b[0m \u001b[0;34m>\u001b[0m \u001b[0;36m0.5\u001b[0m\u001b[0;34m)\u001b[0m\u001b[0;34m\u001b[0m\u001b[0m\n\u001b[0;32m---> 23\u001b[0;31m     \u001b[0mselTot\u001b[0m \u001b[0;34m=\u001b[0m \u001b[0mnp\u001b[0m\u001b[0;34m.\u001b[0m\u001b[0mlogical_and\u001b[0m\u001b[0;34m(\u001b[0m\u001b[0mselTot\u001b[0m\u001b[0;34m,\u001b[0m \u001b[0mdf\u001b[0m\u001b[0;34m[\u001b[0m\u001b[0;34m'deltaR_TagProbe'\u001b[0m\u001b[0;34m]\u001b[0m \u001b[0;34m>\u001b[0m \u001b[0;36m0.35\u001b[0m\u001b[0;34m)\u001b[0m\u001b[0;34m\u001b[0m\u001b[0m\n\u001b[0m\u001b[1;32m     24\u001b[0m \u001b[0;34m\u001b[0m\u001b[0m\n\u001b[1;32m     25\u001b[0m     \u001b[0;32mif\u001b[0m \u001b[0mverbose\u001b[0m\u001b[0;34m:\u001b[0m\u001b[0;34m\u001b[0m\u001b[0m\n",
      "\u001b[0;32m/cvmfs/cms.cern.ch/slc7_amd64_gcc700/external/py2-pandas/0.23.0/lib/python2.7/site-packages/pandas/core/frame.pyc\u001b[0m in \u001b[0;36m__getitem__\u001b[0;34m(self, key)\u001b[0m\n\u001b[1;32m   2683\u001b[0m             \u001b[0;32mreturn\u001b[0m \u001b[0mself\u001b[0m\u001b[0;34m.\u001b[0m\u001b[0m_getitem_multilevel\u001b[0m\u001b[0;34m(\u001b[0m\u001b[0mkey\u001b[0m\u001b[0;34m)\u001b[0m\u001b[0;34m\u001b[0m\u001b[0m\n\u001b[1;32m   2684\u001b[0m         \u001b[0;32melse\u001b[0m\u001b[0;34m:\u001b[0m\u001b[0;34m\u001b[0m\u001b[0m\n\u001b[0;32m-> 2685\u001b[0;31m             \u001b[0;32mreturn\u001b[0m \u001b[0mself\u001b[0m\u001b[0;34m.\u001b[0m\u001b[0m_getitem_column\u001b[0m\u001b[0;34m(\u001b[0m\u001b[0mkey\u001b[0m\u001b[0;34m)\u001b[0m\u001b[0;34m\u001b[0m\u001b[0m\n\u001b[0m\u001b[1;32m   2686\u001b[0m \u001b[0;34m\u001b[0m\u001b[0m\n\u001b[1;32m   2687\u001b[0m     \u001b[0;32mdef\u001b[0m \u001b[0m_getitem_column\u001b[0m\u001b[0;34m(\u001b[0m\u001b[0mself\u001b[0m\u001b[0;34m,\u001b[0m \u001b[0mkey\u001b[0m\u001b[0;34m)\u001b[0m\u001b[0;34m:\u001b[0m\u001b[0;34m\u001b[0m\u001b[0m\n",
      "\u001b[0;32m/cvmfs/cms.cern.ch/slc7_amd64_gcc700/external/py2-pandas/0.23.0/lib/python2.7/site-packages/pandas/core/frame.pyc\u001b[0m in \u001b[0;36m_getitem_column\u001b[0;34m(self, key)\u001b[0m\n\u001b[1;32m   2690\u001b[0m         \u001b[0;31m# get column\u001b[0m\u001b[0;34m\u001b[0m\u001b[0;34m\u001b[0m\u001b[0m\n\u001b[1;32m   2691\u001b[0m         \u001b[0;32mif\u001b[0m \u001b[0mself\u001b[0m\u001b[0;34m.\u001b[0m\u001b[0mcolumns\u001b[0m\u001b[0;34m.\u001b[0m\u001b[0mis_unique\u001b[0m\u001b[0;34m:\u001b[0m\u001b[0;34m\u001b[0m\u001b[0m\n\u001b[0;32m-> 2692\u001b[0;31m             \u001b[0;32mreturn\u001b[0m \u001b[0mself\u001b[0m\u001b[0;34m.\u001b[0m\u001b[0m_get_item_cache\u001b[0m\u001b[0;34m(\u001b[0m\u001b[0mkey\u001b[0m\u001b[0;34m)\u001b[0m\u001b[0;34m\u001b[0m\u001b[0m\n\u001b[0m\u001b[1;32m   2693\u001b[0m \u001b[0;34m\u001b[0m\u001b[0m\n\u001b[1;32m   2694\u001b[0m         \u001b[0;31m# duplicate columns & possible reduce dimensionality\u001b[0m\u001b[0;34m\u001b[0m\u001b[0;34m\u001b[0m\u001b[0m\n",
      "\u001b[0;32m/cvmfs/cms.cern.ch/slc7_amd64_gcc700/external/py2-pandas/0.23.0/lib/python2.7/site-packages/pandas/core/generic.pyc\u001b[0m in \u001b[0;36m_get_item_cache\u001b[0;34m(self, item)\u001b[0m\n\u001b[1;32m   2484\u001b[0m         \u001b[0mres\u001b[0m \u001b[0;34m=\u001b[0m \u001b[0mcache\u001b[0m\u001b[0;34m.\u001b[0m\u001b[0mget\u001b[0m\u001b[0;34m(\u001b[0m\u001b[0mitem\u001b[0m\u001b[0;34m)\u001b[0m\u001b[0;34m\u001b[0m\u001b[0m\n\u001b[1;32m   2485\u001b[0m         \u001b[0;32mif\u001b[0m \u001b[0mres\u001b[0m \u001b[0;32mis\u001b[0m \u001b[0mNone\u001b[0m\u001b[0;34m:\u001b[0m\u001b[0;34m\u001b[0m\u001b[0m\n\u001b[0;32m-> 2486\u001b[0;31m             \u001b[0mvalues\u001b[0m \u001b[0;34m=\u001b[0m \u001b[0mself\u001b[0m\u001b[0;34m.\u001b[0m\u001b[0m_data\u001b[0m\u001b[0;34m.\u001b[0m\u001b[0mget\u001b[0m\u001b[0;34m(\u001b[0m\u001b[0mitem\u001b[0m\u001b[0;34m)\u001b[0m\u001b[0;34m\u001b[0m\u001b[0m\n\u001b[0m\u001b[1;32m   2487\u001b[0m             \u001b[0mres\u001b[0m \u001b[0;34m=\u001b[0m \u001b[0mself\u001b[0m\u001b[0;34m.\u001b[0m\u001b[0m_box_item_values\u001b[0m\u001b[0;34m(\u001b[0m\u001b[0mitem\u001b[0m\u001b[0;34m,\u001b[0m \u001b[0mvalues\u001b[0m\u001b[0;34m)\u001b[0m\u001b[0;34m\u001b[0m\u001b[0m\n\u001b[1;32m   2488\u001b[0m             \u001b[0mcache\u001b[0m\u001b[0;34m[\u001b[0m\u001b[0mitem\u001b[0m\u001b[0;34m]\u001b[0m \u001b[0;34m=\u001b[0m \u001b[0mres\u001b[0m\u001b[0;34m\u001b[0m\u001b[0m\n",
      "\u001b[0;32m/cvmfs/cms.cern.ch/slc7_amd64_gcc700/external/py2-pandas/0.23.0/lib/python2.7/site-packages/pandas/core/internals.pyc\u001b[0m in \u001b[0;36mget\u001b[0;34m(self, item, fastpath)\u001b[0m\n\u001b[1;32m   4113\u001b[0m \u001b[0;34m\u001b[0m\u001b[0m\n\u001b[1;32m   4114\u001b[0m             \u001b[0;32mif\u001b[0m \u001b[0;32mnot\u001b[0m \u001b[0misna\u001b[0m\u001b[0;34m(\u001b[0m\u001b[0mitem\u001b[0m\u001b[0;34m)\u001b[0m\u001b[0;34m:\u001b[0m\u001b[0;34m\u001b[0m\u001b[0m\n\u001b[0;32m-> 4115\u001b[0;31m                 \u001b[0mloc\u001b[0m \u001b[0;34m=\u001b[0m \u001b[0mself\u001b[0m\u001b[0;34m.\u001b[0m\u001b[0mitems\u001b[0m\u001b[0;34m.\u001b[0m\u001b[0mget_loc\u001b[0m\u001b[0;34m(\u001b[0m\u001b[0mitem\u001b[0m\u001b[0;34m)\u001b[0m\u001b[0;34m\u001b[0m\u001b[0m\n\u001b[0m\u001b[1;32m   4116\u001b[0m             \u001b[0;32melse\u001b[0m\u001b[0;34m:\u001b[0m\u001b[0;34m\u001b[0m\u001b[0m\n\u001b[1;32m   4117\u001b[0m                 \u001b[0mindexer\u001b[0m \u001b[0;34m=\u001b[0m \u001b[0mnp\u001b[0m\u001b[0;34m.\u001b[0m\u001b[0marange\u001b[0m\u001b[0;34m(\u001b[0m\u001b[0mlen\u001b[0m\u001b[0;34m(\u001b[0m\u001b[0mself\u001b[0m\u001b[0;34m.\u001b[0m\u001b[0mitems\u001b[0m\u001b[0;34m)\u001b[0m\u001b[0;34m)\u001b[0m\u001b[0;34m[\u001b[0m\u001b[0misna\u001b[0m\u001b[0;34m(\u001b[0m\u001b[0mself\u001b[0m\u001b[0;34m.\u001b[0m\u001b[0mitems\u001b[0m\u001b[0;34m)\u001b[0m\u001b[0;34m]\u001b[0m\u001b[0;34m\u001b[0m\u001b[0m\n",
      "\u001b[0;32m/cvmfs/cms.cern.ch/slc7_amd64_gcc700/external/py2-pandas/0.23.0/lib/python2.7/site-packages/pandas/core/indexes/base.pyc\u001b[0m in \u001b[0;36mget_loc\u001b[0;34m(self, key, method, tolerance)\u001b[0m\n\u001b[1;32m   3063\u001b[0m                 \u001b[0;32mreturn\u001b[0m \u001b[0mself\u001b[0m\u001b[0;34m.\u001b[0m\u001b[0m_engine\u001b[0m\u001b[0;34m.\u001b[0m\u001b[0mget_loc\u001b[0m\u001b[0;34m(\u001b[0m\u001b[0mkey\u001b[0m\u001b[0;34m)\u001b[0m\u001b[0;34m\u001b[0m\u001b[0m\n\u001b[1;32m   3064\u001b[0m             \u001b[0;32mexcept\u001b[0m \u001b[0mKeyError\u001b[0m\u001b[0;34m:\u001b[0m\u001b[0;34m\u001b[0m\u001b[0m\n\u001b[0;32m-> 3065\u001b[0;31m                 \u001b[0;32mreturn\u001b[0m \u001b[0mself\u001b[0m\u001b[0;34m.\u001b[0m\u001b[0m_engine\u001b[0m\u001b[0;34m.\u001b[0m\u001b[0mget_loc\u001b[0m\u001b[0;34m(\u001b[0m\u001b[0mself\u001b[0m\u001b[0;34m.\u001b[0m\u001b[0m_maybe_cast_indexer\u001b[0m\u001b[0;34m(\u001b[0m\u001b[0mkey\u001b[0m\u001b[0;34m)\u001b[0m\u001b[0;34m)\u001b[0m\u001b[0;34m\u001b[0m\u001b[0m\n\u001b[0m\u001b[1;32m   3066\u001b[0m \u001b[0;34m\u001b[0m\u001b[0m\n\u001b[1;32m   3067\u001b[0m         \u001b[0mindexer\u001b[0m \u001b[0;34m=\u001b[0m \u001b[0mself\u001b[0m\u001b[0;34m.\u001b[0m\u001b[0mget_indexer\u001b[0m\u001b[0;34m(\u001b[0m\u001b[0;34m[\u001b[0m\u001b[0mkey\u001b[0m\u001b[0;34m]\u001b[0m\u001b[0;34m,\u001b[0m \u001b[0mmethod\u001b[0m\u001b[0;34m=\u001b[0m\u001b[0mmethod\u001b[0m\u001b[0;34m,\u001b[0m \u001b[0mtolerance\u001b[0m\u001b[0;34m=\u001b[0m\u001b[0mtolerance\u001b[0m\u001b[0;34m)\u001b[0m\u001b[0;34m\u001b[0m\u001b[0m\n",
      "\u001b[0;32mpandas/_libs/index.pyx\u001b[0m in \u001b[0;36mpandas._libs.index.IndexEngine.get_loc\u001b[0;34m()\u001b[0m\n",
      "\u001b[0;32mpandas/_libs/index.pyx\u001b[0m in \u001b[0;36mpandas._libs.index.IndexEngine.get_loc\u001b[0;34m()\u001b[0m\n",
      "\u001b[0;32mpandas/_libs/hashtable_class_helper.pxi\u001b[0m in \u001b[0;36mpandas._libs.hashtable.PyObjectHashTable.get_item\u001b[0;34m()\u001b[0m\n",
      "\u001b[0;32mpandas/_libs/hashtable_class_helper.pxi\u001b[0m in \u001b[0;36mpandas._libs.hashtable.PyObjectHashTable.get_item\u001b[0;34m()\u001b[0m\n",
      "\u001b[0;31mKeyError\u001b[0m: 'deltaR_TagProbe'"
     ]
    }
   ],
   "source": [
    "start = time.time()\n",
    "testOutput = analyzeBin({'pt': 2, 'sigdxy':2, 'eta':0}, verbose=True)\n",
    "print testOutput\n",
    "print 'Total time: {:.1f} mins'.format((time.time() - start)/60.)"
   ]
  },
  {
   "cell_type": "code",
   "execution_count": null,
   "metadata": {
    "ExecuteTime": {
     "end_time": "2021-02-12T04:48:22.446812Z",
     "start_time": "2021-02-12T04:05:01.110Z"
    }
   },
   "outputs": [],
   "source": [
    "inputs = []\n",
    "for ipt in range(len(binning['pt'])-1):\n",
    "    for iip in range(len(binning['sigdxy'])-1):\n",
    "        for ieta in range(len(binning['eta'])-1):\n",
    "            idx = {'pt': ipt, 'sigdxy':iip, 'eta': ieta}\n",
    "            inputs.append(idx)\n",
    "print 'Total bins:', len(inputs)"
   ]
  },
  {
   "cell_type": "code",
   "execution_count": null,
   "metadata": {
    "ExecuteTime": {
     "end_time": "2021-02-12T04:48:22.468857Z",
     "start_time": "2021-02-12T04:05:01.275Z"
    },
    "hide_input": false,
    "scrolled": true
   },
   "outputs": [],
   "source": [
    "multiCpu = True\n",
    "if multiCpu:\n",
    "    N_max = max(1, multiprocessing.cpu_count() - 6)\n",
    "    N_request = min(len(inputs), N_max)\n",
    "    print 'Parallelization factor:', N_request\n",
    "    p = multiprocessing.Pool(N_request)\n",
    "    output = p.map(analyzeBin, inputs)\n",
    "else:\n",
    "    output = []\n",
    "    for i in inputs:\n",
    "        output.append(analyzeBin(i, verbose=True))"
   ]
  },
  {
   "cell_type": "code",
   "execution_count": null,
   "metadata": {
    "ExecuteTime": {
     "end_time": "2021-02-12T04:48:22.491144Z",
     "start_time": "2021-02-12T04:05:01.441Z"
    },
    "hide_input": false,
    "scrolled": true
   },
   "outputs": [],
   "source": [
    "for idx, nSigTot, nSigPass in output:\n",
    "    ip = idx['pt']+1\n",
    "    ii = idx['sigdxy']+1\n",
    "    ie = idx['eta']+1\n",
    "    h2['Ntot'].SetBinContent(ip, ii, ie, nSigTot)\n",
    "    h2['Ntot'].SetBinError(h2['Ntot'].GetBin(ip, ii, ie), np.sqrt(nSigTot))\n",
    "    h2['Npass'].SetBinContent(ip, ii, ie, nSigPass)\n",
    "    h2['Npass'].SetBinError(h2['Npass'].GetBin(ip, ii, ie), np.sqrt(nSigPass))"
   ]
  },
  {
   "cell_type": "code",
   "execution_count": null,
   "metadata": {
    "ExecuteTime": {
     "end_time": "2021-02-12T04:48:22.513434Z",
     "start_time": "2021-02-12T04:05:01.618Z"
    },
    "hide_input": false
   },
   "outputs": [],
   "source": [
    "if not rt.TEfficiency.CheckConsistency(h2['Npass'], h2['Ntot']): raise\n",
    "pEff = rt.TEfficiency(h2['Npass'], h2['Ntot'])\n",
    "pEff.SetStatisticOption(rt.TEfficiency.kFCP)\n",
    "pEff.SetNameTitle('eff_'+probeTrigger, 'Efficience for '+probeTrigger)\n",
    "\n",
    "tf = rt.TFile('../data/calibration/triggerScaleFactors/{}_{}_{}.root'.format(probeTrigger, dataset, version), 'RECREATE')\n",
    "pEff.Write()\n",
    "for h in h2.values():\n",
    "    h.Write()\n",
    "tf.Close()"
   ]
  },
  {
   "cell_type": "code",
   "execution_count": null,
   "metadata": {
    "ExecuteTime": {
     "end_time": "2021-02-12T04:48:22.536343Z",
     "start_time": "2021-02-12T04:05:01.854Z"
    },
    "hide_input": false,
    "scrolled": false
   },
   "outputs": [],
   "source": [
    "outCanvases = []\n",
    "tdrstyle.setTDRStyle()\n",
    "BRY_colors = [rt.kBlack, rt.kGray+1, \n",
    "              rt.kBlue, rt.kAzure+1,\n",
    "              rt.kViolet-7, rt.kMagenta-9, rt.kRed-4, \n",
    "              rt.kOrange-3, rt.kYellow+7, rt.kGreen+1]\n",
    "hRef = h2['Npass']\n",
    "for iz in range(1, hRef.GetNbinsZ()+1):\n",
    "    title = 'Efficiency {} {} ({:.1f} < |#eta| < {:.1f})'.format(probeTrigger, dataset, binning['eta'][iz-1], binning['eta'][iz])\n",
    "    \n",
    "    leg = rt.TLegend(0.7, 0.2, 0.98, 0.5)\n",
    "    leg.SetLineWidth(0)\n",
    "    leg.SetBorderSize(0)\n",
    "    gr2draw = []\n",
    "\n",
    "    for iy in range(1, hRef.GetNbinsY()+1):\n",
    "        gr = rt.TGraphAsymmErrors()\n",
    "        gr.SetName('gr_{}_{}'.format(iy,iz))\n",
    "        for ix in range(1, hRef.GetNbinsX()+1):\n",
    "            idx = pEff.GetGlobalBin(ix, iy, iz)\n",
    "            if iz == 3 and iy==1:\n",
    "                print ix, iy, pEff.GetEfficiency(idx)\n",
    "            x = binning['pt'][ix-1] + 0.5*(binning['pt'][ix] - binning['pt'][ix-1])\n",
    "            gr.SetPoint(ix-1, x, pEff.GetEfficiency(idx))\n",
    "            gr.SetPointError(ix-1, x-binning['pt'][ix-1], binning['pt'][ix]-x, \n",
    "                             pEff.GetEfficiencyErrorLow(idx), pEff.GetEfficiencyErrorUp(idx)\n",
    "                            )\n",
    "        gr.SetLineColor(BRY_colors[iy-1])\n",
    "        gr.SetMarkerColor(BRY_colors[iy-1])\n",
    "        leg.AddEntry(gr, '{:.1f} < IP < {:.1f}'.format(binning['sigdxy'][iy-1], binning['sigdxy'][iy]), 'lep')\n",
    "        gr2draw.append(gr)\n",
    "    \n",
    "    M = 1.2\n",
    "    m = 0\n",
    "    gr2draw[0].GetYaxis().SetRangeUser(m ,M)\n",
    "    c = drawOnCMSCanvas(CMS_lumi, gr2draw, ['AP'] + (len(gr2draw)-1)*['P'], tag='_eff'+str(iz))    \n",
    "    gr2draw[0].GetYaxis().SetTitle('Efficiency')\n",
    "    gr2draw[0].GetXaxis().SetTitle('Muon p_{T} [GeV]')\n",
    "    leg.Draw()\n",
    "#     c.SetLogx()\n",
    "#     c.SetLogy()\n",
    "#     m = 1e-3\n",
    "#     M = 5\n",
    "    gr2draw[0].GetXaxis().SetTitleOffset(1.1)\n",
    "    \n",
    "    trgThr = float(re.search(r'_Mu[0-9]+_', probeTrigger).group(0)[3:-1])\n",
    "    cl.DrawLine(trgThr, m, trgThr, 1)\n",
    "    \n",
    "    l = rt.TLine()\n",
    "    l.SetLineWidth(1)\n",
    "    l.SetLineColor(rt.kGray)\n",
    "    l.SetLineStyle(7)\n",
    "    l.DrawLine(binning['pt'][0], 1, binning['pt'][-1], 1)\n",
    "    \n",
    "    rt.TLatex()\n",
    "    text = rt.TLatex()\n",
    "    text.SetTextAlign(22)\n",
    "    text.SetTextSize(0.04)\n",
    "    text.SetTextFont(42)\n",
    "    text.DrawLatexNDC(0.6, 0.9, title);\n",
    "\n",
    "    imgLoc = '../data/calibration/triggerScaleFactors/figEff/'\n",
    "    c.SaveAs(imgLoc + probeTrigger+ '_' + dataset + '_eta{}_{}.png'.format(iz-1, version))\n",
    "    outCanvases.append([c, gr2draw, leg])"
   ]
  },
  {
   "cell_type": "code",
   "execution_count": null,
   "metadata": {
    "ExecuteTime": {
     "end_time": "2021-02-12T04:48:22.558558Z",
     "start_time": "2021-02-12T04:05:02.709Z"
    }
   },
   "outputs": [],
   "source": [
    "print 'Done'"
   ]
  }
 ],
 "metadata": {
  "kernelspec": {
   "display_name": "Python 2",
   "language": "python",
   "name": "python2"
  },
  "language_info": {
   "codemirror_mode": {
    "name": "ipython",
    "version": 2
   },
   "file_extension": ".py",
   "mimetype": "text/x-python",
   "name": "python",
   "nbconvert_exporter": "python",
   "pygments_lexer": "ipython2",
   "version": "2.7.14+"
  },
  "varInspector": {
   "cols": {
    "lenName": 16,
    "lenType": 16,
    "lenVar": 40
   },
   "kernels_config": {
    "python": {
     "delete_cmd_postfix": "",
     "delete_cmd_prefix": "del ",
     "library": "var_list.py",
     "varRefreshCmd": "print(var_dic_list())"
    },
    "r": {
     "delete_cmd_postfix": ") ",
     "delete_cmd_prefix": "rm(",
     "library": "var_list.r",
     "varRefreshCmd": "cat(var_dic_list()) "
    }
   },
   "types_to_exclude": [
    "module",
    "function",
    "builtin_function_or_method",
    "instance",
    "_Feature"
   ],
   "window_display": false
  }
 },
 "nbformat": 4,
 "nbformat_minor": 2
}
