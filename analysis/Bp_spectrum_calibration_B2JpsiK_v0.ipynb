{
 "cells": [
  {
   "cell_type": "markdown",
   "metadata": {},
   "source": [
    "Unified for all the PT regions"
   ]
  },
  {
   "cell_type": "code",
   "execution_count": 1,
   "metadata": {
    "ExecuteTime": {
     "end_time": "2020-11-23T00:02:02.831490Z",
     "start_time": "2020-11-23T00:02:02.822244Z"
    }
   },
   "outputs": [],
   "source": [
    "from categoriesDef import categories\n",
    "cat = categories['high']"
   ]
  },
  {
   "cell_type": "markdown",
   "metadata": {},
   "source": [
    "### Imports"
   ]
  },
  {
   "cell_type": "code",
   "execution_count": 2,
   "metadata": {
    "ExecuteTime": {
     "end_time": "2020-11-23T00:02:09.473073Z",
     "start_time": "2020-11-23T00:02:02.835815Z"
    }
   },
   "outputs": [
    {
     "name": "stdout",
     "output_type": "stream",
     "text": [
      "Welcome to JupyROOT 6.12/07\n"
     ]
    }
   ],
   "source": [
    "import numpy as np\n",
    "import scipy.stats as sps\n",
    "from glob import glob\n",
    "import pickle, yaml\n",
    "import time\n",
    "from array import array\n",
    "import pandas as pd\n",
    "import matplotlib.pyplot as plt\n",
    "import uproot as ur\n",
    "import ROOT as rt\n",
    "import root_numpy as rtnp\n",
    "import ROOT.RooFit as rf\n",
    "from scipy.special import erf\n",
    "import sys, os\n",
    "sys.path.append('../lib')\n",
    "if os.environ['CMSSW_VERSION'] != 'CMSSW_10_2_3':\n",
    "    raise\n",
    "from histo_utilities import create_TH1D, create_TH2D, std_color_list, SetMaxToMaxHist, make_ratio_plot\n",
    "from cebefo_style import Set_2D_colz_graphics\n",
    "from progressBar import ProgressBar\n",
    "\n",
    "from analysis_utilities import drawOnCMSCanvas, DSetLoader\n",
    "from lumi_utilities import getLumiByTrigger\n",
    "\n",
    "import CMS_lumi, tdrstyle\n",
    "tdrstyle.setTDRStyle()\n",
    "CMS_lumi.writeExtraText = 1\n",
    "CMS_lumi.extraText = \"     Internal\"\n",
    "\n",
    "donotdelete = []"
   ]
  },
  {
   "cell_type": "code",
   "execution_count": 3,
   "metadata": {
    "ExecuteTime": {
     "end_time": "2020-11-23T00:02:09.523613Z",
     "start_time": "2020-11-23T00:02:09.478272Z"
    }
   },
   "outputs": [],
   "source": [
    "rt.gErrorIgnoreLevel = rt.kError\n",
    "rt.RooMsgService.instance().setGlobalKillBelow(rt.RooFit.ERROR)"
   ]
  },
  {
   "cell_type": "code",
   "execution_count": 4,
   "metadata": {
    "ExecuteTime": {
     "end_time": "2020-11-23T00:02:09.915954Z",
     "start_time": "2020-11-23T00:02:09.528394Z"
    }
   },
   "outputs": [],
   "source": [
    "m_B = 5.27929 #1e-3*Particle.from_string('B0').mass"
   ]
  },
  {
   "cell_type": "code",
   "execution_count": 5,
   "metadata": {
    "ExecuteTime": {
     "end_time": "2020-11-23T00:02:09.980432Z",
     "start_time": "2020-11-23T00:02:09.920474Z"
    }
   },
   "outputs": [],
   "source": [
    "cl = rt.TLine()\n",
    "cl.SetLineColor(6)\n",
    "cl.SetLineStyle(9)\n",
    "cl.SetLineWidth(2)"
   ]
  },
  {
   "cell_type": "markdown",
   "metadata": {},
   "source": [
    "# Load data"
   ]
  },
  {
   "cell_type": "code",
   "execution_count": 6,
   "metadata": {
    "ExecuteTime": {
     "end_time": "2020-11-23T00:02:10.040671Z",
     "start_time": "2020-11-23T00:02:09.984969Z"
    }
   },
   "outputs": [
    {
     "name": "stdout",
     "output_type": "stream",
     "text": [
      "Run2018D-05May2019promptD-v1_RDntuplizer_B2JpsiK_201118\n",
      "Lumi brilcalc not found for ../data/cmsRD/ParkingBPH3/Run2018D-05May2019promptD-v1_RDntuplizer_B2JpsiK_201118_CAND.root\n",
      "Run2018D-05May2019promptD-v1_RDntuplizer_B2JpsiK_201118\n",
      "Lumi brilcalc not found for ../data/cmsRD/ParkingBPH2/Run2018D-05May2019promptD-v1_RDntuplizer_B2JpsiK_201118_CAND.root\n",
      "Run2018D-05May2019promptD-v1_RDntuplizer_B2JpsiK_201118\n",
      "Lumi brilcalc not found for ../data/cmsRD/ParkingBPH5/Run2018D-05May2019promptD-v1_RDntuplizer_B2JpsiK_201118_CAND.root\n",
      "Run2018D-05May2019promptD-v1_RDntuplizer_B2JpsiK_201118\n",
      "Lumi brilcalc not found for ../data/cmsRD/ParkingBPH4/Run2018D-05May2019promptD-v1_RDntuplizer_B2JpsiK_201118_CAND.root\n",
      "Run2018D-05May2019promptD-v1_RDntuplizer_B2JpsiK_201118\n",
      "Lumi brilcalc not found for ../data/cmsRD/ParkingBPH1/Run2018D-05May2019promptD-v1_RDntuplizer_B2JpsiK_201118_CAND.root\n",
      "Total lumi: 0.00 fb^-1\n",
      "Total lumi (estimated): 26.0 fb^-1\n"
     ]
    }
   ],
   "source": [
    "dataDir = '../data/cmsRD'\n",
    "datasets_loc = glob(dataDir + '/ParkingBPH*/*2018*B2JpsiK_201118*')\n",
    "lumi_tot = getLumiByTrigger(datasets_loc, cat.trg, verbose=True)\n",
    "if not lumi_tot:\n",
    "    expectedLumi = {'Low':6.4, 'Mid':20., 'High':26.} #fb^-1\n",
    "    lumi_tot = expectedLumi[cat.name]\n",
    "    print 'Total lumi (estimated): {:.1f} fb^-1'.format(lumi_tot)\n",
    "CMS_lumi.integrated_lumi = lumi_tot"
   ]
  },
  {
   "cell_type": "code",
   "execution_count": 7,
   "metadata": {
    "ExecuteTime": {
     "end_time": "2020-11-23T00:02:10.259732Z",
     "start_time": "2020-11-23T00:02:10.046408Z"
    }
   },
   "outputs": [
    {
     "name": "stdout",
     "output_type": "stream",
     "text": [
      "Selected events per fb: 15809\n"
     ]
    }
   ],
   "source": [
    "dsetRD_loc = '../data/cmsRD/skimmed/B2JpsiK_201118_{}_corr.root'.format(cat.name)\n",
    "\n",
    "fRD_skimmed = rt.TFile.Open(dsetRD_loc, 'READ')\n",
    "tRD_skimmed = fRD_skimmed.Get('Tevts')\n",
    "\n",
    "N_sel_per_fb = tRD_skimmed.GetEntries()/lumi_tot\n",
    "print 'Selected events per fb: {:.0f}'.format(N_sel_per_fb)"
   ]
  },
  {
   "cell_type": "markdown",
   "metadata": {},
   "source": [
    "# Analyze data"
   ]
  },
  {
   "cell_type": "markdown",
   "metadata": {},
   "source": [
    "### Fit the whole dataset"
   ]
  },
  {
   "cell_type": "code",
   "execution_count": 8,
   "metadata": {
    "ExecuteTime": {
     "end_time": "2020-11-23T00:02:10.452953Z",
     "start_time": "2020-11-23T00:02:10.264433Z"
    }
   },
   "outputs": [],
   "source": [
    "width = 0.005 #GeV\n",
    "m_min = 5.16\n",
    "h = create_TH1D(np.zeros(0), name='h',\n",
    "                title='',\n",
    "                axis_title=['m(#mu#muK) [GeV]', 'Events'],\n",
    "                binning=np.arange(start=m_min, stop=5.38, step=width)\n",
    "               )\n",
    "tRD_skimmed.Project('h', 'mass_mumuK_cJpsi')\n",
    "h.Sumw2()"
   ]
  },
  {
   "cell_type": "code",
   "execution_count": 9,
   "metadata": {
    "ExecuteTime": {
     "end_time": "2020-11-23T00:02:10.680176Z",
     "start_time": "2020-11-23T00:02:10.457800Z"
    }
   },
   "outputs": [],
   "source": [
    "N = h.GetNbinsX()\n",
    "m_max = h.GetBinCenter(N) +  0.5*h.GetBinWidth(N)\n",
    "mass = rt.RooRealVar('mass_mumuK_cJpsi', 'm_{#mu#muK}', m_min, m_max, 'GeV')\n",
    "\n",
    "mean = rt.RooRealVar('mean', '#mu', m_B, 3, 7, 'GeV')\n",
    "sigmaN = rt.RooRealVar('sigmaN', '#sigma_{N}', 0.01, 0.00005, 0.1, 'GeV') \n",
    "sigmaW = rt.RooRealVar('sigmaW', '#sigma_{W}', 0.03, 0.00005, 0.1, 'GeV') \n",
    "gausN = rt.RooGaussian('gausN','gausN', mass, mean, sigmaN)\n",
    "gausW = rt.RooGaussian('gausW','gausW', mass, mean, sigmaW)\n",
    "fN = rt.RooRealVar('fN', 'f_{N}', 0.5, 0.01, 0.99)\n",
    "pdf_sig = rt.RooAddPdf('dGaus', 'sig pdf', rt.RooArgList(gausN, gausW), rt.RooArgList(fN))\n",
    "\n",
    "# mean = rt.RooRealVar('mean', '#mu', m_B0, 3, 7, 'GeV')\n",
    "# sigma = rt.RooRealVar('sigma', '#sigma', 0.03, 0.00005, 0.1, 'GeV')\n",
    "# pAsym = rt.RooRealVar('pAsym', '#alpha', 0, -1, 1)\n",
    "# # pAsym.setConstant(rt.kTRUE)\n",
    "# rho1 = rt.RooRealVar('rho1', '#rho_{1}', -0.5, -10, 0)\n",
    "# # rho1.setConstant(rt.kTRUE)\n",
    "# rho2 = rt.RooRealVar('rho2', '#rho_{2}', 0.5, 0, 10)\n",
    "# pdf_sig = rt.RooBukinPdf('bukin','sig pdf', mass, mean, sigma, pAsym, rho1, rho2)\n",
    "\n",
    "N_tot = h.Integral(1, h.GetNbinsX())\n",
    "nsig = rt.RooRealVar('nsig', 'N_{S}', 0.9*N_tot, 0, 100*N_tot)\n",
    "pdf_sig_ext = rt.RooExtendPdf('esig', 'esig', pdf_sig, nsig)"
   ]
  },
  {
   "cell_type": "code",
   "execution_count": 10,
   "metadata": {
    "ExecuteTime": {
     "end_time": "2020-11-23T00:02:10.739387Z",
     "start_time": "2020-11-23T00:02:10.684751Z"
    }
   },
   "outputs": [],
   "source": [
    "lam = rt.RooRealVar('lam', '#lambda', -2.1, -100, -0.1, 'GeV^{-1}')\n",
    "pdf_bkg = rt.RooExponential('expo', 'bkg pdf', mass, lam)\n",
    "\n",
    "# a0 = rt.RooRealVar('a0', 'a0', 10, 0, 100)\n",
    "# a1 = rt.RooRealVar('a1', 'a1', -0.1, -10, 100)\n",
    "# a2 = rt.RooRealVar('a2', 'a2', 0.1, -100, 100)\n",
    "# pdf_bkg = rt.RooPolynomial('poly', 'bkg pdf', mass, rt.RooArgList(a1, a2), 1)\n",
    "\n",
    "nbkg = rt.RooRealVar('nbkg', 'N_{B}', 0.1*N_tot, 0, 100*N_tot)\n",
    "pdf_bkg_ext = rt.RooExtendPdf('ebkg', 'ebkg', pdf_bkg, nbkg)"
   ]
  },
  {
   "cell_type": "code",
   "execution_count": 11,
   "metadata": {
    "ExecuteTime": {
     "end_time": "2020-11-23T00:02:11.045881Z",
     "start_time": "2020-11-23T00:02:10.743883Z"
    }
   },
   "outputs": [
    {
     "name": "stdout",
     "output_type": "stream",
     "text": [
      "chi2: 82.9/36 0.000\n",
      "Total: Nsig = 275900, Nbkg = 42974\n",
      "Signal events per fb: 10612\n"
     ]
    }
   ],
   "source": [
    "data = rt.RooDataHist('d', 'data', rt.RooArgList(mass), h)\n",
    "\n",
    "pdf_tot = rt.RooAddPdf('pdftot', 'pdftot', rt.RooArgList(pdf_sig_ext, pdf_bkg_ext))\n",
    "fr = pdf_tot.fitTo(data, rf.PrintLevel(-1), rf.Save())\n",
    "\n",
    "dof = h.GetNbinsX()-fr.floatParsFinal().getSize()\n",
    "chi2 = rt.RooChi2Var(\"chi2\", 'chi2', pdf_tot, data)\n",
    "pval = rt.ROOT.Math.chisquared_cdf_c(chi2.getVal(), dof)\n",
    "print 'chi2: {:.1f}/{:.0f} {:.3f}'.format(chi2.getVal(), dof, pval)\n",
    "\n",
    "print 'Total: Nsig = {:.0f}, Nbkg = {:.0f}'.format(nsig.getVal(), nbkg.getVal())\n",
    "N_sig_per_fb = nsig.getVal()/lumi_tot\n",
    "dN_sig_per_fb = nsig.getError()/lumi_tot\n",
    "print 'Signal events per fb: {:.0f}'.format(N_sig_per_fb)"
   ]
  },
  {
   "cell_type": "code",
   "execution_count": 12,
   "metadata": {
    "ExecuteTime": {
     "end_time": "2020-11-23T00:02:11.555099Z",
     "start_time": "2020-11-23T00:02:11.050396Z"
    },
    "scrolled": false
   },
   "outputs": [
    {
     "data": {
      "image/png": "[encoded data removed]",
      "text/plain": [
       "<IPython.core.display.Image object>"
      ]
     },
     "metadata": {},
     "output_type": "display_data"
    }
   ],
   "source": [
    "frame = mass.frame(rf.Title(\"\"))\n",
    "data.plotOn(frame, rf.MarkerStyle(1), rf.DrawOption('E1'), rf.MarkerColor(h.GetLineColor()), rf.LineColor(h.GetLineColor()), rf.MarkerStyle(15))\n",
    "pdf_tot.plotOn(frame, rf.LineColor(h.GetLineColor()), rf.LineWidth(1))\n",
    "pdf_tot.plotOn(frame, rf.Components('ebkg'), rf.LineColor(rt.kRed), rf.LineWidth(2), rf.LineStyle(7))\n",
    "pdf_tot.plotOn(frame, rf.Components('esig'), rf.LineColor(rt.kBlue), rf.LineWidth(2), rf.LineStyle(7))\n",
    "\n",
    "x_min = h.binning[1] + (h.binning[-1]-h.binning[1])*0.03\n",
    "x_max = h.binning[1] + (h.binning[-1]-h.binning[1])*0.3\n",
    "pTxt = rt.TPaveText(x_min, 0.2*h.GetMaximum(), x_max, h.GetMaximum())\n",
    "pTxt.SetBorderSize(0)\n",
    "pTxt.SetFillStyle(0)\n",
    "pTxt.SetTextAlign(11)\n",
    "pTxt.AddText('#chi^{{2}}: {:.1f}/{:.0f} ({:.2f})'.format(chi2.getVal(), dof, pval))\n",
    "pTxt.AddText('N_{{sig}} = {:.0f} +/- {:.0f}'.format(nsig.getVal(), nsig.getError()))\n",
    "\n",
    "pTxt.AddText('#mu = {:.1f} +/- {:.1f} MeV'.format(1e3*mean.getVal(), 1e3*mean.getError()))\n",
    "pTxt.AddText('#sigma_{{N}} = {:.1f} +/- {:.1f} MeV'.format(1e3*sigmaN.getVal(), 1e3*sigmaN.getError()))\n",
    "pTxt.AddText('#sigma_{{W}} = {:.1f} +/- {:.1f} MeV'.format(1e3*sigmaW.getVal(), 1e3*sigmaW.getError()))\n",
    "pTxt.AddText('f_{{N}} = {:.2f} +/- {:.2f}'.format(fN.getVal(), fN.getError()))\n",
    "\n",
    "# pTxt.AddText('#mu = {:.1f} +/- {:.1f} MeV'.format(1e3*mean.getVal(), 1e3*mean.getError()))\n",
    "# pTxt.AddText('#sigma = {:.1f} +/- {:.1f} MeV'.format(1e3*sigma.getVal(), 1e3*sigma.getError()))\n",
    "# pTxt.AddText('#alpha = {:.3f} +/- {:.3f}'.format(pAsym.getVal(), pAsym.getError()))\n",
    "# pTxt.AddText('#rho_{{1}} = {:.3f} +/- {:.3f}'.format(rho1.getVal(), rho1.getError()))\n",
    "# pTxt.AddText('#rho_{{2}} = {:.3f} +/- {:.3f}'.format(rho2.getVal(), rho2.getError()))\n",
    "\n",
    "catText = rt.TLatex()\n",
    "catText.SetTextAlign(31)\n",
    "catText.SetTextSize(0.06)\n",
    "catText.SetTextFont(42)\n",
    "catText.SetTextSize(0.05)\n",
    "\n",
    "c = drawOnCMSCanvas(CMS_lumi, frame)\n",
    "cl.DrawLine(m_B, 0, m_B, h.GetMaximum());\n",
    "pTxt.Draw()\n",
    "catText.DrawLatexNDC(0.95, 0.85, 'Category: {}'.format(cat.name))\n",
    "c.SaveAs('../data/calibration/Bcharged_pTspectrum/fig/MassMuMuK_data_' + cat.name + '.png')"
   ]
  },
  {
   "cell_type": "markdown",
   "metadata": {},
   "source": [
    "### Make sDataset"
   ]
  },
  {
   "cell_type": "code",
   "execution_count": 13,
   "metadata": {
    "ExecuteTime": {
     "end_time": "2020-11-23T00:02:15.279722Z",
     "start_time": "2020-11-23T00:02:11.560163Z"
    }
   },
   "outputs": [],
   "source": [
    "v_B_pt = rt.RooRealVar('B_pt', 'p_{T}^{(B)}', 0, 500, 'GeV')\n",
    "v_B_eta = rt.RooRealVar('B_eta', '#eta^{(B)}', -3, 3, 'GeV')\n",
    "v_trgMu_pt = rt.RooRealVar('trgMu_pt', '#mu_{trg} p_{T}', 0, 1000, 'GeV')\n",
    "v_N_vtx = rt.RooRealVar('N_vtx', 'N_{vtx}', 0, 1e3)\n",
    "\n",
    "rt.RooAbsData.setDefaultStorageType(rt.RooAbsData.Tree)\n",
    "ds = rt.RooDataSet('ds', 'ds', tRD_skimmed, rt.RooArgSet(mass, v_B_eta, v_B_pt, v_trgMu_pt, v_N_vtx))\n",
    "ds.convertToTreeStore()"
   ]
  },
  {
   "cell_type": "code",
   "execution_count": 14,
   "metadata": {
    "ExecuteTime": {
     "end_time": "2020-11-23T00:02:26.168060Z",
     "start_time": "2020-11-23T00:02:15.285099Z"
    }
   },
   "outputs": [
    {
     "data": {
      "text/plain": [
       "276079.83005087025"
      ]
     },
     "execution_count": 14,
     "metadata": {},
     "output_type": "execute_result"
    }
   ],
   "source": [
    "sData = rt.RooStats.SPlot('sData', 'sData', ds, pdf_tot, rt.RooArgList(nsig, nbkg))\n",
    "sData.GetYieldFromSWeight('nsig_sw')"
   ]
  },
  {
   "cell_type": "code",
   "execution_count": 15,
   "metadata": {
    "ExecuteTime": {
     "end_time": "2020-11-23T00:02:27.240982Z",
     "start_time": "2020-11-23T00:02:26.173654Z"
    }
   },
   "outputs": [],
   "source": [
    "f_sw = rt.TFile(dsetRD_loc.replace('.root', '_sw.root'), 'RECREATE')\n",
    "ds.convertToTreeStore()\n",
    "auxTree = ds.tree()\n",
    "auxTree.Write()\n",
    "f_sw.Close()"
   ]
  },
  {
   "cell_type": "code",
   "execution_count": 16,
   "metadata": {
    "ExecuteTime": {
     "end_time": "2020-11-23T00:02:27.976726Z",
     "start_time": "2020-11-23T00:02:27.246216Z"
    }
   },
   "outputs": [],
   "source": [
    "dfRD = pd.DataFrame(rtnp.root2array(dsetRD_loc.replace('.root', '_sw.root')))\n",
    "dfRD['sigSW'] = dfRD['L_nsig']/(dfRD['L_nsig']+dfRD['L_nbkg'])"
   ]
  },
  {
   "cell_type": "markdown",
   "metadata": {},
   "source": [
    "# Load MC"
   ]
  },
  {
   "cell_type": "code",
   "execution_count": 17,
   "metadata": {
    "ExecuteTime": {
     "end_time": "2020-11-23T00:02:29.769722Z",
     "start_time": "2020-11-23T00:02:27.983291Z"
    }
   },
   "outputs": [],
   "source": [
    "mcSample = DSetLoader('Bp_JpsiK_PUc0', candDir='ntuples_B2JpsiK')\n",
    "dsetMC_loc = mcSample.skimmed_dir + '/{}_corr.root'.format(cat.name)\n",
    "\n",
    "dfMC = pd.DataFrame(rtnp.root2array(dsetMC_loc))"
   ]
  },
  {
   "cell_type": "code",
   "execution_count": 18,
   "metadata": {
    "ExecuteTime": {
     "end_time": "2020-11-23T00:02:29.812424Z",
     "start_time": "2020-11-23T00:02:29.775590Z"
    }
   },
   "outputs": [
    {
     "name": "stdout",
     "output_type": "stream",
     "text": [
      "\n",
      "Expected evts/fb: 1293 +/- 65\n",
      "\n",
      "\n",
      "Ratio with observed: 10612/1293 = 8.20 +/- 0.41\n"
     ]
    }
   ],
   "source": [
    "effMCgen = mcSample.effMCgen\n",
    "decayBR = pickle.load(open('../data/forcedDecayChannelsFactors.pickle', 'rb'))['JPsiK']\n",
    "effCAND = mcSample.effCand['effCAND']\n",
    "effSkim = mcSample.getSkimEff(cat.name+'_corr')\n",
    "\n",
    "xsec_eff = 1\n",
    "dxsec = 0\n",
    "for f, df in [effMCgen['xsec'], effMCgen['effGEN'], decayBR, effCAND, effSkim]:\n",
    "    xsec_eff *= f\n",
    "    dxsec += np.square(df/f)\n",
    "dxsec = xsec_eff * np.sqrt(dxsec)\n",
    "print '\\nExpected evts/fb: {:.0f} +/- {:.0f}'.format(xsec_eff, dxsec)\n",
    "print '\\n'\n",
    "\n",
    "r = N_sig_per_fb/xsec_eff\n",
    "dr = r*np.hypot(dxsec/xsec_eff, dN_sig_per_fb/N_sig_per_fb)\n",
    "print 'Ratio with observed: {:.0f}/{:.0f} = {:.2f} +/- {:.2f}'.format(N_sig_per_fb, xsec_eff, r, dr)"
   ]
  },
  {
   "cell_type": "code",
   "execution_count": 19,
   "metadata": {
    "ExecuteTime": {
     "end_time": "2020-11-23T00:02:30.068688Z",
     "start_time": "2020-11-23T00:02:29.816066Z"
    }
   },
   "outputs": [],
   "source": [
    "from pileup_utilities import pileupReweighter\n",
    "puRew = pileupReweighter(dsetMC_loc, cat)\n",
    "dfMC['wPU'] = puRew.weightsPileupMC[dfMC['N_vtx'].astype(np.int)]"
   ]
  },
  {
   "cell_type": "markdown",
   "metadata": {},
   "source": [
    "# Compare"
   ]
  },
  {
   "cell_type": "markdown",
   "metadata": {},
   "source": [
    "### Closure variables"
   ]
  },
  {
   "cell_type": "code",
   "execution_count": 20,
   "metadata": {
    "ExecuteTime": {
     "end_time": "2020-11-23T00:02:30.295306Z",
     "start_time": "2020-11-23T00:02:30.074221Z"
    }
   },
   "outputs": [
    {
     "data": {
      "image/png": "[encoded data removed]",
      "text/plain": [
       "<IPython.core.display.Image object>"
      ]
     },
     "metadata": {},
     "output_type": "display_data"
    }
   ],
   "source": [
    "hRD = create_TH1D(dfRD['N_vtx'], name='hRD',\n",
    "                title='',\n",
    "                axis_title=['Number of vertexes', 'Normalized entries'],\n",
    "                binning=[50, 0.5, 50.5],\n",
    "                weights=dfRD['sigSW'],\n",
    "                scale_histo='norm'\n",
    "               )\n",
    "hRD.SetMarkerStyle(15)\n",
    "\n",
    "hMC = create_TH1D(dfMC['N_vtx'], name='hMC',\n",
    "                  title = 'Pythia Hard b#bar{b}',\n",
    "                  binning=hRD.binning,\n",
    "                  weights=dfMC['wPU'],\n",
    "                  scale_histo='norm' \n",
    "                 )\n",
    "hMC.SetLineColor(rt.kRed)\n",
    "    \n",
    "leg = rt.TLegend(0.6, 0.6, 0.95,0.8)\n",
    "leg.SetBorderSize(0)\n",
    "leg.AddEntry(hRD, 'Data (bkg subtracted)', 'lep')\n",
    "leg.AddEntry(hMC, 'Pythia Hard b#bar{b}', 'le')\n",
    "\n",
    "CMS_lumi.integrated_lumi = lumi_tot\n",
    "m = SetMaxToMaxHist([hRD, hMC])\n",
    "c = drawOnCMSCanvas(CMS_lumi, [hRD, hMC], 'same')\n",
    "leg.Draw()\n",
    "catText.DrawLatexNDC(0.95, 0.85, 'Category: {}'.format(cat.name));"
   ]
  },
  {
   "cell_type": "markdown",
   "metadata": {},
   "source": [
    "### Load MC corrections"
   ]
  },
  {
   "cell_type": "code",
   "execution_count": null,
   "metadata": {
    "ExecuteTime": {
     "start_time": "2020-11-23T00:02:02.828Z"
    }
   },
   "outputs": [],
   "source": [
    "loc = '../data/calibration/triggerScaleFactors/'\n",
    "fTriggerSF = rt.TFile.Open(loc + 'HLT_' + cat.trg + '_SF_v3.root', 'READ')\n",
    "hTriggerSF = fTriggerSF.Get('hSF_HLT_' + cat.trg)\n",
    "\n",
    "dfMC['trgSF'] = np.ones(dfMC.shape[0])\n",
    "for i, (pt, eta, ip) in enumerate(dfMC[['trgMu_pt', 'trgMu_eta', 'trgMu_sigdxy']].values):\n",
    "    ix = hTriggerSF.GetXaxis().FindBin(pt)\n",
    "    iy = hTriggerSF.GetYaxis().FindBin(ip)\n",
    "    iz = hTriggerSF.GetZaxis().FindBin(np.abs(eta))\n",
    "    dfMC.at[i, 'trgSF'] = hTriggerSF.GetBinContent(ix, iy, iz)"
   ]
  },
  {
   "cell_type": "code",
   "execution_count": null,
   "metadata": {
    "ExecuteTime": {
     "start_time": "2020-11-23T00:02:02.830Z"
    }
   },
   "outputs": [],
   "source": [
    "fMuonIDSF = rt.TFile.Open('../data/calibration/muonIDscaleFactors/Run2018ABCD_SF_MuonID_Jpsi.root', 'READ')\n",
    "hMuonIDSF = fMuonIDSF.Get('NUM_SoftID_DEN_genTracks_pt_abseta')\n",
    "\n",
    "dfMC['muonSF'] = np.ones(dfMC.shape[0])\n",
    "for i, (ptp, etap, ptm, etam) in enumerate(dfMC[['MC_mup_pt', 'MC_mup_eta', 'MC_mum_pt', 'MC_mum_eta']].values):\n",
    "    ix = hMuonIDSF.GetXaxis().FindBin(min(39.9,ptp))\n",
    "    iy = hMuonIDSF.GetYaxis().FindBin(np.abs(etap))\n",
    "    wp = hMuonIDSF.GetBinContent(ix, iy)\n",
    "    ix = hMuonIDSF.GetXaxis().FindBin(min(39.9,ptm))\n",
    "    iy = hMuonIDSF.GetYaxis().FindBin(np.abs(etam))\n",
    "    wm = hMuonIDSF.GetBinContent(ix, iy)\n",
    "    dfMC.at[i, 'muonSF'] = wp * wm"
   ]
  },
  {
   "cell_type": "code",
   "execution_count": null,
   "metadata": {
    "ExecuteTime": {
     "start_time": "2020-11-23T00:02:02.832Z"
    }
   },
   "outputs": [],
   "source": [
    "dfMC['w'] = dfMC['wPU']*dfMC['muonSF']*dfMC['trgSF']"
   ]
  },
  {
   "cell_type": "code",
   "execution_count": null,
   "metadata": {
    "ExecuteTime": {
     "start_time": "2020-11-23T00:02:02.833Z"
    }
   },
   "outputs": [],
   "source": [
    "print 'MC purity: {:.1f}%'.format(100*np.sum(dfMC['MC_idxMatch'] == 1)/float(dfMC['MC_idxMatch'].shape[0]))"
   ]
  },
  {
   "cell_type": "code",
   "execution_count": null,
   "metadata": {
    "ExecuteTime": {
     "start_time": "2020-11-23T00:02:02.835Z"
    },
    "hide_input": false
   },
   "outputs": [],
   "source": [
    "b=[50, 5.15, 5.4]\n",
    "hRD = create_TH1D(dfRD['mass_mumuK_cJpsi'], name='hRD', title='RD',\n",
    "                  weights=dfRD['sigSW'],\n",
    "                  axis_title=['m(#mu#muK) [GeV]', '1/#sigma d#sigma/dm / '+'({:.2f} GeV)'.format((b[2]-b[1])/b[0])],\n",
    "                  binning=b,\n",
    "                  scale_histo='norm',\n",
    "                  opt='overflow+underflow'\n",
    "                 )\n",
    "hRD.SetMarkerStyle(15)\n",
    "\n",
    "hMCbare = create_TH1D(dfMC['mass_mumuK_cJpsi'], name='hMCbare',\n",
    "                  title = 'Pythia Hard b#bar{b}',\n",
    "                  scale_histo='norm', color=1,\n",
    "                  binning=hRD.binning, opt='overflow+underflow')\n",
    "    \n",
    "hMC = create_TH1D(dfMC['mass_mumuK_cJpsi'], name='hMC',\n",
    "                  weights=dfMC['w'],\n",
    "                  scale_histo='norm', color=0,\n",
    "                  binning=hRD.binning, opt='overflow+underflow')\n",
    "\n",
    "leg = rt.TLegend(0.17, 0.75, 0.6,0.93)\n",
    "leg.SetBorderSize(0)\n",
    "leg.SetFillStyle(0)\n",
    "leg.AddEntry(hRD, 'data (bkg subtracted)', 'lep')\n",
    "# leg.AddEntry(hMCbare, 'MC', 'le')\n",
    "leg.AddEntry(hMC, 'B#rightarrow J/#psi K', 'le')\n",
    "\n",
    "CMS_lumi.extraText = 7*' ' + 'Internal'\n",
    "CMS_lumi.integrated_lumi = lumi_tot\n",
    "# c = make_ratio_plot([hRD, hMCbare, hMC], leg_pos=None, ratio_bounds=[0.0,2])\n",
    "c = make_ratio_plot([hRD, hMC], leg_pos=None, ratio_bounds=[0.7,2])\n",
    "c.pad1.SetTopMargin(0.07)\n",
    "CMS_lumi.CMS_lumi(c, -1, 0)\n",
    "c.Draw()\n",
    "catText.DrawLatexNDC(0.95, 0.9, 'Category: {}'.format(cat.name))\n",
    "leg.Draw()\n",
    "c.SaveAs('../data/calibration/Bcharged_pTspectrum/fig/massComaprison_' + cat.name + '.png')"
   ]
  },
  {
   "cell_type": "markdown",
   "metadata": {},
   "source": [
    "### The true B spectrum"
   ]
  },
  {
   "cell_type": "code",
   "execution_count": null,
   "metadata": {
    "ExecuteTime": {
     "start_time": "2020-11-23T00:02:02.838Z"
    },
    "hide_input": false
   },
   "outputs": [],
   "source": [
    "b=[30,-1.8,1.8]\n",
    "binWdith = (b[2] - b[1])/float(b[0])\n",
    "hRD = create_TH1D(dfRD['B_eta'], name='hRD',\n",
    "                  weights=dfRD['nsig_sw'],\n",
    "                  title='data_{sW}',\n",
    "                  axis_title=['B #eta (reco)', \n",
    "                              '1/#sigma d#sigma/d#eta / '+'({:.2f})'.format(binWdith)],\n",
    "                  binning=b,\n",
    "                  scale_histo='norm',\n",
    "                  opt='overflow+underflow'\n",
    "                 )\n",
    "hRD.SetMarkerStyle(15)\n",
    "\n",
    "hMCb = create_TH1D(dfMC['B_eta'], name='hMCb',\n",
    "                  title = 'MC',\n",
    "                  scale_histo='norm', color=1,\n",
    "                  binning=hRD.binning, opt='overflow+underflow')\n",
    "\n",
    "hMC = create_TH1D(dfMC['B_eta'], name='hMC', \n",
    "                  weights=dfMC['w'],\n",
    "#                   title = 'MC (weights)',\n",
    "                  title = 'B#rightarrow J/#psi K',\n",
    "                  scale_histo='norm', color=0,\n",
    "                  binning=hRD.binning, opt='overflow+underflow')\n",
    "\n",
    "CMS_lumi.extraText = '      Internal'\n",
    "c = make_ratio_plot([hRD, hMC], ratio_bounds=[0.7, 2.5], draw_opt='E1')\n",
    "# c = make_ratio_plot([hRD, hMCb, hMC], ratio_bounds=[0.7, 2.5], draw_opt='E1')\n",
    "CMS_lumi.CMS_lumi(c, -1, 0)\n",
    "c.pad1.SetTopMargin(0.07)\n",
    "c.pad1.SetRightMargin(0.035)\n",
    "c.pad2.SetRightMargin(0.035)\n",
    "c.pad2.SetLogy()\n",
    "c.leg.SetY1(0.3)\n",
    "c.leg.SetY2(0.5)\n",
    "c.leg.SetX1(0.35)\n",
    "c.leg.SetX2(0.7)\n",
    "c.Draw()\n",
    "\n",
    "c.pad1.cd()\n",
    "catText.SetTextSize(0.04)\n",
    "catText.DrawLatexNDC(0.9, 0.8, 'Category: {}'.format(cat.name))\n",
    "c.SaveAs('../data/calibration/Bcharged_pTspectrum/fig/B0etaComaprison_' + cat.name + '.png')"
   ]
  },
  {
   "cell_type": "code",
   "execution_count": null,
   "metadata": {
    "ExecuteTime": {
     "start_time": "2020-11-23T00:02:02.840Z"
    },
    "hide_input": true
   },
   "outputs": [],
   "source": [
    "b = {'Low': array('d', list(np.arange(10, 50, 5)) + list(np.arange(50, 80, 10))),\n",
    "     'Mid': array('d', list(np.arange(10, 60, 4)) + list(np.arange(60, 90, 8))),\n",
    "     'High': array('d', list(np.arange(10, 90, 4)) + list(np.arange(90, 120, 15)))\n",
    "    }\n",
    "binWdith = b[cat.name][1] - b[cat.name][0]\n",
    "hRD = create_TH2D(dfRD[['B_pt', 'B_eta']].values, name='hRD_2D',\n",
    "                  weights=dfRD['nsig_sw'],\n",
    "                  title='data_{sW}',\n",
    "                  axis_title=['B p_{T} (reco) [GeV]', 'B #eta (reco)', '1/#sigma d#sigma/dp_{T}d#eta'],\n",
    "                  binning=[b[cat.name], np.arange(-1.8,1.81, 0.3)],\n",
    "                  scale_histo='norm',\n",
    "                 )\n",
    "\n",
    "hMC = create_TH2D(dfMC[['B_pt', 'B_eta']].values, name='hMC_2D',\n",
    "                  weights=dfMC['w'],\n",
    "                  binning=hRD.binning,\n",
    "                  axis_title=['B p_{T} (reco) [GeV]', 'B #eta (reco)', '1/#sigma d#sigma/dp_{T}d#eta'],\n",
    "                  scale_histo='norm',\n",
    "                  )\n",
    "\n",
    "hRatio = hMC.Clone('hRatio')\n",
    "hRatio.Divide(hRD)\n",
    "\n",
    "cc = rt.TCanvas('c2D', 'c2D', 50, 50, 1600, 600)\n",
    "cc.SetTickx(0)\n",
    "cc.SetTicky(0)\n",
    "cc.Divide(3)\n",
    "\n",
    "pad = cc.cd(1)\n",
    "pad.SetRightMargin(0.17)\n",
    "hRD.Draw('colz')\n",
    "\n",
    "pad = cc.cd(2)\n",
    "pad.SetRightMargin(0.17)\n",
    "hMC.Draw('colz')\n",
    "\n",
    "pad = cc.cd(3)\n",
    "pad.SetRightMargin(0.17)\n",
    "hRatio.Draw('colz')\n",
    "rt.gStyle.SetPaintTextFormat('.2f')\n",
    "hRatio.Draw('texte same')\n",
    "pad.SetLogz()\n",
    "\n",
    "cc.Draw()"
   ]
  },
  {
   "cell_type": "code",
   "execution_count": null,
   "metadata": {
    "ExecuteTime": {
     "start_time": "2020-11-23T00:02:02.841Z"
    },
    "hide_input": true
   },
   "outputs": [],
   "source": [
    "b = {'Low': array('d', list(np.arange(10, 50, 2)) + list(np.arange(50, 90, 7))),\n",
    "     'Mid': array('d', list(np.arange(12, 60, 2)) + list(np.arange(60, 100, 5))),\n",
    "     'High': array('d', list(np.arange(18, 90, 2)) + list(np.arange(90, 120, 10)))\n",
    "    }\n",
    "     \n",
    "binWdith = b[cat.name][1] - b[cat.name][0]\n",
    "hRD = create_TH1D(dfRD['B_pt'], name='hRD',\n",
    "                  weights=dfRD['nsig_sw'],\n",
    "                  title='data_{sW}',\n",
    "                  axis_title=['B p_{T} (reco) [GeV]', \n",
    "                              '1/#sigma d#sigma/dp_{T} / '+'({:.2f} GeV)'.format(binWdith)],\n",
    "                  binning=b[cat.name],\n",
    "                  scale_histo='norm',\n",
    "                  opt='overflow+underflow'\n",
    "                 )\n",
    "hRD.SetMarkerStyle(15)\n",
    "\n",
    "hMCb = create_TH1D(dfMC['B_pt'], name='hMCb',\n",
    "                  title = 'B#rightarrow J/#psi K (bare)',\n",
    "                  scale_histo='norm', color=1,\n",
    "                  binning=hRD.binning, opt='overflow+underflow')\n",
    "\n",
    "hMC = create_TH1D(dfMC['B_pt'], name='hMC', \n",
    "                  weights=dfMC['w'],\n",
    "                  title = 'B#rightarrow J/#psi K',\n",
    "                  scale_histo='norm', color=0,\n",
    "                  binning=hRD.binning, opt='overflow+underflow')\n",
    "\n",
    "CMS_lumi.extraText = '      Internal'\n",
    "c = make_ratio_plot([hRD, hMC], ratio_bounds=[0.5, 2.5], draw_opt='E1')\n",
    "# c = make_ratio_plot([hRD, hMCb, hMC], ratio_bounds=[0.5, 10], draw_opt='E1')\n",
    "CMS_lumi.CMS_lumi(c, -1, 0)\n",
    "c.pad1.SetTopMargin(0.07)\n",
    "c.pad1.SetRightMargin(0.035)\n",
    "c.pad2.SetRightMargin(0.035)\n",
    "c.pad2.SetLogy()\n",
    "c.leg.SetY2(0.9)\n",
    "c.leg.SetY1(0.6)\n",
    "c.leg.SetX1(0.6)\n",
    "c.Draw()\n",
    "\n",
    "c.pad1.cd()\n",
    "catText.SetTextSize(0.04)\n",
    "catText.DrawLatexNDC(0.9, 0.5, 'Category: {}'.format(cat.name))\n",
    "c.SaveAs('../data/calibration/Bcharged_pTspectrum/fig/B0pTcomaprison_' + cat.name + '.png')"
   ]
  },
  {
   "cell_type": "code",
   "execution_count": null,
   "metadata": {
    "ExecuteTime": {
     "start_time": "2020-11-23T00:02:02.843Z"
    },
    "hide_input": false
   },
   "outputs": [],
   "source": [
    "uncertainty = 0.3\n",
    "dic = {'pt':[], 'w':[], 'w_err':[], 'wUp':[], 'wDown':[]}\n",
    "\n",
    "def f_arb_1(x, value_at_beg):\n",
    "    center = 0.5*(hRD.binning[-1] + hRD.binning[0])\n",
    "    k = (value_at_beg-1)/(hRD.binning[1] -  center)\n",
    "    return k*(x - center)+1\n",
    "\n",
    "def f_arb_2(x, pivFrac=0.3, lamToEnd=2):\n",
    "    xPiv = pivFrac*(hRD.binning[-1] + hRD.binning[0])\n",
    "    if x <= xPiv:\n",
    "        dx = xPiv - x\n",
    "        lam = (xPiv - hRD.binning[0])/lamToEnd\n",
    "        sf = 1 - np.exp(-dx/lam)\n",
    "        return -sf\n",
    "    elif x > xPiv:\n",
    "        dx = x - xPiv\n",
    "        lam = (hRD.binning[-1] - xPiv)/lamToEnd\n",
    "        sf = 1 - np.exp(-dx/lam)\n",
    "        return sf\n",
    "\n",
    "fout = open('../data/calibration/Bcharged_pTspectrum/pwWeights_{}.txt'.format(cat.name), 'w')\n",
    "fout.write('#'+'\\t'.join(['pt','w', 'w_err', 'wUp', 'wDown'])+'\\n')\n",
    "for ib in range(1, hRD.GetNbinsX()+1):\n",
    "    n = max(0, hRD.GetBinContent(ib))\n",
    "    d = hMC.GetBinContent(ib)\n",
    "    pt = hRD.GetBinCenter(ib)\n",
    "    dic['pt'].append(pt)\n",
    "    if d == 0:\n",
    "        dic['w'].append(1)\n",
    "        dic['w_err'].append(0)\n",
    "        dic['wUp'].append(1)\n",
    "        dic['wDown'].append(1)\n",
    "        continue\n",
    "        \n",
    "    en = 0.\n",
    "    ed = 0.\n",
    "    if n > 0: en = hRD.GetBinError(ib)/n\n",
    "    if d > 0: ed = hMC.GetBinError(ib)/d\n",
    "    r = n/d\n",
    "    dic['w'].append(r)\n",
    "    if en != 0 and ed != 0:\n",
    "        dr = r*np.hypot(en, ed)\n",
    "    elif en == 0:\n",
    "        dr = 0.5\n",
    "    dic['w_err'].append(dr)\n",
    "#     dic['wUp'].append(r * f_arb_1(pt, 1. - uncertainty))\n",
    "#     dic['wDown'].append(r * f_arb_1(pt, 1. + uncertainty))\n",
    "    dic['wUp'].append(max(0, r + dr *f_arb_2(pt)))\n",
    "    dic['wDown'].append(max(0, r - dr * f_arb_2(pt)))\n",
    "    \n",
    "    fout.write('\\t'.join(map(lambda x: '{:.3f}'.format(x), [pt, r, dr, dic['wUp'][-1], dic['wDown'][-1]]))+'\\n')\n",
    "fout.close()"
   ]
  },
  {
   "cell_type": "code",
   "execution_count": null,
   "metadata": {
    "ExecuteTime": {
     "start_time": "2020-11-23T00:02:02.846Z"
    },
    "hide_input": true
   },
   "outputs": [],
   "source": [
    "plt.rcParams.update({'font.size': 20})\n",
    "f = plt.figure(figsize=(8,6))\n",
    "plt.errorbar(dic['pt'], dic['w'], yerr=dic['w_err'], fmt='.', label='Ratio')\n",
    "plt.plot(dic['pt'], dic['wUp'], '.--', label='Up')\n",
    "plt.plot(dic['pt'], dic['wDown'], '.--', label='Down')\n",
    "plt.plot(dic['pt'] , [1]*len(dic['pt']), ':k')\n",
    "plt.legend(loc='best', numpoints=1)\n",
    "plt.xlabel('$B\\ p_T$ [GeV]')\n",
    "plt.ylabel('MC weight')\n",
    "_, ymax = plt.ylim()\n",
    "plt.xlim(0.9*np.min(dic['pt']), 1.1*np.max(dic['pt']))\n",
    "plt.text(0.9*np.max(dic['pt']) ,ymax*0.9, 'Category: ' + cat.name, horizontalalignment='right')\n",
    "# plt.xscale('log')\n",
    "plt.savefig('../data/calibration/Bcharged_pTspectrum/fig/weightsVSpt_' + cat.name + '.png')"
   ]
  },
  {
   "cell_type": "code",
   "execution_count": null,
   "metadata": {
    "ExecuteTime": {
     "start_time": "2020-11-23T00:02:02.848Z"
    },
    "hide_input": false
   },
   "outputs": [],
   "source": [
    "hMC2D = create_TH2D(dfMC[['B_pt', 'MC_B_pt']].values, name='hMC', title='',\n",
    "                axis_title=['B p_{T} (truth) [GeV]', 'B p_{T} (reco) [GeV]', ''],\n",
    "                binning=[50, 10, 100, 50, 10, 100]\n",
    "               )\n",
    "\n",
    "CMS_lumi.extraText = '     Simulation'\n",
    "CMS_lumi.integrated_lumi = None\n",
    "c = drawOnCMSCanvas(CMS_lumi, [hMC2D], ['colz'], mR=0.12)\n",
    "c.SetLogz()"
   ]
  },
  {
   "cell_type": "code",
   "execution_count": null,
   "metadata": {
    "ExecuteTime": {
     "start_time": "2020-11-23T00:02:02.850Z"
    },
    "hide_input": false
   },
   "outputs": [],
   "source": [
    "\n",
    "hMC2D = create_TH2D(np.column_stack((dfMC['MC_B_pt'], dfMC['B_pt'] - dfMC['MC_B_pt'])),\n",
    "                    name='hMC', title='',\n",
    "                    axis_title=['B p_{T} (truth) [GeV]', '#Delta B p_{T} (reco-truth) [GeV]', 'Events'],\n",
    "                    binning=[50, 10, 100, 50, -5, 5],\n",
    "                    weights=dfMC['MC_idxMatch']\n",
    "                   )\n",
    "\n",
    "CMS_lumi.extraText = '     Simulation'\n",
    "CMS_lumi.integrated_lumi = None\n",
    "c = drawOnCMSCanvas(CMS_lumi, [hMC2D], ['colz'], mR=0.12)\n",
    "c.SetLogz()"
   ]
  },
  {
   "cell_type": "code",
   "execution_count": null,
   "metadata": {
    "ExecuteTime": {
     "start_time": "2020-11-23T00:02:02.852Z"
    }
   },
   "outputs": [],
   "source": [
    "from pT_calibration_reader import pTCalReader\n",
    "cal_pT = pTCalReader(calibration_file='../data/calibration/Bcharged_pTspectrum/pwWeights_{}.txt'.format(cat.name))"
   ]
  },
  {
   "cell_type": "code",
   "execution_count": null,
   "metadata": {
    "ExecuteTime": {
     "start_time": "2020-11-23T00:02:02.854Z"
    },
    "hide_input": true
   },
   "outputs": [],
   "source": [
    "h_var = {}\n",
    "colors = [5,6,8]\n",
    "norm = None\n",
    "for k in ['C', 'Up', 'Down']:\n",
    "    h = create_TH1D(dfMC['B_pt'], name='h_var'+k, \n",
    "                    binning=hRD.binning, \n",
    "                    opt='underflow+overflow',\n",
    "                    weights=cal_pT.f[k](dfMC['MC_B_pt'])*dfMC['muonSF']*dfMC['trgSF']*dfMC['wPU'],\n",
    "#                     scale_histo='norm'\n",
    "                   )\n",
    "    if k == 'C':\n",
    "        norm = h.Integral()\n",
    "    h.Scale(1./float(norm))\n",
    "    h_var[k] = h\n",
    "    \n",
    "gr_stat = rt.TGraphAsymmErrors()\n",
    "gr_sys = rt.TGraphAsymmErrors()\n",
    "h_dr = hRD.Clone('h_aux_dataratio')\n",
    "h_mr = hMC.Clone('h_aux_MCratio')\n",
    "g_up = rt.TGraph()\n",
    "g_up.SetPoint(0, hMC.GetBinCenter(1)-0.5*hMC.GetBinWidth(1), 1)\n",
    "g_down = rt.TGraph()\n",
    "g_down.SetPoint(0, hMC.GetBinCenter(1)-0.5*hMC.GetBinWidth(1), 1)\n",
    "for ib in range(1, hRD.GetNbinsX()+1):\n",
    "    x = hRD.GetBinCenter(ib)\n",
    "    y = h_var['C'].GetBinContent(ib)\n",
    "    c = h_dr.GetBinContent(ib)\n",
    "    e = h_dr.GetBinError(ib)\n",
    "    h_dr.SetBinContent(ib, c/y)\n",
    "    h_dr.SetBinError(ib, e/y)\n",
    "    c = h_mr.GetBinContent(ib)\n",
    "    e = h_mr.GetBinError(ib)\n",
    "    h_mr.SetBinContent(ib, c/y)\n",
    "    h_mr.SetBinError(ib, e/y)\n",
    "    gr_stat.SetPoint(ib-1, x, y)\n",
    "    dx = 0.5*hMC.GetBinWidth(ib)\n",
    "    dy = h_var['C'].GetBinError(ib)\n",
    "    gr_stat.SetPointError(ib-1, dx, dx, dy, dy)\n",
    "    \n",
    "    dy_low = max(y-h_var['Up'].GetBinContent(ib), y-h_var['Down'].GetBinContent(ib))\n",
    "    dy_up = max(h_var['Up'].GetBinContent(ib)-y, h_var['Down'].GetBinContent(ib)-y)\n",
    "    gr_sys.SetPoint(ib-1, x, y)\n",
    "    gr_sys.SetPointError(ib-1, dx, dx, dy_low, dy_up)\n",
    "    \n",
    "    x_low = h_dr.GetBinCenter(ib) - 0.5*h_dr.GetBinWidth(ib)\n",
    "    x_up = h_dr.GetBinCenter(ib) + 0.5*h_dr.GetBinWidth(ib)\n",
    "    g_up.SetPoint(2*ib-1, x_low, (y+dy_up)/y)\n",
    "    g_up.SetPoint(2*ib, x_up, (y+dy_up)/y)\n",
    "    g_down.SetPoint(2*ib-1, x_low, (y-dy_low)/y)\n",
    "    g_down.SetPoint(2*ib, x_up, (y-dy_low)/y)\n",
    "g_up.SetPoint(2*ib+1, x_up, 1)\n",
    "g_down.SetPoint(2*ib+1, x_up, 1)\n",
    "gr_stat.SetLineColor(rt.kRed-4)\n",
    "gr_stat.SetLineWidth(2)\n",
    "gr_stat.SetMarkerColor(rt.kRed-4)\n",
    "gr_sys.SetFillColor(rt.kRed-4)\n",
    "gr_sys.SetFillStyle(3005)\n",
    "gr_sys.SetLineWidth(0)\n",
    "    \n",
    "\n",
    "leg = rt.TLegend(0.5, 0.3, 0.93,0.55)\n",
    "leg.SetBorderSize(0)\n",
    "leg.AddEntry(hRD, hRD.GetTitle(), 'lep')\n",
    "leg.AddEntry(hMC, 'B#rightarrow J/#psi K', 'le')\n",
    "leg.AddEntry(gr_stat, 'B#rightarrow J/#psi K (p_{T} weights)', 'lep')\n",
    "leg.AddEntry(gr_sys, 'Weight systematics', 'f')\n",
    "\n",
    "SetMaxToMaxHist([hRD, hMC])\n",
    "c = rt.TCanvas('c', 'c', 50, 50, 800, 700)\n",
    "c.SetTickx(0)\n",
    "c.SetTicky(0)\n",
    "\n",
    "pad = rt.TPad('pmain', 'pmain', 0, 0.25, 1, 1)\n",
    "pad.SetBottomMargin(0.015)\n",
    "pad.SetTopMargin(0.07)\n",
    "pad.SetRightMargin(0.05)\n",
    "pad.SetLeftMargin(0.15)\n",
    "pad.Draw()\n",
    "pad.cd()\n",
    "hRD.Draw()\n",
    "hMC.Draw('same')\n",
    "gr_stat.Draw('p')\n",
    "gr_sys.Draw('2')\n",
    "leg.Draw()\n",
    "catText.DrawLatexNDC(0.9, 0.6, 'Category: {}'.format(cat.name))\n",
    "CMS_lumi.extraText = '     Internal'\n",
    "CMS_lumi.integrated_lumi = lumi_tot\n",
    "CMS_lumi.CMS_lumi(pad, -1, 33, cmsTextSize=0.75*1.2, lumiTextSize=0.6*1.2)\n",
    "\n",
    "c.cd()\n",
    "pad = rt.TPad('ppull', 'ppull', 0, 0, 1, 0.25)\n",
    "pad.SetBottomMargin(0.5)\n",
    "pad.SetTopMargin(0.03)\n",
    "pad.SetRightMargin(0.05)\n",
    "pad.SetLeftMargin(0.15)\n",
    "pad.Draw('same')\n",
    "pad.cd()\n",
    "h_dr.GetYaxis().SetTitle('RD/MC')\n",
    "t = 0.15\n",
    "h_dr.GetYaxis().SetRangeUser(1 - 3*t, 1 + 3*t)\n",
    "h_dr.GetYaxis().SetTitleOffset(0.5)\n",
    "h_dr.GetYaxis().SetTitleSize(0.14)\n",
    "h_dr.GetYaxis().SetLabelSize(0.15)\n",
    "h_dr.GetYaxis().SetNdivisions(-203)\n",
    "h_dr.GetXaxis().SetTitleOffset(0.95)\n",
    "h_dr.GetXaxis().SetTitleSize(0.2)\n",
    "h_dr.GetXaxis().SetLabelSize(0.18)\n",
    "h_dr.GetXaxis().SetTickSize(0.07)\n",
    "h_dr.Draw('E0')\n",
    "h_mr.Draw('sameE0')\n",
    "g_up.SetFillColor(rt.kRed-4)\n",
    "g_up.SetFillStyle(3005)\n",
    "g_up.Draw('F')\n",
    "g_down.SetFillColor(rt.kRed-4)\n",
    "g_down.SetFillStyle(3005)\n",
    "g_down.Draw('F')\n",
    "gh_dr = rt.TGraphErrors()\n",
    "for i in range(1, h_dr.GetNbinsX()+1):\n",
    "    gh_dr.SetPoint(i-1, h_dr.GetBinCenter(i), h_dr.GetBinContent(i))\n",
    "    gh_dr.SetPointError(i-1, h_dr.GetBinError(i))\n",
    "gh_dr.SetLineColor(h_dr.GetLineColor())\n",
    "gh_dr.Draw('P0')\n",
    "ax = h_dr.GetYaxis()\n",
    "ax.ChangeLabel(1, -1, -1, -1, -1, -1, ' ')\n",
    "ax.ChangeLabel(4, -1, -1, -1, -1, -1, ' ')\n",
    "\n",
    "l = rt.TLine()\n",
    "l.SetLineColor(rt.kGray+1)\n",
    "l.SetLineWidth(1)\n",
    "l.SetLineStyle(9)\n",
    "x_low = h_dr.GetBinCenter(1)-0.5*h_dr.GetBinWidth(1)\n",
    "x_high = h_dr.GetBinCenter(h_dr.GetNbinsX())+0.5*h_dr.GetBinWidth(h_dr.GetNbinsX())\n",
    "l.DrawLine(x_low, 1, x_high, 1)\n",
    "\n",
    "\n",
    "c.Draw()\n",
    "c.SaveAs('../data/calibration/Bcharged_pTspectrum/fig/closure_' + cat.name + '.png')"
   ]
  },
  {
   "cell_type": "markdown",
   "metadata": {},
   "source": [
    "Save histograms for combine"
   ]
  },
  {
   "cell_type": "code",
   "execution_count": null,
   "metadata": {
    "ExecuteTime": {
     "start_time": "2020-11-23T00:02:02.858Z"
    }
   },
   "outputs": [],
   "source": [
    "fname = '../data/_root/histos4combine/Bch_pT_JpsiK_{}.root'.format(cat.name.lower())\n",
    "fCombine = rt.TFile(fname, 'RECREATE')\n",
    "\n",
    "for n,h in h_var.iteritems():\n",
    "    newName = 'JpsiK'\n",
    "    if n != 'C':\n",
    "        newName += '__Bch_pT'+n\n",
    "    h.SetName(newName)\n",
    "    h.Write()\n",
    "    \n",
    "hRD.SetName('data_obs')\n",
    "hRD.Write()\n",
    "fCombine.Close()"
   ]
  }
 ],
 "metadata": {
  "kernelspec": {
   "display_name": "Python 2",
   "language": "python",
   "name": "python2"
  },
  "language_info": {
   "codemirror_mode": {
    "name": "ipython",
    "version": 2
   },
   "file_extension": ".py",
   "mimetype": "text/x-python",
   "name": "python",
   "nbconvert_exporter": "python",
   "pygments_lexer": "ipython2",
   "version": "2.7.14+"
  },
  "varInspector": {
   "cols": {
    "lenName": 16,
    "lenType": 16,
    "lenVar": 40
   },
   "kernels_config": {
    "python": {
     "delete_cmd_postfix": "",
     "delete_cmd_prefix": "del ",
     "library": "var_list.py",
     "varRefreshCmd": "print(var_dic_list())"
    },
    "r": {
     "delete_cmd_postfix": ") ",
     "delete_cmd_prefix": "rm(",
     "library": "var_list.r",
     "varRefreshCmd": "cat(var_dic_list()) "
    }
   },
   "types_to_exclude": [
    "module",
    "function",
    "builtin_function_or_method",
    "instance",
    "_Feature"
   ],
   "window_display": false
  }
 },
 "nbformat": 4,
 "nbformat_minor": 2
}
