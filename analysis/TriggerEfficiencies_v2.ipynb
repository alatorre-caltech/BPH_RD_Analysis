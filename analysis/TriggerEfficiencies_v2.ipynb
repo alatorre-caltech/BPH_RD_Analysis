{
 "cells": [
  {
   "cell_type": "code",
   "execution_count": 1,
   "metadata": {
    "ExecuteTime": {
     "end_time": "2020-06-19T01:30:48.776523Z",
     "start_time": "2020-06-19T01:30:48.769865Z"
    }
   },
   "outputs": [],
   "source": [
    "version = 'v2'"
   ]
  },
  {
   "cell_type": "markdown",
   "metadata": {},
   "source": [
    "### Imports"
   ]
  },
  {
   "cell_type": "code",
   "execution_count": 2,
   "metadata": {
    "ExecuteTime": {
     "end_time": "2020-06-19T01:30:55.597032Z",
     "start_time": "2020-06-19T01:30:48.785056Z"
    }
   },
   "outputs": [
    {
     "name": "stdout",
     "output_type": "stream",
     "text": [
      "Welcome to JupyROOT 6.12/07\n"
     ]
    }
   ],
   "source": [
    "import numpy as np\n",
    "import scipy.stats as sps\n",
    "from glob import glob\n",
    "import pickle, re\n",
    "import time\n",
    "from array import array\n",
    "from scipy.interpolate import interp1d\n",
    "import multiprocessing\n",
    "import matplotlib.pyplot as plt\n",
    "import uproot as ur\n",
    "import ROOT as rt\n",
    "import root_numpy as rtnp\n",
    "import ROOT.RooFit as rf\n",
    "from scipy.special import erf\n",
    "import sys, os\n",
    "import itertools\n",
    "sys.path.append('../lib')\n",
    "if os.environ['CMSSW_VERSION'] != 'CMSSW_10_2_3':\n",
    "    raise\n",
    "from histo_utilities import create_TH1D, create_TH2D, std_color_list, SetMaxToMaxHist, make_ratio_plot\n",
    "from cebefo_style import Set_2D_colz_graphics\n",
    "from progressBar import ProgressBar\n",
    "\n",
    "from analysis_utilities import drawOnCMSCanvas, extarct, extarct_multiple, createSel\n",
    "from lumi_utilities import getLumiByTrigger\n",
    "\n",
    "import CMS_lumi, tdrstyle\n",
    "tdrstyle.setTDRStyle()\n",
    "CMS_lumi.writeExtraText = 1\n",
    "CMS_lumi.extraText = \"     Internal\"\n",
    "\n",
    "donotdelete = []"
   ]
  },
  {
   "cell_type": "code",
   "execution_count": 3,
   "metadata": {
    "ExecuteTime": {
     "end_time": "2020-06-19T01:30:55.684911Z",
     "start_time": "2020-06-19T01:30:55.602424Z"
    }
   },
   "outputs": [],
   "source": [
    "rt.gErrorIgnoreLevel = rt.kError\n",
    "rt.RooMsgService.instance().setGlobalKillBelow(rt.RooFit.ERROR)"
   ]
  },
  {
   "cell_type": "code",
   "execution_count": 4,
   "metadata": {
    "ExecuteTime": {
     "end_time": "2020-06-19T01:30:55.744750Z",
     "start_time": "2020-06-19T01:30:55.689702Z"
    }
   },
   "outputs": [],
   "source": [
    "m_Jpsi = 3.09691"
   ]
  },
  {
   "cell_type": "code",
   "execution_count": 5,
   "metadata": {
    "ExecuteTime": {
     "end_time": "2020-06-19T01:30:55.767331Z",
     "start_time": "2020-06-19T01:30:55.749169Z"
    }
   },
   "outputs": [],
   "source": [
    "cl = rt.TLine()\n",
    "cl.SetLineColor(6)\n",
    "cl.SetLineStyle(9)\n",
    "cl.SetLineWidth(2)"
   ]
  },
  {
   "cell_type": "code",
   "execution_count": 6,
   "metadata": {
    "ExecuteTime": {
     "end_time": "2020-06-19T01:30:55.796315Z",
     "start_time": "2020-06-19T01:30:55.771647Z"
    }
   },
   "outputs": [],
   "source": [
    "colors = [rt.kBlack, rt.kAzure+1, rt.kRed-4, rt.kGreen+1, rt.kViolet-7]"
   ]
  },
  {
   "cell_type": "markdown",
   "metadata": {},
   "source": [
    "# Load data"
   ]
  },
  {
   "cell_type": "code",
   "execution_count": 19,
   "metadata": {
    "ExecuteTime": {
     "end_time": "2020-06-19T01:34:57.427494Z",
     "start_time": "2020-06-19T01:34:57.156249Z"
    }
   },
   "outputs": [
    {
     "name": "stdout",
     "output_type": "stream",
     "text": [
      "Data probe muons: 157508806\n"
     ]
    }
   ],
   "source": [
    "dataDir = '../data/cmsRD'\n",
    "# RDdsLoc = glob(dataDir + '/ParkingBPH*/Run2018D-05May2019promptD-v1_RDntuplizer_TagAndProbeTrigger_200607_CAND.root')\n",
    "RDdsLoc = glob(dataDir + '/ParkingBPH1/Run2018D-05May2019promptD-v1_RDntuplizer_TagAndProbeTrigger_200607_CAND.root')\n",
    "# treeRD = rt.TChain('TnP/T')\n",
    "# for l in dsLoc:\n",
    "#     treeRD.Add(l)\n",
    "fileRD = rt.TFile.Open(RDdsLoc[0], 'READ')\n",
    "treeRD = fileRD.Get('TnP/T')\n",
    "print 'Data probe muons:', treeRD.GetEntries()"
   ]
  },
  {
   "cell_type": "code",
   "execution_count": 8,
   "metadata": {
    "ExecuteTime": {
     "end_time": "2020-06-19T01:30:56.214167Z",
     "start_time": "2020-06-19T01:30:56.166547Z"
    }
   },
   "outputs": [
    {
     "name": "stdout",
     "output_type": "stream",
     "text": [
      "MC probe muons: 6348206\n"
     ]
    }
   ],
   "source": [
    "mcDir = '../data/cmsMC_private/BP_Tag-Probe_B0_JpsiKst_Hardbbbar_evtgen_HELAMP_PUc0_10-2-3'\n",
    "MCdsLoc = glob(mcDir + '/ntuples_TagAndProbe/merged/out_CAND.root')\n",
    "fileMC = rt.TFile.Open(MCdsLoc[0], 'READ')\n",
    "treeMC = fileMC.Get('TnP/T')\n",
    "print 'MC probe muons:', treeMC.GetEntries()"
   ]
  },
  {
   "cell_type": "markdown",
   "metadata": {},
   "source": [
    "Explore kinematic distribution to choose a binning"
   ]
  },
  {
   "cell_type": "code",
   "execution_count": 9,
   "metadata": {
    "ExecuteTime": {
     "end_time": "2020-06-19T01:31:18.312833Z",
     "start_time": "2020-06-19T01:30:56.217918Z"
    }
   },
   "outputs": [
    {
     "data": {
      "image/png": "[encoded data removed]",
      "text/plain": [
       "<IPython.core.display.Image object>"
      ]
     },
     "metadata": {},
     "output_type": "display_data"
    }
   ],
   "source": [
    "h_list = []\n",
    "h = create_TH1D(np.zeros(0), name='h',\n",
    "                title='Data',\n",
    "                axis_title=['Probe #mu p_{T} [GeV]', 'Events'],\n",
    "                binning=np.linspace(start=6, stop=30, num=50)\n",
    "               )\n",
    "treeRD.Project('h', 'mProbe_pt')\n",
    "h_list.append(h)\n",
    "\n",
    "h = create_TH1D(np.zeros(0), name='h2', title='MC PU20', binning=h_list[0].binning)\n",
    "treeMC.Project('h2', 'mProbe_pt')\n",
    "h_list.append(h)\n",
    "\n",
    "leg = rt.TLegend(0.77, 0.75, 0.95, 0.93)\n",
    "leg.SetBorderSize(0)\n",
    "for i, h in enumerate(h_list):\n",
    "    h.SetLineColor(colors[i])\n",
    "    h.SetMarkerColor(colors[i])\n",
    "    h.Sumw2()\n",
    "    h.Scale(1./h.Integral())\n",
    "    leg.AddEntry(h, h.GetTitle(), 'lep')\n",
    "m = SetMaxToMaxHist(h_list)\n",
    "h_list[0].SetTitle('')\n",
    "\n",
    "c = drawOnCMSCanvas(CMS_lumi, h_list, 'same')\n",
    "leg.Draw()\n",
    "c.Draw()\n",
    "# c.SetLogy()\n",
    "# c.SetLogx()"
   ]
  },
  {
   "cell_type": "code",
   "execution_count": 10,
   "metadata": {
    "ExecuteTime": {
     "end_time": "2020-06-19T01:31:41.064925Z",
     "start_time": "2020-06-19T01:31:18.318517Z"
    }
   },
   "outputs": [
    {
     "data": {
      "image/png": "[encoded data removed]",
      "text/plain": [
       "<IPython.core.display.Image object>"
      ]
     },
     "metadata": {},
     "output_type": "display_data"
    }
   ],
   "source": [
    "h_list = []\n",
    "h = create_TH1D(np.zeros(0), name='h',\n",
    "                title='Data',\n",
    "                axis_title=['Probe #mu d_{xy}/#sigma_{d_{xy}}', 'Events'],\n",
    "                binning=np.logspace(start=-1, stop=3, num=50)\n",
    "               )\n",
    "treeRD.Project('h', 'mProbe_sigdxy')\n",
    "h_list.append(h)\n",
    "\n",
    "h = create_TH1D(np.zeros(0), name='h2', title='MC PUc0', binning=h_list[0].binning)\n",
    "treeMC.Project('h2', 'mProbe_sigdxy')\n",
    "h_list.append(h)\n",
    "\n",
    "leg = rt.TLegend(0.77, 0.75, 0.95, 0.93)\n",
    "leg.SetBorderSize(0)\n",
    "for i, h in enumerate(h_list):\n",
    "    h.SetLineColor(colors[i])\n",
    "    h.SetMarkerColor(colors[i])\n",
    "    h.Sumw2()\n",
    "    h.Scale(1./h.Integral())\n",
    "    leg.AddEntry(h, h.GetTitle(), 'lep')\n",
    "m = SetMaxToMaxHist(h_list)\n",
    "h_list[0].SetTitle('')\n",
    "\n",
    "c = drawOnCMSCanvas(CMS_lumi, h_list, 'same')\n",
    "leg.Draw()\n",
    "c.Draw()\n",
    "# c.SetLogy()\n",
    "c.SetLogx()"
   ]
  },
  {
   "cell_type": "code",
   "execution_count": 11,
   "metadata": {
    "ExecuteTime": {
     "end_time": "2020-06-19T01:32:04.927572Z",
     "start_time": "2020-06-19T01:31:41.069686Z"
    }
   },
   "outputs": [
    {
     "data": {
      "image/png": "[encoded data removed]",
      "text/plain": [
       "<IPython.core.display.Image object>"
      ]
     },
     "metadata": {},
     "output_type": "display_data"
    }
   ],
   "source": [
    "h_list = []\n",
    "h = create_TH1D(np.zeros(0), name='h',\n",
    "                title='Data',\n",
    "                axis_title=['Probe #mu #eta', 'Events'],\n",
    "                binning=np.linspace(start=-3, stop=3, num=100)\n",
    "               )\n",
    "treeRD.Project('h', 'mProbe_eta')\n",
    "h_list.append(h)\n",
    "\n",
    "h = create_TH1D(np.zeros(0), name='h2', title='MC PU20', binning=h_list[0].binning)\n",
    "treeMC.Project('h2', 'mProbe_eta')\n",
    "h_list.append(h)\n",
    "\n",
    "leg = rt.TLegend(0.57, 0.75, 0.75, 0.93)\n",
    "leg.SetBorderSize(0)\n",
    "for i, h in enumerate(h_list):\n",
    "    h.SetLineColor(colors[i])\n",
    "    h.SetMarkerColor(colors[i])\n",
    "    h.Sumw2()\n",
    "    h.Scale(1./h.Integral())\n",
    "    leg.AddEntry(h, h.GetTitle(), 'lep')\n",
    "m = SetMaxToMaxHist(h_list)\n",
    "h_list[0].SetTitle('')\n",
    "\n",
    "c = drawOnCMSCanvas(CMS_lumi, h_list, 'same')\n",
    "for e in [0.4, 0.8, 1.5, 2.2]:\n",
    "    cl.DrawLine(e, 0, e, m)\n",
    "    cl.DrawLine(-e, 0, -e, m)\n",
    "leg.Draw()\n",
    "c.Draw()"
   ]
  },
  {
   "cell_type": "markdown",
   "metadata": {},
   "source": [
    "# Efficiency functions"
   ]
  },
  {
   "cell_type": "code",
   "execution_count": 12,
   "metadata": {
    "ExecuteTime": {
     "end_time": "2020-06-19T01:32:04.955306Z",
     "start_time": "2020-06-19T01:32:04.932793Z"
    },
    "code_folding": [
     0
    ]
   },
   "outputs": [],
   "source": [
    "# def fitJpsi(inT, psCut, probeTrigger, mJpsiWindow=0.25, mBins=100, rightText=None, verbose=False):\n",
    "#     arrSel = rtnp.tree2array(inT, branches=['massInv'], \n",
    "#                              selection=psCut + ' && fabs(massInv - {}) < {}'.format(m_Jpsi, mJpsiWindow))\n",
    "#     T = rtnp.array2tree(arrSel)\n",
    "#     del arrSel\n",
    "#     if verbose: print 'Skimmed tree created'\n",
    "    \n",
    "#     h = create_TH1D(np.zeros(0), name='h',\n",
    "#                     title='',\n",
    "#                     axis_title=['mass(#mu#mu) [GeV]', 'Events'],\n",
    "#                     binning=[mBins, m_Jpsi-mJpsiWindow, m_Jpsi+mJpsiWindow]\n",
    "#                    )\n",
    "#     T.Project('h', 'massInv')\n",
    "#     if h.GetMinimum() == 0:\n",
    "#         if verbose: print 'Trying reduce the number of bins'\n",
    "#         mBins = int(mBins*0.5)\n",
    "#         h = create_TH1D(np.zeros(0), name='h',\n",
    "#                     title='',\n",
    "#                     axis_title=['mass(#mu#mu) [GeV]', 'Events'],\n",
    "#                     binning=[mBins, m_Jpsi-mJpsiWindow, m_Jpsi+mJpsiWindow]\n",
    "#                    )\n",
    "#         T.Project('h', 'massInv')\n",
    "#     h.Sumw2()\n",
    "#     N_tot = h.Integral()\n",
    "\n",
    "#     mass = rt.RooRealVar('massInv', 'Mass(#mu#mu)', m_Jpsi-mJpsiWindow, m_Jpsi+mJpsiWindow, 'GeV')\n",
    "\n",
    "#     mean = rt.RooRealVar('mean', '#mu', m_Jpsi, m_Jpsi-0.01, m_Jpsi+0.01, 'GeV')\n",
    "#     sigmaN = rt.RooRealVar('sigmaN', '#sigma_{N}', 0.02, 0.01, 0.05, 'GeV') \n",
    "#     sigmaW = rt.RooRealVar('sigmaW', '#sigma_{W}', 0.06, 0.01, 0.07, 'GeV') \n",
    "#     gausN = rt.RooGaussian('gausN','gausN', mass, mean, sigmaN)\n",
    "#     gausW = rt.RooGaussian('gausW','gausW', mass, mean, sigmaW)\n",
    "#     fN = rt.RooRealVar('fN', 'f_{N}', 0.5, 0.0, 1.0)\n",
    "#     pdf_sig = rt.RooAddPdf('dGaus', 'sig pdf', rt.RooArgList(gausN, gausW), rt.RooArgList(fN))\n",
    "#     nsig = rt.RooRealVar('nsig', 'N_{S}', 0.9*N_tot, 0, 10*N_tot)\n",
    "#     pdf_sig_ext = rt.RooExtendPdf('esig', 'esig', pdf_sig, nsig)\n",
    "\n",
    "#     lam = rt.RooRealVar('lam', '#lambda', -5, -100, -0.1, 'GeV^{-1}')\n",
    "#     pdf_bkg = rt.RooExponential('expo', 'bkg pdf', mass, lam)\n",
    "#     nbkg = rt.RooRealVar('nbkg', 'N_{B}', 0.1*N_tot, 0, 10*N_tot)\n",
    "#     pdf_bkg_ext = rt.RooExtendPdf('ebkg', 'ebkg', pdf_bkg, nbkg)\n",
    "\n",
    "#     pdf_tot = rt.RooAddPdf('pdftot', 'pdftot', rt.RooArgList(pdf_sig_ext, pdf_bkg_ext))\n",
    "    \n",
    "#     unbinnedUsed = False\n",
    "#     if h.GetMinimum() == 0 or h.Integral() < 2*h.binning[0]:\n",
    "#         if verbose: print 'Using unbinned likelihood ({:.0f} events)'.format(h.Integral())\n",
    "#         data = rt.RooDataSet('d', 'data', T, rt.RooArgSet(mass))\n",
    "#         unbinnedUsed = True\n",
    "#     else:\n",
    "#         data = rt.RooDataHist('d', 'data', rt.RooArgList(mass), h)\n",
    "#         if verbose: print 'Using binned likeihood'\n",
    "    \n",
    "#     fr = pdf_tot.fitTo(data, rf.PrintLevel(-1), rf.Save())\n",
    "    \n",
    "#     frame = mass.frame(rf.Title(\"\"), rf.Bins(h.binning[0]))\n",
    "#     dataPlot = data.plotOn(frame, rf.MarkerStyle(1), rf.DrawOption('E1'), \n",
    "#                            rf.MarkerColor(1), rf.LineColor(1), rf.MarkerStyle(15))\n",
    "    \n",
    "#     pdf_tot.plotOn(frame, rf.LineColor(rt.kBlack), rf.LineWidth(1))\n",
    "\n",
    "#     dof = fr.floatParsFinal().getSize()\n",
    "#     chi2 = frame.chiSquare(dof)*dof\n",
    "#     pval = rt.ROOT.Math.chisquared_cdf_c(chi2, dof)\n",
    "#     if verbose: print 'chi2: {:.1f}/{:.0f} {:.3f}'.format(chi2, dof, pval)\n",
    "\n",
    "#     pdf_tot.plotOn(frame, rf.Components('ebkg'), rf.LineColor(rt.kRed), rf.LineWidth(2), rf.LineStyle(7))\n",
    "#     pdf_tot.plotOn(frame, rf.Components('esig'), rf.LineColor(rt.kBlue), rf.LineWidth(2), rf.LineStyle(7))\n",
    "\n",
    "#     x_min = mass.getMin() + (mass.getMax()-mass.getMin())*0.04\n",
    "#     x_max = mass.getMin() + (mass.getMax()-mass.getMin())*0.36\n",
    "#     pTxt = rt.TPaveText(x_min, 0.25*dataPlot.GetMaximum(), x_max, 0.9*dataPlot.GetMaximum())\n",
    "#     pTxt.SetBorderSize(0)\n",
    "#     pTxt.SetFillStyle(0)\n",
    "#     pTxt.SetTextAlign(11)\n",
    "#     pTxt.AddText('#chi^{{2}}: {:.1f}/{:.0f} ({:.2f})'.format(chi2, dof, pval))\n",
    "#     pTxt.AddText('N_{{sig}} = {:.0f} +/- {:.0f}'.format(nsig.getVal(), nsig.getError()))\n",
    "\n",
    "#     pTxt.AddText('#mu = {:.1f} +/- {:.1f} MeV'.format(1e3*mean.getVal(), 1e3*mean.getError()))\n",
    "#     pTxt.AddText('#sigma_{{N}} = {:.1f} +/- {:.1f} MeV'.format(1e3*sigmaN.getVal(), 1e3*sigmaN.getError()))\n",
    "#     pTxt.AddText('#sigma_{{W}} = {:.1f} +/- {:.1f} MeV'.format(1e3*sigmaW.getVal(), 1e3*sigmaW.getError()))\n",
    "#     pTxt.AddText('f_{{N}} = {:.2f} +/- {:.2f}'.format(fN.getVal(), fN.getError()))\n",
    "#     frame.addObject(pTxt)\n",
    "    \n",
    "#     if not rightText is None:\n",
    "#         x_min = mass.getMin() + (mass.getMax()-mass.getMin())*0.65\n",
    "#         x_max = mass.getMin() + (mass.getMax()-mass.getMin())*0.95\n",
    "#         pTxtR = rt.TPaveText(x_min, 0.5*dataPlot.GetMaximum(), x_max, 0.7*dataPlot.GetMaximum())\n",
    "#         pTxtR.SetBorderSize(0)\n",
    "#         pTxtR.SetFillStyle(0)\n",
    "#         for s in rightText:\n",
    "#             pTxtR.AddText(s)\n",
    "#         frame.addObject(pTxtR)\n",
    "    \n",
    "#     return frame, [nsig.getVal(), nsig.getError()], [chi2, dof, pval]"
   ]
  },
  {
   "cell_type": "code",
   "execution_count": 13,
   "metadata": {
    "ExecuteTime": {
     "end_time": "2020-06-19T01:32:05.016173Z",
     "start_time": "2020-06-19T01:32:04.959673Z"
    },
    "code_folding": [
     0
    ]
   },
   "outputs": [],
   "source": [
    "# def analyzeBin(idx, reloadTree=True, verbose=False):\n",
    "#     print idx, 'started'\n",
    "#     if reloadTree:\n",
    "#         fileTmp = None\n",
    "#         if len(dataset_loc) == 1:\n",
    "#             fileTmp = rt.TFile(dataset_loc[0], 'READ')\n",
    "#             T = fileTmp.Get('TnP/T')\n",
    "#         else:\n",
    "#             raise\n",
    "#     psCut = []\n",
    "#     lim = {}\n",
    "#     psStrings = []\n",
    "#     for n, i in idx.iteritems():\n",
    "#         lim[n] = [binning[n][i], binning[n][i+1]]\n",
    "#         psCut.append('fabs(fabs(mProbe_{}) - {}) < {}'.format(n, np.mean(lim[n]), 0.5*(lim[n][1]-lim[n][0])))\n",
    "#         psS = '{:.1f} < '.format(lim[n][0])\n",
    "#         if n == 'eta':\n",
    "#             psS += '|#eta|'\n",
    "#         elif n == 'pt':\n",
    "#             psS += 'p_{T}/GeV'\n",
    "#         elif n == 'sigdxy':\n",
    "#             psS += 'IP'\n",
    "#         else: \n",
    "#             raise\n",
    "#         psS += ' < {:.1f}'.format(lim[n][1])\n",
    "#         psStrings.append(psS)\n",
    "#     psCut = ' && '.join(psCut + ['prescale'+probeTrigger[4:] + ' > 0'])\n",
    "\n",
    "#     rt.TGaxis.SetMaxDigits(3)\n",
    "\n",
    "#     if verbose: \n",
    "#         print ' --- Total ---'\n",
    "#         print psCut\n",
    "#     st = time.time()\n",
    "#     frameTot, nSigTot, pValTot = fitJpsi(T, psCut, probeTrigger,\n",
    "#                                          rightText=['All '] + psStrings,\n",
    "#                                          verbose=verbose\n",
    "#                                         )\n",
    "#     if verbose: \n",
    "#         print 'Time: {:.1f} s'.format(time.time()-st)\n",
    "#         print ' --- Passed ---'\n",
    "#         print psCut + ' && mProbe_' + probeTrigger + ' == 1'\n",
    "#     st = time.time()\n",
    "#     framePassed, nSigPass, pValPass = fitJpsi(T, psCut + ' && mProbe_' + probeTrigger + ' == 1', probeTrigger,\n",
    "#                                               rightText=['Passed '+probeTrigger] + psStrings,\n",
    "#                                               verbose=verbose\n",
    "#                                              )\n",
    "#     if verbose: print 'Time: {:.1f} s'.format(time.time()-st)\n",
    "#     cTag = '_' + '_'.join([str(idx[k]) for k in np.sort(idx.keys())])\n",
    "#     c = rt.TCanvas('c'+cTag, 'c'+cTag, 50, 50, 1200, 600)\n",
    "#     c.SetTickx(0)\n",
    "#     c.SetTicky(0)\n",
    "#     c.Divide(2)\n",
    "\n",
    "#     p = c.cd(1)\n",
    "#     frameTot.Draw()\n",
    "#     CMS_lumi.CMS_lumi(p, -1, 33)\n",
    "#     p = c.cd(2)\n",
    "#     framePassed.Draw()\n",
    "#     CMS_lumi.CMS_lumi(p, -1, 33)\n",
    "    \n",
    "#     imgLoc = '../data/calibration/triggerScaleFactors/figFit'+dataset+'/{}'.format(probeTrigger)\n",
    "#     if not os.path.isdir(imgLoc):\n",
    "#         os.makedirs(imgLoc)\n",
    "#         print 'Creating', imgLoc\n",
    "#     c.SaveAs(imgLoc + '/'+ '_'.join([k+str(idx[k]) for k in np.sort(idx.keys())]) +'.png')\n",
    "#     if reloadTree and not fileTmp is None:\n",
    "#         fileTmp.Close()\n",
    "#     print idx, 'done'\n",
    "#     return c, idx, nSigTot, pValTot, nSigPass, pValPass"
   ]
  },
  {
   "cell_type": "code",
   "execution_count": 14,
   "metadata": {
    "ExecuteTime": {
     "end_time": "2020-06-19T01:32:05.090884Z",
     "start_time": "2020-06-19T01:32:05.021024Z"
    }
   },
   "outputs": [],
   "source": [
    "def analyzeBin(idx, reloadTree=True, verbose=False):\n",
    "    print idx, 'started'\n",
    "    if reloadTree:\n",
    "        fileTmp = None\n",
    "        if len(dataset_loc) == 1:\n",
    "            fileTmp = rt.TFile(dataset_loc[0], 'READ')\n",
    "            T = fileTmp.Get('TnP/T')\n",
    "        else:\n",
    "            raise\n",
    "    psCut = []\n",
    "    lim = {}\n",
    "    psStrings = []\n",
    "    for n, i in idx.iteritems():\n",
    "        lim[n] = [binning[n][i], binning[n][i+1]]\n",
    "        psCut.append('fabs(fabs(mProbe_{}) - {}) < {}'.format(n, np.mean(lim[n]), 0.5*(lim[n][1]-lim[n][0])))\n",
    "        psS = '{:.1f} < '.format(lim[n][0])\n",
    "        if n == 'eta':\n",
    "            psS += '|#eta|'\n",
    "        elif n == 'pt':\n",
    "            psS += 'p_{T}/GeV'\n",
    "        elif n == 'sigdxy':\n",
    "            psS += 'IP'\n",
    "        else: \n",
    "            raise\n",
    "        psS += ' < {:.1f}'.format(lim[n][1])\n",
    "        psStrings.append(psS)\n",
    "    psCut = ' && '.join(psCut + ['prescale'+probeTrigger[4:] + ' > 0'])\n",
    "\n",
    "    if verbose: \n",
    "        print ' --- Total ---'\n",
    "        print psCut\n",
    "    st = time.time()\n",
    "    nSigTot = T.GetEntries(psCut)\n",
    "    if verbose: \n",
    "        print 'Time: {:.1f} s'.format(time.time()-st)\n",
    "        print ' --- Passed ---'\n",
    "        print psCut + ' && mProbe_' + probeTrigger + ' == 1'\n",
    "    st = time.time()\n",
    "    nSigPass = T.GetEntries(psCut + ' && mProbe_' + probeTrigger + ' == 1')\n",
    "    \n",
    "    if verbose: \n",
    "        print 'Time: {:.1f} s'.format(time.time()-st)\n",
    "    if reloadTree and not fileTmp is None:\n",
    "        fileTmp.Close()\n",
    "    print idx, 'done'\n",
    "    return idx, nSigTot, nSigPass"
   ]
  },
  {
   "cell_type": "markdown",
   "metadata": {},
   "source": [
    "# Run the fit in each bin"
   ]
  },
  {
   "cell_type": "code",
   "execution_count": 21,
   "metadata": {
    "ExecuteTime": {
     "end_time": "2020-06-19T01:35:14.455910Z",
     "start_time": "2020-06-19T01:35:14.447148Z"
    }
   },
   "outputs": [],
   "source": [
    "dataset = 'RD'\n",
    "if dataset == 'RD':\n",
    "    CMS_lumi.extraText = \"     Internal\"\n",
    "    T = treeRD\n",
    "    dataset_loc = RDdsLoc\n",
    "elif dataset == 'MC':\n",
    "    CMS_lumi.extraText = \"     Simulation Internal\"\n",
    "    T = treeMC\n",
    "    dataset_loc = MCdsLoc\n",
    "    "
   ]
  },
  {
   "cell_type": "code",
   "execution_count": 22,
   "metadata": {
    "ExecuteTime": {
     "end_time": "2020-06-19T01:35:15.413069Z",
     "start_time": "2020-06-19T01:35:15.400360Z"
    }
   },
   "outputs": [],
   "source": [
    "probeTrigger = 'HLT_Mu7_IP4'\n",
    "binning = {'pt': array('d', [5.5, 6.5, 7, 7.3, 7.6, 8, 9, 12, 25]),\n",
    "           'eta': array('d', [0, 0.4, 0.8, 1.5]),\n",
    "           'sigdxy': array('d', [3, 4, 4.5, 6, 10, 200])\n",
    "          }\n",
    "\n",
    "# probeTrigger = 'HLT_Mu9_IP6'\n",
    "# binning = {'pt': array('d', [8, 8.5, 9, 10, 11, 12, 20]),\n",
    "#            'eta': array('d', [0, 0.4, 0.8, 1.5]),\n",
    "#            'sigdxy': array('d', [3, 6, 7, 10, 200])\n",
    "#           }\n",
    "\n",
    "# probeTrigger = 'HLT_Mu12_IP6'\n",
    "# binning = {'pt': array('d', [10, 11, 12, 13, 15, 20, 30, 50, 200]),\n",
    "#            'eta': array('d', [0, 0.4, 0.8, 1.5]),\n",
    "#            'sigdxy': array('d', [3, 6, 7, 10, 200])\n",
    "#           }"
   ]
  },
  {
   "cell_type": "code",
   "execution_count": 23,
   "metadata": {
    "ExecuteTime": {
     "end_time": "2020-06-19T01:35:15.800382Z",
     "start_time": "2020-06-19T01:35:15.786111Z"
    }
   },
   "outputs": [],
   "source": [
    "h2 = {}\n",
    "for var, cat in itertools.product(['N', 'Chi2'], ['tot', 'pass']):\n",
    "    h2[var+cat] = rt.TH3D('h2'+var+cat, '', \n",
    "                          len(binning['pt'])-1, binning['pt'], \n",
    "                          len(binning['sigdxy'])-1, binning['sigdxy'], \n",
    "                          len(binning['eta'])-1, binning['eta'],)"
   ]
  },
  {
   "cell_type": "code",
   "execution_count": 24,
   "metadata": {
    "ExecuteTime": {
     "end_time": "2020-06-19T01:41:08.215880Z",
     "start_time": "2020-06-19T01:35:16.153898Z"
    }
   },
   "outputs": [
    {
     "name": "stdout",
     "output_type": "stream",
     "text": [
      "{'eta': 0, 'sigdxy': 2, 'pt': 2} started\n",
      " --- Total ---\n",
      "fabs(fabs(mProbe_eta) - 0.2) < 0.2 && fabs(fabs(mProbe_sigdxy) - 5.25) < 0.75 && fabs(fabs(mProbe_pt) - 7.15) < 0.15 && prescaleMu7_IP4 > 0\n",
      "Time: 219.7 s\n",
      " --- Passed ---\n",
      "fabs(fabs(mProbe_eta) - 0.2) < 0.2 && fabs(fabs(mProbe_sigdxy) - 5.25) < 0.75 && fabs(fabs(mProbe_pt) - 7.15) < 0.15 && prescaleMu7_IP4 > 0 && mProbe_HLT_Mu7_IP4 == 1\n",
      "Time: 132.2 s\n",
      "{'eta': 0, 'sigdxy': 2, 'pt': 2} done\n",
      "({'eta': 0, 'sigdxy': 2, 'pt': 2}, 108702L, 97705L)\n",
      "Total time: 5.9 mins\n"
     ]
    }
   ],
   "source": [
    "start = time.time()\n",
    "testOutput = analyzeBin({'pt': 2, 'sigdxy':2, 'eta':0}, verbose=True)\n",
    "print testOutput\n",
    "print 'Total time: {:.1f} mins'.format((time.time() - start)/60.)"
   ]
  },
  {
   "cell_type": "code",
   "execution_count": 25,
   "metadata": {
    "ExecuteTime": {
     "end_time": "2020-06-19T01:41:08.606885Z",
     "start_time": "2020-06-19T01:41:08.591713Z"
    }
   },
   "outputs": [
    {
     "name": "stdout",
     "output_type": "stream",
     "text": [
      "Total bins: 120\n"
     ]
    }
   ],
   "source": [
    "inputs = []\n",
    "for ipt in range(len(binning['pt'])-1):\n",
    "    for iip in range(len(binning['sigdxy'])-1):\n",
    "        for ieta in range(len(binning['eta'])-1):\n",
    "            idx = {'pt': ipt, 'sigdxy':iip, 'eta': ieta}\n",
    "            inputs.append(idx)\n",
    "print 'Total bins:', len(inputs)"
   ]
  },
  {
   "cell_type": "code",
   "execution_count": 26,
   "metadata": {
    "ExecuteTime": {
     "end_time": "2020-06-19T02:17:19.139163Z",
     "start_time": "2020-06-19T01:41:08.983049Z"
    },
    "scrolled": true
   },
   "outputs": [
    {
     "name": "stdout",
     "output_type": "stream",
     "text": [
      "Parallelization factor: 24\n",
      "{'eta': 2, 'pt': 0, 'sigdxy': 0} started\n",
      "{'eta': 0, 'pt': 0, 'sigdxy': 2} started\n",
      "{'eta': 1, 'pt': 0, 'sigdxy': 1} started\n",
      "{'eta': 2, 'pt': 0, 'sigdxy': 2} started\n",
      "{'eta': 1, 'pt': 0, 'sigdxy': 3} started\n",
      "{'eta': 2, 'pt': 0, 'sigdxy': 4} started\n",
      "{'eta': 0, 'pt': 0, 'sigdxy': 4} started\n",
      "{'eta': 0, 'pt': 1, 'sigdxy': 1} started\n",
      "{'eta': 1, 'pt': 1, 'sigdxy': 0} started\n",
      "{'eta': 0, 'pt': 0, 'sigdxy': 0} started\n",
      "{'eta': 1, 'pt': 1, 'sigdxy': 2} started\n",
      "{'eta': 2, 'pt': 1, 'sigdxy': 1} started\n",
      "{'eta': 0, 'pt': 1, 'sigdxy': 3} started\n",
      "{'eta': 1, 'pt': 1, 'sigdxy': 4} started\n",
      "{'eta': 0, 'pt': 2, 'sigdxy': 0} started\n",
      "{'eta': 2, 'pt': 1, 'sigdxy': 3} started\n",
      "{'eta': 0, 'pt': 2, 'sigdxy': 2} started\n",
      "{'eta': 2, 'pt': 2, 'sigdxy': 2} started\n",
      "{'eta': 2, 'pt': 2, 'sigdxy': 0} started\n",
      "{'eta': 1, 'pt': 2, 'sigdxy': 3} started\n",
      "{'eta': 0, 'pt': 2, 'sigdxy': 4} started\n",
      "{'eta': 1, 'pt': 3, 'sigdxy': 0} started\n",
      "{'eta': 2, 'pt': 2, 'sigdxy': 4} started\n",
      "{'eta': 1, 'pt': 2, 'sigdxy': 1} started\n",
      "{'eta': 1, 'pt': 1, 'sigdxy': 0} done\n",
      "{'eta': 2, 'pt': 1, 'sigdxy': 0} started\n",
      "{'eta': 1, 'pt': 2, 'sigdxy': 3} done\n",
      "{'eta': 2, 'pt': 2, 'sigdxy': 3} started\n",
      "{'eta': 0, 'pt': 2, 'sigdxy': 4} done\n",
      "{'eta': 1, 'pt': 2, 'sigdxy': 4} started\n",
      "{'eta': 0, 'pt': 1, 'sigdxy': 3} done\n",
      "{'eta': 1, 'pt': 1, 'sigdxy': 3} started\n",
      "{'eta': 1, 'pt': 0, 'sigdxy': 1} done\n",
      "{'eta': 2, 'pt': 0, 'sigdxy': 1} started\n",
      "{'eta': 1, 'pt': 3, 'sigdxy': 0} done\n",
      "{'eta': 2, 'pt': 3, 'sigdxy': 0} started\n",
      "{'eta': 1, 'pt': 2, 'sigdxy': 1} done\n",
      "{'eta': 2, 'pt': 2, 'sigdxy': 1} started\n",
      "{'eta': 1, 'pt': 1, 'sigdxy': 2} done\n",
      "{'eta': 2, 'pt': 1, 'sigdxy': 2} started\n",
      "{'eta': 1, 'pt': 1, 'sigdxy': 4} done\n",
      "{'eta': 2, 'pt': 1, 'sigdxy': 4} started\n",
      "{'eta': 0, 'pt': 2, 'sigdxy': 0} done\n",
      "{'eta': 1, 'pt': 2, 'sigdxy': 0} started\n",
      "{'eta': 0, 'pt': 2, 'sigdxy': 2} done\n",
      "{'eta': 1, 'pt': 2, 'sigdxy': 2} started\n",
      "{'eta': 1, 'pt': 0, 'sigdxy': 3} done\n",
      "{'eta': 2, 'pt': 0, 'sigdxy': 3} started\n",
      "{'eta': 0, 'pt': 1, 'sigdxy': 1} done\n",
      "{'eta': 1, 'pt': 1, 'sigdxy': 1} started\n",
      "{'eta': 0, 'pt': 0, 'sigdxy': 4} done\n",
      "{'eta': 1, 'pt': 0, 'sigdxy': 4} started\n",
      "{'eta': 0, 'pt': 0, 'sigdxy': 2} done\n",
      "{'eta': 1, 'pt': 0, 'sigdxy': 2} started\n",
      "{'eta': 0, 'pt': 0, 'sigdxy': 0} done\n",
      "{'eta': 1, 'pt': 0, 'sigdxy': 0} started\n",
      "{'eta': 2, 'pt': 0, 'sigdxy': 2} done\n",
      "{'eta': 0, 'pt': 0, 'sigdxy': 3} started\n",
      "{'eta': 2, 'pt': 0, 'sigdxy': 0} done\n",
      "{'eta': 0, 'pt': 0, 'sigdxy': 1} started\n",
      "{'eta': 2, 'pt': 2, 'sigdxy': 2} done\n",
      "{'eta': 0, 'pt': 2, 'sigdxy': 3} started\n",
      "{'eta': 2, 'pt': 1, 'sigdxy': 3} done\n",
      "{'eta': 0, 'pt': 1, 'sigdxy': 4} started\n",
      "{'eta': 2, 'pt': 2, 'sigdxy': 0} done\n",
      "{'eta': 0, 'pt': 2, 'sigdxy': 1} started\n",
      "{'eta': 2, 'pt': 2, 'sigdxy': 4} done\n",
      "{'eta': 0, 'pt': 3, 'sigdxy': 0} started\n",
      "{'eta': 2, 'pt': 1, 'sigdxy': 1} done\n",
      "{'eta': 0, 'pt': 1, 'sigdxy': 2} started\n",
      "{'eta': 2, 'pt': 0, 'sigdxy': 4} done\n",
      "{'eta': 0, 'pt': 1, 'sigdxy': 0} started\n",
      "{'eta': 1, 'pt': 2, 'sigdxy': 4} done\n",
      "{'eta': 0, 'pt': 3, 'sigdxy': 1} started\n",
      "{'eta': 1, 'pt': 1, 'sigdxy': 3} done\n",
      "{'eta': 2, 'pt': 3, 'sigdxy': 1} started\n",
      "{'eta': 1, 'pt': 2, 'sigdxy': 2} done\n",
      "{'eta': 1, 'pt': 3, 'sigdxy': 2} started\n",
      "{'eta': 1, 'pt': 2, 'sigdxy': 0} done\n",
      "{'eta': 0, 'pt': 3, 'sigdxy': 3} started\n",
      "{'eta': 1, 'pt': 1, 'sigdxy': 1} done\n",
      "{'eta': 2, 'pt': 3, 'sigdxy': 3} started\n",
      "{'eta': 2, 'pt': 2, 'sigdxy': 3} done\n",
      "{'eta': 1, 'pt': 3, 'sigdxy': 4} started\n",
      "{'eta': 1, 'pt': 0, 'sigdxy': 2} done\n",
      "{'eta': 0, 'pt': 4, 'sigdxy': 0} started\n",
      "{'eta': 1, 'pt': 0, 'sigdxy': 4} done\n",
      "{'eta': 2, 'pt': 4, 'sigdxy': 0} started\n",
      "{'eta': 2, 'pt': 1, 'sigdxy': 0} done\n",
      "{'eta': 1, 'pt': 4, 'sigdxy': 1} started\n",
      "{'eta': 0, 'pt': 0, 'sigdxy': 3} done\n",
      "{'eta': 0, 'pt': 4, 'sigdxy': 2} started\n",
      "{'eta': 1, 'pt': 0, 'sigdxy': 0} done\n",
      "{'eta': 2, 'pt': 4, 'sigdxy': 2} started\n",
      "{'eta': 0, 'pt': 0, 'sigdxy': 1} done\n",
      "{'eta': 1, 'pt': 4, 'sigdxy': 3} started\n",
      "{'eta': 2, 'pt': 0, 'sigdxy': 1} done\n",
      "{'eta': 0, 'pt': 4, 'sigdxy': 4} started\n",
      "{'eta': 0, 'pt': 1, 'sigdxy': 0} done\n",
      "{'eta': 2, 'pt': 4, 'sigdxy': 4} started\n",
      "{'eta': 2, 'pt': 3, 'sigdxy': 0} done\n",
      "{'eta': 1, 'pt': 5, 'sigdxy': 0} started\n",
      "{'eta': 2, 'pt': 2, 'sigdxy': 1} done\n",
      "{'eta': 0, 'pt': 5, 'sigdxy': 1} started\n",
      "{'eta': 0, 'pt': 2, 'sigdxy': 3} done\n",
      "{'eta': 2, 'pt': 5, 'sigdxy': 1} started\n",
      "{'eta': 0, 'pt': 1, 'sigdxy': 4} done\n",
      "{'eta': 1, 'pt': 5, 'sigdxy': 2} started\n",
      "{'eta': 0, 'pt': 2, 'sigdxy': 1} done\n",
      "{'eta': 0, 'pt': 5, 'sigdxy': 3} started\n",
      "{'eta': 2, 'pt': 1, 'sigdxy': 4} done\n",
      "{'eta': 2, 'pt': 5, 'sigdxy': 3} started\n",
      "{'eta': 2, 'pt': 1, 'sigdxy': 2} done\n",
      "{'eta': 1, 'pt': 5, 'sigdxy': 4} started\n",
      "{'eta': 0, 'pt': 3, 'sigdxy': 0} done\n",
      "{'eta': 0, 'pt': 6, 'sigdxy': 0} started\n",
      "{'eta': 0, 'pt': 1, 'sigdxy': 2} done\n",
      "{'eta': 2, 'pt': 6, 'sigdxy': 0} started\n",
      "{'eta': 2, 'pt': 0, 'sigdxy': 3} done\n",
      "{'eta': 1, 'pt': 6, 'sigdxy': 1} started\n",
      "{'eta': 0, 'pt': 3, 'sigdxy': 1} done\n",
      "{'eta': 1, 'pt': 3, 'sigdxy': 1} started\n",
      "{'eta': 1, 'pt': 3, 'sigdxy': 4} done\n",
      "{'eta': 2, 'pt': 3, 'sigdxy': 4} started\n",
      "{'eta': 2, 'pt': 3, 'sigdxy': 1} done\n",
      "{'eta': 0, 'pt': 3, 'sigdxy': 2} started\n",
      "{'eta': 1, 'pt': 4, 'sigdxy': 1} done\n",
      "{'eta': 2, 'pt': 4, 'sigdxy': 1} started\n",
      "{'eta': 1, 'pt': 4, 'sigdxy': 3} done\n",
      "{'eta': 2, 'pt': 4, 'sigdxy': 3} started\n",
      "{'eta': 0, 'pt': 4, 'sigdxy': 2} done\n",
      "{'eta': 1, 'pt': 4, 'sigdxy': 2} started\n",
      "{'eta': 1, 'pt': 3, 'sigdxy': 2} done\n",
      "{'eta': 2, 'pt': 3, 'sigdxy': 2} started\n",
      "{'eta': 0, 'pt': 3, 'sigdxy': 3} done\n",
      "{'eta': 1, 'pt': 3, 'sigdxy': 3} started\n",
      "{'eta': 0, 'pt': 4, 'sigdxy': 4} done\n",
      "{'eta': 1, 'pt': 4, 'sigdxy': 4} started\n",
      "{'eta': 0, 'pt': 4, 'sigdxy': 0} done\n",
      "{'eta': 1, 'pt': 4, 'sigdxy': 0} started\n",
      "{'eta': 1, 'pt': 5, 'sigdxy': 0} done\n",
      "{'eta': 2, 'pt': 5, 'sigdxy': 0} started\n",
      "{'eta': 1, 'pt': 5, 'sigdxy': 2} done\n",
      "{'eta': 2, 'pt': 5, 'sigdxy': 2} started\n",
      "{'eta': 0, 'pt': 5, 'sigdxy': 1} done\n",
      "{'eta': 1, 'pt': 5, 'sigdxy': 1} started\n",
      "{'eta': 0, 'pt': 5, 'sigdxy': 3} done\n",
      "{'eta': 1, 'pt': 5, 'sigdxy': 3} started\n",
      "{'eta': 1, 'pt': 5, 'sigdxy': 4} done\n",
      "{'eta': 2, 'pt': 5, 'sigdxy': 4} started\n",
      "{'eta': 2, 'pt': 3, 'sigdxy': 3} done\n",
      "{'eta': 0, 'pt': 3, 'sigdxy': 4} started\n",
      "{'eta': 2, 'pt': 4, 'sigdxy': 0} done\n",
      "{'eta': 0, 'pt': 4, 'sigdxy': 1} started\n",
      "{'eta': 0, 'pt': 6, 'sigdxy': 0} done\n",
      "{'eta': 1, 'pt': 6, 'sigdxy': 0} started\n",
      "{'eta': 2, 'pt': 4, 'sigdxy': 2} done\n",
      "{'eta': 0, 'pt': 4, 'sigdxy': 3} started\n",
      "{'eta': 1, 'pt': 6, 'sigdxy': 1} done\n",
      "{'eta': 2, 'pt': 6, 'sigdxy': 1} started\n",
      "{'eta': 2, 'pt': 4, 'sigdxy': 4} done\n",
      "{'eta': 0, 'pt': 5, 'sigdxy': 0} started\n",
      "{'eta': 2, 'pt': 5, 'sigdxy': 3} done\n",
      "{'eta': 2, 'pt': 5, 'sigdxy': 1} done\n",
      "{'eta': 0, 'pt': 5, 'sigdxy': 4} started\n",
      "{'eta': 0, 'pt': 5, 'sigdxy': 2} started\n",
      "{'eta': 2, 'pt': 6, 'sigdxy': 0} done\n",
      "{'eta': 0, 'pt': 6, 'sigdxy': 1} started\n",
      "{'eta': 1, 'pt': 3, 'sigdxy': 1} done\n",
      "{'eta': 0, 'pt': 6, 'sigdxy': 2} started\n",
      "{'eta': 0, 'pt': 3, 'sigdxy': 2} done\n",
      "{'eta': 2, 'pt': 6, 'sigdxy': 2} started\n",
      "{'eta': 1, 'pt': 4, 'sigdxy': 2} done\n",
      "{'eta': 1, 'pt': 6, 'sigdxy': 3} started\n",
      "{'eta': 1, 'pt': 4, 'sigdxy': 4} done\n",
      "{'eta': 0, 'pt': 6, 'sigdxy': 4} started\n",
      "{'eta': 1, 'pt': 3, 'sigdxy': 3} done\n",
      "{'eta': 2, 'pt': 6, 'sigdxy': 4} started\n",
      "{'eta': 1, 'pt': 4, 'sigdxy': 0} done\n",
      "{'eta': 1, 'pt': 7, 'sigdxy': 0} started\n",
      "{'eta': 2, 'pt': 3, 'sigdxy': 4} done\n",
      "{'eta': 0, 'pt': 7, 'sigdxy': 1} started\n",
      "{'eta': 2, 'pt': 4, 'sigdxy': 1} done\n",
      "{'eta': 2, 'pt': 7, 'sigdxy': 1} started\n",
      "{'eta': 2, 'pt': 4, 'sigdxy': 3} done\n",
      "{'eta': 1, 'pt': 7, 'sigdxy': 2} started\n",
      "{'eta': 1, 'pt': 5, 'sigdxy': 1} done\n",
      "{'eta': 0, 'pt': 7, 'sigdxy': 3} started\n",
      "{'eta': 1, 'pt': 5, 'sigdxy': 3} done\n",
      "{'eta': 2, 'pt': 7, 'sigdxy': 3} started\n",
      "{'eta': 2, 'pt': 3, 'sigdxy': 2} done\n",
      "{'eta': 1, 'pt': 7, 'sigdxy': 4} started\n",
      "{'eta': 0, 'pt': 3, 'sigdxy': 4} done\n",
      "{'eta': 0, 'pt': 5, 'sigdxy': 0} done\n",
      "{'eta': 0, 'pt': 4, 'sigdxy': 1} done\n",
      "{'eta': 1, 'pt': 6, 'sigdxy': 0} done\n",
      "{'eta': 0, 'pt': 4, 'sigdxy': 3} done\n",
      "{'eta': 2, 'pt': 5, 'sigdxy': 0} done\n",
      "{'eta': 2, 'pt': 5, 'sigdxy': 2} done\n",
      "{'eta': 0, 'pt': 5, 'sigdxy': 4} done\n",
      "{'eta': 0, 'pt': 5, 'sigdxy': 2} done\n",
      "{'eta': 2, 'pt': 5, 'sigdxy': 4} done\n",
      "{'eta': 2, 'pt': 6, 'sigdxy': 1} done\n",
      "{'eta': 0, 'pt': 6, 'sigdxy': 2} done\n",
      "{'eta': 1, 'pt': 6, 'sigdxy': 2} started\n",
      "{'eta': 0, 'pt': 6, 'sigdxy': 1} done\n",
      "{'eta': 1, 'pt': 7, 'sigdxy': 0} done\n"
     ]
    },
    {
     "name": "stdout",
     "output_type": "stream",
     "text": [
      "{'eta': 2, 'pt': 7, 'sigdxy': 0} started\n",
      "{'eta': 1, 'pt': 6, 'sigdxy': 3} done\n",
      "{'eta': 2, 'pt': 6, 'sigdxy': 3} started\n",
      "{'eta': 0, 'pt': 6, 'sigdxy': 4} done\n",
      "{'eta': 1, 'pt': 6, 'sigdxy': 4} started\n",
      "{'eta': 0, 'pt': 7, 'sigdxy': 3} done\n",
      "{'eta': 1, 'pt': 7, 'sigdxy': 3} started\n",
      "{'eta': 0, 'pt': 7, 'sigdxy': 1} done\n",
      "{'eta': 1, 'pt': 7, 'sigdxy': 1} started\n",
      "{'eta': 2, 'pt': 6, 'sigdxy': 4} done\n",
      "{'eta': 0, 'pt': 7, 'sigdxy': 0} started\n",
      "{'eta': 1, 'pt': 7, 'sigdxy': 2} done\n",
      "{'eta': 2, 'pt': 7, 'sigdxy': 2} started\n",
      "{'eta': 1, 'pt': 7, 'sigdxy': 4} done\n",
      "{'eta': 2, 'pt': 7, 'sigdxy': 4} started\n",
      "{'eta': 2, 'pt': 6, 'sigdxy': 2} done\n",
      "{'eta': 0, 'pt': 6, 'sigdxy': 3} started\n",
      "{'eta': 2, 'pt': 7, 'sigdxy': 3} done\n",
      "{'eta': 0, 'pt': 7, 'sigdxy': 4} started\n",
      "{'eta': 2, 'pt': 7, 'sigdxy': 1} done\n",
      "{'eta': 0, 'pt': 7, 'sigdxy': 2} started\n",
      "{'eta': 1, 'pt': 6, 'sigdxy': 2} done\n",
      "{'eta': 1, 'pt': 6, 'sigdxy': 4} done\n",
      "{'eta': 1, 'pt': 7, 'sigdxy': 3} done\n",
      "{'eta': 0, 'pt': 7, 'sigdxy': 0} done\n",
      "{'eta': 2, 'pt': 7, 'sigdxy': 0} done\n",
      "{'eta': 1, 'pt': 7, 'sigdxy': 1} done\n",
      "{'eta': 0, 'pt': 6, 'sigdxy': 3} done\n",
      "{'eta': 2, 'pt': 6, 'sigdxy': 3} done\n",
      "{'eta': 0, 'pt': 7, 'sigdxy': 4} done\n",
      "{'eta': 0, 'pt': 7, 'sigdxy': 2} done\n",
      "{'eta': 2, 'pt': 7, 'sigdxy': 2} done\n",
      "{'eta': 2, 'pt': 7, 'sigdxy': 4} done\n",
      "Total time: 36.2 mins\n"
     ]
    }
   ],
   "source": [
    "multiCpu = True\n",
    "start = time.time()\n",
    "if multiCpu:\n",
    "    N_max = max(1, multiprocessing.cpu_count() - 8)\n",
    "    N_request = min(len(inputs), N_max)\n",
    "    print 'Parallelization factor:', N_request\n",
    "    p = multiprocessing.Pool(N_request)\n",
    "    output = p.map(analyzeBin, inputs)\n",
    "else:\n",
    "    output = []\n",
    "    for i in inputs:\n",
    "        output.append(analyzeBin(i, reloadTree=False, verbose=True))\n",
    "print 'Total time: {:.1f} mins'.format((time.time() - start)/60.)"
   ]
  },
  {
   "cell_type": "code",
   "execution_count": 27,
   "metadata": {
    "ExecuteTime": {
     "end_time": "2020-06-19T02:17:19.603186Z",
     "start_time": "2020-06-19T02:17:19.574712Z"
    },
    "scrolled": true
   },
   "outputs": [],
   "source": [
    "for idx, nSigTot, nSigPass in output:\n",
    "    ip = idx['pt']+1\n",
    "    ii = idx['sigdxy']+1\n",
    "    ie = idx['eta']+1\n",
    "    h2['Ntot'].SetBinContent(ip, ii, ie, nSigTot)\n",
    "    h2['Ntot'].SetBinError(h2['Ntot'].GetBin(ip, ii, ie), np.sqrt(nSigTot))\n",
    "    h2['Npass'].SetBinContent(ip, ii, ie, nSigPass)\n",
    "    h2['Npass'].SetBinError(h2['Npass'].GetBin(ip, ii, ie), np.sqrt(nSigPass))"
   ]
  },
  {
   "cell_type": "code",
   "execution_count": 28,
   "metadata": {
    "ExecuteTime": {
     "end_time": "2020-06-19T02:17:20.104933Z",
     "start_time": "2020-06-19T02:17:19.962799Z"
    }
   },
   "outputs": [],
   "source": [
    "if not rt.TEfficiency.CheckConsistency(h2['Npass'], h2['Ntot']): raise\n",
    "pEff = rt.TEfficiency(h2['Npass'], h2['Ntot'])\n",
    "pEff.SetStatisticOption(rt.TEfficiency.kFCP)\n",
    "pEff.SetNameTitle('eff_'+probeTrigger, 'Efficience for '+probeTrigger)\n",
    "\n",
    "tf = rt.TFile('../data/calibration/triggerScaleFactors/{}_{}_{}.root'.format(probeTrigger, dataset, version), 'RECREATE')\n",
    "pEff.Write()\n",
    "for h in h2.values():\n",
    "    h.Write()\n",
    "tf.Close()"
   ]
  },
  {
   "cell_type": "code",
   "execution_count": 29,
   "metadata": {
    "ExecuteTime": {
     "end_time": "2020-06-19T02:17:20.546329Z",
     "start_time": "2020-06-19T02:17:20.530089Z"
    },
    "code_folding": [
     0
    ],
    "scrolled": false
   },
   "outputs": [],
   "source": [
    "# outCanvases = []\n",
    "# rt.gStyle.SetOptTitle(1)\n",
    "# rt.gStyle.SetTitleFillColor(0)\n",
    "# rt.gStyle.SetTitleBorderSize(0)\n",
    "# N_dof = h2['Chi2tot'].GetBinError(h2['Chi2tot'].GetBin(1,1,1))\n",
    "# for iz in range(1, h2['Chi2tot'].GetNbinsZ()+1):\n",
    "#     title = 'All candidates, {:.1f} < |#eta| < {:.1f}'.format(binning['eta'][iz-1], binning['eta'][iz])\n",
    "#     h2_chi2tot = rt.TH2D('h2Chi2tot_'+str(iz), title, \n",
    "#                          len(binning['pt'])-1, -0.5, len(binning['pt'])-1.5, \n",
    "#                          len(binning['sigdxy'])-1, -0.5, len(binning['sigdxy'])-1.5\n",
    "#                         )\n",
    "#     h2_chi2tot.GetXaxis().SetTitle('Index p_{T}')\n",
    "#     h2_chi2tot.GetYaxis().SetTitle('Index IP')\n",
    "#     h2_chi2tot.GetZaxis().SetTitle('#chi^{2}/dof')\n",
    "    \n",
    "#     title = 'Passed, {:.1f} < |#eta| < {:.1f}'.format(binning['eta'][iz-1], binning['eta'][iz])\n",
    "#     h2_chi2pass = rt.TH2D('h2Chi2pass_'+str(iz), title, \n",
    "#                          len(binning['pt'])-1, -0.5, len(binning['pt'])-1.5, \n",
    "#                          len(binning['sigdxy'])-1, -0.5, len(binning['sigdxy'])-1.5\n",
    "#                         )\n",
    "#     h2_chi2pass.GetXaxis().SetTitle('Index p_{T}')\n",
    "#     h2_chi2pass.GetYaxis().SetTitle('Index IP')\n",
    "#     h2_chi2pass.GetZaxis().SetTitle('#chi^{2}/dof')\n",
    "    \n",
    "#     for ix, iy in itertools.product(range(1, h2['Chi2tot'].GetNbinsX()+1), range(1, h2['Chi2tot'].GetNbinsY()+1)):\n",
    "#         idx = h2['Chi2tot'].GetBin(ix, iy, iz)\n",
    "#         h2_chi2tot.SetBinContent(ix, iy, h2['Chi2tot'].GetBinContent(idx)/7.)\n",
    "#         h2_chi2pass.SetBinContent(ix, iy, h2['Chi2pass'].GetBinContent(idx)/7.)\n",
    "\n",
    "#     c = rt.TCanvas('c_'+str(iz), 'c_'+str(iz), 50, 50, 1200, 500)\n",
    "#     c.SetTickx(0)\n",
    "#     c.SetTicky(0)\n",
    "#     c.Divide(2)\n",
    "\n",
    "#     p = c.cd(1)\n",
    "#     h2_chi2tot.Draw('colz')\n",
    "#     h2_chi2tot.GetZaxis().SetRangeUser(-5, 5)\n",
    "#     p.SetTopMargin(0.09)\n",
    "#     p.SetRightMargin(0.18)\n",
    "#     cl.DrawLine(triggerLimits[0][0]-0.5, triggerLimits[1][0]-0.5, triggerLimits[0][0]-0.5, triggerLimits[1][1]+0.5)\n",
    "#     cl.DrawLine(triggerLimits[0][0]-0.5, triggerLimits[1][1]+0.5, triggerLimits[0][1]+0.5, triggerLimits[1][1]+0.5)\n",
    "#     cl.DrawLine(triggerLimits[0][1]+0.5, triggerLimits[1][1]+0.5, triggerLimits[0][1]+0.5, triggerLimits[1][0]-0.5)\n",
    "#     cl.DrawLine(triggerLimits[0][1]+0.5, triggerLimits[1][0]-0.5, triggerLimits[0][0]-0.5, triggerLimits[1][0]-0.5)\n",
    "    \n",
    "#     p = c.cd(2)\n",
    "#     h2_chi2pass.Draw('colz')\n",
    "#     h2_chi2pass.GetZaxis().SetRangeUser(-5, 5)\n",
    "#     p.SetTopMargin(0.09)\n",
    "#     p.SetRightMargin(0.18)\n",
    "#     cl.DrawLine(triggerLimits[0][0]-0.5, triggerLimits[1][0]-0.5, triggerLimits[0][0]-0.5, triggerLimits[1][1]+0.5)\n",
    "#     cl.DrawLine(triggerLimits[0][0]-0.5, triggerLimits[1][1]+0.5, triggerLimits[0][1]+0.5, triggerLimits[1][1]+0.5)\n",
    "#     cl.DrawLine(triggerLimits[0][1]+0.5, triggerLimits[1][1]+0.5, triggerLimits[0][1]+0.5, triggerLimits[1][0]-0.5)\n",
    "#     cl.DrawLine(triggerLimits[0][1]+0.5, triggerLimits[1][0]-0.5, triggerLimits[0][0]-0.5, triggerLimits[1][0]-0.5)\n",
    "    \n",
    "    \n",
    "#     c.Draw()\n",
    "#     imgLoc = '../data/calibration/triggerScaleFactors/figFit'+dataset+'/{}'.format(probeTrigger)\n",
    "#     c.SaveAs(imgLoc + '/' + 'chi2_eta{}.png'.format(iz-1))\n",
    "#     outCanvases.append([c, h2_chi2tot, h2_chi2pass])"
   ]
  },
  {
   "cell_type": "code",
   "execution_count": 30,
   "metadata": {
    "ExecuteTime": {
     "end_time": "2020-06-19T02:17:21.335142Z",
     "start_time": "2020-06-19T02:17:20.943112Z"
    },
    "scrolled": false
   },
   "outputs": [
    {
     "data": {
      "image/png": "[encoded data removed]",
      "text/plain": [
       "<IPython.core.display.Image object>"
      ]
     },
     "metadata": {},
     "output_type": "display_data"
    },
    {
     "data": {
      "image/png": "[encoded data removed]",
      "text/plain": [
       "<IPython.core.display.Image object>"
      ]
     },
     "metadata": {},
     "output_type": "display_data"
    },
    {
     "data": {
      "image/png": "[encoded data removed]",
      "text/plain": [
       "<IPython.core.display.Image object>"
      ]
     },
     "metadata": {},
     "output_type": "display_data"
    }
   ],
   "source": [
    "outCanvases = []\n",
    "tdrstyle.setTDRStyle()\n",
    "BRY_colors = [rt.kGray+2, rt.kBlue, rt.kViolet, rt.kRed, rt.kOrange, rt.kYellow+1]\n",
    "hRef = h2['Npass']\n",
    "for iz in range(1, hRef.GetNbinsZ()+1):\n",
    "    title = 'Efficiency {} {} ({:.1f} < |#eta| < {:.1f})'.format(probeTrigger, dataset, binning['eta'][iz-1], binning['eta'][iz])\n",
    "    \n",
    "    leg = rt.TLegend(0.7, 0.2, 0.98, 0.5)\n",
    "    leg.SetLineWidth(0)\n",
    "    leg.SetBorderSize(0)\n",
    "    gr2draw = []\n",
    "\n",
    "    for iy in range(1, hRef.GetNbinsY()+1):\n",
    "        gr = rt.TGraphAsymmErrors()\n",
    "        for ix in range(1, hRef.GetNbinsX()+1):\n",
    "            idx = pEff.GetGlobalBin(ix, iy, iz)\n",
    "            x = binning['pt'][ix-1] + 0.5*(binning['pt'][ix] - binning['pt'][ix-1])\n",
    "            gr.SetPoint(ix-1, x, pEff.GetEfficiency(idx))\n",
    "            gr.SetPointError(ix-1, x-binning['pt'][ix-1], binning['pt'][ix]-x, \n",
    "                             pEff.GetEfficiencyErrorLow(idx), pEff.GetEfficiencyErrorUp(idx)\n",
    "                            )\n",
    "        gr.SetLineColor(BRY_colors[iy-1])\n",
    "        gr.SetMarkerColor(BRY_colors[iy-1])\n",
    "        leg.AddEntry(gr, '{:.1f} < IP < {:.1f}'.format(binning['sigdxy'][iy-1], binning['sigdxy'][iy]), 'lep')\n",
    "        gr2draw.append(gr)\n",
    "    \n",
    "    M = 1.2\n",
    "    m = 0\n",
    "    gr2draw[0].GetYaxis().SetRangeUser(m ,M)\n",
    "    c = drawOnCMSCanvas(CMS_lumi, gr2draw, ['AP'] + (len(gr2draw)-1)*['P'], tag='_eff'+str(iz))    \n",
    "    gr2draw[0].GetYaxis().SetTitle('Efficiency')\n",
    "    gr2draw[0].GetXaxis().SetTitle('Muon p_{T} [GeV]')\n",
    "    leg.Draw()\n",
    "#     c.SetLogx()\n",
    "#     c.SetLogy()\n",
    "#     m = 1e-3\n",
    "#     M = 5\n",
    "    gr2draw[0].GetXaxis().SetTitleOffset(1.1)\n",
    "    \n",
    "    trgThr = float(re.search(r'_Mu[0-9]+_', probeTrigger).group(0)[3:-1])\n",
    "    cl.DrawLine(trgThr, m, trgThr, 1)\n",
    "    \n",
    "    l = rt.TLine()\n",
    "    l.SetLineWidth(1)\n",
    "    l.SetLineColor(rt.kGray)\n",
    "    l.SetLineStyle(7)\n",
    "    l.DrawLine(binning['pt'][0], 1, binning['pt'][-1], 1)\n",
    "    \n",
    "    rt.TLatex()\n",
    "    text = rt.TLatex()\n",
    "    text.SetTextAlign(22)\n",
    "    text.SetTextSize(0.04)\n",
    "    text.SetTextFont(42)\n",
    "    text.DrawLatexNDC(0.6, 0.9, title);\n",
    "\n",
    "    imgLoc = '../data/calibration/triggerScaleFactors/figEff/'\n",
    "    c.SaveAs(imgLoc + probeTrigger+ '_' + dataset + '_eta{}_{}.png'.format(iz-1, version))\n",
    "    outCanvases.append([c, gr2draw, leg])"
   ]
  },
  {
   "cell_type": "code",
   "execution_count": null,
   "metadata": {},
   "outputs": [],
   "source": []
  }
 ],
 "metadata": {
  "kernelspec": {
   "display_name": "Python 2",
   "language": "python",
   "name": "python2"
  },
  "language_info": {
   "codemirror_mode": {
    "name": "ipython",
    "version": 2
   },
   "file_extension": ".py",
   "mimetype": "text/x-python",
   "name": "python",
   "nbconvert_exporter": "python",
   "pygments_lexer": "ipython2",
   "version": "2.7.14+"
  },
  "varInspector": {
   "cols": {
    "lenName": 16,
    "lenType": 16,
    "lenVar": 40
   },
   "kernels_config": {
    "python": {
     "delete_cmd_postfix": "",
     "delete_cmd_prefix": "del ",
     "library": "var_list.py",
     "varRefreshCmd": "print(var_dic_list())"
    },
    "r": {
     "delete_cmd_postfix": ") ",
     "delete_cmd_prefix": "rm(",
     "library": "var_list.r",
     "varRefreshCmd": "cat(var_dic_list()) "
    }
   },
   "types_to_exclude": [
    "module",
    "function",
    "builtin_function_or_method",
    "instance",
    "_Feature"
   ],
   "window_display": false
  }
 },
 "nbformat": 4,
 "nbformat_minor": 2
}
