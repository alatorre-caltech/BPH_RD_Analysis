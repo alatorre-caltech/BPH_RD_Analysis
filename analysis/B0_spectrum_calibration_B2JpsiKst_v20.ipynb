{
 "cells": [
  {
   "cell_type": "markdown",
   "metadata": {},
   "source": [
    "First for soft QCD, using standard PU reweighting"
   ]
  },
  {
   "cell_type": "code",
   "execution_count": 1,
   "metadata": {
    "ExecuteTime": {
     "end_time": "2021-10-08T23:35:43.194713Z",
     "start_time": "2021-10-08T23:35:43.151214Z"
    }
   },
   "outputs": [],
   "source": [
    "from categoriesDef import categories\n",
    "cat = categories['high']\n",
    "version = 'v20'\n",
    "mB_var = 'mass_candB'"
   ]
  },
  {
   "cell_type": "markdown",
   "metadata": {},
   "source": [
    "### Imports"
   ]
  },
  {
   "cell_type": "code",
   "execution_count": 2,
   "metadata": {
    "ExecuteTime": {
     "end_time": "2021-10-08T23:35:54.234900Z",
     "start_time": "2021-10-08T23:35:44.423249Z"
    }
   },
   "outputs": [
    {
     "name": "stdout",
     "output_type": "stream",
     "text": [
      "Welcome to JupyROOT 6.12/07\n"
     ]
    }
   ],
   "source": [
    "import numpy as np\n",
    "import scipy.stats as sps\n",
    "from glob import glob\n",
    "import pickle, yaml\n",
    "import time\n",
    "from array import array\n",
    "import pandas as pd\n",
    "import matplotlib.pyplot as plt\n",
    "import uproot as ur\n",
    "import ROOT as rt\n",
    "import root_numpy as rtnp\n",
    "import ROOT.RooFit as rf\n",
    "from scipy.special import erf\n",
    "import sys, os\n",
    "sys.path.append('../lib')\n",
    "if os.environ['CMSSW_VERSION'] != 'CMSSW_10_2_3':\n",
    "    raise\n",
    "from histo_utilities import create_TH1D, create_TH2D, std_color_list, SetMaxToMaxHist, make_ratio_plot\n",
    "from cebefo_style import Set_2D_colz_graphics\n",
    "from progressBar import ProgressBar\n",
    "\n",
    "from analysis_utilities import drawOnCMSCanvas, DSetLoader\n",
    "from lumi_utilities import getLumiByTrigger\n",
    "\n",
    "import CMS_lumi, tdrstyle\n",
    "tdrstyle.setTDRStyle()\n",
    "CMS_lumi.writeExtraText = 1\n",
    "CMS_lumi.extraText = \"     Internal\"\n",
    "\n",
    "donotdelete = []"
   ]
  },
  {
   "cell_type": "code",
   "execution_count": 3,
   "metadata": {
    "ExecuteTime": {
     "end_time": "2021-10-08T23:35:54.407883Z",
     "start_time": "2021-10-08T23:35:54.310779Z"
    }
   },
   "outputs": [],
   "source": [
    "rt.gErrorIgnoreLevel = rt.kError\n",
    "rt.RooMsgService.instance().setGlobalKillBelow(rt.RooFit.ERROR)"
   ]
  },
  {
   "cell_type": "code",
   "execution_count": 4,
   "metadata": {
    "ExecuteTime": {
     "end_time": "2021-10-08T23:35:54.483210Z",
     "start_time": "2021-10-08T23:35:54.468703Z"
    }
   },
   "outputs": [],
   "source": [
    "m_B0 = 5.27963 #1e-3*Particle.from_string('B0').mass"
   ]
  },
  {
   "cell_type": "code",
   "execution_count": 5,
   "metadata": {
    "ExecuteTime": {
     "end_time": "2021-10-08T23:35:54.569716Z",
     "start_time": "2021-10-08T23:35:54.551762Z"
    }
   },
   "outputs": [],
   "source": [
    "cl = rt.TLine()\n",
    "cl.SetLineColor(6)\n",
    "cl.SetLineStyle(9)\n",
    "cl.SetLineWidth(2)"
   ]
  },
  {
   "cell_type": "code",
   "execution_count": null,
   "metadata": {
    "ExecuteTime": {
     "end_time": "2021-05-11T02:12:11.940296Z",
     "start_time": "2021-05-11T02:12:11.914089Z"
    }
   },
   "outputs": [],
   "source": [
    "webFolder = '/storage/user/ocerri/public_html/BPH_RDst/calibrationPtB0_JpsiKst/'+version+'/'\n",
    "if not os.path.isdir(webFolder):\n",
    "    os.makedirs(webFolder)\n",
    "    os.system('cp {v}../index.php {v}'.format(v=webFolder))"
   ]
  },
  {
   "cell_type": "markdown",
   "metadata": {
    "heading_collapsed": true
   },
   "source": [
    "# Load data"
   ]
  },
  {
   "cell_type": "code",
   "execution_count": null,
   "metadata": {
    "ExecuteTime": {
     "end_time": "2021-05-11T02:12:11.981603Z",
     "start_time": "2021-05-11T02:12:11.945257Z"
    },
    "hidden": true
   },
   "outputs": [],
   "source": [
    "dataDir = '../data/cmsRD'\n",
    "datasets_loc = glob(dataDir + '/ParkingBPH*/*2018*B2JpsiKst_210501*')\n",
    "lumi_tot = getLumiByTrigger(datasets_loc, cat.trg, verbose=True)\n",
    "if not lumi_tot:\n",
    "    expectedLumi = {'Low':6.4, 'Mid':20., 'High':26.} #fb^-1\n",
    "    lumi_tot = expectedLumi[cat.name]\n",
    "    print 'Total lumi (estimated): {:.1f} fb^-1'.format(lumi_tot)\n",
    "CMS_lumi.integrated_lumi = lumi_tot"
   ]
  },
  {
   "cell_type": "code",
   "execution_count": null,
   "metadata": {
    "ExecuteTime": {
     "end_time": "2021-05-11T02:12:12.217302Z",
     "start_time": "2021-05-11T02:12:11.986304Z"
    },
    "hidden": true
   },
   "outputs": [],
   "source": [
    "dsetRD_loc = '../data/cmsRD/skimmed/B2JpsiKst_210501_{}_corr.root'.format(cat.name)\n",
    "\n",
    "fRD_skimmed = rt.TFile.Open(dsetRD_loc, 'READ')\n",
    "tRD_skimmed = fRD_skimmed.Get('Tevts')\n",
    "\n",
    "N_sel_per_fb = tRD_skimmed.GetEntries()/lumi_tot\n",
    "print 'Selected events per fb: {:.0f}'.format(N_sel_per_fb)"
   ]
  },
  {
   "cell_type": "markdown",
   "metadata": {
    "heading_collapsed": true
   },
   "source": [
    "# Analyze data"
   ]
  },
  {
   "cell_type": "markdown",
   "metadata": {
    "hidden": true
   },
   "source": [
    "### Fit the whole dataset"
   ]
  },
  {
   "cell_type": "code",
   "execution_count": null,
   "metadata": {
    "ExecuteTime": {
     "end_time": "2021-05-11T02:12:12.365391Z",
     "start_time": "2021-05-11T02:12:12.221735Z"
    },
    "hidden": true,
    "hide_input": false
   },
   "outputs": [],
   "source": [
    "width = 0.003 #GeV\n",
    "m_min = 5.201\n",
    "m_max = 5.36\n",
    "h = create_TH1D(np.zeros(0), name='h',\n",
    "                title='',\n",
    "                axis_title=['m(#mu#mu#pi^{-}K^{+}) [GeV]', 'Events'],\n",
    "                binning=np.arange(start=m_min, stop=m_max, step=width)\n",
    "               )\n",
    "tRD_skimmed.Project('h', mB_var)\n",
    "h.Sumw2()"
   ]
  },
  {
   "cell_type": "code",
   "execution_count": null,
   "metadata": {
    "ExecuteTime": {
     "end_time": "2021-05-11T02:12:12.589607Z",
     "start_time": "2021-05-11T02:12:12.370233Z"
    },
    "hidden": true,
    "hide_input": true
   },
   "outputs": [],
   "source": [
    "N = h.GetNbinsX()\n",
    "m_max = h.GetBinCenter(N) +  0.5*h.GetBinWidth(N)\n",
    "mass = rt.RooRealVar(mB_var, 'm_{#mu#mu#piK}', m_min, m_max, 'GeV')\n",
    "\n",
    "mean = rt.RooRealVar('mean', '#mu', m_B0, 3, 7, 'GeV')\n",
    "sigmaN = rt.RooRealVar('sigmaN', '#sigma_{N}', 0.01, 0.0005, 0.1, 'GeV') \n",
    "sigmaW = rt.RooRealVar('sigmaW', '#sigma_{W}', 0.03, 0.005, 0.1, 'GeV') \n",
    "gausN = rt.RooGaussian('gausN','gausN', mass, mean, sigmaN)\n",
    "gausW = rt.RooGaussian('gausW','gausW', mass, mean, sigmaW)\n",
    "fN = rt.RooRealVar('fN', 'f_{N}', 0.5, 0.01, 0.99)\n",
    "pdf_sig = rt.RooAddPdf('dGaus', 'sig pdf', rt.RooArgList(gausN, gausW), rt.RooArgList(fN))\n",
    "\n",
    "# mean = rt.RooRealVar('mean', '#mu', m_B0, 3, 7, 'GeV')\n",
    "# sigma = rt.RooRealVar('sigma', '#sigma', 0.03, 0.00005, 0.1, 'GeV')\n",
    "# pAsym = rt.RooRealVar('pAsym', '#alpha', 0, -1, 1)\n",
    "# # pAsym.setConstant(rt.kTRUE)\n",
    "# rho1 = rt.RooRealVar('rho1', '#rho_{1}', -0.5, -10, 0)\n",
    "# # rho1.setConstant(rt.kTRUE)\n",
    "# rho2 = rt.RooRealVar('rho2', '#rho_{2}', 0.5, 0, 10)\n",
    "# pdf_sig = rt.RooBukinPdf('bukin','sig pdf', mass, mean, sigma, pAsym, rho1, rho2)\n",
    "\n",
    "N_tot = h.Integral(1, h.GetNbinsX())\n",
    "nsig = rt.RooRealVar('nsig', 'N_{S}', 0.9*N_tot, 0, 100*N_tot)\n",
    "pdf_sig_ext = rt.RooExtendPdf('esig', 'esig', pdf_sig, nsig)"
   ]
  },
  {
   "cell_type": "code",
   "execution_count": null,
   "metadata": {
    "ExecuteTime": {
     "end_time": "2021-05-11T02:12:12.623585Z",
     "start_time": "2021-05-11T02:12:12.594292Z"
    },
    "hidden": true,
    "hide_input": true
   },
   "outputs": [],
   "source": [
    "lam = rt.RooRealVar('lam', '#lambda', -2.1, -100, -0.1, 'GeV^{-1}')\n",
    "pdf_bkg = rt.RooExponential('expo', 'bkg pdf', mass, lam)\n",
    "\n",
    "# a0 = rt.RooRealVar('a0', 'a0', 10, 0, 100)\n",
    "# a1 = rt.RooRealVar('a1', 'a1', -0.1, -10, 100)\n",
    "# a2 = rt.RooRealVar('a2', 'a2', 0.1, -100, 100)\n",
    "# pdf_bkg = rt.RooPolynomial('poly', 'bkg pdf', mass, rt.RooArgList(a1, a2), 1)\n",
    "\n",
    "nbkg = rt.RooRealVar('nbkg', 'N_{B}', 0.1*N_tot, 0, 100*N_tot)\n",
    "pdf_bkg_ext = rt.RooExtendPdf('ebkg', 'ebkg', pdf_bkg, nbkg)"
   ]
  },
  {
   "cell_type": "code",
   "execution_count": null,
   "metadata": {
    "ExecuteTime": {
     "end_time": "2021-05-11T02:12:12.886497Z",
     "start_time": "2021-05-11T02:12:12.628009Z"
    },
    "hidden": true,
    "hide_input": false
   },
   "outputs": [],
   "source": [
    "data = rt.RooDataHist('d', 'data', rt.RooArgList(mass), h)\n",
    "\n",
    "pdf_tot = rt.RooAddPdf('pdftot', 'pdftot', rt.RooArgList(pdf_sig_ext, pdf_bkg_ext))\n",
    "fr = pdf_tot.fitTo(data, rf.PrintLevel(-1), rf.Save())\n",
    "\n",
    "dof = h.GetNbinsX()-fr.floatParsFinal().getSize()\n",
    "chi2 = rt.RooChi2Var(\"chi2\", 'chi2', pdf_tot, data)\n",
    "pval = rt.ROOT.Math.chisquared_cdf_c(chi2.getVal(), dof)\n",
    "print 'chi2: {:.1f}/{:.0f} {:.3f}'.format(chi2.getVal(), dof, pval)\n",
    "\n",
    "print 'Total: Nsig = {:.0f}, Nbkg = {:.0f}'.format(nsig.getVal(), nbkg.getVal())\n",
    "N_sig_per_fb = nsig.getVal()/lumi_tot\n",
    "dN_sig_per_fb = nsig.getError()/lumi_tot\n",
    "print 'Signal events per fb: {:.0f}'.format(N_sig_per_fb)"
   ]
  },
  {
   "cell_type": "code",
   "execution_count": null,
   "metadata": {
    "ExecuteTime": {
     "end_time": "2021-05-11T02:12:13.453191Z",
     "start_time": "2021-05-11T02:12:12.890220Z"
    },
    "hidden": true,
    "hide_input": true,
    "scrolled": false
   },
   "outputs": [],
   "source": [
    "frame = mass.frame(rf.Title(\"\"))\n",
    "data.plotOn(frame, rf.MarkerStyle(1), rf.DrawOption('E1'), rf.MarkerColor(h.GetLineColor()), rf.LineColor(h.GetLineColor()), rf.MarkerStyle(15))\n",
    "pdf_tot.plotOn(frame, rf.LineColor(h.GetLineColor()), rf.LineWidth(1))\n",
    "pdf_tot.plotOn(frame, rf.Components('ebkg'), rf.LineColor(rt.kRed), rf.LineWidth(2), rf.LineStyle(7))\n",
    "pdf_tot.plotOn(frame, rf.Components('esig'), rf.LineColor(rt.kBlue), rf.LineWidth(2), rf.LineStyle(7))\n",
    "\n",
    "x_min = h.binning[1] + (h.binning[-1]-h.binning[1])*0.03\n",
    "x_max = h.binning[1] + (h.binning[-1]-h.binning[1])*0.3\n",
    "pTxt = rt.TPaveText(x_min, 0.2*h.GetMaximum(), x_max, h.GetMaximum())\n",
    "pTxt.SetBorderSize(0)\n",
    "pTxt.SetFillStyle(0)\n",
    "pTxt.SetTextAlign(11)\n",
    "pTxt.AddText('#chi^{{2}}: {:.1f}/{:.0f} ({:.2f})'.format(chi2.getVal(), dof, pval))\n",
    "pTxt.AddText('N_{{sig}} = {:.0f} +/- {:.0f}'.format(nsig.getVal(), nsig.getError()))\n",
    "\n",
    "pTxt.AddText('#mu = {:.1f} +/- {:.1f} MeV'.format(1e3*mean.getVal(), 1e3*mean.getError()))\n",
    "pTxt.AddText('#sigma_{{N}} = {:.1f} +/- {:.1f} MeV'.format(1e3*sigmaN.getVal(), 1e3*sigmaN.getError()))\n",
    "pTxt.AddText('#sigma_{{W}} = {:.1f} +/- {:.1f} MeV'.format(1e3*sigmaW.getVal(), 1e3*sigmaW.getError()))\n",
    "pTxt.AddText('f_{{N}} = {:.2f} +/- {:.2f}'.format(fN.getVal(), fN.getError()))\n",
    "\n",
    "# pTxt.AddText('#mu = {:.1f} +/- {:.1f} MeV'.format(1e3*mean.getVal(), 1e3*mean.getError()))\n",
    "# pTxt.AddText('#sigma = {:.1f} +/- {:.1f} MeV'.format(1e3*sigma.getVal(), 1e3*sigma.getError()))\n",
    "# pTxt.AddText('#alpha = {:.3f} +/- {:.3f}'.format(pAsym.getVal(), pAsym.getError()))\n",
    "# pTxt.AddText('#rho_{{1}} = {:.3f} +/- {:.3f}'.format(rho1.getVal(), rho1.getError()))\n",
    "# pTxt.AddText('#rho_{{2}} = {:.3f} +/- {:.3f}'.format(rho2.getVal(), rho2.getError()))\n",
    "\n",
    "catText = rt.TLatex()\n",
    "catText.SetTextAlign(31)\n",
    "catText.SetTextSize(0.06)\n",
    "catText.SetTextFont(42)\n",
    "catText.SetTextSize(0.05)\n",
    "\n",
    "c = drawOnCMSCanvas(CMS_lumi, frame)\n",
    "cl.DrawLine(m_B0, 0, m_B0, h.GetMaximum());\n",
    "pTxt.Draw()\n",
    "catText.DrawLatexNDC(0.95, 0.85, 'Category: {}'.format(cat.name))\n",
    "c.SaveAs('../data/calibration/B0pTspectrum/fig/MassMuMuPiK_data_' + cat.name + '_' + version + '.png')\n",
    "c.SaveAs(webFolder+'MassMuMuPiK_data_' + cat.name + '_' + version + '.png')"
   ]
  },
  {
   "cell_type": "markdown",
   "metadata": {
    "hidden": true
   },
   "source": [
    "### Make sDataset"
   ]
  },
  {
   "cell_type": "code",
   "execution_count": null,
   "metadata": {
    "ExecuteTime": {
     "end_time": "2021-05-11T02:12:15.160914Z",
     "start_time": "2021-05-11T02:12:13.457905Z"
    },
    "hidden": true
   },
   "outputs": [],
   "source": [
    "v_trgMu_pt = rt.RooRealVar('trgMu_pt', 'trg #mu p_{T}', 0, 500, 'GeV')\n",
    "v_otherMu_pt = rt.RooRealVar('otherMu_pt', 'trg #mu p_{T}', 0, 500, 'GeV')\n",
    "v_trgMu_eta = rt.RooRealVar('trgMu_eta', 'trg #mu #eta', -3, 3, '')\n",
    "v_K_pt = rt.RooRealVar('K_pt', 'K p_{T}', 0, 500, 'GeV')\n",
    "v_pi_pt = rt.RooRealVar('pi_pt', '#pi p_{T}', 0, 500, 'GeV')\n",
    "v_Jpsi_pt = rt.RooRealVar('Jpsi_pt', 'J/#psi p_{T}', 0, 500, 'GeV')\n",
    "v_Kst_pt = rt.RooRealVar('Kst_pt', 'K* p_{T}', 0, 500, 'GeV')\n",
    "v_B_pt = rt.RooRealVar('B_pt', 'p_{T}^{(B)}', 0, 500, 'GeV')\n",
    "v_B_eta = rt.RooRealVar('B_eta', '#eta^{(B)}', -3, 3, 'GeV')\n",
    "v_N_vtx = rt.RooRealVar('N_vtx', 'N_{vtx}', 0, 1e3)\n",
    "# Displacement related quantities\n",
    "v_sigdxy_vtxB_PV = rt.RooRealVar('sigdxy_vtxB_PV', 'd_{xy}/#sigma_{xy}', 0, 1e4)\n",
    "v_pval_mumupiK = rt.RooRealVar('pval_mumupiK', 'p-val vtx #mu#mu#piK', 0, 2)\n",
    "\n",
    "ss = rt.RooArgSet(mass, v_trgMu_pt, v_trgMu_eta, \n",
    "                  v_K_pt, v_pi_pt,\n",
    "                  v_Jpsi_pt, v_Kst_pt,\n",
    "                  v_B_eta, v_B_pt)\n",
    "ss.add(v_N_vtx)\n",
    "ss.add(v_otherMu_pt)\n",
    "ss.add(v_sigdxy_vtxB_PV)\n",
    "ss.add(v_pval_mumupiK)\n",
    "\n",
    "rt.RooAbsData.setDefaultStorageType(rt.RooAbsData.Tree)\n",
    "ds = rt.RooDataSet('ds', 'ds', tRD_skimmed, ss)\n",
    "ds.convertToTreeStore()"
   ]
  },
  {
   "cell_type": "code",
   "execution_count": null,
   "metadata": {
    "ExecuteTime": {
     "end_time": "2021-05-11T02:12:19.993724Z",
     "start_time": "2021-05-11T02:12:15.166032Z"
    },
    "hidden": true
   },
   "outputs": [],
   "source": [
    "sData = rt.RooStats.SPlot('sData', 'sData', ds, pdf_tot, rt.RooArgList(nsig, nbkg))\n",
    "sData.GetYieldFromSWeight('nsig_sw')"
   ]
  },
  {
   "cell_type": "code",
   "execution_count": null,
   "metadata": {
    "ExecuteTime": {
     "end_time": "2021-05-11T02:12:20.595583Z",
     "start_time": "2021-05-11T02:12:19.998615Z"
    },
    "hidden": true
   },
   "outputs": [],
   "source": [
    "f_sw = rt.TFile(dsetRD_loc.replace('.root', '_sw.root'), 'RECREATE')\n",
    "ds.convertToTreeStore()\n",
    "auxTree = ds.tree()\n",
    "auxTree.Write()\n",
    "f_sw.Close()"
   ]
  },
  {
   "cell_type": "code",
   "execution_count": null,
   "metadata": {
    "ExecuteTime": {
     "end_time": "2021-05-11T02:12:21.026441Z",
     "start_time": "2021-05-11T02:12:20.599422Z"
    },
    "hidden": true
   },
   "outputs": [],
   "source": [
    "dfRD = pd.DataFrame(rtnp.root2array(dsetRD_loc.replace('.root', '_sw.root')))\n",
    "dfRD['sigSW'] = dfRD['L_nsig']/(dfRD['L_nsig']+dfRD['L_nbkg'])"
   ]
  },
  {
   "cell_type": "markdown",
   "metadata": {},
   "source": [
    "# Load MC"
   ]
  },
  {
   "cell_type": "code",
   "execution_count": null,
   "metadata": {
    "ExecuteTime": {
     "end_time": "2021-05-11T02:12:23.313321Z",
     "start_time": "2021-05-11T02:12:21.031187Z"
    }
   },
   "outputs": [],
   "source": [
    "mcSample = DSetLoader('B0_JpsiKst_General', candDir='ntuples_B2JpsiKst')\n",
    "# dsetMC_loc = mcSample.skimmed_dir + '/{}_corr.root'.format(cat.name)\n",
    "dsetMC_loc = mcSample.skimmed_dir + '/{}_bare.root'.format(cat.name)\n",
    "\n",
    "dfMC = pd.DataFrame(rtnp.root2array(dsetMC_loc))"
   ]
  },
  {
   "cell_type": "code",
   "execution_count": null,
   "metadata": {
    "ExecuteTime": {
     "end_time": "2021-05-11T02:12:23.372649Z",
     "start_time": "2021-05-11T02:12:23.317598Z"
    }
   },
   "outputs": [],
   "source": [
    "effMCgen = mcSample.effMCgen\n",
    "decayBR = pickle.load(open('../data/forcedDecayChannelsFactors.pickle', 'rb'))['JPsiKst']\n",
    "effCAND = mcSample.effCand['effCAND']\n",
    "effSkim = mcSample.getSkimEff(cat.name+'_bare')\n",
    "\n",
    "xsec_eff = 1\n",
    "dxsec = 0\n",
    "for f, df in [effMCgen['xsec'], effMCgen['effGEN'], decayBR, effCAND, effSkim]:\n",
    "    xsec_eff *= f\n",
    "    dxsec += np.square(df/f)\n",
    "dxsec = xsec_eff * np.sqrt(dxsec)\n",
    "print '\\nExpected evts/fb: {:.0f} +/- {:.0f}'.format(xsec_eff, dxsec)\n",
    "print '\\n'"
   ]
  },
  {
   "cell_type": "code",
   "execution_count": null,
   "metadata": {
    "ExecuteTime": {
     "end_time": "2021-05-11T02:12:23.390460Z",
     "start_time": "2021-05-11T02:12:23.377133Z"
    }
   },
   "outputs": [],
   "source": [
    "dsetMC_loc"
   ]
  },
  {
   "cell_type": "code",
   "execution_count": null,
   "metadata": {
    "ExecuteTime": {
     "end_time": "2021-05-11T02:12:23.558519Z",
     "start_time": "2021-05-11T02:12:23.394797Z"
    }
   },
   "outputs": [],
   "source": [
    "from pileup_utilities import pileupReweighter\n",
    "\n",
    "puRew = pileupReweighter(dsetMC_loc, 'hAllNTrueIntMC', trg=cat.trg)\n",
    "dfMC['wPU'] = puRew.getPileupWeights(dfMC['MC_nInteractions'])"
   ]
  },
  {
   "cell_type": "markdown",
   "metadata": {},
   "source": [
    "# Compare"
   ]
  },
  {
   "cell_type": "markdown",
   "metadata": {},
   "source": [
    "### Closure variables"
   ]
  },
  {
   "cell_type": "code",
   "execution_count": null,
   "metadata": {
    "ExecuteTime": {
     "end_time": "2021-05-11T02:12:23.742656Z",
     "start_time": "2021-05-11T02:12:23.563321Z"
    },
    "hide_input": true
   },
   "outputs": [],
   "source": [
    "hRD = create_TH1D(dfRD['N_vtx'], name='hRD',\n",
    "                title='',\n",
    "                axis_title=['Number of vertexes', 'Normalized entries'],\n",
    "                binning=[70, 0.5, 70.5],\n",
    "                weights=dfRD['sigSW'],\n",
    "                scale_histo='norm'\n",
    "               )\n",
    "hRD.SetMarkerStyle(15)\n",
    "\n",
    "hMC = create_TH1D(dfMC['N_vtx'], name='hMC',\n",
    "                  title = 'Pythia Hard b#bar{b}',\n",
    "                  binning=hRD.binning,\n",
    "                  weights=dfMC['wPU'],\n",
    "                  scale_histo='norm' \n",
    "                 )\n",
    "hMC.SetLineColor(rt.kRed)\n",
    "    \n",
    "leg = rt.TLegend(0.6, 0.6, 0.95,0.8)\n",
    "leg.SetBorderSize(0)\n",
    "leg.AddEntry(hRD, 'Data (bkg subtracted)', 'lep')\n",
    "leg.AddEntry(hMC, 'Pythia Hard b#bar{b}', 'le')\n",
    "\n",
    "CMS_lumi.integrated_lumi = lumi_tot\n",
    "m = SetMaxToMaxHist([hRD, hMC])\n",
    "c = drawOnCMSCanvas(CMS_lumi, [hRD, hMC], 'same')\n",
    "leg.Draw()\n",
    "catText.DrawLatexNDC(0.95, 0.85, 'Category: {}'.format(cat.name));"
   ]
  },
  {
   "cell_type": "markdown",
   "metadata": {},
   "source": [
    "### Load MC corrections"
   ]
  },
  {
   "cell_type": "code",
   "execution_count": null,
   "metadata": {
    "ExecuteTime": {
     "end_time": "2021-05-11T02:12:41.654257Z",
     "start_time": "2021-05-11T02:12:23.747115Z"
    },
    "hide_input": false
   },
   "outputs": [],
   "source": [
    "loc = '../data/calibration/triggerScaleFactors/'\n",
    "fTriggerSF = rt.TFile.Open(loc + 'HLT_' + cat.trg + '_SF_v21count.root', 'READ')\n",
    "hTriggerSF = fTriggerSF.Get('hSF_HLT_' + cat.trg)\n",
    "\n",
    "ptmax = hTriggerSF.GetXaxis().GetXmax() - 0.01\n",
    "ipmax = hTriggerSF.GetYaxis().GetXmax() - 0.01\n",
    "etamax = hTriggerSF.GetZaxis().GetXmax() - 0.01\n",
    "        \n",
    "nX = hTriggerSF.GetNbinsX()\n",
    "ptWeight = [[] for k in range(nX+2)]\n",
    "\n",
    "dfMC['trgSF'] = np.ones(dfMC.shape[0])\n",
    "for i, (pt, eta, ip) in enumerate(dfMC[['trgMu_pt', 'trgMu_eta', 'trgMu_sigdxy']].values):\n",
    "    ix = hTriggerSF.GetXaxis().FindBin(min(ptmax, pt))\n",
    "    iy = hTriggerSF.GetYaxis().FindBin(min(ipmax, ip))\n",
    "    iz = hTriggerSF.GetZaxis().FindBin(min(etamax, np.abs(eta)))\n",
    "    dfMC.at[i, 'trgSF'] = hTriggerSF.GetBinContent(ix, iy, iz)\n",
    "#     if np.abs(dfMC.at[i, 'trgSF'] - 1) > 0.1:\n",
    "#         print (4*'{:.2f} ').format(pt, eta, ip, hTriggerSF.GetBinContent(ix, iy, iz))\n",
    "    ptWeight[ix].append(hTriggerSF.GetBinContent(ix, iy, iz))"
   ]
  },
  {
   "cell_type": "code",
   "execution_count": null,
   "metadata": {
    "ExecuteTime": {
     "end_time": "2021-05-11T02:13:02.034835Z",
     "start_time": "2021-05-11T02:12:41.659816Z"
    }
   },
   "outputs": [],
   "source": [
    "fMuonIDSF = rt.TFile.Open('../data/calibration/muonIDscaleFactors/Run2018ABCD_SF_MuonID_Jpsi.root', 'READ')\n",
    "hMuonIDSF = fMuonIDSF.Get('NUM_SoftID_DEN_genTracks_pt_abseta')\n",
    "\n",
    "dfMC['muonSF'] = np.ones(dfMC.shape[0])\n",
    "for i, (ptp, etap, ptm, etam) in enumerate(dfMC[['MC_mup_pt', 'MC_mup_eta', 'MC_mum_pt', 'MC_mum_eta']].values):\n",
    "    ix = hMuonIDSF.GetXaxis().FindBin(min(39.9,ptp))\n",
    "    iy = hMuonIDSF.GetYaxis().FindBin(np.abs(etap))\n",
    "    wp = hMuonIDSF.GetBinContent(ix, iy)\n",
    "    ix = hMuonIDSF.GetXaxis().FindBin(min(39.9,ptm))\n",
    "    iy = hMuonIDSF.GetYaxis().FindBin(np.abs(etam))\n",
    "    wm = hMuonIDSF.GetBinContent(ix, iy)\n",
    "    dfMC.at[i, 'muonSF'] = wp * wm"
   ]
  },
  {
   "cell_type": "code",
   "execution_count": null,
   "metadata": {
    "ExecuteTime": {
     "end_time": "2021-05-11T02:13:02.054966Z",
     "start_time": "2021-05-11T02:13:02.040101Z"
    }
   },
   "outputs": [],
   "source": [
    "dfMC['w'] = dfMC['wPU']*dfMC['muonSF']*dfMC['trgSF']"
   ]
  },
  {
   "cell_type": "code",
   "execution_count": null,
   "metadata": {
    "ExecuteTime": {
     "end_time": "2021-05-11T02:13:02.104083Z",
     "start_time": "2021-05-11T02:13:02.059459Z"
    }
   },
   "outputs": [],
   "source": [
    "print 'MC purity: {:.1f}%'.format(100*np.sum(dfMC['MC_idxMatch'] == 1)/float(dfMC['MC_idxMatch'].shape[0]))"
   ]
  },
  {
   "cell_type": "code",
   "execution_count": null,
   "metadata": {
    "ExecuteTime": {
     "end_time": "2021-05-11T02:13:02.407198Z",
     "start_time": "2021-05-11T02:13:02.108609Z"
    },
    "hide_input": false
   },
   "outputs": [],
   "source": [
    "b=[41, m_min, m_max]\n",
    "hRD = create_TH1D(dfRD[mB_var], name='hRD', title='RD',\n",
    "                  weights=dfRD['sigSW'],\n",
    "                  axis_title=['m(#mu#mu#pi^{-}K^{+}) [GeV]', '1/#sigma d#sigma/dm / '+'({:.2f} GeV)'.format((b[2]-b[1])/b[0])],\n",
    "                  binning=b,\n",
    "                  scale_histo='norm',\n",
    "                 )\n",
    "hRD.SetMarkerStyle(15)\n",
    "\n",
    "hMCbare = create_TH1D(dfMC[mB_var], name='hMCbare',\n",
    "                  title = 'Pythia Hard b#bar{b}',\n",
    "                  scale_histo='norm', color=1,\n",
    "                  binning=hRD.binning)\n",
    "    \n",
    "hMC = create_TH1D(dfMC[mB_var], name='hMC',\n",
    "                  weights=dfMC['w'],\n",
    "                  scale_histo='norm', color=0,\n",
    "                  binning=hRD.binning)\n",
    "\n",
    "leg = rt.TLegend(0.17, 0.75, 0.6,0.93)\n",
    "leg.SetBorderSize(0)\n",
    "leg.SetFillStyle(0)\n",
    "leg.AddEntry(hRD, 'data (bkg subtracted)', 'lep')\n",
    "leg.AddEntry(hMCbare, 'B^{0}#rightarrow J/#psi K* (bare)', 'le')\n",
    "leg.AddEntry(hMC, 'B^{0}#rightarrow J/#psi K*', 'le')\n",
    "\n",
    "CMS_lumi.extraText = 7*' ' + 'Internal'\n",
    "CMS_lumi.integrated_lumi = lumi_tot\n",
    "c = make_ratio_plot([hRD, hMCbare, hMC], leg_pos=None, ratio_bounds=[0.7,2])\n",
    "c.pad1.SetTopMargin(0.07)\n",
    "CMS_lumi.CMS_lumi(c, -1, 0)\n",
    "c.Draw()\n",
    "catText.DrawLatexNDC(0.95, 0.9, 'Category: {}'.format(cat.name))\n",
    "leg.Draw()\n",
    "c.SaveAs('../data/calibration/B0pTspectrum/fig/massComaprison_' + cat.name + '_' + version + '.png')\n",
    "c.SaveAs(webFolder+'massComaprison_' + cat.name + '_' + version + '.png')"
   ]
  },
  {
   "cell_type": "code",
   "execution_count": null,
   "metadata": {
    "ExecuteTime": {
     "end_time": "2021-05-11T02:13:02.637850Z",
     "start_time": "2021-05-11T02:13:02.411733Z"
    },
    "hide_input": false
   },
   "outputs": [],
   "source": [
    "hRD = create_TH1D(dfRD['trgMu_eta'], name='hRD',\n",
    "                  weights=dfRD['nsig_sw'],\n",
    "                  title='data_{sW}',\n",
    "                  axis_title=['#mu #eta (reco)', \n",
    "                              '1/#sigma d#sigma/d#eta]'],\n",
    "                  binning=[31,-1.5,1.5],\n",
    "                  scale_histo='norm',\n",
    "                  opt='overflow+underflow'\n",
    "                 )\n",
    "hRD.SetMarkerStyle(15)\n",
    "\n",
    "hMCb = create_TH1D(dfMC['trgMu_eta'], name='hMCb',\n",
    "                  title = 'B_{0}#rightarrow J/#psi K* (bare)',\n",
    "                  scale_histo='norm', color=1,\n",
    "                  binning=hRD.binning, opt='overflow+underflow')\n",
    "\n",
    "hMC = create_TH1D(dfMC['trgMu_eta'], name='hMC', \n",
    "                  weights=dfMC['w'],\n",
    "#                   weights=dfMC['wPU']*dfMC['muonSF']*dfMC['trgSF'],\n",
    "#                   weights=dfMC['trgSF'],\n",
    "                  title = 'B_{0}#rightarrow J/#psi K*',\n",
    "                  scale_histo='norm', color=0,\n",
    "                  binning=hRD.binning, opt='overflow+underflow')\n",
    "\n",
    "CMS_lumi.extraText = '      Internal'\n",
    "cr = make_ratio_plot([hRD, hMCb, hMC], ratio_bounds=[0.7, 1.3], draw_opt='E1')\n",
    "CMS_lumi.CMS_lumi(cr, -1, 0)\n",
    "cr.pad1.SetTopMargin(0.07)\n",
    "cr.pad1.SetRightMargin(0.035)\n",
    "cr.pad2.SetRightMargin(0.035)\n",
    "# cr.pad2.SetLogy()\n",
    "cr.leg.SetY2(0.93)\n",
    "cr.leg.SetY1(0.75)\n",
    "cr.leg.SetX1(0.75)\n",
    "cr.leg.SetX2(0.94)\n",
    "cr.Draw()\n",
    "\n",
    "cr.pad1.cd()\n",
    "catText.SetTextSize(0.04)\n",
    "catText.DrawLatexNDC(0.9, 0.5, 'Category: {}'.format(cat.name))\n",
    "cr.SaveAs('../data/calibration/B0pTspectrum/fig/trgMuEtaComaprison_' + cat.name + '_' + version + '.png')\n",
    "cr.SaveAs(webFolder+'trgMuEta_' + cat.name + '_' + version + '.png')"
   ]
  },
  {
   "cell_type": "code",
   "execution_count": null,
   "metadata": {
    "ExecuteTime": {
     "end_time": "2021-05-11T02:13:02.715424Z",
     "start_time": "2021-05-11T02:13:02.642426Z"
    },
    "code_folding": [],
    "hide_input": true
   },
   "outputs": [],
   "source": [
    "def drawPt(var, binning, xtitle, saveTag='', withBptCorr=False, loglog=True, testWeights=False):\n",
    "    binWdith = binning[1] - binning[0]\n",
    "    hRD = create_TH1D(dfRD[var], name='hRD',\n",
    "                      weights=dfRD['nsig_sw'],\n",
    "                      title='data_{sW}',\n",
    "                      axis_title=[xtitle, \n",
    "                                  '1/#sigma d#sigma/dp_{T}'],\n",
    "                      binning=binning,\n",
    "                      scale_histo='norm',\n",
    "                      widthNorm=True,\n",
    "                      opt='overflow+underflow'\n",
    "                     )\n",
    "    hRD.SetMarkerStyle(15)\n",
    "\n",
    "    hMCb = create_TH1D(dfMC[var], name='hMCb',\n",
    "                      title = 'B^{0}#rightarrow J/#psi K* (bare)',\n",
    "                      scale_histo='norm',\n",
    "                      widthNorm=True,\n",
    "                      color=1,\n",
    "                      binning=hRD.binning, opt='overflow+underflow')\n",
    "\n",
    "    hMC = create_TH1D(dfMC[var], name='hMC', \n",
    "                      weights=dfMC['w'],\n",
    "                      title = 'B^{0}#rightarrow J/#psi K*',\n",
    "                      scale_histo='norm',\n",
    "                      widthNorm=True,\n",
    "                      color=0,\n",
    "                      binning=hRD.binning, opt='overflow+underflow')\n",
    "    \n",
    "    h_list = [hRD, hMCb, hMC]\n",
    "    if testWeights:\n",
    "        hMCtest = create_TH1D(dfMC[var], name='hMCtest', \n",
    "                      weights=dfMC['wTest'],\n",
    "                      title = 'B^{0}#rightarrow J/#psi K* (test)',\n",
    "                      scale_histo='norm',\n",
    "                      widthNorm=True,\n",
    "                      color=3,\n",
    "                      binning=hRD.binning, opt='overflow+underflow')\n",
    "        h_list.append(hMCtest)\n",
    "    \n",
    "    if withBptCorr:\n",
    "        hMCc = create_TH1D(dfMC[var], name='hMCc', \n",
    "                      weights=cal_pT.getWeights(dfMC['MC_B_pt'], 0)*dfMC['w'],\n",
    "                      title = 'B^{0}#rightarrow J/#psi K* (p_{T} cal.)',\n",
    "                      scale_histo='norm', color=2,\n",
    "                      widthNorm=True,\n",
    "                      binning=hRD.binning, opt='underflow+overflow')\n",
    "        h_list.append(hMCc)\n",
    "\n",
    "    CMS_lumi.extraText = '      Internal'\n",
    "    cr = make_ratio_plot(h_list, ratio_bounds=[0.7, 1.2], draw_opt='E1')\n",
    "    CMS_lumi.CMS_lumi(cr, -1, 0)\n",
    "    cr.pad1.SetTopMargin(0.07)\n",
    "    cr.pad1.SetRightMargin(0.035)\n",
    "    cr.pad2.SetRightMargin(0.035)\n",
    "    if cat.name == 'High' and loglog:\n",
    "        cr.pad1.SetLogx()\n",
    "        cr.pad2.SetLogx()\n",
    "    cr.leg.SetY2(0.93)\n",
    "    cr.leg.SetY1(0.75)\n",
    "    cr.leg.SetX1(0.6)\n",
    "    cr.Draw()\n",
    "\n",
    "    cr.pad1.cd()\n",
    "    catText.SetTextSize(0.04)\n",
    "    catText.DrawLatexNDC(0.9, 0.5, 'Category: {}'.format(cat.name))\n",
    "    cr.dnd2 = h_list\n",
    "    if saveTag and not testWeights:\n",
    "        cr.SaveAs('../data/calibration/B0pTspectrum/fig/'+saveTag+'_' + cat.name + '_' + version + '.png')\n",
    "        cr.SaveAs(webFolder+saveTag+'_' + cat.name + '_' + version + '.png')\n",
    "    return cr"
   ]
  },
  {
   "cell_type": "code",
   "execution_count": null,
   "metadata": {
    "ExecuteTime": {
     "end_time": "2021-05-11T02:13:03.150446Z",
     "start_time": "2021-05-11T02:13:02.720142Z"
    }
   },
   "outputs": [],
   "source": [
    "x = np.arange(0.4, 4, 0.02)\n",
    "\n",
    "def fArb(xIn, a=0.5, tau=0.8):\n",
    "    return 1 - a*np.exp(-xIn/tau)\n",
    "\n",
    "for a in [0.1, 0.3, 0.5]:\n",
    "    plt.plot(x, fArb(x, a=a, tau=1), label='a={:.2f}'.format(a))\n",
    "plt.legend(loc='best')\n",
    "\n",
    "# dfMC['wTest'] = dfMC['w']\n",
    "# dfMC['wTest'] *= fArb(dfMC['K_pt'])\n",
    "# dfMC['wTest'] *= fArb(dfMC['pi_pt'])"
   ]
  },
  {
   "cell_type": "code",
   "execution_count": null,
   "metadata": {
    "ExecuteTime": {
     "end_time": "2021-05-11T02:13:03.364498Z",
     "start_time": "2021-05-11T02:13:03.154208Z"
    }
   },
   "outputs": [],
   "source": [
    "b = {'Low': array('d', list(np.arange(7, 9.4, 0.1)) + [9.4]),\n",
    "     'Mid': array('d', list(np.arange(9, 12.2, 0.1)) +[12.2]),\n",
    "     'High': array('d', list(10+np.logspace(np.log10(12.2-10), np.log10(50), 30)))\n",
    "    }\n",
    "\n",
    "cr = drawPt('trgMu_pt', b[cat.name], 'Trigger #mu p_{T} (reco) [GeV]', saveTag='trgMuPt_preCal')"
   ]
  },
  {
   "cell_type": "code",
   "execution_count": null,
   "metadata": {
    "ExecuteTime": {
     "end_time": "2021-05-11T02:13:03.684718Z",
     "start_time": "2021-05-11T02:13:03.367918Z"
    }
   },
   "outputs": [],
   "source": [
    "b = array('d', list(np.arange(3.5, 40, 0.4)))\n",
    "cr = drawPt('otherMu_pt', b, 'Non-trigger #mu p_{T} (reco) [GeV]', saveTag='otherMuPt_preCal')"
   ]
  },
  {
   "cell_type": "code",
   "execution_count": null,
   "metadata": {
    "ExecuteTime": {
     "end_time": "2021-05-11T02:13:03.925559Z",
     "start_time": "2021-05-11T02:13:03.689097Z"
    }
   },
   "outputs": [],
   "source": [
    "b = {'Low':array('d', list(np.arange(10, 50, 0.4))),\n",
    "     'Mid':array('d', list(np.arange(10, 60, 0.4))),\n",
    "     'High':array('d', list(np.logspace(np.log10(15), 2, 50)))}\n",
    "cr = drawPt('Jpsi_pt', b[cat.name], 'J/#Psi p_{T} (reco) [GeV]', saveTag='JPsiPt_preCal')"
   ]
  },
  {
   "cell_type": "code",
   "execution_count": null,
   "metadata": {
    "ExecuteTime": {
     "end_time": "2021-05-11T02:13:04.135349Z",
     "start_time": "2021-05-11T02:13:03.930004Z"
    }
   },
   "outputs": [],
   "source": [
    "b = {'Low':array('d', list(np.arange(0.8, 20, 0.2))),\n",
    "     'Mid':array('d', list(np.arange(0.8, 20, 0.2))),\n",
    "     'High':array('d', list(np.logspace(np.log10(0.8), np.log10(20), 30)))}\n",
    "cr = drawPt('K_pt', b[cat.name], 'K p_{T} (reco) [GeV]', saveTag='KPt_preCal', loglog=False)"
   ]
  },
  {
   "cell_type": "code",
   "execution_count": null,
   "metadata": {
    "ExecuteTime": {
     "end_time": "2021-05-11T02:13:04.450172Z",
     "start_time": "2021-05-11T02:13:04.139947Z"
    }
   },
   "outputs": [],
   "source": [
    "b = {'Low':array('d', list(np.arange(0.8, 15, 0.2))),\n",
    "     'Mid':array('d', list(np.arange(0.8, 15, 0.2))),\n",
    "     'High':array('d', list(np.arange(0.8, 20, 0.2)))}\n",
    "cr = drawPt('pi_pt', b[cat.name], '#pi p_{T} (reco) [GeV]', saveTag='piPt_preCal', loglog=False)"
   ]
  },
  {
   "cell_type": "code",
   "execution_count": null,
   "metadata": {
    "ExecuteTime": {
     "end_time": "2021-05-11T02:13:04.727689Z",
     "start_time": "2021-05-11T02:13:04.455047Z"
    }
   },
   "outputs": [],
   "source": [
    "b = array('d', list(np.arange(1, 30, 0.4)))\n",
    "cr = drawPt('Kst_pt', b, 'K* p_{T} (reco) [GeV]', saveTag='KstPt_preCal', loglog=False)"
   ]
  },
  {
   "cell_type": "markdown",
   "metadata": {},
   "source": [
    "### The true B spectrum"
   ]
  },
  {
   "cell_type": "code",
   "execution_count": null,
   "metadata": {
    "ExecuteTime": {
     "end_time": "2021-05-11T02:13:04.941856Z",
     "start_time": "2021-05-11T02:13:04.732484Z"
    },
    "hide_input": true
   },
   "outputs": [],
   "source": [
    "b=[30,-1.8,1.8]\n",
    "binWdith = (b[2] - b[1])/float(b[0])\n",
    "hRD = create_TH1D(dfRD['B_eta'], name='hRD',\n",
    "                  weights=dfRD['nsig_sw'],\n",
    "                  title='data_{sW}',\n",
    "                  axis_title=['B_{0} #eta (reco)', \n",
    "                              '1/#sigma d#sigma/d#eta / '+'({:.2f})'.format(binWdith)],\n",
    "                  binning=b,\n",
    "                  scale_histo='norm',\n",
    "                  opt='overflow+underflow'\n",
    "                 )\n",
    "hRD.SetMarkerStyle(15)\n",
    "\n",
    "hMCb = create_TH1D(dfMC['B_eta'], name='hMCb',\n",
    "                  title = 'MC',\n",
    "                  scale_histo='norm', color=1,\n",
    "                  binning=hRD.binning, opt='overflow+underflow')\n",
    "\n",
    "hMC = create_TH1D(dfMC['B_eta'], name='hMC', \n",
    "                  weights=dfMC['w'],\n",
    "#                   title = 'MC (weights)',\n",
    "                  title = 'B_{0}#rightarrow J/#psi K*',\n",
    "                  scale_histo='norm', color=0,\n",
    "                  binning=hRD.binning, opt='overflow+underflow')\n",
    "\n",
    "CMS_lumi.extraText = '      Internal'\n",
    "c = make_ratio_plot([hRD, hMC], ratio_bounds=[0.7, 2.5], draw_opt='E1')\n",
    "# c = make_ratio_plot([hRD, hMCb, hMC], ratio_bounds=[0.7, 2.5], draw_opt='E1')\n",
    "CMS_lumi.CMS_lumi(c, -1, 0)\n",
    "c.pad1.SetTopMargin(0.07)\n",
    "c.pad1.SetRightMargin(0.035)\n",
    "c.pad2.SetRightMargin(0.035)\n",
    "c.pad2.SetLogy()\n",
    "c.leg.SetY1(0.3)\n",
    "c.leg.SetY2(0.5)\n",
    "c.leg.SetX1(0.35)\n",
    "c.leg.SetX2(0.7)\n",
    "c.Draw()\n",
    "\n",
    "c.pad1.cd()\n",
    "catText.SetTextSize(0.04)\n",
    "catText.DrawLatexNDC(0.9, 0.8, 'Category: {}'.format(cat.name))\n",
    "c.SaveAs('../data/calibration/B0pTspectrum/fig/B0etaComaprison_' + cat.name + '_' + version + '.png')\n",
    "c.SaveAs(webFolder+'B0etaComaprison_' + cat.name + '_' + version + '.png')"
   ]
  },
  {
   "cell_type": "code",
   "execution_count": null,
   "metadata": {
    "ExecuteTime": {
     "end_time": "2021-05-11T02:13:05.485656Z",
     "start_time": "2021-05-11T02:13:04.945338Z"
    },
    "hide_input": true
   },
   "outputs": [],
   "source": [
    "b = {'Low': array('d', list(np.arange(10, 50, 5)) + list(np.arange(50, 80, 10))),\n",
    "     'Mid': array('d', list(np.arange(10, 60, 4)) + list(np.arange(60, 90, 8))),\n",
    "     'High': array('d', list(np.arange(10, 90, 4)) + list(np.arange(90, 120, 15)))\n",
    "    }\n",
    "binWdith = b[cat.name][1] - b[cat.name][0]\n",
    "hRD = create_TH2D(dfRD[['B_pt', 'B_eta']].values, name='hRD_2D',\n",
    "                  weights=dfRD['nsig_sw'],\n",
    "                  title='data_{sW}',\n",
    "                  axis_title=['B^{0} p_{T} (reco) [GeV]', 'B^{0} #eta (reco)', '1/#sigma d#sigma/dp_{T}d#eta'],\n",
    "                  binning=[b[cat.name], np.arange(-1.8,1.81, 0.3)],\n",
    "                  scale_histo='norm',\n",
    "                 )\n",
    "\n",
    "hMC = create_TH2D(dfMC[['B_pt', 'B_eta']].values, name='hMC_2D',\n",
    "                  weights=dfMC['w'],\n",
    "                  binning=hRD.binning,\n",
    "                  axis_title=['B^{0} p_{T} (reco) [GeV]', 'B^{0} #eta (reco)', '1/#sigma d#sigma/dp_{T}d#eta'],\n",
    "                  scale_histo='norm',\n",
    "                  )\n",
    "\n",
    "hRatio = hMC.Clone('hRatio')\n",
    "hRatio.Divide(hRD)\n",
    "\n",
    "cc = rt.TCanvas('c2D', 'c2D', 50, 50, 1600, 600)\n",
    "cc.SetTickx(0)\n",
    "cc.SetTicky(0)\n",
    "cc.Divide(3)\n",
    "\n",
    "pad = cc.cd(1)\n",
    "pad.SetRightMargin(0.17)\n",
    "hRD.Draw('colz')\n",
    "\n",
    "pad = cc.cd(2)\n",
    "pad.SetRightMargin(0.17)\n",
    "hMC.Draw('colz')\n",
    "\n",
    "pad = cc.cd(3)\n",
    "pad.SetRightMargin(0.17)\n",
    "hRatio.Draw('colz')\n",
    "rt.gStyle.SetPaintTextFormat('.2f')\n",
    "hRatio.Draw('texte same')\n",
    "pad.SetLogz()\n",
    "\n",
    "cc.Draw()"
   ]
  },
  {
   "cell_type": "code",
   "execution_count": null,
   "metadata": {
    "ExecuteTime": {
     "end_time": "2021-05-11T02:13:05.764377Z",
     "start_time": "2021-05-11T02:13:05.490487Z"
    },
    "hide_input": true
   },
   "outputs": [],
   "source": [
    "lowOff = 5\n",
    "midOff = 10\n",
    "highOff = 5\n",
    "b = {'Low': array('d', list( lowOff+np.logspace(np.log10(12-lowOff), np.log10(90-lowOff), 40) )),\n",
    "     'Mid': array('d', list( midOff+np.logspace(np.log10(14-midOff), np.log10(100-midOff), 45) )),\n",
    "     'High': array('d', list( highOff+np.logspace(np.log10(18-highOff), np.log10(125-highOff), 50) )),\n",
    "    }\n",
    "     \n",
    "binWdith = b[cat.name][1] - b[cat.name][0]\n",
    "hRD = create_TH1D(dfRD['B_pt'], name='hRD',\n",
    "                  weights=dfRD['nsig_sw'],\n",
    "                  title='data_{sW}',\n",
    "                  axis_title=['B^{0} p_{T} (reco) [GeV]', \n",
    "                              '1/#sigma d#sigma/dp_{T}'],\n",
    "                  binning=b[cat.name],\n",
    "                  scale_histo='norm',\n",
    "                  widthNorm=True,\n",
    "                  opt='overflow+underflow'\n",
    "                 )\n",
    "hRD.SetMarkerStyle(15)\n",
    "\n",
    "hMCb = create_TH1D(dfMC['B_pt'], name='hMCb',\n",
    "                  title = 'B^{0}#rightarrow J/#psi K* (bare)',\n",
    "                  scale_histo='norm', color=1,\n",
    "                  widthNorm=True,\n",
    "                  binning=hRD.binning, opt='overflow+underflow')\n",
    "\n",
    "hMC = create_TH1D(dfMC['B_pt'], name='hMC', \n",
    "                  weights=dfMC['w'],\n",
    "                  title = 'B^{0}#rightarrow J/#psi K*',\n",
    "                  scale_histo='norm', color=0,\n",
    "                  widthNorm=True,\n",
    "                  binning=hRD.binning, opt='overflow+underflow')\n",
    "\n",
    "CMS_lumi.extraText = '      Internal'\n",
    "cr = make_ratio_plot([hRD, hMC], ratio_bounds=[0.5, 2.5], draw_opt='E1')\n",
    "# c = make_ratio_plot([hRD, hMCb, hMC], ratio_bounds=[0.5, 10], draw_opt='E1')\n",
    "CMS_lumi.CMS_lumi(cr, -1, 0)\n",
    "cr.pad1.SetTopMargin(0.07)\n",
    "cr.pad1.SetRightMargin(0.035)\n",
    "cr.pad2.SetRightMargin(0.035)\n",
    "cr.pad2.SetLogy()\n",
    "cr.leg.SetY2(0.9)\n",
    "cr.leg.SetY1(0.6)\n",
    "cr.leg.SetX1(0.6)\n",
    "cr.Draw()\n",
    "\n",
    "cr.pad1.cd()\n",
    "catText.SetTextSize(0.04)\n",
    "catText.DrawLatexNDC(0.9, 0.5, 'Category: {}'.format(cat.name))\n",
    "cr.SaveAs('../data/calibration/B0pTspectrum/fig/B0pTcomaprison_' + cat.name + '_' + version + '.png')\n",
    "cr.SaveAs(webFolder+'B0pT_preCal_' + cat.name + '_' + version + '.png')"
   ]
  },
  {
   "cell_type": "code",
   "execution_count": null,
   "metadata": {
    "ExecuteTime": {
     "end_time": "2021-05-11T02:13:05.846481Z",
     "start_time": "2021-05-11T02:13:05.767902Z"
    },
    "hide_input": false
   },
   "outputs": [],
   "source": [
    "dic = {'pt':[], 'w':[], 'w_err':[], 'wUp':[], 'wDown':[]}\n",
    "\n",
    "def f_arb_2(x, pivFrac=0.3, lamToEnd=3):\n",
    "    xPiv = pivFrac*(hRD.binning[-1] + hRD.binning[0])\n",
    "    if x <= xPiv:\n",
    "        dx = xPiv - x\n",
    "        lam = (xPiv - hRD.binning[0])/lamToEnd\n",
    "        sf = 1 - np.exp(-dx/lam)\n",
    "        return -sf\n",
    "    elif x > xPiv:\n",
    "        dx = x - xPiv\n",
    "        lam = (hRD.binning[-1] - xPiv)/lamToEnd\n",
    "        sf = 1 - np.exp(-dx/lam)\n",
    "        return sf\n",
    "\n",
    "fout = open('../data/calibration/B0pTspectrum/pwWeights_{}_{}.txt'.format(cat.name, version), 'w')\n",
    "fout.write('#'+'\\t'.join(['pt','w', 'w_err', 'wUp', 'wDown'])+'\\n')\n",
    "for ib in range(1, hRD.GetNbinsX()+1):\n",
    "    n = max(0, hRD.GetBinContent(ib))\n",
    "    d = hMC.GetBinContent(ib)\n",
    "    pt = hRD.GetBinCenter(ib)\n",
    "    dic['pt'].append(pt)\n",
    "    if d == 0:\n",
    "        dic['w'].append(1)\n",
    "        dic['w_err'].append(0)\n",
    "        dic['wUp'].append(1)\n",
    "        dic['wDown'].append(1)\n",
    "        continue\n",
    "        \n",
    "    en = 0.\n",
    "    ed = 0.\n",
    "    if n > 0: en = hRD.GetBinError(ib)/n\n",
    "    if d > 0: ed = hMC.GetBinError(ib)/d\n",
    "    r = n/d\n",
    "    dic['w'].append(r)\n",
    "    if en != 0 and ed != 0:\n",
    "        dr = r*np.hypot(en, ed)\n",
    "    elif en == 0:\n",
    "        dr = 0.5\n",
    "    dic['w_err'].append(dr)\n",
    "    dic['wUp'].append(max(0, r + dr *f_arb_2(pt)))\n",
    "    dic['wDown'].append(max(0, r - dr * f_arb_2(pt)))\n",
    "    \n",
    "    fout.write('\\t'.join(map(lambda x: '{:.3f}'.format(x), [pt, r, dr, dic['wUp'][-1], dic['wDown'][-1]]))+'\\n')\n",
    "fout.close()\n",
    "\n",
    "for k,v in dic.iteritems():\n",
    "    dic[k] = np.array(v)\n",
    "    \n",
    "pickle.dump(dic, \n",
    "            open('../data/calibration/B0pTspectrum/RatioPtSpectrum_data_over_MC_{}_{}.pkl'.format(cat.name, version), 'wb'))"
   ]
  },
  {
   "cell_type": "code",
   "execution_count": null,
   "metadata": {
    "ExecuteTime": {
     "end_time": "2021-05-11T02:13:06.791114Z",
     "start_time": "2021-05-11T02:13:05.851041Z"
    },
    "hide_input": false
   },
   "outputs": [],
   "source": [
    "plt.rcParams.update({'font.size': 20})\n",
    "f = plt.figure(figsize=(8,6))\n",
    "plt.errorbar(dic['pt'], dic['w'], yerr=dic['w_err'], fmt='.', label='Ratio')\n",
    "plt.plot(dic['pt'], dic['wUp'], '.--', label='Up')\n",
    "plt.plot(dic['pt'], dic['wDown'], '.--', label='Down')\n",
    "plt.plot(dic['pt'] , [1]*len(dic['pt']), ':k')\n",
    "plt.legend(loc='best', numpoints=1)\n",
    "plt.xlabel('$B^0\\ p_T$ [GeV]')\n",
    "plt.ylabel('MC weight')\n",
    "_, ymax = plt.ylim()\n",
    "plt.xlim(0.9*np.min(dic['pt']), 1.1*np.max(dic['pt']))\n",
    "plt.text(0.9*np.max(dic['pt']) ,ymax*0.9, 'Category: ' + cat.name, horizontalalignment='right')\n",
    "# plt.xscale('log')\n",
    "plt.savefig('../data/calibration/B0pTspectrum/fig/ratioVSpt_' + cat.name + '_' + version + '.png')\n",
    "plt.savefig(webFolder+'ratioVSpt_' + cat.name + '_' + version + '.png')"
   ]
  },
  {
   "cell_type": "code",
   "execution_count": null,
   "metadata": {
    "ExecuteTime": {
     "end_time": "2021-05-11T02:13:06.952664Z",
     "start_time": "2021-05-11T02:13:06.795839Z"
    },
    "hide_input": false
   },
   "outputs": [],
   "source": [
    "deg = 3\n",
    "# beta, covBeta = np.polyfit(dic['pt'], dic['w'], deg=deg, full=False, w=1./dic['w_err'], cov=True)\n",
    "beta, covBeta = np.polyfit(dic['pt'], dic['w'], deg=deg, full=False, w=1./dic['w_err'], cov='unscaled')\n",
    "\n",
    "res = (dic['w'] - np.polyval(beta, dic['pt']))/dic['w_err']\n",
    "\n",
    "chi2stat = np.sum(np.square(res))\n",
    "dof = res.shape[0]-deg-1\n",
    "pval = 1 - sps.chi2.cdf(chi2stat, df=dof)\n",
    "print '\\nChi2/dof = {:.2f}/{:.0f} ({:.1f}%)'.format(chi2stat, dof, 100*pval)\n",
    "\n",
    "h = create_TH1D(res, binning=[16, -3,3],\n",
    "                axis_title=['Normalized residuals', '# Points / # Tot'],\n",
    "                scale_histo='norm'\n",
    "               )\n",
    "h.Scale(1./h.GetBinWidth(2))\n",
    "\n",
    "fGaus = rt.TF1('fFit', 'exp(-(x-[0])*(x-[0])/(2*[1]*[1]))/({:.4f}*[1])'.format(np.sqrt(2*np.pi)), -5, 5)\n",
    "fGaus.SetParameters(0,1)\n",
    "fGaus.SetParNames('#mu','#sigma')\n",
    "h.Fit(fGaus, 'QWL')\n",
    "cResiduals = drawOnCMSCanvas(CMS_lumi, [h], ['E'], tag='residuals')\n",
    "textPave = h.FindObject('stats')\n",
    "textPave.SetY1NDC(0.7)\n",
    "textPave.SetY2NDC(0.95)"
   ]
  },
  {
   "cell_type": "code",
   "execution_count": null,
   "metadata": {
    "ExecuteTime": {
     "end_time": "2021-05-11T02:13:06.984834Z",
     "start_time": "2021-05-11T02:13:06.957202Z"
    },
    "hide_input": false
   },
   "outputs": [],
   "source": [
    "eigVal, eigVec = np.linalg.eig(covBeta)\n",
    "eigSig = np.sqrt(eigVal)\n",
    "\n",
    "print 'Beta:  '+', '.join(beta.shape[0]*['{:1.2e}']).format(*beta)\n",
    "print 'Error: '+', '.join(beta.shape[0]*['{:1.2e}']).format(*np.sqrt(np.diag(covBeta)))\n",
    "\n",
    "betaVar = []\n",
    "for i in range(eigSig.shape[0]):\n",
    "    print '\\n'\n",
    "    betaVar.append(eigSig[i]*eigVec[:, i])\n",
    "    print 'eigSigma: {:1.2e}'.format(eigSig[i])\n",
    "    print 'eigVect: '+', '.join(beta.shape[0]*['{:.2f}']).format(*eigVec[:, i])\n",
    "    print 'Variation: '+', '.join(beta.shape[0]*['{:1.2e}']).format(*betaVar[i])\n",
    "    \n",
    "dOut = {\n",
    "    'beta': beta,\n",
    "    'betaVar' : betaVar\n",
    "}\n",
    "\n",
    "pickle.dump(dOut, open('../data/calibration/B0pTspectrum/polyCoeffWeights_{}_{}.pkl'.format(cat.name, version), 'wb'))"
   ]
  },
  {
   "cell_type": "code",
   "execution_count": null,
   "metadata": {
    "ExecuteTime": {
     "end_time": "2021-05-11T02:13:08.478271Z",
     "start_time": "2021-05-11T02:13:06.989176Z"
    },
    "hide_input": true
   },
   "outputs": [],
   "source": [
    "plt.rcParams.update({'font.size': 20})\n",
    "f = plt.figure(figsize=(8,6))\n",
    "plt.errorbar(dic['pt'], dic['w'], yerr=dic['w_err'], fmt='.k', label='data/MC')\n",
    "\n",
    "plt.plot(dic['pt'], np.polyval(beta, dic['pt']), '-', color='#1f77b4', label='w, Central')\n",
    "\n",
    "colors = ['#ff7f0e', '#2ca02c', '#d62728', '#9467bd', '#8c564b', '#e377c2', '#7f7f7f', '#bcbd22', '#17becf']\n",
    "for i in range(len(betaVar)):\n",
    "    yP = np.polyval(beta+betaVar[i], dic['pt'])\n",
    "    yM = np.polyval(beta-betaVar[i], dic['pt'])\n",
    "    plt.plot(dic['pt'], yP, '--', color=colors[i], label='w, $\\lambda_{} \\pm 1\\sigma$'.format(i))\n",
    "    plt.plot(dic['pt'], yM, '--', color=colors[i])\n",
    "    \n",
    "plt.plot(dic['pt'] , [1]*len(dic['pt']), ':k')\n",
    "plt.legend(loc='best', numpoints=1, fontsize=15)\n",
    "plt.xlabel('$B^0\\ p_T$ [GeV]')\n",
    "plt.ylabel('MC weight')\n",
    "_, ymax = plt.ylim()\n",
    "plt.xlim(0.9*np.min(dic['pt']), 1.1*np.max(dic['pt']))\n",
    "plt.text(0.9*np.max(dic['pt']) ,ymax*0.9, 'Category: ' + cat.name, horizontalalignment='right')\n",
    "plt.savefig('../data/calibration/B0pTspectrum/fig/polyCal_weightsVSpt_' + cat.name + '_' + version + '.png')\n",
    "plt.savefig(webFolder+'polyCal_weightsVSpt_' + cat.name + '_' + version + '.png')"
   ]
  },
  {
   "cell_type": "code",
   "execution_count": null,
   "metadata": {
    "ExecuteTime": {
     "end_time": "2021-05-11T02:13:08.548386Z",
     "start_time": "2021-05-11T02:13:08.482079Z"
    },
    "hide_input": false
   },
   "outputs": [],
   "source": [
    "hMC2D = create_TH2D(dfMC[['B_pt', 'MC_B_pt']].values, name='hMC', title='',\n",
    "                axis_title=['B^{0} p_{T} (truth) [GeV]', 'B_{0} p_{T} (reco) [GeV]', ''],\n",
    "                binning=[50, 10, 100, 50, 10, 100]\n",
    "               )\n",
    "\n",
    "CMS_lumi.extraText = '     Simulation'\n",
    "CMS_lumi.integrated_lumi = None\n",
    "c = drawOnCMSCanvas(CMS_lumi, [hMC2D], ['colz'], mR=0.12)\n",
    "c.SetLogz()"
   ]
  },
  {
   "cell_type": "code",
   "execution_count": null,
   "metadata": {
    "ExecuteTime": {
     "end_time": "2021-05-11T02:13:08.632388Z",
     "start_time": "2021-05-11T02:13:08.552315Z"
    },
    "hide_input": false
   },
   "outputs": [],
   "source": [
    "hMC2D = create_TH2D(np.column_stack((dfMC['MC_B_pt'], dfMC['B_pt'] - dfMC['MC_B_pt'])),\n",
    "                    name='hMC', title='',\n",
    "                    axis_title=['B^{0} p_{T} (truth) [GeV]', '#Delta B_{0} p_{T} (reco-truth) [GeV]', 'Events'],\n",
    "                    binning=[50, 10, 100, 50, -5, 5],\n",
    "                    weights=dfMC['MC_idxMatch']\n",
    "                   )\n",
    "\n",
    "CMS_lumi.extraText = '     Simulation'\n",
    "CMS_lumi.integrated_lumi = None\n",
    "c = drawOnCMSCanvas(CMS_lumi, [hMC2D], ['colz'], mR=0.12)\n",
    "c.SetLogz()"
   ]
  },
  {
   "cell_type": "code",
   "execution_count": null,
   "metadata": {
    "ExecuteTime": {
     "end_time": "2021-05-11T02:13:09.170833Z",
     "start_time": "2021-05-11T02:13:08.636838Z"
    },
    "scrolled": false
   },
   "outputs": [],
   "source": [
    "ptBins = [0, 20, 30, 50, 70, 200]\n",
    "\n",
    "canvases = []\n",
    "\n",
    "for i in range(len(ptBins)-1):\n",
    "    ptLow = ptBins[i]\n",
    "    ptHigh = ptBins[i+1]\n",
    "    sel = np.logical_and(dfMC['MC_B_pt'] > ptLow, dfMC['MC_B_pt'] < ptHigh)\n",
    "    print np.sum(sel)\n",
    "    h = create_TH1D(dfMC['B_pt'][sel] - dfMC['MC_B_pt'][sel], binning=[31, -1.5, 1.5],\n",
    "                    axis_title=['#Delta B_{0} p_{T} (reco-truth) [GeV]', 'Normalized residuals'],\n",
    "                    scale_histo='norm', widthNorm=True\n",
    "                   )\n",
    "#     h.Scale(h.Integral()*h.GetBinWidth(1))\n",
    "\n",
    "    funcStr =  '[2]*exp(-(x-[0])*(x-[0])/(2*[1]*[1]))/({:.4f}*[1])'.format(np.sqrt(2*np.pi))\n",
    "    funcStr += ' + '\n",
    "    funcStr += '(1-[2])*exp(-(x-[0])*(x-[0])/(2*[3]*[3]))/({:.4f}*[3])'.format(np.sqrt(2*np.pi))\n",
    "    fGaus = rt.TF1('fFit', funcStr, -2, 2)\n",
    "    fGaus.SetParameters(0, 0.3, 0.3, 0.8)\n",
    "    fGaus.SetParNames('#mu', '#sigma_{1}', 'f_{1}', '#sigma_{2}')\n",
    "    h.Fit(fGaus, 'QWL')\n",
    "    c = drawOnCMSCanvas(CMS_lumi, [h], ['E'], tag='cRes'+str(i))\n",
    "    textPave = h.FindObject('stats')\n",
    "    textPave.SetY1NDC(0.7)\n",
    "    textPave.SetY2NDC(0.95)\n",
    "    catText.DrawLatexNDC(0.94, 0.6, 'Category: {}'.format(cat.name))\n",
    "    catText.DrawLatexNDC(0.94, 0.65, '{} < B p_{{T}} < {} GeV'.format(ptLow, ptHigh))\n",
    "    webFolderAux = webFolder + 'BpTresolution/'\n",
    "    if not os.path.isdir(webFolderAux):\n",
    "        os.system('mkdir -p '+webFolderAux)\n",
    "        os.system('cp {}index.php '.format(webFolder) + webFolderAux)\n",
    "    c.SaveAs(webFolderAux + cat.name + '_ptBin'+str(i)+'.png')\n",
    "    canvases.append([c, h, fGaus])"
   ]
  },
  {
   "cell_type": "code",
   "execution_count": null,
   "metadata": {
    "ExecuteTime": {
     "end_time": "2021-05-11T02:13:09.365605Z",
     "start_time": "2021-05-11T02:13:09.175468Z"
    },
    "hide_input": false
   },
   "outputs": [],
   "source": [
    "from pT_calibration_reader import pTCalReader\n",
    "cal_pT = pTCalReader(\n",
    "    calibration_file='../data/calibration/B0pTspectrum/polyCoeffWeights_{}_{}.pkl'.format(cat.name, version)\n",
    ")"
   ]
  },
  {
   "cell_type": "code",
   "execution_count": null,
   "metadata": {
    "ExecuteTime": {
     "end_time": "2021-05-11T02:13:25.800280Z",
     "start_time": "2021-05-11T02:13:09.371217Z"
    },
    "hide_input": false
   },
   "outputs": [],
   "source": [
    "h_var = {}\n",
    "h_var['C'] = create_TH1D(dfMC['B_pt'], name='h_var_C', binning=hRD.binning, opt='underflow+overflow',\n",
    "                         weights=cal_pT.getWeights(dfMC['MC_B_pt'], 0)*dfMC['w'])\n",
    "norm = float(h_var['C'].Integral())\n",
    "h_var['C'].Scale(1./norm, 'width')\n",
    "\n",
    "mVar = np.array(betaVar)\n",
    "nIter = 1000\n",
    "binContent = np.zeros((nIter, hRD.GetNbinsX()))\n",
    "pb = ProgressBar(nIter)\n",
    "for itx in range(nIter):\n",
    "    pb.show(itx)\n",
    "    p = beta + np.sum(np.random.normal(size=(beta.shape[0],1))*mVar, axis=0)\n",
    "    \n",
    "    wPt = np.polyval(p, dfMC['B_pt'])\n",
    "    hAux = create_TH1D(dfMC['B_pt'], name='hAux', binning=hRD.binning, opt='underflow+overflow', \n",
    "                       weights=wPt*dfMC['w'])\n",
    "    hAux.Scale(1./norm, 'width')\n",
    "    \n",
    "    for i in range(1, binContent.shape[1]+1):\n",
    "        binContent[itx, i-1] = hAux.GetBinContent(i)\n",
    "\n",
    "for n, var in {'Down':-1, 'Up':1}.iteritems():\n",
    "    h_var[n] = h_var['C'].Clone('h_var_'+n)\n",
    "    content = np.percentile(binContent, q=100*sps.norm.cdf(var), axis=0)\n",
    "    for i in range(1, content.shape[0]+1):\n",
    "        h_var[n].SetBinContent(i, content[i-1]) "
   ]
  },
  {
   "cell_type": "code",
   "execution_count": null,
   "metadata": {
    "ExecuteTime": {
     "end_time": "2021-05-11T02:13:26.471428Z",
     "start_time": "2021-05-11T02:13:25.805065Z"
    },
    "hide_input": true
   },
   "outputs": [],
   "source": [
    "gr_stat = rt.TGraphAsymmErrors()\n",
    "gr_sys = rt.TGraphAsymmErrors()\n",
    "h_dr = hRD.Clone('h_aux_dataratio')\n",
    "h_mr = hMC.Clone('h_aux_MCratio')\n",
    "g_up = rt.TGraph()\n",
    "g_up.SetPoint(0, hMC.GetBinCenter(1)-0.5*hMC.GetBinWidth(1), 1)\n",
    "g_down = rt.TGraph()\n",
    "g_down.SetPoint(0, hMC.GetBinCenter(1)-0.5*hMC.GetBinWidth(1), 1)\n",
    "for ib in range(1, hRD.GetNbinsX()+1):\n",
    "    x = hRD.GetBinCenter(ib)\n",
    "    y = h_var['C'].GetBinContent(ib)\n",
    "    c = h_dr.GetBinContent(ib)\n",
    "    e = h_dr.GetBinError(ib)\n",
    "    h_dr.SetBinContent(ib, c/y)\n",
    "    h_dr.SetBinError(ib, e/y)\n",
    "    c = h_mr.GetBinContent(ib)\n",
    "    e = h_mr.GetBinError(ib)\n",
    "    h_mr.SetBinContent(ib, c/y)\n",
    "    h_mr.SetBinError(ib, e/y)\n",
    "    gr_stat.SetPoint(ib-1, x, y)\n",
    "    dx = 0.5*hMC.GetBinWidth(ib)\n",
    "    dy = h_var['C'].GetBinError(ib)\n",
    "    gr_stat.SetPointError(ib-1, dx, dx, dy, dy)\n",
    "    \n",
    "    dy_low = max(y-h_var['Up'].GetBinContent(ib), y-h_var['Down'].GetBinContent(ib))\n",
    "    dy_up = max(h_var['Up'].GetBinContent(ib)-y, h_var['Down'].GetBinContent(ib)-y)\n",
    "    gr_sys.SetPoint(ib-1, x, y)\n",
    "    gr_sys.SetPointError(ib-1, dx, dx, dy_low, dy_up)\n",
    "    \n",
    "    x_low = h_dr.GetBinCenter(ib) - 0.5*h_dr.GetBinWidth(ib)\n",
    "    x_up = h_dr.GetBinCenter(ib) + 0.5*h_dr.GetBinWidth(ib)\n",
    "    g_up.SetPoint(2*ib-1, x_low, (y+dy_up)/y)\n",
    "    g_up.SetPoint(2*ib, x_up, (y+dy_up)/y)\n",
    "    g_down.SetPoint(2*ib-1, x_low, (y-dy_low)/y)\n",
    "    g_down.SetPoint(2*ib, x_up, (y-dy_low)/y)\n",
    "g_up.SetPoint(2*ib+1, x_up, 1)\n",
    "g_down.SetPoint(2*ib+1, x_up, 1)\n",
    "gr_stat.SetLineColor(rt.kRed-4)\n",
    "gr_stat.SetLineWidth(2)\n",
    "gr_stat.SetMarkerColor(rt.kRed-4)\n",
    "gr_sys.SetFillColor(rt.kRed-4)\n",
    "gr_sys.SetFillStyle(3005)\n",
    "gr_sys.SetLineWidth(0)\n",
    "    \n",
    "\n",
    "leg = rt.TLegend(0.5, 0.3, 0.93,0.55)\n",
    "leg.SetBorderSize(0)\n",
    "leg.AddEntry(hRD, hRD.GetTitle(), 'lep')\n",
    "leg.AddEntry(hMC, 'B^{0}#rightarrow J/#psi K*', 'le')\n",
    "leg.AddEntry(gr_stat, 'B^{0}#rightarrow J/#psi K* (p_{T} weights)', 'lep')\n",
    "leg.AddEntry(gr_sys, 'Weight systematics', 'f')\n",
    "\n",
    "SetMaxToMaxHist([hRD, hMC])\n",
    "c = rt.TCanvas('c', 'c', 50, 50, 800, 700)\n",
    "c.SetTickx(0)\n",
    "c.SetTicky(0)\n",
    "\n",
    "pad = rt.TPad('pmain', 'pmain', 0, 0.25, 1, 1)\n",
    "pad.SetBottomMargin(0.015)\n",
    "pad.SetTopMargin(0.07)\n",
    "pad.SetRightMargin(0.05)\n",
    "pad.SetLeftMargin(0.15)\n",
    "pad.Draw()\n",
    "pad.cd()\n",
    "hRD.Draw()\n",
    "hMC.Draw('same')\n",
    "gr_stat.Draw('p')\n",
    "gr_sys.Draw('2')\n",
    "leg.Draw()\n",
    "catText.DrawLatexNDC(0.9, 0.6, 'Category: {}'.format(cat.name))\n",
    "CMS_lumi.extraText = '     Internal'\n",
    "CMS_lumi.integrated_lumi = lumi_tot\n",
    "CMS_lumi.CMS_lumi(pad, -1, 33, cmsTextSize=0.75*1.2, lumiTextSize=0.6*1.2)\n",
    "\n",
    "c.cd()\n",
    "pad = rt.TPad('ppull', 'ppull', 0, 0, 1, 0.25)\n",
    "pad.SetBottomMargin(0.5)\n",
    "pad.SetTopMargin(0.03)\n",
    "pad.SetRightMargin(0.05)\n",
    "pad.SetLeftMargin(0.15)\n",
    "pad.Draw('same')\n",
    "pad.cd()\n",
    "h_dr.GetYaxis().SetTitle('RD/MC')\n",
    "t = 0.1\n",
    "h_dr.GetYaxis().SetRangeUser(1 - 3*t, 1 + 3*t)\n",
    "h_dr.GetYaxis().SetTitleOffset(0.5)\n",
    "h_dr.GetYaxis().SetTitleSize(0.14)\n",
    "h_dr.GetYaxis().SetLabelSize(0.15)\n",
    "h_dr.GetYaxis().SetNdivisions(-203)\n",
    "h_dr.GetXaxis().SetTitleOffset(0.95)\n",
    "h_dr.GetXaxis().SetTitleSize(0.2)\n",
    "h_dr.GetXaxis().SetLabelSize(0.18)\n",
    "h_dr.GetXaxis().SetTickSize(0.07)\n",
    "h_dr.Draw('E0')\n",
    "h_mr.Draw('sameE0')\n",
    "g_up.SetFillColor(rt.kRed-4)\n",
    "g_up.SetFillStyle(3005)\n",
    "g_up.Draw('F')\n",
    "g_down.SetFillColor(rt.kRed-4)\n",
    "g_down.SetFillStyle(3005)\n",
    "g_down.Draw('F')\n",
    "gh_dr = rt.TGraphErrors()\n",
    "for i in range(1, h_dr.GetNbinsX()+1):\n",
    "    gh_dr.SetPoint(i-1, h_dr.GetBinCenter(i), h_dr.GetBinContent(i))\n",
    "    gh_dr.SetPointError(i-1, h_dr.GetBinError(i))\n",
    "gh_dr.SetLineColor(h_dr.GetLineColor())\n",
    "gh_dr.Draw('P0')\n",
    "ax = h_dr.GetYaxis()\n",
    "ax.ChangeLabel(1, -1, -1, -1, -1, -1, ' ')\n",
    "ax.ChangeLabel(4, -1, -1, -1, -1, -1, ' ')\n",
    "\n",
    "l = rt.TLine()\n",
    "l.SetLineColor(rt.kGray+1)\n",
    "l.SetLineWidth(1)\n",
    "l.SetLineStyle(9)\n",
    "x_low = h_dr.GetBinCenter(1)-0.5*h_dr.GetBinWidth(1)\n",
    "x_high = h_dr.GetBinCenter(h_dr.GetNbinsX())+0.5*h_dr.GetBinWidth(h_dr.GetNbinsX())\n",
    "l.DrawLine(x_low, 1, x_high, 1)\n",
    "\n",
    "\n",
    "c.Draw()\n",
    "c.SaveAs('../data/calibration/B0pTspectrum/fig/closure_' + cat.name + '_'+version+'.png')\n",
    "c.SaveAs(webFolder+'closure_' + cat.name + '_'+version+'.png')"
   ]
  },
  {
   "cell_type": "markdown",
   "metadata": {},
   "source": [
    "# Closure plots"
   ]
  },
  {
   "cell_type": "code",
   "execution_count": null,
   "metadata": {
    "ExecuteTime": {
     "end_time": "2021-05-11T02:13:26.709762Z",
     "start_time": "2021-05-11T02:13:26.475151Z"
    }
   },
   "outputs": [],
   "source": [
    "b = {'Low': array('d', list(np.arange(7, 9.4, 0.1)) + [9.4]),\n",
    "     'Mid': array('d', list(np.arange(9, 12.2, 0.1)) +[12.2]),\n",
    "     'High': array('d', list(10+np.logspace(np.log10(12.2-10), np.log10(50), 30)))\n",
    "    }\n",
    "\n",
    "cr = drawPt('trgMu_pt', b[cat.name], 'Trigger #mu p_{T} (reco) [GeV]', saveTag='trgMuPt_postCal', withBptCorr=True)"
   ]
  },
  {
   "cell_type": "code",
   "execution_count": null,
   "metadata": {
    "ExecuteTime": {
     "end_time": "2021-05-11T02:13:26.924854Z",
     "start_time": "2021-05-11T02:13:26.714120Z"
    },
    "hide_input": true
   },
   "outputs": [],
   "source": [
    "cr = drawPt('pval_mumupiK', [30, 0, 1], \n",
    "            'p-value vertex #mu#mu#piK', loglog=False,\n",
    "            saveTag='trgMuPt_postCal', withBptCorr=True)"
   ]
  },
  {
   "cell_type": "code",
   "execution_count": null,
   "metadata": {
    "ExecuteTime": {
     "end_time": "2021-05-11T02:13:27.030777Z",
     "start_time": "2021-05-11T02:13:26.929363Z"
    },
    "hide_input": true
   },
   "outputs": [],
   "source": [
    "hMC = create_TH1D(dfMC['dxy_vtxB_PV'], name='hMC', \n",
    "                  weights=dfMC['w'],\n",
    "                  title = 'B^{0}#rightarrow J/#psi K* (reco)',\n",
    "                  scale_histo='norm',\n",
    "                  widthNorm=True,\n",
    "                  color=0,\n",
    "                  axis_title = ['d_{xy} [cm]', 'Normalized events'],\n",
    "                  binning=np.logspace(np.log10(0.01), np.log10(3), 50), opt='overflow+underflow')\n",
    "\n",
    "\n",
    "hMCt = create_TH1D(dfMC['MC_dxy_vtxB'], name='hMCt', \n",
    "              weights=dfMC['w'],\n",
    "              title = 'B^{0}#rightarrow J/#psi K* (gen)',\n",
    "              scale_histo='norm', color=2,\n",
    "              widthNorm=True,\n",
    "              binning=hMC.binning, opt='underflow+overflow')\n",
    "    \n",
    "h_list = [hMC, hMCt]\n",
    "\n",
    "CMS_lumi.extraText = '      Internal'\n",
    "cr = make_ratio_plot(h_list, ratio_bounds=[0.7, 1.2], draw_opt='E1')\n",
    "CMS_lumi.CMS_lumi(cr, -1, 0)\n",
    "cr.pad1.SetTopMargin(0.07)\n",
    "cr.pad1.SetRightMargin(0.035)\n",
    "cr.pad2.SetRightMargin(0.035)\n",
    "# cr.pad1.SetLogx()\n",
    "# cr.pad2.SetLogx()\n",
    "cr.leg.SetY2(0.93)\n",
    "cr.leg.SetY1(0.75)\n",
    "cr.leg.SetX1(0.6)\n",
    "cr.Draw()\n",
    "\n",
    "cr.pad1.cd()\n",
    "catText.SetTextSize(0.04)\n",
    "catText.DrawLatexNDC(0.9, 0.5, 'Category: {}'.format(cat.name))\n",
    "cr.dnd2 = h_list"
   ]
  },
  {
   "cell_type": "code",
   "execution_count": null,
   "metadata": {
    "ExecuteTime": {
     "end_time": "2021-05-11T02:13:27.050604Z",
     "start_time": "2021-05-11T02:13:27.035275Z"
    }
   },
   "outputs": [],
   "source": [
    "print 'DONE'"
   ]
  }
 ],
 "metadata": {
  "kernelspec": {
   "display_name": "Python 2",
   "language": "python",
   "name": "python2"
  },
  "language_info": {
   "codemirror_mode": {
    "name": "ipython",
    "version": 2
   },
   "file_extension": ".py",
   "mimetype": "text/x-python",
   "name": "python",
   "nbconvert_exporter": "python",
   "pygments_lexer": "ipython2",
   "version": "2.7.14+"
  },
  "varInspector": {
   "cols": {
    "lenName": 16,
    "lenType": 16,
    "lenVar": 40
   },
   "kernels_config": {
    "python": {
     "delete_cmd_postfix": "",
     "delete_cmd_prefix": "del ",
     "library": "var_list.py",
     "varRefreshCmd": "print(var_dic_list())"
    },
    "r": {
     "delete_cmd_postfix": ") ",
     "delete_cmd_prefix": "rm(",
     "library": "var_list.r",
     "varRefreshCmd": "cat(var_dic_list()) "
    }
   },
   "types_to_exclude": [
    "module",
    "function",
    "builtin_function_or_method",
    "instance",
    "_Feature"
   ],
   "window_display": false
  }
 },
 "nbformat": 4,
 "nbformat_minor": 2
}
