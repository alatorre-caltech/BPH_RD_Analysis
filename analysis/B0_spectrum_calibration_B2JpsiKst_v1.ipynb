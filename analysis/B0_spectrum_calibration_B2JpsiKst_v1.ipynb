{
 "cells": [
  {
   "cell_type": "code",
   "execution_count": 1,
   "metadata": {
    "ExecuteTime": {
     "end_time": "2019-10-30T00:38:08.050804Z",
     "start_time": "2019-10-30T00:38:02.498417Z"
    }
   },
   "outputs": [
    {
     "name": "stdout",
     "output_type": "stream",
     "text": [
      "Welcome to JupyROOT 6.10/08\n"
     ]
    }
   ],
   "source": [
    "import numpy as np\n",
    "import scipy.stats as sps\n",
    "from glob import glob\n",
    "import matplotlib.pyplot as plt\n",
    "import uproot as ur\n",
    "import ROOT as rt\n",
    "import ROOT.RooFit as rf\n",
    "from scipy.special import erf\n",
    "import sys, os\n",
    "sys.path.append('../lib')\n",
    "from histo_utilities import create_TH1D, create_TH2D, std_color_list, SetMaxToMaxHist, make_ratio_plot\n",
    "from cebefo_style import Set_2D_colz_graphics\n",
    "from progressBar import ProgressBar\n",
    "\n",
    "from analysis_utilities import drawOnCMSCanvas, extarct, extarct_multiple, createSel\n",
    "from lumi_utilities import getLumiReport\n",
    "\n",
    "import CMS_lumi, tdrstyle\n",
    "tdrstyle.setTDRStyle()\n",
    "CMS_lumi.writeExtraText = 1\n",
    "CMS_lumi.extraText = \"     Preliminary\"\n",
    "\n",
    "donotdelete = []"
   ]
  },
  {
   "cell_type": "code",
   "execution_count": 2,
   "metadata": {
    "ExecuteTime": {
     "end_time": "2019-10-30T00:38:08.088553Z",
     "start_time": "2019-10-30T00:38:08.054905Z"
    }
   },
   "outputs": [],
   "source": [
    "rt.gErrorIgnoreLevel = rt.kError\n",
    "rt.RooMsgService.instance().setGlobalKillBelow(rt.RooFit.ERROR)"
   ]
  },
  {
   "cell_type": "code",
   "execution_count": 3,
   "metadata": {
    "ExecuteTime": {
     "end_time": "2019-10-30T00:38:08.108341Z",
     "start_time": "2019-10-30T00:38:08.092733Z"
    }
   },
   "outputs": [
    {
     "name": "stdout",
     "output_type": "stream",
     "text": [
      "1.86483\n",
      "2.01026\n",
      "5.27963\n",
      "mD* - mD0 = 0.14543\n"
     ]
    }
   ],
   "source": [
    "m_D0 = 1.86483 #1e-3*Particle.from_string('D0').mass\n",
    "print m_D0\n",
    "m_Dst = 2.01026 #1e-3*Particle.from_string('D*+').mass\n",
    "print m_Dst\n",
    "m_B0 = 5.27963 #1e-3*Particle.from_string('B0').mass\n",
    "print m_B0\n",
    "m_pi = 0.13957018 #1e-3*Particle.from_string('pi+').mass\n",
    "print 'mD* - mD0 =', m_Dst - m_D0"
   ]
  },
  {
   "cell_type": "code",
   "execution_count": 4,
   "metadata": {
    "ExecuteTime": {
     "end_time": "2019-10-30T00:38:08.133902Z",
     "start_time": "2019-10-30T00:38:08.112569Z"
    }
   },
   "outputs": [],
   "source": [
    "cl = rt.TLine()\n",
    "cl.SetLineColor(6)\n",
    "cl.SetLineStyle(9)\n",
    "cl.SetLineWidth(2)"
   ]
  },
  {
   "cell_type": "markdown",
   "metadata": {},
   "source": [
    "# Cuts declaration"
   ]
  },
  {
   "cell_type": "code",
   "execution_count": 5,
   "metadata": {
    "ExecuteTime": {
     "end_time": "2019-10-30T00:38:08.154785Z",
     "start_time": "2019-10-30T00:38:08.138072Z"
    }
   },
   "outputs": [],
   "source": [
    "# Needed to prevent different mixture in trigger path (in MC all of BPH are always ON but not in data)\n",
    "trigger_cuts = [\n",
    " 'trgMu_pt > 13',\n",
    " 'trgMu_sigdxy > 6.5'\n",
    "]\n",
    "\n",
    "offline_cuts = [\n",
    " 'mass_mumu < 3.174',\n",
    " 'mass_mumu > 3.013',\n",
    " 'mass_piK > 0.82',\n",
    " 'mass_piK < 0.96',\n",
    " 'mum_pt > 3.5',\n",
    " 'mup_pt > 3.5',\n",
    " 'Jpsi_pt > 7',\n",
    " 'pval_mumu > 0.1',\n",
    " 'mum_eta > -2.2',\n",
    " 'mup_eta > -2.2',\n",
    " 'mum_eta < 2.2',\n",
    " 'mup_eta < 2.2',\n",
    " 'cosT_Jpsi_PV > 0.95',\n",
    " 'mum_dxy < 3',\n",
    " 'mup_dxy < 3',\n",
    " 'pval_piK > 0.1',\n",
    " 'fabs(mass_piK - 0.892) < fabs(mass_piK_CPconj - 0.892)',\n",
    " 'mass_KK > 1.035',\n",
    " 'K_sigdxy_PV > 2',\n",
    " 'pi_sigdxy_PV > 2',\n",
    " 'sigdxy_vtxKst_PV > 5',\n",
    " 'K_pt > 0.8',\n",
    " 'pval_mumupiK > 0.1',\n",
    " 'pi_pt > 0.8',\n",
    " 'mass_mumupiK > 5.02',\n",
    " 'mass_mumupiK < 5.55'\n",
    "]\n",
    "\n",
    "analysis_cuts = trigger_cuts + offline_cuts\n",
    "analysis_cuts_str = ' && '.join(analysis_cuts)"
   ]
  },
  {
   "cell_type": "markdown",
   "metadata": {},
   "source": [
    "# Load data"
   ]
  },
  {
   "cell_type": "code",
   "execution_count": 6,
   "metadata": {
    "ExecuteTime": {
     "end_time": "2019-10-30T00:38:08.176242Z",
     "start_time": "2019-10-30T00:38:08.158971Z"
    }
   },
   "outputs": [
    {
     "name": "stdout",
     "output_type": "stream",
     "text": [
      "../data/cmsRD/ParkingBPH1/Run2018A-05May2019-v1_RDntuplizer_B2JpsiKst_191019_CAND.root\n",
      "../data/cmsRD/ParkingBPH1/Run2018B-05May2019-v2_RDntuplizer_B2JpsiKst_191019_CAND.root\n",
      "../data/cmsRD/ParkingBPH1/Run2018C-05May2019-v1_RDntuplizer_B2JpsiKst_191019_CAND.root\n",
      "../data/cmsRD/ParkingBPH1/Run2018D-05May2019promptD-v1_RDntuplizer_B2JpsiKst_191019_CAND.root\n",
      "../data/cmsRD/ParkingBPH2/Run2018A-05May2019-v1_RDntuplizer_B2JpsiKst_191019_CAND.root\n",
      "../data/cmsRD/ParkingBPH2/Run2018B-05May2019-v2_RDntuplizer_B2JpsiKst_191019_CAND.root\n",
      "../data/cmsRD/ParkingBPH2/Run2018C-05May2019-v1_RDntuplizer_B2JpsiKst_191019_CAND.root\n",
      "../data/cmsRD/ParkingBPH2/Run2018D-05May2019promptD-v1_RDntuplizer_B2JpsiKst_191019_CAND.root\n",
      "../data/cmsRD/ParkingBPH3/Run2018A-05May2019-v1_RDntuplizer_B2JpsiKst_191019_CAND.root\n",
      "../data/cmsRD/ParkingBPH3/Run2018B-05May2019-v2_RDntuplizer_B2JpsiKst_191019_CAND.root\n",
      "../data/cmsRD/ParkingBPH3/Run2018C-05May2019-v1_RDntuplizer_B2JpsiKst_191019_CAND.root\n",
      "../data/cmsRD/ParkingBPH3/Run2018D-05May2019promptD-v1_RDntuplizer_B2JpsiKst_191019_CAND.root\n",
      "../data/cmsRD/ParkingBPH4/Run2018A-05May2019-v1_RDntuplizer_B2JpsiKst_191019_CAND.root\n",
      "../data/cmsRD/ParkingBPH4/Run2018B-05May2019-v2_RDntuplizer_B2JpsiKst_191019_CAND.root\n",
      "../data/cmsRD/ParkingBPH4/Run2018C-05May2019-v1_RDntuplizer_B2JpsiKst_191019_CAND.root\n",
      "../data/cmsRD/ParkingBPH5/Run2018A-05May2019-v1_RDntuplizer_B2JpsiKst_191019_CAND.root\n",
      "../data/cmsRD/ParkingBPH5/Run2018B-05May2019-v2_RDntuplizer_B2JpsiKst_191019_CAND.root\n",
      "../data/cmsRD/ParkingBPH5/Run2018C-05May2019-v1_RDntuplizer_B2JpsiKst_191019_CAND.root\n",
      "../data/cmsRD/ParkingBPH6/Run2018A-05May2019-v1_RDntuplizer_B2JpsiKst_191019_CAND.root\n",
      "../data/cmsRD/ParkingBPH6/Run2018B-05May2019-v2_RDntuplizer_B2JpsiKst_191019_CAND.root\n"
     ]
    }
   ],
   "source": [
    "dataDir = '../data/cmsRD'\n",
    "datasets_loc = []\n",
    "datasets_loc += glob(dataDir + '/ParkingBPH*/*2018*B2JpsiKst_191019*')\n",
    "# datasets_loc += glob(dataDir + '/ParkingBPH1/*2018D-*B2JpsiKst_191017*')\n",
    "\n",
    "for d in datasets_loc: print d"
   ]
  },
  {
   "cell_type": "code",
   "execution_count": 7,
   "metadata": {
    "ExecuteTime": {
     "end_time": "2019-10-30T00:38:08.310941Z",
     "start_time": "2019-10-30T00:38:08.180217Z"
    }
   },
   "outputs": [
    {
     "name": "stdout",
     "output_type": "stream",
     "text": [
      "Lumi tot: 30.3 fb^-1\n",
      "Lumi analyzed: 74.4%\n"
     ]
    }
   ],
   "source": [
    "lumi_tot, lumi_dic = getLumiReport(datasets_loc)\n",
    "CMS_lumi.integrated_lumi = lumi_tot"
   ]
  },
  {
   "cell_type": "code",
   "execution_count": 8,
   "metadata": {
    "ExecuteTime": {
     "end_time": "2019-10-30T00:40:10.704661Z",
     "start_time": "2019-10-30T00:38:08.315139Z"
    }
   },
   "outputs": [
    {
     "name": "stdout",
     "output_type": "stream",
     "text": [
      "N evts: 53333\n"
     ]
    }
   ],
   "source": [
    "treeRD = rt.TChain('outA/Tevts')\n",
    "for floc in datasets_loc:\n",
    "   treeRD.Add(floc)\n",
    "print 'N evts: {:.0f}'.format(treeRD.GetEntries(analysis_cuts_str))"
   ]
  },
  {
   "cell_type": "markdown",
   "metadata": {},
   "source": [
    "# Load MC"
   ]
  },
  {
   "cell_type": "code",
   "execution_count": 9,
   "metadata": {
    "ExecuteTime": {
     "end_time": "2019-10-30T00:40:10.722801Z",
     "start_time": "2019-10-30T00:40:10.708755Z"
    }
   },
   "outputs": [],
   "source": [
    "mcDir = '../data/cmsMC_private'"
   ]
  },
  {
   "cell_type": "code",
   "execution_count": 10,
   "metadata": {
    "ExecuteTime": {
     "end_time": "2019-10-30T00:40:11.864709Z",
     "start_time": "2019-10-30T00:40:10.727164Z"
    }
   },
   "outputs": [
    {
     "name": "stdout",
     "output_type": "stream",
     "text": [
      "N files: 45\n",
      "N evts: 15308\n"
     ]
    }
   ],
   "source": [
    "mcsets_loc = glob(mcDir + '/BPH_Tag-Probe_B0_JpsiKst-mumuKpi-kp_13TeV-pythia8_Hardbbbar_PTFilter5_0p0-evtgen_SVV/jobs_B2JpsiKst/out_CAND*.root')\n",
    "treeMC = rt.TChain('outA/Tevts')\n",
    "for floc in mcsets_loc:\n",
    "    treeMC.Add(floc)\n",
    "print 'N files: {:.0f}'.format(len(mcsets_loc))\n",
    "print 'N evts: {:.0f}'.format(treeMC.GetEntries(analysis_cuts_str))"
   ]
  },
  {
   "cell_type": "markdown",
   "metadata": {},
   "source": [
    "# Analyze data"
   ]
  },
  {
   "cell_type": "markdown",
   "metadata": {},
   "source": [
    "### Fit the whole dataset"
   ]
  },
  {
   "cell_type": "code",
   "execution_count": 11,
   "metadata": {
    "ExecuteTime": {
     "end_time": "2019-10-30T00:42:19.073929Z",
     "start_time": "2019-10-30T00:40:11.868776Z"
    }
   },
   "outputs": [],
   "source": [
    "h = create_TH1D(np.zeros(0), name='h',\n",
    "                title='',\n",
    "                axis_title=['m(#mu#mu#pi^{-}K^{+}) [GeV]', 'Events'],\n",
    "                binning=[30, 5.02, 5.55]\n",
    "               )\n",
    "treeRD.Project('h', 'mass_mumupiK', analysis_cuts_str)\n",
    "h.Sumw2()"
   ]
  },
  {
   "cell_type": "code",
   "execution_count": 12,
   "metadata": {
    "ExecuteTime": {
     "end_time": "2019-10-30T00:42:19.170651Z",
     "start_time": "2019-10-30T00:42:19.078013Z"
    }
   },
   "outputs": [],
   "source": [
    "mass = rt.RooRealVar('mass_mumupiK', 'm_{#mu#mu#piK}', h.binning[1], h.binning[2], 'GeV')\n",
    "\n",
    "# mean = rt.RooRealVar('mean', 'm_{B}', m_B0, 3, 7, 'GeV')\n",
    "# sigma = rt.RooRealVar('sigma', '#sigma', 0.02, 0.00005, 0.1, 'GeV') \n",
    "# pdf_sig = rt.RooGaussian('gaus','sig pdf', mass, mean, sigma)\n",
    "\n",
    "# mean = rt.RooRealVar('mean', 'm_{B}', m_B0, 3, 7, 'GeV')\n",
    "# sigma = rt.RooRealVar('sigma', '#sigma', 0.03, 0.00005, 0.1, 'GeV')\n",
    "# alpha = rt.RooRealVar('alpha', '#alpha', 2, -5, 5, 'GeV')\n",
    "# nCB = rt.RooRealVar('nCB', 'n_{CB}', 2, -10, 10, 'GeV')\n",
    "# pdf_sig = rt.RooCBShape('gaus','sig pdf', mass, mean, sigma, alpha, nCB)\n",
    "\n",
    "mean = rt.RooRealVar('mean', '#mu', m_B0, 3, 7, 'GeV')\n",
    "sigma = rt.RooRealVar('sigma', '#sigma', 0.03, 0.00005, 0.1, 'GeV')\n",
    "pAsym = rt.RooRealVar('pAsym', '#alpha', 0, -1, 1)\n",
    "# pAsym.setConstant(rt.kTRUE)\n",
    "rho1 = rt.RooRealVar('rho1', '#rho_{1}', 0, -10, 0)\n",
    "# rho1.setConstant(rt.kTRUE)\n",
    "rho2 = rt.RooRealVar('rho2', '#rho_{2}', 0.5, 0, 10)\n",
    "pdf_sig = rt.RooBukinPdf('bukin','sig pdf', mass, mean, sigma, pAsym, rho1, rho2)\n",
    "\n",
    "N_tot = h.Integral(1, h.binning[0])\n",
    "nsig = rt.RooRealVar('nsig', 'N_{S}', 0.9*N_tot, 0, 100*N_tot)\n",
    "pdf_sig_ext = rt.RooExtendPdf('esig', 'esig', pdf_sig, nsig)"
   ]
  },
  {
   "cell_type": "code",
   "execution_count": 13,
   "metadata": {
    "ExecuteTime": {
     "end_time": "2019-10-30T00:42:19.201599Z",
     "start_time": "2019-10-30T00:42:19.174737Z"
    }
   },
   "outputs": [],
   "source": [
    "lam = rt.RooRealVar('lam', '#lambda', -2.1, -100, -0.1, 'GeV^{-1}')\n",
    "pdf_bkg = rt.RooExponential('expo', 'bkg pdf', mass, lam)\n",
    "\n",
    "# a0 = rt.RooRealVar('a0', 'a0', 10, 0, 100)\n",
    "# a1 = rt.RooRealVar('a1', 'a1', 0.1, -10, 1000)\n",
    "# a2 = rt.RooRealVar('a2', 'a2', 0.1, -100, 1000)\n",
    "# pdf_bkg = rt.RooPolynomial('poly', 'bkg pdf', mass, rt.RooArgList(a1, a2), 1)\n",
    "\n",
    "nbkg = rt.RooRealVar('nbkg', 'N_{B}', 0.1*N_tot, 0, 100*N_tot)\n",
    "pdf_bkg_ext = rt.RooExtendPdf('ebkg', 'ebkg', pdf_bkg, nbkg)"
   ]
  },
  {
   "cell_type": "code",
   "execution_count": 14,
   "metadata": {
    "ExecuteTime": {
     "end_time": "2019-10-30T00:42:19.464111Z",
     "start_time": "2019-10-30T00:42:19.205177Z"
    }
   },
   "outputs": [
    {
     "name": "stdout",
     "output_type": "stream",
     "text": [
      "chi2: 63.7/22 0.000\n",
      "Total: Nsig = 38880, Nbkg = 14534\n"
     ]
    }
   ],
   "source": [
    "data = rt.RooDataHist('d', 'data', rt.RooArgList(mass), h)\n",
    "\n",
    "pdf_tot = rt.RooAddPdf('pdftot', 'pdftot', rt.RooArgList(pdf_sig_ext, pdf_bkg_ext))\n",
    "fr = pdf_tot.fitTo(data, rf.PrintLevel(-1), rf.Save())\n",
    "\n",
    "dof = h.binning[0]-fr.floatParsFinal().getSize()\n",
    "chi2 = rt.RooChi2Var(\"chi2\", 'chi2', pdf_tot, data)\n",
    "pval = rt.ROOT.Math.chisquared_cdf_c(chi2.getVal(), dof)\n",
    "print 'chi2: {:.1f}/{:.0f} {:.3f}'.format(chi2.getVal(), dof, pval)\n",
    "\n",
    "print 'Total: Nsig = {:.0f}, Nbkg = {:.0f}'.format(nsig.getVal(), nbkg.getVal())"
   ]
  },
  {
   "cell_type": "code",
   "execution_count": 15,
   "metadata": {
    "ExecuteTime": {
     "end_time": "2019-10-30T00:42:19.911641Z",
     "start_time": "2019-10-30T00:42:19.468404Z"
    },
    "scrolled": false
   },
   "outputs": [
    {
     "data": {
      "image/png": "[encoded data removed]",
      "text/plain": [
       "<IPython.core.display.Image object>"
      ]
     },
     "metadata": {},
     "output_type": "display_data"
    }
   ],
   "source": [
    "frame = mass.frame(rf.Title(\"\"))\n",
    "data.plotOn(frame, rf.MarkerStyle(1), rf.DrawOption('E1'), rf.MarkerColor(h.GetLineColor()), rf.LineColor(h.GetLineColor()), rf.MarkerStyle(15))\n",
    "pdf_tot.plotOn(frame, rf.LineColor(h.GetLineColor()), rf.LineWidth(2))\n",
    "pdf_tot.plotOn(frame, rf.Components('ebkg'), rf.LineColor(rt.kRed), rf.LineWidth(2), rf.LineStyle(7))\n",
    "pdf_tot.plotOn(frame, rf.Components('esig'), rf.LineColor(rt.kBlue), rf.LineWidth(2), rf.LineStyle(7))\n",
    "\n",
    "pTxt = rt.TPaveText(5.05, 0.2*h.GetMaximum(), 5.2, h.GetMaximum())\n",
    "pTxt.SetBorderSize(0)\n",
    "pTxt.SetFillStyle(0)\n",
    "pTxt.SetTextAlign(11)\n",
    "pTxt.AddText('#chi^{{2}}: {:.1f}/{:.0f} ({:.2f})'.format(chi2.getVal(), dof, pval))\n",
    "pTxt.AddText('N_{{sig}} = {:.0f} +/- {:.0f}'.format(nsig.getVal(), nsig.getError()))\n",
    "pTxt.AddText('#mu = {:.1f} +/- {:.1f} MeV'.format(1e3*mean.getVal(), 1e3*mean.getError()))\n",
    "pTxt.AddText('#sigma = {:.1f} +/- {:.1f} MeV'.format(1e3*sigma.getVal(), 1e3*sigma.getError()))\n",
    "pTxt.AddText('#alpha = {:.3f} +/- {:.3f}'.format(pAsym.getVal(), pAsym.getError()))\n",
    "pTxt.AddText('#rho_{{1}} = {:.3f} +/- {:.3f}'.format(rho1.getVal(), rho1.getError()))\n",
    "pTxt.AddText('#rho_{{2}} = {:.3f} +/- {:.3f}'.format(rho2.getVal(), rho2.getError()))\n",
    "\n",
    "c = drawOnCMSCanvas(CMS_lumi, frame)\n",
    "cl.DrawLine(m_B0, 0, m_B0, h.GetMaximum());\n",
    "pTxt.Draw()"
   ]
  },
  {
   "cell_type": "markdown",
   "metadata": {},
   "source": [
    "### Create a skimmed tree"
   ]
  },
  {
   "cell_type": "code",
   "execution_count": null,
   "metadata": {
    "ExecuteTime": {
     "end_time": "2019-10-29T23:52:34.448412Z",
     "start_time": "2019-10-29T23:34:56.734849Z"
    },
    "code_folding": [
     7
    ],
    "scrolled": true
   },
   "outputs": [],
   "source": [
    "output = []\n",
    "N_accepted_cand = []\n",
    "\n",
    "import operator\n",
    "ops = {'>': operator.gt, '<': operator.lt, }\n",
    "\n",
    "pb = ProgressBar(maxEntry=treeRD.GetEntries())\n",
    "for i_ev, ev in enumerate(treeRD):\n",
    "    pb.show(i_ev)\n",
    "    N_acc = 0\n",
    "    \n",
    "    accept = True\n",
    "    for c_str in trigger_cuts:\n",
    "        aux = c_str.split(' ')\n",
    "        if len(aux) != 3: raise\n",
    "        x = getattr(ev, aux[0])\n",
    "        if not ops[aux[1]](x, float(aux[2])):\n",
    "            accept = False\n",
    "    if not accept:\n",
    "        continue\n",
    "            \n",
    "    for j in range(ev.pval_mumupiK.size()):\n",
    "        accept = abs(ev.mass_piK[j] - 0.892) < abs(ev.mass_piK_CPconj[j] - 0.892)\n",
    "        for c_str in offline_cuts:\n",
    "            if c_str == 'fabs(mass_piK - 0.892) < fabs(mass_piK_CPconj - 0.892)': continue\n",
    "            if not accept:\n",
    "                break\n",
    "            aux = c_str.split(' ')\n",
    "            if len(aux) != 3:\n",
    "                raise\n",
    "            x = getattr(ev, aux[0])[j]\n",
    "            accept = ops[aux[1]](x, float(aux[2]))\n",
    "        if accept:\n",
    "            N_acc += 1\n",
    "            output.append((ev.mass_mumupiK[j], \n",
    "                           ev.B_mumupiK_pt[j], \n",
    "                           ev.B_mumupiK_eta[j],\n",
    "                           ev.Jpsi_pt[j],\n",
    "                           ev.mum_pt[j],\n",
    "                           ev.mum_eta[j],\n",
    "                           ev.mum_isTrg[j],\n",
    "                           ev.mup_eta[j],\n",
    "                           ev.mup_pt[j],\n",
    "                           ev.mup_isTrg[j],\n",
    "                           ev.Kst_pt[j],\n",
    "                           ev.Kst_eta[j],\n",
    "                           ev.K_pt[j],\n",
    "                           ev.K_eta[j],\n",
    "                           ev.pi_pt[j],\n",
    "                           ev.pi_eta[j],\n",
    "                          ))\n",
    "    if N_acc > 0:\n",
    "        N_accepted_cand.append(N_acc)\n",
    "\n",
    "print len(output)\n",
    "dic = {i:N_accepted_cand.count(i) for i in range(1, np.max(N_accepted_cand)+1)}\n",
    "print dic\n",
    "\n",
    "import root_numpy as rtnp\n",
    "leafs_names = ['mass_mumupiK', 'B_pt', 'B_eta', 'Jpsi_pt', 'mum_pt', 'mum_eta', 'mum_isTrg', 'mup_eta', 'mup_pt', 'mup_isTrg', 'Kst_pt', 'Kst_eta', 'K_pt', 'K_eta', 'pi_pt', 'pi_eta']\n",
    "\n",
    "dtypes = []\n",
    "for n in leafs_names:\n",
    "    dtypes.append((n, np.float32))\n",
    "\n",
    "# dtypes = [('mass_mumupiK', np.float32), ('B_pt', np.float32), ('B_eta', np.float32)]\n",
    "a = np.array(output, dtype=dtypes)\n",
    "skimmed_tree = rtnp.array2tree(a)\n",
    "rtnp.array2root(a, '../data/cmsRD/skimmed/B2JpsiKst.root', treename='Tevts', mode='RECREATE')"
   ]
  },
  {
   "cell_type": "code",
   "execution_count": 16,
   "metadata": {
    "ExecuteTime": {
     "end_time": "2019-10-30T00:42:19.944791Z",
     "start_time": "2019-10-30T00:42:19.916052Z"
    }
   },
   "outputs": [
    {
     "name": "stdout",
     "output_type": "stream",
     "text": [
      "******************************************************************************\n",
      "*Tree    :Tevts     : Tevts                                                  *\n",
      "*Entries :    53465 : Total =         3438200 bytes  File  Size =    2569025 *\n",
      "*        :          : Tree compression factor =   1.34                       *\n",
      "******************************************************************************\n",
      "*Br    0 :mass_mumupiK : mass_mumupiK/F                                      *\n",
      "*Entries :    53465 : Total  Size=     214922 bytes  File Size  =     167966 *\n",
      "*Baskets :        7 : Basket Size=      32000 bytes  Compression=   1.28     *\n",
      "*............................................................................*\n",
      "*Br    1 :B_pt      : B_pt/F                                                 *\n",
      "*Entries :    53465 : Total  Size=     214834 bytes  File Size  =     189994 *\n",
      "*Baskets :        7 : Basket Size=      32000 bytes  Compression=   1.13     *\n",
      "*............................................................................*\n",
      "*Br    2 :B_eta     : B_eta/F                                                *\n",
      "*Entries :    53465 : Total  Size=     214845 bytes  File Size  =     198379 *\n",
      "*Baskets :        7 : Basket Size=      32000 bytes  Compression=   1.08     *\n",
      "*............................................................................*\n",
      "*Br    3 :Jpsi_pt   : Jpsi_pt/F                                              *\n",
      "*Entries :    53465 : Total  Size=     214867 bytes  File Size  =     189358 *\n",
      "*Baskets :        7 : Basket Size=      32000 bytes  Compression=   1.13     *\n",
      "*............................................................................*\n",
      "*Br    4 :mum_pt    : mum_pt/F                                               *\n",
      "*Entries :    53465 : Total  Size=     214856 bytes  File Size  =     190886 *\n",
      "*Baskets :        7 : Basket Size=      32000 bytes  Compression=   1.12     *\n",
      "*............................................................................*\n",
      "*Br    5 :mum_eta   : mum_eta/F                                              *\n",
      "*Entries :    53465 : Total  Size=     214867 bytes  File Size  =     198208 *\n",
      "*Baskets :        7 : Basket Size=      32000 bytes  Compression=   1.08     *\n",
      "*............................................................................*\n",
      "*Br    6 :mum_isTrg : mum_isTrg/F                                            *\n",
      "*Entries :    53465 : Total  Size=     214889 bytes  File Size  =      23754 *\n",
      "*Baskets :        7 : Basket Size=      32000 bytes  Compression=   9.03     *\n",
      "*............................................................................*\n",
      "*Br    7 :mup_eta   : mup_eta/F                                              *\n",
      "*Entries :    53465 : Total  Size=     214867 bytes  File Size  =     198260 *\n",
      "*Baskets :        7 : Basket Size=      32000 bytes  Compression=   1.08     *\n",
      "*............................................................................*\n",
      "*Br    8 :mup_pt    : mup_pt/F                                               *\n",
      "*Entries :    53465 : Total  Size=     214856 bytes  File Size  =     190942 *\n",
      "*Baskets :        7 : Basket Size=      32000 bytes  Compression=   1.12     *\n",
      "*............................................................................*\n",
      "*Br    9 :mup_isTrg : mup_isTrg/F                                            *\n",
      "*Entries :    53465 : Total  Size=     214889 bytes  File Size  =      23630 *\n",
      "*Baskets :        7 : Basket Size=      32000 bytes  Compression=   9.07     *\n",
      "*............................................................................*\n",
      "*Br   10 :Kst_pt    : Kst_pt/F                                               *\n",
      "*Entries :    53465 : Total  Size=     214856 bytes  File Size  =     191959 *\n",
      "*Baskets :        7 : Basket Size=      32000 bytes  Compression=   1.12     *\n",
      "*............................................................................*\n",
      "*Br   11 :Kst_eta   : Kst_eta/F                                              *\n",
      "*Entries :    53465 : Total  Size=     214867 bytes  File Size  =     198399 *\n",
      "*Baskets :        7 : Basket Size=      32000 bytes  Compression=   1.08     *\n",
      "*............................................................................*\n",
      "*Br   12 :K_pt      : K_pt/F                                                 *\n",
      "*Entries :    53465 : Total  Size=     214834 bytes  File Size  =     129504 *\n",
      "*Baskets :        7 : Basket Size=      32000 bytes  Compression=   1.66     *\n",
      "*............................................................................*\n",
      "*Br   13 :K_eta     : K_eta/F                                                *\n",
      "*Entries :    53465 : Total  Size=     214845 bytes  File Size  =     173891 *\n",
      "*Baskets :        7 : Basket Size=      32000 bytes  Compression=   1.23     *\n",
      "*............................................................................*\n",
      "*Br   14 :pi_pt     : pi_pt/F                                                *\n",
      "*Entries :    53465 : Total  Size=     214845 bytes  File Size  =     128145 *\n",
      "*Baskets :        7 : Basket Size=      32000 bytes  Compression=   1.67     *\n",
      "*............................................................................*\n",
      "*Br   15 :pi_eta    : pi_eta/F                                               *\n",
      "*Entries :    53465 : Total  Size=     214856 bytes  File Size  =     173696 *\n",
      "*Baskets :        7 : Basket Size=      32000 bytes  Compression=   1.23     *\n",
      "*............................................................................*\n"
     ]
    }
   ],
   "source": [
    "skimmed_file = rt.TFile('../data/cmsRD/skimmed/B2JpsiKst.root', 'READ')\n",
    "skimmed_tree = skimmed_file.Get('Tevts')\n",
    "skimmed_tree.Print()"
   ]
  },
  {
   "cell_type": "markdown",
   "metadata": {},
   "source": [
    "### Make sDataset"
   ]
  },
  {
   "cell_type": "code",
   "execution_count": 17,
   "metadata": {
    "ExecuteTime": {
     "end_time": "2019-10-30T00:42:20.093267Z",
     "start_time": "2019-10-30T00:42:19.948876Z"
    }
   },
   "outputs": [],
   "source": [
    "v_B_pt = rt.RooRealVar('B_pt', 'p_{T}^{(B)}', 0, 500, 'GeV')\n",
    "v_B_eta = rt.RooRealVar('B_eta', '#eta^{(B)}', -3, 3, 'GeV')\n",
    "\n",
    "rt.RooAbsData.setDefaultStorageType(rt.RooAbsData.Tree)\n",
    "ds = rt.RooDataSet('ds', 'ds', skimmed_tree, rt.RooArgSet(mass, v_B_eta, v_B_pt))#, v_B_eta))"
   ]
  },
  {
   "cell_type": "code",
   "execution_count": 18,
   "metadata": {
    "ExecuteTime": {
     "end_time": "2019-10-30T00:42:21.103093Z",
     "start_time": "2019-10-30T00:42:20.097130Z"
    }
   },
   "outputs": [
    {
     "data": {
      "text/plain": [
       "39048.60843881507"
      ]
     },
     "execution_count": 18,
     "metadata": {},
     "output_type": "execute_result"
    }
   ],
   "source": [
    "sData = rt.RooStats.SPlot('sData', 'sData', ds, pdf_tot, rt.RooArgList(nsig, nbkg))\n",
    "sData.GetYieldFromSWeight('nsig_sw')"
   ]
  },
  {
   "cell_type": "code",
   "execution_count": 19,
   "metadata": {
    "ExecuteTime": {
     "end_time": "2019-10-30T00:42:21.268920Z",
     "start_time": "2019-10-30T00:42:21.108027Z"
    }
   },
   "outputs": [],
   "source": [
    "f_sw = rt.TFile('../data/cmsRD/skimmed/B2JpsiKst_sW.root', 'RECREATE')\n",
    "treeRD_skimmed = ds.tree()\n",
    "treeRD_skimmed.Write()\n",
    "f_sw.Close()"
   ]
  },
  {
   "cell_type": "code",
   "execution_count": 20,
   "metadata": {
    "ExecuteTime": {
     "end_time": "2019-10-30T00:42:31.353963Z",
     "start_time": "2019-10-30T00:42:31.330118Z"
    }
   },
   "outputs": [
    {
     "name": "stdout",
     "output_type": "stream",
     "text": [
      "******************************************************************************\n",
      "*Tree    :merged    : merged                                                 *\n",
      "*Entries :    53465 : Total =         3130826 bytes  File  Size =    2333004 *\n",
      "*        :          : Tree compression factor =   1.00                       *\n",
      "******************************************************************************\n",
      "*Br    0 :mass_mumupiK : mass_mumupiK/D                                      *\n",
      "*Entries :    53465 : Total  Size=     448368 bytes  All baskets in memory   *\n",
      "*Baskets :      106 : Basket Size=       4096 bytes  Compression=   1.00     *\n",
      "*............................................................................*\n",
      "*Br    1 :B_eta     : B_eta/D                                                *\n",
      "*Entries :    53465 : Total  Size=     446842 bytes  All baskets in memory   *\n",
      "*Baskets :      106 : Basket Size=       4096 bytes  Compression=   1.00     *\n",
      "*............................................................................*\n",
      "*Br    2 :B_pt      : B_pt/D                                                 *\n",
      "*Entries :    53465 : Total  Size=     446624 bytes  All baskets in memory   *\n",
      "*Baskets :      106 : Basket Size=       4096 bytes  Compression=   1.00     *\n",
      "*............................................................................*\n",
      "*Br    3 :nsig_sw   : nsig_sw/D                                              *\n",
      "*Entries :    53465 : Total  Size=     447278 bytes  All baskets in memory   *\n",
      "*Baskets :      106 : Basket Size=       4096 bytes  Compression=   1.00     *\n",
      "*............................................................................*\n",
      "*Br    4 :L_nsig    : L_nsig/D                                               *\n",
      "*Entries :    53465 : Total  Size=     447060 bytes  All baskets in memory   *\n",
      "*Baskets :      106 : Basket Size=       4096 bytes  Compression=   1.00     *\n",
      "*............................................................................*\n",
      "*Br    5 :nbkg_sw   : nbkg_sw/D                                              *\n",
      "*Entries :    53465 : Total  Size=     447278 bytes  All baskets in memory   *\n",
      "*Baskets :      106 : Basket Size=       4096 bytes  Compression=   1.00     *\n",
      "*............................................................................*\n",
      "*Br    6 :L_nbkg    : L_nbkg/D                                               *\n",
      "*Entries :    53465 : Total  Size=     447060 bytes  All baskets in memory   *\n",
      "*Baskets :      106 : Basket Size=       4096 bytes  Compression=   1.00     *\n",
      "*............................................................................*\n"
     ]
    }
   ],
   "source": [
    "f_sw = rt.TFile('../data/cmsRD/skimmed/B2JpsiKst_sW.root', 'READ')\n",
    "treeRD_skimmed = f_sw.Get('merged')\n",
    "treeRD_skimmed.Print()"
   ]
  },
  {
   "cell_type": "markdown",
   "metadata": {
    "heading_collapsed": true
   },
   "source": [
    "# Analyze MC"
   ]
  },
  {
   "cell_type": "code",
   "execution_count": null,
   "metadata": {
    "ExecuteTime": {
     "end_time": "2019-10-28T22:46:10.498748Z",
     "start_time": "2019-10-28T22:46:10.406550Z"
    },
    "hidden": true
   },
   "outputs": [],
   "source": [
    "h = create_TH1D(np.zeros(0), name='h',\n",
    "                title='',\n",
    "                axis_title=['m(#mu#mu#pi^{-}K^{+}) [GeV]', 'Events'],\n",
    "                binning=[30, 5.15, 5.4]\n",
    "               )\n",
    "treeMC.Project('h', 'mass_mumupiK', analysis_cuts_str)\n",
    "h.Sumw2()"
   ]
  },
  {
   "cell_type": "code",
   "execution_count": null,
   "metadata": {
    "ExecuteTime": {
     "end_time": "2019-10-28T22:46:10.499658Z",
     "start_time": "2019-10-28T22:44:06.555Z"
    },
    "hidden": true
   },
   "outputs": [],
   "source": [
    "N_tot = h.Integral(1, h.binning[0])\n",
    "print N_tot\n",
    "print h.Integral()"
   ]
  },
  {
   "cell_type": "code",
   "execution_count": null,
   "metadata": {
    "ExecuteTime": {
     "end_time": "2019-10-28T22:46:10.500760Z",
     "start_time": "2019-10-28T22:44:06.557Z"
    },
    "hidden": true
   },
   "outputs": [],
   "source": [
    "mass = rt.RooRealVar('mass_mumupiK', 'm_{#mu#mu#piK}', h.binning[1], h.binning[2], 'GeV')\n",
    "\n",
    "# mean = rt.RooRealVar('mean', 'm_{B}', m_B0, 3, 7, 'GeV')\n",
    "# sigma = rt.RooRealVar('sigma', '#sigma', 0.02, 0.00005, 0.1, 'GeV') \n",
    "# pdf_sig = rt.RooGaussian('gaus','sig pdf', mass, mean, sigma)\n",
    "\n",
    "# mean = rt.RooRealVar('mean', 'm_{B}', m_B0, 3, 7, 'GeV')\n",
    "# sigma = rt.RooRealVar('sigma', '#sigma', 0.03, 0.00005, 0.1, 'GeV')\n",
    "# alpha = rt.RooRealVar('alpha', '#alpha', 2, -5, 5, 'GeV')\n",
    "# nCB = rt.RooRealVar('nCB', 'n_{CB}', 2, -10, 10, 'GeV')\n",
    "# pdf_sig = rt.RooCBShape('gaus','sig pdf', mass, mean, sigma, alpha, nCB)\n",
    "\n",
    "mean = rt.RooRealVar('mean', '#mu', m_B0, 3, 7, 'GeV')\n",
    "sigma = rt.RooRealVar('sigma', '#sigma', 0.03, 0.00005, 0.1, 'GeV')\n",
    "pAsym = rt.RooRealVar('pAsym', '#alpha', 0, -1, 1)\n",
    "rho1 = rt.RooRealVar('rho1', '#rho_{1}', 0, -10, 0)\n",
    "rho2 = rt.RooRealVar('rho2', '#rho_{2}', 0.5, 0, 10)\n",
    "pdf_sig = rt.RooBukinPdf('bukin','sig pdf', mass, mean, sigma, pAsym, rho1, rho2)\n",
    "\n",
    "\n",
    "nsig = rt.RooRealVar('nsig', 'N_{S}', 0.9*N_tot, 0, 100*N_tot)\n",
    "pdf_sig_ext = rt.RooExtendPdf('esig', 'esig', pdf_sig, nsig)"
   ]
  },
  {
   "cell_type": "code",
   "execution_count": null,
   "metadata": {
    "ExecuteTime": {
     "end_time": "2019-10-28T22:46:10.502109Z",
     "start_time": "2019-10-28T22:44:06.558Z"
    },
    "hidden": true
   },
   "outputs": [],
   "source": [
    "data = rt.RooDataHist('d', 'data', rt.RooArgList(mass), h)\n",
    "\n",
    "pdf_tot = pdf_sig_ext\n",
    "fr = pdf_tot.fitTo(data, rf.PrintLevel(-1), rf.Save())\n",
    "\n",
    "dof = h.binning[0]-fr.floatParsFinal().getSize()\n",
    "chi2 = rt.RooChi2Var(\"chi2\", 'chi2', pdf_tot, data)\n",
    "pval = rt.ROOT.Math.chisquared_cdf_c(chi2.getVal(), dof)\n",
    "print 'chi2: {:.1f}/{:.0f} {:.3f}'.format(chi2.getVal(), dof, pval)"
   ]
  },
  {
   "cell_type": "code",
   "execution_count": null,
   "metadata": {
    "ExecuteTime": {
     "end_time": "2019-10-28T22:46:10.503320Z",
     "start_time": "2019-10-28T22:44:06.560Z"
    },
    "hidden": true
   },
   "outputs": [],
   "source": [
    "frame = mass.frame(rf.Title(\"\"))\n",
    "data.plotOn(frame, rf.MarkerStyle(1), rf.DrawOption('E1'), rf.MarkerColor(h.GetLineColor()), rf.LineColor(h.GetLineColor()))\n",
    "pdf_tot.plotOn(frame, rf.LineColor(h.GetLineColor()), rf.LineWidth(2))\n",
    "\n",
    "pTxt = rt.TPaveText(h.GetBinCenter(1), 0.2*h.GetMaximum(), h.GetBinCenter(int(0.35*h.GetNbinsX())), h.GetMaximum())\n",
    "pTxt.SetBorderSize(0)\n",
    "pTxt.SetFillStyle(0)\n",
    "pTxt.SetTextAlign(11)\n",
    "pTxt.AddText('#chi^{{2}}: {:.1f}/{:.0f} ({:.2f})'.format(chi2.getVal(), dof, pval))\n",
    "pTxt.AddText('#mu = {:.1f} +/- {:.1f} MeV'.format(1e3*mean.getVal(), 1e3*mean.getError()))\n",
    "pTxt.AddText('#sigma = {:.1f} +/- {:.1f} MeV'.format(1e3*sigma.getVal(), 1e3*sigma.getError()))\n",
    "pTxt.AddText('#alpha = {:.3f} +/- {:.3f}'.format(pAsym.getVal(), pAsym.getError()))\n",
    "pTxt.AddText('#rho_{{1}} = {:.3f} +/- {:.3f}'.format(rho1.getVal(), rho1.getError()))\n",
    "pTxt.AddText('#rho_{{2}} = {:.3f} +/- {:.3f}'.format(rho2.getVal(), rho2.getError()))\n",
    "\n",
    "CMS_lumi.extraText = '     Simulation Preliminary'\n",
    "CMS_lumi.integrated_lumi = ''\n",
    "c = drawOnCMSCanvas(CMS_lumi, frame)\n",
    "cl.DrawLine(m_B0, 0, m_B0, h.GetMaximum());\n",
    "pTxt.Draw()"
   ]
  },
  {
   "cell_type": "markdown",
   "metadata": {},
   "source": [
    "# Compare"
   ]
  },
  {
   "cell_type": "markdown",
   "metadata": {},
   "source": [
    "### Closure variables"
   ]
  },
  {
   "cell_type": "code",
   "execution_count": 21,
   "metadata": {
    "ExecuteTime": {
     "end_time": "2019-10-30T00:45:51.362472Z",
     "start_time": "2019-10-30T00:45:50.021651Z"
    }
   },
   "outputs": [
    {
     "data": {
      "image/png": "[encoded data removed]",
      "text/plain": [
       "<IPython.core.display.Image object>"
      ]
     },
     "metadata": {},
     "output_type": "display_data"
    }
   ],
   "source": [
    "b=[30, 5.15, 5.4]\n",
    "hRD = create_TH1D(np.zeros(0), name='hRD',\n",
    "                title='',\n",
    "                axis_title=['m(#mu#mu#pi^{-}K^{+}) [GeV]', '1/#sigma d#sigma/dm / '+'({:.2f} GeV)'.format((b[2]-b[1])/b[0])],\n",
    "                binning=b\n",
    "               )\n",
    "treeRD_skimmed.Project('hRD', 'mass_mumupiK', 'L_nsig')\n",
    "hRD.Sumw2()\n",
    "hRD.Scale(1./hRD.Integral())\n",
    "hRD.SetMarkerStyle(15)\n",
    "\n",
    "hMC = create_TH1D(np.zeros(0), name='hMC',\n",
    "                  title = 'Pythia Hard b#bar{b}',\n",
    "                  binning=hRD.binning, opt='overflow+underflow')\n",
    "treeMC.Project('hMC', 'mass_mumupiK', analysis_cuts_str)\n",
    "hMC.Sumw2()\n",
    "hMC.Scale(1./hMC.Integral())\n",
    "hMC.SetLineColor(rt.kRed)\n",
    "    \n",
    "leg = rt.TLegend(0.7, 0.7, 0.95,0.9)\n",
    "leg.SetBorderSize(0)\n",
    "leg.AddEntry(hRD, 'Data (bkg subtracted)', 'lep')\n",
    "leg.AddEntry(hMC, 'Pythia Hard b#bar{b}', 'le')\n",
    "\n",
    "CMS_lumi.extraText = '     Preliminary'\n",
    "CMS_lumi.integrated_lumi = lumi_tot\n",
    "c = drawOnCMSCanvas(CMS_lumi, [hRD, hMC], 'same')\n",
    "leg.Draw()"
   ]
  },
  {
   "cell_type": "markdown",
   "metadata": {},
   "source": [
    "### The true B spectrum"
   ]
  },
  {
   "cell_type": "code",
   "execution_count": 30,
   "metadata": {
    "ExecuteTime": {
     "end_time": "2019-10-30T00:48:27.244280Z",
     "start_time": "2019-10-30T00:48:26.040783Z"
    }
   },
   "outputs": [
    {
     "data": {
      "text/plain": [
       "<ROOT.TLine object (\"TLine\") at 0x7fd32a76d8b0>"
      ]
     },
     "execution_count": 30,
     "metadata": {},
     "output_type": "execute_result"
    },
    {
     "data": {
      "image/png": "[encoded data removed]",
      "text/plain": [
       "<IPython.core.display.Image object>"
      ]
     },
     "metadata": {},
     "output_type": "display_data"
    }
   ],
   "source": [
    "b = [30, 9, 100.]\n",
    "hRD = create_TH1D(np.zeros(0), name='hRD',\n",
    "                title='data_{sW}',\n",
    "                axis_title=['B_{0} p_{T} (reco) [GeV]', \n",
    "                            '1/#sigma d#sigma/dp_{T} / '+'({:.2f} GeV)'.format((b[2]-b[1])/b[0])],\n",
    "                binning=b,\n",
    "                opt='overflow+underflow'\n",
    "               )\n",
    "treeRD_skimmed.Project('hRD', 'B_pt', 'nsig_sw')\n",
    "hRD.Sumw2()\n",
    "hRD.Scale(1./hRD.Integral())\n",
    "hRD.SetMarkerStyle(15)\n",
    "\n",
    "hMC = create_TH1D(np.zeros(0), name='hMC',\n",
    "                  title = 'Pythia Hard b#bar{b}',\n",
    "                  binning=hRD.binning, opt='overflow+underflow')\n",
    "treeMC.Project('hMC', 'B_mumupiK_pt', analysis_cuts_str)\n",
    "hMC.Sumw2()\n",
    "hMC.Scale(1./hMC.Integral())\n",
    "hMC.SetLineColor(rt.kRed)\n",
    "\n",
    "CMS_lumi.extraText = '      Preliminary'\n",
    "c = make_ratio_plot([hRD, hMC], ratio_bounds=[0.4, 20], draw_opt='E1')\n",
    "CMS_lumi.CMS_lumi(c, -1, 0)\n",
    "c.pad1.SetTopMargin(0.07)\n",
    "c.pad1.SetRightMargin(0.035)\n",
    "c.pad2.SetRightMargin(0.035)\n",
    "c.pad2.SetLogy()\n",
    "c.leg.SetY2(0.9)\n",
    "c.leg.SetY1(0.6)\n",
    "c.leg.SetX1(0.6)\n",
    "c.Draw()\n",
    "\n",
    "c.pad2.cd()\n",
    "ln = rt.TLine()\n",
    "ln.SetLineStyle(7)\n",
    "ln.SetLineColor(1)\n",
    "ln.DrawLine(hRD.binning[1], 1, hRD.binning[2], 1)"
   ]
  },
  {
   "cell_type": "code",
   "execution_count": 31,
   "metadata": {
    "ExecuteTime": {
     "end_time": "2019-10-30T00:48:35.130404Z",
     "start_time": "2019-10-30T00:48:35.097562Z"
    }
   },
   "outputs": [],
   "source": [
    "dic = {'pt':[], 'w':[], 'w_err':[], 'wUp':[], 'wDown':[]}\n",
    "\n",
    "def f_arb(x, value_at_beg):\n",
    "    center = 0.5*(hRD.binning[2] + hRD.binning[1])\n",
    "    k = (value_at_beg-1)/(hRD.binning[1] -  center)\n",
    "    return k*(x - center)+1\n",
    "\n",
    "fout = open('../data/calibration/B02JPsiKst_pt.txt', 'w')\n",
    "fout.write('#'+'\\t'.join(['pt','w', 'w_err', 'wUp', 'wDown'])+'\\n')\n",
    "for ib in range(1, hRD.GetNbinsX()+1):\n",
    "    n = max(0, hRD.GetBinContent(ib))\n",
    "    d = hMC.GetBinContent(ib)\n",
    "    en = 0.\n",
    "    ed = 0.\n",
    "    if n > 0: en = hRD.GetBinError(ib)/n\n",
    "    if d > 0: ed = hMC.GetBinError(ib)/d\n",
    "    r = n/d\n",
    "    dic['w'].append(r)\n",
    "    if en != 0 and ed != 0:\n",
    "        dr = r*np.hypot(en, ed)\n",
    "    elif en == 0:\n",
    "        dr = 0.5\n",
    "    dic['w_err'].append(dr)\n",
    "    pt = hRD.GetBinCenter(ib)\n",
    "    dic['pt'].append(pt)\n",
    "    \n",
    "    dic['wUp'].append(r * f_arb(pt, 0.5))\n",
    "    dic['wDown'].append(r * f_arb(pt, 1.5))\n",
    "    \n",
    "    fout.write('\\t'.join(map(lambda x: '{:.3f}'.format(x), [pt, r, dr, r * f_arb(pt, 0.), r * f_arb(pt, 2.)]))+'\\n')\n",
    "fout.close()"
   ]
  },
  {
   "cell_type": "code",
   "execution_count": 32,
   "metadata": {
    "ExecuteTime": {
     "end_time": "2019-10-30T00:48:36.046245Z",
     "start_time": "2019-10-30T00:48:35.593902Z"
    }
   },
   "outputs": [
    {
     "data": {
      "text/plain": [
       "Text(0,0.5,u'MC weight')"
      ]
     },
     "execution_count": 32,
     "metadata": {},
     "output_type": "execute_result"
    },
    {
     "data": {
      "image/png": "[encoded data removed]",
      "text/plain": [
       "<matplotlib.figure.Figure at 0x125246910>"
      ]
     },
     "metadata": {
      "needs_background": "light"
     },
     "output_type": "display_data"
    }
   ],
   "source": [
    "f = plt.figure(figsize=(8,6))\n",
    "plt.errorbar(dic['pt'], dic['w'], yerr=dic['w_err'], fmt='.', label='Ratio')\n",
    "plt.plot(dic['pt'], dic['wUp'], '.--', label='Up')\n",
    "plt.plot(dic['pt'], dic['wDown'], '.--', label='Down')\n",
    "plt.legend(loc='best')\n",
    "plt.xlabel('$B_0\\ p_T$ [GeV]')\n",
    "plt.ylabel('MC weight')"
   ]
  },
  {
   "cell_type": "code",
   "execution_count": 33,
   "metadata": {
    "ExecuteTime": {
     "end_time": "2019-10-30T00:48:39.446994Z",
     "start_time": "2019-10-30T00:48:39.324973Z"
    }
   },
   "outputs": [
    {
     "data": {
      "image/png": "[encoded data removed]",
      "text/plain": [
       "<IPython.core.display.Image object>"
      ]
     },
     "metadata": {},
     "output_type": "display_data"
    }
   ],
   "source": [
    "h_var = {}\n",
    "colors = [5,6,8]\n",
    "for k in ['central', 'up', 'down']:\n",
    "    h_var[k] = hMC.Clone('hMC_'+k)\n",
    "    h_var[k].SetTitle(k)\n",
    "    h_var[k].SetLineColor(colors[0])\n",
    "    h_var[k].SetMarkerColor(colors[0])\n",
    "    h_var[k].SetMarkerStyle(rt.kCircle)\n",
    "    colors.pop(0)\n",
    "    \n",
    "for ib in range(1, hRD.binning[0]+1):\n",
    "    x = hRD.GetBinCenter(ib)\n",
    "    y = hMC.GetBinContent(ib)\n",
    "    y_err = hMC.GetBinError(ib)\n",
    "    h_var['central'].SetBinContent(ib, y*dic['w'][ib-1])\n",
    "    h_var['central'].SetBinError(ib, y_err*dic['w'][ib-1])\n",
    "    h_var['up'].SetBinContent(ib, y*dic['wUp'][ib-1])\n",
    "    h_var['up'].SetBinError(ib, y_err*dic['wUp'][ib-1])\n",
    "    h_var['down'].SetBinContent(ib, y*dic['wDown'][ib-1])    \n",
    "    h_var['down'].SetBinError(ib, y_err*dic['wDown'][ib-1])\n",
    "for h in h_var.values():\n",
    "    h.Scale(1./h.Integral())\n",
    "    \n",
    "gr_stat = rt.TGraphAsymmErrors()\n",
    "gr_sys = rt.TGraphAsymmErrors()\n",
    "for ib in range(1, hRD.binning[0]+1):\n",
    "    x = hRD.GetBinCenter(ib)\n",
    "    y = h_var['central'].GetBinContent(ib)\n",
    "    gr_stat.SetPoint(ib-1, x, y)\n",
    "    dx = 0.5*hMC.GetBinWidth(ib)\n",
    "    dy = h_var['central'].GetBinError(ib)\n",
    "    gr_stat.SetPointError(ib-1, dx, dx, dy, dy)\n",
    "    \n",
    "    dy_low = max(y-h_var['up'].GetBinContent(ib), y-h_var['down'].GetBinContent(ib))\n",
    "    dy_up = max(h_var['up'].GetBinContent(ib)-y, h_var['down'].GetBinContent(ib)-y)\n",
    "    gr_sys.SetPoint(ib-1, x, y)\n",
    "    gr_sys.SetPointError(ib-1, dx, dx, dy_low, dy_up)\n",
    "gr_stat.SetLineColor(6)\n",
    "gr_stat.SetMarkerColor(6)\n",
    "gr_sys.SetFillColor(6)\n",
    "gr_sys.SetFillStyle(3005)\n",
    "gr_sys.SetLineWidth(0)\n",
    "    \n",
    "\n",
    "leg = rt.TLegend(0.7, 0.7, 0.95,0.9)\n",
    "leg.SetBorderSize(0)\n",
    "leg.AddEntry(hRD, hRD.GetTitle(), 'lep')\n",
    "leg.AddEntry(hMC, hMC.GetTitle(), 'le')\n",
    "leg.AddEntry(gr_stat, 'Pythia reweighted', 'lep')\n",
    "leg.AddEntry(gr_sys, 'Weight systematics', 'f')\n",
    "\n",
    "hRD.GetYaxis().SetRangeUser(0, .15)\n",
    "c = drawOnCMSCanvas(CMS_lumi, [hRD, hMC, gr_stat, gr_sys], ['', 'same', 'p', '4'])\n",
    "leg.Draw()"
   ]
  }
 ],
 "metadata": {
  "kernelspec": {
   "display_name": "Python 2",
   "language": "python",
   "name": "python2"
  },
  "language_info": {
   "codemirror_mode": {
    "name": "ipython",
    "version": 2
   },
   "file_extension": ".py",
   "mimetype": "text/x-python",
   "name": "python",
   "nbconvert_exporter": "python",
   "pygments_lexer": "ipython2",
   "version": "2.7.14"
  }
 },
 "nbformat": 4,
 "nbformat_minor": 2
}
