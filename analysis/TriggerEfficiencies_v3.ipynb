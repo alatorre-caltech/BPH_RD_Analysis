{
 "cells": [
  {
   "cell_type": "code",
   "execution_count": 1,
   "metadata": {
    "ExecuteTime": {
     "end_time": "2020-06-19T02:40:21.725056Z",
     "start_time": "2020-06-19T02:40:21.718196Z"
    }
   },
   "outputs": [],
   "source": [
    "version = 'v3'"
   ]
  },
  {
   "cell_type": "markdown",
   "metadata": {},
   "source": [
    "### Imports"
   ]
  },
  {
   "cell_type": "code",
   "execution_count": 2,
   "metadata": {
    "ExecuteTime": {
     "end_time": "2020-06-19T02:40:28.959777Z",
     "start_time": "2020-06-19T02:40:21.733648Z"
    }
   },
   "outputs": [
    {
     "name": "stdout",
     "output_type": "stream",
     "text": [
      "Welcome to JupyROOT 6.12/07\n"
     ]
    }
   ],
   "source": [
    "import numpy as np\n",
    "import pandas as pd\n",
    "import scipy.stats as sps\n",
    "from glob import glob\n",
    "import pickle, re\n",
    "import time\n",
    "from array import array\n",
    "from scipy.interpolate import interp1d\n",
    "import multiprocessing\n",
    "import matplotlib.pyplot as plt\n",
    "import uproot as ur\n",
    "import ROOT as rt\n",
    "import root_numpy as rtnp\n",
    "import ROOT.RooFit as rf\n",
    "from scipy.special import erf\n",
    "import sys, os\n",
    "import itertools\n",
    "sys.path.append('../lib')\n",
    "if os.environ['CMSSW_VERSION'] != 'CMSSW_10_2_3':\n",
    "    raise\n",
    "from histo_utilities import create_TH1D, create_TH2D, std_color_list, SetMaxToMaxHist, make_ratio_plot\n",
    "from cebefo_style import Set_2D_colz_graphics\n",
    "from progressBar import ProgressBar\n",
    "\n",
    "from analysis_utilities import drawOnCMSCanvas, extarct, extarct_multiple, createSel\n",
    "from lumi_utilities import getLumiByTrigger\n",
    "\n",
    "import CMS_lumi, tdrstyle\n",
    "tdrstyle.setTDRStyle()\n",
    "CMS_lumi.writeExtraText = 1\n",
    "CMS_lumi.extraText = \"     Internal\"\n",
    "\n",
    "donotdelete = []"
   ]
  },
  {
   "cell_type": "code",
   "execution_count": 3,
   "metadata": {
    "ExecuteTime": {
     "end_time": "2020-06-19T02:40:29.040403Z",
     "start_time": "2020-06-19T02:40:28.964070Z"
    }
   },
   "outputs": [],
   "source": [
    "rt.gErrorIgnoreLevel = rt.kError\n",
    "rt.RooMsgService.instance().setGlobalKillBelow(rt.RooFit.ERROR)"
   ]
  },
  {
   "cell_type": "code",
   "execution_count": 4,
   "metadata": {
    "ExecuteTime": {
     "end_time": "2020-06-19T02:40:29.115128Z",
     "start_time": "2020-06-19T02:40:29.045154Z"
    }
   },
   "outputs": [],
   "source": [
    "cl = rt.TLine()\n",
    "cl.SetLineColor(6)\n",
    "cl.SetLineStyle(9)\n",
    "cl.SetLineWidth(2)"
   ]
  },
  {
   "cell_type": "code",
   "execution_count": 5,
   "metadata": {
    "ExecuteTime": {
     "end_time": "2020-06-19T02:40:29.165306Z",
     "start_time": "2020-06-19T02:40:29.119465Z"
    }
   },
   "outputs": [],
   "source": [
    "colors = [rt.kBlack, rt.kAzure+1, rt.kRed-4, rt.kGreen+1, rt.kViolet-7]"
   ]
  },
  {
   "cell_type": "markdown",
   "metadata": {},
   "source": [
    "# Load data"
   ]
  },
  {
   "cell_type": "code",
   "execution_count": 6,
   "metadata": {
    "ExecuteTime": {
     "end_time": "2020-06-19T02:40:29.194421Z",
     "start_time": "2020-06-19T02:40:29.169510Z"
    }
   },
   "outputs": [],
   "source": [
    "branchesToLoad = ['mProbe_pt', 'mProbe_eta', 'mProbe_sigdxy',\n",
    "                  'mProbe_HLT_Mu7_IP4', 'mProbe_HLT_Mu9_IP6', 'mProbe_HLT_Mu12_IP6',\n",
    "                  'prescaleMu7_IP4', 'prescaleMu9_IP6', 'prescaleMu12_IP6', \n",
    "                 ]"
   ]
  },
  {
   "cell_type": "code",
   "execution_count": 7,
   "metadata": {
    "ExecuteTime": {
     "end_time": "2020-06-19T02:40:29.226564Z",
     "start_time": "2020-06-19T02:40:29.198760Z"
    }
   },
   "outputs": [],
   "source": [
    "def loadDF(loc):\n",
    "    dfL = []\n",
    "    for l in loc: \n",
    "        print l\n",
    "        dfL.append(pd.DataFrame(rtnp.root2array(l, branches=branchesToLoad)))\n",
    "    if len(dfL) == 1:\n",
    "        return dfL[0]\n",
    "    else:\n",
    "        return pd.concat(dfL)"
   ]
  },
  {
   "cell_type": "code",
   "execution_count": 8,
   "metadata": {
    "ExecuteTime": {
     "end_time": "2020-06-19T02:42:01.201291Z",
     "start_time": "2020-06-19T02:40:29.230806Z"
    }
   },
   "outputs": [
    {
     "name": "stdout",
     "output_type": "stream",
     "text": [
      "../data/cmsRD/ParkingBPH1/Run2018D-05May2019promptD-v1_RDntuplizer_TagAndProbeTrigger_200607_CAND.root\n",
      "Data probe muons: 157508806\n"
     ]
    }
   ],
   "source": [
    "dataDir = '../data/cmsRD'\n",
    "# RDdsLoc = glob(dataDir + '/ParkingBPH*/Run2018D-05May2019promptD-v1_RDntuplizer_TagAndProbeTrigger_200607_CAND.root')\n",
    "RDdsLoc = glob(dataDir + '/ParkingBPH1/Run2018D-05May2019promptD-v1_RDntuplizer_TagAndProbeTrigger_200607_CAND.root')\n",
    "dfRD = loadDF(RDdsLoc)\n",
    "print 'Data probe muons:', dfRD.shape[0]"
   ]
  },
  {
   "cell_type": "code",
   "execution_count": 9,
   "metadata": {
    "ExecuteTime": {
     "end_time": "2020-06-19T02:42:05.122533Z",
     "start_time": "2020-06-19T02:42:01.206484Z"
    }
   },
   "outputs": [
    {
     "name": "stdout",
     "output_type": "stream",
     "text": [
      "../data/cmsMC_private/BP_Tag-Probe_B0_JpsiKst_Hardbbbar_evtgen_HELAMP_PUc0_10-2-3/ntuples_TagAndProbe/merged/out_CAND.root\n",
      "MC probe muons: 6348206\n"
     ]
    }
   ],
   "source": [
    "mcDir = '../data/cmsMC_private/BP_Tag-Probe_B0_JpsiKst_Hardbbbar_evtgen_HELAMP_PUc0_10-2-3'\n",
    "MCdsLoc = glob(mcDir + '/ntuples_TagAndProbe/merged/out_CAND.root')\n",
    "dfMC = loadDF(MCdsLoc)\n",
    "print 'MC probe muons:', dfMC.shape[0]"
   ]
  },
  {
   "cell_type": "markdown",
   "metadata": {},
   "source": [
    "Explore kinematic distribution to choose a binning"
   ]
  },
  {
   "cell_type": "code",
   "execution_count": 10,
   "metadata": {
    "ExecuteTime": {
     "end_time": "2020-06-19T02:42:05.156320Z",
     "start_time": "2020-06-19T02:42:05.127677Z"
    }
   },
   "outputs": [],
   "source": [
    "def plot(var, binning, xtitle, logx=False, logy=False):\n",
    "    h_list = []\n",
    "    h = create_TH1D(dfRD[var], name='h',\n",
    "                    title='Data',\n",
    "                    axis_title=[xtitle, 'Normalized Events'],\n",
    "                    binning=binning\n",
    "                   )\n",
    "    h_list.append(h)\n",
    "\n",
    "    h = create_TH1D(dfMC[var], name='h2', title='MC PUc0', binning=h_list[0].binning)\n",
    "    h_list.append(h)\n",
    "\n",
    "    leg = rt.TLegend(0.77, 0.75, 0.95, 0.93)\n",
    "    leg.SetBorderSize(0)\n",
    "    for i, h in enumerate(h_list):\n",
    "        h.SetLineColor(colors[i])\n",
    "        h.SetMarkerColor(colors[i])\n",
    "        h.Sumw2()\n",
    "        h.Scale(1./h.Integral())\n",
    "        leg.AddEntry(h, h.GetTitle(), 'lep')\n",
    "    m = SetMaxToMaxHist(h_list)\n",
    "    h_list[0].SetTitle('')\n",
    "\n",
    "    c = drawOnCMSCanvas(CMS_lumi, h_list, 'same')\n",
    "    leg.Draw()\n",
    "    c.Draw()\n",
    "    if logy:\n",
    "        c.SetLogy()\n",
    "    if logx:\n",
    "        c.SetLogx()\n",
    "    return [c, leg, h_list]"
   ]
  },
  {
   "cell_type": "code",
   "execution_count": 11,
   "metadata": {
    "ExecuteTime": {
     "end_time": "2020-06-19T02:42:14.306331Z",
     "start_time": "2020-06-19T02:42:05.160626Z"
    }
   },
   "outputs": [
    {
     "data": {
      "image/png": "[encoded data removed]",
      "text/plain": [
       "<IPython.core.display.Image object>"
      ]
     },
     "metadata": {},
     "output_type": "display_data"
    }
   ],
   "source": [
    "plot('mProbe_pt', np.linspace(start=6, stop=30, num=50), 'Probe #mu p_{T} [GeV]', logx=False, logy=False);"
   ]
  },
  {
   "cell_type": "code",
   "execution_count": 12,
   "metadata": {
    "ExecuteTime": {
     "end_time": "2020-06-19T02:42:23.560748Z",
     "start_time": "2020-06-19T02:42:14.311400Z"
    }
   },
   "outputs": [
    {
     "data": {
      "image/png": "[encoded data removed]",
      "text/plain": [
       "<IPython.core.display.Image object>"
      ]
     },
     "metadata": {},
     "output_type": "display_data"
    }
   ],
   "source": [
    "plot('mProbe_sigdxy', np.logspace(start=-1, stop=3, num=50), 'Probe #mu d_{xy}/#sigma_{d_{xy}}', logx=True, logy=False);"
   ]
  },
  {
   "cell_type": "code",
   "execution_count": 13,
   "metadata": {
    "ExecuteTime": {
     "end_time": "2020-06-19T02:42:34.539353Z",
     "start_time": "2020-06-19T02:42:23.565622Z"
    }
   },
   "outputs": [
    {
     "data": {
      "image/png": "[encoded data removed]",
      "text/plain": [
       "<IPython.core.display.Image object>"
      ]
     },
     "metadata": {},
     "output_type": "display_data"
    }
   ],
   "source": [
    "plot('mProbe_eta', np.linspace(start=-2, stop=2, num=100), 'Probe #mu #eta', logx=False, logy=False);"
   ]
  },
  {
   "cell_type": "markdown",
   "metadata": {},
   "source": [
    "# Efficiency functions"
   ]
  },
  {
   "cell_type": "code",
   "execution_count": 15,
   "metadata": {
    "ExecuteTime": {
     "end_time": "2020-06-19T02:44:45.398571Z",
     "start_time": "2020-06-19T02:44:45.356415Z"
    }
   },
   "outputs": [],
   "source": [
    "def analyzeBin(idx, reloadDf=False, verbose=False):\n",
    "    df = dfToUse\n",
    "    print idx, 'started'\n",
    "    if reloadDf:\n",
    "        raise\n",
    "    psCut = []\n",
    "    lim = {}\n",
    "    selTot = None\n",
    "    st = time.time()\n",
    "    for n, i in idx.iteritems():\n",
    "        lim[n] = [binning[n][i], binning[n][i+1]]\n",
    "        if n=='eta':\n",
    "            aux = np.abs(df['mProbe_'+n])\n",
    "            sel = np.logical_and(aux > lim[n][0], aux < lim[n][1])\n",
    "        else:\n",
    "            sel = np.logical_and(df['mProbe_'+n] > lim[n][0], df['mProbe_'+n] < lim[n][1])\n",
    "        if selTot is None:\n",
    "            selTot = sel\n",
    "        else:\n",
    "            selTot = np.logical_and(sel, selTot)\n",
    "    selTot = np.logical_and(selTot, df['prescale'+probeTrigger[4:]] > 0)\n",
    "\n",
    "    if verbose: \n",
    "        print ' --- Total ---'\n",
    "    st = time.time()\n",
    "    nSigTot = np.sum(selTot)\n",
    "    if verbose: \n",
    "        print 'Time: {:.1f} s'.format(time.time()-st)\n",
    "        print ' --- Passed ---'\n",
    "    st = time.time()\n",
    "    selTot = np.logical_and(selTot, df['mProbe_' + probeTrigger] == 1)\n",
    "    nSigPass = np.sum(selTot)\n",
    "    \n",
    "    if verbose: \n",
    "        print 'Time: {:.1f} s'.format(time.time()-st)\n",
    "    print idx, 'done'\n",
    "    return idx, nSigTot, nSigPass"
   ]
  },
  {
   "cell_type": "markdown",
   "metadata": {},
   "source": [
    "# Run the fit in each bin"
   ]
  },
  {
   "cell_type": "code",
   "execution_count": 25,
   "metadata": {
    "ExecuteTime": {
     "end_time": "2020-06-19T02:45:49.643114Z",
     "start_time": "2020-06-19T02:45:49.628311Z"
    }
   },
   "outputs": [],
   "source": [
    "dataset = 'RD'\n",
    "if dataset == 'RD':\n",
    "    CMS_lumi.extraText = \"     Internal\"\n",
    "    dfToUse = dfRD\n",
    "elif dataset == 'MC':\n",
    "    CMS_lumi.extraText = \"     Simulation Internal\"\n",
    "    dfToUse = dfMC"
   ]
  },
  {
   "cell_type": "code",
   "execution_count": 26,
   "metadata": {
    "ExecuteTime": {
     "end_time": "2020-06-19T02:45:51.140885Z",
     "start_time": "2020-06-19T02:45:51.126528Z"
    }
   },
   "outputs": [],
   "source": [
    "probeTrigger = 'HLT_Mu7_IP4'\n",
    "binning = {'pt': array('d', [5.5, 6.5, 7, 7.3, 7.6, 8, 9, 12, 25]),\n",
    "           'eta': array('d', [0, 0.4, 0.8, 1.5]),\n",
    "           'sigdxy': array('d', [3, 4, 4.5, 6, 10, 200])\n",
    "          }\n",
    "\n",
    "# probeTrigger = 'HLT_Mu9_IP6'\n",
    "# binning = {'pt': array('d', [8, 8.5, 9, 10, 11, 12, 20]),\n",
    "#            'eta': array('d', [0, 0.4, 0.8, 1.5]),\n",
    "#            'sigdxy': array('d', [3, 6, 7, 10, 200])\n",
    "#           }\n",
    "\n",
    "# probeTrigger = 'HLT_Mu12_IP6'\n",
    "# binning = {'pt': array('d', [10, 11, 12, 13, 15, 20, 30, 50, 200]),\n",
    "#            'eta': array('d', [0, 0.4, 0.8, 1.5]),\n",
    "#            'sigdxy': array('d', [3, 6, 7, 10, 200])\n",
    "#           }"
   ]
  },
  {
   "cell_type": "code",
   "execution_count": 27,
   "metadata": {
    "ExecuteTime": {
     "end_time": "2020-06-19T02:45:52.564233Z",
     "start_time": "2020-06-19T02:45:52.549739Z"
    }
   },
   "outputs": [],
   "source": [
    "h2 = {}\n",
    "for var, cat in itertools.product(['N', 'Chi2'], ['tot', 'pass']):\n",
    "    h2[var+cat] = rt.TH3D('h2'+var+cat, '', \n",
    "                          len(binning['pt'])-1, binning['pt'], \n",
    "                          len(binning['sigdxy'])-1, binning['sigdxy'], \n",
    "                          len(binning['eta'])-1, binning['eta'],)"
   ]
  },
  {
   "cell_type": "code",
   "execution_count": 28,
   "metadata": {
    "ExecuteTime": {
     "end_time": "2020-06-19T02:46:02.795899Z",
     "start_time": "2020-06-19T02:45:53.900639Z"
    }
   },
   "outputs": [
    {
     "name": "stdout",
     "output_type": "stream",
     "text": [
      "{'eta': 0, 'sigdxy': 2, 'pt': 2} started\n",
      " --- Total ---\n",
      "Time: 2.5 s\n",
      " --- Passed ---\n",
      "Time: 3.0 s\n",
      "{'eta': 0, 'sigdxy': 2, 'pt': 2} done\n",
      "({'eta': 0, 'sigdxy': 2, 'pt': 2}, 108702, 97705)\n",
      "Total time: 0.1 mins\n"
     ]
    }
   ],
   "source": [
    "start = time.time()\n",
    "testOutput = analyzeBin({'pt': 2, 'sigdxy':2, 'eta':0}, verbose=True)\n",
    "print testOutput\n",
    "print 'Total time: {:.1f} mins'.format((time.time() - start)/60.)"
   ]
  },
  {
   "cell_type": "code",
   "execution_count": 29,
   "metadata": {
    "ExecuteTime": {
     "end_time": "2020-06-19T02:46:04.346542Z",
     "start_time": "2020-06-19T02:46:04.327795Z"
    }
   },
   "outputs": [
    {
     "name": "stdout",
     "output_type": "stream",
     "text": [
      "Total bins: 120\n"
     ]
    }
   ],
   "source": [
    "inputs = []\n",
    "for ipt in range(len(binning['pt'])-1):\n",
    "    for iip in range(len(binning['sigdxy'])-1):\n",
    "        for ieta in range(len(binning['eta'])-1):\n",
    "            idx = {'pt': ipt, 'sigdxy':iip, 'eta': ieta}\n",
    "            inputs.append(idx)\n",
    "print 'Total bins:', len(inputs)"
   ]
  },
  {
   "cell_type": "code",
   "execution_count": 30,
   "metadata": {
    "ExecuteTime": {
     "end_time": "2020-06-19T02:47:29.122076Z",
     "start_time": "2020-06-19T02:46:05.958448Z"
    },
    "scrolled": true
   },
   "outputs": [
    {
     "name": "stdout",
     "output_type": "stream",
     "text": [
      "Parallelization factor: 26\n",
      "{'eta': 0, 'pt': 0, 'sigdxy': 0} started\n",
      "{'eta': 0, 'pt': 0, 'sigdxy': 2} started\n",
      "{'eta': 1, 'pt': 0, 'sigdxy': 1} started\n",
      "{'eta': 2, 'pt': 0, 'sigdxy': 2} started\n",
      "{'eta': 2, 'pt': 0, 'sigdxy': 4} started\n",
      "{'eta': 1, 'pt': 1, 'sigdxy': 0} started\n",
      "{'eta': 2, 'pt': 1, 'sigdxy': 1} started\n",
      "{'eta': 1, 'pt': 0, 'sigdxy': 3} started\n",
      "{'eta': 0, 'pt': 1, 'sigdxy': 1} started\n",
      "{'eta': 2, 'pt': 0, 'sigdxy': 0} started\n",
      "{'eta': 0, 'pt': 0, 'sigdxy': 4} started\n",
      "{'eta': 2, 'pt': 1, 'sigdxy': 3} started\n",
      "{'eta': 1, 'pt': 1, 'sigdxy': 2} started\n",
      "{'eta': 0, 'pt': 1, 'sigdxy': 3} started\n",
      "{'eta': 1, 'pt': 1, 'sigdxy': 4} started\n",
      "{'eta': 0, 'pt': 2, 'sigdxy': 0} started\n",
      "{'eta': 2, 'pt': 2, 'sigdxy': 0} started\n",
      "{'eta': 0, 'pt': 2, 'sigdxy': 2} started\n",
      "{'eta': 1, 'pt': 2, 'sigdxy': 1} started\n",
      "{'eta': 2, 'pt': 2, 'sigdxy': 2} started\n",
      "{'eta': 0, 'pt': 3, 'sigdxy': 1} started\n",
      "{'eta': 0, 'pt': 2, 'sigdxy': 4} started\n",
      "{'eta': 1, 'pt': 3, 'sigdxy': 0} started\n",
      "{'eta': 1, 'pt': 2, 'sigdxy': 3} started\n",
      "{'eta': 2, 'pt': 2, 'sigdxy': 4} started\n",
      "{'eta': 2, 'pt': 3, 'sigdxy': 1} started\n",
      "{'eta': 0, 'pt': 2, 'sigdxy': 0} done\n",
      "{'eta': 1, 'pt': 2, 'sigdxy': 0} started\n",
      "{'eta': 2, 'pt': 2, 'sigdxy': 0} done\n",
      "{'eta': 0, 'pt': 2, 'sigdxy': 1} started\n",
      "{'eta': 2, 'pt': 0, 'sigdxy': 2} done\n",
      "{'eta': 1, 'pt': 0, 'sigdxy': 1} done\n",
      "{'eta': 0, 'pt': 0, 'sigdxy': 3} started\n",
      "{'eta': 0, 'pt': 1, 'sigdxy': 3} done\n",
      "{'eta': 2, 'pt': 3, 'sigdxy': 1} done\n",
      "{'eta': 1, 'pt': 1, 'sigdxy': 0} done\n",
      "{'eta': 0, 'pt': 0, 'sigdxy': 2} done\n",
      "{'eta': 1, 'pt': 2, 'sigdxy': 1} done\n",
      "{'eta': 2, 'pt': 0, 'sigdxy': 1} started\n",
      "{'eta': 1, 'pt': 1, 'sigdxy': 3} started\n",
      "{'eta': 2, 'pt': 1, 'sigdxy': 3} done\n",
      "{'eta': 1, 'pt': 0, 'sigdxy': 2} started\n",
      "{'eta': 0, 'pt': 3, 'sigdxy': 1} done\n",
      "{'eta': 0, 'pt': 3, 'sigdxy': 2} started\n",
      "{'eta': 2, 'pt': 2, 'sigdxy': 1} started\n",
      "{'eta': 2, 'pt': 1, 'sigdxy': 0} started\n",
      "{'eta': 0, 'pt': 0, 'sigdxy': 4} done\n",
      "{'eta': 1, 'pt': 3, 'sigdxy': 1} started\n",
      "{'eta': 0, 'pt': 1, 'sigdxy': 4} started\n",
      "{'eta': 1, 'pt': 3, 'sigdxy': 0} done\n",
      "{'eta': 1, 'pt': 1, 'sigdxy': 4} done\n",
      "{'eta': 2, 'pt': 0, 'sigdxy': 0} done\n",
      "{'eta': 1, 'pt': 1, 'sigdxy': 2} done\n",
      "{'eta': 2, 'pt': 1, 'sigdxy': 1} done\n",
      "{'eta': 1, 'pt': 0, 'sigdxy': 3} done\n",
      "{'eta': 0, 'pt': 1, 'sigdxy': 1} done\n",
      "{'eta': 1, 'pt': 0, 'sigdxy': 4} started\n",
      "{'eta': 2, 'pt': 2, 'sigdxy': 2} done\n",
      "{'eta': 0, 'pt': 2, 'sigdxy': 2} done\n",
      "{'eta': 2, 'pt': 1, 'sigdxy': 2} started\n",
      "{'eta': 2, 'pt': 0, 'sigdxy': 3} started\n",
      "{'eta': 0, 'pt': 1, 'sigdxy': 2} started\n",
      "{'eta': 2, 'pt': 3, 'sigdxy': 0} started\n",
      "{'eta': 2, 'pt': 1, 'sigdxy': 4} started\n",
      "{'eta': 0, 'pt': 0, 'sigdxy': 1} started\n",
      "{'eta': 1, 'pt': 1, 'sigdxy': 1} started\n",
      "{'eta': 0, 'pt': 2, 'sigdxy': 3} started\n",
      "{'eta': 1, 'pt': 2, 'sigdxy': 2} started\n",
      "{'eta': 0, 'pt': 2, 'sigdxy': 4} done\n",
      "{'eta': 0, 'pt': 0, 'sigdxy': 0} done\n",
      "{'eta': 1, 'pt': 2, 'sigdxy': 4} started\n",
      "{'eta': 1, 'pt': 0, 'sigdxy': 0} started\n",
      "{'eta': 2, 'pt': 2, 'sigdxy': 4} done\n",
      "{'eta': 2, 'pt': 0, 'sigdxy': 4} done\n",
      "{'eta': 0, 'pt': 3, 'sigdxy': 0} started\n",
      "{'eta': 0, 'pt': 1, 'sigdxy': 0} started\n",
      "{'eta': 1, 'pt': 2, 'sigdxy': 3} done\n",
      "{'eta': 2, 'pt': 2, 'sigdxy': 3} started\n",
      "{'eta': 1, 'pt': 2, 'sigdxy': 0} done\n",
      "{'eta': 0, 'pt': 0, 'sigdxy': 3} done\n",
      "{'eta': 1, 'pt': 3, 'sigdxy': 2} started\n",
      "{'eta': 0, 'pt': 2, 'sigdxy': 1} done\n",
      "{'eta': 0, 'pt': 3, 'sigdxy': 3} started\n",
      "{'eta': 1, 'pt': 3, 'sigdxy': 1} done\n",
      "{'eta': 2, 'pt': 3, 'sigdxy': 3} started\n",
      "{'eta': 1, 'pt': 3, 'sigdxy': 4} started\n",
      "{'eta': 2, 'pt': 1, 'sigdxy': 0} done\n",
      "{'eta': 0, 'pt': 3, 'sigdxy': 2} done\n",
      "{'eta': 1, 'pt': 2, 'sigdxy': 2} done\n",
      "{'eta': 0, 'pt': 4, 'sigdxy': 0} started\n",
      "{'eta': 2, 'pt': 3, 'sigdxy': 0} done\n",
      "{'eta': 2, 'pt': 4, 'sigdxy': 0} started\n",
      "{'eta': 1, 'pt': 4, 'sigdxy': 1} started\n",
      "{'eta': 0, 'pt': 4, 'sigdxy': 2} started\n",
      "{'eta': 0, 'pt': 0, 'sigdxy': 1} done\n",
      "{'eta': 1, 'pt': 0, 'sigdxy': 2} done\n",
      "{'eta': 2, 'pt': 0, 'sigdxy': 1} done\n",
      "{'eta': 2, 'pt': 4, 'sigdxy': 2} started\n",
      "{'eta': 2, 'pt': 2, 'sigdxy': 1} done\n",
      "{'eta': 1, 'pt': 4, 'sigdxy': 3} started\n",
      "{'eta': 2, 'pt': 0, 'sigdxy': 3} done\n",
      "{'eta': 0, 'pt': 4, 'sigdxy': 4} started\n",
      "{'eta': 2, 'pt': 4, 'sigdxy': 4} started\n",
      "{'eta': 1, 'pt': 5, 'sigdxy': 0} started\n",
      "{'eta': 0, 'pt': 1, 'sigdxy': 4} done\n",
      "{'eta': 1, 'pt': 1, 'sigdxy': 3} done\n",
      "{'eta': 1, 'pt': 0, 'sigdxy': 4} done\n",
      "{'eta': 2, 'pt': 1, 'sigdxy': 4} done\n",
      "{'eta': 0, 'pt': 2, 'sigdxy': 3} done\n",
      "{'eta': 0, 'pt': 5, 'sigdxy': 1} started\n",
      "{'eta': 2, 'pt': 5, 'sigdxy': 1} started\n",
      "{'eta': 1, 'pt': 5, 'sigdxy': 2} started\n",
      "{'eta': 0, 'pt': 5, 'sigdxy': 3} started\n",
      "{'eta': 2, 'pt': 5, 'sigdxy': 3} started\n",
      "{'eta': 0, 'pt': 1, 'sigdxy': 2} done\n",
      "{'eta': 1, 'pt': 5, 'sigdxy': 4} started\n",
      "{'eta': 1, 'pt': 2, 'sigdxy': 4} done\n",
      "{'eta': 1, 'pt': 1, 'sigdxy': 1} done\n",
      "{'eta': 0, 'pt': 6, 'sigdxy': 0} started\n",
      "{'eta': 2, 'pt': 6, 'sigdxy': 0} started\n",
      "{'eta': 2, 'pt': 1, 'sigdxy': 2} done\n",
      "{'eta': 1, 'pt': 6, 'sigdxy': 1} started\n",
      "{'eta': 0, 'pt': 3, 'sigdxy': 0} done\n",
      "{'eta': 0, 'pt': 1, 'sigdxy': 0} done\n",
      "{'eta': 0, 'pt': 6, 'sigdxy': 2} started\n",
      "{'eta': 1, 'pt': 0, 'sigdxy': 0} done\n",
      "{'eta': 2, 'pt': 6, 'sigdxy': 2} started\n",
      "{'eta': 1, 'pt': 6, 'sigdxy': 3} started\n",
      "{'eta': 0, 'pt': 3, 'sigdxy': 3} done\n",
      "{'eta': 1, 'pt': 3, 'sigdxy': 3} started\n",
      "{'eta': 0, 'pt': 4, 'sigdxy': 0} done\n",
      "{'eta': 1, 'pt': 4, 'sigdxy': 0} started\n",
      "{'eta': 2, 'pt': 4, 'sigdxy': 0} done\n",
      "{'eta': 1, 'pt': 4, 'sigdxy': 1} done\n",
      "{'eta': 0, 'pt': 4, 'sigdxy': 1} started\n",
      "{'eta': 2, 'pt': 4, 'sigdxy': 1} started\n",
      "{'eta': 2, 'pt': 2, 'sigdxy': 3} done\n",
      "{'eta': 2, 'pt': 3, 'sigdxy': 3} done\n",
      "{'eta': 0, 'pt': 6, 'sigdxy': 4} started\n",
      "{'eta': 0, 'pt': 3, 'sigdxy': 4} started\n",
      "{'eta': 1, 'pt': 3, 'sigdxy': 4} done\n",
      "{'eta': 2, 'pt': 3, 'sigdxy': 4} started\n",
      "{'eta': 2, 'pt': 4, 'sigdxy': 4} done\n",
      "{'eta': 0, 'pt': 5, 'sigdxy': 0} started\n",
      "{'eta': 0, 'pt': 5, 'sigdxy': 3} done\n",
      "{'eta': 1, 'pt': 5, 'sigdxy': 2} done\n",
      "{'eta': 0, 'pt': 4, 'sigdxy': 2} done\n",
      "{'eta': 1, 'pt': 3, 'sigdxy': 2} done\n",
      "{'eta': 1, 'pt': 5, 'sigdxy': 3} started\n",
      "{'eta': 2, 'pt': 4, 'sigdxy': 2} done\n",
      "{'eta': 2, 'pt': 5, 'sigdxy': 2} started\n",
      "{'eta': 0, 'pt': 5, 'sigdxy': 1} done\n",
      "{'eta': 1, 'pt': 4, 'sigdxy': 2} started\n",
      "{'eta': 2, 'pt': 3, 'sigdxy': 2} started\n",
      "{'eta': 0, 'pt': 4, 'sigdxy': 3} started\n",
      "{'eta': 1, 'pt': 5, 'sigdxy': 1} started\n",
      "{'eta': 1, 'pt': 5, 'sigdxy': 0} done\n",
      "{'eta': 0, 'pt': 4, 'sigdxy': 4} done\n",
      "{'eta': 2, 'pt': 5, 'sigdxy': 0} started\n",
      "{'eta': 1, 'pt': 4, 'sigdxy': 4} started\n",
      "{'eta': 2, 'pt': 5, 'sigdxy': 1} done\n",
      "{'eta': 0, 'pt': 5, 'sigdxy': 2} started\n",
      "{'eta': 1, 'pt': 5, 'sigdxy': 4} done\n",
      "{'eta': 1, 'pt': 4, 'sigdxy': 3} done\n",
      "{'eta': 2, 'pt': 5, 'sigdxy': 4} started\n",
      "{'eta': 2, 'pt': 5, 'sigdxy': 3} done\n",
      "{'eta': 2, 'pt': 4, 'sigdxy': 3} started\n",
      "{'eta': 0, 'pt': 5, 'sigdxy': 4} started\n",
      "{'eta': 1, 'pt': 6, 'sigdxy': 1} done\n",
      "{'eta': 2, 'pt': 6, 'sigdxy': 1} started\n",
      "{'eta': 2, 'pt': 6, 'sigdxy': 0} done\n",
      "{'eta': 0, 'pt': 6, 'sigdxy': 1} started\n",
      "{'eta': 2, 'pt': 6, 'sigdxy': 2} done\n",
      "{'eta': 1, 'pt': 6, 'sigdxy': 3} done\n",
      "{'eta': 0, 'pt': 6, 'sigdxy': 3} started\n",
      "{'eta': 2, 'pt': 6, 'sigdxy': 3} started\n",
      "{'eta': 0, 'pt': 6, 'sigdxy': 2} done\n",
      "{'eta': 1, 'pt': 6, 'sigdxy': 2} started\n",
      "{'eta': 1, 'pt': 4, 'sigdxy': 0} done\n",
      "{'eta': 2, 'pt': 6, 'sigdxy': 4} started\n",
      "{'eta': 0, 'pt': 4, 'sigdxy': 1} done\n",
      "{'eta': 2, 'pt': 4, 'sigdxy': 1} done\n",
      "{'eta': 1, 'pt': 7, 'sigdxy': 0} started\n",
      "{'eta': 0, 'pt': 7, 'sigdxy': 1} started\n",
      "{'eta': 0, 'pt': 5, 'sigdxy': 0} done\n",
      "{'eta': 1, 'pt': 4, 'sigdxy': 2} done\n",
      "{'eta': 2, 'pt': 7, 'sigdxy': 1} started\n",
      "{'eta': 1, 'pt': 7, 'sigdxy': 2} started\n",
      "{'eta': 2, 'pt': 5, 'sigdxy': 0} done\n",
      "{'eta': 0, 'pt': 6, 'sigdxy': 0} done\n",
      "{'eta': 0, 'pt': 7, 'sigdxy': 3} started\n",
      "{'eta': 2, 'pt': 3, 'sigdxy': 4} done\n",
      "{'eta': 0, 'pt': 6, 'sigdxy': 4} done\n",
      "{'eta': 1, 'pt': 6, 'sigdxy': 0} started\n",
      "{'eta': 2, 'pt': 7, 'sigdxy': 3} started\n",
      "{'eta': 0, 'pt': 4, 'sigdxy': 3} done\n",
      "{'eta': 1, 'pt': 6, 'sigdxy': 4} started\n",
      "{'eta': 1, 'pt': 3, 'sigdxy': 3} done\n",
      "{'eta': 1, 'pt': 7, 'sigdxy': 4} started\n",
      "{'eta': 1, 'pt': 5, 'sigdxy': 1} done\n",
      "{'eta': 0, 'pt': 3, 'sigdxy': 4} done\n",
      "{'eta': 1, 'pt': 5, 'sigdxy': 3} done\n",
      "{'eta': 0, 'pt': 6, 'sigdxy': 1} done\n",
      "{'eta': 0, 'pt': 5, 'sigdxy': 4} done\n",
      "{'eta': 2, 'pt': 5, 'sigdxy': 2} done\n",
      "{'eta': 2, 'pt': 6, 'sigdxy': 3} done\n",
      "{'eta': 2, 'pt': 4, 'sigdxy': 3} done\n"
     ]
    },
    {
     "name": "stdout",
     "output_type": "stream",
     "text": [
      "{'eta': 0, 'pt': 5, 'sigdxy': 2} done\n",
      "{'eta': 2, 'pt': 6, 'sigdxy': 1} done\n",
      "{'eta': 1, 'pt': 4, 'sigdxy': 4} done\n",
      "{'eta': 0, 'pt': 6, 'sigdxy': 3} done\n",
      "{'eta': 2, 'pt': 5, 'sigdxy': 4} done\n",
      "{'eta': 2, 'pt': 3, 'sigdxy': 2} done\n",
      "{'eta': 2, 'pt': 6, 'sigdxy': 4} done\n",
      "{'eta': 0, 'pt': 7, 'sigdxy': 0} started\n",
      "{'eta': 0, 'pt': 7, 'sigdxy': 1} done\n",
      "{'eta': 1, 'pt': 7, 'sigdxy': 0} done\n",
      "{'eta': 1, 'pt': 7, 'sigdxy': 1} started\n",
      "{'eta': 2, 'pt': 7, 'sigdxy': 0} started\n",
      "{'eta': 1, 'pt': 7, 'sigdxy': 4} done\n",
      "{'eta': 2, 'pt': 7, 'sigdxy': 4} started\n",
      "{'eta': 1, 'pt': 6, 'sigdxy': 4} done\n",
      "{'eta': 2, 'pt': 7, 'sigdxy': 1} done\n",
      "{'eta': 0, 'pt': 7, 'sigdxy': 2} started\n",
      "{'eta': 1, 'pt': 6, 'sigdxy': 0} done\n",
      "{'eta': 1, 'pt': 6, 'sigdxy': 2} done\n",
      "{'eta': 0, 'pt': 7, 'sigdxy': 3} done\n",
      "{'eta': 1, 'pt': 7, 'sigdxy': 3} started\n",
      "{'eta': 1, 'pt': 7, 'sigdxy': 2} done\n",
      "{'eta': 2, 'pt': 7, 'sigdxy': 3} done\n",
      "{'eta': 2, 'pt': 7, 'sigdxy': 2} started\n",
      "{'eta': 0, 'pt': 7, 'sigdxy': 4} started\n",
      "{'eta': 0, 'pt': 7, 'sigdxy': 0} done\n",
      "{'eta': 1, 'pt': 7, 'sigdxy': 1} done\n",
      "{'eta': 1, 'pt': 7, 'sigdxy': 3} done\n",
      "{'eta': 0, 'pt': 7, 'sigdxy': 2} done\n",
      "{'eta': 2, 'pt': 7, 'sigdxy': 4} done\n",
      "{'eta': 2, 'pt': 7, 'sigdxy': 2} done\n",
      "{'eta': 0, 'pt': 7, 'sigdxy': 4} done\n",
      "{'eta': 2, 'pt': 7, 'sigdxy': 0} done\n"
     ]
    }
   ],
   "source": [
    "multiCpu = True\n",
    "if multiCpu:\n",
    "    N_max = max(1, multiprocessing.cpu_count() - 6)\n",
    "    N_request = min(len(inputs), N_max)\n",
    "    print 'Parallelization factor:', N_request\n",
    "    p = multiprocessing.Pool(N_request)\n",
    "    output = p.map(analyzeBin, inputs)\n",
    "else:\n",
    "    output = []\n",
    "    for i in inputs:\n",
    "        output.append(analyzeBin(i, verbose=True))"
   ]
  },
  {
   "cell_type": "code",
   "execution_count": 31,
   "metadata": {
    "ExecuteTime": {
     "end_time": "2020-06-19T02:47:30.683637Z",
     "start_time": "2020-06-19T02:47:30.664588Z"
    },
    "scrolled": true
   },
   "outputs": [],
   "source": [
    "for idx, nSigTot, nSigPass in output:\n",
    "    ip = idx['pt']+1\n",
    "    ii = idx['sigdxy']+1\n",
    "    ie = idx['eta']+1\n",
    "    h2['Ntot'].SetBinContent(ip, ii, ie, nSigTot)\n",
    "    h2['Ntot'].SetBinError(h2['Ntot'].GetBin(ip, ii, ie), np.sqrt(nSigTot))\n",
    "    h2['Npass'].SetBinContent(ip, ii, ie, nSigPass)\n",
    "    h2['Npass'].SetBinError(h2['Npass'].GetBin(ip, ii, ie), np.sqrt(nSigPass))"
   ]
  },
  {
   "cell_type": "code",
   "execution_count": 32,
   "metadata": {
    "ExecuteTime": {
     "end_time": "2020-06-19T02:47:32.267336Z",
     "start_time": "2020-06-19T02:47:32.212952Z"
    }
   },
   "outputs": [],
   "source": [
    "if not rt.TEfficiency.CheckConsistency(h2['Npass'], h2['Ntot']): raise\n",
    "pEff = rt.TEfficiency(h2['Npass'], h2['Ntot'])\n",
    "pEff.SetStatisticOption(rt.TEfficiency.kFCP)\n",
    "pEff.SetNameTitle('eff_'+probeTrigger, 'Efficience for '+probeTrigger)\n",
    "\n",
    "tf = rt.TFile('../data/calibration/triggerScaleFactors/{}_{}_{}.root'.format(probeTrigger, dataset, version), 'RECREATE')\n",
    "pEff.Write()\n",
    "for h in h2.values():\n",
    "    h.Write()\n",
    "tf.Close()"
   ]
  },
  {
   "cell_type": "code",
   "execution_count": 78,
   "metadata": {
    "ExecuteTime": {
     "end_time": "2020-06-19T03:19:45.796884Z",
     "start_time": "2020-06-19T03:19:45.458858Z"
    },
    "scrolled": false
   },
   "outputs": [
    {
     "name": "stdout",
     "output_type": "stream",
     "text": [
      "1 1 0.0613882563494\n",
      "2 1 0.116932746212\n",
      "3 1 0.483453608247\n",
      "4 1 0.52460971379\n",
      "5 1 0.54072845425\n",
      "6 1 0.534051334967\n",
      "7 1 0.780497168634\n",
      "8 1 0.801071887842\n"
     ]
    },
    {
     "data": {
      "image/png": "[encoded data removed]",
      "text/plain": [
       "<IPython.core.display.Image object>"
      ]
     },
     "metadata": {},
     "output_type": "display_data"
    },
    {
     "data": {
      "image/png": "[encoded data removed]",
      "text/plain": [
       "<IPython.core.display.Image object>"
      ]
     },
     "metadata": {},
     "output_type": "display_data"
    },
    {
     "data": {
      "image/png": "[encoded data removed]",
      "text/plain": [
       "<IPython.core.display.Image object>"
      ]
     },
     "metadata": {},
     "output_type": "display_data"
    }
   ],
   "source": [
    "outCanvases = []\n",
    "tdrstyle.setTDRStyle()\n",
    "BRY_colors = [rt.kGray+2, rt.kBlue, rt.kViolet, rt.kRed, rt.kOrange, rt.kYellow+1]\n",
    "hRef = h2['Npass']\n",
    "for iz in range(1, hRef.GetNbinsZ()+1):\n",
    "    title = 'Efficiency {} {} ({:.1f} < |#eta| < {:.1f})'.format(probeTrigger, dataset, binning['eta'][iz-1], binning['eta'][iz])\n",
    "    \n",
    "    leg = rt.TLegend(0.7, 0.2, 0.98, 0.5)\n",
    "    leg.SetLineWidth(0)\n",
    "    leg.SetBorderSize(0)\n",
    "    gr2draw = []\n",
    "\n",
    "    for iy in range(1, hRef.GetNbinsY()+1):\n",
    "        gr = rt.TGraphAsymmErrors()\n",
    "        gr.SetName('gr_{}_{}'.format(iy,iz))\n",
    "        for ix in range(1, hRef.GetNbinsX()+1):\n",
    "            idx = pEff.GetGlobalBin(ix, iy, iz)\n",
    "            if iz == 3 and iy==1:\n",
    "                print ix, iy, pEff.GetEfficiency(idx)\n",
    "            x = binning['pt'][ix-1] + 0.5*(binning['pt'][ix] - binning['pt'][ix-1])\n",
    "            gr.SetPoint(ix-1, x, pEff.GetEfficiency(idx))\n",
    "            gr.SetPointError(ix-1, x-binning['pt'][ix-1], binning['pt'][ix]-x, \n",
    "                             pEff.GetEfficiencyErrorLow(idx), pEff.GetEfficiencyErrorUp(idx)\n",
    "                            )\n",
    "        gr.SetLineColor(BRY_colors[iy-1])\n",
    "        gr.SetMarkerColor(BRY_colors[iy-1])\n",
    "        leg.AddEntry(gr, '{:.1f} < IP < {:.1f}'.format(binning['sigdxy'][iy-1], binning['sigdxy'][iy]), 'lep')\n",
    "        gr2draw.append(gr)\n",
    "    \n",
    "    M = 1.2\n",
    "    m = 0\n",
    "    gr2draw[0].GetYaxis().SetRangeUser(m ,M)\n",
    "    c = drawOnCMSCanvas(CMS_lumi, gr2draw, ['AP'] + (len(gr2draw)-1)*['P'], tag='_eff'+str(iz))    \n",
    "    gr2draw[0].GetYaxis().SetTitle('Efficiency')\n",
    "    gr2draw[0].GetXaxis().SetTitle('Muon p_{T} [GeV]')\n",
    "    leg.Draw()\n",
    "#     c.SetLogx()\n",
    "#     c.SetLogy()\n",
    "#     m = 1e-3\n",
    "#     M = 5\n",
    "    gr2draw[0].GetXaxis().SetTitleOffset(1.1)\n",
    "    \n",
    "    trgThr = float(re.search(r'_Mu[0-9]+_', probeTrigger).group(0)[3:-1])\n",
    "    cl.DrawLine(trgThr, m, trgThr, 1)\n",
    "    \n",
    "    l = rt.TLine()\n",
    "    l.SetLineWidth(1)\n",
    "    l.SetLineColor(rt.kGray)\n",
    "    l.SetLineStyle(7)\n",
    "    l.DrawLine(binning['pt'][0], 1, binning['pt'][-1], 1)\n",
    "    \n",
    "    rt.TLatex()\n",
    "    text = rt.TLatex()\n",
    "    text.SetTextAlign(22)\n",
    "    text.SetTextSize(0.04)\n",
    "    text.SetTextFont(42)\n",
    "    text.DrawLatexNDC(0.6, 0.9, title);\n",
    "\n",
    "    imgLoc = '../data/calibration/triggerScaleFactors/figEff/'\n",
    "    c.SaveAs(imgLoc + probeTrigger+ '_' + dataset + '_eta{}_{}.png'.format(iz-1, version))\n",
    "    outCanvases.append([c, gr2draw, leg])"
   ]
  }
 ],
 "metadata": {
  "kernelspec": {
   "display_name": "Python 2",
   "language": "python",
   "name": "python2"
  },
  "language_info": {
   "codemirror_mode": {
    "name": "ipython",
    "version": 2
   },
   "file_extension": ".py",
   "mimetype": "text/x-python",
   "name": "python",
   "nbconvert_exporter": "python",
   "pygments_lexer": "ipython2",
   "version": "2.7.14+"
  },
  "varInspector": {
   "cols": {
    "lenName": 16,
    "lenType": 16,
    "lenVar": 40
   },
   "kernels_config": {
    "python": {
     "delete_cmd_postfix": "",
     "delete_cmd_prefix": "del ",
     "library": "var_list.py",
     "varRefreshCmd": "print(var_dic_list())"
    },
    "r": {
     "delete_cmd_postfix": ") ",
     "delete_cmd_prefix": "rm(",
     "library": "var_list.r",
     "varRefreshCmd": "cat(var_dic_list()) "
    }
   },
   "types_to_exclude": [
    "module",
    "function",
    "builtin_function_or_method",
    "instance",
    "_Feature"
   ],
   "window_display": false
  }
 },
 "nbformat": 4,
 "nbformat_minor": 2
}
