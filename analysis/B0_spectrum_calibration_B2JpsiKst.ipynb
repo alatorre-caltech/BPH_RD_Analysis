{
 "cells": [
  {
   "cell_type": "code",
   "execution_count": 1,
   "metadata": {
    "ExecuteTime": {
     "end_time": "2019-10-25T23:29:16.739581Z",
     "start_time": "2019-10-25T23:29:08.556072Z"
    }
   },
   "outputs": [
    {
     "name": "stdout",
     "output_type": "stream",
     "text": [
      "Welcome to JupyROOT 6.10/08\n"
     ]
    }
   ],
   "source": [
    "import numpy as np\n",
    "import scipy.stats as sps\n",
    "from glob import glob\n",
    "import matplotlib.pyplot as plt\n",
    "import uproot as ur\n",
    "import ROOT as rt\n",
    "import ROOT.RooFit as rf\n",
    "from scipy.special import erf\n",
    "import sys, os\n",
    "sys.path.append('../lib')\n",
    "from histo_utilities import create_TH1D, create_TH2D, std_color_list, SetMaxToMaxHist, make_ratio_plot\n",
    "from cebefo_style import Set_2D_colz_graphics\n",
    "from progressBar import ProgressBar\n",
    "\n",
    "from analysis_utilities import drawOnCMSCanvas, extarct, extarct_multiple, createSel\n",
    "from lumi_utilities import getLumiReport\n",
    "\n",
    "import CMS_lumi, tdrstyle\n",
    "tdrstyle.setTDRStyle()\n",
    "CMS_lumi.writeExtraText = 1\n",
    "CMS_lumi.extraText = \"     Preliminary\"\n",
    "\n",
    "donotdelete = []"
   ]
  },
  {
   "cell_type": "code",
   "execution_count": 2,
   "metadata": {
    "ExecuteTime": {
     "end_time": "2019-10-25T23:29:16.775566Z",
     "start_time": "2019-10-25T23:29:16.743661Z"
    }
   },
   "outputs": [],
   "source": [
    "rt.gErrorIgnoreLevel = rt.kError\n",
    "rt.RooMsgService.instance().setGlobalKillBelow(rt.RooFit.ERROR)"
   ]
  },
  {
   "cell_type": "code",
   "execution_count": 3,
   "metadata": {
    "ExecuteTime": {
     "end_time": "2019-10-25T23:29:17.755306Z",
     "start_time": "2019-10-25T23:29:17.739571Z"
    }
   },
   "outputs": [
    {
     "name": "stdout",
     "output_type": "stream",
     "text": [
      "1.86483\n",
      "2.01026\n",
      "5.27963\n",
      "mD* - mD0 = 0.14543\n"
     ]
    }
   ],
   "source": [
    "m_D0 = 1.86483 #1e-3*Particle.from_string('D0').mass\n",
    "print m_D0\n",
    "m_Dst = 2.01026 #1e-3*Particle.from_string('D*+').mass\n",
    "print m_Dst\n",
    "m_B0 = 5.27963 #1e-3*Particle.from_string('B0').mass\n",
    "print m_B0\n",
    "m_pi = 0.13957018 #1e-3*Particle.from_string('pi+').mass\n",
    "print 'mD* - mD0 =', m_Dst - m_D0"
   ]
  },
  {
   "cell_type": "code",
   "execution_count": 4,
   "metadata": {
    "ExecuteTime": {
     "end_time": "2019-10-25T23:29:18.928339Z",
     "start_time": "2019-10-25T23:29:18.906983Z"
    }
   },
   "outputs": [],
   "source": [
    "cl = rt.TLine()\n",
    "cl.SetLineColor(6)\n",
    "cl.SetLineStyle(9)\n",
    "cl.SetLineWidth(2)"
   ]
  },
  {
   "cell_type": "markdown",
   "metadata": {},
   "source": [
    "# Cuts declaration"
   ]
  },
  {
   "cell_type": "code",
   "execution_count": 5,
   "metadata": {
    "ExecuteTime": {
     "end_time": "2019-10-25T23:29:20.413289Z",
     "start_time": "2019-10-25T23:29:20.395162Z"
    }
   },
   "outputs": [],
   "source": [
    "analysis_cuts = [\n",
    " 'mass_mumu < 3.174',\n",
    " 'mass_mumu > 3.013',\n",
    " 'mass_piK > 0.82',\n",
    " 'mass_piK < 0.96',\n",
    " 'mum_pt > 3.5',\n",
    " 'mup_pt > 3.5',\n",
    " 'Jpsi_pt > 6.9',\n",
    " 'pval_mumu > 0.1',\n",
    " 'mum_eta > -2.2',\n",
    " 'mup_eta > -2.2',\n",
    " 'mum_eta < 2.2',\n",
    " 'mup_eta < 2.2',\n",
    " 'cosT_Jpsi_PV > 0.95',\n",
    " 'mum_dxy < 3',\n",
    " 'mup_dxy < 3',\n",
    " 'pval_piK > 0.1',\n",
    " 'fabs(mass_piK - 0.892) < fabs(mass_piK_CPconj - 0.892)',\n",
    " 'mass_KK > 1.035',\n",
    " 'K_sigdxy_PV > 2',\n",
    " 'pi_sigdxy_PV > 2',\n",
    " 'sigdxy_vtxKst_PV > 5',\n",
    " 'K_pt > 0.8',\n",
    " 'pval_mumupiK > 0.1',\n",
    " 'pi_pt > 0.8',\n",
    " 'mass_mumupiK > 5.02',\n",
    " 'mass_mumupiK < 5.55'\n",
    "]\n",
    "analysis_cuts_str = ' && '.join(analysis_cuts)"
   ]
  },
  {
   "cell_type": "markdown",
   "metadata": {},
   "source": [
    "# Load data"
   ]
  },
  {
   "cell_type": "code",
   "execution_count": 8,
   "metadata": {
    "ExecuteTime": {
     "end_time": "2019-10-25T23:29:46.649604Z",
     "start_time": "2019-10-25T23:29:46.631955Z"
    }
   },
   "outputs": [
    {
     "name": "stdout",
     "output_type": "stream",
     "text": [
      "['../data/cmsRD/ParkingBPH1/Run2018D-05May2019promptD-v1_RDntuplizer_B2JpsiKst_191017_CAND.root']\n"
     ]
    }
   ],
   "source": [
    "dataDir = '../data/cmsRD'\n",
    "datasets_loc = []\n",
    "# datasets_loc += glob(dataDir + '/ParkingBPH[12]/*B2JpsiKst_191002*')\n",
    "# datasets_loc += glob(dataDir + '/ParkingBPH3/*B2JpsiKst_191003*')\n",
    "\n",
    "datasets_loc += glob(dataDir + '/ParkingBPH1/*2018D-*B2JpsiKst_191017*')\n",
    "\n",
    "print datasets_loc"
   ]
  },
  {
   "cell_type": "code",
   "execution_count": 9,
   "metadata": {
    "ExecuteTime": {
     "end_time": "2019-10-25T23:29:56.484526Z",
     "start_time": "2019-10-25T23:29:56.468257Z"
    }
   },
   "outputs": [
    {
     "name": "stdout",
     "output_type": "stream",
     "text": [
      "Lumi tot: 5.3 fb^-1\n",
      "Lumi analyzed: 12.8%\n"
     ]
    }
   ],
   "source": [
    "lumi_tot, lumi_dic = getLumiReport(datasets_loc)\n",
    "CMS_lumi.integrated_lumi = lumi_tot"
   ]
  },
  {
   "cell_type": "code",
   "execution_count": 10,
   "metadata": {
    "ExecuteTime": {
     "end_time": "2019-10-25T23:30:20.712576Z",
     "start_time": "2019-10-25T23:30:00.407867Z"
    }
   },
   "outputs": [
    {
     "name": "stdout",
     "output_type": "stream",
     "text": [
      "N evts: 19863\n"
     ]
    }
   ],
   "source": [
    "treeRD = rt.TChain('outA/Tevts')\n",
    "for floc in datasets_loc:\n",
    "   treeRD.Add(floc)\n",
    "print 'N evts: {:.0f}'.format(treeRD.GetEntries(analysis_cuts_str))"
   ]
  },
  {
   "cell_type": "markdown",
   "metadata": {},
   "source": [
    "# Load MC"
   ]
  },
  {
   "cell_type": "code",
   "execution_count": 11,
   "metadata": {
    "ExecuteTime": {
     "end_time": "2019-10-25T23:31:02.025734Z",
     "start_time": "2019-10-25T23:31:02.009258Z"
    }
   },
   "outputs": [],
   "source": [
    "mcDir = '../data/cmsMC_private'"
   ]
  },
  {
   "cell_type": "code",
   "execution_count": 15,
   "metadata": {
    "ExecuteTime": {
     "end_time": "2019-10-25T23:33:50.357908Z",
     "start_time": "2019-10-25T23:33:49.016992Z"
    }
   },
   "outputs": [
    {
     "name": "stdout",
     "output_type": "stream",
     "text": [
      "N files: 45\n",
      "N evts: 53593\n"
     ]
    }
   ],
   "source": [
    "mcsets_loc = glob(mcDir + '/BPH_Tag-Probe_B0_JpsiKst-mumuKpi-kp_13TeV-pythia8_Hardbbbar_PTFilter5_0p0-evtgen_SVV/jobs_B2JpsiKst/out_CAND*.root')\n",
    "treeMC_hard = rt.TChain('outA/Tevts')\n",
    "for floc in mcsets_loc:\n",
    "    treeMC_hard.Add(floc)\n",
    "print 'N files: {:.0f}'.format(len(mcsets_loc))\n",
    "print 'N evts: {:.0f}'.format(treeMC_hard.GetEntries(analysis_cuts_str))"
   ]
  },
  {
   "cell_type": "code",
   "execution_count": 17,
   "metadata": {
    "ExecuteTime": {
     "end_time": "2019-10-25T23:34:32.386833Z",
     "start_time": "2019-10-25T23:34:32.073521Z"
    }
   },
   "outputs": [
    {
     "name": "stdout",
     "output_type": "stream",
     "text": [
      "N files: 9\n",
      "N evts: 12044\n"
     ]
    }
   ],
   "source": [
    "mcsets_loc = glob(mcDir + '/BPH_Tag-Probe_B0_JpsiKst-mumuKpi-kp_13TeV-pythia8_SoftQCD_PTFilter5_0p0-evtgen_SVV/jobs_B2JpsiKst/out_CAND*.root')\n",
    "treeMC_soft = rt.TChain('outA/Tevts')\n",
    "for floc in mcsets_loc:\n",
    "    treeMC_soft.Add(floc)\n",
    "print 'N files: {:.0f}'.format(len(mcsets_loc))\n",
    "print 'N evts: {:.0f}'.format(treeMC_soft.GetEntries(analysis_cuts_str))"
   ]
  },
  {
   "cell_type": "markdown",
   "metadata": {},
   "source": [
    "# Analyze data"
   ]
  },
  {
   "cell_type": "markdown",
   "metadata": {},
   "source": [
    "### Fit the whole dataset"
   ]
  },
  {
   "cell_type": "code",
   "execution_count": 18,
   "metadata": {
    "ExecuteTime": {
     "end_time": "2019-10-25T23:35:04.441853Z",
     "start_time": "2019-10-25T23:34:44.041790Z"
    }
   },
   "outputs": [],
   "source": [
    "h = create_TH1D(np.zeros(0), name='h',\n",
    "                title='',\n",
    "                axis_title=['m(#mu#mu#pi^{-}K^{+}) [GeV]', 'Events'],\n",
    "                binning=[30, 5.02, 5.55]\n",
    "               )\n",
    "treeRD.Project('h', 'mass_mumupiK', analysis_cuts_str)\n",
    "h.Sumw2()"
   ]
  },
  {
   "cell_type": "code",
   "execution_count": 45,
   "metadata": {
    "ExecuteTime": {
     "end_time": "2019-10-25T23:48:28.743318Z",
     "start_time": "2019-10-25T23:48:28.726517Z"
    }
   },
   "outputs": [],
   "source": [
    "mass = rt.RooRealVar('mass_mumupiK', 'm_{#mu#mu#piK}', h.binning[1], h.binning[2], 'GeV')\n",
    "\n",
    "# mean = rt.RooRealVar('mean', 'm_{B}', m_B0, 3, 7, 'GeV')\n",
    "# sigma = rt.RooRealVar('sigma', '#sigma', 0.02, 0.00005, 0.1, 'GeV') \n",
    "# pdf_sig = rt.RooGaussian('gaus','sig pdf', mass, mean, sigma)\n",
    "\n",
    "# mean = rt.RooRealVar('mean', 'm_{B}', m_B0, 3, 7, 'GeV')\n",
    "# sigma = rt.RooRealVar('sigma', '#sigma', 0.03, 0.00005, 0.1, 'GeV')\n",
    "# alpha = rt.RooRealVar('alpha', '#alpha', 2, -5, 5, 'GeV')\n",
    "# nCB = rt.RooRealVar('nCB', 'n_{CB}', 2, -10, 10, 'GeV')\n",
    "# pdf_sig = rt.RooCBShape('gaus','sig pdf', mass, mean, sigma, alpha, nCB)\n",
    "\n",
    "mean = rt.RooRealVar('mean', '#mu', m_B0, 3, 7, 'GeV')\n",
    "sigma = rt.RooRealVar('sigma', '#sigma', 0.03, 0.00005, 0.1, 'GeV')\n",
    "pAsym = rt.RooRealVar('pAsym', '#alpha', 0, -1, 1)\n",
    "# pAsym.setConstant(rt.kTRUE)\n",
    "rho1 = rt.RooRealVar('rho1', '#rho_{1}', 0, -10, 0)\n",
    "# rho1.setConstant(rt.kTRUE)\n",
    "rho2 = rt.RooRealVar('rho2', '#rho_{2}', 0.5, 0, 10)\n",
    "pdf_sig = rt.RooBukinPdf('bukin','sig pdf', mass, mean, sigma, pAsym, rho1, rho2)\n",
    "\n",
    "N_tot = h.Integral(1, h.binning[0])\n",
    "nsig = rt.RooRealVar('nsig', 'N_{S}', 0.9*N_tot, 0, 100*N_tot)\n",
    "pdf_sig_ext = rt.RooExtendPdf('esig', 'esig', pdf_sig, nsig)"
   ]
  },
  {
   "cell_type": "code",
   "execution_count": 46,
   "metadata": {
    "ExecuteTime": {
     "end_time": "2019-10-25T23:48:29.259803Z",
     "start_time": "2019-10-25T23:48:29.244288Z"
    }
   },
   "outputs": [],
   "source": [
    "lam = rt.RooRealVar('lam', '#lambda', -2.1, -100, -0.1, 'GeV^{-1}')\n",
    "pdf_bkg = rt.RooExponential('expo', 'bkg pdf', mass, lam)\n",
    "\n",
    "# a0 = rt.RooRealVar('a0', 'a0', 10, 0, 100)\n",
    "# a1 = rt.RooRealVar('a1', 'a1', 0.1, -10, 1000)\n",
    "# a2 = rt.RooRealVar('a2', 'a2', 0.1, -100, 1000)\n",
    "# pdf_bkg = rt.RooPolynomial('poly', 'bkg pdf', mass, rt.RooArgList(a1, a2), 1)\n",
    "\n",
    "nbkg = rt.RooRealVar('nbkg', 'N_{B}', 0.1*N_tot, 0, 100*N_tot)\n",
    "pdf_bkg_ext = rt.RooExtendPdf('ebkg', 'ebkg', pdf_bkg, nbkg)"
   ]
  },
  {
   "cell_type": "code",
   "execution_count": 47,
   "metadata": {
    "ExecuteTime": {
     "end_time": "2019-10-25T23:48:29.759791Z",
     "start_time": "2019-10-25T23:48:29.716523Z"
    }
   },
   "outputs": [
    {
     "name": "stdout",
     "output_type": "stream",
     "text": [
      "chi2: 26.0/22 0.251\n",
      "Total: Nsig = 14990, Nbkg = 4905\n"
     ]
    }
   ],
   "source": [
    "data = rt.RooDataHist('d', 'data', rt.RooArgList(mass), h)\n",
    "\n",
    "pdf_tot = rt.RooAddPdf('pdftot', 'pdftot', rt.RooArgList(pdf_sig_ext, pdf_bkg_ext))\n",
    "fr = pdf_tot.fitTo(data, rf.PrintLevel(-1), rf.Save())\n",
    "\n",
    "dof = h.binning[0]-fr.floatParsFinal().getSize()\n",
    "chi2 = rt.RooChi2Var(\"chi2\", 'chi2', pdf_tot, data)\n",
    "pval = rt.ROOT.Math.chisquared_cdf_c(chi2.getVal(), dof)\n",
    "print 'chi2: {:.1f}/{:.0f} {:.3f}'.format(chi2.getVal(), dof, pval)\n",
    "\n",
    "print 'Total: Nsig = {:.0f}, Nbkg = {:.0f}'.format(nsig.getVal(), nbkg.getVal())"
   ]
  },
  {
   "cell_type": "code",
   "execution_count": 48,
   "metadata": {
    "ExecuteTime": {
     "end_time": "2019-10-25T23:48:30.296412Z",
     "start_time": "2019-10-25T23:48:30.244461Z"
    },
    "scrolled": false
   },
   "outputs": [
    {
     "data": {
      "image/png": "[encoded data removed]",
      "text/plain": [
       "<IPython.core.display.Image object>"
      ]
     },
     "metadata": {},
     "output_type": "display_data"
    }
   ],
   "source": [
    "frame = mass.frame(rf.Title(\"\"))\n",
    "data.plotOn(frame, rf.MarkerStyle(1), rf.DrawOption('E1'), rf.MarkerColor(h.GetLineColor()), rf.LineColor(h.GetLineColor()), rf.MarkerStyle(15))\n",
    "pdf_tot.plotOn(frame, rf.LineColor(h.GetLineColor()), rf.LineWidth(2))\n",
    "pdf_tot.plotOn(frame, rf.Components('ebkg'), rf.LineColor(rt.kRed), rf.LineWidth(2), rf.LineStyle(7))\n",
    "pdf_tot.plotOn(frame, rf.Components('esig'), rf.LineColor(rt.kBlue), rf.LineWidth(2), rf.LineStyle(7))\n",
    "\n",
    "pTxt = rt.TPaveText(5.05, 0.2*h.GetMaximum(), 5.2, h.GetMaximum())\n",
    "pTxt.SetBorderSize(0)\n",
    "pTxt.SetFillStyle(0)\n",
    "pTxt.SetTextAlign(11)\n",
    "pTxt.AddText('#chi^{{2}}: {:.1f}/{:.0f} ({:.2f})'.format(chi2.getVal(), dof, pval))\n",
    "pTxt.AddText('N_{{sig}} = {:.0f} +/- {:.0f}'.format(nsig.getVal(), nsig.getError()))\n",
    "pTxt.AddText('#mu = {:.1f} +/- {:.1f} MeV'.format(1e3*mean.getVal(), 1e3*mean.getError()))\n",
    "pTxt.AddText('#sigma = {:.1f} +/- {:.1f} MeV'.format(1e3*sigma.getVal(), 1e3*sigma.getError()))\n",
    "pTxt.AddText('#alpha = {:.3f} +/- {:.3f}'.format(pAsym.getVal(), pAsym.getError()))\n",
    "pTxt.AddText('#rho_{{1}} = {:.3f} +/- {:.3f}'.format(rho1.getVal(), rho1.getError()))\n",
    "pTxt.AddText('#rho_{{2}} = {:.3f} +/- {:.3f}'.format(rho2.getVal(), rho2.getError()))\n",
    "\n",
    "c = drawOnCMSCanvas(CMS_lumi, frame)\n",
    "cl.DrawLine(m_B0, 0, m_B0, h.GetMaximum());\n",
    "pTxt.Draw()"
   ]
  },
  {
   "cell_type": "markdown",
   "metadata": {},
   "source": [
    "### Create a skimmed tree"
   ]
  },
  {
   "cell_type": "code",
   "execution_count": null,
   "metadata": {
    "ExecuteTime": {
     "end_time": "2019-10-23T18:10:31.070724Z",
     "start_time": "2019-10-23T18:10:31.052478Z"
    },
    "code_folding": [
     0
    ]
   },
   "outputs": [],
   "source": [
    "# output = []\n",
    "# N_accepted_cand = []\n",
    "\n",
    "# import operator\n",
    "# ops = {'>': operator.gt, '<': operator.lt, }\n",
    "\n",
    "# pb = ProgressBar(maxEntry=treeRD.GetEntries())\n",
    "# for i_ev, ev in enumerate(treeRD):\n",
    "#     pb.show(i_ev)\n",
    "#     N_acc = 0\n",
    "#     for j in range(ev.pval_mumupiK.size()):\n",
    "#         accept = abs(ev.mass_piK[j] - 0.892) < abs(ev.mass_piK_CPconj[j] - 0.892)\n",
    "#         for c_str in analysis_cuts:\n",
    "#             if c_str == 'fabs(mass_piK - 0.892) < fabs(mass_piK_CPconj - 0.892)': continue\n",
    "#             if not accept:\n",
    "#                 break\n",
    "#             aux = c_str.split(' ')\n",
    "#             if len(aux) != 3:\n",
    "#                 raise\n",
    "#             x = getattr(ev, aux[0])[j]\n",
    "#             accept = ops[aux[1]](x, float(aux[2]))\n",
    "#         if accept:\n",
    "#             N_acc += 1\n",
    "#             output.append((ev.mass_mumupiK[j], ev.B_mumupiK_pt[j], ev.B_mumupiK_eta[j]))\n",
    "#     if N_acc > 0:\n",
    "#         N_accepted_cand.append(N_acc)\n",
    "\n",
    "# print len(output)\n",
    "# dic = {i:N_accepted_cand.count(i) for i in range(1, np.max(N_accepted_cand)+1)}\n",
    "# print dic\n",
    "\n",
    "# import root_numpy as rtnp\n",
    "# dtypes = [('mass_mumupiK', np.float32), ('B_pt', np.float32), ('B_eta', np.float32)]\n",
    "# a = np.array(output, dtype=dtypes)\n",
    "# skimmed_tree = rtnp.array2tree(a)\n",
    "# rtnp.array2root(a, '../data/cmsRD/skimmed/B2JpsiKst.root', treename='Tevts', mode='RECREATE')"
   ]
  },
  {
   "cell_type": "code",
   "execution_count": 49,
   "metadata": {
    "ExecuteTime": {
     "end_time": "2019-10-25T23:49:04.579298Z",
     "start_time": "2019-10-25T23:49:04.566919Z"
    }
   },
   "outputs": [],
   "source": [
    "skimmed_file = rt.TFile('../data/cmsRD/skimmed/B2JpsiKst.root', 'READ')\n",
    "skimmed_tree = skimmed_file.Get('merged')"
   ]
  },
  {
   "cell_type": "markdown",
   "metadata": {},
   "source": [
    "### Make sDataset"
   ]
  },
  {
   "cell_type": "code",
   "execution_count": 51,
   "metadata": {
    "ExecuteTime": {
     "end_time": "2019-10-25T23:49:11.507112Z",
     "start_time": "2019-10-25T23:49:11.481482Z"
    }
   },
   "outputs": [],
   "source": [
    "v_B_pt = rt.RooRealVar('B_pt', 'p_{T}^{(B)}', 0, 500, 'GeV')\n",
    "v_B_eta = rt.RooRealVar('B_eta', '#eta^{(B)}', -3, 3, 'GeV')\n",
    "\n",
    "rt.RooAbsData.setDefaultStorageType(rt.RooAbsData.Tree)\n",
    "ds = rt.RooDataSet('ds', 'ds', skimmed_tree, rt.RooArgSet(mass, v_B_eta, v_B_pt))#, v_B_eta))"
   ]
  },
  {
   "cell_type": "code",
   "execution_count": 52,
   "metadata": {
    "ExecuteTime": {
     "end_time": "2019-10-25T23:49:18.383390Z",
     "start_time": "2019-10-25T23:49:18.050701Z"
    }
   },
   "outputs": [
    {
     "data": {
      "text/plain": [
       "15004.12209404965"
      ]
     },
     "execution_count": 52,
     "metadata": {},
     "output_type": "execute_result"
    }
   ],
   "source": [
    "sData = rt.RooStats.SPlot('sData', 'sData', ds, pdf_tot, rt.RooArgList(nsig, nbkg))\n",
    "sData.GetYieldFromSWeight('nsig_sw')"
   ]
  },
  {
   "cell_type": "code",
   "execution_count": 53,
   "metadata": {
    "ExecuteTime": {
     "end_time": "2019-10-25T23:49:35.901050Z",
     "start_time": "2019-10-25T23:49:35.847074Z"
    }
   },
   "outputs": [],
   "source": [
    "treeRD_skimmed = ds.tree()\n",
    "f_sw = rt.TFile('../data/cmsRD/skimmed/B2JpsiKst.root', 'RECREATE')\n",
    "treeRD_skimmed.Write()\n",
    "f_sw.Close()"
   ]
  },
  {
   "cell_type": "code",
   "execution_count": 54,
   "metadata": {
    "ExecuteTime": {
     "end_time": "2019-10-25T23:49:37.387869Z",
     "start_time": "2019-10-25T23:49:37.381466Z"
    }
   },
   "outputs": [
    {
     "name": "stdout",
     "output_type": "stream",
     "text": [
      "******************************************************************************\n",
      "*Tree    :merged    : merged                                                 *\n",
      "*Entries :    19895 : Total =         1166708 bytes  File  Size =          0 *\n",
      "*        :          : Tree compression factor =   1.00                       *\n",
      "******************************************************************************\n",
      "*Br    0 :mass_mumupiK : mass_mumupiK/D                                      *\n",
      "*Entries :    19895 : Total  Size=     167078 bytes  All baskets in memory   *\n",
      "*Baskets :       39 : Basket Size=       4096 bytes  Compression=   1.00     *\n",
      "*............................................................................*\n",
      "*Br    1 :B_eta     : B_eta/D                                                *\n",
      "*Entries :    19895 : Total  Size=     166490 bytes  All baskets in memory   *\n",
      "*Baskets :       39 : Basket Size=       4096 bytes  Compression=   1.00     *\n",
      "*............................................................................*\n",
      "*Br    2 :B_pt      : B_pt/D                                                 *\n",
      "*Entries :    19895 : Total  Size=     166406 bytes  All baskets in memory   *\n",
      "*Baskets :       39 : Basket Size=       4096 bytes  Compression=   1.00     *\n",
      "*............................................................................*\n",
      "*Br    3 :nsig_sw   : nsig_sw/D                                              *\n",
      "*Entries :    19895 : Total  Size=     166658 bytes  All baskets in memory   *\n",
      "*Baskets :       39 : Basket Size=       4096 bytes  Compression=   1.00     *\n",
      "*............................................................................*\n",
      "*Br    4 :L_nsig    : L_nsig/D                                               *\n",
      "*Entries :    19895 : Total  Size=     166574 bytes  All baskets in memory   *\n",
      "*Baskets :       39 : Basket Size=       4096 bytes  Compression=   1.00     *\n",
      "*............................................................................*\n",
      "*Br    5 :nbkg_sw   : nbkg_sw/D                                              *\n",
      "*Entries :    19895 : Total  Size=     166658 bytes  All baskets in memory   *\n",
      "*Baskets :       39 : Basket Size=       4096 bytes  Compression=   1.00     *\n",
      "*............................................................................*\n",
      "*Br    6 :L_nbkg    : L_nbkg/D                                               *\n",
      "*Entries :    19895 : Total  Size=     166574 bytes  All baskets in memory   *\n",
      "*Baskets :       39 : Basket Size=       4096 bytes  Compression=   1.00     *\n",
      "*............................................................................*\n"
     ]
    }
   ],
   "source": [
    "treeRD_skimmed.Print()"
   ]
  },
  {
   "cell_type": "markdown",
   "metadata": {
    "heading_collapsed": true
   },
   "source": [
    "# Analyze MC"
   ]
  },
  {
   "cell_type": "code",
   "execution_count": null,
   "metadata": {
    "ExecuteTime": {
     "end_time": "2019-10-23T18:18:41.149819Z",
     "start_time": "2019-10-23T18:18:40.747383Z"
    },
    "hidden": true
   },
   "outputs": [],
   "source": [
    "h = create_TH1D(np.zeros(0), name='h',\n",
    "                title='',\n",
    "                axis_title=['m(#mu#mu#pi^{-}K^{+}) [GeV]', 'Events'],\n",
    "                binning=[30, 5.15, 5.4]\n",
    "               )\n",
    "treeMC.Project('h', 'mass_mumupiK', analysis_cuts_str)\n",
    "h.Sumw2()"
   ]
  },
  {
   "cell_type": "code",
   "execution_count": null,
   "metadata": {
    "ExecuteTime": {
     "end_time": "2019-10-23T18:18:41.175907Z",
     "start_time": "2019-10-23T18:18:41.153986Z"
    },
    "hidden": true
   },
   "outputs": [],
   "source": [
    "N_tot = h.Integral(1, h.binning[0])\n",
    "print N_tot\n",
    "print h.Integral()"
   ]
  },
  {
   "cell_type": "code",
   "execution_count": null,
   "metadata": {
    "ExecuteTime": {
     "end_time": "2019-10-23T18:18:41.828328Z",
     "start_time": "2019-10-23T18:18:41.787283Z"
    },
    "hidden": true
   },
   "outputs": [],
   "source": [
    "mass = rt.RooRealVar('mass_mumupiK', 'm_{#mu#mu#piK}', h.binning[1], h.binning[2], 'GeV')\n",
    "\n",
    "# mean = rt.RooRealVar('mean', 'm_{B}', m_B0, 3, 7, 'GeV')\n",
    "# sigma = rt.RooRealVar('sigma', '#sigma', 0.02, 0.00005, 0.1, 'GeV') \n",
    "# pdf_sig = rt.RooGaussian('gaus','sig pdf', mass, mean, sigma)\n",
    "\n",
    "# mean = rt.RooRealVar('mean', 'm_{B}', m_B0, 3, 7, 'GeV')\n",
    "# sigma = rt.RooRealVar('sigma', '#sigma', 0.03, 0.00005, 0.1, 'GeV')\n",
    "# alpha = rt.RooRealVar('alpha', '#alpha', 2, -5, 5, 'GeV')\n",
    "# nCB = rt.RooRealVar('nCB', 'n_{CB}', 2, -10, 10, 'GeV')\n",
    "# pdf_sig = rt.RooCBShape('gaus','sig pdf', mass, mean, sigma, alpha, nCB)\n",
    "\n",
    "mean = rt.RooRealVar('mean', '#mu', m_B0, 3, 7, 'GeV')\n",
    "sigma = rt.RooRealVar('sigma', '#sigma', 0.03, 0.00005, 0.1, 'GeV')\n",
    "pAsym = rt.RooRealVar('pAsym', '#alpha', 0, -1, 1)\n",
    "rho1 = rt.RooRealVar('rho1', '#rho_{1}', 0, -10, 0)\n",
    "rho2 = rt.RooRealVar('rho2', '#rho_{2}', 0.5, 0, 10)\n",
    "pdf_sig = rt.RooBukinPdf('bukin','sig pdf', mass, mean, sigma, pAsym, rho1, rho2)\n",
    "\n",
    "\n",
    "nsig = rt.RooRealVar('nsig', 'N_{S}', 0.9*N_tot, 0, 100*N_tot)\n",
    "pdf_sig_ext = rt.RooExtendPdf('esig', 'esig', pdf_sig, nsig)"
   ]
  },
  {
   "cell_type": "code",
   "execution_count": null,
   "metadata": {
    "ExecuteTime": {
     "end_time": "2019-10-23T18:18:55.540273Z",
     "start_time": "2019-10-23T18:18:55.525410Z"
    },
    "hidden": true
   },
   "outputs": [],
   "source": [
    "data = rt.RooDataHist('d', 'data', rt.RooArgList(mass), h)\n",
    "\n",
    "pdf_tot = pdf_sig_ext\n",
    "fr = pdf_tot.fitTo(data, rf.PrintLevel(-1), rf.Save())\n",
    "\n",
    "dof = h.binning[0]-fr.floatParsFinal().getSize()\n",
    "chi2 = rt.RooChi2Var(\"chi2\", 'chi2', pdf_tot, data)\n",
    "pval = rt.ROOT.Math.chisquared_cdf_c(chi2.getVal(), dof)\n",
    "print 'chi2: {:.1f}/{:.0f} {:.3f}'.format(chi2.getVal(), dof, pval)"
   ]
  },
  {
   "cell_type": "code",
   "execution_count": null,
   "metadata": {
    "ExecuteTime": {
     "end_time": "2019-10-23T18:18:56.372121Z",
     "start_time": "2019-10-23T18:18:56.323975Z"
    },
    "hidden": true
   },
   "outputs": [],
   "source": [
    "frame = mass.frame(rf.Title(\"\"))\n",
    "data.plotOn(frame, rf.MarkerStyle(1), rf.DrawOption('E1'), rf.MarkerColor(h.GetLineColor()), rf.LineColor(h.GetLineColor()))\n",
    "pdf_tot.plotOn(frame, rf.LineColor(h.GetLineColor()), rf.LineWidth(2))\n",
    "\n",
    "pTxt = rt.TPaveText(h.GetBinCenter(1), 0.2*h.GetMaximum(), h.GetBinCenter(int(0.35*h.GetNbinsX())), h.GetMaximum())\n",
    "pTxt.SetBorderSize(0)\n",
    "pTxt.SetFillStyle(0)\n",
    "pTxt.SetTextAlign(11)\n",
    "pTxt.AddText('#chi^{{2}}: {:.1f}/{:.0f} ({:.2f})'.format(chi2.getVal(), dof, pval))\n",
    "pTxt.AddText('#mu = {:.1f} +/- {:.1f} MeV'.format(1e3*mean.getVal(), 1e3*mean.getError()))\n",
    "pTxt.AddText('#sigma = {:.1f} +/- {:.1f} MeV'.format(1e3*sigma.getVal(), 1e3*sigma.getError()))\n",
    "pTxt.AddText('#alpha = {:.3f} +/- {:.3f}'.format(pAsym.getVal(), pAsym.getError()))\n",
    "pTxt.AddText('#rho_{{1}} = {:.3f} +/- {:.3f}'.format(rho1.getVal(), rho1.getError()))\n",
    "pTxt.AddText('#rho_{{2}} = {:.3f} +/- {:.3f}'.format(rho2.getVal(), rho2.getError()))\n",
    "\n",
    "CMS_lumi.extraText = '     Simulation Preliminary'\n",
    "CMS_lumi.integrated_lumi = ''\n",
    "c = drawOnCMSCanvas(CMS_lumi, frame)\n",
    "cl.DrawLine(m_B0, 0, m_B0, h.GetMaximum());\n",
    "pTxt.Draw()"
   ]
  },
  {
   "cell_type": "markdown",
   "metadata": {},
   "source": [
    "# Compare"
   ]
  },
  {
   "cell_type": "code",
   "execution_count": 58,
   "metadata": {
    "ExecuteTime": {
     "end_time": "2019-10-25T23:53:33.159053Z",
     "start_time": "2019-10-25T23:53:33.142282Z"
    }
   },
   "outputs": [
    {
     "name": "stdout",
     "output_type": "stream",
     "text": [
      "3\n"
     ]
    }
   ],
   "source": [
    "globals()['ciao'] =  3\n",
    "print(ciao)"
   ]
  },
  {
   "cell_type": "code",
   "execution_count": 76,
   "metadata": {
    "ExecuteTime": {
     "end_time": "2019-10-26T00:06:37.622629Z",
     "start_time": "2019-10-26T00:06:35.816712Z"
    }
   },
   "outputs": [
    {
     "data": {
      "image/png": "[encoded data removed]",
      "text/plain": [
       "<IPython.core.display.Image object>"
      ]
     },
     "metadata": {},
     "output_type": "display_data"
    }
   ],
   "source": [
    "b=[30, 5.15, 5.4]\n",
    "hRD = create_TH1D(np.zeros(0), name='hRD',\n",
    "                title='',\n",
    "                axis_title=['m(#mu#mu#pi^{-}K^{+}) [GeV]', '1/#sigma d#sigma/dm / '+'({:.2f} GeV)'.format((b[2]-b[1])/b[0])],\n",
    "                binning=b\n",
    "               )\n",
    "treeRD_skimmed.Project('hRD', 'mass_mumupiK', 'L_nsig')\n",
    "hRD.Sumw2()\n",
    "hRD.Scale(1./hRD.Integral())\n",
    "hRD.SetMarkerStyle(15)\n",
    "\n",
    "colors = {'hard':rt.kRed, 'soft':rt.kBlue}\n",
    "for k in ['hard', 'soft']:\n",
    "    h = create_TH1D(np.zeros(0), name='hMC_'+k, \n",
    "                    title='',\n",
    "                    binning=hRD.binning)\n",
    "    globals()['treeMC_'+k].Project('hMC_'+k, 'mass_mumupiK', analysis_cuts_str)\n",
    "    h.Sumw2()\n",
    "    h.Scale(1./h.Integral())\n",
    "    h.SetLineColor(colors[k])\n",
    "    globals()['hMC_'+k] = h\n",
    "    \n",
    "leg = rt.TLegend(0.7, 0.7, 0.95,0.9)\n",
    "leg.AddEntry(hRD, 'Data', 'lep')\n",
    "leg.AddEntry(hMC_hard, 'Pythia Hard b#bar{b}', 'le')\n",
    "leg.AddEntry(hMC_soft, 'Pythia Soft QCD', 'le')\n",
    "\n",
    "CMS_lumi.extraText = '     Preliminary'\n",
    "CMS_lumi.integrated_lumi = lumi_tot\n",
    "c = drawOnCMSCanvas(CMS_lumi, [hRD, hMC_hard, hMC_soft], 'same')\n",
    "leg.Draw()"
   ]
  },
  {
   "cell_type": "code",
   "execution_count": 112,
   "metadata": {
    "ExecuteTime": {
     "end_time": "2019-10-26T01:16:05.161621Z",
     "start_time": "2019-10-26T01:16:03.320724Z"
    }
   },
   "outputs": [
    {
     "data": {
      "text/plain": [
       "<ROOT.TLegendEntry object (\"TLegendEntry\") at 0x7fa8c1d6beb0>"
      ]
     },
     "execution_count": 112,
     "metadata": {},
     "output_type": "execute_result"
    },
    {
     "data": {
      "image/png": "[encoded data removed]",
      "text/plain": [
       "<IPython.core.display.Image object>"
      ]
     },
     "metadata": {},
     "output_type": "display_data"
    }
   ],
   "source": [
    "b = [30, 9, 70.]\n",
    "hRD = create_TH1D(np.zeros(0), name='hRD',\n",
    "                title='data',\n",
    "                axis_title=['B_{0} p_{T} (reco) [GeV]', \n",
    "                            '1/#sigma d#sigma/dp_{T} / '+'({:.2f} GeV)'.format((b[2]-b[1])/b[0])],\n",
    "                binning=b,\n",
    "                opt='overflow+underflow'\n",
    "               )\n",
    "treeRD_skimmed.Project('hRD', 'B_pt', 'nsig_sw')\n",
    "hRD.Sumw2()\n",
    "hRD.Scale(1./hRD.Integral())\n",
    "hRD.SetMarkerStyle(15)\n",
    "\n",
    "for k in ['hard', 'soft']:\n",
    "    h = create_TH1D(np.zeros(0), name='hMC_'+k, binning=hRD.binning, opt='overflow+underflow')\n",
    "    globals()['treeMC_'+k].Project('hMC_'+k, 'B_mumupiK_pt', analysis_cuts_str)\n",
    "    h.Sumw2()\n",
    "    h.Scale(1./h.Integral())\n",
    "    h.SetLineColor(colors[k])\n",
    "    globals()['hMC_'+k] = h\n",
    "hMC_hard.SetTitle('Pythia Hard b#bar{b}')\n",
    "hMC_soft.SetTitle('Pythia Soft QCD')\n",
    "\n",
    "CMS_lumi.extraText = '      Preliminary'\n",
    "c = make_ratio_plot([hRD, hMC_hard, hMC_soft], ratio_bounds=[0.2, 15], draw_opt='E1')\n",
    "CMS_lumi.CMS_lumi(c, -1, 0)\n",
    "c.pad1.SetTopMargin(0.07)\n",
    "c.pad1.SetRightMargin(0.035)\n",
    "c.pad2.SetRightMargin(0.035)\n",
    "c.pad2.SetLogy()\n",
    "c.leg.SetY2(0.9)\n",
    "c.leg.SetY1(0.6)\n",
    "c.leg.SetX1(0.6)\n",
    "c.Draw()\n",
    "\n",
    "c.pad1.cd()\n",
    "arr = np.loadtxt('../data/cmsRD/CMS-AN2014-129_B0_pT_datathief.txt', delimiter=',')\n",
    "integral = np.trapz(arr[:,1], arr[:,0])\n",
    "arr[:, 1] *= float((b[2]-b[1])/b[0])/integral\n",
    "\n",
    "gr_AN14_129 = rt.TGraph(arr.shape[0])\n",
    "for i, (x, y) in enumerate(zip(arr[:,0], arr[:,1])):\n",
    "    gr_AN14_129.SetPoint(i, x, y)\n",
    "gr_AN14_129.SetMarkerColor(8)\n",
    "gr_AN14_129.SetMarkerStyle(20)\n",
    "gr_AN14_129.Draw('P')\n",
    "c.leg.AddEntry(gr_AN14_129, 'AN2014-129', 'p')"
   ]
  }
 ],
 "metadata": {
  "kernelspec": {
   "display_name": "Python 2",
   "language": "python",
   "name": "python2"
  },
  "language_info": {
   "codemirror_mode": {
    "name": "ipython",
    "version": 2
   },
   "file_extension": ".py",
   "mimetype": "text/x-python",
   "name": "python",
   "nbconvert_exporter": "python",
   "pygments_lexer": "ipython2",
   "version": "2.7.14"
  }
 },
 "nbformat": 4,
 "nbformat_minor": 2
}
