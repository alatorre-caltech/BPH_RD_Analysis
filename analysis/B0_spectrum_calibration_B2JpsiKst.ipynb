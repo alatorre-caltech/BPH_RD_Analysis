{
 "cells": [
  {
   "cell_type": "code",
   "execution_count": 1,
   "metadata": {
    "ExecuteTime": {
     "end_time": "2019-10-19T01:01:12.072356Z",
     "start_time": "2019-10-19T01:01:09.906405Z"
    }
   },
   "outputs": [
    {
     "name": "stdout",
     "output_type": "stream",
     "text": [
      "Welcome to JupyROOT 6.10/08\n"
     ]
    }
   ],
   "source": [
    "import numpy as np\n",
    "import scipy.stats as sps\n",
    "from glob import glob\n",
    "import matplotlib.pyplot as plt\n",
    "import uproot as ur\n",
    "import ROOT as rt\n",
    "import ROOT.RooFit as rf\n",
    "from scipy.special import erf\n",
    "import sys, os\n",
    "sys.path.append('../lib')\n",
    "from histo_utilities import create_TH1D, create_TH2D, std_color_list, SetMaxToMaxHist, make_ratio_plot\n",
    "from cebefo_style import Set_2D_colz_graphics\n",
    "from progressBar import ProgressBar\n",
    "\n",
    "from analysis_utilities import drawOnCMSCanvas, extarct, extarct_multiple, createSel\n",
    "from lumi_utilities import getLumiReport\n",
    "\n",
    "import CMS_lumi, tdrstyle\n",
    "tdrstyle.setTDRStyle()\n",
    "CMS_lumi.writeExtraText = 1\n",
    "CMS_lumi.extraText = \"     Preliminary\"\n",
    "\n",
    "donotdelete = []"
   ]
  },
  {
   "cell_type": "code",
   "execution_count": 2,
   "metadata": {
    "ExecuteTime": {
     "end_time": "2019-10-19T01:01:12.107864Z",
     "start_time": "2019-10-19T01:01:12.076361Z"
    }
   },
   "outputs": [],
   "source": [
    "rt.gErrorIgnoreLevel = rt.kError\n",
    "rt.RooMsgService.instance().setGlobalKillBelow(rt.RooFit.ERROR)"
   ]
  },
  {
   "cell_type": "code",
   "execution_count": 3,
   "metadata": {
    "ExecuteTime": {
     "end_time": "2019-10-19T01:01:12.126820Z",
     "start_time": "2019-10-19T01:01:12.112003Z"
    }
   },
   "outputs": [
    {
     "name": "stdout",
     "output_type": "stream",
     "text": [
      "1.86483\n",
      "2.01026\n",
      "5.27963\n",
      "mD* - mD0 = 0.14543\n"
     ]
    }
   ],
   "source": [
    "m_D0 = 1.86483 #1e-3*Particle.from_string('D0').mass\n",
    "print m_D0\n",
    "m_Dst = 2.01026 #1e-3*Particle.from_string('D*+').mass\n",
    "print m_Dst\n",
    "m_B0 = 5.27963 #1e-3*Particle.from_string('B0').mass\n",
    "print m_B0\n",
    "m_pi = 0.13957018 #1e-3*Particle.from_string('pi+').mass\n",
    "print 'mD* - mD0 =', m_Dst - m_D0"
   ]
  },
  {
   "cell_type": "code",
   "execution_count": 4,
   "metadata": {
    "ExecuteTime": {
     "end_time": "2019-10-19T01:01:12.151794Z",
     "start_time": "2019-10-19T01:01:12.130501Z"
    }
   },
   "outputs": [],
   "source": [
    "cl = rt.TLine()\n",
    "cl.SetLineColor(6)\n",
    "cl.SetLineStyle(9)\n",
    "cl.SetLineWidth(2)"
   ]
  },
  {
   "cell_type": "markdown",
   "metadata": {},
   "source": [
    "# Cuts declaration"
   ]
  },
  {
   "cell_type": "code",
   "execution_count": 5,
   "metadata": {
    "ExecuteTime": {
     "end_time": "2019-10-19T01:01:12.171686Z",
     "start_time": "2019-10-19T01:01:12.156141Z"
    }
   },
   "outputs": [],
   "source": [
    "analysis_cuts = [\n",
    " 'mass_mumu < 3.174',\n",
    " 'mass_mumu > 3.013',\n",
    " 'mass_piK > 0.82',\n",
    " 'mass_piK < 0.96',\n",
    " 'mum_pt > 3.5',\n",
    " 'mup_pt > 3.5',\n",
    " 'Jpsi_pt > 6.9',\n",
    " 'pval_mumu > 0.1',\n",
    " 'mum_eta > -2.2',\n",
    " 'mup_eta > -2.2',\n",
    " 'mum_eta < 2.2',\n",
    " 'mup_eta < 2.2',\n",
    " 'cosT_Jpsi_PV > 0.95',\n",
    " 'mum_dxy < 3',\n",
    " 'mup_dxy < 3',\n",
    " 'pval_piK > 0.1',\n",
    " 'fabs(mass_piK - 0.892) < fabs(mass_piK_CPconj - 0.892)',\n",
    " 'mass_KK > 1.035',\n",
    " 'K_sigdxy_PV > 2',\n",
    " 'pi_sigdxy_PV > 2',\n",
    " 'sigdxy_vtxKst_PV > 5',\n",
    " 'K_pt > 0.8',\n",
    " 'pval_mumupiK > 0.1',\n",
    " 'pi_pt > 0.8',\n",
    " 'mass_mumupiK > 5.02',\n",
    " 'mass_mumupiK < 5.55'\n",
    "]\n",
    "analysis_cuts_str = ' && '.join(analysis_cuts)"
   ]
  },
  {
   "cell_type": "markdown",
   "metadata": {},
   "source": [
    "# Load data"
   ]
  },
  {
   "cell_type": "code",
   "execution_count": 6,
   "metadata": {
    "ExecuteTime": {
     "end_time": "2019-10-19T01:01:12.191608Z",
     "start_time": "2019-10-19T01:01:12.175843Z"
    }
   },
   "outputs": [],
   "source": [
    "dataDir = '../data/cmsRD'\n",
    "datasets_loc = []\n",
    "# datasets_loc += glob(dataDir + '/ParkingBPH[12]/*B2JpsiKst_191002*')\n",
    "# datasets_loc += glob(dataDir + '/ParkingBPH3/*B2JpsiKst_191003*')\n",
    "\n",
    "datasets_loc += glob(dataDir + '/ParkingBPH1/*2018D-*B2JpsiKst_191017*')"
   ]
  },
  {
   "cell_type": "code",
   "execution_count": 7,
   "metadata": {
    "ExecuteTime": {
     "end_time": "2019-10-19T01:01:12.210284Z",
     "start_time": "2019-10-19T01:01:12.194486Z"
    }
   },
   "outputs": [
    {
     "name": "stdout",
     "output_type": "stream",
     "text": [
      "Lumi tot: 5.3 fb^-1\n",
      "Lumi analyzed: 12.8%\n"
     ]
    }
   ],
   "source": [
    "lumi_tot, lumi_dic = getLumiReport(datasets_loc)\n",
    "CMS_lumi.integrated_lumi = lumi_tot"
   ]
  },
  {
   "cell_type": "code",
   "execution_count": 8,
   "metadata": {
    "ExecuteTime": {
     "end_time": "2019-10-19T01:01:32.365816Z",
     "start_time": "2019-10-19T01:01:12.214487Z"
    }
   },
   "outputs": [
    {
     "name": "stdout",
     "output_type": "stream",
     "text": [
      "N evts: 19863\n"
     ]
    }
   ],
   "source": [
    "treeRD = rt.TChain('outA/Tevts')\n",
    "for floc in datasets_loc:\n",
    "   treeRD.Add(floc)\n",
    "print 'N evts: {:.0f}'.format(treeRD.GetEntries(analysis_cuts_str))"
   ]
  },
  {
   "cell_type": "markdown",
   "metadata": {},
   "source": [
    "# Load MC"
   ]
  },
  {
   "cell_type": "code",
   "execution_count": 9,
   "metadata": {
    "ExecuteTime": {
     "end_time": "2019-10-19T01:01:32.386498Z",
     "start_time": "2019-10-19T01:01:32.369792Z"
    }
   },
   "outputs": [],
   "source": [
    "mcDir = '../data/cmsMC_private'\n",
    "mcsets_loc = []\n",
    "mcsets_loc += glob(mcDir + '/BPH_Tag-Probe_B0_JpsiKst-mumuKpi-kp_13TeV-pythia8_Hardbbbar_PTFilter5_0p0-evtgen_SVV_PU20_10-2-3/jobs_B2JpsiKst/out_CAND*.root')"
   ]
  },
  {
   "cell_type": "code",
   "execution_count": 10,
   "metadata": {
    "ExecuteTime": {
     "end_time": "2019-10-19T01:01:32.830563Z",
     "start_time": "2019-10-19T01:01:32.390916Z"
    }
   },
   "outputs": [
    {
     "name": "stdout",
     "output_type": "stream",
     "text": [
      "N evts: 11813\n"
     ]
    }
   ],
   "source": [
    "treeMC = rt.TChain('outA/Tevts')\n",
    "for floc in mcsets_loc:\n",
    "   treeMC.Add(floc)\n",
    "print 'N evts: {:.0f}'.format(treeMC.GetEntries(analysis_cuts_str))"
   ]
  },
  {
   "cell_type": "markdown",
   "metadata": {},
   "source": [
    "# Analyze data"
   ]
  },
  {
   "cell_type": "code",
   "execution_count": 11,
   "metadata": {
    "ExecuteTime": {
     "end_time": "2019-10-19T01:01:53.367497Z",
     "start_time": "2019-10-19T01:01:32.834539Z"
    }
   },
   "outputs": [],
   "source": [
    "h = create_TH1D(np.zeros(0), name='h',\n",
    "                title='',\n",
    "                axis_title=['m(#mu#mu#pi^{-}K^{+}) [GeV]', 'Events'],\n",
    "                binning=[30, 5.02, 5.55]\n",
    "               )\n",
    "treeRD.Project('h', 'mass_mumupiK', analysis_cuts_str)\n",
    "h.Sumw2()"
   ]
  },
  {
   "cell_type": "code",
   "execution_count": 12,
   "metadata": {
    "ExecuteTime": {
     "end_time": "2019-10-19T01:01:53.388251Z",
     "start_time": "2019-10-19T01:01:53.371218Z"
    }
   },
   "outputs": [
    {
     "name": "stdout",
     "output_type": "stream",
     "text": [
      "19895.0\n",
      "19895.0\n"
     ]
    }
   ],
   "source": [
    "N_tot = h.Integral(1, h.binning[0])\n",
    "print N_tot\n",
    "print h.Integral()"
   ]
  },
  {
   "cell_type": "code",
   "execution_count": 84,
   "metadata": {
    "ExecuteTime": {
     "end_time": "2019-10-19T01:21:50.315763Z",
     "start_time": "2019-10-19T01:21:50.301287Z"
    }
   },
   "outputs": [],
   "source": [
    "mass = rt.RooRealVar('mass_mumupiK', 'm_{#mu#mu#piK}', h.binning[1], h.binning[2], 'GeV')\n",
    "\n",
    "# mean = rt.RooRealVar('mean', 'm_{B}', m_B0, 3, 7, 'GeV')\n",
    "# sigma = rt.RooRealVar('sigma', '#sigma', 0.02, 0.00005, 0.1, 'GeV') \n",
    "# pdf_sig = rt.RooGaussian('gaus','sig pdf', mass, mean, sigma)\n",
    "\n",
    "# mean = rt.RooRealVar('mean', 'm_{B}', m_B0, 3, 7, 'GeV')\n",
    "# sigma = rt.RooRealVar('sigma', '#sigma', 0.03, 0.00005, 0.1, 'GeV')\n",
    "# alpha = rt.RooRealVar('alpha', '#alpha', 2, -5, 5, 'GeV')\n",
    "# nCB = rt.RooRealVar('nCB', 'n_{CB}', 2, -10, 10, 'GeV')\n",
    "# pdf_sig = rt.RooCBShape('gaus','sig pdf', mass, mean, sigma, alpha, nCB)\n",
    "\n",
    "mean = rt.RooRealVar('mean', '#mu', m_B0, 3, 7, 'GeV')\n",
    "sigma = rt.RooRealVar('sigma', '#sigma', 0.03, 0.00005, 0.1, 'GeV')\n",
    "pAsym = rt.RooRealVar('pAsym', '#alpha', 0, -1, 1)\n",
    "pAsym.setConstant(rt.kTRUE)\n",
    "rho1 = rt.RooRealVar('rho1', '#rho_{1}', 0, -10, 0)\n",
    "rho1.setConstant(rt.kTRUE)\n",
    "rho2 = rt.RooRealVar('rho2', '#rho_{2}', 0.5, 0, 10)\n",
    "pdf_sig = rt.RooBukinPdf('bukin','sig pdf', mass, mean, sigma, pAsym, rho1, rho2)\n",
    "\n",
    "\n",
    "nsig = rt.RooRealVar('nsig', 'N_{S}', 0.9*N_tot, 0, 100*N_tot)\n",
    "pdf_sig_ext = rt.RooExtendPdf('esig', 'esig', pdf_sig, nsig)"
   ]
  },
  {
   "cell_type": "code",
   "execution_count": 85,
   "metadata": {
    "ExecuteTime": {
     "end_time": "2019-10-19T01:21:50.772817Z",
     "start_time": "2019-10-19T01:21:50.764951Z"
    }
   },
   "outputs": [],
   "source": [
    "lam = rt.RooRealVar('lam', '#lambda', -2.1, -100, -0.1, 'GeV^{-1}')\n",
    "pdf_bkg = rt.RooExponential('expo', 'bkg pdf', mass, lam)\n",
    "\n",
    "# a0 = rt.RooRealVar('a0', 'a0', 10, 0, 100)\n",
    "# a1 = rt.RooRealVar('a1', 'a1', 0.1, -10, 1000)\n",
    "# a2 = rt.RooRealVar('a2', 'a2', 0.1, -100, 1000)\n",
    "# pdf_bkg = rt.RooPolynomial('poly', 'bkg pdf', mass, rt.RooArgList(a1, a2), 1)\n",
    "\n",
    "nbkg = rt.RooRealVar('nbkg', 'N_{B}', 0.1*N_tot, 0, 100*N_tot)\n",
    "pdf_bkg_ext = rt.RooExtendPdf('ebkg', 'ebkg', pdf_bkg, nbkg)"
   ]
  },
  {
   "cell_type": "code",
   "execution_count": 86,
   "metadata": {
    "ExecuteTime": {
     "end_time": "2019-10-19T01:21:51.172822Z",
     "start_time": "2019-10-19T01:21:51.140686Z"
    }
   },
   "outputs": [
    {
     "name": "stdout",
     "output_type": "stream",
     "text": [
      "chi2: 35.5/24 0.061\n",
      "Total: Nsig = 14622, Nbkg = 5273\n"
     ]
    }
   ],
   "source": [
    "data = rt.RooDataHist('d', 'data', rt.RooArgList(mass), h)\n",
    "\n",
    "pdf_tot = rt.RooAddPdf('pdftot', 'pdftot', rt.RooArgList(pdf_sig_ext, pdf_bkg_ext))\n",
    "fr = pdf_tot.fitTo(data, rf.PrintLevel(-1), rf.Save())\n",
    "\n",
    "dof = h.binning[0]-fr.floatParsFinal().getSize()\n",
    "chi2 = rt.RooChi2Var(\"chi2\", 'chi2', pdf_tot, data)\n",
    "pval = rt.ROOT.Math.chisquared_cdf_c(chi2.getVal(), dof)\n",
    "print 'chi2: {:.1f}/{:.0f} {:.3f}'.format(chi2.getVal(), dof, pval)\n",
    "\n",
    "print 'Total: Nsig = {:.0f}, Nbkg = {:.0f}'.format(nsig.getVal(), nbkg.getVal())"
   ]
  },
  {
   "cell_type": "code",
   "execution_count": 87,
   "metadata": {
    "ExecuteTime": {
     "end_time": "2019-10-19T01:21:51.644068Z",
     "start_time": "2019-10-19T01:21:51.596741Z"
    },
    "scrolled": false
   },
   "outputs": [
    {
     "data": {
      "image/png": "[encoded data removed]",
      "text/plain": [
       "<IPython.core.display.Image object>"
      ]
     },
     "metadata": {},
     "output_type": "display_data"
    }
   ],
   "source": [
    "frame = mass.frame(rf.Title(\"\"))\n",
    "data.plotOn(frame, rf.MarkerStyle(1), rf.DrawOption('E1'), rf.MarkerColor(h.GetLineColor()), rf.LineColor(h.GetLineColor()))\n",
    "pdf_tot.plotOn(frame, rf.LineColor(h.GetLineColor()), rf.LineWidth(2))\n",
    "pdf_tot.plotOn(frame, rf.Components('ebkg'), rf.LineColor(rt.kRed), rf.LineWidth(2), rf.LineStyle(7))\n",
    "pdf_tot.plotOn(frame, rf.Components('esig'), rf.LineColor(rt.kBlue), rf.LineWidth(2), rf.LineStyle(7))\n",
    "\n",
    "pTxt = rt.TPaveText(5.05, 1000, 5.2, 3000)\n",
    "pTxt.SetBorderSize(0)\n",
    "pTxt.SetFillStyle(0)\n",
    "pTxt.SetTextAlign(11)\n",
    "pTxt.AddText('#chi^{{2}}: {:.1f}/{:.0f} ({:.2f})'.format(chi2.getVal(), dof, pval))\n",
    "pTxt.AddText('#mu = {:.1f} +/- {:.1f} MeV'.format(1e3*mean.getVal(), 1e3*mean.getError()))\n",
    "pTxt.AddText('#sigma = {:.1f} +/- {:.1f} MeV'.format(1e3*sigma.getVal(), 1e3*sigma.getError()))\n",
    "pTxt.AddText('#alpha = {:.3f} +/- {:.3f}'.format(pAsym.getVal(), pAsym.getError()))\n",
    "pTxt.AddText('#rho_{{1}} = {:.3f} +/- {:.3f}'.format(rho1.getVal(), rho1.getError()))\n",
    "pTxt.AddText('#rho_{{2}} = {:.3f} +/- {:.3f}'.format(rho2.getVal(), rho2.getError()))\n",
    "\n",
    "c = drawOnCMSCanvas(CMS_lumi, frame)\n",
    "cl.DrawLine(m_B0, 0, m_B0, h.GetMaximum());\n",
    "pTxt.Draw()"
   ]
  },
  {
   "cell_type": "code",
   "execution_count": null,
   "metadata": {
    "ExecuteTime": {
     "end_time": "2019-10-18T22:59:16.319670Z",
     "start_time": "2019-10-18T22:59:16.279130Z"
    },
    "code_folding": []
   },
   "outputs": [],
   "source": [
    "output = []\n",
    "N_accepted_cand = []\n",
    "\n",
    "import operator\n",
    "ops = {'>': operator.gt, '<': operator.lt, }\n",
    "\n",
    "pb = ProgressBar(maxEntry=tree.GetEntries())\n",
    "for i_ev, ev in enumerate(tree):\n",
    "    pb.show(i_ev)\n",
    "    N_acc = 0\n",
    "    for j in range(ev.pval_mumupiK.size()):\n",
    "        accept = abs(ev.mass_piK[j] - 0.892) < abs(ev.mass_piK_CPconj[j] - 0.892)\n",
    "        for c_str in analysis_cuts:\n",
    "            if c_str == 'fabs(mass_piK - 0.892) < fabs(mass_piK_CPconj - 0.892)': continue\n",
    "            if not accept:\n",
    "                break\n",
    "            aux = c_str.split(' ')\n",
    "            if len(aux) != 3:\n",
    "                raise\n",
    "            x = getattr(ev, aux[0])[j]\n",
    "            accept = ops[aux[1]](x, float(aux[2]))\n",
    "        if accept:\n",
    "            N_acc += 1\n",
    "            output.append((ev.mass_mumupiK[j], ev.B_mumupiK_pt[j], ev.B_mumupiK_eta[j]))\n",
    "    if N_acc > 0:\n",
    "        N_accepted_cand.append(N_acc)\n",
    "\n",
    "print len(output)\n",
    "dic = {i:N_accepted_cand.count(i) for i in range(1, np.max(N_accepted_cand)+1)}\n",
    "print dic"
   ]
  },
  {
   "cell_type": "code",
   "execution_count": null,
   "metadata": {
    "ExecuteTime": {
     "end_time": "2019-10-18T21:39:54.136220Z",
     "start_time": "2019-10-18T21:39:54.107800Z"
    }
   },
   "outputs": [],
   "source": [
    "import root_numpy as rtnp\n",
    "dtypes = [('mass_mumupiK', np.float32), ('B_pt', np.float32), ('B_eta', np.float32)]\n",
    "a = np.array(output, dtype=dtypes)\n",
    "skimmed_tree = rtnp.array2tree(a)\n",
    "rtnp.array2root(a, '../data/cmsRD/skimmed/B2JpsiKst.root', treename='Tevts', mode='RECREATE')"
   ]
  },
  {
   "cell_type": "code",
   "execution_count": null,
   "metadata": {
    "ExecuteTime": {
     "end_time": "2019-10-18T21:39:54.196812Z",
     "start_time": "2019-10-18T21:39:54.140582Z"
    }
   },
   "outputs": [],
   "source": [
    "v_B_pt = rt.RooRealVar('B_pt', 'p_{T}^{(B)}', 0, 500, 'GeV')\n",
    "v_B_eta = rt.RooRealVar('B_eta', '#eta^{(B)}', -3, 3, 'GeV')\n",
    "\n",
    "rt.RooAbsData.setDefaultStorageType(rt.RooAbsData.Tree)\n",
    "ds = rt.RooDataSet('ds', 'ds', skimmed_tree, rt.RooArgSet(mass, v_B_eta, v_B_pt))#, v_B_eta))"
   ]
  },
  {
   "cell_type": "code",
   "execution_count": null,
   "metadata": {
    "ExecuteTime": {
     "end_time": "2019-10-18T21:39:54.216493Z",
     "start_time": "2019-10-18T21:39:54.200971Z"
    }
   },
   "outputs": [],
   "source": [
    "# fr = mass.frame(rf.Title(\"\"))\n",
    "# # fr = v_B_pt.frame(rf.Title(\"\"))\n",
    "# # fr = v_B_eta.frame(rf.Title(\"\"))\n",
    "\n",
    "# ds.plotOn(fr)\n",
    "# c = drawOnCMSCanvas(CMS_lumi, fr)"
   ]
  },
  {
   "cell_type": "code",
   "execution_count": null,
   "metadata": {
    "ExecuteTime": {
     "end_time": "2019-10-18T21:39:54.559304Z",
     "start_time": "2019-10-18T21:39:54.220520Z"
    }
   },
   "outputs": [],
   "source": [
    "sData = rt.RooStats.SPlot('sData', 'sData', ds, pdf_tot, rt.RooArgList(nsig, nbkg))"
   ]
  },
  {
   "cell_type": "code",
   "execution_count": null,
   "metadata": {
    "ExecuteTime": {
     "end_time": "2019-10-18T21:39:54.635918Z",
     "start_time": "2019-10-18T21:39:54.563319Z"
    }
   },
   "outputs": [],
   "source": [
    "t = ds.tree()\n",
    "f_sw = rt.TFile('../data/cmsRD/skimmed/B2JpsiKst.root', 'RECREATE')\n",
    "t.Write()\n",
    "f_sw.Close()"
   ]
  },
  {
   "cell_type": "markdown",
   "metadata": {},
   "source": [
    "# Analyze MC"
   ]
  },
  {
   "cell_type": "code",
   "execution_count": 88,
   "metadata": {
    "ExecuteTime": {
     "end_time": "2019-10-19T01:24:26.979538Z",
     "start_time": "2019-10-19T01:24:26.631923Z"
    }
   },
   "outputs": [],
   "source": [
    "h = create_TH1D(np.zeros(0), name='h',\n",
    "                title='',\n",
    "                axis_title=['m(#mu#mu#pi^{-}K^{+}) [GeV]', 'Events'],\n",
    "                binning=[30, 5.02, 5.55]\n",
    "               )\n",
    "treeMC.Project('h', 'mass_mumupiK', analysis_cuts_str)\n",
    "h.Sumw2()"
   ]
  },
  {
   "cell_type": "code",
   "execution_count": 89,
   "metadata": {
    "ExecuteTime": {
     "end_time": "2019-10-19T01:24:37.599630Z",
     "start_time": "2019-10-19T01:24:37.584177Z"
    }
   },
   "outputs": [
    {
     "name": "stdout",
     "output_type": "stream",
     "text": [
      "11874.0\n",
      "11874.0\n"
     ]
    }
   ],
   "source": [
    "N_tot = h.Integral(1, h.binning[0])\n",
    "print N_tot\n",
    "print h.Integral()"
   ]
  },
  {
   "cell_type": "code",
   "execution_count": 90,
   "metadata": {
    "ExecuteTime": {
     "end_time": "2019-10-19T01:24:57.791527Z",
     "start_time": "2019-10-19T01:24:57.776681Z"
    }
   },
   "outputs": [],
   "source": [
    "mass = rt.RooRealVar('mass_mumupiK', 'm_{#mu#mu#piK}', h.binning[1], h.binning[2], 'GeV')\n",
    "\n",
    "# mean = rt.RooRealVar('mean', 'm_{B}', m_B0, 3, 7, 'GeV')\n",
    "# sigma = rt.RooRealVar('sigma', '#sigma', 0.02, 0.00005, 0.1, 'GeV') \n",
    "# pdf_sig = rt.RooGaussian('gaus','sig pdf', mass, mean, sigma)\n",
    "\n",
    "# mean = rt.RooRealVar('mean', 'm_{B}', m_B0, 3, 7, 'GeV')\n",
    "# sigma = rt.RooRealVar('sigma', '#sigma', 0.03, 0.00005, 0.1, 'GeV')\n",
    "# alpha = rt.RooRealVar('alpha', '#alpha', 2, -5, 5, 'GeV')\n",
    "# nCB = rt.RooRealVar('nCB', 'n_{CB}', 2, -10, 10, 'GeV')\n",
    "# pdf_sig = rt.RooCBShape('gaus','sig pdf', mass, mean, sigma, alpha, nCB)\n",
    "\n",
    "mean = rt.RooRealVar('mean', '#mu', m_B0, 3, 7, 'GeV')\n",
    "sigma = rt.RooRealVar('sigma', '#sigma', 0.03, 0.00005, 0.1, 'GeV')\n",
    "pAsym = rt.RooRealVar('pAsym', '#alpha', 0, -1, 1)\n",
    "pAsym.setConstant(rt.kTRUE)\n",
    "rho1 = rt.RooRealVar('rho1', '#rho_{1}', 0, -10, 0)\n",
    "rho1.setConstant(rt.kTRUE)\n",
    "rho2 = rt.RooRealVar('rho2', '#rho_{2}', 0.5, 0, 10)\n",
    "pdf_sig = rt.RooBukinPdf('bukin','sig pdf', mass, mean, sigma, pAsym, rho1, rho2)\n",
    "\n",
    "\n",
    "nsig = rt.RooRealVar('nsig', 'N_{S}', 0.9*N_tot, 0, 100*N_tot)\n",
    "pdf_sig_ext = rt.RooExtendPdf('esig', 'esig', pdf_sig, nsig)"
   ]
  },
  {
   "cell_type": "code",
   "execution_count": 91,
   "metadata": {
    "ExecuteTime": {
     "end_time": "2019-10-19T01:25:35.180936Z",
     "start_time": "2019-10-19T01:25:35.085553Z"
    }
   },
   "outputs": [
    {
     "name": "stdout",
     "output_type": "stream",
     "text": [
      "chi2: 0.0/26 1.000\n",
      "Total: Nsig = 11874, Nbkg = 5273\n",
      "[#0] ERROR:Eval -- RooChi2Var::RooChi2Var(chi2) INFINITY ERROR: bin 1 has zero error\n"
     ]
    }
   ],
   "source": [
    "data = rt.RooDataHist('d', 'data', rt.RooArgList(mass), h)\n",
    "\n",
    "pdf_tot = pdf_sig_ext\n",
    "fr = pdf_tot.fitTo(data, rf.PrintLevel(-1), rf.Save())\n",
    "\n",
    "dof = h.binning[0]-fr.floatParsFinal().getSize()\n",
    "chi2 = rt.RooChi2Var(\"chi2\", 'chi2', pdf_tot, data)\n",
    "pval = rt.ROOT.Math.chisquared_cdf_c(chi2.getVal(), dof)\n",
    "print 'chi2: {:.1f}/{:.0f} {:.3f}'.format(chi2.getVal(), dof, pval)\n",
    "\n",
    "print 'Total: Nsig = {:.0f}, Nbkg = {:.0f}'.format(nsig.getVal(), nbkg.getVal())"
   ]
  },
  {
   "cell_type": "code",
   "execution_count": 92,
   "metadata": {
    "ExecuteTime": {
     "end_time": "2019-10-19T01:26:06.128822Z",
     "start_time": "2019-10-19T01:26:06.081938Z"
    }
   },
   "outputs": [
    {
     "name": "stdout",
     "output_type": "stream",
     "text": [
      "[#0] ERROR:Plotting -- RooAbsPdf::plotOn(esig) ERROR: component selection expression 'ebkg' does not select any components of p.d.f.\n"
     ]
    },
    {
     "data": {
      "image/png": "[encoded data removed]",
      "text/plain": [
       "<IPython.core.display.Image object>"
      ]
     },
     "metadata": {},
     "output_type": "display_data"
    }
   ],
   "source": [
    "frame = mass.frame(rf.Title(\"\"))\n",
    "data.plotOn(frame, rf.MarkerStyle(1), rf.DrawOption('E1'), rf.MarkerColor(h.GetLineColor()), rf.LineColor(h.GetLineColor()))\n",
    "pdf_tot.plotOn(frame, rf.LineColor(h.GetLineColor()), rf.LineWidth(2))\n",
    "pdf_tot.plotOn(frame, rf.Components('ebkg'), rf.LineColor(rt.kRed), rf.LineWidth(2), rf.LineStyle(7))\n",
    "pdf_tot.plotOn(frame, rf.Components('esig'), rf.LineColor(rt.kBlue), rf.LineWidth(2), rf.LineStyle(7))\n",
    "\n",
    "pTxt = rt.TPaveText(5.05, 1000, 5.2, 3000)\n",
    "pTxt.SetBorderSize(0)\n",
    "pTxt.SetFillStyle(0)\n",
    "pTxt.SetTextAlign(11)\n",
    "pTxt.AddText('#chi^{{2}}: {:.1f}/{:.0f} ({:.2f})'.format(chi2.getVal(), dof, pval))\n",
    "pTxt.AddText('#mu = {:.1f} +/- {:.1f} MeV'.format(1e3*mean.getVal(), 1e3*mean.getError()))\n",
    "pTxt.AddText('#sigma = {:.1f} +/- {:.1f} MeV'.format(1e3*sigma.getVal(), 1e3*sigma.getError()))\n",
    "pTxt.AddText('#alpha = {:.3f} +/- {:.3f}'.format(pAsym.getVal(), pAsym.getError()))\n",
    "pTxt.AddText('#rho_{{1}} = {:.3f} +/- {:.3f}'.format(rho1.getVal(), rho1.getError()))\n",
    "pTxt.AddText('#rho_{{2}} = {:.3f} +/- {:.3f}'.format(rho2.getVal(), rho2.getError()))\n",
    "\n",
    "c = drawOnCMSCanvas(CMS_lumi, frame)\n",
    "cl.DrawLine(m_B0, 0, m_B0, h.GetMaximum());\n",
    "pTxt.Draw()"
   ]
  },
  {
   "cell_type": "markdown",
   "metadata": {},
   "source": [
    "# Compare"
   ]
  },
  {
   "cell_type": "code",
   "execution_count": null,
   "metadata": {},
   "outputs": [],
   "source": []
  }
 ],
 "metadata": {
  "kernelspec": {
   "display_name": "Python 2",
   "language": "python",
   "name": "python2"
  },
  "language_info": {
   "codemirror_mode": {
    "name": "ipython",
    "version": 2
   },
   "file_extension": ".py",
   "mimetype": "text/x-python",
   "name": "python",
   "nbconvert_exporter": "python",
   "pygments_lexer": "ipython2",
   "version": "2.7.14"
  }
 },
 "nbformat": 4,
 "nbformat_minor": 2
}
